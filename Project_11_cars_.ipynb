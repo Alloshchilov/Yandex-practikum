{
 "cells": [
  {
   "cell_type": "markdown",
   "metadata": {},
   "source": [
    "# Определение стоимости автомобилей"
   ]
  },
  {
   "cell_type": "markdown",
   "metadata": {},
   "source": [
    "Сервис по продаже автомобилей с пробегом «Не бит, не крашен» разрабатывает приложение для привлечения новых клиентов. В нём можно быстро узнать рыночную стоимость своего автомобиля. В вашем распоряжении исторические данные: технические характеристики, комплектации и цены автомобилей. Вам нужно построить модель для определения стоимости. \n",
    "\n",
    "Заказчику важны:\n",
    "\n",
    "- качество предсказания;\n",
    "- скорость предсказания;\n",
    "- время обучения.\n",
    "\n",
    "В рамках задания будут выполнены следующие действия:\n",
    " \n",
    "Загрузка и предобработка данных.\n",
    "\n",
    "Сравнение моделей с использованием различных наборов гиперпараметров.\n",
    "\n",
    "Выбор лучшей модели по результатам метрики RMSE и времени обучения."
   ]
  },
  {
   "cell_type": "markdown",
   "metadata": {},
   "source": [
    "## Подготовка данных"
   ]
  },
  {
   "cell_type": "code",
   "execution_count": 1,
   "metadata": {},
   "outputs": [],
   "source": [
    "#Загрузим необходимые библиотеки\n",
    "import matplotlib.pyplot as plt\n",
    "import seaborn as sns\n",
    "import numpy as np\n",
    "import pandas as pd\n",
    "from time import time\n",
    "import warnings\n",
    "from sklearn.model_selection import train_test_split\n",
    "from sklearn.preprocessing import StandardScaler\n",
    "from sklearn.metrics import mean_squared_error\n",
    "from sklearn.preprocessing import OrdinalEncoder\n",
    "from sklearn.linear_model import LinearRegression\n",
    "from catboost import Pool, CatBoostRegressor, cv\n",
    "from lightgbm import LGBMRegressor\n",
    "from sklearn.model_selection import cross_val_score\n",
    "from sklearn.model_selection import GridSearchCV\n",
    "warnings.filterwarnings('ignore')"
   ]
  },
  {
   "cell_type": "code",
   "execution_count": 2,
   "metadata": {},
   "outputs": [
    {
     "data": {
      "text/html": [
       "<div>\n",
       "<style scoped>\n",
       "    .dataframe tbody tr th:only-of-type {\n",
       "        vertical-align: middle;\n",
       "    }\n",
       "\n",
       "    .dataframe tbody tr th {\n",
       "        vertical-align: top;\n",
       "    }\n",
       "\n",
       "    .dataframe thead th {\n",
       "        text-align: right;\n",
       "    }\n",
       "</style>\n",
       "<table border=\"1\" class=\"dataframe\">\n",
       "  <thead>\n",
       "    <tr style=\"text-align: right;\">\n",
       "      <th></th>\n",
       "      <th>DateCrawled</th>\n",
       "      <th>Price</th>\n",
       "      <th>VehicleType</th>\n",
       "      <th>RegistrationYear</th>\n",
       "      <th>Gearbox</th>\n",
       "      <th>Power</th>\n",
       "      <th>Model</th>\n",
       "      <th>Kilometer</th>\n",
       "      <th>RegistrationMonth</th>\n",
       "      <th>FuelType</th>\n",
       "      <th>Brand</th>\n",
       "      <th>NotRepaired</th>\n",
       "      <th>DateCreated</th>\n",
       "      <th>NumberOfPictures</th>\n",
       "      <th>PostalCode</th>\n",
       "      <th>LastSeen</th>\n",
       "    </tr>\n",
       "  </thead>\n",
       "  <tbody>\n",
       "    <tr>\n",
       "      <th>0</th>\n",
       "      <td>2016-03-24 11:52:17</td>\n",
       "      <td>480</td>\n",
       "      <td>NaN</td>\n",
       "      <td>1993</td>\n",
       "      <td>manual</td>\n",
       "      <td>0</td>\n",
       "      <td>golf</td>\n",
       "      <td>150000</td>\n",
       "      <td>0</td>\n",
       "      <td>petrol</td>\n",
       "      <td>volkswagen</td>\n",
       "      <td>NaN</td>\n",
       "      <td>2016-03-24 00:00:00</td>\n",
       "      <td>0</td>\n",
       "      <td>70435</td>\n",
       "      <td>2016-04-07 03:16:57</td>\n",
       "    </tr>\n",
       "    <tr>\n",
       "      <th>1</th>\n",
       "      <td>2016-03-24 10:58:45</td>\n",
       "      <td>18300</td>\n",
       "      <td>coupe</td>\n",
       "      <td>2011</td>\n",
       "      <td>manual</td>\n",
       "      <td>190</td>\n",
       "      <td>NaN</td>\n",
       "      <td>125000</td>\n",
       "      <td>5</td>\n",
       "      <td>gasoline</td>\n",
       "      <td>audi</td>\n",
       "      <td>yes</td>\n",
       "      <td>2016-03-24 00:00:00</td>\n",
       "      <td>0</td>\n",
       "      <td>66954</td>\n",
       "      <td>2016-04-07 01:46:50</td>\n",
       "    </tr>\n",
       "    <tr>\n",
       "      <th>2</th>\n",
       "      <td>2016-03-14 12:52:21</td>\n",
       "      <td>9800</td>\n",
       "      <td>suv</td>\n",
       "      <td>2004</td>\n",
       "      <td>auto</td>\n",
       "      <td>163</td>\n",
       "      <td>grand</td>\n",
       "      <td>125000</td>\n",
       "      <td>8</td>\n",
       "      <td>gasoline</td>\n",
       "      <td>jeep</td>\n",
       "      <td>NaN</td>\n",
       "      <td>2016-03-14 00:00:00</td>\n",
       "      <td>0</td>\n",
       "      <td>90480</td>\n",
       "      <td>2016-04-05 12:47:46</td>\n",
       "    </tr>\n",
       "    <tr>\n",
       "      <th>3</th>\n",
       "      <td>2016-03-17 16:54:04</td>\n",
       "      <td>1500</td>\n",
       "      <td>small</td>\n",
       "      <td>2001</td>\n",
       "      <td>manual</td>\n",
       "      <td>75</td>\n",
       "      <td>golf</td>\n",
       "      <td>150000</td>\n",
       "      <td>6</td>\n",
       "      <td>petrol</td>\n",
       "      <td>volkswagen</td>\n",
       "      <td>no</td>\n",
       "      <td>2016-03-17 00:00:00</td>\n",
       "      <td>0</td>\n",
       "      <td>91074</td>\n",
       "      <td>2016-03-17 17:40:17</td>\n",
       "    </tr>\n",
       "    <tr>\n",
       "      <th>4</th>\n",
       "      <td>2016-03-31 17:25:20</td>\n",
       "      <td>3600</td>\n",
       "      <td>small</td>\n",
       "      <td>2008</td>\n",
       "      <td>manual</td>\n",
       "      <td>69</td>\n",
       "      <td>fabia</td>\n",
       "      <td>90000</td>\n",
       "      <td>7</td>\n",
       "      <td>gasoline</td>\n",
       "      <td>skoda</td>\n",
       "      <td>no</td>\n",
       "      <td>2016-03-31 00:00:00</td>\n",
       "      <td>0</td>\n",
       "      <td>60437</td>\n",
       "      <td>2016-04-06 10:17:21</td>\n",
       "    </tr>\n",
       "  </tbody>\n",
       "</table>\n",
       "</div>"
      ],
      "text/plain": [
       "           DateCrawled  Price VehicleType  RegistrationYear Gearbox  Power  \\\n",
       "0  2016-03-24 11:52:17    480         NaN              1993  manual      0   \n",
       "1  2016-03-24 10:58:45  18300       coupe              2011  manual    190   \n",
       "2  2016-03-14 12:52:21   9800         suv              2004    auto    163   \n",
       "3  2016-03-17 16:54:04   1500       small              2001  manual     75   \n",
       "4  2016-03-31 17:25:20   3600       small              2008  manual     69   \n",
       "\n",
       "   Model  Kilometer  RegistrationMonth  FuelType       Brand NotRepaired  \\\n",
       "0   golf     150000                  0    petrol  volkswagen         NaN   \n",
       "1    NaN     125000                  5  gasoline        audi         yes   \n",
       "2  grand     125000                  8  gasoline        jeep         NaN   \n",
       "3   golf     150000                  6    petrol  volkswagen          no   \n",
       "4  fabia      90000                  7  gasoline       skoda          no   \n",
       "\n",
       "           DateCreated  NumberOfPictures  PostalCode             LastSeen  \n",
       "0  2016-03-24 00:00:00                 0       70435  2016-04-07 03:16:57  \n",
       "1  2016-03-24 00:00:00                 0       66954  2016-04-07 01:46:50  \n",
       "2  2016-03-14 00:00:00                 0       90480  2016-04-05 12:47:46  \n",
       "3  2016-03-17 00:00:00                 0       91074  2016-03-17 17:40:17  \n",
       "4  2016-03-31 00:00:00                 0       60437  2016-04-06 10:17:21  "
      ]
     },
     "execution_count": 2,
     "metadata": {},
     "output_type": "execute_result"
    }
   ],
   "source": [
    "#Загрузим данные\n",
    "try:\n",
    "    df = pd.read_csv('/datasets/autos.csv')\n",
    "except:\n",
    "    print('Ошибка. Проверьте правильность пути к данным')\n",
    "df.head()"
   ]
  },
  {
   "cell_type": "code",
   "execution_count": 3,
   "metadata": {},
   "outputs": [
    {
     "name": "stdout",
     "output_type": "stream",
     "text": [
      "<class 'pandas.core.frame.DataFrame'>\n",
      "RangeIndex: 354369 entries, 0 to 354368\n",
      "Data columns (total 16 columns):\n",
      " #   Column             Non-Null Count   Dtype \n",
      "---  ------             --------------   ----- \n",
      " 0   DateCrawled        354369 non-null  object\n",
      " 1   Price              354369 non-null  int64 \n",
      " 2   VehicleType        316879 non-null  object\n",
      " 3   RegistrationYear   354369 non-null  int64 \n",
      " 4   Gearbox            334536 non-null  object\n",
      " 5   Power              354369 non-null  int64 \n",
      " 6   Model              334664 non-null  object\n",
      " 7   Kilometer          354369 non-null  int64 \n",
      " 8   RegistrationMonth  354369 non-null  int64 \n",
      " 9   FuelType           321474 non-null  object\n",
      " 10  Brand              354369 non-null  object\n",
      " 11  NotRepaired        283215 non-null  object\n",
      " 12  DateCreated        354369 non-null  object\n",
      " 13  NumberOfPictures   354369 non-null  int64 \n",
      " 14  PostalCode         354369 non-null  int64 \n",
      " 15  LastSeen           354369 non-null  object\n",
      "dtypes: int64(7), object(9)\n",
      "memory usage: 43.3+ MB\n"
     ]
    }
   ],
   "source": [
    "df.info()"
   ]
  },
  {
   "cell_type": "code",
   "execution_count": 4,
   "metadata": {},
   "outputs": [
    {
     "data": {
      "text/html": [
       "<div>\n",
       "<style scoped>\n",
       "    .dataframe tbody tr th:only-of-type {\n",
       "        vertical-align: middle;\n",
       "    }\n",
       "\n",
       "    .dataframe tbody tr th {\n",
       "        vertical-align: top;\n",
       "    }\n",
       "\n",
       "    .dataframe thead th {\n",
       "        text-align: right;\n",
       "    }\n",
       "</style>\n",
       "<table border=\"1\" class=\"dataframe\">\n",
       "  <thead>\n",
       "    <tr style=\"text-align: right;\">\n",
       "      <th></th>\n",
       "      <th>Price</th>\n",
       "      <th>RegistrationYear</th>\n",
       "      <th>Power</th>\n",
       "      <th>Kilometer</th>\n",
       "      <th>RegistrationMonth</th>\n",
       "      <th>NumberOfPictures</th>\n",
       "      <th>PostalCode</th>\n",
       "    </tr>\n",
       "  </thead>\n",
       "  <tbody>\n",
       "    <tr>\n",
       "      <th>count</th>\n",
       "      <td>354369.000000</td>\n",
       "      <td>354369.000000</td>\n",
       "      <td>354369.000000</td>\n",
       "      <td>354369.000000</td>\n",
       "      <td>354369.000000</td>\n",
       "      <td>354369.0</td>\n",
       "      <td>354369.000000</td>\n",
       "    </tr>\n",
       "    <tr>\n",
       "      <th>mean</th>\n",
       "      <td>4416.656776</td>\n",
       "      <td>2004.234448</td>\n",
       "      <td>110.094337</td>\n",
       "      <td>128211.172535</td>\n",
       "      <td>5.714645</td>\n",
       "      <td>0.0</td>\n",
       "      <td>50508.689087</td>\n",
       "    </tr>\n",
       "    <tr>\n",
       "      <th>std</th>\n",
       "      <td>4514.158514</td>\n",
       "      <td>90.227958</td>\n",
       "      <td>189.850405</td>\n",
       "      <td>37905.341530</td>\n",
       "      <td>3.726421</td>\n",
       "      <td>0.0</td>\n",
       "      <td>25783.096248</td>\n",
       "    </tr>\n",
       "    <tr>\n",
       "      <th>min</th>\n",
       "      <td>0.000000</td>\n",
       "      <td>1000.000000</td>\n",
       "      <td>0.000000</td>\n",
       "      <td>5000.000000</td>\n",
       "      <td>0.000000</td>\n",
       "      <td>0.0</td>\n",
       "      <td>1067.000000</td>\n",
       "    </tr>\n",
       "    <tr>\n",
       "      <th>25%</th>\n",
       "      <td>1050.000000</td>\n",
       "      <td>1999.000000</td>\n",
       "      <td>69.000000</td>\n",
       "      <td>125000.000000</td>\n",
       "      <td>3.000000</td>\n",
       "      <td>0.0</td>\n",
       "      <td>30165.000000</td>\n",
       "    </tr>\n",
       "    <tr>\n",
       "      <th>50%</th>\n",
       "      <td>2700.000000</td>\n",
       "      <td>2003.000000</td>\n",
       "      <td>105.000000</td>\n",
       "      <td>150000.000000</td>\n",
       "      <td>6.000000</td>\n",
       "      <td>0.0</td>\n",
       "      <td>49413.000000</td>\n",
       "    </tr>\n",
       "    <tr>\n",
       "      <th>75%</th>\n",
       "      <td>6400.000000</td>\n",
       "      <td>2008.000000</td>\n",
       "      <td>143.000000</td>\n",
       "      <td>150000.000000</td>\n",
       "      <td>9.000000</td>\n",
       "      <td>0.0</td>\n",
       "      <td>71083.000000</td>\n",
       "    </tr>\n",
       "    <tr>\n",
       "      <th>max</th>\n",
       "      <td>20000.000000</td>\n",
       "      <td>9999.000000</td>\n",
       "      <td>20000.000000</td>\n",
       "      <td>150000.000000</td>\n",
       "      <td>12.000000</td>\n",
       "      <td>0.0</td>\n",
       "      <td>99998.000000</td>\n",
       "    </tr>\n",
       "  </tbody>\n",
       "</table>\n",
       "</div>"
      ],
      "text/plain": [
       "               Price  RegistrationYear          Power      Kilometer  \\\n",
       "count  354369.000000     354369.000000  354369.000000  354369.000000   \n",
       "mean     4416.656776       2004.234448     110.094337  128211.172535   \n",
       "std      4514.158514         90.227958     189.850405   37905.341530   \n",
       "min         0.000000       1000.000000       0.000000    5000.000000   \n",
       "25%      1050.000000       1999.000000      69.000000  125000.000000   \n",
       "50%      2700.000000       2003.000000     105.000000  150000.000000   \n",
       "75%      6400.000000       2008.000000     143.000000  150000.000000   \n",
       "max     20000.000000       9999.000000   20000.000000  150000.000000   \n",
       "\n",
       "       RegistrationMonth  NumberOfPictures     PostalCode  \n",
       "count      354369.000000          354369.0  354369.000000  \n",
       "mean            5.714645               0.0   50508.689087  \n",
       "std             3.726421               0.0   25783.096248  \n",
       "min             0.000000               0.0    1067.000000  \n",
       "25%             3.000000               0.0   30165.000000  \n",
       "50%             6.000000               0.0   49413.000000  \n",
       "75%             9.000000               0.0   71083.000000  \n",
       "max            12.000000               0.0   99998.000000  "
      ]
     },
     "execution_count": 4,
     "metadata": {},
     "output_type": "execute_result"
    }
   ],
   "source": [
    "df.describe()"
   ]
  },
  {
   "cell_type": "code",
   "execution_count": 5,
   "metadata": {},
   "outputs": [
    {
     "data": {
      "text/html": [
       "<div>\n",
       "<style scoped>\n",
       "    .dataframe tbody tr th:only-of-type {\n",
       "        vertical-align: middle;\n",
       "    }\n",
       "\n",
       "    .dataframe tbody tr th {\n",
       "        vertical-align: top;\n",
       "    }\n",
       "\n",
       "    .dataframe thead th {\n",
       "        text-align: right;\n",
       "    }\n",
       "</style>\n",
       "<table border=\"1\" class=\"dataframe\">\n",
       "  <thead>\n",
       "    <tr style=\"text-align: right;\">\n",
       "      <th></th>\n",
       "      <th>DateCrawled</th>\n",
       "      <th>VehicleType</th>\n",
       "      <th>Gearbox</th>\n",
       "      <th>Model</th>\n",
       "      <th>FuelType</th>\n",
       "      <th>Brand</th>\n",
       "      <th>NotRepaired</th>\n",
       "      <th>DateCreated</th>\n",
       "      <th>LastSeen</th>\n",
       "    </tr>\n",
       "  </thead>\n",
       "  <tbody>\n",
       "    <tr>\n",
       "      <th>count</th>\n",
       "      <td>354369</td>\n",
       "      <td>316879</td>\n",
       "      <td>334536</td>\n",
       "      <td>334664</td>\n",
       "      <td>321474</td>\n",
       "      <td>354369</td>\n",
       "      <td>283215</td>\n",
       "      <td>354369</td>\n",
       "      <td>354369</td>\n",
       "    </tr>\n",
       "    <tr>\n",
       "      <th>unique</th>\n",
       "      <td>271174</td>\n",
       "      <td>8</td>\n",
       "      <td>2</td>\n",
       "      <td>250</td>\n",
       "      <td>7</td>\n",
       "      <td>40</td>\n",
       "      <td>2</td>\n",
       "      <td>109</td>\n",
       "      <td>179150</td>\n",
       "    </tr>\n",
       "    <tr>\n",
       "      <th>top</th>\n",
       "      <td>2016-03-24 14:49:47</td>\n",
       "      <td>sedan</td>\n",
       "      <td>manual</td>\n",
       "      <td>golf</td>\n",
       "      <td>petrol</td>\n",
       "      <td>volkswagen</td>\n",
       "      <td>no</td>\n",
       "      <td>2016-04-03 00:00:00</td>\n",
       "      <td>2016-04-06 13:45:54</td>\n",
       "    </tr>\n",
       "    <tr>\n",
       "      <th>freq</th>\n",
       "      <td>7</td>\n",
       "      <td>91457</td>\n",
       "      <td>268251</td>\n",
       "      <td>29232</td>\n",
       "      <td>216352</td>\n",
       "      <td>77013</td>\n",
       "      <td>247161</td>\n",
       "      <td>13719</td>\n",
       "      <td>17</td>\n",
       "    </tr>\n",
       "  </tbody>\n",
       "</table>\n",
       "</div>"
      ],
      "text/plain": [
       "                DateCrawled VehicleType Gearbox   Model FuelType       Brand  \\\n",
       "count                354369      316879  334536  334664   321474      354369   \n",
       "unique               271174           8       2     250        7          40   \n",
       "top     2016-03-24 14:49:47       sedan  manual    golf   petrol  volkswagen   \n",
       "freq                      7       91457  268251   29232   216352       77013   \n",
       "\n",
       "       NotRepaired          DateCreated             LastSeen  \n",
       "count       283215               354369               354369  \n",
       "unique           2                  109               179150  \n",
       "top             no  2016-04-03 00:00:00  2016-04-06 13:45:54  \n",
       "freq        247161                13719                   17  "
      ]
     },
     "execution_count": 5,
     "metadata": {},
     "output_type": "execute_result"
    }
   ],
   "source": [
    "df.describe(include=[object])"
   ]
  },
  {
   "cell_type": "code",
   "execution_count": 6,
   "metadata": {},
   "outputs": [
    {
     "data": {
      "text/html": [
       "<style  type=\"text/css\" >\n",
       "#T_f8976_row0_col0,#T_f8976_row1_col0,#T_f8976_row3_col0,#T_f8976_row5_col0,#T_f8976_row7_col0,#T_f8976_row8_col0,#T_f8976_row10_col0,#T_f8976_row12_col0,#T_f8976_row13_col0,#T_f8976_row14_col0,#T_f8976_row15_col0{\n",
       "            background-color:  #3b4cc0;\n",
       "            color:  #f1f1f1;\n",
       "        }#T_f8976_row2_col0{\n",
       "            background-color:  #e3d9d3;\n",
       "            color:  #000000;\n",
       "        }#T_f8976_row4_col0{\n",
       "            background-color:  #97b8ff;\n",
       "            color:  #000000;\n",
       "        }#T_f8976_row6_col0{\n",
       "            background-color:  #96b7ff;\n",
       "            color:  #000000;\n",
       "        }#T_f8976_row9_col0{\n",
       "            background-color:  #d3dbe7;\n",
       "            color:  #000000;\n",
       "        }#T_f8976_row11_col0{\n",
       "            background-color:  #b40426;\n",
       "            color:  #f1f1f1;\n",
       "        }</style><table id=\"T_f8976_\" ><thead>    <tr>        <th class=\"blank level0\" ></th>        <th class=\"col_heading level0 col0\" >0</th>    </tr></thead><tbody>\n",
       "                <tr>\n",
       "                        <th id=\"T_f8976_level0_row0\" class=\"row_heading level0 row0\" >DateCrawled</th>\n",
       "                        <td id=\"T_f8976_row0_col0\" class=\"data row0 col0\" >0.000000</td>\n",
       "            </tr>\n",
       "            <tr>\n",
       "                        <th id=\"T_f8976_level0_row1\" class=\"row_heading level0 row1\" >Price</th>\n",
       "                        <td id=\"T_f8976_row1_col0\" class=\"data row1 col0\" >0.000000</td>\n",
       "            </tr>\n",
       "            <tr>\n",
       "                        <th id=\"T_f8976_level0_row2\" class=\"row_heading level0 row2\" >VehicleType</th>\n",
       "                        <td id=\"T_f8976_row2_col0\" class=\"data row2 col0\" >10.580000</td>\n",
       "            </tr>\n",
       "            <tr>\n",
       "                        <th id=\"T_f8976_level0_row3\" class=\"row_heading level0 row3\" >RegistrationYear</th>\n",
       "                        <td id=\"T_f8976_row3_col0\" class=\"data row3 col0\" >0.000000</td>\n",
       "            </tr>\n",
       "            <tr>\n",
       "                        <th id=\"T_f8976_level0_row4\" class=\"row_heading level0 row4\" >Gearbox</th>\n",
       "                        <td id=\"T_f8976_row4_col0\" class=\"data row4 col0\" >5.600000</td>\n",
       "            </tr>\n",
       "            <tr>\n",
       "                        <th id=\"T_f8976_level0_row5\" class=\"row_heading level0 row5\" >Power</th>\n",
       "                        <td id=\"T_f8976_row5_col0\" class=\"data row5 col0\" >0.000000</td>\n",
       "            </tr>\n",
       "            <tr>\n",
       "                        <th id=\"T_f8976_level0_row6\" class=\"row_heading level0 row6\" >Model</th>\n",
       "                        <td id=\"T_f8976_row6_col0\" class=\"data row6 col0\" >5.560000</td>\n",
       "            </tr>\n",
       "            <tr>\n",
       "                        <th id=\"T_f8976_level0_row7\" class=\"row_heading level0 row7\" >Kilometer</th>\n",
       "                        <td id=\"T_f8976_row7_col0\" class=\"data row7 col0\" >0.000000</td>\n",
       "            </tr>\n",
       "            <tr>\n",
       "                        <th id=\"T_f8976_level0_row8\" class=\"row_heading level0 row8\" >RegistrationMonth</th>\n",
       "                        <td id=\"T_f8976_row8_col0\" class=\"data row8 col0\" >0.000000</td>\n",
       "            </tr>\n",
       "            <tr>\n",
       "                        <th id=\"T_f8976_level0_row9\" class=\"row_heading level0 row9\" >FuelType</th>\n",
       "                        <td id=\"T_f8976_row9_col0\" class=\"data row9 col0\" >9.280000</td>\n",
       "            </tr>\n",
       "            <tr>\n",
       "                        <th id=\"T_f8976_level0_row10\" class=\"row_heading level0 row10\" >Brand</th>\n",
       "                        <td id=\"T_f8976_row10_col0\" class=\"data row10 col0\" >0.000000</td>\n",
       "            </tr>\n",
       "            <tr>\n",
       "                        <th id=\"T_f8976_level0_row11\" class=\"row_heading level0 row11\" >NotRepaired</th>\n",
       "                        <td id=\"T_f8976_row11_col0\" class=\"data row11 col0\" >20.080000</td>\n",
       "            </tr>\n",
       "            <tr>\n",
       "                        <th id=\"T_f8976_level0_row12\" class=\"row_heading level0 row12\" >DateCreated</th>\n",
       "                        <td id=\"T_f8976_row12_col0\" class=\"data row12 col0\" >0.000000</td>\n",
       "            </tr>\n",
       "            <tr>\n",
       "                        <th id=\"T_f8976_level0_row13\" class=\"row_heading level0 row13\" >NumberOfPictures</th>\n",
       "                        <td id=\"T_f8976_row13_col0\" class=\"data row13 col0\" >0.000000</td>\n",
       "            </tr>\n",
       "            <tr>\n",
       "                        <th id=\"T_f8976_level0_row14\" class=\"row_heading level0 row14\" >PostalCode</th>\n",
       "                        <td id=\"T_f8976_row14_col0\" class=\"data row14 col0\" >0.000000</td>\n",
       "            </tr>\n",
       "            <tr>\n",
       "                        <th id=\"T_f8976_level0_row15\" class=\"row_heading level0 row15\" >LastSeen</th>\n",
       "                        <td id=\"T_f8976_row15_col0\" class=\"data row15 col0\" >0.000000</td>\n",
       "            </tr>\n",
       "    </tbody></table>"
      ],
      "text/plain": [
       "<pandas.io.formats.style.Styler at 0x7fb1b4978b20>"
      ]
     },
     "execution_count": 6,
     "metadata": {},
     "output_type": "execute_result"
    }
   ],
   "source": [
    "#посмотрим на процент пропусков в данных\n",
    "pd.DataFrame(round((df.isna().mean()*100),2)).style.background_gradient('coolwarm')"
   ]
  },
  {
   "cell_type": "code",
   "execution_count": 7,
   "metadata": {},
   "outputs": [
    {
     "data": {
      "text/plain": [
       "False    354365\n",
       "True          4\n",
       "dtype: int64"
      ]
     },
     "execution_count": 7,
     "metadata": {},
     "output_type": "execute_result"
    }
   ],
   "source": [
    "df.duplicated().value_counts()"
   ]
  },
  {
   "cell_type": "code",
   "execution_count": 8,
   "metadata": {},
   "outputs": [],
   "source": [
    "#Удалим дубликаты\n",
    "df.drop_duplicates(inplace=True)"
   ]
  },
  {
   "cell_type": "code",
   "execution_count": 9,
   "metadata": {},
   "outputs": [
    {
     "name": "stdout",
     "output_type": "stream",
     "text": [
      "<class 'pandas.core.frame.DataFrame'>\n",
      "Int64Index: 354365 entries, 0 to 354368\n",
      "Data columns (total 16 columns):\n",
      " #   Column             Non-Null Count   Dtype \n",
      "---  ------             --------------   ----- \n",
      " 0   DateCrawled        354365 non-null  object\n",
      " 1   Price              354365 non-null  int64 \n",
      " 2   VehicleType        354365 non-null  object\n",
      " 3   RegistrationYear   354365 non-null  int64 \n",
      " 4   Gearbox            354365 non-null  object\n",
      " 5   Power              354365 non-null  int64 \n",
      " 6   Model              354365 non-null  object\n",
      " 7   Kilometer          354365 non-null  int64 \n",
      " 8   RegistrationMonth  354365 non-null  int64 \n",
      " 9   FuelType           354365 non-null  object\n",
      " 10  Brand              354365 non-null  object\n",
      " 11  NotRepaired        354365 non-null  object\n",
      " 12  DateCreated        354365 non-null  object\n",
      " 13  NumberOfPictures   354365 non-null  int64 \n",
      " 14  PostalCode         354365 non-null  int64 \n",
      " 15  LastSeen           354365 non-null  object\n",
      "dtypes: int64(7), object(9)\n",
      "memory usage: 46.0+ MB\n"
     ]
    }
   ],
   "source": [
    "#Заполним пропуски в данных\n",
    "df[\"VehicleType\"] = df[\"VehicleType\"].fillna('unknown')\n",
    "df[\"Gearbox\"] = df[\"Gearbox\"].fillna('unknown')\n",
    "df[\"Model\"] = df[\"Model\"].fillna('unknown')\n",
    "df[\"FuelType\"] = df[\"FuelType\"].fillna('unknown')\n",
    "\n",
    "df[\"NotRepaired\"] = df[\"NotRepaired\"].fillna(\"no\")\n",
    "df.info()"
   ]
  },
  {
   "cell_type": "code",
   "execution_count": 10,
   "metadata": {},
   "outputs": [
    {
     "data": {
      "text/html": [
       "<div>\n",
       "<style scoped>\n",
       "    .dataframe tbody tr th:only-of-type {\n",
       "        vertical-align: middle;\n",
       "    }\n",
       "\n",
       "    .dataframe tbody tr th {\n",
       "        vertical-align: top;\n",
       "    }\n",
       "\n",
       "    .dataframe thead th {\n",
       "        text-align: right;\n",
       "    }\n",
       "</style>\n",
       "<table border=\"1\" class=\"dataframe\">\n",
       "  <thead>\n",
       "    <tr style=\"text-align: right;\">\n",
       "      <th></th>\n",
       "      <th>DateCrawled</th>\n",
       "      <th>Price</th>\n",
       "      <th>VehicleType</th>\n",
       "      <th>RegistrationYear</th>\n",
       "      <th>Gearbox</th>\n",
       "      <th>Power</th>\n",
       "      <th>Model</th>\n",
       "      <th>Kilometer</th>\n",
       "      <th>RegistrationMonth</th>\n",
       "      <th>FuelType</th>\n",
       "      <th>Brand</th>\n",
       "      <th>NotRepaired</th>\n",
       "      <th>DateCreated</th>\n",
       "      <th>NumberOfPictures</th>\n",
       "      <th>PostalCode</th>\n",
       "      <th>LastSeen</th>\n",
       "    </tr>\n",
       "  </thead>\n",
       "  <tbody>\n",
       "    <tr>\n",
       "      <th>0</th>\n",
       "      <td>2016-03-24 11:52:17</td>\n",
       "      <td>480</td>\n",
       "      <td>unknown</td>\n",
       "      <td>1993</td>\n",
       "      <td>manual</td>\n",
       "      <td>0</td>\n",
       "      <td>golf</td>\n",
       "      <td>150000</td>\n",
       "      <td>0</td>\n",
       "      <td>petrol</td>\n",
       "      <td>volkswagen</td>\n",
       "      <td>no</td>\n",
       "      <td>2016-03-24 00:00:00</td>\n",
       "      <td>0</td>\n",
       "      <td>70435</td>\n",
       "      <td>2016-04-07 03:16:57</td>\n",
       "    </tr>\n",
       "    <tr>\n",
       "      <th>1</th>\n",
       "      <td>2016-03-24 10:58:45</td>\n",
       "      <td>18300</td>\n",
       "      <td>coupe</td>\n",
       "      <td>2011</td>\n",
       "      <td>manual</td>\n",
       "      <td>190</td>\n",
       "      <td>unknown</td>\n",
       "      <td>125000</td>\n",
       "      <td>5</td>\n",
       "      <td>gasoline</td>\n",
       "      <td>audi</td>\n",
       "      <td>yes</td>\n",
       "      <td>2016-03-24 00:00:00</td>\n",
       "      <td>0</td>\n",
       "      <td>66954</td>\n",
       "      <td>2016-04-07 01:46:50</td>\n",
       "    </tr>\n",
       "    <tr>\n",
       "      <th>2</th>\n",
       "      <td>2016-03-14 12:52:21</td>\n",
       "      <td>9800</td>\n",
       "      <td>suv</td>\n",
       "      <td>2004</td>\n",
       "      <td>auto</td>\n",
       "      <td>163</td>\n",
       "      <td>grand</td>\n",
       "      <td>125000</td>\n",
       "      <td>8</td>\n",
       "      <td>gasoline</td>\n",
       "      <td>jeep</td>\n",
       "      <td>no</td>\n",
       "      <td>2016-03-14 00:00:00</td>\n",
       "      <td>0</td>\n",
       "      <td>90480</td>\n",
       "      <td>2016-04-05 12:47:46</td>\n",
       "    </tr>\n",
       "    <tr>\n",
       "      <th>3</th>\n",
       "      <td>2016-03-17 16:54:04</td>\n",
       "      <td>1500</td>\n",
       "      <td>small</td>\n",
       "      <td>2001</td>\n",
       "      <td>manual</td>\n",
       "      <td>75</td>\n",
       "      <td>golf</td>\n",
       "      <td>150000</td>\n",
       "      <td>6</td>\n",
       "      <td>petrol</td>\n",
       "      <td>volkswagen</td>\n",
       "      <td>no</td>\n",
       "      <td>2016-03-17 00:00:00</td>\n",
       "      <td>0</td>\n",
       "      <td>91074</td>\n",
       "      <td>2016-03-17 17:40:17</td>\n",
       "    </tr>\n",
       "    <tr>\n",
       "      <th>4</th>\n",
       "      <td>2016-03-31 17:25:20</td>\n",
       "      <td>3600</td>\n",
       "      <td>small</td>\n",
       "      <td>2008</td>\n",
       "      <td>manual</td>\n",
       "      <td>69</td>\n",
       "      <td>fabia</td>\n",
       "      <td>90000</td>\n",
       "      <td>7</td>\n",
       "      <td>gasoline</td>\n",
       "      <td>skoda</td>\n",
       "      <td>no</td>\n",
       "      <td>2016-03-31 00:00:00</td>\n",
       "      <td>0</td>\n",
       "      <td>60437</td>\n",
       "      <td>2016-04-06 10:17:21</td>\n",
       "    </tr>\n",
       "  </tbody>\n",
       "</table>\n",
       "</div>"
      ],
      "text/plain": [
       "           DateCrawled  Price VehicleType  RegistrationYear Gearbox  Power  \\\n",
       "0  2016-03-24 11:52:17    480     unknown              1993  manual      0   \n",
       "1  2016-03-24 10:58:45  18300       coupe              2011  manual    190   \n",
       "2  2016-03-14 12:52:21   9800         suv              2004    auto    163   \n",
       "3  2016-03-17 16:54:04   1500       small              2001  manual     75   \n",
       "4  2016-03-31 17:25:20   3600       small              2008  manual     69   \n",
       "\n",
       "     Model  Kilometer  RegistrationMonth  FuelType       Brand NotRepaired  \\\n",
       "0     golf     150000                  0    petrol  volkswagen          no   \n",
       "1  unknown     125000                  5  gasoline        audi         yes   \n",
       "2    grand     125000                  8  gasoline        jeep          no   \n",
       "3     golf     150000                  6    petrol  volkswagen          no   \n",
       "4    fabia      90000                  7  gasoline       skoda          no   \n",
       "\n",
       "           DateCreated  NumberOfPictures  PostalCode             LastSeen  \n",
       "0  2016-03-24 00:00:00                 0       70435  2016-04-07 03:16:57  \n",
       "1  2016-03-24 00:00:00                 0       66954  2016-04-07 01:46:50  \n",
       "2  2016-03-14 00:00:00                 0       90480  2016-04-05 12:47:46  \n",
       "3  2016-03-17 00:00:00                 0       91074  2016-03-17 17:40:17  \n",
       "4  2016-03-31 00:00:00                 0       60437  2016-04-06 10:17:21  "
      ]
     },
     "execution_count": 10,
     "metadata": {},
     "output_type": "execute_result"
    }
   ],
   "source": [
    "df.head()"
   ]
  },
  {
   "cell_type": "markdown",
   "metadata": {},
   "source": [
    "Я долго думал как заполнить пропуски. Удалять данные не хотелось, в некоторых столбцах пропусков очень много(около 20 процентов). Заполнять средними или соседними значениями пропуски в категориальных данных, я тоже посчитал неправильным. Поэтому решил заменить пропуски в столбцах значением 'unknown'. Ведь мы действительно не знаем, что за значения там могут быть. Об этом известно только владельцам автомобилей."
   ]
  },
  {
   "cell_type": "code",
   "execution_count": 11,
   "metadata": {},
   "outputs": [
    {
     "data": {
      "image/png": "[encoded data removed]",
      "text/plain": [
       "<Figure size 504x360 with 1 Axes>"
      ]
     },
     "metadata": {
      "needs_background": "light"
     },
     "output_type": "display_data"
    },
    {
     "data": {
      "image/png": "[encoded data removed]",
      "text/plain": [
       "<Figure size 432x288 with 1 Axes>"
      ]
     },
     "metadata": {
      "needs_background": "light"
     },
     "output_type": "display_data"
    }
   ],
   "source": [
    "# Строим гистаграмму  распределения мощности\n",
    "df.plot(y = 'Power', kind = 'hist', bins = 50, grid=True, figsize = (7,5), range = (0,500), legend=None)\n",
    "plt.title('Гистограмма распределения мощности')\n",
    "plt.xlabel('Мощность л.с.')\n",
    "plt.ylabel('Частота')\n",
    "plt.show()\n",
    "sns.boxplot(df['Power'])\n",
    "plt.title('Диаграмма размаха мощности')\n",
    "plt.xlabel('Мощность л.с.')\n",
    "plt.xlim(0, 500)\n",
    "plt.show()"
   ]
  },
  {
   "cell_type": "code",
   "execution_count": 12,
   "metadata": {},
   "outputs": [
    {
     "data": {
      "text/plain": [
       "0        40225\n",
       "75       24023\n",
       "60       15897\n",
       "150      14590\n",
       "101      13298\n",
       "         ...  \n",
       "323          1\n",
       "3454         1\n",
       "1056         1\n",
       "13636        1\n",
       "1158         1\n",
       "Name: Power, Length: 712, dtype: int64"
      ]
     },
     "execution_count": 12,
     "metadata": {},
     "output_type": "execute_result"
    }
   ],
   "source": [
    "df['Power'].value_counts()"
   ]
  },
  {
   "cell_type": "code",
   "execution_count": 13,
   "metadata": {},
   "outputs": [],
   "source": [
    "medians  = df.groupby('Model')['Power'].median().to_dict()\n",
    "def fill_with_median (row):\n",
    "    if row['Power'] == 0:\n",
    "        return medians [row['Model']]\n",
    "    return row['Power']\n",
    "df['Power'] = df.apply(lambda row: fill_with_median(row), axis = 1)"
   ]
  },
  {
   "cell_type": "code",
   "execution_count": 14,
   "metadata": {},
   "outputs": [
    {
     "data": {
      "image/png": "[encoded data removed]",
      "text/plain": [
       "<Figure size 504x360 with 1 Axes>"
      ]
     },
     "metadata": {
      "needs_background": "light"
     },
     "output_type": "display_data"
    },
    {
     "data": {
      "image/png": "[encoded data removed]",
      "text/plain": [
       "<Figure size 432x288 with 1 Axes>"
      ]
     },
     "metadata": {
      "needs_background": "light"
     },
     "output_type": "display_data"
    }
   ],
   "source": [
    "# Строим гистаграмму стоимости автомобилей\n",
    "df.plot(y = 'Price', kind = 'hist', bins = 50, grid=True, figsize = (7,5), range = (0,20000), legend=None)\n",
    "plt.title('Гистограмма распределения стоимости')\n",
    "plt.xlabel('Мощность л.с.')\n",
    "plt.ylabel('Частота')\n",
    "plt.show()\n",
    "sns.boxplot(df['Price'])\n",
    "plt.title('Диаграмма размаха стоимости')\n",
    "plt.xlabel('Мощность л.с.')\n",
    "plt.xlim(0, 20000)\n",
    "plt.show()"
   ]
  },
  {
   "cell_type": "code",
   "execution_count": 15,
   "metadata": {},
   "outputs": [
    {
     "data": {
      "image/png": "[encoded data removed]",
      "text/plain": [
       "<Figure size 504x360 with 1 Axes>"
      ]
     },
     "metadata": {
      "needs_background": "light"
     },
     "output_type": "display_data"
    },
    {
     "data": {
      "image/png": "[encoded data removed]",
      "text/plain": [
       "<Figure size 432x288 with 1 Axes>"
      ]
     },
     "metadata": {
      "needs_background": "light"
     },
     "output_type": "display_data"
    }
   ],
   "source": [
    "# Строим гистаграмму распределения по годам регистрации автомобилей\n",
    "df.plot(y = 'RegistrationYear', kind = 'hist', bins = 20, grid=True, figsize = (7,5), range = (1970,2022), legend=None)\n",
    "plt.title('Гистограмма распределения по годам регистрации')\n",
    "plt.xlabel('Год')\n",
    "plt.ylabel('Частота')\n",
    "plt.show()\n",
    "sns.boxplot(df['RegistrationYear'])\n",
    "plt.title('Диаграмма размаха по годам регистрации')\n",
    "plt.xlabel('Год')\n",
    "plt.xlim(1970, 2022)\n",
    "plt.show()"
   ]
  },
  {
   "cell_type": "code",
   "execution_count": 16,
   "metadata": {},
   "outputs": [],
   "source": [
    "df = df.query('1900 <= RegistrationYear <= 2022')"
   ]
  },
  {
   "cell_type": "code",
   "execution_count": 17,
   "metadata": {},
   "outputs": [],
   "source": [
    "def make_price_plot(feature, title):\n",
    "    mean_price = df[[feature, 'Price']].groupby(feature, as_index=False).mean().astype('int')\n",
    "    plt.figure(figsize=(10,5))\n",
    "    plt.grid(axis = 'both')\n",
    "    sns.lineplot(x=feature, y='Price', data=mean_price)\n",
    "    plt.xlabel(feature, size=12)\n",
    "    plt.ylabel('Средняя цена', size=12)\n",
    "    plt.title(title, size=12, y=1.02)\n",
    "    plt.show()"
   ]
  },
  {
   "cell_type": "code",
   "execution_count": 18,
   "metadata": {},
   "outputs": [
    {
     "data": {
      "image/png": "[encoded data removed]",
      "text/plain": [
       "<Figure size 720x360 with 1 Axes>"
      ]
     },
     "metadata": {
      "needs_background": "light"
     },
     "output_type": "display_data"
    }
   ],
   "source": [
    "make_price_plot('RegistrationYear', 'Изменение средней цены в зависимости от года регистрации')"
   ]
  },
  {
   "cell_type": "code",
   "execution_count": 19,
   "metadata": {},
   "outputs": [],
   "source": [
    "def car_cat(row):\n",
    "    if 1900 <= row['RegistrationYear'] <= 1970:\n",
    "        return 'retro'\n",
    "    if 1970 < row['RegistrationYear'] <= 2000:\n",
    "        return 'old'\n",
    "    if row['RegistrationYear'] > 2000:\n",
    "        return 'new'"
   ]
  },
  {
   "cell_type": "code",
   "execution_count": 20,
   "metadata": {},
   "outputs": [],
   "source": [
    "df['CarsCat'] = df.apply(car_cat, axis=1)"
   ]
  },
  {
   "cell_type": "code",
   "execution_count": 21,
   "metadata": {},
   "outputs": [
    {
     "data": {
      "text/html": [
       "<div>\n",
       "<style scoped>\n",
       "    .dataframe tbody tr th:only-of-type {\n",
       "        vertical-align: middle;\n",
       "    }\n",
       "\n",
       "    .dataframe tbody tr th {\n",
       "        vertical-align: top;\n",
       "    }\n",
       "\n",
       "    .dataframe thead th {\n",
       "        text-align: right;\n",
       "    }\n",
       "</style>\n",
       "<table border=\"1\" class=\"dataframe\">\n",
       "  <thead>\n",
       "    <tr style=\"text-align: right;\">\n",
       "      <th></th>\n",
       "      <th>DateCrawled</th>\n",
       "      <th>Price</th>\n",
       "      <th>VehicleType</th>\n",
       "      <th>RegistrationYear</th>\n",
       "      <th>Gearbox</th>\n",
       "      <th>Power</th>\n",
       "      <th>Model</th>\n",
       "      <th>Kilometer</th>\n",
       "      <th>RegistrationMonth</th>\n",
       "      <th>FuelType</th>\n",
       "      <th>Brand</th>\n",
       "      <th>NotRepaired</th>\n",
       "      <th>DateCreated</th>\n",
       "      <th>NumberOfPictures</th>\n",
       "      <th>PostalCode</th>\n",
       "      <th>LastSeen</th>\n",
       "      <th>CarsCat</th>\n",
       "    </tr>\n",
       "  </thead>\n",
       "  <tbody>\n",
       "    <tr>\n",
       "      <th>0</th>\n",
       "      <td>2016-03-24 11:52:17</td>\n",
       "      <td>480</td>\n",
       "      <td>unknown</td>\n",
       "      <td>1993</td>\n",
       "      <td>manual</td>\n",
       "      <td>95.0</td>\n",
       "      <td>golf</td>\n",
       "      <td>150000</td>\n",
       "      <td>0</td>\n",
       "      <td>petrol</td>\n",
       "      <td>volkswagen</td>\n",
       "      <td>no</td>\n",
       "      <td>2016-03-24 00:00:00</td>\n",
       "      <td>0</td>\n",
       "      <td>70435</td>\n",
       "      <td>2016-04-07 03:16:57</td>\n",
       "      <td>old</td>\n",
       "    </tr>\n",
       "    <tr>\n",
       "      <th>1</th>\n",
       "      <td>2016-03-24 10:58:45</td>\n",
       "      <td>18300</td>\n",
       "      <td>coupe</td>\n",
       "      <td>2011</td>\n",
       "      <td>manual</td>\n",
       "      <td>190.0</td>\n",
       "      <td>unknown</td>\n",
       "      <td>125000</td>\n",
       "      <td>5</td>\n",
       "      <td>gasoline</td>\n",
       "      <td>audi</td>\n",
       "      <td>yes</td>\n",
       "      <td>2016-03-24 00:00:00</td>\n",
       "      <td>0</td>\n",
       "      <td>66954</td>\n",
       "      <td>2016-04-07 01:46:50</td>\n",
       "      <td>new</td>\n",
       "    </tr>\n",
       "    <tr>\n",
       "      <th>2</th>\n",
       "      <td>2016-03-14 12:52:21</td>\n",
       "      <td>9800</td>\n",
       "      <td>suv</td>\n",
       "      <td>2004</td>\n",
       "      <td>auto</td>\n",
       "      <td>163.0</td>\n",
       "      <td>grand</td>\n",
       "      <td>125000</td>\n",
       "      <td>8</td>\n",
       "      <td>gasoline</td>\n",
       "      <td>jeep</td>\n",
       "      <td>no</td>\n",
       "      <td>2016-03-14 00:00:00</td>\n",
       "      <td>0</td>\n",
       "      <td>90480</td>\n",
       "      <td>2016-04-05 12:47:46</td>\n",
       "      <td>new</td>\n",
       "    </tr>\n",
       "    <tr>\n",
       "      <th>3</th>\n",
       "      <td>2016-03-17 16:54:04</td>\n",
       "      <td>1500</td>\n",
       "      <td>small</td>\n",
       "      <td>2001</td>\n",
       "      <td>manual</td>\n",
       "      <td>75.0</td>\n",
       "      <td>golf</td>\n",
       "      <td>150000</td>\n",
       "      <td>6</td>\n",
       "      <td>petrol</td>\n",
       "      <td>volkswagen</td>\n",
       "      <td>no</td>\n",
       "      <td>2016-03-17 00:00:00</td>\n",
       "      <td>0</td>\n",
       "      <td>91074</td>\n",
       "      <td>2016-03-17 17:40:17</td>\n",
       "      <td>new</td>\n",
       "    </tr>\n",
       "    <tr>\n",
       "      <th>4</th>\n",
       "      <td>2016-03-31 17:25:20</td>\n",
       "      <td>3600</td>\n",
       "      <td>small</td>\n",
       "      <td>2008</td>\n",
       "      <td>manual</td>\n",
       "      <td>69.0</td>\n",
       "      <td>fabia</td>\n",
       "      <td>90000</td>\n",
       "      <td>7</td>\n",
       "      <td>gasoline</td>\n",
       "      <td>skoda</td>\n",
       "      <td>no</td>\n",
       "      <td>2016-03-31 00:00:00</td>\n",
       "      <td>0</td>\n",
       "      <td>60437</td>\n",
       "      <td>2016-04-06 10:17:21</td>\n",
       "      <td>new</td>\n",
       "    </tr>\n",
       "  </tbody>\n",
       "</table>\n",
       "</div>"
      ],
      "text/plain": [
       "           DateCrawled  Price VehicleType  RegistrationYear Gearbox  Power  \\\n",
       "0  2016-03-24 11:52:17    480     unknown              1993  manual   95.0   \n",
       "1  2016-03-24 10:58:45  18300       coupe              2011  manual  190.0   \n",
       "2  2016-03-14 12:52:21   9800         suv              2004    auto  163.0   \n",
       "3  2016-03-17 16:54:04   1500       small              2001  manual   75.0   \n",
       "4  2016-03-31 17:25:20   3600       small              2008  manual   69.0   \n",
       "\n",
       "     Model  Kilometer  RegistrationMonth  FuelType       Brand NotRepaired  \\\n",
       "0     golf     150000                  0    petrol  volkswagen          no   \n",
       "1  unknown     125000                  5  gasoline        audi         yes   \n",
       "2    grand     125000                  8  gasoline        jeep          no   \n",
       "3     golf     150000                  6    petrol  volkswagen          no   \n",
       "4    fabia      90000                  7  gasoline       skoda          no   \n",
       "\n",
       "           DateCreated  NumberOfPictures  PostalCode             LastSeen  \\\n",
       "0  2016-03-24 00:00:00                 0       70435  2016-04-07 03:16:57   \n",
       "1  2016-03-24 00:00:00                 0       66954  2016-04-07 01:46:50   \n",
       "2  2016-03-14 00:00:00                 0       90480  2016-04-05 12:47:46   \n",
       "3  2016-03-17 00:00:00                 0       91074  2016-03-17 17:40:17   \n",
       "4  2016-03-31 00:00:00                 0       60437  2016-04-06 10:17:21   \n",
       "\n",
       "  CarsCat  \n",
       "0     old  \n",
       "1     new  \n",
       "2     new  \n",
       "3     new  \n",
       "4     new  "
      ]
     },
     "execution_count": 21,
     "metadata": {},
     "output_type": "execute_result"
    }
   ],
   "source": [
    "df.head()"
   ]
  },
  {
   "cell_type": "code",
   "execution_count": 22,
   "metadata": {},
   "outputs": [
    {
     "data": {
      "image/png": "[encoded data removed]",
      "text/plain": [
       "<Figure size 504x360 with 1 Axes>"
      ]
     },
     "metadata": {
      "needs_background": "light"
     },
     "output_type": "display_data"
    },
    {
     "data": {
      "image/png": "[encoded data removed]",
      "text/plain": [
       "<Figure size 432x288 with 1 Axes>"
      ]
     },
     "metadata": {
      "needs_background": "light"
     },
     "output_type": "display_data"
    }
   ],
   "source": [
    "# Строим гистаграмму распределения пробега\n",
    "df.plot(y = 'Kilometer', kind = 'hist', bins = 20, grid=True, figsize = (7,5), range = (0,175000), legend=None)\n",
    "plt.title('Гистограмма распределения пробега')\n",
    "plt.xlabel('Пробег км.')\n",
    "plt.ylabel('Частота')\n",
    "plt.show()\n",
    "sns.boxplot(df['Kilometer'])\n",
    "plt.title('Диаграмма размаха пробега')\n",
    "plt.xlabel('Пробег км.')\n",
    "plt.xlim(0, 175000)\n",
    "plt.show()"
   ]
  },
  {
   "cell_type": "markdown",
   "metadata": {},
   "source": [
    "Глядя на гистограммы распределения и диаграммы размаха я решил удалить выбросы. Для этого сделаем срез данных со следующими значениями:"
   ]
  },
  {
   "cell_type": "code",
   "execution_count": 23,
   "metadata": {},
   "outputs": [
    {
     "name": "stdout",
     "output_type": "stream",
     "text": [
      "<class 'pandas.core.frame.DataFrame'>\n",
      "Int64Index: 340936 entries, 0 to 354368\n",
      "Data columns (total 17 columns):\n",
      " #   Column             Non-Null Count   Dtype  \n",
      "---  ------             --------------   -----  \n",
      " 0   DateCrawled        340936 non-null  object \n",
      " 1   Price              340936 non-null  int64  \n",
      " 2   VehicleType        340936 non-null  object \n",
      " 3   RegistrationYear   340936 non-null  int64  \n",
      " 4   Gearbox            340936 non-null  object \n",
      " 5   Power              340936 non-null  float64\n",
      " 6   Model              340936 non-null  object \n",
      " 7   Kilometer          340936 non-null  int64  \n",
      " 8   RegistrationMonth  340936 non-null  int64  \n",
      " 9   FuelType           340936 non-null  object \n",
      " 10  Brand              340936 non-null  object \n",
      " 11  NotRepaired        340936 non-null  object \n",
      " 12  DateCreated        340936 non-null  object \n",
      " 13  NumberOfPictures   340936 non-null  int64  \n",
      " 14  PostalCode         340936 non-null  int64  \n",
      " 15  LastSeen           340936 non-null  object \n",
      " 16  CarsCat            340936 non-null  object \n",
      "dtypes: float64(1), int64(6), object(10)\n",
      "memory usage: 46.8+ MB\n"
     ]
    }
   ],
   "source": [
    "df_new = df.copy().query('100 <= Price')\n",
    "df_new.info()"
   ]
  },
  {
   "cell_type": "markdown",
   "metadata": {},
   "source": [
    "**Вывод:** Данные подготовлены для обучения моделей:\n",
    "Удалены дубликаты.\n",
    "Заполнены пропуски в категориальный данных.\n",
    "Данные очищены от выбросов. "
   ]
  },
  {
   "cell_type": "markdown",
   "metadata": {},
   "source": [
    "## Обучение моделей"
   ]
  },
  {
   "cell_type": "markdown",
   "metadata": {},
   "source": [
    "Обучим на наших данных несколько моделей, чтобы сравнить скорость и точность предсказаний."
   ]
  },
  {
   "cell_type": "code",
   "execution_count": 24,
   "metadata": {},
   "outputs": [],
   "source": [
    "# Удалим ненужные для обучения моделей столбцы\n",
    "df_new = df_new.drop(['DateCrawled', 'DateCreated', 'NumberOfPictures', 'PostalCode', 'LastSeen'], axis=1)"
   ]
  },
  {
   "cell_type": "code",
   "execution_count": 25,
   "metadata": {},
   "outputs": [],
   "source": [
    "#определим признаки\n",
    "features = df_new.drop('Price', axis=1)\n",
    "target = df_new['Price']"
   ]
  },
  {
   "cell_type": "code",
   "execution_count": 26,
   "metadata": {},
   "outputs": [],
   "source": [
    "#Применим прямое кодирование\n",
    "encoder = OrdinalEncoder()\n",
    "cat_columns = ['VehicleType', 'FuelType', 'Brand', 'Model', 'Gearbox', 'NotRepaired', 'CarsCat']\n",
    "cat_features = features[cat_columns]\n",
    "cat_features = pd.DataFrame(encoder.fit_transform(cat_features),\n",
    "                                columns=cat_features.columns, \n",
    "                                index=cat_features.index).astype(np.int)\n",
    "ordinal_features = features.copy()\n",
    "for column in cat_columns:\n",
    "    ordinal_features[column] = cat_features[column]"
   ]
  },
  {
   "cell_type": "code",
   "execution_count": 27,
   "metadata": {},
   "outputs": [
    {
     "data": {
      "text/html": [
       "<div>\n",
       "<style scoped>\n",
       "    .dataframe tbody tr th:only-of-type {\n",
       "        vertical-align: middle;\n",
       "    }\n",
       "\n",
       "    .dataframe tbody tr th {\n",
       "        vertical-align: top;\n",
       "    }\n",
       "\n",
       "    .dataframe thead th {\n",
       "        text-align: right;\n",
       "    }\n",
       "</style>\n",
       "<table border=\"1\" class=\"dataframe\">\n",
       "  <thead>\n",
       "    <tr style=\"text-align: right;\">\n",
       "      <th></th>\n",
       "      <th>Price</th>\n",
       "      <th>VehicleType</th>\n",
       "      <th>RegistrationYear</th>\n",
       "      <th>Gearbox</th>\n",
       "      <th>Power</th>\n",
       "      <th>Model</th>\n",
       "      <th>Kilometer</th>\n",
       "      <th>RegistrationMonth</th>\n",
       "      <th>FuelType</th>\n",
       "      <th>Brand</th>\n",
       "      <th>NotRepaired</th>\n",
       "      <th>CarsCat</th>\n",
       "    </tr>\n",
       "  </thead>\n",
       "  <tbody>\n",
       "    <tr>\n",
       "      <th>0</th>\n",
       "      <td>480</td>\n",
       "      <td>unknown</td>\n",
       "      <td>1993</td>\n",
       "      <td>manual</td>\n",
       "      <td>95.0</td>\n",
       "      <td>golf</td>\n",
       "      <td>150000</td>\n",
       "      <td>0</td>\n",
       "      <td>petrol</td>\n",
       "      <td>volkswagen</td>\n",
       "      <td>no</td>\n",
       "      <td>old</td>\n",
       "    </tr>\n",
       "    <tr>\n",
       "      <th>1</th>\n",
       "      <td>18300</td>\n",
       "      <td>coupe</td>\n",
       "      <td>2011</td>\n",
       "      <td>manual</td>\n",
       "      <td>190.0</td>\n",
       "      <td>unknown</td>\n",
       "      <td>125000</td>\n",
       "      <td>5</td>\n",
       "      <td>gasoline</td>\n",
       "      <td>audi</td>\n",
       "      <td>yes</td>\n",
       "      <td>new</td>\n",
       "    </tr>\n",
       "    <tr>\n",
       "      <th>2</th>\n",
       "      <td>9800</td>\n",
       "      <td>suv</td>\n",
       "      <td>2004</td>\n",
       "      <td>auto</td>\n",
       "      <td>163.0</td>\n",
       "      <td>grand</td>\n",
       "      <td>125000</td>\n",
       "      <td>8</td>\n",
       "      <td>gasoline</td>\n",
       "      <td>jeep</td>\n",
       "      <td>no</td>\n",
       "      <td>new</td>\n",
       "    </tr>\n",
       "    <tr>\n",
       "      <th>3</th>\n",
       "      <td>1500</td>\n",
       "      <td>small</td>\n",
       "      <td>2001</td>\n",
       "      <td>manual</td>\n",
       "      <td>75.0</td>\n",
       "      <td>golf</td>\n",
       "      <td>150000</td>\n",
       "      <td>6</td>\n",
       "      <td>petrol</td>\n",
       "      <td>volkswagen</td>\n",
       "      <td>no</td>\n",
       "      <td>new</td>\n",
       "    </tr>\n",
       "    <tr>\n",
       "      <th>4</th>\n",
       "      <td>3600</td>\n",
       "      <td>small</td>\n",
       "      <td>2008</td>\n",
       "      <td>manual</td>\n",
       "      <td>69.0</td>\n",
       "      <td>fabia</td>\n",
       "      <td>90000</td>\n",
       "      <td>7</td>\n",
       "      <td>gasoline</td>\n",
       "      <td>skoda</td>\n",
       "      <td>no</td>\n",
       "      <td>new</td>\n",
       "    </tr>\n",
       "  </tbody>\n",
       "</table>\n",
       "</div>"
      ],
      "text/plain": [
       "   Price VehicleType  RegistrationYear Gearbox  Power    Model  Kilometer  \\\n",
       "0    480     unknown              1993  manual   95.0     golf     150000   \n",
       "1  18300       coupe              2011  manual  190.0  unknown     125000   \n",
       "2   9800         suv              2004    auto  163.0    grand     125000   \n",
       "3   1500       small              2001  manual   75.0     golf     150000   \n",
       "4   3600       small              2008  manual   69.0    fabia      90000   \n",
       "\n",
       "   RegistrationMonth  FuelType       Brand NotRepaired CarsCat  \n",
       "0                  0    petrol  volkswagen          no     old  \n",
       "1                  5  gasoline        audi         yes     new  \n",
       "2                  8  gasoline        jeep          no     new  \n",
       "3                  6    petrol  volkswagen          no     new  \n",
       "4                  7  gasoline       skoda          no     new  "
      ]
     },
     "execution_count": 27,
     "metadata": {},
     "output_type": "execute_result"
    }
   ],
   "source": [
    "df_new.head()"
   ]
  },
  {
   "cell_type": "code",
   "execution_count": 28,
   "metadata": {},
   "outputs": [],
   "source": [
    "#OHE кодирование\n",
    "ohe_features = pd.get_dummies(features, drop_first=True)"
   ]
  },
  {
   "cell_type": "code",
   "execution_count": 29,
   "metadata": {},
   "outputs": [],
   "source": [
    "#Разделим данные на тренировочную и тестовую выборки.\n",
    "features_train, features_test, target_train, target_test = train_test_split(\n",
    "    features, target, test_size=0.25, random_state=12345)\n",
    "\n",
    "ordinal_features_train = ordinal_features.loc[features_train.index, :]\n",
    "ordinal_features_test = ordinal_features.loc[features_test.index, :]\n",
    "\n",
    "ohe_features_train = ohe_features.loc[features_train.index, :]\n",
    "ohe_features_test = ohe_features.loc[features_test.index, :]"
   ]
  },
  {
   "cell_type": "markdown",
   "metadata": {},
   "source": [
    "Обучим модель LinearRegression с кросс валидацией на тренировочной выборке."
   ]
  },
  {
   "cell_type": "code",
   "execution_count": 30,
   "metadata": {},
   "outputs": [
    {
     "name": "stdout",
     "output_type": "stream",
     "text": [
      "# Идет определение RMSE\n",
      "\n",
      "RMSE для LinearRegression = 2750.6679296797706\n",
      "CPU times: user 1min 41s, sys: 32.5 s, total: 2min 13s\n",
      "Wall time: 2min 14s\n"
     ]
    }
   ],
   "source": [
    "%%time\n",
    "regressor = LinearRegression()\n",
    "print('# Идет определение RMSE')\n",
    "print()\n",
    "cv_RMSE_LR = (cross_val_score(regressor, \n",
    "                             ohe_features_train, \n",
    "                             target_train, \n",
    "                             cv=5, \n",
    "                             scoring='neg_mean_squared_error').mean() * -1) ** 0.5\n",
    "print('RMSE для LinearRegression =', cv_RMSE_LR)"
   ]
  },
  {
   "cell_type": "markdown",
   "metadata": {},
   "source": [
    "Обучим модель CatBoostRegressor на тренировочной выборке. Определим лучшие значения гиперпараметров для этой модели."
   ]
  },
  {
   "cell_type": "code",
   "execution_count": 35,
   "metadata": {
    "scrolled": true
   },
   "outputs": [
    {
     "name": "stdout",
     "output_type": "stream",
     "text": [
      "# Идет подбор гиперпараметров\n",
      "\n"
     ]
    },
    {
     "name": "stderr",
     "output_type": "stream",
     "text": [
      "Custom logger is already specified. Specify more than one logger at same time is not thread safe."
     ]
    },
    {
     "name": "stdout",
     "output_type": "stream",
     "text": [
      "0:\tlearn: 4235.6496649\ttotal: 61.4ms\tremaining: 6.08s\n",
      "10:\tlearn: 2725.3367642\ttotal: 636ms\tremaining: 5.14s\n",
      "20:\tlearn: 2286.5624007\ttotal: 1.17s\tremaining: 4.4s\n",
      "30:\tlearn: 2120.0904967\ttotal: 1.7s\tremaining: 3.78s\n",
      "40:\tlearn: 2034.3731790\ttotal: 2.21s\tremaining: 3.18s\n",
      "50:\tlearn: 1981.1160181\ttotal: 2.71s\tremaining: 2.6s\n",
      "60:\tlearn: 1940.1350881\ttotal: 3.2s\tremaining: 2.05s\n",
      "70:\tlearn: 1910.0951890\ttotal: 3.72s\tremaining: 1.52s\n",
      "80:\tlearn: 1889.8815663\ttotal: 4.22s\tremaining: 989ms\n",
      "90:\tlearn: 1873.8292952\ttotal: 4.71s\tremaining: 466ms\n",
      "99:\tlearn: 1861.7538773\ttotal: 5.17s\tremaining: 0us\n",
      "0:\tlearn: 4240.7138703\ttotal: 58.4ms\tremaining: 5.78s\n",
      "10:\tlearn: 2737.5495336\ttotal: 619ms\tremaining: 5s\n",
      "20:\tlearn: 2291.5944981\ttotal: 1.18s\tremaining: 4.45s\n",
      "30:\tlearn: 2122.2122637\ttotal: 1.7s\tremaining: 3.79s\n",
      "40:\tlearn: 2035.8209154\ttotal: 2.2s\tremaining: 3.17s\n",
      "50:\tlearn: 1980.7181640\ttotal: 2.68s\tremaining: 2.58s\n",
      "60:\tlearn: 1940.3161884\ttotal: 3.19s\tremaining: 2.04s\n",
      "70:\tlearn: 1911.3813915\ttotal: 3.7s\tremaining: 1.51s\n",
      "80:\tlearn: 1890.2587892\ttotal: 4.22s\tremaining: 990ms\n",
      "90:\tlearn: 1874.6420654\ttotal: 4.74s\tremaining: 469ms\n",
      "99:\tlearn: 1861.4760372\ttotal: 5.2s\tremaining: 0us\n",
      "0:\tlearn: 4229.3568167\ttotal: 58ms\tremaining: 5.75s\n",
      "10:\tlearn: 2720.9264157\ttotal: 642ms\tremaining: 5.2s\n",
      "20:\tlearn: 2284.3399643\ttotal: 1.2s\tremaining: 4.5s\n",
      "30:\tlearn: 2116.6249626\ttotal: 1.75s\tremaining: 3.89s\n",
      "40:\tlearn: 2034.3423611\ttotal: 2.24s\tremaining: 3.22s\n",
      "50:\tlearn: 1982.9317792\ttotal: 2.74s\tremaining: 2.63s\n",
      "60:\tlearn: 1940.6144268\ttotal: 3.27s\tremaining: 2.09s\n",
      "70:\tlearn: 1910.8748702\ttotal: 3.79s\tremaining: 1.55s\n",
      "80:\tlearn: 1886.0806949\ttotal: 4.33s\tremaining: 1.01s\n",
      "90:\tlearn: 1870.5026808\ttotal: 4.85s\tremaining: 480ms\n",
      "99:\tlearn: 1856.6268111\ttotal: 5.33s\tremaining: 0us\n",
      "0:\tlearn: 4231.8153121\ttotal: 59.1ms\tremaining: 5.86s\n",
      "10:\tlearn: 2724.7339006\ttotal: 644ms\tremaining: 5.21s\n",
      "20:\tlearn: 2282.0729359\ttotal: 1.2s\tremaining: 4.53s\n",
      "30:\tlearn: 2116.2672906\ttotal: 1.77s\tremaining: 3.94s\n",
      "40:\tlearn: 2032.9213704\ttotal: 2.34s\tremaining: 3.36s\n",
      "50:\tlearn: 1975.5440184\ttotal: 2.86s\tremaining: 2.75s\n",
      "60:\tlearn: 1938.4212829\ttotal: 3.41s\tremaining: 2.18s\n",
      "70:\tlearn: 1912.3425555\ttotal: 4.16s\tremaining: 1.7s\n",
      "80:\tlearn: 1889.0475716\ttotal: 4.7s\tremaining: 1.1s\n",
      "90:\tlearn: 1874.4905765\ttotal: 5.18s\tremaining: 513ms\n",
      "99:\tlearn: 1861.2673898\ttotal: 5.65s\tremaining: 0us\n",
      "0:\tlearn: 4230.9115759\ttotal: 59.3ms\tremaining: 5.87s\n",
      "10:\tlearn: 2723.7267390\ttotal: 618ms\tremaining: 5s\n",
      "20:\tlearn: 2277.9089627\ttotal: 1.15s\tremaining: 4.32s\n",
      "30:\tlearn: 2109.4351170\ttotal: 1.69s\tremaining: 3.75s\n",
      "40:\tlearn: 2029.5948796\ttotal: 2.19s\tremaining: 3.15s\n",
      "50:\tlearn: 1980.9007596\ttotal: 2.69s\tremaining: 2.58s\n",
      "60:\tlearn: 1942.7888218\ttotal: 3.18s\tremaining: 2.04s\n"
     ]
    },
    {
     "ename": "KeyboardInterrupt",
     "evalue": "",
     "output_type": "error",
     "traceback": [
      "\u001b[0;31m---------------------------------------------------------------------------\u001b[0m",
      "\u001b[0;31mKeyboardInterrupt\u001b[0m                         Traceback (most recent call last)",
      "\u001b[0;32m/opt/conda/lib/python3.9/site-packages/catboost/core.py\u001b[0m in \u001b[0;36m_fit\u001b[0;34m(self, X, y, cat_features, text_features, embedding_features, pairs, sample_weight, group_id, group_weight, subgroup_id, pairs_weight, baseline, use_best_model, eval_set, verbose, logging_level, plot, column_description, verbose_eval, metric_period, silent, early_stopping_rounds, save_snapshot, snapshot_file, snapshot_interval, init_model, callbacks, log_cout, log_cerr)\u001b[0m\n\u001b[1;32m   2036\u001b[0m             \u001b[0mplot_wrapper\u001b[0m\u001b[0;34m(\u001b[0m\u001b[0mplot\u001b[0m\u001b[0;34m,\u001b[0m \u001b[0;34m[\u001b[0m\u001b[0m_get_train_dir\u001b[0m\u001b[0;34m(\u001b[0m\u001b[0mself\u001b[0m\u001b[0;34m.\u001b[0m\u001b[0mget_params\u001b[0m\u001b[0;34m(\u001b[0m\u001b[0;34m)\u001b[0m\u001b[0;34m)\u001b[0m\u001b[0;34m]\u001b[0m\u001b[0;34m)\u001b[0m\u001b[0;34m:\u001b[0m\u001b[0;34m\u001b[0m\u001b[0;34m\u001b[0m\u001b[0m\n\u001b[0;32m-> 2037\u001b[0;31m             self._train(\n\u001b[0m\u001b[1;32m   2038\u001b[0m                 \u001b[0mtrain_pool\u001b[0m\u001b[0;34m,\u001b[0m\u001b[0;34m\u001b[0m\u001b[0;34m\u001b[0m\u001b[0m\n",
      "\u001b[0;32m/opt/conda/lib/python3.9/site-packages/catboost/core.py\u001b[0m in \u001b[0;36m_train\u001b[0;34m(self, train_pool, test_pool, params, allow_clear_pool, init_model)\u001b[0m\n\u001b[1;32m   1463\u001b[0m     \u001b[0;32mdef\u001b[0m \u001b[0m_train\u001b[0m\u001b[0;34m(\u001b[0m\u001b[0mself\u001b[0m\u001b[0;34m,\u001b[0m \u001b[0mtrain_pool\u001b[0m\u001b[0;34m,\u001b[0m \u001b[0mtest_pool\u001b[0m\u001b[0;34m,\u001b[0m \u001b[0mparams\u001b[0m\u001b[0;34m,\u001b[0m \u001b[0mallow_clear_pool\u001b[0m\u001b[0;34m,\u001b[0m \u001b[0minit_model\u001b[0m\u001b[0;34m)\u001b[0m\u001b[0;34m:\u001b[0m\u001b[0;34m\u001b[0m\u001b[0;34m\u001b[0m\u001b[0m\n\u001b[0;32m-> 1464\u001b[0;31m         \u001b[0mself\u001b[0m\u001b[0;34m.\u001b[0m\u001b[0m_object\u001b[0m\u001b[0;34m.\u001b[0m\u001b[0m_train\u001b[0m\u001b[0;34m(\u001b[0m\u001b[0mtrain_pool\u001b[0m\u001b[0;34m,\u001b[0m \u001b[0mtest_pool\u001b[0m\u001b[0;34m,\u001b[0m \u001b[0mparams\u001b[0m\u001b[0;34m,\u001b[0m \u001b[0mallow_clear_pool\u001b[0m\u001b[0;34m,\u001b[0m \u001b[0minit_model\u001b[0m\u001b[0;34m.\u001b[0m\u001b[0m_object\u001b[0m \u001b[0;32mif\u001b[0m \u001b[0minit_model\u001b[0m \u001b[0;32melse\u001b[0m \u001b[0;32mNone\u001b[0m\u001b[0;34m)\u001b[0m\u001b[0;34m\u001b[0m\u001b[0;34m\u001b[0m\u001b[0m\n\u001b[0m\u001b[1;32m   1465\u001b[0m         \u001b[0mself\u001b[0m\u001b[0;34m.\u001b[0m\u001b[0m_set_trained_model_attributes\u001b[0m\u001b[0;34m(\u001b[0m\u001b[0;34m)\u001b[0m\u001b[0;34m\u001b[0m\u001b[0;34m\u001b[0m\u001b[0m\n",
      "\u001b[0;32m_catboost.pyx\u001b[0m in \u001b[0;36m_catboost._CatBoost._train\u001b[0;34m()\u001b[0m\n",
      "\u001b[0;32m_catboost.pyx\u001b[0m in \u001b[0;36m_catboost._CatBoost._train\u001b[0;34m()\u001b[0m\n",
      "\u001b[0;31mKeyboardInterrupt\u001b[0m: ",
      "\nDuring handling of the above exception, another exception occurred:\n",
      "\u001b[0;31mKeyboardInterrupt\u001b[0m                         Traceback (most recent call last)",
      "\u001b[0;32m<timed exec>\u001b[0m in \u001b[0;36m<module>\u001b[0;34m\u001b[0m\n",
      "\u001b[0;32m/opt/conda/lib/python3.9/site-packages/sklearn/utils/validation.py\u001b[0m in \u001b[0;36minner_f\u001b[0;34m(*args, **kwargs)\u001b[0m\n\u001b[1;32m     61\u001b[0m             \u001b[0mextra_args\u001b[0m \u001b[0;34m=\u001b[0m \u001b[0mlen\u001b[0m\u001b[0;34m(\u001b[0m\u001b[0margs\u001b[0m\u001b[0;34m)\u001b[0m \u001b[0;34m-\u001b[0m \u001b[0mlen\u001b[0m\u001b[0;34m(\u001b[0m\u001b[0mall_args\u001b[0m\u001b[0;34m)\u001b[0m\u001b[0;34m\u001b[0m\u001b[0;34m\u001b[0m\u001b[0m\n\u001b[1;32m     62\u001b[0m             \u001b[0;32mif\u001b[0m \u001b[0mextra_args\u001b[0m \u001b[0;34m<=\u001b[0m \u001b[0;36m0\u001b[0m\u001b[0;34m:\u001b[0m\u001b[0;34m\u001b[0m\u001b[0;34m\u001b[0m\u001b[0m\n\u001b[0;32m---> 63\u001b[0;31m                 \u001b[0;32mreturn\u001b[0m \u001b[0mf\u001b[0m\u001b[0;34m(\u001b[0m\u001b[0;34m*\u001b[0m\u001b[0margs\u001b[0m\u001b[0;34m,\u001b[0m \u001b[0;34m**\u001b[0m\u001b[0mkwargs\u001b[0m\u001b[0;34m)\u001b[0m\u001b[0;34m\u001b[0m\u001b[0;34m\u001b[0m\u001b[0m\n\u001b[0m\u001b[1;32m     64\u001b[0m \u001b[0;34m\u001b[0m\u001b[0m\n\u001b[1;32m     65\u001b[0m             \u001b[0;31m# extra_args > 0\u001b[0m\u001b[0;34m\u001b[0m\u001b[0;34m\u001b[0m\u001b[0;34m\u001b[0m\u001b[0m\n",
      "\u001b[0;32m/opt/conda/lib/python3.9/site-packages/sklearn/model_selection/_search.py\u001b[0m in \u001b[0;36mfit\u001b[0;34m(self, X, y, groups, **fit_params)\u001b[0m\n\u001b[1;32m    839\u001b[0m                 \u001b[0;32mreturn\u001b[0m \u001b[0mresults\u001b[0m\u001b[0;34m\u001b[0m\u001b[0;34m\u001b[0m\u001b[0m\n\u001b[1;32m    840\u001b[0m \u001b[0;34m\u001b[0m\u001b[0m\n\u001b[0;32m--> 841\u001b[0;31m             \u001b[0mself\u001b[0m\u001b[0;34m.\u001b[0m\u001b[0m_run_search\u001b[0m\u001b[0;34m(\u001b[0m\u001b[0mevaluate_candidates\u001b[0m\u001b[0;34m)\u001b[0m\u001b[0;34m\u001b[0m\u001b[0;34m\u001b[0m\u001b[0m\n\u001b[0m\u001b[1;32m    842\u001b[0m \u001b[0;34m\u001b[0m\u001b[0m\n\u001b[1;32m    843\u001b[0m             \u001b[0;31m# multimetric is determined here because in the case of a callable\u001b[0m\u001b[0;34m\u001b[0m\u001b[0;34m\u001b[0m\u001b[0;34m\u001b[0m\u001b[0m\n",
      "\u001b[0;32m/opt/conda/lib/python3.9/site-packages/sklearn/model_selection/_search.py\u001b[0m in \u001b[0;36m_run_search\u001b[0;34m(self, evaluate_candidates)\u001b[0m\n\u001b[1;32m   1286\u001b[0m     \u001b[0;32mdef\u001b[0m \u001b[0m_run_search\u001b[0m\u001b[0;34m(\u001b[0m\u001b[0mself\u001b[0m\u001b[0;34m,\u001b[0m \u001b[0mevaluate_candidates\u001b[0m\u001b[0;34m)\u001b[0m\u001b[0;34m:\u001b[0m\u001b[0;34m\u001b[0m\u001b[0;34m\u001b[0m\u001b[0m\n\u001b[1;32m   1287\u001b[0m         \u001b[0;34m\"\"\"Search all candidates in param_grid\"\"\"\u001b[0m\u001b[0;34m\u001b[0m\u001b[0;34m\u001b[0m\u001b[0m\n\u001b[0;32m-> 1288\u001b[0;31m         \u001b[0mevaluate_candidates\u001b[0m\u001b[0;34m(\u001b[0m\u001b[0mParameterGrid\u001b[0m\u001b[0;34m(\u001b[0m\u001b[0mself\u001b[0m\u001b[0;34m.\u001b[0m\u001b[0mparam_grid\u001b[0m\u001b[0;34m)\u001b[0m\u001b[0;34m)\u001b[0m\u001b[0;34m\u001b[0m\u001b[0;34m\u001b[0m\u001b[0m\n\u001b[0m\u001b[1;32m   1289\u001b[0m \u001b[0;34m\u001b[0m\u001b[0m\n\u001b[1;32m   1290\u001b[0m \u001b[0;34m\u001b[0m\u001b[0m\n",
      "\u001b[0;32m/opt/conda/lib/python3.9/site-packages/sklearn/model_selection/_search.py\u001b[0m in \u001b[0;36mevaluate_candidates\u001b[0;34m(candidate_params, cv, more_results)\u001b[0m\n\u001b[1;32m    793\u001b[0m                               n_splits, n_candidates, n_candidates * n_splits))\n\u001b[1;32m    794\u001b[0m \u001b[0;34m\u001b[0m\u001b[0m\n\u001b[0;32m--> 795\u001b[0;31m                 out = parallel(delayed(_fit_and_score)(clone(base_estimator),\n\u001b[0m\u001b[1;32m    796\u001b[0m                                                        \u001b[0mX\u001b[0m\u001b[0;34m,\u001b[0m \u001b[0my\u001b[0m\u001b[0;34m,\u001b[0m\u001b[0;34m\u001b[0m\u001b[0;34m\u001b[0m\u001b[0m\n\u001b[1;32m    797\u001b[0m                                                        \u001b[0mtrain\u001b[0m\u001b[0;34m=\u001b[0m\u001b[0mtrain\u001b[0m\u001b[0;34m,\u001b[0m \u001b[0mtest\u001b[0m\u001b[0;34m=\u001b[0m\u001b[0mtest\u001b[0m\u001b[0;34m,\u001b[0m\u001b[0;34m\u001b[0m\u001b[0;34m\u001b[0m\u001b[0m\n",
      "\u001b[0;32m/opt/conda/lib/python3.9/site-packages/joblib/parallel.py\u001b[0m in \u001b[0;36m__call__\u001b[0;34m(self, iterable)\u001b[0m\n\u001b[1;32m   1044\u001b[0m                 \u001b[0mself\u001b[0m\u001b[0;34m.\u001b[0m\u001b[0m_iterating\u001b[0m \u001b[0;34m=\u001b[0m \u001b[0mself\u001b[0m\u001b[0;34m.\u001b[0m\u001b[0m_original_iterator\u001b[0m \u001b[0;32mis\u001b[0m \u001b[0;32mnot\u001b[0m \u001b[0;32mNone\u001b[0m\u001b[0;34m\u001b[0m\u001b[0;34m\u001b[0m\u001b[0m\n\u001b[1;32m   1045\u001b[0m \u001b[0;34m\u001b[0m\u001b[0m\n\u001b[0;32m-> 1046\u001b[0;31m             \u001b[0;32mwhile\u001b[0m \u001b[0mself\u001b[0m\u001b[0;34m.\u001b[0m\u001b[0mdispatch_one_batch\u001b[0m\u001b[0;34m(\u001b[0m\u001b[0miterator\u001b[0m\u001b[0;34m)\u001b[0m\u001b[0;34m:\u001b[0m\u001b[0;34m\u001b[0m\u001b[0;34m\u001b[0m\u001b[0m\n\u001b[0m\u001b[1;32m   1047\u001b[0m                 \u001b[0;32mpass\u001b[0m\u001b[0;34m\u001b[0m\u001b[0;34m\u001b[0m\u001b[0m\n\u001b[1;32m   1048\u001b[0m \u001b[0;34m\u001b[0m\u001b[0m\n",
      "\u001b[0;32m/opt/conda/lib/python3.9/site-packages/joblib/parallel.py\u001b[0m in \u001b[0;36mdispatch_one_batch\u001b[0;34m(self, iterator)\u001b[0m\n\u001b[1;32m    859\u001b[0m                 \u001b[0;32mreturn\u001b[0m \u001b[0;32mFalse\u001b[0m\u001b[0;34m\u001b[0m\u001b[0;34m\u001b[0m\u001b[0m\n\u001b[1;32m    860\u001b[0m             \u001b[0;32melse\u001b[0m\u001b[0;34m:\u001b[0m\u001b[0;34m\u001b[0m\u001b[0;34m\u001b[0m\u001b[0m\n\u001b[0;32m--> 861\u001b[0;31m                 \u001b[0mself\u001b[0m\u001b[0;34m.\u001b[0m\u001b[0m_dispatch\u001b[0m\u001b[0;34m(\u001b[0m\u001b[0mtasks\u001b[0m\u001b[0;34m)\u001b[0m\u001b[0;34m\u001b[0m\u001b[0;34m\u001b[0m\u001b[0m\n\u001b[0m\u001b[1;32m    862\u001b[0m                 \u001b[0;32mreturn\u001b[0m \u001b[0;32mTrue\u001b[0m\u001b[0;34m\u001b[0m\u001b[0;34m\u001b[0m\u001b[0m\n\u001b[1;32m    863\u001b[0m \u001b[0;34m\u001b[0m\u001b[0m\n",
      "\u001b[0;32m/opt/conda/lib/python3.9/site-packages/joblib/parallel.py\u001b[0m in \u001b[0;36m_dispatch\u001b[0;34m(self, batch)\u001b[0m\n\u001b[1;32m    777\u001b[0m         \u001b[0;32mwith\u001b[0m \u001b[0mself\u001b[0m\u001b[0;34m.\u001b[0m\u001b[0m_lock\u001b[0m\u001b[0;34m:\u001b[0m\u001b[0;34m\u001b[0m\u001b[0;34m\u001b[0m\u001b[0m\n\u001b[1;32m    778\u001b[0m             \u001b[0mjob_idx\u001b[0m \u001b[0;34m=\u001b[0m \u001b[0mlen\u001b[0m\u001b[0;34m(\u001b[0m\u001b[0mself\u001b[0m\u001b[0;34m.\u001b[0m\u001b[0m_jobs\u001b[0m\u001b[0;34m)\u001b[0m\u001b[0;34m\u001b[0m\u001b[0;34m\u001b[0m\u001b[0m\n\u001b[0;32m--> 779\u001b[0;31m             \u001b[0mjob\u001b[0m \u001b[0;34m=\u001b[0m \u001b[0mself\u001b[0m\u001b[0;34m.\u001b[0m\u001b[0m_backend\u001b[0m\u001b[0;34m.\u001b[0m\u001b[0mapply_async\u001b[0m\u001b[0;34m(\u001b[0m\u001b[0mbatch\u001b[0m\u001b[0;34m,\u001b[0m \u001b[0mcallback\u001b[0m\u001b[0;34m=\u001b[0m\u001b[0mcb\u001b[0m\u001b[0;34m)\u001b[0m\u001b[0;34m\u001b[0m\u001b[0;34m\u001b[0m\u001b[0m\n\u001b[0m\u001b[1;32m    780\u001b[0m             \u001b[0;31m# A job can complete so quickly than its callback is\u001b[0m\u001b[0;34m\u001b[0m\u001b[0;34m\u001b[0m\u001b[0;34m\u001b[0m\u001b[0m\n\u001b[1;32m    781\u001b[0m             \u001b[0;31m# called before we get here, causing self._jobs to\u001b[0m\u001b[0;34m\u001b[0m\u001b[0;34m\u001b[0m\u001b[0;34m\u001b[0m\u001b[0m\n",
      "\u001b[0;32m/opt/conda/lib/python3.9/site-packages/joblib/_parallel_backends.py\u001b[0m in \u001b[0;36mapply_async\u001b[0;34m(self, func, callback)\u001b[0m\n\u001b[1;32m    206\u001b[0m     \u001b[0;32mdef\u001b[0m \u001b[0mapply_async\u001b[0m\u001b[0;34m(\u001b[0m\u001b[0mself\u001b[0m\u001b[0;34m,\u001b[0m \u001b[0mfunc\u001b[0m\u001b[0;34m,\u001b[0m \u001b[0mcallback\u001b[0m\u001b[0;34m=\u001b[0m\u001b[0;32mNone\u001b[0m\u001b[0;34m)\u001b[0m\u001b[0;34m:\u001b[0m\u001b[0;34m\u001b[0m\u001b[0;34m\u001b[0m\u001b[0m\n\u001b[1;32m    207\u001b[0m         \u001b[0;34m\"\"\"Schedule a func to be run\"\"\"\u001b[0m\u001b[0;34m\u001b[0m\u001b[0;34m\u001b[0m\u001b[0m\n\u001b[0;32m--> 208\u001b[0;31m         \u001b[0mresult\u001b[0m \u001b[0;34m=\u001b[0m \u001b[0mImmediateResult\u001b[0m\u001b[0;34m(\u001b[0m\u001b[0mfunc\u001b[0m\u001b[0;34m)\u001b[0m\u001b[0;34m\u001b[0m\u001b[0;34m\u001b[0m\u001b[0m\n\u001b[0m\u001b[1;32m    209\u001b[0m         \u001b[0;32mif\u001b[0m \u001b[0mcallback\u001b[0m\u001b[0;34m:\u001b[0m\u001b[0;34m\u001b[0m\u001b[0;34m\u001b[0m\u001b[0m\n\u001b[1;32m    210\u001b[0m             \u001b[0mcallback\u001b[0m\u001b[0;34m(\u001b[0m\u001b[0mresult\u001b[0m\u001b[0;34m)\u001b[0m\u001b[0;34m\u001b[0m\u001b[0;34m\u001b[0m\u001b[0m\n",
      "\u001b[0;32m/opt/conda/lib/python3.9/site-packages/joblib/_parallel_backends.py\u001b[0m in \u001b[0;36m__init__\u001b[0;34m(self, batch)\u001b[0m\n\u001b[1;32m    570\u001b[0m         \u001b[0;31m# Don't delay the application, to avoid keeping the input\u001b[0m\u001b[0;34m\u001b[0m\u001b[0;34m\u001b[0m\u001b[0;34m\u001b[0m\u001b[0m\n\u001b[1;32m    571\u001b[0m         \u001b[0;31m# arguments in memory\u001b[0m\u001b[0;34m\u001b[0m\u001b[0;34m\u001b[0m\u001b[0;34m\u001b[0m\u001b[0m\n\u001b[0;32m--> 572\u001b[0;31m         \u001b[0mself\u001b[0m\u001b[0;34m.\u001b[0m\u001b[0mresults\u001b[0m \u001b[0;34m=\u001b[0m \u001b[0mbatch\u001b[0m\u001b[0;34m(\u001b[0m\u001b[0;34m)\u001b[0m\u001b[0;34m\u001b[0m\u001b[0;34m\u001b[0m\u001b[0m\n\u001b[0m\u001b[1;32m    573\u001b[0m \u001b[0;34m\u001b[0m\u001b[0m\n\u001b[1;32m    574\u001b[0m     \u001b[0;32mdef\u001b[0m \u001b[0mget\u001b[0m\u001b[0;34m(\u001b[0m\u001b[0mself\u001b[0m\u001b[0;34m)\u001b[0m\u001b[0;34m:\u001b[0m\u001b[0;34m\u001b[0m\u001b[0;34m\u001b[0m\u001b[0m\n",
      "\u001b[0;32m/opt/conda/lib/python3.9/site-packages/joblib/parallel.py\u001b[0m in \u001b[0;36m__call__\u001b[0;34m(self)\u001b[0m\n\u001b[1;32m    260\u001b[0m         \u001b[0;31m# change the default number of processes to -1\u001b[0m\u001b[0;34m\u001b[0m\u001b[0;34m\u001b[0m\u001b[0;34m\u001b[0m\u001b[0m\n\u001b[1;32m    261\u001b[0m         \u001b[0;32mwith\u001b[0m \u001b[0mparallel_backend\u001b[0m\u001b[0;34m(\u001b[0m\u001b[0mself\u001b[0m\u001b[0;34m.\u001b[0m\u001b[0m_backend\u001b[0m\u001b[0;34m,\u001b[0m \u001b[0mn_jobs\u001b[0m\u001b[0;34m=\u001b[0m\u001b[0mself\u001b[0m\u001b[0;34m.\u001b[0m\u001b[0m_n_jobs\u001b[0m\u001b[0;34m)\u001b[0m\u001b[0;34m:\u001b[0m\u001b[0;34m\u001b[0m\u001b[0;34m\u001b[0m\u001b[0m\n\u001b[0;32m--> 262\u001b[0;31m             return [func(*args, **kwargs)\n\u001b[0m\u001b[1;32m    263\u001b[0m                     for func, args, kwargs in self.items]\n\u001b[1;32m    264\u001b[0m \u001b[0;34m\u001b[0m\u001b[0m\n",
      "\u001b[0;32m/opt/conda/lib/python3.9/site-packages/joblib/parallel.py\u001b[0m in \u001b[0;36m<listcomp>\u001b[0;34m(.0)\u001b[0m\n\u001b[1;32m    260\u001b[0m         \u001b[0;31m# change the default number of processes to -1\u001b[0m\u001b[0;34m\u001b[0m\u001b[0;34m\u001b[0m\u001b[0;34m\u001b[0m\u001b[0m\n\u001b[1;32m    261\u001b[0m         \u001b[0;32mwith\u001b[0m \u001b[0mparallel_backend\u001b[0m\u001b[0;34m(\u001b[0m\u001b[0mself\u001b[0m\u001b[0;34m.\u001b[0m\u001b[0m_backend\u001b[0m\u001b[0;34m,\u001b[0m \u001b[0mn_jobs\u001b[0m\u001b[0;34m=\u001b[0m\u001b[0mself\u001b[0m\u001b[0;34m.\u001b[0m\u001b[0m_n_jobs\u001b[0m\u001b[0;34m)\u001b[0m\u001b[0;34m:\u001b[0m\u001b[0;34m\u001b[0m\u001b[0;34m\u001b[0m\u001b[0m\n\u001b[0;32m--> 262\u001b[0;31m             return [func(*args, **kwargs)\n\u001b[0m\u001b[1;32m    263\u001b[0m                     for func, args, kwargs in self.items]\n\u001b[1;32m    264\u001b[0m \u001b[0;34m\u001b[0m\u001b[0m\n",
      "\u001b[0;32m/opt/conda/lib/python3.9/site-packages/sklearn/utils/fixes.py\u001b[0m in \u001b[0;36m__call__\u001b[0;34m(self, *args, **kwargs)\u001b[0m\n\u001b[1;32m    220\u001b[0m     \u001b[0;32mdef\u001b[0m \u001b[0m__call__\u001b[0m\u001b[0;34m(\u001b[0m\u001b[0mself\u001b[0m\u001b[0;34m,\u001b[0m \u001b[0;34m*\u001b[0m\u001b[0margs\u001b[0m\u001b[0;34m,\u001b[0m \u001b[0;34m**\u001b[0m\u001b[0mkwargs\u001b[0m\u001b[0;34m)\u001b[0m\u001b[0;34m:\u001b[0m\u001b[0;34m\u001b[0m\u001b[0;34m\u001b[0m\u001b[0m\n\u001b[1;32m    221\u001b[0m         \u001b[0;32mwith\u001b[0m \u001b[0mconfig_context\u001b[0m\u001b[0;34m(\u001b[0m\u001b[0;34m**\u001b[0m\u001b[0mself\u001b[0m\u001b[0;34m.\u001b[0m\u001b[0mconfig\u001b[0m\u001b[0;34m)\u001b[0m\u001b[0;34m:\u001b[0m\u001b[0;34m\u001b[0m\u001b[0;34m\u001b[0m\u001b[0m\n\u001b[0;32m--> 222\u001b[0;31m             \u001b[0;32mreturn\u001b[0m \u001b[0mself\u001b[0m\u001b[0;34m.\u001b[0m\u001b[0mfunction\u001b[0m\u001b[0;34m(\u001b[0m\u001b[0;34m*\u001b[0m\u001b[0margs\u001b[0m\u001b[0;34m,\u001b[0m \u001b[0;34m**\u001b[0m\u001b[0mkwargs\u001b[0m\u001b[0;34m)\u001b[0m\u001b[0;34m\u001b[0m\u001b[0;34m\u001b[0m\u001b[0m\n\u001b[0m",
      "\u001b[0;32m/opt/conda/lib/python3.9/site-packages/sklearn/model_selection/_validation.py\u001b[0m in \u001b[0;36m_fit_and_score\u001b[0;34m(estimator, X, y, scorer, train, test, verbose, parameters, fit_params, return_train_score, return_parameters, return_n_test_samples, return_times, return_estimator, split_progress, candidate_progress, error_score)\u001b[0m\n\u001b[1;32m    591\u001b[0m             \u001b[0mestimator\u001b[0m\u001b[0;34m.\u001b[0m\u001b[0mfit\u001b[0m\u001b[0;34m(\u001b[0m\u001b[0mX_train\u001b[0m\u001b[0;34m,\u001b[0m \u001b[0;34m**\u001b[0m\u001b[0mfit_params\u001b[0m\u001b[0;34m)\u001b[0m\u001b[0;34m\u001b[0m\u001b[0;34m\u001b[0m\u001b[0m\n\u001b[1;32m    592\u001b[0m         \u001b[0;32melse\u001b[0m\u001b[0;34m:\u001b[0m\u001b[0;34m\u001b[0m\u001b[0;34m\u001b[0m\u001b[0m\n\u001b[0;32m--> 593\u001b[0;31m             \u001b[0mestimator\u001b[0m\u001b[0;34m.\u001b[0m\u001b[0mfit\u001b[0m\u001b[0;34m(\u001b[0m\u001b[0mX_train\u001b[0m\u001b[0;34m,\u001b[0m \u001b[0my_train\u001b[0m\u001b[0;34m,\u001b[0m \u001b[0;34m**\u001b[0m\u001b[0mfit_params\u001b[0m\u001b[0;34m)\u001b[0m\u001b[0;34m\u001b[0m\u001b[0;34m\u001b[0m\u001b[0m\n\u001b[0m\u001b[1;32m    594\u001b[0m \u001b[0;34m\u001b[0m\u001b[0m\n\u001b[1;32m    595\u001b[0m     \u001b[0;32mexcept\u001b[0m \u001b[0mException\u001b[0m \u001b[0;32mas\u001b[0m \u001b[0me\u001b[0m\u001b[0;34m:\u001b[0m\u001b[0;34m\u001b[0m\u001b[0;34m\u001b[0m\u001b[0m\n",
      "\u001b[0;32m/opt/conda/lib/python3.9/site-packages/catboost/core.py\u001b[0m in \u001b[0;36mfit\u001b[0;34m(self, X, y, cat_features, sample_weight, baseline, use_best_model, eval_set, verbose, logging_level, plot, column_description, verbose_eval, metric_period, silent, early_stopping_rounds, save_snapshot, snapshot_file, snapshot_interval, init_model, callbacks, log_cout, log_cerr)\u001b[0m\n\u001b[1;32m   5297\u001b[0m             \u001b[0mCatBoostRegressor\u001b[0m\u001b[0;34m.\u001b[0m\u001b[0m_check_is_compatible_loss\u001b[0m\u001b[0;34m(\u001b[0m\u001b[0mparams\u001b[0m\u001b[0;34m[\u001b[0m\u001b[0;34m'loss_function'\u001b[0m\u001b[0;34m]\u001b[0m\u001b[0;34m)\u001b[0m\u001b[0;34m\u001b[0m\u001b[0;34m\u001b[0m\u001b[0m\n\u001b[1;32m   5298\u001b[0m \u001b[0;34m\u001b[0m\u001b[0m\n\u001b[0;32m-> 5299\u001b[0;31m         return self._fit(X, y, cat_features, None, None, None, sample_weight, None, None, None, None, baseline,\n\u001b[0m\u001b[1;32m   5300\u001b[0m                          \u001b[0muse_best_model\u001b[0m\u001b[0;34m,\u001b[0m \u001b[0meval_set\u001b[0m\u001b[0;34m,\u001b[0m \u001b[0mverbose\u001b[0m\u001b[0;34m,\u001b[0m \u001b[0mlogging_level\u001b[0m\u001b[0;34m,\u001b[0m \u001b[0mplot\u001b[0m\u001b[0;34m,\u001b[0m \u001b[0mcolumn_description\u001b[0m\u001b[0;34m,\u001b[0m\u001b[0;34m\u001b[0m\u001b[0;34m\u001b[0m\u001b[0m\n\u001b[1;32m   5301\u001b[0m                          \u001b[0mverbose_eval\u001b[0m\u001b[0;34m,\u001b[0m \u001b[0mmetric_period\u001b[0m\u001b[0;34m,\u001b[0m \u001b[0msilent\u001b[0m\u001b[0;34m,\u001b[0m \u001b[0mearly_stopping_rounds\u001b[0m\u001b[0;34m,\u001b[0m\u001b[0;34m\u001b[0m\u001b[0;34m\u001b[0m\u001b[0m\n",
      "\u001b[0;32m/opt/conda/lib/python3.9/site-packages/catboost/core.py\u001b[0m in \u001b[0;36m_fit\u001b[0;34m(self, X, y, cat_features, text_features, embedding_features, pairs, sample_weight, group_id, group_weight, subgroup_id, pairs_weight, baseline, use_best_model, eval_set, verbose, logging_level, plot, column_description, verbose_eval, metric_period, silent, early_stopping_rounds, save_snapshot, snapshot_file, snapshot_interval, init_model, callbacks, log_cout, log_cerr)\u001b[0m\n\u001b[1;32m   2035\u001b[0m         \u001b[0;32mwith\u001b[0m \u001b[0mlog_fixup\u001b[0m\u001b[0;34m(\u001b[0m\u001b[0mlog_cout\u001b[0m\u001b[0;34m,\u001b[0m \u001b[0mlog_cerr\u001b[0m\u001b[0;34m)\u001b[0m\u001b[0;34m,\u001b[0m\u001b[0;31m \u001b[0m\u001b[0;31m\\\u001b[0m\u001b[0;34m\u001b[0m\u001b[0;34m\u001b[0m\u001b[0m\n\u001b[1;32m   2036\u001b[0m             \u001b[0mplot_wrapper\u001b[0m\u001b[0;34m(\u001b[0m\u001b[0mplot\u001b[0m\u001b[0;34m,\u001b[0m \u001b[0;34m[\u001b[0m\u001b[0m_get_train_dir\u001b[0m\u001b[0;34m(\u001b[0m\u001b[0mself\u001b[0m\u001b[0;34m.\u001b[0m\u001b[0mget_params\u001b[0m\u001b[0;34m(\u001b[0m\u001b[0;34m)\u001b[0m\u001b[0;34m)\u001b[0m\u001b[0;34m]\u001b[0m\u001b[0;34m)\u001b[0m\u001b[0;34m:\u001b[0m\u001b[0;34m\u001b[0m\u001b[0;34m\u001b[0m\u001b[0m\n\u001b[0;32m-> 2037\u001b[0;31m             self._train(\n\u001b[0m\u001b[1;32m   2038\u001b[0m                 \u001b[0mtrain_pool\u001b[0m\u001b[0;34m,\u001b[0m\u001b[0;34m\u001b[0m\u001b[0;34m\u001b[0m\u001b[0m\n\u001b[1;32m   2039\u001b[0m                 \u001b[0mtrain_params\u001b[0m\u001b[0;34m[\u001b[0m\u001b[0;34m\"eval_sets\"\u001b[0m\u001b[0;34m]\u001b[0m\u001b[0;34m,\u001b[0m\u001b[0;34m\u001b[0m\u001b[0;34m\u001b[0m\u001b[0m\n",
      "\u001b[0;31mKeyboardInterrupt\u001b[0m: "
     ]
    }
   ],
   "source": [
    "%%time\n",
    "regressor = CatBoostRegressor() \n",
    "hyperparams = [{'learning_rate':[0.1, 0.5, 0.8],\n",
    "                'random_state':[12345],\n",
    "                'verbose':[False]}]\n",
    "\n",
    "print('# Идет подбор гиперпараметров')\n",
    "print()\n",
    "clf = GridSearchCV(regressor, hyperparams, scoring='neg_mean_squared_error')\n",
    "clf.fit(ordinal_features_train, target_train, cat_features = ['VehicleType', 'FuelType', 'Brand', 'Model', 'Gearbox', 'NotRepaired', 'CarsCat'])\n",
    "print('Лучшие гиперпараметры:')\n",
    "print()\n",
    "print(clf.best_params_)\n",
    "print()\n",
    "print('Значения RMSE для разных гиперпараметров:')\n",
    "print()\n",
    "means = clf.cv_results_['mean_test_score']\n",
    "stds = clf.cv_results_['std_test_score']\n",
    "for mean, std, params in zip(means, stds, clf.cv_results_['params']):\n",
    "    print(\"%0.6f for %r\"% ((mean*-1)** 0.5, params))\n",
    "print()\n",
    "\n",
    "cv_RMSE_CBR_ordinal = (max(means)*-1) ** 0.5"
   ]
  },
  {
   "cell_type": "markdown",
   "metadata": {},
   "source": [
    "Обучим модель LGBMRegressor на тренировочной выборке. Определим лучшие значения гиперпараметров для этой модели."
   ]
  },
  {
   "cell_type": "code",
   "execution_count": 37,
   "metadata": {},
   "outputs": [
    {
     "name": "stdout",
     "output_type": "stream",
     "text": [
      "# Идет подбор гиперпараметров\n",
      "\n",
      "[LightGBM] [Debug] Dataset::GetMultiBinFromSparseFeatures: sparse rate 0.771863\n",
      "[LightGBM] [Debug] Dataset::GetMultiBinFromAllFeatures: sparse rate 0.227185\n",
      "[LightGBM] [Debug] init for col-wise cost 0.089894 seconds, init for row-wise cost 0.102097 seconds\n",
      "[LightGBM] [Warning] Auto-choosing row-wise multi-threading, the overhead of testing was 0.093388 seconds.\n",
      "You can set `force_row_wise=true` to remove the overhead.\n",
      "And if memory is not enough, you can set `force_col_wise=true`.\n",
      "[LightGBM] [Debug] Using Dense Multi-Val Bin\n",
      "[LightGBM] [Info] Total Bins 678\n",
      "[LightGBM] [Info] Number of data points in the train set: 204561, number of used features: 11\n",
      "[LightGBM] [Info] Start training from score 4585.907367\n",
      "[LightGBM] [Debug] Trained a tree with leaves = 100 and depth = 10\n",
      "[LightGBM] [Debug] Trained a tree with leaves = 100 and depth = 10\n",
      "[LightGBM] [Debug] Trained a tree with leaves = 100 and depth = 10\n",
      "[LightGBM] [Debug] Trained a tree with leaves = 100 and depth = 10\n",
      "[LightGBM] [Debug] Trained a tree with leaves = 100 and depth = 10\n",
      "[LightGBM] [Debug] Trained a tree with leaves = 100 and depth = 10\n",
      "[LightGBM] [Debug] Trained a tree with leaves = 100 and depth = 10\n",
      "[LightGBM] [Debug] Trained a tree with leaves = 100 and depth = 10\n",
      "[LightGBM] [Debug] Trained a tree with leaves = 100 and depth = 10\n",
      "[LightGBM] [Debug] Trained a tree with leaves = 100 and depth = 11\n",
      "[LightGBM] [Debug] Trained a tree with leaves = 100 and depth = 10\n",
      "[LightGBM] [Debug] Trained a tree with leaves = 100 and depth = 12\n",
      "[LightGBM] [Debug] Trained a tree with leaves = 100 and depth = 11\n",
      "[LightGBM] [Debug] Trained a tree with leaves = 100 and depth = 13\n",
      "[LightGBM] [Debug] Trained a tree with leaves = 100 and depth = 10\n",
      "[LightGBM] [Debug] Trained a tree with leaves = 100 and depth = 11\n",
      "[LightGBM] [Debug] Trained a tree with leaves = 100 and depth = 12\n",
      "[LightGBM] [Debug] Trained a tree with leaves = 100 and depth = 12\n",
      "[LightGBM] [Debug] Trained a tree with leaves = 100 and depth = 14\n",
      "[LightGBM] [Debug] Trained a tree with leaves = 100 and depth = 12\n",
      "[LightGBM] [Debug] Trained a tree with leaves = 100 and depth = 15\n",
      "[LightGBM] [Debug] Trained a tree with leaves = 100 and depth = 12\n",
      "[LightGBM] [Debug] Trained a tree with leaves = 100 and depth = 12\n",
      "[LightGBM] [Debug] Trained a tree with leaves = 100 and depth = 12\n",
      "[LightGBM] [Debug] Trained a tree with leaves = 100 and depth = 13\n",
      "[LightGBM] [Debug] Trained a tree with leaves = 100 and depth = 12\n",
      "[LightGBM] [Debug] Trained a tree with leaves = 100 and depth = 16\n",
      "[LightGBM] [Debug] Trained a tree with leaves = 100 and depth = 14\n",
      "[LightGBM] [Debug] Trained a tree with leaves = 100 and depth = 13\n",
      "[LightGBM] [Debug] Trained a tree with leaves = 100 and depth = 12\n",
      "[LightGBM] [Debug] Trained a tree with leaves = 100 and depth = 14\n",
      "[LightGBM] [Debug] Trained a tree with leaves = 100 and depth = 13\n",
      "[LightGBM] [Debug] Trained a tree with leaves = 100 and depth = 14\n",
      "[LightGBM] [Debug] Trained a tree with leaves = 100 and depth = 15\n",
      "[LightGBM] [Debug] Trained a tree with leaves = 100 and depth = 14\n",
      "[LightGBM] [Debug] Trained a tree with leaves = 100 and depth = 17\n",
      "[LightGBM] [Debug] Trained a tree with leaves = 100 and depth = 13\n",
      "[LightGBM] [Debug] Trained a tree with leaves = 100 and depth = 16\n",
      "[LightGBM] [Debug] Trained a tree with leaves = 100 and depth = 13\n",
      "[LightGBM] [Debug] Trained a tree with leaves = 100 and depth = 15\n",
      "[LightGBM] [Debug] Trained a tree with leaves = 100 and depth = 19\n",
      "[LightGBM] [Debug] Trained a tree with leaves = 100 and depth = 14\n",
      "[LightGBM] [Debug] Trained a tree with leaves = 100 and depth = 17\n",
      "[LightGBM] [Debug] Trained a tree with leaves = 100 and depth = 14\n",
      "[LightGBM] [Debug] Trained a tree with leaves = 100 and depth = 16\n",
      "[LightGBM] [Debug] Trained a tree with leaves = 100 and depth = 16\n",
      "[LightGBM] [Debug] Trained a tree with leaves = 100 and depth = 16\n",
      "[LightGBM] [Debug] Trained a tree with leaves = 100 and depth = 16\n",
      "[LightGBM] [Debug] Trained a tree with leaves = 100 and depth = 15\n",
      "[LightGBM] [Debug] Trained a tree with leaves = 100 and depth = 18\n",
      "[LightGBM] [Debug] Trained a tree with leaves = 100 and depth = 19\n",
      "[LightGBM] [Debug] Trained a tree with leaves = 100 and depth = 16\n",
      "[LightGBM] [Debug] Trained a tree with leaves = 100 and depth = 15\n",
      "[LightGBM] [Debug] Trained a tree with leaves = 100 and depth = 14\n",
      "[LightGBM] [Debug] Trained a tree with leaves = 100 and depth = 17\n",
      "[LightGBM] [Debug] Trained a tree with leaves = 100 and depth = 17\n",
      "[LightGBM] [Debug] Trained a tree with leaves = 100 and depth = 15\n",
      "[LightGBM] [Debug] Trained a tree with leaves = 100 and depth = 18\n",
      "[LightGBM] [Debug] Trained a tree with leaves = 100 and depth = 17\n",
      "[LightGBM] [Debug] Trained a tree with leaves = 100 and depth = 17\n",
      "[LightGBM] [Debug] Trained a tree with leaves = 100 and depth = 16\n",
      "[LightGBM] [Debug] Trained a tree with leaves = 100 and depth = 22\n",
      "[LightGBM] [Debug] Trained a tree with leaves = 100 and depth = 16\n",
      "[LightGBM] [Debug] Trained a tree with leaves = 100 and depth = 18\n",
      "[LightGBM] [Debug] Trained a tree with leaves = 100 and depth = 26\n",
      "[LightGBM] [Debug] Trained a tree with leaves = 100 and depth = 16\n",
      "[LightGBM] [Debug] Trained a tree with leaves = 100 and depth = 20\n",
      "[LightGBM] [Debug] Trained a tree with leaves = 100 and depth = 18\n",
      "[LightGBM] [Debug] Trained a tree with leaves = 100 and depth = 17\n",
      "[LightGBM] [Debug] Trained a tree with leaves = 100 and depth = 15\n",
      "[LightGBM] [Debug] Trained a tree with leaves = 100 and depth = 15\n",
      "[LightGBM] [Debug] Trained a tree with leaves = 100 and depth = 18\n",
      "[LightGBM] [Debug] Trained a tree with leaves = 100 and depth = 16\n",
      "[LightGBM] [Debug] Trained a tree with leaves = 100 and depth = 14\n",
      "[LightGBM] [Debug] Trained a tree with leaves = 100 and depth = 18\n",
      "[LightGBM] [Debug] Trained a tree with leaves = 100 and depth = 18\n",
      "[LightGBM] [Debug] Trained a tree with leaves = 100 and depth = 17\n",
      "[LightGBM] [Debug] Trained a tree with leaves = 100 and depth = 15\n",
      "[LightGBM] [Debug] Trained a tree with leaves = 100 and depth = 17\n",
      "[LightGBM] [Debug] Trained a tree with leaves = 100 and depth = 21\n",
      "[LightGBM] [Debug] Trained a tree with leaves = 100 and depth = 21\n",
      "[LightGBM] [Debug] Trained a tree with leaves = 100 and depth = 18\n",
      "[LightGBM] [Debug] Trained a tree with leaves = 100 and depth = 16\n",
      "[LightGBM] [Debug] Trained a tree with leaves = 100 and depth = 21\n",
      "[LightGBM] [Debug] Trained a tree with leaves = 100 and depth = 17\n",
      "[LightGBM] [Debug] Trained a tree with leaves = 100 and depth = 18\n",
      "[LightGBM] [Debug] Trained a tree with leaves = 100 and depth = 21\n",
      "[LightGBM] [Debug] Trained a tree with leaves = 100 and depth = 13\n",
      "[LightGBM] [Debug] Trained a tree with leaves = 100 and depth = 15\n",
      "[LightGBM] [Debug] Trained a tree with leaves = 100 and depth = 12\n",
      "[LightGBM] [Debug] Trained a tree with leaves = 100 and depth = 14\n",
      "[LightGBM] [Debug] Trained a tree with leaves = 100 and depth = 16\n",
      "[LightGBM] [Debug] Trained a tree with leaves = 100 and depth = 16\n",
      "[LightGBM] [Debug] Trained a tree with leaves = 100 and depth = 15\n",
      "[LightGBM] [Debug] Trained a tree with leaves = 100 and depth = 18\n",
      "[LightGBM] [Debug] Trained a tree with leaves = 100 and depth = 15\n",
      "[LightGBM] [Debug] Trained a tree with leaves = 100 and depth = 22\n",
      "[LightGBM] [Debug] Trained a tree with leaves = 100 and depth = 18\n",
      "[LightGBM] [Debug] Trained a tree with leaves = 100 and depth = 14\n",
      "[LightGBM] [Debug] Trained a tree with leaves = 100 and depth = 17\n",
      "[LightGBM] [Debug] Dataset::GetMultiBinFromSparseFeatures: sparse rate 0.772358\n",
      "[LightGBM] [Debug] Dataset::GetMultiBinFromAllFeatures: sparse rate 0.227301\n",
      "[LightGBM] [Debug] init for col-wise cost 0.089352 seconds, init for row-wise cost 0.100877 seconds\n",
      "[LightGBM] [Warning] Auto-choosing row-wise multi-threading, the overhead of testing was 0.092774 seconds.\n",
      "You can set `force_row_wise=true` to remove the overhead.\n",
      "And if memory is not enough, you can set `force_col_wise=true`.\n",
      "[LightGBM] [Debug] Using Dense Multi-Val Bin\n",
      "[LightGBM] [Info] Total Bins 680\n",
      "[LightGBM] [Info] Number of data points in the train set: 204561, number of used features: 11\n",
      "[LightGBM] [Info] Start training from score 4592.320291\n",
      "[LightGBM] [Debug] Trained a tree with leaves = 100 and depth = 10\n",
      "[LightGBM] [Debug] Trained a tree with leaves = 100 and depth = 9\n",
      "[LightGBM] [Debug] Trained a tree with leaves = 100 and depth = 10\n",
      "[LightGBM] [Debug] Trained a tree with leaves = 100 and depth = 10\n",
      "[LightGBM] [Debug] Trained a tree with leaves = 100 and depth = 10\n",
      "[LightGBM] [Debug] Trained a tree with leaves = 100 and depth = 11\n",
      "[LightGBM] [Debug] Trained a tree with leaves = 100 and depth = 10\n",
      "[LightGBM] [Debug] Trained a tree with leaves = 100 and depth = 10\n",
      "[LightGBM] [Debug] Trained a tree with leaves = 100 and depth = 10\n",
      "[LightGBM] [Debug] Trained a tree with leaves = 100 and depth = 12\n",
      "[LightGBM] [Debug] Trained a tree with leaves = 100 and depth = 11\n",
      "[LightGBM] [Debug] Trained a tree with leaves = 100 and depth = 12\n",
      "[LightGBM] [Debug] Trained a tree with leaves = 100 and depth = 11\n",
      "[LightGBM] [Debug] Trained a tree with leaves = 100 and depth = 10\n",
      "[LightGBM] [Debug] Trained a tree with leaves = 100 and depth = 11\n",
      "[LightGBM] [Debug] Trained a tree with leaves = 100 and depth = 12\n",
      "[LightGBM] [Debug] Trained a tree with leaves = 100 and depth = 11\n",
      "[LightGBM] [Debug] Trained a tree with leaves = 100 and depth = 12\n",
      "[LightGBM] [Debug] Trained a tree with leaves = 100 and depth = 11\n",
      "[LightGBM] [Debug] Trained a tree with leaves = 100 and depth = 17\n",
      "[LightGBM] [Debug] Trained a tree with leaves = 100 and depth = 12\n",
      "[LightGBM] [Debug] Trained a tree with leaves = 100 and depth = 12\n",
      "[LightGBM] [Debug] Trained a tree with leaves = 100 and depth = 13\n",
      "[LightGBM] [Debug] Trained a tree with leaves = 100 and depth = 11\n",
      "[LightGBM] [Debug] Trained a tree with leaves = 100 and depth = 12\n",
      "[LightGBM] [Debug] Trained a tree with leaves = 100 and depth = 18\n",
      "[LightGBM] [Debug] Trained a tree with leaves = 100 and depth = 12\n",
      "[LightGBM] [Debug] Trained a tree with leaves = 100 and depth = 17\n",
      "[LightGBM] [Debug] Trained a tree with leaves = 100 and depth = 13\n",
      "[LightGBM] [Debug] Trained a tree with leaves = 100 and depth = 13\n",
      "[LightGBM] [Debug] Trained a tree with leaves = 100 and depth = 13\n",
      "[LightGBM] [Debug] Trained a tree with leaves = 100 and depth = 14\n",
      "[LightGBM] [Debug] Trained a tree with leaves = 100 and depth = 14\n",
      "[LightGBM] [Debug] Trained a tree with leaves = 100 and depth = 14\n",
      "[LightGBM] [Debug] Trained a tree with leaves = 100 and depth = 15\n",
      "[LightGBM] [Debug] Trained a tree with leaves = 100 and depth = 14\n",
      "[LightGBM] [Debug] Trained a tree with leaves = 100 and depth = 13\n",
      "[LightGBM] [Debug] Trained a tree with leaves = 100 and depth = 13\n",
      "[LightGBM] [Debug] Trained a tree with leaves = 100 and depth = 17\n",
      "[LightGBM] [Debug] Trained a tree with leaves = 100 and depth = 14\n",
      "[LightGBM] [Debug] Trained a tree with leaves = 100 and depth = 17\n",
      "[LightGBM] [Debug] Trained a tree with leaves = 100 and depth = 16\n",
      "[LightGBM] [Debug] Trained a tree with leaves = 100 and depth = 14\n",
      "[LightGBM] [Debug] Trained a tree with leaves = 100 and depth = 17\n",
      "[LightGBM] [Debug] Trained a tree with leaves = 100 and depth = 15\n",
      "[LightGBM] [Debug] Trained a tree with leaves = 100 and depth = 14\n",
      "[LightGBM] [Debug] Trained a tree with leaves = 100 and depth = 17\n",
      "[LightGBM] [Debug] Trained a tree with leaves = 100 and depth = 16\n",
      "[LightGBM] [Debug] Trained a tree with leaves = 100 and depth = 17\n",
      "[LightGBM] [Debug] Trained a tree with leaves = 100 and depth = 19\n",
      "[LightGBM] [Debug] Trained a tree with leaves = 100 and depth = 19\n",
      "[LightGBM] [Debug] Trained a tree with leaves = 100 and depth = 16\n",
      "[LightGBM] [Debug] Trained a tree with leaves = 100 and depth = 16\n",
      "[LightGBM] [Debug] Trained a tree with leaves = 100 and depth = 16\n",
      "[LightGBM] [Debug] Trained a tree with leaves = 100 and depth = 16\n",
      "[LightGBM] [Debug] Trained a tree with leaves = 100 and depth = 16\n",
      "[LightGBM] [Debug] Trained a tree with leaves = 100 and depth = 19\n",
      "[LightGBM] [Debug] Trained a tree with leaves = 100 and depth = 15\n",
      "[LightGBM] [Debug] Trained a tree with leaves = 100 and depth = 17\n",
      "[LightGBM] [Debug] Trained a tree with leaves = 100 and depth = 20\n",
      "[LightGBM] [Debug] Trained a tree with leaves = 100 and depth = 15\n",
      "[LightGBM] [Debug] Trained a tree with leaves = 100 and depth = 15\n",
      "[LightGBM] [Debug] Trained a tree with leaves = 100 and depth = 17\n",
      "[LightGBM] [Debug] Trained a tree with leaves = 100 and depth = 20\n",
      "[LightGBM] [Debug] Trained a tree with leaves = 100 and depth = 17\n",
      "[LightGBM] [Debug] Trained a tree with leaves = 100 and depth = 17\n",
      "[LightGBM] [Debug] Trained a tree with leaves = 100 and depth = 24\n",
      "[LightGBM] [Debug] Trained a tree with leaves = 100 and depth = 16\n",
      "[LightGBM] [Debug] Trained a tree with leaves = 100 and depth = 20\n",
      "[LightGBM] [Debug] Trained a tree with leaves = 100 and depth = 16\n",
      "[LightGBM] [Debug] Trained a tree with leaves = 100 and depth = 21\n",
      "[LightGBM] [Debug] Trained a tree with leaves = 100 and depth = 17\n",
      "[LightGBM] [Debug] Trained a tree with leaves = 100 and depth = 15\n",
      "[LightGBM] [Debug] Trained a tree with leaves = 100 and depth = 20\n",
      "[LightGBM] [Debug] Trained a tree with leaves = 100 and depth = 15\n",
      "[LightGBM] [Debug] Trained a tree with leaves = 100 and depth = 14\n",
      "[LightGBM] [Debug] Trained a tree with leaves = 100 and depth = 20\n",
      "[LightGBM] [Debug] Trained a tree with leaves = 100 and depth = 18\n",
      "[LightGBM] [Debug] Trained a tree with leaves = 100 and depth = 13\n",
      "[LightGBM] [Debug] Trained a tree with leaves = 100 and depth = 19\n",
      "[LightGBM] [Debug] Trained a tree with leaves = 100 and depth = 13\n",
      "[LightGBM] [Debug] Trained a tree with leaves = 100 and depth = 18\n",
      "[LightGBM] [Debug] Trained a tree with leaves = 100 and depth = 19\n",
      "[LightGBM] [Debug] Trained a tree with leaves = 100 and depth = 16\n",
      "[LightGBM] [Debug] Trained a tree with leaves = 100 and depth = 14\n",
      "[LightGBM] [Debug] Trained a tree with leaves = 100 and depth = 14\n",
      "[LightGBM] [Debug] Trained a tree with leaves = 100 and depth = 14\n",
      "[LightGBM] [Debug] Trained a tree with leaves = 100 and depth = 16\n",
      "[LightGBM] [Debug] Trained a tree with leaves = 100 and depth = 18\n",
      "[LightGBM] [Debug] Trained a tree with leaves = 100 and depth = 18\n",
      "[LightGBM] [Debug] Trained a tree with leaves = 100 and depth = 24\n",
      "[LightGBM] [Debug] Trained a tree with leaves = 100 and depth = 19\n",
      "[LightGBM] [Debug] Trained a tree with leaves = 100 and depth = 17\n",
      "[LightGBM] [Debug] Trained a tree with leaves = 100 and depth = 14\n",
      "[LightGBM] [Debug] Trained a tree with leaves = 100 and depth = 16\n",
      "[LightGBM] [Debug] Trained a tree with leaves = 100 and depth = 15\n",
      "[LightGBM] [Debug] Trained a tree with leaves = 100 and depth = 17\n",
      "[LightGBM] [Debug] Trained a tree with leaves = 100 and depth = 18\n",
      "[LightGBM] [Debug] Trained a tree with leaves = 100 and depth = 18\n",
      "[LightGBM] [Debug] Trained a tree with leaves = 100 and depth = 17\n",
      "[LightGBM] [Debug] Dataset::GetMultiBinFromSparseFeatures: sparse rate 0.772437\n",
      "[LightGBM] [Debug] Dataset::GetMultiBinFromAllFeatures: sparse rate 0.227390\n",
      "[LightGBM] [Debug] init for col-wise cost 0.004835 seconds, init for row-wise cost 0.095120 seconds\n",
      "[LightGBM] [Warning] Auto-choosing row-wise multi-threading, the overhead of testing was 0.008619 seconds.\n",
      "You can set `force_row_wise=true` to remove the overhead.\n",
      "And if memory is not enough, you can set `force_col_wise=true`.\n",
      "[LightGBM] [Debug] Using Dense Multi-Val Bin\n",
      "[LightGBM] [Info] Total Bins 680\n",
      "[LightGBM] [Info] Number of data points in the train set: 204562, number of used features: 11\n",
      "[LightGBM] [Info] Start training from score 4587.936640\n",
      "[LightGBM] [Debug] Trained a tree with leaves = 100 and depth = 10\n",
      "[LightGBM] [Debug] Trained a tree with leaves = 100 and depth = 10\n",
      "[LightGBM] [Debug] Trained a tree with leaves = 100 and depth = 10\n",
      "[LightGBM] [Debug] Trained a tree with leaves = 100 and depth = 9\n",
      "[LightGBM] [Debug] Trained a tree with leaves = 100 and depth = 9\n",
      "[LightGBM] [Debug] Trained a tree with leaves = 100 and depth = 11\n",
      "[LightGBM] [Debug] Trained a tree with leaves = 100 and depth = 10\n",
      "[LightGBM] [Debug] Trained a tree with leaves = 100 and depth = 10\n",
      "[LightGBM] [Debug] Trained a tree with leaves = 100 and depth = 10\n",
      "[LightGBM] [Debug] Trained a tree with leaves = 100 and depth = 11\n",
      "[LightGBM] [Debug] Trained a tree with leaves = 100 and depth = 11\n",
      "[LightGBM] [Debug] Trained a tree with leaves = 100 and depth = 12\n",
      "[LightGBM] [Debug] Trained a tree with leaves = 100 and depth = 11\n",
      "[LightGBM] [Debug] Trained a tree with leaves = 100 and depth = 12\n",
      "[LightGBM] [Debug] Trained a tree with leaves = 100 and depth = 12\n",
      "[LightGBM] [Debug] Trained a tree with leaves = 100 and depth = 11\n",
      "[LightGBM] [Debug] Trained a tree with leaves = 100 and depth = 11\n",
      "[LightGBM] [Debug] Trained a tree with leaves = 100 and depth = 11\n",
      "[LightGBM] [Debug] Trained a tree with leaves = 100 and depth = 11\n",
      "[LightGBM] [Debug] Trained a tree with leaves = 100 and depth = 13\n",
      "[LightGBM] [Debug] Trained a tree with leaves = 100 and depth = 16\n",
      "[LightGBM] [Debug] Trained a tree with leaves = 100 and depth = 14\n",
      "[LightGBM] [Debug] Trained a tree with leaves = 100 and depth = 14\n",
      "[LightGBM] [Debug] Trained a tree with leaves = 100 and depth = 12\n",
      "[LightGBM] [Debug] Trained a tree with leaves = 100 and depth = 11\n",
      "[LightGBM] [Debug] Trained a tree with leaves = 100 and depth = 12\n",
      "[LightGBM] [Debug] Trained a tree with leaves = 100 and depth = 14\n",
      "[LightGBM] [Debug] Trained a tree with leaves = 100 and depth = 15\n",
      "[LightGBM] [Debug] Trained a tree with leaves = 100 and depth = 13\n",
      "[LightGBM] [Debug] Trained a tree with leaves = 100 and depth = 14\n",
      "[LightGBM] [Debug] Trained a tree with leaves = 100 and depth = 13\n",
      "[LightGBM] [Debug] Trained a tree with leaves = 100 and depth = 15\n",
      "[LightGBM] [Debug] Trained a tree with leaves = 100 and depth = 16\n",
      "[LightGBM] [Debug] Trained a tree with leaves = 100 and depth = 14\n",
      "[LightGBM] [Debug] Trained a tree with leaves = 100 and depth = 19\n",
      "[LightGBM] [Debug] Trained a tree with leaves = 100 and depth = 17\n",
      "[LightGBM] [Debug] Trained a tree with leaves = 100 and depth = 17\n",
      "[LightGBM] [Debug] Trained a tree with leaves = 100 and depth = 15\n",
      "[LightGBM] [Debug] Trained a tree with leaves = 100 and depth = 14\n",
      "[LightGBM] [Debug] Trained a tree with leaves = 100 and depth = 12\n",
      "[LightGBM] [Debug] Trained a tree with leaves = 100 and depth = 16\n",
      "[LightGBM] [Debug] Trained a tree with leaves = 100 and depth = 15\n",
      "[LightGBM] [Debug] Trained a tree with leaves = 100 and depth = 17\n",
      "[LightGBM] [Debug] Trained a tree with leaves = 100 and depth = 16\n",
      "[LightGBM] [Debug] Trained a tree with leaves = 100 and depth = 13\n",
      "[LightGBM] [Debug] Trained a tree with leaves = 100 and depth = 13\n",
      "[LightGBM] [Debug] Trained a tree with leaves = 100 and depth = 16\n",
      "[LightGBM] [Debug] Trained a tree with leaves = 100 and depth = 16\n",
      "[LightGBM] [Debug] Trained a tree with leaves = 100 and depth = 17\n",
      "[LightGBM] [Debug] Trained a tree with leaves = 100 and depth = 16\n",
      "[LightGBM] [Debug] Trained a tree with leaves = 100 and depth = 17\n",
      "[LightGBM] [Debug] Trained a tree with leaves = 100 and depth = 18\n",
      "[LightGBM] [Debug] Trained a tree with leaves = 100 and depth = 17\n",
      "[LightGBM] [Debug] Trained a tree with leaves = 100 and depth = 19\n",
      "[LightGBM] [Debug] Trained a tree with leaves = 100 and depth = 17\n",
      "[LightGBM] [Debug] Trained a tree with leaves = 100 and depth = 17\n",
      "[LightGBM] [Debug] Trained a tree with leaves = 100 and depth = 18\n",
      "[LightGBM] [Debug] Trained a tree with leaves = 100 and depth = 18\n",
      "[LightGBM] [Debug] Trained a tree with leaves = 100 and depth = 16\n",
      "[LightGBM] [Debug] Trained a tree with leaves = 100 and depth = 15\n",
      "[LightGBM] [Debug] Trained a tree with leaves = 100 and depth = 14\n",
      "[LightGBM] [Debug] Trained a tree with leaves = 100 and depth = 22\n",
      "[LightGBM] [Debug] Trained a tree with leaves = 100 and depth = 14\n",
      "[LightGBM] [Debug] Trained a tree with leaves = 100 and depth = 16\n",
      "[LightGBM] [Debug] Trained a tree with leaves = 100 and depth = 15\n",
      "[LightGBM] [Debug] Trained a tree with leaves = 100 and depth = 15\n",
      "[LightGBM] [Debug] Trained a tree with leaves = 100 and depth = 16\n",
      "[LightGBM] [Debug] Trained a tree with leaves = 100 and depth = 21\n",
      "[LightGBM] [Debug] Trained a tree with leaves = 100 and depth = 15\n",
      "[LightGBM] [Debug] Trained a tree with leaves = 100 and depth = 15\n",
      "[LightGBM] [Debug] Trained a tree with leaves = 100 and depth = 17\n",
      "[LightGBM] [Debug] Trained a tree with leaves = 100 and depth = 17\n",
      "[LightGBM] [Debug] Trained a tree with leaves = 100 and depth = 20\n",
      "[LightGBM] [Debug] Trained a tree with leaves = 100 and depth = 22\n",
      "[LightGBM] [Debug] Trained a tree with leaves = 100 and depth = 17\n",
      "[LightGBM] [Debug] Trained a tree with leaves = 100 and depth = 13\n",
      "[LightGBM] [Debug] Trained a tree with leaves = 100 and depth = 19\n",
      "[LightGBM] [Debug] Trained a tree with leaves = 100 and depth = 15\n",
      "[LightGBM] [Debug] Trained a tree with leaves = 100 and depth = 15\n",
      "[LightGBM] [Debug] Trained a tree with leaves = 100 and depth = 15\n",
      "[LightGBM] [Debug] Trained a tree with leaves = 100 and depth = 18\n",
      "[LightGBM] [Debug] Trained a tree with leaves = 100 and depth = 19\n",
      "[LightGBM] [Debug] Trained a tree with leaves = 100 and depth = 14\n",
      "[LightGBM] [Debug] Trained a tree with leaves = 100 and depth = 13\n",
      "[LightGBM] [Debug] Trained a tree with leaves = 100 and depth = 15\n",
      "[LightGBM] [Debug] Trained a tree with leaves = 100 and depth = 14\n",
      "[LightGBM] [Debug] Trained a tree with leaves = 100 and depth = 25\n",
      "[LightGBM] [Debug] Trained a tree with leaves = 100 and depth = 13\n",
      "[LightGBM] [Debug] Trained a tree with leaves = 100 and depth = 15\n",
      "[LightGBM] [Debug] Trained a tree with leaves = 100 and depth = 20\n",
      "[LightGBM] [Debug] Trained a tree with leaves = 100 and depth = 18\n",
      "[LightGBM] [Debug] Trained a tree with leaves = 100 and depth = 17\n",
      "[LightGBM] [Debug] Trained a tree with leaves = 100 and depth = 21\n",
      "[LightGBM] [Debug] Trained a tree with leaves = 100 and depth = 17\n",
      "[LightGBM] [Debug] Trained a tree with leaves = 100 and depth = 14\n",
      "[LightGBM] [Debug] Trained a tree with leaves = 100 and depth = 14\n",
      "[LightGBM] [Debug] Trained a tree with leaves = 100 and depth = 14\n",
      "[LightGBM] [Debug] Trained a tree with leaves = 100 and depth = 22\n",
      "[LightGBM] [Debug] Trained a tree with leaves = 100 and depth = 13\n",
      "[LightGBM] [Debug] Trained a tree with leaves = 100 and depth = 16\n",
      "[LightGBM] [Debug] Dataset::GetMultiBinFromSparseFeatures: sparse rate 0.772172\n",
      "[LightGBM] [Debug] Dataset::GetMultiBinFromAllFeatures: sparse rate 0.227356\n",
      "[LightGBM] [Debug] init for col-wise cost 0.004727 seconds, init for row-wise cost 0.096529 seconds\n",
      "[LightGBM] [Warning] Auto-choosing row-wise multi-threading, the overhead of testing was 0.008739 seconds.\n",
      "You can set `force_row_wise=true` to remove the overhead.\n",
      "And if memory is not enough, you can set `force_col_wise=true`.\n",
      "[LightGBM] [Debug] Using Dense Multi-Val Bin\n",
      "[LightGBM] [Info] Total Bins 680\n",
      "[LightGBM] [Info] Number of data points in the train set: 204562, number of used features: 11\n",
      "[LightGBM] [Info] Start training from score 4586.147848\n",
      "[LightGBM] [Debug] Trained a tree with leaves = 100 and depth = 10\n",
      "[LightGBM] [Debug] Trained a tree with leaves = 100 and depth = 9\n",
      "[LightGBM] [Debug] Trained a tree with leaves = 100 and depth = 9\n",
      "[LightGBM] [Debug] Trained a tree with leaves = 100 and depth = 9\n",
      "[LightGBM] [Debug] Trained a tree with leaves = 100 and depth = 11\n",
      "[LightGBM] [Debug] Trained a tree with leaves = 100 and depth = 10\n",
      "[LightGBM] [Debug] Trained a tree with leaves = 100 and depth = 10\n",
      "[LightGBM] [Debug] Trained a tree with leaves = 100 and depth = 10\n",
      "[LightGBM] [Debug] Trained a tree with leaves = 100 and depth = 10\n",
      "[LightGBM] [Debug] Trained a tree with leaves = 100 and depth = 10\n",
      "[LightGBM] [Debug] Trained a tree with leaves = 100 and depth = 11\n",
      "[LightGBM] [Debug] Trained a tree with leaves = 100 and depth = 10\n",
      "[LightGBM] [Debug] Trained a tree with leaves = 100 and depth = 12\n",
      "[LightGBM] [Debug] Trained a tree with leaves = 100 and depth = 10\n",
      "[LightGBM] [Debug] Trained a tree with leaves = 100 and depth = 11\n",
      "[LightGBM] [Debug] Trained a tree with leaves = 100 and depth = 12\n",
      "[LightGBM] [Debug] Trained a tree with leaves = 100 and depth = 10\n",
      "[LightGBM] [Debug] Trained a tree with leaves = 100 and depth = 12\n",
      "[LightGBM] [Debug] Trained a tree with leaves = 100 and depth = 12\n",
      "[LightGBM] [Debug] Trained a tree with leaves = 100 and depth = 12\n",
      "[LightGBM] [Debug] Trained a tree with leaves = 100 and depth = 15\n",
      "[LightGBM] [Debug] Trained a tree with leaves = 100 and depth = 12\n",
      "[LightGBM] [Debug] Trained a tree with leaves = 100 and depth = 17\n",
      "[LightGBM] [Debug] Trained a tree with leaves = 100 and depth = 16\n",
      "[LightGBM] [Debug] Trained a tree with leaves = 100 and depth = 12\n",
      "[LightGBM] [Debug] Trained a tree with leaves = 100 and depth = 13\n",
      "[LightGBM] [Debug] Trained a tree with leaves = 100 and depth = 12\n",
      "[LightGBM] [Debug] Trained a tree with leaves = 100 and depth = 12\n",
      "[LightGBM] [Debug] Trained a tree with leaves = 100 and depth = 16\n",
      "[LightGBM] [Debug] Trained a tree with leaves = 100 and depth = 13\n",
      "[LightGBM] [Debug] Trained a tree with leaves = 100 and depth = 14\n",
      "[LightGBM] [Debug] Trained a tree with leaves = 100 and depth = 13\n",
      "[LightGBM] [Debug] Trained a tree with leaves = 100 and depth = 13\n",
      "[LightGBM] [Debug] Trained a tree with leaves = 100 and depth = 13\n",
      "[LightGBM] [Debug] Trained a tree with leaves = 100 and depth = 14\n",
      "[LightGBM] [Debug] Trained a tree with leaves = 100 and depth = 15\n",
      "[LightGBM] [Debug] Trained a tree with leaves = 100 and depth = 14\n",
      "[LightGBM] [Debug] Trained a tree with leaves = 100 and depth = 15\n",
      "[LightGBM] [Debug] Trained a tree with leaves = 100 and depth = 14\n",
      "[LightGBM] [Debug] Trained a tree with leaves = 100 and depth = 16\n",
      "[LightGBM] [Debug] Trained a tree with leaves = 100 and depth = 18\n",
      "[LightGBM] [Debug] Trained a tree with leaves = 100 and depth = 16\n",
      "[LightGBM] [Debug] Trained a tree with leaves = 100 and depth = 15\n",
      "[LightGBM] [Debug] Trained a tree with leaves = 100 and depth = 14\n",
      "[LightGBM] [Debug] Trained a tree with leaves = 100 and depth = 15\n",
      "[LightGBM] [Debug] Trained a tree with leaves = 100 and depth = 17\n",
      "[LightGBM] [Debug] Trained a tree with leaves = 100 and depth = 14\n",
      "[LightGBM] [Debug] Trained a tree with leaves = 100 and depth = 16\n",
      "[LightGBM] [Debug] Trained a tree with leaves = 100 and depth = 18\n",
      "[LightGBM] [Debug] Trained a tree with leaves = 100 and depth = 16\n",
      "[LightGBM] [Debug] Trained a tree with leaves = 100 and depth = 17\n",
      "[LightGBM] [Debug] Trained a tree with leaves = 100 and depth = 15\n",
      "[LightGBM] [Debug] Trained a tree with leaves = 100 and depth = 14\n",
      "[LightGBM] [Debug] Trained a tree with leaves = 100 and depth = 16\n",
      "[LightGBM] [Debug] Trained a tree with leaves = 100 and depth = 17\n",
      "[LightGBM] [Debug] Trained a tree with leaves = 100 and depth = 22\n",
      "[LightGBM] [Debug] Trained a tree with leaves = 100 and depth = 14\n",
      "[LightGBM] [Debug] Trained a tree with leaves = 100 and depth = 14\n",
      "[LightGBM] [Debug] Trained a tree with leaves = 100 and depth = 20\n",
      "[LightGBM] [Debug] Trained a tree with leaves = 100 and depth = 18\n",
      "[LightGBM] [Debug] Trained a tree with leaves = 100 and depth = 19\n",
      "[LightGBM] [Debug] Trained a tree with leaves = 100 and depth = 15\n",
      "[LightGBM] [Debug] Trained a tree with leaves = 100 and depth = 15\n",
      "[LightGBM] [Debug] Trained a tree with leaves = 100 and depth = 18\n",
      "[LightGBM] [Debug] Trained a tree with leaves = 100 and depth = 15\n",
      "[LightGBM] [Debug] Trained a tree with leaves = 100 and depth = 22\n",
      "[LightGBM] [Debug] Trained a tree with leaves = 100 and depth = 19\n",
      "[LightGBM] [Debug] Trained a tree with leaves = 100 and depth = 15\n",
      "[LightGBM] [Debug] Trained a tree with leaves = 100 and depth = 14\n",
      "[LightGBM] [Debug] Trained a tree with leaves = 100 and depth = 14\n",
      "[LightGBM] [Debug] Trained a tree with leaves = 100 and depth = 16\n",
      "[LightGBM] [Debug] Trained a tree with leaves = 100 and depth = 17\n",
      "[LightGBM] [Debug] Trained a tree with leaves = 100 and depth = 20\n",
      "[LightGBM] [Debug] Trained a tree with leaves = 100 and depth = 14\n",
      "[LightGBM] [Debug] Trained a tree with leaves = 100 and depth = 18\n",
      "[LightGBM] [Debug] Trained a tree with leaves = 100 and depth = 17\n",
      "[LightGBM] [Debug] Trained a tree with leaves = 100 and depth = 19\n",
      "[LightGBM] [Debug] Trained a tree with leaves = 100 and depth = 20\n",
      "[LightGBM] [Debug] Trained a tree with leaves = 100 and depth = 15\n",
      "[LightGBM] [Debug] Trained a tree with leaves = 100 and depth = 14\n",
      "[LightGBM] [Debug] Trained a tree with leaves = 100 and depth = 15\n",
      "[LightGBM] [Debug] Trained a tree with leaves = 100 and depth = 15\n",
      "[LightGBM] [Debug] Trained a tree with leaves = 100 and depth = 16\n",
      "[LightGBM] [Debug] Trained a tree with leaves = 100 and depth = 13\n",
      "[LightGBM] [Debug] Trained a tree with leaves = 100 and depth = 13\n",
      "[LightGBM] [Debug] Trained a tree with leaves = 100 and depth = 15\n",
      "[LightGBM] [Debug] Trained a tree with leaves = 100 and depth = 21\n",
      "[LightGBM] [Debug] Trained a tree with leaves = 100 and depth = 17\n",
      "[LightGBM] [Debug] Trained a tree with leaves = 100 and depth = 17\n",
      "[LightGBM] [Debug] Trained a tree with leaves = 100 and depth = 19\n",
      "[LightGBM] [Debug] Trained a tree with leaves = 100 and depth = 14\n",
      "[LightGBM] [Debug] Trained a tree with leaves = 100 and depth = 26\n",
      "[LightGBM] [Debug] Trained a tree with leaves = 100 and depth = 16\n",
      "[LightGBM] [Debug] Trained a tree with leaves = 100 and depth = 28\n",
      "[LightGBM] [Debug] Trained a tree with leaves = 100 and depth = 13\n",
      "[LightGBM] [Debug] Trained a tree with leaves = 100 and depth = 14\n",
      "[LightGBM] [Debug] Trained a tree with leaves = 100 and depth = 20\n",
      "[LightGBM] [Debug] Trained a tree with leaves = 100 and depth = 18\n",
      "[LightGBM] [Debug] Trained a tree with leaves = 100 and depth = 15\n",
      "[LightGBM] [Debug] Trained a tree with leaves = 100 and depth = 19\n",
      "[LightGBM] [Debug] Dataset::GetMultiBinFromSparseFeatures: sparse rate 0.772483\n",
      "[LightGBM] [Debug] Dataset::GetMultiBinFromAllFeatures: sparse rate 0.227432\n",
      "[LightGBM] [Debug] init for col-wise cost 0.093734 seconds, init for row-wise cost 0.008261 seconds\n",
      "[LightGBM] [Warning] Auto-choosing row-wise multi-threading, the overhead of testing was 0.186413 seconds.\n",
      "You can set `force_row_wise=true` to remove the overhead.\n",
      "And if memory is not enough, you can set `force_col_wise=true`.\n",
      "[LightGBM] [Debug] Using Dense Multi-Val Bin\n",
      "[LightGBM] [Info] Total Bins 681\n",
      "[LightGBM] [Info] Number of data points in the train set: 204562, number of used features: 11\n",
      "[LightGBM] [Info] Start training from score 4584.857564\n",
      "[LightGBM] [Debug] Trained a tree with leaves = 100 and depth = 10\n",
      "[LightGBM] [Debug] Trained a tree with leaves = 100 and depth = 9\n",
      "[LightGBM] [Debug] Trained a tree with leaves = 100 and depth = 10\n",
      "[LightGBM] [Debug] Trained a tree with leaves = 100 and depth = 10\n",
      "[LightGBM] [Debug] Trained a tree with leaves = 100 and depth = 10\n",
      "[LightGBM] [Debug] Trained a tree with leaves = 100 and depth = 9\n",
      "[LightGBM] [Debug] Trained a tree with leaves = 100 and depth = 9\n",
      "[LightGBM] [Debug] Trained a tree with leaves = 100 and depth = 11\n",
      "[LightGBM] [Debug] Trained a tree with leaves = 100 and depth = 10\n",
      "[LightGBM] [Debug] Trained a tree with leaves = 100 and depth = 12\n",
      "[LightGBM] [Debug] Trained a tree with leaves = 100 and depth = 11\n",
      "[LightGBM] [Debug] Trained a tree with leaves = 100 and depth = 12\n",
      "[LightGBM] [Debug] Trained a tree with leaves = 100 and depth = 12\n",
      "[LightGBM] [Debug] Trained a tree with leaves = 100 and depth = 11\n",
      "[LightGBM] [Debug] Trained a tree with leaves = 100 and depth = 10\n",
      "[LightGBM] [Debug] Trained a tree with leaves = 100 and depth = 11\n",
      "[LightGBM] [Debug] Trained a tree with leaves = 100 and depth = 13\n",
      "[LightGBM] [Debug] Trained a tree with leaves = 100 and depth = 12\n",
      "[LightGBM] [Debug] Trained a tree with leaves = 100 and depth = 13\n",
      "[LightGBM] [Debug] Trained a tree with leaves = 100 and depth = 12\n",
      "[LightGBM] [Debug] Trained a tree with leaves = 100 and depth = 14\n",
      "[LightGBM] [Debug] Trained a tree with leaves = 100 and depth = 14\n",
      "[LightGBM] [Debug] Trained a tree with leaves = 100 and depth = 14\n",
      "[LightGBM] [Debug] Trained a tree with leaves = 100 and depth = 15\n",
      "[LightGBM] [Debug] Trained a tree with leaves = 100 and depth = 15\n",
      "[LightGBM] [Debug] Trained a tree with leaves = 100 and depth = 13\n",
      "[LightGBM] [Debug] Trained a tree with leaves = 100 and depth = 13\n",
      "[LightGBM] [Debug] Trained a tree with leaves = 100 and depth = 13\n",
      "[LightGBM] [Debug] Trained a tree with leaves = 100 and depth = 13\n",
      "[LightGBM] [Debug] Trained a tree with leaves = 100 and depth = 14\n",
      "[LightGBM] [Debug] Trained a tree with leaves = 100 and depth = 12\n",
      "[LightGBM] [Debug] Trained a tree with leaves = 100 and depth = 15\n",
      "[LightGBM] [Debug] Trained a tree with leaves = 100 and depth = 11\n",
      "[LightGBM] [Debug] Trained a tree with leaves = 100 and depth = 15\n",
      "[LightGBM] [Debug] Trained a tree with leaves = 100 and depth = 13\n",
      "[LightGBM] [Debug] Trained a tree with leaves = 100 and depth = 16\n",
      "[LightGBM] [Debug] Trained a tree with leaves = 100 and depth = 13\n",
      "[LightGBM] [Debug] Trained a tree with leaves = 100 and depth = 14\n",
      "[LightGBM] [Debug] Trained a tree with leaves = 100 and depth = 14\n",
      "[LightGBM] [Debug] Trained a tree with leaves = 100 and depth = 16\n",
      "[LightGBM] [Debug] Trained a tree with leaves = 100 and depth = 14\n",
      "[LightGBM] [Debug] Trained a tree with leaves = 100 and depth = 17\n",
      "[LightGBM] [Debug] Trained a tree with leaves = 100 and depth = 14\n",
      "[LightGBM] [Debug] Trained a tree with leaves = 100 and depth = 13\n",
      "[LightGBM] [Debug] Trained a tree with leaves = 100 and depth = 17\n",
      "[LightGBM] [Debug] Trained a tree with leaves = 100 and depth = 15\n",
      "[LightGBM] [Debug] Trained a tree with leaves = 100 and depth = 15\n",
      "[LightGBM] [Debug] Trained a tree with leaves = 100 and depth = 16\n",
      "[LightGBM] [Debug] Trained a tree with leaves = 100 and depth = 19\n",
      "[LightGBM] [Debug] Trained a tree with leaves = 100 and depth = 19\n",
      "[LightGBM] [Debug] Trained a tree with leaves = 100 and depth = 15\n",
      "[LightGBM] [Debug] Trained a tree with leaves = 100 and depth = 15\n",
      "[LightGBM] [Debug] Trained a tree with leaves = 100 and depth = 18\n",
      "[LightGBM] [Debug] Trained a tree with leaves = 100 and depth = 16\n",
      "[LightGBM] [Debug] Trained a tree with leaves = 100 and depth = 18\n",
      "[LightGBM] [Debug] Trained a tree with leaves = 100 and depth = 15\n",
      "[LightGBM] [Debug] Trained a tree with leaves = 100 and depth = 16\n",
      "[LightGBM] [Debug] Trained a tree with leaves = 100 and depth = 16\n",
      "[LightGBM] [Debug] Trained a tree with leaves = 100 and depth = 14\n",
      "[LightGBM] [Debug] Trained a tree with leaves = 100 and depth = 15\n",
      "[LightGBM] [Debug] Trained a tree with leaves = 100 and depth = 16\n",
      "[LightGBM] [Debug] Trained a tree with leaves = 100 and depth = 21\n",
      "[LightGBM] [Debug] Trained a tree with leaves = 100 and depth = 15\n",
      "[LightGBM] [Debug] Trained a tree with leaves = 100 and depth = 20\n",
      "[LightGBM] [Debug] Trained a tree with leaves = 100 and depth = 15\n",
      "[LightGBM] [Debug] Trained a tree with leaves = 100 and depth = 23\n",
      "[LightGBM] [Debug] Trained a tree with leaves = 100 and depth = 15\n",
      "[LightGBM] [Debug] Trained a tree with leaves = 100 and depth = 14\n",
      "[LightGBM] [Debug] Trained a tree with leaves = 100 and depth = 17\n",
      "[LightGBM] [Debug] Trained a tree with leaves = 100 and depth = 15\n",
      "[LightGBM] [Debug] Trained a tree with leaves = 100 and depth = 18\n",
      "[LightGBM] [Debug] Trained a tree with leaves = 100 and depth = 19\n",
      "[LightGBM] [Debug] Trained a tree with leaves = 100 and depth = 15\n",
      "[LightGBM] [Debug] Trained a tree with leaves = 100 and depth = 21\n",
      "[LightGBM] [Debug] Trained a tree with leaves = 100 and depth = 18\n",
      "[LightGBM] [Debug] Trained a tree with leaves = 100 and depth = 21\n",
      "[LightGBM] [Debug] Trained a tree with leaves = 100 and depth = 15\n",
      "[LightGBM] [Debug] Trained a tree with leaves = 100 and depth = 15\n",
      "[LightGBM] [Debug] Trained a tree with leaves = 100 and depth = 11\n",
      "[LightGBM] [Debug] Trained a tree with leaves = 100 and depth = 16\n",
      "[LightGBM] [Debug] Trained a tree with leaves = 100 and depth = 17\n",
      "[LightGBM] [Debug] Trained a tree with leaves = 100 and depth = 21\n",
      "[LightGBM] [Debug] Trained a tree with leaves = 100 and depth = 14\n",
      "[LightGBM] [Debug] Trained a tree with leaves = 100 and depth = 15\n",
      "[LightGBM] [Debug] Trained a tree with leaves = 100 and depth = 15\n",
      "[LightGBM] [Debug] Trained a tree with leaves = 100 and depth = 19\n",
      "[LightGBM] [Debug] Trained a tree with leaves = 100 and depth = 19\n",
      "[LightGBM] [Debug] Trained a tree with leaves = 100 and depth = 15\n",
      "[LightGBM] [Debug] Trained a tree with leaves = 100 and depth = 14\n",
      "[LightGBM] [Debug] Trained a tree with leaves = 100 and depth = 17\n",
      "[LightGBM] [Debug] Trained a tree with leaves = 100 and depth = 18\n",
      "[LightGBM] [Debug] Trained a tree with leaves = 100 and depth = 17\n",
      "[LightGBM] [Debug] Trained a tree with leaves = 100 and depth = 16\n",
      "[LightGBM] [Debug] Trained a tree with leaves = 100 and depth = 17\n",
      "[LightGBM] [Debug] Trained a tree with leaves = 100 and depth = 17\n",
      "[LightGBM] [Debug] Trained a tree with leaves = 100 and depth = 18\n",
      "[LightGBM] [Debug] Trained a tree with leaves = 100 and depth = 15\n",
      "[LightGBM] [Debug] Trained a tree with leaves = 100 and depth = 16\n",
      "[LightGBM] [Debug] Trained a tree with leaves = 100 and depth = 13\n",
      "[LightGBM] [Debug] Trained a tree with leaves = 100 and depth = 14\n",
      "[LightGBM] [Debug] Dataset::GetMultiBinFromSparseFeatures: sparse rate 0.771863\n",
      "[LightGBM] [Debug] Dataset::GetMultiBinFromAllFeatures: sparse rate 0.227185\n",
      "[LightGBM] [Debug] init for col-wise cost 0.092089 seconds, init for row-wise cost 0.098870 seconds\n",
      "[LightGBM] [Warning] Auto-choosing row-wise multi-threading, the overhead of testing was 0.095719 seconds.\n",
      "You can set `force_row_wise=true` to remove the overhead.\n",
      "And if memory is not enough, you can set `force_col_wise=true`.\n",
      "[LightGBM] [Debug] Using Dense Multi-Val Bin\n",
      "[LightGBM] [Info] Total Bins 678\n",
      "[LightGBM] [Info] Number of data points in the train set: 204561, number of used features: 11\n",
      "[LightGBM] [Info] Start training from score 4585.907367\n",
      "[LightGBM] [Debug] Trained a tree with leaves = 200 and depth = 12\n",
      "[LightGBM] [Debug] Trained a tree with leaves = 200 and depth = 13\n",
      "[LightGBM] [Debug] Trained a tree with leaves = 200 and depth = 12\n",
      "[LightGBM] [Debug] Trained a tree with leaves = 200 and depth = 12\n",
      "[LightGBM] [Debug] Trained a tree with leaves = 200 and depth = 11\n",
      "[LightGBM] [Debug] Trained a tree with leaves = 200 and depth = 12\n",
      "[LightGBM] [Debug] Trained a tree with leaves = 200 and depth = 12\n",
      "[LightGBM] [Debug] Trained a tree with leaves = 200 and depth = 12\n",
      "[LightGBM] [Debug] Trained a tree with leaves = 200 and depth = 13\n",
      "[LightGBM] [Debug] Trained a tree with leaves = 200 and depth = 13\n",
      "[LightGBM] [Debug] Trained a tree with leaves = 200 and depth = 14\n",
      "[LightGBM] [Debug] Trained a tree with leaves = 200 and depth = 14\n",
      "[LightGBM] [Debug] Trained a tree with leaves = 200 and depth = 14\n",
      "[LightGBM] [Debug] Trained a tree with leaves = 200 and depth = 13\n",
      "[LightGBM] [Debug] Trained a tree with leaves = 200 and depth = 14\n",
      "[LightGBM] [Debug] Trained a tree with leaves = 200 and depth = 14\n",
      "[LightGBM] [Debug] Trained a tree with leaves = 200 and depth = 13\n",
      "[LightGBM] [Debug] Trained a tree with leaves = 200 and depth = 13\n",
      "[LightGBM] [Debug] Trained a tree with leaves = 200 and depth = 12\n",
      "[LightGBM] [Debug] Trained a tree with leaves = 200 and depth = 17\n",
      "[LightGBM] [Debug] Trained a tree with leaves = 200 and depth = 13\n",
      "[LightGBM] [Debug] Trained a tree with leaves = 200 and depth = 20\n",
      "[LightGBM] [Debug] Trained a tree with leaves = 200 and depth = 15\n",
      "[LightGBM] [Debug] Trained a tree with leaves = 200 and depth = 16\n",
      "[LightGBM] [Debug] Trained a tree with leaves = 200 and depth = 17\n",
      "[LightGBM] [Debug] Trained a tree with leaves = 200 and depth = 15\n",
      "[LightGBM] [Debug] Trained a tree with leaves = 200 and depth = 16\n",
      "[LightGBM] [Debug] Trained a tree with leaves = 200 and depth = 14\n",
      "[LightGBM] [Debug] Trained a tree with leaves = 200 and depth = 15\n",
      "[LightGBM] [Debug] Trained a tree with leaves = 200 and depth = 15\n",
      "[LightGBM] [Debug] Trained a tree with leaves = 200 and depth = 15\n",
      "[LightGBM] [Debug] Trained a tree with leaves = 200 and depth = 16\n",
      "[LightGBM] [Debug] Trained a tree with leaves = 200 and depth = 15\n",
      "[LightGBM] [Debug] Trained a tree with leaves = 200 and depth = 16\n",
      "[LightGBM] [Debug] Trained a tree with leaves = 200 and depth = 17\n",
      "[LightGBM] [Debug] Trained a tree with leaves = 200 and depth = 18\n",
      "[LightGBM] [Debug] Trained a tree with leaves = 200 and depth = 15\n",
      "[LightGBM] [Debug] Trained a tree with leaves = 200 and depth = 17\n",
      "[LightGBM] [Debug] Trained a tree with leaves = 200 and depth = 15\n",
      "[LightGBM] [Debug] Trained a tree with leaves = 200 and depth = 15\n",
      "[LightGBM] [Debug] Trained a tree with leaves = 200 and depth = 21\n",
      "[LightGBM] [Debug] Trained a tree with leaves = 200 and depth = 22\n",
      "[LightGBM] [Debug] Trained a tree with leaves = 200 and depth = 21\n",
      "[LightGBM] [Debug] Trained a tree with leaves = 200 and depth = 19\n",
      "[LightGBM] [Debug] Trained a tree with leaves = 200 and depth = 17\n",
      "[LightGBM] [Debug] Trained a tree with leaves = 200 and depth = 17\n"
     ]
    },
    {
     "name": "stderr",
     "output_type": "stream",
     "text": [
      "Exception ignored on calling ctypes callback function: <function _log_callback at 0x7fb1b529d040>\n",
      "Traceback (most recent call last):\n",
      "  File \"/opt/conda/lib/python3.9/site-packages/lightgbm/basic.py\", line 91, in _log_callback\n",
      "    def _log_callback(msg: bytes) -> None:\n",
      "KeyboardInterrupt: \n"
     ]
    },
    {
     "name": "stdout",
     "output_type": "stream",
     "text": [
      "Trained a tree with leaves = 200 and depth = 18\n",
      "[LightGBM] [Debug] Trained a tree with leaves = 200 and depth = 16\n",
      "[LightGBM] [Debug] Trained a tree with leaves = 200 and depth = 19\n",
      "[LightGBM] [Debug] Trained a tree with leaves = 200 and depth = 20\n",
      "[LightGBM] [Debug] Trained a tree with leaves = 200 and depth = 22\n",
      "[LightGBM] [Debug] Trained a tree with leaves = 200 and depth = 22\n",
      "[LightGBM] [Debug] Trained a tree with leaves = 200 and depth = 24\n",
      "[LightGBM] [Debug] Trained a tree with leaves = 200 and depth = 22\n"
     ]
    },
    {
     "name": "stderr",
     "output_type": "stream",
     "text": [
      "Exception ignored on calling ctypes callback function: <function _log_callback at 0x7fb1b529d040>\n",
      "Traceback (most recent call last):\n",
      "  File \"/opt/conda/lib/python3.9/site-packages/lightgbm/basic.py\", line 91, in _log_callback\n",
      "    def _log_callback(msg: bytes) -> None:\n",
      "KeyboardInterrupt: \n"
     ]
    },
    {
     "name": "stdout",
     "output_type": "stream",
     "text": [
      "[LightGBM] [Debug] Trained a tree with leaves = 200 and depth = 18\n",
      "Trained a tree with leaves = 200 and depth = 22\n"
     ]
    },
    {
     "name": "stderr",
     "output_type": "stream",
     "text": [
      "Exception ignored on calling ctypes callback function: <function _log_callback at 0x7fb1b529d040>\n",
      "Traceback (most recent call last):\n",
      "  File \"/opt/conda/lib/python3.9/site-packages/lightgbm/basic.py\", line 91, in _log_callback\n",
      "    def _log_callback(msg: bytes) -> None:\n",
      "KeyboardInterrupt: \n",
      "Exception ignored on calling ctypes callback function: <function _log_callback at 0x7fb1b529d040>\n",
      "Traceback (most recent call last):\n",
      "  File \"/opt/conda/lib/python3.9/site-packages/lightgbm/basic.py\", line 91, in _log_callback\n",
      "    def _log_callback(msg: bytes) -> None:\n",
      "KeyboardInterrupt: \n"
     ]
    },
    {
     "name": "stdout",
     "output_type": "stream",
     "text": [
      "Trained a tree with leaves = 200 and depth = 18\n",
      "Trained a tree with leaves = 200 and depth = 18\n",
      "[LightGBM] [Debug] Trained a tree with leaves = 200 and depth = 25\n",
      "[LightGBM] [Debug] Trained a tree with leaves = 200 and depth = 23\n",
      "[LightGBM] [Debug] Trained a tree with leaves = 200 and depth = 25\n",
      "[LightGBM] [Debug] Trained a tree with leaves = 200 and depth = 24\n",
      "[LightGBM] [Debug] Trained a tree with leaves = 200 and depth = 21\n",
      "[LightGBM] [Debug] Trained a tree with leaves = 200 and depth = 28\n",
      "[LightGBM] [Debug] Trained a tree with leaves = 200 and depth = 22\n",
      "[LightGBM] [Debug] Trained a tree with leaves = 200 and depth = 21\n",
      "[LightGBM] [Debug] Trained a tree with leaves = 200 and depth = 23\n",
      "[LightGBM] [Debug] Trained a tree with leaves = 200 and depth = 27\n",
      "[LightGBM] [Debug] Trained a tree with leaves = 200 and depth = 17\n",
      "[LightGBM] [Debug] Trained a tree with leaves = 200 and depth = 21\n",
      "[LightGBM] [Debug] Trained a tree with leaves = 200 and depth = 29\n",
      "[LightGBM] [Debug] Trained a tree with leaves = 200 and depth = 22\n"
     ]
    },
    {
     "name": "stderr",
     "output_type": "stream",
     "text": [
      "Exception ignored on calling ctypes callback function: <function _log_callback at 0x7fb1b529d040>\n",
      "Traceback (most recent call last):\n",
      "  File \"/opt/conda/lib/python3.9/site-packages/lightgbm/basic.py\", line 91, in _log_callback\n",
      "    def _log_callback(msg: bytes) -> None:\n",
      "KeyboardInterrupt: \n"
     ]
    },
    {
     "name": "stdout",
     "output_type": "stream",
     "text": [
      "Trained a tree with leaves = 200 and depth = 16\n"
     ]
    },
    {
     "name": "stderr",
     "output_type": "stream",
     "text": [
      "Exception ignored on calling ctypes callback function: <function _log_callback at 0x7fb1b529d040>\n",
      "Traceback (most recent call last):\n",
      "  File \"/opt/conda/lib/python3.9/site-packages/lightgbm/basic.py\", line 91, in _log_callback\n",
      "    def _log_callback(msg: bytes) -> None:\n",
      "KeyboardInterrupt: \n"
     ]
    },
    {
     "name": "stdout",
     "output_type": "stream",
     "text": [
      "Trained a tree with leaves = 200 and depth = 18\n",
      "[LightGBM] [Debug] Trained a tree with leaves = 200 and depth = 23\n",
      "[LightGBM] [Debug] Trained a tree with leaves = 200 and depth = 21\n",
      "[LightGBM] [Debug] Trained a tree with leaves = 200 and depth = 23\n",
      "[LightGBM] [Debug] Trained a tree with leaves = 200 and depth = 20\n",
      "[LightGBM] [Debug] Trained a tree with leaves = 200 and depth = 22\n",
      "[LightGBM] [Debug] Trained a tree with leaves = 200 and depth = 21\n",
      "[LightGBM] [Debug] Trained a tree with leaves = 200 and depth = 29\n",
      "[LightGBM] [Debug] Trained a tree with leaves = 200 and depth = 22\n",
      "[LightGBM] [Debug] Trained a tree with leaves = 200 and depth = 23\n",
      "[LightGBM] [Debug] Trained a tree with leaves = 200 and depth = 20\n",
      "[LightGBM] [Debug] Trained a tree with leaves = 200 and depth = 17\n",
      "[LightGBM] [Debug] Trained a tree with leaves = 200 and depth = 17\n",
      "[LightGBM] [Debug] Trained a tree with leaves = 200 and depth = 24\n",
      "[LightGBM] [Debug] Trained a tree with leaves = 200 and depth = 18\n",
      "[LightGBM] [Debug] Trained a tree with leaves = 200 and depth = 19\n",
      "[LightGBM] [Debug] Trained a tree with leaves = 200 and depth = 22\n",
      "[LightGBM] [Debug] Trained a tree with leaves = 200 and depth = 24\n",
      "[LightGBM] [Debug] Trained a tree with leaves = 200 and depth = 22\n",
      "[LightGBM] [Debug] Trained a tree with leaves = 200 and depth = 23\n",
      "[LightGBM] [Debug] Trained a tree with leaves = 200 and depth = 21\n",
      "[LightGBM] [Debug] Trained a tree with leaves = 200 and depth = 22\n",
      "[LightGBM] [Debug] Trained a tree with leaves = 200 and depth = 20\n",
      "[LightGBM] [Debug] Trained a tree with leaves = 200 and depth = 19\n",
      "[LightGBM] [Debug] Trained a tree with leaves = 200 and depth = 23\n",
      "[LightGBM] [Debug] Trained a tree with leaves = 200 and depth = 17\n",
      "[LightGBM] [Debug] Trained a tree with leaves = 200 and depth = 21\n",
      "[LightGBM] [Debug] Dataset::GetMultiBinFromSparseFeatures: sparse rate 0.772358\n",
      "[LightGBM] [Debug] Dataset::GetMultiBinFromAllFeatures: sparse rate 0.227301\n",
      "[LightGBM] [Debug] init for col-wise cost 0.092763 seconds, init for row-wise cost 0.009868 seconds\n",
      "[LightGBM] [Warning] Auto-choosing row-wise multi-threading, the overhead of testing was 0.183125 seconds.\n",
      "You can set `force_row_wise=true` to remove the overhead.\n",
      "And if memory is not enough, you can set `force_col_wise=true`.\n",
      "[LightGBM] [Debug] Using Dense Multi-Val Bin\n",
      "[LightGBM] [Info] Total Bins 680\n",
      "[LightGBM] [Info] Number of data points in the train set: 204561, number of used features: 11\n",
      "[LightGBM] [Info] Start training from score 4592.320291\n",
      "[LightGBM] [Debug] Trained a tree with leaves = 200 and depth = 11\n",
      "[LightGBM] [Debug] Trained a tree with leaves = 200 and depth = 13\n",
      "[LightGBM] [Debug] Trained a tree with leaves = 200 and depth = 13\n",
      "[LightGBM] [Debug] Trained a tree with leaves = 200 and depth = 12\n",
      "[LightGBM] [Debug] Trained a tree with leaves = 200 and depth = 12\n",
      "[LightGBM] [Debug] Trained a tree with leaves = 200 and depth = 15\n",
      "[LightGBM] [Debug] Trained a tree with leaves = 200 and depth = 12\n",
      "[LightGBM] [Debug] Trained a tree with leaves = 200 and depth = 12\n",
      "[LightGBM] [Debug] Trained a tree with leaves = 200 and depth = 12\n",
      "[LightGBM] [Debug] Trained a tree with leaves = 200 and depth = 15\n",
      "[LightGBM] [Debug] Trained a tree with leaves = 200 and depth = 13\n",
      "[LightGBM] [Debug] Trained a tree with leaves = 200 and depth = 12\n",
      "[LightGBM] [Debug] Trained a tree with leaves = 200 and depth = 13\n",
      "[LightGBM] [Debug] Trained a tree with leaves = 200 and depth = 13\n",
      "[LightGBM] [Debug] Trained a tree with leaves = 200 and depth = 15\n",
      "[LightGBM] [Debug] Trained a tree with leaves = 200 and depth = 13\n",
      "[LightGBM] [Debug] Trained a tree with leaves = 200 and depth = 15\n",
      "[LightGBM] [Debug] Trained a tree with leaves = 200 and depth = 15\n",
      "[LightGBM] [Debug] Trained a tree with leaves = 200 and depth = 14\n",
      "[LightGBM] [Debug] Trained a tree with leaves = 200 and depth = 15\n",
      "[LightGBM] [Debug] Trained a tree with leaves = 200 and depth = 15\n",
      "[LightGBM] [Debug] Trained a tree with leaves = 200 and depth = 13\n",
      "[LightGBM] [Debug] Trained a tree with leaves = 200 and depth = 18\n",
      "[LightGBM] [Debug] Trained a tree with leaves = 200 and depth = 19\n",
      "[LightGBM] [Debug] Trained a tree with leaves = 200 and depth = 18\n",
      "[LightGBM] [Debug] Trained a tree with leaves = 200 and depth = 15\n",
      "[LightGBM] [Debug] Trained a tree with leaves = 200 and depth = 18\n",
      "[LightGBM] [Debug] Trained a tree with leaves = 200 and depth = 20\n",
      "[LightGBM] [Debug] Trained a tree with leaves = 200 and depth = 16\n",
      "[LightGBM] [Debug] Trained a tree with leaves = 200 and depth = 15\n",
      "[LightGBM] [Debug] Trained a tree with leaves = 200 and depth = 15\n",
      "[LightGBM] [Debug] Trained a tree with leaves = 200 and depth = 17\n",
      "[LightGBM] [Debug] Trained a tree with leaves = 200 and depth = 16\n",
      "[LightGBM] [Debug] Trained a tree with leaves = 200 and depth = 20\n",
      "[LightGBM] [Debug] Trained a tree with leaves = 200 and depth = 17\n",
      "[LightGBM] [Debug] Trained a tree with leaves = 200 and depth = 20\n",
      "[LightGBM] [Debug] Trained a tree with leaves = 200 and depth = 16\n",
      "[LightGBM] [Debug] Trained a tree with leaves = 200 and depth = 20\n",
      "[LightGBM] [Debug] Trained a tree with leaves = 200 and depth = 17\n",
      "[LightGBM] [Debug] Trained a tree with leaves = 200 and depth = 19\n",
      "[LightGBM] [Debug] Trained a tree with leaves = 200 and depth = 18\n",
      "[LightGBM] [Debug] Trained a tree with leaves = 200 and depth = 19\n",
      "[LightGBM] [Debug] Trained a tree with leaves = 200 and depth = 21\n",
      "[LightGBM] [Debug] Trained a tree with leaves = 200 and depth = 25\n",
      "[LightGBM] [Debug] Trained a tree with leaves = 200 and depth = 19\n",
      "[LightGBM] [Debug] Trained a tree with leaves = 200 and depth = 19\n",
      "[LightGBM] [Debug] Trained a tree with leaves = 200 and depth = 22\n",
      "[LightGBM] [Debug] Trained a tree with leaves = 200 and depth = 22\n",
      "[LightGBM] [Debug] Trained a tree with leaves = 200 and depth = 17\n",
      "[LightGBM] [Debug] Trained a tree with leaves = 200 and depth = 20\n",
      "[LightGBM] [Debug] Trained a tree with leaves = 200 and depth = 24\n",
      "[LightGBM] [Debug] Trained a tree with leaves = 200 and depth = 18\n",
      "[LightGBM] [Debug] Trained a tree with leaves = 200 and depth = 20\n",
      "[LightGBM] [Debug] Trained a tree with leaves = 200 and depth = 19\n",
      "[LightGBM] [Debug] Trained a tree with leaves = 200 and depth = 18\n"
     ]
    },
    {
     "name": "stderr",
     "output_type": "stream",
     "text": [
      "Exception ignored on calling ctypes callback function: <function _log_callback at 0x7fb1b529d040>\n",
      "Traceback (most recent call last):\n",
      "  File \"/opt/conda/lib/python3.9/site-packages/lightgbm/basic.py\", line 91, in _log_callback\n",
      "    def _log_callback(msg: bytes) -> None:\n",
      "KeyboardInterrupt: \n"
     ]
    },
    {
     "name": "stdout",
     "output_type": "stream",
     "text": [
      "Trained a tree with leaves = 200 and depth = 20\n"
     ]
    },
    {
     "name": "stderr",
     "output_type": "stream",
     "text": [
      "Exception ignored on calling ctypes callback function: <function _log_callback at 0x7fb1b529d040>\n",
      "Traceback (most recent call last):\n",
      "  File \"/opt/conda/lib/python3.9/site-packages/lightgbm/basic.py\", line 91, in _log_callback\n",
      "    def _log_callback(msg: bytes) -> None:\n",
      "KeyboardInterrupt: \n"
     ]
    },
    {
     "name": "stdout",
     "output_type": "stream",
     "text": [
      "Trained a tree with leaves = 200 and depth = 19\n",
      "[LightGBM] [Debug] Trained a tree with leaves = 200 and depth = 22\n",
      "[LightGBM] [Debug] Trained a tree with leaves = 200 and depth = 26\n",
      "[LightGBM] [Debug] Trained a tree with leaves = 200 and depth = 19\n",
      "[LightGBM] [Debug] Trained a tree with leaves = 200 and depth = 21\n",
      "[LightGBM] [Debug] Trained a tree with leaves = 200 and depth = 21\n",
      "[LightGBM] [Debug] Trained a tree with leaves = 200 and depth = 25\n",
      "[LightGBM] [Debug] Trained a tree with leaves = 200 and depth = 16\n",
      "[LightGBM] [Debug] Trained a tree with leaves = 200 and depth = 17\n",
      "[LightGBM] [Debug] Trained a tree with leaves = 200 and depth = 24\n",
      "[LightGBM] [Debug] Trained a tree with leaves = 200 and depth = 24\n",
      "[LightGBM] [Debug] Trained a tree with leaves = 200 and depth = 22\n",
      "[LightGBM] [Debug] Trained a tree with leaves = 200 and depth = 22\n",
      "[LightGBM] [Debug] Trained a tree with leaves = 200 and depth = 23\n",
      "[LightGBM] [Debug] Trained a tree with leaves = 200 and depth = 17\n",
      "[LightGBM] [Debug] Trained a tree with leaves = 200 and depth = 25\n",
      "[LightGBM] [Debug] Trained a tree with leaves = 200 and depth = 27\n",
      "[LightGBM] [Debug] Trained a tree with leaves = 200 and depth = 25\n",
      "[LightGBM] [Debug] Trained a tree with leaves = 200 and depth = 25\n",
      "[LightGBM] [Debug] Trained a tree with leaves = 200 and depth = 20\n",
      "[LightGBM] [Debug] Trained a tree with leaves = 200 and depth = 25\n",
      "[LightGBM] [Debug] Trained a tree with leaves = 200 and depth = 18\n",
      "[LightGBM] [Debug] Trained a tree with leaves = 200 and depth = 19\n",
      "[LightGBM] [Debug] Trained a tree with leaves = 200 and depth = 26\n",
      "[LightGBM] [Debug] Trained a tree with leaves = 200 and depth = 19\n",
      "[LightGBM] [Debug] Trained a tree with leaves = 200 and depth = 20\n",
      "[LightGBM] [Debug] Trained a tree with leaves = 200 and depth = 17\n",
      "[LightGBM] [Debug] Trained a tree with leaves = 200 and depth = 24\n",
      "[LightGBM] [Debug] Trained a tree with leaves = 200 and depth = 21\n",
      "[LightGBM] [Debug] Trained a tree with leaves = 200 and depth = 20\n",
      "[LightGBM] [Debug] Trained a tree with leaves = 200 and depth = 19\n",
      "[LightGBM] [Debug] Trained a tree with leaves = 200 and depth = 21\n",
      "[LightGBM] [Debug] Trained a tree with leaves = 200 and depth = 24\n",
      "[LightGBM] [Debug] Trained a tree with leaves = 200 and depth = 19\n",
      "[LightGBM] [Debug] Trained a tree with leaves = 200 and depth = 17\n",
      "[LightGBM] [Debug] Trained a tree with leaves = 200 and depth = 22\n",
      "[LightGBM] [Debug] Trained a tree with leaves = 200 and depth = 21\n",
      "[LightGBM] [Debug] Trained a tree with leaves = 200 and depth = 20\n",
      "[LightGBM] [Debug] Trained a tree with leaves = 200 and depth = 24\n",
      "[LightGBM] [Debug] Trained a tree with leaves = 200 and depth = 19\n",
      "[LightGBM] [Debug] Trained a tree with leaves = 200 and depth = 21\n",
      "[LightGBM] [Debug] Trained a tree with leaves = 200 and depth = 24\n",
      "[LightGBM] [Debug] Trained a tree with leaves = 200 and depth = 29\n",
      "[LightGBM] [Debug] Trained a tree with leaves = 200 and depth = 19\n",
      "[LightGBM] [Debug] Dataset::GetMultiBinFromSparseFeatures: sparse rate 0.772437\n",
      "[LightGBM] [Debug] Dataset::GetMultiBinFromAllFeatures: sparse rate 0.227390\n",
      "[LightGBM] [Debug] init for col-wise cost 0.004824 seconds, init for row-wise cost 0.096355 seconds\n",
      "[LightGBM] [Warning] Auto-choosing row-wise multi-threading, the overhead of testing was 0.010418 seconds.\n",
      "You can set `force_row_wise=true` to remove the overhead.\n",
      "And if memory is not enough, you can set `force_col_wise=true`.\n",
      "[LightGBM] [Debug] Using Dense Multi-Val Bin\n",
      "[LightGBM] [Info] Total Bins 680\n",
      "[LightGBM] [Info] Number of data points in the train set: 204562, number of used features: 11\n",
      "[LightGBM] [Info] Start training from score 4587.936640\n",
      "[LightGBM] [Debug] Trained a tree with leaves = 200 and depth = 12\n",
      "[LightGBM] [Debug] Trained a tree with leaves = 200 and depth = 14\n",
      "[LightGBM] [Debug] Trained a tree with leaves = 200 and depth = 12\n",
      "[LightGBM] [Debug] Trained a tree with leaves = 200 and depth = 12\n",
      "[LightGBM] [Debug] Trained a tree with leaves = 200 and depth = 13\n",
      "[LightGBM] [Debug] Trained a tree with leaves = 200 and depth = 12\n",
      "[LightGBM] [Debug] Trained a tree with leaves = 200 and depth = 12\n",
      "[LightGBM] [Debug] Trained a tree with leaves = 200 and depth = 11\n",
      "[LightGBM] [Debug] Trained a tree with leaves = 200 and depth = 12\n",
      "[LightGBM] [Debug] Trained a tree with leaves = 200 and depth = 13\n",
      "[LightGBM] [Debug] Trained a tree with leaves = 200 and depth = 14\n",
      "[LightGBM] [Debug] Trained a tree with leaves = 200 and depth = 13\n",
      "[LightGBM] [Debug] Trained a tree with leaves = 200 and depth = 14\n",
      "[LightGBM] [Debug] Trained a tree with leaves = 200 and depth = 14\n",
      "[LightGBM] [Debug] Trained a tree with leaves = 200 and depth = 13\n",
      "[LightGBM] [Debug] Trained a tree with leaves = 200 and depth = 13\n",
      "[LightGBM] [Debug] Trained a tree with leaves = 200 and depth = 14\n",
      "[LightGBM] [Debug] Trained a tree with leaves = 200 and depth = 14\n",
      "[LightGBM] [Debug] Trained a tree with leaves = 200 and depth = 14\n",
      "[LightGBM] [Debug] Trained a tree with leaves = 200 and depth = 14\n",
      "[LightGBM] [Debug] Trained a tree with leaves = 200 and depth = 18\n",
      "[LightGBM] [Debug] Trained a tree with leaves = 200 and depth = 15\n",
      "[LightGBM] [Debug] Trained a tree with leaves = 200 and depth = 18\n",
      "[LightGBM] [Debug] Trained a tree with leaves = 200 and depth = 17\n",
      "[LightGBM] [Debug] Trained a tree with leaves = 200 and depth = 14\n",
      "[LightGBM] [Debug] Trained a tree with leaves = 200 and depth = 17\n",
      "[LightGBM] [Debug] Trained a tree with leaves = 200 and depth = 18\n",
      "[LightGBM] [Debug] Trained a tree with leaves = 200 and depth = 16\n",
      "[LightGBM] [Debug] Trained a tree with leaves = 200 and depth = 17\n",
      "[LightGBM] [Debug] Trained a tree with leaves = 200 and depth = 15\n",
      "[LightGBM] [Debug] Trained a tree with leaves = 200 and depth = 16\n",
      "[LightGBM] [Debug] Trained a tree with leaves = 200 and depth = 15\n",
      "[LightGBM] [Debug] Trained a tree with leaves = 200 and depth = 17\n",
      "[LightGBM] [Debug] Trained a tree with leaves = 200 and depth = 15\n",
      "[LightGBM] [Debug] Trained a tree with leaves = 200 and depth = 18\n",
      "[LightGBM] [Debug] Trained a tree with leaves = 200 and depth = 17\n",
      "[LightGBM] [Debug] Trained a tree with leaves = 200 and depth = 16\n",
      "[LightGBM] [Debug] Trained a tree with leaves = 200 and depth = 19\n",
      "[LightGBM] [Debug] Trained a tree with leaves = 200 and depth = 17\n",
      "[LightGBM] [Debug] Trained a tree with leaves = 200 and depth = 16\n",
      "[LightGBM] [Debug] Trained a tree with leaves = 200 and depth = 16\n",
      "[LightGBM] [Debug] Trained a tree with leaves = 200 and depth = 17\n",
      "[LightGBM] [Debug] Trained a tree with leaves = 200 and depth = 16\n",
      "[LightGBM] [Debug] Trained a tree with leaves = 200 and depth = 18\n",
      "[LightGBM] [Debug] Trained a tree with leaves = 200 and depth = 18\n",
      "[LightGBM] [Debug] Trained a tree with leaves = 200 and depth = 18\n",
      "[LightGBM] [Debug] Trained a tree with leaves = 200 and depth = 19\n",
      "[LightGBM] [Debug] Trained a tree with leaves = 200 and depth = 22\n",
      "[LightGBM] [Debug] Trained a tree with leaves = 200 and depth = 14\n",
      "[LightGBM] [Debug] Trained a tree with leaves = 200 and depth = 21\n",
      "[LightGBM] [Debug] Trained a tree with leaves = 200 and depth = 23\n",
      "[LightGBM] [Debug] Trained a tree with leaves = 200 and depth = 19\n",
      "[LightGBM] [Debug] Trained a tree with leaves = 200 and depth = 18\n",
      "[LightGBM] [Debug] Trained a tree with leaves = 200 and depth = 21\n",
      "[LightGBM] [Debug] Trained a tree with leaves = 200 and depth = 19\n",
      "[LightGBM] [Debug] Trained a tree with leaves = 200 and depth = 24\n",
      "[LightGBM] [Debug] Trained a tree with leaves = 200 and depth = 20\n",
      "[LightGBM] [Debug] Trained a tree with leaves = 200 and depth = 28\n",
      "[LightGBM] [Debug] Trained a tree with leaves = 200 and depth = 20\n",
      "[LightGBM] [Debug] Trained a tree with leaves = 200 and depth = 22\n",
      "[LightGBM] [Debug] Trained a tree with leaves = 200 and depth = 20\n",
      "[LightGBM] [Debug] Trained a tree with leaves = 200 and depth = 17\n",
      "[LightGBM] [Debug] Trained a tree with leaves = 200 and depth = 22\n",
      "[LightGBM] [Debug] Trained a tree with leaves = 200 and depth = 21\n",
      "[LightGBM] [Debug] Trained a tree with leaves = 200 and depth = 20\n",
      "[LightGBM] [Debug] Trained a tree with leaves = 200 and depth = 23\n",
      "[LightGBM] [Debug] Trained a tree with leaves = 200 and depth = 16\n",
      "[LightGBM] [Debug] Trained a tree with leaves = 200 and depth = 29\n",
      "[LightGBM] [Debug] Trained a tree with leaves = 200 and depth = 24\n",
      "[LightGBM] [Debug] Trained a tree with leaves = 200 and depth = 27\n",
      "[LightGBM] [Debug] Trained a tree with leaves = 200 and depth = 27\n",
      "[LightGBM] [Debug] Trained a tree with leaves = 200 and depth = 20\n",
      "[LightGBM] [Debug] Trained a tree with leaves = 200 and depth = 22\n",
      "[LightGBM] [Debug] Trained a tree with leaves = 200 and depth = 20\n",
      "[LightGBM] [Debug] Trained a tree with leaves = 200 and depth = 23\n",
      "[LightGBM] [Debug] Trained a tree with leaves = 200 and depth = 22\n",
      "[LightGBM] [Debug] Trained a tree with leaves = 200 and depth = 19\n",
      "[LightGBM] [Debug] Trained a tree with leaves = 200 and depth = 27\n",
      "[LightGBM] [Debug] Trained a tree with leaves = 200 and depth = 23\n",
      "[LightGBM] [Debug] Trained a tree with leaves = 200 and depth = 24\n",
      "[LightGBM] [Debug] Trained a tree with leaves = 200 and depth = 23\n",
      "[LightGBM] [Debug] Trained a tree with leaves = 200 and depth = 23\n",
      "[LightGBM] [Debug] Trained a tree with leaves = 200 and depth = 30\n",
      "[LightGBM] [Debug] Trained a tree with leaves = 200 and depth = 21\n",
      "[LightGBM] [Debug] Trained a tree with leaves = 200 and depth = 25\n",
      "[LightGBM] [Debug] Trained a tree with leaves = 200 and depth = 26\n",
      "[LightGBM] [Debug] Trained a tree with leaves = 200 and depth = 25\n",
      "[LightGBM] [Debug] Trained a tree with leaves = 200 and depth = 19\n",
      "[LightGBM] [Debug] Trained a tree with leaves = 200 and depth = 20\n",
      "[LightGBM] [Debug] Trained a tree with leaves = 200 and depth = 20\n",
      "[LightGBM] [Debug] Trained a tree with leaves = 200 and depth = 23\n",
      "[LightGBM] [Debug] Trained a tree with leaves = 200 and depth = 19\n",
      "[LightGBM] [Debug] Trained a tree with leaves = 200 and depth = 25\n",
      "[LightGBM] [Debug] Trained a tree with leaves = 200 and depth = 21\n",
      "[LightGBM] [Debug] Trained a tree with leaves = 200 and depth = 27\n",
      "[LightGBM] [Debug] Trained a tree with leaves = 200 and depth = 22\n",
      "[LightGBM] [Debug] Trained a tree with leaves = 200 and depth = 17\n",
      "[LightGBM] [Debug] Trained a tree with leaves = 200 and depth = 19\n",
      "[LightGBM] [Debug] Trained a tree with leaves = 200 and depth = 20\n",
      "[LightGBM] [Debug] Trained a tree with leaves = 200 and depth = 19\n",
      "[LightGBM] [Debug] Dataset::GetMultiBinFromSparseFeatures: sparse rate 0.772172\n",
      "[LightGBM] [Debug] Dataset::GetMultiBinFromAllFeatures: sparse rate 0.227356\n",
      "[LightGBM] [Debug] init for col-wise cost 0.092738 seconds, init for row-wise cost 0.008288 seconds\n",
      "[LightGBM] [Warning] Auto-choosing row-wise multi-threading, the overhead of testing was 0.184997 seconds.\n",
      "You can set `force_row_wise=true` to remove the overhead.\n",
      "And if memory is not enough, you can set `force_col_wise=true`.\n",
      "[LightGBM] [Debug] Using Dense Multi-Val Bin\n",
      "[LightGBM] [Info] Total Bins 680\n",
      "[LightGBM] [Info] Number of data points in the train set: 204562, number of used features: 11\n",
      "[LightGBM] [Info] Start training from score 4586.147848\n",
      "[LightGBM] [Debug] Trained a tree with leaves = 200 and depth = 11\n",
      "[LightGBM] [Debug] Trained a tree with leaves = 200 and depth = 12\n",
      "[LightGBM] [Debug] Trained a tree with leaves = 200 and depth = 11\n",
      "[LightGBM] [Debug] Trained a tree with leaves = 200 and depth = 12\n",
      "[LightGBM] [Debug] Trained a tree with leaves = 200 and depth = 13\n",
      "[LightGBM] [Debug] Trained a tree with leaves = 200 and depth = 11\n",
      "[LightGBM] [Debug] Trained a tree with leaves = 200 and depth = 12\n",
      "[LightGBM] [Debug] Trained a tree with leaves = 200 and depth = 15\n",
      "[LightGBM] [Debug] Trained a tree with leaves = 200 and depth = 13\n",
      "[LightGBM] [Debug] Trained a tree with leaves = 200 and depth = 12\n",
      "[LightGBM] [Debug] Trained a tree with leaves = 200 and depth = 13\n",
      "[LightGBM] [Debug] Trained a tree with leaves = 200 and depth = 13\n",
      "[LightGBM] [Debug] Trained a tree with leaves = 200 and depth = 13\n",
      "[LightGBM] [Debug] Trained a tree with leaves = 200 and depth = 15\n",
      "[LightGBM] [Debug] Trained a tree with leaves = 200 and depth = 13\n",
      "[LightGBM] [Debug] Trained a tree with leaves = 200 and depth = 13\n",
      "[LightGBM] [Debug] Trained a tree with leaves = 200 and depth = 13\n",
      "[LightGBM] [Debug] Trained a tree with leaves = 200 and depth = 14\n",
      "[LightGBM] [Debug] Trained a tree with leaves = 200 and depth = 17\n",
      "[LightGBM] [Debug] Trained a tree with leaves = 200 and depth = 19\n",
      "[LightGBM] [Debug] Trained a tree with leaves = 200 and depth = 14\n",
      "[LightGBM] [Debug] Trained a tree with leaves = 200 and depth = 13\n",
      "[LightGBM] [Debug] Trained a tree with leaves = 200 and depth = 14\n",
      "[LightGBM] [Debug] Trained a tree with leaves = 200 and depth = 16\n",
      "[LightGBM] [Debug] Trained a tree with leaves = 200 and depth = 17\n",
      "[LightGBM] [Debug] Trained a tree with leaves = 200 and depth = 17\n",
      "[LightGBM] [Debug] Trained a tree with leaves = 200 and depth = 14\n",
      "[LightGBM] [Debug] Trained a tree with leaves = 200 and depth = 16\n",
      "[LightGBM] [Debug] Trained a tree with leaves = 200 and depth = 15\n",
      "[LightGBM] [Debug] Trained a tree with leaves = 200 and depth = 16\n",
      "[LightGBM] [Debug] Trained a tree with leaves = 200 and depth = 16\n",
      "[LightGBM] [Debug] Trained a tree with leaves = 200 and depth = 16\n",
      "[LightGBM] [Debug] Trained a tree with leaves = 200 and depth = 16\n",
      "[LightGBM] [Debug] Trained a tree with leaves = 200 and depth = 15\n",
      "[LightGBM] [Debug] Trained a tree with leaves = 200 and depth = 18\n",
      "[LightGBM] [Debug] Trained a tree with leaves = 200 and depth = 16\n",
      "[LightGBM] [Debug] Trained a tree with leaves = 200 and depth = 17\n",
      "[LightGBM] [Debug] Trained a tree with leaves = 200 and depth = 19\n",
      "[LightGBM] [Debug] Trained a tree with leaves = 200 and depth = 18\n",
      "[LightGBM] [Debug] Trained a tree with leaves = 200 and depth = 18\n",
      "[LightGBM] [Debug] Trained a tree with leaves = 200 and depth = 18\n",
      "[LightGBM] [Debug] Trained a tree with leaves = 200 and depth = 17\n",
      "[LightGBM] [Debug] Trained a tree with leaves = 200 and depth = 20\n",
      "[LightGBM] [Debug] Trained a tree with leaves = 200 and depth = 18\n",
      "[LightGBM] [Debug] Trained a tree with leaves = 200 and depth = 18\n",
      "[LightGBM] [Debug] Trained a tree with leaves = 200 and depth = 19\n",
      "[LightGBM] [Debug] Trained a tree with leaves = 200 and depth = 20\n",
      "[LightGBM] [Debug] Trained a tree with leaves = 200 and depth = 18\n",
      "[LightGBM] [Debug] Trained a tree with leaves = 200 and depth = 17\n",
      "[LightGBM] [Debug] Trained a tree with leaves = 200 and depth = 22\n",
      "[LightGBM] [Debug] Trained a tree with leaves = 200 and depth = 18\n",
      "[LightGBM] [Debug] Trained a tree with leaves = 200 and depth = 22\n",
      "[LightGBM] [Debug] Trained a tree with leaves = 200 and depth = 23\n",
      "[LightGBM] [Debug] Trained a tree with leaves = 200 and depth = 20\n",
      "[LightGBM] [Debug] Trained a tree with leaves = 200 and depth = 24\n",
      "[LightGBM] [Debug] Trained a tree with leaves = 200 and depth = 23\n",
      "[LightGBM] [Debug] Trained a tree with leaves = 200 and depth = 20\n",
      "[LightGBM] [Debug] Trained a tree with leaves = 200 and depth = 22\n",
      "[LightGBM] [Debug] Trained a tree with leaves = 200 and depth = 20\n",
      "[LightGBM] [Debug] Trained a tree with leaves = 200 and depth = 24\n",
      "[LightGBM] [Debug] Trained a tree with leaves = 200 and depth = 23\n",
      "[LightGBM] [Debug] Trained a tree with leaves = 200 and depth = 17\n",
      "[LightGBM] [Debug] Trained a tree with leaves = 200 and depth = 22\n",
      "[LightGBM] [Debug] Trained a tree with leaves = 200 and depth = 16\n",
      "[LightGBM] [Debug] Trained a tree with leaves = 200 and depth = 21\n",
      "[LightGBM] [Debug] Trained a tree with leaves = 200 and depth = 23\n",
      "[LightGBM] [Debug] Trained a tree with leaves = 200 and depth = 27\n",
      "[LightGBM] [Debug] Trained a tree with leaves = 200 and depth = 24\n",
      "[LightGBM] [Debug] Trained a tree with leaves = 200 and depth = 22\n",
      "[LightGBM] [Debug] Trained a tree with leaves = 200 and depth = 23\n",
      "[LightGBM] [Debug] Trained a tree with leaves = 200 and depth = 22\n",
      "[LightGBM] [Debug] Trained a tree with leaves = 200 and depth = 21\n",
      "[LightGBM] [Debug] Trained a tree with leaves = 200 and depth = 16\n",
      "[LightGBM] [Debug] Trained a tree with leaves = 200 and depth = 20\n",
      "[LightGBM] [Debug] Trained a tree with leaves = 200 and depth = 23\n",
      "[LightGBM] [Debug] Trained a tree with leaves = 200 and depth = 23\n",
      "[LightGBM] [Debug] Trained a tree with leaves = 200 and depth = 20\n",
      "[LightGBM] [Debug] Trained a tree with leaves = 200 and depth = 21\n",
      "[LightGBM] [Debug] Trained a tree with leaves = 200 and depth = 22\n",
      "[LightGBM] [Debug] Trained a tree with leaves = 200 and depth = 19\n",
      "[LightGBM] [Debug] Trained a tree with leaves = 200 and depth = 22\n",
      "[LightGBM] [Debug] Trained a tree with leaves = 200 and depth = 17\n",
      "[LightGBM] [Debug] Trained a tree with leaves = 200 and depth = 21\n",
      "[LightGBM] [Debug] Trained a tree with leaves = 200 and depth = 23\n",
      "[LightGBM] [Debug] Trained a tree with leaves = 200 and depth = 16\n",
      "[LightGBM] [Debug] Trained a tree with leaves = 200 and depth = 16\n",
      "[LightGBM] [Debug] Trained a tree with leaves = 200 and depth = 17\n",
      "[LightGBM] [Debug] Trained a tree with leaves = 200 and depth = 20\n",
      "[LightGBM] [Debug] Trained a tree with leaves = 200 and depth = 18\n",
      "[LightGBM] [Debug] Trained a tree with leaves = 200 and depth = 16\n",
      "[LightGBM] [Debug] Trained a tree with leaves = 200 and depth = 19\n",
      "[LightGBM] [Debug] Trained a tree with leaves = 200 and depth = 21\n",
      "[LightGBM] [Debug] Trained a tree with leaves = 200 and depth = 23\n",
      "[LightGBM] [Debug] Trained a tree with leaves = 200 and depth = 25\n",
      "[LightGBM] [Debug] Trained a tree with leaves = 200 and depth = 22\n",
      "[LightGBM] [Debug] Trained a tree with leaves = 200 and depth = 21\n",
      "[LightGBM] [Debug] Trained a tree with leaves = 200 and depth = 22\n",
      "[LightGBM] [Debug] Trained a tree with leaves = 200 and depth = 24\n",
      "[LightGBM] [Debug] Trained a tree with leaves = 200 and depth = 26\n",
      "[LightGBM] [Debug] Trained a tree with leaves = 200 and depth = 19\n",
      "[LightGBM] [Debug] Dataset::GetMultiBinFromSparseFeatures: sparse rate 0.772483\n",
      "[LightGBM] [Debug] Dataset::GetMultiBinFromAllFeatures: sparse rate 0.227432\n",
      "[LightGBM] [Debug] init for col-wise cost 0.092072 seconds, init for row-wise cost 0.008205 seconds\n",
      "[LightGBM] [Warning] Auto-choosing row-wise multi-threading, the overhead of testing was 0.184175 seconds.\n",
      "You can set `force_row_wise=true` to remove the overhead.\n",
      "And if memory is not enough, you can set `force_col_wise=true`.\n",
      "[LightGBM] [Debug] Using Dense Multi-Val Bin\n",
      "[LightGBM] [Info] Total Bins 681\n",
      "[LightGBM] [Info] Number of data points in the train set: 204562, number of used features: 11\n",
      "[LightGBM] [Info] Start training from score 4584.857564\n",
      "[LightGBM] [Debug] Trained a tree with leaves = 200 and depth = 11\n",
      "[LightGBM] [Debug] Trained a tree with leaves = 200 and depth = 12\n",
      "[LightGBM] [Debug] Trained a tree with leaves = 200 and depth = 13\n",
      "[LightGBM] [Debug] Trained a tree with leaves = 200 and depth = 11\n",
      "[LightGBM] [Debug] Trained a tree with leaves = 200 and depth = 12\n",
      "[LightGBM] [Debug] Trained a tree with leaves = 200 and depth = 13\n",
      "[LightGBM] [Debug] Trained a tree with leaves = 200 and depth = 12\n",
      "[LightGBM] [Debug] Trained a tree with leaves = 200 and depth = 12\n",
      "[LightGBM] [Debug] Trained a tree with leaves = 200 and depth = 12\n",
      "[LightGBM] [Debug] Trained a tree with leaves = 200 and depth = 13\n",
      "[LightGBM] [Debug] Trained a tree with leaves = 200 and depth = 12\n",
      "[LightGBM] [Debug] Trained a tree with leaves = 200 and depth = 12\n",
      "[LightGBM] [Debug] Trained a tree with leaves = 200 and depth = 14\n",
      "[LightGBM] [Debug] Trained a tree with leaves = 200 and depth = 17\n",
      "[LightGBM] [Debug] Trained a tree with leaves = 200 and depth = 17\n",
      "[LightGBM] [Debug] Trained a tree with leaves = 200 and depth = 14\n",
      "[LightGBM] [Debug] Trained a tree with leaves = 200 and depth = 13\n",
      "[LightGBM] [Debug] Trained a tree with leaves = 200 and depth = 12\n",
      "[LightGBM] [Debug] Trained a tree with leaves = 200 and depth = 15\n",
      "[LightGBM] [Debug] Trained a tree with leaves = 200 and depth = 16\n",
      "[LightGBM] [Debug] Trained a tree with leaves = 200 and depth = 14\n",
      "[LightGBM] [Debug] Trained a tree with leaves = 200 and depth = 15\n",
      "[LightGBM] [Debug] Trained a tree with leaves = 200 and depth = 14\n",
      "[LightGBM] [Debug] Trained a tree with leaves = 200 and depth = 18\n",
      "[LightGBM] [Debug] Trained a tree with leaves = 200 and depth = 18\n",
      "[LightGBM] [Debug] Trained a tree with leaves = 200 and depth = 14\n",
      "[LightGBM] [Debug] Trained a tree with leaves = 200 and depth = 18\n",
      "[LightGBM] [Debug] Trained a tree with leaves = 200 and depth = 16\n",
      "[LightGBM] [Debug] Trained a tree with leaves = 200 and depth = 20\n",
      "[LightGBM] [Debug] Trained a tree with leaves = 200 and depth = 17\n",
      "[LightGBM] [Debug] Trained a tree with leaves = 200 and depth = 18\n",
      "[LightGBM] [Debug] Trained a tree with leaves = 200 and depth = 18\n",
      "[LightGBM] [Debug] Trained a tree with leaves = 200 and depth = 14\n",
      "[LightGBM] [Debug] Trained a tree with leaves = 200 and depth = 17\n",
      "[LightGBM] [Debug] Trained a tree with leaves = 200 and depth = 16\n",
      "[LightGBM] [Debug] Trained a tree with leaves = 200 and depth = 17\n",
      "[LightGBM] [Debug] Trained a tree with leaves = 200 and depth = 19\n",
      "[LightGBM] [Debug] Trained a tree with leaves = 200 and depth = 18\n",
      "[LightGBM] [Debug] Trained a tree with leaves = 200 and depth = 17\n",
      "[LightGBM] [Debug] Trained a tree with leaves = 200 and depth = 17\n",
      "[LightGBM] [Debug] Trained a tree with leaves = 200 and depth = 17\n",
      "[LightGBM] [Debug] Trained a tree with leaves = 200 and depth = 20\n",
      "[LightGBM] [Debug] Trained a tree with leaves = 200 and depth = 18\n",
      "[LightGBM] [Debug] Trained a tree with leaves = 200 and depth = 17\n",
      "[LightGBM] [Debug] Trained a tree with leaves = 200 and depth = 19\n",
      "[LightGBM] [Debug] Trained a tree with leaves = 200 and depth = 20\n",
      "[LightGBM] [Debug] Trained a tree with leaves = 200 and depth = 23\n",
      "[LightGBM] [Debug] Trained a tree with leaves = 200 and depth = 18\n",
      "[LightGBM] [Debug] Trained a tree with leaves = 200 and depth = 25\n",
      "[LightGBM] [Debug] Trained a tree with leaves = 200 and depth = 22\n",
      "[LightGBM] [Debug] Trained a tree with leaves = 200 and depth = 18\n",
      "[LightGBM] [Debug] Trained a tree with leaves = 200 and depth = 21\n",
      "[LightGBM] [Debug] Trained a tree with leaves = 200 and depth = 20\n",
      "[LightGBM] [Debug] Trained a tree with leaves = 200 and depth = 20\n",
      "[LightGBM] [Debug] Trained a tree with leaves = 200 and depth = 25\n",
      "[LightGBM] [Debug] Trained a tree with leaves = 200 and depth = 22\n",
      "[LightGBM] [Debug] Trained a tree with leaves = 200 and depth = 17\n",
      "[LightGBM] [Debug] Trained a tree with leaves = 200 and depth = 24\n",
      "[LightGBM] [Debug] Trained a tree with leaves = 200 and depth = 24\n",
      "[LightGBM] [Debug] Trained a tree with leaves = 200 and depth = 24\n",
      "[LightGBM] [Debug] Trained a tree with leaves = 200 and depth = 24\n",
      "[LightGBM] [Debug] Trained a tree with leaves = 200 and depth = 30\n",
      "[LightGBM] [Debug] Trained a tree with leaves = 200 and depth = 26\n",
      "[LightGBM] [Debug] Trained a tree with leaves = 200 and depth = 20\n",
      "[LightGBM] [Debug] Trained a tree with leaves = 200 and depth = 19\n",
      "[LightGBM] [Debug] Trained a tree with leaves = 200 and depth = 24\n",
      "[LightGBM] [Debug] Trained a tree with leaves = 200 and depth = 20\n",
      "[LightGBM] [Debug] Trained a tree with leaves = 200 and depth = 18\n",
      "[LightGBM] [Debug] Trained a tree with leaves = 200 and depth = 20\n",
      "[LightGBM] [Debug] Trained a tree with leaves = 200 and depth = 24\n",
      "[LightGBM] [Debug] Trained a tree with leaves = 200 and depth = 20\n",
      "[LightGBM] [Debug] Trained a tree with leaves = 200 and depth = 23\n",
      "[LightGBM] [Debug] Trained a tree with leaves = 200 and depth = 26\n",
      "[LightGBM] [Debug] Trained a tree with leaves = 200 and depth = 20\n",
      "[LightGBM] [Debug] Trained a tree with leaves = 200 and depth = 19\n",
      "[LightGBM] [Debug] Trained a tree with leaves = 200 and depth = 20\n",
      "[LightGBM] [Debug] Trained a tree with leaves = 200 and depth = 24\n",
      "[LightGBM] [Debug] Trained a tree with leaves = 200 and depth = 20\n",
      "[LightGBM] [Debug] Trained a tree with leaves = 200 and depth = 15\n",
      "[LightGBM] [Debug] Trained a tree with leaves = 200 and depth = 23\n",
      "[LightGBM] [Debug] Trained a tree with leaves = 200 and depth = 22\n",
      "[LightGBM] [Debug] Trained a tree with leaves = 200 and depth = 19\n",
      "[LightGBM] [Debug] Trained a tree with leaves = 200 and depth = 20\n",
      "[LightGBM] [Debug] Trained a tree with leaves = 200 and depth = 24\n",
      "[LightGBM] [Debug] Trained a tree with leaves = 200 and depth = 18\n",
      "[LightGBM] [Debug] Trained a tree with leaves = 200 and depth = 20\n",
      "[LightGBM] [Debug] Trained a tree with leaves = 200 and depth = 17\n",
      "[LightGBM] [Debug] Trained a tree with leaves = 200 and depth = 21\n",
      "[LightGBM] [Debug] Trained a tree with leaves = 200 and depth = 25\n",
      "[LightGBM] [Debug] Trained a tree with leaves = 200 and depth = 22\n",
      "[LightGBM] [Debug] Trained a tree with leaves = 200 and depth = 21\n",
      "[LightGBM] [Debug] Trained a tree with leaves = 200 and depth = 22\n",
      "[LightGBM] [Debug] Trained a tree with leaves = 200 and depth = 23\n",
      "[LightGBM] [Debug] Trained a tree with leaves = 200 and depth = 26\n",
      "[LightGBM] [Debug] Trained a tree with leaves = 200 and depth = 17\n",
      "[LightGBM] [Debug] Trained a tree with leaves = 200 and depth = 20\n",
      "[LightGBM] [Debug] Trained a tree with leaves = 200 and depth = 23\n",
      "[LightGBM] [Debug] Trained a tree with leaves = 200 and depth = 22\n",
      "[LightGBM] [Debug] Trained a tree with leaves = 200 and depth = 21\n",
      "[LightGBM] [Debug] Trained a tree with leaves = 200 and depth = 24\n",
      "[LightGBM] [Debug] Dataset::GetMultiBinFromSparseFeatures: sparse rate 0.771863\n",
      "[LightGBM] [Debug] Dataset::GetMultiBinFromAllFeatures: sparse rate 0.227185\n",
      "[LightGBM] [Debug] init for col-wise cost 0.092170 seconds, init for row-wise cost 0.097505 seconds\n",
      "[LightGBM] [Warning] Auto-choosing row-wise multi-threading, the overhead of testing was 0.095774 seconds.\n",
      "You can set `force_row_wise=true` to remove the overhead.\n",
      "And if memory is not enough, you can set `force_col_wise=true`.\n",
      "[LightGBM] [Debug] Using Dense Multi-Val Bin\n",
      "[LightGBM] [Info] Total Bins 678\n",
      "[LightGBM] [Info] Number of data points in the train set: 204561, number of used features: 11\n",
      "[LightGBM] [Info] Start training from score 4585.907367\n",
      "[LightGBM] [Debug] Trained a tree with leaves = 100 and depth = 10\n",
      "[LightGBM] [Debug] Trained a tree with leaves = 100 and depth = 10\n",
      "[LightGBM] [Debug] Trained a tree with leaves = 100 and depth = 10\n",
      "[LightGBM] [Debug] Trained a tree with leaves = 100 and depth = 13\n",
      "[LightGBM] [Debug] Trained a tree with leaves = 100 and depth = 11\n",
      "[LightGBM] [Debug] Trained a tree with leaves = 100 and depth = 11\n",
      "[LightGBM] [Debug] Trained a tree with leaves = 100 and depth = 15\n",
      "[LightGBM] [Debug] Trained a tree with leaves = 100 and depth = 12\n",
      "[LightGBM] [Debug] Trained a tree with leaves = 100 and depth = 14\n",
      "[LightGBM] [Debug] Trained a tree with leaves = 100 and depth = 14\n",
      "[LightGBM] [Debug] Trained a tree with leaves = 100 and depth = 16\n",
      "[LightGBM] [Debug] Trained a tree with leaves = 100 and depth = 13\n",
      "[LightGBM] [Debug] Trained a tree with leaves = 100 and depth = 18\n",
      "[LightGBM] [Debug] Trained a tree with leaves = 100 and depth = 15\n",
      "[LightGBM] [Debug] Trained a tree with leaves = 100 and depth = 15\n",
      "[LightGBM] [Debug] Trained a tree with leaves = 100 and depth = 17\n",
      "[LightGBM] [Debug] Trained a tree with leaves = 100 and depth = 17\n",
      "[LightGBM] [Debug] Trained a tree with leaves = 100 and depth = 20\n",
      "[LightGBM] [Debug] Trained a tree with leaves = 100 and depth = 14\n",
      "[LightGBM] [Debug] Trained a tree with leaves = 100 and depth = 16\n",
      "[LightGBM] [Debug] Trained a tree with leaves = 100 and depth = 16\n",
      "[LightGBM] [Debug] Trained a tree with leaves = 100 and depth = 18\n",
      "[LightGBM] [Debug] Trained a tree with leaves = 100 and depth = 17\n",
      "[LightGBM] [Debug] Trained a tree with leaves = 100 and depth = 20\n",
      "[LightGBM] [Debug] Trained a tree with leaves = 100 and depth = 18\n",
      "[LightGBM] [Debug] Trained a tree with leaves = 100 and depth = 20\n",
      "[LightGBM] [Debug] Trained a tree with leaves = 100 and depth = 16\n",
      "[LightGBM] [Debug] Trained a tree with leaves = 100 and depth = 15\n",
      "[LightGBM] [Debug] Trained a tree with leaves = 100 and depth = 16\n",
      "[LightGBM] [Debug] Trained a tree with leaves = 100 and depth = 22\n",
      "[LightGBM] [Debug] Trained a tree with leaves = 100 and depth = 18\n",
      "[LightGBM] [Debug] Trained a tree with leaves = 100 and depth = 16\n",
      "[LightGBM] [Debug] Trained a tree with leaves = 100 and depth = 17\n",
      "[LightGBM] [Debug] Trained a tree with leaves = 100 and depth = 13\n",
      "[LightGBM] [Debug] Trained a tree with leaves = 100 and depth = 17\n",
      "[LightGBM] [Debug] Trained a tree with leaves = 100 and depth = 22\n",
      "[LightGBM] [Debug] Trained a tree with leaves = 100 and depth = 21\n",
      "[LightGBM] [Debug] Trained a tree with leaves = 100 and depth = 17\n",
      "[LightGBM] [Debug] Trained a tree with leaves = 100 and depth = 16\n",
      "[LightGBM] [Debug] Trained a tree with leaves = 100 and depth = 15\n",
      "[LightGBM] [Debug] Trained a tree with leaves = 100 and depth = 15\n",
      "[LightGBM] [Debug] Trained a tree with leaves = 100 and depth = 19\n",
      "[LightGBM] [Debug] Trained a tree with leaves = 100 and depth = 17\n",
      "[LightGBM] [Debug] Trained a tree with leaves = 100 and depth = 15\n",
      "[LightGBM] [Debug] Trained a tree with leaves = 100 and depth = 17\n",
      "[LightGBM] [Debug] Trained a tree with leaves = 100 and depth = 18\n",
      "[LightGBM] [Debug] Trained a tree with leaves = 100 and depth = 24\n",
      "[LightGBM] [Debug] Trained a tree with leaves = 100 and depth = 22\n",
      "[LightGBM] [Debug] Trained a tree with leaves = 100 and depth = 14\n",
      "[LightGBM] [Debug] Trained a tree with leaves = 100 and depth = 14\n",
      "[LightGBM] [Debug] Trained a tree with leaves = 100 and depth = 21\n",
      "[LightGBM] [Debug] Trained a tree with leaves = 100 and depth = 14\n",
      "[LightGBM] [Debug] Trained a tree with leaves = 100 and depth = 16\n",
      "[LightGBM] [Debug] Trained a tree with leaves = 100 and depth = 19\n",
      "[LightGBM] [Debug] Trained a tree with leaves = 100 and depth = 16\n",
      "[LightGBM] [Debug] Trained a tree with leaves = 100 and depth = 15\n",
      "[LightGBM] [Debug] Trained a tree with leaves = 100 and depth = 17\n",
      "[LightGBM] [Debug] Trained a tree with leaves = 100 and depth = 13\n",
      "[LightGBM] [Debug] Trained a tree with leaves = 100 and depth = 20\n",
      "[LightGBM] [Debug] Trained a tree with leaves = 100 and depth = 20\n",
      "[LightGBM] [Debug] Trained a tree with leaves = 100 and depth = 14\n",
      "[LightGBM] [Debug] Trained a tree with leaves = 100 and depth = 17\n",
      "[LightGBM] [Debug] Trained a tree with leaves = 100 and depth = 17\n",
      "[LightGBM] [Debug] Trained a tree with leaves = 100 and depth = 14\n",
      "[LightGBM] [Debug] Trained a tree with leaves = 100 and depth = 20\n",
      "[LightGBM] [Debug] Trained a tree with leaves = 100 and depth = 16\n",
      "[LightGBM] [Debug] Trained a tree with leaves = 100 and depth = 16\n",
      "[LightGBM] [Debug] Trained a tree with leaves = 100 and depth = 15\n",
      "[LightGBM] [Debug] Trained a tree with leaves = 100 and depth = 15\n",
      "[LightGBM] [Debug] Trained a tree with leaves = 100 and depth = 16\n",
      "[LightGBM] [Debug] Trained a tree with leaves = 100 and depth = 16\n",
      "[LightGBM] [Debug] Trained a tree with leaves = 100 and depth = 17\n",
      "[LightGBM] [Debug] Trained a tree with leaves = 100 and depth = 16\n",
      "[LightGBM] [Debug] Trained a tree with leaves = 100 and depth = 16\n",
      "[LightGBM] [Debug] Trained a tree with leaves = 100 and depth = 16\n",
      "[LightGBM] [Debug] Trained a tree with leaves = 100 and depth = 26\n",
      "[LightGBM] [Debug] Trained a tree with leaves = 100 and depth = 15\n",
      "[LightGBM] [Debug] Trained a tree with leaves = 100 and depth = 24\n",
      "[LightGBM] [Debug] Trained a tree with leaves = 100 and depth = 19\n",
      "[LightGBM] [Debug] Trained a tree with leaves = 100 and depth = 16\n",
      "[LightGBM] [Debug] Trained a tree with leaves = 100 and depth = 19\n",
      "[LightGBM] [Debug] Trained a tree with leaves = 100 and depth = 16\n",
      "[LightGBM] [Debug] Trained a tree with leaves = 100 and depth = 17\n",
      "[LightGBM] [Debug] Trained a tree with leaves = 100 and depth = 18\n",
      "[LightGBM] [Debug] Trained a tree with leaves = 100 and depth = 19\n",
      "[LightGBM] [Debug] Trained a tree with leaves = 100 and depth = 16\n",
      "[LightGBM] [Debug] Trained a tree with leaves = 100 and depth = 17\n",
      "[LightGBM] [Debug] Trained a tree with leaves = 100 and depth = 15\n",
      "[LightGBM] [Debug] Trained a tree with leaves = 100 and depth = 16\n",
      "[LightGBM] [Debug] Trained a tree with leaves = 100 and depth = 15\n",
      "[LightGBM] [Debug] Trained a tree with leaves = 100 and depth = 19\n",
      "[LightGBM] [Debug] Trained a tree with leaves = 100 and depth = 15\n",
      "[LightGBM] [Debug] Trained a tree with leaves = 100 and depth = 20\n",
      "[LightGBM] [Debug] Trained a tree with leaves = 100 and depth = 16\n",
      "[LightGBM] [Debug] Trained a tree with leaves = 100 and depth = 12\n",
      "[LightGBM] [Debug] Trained a tree with leaves = 100 and depth = 15\n",
      "[LightGBM] [Debug] Trained a tree with leaves = 100 and depth = 20\n",
      "[LightGBM] [Debug] Trained a tree with leaves = 100 and depth = 13\n",
      "[LightGBM] [Debug] Trained a tree with leaves = 100 and depth = 24\n",
      "[LightGBM] [Debug] Trained a tree with leaves = 100 and depth = 14\n",
      "[LightGBM] [Debug] Dataset::GetMultiBinFromSparseFeatures: sparse rate 0.772358\n",
      "[LightGBM] [Debug] Dataset::GetMultiBinFromAllFeatures: sparse rate 0.227301\n",
      "[LightGBM] [Debug] init for col-wise cost 0.006242 seconds, init for row-wise cost 0.096860 seconds\n",
      "[LightGBM] [Warning] Auto-choosing row-wise multi-threading, the overhead of testing was 0.009827 seconds.\n",
      "You can set `force_row_wise=true` to remove the overhead.\n",
      "And if memory is not enough, you can set `force_col_wise=true`.\n",
      "[LightGBM] [Debug] Using Dense Multi-Val Bin\n",
      "[LightGBM] [Info] Total Bins 680\n",
      "[LightGBM] [Info] Number of data points in the train set: 204561, number of used features: 11\n",
      "[LightGBM] [Info] Start training from score 4592.320291\n",
      "[LightGBM] [Debug] Trained a tree with leaves = 100 and depth = 10\n",
      "[LightGBM] [Debug] Trained a tree with leaves = 100 and depth = 10\n",
      "[LightGBM] [Debug] Trained a tree with leaves = 100 and depth = 10\n",
      "[LightGBM] [Debug] Trained a tree with leaves = 100 and depth = 10\n",
      "[LightGBM] [Debug] Trained a tree with leaves = 100 and depth = 12\n",
      "[LightGBM] [Debug] Trained a tree with leaves = 100 and depth = 11\n",
      "[LightGBM] [Debug] Trained a tree with leaves = 100 and depth = 16\n",
      "[LightGBM] [Debug] Trained a tree with leaves = 100 and depth = 13\n",
      "[LightGBM] [Debug] Trained a tree with leaves = 100 and depth = 12\n",
      "[LightGBM] [Debug] Trained a tree with leaves = 100 and depth = 15\n",
      "[LightGBM] [Debug] Trained a tree with leaves = 100 and depth = 12\n",
      "[LightGBM] [Debug] Trained a tree with leaves = 100 and depth = 13\n",
      "[LightGBM] [Debug] Trained a tree with leaves = 100 and depth = 15\n",
      "[LightGBM] [Debug] Trained a tree with leaves = 100 and depth = 18\n",
      "[LightGBM] [Debug] Trained a tree with leaves = 100 and depth = 15\n",
      "[LightGBM] [Debug] Trained a tree with leaves = 100 and depth = 15\n",
      "[LightGBM] [Debug] Trained a tree with leaves = 100 and depth = 17\n",
      "[LightGBM] [Debug] Trained a tree with leaves = 100 and depth = 16\n",
      "[LightGBM] [Debug] Trained a tree with leaves = 100 and depth = 18\n",
      "[LightGBM] [Debug] Trained a tree with leaves = 100 and depth = 14\n",
      "[LightGBM] [Debug] Trained a tree with leaves = 100 and depth = 19\n",
      "[LightGBM] [Debug] Trained a tree with leaves = 100 and depth = 23\n",
      "[LightGBM] [Debug] Trained a tree with leaves = 100 and depth = 17\n",
      "[LightGBM] [Debug] Trained a tree with leaves = 100 and depth = 14\n",
      "[LightGBM] [Debug] Trained a tree with leaves = 100 and depth = 17\n",
      "[LightGBM] [Debug] Trained a tree with leaves = 100 and depth = 17\n",
      "[LightGBM] [Debug] Trained a tree with leaves = 100 and depth = 17\n",
      "[LightGBM] [Debug] Trained a tree with leaves = 100 and depth = 17\n",
      "[LightGBM] [Debug] Trained a tree with leaves = 100 and depth = 15\n",
      "[LightGBM] [Debug] Trained a tree with leaves = 100 and depth = 16\n",
      "[LightGBM] [Debug] Trained a tree with leaves = 100 and depth = 19\n",
      "[LightGBM] [Debug] Trained a tree with leaves = 100 and depth = 16\n",
      "[LightGBM] [Debug] Trained a tree with leaves = 100 and depth = 16\n",
      "[LightGBM] [Debug] Trained a tree with leaves = 100 and depth = 14\n",
      "[LightGBM] [Debug] Trained a tree with leaves = 100 and depth = 20\n",
      "[LightGBM] [Debug] Trained a tree with leaves = 100 and depth = 19\n",
      "[LightGBM] [Debug] Trained a tree with leaves = 100 and depth = 18\n",
      "[LightGBM] [Debug] Trained a tree with leaves = 100 and depth = 16\n",
      "[LightGBM] [Debug] Trained a tree with leaves = 100 and depth = 14\n",
      "[LightGBM] [Debug] Trained a tree with leaves = 100 and depth = 18\n",
      "[LightGBM] [Debug] Trained a tree with leaves = 100 and depth = 16\n",
      "[LightGBM] [Debug] Trained a tree with leaves = 100 and depth = 18\n",
      "[LightGBM] [Debug] Trained a tree with leaves = 100 and depth = 17\n",
      "[LightGBM] [Debug] Trained a tree with leaves = 100 and depth = 19\n",
      "[LightGBM] [Debug] Trained a tree with leaves = 100 and depth = 18\n",
      "[LightGBM] [Debug] Trained a tree with leaves = 100 and depth = 12\n",
      "[LightGBM] [Debug] Trained a tree with leaves = 100 and depth = 15\n",
      "[LightGBM] [Debug] Trained a tree with leaves = 100 and depth = 15\n",
      "[LightGBM] [Debug] Trained a tree with leaves = 100 and depth = 17\n",
      "[LightGBM] [Debug] Trained a tree with leaves = 100 and depth = 21\n",
      "[LightGBM] [Debug] Trained a tree with leaves = 100 and depth = 18\n",
      "[LightGBM] [Debug] Trained a tree with leaves = 100 and depth = 16\n",
      "[LightGBM] [Debug] Trained a tree with leaves = 100 and depth = 17\n",
      "[LightGBM] [Debug] Trained a tree with leaves = 100 and depth = 18\n",
      "[LightGBM] [Debug] Trained a tree with leaves = 100 and depth = 19\n",
      "[LightGBM] [Debug] Trained a tree with leaves = 100 and depth = 22\n",
      "[LightGBM] [Debug] Trained a tree with leaves = 100 and depth = 16\n",
      "[LightGBM] [Debug] Trained a tree with leaves = 100 and depth = 16\n",
      "[LightGBM] [Debug] Trained a tree with leaves = 100 and depth = 19\n",
      "[LightGBM] [Debug] Trained a tree with leaves = 100 and depth = 20\n",
      "[LightGBM] [Debug] Trained a tree with leaves = 100 and depth = 16\n",
      "[LightGBM] [Debug] Trained a tree with leaves = 100 and depth = 16\n",
      "[LightGBM] [Debug] Trained a tree with leaves = 100 and depth = 17\n",
      "[LightGBM] [Debug] Trained a tree with leaves = 100 and depth = 12\n",
      "[LightGBM] [Debug] Trained a tree with leaves = 100 and depth = 18\n",
      "[LightGBM] [Debug] Trained a tree with leaves = 100 and depth = 16\n",
      "[LightGBM] [Debug] Trained a tree with leaves = 100 and depth = 13\n",
      "[LightGBM] [Debug] Trained a tree with leaves = 100 and depth = 20\n",
      "[LightGBM] [Debug] Trained a tree with leaves = 100 and depth = 17\n",
      "[LightGBM] [Debug] Trained a tree with leaves = 100 and depth = 16\n",
      "[LightGBM] [Debug] Trained a tree with leaves = 100 and depth = 15\n",
      "[LightGBM] [Debug] Trained a tree with leaves = 100 and depth = 17\n",
      "[LightGBM] [Debug] Trained a tree with leaves = 100 and depth = 18\n",
      "[LightGBM] [Debug] Trained a tree with leaves = 100 and depth = 22\n",
      "[LightGBM] [Debug] Trained a tree with leaves = 100 and depth = 19\n",
      "[LightGBM] [Debug] Trained a tree with leaves = 100 and depth = 12\n",
      "[LightGBM] [Debug] Trained a tree with leaves = 100 and depth = 15\n",
      "[LightGBM] [Debug] Trained a tree with leaves = 100 and depth = 15\n",
      "[LightGBM] [Debug] Trained a tree with leaves = 100 and depth = 25\n",
      "[LightGBM] [Debug] Trained a tree with leaves = 100 and depth = 17\n",
      "[LightGBM] [Debug] Trained a tree with leaves = 100 and depth = 15\n",
      "[LightGBM] [Debug] Trained a tree with leaves = 100 and depth = 19\n",
      "[LightGBM] [Debug] Trained a tree with leaves = 100 and depth = 20\n",
      "[LightGBM] [Debug] Trained a tree with leaves = 100 and depth = 18\n",
      "[LightGBM] [Debug] Trained a tree with leaves = 100 and depth = 14\n",
      "[LightGBM] [Debug] Trained a tree with leaves = 100 and depth = 14\n",
      "[LightGBM] [Debug] Trained a tree with leaves = 100 and depth = 25\n",
      "[LightGBM] [Debug] Trained a tree with leaves = 100 and depth = 20\n",
      "[LightGBM] [Debug] Trained a tree with leaves = 100 and depth = 18\n",
      "[LightGBM] [Debug] Trained a tree with leaves = 100 and depth = 15\n",
      "[LightGBM] [Debug] Trained a tree with leaves = 100 and depth = 22\n",
      "[LightGBM] [Debug] Trained a tree with leaves = 100 and depth = 19\n",
      "[LightGBM] [Debug] Trained a tree with leaves = 100 and depth = 18\n",
      "[LightGBM] [Debug] Trained a tree with leaves = 100 and depth = 26\n",
      "[LightGBM] [Debug] Trained a tree with leaves = 100 and depth = 21\n",
      "[LightGBM] [Debug] Trained a tree with leaves = 100 and depth = 19\n",
      "[LightGBM] [Debug] Trained a tree with leaves = 100 and depth = 21\n",
      "[LightGBM] [Debug] Trained a tree with leaves = 100 and depth = 22\n",
      "[LightGBM] [Debug] Trained a tree with leaves = 100 and depth = 18\n",
      "[LightGBM] [Debug] Trained a tree with leaves = 100 and depth = 13\n",
      "[LightGBM] [Debug] Dataset::GetMultiBinFromSparseFeatures: sparse rate 0.772437\n",
      "[LightGBM] [Debug] Dataset::GetMultiBinFromAllFeatures: sparse rate 0.227390\n",
      "[LightGBM] [Debug] init for col-wise cost 0.004842 seconds, init for row-wise cost 0.094650 seconds\n",
      "[LightGBM] [Warning] Auto-choosing row-wise multi-threading, the overhead of testing was 0.008946 seconds.\n",
      "You can set `force_row_wise=true` to remove the overhead.\n",
      "And if memory is not enough, you can set `force_col_wise=true`.\n",
      "[LightGBM] [Debug] Using Dense Multi-Val Bin\n",
      "[LightGBM] [Info] Total Bins 680\n",
      "[LightGBM] [Info] Number of data points in the train set: 204562, number of used features: 11\n",
      "[LightGBM] [Info] Start training from score 4587.936640\n",
      "[LightGBM] [Debug] Trained a tree with leaves = 100 and depth = 10\n",
      "[LightGBM] [Debug] Trained a tree with leaves = 100 and depth = 11\n",
      "[LightGBM] [Debug] Trained a tree with leaves = 100 and depth = 11\n",
      "[LightGBM] [Debug] Trained a tree with leaves = 100 and depth = 11\n",
      "[LightGBM] [Debug] Trained a tree with leaves = 100 and depth = 11\n",
      "[LightGBM] [Debug] Trained a tree with leaves = 100 and depth = 13\n",
      "[LightGBM] [Debug] Trained a tree with leaves = 100 and depth = 17\n",
      "[LightGBM] [Debug] Trained a tree with leaves = 100 and depth = 15\n",
      "[LightGBM] [Debug] Trained a tree with leaves = 100 and depth = 12\n",
      "[LightGBM] [Debug] Trained a tree with leaves = 100 and depth = 13\n",
      "[LightGBM] [Debug] Trained a tree with leaves = 100 and depth = 14\n",
      "[LightGBM] [Debug] Trained a tree with leaves = 100 and depth = 16\n",
      "[LightGBM] [Debug] Trained a tree with leaves = 100 and depth = 14\n",
      "[LightGBM] [Debug] Trained a tree with leaves = 100 and depth = 16\n",
      "[LightGBM] [Debug] Trained a tree with leaves = 100 and depth = 13\n",
      "[LightGBM] [Debug] Trained a tree with leaves = 100 and depth = 18\n",
      "[LightGBM] [Debug] Trained a tree with leaves = 100 and depth = 17\n",
      "[LightGBM] [Debug] Trained a tree with leaves = 100 and depth = 22\n",
      "[LightGBM] [Debug] Trained a tree with leaves = 100 and depth = 15\n",
      "[LightGBM] [Debug] Trained a tree with leaves = 100 and depth = 17\n",
      "[LightGBM] [Debug] Trained a tree with leaves = 100 and depth = 23\n",
      "[LightGBM] [Debug] Trained a tree with leaves = 100 and depth = 20\n",
      "[LightGBM] [Debug] Trained a tree with leaves = 100 and depth = 15\n",
      "[LightGBM] [Debug] Trained a tree with leaves = 100 and depth = 18\n",
      "[LightGBM] [Debug] Trained a tree with leaves = 100 and depth = 17\n",
      "[LightGBM] [Debug] Trained a tree with leaves = 100 and depth = 14\n",
      "[LightGBM] [Debug] Trained a tree with leaves = 100 and depth = 18\n",
      "[LightGBM] [Debug] Trained a tree with leaves = 100 and depth = 18\n",
      "[LightGBM] [Debug] Trained a tree with leaves = 100 and depth = 21\n",
      "[LightGBM] [Debug] Trained a tree with leaves = 100 and depth = 18\n",
      "[LightGBM] [Debug] Trained a tree with leaves = 100 and depth = 19\n",
      "[LightGBM] [Debug] Trained a tree with leaves = 100 and depth = 22\n",
      "[LightGBM] [Debug] Trained a tree with leaves = 100 and depth = 16\n",
      "[LightGBM] [Debug] Trained a tree with leaves = 100 and depth = 16\n",
      "[LightGBM] [Debug] Trained a tree with leaves = 100 and depth = 11\n",
      "[LightGBM] [Debug] Trained a tree with leaves = 100 and depth = 22\n",
      "[LightGBM] [Debug] Trained a tree with leaves = 100 and depth = 17\n",
      "[LightGBM] [Debug] Trained a tree with leaves = 100 and depth = 13\n",
      "[LightGBM] [Debug] Trained a tree with leaves = 100 and depth = 15\n",
      "[LightGBM] [Debug] Trained a tree with leaves = 100 and depth = 20\n",
      "[LightGBM] [Debug] Trained a tree with leaves = 100 and depth = 16\n",
      "[LightGBM] [Debug] Trained a tree with leaves = 100 and depth = 15\n",
      "[LightGBM] [Debug] Trained a tree with leaves = 100 and depth = 16\n",
      "[LightGBM] [Debug] Trained a tree with leaves = 100 and depth = 16\n",
      "[LightGBM] [Debug] Trained a tree with leaves = 100 and depth = 22\n",
      "[LightGBM] [Debug] Trained a tree with leaves = 100 and depth = 16\n",
      "[LightGBM] [Debug] Trained a tree with leaves = 100 and depth = 12\n",
      "[LightGBM] [Debug] Trained a tree with leaves = 100 and depth = 16\n",
      "[LightGBM] [Debug] Trained a tree with leaves = 100 and depth = 16\n",
      "[LightGBM] [Debug] Trained a tree with leaves = 100 and depth = 14\n",
      "[LightGBM] [Debug] Trained a tree with leaves = 100 and depth = 18\n",
      "[LightGBM] [Debug] Trained a tree with leaves = 100 and depth = 13\n",
      "[LightGBM] [Debug] Trained a tree with leaves = 100 and depth = 23\n",
      "[LightGBM] [Debug] Trained a tree with leaves = 100 and depth = 16\n",
      "[LightGBM] [Debug] Trained a tree with leaves = 100 and depth = 20\n",
      "[LightGBM] [Debug] Trained a tree with leaves = 100 and depth = 15\n",
      "[LightGBM] [Debug] Trained a tree with leaves = 100 and depth = 18\n",
      "[LightGBM] [Debug] Trained a tree with leaves = 100 and depth = 18\n",
      "[LightGBM] [Debug] Trained a tree with leaves = 100 and depth = 18\n",
      "[LightGBM] [Debug] Trained a tree with leaves = 100 and depth = 15\n",
      "[LightGBM] [Debug] Trained a tree with leaves = 100 and depth = 12\n",
      "[LightGBM] [Debug] Trained a tree with leaves = 100 and depth = 13\n",
      "[LightGBM] [Debug] Trained a tree with leaves = 100 and depth = 15\n",
      "[LightGBM] [Debug] Trained a tree with leaves = 100 and depth = 17\n",
      "[LightGBM] [Debug] Trained a tree with leaves = 100 and depth = 13\n",
      "[LightGBM] [Debug] Trained a tree with leaves = 100 and depth = 21\n",
      "[LightGBM] [Debug] Trained a tree with leaves = 100 and depth = 21\n",
      "[LightGBM] [Debug] Trained a tree with leaves = 100 and depth = 20\n",
      "[LightGBM] [Debug] Trained a tree with leaves = 100 and depth = 14\n",
      "[LightGBM] [Debug] Trained a tree with leaves = 100 and depth = 17\n",
      "[LightGBM] [Debug] Trained a tree with leaves = 100 and depth = 25\n",
      "[LightGBM] [Debug] Trained a tree with leaves = 100 and depth = 16\n",
      "[LightGBM] [Debug] Trained a tree with leaves = 100 and depth = 14\n",
      "[LightGBM] [Debug] Trained a tree with leaves = 100 and depth = 15\n",
      "[LightGBM] [Debug] Trained a tree with leaves = 100 and depth = 13\n",
      "[LightGBM] [Debug] Trained a tree with leaves = 100 and depth = 17\n",
      "[LightGBM] [Debug] Trained a tree with leaves = 100 and depth = 20\n",
      "[LightGBM] [Debug] Trained a tree with leaves = 100 and depth = 21\n",
      "[LightGBM] [Debug] Trained a tree with leaves = 100 and depth = 13\n",
      "[LightGBM] [Debug] Trained a tree with leaves = 100 and depth = 20\n",
      "[LightGBM] [Debug] Trained a tree with leaves = 100 and depth = 15\n",
      "[LightGBM] [Debug] Trained a tree with leaves = 100 and depth = 14\n",
      "[LightGBM] [Debug] Trained a tree with leaves = 100 and depth = 19\n",
      "[LightGBM] [Debug] Trained a tree with leaves = 100 and depth = 14\n",
      "[LightGBM] [Debug] Trained a tree with leaves = 100 and depth = 17\n",
      "[LightGBM] [Debug] Trained a tree with leaves = 100 and depth = 14\n",
      "[LightGBM] [Debug] Trained a tree with leaves = 100 and depth = 31\n",
      "[LightGBM] [Debug] Trained a tree with leaves = 100 and depth = 17\n",
      "[LightGBM] [Debug] Trained a tree with leaves = 100 and depth = 16\n",
      "[LightGBM] [Debug] Trained a tree with leaves = 100 and depth = 18\n",
      "[LightGBM] [Debug] Trained a tree with leaves = 100 and depth = 22\n",
      "[LightGBM] [Debug] Trained a tree with leaves = 100 and depth = 20\n",
      "[LightGBM] [Debug] Trained a tree with leaves = 100 and depth = 16\n",
      "[LightGBM] [Debug] Trained a tree with leaves = 100 and depth = 14\n",
      "[LightGBM] [Debug] Trained a tree with leaves = 100 and depth = 17\n",
      "[LightGBM] [Debug] Trained a tree with leaves = 100 and depth = 21\n",
      "[LightGBM] [Debug] Trained a tree with leaves = 100 and depth = 18\n",
      "[LightGBM] [Debug] Trained a tree with leaves = 100 and depth = 18\n",
      "[LightGBM] [Debug] Trained a tree with leaves = 100 and depth = 12\n",
      "[LightGBM] [Debug] Trained a tree with leaves = 100 and depth = 16\n",
      "[LightGBM] [Debug] Dataset::GetMultiBinFromSparseFeatures: sparse rate 0.772172\n",
      "[LightGBM] [Debug] Dataset::GetMultiBinFromAllFeatures: sparse rate 0.227356\n",
      "[LightGBM] [Debug] init for col-wise cost 0.221887 seconds, init for row-wise cost 0.278726 seconds\n",
      "[LightGBM] [Warning] Auto-choosing row-wise multi-threading, the overhead of testing was 0.226062 seconds.\n",
      "You can set `force_row_wise=true` to remove the overhead.\n",
      "And if memory is not enough, you can set `force_col_wise=true`.\n",
      "[LightGBM] [Debug] Using Dense Multi-Val Bin\n",
      "[LightGBM] [Info] Total Bins 680\n",
      "[LightGBM] [Info] Number of data points in the train set: 204562, number of used features: 11\n",
      "[LightGBM] [Info] Start training from score 4586.147848\n",
      "[LightGBM] [Debug] Trained a tree with leaves = 100 and depth = 10\n",
      "[LightGBM] [Debug] Trained a tree with leaves = 100 and depth = 10\n",
      "[LightGBM] [Debug] Trained a tree with leaves = 100 and depth = 10\n",
      "[LightGBM] [Debug] Trained a tree with leaves = 100 and depth = 11\n",
      "[LightGBM] [Debug] Trained a tree with leaves = 100 and depth = 11\n",
      "[LightGBM] [Debug] Trained a tree with leaves = 100 and depth = 14\n",
      "[LightGBM] [Debug] Trained a tree with leaves = 100 and depth = 12\n",
      "[LightGBM] [Debug] Trained a tree with leaves = 100 and depth = 12\n",
      "[LightGBM] [Debug] Trained a tree with leaves = 100 and depth = 14\n",
      "[LightGBM] [Debug] Trained a tree with leaves = 100 and depth = 15\n",
      "[LightGBM] [Debug] Trained a tree with leaves = 100 and depth = 14\n",
      "[LightGBM] [Debug] Trained a tree with leaves = 100 and depth = 14\n",
      "[LightGBM] [Debug] Trained a tree with leaves = 100 and depth = 14\n",
      "[LightGBM] [Debug] Trained a tree with leaves = 100 and depth = 18\n",
      "[LightGBM] [Debug] Trained a tree with leaves = 100 and depth = 17\n",
      "[LightGBM] [Debug] Trained a tree with leaves = 100 and depth = 18\n",
      "[LightGBM] [Debug] Trained a tree with leaves = 100 and depth = 16\n",
      "[LightGBM] [Debug] Trained a tree with leaves = 100 and depth = 14\n",
      "[LightGBM] [Debug] Trained a tree with leaves = 100 and depth = 20\n",
      "[LightGBM] [Debug] Trained a tree with leaves = 100 and depth = 19\n",
      "[LightGBM] [Debug] Trained a tree with leaves = 100 and depth = 19\n",
      "[LightGBM] [Debug] Trained a tree with leaves = 100 and depth = 20\n",
      "[LightGBM] [Debug] Trained a tree with leaves = 100 and depth = 18\n",
      "[LightGBM] [Debug] Trained a tree with leaves = 100 and depth = 18\n",
      "[LightGBM] [Debug] Trained a tree with leaves = 100 and depth = 14\n",
      "[LightGBM] [Debug] Trained a tree with leaves = 100 and depth = 15\n",
      "[LightGBM] [Debug] Trained a tree with leaves = 100 and depth = 20\n",
      "[LightGBM] [Debug] Trained a tree with leaves = 100 and depth = 15\n",
      "[LightGBM] [Debug] Trained a tree with leaves = 100 and depth = 15\n",
      "[LightGBM] [Debug] Trained a tree with leaves = 100 and depth = 17\n",
      "[LightGBM] [Debug] Trained a tree with leaves = 100 and depth = 17\n",
      "[LightGBM] [Debug] Trained a tree with leaves = 100 and depth = 16\n",
      "[LightGBM] [Debug] Trained a tree with leaves = 100 and depth = 17\n",
      "[LightGBM] [Debug] Trained a tree with leaves = 100 and depth = 14\n",
      "[LightGBM] [Debug] Trained a tree with leaves = 100 and depth = 21\n",
      "[LightGBM] [Debug] Trained a tree with leaves = 100 and depth = 25\n",
      "[LightGBM] [Debug] Trained a tree with leaves = 100 and depth = 15\n",
      "[LightGBM] [Debug] Trained a tree with leaves = 100 and depth = 15\n",
      "[LightGBM] [Debug] Trained a tree with leaves = 100 and depth = 16\n",
      "[LightGBM] [Debug] Trained a tree with leaves = 100 and depth = 18\n",
      "[LightGBM] [Debug] Trained a tree with leaves = 100 and depth = 14\n",
      "[LightGBM] [Debug] Trained a tree with leaves = 100 and depth = 22\n",
      "[LightGBM] [Debug] Trained a tree with leaves = 100 and depth = 18\n",
      "[LightGBM] [Debug] Trained a tree with leaves = 100 and depth = 19\n",
      "[LightGBM] [Debug] Trained a tree with leaves = 100 and depth = 16\n",
      "[LightGBM] [Debug] Trained a tree with leaves = 100 and depth = 16\n",
      "[LightGBM] [Debug] Trained a tree with leaves = 100 and depth = 18\n",
      "[LightGBM] [Debug] Trained a tree with leaves = 100 and depth = 14\n",
      "[LightGBM] [Debug] Trained a tree with leaves = 100 and depth = 21\n",
      "[LightGBM] [Debug] Trained a tree with leaves = 100 and depth = 14\n",
      "[LightGBM] [Debug] Trained a tree with leaves = 100 and depth = 17\n",
      "[LightGBM] [Debug] Trained a tree with leaves = 100 and depth = 18\n",
      "[LightGBM] [Debug] Trained a tree with leaves = 100 and depth = 14\n",
      "[LightGBM] [Debug] Trained a tree with leaves = 100 and depth = 14\n",
      "[LightGBM] [Debug] Trained a tree with leaves = 100 and depth = 14\n",
      "[LightGBM] [Debug] Trained a tree with leaves = 100 and depth = 17\n",
      "[LightGBM] [Debug] Trained a tree with leaves = 100 and depth = 18\n",
      "[LightGBM] [Debug] Trained a tree with leaves = 100 and depth = 18\n",
      "[LightGBM] [Debug] Trained a tree with leaves = 100 and depth = 19\n",
      "[LightGBM] [Debug] Trained a tree with leaves = 100 and depth = 18\n",
      "[LightGBM] [Debug] Trained a tree with leaves = 100 and depth = 19\n",
      "[LightGBM] [Debug] Trained a tree with leaves = 100 and depth = 16\n",
      "[LightGBM] [Debug] Trained a tree with leaves = 100 and depth = 24\n",
      "[LightGBM] [Debug] Trained a tree with leaves = 100 and depth = 18\n",
      "[LightGBM] [Debug] Trained a tree with leaves = 100 and depth = 20\n",
      "[LightGBM] [Debug] Trained a tree with leaves = 100 and depth = 17\n",
      "[LightGBM] [Debug] Trained a tree with leaves = 100 and depth = 18\n",
      "[LightGBM] [Debug] Trained a tree with leaves = 100 and depth = 20\n",
      "[LightGBM] [Debug] Trained a tree with leaves = 100 and depth = 21\n",
      "[LightGBM] [Debug] Trained a tree with leaves = 100 and depth = 18\n",
      "[LightGBM] [Debug] Trained a tree with leaves = 100 and depth = 22\n",
      "[LightGBM] [Debug] Trained a tree with leaves = 100 and depth = 19\n",
      "[LightGBM] [Debug] Trained a tree with leaves = 100 and depth = 15\n",
      "[LightGBM] [Debug] Trained a tree with leaves = 100 and depth = 17\n",
      "[LightGBM] [Debug] Trained a tree with leaves = 100 and depth = 20\n",
      "[LightGBM] [Debug] Trained a tree with leaves = 100 and depth = 24\n",
      "[LightGBM] [Debug] Trained a tree with leaves = 100 and depth = 16\n",
      "[LightGBM] [Debug] Trained a tree with leaves = 100 and depth = 18\n",
      "[LightGBM] [Debug] Trained a tree with leaves = 100 and depth = 15\n",
      "[LightGBM] [Debug] Trained a tree with leaves = 100 and depth = 15\n",
      "[LightGBM] [Debug] Trained a tree with leaves = 100 and depth = 14\n",
      "[LightGBM] [Debug] Trained a tree with leaves = 100 and depth = 16\n",
      "[LightGBM] [Debug] Trained a tree with leaves = 100 and depth = 19\n",
      "[LightGBM] [Debug] Trained a tree with leaves = 100 and depth = 15\n",
      "[LightGBM] [Debug] Trained a tree with leaves = 100 and depth = 23\n",
      "[LightGBM] [Debug] Trained a tree with leaves = 100 and depth = 16\n",
      "[LightGBM] [Debug] Trained a tree with leaves = 100 and depth = 18\n",
      "[LightGBM] [Debug] Trained a tree with leaves = 100 and depth = 20\n",
      "[LightGBM] [Debug] Trained a tree with leaves = 100 and depth = 15\n",
      "[LightGBM] [Debug] Trained a tree with leaves = 100 and depth = 17\n",
      "[LightGBM] [Debug] Trained a tree with leaves = 100 and depth = 16\n",
      "[LightGBM] [Debug] Trained a tree with leaves = 100 and depth = 18\n",
      "[LightGBM] [Debug] Trained a tree with leaves = 100 and depth = 18\n",
      "[LightGBM] [Debug] Trained a tree with leaves = 100 and depth = 17\n",
      "[LightGBM] [Debug] Trained a tree with leaves = 100 and depth = 14\n",
      "[LightGBM] [Debug] Trained a tree with leaves = 100 and depth = 20\n",
      "[LightGBM] [Debug] Trained a tree with leaves = 100 and depth = 20\n",
      "[LightGBM] [Debug] Trained a tree with leaves = 100 and depth = 18\n",
      "[LightGBM] [Debug] Trained a tree with leaves = 100 and depth = 21\n",
      "[LightGBM] [Debug] Trained a tree with leaves = 100 and depth = 14\n",
      "[LightGBM] [Debug] Dataset::GetMultiBinFromSparseFeatures: sparse rate 0.772483\n",
      "[LightGBM] [Debug] Dataset::GetMultiBinFromAllFeatures: sparse rate 0.227432\n",
      "[LightGBM] [Debug] init for col-wise cost 0.093083 seconds, init for row-wise cost 0.096303 seconds\n",
      "[LightGBM] [Warning] Auto-choosing row-wise multi-threading, the overhead of testing was 0.097269 seconds.\n",
      "You can set `force_row_wise=true` to remove the overhead.\n",
      "And if memory is not enough, you can set `force_col_wise=true`.\n",
      "[LightGBM] [Debug] Using Dense Multi-Val Bin\n",
      "[LightGBM] [Info] Total Bins 681\n",
      "[LightGBM] [Info] Number of data points in the train set: 204562, number of used features: 11\n",
      "[LightGBM] [Info] Start training from score 4584.857564\n",
      "[LightGBM] [Debug] Trained a tree with leaves = 100 and depth = 10\n",
      "[LightGBM] [Debug] Trained a tree with leaves = 100 and depth = 10\n",
      "[LightGBM] [Debug] Trained a tree with leaves = 100 and depth = 10\n",
      "[LightGBM] [Debug] Trained a tree with leaves = 100 and depth = 10\n",
      "[LightGBM] [Debug] Trained a tree with leaves = 100 and depth = 11\n",
      "[LightGBM] [Debug] Trained a tree with leaves = 100 and depth = 11\n",
      "[LightGBM] [Debug] Trained a tree with leaves = 100 and depth = 12\n",
      "[LightGBM] [Debug] Trained a tree with leaves = 100 and depth = 12\n",
      "[LightGBM] [Debug] Trained a tree with leaves = 100 and depth = 12\n",
      "[LightGBM] [Debug] Trained a tree with leaves = 100 and depth = 13\n",
      "[LightGBM] [Debug] Trained a tree with leaves = 100 and depth = 14\n",
      "[LightGBM] [Debug] Trained a tree with leaves = 100 and depth = 14\n",
      "[LightGBM] [Debug] Trained a tree with leaves = 100 and depth = 15\n",
      "[LightGBM] [Debug] Trained a tree with leaves = 100 and depth = 15\n",
      "[LightGBM] [Debug] Trained a tree with leaves = 100 and depth = 13\n",
      "[LightGBM] [Debug] Trained a tree with leaves = 100 and depth = 18\n",
      "[LightGBM] [Debug] Trained a tree with leaves = 100 and depth = 19\n",
      "[LightGBM] [Debug] Trained a tree with leaves = 100 and depth = 20\n",
      "[LightGBM] [Debug] Trained a tree with leaves = 100 and depth = 18\n",
      "[LightGBM] [Debug] Trained a tree with leaves = 100 and depth = 16\n",
      "[LightGBM] [Debug] Trained a tree with leaves = 100 and depth = 13\n",
      "[LightGBM] [Debug] Trained a tree with leaves = 100 and depth = 20\n",
      "[LightGBM] [Debug] Trained a tree with leaves = 100 and depth = 23\n",
      "[LightGBM] [Debug] Trained a tree with leaves = 100 and depth = 16\n",
      "[LightGBM] [Debug] Trained a tree with leaves = 100 and depth = 16\n",
      "[LightGBM] [Debug] Trained a tree with leaves = 100 and depth = 11\n",
      "[LightGBM] [Debug] Trained a tree with leaves = 100 and depth = 16\n",
      "[LightGBM] [Debug] Trained a tree with leaves = 100 and depth = 15\n",
      "[LightGBM] [Debug] Trained a tree with leaves = 100 and depth = 24\n",
      "[LightGBM] [Debug] Trained a tree with leaves = 100 and depth = 14\n",
      "[LightGBM] [Debug] Trained a tree with leaves = 100 and depth = 12\n",
      "[LightGBM] [Debug] Trained a tree with leaves = 100 and depth = 19\n",
      "[LightGBM] [Debug] Trained a tree with leaves = 100 and depth = 14\n",
      "[LightGBM] [Debug] Trained a tree with leaves = 100 and depth = 16\n",
      "[LightGBM] [Debug] Trained a tree with leaves = 100 and depth = 13\n",
      "[LightGBM] [Debug] Trained a tree with leaves = 100 and depth = 14\n",
      "[LightGBM] [Debug] Trained a tree with leaves = 100 and depth = 21\n",
      "[LightGBM] [Debug] Trained a tree with leaves = 100 and depth = 18\n",
      "[LightGBM] [Debug] Trained a tree with leaves = 100 and depth = 17\n",
      "[LightGBM] [Debug] Trained a tree with leaves = 100 and depth = 17\n",
      "[LightGBM] [Debug] Trained a tree with leaves = 100 and depth = 16\n",
      "[LightGBM] [Debug] Trained a tree with leaves = 100 and depth = 17\n",
      "[LightGBM] [Debug] Trained a tree with leaves = 100 and depth = 18\n",
      "[LightGBM] [Debug] Trained a tree with leaves = 100 and depth = 14\n",
      "[LightGBM] [Debug] Trained a tree with leaves = 100 and depth = 18\n",
      "[LightGBM] [Debug] Trained a tree with leaves = 100 and depth = 16\n",
      "[LightGBM] [Debug] Trained a tree with leaves = 100 and depth = 18\n",
      "[LightGBM] [Debug] Trained a tree with leaves = 100 and depth = 23\n",
      "[LightGBM] [Debug] Trained a tree with leaves = 100 and depth = 17\n",
      "[LightGBM] [Debug] Trained a tree with leaves = 100 and depth = 18\n",
      "[LightGBM] [Debug] Trained a tree with leaves = 100 and depth = 19\n",
      "[LightGBM] [Debug] Trained a tree with leaves = 100 and depth = 12\n",
      "[LightGBM] [Debug] Trained a tree with leaves = 100 and depth = 17\n",
      "[LightGBM] [Debug] Trained a tree with leaves = 100 and depth = 18\n",
      "[LightGBM] [Debug] Trained a tree with leaves = 100 and depth = 17\n",
      "[LightGBM] [Debug] Trained a tree with leaves = 100 and depth = 16\n",
      "[LightGBM] [Debug] Trained a tree with leaves = 100 and depth = 17\n",
      "[LightGBM] [Debug] Trained a tree with leaves = 100 and depth = 19\n",
      "[LightGBM] [Debug] Trained a tree with leaves = 100 and depth = 19\n",
      "[LightGBM] [Debug] Trained a tree with leaves = 100 and depth = 14\n",
      "[LightGBM] [Debug] Trained a tree with leaves = 100 and depth = 17\n",
      "[LightGBM] [Debug] Trained a tree with leaves = 100 and depth = 21\n",
      "[LightGBM] [Debug] Trained a tree with leaves = 100 and depth = 14\n",
      "[LightGBM] [Debug] Trained a tree with leaves = 100 and depth = 19\n",
      "[LightGBM] [Debug] Trained a tree with leaves = 100 and depth = 21\n",
      "[LightGBM] [Debug] Trained a tree with leaves = 100 and depth = 12\n",
      "[LightGBM] [Debug] Trained a tree with leaves = 100 and depth = 17\n",
      "[LightGBM] [Debug] Trained a tree with leaves = 100 and depth = 14\n",
      "[LightGBM] [Debug] Trained a tree with leaves = 100 and depth = 21\n",
      "[LightGBM] [Debug] Trained a tree with leaves = 100 and depth = 20\n",
      "[LightGBM] [Debug] Trained a tree with leaves = 100 and depth = 16\n",
      "[LightGBM] [Debug] Trained a tree with leaves = 100 and depth = 18\n",
      "[LightGBM] [Debug] Trained a tree with leaves = 100 and depth = 16\n",
      "[LightGBM] [Debug] Trained a tree with leaves = 100 and depth = 18\n",
      "[LightGBM] [Debug] Trained a tree with leaves = 100 and depth = 14\n",
      "[LightGBM] [Debug] Trained a tree with leaves = 100 and depth = 20\n",
      "[LightGBM] [Debug] Trained a tree with leaves = 100 and depth = 15\n",
      "[LightGBM] [Debug] Trained a tree with leaves = 100 and depth = 19\n",
      "[LightGBM] [Debug] Trained a tree with leaves = 100 and depth = 19\n",
      "[LightGBM] [Debug] Trained a tree with leaves = 100 and depth = 18\n",
      "[LightGBM] [Debug] Trained a tree with leaves = 100 and depth = 12\n",
      "[LightGBM] [Debug] Trained a tree with leaves = 100 and depth = 19\n",
      "[LightGBM] [Debug] Trained a tree with leaves = 100 and depth = 17\n",
      "[LightGBM] [Debug] Trained a tree with leaves = 100 and depth = 20\n",
      "[LightGBM] [Debug] Trained a tree with leaves = 100 and depth = 20\n",
      "[LightGBM] [Debug] Trained a tree with leaves = 100 and depth = 18\n",
      "[LightGBM] [Debug] Trained a tree with leaves = 100 and depth = 17\n",
      "[LightGBM] [Debug] Trained a tree with leaves = 100 and depth = 24\n",
      "[LightGBM] [Debug] Trained a tree with leaves = 100 and depth = 17\n",
      "[LightGBM] [Debug] Trained a tree with leaves = 100 and depth = 19\n",
      "[LightGBM] [Debug] Trained a tree with leaves = 100 and depth = 15\n",
      "[LightGBM] [Debug] Trained a tree with leaves = 100 and depth = 22\n",
      "[LightGBM] [Debug] Trained a tree with leaves = 100 and depth = 17\n",
      "[LightGBM] [Debug] Trained a tree with leaves = 100 and depth = 14\n",
      "[LightGBM] [Debug] Trained a tree with leaves = 100 and depth = 14\n",
      "[LightGBM] [Debug] Trained a tree with leaves = 100 and depth = 17\n",
      "[LightGBM] [Debug] Trained a tree with leaves = 100 and depth = 22\n",
      "[LightGBM] [Debug] Trained a tree with leaves = 100 and depth = 15\n",
      "[LightGBM] [Debug] Trained a tree with leaves = 100 and depth = 19\n",
      "[LightGBM] [Debug] Trained a tree with leaves = 100 and depth = 20\n",
      "[LightGBM] [Debug] Dataset::GetMultiBinFromSparseFeatures: sparse rate 0.771863\n",
      "[LightGBM] [Debug] Dataset::GetMultiBinFromAllFeatures: sparse rate 0.227185\n",
      "[LightGBM] [Debug] init for col-wise cost 0.089666 seconds, init for row-wise cost 0.100888 seconds\n",
      "[LightGBM] [Warning] Auto-choosing col-wise multi-threading, the overhead of testing was 0.104911 seconds.\n",
      "You can set `force_col_wise=true` to remove the overhead.\n",
      "[LightGBM] [Info] Total Bins 678\n",
      "[LightGBM] [Info] Number of data points in the train set: 204561, number of used features: 11\n",
      "[LightGBM] [Info] Start training from score 4585.907367\n",
      "[LightGBM] [Debug] Trained a tree with leaves = 200 and depth = 12\n",
      "[LightGBM] [Debug] Trained a tree with leaves = 200 and depth = 12\n",
      "[LightGBM] [Debug] Trained a tree with leaves = 200 and depth = 12\n",
      "[LightGBM] [Debug] Trained a tree with leaves = 200 and depth = 13\n",
      "[LightGBM] [Debug] Trained a tree with leaves = 200 and depth = 12\n",
      "[LightGBM] [Debug] Trained a tree with leaves = 200 and depth = 13\n",
      "[LightGBM] [Debug] Trained a tree with leaves = 200 and depth = 14\n",
      "[LightGBM] [Debug] Trained a tree with leaves = 200 and depth = 15\n",
      "[LightGBM] [Debug] Trained a tree with leaves = 200 and depth = 16\n",
      "[LightGBM] [Debug] Trained a tree with leaves = 200 and depth = 15\n",
      "[LightGBM] [Debug] Trained a tree with leaves = 200 and depth = 17\n",
      "[LightGBM] [Debug] Trained a tree with leaves = 200 and depth = 19\n",
      "[LightGBM] [Debug] Trained a tree with leaves = 200 and depth = 18\n",
      "[LightGBM] [Debug] Trained a tree with leaves = 200 and depth = 19\n",
      "[LightGBM] [Debug] Trained a tree with leaves = 200 and depth = 18\n",
      "[LightGBM] [Debug] Trained a tree with leaves = 200 and depth = 20\n",
      "[LightGBM] [Debug] Trained a tree with leaves = 200 and depth = 24\n",
      "[LightGBM] [Debug] Trained a tree with leaves = 200 and depth = 23\n",
      "[LightGBM] [Debug] Trained a tree with leaves = 200 and depth = 20\n",
      "[LightGBM] [Debug] Trained a tree with leaves = 200 and depth = 24\n",
      "[LightGBM] [Debug] Trained a tree with leaves = 200 and depth = 17\n",
      "[LightGBM] [Debug] Trained a tree with leaves = 200 and depth = 18\n",
      "[LightGBM] [Debug] Trained a tree with leaves = 200 and depth = 19\n",
      "[LightGBM] [Debug] Trained a tree with leaves = 200 and depth = 22\n",
      "[LightGBM] [Debug] Trained a tree with leaves = 200 and depth = 19\n",
      "[LightGBM] [Debug] Trained a tree with leaves = 200 and depth = 21\n",
      "[LightGBM] [Debug] Trained a tree with leaves = 200 and depth = 20\n",
      "[LightGBM] [Debug] Trained a tree with leaves = 200 and depth = 19\n",
      "[LightGBM] [Debug] Trained a tree with leaves = 200 and depth = 24\n",
      "[LightGBM] [Debug] Trained a tree with leaves = 200 and depth = 21\n",
      "[LightGBM] [Debug] Trained a tree with leaves = 200 and depth = 18\n",
      "[LightGBM] [Debug] Trained a tree with leaves = 200 and depth = 20\n",
      "[LightGBM] [Debug] Trained a tree with leaves = 200 and depth = 21\n",
      "[LightGBM] [Debug] Trained a tree with leaves = 200 and depth = 28\n",
      "[LightGBM] [Debug] Trained a tree with leaves = 200 and depth = 20\n",
      "[LightGBM] [Debug] Trained a tree with leaves = 200 and depth = 24\n",
      "[LightGBM] [Debug] Trained a tree with leaves = 200 and depth = 19\n",
      "[LightGBM] [Debug] Trained a tree with leaves = 200 and depth = 21\n",
      "[LightGBM] [Debug] Trained a tree with leaves = 200 and depth = 22\n",
      "[LightGBM] [Debug] Trained a tree with leaves = 200 and depth = 17\n",
      "[LightGBM] [Debug] Trained a tree with leaves = 200 and depth = 25\n",
      "[LightGBM] [Debug] Trained a tree with leaves = 200 and depth = 23\n",
      "[LightGBM] [Debug] Trained a tree with leaves = 200 and depth = 21\n",
      "[LightGBM] [Debug] Trained a tree with leaves = 200 and depth = 27\n",
      "[LightGBM] [Debug] Trained a tree with leaves = 200 and depth = 15\n",
      "[LightGBM] [Debug] Trained a tree with leaves = 200 and depth = 19\n",
      "[LightGBM] [Debug] Trained a tree with leaves = 200 and depth = 21\n",
      "[LightGBM] [Debug] Trained a tree with leaves = 200 and depth = 23\n",
      "[LightGBM] [Debug] Trained a tree with leaves = 200 and depth = 19\n",
      "[LightGBM] [Debug] Trained a tree with leaves = 200 and depth = 21\n",
      "[LightGBM] [Debug] Trained a tree with leaves = 200 and depth = 25\n",
      "[LightGBM] [Debug] Trained a tree with leaves = 200 and depth = 27\n",
      "[LightGBM] [Debug] Trained a tree with leaves = 200 and depth = 18\n",
      "[LightGBM] [Debug] Trained a tree with leaves = 200 and depth = 15\n",
      "[LightGBM] [Debug] Trained a tree with leaves = 200 and depth = 24\n",
      "[LightGBM] [Debug] Trained a tree with leaves = 200 and depth = 20\n",
      "[LightGBM] [Debug] Trained a tree with leaves = 200 and depth = 24\n",
      "[LightGBM] [Debug] Trained a tree with leaves = 200 and depth = 21\n",
      "[LightGBM] [Debug] Trained a tree with leaves = 200 and depth = 22\n",
      "[LightGBM] [Debug] Trained a tree with leaves = 200 and depth = 14\n",
      "[LightGBM] [Debug] Trained a tree with leaves = 200 and depth = 18\n",
      "[LightGBM] [Debug] Trained a tree with leaves = 200 and depth = 29\n",
      "[LightGBM] [Debug] Trained a tree with leaves = 200 and depth = 22\n",
      "[LightGBM] [Debug] Trained a tree with leaves = 200 and depth = 24\n",
      "[LightGBM] [Debug] Trained a tree with leaves = 200 and depth = 20\n",
      "[LightGBM] [Debug] Trained a tree with leaves = 200 and depth = 22\n",
      "[LightGBM] [Debug] Trained a tree with leaves = 200 and depth = 20\n",
      "[LightGBM] [Debug] Trained a tree with leaves = 200 and depth = 24\n",
      "[LightGBM] [Debug] Trained a tree with leaves = 200 and depth = 21\n",
      "[LightGBM] [Debug] Trained a tree with leaves = 200 and depth = 19\n",
      "[LightGBM] [Debug] Trained a tree with leaves = 200 and depth = 24\n",
      "[LightGBM] [Debug] Trained a tree with leaves = 200 and depth = 16\n",
      "[LightGBM] [Debug] Trained a tree with leaves = 200 and depth = 23\n",
      "[LightGBM] [Debug] Trained a tree with leaves = 200 and depth = 19\n",
      "[LightGBM] [Debug] Trained a tree with leaves = 200 and depth = 20\n",
      "[LightGBM] [Debug] Trained a tree with leaves = 200 and depth = 25\n",
      "[LightGBM] [Debug] Trained a tree with leaves = 200 and depth = 16\n",
      "[LightGBM] [Debug] Trained a tree with leaves = 200 and depth = 18\n",
      "[LightGBM] [Debug] Trained a tree with leaves = 200 and depth = 23\n",
      "[LightGBM] [Debug] Trained a tree with leaves = 200 and depth = 27\n",
      "[LightGBM] [Debug] Trained a tree with leaves = 200 and depth = 19\n",
      "[LightGBM] [Debug] Trained a tree with leaves = 200 and depth = 25\n",
      "[LightGBM] [Debug] Trained a tree with leaves = 200 and depth = 26\n",
      "[LightGBM] [Debug] Trained a tree with leaves = 200 and depth = 22\n",
      "[LightGBM] [Debug] Trained a tree with leaves = 200 and depth = 28\n",
      "[LightGBM] [Debug] Trained a tree with leaves = 200 and depth = 19\n",
      "[LightGBM] [Debug] Trained a tree with leaves = 200 and depth = 19\n",
      "[LightGBM] [Debug] Trained a tree with leaves = 200 and depth = 27\n",
      "[LightGBM] [Debug] Trained a tree with leaves = 200 and depth = 20\n",
      "[LightGBM] [Debug] Trained a tree with leaves = 200 and depth = 25\n",
      "[LightGBM] [Debug] Trained a tree with leaves = 200 and depth = 17\n",
      "[LightGBM] [Debug] Trained a tree with leaves = 200 and depth = 17\n",
      "[LightGBM] [Debug] Trained a tree with leaves = 200 and depth = 19\n",
      "[LightGBM] [Debug] Trained a tree with leaves = 200 and depth = 18\n",
      "[LightGBM] [Debug] Trained a tree with leaves = 200 and depth = 18\n",
      "[LightGBM] [Debug] Trained a tree with leaves = 200 and depth = 19\n",
      "[LightGBM] [Debug] Trained a tree with leaves = 200 and depth = 20\n",
      "[LightGBM] [Debug] Trained a tree with leaves = 200 and depth = 18\n",
      "[LightGBM] [Debug] Trained a tree with leaves = 200 and depth = 22\n",
      "[LightGBM] [Debug] Trained a tree with leaves = 200 and depth = 24\n",
      "[LightGBM] [Debug] Dataset::GetMultiBinFromSparseFeatures: sparse rate 0.772358\n",
      "[LightGBM] [Debug] Dataset::GetMultiBinFromAllFeatures: sparse rate 0.227301\n",
      "[LightGBM] [Debug] init for col-wise cost 0.093339 seconds, init for row-wise cost 0.010717 seconds\n",
      "[LightGBM] [Warning] Auto-choosing row-wise multi-threading, the overhead of testing was 0.096760 seconds.\n",
      "You can set `force_row_wise=true` to remove the overhead.\n",
      "And if memory is not enough, you can set `force_col_wise=true`.\n",
      "[LightGBM] [Debug] Using Dense Multi-Val Bin\n",
      "[LightGBM] [Info] Total Bins 680\n",
      "[LightGBM] [Info] Number of data points in the train set: 204561, number of used features: 11\n",
      "[LightGBM] [Info] Start training from score 4592.320291\n",
      "[LightGBM] [Debug] Trained a tree with leaves = 200 and depth = 11\n",
      "[LightGBM] [Debug] Trained a tree with leaves = 200 and depth = 11\n",
      "[LightGBM] [Debug] Trained a tree with leaves = 200 and depth = 14\n",
      "[LightGBM] [Debug] Trained a tree with leaves = 200 and depth = 13\n",
      "[LightGBM] [Debug] Trained a tree with leaves = 200 and depth = 13\n",
      "[LightGBM] [Debug] Trained a tree with leaves = 200 and depth = 13\n",
      "[LightGBM] [Debug] Trained a tree with leaves = 200 and depth = 19\n",
      "[LightGBM] [Debug] Trained a tree with leaves = 200 and depth = 17\n",
      "[LightGBM] [Debug] Trained a tree with leaves = 200 and depth = 16\n",
      "[LightGBM] [Debug] Trained a tree with leaves = 200 and depth = 13\n",
      "[LightGBM] [Debug] Trained a tree with leaves = 200 and depth = 17\n",
      "[LightGBM] [Debug] Trained a tree with leaves = 200 and depth = 20\n",
      "[LightGBM] [Debug] Trained a tree with leaves = 200 and depth = 18\n",
      "[LightGBM] [Debug] Trained a tree with leaves = 200 and depth = 19\n",
      "[LightGBM] [Debug] Trained a tree with leaves = 200 and depth = 17\n",
      "[LightGBM] [Debug] Trained a tree with leaves = 200 and depth = 22\n",
      "[LightGBM] [Debug] Trained a tree with leaves = 200 and depth = 24\n",
      "[LightGBM] [Debug] Trained a tree with leaves = 200 and depth = 17\n",
      "[LightGBM] [Debug] Trained a tree with leaves = 200 and depth = 23\n",
      "[LightGBM] [Debug] Trained a tree with leaves = 200 and depth = 21\n",
      "[LightGBM] [Debug] Trained a tree with leaves = 200 and depth = 19\n",
      "[LightGBM] [Debug] Trained a tree with leaves = 200 and depth = 22\n",
      "[LightGBM] [Debug] Trained a tree with leaves = 200 and depth = 20\n",
      "[LightGBM] [Debug] Trained a tree with leaves = 200 and depth = 21\n",
      "[LightGBM] [Debug] Trained a tree with leaves = 200 and depth = 23\n",
      "[LightGBM] [Debug] Trained a tree with leaves = 200 and depth = 25\n",
      "[LightGBM] [Debug] Trained a tree with leaves = 200 and depth = 17\n",
      "[LightGBM] [Debug] Trained a tree with leaves = 200 and depth = 18\n",
      "[LightGBM] [Debug] Trained a tree with leaves = 200 and depth = 19\n",
      "[LightGBM] [Debug] Trained a tree with leaves = 200 and depth = 17\n",
      "[LightGBM] [Debug] Trained a tree with leaves = 200 and depth = 20\n",
      "[LightGBM] [Debug] Trained a tree with leaves = 200 and depth = 16\n",
      "[LightGBM] [Debug] Trained a tree with leaves = 200 and depth = 23\n",
      "[LightGBM] [Debug] Trained a tree with leaves = 200 and depth = 27\n",
      "[LightGBM] [Debug] Trained a tree with leaves = 200 and depth = 28\n",
      "[LightGBM] [Debug] Trained a tree with leaves = 200 and depth = 19\n",
      "[LightGBM] [Debug] Trained a tree with leaves = 200 and depth = 25\n",
      "[LightGBM] [Debug] Trained a tree with leaves = 200 and depth = 19\n",
      "[LightGBM] [Debug] Trained a tree with leaves = 200 and depth = 19\n",
      "[LightGBM] [Debug] Trained a tree with leaves = 200 and depth = 22\n",
      "[LightGBM] [Debug] Trained a tree with leaves = 200 and depth = 23\n",
      "[LightGBM] [Debug] Trained a tree with leaves = 200 and depth = 23\n",
      "[LightGBM] [Debug] Trained a tree with leaves = 200 and depth = 18\n",
      "[LightGBM] [Debug] Trained a tree with leaves = 200 and depth = 21\n",
      "[LightGBM] [Debug] Trained a tree with leaves = 200 and depth = 21\n",
      "[LightGBM] [Debug] Trained a tree with leaves = 200 and depth = 28\n",
      "[LightGBM] [Debug] Trained a tree with leaves = 200 and depth = 27\n",
      "[LightGBM] [Debug] Trained a tree with leaves = 200 and depth = 18\n",
      "[LightGBM] [Debug] Trained a tree with leaves = 200 and depth = 20\n",
      "[LightGBM] [Debug] Trained a tree with leaves = 200 and depth = 20\n",
      "[LightGBM] [Debug] Trained a tree with leaves = 200 and depth = 22\n",
      "[LightGBM] [Debug] Trained a tree with leaves = 200 and depth = 21\n",
      "[LightGBM] [Debug] Trained a tree with leaves = 200 and depth = 18\n",
      "[LightGBM] [Debug] Trained a tree with leaves = 200 and depth = 20\n",
      "[LightGBM] [Debug] Trained a tree with leaves = 200 and depth = 21\n",
      "[LightGBM] [Debug] Trained a tree with leaves = 200 and depth = 22\n",
      "[LightGBM] [Debug] Trained a tree with leaves = 200 and depth = 23\n",
      "[LightGBM] [Debug] Trained a tree with leaves = 200 and depth = 19\n",
      "[LightGBM] [Debug] Trained a tree with leaves = 200 and depth = 22\n",
      "[LightGBM] [Debug] Trained a tree with leaves = 200 and depth = 20\n",
      "[LightGBM] [Debug] Trained a tree with leaves = 200 and depth = 21\n",
      "[LightGBM] [Debug] Trained a tree with leaves = 200 and depth = 24\n",
      "[LightGBM] [Debug] Trained a tree with leaves = 200 and depth = 23\n",
      "[LightGBM] [Debug] Trained a tree with leaves = 200 and depth = 20\n",
      "[LightGBM] [Debug] Trained a tree with leaves = 200 and depth = 23\n",
      "[LightGBM] [Debug] Trained a tree with leaves = 200 and depth = 20\n",
      "[LightGBM] [Debug] Trained a tree with leaves = 200 and depth = 22\n",
      "[LightGBM] [Debug] Trained a tree with leaves = 200 and depth = 22\n",
      "[LightGBM] [Debug] Trained a tree with leaves = 200 and depth = 17\n",
      "[LightGBM] [Debug] Trained a tree with leaves = 200 and depth = 18\n",
      "[LightGBM] [Debug] Trained a tree with leaves = 200 and depth = 17\n",
      "[LightGBM] [Debug] Trained a tree with leaves = 200 and depth = 22\n",
      "[LightGBM] [Debug] Trained a tree with leaves = 200 and depth = 26\n",
      "[LightGBM] [Debug] Trained a tree with leaves = 200 and depth = 28\n",
      "[LightGBM] [Debug] Trained a tree with leaves = 200 and depth = 20\n",
      "[LightGBM] [Debug] Trained a tree with leaves = 200 and depth = 22\n",
      "[LightGBM] [Debug] Trained a tree with leaves = 200 and depth = 28\n",
      "[LightGBM] [Debug] Trained a tree with leaves = 200 and depth = 16\n",
      "[LightGBM] [Debug] Trained a tree with leaves = 200 and depth = 23\n",
      "[LightGBM] [Debug] Trained a tree with leaves = 200 and depth = 31\n",
      "[LightGBM] [Debug] Trained a tree with leaves = 200 and depth = 21\n",
      "[LightGBM] [Debug] Trained a tree with leaves = 200 and depth = 24\n",
      "[LightGBM] [Debug] Trained a tree with leaves = 200 and depth = 21\n",
      "[LightGBM] [Debug] Trained a tree with leaves = 200 and depth = 21\n",
      "[LightGBM] [Debug] Trained a tree with leaves = 200 and depth = 20\n",
      "[LightGBM] [Debug] Trained a tree with leaves = 200 and depth = 23\n",
      "[LightGBM] [Debug] Trained a tree with leaves = 200 and depth = 25\n",
      "[LightGBM] [Debug] Trained a tree with leaves = 200 and depth = 20\n",
      "[LightGBM] [Debug] Trained a tree with leaves = 200 and depth = 25\n",
      "[LightGBM] [Debug] Trained a tree with leaves = 200 and depth = 30\n",
      "[LightGBM] [Debug] Trained a tree with leaves = 200 and depth = 20\n",
      "[LightGBM] [Debug] Trained a tree with leaves = 200 and depth = 23\n",
      "[LightGBM] [Debug] Trained a tree with leaves = 200 and depth = 18\n",
      "[LightGBM] [Debug] Trained a tree with leaves = 200 and depth = 21\n",
      "[LightGBM] [Debug] Trained a tree with leaves = 200 and depth = 25\n",
      "[LightGBM] [Debug] Trained a tree with leaves = 200 and depth = 19\n",
      "[LightGBM] [Debug] Trained a tree with leaves = 200 and depth = 25\n",
      "[LightGBM] [Debug] Trained a tree with leaves = 200 and depth = 21\n",
      "[LightGBM] [Debug] Trained a tree with leaves = 200 and depth = 23\n",
      "[LightGBM] [Debug] Trained a tree with leaves = 200 and depth = 22\n",
      "[LightGBM] [Debug] Dataset::GetMultiBinFromSparseFeatures: sparse rate 0.772437\n",
      "[LightGBM] [Debug] Dataset::GetMultiBinFromAllFeatures: sparse rate 0.227390\n",
      "[LightGBM] [Debug] init for col-wise cost 0.005271 seconds, init for row-wise cost 0.096079 seconds\n",
      "[LightGBM] [Warning] Auto-choosing row-wise multi-threading, the overhead of testing was 0.008756 seconds.\n",
      "You can set `force_row_wise=true` to remove the overhead.\n",
      "And if memory is not enough, you can set `force_col_wise=true`.\n",
      "[LightGBM] [Debug] Using Dense Multi-Val Bin\n",
      "[LightGBM] [Info] Total Bins 680\n",
      "[LightGBM] [Info] Number of data points in the train set: 204562, number of used features: 11\n",
      "[LightGBM] [Info] Start training from score 4587.936640\n",
      "[LightGBM] [Debug] Trained a tree with leaves = 200 and depth = 12\n",
      "[LightGBM] [Debug] Trained a tree with leaves = 200 and depth = 12\n",
      "[LightGBM] [Debug] Trained a tree with leaves = 200 and depth = 13\n",
      "[LightGBM] [Debug] Trained a tree with leaves = 200 and depth = 13\n",
      "[LightGBM] [Debug] Trained a tree with leaves = 200 and depth = 14\n",
      "[LightGBM] [Debug] Trained a tree with leaves = 200 and depth = 13\n",
      "[LightGBM] [Debug] Trained a tree with leaves = 200 and depth = 15\n",
      "[LightGBM] [Debug] Trained a tree with leaves = 200 and depth = 17\n",
      "[LightGBM] [Debug] Trained a tree with leaves = 200 and depth = 16\n",
      "[LightGBM] [Debug] Trained a tree with leaves = 200 and depth = 15\n",
      "[LightGBM] [Debug] Trained a tree with leaves = 200 and depth = 17\n",
      "[LightGBM] [Debug] Trained a tree with leaves = 200 and depth = 18\n",
      "[LightGBM] [Debug] Trained a tree with leaves = 200 and depth = 18\n",
      "[LightGBM] [Debug] Trained a tree with leaves = 200 and depth = 20\n",
      "[LightGBM] [Debug] Trained a tree with leaves = 200 and depth = 23\n",
      "[LightGBM] [Debug] Trained a tree with leaves = 200 and depth = 17\n",
      "[LightGBM] [Debug] Trained a tree with leaves = 200 and depth = 21\n",
      "[LightGBM] [Debug] Trained a tree with leaves = 200 and depth = 22\n",
      "[LightGBM] [Debug] Trained a tree with leaves = 200 and depth = 21\n",
      "[LightGBM] [Debug] Trained a tree with leaves = 200 and depth = 20\n",
      "[LightGBM] [Debug] Trained a tree with leaves = 200 and depth = 22\n",
      "[LightGBM] [Debug] Trained a tree with leaves = 200 and depth = 28\n",
      "[LightGBM] [Debug] Trained a tree with leaves = 200 and depth = 22\n",
      "[LightGBM] [Debug] Trained a tree with leaves = 200 and depth = 24\n",
      "[LightGBM] [Debug] Trained a tree with leaves = 200 and depth = 24\n",
      "[LightGBM] [Debug] Trained a tree with leaves = 200 and depth = 22\n",
      "[LightGBM] [Debug] Trained a tree with leaves = 200 and depth = 20\n",
      "[LightGBM] [Debug] Trained a tree with leaves = 200 and depth = 21\n",
      "[LightGBM] [Debug] Trained a tree with leaves = 200 and depth = 20\n",
      "[LightGBM] [Debug] Trained a tree with leaves = 200 and depth = 22\n",
      "[LightGBM] [Debug] Trained a tree with leaves = 200 and depth = 17\n",
      "[LightGBM] [Debug] Trained a tree with leaves = 200 and depth = 21\n",
      "[LightGBM] [Debug] Trained a tree with leaves = 200 and depth = 17\n",
      "[LightGBM] [Debug] Trained a tree with leaves = 200 and depth = 21\n",
      "[LightGBM] [Debug] Trained a tree with leaves = 200 and depth = 19\n",
      "[LightGBM] [Debug] Trained a tree with leaves = 200 and depth = 16\n",
      "[LightGBM] [Debug] Trained a tree with leaves = 200 and depth = 21\n",
      "[LightGBM] [Debug] Trained a tree with leaves = 200 and depth = 19\n",
      "[LightGBM] [Debug] Trained a tree with leaves = 200 and depth = 20\n",
      "[LightGBM] [Debug] Trained a tree with leaves = 200 and depth = 20\n",
      "[LightGBM] [Debug] Trained a tree with leaves = 200 and depth = 23\n",
      "[LightGBM] [Debug] Trained a tree with leaves = 200 and depth = 25\n",
      "[LightGBM] [Debug] Trained a tree with leaves = 200 and depth = 24\n",
      "[LightGBM] [Debug] Trained a tree with leaves = 200 and depth = 21\n",
      "[LightGBM] [Debug] Trained a tree with leaves = 200 and depth = 20\n",
      "[LightGBM] [Debug] Trained a tree with leaves = 200 and depth = 23\n",
      "[LightGBM] [Debug] Trained a tree with leaves = 200 and depth = 25\n",
      "[LightGBM] [Debug] Trained a tree with leaves = 200 and depth = 19\n",
      "[LightGBM] [Debug] Trained a tree with leaves = 200 and depth = 32\n",
      "[LightGBM] [Debug] Trained a tree with leaves = 200 and depth = 22\n",
      "[LightGBM] [Debug] Trained a tree with leaves = 200 and depth = 27\n",
      "[LightGBM] [Debug] Trained a tree with leaves = 200 and depth = 23\n",
      "[LightGBM] [Debug] Trained a tree with leaves = 200 and depth = 19\n",
      "[LightGBM] [Debug] Trained a tree with leaves = 200 and depth = 22\n",
      "[LightGBM] [Debug] Trained a tree with leaves = 200 and depth = 22\n",
      "[LightGBM] [Debug] Trained a tree with leaves = 200 and depth = 20\n",
      "[LightGBM] [Debug] Trained a tree with leaves = 200 and depth = 23\n",
      "[LightGBM] [Debug] Trained a tree with leaves = 200 and depth = 25\n",
      "[LightGBM] [Debug] Trained a tree with leaves = 200 and depth = 18\n",
      "[LightGBM] [Debug] Trained a tree with leaves = 200 and depth = 17\n",
      "[LightGBM] [Debug] Trained a tree with leaves = 200 and depth = 22\n",
      "[LightGBM] [Debug] Trained a tree with leaves = 200 and depth = 25\n",
      "[LightGBM] [Debug] Trained a tree with leaves = 200 and depth = 21\n",
      "[LightGBM] [Debug] Trained a tree with leaves = 200 and depth = 21\n",
      "[LightGBM] [Debug] Trained a tree with leaves = 200 and depth = 19\n",
      "[LightGBM] [Debug] Trained a tree with leaves = 200 and depth = 20\n",
      "[LightGBM] [Debug] Trained a tree with leaves = 200 and depth = 19\n",
      "[LightGBM] [Debug] Trained a tree with leaves = 200 and depth = 23\n",
      "[LightGBM] [Debug] Trained a tree with leaves = 200 and depth = 25\n",
      "[LightGBM] [Debug] Trained a tree with leaves = 200 and depth = 22\n",
      "[LightGBM] [Debug] Trained a tree with leaves = 200 and depth = 27\n",
      "[LightGBM] [Debug] Trained a tree with leaves = 200 and depth = 30\n",
      "[LightGBM] [Debug] Trained a tree with leaves = 200 and depth = 28\n",
      "[LightGBM] [Debug] Trained a tree with leaves = 200 and depth = 28\n",
      "[LightGBM] [Debug] Trained a tree with leaves = 200 and depth = 22\n",
      "[LightGBM] [Debug] Trained a tree with leaves = 200 and depth = 23\n",
      "[LightGBM] [Debug] Trained a tree with leaves = 200 and depth = 23\n",
      "[LightGBM] [Debug] Trained a tree with leaves = 200 and depth = 24\n",
      "[LightGBM] [Debug] Trained a tree with leaves = 200 and depth = 24\n",
      "[LightGBM] [Debug] Trained a tree with leaves = 200 and depth = 24\n",
      "[LightGBM] [Debug] Trained a tree with leaves = 200 and depth = 20\n",
      "[LightGBM] [Debug] Trained a tree with leaves = 200 and depth = 19\n",
      "[LightGBM] [Debug] Trained a tree with leaves = 200 and depth = 19\n",
      "[LightGBM] [Debug] Trained a tree with leaves = 200 and depth = 19\n",
      "[LightGBM] [Debug] Trained a tree with leaves = 200 and depth = 19\n",
      "[LightGBM] [Debug] Trained a tree with leaves = 200 and depth = 19\n",
      "[LightGBM] [Debug] Trained a tree with leaves = 200 and depth = 19\n",
      "[LightGBM] [Debug] Trained a tree with leaves = 200 and depth = 32\n",
      "[LightGBM] [Debug] Trained a tree with leaves = 200 and depth = 22\n",
      "[LightGBM] [Debug] Trained a tree with leaves = 200 and depth = 24\n",
      "[LightGBM] [Debug] Trained a tree with leaves = 200 and depth = 18\n",
      "[LightGBM] [Debug] Trained a tree with leaves = 200 and depth = 19\n",
      "[LightGBM] [Debug] Trained a tree with leaves = 200 and depth = 20\n",
      "[LightGBM] [Debug] Trained a tree with leaves = 200 and depth = 23\n",
      "[LightGBM] [Debug] Trained a tree with leaves = 200 and depth = 23\n",
      "[LightGBM] [Debug] Trained a tree with leaves = 200 and depth = 24\n",
      "[LightGBM] [Debug] Trained a tree with leaves = 200 and depth = 20\n",
      "[LightGBM] [Debug] Trained a tree with leaves = 200 and depth = 22\n",
      "[LightGBM] [Debug] Trained a tree with leaves = 200 and depth = 26\n",
      "[LightGBM] [Debug] Trained a tree with leaves = 200 and depth = 21\n",
      "[LightGBM] [Debug] Dataset::GetMultiBinFromSparseFeatures: sparse rate 0.772172\n",
      "[LightGBM] [Debug] Dataset::GetMultiBinFromAllFeatures: sparse rate 0.227356\n",
      "[LightGBM] [Debug] init for col-wise cost 0.088187 seconds, init for row-wise cost 0.008884 seconds\n",
      "[LightGBM] [Warning] Auto-choosing row-wise multi-threading, the overhead of testing was 0.180456 seconds.\n",
      "You can set `force_row_wise=true` to remove the overhead.\n",
      "And if memory is not enough, you can set `force_col_wise=true`.\n",
      "[LightGBM] [Debug] Using Dense Multi-Val Bin\n",
      "[LightGBM] [Info] Total Bins 680\n",
      "[LightGBM] [Info] Number of data points in the train set: 204562, number of used features: 11\n",
      "[LightGBM] [Info] Start training from score 4586.147848\n",
      "[LightGBM] [Debug] Trained a tree with leaves = 200 and depth = 11\n",
      "[LightGBM] [Debug] Trained a tree with leaves = 200 and depth = 12\n",
      "[LightGBM] [Debug] Trained a tree with leaves = 200 and depth = 12\n",
      "[LightGBM] [Debug] Trained a tree with leaves = 200 and depth = 12\n",
      "[LightGBM] [Debug] Trained a tree with leaves = 200 and depth = 16\n",
      "[LightGBM] [Debug] Trained a tree with leaves = 200 and depth = 14\n",
      "[LightGBM] [Debug] Trained a tree with leaves = 200 and depth = 15\n",
      "[LightGBM] [Debug] Trained a tree with leaves = 200 and depth = 16\n",
      "[LightGBM] [Debug] Trained a tree with leaves = 200 and depth = 16\n",
      "[LightGBM] [Debug] Trained a tree with leaves = 200 and depth = 18\n",
      "[LightGBM] [Debug] Trained a tree with leaves = 200 and depth = 17\n",
      "[LightGBM] [Debug] Trained a tree with leaves = 200 and depth = 17\n",
      "[LightGBM] [Debug] Trained a tree with leaves = 200 and depth = 16\n",
      "[LightGBM] [Debug] Trained a tree with leaves = 200 and depth = 18\n",
      "[LightGBM] [Debug] Trained a tree with leaves = 200 and depth = 20\n",
      "[LightGBM] [Debug] Trained a tree with leaves = 200 and depth = 20\n",
      "[LightGBM] [Debug] Trained a tree with leaves = 200 and depth = 21\n",
      "[LightGBM] [Debug] Trained a tree with leaves = 200 and depth = 23\n",
      "[LightGBM] [Debug] Trained a tree with leaves = 200 and depth = 29\n",
      "[LightGBM] [Debug] Trained a tree with leaves = 200 and depth = 20\n",
      "[LightGBM] [Debug] Trained a tree with leaves = 200 and depth = 22\n",
      "[LightGBM] [Debug] Trained a tree with leaves = 200 and depth = 24\n",
      "[LightGBM] [Debug] Trained a tree with leaves = 200 and depth = 26\n",
      "[LightGBM] [Debug] Trained a tree with leaves = 200 and depth = 21\n",
      "[LightGBM] [Debug] Trained a tree with leaves = 200 and depth = 20\n",
      "[LightGBM] [Debug] Trained a tree with leaves = 200 and depth = 27\n",
      "[LightGBM] [Debug] Trained a tree with leaves = 200 and depth = 17\n",
      "[LightGBM] [Debug] Trained a tree with leaves = 200 and depth = 19\n",
      "[LightGBM] [Debug] Trained a tree with leaves = 200 and depth = 26\n",
      "[LightGBM] [Debug] Trained a tree with leaves = 200 and depth = 23\n",
      "[LightGBM] [Debug] Trained a tree with leaves = 200 and depth = 22\n",
      "[LightGBM] [Debug] Trained a tree with leaves = 200 and depth = 25\n",
      "[LightGBM] [Debug] Trained a tree with leaves = 200 and depth = 18\n",
      "[LightGBM] [Debug] Trained a tree with leaves = 200 and depth = 16\n",
      "[LightGBM] [Debug] Trained a tree with leaves = 200 and depth = 21\n",
      "[LightGBM] [Debug] Trained a tree with leaves = 200 and depth = 23\n",
      "[LightGBM] [Debug] Trained a tree with leaves = 200 and depth = 21\n",
      "[LightGBM] [Debug] Trained a tree with leaves = 200 and depth = 24\n",
      "[LightGBM] [Debug] Trained a tree with leaves = 200 and depth = 23\n",
      "[LightGBM] [Debug] Trained a tree with leaves = 200 and depth = 19\n",
      "[LightGBM] [Debug] Trained a tree with leaves = 200 and depth = 23\n",
      "[LightGBM] [Debug] Trained a tree with leaves = 200 and depth = 21\n",
      "[LightGBM] [Debug] Trained a tree with leaves = 200 and depth = 21\n",
      "[LightGBM] [Debug] Trained a tree with leaves = 200 and depth = 20\n",
      "[LightGBM] [Debug] Trained a tree with leaves = 200 and depth = 22\n",
      "[LightGBM] [Debug] Trained a tree with leaves = 200 and depth = 18\n",
      "[LightGBM] [Debug] Trained a tree with leaves = 200 and depth = 20\n",
      "[LightGBM] [Debug] Trained a tree with leaves = 200 and depth = 18\n",
      "[LightGBM] [Debug] Trained a tree with leaves = 200 and depth = 19\n",
      "[LightGBM] [Debug] Trained a tree with leaves = 200 and depth = 18\n",
      "[LightGBM] [Debug] Trained a tree with leaves = 200 and depth = 21\n",
      "[LightGBM] [Debug] Trained a tree with leaves = 200 and depth = 24\n",
      "[LightGBM] [Debug] Trained a tree with leaves = 200 and depth = 23\n",
      "[LightGBM] [Debug] Trained a tree with leaves = 200 and depth = 20\n",
      "[LightGBM] [Debug] Trained a tree with leaves = 200 and depth = 21\n",
      "[LightGBM] [Debug] Trained a tree with leaves = 200 and depth = 17\n",
      "[LightGBM] [Debug] Trained a tree with leaves = 200 and depth = 21\n",
      "[LightGBM] [Debug] Trained a tree with leaves = 200 and depth = 20\n",
      "[LightGBM] [Debug] Trained a tree with leaves = 200 and depth = 20\n",
      "[LightGBM] [Debug] Trained a tree with leaves = 200 and depth = 21\n",
      "[LightGBM] [Debug] Trained a tree with leaves = 200 and depth = 20\n",
      "[LightGBM] [Debug] Trained a tree with leaves = 200 and depth = 23\n",
      "[LightGBM] [Debug] Trained a tree with leaves = 200 and depth = 21\n",
      "[LightGBM] [Debug] Trained a tree with leaves = 200 and depth = 26\n",
      "[LightGBM] [Debug] Trained a tree with leaves = 200 and depth = 18\n",
      "[LightGBM] [Debug] Trained a tree with leaves = 200 and depth = 20\n",
      "[LightGBM] [Debug] Trained a tree with leaves = 200 and depth = 21\n",
      "[LightGBM] [Debug] Trained a tree with leaves = 200 and depth = 19\n",
      "[LightGBM] [Debug] Trained a tree with leaves = 200 and depth = 21\n",
      "[LightGBM] [Debug] Trained a tree with leaves = 200 and depth = 29\n",
      "[LightGBM] [Debug] Trained a tree with leaves = 200 and depth = 19\n",
      "[LightGBM] [Debug] Trained a tree with leaves = 200 and depth = 18\n",
      "[LightGBM] [Debug] Trained a tree with leaves = 200 and depth = 20\n",
      "[LightGBM] [Debug] Trained a tree with leaves = 200 and depth = 20\n",
      "[LightGBM] [Debug] Trained a tree with leaves = 200 and depth = 20\n",
      "[LightGBM] [Debug] Trained a tree with leaves = 200 and depth = 25\n",
      "[LightGBM] [Debug] Trained a tree with leaves = 200 and depth = 21\n",
      "[LightGBM] [Debug] Trained a tree with leaves = 200 and depth = 20\n",
      "[LightGBM] [Debug] Trained a tree with leaves = 200 and depth = 18\n",
      "[LightGBM] [Debug] Trained a tree with leaves = 200 and depth = 19\n",
      "[LightGBM] [Debug] Trained a tree with leaves = 200 and depth = 22\n",
      "[LightGBM] [Debug] Trained a tree with leaves = 200 and depth = 26\n",
      "[LightGBM] [Debug] Trained a tree with leaves = 200 and depth = 20\n",
      "[LightGBM] [Debug] Trained a tree with leaves = 200 and depth = 22\n",
      "[LightGBM] [Debug] Trained a tree with leaves = 200 and depth = 19\n",
      "[LightGBM] [Debug] Trained a tree with leaves = 200 and depth = 23\n",
      "[LightGBM] [Debug] Trained a tree with leaves = 200 and depth = 21\n",
      "[LightGBM] [Debug] Trained a tree with leaves = 200 and depth = 25\n",
      "[LightGBM] [Debug] Trained a tree with leaves = 200 and depth = 23\n",
      "[LightGBM] [Debug] Trained a tree with leaves = 200 and depth = 21\n",
      "[LightGBM] [Debug] Trained a tree with leaves = 200 and depth = 20\n",
      "[LightGBM] [Debug] Trained a tree with leaves = 200 and depth = 23\n",
      "[LightGBM] [Debug] Trained a tree with leaves = 200 and depth = 16\n",
      "[LightGBM] [Debug] Trained a tree with leaves = 200 and depth = 24\n",
      "[LightGBM] [Debug] Trained a tree with leaves = 200 and depth = 22\n",
      "[LightGBM] [Debug] Trained a tree with leaves = 200 and depth = 20\n",
      "[LightGBM] [Debug] Trained a tree with leaves = 200 and depth = 24\n",
      "[LightGBM] [Debug] Trained a tree with leaves = 200 and depth = 23\n",
      "[LightGBM] [Debug] Trained a tree with leaves = 200 and depth = 14\n",
      "[LightGBM] [Debug] Trained a tree with leaves = 200 and depth = 16\n",
      "[LightGBM] [Debug] Dataset::GetMultiBinFromSparseFeatures: sparse rate 0.772483\n",
      "[LightGBM] [Debug] Dataset::GetMultiBinFromAllFeatures: sparse rate 0.227432\n",
      "[LightGBM] [Debug] init for col-wise cost 0.004577 seconds, init for row-wise cost 0.094350 seconds\n",
      "[LightGBM] [Warning] Auto-choosing row-wise multi-threading, the overhead of testing was 0.008589 seconds.\n",
      "You can set `force_row_wise=true` to remove the overhead.\n",
      "And if memory is not enough, you can set `force_col_wise=true`.\n",
      "[LightGBM] [Debug] Using Dense Multi-Val Bin\n",
      "[LightGBM] [Info] Total Bins 681\n",
      "[LightGBM] [Info] Number of data points in the train set: 204562, number of used features: 11\n",
      "[LightGBM] [Info] Start training from score 4584.857564\n",
      "[LightGBM] [Debug] Trained a tree with leaves = 200 and depth = 11\n",
      "[LightGBM] [Debug] Trained a tree with leaves = 200 and depth = 12\n",
      "[LightGBM] [Debug] Trained a tree with leaves = 200 and depth = 12\n",
      "[LightGBM] [Debug] Trained a tree with leaves = 200 and depth = 15\n",
      "[LightGBM] [Debug] Trained a tree with leaves = 200 and depth = 14\n",
      "[LightGBM] [Debug] Trained a tree with leaves = 200 and depth = 15\n",
      "[LightGBM] [Debug] Trained a tree with leaves = 200 and depth = 16\n",
      "[LightGBM] [Debug] Trained a tree with leaves = 200 and depth = 14\n",
      "[LightGBM] [Debug] Trained a tree with leaves = 200 and depth = 17\n",
      "[LightGBM] [Debug] Trained a tree with leaves = 200 and depth = 14\n",
      "[LightGBM] [Debug] Trained a tree with leaves = 200 and depth = 16\n",
      "[LightGBM] [Debug] Trained a tree with leaves = 200 and depth = 17\n",
      "[LightGBM] [Debug] Trained a tree with leaves = 200 and depth = 18\n",
      "[LightGBM] [Debug] Trained a tree with leaves = 200 and depth = 19\n",
      "[LightGBM] [Debug] Trained a tree with leaves = 200 and depth = 21\n",
      "[LightGBM] [Debug] Trained a tree with leaves = 200 and depth = 22\n",
      "[LightGBM] [Debug] Trained a tree with leaves = 200 and depth = 20\n",
      "[LightGBM] [Debug] Trained a tree with leaves = 200 and depth = 19\n",
      "[LightGBM] [Debug] Trained a tree with leaves = 200 and depth = 18\n",
      "[LightGBM] [Debug] Trained a tree with leaves = 200 and depth = 18\n",
      "[LightGBM] [Debug] Trained a tree with leaves = 200 and depth = 25\n",
      "[LightGBM] [Debug] Trained a tree with leaves = 200 and depth = 21\n",
      "[LightGBM] [Debug] Trained a tree with leaves = 200 and depth = 22\n",
      "[LightGBM] [Debug] Trained a tree with leaves = 200 and depth = 25\n",
      "[LightGBM] [Debug] Trained a tree with leaves = 200 and depth = 23\n",
      "[LightGBM] [Debug] Trained a tree with leaves = 200 and depth = 21\n",
      "[LightGBM] [Debug] Trained a tree with leaves = 200 and depth = 23\n",
      "[LightGBM] [Debug] Trained a tree with leaves = 200 and depth = 28\n",
      "[LightGBM] [Debug] Trained a tree with leaves = 200 and depth = 25\n",
      "[LightGBM] [Debug] Trained a tree with leaves = 200 and depth = 18\n",
      "[LightGBM] [Debug] Trained a tree with leaves = 200 and depth = 26\n",
      "[LightGBM] [Debug] Trained a tree with leaves = 200 and depth = 23\n",
      "[LightGBM] [Debug] Trained a tree with leaves = 200 and depth = 20\n",
      "[LightGBM] [Debug] Trained a tree with leaves = 200 and depth = 21\n",
      "[LightGBM] [Debug] Trained a tree with leaves = 200 and depth = 20\n",
      "[LightGBM] [Debug] Trained a tree with leaves = 200 and depth = 18\n",
      "[LightGBM] [Debug] Trained a tree with leaves = 200 and depth = 19\n",
      "[LightGBM] [Debug] Trained a tree with leaves = 200 and depth = 20\n",
      "[LightGBM] [Debug] Trained a tree with leaves = 200 and depth = 21\n",
      "[LightGBM] [Debug] Trained a tree with leaves = 200 and depth = 19\n",
      "[LightGBM] [Debug] Trained a tree with leaves = 200 and depth = 16\n",
      "[LightGBM] [Debug] Trained a tree with leaves = 200 and depth = 18\n",
      "[LightGBM] [Debug] Trained a tree with leaves = 200 and depth = 21\n",
      "[LightGBM] [Debug] Trained a tree with leaves = 200 and depth = 21\n",
      "[LightGBM] [Debug] Trained a tree with leaves = 200 and depth = 24\n",
      "[LightGBM] [Debug] Trained a tree with leaves = 200 and depth = 20\n",
      "[LightGBM] [Debug] Trained a tree with leaves = 200 and depth = 26\n",
      "[LightGBM] [Debug] Trained a tree with leaves = 200 and depth = 19\n",
      "[LightGBM] [Debug] Trained a tree with leaves = 200 and depth = 19\n",
      "[LightGBM] [Debug] Trained a tree with leaves = 200 and depth = 19\n",
      "[LightGBM] [Debug] Trained a tree with leaves = 200 and depth = 18\n",
      "[LightGBM] [Debug] Trained a tree with leaves = 200 and depth = 23\n",
      "[LightGBM] [Debug] Trained a tree with leaves = 200 and depth = 18\n",
      "[LightGBM] [Debug] Trained a tree with leaves = 200 and depth = 19\n",
      "[LightGBM] [Debug] Trained a tree with leaves = 200 and depth = 18\n",
      "[LightGBM] [Debug] Trained a tree with leaves = 200 and depth = 25\n",
      "[LightGBM] [Debug] Trained a tree with leaves = 200 and depth = 21\n",
      "[LightGBM] [Debug] Trained a tree with leaves = 200 and depth = 18\n",
      "[LightGBM] [Debug] Trained a tree with leaves = 200 and depth = 24\n",
      "[LightGBM] [Debug] Trained a tree with leaves = 200 and depth = 22\n",
      "[LightGBM] [Debug] Trained a tree with leaves = 200 and depth = 21\n",
      "[LightGBM] [Debug] Trained a tree with leaves = 200 and depth = 22\n",
      "[LightGBM] [Debug] Trained a tree with leaves = 200 and depth = 17\n",
      "[LightGBM] [Debug] Trained a tree with leaves = 200 and depth = 19\n",
      "[LightGBM] [Debug] Trained a tree with leaves = 200 and depth = 18\n",
      "[LightGBM] [Debug] Trained a tree with leaves = 200 and depth = 19\n",
      "[LightGBM] [Debug] Trained a tree with leaves = 200 and depth = 23\n",
      "[LightGBM] [Debug] Trained a tree with leaves = 200 and depth = 32\n",
      "[LightGBM] [Debug] Trained a tree with leaves = 200 and depth = 19\n",
      "[LightGBM] [Debug] Trained a tree with leaves = 200 and depth = 24\n",
      "[LightGBM] [Debug] Trained a tree with leaves = 200 and depth = 21\n",
      "[LightGBM] [Debug] Trained a tree with leaves = 200 and depth = 19\n",
      "[LightGBM] [Debug] Trained a tree with leaves = 200 and depth = 22\n",
      "[LightGBM] [Debug] Trained a tree with leaves = 200 and depth = 26\n",
      "[LightGBM] [Debug] Trained a tree with leaves = 200 and depth = 20\n",
      "[LightGBM] [Debug] Trained a tree with leaves = 200 and depth = 28\n",
      "[LightGBM] [Debug] Trained a tree with leaves = 200 and depth = 22\n",
      "[LightGBM] [Debug] Trained a tree with leaves = 200 and depth = 27\n",
      "[LightGBM] [Debug] Trained a tree with leaves = 200 and depth = 22\n",
      "[LightGBM] [Debug] Trained a tree with leaves = 200 and depth = 23\n",
      "[LightGBM] [Debug] Trained a tree with leaves = 200 and depth = 22\n",
      "[LightGBM] [Debug] Trained a tree with leaves = 200 and depth = 18\n",
      "[LightGBM] [Debug] Trained a tree with leaves = 200 and depth = 20\n",
      "[LightGBM] [Debug] Trained a tree with leaves = 200 and depth = 17\n",
      "[LightGBM] [Debug] Trained a tree with leaves = 200 and depth = 23\n",
      "[LightGBM] [Debug] Trained a tree with leaves = 200 and depth = 19\n",
      "[LightGBM] [Debug] Trained a tree with leaves = 200 and depth = 19\n",
      "[LightGBM] [Debug] Trained a tree with leaves = 200 and depth = 21\n",
      "[LightGBM] [Debug] Trained a tree with leaves = 200 and depth = 21\n",
      "[LightGBM] [Debug] Trained a tree with leaves = 200 and depth = 25\n",
      "[LightGBM] [Debug] Trained a tree with leaves = 200 and depth = 20\n",
      "[LightGBM] [Debug] Trained a tree with leaves = 200 and depth = 21\n",
      "[LightGBM] [Debug] Trained a tree with leaves = 200 and depth = 25\n",
      "[LightGBM] [Debug] Trained a tree with leaves = 200 and depth = 22\n",
      "[LightGBM] [Debug] Trained a tree with leaves = 200 and depth = 21\n",
      "[LightGBM] [Debug] Trained a tree with leaves = 200 and depth = 19\n",
      "[LightGBM] [Debug] Trained a tree with leaves = 200 and depth = 21\n",
      "[LightGBM] [Debug] Trained a tree with leaves = 200 and depth = 24\n",
      "[LightGBM] [Debug] Trained a tree with leaves = 200 and depth = 23\n",
      "[LightGBM] [Debug] Trained a tree with leaves = 200 and depth = 22\n",
      "[LightGBM] [Debug] Dataset::GetMultiBinFromSparseFeatures: sparse rate 0.771863\n",
      "[LightGBM] [Debug] Dataset::GetMultiBinFromAllFeatures: sparse rate 0.227185\n",
      "[LightGBM] [Debug] init for col-wise cost 0.004910 seconds, init for row-wise cost 0.094950 seconds\n",
      "[LightGBM] [Warning] Auto-choosing row-wise multi-threading, the overhead of testing was 0.008383 seconds.\n",
      "You can set `force_row_wise=true` to remove the overhead.\n",
      "And if memory is not enough, you can set `force_col_wise=true`.\n",
      "[LightGBM] [Debug] Using Dense Multi-Val Bin\n",
      "[LightGBM] [Info] Total Bins 678\n",
      "[LightGBM] [Info] Number of data points in the train set: 204561, number of used features: 11\n",
      "[LightGBM] [Info] Start training from score 4585.907367\n",
      "[LightGBM] [Debug] Trained a tree with leaves = 100 and depth = 10\n",
      "[LightGBM] [Debug] Trained a tree with leaves = 100 and depth = 10\n",
      "[LightGBM] [Debug] Trained a tree with leaves = 100 and depth = 12\n",
      "[LightGBM] [Debug] Trained a tree with leaves = 100 and depth = 12\n",
      "[LightGBM] [Debug] Trained a tree with leaves = 100 and depth = 13\n",
      "[LightGBM] [Debug] Trained a tree with leaves = 100 and depth = 13\n",
      "[LightGBM] [Debug] Trained a tree with leaves = 100 and depth = 18\n",
      "[LightGBM] [Debug] Trained a tree with leaves = 100 and depth = 14\n",
      "[LightGBM] [Debug] Trained a tree with leaves = 100 and depth = 16\n",
      "[LightGBM] [Debug] Trained a tree with leaves = 100 and depth = 18\n",
      "[LightGBM] [Debug] Trained a tree with leaves = 100 and depth = 18\n",
      "[LightGBM] [Debug] Trained a tree with leaves = 100 and depth = 16\n",
      "[LightGBM] [Debug] Trained a tree with leaves = 100 and depth = 22\n",
      "[LightGBM] [Debug] Trained a tree with leaves = 100 and depth = 19\n",
      "[LightGBM] [Debug] Trained a tree with leaves = 100 and depth = 15\n",
      "[LightGBM] [Debug] Trained a tree with leaves = 100 and depth = 17\n",
      "[LightGBM] [Debug] Trained a tree with leaves = 100 and depth = 16\n",
      "[LightGBM] [Debug] Trained a tree with leaves = 100 and depth = 18\n",
      "[LightGBM] [Debug] Trained a tree with leaves = 100 and depth = 15\n",
      "[LightGBM] [Debug] Trained a tree with leaves = 100 and depth = 15\n",
      "[LightGBM] [Debug] Trained a tree with leaves = 100 and depth = 16\n",
      "[LightGBM] [Debug] Trained a tree with leaves = 100 and depth = 18\n",
      "[LightGBM] [Debug] Trained a tree with leaves = 100 and depth = 13\n",
      "[LightGBM] [Debug] Trained a tree with leaves = 100 and depth = 14\n",
      "[LightGBM] [Debug] Trained a tree with leaves = 100 and depth = 15\n",
      "[LightGBM] [Debug] Trained a tree with leaves = 100 and depth = 17\n",
      "[LightGBM] [Debug] Trained a tree with leaves = 100 and depth = 18\n",
      "[LightGBM] [Debug] Trained a tree with leaves = 100 and depth = 19\n",
      "[LightGBM] [Debug] Trained a tree with leaves = 100 and depth = 16\n",
      "[LightGBM] [Debug] Trained a tree with leaves = 100 and depth = 17\n",
      "[LightGBM] [Debug] Trained a tree with leaves = 100 and depth = 16\n",
      "[LightGBM] [Debug] Trained a tree with leaves = 100 and depth = 20\n",
      "[LightGBM] [Debug] Trained a tree with leaves = 100 and depth = 17\n",
      "[LightGBM] [Debug] Trained a tree with leaves = 100 and depth = 13\n",
      "[LightGBM] [Debug] Trained a tree with leaves = 100 and depth = 19\n",
      "[LightGBM] [Debug] Trained a tree with leaves = 100 and depth = 15\n",
      "[LightGBM] [Debug] Trained a tree with leaves = 100 and depth = 18\n",
      "[LightGBM] [Debug] Trained a tree with leaves = 100 and depth = 15\n",
      "[LightGBM] [Debug] Trained a tree with leaves = 100 and depth = 20\n",
      "[LightGBM] [Debug] Trained a tree with leaves = 100 and depth = 16\n",
      "[LightGBM] [Debug] Trained a tree with leaves = 100 and depth = 17\n",
      "[LightGBM] [Debug] Trained a tree with leaves = 100 and depth = 19\n",
      "[LightGBM] [Debug] Trained a tree with leaves = 100 and depth = 21\n",
      "[LightGBM] [Debug] Trained a tree with leaves = 100 and depth = 15\n",
      "[LightGBM] [Debug] Trained a tree with leaves = 100 and depth = 15\n",
      "[LightGBM] [Debug] Trained a tree with leaves = 100 and depth = 13\n",
      "[LightGBM] [Debug] Trained a tree with leaves = 100 and depth = 21\n",
      "[LightGBM] [Debug] Trained a tree with leaves = 100 and depth = 16\n",
      "[LightGBM] [Debug] Trained a tree with leaves = 100 and depth = 16\n",
      "[LightGBM] [Debug] Trained a tree with leaves = 100 and depth = 14\n",
      "[LightGBM] [Debug] Trained a tree with leaves = 100 and depth = 22\n",
      "[LightGBM] [Debug] Trained a tree with leaves = 100 and depth = 14\n",
      "[LightGBM] [Debug] Trained a tree with leaves = 100 and depth = 13\n",
      "[LightGBM] [Debug] Trained a tree with leaves = 100 and depth = 17\n",
      "[LightGBM] [Debug] Trained a tree with leaves = 100 and depth = 16\n",
      "[LightGBM] [Debug] Trained a tree with leaves = 100 and depth = 15\n",
      "[LightGBM] [Debug] Trained a tree with leaves = 100 and depth = 17\n",
      "[LightGBM] [Debug] Trained a tree with leaves = 100 and depth = 22\n",
      "[LightGBM] [Debug] Trained a tree with leaves = 100 and depth = 18\n",
      "[LightGBM] [Debug] Trained a tree with leaves = 100 and depth = 21\n",
      "[LightGBM] [Debug] Trained a tree with leaves = 100 and depth = 16\n",
      "[LightGBM] [Debug] Trained a tree with leaves = 100 and depth = 17\n",
      "[LightGBM] [Debug] Trained a tree with leaves = 100 and depth = 13\n",
      "[LightGBM] [Debug] Trained a tree with leaves = 100 and depth = 19\n",
      "[LightGBM] [Debug] Trained a tree with leaves = 100 and depth = 24\n",
      "[LightGBM] [Debug] Trained a tree with leaves = 100 and depth = 24\n",
      "[LightGBM] [Debug] Trained a tree with leaves = 100 and depth = 13\n",
      "[LightGBM] [Debug] Trained a tree with leaves = 100 and depth = 18\n",
      "[LightGBM] [Debug] Trained a tree with leaves = 100 and depth = 19\n",
      "[LightGBM] [Debug] Trained a tree with leaves = 100 and depth = 15\n",
      "[LightGBM] [Debug] Trained a tree with leaves = 100 and depth = 17\n",
      "[LightGBM] [Debug] Trained a tree with leaves = 100 and depth = 16\n",
      "[LightGBM] [Debug] Trained a tree with leaves = 100 and depth = 20\n",
      "[LightGBM] [Debug] Trained a tree with leaves = 100 and depth = 14\n",
      "[LightGBM] [Debug] Trained a tree with leaves = 100 and depth = 14\n",
      "[LightGBM] [Debug] Trained a tree with leaves = 100 and depth = 19\n",
      "[LightGBM] [Debug] Trained a tree with leaves = 100 and depth = 17\n",
      "[LightGBM] [Debug] Trained a tree with leaves = 100 and depth = 17\n",
      "[LightGBM] [Debug] Trained a tree with leaves = 100 and depth = 18\n",
      "[LightGBM] [Debug] Trained a tree with leaves = 100 and depth = 21\n",
      "[LightGBM] [Debug] Trained a tree with leaves = 100 and depth = 15\n",
      "[LightGBM] [Debug] Trained a tree with leaves = 100 and depth = 15\n",
      "[LightGBM] [Debug] Trained a tree with leaves = 100 and depth = 14\n",
      "[LightGBM] [Debug] Trained a tree with leaves = 100 and depth = 13\n",
      "[LightGBM] [Debug] Trained a tree with leaves = 100 and depth = 19\n",
      "[LightGBM] [Debug] Trained a tree with leaves = 100 and depth = 20\n",
      "[LightGBM] [Debug] Trained a tree with leaves = 100 and depth = 15\n",
      "[LightGBM] [Debug] Trained a tree with leaves = 100 and depth = 13\n",
      "[LightGBM] [Debug] Trained a tree with leaves = 100 and depth = 18\n",
      "[LightGBM] [Debug] Trained a tree with leaves = 100 and depth = 19\n",
      "[LightGBM] [Debug] Trained a tree with leaves = 100 and depth = 12\n",
      "[LightGBM] [Debug] Trained a tree with leaves = 100 and depth = 21\n",
      "[LightGBM] [Debug] Trained a tree with leaves = 100 and depth = 17\n",
      "[LightGBM] [Debug] Trained a tree with leaves = 100 and depth = 15\n",
      "[LightGBM] [Debug] Trained a tree with leaves = 100 and depth = 17\n",
      "[LightGBM] [Debug] Trained a tree with leaves = 100 and depth = 17\n",
      "[LightGBM] [Debug] Trained a tree with leaves = 100 and depth = 18\n",
      "[LightGBM] [Debug] Trained a tree with leaves = 100 and depth = 15\n",
      "[LightGBM] [Debug] Trained a tree with leaves = 100 and depth = 19\n",
      "[LightGBM] [Debug] Trained a tree with leaves = 100 and depth = 15\n",
      "[LightGBM] [Debug] Dataset::GetMultiBinFromSparseFeatures: sparse rate 0.772358\n",
      "[LightGBM] [Debug] Dataset::GetMultiBinFromAllFeatures: sparse rate 0.227301\n",
      "[LightGBM] [Debug] init for col-wise cost 0.004913 seconds, init for row-wise cost 0.096466 seconds\n",
      "[LightGBM] [Warning] Auto-choosing col-wise multi-threading, the overhead of testing was 0.100115 seconds.\n",
      "You can set `force_col_wise=true` to remove the overhead.\n",
      "[LightGBM] [Info] Total Bins 680\n",
      "[LightGBM] [Info] Number of data points in the train set: 204561, number of used features: 11\n",
      "[LightGBM] [Info] Start training from score 4592.320291\n",
      "[LightGBM] [Debug] Trained a tree with leaves = 100 and depth = 10\n",
      "[LightGBM] [Debug] Trained a tree with leaves = 100 and depth = 10\n",
      "[LightGBM] [Debug] Trained a tree with leaves = 100 and depth = 11\n",
      "[LightGBM] [Debug] Trained a tree with leaves = 100 and depth = 13\n",
      "[LightGBM] [Debug] Trained a tree with leaves = 100 and depth = 11\n",
      "[LightGBM] [Debug] Trained a tree with leaves = 100 and depth = 13\n",
      "[LightGBM] [Debug] Trained a tree with leaves = 100 and depth = 16\n",
      "[LightGBM] [Debug] Trained a tree with leaves = 100 and depth = 17\n",
      "[LightGBM] [Debug] Trained a tree with leaves = 100 and depth = 16\n",
      "[LightGBM] [Debug] Trained a tree with leaves = 100 and depth = 16\n",
      "[LightGBM] [Debug] Trained a tree with leaves = 100 and depth = 15\n",
      "[LightGBM] [Debug] Trained a tree with leaves = 100 and depth = 17\n",
      "[LightGBM] [Debug] Trained a tree with leaves = 100 and depth = 16\n",
      "[LightGBM] [Debug] Trained a tree with leaves = 100 and depth = 13\n",
      "[LightGBM] [Debug] Trained a tree with leaves = 100 and depth = 16\n",
      "[LightGBM] [Debug] Trained a tree with leaves = 100 and depth = 15\n",
      "[LightGBM] [Debug] Trained a tree with leaves = 100 and depth = 14\n",
      "[LightGBM] [Debug] Trained a tree with leaves = 100 and depth = 17\n",
      "[LightGBM] [Debug] Trained a tree with leaves = 100 and depth = 17\n",
      "[LightGBM] [Debug] Trained a tree with leaves = 100 and depth = 15\n",
      "[LightGBM] [Debug] Trained a tree with leaves = 100 and depth = 16\n",
      "[LightGBM] [Debug] Trained a tree with leaves = 100 and depth = 20\n",
      "[LightGBM] [Debug] Trained a tree with leaves = 100 and depth = 19\n",
      "[LightGBM] [Debug] Trained a tree with leaves = 100 and depth = 16\n",
      "[LightGBM] [Debug] Trained a tree with leaves = 100 and depth = 18\n",
      "[LightGBM] [Debug] Trained a tree with leaves = 100 and depth = 18\n",
      "[LightGBM] [Debug] Trained a tree with leaves = 100 and depth = 18\n",
      "[LightGBM] [Debug] Trained a tree with leaves = 100 and depth = 12\n",
      "[LightGBM] [Debug] Trained a tree with leaves = 100 and depth = 17\n",
      "[LightGBM] [Debug] Trained a tree with leaves = 100 and depth = 15\n",
      "[LightGBM] [Debug] Trained a tree with leaves = 100 and depth = 17\n",
      "[LightGBM] [Debug] Trained a tree with leaves = 100 and depth = 17\n",
      "[LightGBM] [Debug] Trained a tree with leaves = 100 and depth = 15\n",
      "[LightGBM] [Debug] Trained a tree with leaves = 100 and depth = 13\n",
      "[LightGBM] [Debug] Trained a tree with leaves = 100 and depth = 15\n",
      "[LightGBM] [Debug] Trained a tree with leaves = 100 and depth = 17\n",
      "[LightGBM] [Debug] Trained a tree with leaves = 100 and depth = 15\n",
      "[LightGBM] [Debug] Trained a tree with leaves = 100 and depth = 17\n",
      "[LightGBM] [Debug] Trained a tree with leaves = 100 and depth = 17\n",
      "[LightGBM] [Debug] Trained a tree with leaves = 100 and depth = 14\n",
      "[LightGBM] [Debug] Trained a tree with leaves = 100 and depth = 17\n",
      "[LightGBM] [Debug] Trained a tree with leaves = 100 and depth = 16\n",
      "[LightGBM] [Debug] Trained a tree with leaves = 100 and depth = 14\n",
      "[LightGBM] [Debug] Trained a tree with leaves = 100 and depth = 19\n",
      "[LightGBM] [Debug] Trained a tree with leaves = 100 and depth = 15\n",
      "[LightGBM] [Debug] Trained a tree with leaves = 100 and depth = 16\n",
      "[LightGBM] [Debug] Trained a tree with leaves = 100 and depth = 14\n",
      "[LightGBM] [Debug] Trained a tree with leaves = 100 and depth = 12\n",
      "[LightGBM] [Debug] Trained a tree with leaves = 100 and depth = 22\n",
      "[LightGBM] [Debug] Trained a tree with leaves = 100 and depth = 25\n",
      "[LightGBM] [Debug] Trained a tree with leaves = 100 and depth = 15\n",
      "[LightGBM] [Debug] Trained a tree with leaves = 100 and depth = 18\n",
      "[LightGBM] [Debug] Trained a tree with leaves = 100 and depth = 14\n",
      "[LightGBM] [Debug] Trained a tree with leaves = 100 and depth = 17\n",
      "[LightGBM] [Debug] Trained a tree with leaves = 100 and depth = 16\n",
      "[LightGBM] [Debug] Trained a tree with leaves = 100 and depth = 17\n",
      "[LightGBM] [Debug] Trained a tree with leaves = 100 and depth = 20\n",
      "[LightGBM] [Debug] Trained a tree with leaves = 100 and depth = 16\n",
      "[LightGBM] [Debug] Trained a tree with leaves = 100 and depth = 15\n",
      "[LightGBM] [Debug] Trained a tree with leaves = 100 and depth = 19\n",
      "[LightGBM] [Debug] Trained a tree with leaves = 100 and depth = 19\n",
      "[LightGBM] [Debug] Trained a tree with leaves = 100 and depth = 21\n",
      "[LightGBM] [Debug] Trained a tree with leaves = 100 and depth = 21\n",
      "[LightGBM] [Debug] Trained a tree with leaves = 100 and depth = 20\n",
      "[LightGBM] [Debug] Trained a tree with leaves = 100 and depth = 14\n",
      "[LightGBM] [Debug] Trained a tree with leaves = 100 and depth = 15\n",
      "[LightGBM] [Debug] Trained a tree with leaves = 100 and depth = 13\n",
      "[LightGBM] [Debug] Trained a tree with leaves = 100 and depth = 19\n",
      "[LightGBM] [Debug] Trained a tree with leaves = 100 and depth = 16\n",
      "[LightGBM] [Debug] Trained a tree with leaves = 100 and depth = 15\n",
      "[LightGBM] [Debug] Trained a tree with leaves = 100 and depth = 20\n",
      "[LightGBM] [Debug] Trained a tree with leaves = 100 and depth = 17\n",
      "[LightGBM] [Debug] Trained a tree with leaves = 100 and depth = 16\n",
      "[LightGBM] [Debug] Trained a tree with leaves = 100 and depth = 18\n",
      "[LightGBM] [Debug] Trained a tree with leaves = 100 and depth = 19\n",
      "[LightGBM] [Debug] Trained a tree with leaves = 100 and depth = 19\n",
      "[LightGBM] [Debug] Trained a tree with leaves = 100 and depth = 16\n",
      "[LightGBM] [Debug] Trained a tree with leaves = 100 and depth = 20\n",
      "[LightGBM] [Debug] Trained a tree with leaves = 100 and depth = 16\n",
      "[LightGBM] [Debug] Trained a tree with leaves = 100 and depth = 23\n",
      "[LightGBM] [Debug] Trained a tree with leaves = 100 and depth = 21\n",
      "[LightGBM] [Debug] Trained a tree with leaves = 100 and depth = 25\n",
      "[LightGBM] [Debug] Trained a tree with leaves = 100 and depth = 19\n",
      "[LightGBM] [Debug] Trained a tree with leaves = 100 and depth = 20\n",
      "[LightGBM] [Debug] Trained a tree with leaves = 100 and depth = 19\n",
      "[LightGBM] [Debug] Trained a tree with leaves = 100 and depth = 20\n",
      "[LightGBM] [Debug] Trained a tree with leaves = 100 and depth = 23\n",
      "[LightGBM] [Debug] Trained a tree with leaves = 100 and depth = 14\n",
      "[LightGBM] [Debug] Trained a tree with leaves = 100 and depth = 12\n",
      "[LightGBM] [Debug] Trained a tree with leaves = 100 and depth = 17\n",
      "[LightGBM] [Debug] Trained a tree with leaves = 100 and depth = 18\n",
      "[LightGBM] [Debug] Trained a tree with leaves = 100 and depth = 17\n",
      "[LightGBM] [Debug] Trained a tree with leaves = 100 and depth = 16\n",
      "[LightGBM] [Debug] Trained a tree with leaves = 100 and depth = 14\n",
      "[LightGBM] [Debug] Trained a tree with leaves = 100 and depth = 16\n",
      "[LightGBM] [Debug] Trained a tree with leaves = 100 and depth = 19\n",
      "[LightGBM] [Debug] Trained a tree with leaves = 100 and depth = 17\n",
      "[LightGBM] [Debug] Trained a tree with leaves = 100 and depth = 23\n",
      "[LightGBM] [Debug] Trained a tree with leaves = 100 and depth = 23\n",
      "[LightGBM] [Debug] Trained a tree with leaves = 100 and depth = 21\n",
      "[LightGBM] [Debug] Dataset::GetMultiBinFromSparseFeatures: sparse rate 0.772437\n",
      "[LightGBM] [Debug] Dataset::GetMultiBinFromAllFeatures: sparse rate 0.227390\n",
      "[LightGBM] [Debug] init for col-wise cost 0.095005 seconds, init for row-wise cost 0.008199 seconds\n",
      "[LightGBM] [Warning] Auto-choosing row-wise multi-threading, the overhead of testing was 0.186732 seconds.\n",
      "You can set `force_row_wise=true` to remove the overhead.\n",
      "And if memory is not enough, you can set `force_col_wise=true`.\n",
      "[LightGBM] [Debug] Using Dense Multi-Val Bin\n",
      "[LightGBM] [Info] Total Bins 680\n",
      "[LightGBM] [Info] Number of data points in the train set: 204562, number of used features: 11\n",
      "[LightGBM] [Info] Start training from score 4587.936640\n",
      "[LightGBM] [Debug] Trained a tree with leaves = 100 and depth = 10\n",
      "[LightGBM] [Debug] Trained a tree with leaves = 100 and depth = 10\n",
      "[LightGBM] [Debug] Trained a tree with leaves = 100 and depth = 12\n",
      "[LightGBM] [Debug] Trained a tree with leaves = 100 and depth = 13\n",
      "[LightGBM] [Debug] Trained a tree with leaves = 100 and depth = 12\n",
      "[LightGBM] [Debug] Trained a tree with leaves = 100 and depth = 14\n",
      "[LightGBM] [Debug] Trained a tree with leaves = 100 and depth = 14\n",
      "[LightGBM] [Debug] Trained a tree with leaves = 100 and depth = 16\n",
      "[LightGBM] [Debug] Trained a tree with leaves = 100 and depth = 14\n",
      "[LightGBM] [Debug] Trained a tree with leaves = 100 and depth = 20\n",
      "[LightGBM] [Debug] Trained a tree with leaves = 100 and depth = 15\n",
      "[LightGBM] [Debug] Trained a tree with leaves = 100 and depth = 19\n",
      "[LightGBM] [Debug] Trained a tree with leaves = 100 and depth = 17\n",
      "[LightGBM] [Debug] Trained a tree with leaves = 100 and depth = 16\n",
      "[LightGBM] [Debug] Trained a tree with leaves = 100 and depth = 20\n",
      "[LightGBM] [Debug] Trained a tree with leaves = 100 and depth = 15\n",
      "[LightGBM] [Debug] Trained a tree with leaves = 100 and depth = 19\n",
      "[LightGBM] [Debug] Trained a tree with leaves = 100 and depth = 17\n",
      "[LightGBM] [Debug] Trained a tree with leaves = 100 and depth = 18\n",
      "[LightGBM] [Debug] Trained a tree with leaves = 100 and depth = 15\n",
      "[LightGBM] [Debug] Trained a tree with leaves = 100 and depth = 16\n",
      "[LightGBM] [Debug] Trained a tree with leaves = 100 and depth = 15\n",
      "[LightGBM] [Debug] Trained a tree with leaves = 100 and depth = 15\n",
      "[LightGBM] [Debug] Trained a tree with leaves = 100 and depth = 14\n",
      "[LightGBM] [Debug] Trained a tree with leaves = 100 and depth = 14\n",
      "[LightGBM] [Debug] Trained a tree with leaves = 100 and depth = 16\n",
      "[LightGBM] [Debug] Trained a tree with leaves = 100 and depth = 16\n",
      "[LightGBM] [Debug] Trained a tree with leaves = 100 and depth = 14\n",
      "[LightGBM] [Debug] Trained a tree with leaves = 100 and depth = 19\n",
      "[LightGBM] [Debug] Trained a tree with leaves = 100 and depth = 15\n",
      "[LightGBM] [Debug] Trained a tree with leaves = 100 and depth = 18\n",
      "[LightGBM] [Debug] Trained a tree with leaves = 100 and depth = 15\n",
      "[LightGBM] [Debug] Trained a tree with leaves = 100 and depth = 20\n",
      "[LightGBM] [Debug] Trained a tree with leaves = 100 and depth = 22\n",
      "[LightGBM] [Debug] Trained a tree with leaves = 100 and depth = 13\n",
      "[LightGBM] [Debug] Trained a tree with leaves = 100 and depth = 19\n",
      "[LightGBM] [Debug] Trained a tree with leaves = 100 and depth = 20\n",
      "[LightGBM] [Debug] Trained a tree with leaves = 100 and depth = 14\n",
      "[LightGBM] [Debug] Trained a tree with leaves = 100 and depth = 16\n",
      "[LightGBM] [Debug] Trained a tree with leaves = 100 and depth = 18\n",
      "[LightGBM] [Debug] Trained a tree with leaves = 100 and depth = 22\n",
      "[LightGBM] [Debug] Trained a tree with leaves = 100 and depth = 14\n",
      "[LightGBM] [Debug] Trained a tree with leaves = 100 and depth = 15\n",
      "[LightGBM] [Debug] Trained a tree with leaves = 100 and depth = 16\n",
      "[LightGBM] [Debug] Trained a tree with leaves = 100 and depth = 20\n",
      "[LightGBM] [Debug] Trained a tree with leaves = 100 and depth = 18\n",
      "[LightGBM] [Debug] Trained a tree with leaves = 100 and depth = 20\n",
      "[LightGBM] [Debug] Trained a tree with leaves = 100 and depth = 18\n",
      "[LightGBM] [Debug] Trained a tree with leaves = 100 and depth = 14\n",
      "[LightGBM] [Debug] Trained a tree with leaves = 100 and depth = 23\n",
      "[LightGBM] [Debug] Trained a tree with leaves = 100 and depth = 16\n",
      "[LightGBM] [Debug] Trained a tree with leaves = 100 and depth = 19\n",
      "[LightGBM] [Debug] Trained a tree with leaves = 100 and depth = 15\n",
      "[LightGBM] [Debug] Trained a tree with leaves = 100 and depth = 19\n",
      "[LightGBM] [Debug] Trained a tree with leaves = 100 and depth = 14\n",
      "[LightGBM] [Debug] Trained a tree with leaves = 100 and depth = 16\n",
      "[LightGBM] [Debug] Trained a tree with leaves = 100 and depth = 19\n",
      "[LightGBM] [Debug] Trained a tree with leaves = 100 and depth = 17\n",
      "[LightGBM] [Debug] Trained a tree with leaves = 100 and depth = 15\n",
      "[LightGBM] [Debug] Trained a tree with leaves = 100 and depth = 16\n",
      "[LightGBM] [Debug] Trained a tree with leaves = 100 and depth = 13\n",
      "[LightGBM] [Debug] Trained a tree with leaves = 100 and depth = 18\n",
      "[LightGBM] [Debug] Trained a tree with leaves = 100 and depth = 16\n",
      "[LightGBM] [Debug] Trained a tree with leaves = 100 and depth = 17\n",
      "[LightGBM] [Debug] Trained a tree with leaves = 100 and depth = 18\n",
      "[LightGBM] [Debug] Trained a tree with leaves = 100 and depth = 20\n",
      "[LightGBM] [Debug] Trained a tree with leaves = 100 and depth = 20\n",
      "[LightGBM] [Debug] Trained a tree with leaves = 100 and depth = 16\n",
      "[LightGBM] [Debug] Trained a tree with leaves = 100 and depth = 16\n",
      "[LightGBM] [Debug] Trained a tree with leaves = 100 and depth = 18\n",
      "[LightGBM] [Debug] Trained a tree with leaves = 100 and depth = 16\n",
      "[LightGBM] [Debug] Trained a tree with leaves = 100 and depth = 16\n",
      "[LightGBM] [Debug] Trained a tree with leaves = 100 and depth = 16\n",
      "[LightGBM] [Debug] Trained a tree with leaves = 100 and depth = 15\n",
      "[LightGBM] [Debug] Trained a tree with leaves = 100 and depth = 15\n",
      "[LightGBM] [Debug] Trained a tree with leaves = 100 and depth = 17\n",
      "[LightGBM] [Debug] Trained a tree with leaves = 100 and depth = 19\n",
      "[LightGBM] [Debug] Trained a tree with leaves = 100 and depth = 20\n",
      "[LightGBM] [Debug] Trained a tree with leaves = 100 and depth = 17\n",
      "[LightGBM] [Debug] Trained a tree with leaves = 100 and depth = 15\n",
      "[LightGBM] [Debug] Trained a tree with leaves = 100 and depth = 17\n",
      "[LightGBM] [Debug] Trained a tree with leaves = 100 and depth = 15\n",
      "[LightGBM] [Debug] Trained a tree with leaves = 100 and depth = 12\n",
      "[LightGBM] [Debug] Trained a tree with leaves = 100 and depth = 18\n",
      "[LightGBM] [Debug] Trained a tree with leaves = 100 and depth = 18\n",
      "[LightGBM] [Debug] Trained a tree with leaves = 100 and depth = 16\n",
      "[LightGBM] [Debug] Trained a tree with leaves = 100 and depth = 20\n",
      "[LightGBM] [Debug] Trained a tree with leaves = 100 and depth = 22\n",
      "[LightGBM] [Debug] Trained a tree with leaves = 100 and depth = 18\n",
      "[LightGBM] [Debug] Trained a tree with leaves = 100 and depth = 19\n",
      "[LightGBM] [Debug] Trained a tree with leaves = 100 and depth = 20\n",
      "[LightGBM] [Debug] Trained a tree with leaves = 100 and depth = 16\n",
      "[LightGBM] [Debug] Trained a tree with leaves = 100 and depth = 18\n",
      "[LightGBM] [Debug] Trained a tree with leaves = 100 and depth = 13\n",
      "[LightGBM] [Debug] Trained a tree with leaves = 100 and depth = 17\n",
      "[LightGBM] [Debug] Trained a tree with leaves = 100 and depth = 14\n",
      "[LightGBM] [Debug] Trained a tree with leaves = 100 and depth = 17\n",
      "[LightGBM] [Debug] Trained a tree with leaves = 100 and depth = 14\n",
      "[LightGBM] [Debug] Trained a tree with leaves = 100 and depth = 15\n",
      "[LightGBM] [Debug] Trained a tree with leaves = 100 and depth = 19\n",
      "[LightGBM] [Debug] Dataset::GetMultiBinFromSparseFeatures: sparse rate 0.772172\n",
      "[LightGBM] [Debug] Dataset::GetMultiBinFromAllFeatures: sparse rate 0.227356\n",
      "[LightGBM] [Debug] init for col-wise cost 0.004821 seconds, init for row-wise cost 0.094919 seconds\n",
      "[LightGBM] [Warning] Auto-choosing row-wise multi-threading, the overhead of testing was 0.009346 seconds.\n",
      "You can set `force_row_wise=true` to remove the overhead.\n",
      "And if memory is not enough, you can set `force_col_wise=true`.\n",
      "[LightGBM] [Debug] Using Dense Multi-Val Bin\n",
      "[LightGBM] [Info] Total Bins 680\n",
      "[LightGBM] [Info] Number of data points in the train set: 204562, number of used features: 11\n",
      "[LightGBM] [Info] Start training from score 4586.147848\n",
      "[LightGBM] [Debug] Trained a tree with leaves = 100 and depth = 10\n",
      "[LightGBM] [Debug] Trained a tree with leaves = 100 and depth = 11\n",
      "[LightGBM] [Debug] Trained a tree with leaves = 100 and depth = 10\n",
      "[LightGBM] [Debug] Trained a tree with leaves = 100 and depth = 14\n",
      "[LightGBM] [Debug] Trained a tree with leaves = 100 and depth = 14\n",
      "[LightGBM] [Debug] Trained a tree with leaves = 100 and depth = 14\n",
      "[LightGBM] [Debug] Trained a tree with leaves = 100 and depth = 16\n",
      "[LightGBM] [Debug] Trained a tree with leaves = 100 and depth = 17\n",
      "[LightGBM] [Debug] Trained a tree with leaves = 100 and depth = 15\n",
      "[LightGBM] [Debug] Trained a tree with leaves = 100 and depth = 18\n",
      "[LightGBM] [Debug] Trained a tree with leaves = 100 and depth = 15\n",
      "[LightGBM] [Debug] Trained a tree with leaves = 100 and depth = 20\n",
      "[LightGBM] [Debug] Trained a tree with leaves = 100 and depth = 22\n",
      "[LightGBM] [Debug] Trained a tree with leaves = 100 and depth = 17\n",
      "[LightGBM] [Debug] Trained a tree with leaves = 100 and depth = 14\n",
      "[LightGBM] [Debug] Trained a tree with leaves = 100 and depth = 20\n",
      "[LightGBM] [Debug] Trained a tree with leaves = 100 and depth = 20\n",
      "[LightGBM] [Debug] Trained a tree with leaves = 100 and depth = 16\n",
      "[LightGBM] [Debug] Trained a tree with leaves = 100 and depth = 15\n",
      "[LightGBM] [Debug] Trained a tree with leaves = 100 and depth = 17\n",
      "[LightGBM] [Debug] Trained a tree with leaves = 100 and depth = 14\n",
      "[LightGBM] [Debug] Trained a tree with leaves = 100 and depth = 26\n",
      "[LightGBM] [Debug] Trained a tree with leaves = 100 and depth = 20\n",
      "[LightGBM] [Debug] Trained a tree with leaves = 100 and depth = 18\n",
      "[LightGBM] [Debug] Trained a tree with leaves = 100 and depth = 17\n",
      "[LightGBM] [Debug] Trained a tree with leaves = 100 and depth = 17\n",
      "[LightGBM] [Debug] Trained a tree with leaves = 100 and depth = 13\n",
      "[LightGBM] [Debug] Trained a tree with leaves = 100 and depth = 15\n",
      "[LightGBM] [Debug] Trained a tree with leaves = 100 and depth = 14\n",
      "[LightGBM] [Debug] Trained a tree with leaves = 100 and depth = 17\n",
      "[LightGBM] [Debug] Trained a tree with leaves = 100 and depth = 23\n",
      "[LightGBM] [Debug] Trained a tree with leaves = 100 and depth = 16\n",
      "[LightGBM] [Debug] Trained a tree with leaves = 100 and depth = 18\n",
      "[LightGBM] [Debug] Trained a tree with leaves = 100 and depth = 18\n",
      "[LightGBM] [Debug] Trained a tree with leaves = 100 and depth = 16\n",
      "[LightGBM] [Debug] Trained a tree with leaves = 100 and depth = 15\n",
      "[LightGBM] [Debug] Trained a tree with leaves = 100 and depth = 17\n",
      "[LightGBM] [Debug] Trained a tree with leaves = 100 and depth = 22\n",
      "[LightGBM] [Debug] Trained a tree with leaves = 100 and depth = 19\n",
      "[LightGBM] [Debug] Trained a tree with leaves = 100 and depth = 15\n",
      "[LightGBM] [Debug] Trained a tree with leaves = 100 and depth = 18\n",
      "[LightGBM] [Debug] Trained a tree with leaves = 100 and depth = 18\n",
      "[LightGBM] [Debug] Trained a tree with leaves = 100 and depth = 12\n",
      "[LightGBM] [Debug] Trained a tree with leaves = 100 and depth = 20\n",
      "[LightGBM] [Debug] Trained a tree with leaves = 100 and depth = 13\n",
      "[LightGBM] [Debug] Trained a tree with leaves = 100 and depth = 15\n",
      "[LightGBM] [Debug] Trained a tree with leaves = 100 and depth = 15\n",
      "[LightGBM] [Debug] Trained a tree with leaves = 100 and depth = 13\n",
      "[LightGBM] [Debug] Trained a tree with leaves = 100 and depth = 18\n",
      "[LightGBM] [Debug] Trained a tree with leaves = 100 and depth = 14\n",
      "[LightGBM] [Debug] Trained a tree with leaves = 100 and depth = 17\n",
      "[LightGBM] [Debug] Trained a tree with leaves = 100 and depth = 15\n",
      "[LightGBM] [Debug] Trained a tree with leaves = 100 and depth = 16\n",
      "[LightGBM] [Debug] Trained a tree with leaves = 100 and depth = 16\n",
      "[LightGBM] [Debug] Trained a tree with leaves = 100 and depth = 14\n",
      "[LightGBM] [Debug] Trained a tree with leaves = 100 and depth = 16\n",
      "[LightGBM] [Debug] Trained a tree with leaves = 100 and depth = 20\n",
      "[LightGBM] [Debug] Trained a tree with leaves = 100 and depth = 17\n",
      "[LightGBM] [Debug] Trained a tree with leaves = 100 and depth = 16\n",
      "[LightGBM] [Debug] Trained a tree with leaves = 100 and depth = 17\n",
      "[LightGBM] [Debug] Trained a tree with leaves = 100 and depth = 16\n",
      "[LightGBM] [Debug] Trained a tree with leaves = 100 and depth = 13\n",
      "[LightGBM] [Debug] Trained a tree with leaves = 100 and depth = 15\n",
      "[LightGBM] [Debug] Trained a tree with leaves = 100 and depth = 14\n",
      "[LightGBM] [Debug] Trained a tree with leaves = 100 and depth = 14\n",
      "[LightGBM] [Debug] Trained a tree with leaves = 100 and depth = 15\n",
      "[LightGBM] [Debug] Trained a tree with leaves = 100 and depth = 19\n",
      "[LightGBM] [Debug] Trained a tree with leaves = 100 and depth = 21\n",
      "[LightGBM] [Debug] Trained a tree with leaves = 100 and depth = 13\n",
      "[LightGBM] [Debug] Trained a tree with leaves = 100 and depth = 14\n",
      "[LightGBM] [Debug] Trained a tree with leaves = 100 and depth = 14\n",
      "[LightGBM] [Debug] Trained a tree with leaves = 100 and depth = 16\n",
      "[LightGBM] [Debug] Trained a tree with leaves = 100 and depth = 16\n",
      "[LightGBM] [Debug] Trained a tree with leaves = 100 and depth = 18\n",
      "[LightGBM] [Debug] Trained a tree with leaves = 100 and depth = 14\n",
      "[LightGBM] [Debug] Trained a tree with leaves = 100 and depth = 20\n",
      "[LightGBM] [Debug] Trained a tree with leaves = 100 and depth = 27\n",
      "[LightGBM] [Debug] Trained a tree with leaves = 100 and depth = 14\n",
      "[LightGBM] [Debug] Trained a tree with leaves = 100 and depth = 19\n",
      "[LightGBM] [Debug] Trained a tree with leaves = 100 and depth = 18\n",
      "[LightGBM] [Debug] Trained a tree with leaves = 100 and depth = 16\n",
      "[LightGBM] [Debug] Trained a tree with leaves = 100 and depth = 16\n",
      "[LightGBM] [Debug] Trained a tree with leaves = 100 and depth = 16\n",
      "[LightGBM] [Debug] Trained a tree with leaves = 100 and depth = 14\n",
      "[LightGBM] [Debug] Trained a tree with leaves = 100 and depth = 12\n",
      "[LightGBM] [Debug] Trained a tree with leaves = 100 and depth = 16\n",
      "[LightGBM] [Debug] Trained a tree with leaves = 100 and depth = 23\n",
      "[LightGBM] [Debug] Trained a tree with leaves = 100 and depth = 19\n",
      "[LightGBM] [Debug] Trained a tree with leaves = 100 and depth = 16\n",
      "[LightGBM] [Debug] Trained a tree with leaves = 100 and depth = 15\n",
      "[LightGBM] [Debug] Trained a tree with leaves = 100 and depth = 15\n",
      "[LightGBM] [Debug] Trained a tree with leaves = 100 and depth = 16\n",
      "[LightGBM] [Debug] Trained a tree with leaves = 100 and depth = 20\n",
      "[LightGBM] [Debug] Trained a tree with leaves = 100 and depth = 20\n",
      "[LightGBM] [Debug] Trained a tree with leaves = 100 and depth = 14\n",
      "[LightGBM] [Debug] Trained a tree with leaves = 100 and depth = 19\n",
      "[LightGBM] [Debug] Trained a tree with leaves = 100 and depth = 22\n",
      "[LightGBM] [Debug] Trained a tree with leaves = 100 and depth = 18\n",
      "[LightGBM] [Debug] Trained a tree with leaves = 100 and depth = 16\n",
      "[LightGBM] [Debug] Trained a tree with leaves = 100 and depth = 15\n",
      "[LightGBM] [Debug] Dataset::GetMultiBinFromSparseFeatures: sparse rate 0.772483\n",
      "[LightGBM] [Debug] Dataset::GetMultiBinFromAllFeatures: sparse rate 0.227432\n",
      "[LightGBM] [Debug] init for col-wise cost 0.092609 seconds, init for row-wise cost 0.008296 seconds\n",
      "[LightGBM] [Warning] Auto-choosing row-wise multi-threading, the overhead of testing was 0.185266 seconds.\n",
      "You can set `force_row_wise=true` to remove the overhead.\n",
      "And if memory is not enough, you can set `force_col_wise=true`.\n",
      "[LightGBM] [Debug] Using Dense Multi-Val Bin\n",
      "[LightGBM] [Info] Total Bins 681\n",
      "[LightGBM] [Info] Number of data points in the train set: 204562, number of used features: 11\n",
      "[LightGBM] [Info] Start training from score 4584.857564\n",
      "[LightGBM] [Debug] Trained a tree with leaves = 100 and depth = 10\n",
      "[LightGBM] [Debug] Trained a tree with leaves = 100 and depth = 11\n",
      "[LightGBM] [Debug] Trained a tree with leaves = 100 and depth = 11\n",
      "[LightGBM] [Debug] Trained a tree with leaves = 100 and depth = 14\n",
      "[LightGBM] [Debug] Trained a tree with leaves = 100 and depth = 13\n",
      "[LightGBM] [Debug] Trained a tree with leaves = 100 and depth = 14\n",
      "[LightGBM] [Debug] Trained a tree with leaves = 100 and depth = 14\n",
      "[LightGBM] [Debug] Trained a tree with leaves = 100 and depth = 17\n",
      "[LightGBM] [Debug] Trained a tree with leaves = 100 and depth = 15\n",
      "[LightGBM] [Debug] Trained a tree with leaves = 100 and depth = 17\n",
      "[LightGBM] [Debug] Trained a tree with leaves = 100 and depth = 20\n",
      "[LightGBM] [Debug] Trained a tree with leaves = 100 and depth = 15\n",
      "[LightGBM] [Debug] Trained a tree with leaves = 100 and depth = 14\n",
      "[LightGBM] [Debug] Trained a tree with leaves = 100 and depth = 15\n",
      "[LightGBM] [Debug] Trained a tree with leaves = 100 and depth = 15\n",
      "[LightGBM] [Debug] Trained a tree with leaves = 100 and depth = 15\n",
      "[LightGBM] [Debug] Trained a tree with leaves = 100 and depth = 16\n",
      "[LightGBM] [Debug] Trained a tree with leaves = 100 and depth = 17\n",
      "[LightGBM] [Debug] Trained a tree with leaves = 100 and depth = 18\n",
      "[LightGBM] [Debug] Trained a tree with leaves = 100 and depth = 14\n",
      "[LightGBM] [Debug] Trained a tree with leaves = 100 and depth = 14\n",
      "[LightGBM] [Debug] Trained a tree with leaves = 100 and depth = 18\n",
      "[LightGBM] [Debug] Trained a tree with leaves = 100 and depth = 14\n",
      "[LightGBM] [Debug] Trained a tree with leaves = 100 and depth = 19\n",
      "[LightGBM] [Debug] Trained a tree with leaves = 100 and depth = 16\n",
      "[LightGBM] [Debug] Trained a tree with leaves = 100 and depth = 18\n",
      "[LightGBM] [Debug] Trained a tree with leaves = 100 and depth = 13\n",
      "[LightGBM] [Debug] Trained a tree with leaves = 100 and depth = 13\n",
      "[LightGBM] [Debug] Trained a tree with leaves = 100 and depth = 13\n",
      "[LightGBM] [Debug] Trained a tree with leaves = 100 and depth = 18\n",
      "[LightGBM] [Debug] Trained a tree with leaves = 100 and depth = 16\n",
      "[LightGBM] [Debug] Trained a tree with leaves = 100 and depth = 15\n",
      "[LightGBM] [Debug] Trained a tree with leaves = 100 and depth = 22\n",
      "[LightGBM] [Debug] Trained a tree with leaves = 100 and depth = 15\n",
      "[LightGBM] [Debug] Trained a tree with leaves = 100 and depth = 15\n",
      "[LightGBM] [Debug] Trained a tree with leaves = 100 and depth = 18\n",
      "[LightGBM] [Debug] Trained a tree with leaves = 100 and depth = 13\n",
      "[LightGBM] [Debug] Trained a tree with leaves = 100 and depth = 17\n",
      "[LightGBM] [Debug] Trained a tree with leaves = 100 and depth = 15\n",
      "[LightGBM] [Debug] Trained a tree with leaves = 100 and depth = 17\n",
      "[LightGBM] [Debug] Trained a tree with leaves = 100 and depth = 17\n",
      "[LightGBM] [Debug] Trained a tree with leaves = 100 and depth = 16\n",
      "[LightGBM] [Debug] Trained a tree with leaves = 100 and depth = 17\n",
      "[LightGBM] [Debug] Trained a tree with leaves = 100 and depth = 13\n",
      "[LightGBM] [Debug] Trained a tree with leaves = 100 and depth = 14\n",
      "[LightGBM] [Debug] Trained a tree with leaves = 100 and depth = 18\n",
      "[LightGBM] [Debug] Trained a tree with leaves = 100 and depth = 17\n",
      "[LightGBM] [Debug] Trained a tree with leaves = 100 and depth = 15\n",
      "[LightGBM] [Debug] Trained a tree with leaves = 100 and depth = 14\n",
      "[LightGBM] [Debug] Trained a tree with leaves = 100 and depth = 21\n",
      "[LightGBM] [Debug] Trained a tree with leaves = 100 and depth = 16\n",
      "[LightGBM] [Debug] Trained a tree with leaves = 100 and depth = 14\n",
      "[LightGBM] [Debug] Trained a tree with leaves = 100 and depth = 16\n",
      "[LightGBM] [Debug] Trained a tree with leaves = 100 and depth = 19\n",
      "[LightGBM] [Debug] Trained a tree with leaves = 100 and depth = 18\n",
      "[LightGBM] [Debug] Trained a tree with leaves = 100 and depth = 20\n",
      "[LightGBM] [Debug] Trained a tree with leaves = 100 and depth = 19\n",
      "[LightGBM] [Debug] Trained a tree with leaves = 100 and depth = 17\n",
      "[LightGBM] [Debug] Trained a tree with leaves = 100 and depth = 14\n",
      "[LightGBM] [Debug] Trained a tree with leaves = 100 and depth = 15\n",
      "[LightGBM] [Debug] Trained a tree with leaves = 100 and depth = 14\n",
      "[LightGBM] [Debug] Trained a tree with leaves = 100 and depth = 17\n",
      "[LightGBM] [Debug] Trained a tree with leaves = 100 and depth = 21\n",
      "[LightGBM] [Debug] Trained a tree with leaves = 100 and depth = 18\n",
      "[LightGBM] [Debug] Trained a tree with leaves = 100 and depth = 16\n",
      "[LightGBM] [Debug] Trained a tree with leaves = 100 and depth = 15\n",
      "[LightGBM] [Debug] Trained a tree with leaves = 100 and depth = 17\n",
      "[LightGBM] [Debug] Trained a tree with leaves = 100 and depth = 21\n",
      "[LightGBM] [Debug] Trained a tree with leaves = 100 and depth = 20\n",
      "[LightGBM] [Debug] Trained a tree with leaves = 100 and depth = 19\n",
      "[LightGBM] [Debug] Trained a tree with leaves = 100 and depth = 16\n",
      "[LightGBM] [Debug] Trained a tree with leaves = 100 and depth = 20\n",
      "[LightGBM] [Debug] Trained a tree with leaves = 100 and depth = 17\n",
      "[LightGBM] [Debug] Trained a tree with leaves = 100 and depth = 19\n",
      "[LightGBM] [Debug] Trained a tree with leaves = 100 and depth = 16\n",
      "[LightGBM] [Debug] Trained a tree with leaves = 100 and depth = 17\n",
      "[LightGBM] [Debug] Trained a tree with leaves = 100 and depth = 16\n",
      "[LightGBM] [Debug] Trained a tree with leaves = 100 and depth = 17\n",
      "[LightGBM] [Debug] Trained a tree with leaves = 100 and depth = 21\n",
      "[LightGBM] [Debug] Trained a tree with leaves = 100 and depth = 21\n",
      "[LightGBM] [Debug] Trained a tree with leaves = 100 and depth = 15\n",
      "[LightGBM] [Debug] Trained a tree with leaves = 100 and depth = 21\n",
      "[LightGBM] [Debug] Trained a tree with leaves = 100 and depth = 17\n",
      "[LightGBM] [Debug] Trained a tree with leaves = 100 and depth = 19\n",
      "[LightGBM] [Debug] Trained a tree with leaves = 100 and depth = 15\n",
      "[LightGBM] [Debug] Trained a tree with leaves = 100 and depth = 16\n",
      "[LightGBM] [Debug] Trained a tree with leaves = 100 and depth = 22\n",
      "[LightGBM] [Debug] Trained a tree with leaves = 100 and depth = 15\n",
      "[LightGBM] [Debug] Trained a tree with leaves = 100 and depth = 14\n",
      "[LightGBM] [Debug] Trained a tree with leaves = 100 and depth = 16\n",
      "[LightGBM] [Debug] Trained a tree with leaves = 100 and depth = 18\n",
      "[LightGBM] [Debug] Trained a tree with leaves = 100 and depth = 22\n",
      "[LightGBM] [Debug] Trained a tree with leaves = 100 and depth = 16\n",
      "[LightGBM] [Debug] Trained a tree with leaves = 100 and depth = 21\n",
      "[LightGBM] [Debug] Trained a tree with leaves = 100 and depth = 18\n",
      "[LightGBM] [Debug] Trained a tree with leaves = 100 and depth = 15\n",
      "[LightGBM] [Debug] Trained a tree with leaves = 100 and depth = 19\n",
      "[LightGBM] [Debug] Trained a tree with leaves = 100 and depth = 15\n",
      "[LightGBM] [Debug] Trained a tree with leaves = 100 and depth = 14\n",
      "[LightGBM] [Debug] Trained a tree with leaves = 100 and depth = 15\n",
      "[LightGBM] [Debug] Dataset::GetMultiBinFromSparseFeatures: sparse rate 0.771863\n",
      "[LightGBM] [Debug] Dataset::GetMultiBinFromAllFeatures: sparse rate 0.227185\n",
      "[LightGBM] [Debug] init for col-wise cost 0.004817 seconds, init for row-wise cost 0.096417 seconds\n",
      "[LightGBM] [Warning] Auto-choosing row-wise multi-threading, the overhead of testing was 0.008298 seconds.\n",
      "You can set `force_row_wise=true` to remove the overhead.\n",
      "And if memory is not enough, you can set `force_col_wise=true`.\n",
      "[LightGBM] [Debug] Using Dense Multi-Val Bin\n",
      "[LightGBM] [Info] Total Bins 678\n",
      "[LightGBM] [Info] Number of data points in the train set: 204561, number of used features: 11\n",
      "[LightGBM] [Info] Start training from score 4585.907367\n",
      "[LightGBM] [Debug] Trained a tree with leaves = 200 and depth = 12\n",
      "[LightGBM] [Debug] Trained a tree with leaves = 200 and depth = 13\n",
      "[LightGBM] [Debug] Trained a tree with leaves = 200 and depth = 17\n",
      "[LightGBM] [Debug] Trained a tree with leaves = 200 and depth = 14\n",
      "[LightGBM] [Debug] Trained a tree with leaves = 200 and depth = 15\n",
      "[LightGBM] [Debug] Trained a tree with leaves = 200 and depth = 15\n",
      "[LightGBM] [Debug] Trained a tree with leaves = 200 and depth = 20\n",
      "[LightGBM] [Debug] Trained a tree with leaves = 200 and depth = 21\n",
      "[LightGBM] [Debug] Trained a tree with leaves = 200 and depth = 19\n",
      "[LightGBM] [Debug] Trained a tree with leaves = 200 and depth = 18\n",
      "[LightGBM] [Debug] Trained a tree with leaves = 200 and depth = 20\n",
      "[LightGBM] [Debug] Trained a tree with leaves = 200 and depth = 22\n",
      "[LightGBM] [Debug] Trained a tree with leaves = 200 and depth = 24\n",
      "[LightGBM] [Debug] Trained a tree with leaves = 200 and depth = 22\n",
      "[LightGBM] [Debug] Trained a tree with leaves = 200 and depth = 25\n",
      "[LightGBM] [Debug] Trained a tree with leaves = 200 and depth = 18\n",
      "[LightGBM] [Debug] Trained a tree with leaves = 200 and depth = 22\n",
      "[LightGBM] [Debug] Trained a tree with leaves = 200 and depth = 19\n",
      "[LightGBM] [Debug] Trained a tree with leaves = 200 and depth = 19\n",
      "[LightGBM] [Debug] Trained a tree with leaves = 200 and depth = 18\n",
      "[LightGBM] [Debug] Trained a tree with leaves = 200 and depth = 26\n",
      "[LightGBM] [Debug] Trained a tree with leaves = 200 and depth = 21\n",
      "[LightGBM] [Debug] Trained a tree with leaves = 200 and depth = 20\n",
      "[LightGBM] [Debug] Trained a tree with leaves = 200 and depth = 19\n",
      "[LightGBM] [Debug] Trained a tree with leaves = 200 and depth = 22\n",
      "[LightGBM] [Debug] Trained a tree with leaves = 200 and depth = 23\n",
      "[LightGBM] [Debug] Trained a tree with leaves = 200 and depth = 16\n",
      "[LightGBM] [Debug] Trained a tree with leaves = 200 and depth = 23\n",
      "[LightGBM] [Debug] Trained a tree with leaves = 200 and depth = 15\n",
      "[LightGBM] [Debug] Trained a tree with leaves = 200 and depth = 21\n",
      "[LightGBM] [Debug] Trained a tree with leaves = 200 and depth = 18\n",
      "[LightGBM] [Debug] Trained a tree with leaves = 200 and depth = 24\n",
      "[LightGBM] [Debug] Trained a tree with leaves = 200 and depth = 26\n",
      "[LightGBM] [Debug] Trained a tree with leaves = 200 and depth = 24\n",
      "[LightGBM] [Debug] Trained a tree with leaves = 200 and depth = 20\n",
      "[LightGBM] [Debug] Trained a tree with leaves = 200 and depth = 19\n",
      "[LightGBM] [Debug] Trained a tree with leaves = 200 and depth = 15\n",
      "[LightGBM] [Debug] Trained a tree with leaves = 200 and depth = 19\n",
      "[LightGBM] [Debug] Trained a tree with leaves = 200 and depth = 20\n",
      "[LightGBM] [Debug] Trained a tree with leaves = 200 and depth = 20\n",
      "[LightGBM] [Debug] Trained a tree with leaves = 200 and depth = 20\n",
      "[LightGBM] [Debug] Trained a tree with leaves = 200 and depth = 27\n",
      "[LightGBM] [Debug] Trained a tree with leaves = 200 and depth = 17\n",
      "[LightGBM] [Debug] Trained a tree with leaves = 200 and depth = 19\n",
      "[LightGBM] [Debug] Trained a tree with leaves = 200 and depth = 22\n",
      "[LightGBM] [Debug] Trained a tree with leaves = 200 and depth = 17\n",
      "[LightGBM] [Debug] Trained a tree with leaves = 200 and depth = 26\n",
      "[LightGBM] [Debug] Trained a tree with leaves = 200 and depth = 25\n",
      "[LightGBM] [Debug] Trained a tree with leaves = 200 and depth = 20\n",
      "[LightGBM] [Debug] Trained a tree with leaves = 200 and depth = 20\n",
      "[LightGBM] [Debug] Trained a tree with leaves = 200 and depth = 26\n",
      "[LightGBM] [Debug] Trained a tree with leaves = 200 and depth = 18\n",
      "[LightGBM] [Debug] Trained a tree with leaves = 200 and depth = 19\n",
      "[LightGBM] [Debug] Trained a tree with leaves = 200 and depth = 25\n",
      "[LightGBM] [Debug] Trained a tree with leaves = 200 and depth = 18\n",
      "[LightGBM] [Debug] Trained a tree with leaves = 200 and depth = 21\n",
      "[LightGBM] [Debug] Trained a tree with leaves = 200 and depth = 17\n",
      "[LightGBM] [Debug] Trained a tree with leaves = 200 and depth = 23\n",
      "[LightGBM] [Debug] Trained a tree with leaves = 200 and depth = 20\n",
      "[LightGBM] [Debug] Trained a tree with leaves = 200 and depth = 24\n",
      "[LightGBM] [Debug] Trained a tree with leaves = 200 and depth = 25\n",
      "[LightGBM] [Debug] Trained a tree with leaves = 200 and depth = 24\n",
      "[LightGBM] [Debug] Trained a tree with leaves = 200 and depth = 24\n",
      "[LightGBM] [Debug] Trained a tree with leaves = 200 and depth = 21\n",
      "[LightGBM] [Debug] Trained a tree with leaves = 200 and depth = 20\n",
      "[LightGBM] [Debug] Trained a tree with leaves = 200 and depth = 20\n",
      "[LightGBM] [Debug] Trained a tree with leaves = 200 and depth = 27\n",
      "[LightGBM] [Debug] Trained a tree with leaves = 200 and depth = 22\n",
      "[LightGBM] [Debug] Trained a tree with leaves = 200 and depth = 20\n",
      "[LightGBM] [Debug] Trained a tree with leaves = 200 and depth = 22\n",
      "[LightGBM] [Debug] Trained a tree with leaves = 200 and depth = 23\n",
      "[LightGBM] [Debug] Trained a tree with leaves = 200 and depth = 21\n",
      "[LightGBM] [Debug] Trained a tree with leaves = 200 and depth = 21\n",
      "[LightGBM] [Debug] Trained a tree with leaves = 200 and depth = 25\n",
      "[LightGBM] [Debug] Trained a tree with leaves = 200 and depth = 20\n",
      "[LightGBM] [Debug] Trained a tree with leaves = 200 and depth = 27\n",
      "[LightGBM] [Debug] Trained a tree with leaves = 200 and depth = 16\n",
      "[LightGBM] [Debug] Trained a tree with leaves = 200 and depth = 25\n",
      "[LightGBM] [Debug] Trained a tree with leaves = 200 and depth = 22\n",
      "[LightGBM] [Debug] Trained a tree with leaves = 200 and depth = 26\n",
      "[LightGBM] [Debug] Trained a tree with leaves = 200 and depth = 18\n",
      "[LightGBM] [Debug] Trained a tree with leaves = 200 and depth = 18\n",
      "[LightGBM] [Debug] Trained a tree with leaves = 200 and depth = 22\n",
      "[LightGBM] [Debug] Trained a tree with leaves = 200 and depth = 17\n",
      "[LightGBM] [Debug] Trained a tree with leaves = 200 and depth = 22\n",
      "[LightGBM] [Debug] Trained a tree with leaves = 200 and depth = 18\n",
      "[LightGBM] [Debug] Trained a tree with leaves = 200 and depth = 21\n",
      "[LightGBM] [Debug] Trained a tree with leaves = 200 and depth = 25\n",
      "[LightGBM] [Debug] Trained a tree with leaves = 200 and depth = 24\n",
      "[LightGBM] [Debug] Trained a tree with leaves = 200 and depth = 24\n",
      "[LightGBM] [Debug] Trained a tree with leaves = 200 and depth = 26\n",
      "[LightGBM] [Debug] Trained a tree with leaves = 200 and depth = 19\n",
      "[LightGBM] [Debug] Trained a tree with leaves = 200 and depth = 28\n",
      "[LightGBM] [Debug] Trained a tree with leaves = 200 and depth = 20\n",
      "[LightGBM] [Debug] Trained a tree with leaves = 200 and depth = 16\n",
      "[LightGBM] [Debug] Trained a tree with leaves = 200 and depth = 19\n",
      "[LightGBM] [Debug] Trained a tree with leaves = 200 and depth = 21\n",
      "[LightGBM] [Debug] Trained a tree with leaves = 200 and depth = 16\n",
      "[LightGBM] [Debug] Trained a tree with leaves = 200 and depth = 20\n",
      "[LightGBM] [Debug] Trained a tree with leaves = 200 and depth = 16\n",
      "[LightGBM] [Debug] Dataset::GetMultiBinFromSparseFeatures: sparse rate 0.772358\n",
      "[LightGBM] [Debug] Dataset::GetMultiBinFromAllFeatures: sparse rate 0.227301\n",
      "[LightGBM] [Debug] init for col-wise cost 0.004809 seconds, init for row-wise cost 0.096077 seconds\n",
      "[LightGBM] [Warning] Auto-choosing row-wise multi-threading, the overhead of testing was 0.008083 seconds.\n",
      "You can set `force_row_wise=true` to remove the overhead.\n",
      "And if memory is not enough, you can set `force_col_wise=true`.\n",
      "[LightGBM] [Debug] Using Dense Multi-Val Bin\n",
      "[LightGBM] [Info] Total Bins 680\n",
      "[LightGBM] [Info] Number of data points in the train set: 204561, number of used features: 11\n",
      "[LightGBM] [Info] Start training from score 4592.320291\n",
      "[LightGBM] [Debug] Trained a tree with leaves = 200 and depth = 11\n",
      "[LightGBM] [Debug] Trained a tree with leaves = 200 and depth = 13\n",
      "[LightGBM] [Debug] Trained a tree with leaves = 200 and depth = 15\n",
      "[LightGBM] [Debug] Trained a tree with leaves = 200 and depth = 14\n",
      "[LightGBM] [Debug] Trained a tree with leaves = 200 and depth = 14\n",
      "[LightGBM] [Debug] Trained a tree with leaves = 200 and depth = 15\n",
      "[LightGBM] [Debug] Trained a tree with leaves = 200 and depth = 18\n",
      "[LightGBM] [Debug] Trained a tree with leaves = 200 and depth = 18\n",
      "[LightGBM] [Debug] Trained a tree with leaves = 200 and depth = 19\n",
      "[LightGBM] [Debug] Trained a tree with leaves = 200 and depth = 26\n",
      "[LightGBM] [Debug] Trained a tree with leaves = 200 and depth = 20\n",
      "[LightGBM] [Debug] Trained a tree with leaves = 200 and depth = 21\n",
      "[LightGBM] [Debug] Trained a tree with leaves = 200 and depth = 25\n",
      "[LightGBM] [Debug] Trained a tree with leaves = 200 and depth = 22\n",
      "[LightGBM] [Debug] Trained a tree with leaves = 200 and depth = 20\n",
      "[LightGBM] [Debug] Trained a tree with leaves = 200 and depth = 19\n",
      "[LightGBM] [Debug] Trained a tree with leaves = 200 and depth = 17\n",
      "[LightGBM] [Debug] Trained a tree with leaves = 200 and depth = 20\n",
      "[LightGBM] [Debug] Trained a tree with leaves = 200 and depth = 17\n",
      "[LightGBM] [Debug] Trained a tree with leaves = 200 and depth = 18\n",
      "[LightGBM] [Debug] Trained a tree with leaves = 200 and depth = 16\n",
      "[LightGBM] [Debug] Trained a tree with leaves = 200 and depth = 22\n",
      "[LightGBM] [Debug] Trained a tree with leaves = 200 and depth = 20\n",
      "[LightGBM] [Debug] Trained a tree with leaves = 200 and depth = 22\n",
      "[LightGBM] [Debug] Trained a tree with leaves = 200 and depth = 16\n",
      "[LightGBM] [Debug] Trained a tree with leaves = 200 and depth = 17\n",
      "[LightGBM] [Debug] Trained a tree with leaves = 200 and depth = 26\n",
      "[LightGBM] [Debug] Trained a tree with leaves = 200 and depth = 20\n",
      "[LightGBM] [Debug] Trained a tree with leaves = 200 and depth = 21\n",
      "[LightGBM] [Debug] Trained a tree with leaves = 200 and depth = 18\n",
      "[LightGBM] [Debug] Trained a tree with leaves = 200 and depth = 23\n",
      "[LightGBM] [Debug] Trained a tree with leaves = 200 and depth = 19\n",
      "[LightGBM] [Debug] Trained a tree with leaves = 200 and depth = 21\n",
      "[LightGBM] [Debug] Trained a tree with leaves = 200 and depth = 17\n",
      "[LightGBM] [Debug] Trained a tree with leaves = 200 and depth = 16\n",
      "[LightGBM] [Debug] Trained a tree with leaves = 200 and depth = 20\n",
      "[LightGBM] [Debug] Trained a tree with leaves = 200 and depth = 22\n",
      "[LightGBM] [Debug] Trained a tree with leaves = 200 and depth = 23\n",
      "[LightGBM] [Debug] Trained a tree with leaves = 200 and depth = 21\n",
      "[LightGBM] [Debug] Trained a tree with leaves = 200 and depth = 20\n",
      "[LightGBM] [Debug] Trained a tree with leaves = 200 and depth = 18\n",
      "[LightGBM] [Debug] Trained a tree with leaves = 200 and depth = 20\n",
      "[LightGBM] [Debug] Trained a tree with leaves = 200 and depth = 21\n",
      "[LightGBM] [Debug] Trained a tree with leaves = 200 and depth = 21\n",
      "[LightGBM] [Debug] Trained a tree with leaves = 200 and depth = 19\n",
      "[LightGBM] [Debug] Trained a tree with leaves = 200 and depth = 18\n",
      "[LightGBM] [Debug] Trained a tree with leaves = 200 and depth = 20\n",
      "[LightGBM] [Debug] Trained a tree with leaves = 200 and depth = 20\n",
      "[LightGBM] [Debug] Trained a tree with leaves = 200 and depth = 19\n",
      "[LightGBM] [Debug] Trained a tree with leaves = 200 and depth = 20\n",
      "[LightGBM] [Debug] Trained a tree with leaves = 200 and depth = 25\n",
      "[LightGBM] [Debug] Trained a tree with leaves = 200 and depth = 26\n",
      "[LightGBM] [Debug] Trained a tree with leaves = 200 and depth = 23\n",
      "[LightGBM] [Debug] Trained a tree with leaves = 200 and depth = 18\n",
      "[LightGBM] [Debug] Trained a tree with leaves = 200 and depth = 23\n",
      "[LightGBM] [Debug] Trained a tree with leaves = 200 and depth = 20\n",
      "[LightGBM] [Debug] Trained a tree with leaves = 200 and depth = 24\n",
      "[LightGBM] [Debug] Trained a tree with leaves = 200 and depth = 16\n",
      "[LightGBM] [Debug] Trained a tree with leaves = 200 and depth = 28\n",
      "[LightGBM] [Debug] Trained a tree with leaves = 200 and depth = 18\n",
      "[LightGBM] [Debug] Trained a tree with leaves = 200 and depth = 30\n",
      "[LightGBM] [Debug] Trained a tree with leaves = 200 and depth = 27\n",
      "[LightGBM] [Debug] Trained a tree with leaves = 200 and depth = 26\n",
      "[LightGBM] [Debug] Trained a tree with leaves = 200 and depth = 19\n",
      "[LightGBM] [Debug] Trained a tree with leaves = 200 and depth = 21\n",
      "[LightGBM] [Debug] Trained a tree with leaves = 200 and depth = 22\n",
      "[LightGBM] [Debug] Trained a tree with leaves = 200 and depth = 28\n",
      "[LightGBM] [Debug] Trained a tree with leaves = 200 and depth = 22\n",
      "[LightGBM] [Debug] Trained a tree with leaves = 200 and depth = 20\n",
      "[LightGBM] [Debug] Trained a tree with leaves = 200 and depth = 21\n",
      "[LightGBM] [Debug] Trained a tree with leaves = 200 and depth = 21\n",
      "[LightGBM] [Debug] Trained a tree with leaves = 200 and depth = 31\n",
      "[LightGBM] [Debug] Trained a tree with leaves = 200 and depth = 20\n",
      "[LightGBM] [Debug] Trained a tree with leaves = 200 and depth = 19\n",
      "[LightGBM] [Debug] Trained a tree with leaves = 200 and depth = 25\n",
      "[LightGBM] [Debug] Trained a tree with leaves = 200 and depth = 23\n",
      "[LightGBM] [Debug] Trained a tree with leaves = 200 and depth = 19\n",
      "[LightGBM] [Debug] Trained a tree with leaves = 200 and depth = 14\n",
      "[LightGBM] [Debug] Trained a tree with leaves = 200 and depth = 19\n",
      "[LightGBM] [Debug] Trained a tree with leaves = 200 and depth = 19\n",
      "[LightGBM] [Debug] Trained a tree with leaves = 200 and depth = 21\n",
      "[LightGBM] [Debug] Trained a tree with leaves = 200 and depth = 20\n",
      "[LightGBM] [Debug] Trained a tree with leaves = 200 and depth = 22\n",
      "[LightGBM] [Debug] Trained a tree with leaves = 200 and depth = 19\n",
      "[LightGBM] [Debug] Trained a tree with leaves = 200 and depth = 21\n",
      "[LightGBM] [Debug] Trained a tree with leaves = 200 and depth = 19\n",
      "[LightGBM] [Debug] Trained a tree with leaves = 200 and depth = 26\n",
      "[LightGBM] [Debug] Trained a tree with leaves = 200 and depth = 22\n",
      "[LightGBM] [Debug] Trained a tree with leaves = 200 and depth = 24\n",
      "[LightGBM] [Debug] Trained a tree with leaves = 200 and depth = 18\n",
      "[LightGBM] [Debug] Trained a tree with leaves = 200 and depth = 20\n",
      "[LightGBM] [Debug] Trained a tree with leaves = 200 and depth = 21\n",
      "[LightGBM] [Debug] Trained a tree with leaves = 200 and depth = 20\n",
      "[LightGBM] [Debug] Trained a tree with leaves = 200 and depth = 18\n",
      "[LightGBM] [Debug] Trained a tree with leaves = 200 and depth = 16\n",
      "[LightGBM] [Debug] Trained a tree with leaves = 200 and depth = 24\n",
      "[LightGBM] [Debug] Trained a tree with leaves = 200 and depth = 24\n",
      "[LightGBM] [Debug] Trained a tree with leaves = 200 and depth = 25\n",
      "[LightGBM] [Debug] Trained a tree with leaves = 200 and depth = 16\n",
      "[LightGBM] [Debug] Trained a tree with leaves = 200 and depth = 25\n",
      "[LightGBM] [Debug] Dataset::GetMultiBinFromSparseFeatures: sparse rate 0.772437\n",
      "[LightGBM] [Debug] Dataset::GetMultiBinFromAllFeatures: sparse rate 0.227390\n",
      "[LightGBM] [Debug] init for col-wise cost 0.091315 seconds, init for row-wise cost 0.008359 seconds\n",
      "[LightGBM] [Warning] Auto-choosing row-wise multi-threading, the overhead of testing was 0.183458 seconds.\n",
      "You can set `force_row_wise=true` to remove the overhead.\n",
      "And if memory is not enough, you can set `force_col_wise=true`.\n",
      "[LightGBM] [Debug] Using Dense Multi-Val Bin\n",
      "[LightGBM] [Info] Total Bins 680\n",
      "[LightGBM] [Info] Number of data points in the train set: 204562, number of used features: 11\n",
      "[LightGBM] [Info] Start training from score 4587.936640\n",
      "[LightGBM] [Debug] Trained a tree with leaves = 200 and depth = 12\n",
      "[LightGBM] [Debug] Trained a tree with leaves = 200 and depth = 13\n",
      "[LightGBM] [Debug] Trained a tree with leaves = 200 and depth = 13\n",
      "[LightGBM] [Debug] Trained a tree with leaves = 200 and depth = 15\n",
      "[LightGBM] [Debug] Trained a tree with leaves = 200 and depth = 15\n",
      "[LightGBM] [Debug] Trained a tree with leaves = 200 and depth = 16\n",
      "[LightGBM] [Debug] Trained a tree with leaves = 200 and depth = 21\n",
      "[LightGBM] [Debug] Trained a tree with leaves = 200 and depth = 17\n",
      "[LightGBM] [Debug] Trained a tree with leaves = 200 and depth = 25\n",
      "[LightGBM] [Debug] Trained a tree with leaves = 200 and depth = 26\n",
      "[LightGBM] [Debug] Trained a tree with leaves = 200 and depth = 25\n",
      "[LightGBM] [Debug] Trained a tree with leaves = 200 and depth = 19\n",
      "[LightGBM] [Debug] Trained a tree with leaves = 200 and depth = 23\n",
      "[LightGBM] [Debug] Trained a tree with leaves = 200 and depth = 21\n",
      "[LightGBM] [Debug] Trained a tree with leaves = 200 and depth = 20\n",
      "[LightGBM] [Debug] Trained a tree with leaves = 200 and depth = 22\n",
      "[LightGBM] [Debug] Trained a tree with leaves = 200 and depth = 17\n",
      "[LightGBM] [Debug] Trained a tree with leaves = 200 and depth = 18\n",
      "[LightGBM] [Debug] Trained a tree with leaves = 200 and depth = 23\n",
      "[LightGBM] [Debug] Trained a tree with leaves = 200 and depth = 16\n",
      "[LightGBM] [Debug] Trained a tree with leaves = 200 and depth = 20\n",
      "[LightGBM] [Debug] Trained a tree with leaves = 200 and depth = 21\n",
      "[LightGBM] [Debug] Trained a tree with leaves = 200 and depth = 23\n",
      "[LightGBM] [Debug] Trained a tree with leaves = 200 and depth = 23\n",
      "[LightGBM] [Debug] Trained a tree with leaves = 200 and depth = 21\n",
      "[LightGBM] [Debug] Trained a tree with leaves = 200 and depth = 20\n",
      "[LightGBM] [Debug] Trained a tree with leaves = 200 and depth = 25\n",
      "[LightGBM] [Debug] Trained a tree with leaves = 200 and depth = 24\n",
      "[LightGBM] [Debug] Trained a tree with leaves = 200 and depth = 20\n",
      "[LightGBM] [Debug] Trained a tree with leaves = 200 and depth = 19\n",
      "[LightGBM] [Debug] Trained a tree with leaves = 200 and depth = 23\n",
      "[LightGBM] [Debug] Trained a tree with leaves = 200 and depth = 20\n",
      "[LightGBM] [Debug] Trained a tree with leaves = 200 and depth = 21\n",
      "[LightGBM] [Debug] Trained a tree with leaves = 200 and depth = 23\n",
      "[LightGBM] [Debug] Trained a tree with leaves = 200 and depth = 18\n",
      "[LightGBM] [Debug] Trained a tree with leaves = 200 and depth = 18\n",
      "[LightGBM] [Debug] Trained a tree with leaves = 200 and depth = 23\n",
      "[LightGBM] [Debug] Trained a tree with leaves = 200 and depth = 17\n",
      "[LightGBM] [Debug] Trained a tree with leaves = 200 and depth = 27\n",
      "[LightGBM] [Debug] Trained a tree with leaves = 200 and depth = 20\n",
      "[LightGBM] [Debug] Trained a tree with leaves = 200 and depth = 25\n",
      "[LightGBM] [Debug] Trained a tree with leaves = 200 and depth = 21\n",
      "[LightGBM] [Debug] Trained a tree with leaves = 200 and depth = 19\n",
      "[LightGBM] [Debug] Trained a tree with leaves = 200 and depth = 29\n",
      "[LightGBM] [Debug] Trained a tree with leaves = 200 and depth = 23\n",
      "[LightGBM] [Debug] Trained a tree with leaves = 200 and depth = 18\n",
      "[LightGBM] [Debug] Trained a tree with leaves = 200 and depth = 20\n",
      "[LightGBM] [Debug] Trained a tree with leaves = 200 and depth = 18\n",
      "[LightGBM] [Debug] Trained a tree with leaves = 200 and depth = 20\n",
      "[LightGBM] [Debug] Trained a tree with leaves = 200 and depth = 17\n",
      "[LightGBM] [Debug] Trained a tree with leaves = 200 and depth = 19\n",
      "[LightGBM] [Debug] Trained a tree with leaves = 200 and depth = 17\n",
      "[LightGBM] [Debug] Trained a tree with leaves = 200 and depth = 21\n",
      "[LightGBM] [Debug] Trained a tree with leaves = 200 and depth = 19\n",
      "[LightGBM] [Debug] Trained a tree with leaves = 200 and depth = 18\n",
      "[LightGBM] [Debug] Trained a tree with leaves = 200 and depth = 26\n",
      "[LightGBM] [Debug] Trained a tree with leaves = 200 and depth = 21\n",
      "[LightGBM] [Debug] Trained a tree with leaves = 200 and depth = 17\n",
      "[LightGBM] [Debug] Trained a tree with leaves = 200 and depth = 18\n",
      "[LightGBM] [Debug] Trained a tree with leaves = 200 and depth = 31\n",
      "[LightGBM] [Debug] Trained a tree with leaves = 200 and depth = 22\n",
      "[LightGBM] [Debug] Trained a tree with leaves = 200 and depth = 24\n",
      "[LightGBM] [Debug] Trained a tree with leaves = 200 and depth = 23\n",
      "[LightGBM] [Debug] Trained a tree with leaves = 200 and depth = 18\n",
      "[LightGBM] [Debug] Trained a tree with leaves = 200 and depth = 23\n",
      "[LightGBM] [Debug] Trained a tree with leaves = 200 and depth = 25\n",
      "[LightGBM] [Debug] Trained a tree with leaves = 200 and depth = 23\n",
      "[LightGBM] [Debug] Trained a tree with leaves = 200 and depth = 20\n",
      "[LightGBM] [Debug] Trained a tree with leaves = 200 and depth = 18\n",
      "[LightGBM] [Debug] Trained a tree with leaves = 200 and depth = 21\n",
      "[LightGBM] [Debug] Trained a tree with leaves = 200 and depth = 20\n",
      "[LightGBM] [Debug] Trained a tree with leaves = 200 and depth = 19\n",
      "[LightGBM] [Debug] Trained a tree with leaves = 200 and depth = 26\n",
      "[LightGBM] [Debug] Trained a tree with leaves = 200 and depth = 20\n",
      "[LightGBM] [Debug] Trained a tree with leaves = 200 and depth = 27\n",
      "[LightGBM] [Debug] Trained a tree with leaves = 200 and depth = 20\n",
      "[LightGBM] [Debug] Trained a tree with leaves = 200 and depth = 17\n",
      "[LightGBM] [Debug] Trained a tree with leaves = 200 and depth = 24\n",
      "[LightGBM] [Debug] Trained a tree with leaves = 200 and depth = 18\n",
      "[LightGBM] [Debug] Trained a tree with leaves = 200 and depth = 22\n",
      "[LightGBM] [Debug] Trained a tree with leaves = 200 and depth = 16\n",
      "[LightGBM] [Debug] Trained a tree with leaves = 200 and depth = 22\n",
      "[LightGBM] [Debug] Trained a tree with leaves = 200 and depth = 22\n",
      "[LightGBM] [Debug] Trained a tree with leaves = 200 and depth = 23\n",
      "[LightGBM] [Debug] Trained a tree with leaves = 200 and depth = 24\n",
      "[LightGBM] [Debug] Trained a tree with leaves = 200 and depth = 19\n",
      "[LightGBM] [Debug] Trained a tree with leaves = 200 and depth = 23\n",
      "[LightGBM] [Debug] Trained a tree with leaves = 200 and depth = 20\n",
      "[LightGBM] [Debug] Trained a tree with leaves = 200 and depth = 18\n",
      "[LightGBM] [Debug] Trained a tree with leaves = 200 and depth = 20\n",
      "[LightGBM] [Debug] Trained a tree with leaves = 200 and depth = 27\n",
      "[LightGBM] [Debug] Trained a tree with leaves = 200 and depth = 25\n",
      "[LightGBM] [Debug] Trained a tree with leaves = 200 and depth = 18\n",
      "[LightGBM] [Debug] Trained a tree with leaves = 200 and depth = 21\n",
      "[LightGBM] [Debug] Trained a tree with leaves = 200 and depth = 16\n",
      "[LightGBM] [Debug] Trained a tree with leaves = 200 and depth = 23\n",
      "[LightGBM] [Debug] Trained a tree with leaves = 200 and depth = 24\n",
      "[LightGBM] [Debug] Trained a tree with leaves = 200 and depth = 25\n",
      "[LightGBM] [Debug] Trained a tree with leaves = 200 and depth = 21\n",
      "[LightGBM] [Debug] Trained a tree with leaves = 200 and depth = 21\n",
      "[LightGBM] [Debug] Dataset::GetMultiBinFromSparseFeatures: sparse rate 0.772172\n",
      "[LightGBM] [Debug] Dataset::GetMultiBinFromAllFeatures: sparse rate 0.227356\n",
      "[LightGBM] [Debug] init for col-wise cost 0.004734 seconds, init for row-wise cost 0.091033 seconds\n",
      "[LightGBM] [Warning] Auto-choosing row-wise multi-threading, the overhead of testing was 0.008880 seconds.\n",
      "You can set `force_row_wise=true` to remove the overhead.\n",
      "And if memory is not enough, you can set `force_col_wise=true`.\n",
      "[LightGBM] [Debug] Using Dense Multi-Val Bin\n",
      "[LightGBM] [Info] Total Bins 680\n",
      "[LightGBM] [Info] Number of data points in the train set: 204562, number of used features: 11\n",
      "[LightGBM] [Info] Start training from score 4586.147848\n",
      "[LightGBM] [Debug] Trained a tree with leaves = 200 and depth = 11\n",
      "[LightGBM] [Debug] Trained a tree with leaves = 200 and depth = 13\n",
      "[LightGBM] [Debug] Trained a tree with leaves = 200 and depth = 16\n",
      "[LightGBM] [Debug] Trained a tree with leaves = 200 and depth = 15\n",
      "[LightGBM] [Debug] Trained a tree with leaves = 200 and depth = 16\n",
      "[LightGBM] [Debug] Trained a tree with leaves = 200 and depth = 15\n",
      "[LightGBM] [Debug] Trained a tree with leaves = 200 and depth = 19\n",
      "[LightGBM] [Debug] Trained a tree with leaves = 200 and depth = 19\n",
      "[LightGBM] [Debug] Trained a tree with leaves = 200 and depth = 21\n",
      "[LightGBM] [Debug] Trained a tree with leaves = 200 and depth = 25\n",
      "[LightGBM] [Debug] Trained a tree with leaves = 200 and depth = 19\n",
      "[LightGBM] [Debug] Trained a tree with leaves = 200 and depth = 20\n",
      "[LightGBM] [Debug] Trained a tree with leaves = 200 and depth = 21\n",
      "[LightGBM] [Debug] Trained a tree with leaves = 200 and depth = 20\n",
      "[LightGBM] [Debug] Trained a tree with leaves = 200 and depth = 22\n",
      "[LightGBM] [Debug] Trained a tree with leaves = 200 and depth = 22\n",
      "[LightGBM] [Debug] Trained a tree with leaves = 200 and depth = 20\n",
      "[LightGBM] [Debug] Trained a tree with leaves = 200 and depth = 21\n",
      "[LightGBM] [Debug] Trained a tree with leaves = 200 and depth = 23\n",
      "[LightGBM] [Debug] Trained a tree with leaves = 200 and depth = 21\n",
      "[LightGBM] [Debug] Trained a tree with leaves = 200 and depth = 20\n",
      "[LightGBM] [Debug] Trained a tree with leaves = 200 and depth = 17\n",
      "[LightGBM] [Debug] Trained a tree with leaves = 200 and depth = 19\n",
      "[LightGBM] [Debug] Trained a tree with leaves = 200 and depth = 18\n",
      "[LightGBM] [Debug] Trained a tree with leaves = 200 and depth = 24\n",
      "[LightGBM] [Debug] Trained a tree with leaves = 200 and depth = 20\n",
      "[LightGBM] [Debug] Trained a tree with leaves = 200 and depth = 26\n",
      "[LightGBM] [Debug] Trained a tree with leaves = 200 and depth = 22\n",
      "[LightGBM] [Debug] Trained a tree with leaves = 200 and depth = 17\n",
      "[LightGBM] [Debug] Trained a tree with leaves = 200 and depth = 22\n",
      "[LightGBM] [Debug] Trained a tree with leaves = 200 and depth = 19\n",
      "[LightGBM] [Debug] Trained a tree with leaves = 200 and depth = 21\n",
      "[LightGBM] [Debug] Trained a tree with leaves = 200 and depth = 17\n",
      "[LightGBM] [Debug] Trained a tree with leaves = 200 and depth = 21\n",
      "[LightGBM] [Debug] Trained a tree with leaves = 200 and depth = 17\n",
      "[LightGBM] [Debug] Trained a tree with leaves = 200 and depth = 22\n",
      "[LightGBM] [Debug] Trained a tree with leaves = 200 and depth = 25\n",
      "[LightGBM] [Debug] Trained a tree with leaves = 200 and depth = 22\n",
      "[LightGBM] [Debug] Trained a tree with leaves = 200 and depth = 22\n",
      "[LightGBM] [Debug] Trained a tree with leaves = 200 and depth = 26\n",
      "[LightGBM] [Debug] Trained a tree with leaves = 200 and depth = 27\n",
      "[LightGBM] [Debug] Trained a tree with leaves = 200 and depth = 19\n",
      "[LightGBM] [Debug] Trained a tree with leaves = 200 and depth = 20\n",
      "[LightGBM] [Debug] Trained a tree with leaves = 200 and depth = 21\n",
      "[LightGBM] [Debug] Trained a tree with leaves = 200 and depth = 19\n",
      "[LightGBM] [Debug] Trained a tree with leaves = 200 and depth = 27\n",
      "[LightGBM] [Debug] Trained a tree with leaves = 200 and depth = 19\n",
      "[LightGBM] [Debug] Trained a tree with leaves = 200 and depth = 16\n",
      "[LightGBM] [Debug] Trained a tree with leaves = 200 and depth = 25\n",
      "[LightGBM] [Debug] Trained a tree with leaves = 200 and depth = 25\n",
      "[LightGBM] [Debug] Trained a tree with leaves = 200 and depth = 18\n",
      "[LightGBM] [Debug] Trained a tree with leaves = 200 and depth = 19\n",
      "[LightGBM] [Debug] Trained a tree with leaves = 200 and depth = 27\n",
      "[LightGBM] [Debug] Trained a tree with leaves = 200 and depth = 20\n",
      "[LightGBM] [Debug] Trained a tree with leaves = 200 and depth = 22\n",
      "[LightGBM] [Debug] Trained a tree with leaves = 200 and depth = 21\n",
      "[LightGBM] [Debug] Trained a tree with leaves = 200 and depth = 23\n",
      "[LightGBM] [Debug] Trained a tree with leaves = 200 and depth = 18\n",
      "[LightGBM] [Debug] Trained a tree with leaves = 200 and depth = 25\n",
      "[LightGBM] [Debug] Trained a tree with leaves = 200 and depth = 23\n",
      "[LightGBM] [Debug] Trained a tree with leaves = 200 and depth = 21\n",
      "[LightGBM] [Debug] Trained a tree with leaves = 200 and depth = 22\n",
      "[LightGBM] [Debug] Trained a tree with leaves = 200 and depth = 19\n",
      "[LightGBM] [Debug] Trained a tree with leaves = 200 and depth = 25\n",
      "[LightGBM] [Debug] Trained a tree with leaves = 200 and depth = 16\n",
      "[LightGBM] [Debug] Trained a tree with leaves = 200 and depth = 21\n",
      "[LightGBM] [Debug] Trained a tree with leaves = 200 and depth = 20\n",
      "[LightGBM] [Debug] Trained a tree with leaves = 200 and depth = 19\n",
      "[LightGBM] [Debug] Trained a tree with leaves = 200 and depth = 19\n",
      "[LightGBM] [Debug] Trained a tree with leaves = 200 and depth = 19\n",
      "[LightGBM] [Debug] Trained a tree with leaves = 200 and depth = 18\n",
      "[LightGBM] [Debug] Trained a tree with leaves = 200 and depth = 20\n",
      "[LightGBM] [Debug] Trained a tree with leaves = 200 and depth = 18\n",
      "[LightGBM] [Debug] Trained a tree with leaves = 200 and depth = 19\n",
      "[LightGBM] [Debug] Trained a tree with leaves = 200 and depth = 25\n",
      "[LightGBM] [Debug] Trained a tree with leaves = 200 and depth = 16\n",
      "[LightGBM] [Debug] Trained a tree with leaves = 200 and depth = 20\n",
      "[LightGBM] [Debug] Trained a tree with leaves = 200 and depth = 19\n",
      "[LightGBM] [Debug] Trained a tree with leaves = 200 and depth = 21\n",
      "[LightGBM] [Debug] Trained a tree with leaves = 200 and depth = 20\n",
      "[LightGBM] [Debug] Trained a tree with leaves = 200 and depth = 19\n",
      "[LightGBM] [Debug] Trained a tree with leaves = 200 and depth = 18\n",
      "[LightGBM] [Debug] Trained a tree with leaves = 200 and depth = 18\n",
      "[LightGBM] [Debug] Trained a tree with leaves = 200 and depth = 22\n",
      "[LightGBM] [Debug] Trained a tree with leaves = 200 and depth = 19\n",
      "[LightGBM] [Debug] Trained a tree with leaves = 200 and depth = 31\n",
      "[LightGBM] [Debug] Trained a tree with leaves = 200 and depth = 24\n",
      "[LightGBM] [Debug] Trained a tree with leaves = 200 and depth = 23\n",
      "[LightGBM] [Debug] Trained a tree with leaves = 200 and depth = 21\n",
      "[LightGBM] [Debug] Trained a tree with leaves = 200 and depth = 24\n",
      "[LightGBM] [Debug] Trained a tree with leaves = 200 and depth = 21\n",
      "[LightGBM] [Debug] Trained a tree with leaves = 200 and depth = 24\n",
      "[LightGBM] [Debug] Trained a tree with leaves = 200 and depth = 25\n",
      "[LightGBM] [Debug] Trained a tree with leaves = 200 and depth = 18\n",
      "[LightGBM] [Debug] Trained a tree with leaves = 200 and depth = 26\n",
      "[LightGBM] [Debug] Trained a tree with leaves = 200 and depth = 23\n",
      "[LightGBM] [Debug] Trained a tree with leaves = 200 and depth = 19\n",
      "[LightGBM] [Debug] Trained a tree with leaves = 200 and depth = 18\n",
      "[LightGBM] [Debug] Trained a tree with leaves = 200 and depth = 25\n",
      "[LightGBM] [Debug] Trained a tree with leaves = 200 and depth = 22\n",
      "[LightGBM] [Debug] Dataset::GetMultiBinFromSparseFeatures: sparse rate 0.772483\n",
      "[LightGBM] [Debug] Dataset::GetMultiBinFromAllFeatures: sparse rate 0.227432\n",
      "[LightGBM] [Debug] init for col-wise cost 0.004871 seconds, init for row-wise cost 0.097434 seconds\n",
      "[LightGBM] [Warning] Auto-choosing row-wise multi-threading, the overhead of testing was 0.008936 seconds.\n",
      "You can set `force_row_wise=true` to remove the overhead.\n",
      "And if memory is not enough, you can set `force_col_wise=true`.\n",
      "[LightGBM] [Debug] Using Dense Multi-Val Bin\n",
      "[LightGBM] [Info] Total Bins 681\n",
      "[LightGBM] [Info] Number of data points in the train set: 204562, number of used features: 11\n",
      "[LightGBM] [Info] Start training from score 4584.857564\n",
      "[LightGBM] [Debug] Trained a tree with leaves = 200 and depth = 11\n",
      "[LightGBM] [Debug] Trained a tree with leaves = 200 and depth = 12\n",
      "[LightGBM] [Debug] Trained a tree with leaves = 200 and depth = 15\n",
      "[LightGBM] [Debug] Trained a tree with leaves = 200 and depth = 16\n",
      "[LightGBM] [Debug] Trained a tree with leaves = 200 and depth = 14\n",
      "[LightGBM] [Debug] Trained a tree with leaves = 200 and depth = 16\n",
      "[LightGBM] [Debug] Trained a tree with leaves = 200 and depth = 16\n",
      "[LightGBM] [Debug] Trained a tree with leaves = 200 and depth = 18\n",
      "[LightGBM] [Debug] Trained a tree with leaves = 200 and depth = 18\n",
      "[LightGBM] [Debug] Trained a tree with leaves = 200 and depth = 27\n",
      "[LightGBM] [Debug] Trained a tree with leaves = 200 and depth = 27\n",
      "[LightGBM] [Debug] Trained a tree with leaves = 200 and depth = 26\n",
      "[LightGBM] [Debug] Trained a tree with leaves = 200 and depth = 22\n",
      "[LightGBM] [Debug] Trained a tree with leaves = 200 and depth = 21\n",
      "[LightGBM] [Debug] Trained a tree with leaves = 200 and depth = 19\n",
      "[LightGBM] [Debug] Trained a tree with leaves = 200 and depth = 25\n",
      "[LightGBM] [Debug] Trained a tree with leaves = 200 and depth = 18\n",
      "[LightGBM] [Debug] Trained a tree with leaves = 200 and depth = 20\n",
      "[LightGBM] [Debug] Trained a tree with leaves = 200 and depth = 21\n",
      "[LightGBM] [Debug] Trained a tree with leaves = 200 and depth = 20\n",
      "[LightGBM] [Debug] Trained a tree with leaves = 200 and depth = 24\n",
      "[LightGBM] [Debug] Trained a tree with leaves = 200 and depth = 23\n",
      "[LightGBM] [Debug] Trained a tree with leaves = 200 and depth = 18\n",
      "[LightGBM] [Debug] Trained a tree with leaves = 200 and depth = 22\n",
      "[LightGBM] [Debug] Trained a tree with leaves = 200 and depth = 22\n",
      "[LightGBM] [Debug] Trained a tree with leaves = 200 and depth = 23\n",
      "[LightGBM] [Debug] Trained a tree with leaves = 200 and depth = 16\n",
      "[LightGBM] [Debug] Trained a tree with leaves = 200 and depth = 19\n",
      "[LightGBM] [Debug] Trained a tree with leaves = 200 and depth = 15\n",
      "[LightGBM] [Debug] Trained a tree with leaves = 200 and depth = 25\n",
      "[LightGBM] [Debug] Trained a tree with leaves = 200 and depth = 21\n",
      "[LightGBM] [Debug] Trained a tree with leaves = 200 and depth = 20\n",
      "[LightGBM] [Debug] Trained a tree with leaves = 200 and depth = 19\n",
      "[LightGBM] [Debug] Trained a tree with leaves = 200 and depth = 24\n",
      "[LightGBM] [Debug] Trained a tree with leaves = 200 and depth = 20\n",
      "[LightGBM] [Debug] Trained a tree with leaves = 200 and depth = 23\n",
      "[LightGBM] [Debug] Trained a tree with leaves = 200 and depth = 22\n",
      "[LightGBM] [Debug] Trained a tree with leaves = 200 and depth = 17\n",
      "[LightGBM] [Debug] Trained a tree with leaves = 200 and depth = 23\n",
      "[LightGBM] [Debug] Trained a tree with leaves = 200 and depth = 25\n",
      "[LightGBM] [Debug] Trained a tree with leaves = 200 and depth = 21\n",
      "[LightGBM] [Debug] Trained a tree with leaves = 200 and depth = 18\n",
      "[LightGBM] [Debug] Trained a tree with leaves = 200 and depth = 23\n",
      "[LightGBM] [Debug] Trained a tree with leaves = 200 and depth = 24\n",
      "[LightGBM] [Debug] Trained a tree with leaves = 200 and depth = 21\n",
      "[LightGBM] [Debug] Trained a tree with leaves = 200 and depth = 21\n",
      "[LightGBM] [Debug] Trained a tree with leaves = 200 and depth = 26\n",
      "[LightGBM] [Debug] Trained a tree with leaves = 200 and depth = 27\n",
      "[LightGBM] [Debug] Trained a tree with leaves = 200 and depth = 20\n",
      "[LightGBM] [Debug] Trained a tree with leaves = 200 and depth = 22\n",
      "[LightGBM] [Debug] Trained a tree with leaves = 200 and depth = 27\n",
      "[LightGBM] [Debug] Trained a tree with leaves = 200 and depth = 17\n",
      "[LightGBM] [Debug] Trained a tree with leaves = 200 and depth = 24\n",
      "[LightGBM] [Debug] Trained a tree with leaves = 200 and depth = 17\n",
      "[LightGBM] [Debug] Trained a tree with leaves = 200 and depth = 25\n",
      "[LightGBM] [Debug] Trained a tree with leaves = 200 and depth = 18\n",
      "[LightGBM] [Debug] Trained a tree with leaves = 200 and depth = 20\n",
      "[LightGBM] [Debug] Trained a tree with leaves = 200 and depth = 16\n",
      "[LightGBM] [Debug] Trained a tree with leaves = 200 and depth = 22\n",
      "[LightGBM] [Debug] Trained a tree with leaves = 200 and depth = 22\n",
      "[LightGBM] [Debug] Trained a tree with leaves = 200 and depth = 17\n",
      "[LightGBM] [Debug] Trained a tree with leaves = 200 and depth = 20\n",
      "[LightGBM] [Debug] Trained a tree with leaves = 200 and depth = 17\n",
      "[LightGBM] [Debug] Trained a tree with leaves = 200 and depth = 26\n",
      "[LightGBM] [Debug] Trained a tree with leaves = 200 and depth = 18\n",
      "[LightGBM] [Debug] Trained a tree with leaves = 200 and depth = 21\n",
      "[LightGBM] [Debug] Trained a tree with leaves = 200 and depth = 20\n",
      "[LightGBM] [Debug] Trained a tree with leaves = 200 and depth = 19\n",
      "[LightGBM] [Debug] Trained a tree with leaves = 200 and depth = 17\n",
      "[LightGBM] [Debug] Trained a tree with leaves = 200 and depth = 19\n",
      "[LightGBM] [Debug] Trained a tree with leaves = 200 and depth = 23\n",
      "[LightGBM] [Debug] Trained a tree with leaves = 200 and depth = 26\n",
      "[LightGBM] [Debug] Trained a tree with leaves = 200 and depth = 20\n",
      "[LightGBM] [Debug] Trained a tree with leaves = 200 and depth = 19\n",
      "[LightGBM] [Debug] Trained a tree with leaves = 200 and depth = 24\n",
      "[LightGBM] [Debug] Trained a tree with leaves = 200 and depth = 22\n",
      "[LightGBM] [Debug] Trained a tree with leaves = 200 and depth = 18\n",
      "[LightGBM] [Debug] Trained a tree with leaves = 200 and depth = 19\n",
      "[LightGBM] [Debug] Trained a tree with leaves = 200 and depth = 17\n",
      "[LightGBM] [Debug] Trained a tree with leaves = 200 and depth = 24\n",
      "[LightGBM] [Debug] Trained a tree with leaves = 200 and depth = 20\n",
      "[LightGBM] [Debug] Trained a tree with leaves = 200 and depth = 22\n",
      "[LightGBM] [Debug] Trained a tree with leaves = 200 and depth = 22\n",
      "[LightGBM] [Debug] Trained a tree with leaves = 200 and depth = 19\n",
      "[LightGBM] [Debug] Trained a tree with leaves = 200 and depth = 24\n",
      "[LightGBM] [Debug] Trained a tree with leaves = 200 and depth = 20\n",
      "[LightGBM] [Debug] Trained a tree with leaves = 200 and depth = 19\n",
      "[LightGBM] [Debug] Trained a tree with leaves = 200 and depth = 23\n",
      "[LightGBM] [Debug] Trained a tree with leaves = 200 and depth = 24\n",
      "[LightGBM] [Debug] Trained a tree with leaves = 200 and depth = 26\n",
      "[LightGBM] [Debug] Trained a tree with leaves = 200 and depth = 21\n",
      "[LightGBM] [Debug] Trained a tree with leaves = 200 and depth = 21\n",
      "[LightGBM] [Debug] Trained a tree with leaves = 200 and depth = 21\n",
      "[LightGBM] [Debug] Trained a tree with leaves = 200 and depth = 20\n",
      "[LightGBM] [Debug] Trained a tree with leaves = 200 and depth = 16\n",
      "[LightGBM] [Debug] Trained a tree with leaves = 200 and depth = 17\n",
      "[LightGBM] [Debug] Trained a tree with leaves = 200 and depth = 19\n",
      "[LightGBM] [Debug] Trained a tree with leaves = 200 and depth = 18\n",
      "[LightGBM] [Debug] Trained a tree with leaves = 200 and depth = 20\n",
      "[LightGBM] [Debug] Trained a tree with leaves = 200 and depth = 22\n",
      "[LightGBM] [Debug] Dataset::GetMultiBinFromSparseFeatures: sparse rate 0.772643\n",
      "[LightGBM] [Debug] Dataset::GetMultiBinFromAllFeatures: sparse rate 0.227443\n",
      "[LightGBM] [Debug] init for col-wise cost 0.005413 seconds, init for row-wise cost 0.094253 seconds\n",
      "[LightGBM] [Warning] Auto-choosing row-wise multi-threading, the overhead of testing was 0.009503 seconds.\n",
      "You can set `force_row_wise=true` to remove the overhead.\n",
      "And if memory is not enough, you can set `force_col_wise=true`.\n",
      "[LightGBM] [Debug] Using Dense Multi-Val Bin\n",
      "[LightGBM] [Info] Total Bins 678\n",
      "[LightGBM] [Info] Number of data points in the train set: 255702, number of used features: 11\n",
      "[LightGBM] [Info] Start training from score 4587.433939\n",
      "[LightGBM] [Debug] Trained a tree with leaves = 200 and depth = 12\n",
      "[LightGBM] [Debug] Trained a tree with leaves = 200 and depth = 11\n",
      "[LightGBM] [Debug] Trained a tree with leaves = 200 and depth = 12\n",
      "[LightGBM] [Debug] Trained a tree with leaves = 200 and depth = 12\n",
      "[LightGBM] [Debug] Trained a tree with leaves = 200 and depth = 12\n",
      "[LightGBM] [Debug] Trained a tree with leaves = 200 and depth = 12\n",
      "[LightGBM] [Debug] Trained a tree with leaves = 200 and depth = 12\n",
      "[LightGBM] [Debug] Trained a tree with leaves = 200 and depth = 12\n",
      "[LightGBM] [Debug] Trained a tree with leaves = 200 and depth = 13\n",
      "[LightGBM] [Debug] Trained a tree with leaves = 200 and depth = 12\n",
      "[LightGBM] [Debug] Trained a tree with leaves = 200 and depth = 12\n",
      "[LightGBM] [Debug] Trained a tree with leaves = 200 and depth = 12\n",
      "[LightGBM] [Debug] Trained a tree with leaves = 200 and depth = 14\n",
      "[LightGBM] [Debug] Trained a tree with leaves = 200 and depth = 15\n",
      "[LightGBM] [Debug] Trained a tree with leaves = 200 and depth = 15\n",
      "[LightGBM] [Debug] Trained a tree with leaves = 200 and depth = 13\n",
      "[LightGBM] [Debug] Trained a tree with leaves = 200 and depth = 13\n",
      "[LightGBM] [Debug] Trained a tree with leaves = 200 and depth = 15\n",
      "[LightGBM] [Debug] Trained a tree with leaves = 200 and depth = 17\n",
      "[LightGBM] [Debug] Trained a tree with leaves = 200 and depth = 13\n",
      "[LightGBM] [Debug] Trained a tree with leaves = 200 and depth = 19\n",
      "[LightGBM] [Debug] Trained a tree with leaves = 200 and depth = 14\n",
      "[LightGBM] [Debug] Trained a tree with leaves = 200 and depth = 15\n",
      "[LightGBM] [Debug] Trained a tree with leaves = 200 and depth = 15\n",
      "[LightGBM] [Debug] Trained a tree with leaves = 200 and depth = 17\n",
      "[LightGBM] [Debug] Trained a tree with leaves = 200 and depth = 17\n",
      "[LightGBM] [Debug] Trained a tree with leaves = 200 and depth = 16\n",
      "[LightGBM] [Debug] Trained a tree with leaves = 200 and depth = 16\n",
      "[LightGBM] [Debug] Trained a tree with leaves = 200 and depth = 18\n",
      "[LightGBM] [Debug] Trained a tree with leaves = 200 and depth = 18\n",
      "[LightGBM] [Debug] Trained a tree with leaves = 200 and depth = 15\n",
      "[LightGBM] [Debug] Trained a tree with leaves = 200 and depth = 16\n",
      "[LightGBM] [Debug] Trained a tree with leaves = 200 and depth = 16\n",
      "[LightGBM] [Debug] Trained a tree with leaves = 200 and depth = 16\n",
      "[LightGBM] [Debug] Trained a tree with leaves = 200 and depth = 18\n",
      "[LightGBM] [Debug] Trained a tree with leaves = 200 and depth = 15\n",
      "[LightGBM] [Debug] Trained a tree with leaves = 200 and depth = 19\n",
      "[LightGBM] [Debug] Trained a tree with leaves = 200 and depth = 14\n",
      "[LightGBM] [Debug] Trained a tree with leaves = 200 and depth = 19\n",
      "[LightGBM] [Debug] Trained a tree with leaves = 200 and depth = 21\n",
      "[LightGBM] [Debug] Trained a tree with leaves = 200 and depth = 16\n",
      "[LightGBM] [Debug] Trained a tree with leaves = 200 and depth = 16\n",
      "[LightGBM] [Debug] Trained a tree with leaves = 200 and depth = 19\n",
      "[LightGBM] [Debug] Trained a tree with leaves = 200 and depth = 18\n",
      "[LightGBM] [Debug] Trained a tree with leaves = 200 and depth = 21\n",
      "[LightGBM] [Debug] Trained a tree with leaves = 200 and depth = 19\n",
      "[LightGBM] [Debug] Trained a tree with leaves = 200 and depth = 19\n",
      "[LightGBM] [Debug] Trained a tree with leaves = 200 and depth = 21\n",
      "[LightGBM] [Debug] Trained a tree with leaves = 200 and depth = 20\n",
      "[LightGBM] [Debug] Trained a tree with leaves = 200 and depth = 17\n",
      "[LightGBM] [Debug] Trained a tree with leaves = 200 and depth = 22\n",
      "[LightGBM] [Debug] Trained a tree with leaves = 200 and depth = 20\n",
      "[LightGBM] [Debug] Trained a tree with leaves = 200 and depth = 22\n",
      "[LightGBM] [Debug] Trained a tree with leaves = 200 and depth = 20\n",
      "[LightGBM] [Debug] Trained a tree with leaves = 200 and depth = 23\n",
      "[LightGBM] [Debug] Trained a tree with leaves = 200 and depth = 18\n",
      "[LightGBM] [Debug] Trained a tree with leaves = 200 and depth = 19\n",
      "[LightGBM] [Debug] Trained a tree with leaves = 200 and depth = 19\n",
      "[LightGBM] [Debug] Trained a tree with leaves = 200 and depth = 20\n",
      "[LightGBM] [Debug] Trained a tree with leaves = 200 and depth = 25\n",
      "[LightGBM] [Debug] Trained a tree with leaves = 200 and depth = 23\n",
      "[LightGBM] [Debug] Trained a tree with leaves = 200 and depth = 19\n",
      "[LightGBM] [Debug] Trained a tree with leaves = 200 and depth = 22\n",
      "[LightGBM] [Debug] Trained a tree with leaves = 200 and depth = 23\n",
      "[LightGBM] [Debug] Trained a tree with leaves = 200 and depth = 17\n",
      "[LightGBM] [Debug] Trained a tree with leaves = 200 and depth = 23\n",
      "[LightGBM] [Debug] Trained a tree with leaves = 200 and depth = 23\n",
      "[LightGBM] [Debug] Trained a tree with leaves = 200 and depth = 22\n",
      "[LightGBM] [Debug] Trained a tree with leaves = 200 and depth = 22\n",
      "[LightGBM] [Debug] Trained a tree with leaves = 200 and depth = 24\n",
      "[LightGBM] [Debug] Trained a tree with leaves = 200 and depth = 17\n",
      "[LightGBM] [Debug] Trained a tree with leaves = 200 and depth = 18\n",
      "[LightGBM] [Debug] Trained a tree with leaves = 200 and depth = 20\n",
      "[LightGBM] [Debug] Trained a tree with leaves = 200 and depth = 25\n",
      "[LightGBM] [Debug] Trained a tree with leaves = 200 and depth = 21\n",
      "[LightGBM] [Debug] Trained a tree with leaves = 200 and depth = 19\n",
      "[LightGBM] [Debug] Trained a tree with leaves = 200 and depth = 21\n",
      "[LightGBM] [Debug] Trained a tree with leaves = 200 and depth = 22\n",
      "[LightGBM] [Debug] Trained a tree with leaves = 200 and depth = 18\n",
      "[LightGBM] [Debug] Trained a tree with leaves = 200 and depth = 23\n",
      "[LightGBM] [Debug] Trained a tree with leaves = 200 and depth = 20\n",
      "[LightGBM] [Debug] Trained a tree with leaves = 200 and depth = 23\n",
      "[LightGBM] [Debug] Trained a tree with leaves = 200 and depth = 20\n",
      "[LightGBM] [Debug] Trained a tree with leaves = 200 and depth = 23\n",
      "[LightGBM] [Debug] Trained a tree with leaves = 200 and depth = 18\n",
      "[LightGBM] [Debug] Trained a tree with leaves = 200 and depth = 22\n",
      "[LightGBM] [Debug] Trained a tree with leaves = 200 and depth = 24\n",
      "[LightGBM] [Debug] Trained a tree with leaves = 200 and depth = 22\n",
      "[LightGBM] [Debug] Trained a tree with leaves = 200 and depth = 25\n",
      "[LightGBM] [Debug] Trained a tree with leaves = 200 and depth = 20\n",
      "[LightGBM] [Debug] Trained a tree with leaves = 200 and depth = 20\n",
      "[LightGBM] [Debug] Trained a tree with leaves = 200 and depth = 17\n",
      "[LightGBM] [Debug] Trained a tree with leaves = 200 and depth = 28\n",
      "[LightGBM] [Debug] Trained a tree with leaves = 200 and depth = 21\n",
      "[LightGBM] [Debug] Trained a tree with leaves = 200 and depth = 21\n",
      "[LightGBM] [Debug] Trained a tree with leaves = 200 and depth = 20\n",
      "[LightGBM] [Debug] Trained a tree with leaves = 200 and depth = 19\n",
      "[LightGBM] [Debug] Trained a tree with leaves = 200 and depth = 19\n",
      "[LightGBM] [Debug] Trained a tree with leaves = 200 and depth = 17\n",
      "[LightGBM] [Debug] Trained a tree with leaves = 200 and depth = 18\n",
      "Лучшие гиперпараметры:\n",
      "\n",
      "{'learning_rate': 0.1, 'num_leaves': 200, 'random_state': 12345, 'verbose': 10}\n",
      "\n",
      "Значения RMSE для разных гиперпараметров:\n",
      "\n",
      "1609.932413 for {'learning_rate': 0.1, 'num_leaves': 100, 'random_state': 12345, 'verbose': 10}\n",
      "1583.267647 for {'learning_rate': 0.1, 'num_leaves': 200, 'random_state': 12345, 'verbose': 10}\n",
      "1607.028113 for {'learning_rate': 0.3, 'num_leaves': 100, 'random_state': 12345, 'verbose': 10}\n",
      "1595.497759 for {'learning_rate': 0.3, 'num_leaves': 200, 'random_state': 12345, 'verbose': 10}\n",
      "1645.592194 for {'learning_rate': 0.5, 'num_leaves': 100, 'random_state': 12345, 'verbose': 10}\n",
      "1643.089873 for {'learning_rate': 0.5, 'num_leaves': 200, 'random_state': 12345, 'verbose': 10}\n",
      "\n",
      "CPU times: user 8min 21s, sys: 4.64 s, total: 8min 25s\n",
      "Wall time: 8min 35s\n"
     ]
    }
   ],
   "source": [
    "%%time\n",
    "regressor = LGBMRegressor() \n",
    "hyperparams = [{'num_leaves':[100, 200], \n",
    "                'learning_rate':[0.1, 0.3, 0.5],\n",
    "                'random_state':[12345]}]\n",
    "\n",
    "print('# Идет подбор гиперпараметров')\n",
    "print()\n",
    "clf = GridSearchCV(regressor, hyperparams, scoring='neg_mean_squared_error')\n",
    "clf.fit(ordinal_features_train, target_train, categorical_feature = ['VehicleType', 'Gearbox', 'Model', 'FuelType', 'Brand', 'NotRepaired', 'CarsCat'])\n",
    "print('Лучшие гиперпараметры:')\n",
    "print()\n",
    "print(clf.best_params_)\n",
    "print()\n",
    "print('Значения RMSE для разных гиперпараметров:')\n",
    "print()\n",
    "means = clf.cv_results_['mean_test_score']\n",
    "stds = clf.cv_results_['std_test_score']\n",
    "for mean, std, params in zip(means, stds, clf.cv_results_['params']):\n",
    "    print(\"%0.6f for %r\"% ((mean*-1)** 0.5, params))\n",
    "print()\n",
    "\n",
    "cv_RMSE_LGBMR = (max(means)*-1) ** 0.5"
   ]
  },
  {
   "cell_type": "markdown",
   "metadata": {},
   "source": [
    "**Вывод:** Лучшую точноть на тренировочной выборке показывает модель  LGBMRegressor с параметрами 'learning_rate': 0.3, 'num_leaves': 200, 'random_state': 12345.  Но подбор лучших гиперпараметров для этой модели занимает больше всего времени. Причем это время варьируется в очень широком диапазоне от 7 до 30 минут."
   ]
  },
  {
   "cell_type": "markdown",
   "metadata": {},
   "source": [
    "## Анализ моделей"
   ]
  },
  {
   "cell_type": "markdown",
   "metadata": {},
   "source": [
    "Проверим точность и скорость работы моделей с лучшими параметрами на тестовой выборке."
   ]
  },
  {
   "cell_type": "markdown",
   "metadata": {},
   "source": [
    " Модель LinearRegression"
   ]
  },
  {
   "cell_type": "code",
   "execution_count": 38,
   "metadata": {},
   "outputs": [
    {
     "name": "stdout",
     "output_type": "stream",
     "text": [
      "RMSE_LR 2755.8817858860675\n",
      "Время обучения модели: 30.43\n",
      "Время предсказания: 0.20\n"
     ]
    }
   ],
   "source": [
    "model = LinearRegression()\n",
    "start_model_LR = time()\n",
    "model.fit(ohe_features_train, target_train)\n",
    "end_model_LR = time()\n",
    "start_predict_LR = time()\n",
    "target_predict = model.predict(ohe_features_test)\n",
    "end_predict_LR = time()\n",
    "final_RMSE_LR = mean_squared_error(target_test, target_predict) ** 0.5\n",
    "print('RMSE_LR', final_RMSE_LR)\n",
    "print('Время обучения модели: {:.2f}'.format(end_model_LR - start_model_LR))\n",
    "print('Время предсказания: {:.2f}'.format(end_predict_LR - start_predict_LR))"
   ]
  },
  {
   "cell_type": "markdown",
   "metadata": {},
   "source": [
    " Модель CatBoostRegressor"
   ]
  },
  {
   "cell_type": "code",
   "execution_count": 39,
   "metadata": {},
   "outputs": [
    {
     "name": "stderr",
     "output_type": "stream",
     "text": [
      "Custom logger is already specified. Specify more than one logger at same time is not thread safe."
     ]
    },
    {
     "name": "stdout",
     "output_type": "stream",
     "text": [
      "RMSE_CBR 1629.2206098041659\n",
      "Время обучения модели: 612.90\n",
      "Время предсказания: 1.23\n"
     ]
    }
   ],
   "source": [
    "model = CatBoostRegressor(learning_rate=0.5, \n",
    "                          random_state=12345, \n",
    "                          verbose=False)\n",
    "start_model_CBR = time()\n",
    "model.fit(ordinal_features_train, target_train, cat_features = ['VehicleType', 'FuelType', 'Brand', 'Model', 'Gearbox', 'NotRepaired', 'CarsCat'])\n",
    "end_model_CBR = time()\n",
    "start_predict_CBR = time()\n",
    "target_predict = model.predict(ordinal_features_test)\n",
    "end_predict_CBR = time()\n",
    "final_RMSE_CBR = mean_squared_error(target_test, target_predict) ** 0.5\n",
    "print('RMSE_CBR', final_RMSE_CBR)\n",
    "print('Время обучения модели: {:.2f}'.format(end_model_CBR - start_model_CBR))\n",
    "print('Время предсказания: {:.2f}'.format(end_predict_CBR - start_predict_CBR))"
   ]
  },
  {
   "cell_type": "markdown",
   "metadata": {},
   "source": [
    " Модель LGBMRegressor"
   ]
  },
  {
   "cell_type": "code",
   "execution_count": 40,
   "metadata": {},
   "outputs": [
    {
     "name": "stdout",
     "output_type": "stream",
     "text": [
      "RMSE_LGBMR 1585.9087284381728\n",
      "Время обучения модели: 18.67\n",
      "Время предсказания: 2.60\n"
     ]
    }
   ],
   "source": [
    "model = LGBMRegressor(learning_rate=0.1, \n",
    "                      num_leaves=200, \n",
    "                      random_state=12345)\n",
    "start_model_LGBMR = time()\n",
    "model.fit(ordinal_features_train, target_train, categorical_feature = ['VehicleType', 'Gearbox', 'Model', 'FuelType', 'Brand', 'NotRepaired', 'CarsCat'])\n",
    "end_model_LGBMR = time()\n",
    "start_predict_LGBMR = time()\n",
    "target_predict = model.predict(ordinal_features_test)\n",
    "end_predict_LGBMR = time()\n",
    "final_RMSE_LGBMR = mean_squared_error(target_test, target_predict) ** 0.5\n",
    "print('RMSE_LGBMR', final_RMSE_LGBMR)\n",
    "print('Время обучения модели: {:.2f}'.format(end_model_LGBMR - start_model_LGBMR))\n",
    "print('Время предсказания: {:.2f}'.format(end_predict_LGBMR - start_predict_LGBMR))"
   ]
  },
  {
   "cell_type": "markdown",
   "metadata": {},
   "source": [
    "Соберем результаты работы моделей в общую таблицу."
   ]
  },
  {
   "cell_type": "code",
   "execution_count": 41,
   "metadata": {},
   "outputs": [
    {
     "data": {
      "text/html": [
       "<div>\n",
       "<style scoped>\n",
       "    .dataframe tbody tr th:only-of-type {\n",
       "        vertical-align: middle;\n",
       "    }\n",
       "\n",
       "    .dataframe tbody tr th {\n",
       "        vertical-align: top;\n",
       "    }\n",
       "\n",
       "    .dataframe thead th {\n",
       "        text-align: right;\n",
       "    }\n",
       "</style>\n",
       "<table border=\"1\" class=\"dataframe\">\n",
       "  <thead>\n",
       "    <tr style=\"text-align: right;\">\n",
       "      <th></th>\n",
       "      <th>Model</th>\n",
       "      <th>RMSE</th>\n",
       "      <th>Время обучения, сек</th>\n",
       "      <th>Время предсказания, сек</th>\n",
       "    </tr>\n",
       "  </thead>\n",
       "  <tbody>\n",
       "    <tr>\n",
       "      <th>0</th>\n",
       "      <td>LinearRegression</td>\n",
       "      <td>2755.881786</td>\n",
       "      <td>30.433277</td>\n",
       "      <td>0.199016</td>\n",
       "    </tr>\n",
       "    <tr>\n",
       "      <th>1</th>\n",
       "      <td>CatBoostRegressor</td>\n",
       "      <td>1.000000</td>\n",
       "      <td>612.900905</td>\n",
       "      <td>1.230298</td>\n",
       "    </tr>\n",
       "    <tr>\n",
       "      <th>2</th>\n",
       "      <td>LGBMRegressor</td>\n",
       "      <td>1585.908728</td>\n",
       "      <td>18.672877</td>\n",
       "      <td>2.600201</td>\n",
       "    </tr>\n",
       "  </tbody>\n",
       "</table>\n",
       "</div>"
      ],
      "text/plain": [
       "               Model         RMSE  Время обучения, сек  \\\n",
       "0   LinearRegression  2755.881786            30.433277   \n",
       "1  CatBoostRegressor     1.000000           612.900905   \n",
       "2      LGBMRegressor  1585.908728            18.672877   \n",
       "\n",
       "   Время предсказания, сек  \n",
       "0                 0.199016  \n",
       "1                 1.230298  \n",
       "2                 2.600201  "
      ]
     },
     "metadata": {},
     "output_type": "display_data"
    }
   ],
   "source": [
    "results = {\n",
    "    'Model' : ['LinearRegression', 'CatBoostRegressor', 'LGBMRegressor'],\n",
    "    'RMSE' :pd.Series([final_RMSE_LR, 1, final_RMSE_LGBMR]),\n",
    "    'Время обучения, сек': pd.Series([(end_model_LR-start_model_LR), (end_model_CBR-start_model_CBR), (end_model_LGBMR-start_model_LGBMR)]),\n",
    "    'Время предсказания, сек': pd.Series([(end_predict_LR-start_predict_LR), (end_predict_CBR-start_predict_CBR), (end_predict_LGBMR-start_predict_LGBMR)])\n",
    "    }\n",
    "display(pd.DataFrame(results))"
   ]
  },
  {
   "cell_type": "markdown",
   "metadata": {},
   "source": [
    "**Вывод:** CatBoostRegressor показал лучшие значение PMSE на тестовой выборке, но затратил на это больше всего времени. LGBMRegressor совсем немного проигрывает в точности, но работает гораздо быстрее. Простая модель Линейной регрессии очень сильно проигрывает двум другим в точности."
   ]
  }
 ],
 "metadata": {
  "ExecuteTimeLog": [
   {
    "duration": 2375,
    "start_time": "2022-04-21T08:14:05.885Z"
   },
   {
    "duration": 854,
    "start_time": "2022-04-21T08:15:22.681Z"
   },
   {
    "duration": 845,
    "start_time": "2022-04-21T08:17:11.137Z"
   },
   {
    "duration": 151,
    "start_time": "2022-04-21T08:17:13.832Z"
   },
   {
    "duration": 144,
    "start_time": "2022-04-21T08:17:51.071Z"
   },
   {
    "duration": 94,
    "start_time": "2022-04-21T08:17:53.367Z"
   },
   {
    "duration": 148,
    "start_time": "2022-04-21T08:20:00.644Z"
   },
   {
    "duration": 99,
    "start_time": "2022-04-21T08:20:08.309Z"
   },
   {
    "duration": 115,
    "start_time": "2022-04-21T08:20:11.127Z"
   },
   {
    "duration": 178,
    "start_time": "2022-04-21T08:20:28.878Z"
   },
   {
    "duration": 146,
    "start_time": "2022-04-21T08:31:47.501Z"
   },
   {
    "duration": 456,
    "start_time": "2022-04-21T08:31:51.426Z"
   },
   {
    "duration": 455,
    "start_time": "2022-04-21T08:31:58.946Z"
   },
   {
    "duration": 484,
    "start_time": "2022-04-21T08:32:16.246Z"
   },
   {
    "duration": 487,
    "start_time": "2022-04-21T08:32:21.353Z"
   },
   {
    "duration": 13,
    "start_time": "2022-04-21T08:33:03.476Z"
   },
   {
    "duration": 161,
    "start_time": "2022-04-21T08:34:12.699Z"
   },
   {
    "duration": 166,
    "start_time": "2022-04-21T08:34:24.897Z"
   },
   {
    "duration": 137,
    "start_time": "2022-04-21T08:34:26.492Z"
   },
   {
    "duration": 152,
    "start_time": "2022-04-21T08:34:50.794Z"
   },
   {
    "duration": 297,
    "start_time": "2022-04-21T08:35:04.644Z"
   },
   {
    "duration": 13,
    "start_time": "2022-04-21T08:35:07.348Z"
   },
   {
    "duration": 279,
    "start_time": "2022-04-21T08:38:11.202Z"
   },
   {
    "duration": 19,
    "start_time": "2022-04-21T08:38:15.539Z"
   },
   {
    "duration": 14,
    "start_time": "2022-04-21T08:38:20.492Z"
   },
   {
    "duration": 3,
    "start_time": "2022-04-21T08:39:05.819Z"
   },
   {
    "duration": 836,
    "start_time": "2022-04-21T08:39:05.824Z"
   },
   {
    "duration": 146,
    "start_time": "2022-04-21T08:39:06.661Z"
   },
   {
    "duration": 103,
    "start_time": "2022-04-21T08:39:06.809Z"
   },
   {
    "duration": 135,
    "start_time": "2022-04-21T08:39:06.915Z"
   },
   {
    "duration": 425,
    "start_time": "2022-04-21T08:39:07.052Z"
   },
   {
    "duration": 447,
    "start_time": "2022-04-21T08:39:07.479Z"
   },
   {
    "duration": 281,
    "start_time": "2022-04-21T08:39:07.928Z"
   },
   {
    "duration": 14,
    "start_time": "2022-04-21T08:39:08.210Z"
   },
   {
    "duration": 4,
    "start_time": "2022-04-21T08:58:43.642Z"
   },
   {
    "duration": 1009,
    "start_time": "2022-04-21T08:58:43.649Z"
   },
   {
    "duration": 148,
    "start_time": "2022-04-21T08:58:44.660Z"
   },
   {
    "duration": 108,
    "start_time": "2022-04-21T08:58:44.810Z"
   },
   {
    "duration": 146,
    "start_time": "2022-04-21T08:58:44.921Z"
   },
   {
    "duration": 500,
    "start_time": "2022-04-21T08:58:45.069Z"
   },
   {
    "duration": 488,
    "start_time": "2022-04-21T08:58:45.571Z"
   },
   {
    "duration": 271,
    "start_time": "2022-04-21T08:58:46.061Z"
   },
   {
    "duration": 15,
    "start_time": "2022-04-21T08:58:46.333Z"
   },
   {
    "duration": 229,
    "start_time": "2022-04-21T09:52:01.071Z"
   },
   {
    "duration": 14,
    "start_time": "2022-04-21T11:21:54.685Z"
   },
   {
    "duration": 4,
    "start_time": "2022-04-21T11:22:15.850Z"
   },
   {
    "duration": 1147,
    "start_time": "2022-04-21T11:22:15.856Z"
   },
   {
    "duration": 264,
    "start_time": "2022-04-21T11:22:17.005Z"
   },
   {
    "duration": 129,
    "start_time": "2022-04-21T11:22:17.271Z"
   },
   {
    "duration": 276,
    "start_time": "2022-04-21T11:22:17.403Z"
   },
   {
    "duration": 449,
    "start_time": "2022-04-21T11:22:17.692Z"
   },
   {
    "duration": 449,
    "start_time": "2022-04-21T11:22:18.143Z"
   },
   {
    "duration": 234,
    "start_time": "2022-04-21T11:22:18.594Z"
   },
   {
    "duration": 14,
    "start_time": "2022-04-21T11:22:18.830Z"
   },
   {
    "duration": 124,
    "start_time": "2022-04-25T07:39:01.777Z"
   },
   {
    "duration": 2640,
    "start_time": "2022-04-25T07:39:10.871Z"
   },
   {
    "duration": 1452,
    "start_time": "2022-04-25T07:39:13.514Z"
   },
   {
    "duration": 223,
    "start_time": "2022-04-25T07:39:14.969Z"
   },
   {
    "duration": 147,
    "start_time": "2022-04-25T07:39:15.195Z"
   },
   {
    "duration": 1315,
    "start_time": "2022-04-25T07:39:15.346Z"
   },
   {
    "duration": 291,
    "start_time": "2022-04-25T07:39:16.663Z"
   },
   {
    "duration": 759,
    "start_time": "2022-04-25T07:39:16.956Z"
   },
   {
    "duration": 805,
    "start_time": "2022-04-25T07:39:17.717Z"
   },
   {
    "duration": 363,
    "start_time": "2022-04-25T07:39:18.524Z"
   },
   {
    "duration": 39,
    "start_time": "2022-04-25T07:39:18.890Z"
   },
   {
    "duration": 40,
    "start_time": "2022-04-25T07:50:20.041Z"
   },
   {
    "duration": 195,
    "start_time": "2022-04-25T07:50:36.847Z"
   },
   {
    "duration": 5,
    "start_time": "2022-04-25T07:50:53.895Z"
   },
   {
    "duration": 1673,
    "start_time": "2022-04-25T07:50:53.904Z"
   },
   {
    "duration": 318,
    "start_time": "2022-04-25T07:50:55.583Z"
   },
   {
    "duration": 131,
    "start_time": "2022-04-25T07:50:55.904Z"
   },
   {
    "duration": 1195,
    "start_time": "2022-04-25T07:50:56.038Z"
   },
   {
    "duration": 206,
    "start_time": "2022-04-25T07:50:57.236Z"
   },
   {
    "duration": 716,
    "start_time": "2022-04-25T07:50:57.444Z"
   },
   {
    "duration": 770,
    "start_time": "2022-04-25T07:50:58.162Z"
   },
   {
    "duration": 399,
    "start_time": "2022-04-25T07:50:58.935Z"
   },
   {
    "duration": 22,
    "start_time": "2022-04-25T07:50:59.336Z"
   },
   {
    "duration": 74,
    "start_time": "2022-04-25T07:50:59.361Z"
   },
   {
    "duration": 4029,
    "start_time": "2022-04-25T07:50:59.437Z"
   },
   {
    "duration": 527,
    "start_time": "2022-04-25T07:56:20.093Z"
   },
   {
    "duration": 396,
    "start_time": "2022-04-25T07:56:37.343Z"
   },
   {
    "duration": 689,
    "start_time": "2022-04-25T07:57:16.866Z"
   },
   {
    "duration": 595,
    "start_time": "2022-04-25T07:57:27.380Z"
   },
   {
    "duration": 789,
    "start_time": "2022-04-25T07:57:41.935Z"
   },
   {
    "duration": 822,
    "start_time": "2022-04-25T07:58:17.416Z"
   },
   {
    "duration": 747,
    "start_time": "2022-04-25T07:59:35.946Z"
   },
   {
    "duration": 572,
    "start_time": "2022-04-25T08:01:24.355Z"
   },
   {
    "duration": 681,
    "start_time": "2022-04-25T08:03:37.439Z"
   },
   {
    "duration": 698,
    "start_time": "2022-04-25T08:04:00.962Z"
   },
   {
    "duration": 811,
    "start_time": "2022-04-25T08:04:09.229Z"
   },
   {
    "duration": 681,
    "start_time": "2022-04-25T08:16:18.377Z"
   },
   {
    "duration": 663,
    "start_time": "2022-04-25T08:17:47.133Z"
   },
   {
    "duration": 567,
    "start_time": "2022-04-25T08:20:28.703Z"
   },
   {
    "duration": 714,
    "start_time": "2022-04-25T08:24:12.270Z"
   },
   {
    "duration": 780,
    "start_time": "2022-04-25T08:24:32.030Z"
   },
   {
    "duration": 799,
    "start_time": "2022-04-25T08:25:08.711Z"
   },
   {
    "duration": 590,
    "start_time": "2022-04-25T08:25:35.331Z"
   },
   {
    "duration": 551,
    "start_time": "2022-04-25T08:25:48.020Z"
   },
   {
    "duration": 732,
    "start_time": "2022-04-25T08:25:58.072Z"
   },
   {
    "duration": 550,
    "start_time": "2022-04-25T08:26:11.299Z"
   },
   {
    "duration": 907,
    "start_time": "2022-04-25T08:26:33.019Z"
   },
   {
    "duration": 504,
    "start_time": "2022-04-25T08:26:40.656Z"
   },
   {
    "duration": 584,
    "start_time": "2022-04-25T08:26:59.553Z"
   },
   {
    "duration": 805,
    "start_time": "2022-04-25T08:27:22.720Z"
   },
   {
    "duration": 576,
    "start_time": "2022-04-25T08:27:34.932Z"
   },
   {
    "duration": 541,
    "start_time": "2022-04-25T08:28:34.001Z"
   },
   {
    "duration": 494,
    "start_time": "2022-04-25T08:32:27.402Z"
   },
   {
    "duration": 476,
    "start_time": "2022-04-25T08:34:06.026Z"
   },
   {
    "duration": 641,
    "start_time": "2022-04-25T08:34:29.217Z"
   },
   {
    "duration": 715,
    "start_time": "2022-04-25T08:34:55.376Z"
   },
   {
    "duration": 846,
    "start_time": "2022-04-25T08:35:01.003Z"
   },
   {
    "duration": 935,
    "start_time": "2022-04-25T08:35:06.130Z"
   },
   {
    "duration": 662,
    "start_time": "2022-04-25T08:35:16.982Z"
   },
   {
    "duration": 637,
    "start_time": "2022-04-25T08:35:49.909Z"
   },
   {
    "duration": 781,
    "start_time": "2022-04-25T08:36:13.456Z"
   },
   {
    "duration": 525,
    "start_time": "2022-04-25T08:37:19.186Z"
   },
   {
    "duration": 806,
    "start_time": "2022-04-25T08:49:17.735Z"
   },
   {
    "duration": 69,
    "start_time": "2022-04-25T08:58:48.714Z"
   },
   {
    "duration": 109,
    "start_time": "2022-04-25T08:59:19.074Z"
   },
   {
    "duration": 90,
    "start_time": "2022-04-25T08:59:43.779Z"
   },
   {
    "duration": 164,
    "start_time": "2022-04-25T09:00:14.933Z"
   },
   {
    "duration": 4,
    "start_time": "2022-04-25T11:13:43.871Z"
   },
   {
    "duration": 6380,
    "start_time": "2022-04-25T11:13:43.877Z"
   },
   {
    "duration": 185,
    "start_time": "2022-04-25T11:13:50.259Z"
   },
   {
    "duration": 128,
    "start_time": "2022-04-25T11:13:50.447Z"
   },
   {
    "duration": 1116,
    "start_time": "2022-04-25T11:13:50.581Z"
   },
   {
    "duration": 315,
    "start_time": "2022-04-25T11:13:51.700Z"
   },
   {
    "duration": 958,
    "start_time": "2022-04-25T11:13:52.018Z"
   },
   {
    "duration": 678,
    "start_time": "2022-04-25T11:13:52.981Z"
   },
   {
    "duration": 297,
    "start_time": "2022-04-25T11:13:53.661Z"
   },
   {
    "duration": 32,
    "start_time": "2022-04-25T11:13:53.964Z"
   },
   {
    "duration": 698,
    "start_time": "2022-04-25T11:13:53.998Z"
   },
   {
    "duration": 716,
    "start_time": "2022-04-25T11:13:54.698Z"
   },
   {
    "duration": 503,
    "start_time": "2022-04-25T11:13:55.416Z"
   },
   {
    "duration": 625,
    "start_time": "2022-04-25T11:13:55.921Z"
   },
   {
    "duration": 259,
    "start_time": "2022-04-25T11:13:56.548Z"
   },
   {
    "duration": 36,
    "start_time": "2022-04-25T11:13:56.810Z"
   },
   {
    "duration": 18,
    "start_time": "2022-04-25T11:18:19.698Z"
   },
   {
    "duration": 7,
    "start_time": "2022-04-25T11:18:40.640Z"
   },
   {
    "duration": 1185,
    "start_time": "2022-04-25T11:18:40.650Z"
   },
   {
    "duration": 174,
    "start_time": "2022-04-25T11:18:41.837Z"
   },
   {
    "duration": 133,
    "start_time": "2022-04-25T11:18:42.014Z"
   },
   {
    "duration": 1775,
    "start_time": "2022-04-25T11:18:42.150Z"
   },
   {
    "duration": 224,
    "start_time": "2022-04-25T11:18:43.928Z"
   },
   {
    "duration": 685,
    "start_time": "2022-04-25T11:18:44.156Z"
   },
   {
    "duration": 746,
    "start_time": "2022-04-25T11:18:44.843Z"
   },
   {
    "duration": 302,
    "start_time": "2022-04-25T11:18:45.592Z"
   },
   {
    "duration": 20,
    "start_time": "2022-04-25T11:18:45.897Z"
   },
   {
    "duration": 617,
    "start_time": "2022-04-25T11:18:45.919Z"
   },
   {
    "duration": 635,
    "start_time": "2022-04-25T11:18:46.538Z"
   },
   {
    "duration": 623,
    "start_time": "2022-04-25T11:18:47.181Z"
   },
   {
    "duration": 768,
    "start_time": "2022-04-25T11:18:47.807Z"
   },
   {
    "duration": 276,
    "start_time": "2022-04-25T11:18:48.581Z"
   },
   {
    "duration": 49,
    "start_time": "2022-04-25T11:18:48.860Z"
   },
   {
    "duration": 65,
    "start_time": "2022-04-25T11:19:15.221Z"
   },
   {
    "duration": 532,
    "start_time": "2022-04-25T11:19:55.305Z"
   },
   {
    "duration": 1083,
    "start_time": "2022-04-25T11:19:55.840Z"
   },
   {
    "duration": 185,
    "start_time": "2022-04-25T11:19:56.926Z"
   },
   {
    "duration": 134,
    "start_time": "2022-04-25T11:19:57.114Z"
   },
   {
    "duration": 1156,
    "start_time": "2022-04-25T11:19:57.251Z"
   },
   {
    "duration": 185,
    "start_time": "2022-04-25T11:19:58.409Z"
   },
   {
    "duration": 716,
    "start_time": "2022-04-25T11:19:58.597Z"
   },
   {
    "duration": 739,
    "start_time": "2022-04-25T11:19:59.316Z"
   },
   {
    "duration": 500,
    "start_time": "2022-04-25T11:20:00.058Z"
   },
   {
    "duration": 35,
    "start_time": "2022-04-25T11:20:00.561Z"
   },
   {
    "duration": 720,
    "start_time": "2022-04-25T11:20:00.598Z"
   },
   {
    "duration": 638,
    "start_time": "2022-04-25T11:20:01.321Z"
   },
   {
    "duration": 896,
    "start_time": "2022-04-25T11:20:01.962Z"
   },
   {
    "duration": 909,
    "start_time": "2022-04-25T11:20:02.862Z"
   },
   {
    "duration": 358,
    "start_time": "2022-04-25T11:20:03.773Z"
   },
   {
    "duration": 66,
    "start_time": "2022-04-25T11:20:04.134Z"
   },
   {
    "duration": 3326,
    "start_time": "2022-04-25T11:20:04.203Z"
   },
   {
    "duration": 56,
    "start_time": "2022-04-25T11:24:12.254Z"
   },
   {
    "duration": 614,
    "start_time": "2022-04-25T11:24:35.019Z"
   },
   {
    "duration": 27,
    "start_time": "2022-04-25T11:24:44.687Z"
   },
   {
    "duration": 24,
    "start_time": "2022-04-25T11:25:06.515Z"
   },
   {
    "duration": 5,
    "start_time": "2022-04-25T11:25:12.796Z"
   },
   {
    "duration": 1297,
    "start_time": "2022-04-25T11:25:12.805Z"
   },
   {
    "duration": 184,
    "start_time": "2022-04-25T11:25:14.104Z"
   },
   {
    "duration": 124,
    "start_time": "2022-04-25T11:25:14.291Z"
   },
   {
    "duration": 1343,
    "start_time": "2022-04-25T11:25:14.417Z"
   },
   {
    "duration": 171,
    "start_time": "2022-04-25T11:25:15.762Z"
   },
   {
    "duration": 674,
    "start_time": "2022-04-25T11:25:15.936Z"
   },
   {
    "duration": 700,
    "start_time": "2022-04-25T11:25:16.612Z"
   },
   {
    "duration": 312,
    "start_time": "2022-04-25T11:25:17.315Z"
   },
   {
    "duration": 30,
    "start_time": "2022-04-25T11:25:17.629Z"
   },
   {
    "duration": 621,
    "start_time": "2022-04-25T11:25:17.661Z"
   },
   {
    "duration": 641,
    "start_time": "2022-04-25T11:25:18.286Z"
   },
   {
    "duration": 719,
    "start_time": "2022-04-25T11:25:18.930Z"
   },
   {
    "duration": 630,
    "start_time": "2022-04-25T11:25:19.651Z"
   },
   {
    "duration": 262,
    "start_time": "2022-04-25T11:25:20.284Z"
   },
   {
    "duration": 51,
    "start_time": "2022-04-25T11:25:20.548Z"
   },
   {
    "duration": 626,
    "start_time": "2022-04-25T11:25:20.602Z"
   },
   {
    "duration": 29,
    "start_time": "2022-04-25T11:25:21.232Z"
   },
   {
    "duration": 20,
    "start_time": "2022-04-25T11:25:39.364Z"
   },
   {
    "duration": 51,
    "start_time": "2022-04-25T11:25:57.886Z"
   },
   {
    "duration": 16,
    "start_time": "2022-04-25T11:26:04.604Z"
   },
   {
    "duration": 80,
    "start_time": "2022-04-25T11:26:31.287Z"
   },
   {
    "duration": 51,
    "start_time": "2022-04-26T08:06:39.284Z"
   },
   {
    "duration": 7,
    "start_time": "2022-04-26T08:07:47.315Z"
   },
   {
    "duration": 6,
    "start_time": "2022-04-26T08:07:52.434Z"
   },
   {
    "duration": 6,
    "start_time": "2022-04-26T08:09:37.846Z"
   },
   {
    "duration": 1907,
    "start_time": "2022-04-26T08:15:56.548Z"
   },
   {
    "duration": 851,
    "start_time": "2022-04-26T08:15:58.458Z"
   },
   {
    "duration": 148,
    "start_time": "2022-04-26T08:15:59.311Z"
   },
   {
    "duration": 110,
    "start_time": "2022-04-26T08:15:59.461Z"
   },
   {
    "duration": 907,
    "start_time": "2022-04-26T08:15:59.575Z"
   },
   {
    "duration": 197,
    "start_time": "2022-04-26T08:16:00.484Z"
   },
   {
    "duration": 590,
    "start_time": "2022-04-26T08:16:00.683Z"
   },
   {
    "duration": 571,
    "start_time": "2022-04-26T08:16:01.275Z"
   },
   {
    "duration": 253,
    "start_time": "2022-04-26T08:16:01.848Z"
   },
   {
    "duration": 15,
    "start_time": "2022-04-26T08:16:02.103Z"
   },
   {
    "duration": 606,
    "start_time": "2022-04-26T08:16:02.120Z"
   },
   {
    "duration": 475,
    "start_time": "2022-04-26T08:16:02.733Z"
   },
   {
    "duration": 371,
    "start_time": "2022-04-26T08:16:03.210Z"
   },
   {
    "duration": 451,
    "start_time": "2022-04-26T08:16:03.584Z"
   },
   {
    "duration": 202,
    "start_time": "2022-04-26T08:16:04.037Z"
   },
   {
    "duration": 22,
    "start_time": "2022-04-26T08:16:04.240Z"
   },
   {
    "duration": 114,
    "start_time": "2022-04-26T08:16:04.263Z"
   },
   {
    "duration": 0,
    "start_time": "2022-04-26T08:16:04.379Z"
   },
   {
    "duration": 0,
    "start_time": "2022-04-26T08:16:04.381Z"
   },
   {
    "duration": 0,
    "start_time": "2022-04-26T08:16:04.383Z"
   },
   {
    "duration": 0,
    "start_time": "2022-04-26T08:16:04.384Z"
   },
   {
    "duration": 412,
    "start_time": "2022-04-26T08:18:58.587Z"
   },
   {
    "duration": 24,
    "start_time": "2022-04-26T08:19:04.778Z"
   },
   {
    "duration": 67,
    "start_time": "2022-04-26T08:19:05.297Z"
   },
   {
    "duration": 3,
    "start_time": "2022-04-26T08:19:05.795Z"
   },
   {
    "duration": 2747,
    "start_time": "2022-04-26T08:19:06.283Z"
   },
   {
    "duration": 56,
    "start_time": "2022-04-26T08:21:25.305Z"
   },
   {
    "duration": 4,
    "start_time": "2022-04-26T08:21:28.053Z"
   },
   {
    "duration": 4,
    "start_time": "2022-04-26T08:22:50.879Z"
   },
   {
    "duration": 874,
    "start_time": "2022-04-26T08:22:50.885Z"
   },
   {
    "duration": 131,
    "start_time": "2022-04-26T08:22:51.761Z"
   },
   {
    "duration": 112,
    "start_time": "2022-04-26T08:22:51.894Z"
   },
   {
    "duration": 891,
    "start_time": "2022-04-26T08:22:52.009Z"
   },
   {
    "duration": 139,
    "start_time": "2022-04-26T08:22:52.902Z"
   },
   {
    "duration": 452,
    "start_time": "2022-04-26T08:22:53.043Z"
   },
   {
    "duration": 447,
    "start_time": "2022-04-26T08:22:53.497Z"
   },
   {
    "duration": 242,
    "start_time": "2022-04-26T08:22:53.946Z"
   },
   {
    "duration": 13,
    "start_time": "2022-04-26T08:22:54.190Z"
   },
   {
    "duration": 418,
    "start_time": "2022-04-26T08:22:54.205Z"
   },
   {
    "duration": 504,
    "start_time": "2022-04-26T08:22:54.633Z"
   },
   {
    "duration": 353,
    "start_time": "2022-04-26T08:22:55.138Z"
   },
   {
    "duration": 428,
    "start_time": "2022-04-26T08:22:55.494Z"
   },
   {
    "duration": 183,
    "start_time": "2022-04-26T08:22:55.924Z"
   },
   {
    "duration": 35,
    "start_time": "2022-04-26T08:22:56.108Z"
   },
   {
    "duration": 446,
    "start_time": "2022-04-26T08:22:56.144Z"
   },
   {
    "duration": 27,
    "start_time": "2022-04-26T08:22:56.591Z"
   },
   {
    "duration": 59,
    "start_time": "2022-04-26T08:22:56.619Z"
   },
   {
    "duration": 4,
    "start_time": "2022-04-26T08:22:56.680Z"
   },
   {
    "duration": 4,
    "start_time": "2022-04-26T08:25:29.215Z"
   },
   {
    "duration": 200,
    "start_time": "2022-04-26T08:25:31.556Z"
   },
   {
    "duration": 8,
    "start_time": "2022-04-26T08:26:38.459Z"
   },
   {
    "duration": 4,
    "start_time": "2022-04-26T08:27:28.580Z"
   },
   {
    "duration": 788,
    "start_time": "2022-04-26T08:27:28.586Z"
   },
   {
    "duration": 136,
    "start_time": "2022-04-26T08:27:29.376Z"
   },
   {
    "duration": 102,
    "start_time": "2022-04-26T08:27:29.514Z"
   },
   {
    "duration": 864,
    "start_time": "2022-04-26T08:27:29.619Z"
   },
   {
    "duration": 136,
    "start_time": "2022-04-26T08:27:30.485Z"
   },
   {
    "duration": 441,
    "start_time": "2022-04-26T08:27:30.622Z"
   },
   {
    "duration": 463,
    "start_time": "2022-04-26T08:27:31.064Z"
   },
   {
    "duration": 234,
    "start_time": "2022-04-26T08:27:31.529Z"
   },
   {
    "duration": 14,
    "start_time": "2022-04-26T08:27:31.764Z"
   },
   {
    "duration": 423,
    "start_time": "2022-04-26T08:27:31.780Z"
   },
   {
    "duration": 538,
    "start_time": "2022-04-26T08:27:32.205Z"
   },
   {
    "duration": 354,
    "start_time": "2022-04-26T08:27:32.745Z"
   },
   {
    "duration": 427,
    "start_time": "2022-04-26T08:27:33.102Z"
   },
   {
    "duration": 188,
    "start_time": "2022-04-26T08:27:33.533Z"
   },
   {
    "duration": 27,
    "start_time": "2022-04-26T08:27:33.723Z"
   },
   {
    "duration": 436,
    "start_time": "2022-04-26T08:27:33.752Z"
   },
   {
    "duration": 22,
    "start_time": "2022-04-26T08:27:34.190Z"
   },
   {
    "duration": 2,
    "start_time": "2022-04-26T08:27:34.214Z"
   },
   {
    "duration": 64,
    "start_time": "2022-04-26T08:27:34.218Z"
   },
   {
    "duration": 4,
    "start_time": "2022-04-26T08:27:34.284Z"
   },
   {
    "duration": 129240,
    "start_time": "2022-04-26T08:27:34.290Z"
   },
   {
    "duration": 145341,
    "start_time": "2022-04-26T08:34:00.717Z"
   },
   {
    "duration": 13,
    "start_time": "2022-04-26T08:46:24.930Z"
   },
   {
    "duration": 6,
    "start_time": "2022-04-26T08:47:31.198Z"
   },
   {
    "duration": 885,
    "start_time": "2022-04-26T08:47:31.207Z"
   },
   {
    "duration": 169,
    "start_time": "2022-04-26T08:47:32.094Z"
   },
   {
    "duration": 120,
    "start_time": "2022-04-26T08:47:32.266Z"
   },
   {
    "duration": 944,
    "start_time": "2022-04-26T08:47:32.388Z"
   },
   {
    "duration": 143,
    "start_time": "2022-04-26T08:47:33.334Z"
   },
   {
    "duration": 450,
    "start_time": "2022-04-26T08:47:33.480Z"
   },
   {
    "duration": 494,
    "start_time": "2022-04-26T08:47:33.932Z"
   },
   {
    "duration": 257,
    "start_time": "2022-04-26T08:47:34.429Z"
   },
   {
    "duration": 16,
    "start_time": "2022-04-26T08:47:34.689Z"
   },
   {
    "duration": 506,
    "start_time": "2022-04-26T08:47:34.707Z"
   },
   {
    "duration": 543,
    "start_time": "2022-04-26T08:47:35.215Z"
   },
   {
    "duration": 480,
    "start_time": "2022-04-26T08:47:35.760Z"
   },
   {
    "duration": 512,
    "start_time": "2022-04-26T08:47:36.242Z"
   },
   {
    "duration": 199,
    "start_time": "2022-04-26T08:47:36.755Z"
   },
   {
    "duration": 24,
    "start_time": "2022-04-26T08:47:36.956Z"
   },
   {
    "duration": 476,
    "start_time": "2022-04-26T08:47:36.982Z"
   },
   {
    "duration": 27,
    "start_time": "2022-04-26T08:47:37.460Z"
   },
   {
    "duration": 67,
    "start_time": "2022-04-26T08:47:37.490Z"
   },
   {
    "duration": 6,
    "start_time": "2022-04-26T08:47:37.559Z"
   },
   {
    "duration": 139875,
    "start_time": "2022-04-26T08:47:37.567Z"
   },
   {
    "duration": 2154,
    "start_time": "2022-04-26T09:50:48.067Z"
   },
   {
    "duration": 4,
    "start_time": "2022-04-26T09:51:42.052Z"
   },
   {
    "duration": 831,
    "start_time": "2022-04-26T09:51:42.058Z"
   },
   {
    "duration": 153,
    "start_time": "2022-04-26T09:51:42.891Z"
   },
   {
    "duration": 103,
    "start_time": "2022-04-26T09:51:43.049Z"
   },
   {
    "duration": 948,
    "start_time": "2022-04-26T09:51:43.155Z"
   },
   {
    "duration": 173,
    "start_time": "2022-04-26T09:51:44.104Z"
   },
   {
    "duration": 457,
    "start_time": "2022-04-26T09:51:44.279Z"
   },
   {
    "duration": 482,
    "start_time": "2022-04-26T09:51:44.738Z"
   },
   {
    "duration": 253,
    "start_time": "2022-04-26T09:51:45.222Z"
   },
   {
    "duration": 14,
    "start_time": "2022-04-26T09:51:45.477Z"
   },
   {
    "duration": 476,
    "start_time": "2022-04-26T09:51:45.493Z"
   },
   {
    "duration": 479,
    "start_time": "2022-04-26T09:51:45.971Z"
   },
   {
    "duration": 486,
    "start_time": "2022-04-26T09:51:46.452Z"
   },
   {
    "duration": 463,
    "start_time": "2022-04-26T09:51:46.941Z"
   },
   {
    "duration": 206,
    "start_time": "2022-04-26T09:51:47.405Z"
   },
   {
    "duration": 37,
    "start_time": "2022-04-26T09:51:47.613Z"
   },
   {
    "duration": 478,
    "start_time": "2022-04-26T09:51:47.652Z"
   },
   {
    "duration": 25,
    "start_time": "2022-04-26T09:51:48.133Z"
   },
   {
    "duration": 42,
    "start_time": "2022-04-26T09:51:48.160Z"
   },
   {
    "duration": 2168,
    "start_time": "2022-04-26T09:51:48.204Z"
   },
   {
    "duration": 1,
    "start_time": "2022-04-26T09:51:50.373Z"
   },
   {
    "duration": 4,
    "start_time": "2022-04-26T09:57:18.831Z"
   },
   {
    "duration": 13,
    "start_time": "2022-04-26T09:57:33.041Z"
   },
   {
    "duration": 11,
    "start_time": "2022-04-26T10:00:47.325Z"
   },
   {
    "duration": 11,
    "start_time": "2022-04-26T10:00:59.278Z"
   },
   {
    "duration": 16,
    "start_time": "2022-04-26T10:01:18.928Z"
   },
   {
    "duration": 3,
    "start_time": "2022-04-26T10:01:24.870Z"
   },
   {
    "duration": 14,
    "start_time": "2022-04-26T10:01:26.262Z"
   },
   {
    "duration": 6,
    "start_time": "2022-04-26T10:05:36.085Z"
   },
   {
    "duration": 13,
    "start_time": "2022-04-26T10:06:01.456Z"
   },
   {
    "duration": 5,
    "start_time": "2022-04-26T10:06:53.169Z"
   },
   {
    "duration": 5,
    "start_time": "2022-04-26T10:07:07.257Z"
   },
   {
    "duration": 27,
    "start_time": "2022-04-26T10:07:18.431Z"
   },
   {
    "duration": 14,
    "start_time": "2022-04-26T10:07:55.431Z"
   },
   {
    "duration": 6,
    "start_time": "2022-04-26T10:08:48.402Z"
   },
   {
    "duration": 959,
    "start_time": "2022-04-26T10:08:48.411Z"
   },
   {
    "duration": 166,
    "start_time": "2022-04-26T10:08:49.372Z"
   },
   {
    "duration": 127,
    "start_time": "2022-04-26T10:08:49.541Z"
   },
   {
    "duration": 1125,
    "start_time": "2022-04-26T10:08:49.670Z"
   },
   {
    "duration": 172,
    "start_time": "2022-04-26T10:08:50.797Z"
   },
   {
    "duration": 537,
    "start_time": "2022-04-26T10:08:50.971Z"
   },
   {
    "duration": 557,
    "start_time": "2022-04-26T10:08:51.510Z"
   },
   {
    "duration": 268,
    "start_time": "2022-04-26T10:08:52.069Z"
   },
   {
    "duration": 21,
    "start_time": "2022-04-26T10:08:52.340Z"
   },
   {
    "duration": 523,
    "start_time": "2022-04-26T10:08:52.363Z"
   },
   {
    "duration": 545,
    "start_time": "2022-04-26T10:08:52.887Z"
   },
   {
    "duration": 427,
    "start_time": "2022-04-26T10:08:53.435Z"
   },
   {
    "duration": 604,
    "start_time": "2022-04-26T10:08:53.864Z"
   },
   {
    "duration": 225,
    "start_time": "2022-04-26T10:08:54.470Z"
   },
   {
    "duration": 22,
    "start_time": "2022-04-26T10:08:54.697Z"
   },
   {
    "duration": 532,
    "start_time": "2022-04-26T10:08:54.720Z"
   },
   {
    "duration": 29,
    "start_time": "2022-04-26T10:08:55.254Z"
   },
   {
    "duration": 3,
    "start_time": "2022-04-26T10:08:55.285Z"
   },
   {
    "duration": 77,
    "start_time": "2022-04-26T10:08:55.290Z"
   },
   {
    "duration": 3,
    "start_time": "2022-04-26T10:08:55.370Z"
   },
   {
    "duration": 215,
    "start_time": "2022-04-26T10:08:55.376Z"
   },
   {
    "duration": 4,
    "start_time": "2022-04-26T10:08:55.593Z"
   },
   {
    "duration": 1712,
    "start_time": "2022-04-27T07:34:16.608Z"
   },
   {
    "duration": 809,
    "start_time": "2022-04-27T07:34:18.322Z"
   },
   {
    "duration": 155,
    "start_time": "2022-04-27T07:34:19.132Z"
   },
   {
    "duration": 100,
    "start_time": "2022-04-27T07:34:19.289Z"
   },
   {
    "duration": 900,
    "start_time": "2022-04-27T07:34:19.391Z"
   },
   {
    "duration": 176,
    "start_time": "2022-04-27T07:34:20.292Z"
   },
   {
    "duration": 442,
    "start_time": "2022-04-27T07:34:20.469Z"
   },
   {
    "duration": 465,
    "start_time": "2022-04-27T07:34:20.913Z"
   },
   {
    "duration": 221,
    "start_time": "2022-04-27T07:34:21.379Z"
   },
   {
    "duration": 12,
    "start_time": "2022-04-27T07:34:21.602Z"
   },
   {
    "duration": 455,
    "start_time": "2022-04-27T07:34:21.616Z"
   },
   {
    "duration": 374,
    "start_time": "2022-04-27T07:34:22.073Z"
   },
   {
    "duration": 304,
    "start_time": "2022-04-27T07:34:22.449Z"
   },
   {
    "duration": 374,
    "start_time": "2022-04-27T07:34:22.755Z"
   },
   {
    "duration": 187,
    "start_time": "2022-04-27T07:34:23.130Z"
   },
   {
    "duration": 2,
    "start_time": "2022-04-27T07:34:23.319Z"
   },
   {
    "duration": 5,
    "start_time": "2022-04-27T07:34:23.323Z"
   },
   {
    "duration": 7,
    "start_time": "2022-04-27T07:34:23.330Z"
   },
   {
    "duration": 13,
    "start_time": "2022-04-27T07:34:23.347Z"
   },
   {
    "duration": 115,
    "start_time": "2022-04-27T07:34:23.361Z"
   },
   {
    "duration": 14,
    "start_time": "2022-04-27T07:40:31.969Z"
   },
   {
    "duration": 6,
    "start_time": "2022-04-27T07:49:57.889Z"
   },
   {
    "duration": 15,
    "start_time": "2022-04-27T07:49:59.067Z"
   },
   {
    "duration": 9,
    "start_time": "2022-04-27T07:53:59.392Z"
   },
   {
    "duration": 771,
    "start_time": "2022-04-27T07:54:11.571Z"
   },
   {
    "duration": 4,
    "start_time": "2022-04-27T07:55:43.843Z"
   },
   {
    "duration": 1106,
    "start_time": "2022-04-27T07:55:43.850Z"
   },
   {
    "duration": 163,
    "start_time": "2022-04-27T07:55:44.958Z"
   },
   {
    "duration": 98,
    "start_time": "2022-04-27T07:55:45.123Z"
   },
   {
    "duration": 1215,
    "start_time": "2022-04-27T07:55:45.223Z"
   },
   {
    "duration": 230,
    "start_time": "2022-04-27T07:55:46.440Z"
   },
   {
    "duration": 624,
    "start_time": "2022-04-27T07:55:46.672Z"
   },
   {
    "duration": 566,
    "start_time": "2022-04-27T07:55:47.299Z"
   },
   {
    "duration": 380,
    "start_time": "2022-04-27T07:55:47.867Z"
   },
   {
    "duration": 18,
    "start_time": "2022-04-27T07:55:48.251Z"
   },
   {
    "duration": 415,
    "start_time": "2022-04-27T07:55:48.271Z"
   },
   {
    "duration": 533,
    "start_time": "2022-04-27T07:55:48.688Z"
   },
   {
    "duration": 405,
    "start_time": "2022-04-27T07:55:49.223Z"
   },
   {
    "duration": 558,
    "start_time": "2022-04-27T07:55:49.631Z"
   },
   {
    "duration": 352,
    "start_time": "2022-04-27T07:55:50.191Z"
   },
   {
    "duration": 2,
    "start_time": "2022-04-27T07:55:50.546Z"
   },
   {
    "duration": 55,
    "start_time": "2022-04-27T07:55:50.550Z"
   },
   {
    "duration": 7,
    "start_time": "2022-04-27T07:55:50.607Z"
   },
   {
    "duration": 812,
    "start_time": "2022-04-27T07:55:50.617Z"
   },
   {
    "duration": 769,
    "start_time": "2022-04-27T07:58:12.407Z"
   },
   {
    "duration": 28,
    "start_time": "2022-04-27T07:58:39.180Z"
   },
   {
    "duration": 3,
    "start_time": "2022-04-27T07:58:39.942Z"
   },
   {
    "duration": 3,
    "start_time": "2022-04-27T07:58:40.848Z"
   },
   {
    "duration": 717,
    "start_time": "2022-04-27T07:58:46.696Z"
   },
   {
    "duration": 4,
    "start_time": "2022-04-27T08:00:30.859Z"
   },
   {
    "duration": 733,
    "start_time": "2022-04-27T08:00:30.864Z"
   },
   {
    "duration": 126,
    "start_time": "2022-04-27T08:00:31.599Z"
   },
   {
    "duration": 111,
    "start_time": "2022-04-27T08:00:31.727Z"
   },
   {
    "duration": 809,
    "start_time": "2022-04-27T08:00:31.846Z"
   },
   {
    "duration": 122,
    "start_time": "2022-04-27T08:00:32.657Z"
   },
   {
    "duration": 434,
    "start_time": "2022-04-27T08:00:32.781Z"
   },
   {
    "duration": 431,
    "start_time": "2022-04-27T08:00:33.216Z"
   },
   {
    "duration": 201,
    "start_time": "2022-04-27T08:00:33.649Z"
   },
   {
    "duration": 12,
    "start_time": "2022-04-27T08:00:33.851Z"
   },
   {
    "duration": 348,
    "start_time": "2022-04-27T08:00:33.865Z"
   },
   {
    "duration": 499,
    "start_time": "2022-04-27T08:00:34.215Z"
   },
   {
    "duration": 315,
    "start_time": "2022-04-27T08:00:34.716Z"
   },
   {
    "duration": 379,
    "start_time": "2022-04-27T08:00:35.033Z"
   },
   {
    "duration": 183,
    "start_time": "2022-04-27T08:00:35.414Z"
   },
   {
    "duration": 23,
    "start_time": "2022-04-27T08:00:35.599Z"
   },
   {
    "duration": 3,
    "start_time": "2022-04-27T08:00:35.624Z"
   },
   {
    "duration": 26,
    "start_time": "2022-04-27T08:00:35.628Z"
   },
   {
    "duration": 624,
    "start_time": "2022-04-27T08:00:35.656Z"
   },
   {
    "duration": 571,
    "start_time": "2022-04-27T08:00:53.955Z"
   },
   {
    "duration": 9,
    "start_time": "2022-04-27T08:01:07.603Z"
   },
   {
    "duration": 483,
    "start_time": "2022-04-27T08:01:47.470Z"
   },
   {
    "duration": 419,
    "start_time": "2022-04-27T08:02:47.056Z"
   },
   {
    "duration": 116,
    "start_time": "2022-04-27T08:02:54.464Z"
   },
   {
    "duration": 144,
    "start_time": "2022-04-27T08:04:31.940Z"
   },
   {
    "duration": 419,
    "start_time": "2022-04-27T08:05:02.228Z"
   },
   {
    "duration": 116,
    "start_time": "2022-04-27T08:05:04.876Z"
   },
   {
    "duration": 128,
    "start_time": "2022-04-27T08:05:13.096Z"
   },
   {
    "duration": 21,
    "start_time": "2022-04-27T08:08:55.187Z"
   },
   {
    "duration": 5,
    "start_time": "2022-04-27T08:09:03.918Z"
   },
   {
    "duration": 1002,
    "start_time": "2022-04-27T08:09:03.926Z"
   },
   {
    "duration": 229,
    "start_time": "2022-04-27T08:09:04.929Z"
   },
   {
    "duration": 113,
    "start_time": "2022-04-27T08:09:05.161Z"
   },
   {
    "duration": 1250,
    "start_time": "2022-04-27T08:09:05.276Z"
   },
   {
    "duration": 229,
    "start_time": "2022-04-27T08:09:06.528Z"
   },
   {
    "duration": 400,
    "start_time": "2022-04-27T08:09:06.758Z"
   },
   {
    "duration": 408,
    "start_time": "2022-04-27T08:09:07.161Z"
   },
   {
    "duration": 199,
    "start_time": "2022-04-27T08:09:07.571Z"
   },
   {
    "duration": 12,
    "start_time": "2022-04-27T08:09:07.773Z"
   },
   {
    "duration": 368,
    "start_time": "2022-04-27T08:09:07.786Z"
   },
   {
    "duration": 399,
    "start_time": "2022-04-27T08:09:08.155Z"
   },
   {
    "duration": 435,
    "start_time": "2022-04-27T08:09:08.556Z"
   },
   {
    "duration": 368,
    "start_time": "2022-04-27T08:09:08.993Z"
   },
   {
    "duration": 175,
    "start_time": "2022-04-27T08:09:09.363Z"
   },
   {
    "duration": 85,
    "start_time": "2022-04-27T08:09:09.548Z"
   },
   {
    "duration": 13,
    "start_time": "2022-04-27T08:09:09.634Z"
   },
   {
    "duration": 4,
    "start_time": "2022-04-27T08:09:09.649Z"
   },
   {
    "duration": 600,
    "start_time": "2022-04-27T08:09:09.655Z"
   },
   {
    "duration": 498,
    "start_time": "2022-04-27T08:09:10.256Z"
   },
   {
    "duration": 116,
    "start_time": "2022-04-27T08:09:10.756Z"
   },
   {
    "duration": 153,
    "start_time": "2022-04-27T08:09:10.873Z"
   },
   {
    "duration": 908,
    "start_time": "2022-04-27T08:13:13.426Z"
   },
   {
    "duration": 436,
    "start_time": "2022-04-27T08:13:18.013Z"
   },
   {
    "duration": 113,
    "start_time": "2022-04-27T08:13:20.290Z"
   },
   {
    "duration": 121,
    "start_time": "2022-04-27T08:13:38.039Z"
   },
   {
    "duration": 115,
    "start_time": "2022-04-27T08:13:51.872Z"
   },
   {
    "duration": 124,
    "start_time": "2022-04-27T08:14:07.348Z"
   },
   {
    "duration": 56,
    "start_time": "2022-04-27T08:14:20.502Z"
   },
   {
    "duration": 57,
    "start_time": "2022-04-27T08:14:59.669Z"
   },
   {
    "duration": 445,
    "start_time": "2022-04-27T08:15:19.077Z"
   },
   {
    "duration": 63,
    "start_time": "2022-04-27T08:17:03.315Z"
   },
   {
    "duration": 121,
    "start_time": "2022-04-27T08:17:17.200Z"
   },
   {
    "duration": 4,
    "start_time": "2022-04-27T08:17:27.348Z"
   },
   {
    "duration": 704,
    "start_time": "2022-04-27T08:17:27.354Z"
   },
   {
    "duration": 125,
    "start_time": "2022-04-27T08:17:28.060Z"
   },
   {
    "duration": 119,
    "start_time": "2022-04-27T08:17:28.186Z"
   },
   {
    "duration": 1116,
    "start_time": "2022-04-27T08:17:28.308Z"
   },
   {
    "duration": 130,
    "start_time": "2022-04-27T08:17:29.426Z"
   },
   {
    "duration": 390,
    "start_time": "2022-04-27T08:17:29.557Z"
   },
   {
    "duration": 423,
    "start_time": "2022-04-27T08:17:29.949Z"
   },
   {
    "duration": 208,
    "start_time": "2022-04-27T08:17:30.374Z"
   },
   {
    "duration": 13,
    "start_time": "2022-04-27T08:17:30.583Z"
   },
   {
    "duration": 359,
    "start_time": "2022-04-27T08:17:30.599Z"
   },
   {
    "duration": 393,
    "start_time": "2022-04-27T08:17:30.960Z"
   },
   {
    "duration": 430,
    "start_time": "2022-04-27T08:17:31.355Z"
   },
   {
    "duration": 386,
    "start_time": "2022-04-27T08:17:31.787Z"
   },
   {
    "duration": 223,
    "start_time": "2022-04-27T08:17:32.175Z"
   },
   {
    "duration": 147,
    "start_time": "2022-04-27T08:17:32.400Z"
   },
   {
    "duration": 2,
    "start_time": "2022-04-27T08:17:32.549Z"
   },
   {
    "duration": 7,
    "start_time": "2022-04-27T08:17:32.553Z"
   },
   {
    "duration": 946,
    "start_time": "2022-04-27T08:17:32.562Z"
   },
   {
    "duration": 570,
    "start_time": "2022-04-27T08:17:33.510Z"
   },
   {
    "duration": 4,
    "start_time": "2022-04-27T08:17:34.082Z"
   },
   {
    "duration": 0,
    "start_time": "2022-04-27T08:17:34.088Z"
   },
   {
    "duration": 0,
    "start_time": "2022-04-27T08:17:34.089Z"
   },
   {
    "duration": 3,
    "start_time": "2022-04-27T08:18:15.474Z"
   },
   {
    "duration": 269,
    "start_time": "2022-04-27T08:18:16.664Z"
   },
   {
    "duration": 4,
    "start_time": "2022-04-27T08:22:56.773Z"
   },
   {
    "duration": 793,
    "start_time": "2022-04-27T08:22:56.779Z"
   },
   {
    "duration": 146,
    "start_time": "2022-04-27T08:22:57.574Z"
   },
   {
    "duration": 97,
    "start_time": "2022-04-27T08:22:57.722Z"
   },
   {
    "duration": 1082,
    "start_time": "2022-04-27T08:22:57.822Z"
   },
   {
    "duration": 201,
    "start_time": "2022-04-27T08:22:58.907Z"
   },
   {
    "duration": 663,
    "start_time": "2022-04-27T08:22:59.111Z"
   },
   {
    "duration": 633,
    "start_time": "2022-04-27T08:22:59.778Z"
   },
   {
    "duration": 347,
    "start_time": "2022-04-27T08:23:00.414Z"
   },
   {
    "duration": 17,
    "start_time": "2022-04-27T08:23:00.762Z"
   },
   {
    "duration": 411,
    "start_time": "2022-04-27T08:23:00.780Z"
   },
   {
    "duration": 419,
    "start_time": "2022-04-27T08:23:01.193Z"
   },
   {
    "duration": 333,
    "start_time": "2022-04-27T08:23:01.614Z"
   },
   {
    "duration": 491,
    "start_time": "2022-04-27T08:23:01.951Z"
   },
   {
    "duration": 215,
    "start_time": "2022-04-27T08:23:02.444Z"
   },
   {
    "duration": 6,
    "start_time": "2022-04-27T08:23:02.661Z"
   },
   {
    "duration": 19,
    "start_time": "2022-04-27T08:23:02.668Z"
   },
   {
    "duration": 779,
    "start_time": "2022-04-27T08:23:02.689Z"
   },
   {
    "duration": 0,
    "start_time": "2022-04-27T08:23:03.470Z"
   },
   {
    "duration": 0,
    "start_time": "2022-04-27T08:23:03.471Z"
   },
   {
    "duration": 0,
    "start_time": "2022-04-27T08:23:03.472Z"
   },
   {
    "duration": 4,
    "start_time": "2022-04-27T08:24:21.087Z"
   },
   {
    "duration": 770,
    "start_time": "2022-04-27T08:24:21.095Z"
   },
   {
    "duration": 144,
    "start_time": "2022-04-27T08:24:21.867Z"
   },
   {
    "duration": 131,
    "start_time": "2022-04-27T08:24:22.012Z"
   },
   {
    "duration": 1406,
    "start_time": "2022-04-27T08:24:22.148Z"
   },
   {
    "duration": 226,
    "start_time": "2022-04-27T08:24:23.556Z"
   },
   {
    "duration": 589,
    "start_time": "2022-04-27T08:24:23.784Z"
   },
   {
    "duration": 565,
    "start_time": "2022-04-27T08:24:24.374Z"
   },
   {
    "duration": 334,
    "start_time": "2022-04-27T08:24:24.941Z"
   },
   {
    "duration": 11,
    "start_time": "2022-04-27T08:24:25.277Z"
   },
   {
    "duration": 379,
    "start_time": "2022-04-27T08:24:25.291Z"
   },
   {
    "duration": 507,
    "start_time": "2022-04-27T08:24:25.672Z"
   },
   {
    "duration": 333,
    "start_time": "2022-04-27T08:24:26.181Z"
   },
   {
    "duration": 507,
    "start_time": "2022-04-27T08:24:26.515Z"
   },
   {
    "duration": 209,
    "start_time": "2022-04-27T08:24:27.023Z"
   },
   {
    "duration": 31,
    "start_time": "2022-04-27T08:24:27.234Z"
   },
   {
    "duration": 3,
    "start_time": "2022-04-27T08:24:27.267Z"
   },
   {
    "duration": 4,
    "start_time": "2022-04-27T08:24:27.272Z"
   },
   {
    "duration": 819,
    "start_time": "2022-04-27T08:24:27.277Z"
   },
   {
    "duration": 584,
    "start_time": "2022-04-27T08:24:28.098Z"
   },
   {
    "duration": 3,
    "start_time": "2022-04-27T08:24:28.684Z"
   },
   {
    "duration": 125,
    "start_time": "2022-04-27T08:24:28.689Z"
   },
   {
    "duration": 3,
    "start_time": "2022-04-27T08:25:53.678Z"
   },
   {
    "duration": 79,
    "start_time": "2022-04-27T08:28:57.723Z"
   },
   {
    "duration": 3,
    "start_time": "2022-04-27T08:29:10.136Z"
   },
   {
    "duration": 3,
    "start_time": "2022-04-27T08:29:11.689Z"
   },
   {
    "duration": 0,
    "start_time": "2022-04-27T08:37:09.978Z"
   },
   {
    "duration": 0,
    "start_time": "2022-04-27T08:37:09.980Z"
   },
   {
    "duration": 0,
    "start_time": "2022-04-27T08:37:09.981Z"
   },
   {
    "duration": 0,
    "start_time": "2022-04-27T08:37:09.983Z"
   },
   {
    "duration": 0,
    "start_time": "2022-04-27T08:37:09.984Z"
   },
   {
    "duration": 0,
    "start_time": "2022-04-27T08:37:09.986Z"
   },
   {
    "duration": 0,
    "start_time": "2022-04-27T08:37:09.987Z"
   },
   {
    "duration": 0,
    "start_time": "2022-04-27T08:37:09.988Z"
   },
   {
    "duration": 0,
    "start_time": "2022-04-27T08:37:09.989Z"
   },
   {
    "duration": 0,
    "start_time": "2022-04-27T08:37:09.990Z"
   },
   {
    "duration": 0,
    "start_time": "2022-04-27T08:37:09.991Z"
   },
   {
    "duration": 0,
    "start_time": "2022-04-27T08:37:09.992Z"
   },
   {
    "duration": 0,
    "start_time": "2022-04-27T08:37:09.993Z"
   },
   {
    "duration": 0,
    "start_time": "2022-04-27T08:37:09.994Z"
   },
   {
    "duration": 0,
    "start_time": "2022-04-27T08:37:09.994Z"
   },
   {
    "duration": 0,
    "start_time": "2022-04-27T08:37:09.995Z"
   },
   {
    "duration": 0,
    "start_time": "2022-04-27T08:37:09.996Z"
   },
   {
    "duration": 0,
    "start_time": "2022-04-27T08:37:09.997Z"
   },
   {
    "duration": 0,
    "start_time": "2022-04-27T08:37:09.998Z"
   },
   {
    "duration": 0,
    "start_time": "2022-04-27T08:37:09.998Z"
   },
   {
    "duration": 4,
    "start_time": "2022-04-27T08:38:27.337Z"
   },
   {
    "duration": 729,
    "start_time": "2022-04-27T08:38:27.343Z"
   },
   {
    "duration": 132,
    "start_time": "2022-04-27T08:38:28.074Z"
   },
   {
    "duration": 96,
    "start_time": "2022-04-27T08:38:28.208Z"
   },
   {
    "duration": 856,
    "start_time": "2022-04-27T08:38:28.307Z"
   },
   {
    "duration": 135,
    "start_time": "2022-04-27T08:38:29.165Z"
   },
   {
    "duration": 403,
    "start_time": "2022-04-27T08:38:29.302Z"
   },
   {
    "duration": 428,
    "start_time": "2022-04-27T08:38:29.706Z"
   },
   {
    "duration": 367,
    "start_time": "2022-04-27T08:38:30.136Z"
   },
   {
    "duration": 18,
    "start_time": "2022-04-27T08:38:30.505Z"
   },
   {
    "duration": 539,
    "start_time": "2022-04-27T08:38:30.526Z"
   },
   {
    "duration": 553,
    "start_time": "2022-04-27T08:38:31.067Z"
   },
   {
    "duration": 461,
    "start_time": "2022-04-27T08:38:31.622Z"
   },
   {
    "duration": 569,
    "start_time": "2022-04-27T08:38:32.085Z"
   },
   {
    "duration": 207,
    "start_time": "2022-04-27T08:38:32.656Z"
   },
   {
    "duration": 23,
    "start_time": "2022-04-27T08:38:32.864Z"
   },
   {
    "duration": 90,
    "start_time": "2022-04-27T08:38:32.889Z"
   },
   {
    "duration": 3,
    "start_time": "2022-04-27T08:38:32.981Z"
   },
   {
    "duration": 6,
    "start_time": "2022-04-27T08:38:32.986Z"
   },
   {
    "duration": 216774,
    "start_time": "2022-04-27T08:38:32.994Z"
   },
   {
    "duration": 0,
    "start_time": "2022-04-27T08:50:48.785Z"
   },
   {
    "duration": 122,
    "start_time": "2022-04-27T08:50:52.795Z"
   },
   {
    "duration": 5,
    "start_time": "2022-04-27T08:53:24.327Z"
   },
   {
    "duration": 732,
    "start_time": "2022-04-27T08:53:24.334Z"
   },
   {
    "duration": 129,
    "start_time": "2022-04-27T08:53:25.067Z"
   },
   {
    "duration": 279,
    "start_time": "2022-04-27T08:53:25.199Z"
   },
   {
    "duration": 1364,
    "start_time": "2022-04-27T08:53:25.480Z"
   },
   {
    "duration": 220,
    "start_time": "2022-04-27T08:53:26.848Z"
   },
   {
    "duration": 600,
    "start_time": "2022-04-27T08:53:27.070Z"
   },
   {
    "duration": 646,
    "start_time": "2022-04-27T08:53:27.672Z"
   },
   {
    "duration": 376,
    "start_time": "2022-04-27T08:53:28.320Z"
   },
   {
    "duration": 17,
    "start_time": "2022-04-27T08:53:28.699Z"
   },
   {
    "duration": 566,
    "start_time": "2022-04-27T08:53:28.718Z"
   },
   {
    "duration": 605,
    "start_time": "2022-04-27T08:53:29.287Z"
   },
   {
    "duration": 497,
    "start_time": "2022-04-27T08:53:29.894Z"
   },
   {
    "duration": 587,
    "start_time": "2022-04-27T08:53:30.393Z"
   },
   {
    "duration": 324,
    "start_time": "2022-04-27T08:53:30.982Z"
   },
   {
    "duration": 39,
    "start_time": "2022-04-27T08:53:31.308Z"
   },
   {
    "duration": 12,
    "start_time": "2022-04-27T08:53:31.350Z"
   },
   {
    "duration": 0,
    "start_time": "2022-04-27T08:53:31.365Z"
   },
   {
    "duration": 0,
    "start_time": "2022-04-27T08:53:31.366Z"
   },
   {
    "duration": 0,
    "start_time": "2022-04-27T08:53:31.368Z"
   },
   {
    "duration": 0,
    "start_time": "2022-04-27T08:53:31.369Z"
   },
   {
    "duration": 12,
    "start_time": "2022-04-27T08:54:59.869Z"
   },
   {
    "duration": 5,
    "start_time": "2022-04-27T08:55:21.895Z"
   },
   {
    "duration": 1057,
    "start_time": "2022-04-27T08:55:21.902Z"
   },
   {
    "duration": 124,
    "start_time": "2022-04-27T08:55:22.963Z"
   },
   {
    "duration": 101,
    "start_time": "2022-04-27T08:55:23.089Z"
   },
   {
    "duration": 836,
    "start_time": "2022-04-27T08:55:23.192Z"
   },
   {
    "duration": 132,
    "start_time": "2022-04-27T08:55:24.030Z"
   },
   {
    "duration": 512,
    "start_time": "2022-04-27T08:55:24.165Z"
   },
   {
    "duration": 655,
    "start_time": "2022-04-27T08:55:24.679Z"
   },
   {
    "duration": 371,
    "start_time": "2022-04-27T08:55:25.336Z"
   },
   {
    "duration": 17,
    "start_time": "2022-04-27T08:55:25.709Z"
   },
   {
    "duration": 633,
    "start_time": "2022-04-27T08:55:25.730Z"
   },
   {
    "duration": 576,
    "start_time": "2022-04-27T08:55:26.366Z"
   },
   {
    "duration": 474,
    "start_time": "2022-04-27T08:55:26.948Z"
   },
   {
    "duration": 576,
    "start_time": "2022-04-27T08:55:27.424Z"
   },
   {
    "duration": 316,
    "start_time": "2022-04-27T08:55:28.002Z"
   },
   {
    "duration": 36,
    "start_time": "2022-04-27T08:55:28.321Z"
   },
   {
    "duration": 19,
    "start_time": "2022-04-27T08:55:28.360Z"
   },
   {
    "duration": 0,
    "start_time": "2022-04-27T08:55:28.382Z"
   },
   {
    "duration": 1,
    "start_time": "2022-04-27T08:55:28.383Z"
   },
   {
    "duration": 0,
    "start_time": "2022-04-27T08:55:28.385Z"
   },
   {
    "duration": 0,
    "start_time": "2022-04-27T08:55:28.386Z"
   },
   {
    "duration": 0,
    "start_time": "2022-04-27T08:55:28.387Z"
   },
   {
    "duration": 4,
    "start_time": "2022-04-27T08:56:06.887Z"
   },
   {
    "duration": 724,
    "start_time": "2022-04-27T08:56:06.893Z"
   },
   {
    "duration": 129,
    "start_time": "2022-04-27T08:56:07.619Z"
   },
   {
    "duration": 81,
    "start_time": "2022-04-27T08:56:07.750Z"
   },
   {
    "duration": 768,
    "start_time": "2022-04-27T08:56:07.833Z"
   },
   {
    "duration": 121,
    "start_time": "2022-04-27T08:56:08.603Z"
   },
   {
    "duration": 372,
    "start_time": "2022-04-27T08:56:08.726Z"
   },
   {
    "duration": 621,
    "start_time": "2022-04-27T08:56:09.100Z"
   },
   {
    "duration": 218,
    "start_time": "2022-04-27T08:56:09.723Z"
   },
   {
    "duration": 12,
    "start_time": "2022-04-27T08:56:09.947Z"
   },
   {
    "duration": 386,
    "start_time": "2022-04-27T08:56:09.961Z"
   },
   {
    "duration": 588,
    "start_time": "2022-04-27T08:56:10.349Z"
   },
   {
    "duration": 483,
    "start_time": "2022-04-27T08:56:10.938Z"
   },
   {
    "duration": 571,
    "start_time": "2022-04-27T08:56:11.423Z"
   },
   {
    "duration": 311,
    "start_time": "2022-04-27T08:56:11.996Z"
   },
   {
    "duration": 28,
    "start_time": "2022-04-27T08:56:12.309Z"
   },
   {
    "duration": 15,
    "start_time": "2022-04-27T08:56:12.348Z"
   },
   {
    "duration": 114,
    "start_time": "2022-04-27T08:56:12.366Z"
   },
   {
    "duration": 3,
    "start_time": "2022-04-27T08:56:12.482Z"
   },
   {
    "duration": 5,
    "start_time": "2022-04-27T08:56:12.487Z"
   },
   {
    "duration": 6,
    "start_time": "2022-04-27T08:56:12.494Z"
   },
   {
    "duration": 173051,
    "start_time": "2022-04-27T08:56:12.502Z"
   },
   {
    "duration": 18,
    "start_time": "2022-04-27T08:59:05.555Z"
   },
   {
    "duration": 138244,
    "start_time": "2022-04-27T09:01:52.948Z"
   },
   {
    "duration": 4568,
    "start_time": "2022-04-27T09:04:40.086Z"
   },
   {
    "duration": 5,
    "start_time": "2022-04-27T09:14:15.904Z"
   },
   {
    "duration": 767,
    "start_time": "2022-04-27T09:14:15.910Z"
   },
   {
    "duration": 140,
    "start_time": "2022-04-27T09:14:16.679Z"
   },
   {
    "duration": 91,
    "start_time": "2022-04-27T09:14:16.820Z"
   },
   {
    "duration": 829,
    "start_time": "2022-04-27T09:14:16.914Z"
   },
   {
    "duration": 130,
    "start_time": "2022-04-27T09:14:17.748Z"
   },
   {
    "duration": 404,
    "start_time": "2022-04-27T09:14:17.880Z"
   },
   {
    "duration": 428,
    "start_time": "2022-04-27T09:14:18.286Z"
   },
   {
    "duration": 213,
    "start_time": "2022-04-27T09:14:18.716Z"
   },
   {
    "duration": 21,
    "start_time": "2022-04-27T09:14:18.931Z"
   },
   {
    "duration": 579,
    "start_time": "2022-04-27T09:14:18.954Z"
   },
   {
    "duration": 627,
    "start_time": "2022-04-27T09:14:19.535Z"
   },
   {
    "duration": 654,
    "start_time": "2022-04-27T09:14:20.164Z"
   },
   {
    "duration": 599,
    "start_time": "2022-04-27T09:14:20.822Z"
   },
   {
    "duration": 313,
    "start_time": "2022-04-27T09:14:21.423Z"
   },
   {
    "duration": 34,
    "start_time": "2022-04-27T09:14:21.738Z"
   },
   {
    "duration": 19,
    "start_time": "2022-04-27T09:14:21.774Z"
   },
   {
    "duration": 122,
    "start_time": "2022-04-27T09:14:21.795Z"
   },
   {
    "duration": 3,
    "start_time": "2022-04-27T09:14:21.920Z"
   },
   {
    "duration": 5,
    "start_time": "2022-04-27T09:14:21.925Z"
   },
   {
    "duration": 16,
    "start_time": "2022-04-27T09:14:21.932Z"
   },
   {
    "duration": 3269,
    "start_time": "2022-04-27T14:41:04.417Z"
   },
   {
    "duration": 1459,
    "start_time": "2022-04-27T14:41:07.690Z"
   },
   {
    "duration": 191,
    "start_time": "2022-04-27T14:41:09.151Z"
   },
   {
    "duration": 135,
    "start_time": "2022-04-27T14:41:09.345Z"
   },
   {
    "duration": 1104,
    "start_time": "2022-04-27T14:41:09.482Z"
   },
   {
    "duration": 225,
    "start_time": "2022-04-27T14:41:10.588Z"
   },
   {
    "duration": 687,
    "start_time": "2022-04-27T14:41:10.815Z"
   },
   {
    "duration": 734,
    "start_time": "2022-04-27T14:41:11.504Z"
   },
   {
    "duration": 392,
    "start_time": "2022-04-27T14:41:12.241Z"
   },
   {
    "duration": 21,
    "start_time": "2022-04-27T14:41:12.636Z"
   },
   {
    "duration": 810,
    "start_time": "2022-04-27T14:41:12.660Z"
   },
   {
    "duration": 625,
    "start_time": "2022-04-27T14:41:13.473Z"
   },
   {
    "duration": 505,
    "start_time": "2022-04-27T14:41:14.100Z"
   },
   {
    "duration": 727,
    "start_time": "2022-04-27T14:41:14.607Z"
   },
   {
    "duration": 379,
    "start_time": "2022-04-27T14:41:15.336Z"
   },
   {
    "duration": 40,
    "start_time": "2022-04-27T14:41:15.725Z"
   },
   {
    "duration": 24,
    "start_time": "2022-04-27T14:41:15.768Z"
   },
   {
    "duration": 197,
    "start_time": "2022-04-27T14:41:15.795Z"
   },
   {
    "duration": 4,
    "start_time": "2022-04-27T14:41:15.995Z"
   },
   {
    "duration": 9,
    "start_time": "2022-04-27T14:41:16.001Z"
   },
   {
    "duration": 7,
    "start_time": "2022-04-27T14:41:16.025Z"
   },
   {
    "duration": 296548,
    "start_time": "2022-04-27T14:41:16.035Z"
   },
   {
    "duration": 4043,
    "start_time": "2022-04-27T14:46:12.586Z"
   },
   {
    "duration": 4535,
    "start_time": "2022-04-27T14:46:27.122Z"
   },
   {
    "duration": 9,
    "start_time": "2022-04-27T14:46:46.216Z"
   },
   {
    "duration": 6,
    "start_time": "2022-04-27T14:47:12.157Z"
   },
   {
    "duration": 152,
    "start_time": "2022-04-27T14:47:14.104Z"
   },
   {
    "duration": 7,
    "start_time": "2022-04-27T14:47:22.777Z"
   },
   {
    "duration": 112,
    "start_time": "2022-04-27T14:47:24.184Z"
   },
   {
    "duration": 7,
    "start_time": "2022-04-27T14:47:48.419Z"
   },
   {
    "duration": 873,
    "start_time": "2022-04-27T14:47:49.073Z"
   },
   {
    "duration": 6,
    "start_time": "2022-04-27T14:49:36.078Z"
   },
   {
    "duration": 1102,
    "start_time": "2022-04-27T14:49:36.086Z"
   },
   {
    "duration": 204,
    "start_time": "2022-04-27T14:49:37.201Z"
   },
   {
    "duration": 135,
    "start_time": "2022-04-27T14:49:37.407Z"
   },
   {
    "duration": 1141,
    "start_time": "2022-04-27T14:49:37.546Z"
   },
   {
    "duration": 173,
    "start_time": "2022-04-27T14:49:38.689Z"
   },
   {
    "duration": 691,
    "start_time": "2022-04-27T14:49:38.864Z"
   },
   {
    "duration": 744,
    "start_time": "2022-04-27T14:49:39.557Z"
   },
   {
    "duration": 294,
    "start_time": "2022-04-27T14:49:40.303Z"
   },
   {
    "duration": 28,
    "start_time": "2022-04-27T14:49:40.600Z"
   },
   {
    "duration": 735,
    "start_time": "2022-04-27T14:49:40.630Z"
   },
   {
    "duration": 886,
    "start_time": "2022-04-27T14:49:41.368Z"
   },
   {
    "duration": 535,
    "start_time": "2022-04-27T14:49:42.257Z"
   },
   {
    "duration": 649,
    "start_time": "2022-04-27T14:49:42.796Z"
   },
   {
    "duration": 274,
    "start_time": "2022-04-27T14:49:43.448Z"
   },
   {
    "duration": 43,
    "start_time": "2022-04-27T14:49:43.725Z"
   },
   {
    "duration": 56,
    "start_time": "2022-04-27T14:49:43.770Z"
   },
   {
    "duration": 178,
    "start_time": "2022-04-27T14:49:43.829Z"
   },
   {
    "duration": 4,
    "start_time": "2022-04-27T14:49:44.009Z"
   },
   {
    "duration": 10,
    "start_time": "2022-04-27T14:49:44.023Z"
   },
   {
    "duration": 17,
    "start_time": "2022-04-27T14:49:44.035Z"
   },
   {
    "duration": 0,
    "start_time": "2022-04-27T14:54:43.637Z"
   },
   {
    "duration": 0,
    "start_time": "2022-04-27T14:54:43.638Z"
   },
   {
    "duration": 0,
    "start_time": "2022-04-27T14:54:43.640Z"
   },
   {
    "duration": 0,
    "start_time": "2022-04-27T14:54:43.641Z"
   },
   {
    "duration": 0,
    "start_time": "2022-04-27T14:54:43.642Z"
   },
   {
    "duration": 0,
    "start_time": "2022-04-27T14:54:43.644Z"
   },
   {
    "duration": 0,
    "start_time": "2022-04-27T14:54:43.645Z"
   },
   {
    "duration": 0,
    "start_time": "2022-04-27T14:54:43.646Z"
   },
   {
    "duration": 0,
    "start_time": "2022-04-27T14:54:43.662Z"
   },
   {
    "duration": 0,
    "start_time": "2022-04-27T14:54:43.664Z"
   },
   {
    "duration": 0,
    "start_time": "2022-04-27T14:54:43.666Z"
   },
   {
    "duration": 0,
    "start_time": "2022-04-27T14:54:43.668Z"
   },
   {
    "duration": 0,
    "start_time": "2022-04-27T14:54:43.670Z"
   },
   {
    "duration": 0,
    "start_time": "2022-04-27T14:54:43.673Z"
   },
   {
    "duration": 0,
    "start_time": "2022-04-27T14:54:43.675Z"
   },
   {
    "duration": 0,
    "start_time": "2022-04-27T14:54:43.677Z"
   },
   {
    "duration": 1,
    "start_time": "2022-04-27T14:54:43.678Z"
   },
   {
    "duration": 0,
    "start_time": "2022-04-27T14:54:43.681Z"
   },
   {
    "duration": 0,
    "start_time": "2022-04-27T14:54:43.682Z"
   },
   {
    "duration": 0,
    "start_time": "2022-04-27T14:54:43.684Z"
   },
   {
    "duration": 0,
    "start_time": "2022-04-27T14:54:43.687Z"
   },
   {
    "duration": 0,
    "start_time": "2022-04-27T14:54:43.689Z"
   },
   {
    "duration": 0,
    "start_time": "2022-04-27T14:54:43.691Z"
   },
   {
    "duration": 0,
    "start_time": "2022-04-27T14:54:43.693Z"
   },
   {
    "duration": 0,
    "start_time": "2022-04-27T14:54:43.695Z"
   },
   {
    "duration": 0,
    "start_time": "2022-04-27T14:54:43.696Z"
   },
   {
    "duration": 6,
    "start_time": "2022-04-27T14:57:18.791Z"
   },
   {
    "duration": 1077,
    "start_time": "2022-04-27T14:57:18.800Z"
   },
   {
    "duration": 172,
    "start_time": "2022-04-27T14:57:19.879Z"
   },
   {
    "duration": 142,
    "start_time": "2022-04-27T14:57:20.053Z"
   },
   {
    "duration": 1151,
    "start_time": "2022-04-27T14:57:20.198Z"
   },
   {
    "duration": 179,
    "start_time": "2022-04-27T14:57:21.351Z"
   },
   {
    "duration": 680,
    "start_time": "2022-04-27T14:57:21.533Z"
   },
   {
    "duration": 832,
    "start_time": "2022-04-27T14:57:22.216Z"
   },
   {
    "duration": 291,
    "start_time": "2022-04-27T14:57:23.051Z"
   },
   {
    "duration": 21,
    "start_time": "2022-04-27T14:57:23.345Z"
   },
   {
    "duration": 633,
    "start_time": "2022-04-27T14:57:23.369Z"
   },
   {
    "duration": 765,
    "start_time": "2022-04-27T14:57:24.004Z"
   },
   {
    "duration": 525,
    "start_time": "2022-04-27T14:57:24.772Z"
   },
   {
    "duration": 634,
    "start_time": "2022-04-27T14:57:25.304Z"
   },
   {
    "duration": 361,
    "start_time": "2022-04-27T14:57:25.940Z"
   },
   {
    "duration": 50,
    "start_time": "2022-04-27T14:57:26.303Z"
   },
   {
    "duration": 28,
    "start_time": "2022-04-27T14:57:26.355Z"
   },
   {
    "duration": 193,
    "start_time": "2022-04-27T14:57:26.385Z"
   },
   {
    "duration": 45,
    "start_time": "2022-04-27T14:57:26.581Z"
   },
   {
    "duration": 0,
    "start_time": "2022-04-27T14:57:26.628Z"
   },
   {
    "duration": 0,
    "start_time": "2022-04-27T14:57:26.630Z"
   },
   {
    "duration": 0,
    "start_time": "2022-04-27T14:57:26.632Z"
   },
   {
    "duration": 0,
    "start_time": "2022-04-27T14:57:26.633Z"
   },
   {
    "duration": 0,
    "start_time": "2022-04-27T14:57:26.634Z"
   },
   {
    "duration": 0,
    "start_time": "2022-04-27T14:57:26.635Z"
   },
   {
    "duration": 0,
    "start_time": "2022-04-27T14:57:26.637Z"
   },
   {
    "duration": 627,
    "start_time": "2022-04-27T14:57:43.018Z"
   },
   {
    "duration": 6,
    "start_time": "2022-04-27T14:57:43.925Z"
   },
   {
    "duration": 6,
    "start_time": "2022-04-27T14:57:47.526Z"
   },
   {
    "duration": 1100,
    "start_time": "2022-04-27T14:57:47.539Z"
   },
   {
    "duration": 167,
    "start_time": "2022-04-27T14:57:48.642Z"
   },
   {
    "duration": 123,
    "start_time": "2022-04-27T14:57:48.824Z"
   },
   {
    "duration": 1156,
    "start_time": "2022-04-27T14:57:48.950Z"
   },
   {
    "duration": 177,
    "start_time": "2022-04-27T14:57:50.109Z"
   },
   {
    "duration": 724,
    "start_time": "2022-04-27T14:57:50.289Z"
   },
   {
    "duration": 760,
    "start_time": "2022-04-27T14:57:51.015Z"
   },
   {
    "duration": 293,
    "start_time": "2022-04-27T14:57:51.777Z"
   },
   {
    "duration": 30,
    "start_time": "2022-04-27T14:57:52.072Z"
   },
   {
    "duration": 660,
    "start_time": "2022-04-27T14:57:52.105Z"
   },
   {
    "duration": 781,
    "start_time": "2022-04-27T14:57:52.768Z"
   },
   {
    "duration": 651,
    "start_time": "2022-04-27T14:57:53.552Z"
   },
   {
    "duration": 665,
    "start_time": "2022-04-27T14:57:54.205Z"
   },
   {
    "duration": 282,
    "start_time": "2022-04-27T14:57:54.874Z"
   },
   {
    "duration": 42,
    "start_time": "2022-04-27T14:57:55.159Z"
   },
   {
    "duration": 47,
    "start_time": "2022-04-27T14:57:55.204Z"
   },
   {
    "duration": 178,
    "start_time": "2022-04-27T14:57:55.254Z"
   },
   {
    "duration": 748,
    "start_time": "2022-04-27T14:57:55.435Z"
   },
   {
    "duration": 5,
    "start_time": "2022-04-27T14:57:56.186Z"
   },
   {
    "duration": 10,
    "start_time": "2022-04-27T14:57:56.193Z"
   },
   {
    "duration": 24,
    "start_time": "2022-04-27T14:57:56.205Z"
   },
   {
    "duration": 293502,
    "start_time": "2022-04-27T14:57:56.231Z"
   },
   {
    "duration": 4,
    "start_time": "2022-04-27T15:02:49.736Z"
   },
   {
    "duration": 13,
    "start_time": "2022-04-27T15:02:49.742Z"
   },
   {
    "duration": 1102,
    "start_time": "2022-04-27T15:02:49.757Z"
   },
   {
    "duration": 160,
    "start_time": "2022-04-27T15:08:25.987Z"
   },
   {
    "duration": 5,
    "start_time": "2022-04-27T15:08:27.954Z"
   },
   {
    "duration": 5,
    "start_time": "2022-04-27T15:08:41.090Z"
   },
   {
    "duration": 5,
    "start_time": "2022-04-27T15:09:00.004Z"
   },
   {
    "duration": 34,
    "start_time": "2022-04-27T15:09:01.674Z"
   },
   {
    "duration": 5,
    "start_time": "2022-04-27T15:09:42.228Z"
   },
   {
    "duration": 213,
    "start_time": "2022-04-27T15:09:43.660Z"
   },
   {
    "duration": 29,
    "start_time": "2022-04-27T15:10:01.620Z"
   },
   {
    "duration": 6,
    "start_time": "2022-04-27T15:10:02.460Z"
   },
   {
    "duration": 5,
    "start_time": "2022-04-27T15:10:33.750Z"
   },
   {
    "duration": 5,
    "start_time": "2022-04-27T15:10:37.117Z"
   },
   {
    "duration": 5,
    "start_time": "2022-04-27T15:10:40.224Z"
   },
   {
    "duration": 7,
    "start_time": "2022-04-27T15:10:57.549Z"
   },
   {
    "duration": 1133,
    "start_time": "2022-04-27T15:10:57.560Z"
   },
   {
    "duration": 167,
    "start_time": "2022-04-27T15:10:58.695Z"
   },
   {
    "duration": 128,
    "start_time": "2022-04-27T15:10:58.864Z"
   },
   {
    "duration": 1159,
    "start_time": "2022-04-27T15:10:58.995Z"
   },
   {
    "duration": 183,
    "start_time": "2022-04-27T15:11:00.156Z"
   },
   {
    "duration": 714,
    "start_time": "2022-04-27T15:11:00.341Z"
   },
   {
    "duration": 705,
    "start_time": "2022-04-27T15:11:01.057Z"
   },
   {
    "duration": 286,
    "start_time": "2022-04-27T15:11:01.765Z"
   },
   {
    "duration": 21,
    "start_time": "2022-04-27T15:11:02.053Z"
   },
   {
    "duration": 872,
    "start_time": "2022-04-27T15:11:02.077Z"
   },
   {
    "duration": 925,
    "start_time": "2022-04-27T15:11:02.951Z"
   },
   {
    "duration": 872,
    "start_time": "2022-04-27T15:11:03.878Z"
   },
   {
    "duration": 883,
    "start_time": "2022-04-27T15:11:04.755Z"
   },
   {
    "duration": 372,
    "start_time": "2022-04-27T15:11:05.641Z"
   },
   {
    "duration": 47,
    "start_time": "2022-04-27T15:11:06.016Z"
   },
   {
    "duration": 29,
    "start_time": "2022-04-27T15:11:06.066Z"
   },
   {
    "duration": 176,
    "start_time": "2022-04-27T15:11:06.098Z"
   },
   {
    "duration": 626,
    "start_time": "2022-04-27T15:11:06.276Z"
   },
   {
    "duration": 6,
    "start_time": "2022-04-27T15:11:06.904Z"
   },
   {
    "duration": 13,
    "start_time": "2022-04-27T15:11:06.912Z"
   },
   {
    "duration": 233,
    "start_time": "2022-04-27T15:11:06.928Z"
   },
   {
    "duration": 3,
    "start_time": "2022-04-27T15:11:07.163Z"
   },
   {
    "duration": 7,
    "start_time": "2022-04-27T15:11:07.168Z"
   },
   {
    "duration": 297291,
    "start_time": "2022-04-27T15:11:07.177Z"
   },
   {
    "duration": 4,
    "start_time": "2022-04-27T15:16:04.471Z"
   },
   {
    "duration": 11,
    "start_time": "2022-04-27T15:16:04.478Z"
   },
   {
    "duration": 961,
    "start_time": "2022-04-27T15:16:04.492Z"
   },
   {
    "duration": 27,
    "start_time": "2022-04-27T15:20:59.421Z"
   },
   {
    "duration": 22,
    "start_time": "2022-04-27T15:21:50.124Z"
   },
   {
    "duration": 29,
    "start_time": "2022-04-27T15:22:49.405Z"
   },
   {
    "duration": 5,
    "start_time": "2022-04-27T15:22:49.997Z"
   },
   {
    "duration": 7,
    "start_time": "2022-04-27T15:22:54.012Z"
   },
   {
    "duration": 328,
    "start_time": "2022-04-27T15:22:57.759Z"
   },
   {
    "duration": 19,
    "start_time": "2022-04-27T15:23:01.924Z"
   },
   {
    "duration": 34,
    "start_time": "2022-04-27T15:23:15.694Z"
   },
   {
    "duration": 15,
    "start_time": "2022-04-27T15:23:33.390Z"
   },
   {
    "duration": 9,
    "start_time": "2022-04-27T15:23:45.542Z"
   },
   {
    "duration": 1450,
    "start_time": "2022-04-27T15:23:45.554Z"
   },
   {
    "duration": 286,
    "start_time": "2022-04-27T15:23:47.006Z"
   },
   {
    "duration": 165,
    "start_time": "2022-04-27T15:23:47.295Z"
   },
   {
    "duration": 1774,
    "start_time": "2022-04-27T15:23:47.464Z"
   },
   {
    "duration": 308,
    "start_time": "2022-04-27T15:23:49.240Z"
   },
   {
    "duration": 929,
    "start_time": "2022-04-27T15:23:49.553Z"
   },
   {
    "duration": 723,
    "start_time": "2022-04-27T15:23:50.485Z"
   },
   {
    "duration": 291,
    "start_time": "2022-04-27T15:23:51.210Z"
   },
   {
    "duration": 30,
    "start_time": "2022-04-27T15:23:51.504Z"
   },
   {
    "duration": 891,
    "start_time": "2022-04-27T15:23:51.536Z"
   },
   {
    "duration": 948,
    "start_time": "2022-04-27T15:23:52.430Z"
   },
   {
    "duration": 843,
    "start_time": "2022-04-27T15:23:53.381Z"
   },
   {
    "duration": 1134,
    "start_time": "2022-04-27T15:23:54.230Z"
   },
   {
    "duration": 382,
    "start_time": "2022-04-27T15:23:55.367Z"
   },
   {
    "duration": 46,
    "start_time": "2022-04-27T15:23:55.752Z"
   },
   {
    "duration": 38,
    "start_time": "2022-04-27T15:23:55.800Z"
   },
   {
    "duration": 36,
    "start_time": "2022-04-27T15:23:55.841Z"
   },
   {
    "duration": 189,
    "start_time": "2022-04-27T15:23:55.879Z"
   },
   {
    "duration": 572,
    "start_time": "2022-04-27T15:23:56.071Z"
   },
   {
    "duration": 0,
    "start_time": "2022-04-27T15:23:56.646Z"
   },
   {
    "duration": 0,
    "start_time": "2022-04-27T15:23:56.648Z"
   },
   {
    "duration": 0,
    "start_time": "2022-04-27T15:23:56.650Z"
   },
   {
    "duration": 0,
    "start_time": "2022-04-27T15:23:56.652Z"
   },
   {
    "duration": 1,
    "start_time": "2022-04-27T15:23:56.653Z"
   },
   {
    "duration": 0,
    "start_time": "2022-04-27T15:23:56.655Z"
   },
   {
    "duration": 0,
    "start_time": "2022-04-27T15:23:56.657Z"
   },
   {
    "duration": 0,
    "start_time": "2022-04-27T15:23:56.659Z"
   },
   {
    "duration": 0,
    "start_time": "2022-04-27T15:23:56.661Z"
   },
   {
    "duration": 868,
    "start_time": "2022-04-27T15:29:32.724Z"
   },
   {
    "duration": 5,
    "start_time": "2022-04-27T15:29:34.360Z"
   },
   {
    "duration": 5,
    "start_time": "2022-04-27T15:29:36.397Z"
   },
   {
    "duration": 238,
    "start_time": "2022-04-27T15:29:37.805Z"
   },
   {
    "duration": 220,
    "start_time": "2022-04-27T15:29:42.005Z"
   },
   {
    "duration": 13,
    "start_time": "2022-04-27T15:29:47.709Z"
   },
   {
    "duration": 6,
    "start_time": "2022-04-27T15:29:54.054Z"
   },
   {
    "duration": 302395,
    "start_time": "2022-04-27T15:29:55.392Z"
   },
   {
    "duration": 5061,
    "start_time": "2022-04-27T15:37:54.814Z"
   },
   {
    "duration": 2352,
    "start_time": "2022-04-28T06:58:36.989Z"
   },
   {
    "duration": 1114,
    "start_time": "2022-04-28T06:58:39.344Z"
   },
   {
    "duration": 177,
    "start_time": "2022-04-28T06:58:40.460Z"
   },
   {
    "duration": 136,
    "start_time": "2022-04-28T06:58:40.640Z"
   },
   {
    "duration": 1185,
    "start_time": "2022-04-28T06:58:40.782Z"
   },
   {
    "duration": 234,
    "start_time": "2022-04-28T06:58:41.969Z"
   },
   {
    "duration": 670,
    "start_time": "2022-04-28T06:58:42.205Z"
   },
   {
    "duration": 717,
    "start_time": "2022-04-28T06:58:42.877Z"
   },
   {
    "duration": 299,
    "start_time": "2022-04-28T06:58:43.596Z"
   },
   {
    "duration": 21,
    "start_time": "2022-04-28T06:58:43.902Z"
   },
   {
    "duration": 734,
    "start_time": "2022-04-28T06:58:43.926Z"
   },
   {
    "duration": 654,
    "start_time": "2022-04-28T06:58:44.662Z"
   },
   {
    "duration": 524,
    "start_time": "2022-04-28T06:58:45.318Z"
   },
   {
    "duration": 739,
    "start_time": "2022-04-28T06:58:45.845Z"
   },
   {
    "duration": 256,
    "start_time": "2022-04-28T06:58:46.586Z"
   },
   {
    "duration": 48,
    "start_time": "2022-04-28T06:58:46.844Z"
   },
   {
    "duration": 17,
    "start_time": "2022-04-28T06:58:46.894Z"
   },
   {
    "duration": 27,
    "start_time": "2022-04-28T06:58:46.913Z"
   },
   {
    "duration": 172,
    "start_time": "2022-04-28T06:58:46.942Z"
   },
   {
    "duration": 644,
    "start_time": "2022-04-28T06:58:47.116Z"
   },
   {
    "duration": 6,
    "start_time": "2022-04-28T06:58:47.762Z"
   },
   {
    "duration": 5,
    "start_time": "2022-04-28T06:58:47.782Z"
   },
   {
    "duration": 233,
    "start_time": "2022-04-28T06:58:47.789Z"
   },
   {
    "duration": 13,
    "start_time": "2022-04-28T06:58:48.025Z"
   },
   {
    "duration": 7,
    "start_time": "2022-04-28T06:58:48.040Z"
   },
   {
    "duration": 280969,
    "start_time": "2022-04-28T06:58:48.049Z"
   },
   {
    "duration": 7,
    "start_time": "2022-04-28T07:03:29.021Z"
   },
   {
    "duration": 1129,
    "start_time": "2022-04-28T07:03:29.034Z"
   },
   {
    "duration": 6,
    "start_time": "2022-04-28T07:07:10.817Z"
   },
   {
    "duration": 1057,
    "start_time": "2022-04-28T07:07:10.826Z"
   },
   {
    "duration": 167,
    "start_time": "2022-04-28T07:07:11.885Z"
   },
   {
    "duration": 128,
    "start_time": "2022-04-28T07:07:12.055Z"
   },
   {
    "duration": 1090,
    "start_time": "2022-04-28T07:07:12.185Z"
   },
   {
    "duration": 188,
    "start_time": "2022-04-28T07:07:13.277Z"
   },
   {
    "duration": 851,
    "start_time": "2022-04-28T07:07:13.468Z"
   },
   {
    "duration": 706,
    "start_time": "2022-04-28T07:07:14.321Z"
   },
   {
    "duration": 320,
    "start_time": "2022-04-28T07:07:15.030Z"
   },
   {
    "duration": 28,
    "start_time": "2022-04-28T07:07:15.354Z"
   },
   {
    "duration": 589,
    "start_time": "2022-04-28T07:07:15.384Z"
   },
   {
    "duration": 746,
    "start_time": "2022-04-28T07:07:15.975Z"
   },
   {
    "duration": 516,
    "start_time": "2022-04-28T07:07:16.723Z"
   },
   {
    "duration": 639,
    "start_time": "2022-04-28T07:07:17.242Z"
   },
   {
    "duration": 260,
    "start_time": "2022-04-28T07:07:17.884Z"
   },
   {
    "duration": 55,
    "start_time": "2022-04-28T07:07:18.146Z"
   },
   {
    "duration": 17,
    "start_time": "2022-04-28T07:07:18.203Z"
   },
   {
    "duration": 34,
    "start_time": "2022-04-28T07:07:18.222Z"
   },
   {
    "duration": 170,
    "start_time": "2022-04-28T07:07:18.258Z"
   },
   {
    "duration": 610,
    "start_time": "2022-04-28T07:07:18.430Z"
   },
   {
    "duration": 5,
    "start_time": "2022-04-28T07:07:19.042Z"
   },
   {
    "duration": 9,
    "start_time": "2022-04-28T07:07:19.049Z"
   },
   {
    "duration": 21,
    "start_time": "2022-04-28T07:07:19.061Z"
   },
   {
    "duration": 17,
    "start_time": "2022-04-28T07:07:19.084Z"
   },
   {
    "duration": 6,
    "start_time": "2022-04-28T07:07:19.103Z"
   },
   {
    "duration": 272910,
    "start_time": "2022-04-28T07:07:19.111Z"
   },
   {
    "duration": 7,
    "start_time": "2022-04-28T07:11:52.023Z"
   },
   {
    "duration": 895,
    "start_time": "2022-04-28T07:11:52.034Z"
   },
   {
    "duration": 21,
    "start_time": "2022-04-28T07:13:01.653Z"
   },
   {
    "duration": 21,
    "start_time": "2022-04-28T07:14:27.383Z"
   },
   {
    "duration": 6,
    "start_time": "2022-04-28T07:15:55.347Z"
   },
   {
    "duration": 1035,
    "start_time": "2022-04-28T07:15:55.356Z"
   },
   {
    "duration": 174,
    "start_time": "2022-04-28T07:15:56.394Z"
   },
   {
    "duration": 125,
    "start_time": "2022-04-28T07:15:56.570Z"
   },
   {
    "duration": 1073,
    "start_time": "2022-04-28T07:15:56.698Z"
   },
   {
    "duration": 171,
    "start_time": "2022-04-28T07:15:57.773Z"
   },
   {
    "duration": 629,
    "start_time": "2022-04-28T07:15:57.946Z"
   },
   {
    "duration": 663,
    "start_time": "2022-04-28T07:15:58.577Z"
   },
   {
    "duration": 295,
    "start_time": "2022-04-28T07:15:59.242Z"
   },
   {
    "duration": 20,
    "start_time": "2022-04-28T07:15:59.539Z"
   },
   {
    "duration": 629,
    "start_time": "2022-04-28T07:15:59.561Z"
   },
   {
    "duration": 737,
    "start_time": "2022-04-28T07:16:00.192Z"
   },
   {
    "duration": 511,
    "start_time": "2022-04-28T07:16:00.931Z"
   },
   {
    "duration": 627,
    "start_time": "2022-04-28T07:16:01.446Z"
   },
   {
    "duration": 264,
    "start_time": "2022-04-28T07:16:02.075Z"
   },
   {
    "duration": 54,
    "start_time": "2022-04-28T07:16:02.341Z"
   },
   {
    "duration": 17,
    "start_time": "2022-04-28T07:16:02.397Z"
   },
   {
    "duration": 39,
    "start_time": "2022-04-28T07:16:02.416Z"
   },
   {
    "duration": 173,
    "start_time": "2022-04-28T07:16:02.457Z"
   },
   {
    "duration": 628,
    "start_time": "2022-04-28T07:16:02.633Z"
   },
   {
    "duration": 5,
    "start_time": "2022-04-28T07:16:03.263Z"
   },
   {
    "duration": 3,
    "start_time": "2022-04-28T07:16:03.282Z"
   },
   {
    "duration": 26,
    "start_time": "2022-04-28T07:16:03.288Z"
   },
   {
    "duration": 33,
    "start_time": "2022-04-28T07:16:03.317Z"
   },
   {
    "duration": 2199,
    "start_time": "2022-04-28T10:56:35.946Z"
   },
   {
    "duration": 1236,
    "start_time": "2022-04-28T10:56:38.147Z"
   },
   {
    "duration": 6,
    "start_time": "2022-04-28T10:56:44.269Z"
   },
   {
    "duration": 1160,
    "start_time": "2022-04-28T10:56:44.282Z"
   },
   {
    "duration": 172,
    "start_time": "2022-04-28T10:56:45.444Z"
   },
   {
    "duration": 135,
    "start_time": "2022-04-28T10:56:45.618Z"
   },
   {
    "duration": 1165,
    "start_time": "2022-04-28T10:56:45.756Z"
   },
   {
    "duration": 239,
    "start_time": "2022-04-28T10:56:46.923Z"
   },
   {
    "duration": 740,
    "start_time": "2022-04-28T10:56:47.164Z"
   },
   {
    "duration": 768,
    "start_time": "2022-04-28T10:56:47.906Z"
   },
   {
    "duration": 297,
    "start_time": "2022-04-28T10:56:48.677Z"
   },
   {
    "duration": 20,
    "start_time": "2022-04-28T10:56:48.976Z"
   },
   {
    "duration": 738,
    "start_time": "2022-04-28T10:56:49.000Z"
   },
   {
    "duration": 652,
    "start_time": "2022-04-28T10:56:49.739Z"
   },
   {
    "duration": 533,
    "start_time": "2022-04-28T10:56:50.393Z"
   },
   {
    "duration": 637,
    "start_time": "2022-04-28T10:56:50.928Z"
   },
   {
    "duration": 277,
    "start_time": "2022-04-28T10:56:51.567Z"
   },
   {
    "duration": 53,
    "start_time": "2022-04-28T10:56:51.846Z"
   },
   {
    "duration": 17,
    "start_time": "2022-04-28T10:56:51.902Z"
   },
   {
    "duration": 25,
    "start_time": "2022-04-28T10:56:51.921Z"
   },
   {
    "duration": 189,
    "start_time": "2022-04-28T10:56:51.948Z"
   },
   {
    "duration": 0,
    "start_time": "2022-04-28T10:56:52.140Z"
   },
   {
    "duration": 0,
    "start_time": "2022-04-28T10:56:52.141Z"
   },
   {
    "duration": 0,
    "start_time": "2022-04-28T10:56:52.143Z"
   },
   {
    "duration": 0,
    "start_time": "2022-04-28T10:56:52.145Z"
   },
   {
    "duration": 0,
    "start_time": "2022-04-28T10:56:52.146Z"
   },
   {
    "duration": 0,
    "start_time": "2022-04-28T10:56:52.148Z"
   },
   {
    "duration": 0,
    "start_time": "2022-04-28T10:56:52.150Z"
   },
   {
    "duration": 0,
    "start_time": "2022-04-28T10:56:52.151Z"
   },
   {
    "duration": 0,
    "start_time": "2022-04-28T10:56:52.152Z"
   },
   {
    "duration": 0,
    "start_time": "2022-04-28T10:56:52.182Z"
   },
   {
    "duration": 0,
    "start_time": "2022-04-28T10:56:52.184Z"
   },
   {
    "duration": 0,
    "start_time": "2022-04-28T10:56:52.186Z"
   },
   {
    "duration": 0,
    "start_time": "2022-04-28T10:56:52.187Z"
   },
   {
    "duration": 0,
    "start_time": "2022-04-28T10:56:52.188Z"
   },
   {
    "duration": 0,
    "start_time": "2022-04-28T10:56:52.190Z"
   },
   {
    "duration": 0,
    "start_time": "2022-04-28T10:56:52.191Z"
   },
   {
    "duration": 42,
    "start_time": "2022-04-28T11:05:09.640Z"
   },
   {
    "duration": 1156,
    "start_time": "2022-04-28T11:05:09.685Z"
   },
   {
    "duration": 175,
    "start_time": "2022-04-28T11:05:10.843Z"
   },
   {
    "duration": 126,
    "start_time": "2022-04-28T11:05:11.022Z"
   },
   {
    "duration": 1059,
    "start_time": "2022-04-28T11:05:11.150Z"
   },
   {
    "duration": 177,
    "start_time": "2022-04-28T11:05:12.211Z"
   },
   {
    "duration": 649,
    "start_time": "2022-04-28T11:05:12.391Z"
   },
   {
    "duration": 668,
    "start_time": "2022-04-28T11:05:13.042Z"
   },
   {
    "duration": 293,
    "start_time": "2022-04-28T11:05:13.712Z"
   },
   {
    "duration": 20,
    "start_time": "2022-04-28T11:05:14.009Z"
   },
   {
    "duration": 614,
    "start_time": "2022-04-28T11:05:14.031Z"
   },
   {
    "duration": 729,
    "start_time": "2022-04-28T11:05:14.647Z"
   },
   {
    "duration": 512,
    "start_time": "2022-04-28T11:05:15.383Z"
   },
   {
    "duration": 610,
    "start_time": "2022-04-28T11:05:15.897Z"
   },
   {
    "duration": 252,
    "start_time": "2022-04-28T11:05:16.509Z"
   },
   {
    "duration": 51,
    "start_time": "2022-04-28T11:05:16.764Z"
   },
   {
    "duration": 17,
    "start_time": "2022-04-28T11:05:16.818Z"
   },
   {
    "duration": 59,
    "start_time": "2022-04-28T11:05:16.838Z"
   },
   {
    "duration": 20,
    "start_time": "2022-04-28T11:05:16.899Z"
   },
   {
    "duration": 0,
    "start_time": "2022-04-28T11:05:16.922Z"
   },
   {
    "duration": 0,
    "start_time": "2022-04-28T11:05:16.924Z"
   },
   {
    "duration": 0,
    "start_time": "2022-04-28T11:05:16.926Z"
   },
   {
    "duration": 0,
    "start_time": "2022-04-28T11:05:16.927Z"
   },
   {
    "duration": 0,
    "start_time": "2022-04-28T11:05:16.929Z"
   },
   {
    "duration": 0,
    "start_time": "2022-04-28T11:05:16.930Z"
   },
   {
    "duration": 0,
    "start_time": "2022-04-28T11:05:16.932Z"
   },
   {
    "duration": 0,
    "start_time": "2022-04-28T11:05:16.933Z"
   },
   {
    "duration": 0,
    "start_time": "2022-04-28T11:05:16.934Z"
   },
   {
    "duration": 0,
    "start_time": "2022-04-28T11:05:16.937Z"
   },
   {
    "duration": 0,
    "start_time": "2022-04-28T11:05:16.938Z"
   },
   {
    "duration": 0,
    "start_time": "2022-04-28T11:05:16.940Z"
   },
   {
    "duration": 0,
    "start_time": "2022-04-28T11:05:16.982Z"
   },
   {
    "duration": 0,
    "start_time": "2022-04-28T11:05:16.983Z"
   },
   {
    "duration": 0,
    "start_time": "2022-04-28T11:05:16.985Z"
   },
   {
    "duration": 0,
    "start_time": "2022-04-28T11:05:16.986Z"
   },
   {
    "duration": 416,
    "start_time": "2022-04-28T11:28:15.611Z"
   },
   {
    "duration": 482,
    "start_time": "2022-04-28T11:28:39.618Z"
   },
   {
    "duration": 444,
    "start_time": "2022-04-28T11:29:05.311Z"
   },
   {
    "duration": 13,
    "start_time": "2022-04-28T11:29:09.201Z"
   },
   {
    "duration": 900,
    "start_time": "2022-04-28T11:29:16.152Z"
   },
   {
    "duration": 1591,
    "start_time": "2022-04-28T11:31:14.561Z"
   },
   {
    "duration": 861,
    "start_time": "2022-04-28T11:31:27.475Z"
   },
   {
    "duration": 132,
    "start_time": "2022-04-28T11:32:04.413Z"
   },
   {
    "duration": 674,
    "start_time": "2022-04-28T11:32:30.111Z"
   },
   {
    "duration": 7,
    "start_time": "2022-04-28T11:34:12.983Z"
   },
   {
    "duration": 1170,
    "start_time": "2022-04-28T11:34:12.993Z"
   },
   {
    "duration": 184,
    "start_time": "2022-04-28T11:34:14.167Z"
   },
   {
    "duration": 125,
    "start_time": "2022-04-28T11:34:14.353Z"
   },
   {
    "duration": 1077,
    "start_time": "2022-04-28T11:34:14.482Z"
   },
   {
    "duration": 171,
    "start_time": "2022-04-28T11:34:15.561Z"
   },
   {
    "duration": 629,
    "start_time": "2022-04-28T11:34:15.734Z"
   },
   {
    "duration": 667,
    "start_time": "2022-04-28T11:34:16.365Z"
   },
   {
    "duration": 298,
    "start_time": "2022-04-28T11:34:17.036Z"
   },
   {
    "duration": 20,
    "start_time": "2022-04-28T11:34:17.337Z"
   },
   {
    "duration": 641,
    "start_time": "2022-04-28T11:34:17.359Z"
   },
   {
    "duration": 806,
    "start_time": "2022-04-28T11:34:18.003Z"
   },
   {
    "duration": 524,
    "start_time": "2022-04-28T11:34:18.811Z"
   },
   {
    "duration": 623,
    "start_time": "2022-04-28T11:34:19.337Z"
   },
   {
    "duration": 264,
    "start_time": "2022-04-28T11:34:19.963Z"
   },
   {
    "duration": 53,
    "start_time": "2022-04-28T11:34:20.229Z"
   },
   {
    "duration": 16,
    "start_time": "2022-04-28T11:34:20.285Z"
   },
   {
    "duration": 39,
    "start_time": "2022-04-28T11:34:20.303Z"
   },
   {
    "duration": 1332,
    "start_time": "2022-04-28T11:34:20.344Z"
   },
   {
    "duration": 827,
    "start_time": "2022-04-28T11:34:21.681Z"
   },
   {
    "duration": 657,
    "start_time": "2022-04-28T11:34:22.510Z"
   },
   {
    "duration": 100522,
    "start_time": "2022-04-28T11:34:23.169Z"
   },
   {
    "duration": 11623,
    "start_time": "2022-04-28T11:36:03.693Z"
   },
   {
    "duration": 0,
    "start_time": "2022-04-28T11:36:15.319Z"
   },
   {
    "duration": 0,
    "start_time": "2022-04-28T11:36:15.321Z"
   },
   {
    "duration": 0,
    "start_time": "2022-04-28T11:36:15.324Z"
   },
   {
    "duration": 0,
    "start_time": "2022-04-28T11:36:15.326Z"
   },
   {
    "duration": 0,
    "start_time": "2022-04-28T11:36:15.328Z"
   },
   {
    "duration": 0,
    "start_time": "2022-04-28T11:36:15.330Z"
   },
   {
    "duration": 0,
    "start_time": "2022-04-28T11:36:15.332Z"
   },
   {
    "duration": 0,
    "start_time": "2022-04-28T11:36:15.334Z"
   },
   {
    "duration": 0,
    "start_time": "2022-04-28T11:36:15.335Z"
   },
   {
    "duration": 0,
    "start_time": "2022-04-28T11:36:15.337Z"
   },
   {
    "duration": 0,
    "start_time": "2022-04-28T11:36:15.338Z"
   },
   {
    "duration": 0,
    "start_time": "2022-04-28T11:36:15.341Z"
   },
   {
    "duration": 552,
    "start_time": "2022-04-28T11:50:46.000Z"
   },
   {
    "duration": 16,
    "start_time": "2022-04-28T11:51:03.272Z"
   },
   {
    "duration": 1558,
    "start_time": "2022-04-28T11:51:56.160Z"
   },
   {
    "duration": 1079,
    "start_time": "2022-04-28T11:51:57.721Z"
   },
   {
    "duration": 650,
    "start_time": "2022-04-28T11:51:58.802Z"
   },
   {
    "duration": 3,
    "start_time": "2022-04-28T11:51:59.455Z"
   },
   {
    "duration": 150158,
    "start_time": "2022-04-28T11:52:01.626Z"
   },
   {
    "duration": 131483,
    "start_time": "2022-04-28T12:01:34.701Z"
   },
   {
    "duration": 775798,
    "start_time": "2022-04-28T12:03:46.187Z"
   },
   {
    "duration": 135427,
    "start_time": "2022-04-28T12:36:08.763Z"
   },
   {
    "duration": 2083,
    "start_time": "2022-04-28T12:40:04.671Z"
   },
   {
    "duration": 1129,
    "start_time": "2022-04-28T12:40:06.757Z"
   },
   {
    "duration": 184,
    "start_time": "2022-04-28T12:40:07.889Z"
   },
   {
    "duration": 129,
    "start_time": "2022-04-28T12:40:08.075Z"
   },
   {
    "duration": 1833,
    "start_time": "2022-04-28T12:40:08.206Z"
   },
   {
    "duration": 239,
    "start_time": "2022-04-28T12:40:10.042Z"
   },
   {
    "duration": 700,
    "start_time": "2022-04-28T12:40:10.283Z"
   },
   {
    "duration": 751,
    "start_time": "2022-04-28T12:40:10.985Z"
   },
   {
    "duration": 295,
    "start_time": "2022-04-28T12:40:11.738Z"
   },
   {
    "duration": 20,
    "start_time": "2022-04-28T12:40:12.036Z"
   },
   {
    "duration": 639,
    "start_time": "2022-04-28T12:40:12.058Z"
   },
   {
    "duration": 0,
    "start_time": "2022-04-28T12:40:12.699Z"
   },
   {
    "duration": 1,
    "start_time": "2022-04-28T12:40:12.700Z"
   },
   {
    "duration": 0,
    "start_time": "2022-04-28T12:40:12.702Z"
   },
   {
    "duration": 0,
    "start_time": "2022-04-28T12:40:12.703Z"
   },
   {
    "duration": 0,
    "start_time": "2022-04-28T12:40:12.705Z"
   },
   {
    "duration": 0,
    "start_time": "2022-04-28T12:40:12.706Z"
   },
   {
    "duration": 0,
    "start_time": "2022-04-28T12:40:12.707Z"
   },
   {
    "duration": 0,
    "start_time": "2022-04-28T12:40:12.709Z"
   },
   {
    "duration": 0,
    "start_time": "2022-04-28T12:40:12.710Z"
   },
   {
    "duration": 0,
    "start_time": "2022-04-28T12:40:12.711Z"
   },
   {
    "duration": 1,
    "start_time": "2022-04-28T12:40:12.712Z"
   },
   {
    "duration": 0,
    "start_time": "2022-04-28T12:40:12.714Z"
   },
   {
    "duration": 0,
    "start_time": "2022-04-28T12:40:12.715Z"
   },
   {
    "duration": 0,
    "start_time": "2022-04-28T12:40:12.716Z"
   },
   {
    "duration": 0,
    "start_time": "2022-04-28T12:40:12.717Z"
   },
   {
    "duration": 0,
    "start_time": "2022-04-28T12:40:12.719Z"
   },
   {
    "duration": 0,
    "start_time": "2022-04-28T12:40:12.720Z"
   },
   {
    "duration": 0,
    "start_time": "2022-04-28T12:40:12.722Z"
   },
   {
    "duration": 0,
    "start_time": "2022-04-28T12:40:12.724Z"
   },
   {
    "duration": 0,
    "start_time": "2022-04-28T12:40:12.725Z"
   },
   {
    "duration": 0,
    "start_time": "2022-04-28T12:40:12.727Z"
   },
   {
    "duration": 0,
    "start_time": "2022-04-28T12:40:12.728Z"
   },
   {
    "duration": 0,
    "start_time": "2022-04-28T12:40:12.729Z"
   },
   {
    "duration": 0,
    "start_time": "2022-04-28T12:40:12.783Z"
   },
   {
    "duration": 0,
    "start_time": "2022-04-28T12:40:12.785Z"
   },
   {
    "duration": 0,
    "start_time": "2022-04-28T12:40:12.787Z"
   },
   {
    "duration": 0,
    "start_time": "2022-04-28T12:40:12.789Z"
   },
   {
    "duration": 37,
    "start_time": "2022-04-28T12:45:52.752Z"
   },
   {
    "duration": 1073,
    "start_time": "2022-04-28T12:45:52.791Z"
   },
   {
    "duration": 170,
    "start_time": "2022-04-28T12:45:53.866Z"
   },
   {
    "duration": 215,
    "start_time": "2022-04-28T12:45:54.039Z"
   },
   {
    "duration": 1165,
    "start_time": "2022-04-28T12:45:54.256Z"
   },
   {
    "duration": 198,
    "start_time": "2022-04-28T12:45:55.423Z"
   },
   {
    "duration": 644,
    "start_time": "2022-04-28T12:45:55.623Z"
   },
   {
    "duration": 684,
    "start_time": "2022-04-28T12:45:56.269Z"
   },
   {
    "duration": 288,
    "start_time": "2022-04-28T12:45:56.956Z"
   },
   {
    "duration": 20,
    "start_time": "2022-04-28T12:45:57.248Z"
   },
   {
    "duration": 613,
    "start_time": "2022-04-28T12:45:57.270Z"
   },
   {
    "duration": 634,
    "start_time": "2022-04-28T12:45:57.885Z"
   },
   {
    "duration": 509,
    "start_time": "2022-04-28T12:45:58.521Z"
   },
   {
    "duration": 621,
    "start_time": "2022-04-28T12:45:59.032Z"
   },
   {
    "duration": 253,
    "start_time": "2022-04-28T12:45:59.655Z"
   },
   {
    "duration": 38,
    "start_time": "2022-04-28T12:45:59.910Z"
   },
   {
    "duration": 35,
    "start_time": "2022-04-28T12:45:59.950Z"
   },
   {
    "duration": 29,
    "start_time": "2022-04-28T12:45:59.987Z"
   },
   {
    "duration": 2263,
    "start_time": "2022-04-28T12:46:00.019Z"
   },
   {
    "duration": 925,
    "start_time": "2022-04-28T12:46:02.286Z"
   },
   {
    "duration": 740,
    "start_time": "2022-04-28T12:46:03.213Z"
   },
   {
    "duration": 3,
    "start_time": "2022-04-28T12:46:03.956Z"
   },
   {
    "duration": 49622,
    "start_time": "2022-04-28T12:46:03.962Z"
   },
   {
    "duration": 5145,
    "start_time": "2022-04-28T12:46:53.588Z"
   },
   {
    "duration": 2327,
    "start_time": "2022-04-28T12:48:02.137Z"
   },
   {
    "duration": 1132,
    "start_time": "2022-04-28T12:48:04.466Z"
   },
   {
    "duration": 190,
    "start_time": "2022-04-28T12:48:05.600Z"
   },
   {
    "duration": 129,
    "start_time": "2022-04-28T12:48:05.794Z"
   },
   {
    "duration": 1142,
    "start_time": "2022-04-28T12:48:05.925Z"
   },
   {
    "duration": 247,
    "start_time": "2022-04-28T12:48:07.069Z"
   },
   {
    "duration": 711,
    "start_time": "2022-04-28T12:48:07.318Z"
   },
   {
    "duration": 760,
    "start_time": "2022-04-28T12:48:08.031Z"
   },
   {
    "duration": 305,
    "start_time": "2022-04-28T12:48:08.794Z"
   },
   {
    "duration": 21,
    "start_time": "2022-04-28T12:48:09.103Z"
   },
   {
    "duration": 656,
    "start_time": "2022-04-28T12:48:09.126Z"
   },
   {
    "duration": 730,
    "start_time": "2022-04-28T12:48:09.785Z"
   },
   {
    "duration": 530,
    "start_time": "2022-04-28T12:48:10.518Z"
   },
   {
    "duration": 634,
    "start_time": "2022-04-28T12:48:11.051Z"
   },
   {
    "duration": 287,
    "start_time": "2022-04-28T12:48:11.687Z"
   },
   {
    "duration": 41,
    "start_time": "2022-04-28T12:48:11.977Z"
   },
   {
    "duration": 19,
    "start_time": "2022-04-28T12:48:12.021Z"
   },
   {
    "duration": 58,
    "start_time": "2022-04-28T12:48:12.043Z"
   },
   {
    "duration": 1406,
    "start_time": "2022-04-28T12:48:12.104Z"
   },
   {
    "duration": 943,
    "start_time": "2022-04-28T12:48:13.512Z"
   },
   {
    "duration": 775,
    "start_time": "2022-04-28T12:48:14.457Z"
   },
   {
    "duration": 3,
    "start_time": "2022-04-28T12:48:15.234Z"
   },
   {
    "duration": 48052,
    "start_time": "2022-04-28T12:48:15.239Z"
   },
   {
    "duration": 1633,
    "start_time": "2022-04-28T12:49:03.384Z"
   },
   {
    "duration": 1986,
    "start_time": "2022-04-28T12:50:47.879Z"
   },
   {
    "duration": 1180,
    "start_time": "2022-04-28T12:50:49.868Z"
   },
   {
    "duration": 192,
    "start_time": "2022-04-28T12:50:51.054Z"
   },
   {
    "duration": 133,
    "start_time": "2022-04-28T12:50:51.248Z"
   },
   {
    "duration": 1114,
    "start_time": "2022-04-28T12:50:51.383Z"
   },
   {
    "duration": 235,
    "start_time": "2022-04-28T12:50:52.500Z"
   },
   {
    "duration": 797,
    "start_time": "2022-04-28T12:50:52.737Z"
   },
   {
    "duration": 768,
    "start_time": "2022-04-28T12:50:53.536Z"
   },
   {
    "duration": 301,
    "start_time": "2022-04-28T12:50:54.308Z"
   },
   {
    "duration": 21,
    "start_time": "2022-04-28T12:50:54.611Z"
   },
   {
    "duration": 656,
    "start_time": "2022-04-28T12:50:54.635Z"
   },
   {
    "duration": 727,
    "start_time": "2022-04-28T12:50:55.294Z"
   },
   {
    "duration": 531,
    "start_time": "2022-04-28T12:50:56.024Z"
   },
   {
    "duration": 638,
    "start_time": "2022-04-28T12:50:56.558Z"
   },
   {
    "duration": 277,
    "start_time": "2022-04-28T12:50:57.199Z"
   },
   {
    "duration": 43,
    "start_time": "2022-04-28T12:50:57.482Z"
   },
   {
    "duration": 17,
    "start_time": "2022-04-28T12:50:57.527Z"
   },
   {
    "duration": 62,
    "start_time": "2022-04-28T12:50:57.547Z"
   },
   {
    "duration": 1719,
    "start_time": "2022-04-28T12:50:57.611Z"
   },
   {
    "duration": 1207,
    "start_time": "2022-04-28T12:50:59.333Z"
   },
   {
    "duration": 663,
    "start_time": "2022-04-28T12:51:00.542Z"
   },
   {
    "duration": 4,
    "start_time": "2022-04-28T12:51:01.207Z"
   },
   {
    "duration": 49371,
    "start_time": "2022-04-28T12:51:01.213Z"
   },
   {
    "duration": 516302,
    "start_time": "2022-04-28T12:51:50.587Z"
   },
   {
    "duration": 2037,
    "start_time": "2022-04-28T13:10:04.159Z"
   },
   {
    "duration": 1149,
    "start_time": "2022-04-28T13:10:06.199Z"
   },
   {
    "duration": 195,
    "start_time": "2022-04-28T13:10:07.350Z"
   },
   {
    "duration": 132,
    "start_time": "2022-04-28T13:10:07.548Z"
   },
   {
    "duration": 1184,
    "start_time": "2022-04-28T13:10:07.683Z"
   },
   {
    "duration": 247,
    "start_time": "2022-04-28T13:10:08.869Z"
   },
   {
    "duration": 701,
    "start_time": "2022-04-28T13:10:09.119Z"
   },
   {
    "duration": 775,
    "start_time": "2022-04-28T13:10:09.823Z"
   },
   {
    "duration": 304,
    "start_time": "2022-04-28T13:10:10.600Z"
   },
   {
    "duration": 20,
    "start_time": "2022-04-28T13:10:10.910Z"
   },
   {
    "duration": 652,
    "start_time": "2022-04-28T13:10:10.933Z"
   },
   {
    "duration": 726,
    "start_time": "2022-04-28T13:10:11.588Z"
   },
   {
    "duration": 522,
    "start_time": "2022-04-28T13:10:12.317Z"
   },
   {
    "duration": 630,
    "start_time": "2022-04-28T13:10:12.842Z"
   },
   {
    "duration": 272,
    "start_time": "2022-04-28T13:10:13.474Z"
   },
   {
    "duration": 52,
    "start_time": "2022-04-28T13:10:13.749Z"
   },
   {
    "duration": 16,
    "start_time": "2022-04-28T13:10:13.804Z"
   },
   {
    "duration": 26,
    "start_time": "2022-04-28T13:10:13.822Z"
   },
   {
    "duration": 1708,
    "start_time": "2022-04-28T13:10:13.851Z"
   },
   {
    "duration": 1017,
    "start_time": "2022-04-28T13:10:15.561Z"
   },
   {
    "duration": 695,
    "start_time": "2022-04-28T13:10:16.582Z"
   },
   {
    "duration": 3,
    "start_time": "2022-04-28T13:10:17.279Z"
   },
   {
    "duration": 48606,
    "start_time": "2022-04-28T13:10:17.284Z"
   },
   {
    "duration": 2034,
    "start_time": "2022-04-28T13:24:06.829Z"
   },
   {
    "duration": 1224,
    "start_time": "2022-04-28T13:24:08.867Z"
   },
   {
    "duration": 192,
    "start_time": "2022-04-28T13:24:10.094Z"
   },
   {
    "duration": 130,
    "start_time": "2022-04-28T13:24:10.289Z"
   },
   {
    "duration": 1132,
    "start_time": "2022-04-28T13:24:10.421Z"
   },
   {
    "duration": 238,
    "start_time": "2022-04-28T13:24:11.555Z"
   },
   {
    "duration": 691,
    "start_time": "2022-04-28T13:24:11.795Z"
   },
   {
    "duration": 741,
    "start_time": "2022-04-28T13:24:12.488Z"
   },
   {
    "duration": 298,
    "start_time": "2022-04-28T13:24:13.231Z"
   },
   {
    "duration": 19,
    "start_time": "2022-04-28T13:24:13.533Z"
   },
   {
    "duration": 642,
    "start_time": "2022-04-28T13:24:13.555Z"
   },
   {
    "duration": 728,
    "start_time": "2022-04-28T13:24:14.200Z"
   },
   {
    "duration": 506,
    "start_time": "2022-04-28T13:24:14.930Z"
   },
   {
    "duration": 618,
    "start_time": "2022-04-28T13:24:15.438Z"
   },
   {
    "duration": 273,
    "start_time": "2022-04-28T13:24:16.059Z"
   },
   {
    "duration": 53,
    "start_time": "2022-04-28T13:24:16.334Z"
   },
   {
    "duration": 31,
    "start_time": "2022-04-28T13:24:16.390Z"
   },
   {
    "duration": 1783,
    "start_time": "2022-04-28T13:24:16.423Z"
   },
   {
    "duration": 1187,
    "start_time": "2022-04-28T13:24:18.209Z"
   },
   {
    "duration": 673,
    "start_time": "2022-04-28T13:24:19.398Z"
   },
   {
    "duration": 8,
    "start_time": "2022-04-28T13:24:20.073Z"
   },
   {
    "duration": 54207,
    "start_time": "2022-04-28T13:24:20.084Z"
   },
   {
    "duration": 2098,
    "start_time": "2022-04-28T13:29:42.370Z"
   },
   {
    "duration": 1167,
    "start_time": "2022-04-28T13:29:44.471Z"
   },
   {
    "duration": 187,
    "start_time": "2022-04-28T13:29:45.640Z"
   },
   {
    "duration": 134,
    "start_time": "2022-04-28T13:29:45.831Z"
   },
   {
    "duration": 1157,
    "start_time": "2022-04-28T13:29:45.967Z"
   },
   {
    "duration": 234,
    "start_time": "2022-04-28T13:29:47.126Z"
   },
   {
    "duration": 723,
    "start_time": "2022-04-28T13:29:47.362Z"
   },
   {
    "duration": 778,
    "start_time": "2022-04-28T13:29:48.087Z"
   },
   {
    "duration": 317,
    "start_time": "2022-04-28T13:29:48.867Z"
   },
   {
    "duration": 20,
    "start_time": "2022-04-28T13:29:49.187Z"
   },
   {
    "duration": 648,
    "start_time": "2022-04-28T13:29:49.210Z"
   },
   {
    "duration": 741,
    "start_time": "2022-04-28T13:29:49.860Z"
   },
   {
    "duration": 627,
    "start_time": "2022-04-28T13:29:50.604Z"
   },
   {
    "duration": 633,
    "start_time": "2022-04-28T13:29:51.233Z"
   },
   {
    "duration": 298,
    "start_time": "2022-04-28T13:29:51.868Z"
   },
   {
    "duration": 43,
    "start_time": "2022-04-28T13:29:52.168Z"
   },
   {
    "duration": 30,
    "start_time": "2022-04-28T13:29:52.213Z"
   },
   {
    "duration": 1778,
    "start_time": "2022-04-28T13:29:52.245Z"
   },
   {
    "duration": 1064,
    "start_time": "2022-04-28T13:29:54.025Z"
   },
   {
    "duration": 674,
    "start_time": "2022-04-28T13:29:55.091Z"
   },
   {
    "duration": 3,
    "start_time": "2022-04-28T13:29:55.767Z"
   },
   {
    "duration": 49212,
    "start_time": "2022-04-28T13:29:55.772Z"
   },
   {
    "duration": 184404,
    "start_time": "2022-04-28T13:30:44.987Z"
   },
   {
    "duration": 796200,
    "start_time": "2022-04-28T13:33:49.393Z"
   },
   {
    "duration": 355,
    "start_time": "2022-04-28T13:49:03.877Z"
   },
   {
    "duration": 2170,
    "start_time": "2022-04-28T13:56:09.191Z"
   },
   {
    "duration": 1235,
    "start_time": "2022-04-28T13:56:11.364Z"
   },
   {
    "duration": 186,
    "start_time": "2022-04-28T13:56:12.601Z"
   },
   {
    "duration": 175,
    "start_time": "2022-04-28T13:56:12.792Z"
   },
   {
    "duration": 1231,
    "start_time": "2022-04-28T13:56:12.969Z"
   },
   {
    "duration": 241,
    "start_time": "2022-04-28T13:56:14.202Z"
   },
   {
    "duration": 767,
    "start_time": "2022-04-28T13:56:14.445Z"
   },
   {
    "duration": 900,
    "start_time": "2022-04-28T13:56:15.215Z"
   },
   {
    "duration": 413,
    "start_time": "2022-04-28T13:56:16.117Z"
   },
   {
    "duration": 20,
    "start_time": "2022-04-28T13:56:16.534Z"
   },
   {
    "duration": 765,
    "start_time": "2022-04-28T13:56:16.557Z"
   },
   {
    "duration": 734,
    "start_time": "2022-04-28T13:56:17.324Z"
   },
   {
    "duration": 525,
    "start_time": "2022-04-28T13:56:18.061Z"
   },
   {
    "duration": 763,
    "start_time": "2022-04-28T13:56:18.589Z"
   },
   {
    "duration": 279,
    "start_time": "2022-04-28T13:56:19.355Z"
   },
   {
    "duration": 106,
    "start_time": "2022-04-28T13:56:19.636Z"
   },
   {
    "duration": 0,
    "start_time": "2022-04-28T13:56:19.744Z"
   },
   {
    "duration": 0,
    "start_time": "2022-04-28T13:56:19.746Z"
   },
   {
    "duration": 0,
    "start_time": "2022-04-28T13:56:19.749Z"
   },
   {
    "duration": 0,
    "start_time": "2022-04-28T13:56:19.750Z"
   },
   {
    "duration": 0,
    "start_time": "2022-04-28T13:56:19.752Z"
   },
   {
    "duration": 0,
    "start_time": "2022-04-28T13:56:19.754Z"
   },
   {
    "duration": 0,
    "start_time": "2022-04-28T13:56:19.756Z"
   },
   {
    "duration": 0,
    "start_time": "2022-04-28T13:56:19.758Z"
   },
   {
    "duration": 0,
    "start_time": "2022-04-28T13:56:19.760Z"
   },
   {
    "duration": 0,
    "start_time": "2022-04-28T13:56:19.762Z"
   },
   {
    "duration": 2948,
    "start_time": "2022-04-28T14:01:16.767Z"
   },
   {
    "duration": 1165,
    "start_time": "2022-04-28T14:01:19.718Z"
   },
   {
    "duration": 202,
    "start_time": "2022-04-28T14:01:20.891Z"
   },
   {
    "duration": 171,
    "start_time": "2022-04-28T14:01:21.096Z"
   },
   {
    "duration": 1187,
    "start_time": "2022-04-28T14:01:21.269Z"
   },
   {
    "duration": 266,
    "start_time": "2022-04-28T14:01:22.458Z"
   },
   {
    "duration": 740,
    "start_time": "2022-04-28T14:01:22.726Z"
   },
   {
    "duration": 831,
    "start_time": "2022-04-28T14:01:23.469Z"
   },
   {
    "duration": 318,
    "start_time": "2022-04-28T14:01:24.305Z"
   },
   {
    "duration": 23,
    "start_time": "2022-04-28T14:01:24.626Z"
   },
   {
    "duration": 683,
    "start_time": "2022-04-28T14:01:24.652Z"
   },
   {
    "duration": 753,
    "start_time": "2022-04-28T14:01:25.338Z"
   },
   {
    "duration": 549,
    "start_time": "2022-04-28T14:01:26.093Z"
   },
   {
    "duration": 651,
    "start_time": "2022-04-28T14:01:26.645Z"
   },
   {
    "duration": 269,
    "start_time": "2022-04-28T14:01:27.298Z"
   },
   {
    "duration": 40,
    "start_time": "2022-04-28T14:01:27.569Z"
   },
   {
    "duration": 31,
    "start_time": "2022-04-28T14:01:27.611Z"
   },
   {
    "duration": 1530,
    "start_time": "2022-04-28T14:01:27.644Z"
   },
   {
    "duration": 923,
    "start_time": "2022-04-28T14:01:29.177Z"
   },
   {
    "duration": 778,
    "start_time": "2022-04-28T14:01:30.103Z"
   },
   {
    "duration": 7,
    "start_time": "2022-04-28T14:01:30.883Z"
   },
   {
    "duration": 269,
    "start_time": "2022-04-28T14:01:30.892Z"
   },
   {
    "duration": 0,
    "start_time": "2022-04-28T14:01:31.163Z"
   },
   {
    "duration": 0,
    "start_time": "2022-04-28T14:01:31.165Z"
   },
   {
    "duration": 0,
    "start_time": "2022-04-28T14:01:31.166Z"
   },
   {
    "duration": 82172,
    "start_time": "2022-04-28T14:02:07.613Z"
   },
   {
    "duration": 809430,
    "start_time": "2022-04-28T14:11:45.783Z"
   },
   {
    "duration": 50,
    "start_time": "2022-04-28T14:31:22.952Z"
   },
   {
    "duration": 111,
    "start_time": "2022-04-28T14:31:52.646Z"
   },
   {
    "duration": 269,
    "start_time": "2022-04-28T14:32:05.614Z"
   },
   {
    "duration": 2458,
    "start_time": "2022-04-28T14:33:52.535Z"
   },
   {
    "duration": 263,
    "start_time": "2022-04-28T14:36:27.586Z"
   },
   {
    "duration": 164,
    "start_time": "2022-04-28T14:36:42.959Z"
   },
   {
    "duration": 166,
    "start_time": "2022-04-28T14:37:38.625Z"
   },
   {
    "duration": 2774,
    "start_time": "2022-04-28T14:37:46.623Z"
   },
   {
    "duration": 2067,
    "start_time": "2022-04-28T14:38:41.510Z"
   },
   {
    "duration": 1137,
    "start_time": "2022-04-28T14:38:43.580Z"
   },
   {
    "duration": 188,
    "start_time": "2022-04-28T14:38:44.720Z"
   },
   {
    "duration": 142,
    "start_time": "2022-04-28T14:38:44.913Z"
   },
   {
    "duration": 1189,
    "start_time": "2022-04-28T14:38:45.058Z"
   },
   {
    "duration": 239,
    "start_time": "2022-04-28T14:38:46.250Z"
   },
   {
    "duration": 714,
    "start_time": "2022-04-28T14:38:46.491Z"
   },
   {
    "duration": 762,
    "start_time": "2022-04-28T14:38:47.207Z"
   },
   {
    "duration": 310,
    "start_time": "2022-04-28T14:38:47.972Z"
   },
   {
    "duration": 21,
    "start_time": "2022-04-28T14:38:48.286Z"
   },
   {
    "duration": 647,
    "start_time": "2022-04-28T14:38:48.309Z"
   },
   {
    "duration": 739,
    "start_time": "2022-04-28T14:38:48.959Z"
   },
   {
    "duration": 518,
    "start_time": "2022-04-28T14:38:49.700Z"
   },
   {
    "duration": 619,
    "start_time": "2022-04-28T14:38:50.221Z"
   },
   {
    "duration": 273,
    "start_time": "2022-04-28T14:38:50.843Z"
   },
   {
    "duration": 38,
    "start_time": "2022-04-28T14:38:51.119Z"
   },
   {
    "duration": 39,
    "start_time": "2022-04-28T14:38:51.160Z"
   },
   {
    "duration": 1817,
    "start_time": "2022-04-28T14:38:51.202Z"
   },
   {
    "duration": 1073,
    "start_time": "2022-04-28T14:38:53.022Z"
   },
   {
    "duration": 652,
    "start_time": "2022-04-28T14:38:54.097Z"
   },
   {
    "duration": 3,
    "start_time": "2022-04-28T14:38:54.752Z"
   },
   {
    "duration": 69429,
    "start_time": "2022-04-28T14:38:54.757Z"
   },
   {
    "duration": 3772,
    "start_time": "2022-04-28T17:05:02.077Z"
   },
   {
    "duration": 1110,
    "start_time": "2022-04-28T17:05:05.852Z"
   },
   {
    "duration": 178,
    "start_time": "2022-04-28T17:05:06.964Z"
   },
   {
    "duration": 133,
    "start_time": "2022-04-28T17:05:07.144Z"
   },
   {
    "duration": 1116,
    "start_time": "2022-04-28T17:05:07.281Z"
   },
   {
    "duration": 242,
    "start_time": "2022-04-28T17:05:08.399Z"
   },
   {
    "duration": 668,
    "start_time": "2022-04-28T17:05:08.643Z"
   },
   {
    "duration": 727,
    "start_time": "2022-04-28T17:05:09.313Z"
   },
   {
    "duration": 296,
    "start_time": "2022-04-28T17:05:10.042Z"
   },
   {
    "duration": 19,
    "start_time": "2022-04-28T17:05:10.340Z"
   },
   {
    "duration": 646,
    "start_time": "2022-04-28T17:05:10.361Z"
   },
   {
    "duration": 701,
    "start_time": "2022-04-28T17:05:11.010Z"
   },
   {
    "duration": 505,
    "start_time": "2022-04-28T17:05:11.713Z"
   },
   {
    "duration": 610,
    "start_time": "2022-04-28T17:05:12.222Z"
   },
   {
    "duration": 265,
    "start_time": "2022-04-28T17:05:12.834Z"
   },
   {
    "duration": 40,
    "start_time": "2022-04-28T17:05:13.102Z"
   },
   {
    "duration": 46,
    "start_time": "2022-04-28T17:05:13.144Z"
   },
   {
    "duration": 1607,
    "start_time": "2022-04-28T17:05:13.192Z"
   },
   {
    "duration": 902,
    "start_time": "2022-04-28T17:05:14.801Z"
   },
   {
    "duration": 670,
    "start_time": "2022-04-28T17:05:15.705Z"
   },
   {
    "duration": 6,
    "start_time": "2022-04-28T17:05:16.377Z"
   },
   {
    "duration": 51306,
    "start_time": "2022-04-28T17:05:16.386Z"
   },
   {
    "duration": 528304,
    "start_time": "2022-04-28T17:06:07.784Z"
   },
   {
    "duration": 790178,
    "start_time": "2022-04-28T17:14:56.091Z"
   },
   {
    "duration": 3319,
    "start_time": "2022-04-28T17:28:06.272Z"
   },
   {
    "duration": 9,
    "start_time": "2022-04-28T17:52:05.270Z"
   },
   {
    "duration": 7,
    "start_time": "2022-04-28T17:52:24.560Z"
   },
   {
    "duration": 7,
    "start_time": "2022-04-28T17:52:41.424Z"
   },
   {
    "duration": 924,
    "start_time": "2022-04-28T17:53:38.395Z"
   },
   {
    "duration": 1938,
    "start_time": "2022-04-28T17:55:40.116Z"
   },
   {
    "duration": 1119,
    "start_time": "2022-04-28T17:55:42.058Z"
   },
   {
    "duration": 174,
    "start_time": "2022-04-28T17:55:43.181Z"
   },
   {
    "duration": 130,
    "start_time": "2022-04-28T17:55:43.358Z"
   },
   {
    "duration": 1158,
    "start_time": "2022-04-28T17:55:43.492Z"
   },
   {
    "duration": 254,
    "start_time": "2022-04-28T17:55:44.652Z"
   },
   {
    "duration": 729,
    "start_time": "2022-04-28T17:55:44.908Z"
   },
   {
    "duration": 770,
    "start_time": "2022-04-28T17:55:45.639Z"
   },
   {
    "duration": 294,
    "start_time": "2022-04-28T17:55:46.411Z"
   },
   {
    "duration": 22,
    "start_time": "2022-04-28T17:55:46.707Z"
   },
   {
    "duration": 752,
    "start_time": "2022-04-28T17:55:46.732Z"
   },
   {
    "duration": 720,
    "start_time": "2022-04-28T17:55:47.486Z"
   },
   {
    "duration": 516,
    "start_time": "2022-04-28T17:55:48.209Z"
   },
   {
    "duration": 628,
    "start_time": "2022-04-28T17:55:48.729Z"
   },
   {
    "duration": 299,
    "start_time": "2022-04-28T17:55:49.359Z"
   },
   {
    "duration": 52,
    "start_time": "2022-04-28T17:55:49.660Z"
   },
   {
    "duration": 32,
    "start_time": "2022-04-28T17:55:49.715Z"
   },
   {
    "duration": 1604,
    "start_time": "2022-04-28T17:55:49.749Z"
   },
   {
    "duration": 775,
    "start_time": "2022-04-28T17:55:51.355Z"
   },
   {
    "duration": 658,
    "start_time": "2022-04-28T17:55:52.133Z"
   },
   {
    "duration": 7,
    "start_time": "2022-04-28T17:55:52.793Z"
   },
   {
    "duration": 805,
    "start_time": "2022-04-28T17:55:52.802Z"
   },
   {
    "duration": 50980,
    "start_time": "2022-04-28T17:55:53.610Z"
   },
   {
    "duration": 398109,
    "start_time": "2022-04-28T17:56:44.685Z"
   },
   {
    "duration": 785240,
    "start_time": "2022-04-28T18:03:22.797Z"
   },
   {
    "duration": 2534,
    "start_time": "2022-04-28T18:16:28.040Z"
   },
   {
    "duration": 6,
    "start_time": "2022-04-28T18:16:30.578Z"
   },
   {
    "duration": 665,
    "start_time": "2022-04-28T18:16:30.587Z"
   },
   {
    "duration": 6,
    "start_time": "2022-04-28T18:18:52.957Z"
   },
   {
    "duration": 2325,
    "start_time": "2022-04-28T18:20:01.587Z"
   },
   {
    "duration": 1164,
    "start_time": "2022-04-28T18:20:03.915Z"
   },
   {
    "duration": 188,
    "start_time": "2022-04-28T18:20:05.082Z"
   },
   {
    "duration": 135,
    "start_time": "2022-04-28T18:20:05.273Z"
   },
   {
    "duration": 1223,
    "start_time": "2022-04-28T18:20:05.411Z"
   },
   {
    "duration": 387,
    "start_time": "2022-04-28T18:20:06.637Z"
   },
   {
    "duration": 824,
    "start_time": "2022-04-28T18:20:07.026Z"
   },
   {
    "duration": 747,
    "start_time": "2022-04-28T18:20:07.852Z"
   },
   {
    "duration": 295,
    "start_time": "2022-04-28T18:20:08.602Z"
   },
   {
    "duration": 20,
    "start_time": "2022-04-28T18:20:08.899Z"
   },
   {
    "duration": 663,
    "start_time": "2022-04-28T18:20:08.921Z"
   },
   {
    "duration": 716,
    "start_time": "2022-04-28T18:20:09.587Z"
   },
   {
    "duration": 520,
    "start_time": "2022-04-28T18:20:10.306Z"
   },
   {
    "duration": 617,
    "start_time": "2022-04-28T18:20:10.830Z"
   },
   {
    "duration": 273,
    "start_time": "2022-04-28T18:20:11.449Z"
   },
   {
    "duration": 43,
    "start_time": "2022-04-28T18:20:11.724Z"
   },
   {
    "duration": 40,
    "start_time": "2022-04-28T18:20:11.769Z"
   },
   {
    "duration": 709,
    "start_time": "2022-04-28T18:20:11.811Z"
   },
   {
    "duration": 826,
    "start_time": "2022-04-28T18:20:12.522Z"
   },
   {
    "duration": 676,
    "start_time": "2022-04-28T18:20:13.350Z"
   },
   {
    "duration": 6,
    "start_time": "2022-04-28T18:20:14.028Z"
   },
   {
    "duration": 47300,
    "start_time": "2022-04-28T18:25:26.289Z"
   },
   {
    "duration": 612399,
    "start_time": "2022-04-28T18:26:13.592Z"
   },
   {
    "duration": 2159,
    "start_time": "2022-04-29T07:30:21.784Z"
   },
   {
    "duration": 1036,
    "start_time": "2022-04-29T07:30:23.946Z"
   },
   {
    "duration": 169,
    "start_time": "2022-04-29T07:30:24.984Z"
   },
   {
    "duration": 121,
    "start_time": "2022-04-29T07:30:25.156Z"
   },
   {
    "duration": 1047,
    "start_time": "2022-04-29T07:30:25.279Z"
   },
   {
    "duration": 224,
    "start_time": "2022-04-29T07:30:26.329Z"
   },
   {
    "duration": 628,
    "start_time": "2022-04-29T07:30:26.556Z"
   },
   {
    "duration": 683,
    "start_time": "2022-04-29T07:30:27.187Z"
   },
   {
    "duration": 274,
    "start_time": "2022-04-29T07:30:27.872Z"
   },
   {
    "duration": 20,
    "start_time": "2022-04-29T07:30:28.149Z"
   },
   {
    "duration": 614,
    "start_time": "2022-04-29T07:30:28.172Z"
   },
   {
    "duration": 691,
    "start_time": "2022-04-29T07:30:28.788Z"
   },
   {
    "duration": 498,
    "start_time": "2022-04-29T07:30:29.481Z"
   },
   {
    "duration": 618,
    "start_time": "2022-04-29T07:30:29.981Z"
   },
   {
    "duration": 266,
    "start_time": "2022-04-29T07:30:30.601Z"
   },
   {
    "duration": 39,
    "start_time": "2022-04-29T07:30:30.870Z"
   },
   {
    "duration": 49,
    "start_time": "2022-04-29T07:30:30.912Z"
   },
   {
    "duration": 700,
    "start_time": "2022-04-29T07:30:30.963Z"
   },
   {
    "duration": 769,
    "start_time": "2022-04-29T07:30:31.665Z"
   },
   {
    "duration": 650,
    "start_time": "2022-04-29T07:30:32.436Z"
   },
   {
    "duration": 6,
    "start_time": "2022-04-29T07:30:33.088Z"
   },
   {
    "duration": 258867,
    "start_time": "2022-04-29T07:30:33.096Z"
   },
   {
    "duration": 46494,
    "start_time": "2022-04-29T07:34:51.966Z"
   },
   {
    "duration": 72,
    "start_time": "2022-04-29T07:38:57.264Z"
   },
   {
    "duration": 1960,
    "start_time": "2022-04-29T07:43:07.621Z"
   },
   {
    "duration": 1061,
    "start_time": "2022-04-29T07:43:09.584Z"
   },
   {
    "duration": 170,
    "start_time": "2022-04-29T07:43:10.647Z"
   },
   {
    "duration": 156,
    "start_time": "2022-04-29T07:43:10.820Z"
   },
   {
    "duration": 1030,
    "start_time": "2022-04-29T07:43:10.979Z"
   },
   {
    "duration": 249,
    "start_time": "2022-04-29T07:43:12.012Z"
   },
   {
    "duration": 631,
    "start_time": "2022-04-29T07:43:12.263Z"
   },
   {
    "duration": 693,
    "start_time": "2022-04-29T07:43:12.896Z"
   },
   {
    "duration": 309,
    "start_time": "2022-04-29T07:43:13.591Z"
   },
   {
    "duration": 21,
    "start_time": "2022-04-29T07:43:13.904Z"
   },
   {
    "duration": 832,
    "start_time": "2022-04-29T07:43:13.927Z"
   },
   {
    "duration": 726,
    "start_time": "2022-04-29T07:43:14.761Z"
   },
   {
    "duration": 565,
    "start_time": "2022-04-29T07:43:15.489Z"
   },
   {
    "duration": 635,
    "start_time": "2022-04-29T07:43:16.057Z"
   },
   {
    "duration": 263,
    "start_time": "2022-04-29T07:43:16.695Z"
   },
   {
    "duration": 41,
    "start_time": "2022-04-29T07:43:16.961Z"
   },
   {
    "duration": 53,
    "start_time": "2022-04-29T07:43:17.005Z"
   },
   {
    "duration": 696,
    "start_time": "2022-04-29T07:43:17.060Z"
   },
   {
    "duration": 673,
    "start_time": "2022-04-29T07:43:17.759Z"
   },
   {
    "duration": 640,
    "start_time": "2022-04-29T07:43:18.434Z"
   },
   {
    "duration": 278,
    "start_time": "2022-04-29T07:43:19.076Z"
   },
   {
    "duration": 6,
    "start_time": "2022-04-29T07:43:19.356Z"
   },
   {
    "duration": 1894,
    "start_time": "2022-04-29T07:44:42.571Z"
   },
   {
    "duration": 1284,
    "start_time": "2022-04-29T07:44:44.469Z"
   },
   {
    "duration": 169,
    "start_time": "2022-04-29T07:44:45.756Z"
   },
   {
    "duration": 162,
    "start_time": "2022-04-29T07:44:45.928Z"
   },
   {
    "duration": 1037,
    "start_time": "2022-04-29T07:44:46.092Z"
   },
   {
    "duration": 222,
    "start_time": "2022-04-29T07:44:47.131Z"
   },
   {
    "duration": 624,
    "start_time": "2022-04-29T07:44:47.355Z"
   },
   {
    "duration": 805,
    "start_time": "2022-04-29T07:44:47.982Z"
   },
   {
    "duration": 277,
    "start_time": "2022-04-29T07:44:48.789Z"
   },
   {
    "duration": 20,
    "start_time": "2022-04-29T07:44:49.070Z"
   },
   {
    "duration": 611,
    "start_time": "2022-04-29T07:44:49.092Z"
   },
   {
    "duration": 686,
    "start_time": "2022-04-29T07:44:49.705Z"
   },
   {
    "duration": 499,
    "start_time": "2022-04-29T07:44:50.393Z"
   },
   {
    "duration": 602,
    "start_time": "2022-04-29T07:44:50.894Z"
   },
   {
    "duration": 257,
    "start_time": "2022-04-29T07:44:51.499Z"
   },
   {
    "duration": 39,
    "start_time": "2022-04-29T07:44:51.759Z"
   },
   {
    "duration": 30,
    "start_time": "2022-04-29T07:44:51.800Z"
   },
   {
    "duration": 688,
    "start_time": "2022-04-29T07:44:51.852Z"
   },
   {
    "duration": 667,
    "start_time": "2022-04-29T07:44:52.542Z"
   },
   {
    "duration": 647,
    "start_time": "2022-04-29T07:44:53.212Z"
   },
   {
    "duration": 314,
    "start_time": "2022-04-29T07:44:53.861Z"
   },
   {
    "duration": 6,
    "start_time": "2022-04-29T07:44:54.177Z"
   },
   {
    "duration": 1940,
    "start_time": "2022-04-29T07:46:46.731Z"
   },
   {
    "duration": 1040,
    "start_time": "2022-04-29T07:46:48.674Z"
   },
   {
    "duration": 177,
    "start_time": "2022-04-29T07:46:49.720Z"
   },
   {
    "duration": 121,
    "start_time": "2022-04-29T07:46:49.899Z"
   },
   {
    "duration": 1065,
    "start_time": "2022-04-29T07:46:50.023Z"
   },
   {
    "duration": 223,
    "start_time": "2022-04-29T07:46:51.090Z"
   },
   {
    "duration": 635,
    "start_time": "2022-04-29T07:46:51.315Z"
   },
   {
    "duration": 682,
    "start_time": "2022-04-29T07:46:51.958Z"
   },
   {
    "duration": 286,
    "start_time": "2022-04-29T07:46:52.644Z"
   },
   {
    "duration": 25,
    "start_time": "2022-04-29T07:46:52.933Z"
   },
   {
    "duration": 616,
    "start_time": "2022-04-29T07:46:52.960Z"
   },
   {
    "duration": 680,
    "start_time": "2022-04-29T07:46:53.579Z"
   },
   {
    "duration": 493,
    "start_time": "2022-04-29T07:46:54.262Z"
   },
   {
    "duration": 597,
    "start_time": "2022-04-29T07:46:54.758Z"
   },
   {
    "duration": 253,
    "start_time": "2022-04-29T07:46:55.357Z"
   },
   {
    "duration": 48,
    "start_time": "2022-04-29T07:46:55.612Z"
   },
   {
    "duration": 30,
    "start_time": "2022-04-29T07:46:55.662Z"
   },
   {
    "duration": 708,
    "start_time": "2022-04-29T07:46:55.695Z"
   },
   {
    "duration": 823,
    "start_time": "2022-04-29T07:46:56.405Z"
   },
   {
    "duration": 653,
    "start_time": "2022-04-29T07:46:57.230Z"
   },
   {
    "duration": 315,
    "start_time": "2022-04-29T07:46:57.885Z"
   },
   {
    "duration": 6,
    "start_time": "2022-04-29T07:46:58.202Z"
   },
   {
    "duration": 321143,
    "start_time": "2022-04-29T07:46:58.210Z"
   },
   {
    "duration": 52499,
    "start_time": "2022-04-29T07:52:19.356Z"
   },
   {
    "duration": 317909,
    "start_time": "2022-04-29T07:53:11.859Z"
   },
   {
    "duration": 5,
    "start_time": "2022-04-29T08:08:02.251Z"
   },
   {
    "duration": 72,
    "start_time": "2022-04-29T08:08:17.050Z"
   },
   {
    "duration": 11,
    "start_time": "2022-04-29T08:08:43.897Z"
   },
   {
    "duration": 11,
    "start_time": "2022-04-29T08:09:00.359Z"
   },
   {
    "duration": 105,
    "start_time": "2022-04-29T08:09:34.715Z"
   },
   {
    "duration": 93,
    "start_time": "2022-04-29T08:09:47.764Z"
   },
   {
    "duration": 94,
    "start_time": "2022-04-29T08:10:09.139Z"
   },
   {
    "duration": 94,
    "start_time": "2022-04-29T08:10:14.304Z"
   },
   {
    "duration": 96,
    "start_time": "2022-04-29T08:10:46.525Z"
   },
   {
    "duration": 89,
    "start_time": "2022-04-29T08:10:50.791Z"
   },
   {
    "duration": 108,
    "start_time": "2022-04-29T08:11:08.859Z"
   },
   {
    "duration": 1968,
    "start_time": "2022-04-29T08:12:01.053Z"
   },
   {
    "duration": 1056,
    "start_time": "2022-04-29T08:12:03.024Z"
   },
   {
    "duration": 178,
    "start_time": "2022-04-29T08:12:04.082Z"
   },
   {
    "duration": 127,
    "start_time": "2022-04-29T08:12:04.264Z"
   },
   {
    "duration": 1039,
    "start_time": "2022-04-29T08:12:04.394Z"
   },
   {
    "duration": 233,
    "start_time": "2022-04-29T08:12:05.436Z"
   },
   {
    "duration": 642,
    "start_time": "2022-04-29T08:12:05.672Z"
   },
   {
    "duration": 683,
    "start_time": "2022-04-29T08:12:06.316Z"
   },
   {
    "duration": 293,
    "start_time": "2022-04-29T08:12:07.001Z"
   },
   {
    "duration": 20,
    "start_time": "2022-04-29T08:12:07.298Z"
   },
   {
    "duration": 672,
    "start_time": "2022-04-29T08:12:07.321Z"
   },
   {
    "duration": 775,
    "start_time": "2022-04-29T08:12:07.995Z"
   },
   {
    "duration": 496,
    "start_time": "2022-04-29T08:12:08.772Z"
   },
   {
    "duration": 603,
    "start_time": "2022-04-29T08:12:09.270Z"
   },
   {
    "duration": 257,
    "start_time": "2022-04-29T08:12:09.876Z"
   },
   {
    "duration": 47,
    "start_time": "2022-04-29T08:12:10.136Z"
   },
   {
    "duration": 3,
    "start_time": "2022-04-29T08:12:10.186Z"
   },
   {
    "duration": 6,
    "start_time": "2022-04-29T08:12:10.191Z"
   },
   {
    "duration": 6,
    "start_time": "2022-04-29T08:12:10.200Z"
   },
   {
    "duration": 14,
    "start_time": "2022-04-29T08:12:10.208Z"
   },
   {
    "duration": 1490,
    "start_time": "2022-04-29T08:12:10.225Z"
   },
   {
    "duration": 0,
    "start_time": "2022-04-29T08:12:11.717Z"
   },
   {
    "duration": 0,
    "start_time": "2022-04-29T08:12:11.719Z"
   },
   {
    "duration": 0,
    "start_time": "2022-04-29T08:12:11.721Z"
   },
   {
    "duration": 0,
    "start_time": "2022-04-29T08:12:11.723Z"
   },
   {
    "duration": 0,
    "start_time": "2022-04-29T08:12:11.724Z"
   },
   {
    "duration": 0,
    "start_time": "2022-04-29T08:12:11.726Z"
   },
   {
    "duration": 1907,
    "start_time": "2022-04-29T08:14:18.280Z"
   },
   {
    "duration": 1079,
    "start_time": "2022-04-29T08:14:20.190Z"
   },
   {
    "duration": 181,
    "start_time": "2022-04-29T08:14:21.271Z"
   },
   {
    "duration": 136,
    "start_time": "2022-04-29T08:14:21.456Z"
   },
   {
    "duration": 1059,
    "start_time": "2022-04-29T08:14:21.594Z"
   },
   {
    "duration": 243,
    "start_time": "2022-04-29T08:14:22.655Z"
   },
   {
    "duration": 645,
    "start_time": "2022-04-29T08:14:22.900Z"
   },
   {
    "duration": 686,
    "start_time": "2022-04-29T08:14:23.551Z"
   },
   {
    "duration": 284,
    "start_time": "2022-04-29T08:14:24.239Z"
   },
   {
    "duration": 26,
    "start_time": "2022-04-29T08:14:24.527Z"
   },
   {
    "duration": 626,
    "start_time": "2022-04-29T08:14:24.556Z"
   },
   {
    "duration": 708,
    "start_time": "2022-04-29T08:14:25.184Z"
   },
   {
    "duration": 524,
    "start_time": "2022-04-29T08:14:25.894Z"
   },
   {
    "duration": 634,
    "start_time": "2022-04-29T08:14:26.420Z"
   },
   {
    "duration": 262,
    "start_time": "2022-04-29T08:14:27.056Z"
   },
   {
    "duration": 56,
    "start_time": "2022-04-29T08:14:27.321Z"
   },
   {
    "duration": 4,
    "start_time": "2022-04-29T08:14:27.380Z"
   },
   {
    "duration": 6,
    "start_time": "2022-04-29T08:14:27.387Z"
   },
   {
    "duration": 9,
    "start_time": "2022-04-29T08:14:27.395Z"
   },
   {
    "duration": 7,
    "start_time": "2022-04-29T08:14:27.406Z"
   },
   {
    "duration": 1140,
    "start_time": "2022-04-29T08:14:27.416Z"
   },
   {
    "duration": 759,
    "start_time": "2022-04-29T08:14:28.558Z"
   },
   {
    "duration": 94636,
    "start_time": "2022-04-29T08:14:29.319Z"
   },
   {
    "duration": 113396,
    "start_time": "2022-04-29T08:16:03.958Z"
   },
   {
    "duration": 11666,
    "start_time": "2022-04-29T08:17:57.357Z"
   },
   {
    "duration": 2562,
    "start_time": "2022-04-29T08:18:09.025Z"
   },
   {
    "duration": 1294,
    "start_time": "2022-04-29T08:18:11.589Z"
   },
   {
    "duration": 1986,
    "start_time": "2022-04-29T08:21:35.788Z"
   },
   {
    "duration": 1076,
    "start_time": "2022-04-29T08:21:37.777Z"
   },
   {
    "duration": 169,
    "start_time": "2022-04-29T08:21:38.855Z"
   },
   {
    "duration": 171,
    "start_time": "2022-04-29T08:21:39.027Z"
   },
   {
    "duration": 1093,
    "start_time": "2022-04-29T08:21:39.200Z"
   },
   {
    "duration": 230,
    "start_time": "2022-04-29T08:21:40.295Z"
   },
   {
    "duration": 687,
    "start_time": "2022-04-29T08:21:40.528Z"
   },
   {
    "duration": 707,
    "start_time": "2022-04-29T08:21:41.217Z"
   },
   {
    "duration": 282,
    "start_time": "2022-04-29T08:21:41.926Z"
   },
   {
    "duration": 20,
    "start_time": "2022-04-29T08:21:42.212Z"
   },
   {
    "duration": 603,
    "start_time": "2022-04-29T08:21:42.251Z"
   },
   {
    "duration": 678,
    "start_time": "2022-04-29T08:21:42.856Z"
   },
   {
    "duration": 499,
    "start_time": "2022-04-29T08:21:43.536Z"
   },
   {
    "duration": 617,
    "start_time": "2022-04-29T08:21:44.037Z"
   },
   {
    "duration": 257,
    "start_time": "2022-04-29T08:21:44.656Z"
   },
   {
    "duration": 53,
    "start_time": "2022-04-29T08:21:44.915Z"
   },
   {
    "duration": 3,
    "start_time": "2022-04-29T08:21:44.970Z"
   },
   {
    "duration": 10,
    "start_time": "2022-04-29T08:21:44.975Z"
   },
   {
    "duration": 37,
    "start_time": "2022-04-29T08:21:44.988Z"
   },
   {
    "duration": 18,
    "start_time": "2022-04-29T08:21:45.027Z"
   },
   {
    "duration": 1374,
    "start_time": "2022-04-29T08:21:45.047Z"
   },
   {
    "duration": 662,
    "start_time": "2022-04-29T08:21:46.423Z"
   },
   {
    "duration": 113868,
    "start_time": "2022-04-29T08:21:47.087Z"
   },
   {
    "duration": 113501,
    "start_time": "2022-04-29T08:23:40.958Z"
   },
   {
    "duration": 742831,
    "start_time": "2022-04-29T08:25:34.461Z"
   },
   {
    "duration": 2409,
    "start_time": "2022-04-29T08:37:57.294Z"
   },
   {
    "duration": 1994,
    "start_time": "2022-04-29T08:41:17.734Z"
   },
   {
    "duration": 1144,
    "start_time": "2022-04-29T08:41:19.732Z"
   },
   {
    "duration": 230,
    "start_time": "2022-04-29T08:41:20.878Z"
   },
   {
    "duration": 130,
    "start_time": "2022-04-29T08:41:21.111Z"
   },
   {
    "duration": 1145,
    "start_time": "2022-04-29T08:41:21.243Z"
   },
   {
    "duration": 240,
    "start_time": "2022-04-29T08:41:22.390Z"
   },
   {
    "duration": 690,
    "start_time": "2022-04-29T08:41:22.633Z"
   },
   {
    "duration": 712,
    "start_time": "2022-04-29T08:41:23.326Z"
   },
   {
    "duration": 300,
    "start_time": "2022-04-29T08:41:24.040Z"
   },
   {
    "duration": 26,
    "start_time": "2022-04-29T08:41:24.344Z"
   },
   {
    "duration": 632,
    "start_time": "2022-04-29T08:41:24.372Z"
   },
   {
    "duration": 719,
    "start_time": "2022-04-29T08:41:25.006Z"
   },
   {
    "duration": 501,
    "start_time": "2022-04-29T08:41:25.727Z"
   },
   {
    "duration": 615,
    "start_time": "2022-04-29T08:41:26.231Z"
   },
   {
    "duration": 257,
    "start_time": "2022-04-29T08:41:26.852Z"
   },
   {
    "duration": 52,
    "start_time": "2022-04-29T08:41:27.111Z"
   },
   {
    "duration": 1188,
    "start_time": "2022-04-29T08:41:27.165Z"
   },
   {
    "duration": 733,
    "start_time": "2022-04-29T08:41:28.356Z"
   },
   {
    "duration": 0,
    "start_time": "2022-04-29T08:41:29.092Z"
   },
   {
    "duration": 0,
    "start_time": "2022-04-29T08:41:29.094Z"
   },
   {
    "duration": 0,
    "start_time": "2022-04-29T08:41:29.096Z"
   },
   {
    "duration": 0,
    "start_time": "2022-04-29T08:41:29.099Z"
   },
   {
    "duration": 0,
    "start_time": "2022-04-29T08:41:29.101Z"
   },
   {
    "duration": 0,
    "start_time": "2022-04-29T08:41:29.104Z"
   },
   {
    "duration": 0,
    "start_time": "2022-04-29T08:41:29.106Z"
   },
   {
    "duration": 0,
    "start_time": "2022-04-29T08:41:29.108Z"
   },
   {
    "duration": 0,
    "start_time": "2022-04-29T08:41:29.110Z"
   },
   {
    "duration": 0,
    "start_time": "2022-04-29T08:41:29.113Z"
   },
   {
    "duration": 1,
    "start_time": "2022-04-29T08:41:29.151Z"
   },
   {
    "duration": 0,
    "start_time": "2022-04-29T08:41:29.153Z"
   },
   {
    "duration": 718,
    "start_time": "2022-04-29T08:42:03.040Z"
   },
   {
    "duration": 2213,
    "start_time": "2022-04-29T08:46:01.359Z"
   },
   {
    "duration": 1168,
    "start_time": "2022-04-29T08:46:03.575Z"
   },
   {
    "duration": 172,
    "start_time": "2022-04-29T08:46:04.745Z"
   },
   {
    "duration": 127,
    "start_time": "2022-04-29T08:46:04.920Z"
   },
   {
    "duration": 1079,
    "start_time": "2022-04-29T08:46:05.052Z"
   },
   {
    "duration": 233,
    "start_time": "2022-04-29T08:46:06.134Z"
   },
   {
    "duration": 648,
    "start_time": "2022-04-29T08:46:06.369Z"
   },
   {
    "duration": 753,
    "start_time": "2022-04-29T08:46:07.019Z"
   },
   {
    "duration": 389,
    "start_time": "2022-04-29T08:46:07.774Z"
   },
   {
    "duration": 20,
    "start_time": "2022-04-29T08:46:08.165Z"
   },
   {
    "duration": 629,
    "start_time": "2022-04-29T08:46:08.188Z"
   },
   {
    "duration": 692,
    "start_time": "2022-04-29T08:46:08.819Z"
   },
   {
    "duration": 499,
    "start_time": "2022-04-29T08:46:09.513Z"
   },
   {
    "duration": 616,
    "start_time": "2022-04-29T08:46:10.017Z"
   },
   {
    "duration": 254,
    "start_time": "2022-04-29T08:46:10.635Z"
   },
   {
    "duration": 41,
    "start_time": "2022-04-29T08:46:10.891Z"
   },
   {
    "duration": 876,
    "start_time": "2022-04-29T08:46:10.934Z"
   },
   {
    "duration": 752,
    "start_time": "2022-04-29T08:46:11.812Z"
   },
   {
    "duration": 2090,
    "start_time": "2022-04-29T08:48:50.198Z"
   },
   {
    "duration": 1089,
    "start_time": "2022-04-29T08:48:52.291Z"
   },
   {
    "duration": 195,
    "start_time": "2022-04-29T08:48:53.383Z"
   },
   {
    "duration": 130,
    "start_time": "2022-04-29T08:48:53.582Z"
   },
   {
    "duration": 1056,
    "start_time": "2022-04-29T08:48:53.715Z"
   },
   {
    "duration": 230,
    "start_time": "2022-04-29T08:48:54.774Z"
   },
   {
    "duration": 659,
    "start_time": "2022-04-29T08:48:55.007Z"
   },
   {
    "duration": 668,
    "start_time": "2022-04-29T08:48:55.669Z"
   },
   {
    "duration": 305,
    "start_time": "2022-04-29T08:48:56.339Z"
   },
   {
    "duration": 20,
    "start_time": "2022-04-29T08:48:56.652Z"
   },
   {
    "duration": 606,
    "start_time": "2022-04-29T08:48:56.674Z"
   },
   {
    "duration": 679,
    "start_time": "2022-04-29T08:48:57.282Z"
   },
   {
    "duration": 494,
    "start_time": "2022-04-29T08:48:57.963Z"
   },
   {
    "duration": 597,
    "start_time": "2022-04-29T08:48:58.460Z"
   },
   {
    "duration": 261,
    "start_time": "2022-04-29T08:48:59.059Z"
   },
   {
    "duration": 53,
    "start_time": "2022-04-29T08:48:59.322Z"
   },
   {
    "duration": 859,
    "start_time": "2022-04-29T08:48:59.377Z"
   },
   {
    "duration": 747,
    "start_time": "2022-04-29T08:49:00.238Z"
   },
   {
    "duration": 8,
    "start_time": "2022-04-29T08:49:00.988Z"
   },
   {
    "duration": 0,
    "start_time": "2022-04-29T08:49:00.998Z"
   },
   {
    "duration": 0,
    "start_time": "2022-04-29T08:49:01.001Z"
   },
   {
    "duration": 0,
    "start_time": "2022-04-29T08:49:01.002Z"
   },
   {
    "duration": 0,
    "start_time": "2022-04-29T08:49:01.004Z"
   },
   {
    "duration": 0,
    "start_time": "2022-04-29T08:49:01.005Z"
   },
   {
    "duration": 0,
    "start_time": "2022-04-29T08:49:01.007Z"
   },
   {
    "duration": 0,
    "start_time": "2022-04-29T08:49:01.008Z"
   },
   {
    "duration": 0,
    "start_time": "2022-04-29T08:49:01.010Z"
   },
   {
    "duration": 0,
    "start_time": "2022-04-29T08:49:01.011Z"
   },
   {
    "duration": 0,
    "start_time": "2022-04-29T08:49:01.013Z"
   },
   {
    "duration": 0,
    "start_time": "2022-04-29T08:49:01.052Z"
   },
   {
    "duration": 0,
    "start_time": "2022-04-29T08:49:01.053Z"
   },
   {
    "duration": 0,
    "start_time": "2022-04-29T08:49:01.055Z"
   },
   {
    "duration": 0,
    "start_time": "2022-04-29T08:49:01.056Z"
   },
   {
    "duration": 0,
    "start_time": "2022-04-29T08:49:01.057Z"
   },
   {
    "duration": 1984,
    "start_time": "2022-04-29T08:56:55.360Z"
   },
   {
    "duration": 1058,
    "start_time": "2022-04-29T08:56:57.346Z"
   },
   {
    "duration": 193,
    "start_time": "2022-04-29T08:56:58.406Z"
   },
   {
    "duration": 130,
    "start_time": "2022-04-29T08:56:58.602Z"
   },
   {
    "duration": 1054,
    "start_time": "2022-04-29T08:56:58.735Z"
   },
   {
    "duration": 224,
    "start_time": "2022-04-29T08:56:59.791Z"
   },
   {
    "duration": 676,
    "start_time": "2022-04-29T08:57:00.017Z"
   },
   {
    "duration": 738,
    "start_time": "2022-04-29T08:57:00.696Z"
   },
   {
    "duration": 316,
    "start_time": "2022-04-29T08:57:01.436Z"
   },
   {
    "duration": 21,
    "start_time": "2022-04-29T08:57:01.755Z"
   },
   {
    "duration": 646,
    "start_time": "2022-04-29T08:57:01.778Z"
   },
   {
    "duration": 708,
    "start_time": "2022-04-29T08:57:02.427Z"
   },
   {
    "duration": 494,
    "start_time": "2022-04-29T08:57:03.138Z"
   },
   {
    "duration": 611,
    "start_time": "2022-04-29T08:57:03.634Z"
   },
   {
    "duration": 256,
    "start_time": "2022-04-29T08:57:04.251Z"
   },
   {
    "duration": 50,
    "start_time": "2022-04-29T08:57:04.509Z"
   },
   {
    "duration": 867,
    "start_time": "2022-04-29T08:57:04.562Z"
   },
   {
    "duration": 733,
    "start_time": "2022-04-29T08:57:05.432Z"
   },
   {
    "duration": 616105,
    "start_time": "2022-04-29T08:57:06.167Z"
   },
   {
    "duration": 15,
    "start_time": "2022-04-29T09:07:22.274Z"
   },
   {
    "duration": 0,
    "start_time": "2022-04-29T09:07:22.291Z"
   },
   {
    "duration": 0,
    "start_time": "2022-04-29T09:07:22.293Z"
   },
   {
    "duration": 0,
    "start_time": "2022-04-29T09:07:22.294Z"
   },
   {
    "duration": 0,
    "start_time": "2022-04-29T09:07:22.295Z"
   },
   {
    "duration": 0,
    "start_time": "2022-04-29T09:07:22.296Z"
   },
   {
    "duration": 0,
    "start_time": "2022-04-29T09:07:22.298Z"
   },
   {
    "duration": 0,
    "start_time": "2022-04-29T09:07:22.299Z"
   },
   {
    "duration": 0,
    "start_time": "2022-04-29T09:07:22.300Z"
   },
   {
    "duration": 0,
    "start_time": "2022-04-29T09:07:22.302Z"
   },
   {
    "duration": 0,
    "start_time": "2022-04-29T09:07:22.303Z"
   },
   {
    "duration": 1,
    "start_time": "2022-04-29T09:07:22.304Z"
   },
   {
    "duration": 0,
    "start_time": "2022-04-29T09:07:22.306Z"
   },
   {
    "duration": 0,
    "start_time": "2022-04-29T09:07:22.307Z"
   },
   {
    "duration": 0,
    "start_time": "2022-04-29T09:07:22.309Z"
   },
   {
    "duration": 194082,
    "start_time": "2022-04-29T09:08:31.801Z"
   },
   {
    "duration": 5,
    "start_time": "2022-04-29T09:11:57.604Z"
   },
   {
    "duration": 140,
    "start_time": "2022-04-29T09:12:03.915Z"
   },
   {
    "duration": 1913,
    "start_time": "2022-04-29T09:13:02.382Z"
   },
   {
    "duration": 1128,
    "start_time": "2022-04-29T09:13:04.298Z"
   },
   {
    "duration": 186,
    "start_time": "2022-04-29T09:13:05.428Z"
   },
   {
    "duration": 136,
    "start_time": "2022-04-29T09:13:05.617Z"
   },
   {
    "duration": 1084,
    "start_time": "2022-04-29T09:13:05.755Z"
   },
   {
    "duration": 233,
    "start_time": "2022-04-29T09:13:06.842Z"
   },
   {
    "duration": 662,
    "start_time": "2022-04-29T09:13:07.077Z"
   },
   {
    "duration": 712,
    "start_time": "2022-04-29T09:13:07.741Z"
   },
   {
    "duration": 296,
    "start_time": "2022-04-29T09:13:08.456Z"
   },
   {
    "duration": 20,
    "start_time": "2022-04-29T09:13:08.757Z"
   },
   {
    "duration": 654,
    "start_time": "2022-04-29T09:13:08.779Z"
   },
   {
    "duration": 695,
    "start_time": "2022-04-29T09:13:09.435Z"
   },
   {
    "duration": 505,
    "start_time": "2022-04-29T09:13:10.133Z"
   },
   {
    "duration": 614,
    "start_time": "2022-04-29T09:13:10.640Z"
   },
   {
    "duration": 264,
    "start_time": "2022-04-29T09:13:11.256Z"
   },
   {
    "duration": 53,
    "start_time": "2022-04-29T09:13:11.522Z"
   },
   {
    "duration": 985,
    "start_time": "2022-04-29T09:13:11.578Z"
   },
   {
    "duration": 752,
    "start_time": "2022-04-29T09:13:12.565Z"
   },
   {
    "duration": 193834,
    "start_time": "2022-04-29T09:13:13.319Z"
   },
   {
    "duration": 6,
    "start_time": "2022-04-29T09:16:27.155Z"
   },
   {
    "duration": 2069,
    "start_time": "2022-04-29T09:21:50.720Z"
   },
   {
    "duration": 1091,
    "start_time": "2022-04-29T09:21:52.791Z"
   },
   {
    "duration": 180,
    "start_time": "2022-04-29T09:21:53.884Z"
   },
   {
    "duration": 125,
    "start_time": "2022-04-29T09:21:54.068Z"
   },
   {
    "duration": 1105,
    "start_time": "2022-04-29T09:21:54.195Z"
   },
   {
    "duration": 227,
    "start_time": "2022-04-29T09:21:55.303Z"
   },
   {
    "duration": 668,
    "start_time": "2022-04-29T09:21:55.532Z"
   },
   {
    "duration": 1083,
    "start_time": "2022-04-29T09:21:56.203Z"
   },
   {
    "duration": 531,
    "start_time": "2022-04-29T09:21:57.288Z"
   },
   {
    "duration": 34,
    "start_time": "2022-04-29T09:21:57.825Z"
   },
   {
    "duration": 640,
    "start_time": "2022-04-29T09:21:57.862Z"
   },
   {
    "duration": 728,
    "start_time": "2022-04-29T09:21:58.504Z"
   },
   {
    "duration": 502,
    "start_time": "2022-04-29T09:21:59.234Z"
   },
   {
    "duration": 709,
    "start_time": "2022-04-29T09:21:59.738Z"
   },
   {
    "duration": 257,
    "start_time": "2022-04-29T09:22:00.452Z"
   },
   {
    "duration": 59,
    "start_time": "2022-04-29T09:22:00.711Z"
   },
   {
    "duration": 1294,
    "start_time": "2022-04-29T09:22:00.772Z"
   },
   {
    "duration": 757,
    "start_time": "2022-04-29T09:22:02.069Z"
   },
   {
    "duration": 194022,
    "start_time": "2022-04-29T09:22:02.829Z"
   },
   {
    "duration": 6,
    "start_time": "2022-04-29T09:25:16.854Z"
   },
   {
    "duration": 107517,
    "start_time": "2022-04-29T09:25:16.862Z"
   },
   {
    "duration": 115,
    "start_time": "2022-04-29T09:27:04.381Z"
   },
   {
    "duration": 61,
    "start_time": "2022-04-29T09:27:04.499Z"
   },
   {
    "duration": 1,
    "start_time": "2022-04-29T09:27:04.562Z"
   },
   {
    "duration": 0,
    "start_time": "2022-04-29T09:27:04.564Z"
   },
   {
    "duration": 0,
    "start_time": "2022-04-29T09:27:04.565Z"
   },
   {
    "duration": 0,
    "start_time": "2022-04-29T09:27:04.567Z"
   },
   {
    "duration": 0,
    "start_time": "2022-04-29T09:27:04.568Z"
   },
   {
    "duration": 0,
    "start_time": "2022-04-29T09:27:04.570Z"
   },
   {
    "duration": 0,
    "start_time": "2022-04-29T09:27:04.571Z"
   },
   {
    "duration": 0,
    "start_time": "2022-04-29T09:27:04.573Z"
   },
   {
    "duration": 0,
    "start_time": "2022-04-29T09:27:04.574Z"
   },
   {
    "duration": 0,
    "start_time": "2022-04-29T09:27:04.576Z"
   },
   {
    "duration": 0,
    "start_time": "2022-04-29T09:27:04.577Z"
   },
   {
    "duration": 2115,
    "start_time": "2022-04-29T09:27:09.997Z"
   },
   {
    "duration": 1087,
    "start_time": "2022-04-29T09:27:12.114Z"
   },
   {
    "duration": 191,
    "start_time": "2022-04-29T09:27:13.203Z"
   },
   {
    "duration": 130,
    "start_time": "2022-04-29T09:27:13.397Z"
   },
   {
    "duration": 1128,
    "start_time": "2022-04-29T09:27:13.530Z"
   },
   {
    "duration": 231,
    "start_time": "2022-04-29T09:27:14.660Z"
   },
   {
    "duration": 674,
    "start_time": "2022-04-29T09:27:14.893Z"
   },
   {
    "duration": 726,
    "start_time": "2022-04-29T09:27:15.569Z"
   },
   {
    "duration": 284,
    "start_time": "2022-04-29T09:27:16.298Z"
   },
   {
    "duration": 20,
    "start_time": "2022-04-29T09:27:16.584Z"
   },
   {
    "duration": 635,
    "start_time": "2022-04-29T09:27:16.606Z"
   },
   {
    "duration": 703,
    "start_time": "2022-04-29T09:27:17.243Z"
   },
   {
    "duration": 494,
    "start_time": "2022-04-29T09:27:17.951Z"
   },
   {
    "duration": 591,
    "start_time": "2022-04-29T09:27:18.454Z"
   },
   {
    "duration": 257,
    "start_time": "2022-04-29T09:27:19.051Z"
   },
   {
    "duration": 52,
    "start_time": "2022-04-29T09:27:19.310Z"
   },
   {
    "duration": 1261,
    "start_time": "2022-04-29T09:27:19.364Z"
   },
   {
    "duration": 742,
    "start_time": "2022-04-29T09:27:20.628Z"
   },
   {
    "duration": 195914,
    "start_time": "2022-04-29T09:27:21.372Z"
   },
   {
    "duration": 7,
    "start_time": "2022-04-29T09:30:37.288Z"
   },
   {
    "duration": 628030,
    "start_time": "2022-04-29T09:30:37.297Z"
   },
   {
    "duration": 597,
    "start_time": "2022-04-29T09:41:05.330Z"
   },
   {
    "duration": 101,
    "start_time": "2022-04-29T09:41:05.929Z"
   },
   {
    "duration": 0,
    "start_time": "2022-04-29T09:41:06.032Z"
   },
   {
    "duration": 0,
    "start_time": "2022-04-29T09:41:06.033Z"
   },
   {
    "duration": 0,
    "start_time": "2022-04-29T09:41:06.035Z"
   },
   {
    "duration": 0,
    "start_time": "2022-04-29T09:41:06.036Z"
   },
   {
    "duration": 0,
    "start_time": "2022-04-29T09:41:06.038Z"
   },
   {
    "duration": 0,
    "start_time": "2022-04-29T09:41:06.039Z"
   },
   {
    "duration": 0,
    "start_time": "2022-04-29T09:41:06.041Z"
   },
   {
    "duration": 0,
    "start_time": "2022-04-29T09:41:06.042Z"
   },
   {
    "duration": 0,
    "start_time": "2022-04-29T09:41:06.044Z"
   },
   {
    "duration": 0,
    "start_time": "2022-04-29T09:41:06.046Z"
   },
   {
    "duration": 0,
    "start_time": "2022-04-29T09:41:06.049Z"
   },
   {
    "duration": 1252,
    "start_time": "2022-04-29T09:47:17.947Z"
   },
   {
    "duration": 1311,
    "start_time": "2022-04-29T09:48:05.425Z"
   },
   {
    "duration": 2460,
    "start_time": "2022-04-29T09:49:37.017Z"
   },
   {
    "duration": 580436,
    "start_time": "2022-04-29T09:51:20.997Z"
   },
   {
    "duration": 78,
    "start_time": "2022-04-29T10:58:52.704Z"
   },
   {
    "duration": 11,
    "start_time": "2022-04-29T11:00:00.912Z"
   },
   {
    "duration": 2186,
    "start_time": "2022-04-29T11:00:58.525Z"
   },
   {
    "duration": 1158,
    "start_time": "2022-04-29T11:01:00.714Z"
   },
   {
    "duration": 320,
    "start_time": "2022-04-29T11:01:01.875Z"
   },
   {
    "duration": 176,
    "start_time": "2022-04-29T11:01:02.200Z"
   },
   {
    "duration": 1308,
    "start_time": "2022-04-29T11:01:02.379Z"
   },
   {
    "duration": 269,
    "start_time": "2022-04-29T11:01:03.690Z"
   },
   {
    "duration": 1001,
    "start_time": "2022-04-29T11:01:03.962Z"
   },
   {
    "duration": 877,
    "start_time": "2022-04-29T11:01:04.967Z"
   },
   {
    "duration": 318,
    "start_time": "2022-04-29T11:01:05.846Z"
   },
   {
    "duration": 22,
    "start_time": "2022-04-29T11:01:06.169Z"
   },
   {
    "duration": 775,
    "start_time": "2022-04-29T11:01:06.194Z"
   },
   {
    "duration": 740,
    "start_time": "2022-04-29T11:01:06.971Z"
   },
   {
    "duration": 541,
    "start_time": "2022-04-29T11:01:07.713Z"
   },
   {
    "duration": 648,
    "start_time": "2022-04-29T11:01:08.257Z"
   },
   {
    "duration": 292,
    "start_time": "2022-04-29T11:01:08.908Z"
   },
   {
    "duration": 1946,
    "start_time": "2022-04-29T11:01:09.203Z"
   },
   {
    "duration": 0,
    "start_time": "2022-04-29T11:01:11.152Z"
   },
   {
    "duration": 0,
    "start_time": "2022-04-29T11:01:11.154Z"
   },
   {
    "duration": 0,
    "start_time": "2022-04-29T11:01:11.156Z"
   },
   {
    "duration": 0,
    "start_time": "2022-04-29T11:01:11.158Z"
   },
   {
    "duration": 0,
    "start_time": "2022-04-29T11:01:11.159Z"
   },
   {
    "duration": 0,
    "start_time": "2022-04-29T11:01:11.160Z"
   },
   {
    "duration": 0,
    "start_time": "2022-04-29T11:01:11.162Z"
   },
   {
    "duration": 0,
    "start_time": "2022-04-29T11:01:11.164Z"
   },
   {
    "duration": 0,
    "start_time": "2022-04-29T11:01:11.165Z"
   },
   {
    "duration": 0,
    "start_time": "2022-04-29T11:01:11.167Z"
   },
   {
    "duration": 0,
    "start_time": "2022-04-29T11:01:11.169Z"
   },
   {
    "duration": 0,
    "start_time": "2022-04-29T11:01:11.170Z"
   },
   {
    "duration": 0,
    "start_time": "2022-04-29T11:01:11.172Z"
   },
   {
    "duration": 0,
    "start_time": "2022-04-29T11:01:11.173Z"
   },
   {
    "duration": 0,
    "start_time": "2022-04-29T11:01:11.175Z"
   },
   {
    "duration": 0,
    "start_time": "2022-04-29T11:01:11.177Z"
   },
   {
    "duration": 0,
    "start_time": "2022-04-29T11:01:11.178Z"
   },
   {
    "duration": 0,
    "start_time": "2022-04-29T11:01:11.179Z"
   },
   {
    "duration": 0,
    "start_time": "2022-04-29T11:01:11.181Z"
   },
   {
    "duration": 302,
    "start_time": "2022-04-29T11:02:54.386Z"
   },
   {
    "duration": 84,
    "start_time": "2022-04-29T11:03:23.806Z"
   },
   {
    "duration": 73,
    "start_time": "2022-04-29T11:03:40.266Z"
   },
   {
    "duration": 76,
    "start_time": "2022-04-29T11:04:24.041Z"
   },
   {
    "duration": 385,
    "start_time": "2022-04-29T11:04:30.839Z"
   },
   {
    "duration": 33,
    "start_time": "2022-04-29T11:05:34.712Z"
   },
   {
    "duration": 1979,
    "start_time": "2022-04-29T11:05:49.266Z"
   },
   {
    "duration": 2061,
    "start_time": "2022-04-29T11:05:58.791Z"
   },
   {
    "duration": 1114,
    "start_time": "2022-04-29T11:06:23.911Z"
   },
   {
    "duration": 625,
    "start_time": "2022-04-29T11:06:34.645Z"
   },
   {
    "duration": 527,
    "start_time": "2022-04-29T11:06:37.956Z"
   },
   {
    "duration": 2778,
    "start_time": "2022-04-29T11:08:51.288Z"
   },
   {
    "duration": 1506,
    "start_time": "2022-04-29T11:08:54.070Z"
   },
   {
    "duration": 197,
    "start_time": "2022-04-29T11:08:55.579Z"
   },
   {
    "duration": 134,
    "start_time": "2022-04-29T11:08:55.780Z"
   },
   {
    "duration": 1113,
    "start_time": "2022-04-29T11:08:55.917Z"
   },
   {
    "duration": 253,
    "start_time": "2022-04-29T11:08:57.033Z"
   },
   {
    "duration": 665,
    "start_time": "2022-04-29T11:08:57.288Z"
   },
   {
    "duration": 715,
    "start_time": "2022-04-29T11:08:57.956Z"
   },
   {
    "duration": 487,
    "start_time": "2022-04-29T11:08:58.675Z"
   },
   {
    "duration": 21,
    "start_time": "2022-04-29T11:08:59.168Z"
   },
   {
    "duration": 726,
    "start_time": "2022-04-29T11:08:59.192Z"
   },
   {
    "duration": 752,
    "start_time": "2022-04-29T11:08:59.921Z"
   },
   {
    "duration": 539,
    "start_time": "2022-04-29T11:09:00.675Z"
   },
   {
    "duration": 990,
    "start_time": "2022-04-29T11:09:01.216Z"
   },
   {
    "duration": 450,
    "start_time": "2022-04-29T11:09:02.210Z"
   },
   {
    "duration": 128,
    "start_time": "2022-04-29T11:09:02.664Z"
   },
   {
    "duration": 107,
    "start_time": "2022-04-29T11:09:02.795Z"
   },
   {
    "duration": 271,
    "start_time": "2022-04-29T11:09:02.905Z"
   },
   {
    "duration": 34,
    "start_time": "2022-04-29T11:09:03.179Z"
   },
   {
    "duration": 1520,
    "start_time": "2022-04-29T11:09:03.216Z"
   },
   {
    "duration": 669,
    "start_time": "2022-04-29T11:09:04.739Z"
   },
   {
    "duration": 162151,
    "start_time": "2022-04-29T11:09:05.411Z"
   },
   {
    "duration": 124820,
    "start_time": "2022-04-29T11:11:47.565Z"
   },
   {
    "duration": 24510,
    "start_time": "2022-04-29T11:13:52.387Z"
   },
   {
    "duration": 4,
    "start_time": "2022-04-29T11:14:16.900Z"
   },
   {
    "duration": 24,
    "start_time": "2022-04-29T11:14:16.907Z"
   },
   {
    "duration": 0,
    "start_time": "2022-04-29T11:14:16.935Z"
   },
   {
    "duration": 0,
    "start_time": "2022-04-29T11:14:16.937Z"
   },
   {
    "duration": 0,
    "start_time": "2022-04-29T11:14:16.939Z"
   },
   {
    "duration": 0,
    "start_time": "2022-04-29T11:14:16.941Z"
   },
   {
    "duration": 0,
    "start_time": "2022-04-29T11:14:16.943Z"
   },
   {
    "duration": 0,
    "start_time": "2022-04-29T11:14:16.946Z"
   },
   {
    "duration": 0,
    "start_time": "2022-04-29T11:14:16.948Z"
   },
   {
    "duration": 0,
    "start_time": "2022-04-29T11:14:16.951Z"
   },
   {
    "duration": 0,
    "start_time": "2022-04-29T11:14:16.952Z"
   },
   {
    "duration": 0,
    "start_time": "2022-04-29T11:14:16.953Z"
   },
   {
    "duration": 0,
    "start_time": "2022-04-29T11:14:16.955Z"
   },
   {
    "duration": 0,
    "start_time": "2022-04-29T11:14:16.956Z"
   },
   {
    "duration": 0,
    "start_time": "2022-04-29T11:14:16.958Z"
   },
   {
    "duration": 0,
    "start_time": "2022-04-29T11:14:16.959Z"
   },
   {
    "duration": 0,
    "start_time": "2022-04-29T11:14:16.960Z"
   },
   {
    "duration": 0,
    "start_time": "2022-04-29T11:14:16.962Z"
   },
   {
    "duration": 2115,
    "start_time": "2022-04-29T11:14:49.121Z"
   },
   {
    "duration": 1826,
    "start_time": "2022-04-29T11:14:51.240Z"
   },
   {
    "duration": 202,
    "start_time": "2022-04-29T11:14:53.068Z"
   },
   {
    "duration": 131,
    "start_time": "2022-04-29T11:14:53.273Z"
   },
   {
    "duration": 1719,
    "start_time": "2022-04-29T11:14:53.406Z"
   },
   {
    "duration": 249,
    "start_time": "2022-04-29T11:14:55.130Z"
   },
   {
    "duration": 677,
    "start_time": "2022-04-29T11:14:55.382Z"
   },
   {
    "duration": 1222,
    "start_time": "2022-04-29T11:14:56.064Z"
   },
   {
    "duration": 487,
    "start_time": "2022-04-29T11:14:57.289Z"
   },
   {
    "duration": 34,
    "start_time": "2022-04-29T11:14:57.783Z"
   },
   {
    "duration": 640,
    "start_time": "2022-04-29T11:14:57.819Z"
   },
   {
    "duration": 712,
    "start_time": "2022-04-29T11:14:58.462Z"
   },
   {
    "duration": 519,
    "start_time": "2022-04-29T11:14:59.177Z"
   },
   {
    "duration": 624,
    "start_time": "2022-04-29T11:14:59.698Z"
   },
   {
    "duration": 275,
    "start_time": "2022-04-29T11:15:00.324Z"
   },
   {
    "duration": 111,
    "start_time": "2022-04-29T11:15:00.602Z"
   },
   {
    "duration": 88,
    "start_time": "2022-04-29T11:15:00.717Z"
   },
   {
    "duration": 260,
    "start_time": "2022-04-29T11:15:00.807Z"
   },
   {
    "duration": 32,
    "start_time": "2022-04-29T11:15:01.070Z"
   },
   {
    "duration": 1853,
    "start_time": "2022-04-29T11:15:01.104Z"
   },
   {
    "duration": 637,
    "start_time": "2022-04-29T11:15:02.961Z"
   },
   {
    "duration": 225877,
    "start_time": "2022-04-29T11:15:03.600Z"
   },
   {
    "duration": 860187,
    "start_time": "2022-04-29T11:18:49.484Z"
   },
   {
    "duration": 332618,
    "start_time": "2022-04-29T11:33:09.674Z"
   },
   {
    "duration": 4,
    "start_time": "2022-04-29T11:38:42.294Z"
   },
   {
    "duration": 202,
    "start_time": "2022-04-29T11:38:42.300Z"
   },
   {
    "duration": 0,
    "start_time": "2022-04-29T11:38:42.505Z"
   },
   {
    "duration": 0,
    "start_time": "2022-04-29T11:38:42.507Z"
   },
   {
    "duration": 0,
    "start_time": "2022-04-29T11:38:42.509Z"
   },
   {
    "duration": 0,
    "start_time": "2022-04-29T11:38:42.510Z"
   },
   {
    "duration": 0,
    "start_time": "2022-04-29T11:38:42.512Z"
   },
   {
    "duration": 0,
    "start_time": "2022-04-29T11:38:42.514Z"
   },
   {
    "duration": 0,
    "start_time": "2022-04-29T11:38:42.515Z"
   },
   {
    "duration": 0,
    "start_time": "2022-04-29T11:38:42.517Z"
   },
   {
    "duration": 0,
    "start_time": "2022-04-29T11:38:42.519Z"
   },
   {
    "duration": 0,
    "start_time": "2022-04-29T11:38:42.520Z"
   },
   {
    "duration": 0,
    "start_time": "2022-04-29T11:38:42.522Z"
   },
   {
    "duration": 0,
    "start_time": "2022-04-29T11:38:42.557Z"
   },
   {
    "duration": 0,
    "start_time": "2022-04-29T11:38:42.559Z"
   },
   {
    "duration": 0,
    "start_time": "2022-04-29T11:38:42.561Z"
   },
   {
    "duration": 0,
    "start_time": "2022-04-29T11:38:42.563Z"
   },
   {
    "duration": 0,
    "start_time": "2022-04-29T11:38:42.565Z"
   },
   {
    "duration": 5893,
    "start_time": "2022-04-29T11:39:53.586Z"
   },
   {
    "duration": 4186,
    "start_time": "2022-04-29T11:40:38.007Z"
   },
   {
    "duration": 2153,
    "start_time": "2022-04-29T11:50:18.998Z"
   },
   {
    "duration": 1275,
    "start_time": "2022-04-29T11:50:21.156Z"
   },
   {
    "duration": 377,
    "start_time": "2022-04-29T11:50:22.435Z"
   },
   {
    "duration": 228,
    "start_time": "2022-04-29T11:50:22.817Z"
   },
   {
    "duration": 1862,
    "start_time": "2022-04-29T11:50:23.052Z"
   },
   {
    "duration": 409,
    "start_time": "2022-04-29T11:50:24.917Z"
   },
   {
    "duration": 1124,
    "start_time": "2022-04-29T11:50:25.329Z"
   },
   {
    "duration": 763,
    "start_time": "2022-04-29T11:50:26.457Z"
   },
   {
    "duration": 319,
    "start_time": "2022-04-29T11:50:27.222Z"
   },
   {
    "duration": 25,
    "start_time": "2022-04-29T11:50:27.545Z"
   },
   {
    "duration": 655,
    "start_time": "2022-04-29T11:50:27.573Z"
   },
   {
    "duration": 728,
    "start_time": "2022-04-29T11:50:28.230Z"
   },
   {
    "duration": 540,
    "start_time": "2022-04-29T11:50:28.961Z"
   },
   {
    "duration": 647,
    "start_time": "2022-04-29T11:50:29.505Z"
   },
   {
    "duration": 283,
    "start_time": "2022-04-29T11:50:30.157Z"
   },
   {
    "duration": 118,
    "start_time": "2022-04-29T11:50:30.442Z"
   },
   {
    "duration": 93,
    "start_time": "2022-04-29T11:50:30.563Z"
   },
   {
    "duration": 256,
    "start_time": "2022-04-29T11:50:30.660Z"
   },
   {
    "duration": 50,
    "start_time": "2022-04-29T11:50:30.919Z"
   },
   {
    "duration": 1685,
    "start_time": "2022-04-29T11:50:30.972Z"
   },
   {
    "duration": 969,
    "start_time": "2022-04-29T11:50:32.660Z"
   },
   {
    "duration": 172130,
    "start_time": "2022-04-29T11:50:33.632Z"
   },
   {
    "duration": 873896,
    "start_time": "2022-04-29T11:53:25.765Z"
   },
   {
    "duration": 5,
    "start_time": "2022-04-29T12:07:59.663Z"
   },
   {
    "duration": 2058881,
    "start_time": "2022-04-29T12:07:59.671Z"
   },
   {
    "duration": 24105,
    "start_time": "2022-04-29T12:42:18.554Z"
   },
   {
    "duration": 297,
    "start_time": "2022-04-29T12:42:42.661Z"
   },
   {
    "duration": 92,
    "start_time": "2022-04-29T12:42:42.965Z"
   },
   {
    "duration": 54609,
    "start_time": "2022-04-29T12:42:43.060Z"
   },
   {
    "duration": 110,
    "start_time": "2022-04-29T12:43:37.671Z"
   },
   {
    "duration": 5,
    "start_time": "2022-04-29T12:43:37.783Z"
   },
   {
    "duration": 15471,
    "start_time": "2022-04-29T12:43:37.790Z"
   },
   {
    "duration": 1510,
    "start_time": "2022-04-29T12:43:53.263Z"
   },
   {
    "duration": 6,
    "start_time": "2022-04-29T12:43:54.775Z"
   },
   {
    "duration": 82,
    "start_time": "2022-04-29T12:43:54.783Z"
   },
   {
    "duration": 25559,
    "start_time": "2022-04-29T12:44:57.371Z"
   },
   {
    "duration": 24571,
    "start_time": "2022-04-29T12:46:57.989Z"
   },
   {
    "duration": 57031,
    "start_time": "2022-04-29T12:49:04.111Z"
   },
   {
    "duration": 21822,
    "start_time": "2022-04-29T12:51:51.145Z"
   },
   {
    "duration": 14,
    "start_time": "2022-04-29T13:00:44.483Z"
   },
   {
    "duration": 2636,
    "start_time": "2022-04-29T13:04:29.690Z"
   },
   {
    "duration": 4,
    "start_time": "2022-04-29T13:05:19.902Z"
   },
   {
    "duration": 150,
    "start_time": "2022-04-29T13:06:34.542Z"
   },
   {
    "duration": 27616,
    "start_time": "2022-04-29T13:07:31.266Z"
   },
   {
    "duration": 55121,
    "start_time": "2022-04-29T13:07:58.885Z"
   },
   {
    "duration": 13,
    "start_time": "2022-04-29T13:08:54.009Z"
   },
   {
    "duration": 22,
    "start_time": "2022-04-29T13:14:50.961Z"
   },
   {
    "duration": 28,
    "start_time": "2022-04-29T13:17:09.039Z"
   },
   {
    "duration": 2026,
    "start_time": "2022-04-29T13:19:29.206Z"
   },
   {
    "duration": 1100,
    "start_time": "2022-04-29T13:19:31.235Z"
   },
   {
    "duration": 199,
    "start_time": "2022-04-29T13:19:32.337Z"
   },
   {
    "duration": 136,
    "start_time": "2022-04-29T13:19:32.540Z"
   },
   {
    "duration": 1701,
    "start_time": "2022-04-29T13:19:32.678Z"
   },
   {
    "duration": 241,
    "start_time": "2022-04-29T13:19:34.382Z"
   },
   {
    "duration": 685,
    "start_time": "2022-04-29T13:19:34.625Z"
   },
   {
    "duration": 746,
    "start_time": "2022-04-29T13:19:35.312Z"
   },
   {
    "duration": 321,
    "start_time": "2022-04-29T13:19:36.061Z"
   },
   {
    "duration": 22,
    "start_time": "2022-04-29T13:19:36.386Z"
   },
   {
    "duration": 660,
    "start_time": "2022-04-29T13:19:36.410Z"
   },
   {
    "duration": 751,
    "start_time": "2022-04-29T13:19:37.073Z"
   },
   {
    "duration": 501,
    "start_time": "2022-04-29T13:19:37.826Z"
   },
   {
    "duration": 611,
    "start_time": "2022-04-29T13:19:38.330Z"
   },
   {
    "duration": 263,
    "start_time": "2022-04-29T13:19:38.943Z"
   },
   {
    "duration": 3,
    "start_time": "2022-04-29T13:19:39.208Z"
   },
   {
    "duration": 13,
    "start_time": "2022-04-29T13:19:39.213Z"
   },
   {
    "duration": 11,
    "start_time": "2022-04-29T13:19:39.228Z"
   },
   {
    "duration": 61,
    "start_time": "2022-04-29T13:19:39.241Z"
   },
   {
    "duration": 29,
    "start_time": "2022-04-29T13:19:39.304Z"
   },
   {
    "duration": 173,
    "start_time": "2022-04-29T13:19:39.336Z"
   },
   {
    "duration": 0,
    "start_time": "2022-04-29T13:19:39.512Z"
   },
   {
    "duration": 0,
    "start_time": "2022-04-29T13:19:39.515Z"
   },
   {
    "duration": 0,
    "start_time": "2022-04-29T13:19:39.517Z"
   },
   {
    "duration": 0,
    "start_time": "2022-04-29T13:19:39.520Z"
   },
   {
    "duration": 0,
    "start_time": "2022-04-29T13:19:39.521Z"
   },
   {
    "duration": 0,
    "start_time": "2022-04-29T13:19:39.523Z"
   },
   {
    "duration": 0,
    "start_time": "2022-04-29T13:19:39.525Z"
   },
   {
    "duration": 0,
    "start_time": "2022-04-29T13:19:39.552Z"
   },
   {
    "duration": 0,
    "start_time": "2022-04-29T13:19:39.553Z"
   },
   {
    "duration": 14,
    "start_time": "2022-04-29T13:21:15.210Z"
   },
   {
    "duration": 502,
    "start_time": "2022-04-29T13:21:24.335Z"
   },
   {
    "duration": 141,
    "start_time": "2022-04-29T13:21:25.597Z"
   },
   {
    "duration": 239,
    "start_time": "2022-04-29T13:21:43.424Z"
   },
   {
    "duration": 633,
    "start_time": "2022-04-29T13:21:46.026Z"
   },
   {
    "duration": 688,
    "start_time": "2022-04-29T13:22:57.238Z"
   },
   {
    "duration": 180,
    "start_time": "2022-04-29T13:22:58.418Z"
   },
   {
    "duration": 980,
    "start_time": "2022-04-29T13:22:59.974Z"
   },
   {
    "duration": 767125,
    "start_time": "2022-04-29T13:23:12.689Z"
   },
   {
    "duration": 546916,
    "start_time": "2022-04-29T13:37:23.943Z"
   },
   {
    "duration": 105,
    "start_time": "2022-04-29T13:47:06.493Z"
   },
   {
    "duration": 213,
    "start_time": "2022-04-29T13:47:27.441Z"
   },
   {
    "duration": 57575,
    "start_time": "2022-04-29T13:47:39.173Z"
   },
   {
    "duration": 15927,
    "start_time": "2022-04-29T13:51:35.330Z"
   },
   {
    "duration": 14,
    "start_time": "2022-04-29T13:52:04.403Z"
   },
   {
    "duration": 53,
    "start_time": "2022-04-30T05:59:12.621Z"
   },
   {
    "duration": 7,
    "start_time": "2022-04-30T06:08:24.993Z"
   },
   {
    "duration": 90,
    "start_time": "2022-04-30T06:12:10.478Z"
   },
   {
    "duration": 62,
    "start_time": "2022-04-30T06:15:54.867Z"
   },
   {
    "duration": 71,
    "start_time": "2022-04-30T06:16:02.152Z"
   },
   {
    "duration": 1727,
    "start_time": "2022-04-30T06:18:14.821Z"
   },
   {
    "duration": 0,
    "start_time": "2022-04-30T06:18:16.551Z"
   },
   {
    "duration": 0,
    "start_time": "2022-04-30T06:18:16.552Z"
   },
   {
    "duration": 0,
    "start_time": "2022-04-30T06:18:16.553Z"
   },
   {
    "duration": 0,
    "start_time": "2022-04-30T06:18:16.554Z"
   },
   {
    "duration": 0,
    "start_time": "2022-04-30T06:18:16.555Z"
   },
   {
    "duration": 0,
    "start_time": "2022-04-30T06:18:16.556Z"
   },
   {
    "duration": 0,
    "start_time": "2022-04-30T06:18:16.558Z"
   },
   {
    "duration": 0,
    "start_time": "2022-04-30T06:18:16.559Z"
   },
   {
    "duration": 0,
    "start_time": "2022-04-30T06:18:16.560Z"
   },
   {
    "duration": 0,
    "start_time": "2022-04-30T06:18:16.561Z"
   },
   {
    "duration": 0,
    "start_time": "2022-04-30T06:18:16.561Z"
   },
   {
    "duration": 0,
    "start_time": "2022-04-30T06:18:16.562Z"
   },
   {
    "duration": 1,
    "start_time": "2022-04-30T06:18:16.563Z"
   },
   {
    "duration": 0,
    "start_time": "2022-04-30T06:18:16.565Z"
   },
   {
    "duration": 0,
    "start_time": "2022-04-30T06:18:16.566Z"
   },
   {
    "duration": 0,
    "start_time": "2022-04-30T06:18:16.567Z"
   },
   {
    "duration": 0,
    "start_time": "2022-04-30T06:18:16.568Z"
   },
   {
    "duration": 0,
    "start_time": "2022-04-30T06:18:16.569Z"
   },
   {
    "duration": 0,
    "start_time": "2022-04-30T06:18:16.570Z"
   },
   {
    "duration": 0,
    "start_time": "2022-04-30T06:18:16.571Z"
   },
   {
    "duration": 0,
    "start_time": "2022-04-30T06:18:16.572Z"
   },
   {
    "duration": 0,
    "start_time": "2022-04-30T06:18:16.573Z"
   },
   {
    "duration": 0,
    "start_time": "2022-04-30T06:18:16.607Z"
   },
   {
    "duration": 0,
    "start_time": "2022-04-30T06:18:16.609Z"
   },
   {
    "duration": 0,
    "start_time": "2022-04-30T06:18:16.610Z"
   },
   {
    "duration": 0,
    "start_time": "2022-04-30T06:18:16.611Z"
   },
   {
    "duration": 0,
    "start_time": "2022-04-30T06:18:16.612Z"
   },
   {
    "duration": 0,
    "start_time": "2022-04-30T06:18:16.614Z"
   },
   {
    "duration": 0,
    "start_time": "2022-04-30T06:18:16.615Z"
   },
   {
    "duration": 0,
    "start_time": "2022-04-30T06:18:16.616Z"
   },
   {
    "duration": 1477,
    "start_time": "2022-04-30T06:19:13.313Z"
   },
   {
    "duration": 882,
    "start_time": "2022-04-30T06:19:14.793Z"
   },
   {
    "duration": 149,
    "start_time": "2022-04-30T06:19:15.677Z"
   },
   {
    "duration": 118,
    "start_time": "2022-04-30T06:19:15.828Z"
   },
   {
    "duration": 944,
    "start_time": "2022-04-30T06:19:15.950Z"
   },
   {
    "duration": 185,
    "start_time": "2022-04-30T06:19:16.896Z"
   },
   {
    "duration": 493,
    "start_time": "2022-04-30T06:19:17.083Z"
   },
   {
    "duration": 509,
    "start_time": "2022-04-30T06:19:17.578Z"
   },
   {
    "duration": 236,
    "start_time": "2022-04-30T06:19:18.089Z"
   },
   {
    "duration": 15,
    "start_time": "2022-04-30T06:19:18.327Z"
   },
   {
    "duration": 462,
    "start_time": "2022-04-30T06:19:18.345Z"
   },
   {
    "duration": 523,
    "start_time": "2022-04-30T06:19:18.809Z"
   },
   {
    "duration": 363,
    "start_time": "2022-04-30T06:19:19.334Z"
   },
   {
    "duration": 434,
    "start_time": "2022-04-30T06:19:19.706Z"
   },
   {
    "duration": 200,
    "start_time": "2022-04-30T06:19:20.142Z"
   },
   {
    "duration": 2,
    "start_time": "2022-04-30T06:19:20.344Z"
   },
   {
    "duration": 6,
    "start_time": "2022-04-30T06:19:20.348Z"
   },
   {
    "duration": 5,
    "start_time": "2022-04-30T06:19:20.355Z"
   },
   {
    "duration": 63,
    "start_time": "2022-04-30T06:19:20.362Z"
   },
   {
    "duration": 0,
    "start_time": "2022-04-30T06:19:20.427Z"
   },
   {
    "duration": 0,
    "start_time": "2022-04-30T06:19:20.428Z"
   },
   {
    "duration": 0,
    "start_time": "2022-04-30T06:19:20.429Z"
   },
   {
    "duration": 0,
    "start_time": "2022-04-30T06:19:20.430Z"
   },
   {
    "duration": 0,
    "start_time": "2022-04-30T06:19:20.431Z"
   },
   {
    "duration": 0,
    "start_time": "2022-04-30T06:19:20.432Z"
   },
   {
    "duration": 0,
    "start_time": "2022-04-30T06:19:20.433Z"
   },
   {
    "duration": 0,
    "start_time": "2022-04-30T06:19:20.435Z"
   },
   {
    "duration": 0,
    "start_time": "2022-04-30T06:19:20.436Z"
   },
   {
    "duration": 0,
    "start_time": "2022-04-30T06:19:20.437Z"
   },
   {
    "duration": 0,
    "start_time": "2022-04-30T06:19:20.438Z"
   },
   {
    "duration": 0,
    "start_time": "2022-04-30T06:19:20.439Z"
   },
   {
    "duration": 1523,
    "start_time": "2022-04-30T06:20:05.487Z"
   },
   {
    "duration": 836,
    "start_time": "2022-04-30T06:20:07.011Z"
   },
   {
    "duration": 133,
    "start_time": "2022-04-30T06:20:07.848Z"
   },
   {
    "duration": 142,
    "start_time": "2022-04-30T06:20:07.982Z"
   },
   {
    "duration": 869,
    "start_time": "2022-04-30T06:20:08.126Z"
   },
   {
    "duration": 175,
    "start_time": "2022-04-30T06:20:08.997Z"
   },
   {
    "duration": 475,
    "start_time": "2022-04-30T06:20:09.174Z"
   },
   {
    "duration": 549,
    "start_time": "2022-04-30T06:20:09.651Z"
   },
   {
    "duration": 232,
    "start_time": "2022-04-30T06:20:10.202Z"
   },
   {
    "duration": 13,
    "start_time": "2022-04-30T06:20:10.437Z"
   },
   {
    "duration": 448,
    "start_time": "2022-04-30T06:20:10.451Z"
   },
   {
    "duration": 508,
    "start_time": "2022-04-30T06:20:10.901Z"
   },
   {
    "duration": 345,
    "start_time": "2022-04-30T06:20:11.411Z"
   },
   {
    "duration": 431,
    "start_time": "2022-04-30T06:20:11.757Z"
   },
   {
    "duration": 197,
    "start_time": "2022-04-30T06:20:12.190Z"
   },
   {
    "duration": 2,
    "start_time": "2022-04-30T06:20:12.389Z"
   },
   {
    "duration": 14,
    "start_time": "2022-04-30T06:20:12.393Z"
   },
   {
    "duration": 8,
    "start_time": "2022-04-30T06:20:12.409Z"
   },
   {
    "duration": 29,
    "start_time": "2022-04-30T06:20:12.419Z"
   },
   {
    "duration": 15,
    "start_time": "2022-04-30T06:20:12.450Z"
   },
   {
    "duration": 495,
    "start_time": "2022-04-30T06:20:12.467Z"
   },
   {
    "duration": 132,
    "start_time": "2022-04-30T06:20:12.964Z"
   },
   {
    "duration": 1017,
    "start_time": "2022-04-30T06:20:13.098Z"
   },
   {
    "duration": 402550,
    "start_time": "2022-04-30T06:20:14.117Z"
   },
   {
    "duration": 323140,
    "start_time": "2022-04-30T06:26:56.669Z"
   },
   {
    "duration": 103,
    "start_time": "2022-04-30T06:32:19.811Z"
   },
   {
    "duration": 30916,
    "start_time": "2022-04-30T06:32:19.917Z"
   },
   {
    "duration": 11774,
    "start_time": "2022-04-30T06:32:50.835Z"
   },
   {
    "duration": 8,
    "start_time": "2022-04-30T06:33:02.611Z"
   },
   {
    "duration": 7672,
    "start_time": "2022-04-30T06:51:15.737Z"
   },
   {
    "duration": 64,
    "start_time": "2022-04-30T06:53:31.884Z"
   },
   {
    "duration": 1479,
    "start_time": "2022-04-30T06:56:02.901Z"
   },
   {
    "duration": 1166,
    "start_time": "2022-04-30T06:56:04.382Z"
   },
   {
    "duration": 139,
    "start_time": "2022-04-30T06:56:05.550Z"
   },
   {
    "duration": 107,
    "start_time": "2022-04-30T06:56:05.691Z"
   },
   {
    "duration": 937,
    "start_time": "2022-04-30T06:56:05.800Z"
   },
   {
    "duration": 185,
    "start_time": "2022-04-30T06:56:06.739Z"
   },
   {
    "duration": 494,
    "start_time": "2022-04-30T06:56:06.926Z"
   },
   {
    "duration": 522,
    "start_time": "2022-04-30T06:56:07.422Z"
   },
   {
    "duration": 239,
    "start_time": "2022-04-30T06:56:07.946Z"
   },
   {
    "duration": 19,
    "start_time": "2022-04-30T06:56:08.188Z"
   },
   {
    "duration": 457,
    "start_time": "2022-04-30T06:56:08.209Z"
   },
   {
    "duration": 517,
    "start_time": "2022-04-30T06:56:08.668Z"
   },
   {
    "duration": 360,
    "start_time": "2022-04-30T06:56:09.187Z"
   },
   {
    "duration": 443,
    "start_time": "2022-04-30T06:56:09.548Z"
   },
   {
    "duration": 211,
    "start_time": "2022-04-30T06:56:09.993Z"
   },
   {
    "duration": 23,
    "start_time": "2022-04-30T06:56:10.207Z"
   },
   {
    "duration": 15,
    "start_time": "2022-04-30T06:56:10.232Z"
   },
   {
    "duration": 509,
    "start_time": "2022-04-30T06:56:10.249Z"
   },
   {
    "duration": 135,
    "start_time": "2022-04-30T06:56:10.760Z"
   },
   {
    "duration": 1114,
    "start_time": "2022-04-30T06:56:10.896Z"
   },
   {
    "duration": 411303,
    "start_time": "2022-04-30T06:56:12.012Z"
   },
   {
    "duration": 1478,
    "start_time": "2022-04-30T07:24:31.923Z"
   },
   {
    "duration": 861,
    "start_time": "2022-04-30T07:24:33.403Z"
   },
   {
    "duration": 151,
    "start_time": "2022-04-30T07:24:34.266Z"
   },
   {
    "duration": 98,
    "start_time": "2022-04-30T07:24:34.419Z"
   },
   {
    "duration": 874,
    "start_time": "2022-04-30T07:24:34.519Z"
   },
   {
    "duration": 177,
    "start_time": "2022-04-30T07:24:35.395Z"
   },
   {
    "duration": 467,
    "start_time": "2022-04-30T07:24:35.573Z"
   },
   {
    "duration": 496,
    "start_time": "2022-04-30T07:24:36.041Z"
   },
   {
    "duration": 226,
    "start_time": "2022-04-30T07:24:36.538Z"
   },
   {
    "duration": 14,
    "start_time": "2022-04-30T07:24:36.766Z"
   },
   {
    "duration": 452,
    "start_time": "2022-04-30T07:24:36.781Z"
   },
   {
    "duration": 500,
    "start_time": "2022-04-30T07:24:37.235Z"
   },
   {
    "duration": 351,
    "start_time": "2022-04-30T07:24:37.737Z"
   },
   {
    "duration": 433,
    "start_time": "2022-04-30T07:24:38.091Z"
   },
   {
    "duration": 194,
    "start_time": "2022-04-30T07:24:38.526Z"
   },
   {
    "duration": 22,
    "start_time": "2022-04-30T07:24:38.721Z"
   },
   {
    "duration": 15,
    "start_time": "2022-04-30T07:24:38.744Z"
   },
   {
    "duration": 479,
    "start_time": "2022-04-30T07:24:38.760Z"
   },
   {
    "duration": 129,
    "start_time": "2022-04-30T07:24:39.241Z"
   },
   {
    "duration": 1245,
    "start_time": "2022-04-30T07:24:39.372Z"
   },
   {
    "duration": 426638,
    "start_time": "2022-04-30T07:24:40.619Z"
   },
   {
    "duration": 1493,
    "start_time": "2022-04-30T08:26:34.220Z"
   },
   {
    "duration": 878,
    "start_time": "2022-04-30T08:26:35.715Z"
   },
   {
    "duration": 155,
    "start_time": "2022-04-30T08:26:36.595Z"
   },
   {
    "duration": 115,
    "start_time": "2022-04-30T08:26:36.752Z"
   },
   {
    "duration": 875,
    "start_time": "2022-04-30T08:26:36.870Z"
   },
   {
    "duration": 188,
    "start_time": "2022-04-30T08:26:37.747Z"
   },
   {
    "duration": 488,
    "start_time": "2022-04-30T08:26:37.937Z"
   },
   {
    "duration": 517,
    "start_time": "2022-04-30T08:26:38.427Z"
   },
   {
    "duration": 233,
    "start_time": "2022-04-30T08:26:38.946Z"
   },
   {
    "duration": 13,
    "start_time": "2022-04-30T08:26:39.181Z"
   },
   {
    "duration": 463,
    "start_time": "2022-04-30T08:26:39.208Z"
   },
   {
    "duration": 520,
    "start_time": "2022-04-30T08:26:39.673Z"
   },
   {
    "duration": 353,
    "start_time": "2022-04-30T08:26:40.195Z"
   },
   {
    "duration": 442,
    "start_time": "2022-04-30T08:26:40.551Z"
   },
   {
    "duration": 205,
    "start_time": "2022-04-30T08:26:40.994Z"
   },
   {
    "duration": 26,
    "start_time": "2022-04-30T08:26:41.200Z"
   },
   {
    "duration": 14,
    "start_time": "2022-04-30T08:26:41.228Z"
   },
   {
    "duration": 489,
    "start_time": "2022-04-30T08:26:41.244Z"
   },
   {
    "duration": 126,
    "start_time": "2022-04-30T08:26:41.735Z"
   },
   {
    "duration": 1244,
    "start_time": "2022-04-30T08:26:41.863Z"
   },
   {
    "duration": 417778,
    "start_time": "2022-04-30T08:26:43.110Z"
   },
   {
    "duration": 1566,
    "start_time": "2022-04-30T09:25:06.636Z"
   },
   {
    "duration": 1946,
    "start_time": "2022-04-30T09:25:08.204Z"
   },
   {
    "duration": 146,
    "start_time": "2022-04-30T09:25:10.151Z"
   },
   {
    "duration": 161,
    "start_time": "2022-04-30T09:25:10.299Z"
   },
   {
    "duration": 961,
    "start_time": "2022-04-30T09:25:10.462Z"
   },
   {
    "duration": 188,
    "start_time": "2022-04-30T09:25:11.425Z"
   },
   {
    "duration": 499,
    "start_time": "2022-04-30T09:25:11.615Z"
   },
   {
    "duration": 543,
    "start_time": "2022-04-30T09:25:12.116Z"
   },
   {
    "duration": 234,
    "start_time": "2022-04-30T09:25:12.660Z"
   },
   {
    "duration": 19,
    "start_time": "2022-04-30T09:25:12.898Z"
   },
   {
    "duration": 455,
    "start_time": "2022-04-30T09:25:12.919Z"
   },
   {
    "duration": 545,
    "start_time": "2022-04-30T09:25:13.377Z"
   },
   {
    "duration": 369,
    "start_time": "2022-04-30T09:25:13.925Z"
   },
   {
    "duration": 462,
    "start_time": "2022-04-30T09:25:14.296Z"
   },
   {
    "duration": 208,
    "start_time": "2022-04-30T09:25:14.760Z"
   },
   {
    "duration": 27,
    "start_time": "2022-04-30T09:25:14.970Z"
   },
   {
    "duration": 24,
    "start_time": "2022-04-30T09:25:15.009Z"
   },
   {
    "duration": 507,
    "start_time": "2022-04-30T09:25:15.035Z"
   },
   {
    "duration": 142,
    "start_time": "2022-04-30T09:25:15.544Z"
   },
   {
    "duration": 1127,
    "start_time": "2022-04-30T09:25:15.688Z"
   },
   {
    "duration": 426563,
    "start_time": "2022-04-30T09:25:16.906Z"
   },
   {
    "duration": 521740,
    "start_time": "2022-04-30T09:32:23.470Z"
   },
   {
    "duration": 197,
    "start_time": "2022-04-30T09:41:05.212Z"
   },
   {
    "duration": 31543,
    "start_time": "2022-04-30T09:41:05.412Z"
   },
   {
    "duration": 14652,
    "start_time": "2022-04-30T09:41:36.957Z"
   },
   {
    "duration": 10,
    "start_time": "2022-04-30T09:41:51.611Z"
   },
   {
    "duration": 1445,
    "start_time": "2022-04-30T09:50:34.325Z"
   },
   {
    "duration": 903,
    "start_time": "2022-04-30T09:50:35.772Z"
   },
   {
    "duration": 159,
    "start_time": "2022-04-30T09:50:36.677Z"
   },
   {
    "duration": 117,
    "start_time": "2022-04-30T09:50:36.838Z"
   },
   {
    "duration": 910,
    "start_time": "2022-04-30T09:50:36.958Z"
   },
   {
    "duration": 185,
    "start_time": "2022-04-30T09:50:37.871Z"
   },
   {
    "duration": 487,
    "start_time": "2022-04-30T09:50:38.058Z"
   },
   {
    "duration": 523,
    "start_time": "2022-04-30T09:50:38.547Z"
   },
   {
    "duration": 246,
    "start_time": "2022-04-30T09:50:39.072Z"
   },
   {
    "duration": 13,
    "start_time": "2022-04-30T09:50:39.321Z"
   },
   {
    "duration": 455,
    "start_time": "2022-04-30T09:50:39.336Z"
   },
   {
    "duration": 526,
    "start_time": "2022-04-30T09:50:39.793Z"
   },
   {
    "duration": 346,
    "start_time": "2022-04-30T09:50:40.321Z"
   },
   {
    "duration": 418,
    "start_time": "2022-04-30T09:50:40.669Z"
   },
   {
    "duration": 201,
    "start_time": "2022-04-30T09:50:41.088Z"
   },
   {
    "duration": 32,
    "start_time": "2022-04-30T09:50:41.291Z"
   },
   {
    "duration": 23,
    "start_time": "2022-04-30T09:50:41.326Z"
   },
   {
    "duration": 520,
    "start_time": "2022-04-30T09:50:41.351Z"
   },
   {
    "duration": 139,
    "start_time": "2022-04-30T09:50:41.873Z"
   },
   {
    "duration": 1012,
    "start_time": "2022-04-30T09:50:42.015Z"
   },
   {
    "duration": 422170,
    "start_time": "2022-04-30T09:50:43.029Z"
   },
   {
    "duration": 728345,
    "start_time": "2022-04-30T09:57:45.201Z"
   },
   {
    "duration": 69,
    "start_time": "2022-04-30T10:09:53.547Z"
   },
   {
    "duration": 1429,
    "start_time": "2022-04-30T10:13:31.826Z"
   },
   {
    "duration": 881,
    "start_time": "2022-04-30T10:13:33.257Z"
   },
   {
    "duration": 142,
    "start_time": "2022-04-30T10:13:34.139Z"
   },
   {
    "duration": 160,
    "start_time": "2022-04-30T10:13:34.284Z"
   },
   {
    "duration": 930,
    "start_time": "2022-04-30T10:13:34.446Z"
   },
   {
    "duration": 186,
    "start_time": "2022-04-30T10:13:35.378Z"
   },
   {
    "duration": 484,
    "start_time": "2022-04-30T10:13:35.566Z"
   },
   {
    "duration": 521,
    "start_time": "2022-04-30T10:13:36.052Z"
   },
   {
    "duration": 244,
    "start_time": "2022-04-30T10:13:36.575Z"
   },
   {
    "duration": 13,
    "start_time": "2022-04-30T10:13:36.823Z"
   },
   {
    "duration": 459,
    "start_time": "2022-04-30T10:13:36.838Z"
   },
   {
    "duration": 502,
    "start_time": "2022-04-30T10:13:37.299Z"
   },
   {
    "duration": 361,
    "start_time": "2022-04-30T10:13:37.802Z"
   },
   {
    "duration": 427,
    "start_time": "2022-04-30T10:13:38.164Z"
   },
   {
    "duration": 208,
    "start_time": "2022-04-30T10:13:38.592Z"
   },
   {
    "duration": 30,
    "start_time": "2022-04-30T10:13:38.802Z"
   },
   {
    "duration": 22,
    "start_time": "2022-04-30T10:13:38.834Z"
   },
   {
    "duration": 524,
    "start_time": "2022-04-30T10:13:38.858Z"
   },
   {
    "duration": 150,
    "start_time": "2022-04-30T10:13:39.384Z"
   },
   {
    "duration": 980,
    "start_time": "2022-04-30T10:13:39.536Z"
   },
   {
    "duration": 421593,
    "start_time": "2022-04-30T10:13:40.518Z"
   },
   {
    "duration": 731432,
    "start_time": "2022-04-30T10:20:42.112Z"
   },
   {
    "duration": 173,
    "start_time": "2022-04-30T10:32:53.545Z"
   },
   {
    "duration": 33527,
    "start_time": "2022-04-30T10:32:53.724Z"
   },
   {
    "duration": 0,
    "start_time": "2022-04-30T10:34:58.489Z"
   },
   {
    "duration": 0,
    "start_time": "2022-04-30T10:34:58.490Z"
   },
   {
    "duration": 0,
    "start_time": "2022-04-30T10:34:58.491Z"
   },
   {
    "duration": 0,
    "start_time": "2022-04-30T10:34:58.492Z"
   },
   {
    "duration": 0,
    "start_time": "2022-04-30T10:34:58.493Z"
   },
   {
    "duration": 1457,
    "start_time": "2022-04-30T10:35:24.289Z"
   },
   {
    "duration": 873,
    "start_time": "2022-04-30T10:35:25.748Z"
   },
   {
    "duration": 140,
    "start_time": "2022-04-30T10:35:26.622Z"
   },
   {
    "duration": 160,
    "start_time": "2022-04-30T10:35:26.764Z"
   },
   {
    "duration": 908,
    "start_time": "2022-04-30T10:35:26.926Z"
   },
   {
    "duration": 188,
    "start_time": "2022-04-30T10:35:27.836Z"
   },
   {
    "duration": 506,
    "start_time": "2022-04-30T10:35:28.025Z"
   },
   {
    "duration": 531,
    "start_time": "2022-04-30T10:35:28.533Z"
   },
   {
    "duration": 242,
    "start_time": "2022-04-30T10:35:29.066Z"
   },
   {
    "duration": 16,
    "start_time": "2022-04-30T10:35:29.315Z"
   },
   {
    "duration": 452,
    "start_time": "2022-04-30T10:35:29.332Z"
   },
   {
    "duration": 513,
    "start_time": "2022-04-30T10:35:29.786Z"
   },
   {
    "duration": 361,
    "start_time": "2022-04-30T10:35:30.307Z"
   },
   {
    "duration": 430,
    "start_time": "2022-04-30T10:35:30.671Z"
   },
   {
    "duration": 201,
    "start_time": "2022-04-30T10:35:31.102Z"
   },
   {
    "duration": 30,
    "start_time": "2022-04-30T10:35:31.307Z"
   },
   {
    "duration": 24,
    "start_time": "2022-04-30T10:35:31.339Z"
   },
   {
    "duration": 531,
    "start_time": "2022-04-30T10:35:31.364Z"
   },
   {
    "duration": 142,
    "start_time": "2022-04-30T10:35:31.896Z"
   },
   {
    "duration": 975,
    "start_time": "2022-04-30T10:35:32.040Z"
   },
   {
    "duration": 429709,
    "start_time": "2022-04-30T10:35:33.017Z"
   },
   {
    "duration": 910187,
    "start_time": "2022-04-30T10:42:42.728Z"
   },
   {
    "duration": 107,
    "start_time": "2022-04-30T10:57:52.917Z"
   },
   {
    "duration": 31887,
    "start_time": "2022-04-30T10:57:53.108Z"
   },
   {
    "duration": 13333,
    "start_time": "2022-04-30T10:58:24.997Z"
   },
   {
    "duration": 64,
    "start_time": "2022-04-30T10:58:38.407Z"
   },
   {
    "duration": 0,
    "start_time": "2022-04-30T10:58:38.473Z"
   },
   {
    "duration": 123,
    "start_time": "2022-04-30T11:03:09.401Z"
   },
   {
    "duration": 9,
    "start_time": "2022-04-30T11:03:49.822Z"
   },
   {
    "duration": 1557,
    "start_time": "2022-04-30T21:59:37.308Z"
   },
   {
    "duration": 834,
    "start_time": "2022-04-30T21:59:38.866Z"
   },
   {
    "duration": 153,
    "start_time": "2022-04-30T21:59:39.701Z"
   },
   {
    "duration": 87,
    "start_time": "2022-04-30T21:59:39.856Z"
   },
   {
    "duration": 934,
    "start_time": "2022-04-30T21:59:39.945Z"
   },
   {
    "duration": 162,
    "start_time": "2022-04-30T21:59:45.080Z"
   },
   {
    "duration": 148,
    "start_time": "2022-04-30T22:00:16.860Z"
   },
   {
    "duration": 143,
    "start_time": "2022-04-30T22:27:15.680Z"
   },
   {
    "duration": 209,
    "start_time": "2022-05-01T06:03:09.266Z"
   },
   {
    "duration": 44,
    "start_time": "2022-05-01T06:11:13.115Z"
   },
   {
    "duration": 1980,
    "start_time": "2022-05-01T06:11:27.424Z"
   },
   {
    "duration": 788,
    "start_time": "2022-05-01T06:11:29.407Z"
   },
   {
    "duration": 138,
    "start_time": "2022-05-01T06:11:30.197Z"
   },
   {
    "duration": 146,
    "start_time": "2022-05-01T06:11:30.338Z"
   },
   {
    "duration": 891,
    "start_time": "2022-05-01T06:11:30.486Z"
   },
   {
    "duration": 185,
    "start_time": "2022-05-01T06:11:31.379Z"
   },
   {
    "duration": 479,
    "start_time": "2022-05-01T06:11:31.566Z"
   },
   {
    "duration": 479,
    "start_time": "2022-05-01T06:11:32.047Z"
   },
   {
    "duration": 225,
    "start_time": "2022-05-01T06:11:32.528Z"
   },
   {
    "duration": 14,
    "start_time": "2022-05-01T06:11:32.756Z"
   },
   {
    "duration": 11,
    "start_time": "2022-05-01T06:11:32.771Z"
   },
   {
    "duration": 384,
    "start_time": "2022-05-01T06:11:32.783Z"
   },
   {
    "duration": 0,
    "start_time": "2022-05-01T06:11:33.169Z"
   },
   {
    "duration": 0,
    "start_time": "2022-05-01T06:11:33.170Z"
   },
   {
    "duration": 0,
    "start_time": "2022-05-01T06:11:33.172Z"
   },
   {
    "duration": 0,
    "start_time": "2022-05-01T06:11:33.173Z"
   },
   {
    "duration": 0,
    "start_time": "2022-05-01T06:11:33.174Z"
   },
   {
    "duration": 0,
    "start_time": "2022-05-01T06:11:33.175Z"
   },
   {
    "duration": 0,
    "start_time": "2022-05-01T06:11:33.176Z"
   },
   {
    "duration": 0,
    "start_time": "2022-05-01T06:11:33.177Z"
   },
   {
    "duration": 0,
    "start_time": "2022-05-01T06:11:33.178Z"
   },
   {
    "duration": 0,
    "start_time": "2022-05-01T06:11:33.179Z"
   },
   {
    "duration": 0,
    "start_time": "2022-05-01T06:11:33.181Z"
   },
   {
    "duration": 0,
    "start_time": "2022-05-01T06:11:33.182Z"
   },
   {
    "duration": 0,
    "start_time": "2022-05-01T06:11:33.183Z"
   },
   {
    "duration": 0,
    "start_time": "2022-05-01T06:11:33.183Z"
   },
   {
    "duration": 0,
    "start_time": "2022-05-01T06:11:33.184Z"
   },
   {
    "duration": 420,
    "start_time": "2022-05-01T06:12:38.017Z"
   },
   {
    "duration": 10,
    "start_time": "2022-05-01T06:14:07.817Z"
   },
   {
    "duration": 16,
    "start_time": "2022-05-01T06:14:34.088Z"
   },
   {
    "duration": 3336,
    "start_time": "2022-05-01T06:15:07.572Z"
   },
   {
    "duration": 447,
    "start_time": "2022-05-01T06:15:10.910Z"
   },
   {
    "duration": 321,
    "start_time": "2022-05-01T06:15:14.064Z"
   },
   {
    "duration": 513,
    "start_time": "2022-05-01T06:15:18.027Z"
   },
   {
    "duration": 210,
    "start_time": "2022-05-01T06:15:22.950Z"
   },
   {
    "duration": 315,
    "start_time": "2022-05-01T06:21:21.330Z"
   },
   {
    "duration": 5,
    "start_time": "2022-05-01T06:21:42.038Z"
   },
   {
    "duration": 6,
    "start_time": "2022-05-01T06:22:02.178Z"
   },
   {
    "duration": 5,
    "start_time": "2022-05-01T06:23:10.261Z"
   },
   {
    "duration": 1188,
    "start_time": "2022-05-01T06:23:10.269Z"
   },
   {
    "duration": 245,
    "start_time": "2022-05-01T06:23:11.460Z"
   },
   {
    "duration": 126,
    "start_time": "2022-05-01T06:23:11.707Z"
   },
   {
    "duration": 1384,
    "start_time": "2022-05-01T06:23:11.836Z"
   },
   {
    "duration": 254,
    "start_time": "2022-05-01T06:23:13.223Z"
   },
   {
    "duration": 656,
    "start_time": "2022-05-01T06:23:13.480Z"
   },
   {
    "duration": 679,
    "start_time": "2022-05-01T06:23:14.138Z"
   },
   {
    "duration": 432,
    "start_time": "2022-05-01T06:23:14.819Z"
   },
   {
    "duration": 18,
    "start_time": "2022-05-01T06:23:15.253Z"
   },
   {
    "duration": 673,
    "start_time": "2022-05-01T06:23:15.273Z"
   },
   {
    "duration": 12,
    "start_time": "2022-05-01T06:23:15.948Z"
   },
   {
    "duration": 5203,
    "start_time": "2022-05-01T06:23:15.962Z"
   },
   {
    "duration": 590,
    "start_time": "2022-05-01T06:23:21.169Z"
   },
   {
    "duration": 445,
    "start_time": "2022-05-01T06:23:21.761Z"
   },
   {
    "duration": 14,
    "start_time": "2022-05-01T06:23:22.209Z"
   },
   {
    "duration": 503,
    "start_time": "2022-05-01T06:23:22.224Z"
   },
   {
    "duration": 222,
    "start_time": "2022-05-01T06:23:22.729Z"
   },
   {
    "duration": 27,
    "start_time": "2022-05-01T06:23:22.953Z"
   },
   {
    "duration": 16,
    "start_time": "2022-05-01T06:23:22.982Z"
   },
   {
    "duration": 571,
    "start_time": "2022-05-01T06:23:23.000Z"
   },
   {
    "duration": 160,
    "start_time": "2022-05-01T06:23:23.573Z"
   },
   {
    "duration": 1294,
    "start_time": "2022-05-01T06:23:23.735Z"
   },
   {
    "duration": 1733,
    "start_time": "2022-05-01T06:26:23.276Z"
   },
   {
    "duration": 877,
    "start_time": "2022-05-01T06:26:25.011Z"
   },
   {
    "duration": 153,
    "start_time": "2022-05-01T06:26:25.890Z"
   },
   {
    "duration": 98,
    "start_time": "2022-05-01T06:26:26.045Z"
   },
   {
    "duration": 843,
    "start_time": "2022-05-01T06:26:26.145Z"
   },
   {
    "duration": 177,
    "start_time": "2022-05-01T06:26:26.990Z"
   },
   {
    "duration": 663,
    "start_time": "2022-05-01T06:26:27.169Z"
   },
   {
    "duration": 695,
    "start_time": "2022-05-01T06:26:27.834Z"
   },
   {
    "duration": 407,
    "start_time": "2022-05-01T06:26:28.531Z"
   },
   {
    "duration": 19,
    "start_time": "2022-05-01T06:26:28.941Z"
   },
   {
    "duration": 564,
    "start_time": "2022-05-01T06:26:28.962Z"
   },
   {
    "duration": 10,
    "start_time": "2022-05-01T06:26:29.528Z"
   },
   {
    "duration": 3188,
    "start_time": "2022-05-01T06:26:29.540Z"
   },
   {
    "duration": 524,
    "start_time": "2022-05-01T06:26:32.729Z"
   },
   {
    "duration": 342,
    "start_time": "2022-05-01T06:26:33.255Z"
   },
   {
    "duration": 5,
    "start_time": "2022-05-01T06:26:33.598Z"
   },
   {
    "duration": 190,
    "start_time": "2022-05-01T06:26:33.605Z"
   },
   {
    "duration": 434,
    "start_time": "2022-05-01T06:26:33.797Z"
   },
   {
    "duration": 229,
    "start_time": "2022-05-01T06:26:34.232Z"
   },
   {
    "duration": 28,
    "start_time": "2022-05-01T06:26:34.463Z"
   },
   {
    "duration": 31,
    "start_time": "2022-05-01T06:26:34.492Z"
   },
   {
    "duration": 575,
    "start_time": "2022-05-01T06:26:34.524Z"
   },
   {
    "duration": 153,
    "start_time": "2022-05-01T06:26:35.101Z"
   },
   {
    "duration": 1073,
    "start_time": "2022-05-01T06:26:35.256Z"
   },
   {
    "duration": 179126,
    "start_time": "2022-05-01T06:26:36.332Z"
   },
   {
    "duration": 2025,
    "start_time": "2022-05-01T06:29:39.377Z"
   },
   {
    "duration": 833,
    "start_time": "2022-05-01T06:29:41.404Z"
   },
   {
    "duration": 135,
    "start_time": "2022-05-01T06:29:42.239Z"
   },
   {
    "duration": 130,
    "start_time": "2022-05-01T06:29:42.376Z"
   },
   {
    "duration": 870,
    "start_time": "2022-05-01T06:29:42.508Z"
   },
   {
    "duration": 181,
    "start_time": "2022-05-01T06:29:43.380Z"
   },
   {
    "duration": 468,
    "start_time": "2022-05-01T06:29:43.563Z"
   },
   {
    "duration": 483,
    "start_time": "2022-05-01T06:29:44.032Z"
   },
   {
    "duration": 229,
    "start_time": "2022-05-01T06:29:44.517Z"
   },
   {
    "duration": 14,
    "start_time": "2022-05-01T06:29:44.749Z"
   },
   {
    "duration": 410,
    "start_time": "2022-05-01T06:29:44.765Z"
   },
   {
    "duration": 9,
    "start_time": "2022-05-01T06:29:45.176Z"
   },
   {
    "duration": 3217,
    "start_time": "2022-05-01T06:29:45.186Z"
   },
   {
    "duration": 510,
    "start_time": "2022-05-01T06:29:48.404Z"
   },
   {
    "duration": 321,
    "start_time": "2022-05-01T06:29:48.915Z"
   },
   {
    "duration": 146,
    "start_time": "2022-05-01T06:29:49.237Z"
   },
   {
    "duration": 0,
    "start_time": "2022-05-01T06:29:49.385Z"
   },
   {
    "duration": 0,
    "start_time": "2022-05-01T06:29:49.387Z"
   },
   {
    "duration": 0,
    "start_time": "2022-05-01T06:29:49.388Z"
   },
   {
    "duration": 0,
    "start_time": "2022-05-01T06:29:49.389Z"
   },
   {
    "duration": 0,
    "start_time": "2022-05-01T06:29:49.390Z"
   },
   {
    "duration": 0,
    "start_time": "2022-05-01T06:29:49.390Z"
   },
   {
    "duration": 0,
    "start_time": "2022-05-01T06:29:49.391Z"
   },
   {
    "duration": 0,
    "start_time": "2022-05-01T06:29:49.392Z"
   },
   {
    "duration": 0,
    "start_time": "2022-05-01T06:29:49.393Z"
   },
   {
    "duration": 0,
    "start_time": "2022-05-01T06:29:49.394Z"
   },
   {
    "duration": 0,
    "start_time": "2022-05-01T06:29:49.395Z"
   },
   {
    "duration": 0,
    "start_time": "2022-05-01T06:29:49.396Z"
   },
   {
    "duration": 0,
    "start_time": "2022-05-01T06:29:49.397Z"
   },
   {
    "duration": 0,
    "start_time": "2022-05-01T06:29:49.398Z"
   },
   {
    "duration": 0,
    "start_time": "2022-05-01T06:29:49.423Z"
   },
   {
    "duration": 41,
    "start_time": "2022-05-01T06:30:24.705Z"
   },
   {
    "duration": 5,
    "start_time": "2022-05-01T06:30:26.142Z"
   },
   {
    "duration": 162,
    "start_time": "2022-05-01T06:30:28.654Z"
   },
   {
    "duration": 57,
    "start_time": "2022-05-01T06:30:43.366Z"
   },
   {
    "duration": 4,
    "start_time": "2022-05-01T06:30:44.145Z"
   },
   {
    "duration": 163,
    "start_time": "2022-05-01T06:30:44.831Z"
   },
   {
    "duration": 46,
    "start_time": "2022-05-01T06:30:55.095Z"
   },
   {
    "duration": 4,
    "start_time": "2022-05-01T06:30:56.254Z"
   },
   {
    "duration": 229,
    "start_time": "2022-05-01T06:30:57.118Z"
   },
   {
    "duration": 48,
    "start_time": "2022-05-01T06:32:11.737Z"
   },
   {
    "duration": 4,
    "start_time": "2022-05-01T06:32:12.768Z"
   },
   {
    "duration": 169,
    "start_time": "2022-05-01T06:32:13.785Z"
   },
   {
    "duration": 376,
    "start_time": "2022-05-01T06:32:25.672Z"
   },
   {
    "duration": 152,
    "start_time": "2022-05-01T06:32:49.352Z"
   },
   {
    "duration": 45,
    "start_time": "2022-05-01T06:33:01.593Z"
   },
   {
    "duration": 4,
    "start_time": "2022-05-01T06:33:02.985Z"
   },
   {
    "duration": 249,
    "start_time": "2022-05-01T06:33:03.856Z"
   },
   {
    "duration": 37,
    "start_time": "2022-05-01T06:33:38.369Z"
   },
   {
    "duration": 4,
    "start_time": "2022-05-01T06:33:39.346Z"
   },
   {
    "duration": 155,
    "start_time": "2022-05-01T06:33:40.213Z"
   },
   {
    "duration": 4,
    "start_time": "2022-05-01T06:34:05.586Z"
   },
   {
    "duration": 166,
    "start_time": "2022-05-01T06:34:06.547Z"
   },
   {
    "duration": 4,
    "start_time": "2022-05-01T06:34:13.762Z"
   },
   {
    "duration": 158,
    "start_time": "2022-05-01T06:34:14.458Z"
   },
   {
    "duration": 52,
    "start_time": "2022-05-01T06:34:25.162Z"
   },
   {
    "duration": 5,
    "start_time": "2022-05-01T06:34:25.976Z"
   },
   {
    "duration": 153,
    "start_time": "2022-05-01T06:34:26.586Z"
   },
   {
    "duration": 52,
    "start_time": "2022-05-01T06:35:11.284Z"
   },
   {
    "duration": 5,
    "start_time": "2022-05-01T06:35:12.476Z"
   },
   {
    "duration": 162,
    "start_time": "2022-05-01T06:35:13.219Z"
   },
   {
    "duration": 44,
    "start_time": "2022-05-01T06:36:37.173Z"
   },
   {
    "duration": 5,
    "start_time": "2022-05-01T06:36:38.036Z"
   },
   {
    "duration": 150,
    "start_time": "2022-05-01T06:36:39.433Z"
   },
   {
    "duration": 302,
    "start_time": "2022-05-01T06:37:24.449Z"
   },
   {
    "duration": 8,
    "start_time": "2022-05-01T06:37:36.326Z"
   },
   {
    "duration": 16,
    "start_time": "2022-05-01T06:38:33.786Z"
   },
   {
    "duration": 8,
    "start_time": "2022-05-01T06:38:35.860Z"
   },
   {
    "duration": 1757,
    "start_time": "2022-05-01T06:39:15.604Z"
   },
   {
    "duration": 891,
    "start_time": "2022-05-01T06:39:17.363Z"
   },
   {
    "duration": 146,
    "start_time": "2022-05-01T06:39:18.256Z"
   },
   {
    "duration": 107,
    "start_time": "2022-05-01T06:39:18.404Z"
   },
   {
    "duration": 924,
    "start_time": "2022-05-01T06:39:18.523Z"
   },
   {
    "duration": 192,
    "start_time": "2022-05-01T06:39:19.449Z"
   },
   {
    "duration": 488,
    "start_time": "2022-05-01T06:39:19.642Z"
   },
   {
    "duration": 515,
    "start_time": "2022-05-01T06:39:20.132Z"
   },
   {
    "duration": 233,
    "start_time": "2022-05-01T06:39:20.649Z"
   },
   {
    "duration": 14,
    "start_time": "2022-05-01T06:39:20.885Z"
   },
   {
    "duration": 27,
    "start_time": "2022-05-01T06:39:20.901Z"
   },
   {
    "duration": 577,
    "start_time": "2022-05-01T06:39:20.930Z"
   },
   {
    "duration": 17,
    "start_time": "2022-05-01T06:39:21.509Z"
   },
   {
    "duration": 5016,
    "start_time": "2022-05-01T06:39:21.527Z"
   },
   {
    "duration": 652,
    "start_time": "2022-05-01T06:39:26.545Z"
   },
   {
    "duration": 452,
    "start_time": "2022-05-01T06:39:27.199Z"
   },
   {
    "duration": 49,
    "start_time": "2022-05-01T06:39:27.653Z"
   },
   {
    "duration": 18,
    "start_time": "2022-05-01T06:39:27.704Z"
   },
   {
    "duration": 256,
    "start_time": "2022-05-01T06:39:27.724Z"
   },
   {
    "duration": 592,
    "start_time": "2022-05-01T06:39:27.982Z"
   },
   {
    "duration": 331,
    "start_time": "2022-05-01T06:39:28.576Z"
   },
   {
    "duration": 37,
    "start_time": "2022-05-01T06:39:28.909Z"
   },
   {
    "duration": 21,
    "start_time": "2022-05-01T06:39:28.948Z"
   },
   {
    "duration": 959,
    "start_time": "2022-05-01T06:39:28.971Z"
   },
   {
    "duration": 220,
    "start_time": "2022-05-01T06:39:29.932Z"
   },
   {
    "duration": 1093,
    "start_time": "2022-05-01T06:39:30.155Z"
   },
   {
    "duration": 508806,
    "start_time": "2022-05-01T06:39:31.322Z"
   },
   {
    "duration": 1673,
    "start_time": "2022-05-01T06:53:26.095Z"
   },
   {
    "duration": 853,
    "start_time": "2022-05-01T06:53:27.770Z"
   },
   {
    "duration": 155,
    "start_time": "2022-05-01T06:53:28.628Z"
   },
   {
    "duration": 102,
    "start_time": "2022-05-01T06:53:28.784Z"
   },
   {
    "duration": 875,
    "start_time": "2022-05-01T06:53:28.887Z"
   },
   {
    "duration": 180,
    "start_time": "2022-05-01T06:53:29.763Z"
   },
   {
    "duration": 505,
    "start_time": "2022-05-01T06:53:29.944Z"
   },
   {
    "duration": 523,
    "start_time": "2022-05-01T06:53:30.450Z"
   },
   {
    "duration": 233,
    "start_time": "2022-05-01T06:53:30.976Z"
   },
   {
    "duration": 19,
    "start_time": "2022-05-01T06:53:31.210Z"
   },
   {
    "duration": 10,
    "start_time": "2022-05-01T06:53:31.230Z"
   },
   {
    "duration": 416,
    "start_time": "2022-05-01T06:53:31.242Z"
   },
   {
    "duration": 10,
    "start_time": "2022-05-01T06:53:31.659Z"
   },
   {
    "duration": 3046,
    "start_time": "2022-05-01T06:53:31.670Z"
   },
   {
    "duration": 504,
    "start_time": "2022-05-01T06:53:34.718Z"
   },
   {
    "duration": 323,
    "start_time": "2022-05-01T06:53:35.224Z"
   },
   {
    "duration": 43,
    "start_time": "2022-05-01T06:53:35.549Z"
   },
   {
    "duration": 4,
    "start_time": "2022-05-01T06:53:35.594Z"
   },
   {
    "duration": 136,
    "start_time": "2022-05-01T06:53:35.600Z"
   },
   {
    "duration": 0,
    "start_time": "2022-05-01T06:53:35.738Z"
   },
   {
    "duration": 0,
    "start_time": "2022-05-01T06:53:35.739Z"
   },
   {
    "duration": 0,
    "start_time": "2022-05-01T06:53:35.740Z"
   },
   {
    "duration": 0,
    "start_time": "2022-05-01T06:53:35.742Z"
   },
   {
    "duration": 0,
    "start_time": "2022-05-01T06:53:35.743Z"
   },
   {
    "duration": 0,
    "start_time": "2022-05-01T06:53:35.744Z"
   },
   {
    "duration": 0,
    "start_time": "2022-05-01T06:53:35.745Z"
   },
   {
    "duration": 0,
    "start_time": "2022-05-01T06:53:35.746Z"
   },
   {
    "duration": 0,
    "start_time": "2022-05-01T06:53:35.747Z"
   },
   {
    "duration": 0,
    "start_time": "2022-05-01T06:53:35.748Z"
   },
   {
    "duration": 0,
    "start_time": "2022-05-01T06:53:35.749Z"
   },
   {
    "duration": 0,
    "start_time": "2022-05-01T06:53:35.751Z"
   },
   {
    "duration": 0,
    "start_time": "2022-05-01T06:53:35.752Z"
   },
   {
    "duration": 0,
    "start_time": "2022-05-01T06:53:35.753Z"
   },
   {
    "duration": 0,
    "start_time": "2022-05-01T06:53:35.754Z"
   },
   {
    "duration": 5,
    "start_time": "2022-05-01T06:54:04.622Z"
   },
   {
    "duration": 174,
    "start_time": "2022-05-01T06:54:06.550Z"
   },
   {
    "duration": 4,
    "start_time": "2022-05-01T06:54:09.909Z"
   },
   {
    "duration": 4084,
    "start_time": "2022-05-01T06:54:12.363Z"
   },
   {
    "duration": 422,
    "start_time": "2022-05-01T06:54:16.449Z"
   },
   {
    "duration": 4277,
    "start_time": "2022-05-01T06:54:18.009Z"
   },
   {
    "duration": 142,
    "start_time": "2022-05-01T06:54:26.791Z"
   },
   {
    "duration": 16,
    "start_time": "2022-05-01T06:54:38.766Z"
   },
   {
    "duration": 8,
    "start_time": "2022-05-01T06:55:23.896Z"
   },
   {
    "duration": 254,
    "start_time": "2022-05-01T06:55:24.861Z"
   },
   {
    "duration": 6,
    "start_time": "2022-05-01T06:55:35.376Z"
   },
   {
    "duration": 163,
    "start_time": "2022-05-01T06:55:36.739Z"
   },
   {
    "duration": 199,
    "start_time": "2022-05-01T06:57:15.003Z"
   },
   {
    "duration": 6417,
    "start_time": "2022-05-01T06:57:15.618Z"
   },
   {
    "duration": 3,
    "start_time": "2022-05-01T06:57:49.403Z"
   },
   {
    "duration": 3613,
    "start_time": "2022-05-01T06:57:50.402Z"
   },
   {
    "duration": 16,
    "start_time": "2022-05-01T06:57:54.017Z"
   },
   {
    "duration": 215,
    "start_time": "2022-05-01T07:02:37.029Z"
   },
   {
    "duration": 11,
    "start_time": "2022-05-01T07:04:03.227Z"
   },
   {
    "duration": 198,
    "start_time": "2022-05-01T07:05:55.924Z"
   },
   {
    "duration": 1698,
    "start_time": "2022-05-01T07:06:13.175Z"
   },
   {
    "duration": 903,
    "start_time": "2022-05-01T07:06:14.875Z"
   },
   {
    "duration": 149,
    "start_time": "2022-05-01T07:06:15.780Z"
   },
   {
    "duration": 107,
    "start_time": "2022-05-01T07:06:15.932Z"
   },
   {
    "duration": 992,
    "start_time": "2022-05-01T07:06:16.041Z"
   },
   {
    "duration": 180,
    "start_time": "2022-05-01T07:06:17.035Z"
   },
   {
    "duration": 828,
    "start_time": "2022-05-01T07:06:17.217Z"
   },
   {
    "duration": 764,
    "start_time": "2022-05-01T07:06:18.046Z"
   },
   {
    "duration": 369,
    "start_time": "2022-05-01T07:06:18.812Z"
   },
   {
    "duration": 14,
    "start_time": "2022-05-01T07:06:19.184Z"
   },
   {
    "duration": 584,
    "start_time": "2022-05-01T07:06:19.199Z"
   },
   {
    "duration": 13,
    "start_time": "2022-05-01T07:06:19.785Z"
   },
   {
    "duration": 5084,
    "start_time": "2022-05-01T07:06:19.800Z"
   },
   {
    "duration": 667,
    "start_time": "2022-05-01T07:06:24.886Z"
   },
   {
    "duration": 429,
    "start_time": "2022-05-01T07:06:25.555Z"
   },
   {
    "duration": 58,
    "start_time": "2022-05-01T07:06:25.986Z"
   },
   {
    "duration": 6,
    "start_time": "2022-05-01T07:06:26.046Z"
   },
   {
    "duration": 276,
    "start_time": "2022-05-01T07:06:26.053Z"
   },
   {
    "duration": 4,
    "start_time": "2022-05-01T07:06:26.331Z"
   },
   {
    "duration": 5773,
    "start_time": "2022-05-01T07:06:26.338Z"
   },
   {
    "duration": 24,
    "start_time": "2022-05-01T07:06:32.113Z"
   },
   {
    "duration": 553,
    "start_time": "2022-05-01T07:06:32.139Z"
   },
   {
    "duration": 512,
    "start_time": "2022-05-01T07:06:32.694Z"
   },
   {
    "duration": 47,
    "start_time": "2022-05-01T07:06:33.208Z"
   },
   {
    "duration": 23,
    "start_time": "2022-05-01T07:06:33.257Z"
   },
   {
    "duration": 971,
    "start_time": "2022-05-01T07:06:33.282Z"
   },
   {
    "duration": 170,
    "start_time": "2022-05-01T07:06:34.255Z"
   },
   {
    "duration": 0,
    "start_time": "2022-05-01T07:06:34.428Z"
   },
   {
    "duration": 0,
    "start_time": "2022-05-01T07:06:34.429Z"
   },
   {
    "duration": 0,
    "start_time": "2022-05-01T07:06:34.430Z"
   },
   {
    "duration": 0,
    "start_time": "2022-05-01T07:06:34.432Z"
   },
   {
    "duration": 0,
    "start_time": "2022-05-01T07:06:34.433Z"
   },
   {
    "duration": 0,
    "start_time": "2022-05-01T07:06:34.434Z"
   },
   {
    "duration": 0,
    "start_time": "2022-05-01T07:06:34.435Z"
   },
   {
    "duration": 1,
    "start_time": "2022-05-01T07:06:34.436Z"
   },
   {
    "duration": 954,
    "start_time": "2022-05-01T07:08:34.755Z"
   },
   {
    "duration": 154,
    "start_time": "2022-05-01T07:08:37.467Z"
   },
   {
    "duration": 528,
    "start_time": "2022-05-01T07:08:50.723Z"
   },
   {
    "duration": 137720,
    "start_time": "2022-05-01T07:08:54.810Z"
   },
   {
    "duration": 445,
    "start_time": "2022-05-01T07:14:18.194Z"
   },
   {
    "duration": 17357,
    "start_time": "2022-05-01T07:16:00.805Z"
   },
   {
    "duration": 933,
    "start_time": "2022-05-01T07:25:11.174Z"
   },
   {
    "duration": 1076,
    "start_time": "2022-05-01T07:25:12.110Z"
   },
   {
    "duration": 970,
    "start_time": "2022-05-01T07:25:15.688Z"
   },
   {
    "duration": 15,
    "start_time": "2022-05-01T07:25:33.925Z"
   },
   {
    "duration": 1097,
    "start_time": "2022-05-01T07:26:05.246Z"
   },
   {
    "duration": 17,
    "start_time": "2022-05-01T07:26:06.396Z"
   },
   {
    "duration": 1136,
    "start_time": "2022-05-01T07:26:10.031Z"
   },
   {
    "duration": 743,
    "start_time": "2022-05-01T07:26:11.169Z"
   },
   {
    "duration": 147774,
    "start_time": "2022-05-01T07:26:12.558Z"
   },
   {
    "duration": 16085,
    "start_time": "2022-05-01T07:28:56.443Z"
   },
   {
    "duration": 1694,
    "start_time": "2022-05-01T07:33:37.590Z"
   },
   {
    "duration": 1177,
    "start_time": "2022-05-01T07:33:39.286Z"
   },
   {
    "duration": 246,
    "start_time": "2022-05-01T07:33:40.465Z"
   },
   {
    "duration": 175,
    "start_time": "2022-05-01T07:33:40.722Z"
   },
   {
    "duration": 1393,
    "start_time": "2022-05-01T07:33:40.899Z"
   },
   {
    "duration": 304,
    "start_time": "2022-05-01T07:33:42.293Z"
   },
   {
    "duration": 668,
    "start_time": "2022-05-01T07:33:42.598Z"
   },
   {
    "duration": 492,
    "start_time": "2022-05-01T07:33:43.268Z"
   },
   {
    "duration": 236,
    "start_time": "2022-05-01T07:33:43.762Z"
   },
   {
    "duration": 13,
    "start_time": "2022-05-01T07:33:44.001Z"
   },
   {
    "duration": 418,
    "start_time": "2022-05-01T07:33:44.023Z"
   },
   {
    "duration": 10,
    "start_time": "2022-05-01T07:33:44.443Z"
   },
   {
    "duration": 3158,
    "start_time": "2022-05-01T07:33:44.455Z"
   },
   {
    "duration": 498,
    "start_time": "2022-05-01T07:33:47.615Z"
   },
   {
    "duration": 370,
    "start_time": "2022-05-01T07:33:48.115Z"
   },
   {
    "duration": 65,
    "start_time": "2022-05-01T07:33:48.497Z"
   },
   {
    "duration": 5,
    "start_time": "2022-05-01T07:33:48.563Z"
   },
   {
    "duration": 181,
    "start_time": "2022-05-01T07:33:48.569Z"
   },
   {
    "duration": 3,
    "start_time": "2022-05-01T07:33:48.752Z"
   },
   {
    "duration": 3691,
    "start_time": "2022-05-01T07:33:48.757Z"
   },
   {
    "duration": 14,
    "start_time": "2022-05-01T07:33:52.450Z"
   },
   {
    "duration": 409,
    "start_time": "2022-05-01T07:33:52.466Z"
   },
   {
    "duration": 356,
    "start_time": "2022-05-01T07:33:52.876Z"
   },
   {
    "duration": 34,
    "start_time": "2022-05-01T07:33:53.234Z"
   },
   {
    "duration": 19,
    "start_time": "2022-05-01T07:33:53.270Z"
   },
   {
    "duration": 680,
    "start_time": "2022-05-01T07:33:53.291Z"
   },
   {
    "duration": 13,
    "start_time": "2022-05-01T07:33:53.973Z"
   },
   {
    "duration": 758,
    "start_time": "2022-05-01T07:33:53.989Z"
   },
   {
    "duration": 529,
    "start_time": "2022-05-01T07:33:54.749Z"
   },
   {
    "duration": 136945,
    "start_time": "2022-05-01T07:33:55.280Z"
   },
   {
    "duration": 2080,
    "start_time": "2022-05-01T07:39:36.091Z"
   },
   {
    "duration": 993,
    "start_time": "2022-05-01T07:39:38.173Z"
   },
   {
    "duration": 138,
    "start_time": "2022-05-01T07:39:39.167Z"
   },
   {
    "duration": 103,
    "start_time": "2022-05-01T07:39:39.307Z"
   },
   {
    "duration": 865,
    "start_time": "2022-05-01T07:39:39.412Z"
   },
   {
    "duration": 182,
    "start_time": "2022-05-01T07:39:40.279Z"
   },
   {
    "duration": 476,
    "start_time": "2022-05-01T07:39:40.462Z"
   },
   {
    "duration": 506,
    "start_time": "2022-05-01T07:39:40.940Z"
   },
   {
    "duration": 228,
    "start_time": "2022-05-01T07:39:41.448Z"
   },
   {
    "duration": 14,
    "start_time": "2022-05-01T07:39:41.679Z"
   },
   {
    "duration": 400,
    "start_time": "2022-05-01T07:39:41.694Z"
   },
   {
    "duration": 10,
    "start_time": "2022-05-01T07:39:42.095Z"
   },
   {
    "duration": 3219,
    "start_time": "2022-05-01T07:39:42.106Z"
   },
   {
    "duration": 498,
    "start_time": "2022-05-01T07:39:45.327Z"
   },
   {
    "duration": 321,
    "start_time": "2022-05-01T07:39:45.827Z"
   },
   {
    "duration": 41,
    "start_time": "2022-05-01T07:39:46.149Z"
   },
   {
    "duration": 4,
    "start_time": "2022-05-01T07:39:46.192Z"
   },
   {
    "duration": 187,
    "start_time": "2022-05-01T07:39:46.198Z"
   },
   {
    "duration": 3,
    "start_time": "2022-05-01T07:39:46.387Z"
   },
   {
    "duration": 3763,
    "start_time": "2022-05-01T07:39:46.392Z"
   },
   {
    "duration": 15,
    "start_time": "2022-05-01T07:39:50.157Z"
   },
   {
    "duration": 413,
    "start_time": "2022-05-01T07:39:50.173Z"
   },
   {
    "duration": 364,
    "start_time": "2022-05-01T07:39:50.587Z"
   },
   {
    "duration": 35,
    "start_time": "2022-05-01T07:39:50.953Z"
   },
   {
    "duration": 33,
    "start_time": "2022-05-01T07:39:50.989Z"
   },
   {
    "duration": 648,
    "start_time": "2022-05-01T07:39:51.024Z"
   },
   {
    "duration": 13,
    "start_time": "2022-05-01T07:39:51.674Z"
   },
   {
    "duration": 802,
    "start_time": "2022-05-01T07:39:51.691Z"
   },
   {
    "duration": 550,
    "start_time": "2022-05-01T07:39:52.495Z"
   },
   {
    "duration": 138885,
    "start_time": "2022-05-01T07:39:53.047Z"
   },
   {
    "duration": 266577,
    "start_time": "2022-05-01T07:42:12.027Z"
   },
   {
    "duration": 495,
    "start_time": "2022-05-01T07:46:38.607Z"
   },
   {
    "duration": 1853,
    "start_time": "2022-05-01T07:47:17.002Z"
   },
   {
    "duration": 989,
    "start_time": "2022-05-01T07:47:18.857Z"
   },
   {
    "duration": 162,
    "start_time": "2022-05-01T07:47:19.850Z"
   },
   {
    "duration": 96,
    "start_time": "2022-05-01T07:47:20.014Z"
   },
   {
    "duration": 1007,
    "start_time": "2022-05-01T07:47:20.112Z"
   },
   {
    "duration": 189,
    "start_time": "2022-05-01T07:47:21.121Z"
   },
   {
    "duration": 518,
    "start_time": "2022-05-01T07:47:21.312Z"
   },
   {
    "duration": 553,
    "start_time": "2022-05-01T07:47:21.834Z"
   },
   {
    "duration": 273,
    "start_time": "2022-05-01T07:47:22.391Z"
   },
   {
    "duration": 15,
    "start_time": "2022-05-01T07:47:22.665Z"
   },
   {
    "duration": 460,
    "start_time": "2022-05-01T07:47:22.682Z"
   },
   {
    "duration": 13,
    "start_time": "2022-05-01T07:47:23.144Z"
   },
   {
    "duration": 3494,
    "start_time": "2022-05-01T07:47:23.159Z"
   },
   {
    "duration": 512,
    "start_time": "2022-05-01T07:47:26.655Z"
   },
   {
    "duration": 344,
    "start_time": "2022-05-01T07:47:27.169Z"
   },
   {
    "duration": 47,
    "start_time": "2022-05-01T07:47:27.515Z"
   },
   {
    "duration": 4,
    "start_time": "2022-05-01T07:47:27.564Z"
   },
   {
    "duration": 201,
    "start_time": "2022-05-01T07:47:27.570Z"
   },
   {
    "duration": 3,
    "start_time": "2022-05-01T07:47:27.773Z"
   },
   {
    "duration": 4044,
    "start_time": "2022-05-01T07:47:27.778Z"
   },
   {
    "duration": 23,
    "start_time": "2022-05-01T07:47:31.825Z"
   },
   {
    "duration": 446,
    "start_time": "2022-05-01T07:47:31.851Z"
   },
   {
    "duration": 400,
    "start_time": "2022-05-01T07:47:32.299Z"
   },
   {
    "duration": 44,
    "start_time": "2022-05-01T07:47:32.702Z"
   },
   {
    "duration": 18,
    "start_time": "2022-05-01T07:47:32.748Z"
   },
   {
    "duration": 706,
    "start_time": "2022-05-01T07:47:32.768Z"
   },
   {
    "duration": 13,
    "start_time": "2022-05-01T07:47:33.478Z"
   },
   {
    "duration": 1039,
    "start_time": "2022-05-01T07:47:33.493Z"
   },
   {
    "duration": 753,
    "start_time": "2022-05-01T07:47:34.534Z"
   },
   {
    "duration": 178250,
    "start_time": "2022-05-01T07:47:35.291Z"
   },
   {
    "duration": 2460,
    "start_time": "2022-05-01T10:51:41.966Z"
   },
   {
    "duration": 1129,
    "start_time": "2022-05-01T10:51:44.429Z"
   },
   {
    "duration": 171,
    "start_time": "2022-05-01T10:51:45.560Z"
   },
   {
    "duration": 137,
    "start_time": "2022-05-01T10:51:45.734Z"
   },
   {
    "duration": 1160,
    "start_time": "2022-05-01T10:51:45.873Z"
   },
   {
    "duration": 231,
    "start_time": "2022-05-01T10:51:47.035Z"
   },
   {
    "duration": 703,
    "start_time": "2022-05-01T10:51:47.268Z"
   },
   {
    "duration": 832,
    "start_time": "2022-05-01T10:51:47.973Z"
   },
   {
    "duration": 286,
    "start_time": "2022-05-01T10:51:48.807Z"
   },
   {
    "duration": 22,
    "start_time": "2022-05-01T10:51:49.096Z"
   },
   {
    "duration": 631,
    "start_time": "2022-05-01T10:51:49.120Z"
   },
   {
    "duration": 13,
    "start_time": "2022-05-01T10:51:49.753Z"
   },
   {
    "duration": 5214,
    "start_time": "2022-05-01T10:51:49.768Z"
   },
   {
    "duration": 959,
    "start_time": "2022-05-01T10:51:54.984Z"
   },
   {
    "duration": 655,
    "start_time": "2022-05-01T10:51:55.946Z"
   },
   {
    "duration": 89,
    "start_time": "2022-05-01T10:51:56.604Z"
   },
   {
    "duration": 8,
    "start_time": "2022-05-01T10:51:56.695Z"
   },
   {
    "duration": 378,
    "start_time": "2022-05-01T10:51:56.706Z"
   },
   {
    "duration": 9,
    "start_time": "2022-05-01T10:51:57.087Z"
   },
   {
    "duration": 9040,
    "start_time": "2022-05-01T10:51:57.098Z"
   },
   {
    "duration": 32,
    "start_time": "2022-05-01T10:52:06.141Z"
   },
   {
    "duration": 1054,
    "start_time": "2022-05-01T10:52:06.192Z"
   },
   {
    "duration": 570,
    "start_time": "2022-05-01T10:52:07.250Z"
   },
   {
    "duration": 56,
    "start_time": "2022-05-01T10:52:07.822Z"
   },
   {
    "duration": 31,
    "start_time": "2022-05-01T10:52:07.894Z"
   },
   {
    "duration": 1027,
    "start_time": "2022-05-01T10:52:07.927Z"
   },
   {
    "duration": 21,
    "start_time": "2022-05-01T10:52:08.957Z"
   },
   {
    "duration": 1460,
    "start_time": "2022-05-01T10:52:08.983Z"
   },
   {
    "duration": 912,
    "start_time": "2022-05-01T10:52:10.446Z"
   },
   {
    "duration": 176832,
    "start_time": "2022-05-01T10:52:11.361Z"
   },
   {
    "duration": 4353050,
    "start_time": "2022-05-01T10:55:08.196Z"
   },
   {
    "duration": 676,
    "start_time": "2022-05-01T12:07:41.248Z"
   },
   {
    "duration": 68678,
    "start_time": "2022-05-01T12:08:11.513Z"
   },
   {
    "duration": 20827,
    "start_time": "2022-05-01T12:09:20.193Z"
   },
   {
    "duration": 12,
    "start_time": "2022-05-01T12:09:41.023Z"
   },
   {
    "duration": 207,
    "start_time": "2022-05-01T12:09:41.509Z"
   },
   {
    "duration": 2049,
    "start_time": "2022-05-01T12:10:27.346Z"
   },
   {
    "duration": 1082,
    "start_time": "2022-05-01T12:10:29.398Z"
   },
   {
    "duration": 184,
    "start_time": "2022-05-01T12:10:30.482Z"
   },
   {
    "duration": 130,
    "start_time": "2022-05-01T12:10:30.669Z"
   },
   {
    "duration": 1200,
    "start_time": "2022-05-01T12:10:30.801Z"
   },
   {
    "duration": 414,
    "start_time": "2022-05-01T12:10:32.004Z"
   },
   {
    "duration": 750,
    "start_time": "2022-05-01T12:10:32.421Z"
   },
   {
    "duration": 709,
    "start_time": "2022-05-01T12:10:33.173Z"
   },
   {
    "duration": 285,
    "start_time": "2022-05-01T12:10:33.884Z"
   },
   {
    "duration": 24,
    "start_time": "2022-05-01T12:10:34.173Z"
   },
   {
    "duration": 721,
    "start_time": "2022-05-01T12:10:34.199Z"
   },
   {
    "duration": 13,
    "start_time": "2022-05-01T12:10:34.922Z"
   },
   {
    "duration": 5331,
    "start_time": "2022-05-01T12:10:34.937Z"
   },
   {
    "duration": 723,
    "start_time": "2022-05-01T12:10:40.270Z"
   },
   {
    "duration": 481,
    "start_time": "2022-05-01T12:10:40.995Z"
   },
   {
    "duration": 78,
    "start_time": "2022-05-01T12:10:41.478Z"
   },
   {
    "duration": 6,
    "start_time": "2022-05-01T12:10:41.558Z"
   },
   {
    "duration": 284,
    "start_time": "2022-05-01T12:10:41.567Z"
   },
   {
    "duration": 5,
    "start_time": "2022-05-01T12:10:41.853Z"
   },
   {
    "duration": 5999,
    "start_time": "2022-05-01T12:10:41.860Z"
   },
   {
    "duration": 22,
    "start_time": "2022-05-01T12:10:47.861Z"
   },
   {
    "duration": 710,
    "start_time": "2022-05-01T12:10:47.894Z"
   },
   {
    "duration": 487,
    "start_time": "2022-05-01T12:10:48.606Z"
   },
   {
    "duration": 60,
    "start_time": "2022-05-01T12:10:49.095Z"
   },
   {
    "duration": 50,
    "start_time": "2022-05-01T12:10:49.157Z"
   },
   {
    "duration": 916,
    "start_time": "2022-05-01T12:10:49.210Z"
   },
   {
    "duration": 18,
    "start_time": "2022-05-01T12:10:50.129Z"
   },
   {
    "duration": 1501,
    "start_time": "2022-05-01T12:10:50.152Z"
   },
   {
    "duration": 879,
    "start_time": "2022-05-01T12:10:51.656Z"
   },
   {
    "duration": 27216,
    "start_time": "2022-05-01T12:10:52.537Z"
   },
   {
    "duration": 677,
    "start_time": "2022-05-01T12:11:55.945Z"
   },
   {
    "duration": 68795,
    "start_time": "2022-05-01T12:12:27.300Z"
   },
   {
    "duration": 23325,
    "start_time": "2022-05-01T12:13:36.097Z"
   },
   {
    "duration": 15,
    "start_time": "2022-05-01T12:13:59.424Z"
   },
   {
    "duration": 222364,
    "start_time": "2022-05-01T12:14:32.198Z"
   },
   {
    "duration": 8156,
    "start_time": "2022-05-01T12:18:14.566Z"
   },
   {
    "duration": 68375,
    "start_time": "2022-05-01T12:20:00.496Z"
   },
   {
    "duration": 34002,
    "start_time": "2022-05-01T12:21:08.894Z"
   },
   {
    "duration": 20012,
    "start_time": "2022-05-01T12:22:45.304Z"
   },
   {
    "duration": 14,
    "start_time": "2022-05-01T12:23:13.031Z"
   },
   {
    "duration": 212,
    "start_time": "2022-05-01T12:24:05.314Z"
   },
   {
    "duration": 15,
    "start_time": "2022-05-01T12:24:49.634Z"
   },
   {
    "duration": 17,
    "start_time": "2022-05-01T12:25:54.021Z"
   },
   {
    "duration": 68730,
    "start_time": "2022-05-01T12:25:59.972Z"
   },
   {
    "duration": 22697,
    "start_time": "2022-05-01T12:28:23.550Z"
   },
   {
    "duration": 2198,
    "start_time": "2022-05-01T12:36:07.603Z"
   },
   {
    "duration": 1051,
    "start_time": "2022-05-01T12:36:09.803Z"
   },
   {
    "duration": 172,
    "start_time": "2022-05-01T12:36:10.857Z"
   },
   {
    "duration": 121,
    "start_time": "2022-05-01T12:36:11.033Z"
   },
   {
    "duration": 1020,
    "start_time": "2022-05-01T12:36:11.157Z"
   },
   {
    "duration": 225,
    "start_time": "2022-05-01T12:36:12.179Z"
   },
   {
    "duration": 636,
    "start_time": "2022-05-01T12:36:12.406Z"
   },
   {
    "duration": 669,
    "start_time": "2022-05-01T12:36:13.045Z"
   },
   {
    "duration": 278,
    "start_time": "2022-05-01T12:36:13.717Z"
   },
   {
    "duration": 22,
    "start_time": "2022-05-01T12:36:14.000Z"
   },
   {
    "duration": 610,
    "start_time": "2022-05-01T12:36:14.025Z"
   },
   {
    "duration": 13,
    "start_time": "2022-05-01T12:36:14.638Z"
   },
   {
    "duration": 5165,
    "start_time": "2022-05-01T12:36:14.654Z"
   },
   {
    "duration": 719,
    "start_time": "2022-05-01T12:36:19.821Z"
   },
   {
    "duration": 503,
    "start_time": "2022-05-01T12:36:20.543Z"
   },
   {
    "duration": 86,
    "start_time": "2022-05-01T12:36:21.049Z"
   },
   {
    "duration": 7,
    "start_time": "2022-05-01T12:36:21.137Z"
   },
   {
    "duration": 286,
    "start_time": "2022-05-01T12:36:21.147Z"
   },
   {
    "duration": 6,
    "start_time": "2022-05-01T12:36:21.436Z"
   },
   {
    "duration": 6016,
    "start_time": "2022-05-01T12:36:21.444Z"
   },
   {
    "duration": 31,
    "start_time": "2022-05-01T12:36:27.462Z"
   },
   {
    "duration": 700,
    "start_time": "2022-05-01T12:36:27.495Z"
   },
   {
    "duration": 512,
    "start_time": "2022-05-01T12:36:28.198Z"
   },
   {
    "duration": 54,
    "start_time": "2022-05-01T12:36:28.712Z"
   },
   {
    "duration": 51,
    "start_time": "2022-05-01T12:36:28.769Z"
   },
   {
    "duration": 974,
    "start_time": "2022-05-01T12:36:28.822Z"
   },
   {
    "duration": 19,
    "start_time": "2022-05-01T12:36:29.798Z"
   },
   {
    "duration": 1620,
    "start_time": "2022-05-01T12:36:29.821Z"
   },
   {
    "duration": 827,
    "start_time": "2022-05-01T12:36:31.443Z"
   },
   {
    "duration": 124825,
    "start_time": "2022-05-01T12:36:32.273Z"
   },
   {
    "duration": 330,
    "start_time": "2022-05-01T12:38:37.102Z"
   },
   {
    "duration": 0,
    "start_time": "2022-05-01T12:38:37.435Z"
   },
   {
    "duration": 0,
    "start_time": "2022-05-01T12:38:37.436Z"
   },
   {
    "duration": 0,
    "start_time": "2022-05-01T12:38:37.437Z"
   },
   {
    "duration": 0,
    "start_time": "2022-05-01T12:38:37.438Z"
   },
   {
    "duration": 0,
    "start_time": "2022-05-01T12:38:37.439Z"
   },
   {
    "duration": 57,
    "start_time": "2022-05-01T12:39:27.086Z"
   },
   {
    "duration": 29955,
    "start_time": "2022-05-01T12:39:34.142Z"
   },
   {
    "duration": 33,
    "start_time": "2022-05-01T12:40:36.433Z"
   },
   {
    "duration": 2191,
    "start_time": "2022-05-01T12:49:59.063Z"
   },
   {
    "duration": 1119,
    "start_time": "2022-05-01T12:50:01.257Z"
   },
   {
    "duration": 178,
    "start_time": "2022-05-01T12:50:02.378Z"
   },
   {
    "duration": 125,
    "start_time": "2022-05-01T12:50:02.560Z"
   },
   {
    "duration": 1065,
    "start_time": "2022-05-01T12:50:02.688Z"
   },
   {
    "duration": 214,
    "start_time": "2022-05-01T12:50:03.755Z"
   },
   {
    "duration": 650,
    "start_time": "2022-05-01T12:50:03.971Z"
   },
   {
    "duration": 677,
    "start_time": "2022-05-01T12:50:04.624Z"
   },
   {
    "duration": 276,
    "start_time": "2022-05-01T12:50:05.303Z"
   },
   {
    "duration": 30,
    "start_time": "2022-05-01T12:50:05.582Z"
   },
   {
    "duration": 640,
    "start_time": "2022-05-01T12:50:05.614Z"
   },
   {
    "duration": 13,
    "start_time": "2022-05-01T12:50:06.257Z"
   },
   {
    "duration": 5319,
    "start_time": "2022-05-01T12:50:06.273Z"
   },
   {
    "duration": 704,
    "start_time": "2022-05-01T12:50:11.594Z"
   },
   {
    "duration": 477,
    "start_time": "2022-05-01T12:50:12.300Z"
   },
   {
    "duration": 75,
    "start_time": "2022-05-01T12:50:12.779Z"
   },
   {
    "duration": 6,
    "start_time": "2022-05-01T12:50:12.856Z"
   },
   {
    "duration": 286,
    "start_time": "2022-05-01T12:50:12.864Z"
   },
   {
    "duration": 5,
    "start_time": "2022-05-01T12:50:13.152Z"
   },
   {
    "duration": 5915,
    "start_time": "2022-05-01T12:50:13.159Z"
   },
   {
    "duration": 27,
    "start_time": "2022-05-01T12:50:19.076Z"
   },
   {
    "duration": 722,
    "start_time": "2022-05-01T12:50:19.105Z"
   },
   {
    "duration": 493,
    "start_time": "2022-05-01T12:50:19.829Z"
   },
   {
    "duration": 57,
    "start_time": "2022-05-01T12:50:20.324Z"
   },
   {
    "duration": 30,
    "start_time": "2022-05-01T12:50:20.393Z"
   },
   {
    "duration": 910,
    "start_time": "2022-05-01T12:50:20.425Z"
   },
   {
    "duration": 18,
    "start_time": "2022-05-01T12:50:21.337Z"
   },
   {
    "duration": 1374,
    "start_time": "2022-05-01T12:50:21.360Z"
   },
   {
    "duration": 825,
    "start_time": "2022-05-01T12:50:22.736Z"
   },
   {
    "duration": 25093,
    "start_time": "2022-05-01T12:50:23.563Z"
   },
   {
    "duration": 544,
    "start_time": "2022-05-01T12:50:48.659Z"
   },
   {
    "duration": 102,
    "start_time": "2022-05-01T12:50:49.205Z"
   },
   {
    "duration": 0,
    "start_time": "2022-05-01T12:50:49.311Z"
   },
   {
    "duration": 0,
    "start_time": "2022-05-01T12:50:49.312Z"
   },
   {
    "duration": 0,
    "start_time": "2022-05-01T12:50:49.314Z"
   },
   {
    "duration": 0,
    "start_time": "2022-05-01T12:50:49.316Z"
   },
   {
    "duration": 2107,
    "start_time": "2022-05-01T12:51:03.958Z"
   },
   {
    "duration": 1045,
    "start_time": "2022-05-01T12:51:06.068Z"
   },
   {
    "duration": 184,
    "start_time": "2022-05-01T12:51:07.115Z"
   },
   {
    "duration": 125,
    "start_time": "2022-05-01T12:51:07.301Z"
   },
   {
    "duration": 1035,
    "start_time": "2022-05-01T12:51:07.431Z"
   },
   {
    "duration": 232,
    "start_time": "2022-05-01T12:51:08.469Z"
   },
   {
    "duration": 641,
    "start_time": "2022-05-01T12:51:08.704Z"
   },
   {
    "duration": 686,
    "start_time": "2022-05-01T12:51:09.347Z"
   },
   {
    "duration": 271,
    "start_time": "2022-05-01T12:51:10.035Z"
   },
   {
    "duration": 20,
    "start_time": "2022-05-01T12:51:10.308Z"
   },
   {
    "duration": 607,
    "start_time": "2022-05-01T12:51:10.330Z"
   },
   {
    "duration": 13,
    "start_time": "2022-05-01T12:51:10.939Z"
   },
   {
    "duration": 5059,
    "start_time": "2022-05-01T12:51:10.954Z"
   },
   {
    "duration": 715,
    "start_time": "2022-05-01T12:51:16.017Z"
   },
   {
    "duration": 481,
    "start_time": "2022-05-01T12:51:16.735Z"
   },
   {
    "duration": 79,
    "start_time": "2022-05-01T12:51:17.218Z"
   },
   {
    "duration": 6,
    "start_time": "2022-05-01T12:51:17.300Z"
   },
   {
    "duration": 287,
    "start_time": "2022-05-01T12:51:17.309Z"
   },
   {
    "duration": 5,
    "start_time": "2022-05-01T12:51:17.598Z"
   },
   {
    "duration": 6251,
    "start_time": "2022-05-01T12:51:17.605Z"
   },
   {
    "duration": 22,
    "start_time": "2022-05-01T12:51:23.858Z"
   },
   {
    "duration": 602,
    "start_time": "2022-05-01T12:51:23.893Z"
   },
   {
    "duration": 504,
    "start_time": "2022-05-01T12:51:24.497Z"
   },
   {
    "duration": 57,
    "start_time": "2022-05-01T12:51:25.003Z"
   },
   {
    "duration": 53,
    "start_time": "2022-05-01T12:51:25.063Z"
   },
   {
    "duration": 895,
    "start_time": "2022-05-01T12:51:25.119Z"
   },
   {
    "duration": 19,
    "start_time": "2022-05-01T12:51:26.016Z"
   },
   {
    "duration": 1278,
    "start_time": "2022-05-01T12:51:26.038Z"
   },
   {
    "duration": 813,
    "start_time": "2022-05-01T12:51:27.318Z"
   },
   {
    "duration": 133363,
    "start_time": "2022-05-01T12:51:28.133Z"
   },
   {
    "duration": 765,
    "start_time": "2022-05-01T12:53:41.499Z"
   },
   {
    "duration": 95,
    "start_time": "2022-05-01T12:53:42.266Z"
   },
   {
    "duration": 0,
    "start_time": "2022-05-01T12:53:42.364Z"
   },
   {
    "duration": 0,
    "start_time": "2022-05-01T12:53:42.366Z"
   },
   {
    "duration": 0,
    "start_time": "2022-05-01T12:53:42.368Z"
   },
   {
    "duration": 0,
    "start_time": "2022-05-01T12:53:42.369Z"
   },
   {
    "duration": 680,
    "start_time": "2022-05-01T12:54:48.646Z"
   },
   {
    "duration": 728328,
    "start_time": "2022-05-01T12:55:32.173Z"
   },
   {
    "duration": 194,
    "start_time": "2022-05-01T13:07:40.503Z"
   },
   {
    "duration": 14447,
    "start_time": "2022-05-01T13:07:56.180Z"
   },
   {
    "duration": 31104,
    "start_time": "2022-05-01T13:08:17.491Z"
   },
   {
    "duration": 45568,
    "start_time": "2022-05-01T13:09:02.877Z"
   },
   {
    "duration": 32446,
    "start_time": "2022-05-01T13:09:51.272Z"
   },
   {
    "duration": 21574,
    "start_time": "2022-05-01T13:10:44.139Z"
   },
   {
    "duration": 13,
    "start_time": "2022-05-01T13:13:11.714Z"
   },
   {
    "duration": 64373,
    "start_time": "2022-05-01T13:18:43.937Z"
   },
   {
    "duration": 17,
    "start_time": "2022-05-01T13:20:23.410Z"
   },
   {
    "duration": 16,
    "start_time": "2022-05-01T13:21:25.836Z"
   },
   {
    "duration": 15,
    "start_time": "2022-05-01T13:21:57.117Z"
   },
   {
    "duration": 16,
    "start_time": "2022-05-01T13:22:30.869Z"
   },
   {
    "duration": 15,
    "start_time": "2022-05-01T13:23:49.695Z"
   },
   {
    "duration": 2069,
    "start_time": "2022-05-01T13:32:09.290Z"
   },
   {
    "duration": 1132,
    "start_time": "2022-05-01T13:32:11.362Z"
   },
   {
    "duration": 174,
    "start_time": "2022-05-01T13:32:12.496Z"
   },
   {
    "duration": 123,
    "start_time": "2022-05-01T13:32:12.673Z"
   },
   {
    "duration": 1081,
    "start_time": "2022-05-01T13:32:12.799Z"
   },
   {
    "duration": 242,
    "start_time": "2022-05-01T13:32:13.883Z"
   },
   {
    "duration": 678,
    "start_time": "2022-05-01T13:32:14.127Z"
   },
   {
    "duration": 698,
    "start_time": "2022-05-01T13:32:14.807Z"
   },
   {
    "duration": 281,
    "start_time": "2022-05-01T13:32:15.508Z"
   },
   {
    "duration": 19,
    "start_time": "2022-05-01T13:32:15.795Z"
   },
   {
    "duration": 639,
    "start_time": "2022-05-01T13:32:15.816Z"
   },
   {
    "duration": 12,
    "start_time": "2022-05-01T13:32:16.457Z"
   },
   {
    "duration": 5292,
    "start_time": "2022-05-01T13:32:16.471Z"
   },
   {
    "duration": 756,
    "start_time": "2022-05-01T13:32:21.765Z"
   },
   {
    "duration": 512,
    "start_time": "2022-05-01T13:32:22.523Z"
   },
   {
    "duration": 90,
    "start_time": "2022-05-01T13:32:23.037Z"
   },
   {
    "duration": 6,
    "start_time": "2022-05-01T13:32:23.129Z"
   },
   {
    "duration": 291,
    "start_time": "2022-05-01T13:32:23.137Z"
   },
   {
    "duration": 5,
    "start_time": "2022-05-01T13:32:23.430Z"
   },
   {
    "duration": 5938,
    "start_time": "2022-05-01T13:32:23.438Z"
   },
   {
    "duration": 27,
    "start_time": "2022-05-01T13:32:29.378Z"
   },
   {
    "duration": 615,
    "start_time": "2022-05-01T13:32:29.407Z"
   },
   {
    "duration": 501,
    "start_time": "2022-05-01T13:32:30.024Z"
   },
   {
    "duration": 70,
    "start_time": "2022-05-01T13:32:30.528Z"
   },
   {
    "duration": 76,
    "start_time": "2022-05-01T13:32:30.601Z"
   },
   {
    "duration": 948,
    "start_time": "2022-05-01T13:32:30.679Z"
   },
   {
    "duration": 20,
    "start_time": "2022-05-01T13:32:31.630Z"
   },
   {
    "duration": 1409,
    "start_time": "2022-05-01T13:32:31.657Z"
   },
   {
    "duration": 825,
    "start_time": "2022-05-01T13:32:33.068Z"
   },
   {
    "duration": 134799,
    "start_time": "2022-05-01T13:32:33.895Z"
   },
   {
    "duration": 2031,
    "start_time": "2022-05-01T20:58:11.485Z"
   },
   {
    "duration": 1008,
    "start_time": "2022-05-01T20:58:13.519Z"
   },
   {
    "duration": 174,
    "start_time": "2022-05-01T20:58:14.529Z"
   },
   {
    "duration": 128,
    "start_time": "2022-05-01T20:58:14.706Z"
   },
   {
    "duration": 1011,
    "start_time": "2022-05-01T20:58:14.839Z"
   },
   {
    "duration": 207,
    "start_time": "2022-05-01T20:58:15.852Z"
   },
   {
    "duration": 621,
    "start_time": "2022-05-01T20:58:16.062Z"
   },
   {
    "duration": 654,
    "start_time": "2022-05-01T20:58:16.685Z"
   },
   {
    "duration": 269,
    "start_time": "2022-05-01T20:58:17.342Z"
   },
   {
    "duration": 19,
    "start_time": "2022-05-01T20:58:17.613Z"
   },
   {
    "duration": 590,
    "start_time": "2022-05-01T20:58:17.634Z"
   },
   {
    "duration": 12,
    "start_time": "2022-05-01T20:58:18.227Z"
   },
   {
    "duration": 5136,
    "start_time": "2022-05-01T20:58:18.241Z"
   },
   {
    "duration": 698,
    "start_time": "2022-05-01T20:58:23.381Z"
   },
   {
    "duration": 676,
    "start_time": "2022-05-01T20:58:24.081Z"
   },
   {
    "duration": 78,
    "start_time": "2022-05-01T20:58:24.759Z"
   },
   {
    "duration": 6,
    "start_time": "2022-05-01T20:58:24.839Z"
   },
   {
    "duration": 281,
    "start_time": "2022-05-01T20:58:24.847Z"
   },
   {
    "duration": 4,
    "start_time": "2022-05-01T20:58:25.130Z"
   },
   {
    "duration": 5909,
    "start_time": "2022-05-01T20:58:25.136Z"
   },
   {
    "duration": 22,
    "start_time": "2022-05-01T20:58:31.047Z"
   },
   {
    "duration": 633,
    "start_time": "2022-05-01T20:58:31.071Z"
   },
   {
    "duration": 517,
    "start_time": "2022-05-01T20:58:31.707Z"
   },
   {
    "duration": 73,
    "start_time": "2022-05-01T20:58:32.226Z"
   },
   {
    "duration": 37,
    "start_time": "2022-05-01T20:58:32.302Z"
   },
   {
    "duration": 915,
    "start_time": "2022-05-01T20:58:32.342Z"
   },
   {
    "duration": 17,
    "start_time": "2022-05-01T20:58:33.259Z"
   },
   {
    "duration": 1566,
    "start_time": "2022-05-01T20:58:33.278Z"
   },
   {
    "duration": 899,
    "start_time": "2022-05-01T20:58:34.847Z"
   },
   {
    "duration": 62014,
    "start_time": "2022-05-01T20:59:47.699Z"
   },
   {
    "duration": 11784,
    "start_time": "2022-05-01T21:01:06.950Z"
   },
   {
    "duration": 56133,
    "start_time": "2022-05-01T21:01:36.829Z"
   },
   {
    "duration": 11843,
    "start_time": "2022-05-01T21:02:32.964Z"
   },
   {
    "duration": 5799,
    "start_time": "2022-05-01T21:03:00.802Z"
   },
   {
    "duration": 34261,
    "start_time": "2022-05-01T21:03:18.918Z"
   },
   {
    "duration": 112,
    "start_time": "2022-05-01T21:04:21.079Z"
   },
   {
    "duration": 515467,
    "start_time": "2022-05-01T21:04:29.849Z"
   },
   {
    "duration": 30641,
    "start_time": "2022-05-01T21:13:13.360Z"
   },
   {
    "duration": 614232,
    "start_time": "2022-05-01T21:13:44.096Z"
   },
   {
    "duration": 21284,
    "start_time": "2022-05-01T21:23:58.330Z"
   },
   {
    "duration": 75,
    "start_time": "2022-05-01T21:24:19.618Z"
   }
  ],
  "kernelspec": {
   "display_name": "Python 3 (ipykernel)",
   "language": "python",
   "name": "python3"
  },
  "language_info": {
   "codemirror_mode": {
    "name": "ipython",
    "version": 3
   },
   "file_extension": ".py",
   "mimetype": "text/x-python",
   "name": "python",
   "nbconvert_exporter": "python",
   "pygments_lexer": "ipython3",
   "version": "3.9.5"
  },
  "toc": {
   "base_numbering": 1,
   "nav_menu": {},
   "number_sections": true,
   "sideBar": true,
   "skip_h1_title": true,
   "title_cell": "Table of Contents",
   "title_sidebar": "Contents",
   "toc_cell": false,
   "toc_position": {},
   "toc_section_display": true,
   "toc_window_display": false
  }
 },
 "nbformat": 4,
 "nbformat_minor": 2
}
