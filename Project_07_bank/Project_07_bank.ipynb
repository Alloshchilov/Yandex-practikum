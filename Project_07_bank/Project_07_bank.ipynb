{
 "cells": [
  {
   "cell_type": "markdown",
   "metadata": {
    "toc": true
   },
   "source": [
    "<h1>Содержание<span class=\"tocSkip\"></span></h1>\n",
    "<div class=\"toc\"><ul class=\"toc-item\"><li><span><a href=\"#Подготовка-данных\" data-toc-modified-id=\"Подготовка-данных-1\"><span class=\"toc-item-num\">1&nbsp;&nbsp;</span>Подготовка данных</a></span></li><li><span><a href=\"#Исследование-задачи\" data-toc-modified-id=\"Исследование-задачи-2\"><span class=\"toc-item-num\">2&nbsp;&nbsp;</span>Исследование задачи</a></span></li><li><span><a href=\"#Борьба-с-дисбалансом\" data-toc-modified-id=\"Борьба-с-дисбалансом-3\"><span class=\"toc-item-num\">3&nbsp;&nbsp;</span>Борьба с дисбалансом</a></span></li><li><span><a href=\"#Тестирование-модели\" data-toc-modified-id=\"Тестирование-модели-4\"><span class=\"toc-item-num\">4&nbsp;&nbsp;</span>Тестирование модели</a></span></li><li><span><a href=\"#Чек-лист-готовности-проекта\" data-toc-modified-id=\"Чек-лист-готовности-проекта-5\"><span class=\"toc-item-num\">5&nbsp;&nbsp;</span>Чек-лист готовности проекта</a></span></li></ul></div>"
   ]
  },
  {
   "cell_type": "markdown",
   "metadata": {},
   "source": [
    "# Отток клиентов"
   ]
  },
  {
   "cell_type": "markdown",
   "metadata": {},
   "source": [
    "Из «Бета-Банка» стали уходить клиенты. Каждый месяц. Немного, но заметно. Банковские маркетологи посчитали: сохранять текущих клиентов дешевле, чем привлекать новых.\n",
    "\n",
    "Нужно спрогнозировать, уйдёт клиент из банка в ближайшее время или нет. Вам предоставлены исторические данные о поведении клиентов и расторжении договоров с банком. \n",
    "\n",
    "Постройте модель с предельно большим значением *F1*-меры. Чтобы сдать проект успешно, нужно довести метрику до 0.59. Проверьте *F1*-меру на тестовой выборке самостоятельно.\n",
    "\n",
    "Дополнительно измеряйте *AUC-ROC*, сравнивайте её значение с *F1*-мерой.\n",
    "\n",
    "Источник данных: [https://www.kaggle.com/barelydedicated/bank-customer-churn-modeling](https://www.kaggle.com/barelydedicated/bank-customer-churn-modeling)"
   ]
  },
  {
   "cell_type": "markdown",
   "metadata": {},
   "source": [
    "## Подготовка данных"
   ]
  },
  {
   "cell_type": "code",
   "execution_count": 104,
   "metadata": {},
   "outputs": [],
   "source": [
    "# Импортируем необходимые библиотеки и метрики\n",
    "import pandas as pd\n",
    "import numpy as np\n",
    "import matplotlib.pyplot as plt\n",
    "from sklearn.metrics import roc_curve\n",
    "from sklearn.model_selection import train_test_split\n",
    "from sklearn.metrics import accuracy_score\n",
    "from sklearn.tree import DecisionTreeClassifier\n",
    "from sklearn.linear_model import LogisticRegression\n",
    "from sklearn.ensemble import RandomForestClassifier\n",
    "from sklearn.dummy import DummyClassifier\n",
    "from sklearn.preprocessing import StandardScaler\n",
    "from sklearn.metrics import f1_score\n",
    "from sklearn.utils import shuffle\n",
    "from sklearn.metrics import precision_score, recall_score, roc_auc_score"
   ]
  },
  {
   "cell_type": "code",
   "execution_count": 105,
   "metadata": {},
   "outputs": [
    {
     "data": {
      "text/html": [
       "<div>\n",
       "<style scoped>\n",
       "    .dataframe tbody tr th:only-of-type {\n",
       "        vertical-align: middle;\n",
       "    }\n",
       "\n",
       "    .dataframe tbody tr th {\n",
       "        vertical-align: top;\n",
       "    }\n",
       "\n",
       "    .dataframe thead th {\n",
       "        text-align: right;\n",
       "    }\n",
       "</style>\n",
       "<table border=\"1\" class=\"dataframe\">\n",
       "  <thead>\n",
       "    <tr style=\"text-align: right;\">\n",
       "      <th></th>\n",
       "      <th>RowNumber</th>\n",
       "      <th>CustomerId</th>\n",
       "      <th>Surname</th>\n",
       "      <th>CreditScore</th>\n",
       "      <th>Geography</th>\n",
       "      <th>Gender</th>\n",
       "      <th>Age</th>\n",
       "      <th>Tenure</th>\n",
       "      <th>Balance</th>\n",
       "      <th>NumOfProducts</th>\n",
       "      <th>HasCrCard</th>\n",
       "      <th>IsActiveMember</th>\n",
       "      <th>EstimatedSalary</th>\n",
       "      <th>Exited</th>\n",
       "    </tr>\n",
       "  </thead>\n",
       "  <tbody>\n",
       "    <tr>\n",
       "      <td>0</td>\n",
       "      <td>1</td>\n",
       "      <td>15634602</td>\n",
       "      <td>Hargrave</td>\n",
       "      <td>619</td>\n",
       "      <td>France</td>\n",
       "      <td>Female</td>\n",
       "      <td>42</td>\n",
       "      <td>2.0</td>\n",
       "      <td>0.00</td>\n",
       "      <td>1</td>\n",
       "      <td>1</td>\n",
       "      <td>1</td>\n",
       "      <td>101348.88</td>\n",
       "      <td>1</td>\n",
       "    </tr>\n",
       "    <tr>\n",
       "      <td>1</td>\n",
       "      <td>2</td>\n",
       "      <td>15647311</td>\n",
       "      <td>Hill</td>\n",
       "      <td>608</td>\n",
       "      <td>Spain</td>\n",
       "      <td>Female</td>\n",
       "      <td>41</td>\n",
       "      <td>1.0</td>\n",
       "      <td>83807.86</td>\n",
       "      <td>1</td>\n",
       "      <td>0</td>\n",
       "      <td>1</td>\n",
       "      <td>112542.58</td>\n",
       "      <td>0</td>\n",
       "    </tr>\n",
       "    <tr>\n",
       "      <td>2</td>\n",
       "      <td>3</td>\n",
       "      <td>15619304</td>\n",
       "      <td>Onio</td>\n",
       "      <td>502</td>\n",
       "      <td>France</td>\n",
       "      <td>Female</td>\n",
       "      <td>42</td>\n",
       "      <td>8.0</td>\n",
       "      <td>159660.80</td>\n",
       "      <td>3</td>\n",
       "      <td>1</td>\n",
       "      <td>0</td>\n",
       "      <td>113931.57</td>\n",
       "      <td>1</td>\n",
       "    </tr>\n",
       "    <tr>\n",
       "      <td>3</td>\n",
       "      <td>4</td>\n",
       "      <td>15701354</td>\n",
       "      <td>Boni</td>\n",
       "      <td>699</td>\n",
       "      <td>France</td>\n",
       "      <td>Female</td>\n",
       "      <td>39</td>\n",
       "      <td>1.0</td>\n",
       "      <td>0.00</td>\n",
       "      <td>2</td>\n",
       "      <td>0</td>\n",
       "      <td>0</td>\n",
       "      <td>93826.63</td>\n",
       "      <td>0</td>\n",
       "    </tr>\n",
       "    <tr>\n",
       "      <td>4</td>\n",
       "      <td>5</td>\n",
       "      <td>15737888</td>\n",
       "      <td>Mitchell</td>\n",
       "      <td>850</td>\n",
       "      <td>Spain</td>\n",
       "      <td>Female</td>\n",
       "      <td>43</td>\n",
       "      <td>2.0</td>\n",
       "      <td>125510.82</td>\n",
       "      <td>1</td>\n",
       "      <td>1</td>\n",
       "      <td>1</td>\n",
       "      <td>79084.10</td>\n",
       "      <td>0</td>\n",
       "    </tr>\n",
       "    <tr>\n",
       "      <td>5</td>\n",
       "      <td>6</td>\n",
       "      <td>15574012</td>\n",
       "      <td>Chu</td>\n",
       "      <td>645</td>\n",
       "      <td>Spain</td>\n",
       "      <td>Male</td>\n",
       "      <td>44</td>\n",
       "      <td>8.0</td>\n",
       "      <td>113755.78</td>\n",
       "      <td>2</td>\n",
       "      <td>1</td>\n",
       "      <td>0</td>\n",
       "      <td>149756.71</td>\n",
       "      <td>1</td>\n",
       "    </tr>\n",
       "    <tr>\n",
       "      <td>6</td>\n",
       "      <td>7</td>\n",
       "      <td>15592531</td>\n",
       "      <td>Bartlett</td>\n",
       "      <td>822</td>\n",
       "      <td>France</td>\n",
       "      <td>Male</td>\n",
       "      <td>50</td>\n",
       "      <td>7.0</td>\n",
       "      <td>0.00</td>\n",
       "      <td>2</td>\n",
       "      <td>1</td>\n",
       "      <td>1</td>\n",
       "      <td>10062.80</td>\n",
       "      <td>0</td>\n",
       "    </tr>\n",
       "    <tr>\n",
       "      <td>7</td>\n",
       "      <td>8</td>\n",
       "      <td>15656148</td>\n",
       "      <td>Obinna</td>\n",
       "      <td>376</td>\n",
       "      <td>Germany</td>\n",
       "      <td>Female</td>\n",
       "      <td>29</td>\n",
       "      <td>4.0</td>\n",
       "      <td>115046.74</td>\n",
       "      <td>4</td>\n",
       "      <td>1</td>\n",
       "      <td>0</td>\n",
       "      <td>119346.88</td>\n",
       "      <td>1</td>\n",
       "    </tr>\n",
       "    <tr>\n",
       "      <td>8</td>\n",
       "      <td>9</td>\n",
       "      <td>15792365</td>\n",
       "      <td>He</td>\n",
       "      <td>501</td>\n",
       "      <td>France</td>\n",
       "      <td>Male</td>\n",
       "      <td>44</td>\n",
       "      <td>4.0</td>\n",
       "      <td>142051.07</td>\n",
       "      <td>2</td>\n",
       "      <td>0</td>\n",
       "      <td>1</td>\n",
       "      <td>74940.50</td>\n",
       "      <td>0</td>\n",
       "    </tr>\n",
       "    <tr>\n",
       "      <td>9</td>\n",
       "      <td>10</td>\n",
       "      <td>15592389</td>\n",
       "      <td>H?</td>\n",
       "      <td>684</td>\n",
       "      <td>France</td>\n",
       "      <td>Male</td>\n",
       "      <td>27</td>\n",
       "      <td>2.0</td>\n",
       "      <td>134603.88</td>\n",
       "      <td>1</td>\n",
       "      <td>1</td>\n",
       "      <td>1</td>\n",
       "      <td>71725.73</td>\n",
       "      <td>0</td>\n",
       "    </tr>\n",
       "  </tbody>\n",
       "</table>\n",
       "</div>"
      ],
      "text/plain": [
       "   RowNumber  CustomerId   Surname  CreditScore Geography  Gender  Age  \\\n",
       "0          1    15634602  Hargrave          619    France  Female   42   \n",
       "1          2    15647311      Hill          608     Spain  Female   41   \n",
       "2          3    15619304      Onio          502    France  Female   42   \n",
       "3          4    15701354      Boni          699    France  Female   39   \n",
       "4          5    15737888  Mitchell          850     Spain  Female   43   \n",
       "5          6    15574012       Chu          645     Spain    Male   44   \n",
       "6          7    15592531  Bartlett          822    France    Male   50   \n",
       "7          8    15656148    Obinna          376   Germany  Female   29   \n",
       "8          9    15792365        He          501    France    Male   44   \n",
       "9         10    15592389        H?          684    France    Male   27   \n",
       "\n",
       "   Tenure    Balance  NumOfProducts  HasCrCard  IsActiveMember  \\\n",
       "0     2.0       0.00              1          1               1   \n",
       "1     1.0   83807.86              1          0               1   \n",
       "2     8.0  159660.80              3          1               0   \n",
       "3     1.0       0.00              2          0               0   \n",
       "4     2.0  125510.82              1          1               1   \n",
       "5     8.0  113755.78              2          1               0   \n",
       "6     7.0       0.00              2          1               1   \n",
       "7     4.0  115046.74              4          1               0   \n",
       "8     4.0  142051.07              2          0               1   \n",
       "9     2.0  134603.88              1          1               1   \n",
       "\n",
       "   EstimatedSalary  Exited  \n",
       "0        101348.88       1  \n",
       "1        112542.58       0  \n",
       "2        113931.57       1  \n",
       "3         93826.63       0  \n",
       "4         79084.10       0  \n",
       "5        149756.71       1  \n",
       "6         10062.80       0  \n",
       "7        119346.88       1  \n",
       "8         74940.50       0  \n",
       "9         71725.73       0  "
      ]
     },
     "execution_count": 105,
     "metadata": {},
     "output_type": "execute_result"
    }
   ],
   "source": [
    "#импортируем данные\n",
    "try:\n",
    "    df = pd.read_csv('/datasets/Churn.csv')\n",
    "except:\n",
    "    print('Ошибка. Проверьте правильность пути к данным')\n",
    "df.head(10)"
   ]
  },
  {
   "cell_type": "code",
   "execution_count": 106,
   "metadata": {},
   "outputs": [
    {
     "name": "stdout",
     "output_type": "stream",
     "text": [
      "<class 'pandas.core.frame.DataFrame'>\n",
      "RangeIndex: 10000 entries, 0 to 9999\n",
      "Data columns (total 14 columns):\n",
      "RowNumber          10000 non-null int64\n",
      "CustomerId         10000 non-null int64\n",
      "Surname            10000 non-null object\n",
      "CreditScore        10000 non-null int64\n",
      "Geography          10000 non-null object\n",
      "Gender             10000 non-null object\n",
      "Age                10000 non-null int64\n",
      "Tenure             9091 non-null float64\n",
      "Balance            10000 non-null float64\n",
      "NumOfProducts      10000 non-null int64\n",
      "HasCrCard          10000 non-null int64\n",
      "IsActiveMember     10000 non-null int64\n",
      "EstimatedSalary    10000 non-null float64\n",
      "Exited             10000 non-null int64\n",
      "dtypes: float64(3), int64(8), object(3)\n",
      "memory usage: 1.1+ MB\n"
     ]
    }
   ],
   "source": [
    "df.info()"
   ]
  },
  {
   "cell_type": "code",
   "execution_count": 107,
   "metadata": {},
   "outputs": [
    {
     "data": {
      "text/html": [
       "<style  type=\"text/css\" >\n",
       "    #T_b1abdf4e_9c85_11ec_8f81_02420a390821row0_col0 {\n",
       "            background-color:  #3b4cc0;\n",
       "            color:  #f1f1f1;\n",
       "        }    #T_b1abdf4e_9c85_11ec_8f81_02420a390821row1_col0 {\n",
       "            background-color:  #3b4cc0;\n",
       "            color:  #f1f1f1;\n",
       "        }    #T_b1abdf4e_9c85_11ec_8f81_02420a390821row2_col0 {\n",
       "            background-color:  #3b4cc0;\n",
       "            color:  #f1f1f1;\n",
       "        }    #T_b1abdf4e_9c85_11ec_8f81_02420a390821row3_col0 {\n",
       "            background-color:  #3b4cc0;\n",
       "            color:  #f1f1f1;\n",
       "        }    #T_b1abdf4e_9c85_11ec_8f81_02420a390821row4_col0 {\n",
       "            background-color:  #3b4cc0;\n",
       "            color:  #f1f1f1;\n",
       "        }    #T_b1abdf4e_9c85_11ec_8f81_02420a390821row5_col0 {\n",
       "            background-color:  #3b4cc0;\n",
       "            color:  #f1f1f1;\n",
       "        }    #T_b1abdf4e_9c85_11ec_8f81_02420a390821row6_col0 {\n",
       "            background-color:  #3b4cc0;\n",
       "            color:  #f1f1f1;\n",
       "        }    #T_b1abdf4e_9c85_11ec_8f81_02420a390821row7_col0 {\n",
       "            background-color:  #b40426;\n",
       "            color:  #f1f1f1;\n",
       "        }    #T_b1abdf4e_9c85_11ec_8f81_02420a390821row8_col0 {\n",
       "            background-color:  #3b4cc0;\n",
       "            color:  #f1f1f1;\n",
       "        }    #T_b1abdf4e_9c85_11ec_8f81_02420a390821row9_col0 {\n",
       "            background-color:  #3b4cc0;\n",
       "            color:  #f1f1f1;\n",
       "        }    #T_b1abdf4e_9c85_11ec_8f81_02420a390821row10_col0 {\n",
       "            background-color:  #3b4cc0;\n",
       "            color:  #f1f1f1;\n",
       "        }    #T_b1abdf4e_9c85_11ec_8f81_02420a390821row11_col0 {\n",
       "            background-color:  #3b4cc0;\n",
       "            color:  #f1f1f1;\n",
       "        }    #T_b1abdf4e_9c85_11ec_8f81_02420a390821row12_col0 {\n",
       "            background-color:  #3b4cc0;\n",
       "            color:  #f1f1f1;\n",
       "        }    #T_b1abdf4e_9c85_11ec_8f81_02420a390821row13_col0 {\n",
       "            background-color:  #3b4cc0;\n",
       "            color:  #f1f1f1;\n",
       "        }</style><table id=\"T_b1abdf4e_9c85_11ec_8f81_02420a390821\" ><thead>    <tr>        <th class=\"blank level0\" ></th>        <th class=\"col_heading level0 col0\" >0</th>    </tr></thead><tbody>\n",
       "                <tr>\n",
       "                        <th id=\"T_b1abdf4e_9c85_11ec_8f81_02420a390821level0_row0\" class=\"row_heading level0 row0\" >RowNumber</th>\n",
       "                        <td id=\"T_b1abdf4e_9c85_11ec_8f81_02420a390821row0_col0\" class=\"data row0 col0\" >0</td>\n",
       "            </tr>\n",
       "            <tr>\n",
       "                        <th id=\"T_b1abdf4e_9c85_11ec_8f81_02420a390821level0_row1\" class=\"row_heading level0 row1\" >CustomerId</th>\n",
       "                        <td id=\"T_b1abdf4e_9c85_11ec_8f81_02420a390821row1_col0\" class=\"data row1 col0\" >0</td>\n",
       "            </tr>\n",
       "            <tr>\n",
       "                        <th id=\"T_b1abdf4e_9c85_11ec_8f81_02420a390821level0_row2\" class=\"row_heading level0 row2\" >Surname</th>\n",
       "                        <td id=\"T_b1abdf4e_9c85_11ec_8f81_02420a390821row2_col0\" class=\"data row2 col0\" >0</td>\n",
       "            </tr>\n",
       "            <tr>\n",
       "                        <th id=\"T_b1abdf4e_9c85_11ec_8f81_02420a390821level0_row3\" class=\"row_heading level0 row3\" >CreditScore</th>\n",
       "                        <td id=\"T_b1abdf4e_9c85_11ec_8f81_02420a390821row3_col0\" class=\"data row3 col0\" >0</td>\n",
       "            </tr>\n",
       "            <tr>\n",
       "                        <th id=\"T_b1abdf4e_9c85_11ec_8f81_02420a390821level0_row4\" class=\"row_heading level0 row4\" >Geography</th>\n",
       "                        <td id=\"T_b1abdf4e_9c85_11ec_8f81_02420a390821row4_col0\" class=\"data row4 col0\" >0</td>\n",
       "            </tr>\n",
       "            <tr>\n",
       "                        <th id=\"T_b1abdf4e_9c85_11ec_8f81_02420a390821level0_row5\" class=\"row_heading level0 row5\" >Gender</th>\n",
       "                        <td id=\"T_b1abdf4e_9c85_11ec_8f81_02420a390821row5_col0\" class=\"data row5 col0\" >0</td>\n",
       "            </tr>\n",
       "            <tr>\n",
       "                        <th id=\"T_b1abdf4e_9c85_11ec_8f81_02420a390821level0_row6\" class=\"row_heading level0 row6\" >Age</th>\n",
       "                        <td id=\"T_b1abdf4e_9c85_11ec_8f81_02420a390821row6_col0\" class=\"data row6 col0\" >0</td>\n",
       "            </tr>\n",
       "            <tr>\n",
       "                        <th id=\"T_b1abdf4e_9c85_11ec_8f81_02420a390821level0_row7\" class=\"row_heading level0 row7\" >Tenure</th>\n",
       "                        <td id=\"T_b1abdf4e_9c85_11ec_8f81_02420a390821row7_col0\" class=\"data row7 col0\" >9.09</td>\n",
       "            </tr>\n",
       "            <tr>\n",
       "                        <th id=\"T_b1abdf4e_9c85_11ec_8f81_02420a390821level0_row8\" class=\"row_heading level0 row8\" >Balance</th>\n",
       "                        <td id=\"T_b1abdf4e_9c85_11ec_8f81_02420a390821row8_col0\" class=\"data row8 col0\" >0</td>\n",
       "            </tr>\n",
       "            <tr>\n",
       "                        <th id=\"T_b1abdf4e_9c85_11ec_8f81_02420a390821level0_row9\" class=\"row_heading level0 row9\" >NumOfProducts</th>\n",
       "                        <td id=\"T_b1abdf4e_9c85_11ec_8f81_02420a390821row9_col0\" class=\"data row9 col0\" >0</td>\n",
       "            </tr>\n",
       "            <tr>\n",
       "                        <th id=\"T_b1abdf4e_9c85_11ec_8f81_02420a390821level0_row10\" class=\"row_heading level0 row10\" >HasCrCard</th>\n",
       "                        <td id=\"T_b1abdf4e_9c85_11ec_8f81_02420a390821row10_col0\" class=\"data row10 col0\" >0</td>\n",
       "            </tr>\n",
       "            <tr>\n",
       "                        <th id=\"T_b1abdf4e_9c85_11ec_8f81_02420a390821level0_row11\" class=\"row_heading level0 row11\" >IsActiveMember</th>\n",
       "                        <td id=\"T_b1abdf4e_9c85_11ec_8f81_02420a390821row11_col0\" class=\"data row11 col0\" >0</td>\n",
       "            </tr>\n",
       "            <tr>\n",
       "                        <th id=\"T_b1abdf4e_9c85_11ec_8f81_02420a390821level0_row12\" class=\"row_heading level0 row12\" >EstimatedSalary</th>\n",
       "                        <td id=\"T_b1abdf4e_9c85_11ec_8f81_02420a390821row12_col0\" class=\"data row12 col0\" >0</td>\n",
       "            </tr>\n",
       "            <tr>\n",
       "                        <th id=\"T_b1abdf4e_9c85_11ec_8f81_02420a390821level0_row13\" class=\"row_heading level0 row13\" >Exited</th>\n",
       "                        <td id=\"T_b1abdf4e_9c85_11ec_8f81_02420a390821row13_col0\" class=\"data row13 col0\" >0</td>\n",
       "            </tr>\n",
       "    </tbody></table>"
      ],
      "text/plain": [
       "<pandas.io.formats.style.Styler at 0x7fb482c09fd0>"
      ]
     },
     "execution_count": 107,
     "metadata": {},
     "output_type": "execute_result"
    }
   ],
   "source": [
    "#df.isnull().sum()\n",
    "pd.DataFrame(round((df.isna().mean()*100),2)).style.background_gradient('coolwarm')"
   ]
  },
  {
   "cell_type": "markdown",
   "metadata": {},
   "source": [
    "**Вывод:**\n",
    " Есть пропушенные значения в столбце 'Tenure'. Скорее всего это значит, что клиент в банке меньше года.\n",
    "Лишние данные, которые будут мешать моделям: столбцы 'Surname', 'RowNumber', 'CustomerId'."
   ]
  },
  {
   "cell_type": "code",
   "execution_count": 108,
   "metadata": {},
   "outputs": [],
   "source": [
    "#уберем лишние столбцы\n",
    "df = df.drop(['Surname', 'RowNumber', 'CustomerId'], axis=1)"
   ]
  },
  {
   "cell_type": "code",
   "execution_count": 109,
   "metadata": {},
   "outputs": [],
   "source": [
    "def func(val):\n",
    "    if np.isnan(val):\n",
    "        return np.random.uniform(1, 9)\n",
    "    else:\n",
    "        return val\n",
    "\n",
    "df['Tenure'] = df['Tenure'].apply(func).astype('int')"
   ]
  },
  {
   "cell_type": "code",
   "execution_count": 110,
   "metadata": {},
   "outputs": [
    {
     "data": {
      "text/html": [
       "<div>\n",
       "<style scoped>\n",
       "    .dataframe tbody tr th:only-of-type {\n",
       "        vertical-align: middle;\n",
       "    }\n",
       "\n",
       "    .dataframe tbody tr th {\n",
       "        vertical-align: top;\n",
       "    }\n",
       "\n",
       "    .dataframe thead th {\n",
       "        text-align: right;\n",
       "    }\n",
       "</style>\n",
       "<table border=\"1\" class=\"dataframe\">\n",
       "  <thead>\n",
       "    <tr style=\"text-align: right;\">\n",
       "      <th></th>\n",
       "      <th>CreditScore</th>\n",
       "      <th>Age</th>\n",
       "      <th>Tenure</th>\n",
       "      <th>Balance</th>\n",
       "      <th>NumOfProducts</th>\n",
       "      <th>HasCrCard</th>\n",
       "      <th>IsActiveMember</th>\n",
       "      <th>EstimatedSalary</th>\n",
       "      <th>Exited</th>\n",
       "      <th>Geography_Germany</th>\n",
       "      <th>Geography_Spain</th>\n",
       "      <th>Gender_Male</th>\n",
       "    </tr>\n",
       "  </thead>\n",
       "  <tbody>\n",
       "    <tr>\n",
       "      <td>0</td>\n",
       "      <td>619</td>\n",
       "      <td>42</td>\n",
       "      <td>2</td>\n",
       "      <td>0.00</td>\n",
       "      <td>1</td>\n",
       "      <td>1</td>\n",
       "      <td>1</td>\n",
       "      <td>101348.88</td>\n",
       "      <td>1</td>\n",
       "      <td>0</td>\n",
       "      <td>0</td>\n",
       "      <td>0</td>\n",
       "    </tr>\n",
       "    <tr>\n",
       "      <td>1</td>\n",
       "      <td>608</td>\n",
       "      <td>41</td>\n",
       "      <td>1</td>\n",
       "      <td>83807.86</td>\n",
       "      <td>1</td>\n",
       "      <td>0</td>\n",
       "      <td>1</td>\n",
       "      <td>112542.58</td>\n",
       "      <td>0</td>\n",
       "      <td>0</td>\n",
       "      <td>1</td>\n",
       "      <td>0</td>\n",
       "    </tr>\n",
       "    <tr>\n",
       "      <td>2</td>\n",
       "      <td>502</td>\n",
       "      <td>42</td>\n",
       "      <td>8</td>\n",
       "      <td>159660.80</td>\n",
       "      <td>3</td>\n",
       "      <td>1</td>\n",
       "      <td>0</td>\n",
       "      <td>113931.57</td>\n",
       "      <td>1</td>\n",
       "      <td>0</td>\n",
       "      <td>0</td>\n",
       "      <td>0</td>\n",
       "    </tr>\n",
       "    <tr>\n",
       "      <td>3</td>\n",
       "      <td>699</td>\n",
       "      <td>39</td>\n",
       "      <td>1</td>\n",
       "      <td>0.00</td>\n",
       "      <td>2</td>\n",
       "      <td>0</td>\n",
       "      <td>0</td>\n",
       "      <td>93826.63</td>\n",
       "      <td>0</td>\n",
       "      <td>0</td>\n",
       "      <td>0</td>\n",
       "      <td>0</td>\n",
       "    </tr>\n",
       "    <tr>\n",
       "      <td>4</td>\n",
       "      <td>850</td>\n",
       "      <td>43</td>\n",
       "      <td>2</td>\n",
       "      <td>125510.82</td>\n",
       "      <td>1</td>\n",
       "      <td>1</td>\n",
       "      <td>1</td>\n",
       "      <td>79084.10</td>\n",
       "      <td>0</td>\n",
       "      <td>0</td>\n",
       "      <td>1</td>\n",
       "      <td>0</td>\n",
       "    </tr>\n",
       "  </tbody>\n",
       "</table>\n",
       "</div>"
      ],
      "text/plain": [
       "   CreditScore  Age  Tenure    Balance  NumOfProducts  HasCrCard  \\\n",
       "0          619   42       2       0.00              1          1   \n",
       "1          608   41       1   83807.86              1          0   \n",
       "2          502   42       8  159660.80              3          1   \n",
       "3          699   39       1       0.00              2          0   \n",
       "4          850   43       2  125510.82              1          1   \n",
       "\n",
       "   IsActiveMember  EstimatedSalary  Exited  Geography_Germany  \\\n",
       "0               1        101348.88       1                  0   \n",
       "1               1        112542.58       0                  0   \n",
       "2               0        113931.57       1                  0   \n",
       "3               0         93826.63       0                  0   \n",
       "4               1         79084.10       0                  0   \n",
       "\n",
       "   Geography_Spain  Gender_Male  \n",
       "0                0            0  \n",
       "1                1            0  \n",
       "2                0            0  \n",
       "3                0            0  \n",
       "4                1            0  "
      ]
     },
     "execution_count": 110,
     "metadata": {},
     "output_type": "execute_result"
    }
   ],
   "source": [
    "#C помощью прямого кодирования, преобразуем категориальные признаки в численные.\n",
    "df_ohe = pd.get_dummies(df, drop_first=True)\n",
    "df_ohe.head(5)"
   ]
  },
  {
   "cell_type": "markdown",
   "metadata": {},
   "source": [
    "Определим признаки и целевой признак для всех выборок. Целевым признаком будет являться значение столбца \"Exited\"."
   ]
  },
  {
   "cell_type": "code",
   "execution_count": 111,
   "metadata": {},
   "outputs": [],
   "source": [
    "features = df_ohe.drop('Exited', axis=1)\n",
    "target = df_ohe['Exited']"
   ]
  },
  {
   "cell_type": "markdown",
   "metadata": {},
   "source": [
    "Разобьём датасет на три выборки: тренировочная, тестовая и валидационная в пропрорциях 60/20/20."
   ]
  },
  {
   "cell_type": "code",
   "execution_count": 112,
   "metadata": {},
   "outputs": [],
   "source": [
    "features_train, features_valid, target_train, target_rest = train_test_split(features, target, test_size=0.4, random_state=12345)\n",
    "features_valid, features_test, target_valid, target_test = train_test_split(features_rest, target_rest, test_size=0.5, random_state=12345)"
   ]
  },
  {
   "cell_type": "code",
   "execution_count": 113,
   "metadata": {
    "scrolled": true
   },
   "outputs": [
    {
     "name": "stdout",
     "output_type": "stream",
     "text": [
      "(6000, 11)\n",
      "(2000, 11)\n",
      "(2000, 11)\n"
     ]
    }
   ],
   "source": [
    "#посмотрим на размр выборок\n",
    "print(features_train.shape)\n",
    "print(features_valid.shape)\n",
    "print(features_test.shape)"
   ]
  },
  {
   "cell_type": "markdown",
   "metadata": {},
   "source": [
    "Масштабируем признаки с помощью стандартизации данных."
   ]
  },
  {
   "cell_type": "code",
   "execution_count": 114,
   "metadata": {},
   "outputs": [],
   "source": [
    "numeric = ['CreditScore', 'Age', 'Tenure', 'Balance', 'NumOfProducts', 'EstimatedSalary']"
   ]
  },
  {
   "cell_type": "code",
   "execution_count": 115,
   "metadata": {},
   "outputs": [
    {
     "name": "stderr",
     "output_type": "stream",
     "text": [
      "/opt/conda/lib/python3.7/site-packages/ipykernel_launcher.py:3: SettingWithCopyWarning: \n",
      "A value is trying to be set on a copy of a slice from a DataFrame.\n",
      "Try using .loc[row_indexer,col_indexer] = value instead\n",
      "\n",
      "See the caveats in the documentation: http://pandas.pydata.org/pandas-docs/stable/user_guide/indexing.html#returning-a-view-versus-a-copy\n",
      "  This is separate from the ipykernel package so we can avoid doing imports until\n",
      "/opt/conda/lib/python3.7/site-packages/pandas/core/indexing.py:494: SettingWithCopyWarning: \n",
      "A value is trying to be set on a copy of a slice from a DataFrame.\n",
      "Try using .loc[row_indexer,col_indexer] = value instead\n",
      "\n",
      "See the caveats in the documentation: http://pandas.pydata.org/pandas-docs/stable/user_guide/indexing.html#returning-a-view-versus-a-copy\n",
      "  self.obj[item] = s\n",
      "/opt/conda/lib/python3.7/site-packages/ipykernel_launcher.py:4: SettingWithCopyWarning: \n",
      "A value is trying to be set on a copy of a slice from a DataFrame.\n",
      "Try using .loc[row_indexer,col_indexer] = value instead\n",
      "\n",
      "See the caveats in the documentation: http://pandas.pydata.org/pandas-docs/stable/user_guide/indexing.html#returning-a-view-versus-a-copy\n",
      "  after removing the cwd from sys.path.\n",
      "/opt/conda/lib/python3.7/site-packages/pandas/core/indexing.py:494: SettingWithCopyWarning: \n",
      "A value is trying to be set on a copy of a slice from a DataFrame.\n",
      "Try using .loc[row_indexer,col_indexer] = value instead\n",
      "\n",
      "See the caveats in the documentation: http://pandas.pydata.org/pandas-docs/stable/user_guide/indexing.html#returning-a-view-versus-a-copy\n",
      "  self.obj[item] = s\n",
      "/opt/conda/lib/python3.7/site-packages/ipykernel_launcher.py:5: SettingWithCopyWarning: \n",
      "A value is trying to be set on a copy of a slice from a DataFrame.\n",
      "Try using .loc[row_indexer,col_indexer] = value instead\n",
      "\n",
      "See the caveats in the documentation: http://pandas.pydata.org/pandas-docs/stable/user_guide/indexing.html#returning-a-view-versus-a-copy\n",
      "  \"\"\"\n",
      "/opt/conda/lib/python3.7/site-packages/pandas/core/indexing.py:494: SettingWithCopyWarning: \n",
      "A value is trying to be set on a copy of a slice from a DataFrame.\n",
      "Try using .loc[row_indexer,col_indexer] = value instead\n",
      "\n",
      "See the caveats in the documentation: http://pandas.pydata.org/pandas-docs/stable/user_guide/indexing.html#returning-a-view-versus-a-copy\n",
      "  self.obj[item] = s\n"
     ]
    }
   ],
   "source": [
    "scaler = StandardScaler()\n",
    "scaler.fit(features_train[numeric])\n",
    "features_train[numeric] = scaler.transform(features_train[numeric])\n",
    "features_valid[numeric] = scaler.transform(features_valid[numeric])\n",
    "features_test[numeric] = scaler.transform(features_test[numeric])"
   ]
  },
  {
   "cell_type": "markdown",
   "metadata": {},
   "source": [
    "**Вывод:**\n",
    "Датасет подготовлен к обучению моделей. \n",
    "Определены признаки и целевой признак, данные разбиты на выборки, цифровые признаки масштабированы методом стандартизации. "
   ]
  },
  {
   "cell_type": "markdown",
   "metadata": {},
   "source": [
    "## Исследование задачи"
   ]
  },
  {
   "cell_type": "code",
   "execution_count": 116,
   "metadata": {},
   "outputs": [
    {
     "name": "stdout",
     "output_type": "stream",
     "text": [
      "Accuracy модели: 0.803 | F1: 0.33670033670033667 | AUC-ROC: 0.7586408700754299\n"
     ]
    }
   ],
   "source": [
    "#Обучим модель логической регрессии\n",
    "model_lr = LogisticRegression(random_state=12345, solver='liblinear')\n",
    "model_lr.fit(features_train, target_train)\n",
    "predicted_valid_lr = pd.Series(model_lr.predict(features_valid))\n",
    "accuracy = accuracy_score(target_valid, predicted_valid_lr)\n",
    "f1 = f1_score(target_valid, predicted_valid_lr)\n",
    "probabilities_valid = model_lr.predict_proba(features_valid)\n",
    "probabilities_one_valid = probabilities_valid[:, 1]\n",
    "roc_auc = roc_auc_score(target_valid, probabilities_one_valid)\n",
    "print(\"Accuracy модели:\", accuracy, '| ' \"F1:\",f1, '| ' \"AUC-ROC:\", roc_auc)\n"
   ]
  },
  {
   "cell_type": "markdown",
   "metadata": {},
   "source": [
    "**Вывод:** Точтость предсказаний модели Логической регрессии около 80%. Значение F1 0.33 сильно недотягивает до необходимых 0.59. Значение AUC-ROC у модели невысоко."
   ]
  },
  {
   "cell_type": "code",
   "execution_count": 117,
   "metadata": {},
   "outputs": [
    {
     "name": "stdout",
     "output_type": "stream",
     "text": [
      "Accuracy модели: 0.8625 | F1: 0.5682888540031397 | AUC-ROC: 0.8547142191762593\n"
     ]
    }
   ],
   "source": [
    "#Обучим модель случайного леса\n",
    "model_forest = RandomForestClassifier(random_state=12345, n_estimators=100, max_depth=8)\n",
    "model_forest.fit(features_train, target_train)\n",
    "predicted_valid_forest =  pd.Series(model_forest.predict(features_valid))\n",
    "accuracy = accuracy_score(target_valid, predicted_valid_forest)\n",
    "f1 = f1_score(target_valid, predicted_valid_forest)\n",
    "probabilities_valid = model_forest.predict_proba(features_valid)\n",
    "probabilities_one_valid = probabilities_valid[:, 1]\n",
    "roc_auc = roc_auc_score(target_valid, probabilities_one_valid)\n",
    "print(\"Accuracy модели:\", accuracy, '| ' \"F1:\",f1, '| ' \"AUC-ROC:\", roc_auc)"
   ]
  },
  {
   "cell_type": "markdown",
   "metadata": {},
   "source": [
    "**Вывод:** Точтость предсказаний и F1 случайного леса гораздо выше, чем у линейной регрессии. Значение AUC-ROC тоже выше."
   ]
  },
  {
   "cell_type": "markdown",
   "metadata": {},
   "source": [
    "Посмотрим на баланс классов."
   ]
  },
  {
   "cell_type": "code",
   "execution_count": 118,
   "metadata": {},
   "outputs": [
    {
     "name": "stdout",
     "output_type": "stream",
     "text": [
      "0    0.7963\n",
      "1    0.2037\n",
      "Name: Exited, dtype: float64\n"
     ]
    },
    {
     "data": {
      "text/plain": [
       "<matplotlib.axes._subplots.AxesSubplot at 0x7fb482c72350>"
      ]
     },
     "execution_count": 118,
     "metadata": {},
     "output_type": "execute_result"
    },
    {
     "data": {
      "image/png": "[encoded data removed]",
      "text/plain": [
       "<Figure size 432x288 with 1 Axes>"
      ]
     },
     "metadata": {
      "needs_background": "light"
     },
     "output_type": "display_data"
    }
   ],
   "source": [
    "class_frequency = df['Exited'].value_counts(normalize=True)\n",
    "print(class_frequency)\n",
    "class_frequency.plot(kind='bar')"
   ]
  },
  {
   "cell_type": "markdown",
   "metadata": {},
   "source": [
    "Наблюдается дисбаланс классов. Положительный класс(1) меньше отрицательного(0) почти в четыре раза. "
   ]
  },
  {
   "cell_type": "code",
   "execution_count": 119,
   "metadata": {},
   "outputs": [
    {
     "name": "stdout",
     "output_type": "stream",
     "text": [
      "0    0.912\n",
      "1    0.088\n",
      "dtype: float64\n"
     ]
    },
    {
     "data": {
      "text/plain": [
       "<matplotlib.axes._subplots.AxesSubplot at 0x7fb482b0b410>"
      ]
     },
     "execution_count": 119,
     "metadata": {},
     "output_type": "execute_result"
    },
    {
     "data": {
      "image/png": "[encoded data removed]",
      "text/plain": [
       "<Figure size 432x288 with 1 Axes>"
      ]
     },
     "metadata": {
      "needs_background": "light"
     },
     "output_type": "display_data"
    }
   ],
   "source": [
    "class_frequency_lr = predicted_valid_lr.value_counts(normalize=True)\n",
    "print(class_frequency_lr)\n",
    "class_frequency_lr.plot(kind='bar')"
   ]
  },
  {
   "cell_type": "code",
   "execution_count": 120,
   "metadata": {},
   "outputs": [
    {
     "name": "stdout",
     "output_type": "stream",
     "text": [
      "0    0.8905\n",
      "1    0.1095\n",
      "dtype: float64\n"
     ]
    },
    {
     "data": {
      "text/plain": [
       "<matplotlib.axes._subplots.AxesSubplot at 0x7fb482a677d0>"
      ]
     },
     "execution_count": 120,
     "metadata": {},
     "output_type": "execute_result"
    },
    {
     "data": {
      "image/png": "[encoded data removed]",
      "text/plain": [
       "<Figure size 432x288 with 1 Axes>"
      ]
     },
     "metadata": {
      "needs_background": "light"
     },
     "output_type": "display_data"
    }
   ],
   "source": [
    "class_frequency_forest = predicted_valid_forest.value_counts(normalize=True)\n",
    "print(class_frequency_forest)\n",
    "class_frequency_forest.plot(kind='bar')"
   ]
  },
  {
   "cell_type": "markdown",
   "metadata": {},
   "source": [
    "У моделей дисбаланс классов ещё выше."
   ]
  },
  {
   "cell_type": "markdown",
   "metadata": {},
   "source": [
    "Определим accuracy константной модели."
   ]
  },
  {
   "cell_type": "code",
   "execution_count": 121,
   "metadata": {},
   "outputs": [
    {
     "name": "stdout",
     "output_type": "stream",
     "text": [
      "Accuracy модели: 0.7963 | AUC-ROC: 0.5\n"
     ]
    }
   ],
   "source": [
    "target_pred_constant = pd.Series([0]*len(target))\n",
    "print(\"Accuracy модели:\" , accuracy_score(target, target_pred_constant), '| ' \"AUC-ROC:\", roc_auc_score(target, target_pred_constant))"
   ]
  },
  {
   "cell_type": "markdown",
   "metadata": {},
   "source": [
    "**Вывод:** Accuracy константной модели ниже, значит наши модели адекватны. Но значение F1 не достигает необходимого порога в 0.59 и наблюдается явный дисбаланс кассов, значит модели ещё могут быть улучшены."
   ]
  },
  {
   "cell_type": "markdown",
   "metadata": {},
   "source": [
    "## Борьба с дисбалансом"
   ]
  },
  {
   "cell_type": "markdown",
   "metadata": {},
   "source": [
    "Попробуем сбалансировать классы с помощью аргумента class_weight."
   ]
  },
  {
   "cell_type": "code",
   "execution_count": 122,
   "metadata": {},
   "outputs": [
    {
     "name": "stdout",
     "output_type": "stream",
     "text": [
      "F1: 0.48717948717948717 | AUC-ROC: 0.7636009775040982\n"
     ]
    }
   ],
   "source": [
    "model = LogisticRegression(random_state=12345, solver = 'liblinear', class_weight='balanced')\n",
    "model.fit(features_train, target_train)\n",
    "predicted_valid_lr = model.predict(features_valid)\n",
    "f1 = f1_score(target_valid, predicted_valid_lr)\n",
    "probabilities_valid = model.predict_proba(features_valid)\n",
    "probabilities_one_valid = probabilities_valid[:, 1]\n",
    "roc_auc = roc_auc_score(target_valid, probabilities_one_valid)\n",
    "print(\"F1:\",f1, '| ' \"AUC-ROC:\", roc_auc)\n"
   ]
  },
  {
   "cell_type": "code",
   "execution_count": 123,
   "metadata": {},
   "outputs": [
    {
     "name": "stdout",
     "output_type": "stream",
     "text": [
      "F1: 0.6267281105990784 | AUC-ROC: 0.8526016368354514\n"
     ]
    }
   ],
   "source": [
    "model = RandomForestClassifier(n_estimators=100, max_depth=9, random_state=12345, class_weight='balanced')\n",
    "model.fit(features_train, target_train)\n",
    "predicted_valid_forest = model.predict(features_valid)\n",
    "f1 = f1_score(target_valid, predicted_valid_forest)\n",
    "probabilities_valid = model.predict_proba(features_valid)\n",
    "probabilities_one_valid = probabilities_valid[:, 1]\n",
    "roc_auc = roc_auc_score(target_valid, probabilities_one_valid)\n",
    "print(\"F1:\",f1, '| ' \"AUC-ROC:\", roc_auc)"
   ]
  },
  {
   "cell_type": "markdown",
   "metadata": {},
   "source": [
    "**Вывод:** Балансировка классов с помощью аргумента class_weight улучшает качество моделей. Особенно это заметно в модели линейной регрессии, значение F1 в ней выросло в 1.5 раза. "
   ]
  },
  {
   "cell_type": "markdown",
   "metadata": {},
   "source": [
    "Уменьшение выборки"
   ]
  },
  {
   "cell_type": "code",
   "execution_count": 124,
   "metadata": {},
   "outputs": [],
   "source": [
    "def downsample(features, target, fraction):\n",
    "    features_zeros = features[target == 0]\n",
    "    features_ones = features[target == 1]\n",
    "    target_zeros = target[target == 0]\n",
    "    target_ones = target[target == 1]\n",
    "\n",
    "    features_downsampled = pd.concat(\n",
    "        [features_zeros.sample(frac=fraction, random_state=12345)] + [features_ones])\n",
    "    target_downsampled = pd.concat(\n",
    "        [target_zeros.sample(frac=fraction, random_state=12345)] + [target_ones])\n",
    "    \n",
    "    features_downsampled, target_downsampled = shuffle(\n",
    "        features_downsampled, target_downsampled, random_state=12345)\n",
    "    \n",
    "    return features_downsampled, target_downsampled\n",
    "\n",
    "features_downsampled, target_downsampled = downsample(features_train, target_train, 0.1)"
   ]
  },
  {
   "cell_type": "code",
   "execution_count": 125,
   "metadata": {},
   "outputs": [
    {
     "name": "stdout",
     "output_type": "stream",
     "text": [
      "F1: 0.42986425339366513 | AUC-ROC: 0.7588162885088828\n"
     ]
    }
   ],
   "source": [
    "model = LogisticRegression(random_state=12345, solver = 'liblinear')\n",
    "model.fit(features_downsampled, target_downsampled)\n",
    "predicted_valid_downsampled_lr = model.predict(features_valid)\n",
    "f1 = f1_score(target_valid, predicted_valid_downsampled_lr)\n",
    "probabilities_valid = model.predict_proba(features_valid)\n",
    "probabilities_one_valid = probabilities_valid[:, 1]\n",
    "roc_auc = roc_auc_score(target_valid, probabilities_one_valid)\n",
    "print(\"F1:\",f1,'| ' \"AUC-ROC:\", roc_auc)"
   ]
  },
  {
   "cell_type": "code",
   "execution_count": 126,
   "metadata": {},
   "outputs": [
    {
     "name": "stdout",
     "output_type": "stream",
     "text": [
      "F1: 0.46097111247695144 | AUC-ROC: 0.8370634954239984\n"
     ]
    }
   ],
   "source": [
    "model = RandomForestClassifier(n_estimators=100, max_depth=8, random_state=12345)\n",
    "model.fit(features_downsampled, target_downsampled)\n",
    "predicted_valid_downsampled_forest = model.predict(features_valid)\n",
    "f1 = f1_score(target_valid, predicted_valid_downsampled_forest)\n",
    "probabilities_valid = model.predict_proba(features_valid)\n",
    "probabilities_one_valid = probabilities_valid[:, 1]\n",
    "roc_auc = roc_auc_score(target_valid, probabilities_one_valid)\n",
    "print(\"F1:\",f1, '| ' \"AUC-ROC:\", roc_auc)"
   ]
  },
  {
   "cell_type": "markdown",
   "metadata": {},
   "source": [
    "**Вывод:** Уменьшение выборки ухудшает качество моделей. "
   ]
  },
  {
   "cell_type": "markdown",
   "metadata": {},
   "source": [
    "Посмотрим как влияет изменение порога на точность моделей"
   ]
  },
  {
   "cell_type": "code",
   "execution_count": 127,
   "metadata": {},
   "outputs": [
    {
     "name": "stdout",
     "output_type": "stream",
     "text": [
      "Порог = 0.00 | F1 = 0.346\n",
      "Порог = 0.02 | F1 = 0.348\n",
      "Порог = 0.04 | F1 = 0.369\n",
      "Порог = 0.06 | F1 = 0.391\n",
      "Порог = 0.08 | F1 = 0.406\n",
      "Порог = 0.10 | F1 = 0.423\n",
      "Порог = 0.12 | F1 = 0.444\n",
      "Порог = 0.14 | F1 = 0.464\n",
      "Порог = 0.16 | F1 = 0.468\n",
      "Порог = 0.18 | F1 = 0.482\n",
      "Порог = 0.20 | F1 = 0.476\n",
      "Порог = 0.22 | F1 = 0.482\n",
      "Порог = 0.24 | F1 = 0.498\n",
      "Порог = 0.26 | F1 = 0.497\n",
      "Порог = 0.28 | F1 = 0.487\n",
      "Порог = 0.30 | F1 = 0.484\n",
      "Порог = 0.32 | F1 = 0.469\n",
      "Порог = 0.34 | F1 = 0.461\n",
      "Порог = 0.36 | F1 = 0.446\n",
      "Порог = 0.38 | F1 = 0.418\n",
      "Порог = 0.40 | F1 = 0.398\n",
      "Порог = 0.42 | F1 = 0.390\n",
      "Порог = 0.44 | F1 = 0.369\n",
      "Порог = 0.46 | F1 = 0.367\n",
      "Порог = 0.48 | F1 = 0.356\n"
     ]
    }
   ],
   "source": [
    "model = LogisticRegression(random_state=12345, solver = 'liblinear')\n",
    "model.fit(features_train, target_train)\n",
    "probabilities_valid = model.predict_proba(features_valid)\n",
    "probabilities_one_valid = probabilities_valid[:, 1]\n",
    "\n",
    "for threshold in np.arange(0, 0.5, 0.02):\n",
    "        predicted_valid = probabilities_one_valid > threshold\n",
    "        f1 = f1_score(target_valid, predicted_valid)\n",
    "        roc_auc = roc_auc_score(target_valid, predicted_valid)\n",
    "        print(\"Порог = {:.2f} | F1 = {:.3f}\".format(\n",
    "        threshold, f1))\n"
   ]
  },
  {
   "cell_type": "code",
   "execution_count": 128,
   "metadata": {},
   "outputs": [
    {
     "name": "stdout",
     "output_type": "stream",
     "text": [
      "F1: 0.4974515800203874\n",
      "AUC-ROC: 0.7586408700754299\n"
     ]
    }
   ],
   "source": [
    "model = LogisticRegression(random_state=12345, solver = 'liblinear')\n",
    "model.fit(features_train, target_train)\n",
    "probabilities_valid = model.predict_proba(features_valid)\n",
    "probabilities_one_valid = probabilities_valid[:, 1]\n",
    "\n",
    "threshold = 0.26\n",
    "predicted_valid = probabilities_one_valid > threshold\n",
    "f1 = f1_score(target_valid, predicted_valid)\n",
    "roc_auc = roc_auc_score(target_valid, probabilities_one_valid)\n",
    "print(\"F1:\", f1)\n",
    "print(\"AUC-ROC:\", roc_auc)"
   ]
  },
  {
   "cell_type": "markdown",
   "metadata": {},
   "source": [
    "**Вывод:** Для логической регрессии увеличение порога до 0.26 увеличивает значение F1 до 0.497. Дальнейшее увеличение порога приводик к ухудшению результотов модели."
   ]
  },
  {
   "cell_type": "code",
   "execution_count": 129,
   "metadata": {},
   "outputs": [
    {
     "name": "stdout",
     "output_type": "stream",
     "text": [
      "Порог = 0.00 | F1 = 0.346\n",
      "Порог = 0.02 | F1 = 0.347\n",
      "Порог = 0.04 | F1 = 0.380\n",
      "Порог = 0.06 | F1 = 0.406\n",
      "Порог = 0.08 | F1 = 0.434\n",
      "Порог = 0.10 | F1 = 0.472\n",
      "Порог = 0.12 | F1 = 0.506\n",
      "Порог = 0.14 | F1 = 0.526\n",
      "Порог = 0.16 | F1 = 0.553\n",
      "Порог = 0.18 | F1 = 0.582\n",
      "Порог = 0.20 | F1 = 0.604\n",
      "Порог = 0.22 | F1 = 0.614\n",
      "Порог = 0.24 | F1 = 0.618\n",
      "Порог = 0.26 | F1 = 0.628\n",
      "Порог = 0.28 | F1 = 0.637\n",
      "Порог = 0.30 | F1 = 0.632\n",
      "Порог = 0.32 | F1 = 0.640\n",
      "Порог = 0.34 | F1 = 0.634\n",
      "Порог = 0.36 | F1 = 0.627\n",
      "Порог = 0.38 | F1 = 0.620\n",
      "Порог = 0.40 | F1 = 0.608\n",
      "Порог = 0.42 | F1 = 0.613\n",
      "Порог = 0.44 | F1 = 0.601\n",
      "Порог = 0.46 | F1 = 0.591\n",
      "Порог = 0.48 | F1 = 0.583\n"
     ]
    }
   ],
   "source": [
    "model = RandomForestClassifier(n_estimators=100, max_depth=8, random_state=12345)\n",
    "model.fit(features_train, target_train)\n",
    "probabilities_valid = model.predict_proba(features_valid)\n",
    "probabilities_one_valid = probabilities_valid[:, 1]\n",
    "\n",
    "for threshold in np.arange(0, 0.5, 0.02):\n",
    "        predicted_valid = probabilities_one_valid > threshold\n",
    "        f1 = f1_score(target_valid, predicted_valid)\n",
    "        print(\"Порог = {:.2f} | F1 = {:.3f}\".format(threshold, f1))"
   ]
  },
  {
   "cell_type": "code",
   "execution_count": 130,
   "metadata": {},
   "outputs": [
    {
     "name": "stdout",
     "output_type": "stream",
     "text": [
      "F1: 0.6374133949191687\n",
      "AUC-ROC: 0.8547142191762593\n"
     ]
    }
   ],
   "source": [
    "model = RandomForestClassifier(n_estimators=100, max_depth=8, random_state=12345)\n",
    "model.fit(features_train, target_train)\n",
    "probabilities_valid = model.predict_proba(features_valid)\n",
    "probabilities_one_valid = probabilities_valid[:, 1]\n",
    "\n",
    "threshold = 0.28\n",
    "predicted_valid = probabilities_one_valid > threshold\n",
    "f1 = f1_score(target_valid, predicted_valid)\n",
    "roc_auc = roc_auc_score(target_valid, probabilities_one_valid)\n",
    "print(\"F1:\", f1)\n",
    "print(\"AUC-ROC:\", roc_auc)"
   ]
  },
  {
   "cell_type": "markdown",
   "metadata": {},
   "source": [
    "**Вывод:**  Для случайного леса увеличение порога до 0.28 увеличивает значение F1 до 0.637. Дальнейшее увеличение порога приводик к ухудшению результотов модели."
   ]
  },
  {
   "cell_type": "markdown",
   "metadata": {},
   "source": [
    "Определим наилучшие параметры n_estimators и max_depth для модели случайного леса."
   ]
  },
  {
   "cell_type": "code",
   "execution_count": 131,
   "metadata": {},
   "outputs": [
    {
     "name": "stdout",
     "output_type": "stream",
     "text": [
      "Параметры наилучшей модели на валидационной выборке: n_estimators= 36 | depth= 9 | accuracy: 0.8675 | F1: 0.6374133949191687\n"
     ]
    }
   ],
   "source": [
    "accur=0\n",
    "est=0\n",
    "dep=0\n",
    "f = 0\n",
    "for estim in range(1, 100, 5): \n",
    "    for depth in range(1, 12):\n",
    "        model_forest = RandomForestClassifier(random_state=12345, n_estimators=estim, max_depth=depth)\n",
    "        model_forest.fit(features_train, target_train)\n",
    "        predicted_valid_forest = model_forest.predict(features_valid)\n",
    "        accuracy = accuracy_score(target_valid, predicted_valid_forest)\n",
    "        f1 = f1_score(target_valid, predicted_valid)\n",
    "        if accuracy > accur:\n",
    "            accur=accuracy\n",
    "            est=estim\n",
    "            dep=depth\n",
    "            f=f1\n",
    "print('Параметры наилучшей модели на валидационной выборке: ' \"n_estimators=\", est, \"| \" \"depth=\", dep, \"| \" \"accuracy:\", accur, \"| \" \"F1:\", f)"
   ]
  },
  {
   "cell_type": "code",
   "execution_count": 141,
   "metadata": {},
   "outputs": [
    {
     "name": "stdout",
     "output_type": "stream",
     "text": [
      "AUC-ROC: 0.8504875422667691\n"
     ]
    }
   ],
   "source": [
    "model_forest = RandomForestClassifier(random_state=12345, n_estimators=36, max_depth=9)\n",
    "model_forest.fit(features_train, target_train)\n",
    "probabilities_valid = model_forest.predict_proba(features_valid)\n",
    "probabilities_one_valid = probabilities_valid[:, 1]\n",
    "roc_auc = roc_auc_score(target_valid, probabilities_one_valid)\n",
    "print(\"AUC-ROC:\", roc_auc)"
   ]
  },
  {
   "cell_type": "markdown",
   "metadata": {},
   "source": [
    "**Вывод:** Были проверены три способа борьбы с дисбалансом классов. Наилучший результат показало увеличение порога до 0.34 в модели случайный лес.\n",
    "Так же были определены наилучшие параметры  n_estimators и  depth для этой модели.\n",
    "Осталось проверить модель с наилучшими параметрями на тестовой выборке.\n",
    "    "
   ]
  },
  {
   "cell_type": "markdown",
   "metadata": {},
   "source": [
    "## Тестирование модели"
   ]
  },
  {
   "cell_type": "code",
   "execution_count": 142,
   "metadata": {},
   "outputs": [
    {
     "name": "stdout",
     "output_type": "stream",
     "text": [
      "F1: 0.6234357224118316\n",
      "AUC-ROC: 0.8526348769471315\n"
     ]
    }
   ],
   "source": [
    "model_final = RandomForestClassifier(n_estimators=36, max_depth=9, random_state=12345)\n",
    "model_final.fit(features_train, target_train)\n",
    "probabilities_valid = model_final.predict_proba(features_test)\n",
    "probabilities_one_valid = probabilities_valid[:, 1]\n",
    "\n",
    "threshold = 0.28\n",
    "predicted_valid = probabilities_one_valid > threshold\n",
    "f1 = f1_score(target_test, predicted_valid)\n",
    "roc_auc = roc_auc_score(target_test, probabilities_one_valid)\n",
    "print(\"F1:\", f1)\n",
    "print(\"AUC-ROC:\", roc_auc)"
   ]
  },
  {
   "cell_type": "markdown",
   "metadata": {},
   "source": [
    "Значение F1 модели на тестовой выборке выше необходимого порога в 0.59. AUC-ROC на идеально, но выше значения случайной модели(0.5). Что можно считать ещё одним критерием адекватности обученной модели."
   ]
  },
  {
   "cell_type": "markdown",
   "metadata": {},
   "source": [
    "**Общий Вывод:**"
   ]
  },
  {
   "cell_type": "markdown",
   "metadata": {},
   "source": [
    "В ходе исследования оттока клиентов «Бета-Банка» данные были подготовлены для обучения моделей. Удалены лишние столбцы. Заполнены пропуски. Произведено преобразование категориальные признаки в численные с помощью техники One-Hot Encoding. \n",
    "Разбил датасет на 3 выборки - обучающую, валидационную и тестовую.\n",
    "Исследовал баланс классов - они были несбалансированы. \n",
    "Применил три способа борбы с дисбалансом - аргумент class_weight, уменьшение выборки и изменение порога. Лучшие результаты показало изменение порога.\n",
    "Выявил наилучшие значения n_estimators и max_depth для модели случайного леса.\n",
    "Обучил финальную модель с наилучшими параметрами. Достиг значения F1 = 0.601 на тестовой выборке, что выше необходимого нам значения в 0.59. "
   ]
  }
 ],
 "metadata": {
  "ExecuteTimeLog": [
   {
    "duration": 1252,
    "start_time": "2022-02-28T10:39:37.253Z"
   },
   {
    "duration": 411,
    "start_time": "2022-02-28T10:41:40.656Z"
   },
   {
    "duration": 4,
    "start_time": "2022-02-28T10:41:49.549Z"
   },
   {
    "duration": 287,
    "start_time": "2022-02-28T10:41:51.797Z"
   },
   {
    "duration": 24,
    "start_time": "2022-02-28T10:42:16.361Z"
   },
   {
    "duration": 30,
    "start_time": "2022-02-28T10:42:25.201Z"
   },
   {
    "duration": 43,
    "start_time": "2022-02-28T10:42:41.086Z"
   },
   {
    "duration": 38,
    "start_time": "2022-02-28T10:43:09.762Z"
   },
   {
    "duration": 9,
    "start_time": "2022-02-28T10:43:28.771Z"
   },
   {
    "duration": 7,
    "start_time": "2022-02-28T10:44:52.405Z"
   },
   {
    "duration": 6,
    "start_time": "2022-02-28T10:44:55.871Z"
   },
   {
    "duration": 928,
    "start_time": "2022-02-28T10:45:05.160Z"
   },
   {
    "duration": 8,
    "start_time": "2022-02-28T10:58:49.499Z"
   },
   {
    "duration": 353,
    "start_time": "2022-02-28T10:59:03.329Z"
   },
   {
    "duration": 18,
    "start_time": "2022-02-28T11:00:23.391Z"
   },
   {
    "duration": 5,
    "start_time": "2022-02-28T11:00:52.355Z"
   },
   {
    "duration": 8,
    "start_time": "2022-02-28T11:00:57.216Z"
   },
   {
    "duration": 1036,
    "start_time": "2022-02-28T11:00:58.046Z"
   },
   {
    "duration": 883,
    "start_time": "2022-02-28T11:01:04.874Z"
   },
   {
    "duration": 4,
    "start_time": "2022-02-28T11:05:23.189Z"
   },
   {
    "duration": 277,
    "start_time": "2022-02-28T11:05:40.968Z"
   },
   {
    "duration": 271,
    "start_time": "2022-02-28T11:06:15.210Z"
   },
   {
    "duration": 3,
    "start_time": "2022-02-28T11:06:33.768Z"
   },
   {
    "duration": 53,
    "start_time": "2022-02-28T11:06:33.773Z"
   },
   {
    "duration": 10,
    "start_time": "2022-02-28T11:06:33.829Z"
   },
   {
    "duration": 19,
    "start_time": "2022-02-28T11:06:33.842Z"
   },
   {
    "duration": 5,
    "start_time": "2022-02-28T11:06:33.863Z"
   },
   {
    "duration": 15,
    "start_time": "2022-02-28T11:06:33.869Z"
   },
   {
    "duration": 898,
    "start_time": "2022-02-28T11:06:33.886Z"
   },
   {
    "duration": 4,
    "start_time": "2022-02-28T11:06:34.786Z"
   },
   {
    "duration": 306,
    "start_time": "2022-02-28T11:09:07.025Z"
   },
   {
    "duration": 340,
    "start_time": "2022-02-28T11:09:36.526Z"
   },
   {
    "duration": 308,
    "start_time": "2022-02-28T11:09:54.977Z"
   },
   {
    "duration": 4,
    "start_time": "2022-02-28T11:10:12.762Z"
   },
   {
    "duration": 41,
    "start_time": "2022-02-28T11:10:13.637Z"
   },
   {
    "duration": 8,
    "start_time": "2022-02-28T11:10:15.340Z"
   },
   {
    "duration": 18,
    "start_time": "2022-02-28T11:10:16.523Z"
   },
   {
    "duration": 4,
    "start_time": "2022-02-28T11:10:23.685Z"
   },
   {
    "duration": 9,
    "start_time": "2022-02-28T11:10:25.108Z"
   },
   {
    "duration": 910,
    "start_time": "2022-02-28T11:10:26.393Z"
   },
   {
    "duration": 352,
    "start_time": "2022-02-28T11:10:31.504Z"
   },
   {
    "duration": 272,
    "start_time": "2022-02-28T11:10:49.953Z"
   },
   {
    "duration": 294,
    "start_time": "2022-02-28T11:11:52.838Z"
   },
   {
    "duration": 277,
    "start_time": "2022-02-28T11:12:08.380Z"
   },
   {
    "duration": 293,
    "start_time": "2022-02-28T11:12:35.896Z"
   },
   {
    "duration": 366,
    "start_time": "2022-02-28T11:12:48.219Z"
   },
   {
    "duration": 277,
    "start_time": "2022-02-28T11:13:05.439Z"
   },
   {
    "duration": 286,
    "start_time": "2022-02-28T11:13:11.928Z"
   },
   {
    "duration": 37,
    "start_time": "2022-02-28T11:13:17.894Z"
   },
   {
    "duration": 9,
    "start_time": "2022-02-28T11:13:19.514Z"
   },
   {
    "duration": 3,
    "start_time": "2022-02-28T11:13:21.914Z"
   },
   {
    "duration": 5,
    "start_time": "2022-02-28T11:13:22.742Z"
   },
   {
    "duration": 437,
    "start_time": "2022-02-28T11:13:25.646Z"
   },
   {
    "duration": 271,
    "start_time": "2022-02-28T11:13:41.707Z"
   },
   {
    "duration": 310,
    "start_time": "2022-02-28T11:13:53.255Z"
   },
   {
    "duration": 355,
    "start_time": "2022-02-28T11:13:59.802Z"
   },
   {
    "duration": 4,
    "start_time": "2022-02-28T11:14:18.437Z"
   },
   {
    "duration": 42,
    "start_time": "2022-02-28T11:14:18.443Z"
   },
   {
    "duration": 8,
    "start_time": "2022-02-28T11:14:18.487Z"
   },
   {
    "duration": 19,
    "start_time": "2022-02-28T11:14:18.497Z"
   },
   {
    "duration": 4,
    "start_time": "2022-02-28T11:14:18.517Z"
   },
   {
    "duration": 295,
    "start_time": "2022-02-28T11:14:18.523Z"
   },
   {
    "duration": 263,
    "start_time": "2022-02-28T11:15:04.356Z"
   },
   {
    "duration": 547,
    "start_time": "2022-02-28T11:15:08.123Z"
   },
   {
    "duration": 282,
    "start_time": "2022-02-28T11:15:10.119Z"
   },
   {
    "duration": 4,
    "start_time": "2022-02-28T11:15:19.365Z"
   },
   {
    "duration": 44,
    "start_time": "2022-02-28T11:15:19.371Z"
   },
   {
    "duration": 7,
    "start_time": "2022-02-28T11:15:19.418Z"
   },
   {
    "duration": 19,
    "start_time": "2022-02-28T11:15:19.427Z"
   },
   {
    "duration": 4,
    "start_time": "2022-02-28T11:15:19.448Z"
   },
   {
    "duration": 11,
    "start_time": "2022-02-28T11:15:19.453Z"
   },
   {
    "duration": 12,
    "start_time": "2022-02-28T11:15:19.465Z"
   },
   {
    "duration": 269,
    "start_time": "2022-02-28T11:17:08.640Z"
   },
   {
    "duration": 3,
    "start_time": "2022-02-28T11:17:24.705Z"
   },
   {
    "duration": 273,
    "start_time": "2022-02-28T11:17:25.285Z"
   },
   {
    "duration": 281,
    "start_time": "2022-02-28T11:17:26.742Z"
   },
   {
    "duration": 3,
    "start_time": "2022-02-28T11:17:33.078Z"
   },
   {
    "duration": 49,
    "start_time": "2022-02-28T11:17:33.083Z"
   },
   {
    "duration": 9,
    "start_time": "2022-02-28T11:17:33.134Z"
   },
   {
    "duration": 17,
    "start_time": "2022-02-28T11:17:33.145Z"
   },
   {
    "duration": 3,
    "start_time": "2022-02-28T11:17:33.164Z"
   },
   {
    "duration": 11,
    "start_time": "2022-02-28T11:17:33.168Z"
   },
   {
    "duration": 279,
    "start_time": "2022-02-28T11:17:33.181Z"
   },
   {
    "duration": 290,
    "start_time": "2022-02-28T11:18:11.190Z"
   },
   {
    "duration": 4,
    "start_time": "2022-02-28T11:18:22.360Z"
   },
   {
    "duration": 63,
    "start_time": "2022-02-28T11:18:22.366Z"
   },
   {
    "duration": 8,
    "start_time": "2022-02-28T11:18:22.431Z"
   },
   {
    "duration": 24,
    "start_time": "2022-02-28T11:18:22.441Z"
   },
   {
    "duration": 10,
    "start_time": "2022-02-28T11:18:22.467Z"
   },
   {
    "duration": 12,
    "start_time": "2022-02-28T11:18:22.479Z"
   },
   {
    "duration": 293,
    "start_time": "2022-02-28T11:18:22.493Z"
   },
   {
    "duration": 3,
    "start_time": "2022-02-28T11:20:07.108Z"
   },
   {
    "duration": 45,
    "start_time": "2022-02-28T11:20:07.113Z"
   },
   {
    "duration": 8,
    "start_time": "2022-02-28T11:20:07.160Z"
   },
   {
    "duration": 18,
    "start_time": "2022-02-28T11:20:07.170Z"
   },
   {
    "duration": 4,
    "start_time": "2022-02-28T11:20:07.189Z"
   },
   {
    "duration": 10,
    "start_time": "2022-02-28T11:20:07.195Z"
   },
   {
    "duration": 5,
    "start_time": "2022-02-28T11:20:07.207Z"
   },
   {
    "duration": 414,
    "start_time": "2022-02-28T11:20:27.115Z"
   },
   {
    "duration": 3,
    "start_time": "2022-02-28T11:21:28.023Z"
   },
   {
    "duration": 55,
    "start_time": "2022-02-28T11:21:28.029Z"
   },
   {
    "duration": 9,
    "start_time": "2022-02-28T11:21:28.086Z"
   },
   {
    "duration": 18,
    "start_time": "2022-02-28T11:21:28.097Z"
   },
   {
    "duration": 2,
    "start_time": "2022-02-28T11:21:28.117Z"
   },
   {
    "duration": 21,
    "start_time": "2022-02-28T11:21:28.121Z"
   },
   {
    "duration": 10,
    "start_time": "2022-02-28T11:21:28.144Z"
   },
   {
    "duration": 270,
    "start_time": "2022-02-28T11:23:08.918Z"
   },
   {
    "duration": 305,
    "start_time": "2022-02-28T11:23:16.363Z"
   },
   {
    "duration": 262,
    "start_time": "2022-02-28T11:23:29.502Z"
   },
   {
    "duration": 272,
    "start_time": "2022-02-28T11:23:32.761Z"
   },
   {
    "duration": 2,
    "start_time": "2022-02-28T11:25:43.875Z"
   },
   {
    "duration": 265,
    "start_time": "2022-02-28T11:25:45.113Z"
   },
   {
    "duration": 280,
    "start_time": "2022-02-28T11:26:18.458Z"
   },
   {
    "duration": 4,
    "start_time": "2022-02-28T11:26:28.436Z"
   },
   {
    "duration": 50,
    "start_time": "2022-02-28T11:26:29.401Z"
   },
   {
    "duration": 10,
    "start_time": "2022-02-28T11:26:37.449Z"
   },
   {
    "duration": 9,
    "start_time": "2022-02-28T11:26:40.843Z"
   },
   {
    "duration": 3,
    "start_time": "2022-02-28T11:26:46.523Z"
   },
   {
    "duration": 5,
    "start_time": "2022-02-28T11:26:48.682Z"
   },
   {
    "duration": 324,
    "start_time": "2022-02-28T11:26:50.112Z"
   },
   {
    "duration": 265,
    "start_time": "2022-02-28T11:27:05.713Z"
   },
   {
    "duration": 334,
    "start_time": "2022-02-28T11:27:16.244Z"
   },
   {
    "duration": 337,
    "start_time": "2022-02-28T11:27:19.708Z"
   },
   {
    "duration": 5,
    "start_time": "2022-02-28T11:35:48.882Z"
   },
   {
    "duration": 92,
    "start_time": "2022-02-28T11:35:48.890Z"
   },
   {
    "duration": 10,
    "start_time": "2022-02-28T11:35:48.985Z"
   },
   {
    "duration": 25,
    "start_time": "2022-02-28T11:35:48.998Z"
   },
   {
    "duration": 24,
    "start_time": "2022-02-28T11:35:49.025Z"
   },
   {
    "duration": 28,
    "start_time": "2022-02-28T11:35:49.051Z"
   },
   {
    "duration": 630,
    "start_time": "2022-02-28T11:35:49.081Z"
   },
   {
    "duration": 454,
    "start_time": "2022-02-28T11:35:49.259Z"
   },
   {
    "duration": 269,
    "start_time": "2022-02-28T11:36:31.734Z"
   },
   {
    "duration": 459,
    "start_time": "2022-02-28T11:36:37.673Z"
   },
   {
    "duration": 308,
    "start_time": "2022-02-28T11:36:55.238Z"
   },
   {
    "duration": 3,
    "start_time": "2022-02-28T11:37:10.506Z"
   },
   {
    "duration": 56,
    "start_time": "2022-02-28T11:37:10.511Z"
   },
   {
    "duration": 8,
    "start_time": "2022-02-28T11:37:10.569Z"
   },
   {
    "duration": 7,
    "start_time": "2022-02-28T11:37:10.579Z"
   },
   {
    "duration": 7,
    "start_time": "2022-02-28T11:37:10.588Z"
   },
   {
    "duration": 18,
    "start_time": "2022-02-28T11:37:10.597Z"
   },
   {
    "duration": 7,
    "start_time": "2022-02-28T11:37:10.616Z"
   },
   {
    "duration": 14,
    "start_time": "2022-02-28T11:37:29.828Z"
   },
   {
    "duration": 14,
    "start_time": "2022-02-28T11:37:41.194Z"
   },
   {
    "duration": 11,
    "start_time": "2022-02-28T11:37:42.855Z"
   },
   {
    "duration": 282,
    "start_time": "2022-02-28T11:37:54.993Z"
   },
   {
    "duration": 4,
    "start_time": "2022-02-28T11:40:13.751Z"
   },
   {
    "duration": 59,
    "start_time": "2022-02-28T11:40:13.757Z"
   },
   {
    "duration": 8,
    "start_time": "2022-02-28T11:40:13.818Z"
   },
   {
    "duration": 18,
    "start_time": "2022-02-28T11:40:13.828Z"
   },
   {
    "duration": 8,
    "start_time": "2022-02-28T11:40:13.848Z"
   },
   {
    "duration": 10,
    "start_time": "2022-02-28T11:40:13.858Z"
   },
   {
    "duration": 22,
    "start_time": "2022-02-28T11:40:13.870Z"
   },
   {
    "duration": 12,
    "start_time": "2022-02-28T11:40:13.894Z"
   },
   {
    "duration": 12,
    "start_time": "2022-02-28T11:40:31.179Z"
   },
   {
    "duration": 14,
    "start_time": "2022-02-28T11:43:57.978Z"
   },
   {
    "duration": 11,
    "start_time": "2022-02-28T11:43:58.799Z"
   },
   {
    "duration": 13,
    "start_time": "2022-02-28T11:44:48.425Z"
   },
   {
    "duration": 11,
    "start_time": "2022-02-28T11:44:57.152Z"
   },
   {
    "duration": 3,
    "start_time": "2022-02-28T11:45:22.846Z"
   },
   {
    "duration": 289,
    "start_time": "2022-02-28T11:46:02.519Z"
   },
   {
    "duration": 16,
    "start_time": "2022-02-28T11:46:09.294Z"
   },
   {
    "duration": 4,
    "start_time": "2022-02-28T11:46:15.673Z"
   },
   {
    "duration": 46,
    "start_time": "2022-02-28T11:46:15.679Z"
   },
   {
    "duration": 8,
    "start_time": "2022-02-28T11:46:15.727Z"
   },
   {
    "duration": 19,
    "start_time": "2022-02-28T11:46:15.736Z"
   },
   {
    "duration": 5,
    "start_time": "2022-02-28T11:46:15.756Z"
   },
   {
    "duration": 16,
    "start_time": "2022-02-28T11:46:15.763Z"
   },
   {
    "duration": 17,
    "start_time": "2022-02-28T11:46:15.781Z"
   },
   {
    "duration": 13,
    "start_time": "2022-02-28T11:46:15.801Z"
   },
   {
    "duration": 17,
    "start_time": "2022-02-28T11:46:15.816Z"
   },
   {
    "duration": 4,
    "start_time": "2022-02-28T11:46:15.835Z"
   },
   {
    "duration": 12,
    "start_time": "2022-02-28T12:10:05.727Z"
   },
   {
    "duration": 4,
    "start_time": "2022-02-28T12:10:06.424Z"
   },
   {
    "duration": 11,
    "start_time": "2022-02-28T12:10:10.943Z"
   },
   {
    "duration": 4,
    "start_time": "2022-02-28T12:10:11.481Z"
   },
   {
    "duration": 4,
    "start_time": "2022-02-28T12:10:17.468Z"
   },
   {
    "duration": 3,
    "start_time": "2022-02-28T12:13:54.757Z"
   },
   {
    "duration": 4,
    "start_time": "2022-02-28T12:17:10.255Z"
   },
   {
    "duration": 1162,
    "start_time": "2022-02-28T12:20:19.456Z"
   },
   {
    "duration": 4,
    "start_time": "2022-02-28T12:20:58.240Z"
   },
   {
    "duration": 42,
    "start_time": "2022-02-28T12:20:58.246Z"
   },
   {
    "duration": 9,
    "start_time": "2022-02-28T12:20:58.290Z"
   },
   {
    "duration": 16,
    "start_time": "2022-02-28T12:20:58.301Z"
   },
   {
    "duration": 3,
    "start_time": "2022-02-28T12:20:58.319Z"
   },
   {
    "duration": 8,
    "start_time": "2022-02-28T12:20:58.324Z"
   },
   {
    "duration": 15,
    "start_time": "2022-02-28T12:20:58.334Z"
   },
   {
    "duration": 34,
    "start_time": "2022-02-28T12:20:58.351Z"
   },
   {
    "duration": 12,
    "start_time": "2022-02-28T12:20:58.388Z"
   },
   {
    "duration": 4,
    "start_time": "2022-02-28T12:20:58.402Z"
   },
   {
    "duration": 8,
    "start_time": "2022-02-28T12:20:58.408Z"
   },
   {
    "duration": 13,
    "start_time": "2022-02-28T12:20:58.417Z"
   },
   {
    "duration": 49,
    "start_time": "2022-02-28T12:20:58.432Z"
   },
   {
    "duration": 4,
    "start_time": "2022-02-28T12:29:21.837Z"
   },
   {
    "duration": 53,
    "start_time": "2022-02-28T12:29:21.843Z"
   },
   {
    "duration": 9,
    "start_time": "2022-02-28T12:29:21.898Z"
   },
   {
    "duration": 17,
    "start_time": "2022-02-28T12:29:21.909Z"
   },
   {
    "duration": 4,
    "start_time": "2022-02-28T12:29:21.927Z"
   },
   {
    "duration": 11,
    "start_time": "2022-02-28T12:29:21.933Z"
   },
   {
    "duration": 37,
    "start_time": "2022-02-28T12:29:21.946Z"
   },
   {
    "duration": 10,
    "start_time": "2022-02-28T12:29:21.986Z"
   },
   {
    "duration": 15,
    "start_time": "2022-02-28T12:29:21.998Z"
   },
   {
    "duration": 5,
    "start_time": "2022-02-28T12:29:22.015Z"
   },
   {
    "duration": 7,
    "start_time": "2022-02-28T12:29:22.022Z"
   },
   {
    "duration": 50,
    "start_time": "2022-02-28T12:29:22.030Z"
   },
   {
    "duration": 26,
    "start_time": "2022-02-28T12:46:13.740Z"
   },
   {
    "duration": 7,
    "start_time": "2022-02-28T12:46:17.569Z"
   },
   {
    "duration": 40,
    "start_time": "2022-02-28T12:48:04.494Z"
   },
   {
    "duration": 39,
    "start_time": "2022-02-28T12:48:21.505Z"
   },
   {
    "duration": 40,
    "start_time": "2022-02-28T12:49:01.284Z"
   },
   {
    "duration": 8,
    "start_time": "2022-02-28T12:49:03.208Z"
   },
   {
    "duration": 166,
    "start_time": "2022-02-28T13:01:53.326Z"
   },
   {
    "duration": 203,
    "start_time": "2022-02-28T13:03:08.211Z"
   },
   {
    "duration": 8,
    "start_time": "2022-02-28T13:03:54.973Z"
   },
   {
    "duration": 278,
    "start_time": "2022-02-28T13:05:35.348Z"
   },
   {
    "duration": 91,
    "start_time": "2022-02-28T13:10:05.288Z"
   },
   {
    "duration": 25,
    "start_time": "2022-02-28T13:10:09.627Z"
   },
   {
    "duration": 638,
    "start_time": "2022-02-28T13:10:21.812Z"
   },
   {
    "duration": 143,
    "start_time": "2022-02-28T13:11:04.796Z"
   },
   {
    "duration": 150,
    "start_time": "2022-02-28T13:11:19.633Z"
   },
   {
    "duration": 148,
    "start_time": "2022-02-28T13:11:22.238Z"
   },
   {
    "duration": 7,
    "start_time": "2022-02-28T13:11:56.081Z"
   },
   {
    "duration": 318,
    "start_time": "2022-02-28T13:11:58.537Z"
   },
   {
    "duration": 5,
    "start_time": "2022-02-28T13:12:31.092Z"
   },
   {
    "duration": 57,
    "start_time": "2022-02-28T13:12:31.099Z"
   },
   {
    "duration": 10,
    "start_time": "2022-02-28T13:12:31.159Z"
   },
   {
    "duration": 28,
    "start_time": "2022-02-28T13:12:31.171Z"
   },
   {
    "duration": 15,
    "start_time": "2022-02-28T13:12:31.201Z"
   },
   {
    "duration": 16,
    "start_time": "2022-02-28T13:12:31.217Z"
   },
   {
    "duration": 18,
    "start_time": "2022-02-28T13:12:31.234Z"
   },
   {
    "duration": 16,
    "start_time": "2022-02-28T13:12:31.254Z"
   },
   {
    "duration": 28,
    "start_time": "2022-02-28T13:12:31.272Z"
   },
   {
    "duration": 6,
    "start_time": "2022-02-28T13:12:31.302Z"
   },
   {
    "duration": 10,
    "start_time": "2022-02-28T13:12:31.310Z"
   },
   {
    "duration": 37,
    "start_time": "2022-02-28T13:12:31.322Z"
   },
   {
    "duration": 8,
    "start_time": "2022-02-28T13:12:31.360Z"
   },
   {
    "duration": 46,
    "start_time": "2022-02-28T13:12:31.370Z"
   },
   {
    "duration": 866,
    "start_time": "2022-02-28T13:12:31.418Z"
   },
   {
    "duration": 173,
    "start_time": "2022-02-28T13:12:32.288Z"
   },
   {
    "duration": 182,
    "start_time": "2022-02-28T13:12:32.463Z"
   },
   {
    "duration": 191,
    "start_time": "2022-02-28T13:12:32.647Z"
   },
   {
    "duration": 8,
    "start_time": "2022-02-28T13:12:32.840Z"
   },
   {
    "duration": 13,
    "start_time": "2022-02-28T13:12:32.849Z"
   },
   {
    "duration": 6,
    "start_time": "2022-02-28T13:13:27.610Z"
   },
   {
    "duration": 6,
    "start_time": "2022-02-28T13:13:29.834Z"
   },
   {
    "duration": 76,
    "start_time": "2022-03-01T10:01:28.763Z"
   },
   {
    "duration": 321,
    "start_time": "2022-03-01T10:01:49.365Z"
   },
   {
    "duration": 239,
    "start_time": "2022-03-01T10:02:14.437Z"
   },
   {
    "duration": 1426,
    "start_time": "2022-03-01T10:02:52.653Z"
   },
   {
    "duration": 52,
    "start_time": "2022-03-01T10:02:54.081Z"
   },
   {
    "duration": 16,
    "start_time": "2022-03-01T10:02:54.136Z"
   },
   {
    "duration": 530,
    "start_time": "2022-03-01T10:02:54.154Z"
   },
   {
    "duration": 7,
    "start_time": "2022-03-01T10:02:54.687Z"
   },
   {
    "duration": 18,
    "start_time": "2022-03-01T10:02:54.696Z"
   },
   {
    "duration": 23,
    "start_time": "2022-03-01T10:02:54.716Z"
   },
   {
    "duration": 21,
    "start_time": "2022-03-01T10:02:54.743Z"
   },
   {
    "duration": 18,
    "start_time": "2022-03-01T10:02:54.767Z"
   },
   {
    "duration": 6,
    "start_time": "2022-03-01T10:02:54.787Z"
   },
   {
    "duration": 23,
    "start_time": "2022-03-01T10:02:54.796Z"
   },
   {
    "duration": 52,
    "start_time": "2022-03-01T10:02:54.822Z"
   },
   {
    "duration": 10,
    "start_time": "2022-03-01T10:02:54.877Z"
   },
   {
    "duration": 66,
    "start_time": "2022-03-01T10:02:54.890Z"
   },
   {
    "duration": 967,
    "start_time": "2022-03-01T10:02:54.959Z"
   },
   {
    "duration": 241,
    "start_time": "2022-03-01T10:02:55.928Z"
   },
   {
    "duration": 223,
    "start_time": "2022-03-01T10:02:56.171Z"
   },
   {
    "duration": 218,
    "start_time": "2022-03-01T10:02:56.396Z"
   },
   {
    "duration": 9,
    "start_time": "2022-03-01T10:02:56.617Z"
   },
   {
    "duration": 24,
    "start_time": "2022-03-01T10:02:56.628Z"
   },
   {
    "duration": 8,
    "start_time": "2022-03-01T10:02:56.655Z"
   },
   {
    "duration": 77,
    "start_time": "2022-03-01T10:02:56.665Z"
   },
   {
    "duration": 692,
    "start_time": "2022-03-01T10:02:56.052Z"
   },
   {
    "duration": 693,
    "start_time": "2022-03-01T10:02:56.053Z"
   },
   {
    "duration": 6,
    "start_time": "2022-03-01T10:04:58.266Z"
   },
   {
    "duration": 50,
    "start_time": "2022-03-01T10:04:58.274Z"
   },
   {
    "duration": 11,
    "start_time": "2022-03-01T10:04:58.327Z"
   },
   {
    "duration": 100,
    "start_time": "2022-03-01T10:04:58.352Z"
   },
   {
    "duration": 5,
    "start_time": "2022-03-01T10:04:58.455Z"
   },
   {
    "duration": 5,
    "start_time": "2022-03-01T10:04:58.463Z"
   },
   {
    "duration": 18,
    "start_time": "2022-03-01T10:04:58.471Z"
   },
   {
    "duration": 14,
    "start_time": "2022-03-01T10:04:58.492Z"
   },
   {
    "duration": 16,
    "start_time": "2022-03-01T10:04:58.550Z"
   },
   {
    "duration": 5,
    "start_time": "2022-03-01T10:04:58.568Z"
   },
   {
    "duration": 4,
    "start_time": "2022-03-01T10:04:58.575Z"
   },
   {
    "duration": 38,
    "start_time": "2022-03-01T10:04:58.581Z"
   },
   {
    "duration": 12,
    "start_time": "2022-03-01T10:04:58.652Z"
   },
   {
    "duration": 90,
    "start_time": "2022-03-01T10:04:58.666Z"
   },
   {
    "duration": 1021,
    "start_time": "2022-03-01T10:04:58.759Z"
   },
   {
    "duration": 240,
    "start_time": "2022-03-01T10:04:59.783Z"
   },
   {
    "duration": 225,
    "start_time": "2022-03-01T10:05:00.026Z"
   },
   {
    "duration": 232,
    "start_time": "2022-03-01T10:05:00.253Z"
   },
   {
    "duration": 9,
    "start_time": "2022-03-01T10:05:00.487Z"
   },
   {
    "duration": 13,
    "start_time": "2022-03-01T10:05:00.498Z"
   },
   {
    "duration": 9,
    "start_time": "2022-03-01T10:05:00.513Z"
   },
   {
    "duration": 132,
    "start_time": "2022-03-01T10:05:00.524Z"
   },
   {
    "duration": 962,
    "start_time": "2022-03-01T10:05:00.659Z"
   },
   {
    "duration": 12023,
    "start_time": "2022-03-01T10:17:00.643Z"
   },
   {
    "duration": 5,
    "start_time": "2022-03-01T10:17:59.193Z"
   },
   {
    "duration": 51,
    "start_time": "2022-03-01T10:17:59.202Z"
   },
   {
    "duration": 12,
    "start_time": "2022-03-01T10:17:59.257Z"
   },
   {
    "duration": 23,
    "start_time": "2022-03-01T10:17:59.272Z"
   },
   {
    "duration": 5,
    "start_time": "2022-03-01T10:17:59.297Z"
   },
   {
    "duration": 21,
    "start_time": "2022-03-01T10:17:59.305Z"
   },
   {
    "duration": 38,
    "start_time": "2022-03-01T10:17:59.328Z"
   },
   {
    "duration": 15,
    "start_time": "2022-03-01T10:17:59.370Z"
   },
   {
    "duration": 15,
    "start_time": "2022-03-01T10:17:59.389Z"
   },
   {
    "duration": 5,
    "start_time": "2022-03-01T10:17:59.407Z"
   },
   {
    "duration": 38,
    "start_time": "2022-03-01T10:17:59.415Z"
   },
   {
    "duration": 37,
    "start_time": "2022-03-01T10:17:59.456Z"
   },
   {
    "duration": 10,
    "start_time": "2022-03-01T10:17:59.495Z"
   },
   {
    "duration": 146,
    "start_time": "2022-03-01T10:17:59.508Z"
   },
   {
    "duration": 11535,
    "start_time": "2022-03-01T10:17:59.658Z"
   },
   {
    "duration": 235,
    "start_time": "2022-03-01T10:18:11.195Z"
   },
   {
    "duration": 222,
    "start_time": "2022-03-01T10:18:11.432Z"
   },
   {
    "duration": 229,
    "start_time": "2022-03-01T10:18:11.656Z"
   },
   {
    "duration": 9,
    "start_time": "2022-03-01T10:18:11.888Z"
   },
   {
    "duration": 8,
    "start_time": "2022-03-01T10:18:11.900Z"
   },
   {
    "duration": 40,
    "start_time": "2022-03-01T10:18:11.911Z"
   },
   {
    "duration": 99,
    "start_time": "2022-03-01T10:18:11.954Z"
   },
   {
    "duration": 872,
    "start_time": "2022-03-01T10:18:12.059Z"
   },
   {
    "duration": 7,
    "start_time": "2022-03-01T10:20:35.340Z"
   },
   {
    "duration": 63,
    "start_time": "2022-03-01T10:20:35.350Z"
   },
   {
    "duration": 14,
    "start_time": "2022-03-01T10:20:35.416Z"
   },
   {
    "duration": 38,
    "start_time": "2022-03-01T10:20:35.433Z"
   },
   {
    "duration": 5,
    "start_time": "2022-03-01T10:20:35.474Z"
   },
   {
    "duration": 9,
    "start_time": "2022-03-01T10:20:35.482Z"
   },
   {
    "duration": 22,
    "start_time": "2022-03-01T10:20:35.493Z"
   },
   {
    "duration": 41,
    "start_time": "2022-03-01T10:20:35.519Z"
   },
   {
    "duration": 15,
    "start_time": "2022-03-01T10:20:35.563Z"
   },
   {
    "duration": 5,
    "start_time": "2022-03-01T10:20:35.580Z"
   },
   {
    "duration": 4,
    "start_time": "2022-03-01T10:20:35.588Z"
   },
   {
    "duration": 78,
    "start_time": "2022-03-01T10:20:35.594Z"
   },
   {
    "duration": 11,
    "start_time": "2022-03-01T10:20:35.674Z"
   },
   {
    "duration": 69,
    "start_time": "2022-03-01T10:20:35.687Z"
   },
   {
    "duration": 11552,
    "start_time": "2022-03-01T10:20:35.759Z"
   },
   {
    "duration": 240,
    "start_time": "2022-03-01T10:20:47.313Z"
   },
   {
    "duration": 204,
    "start_time": "2022-03-01T10:20:47.556Z"
   },
   {
    "duration": 225,
    "start_time": "2022-03-01T10:20:47.763Z"
   },
   {
    "duration": 10,
    "start_time": "2022-03-01T10:20:47.991Z"
   },
   {
    "duration": 9,
    "start_time": "2022-03-01T10:20:48.003Z"
   },
   {
    "duration": 38,
    "start_time": "2022-03-01T10:20:48.014Z"
   },
   {
    "duration": 102,
    "start_time": "2022-03-01T10:20:48.054Z"
   },
   {
    "duration": 870,
    "start_time": "2022-03-01T10:20:48.162Z"
   },
   {
    "duration": 5,
    "start_time": "2022-03-01T10:21:43.549Z"
   },
   {
    "duration": 51,
    "start_time": "2022-03-01T10:21:43.557Z"
   },
   {
    "duration": 11,
    "start_time": "2022-03-01T10:21:43.611Z"
   },
   {
    "duration": 24,
    "start_time": "2022-03-01T10:21:43.651Z"
   },
   {
    "duration": 5,
    "start_time": "2022-03-01T10:21:43.677Z"
   },
   {
    "duration": 7,
    "start_time": "2022-03-01T10:21:43.684Z"
   },
   {
    "duration": 26,
    "start_time": "2022-03-01T10:21:43.693Z"
   },
   {
    "duration": 35,
    "start_time": "2022-03-01T10:21:43.723Z"
   },
   {
    "duration": 15,
    "start_time": "2022-03-01T10:21:43.761Z"
   },
   {
    "duration": 5,
    "start_time": "2022-03-01T10:21:43.778Z"
   },
   {
    "duration": 5,
    "start_time": "2022-03-01T10:21:43.786Z"
   },
   {
    "duration": 78,
    "start_time": "2022-03-01T10:21:43.794Z"
   },
   {
    "duration": 10,
    "start_time": "2022-03-01T10:21:43.874Z"
   },
   {
    "duration": 73,
    "start_time": "2022-03-01T10:21:43.886Z"
   },
   {
    "duration": 7448,
    "start_time": "2022-03-01T10:21:43.961Z"
   },
   {
    "duration": 235,
    "start_time": "2022-03-01T10:21:51.412Z"
   },
   {
    "duration": 259,
    "start_time": "2022-03-01T10:21:51.651Z"
   },
   {
    "duration": 260,
    "start_time": "2022-03-01T10:21:51.913Z"
   },
   {
    "duration": 9,
    "start_time": "2022-03-01T10:21:52.176Z"
   },
   {
    "duration": 9,
    "start_time": "2022-03-01T10:21:52.187Z"
   },
   {
    "duration": 7,
    "start_time": "2022-03-01T10:21:52.198Z"
   },
   {
    "duration": 144,
    "start_time": "2022-03-01T10:21:52.208Z"
   },
   {
    "duration": 882,
    "start_time": "2022-03-01T10:21:52.358Z"
   },
   {
    "duration": 840,
    "start_time": "2022-03-01T10:23:42.283Z"
   },
   {
    "duration": 7,
    "start_time": "2022-03-01T10:29:52.470Z"
   },
   {
    "duration": 53,
    "start_time": "2022-03-01T10:29:52.479Z"
   },
   {
    "duration": 15,
    "start_time": "2022-03-01T10:29:52.536Z"
   },
   {
    "duration": 26,
    "start_time": "2022-03-01T10:29:52.554Z"
   },
   {
    "duration": 6,
    "start_time": "2022-03-01T10:29:52.584Z"
   },
   {
    "duration": 7,
    "start_time": "2022-03-01T10:29:52.594Z"
   },
   {
    "duration": 67,
    "start_time": "2022-03-01T10:29:52.604Z"
   },
   {
    "duration": 16,
    "start_time": "2022-03-01T10:29:52.673Z"
   },
   {
    "duration": 16,
    "start_time": "2022-03-01T10:29:52.696Z"
   },
   {
    "duration": 40,
    "start_time": "2022-03-01T10:29:52.715Z"
   },
   {
    "duration": 4,
    "start_time": "2022-03-01T10:29:52.758Z"
   },
   {
    "duration": 39,
    "start_time": "2022-03-01T10:29:52.766Z"
   },
   {
    "duration": 52,
    "start_time": "2022-03-01T10:29:52.808Z"
   },
   {
    "duration": 93,
    "start_time": "2022-03-01T10:29:52.863Z"
   },
   {
    "duration": 7507,
    "start_time": "2022-03-01T10:29:52.959Z"
   },
   {
    "duration": 254,
    "start_time": "2022-03-01T10:30:00.469Z"
   },
   {
    "duration": 304,
    "start_time": "2022-03-01T10:30:00.725Z"
   },
   {
    "duration": 238,
    "start_time": "2022-03-01T10:30:01.031Z"
   },
   {
    "duration": 9,
    "start_time": "2022-03-01T10:30:01.271Z"
   },
   {
    "duration": 24,
    "start_time": "2022-03-01T10:30:01.282Z"
   },
   {
    "duration": 17,
    "start_time": "2022-03-01T10:30:01.308Z"
   },
   {
    "duration": 223,
    "start_time": "2022-03-01T10:30:01.328Z"
   },
   {
    "duration": 1061,
    "start_time": "2022-03-01T10:30:01.555Z"
   },
   {
    "duration": 33,
    "start_time": "2022-03-01T10:30:02.618Z"
   },
   {
    "duration": 17,
    "start_time": "2022-03-01T10:30:43.263Z"
   },
   {
    "duration": 359,
    "start_time": "2022-03-01T10:31:37.358Z"
   },
   {
    "duration": 365,
    "start_time": "2022-03-01T10:31:46.875Z"
   },
   {
    "duration": 6,
    "start_time": "2022-03-01T10:35:51.117Z"
   },
   {
    "duration": 52,
    "start_time": "2022-03-01T10:35:51.126Z"
   },
   {
    "duration": 11,
    "start_time": "2022-03-01T10:35:51.181Z"
   },
   {
    "duration": 24,
    "start_time": "2022-03-01T10:35:51.195Z"
   },
   {
    "duration": 6,
    "start_time": "2022-03-01T10:35:51.250Z"
   },
   {
    "duration": 6,
    "start_time": "2022-03-01T10:35:51.258Z"
   },
   {
    "duration": 19,
    "start_time": "2022-03-01T10:35:51.267Z"
   },
   {
    "duration": 14,
    "start_time": "2022-03-01T10:35:51.289Z"
   },
   {
    "duration": 51,
    "start_time": "2022-03-01T10:35:51.306Z"
   },
   {
    "duration": 5,
    "start_time": "2022-03-01T10:35:51.359Z"
   },
   {
    "duration": 4,
    "start_time": "2022-03-01T10:35:51.366Z"
   },
   {
    "duration": 36,
    "start_time": "2022-03-01T10:35:51.372Z"
   },
   {
    "duration": 10,
    "start_time": "2022-03-01T10:35:51.410Z"
   },
   {
    "duration": 104,
    "start_time": "2022-03-01T10:35:51.452Z"
   },
   {
    "duration": 7395,
    "start_time": "2022-03-01T10:35:51.559Z"
   },
   {
    "duration": 235,
    "start_time": "2022-03-01T10:35:58.957Z"
   },
   {
    "duration": 220,
    "start_time": "2022-03-01T10:35:59.195Z"
   },
   {
    "duration": 207,
    "start_time": "2022-03-01T10:35:59.417Z"
   },
   {
    "duration": 9,
    "start_time": "2022-03-01T10:35:59.627Z"
   },
   {
    "duration": 8,
    "start_time": "2022-03-01T10:35:59.652Z"
   },
   {
    "duration": 10,
    "start_time": "2022-03-01T10:35:59.662Z"
   },
   {
    "duration": 83,
    "start_time": "2022-03-01T10:35:59.674Z"
   },
   {
    "duration": 836,
    "start_time": "2022-03-01T10:35:59.850Z"
   },
   {
    "duration": 18,
    "start_time": "2022-03-01T10:36:00.689Z"
   },
   {
    "duration": 386,
    "start_time": "2022-03-01T10:36:00.709Z"
   },
   {
    "duration": 902,
    "start_time": "2022-03-01T10:36:01.098Z"
   },
   {
    "duration": 7081,
    "start_time": "2022-03-01T11:25:11.765Z"
   },
   {
    "duration": 6400,
    "start_time": "2022-03-01T11:27:40.659Z"
   },
   {
    "duration": 6,
    "start_time": "2022-03-01T11:28:06.302Z"
   },
   {
    "duration": 56,
    "start_time": "2022-03-01T11:28:06.311Z"
   },
   {
    "duration": 11,
    "start_time": "2022-03-01T11:28:06.370Z"
   },
   {
    "duration": 23,
    "start_time": "2022-03-01T11:28:06.384Z"
   },
   {
    "duration": 5,
    "start_time": "2022-03-01T11:28:06.409Z"
   },
   {
    "duration": 35,
    "start_time": "2022-03-01T11:28:06.416Z"
   },
   {
    "duration": 25,
    "start_time": "2022-03-01T11:28:06.454Z"
   },
   {
    "duration": 15,
    "start_time": "2022-03-01T11:28:06.481Z"
   },
   {
    "duration": 15,
    "start_time": "2022-03-01T11:28:06.500Z"
   },
   {
    "duration": 37,
    "start_time": "2022-03-01T11:28:06.518Z"
   },
   {
    "duration": 5,
    "start_time": "2022-03-01T11:28:06.557Z"
   },
   {
    "duration": 38,
    "start_time": "2022-03-01T11:28:06.565Z"
   },
   {
    "duration": 10,
    "start_time": "2022-03-01T11:28:06.606Z"
   },
   {
    "duration": 134,
    "start_time": "2022-03-01T11:28:06.618Z"
   },
   {
    "duration": 175325,
    "start_time": "2022-03-01T11:28:06.757Z"
   },
   {
    "duration": 243,
    "start_time": "2022-03-01T11:31:02.085Z"
   },
   {
    "duration": 225,
    "start_time": "2022-03-01T11:31:02.330Z"
   },
   {
    "duration": 234,
    "start_time": "2022-03-01T11:31:02.557Z"
   },
   {
    "duration": -18,
    "start_time": "2022-03-01T11:31:02.812Z"
   },
   {
    "duration": -17,
    "start_time": "2022-03-01T11:31:02.813Z"
   },
   {
    "duration": -18,
    "start_time": "2022-03-01T11:31:02.816Z"
   },
   {
    "duration": -17,
    "start_time": "2022-03-01T11:31:02.817Z"
   },
   {
    "duration": -23,
    "start_time": "2022-03-01T11:31:02.826Z"
   },
   {
    "duration": -22,
    "start_time": "2022-03-01T11:31:02.827Z"
   },
   {
    "duration": -21,
    "start_time": "2022-03-01T11:31:02.828Z"
   },
   {
    "duration": -20,
    "start_time": "2022-03-01T11:31:02.829Z"
   },
   {
    "duration": 503,
    "start_time": "2022-03-01T11:42:24.229Z"
   },
   {
    "duration": 6,
    "start_time": "2022-03-01T11:42:55.759Z"
   },
   {
    "duration": 58,
    "start_time": "2022-03-01T11:42:55.768Z"
   },
   {
    "duration": 25,
    "start_time": "2022-03-01T11:42:55.830Z"
   },
   {
    "duration": 27,
    "start_time": "2022-03-01T11:42:55.858Z"
   },
   {
    "duration": 6,
    "start_time": "2022-03-01T11:42:55.888Z"
   },
   {
    "duration": 8,
    "start_time": "2022-03-01T11:42:55.897Z"
   },
   {
    "duration": 64,
    "start_time": "2022-03-01T11:42:55.907Z"
   },
   {
    "duration": 16,
    "start_time": "2022-03-01T11:42:55.976Z"
   },
   {
    "duration": 17,
    "start_time": "2022-03-01T11:42:55.996Z"
   },
   {
    "duration": 39,
    "start_time": "2022-03-01T11:42:56.016Z"
   },
   {
    "duration": 5,
    "start_time": "2022-03-01T11:42:56.058Z"
   },
   {
    "duration": 37,
    "start_time": "2022-03-01T11:42:56.065Z"
   },
   {
    "duration": 46,
    "start_time": "2022-03-01T11:42:56.105Z"
   },
   {
    "duration": 102,
    "start_time": "2022-03-01T11:42:56.154Z"
   },
   {
    "duration": 175304,
    "start_time": "2022-03-01T11:42:56.259Z"
   },
   {
    "duration": 263,
    "start_time": "2022-03-01T11:45:51.565Z"
   },
   {
    "duration": 278,
    "start_time": "2022-03-01T11:45:51.831Z"
   },
   {
    "duration": 217,
    "start_time": "2022-03-01T11:45:52.111Z"
   },
   {
    "duration": 8,
    "start_time": "2022-03-01T11:45:52.323Z"
   },
   {
    "duration": 8,
    "start_time": "2022-03-01T11:45:52.324Z"
   },
   {
    "duration": 6,
    "start_time": "2022-03-01T11:45:52.327Z"
   },
   {
    "duration": 7,
    "start_time": "2022-03-01T11:45:52.328Z"
   },
   {
    "duration": 7,
    "start_time": "2022-03-01T11:45:52.329Z"
   },
   {
    "duration": 5,
    "start_time": "2022-03-01T11:45:52.333Z"
   },
   {
    "duration": 4,
    "start_time": "2022-03-01T11:45:52.335Z"
   },
   {
    "duration": 2,
    "start_time": "2022-03-01T11:45:52.338Z"
   },
   {
    "duration": 6,
    "start_time": "2022-03-01T11:48:08.126Z"
   },
   {
    "duration": 46,
    "start_time": "2022-03-01T11:48:08.135Z"
   },
   {
    "duration": 11,
    "start_time": "2022-03-01T11:48:08.185Z"
   },
   {
    "duration": 23,
    "start_time": "2022-03-01T11:48:08.199Z"
   },
   {
    "duration": 7,
    "start_time": "2022-03-01T11:48:08.252Z"
   },
   {
    "duration": 7,
    "start_time": "2022-03-01T11:48:08.262Z"
   },
   {
    "duration": 22,
    "start_time": "2022-03-01T11:48:08.272Z"
   },
   {
    "duration": 15,
    "start_time": "2022-03-01T11:48:08.299Z"
   },
   {
    "duration": 17,
    "start_time": "2022-03-01T11:48:08.353Z"
   },
   {
    "duration": 6,
    "start_time": "2022-03-01T11:48:08.372Z"
   },
   {
    "duration": 4,
    "start_time": "2022-03-01T11:48:08.381Z"
   },
   {
    "duration": 87,
    "start_time": "2022-03-01T11:48:08.388Z"
   },
   {
    "duration": 13,
    "start_time": "2022-03-01T11:48:08.478Z"
   },
   {
    "duration": 66,
    "start_time": "2022-03-01T11:48:08.493Z"
   },
   {
    "duration": 44536,
    "start_time": "2022-03-01T11:48:08.653Z"
   },
   {
    "duration": 248,
    "start_time": "2022-03-01T11:48:53.192Z"
   },
   {
    "duration": 220,
    "start_time": "2022-03-01T11:48:53.443Z"
   },
   {
    "duration": 213,
    "start_time": "2022-03-01T11:48:53.666Z"
   },
   {
    "duration": -1151,
    "start_time": "2022-03-01T11:48:55.033Z"
   },
   {
    "duration": -1150,
    "start_time": "2022-03-01T11:48:55.034Z"
   },
   {
    "duration": -1150,
    "start_time": "2022-03-01T11:48:55.035Z"
   },
   {
    "duration": -1150,
    "start_time": "2022-03-01T11:48:55.036Z"
   },
   {
    "duration": -1149,
    "start_time": "2022-03-01T11:48:55.037Z"
   },
   {
    "duration": -1149,
    "start_time": "2022-03-01T11:48:55.039Z"
   },
   {
    "duration": -1149,
    "start_time": "2022-03-01T11:48:55.040Z"
   },
   {
    "duration": -1148,
    "start_time": "2022-03-01T11:48:55.041Z"
   },
   {
    "duration": 6,
    "start_time": "2022-03-01T11:52:44.253Z"
   },
   {
    "duration": 46,
    "start_time": "2022-03-01T11:52:44.263Z"
   },
   {
    "duration": 40,
    "start_time": "2022-03-01T11:52:44.313Z"
   },
   {
    "duration": 26,
    "start_time": "2022-03-01T11:52:44.356Z"
   },
   {
    "duration": 5,
    "start_time": "2022-03-01T11:52:44.384Z"
   },
   {
    "duration": 5,
    "start_time": "2022-03-01T11:52:44.392Z"
   },
   {
    "duration": 62,
    "start_time": "2022-03-01T11:52:44.399Z"
   },
   {
    "duration": 16,
    "start_time": "2022-03-01T11:52:44.464Z"
   },
   {
    "duration": 17,
    "start_time": "2022-03-01T11:52:44.483Z"
   },
   {
    "duration": 5,
    "start_time": "2022-03-01T11:52:44.504Z"
   },
   {
    "duration": 7,
    "start_time": "2022-03-01T11:52:44.512Z"
   },
   {
    "duration": 40,
    "start_time": "2022-03-01T11:52:44.552Z"
   },
   {
    "duration": 10,
    "start_time": "2022-03-01T11:52:44.595Z"
   },
   {
    "duration": 143,
    "start_time": "2022-03-01T11:52:44.608Z"
   },
   {
    "duration": 44955,
    "start_time": "2022-03-01T11:52:44.755Z"
   },
   {
    "duration": 240,
    "start_time": "2022-03-01T11:53:29.713Z"
   },
   {
    "duration": 219,
    "start_time": "2022-03-01T11:53:29.955Z"
   },
   {
    "duration": 235,
    "start_time": "2022-03-01T11:53:30.176Z"
   },
   {
    "duration": 20,
    "start_time": "2022-03-01T11:53:30.394Z"
   },
   {
    "duration": 18,
    "start_time": "2022-03-01T11:53:30.398Z"
   },
   {
    "duration": 17,
    "start_time": "2022-03-01T11:53:30.401Z"
   },
   {
    "duration": 18,
    "start_time": "2022-03-01T11:53:30.402Z"
   },
   {
    "duration": 14,
    "start_time": "2022-03-01T11:53:30.408Z"
   },
   {
    "duration": 15,
    "start_time": "2022-03-01T11:53:30.409Z"
   },
   {
    "duration": 18,
    "start_time": "2022-03-01T11:53:30.410Z"
   },
   {
    "duration": 16,
    "start_time": "2022-03-01T11:53:30.414Z"
   },
   {
    "duration": 1153,
    "start_time": "2022-03-02T07:48:48.638Z"
   },
   {
    "duration": 40,
    "start_time": "2022-03-02T07:48:49.793Z"
   },
   {
    "duration": 7,
    "start_time": "2022-03-02T07:48:49.835Z"
   },
   {
    "duration": 374,
    "start_time": "2022-03-02T07:48:49.844Z"
   },
   {
    "duration": 6,
    "start_time": "2022-03-02T07:48:50.220Z"
   },
   {
    "duration": 8,
    "start_time": "2022-03-02T07:48:50.228Z"
   },
   {
    "duration": 26,
    "start_time": "2022-03-02T07:48:50.238Z"
   },
   {
    "duration": 11,
    "start_time": "2022-03-02T07:48:50.267Z"
   },
   {
    "duration": 17,
    "start_time": "2022-03-02T07:48:50.280Z"
   },
   {
    "duration": 5,
    "start_time": "2022-03-02T07:48:50.298Z"
   },
   {
    "duration": 7,
    "start_time": "2022-03-02T07:48:50.304Z"
   },
   {
    "duration": 31,
    "start_time": "2022-03-02T07:48:50.312Z"
   },
   {
    "duration": 23,
    "start_time": "2022-03-02T07:48:50.344Z"
   },
   {
    "duration": 31,
    "start_time": "2022-03-02T07:48:50.369Z"
   },
   {
    "duration": 30252,
    "start_time": "2022-03-02T07:48:50.464Z"
   },
   {
    "duration": 141,
    "start_time": "2022-03-02T07:49:20.718Z"
   },
   {
    "duration": 214,
    "start_time": "2022-03-02T07:49:20.860Z"
   },
   {
    "duration": 303,
    "start_time": "2022-03-02T07:49:21.076Z"
   },
   {
    "duration": 454,
    "start_time": "2022-03-02T07:49:20.927Z"
   },
   {
    "duration": 454,
    "start_time": "2022-03-02T07:49:20.928Z"
   },
   {
    "duration": 454,
    "start_time": "2022-03-02T07:49:20.929Z"
   },
   {
    "duration": 453,
    "start_time": "2022-03-02T07:49:20.931Z"
   },
   {
    "duration": 453,
    "start_time": "2022-03-02T07:49:20.932Z"
   },
   {
    "duration": 452,
    "start_time": "2022-03-02T07:49:20.934Z"
   },
   {
    "duration": 452,
    "start_time": "2022-03-02T07:49:20.935Z"
   },
   {
    "duration": 452,
    "start_time": "2022-03-02T07:49:20.936Z"
   },
   {
    "duration": 4,
    "start_time": "2022-03-02T07:53:46.546Z"
   },
   {
    "duration": 48,
    "start_time": "2022-03-02T07:53:46.552Z"
   },
   {
    "duration": 8,
    "start_time": "2022-03-02T07:53:46.603Z"
   },
   {
    "duration": 24,
    "start_time": "2022-03-02T07:53:46.613Z"
   },
   {
    "duration": 4,
    "start_time": "2022-03-02T07:53:46.639Z"
   },
   {
    "duration": 20,
    "start_time": "2022-03-02T07:53:46.645Z"
   },
   {
    "duration": 25,
    "start_time": "2022-03-02T07:53:46.667Z"
   },
   {
    "duration": 15,
    "start_time": "2022-03-02T07:53:46.696Z"
   },
   {
    "duration": 15,
    "start_time": "2022-03-02T07:53:46.713Z"
   },
   {
    "duration": 3,
    "start_time": "2022-03-02T07:53:46.730Z"
   },
   {
    "duration": 5,
    "start_time": "2022-03-02T07:53:46.735Z"
   },
   {
    "duration": 25,
    "start_time": "2022-03-02T07:53:46.762Z"
   },
   {
    "duration": 7,
    "start_time": "2022-03-02T07:53:46.789Z"
   },
   {
    "duration": 71,
    "start_time": "2022-03-02T07:53:46.797Z"
   },
   {
    "duration": 30836,
    "start_time": "2022-03-02T07:53:46.870Z"
   },
   {
    "duration": 144,
    "start_time": "2022-03-02T07:54:17.708Z"
   },
   {
    "duration": 138,
    "start_time": "2022-03-02T07:54:17.854Z"
   },
   {
    "duration": 3,
    "start_time": "2022-03-02T07:54:17.993Z"
   },
   {
    "duration": 9,
    "start_time": "2022-03-02T07:54:17.997Z"
   },
   {
    "duration": 7,
    "start_time": "2022-03-02T07:54:18.008Z"
   },
   {
    "duration": 5,
    "start_time": "2022-03-02T07:54:18.016Z"
   },
   {
    "duration": 140,
    "start_time": "2022-03-02T07:54:18.023Z"
   },
   {
    "duration": 684,
    "start_time": "2022-03-02T07:54:18.167Z"
   },
   {
    "duration": 13,
    "start_time": "2022-03-02T07:54:18.853Z"
   },
   {
    "duration": 258,
    "start_time": "2022-03-02T07:54:18.868Z"
   },
   {
    "duration": 785,
    "start_time": "2022-03-02T07:54:19.128Z"
   },
   {
    "duration": 25,
    "start_time": "2022-03-02T08:11:50.111Z"
   },
   {
    "duration": 757,
    "start_time": "2022-03-02T08:12:19.283Z"
   },
   {
    "duration": 351,
    "start_time": "2022-03-02T08:13:20.460Z"
   },
   {
    "duration": 136,
    "start_time": "2022-03-02T08:13:34.252Z"
   },
   {
    "duration": 3,
    "start_time": "2022-03-02T08:13:41.838Z"
   },
   {
    "duration": 35,
    "start_time": "2022-03-02T08:13:41.843Z"
   },
   {
    "duration": 8,
    "start_time": "2022-03-02T08:13:41.880Z"
   },
   {
    "duration": 17,
    "start_time": "2022-03-02T08:13:41.889Z"
   },
   {
    "duration": 4,
    "start_time": "2022-03-02T08:13:41.907Z"
   },
   {
    "duration": 6,
    "start_time": "2022-03-02T08:13:41.913Z"
   },
   {
    "duration": 14,
    "start_time": "2022-03-02T08:13:41.921Z"
   },
   {
    "duration": 35,
    "start_time": "2022-03-02T08:13:41.937Z"
   },
   {
    "duration": 13,
    "start_time": "2022-03-02T08:13:41.974Z"
   },
   {
    "duration": 4,
    "start_time": "2022-03-02T08:13:41.988Z"
   },
   {
    "duration": 4,
    "start_time": "2022-03-02T08:13:41.994Z"
   },
   {
    "duration": 28,
    "start_time": "2022-03-02T08:13:42.000Z"
   },
   {
    "duration": 40,
    "start_time": "2022-03-02T08:13:42.030Z"
   },
   {
    "duration": 97,
    "start_time": "2022-03-02T08:13:42.072Z"
   },
   {
    "duration": 213,
    "start_time": "2022-03-02T08:13:42.171Z"
   },
   {
    "duration": 314,
    "start_time": "2022-03-02T08:13:42.388Z"
   },
   {
    "duration": 201,
    "start_time": "2022-03-02T08:13:42.704Z"
   },
   {
    "duration": 269,
    "start_time": "2022-03-02T08:13:42.638Z"
   },
   {
    "duration": 267,
    "start_time": "2022-03-02T08:13:42.641Z"
   },
   {
    "duration": 265,
    "start_time": "2022-03-02T08:13:42.644Z"
   },
   {
    "duration": 264,
    "start_time": "2022-03-02T08:13:42.646Z"
   },
   {
    "duration": 264,
    "start_time": "2022-03-02T08:13:42.647Z"
   },
   {
    "duration": 264,
    "start_time": "2022-03-02T08:13:42.648Z"
   },
   {
    "duration": 263,
    "start_time": "2022-03-02T08:13:42.650Z"
   },
   {
    "duration": 263,
    "start_time": "2022-03-02T08:13:42.651Z"
   },
   {
    "duration": 263,
    "start_time": "2022-03-02T08:13:42.652Z"
   },
   {
    "duration": 263,
    "start_time": "2022-03-02T08:13:42.653Z"
   },
   {
    "duration": 5,
    "start_time": "2022-03-02T08:27:10.496Z"
   },
   {
    "duration": 38,
    "start_time": "2022-03-02T08:27:10.502Z"
   },
   {
    "duration": 8,
    "start_time": "2022-03-02T08:27:10.542Z"
   },
   {
    "duration": 15,
    "start_time": "2022-03-02T08:27:10.552Z"
   },
   {
    "duration": 4,
    "start_time": "2022-03-02T08:27:10.569Z"
   },
   {
    "duration": 10,
    "start_time": "2022-03-02T08:27:10.575Z"
   },
   {
    "duration": 16,
    "start_time": "2022-03-02T08:27:10.587Z"
   },
   {
    "duration": 10,
    "start_time": "2022-03-02T08:27:10.605Z"
   },
   {
    "duration": 11,
    "start_time": "2022-03-02T08:27:10.617Z"
   },
   {
    "duration": 3,
    "start_time": "2022-03-02T08:27:10.630Z"
   },
   {
    "duration": 4,
    "start_time": "2022-03-02T08:27:10.635Z"
   },
   {
    "duration": 28,
    "start_time": "2022-03-02T08:27:10.663Z"
   },
   {
    "duration": 7,
    "start_time": "2022-03-02T08:27:10.693Z"
   },
   {
    "duration": 67,
    "start_time": "2022-03-02T08:27:10.701Z"
   },
   {
    "duration": 298,
    "start_time": "2022-03-02T08:27:10.769Z"
   },
   {
    "duration": 318,
    "start_time": "2022-03-02T08:27:11.069Z"
   },
   {
    "duration": 222,
    "start_time": "2022-03-02T08:27:11.389Z"
   },
   {
    "duration": 238,
    "start_time": "2022-03-02T08:27:11.375Z"
   },
   {
    "duration": 238,
    "start_time": "2022-03-02T08:27:11.377Z"
   },
   {
    "duration": 238,
    "start_time": "2022-03-02T08:27:11.378Z"
   },
   {
    "duration": 238,
    "start_time": "2022-03-02T08:27:11.380Z"
   },
   {
    "duration": 238,
    "start_time": "2022-03-02T08:27:11.381Z"
   },
   {
    "duration": 237,
    "start_time": "2022-03-02T08:27:11.383Z"
   },
   {
    "duration": 238,
    "start_time": "2022-03-02T08:27:11.384Z"
   },
   {
    "duration": 237,
    "start_time": "2022-03-02T08:27:11.386Z"
   },
   {
    "duration": 237,
    "start_time": "2022-03-02T08:27:11.388Z"
   },
   {
    "duration": 237,
    "start_time": "2022-03-02T08:27:11.389Z"
   },
   {
    "duration": 240,
    "start_time": "2022-03-02T08:29:52.572Z"
   },
   {
    "duration": 22,
    "start_time": "2022-03-02T08:30:49.793Z"
   },
   {
    "duration": 112,
    "start_time": "2022-03-02T08:30:59.119Z"
   },
   {
    "duration": 136,
    "start_time": "2022-03-02T08:31:36.431Z"
   },
   {
    "duration": 136,
    "start_time": "2022-03-02T08:31:45.982Z"
   },
   {
    "duration": 200,
    "start_time": "2022-03-02T08:31:47.612Z"
   },
   {
    "duration": 25,
    "start_time": "2022-03-02T08:32:37.846Z"
   },
   {
    "duration": 111,
    "start_time": "2022-03-02T08:32:38.563Z"
   },
   {
    "duration": 128,
    "start_time": "2022-03-02T08:32:39.212Z"
   },
   {
    "duration": 121,
    "start_time": "2022-03-02T08:32:40.999Z"
   },
   {
    "duration": 111,
    "start_time": "2022-03-02T08:33:04.665Z"
   },
   {
    "duration": 4,
    "start_time": "2022-03-02T08:33:35.237Z"
   },
   {
    "duration": 35,
    "start_time": "2022-03-02T08:33:35.243Z"
   },
   {
    "duration": 7,
    "start_time": "2022-03-02T08:33:35.280Z"
   },
   {
    "duration": 20,
    "start_time": "2022-03-02T08:33:35.289Z"
   },
   {
    "duration": 4,
    "start_time": "2022-03-02T08:33:35.311Z"
   },
   {
    "duration": 9,
    "start_time": "2022-03-02T08:33:35.316Z"
   },
   {
    "duration": 36,
    "start_time": "2022-03-02T08:33:35.327Z"
   },
   {
    "duration": 10,
    "start_time": "2022-03-02T08:33:35.365Z"
   },
   {
    "duration": 14,
    "start_time": "2022-03-02T08:33:35.377Z"
   },
   {
    "duration": 18,
    "start_time": "2022-03-02T08:33:35.392Z"
   },
   {
    "duration": 11,
    "start_time": "2022-03-02T08:33:35.412Z"
   },
   {
    "duration": 45,
    "start_time": "2022-03-02T08:33:35.424Z"
   },
   {
    "duration": 11,
    "start_time": "2022-03-02T08:33:35.471Z"
   },
   {
    "duration": 87,
    "start_time": "2022-03-02T08:33:35.484Z"
   },
   {
    "duration": 392,
    "start_time": "2022-03-02T08:33:35.573Z"
   },
   {
    "duration": 240,
    "start_time": "2022-03-02T08:33:35.968Z"
   },
   {
    "duration": 135,
    "start_time": "2022-03-02T08:33:36.210Z"
   },
   {
    "duration": 142,
    "start_time": "2022-03-02T08:33:36.347Z"
   },
   {
    "duration": 7,
    "start_time": "2022-03-02T08:33:36.492Z"
   },
   {
    "duration": 28,
    "start_time": "2022-03-02T08:33:36.501Z"
   },
   {
    "duration": 28,
    "start_time": "2022-03-02T08:33:36.531Z"
   },
   {
    "duration": 34,
    "start_time": "2022-03-02T08:33:36.561Z"
   },
   {
    "duration": 680,
    "start_time": "2022-03-02T08:33:36.664Z"
   },
   {
    "duration": 21,
    "start_time": "2022-03-02T08:33:37.346Z"
   },
   {
    "duration": 251,
    "start_time": "2022-03-02T08:33:37.369Z"
   },
   {
    "duration": 776,
    "start_time": "2022-03-02T08:33:37.622Z"
   },
   {
    "duration": 232,
    "start_time": "2022-03-02T08:33:38.168Z"
   },
   {
    "duration": 118,
    "start_time": "2022-03-02T08:49:16.165Z"
   },
   {
    "duration": 158,
    "start_time": "2022-03-02T08:49:23.664Z"
   },
   {
    "duration": 132,
    "start_time": "2022-03-02T08:49:25.332Z"
   },
   {
    "duration": 215,
    "start_time": "2022-03-02T08:49:27.352Z"
   },
   {
    "duration": 114,
    "start_time": "2022-03-02T08:49:29.300Z"
   },
   {
    "duration": 8,
    "start_time": "2022-03-02T08:49:33.674Z"
   },
   {
    "duration": 7,
    "start_time": "2022-03-02T08:49:36.195Z"
   },
   {
    "duration": 6,
    "start_time": "2022-03-02T08:49:37.249Z"
   },
   {
    "duration": 3,
    "start_time": "2022-03-02T08:49:56.742Z"
   },
   {
    "duration": 49,
    "start_time": "2022-03-02T08:49:56.747Z"
   },
   {
    "duration": 9,
    "start_time": "2022-03-02T08:49:56.798Z"
   },
   {
    "duration": 20,
    "start_time": "2022-03-02T08:49:56.808Z"
   },
   {
    "duration": 5,
    "start_time": "2022-03-02T08:49:56.829Z"
   },
   {
    "duration": 8,
    "start_time": "2022-03-02T08:49:56.835Z"
   },
   {
    "duration": 31,
    "start_time": "2022-03-02T08:49:56.845Z"
   },
   {
    "duration": 11,
    "start_time": "2022-03-02T08:49:56.879Z"
   },
   {
    "duration": 12,
    "start_time": "2022-03-02T08:49:56.892Z"
   },
   {
    "duration": 3,
    "start_time": "2022-03-02T08:49:56.906Z"
   },
   {
    "duration": 10,
    "start_time": "2022-03-02T08:49:56.911Z"
   },
   {
    "duration": 52,
    "start_time": "2022-03-02T08:49:56.923Z"
   },
   {
    "duration": 8,
    "start_time": "2022-03-02T08:49:56.977Z"
   },
   {
    "duration": 79,
    "start_time": "2022-03-02T08:49:56.986Z"
   },
   {
    "duration": 602,
    "start_time": "2022-03-02T08:49:57.068Z"
   },
   {
    "duration": 320,
    "start_time": "2022-03-02T08:49:57.673Z"
   },
   {
    "duration": 139,
    "start_time": "2022-03-02T08:49:57.994Z"
   },
   {
    "duration": 129,
    "start_time": "2022-03-02T08:49:58.135Z"
   },
   {
    "duration": 6,
    "start_time": "2022-03-02T08:49:58.266Z"
   },
   {
    "duration": 15,
    "start_time": "2022-03-02T08:49:58.274Z"
   },
   {
    "duration": 6,
    "start_time": "2022-03-02T08:49:58.291Z"
   },
   {
    "duration": 63,
    "start_time": "2022-03-02T08:49:58.299Z"
   },
   {
    "duration": 656,
    "start_time": "2022-03-02T08:49:58.366Z"
   },
   {
    "duration": 13,
    "start_time": "2022-03-02T08:49:59.023Z"
   },
   {
    "duration": 261,
    "start_time": "2022-03-02T08:49:59.038Z"
   },
   {
    "duration": 903,
    "start_time": "2022-03-02T08:49:59.300Z"
   },
   {
    "duration": 274,
    "start_time": "2022-03-02T08:49:59.932Z"
   },
   {
    "duration": 580,
    "start_time": "2022-03-02T08:59:02.277Z"
   },
   {
    "duration": 591,
    "start_time": "2022-03-02T08:59:16.246Z"
   },
   {
    "duration": 31195,
    "start_time": "2022-03-02T08:59:32.039Z"
   },
   {
    "duration": 223,
    "start_time": "2022-03-02T09:05:07.862Z"
   },
   {
    "duration": 213,
    "start_time": "2022-03-02T09:06:03.483Z"
   },
   {
    "duration": 233,
    "start_time": "2022-03-02T09:06:05.495Z"
   },
   {
    "duration": 5,
    "start_time": "2022-03-02T09:06:24.687Z"
   },
   {
    "duration": 60,
    "start_time": "2022-03-02T09:06:24.694Z"
   },
   {
    "duration": 9,
    "start_time": "2022-03-02T09:06:24.756Z"
   },
   {
    "duration": 36,
    "start_time": "2022-03-02T09:06:24.766Z"
   },
   {
    "duration": 24,
    "start_time": "2022-03-02T09:06:24.804Z"
   },
   {
    "duration": 36,
    "start_time": "2022-03-02T09:06:24.830Z"
   },
   {
    "duration": 29,
    "start_time": "2022-03-02T09:06:24.868Z"
   },
   {
    "duration": 39,
    "start_time": "2022-03-02T09:06:24.899Z"
   },
   {
    "duration": 27,
    "start_time": "2022-03-02T09:06:24.940Z"
   },
   {
    "duration": 21,
    "start_time": "2022-03-02T09:06:24.969Z"
   },
   {
    "duration": 36,
    "start_time": "2022-03-02T09:06:24.991Z"
   },
   {
    "duration": 58,
    "start_time": "2022-03-02T09:06:25.029Z"
   },
   {
    "duration": 13,
    "start_time": "2022-03-02T09:06:25.089Z"
   },
   {
    "duration": 64,
    "start_time": "2022-03-02T09:06:25.104Z"
   },
   {
    "duration": 701,
    "start_time": "2022-03-02T09:06:25.170Z"
   },
   {
    "duration": 326,
    "start_time": "2022-03-02T09:06:25.874Z"
   },
   {
    "duration": 135,
    "start_time": "2022-03-02T09:06:26.201Z"
   },
   {
    "duration": 136,
    "start_time": "2022-03-02T09:06:26.337Z"
   },
   {
    "duration": 7,
    "start_time": "2022-03-02T09:06:26.474Z"
   },
   {
    "duration": 22,
    "start_time": "2022-03-02T09:06:26.483Z"
   },
   {
    "duration": 39,
    "start_time": "2022-03-02T09:06:26.507Z"
   },
   {
    "duration": 45,
    "start_time": "2022-03-02T09:06:26.548Z"
   },
   {
    "duration": 676,
    "start_time": "2022-03-02T09:06:26.667Z"
   },
   {
    "duration": 18,
    "start_time": "2022-03-02T09:06:27.345Z"
   },
   {
    "duration": 262,
    "start_time": "2022-03-02T09:06:27.365Z"
   },
   {
    "duration": 599,
    "start_time": "2022-03-02T09:06:27.629Z"
   },
   {
    "duration": 30856,
    "start_time": "2022-03-02T09:06:28.230Z"
   },
   {
    "duration": 229,
    "start_time": "2022-03-02T09:06:59.088Z"
   },
   {
    "duration": 16,
    "start_time": "2022-03-02T09:06:59.318Z"
   },
   {
    "duration": 12,
    "start_time": "2022-03-02T11:15:21.494Z"
   },
   {
    "duration": 14,
    "start_time": "2022-03-02T11:16:26.300Z"
   },
   {
    "duration": 11,
    "start_time": "2022-03-02T11:20:00.367Z"
   },
   {
    "duration": 4,
    "start_time": "2022-03-02T11:20:46.614Z"
   },
   {
    "duration": 21,
    "start_time": "2022-03-02T11:21:31.187Z"
   },
   {
    "duration": 4,
    "start_time": "2022-03-02T11:26:31.745Z"
   },
   {
    "duration": 4,
    "start_time": "2022-03-02T11:26:35.006Z"
   },
   {
    "duration": 47,
    "start_time": "2022-03-02T11:26:35.012Z"
   },
   {
    "duration": 7,
    "start_time": "2022-03-02T11:26:35.061Z"
   },
   {
    "duration": 23,
    "start_time": "2022-03-02T11:26:35.070Z"
   },
   {
    "duration": 4,
    "start_time": "2022-03-02T11:26:35.095Z"
   },
   {
    "duration": 10,
    "start_time": "2022-03-02T11:26:35.100Z"
   },
   {
    "duration": 24,
    "start_time": "2022-03-02T11:26:35.112Z"
   },
   {
    "duration": 27,
    "start_time": "2022-03-02T11:26:35.138Z"
   },
   {
    "duration": 3,
    "start_time": "2022-03-02T11:26:35.167Z"
   },
   {
    "duration": 7,
    "start_time": "2022-03-02T11:26:35.171Z"
   },
   {
    "duration": 29,
    "start_time": "2022-03-02T11:26:35.179Z"
   },
   {
    "duration": 8,
    "start_time": "2022-03-02T11:26:35.210Z"
   },
   {
    "duration": 142,
    "start_time": "2022-03-02T11:26:35.220Z"
   },
   {
    "duration": 602,
    "start_time": "2022-03-02T11:26:35.365Z"
   },
   {
    "duration": 326,
    "start_time": "2022-03-02T11:26:35.969Z"
   },
   {
    "duration": 129,
    "start_time": "2022-03-02T11:26:36.296Z"
   },
   {
    "duration": 137,
    "start_time": "2022-03-02T11:26:36.429Z"
   },
   {
    "duration": 7,
    "start_time": "2022-03-02T11:26:36.568Z"
   },
   {
    "duration": 10,
    "start_time": "2022-03-02T11:26:36.576Z"
   },
   {
    "duration": 9,
    "start_time": "2022-03-02T11:26:36.587Z"
   },
   {
    "duration": 73,
    "start_time": "2022-03-02T11:26:36.597Z"
   },
   {
    "duration": 650,
    "start_time": "2022-03-02T11:26:36.672Z"
   },
   {
    "duration": 12,
    "start_time": "2022-03-02T11:26:37.323Z"
   },
   {
    "duration": 256,
    "start_time": "2022-03-02T11:26:37.336Z"
   },
   {
    "duration": 596,
    "start_time": "2022-03-02T11:26:37.594Z"
   },
   {
    "duration": 30271,
    "start_time": "2022-03-02T11:26:38.192Z"
   },
   {
    "duration": 228,
    "start_time": "2022-03-02T11:27:08.465Z"
   },
   {
    "duration": 17,
    "start_time": "2022-03-02T11:27:08.694Z"
   },
   {
    "duration": 22,
    "start_time": "2022-03-02T11:44:51.776Z"
   },
   {
    "duration": 85,
    "start_time": "2022-03-02T11:45:15.102Z"
   },
   {
    "duration": 11,
    "start_time": "2022-03-02T11:45:34.474Z"
   },
   {
    "duration": 6,
    "start_time": "2022-03-02T11:46:00.773Z"
   },
   {
    "duration": 10,
    "start_time": "2022-03-02T11:46:45.495Z"
   },
   {
    "duration": 3,
    "start_time": "2022-03-02T11:46:46.044Z"
   },
   {
    "duration": 4,
    "start_time": "2022-03-02T11:47:00.381Z"
   },
   {
    "duration": 60,
    "start_time": "2022-03-02T11:47:00.387Z"
   },
   {
    "duration": 10,
    "start_time": "2022-03-02T11:47:00.450Z"
   },
   {
    "duration": 22,
    "start_time": "2022-03-02T11:47:00.463Z"
   },
   {
    "duration": 4,
    "start_time": "2022-03-02T11:47:00.487Z"
   },
   {
    "duration": 11,
    "start_time": "2022-03-02T11:47:00.493Z"
   },
   {
    "duration": 28,
    "start_time": "2022-03-02T11:47:00.506Z"
   },
   {
    "duration": 26,
    "start_time": "2022-03-02T11:47:00.537Z"
   },
   {
    "duration": 107,
    "start_time": "2022-03-02T11:47:00.566Z"
   },
   {
    "duration": 384,
    "start_time": "2022-03-02T11:47:00.292Z"
   },
   {
    "duration": 384,
    "start_time": "2022-03-02T11:47:00.293Z"
   },
   {
    "duration": 383,
    "start_time": "2022-03-02T11:47:00.295Z"
   },
   {
    "duration": 373,
    "start_time": "2022-03-02T11:47:00.306Z"
   },
   {
    "duration": 371,
    "start_time": "2022-03-02T11:47:00.309Z"
   },
   {
    "duration": 370,
    "start_time": "2022-03-02T11:47:00.311Z"
   },
   {
    "duration": 369,
    "start_time": "2022-03-02T11:47:00.313Z"
   },
   {
    "duration": 368,
    "start_time": "2022-03-02T11:47:00.315Z"
   },
   {
    "duration": 367,
    "start_time": "2022-03-02T11:47:00.317Z"
   },
   {
    "duration": 366,
    "start_time": "2022-03-02T11:47:00.319Z"
   },
   {
    "duration": 365,
    "start_time": "2022-03-02T11:47:00.321Z"
   },
   {
    "duration": 363,
    "start_time": "2022-03-02T11:47:00.324Z"
   },
   {
    "duration": 363,
    "start_time": "2022-03-02T11:47:00.325Z"
   },
   {
    "duration": 361,
    "start_time": "2022-03-02T11:47:00.328Z"
   },
   {
    "duration": 361,
    "start_time": "2022-03-02T11:47:00.329Z"
   },
   {
    "duration": 362,
    "start_time": "2022-03-02T11:47:00.330Z"
   },
   {
    "duration": 356,
    "start_time": "2022-03-02T11:47:00.337Z"
   },
   {
    "duration": 356,
    "start_time": "2022-03-02T11:47:00.338Z"
   },
   {
    "duration": 355,
    "start_time": "2022-03-02T11:47:00.340Z"
   },
   {
    "duration": 355,
    "start_time": "2022-03-02T11:47:00.341Z"
   },
   {
    "duration": 354,
    "start_time": "2022-03-02T11:47:00.343Z"
   },
   {
    "duration": 4,
    "start_time": "2022-03-02T11:47:57.611Z"
   },
   {
    "duration": 37,
    "start_time": "2022-03-02T11:47:57.617Z"
   },
   {
    "duration": 9,
    "start_time": "2022-03-02T11:47:57.656Z"
   },
   {
    "duration": 15,
    "start_time": "2022-03-02T11:47:57.668Z"
   },
   {
    "duration": 5,
    "start_time": "2022-03-02T11:47:57.685Z"
   },
   {
    "duration": 9,
    "start_time": "2022-03-02T11:47:57.692Z"
   },
   {
    "duration": 24,
    "start_time": "2022-03-02T11:47:57.703Z"
   },
   {
    "duration": 7,
    "start_time": "2022-03-02T11:47:57.762Z"
   },
   {
    "duration": 10,
    "start_time": "2022-03-02T11:47:57.771Z"
   },
   {
    "duration": 4,
    "start_time": "2022-03-02T11:47:57.782Z"
   },
   {
    "duration": 5,
    "start_time": "2022-03-02T11:47:57.788Z"
   },
   {
    "duration": 27,
    "start_time": "2022-03-02T11:47:57.794Z"
   },
   {
    "duration": 42,
    "start_time": "2022-03-02T11:47:57.823Z"
   },
   {
    "duration": 98,
    "start_time": "2022-03-02T11:47:57.867Z"
   },
   {
    "duration": 546,
    "start_time": "2022-03-02T11:47:57.967Z"
   },
   {
    "duration": 237,
    "start_time": "2022-03-02T11:47:58.564Z"
   },
   {
    "duration": 133,
    "start_time": "2022-03-02T11:47:58.803Z"
   },
   {
    "duration": 131,
    "start_time": "2022-03-02T11:47:58.938Z"
   },
   {
    "duration": 8,
    "start_time": "2022-03-02T11:47:59.071Z"
   },
   {
    "duration": 9,
    "start_time": "2022-03-02T11:47:59.081Z"
   },
   {
    "duration": 7,
    "start_time": "2022-03-02T11:47:59.091Z"
   },
   {
    "duration": 72,
    "start_time": "2022-03-02T11:47:59.100Z"
   },
   {
    "duration": 590,
    "start_time": "2022-03-02T11:47:59.176Z"
   },
   {
    "duration": 12,
    "start_time": "2022-03-02T11:47:59.768Z"
   },
   {
    "duration": 239,
    "start_time": "2022-03-02T11:47:59.781Z"
   },
   {
    "duration": 657,
    "start_time": "2022-03-02T11:48:00.021Z"
   },
   {
    "duration": 27907,
    "start_time": "2022-03-02T11:48:00.680Z"
   },
   {
    "duration": 204,
    "start_time": "2022-03-02T11:48:28.589Z"
   },
   {
    "duration": 19,
    "start_time": "2022-03-02T11:48:28.795Z"
   },
   {
    "duration": 4,
    "start_time": "2022-03-02T12:08:38.963Z"
   },
   {
    "duration": 25,
    "start_time": "2022-03-02T12:16:02.141Z"
   },
   {
    "duration": 5,
    "start_time": "2022-03-02T12:40:51.576Z"
   },
   {
    "duration": 61,
    "start_time": "2022-03-02T12:40:51.585Z"
   },
   {
    "duration": 11,
    "start_time": "2022-03-02T12:40:51.648Z"
   },
   {
    "duration": 33,
    "start_time": "2022-03-02T12:40:51.662Z"
   },
   {
    "duration": 4,
    "start_time": "2022-03-02T12:40:51.698Z"
   },
   {
    "duration": 23,
    "start_time": "2022-03-02T12:40:51.704Z"
   },
   {
    "duration": 44,
    "start_time": "2022-03-02T12:40:51.729Z"
   },
   {
    "duration": 6,
    "start_time": "2022-03-02T12:40:51.775Z"
   },
   {
    "duration": 35,
    "start_time": "2022-03-02T12:40:51.784Z"
   },
   {
    "duration": 17,
    "start_time": "2022-03-02T12:40:51.821Z"
   },
   {
    "duration": 91,
    "start_time": "2022-03-02T12:40:51.840Z"
   },
   {
    "duration": 466,
    "start_time": "2022-03-02T12:40:51.467Z"
   },
   {
    "duration": 465,
    "start_time": "2022-03-02T12:40:51.469Z"
   },
   {
    "duration": 466,
    "start_time": "2022-03-02T12:40:51.470Z"
   },
   {
    "duration": 465,
    "start_time": "2022-03-02T12:40:51.472Z"
   },
   {
    "duration": 465,
    "start_time": "2022-03-02T12:40:51.473Z"
   },
   {
    "duration": 461,
    "start_time": "2022-03-02T12:40:51.478Z"
   },
   {
    "duration": 453,
    "start_time": "2022-03-02T12:40:51.487Z"
   },
   {
    "duration": 452,
    "start_time": "2022-03-02T12:40:51.489Z"
   },
   {
    "duration": 451,
    "start_time": "2022-03-02T12:40:51.490Z"
   },
   {
    "duration": 450,
    "start_time": "2022-03-02T12:40:51.492Z"
   },
   {
    "duration": 449,
    "start_time": "2022-03-02T12:40:51.494Z"
   },
   {
    "duration": 449,
    "start_time": "2022-03-02T12:40:51.495Z"
   },
   {
    "duration": 448,
    "start_time": "2022-03-02T12:40:51.497Z"
   },
   {
    "duration": 448,
    "start_time": "2022-03-02T12:40:51.498Z"
   },
   {
    "duration": 447,
    "start_time": "2022-03-02T12:40:51.499Z"
   },
   {
    "duration": 446,
    "start_time": "2022-03-02T12:40:51.501Z"
   },
   {
    "duration": 446,
    "start_time": "2022-03-02T12:40:51.502Z"
   },
   {
    "duration": 446,
    "start_time": "2022-03-02T12:40:51.503Z"
   },
   {
    "duration": 446,
    "start_time": "2022-03-02T12:40:51.504Z"
   },
   {
    "duration": 4,
    "start_time": "2022-03-02T12:44:45.778Z"
   },
   {
    "duration": 35,
    "start_time": "2022-03-02T12:44:45.784Z"
   },
   {
    "duration": 7,
    "start_time": "2022-03-02T12:44:45.821Z"
   },
   {
    "duration": 15,
    "start_time": "2022-03-02T12:44:45.830Z"
   },
   {
    "duration": 4,
    "start_time": "2022-03-02T12:44:45.846Z"
   },
   {
    "duration": 3,
    "start_time": "2022-03-02T12:44:45.863Z"
   },
   {
    "duration": 25,
    "start_time": "2022-03-02T12:44:45.868Z"
   },
   {
    "duration": 6,
    "start_time": "2022-03-02T12:44:45.895Z"
   },
   {
    "duration": 9,
    "start_time": "2022-03-02T12:44:45.905Z"
   },
   {
    "duration": 4,
    "start_time": "2022-03-02T12:44:45.916Z"
   },
   {
    "duration": 4,
    "start_time": "2022-03-02T12:44:45.921Z"
   },
   {
    "duration": 62,
    "start_time": "2022-03-02T12:44:45.927Z"
   },
   {
    "duration": 74,
    "start_time": "2022-03-02T12:44:45.991Z"
   },
   {
    "duration": -4616,
    "start_time": "2022-03-02T12:44:50.683Z"
   },
   {
    "duration": -4622,
    "start_time": "2022-03-02T12:44:50.691Z"
   },
   {
    "duration": -4695,
    "start_time": "2022-03-02T12:44:50.765Z"
   },
   {
    "duration": -4708,
    "start_time": "2022-03-02T12:44:50.780Z"
   },
   {
    "duration": -4713,
    "start_time": "2022-03-02T12:44:50.786Z"
   },
   {
    "duration": -4716,
    "start_time": "2022-03-02T12:44:50.791Z"
   },
   {
    "duration": -4722,
    "start_time": "2022-03-02T12:44:50.798Z"
   },
   {
    "duration": -5084,
    "start_time": "2022-03-02T12:44:51.162Z"
   },
   {
    "duration": -5097,
    "start_time": "2022-03-02T12:44:51.176Z"
   },
   {
    "duration": -5102,
    "start_time": "2022-03-02T12:44:51.183Z"
   },
   {
    "duration": -5334,
    "start_time": "2022-03-02T12:44:51.416Z"
   },
   {
    "duration": -5345,
    "start_time": "2022-03-02T12:44:51.429Z"
   },
   {
    "duration": 579,
    "start_time": "2022-03-02T12:44:46.118Z"
   },
   {
    "duration": 30873,
    "start_time": "2022-03-02T12:44:46.700Z"
   },
   {
    "duration": 206,
    "start_time": "2022-03-02T12:45:17.575Z"
   },
   {
    "duration": 18,
    "start_time": "2022-03-02T12:45:17.783Z"
   },
   {
    "duration": 301,
    "start_time": "2022-03-02T12:49:30.012Z"
   },
   {
    "duration": 91,
    "start_time": "2022-03-02T12:49:48.573Z"
   },
   {
    "duration": 501,
    "start_time": "2022-03-02T12:51:05.627Z"
   },
   {
    "duration": 4,
    "start_time": "2022-03-02T12:51:45.271Z"
   },
   {
    "duration": 40,
    "start_time": "2022-03-02T12:51:45.277Z"
   },
   {
    "duration": 7,
    "start_time": "2022-03-02T12:51:45.318Z"
   },
   {
    "duration": 15,
    "start_time": "2022-03-02T12:51:45.327Z"
   },
   {
    "duration": 20,
    "start_time": "2022-03-02T12:51:45.344Z"
   },
   {
    "duration": 6,
    "start_time": "2022-03-02T12:51:45.366Z"
   },
   {
    "duration": 24,
    "start_time": "2022-03-02T12:51:45.374Z"
   },
   {
    "duration": 5,
    "start_time": "2022-03-02T12:51:45.400Z"
   },
   {
    "duration": 7,
    "start_time": "2022-03-02T12:51:45.407Z"
   },
   {
    "duration": 3,
    "start_time": "2022-03-02T12:51:45.416Z"
   },
   {
    "duration": 4,
    "start_time": "2022-03-02T12:51:45.421Z"
   },
   {
    "duration": 57,
    "start_time": "2022-03-02T12:51:45.426Z"
   },
   {
    "duration": 74,
    "start_time": "2022-03-02T12:51:45.484Z"
   },
   {
    "duration": 473,
    "start_time": "2022-03-02T12:51:45.087Z"
   },
   {
    "duration": 473,
    "start_time": "2022-03-02T12:51:45.088Z"
   },
   {
    "duration": 457,
    "start_time": "2022-03-02T12:51:45.105Z"
   },
   {
    "duration": 456,
    "start_time": "2022-03-02T12:51:45.107Z"
   },
   {
    "duration": 455,
    "start_time": "2022-03-02T12:51:45.108Z"
   },
   {
    "duration": 455,
    "start_time": "2022-03-02T12:51:45.109Z"
   },
   {
    "duration": 454,
    "start_time": "2022-03-02T12:51:45.111Z"
   },
   {
    "duration": 454,
    "start_time": "2022-03-02T12:51:45.112Z"
   },
   {
    "duration": 453,
    "start_time": "2022-03-02T12:51:45.114Z"
   },
   {
    "duration": 453,
    "start_time": "2022-03-02T12:51:45.115Z"
   },
   {
    "duration": 453,
    "start_time": "2022-03-02T12:51:45.116Z"
   },
   {
    "duration": 444,
    "start_time": "2022-03-02T12:51:45.126Z"
   },
   {
    "duration": 440,
    "start_time": "2022-03-02T12:51:45.131Z"
   },
   {
    "duration": 439,
    "start_time": "2022-03-02T12:51:45.133Z"
   },
   {
    "duration": 439,
    "start_time": "2022-03-02T12:51:45.134Z"
   },
   {
    "duration": 438,
    "start_time": "2022-03-02T12:51:45.136Z"
   },
   {
    "duration": 4,
    "start_time": "2022-03-02T12:53:27.375Z"
   },
   {
    "duration": 67,
    "start_time": "2022-03-02T12:53:27.382Z"
   },
   {
    "duration": 7,
    "start_time": "2022-03-02T12:53:27.451Z"
   },
   {
    "duration": 14,
    "start_time": "2022-03-02T12:53:27.459Z"
   },
   {
    "duration": 3,
    "start_time": "2022-03-02T12:53:27.475Z"
   },
   {
    "duration": 6,
    "start_time": "2022-03-02T12:53:27.480Z"
   },
   {
    "duration": 20,
    "start_time": "2022-03-02T12:53:27.488Z"
   },
   {
    "duration": 4,
    "start_time": "2022-03-02T12:53:27.510Z"
   },
   {
    "duration": 8,
    "start_time": "2022-03-02T12:53:27.516Z"
   },
   {
    "duration": 3,
    "start_time": "2022-03-02T12:53:27.526Z"
   },
   {
    "duration": 3,
    "start_time": "2022-03-02T12:53:27.563Z"
   },
   {
    "duration": 32,
    "start_time": "2022-03-02T12:53:27.567Z"
   },
   {
    "duration": 161,
    "start_time": "2022-03-02T12:53:27.601Z"
   },
   {
    "duration": 539,
    "start_time": "2022-03-02T12:53:27.764Z"
   },
   {
    "duration": 138,
    "start_time": "2022-03-02T12:53:28.305Z"
   },
   {
    "duration": 143,
    "start_time": "2022-03-02T12:53:28.445Z"
   },
   {
    "duration": 208,
    "start_time": "2022-03-02T12:53:28.590Z"
   },
   {
    "duration": 404,
    "start_time": "2022-03-02T12:53:28.396Z"
   },
   {
    "duration": 401,
    "start_time": "2022-03-02T12:53:28.399Z"
   },
   {
    "duration": 385,
    "start_time": "2022-03-02T12:53:28.417Z"
   },
   {
    "duration": 368,
    "start_time": "2022-03-02T12:53:28.434Z"
   },
   {
    "duration": 368,
    "start_time": "2022-03-02T12:53:28.435Z"
   },
   {
    "duration": 367,
    "start_time": "2022-03-02T12:53:28.437Z"
   },
   {
    "duration": 367,
    "start_time": "2022-03-02T12:53:28.438Z"
   },
   {
    "duration": 366,
    "start_time": "2022-03-02T12:53:28.440Z"
   },
   {
    "duration": 365,
    "start_time": "2022-03-02T12:53:28.442Z"
   },
   {
    "duration": 365,
    "start_time": "2022-03-02T12:53:28.443Z"
   },
   {
    "duration": 364,
    "start_time": "2022-03-02T12:53:28.445Z"
   },
   {
    "duration": 94,
    "start_time": "2022-03-02T12:55:04.770Z"
   },
   {
    "duration": 491,
    "start_time": "2022-03-02T12:55:16.592Z"
   },
   {
    "duration": 144,
    "start_time": "2022-03-02T12:55:22.252Z"
   },
   {
    "duration": 211,
    "start_time": "2022-03-02T12:55:23.211Z"
   },
   {
    "duration": 4,
    "start_time": "2022-03-02T12:55:48.898Z"
   },
   {
    "duration": 54,
    "start_time": "2022-03-02T12:55:48.905Z"
   },
   {
    "duration": 10,
    "start_time": "2022-03-02T12:55:48.961Z"
   },
   {
    "duration": 33,
    "start_time": "2022-03-02T12:55:48.973Z"
   },
   {
    "duration": 22,
    "start_time": "2022-03-02T12:55:49.008Z"
   },
   {
    "duration": 22,
    "start_time": "2022-03-02T12:55:49.031Z"
   },
   {
    "duration": 53,
    "start_time": "2022-03-02T12:55:49.055Z"
   },
   {
    "duration": 12,
    "start_time": "2022-03-02T12:55:49.111Z"
   },
   {
    "duration": 34,
    "start_time": "2022-03-02T12:55:49.125Z"
   },
   {
    "duration": 19,
    "start_time": "2022-03-02T12:55:49.161Z"
   },
   {
    "duration": 23,
    "start_time": "2022-03-02T12:55:49.182Z"
   },
   {
    "duration": 55,
    "start_time": "2022-03-02T12:55:49.207Z"
   },
   {
    "duration": 99,
    "start_time": "2022-03-02T12:55:49.263Z"
   },
   {
    "duration": 590,
    "start_time": "2022-03-02T12:55:49.368Z"
   },
   {
    "duration": 153,
    "start_time": "2022-03-02T12:55:49.962Z"
   },
   {
    "duration": 312,
    "start_time": "2022-03-02T12:55:50.117Z"
   },
   {
    "duration": 442,
    "start_time": "2022-03-02T12:55:49.990Z"
   },
   {
    "duration": 441,
    "start_time": "2022-03-02T12:55:49.993Z"
   },
   {
    "duration": 439,
    "start_time": "2022-03-02T12:55:49.996Z"
   },
   {
    "duration": 437,
    "start_time": "2022-03-02T12:55:49.999Z"
   },
   {
    "duration": 436,
    "start_time": "2022-03-02T12:55:50.002Z"
   },
   {
    "duration": 435,
    "start_time": "2022-03-02T12:55:50.004Z"
   },
   {
    "duration": 431,
    "start_time": "2022-03-02T12:55:50.009Z"
   },
   {
    "duration": 430,
    "start_time": "2022-03-02T12:55:50.011Z"
   },
   {
    "duration": 430,
    "start_time": "2022-03-02T12:55:50.012Z"
   },
   {
    "duration": 429,
    "start_time": "2022-03-02T12:55:50.014Z"
   },
   {
    "duration": 428,
    "start_time": "2022-03-02T12:55:50.015Z"
   },
   {
    "duration": 428,
    "start_time": "2022-03-02T12:55:50.017Z"
   },
   {
    "duration": 18,
    "start_time": "2022-03-02T12:57:30.823Z"
   },
   {
    "duration": 21,
    "start_time": "2022-03-02T12:57:38.358Z"
   },
   {
    "duration": 464,
    "start_time": "2022-03-02T12:57:54.919Z"
   },
   {
    "duration": 20,
    "start_time": "2022-03-02T12:58:38.973Z"
   },
   {
    "duration": 467,
    "start_time": "2022-03-02T12:59:21.927Z"
   },
   {
    "duration": 141,
    "start_time": "2022-03-02T12:59:24.062Z"
   },
   {
    "duration": 214,
    "start_time": "2022-03-02T12:59:27.530Z"
   },
   {
    "duration": 24,
    "start_time": "2022-03-02T13:00:29.878Z"
   },
   {
    "duration": 462,
    "start_time": "2022-03-02T13:00:54.276Z"
   },
   {
    "duration": 128,
    "start_time": "2022-03-02T13:00:56.471Z"
   },
   {
    "duration": 123,
    "start_time": "2022-03-02T13:00:58.859Z"
   },
   {
    "duration": 123,
    "start_time": "2022-03-02T13:01:01.172Z"
   },
   {
    "duration": 5,
    "start_time": "2022-03-02T13:01:10.504Z"
   },
   {
    "duration": 56,
    "start_time": "2022-03-02T13:01:10.512Z"
   },
   {
    "duration": 9,
    "start_time": "2022-03-02T13:01:10.571Z"
   },
   {
    "duration": 20,
    "start_time": "2022-03-02T13:01:10.583Z"
   },
   {
    "duration": 5,
    "start_time": "2022-03-02T13:01:10.604Z"
   },
   {
    "duration": 29,
    "start_time": "2022-03-02T13:01:10.611Z"
   },
   {
    "duration": 40,
    "start_time": "2022-03-02T13:01:10.641Z"
   },
   {
    "duration": 6,
    "start_time": "2022-03-02T13:01:10.683Z"
   },
   {
    "duration": 18,
    "start_time": "2022-03-02T13:01:10.692Z"
   },
   {
    "duration": 4,
    "start_time": "2022-03-02T13:01:10.712Z"
   },
   {
    "duration": 24,
    "start_time": "2022-03-02T13:01:10.718Z"
   },
   {
    "duration": 44,
    "start_time": "2022-03-02T13:01:10.743Z"
   },
   {
    "duration": 75,
    "start_time": "2022-03-02T13:01:10.789Z"
   },
   {
    "duration": 554,
    "start_time": "2022-03-02T13:01:10.867Z"
   },
   {
    "duration": 135,
    "start_time": "2022-03-02T13:01:11.422Z"
   },
   {
    "duration": 134,
    "start_time": "2022-03-02T13:01:11.563Z"
   },
   {
    "duration": 134,
    "start_time": "2022-03-02T13:01:11.699Z"
   },
   {
    "duration": 7,
    "start_time": "2022-03-02T13:01:11.835Z"
   },
   {
    "duration": 8,
    "start_time": "2022-03-02T13:01:11.843Z"
   },
   {
    "duration": 6,
    "start_time": "2022-03-02T13:01:11.862Z"
   },
   {
    "duration": 94,
    "start_time": "2022-03-02T13:01:11.869Z"
   },
   {
    "duration": 597,
    "start_time": "2022-03-02T13:01:11.966Z"
   },
   {
    "duration": 12,
    "start_time": "2022-03-02T13:01:12.564Z"
   },
   {
    "duration": 237,
    "start_time": "2022-03-02T13:01:12.578Z"
   },
   {
    "duration": 533,
    "start_time": "2022-03-02T13:01:12.817Z"
   },
   {
    "duration": 28170,
    "start_time": "2022-03-02T13:01:13.351Z"
   },
   {
    "duration": 202,
    "start_time": "2022-03-02T13:01:41.524Z"
   },
   {
    "duration": 18,
    "start_time": "2022-03-02T13:01:41.727Z"
   },
   {
    "duration": 73,
    "start_time": "2022-03-02T13:41:02.704Z"
   },
   {
    "duration": 494,
    "start_time": "2022-03-02T13:41:57.680Z"
   },
   {
    "duration": 130,
    "start_time": "2022-03-02T13:45:45.471Z"
   },
   {
    "duration": 1290,
    "start_time": "2022-03-03T09:10:52.364Z"
   },
   {
    "duration": 54,
    "start_time": "2022-03-03T09:10:53.657Z"
   },
   {
    "duration": 11,
    "start_time": "2022-03-03T09:10:53.714Z"
   },
   {
    "duration": 578,
    "start_time": "2022-03-03T09:10:53.728Z"
   },
   {
    "duration": 6,
    "start_time": "2022-03-03T09:10:54.309Z"
   },
   {
    "duration": 8,
    "start_time": "2022-03-03T09:10:54.318Z"
   },
   {
    "duration": 50,
    "start_time": "2022-03-03T09:10:54.328Z"
   },
   {
    "duration": 6,
    "start_time": "2022-03-03T09:10:54.381Z"
   },
   {
    "duration": 12,
    "start_time": "2022-03-03T09:10:54.390Z"
   },
   {
    "duration": 5,
    "start_time": "2022-03-03T09:10:54.404Z"
   },
   {
    "duration": 40,
    "start_time": "2022-03-03T09:10:54.412Z"
   },
   {
    "duration": 39,
    "start_time": "2022-03-03T09:10:54.455Z"
   },
   {
    "duration": 63,
    "start_time": "2022-03-03T09:10:54.497Z"
   },
   {
    "duration": 867,
    "start_time": "2022-03-03T09:10:54.563Z"
   },
   {
    "duration": 235,
    "start_time": "2022-03-03T09:10:55.432Z"
   },
   {
    "duration": 206,
    "start_time": "2022-03-03T09:10:55.669Z"
   },
   {
    "duration": 215,
    "start_time": "2022-03-03T09:10:55.877Z"
   },
   {
    "duration": 9,
    "start_time": "2022-03-03T09:10:56.094Z"
   },
   {
    "duration": 8,
    "start_time": "2022-03-03T09:10:56.105Z"
   },
   {
    "duration": 36,
    "start_time": "2022-03-03T09:10:56.116Z"
   },
   {
    "duration": 105,
    "start_time": "2022-03-03T09:10:56.154Z"
   },
   {
    "duration": 791,
    "start_time": "2022-03-03T09:10:56.352Z"
   },
   {
    "duration": 18,
    "start_time": "2022-03-03T09:10:57.152Z"
   },
   {
    "duration": 349,
    "start_time": "2022-03-03T09:10:57.173Z"
   },
   {
    "duration": 1110,
    "start_time": "2022-03-03T09:10:57.524Z"
   },
   {
    "duration": 229,
    "start_time": "2022-03-03T09:10:58.407Z"
   },
   {
    "duration": 224,
    "start_time": "2022-03-03T09:10:58.413Z"
   },
   {
    "duration": 223,
    "start_time": "2022-03-03T09:10:58.416Z"
   },
   {
    "duration": 6,
    "start_time": "2022-03-03T09:13:16.264Z"
   },
   {
    "duration": 59,
    "start_time": "2022-03-03T09:13:16.274Z"
   },
   {
    "duration": 21,
    "start_time": "2022-03-03T09:13:16.335Z"
   },
   {
    "duration": 25,
    "start_time": "2022-03-03T09:13:16.359Z"
   },
   {
    "duration": 5,
    "start_time": "2022-03-03T09:13:16.387Z"
   },
   {
    "duration": 8,
    "start_time": "2022-03-03T09:13:16.395Z"
   },
   {
    "duration": 66,
    "start_time": "2022-03-03T09:13:16.406Z"
   },
   {
    "duration": 7,
    "start_time": "2022-03-03T09:13:16.474Z"
   },
   {
    "duration": 11,
    "start_time": "2022-03-03T09:13:16.486Z"
   },
   {
    "duration": 5,
    "start_time": "2022-03-03T09:13:16.500Z"
   },
   {
    "duration": 4,
    "start_time": "2022-03-03T09:13:16.507Z"
   },
   {
    "duration": 74,
    "start_time": "2022-03-03T09:13:16.513Z"
   },
   {
    "duration": 69,
    "start_time": "2022-03-03T09:13:16.589Z"
   },
   {
    "duration": 795,
    "start_time": "2022-03-03T09:13:16.660Z"
   },
   {
    "duration": 240,
    "start_time": "2022-03-03T09:13:17.458Z"
   },
   {
    "duration": 225,
    "start_time": "2022-03-03T09:13:17.701Z"
   },
   {
    "duration": 210,
    "start_time": "2022-03-03T09:13:17.928Z"
   },
   {
    "duration": 17,
    "start_time": "2022-03-03T09:13:18.140Z"
   },
   {
    "duration": 10,
    "start_time": "2022-03-03T09:13:18.159Z"
   },
   {
    "duration": 7,
    "start_time": "2022-03-03T09:13:18.171Z"
   },
   {
    "duration": 78,
    "start_time": "2022-03-03T09:13:18.181Z"
   },
   {
    "duration": 733,
    "start_time": "2022-03-03T09:13:18.352Z"
   },
   {
    "duration": 18,
    "start_time": "2022-03-03T09:13:19.088Z"
   },
   {
    "duration": 460,
    "start_time": "2022-03-03T09:13:19.110Z"
   },
   {
    "duration": 799,
    "start_time": "2022-03-03T09:13:19.572Z"
   },
   {
    "duration": 40178,
    "start_time": "2022-03-03T09:13:20.373Z"
   },
   {
    "duration": 296,
    "start_time": "2022-03-03T09:14:00.553Z"
   },
   {
    "duration": 28,
    "start_time": "2022-03-03T09:14:00.852Z"
   },
   {
    "duration": 287,
    "start_time": "2022-03-03T09:15:21.636Z"
   },
   {
    "duration": 24,
    "start_time": "2022-03-03T09:15:23.420Z"
   },
   {
    "duration": 217,
    "start_time": "2022-03-03T09:16:48.328Z"
   },
   {
    "duration": 41,
    "start_time": "2022-03-03T09:21:45.820Z"
   },
   {
    "duration": 59,
    "start_time": "2022-03-03T09:22:04.603Z"
   },
   {
    "duration": 64,
    "start_time": "2022-03-03T09:22:20.402Z"
   },
   {
    "duration": 722,
    "start_time": "2022-03-03T09:22:46.023Z"
   },
   {
    "duration": 690,
    "start_time": "2022-03-03T09:23:16.014Z"
   },
   {
    "duration": 10,
    "start_time": "2022-03-03T09:28:42.501Z"
   },
   {
    "duration": 86,
    "start_time": "2022-03-03T09:34:22.566Z"
   },
   {
    "duration": 741,
    "start_time": "2022-03-03T09:34:42.743Z"
   },
   {
    "duration": 738,
    "start_time": "2022-03-03T09:37:10.544Z"
   },
   {
    "duration": 295,
    "start_time": "2022-03-03T13:21:52.829Z"
   },
   {
    "duration": 1190,
    "start_time": "2022-03-03T13:23:21.662Z"
   },
   {
    "duration": 60,
    "start_time": "2022-03-03T13:23:22.854Z"
   },
   {
    "duration": 9,
    "start_time": "2022-03-03T13:23:22.916Z"
   },
   {
    "duration": 465,
    "start_time": "2022-03-03T13:23:22.927Z"
   },
   {
    "duration": 6,
    "start_time": "2022-03-03T13:23:23.394Z"
   },
   {
    "duration": 10,
    "start_time": "2022-03-03T13:23:23.402Z"
   },
   {
    "duration": 28,
    "start_time": "2022-03-03T13:23:23.414Z"
   },
   {
    "duration": 5,
    "start_time": "2022-03-03T13:23:23.445Z"
   },
   {
    "duration": 30,
    "start_time": "2022-03-03T13:23:23.453Z"
   },
   {
    "duration": 4,
    "start_time": "2022-03-03T13:23:23.485Z"
   },
   {
    "duration": 5,
    "start_time": "2022-03-03T13:23:23.490Z"
   },
   {
    "duration": 31,
    "start_time": "2022-03-03T13:23:23.497Z"
   },
   {
    "duration": 56,
    "start_time": "2022-03-03T13:23:23.530Z"
   },
   {
    "duration": 749,
    "start_time": "2022-03-03T13:23:23.588Z"
   },
   {
    "duration": 186,
    "start_time": "2022-03-03T13:23:24.338Z"
   },
   {
    "duration": 170,
    "start_time": "2022-03-03T13:23:24.527Z"
   },
   {
    "duration": 165,
    "start_time": "2022-03-03T13:23:24.698Z"
   },
   {
    "duration": 89,
    "start_time": "2022-03-03T13:23:24.865Z"
   },
   {
    "duration": -126,
    "start_time": "2022-03-03T13:23:25.082Z"
   },
   {
    "duration": -126,
    "start_time": "2022-03-03T13:23:25.083Z"
   },
   {
    "duration": -130,
    "start_time": "2022-03-03T13:23:25.088Z"
   },
   {
    "duration": -130,
    "start_time": "2022-03-03T13:23:25.089Z"
   },
   {
    "duration": -135,
    "start_time": "2022-03-03T13:23:25.095Z"
   },
   {
    "duration": -135,
    "start_time": "2022-03-03T13:23:25.096Z"
   },
   {
    "duration": -136,
    "start_time": "2022-03-03T13:23:25.098Z"
   },
   {
    "duration": -136,
    "start_time": "2022-03-03T13:23:25.099Z"
   },
   {
    "duration": -136,
    "start_time": "2022-03-03T13:23:25.100Z"
   },
   {
    "duration": -137,
    "start_time": "2022-03-03T13:23:25.102Z"
   },
   {
    "duration": 4,
    "start_time": "2022-03-03T13:26:00.202Z"
   },
   {
    "duration": 69,
    "start_time": "2022-03-03T13:26:00.208Z"
   },
   {
    "duration": 10,
    "start_time": "2022-03-03T13:26:00.279Z"
   },
   {
    "duration": 99,
    "start_time": "2022-03-03T13:26:00.291Z"
   },
   {
    "duration": 5,
    "start_time": "2022-03-03T13:26:00.392Z"
   },
   {
    "duration": 12,
    "start_time": "2022-03-03T13:26:00.398Z"
   },
   {
    "duration": 30,
    "start_time": "2022-03-03T13:26:00.412Z"
   },
   {
    "duration": 6,
    "start_time": "2022-03-03T13:26:00.443Z"
   },
   {
    "duration": 26,
    "start_time": "2022-03-03T13:26:00.452Z"
   },
   {
    "duration": 4,
    "start_time": "2022-03-03T13:26:00.480Z"
   },
   {
    "duration": 19,
    "start_time": "2022-03-03T13:26:00.486Z"
   },
   {
    "duration": 35,
    "start_time": "2022-03-03T13:26:00.507Z"
   },
   {
    "duration": 46,
    "start_time": "2022-03-03T13:26:00.544Z"
   },
   {
    "duration": 661,
    "start_time": "2022-03-03T13:26:00.679Z"
   },
   {
    "duration": 179,
    "start_time": "2022-03-03T13:26:01.342Z"
   },
   {
    "duration": 178,
    "start_time": "2022-03-03T13:26:01.524Z"
   },
   {
    "duration": 161,
    "start_time": "2022-03-03T13:26:01.704Z"
   },
   {
    "duration": 10,
    "start_time": "2022-03-03T13:26:01.867Z"
   },
   {
    "duration": 98,
    "start_time": "2022-03-03T13:26:01.879Z"
   },
   {
    "duration": 674,
    "start_time": "2022-03-03T13:26:01.980Z"
   },
   {
    "duration": 27,
    "start_time": "2022-03-03T13:26:02.656Z"
   },
   {
    "duration": 17,
    "start_time": "2022-03-03T13:26:02.685Z"
   },
   {
    "duration": 349,
    "start_time": "2022-03-03T13:26:02.778Z"
   },
   {
    "duration": 592,
    "start_time": "2022-03-03T13:26:03.129Z"
   },
   {
    "duration": 29960,
    "start_time": "2022-03-03T13:26:03.723Z"
   },
   {
    "duration": 207,
    "start_time": "2022-03-03T13:26:33.685Z"
   },
   {
    "duration": 19,
    "start_time": "2022-03-03T13:26:33.896Z"
   },
   {
    "duration": 249,
    "start_time": "2022-03-03T13:27:11.744Z"
   },
   {
    "duration": 199,
    "start_time": "2022-03-03T13:31:12.209Z"
   },
   {
    "duration": 194,
    "start_time": "2022-03-03T13:31:48.715Z"
   },
   {
    "duration": 565,
    "start_time": "2022-03-03T13:42:37.993Z"
   },
   {
    "duration": 5,
    "start_time": "2022-03-03T13:57:01.119Z"
   },
   {
    "duration": 58,
    "start_time": "2022-03-03T13:57:01.126Z"
   },
   {
    "duration": 12,
    "start_time": "2022-03-03T13:57:01.186Z"
   },
   {
    "duration": 24,
    "start_time": "2022-03-03T13:57:01.201Z"
   },
   {
    "duration": 6,
    "start_time": "2022-03-03T13:57:01.227Z"
   },
   {
    "duration": 22,
    "start_time": "2022-03-03T13:57:01.235Z"
   },
   {
    "duration": 36,
    "start_time": "2022-03-03T13:57:01.258Z"
   },
   {
    "duration": 19,
    "start_time": "2022-03-03T13:57:01.297Z"
   },
   {
    "duration": 19,
    "start_time": "2022-03-03T13:57:01.318Z"
   },
   {
    "duration": 20,
    "start_time": "2022-03-03T13:57:01.339Z"
   },
   {
    "duration": 16,
    "start_time": "2022-03-03T13:57:01.362Z"
   },
   {
    "duration": 38,
    "start_time": "2022-03-03T13:57:01.380Z"
   },
   {
    "duration": 157,
    "start_time": "2022-03-03T13:57:01.420Z"
   },
   {
    "duration": 605,
    "start_time": "2022-03-03T13:57:01.579Z"
   },
   {
    "duration": 181,
    "start_time": "2022-03-03T13:57:02.186Z"
   },
   {
    "duration": 156,
    "start_time": "2022-03-03T13:57:02.377Z"
   },
   {
    "duration": 155,
    "start_time": "2022-03-03T13:57:02.535Z"
   },
   {
    "duration": 8,
    "start_time": "2022-03-03T13:57:02.692Z"
   },
   {
    "duration": 76,
    "start_time": "2022-03-03T13:57:02.701Z"
   },
   {
    "duration": 650,
    "start_time": "2022-03-03T13:57:02.782Z"
   },
   {
    "duration": 13,
    "start_time": "2022-03-03T13:57:03.433Z"
   },
   {
    "duration": 37,
    "start_time": "2022-03-03T13:57:03.448Z"
   },
   {
    "duration": 328,
    "start_time": "2022-03-03T13:57:03.579Z"
   },
   {
    "duration": 204,
    "start_time": "2022-03-03T13:57:03.909Z"
   },
   {
    "duration": 585,
    "start_time": "2022-03-03T13:57:04.115Z"
   },
   {
    "duration": 45545,
    "start_time": "2022-03-03T13:57:04.702Z"
   },
   {
    "duration": 521,
    "start_time": "2022-03-03T13:57:50.249Z"
   },
   {
    "duration": 214,
    "start_time": "2022-03-03T13:57:50.777Z"
   },
   {
    "duration": 19,
    "start_time": "2022-03-03T13:57:50.993Z"
   },
   {
    "duration": 7,
    "start_time": "2022-03-03T13:59:46.383Z"
   },
   {
    "duration": 509,
    "start_time": "2022-03-03T13:59:58.361Z"
   },
   {
    "duration": 529,
    "start_time": "2022-03-03T14:00:05.729Z"
   },
   {
    "duration": 318,
    "start_time": "2022-03-03T14:00:32.467Z"
   },
   {
    "duration": 317,
    "start_time": "2022-03-03T14:00:50.595Z"
   },
   {
    "duration": 207,
    "start_time": "2022-03-03T14:01:24.571Z"
   },
   {
    "duration": 91,
    "start_time": "2022-03-03T14:02:41.486Z"
   },
   {
    "duration": 319,
    "start_time": "2022-03-03T14:02:50.565Z"
   },
   {
    "duration": 45588,
    "start_time": "2022-03-03T14:06:27.084Z"
   },
   {
    "duration": 47614,
    "start_time": "2022-03-03T14:07:45.246Z"
   },
   {
    "duration": 316,
    "start_time": "2022-03-03T14:17:17.329Z"
   },
   {
    "duration": 337,
    "start_time": "2022-03-03T14:18:51.535Z"
   },
   {
    "duration": 5,
    "start_time": "2022-03-03T14:18:55.848Z"
   },
   {
    "duration": 49,
    "start_time": "2022-03-03T14:18:55.856Z"
   },
   {
    "duration": 9,
    "start_time": "2022-03-03T14:18:55.908Z"
   },
   {
    "duration": 18,
    "start_time": "2022-03-03T14:18:55.919Z"
   },
   {
    "duration": 5,
    "start_time": "2022-03-03T14:18:55.940Z"
   },
   {
    "duration": 31,
    "start_time": "2022-03-03T14:18:55.947Z"
   },
   {
    "duration": 27,
    "start_time": "2022-03-03T14:18:55.981Z"
   },
   {
    "duration": 6,
    "start_time": "2022-03-03T14:18:56.011Z"
   },
   {
    "duration": 10,
    "start_time": "2022-03-03T14:18:56.019Z"
   },
   {
    "duration": 3,
    "start_time": "2022-03-03T14:18:56.031Z"
   },
   {
    "duration": 56,
    "start_time": "2022-03-03T14:18:56.036Z"
   },
   {
    "duration": 35,
    "start_time": "2022-03-03T14:18:56.094Z"
   },
   {
    "duration": 53,
    "start_time": "2022-03-03T14:18:56.131Z"
   },
   {
    "duration": 705,
    "start_time": "2022-03-03T14:18:56.186Z"
   },
   {
    "duration": 183,
    "start_time": "2022-03-03T14:18:56.894Z"
   },
   {
    "duration": 174,
    "start_time": "2022-03-03T14:18:57.079Z"
   },
   {
    "duration": 192,
    "start_time": "2022-03-03T14:18:57.255Z"
   },
   {
    "duration": 8,
    "start_time": "2022-03-03T14:18:57.449Z"
   },
   {
    "duration": 52,
    "start_time": "2022-03-03T14:18:57.458Z"
   },
   {
    "duration": 803,
    "start_time": "2022-03-03T14:18:57.512Z"
   },
   {
    "duration": 13,
    "start_time": "2022-03-03T14:18:58.316Z"
   },
   {
    "duration": 49,
    "start_time": "2022-03-03T14:18:58.331Z"
   },
   {
    "duration": 371,
    "start_time": "2022-03-03T14:18:58.387Z"
   },
   {
    "duration": 264,
    "start_time": "2022-03-03T14:18:58.760Z"
   },
   {
    "duration": 643,
    "start_time": "2022-03-03T14:18:59.026Z"
   },
   {
    "duration": 91,
    "start_time": "2022-03-03T14:18:59.670Z"
   },
   {
    "duration": -58,
    "start_time": "2022-03-03T14:18:59.821Z"
   },
   {
    "duration": -59,
    "start_time": "2022-03-03T14:18:59.823Z"
   },
   {
    "duration": -59,
    "start_time": "2022-03-03T14:18:59.825Z"
   },
   {
    "duration": -59,
    "start_time": "2022-03-03T14:18:59.826Z"
   },
   {
    "duration": 5,
    "start_time": "2022-03-03T14:21:30.422Z"
   },
   {
    "duration": 54,
    "start_time": "2022-03-03T14:21:30.429Z"
   },
   {
    "duration": 8,
    "start_time": "2022-03-03T14:21:30.485Z"
   },
   {
    "duration": 44,
    "start_time": "2022-03-03T14:21:30.495Z"
   },
   {
    "duration": 16,
    "start_time": "2022-03-03T14:21:30.541Z"
   },
   {
    "duration": 20,
    "start_time": "2022-03-03T14:21:30.558Z"
   },
   {
    "duration": 42,
    "start_time": "2022-03-03T14:21:30.580Z"
   },
   {
    "duration": 11,
    "start_time": "2022-03-03T14:21:30.624Z"
   },
   {
    "duration": 22,
    "start_time": "2022-03-03T14:21:30.638Z"
   },
   {
    "duration": 27,
    "start_time": "2022-03-03T14:21:30.663Z"
   },
   {
    "duration": 45,
    "start_time": "2022-03-03T14:21:30.691Z"
   },
   {
    "duration": 74,
    "start_time": "2022-03-03T14:21:30.738Z"
   },
   {
    "duration": 66,
    "start_time": "2022-03-03T14:21:30.815Z"
   },
   {
    "duration": 627,
    "start_time": "2022-03-03T14:21:30.883Z"
   },
   {
    "duration": 176,
    "start_time": "2022-03-03T14:21:31.512Z"
   },
   {
    "duration": 236,
    "start_time": "2022-03-03T14:21:31.690Z"
   },
   {
    "duration": 165,
    "start_time": "2022-03-03T14:21:31.927Z"
   },
   {
    "duration": 7,
    "start_time": "2022-03-03T14:21:32.094Z"
   },
   {
    "duration": 78,
    "start_time": "2022-03-03T14:21:32.102Z"
   },
   {
    "duration": 676,
    "start_time": "2022-03-03T14:21:32.186Z"
   },
   {
    "duration": 19,
    "start_time": "2022-03-03T14:21:32.864Z"
   },
   {
    "duration": 92,
    "start_time": "2022-03-03T14:21:32.885Z"
   },
   {
    "duration": 352,
    "start_time": "2022-03-03T14:21:32.980Z"
   },
   {
    "duration": 180,
    "start_time": "2022-03-03T14:21:33.333Z"
   },
   {
    "duration": 599,
    "start_time": "2022-03-03T14:21:33.514Z"
   },
   {
    "duration": 45649,
    "start_time": "2022-03-03T14:21:34.115Z"
   },
   {
    "duration": 105,
    "start_time": "2022-03-03T14:22:19.767Z"
   },
   {
    "duration": -53,
    "start_time": "2022-03-03T14:22:19.927Z"
   },
   {
    "duration": -54,
    "start_time": "2022-03-03T14:22:19.929Z"
   },
   {
    "duration": 329,
    "start_time": "2022-03-03T14:23:35.375Z"
   },
   {
    "duration": 290,
    "start_time": "2022-03-03T14:23:36.887Z"
   },
   {
    "duration": 5,
    "start_time": "2022-03-03T14:24:04.906Z"
   },
   {
    "duration": 57,
    "start_time": "2022-03-03T14:24:04.914Z"
   },
   {
    "duration": 10,
    "start_time": "2022-03-03T14:24:04.974Z"
   },
   {
    "duration": 23,
    "start_time": "2022-03-03T14:24:04.986Z"
   },
   {
    "duration": 6,
    "start_time": "2022-03-03T14:24:05.011Z"
   },
   {
    "duration": 11,
    "start_time": "2022-03-03T14:24:05.019Z"
   },
   {
    "duration": 49,
    "start_time": "2022-03-03T14:24:05.032Z"
   },
   {
    "duration": 7,
    "start_time": "2022-03-03T14:24:05.083Z"
   },
   {
    "duration": 14,
    "start_time": "2022-03-03T14:24:05.094Z"
   },
   {
    "duration": 4,
    "start_time": "2022-03-03T14:24:05.111Z"
   },
   {
    "duration": 7,
    "start_time": "2022-03-03T14:24:05.118Z"
   },
   {
    "duration": 61,
    "start_time": "2022-03-03T14:24:05.127Z"
   },
   {
    "duration": 91,
    "start_time": "2022-03-03T14:24:05.190Z"
   },
   {
    "duration": 620,
    "start_time": "2022-03-03T14:24:05.283Z"
   },
   {
    "duration": 175,
    "start_time": "2022-03-03T14:24:05.906Z"
   },
   {
    "duration": 163,
    "start_time": "2022-03-03T14:24:06.083Z"
   },
   {
    "duration": 161,
    "start_time": "2022-03-03T14:24:06.248Z"
   },
   {
    "duration": 9,
    "start_time": "2022-03-03T14:24:06.412Z"
   },
   {
    "duration": 56,
    "start_time": "2022-03-03T14:24:06.422Z"
   },
   {
    "duration": 660,
    "start_time": "2022-03-03T14:24:06.481Z"
   },
   {
    "duration": 12,
    "start_time": "2022-03-03T14:24:07.143Z"
   },
   {
    "duration": 121,
    "start_time": "2022-03-03T14:24:07.157Z"
   },
   {
    "duration": 338,
    "start_time": "2022-03-03T14:24:07.281Z"
   },
   {
    "duration": 193,
    "start_time": "2022-03-03T14:24:07.621Z"
   },
   {
    "duration": 598,
    "start_time": "2022-03-03T14:24:07.815Z"
   },
   {
    "duration": 47277,
    "start_time": "2022-03-03T14:24:08.415Z"
   },
   {
    "duration": 337,
    "start_time": "2022-03-03T14:24:55.696Z"
   },
   {
    "duration": 210,
    "start_time": "2022-03-03T14:24:56.035Z"
   },
   {
    "duration": 204,
    "start_time": "2022-03-03T14:27:16.563Z"
   },
   {
    "duration": 204,
    "start_time": "2022-03-03T14:27:42.047Z"
   },
   {
    "duration": 362,
    "start_time": "2022-03-03T14:31:47.175Z"
   },
   {
    "duration": 207,
    "start_time": "2022-03-03T14:31:49.537Z"
   },
   {
    "duration": 227,
    "start_time": "2022-03-03T14:32:11.686Z"
   },
   {
    "duration": 228,
    "start_time": "2022-03-03T14:32:24.262Z"
   },
   {
    "duration": 203,
    "start_time": "2022-03-03T14:35:25.556Z"
   },
   {
    "duration": 196,
    "start_time": "2022-03-03T14:35:32.759Z"
   },
   {
    "duration": 328,
    "start_time": "2022-03-03T14:39:19.651Z"
   },
   {
    "duration": 322,
    "start_time": "2022-03-03T14:41:12.280Z"
   },
   {
    "duration": 320,
    "start_time": "2022-03-03T14:41:40.200Z"
   },
   {
    "duration": 531,
    "start_time": "2022-03-03T14:42:32.098Z"
   },
   {
    "duration": 339,
    "start_time": "2022-03-03T14:42:55.843Z"
   },
   {
    "duration": 107,
    "start_time": "2022-03-03T14:47:15.794Z"
   },
   {
    "duration": 37,
    "start_time": "2022-03-03T15:06:46.550Z"
   },
   {
    "duration": 25,
    "start_time": "2022-03-03T15:06:50.157Z"
   },
   {
    "duration": 544,
    "start_time": "2022-03-03T15:07:15.702Z"
   },
   {
    "duration": 175,
    "start_time": "2022-03-03T15:08:45.736Z"
   },
   {
    "duration": 264,
    "start_time": "2022-03-03T15:08:55.586Z"
   },
   {
    "duration": 560,
    "start_time": "2022-03-03T15:10:23.666Z"
   },
   {
    "duration": 93,
    "start_time": "2022-03-03T15:13:31.704Z"
   },
   {
    "duration": 4,
    "start_time": "2022-03-03T15:14:48.208Z"
   },
   {
    "duration": 43,
    "start_time": "2022-03-03T15:14:48.214Z"
   },
   {
    "duration": 9,
    "start_time": "2022-03-03T15:14:48.259Z"
   },
   {
    "duration": 28,
    "start_time": "2022-03-03T15:14:48.270Z"
   },
   {
    "duration": 4,
    "start_time": "2022-03-03T15:14:48.299Z"
   },
   {
    "duration": 8,
    "start_time": "2022-03-03T15:14:48.305Z"
   },
   {
    "duration": 25,
    "start_time": "2022-03-03T15:14:48.314Z"
   },
   {
    "duration": 5,
    "start_time": "2022-03-03T15:14:48.341Z"
   },
   {
    "duration": 32,
    "start_time": "2022-03-03T15:14:48.348Z"
   },
   {
    "duration": 3,
    "start_time": "2022-03-03T15:14:48.382Z"
   },
   {
    "duration": 4,
    "start_time": "2022-03-03T15:14:48.387Z"
   },
   {
    "duration": 30,
    "start_time": "2022-03-03T15:14:48.393Z"
   },
   {
    "duration": 59,
    "start_time": "2022-03-03T15:14:48.425Z"
   },
   {
    "duration": 608,
    "start_time": "2022-03-03T15:14:48.486Z"
   },
   {
    "duration": 169,
    "start_time": "2022-03-03T15:14:49.095Z"
   },
   {
    "duration": 160,
    "start_time": "2022-03-03T15:14:49.265Z"
   },
   {
    "duration": 164,
    "start_time": "2022-03-03T15:14:49.427Z"
   },
   {
    "duration": 9,
    "start_time": "2022-03-03T15:14:49.593Z"
   },
   {
    "duration": 26,
    "start_time": "2022-03-03T15:14:49.604Z"
   },
   {
    "duration": 657,
    "start_time": "2022-03-03T15:14:49.678Z"
   },
   {
    "duration": 14,
    "start_time": "2022-03-03T15:14:50.337Z"
   },
   {
    "duration": 30,
    "start_time": "2022-03-03T15:14:50.352Z"
   },
   {
    "duration": 413,
    "start_time": "2022-03-03T15:14:50.385Z"
   },
   {
    "duration": 218,
    "start_time": "2022-03-03T15:14:50.800Z"
   },
   {
    "duration": 609,
    "start_time": "2022-03-03T15:14:51.020Z"
   },
   {
    "duration": 45632,
    "start_time": "2022-03-03T15:14:51.631Z"
   },
   {
    "duration": 325,
    "start_time": "2022-03-03T15:15:37.265Z"
   },
   {
    "duration": 1148,
    "start_time": "2022-03-05T08:01:13.745Z"
   },
   {
    "duration": 45,
    "start_time": "2022-03-05T08:01:14.895Z"
   },
   {
    "duration": 10,
    "start_time": "2022-03-05T08:01:14.942Z"
   },
   {
    "duration": 355,
    "start_time": "2022-03-05T08:01:14.954Z"
   },
   {
    "duration": 6,
    "start_time": "2022-03-05T08:01:15.311Z"
   },
   {
    "duration": 8,
    "start_time": "2022-03-05T08:01:15.319Z"
   },
   {
    "duration": 30,
    "start_time": "2022-03-05T08:01:15.329Z"
   },
   {
    "duration": 5,
    "start_time": "2022-03-05T08:01:15.362Z"
   },
   {
    "duration": 11,
    "start_time": "2022-03-05T08:01:15.370Z"
   },
   {
    "duration": 3,
    "start_time": "2022-03-05T08:01:15.383Z"
   },
   {
    "duration": 6,
    "start_time": "2022-03-05T08:01:15.388Z"
   },
   {
    "duration": 57,
    "start_time": "2022-03-05T08:01:15.395Z"
   },
   {
    "duration": 90,
    "start_time": "2022-03-05T08:01:15.454Z"
   },
   {
    "duration": 595,
    "start_time": "2022-03-05T08:01:15.546Z"
   },
   {
    "duration": 168,
    "start_time": "2022-03-05T08:01:16.142Z"
   },
   {
    "duration": 148,
    "start_time": "2022-03-05T08:01:16.311Z"
   },
   {
    "duration": 151,
    "start_time": "2022-03-05T08:01:16.461Z"
   },
   {
    "duration": 8,
    "start_time": "2022-03-05T08:01:16.614Z"
   },
   {
    "duration": 36,
    "start_time": "2022-03-05T08:01:16.624Z"
   },
   {
    "duration": 697,
    "start_time": "2022-03-05T08:01:16.662Z"
   },
   {
    "duration": 14,
    "start_time": "2022-03-05T08:01:17.361Z"
   },
   {
    "duration": 14,
    "start_time": "2022-03-05T08:01:17.377Z"
   },
   {
    "duration": 329,
    "start_time": "2022-03-05T08:01:17.442Z"
   },
   {
    "duration": 200,
    "start_time": "2022-03-05T08:01:17.773Z"
   },
   {
    "duration": 551,
    "start_time": "2022-03-05T08:01:17.975Z"
   },
   {
    "duration": 41966,
    "start_time": "2022-03-05T08:01:18.528Z"
   },
   {
    "duration": 573,
    "start_time": "2022-03-05T08:02:00.495Z"
   },
   {
    "duration": 49,
    "start_time": "2022-03-05T08:02:37.888Z"
   },
   {
    "duration": 476,
    "start_time": "2022-03-05T08:02:57.409Z"
   },
   {
    "duration": 488,
    "start_time": "2022-03-05T08:03:11.931Z"
   },
   {
    "duration": 10,
    "start_time": "2022-03-05T08:04:31.382Z"
   },
   {
    "duration": 11,
    "start_time": "2022-03-05T08:05:25.966Z"
   },
   {
    "duration": 18,
    "start_time": "2022-03-05T08:21:09.492Z"
   },
   {
    "duration": 23,
    "start_time": "2022-03-05T08:21:12.762Z"
   },
   {
    "duration": 21,
    "start_time": "2022-03-05T08:21:39.515Z"
   },
   {
    "duration": 75,
    "start_time": "2022-03-05T08:23:38.670Z"
   },
   {
    "duration": 4,
    "start_time": "2022-03-05T08:23:46.279Z"
   },
   {
    "duration": 39,
    "start_time": "2022-03-05T08:23:46.285Z"
   },
   {
    "duration": 7,
    "start_time": "2022-03-05T08:23:46.326Z"
   },
   {
    "duration": 16,
    "start_time": "2022-03-05T08:23:46.335Z"
   },
   {
    "duration": 3,
    "start_time": "2022-03-05T08:23:46.353Z"
   },
   {
    "duration": 774,
    "start_time": "2022-03-05T08:23:46.358Z"
   },
   {
    "duration": 2513,
    "start_time": "2022-03-05T08:23:44.621Z"
   },
   {
    "duration": 2511,
    "start_time": "2022-03-05T08:23:44.624Z"
   },
   {
    "duration": 2509,
    "start_time": "2022-03-05T08:23:44.627Z"
   },
   {
    "duration": 2508,
    "start_time": "2022-03-05T08:23:44.629Z"
   },
   {
    "duration": 2506,
    "start_time": "2022-03-05T08:23:44.632Z"
   },
   {
    "duration": 2505,
    "start_time": "2022-03-05T08:23:44.634Z"
   },
   {
    "duration": 2503,
    "start_time": "2022-03-05T08:23:44.637Z"
   },
   {
    "duration": 2502,
    "start_time": "2022-03-05T08:23:44.639Z"
   },
   {
    "duration": 2500,
    "start_time": "2022-03-05T08:23:44.642Z"
   },
   {
    "duration": 2498,
    "start_time": "2022-03-05T08:23:44.645Z"
   },
   {
    "duration": 2497,
    "start_time": "2022-03-05T08:23:44.647Z"
   },
   {
    "duration": 2496,
    "start_time": "2022-03-05T08:23:44.649Z"
   },
   {
    "duration": 2496,
    "start_time": "2022-03-05T08:23:44.650Z"
   },
   {
    "duration": 2494,
    "start_time": "2022-03-05T08:23:44.653Z"
   },
   {
    "duration": 2493,
    "start_time": "2022-03-05T08:23:44.655Z"
   },
   {
    "duration": 2492,
    "start_time": "2022-03-05T08:23:44.657Z"
   },
   {
    "duration": 2491,
    "start_time": "2022-03-05T08:23:44.659Z"
   },
   {
    "duration": 2491,
    "start_time": "2022-03-05T08:23:44.660Z"
   },
   {
    "duration": 2489,
    "start_time": "2022-03-05T08:23:44.662Z"
   },
   {
    "duration": 2489,
    "start_time": "2022-03-05T08:23:44.664Z"
   },
   {
    "duration": 2487,
    "start_time": "2022-03-05T08:23:44.667Z"
   },
   {
    "duration": 24,
    "start_time": "2022-03-05T08:26:22.253Z"
   },
   {
    "duration": 4,
    "start_time": "2022-03-05T08:26:31.465Z"
   },
   {
    "duration": 44,
    "start_time": "2022-03-05T08:26:31.471Z"
   },
   {
    "duration": 8,
    "start_time": "2022-03-05T08:26:31.517Z"
   },
   {
    "duration": 29,
    "start_time": "2022-03-05T08:26:31.527Z"
   },
   {
    "duration": 10,
    "start_time": "2022-03-05T08:26:31.558Z"
   },
   {
    "duration": 38,
    "start_time": "2022-03-05T08:26:31.570Z"
   },
   {
    "duration": 23,
    "start_time": "2022-03-05T08:26:31.610Z"
   },
   {
    "duration": 5,
    "start_time": "2022-03-05T08:26:31.635Z"
   },
   {
    "duration": 10,
    "start_time": "2022-03-05T08:26:31.642Z"
   },
   {
    "duration": 4,
    "start_time": "2022-03-05T08:26:31.653Z"
   },
   {
    "duration": 7,
    "start_time": "2022-03-05T08:26:31.658Z"
   },
   {
    "duration": 37,
    "start_time": "2022-03-05T08:26:31.666Z"
   },
   {
    "duration": 40,
    "start_time": "2022-03-05T08:26:31.704Z"
   },
   {
    "duration": 674,
    "start_time": "2022-03-05T08:26:31.746Z"
   },
   {
    "duration": 153,
    "start_time": "2022-03-05T08:26:32.422Z"
   },
   {
    "duration": 142,
    "start_time": "2022-03-05T08:26:32.578Z"
   },
   {
    "duration": 151,
    "start_time": "2022-03-05T08:26:32.721Z"
   },
   {
    "duration": 10,
    "start_time": "2022-03-05T08:26:32.873Z"
   },
   {
    "duration": 55,
    "start_time": "2022-03-05T08:26:32.884Z"
   },
   {
    "duration": 612,
    "start_time": "2022-03-05T08:26:32.941Z"
   },
   {
    "duration": 14,
    "start_time": "2022-03-05T08:26:33.555Z"
   },
   {
    "duration": 66,
    "start_time": "2022-03-05T08:26:33.571Z"
   },
   {
    "duration": 308,
    "start_time": "2022-03-05T08:26:33.642Z"
   },
   {
    "duration": 213,
    "start_time": "2022-03-05T08:26:33.952Z"
   },
   {
    "duration": 524,
    "start_time": "2022-03-05T08:26:34.167Z"
   },
   {
    "duration": 41402,
    "start_time": "2022-03-05T08:26:34.693Z"
   },
   {
    "duration": 462,
    "start_time": "2022-03-05T08:27:16.097Z"
   },
   {
    "duration": 24,
    "start_time": "2022-03-05T08:29:21.154Z"
   },
   {
    "duration": 4,
    "start_time": "2022-03-05T08:29:28.326Z"
   },
   {
    "duration": 41,
    "start_time": "2022-03-05T08:29:28.332Z"
   },
   {
    "duration": 7,
    "start_time": "2022-03-05T08:29:28.375Z"
   },
   {
    "duration": 15,
    "start_time": "2022-03-05T08:29:28.384Z"
   },
   {
    "duration": 6,
    "start_time": "2022-03-05T08:29:28.401Z"
   },
   {
    "duration": 41,
    "start_time": "2022-03-05T08:29:28.408Z"
   },
   {
    "duration": 24,
    "start_time": "2022-03-05T08:29:28.450Z"
   },
   {
    "duration": 11,
    "start_time": "2022-03-05T08:29:28.476Z"
   },
   {
    "duration": 8,
    "start_time": "2022-03-05T08:29:28.489Z"
   },
   {
    "duration": 5,
    "start_time": "2022-03-05T08:29:28.499Z"
   },
   {
    "duration": 17,
    "start_time": "2022-03-05T08:29:28.505Z"
   },
   {
    "duration": 34,
    "start_time": "2022-03-05T08:29:28.524Z"
   },
   {
    "duration": 82,
    "start_time": "2022-03-05T08:29:28.559Z"
   },
   {
    "duration": 549,
    "start_time": "2022-03-05T08:29:28.643Z"
   },
   {
    "duration": 149,
    "start_time": "2022-03-05T08:29:29.194Z"
   },
   {
    "duration": 146,
    "start_time": "2022-03-05T08:29:29.345Z"
   },
   {
    "duration": 147,
    "start_time": "2022-03-05T08:29:29.493Z"
   },
   {
    "duration": 11,
    "start_time": "2022-03-05T08:29:29.642Z"
   },
   {
    "duration": 84,
    "start_time": "2022-03-05T08:29:29.655Z"
   },
   {
    "duration": 642,
    "start_time": "2022-03-05T08:29:29.743Z"
   },
   {
    "duration": 12,
    "start_time": "2022-03-05T08:29:30.387Z"
   },
   {
    "duration": 40,
    "start_time": "2022-03-05T08:29:30.401Z"
   },
   {
    "duration": 413,
    "start_time": "2022-03-05T08:29:30.445Z"
   },
   {
    "duration": 209,
    "start_time": "2022-03-05T08:29:30.860Z"
   },
   {
    "duration": 528,
    "start_time": "2022-03-05T08:29:31.071Z"
   },
   {
    "duration": 2558,
    "start_time": "2022-03-05T08:30:12.541Z"
   },
   {
    "duration": 2557,
    "start_time": "2022-03-05T08:30:12.544Z"
   },
   {
    "duration": 2555,
    "start_time": "2022-03-05T08:30:12.547Z"
   },
   {
    "duration": 2550,
    "start_time": "2022-03-05T08:30:12.553Z"
   },
   {
    "duration": 2549,
    "start_time": "2022-03-05T08:30:12.556Z"
   },
   {
    "duration": 2547,
    "start_time": "2022-03-05T08:30:12.558Z"
   },
   {
    "duration": 2547,
    "start_time": "2022-03-05T08:30:12.560Z"
   },
   {
    "duration": 2545,
    "start_time": "2022-03-05T08:30:12.563Z"
   },
   {
    "duration": 2544,
    "start_time": "2022-03-05T08:30:12.565Z"
   },
   {
    "duration": 2542,
    "start_time": "2022-03-05T08:30:12.568Z"
   },
   {
    "duration": 2540,
    "start_time": "2022-03-05T08:30:12.571Z"
   },
   {
    "duration": 2540,
    "start_time": "2022-03-05T08:30:12.573Z"
   },
   {
    "duration": 2538,
    "start_time": "2022-03-05T08:30:12.576Z"
   },
   {
    "duration": 2537,
    "start_time": "2022-03-05T08:30:12.578Z"
   },
   {
    "duration": 2535,
    "start_time": "2022-03-05T08:30:12.581Z"
   },
   {
    "duration": 2527,
    "start_time": "2022-03-05T08:30:12.590Z"
   },
   {
    "duration": 2527,
    "start_time": "2022-03-05T08:30:12.592Z"
   },
   {
    "duration": 2526,
    "start_time": "2022-03-05T08:30:12.594Z"
   },
   {
    "duration": 2524,
    "start_time": "2022-03-05T08:30:12.597Z"
   },
   {
    "duration": 2523,
    "start_time": "2022-03-05T08:30:12.599Z"
   },
   {
    "duration": 2523,
    "start_time": "2022-03-05T08:30:12.601Z"
   },
   {
    "duration": 2521,
    "start_time": "2022-03-05T08:30:12.604Z"
   },
   {
    "duration": 2519,
    "start_time": "2022-03-05T08:30:12.607Z"
   },
   {
    "duration": 2515,
    "start_time": "2022-03-05T08:30:12.612Z"
   },
   {
    "duration": 2513,
    "start_time": "2022-03-05T08:30:12.615Z"
   },
   {
    "duration": 2514,
    "start_time": "2022-03-05T08:30:12.616Z"
   },
   {
    "duration": 2512,
    "start_time": "2022-03-05T08:30:12.619Z"
   },
   {
    "duration": 4,
    "start_time": "2022-03-05T08:31:53.687Z"
   },
   {
    "duration": 52,
    "start_time": "2022-03-05T08:31:53.693Z"
   },
   {
    "duration": 11,
    "start_time": "2022-03-05T08:31:53.747Z"
   },
   {
    "duration": 18,
    "start_time": "2022-03-05T08:31:53.760Z"
   },
   {
    "duration": 4,
    "start_time": "2022-03-05T08:31:53.779Z"
   },
   {
    "duration": 22,
    "start_time": "2022-03-05T08:31:53.785Z"
   },
   {
    "duration": 47,
    "start_time": "2022-03-05T08:31:53.808Z"
   },
   {
    "duration": 6,
    "start_time": "2022-03-05T08:31:53.858Z"
   },
   {
    "duration": 9,
    "start_time": "2022-03-05T08:31:53.866Z"
   },
   {
    "duration": 3,
    "start_time": "2022-03-05T08:31:53.877Z"
   },
   {
    "duration": 5,
    "start_time": "2022-03-05T08:31:53.882Z"
   },
   {
    "duration": 58,
    "start_time": "2022-03-05T08:31:53.889Z"
   },
   {
    "duration": 93,
    "start_time": "2022-03-05T08:31:53.948Z"
   },
   {
    "duration": 604,
    "start_time": "2022-03-05T08:31:54.043Z"
   },
   {
    "duration": 207,
    "start_time": "2022-03-05T08:31:54.649Z"
   },
   {
    "duration": 169,
    "start_time": "2022-03-05T08:31:54.858Z"
   },
   {
    "duration": 149,
    "start_time": "2022-03-05T08:31:55.037Z"
   },
   {
    "duration": 12,
    "start_time": "2022-03-05T08:31:55.188Z"
   },
   {
    "duration": 41,
    "start_time": "2022-03-05T08:31:55.203Z"
   },
   {
    "duration": 700,
    "start_time": "2022-03-05T08:31:55.246Z"
   },
   {
    "duration": 12,
    "start_time": "2022-03-05T08:31:55.948Z"
   },
   {
    "duration": 83,
    "start_time": "2022-03-05T08:31:55.962Z"
   },
   {
    "duration": 353,
    "start_time": "2022-03-05T08:31:56.050Z"
   },
   {
    "duration": 257,
    "start_time": "2022-03-05T08:31:56.405Z"
   },
   {
    "duration": 543,
    "start_time": "2022-03-05T08:31:56.663Z"
   },
   {
    "duration": 41168,
    "start_time": "2022-03-05T08:31:57.208Z"
   },
   {
    "duration": 481,
    "start_time": "2022-03-05T08:32:38.378Z"
   },
   {
    "duration": 81520,
    "start_time": "2022-03-05T08:38:06.507Z"
   },
   {
    "duration": 5,
    "start_time": "2022-03-05T08:43:11.561Z"
   },
   {
    "duration": 39,
    "start_time": "2022-03-05T08:43:11.568Z"
   },
   {
    "duration": 9,
    "start_time": "2022-03-05T08:43:11.609Z"
   },
   {
    "duration": 19,
    "start_time": "2022-03-05T08:43:11.621Z"
   },
   {
    "duration": 5,
    "start_time": "2022-03-05T08:43:11.642Z"
   },
   {
    "duration": 21,
    "start_time": "2022-03-05T08:43:11.649Z"
   },
   {
    "duration": 22,
    "start_time": "2022-03-05T08:43:11.682Z"
   },
   {
    "duration": 5,
    "start_time": "2022-03-05T08:43:11.706Z"
   },
   {
    "duration": 31,
    "start_time": "2022-03-05T08:43:11.713Z"
   },
   {
    "duration": 4,
    "start_time": "2022-03-05T08:43:11.746Z"
   },
   {
    "duration": 5,
    "start_time": "2022-03-05T08:43:11.752Z"
   },
   {
    "duration": 29,
    "start_time": "2022-03-05T08:43:11.759Z"
   },
   {
    "duration": 53,
    "start_time": "2022-03-05T08:43:11.790Z"
   },
   {
    "duration": 604,
    "start_time": "2022-03-05T08:43:11.846Z"
   },
   {
    "duration": 169,
    "start_time": "2022-03-05T08:43:12.452Z"
   },
   {
    "duration": 225,
    "start_time": "2022-03-05T08:43:12.623Z"
   },
   {
    "duration": 147,
    "start_time": "2022-03-05T08:43:12.850Z"
   },
   {
    "duration": 10,
    "start_time": "2022-03-05T08:43:12.999Z"
   },
   {
    "duration": 41,
    "start_time": "2022-03-05T08:43:13.010Z"
   },
   {
    "duration": 687,
    "start_time": "2022-03-05T08:43:13.053Z"
   },
   {
    "duration": 13,
    "start_time": "2022-03-05T08:43:13.743Z"
   },
   {
    "duration": 14,
    "start_time": "2022-03-05T08:43:13.758Z"
   },
   {
    "duration": 322,
    "start_time": "2022-03-05T08:43:13.839Z"
   },
   {
    "duration": 206,
    "start_time": "2022-03-05T08:43:14.162Z"
   },
   {
    "duration": 512,
    "start_time": "2022-03-05T08:43:14.370Z"
   },
   {
    "duration": 41242,
    "start_time": "2022-03-05T08:43:14.884Z"
   },
   {
    "duration": 466,
    "start_time": "2022-03-05T08:43:56.128Z"
   },
   {
    "duration": 43,
    "start_time": "2022-03-05T08:47:57.395Z"
   },
   {
    "duration": 498,
    "start_time": "2022-03-05T08:48:26.981Z"
   },
   {
    "duration": 19,
    "start_time": "2022-03-05T08:49:28.328Z"
   },
   {
    "duration": 238,
    "start_time": "2022-03-05T08:50:06.608Z"
   },
   {
    "duration": 272,
    "start_time": "2022-03-05T08:51:40.220Z"
   },
   {
    "duration": 523,
    "start_time": "2022-03-05T08:52:44.276Z"
   },
   {
    "duration": 63,
    "start_time": "2022-03-05T08:53:56.451Z"
   },
   {
    "duration": 501,
    "start_time": "2022-03-05T08:56:18.118Z"
   },
   {
    "duration": 517,
    "start_time": "2022-03-05T08:58:14.943Z"
   },
   {
    "duration": 298,
    "start_time": "2022-03-05T08:59:54.804Z"
   },
   {
    "duration": 245,
    "start_time": "2022-03-05T09:02:15.676Z"
   },
   {
    "duration": 246,
    "start_time": "2022-03-05T09:05:53.067Z"
   },
   {
    "duration": 64,
    "start_time": "2022-03-05T09:06:24.520Z"
   },
   {
    "duration": 1101,
    "start_time": "2022-03-05T12:19:33.910Z"
   },
   {
    "duration": 39,
    "start_time": "2022-03-05T12:19:35.012Z"
   },
   {
    "duration": 13,
    "start_time": "2022-03-05T12:19:35.053Z"
   },
   {
    "duration": 325,
    "start_time": "2022-03-05T12:19:35.068Z"
   },
   {
    "duration": 5,
    "start_time": "2022-03-05T12:19:35.395Z"
   },
   {
    "duration": 28,
    "start_time": "2022-03-05T12:19:35.402Z"
   },
   {
    "duration": 30,
    "start_time": "2022-03-05T12:19:35.432Z"
   },
   {
    "duration": 5,
    "start_time": "2022-03-05T12:19:35.465Z"
   },
   {
    "duration": 10,
    "start_time": "2022-03-05T12:19:35.472Z"
   },
   {
    "duration": 3,
    "start_time": "2022-03-05T12:19:35.483Z"
   },
   {
    "duration": 6,
    "start_time": "2022-03-05T12:19:35.488Z"
   },
   {
    "duration": 31,
    "start_time": "2022-03-05T12:19:35.495Z"
   },
   {
    "duration": 135,
    "start_time": "2022-03-05T12:19:35.528Z"
   },
   {
    "duration": 586,
    "start_time": "2022-03-05T12:19:35.665Z"
   },
   {
    "duration": 157,
    "start_time": "2022-03-05T12:19:36.253Z"
   },
   {
    "duration": 139,
    "start_time": "2022-03-05T12:19:36.411Z"
   },
   {
    "duration": 150,
    "start_time": "2022-03-05T12:19:36.559Z"
   },
   {
    "duration": 10,
    "start_time": "2022-03-05T12:19:36.711Z"
   },
   {
    "duration": 145,
    "start_time": "2022-03-05T12:19:36.723Z"
   },
   {
    "duration": 579,
    "start_time": "2022-03-05T12:19:36.870Z"
   },
   {
    "duration": 18,
    "start_time": "2022-03-05T12:19:37.451Z"
   },
   {
    "duration": 35,
    "start_time": "2022-03-05T12:19:37.471Z"
   },
   {
    "duration": 328,
    "start_time": "2022-03-05T12:19:37.560Z"
   },
   {
    "duration": 226,
    "start_time": "2022-03-05T12:19:37.890Z"
   },
   {
    "duration": 591,
    "start_time": "2022-03-05T12:19:38.118Z"
   },
   {
    "duration": 44900,
    "start_time": "2022-03-05T12:19:38.711Z"
   },
   {
    "duration": 277,
    "start_time": "2022-03-05T12:20:23.612Z"
   },
   {
    "duration": 274,
    "start_time": "2022-03-05T12:20:47.155Z"
   },
   {
    "duration": 563,
    "start_time": "2022-03-05T12:21:35.480Z"
   },
   {
    "duration": 260,
    "start_time": "2022-03-05T12:22:04.162Z"
   },
   {
    "duration": 576,
    "start_time": "2022-03-05T12:22:18.816Z"
   },
   {
    "duration": 384,
    "start_time": "2022-03-05T12:23:28.223Z"
   },
   {
    "duration": 128,
    "start_time": "2022-03-05T12:25:46.630Z"
   },
   {
    "duration": 543,
    "start_time": "2022-03-05T12:26:32.154Z"
   },
   {
    "duration": 30,
    "start_time": "2022-03-05T12:28:00.741Z"
   },
   {
    "duration": 26,
    "start_time": "2022-03-05T12:28:58.750Z"
   },
   {
    "duration": 572,
    "start_time": "2022-03-05T12:29:26.322Z"
   },
   {
    "duration": 33,
    "start_time": "2022-03-05T12:29:53.453Z"
   },
   {
    "duration": 19,
    "start_time": "2022-03-05T12:30:36.740Z"
   },
   {
    "duration": 274,
    "start_time": "2022-03-05T12:31:08.742Z"
   },
   {
    "duration": 1390,
    "start_time": "2022-03-05T12:32:10.874Z"
   },
   {
    "duration": 1410,
    "start_time": "2022-03-05T12:34:33.548Z"
   },
   {
    "duration": 217,
    "start_time": "2022-03-05T12:35:27.683Z"
   },
   {
    "duration": 218,
    "start_time": "2022-03-05T12:36:28.606Z"
   },
   {
    "duration": 238,
    "start_time": "2022-03-05T12:38:05.694Z"
   },
   {
    "duration": 214,
    "start_time": "2022-03-05T12:39:53.880Z"
   },
   {
    "duration": 258,
    "start_time": "2022-03-05T12:40:53.151Z"
   },
   {
    "duration": 555,
    "start_time": "2022-03-05T12:50:15.286Z"
   },
   {
    "duration": 573,
    "start_time": "2022-03-05T12:50:29.198Z"
   },
   {
    "duration": 1268,
    "start_time": "2022-03-05T12:50:53.226Z"
   },
   {
    "duration": 538,
    "start_time": "2022-03-05T12:52:04.506Z"
   },
   {
    "duration": 243,
    "start_time": "2022-03-05T12:52:08.884Z"
   },
   {
    "duration": 291,
    "start_time": "2022-03-05T12:54:27.026Z"
   },
   {
    "duration": 250,
    "start_time": "2022-03-05T12:54:32.818Z"
   },
   {
    "duration": 121,
    "start_time": "2022-03-05T12:56:48.741Z"
   },
   {
    "duration": 78,
    "start_time": "2022-03-05T12:57:12.891Z"
   },
   {
    "duration": 547,
    "start_time": "2022-03-05T12:57:35.021Z"
   },
   {
    "duration": 537,
    "start_time": "2022-03-05T12:57:41.728Z"
   },
   {
    "duration": 504,
    "start_time": "2022-03-05T12:58:05.804Z"
   },
   {
    "duration": 60,
    "start_time": "2022-03-05T12:58:28.065Z"
   },
   {
    "duration": 67,
    "start_time": "2022-03-05T12:58:32.332Z"
   },
   {
    "duration": 61,
    "start_time": "2022-03-05T12:58:41.872Z"
   },
   {
    "duration": 553,
    "start_time": "2022-03-05T12:59:01.651Z"
   },
   {
    "duration": 44381,
    "start_time": "2022-03-05T12:59:57.594Z"
   },
   {
    "duration": 44059,
    "start_time": "2022-03-05T13:01:08.700Z"
   },
   {
    "duration": 34,
    "start_time": "2022-03-05T13:01:57.508Z"
   },
   {
    "duration": 39,
    "start_time": "2022-03-05T13:02:36.868Z"
   },
   {
    "duration": 495,
    "start_time": "2022-03-05T13:03:43.482Z"
   },
   {
    "duration": 485,
    "start_time": "2022-03-05T13:03:52.647Z"
   },
   {
    "duration": 44319,
    "start_time": "2022-03-05T13:06:27.805Z"
   },
   {
    "duration": 5,
    "start_time": "2022-03-05T13:07:29.095Z"
   },
   {
    "duration": 42,
    "start_time": "2022-03-05T13:07:29.101Z"
   },
   {
    "duration": 8,
    "start_time": "2022-03-05T13:07:29.145Z"
   },
   {
    "duration": 16,
    "start_time": "2022-03-05T13:07:29.155Z"
   },
   {
    "duration": 4,
    "start_time": "2022-03-05T13:07:29.172Z"
   },
   {
    "duration": 21,
    "start_time": "2022-03-05T13:07:29.178Z"
   },
   {
    "duration": 21,
    "start_time": "2022-03-05T13:07:29.202Z"
   },
   {
    "duration": 34,
    "start_time": "2022-03-05T13:07:29.225Z"
   },
   {
    "duration": 9,
    "start_time": "2022-03-05T13:07:29.261Z"
   },
   {
    "duration": 4,
    "start_time": "2022-03-05T13:07:29.271Z"
   },
   {
    "duration": 3,
    "start_time": "2022-03-05T13:07:29.276Z"
   },
   {
    "duration": 27,
    "start_time": "2022-03-05T13:07:29.281Z"
   },
   {
    "duration": 58,
    "start_time": "2022-03-05T13:07:29.310Z"
   },
   {
    "duration": 647,
    "start_time": "2022-03-05T13:07:29.460Z"
   },
   {
    "duration": 157,
    "start_time": "2022-03-05T13:07:30.109Z"
   },
   {
    "duration": 165,
    "start_time": "2022-03-05T13:07:30.268Z"
   },
   {
    "duration": 148,
    "start_time": "2022-03-05T13:07:30.435Z"
   },
   {
    "duration": 11,
    "start_time": "2022-03-05T13:07:30.586Z"
   },
   {
    "duration": 71,
    "start_time": "2022-03-05T13:07:30.600Z"
   },
   {
    "duration": 684,
    "start_time": "2022-03-05T13:07:30.761Z"
   },
   {
    "duration": 17,
    "start_time": "2022-03-05T13:07:31.447Z"
   },
   {
    "duration": 94,
    "start_time": "2022-03-05T13:07:31.466Z"
   },
   {
    "duration": 369,
    "start_time": "2022-03-05T13:07:31.563Z"
   },
   {
    "duration": 290,
    "start_time": "2022-03-05T13:07:31.934Z"
   },
   {
    "duration": 143,
    "start_time": "2022-03-05T13:07:32.226Z"
   },
   {
    "duration": 639,
    "start_time": "2022-03-05T13:07:32.376Z"
   },
   {
    "duration": 507,
    "start_time": "2022-03-05T13:07:33.016Z"
   },
   {
    "duration": 44710,
    "start_time": "2022-03-05T13:07:33.525Z"
   },
   {
    "duration": 506,
    "start_time": "2022-03-05T13:08:18.237Z"
   },
   {
    "duration": 265,
    "start_time": "2022-03-05T13:08:18.745Z"
   },
   {
    "duration": 93,
    "start_time": "2022-03-05T13:09:35.320Z"
   },
   {
    "duration": 92,
    "start_time": "2022-03-05T13:09:44.497Z"
   },
   {
    "duration": 87,
    "start_time": "2022-03-05T13:10:32.383Z"
   },
   {
    "duration": 4,
    "start_time": "2022-03-05T13:10:56.636Z"
   },
   {
    "duration": 39,
    "start_time": "2022-03-05T13:10:56.642Z"
   },
   {
    "duration": 8,
    "start_time": "2022-03-05T13:10:56.683Z"
   },
   {
    "duration": 17,
    "start_time": "2022-03-05T13:10:56.693Z"
   },
   {
    "duration": 5,
    "start_time": "2022-03-05T13:10:56.711Z"
   },
   {
    "duration": 53,
    "start_time": "2022-03-05T13:10:56.717Z"
   },
   {
    "duration": 21,
    "start_time": "2022-03-05T13:10:56.773Z"
   },
   {
    "duration": 5,
    "start_time": "2022-03-05T13:10:56.796Z"
   },
   {
    "duration": 12,
    "start_time": "2022-03-05T13:10:56.803Z"
   },
   {
    "duration": 3,
    "start_time": "2022-03-05T13:10:56.817Z"
   },
   {
    "duration": 4,
    "start_time": "2022-03-05T13:10:56.822Z"
   },
   {
    "duration": 52,
    "start_time": "2022-03-05T13:10:56.828Z"
   },
   {
    "duration": 81,
    "start_time": "2022-03-05T13:10:56.882Z"
   },
   {
    "duration": 608,
    "start_time": "2022-03-05T13:10:56.966Z"
   },
   {
    "duration": 159,
    "start_time": "2022-03-05T13:10:57.576Z"
   },
   {
    "duration": 142,
    "start_time": "2022-03-05T13:10:57.736Z"
   },
   {
    "duration": 143,
    "start_time": "2022-03-05T13:10:57.879Z"
   },
   {
    "duration": 9,
    "start_time": "2022-03-05T13:10:58.023Z"
   },
   {
    "duration": 223,
    "start_time": "2022-03-05T13:10:58.035Z"
   },
   {
    "duration": 626,
    "start_time": "2022-03-05T13:10:58.261Z"
   },
   {
    "duration": 12,
    "start_time": "2022-03-05T13:10:58.889Z"
   },
   {
    "duration": 67,
    "start_time": "2022-03-05T13:10:58.903Z"
   },
   {
    "duration": 357,
    "start_time": "2022-03-05T13:10:59.060Z"
   },
   {
    "duration": 202,
    "start_time": "2022-03-05T13:10:59.419Z"
   },
   {
    "duration": 237,
    "start_time": "2022-03-05T13:10:59.623Z"
   },
   {
    "duration": 547,
    "start_time": "2022-03-05T13:10:59.862Z"
   },
   {
    "duration": 496,
    "start_time": "2022-03-05T13:11:00.411Z"
   },
   {
    "duration": 44587,
    "start_time": "2022-03-05T13:11:00.909Z"
   },
   {
    "duration": 94,
    "start_time": "2022-03-05T13:11:45.498Z"
   },
   {
    "duration": 275,
    "start_time": "2022-03-05T13:11:45.594Z"
   },
   {
    "duration": 19,
    "start_time": "2022-03-05T13:15:29.697Z"
   },
   {
    "duration": 15,
    "start_time": "2022-03-05T13:15:37.967Z"
   },
   {
    "duration": 18,
    "start_time": "2022-03-05T13:15:40.417Z"
   },
   {
    "duration": 40,
    "start_time": "2022-03-05T13:16:11.285Z"
   },
   {
    "duration": 43,
    "start_time": "2022-03-05T13:16:14.709Z"
   },
   {
    "duration": 220,
    "start_time": "2022-03-05T13:16:38.499Z"
   },
   {
    "duration": 200,
    "start_time": "2022-03-05T13:16:52.576Z"
   },
   {
    "duration": 199,
    "start_time": "2022-03-05T13:16:58.468Z"
   },
   {
    "duration": 203,
    "start_time": "2022-03-05T13:17:16.490Z"
   },
   {
    "duration": 65,
    "start_time": "2022-03-05T13:20:10.240Z"
   }
  ],
  "kernelspec": {
   "display_name": "Python 3 (ipykernel)",
   "language": "python",
   "name": "python3"
  },
  "language_info": {
   "codemirror_mode": {
    "name": "ipython",
    "version": 3
   },
   "file_extension": ".py",
   "mimetype": "text/x-python",
   "name": "python",
   "nbconvert_exporter": "python",
   "pygments_lexer": "ipython3",
   "version": "3.9.5"
  },
  "toc": {
   "base_numbering": 1,
   "nav_menu": {},
   "number_sections": true,
   "sideBar": true,
   "skip_h1_title": true,
   "title_cell": "Содержание",
   "title_sidebar": "Contents",
   "toc_cell": true,
   "toc_position": {},
   "toc_section_display": true,
   "toc_window_display": true
  }
 },
 "nbformat": 4,
 "nbformat_minor": 2
}
