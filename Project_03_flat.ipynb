{
 "cells": [
  {
   "cell_type": "markdown",
   "metadata": {
    "toc": true
   },
   "source": [
    "<h1>Содержание<span class=\"tocSkip\"></span></h1>\n",
    "<div class=\"toc\"><ul class=\"toc-item\"><li><span><a href=\"#Изучение-данных-из-файла\" data-toc-modified-id=\"Изучение-данных-из-файла-1\"><span class=\"toc-item-num\">1&nbsp;&nbsp;</span>Изучение данных из файла</a></span><ul class=\"toc-item\"><li><span><a href=\"#Вывод\" data-toc-modified-id=\"Вывод-1.1\"><span class=\"toc-item-num\">1.1&nbsp;&nbsp;</span>Вывод</a></span></li></ul></li><li><span><a href=\"#Предобработка-данных\" data-toc-modified-id=\"Предобработка-данных-2\"><span class=\"toc-item-num\">2&nbsp;&nbsp;</span>Предобработка данных</a></span></li><li><span><a href=\"#Расчёты-и-добавление-результатов-в-таблицу\" data-toc-modified-id=\"Расчёты-и-добавление-результатов-в-таблицу-3\"><span class=\"toc-item-num\">3&nbsp;&nbsp;</span>Расчёты и добавление результатов в таблицу</a></span></li><li><span><a href=\"#Исследовательский-анализ-данных\" data-toc-modified-id=\"Исследовательский-анализ-данных-4\"><span class=\"toc-item-num\">4&nbsp;&nbsp;</span>Исследовательский анализ данных</a></span></li><li><span><a href=\"#Общий-вывод\" data-toc-modified-id=\"Общий-вывод-5\"><span class=\"toc-item-num\">5&nbsp;&nbsp;</span>Общий вывод</a></span></li><li><span><a href=\"#Чек-лист-готовности-проекта\" data-toc-modified-id=\"Чек-лист-готовности-проекта-6\"><span class=\"toc-item-num\">6&nbsp;&nbsp;</span>Чек-лист готовности проекта</a></span></li></ul></div>"
   ]
  },
  {
   "cell_type": "markdown",
   "metadata": {},
   "source": [
    "# Исследование объявлений о продаже квартир\n",
    "\n",
    "В вашем распоряжении данные сервиса Яндекс.Недвижимость — архив объявлений о продаже квартир в Санкт-Петербурге и соседних населённых пунктах за несколько лет. Нужно научиться определять рыночную стоимость объектов недвижимости. Ваша задача — установить параметры. Это позволит построить автоматизированную систему: она отследит аномалии и мошенническую деятельность. \n",
    "\n",
    "По каждой квартире на продажу доступны два вида данных. Первые вписаны пользователем, вторые получены автоматически на основе картографических данных. Например, расстояние до центра, аэропорта, ближайшего парка и водоёма. "
   ]
  },
  {
   "cell_type": "markdown",
   "metadata": {},
   "source": [
    "## Изучение данных из файла"
   ]
  },
  {
   "cell_type": "code",
   "execution_count": 1,
   "metadata": {},
   "outputs": [
    {
     "data": {
      "text/html": [
       "<div>\n",
       "<style scoped>\n",
       "    .dataframe tbody tr th:only-of-type {\n",
       "        vertical-align: middle;\n",
       "    }\n",
       "\n",
       "    .dataframe tbody tr th {\n",
       "        vertical-align: top;\n",
       "    }\n",
       "\n",
       "    .dataframe thead th {\n",
       "        text-align: right;\n",
       "    }\n",
       "</style>\n",
       "<table border=\"1\" class=\"dataframe\">\n",
       "  <thead>\n",
       "    <tr style=\"text-align: right;\">\n",
       "      <th></th>\n",
       "      <th>total_images</th>\n",
       "      <th>last_price</th>\n",
       "      <th>total_area</th>\n",
       "      <th>first_day_exposition</th>\n",
       "      <th>rooms</th>\n",
       "      <th>ceiling_height</th>\n",
       "      <th>floors_total</th>\n",
       "      <th>living_area</th>\n",
       "      <th>floor</th>\n",
       "      <th>is_apartment</th>\n",
       "      <th>studio</th>\n",
       "      <th>open_plan</th>\n",
       "      <th>kitchen_area</th>\n",
       "      <th>balcony</th>\n",
       "      <th>locality_name</th>\n",
       "      <th>airports_nearest</th>\n",
       "      <th>cityCenters_nearest</th>\n",
       "      <th>parks_around3000</th>\n",
       "      <th>parks_nearest</th>\n",
       "      <th>ponds_around3000</th>\n",
       "      <th>ponds_nearest</th>\n",
       "      <th>days_exposition</th>\n",
       "    </tr>\n",
       "  </thead>\n",
       "  <tbody>\n",
       "    <tr>\n",
       "      <td>0</td>\n",
       "      <td>20</td>\n",
       "      <td>13,000,000.00</td>\n",
       "      <td>108.00</td>\n",
       "      <td>2019-03-07T00:00:00</td>\n",
       "      <td>3</td>\n",
       "      <td>2.70</td>\n",
       "      <td>16.00</td>\n",
       "      <td>51.00</td>\n",
       "      <td>8</td>\n",
       "      <td>NaN</td>\n",
       "      <td>False</td>\n",
       "      <td>False</td>\n",
       "      <td>25.00</td>\n",
       "      <td>nan</td>\n",
       "      <td>Санкт-Петербург</td>\n",
       "      <td>18,863.00</td>\n",
       "      <td>16,028.00</td>\n",
       "      <td>1.00</td>\n",
       "      <td>482.00</td>\n",
       "      <td>2.00</td>\n",
       "      <td>755.00</td>\n",
       "      <td>nan</td>\n",
       "    </tr>\n",
       "    <tr>\n",
       "      <td>1</td>\n",
       "      <td>7</td>\n",
       "      <td>3,350,000.00</td>\n",
       "      <td>40.40</td>\n",
       "      <td>2018-12-04T00:00:00</td>\n",
       "      <td>1</td>\n",
       "      <td>nan</td>\n",
       "      <td>11.00</td>\n",
       "      <td>18.60</td>\n",
       "      <td>1</td>\n",
       "      <td>NaN</td>\n",
       "      <td>False</td>\n",
       "      <td>False</td>\n",
       "      <td>11.00</td>\n",
       "      <td>2.00</td>\n",
       "      <td>посёлок Шушары</td>\n",
       "      <td>12,817.00</td>\n",
       "      <td>18,603.00</td>\n",
       "      <td>0.00</td>\n",
       "      <td>nan</td>\n",
       "      <td>0.00</td>\n",
       "      <td>nan</td>\n",
       "      <td>81.00</td>\n",
       "    </tr>\n",
       "    <tr>\n",
       "      <td>2</td>\n",
       "      <td>10</td>\n",
       "      <td>5,196,000.00</td>\n",
       "      <td>56.00</td>\n",
       "      <td>2015-08-20T00:00:00</td>\n",
       "      <td>2</td>\n",
       "      <td>nan</td>\n",
       "      <td>5.00</td>\n",
       "      <td>34.30</td>\n",
       "      <td>4</td>\n",
       "      <td>NaN</td>\n",
       "      <td>False</td>\n",
       "      <td>False</td>\n",
       "      <td>8.30</td>\n",
       "      <td>0.00</td>\n",
       "      <td>Санкт-Петербург</td>\n",
       "      <td>21,741.00</td>\n",
       "      <td>13,933.00</td>\n",
       "      <td>1.00</td>\n",
       "      <td>90.00</td>\n",
       "      <td>2.00</td>\n",
       "      <td>574.00</td>\n",
       "      <td>558.00</td>\n",
       "    </tr>\n",
       "    <tr>\n",
       "      <td>3</td>\n",
       "      <td>0</td>\n",
       "      <td>64,900,000.00</td>\n",
       "      <td>159.00</td>\n",
       "      <td>2015-07-24T00:00:00</td>\n",
       "      <td>3</td>\n",
       "      <td>nan</td>\n",
       "      <td>14.00</td>\n",
       "      <td>nan</td>\n",
       "      <td>9</td>\n",
       "      <td>NaN</td>\n",
       "      <td>False</td>\n",
       "      <td>False</td>\n",
       "      <td>nan</td>\n",
       "      <td>0.00</td>\n",
       "      <td>Санкт-Петербург</td>\n",
       "      <td>28,098.00</td>\n",
       "      <td>6,800.00</td>\n",
       "      <td>2.00</td>\n",
       "      <td>84.00</td>\n",
       "      <td>3.00</td>\n",
       "      <td>234.00</td>\n",
       "      <td>424.00</td>\n",
       "    </tr>\n",
       "    <tr>\n",
       "      <td>4</td>\n",
       "      <td>2</td>\n",
       "      <td>10,000,000.00</td>\n",
       "      <td>100.00</td>\n",
       "      <td>2018-06-19T00:00:00</td>\n",
       "      <td>2</td>\n",
       "      <td>3.03</td>\n",
       "      <td>14.00</td>\n",
       "      <td>32.00</td>\n",
       "      <td>13</td>\n",
       "      <td>NaN</td>\n",
       "      <td>False</td>\n",
       "      <td>False</td>\n",
       "      <td>41.00</td>\n",
       "      <td>nan</td>\n",
       "      <td>Санкт-Петербург</td>\n",
       "      <td>31,856.00</td>\n",
       "      <td>8,098.00</td>\n",
       "      <td>2.00</td>\n",
       "      <td>112.00</td>\n",
       "      <td>1.00</td>\n",
       "      <td>48.00</td>\n",
       "      <td>121.00</td>\n",
       "    </tr>\n",
       "    <tr>\n",
       "      <td>5</td>\n",
       "      <td>10</td>\n",
       "      <td>2,890,000.00</td>\n",
       "      <td>30.40</td>\n",
       "      <td>2018-09-10T00:00:00</td>\n",
       "      <td>1</td>\n",
       "      <td>nan</td>\n",
       "      <td>12.00</td>\n",
       "      <td>14.40</td>\n",
       "      <td>5</td>\n",
       "      <td>NaN</td>\n",
       "      <td>False</td>\n",
       "      <td>False</td>\n",
       "      <td>9.10</td>\n",
       "      <td>nan</td>\n",
       "      <td>городской посёлок Янино-1</td>\n",
       "      <td>nan</td>\n",
       "      <td>nan</td>\n",
       "      <td>nan</td>\n",
       "      <td>nan</td>\n",
       "      <td>nan</td>\n",
       "      <td>nan</td>\n",
       "      <td>55.00</td>\n",
       "    </tr>\n",
       "    <tr>\n",
       "      <td>6</td>\n",
       "      <td>6</td>\n",
       "      <td>3,700,000.00</td>\n",
       "      <td>37.30</td>\n",
       "      <td>2017-11-02T00:00:00</td>\n",
       "      <td>1</td>\n",
       "      <td>nan</td>\n",
       "      <td>26.00</td>\n",
       "      <td>10.60</td>\n",
       "      <td>6</td>\n",
       "      <td>NaN</td>\n",
       "      <td>False</td>\n",
       "      <td>False</td>\n",
       "      <td>14.40</td>\n",
       "      <td>1.00</td>\n",
       "      <td>посёлок Парголово</td>\n",
       "      <td>52,996.00</td>\n",
       "      <td>19,143.00</td>\n",
       "      <td>0.00</td>\n",
       "      <td>nan</td>\n",
       "      <td>0.00</td>\n",
       "      <td>nan</td>\n",
       "      <td>155.00</td>\n",
       "    </tr>\n",
       "    <tr>\n",
       "      <td>7</td>\n",
       "      <td>5</td>\n",
       "      <td>7,915,000.00</td>\n",
       "      <td>71.60</td>\n",
       "      <td>2019-04-18T00:00:00</td>\n",
       "      <td>2</td>\n",
       "      <td>nan</td>\n",
       "      <td>24.00</td>\n",
       "      <td>nan</td>\n",
       "      <td>22</td>\n",
       "      <td>NaN</td>\n",
       "      <td>False</td>\n",
       "      <td>False</td>\n",
       "      <td>18.90</td>\n",
       "      <td>2.00</td>\n",
       "      <td>Санкт-Петербург</td>\n",
       "      <td>23,982.00</td>\n",
       "      <td>11,634.00</td>\n",
       "      <td>0.00</td>\n",
       "      <td>nan</td>\n",
       "      <td>0.00</td>\n",
       "      <td>nan</td>\n",
       "      <td>nan</td>\n",
       "    </tr>\n",
       "    <tr>\n",
       "      <td>8</td>\n",
       "      <td>20</td>\n",
       "      <td>2,900,000.00</td>\n",
       "      <td>33.16</td>\n",
       "      <td>2018-05-23T00:00:00</td>\n",
       "      <td>1</td>\n",
       "      <td>nan</td>\n",
       "      <td>27.00</td>\n",
       "      <td>15.43</td>\n",
       "      <td>26</td>\n",
       "      <td>NaN</td>\n",
       "      <td>False</td>\n",
       "      <td>False</td>\n",
       "      <td>8.81</td>\n",
       "      <td>nan</td>\n",
       "      <td>посёлок Мурино</td>\n",
       "      <td>nan</td>\n",
       "      <td>nan</td>\n",
       "      <td>nan</td>\n",
       "      <td>nan</td>\n",
       "      <td>nan</td>\n",
       "      <td>nan</td>\n",
       "      <td>189.00</td>\n",
       "    </tr>\n",
       "    <tr>\n",
       "      <td>9</td>\n",
       "      <td>18</td>\n",
       "      <td>5,400,000.00</td>\n",
       "      <td>61.00</td>\n",
       "      <td>2017-02-26T00:00:00</td>\n",
       "      <td>3</td>\n",
       "      <td>2.50</td>\n",
       "      <td>9.00</td>\n",
       "      <td>43.60</td>\n",
       "      <td>7</td>\n",
       "      <td>NaN</td>\n",
       "      <td>False</td>\n",
       "      <td>False</td>\n",
       "      <td>6.50</td>\n",
       "      <td>2.00</td>\n",
       "      <td>Санкт-Петербург</td>\n",
       "      <td>50,898.00</td>\n",
       "      <td>15,008.00</td>\n",
       "      <td>0.00</td>\n",
       "      <td>nan</td>\n",
       "      <td>0.00</td>\n",
       "      <td>nan</td>\n",
       "      <td>289.00</td>\n",
       "    </tr>\n",
       "    <tr>\n",
       "      <td>10</td>\n",
       "      <td>5</td>\n",
       "      <td>5,050,000.00</td>\n",
       "      <td>39.60</td>\n",
       "      <td>2017-11-16T00:00:00</td>\n",
       "      <td>1</td>\n",
       "      <td>2.67</td>\n",
       "      <td>12.00</td>\n",
       "      <td>20.30</td>\n",
       "      <td>3</td>\n",
       "      <td>NaN</td>\n",
       "      <td>False</td>\n",
       "      <td>False</td>\n",
       "      <td>8.50</td>\n",
       "      <td>nan</td>\n",
       "      <td>Санкт-Петербург</td>\n",
       "      <td>38,357.00</td>\n",
       "      <td>13,878.00</td>\n",
       "      <td>1.00</td>\n",
       "      <td>310.00</td>\n",
       "      <td>2.00</td>\n",
       "      <td>553.00</td>\n",
       "      <td>137.00</td>\n",
       "    </tr>\n",
       "    <tr>\n",
       "      <td>11</td>\n",
       "      <td>9</td>\n",
       "      <td>3,300,000.00</td>\n",
       "      <td>44.00</td>\n",
       "      <td>2018-08-27T00:00:00</td>\n",
       "      <td>2</td>\n",
       "      <td>nan</td>\n",
       "      <td>5.00</td>\n",
       "      <td>31.00</td>\n",
       "      <td>4</td>\n",
       "      <td>False</td>\n",
       "      <td>False</td>\n",
       "      <td>False</td>\n",
       "      <td>6.00</td>\n",
       "      <td>1.00</td>\n",
       "      <td>Ломоносов</td>\n",
       "      <td>48,252.00</td>\n",
       "      <td>51,677.00</td>\n",
       "      <td>0.00</td>\n",
       "      <td>nan</td>\n",
       "      <td>0.00</td>\n",
       "      <td>nan</td>\n",
       "      <td>7.00</td>\n",
       "    </tr>\n",
       "    <tr>\n",
       "      <td>12</td>\n",
       "      <td>10</td>\n",
       "      <td>3,890,000.00</td>\n",
       "      <td>54.00</td>\n",
       "      <td>2016-06-30T00:00:00</td>\n",
       "      <td>2</td>\n",
       "      <td>nan</td>\n",
       "      <td>5.00</td>\n",
       "      <td>30.00</td>\n",
       "      <td>5</td>\n",
       "      <td>NaN</td>\n",
       "      <td>False</td>\n",
       "      <td>False</td>\n",
       "      <td>9.00</td>\n",
       "      <td>0.00</td>\n",
       "      <td>Сертолово</td>\n",
       "      <td>nan</td>\n",
       "      <td>nan</td>\n",
       "      <td>nan</td>\n",
       "      <td>nan</td>\n",
       "      <td>nan</td>\n",
       "      <td>nan</td>\n",
       "      <td>90.00</td>\n",
       "    </tr>\n",
       "    <tr>\n",
       "      <td>13</td>\n",
       "      <td>20</td>\n",
       "      <td>3,550,000.00</td>\n",
       "      <td>42.80</td>\n",
       "      <td>2017-07-01T00:00:00</td>\n",
       "      <td>2</td>\n",
       "      <td>2.56</td>\n",
       "      <td>5.00</td>\n",
       "      <td>27.00</td>\n",
       "      <td>5</td>\n",
       "      <td>NaN</td>\n",
       "      <td>False</td>\n",
       "      <td>False</td>\n",
       "      <td>5.20</td>\n",
       "      <td>1.00</td>\n",
       "      <td>Петергоф</td>\n",
       "      <td>37,868.00</td>\n",
       "      <td>33,058.00</td>\n",
       "      <td>1.00</td>\n",
       "      <td>294.00</td>\n",
       "      <td>3.00</td>\n",
       "      <td>298.00</td>\n",
       "      <td>366.00</td>\n",
       "    </tr>\n",
       "    <tr>\n",
       "      <td>14</td>\n",
       "      <td>1</td>\n",
       "      <td>4,400,000.00</td>\n",
       "      <td>36.00</td>\n",
       "      <td>2016-06-23T00:00:00</td>\n",
       "      <td>1</td>\n",
       "      <td>nan</td>\n",
       "      <td>6.00</td>\n",
       "      <td>17.00</td>\n",
       "      <td>1</td>\n",
       "      <td>NaN</td>\n",
       "      <td>False</td>\n",
       "      <td>False</td>\n",
       "      <td>8.00</td>\n",
       "      <td>0.00</td>\n",
       "      <td>Пушкин</td>\n",
       "      <td>20,782.00</td>\n",
       "      <td>30,759.00</td>\n",
       "      <td>0.00</td>\n",
       "      <td>nan</td>\n",
       "      <td>1.00</td>\n",
       "      <td>96.00</td>\n",
       "      <td>203.00</td>\n",
       "    </tr>\n",
       "    <tr>\n",
       "      <td>15</td>\n",
       "      <td>16</td>\n",
       "      <td>4,650,000.00</td>\n",
       "      <td>39.00</td>\n",
       "      <td>2017-11-18T00:00:00</td>\n",
       "      <td>1</td>\n",
       "      <td>nan</td>\n",
       "      <td>14.00</td>\n",
       "      <td>20.50</td>\n",
       "      <td>5</td>\n",
       "      <td>NaN</td>\n",
       "      <td>False</td>\n",
       "      <td>False</td>\n",
       "      <td>7.60</td>\n",
       "      <td>1.00</td>\n",
       "      <td>Санкт-Петербург</td>\n",
       "      <td>12,900.00</td>\n",
       "      <td>14,259.00</td>\n",
       "      <td>1.00</td>\n",
       "      <td>590.00</td>\n",
       "      <td>1.00</td>\n",
       "      <td>296.00</td>\n",
       "      <td>19.00</td>\n",
       "    </tr>\n",
       "    <tr>\n",
       "      <td>16</td>\n",
       "      <td>11</td>\n",
       "      <td>6,700,000.00</td>\n",
       "      <td>82.00</td>\n",
       "      <td>2017-11-23T00:00:00</td>\n",
       "      <td>3</td>\n",
       "      <td>3.05</td>\n",
       "      <td>5.00</td>\n",
       "      <td>55.60</td>\n",
       "      <td>1</td>\n",
       "      <td>NaN</td>\n",
       "      <td>False</td>\n",
       "      <td>False</td>\n",
       "      <td>9.00</td>\n",
       "      <td>nan</td>\n",
       "      <td>Санкт-Петербург</td>\n",
       "      <td>22,108.00</td>\n",
       "      <td>10,698.00</td>\n",
       "      <td>3.00</td>\n",
       "      <td>420.00</td>\n",
       "      <td>0.00</td>\n",
       "      <td>nan</td>\n",
       "      <td>397.00</td>\n",
       "    </tr>\n",
       "    <tr>\n",
       "      <td>17</td>\n",
       "      <td>6</td>\n",
       "      <td>4,180,000.00</td>\n",
       "      <td>36.00</td>\n",
       "      <td>2016-09-09T00:00:00</td>\n",
       "      <td>1</td>\n",
       "      <td>nan</td>\n",
       "      <td>17.00</td>\n",
       "      <td>16.50</td>\n",
       "      <td>7</td>\n",
       "      <td>NaN</td>\n",
       "      <td>False</td>\n",
       "      <td>False</td>\n",
       "      <td>11.00</td>\n",
       "      <td>1.00</td>\n",
       "      <td>Санкт-Петербург</td>\n",
       "      <td>33,564.00</td>\n",
       "      <td>14,616.00</td>\n",
       "      <td>0.00</td>\n",
       "      <td>nan</td>\n",
       "      <td>1.00</td>\n",
       "      <td>859.00</td>\n",
       "      <td>571.00</td>\n",
       "    </tr>\n",
       "    <tr>\n",
       "      <td>18</td>\n",
       "      <td>8</td>\n",
       "      <td>3,250,000.00</td>\n",
       "      <td>31.00</td>\n",
       "      <td>2017-01-27T00:00:00</td>\n",
       "      <td>1</td>\n",
       "      <td>2.50</td>\n",
       "      <td>5.00</td>\n",
       "      <td>19.40</td>\n",
       "      <td>2</td>\n",
       "      <td>NaN</td>\n",
       "      <td>False</td>\n",
       "      <td>False</td>\n",
       "      <td>5.60</td>\n",
       "      <td>1.00</td>\n",
       "      <td>Санкт-Петербург</td>\n",
       "      <td>44,060.00</td>\n",
       "      <td>10,842.00</td>\n",
       "      <td>1.00</td>\n",
       "      <td>759.00</td>\n",
       "      <td>0.00</td>\n",
       "      <td>nan</td>\n",
       "      <td>168.00</td>\n",
       "    </tr>\n",
       "    <tr>\n",
       "      <td>19</td>\n",
       "      <td>16</td>\n",
       "      <td>14,200,000.00</td>\n",
       "      <td>121.00</td>\n",
       "      <td>2019-01-09T00:00:00</td>\n",
       "      <td>3</td>\n",
       "      <td>2.75</td>\n",
       "      <td>16.00</td>\n",
       "      <td>76.00</td>\n",
       "      <td>8</td>\n",
       "      <td>NaN</td>\n",
       "      <td>False</td>\n",
       "      <td>False</td>\n",
       "      <td>12.00</td>\n",
       "      <td>nan</td>\n",
       "      <td>Санкт-Петербург</td>\n",
       "      <td>38,900.00</td>\n",
       "      <td>12,843.00</td>\n",
       "      <td>0.00</td>\n",
       "      <td>nan</td>\n",
       "      <td>0.00</td>\n",
       "      <td>nan</td>\n",
       "      <td>97.00</td>\n",
       "    </tr>\n",
       "  </tbody>\n",
       "</table>\n",
       "</div>"
      ],
      "text/plain": [
       "    total_images    last_price  total_area first_day_exposition  rooms  \\\n",
       "0             20 13,000,000.00      108.00  2019-03-07T00:00:00      3   \n",
       "1              7  3,350,000.00       40.40  2018-12-04T00:00:00      1   \n",
       "2             10  5,196,000.00       56.00  2015-08-20T00:00:00      2   \n",
       "3              0 64,900,000.00      159.00  2015-07-24T00:00:00      3   \n",
       "4              2 10,000,000.00      100.00  2018-06-19T00:00:00      2   \n",
       "5             10  2,890,000.00       30.40  2018-09-10T00:00:00      1   \n",
       "6              6  3,700,000.00       37.30  2017-11-02T00:00:00      1   \n",
       "7              5  7,915,000.00       71.60  2019-04-18T00:00:00      2   \n",
       "8             20  2,900,000.00       33.16  2018-05-23T00:00:00      1   \n",
       "9             18  5,400,000.00       61.00  2017-02-26T00:00:00      3   \n",
       "10             5  5,050,000.00       39.60  2017-11-16T00:00:00      1   \n",
       "11             9  3,300,000.00       44.00  2018-08-27T00:00:00      2   \n",
       "12            10  3,890,000.00       54.00  2016-06-30T00:00:00      2   \n",
       "13            20  3,550,000.00       42.80  2017-07-01T00:00:00      2   \n",
       "14             1  4,400,000.00       36.00  2016-06-23T00:00:00      1   \n",
       "15            16  4,650,000.00       39.00  2017-11-18T00:00:00      1   \n",
       "16            11  6,700,000.00       82.00  2017-11-23T00:00:00      3   \n",
       "17             6  4,180,000.00       36.00  2016-09-09T00:00:00      1   \n",
       "18             8  3,250,000.00       31.00  2017-01-27T00:00:00      1   \n",
       "19            16 14,200,000.00      121.00  2019-01-09T00:00:00      3   \n",
       "\n",
       "    ceiling_height  floors_total  living_area  floor is_apartment  studio  \\\n",
       "0             2.70         16.00        51.00      8          NaN   False   \n",
       "1              nan         11.00        18.60      1          NaN   False   \n",
       "2              nan          5.00        34.30      4          NaN   False   \n",
       "3              nan         14.00          nan      9          NaN   False   \n",
       "4             3.03         14.00        32.00     13          NaN   False   \n",
       "5              nan         12.00        14.40      5          NaN   False   \n",
       "6              nan         26.00        10.60      6          NaN   False   \n",
       "7              nan         24.00          nan     22          NaN   False   \n",
       "8              nan         27.00        15.43     26          NaN   False   \n",
       "9             2.50          9.00        43.60      7          NaN   False   \n",
       "10            2.67         12.00        20.30      3          NaN   False   \n",
       "11             nan          5.00        31.00      4        False   False   \n",
       "12             nan          5.00        30.00      5          NaN   False   \n",
       "13            2.56          5.00        27.00      5          NaN   False   \n",
       "14             nan          6.00        17.00      1          NaN   False   \n",
       "15             nan         14.00        20.50      5          NaN   False   \n",
       "16            3.05          5.00        55.60      1          NaN   False   \n",
       "17             nan         17.00        16.50      7          NaN   False   \n",
       "18            2.50          5.00        19.40      2          NaN   False   \n",
       "19            2.75         16.00        76.00      8          NaN   False   \n",
       "\n",
       "    open_plan  kitchen_area  balcony              locality_name  \\\n",
       "0       False         25.00      nan            Санкт-Петербург   \n",
       "1       False         11.00     2.00             посёлок Шушары   \n",
       "2       False          8.30     0.00            Санкт-Петербург   \n",
       "3       False           nan     0.00            Санкт-Петербург   \n",
       "4       False         41.00      nan            Санкт-Петербург   \n",
       "5       False          9.10      nan  городской посёлок Янино-1   \n",
       "6       False         14.40     1.00          посёлок Парголово   \n",
       "7       False         18.90     2.00            Санкт-Петербург   \n",
       "8       False          8.81      nan             посёлок Мурино   \n",
       "9       False          6.50     2.00            Санкт-Петербург   \n",
       "10      False          8.50      nan            Санкт-Петербург   \n",
       "11      False          6.00     1.00                  Ломоносов   \n",
       "12      False          9.00     0.00                  Сертолово   \n",
       "13      False          5.20     1.00                   Петергоф   \n",
       "14      False          8.00     0.00                     Пушкин   \n",
       "15      False          7.60     1.00            Санкт-Петербург   \n",
       "16      False          9.00      nan            Санкт-Петербург   \n",
       "17      False         11.00     1.00            Санкт-Петербург   \n",
       "18      False          5.60     1.00            Санкт-Петербург   \n",
       "19      False         12.00      nan            Санкт-Петербург   \n",
       "\n",
       "    airports_nearest  cityCenters_nearest  parks_around3000  parks_nearest  \\\n",
       "0          18,863.00            16,028.00              1.00         482.00   \n",
       "1          12,817.00            18,603.00              0.00            nan   \n",
       "2          21,741.00            13,933.00              1.00          90.00   \n",
       "3          28,098.00             6,800.00              2.00          84.00   \n",
       "4          31,856.00             8,098.00              2.00         112.00   \n",
       "5                nan                  nan               nan            nan   \n",
       "6          52,996.00            19,143.00              0.00            nan   \n",
       "7          23,982.00            11,634.00              0.00            nan   \n",
       "8                nan                  nan               nan            nan   \n",
       "9          50,898.00            15,008.00              0.00            nan   \n",
       "10         38,357.00            13,878.00              1.00         310.00   \n",
       "11         48,252.00            51,677.00              0.00            nan   \n",
       "12               nan                  nan               nan            nan   \n",
       "13         37,868.00            33,058.00              1.00         294.00   \n",
       "14         20,782.00            30,759.00              0.00            nan   \n",
       "15         12,900.00            14,259.00              1.00         590.00   \n",
       "16         22,108.00            10,698.00              3.00         420.00   \n",
       "17         33,564.00            14,616.00              0.00            nan   \n",
       "18         44,060.00            10,842.00              1.00         759.00   \n",
       "19         38,900.00            12,843.00              0.00            nan   \n",
       "\n",
       "    ponds_around3000  ponds_nearest  days_exposition  \n",
       "0               2.00         755.00              nan  \n",
       "1               0.00            nan            81.00  \n",
       "2               2.00         574.00           558.00  \n",
       "3               3.00         234.00           424.00  \n",
       "4               1.00          48.00           121.00  \n",
       "5                nan            nan            55.00  \n",
       "6               0.00            nan           155.00  \n",
       "7               0.00            nan              nan  \n",
       "8                nan            nan           189.00  \n",
       "9               0.00            nan           289.00  \n",
       "10              2.00         553.00           137.00  \n",
       "11              0.00            nan             7.00  \n",
       "12               nan            nan            90.00  \n",
       "13              3.00         298.00           366.00  \n",
       "14              1.00          96.00           203.00  \n",
       "15              1.00         296.00            19.00  \n",
       "16              0.00            nan           397.00  \n",
       "17              1.00         859.00           571.00  \n",
       "18              0.00            nan           168.00  \n",
       "19              0.00            nan            97.00  "
      ]
     },
     "execution_count": 1,
     "metadata": {},
     "output_type": "execute_result"
    }
   ],
   "source": [
    "import pandas as pd\n",
    "import matplotlib.pyplot as plt\n",
    "import numpy as np\n",
    "import seaborn as sns\n",
    "\n",
    "pd.set_option('display.float_format', '{:,.2f}'.format)\n",
    "pd.set_option('display.max_columns', None)\n",
    "try:\n",
    "    data = pd.read_csv('/datasets/real_estate_data.csv', sep='\\t') #приведем таблицу в нормальный вид\n",
    "except:\n",
    "    print('Ошибка. Проверьте правильность пути к данным')\n",
    "data.head(20)"
   ]
  },
  {
   "cell_type": "code",
   "execution_count": 2,
   "metadata": {},
   "outputs": [
    {
     "name": "stdout",
     "output_type": "stream",
     "text": [
      "<class 'pandas.core.frame.DataFrame'>\n",
      "RangeIndex: 23699 entries, 0 to 23698\n",
      "Data columns (total 22 columns):\n",
      "total_images            23699 non-null int64\n",
      "last_price              23699 non-null float64\n",
      "total_area              23699 non-null float64\n",
      "first_day_exposition    23699 non-null object\n",
      "rooms                   23699 non-null int64\n",
      "ceiling_height          14504 non-null float64\n",
      "floors_total            23613 non-null float64\n",
      "living_area             21796 non-null float64\n",
      "floor                   23699 non-null int64\n",
      "is_apartment            2775 non-null object\n",
      "studio                  23699 non-null bool\n",
      "open_plan               23699 non-null bool\n",
      "kitchen_area            21421 non-null float64\n",
      "balcony                 12180 non-null float64\n",
      "locality_name           23650 non-null object\n",
      "airports_nearest        18157 non-null float64\n",
      "cityCenters_nearest     18180 non-null float64\n",
      "parks_around3000        18181 non-null float64\n",
      "parks_nearest           8079 non-null float64\n",
      "ponds_around3000        18181 non-null float64\n",
      "ponds_nearest           9110 non-null float64\n",
      "days_exposition         20518 non-null float64\n",
      "dtypes: bool(2), float64(14), int64(3), object(3)\n",
      "memory usage: 3.7+ MB\n"
     ]
    }
   ],
   "source": [
    "data.info()"
   ]
  },
  {
   "cell_type": "code",
   "execution_count": 3,
   "metadata": {},
   "outputs": [
    {
     "data": {
      "text/html": [
       "<div>\n",
       "<style scoped>\n",
       "    .dataframe tbody tr th:only-of-type {\n",
       "        vertical-align: middle;\n",
       "    }\n",
       "\n",
       "    .dataframe tbody tr th {\n",
       "        vertical-align: top;\n",
       "    }\n",
       "\n",
       "    .dataframe thead th {\n",
       "        text-align: right;\n",
       "    }\n",
       "</style>\n",
       "<table border=\"1\" class=\"dataframe\">\n",
       "  <thead>\n",
       "    <tr style=\"text-align: right;\">\n",
       "      <th></th>\n",
       "      <th>total_images</th>\n",
       "      <th>last_price</th>\n",
       "      <th>total_area</th>\n",
       "      <th>rooms</th>\n",
       "      <th>ceiling_height</th>\n",
       "      <th>floors_total</th>\n",
       "      <th>living_area</th>\n",
       "      <th>floor</th>\n",
       "      <th>kitchen_area</th>\n",
       "      <th>balcony</th>\n",
       "      <th>airports_nearest</th>\n",
       "      <th>cityCenters_nearest</th>\n",
       "      <th>parks_around3000</th>\n",
       "      <th>parks_nearest</th>\n",
       "      <th>ponds_around3000</th>\n",
       "      <th>ponds_nearest</th>\n",
       "      <th>days_exposition</th>\n",
       "    </tr>\n",
       "  </thead>\n",
       "  <tbody>\n",
       "    <tr>\n",
       "      <td>count</td>\n",
       "      <td>23,699.00</td>\n",
       "      <td>23,699.00</td>\n",
       "      <td>23,699.00</td>\n",
       "      <td>23,699.00</td>\n",
       "      <td>14,504.00</td>\n",
       "      <td>23,613.00</td>\n",
       "      <td>21,796.00</td>\n",
       "      <td>23,699.00</td>\n",
       "      <td>21,421.00</td>\n",
       "      <td>12,180.00</td>\n",
       "      <td>18,157.00</td>\n",
       "      <td>18,180.00</td>\n",
       "      <td>18,181.00</td>\n",
       "      <td>8,079.00</td>\n",
       "      <td>18,181.00</td>\n",
       "      <td>9,110.00</td>\n",
       "      <td>20,518.00</td>\n",
       "    </tr>\n",
       "    <tr>\n",
       "      <td>mean</td>\n",
       "      <td>9.86</td>\n",
       "      <td>6,541,548.77</td>\n",
       "      <td>60.35</td>\n",
       "      <td>2.07</td>\n",
       "      <td>2.77</td>\n",
       "      <td>10.67</td>\n",
       "      <td>34.46</td>\n",
       "      <td>5.89</td>\n",
       "      <td>10.57</td>\n",
       "      <td>1.15</td>\n",
       "      <td>28,793.67</td>\n",
       "      <td>14,191.28</td>\n",
       "      <td>0.61</td>\n",
       "      <td>490.80</td>\n",
       "      <td>0.77</td>\n",
       "      <td>517.98</td>\n",
       "      <td>180.89</td>\n",
       "    </tr>\n",
       "    <tr>\n",
       "      <td>std</td>\n",
       "      <td>5.68</td>\n",
       "      <td>10,887,013.27</td>\n",
       "      <td>35.65</td>\n",
       "      <td>1.08</td>\n",
       "      <td>1.26</td>\n",
       "      <td>6.60</td>\n",
       "      <td>22.03</td>\n",
       "      <td>4.89</td>\n",
       "      <td>5.91</td>\n",
       "      <td>1.07</td>\n",
       "      <td>12,630.88</td>\n",
       "      <td>8,608.39</td>\n",
       "      <td>0.80</td>\n",
       "      <td>342.32</td>\n",
       "      <td>0.94</td>\n",
       "      <td>277.72</td>\n",
       "      <td>219.73</td>\n",
       "    </tr>\n",
       "    <tr>\n",
       "      <td>min</td>\n",
       "      <td>0.00</td>\n",
       "      <td>12,190.00</td>\n",
       "      <td>12.00</td>\n",
       "      <td>0.00</td>\n",
       "      <td>1.00</td>\n",
       "      <td>1.00</td>\n",
       "      <td>2.00</td>\n",
       "      <td>1.00</td>\n",
       "      <td>1.30</td>\n",
       "      <td>0.00</td>\n",
       "      <td>0.00</td>\n",
       "      <td>181.00</td>\n",
       "      <td>0.00</td>\n",
       "      <td>1.00</td>\n",
       "      <td>0.00</td>\n",
       "      <td>13.00</td>\n",
       "      <td>1.00</td>\n",
       "    </tr>\n",
       "    <tr>\n",
       "      <td>25%</td>\n",
       "      <td>6.00</td>\n",
       "      <td>3,400,000.00</td>\n",
       "      <td>40.00</td>\n",
       "      <td>1.00</td>\n",
       "      <td>2.52</td>\n",
       "      <td>5.00</td>\n",
       "      <td>18.60</td>\n",
       "      <td>2.00</td>\n",
       "      <td>7.00</td>\n",
       "      <td>0.00</td>\n",
       "      <td>18,585.00</td>\n",
       "      <td>9,238.00</td>\n",
       "      <td>0.00</td>\n",
       "      <td>288.00</td>\n",
       "      <td>0.00</td>\n",
       "      <td>294.00</td>\n",
       "      <td>45.00</td>\n",
       "    </tr>\n",
       "    <tr>\n",
       "      <td>50%</td>\n",
       "      <td>9.00</td>\n",
       "      <td>4,650,000.00</td>\n",
       "      <td>52.00</td>\n",
       "      <td>2.00</td>\n",
       "      <td>2.65</td>\n",
       "      <td>9.00</td>\n",
       "      <td>30.00</td>\n",
       "      <td>4.00</td>\n",
       "      <td>9.10</td>\n",
       "      <td>1.00</td>\n",
       "      <td>26,726.00</td>\n",
       "      <td>13,098.50</td>\n",
       "      <td>0.00</td>\n",
       "      <td>455.00</td>\n",
       "      <td>1.00</td>\n",
       "      <td>502.00</td>\n",
       "      <td>95.00</td>\n",
       "    </tr>\n",
       "    <tr>\n",
       "      <td>75%</td>\n",
       "      <td>14.00</td>\n",
       "      <td>6,800,000.00</td>\n",
       "      <td>69.90</td>\n",
       "      <td>3.00</td>\n",
       "      <td>2.80</td>\n",
       "      <td>16.00</td>\n",
       "      <td>42.30</td>\n",
       "      <td>8.00</td>\n",
       "      <td>12.00</td>\n",
       "      <td>2.00</td>\n",
       "      <td>37,273.00</td>\n",
       "      <td>16,293.00</td>\n",
       "      <td>1.00</td>\n",
       "      <td>612.00</td>\n",
       "      <td>1.00</td>\n",
       "      <td>729.00</td>\n",
       "      <td>232.00</td>\n",
       "    </tr>\n",
       "    <tr>\n",
       "      <td>max</td>\n",
       "      <td>50.00</td>\n",
       "      <td>763,000,000.00</td>\n",
       "      <td>900.00</td>\n",
       "      <td>19.00</td>\n",
       "      <td>100.00</td>\n",
       "      <td>60.00</td>\n",
       "      <td>409.70</td>\n",
       "      <td>33.00</td>\n",
       "      <td>112.00</td>\n",
       "      <td>5.00</td>\n",
       "      <td>84,869.00</td>\n",
       "      <td>65,968.00</td>\n",
       "      <td>3.00</td>\n",
       "      <td>3,190.00</td>\n",
       "      <td>3.00</td>\n",
       "      <td>1,344.00</td>\n",
       "      <td>1,580.00</td>\n",
       "    </tr>\n",
       "  </tbody>\n",
       "</table>\n",
       "</div>"
      ],
      "text/plain": [
       "       total_images     last_price  total_area     rooms  ceiling_height  \\\n",
       "count     23,699.00      23,699.00   23,699.00 23,699.00       14,504.00   \n",
       "mean           9.86   6,541,548.77       60.35      2.07            2.77   \n",
       "std            5.68  10,887,013.27       35.65      1.08            1.26   \n",
       "min            0.00      12,190.00       12.00      0.00            1.00   \n",
       "25%            6.00   3,400,000.00       40.00      1.00            2.52   \n",
       "50%            9.00   4,650,000.00       52.00      2.00            2.65   \n",
       "75%           14.00   6,800,000.00       69.90      3.00            2.80   \n",
       "max           50.00 763,000,000.00      900.00     19.00          100.00   \n",
       "\n",
       "       floors_total  living_area     floor  kitchen_area   balcony  \\\n",
       "count     23,613.00    21,796.00 23,699.00     21,421.00 12,180.00   \n",
       "mean          10.67        34.46      5.89         10.57      1.15   \n",
       "std            6.60        22.03      4.89          5.91      1.07   \n",
       "min            1.00         2.00      1.00          1.30      0.00   \n",
       "25%            5.00        18.60      2.00          7.00      0.00   \n",
       "50%            9.00        30.00      4.00          9.10      1.00   \n",
       "75%           16.00        42.30      8.00         12.00      2.00   \n",
       "max           60.00       409.70     33.00        112.00      5.00   \n",
       "\n",
       "       airports_nearest  cityCenters_nearest  parks_around3000  parks_nearest  \\\n",
       "count         18,157.00            18,180.00         18,181.00       8,079.00   \n",
       "mean          28,793.67            14,191.28              0.61         490.80   \n",
       "std           12,630.88             8,608.39              0.80         342.32   \n",
       "min                0.00               181.00              0.00           1.00   \n",
       "25%           18,585.00             9,238.00              0.00         288.00   \n",
       "50%           26,726.00            13,098.50              0.00         455.00   \n",
       "75%           37,273.00            16,293.00              1.00         612.00   \n",
       "max           84,869.00            65,968.00              3.00       3,190.00   \n",
       "\n",
       "       ponds_around3000  ponds_nearest  days_exposition  \n",
       "count         18,181.00       9,110.00        20,518.00  \n",
       "mean               0.77         517.98           180.89  \n",
       "std                0.94         277.72           219.73  \n",
       "min                0.00          13.00             1.00  \n",
       "25%                0.00         294.00            45.00  \n",
       "50%                1.00         502.00            95.00  \n",
       "75%                1.00         729.00           232.00  \n",
       "max                3.00       1,344.00         1,580.00  "
      ]
     },
     "execution_count": 3,
     "metadata": {},
     "output_type": "execute_result"
    }
   ],
   "source": [
    "data.describe()"
   ]
  },
  {
   "cell_type": "code",
   "execution_count": 4,
   "metadata": {},
   "outputs": [
    {
     "data": {
      "text/html": [
       "<div>\n",
       "<style scoped>\n",
       "    .dataframe tbody tr th:only-of-type {\n",
       "        vertical-align: middle;\n",
       "    }\n",
       "\n",
       "    .dataframe tbody tr th {\n",
       "        vertical-align: top;\n",
       "    }\n",
       "\n",
       "    .dataframe thead th {\n",
       "        text-align: right;\n",
       "    }\n",
       "</style>\n",
       "<table border=\"1\" class=\"dataframe\">\n",
       "  <thead>\n",
       "    <tr style=\"text-align: right;\">\n",
       "      <th></th>\n",
       "      <th>first_day_exposition</th>\n",
       "      <th>is_apartment</th>\n",
       "      <th>locality_name</th>\n",
       "    </tr>\n",
       "  </thead>\n",
       "  <tbody>\n",
       "    <tr>\n",
       "      <td>count</td>\n",
       "      <td>23699</td>\n",
       "      <td>2775</td>\n",
       "      <td>23650</td>\n",
       "    </tr>\n",
       "    <tr>\n",
       "      <td>unique</td>\n",
       "      <td>1491</td>\n",
       "      <td>2</td>\n",
       "      <td>364</td>\n",
       "    </tr>\n",
       "    <tr>\n",
       "      <td>top</td>\n",
       "      <td>2018-02-01T00:00:00</td>\n",
       "      <td>False</td>\n",
       "      <td>Санкт-Петербург</td>\n",
       "    </tr>\n",
       "    <tr>\n",
       "      <td>freq</td>\n",
       "      <td>368</td>\n",
       "      <td>2725</td>\n",
       "      <td>15721</td>\n",
       "    </tr>\n",
       "  </tbody>\n",
       "</table>\n",
       "</div>"
      ],
      "text/plain": [
       "       first_day_exposition is_apartment    locality_name\n",
       "count                 23699         2775            23650\n",
       "unique                 1491            2              364\n",
       "top     2018-02-01T00:00:00        False  Санкт-Петербург\n",
       "freq                    368         2725            15721"
      ]
     },
     "execution_count": 4,
     "metadata": {},
     "output_type": "execute_result"
    }
   ],
   "source": [
    "data.describe(include=[object])"
   ]
  },
  {
   "cell_type": "markdown",
   "metadata": {},
   "source": [
    "### Вывод"
   ]
  },
  {
   "cell_type": "markdown",
   "metadata": {},
   "source": [
    "Проблемы которые видны в данных:\n",
    "1. Столбец 'first_day_exposition' нужно привести к формату гггг-мм-дд\n",
    "2. Нулевые значения в столбце 'rooms'. Количество комнат не может быть равно 0. И тип данных нужно привести к целочисленному.\n",
    "3. В столбце 'ceiling_height' странные значения высоты потолка. По санпину он не может быть ниже 2.5 м. Ну и max значение в 100м.тоже выходят за границу здравого смысла.\n",
    "4. В столбце 'floors_total' максимальное значение равно 60. В то время, как  самый высокий жилой дом в СПБ 37 этажный. Скорее всего это ошибочные значенияю нужно посмотреть сколько их. Есть пропуски и нужно привести тип данных к целочисленному.\n",
    "5. Странные минимальные значения в столбце living_area. Вряд ли в реальности есть квартиры с жилой площадью в 2м. Пропуски.\n",
    "6. Тип данных в столбце 'is_apartment' нужно поменять на булевый. Тут самое большое количество пропуском. Скорее всего они значат, что помещение не является аппартаментами. Поэтому прелагаю заменить пропуски на False. \n",
    "7. Данные в столбце floor нужно привести к целочисленном.\n",
    "8. В столбце balcony много значений nan. Буду считать, что они подразумевают отсутствие балкона и заменю их на 0. Привести тип данных к целочисленному.\n",
    "9. Есть несколько пропусков в locality_name. Нужно на них посмотреть.\n",
    "10. Пропуски и нулевые значения растояния до аэропорта в столбце airports_nearest. Скорее всего их нужно заменить медианными значениями. Тип даннных привести к целочисленным.\n",
    "11. Сделать то же самое, что и с расстоянием до аэропота с расстоянием до центра в столбце cityCenters_nearest.\n",
    "12. Заполнить пропуски и привести к целочисленным значения столбцов parks_around3000 и parks_nearest.\n",
    "13. Сделать тоже самое со столбцами ponds_around3000 и ponds_nearest.\n",
    "14. Заполнить медианными значениями пропуски в столбце days_exposition. Привести тип данных к целочисленному."
   ]
  },
  {
   "cell_type": "code",
   "execution_count": 5,
   "metadata": {},
   "outputs": [
    {
     "data": {
      "text/html": [
       "<style  type=\"text/css\" >\n",
       "    #T_8fbfffa4_8f25_11ec_b66a_02420a391f42row0_col0 {\n",
       "            background-color:  #3b4cc0;\n",
       "            color:  #f1f1f1;\n",
       "        }    #T_8fbfffa4_8f25_11ec_b66a_02420a391f42row1_col0 {\n",
       "            background-color:  #3b4cc0;\n",
       "            color:  #f1f1f1;\n",
       "        }    #T_8fbfffa4_8f25_11ec_b66a_02420a391f42row2_col0 {\n",
       "            background-color:  #3b4cc0;\n",
       "            color:  #f1f1f1;\n",
       "        }    #T_8fbfffa4_8f25_11ec_b66a_02420a391f42row3_col0 {\n",
       "            background-color:  #3b4cc0;\n",
       "            color:  #f1f1f1;\n",
       "        }    #T_8fbfffa4_8f25_11ec_b66a_02420a391f42row4_col0 {\n",
       "            background-color:  #3b4cc0;\n",
       "            color:  #f1f1f1;\n",
       "        }    #T_8fbfffa4_8f25_11ec_b66a_02420a391f42row5_col0 {\n",
       "            background-color:  #ccd9ed;\n",
       "            color:  #000000;\n",
       "        }    #T_8fbfffa4_8f25_11ec_b66a_02420a391f42row6_col0 {\n",
       "            background-color:  #3c4ec2;\n",
       "            color:  #f1f1f1;\n",
       "        }    #T_8fbfffa4_8f25_11ec_b66a_02420a391f42row7_col0 {\n",
       "            background-color:  #5673e0;\n",
       "            color:  #000000;\n",
       "        }    #T_8fbfffa4_8f25_11ec_b66a_02420a391f42row8_col0 {\n",
       "            background-color:  #3b4cc0;\n",
       "            color:  #f1f1f1;\n",
       "        }    #T_8fbfffa4_8f25_11ec_b66a_02420a391f42row9_col0 {\n",
       "            background-color:  #b40426;\n",
       "            color:  #f1f1f1;\n",
       "        }    #T_8fbfffa4_8f25_11ec_b66a_02420a391f42row10_col0 {\n",
       "            background-color:  #3b4cc0;\n",
       "            color:  #f1f1f1;\n",
       "        }    #T_8fbfffa4_8f25_11ec_b66a_02420a391f42row11_col0 {\n",
       "            background-color:  #3b4cc0;\n",
       "            color:  #f1f1f1;\n",
       "        }    #T_8fbfffa4_8f25_11ec_b66a_02420a391f42row12_col0 {\n",
       "            background-color:  #5b7ae5;\n",
       "            color:  #000000;\n",
       "        }    #T_8fbfffa4_8f25_11ec_b66a_02420a391f42row13_col0 {\n",
       "            background-color:  #e9d5cb;\n",
       "            color:  #000000;\n",
       "        }    #T_8fbfffa4_8f25_11ec_b66a_02420a391f42row14_col0 {\n",
       "            background-color:  #3b4cc0;\n",
       "            color:  #f1f1f1;\n",
       "        }    #T_8fbfffa4_8f25_11ec_b66a_02420a391f42row15_col0 {\n",
       "            background-color:  #92b4fe;\n",
       "            color:  #000000;\n",
       "        }    #T_8fbfffa4_8f25_11ec_b66a_02420a391f42row16_col0 {\n",
       "            background-color:  #92b4fe;\n",
       "            color:  #000000;\n",
       "        }    #T_8fbfffa4_8f25_11ec_b66a_02420a391f42row17_col0 {\n",
       "            background-color:  #92b4fe;\n",
       "            color:  #000000;\n",
       "        }    #T_8fbfffa4_8f25_11ec_b66a_02420a391f42row18_col0 {\n",
       "            background-color:  #f49a7b;\n",
       "            color:  #000000;\n",
       "        }    #T_8fbfffa4_8f25_11ec_b66a_02420a391f42row19_col0 {\n",
       "            background-color:  #92b4fe;\n",
       "            color:  #000000;\n",
       "        }    #T_8fbfffa4_8f25_11ec_b66a_02420a391f42row20_col0 {\n",
       "            background-color:  #f7ad90;\n",
       "            color:  #000000;\n",
       "        }    #T_8fbfffa4_8f25_11ec_b66a_02420a391f42row21_col0 {\n",
       "            background-color:  #6a8bef;\n",
       "            color:  #000000;\n",
       "        }</style><table id=\"T_8fbfffa4_8f25_11ec_b66a_02420a391f42\" ><thead>    <tr>        <th class=\"blank level0\" ></th>        <th class=\"col_heading level0 col0\" >0</th>    </tr></thead><tbody>\n",
       "                <tr>\n",
       "                        <th id=\"T_8fbfffa4_8f25_11ec_b66a_02420a391f42level0_row0\" class=\"row_heading level0 row0\" >total_images</th>\n",
       "                        <td id=\"T_8fbfffa4_8f25_11ec_b66a_02420a391f42row0_col0\" class=\"data row0 col0\" >0</td>\n",
       "            </tr>\n",
       "            <tr>\n",
       "                        <th id=\"T_8fbfffa4_8f25_11ec_b66a_02420a391f42level0_row1\" class=\"row_heading level0 row1\" >last_price</th>\n",
       "                        <td id=\"T_8fbfffa4_8f25_11ec_b66a_02420a391f42row1_col0\" class=\"data row1 col0\" >0</td>\n",
       "            </tr>\n",
       "            <tr>\n",
       "                        <th id=\"T_8fbfffa4_8f25_11ec_b66a_02420a391f42level0_row2\" class=\"row_heading level0 row2\" >total_area</th>\n",
       "                        <td id=\"T_8fbfffa4_8f25_11ec_b66a_02420a391f42row2_col0\" class=\"data row2 col0\" >0</td>\n",
       "            </tr>\n",
       "            <tr>\n",
       "                        <th id=\"T_8fbfffa4_8f25_11ec_b66a_02420a391f42level0_row3\" class=\"row_heading level0 row3\" >first_day_exposition</th>\n",
       "                        <td id=\"T_8fbfffa4_8f25_11ec_b66a_02420a391f42row3_col0\" class=\"data row3 col0\" >0</td>\n",
       "            </tr>\n",
       "            <tr>\n",
       "                        <th id=\"T_8fbfffa4_8f25_11ec_b66a_02420a391f42level0_row4\" class=\"row_heading level0 row4\" >rooms</th>\n",
       "                        <td id=\"T_8fbfffa4_8f25_11ec_b66a_02420a391f42row4_col0\" class=\"data row4 col0\" >0</td>\n",
       "            </tr>\n",
       "            <tr>\n",
       "                        <th id=\"T_8fbfffa4_8f25_11ec_b66a_02420a391f42level0_row5\" class=\"row_heading level0 row5\" >ceiling_height</th>\n",
       "                        <td id=\"T_8fbfffa4_8f25_11ec_b66a_02420a391f42row5_col0\" class=\"data row5 col0\" >38.8</td>\n",
       "            </tr>\n",
       "            <tr>\n",
       "                        <th id=\"T_8fbfffa4_8f25_11ec_b66a_02420a391f42level0_row6\" class=\"row_heading level0 row6\" >floors_total</th>\n",
       "                        <td id=\"T_8fbfffa4_8f25_11ec_b66a_02420a391f42row6_col0\" class=\"data row6 col0\" >0.36</td>\n",
       "            </tr>\n",
       "            <tr>\n",
       "                        <th id=\"T_8fbfffa4_8f25_11ec_b66a_02420a391f42level0_row7\" class=\"row_heading level0 row7\" >living_area</th>\n",
       "                        <td id=\"T_8fbfffa4_8f25_11ec_b66a_02420a391f42row7_col0\" class=\"data row7 col0\" >8.03</td>\n",
       "            </tr>\n",
       "            <tr>\n",
       "                        <th id=\"T_8fbfffa4_8f25_11ec_b66a_02420a391f42level0_row8\" class=\"row_heading level0 row8\" >floor</th>\n",
       "                        <td id=\"T_8fbfffa4_8f25_11ec_b66a_02420a391f42row8_col0\" class=\"data row8 col0\" >0</td>\n",
       "            </tr>\n",
       "            <tr>\n",
       "                        <th id=\"T_8fbfffa4_8f25_11ec_b66a_02420a391f42level0_row9\" class=\"row_heading level0 row9\" >is_apartment</th>\n",
       "                        <td id=\"T_8fbfffa4_8f25_11ec_b66a_02420a391f42row9_col0\" class=\"data row9 col0\" >88.29</td>\n",
       "            </tr>\n",
       "            <tr>\n",
       "                        <th id=\"T_8fbfffa4_8f25_11ec_b66a_02420a391f42level0_row10\" class=\"row_heading level0 row10\" >studio</th>\n",
       "                        <td id=\"T_8fbfffa4_8f25_11ec_b66a_02420a391f42row10_col0\" class=\"data row10 col0\" >0</td>\n",
       "            </tr>\n",
       "            <tr>\n",
       "                        <th id=\"T_8fbfffa4_8f25_11ec_b66a_02420a391f42level0_row11\" class=\"row_heading level0 row11\" >open_plan</th>\n",
       "                        <td id=\"T_8fbfffa4_8f25_11ec_b66a_02420a391f42row11_col0\" class=\"data row11 col0\" >0</td>\n",
       "            </tr>\n",
       "            <tr>\n",
       "                        <th id=\"T_8fbfffa4_8f25_11ec_b66a_02420a391f42level0_row12\" class=\"row_heading level0 row12\" >kitchen_area</th>\n",
       "                        <td id=\"T_8fbfffa4_8f25_11ec_b66a_02420a391f42row12_col0\" class=\"data row12 col0\" >9.61</td>\n",
       "            </tr>\n",
       "            <tr>\n",
       "                        <th id=\"T_8fbfffa4_8f25_11ec_b66a_02420a391f42level0_row13\" class=\"row_heading level0 row13\" >balcony</th>\n",
       "                        <td id=\"T_8fbfffa4_8f25_11ec_b66a_02420a391f42row13_col0\" class=\"data row13 col0\" >48.61</td>\n",
       "            </tr>\n",
       "            <tr>\n",
       "                        <th id=\"T_8fbfffa4_8f25_11ec_b66a_02420a391f42level0_row14\" class=\"row_heading level0 row14\" >locality_name</th>\n",
       "                        <td id=\"T_8fbfffa4_8f25_11ec_b66a_02420a391f42row14_col0\" class=\"data row14 col0\" >0.21</td>\n",
       "            </tr>\n",
       "            <tr>\n",
       "                        <th id=\"T_8fbfffa4_8f25_11ec_b66a_02420a391f42level0_row15\" class=\"row_heading level0 row15\" >airports_nearest</th>\n",
       "                        <td id=\"T_8fbfffa4_8f25_11ec_b66a_02420a391f42row15_col0\" class=\"data row15 col0\" >23.38</td>\n",
       "            </tr>\n",
       "            <tr>\n",
       "                        <th id=\"T_8fbfffa4_8f25_11ec_b66a_02420a391f42level0_row16\" class=\"row_heading level0 row16\" >cityCenters_nearest</th>\n",
       "                        <td id=\"T_8fbfffa4_8f25_11ec_b66a_02420a391f42row16_col0\" class=\"data row16 col0\" >23.29</td>\n",
       "            </tr>\n",
       "            <tr>\n",
       "                        <th id=\"T_8fbfffa4_8f25_11ec_b66a_02420a391f42level0_row17\" class=\"row_heading level0 row17\" >parks_around3000</th>\n",
       "                        <td id=\"T_8fbfffa4_8f25_11ec_b66a_02420a391f42row17_col0\" class=\"data row17 col0\" >23.28</td>\n",
       "            </tr>\n",
       "            <tr>\n",
       "                        <th id=\"T_8fbfffa4_8f25_11ec_b66a_02420a391f42level0_row18\" class=\"row_heading level0 row18\" >parks_nearest</th>\n",
       "                        <td id=\"T_8fbfffa4_8f25_11ec_b66a_02420a391f42row18_col0\" class=\"data row18 col0\" >65.91</td>\n",
       "            </tr>\n",
       "            <tr>\n",
       "                        <th id=\"T_8fbfffa4_8f25_11ec_b66a_02420a391f42level0_row19\" class=\"row_heading level0 row19\" >ponds_around3000</th>\n",
       "                        <td id=\"T_8fbfffa4_8f25_11ec_b66a_02420a391f42row19_col0\" class=\"data row19 col0\" >23.28</td>\n",
       "            </tr>\n",
       "            <tr>\n",
       "                        <th id=\"T_8fbfffa4_8f25_11ec_b66a_02420a391f42level0_row20\" class=\"row_heading level0 row20\" >ponds_nearest</th>\n",
       "                        <td id=\"T_8fbfffa4_8f25_11ec_b66a_02420a391f42row20_col0\" class=\"data row20 col0\" >61.56</td>\n",
       "            </tr>\n",
       "            <tr>\n",
       "                        <th id=\"T_8fbfffa4_8f25_11ec_b66a_02420a391f42level0_row21\" class=\"row_heading level0 row21\" >days_exposition</th>\n",
       "                        <td id=\"T_8fbfffa4_8f25_11ec_b66a_02420a391f42row21_col0\" class=\"data row21 col0\" >13.42</td>\n",
       "            </tr>\n",
       "    </tbody></table>"
      ],
      "text/plain": [
       "<pandas.io.formats.style.Styler at 0x7fcf30a72cd0>"
      ]
     },
     "execution_count": 5,
     "metadata": {},
     "output_type": "execute_result"
    }
   ],
   "source": [
    "#Посмортим процент пропусков по столбцам\n",
    "pd.DataFrame(round((data.isna().mean()*100),2)).style.background_gradient('coolwarm')"
   ]
  },
  {
   "cell_type": "markdown",
   "metadata": {},
   "source": [
    "## Предобработка данных"
   ]
  },
  {
   "cell_type": "code",
   "execution_count": 6,
   "metadata": {},
   "outputs": [
    {
     "data": {
      "text/html": [
       "<div>\n",
       "<style scoped>\n",
       "    .dataframe tbody tr th:only-of-type {\n",
       "        vertical-align: middle;\n",
       "    }\n",
       "\n",
       "    .dataframe tbody tr th {\n",
       "        vertical-align: top;\n",
       "    }\n",
       "\n",
       "    .dataframe thead th {\n",
       "        text-align: right;\n",
       "    }\n",
       "</style>\n",
       "<table border=\"1\" class=\"dataframe\">\n",
       "  <thead>\n",
       "    <tr style=\"text-align: right;\">\n",
       "      <th></th>\n",
       "      <th>total_images</th>\n",
       "      <th>last_price</th>\n",
       "      <th>total_area</th>\n",
       "      <th>first_day_exposition</th>\n",
       "      <th>rooms</th>\n",
       "      <th>ceiling_height</th>\n",
       "      <th>floors_total</th>\n",
       "      <th>living_area</th>\n",
       "      <th>floor</th>\n",
       "      <th>is_apartment</th>\n",
       "      <th>studio</th>\n",
       "      <th>open_plan</th>\n",
       "      <th>kitchen_area</th>\n",
       "      <th>balcony</th>\n",
       "      <th>locality_name</th>\n",
       "      <th>airports_nearest</th>\n",
       "      <th>cityCenters_nearest</th>\n",
       "      <th>parks_around3000</th>\n",
       "      <th>parks_nearest</th>\n",
       "      <th>ponds_around3000</th>\n",
       "      <th>ponds_nearest</th>\n",
       "      <th>days_exposition</th>\n",
       "    </tr>\n",
       "  </thead>\n",
       "  <tbody>\n",
       "    <tr>\n",
       "      <td>0</td>\n",
       "      <td>20</td>\n",
       "      <td>13,000,000.00</td>\n",
       "      <td>108.00</td>\n",
       "      <td>2019-03-07</td>\n",
       "      <td>3</td>\n",
       "      <td>2.70</td>\n",
       "      <td>16.00</td>\n",
       "      <td>51.00</td>\n",
       "      <td>8</td>\n",
       "      <td>NaN</td>\n",
       "      <td>False</td>\n",
       "      <td>False</td>\n",
       "      <td>25.00</td>\n",
       "      <td>nan</td>\n",
       "      <td>Санкт-Петербург</td>\n",
       "      <td>18,863.00</td>\n",
       "      <td>16,028.00</td>\n",
       "      <td>1.00</td>\n",
       "      <td>482.00</td>\n",
       "      <td>2.00</td>\n",
       "      <td>755.00</td>\n",
       "      <td>nan</td>\n",
       "    </tr>\n",
       "    <tr>\n",
       "      <td>1</td>\n",
       "      <td>7</td>\n",
       "      <td>3,350,000.00</td>\n",
       "      <td>40.40</td>\n",
       "      <td>2018-12-04</td>\n",
       "      <td>1</td>\n",
       "      <td>nan</td>\n",
       "      <td>11.00</td>\n",
       "      <td>18.60</td>\n",
       "      <td>1</td>\n",
       "      <td>NaN</td>\n",
       "      <td>False</td>\n",
       "      <td>False</td>\n",
       "      <td>11.00</td>\n",
       "      <td>2.00</td>\n",
       "      <td>посёлок Шушары</td>\n",
       "      <td>12,817.00</td>\n",
       "      <td>18,603.00</td>\n",
       "      <td>0.00</td>\n",
       "      <td>nan</td>\n",
       "      <td>0.00</td>\n",
       "      <td>nan</td>\n",
       "      <td>81.00</td>\n",
       "    </tr>\n",
       "    <tr>\n",
       "      <td>2</td>\n",
       "      <td>10</td>\n",
       "      <td>5,196,000.00</td>\n",
       "      <td>56.00</td>\n",
       "      <td>2015-08-20</td>\n",
       "      <td>2</td>\n",
       "      <td>nan</td>\n",
       "      <td>5.00</td>\n",
       "      <td>34.30</td>\n",
       "      <td>4</td>\n",
       "      <td>NaN</td>\n",
       "      <td>False</td>\n",
       "      <td>False</td>\n",
       "      <td>8.30</td>\n",
       "      <td>0.00</td>\n",
       "      <td>Санкт-Петербург</td>\n",
       "      <td>21,741.00</td>\n",
       "      <td>13,933.00</td>\n",
       "      <td>1.00</td>\n",
       "      <td>90.00</td>\n",
       "      <td>2.00</td>\n",
       "      <td>574.00</td>\n",
       "      <td>558.00</td>\n",
       "    </tr>\n",
       "    <tr>\n",
       "      <td>3</td>\n",
       "      <td>0</td>\n",
       "      <td>64,900,000.00</td>\n",
       "      <td>159.00</td>\n",
       "      <td>2015-07-24</td>\n",
       "      <td>3</td>\n",
       "      <td>nan</td>\n",
       "      <td>14.00</td>\n",
       "      <td>nan</td>\n",
       "      <td>9</td>\n",
       "      <td>NaN</td>\n",
       "      <td>False</td>\n",
       "      <td>False</td>\n",
       "      <td>nan</td>\n",
       "      <td>0.00</td>\n",
       "      <td>Санкт-Петербург</td>\n",
       "      <td>28,098.00</td>\n",
       "      <td>6,800.00</td>\n",
       "      <td>2.00</td>\n",
       "      <td>84.00</td>\n",
       "      <td>3.00</td>\n",
       "      <td>234.00</td>\n",
       "      <td>424.00</td>\n",
       "    </tr>\n",
       "    <tr>\n",
       "      <td>4</td>\n",
       "      <td>2</td>\n",
       "      <td>10,000,000.00</td>\n",
       "      <td>100.00</td>\n",
       "      <td>2018-06-19</td>\n",
       "      <td>2</td>\n",
       "      <td>3.03</td>\n",
       "      <td>14.00</td>\n",
       "      <td>32.00</td>\n",
       "      <td>13</td>\n",
       "      <td>NaN</td>\n",
       "      <td>False</td>\n",
       "      <td>False</td>\n",
       "      <td>41.00</td>\n",
       "      <td>nan</td>\n",
       "      <td>Санкт-Петербург</td>\n",
       "      <td>31,856.00</td>\n",
       "      <td>8,098.00</td>\n",
       "      <td>2.00</td>\n",
       "      <td>112.00</td>\n",
       "      <td>1.00</td>\n",
       "      <td>48.00</td>\n",
       "      <td>121.00</td>\n",
       "    </tr>\n",
       "  </tbody>\n",
       "</table>\n",
       "</div>"
      ],
      "text/plain": [
       "   total_images    last_price  total_area first_day_exposition  rooms  \\\n",
       "0            20 13,000,000.00      108.00           2019-03-07      3   \n",
       "1             7  3,350,000.00       40.40           2018-12-04      1   \n",
       "2            10  5,196,000.00       56.00           2015-08-20      2   \n",
       "3             0 64,900,000.00      159.00           2015-07-24      3   \n",
       "4             2 10,000,000.00      100.00           2018-06-19      2   \n",
       "\n",
       "   ceiling_height  floors_total  living_area  floor is_apartment  studio  \\\n",
       "0            2.70         16.00        51.00      8          NaN   False   \n",
       "1             nan         11.00        18.60      1          NaN   False   \n",
       "2             nan          5.00        34.30      4          NaN   False   \n",
       "3             nan         14.00          nan      9          NaN   False   \n",
       "4            3.03         14.00        32.00     13          NaN   False   \n",
       "\n",
       "   open_plan  kitchen_area  balcony    locality_name  airports_nearest  \\\n",
       "0      False         25.00      nan  Санкт-Петербург         18,863.00   \n",
       "1      False         11.00     2.00   посёлок Шушары         12,817.00   \n",
       "2      False          8.30     0.00  Санкт-Петербург         21,741.00   \n",
       "3      False           nan     0.00  Санкт-Петербург         28,098.00   \n",
       "4      False         41.00      nan  Санкт-Петербург         31,856.00   \n",
       "\n",
       "   cityCenters_nearest  parks_around3000  parks_nearest  ponds_around3000  \\\n",
       "0            16,028.00              1.00         482.00              2.00   \n",
       "1            18,603.00              0.00            nan              0.00   \n",
       "2            13,933.00              1.00          90.00              2.00   \n",
       "3             6,800.00              2.00          84.00              3.00   \n",
       "4             8,098.00              2.00         112.00              1.00   \n",
       "\n",
       "   ponds_nearest  days_exposition  \n",
       "0         755.00              nan  \n",
       "1            nan            81.00  \n",
       "2         574.00           558.00  \n",
       "3         234.00           424.00  \n",
       "4          48.00           121.00  "
      ]
     },
     "execution_count": 6,
     "metadata": {},
     "output_type": "execute_result"
    }
   ],
   "source": [
    "# Уберем время из столбца first_day_exposition. оно нам не важно.\n",
    "data['first_day_exposition']= pd.to_datetime(data['first_day_exposition'], format='%Y-%m-%d')\n",
    "data.head()"
   ]
  },
  {
   "cell_type": "code",
   "execution_count": 7,
   "metadata": {},
   "outputs": [
    {
     "data": {
      "text/plain": [
       "1     8047\n",
       "2     7940\n",
       "3     5814\n",
       "4     1180\n",
       "5      326\n",
       "0      197\n",
       "6      105\n",
       "7       59\n",
       "8       12\n",
       "9        8\n",
       "10       3\n",
       "14       2\n",
       "11       2\n",
       "19       1\n",
       "12       1\n",
       "16       1\n",
       "15       1\n",
       "Name: rooms, dtype: int64"
      ]
     },
     "execution_count": 7,
     "metadata": {},
     "output_type": "execute_result"
    }
   ],
   "source": [
    "#посмотрим на уникальные значения в слолтбце 'rooms'\n",
    "data['rooms'].value_counts() "
   ]
  },
  {
   "cell_type": "code",
   "execution_count": 8,
   "metadata": {},
   "outputs": [],
   "source": [
    "#Округлим значения в столбце 'days_exposition'\n",
    "data['days_exposition']= round(data['days_exposition'])"
   ]
  },
  {
   "cell_type": "code",
   "execution_count": 9,
   "metadata": {},
   "outputs": [],
   "source": [
    "#заполняем пропуски значений высоты потолка медианой\n",
    "#ceiling_median = data['ceiling_height'].median()\n",
    "#data['ceiling_height'] = data['ceiling_height'].fillna(ceiling_median)"
   ]
  },
  {
   "cell_type": "code",
   "execution_count": 10,
   "metadata": {},
   "outputs": [],
   "source": [
    "#Заполним пропуски в столбце 'balcony' нулями. Это некоторое допущение, что там где данные о балконах отсутствуют их в квартирах и нет.\n",
    "data['balcony'].value_counts()\n",
    "data['balcony'].fillna(value=0, inplace=True)\n",
    "data['balcony'] = data['balcony'].astype('int')"
   ]
  },
  {
   "cell_type": "code",
   "execution_count": 11,
   "metadata": {},
   "outputs": [],
   "source": [
    "#data['living_area'].value_counts()"
   ]
  },
  {
   "cell_type": "code",
   "execution_count": 12,
   "metadata": {},
   "outputs": [],
   "source": [
    "# Приводим значение цены к целочисленным\n",
    "data['last_price'] = data['last_price'] / 1000\n",
    "data['last_price'] = data['last_price'].astype('int')"
   ]
  },
  {
   "cell_type": "code",
   "execution_count": 13,
   "metadata": {},
   "outputs": [],
   "source": [
    "# Меняем пропуски в столбце 'is_apartment' на False. Так же как и с балконами считаем, что если данных нет, то квартира не является аппартаментами.\n",
    "data['is_apartment'] = data['is_apartment'].fillna(False)"
   ]
  },
  {
   "cell_type": "code",
   "execution_count": 14,
   "metadata": {},
   "outputs": [],
   "source": [
    "# Исправим проблему с разным написанием 'поселок' и 'посёлок' в столбце 'locality_name'\n",
    "data['locality_name'] = data['locality_name'].replace(to_replace='ё', value='е', regex=True)"
   ]
  },
  {
   "cell_type": "markdown",
   "metadata": {},
   "source": [
    "<div class=\"alert alert-info\"> <b>Комментарий студента:</b>ё на е поменял. Спасибо!</div>"
   ]
  },
  {
   "cell_type": "code",
   "execution_count": 15,
   "metadata": {},
   "outputs": [
    {
     "data": {
      "text/html": [
       "<div>\n",
       "<style scoped>\n",
       "    .dataframe tbody tr th:only-of-type {\n",
       "        vertical-align: middle;\n",
       "    }\n",
       "\n",
       "    .dataframe tbody tr th {\n",
       "        vertical-align: top;\n",
       "    }\n",
       "\n",
       "    .dataframe thead th {\n",
       "        text-align: right;\n",
       "    }\n",
       "</style>\n",
       "<table border=\"1\" class=\"dataframe\">\n",
       "  <thead>\n",
       "    <tr style=\"text-align: right;\">\n",
       "      <th></th>\n",
       "      <th>total_images</th>\n",
       "      <th>last_price</th>\n",
       "      <th>total_area</th>\n",
       "      <th>first_day_exposition</th>\n",
       "      <th>rooms</th>\n",
       "      <th>ceiling_height</th>\n",
       "      <th>floors_total</th>\n",
       "      <th>living_area</th>\n",
       "      <th>floor</th>\n",
       "      <th>is_apartment</th>\n",
       "      <th>studio</th>\n",
       "      <th>open_plan</th>\n",
       "      <th>kitchen_area</th>\n",
       "      <th>balcony</th>\n",
       "      <th>locality_name</th>\n",
       "      <th>airports_nearest</th>\n",
       "      <th>cityCenters_nearest</th>\n",
       "      <th>parks_around3000</th>\n",
       "      <th>parks_nearest</th>\n",
       "      <th>ponds_around3000</th>\n",
       "      <th>ponds_nearest</th>\n",
       "      <th>days_exposition</th>\n",
       "    </tr>\n",
       "  </thead>\n",
       "  <tbody>\n",
       "    <tr>\n",
       "      <td>0</td>\n",
       "      <td>20</td>\n",
       "      <td>13000</td>\n",
       "      <td>108.00</td>\n",
       "      <td>2019-03-07</td>\n",
       "      <td>3</td>\n",
       "      <td>2.70</td>\n",
       "      <td>16.00</td>\n",
       "      <td>51.00</td>\n",
       "      <td>8</td>\n",
       "      <td>False</td>\n",
       "      <td>False</td>\n",
       "      <td>False</td>\n",
       "      <td>25.00</td>\n",
       "      <td>0</td>\n",
       "      <td>Санкт-Петербург</td>\n",
       "      <td>18,863.00</td>\n",
       "      <td>16,028.00</td>\n",
       "      <td>1.00</td>\n",
       "      <td>482.00</td>\n",
       "      <td>2.00</td>\n",
       "      <td>755.00</td>\n",
       "      <td>nan</td>\n",
       "    </tr>\n",
       "    <tr>\n",
       "      <td>1</td>\n",
       "      <td>7</td>\n",
       "      <td>3350</td>\n",
       "      <td>40.40</td>\n",
       "      <td>2018-12-04</td>\n",
       "      <td>1</td>\n",
       "      <td>nan</td>\n",
       "      <td>11.00</td>\n",
       "      <td>18.60</td>\n",
       "      <td>1</td>\n",
       "      <td>False</td>\n",
       "      <td>False</td>\n",
       "      <td>False</td>\n",
       "      <td>11.00</td>\n",
       "      <td>2</td>\n",
       "      <td>поселок Шушары</td>\n",
       "      <td>12,817.00</td>\n",
       "      <td>18,603.00</td>\n",
       "      <td>0.00</td>\n",
       "      <td>nan</td>\n",
       "      <td>0.00</td>\n",
       "      <td>nan</td>\n",
       "      <td>81.00</td>\n",
       "    </tr>\n",
       "    <tr>\n",
       "      <td>2</td>\n",
       "      <td>10</td>\n",
       "      <td>5196</td>\n",
       "      <td>56.00</td>\n",
       "      <td>2015-08-20</td>\n",
       "      <td>2</td>\n",
       "      <td>nan</td>\n",
       "      <td>5.00</td>\n",
       "      <td>34.30</td>\n",
       "      <td>4</td>\n",
       "      <td>False</td>\n",
       "      <td>False</td>\n",
       "      <td>False</td>\n",
       "      <td>8.30</td>\n",
       "      <td>0</td>\n",
       "      <td>Санкт-Петербург</td>\n",
       "      <td>21,741.00</td>\n",
       "      <td>13,933.00</td>\n",
       "      <td>1.00</td>\n",
       "      <td>90.00</td>\n",
       "      <td>2.00</td>\n",
       "      <td>574.00</td>\n",
       "      <td>558.00</td>\n",
       "    </tr>\n",
       "    <tr>\n",
       "      <td>3</td>\n",
       "      <td>0</td>\n",
       "      <td>64900</td>\n",
       "      <td>159.00</td>\n",
       "      <td>2015-07-24</td>\n",
       "      <td>3</td>\n",
       "      <td>nan</td>\n",
       "      <td>14.00</td>\n",
       "      <td>nan</td>\n",
       "      <td>9</td>\n",
       "      <td>False</td>\n",
       "      <td>False</td>\n",
       "      <td>False</td>\n",
       "      <td>nan</td>\n",
       "      <td>0</td>\n",
       "      <td>Санкт-Петербург</td>\n",
       "      <td>28,098.00</td>\n",
       "      <td>6,800.00</td>\n",
       "      <td>2.00</td>\n",
       "      <td>84.00</td>\n",
       "      <td>3.00</td>\n",
       "      <td>234.00</td>\n",
       "      <td>424.00</td>\n",
       "    </tr>\n",
       "    <tr>\n",
       "      <td>4</td>\n",
       "      <td>2</td>\n",
       "      <td>10000</td>\n",
       "      <td>100.00</td>\n",
       "      <td>2018-06-19</td>\n",
       "      <td>2</td>\n",
       "      <td>3.03</td>\n",
       "      <td>14.00</td>\n",
       "      <td>32.00</td>\n",
       "      <td>13</td>\n",
       "      <td>False</td>\n",
       "      <td>False</td>\n",
       "      <td>False</td>\n",
       "      <td>41.00</td>\n",
       "      <td>0</td>\n",
       "      <td>Санкт-Петербург</td>\n",
       "      <td>31,856.00</td>\n",
       "      <td>8,098.00</td>\n",
       "      <td>2.00</td>\n",
       "      <td>112.00</td>\n",
       "      <td>1.00</td>\n",
       "      <td>48.00</td>\n",
       "      <td>121.00</td>\n",
       "    </tr>\n",
       "    <tr>\n",
       "      <td>5</td>\n",
       "      <td>10</td>\n",
       "      <td>2890</td>\n",
       "      <td>30.40</td>\n",
       "      <td>2018-09-10</td>\n",
       "      <td>1</td>\n",
       "      <td>nan</td>\n",
       "      <td>12.00</td>\n",
       "      <td>14.40</td>\n",
       "      <td>5</td>\n",
       "      <td>False</td>\n",
       "      <td>False</td>\n",
       "      <td>False</td>\n",
       "      <td>9.10</td>\n",
       "      <td>0</td>\n",
       "      <td>городской поселок Янино-1</td>\n",
       "      <td>nan</td>\n",
       "      <td>nan</td>\n",
       "      <td>nan</td>\n",
       "      <td>nan</td>\n",
       "      <td>nan</td>\n",
       "      <td>nan</td>\n",
       "      <td>55.00</td>\n",
       "    </tr>\n",
       "    <tr>\n",
       "      <td>6</td>\n",
       "      <td>6</td>\n",
       "      <td>3700</td>\n",
       "      <td>37.30</td>\n",
       "      <td>2017-11-02</td>\n",
       "      <td>1</td>\n",
       "      <td>nan</td>\n",
       "      <td>26.00</td>\n",
       "      <td>10.60</td>\n",
       "      <td>6</td>\n",
       "      <td>False</td>\n",
       "      <td>False</td>\n",
       "      <td>False</td>\n",
       "      <td>14.40</td>\n",
       "      <td>1</td>\n",
       "      <td>поселок Парголово</td>\n",
       "      <td>52,996.00</td>\n",
       "      <td>19,143.00</td>\n",
       "      <td>0.00</td>\n",
       "      <td>nan</td>\n",
       "      <td>0.00</td>\n",
       "      <td>nan</td>\n",
       "      <td>155.00</td>\n",
       "    </tr>\n",
       "    <tr>\n",
       "      <td>7</td>\n",
       "      <td>5</td>\n",
       "      <td>7915</td>\n",
       "      <td>71.60</td>\n",
       "      <td>2019-04-18</td>\n",
       "      <td>2</td>\n",
       "      <td>nan</td>\n",
       "      <td>24.00</td>\n",
       "      <td>nan</td>\n",
       "      <td>22</td>\n",
       "      <td>False</td>\n",
       "      <td>False</td>\n",
       "      <td>False</td>\n",
       "      <td>18.90</td>\n",
       "      <td>2</td>\n",
       "      <td>Санкт-Петербург</td>\n",
       "      <td>23,982.00</td>\n",
       "      <td>11,634.00</td>\n",
       "      <td>0.00</td>\n",
       "      <td>nan</td>\n",
       "      <td>0.00</td>\n",
       "      <td>nan</td>\n",
       "      <td>nan</td>\n",
       "    </tr>\n",
       "    <tr>\n",
       "      <td>8</td>\n",
       "      <td>20</td>\n",
       "      <td>2900</td>\n",
       "      <td>33.16</td>\n",
       "      <td>2018-05-23</td>\n",
       "      <td>1</td>\n",
       "      <td>nan</td>\n",
       "      <td>27.00</td>\n",
       "      <td>15.43</td>\n",
       "      <td>26</td>\n",
       "      <td>False</td>\n",
       "      <td>False</td>\n",
       "      <td>False</td>\n",
       "      <td>8.81</td>\n",
       "      <td>0</td>\n",
       "      <td>поселок Мурино</td>\n",
       "      <td>nan</td>\n",
       "      <td>nan</td>\n",
       "      <td>nan</td>\n",
       "      <td>nan</td>\n",
       "      <td>nan</td>\n",
       "      <td>nan</td>\n",
       "      <td>189.00</td>\n",
       "    </tr>\n",
       "    <tr>\n",
       "      <td>9</td>\n",
       "      <td>18</td>\n",
       "      <td>5400</td>\n",
       "      <td>61.00</td>\n",
       "      <td>2017-02-26</td>\n",
       "      <td>3</td>\n",
       "      <td>2.50</td>\n",
       "      <td>9.00</td>\n",
       "      <td>43.60</td>\n",
       "      <td>7</td>\n",
       "      <td>False</td>\n",
       "      <td>False</td>\n",
       "      <td>False</td>\n",
       "      <td>6.50</td>\n",
       "      <td>2</td>\n",
       "      <td>Санкт-Петербург</td>\n",
       "      <td>50,898.00</td>\n",
       "      <td>15,008.00</td>\n",
       "      <td>0.00</td>\n",
       "      <td>nan</td>\n",
       "      <td>0.00</td>\n",
       "      <td>nan</td>\n",
       "      <td>289.00</td>\n",
       "    </tr>\n",
       "  </tbody>\n",
       "</table>\n",
       "</div>"
      ],
      "text/plain": [
       "   total_images  last_price  total_area first_day_exposition  rooms  \\\n",
       "0            20       13000      108.00           2019-03-07      3   \n",
       "1             7        3350       40.40           2018-12-04      1   \n",
       "2            10        5196       56.00           2015-08-20      2   \n",
       "3             0       64900      159.00           2015-07-24      3   \n",
       "4             2       10000      100.00           2018-06-19      2   \n",
       "5            10        2890       30.40           2018-09-10      1   \n",
       "6             6        3700       37.30           2017-11-02      1   \n",
       "7             5        7915       71.60           2019-04-18      2   \n",
       "8            20        2900       33.16           2018-05-23      1   \n",
       "9            18        5400       61.00           2017-02-26      3   \n",
       "\n",
       "   ceiling_height  floors_total  living_area  floor  is_apartment  studio  \\\n",
       "0            2.70         16.00        51.00      8         False   False   \n",
       "1             nan         11.00        18.60      1         False   False   \n",
       "2             nan          5.00        34.30      4         False   False   \n",
       "3             nan         14.00          nan      9         False   False   \n",
       "4            3.03         14.00        32.00     13         False   False   \n",
       "5             nan         12.00        14.40      5         False   False   \n",
       "6             nan         26.00        10.60      6         False   False   \n",
       "7             nan         24.00          nan     22         False   False   \n",
       "8             nan         27.00        15.43     26         False   False   \n",
       "9            2.50          9.00        43.60      7         False   False   \n",
       "\n",
       "   open_plan  kitchen_area  balcony              locality_name  \\\n",
       "0      False         25.00        0            Санкт-Петербург   \n",
       "1      False         11.00        2             поселок Шушары   \n",
       "2      False          8.30        0            Санкт-Петербург   \n",
       "3      False           nan        0            Санкт-Петербург   \n",
       "4      False         41.00        0            Санкт-Петербург   \n",
       "5      False          9.10        0  городской поселок Янино-1   \n",
       "6      False         14.40        1          поселок Парголово   \n",
       "7      False         18.90        2            Санкт-Петербург   \n",
       "8      False          8.81        0             поселок Мурино   \n",
       "9      False          6.50        2            Санкт-Петербург   \n",
       "\n",
       "   airports_nearest  cityCenters_nearest  parks_around3000  parks_nearest  \\\n",
       "0         18,863.00            16,028.00              1.00         482.00   \n",
       "1         12,817.00            18,603.00              0.00            nan   \n",
       "2         21,741.00            13,933.00              1.00          90.00   \n",
       "3         28,098.00             6,800.00              2.00          84.00   \n",
       "4         31,856.00             8,098.00              2.00         112.00   \n",
       "5               nan                  nan               nan            nan   \n",
       "6         52,996.00            19,143.00              0.00            nan   \n",
       "7         23,982.00            11,634.00              0.00            nan   \n",
       "8               nan                  nan               nan            nan   \n",
       "9         50,898.00            15,008.00              0.00            nan   \n",
       "\n",
       "   ponds_around3000  ponds_nearest  days_exposition  \n",
       "0              2.00         755.00              nan  \n",
       "1              0.00            nan            81.00  \n",
       "2              2.00         574.00           558.00  \n",
       "3              3.00         234.00           424.00  \n",
       "4              1.00          48.00           121.00  \n",
       "5               nan            nan            55.00  \n",
       "6              0.00            nan           155.00  \n",
       "7              0.00            nan              nan  \n",
       "8               nan            nan           189.00  \n",
       "9              0.00            nan           289.00  "
      ]
     },
     "execution_count": 15,
     "metadata": {},
     "output_type": "execute_result"
    }
   ],
   "source": [
    "data.head(10)"
   ]
  },
  {
   "cell_type": "code",
   "execution_count": 16,
   "metadata": {},
   "outputs": [
    {
     "data": {
      "text/plain": [
       "5519"
      ]
     },
     "execution_count": 16,
     "metadata": {},
     "output_type": "execute_result"
    }
   ],
   "source": [
    "#Посчитаем количество пропусков данных расстояния до центра\n",
    "data['cityCenters_nearest'].isna().sum()"
   ]
  },
  {
   "cell_type": "code",
   "execution_count": 17,
   "metadata": {},
   "outputs": [
    {
     "data": {
      "text/plain": [
       "5542"
      ]
     },
     "execution_count": 17,
     "metadata": {},
     "output_type": "execute_result"
    }
   ],
   "source": [
    "data['airports_nearest'].isna().sum()"
   ]
  },
  {
   "cell_type": "markdown",
   "metadata": {},
   "source": [
    "<font size=\"3\">Остальсь ещё довольно большое количесто пропусков в данных о расстояние до центра и аэропорта. Но эти данные мы не можем заполнять средними или медианными значениями т.к это исказит реальную картину. Так что будем использовать их как есть.</font>"
   ]
  },
  {
   "cell_type": "markdown",
   "metadata": {},
   "source": [
    "## Расчёты и добавление результатов в таблицу"
   ]
  },
  {
   "cell_type": "code",
   "execution_count": 18,
   "metadata": {},
   "outputs": [],
   "source": [
    "#Расчитаем стоимость квадратного метра. Для это разделим стоимость квартир на общую площадь\n",
    "data['price_per_square_meter'] = data['last_price'] / data['total_area']"
   ]
  },
  {
   "cell_type": "code",
   "execution_count": 19,
   "metadata": {},
   "outputs": [],
   "source": [
    "# Добавим столбец дня недели \n",
    "data['weekday_exposition'] = data['first_day_exposition'].dt.day_name() \n",
    "# Добавим столбец месяца\n",
    "data['month_exposition'] = data['first_day_exposition'].dt.month_name()\n",
    "# Добавим столбец года\n",
    "data['year_exposition'] = data['first_day_exposition'].dt.year"
   ]
  },
  {
   "cell_type": "code",
   "execution_count": 20,
   "metadata": {},
   "outputs": [],
   "source": [
    "# Создадим функцию, которая разобьёт этажи на три категории(первый, последний, другой)\n",
    "def floors_cat(row):\n",
    "    floors_total = row['floors_total']\n",
    "    floor = row['floor']\n",
    "    if floor == 1:\n",
    "        return 'первый'\n",
    "    elif floor == floors_total:\n",
    "        return 'последний'\n",
    "    else:\n",
    "        return 'другой'"
   ]
  },
  {
   "cell_type": "code",
   "execution_count": 21,
   "metadata": {},
   "outputs": [],
   "source": [
    "# Создадим столбец с категориями этажей методом apply\n",
    "data['floors_cat'] = data.apply(floors_cat, axis = 1)"
   ]
  },
  {
   "cell_type": "code",
   "execution_count": 22,
   "metadata": {},
   "outputs": [],
   "source": [
    "# Создадим столбец в котором будут храниться данные сообношения жилой площади к общей\n",
    "data['living_area_ratio'] = data['living_area'] / data['total_area']"
   ]
  },
  {
   "cell_type": "code",
   "execution_count": 23,
   "metadata": {},
   "outputs": [],
   "source": [
    "data['kitchen_area_ratio'] = data['kitchen_area'] / data['total_area']"
   ]
  },
  {
   "cell_type": "code",
   "execution_count": 24,
   "metadata": {},
   "outputs": [
    {
     "data": {
      "text/html": [
       "<div>\n",
       "<style scoped>\n",
       "    .dataframe tbody tr th:only-of-type {\n",
       "        vertical-align: middle;\n",
       "    }\n",
       "\n",
       "    .dataframe tbody tr th {\n",
       "        vertical-align: top;\n",
       "    }\n",
       "\n",
       "    .dataframe thead th {\n",
       "        text-align: right;\n",
       "    }\n",
       "</style>\n",
       "<table border=\"1\" class=\"dataframe\">\n",
       "  <thead>\n",
       "    <tr style=\"text-align: right;\">\n",
       "      <th></th>\n",
       "      <th>total_images</th>\n",
       "      <th>last_price</th>\n",
       "      <th>total_area</th>\n",
       "      <th>first_day_exposition</th>\n",
       "      <th>rooms</th>\n",
       "      <th>ceiling_height</th>\n",
       "      <th>floors_total</th>\n",
       "      <th>living_area</th>\n",
       "      <th>floor</th>\n",
       "      <th>is_apartment</th>\n",
       "      <th>studio</th>\n",
       "      <th>open_plan</th>\n",
       "      <th>kitchen_area</th>\n",
       "      <th>balcony</th>\n",
       "      <th>locality_name</th>\n",
       "      <th>airports_nearest</th>\n",
       "      <th>cityCenters_nearest</th>\n",
       "      <th>parks_around3000</th>\n",
       "      <th>parks_nearest</th>\n",
       "      <th>ponds_around3000</th>\n",
       "      <th>ponds_nearest</th>\n",
       "      <th>days_exposition</th>\n",
       "      <th>price_per_square_meter</th>\n",
       "      <th>weekday_exposition</th>\n",
       "      <th>month_exposition</th>\n",
       "      <th>year_exposition</th>\n",
       "      <th>floors_cat</th>\n",
       "      <th>living_area_ratio</th>\n",
       "      <th>kitchen_area_ratio</th>\n",
       "    </tr>\n",
       "  </thead>\n",
       "  <tbody>\n",
       "    <tr>\n",
       "      <td>0</td>\n",
       "      <td>20</td>\n",
       "      <td>13000</td>\n",
       "      <td>108.00</td>\n",
       "      <td>2019-03-07</td>\n",
       "      <td>3</td>\n",
       "      <td>2.70</td>\n",
       "      <td>16.00</td>\n",
       "      <td>51.00</td>\n",
       "      <td>8</td>\n",
       "      <td>False</td>\n",
       "      <td>False</td>\n",
       "      <td>False</td>\n",
       "      <td>25.00</td>\n",
       "      <td>0</td>\n",
       "      <td>Санкт-Петербург</td>\n",
       "      <td>18,863.00</td>\n",
       "      <td>16,028.00</td>\n",
       "      <td>1.00</td>\n",
       "      <td>482.00</td>\n",
       "      <td>2.00</td>\n",
       "      <td>755.00</td>\n",
       "      <td>nan</td>\n",
       "      <td>120.37</td>\n",
       "      <td>Thursday</td>\n",
       "      <td>March</td>\n",
       "      <td>2019</td>\n",
       "      <td>другой</td>\n",
       "      <td>0.47</td>\n",
       "      <td>0.23</td>\n",
       "    </tr>\n",
       "    <tr>\n",
       "      <td>1</td>\n",
       "      <td>7</td>\n",
       "      <td>3350</td>\n",
       "      <td>40.40</td>\n",
       "      <td>2018-12-04</td>\n",
       "      <td>1</td>\n",
       "      <td>nan</td>\n",
       "      <td>11.00</td>\n",
       "      <td>18.60</td>\n",
       "      <td>1</td>\n",
       "      <td>False</td>\n",
       "      <td>False</td>\n",
       "      <td>False</td>\n",
       "      <td>11.00</td>\n",
       "      <td>2</td>\n",
       "      <td>поселок Шушары</td>\n",
       "      <td>12,817.00</td>\n",
       "      <td>18,603.00</td>\n",
       "      <td>0.00</td>\n",
       "      <td>nan</td>\n",
       "      <td>0.00</td>\n",
       "      <td>nan</td>\n",
       "      <td>81.00</td>\n",
       "      <td>82.92</td>\n",
       "      <td>Tuesday</td>\n",
       "      <td>December</td>\n",
       "      <td>2018</td>\n",
       "      <td>первый</td>\n",
       "      <td>0.46</td>\n",
       "      <td>0.27</td>\n",
       "    </tr>\n",
       "    <tr>\n",
       "      <td>2</td>\n",
       "      <td>10</td>\n",
       "      <td>5196</td>\n",
       "      <td>56.00</td>\n",
       "      <td>2015-08-20</td>\n",
       "      <td>2</td>\n",
       "      <td>nan</td>\n",
       "      <td>5.00</td>\n",
       "      <td>34.30</td>\n",
       "      <td>4</td>\n",
       "      <td>False</td>\n",
       "      <td>False</td>\n",
       "      <td>False</td>\n",
       "      <td>8.30</td>\n",
       "      <td>0</td>\n",
       "      <td>Санкт-Петербург</td>\n",
       "      <td>21,741.00</td>\n",
       "      <td>13,933.00</td>\n",
       "      <td>1.00</td>\n",
       "      <td>90.00</td>\n",
       "      <td>2.00</td>\n",
       "      <td>574.00</td>\n",
       "      <td>558.00</td>\n",
       "      <td>92.79</td>\n",
       "      <td>Thursday</td>\n",
       "      <td>August</td>\n",
       "      <td>2015</td>\n",
       "      <td>другой</td>\n",
       "      <td>0.61</td>\n",
       "      <td>0.15</td>\n",
       "    </tr>\n",
       "    <tr>\n",
       "      <td>3</td>\n",
       "      <td>0</td>\n",
       "      <td>64900</td>\n",
       "      <td>159.00</td>\n",
       "      <td>2015-07-24</td>\n",
       "      <td>3</td>\n",
       "      <td>nan</td>\n",
       "      <td>14.00</td>\n",
       "      <td>nan</td>\n",
       "      <td>9</td>\n",
       "      <td>False</td>\n",
       "      <td>False</td>\n",
       "      <td>False</td>\n",
       "      <td>nan</td>\n",
       "      <td>0</td>\n",
       "      <td>Санкт-Петербург</td>\n",
       "      <td>28,098.00</td>\n",
       "      <td>6,800.00</td>\n",
       "      <td>2.00</td>\n",
       "      <td>84.00</td>\n",
       "      <td>3.00</td>\n",
       "      <td>234.00</td>\n",
       "      <td>424.00</td>\n",
       "      <td>408.18</td>\n",
       "      <td>Friday</td>\n",
       "      <td>July</td>\n",
       "      <td>2015</td>\n",
       "      <td>другой</td>\n",
       "      <td>nan</td>\n",
       "      <td>nan</td>\n",
       "    </tr>\n",
       "    <tr>\n",
       "      <td>4</td>\n",
       "      <td>2</td>\n",
       "      <td>10000</td>\n",
       "      <td>100.00</td>\n",
       "      <td>2018-06-19</td>\n",
       "      <td>2</td>\n",
       "      <td>3.03</td>\n",
       "      <td>14.00</td>\n",
       "      <td>32.00</td>\n",
       "      <td>13</td>\n",
       "      <td>False</td>\n",
       "      <td>False</td>\n",
       "      <td>False</td>\n",
       "      <td>41.00</td>\n",
       "      <td>0</td>\n",
       "      <td>Санкт-Петербург</td>\n",
       "      <td>31,856.00</td>\n",
       "      <td>8,098.00</td>\n",
       "      <td>2.00</td>\n",
       "      <td>112.00</td>\n",
       "      <td>1.00</td>\n",
       "      <td>48.00</td>\n",
       "      <td>121.00</td>\n",
       "      <td>100.00</td>\n",
       "      <td>Tuesday</td>\n",
       "      <td>June</td>\n",
       "      <td>2018</td>\n",
       "      <td>другой</td>\n",
       "      <td>0.32</td>\n",
       "      <td>0.41</td>\n",
       "    </tr>\n",
       "    <tr>\n",
       "      <td>5</td>\n",
       "      <td>10</td>\n",
       "      <td>2890</td>\n",
       "      <td>30.40</td>\n",
       "      <td>2018-09-10</td>\n",
       "      <td>1</td>\n",
       "      <td>nan</td>\n",
       "      <td>12.00</td>\n",
       "      <td>14.40</td>\n",
       "      <td>5</td>\n",
       "      <td>False</td>\n",
       "      <td>False</td>\n",
       "      <td>False</td>\n",
       "      <td>9.10</td>\n",
       "      <td>0</td>\n",
       "      <td>городской поселок Янино-1</td>\n",
       "      <td>nan</td>\n",
       "      <td>nan</td>\n",
       "      <td>nan</td>\n",
       "      <td>nan</td>\n",
       "      <td>nan</td>\n",
       "      <td>nan</td>\n",
       "      <td>55.00</td>\n",
       "      <td>95.07</td>\n",
       "      <td>Monday</td>\n",
       "      <td>September</td>\n",
       "      <td>2018</td>\n",
       "      <td>другой</td>\n",
       "      <td>0.47</td>\n",
       "      <td>0.30</td>\n",
       "    </tr>\n",
       "    <tr>\n",
       "      <td>6</td>\n",
       "      <td>6</td>\n",
       "      <td>3700</td>\n",
       "      <td>37.30</td>\n",
       "      <td>2017-11-02</td>\n",
       "      <td>1</td>\n",
       "      <td>nan</td>\n",
       "      <td>26.00</td>\n",
       "      <td>10.60</td>\n",
       "      <td>6</td>\n",
       "      <td>False</td>\n",
       "      <td>False</td>\n",
       "      <td>False</td>\n",
       "      <td>14.40</td>\n",
       "      <td>1</td>\n",
       "      <td>поселок Парголово</td>\n",
       "      <td>52,996.00</td>\n",
       "      <td>19,143.00</td>\n",
       "      <td>0.00</td>\n",
       "      <td>nan</td>\n",
       "      <td>0.00</td>\n",
       "      <td>nan</td>\n",
       "      <td>155.00</td>\n",
       "      <td>99.20</td>\n",
       "      <td>Thursday</td>\n",
       "      <td>November</td>\n",
       "      <td>2017</td>\n",
       "      <td>другой</td>\n",
       "      <td>0.28</td>\n",
       "      <td>0.39</td>\n",
       "    </tr>\n",
       "    <tr>\n",
       "      <td>7</td>\n",
       "      <td>5</td>\n",
       "      <td>7915</td>\n",
       "      <td>71.60</td>\n",
       "      <td>2019-04-18</td>\n",
       "      <td>2</td>\n",
       "      <td>nan</td>\n",
       "      <td>24.00</td>\n",
       "      <td>nan</td>\n",
       "      <td>22</td>\n",
       "      <td>False</td>\n",
       "      <td>False</td>\n",
       "      <td>False</td>\n",
       "      <td>18.90</td>\n",
       "      <td>2</td>\n",
       "      <td>Санкт-Петербург</td>\n",
       "      <td>23,982.00</td>\n",
       "      <td>11,634.00</td>\n",
       "      <td>0.00</td>\n",
       "      <td>nan</td>\n",
       "      <td>0.00</td>\n",
       "      <td>nan</td>\n",
       "      <td>nan</td>\n",
       "      <td>110.54</td>\n",
       "      <td>Thursday</td>\n",
       "      <td>April</td>\n",
       "      <td>2019</td>\n",
       "      <td>другой</td>\n",
       "      <td>nan</td>\n",
       "      <td>0.26</td>\n",
       "    </tr>\n",
       "    <tr>\n",
       "      <td>8</td>\n",
       "      <td>20</td>\n",
       "      <td>2900</td>\n",
       "      <td>33.16</td>\n",
       "      <td>2018-05-23</td>\n",
       "      <td>1</td>\n",
       "      <td>nan</td>\n",
       "      <td>27.00</td>\n",
       "      <td>15.43</td>\n",
       "      <td>26</td>\n",
       "      <td>False</td>\n",
       "      <td>False</td>\n",
       "      <td>False</td>\n",
       "      <td>8.81</td>\n",
       "      <td>0</td>\n",
       "      <td>поселок Мурино</td>\n",
       "      <td>nan</td>\n",
       "      <td>nan</td>\n",
       "      <td>nan</td>\n",
       "      <td>nan</td>\n",
       "      <td>nan</td>\n",
       "      <td>nan</td>\n",
       "      <td>189.00</td>\n",
       "      <td>87.45</td>\n",
       "      <td>Wednesday</td>\n",
       "      <td>May</td>\n",
       "      <td>2018</td>\n",
       "      <td>другой</td>\n",
       "      <td>0.47</td>\n",
       "      <td>0.27</td>\n",
       "    </tr>\n",
       "    <tr>\n",
       "      <td>9</td>\n",
       "      <td>18</td>\n",
       "      <td>5400</td>\n",
       "      <td>61.00</td>\n",
       "      <td>2017-02-26</td>\n",
       "      <td>3</td>\n",
       "      <td>2.50</td>\n",
       "      <td>9.00</td>\n",
       "      <td>43.60</td>\n",
       "      <td>7</td>\n",
       "      <td>False</td>\n",
       "      <td>False</td>\n",
       "      <td>False</td>\n",
       "      <td>6.50</td>\n",
       "      <td>2</td>\n",
       "      <td>Санкт-Петербург</td>\n",
       "      <td>50,898.00</td>\n",
       "      <td>15,008.00</td>\n",
       "      <td>0.00</td>\n",
       "      <td>nan</td>\n",
       "      <td>0.00</td>\n",
       "      <td>nan</td>\n",
       "      <td>289.00</td>\n",
       "      <td>88.52</td>\n",
       "      <td>Sunday</td>\n",
       "      <td>February</td>\n",
       "      <td>2017</td>\n",
       "      <td>другой</td>\n",
       "      <td>0.71</td>\n",
       "      <td>0.11</td>\n",
       "    </tr>\n",
       "  </tbody>\n",
       "</table>\n",
       "</div>"
      ],
      "text/plain": [
       "   total_images  last_price  total_area first_day_exposition  rooms  \\\n",
       "0            20       13000      108.00           2019-03-07      3   \n",
       "1             7        3350       40.40           2018-12-04      1   \n",
       "2            10        5196       56.00           2015-08-20      2   \n",
       "3             0       64900      159.00           2015-07-24      3   \n",
       "4             2       10000      100.00           2018-06-19      2   \n",
       "5            10        2890       30.40           2018-09-10      1   \n",
       "6             6        3700       37.30           2017-11-02      1   \n",
       "7             5        7915       71.60           2019-04-18      2   \n",
       "8            20        2900       33.16           2018-05-23      1   \n",
       "9            18        5400       61.00           2017-02-26      3   \n",
       "\n",
       "   ceiling_height  floors_total  living_area  floor  is_apartment  studio  \\\n",
       "0            2.70         16.00        51.00      8         False   False   \n",
       "1             nan         11.00        18.60      1         False   False   \n",
       "2             nan          5.00        34.30      4         False   False   \n",
       "3             nan         14.00          nan      9         False   False   \n",
       "4            3.03         14.00        32.00     13         False   False   \n",
       "5             nan         12.00        14.40      5         False   False   \n",
       "6             nan         26.00        10.60      6         False   False   \n",
       "7             nan         24.00          nan     22         False   False   \n",
       "8             nan         27.00        15.43     26         False   False   \n",
       "9            2.50          9.00        43.60      7         False   False   \n",
       "\n",
       "   open_plan  kitchen_area  balcony              locality_name  \\\n",
       "0      False         25.00        0            Санкт-Петербург   \n",
       "1      False         11.00        2             поселок Шушары   \n",
       "2      False          8.30        0            Санкт-Петербург   \n",
       "3      False           nan        0            Санкт-Петербург   \n",
       "4      False         41.00        0            Санкт-Петербург   \n",
       "5      False          9.10        0  городской поселок Янино-1   \n",
       "6      False         14.40        1          поселок Парголово   \n",
       "7      False         18.90        2            Санкт-Петербург   \n",
       "8      False          8.81        0             поселок Мурино   \n",
       "9      False          6.50        2            Санкт-Петербург   \n",
       "\n",
       "   airports_nearest  cityCenters_nearest  parks_around3000  parks_nearest  \\\n",
       "0         18,863.00            16,028.00              1.00         482.00   \n",
       "1         12,817.00            18,603.00              0.00            nan   \n",
       "2         21,741.00            13,933.00              1.00          90.00   \n",
       "3         28,098.00             6,800.00              2.00          84.00   \n",
       "4         31,856.00             8,098.00              2.00         112.00   \n",
       "5               nan                  nan               nan            nan   \n",
       "6         52,996.00            19,143.00              0.00            nan   \n",
       "7         23,982.00            11,634.00              0.00            nan   \n",
       "8               nan                  nan               nan            nan   \n",
       "9         50,898.00            15,008.00              0.00            nan   \n",
       "\n",
       "   ponds_around3000  ponds_nearest  days_exposition  price_per_square_meter  \\\n",
       "0              2.00         755.00              nan                  120.37   \n",
       "1              0.00            nan            81.00                   82.92   \n",
       "2              2.00         574.00           558.00                   92.79   \n",
       "3              3.00         234.00           424.00                  408.18   \n",
       "4              1.00          48.00           121.00                  100.00   \n",
       "5               nan            nan            55.00                   95.07   \n",
       "6              0.00            nan           155.00                   99.20   \n",
       "7              0.00            nan              nan                  110.54   \n",
       "8               nan            nan           189.00                   87.45   \n",
       "9              0.00            nan           289.00                   88.52   \n",
       "\n",
       "  weekday_exposition month_exposition  year_exposition floors_cat  \\\n",
       "0           Thursday            March             2019     другой   \n",
       "1            Tuesday         December             2018     первый   \n",
       "2           Thursday           August             2015     другой   \n",
       "3             Friday             July             2015     другой   \n",
       "4            Tuesday             June             2018     другой   \n",
       "5             Monday        September             2018     другой   \n",
       "6           Thursday         November             2017     другой   \n",
       "7           Thursday            April             2019     другой   \n",
       "8          Wednesday              May             2018     другой   \n",
       "9             Sunday         February             2017     другой   \n",
       "\n",
       "   living_area_ratio  kitchen_area_ratio  \n",
       "0               0.47                0.23  \n",
       "1               0.46                0.27  \n",
       "2               0.61                0.15  \n",
       "3                nan                 nan  \n",
       "4               0.32                0.41  \n",
       "5               0.47                0.30  \n",
       "6               0.28                0.39  \n",
       "7                nan                0.26  \n",
       "8               0.47                0.27  \n",
       "9               0.71                0.11  "
      ]
     },
     "execution_count": 24,
     "metadata": {},
     "output_type": "execute_result"
    }
   ],
   "source": [
    "# Проверим все ли необходимые столбцы добавлены\n",
    "data.head(10)"
   ]
  },
  {
   "cell_type": "markdown",
   "metadata": {},
   "source": [
    "## Исследовательский анализ данных"
   ]
  },
  {
   "cell_type": "markdown",
   "metadata": {},
   "source": [
    "<font size=\"3\"> Изучите следующие параметры: площадь, цена, число комнат, высота потолков. Постройте гистограммы для каждого параметра.</font>"
   ]
  },
  {
   "cell_type": "code",
   "execution_count": 25,
   "metadata": {},
   "outputs": [
    {
     "data": {
      "image/png": "[encoded data removed]",
      "text/plain": [
       "<Figure size 504x360 with 1 Axes>"
      ]
     },
     "metadata": {
      "needs_background": "light"
     },
     "output_type": "display_data"
    },
    {
     "data": {
      "image/png": "[encoded data removed]",
      "text/plain": [
       "<Figure size 432x288 with 1 Axes>"
      ]
     },
     "metadata": {
      "needs_background": "light"
     },
     "output_type": "display_data"
    },
    {
     "data": {
      "text/plain": [
       "count   23,699.00\n",
       "mean        60.35\n",
       "std         35.65\n",
       "min         12.00\n",
       "25%         40.00\n",
       "50%         52.00\n",
       "75%         69.90\n",
       "max        900.00\n",
       "Name: total_area, dtype: float64"
      ]
     },
     "execution_count": 25,
     "metadata": {},
     "output_type": "execute_result"
    }
   ],
   "source": [
    "# Строим гистаграмму для площади\n",
    "data.plot(y = 'total_area', kind = 'hist', bins = 50, grid=True, figsize = (7,5), range = (0,300), legend=None)\n",
    "plt.title('Гистограмма площади квартир')\n",
    "plt.xlabel('Площадь м2')\n",
    "plt.ylabel('Частота')\n",
    "plt.show()\n",
    "sns.boxplot(data['total_area'])\n",
    "plt.title('Диаграмма размаха площади квартир')\n",
    "plt.xlabel('Площадь м.кв')\n",
    "plt.xlim(0, 200)\n",
    "plt.show()\n",
    "data['total_area'].describe()"
   ]
  },
  {
   "cell_type": "code",
   "execution_count": 26,
   "metadata": {},
   "outputs": [
    {
     "data": {
      "text/plain": [
       "115.0"
      ]
     },
     "execution_count": 26,
     "metadata": {},
     "output_type": "execute_result"
    }
   ],
   "source": [
    "IQR = 70 - 40  \n",
    "Burn = 70 + 1.5 * IQR\n",
    "Burn"
   ]
  },
  {
   "cell_type": "markdown",
   "metadata": {},
   "source": [
    "Вывод: Площадь квартир лежит в диапазоне  от 12м до 900м. Средняя площадь в выборке около 60м."
   ]
  },
  {
   "cell_type": "code",
   "execution_count": 27,
   "metadata": {},
   "outputs": [
    {
     "data": {
      "image/png": "[encoded data removed]",
      "text/plain": [
       "<Figure size 504x360 with 1 Axes>"
      ]
     },
     "metadata": {
      "needs_background": "light"
     },
     "output_type": "display_data"
    },
    {
     "data": {
      "image/png": "[encoded data removed]",
      "text/plain": [
       "<Figure size 432x288 with 1 Axes>"
      ]
     },
     "metadata": {
      "needs_background": "light"
     },
     "output_type": "display_data"
    },
    {
     "data": {
      "text/plain": [
       "count    23,699.00\n",
       "mean      6,541.53\n",
       "std      10,887.01\n",
       "min          12.00\n",
       "25%       3,400.00\n",
       "50%       4,650.00\n",
       "75%       6,800.00\n",
       "max     763,000.00\n",
       "Name: last_price, dtype: float64"
      ]
     },
     "execution_count": 27,
     "metadata": {},
     "output_type": "execute_result"
    }
   ],
   "source": [
    "# Строим гистаграмму для стоимости квартир\n",
    "data.plot(y = 'last_price', kind = 'hist', bins = 50, grid=True, figsize = (7,5), range = (0, 20000), legend=None)\n",
    "plt.title('Гистограмма стоимости квартир')\n",
    "plt.xlabel('Стоимость тыс.р')\n",
    "plt.ylabel('Частота')\n",
    "plt.show()\n",
    "sns.boxplot(data['last_price'])\n",
    "plt.title('Диаграмма размаха стоимости квартир')\n",
    "plt.xlabel('Стоимость тыс.р')\n",
    "plt.xlim(0, 20000)\n",
    "plt.show()\n",
    "data['last_price'].describe()"
   ]
  },
  {
   "cell_type": "code",
   "execution_count": 28,
   "metadata": {},
   "outputs": [
    {
     "data": {
      "text/plain": [
       "11.899999999999999"
      ]
     },
     "execution_count": 28,
     "metadata": {},
     "output_type": "execute_result"
    }
   ],
   "source": [
    "IQR = 6.8 - 3.4  \n",
    "Burn = 6.8 + 1.5 * IQR\n",
    "Burn"
   ]
  },
  {
   "cell_type": "markdown",
   "metadata": {},
   "source": [
    "Вывод: Средняя стоимость квартир в выборке около 6,5млн.р. Есть значение вызывающие сомнения в их доставерности. Например цена в 12190р. никак не может соответствовать стоимости квартиры."
   ]
  },
  {
   "cell_type": "code",
   "execution_count": 29,
   "metadata": {},
   "outputs": [
    {
     "data": {
      "image/png": "[encoded data removed]",
      "text/plain": [
       "<Figure size 504x360 with 1 Axes>"
      ]
     },
     "metadata": {
      "needs_background": "light"
     },
     "output_type": "display_data"
    },
    {
     "data": {
      "image/png": "[encoded data removed]",
      "text/plain": [
       "<Figure size 432x288 with 1 Axes>"
      ]
     },
     "metadata": {
      "needs_background": "light"
     },
     "output_type": "display_data"
    },
    {
     "data": {
      "text/plain": [
       "count   23,699.00\n",
       "mean         2.07\n",
       "std          1.08\n",
       "min          0.00\n",
       "25%          1.00\n",
       "50%          2.00\n",
       "75%          3.00\n",
       "max         19.00\n",
       "Name: rooms, dtype: float64"
      ]
     },
     "execution_count": 29,
     "metadata": {},
     "output_type": "execute_result"
    }
   ],
   "source": [
    "# Строим гистаграмму для количества комнат\n",
    "data.plot(y = 'rooms', kind = 'hist', bins = 20, grid=True, figsize = (7,5), range = (0,20), legend=None)\n",
    "plt.title('Гистограмма количества комнат в квартирах')\n",
    "plt.xlabel('Количество комнат')\n",
    "plt.ylabel('Частота')\n",
    "plt.show()\n",
    "sns.boxplot(data['rooms'])\n",
    "plt.title('Диаграмма размаха количества комнат')\n",
    "plt.xlabel('Количество комнат')\n",
    "plt.xlim(0, 10)\n",
    "plt.show()\n",
    "data['rooms'].describe()"
   ]
  },
  {
   "cell_type": "code",
   "execution_count": 30,
   "metadata": {},
   "outputs": [
    {
     "data": {
      "text/plain": [
       "6.0"
      ]
     },
     "execution_count": 30,
     "metadata": {},
     "output_type": "execute_result"
    }
   ],
   "source": [
    "IQR = 3 - 1  \n",
    "Burn = 3 + 1.5 * IQR\n",
    "Burn"
   ]
  },
  {
   "cell_type": "markdown",
   "metadata": {},
   "source": [
    "Вывод: Среднее количество комнат в выборке около 2. Больше всего однокомнатных квартир. Есть, скорее всего, ошибочные значения, например количество комнат равное 0."
   ]
  },
  {
   "cell_type": "code",
   "execution_count": 31,
   "metadata": {},
   "outputs": [
    {
     "data": {
      "image/png": "[encoded data removed]",
      "text/plain": [
       "<Figure size 504x360 with 1 Axes>"
      ]
     },
     "metadata": {
      "needs_background": "light"
     },
     "output_type": "display_data"
    },
    {
     "data": {
      "image/png": "[encoded data removed]",
      "text/plain": [
       "<Figure size 432x288 with 1 Axes>"
      ]
     },
     "metadata": {
      "needs_background": "light"
     },
     "output_type": "display_data"
    },
    {
     "data": {
      "text/plain": [
       "count   14,504.00\n",
       "mean         2.77\n",
       "std          1.26\n",
       "min          1.00\n",
       "25%          2.52\n",
       "50%          2.65\n",
       "75%          2.80\n",
       "max        100.00\n",
       "Name: ceiling_height, dtype: float64"
      ]
     },
     "execution_count": 31,
     "metadata": {},
     "output_type": "execute_result"
    }
   ],
   "source": [
    "data.plot(y = 'ceiling_height', kind = 'hist', bins = 50, grid=True, figsize = (7,5), range = (1, 10), legend=None)\n",
    "plt.title('Гистограмма высоты потолков в квартирах')\n",
    "plt.xlabel('Высота потолков')\n",
    "plt.ylabel('Частота')\n",
    "plt.show()\n",
    "sns.boxplot(data['ceiling_height'])\n",
    "plt.title('Диаграмма размаха высоты потолков')\n",
    "plt.xlabel('Высота потолков м.')\n",
    "plt.xlim(0, 10)\n",
    "plt.show()\n",
    "data['ceiling_height'].describe()"
   ]
  },
  {
   "cell_type": "code",
   "execution_count": 32,
   "metadata": {},
   "outputs": [
    {
     "data": {
      "text/plain": [
       "5.5"
      ]
     },
     "execution_count": 32,
     "metadata": {},
     "output_type": "execute_result"
    }
   ],
   "source": [
    "IQR = 2.8 - 1  \n",
    "Burn = 2.8 + 1.5 * IQR\n",
    "Burn"
   ]
  },
  {
   "cell_type": "markdown",
   "metadata": {},
   "source": [
    "Вывод: Среднее высота потолка около 2,7м. Больше всего однокомнатных квартир. Есть ошибочные значения, например высота потолка до 2,5м(не может быть в жилых помещениях) и более 5,5м."
   ]
  },
  {
   "cell_type": "markdown",
   "metadata": {},
   "source": [
    "<font size=\"3\">Общий вывод: Типичная квартира в выборке: двухкомнатная, площадью около 60м, ценой 6.5млн.р с высотой пололка около 2,7м.</font>"
   ]
  },
  {
   "cell_type": "markdown",
   "metadata": {},
   "source": [
    "<font size=\"3\">Изучите время продажи квартиры. Постройте гистограмму. Посчитайте среднее и медиану. Опишите, сколько обычно занимает продажа. Когда можно считать, что продажи прошли очень быстро, а когда необычно долго?</font>"
   ]
  },
  {
   "cell_type": "code",
   "execution_count": 33,
   "metadata": {},
   "outputs": [
    {
     "data": {
      "image/png": "[encoded data removed]",
      "text/plain": [
       "<Figure size 432x288 with 1 Axes>"
      ]
     },
     "metadata": {
      "needs_background": "light"
     },
     "output_type": "display_data"
    },
    {
     "data": {
      "image/png": "[encoded data removed]",
      "text/plain": [
       "<Figure size 504x360 with 1 Axes>"
      ]
     },
     "metadata": {
      "needs_background": "light"
     },
     "output_type": "display_data"
    },
    {
     "data": {
      "image/png": "[encoded data removed]",
      "text/plain": [
       "<Figure size 504x360 with 1 Axes>"
      ]
     },
     "metadata": {
      "needs_background": "light"
     },
     "output_type": "display_data"
    }
   ],
   "source": [
    "plt.ylim(1,1500)\n",
    "sns.boxplot(data['days_exposition'])\n",
    "plt.title('Диаграмма размаха сроков продажи квартир')\n",
    "plt.xlabel('Дни')\n",
    "plt.xlim(0, 600)\n",
    "plt.show()\n",
    "data.plot(y = 'days_exposition', kind = 'hist', bins = 50, grid=True, figsize = (7,5), range = (1, 1600), legend=None)\n",
    "plt.title('Гистограмма сроков продажи квартир')\n",
    "plt.xlabel('Дни')\n",
    "plt.ylabel('Частота')\n",
    "plt.show()\n",
    "data.plot(y = 'days_exposition', kind = 'hist', bins = 100, grid=True, figsize = (7,5), range = (1, 200), legend=None)\n",
    "plt.title('Гистограмма сроков продажи квартир, укрупнённая')\n",
    "plt.xlabel('Дни')\n",
    "plt.ylabel('Частота')\n",
    "plt.show()"
   ]
  },
  {
   "cell_type": "markdown",
   "metadata": {},
   "source": [
    "На гистограмме видно несколько пиков, частота которых сильно отличается от остальной выборки. Значения этих пиков можно посмотреть с помощью функции value_counts()"
   ]
  },
  {
   "cell_type": "code",
   "execution_count": 34,
   "metadata": {},
   "outputs": [
    {
     "data": {
      "text/plain": [
       "count   20,518.00\n",
       "mean       180.89\n",
       "std        219.73\n",
       "min          1.00\n",
       "25%         45.00\n",
       "50%         95.00\n",
       "75%        232.00\n",
       "max      1,580.00\n",
       "Name: days_exposition, dtype: float64"
      ]
     },
     "execution_count": 34,
     "metadata": {},
     "output_type": "execute_result"
    }
   ],
   "source": [
    "data['days_exposition'].describe()"
   ]
  },
  {
   "cell_type": "markdown",
   "metadata": {},
   "source": [
    "<font size=\"3\">Вывод: Среднее время продажи квартиры около 180 дней, медиана 95. Времена продажи можно предварительно разделить на три категории, по значениям квартилей: быстрая продажа-до 45 дней, нормальная от 45 до 232 дней, медленная - более 232 дней.</font>"
   ]
  },
  {
   "cell_type": "code",
   "execution_count": 35,
   "metadata": {},
   "outputs": [
    {
     "data": {
      "text/html": [
       "<div>\n",
       "<style scoped>\n",
       "    .dataframe tbody tr th:only-of-type {\n",
       "        vertical-align: middle;\n",
       "    }\n",
       "\n",
       "    .dataframe tbody tr th {\n",
       "        vertical-align: top;\n",
       "    }\n",
       "\n",
       "    .dataframe thead th {\n",
       "        text-align: right;\n",
       "    }\n",
       "</style>\n",
       "<table border=\"1\" class=\"dataframe\">\n",
       "  <thead>\n",
       "    <tr style=\"text-align: right;\">\n",
       "      <th></th>\n",
       "      <th>total_images</th>\n",
       "      <th>last_price</th>\n",
       "      <th>total_area</th>\n",
       "      <th>rooms</th>\n",
       "      <th>ceiling_height</th>\n",
       "      <th>floors_total</th>\n",
       "      <th>living_area</th>\n",
       "      <th>floor</th>\n",
       "      <th>kitchen_area</th>\n",
       "      <th>balcony</th>\n",
       "      <th>airports_nearest</th>\n",
       "      <th>cityCenters_nearest</th>\n",
       "      <th>parks_around3000</th>\n",
       "      <th>parks_nearest</th>\n",
       "      <th>ponds_around3000</th>\n",
       "      <th>ponds_nearest</th>\n",
       "      <th>days_exposition</th>\n",
       "      <th>price_per_square_meter</th>\n",
       "      <th>year_exposition</th>\n",
       "      <th>living_area_ratio</th>\n",
       "      <th>kitchen_area_ratio</th>\n",
       "    </tr>\n",
       "  </thead>\n",
       "  <tbody>\n",
       "    <tr>\n",
       "      <td>count</td>\n",
       "      <td>13,751.00</td>\n",
       "      <td>13,751.00</td>\n",
       "      <td>13,751.00</td>\n",
       "      <td>13,751.00</td>\n",
       "      <td>13,751.00</td>\n",
       "      <td>13,742.00</td>\n",
       "      <td>13,033.00</td>\n",
       "      <td>13,751.00</td>\n",
       "      <td>12,960.00</td>\n",
       "      <td>13,751.00</td>\n",
       "      <td>10,952.00</td>\n",
       "      <td>10,966.00</td>\n",
       "      <td>10,967.00</td>\n",
       "      <td>4,894.00</td>\n",
       "      <td>10,967.00</td>\n",
       "      <td>5,320.00</td>\n",
       "      <td>11,489.00</td>\n",
       "      <td>13,751.00</td>\n",
       "      <td>13,751.00</td>\n",
       "      <td>13,033.00</td>\n",
       "      <td>12,960.00</td>\n",
       "    </tr>\n",
       "    <tr>\n",
       "      <td>mean</td>\n",
       "      <td>10.27</td>\n",
       "      <td>5,695.70</td>\n",
       "      <td>58.22</td>\n",
       "      <td>2.09</td>\n",
       "      <td>2.71</td>\n",
       "      <td>10.25</td>\n",
       "      <td>33.73</td>\n",
       "      <td>5.63</td>\n",
       "      <td>10.12</td>\n",
       "      <td>0.68</td>\n",
       "      <td>28,912.74</td>\n",
       "      <td>14,399.97</td>\n",
       "      <td>0.61</td>\n",
       "      <td>479.10</td>\n",
       "      <td>0.74</td>\n",
       "      <td>527.12</td>\n",
       "      <td>187.27</td>\n",
       "      <td>97.24</td>\n",
       "      <td>2,017.52</td>\n",
       "      <td>0.57</td>\n",
       "      <td>0.18</td>\n",
       "    </tr>\n",
       "    <tr>\n",
       "      <td>std</td>\n",
       "      <td>5.57</td>\n",
       "      <td>3,281.24</td>\n",
       "      <td>25.23</td>\n",
       "      <td>0.99</td>\n",
       "      <td>0.25</td>\n",
       "      <td>6.21</td>\n",
       "      <td>17.19</td>\n",
       "      <td>4.62</td>\n",
       "      <td>4.87</td>\n",
       "      <td>1.01</td>\n",
       "      <td>12,797.52</td>\n",
       "      <td>8,741.02</td>\n",
       "      <td>0.80</td>\n",
       "      <td>318.03</td>\n",
       "      <td>0.93</td>\n",
       "      <td>279.82</td>\n",
       "      <td>225.96</td>\n",
       "      <td>31.98</td>\n",
       "      <td>1.02</td>\n",
       "      <td>0.10</td>\n",
       "      <td>0.07</td>\n",
       "    </tr>\n",
       "    <tr>\n",
       "      <td>min</td>\n",
       "      <td>0.00</td>\n",
       "      <td>1,000.00</td>\n",
       "      <td>12.00</td>\n",
       "      <td>1.00</td>\n",
       "      <td>2.50</td>\n",
       "      <td>1.00</td>\n",
       "      <td>2.00</td>\n",
       "      <td>1.00</td>\n",
       "      <td>1.30</td>\n",
       "      <td>0.00</td>\n",
       "      <td>0.00</td>\n",
       "      <td>208.00</td>\n",
       "      <td>0.00</td>\n",
       "      <td>3.00</td>\n",
       "      <td>0.00</td>\n",
       "      <td>16.00</td>\n",
       "      <td>1.00</td>\n",
       "      <td>13.48</td>\n",
       "      <td>2,014.00</td>\n",
       "      <td>0.04</td>\n",
       "      <td>0.05</td>\n",
       "    </tr>\n",
       "    <tr>\n",
       "      <td>25%</td>\n",
       "      <td>6.00</td>\n",
       "      <td>3,572.50</td>\n",
       "      <td>41.00</td>\n",
       "      <td>1.00</td>\n",
       "      <td>2.50</td>\n",
       "      <td>5.00</td>\n",
       "      <td>19.00</td>\n",
       "      <td>2.00</td>\n",
       "      <td>7.00</td>\n",
       "      <td>0.00</td>\n",
       "      <td>18,397.50</td>\n",
       "      <td>9,721.00</td>\n",
       "      <td>0.00</td>\n",
       "      <td>287.00</td>\n",
       "      <td>0.00</td>\n",
       "      <td>299.75</td>\n",
       "      <td>45.00</td>\n",
       "      <td>78.16</td>\n",
       "      <td>2,017.00</td>\n",
       "      <td>0.50</td>\n",
       "      <td>0.13</td>\n",
       "    </tr>\n",
       "    <tr>\n",
       "      <td>50%</td>\n",
       "      <td>10.00</td>\n",
       "      <td>4,800.00</td>\n",
       "      <td>52.60</td>\n",
       "      <td>2.00</td>\n",
       "      <td>2.65</td>\n",
       "      <td>9.00</td>\n",
       "      <td>30.30</td>\n",
       "      <td>4.00</td>\n",
       "      <td>9.00</td>\n",
       "      <td>0.00</td>\n",
       "      <td>26,884.50</td>\n",
       "      <td>13,165.50</td>\n",
       "      <td>0.00</td>\n",
       "      <td>455.00</td>\n",
       "      <td>0.00</td>\n",
       "      <td>516.00</td>\n",
       "      <td>101.00</td>\n",
       "      <td>95.84</td>\n",
       "      <td>2,018.00</td>\n",
       "      <td>0.57</td>\n",
       "      <td>0.17</td>\n",
       "    </tr>\n",
       "    <tr>\n",
       "      <td>75%</td>\n",
       "      <td>14.00</td>\n",
       "      <td>6,800.00</td>\n",
       "      <td>69.20</td>\n",
       "      <td>3.00</td>\n",
       "      <td>2.80</td>\n",
       "      <td>14.00</td>\n",
       "      <td>42.70</td>\n",
       "      <td>8.00</td>\n",
       "      <td>11.50</td>\n",
       "      <td>1.00</td>\n",
       "      <td>37,407.00</td>\n",
       "      <td>16,167.00</td>\n",
       "      <td>1.00</td>\n",
       "      <td>604.00</td>\n",
       "      <td>1.00</td>\n",
       "      <td>744.00</td>\n",
       "      <td>241.00</td>\n",
       "      <td>114.33</td>\n",
       "      <td>2,018.00</td>\n",
       "      <td>0.64</td>\n",
       "      <td>0.23</td>\n",
       "    </tr>\n",
       "    <tr>\n",
       "      <td>max</td>\n",
       "      <td>50.00</td>\n",
       "      <td>20,000.00</td>\n",
       "      <td>460.80</td>\n",
       "      <td>11.00</td>\n",
       "      <td>5.30</td>\n",
       "      <td>60.00</td>\n",
       "      <td>279.60</td>\n",
       "      <td>30.00</td>\n",
       "      <td>64.00</td>\n",
       "      <td>5.00</td>\n",
       "      <td>84,869.00</td>\n",
       "      <td>65,968.00</td>\n",
       "      <td>3.00</td>\n",
       "      <td>3,190.00</td>\n",
       "      <td>3.00</td>\n",
       "      <td>1,344.00</td>\n",
       "      <td>1,580.00</td>\n",
       "      <td>392.35</td>\n",
       "      <td>2,019.00</td>\n",
       "      <td>0.98</td>\n",
       "      <td>0.72</td>\n",
       "    </tr>\n",
       "  </tbody>\n",
       "</table>\n",
       "</div>"
      ],
      "text/plain": [
       "       total_images  last_price  total_area     rooms  ceiling_height  \\\n",
       "count     13,751.00   13,751.00   13,751.00 13,751.00       13,751.00   \n",
       "mean          10.27    5,695.70       58.22      2.09            2.71   \n",
       "std            5.57    3,281.24       25.23      0.99            0.25   \n",
       "min            0.00    1,000.00       12.00      1.00            2.50   \n",
       "25%            6.00    3,572.50       41.00      1.00            2.50   \n",
       "50%           10.00    4,800.00       52.60      2.00            2.65   \n",
       "75%           14.00    6,800.00       69.20      3.00            2.80   \n",
       "max           50.00   20,000.00      460.80     11.00            5.30   \n",
       "\n",
       "       floors_total  living_area     floor  kitchen_area   balcony  \\\n",
       "count     13,742.00    13,033.00 13,751.00     12,960.00 13,751.00   \n",
       "mean          10.25        33.73      5.63         10.12      0.68   \n",
       "std            6.21        17.19      4.62          4.87      1.01   \n",
       "min            1.00         2.00      1.00          1.30      0.00   \n",
       "25%            5.00        19.00      2.00          7.00      0.00   \n",
       "50%            9.00        30.30      4.00          9.00      0.00   \n",
       "75%           14.00        42.70      8.00         11.50      1.00   \n",
       "max           60.00       279.60     30.00         64.00      5.00   \n",
       "\n",
       "       airports_nearest  cityCenters_nearest  parks_around3000  parks_nearest  \\\n",
       "count         10,952.00            10,966.00         10,967.00       4,894.00   \n",
       "mean          28,912.74            14,399.97              0.61         479.10   \n",
       "std           12,797.52             8,741.02              0.80         318.03   \n",
       "min                0.00               208.00              0.00           3.00   \n",
       "25%           18,397.50             9,721.00              0.00         287.00   \n",
       "50%           26,884.50            13,165.50              0.00         455.00   \n",
       "75%           37,407.00            16,167.00              1.00         604.00   \n",
       "max           84,869.00            65,968.00              3.00       3,190.00   \n",
       "\n",
       "       ponds_around3000  ponds_nearest  days_exposition  \\\n",
       "count         10,967.00       5,320.00        11,489.00   \n",
       "mean               0.74         527.12           187.27   \n",
       "std                0.93         279.82           225.96   \n",
       "min                0.00          16.00             1.00   \n",
       "25%                0.00         299.75            45.00   \n",
       "50%                0.00         516.00           101.00   \n",
       "75%                1.00         744.00           241.00   \n",
       "max                3.00       1,344.00         1,580.00   \n",
       "\n",
       "       price_per_square_meter  year_exposition  living_area_ratio  \\\n",
       "count               13,751.00        13,751.00          13,033.00   \n",
       "mean                    97.24         2,017.52               0.57   \n",
       "std                     31.98             1.02               0.10   \n",
       "min                     13.48         2,014.00               0.04   \n",
       "25%                     78.16         2,017.00               0.50   \n",
       "50%                     95.84         2,018.00               0.57   \n",
       "75%                    114.33         2,018.00               0.64   \n",
       "max                    392.35         2,019.00               0.98   \n",
       "\n",
       "       kitchen_area_ratio  \n",
       "count           12,960.00  \n",
       "mean                 0.18  \n",
       "std                  0.07  \n",
       "min                  0.05  \n",
       "25%                  0.13  \n",
       "50%                  0.17  \n",
       "75%                  0.23  \n",
       "max                  0.72  "
      ]
     },
     "execution_count": 35,
     "metadata": {},
     "output_type": "execute_result"
    }
   ],
   "source": [
    "#очистим данные от аномльных значений\n",
    "good_data = data.copy().query('1<= rooms<= 12 and 2.5<=ceiling_height<=5.5 and 1000<=last_price<=20000')\n",
    "#посмотрим на очищенные данные\n",
    "good_data.describe()"
   ]
  },
  {
   "cell_type": "markdown",
   "metadata": {},
   "source": [
    "<font size=\"3\">Какие факторы больше всего влияют на стоимость квартиры? \n",
    "Изучите, зависит ли цена от площади, числа комнат, удалённости от центра. \n",
    "Изучите зависимость цены от того, на каком этаже расположена квартира: первом, последнем или другом. \n",
    "Также изучите зависимость от даты размещения: дня недели, месяца и года.</font>"
   ]
  },
  {
   "cell_type": "code",
   "execution_count": 36,
   "metadata": {},
   "outputs": [
    {
     "data": {
      "image/png": "[encoded data removed]",
      "text/plain": [
       "<Figure size 432x288 with 1 Axes>"
      ]
     },
     "metadata": {
      "needs_background": "light"
     },
     "output_type": "display_data"
    }
   ],
   "source": [
    "#Создадим сводную таблицу зависимости цены квадратного метра от площади\n",
    "total_area_pivot_table = good_data.pivot_table(index = 'total_area', values = 'price_per_square_meter', aggfunc = ['median', 'count'])\n",
    "#Уберем двухэтажные названия столбцов \n",
    "total_area_pivot_table.columns = ['median', 'count']\n",
    "#Построим диаграмму рассеивания медианных значений\n",
    "total_area_pivot_table.plot(y = 'median', style = 'o', grid = True, legend=None)#Создадим сводную таблицу зависимости цены квадратного метра от площади\n",
    "plt.title('Зависимость цены квадратного метра от площади')\n",
    "plt.xlabel('Площадь м.')\n",
    "plt.ylabel('Цена тыс.р')\n",
    "plt.show()"
   ]
  },
  {
   "cell_type": "code",
   "execution_count": 37,
   "metadata": {},
   "outputs": [
    {
     "data": {
      "text/plain": [
       "0.04295736892077817"
      ]
     },
     "execution_count": 37,
     "metadata": {},
     "output_type": "execute_result"
    }
   ],
   "source": [
    "#Посчитаем коэффициент корреляции\n",
    "good_data['total_area'].corr(good_data['price_per_square_meter'])"
   ]
  },
  {
   "cell_type": "markdown",
   "metadata": {},
   "source": [
    "Зависимость между ценой квадратного метра и площадью не очень выражена. Но в целом чем больше площадь квартиры, тем меньше стоимость квадратного метра в ней."
   ]
  },
  {
   "cell_type": "code",
   "execution_count": 38,
   "metadata": {},
   "outputs": [
    {
     "data": {
      "image/png": "[encoded data removed]",
      "text/plain": [
       "<Figure size 432x288 with 1 Axes>"
      ]
     },
     "metadata": {
      "needs_background": "light"
     },
     "output_type": "display_data"
    }
   ],
   "source": [
    "#Определим зависимость цены от количества комнат. \n",
    "total_rooms_pivot_table = good_data.pivot_table(index = 'rooms', values = 'price_per_square_meter', aggfunc = ['median', 'count'])\n",
    "#Уберем двухэтажные названия столбцов \n",
    "total_rooms_pivot_table.columns = ['median', 'count']\n",
    "#Построим диаграмму рассеивания медианных значений\n",
    "total_rooms_pivot_table.plot(y = 'median', kind = 'bar', grid = True, legend=None)#Создадим сводную таблицу зависимости цены квадратного метра от площади\n",
    "plt.title('Зависимость цены квадратного метра от количества комнат')\n",
    "plt.xlabel('Количество комнат')\n",
    "plt.ylabel('Цена тыс.р')\n",
    "plt.show()"
   ]
  },
  {
   "cell_type": "code",
   "execution_count": 39,
   "metadata": {},
   "outputs": [
    {
     "data": {
      "text/plain": [
       "-0.1382539489925177"
      ]
     },
     "execution_count": 39,
     "metadata": {},
     "output_type": "execute_result"
    }
   ],
   "source": [
    "#Посчитаем коэффициент корреляции\n",
    "good_data['rooms'].corr(good_data['price_per_square_meter'])"
   ]
  },
  {
   "cell_type": "markdown",
   "metadata": {},
   "source": [
    "Стоимость квадратного метра зависит от количества комнат. В целом, чем больше комнат в квартире, тем меньше цена квадратного метра. Самые дорогим кв.м в однокомнатных квартирах. "
   ]
  },
  {
   "cell_type": "code",
   "execution_count": 40,
   "metadata": {},
   "outputs": [
    {
     "data": {
      "image/png": "[encoded data removed]",
      "text/plain": [
       "<Figure size 432x288 with 1 Axes>"
      ]
     },
     "metadata": {
      "needs_background": "light"
     },
     "output_type": "display_data"
    }
   ],
   "source": [
    "#Зависимость цены от близости к центру.\n",
    "good_data.plot(y = 'price_per_square_meter', x = 'cityCenters_nearest', kind = 'scatter', alpha=0.03)\n",
    "plt.title('Зависимость цены квадратного метра от близости к центру')\n",
    "plt.xlabel('Росстояние м.')\n",
    "plt.ylabel('Цена тыс.р')\n",
    "plt.show()"
   ]
  },
  {
   "cell_type": "code",
   "execution_count": 41,
   "metadata": {},
   "outputs": [
    {
     "data": {
      "text/plain": [
       "-0.38289166850643225"
      ]
     },
     "execution_count": 41,
     "metadata": {},
     "output_type": "execute_result"
    }
   ],
   "source": [
    "#Посчитаем коэффициент корреляции\n",
    "good_data['cityCenters_nearest'].corr(good_data['price_per_square_meter'])"
   ]
  },
  {
   "cell_type": "markdown",
   "metadata": {},
   "source": [
    "Очевидно, что чем ближе к центру, тем выше стоимость квартир. "
   ]
  },
  {
   "cell_type": "code",
   "execution_count": 42,
   "metadata": {},
   "outputs": [
    {
     "data": {
      "image/png": "[encoded data removed]",
      "text/plain": [
       "<Figure size 432x288 with 1 Axes>"
      ]
     },
     "metadata": {
      "needs_background": "light"
     },
     "output_type": "display_data"
    }
   ],
   "source": [
    "#Создадим сводную таблицу зависимости площади от цены квадратного метра\n",
    "floors_cat_pivot_table = good_data.pivot_table(index = 'floors_cat', values = 'price_per_square_meter', aggfunc = ['median', 'count'])\n",
    "#Уберем двухэтажные названия столбцов \n",
    "floors_cat_pivot_table.columns = ['median', 'count']\n",
    "#Построим диаграмму рассеивания медианных значений\n",
    "floors_cat_pivot_table.plot(y = 'median', kind = 'bar', grid = True, legend=None)\n",
    "plt.title('Зависимость цены квадратного метра от этажа')\n",
    "plt.xlabel('Этаж')\n",
    "plt.ylabel('Цена тыс.р')\n",
    "plt.show()"
   ]
  },
  {
   "cell_type": "markdown",
   "metadata": {},
   "source": [
    "Cтоимость квадратного метра на первом и последнем этажах в среднем немного ниже, чем на всех остальных. "
   ]
  },
  {
   "cell_type": "code",
   "execution_count": 43,
   "metadata": {},
   "outputs": [
    {
     "data": {
      "image/png": "[encoded data removed]",
      "text/plain": [
       "<Figure size 432x288 with 1 Axes>"
      ]
     },
     "metadata": {
      "needs_background": "light"
     },
     "output_type": "display_data"
    }
   ],
   "source": [
    "#Изучим зависимость цены квадратного метра от даты размещения: дня недели.\n",
    "pivot_table_weekday = good_data.pivot_table(index = 'weekday_exposition', values = 'price_per_square_meter', aggfunc = ['median', 'count'])\n",
    "pivot_table_weekday.columns = ['median', 'count']\n",
    "pivot_table_weekday.plot(y = 'median', style = '-o', grid = True, legend=None)\n",
    "plt.title('Зависимость цены квадратного метра от дня недели')\n",
    "plt.xlabel('Дни недели')\n",
    "plt.ylabel('Цена тыс.р')\n",
    "plt.show()"
   ]
  },
  {
   "cell_type": "markdown",
   "metadata": {},
   "source": [
    "Cтоимость выставленных на продажу квартир выше всего в середине недели(во вторник и среду). А к концу недели стоимость снижается. Возможно это связано с тем, что общая активность людей в середине недели выше. И возможно, люды выставляющие квартиры в середине неделе, подходят к этому более основательно и проводят некий анализ схожих объявлений и на этом основание выставляют более высокую цену. В выходные же люди ведут себя более расслабленно и возможно не утруждают себя анализом похожих объявлений и выставляют цену боллее импульсивно. "
   ]
  },
  {
   "cell_type": "code",
   "execution_count": 44,
   "metadata": {},
   "outputs": [
    {
     "data": {
      "image/png": "[encoded data removed]",
      "text/plain": [
       "<Figure size 432x288 with 1 Axes>"
      ]
     },
     "metadata": {
      "needs_background": "light"
     },
     "output_type": "display_data"
    }
   ],
   "source": [
    "#Изучим зависимость цены квадратного метра от даты размещения: месяц.\n",
    "pivot_table_month = good_data.pivot_table(index = 'month_exposition', values = 'price_per_square_meter', aggfunc = ['median', 'count'])\n",
    "pivot_table_month.columns = ['median', 'count']\n",
    "pivot_table_month.plot(y = 'median', style = '-o', grid = True, legend=None)\n",
    "plt.title('Зависимость цены квадратного метра от месяца')\n",
    "plt.xlabel('Дни месяца')\n",
    "plt.ylabel('Цена тыс.р')\n",
    "plt.show()"
   ]
  },
  {
   "cell_type": "markdown",
   "metadata": {},
   "source": [
    "Стоимость квартир не однородна в течение года. Максимальных значений она достигает в апреле, минимальных в июне. Видно, что летом стоимось квартир, в среднем, ниже, чем в другие времена года. Возможно это всязано с сезоном отпусков и снижением активности покупателей. Возможно, чтобы продать квартиру летом, продавцы вынуждены давать скидки потенциальным покупателям."
   ]
  },
  {
   "cell_type": "code",
   "execution_count": null,
   "metadata": {},
   "outputs": [],
   "source": []
  },
  {
   "cell_type": "code",
   "execution_count": 45,
   "metadata": {},
   "outputs": [
    {
     "data": {
      "image/png": "[encoded data removed]",
      "text/plain": [
       "<Figure size 432x288 with 1 Axes>"
      ]
     },
     "metadata": {
      "needs_background": "light"
     },
     "output_type": "display_data"
    }
   ],
   "source": [
    "#Изучим зависимость цены квадратного метра от даты размещения: год.\n",
    "pivot_table_year = good_data.pivot_table(index = 'year_exposition', values = 'price_per_square_meter', aggfunc = ['median', 'count'])\n",
    "pivot_table_year.columns = ['median', 'count']\n",
    "pivot_table_year.plot(y = 'median', style = '-o', grid = True, legend=None)\n",
    "plt.title('Зависимость цены квадратного метра от года')\n",
    "plt.xlabel('Год')\n",
    "plt.ylabel('Цена тыс.р')\n",
    "plt.show()"
   ]
  },
  {
   "cell_type": "code",
   "execution_count": 46,
   "metadata": {},
   "outputs": [
    {
     "data": {
      "text/plain": [
       "0.08101067589286857"
      ]
     },
     "execution_count": 46,
     "metadata": {},
     "output_type": "execute_result"
    }
   ],
   "source": [
    "#Посчитаем коэффициент корреляции\n",
    "good_data['year_exposition'].corr(good_data['price_per_square_meter'])"
   ]
  },
  {
   "cell_type": "markdown",
   "metadata": {},
   "source": [
    "На графике хорошо видно, что стоимость квартир падала с 2014 по 2015г. Потом два года была более ли менее стабильна, А в 2017г цены на недвижимость начали рости. Этот рост скорее всего связан с появление программ льготной ипотеки. И если бы у нас были данные за 2020-21гг, то мы бы увидели, что рост этот очень существенен."
   ]
  },
  {
   "cell_type": "markdown",
   "metadata": {},
   "source": [
    "<font size=\"3\">Выберите 10 населённых пунктов с наибольшим числом объявлений. Посчитайте среднюю цену квадратного метра в этих населённых пунктах.</font>"
   ]
  },
  {
   "cell_type": "code",
   "execution_count": 47,
   "metadata": {},
   "outputs": [
    {
     "data": {
      "text/html": [
       "<div>\n",
       "<style scoped>\n",
       "    .dataframe tbody tr th:only-of-type {\n",
       "        vertical-align: middle;\n",
       "    }\n",
       "\n",
       "    .dataframe tbody tr th {\n",
       "        vertical-align: top;\n",
       "    }\n",
       "\n",
       "    .dataframe thead th {\n",
       "        text-align: right;\n",
       "    }\n",
       "</style>\n",
       "<table border=\"1\" class=\"dataframe\">\n",
       "  <thead>\n",
       "    <tr style=\"text-align: right;\">\n",
       "      <th></th>\n",
       "      <th>median</th>\n",
       "      <th>count</th>\n",
       "    </tr>\n",
       "    <tr>\n",
       "      <th>locality_name</th>\n",
       "      <th></th>\n",
       "      <th></th>\n",
       "    </tr>\n",
       "  </thead>\n",
       "  <tbody>\n",
       "    <tr>\n",
       "      <td>Санкт-Петербург</td>\n",
       "      <td>104.17</td>\n",
       "      <td>9527</td>\n",
       "    </tr>\n",
       "    <tr>\n",
       "      <td>Всеволожск</td>\n",
       "      <td>65.69</td>\n",
       "      <td>267</td>\n",
       "    </tr>\n",
       "    <tr>\n",
       "      <td>Пушкин</td>\n",
       "      <td>99.74</td>\n",
       "      <td>225</td>\n",
       "    </tr>\n",
       "    <tr>\n",
       "      <td>поселок Шушары</td>\n",
       "      <td>77.66</td>\n",
       "      <td>216</td>\n",
       "    </tr>\n",
       "    <tr>\n",
       "      <td>поселок Мурино</td>\n",
       "      <td>85.71</td>\n",
       "      <td>210</td>\n",
       "    </tr>\n",
       "    <tr>\n",
       "      <td>Колпино</td>\n",
       "      <td>74.73</td>\n",
       "      <td>202</td>\n",
       "    </tr>\n",
       "    <tr>\n",
       "      <td>Гатчина</td>\n",
       "      <td>68.98</td>\n",
       "      <td>148</td>\n",
       "    </tr>\n",
       "    <tr>\n",
       "      <td>Петергоф</td>\n",
       "      <td>81.99</td>\n",
       "      <td>143</td>\n",
       "    </tr>\n",
       "    <tr>\n",
       "      <td>поселок Парголово</td>\n",
       "      <td>91.15</td>\n",
       "      <td>136</td>\n",
       "    </tr>\n",
       "    <tr>\n",
       "      <td>Сестрорецк</td>\n",
       "      <td>100.64</td>\n",
       "      <td>128</td>\n",
       "    </tr>\n",
       "  </tbody>\n",
       "</table>\n",
       "</div>"
      ],
      "text/plain": [
       "                   median  count\n",
       "locality_name                   \n",
       "Санкт-Петербург    104.17   9527\n",
       "Всеволожск          65.69    267\n",
       "Пушкин              99.74    225\n",
       "поселок Шушары      77.66    216\n",
       "поселок Мурино      85.71    210\n",
       "Колпино             74.73    202\n",
       "Гатчина             68.98    148\n",
       "Петергоф            81.99    143\n",
       "поселок Парголово   91.15    136\n",
       "Сестрорецк         100.64    128"
      ]
     },
     "execution_count": 47,
     "metadata": {},
     "output_type": "execute_result"
    }
   ],
   "source": [
    "#Создадим сводную таблицу с данными о количестве объявлений и средней цены квадратного метра по населенным пунктам\n",
    "locality_pivot_table = good_data.pivot_table(index = 'locality_name', values = 'price_per_square_meter', aggfunc=['median', 'count'])\n",
    "locality_pivot_table.columns = ['median', 'count']\n",
    "locality_pivot_table = locality_pivot_table.sort_values('count', ascending = False).head(10)\n",
    "locality_pivot_table"
   ]
  },
  {
   "cell_type": "markdown",
   "metadata": {},
   "source": [
    "Определим населённый пункт с самой высокой средней стоимостью жилья."
   ]
  },
  {
   "cell_type": "code",
   "execution_count": 48,
   "metadata": {},
   "outputs": [
    {
     "data": {
      "text/html": [
       "<div>\n",
       "<style scoped>\n",
       "    .dataframe tbody tr th:only-of-type {\n",
       "        vertical-align: middle;\n",
       "    }\n",
       "\n",
       "    .dataframe tbody tr th {\n",
       "        vertical-align: top;\n",
       "    }\n",
       "\n",
       "    .dataframe thead th {\n",
       "        text-align: right;\n",
       "    }\n",
       "</style>\n",
       "<table border=\"1\" class=\"dataframe\">\n",
       "  <thead>\n",
       "    <tr style=\"text-align: right;\">\n",
       "      <th></th>\n",
       "      <th>median</th>\n",
       "      <th>count</th>\n",
       "    </tr>\n",
       "    <tr>\n",
       "      <th>locality_name</th>\n",
       "      <th></th>\n",
       "      <th></th>\n",
       "    </tr>\n",
       "  </thead>\n",
       "  <tbody>\n",
       "    <tr>\n",
       "      <td>Санкт-Петербург</td>\n",
       "      <td>104.17</td>\n",
       "      <td>9527</td>\n",
       "    </tr>\n",
       "  </tbody>\n",
       "</table>\n",
       "</div>"
      ],
      "text/plain": [
       "                 median  count\n",
       "locality_name                 \n",
       "Санкт-Петербург  104.17   9527"
      ]
     },
     "execution_count": 48,
     "metadata": {},
     "output_type": "execute_result"
    }
   ],
   "source": [
    "locality_pivot_table[locality_pivot_table['median']==locality_pivot_table['median'].max()]"
   ]
  },
  {
   "cell_type": "markdown",
   "metadata": {},
   "source": [
    "Определим населённый пункт с самой низкой средней стоимостью жилья."
   ]
  },
  {
   "cell_type": "code",
   "execution_count": 49,
   "metadata": {},
   "outputs": [
    {
     "data": {
      "text/html": [
       "<div>\n",
       "<style scoped>\n",
       "    .dataframe tbody tr th:only-of-type {\n",
       "        vertical-align: middle;\n",
       "    }\n",
       "\n",
       "    .dataframe tbody tr th {\n",
       "        vertical-align: top;\n",
       "    }\n",
       "\n",
       "    .dataframe thead th {\n",
       "        text-align: right;\n",
       "    }\n",
       "</style>\n",
       "<table border=\"1\" class=\"dataframe\">\n",
       "  <thead>\n",
       "    <tr style=\"text-align: right;\">\n",
       "      <th></th>\n",
       "      <th>median</th>\n",
       "      <th>count</th>\n",
       "    </tr>\n",
       "    <tr>\n",
       "      <th>locality_name</th>\n",
       "      <th></th>\n",
       "      <th></th>\n",
       "    </tr>\n",
       "  </thead>\n",
       "  <tbody>\n",
       "    <tr>\n",
       "      <td>Всеволожск</td>\n",
       "      <td>65.69</td>\n",
       "      <td>267</td>\n",
       "    </tr>\n",
       "  </tbody>\n",
       "</table>\n",
       "</div>"
      ],
      "text/plain": [
       "               median  count\n",
       "locality_name               \n",
       "Всеволожск      65.69    267"
      ]
     },
     "execution_count": 49,
     "metadata": {},
     "output_type": "execute_result"
    }
   ],
   "source": [
    "locality_pivot_table[locality_pivot_table['median']==locality_pivot_table['median'].min()]"
   ]
  },
  {
   "cell_type": "markdown",
   "metadata": {},
   "source": [
    "Самая высокая средняя стоимость квадратного метра жилья в Санкт-Петербурге, самая низкая в Всеволожске."
   ]
  },
  {
   "cell_type": "markdown",
   "metadata": {},
   "source": [
    "<font size=\"3\">Выясняем какая область входит в центр</font>"
   ]
  },
  {
   "cell_type": "code",
   "execution_count": 50,
   "metadata": {},
   "outputs": [
    {
     "data": {
      "image/png": "[encoded data removed]",
      "text/plain": [
       "<Figure size 432x288 with 1 Axes>"
      ]
     },
     "metadata": {
      "needs_background": "light"
     },
     "output_type": "display_data"
    }
   ],
   "source": [
    "#Создадим столбец расстояния до центра в километрах\n",
    "good_data['cityCenters_nearest_km'] = round(good_data['cityCenters_nearest'] / 1000)\n",
    "good_data['cityCenters_nearest_km'] = good_data['cityCenters_nearest_km'].astype('int', errors='ignore')\n",
    "#Выберем те данные, где нит пропусков\n",
    "good_data.loc[(good_data['locality_name'] == 'Санкт-Петербург') & (good_data['cityCenters_nearest_km'].notna()), 'cityCenters_nearest_km'].apply(round)\n",
    "spb_data = good_data.query('locality_name == \"Санкт-Петербург\"')\n",
    "#Создадим сводную таблицу зависимости цены квадратного метра от расстояния\n",
    "spb_center_nearest = spb_data.pivot_table(index = 'cityCenters_nearest_km', values = 'price_per_square_meter', aggfunc='median')\n",
    "spb_center_nearest.head(10)\n",
    "spb_center_nearest.plot(xlim=(0, 30), style='o', grid = True, legend=None)\n",
    "plt.title('Зависимость цены квадратного метра от удаленности до центра')\n",
    "plt.xlabel('Удаленность км.')\n",
    "plt.ylabel('Цена тыс.р')\n",
    "plt.show()"
   ]
  },
  {
   "cell_type": "code",
   "execution_count": 51,
   "metadata": {},
   "outputs": [
    {
     "data": {
      "image/png": "[encoded data removed]",
      "text/plain": [
       "<Figure size 432x288 with 1 Axes>"
      ]
     },
     "metadata": {
      "needs_background": "light"
     },
     "output_type": "display_data"
    }
   ],
   "source": [
    "spb_center_nearest.plot(xlim=(0, 12), ylim=(80, 130), style='-o', grid = True, legend=None)\n",
    "plt.title('Зависимость цены квадратного метра от удаленности до центра, укрупненно')\n",
    "plt.xlabel('Удаленность км.')\n",
    "plt.ylabel('Цена тыс.р')\n",
    "plt.show()"
   ]
  },
  {
   "cell_type": "markdown",
   "metadata": {},
   "source": [
    "Скорее всего центром города можно считать радиус в 8км. Именно после этого расстояния происходит самый большой спад средней цены квадратного метра."
   ]
  },
  {
   "cell_type": "markdown",
   "metadata": {},
   "source": [
    "<font size=\"3\">Выделите сегмент квартир в центре. Проанализируйте эту территорию и изучите следующие параметры: площадь, цена, число комнат, высота потолков.</font>"
   ]
  },
  {
   "cell_type": "code",
   "execution_count": 52,
   "metadata": {},
   "outputs": [],
   "source": [
    "#Определям квартире которые находятся на расстояние до 8км от центра\n",
    "spb_data_center = spb_data.query('cityCenters_nearest_km <= 8')"
   ]
  },
  {
   "cell_type": "code",
   "execution_count": 53,
   "metadata": {},
   "outputs": [
    {
     "data": {
      "image/png": "[encoded data removed]",
      "text/plain": [
       "<Figure size 504x360 with 1 Axes>"
      ]
     },
     "metadata": {
      "needs_background": "light"
     },
     "output_type": "display_data"
    },
    {
     "data": {
      "image/png": "[encoded data removed]",
      "text/plain": [
       "<Figure size 432x288 with 1 Axes>"
      ]
     },
     "metadata": {
      "needs_background": "light"
     },
     "output_type": "display_data"
    },
    {
     "data": {
      "text/plain": [
       "count   2,262.00\n",
       "mean       77.30\n",
       "std        33.24\n",
       "min        12.00\n",
       "25%        53.00\n",
       "50%        72.00\n",
       "75%        95.00\n",
       "max       248.00\n",
       "Name: total_area, dtype: float64"
      ]
     },
     "execution_count": 53,
     "metadata": {},
     "output_type": "execute_result"
    }
   ],
   "source": [
    "#Площадь квартир в центре\n",
    "spb_data_center.plot(y = 'total_area', kind = 'hist', bins = 50, grid=True, figsize = (7,5), range = (0,300), legend=None)\n",
    "plt.title('Гистограмма площади квартир')\n",
    "plt.xlabel('Площадь м2')\n",
    "plt.ylabel('Частота')\n",
    "plt.show()\n",
    "sns.boxplot(spb_data_center['total_area'])\n",
    "plt.title('Диаграмма размаха площади квартир')\n",
    "plt.xlabel('Площадь м.кв')\n",
    "plt.xlim(0, 200)\n",
    "plt.show()\n",
    "spb_data_center['total_area'].describe()"
   ]
  },
  {
   "cell_type": "markdown",
   "metadata": {},
   "source": [
    "Квартиры в центре в среднем больше по площади, чем квартиры в других районах."
   ]
  },
  {
   "cell_type": "code",
   "execution_count": 54,
   "metadata": {},
   "outputs": [
    {
     "data": {
      "image/png": "[encoded data removed]",
      "text/plain": [
       "<Figure size 504x360 with 1 Axes>"
      ]
     },
     "metadata": {
      "needs_background": "light"
     },
     "output_type": "display_data"
    },
    {
     "data": {
      "image/png": "[encoded data removed]",
      "text/plain": [
       "<Figure size 432x288 with 1 Axes>"
      ]
     },
     "metadata": {
      "needs_background": "light"
     },
     "output_type": "display_data"
    },
    {
     "data": {
      "text/plain": [
       "count    2,262.00\n",
       "mean     9,119.22\n",
       "std      3,831.07\n",
       "min      1,600.00\n",
       "25%      6,250.00\n",
       "50%      8,350.00\n",
       "75%     11,496.00\n",
       "max     20,000.00\n",
       "Name: last_price, dtype: float64"
      ]
     },
     "execution_count": 54,
     "metadata": {},
     "output_type": "execute_result"
    }
   ],
   "source": [
    "#стоимость квартир в центре\n",
    "spb_data_center.plot(y = 'last_price', kind = 'hist', bins = 50, grid=True, figsize = (7,5), range = (0, 25000), legend=None)\n",
    "plt.title('Гистограмма стоимости квартир')\n",
    "plt.xlabel('Стоимость тыс.р')\n",
    "plt.ylabel('Частота')\n",
    "plt.show()\n",
    "sns.boxplot(spb_data_center['last_price'])\n",
    "plt.title('Диаграмма размаха стоимости квартир')\n",
    "plt.xlabel('Стоимость тыс.р')\n",
    "plt.xlim(0, 25000)\n",
    "plt.show()\n",
    "spb_data_center['last_price'].describe()"
   ]
  },
  {
   "cell_type": "markdown",
   "metadata": {},
   "source": [
    "Ожидаемо квартиры в центре дороже, чем в других районах. Средняя цена 9млн рублей, против 6.5млн по всей выборке. "
   ]
  },
  {
   "cell_type": "code",
   "execution_count": 55,
   "metadata": {},
   "outputs": [
    {
     "data": {
      "image/png": "[encoded data removed]",
      "text/plain": [
       "<Figure size 504x360 with 1 Axes>"
      ]
     },
     "metadata": {
      "needs_background": "light"
     },
     "output_type": "display_data"
    },
    {
     "data": {
      "image/png": "[encoded data removed]",
      "text/plain": [
       "<Figure size 432x288 with 1 Axes>"
      ]
     },
     "metadata": {
      "needs_background": "light"
     },
     "output_type": "display_data"
    },
    {
     "data": {
      "text/plain": [
       "count   2,262.00\n",
       "mean        2.62\n",
       "std         1.21\n",
       "min         1.00\n",
       "25%         2.00\n",
       "50%         3.00\n",
       "75%         3.00\n",
       "max        11.00\n",
       "Name: rooms, dtype: float64"
      ]
     },
     "execution_count": 55,
     "metadata": {},
     "output_type": "execute_result"
    }
   ],
   "source": [
    "# Строим гистаграмму для количества комнат\n",
    "spb_data_center.plot(y = 'rooms', kind = 'hist', bins = 50, grid=True, figsize = (7,5), range = (0,15), legend=None)\n",
    "plt.title('Гистограмма количества комнат в квартирах')\n",
    "plt.xlabel('Количество комнат')\n",
    "plt.ylabel('Частота')\n",
    "plt.show()\n",
    "sns.boxplot(spb_data_center['rooms'])\n",
    "plt.title('Диаграмма размаха количества комнат')\n",
    "plt.xlabel('Количество комнат')\n",
    "plt.xlim(0, 10)\n",
    "plt.show()\n",
    "spb_data_center['rooms'].describe()"
   ]
  },
  {
   "cell_type": "markdown",
   "metadata": {},
   "source": [
    "В среднем количество комнат в квартирах в центре не сильно отличается то среднего количества комнат в квартирах по всей выборке."
   ]
  },
  {
   "cell_type": "code",
   "execution_count": 56,
   "metadata": {},
   "outputs": [
    {
     "data": {
      "image/png": "[encoded data removed]",
      "text/plain": [
       "<Figure size 504x360 with 1 Axes>"
      ]
     },
     "metadata": {
      "needs_background": "light"
     },
     "output_type": "display_data"
    },
    {
     "data": {
      "image/png": "[encoded data removed]",
      "text/plain": [
       "<Figure size 432x288 with 1 Axes>"
      ]
     },
     "metadata": {
      "needs_background": "light"
     },
     "output_type": "display_data"
    },
    {
     "data": {
      "text/plain": [
       "count   2,262.00\n",
       "mean        3.03\n",
       "std         0.35\n",
       "min         2.50\n",
       "25%         2.75\n",
       "50%         3.00\n",
       "75%         3.20\n",
       "max         5.30\n",
       "Name: ceiling_height, dtype: float64"
      ]
     },
     "execution_count": 56,
     "metadata": {},
     "output_type": "execute_result"
    }
   ],
   "source": [
    "#Высота потолков в центре\n",
    "spb_data_center.plot(y = 'ceiling_height', kind = 'hist', bins = 50, grid=True, figsize = (7,5), range = (1, 7), legend=None)\n",
    "plt.title('Гистограмма высоты потолков в квартирах')\n",
    "plt.xlabel('Высота потолков')\n",
    "plt.ylabel('Частота')\n",
    "plt.show()\n",
    "sns.boxplot(spb_data_center['ceiling_height'])\n",
    "plt.title('Диаграмма размаха высоты потолков')\n",
    "plt.xlabel('Высота потолков м.')\n",
    "plt.xlim(1, 7)\n",
    "plt.show()\n",
    "spb_data_center['ceiling_height'].describe()"
   ]
  },
  {
   "cell_type": "markdown",
   "metadata": {},
   "source": [
    "Потолки в центре выше. Средняя высота 3м."
   ]
  },
  {
   "cell_type": "markdown",
   "metadata": {},
   "source": [
    "<font size=\"3\">Также выделите факторы, которые влияют на стоимость квартиры (число комнат, этаж, удалённость от центра, дата размещения объявления).</font>"
   ]
  },
  {
   "cell_type": "code",
   "execution_count": 57,
   "metadata": {},
   "outputs": [
    {
     "data": {
      "image/png": "[encoded data removed]",
      "text/plain": [
       "<Figure size 432x288 with 1 Axes>"
      ]
     },
     "metadata": {
      "needs_background": "light"
     },
     "output_type": "display_data"
    }
   ],
   "source": [
    "#Зависимость цены квадратного метра в центре от количества комнат\n",
    "spb_rooms_pivot_table = spb_data_center.pivot_table(index = 'rooms', values = 'price_per_square_meter', aggfunc = ['median', 'count'])\n",
    "#Уберем двухэтажные названия столбцов \n",
    "spb_rooms_pivot_table.columns = ['median', 'count']\n",
    "#Построим диаграмму рассеивания медианных значений\n",
    "spb_rooms_pivot_table.plot(y = 'median', kind = 'bar', grid = True, legend=None)\n",
    "plt.title('Зависимость цены квадратного метра от площади')\n",
    "plt.xlabel('Количество комнат')\n",
    "plt.ylabel('Цена тыс.р')\n",
    "plt.show()"
   ]
  },
  {
   "cell_type": "code",
   "execution_count": 58,
   "metadata": {},
   "outputs": [
    {
     "data": {
      "text/plain": [
       "-0.39446721182461053"
      ]
     },
     "execution_count": 58,
     "metadata": {},
     "output_type": "execute_result"
    }
   ],
   "source": [
    "spb_data_center['rooms'].corr(spb_data_center['price_per_square_meter'])"
   ]
  },
  {
   "cell_type": "markdown",
   "metadata": {},
   "source": [
    "Чем меньше комнат в квартире, тем выше стоимость квадратного метра. И эта тенденция в центре города выражена ярче, чем в остальных районах."
   ]
  },
  {
   "cell_type": "code",
   "execution_count": 59,
   "metadata": {},
   "outputs": [
    {
     "data": {
      "image/png": "[encoded data removed]",
      "text/plain": [
       "<Figure size 432x288 with 1 Axes>"
      ]
     },
     "metadata": {
      "needs_background": "light"
     },
     "output_type": "display_data"
    }
   ],
   "source": [
    "#Зависимость цены от этажа\n",
    "floors_spb_cat_pivot_table = spb_data_center.pivot_table(index = 'floors_cat', values = 'price_per_square_meter', aggfunc = ['median', 'count'])\n",
    "#Уберем двухэтажные названия столбцов \n",
    "floors_spb_cat_pivot_table.columns = ['median', 'count']\n",
    "#Построим диаграмму рассеивания медианных значений\n",
    "floors_spb_cat_pivot_table.plot(y = 'median', kind = 'bar', grid = True, legend=None)\n",
    "plt.title('Зависимость цены квадратного метра от этажа')\n",
    "plt.xlabel('Этаж')\n",
    "plt.ylabel('Цена тыс.р')\n",
    "plt.show()"
   ]
  },
  {
   "cell_type": "markdown",
   "metadata": {},
   "source": [
    "Зависимость цены от этажа в центре примерно такая же как и во всей выборке. На первом этаже квартиры дешевле. "
   ]
  },
  {
   "cell_type": "code",
   "execution_count": 60,
   "metadata": {
    "scrolled": false
   },
   "outputs": [
    {
     "data": {
      "image/png": "[encoded data removed]",
      "text/plain": [
       "<Figure size 432x288 with 1 Axes>"
      ]
     },
     "metadata": {
      "needs_background": "light"
     },
     "output_type": "display_data"
    }
   ],
   "source": [
    "#зависимость от расстояния до центра\n",
    "#Зависимость цены от близости к центру.\n",
    "spb_data_center.plot(y = 'price_per_square_meter', x = 'cityCenters_nearest', kind = 'scatter', alpha=0.03)\n",
    "plt.title('Зависимость цены квадратного метра от близости к центру')\n",
    "plt.xlabel('Росстояние м.')\n",
    "plt.ylabel('Цена тыс.р')\n",
    "plt.show()"
   ]
  },
  {
   "cell_type": "code",
   "execution_count": 61,
   "metadata": {},
   "outputs": [
    {
     "data": {
      "text/plain": [
       "0.0072007809668797875"
      ]
     },
     "execution_count": 61,
     "metadata": {},
     "output_type": "execute_result"
    }
   ],
   "source": [
    "spb_data_center['cityCenters_nearest'].corr(spb_data_center['price_per_square_meter'])"
   ]
  },
  {
   "cell_type": "markdown",
   "metadata": {},
   "source": [
    "Зависимость цены от расстояния до центра не выражена. Т.к. квартиры в выборке и так, по факту, все находятся в центре города. Скорее в данном случае на цену влияет конкретный район, например на Крестовском острове квартиры гораздо дороже, чем на лиговском проспекте, хотя расстояние до центра примерно одинаковое."
   ]
  },
  {
   "cell_type": "code",
   "execution_count": 62,
   "metadata": {},
   "outputs": [
    {
     "data": {
      "image/png": "[encoded data removed]",
      "text/plain": [
       "<Figure size 432x288 with 1 Axes>"
      ]
     },
     "metadata": {
      "needs_background": "light"
     },
     "output_type": "display_data"
    }
   ],
   "source": [
    "#Зависимость цены квадратного метра в центре от года\n",
    "pivot_table_year_center = spb_data_center.pivot_table(index = 'year_exposition', values = 'price_per_square_meter', aggfunc = ['median', 'count'])\n",
    "pivot_table_year_center.columns = ['median', 'count']\n",
    "pivot_table_year_center.plot(y = 'median', style = '-o', grid = True, legend=None)\n",
    "plt.title('Зависимость цены квадратного метра от года')\n",
    "plt.xlabel('Год')\n",
    "plt.ylabel('Цена тыс.р')\n",
    "plt.show()"
   ]
  },
  {
   "cell_type": "code",
   "execution_count": 63,
   "metadata": {},
   "outputs": [
    {
     "data": {
      "text/plain": [
       "0.09167552009269814"
      ]
     },
     "execution_count": 63,
     "metadata": {},
     "output_type": "execute_result"
    }
   ],
   "source": [
    "spb_data_center['year_exposition'].corr(spb_data_center['price_per_square_meter'])"
   ]
  },
  {
   "cell_type": "markdown",
   "metadata": {},
   "source": [
    "Цены на квартиры в центре в 2014 году снижались не так существенно, как в других районах."
   ]
  },
  {
   "cell_type": "markdown",
   "metadata": {},
   "source": [
    "## Общий вывод"
   ]
  },
  {
   "cell_type": "markdown",
   "metadata": {},
   "source": [
    "<font size=\"3\">В ходе исследовования объявлений о продаже квартир с Санкт-петербурге и Ленинградской области были выявлены параметры, которые влияют на стоимость квартир. Также были определены значения, которые можно считать аномальными.\n",
    "Параметры:\n",
    "1. Общая площадь(аномальные значения: больше 115кв.м). Хотя в реальности квартиры большей площади тоже существуют.\n",
    "2. Число комнат. В целом, чем меньше в квартире комнат, тем больше стоит квадратный метр в ней. \n",
    "3. Этаж. Возможно в форме стоит предусматреть отдельную графу, в которой можно будет выбрать категорию этажа(первый/последний/другой) Т.к. этот параметр довольно сильно влияет на цену. Квартиры на первом этаже дешевле остальных.\n",
    "4. Расстояние до центра города. Было установлено, что в Санкт-Петербурге центром условно можно считать окружность радиусов в 8км. И в этой области параметры квартир несколько отличаются от всей выборки. Они Дороже, больше по площади, в них выше пололки. \n",
    "Возможно нужно предусмотреть некий фильтр, который отделяет центр от остальной выборке. Т.к. значения которые могут считаться аномальными для остальной выбоке не являются таковыми для центра.\n",
    "5. Высота потолков. Возможно нужно изначально ввести ограничения на ввод некорректных данных. Например не разрешать указывать высоту потолка ниже 2.5 и выше 6м. Тогда аномалий, связанных с ручным вводом заведомо неверных данных станет меньше. \n",
    "</font>"
   ]
  },
  {
   "cell_type": "code",
   "execution_count": null,
   "metadata": {},
   "outputs": [],
   "source": []
  }
 ],
 "metadata": {
  "ExecuteTimeLog": [
   {
    "duration": 611,
    "start_time": "2021-12-23T11:19:47.491Z"
   },
   {
    "duration": 65,
    "start_time": "2021-12-23T11:20:13.067Z"
   },
   {
    "duration": 78,
    "start_time": "2021-12-23T11:21:56.975Z"
   },
   {
    "duration": 92,
    "start_time": "2021-12-23T11:22:07.273Z"
   },
   {
    "duration": 86,
    "start_time": "2021-12-23T11:25:36.043Z"
   },
   {
    "duration": 11,
    "start_time": "2021-12-23T11:25:59.907Z"
   },
   {
    "duration": 11,
    "start_time": "2021-12-23T11:27:36.766Z"
   },
   {
    "duration": 68,
    "start_time": "2021-12-23T11:27:55.173Z"
   },
   {
    "duration": 759,
    "start_time": "2021-12-24T12:55:22.458Z"
   },
   {
    "duration": 130,
    "start_time": "2021-12-24T12:55:26.164Z"
   },
   {
    "duration": 17,
    "start_time": "2021-12-24T12:55:26.298Z"
   },
   {
    "duration": 111,
    "start_time": "2021-12-24T12:55:26.318Z"
   },
   {
    "duration": 98,
    "start_time": "2021-12-24T12:58:40.455Z"
   },
   {
    "duration": 110,
    "start_time": "2021-12-24T12:58:46.072Z"
   },
   {
    "duration": 22,
    "start_time": "2021-12-24T12:58:46.184Z"
   },
   {
    "duration": 90,
    "start_time": "2021-12-24T12:58:46.209Z"
   },
   {
    "duration": 95,
    "start_time": "2021-12-24T13:30:33.321Z"
   },
   {
    "duration": 79,
    "start_time": "2021-12-24T13:30:46.705Z"
   },
   {
    "duration": 94,
    "start_time": "2021-12-24T13:31:35.934Z"
   },
   {
    "duration": 1377,
    "start_time": "2021-12-24T14:03:11.530Z"
   },
   {
    "duration": 13,
    "start_time": "2021-12-24T14:08:41.410Z"
   },
   {
    "duration": 5,
    "start_time": "2021-12-24T14:08:45.427Z"
   },
   {
    "duration": 18,
    "start_time": "2021-12-24T14:08:59.468Z"
   },
   {
    "duration": 13,
    "start_time": "2021-12-24T14:09:40.348Z"
   },
   {
    "duration": 20,
    "start_time": "2021-12-24T14:09:50.996Z"
   },
   {
    "duration": 193,
    "start_time": "2021-12-24T14:09:56.756Z"
   },
   {
    "duration": 10,
    "start_time": "2021-12-24T14:09:56.951Z"
   },
   {
    "duration": 81,
    "start_time": "2021-12-24T14:09:56.963Z"
   },
   {
    "duration": 1795,
    "start_time": "2021-12-24T14:09:57.046Z"
   },
   {
    "duration": 27,
    "start_time": "2021-12-24T14:10:55.918Z"
   },
   {
    "duration": 19,
    "start_time": "2021-12-24T14:15:55.701Z"
   },
   {
    "duration": 17,
    "start_time": "2021-12-24T14:23:52.622Z"
   },
   {
    "duration": 25,
    "start_time": "2021-12-24T14:32:50.889Z"
   },
   {
    "duration": 183,
    "start_time": "2021-12-24T16:32:34.196Z"
   },
   {
    "duration": 87,
    "start_time": "2021-12-24T16:32:58.486Z"
   },
   {
    "duration": 90,
    "start_time": "2021-12-24T16:33:22.791Z"
   },
   {
    "duration": 698,
    "start_time": "2021-12-25T07:36:02.799Z"
   },
   {
    "duration": 10,
    "start_time": "2021-12-25T07:36:03.499Z"
   },
   {
    "duration": 69,
    "start_time": "2021-12-25T07:36:03.511Z"
   },
   {
    "duration": 19,
    "start_time": "2021-12-25T07:36:03.582Z"
   },
   {
    "duration": 15,
    "start_time": "2021-12-25T07:36:21.251Z"
   },
   {
    "duration": 350,
    "start_time": "2021-12-25T07:37:00.979Z"
   },
   {
    "duration": 8,
    "start_time": "2021-12-25T07:37:37.021Z"
   },
   {
    "duration": 6,
    "start_time": "2021-12-25T07:47:19.093Z"
   },
   {
    "duration": 9,
    "start_time": "2021-12-25T07:48:39.969Z"
   },
   {
    "duration": 6,
    "start_time": "2021-12-25T07:49:07.283Z"
   },
   {
    "duration": 7,
    "start_time": "2021-12-25T07:49:33.785Z"
   },
   {
    "duration": 6,
    "start_time": "2021-12-25T07:50:13.213Z"
   },
   {
    "duration": 6,
    "start_time": "2021-12-25T07:51:05.166Z"
   },
   {
    "duration": 286,
    "start_time": "2021-12-25T08:06:15.930Z"
   },
   {
    "duration": 213,
    "start_time": "2021-12-25T08:06:35.680Z"
   },
   {
    "duration": 138,
    "start_time": "2021-12-25T08:06:57.321Z"
   },
   {
    "duration": 209,
    "start_time": "2021-12-25T08:07:08.378Z"
   },
   {
    "duration": 259,
    "start_time": "2021-12-25T08:07:53.811Z"
   },
   {
    "duration": 221,
    "start_time": "2021-12-25T08:11:51.319Z"
   },
   {
    "duration": 278,
    "start_time": "2021-12-25T08:13:01.240Z"
   },
   {
    "duration": 10,
    "start_time": "2021-12-25T08:14:11.826Z"
   },
   {
    "duration": 214,
    "start_time": "2021-12-25T08:14:22.526Z"
   },
   {
    "duration": 222,
    "start_time": "2021-12-25T08:14:58.658Z"
   },
   {
    "duration": 17,
    "start_time": "2021-12-25T08:17:22.934Z"
   },
   {
    "duration": 17,
    "start_time": "2021-12-25T08:17:59.511Z"
   },
   {
    "duration": 22,
    "start_time": "2021-12-25T08:18:52.464Z"
   },
   {
    "duration": 26,
    "start_time": "2021-12-25T08:19:30.105Z"
   },
   {
    "duration": 11,
    "start_time": "2021-12-25T08:19:57.448Z"
   },
   {
    "duration": 7,
    "start_time": "2021-12-25T08:20:42.890Z"
   },
   {
    "duration": 14,
    "start_time": "2021-12-25T08:21:38.346Z"
   },
   {
    "duration": 212,
    "start_time": "2021-12-25T08:22:15.619Z"
   },
   {
    "duration": 6,
    "start_time": "2021-12-25T08:24:35.479Z"
   },
   {
    "duration": 264,
    "start_time": "2021-12-25T08:25:29.199Z"
   },
   {
    "duration": 7,
    "start_time": "2021-12-25T08:25:36.312Z"
   },
   {
    "duration": 430,
    "start_time": "2021-12-25T08:28:30.283Z"
   },
   {
    "duration": 250,
    "start_time": "2021-12-25T08:29:55.300Z"
   },
   {
    "duration": 7,
    "start_time": "2021-12-25T08:30:15.942Z"
   },
   {
    "duration": 253,
    "start_time": "2021-12-25T08:31:45.888Z"
   },
   {
    "duration": 599,
    "start_time": "2021-12-25T08:34:50.526Z"
   },
   {
    "duration": 10,
    "start_time": "2021-12-25T08:34:51.127Z"
   },
   {
    "duration": 74,
    "start_time": "2021-12-25T08:34:51.139Z"
   },
   {
    "duration": 20,
    "start_time": "2021-12-25T08:34:51.215Z"
   },
   {
    "duration": 6,
    "start_time": "2021-12-25T08:34:51.236Z"
   },
   {
    "duration": 242,
    "start_time": "2021-12-25T08:34:51.261Z"
   },
   {
    "duration": 6,
    "start_time": "2021-12-25T08:34:51.505Z"
   },
   {
    "duration": 365,
    "start_time": "2021-12-25T08:34:51.513Z"
   },
   {
    "duration": 296,
    "start_time": "2021-12-25T08:35:32.180Z"
   },
   {
    "duration": 8,
    "start_time": "2021-12-25T08:35:47.315Z"
   },
   {
    "duration": 267,
    "start_time": "2021-12-25T08:36:43.836Z"
   },
   {
    "duration": 90,
    "start_time": "2021-12-25T08:36:54.254Z"
   },
   {
    "duration": 90,
    "start_time": "2021-12-25T08:37:07.830Z"
   },
   {
    "duration": 12,
    "start_time": "2021-12-25T08:37:44.839Z"
   },
   {
    "duration": 12,
    "start_time": "2021-12-25T08:38:07.862Z"
   },
   {
    "duration": 7,
    "start_time": "2021-12-25T08:38:47.504Z"
   },
   {
    "duration": 8,
    "start_time": "2021-12-25T08:39:02.824Z"
   },
   {
    "duration": 86,
    "start_time": "2021-12-25T08:41:38.991Z"
   },
   {
    "duration": 10,
    "start_time": "2021-12-25T08:41:39.079Z"
   },
   {
    "duration": 79,
    "start_time": "2021-12-25T08:41:39.091Z"
   },
   {
    "duration": 21,
    "start_time": "2021-12-25T08:41:39.172Z"
   },
   {
    "duration": 10,
    "start_time": "2021-12-25T08:41:39.195Z"
   },
   {
    "duration": 254,
    "start_time": "2021-12-25T08:41:39.207Z"
   },
   {
    "duration": 7,
    "start_time": "2021-12-25T08:41:39.463Z"
   },
   {
    "duration": 6,
    "start_time": "2021-12-25T08:41:39.472Z"
   },
   {
    "duration": 253,
    "start_time": "2021-12-25T08:41:47.563Z"
   },
   {
    "duration": 8,
    "start_time": "2021-12-25T08:41:53.947Z"
   },
   {
    "duration": 85,
    "start_time": "2021-12-25T08:48:58.792Z"
   },
   {
    "duration": 10,
    "start_time": "2021-12-25T08:48:58.878Z"
   },
   {
    "duration": 81,
    "start_time": "2021-12-25T08:48:58.891Z"
   },
   {
    "duration": 20,
    "start_time": "2021-12-25T08:48:58.974Z"
   },
   {
    "duration": 20,
    "start_time": "2021-12-25T08:48:58.995Z"
   },
   {
    "duration": 247,
    "start_time": "2021-12-25T08:48:59.016Z"
   },
   {
    "duration": 7,
    "start_time": "2021-12-25T08:48:59.264Z"
   },
   {
    "duration": 20,
    "start_time": "2021-12-25T08:48:59.273Z"
   },
   {
    "duration": 6,
    "start_time": "2021-12-25T08:49:30.725Z"
   },
   {
    "duration": 6,
    "start_time": "2021-12-25T08:49:42.901Z"
   },
   {
    "duration": 10,
    "start_time": "2021-12-25T08:50:38.750Z"
   },
   {
    "duration": 8,
    "start_time": "2021-12-25T08:50:57.881Z"
   },
   {
    "duration": 247,
    "start_time": "2021-12-25T08:51:08.462Z"
   },
   {
    "duration": 9,
    "start_time": "2021-12-25T08:51:17.398Z"
   },
   {
    "duration": 7,
    "start_time": "2021-12-25T08:51:51.471Z"
   },
   {
    "duration": 7,
    "start_time": "2021-12-25T08:52:06.415Z"
   },
   {
    "duration": 20,
    "start_time": "2021-12-25T08:52:17.952Z"
   },
   {
    "duration": 16,
    "start_time": "2021-12-25T08:52:57.471Z"
   },
   {
    "duration": 310,
    "start_time": "2021-12-25T08:53:42.482Z"
   },
   {
    "duration": 12,
    "start_time": "2021-12-25T08:54:08.505Z"
   },
   {
    "duration": 362,
    "start_time": "2021-12-25T08:54:44.739Z"
   },
   {
    "duration": 264,
    "start_time": "2021-12-25T08:55:32.508Z"
   },
   {
    "duration": 822,
    "start_time": "2021-12-25T08:55:31.952Z"
   },
   {
    "duration": 33,
    "start_time": "2021-12-25T08:57:20.798Z"
   },
   {
    "duration": 21,
    "start_time": "2021-12-25T08:57:52.159Z"
   },
   {
    "duration": 28,
    "start_time": "2021-12-25T08:58:05.014Z"
   },
   {
    "duration": 33,
    "start_time": "2021-12-25T08:58:23.967Z"
   },
   {
    "duration": 281,
    "start_time": "2021-12-25T08:58:50.582Z"
   },
   {
    "duration": 255,
    "start_time": "2021-12-25T09:01:20.067Z"
   },
   {
    "duration": 283,
    "start_time": "2021-12-25T09:02:07.460Z"
   },
   {
    "duration": 259,
    "start_time": "2021-12-25T09:02:56.653Z"
   },
   {
    "duration": 273,
    "start_time": "2021-12-25T09:03:46.670Z"
   },
   {
    "duration": 645,
    "start_time": "2021-12-25T09:05:45.049Z"
   },
   {
    "duration": 12,
    "start_time": "2021-12-25T09:10:48.904Z"
   },
   {
    "duration": 310,
    "start_time": "2021-12-25T09:11:19.847Z"
   },
   {
    "duration": 12,
    "start_time": "2021-12-25T09:14:53.405Z"
   },
   {
    "duration": 265,
    "start_time": "2021-12-25T09:19:59.426Z"
   },
   {
    "duration": 262,
    "start_time": "2021-12-25T09:21:42.653Z"
   },
   {
    "duration": 83,
    "start_time": "2021-12-25T09:22:22.662Z"
   },
   {
    "duration": 14,
    "start_time": "2021-12-25T09:22:22.747Z"
   },
   {
    "duration": 61,
    "start_time": "2021-12-25T09:22:22.763Z"
   },
   {
    "duration": 39,
    "start_time": "2021-12-25T09:22:22.826Z"
   },
   {
    "duration": 6,
    "start_time": "2021-12-25T09:22:22.866Z"
   },
   {
    "duration": 32,
    "start_time": "2021-12-25T09:22:22.874Z"
   },
   {
    "duration": 6,
    "start_time": "2021-12-25T09:22:22.907Z"
   },
   {
    "duration": 15,
    "start_time": "2021-12-25T09:22:22.915Z"
   },
   {
    "duration": 19,
    "start_time": "2021-12-25T09:22:37.236Z"
   },
   {
    "duration": 13,
    "start_time": "2021-12-25T09:24:55.800Z"
   },
   {
    "duration": 12,
    "start_time": "2021-12-25T09:25:14.937Z"
   },
   {
    "duration": 256,
    "start_time": "2021-12-25T09:25:28.087Z"
   },
   {
    "duration": 5,
    "start_time": "2021-12-25T09:26:21.589Z"
   },
   {
    "duration": 5,
    "start_time": "2021-12-25T09:26:41.425Z"
   },
   {
    "duration": 5,
    "start_time": "2021-12-25T09:27:33.796Z"
   },
   {
    "duration": 7,
    "start_time": "2021-12-25T09:27:46.083Z"
   },
   {
    "duration": 242,
    "start_time": "2021-12-25T09:28:38.398Z"
   },
   {
    "duration": 8,
    "start_time": "2021-12-25T09:28:56.932Z"
   },
   {
    "duration": 306,
    "start_time": "2021-12-25T09:34:15.291Z"
   },
   {
    "duration": 92,
    "start_time": "2021-12-25T09:35:48.632Z"
   },
   {
    "duration": 10,
    "start_time": "2021-12-25T09:35:48.725Z"
   },
   {
    "duration": 81,
    "start_time": "2021-12-25T09:35:48.736Z"
   },
   {
    "duration": 19,
    "start_time": "2021-12-25T09:35:48.819Z"
   },
   {
    "duration": 29,
    "start_time": "2021-12-25T09:35:48.839Z"
   },
   {
    "duration": 7,
    "start_time": "2021-12-25T09:35:48.871Z"
   },
   {
    "duration": 346,
    "start_time": "2021-12-25T09:35:48.880Z"
   },
   {
    "duration": 869,
    "start_time": "2021-12-25T09:35:48.358Z"
   },
   {
    "duration": 16,
    "start_time": "2021-12-25T09:40:11.732Z"
   },
   {
    "duration": 39,
    "start_time": "2021-12-25T09:41:39.444Z"
   },
   {
    "duration": 14,
    "start_time": "2021-12-25T09:42:14.407Z"
   },
   {
    "duration": 4,
    "start_time": "2021-12-25T09:42:42.117Z"
   },
   {
    "duration": 5,
    "start_time": "2021-12-25T09:43:13.680Z"
   },
   {
    "duration": 6,
    "start_time": "2021-12-25T09:44:32.808Z"
   },
   {
    "duration": 13,
    "start_time": "2021-12-25T11:02:11.588Z"
   },
   {
    "duration": 8,
    "start_time": "2021-12-25T11:02:46.300Z"
   },
   {
    "duration": 7,
    "start_time": "2021-12-25T11:04:03.518Z"
   },
   {
    "duration": 7,
    "start_time": "2021-12-25T11:04:25.390Z"
   },
   {
    "duration": 7,
    "start_time": "2021-12-25T11:05:26.902Z"
   },
   {
    "duration": 9,
    "start_time": "2021-12-25T11:05:59.267Z"
   },
   {
    "duration": 8,
    "start_time": "2021-12-25T11:06:38.600Z"
   },
   {
    "duration": 261,
    "start_time": "2021-12-25T11:19:36.730Z"
   },
   {
    "duration": 19,
    "start_time": "2021-12-25T11:19:49.704Z"
   },
   {
    "duration": 18,
    "start_time": "2021-12-25T11:20:01.592Z"
   },
   {
    "duration": 12,
    "start_time": "2021-12-25T11:20:14.337Z"
   },
   {
    "duration": 124,
    "start_time": "2021-12-25T11:20:21.813Z"
   },
   {
    "duration": 21,
    "start_time": "2021-12-25T11:20:21.940Z"
   },
   {
    "duration": 70,
    "start_time": "2021-12-25T11:20:21.965Z"
   },
   {
    "duration": 44,
    "start_time": "2021-12-25T11:20:22.037Z"
   },
   {
    "duration": 7,
    "start_time": "2021-12-25T11:20:22.083Z"
   },
   {
    "duration": 7,
    "start_time": "2021-12-25T11:20:22.091Z"
   },
   {
    "duration": 6,
    "start_time": "2021-12-25T11:20:22.100Z"
   },
   {
    "duration": 58,
    "start_time": "2021-12-25T11:20:22.107Z"
   },
   {
    "duration": 10,
    "start_time": "2021-12-25T11:20:22.168Z"
   },
   {
    "duration": 6,
    "start_time": "2021-12-25T11:20:22.180Z"
   },
   {
    "duration": 29,
    "start_time": "2021-12-25T11:20:22.188Z"
   },
   {
    "duration": 107,
    "start_time": "2021-12-25T11:20:48.904Z"
   },
   {
    "duration": 80,
    "start_time": "2021-12-25T11:21:05.068Z"
   },
   {
    "duration": 751,
    "start_time": "2021-12-25T11:21:28.410Z"
   },
   {
    "duration": 655,
    "start_time": "2021-12-25T11:22:14.531Z"
   },
   {
    "duration": 268,
    "start_time": "2021-12-25T11:24:14.266Z"
   },
   {
    "duration": 288,
    "start_time": "2021-12-25T11:24:32.070Z"
   },
   {
    "duration": 453,
    "start_time": "2021-12-25T11:24:45.488Z"
   },
   {
    "duration": 12,
    "start_time": "2021-12-25T11:31:56.655Z"
   },
   {
    "duration": 93,
    "start_time": "2021-12-25T11:32:05.689Z"
   },
   {
    "duration": 14,
    "start_time": "2021-12-25T11:32:05.784Z"
   },
   {
    "duration": 84,
    "start_time": "2021-12-25T11:32:05.800Z"
   },
   {
    "duration": 18,
    "start_time": "2021-12-25T11:32:05.886Z"
   },
   {
    "duration": 21,
    "start_time": "2021-12-25T11:32:05.905Z"
   },
   {
    "duration": 25,
    "start_time": "2021-12-25T11:32:05.927Z"
   },
   {
    "duration": 42,
    "start_time": "2021-12-25T11:32:05.954Z"
   },
   {
    "duration": 31,
    "start_time": "2021-12-25T11:32:05.998Z"
   },
   {
    "duration": 7,
    "start_time": "2021-12-25T11:32:06.032Z"
   },
   {
    "duration": 37,
    "start_time": "2021-12-25T11:32:06.040Z"
   },
   {
    "duration": 20,
    "start_time": "2021-12-25T11:32:06.079Z"
   },
   {
    "duration": 10,
    "start_time": "2021-12-25T11:32:47.832Z"
   },
   {
    "duration": 10,
    "start_time": "2021-12-25T11:32:53.112Z"
   },
   {
    "duration": 359,
    "start_time": "2021-12-25T11:35:02.491Z"
   },
   {
    "duration": 270,
    "start_time": "2021-12-25T11:35:14.397Z"
   },
   {
    "duration": 9,
    "start_time": "2021-12-25T11:35:28.843Z"
   },
   {
    "duration": 319,
    "start_time": "2021-12-25T17:01:44.010Z"
   },
   {
    "duration": 1559,
    "start_time": "2021-12-25T17:01:52.534Z"
   },
   {
    "duration": 21,
    "start_time": "2021-12-25T17:01:54.096Z"
   },
   {
    "duration": 106,
    "start_time": "2021-12-25T17:01:54.120Z"
   },
   {
    "duration": 29,
    "start_time": "2021-12-25T17:01:54.229Z"
   },
   {
    "duration": 7,
    "start_time": "2021-12-25T17:01:54.261Z"
   },
   {
    "duration": 7,
    "start_time": "2021-12-25T17:01:54.271Z"
   },
   {
    "duration": 42,
    "start_time": "2021-12-25T17:01:54.280Z"
   },
   {
    "duration": 24,
    "start_time": "2021-12-25T17:01:54.325Z"
   },
   {
    "duration": 9,
    "start_time": "2021-12-25T17:01:54.352Z"
   },
   {
    "duration": 8,
    "start_time": "2021-12-25T17:01:54.363Z"
   },
   {
    "duration": 50,
    "start_time": "2021-12-25T17:01:54.373Z"
   },
   {
    "duration": 9,
    "start_time": "2021-12-25T17:01:54.425Z"
   },
   {
    "duration": 28,
    "start_time": "2021-12-25T17:02:08.484Z"
   },
   {
    "duration": 10,
    "start_time": "2021-12-25T17:02:59.812Z"
   },
   {
    "duration": 143,
    "start_time": "2021-12-25T17:03:29.183Z"
   },
   {
    "duration": 16,
    "start_time": "2021-12-25T17:03:29.329Z"
   },
   {
    "duration": 131,
    "start_time": "2021-12-25T17:03:29.349Z"
   },
   {
    "duration": 37,
    "start_time": "2021-12-25T17:03:29.484Z"
   },
   {
    "duration": 7,
    "start_time": "2021-12-25T17:03:29.524Z"
   },
   {
    "duration": 7,
    "start_time": "2021-12-25T17:03:29.533Z"
   },
   {
    "duration": 12,
    "start_time": "2021-12-25T17:03:29.542Z"
   },
   {
    "duration": 59,
    "start_time": "2021-12-25T17:03:29.559Z"
   },
   {
    "duration": 10,
    "start_time": "2021-12-25T17:03:29.620Z"
   },
   {
    "duration": 6,
    "start_time": "2021-12-25T17:03:29.633Z"
   },
   {
    "duration": 7,
    "start_time": "2021-12-25T17:03:29.642Z"
   },
   {
    "duration": 12,
    "start_time": "2021-12-25T17:03:29.652Z"
   },
   {
    "duration": 73,
    "start_time": "2021-12-25T17:03:29.666Z"
   },
   {
    "duration": 27,
    "start_time": "2021-12-25T17:05:43.074Z"
   },
   {
    "duration": 4,
    "start_time": "2021-12-25T17:09:27.741Z"
   },
   {
    "duration": 4,
    "start_time": "2021-12-25T17:10:01.982Z"
   },
   {
    "duration": 792,
    "start_time": "2021-12-25T17:12:32.183Z"
   },
   {
    "duration": 828,
    "start_time": "2021-12-25T17:12:44.512Z"
   },
   {
    "duration": 870,
    "start_time": "2021-12-25T17:13:27.103Z"
   },
   {
    "duration": 318,
    "start_time": "2021-12-26T08:39:40.539Z"
   },
   {
    "duration": 1632,
    "start_time": "2021-12-26T08:39:58.385Z"
   },
   {
    "duration": 16,
    "start_time": "2021-12-26T08:40:00.019Z"
   },
   {
    "duration": 117,
    "start_time": "2021-12-26T08:40:00.038Z"
   },
   {
    "duration": 33,
    "start_time": "2021-12-26T08:40:00.158Z"
   },
   {
    "duration": 28,
    "start_time": "2021-12-26T08:40:00.194Z"
   },
   {
    "duration": 6,
    "start_time": "2021-12-26T08:40:00.225Z"
   },
   {
    "duration": 24,
    "start_time": "2021-12-26T08:40:00.234Z"
   },
   {
    "duration": 28,
    "start_time": "2021-12-26T08:40:00.260Z"
   },
   {
    "duration": 27,
    "start_time": "2021-12-26T08:40:00.291Z"
   },
   {
    "duration": 6,
    "start_time": "2021-12-26T08:40:00.321Z"
   },
   {
    "duration": 28,
    "start_time": "2021-12-26T08:40:00.329Z"
   },
   {
    "duration": 20,
    "start_time": "2021-12-26T08:40:00.359Z"
   },
   {
    "duration": 27,
    "start_time": "2021-12-26T08:40:00.381Z"
   },
   {
    "duration": 31,
    "start_time": "2021-12-26T08:40:00.411Z"
   },
   {
    "duration": 4,
    "start_time": "2021-12-26T08:40:00.445Z"
   },
   {
    "duration": 820,
    "start_time": "2021-12-26T08:40:00.451Z"
   },
   {
    "duration": 29,
    "start_time": "2021-12-26T08:42:53.509Z"
   },
   {
    "duration": 17,
    "start_time": "2021-12-26T08:49:27.492Z"
   },
   {
    "duration": 809,
    "start_time": "2021-12-26T08:49:40.071Z"
   },
   {
    "duration": 9,
    "start_time": "2021-12-26T08:55:55.629Z"
   },
   {
    "duration": 343,
    "start_time": "2021-12-26T08:56:26.039Z"
   },
   {
    "duration": 311,
    "start_time": "2021-12-26T08:56:43.615Z"
   },
   {
    "duration": 112,
    "start_time": "2021-12-26T08:59:35.342Z"
   },
   {
    "duration": 16,
    "start_time": "2021-12-26T08:59:35.457Z"
   },
   {
    "duration": 113,
    "start_time": "2021-12-26T08:59:35.476Z"
   },
   {
    "duration": 38,
    "start_time": "2021-12-26T08:59:35.591Z"
   },
   {
    "duration": 11,
    "start_time": "2021-12-26T08:59:35.631Z"
   },
   {
    "duration": 5,
    "start_time": "2021-12-26T08:59:35.645Z"
   },
   {
    "duration": 11,
    "start_time": "2021-12-26T08:59:35.653Z"
   },
   {
    "duration": 52,
    "start_time": "2021-12-26T08:59:35.666Z"
   },
   {
    "duration": 10,
    "start_time": "2021-12-26T08:59:35.721Z"
   },
   {
    "duration": 318,
    "start_time": "2021-12-26T08:59:35.733Z"
   },
   {
    "duration": 708,
    "start_time": "2021-12-26T08:59:35.347Z"
   },
   {
    "duration": 709,
    "start_time": "2021-12-26T08:59:35.348Z"
   },
   {
    "duration": 710,
    "start_time": "2021-12-26T08:59:35.349Z"
   },
   {
    "duration": 708,
    "start_time": "2021-12-26T08:59:35.353Z"
   },
   {
    "duration": 710,
    "start_time": "2021-12-26T08:59:35.354Z"
   },
   {
    "duration": 711,
    "start_time": "2021-12-26T08:59:35.355Z"
   },
   {
    "duration": 710,
    "start_time": "2021-12-26T08:59:35.358Z"
   },
   {
    "duration": 710,
    "start_time": "2021-12-26T08:59:35.360Z"
   },
   {
    "duration": 248,
    "start_time": "2021-12-26T09:00:30.620Z"
   },
   {
    "duration": 104,
    "start_time": "2021-12-26T09:02:08.126Z"
   },
   {
    "duration": 265,
    "start_time": "2021-12-26T09:02:32.625Z"
   },
   {
    "duration": 298,
    "start_time": "2021-12-26T09:05:21.090Z"
   },
   {
    "duration": 2007,
    "start_time": "2021-12-26T09:12:19.867Z"
   },
   {
    "duration": 278,
    "start_time": "2021-12-26T09:12:35.162Z"
   },
   {
    "duration": 310,
    "start_time": "2021-12-26T09:12:50.753Z"
   },
   {
    "duration": 114,
    "start_time": "2021-12-26T09:20:03.878Z"
   },
   {
    "duration": 23,
    "start_time": "2021-12-26T09:20:03.994Z"
   },
   {
    "duration": 106,
    "start_time": "2021-12-26T09:20:04.020Z"
   },
   {
    "duration": 31,
    "start_time": "2021-12-26T09:20:04.129Z"
   },
   {
    "duration": 8,
    "start_time": "2021-12-26T09:20:04.162Z"
   },
   {
    "duration": 7,
    "start_time": "2021-12-26T09:20:04.172Z"
   },
   {
    "duration": 39,
    "start_time": "2021-12-26T09:20:04.182Z"
   },
   {
    "duration": 19,
    "start_time": "2021-12-26T09:20:04.224Z"
   },
   {
    "duration": 9,
    "start_time": "2021-12-26T09:20:04.246Z"
   },
   {
    "duration": 5,
    "start_time": "2021-12-26T09:20:04.257Z"
   },
   {
    "duration": 8,
    "start_time": "2021-12-26T09:20:04.265Z"
   },
   {
    "duration": 415,
    "start_time": "2021-12-26T09:20:04.276Z"
   },
   {
    "duration": 715,
    "start_time": "2021-12-26T09:20:03.978Z"
   },
   {
    "duration": 716,
    "start_time": "2021-12-26T09:20:03.979Z"
   },
   {
    "duration": 715,
    "start_time": "2021-12-26T09:20:03.981Z"
   },
   {
    "duration": 715,
    "start_time": "2021-12-26T09:20:03.982Z"
   },
   {
    "duration": 715,
    "start_time": "2021-12-26T09:20:03.983Z"
   },
   {
    "duration": 813,
    "start_time": "2021-12-26T09:23:10.585Z"
   },
   {
    "duration": 6,
    "start_time": "2021-12-26T09:24:59.278Z"
   },
   {
    "duration": 107,
    "start_time": "2021-12-26T09:26:19.491Z"
   },
   {
    "duration": 22,
    "start_time": "2021-12-26T09:26:19.601Z"
   },
   {
    "duration": 107,
    "start_time": "2021-12-26T09:26:19.626Z"
   },
   {
    "duration": 32,
    "start_time": "2021-12-26T09:26:19.736Z"
   },
   {
    "duration": 9,
    "start_time": "2021-12-26T09:26:19.771Z"
   },
   {
    "duration": 36,
    "start_time": "2021-12-26T09:26:19.782Z"
   },
   {
    "duration": 11,
    "start_time": "2021-12-26T09:26:19.821Z"
   },
   {
    "duration": 19,
    "start_time": "2021-12-26T09:26:19.834Z"
   },
   {
    "duration": 11,
    "start_time": "2021-12-26T09:26:19.857Z"
   },
   {
    "duration": 5,
    "start_time": "2021-12-26T09:26:19.871Z"
   },
   {
    "duration": 9,
    "start_time": "2021-12-26T09:26:19.918Z"
   },
   {
    "duration": 270,
    "start_time": "2021-12-26T09:26:19.930Z"
   },
   {
    "duration": 729,
    "start_time": "2021-12-26T09:26:19.473Z"
   },
   {
    "duration": 725,
    "start_time": "2021-12-26T09:26:19.479Z"
   },
   {
    "duration": 724,
    "start_time": "2021-12-26T09:26:19.481Z"
   },
   {
    "duration": 724,
    "start_time": "2021-12-26T09:26:19.483Z"
   },
   {
    "duration": 724,
    "start_time": "2021-12-26T09:26:19.484Z"
   },
   {
    "duration": 723,
    "start_time": "2021-12-26T09:26:19.486Z"
   },
   {
    "duration": 5,
    "start_time": "2021-12-26T09:26:25.769Z"
   },
   {
    "duration": 6,
    "start_time": "2021-12-26T09:29:01.330Z"
   },
   {
    "duration": 5,
    "start_time": "2021-12-26T09:29:06.679Z"
   },
   {
    "duration": 29,
    "start_time": "2021-12-26T09:29:51.553Z"
   },
   {
    "duration": 308,
    "start_time": "2021-12-26T09:30:15.466Z"
   },
   {
    "duration": 11,
    "start_time": "2021-12-26T09:30:43.783Z"
   },
   {
    "duration": 113,
    "start_time": "2021-12-26T09:31:13.441Z"
   },
   {
    "duration": 18,
    "start_time": "2021-12-26T09:31:13.557Z"
   },
   {
    "duration": 158,
    "start_time": "2021-12-26T09:31:13.579Z"
   },
   {
    "duration": 31,
    "start_time": "2021-12-26T09:31:13.741Z"
   },
   {
    "duration": 8,
    "start_time": "2021-12-26T09:31:13.774Z"
   },
   {
    "duration": 37,
    "start_time": "2021-12-26T09:31:13.785Z"
   },
   {
    "duration": 11,
    "start_time": "2021-12-26T09:31:13.826Z"
   },
   {
    "duration": 20,
    "start_time": "2021-12-26T09:31:13.842Z"
   },
   {
    "duration": 10,
    "start_time": "2021-12-26T09:31:13.866Z"
   },
   {
    "duration": 6,
    "start_time": "2021-12-26T09:31:13.918Z"
   },
   {
    "duration": 11,
    "start_time": "2021-12-26T09:31:13.926Z"
   },
   {
    "duration": 360,
    "start_time": "2021-12-26T09:31:13.939Z"
   },
   {
    "duration": 734,
    "start_time": "2021-12-26T09:31:13.568Z"
   },
   {
    "duration": 734,
    "start_time": "2021-12-26T09:31:13.569Z"
   },
   {
    "duration": 732,
    "start_time": "2021-12-26T09:31:13.572Z"
   },
   {
    "duration": 731,
    "start_time": "2021-12-26T09:31:13.574Z"
   },
   {
    "duration": 731,
    "start_time": "2021-12-26T09:31:13.575Z"
   },
   {
    "duration": 725,
    "start_time": "2021-12-26T09:31:13.583Z"
   },
   {
    "duration": 725,
    "start_time": "2021-12-26T09:31:13.584Z"
   },
   {
    "duration": 725,
    "start_time": "2021-12-26T09:31:13.585Z"
   },
   {
    "duration": 725,
    "start_time": "2021-12-26T09:31:13.586Z"
   },
   {
    "duration": 10,
    "start_time": "2021-12-26T09:31:26.944Z"
   },
   {
    "duration": 14,
    "start_time": "2021-12-26T09:31:26.960Z"
   },
   {
    "duration": 275,
    "start_time": "2021-12-26T09:32:27.995Z"
   },
   {
    "duration": 12,
    "start_time": "2021-12-26T09:32:53.108Z"
   },
   {
    "duration": 11,
    "start_time": "2021-12-26T09:32:58.499Z"
   },
   {
    "duration": 134,
    "start_time": "2021-12-26T09:33:01.005Z"
   },
   {
    "duration": 15,
    "start_time": "2021-12-26T09:33:01.141Z"
   },
   {
    "duration": 130,
    "start_time": "2021-12-26T09:33:01.159Z"
   },
   {
    "duration": 49,
    "start_time": "2021-12-26T09:33:01.291Z"
   },
   {
    "duration": 8,
    "start_time": "2021-12-26T09:33:01.342Z"
   },
   {
    "duration": 39,
    "start_time": "2021-12-26T09:33:01.352Z"
   },
   {
    "duration": 18,
    "start_time": "2021-12-26T09:33:01.393Z"
   },
   {
    "duration": 27,
    "start_time": "2021-12-26T09:33:01.413Z"
   },
   {
    "duration": 9,
    "start_time": "2021-12-26T09:33:01.444Z"
   },
   {
    "duration": 8,
    "start_time": "2021-12-26T09:33:01.456Z"
   },
   {
    "duration": 14,
    "start_time": "2021-12-26T09:33:01.467Z"
   },
   {
    "duration": 36,
    "start_time": "2021-12-26T09:33:01.484Z"
   },
   {
    "duration": 20,
    "start_time": "2021-12-26T09:33:01.526Z"
   },
   {
    "duration": 33,
    "start_time": "2021-12-26T09:33:01.549Z"
   },
   {
    "duration": 40,
    "start_time": "2021-12-26T09:33:01.584Z"
   },
   {
    "duration": 5,
    "start_time": "2021-12-26T09:33:01.627Z"
   },
   {
    "duration": 939,
    "start_time": "2021-12-26T09:33:01.635Z"
   },
   {
    "duration": 6,
    "start_time": "2021-12-26T09:33:02.576Z"
   },
   {
    "duration": 14,
    "start_time": "2021-12-26T09:33:02.584Z"
   },
   {
    "duration": 53,
    "start_time": "2021-12-26T09:33:02.601Z"
   },
   {
    "duration": 271,
    "start_time": "2021-12-26T09:33:17.888Z"
   },
   {
    "duration": 729,
    "start_time": "2021-12-26T09:33:17.433Z"
   },
   {
    "duration": 273,
    "start_time": "2021-12-26T09:34:00.774Z"
   },
   {
    "duration": 11,
    "start_time": "2021-12-26T09:34:03.539Z"
   },
   {
    "duration": 91,
    "start_time": "2021-12-26T09:40:27.211Z"
   },
   {
    "duration": 156,
    "start_time": "2021-12-26T09:41:17.704Z"
   },
   {
    "duration": 21,
    "start_time": "2021-12-26T09:41:17.863Z"
   },
   {
    "duration": 154,
    "start_time": "2021-12-26T09:41:17.889Z"
   },
   {
    "duration": 40,
    "start_time": "2021-12-26T09:41:18.046Z"
   },
   {
    "duration": 34,
    "start_time": "2021-12-26T09:41:18.089Z"
   },
   {
    "duration": 10,
    "start_time": "2021-12-26T09:41:18.126Z"
   },
   {
    "duration": 9,
    "start_time": "2021-12-26T09:41:18.139Z"
   },
   {
    "duration": 20,
    "start_time": "2021-12-26T09:41:18.151Z"
   },
   {
    "duration": 54,
    "start_time": "2021-12-26T09:41:18.175Z"
   },
   {
    "duration": 16,
    "start_time": "2021-12-26T09:41:18.233Z"
   },
   {
    "duration": 8,
    "start_time": "2021-12-26T09:41:18.252Z"
   },
   {
    "duration": 291,
    "start_time": "2021-12-26T09:41:18.263Z"
   },
   {
    "duration": 745,
    "start_time": "2021-12-26T09:41:17.812Z"
   },
   {
    "duration": 745,
    "start_time": "2021-12-26T09:41:17.813Z"
   },
   {
    "duration": 745,
    "start_time": "2021-12-26T09:41:17.815Z"
   },
   {
    "duration": 745,
    "start_time": "2021-12-26T09:41:17.816Z"
   },
   {
    "duration": 745,
    "start_time": "2021-12-26T09:41:17.818Z"
   },
   {
    "duration": 740,
    "start_time": "2021-12-26T09:41:17.825Z"
   },
   {
    "duration": 739,
    "start_time": "2021-12-26T09:41:17.827Z"
   },
   {
    "duration": 740,
    "start_time": "2021-12-26T09:41:17.828Z"
   },
   {
    "duration": 738,
    "start_time": "2021-12-26T09:41:17.831Z"
   },
   {
    "duration": 87,
    "start_time": "2021-12-26T09:47:01.273Z"
   },
   {
    "duration": 381,
    "start_time": "2021-12-26T09:47:09.491Z"
   },
   {
    "duration": 363,
    "start_time": "2021-12-26T09:47:23.924Z"
   },
   {
    "duration": 453,
    "start_time": "2021-12-26T09:47:49.484Z"
   },
   {
    "duration": 313,
    "start_time": "2021-12-26T09:48:10.797Z"
   },
   {
    "duration": 408,
    "start_time": "2021-12-26T09:48:29.589Z"
   },
   {
    "duration": 372,
    "start_time": "2021-12-26T09:49:56.127Z"
   },
   {
    "duration": 447,
    "start_time": "2021-12-26T09:50:07.855Z"
   },
   {
    "duration": 475,
    "start_time": "2021-12-26T09:50:32.305Z"
   },
   {
    "duration": 377,
    "start_time": "2021-12-26T09:50:58.569Z"
   },
   {
    "duration": 10,
    "start_time": "2021-12-26T09:52:57.179Z"
   },
   {
    "duration": 351,
    "start_time": "2021-12-26T09:53:44.411Z"
   },
   {
    "duration": 9,
    "start_time": "2021-12-26T09:53:53.635Z"
   },
   {
    "duration": 374,
    "start_time": "2021-12-26T10:01:42.202Z"
   },
   {
    "duration": 409,
    "start_time": "2021-12-26T10:02:14.822Z"
   },
   {
    "duration": 631,
    "start_time": "2021-12-26T10:03:06.935Z"
   },
   {
    "duration": 684,
    "start_time": "2021-12-26T10:04:00.689Z"
   },
   {
    "duration": 754,
    "start_time": "2021-12-26T10:04:15.831Z"
   },
   {
    "duration": 810,
    "start_time": "2021-12-26T10:04:23.552Z"
   },
   {
    "duration": 531,
    "start_time": "2021-12-26T10:04:38.789Z"
   },
   {
    "duration": 515,
    "start_time": "2021-12-26T10:05:19.851Z"
   },
   {
    "duration": 568,
    "start_time": "2021-12-26T10:06:20.218Z"
   },
   {
    "duration": 663,
    "start_time": "2021-12-26T10:07:13.331Z"
   },
   {
    "duration": 544,
    "start_time": "2021-12-26T10:07:22.859Z"
   },
   {
    "duration": 629,
    "start_time": "2021-12-26T10:09:39.462Z"
   },
   {
    "duration": 519,
    "start_time": "2021-12-26T10:10:01.879Z"
   },
   {
    "duration": 504,
    "start_time": "2021-12-26T10:10:21.406Z"
   },
   {
    "duration": 21,
    "start_time": "2021-12-26T10:36:47.823Z"
   },
   {
    "duration": 14,
    "start_time": "2021-12-26T10:36:51.855Z"
   },
   {
    "duration": 27,
    "start_time": "2021-12-26T10:37:17.424Z"
   },
   {
    "duration": 20,
    "start_time": "2021-12-26T10:37:31.791Z"
   },
   {
    "duration": 515,
    "start_time": "2021-12-26T10:37:55.368Z"
   },
   {
    "duration": 596,
    "start_time": "2021-12-26T10:38:38.413Z"
   },
   {
    "duration": 532,
    "start_time": "2021-12-26T10:38:47.273Z"
   },
   {
    "duration": 550,
    "start_time": "2021-12-26T10:45:22.811Z"
   },
   {
    "duration": 486,
    "start_time": "2021-12-26T10:51:41.809Z"
   },
   {
    "duration": 664,
    "start_time": "2021-12-26T10:52:05.553Z"
   },
   {
    "duration": 593,
    "start_time": "2021-12-26T10:52:32.130Z"
   },
   {
    "duration": 402,
    "start_time": "2021-12-26T10:52:49.146Z"
   },
   {
    "duration": 535,
    "start_time": "2021-12-26T10:53:05.458Z"
   },
   {
    "duration": 417,
    "start_time": "2021-12-26T10:54:19.445Z"
   },
   {
    "duration": 1604,
    "start_time": "2021-12-26T13:31:21.793Z"
   },
   {
    "duration": 25,
    "start_time": "2021-12-26T13:31:23.400Z"
   },
   {
    "duration": 108,
    "start_time": "2021-12-26T13:31:23.428Z"
   },
   {
    "duration": 29,
    "start_time": "2021-12-26T13:31:23.539Z"
   },
   {
    "duration": 8,
    "start_time": "2021-12-26T13:31:23.570Z"
   },
   {
    "duration": 43,
    "start_time": "2021-12-26T13:31:23.580Z"
   },
   {
    "duration": 6,
    "start_time": "2021-12-26T13:31:23.626Z"
   },
   {
    "duration": 10,
    "start_time": "2021-12-26T13:31:23.634Z"
   },
   {
    "duration": 22,
    "start_time": "2021-12-26T13:31:23.648Z"
   },
   {
    "duration": 59,
    "start_time": "2021-12-26T13:31:23.674Z"
   },
   {
    "duration": 7,
    "start_time": "2021-12-26T13:31:23.736Z"
   },
   {
    "duration": 10,
    "start_time": "2021-12-26T13:31:23.745Z"
   },
   {
    "duration": 19,
    "start_time": "2021-12-26T13:31:23.757Z"
   },
   {
    "duration": 46,
    "start_time": "2021-12-26T13:31:23.779Z"
   },
   {
    "duration": 28,
    "start_time": "2021-12-26T13:31:23.828Z"
   },
   {
    "duration": 18,
    "start_time": "2021-12-26T13:31:23.858Z"
   },
   {
    "duration": 4,
    "start_time": "2021-12-26T13:31:23.878Z"
   },
   {
    "duration": 802,
    "start_time": "2021-12-26T13:31:23.923Z"
   },
   {
    "duration": 5,
    "start_time": "2021-12-26T13:31:24.727Z"
   },
   {
    "duration": 8,
    "start_time": "2021-12-26T13:31:24.734Z"
   },
   {
    "duration": 33,
    "start_time": "2021-12-26T13:31:24.745Z"
   },
   {
    "duration": 546,
    "start_time": "2021-12-26T13:31:24.780Z"
   },
   {
    "duration": 498,
    "start_time": "2021-12-26T13:31:25.329Z"
   },
   {
    "duration": 471,
    "start_time": "2021-12-26T13:31:25.829Z"
   },
   {
    "duration": 416,
    "start_time": "2021-12-26T13:31:26.302Z"
   },
   {
    "duration": 5,
    "start_time": "2021-12-26T13:39:11.740Z"
   },
   {
    "duration": 417,
    "start_time": "2021-12-26T13:39:44.365Z"
   },
   {
    "duration": 203,
    "start_time": "2021-12-26T13:42:56.707Z"
   },
   {
    "duration": 185,
    "start_time": "2021-12-26T13:43:16.953Z"
   },
   {
    "duration": 213,
    "start_time": "2021-12-26T13:43:29.437Z"
   },
   {
    "duration": 115,
    "start_time": "2021-12-26T13:44:53.641Z"
   },
   {
    "duration": 14,
    "start_time": "2021-12-26T13:44:53.759Z"
   },
   {
    "duration": 115,
    "start_time": "2021-12-26T13:44:53.776Z"
   },
   {
    "duration": 46,
    "start_time": "2021-12-26T13:44:53.895Z"
   },
   {
    "duration": 8,
    "start_time": "2021-12-26T13:44:53.944Z"
   },
   {
    "duration": 18,
    "start_time": "2021-12-26T13:44:53.954Z"
   },
   {
    "duration": 19,
    "start_time": "2021-12-26T13:44:53.975Z"
   },
   {
    "duration": 28,
    "start_time": "2021-12-26T13:44:53.996Z"
   },
   {
    "duration": 34,
    "start_time": "2021-12-26T13:44:54.028Z"
   },
   {
    "duration": 29,
    "start_time": "2021-12-26T13:44:54.065Z"
   },
   {
    "duration": 10,
    "start_time": "2021-12-26T13:44:54.096Z"
   },
   {
    "duration": 19,
    "start_time": "2021-12-26T13:44:54.108Z"
   },
   {
    "duration": 46,
    "start_time": "2021-12-26T13:44:54.130Z"
   },
   {
    "duration": 28,
    "start_time": "2021-12-26T13:44:54.178Z"
   },
   {
    "duration": 50,
    "start_time": "2021-12-26T13:44:54.208Z"
   },
   {
    "duration": 18,
    "start_time": "2021-12-26T13:44:54.260Z"
   },
   {
    "duration": 5,
    "start_time": "2021-12-26T13:44:54.280Z"
   },
   {
    "duration": 813,
    "start_time": "2021-12-26T13:44:54.288Z"
   },
   {
    "duration": 5,
    "start_time": "2021-12-26T13:44:55.104Z"
   },
   {
    "duration": 11,
    "start_time": "2021-12-26T13:44:55.123Z"
   },
   {
    "duration": 56,
    "start_time": "2021-12-26T13:44:55.136Z"
   },
   {
    "duration": 737,
    "start_time": "2021-12-26T13:44:55.196Z"
   },
   {
    "duration": 566,
    "start_time": "2021-12-26T13:44:55.936Z"
   },
   {
    "duration": 430,
    "start_time": "2021-12-26T13:44:56.504Z"
   },
   {
    "duration": 496,
    "start_time": "2021-12-26T13:44:56.938Z"
   },
   {
    "duration": 209,
    "start_time": "2021-12-26T13:44:57.437Z"
   },
   {
    "duration": 232,
    "start_time": "2021-12-26T13:45:29.897Z"
   },
   {
    "duration": 282,
    "start_time": "2021-12-26T13:47:19.108Z"
   },
   {
    "duration": 474,
    "start_time": "2021-12-26T13:48:39.277Z"
   },
   {
    "duration": 466,
    "start_time": "2021-12-26T13:48:47.044Z"
   },
   {
    "duration": 470,
    "start_time": "2021-12-26T13:48:58.962Z"
   },
   {
    "duration": 215,
    "start_time": "2021-12-26T13:49:18.256Z"
   },
   {
    "duration": 108,
    "start_time": "2021-12-26T13:49:44.173Z"
   },
   {
    "duration": 156,
    "start_time": "2021-12-26T13:49:46.706Z"
   },
   {
    "duration": 16,
    "start_time": "2021-12-26T13:49:46.865Z"
   },
   {
    "duration": 116,
    "start_time": "2021-12-26T13:49:46.884Z"
   },
   {
    "duration": 45,
    "start_time": "2021-12-26T13:49:47.004Z"
   },
   {
    "duration": 18,
    "start_time": "2021-12-26T13:49:47.051Z"
   },
   {
    "duration": 21,
    "start_time": "2021-12-26T13:49:47.072Z"
   },
   {
    "duration": 28,
    "start_time": "2021-12-26T13:49:47.096Z"
   },
   {
    "duration": 9,
    "start_time": "2021-12-26T13:49:47.128Z"
   },
   {
    "duration": 20,
    "start_time": "2021-12-26T13:49:47.141Z"
   },
   {
    "duration": 9,
    "start_time": "2021-12-26T13:49:47.164Z"
   },
   {
    "duration": 52,
    "start_time": "2021-12-26T13:49:47.176Z"
   },
   {
    "duration": 11,
    "start_time": "2021-12-26T13:49:47.231Z"
   },
   {
    "duration": 30,
    "start_time": "2021-12-26T13:49:47.245Z"
   },
   {
    "duration": 71,
    "start_time": "2021-12-26T13:49:47.278Z"
   },
   {
    "duration": 32,
    "start_time": "2021-12-26T13:49:47.352Z"
   },
   {
    "duration": 41,
    "start_time": "2021-12-26T13:49:47.386Z"
   },
   {
    "duration": 4,
    "start_time": "2021-12-26T13:49:47.430Z"
   },
   {
    "duration": 897,
    "start_time": "2021-12-26T13:49:47.436Z"
   },
   {
    "duration": 5,
    "start_time": "2021-12-26T13:49:48.335Z"
   },
   {
    "duration": 14,
    "start_time": "2021-12-26T13:49:48.343Z"
   },
   {
    "duration": 33,
    "start_time": "2021-12-26T13:49:48.360Z"
   },
   {
    "duration": 499,
    "start_time": "2021-12-26T13:49:48.396Z"
   },
   {
    "duration": 798,
    "start_time": "2021-12-26T13:49:48.902Z"
   },
   {
    "duration": 398,
    "start_time": "2021-12-26T13:49:49.703Z"
   },
   {
    "duration": 405,
    "start_time": "2021-12-26T13:49:50.103Z"
   },
   {
    "duration": 468,
    "start_time": "2021-12-26T13:49:50.511Z"
   },
   {
    "duration": 213,
    "start_time": "2021-12-26T13:49:50.981Z"
   },
   {
    "duration": 221,
    "start_time": "2021-12-26T13:50:21.799Z"
   },
   {
    "duration": 222,
    "start_time": "2021-12-26T13:50:46.066Z"
   },
   {
    "duration": 3704,
    "start_time": "2021-12-26T13:51:12.168Z"
   },
   {
    "duration": 212,
    "start_time": "2021-12-26T13:51:20.841Z"
   },
   {
    "duration": 198,
    "start_time": "2021-12-26T13:51:29.879Z"
   },
   {
    "duration": 308,
    "start_time": "2021-12-26T13:51:36.360Z"
   },
   {
    "duration": 228,
    "start_time": "2021-12-26T13:52:09.961Z"
   },
   {
    "duration": 210,
    "start_time": "2021-12-26T13:52:27.615Z"
   },
   {
    "duration": 192,
    "start_time": "2021-12-26T13:52:38.305Z"
   },
   {
    "duration": 223,
    "start_time": "2021-12-26T13:52:53.227Z"
   },
   {
    "duration": 264,
    "start_time": "2021-12-26T13:53:07.099Z"
   },
   {
    "duration": 255,
    "start_time": "2021-12-26T13:53:16.546Z"
   },
   {
    "duration": 217,
    "start_time": "2021-12-26T13:53:24.445Z"
   },
   {
    "duration": 195,
    "start_time": "2021-12-26T13:53:31.803Z"
   },
   {
    "duration": 429,
    "start_time": "2021-12-26T13:56:44.844Z"
   },
   {
    "duration": 451,
    "start_time": "2021-12-26T13:57:50.826Z"
   },
   {
    "duration": 473,
    "start_time": "2021-12-26T13:58:00.227Z"
   },
   {
    "duration": 580,
    "start_time": "2021-12-26T13:58:16.697Z"
   },
   {
    "duration": 496,
    "start_time": "2021-12-26T13:58:37.289Z"
   },
   {
    "duration": 484,
    "start_time": "2021-12-26T13:59:04.807Z"
   },
   {
    "duration": 7,
    "start_time": "2021-12-26T13:59:19.592Z"
   },
   {
    "duration": 6,
    "start_time": "2021-12-26T13:59:59.364Z"
   },
   {
    "duration": 6,
    "start_time": "2021-12-26T14:01:25.812Z"
   },
   {
    "duration": 493,
    "start_time": "2021-12-26T14:04:55.496Z"
   },
   {
    "duration": 473,
    "start_time": "2021-12-26T14:05:43.564Z"
   },
   {
    "duration": 6,
    "start_time": "2021-12-26T14:06:41.630Z"
   },
   {
    "duration": 1362,
    "start_time": "2021-12-26T14:06:44.394Z"
   },
   {
    "duration": 521,
    "start_time": "2021-12-26T14:07:13.852Z"
   },
   {
    "duration": 497,
    "start_time": "2021-12-26T14:07:25.387Z"
   },
   {
    "duration": 187,
    "start_time": "2021-12-26T14:08:34.180Z"
   },
   {
    "duration": 197,
    "start_time": "2021-12-26T14:08:43.573Z"
   },
   {
    "duration": 192,
    "start_time": "2021-12-26T14:08:50.085Z"
   },
   {
    "duration": 471,
    "start_time": "2021-12-26T14:12:13.386Z"
   },
   {
    "duration": 338,
    "start_time": "2021-12-26T14:17:24.136Z"
   },
   {
    "duration": 611,
    "start_time": "2021-12-26T14:17:30.639Z"
   },
   {
    "duration": 609,
    "start_time": "2021-12-26T14:19:20.724Z"
   },
   {
    "duration": 746,
    "start_time": "2021-12-26T14:23:02.872Z"
   },
   {
    "duration": 608,
    "start_time": "2021-12-26T14:23:16.975Z"
   },
   {
    "duration": 10,
    "start_time": "2021-12-26T14:23:48.047Z"
   },
   {
    "duration": 8,
    "start_time": "2021-12-26T14:25:05.436Z"
   },
   {
    "duration": 614,
    "start_time": "2021-12-26T14:26:00.100Z"
   },
   {
    "duration": 625,
    "start_time": "2021-12-26T14:26:32.211Z"
   },
   {
    "duration": 10,
    "start_time": "2021-12-26T14:36:08.014Z"
   },
   {
    "duration": 1261,
    "start_time": "2021-12-26T17:48:03.002Z"
   },
   {
    "duration": 11,
    "start_time": "2021-12-26T17:48:04.266Z"
   },
   {
    "duration": 79,
    "start_time": "2021-12-26T17:48:04.278Z"
   },
   {
    "duration": 21,
    "start_time": "2021-12-26T17:48:04.359Z"
   },
   {
    "duration": 8,
    "start_time": "2021-12-26T17:48:04.394Z"
   },
   {
    "duration": 10,
    "start_time": "2021-12-26T17:48:04.405Z"
   },
   {
    "duration": 4,
    "start_time": "2021-12-26T17:48:04.417Z"
   },
   {
    "duration": 6,
    "start_time": "2021-12-26T17:48:04.424Z"
   },
   {
    "duration": 15,
    "start_time": "2021-12-26T17:48:04.433Z"
   },
   {
    "duration": 47,
    "start_time": "2021-12-26T17:48:04.449Z"
   },
   {
    "duration": 7,
    "start_time": "2021-12-26T17:48:04.498Z"
   },
   {
    "duration": 5,
    "start_time": "2021-12-26T17:48:04.507Z"
   },
   {
    "duration": 16,
    "start_time": "2021-12-26T17:48:04.514Z"
   },
   {
    "duration": 17,
    "start_time": "2021-12-26T17:48:04.532Z"
   },
   {
    "duration": 16,
    "start_time": "2021-12-26T17:48:04.551Z"
   },
   {
    "duration": 17,
    "start_time": "2021-12-26T17:48:04.591Z"
   },
   {
    "duration": 3,
    "start_time": "2021-12-26T17:48:04.610Z"
   },
   {
    "duration": 516,
    "start_time": "2021-12-26T17:48:04.614Z"
   },
   {
    "duration": 4,
    "start_time": "2021-12-26T17:48:05.132Z"
   },
   {
    "duration": 6,
    "start_time": "2021-12-26T17:48:05.138Z"
   },
   {
    "duration": 21,
    "start_time": "2021-12-26T17:48:05.146Z"
   },
   {
    "duration": 368,
    "start_time": "2021-12-26T17:48:05.168Z"
   },
   {
    "duration": 341,
    "start_time": "2021-12-26T17:48:05.539Z"
   },
   {
    "duration": 338,
    "start_time": "2021-12-26T17:48:05.882Z"
   },
   {
    "duration": 272,
    "start_time": "2021-12-26T17:48:06.221Z"
   },
   {
    "duration": 458,
    "start_time": "2021-12-26T17:48:06.495Z"
   },
   {
    "duration": 6,
    "start_time": "2021-12-26T17:48:06.955Z"
   },
   {
    "duration": 898,
    "start_time": "2021-12-26T17:48:33.155Z"
   },
   {
    "duration": 758,
    "start_time": "2021-12-26T17:48:44.062Z"
   },
   {
    "duration": 987,
    "start_time": "2021-12-26T17:50:57.320Z"
   },
   {
    "duration": 925,
    "start_time": "2021-12-26T17:51:13.072Z"
   },
   {
    "duration": 891,
    "start_time": "2021-12-26T17:51:23.816Z"
   },
   {
    "duration": 84,
    "start_time": "2021-12-26T17:51:35.684Z"
   },
   {
    "duration": 10,
    "start_time": "2021-12-26T17:51:35.770Z"
   },
   {
    "duration": 66,
    "start_time": "2021-12-26T17:51:35.791Z"
   },
   {
    "duration": 33,
    "start_time": "2021-12-26T17:51:35.859Z"
   },
   {
    "duration": 5,
    "start_time": "2021-12-26T17:51:35.894Z"
   },
   {
    "duration": 6,
    "start_time": "2021-12-26T17:51:35.901Z"
   },
   {
    "duration": 7,
    "start_time": "2021-12-26T17:51:35.909Z"
   },
   {
    "duration": 8,
    "start_time": "2021-12-26T17:51:35.918Z"
   },
   {
    "duration": 16,
    "start_time": "2021-12-26T17:51:35.928Z"
   },
   {
    "duration": 6,
    "start_time": "2021-12-26T17:51:35.946Z"
   },
   {
    "duration": 3,
    "start_time": "2021-12-26T17:51:35.954Z"
   },
   {
    "duration": 7,
    "start_time": "2021-12-26T17:51:35.991Z"
   },
   {
    "duration": 14,
    "start_time": "2021-12-26T17:51:35.999Z"
   },
   {
    "duration": 20,
    "start_time": "2021-12-26T17:51:36.015Z"
   },
   {
    "duration": 17,
    "start_time": "2021-12-26T17:51:36.037Z"
   },
   {
    "duration": 12,
    "start_time": "2021-12-26T17:51:36.056Z"
   },
   {
    "duration": 23,
    "start_time": "2021-12-26T17:51:36.069Z"
   },
   {
    "duration": 460,
    "start_time": "2021-12-26T17:51:36.094Z"
   },
   {
    "duration": 4,
    "start_time": "2021-12-26T17:51:36.555Z"
   },
   {
    "duration": 6,
    "start_time": "2021-12-26T17:51:36.561Z"
   },
   {
    "duration": 31,
    "start_time": "2021-12-26T17:51:36.569Z"
   },
   {
    "duration": 414,
    "start_time": "2021-12-26T17:51:36.601Z"
   },
   {
    "duration": 319,
    "start_time": "2021-12-26T17:51:37.018Z"
   },
   {
    "duration": 269,
    "start_time": "2021-12-26T17:51:37.339Z"
   },
   {
    "duration": 270,
    "start_time": "2021-12-26T17:51:37.610Z"
   },
   {
    "duration": 870,
    "start_time": "2021-12-26T17:51:37.882Z"
   },
   {
    "duration": 6,
    "start_time": "2021-12-26T17:51:38.753Z"
   },
   {
    "duration": 859,
    "start_time": "2021-12-26T17:51:54.209Z"
   },
   {
    "duration": 1163,
    "start_time": "2021-12-26T17:55:32.646Z"
   },
   {
    "duration": 952,
    "start_time": "2021-12-26T17:55:44.262Z"
   },
   {
    "duration": 893,
    "start_time": "2021-12-26T17:56:13.702Z"
   },
   {
    "duration": 1031,
    "start_time": "2021-12-26T17:56:20.158Z"
   },
   {
    "duration": 910,
    "start_time": "2021-12-26T17:56:30.122Z"
   },
   {
    "duration": 958,
    "start_time": "2021-12-26T17:56:39.559Z"
   },
   {
    "duration": 981,
    "start_time": "2021-12-26T17:57:22.373Z"
   },
   {
    "duration": 910,
    "start_time": "2021-12-26T17:57:34.936Z"
   },
   {
    "duration": 1026,
    "start_time": "2021-12-26T17:57:46.827Z"
   },
   {
    "duration": 63,
    "start_time": "2021-12-26T18:03:32.437Z"
   },
   {
    "duration": 9,
    "start_time": "2021-12-26T18:09:17.548Z"
   },
   {
    "duration": 24,
    "start_time": "2021-12-26T18:09:59.790Z"
   },
   {
    "duration": 11,
    "start_time": "2021-12-26T18:10:40.929Z"
   },
   {
    "duration": 15,
    "start_time": "2021-12-26T18:11:24.920Z"
   },
   {
    "duration": 6,
    "start_time": "2021-12-26T18:11:33.818Z"
   },
   {
    "duration": 11,
    "start_time": "2021-12-26T18:11:39.920Z"
   },
   {
    "duration": 361,
    "start_time": "2021-12-26T18:12:17.522Z"
   },
   {
    "duration": 12,
    "start_time": "2021-12-26T18:12:45.603Z"
   },
   {
    "duration": 90,
    "start_time": "2021-12-26T18:12:56.606Z"
   },
   {
    "duration": 11,
    "start_time": "2021-12-26T18:12:56.697Z"
   },
   {
    "duration": 85,
    "start_time": "2021-12-26T18:12:56.709Z"
   },
   {
    "duration": 20,
    "start_time": "2021-12-26T18:12:56.796Z"
   },
   {
    "duration": 6,
    "start_time": "2021-12-26T18:12:56.818Z"
   },
   {
    "duration": 6,
    "start_time": "2021-12-26T18:12:56.826Z"
   },
   {
    "duration": 4,
    "start_time": "2021-12-26T18:12:56.834Z"
   },
   {
    "duration": 8,
    "start_time": "2021-12-26T18:12:56.839Z"
   },
   {
    "duration": 49,
    "start_time": "2021-12-26T18:12:56.850Z"
   },
   {
    "duration": 6,
    "start_time": "2021-12-26T18:12:56.901Z"
   },
   {
    "duration": 5,
    "start_time": "2021-12-26T18:12:56.909Z"
   },
   {
    "duration": 5,
    "start_time": "2021-12-26T18:12:56.915Z"
   },
   {
    "duration": 13,
    "start_time": "2021-12-26T18:12:56.922Z"
   },
   {
    "duration": 17,
    "start_time": "2021-12-26T18:12:56.936Z"
   },
   {
    "duration": 52,
    "start_time": "2021-12-26T18:12:56.955Z"
   },
   {
    "duration": 12,
    "start_time": "2021-12-26T18:12:57.008Z"
   },
   {
    "duration": 3,
    "start_time": "2021-12-26T18:12:57.022Z"
   },
   {
    "duration": 498,
    "start_time": "2021-12-26T18:12:57.027Z"
   },
   {
    "duration": 4,
    "start_time": "2021-12-26T18:12:57.526Z"
   },
   {
    "duration": 9,
    "start_time": "2021-12-26T18:12:57.532Z"
   },
   {
    "duration": 23,
    "start_time": "2021-12-26T18:12:57.543Z"
   },
   {
    "duration": 334,
    "start_time": "2021-12-26T18:12:57.568Z"
   },
   {
    "duration": 336,
    "start_time": "2021-12-26T18:12:57.904Z"
   },
   {
    "duration": 276,
    "start_time": "2021-12-26T18:12:58.242Z"
   },
   {
    "duration": 290,
    "start_time": "2021-12-26T18:12:58.520Z"
   },
   {
    "duration": 1010,
    "start_time": "2021-12-26T18:12:58.812Z"
   },
   {
    "duration": 6,
    "start_time": "2021-12-26T18:12:59.826Z"
   },
   {
    "duration": 12,
    "start_time": "2021-12-26T18:12:59.834Z"
   },
   {
    "duration": 11,
    "start_time": "2021-12-26T18:13:30.851Z"
   },
   {
    "duration": 5,
    "start_time": "2021-12-26T18:19:20.073Z"
   },
   {
    "duration": 199,
    "start_time": "2021-12-26T18:19:52.828Z"
   },
   {
    "duration": 93,
    "start_time": "2021-12-26T18:20:03.431Z"
   },
   {
    "duration": 10,
    "start_time": "2021-12-26T18:20:03.526Z"
   },
   {
    "duration": 87,
    "start_time": "2021-12-26T18:20:03.538Z"
   },
   {
    "duration": 21,
    "start_time": "2021-12-26T18:20:03.628Z"
   },
   {
    "duration": 7,
    "start_time": "2021-12-26T18:20:03.651Z"
   },
   {
    "duration": 5,
    "start_time": "2021-12-26T18:20:03.660Z"
   },
   {
    "duration": 7,
    "start_time": "2021-12-26T18:20:03.693Z"
   },
   {
    "duration": 10,
    "start_time": "2021-12-26T18:20:03.703Z"
   },
   {
    "duration": 15,
    "start_time": "2021-12-26T18:20:03.716Z"
   },
   {
    "duration": 6,
    "start_time": "2021-12-26T18:20:03.733Z"
   },
   {
    "duration": 4,
    "start_time": "2021-12-26T18:20:03.740Z"
   },
   {
    "duration": 7,
    "start_time": "2021-12-26T18:20:03.746Z"
   },
   {
    "duration": 47,
    "start_time": "2021-12-26T18:20:03.754Z"
   },
   {
    "duration": 18,
    "start_time": "2021-12-26T18:20:03.804Z"
   },
   {
    "duration": 19,
    "start_time": "2021-12-26T18:20:03.823Z"
   },
   {
    "duration": 15,
    "start_time": "2021-12-26T18:20:03.844Z"
   },
   {
    "duration": 4,
    "start_time": "2021-12-26T18:20:03.860Z"
   },
   {
    "duration": 543,
    "start_time": "2021-12-26T18:20:03.866Z"
   },
   {
    "duration": 5,
    "start_time": "2021-12-26T18:20:04.411Z"
   },
   {
    "duration": 18,
    "start_time": "2021-12-26T18:20:04.418Z"
   },
   {
    "duration": 22,
    "start_time": "2021-12-26T18:20:04.437Z"
   },
   {
    "duration": 359,
    "start_time": "2021-12-26T18:20:04.460Z"
   },
   {
    "duration": 334,
    "start_time": "2021-12-26T18:20:04.822Z"
   },
   {
    "duration": 289,
    "start_time": "2021-12-26T18:20:05.158Z"
   },
   {
    "duration": 270,
    "start_time": "2021-12-26T18:20:05.448Z"
   },
   {
    "duration": 951,
    "start_time": "2021-12-26T18:20:05.720Z"
   },
   {
    "duration": 10,
    "start_time": "2021-12-26T18:20:06.672Z"
   },
   {
    "duration": 15,
    "start_time": "2021-12-26T18:20:06.692Z"
   },
   {
    "duration": 900,
    "start_time": "2021-12-26T18:22:20.647Z"
   },
   {
    "duration": 9,
    "start_time": "2021-12-26T18:22:46.103Z"
   },
   {
    "duration": 11,
    "start_time": "2021-12-26T18:22:50.999Z"
   },
   {
    "duration": 930,
    "start_time": "2021-12-26T18:22:53.687Z"
   },
   {
    "duration": 17,
    "start_time": "2021-12-26T18:23:36.896Z"
   },
   {
    "duration": 18,
    "start_time": "2021-12-26T18:23:57.178Z"
   },
   {
    "duration": 1029,
    "start_time": "2021-12-26T18:24:07.601Z"
   },
   {
    "duration": 997,
    "start_time": "2021-12-26T18:24:30.762Z"
   },
   {
    "duration": 977,
    "start_time": "2021-12-26T18:25:33.542Z"
   },
   {
    "duration": 1024,
    "start_time": "2021-12-26T18:25:53.107Z"
   },
   {
    "duration": 934,
    "start_time": "2021-12-26T18:26:05.748Z"
   },
   {
    "duration": 917,
    "start_time": "2021-12-26T18:26:16.819Z"
   },
   {
    "duration": 14,
    "start_time": "2021-12-26T18:29:04.463Z"
   },
   {
    "duration": 16,
    "start_time": "2021-12-26T18:29:32.264Z"
   },
   {
    "duration": 14,
    "start_time": "2021-12-26T18:29:44.201Z"
   },
   {
    "duration": 13,
    "start_time": "2021-12-26T18:30:13.565Z"
   },
   {
    "duration": 1023,
    "start_time": "2021-12-26T18:30:34.081Z"
   },
   {
    "duration": 12,
    "start_time": "2021-12-26T18:30:49.145Z"
   },
   {
    "duration": 901,
    "start_time": "2021-12-26T18:30:54.003Z"
   },
   {
    "duration": 913,
    "start_time": "2021-12-26T18:31:04.138Z"
   },
   {
    "duration": 927,
    "start_time": "2021-12-26T18:31:19.284Z"
   },
   {
    "duration": 1069,
    "start_time": "2021-12-26T18:31:32.242Z"
   },
   {
    "duration": 11,
    "start_time": "2021-12-26T18:31:47.875Z"
   },
   {
    "duration": 868,
    "start_time": "2021-12-26T18:31:53.555Z"
   },
   {
    "duration": 915,
    "start_time": "2021-12-26T18:32:07.907Z"
   },
   {
    "duration": 866,
    "start_time": "2021-12-26T18:32:15.509Z"
   },
   {
    "duration": 15,
    "start_time": "2021-12-26T18:33:54.161Z"
   },
   {
    "duration": 87,
    "start_time": "2021-12-26T18:35:42.860Z"
   },
   {
    "duration": 10,
    "start_time": "2021-12-26T18:35:42.949Z"
   },
   {
    "duration": 230,
    "start_time": "2021-12-26T18:35:42.961Z"
   },
   {
    "duration": 18,
    "start_time": "2021-12-26T18:35:43.193Z"
   },
   {
    "duration": 5,
    "start_time": "2021-12-26T18:35:43.213Z"
   },
   {
    "duration": 3,
    "start_time": "2021-12-26T18:35:43.220Z"
   },
   {
    "duration": 5,
    "start_time": "2021-12-26T18:35:43.225Z"
   },
   {
    "duration": 7,
    "start_time": "2021-12-26T18:35:43.233Z"
   },
   {
    "duration": 12,
    "start_time": "2021-12-26T18:35:43.242Z"
   },
   {
    "duration": 38,
    "start_time": "2021-12-26T18:35:43.256Z"
   },
   {
    "duration": 4,
    "start_time": "2021-12-26T18:35:43.296Z"
   },
   {
    "duration": 5,
    "start_time": "2021-12-26T18:35:43.302Z"
   },
   {
    "duration": 12,
    "start_time": "2021-12-26T18:35:43.309Z"
   },
   {
    "duration": 19,
    "start_time": "2021-12-26T18:35:43.323Z"
   },
   {
    "duration": 18,
    "start_time": "2021-12-26T18:35:43.343Z"
   },
   {
    "duration": 12,
    "start_time": "2021-12-26T18:35:43.392Z"
   },
   {
    "duration": 3,
    "start_time": "2021-12-26T18:35:43.406Z"
   },
   {
    "duration": 496,
    "start_time": "2021-12-26T18:35:43.410Z"
   },
   {
    "duration": 4,
    "start_time": "2021-12-26T18:35:43.908Z"
   },
   {
    "duration": 6,
    "start_time": "2021-12-26T18:35:43.913Z"
   },
   {
    "duration": 22,
    "start_time": "2021-12-26T18:35:43.920Z"
   },
   {
    "duration": 322,
    "start_time": "2021-12-26T18:35:43.943Z"
   },
   {
    "duration": 313,
    "start_time": "2021-12-26T18:35:44.268Z"
   },
   {
    "duration": 274,
    "start_time": "2021-12-26T18:35:44.582Z"
   },
   {
    "duration": 262,
    "start_time": "2021-12-26T18:35:44.858Z"
   },
   {
    "duration": 9,
    "start_time": "2021-12-26T18:35:45.122Z"
   },
   {
    "duration": 862,
    "start_time": "2021-12-26T18:35:45.132Z"
   },
   {
    "duration": 6,
    "start_time": "2021-12-26T18:35:45.995Z"
   },
   {
    "duration": 13,
    "start_time": "2021-12-26T18:35:46.003Z"
   },
   {
    "duration": 1032,
    "start_time": "2021-12-26T18:35:46.018Z"
   },
   {
    "duration": 80,
    "start_time": "2021-12-26T18:36:22.940Z"
   },
   {
    "duration": 10,
    "start_time": "2021-12-26T18:36:23.022Z"
   },
   {
    "duration": 80,
    "start_time": "2021-12-26T18:36:23.034Z"
   },
   {
    "duration": 19,
    "start_time": "2021-12-26T18:36:23.116Z"
   },
   {
    "duration": 7,
    "start_time": "2021-12-26T18:36:23.137Z"
   },
   {
    "duration": 4,
    "start_time": "2021-12-26T18:36:23.145Z"
   },
   {
    "duration": 7,
    "start_time": "2021-12-26T18:36:23.150Z"
   },
   {
    "duration": 38,
    "start_time": "2021-12-26T18:36:23.158Z"
   },
   {
    "duration": 14,
    "start_time": "2021-12-26T18:36:23.199Z"
   },
   {
    "duration": 6,
    "start_time": "2021-12-26T18:36:23.215Z"
   },
   {
    "duration": 6,
    "start_time": "2021-12-26T18:36:23.222Z"
   },
   {
    "duration": 10,
    "start_time": "2021-12-26T18:36:23.229Z"
   },
   {
    "duration": 18,
    "start_time": "2021-12-26T18:36:23.241Z"
   },
   {
    "duration": 33,
    "start_time": "2021-12-26T18:36:23.260Z"
   },
   {
    "duration": 22,
    "start_time": "2021-12-26T18:36:23.294Z"
   },
   {
    "duration": 11,
    "start_time": "2021-12-26T18:36:23.318Z"
   },
   {
    "duration": 3,
    "start_time": "2021-12-26T18:36:23.331Z"
   },
   {
    "duration": 496,
    "start_time": "2021-12-26T18:36:23.336Z"
   },
   {
    "duration": 4,
    "start_time": "2021-12-26T18:36:23.834Z"
   },
   {
    "duration": 9,
    "start_time": "2021-12-26T18:36:23.840Z"
   },
   {
    "duration": 24,
    "start_time": "2021-12-26T18:36:23.850Z"
   },
   {
    "duration": 325,
    "start_time": "2021-12-26T18:36:23.875Z"
   },
   {
    "duration": 313,
    "start_time": "2021-12-26T18:36:24.202Z"
   },
   {
    "duration": 265,
    "start_time": "2021-12-26T18:36:24.518Z"
   },
   {
    "duration": 257,
    "start_time": "2021-12-26T18:36:24.784Z"
   },
   {
    "duration": 8,
    "start_time": "2021-12-26T18:36:25.043Z"
   },
   {
    "duration": 1014,
    "start_time": "2021-12-26T18:36:25.054Z"
   },
   {
    "duration": 6,
    "start_time": "2021-12-26T18:36:26.070Z"
   },
   {
    "duration": 21,
    "start_time": "2021-12-26T18:36:26.077Z"
   },
   {
    "duration": 869,
    "start_time": "2021-12-26T18:36:26.099Z"
   },
   {
    "duration": 1036,
    "start_time": "2021-12-27T09:38:55.248Z"
   },
   {
    "duration": 15,
    "start_time": "2021-12-27T09:38:56.287Z"
   },
   {
    "duration": 111,
    "start_time": "2021-12-27T09:38:56.305Z"
   },
   {
    "duration": 44,
    "start_time": "2021-12-27T09:38:56.419Z"
   },
   {
    "duration": 8,
    "start_time": "2021-12-27T09:38:56.465Z"
   },
   {
    "duration": 6,
    "start_time": "2021-12-27T09:38:56.476Z"
   },
   {
    "duration": 7,
    "start_time": "2021-12-27T09:38:56.486Z"
   },
   {
    "duration": 8,
    "start_time": "2021-12-27T09:38:56.498Z"
   },
   {
    "duration": 62,
    "start_time": "2021-12-27T09:38:56.509Z"
   },
   {
    "duration": 8,
    "start_time": "2021-12-27T09:38:56.574Z"
   },
   {
    "duration": 10,
    "start_time": "2021-12-27T09:38:56.585Z"
   },
   {
    "duration": 13,
    "start_time": "2021-12-27T09:38:56.598Z"
   },
   {
    "duration": 32,
    "start_time": "2021-12-27T09:38:56.613Z"
   },
   {
    "duration": 41,
    "start_time": "2021-12-27T09:38:56.648Z"
   },
   {
    "duration": 46,
    "start_time": "2021-12-27T09:38:56.692Z"
   },
   {
    "duration": 30,
    "start_time": "2021-12-27T09:38:56.741Z"
   },
   {
    "duration": 4,
    "start_time": "2021-12-27T09:38:56.773Z"
   },
   {
    "duration": 827,
    "start_time": "2021-12-27T09:38:56.780Z"
   },
   {
    "duration": 5,
    "start_time": "2021-12-27T09:38:57.609Z"
   },
   {
    "duration": 11,
    "start_time": "2021-12-27T09:38:57.617Z"
   },
   {
    "duration": 44,
    "start_time": "2021-12-27T09:38:57.631Z"
   },
   {
    "duration": 559,
    "start_time": "2021-12-27T09:38:57.677Z"
   },
   {
    "duration": 535,
    "start_time": "2021-12-27T09:38:58.240Z"
   },
   {
    "duration": 743,
    "start_time": "2021-12-27T09:38:58.778Z"
   },
   {
    "duration": 650,
    "start_time": "2021-12-27T09:38:59.524Z"
   },
   {
    "duration": 15,
    "start_time": "2021-12-27T09:39:00.178Z"
   },
   {
    "duration": 1559,
    "start_time": "2021-12-27T09:39:00.197Z"
   },
   {
    "duration": 9,
    "start_time": "2021-12-27T09:39:01.762Z"
   },
   {
    "duration": 37,
    "start_time": "2021-12-27T09:39:01.774Z"
   },
   {
    "duration": 1412,
    "start_time": "2021-12-27T09:39:01.813Z"
   },
   {
    "duration": 38,
    "start_time": "2021-12-27T09:47:43.168Z"
   },
   {
    "duration": 47,
    "start_time": "2021-12-27T09:48:12.146Z"
   },
   {
    "duration": 140,
    "start_time": "2021-12-27T09:48:38.860Z"
   },
   {
    "duration": 951,
    "start_time": "2021-12-27T18:33:46.805Z"
   },
   {
    "duration": 16,
    "start_time": "2021-12-27T18:33:47.759Z"
   },
   {
    "duration": 117,
    "start_time": "2021-12-27T18:33:47.779Z"
   },
   {
    "duration": 30,
    "start_time": "2021-12-27T18:33:47.899Z"
   },
   {
    "duration": 32,
    "start_time": "2021-12-27T18:33:47.932Z"
   },
   {
    "duration": 5,
    "start_time": "2021-12-27T18:33:47.967Z"
   },
   {
    "duration": 8,
    "start_time": "2021-12-27T18:33:47.974Z"
   },
   {
    "duration": 9,
    "start_time": "2021-12-27T18:33:47.986Z"
   },
   {
    "duration": 21,
    "start_time": "2021-12-27T18:33:47.998Z"
   },
   {
    "duration": 9,
    "start_time": "2021-12-27T18:33:48.063Z"
   },
   {
    "duration": 6,
    "start_time": "2021-12-27T18:33:48.075Z"
   },
   {
    "duration": 7,
    "start_time": "2021-12-27T18:33:48.084Z"
   },
   {
    "duration": 21,
    "start_time": "2021-12-27T18:33:48.094Z"
   },
   {
    "duration": 65,
    "start_time": "2021-12-27T18:33:48.117Z"
   },
   {
    "duration": 36,
    "start_time": "2021-12-27T18:33:48.184Z"
   },
   {
    "duration": 41,
    "start_time": "2021-12-27T18:33:48.222Z"
   },
   {
    "duration": 4,
    "start_time": "2021-12-27T18:33:48.266Z"
   },
   {
    "duration": 997,
    "start_time": "2021-12-27T18:33:48.273Z"
   },
   {
    "duration": 6,
    "start_time": "2021-12-27T18:33:49.273Z"
   },
   {
    "duration": 8,
    "start_time": "2021-12-27T18:33:49.282Z"
   },
   {
    "duration": 32,
    "start_time": "2021-12-27T18:33:49.293Z"
   },
   {
    "duration": 583,
    "start_time": "2021-12-27T18:33:49.328Z"
   },
   {
    "duration": 529,
    "start_time": "2021-12-27T18:33:49.917Z"
   },
   {
    "duration": 431,
    "start_time": "2021-12-27T18:33:50.449Z"
   },
   {
    "duration": 425,
    "start_time": "2021-12-27T18:33:50.883Z"
   },
   {
    "duration": 13,
    "start_time": "2021-12-27T18:33:51.312Z"
   },
   {
    "duration": 1468,
    "start_time": "2021-12-27T18:33:51.328Z"
   },
   {
    "duration": 11,
    "start_time": "2021-12-27T18:33:52.799Z"
   },
   {
    "duration": 51,
    "start_time": "2021-12-27T18:33:52.813Z"
   },
   {
    "duration": 1449,
    "start_time": "2021-12-27T18:33:52.867Z"
   },
   {
    "duration": 66,
    "start_time": "2021-12-27T18:33:54.319Z"
   },
   {
    "duration": 471,
    "start_time": "2021-12-27T18:35:14.119Z"
   },
   {
    "duration": 341,
    "start_time": "2021-12-27T18:35:45.244Z"
   },
   {
    "duration": 337,
    "start_time": "2021-12-27T18:38:10.117Z"
   },
   {
    "duration": 360,
    "start_time": "2021-12-27T18:38:44.750Z"
   },
   {
    "duration": 358,
    "start_time": "2021-12-27T18:39:41.741Z"
   },
   {
    "duration": 133,
    "start_time": "2021-12-27T18:40:26.816Z"
   },
   {
    "duration": 337,
    "start_time": "2021-12-27T18:41:40.369Z"
   },
   {
    "duration": 365,
    "start_time": "2021-12-27T18:42:06.120Z"
   },
   {
    "duration": 323,
    "start_time": "2021-12-27T18:42:58.658Z"
   },
   {
    "duration": 324,
    "start_time": "2021-12-27T18:46:20.483Z"
   },
   {
    "duration": 329,
    "start_time": "2021-12-27T18:57:28.308Z"
   },
   {
    "duration": 340,
    "start_time": "2021-12-27T18:58:06.290Z"
   },
   {
    "duration": 618,
    "start_time": "2021-12-27T18:58:38.253Z"
   },
   {
    "duration": 375,
    "start_time": "2021-12-27T19:07:42.966Z"
   },
   {
    "duration": 328,
    "start_time": "2021-12-27T19:09:19.261Z"
   },
   {
    "duration": 796,
    "start_time": "2021-12-28T07:13:46.762Z"
   },
   {
    "duration": 11,
    "start_time": "2021-12-28T07:13:47.560Z"
   },
   {
    "duration": 63,
    "start_time": "2021-12-28T07:13:47.573Z"
   },
   {
    "duration": 35,
    "start_time": "2021-12-28T07:13:47.638Z"
   },
   {
    "duration": 6,
    "start_time": "2021-12-28T07:13:47.675Z"
   },
   {
    "duration": 6,
    "start_time": "2021-12-28T07:13:47.682Z"
   },
   {
    "duration": 9,
    "start_time": "2021-12-28T07:13:47.689Z"
   },
   {
    "duration": 10,
    "start_time": "2021-12-28T07:13:47.700Z"
   },
   {
    "duration": 16,
    "start_time": "2021-12-28T07:13:47.712Z"
   },
   {
    "duration": 34,
    "start_time": "2021-12-28T07:13:47.730Z"
   },
   {
    "duration": 6,
    "start_time": "2021-12-28T07:13:47.766Z"
   },
   {
    "duration": 6,
    "start_time": "2021-12-28T07:13:47.773Z"
   },
   {
    "duration": 13,
    "start_time": "2021-12-28T07:13:47.781Z"
   },
   {
    "duration": 17,
    "start_time": "2021-12-28T07:13:47.796Z"
   },
   {
    "duration": 47,
    "start_time": "2021-12-28T07:13:47.815Z"
   },
   {
    "duration": 13,
    "start_time": "2021-12-28T07:13:47.864Z"
   },
   {
    "duration": 3,
    "start_time": "2021-12-28T07:13:47.878Z"
   },
   {
    "duration": 497,
    "start_time": "2021-12-28T07:13:47.883Z"
   },
   {
    "duration": 4,
    "start_time": "2021-12-28T07:13:48.381Z"
   },
   {
    "duration": 15,
    "start_time": "2021-12-28T07:13:48.387Z"
   },
   {
    "duration": 23,
    "start_time": "2021-12-28T07:13:48.404Z"
   },
   {
    "duration": 361,
    "start_time": "2021-12-28T07:13:48.429Z"
   },
   {
    "duration": 295,
    "start_time": "2021-12-28T07:13:48.792Z"
   },
   {
    "duration": 252,
    "start_time": "2021-12-28T07:13:49.089Z"
   },
   {
    "duration": 258,
    "start_time": "2021-12-28T07:13:49.342Z"
   },
   {
    "duration": 9,
    "start_time": "2021-12-28T07:13:49.602Z"
   },
   {
    "duration": 856,
    "start_time": "2021-12-28T07:13:49.614Z"
   },
   {
    "duration": 6,
    "start_time": "2021-12-28T07:13:50.472Z"
   },
   {
    "duration": 23,
    "start_time": "2021-12-28T07:13:50.479Z"
   },
   {
    "duration": 817,
    "start_time": "2021-12-28T07:13:50.504Z"
   },
   {
    "duration": 295,
    "start_time": "2021-12-28T07:13:51.323Z"
   },
   {
    "duration": 206,
    "start_time": "2021-12-28T07:13:51.620Z"
   },
   {
    "duration": 84,
    "start_time": "2021-12-28T07:13:51.828Z"
   },
   {
    "duration": 467,
    "start_time": "2021-12-28T07:13:51.447Z"
   },
   {
    "duration": 466,
    "start_time": "2021-12-28T07:13:51.449Z"
   },
   {
    "duration": 85,
    "start_time": "2021-12-28T07:15:58.884Z"
   },
   {
    "duration": 10,
    "start_time": "2021-12-28T07:15:58.971Z"
   },
   {
    "duration": 79,
    "start_time": "2021-12-28T07:15:58.983Z"
   },
   {
    "duration": 20,
    "start_time": "2021-12-28T07:15:59.063Z"
   },
   {
    "duration": 30,
    "start_time": "2021-12-28T07:15:59.084Z"
   },
   {
    "duration": 17,
    "start_time": "2021-12-28T07:15:59.115Z"
   },
   {
    "duration": 27,
    "start_time": "2021-12-28T07:15:59.134Z"
   },
   {
    "duration": 28,
    "start_time": "2021-12-28T07:15:59.163Z"
   },
   {
    "duration": 21,
    "start_time": "2021-12-28T07:15:59.194Z"
   },
   {
    "duration": 7,
    "start_time": "2021-12-28T07:15:59.217Z"
   },
   {
    "duration": 26,
    "start_time": "2021-12-28T07:15:59.225Z"
   },
   {
    "duration": 7,
    "start_time": "2021-12-28T07:15:59.253Z"
   },
   {
    "duration": 23,
    "start_time": "2021-12-28T07:15:59.261Z"
   },
   {
    "duration": 27,
    "start_time": "2021-12-28T07:15:59.286Z"
   },
   {
    "duration": 28,
    "start_time": "2021-12-28T07:15:59.315Z"
   },
   {
    "duration": 31,
    "start_time": "2021-12-28T07:15:59.344Z"
   },
   {
    "duration": 11,
    "start_time": "2021-12-28T07:15:59.377Z"
   },
   {
    "duration": 487,
    "start_time": "2021-12-28T07:15:59.389Z"
   },
   {
    "duration": 3,
    "start_time": "2021-12-28T07:15:59.878Z"
   },
   {
    "duration": 12,
    "start_time": "2021-12-28T07:15:59.883Z"
   },
   {
    "duration": 34,
    "start_time": "2021-12-28T07:15:59.897Z"
   },
   {
    "duration": 311,
    "start_time": "2021-12-28T07:15:59.932Z"
   },
   {
    "duration": 323,
    "start_time": "2021-12-28T07:16:00.244Z"
   },
   {
    "duration": 256,
    "start_time": "2021-12-28T07:16:00.569Z"
   },
   {
    "duration": 250,
    "start_time": "2021-12-28T07:16:00.827Z"
   },
   {
    "duration": 9,
    "start_time": "2021-12-28T07:16:01.079Z"
   },
   {
    "duration": 948,
    "start_time": "2021-12-28T07:16:01.091Z"
   },
   {
    "duration": 7,
    "start_time": "2021-12-28T07:16:02.041Z"
   },
   {
    "duration": 42,
    "start_time": "2021-12-28T07:16:02.061Z"
   },
   {
    "duration": 889,
    "start_time": "2021-12-28T07:16:02.104Z"
   },
   {
    "duration": 233,
    "start_time": "2021-12-28T07:16:02.995Z"
   },
   {
    "duration": 218,
    "start_time": "2021-12-28T07:16:03.231Z"
   },
   {
    "duration": 82,
    "start_time": "2021-12-28T07:16:03.452Z"
   },
   {
    "duration": 456,
    "start_time": "2021-12-28T07:16:03.080Z"
   },
   {
    "duration": 455,
    "start_time": "2021-12-28T07:16:03.082Z"
   },
   {
    "duration": 454,
    "start_time": "2021-12-28T07:16:03.084Z"
   },
   {
    "duration": 97,
    "start_time": "2021-12-28T07:16:30.004Z"
   },
   {
    "duration": 10,
    "start_time": "2021-12-28T07:16:30.103Z"
   },
   {
    "duration": 83,
    "start_time": "2021-12-28T07:16:30.115Z"
   },
   {
    "duration": 20,
    "start_time": "2021-12-28T07:16:30.200Z"
   },
   {
    "duration": 17,
    "start_time": "2021-12-28T07:16:30.221Z"
   },
   {
    "duration": 7,
    "start_time": "2021-12-28T07:16:30.239Z"
   },
   {
    "duration": 14,
    "start_time": "2021-12-28T07:16:30.248Z"
   },
   {
    "duration": 8,
    "start_time": "2021-12-28T07:16:30.263Z"
   },
   {
    "duration": 16,
    "start_time": "2021-12-28T07:16:30.273Z"
   },
   {
    "duration": 6,
    "start_time": "2021-12-28T07:16:30.291Z"
   },
   {
    "duration": 7,
    "start_time": "2021-12-28T07:16:30.299Z"
   },
   {
    "duration": 21,
    "start_time": "2021-12-28T07:16:30.308Z"
   },
   {
    "duration": 21,
    "start_time": "2021-12-28T07:16:30.330Z"
   },
   {
    "duration": 20,
    "start_time": "2021-12-28T07:16:30.361Z"
   },
   {
    "duration": 20,
    "start_time": "2021-12-28T07:16:30.383Z"
   },
   {
    "duration": 32,
    "start_time": "2021-12-28T07:16:30.405Z"
   },
   {
    "duration": 4,
    "start_time": "2021-12-28T07:16:30.439Z"
   },
   {
    "duration": 493,
    "start_time": "2021-12-28T07:16:30.444Z"
   },
   {
    "duration": 4,
    "start_time": "2021-12-28T07:16:30.938Z"
   },
   {
    "duration": 25,
    "start_time": "2021-12-28T07:16:30.944Z"
   },
   {
    "duration": 24,
    "start_time": "2021-12-28T07:16:30.970Z"
   },
   {
    "duration": 378,
    "start_time": "2021-12-28T07:16:30.996Z"
   },
   {
    "duration": 299,
    "start_time": "2021-12-28T07:16:31.376Z"
   },
   {
    "duration": 259,
    "start_time": "2021-12-28T07:16:31.677Z"
   },
   {
    "duration": 251,
    "start_time": "2021-12-28T07:16:31.937Z"
   },
   {
    "duration": 8,
    "start_time": "2021-12-28T07:16:32.189Z"
   },
   {
    "duration": 825,
    "start_time": "2021-12-28T07:16:32.200Z"
   },
   {
    "duration": 8,
    "start_time": "2021-12-28T07:16:33.027Z"
   },
   {
    "duration": 32,
    "start_time": "2021-12-28T07:16:33.037Z"
   },
   {
    "duration": 834,
    "start_time": "2021-12-28T07:16:33.071Z"
   },
   {
    "duration": 333,
    "start_time": "2021-12-28T07:16:33.907Z"
   },
   {
    "duration": 195,
    "start_time": "2021-12-28T07:16:34.242Z"
   },
   {
    "duration": 203,
    "start_time": "2021-12-28T07:16:34.439Z"
   },
   {
    "duration": 209,
    "start_time": "2021-12-28T07:16:34.644Z"
   },
   {
    "duration": 37,
    "start_time": "2021-12-28T07:16:34.855Z"
   },
   {
    "duration": 23,
    "start_time": "2021-12-28T07:20:27.694Z"
   },
   {
    "duration": 8,
    "start_time": "2021-12-28T07:22:38.991Z"
   },
   {
    "duration": 8,
    "start_time": "2021-12-28T07:22:53.770Z"
   },
   {
    "duration": 7,
    "start_time": "2021-12-28T07:24:20.272Z"
   },
   {
    "duration": 82,
    "start_time": "2021-12-28T07:24:38.100Z"
   },
   {
    "duration": 13,
    "start_time": "2021-12-28T07:24:38.184Z"
   },
   {
    "duration": 77,
    "start_time": "2021-12-28T07:24:38.200Z"
   },
   {
    "duration": 19,
    "start_time": "2021-12-28T07:24:38.279Z"
   },
   {
    "duration": 8,
    "start_time": "2021-12-28T07:24:38.300Z"
   },
   {
    "duration": 5,
    "start_time": "2021-12-28T07:24:38.310Z"
   },
   {
    "duration": 5,
    "start_time": "2021-12-28T07:24:38.317Z"
   },
   {
    "duration": 16,
    "start_time": "2021-12-28T07:24:38.323Z"
   },
   {
    "duration": 31,
    "start_time": "2021-12-28T07:24:38.341Z"
   },
   {
    "duration": 5,
    "start_time": "2021-12-28T07:24:38.375Z"
   },
   {
    "duration": 14,
    "start_time": "2021-12-28T07:24:38.382Z"
   },
   {
    "duration": 5,
    "start_time": "2021-12-28T07:24:38.398Z"
   },
   {
    "duration": 17,
    "start_time": "2021-12-28T07:24:38.405Z"
   },
   {
    "duration": 20,
    "start_time": "2021-12-28T07:24:38.423Z"
   },
   {
    "duration": 29,
    "start_time": "2021-12-28T07:24:38.445Z"
   },
   {
    "duration": 11,
    "start_time": "2021-12-28T07:24:38.476Z"
   },
   {
    "duration": 2,
    "start_time": "2021-12-28T07:24:38.489Z"
   },
   {
    "duration": 478,
    "start_time": "2021-12-28T07:24:38.493Z"
   },
   {
    "duration": 3,
    "start_time": "2021-12-28T07:24:38.973Z"
   },
   {
    "duration": 5,
    "start_time": "2021-12-28T07:24:38.978Z"
   },
   {
    "duration": 19,
    "start_time": "2021-12-28T07:24:38.985Z"
   },
   {
    "duration": 309,
    "start_time": "2021-12-28T07:24:39.005Z"
   },
   {
    "duration": 304,
    "start_time": "2021-12-28T07:24:39.316Z"
   },
   {
    "duration": 339,
    "start_time": "2021-12-28T07:24:39.622Z"
   },
   {
    "duration": 244,
    "start_time": "2021-12-28T07:24:39.963Z"
   },
   {
    "duration": 7,
    "start_time": "2021-12-28T07:24:40.209Z"
   },
   {
    "duration": 827,
    "start_time": "2021-12-28T07:24:40.220Z"
   },
   {
    "duration": 16,
    "start_time": "2021-12-28T07:24:41.049Z"
   },
   {
    "duration": 16,
    "start_time": "2021-12-28T07:24:41.067Z"
   },
   {
    "duration": 828,
    "start_time": "2021-12-28T07:24:41.085Z"
   },
   {
    "duration": 233,
    "start_time": "2021-12-28T07:24:41.914Z"
   },
   {
    "duration": 199,
    "start_time": "2021-12-28T07:24:42.148Z"
   },
   {
    "duration": 313,
    "start_time": "2021-12-28T07:24:42.349Z"
   },
   {
    "duration": 202,
    "start_time": "2021-12-28T07:24:42.665Z"
   },
   {
    "duration": 22,
    "start_time": "2021-12-28T07:24:42.869Z"
   },
   {
    "duration": 8,
    "start_time": "2021-12-28T07:24:42.893Z"
   },
   {
    "duration": 9,
    "start_time": "2021-12-28T07:24:42.903Z"
   },
   {
    "duration": 8,
    "start_time": "2021-12-28T07:24:54.868Z"
   },
   {
    "duration": 12,
    "start_time": "2021-12-28T07:32:29.838Z"
   },
   {
    "duration": 467,
    "start_time": "2021-12-28T07:34:00.319Z"
   },
   {
    "duration": 81,
    "start_time": "2021-12-28T07:34:53.639Z"
   },
   {
    "duration": 1409,
    "start_time": "2021-12-28T07:34:59.742Z"
   },
   {
    "duration": 255,
    "start_time": "2021-12-28T07:35:13.327Z"
   },
   {
    "duration": 1083,
    "start_time": "2021-12-28T07:35:30.151Z"
   },
   {
    "duration": 1001,
    "start_time": "2021-12-28T07:35:57.208Z"
   },
   {
    "duration": 319,
    "start_time": "2021-12-28T07:38:01.635Z"
   },
   {
    "duration": 86,
    "start_time": "2021-12-28T07:38:16.581Z"
   },
   {
    "duration": 11,
    "start_time": "2021-12-28T07:38:16.669Z"
   },
   {
    "duration": 83,
    "start_time": "2021-12-28T07:38:16.682Z"
   },
   {
    "duration": 20,
    "start_time": "2021-12-28T07:38:16.767Z"
   },
   {
    "duration": 22,
    "start_time": "2021-12-28T07:38:16.789Z"
   },
   {
    "duration": 7,
    "start_time": "2021-12-28T07:38:16.813Z"
   },
   {
    "duration": 23,
    "start_time": "2021-12-28T07:38:16.822Z"
   },
   {
    "duration": 31,
    "start_time": "2021-12-28T07:38:16.848Z"
   },
   {
    "duration": 22,
    "start_time": "2021-12-28T07:38:16.881Z"
   },
   {
    "duration": 16,
    "start_time": "2021-12-28T07:38:16.905Z"
   },
   {
    "duration": 19,
    "start_time": "2021-12-28T07:38:16.922Z"
   },
   {
    "duration": 10,
    "start_time": "2021-12-28T07:38:16.943Z"
   },
   {
    "duration": 38,
    "start_time": "2021-12-28T07:38:16.955Z"
   },
   {
    "duration": 29,
    "start_time": "2021-12-28T07:38:16.995Z"
   },
   {
    "duration": 38,
    "start_time": "2021-12-28T07:38:17.026Z"
   },
   {
    "duration": 12,
    "start_time": "2021-12-28T07:38:17.066Z"
   },
   {
    "duration": 7,
    "start_time": "2021-12-28T07:38:17.080Z"
   },
   {
    "duration": 506,
    "start_time": "2021-12-28T07:38:17.088Z"
   },
   {
    "duration": 4,
    "start_time": "2021-12-28T07:38:17.595Z"
   },
   {
    "duration": 9,
    "start_time": "2021-12-28T07:38:17.601Z"
   },
   {
    "duration": 22,
    "start_time": "2021-12-28T07:38:17.612Z"
   },
   {
    "duration": 307,
    "start_time": "2021-12-28T07:38:17.636Z"
   },
   {
    "duration": 313,
    "start_time": "2021-12-28T07:38:17.947Z"
   },
   {
    "duration": 262,
    "start_time": "2021-12-28T07:38:18.263Z"
   },
   {
    "duration": 263,
    "start_time": "2021-12-28T07:38:18.527Z"
   },
   {
    "duration": 8,
    "start_time": "2021-12-28T07:38:18.792Z"
   },
   {
    "duration": 993,
    "start_time": "2021-12-28T07:38:18.802Z"
   },
   {
    "duration": 9,
    "start_time": "2021-12-28T07:38:19.797Z"
   },
   {
    "duration": 20,
    "start_time": "2021-12-28T07:38:19.808Z"
   },
   {
    "duration": 845,
    "start_time": "2021-12-28T07:38:19.830Z"
   },
   {
    "duration": 216,
    "start_time": "2021-12-28T07:38:20.677Z"
   },
   {
    "duration": 192,
    "start_time": "2021-12-28T07:38:20.895Z"
   },
   {
    "duration": 190,
    "start_time": "2021-12-28T07:38:21.089Z"
   },
   {
    "duration": 197,
    "start_time": "2021-12-28T07:38:21.281Z"
   },
   {
    "duration": 23,
    "start_time": "2021-12-28T07:38:21.479Z"
   },
   {
    "duration": 7,
    "start_time": "2021-12-28T07:38:21.504Z"
   },
   {
    "duration": 8,
    "start_time": "2021-12-28T07:38:21.513Z"
   },
   {
    "duration": 321,
    "start_time": "2021-12-28T07:38:21.523Z"
   },
   {
    "duration": 330,
    "start_time": "2021-12-28T07:38:57.667Z"
   },
   {
    "duration": 344,
    "start_time": "2021-12-28T07:39:35.557Z"
   },
   {
    "duration": 21,
    "start_time": "2021-12-28T07:40:10.261Z"
   },
   {
    "duration": 5,
    "start_time": "2021-12-28T07:40:51.770Z"
   },
   {
    "duration": 255,
    "start_time": "2021-12-28T07:41:17.750Z"
   },
   {
    "duration": 5,
    "start_time": "2021-12-28T07:43:15.636Z"
   },
   {
    "duration": 4,
    "start_time": "2021-12-28T07:45:15.134Z"
   },
   {
    "duration": 12,
    "start_time": "2021-12-28T07:46:37.810Z"
   },
   {
    "duration": 6,
    "start_time": "2021-12-28T07:47:28.022Z"
   },
   {
    "duration": 20,
    "start_time": "2021-12-28T07:47:30.286Z"
   },
   {
    "duration": 4,
    "start_time": "2021-12-28T07:47:51.255Z"
   },
   {
    "duration": 98,
    "start_time": "2021-12-28T07:48:19.798Z"
   },
   {
    "duration": 10,
    "start_time": "2021-12-28T07:48:19.898Z"
   },
   {
    "duration": 89,
    "start_time": "2021-12-28T07:48:19.910Z"
   },
   {
    "duration": 24,
    "start_time": "2021-12-28T07:48:20.001Z"
   },
   {
    "duration": 15,
    "start_time": "2021-12-28T07:48:20.026Z"
   },
   {
    "duration": 17,
    "start_time": "2021-12-28T07:48:20.043Z"
   },
   {
    "duration": 5,
    "start_time": "2021-12-28T07:48:20.062Z"
   },
   {
    "duration": 11,
    "start_time": "2021-12-28T07:48:20.069Z"
   },
   {
    "duration": 13,
    "start_time": "2021-12-28T07:48:20.082Z"
   },
   {
    "duration": 6,
    "start_time": "2021-12-28T07:48:20.097Z"
   },
   {
    "duration": 5,
    "start_time": "2021-12-28T07:48:20.105Z"
   },
   {
    "duration": 10,
    "start_time": "2021-12-28T07:48:20.111Z"
   },
   {
    "duration": 46,
    "start_time": "2021-12-28T07:48:20.123Z"
   },
   {
    "duration": 8,
    "start_time": "2021-12-28T07:48:20.171Z"
   },
   {
    "duration": 21,
    "start_time": "2021-12-28T07:48:20.181Z"
   },
   {
    "duration": 17,
    "start_time": "2021-12-28T07:48:20.204Z"
   },
   {
    "duration": 12,
    "start_time": "2021-12-28T07:48:20.223Z"
   },
   {
    "duration": 3,
    "start_time": "2021-12-28T07:48:20.237Z"
   },
   {
    "duration": 629,
    "start_time": "2021-12-28T07:48:20.261Z"
   },
   {
    "duration": 3,
    "start_time": "2021-12-28T07:48:20.892Z"
   },
   {
    "duration": 6,
    "start_time": "2021-12-28T07:48:20.897Z"
   },
   {
    "duration": 20,
    "start_time": "2021-12-28T07:48:20.904Z"
   },
   {
    "duration": 318,
    "start_time": "2021-12-28T07:48:20.928Z"
   },
   {
    "duration": 305,
    "start_time": "2021-12-28T07:48:21.249Z"
   },
   {
    "duration": 334,
    "start_time": "2021-12-28T07:48:21.555Z"
   },
   {
    "duration": 317,
    "start_time": "2021-12-28T07:48:21.892Z"
   },
   {
    "duration": 9,
    "start_time": "2021-12-28T07:48:22.211Z"
   },
   {
    "duration": 942,
    "start_time": "2021-12-28T07:48:22.221Z"
   },
   {
    "duration": 7,
    "start_time": "2021-12-28T07:48:23.165Z"
   },
   {
    "duration": 29,
    "start_time": "2021-12-28T07:48:23.173Z"
   },
   {
    "duration": 1037,
    "start_time": "2021-12-28T07:48:23.204Z"
   },
   {
    "duration": 334,
    "start_time": "2021-12-28T07:48:24.243Z"
   },
   {
    "duration": 302,
    "start_time": "2021-12-28T07:48:24.579Z"
   },
   {
    "duration": 220,
    "start_time": "2021-12-28T07:48:24.883Z"
   },
   {
    "duration": 203,
    "start_time": "2021-12-28T07:48:25.105Z"
   },
   {
    "duration": 24,
    "start_time": "2021-12-28T07:48:25.310Z"
   },
   {
    "duration": 7,
    "start_time": "2021-12-28T07:48:25.335Z"
   },
   {
    "duration": 7,
    "start_time": "2021-12-28T07:48:25.360Z"
   },
   {
    "duration": 20,
    "start_time": "2021-12-28T07:48:25.369Z"
   },
   {
    "duration": 7,
    "start_time": "2021-12-28T07:48:25.391Z"
   },
   {
    "duration": 4,
    "start_time": "2021-12-28T07:49:24.954Z"
   },
   {
    "duration": 5,
    "start_time": "2021-12-28T07:49:59.971Z"
   },
   {
    "duration": 97,
    "start_time": "2021-12-28T07:50:05.287Z"
   },
   {
    "duration": 11,
    "start_time": "2021-12-28T07:50:05.386Z"
   },
   {
    "duration": 78,
    "start_time": "2021-12-28T07:50:05.400Z"
   },
   {
    "duration": 22,
    "start_time": "2021-12-28T07:50:05.481Z"
   },
   {
    "duration": 22,
    "start_time": "2021-12-28T07:50:05.505Z"
   },
   {
    "duration": 17,
    "start_time": "2021-12-28T07:50:05.529Z"
   },
   {
    "duration": 17,
    "start_time": "2021-12-28T07:50:05.548Z"
   },
   {
    "duration": 11,
    "start_time": "2021-12-28T07:50:05.567Z"
   },
   {
    "duration": 25,
    "start_time": "2021-12-28T07:50:05.582Z"
   },
   {
    "duration": 7,
    "start_time": "2021-12-28T07:50:05.610Z"
   },
   {
    "duration": 16,
    "start_time": "2021-12-28T07:50:05.619Z"
   },
   {
    "duration": 14,
    "start_time": "2021-12-28T07:50:05.636Z"
   },
   {
    "duration": 28,
    "start_time": "2021-12-28T07:50:05.652Z"
   },
   {
    "duration": 8,
    "start_time": "2021-12-28T07:50:05.682Z"
   },
   {
    "duration": 25,
    "start_time": "2021-12-28T07:50:05.691Z"
   },
   {
    "duration": 19,
    "start_time": "2021-12-28T07:50:05.718Z"
   },
   {
    "duration": 22,
    "start_time": "2021-12-28T07:50:05.740Z"
   },
   {
    "duration": 7,
    "start_time": "2021-12-28T07:50:05.764Z"
   },
   {
    "duration": 531,
    "start_time": "2021-12-28T07:50:05.773Z"
   },
   {
    "duration": 4,
    "start_time": "2021-12-28T07:50:06.307Z"
   },
   {
    "duration": 22,
    "start_time": "2021-12-28T07:50:06.313Z"
   },
   {
    "duration": 48,
    "start_time": "2021-12-28T07:50:06.337Z"
   },
   {
    "duration": 507,
    "start_time": "2021-12-28T07:50:06.387Z"
   },
   {
    "duration": 531,
    "start_time": "2021-12-28T07:50:06.896Z"
   },
   {
    "duration": 596,
    "start_time": "2021-12-28T07:50:07.429Z"
   },
   {
    "duration": 409,
    "start_time": "2021-12-28T07:50:08.027Z"
   },
   {
    "duration": 21,
    "start_time": "2021-12-28T07:50:08.441Z"
   },
   {
    "duration": 1382,
    "start_time": "2021-12-28T07:50:08.465Z"
   },
   {
    "duration": 17,
    "start_time": "2021-12-28T07:50:09.849Z"
   },
   {
    "duration": 19,
    "start_time": "2021-12-28T07:50:09.869Z"
   },
   {
    "duration": 1377,
    "start_time": "2021-12-28T07:50:09.890Z"
   },
   {
    "duration": 353,
    "start_time": "2021-12-28T07:50:11.270Z"
   },
   {
    "duration": 313,
    "start_time": "2021-12-28T07:50:11.626Z"
   },
   {
    "duration": 324,
    "start_time": "2021-12-28T07:50:11.941Z"
   },
   {
    "duration": 314,
    "start_time": "2021-12-28T07:50:12.267Z"
   },
   {
    "duration": 36,
    "start_time": "2021-12-28T07:50:12.583Z"
   },
   {
    "duration": 9,
    "start_time": "2021-12-28T07:50:12.621Z"
   },
   {
    "duration": 30,
    "start_time": "2021-12-28T07:50:12.632Z"
   },
   {
    "duration": 20,
    "start_time": "2021-12-28T07:50:12.664Z"
   },
   {
    "duration": 8,
    "start_time": "2021-12-28T07:50:12.686Z"
   },
   {
    "duration": 6,
    "start_time": "2021-12-28T07:50:41.789Z"
   },
   {
    "duration": 4,
    "start_time": "2021-12-28T07:50:44.884Z"
   },
   {
    "duration": 6,
    "start_time": "2021-12-28T07:50:57.213Z"
   },
   {
    "duration": 524,
    "start_time": "2021-12-28T12:05:45.299Z"
   },
   {
    "duration": 201,
    "start_time": "2021-12-28T12:05:45.625Z"
   },
   {
    "duration": 1216,
    "start_time": "2021-12-28T12:05:59.894Z"
   },
   {
    "duration": 21,
    "start_time": "2021-12-28T12:06:01.114Z"
   },
   {
    "duration": 172,
    "start_time": "2021-12-28T12:06:01.139Z"
   },
   {
    "duration": 47,
    "start_time": "2021-12-28T12:06:01.315Z"
   },
   {
    "duration": 15,
    "start_time": "2021-12-28T12:06:01.366Z"
   },
   {
    "duration": 4,
    "start_time": "2021-12-28T12:06:01.385Z"
   },
   {
    "duration": 17,
    "start_time": "2021-12-28T12:06:01.391Z"
   },
   {
    "duration": 18,
    "start_time": "2021-12-28T12:06:01.410Z"
   },
   {
    "duration": 30,
    "start_time": "2021-12-28T12:06:01.463Z"
   },
   {
    "duration": 12,
    "start_time": "2021-12-28T12:06:01.497Z"
   },
   {
    "duration": 47,
    "start_time": "2021-12-28T12:06:01.512Z"
   },
   {
    "duration": 11,
    "start_time": "2021-12-28T12:06:01.565Z"
   },
   {
    "duration": 33,
    "start_time": "2021-12-28T12:06:01.580Z"
   },
   {
    "duration": 7,
    "start_time": "2021-12-28T12:06:01.615Z"
   },
   {
    "duration": 60,
    "start_time": "2021-12-28T12:06:01.625Z"
   },
   {
    "duration": 48,
    "start_time": "2021-12-28T12:06:01.688Z"
   },
   {
    "duration": 32,
    "start_time": "2021-12-28T12:06:01.739Z"
   },
   {
    "duration": 6,
    "start_time": "2021-12-28T12:06:01.774Z"
   },
   {
    "duration": 1383,
    "start_time": "2021-12-28T12:06:01.783Z"
   },
   {
    "duration": 35,
    "start_time": "2021-12-28T12:06:03.187Z"
   },
   {
    "duration": 17,
    "start_time": "2021-12-28T12:06:03.231Z"
   },
   {
    "duration": 126,
    "start_time": "2021-12-28T12:06:03.250Z"
   },
   {
    "duration": 814,
    "start_time": "2021-12-28T12:06:03.388Z"
   },
   {
    "duration": 591,
    "start_time": "2021-12-28T12:06:04.205Z"
   },
   {
    "duration": 592,
    "start_time": "2021-12-28T12:06:04.798Z"
   },
   {
    "duration": 491,
    "start_time": "2021-12-28T12:06:05.393Z"
   },
   {
    "duration": 12,
    "start_time": "2021-12-28T12:06:05.889Z"
   },
   {
    "duration": 1929,
    "start_time": "2021-12-28T12:06:05.903Z"
   },
   {
    "duration": 11,
    "start_time": "2021-12-28T12:06:07.835Z"
   },
   {
    "duration": 40,
    "start_time": "2021-12-28T12:06:07.849Z"
   },
   {
    "duration": 2041,
    "start_time": "2021-12-28T12:06:07.892Z"
   },
   {
    "duration": 534,
    "start_time": "2021-12-28T12:06:09.936Z"
   },
   {
    "duration": 362,
    "start_time": "2021-12-28T12:06:10.474Z"
   },
   {
    "duration": 352,
    "start_time": "2021-12-28T12:06:10.839Z"
   },
   {
    "duration": 469,
    "start_time": "2021-12-28T12:06:11.194Z"
   },
   {
    "duration": 52,
    "start_time": "2021-12-28T12:06:11.667Z"
   },
   {
    "duration": 38,
    "start_time": "2021-12-28T12:06:11.722Z"
   },
   {
    "duration": 15,
    "start_time": "2021-12-28T12:06:11.763Z"
   },
   {
    "duration": 35,
    "start_time": "2021-12-28T12:06:11.782Z"
   },
   {
    "duration": 43,
    "start_time": "2021-12-28T12:06:11.819Z"
   },
   {
    "duration": 123,
    "start_time": "2021-12-28T12:17:51.117Z"
   },
   {
    "duration": 128,
    "start_time": "2021-12-28T12:18:02.712Z"
   },
   {
    "duration": 364,
    "start_time": "2021-12-28T12:21:47.665Z"
   },
   {
    "duration": 30,
    "start_time": "2021-12-28T12:21:55.614Z"
   },
   {
    "duration": 320,
    "start_time": "2021-12-28T12:22:51.735Z"
   },
   {
    "duration": 119,
    "start_time": "2021-12-28T12:24:22.647Z"
   },
   {
    "duration": 217,
    "start_time": "2021-12-28T12:24:37.441Z"
   },
   {
    "duration": 319,
    "start_time": "2021-12-28T12:24:44.884Z"
   },
   {
    "duration": 9618,
    "start_time": "2021-12-28T12:24:50.036Z"
   },
   {
    "duration": 114,
    "start_time": "2021-12-28T12:31:17.221Z"
   },
   {
    "duration": 27,
    "start_time": "2021-12-28T12:31:17.338Z"
   },
   {
    "duration": 121,
    "start_time": "2021-12-28T12:31:17.368Z"
   },
   {
    "duration": 30,
    "start_time": "2021-12-28T12:31:17.492Z"
   },
   {
    "duration": 8,
    "start_time": "2021-12-28T12:31:17.524Z"
   },
   {
    "duration": 26,
    "start_time": "2021-12-28T12:31:17.534Z"
   },
   {
    "duration": 6,
    "start_time": "2021-12-28T12:31:17.563Z"
   },
   {
    "duration": 8,
    "start_time": "2021-12-28T12:31:17.571Z"
   },
   {
    "duration": 21,
    "start_time": "2021-12-28T12:31:17.584Z"
   },
   {
    "duration": 52,
    "start_time": "2021-12-28T12:31:17.608Z"
   },
   {
    "duration": 5,
    "start_time": "2021-12-28T12:31:17.663Z"
   },
   {
    "duration": 16,
    "start_time": "2021-12-28T12:31:17.671Z"
   },
   {
    "duration": 24,
    "start_time": "2021-12-28T12:31:17.689Z"
   },
   {
    "duration": 442,
    "start_time": "2021-12-28T12:31:17.715Z"
   },
   {
    "duration": 222,
    "start_time": "2021-12-28T12:31:17.940Z"
   },
   {
    "duration": 223,
    "start_time": "2021-12-28T12:31:17.941Z"
   },
   {
    "duration": 223,
    "start_time": "2021-12-28T12:31:17.942Z"
   },
   {
    "duration": 223,
    "start_time": "2021-12-28T12:31:17.944Z"
   },
   {
    "duration": 222,
    "start_time": "2021-12-28T12:31:17.946Z"
   },
   {
    "duration": 222,
    "start_time": "2021-12-28T12:31:17.947Z"
   },
   {
    "duration": 221,
    "start_time": "2021-12-28T12:31:17.949Z"
   },
   {
    "duration": 221,
    "start_time": "2021-12-28T12:31:17.950Z"
   },
   {
    "duration": 220,
    "start_time": "2021-12-28T12:31:17.952Z"
   },
   {
    "duration": 220,
    "start_time": "2021-12-28T12:31:17.953Z"
   },
   {
    "duration": 219,
    "start_time": "2021-12-28T12:31:17.955Z"
   },
   {
    "duration": 220,
    "start_time": "2021-12-28T12:31:17.956Z"
   },
   {
    "duration": 219,
    "start_time": "2021-12-28T12:31:17.958Z"
   },
   {
    "duration": 219,
    "start_time": "2021-12-28T12:31:17.959Z"
   },
   {
    "duration": 218,
    "start_time": "2021-12-28T12:31:17.961Z"
   },
   {
    "duration": 214,
    "start_time": "2021-12-28T12:31:17.966Z"
   },
   {
    "duration": 213,
    "start_time": "2021-12-28T12:31:17.968Z"
   },
   {
    "duration": 212,
    "start_time": "2021-12-28T12:31:17.970Z"
   },
   {
    "duration": 212,
    "start_time": "2021-12-28T12:31:17.971Z"
   },
   {
    "duration": 212,
    "start_time": "2021-12-28T12:31:17.973Z"
   },
   {
    "duration": 212,
    "start_time": "2021-12-28T12:31:17.974Z"
   },
   {
    "duration": 171,
    "start_time": "2021-12-28T12:31:18.017Z"
   },
   {
    "duration": 170,
    "start_time": "2021-12-28T12:31:18.023Z"
   },
   {
    "duration": 169,
    "start_time": "2021-12-28T12:31:18.025Z"
   },
   {
    "duration": 167,
    "start_time": "2021-12-28T12:31:18.028Z"
   },
   {
    "duration": 167,
    "start_time": "2021-12-28T12:31:18.030Z"
   },
   {
    "duration": 8481,
    "start_time": "2021-12-28T12:32:48.897Z"
   },
   {
    "duration": 150,
    "start_time": "2021-12-28T12:33:16.663Z"
   },
   {
    "duration": 17,
    "start_time": "2021-12-28T12:33:16.817Z"
   },
   {
    "duration": 127,
    "start_time": "2021-12-28T12:33:16.838Z"
   },
   {
    "duration": 32,
    "start_time": "2021-12-28T12:33:16.968Z"
   },
   {
    "duration": 8,
    "start_time": "2021-12-28T12:33:17.002Z"
   },
   {
    "duration": 5,
    "start_time": "2021-12-28T12:33:17.013Z"
   },
   {
    "duration": 48,
    "start_time": "2021-12-28T12:33:17.020Z"
   },
   {
    "duration": 14,
    "start_time": "2021-12-28T12:33:17.072Z"
   },
   {
    "duration": 19,
    "start_time": "2021-12-28T12:33:17.090Z"
   },
   {
    "duration": 9,
    "start_time": "2021-12-28T12:33:17.112Z"
   },
   {
    "duration": 36,
    "start_time": "2021-12-28T12:33:17.125Z"
   },
   {
    "duration": 11,
    "start_time": "2021-12-28T12:33:17.165Z"
   },
   {
    "duration": 26,
    "start_time": "2021-12-28T12:33:17.179Z"
   },
   {
    "duration": 3,
    "start_time": "2021-12-28T12:33:17.207Z"
   },
   {
    "duration": 58,
    "start_time": "2021-12-28T12:33:17.212Z"
   },
   {
    "duration": 30,
    "start_time": "2021-12-28T12:33:17.272Z"
   },
   {
    "duration": 18,
    "start_time": "2021-12-28T12:33:17.304Z"
   },
   {
    "duration": 37,
    "start_time": "2021-12-28T12:33:17.324Z"
   },
   {
    "duration": 855,
    "start_time": "2021-12-28T12:33:17.364Z"
   },
   {
    "duration": 6,
    "start_time": "2021-12-28T12:33:18.223Z"
   },
   {
    "duration": 27,
    "start_time": "2021-12-28T12:33:18.232Z"
   },
   {
    "duration": 58,
    "start_time": "2021-12-28T12:33:18.263Z"
   },
   {
    "duration": 535,
    "start_time": "2021-12-28T12:33:18.326Z"
   },
   {
    "duration": 679,
    "start_time": "2021-12-28T12:33:18.864Z"
   },
   {
    "duration": 490,
    "start_time": "2021-12-28T12:33:19.546Z"
   },
   {
    "duration": 421,
    "start_time": "2021-12-28T12:33:20.038Z"
   },
   {
    "duration": 13,
    "start_time": "2021-12-28T12:33:20.462Z"
   },
   {
    "duration": 1752,
    "start_time": "2021-12-28T12:33:20.478Z"
   },
   {
    "duration": 26,
    "start_time": "2021-12-28T12:33:22.233Z"
   },
   {
    "duration": 34,
    "start_time": "2021-12-28T12:33:22.262Z"
   },
   {
    "duration": 2261,
    "start_time": "2021-12-28T12:33:22.298Z"
   },
   {
    "duration": 564,
    "start_time": "2021-12-28T12:33:24.562Z"
   },
   {
    "duration": 508,
    "start_time": "2021-12-28T12:33:25.129Z"
   },
   {
    "duration": 638,
    "start_time": "2021-12-28T12:33:25.640Z"
   },
   {
    "duration": 508,
    "start_time": "2021-12-28T12:33:26.282Z"
   },
   {
    "duration": 71,
    "start_time": "2021-12-28T12:33:26.793Z"
   },
   {
    "duration": 11,
    "start_time": "2021-12-28T12:33:26.868Z"
   },
   {
    "duration": 11,
    "start_time": "2021-12-28T12:33:26.881Z"
   },
   {
    "duration": 32,
    "start_time": "2021-12-28T12:33:26.895Z"
   },
   {
    "duration": 10376,
    "start_time": "2021-12-28T12:33:26.959Z"
   },
   {
    "duration": 55,
    "start_time": "2021-12-28T12:35:26.357Z"
   },
   {
    "duration": 117,
    "start_time": "2021-12-28T12:36:54.948Z"
   },
   {
    "duration": 445,
    "start_time": "2021-12-28T12:37:14.294Z"
   },
   {
    "duration": 10139,
    "start_time": "2021-12-28T12:38:50.913Z"
   },
   {
    "duration": 219,
    "start_time": "2021-12-28T12:39:26.762Z"
   },
   {
    "duration": 145,
    "start_time": "2021-12-28T12:39:35.941Z"
   },
   {
    "duration": 16,
    "start_time": "2021-12-28T12:39:36.089Z"
   },
   {
    "duration": 129,
    "start_time": "2021-12-28T12:39:36.108Z"
   },
   {
    "duration": 38,
    "start_time": "2021-12-28T12:39:36.240Z"
   },
   {
    "duration": 8,
    "start_time": "2021-12-28T12:39:36.280Z"
   },
   {
    "duration": 4,
    "start_time": "2021-12-28T12:39:36.290Z"
   },
   {
    "duration": 7,
    "start_time": "2021-12-28T12:39:36.296Z"
   },
   {
    "duration": 9,
    "start_time": "2021-12-28T12:39:36.306Z"
   },
   {
    "duration": 27,
    "start_time": "2021-12-28T12:39:36.359Z"
   },
   {
    "duration": 11,
    "start_time": "2021-12-28T12:39:36.389Z"
   },
   {
    "duration": 6,
    "start_time": "2021-12-28T12:39:36.403Z"
   },
   {
    "duration": 47,
    "start_time": "2021-12-28T12:39:36.412Z"
   },
   {
    "duration": 19,
    "start_time": "2021-12-28T12:39:36.462Z"
   },
   {
    "duration": 5,
    "start_time": "2021-12-28T12:39:36.484Z"
   },
   {
    "duration": 28,
    "start_time": "2021-12-28T12:39:36.492Z"
   },
   {
    "duration": 65,
    "start_time": "2021-12-28T12:39:36.523Z"
   },
   {
    "duration": 19,
    "start_time": "2021-12-28T12:39:36.590Z"
   },
   {
    "duration": 5,
    "start_time": "2021-12-28T12:39:36.611Z"
   },
   {
    "duration": 887,
    "start_time": "2021-12-28T12:39:36.618Z"
   },
   {
    "duration": 5,
    "start_time": "2021-12-28T12:39:37.508Z"
   },
   {
    "duration": 7,
    "start_time": "2021-12-28T12:39:37.516Z"
   },
   {
    "duration": 57,
    "start_time": "2021-12-28T12:39:37.526Z"
   },
   {
    "duration": 514,
    "start_time": "2021-12-28T12:39:37.588Z"
   },
   {
    "duration": 504,
    "start_time": "2021-12-28T12:39:38.105Z"
   },
   {
    "duration": 428,
    "start_time": "2021-12-28T12:39:38.612Z"
   },
   {
    "duration": 431,
    "start_time": "2021-12-28T12:39:39.042Z"
   },
   {
    "duration": 12,
    "start_time": "2021-12-28T12:39:39.476Z"
   },
   {
    "duration": 1556,
    "start_time": "2021-12-28T12:39:39.490Z"
   },
   {
    "duration": 17,
    "start_time": "2021-12-28T12:39:41.048Z"
   },
   {
    "duration": 21,
    "start_time": "2021-12-28T12:39:41.068Z"
   },
   {
    "duration": 1473,
    "start_time": "2021-12-28T12:39:41.092Z"
   },
   {
    "duration": 439,
    "start_time": "2021-12-28T12:39:42.568Z"
   },
   {
    "duration": 341,
    "start_time": "2021-12-28T12:39:43.010Z"
   },
   {
    "duration": 331,
    "start_time": "2021-12-28T12:39:43.358Z"
   },
   {
    "duration": 332,
    "start_time": "2021-12-28T12:39:43.692Z"
   },
   {
    "duration": 52,
    "start_time": "2021-12-28T12:39:44.026Z"
   },
   {
    "duration": 10,
    "start_time": "2021-12-28T12:39:44.081Z"
   },
   {
    "duration": 13,
    "start_time": "2021-12-28T12:39:44.093Z"
   },
   {
    "duration": 9012,
    "start_time": "2021-12-28T12:39:44.109Z"
   },
   {
    "duration": 44,
    "start_time": "2021-12-28T12:41:46.241Z"
   },
   {
    "duration": 117,
    "start_time": "2021-12-28T12:42:56.501Z"
   },
   {
    "duration": 53,
    "start_time": "2021-12-28T12:44:10.968Z"
   },
   {
    "duration": 39,
    "start_time": "2021-12-28T12:44:19.111Z"
   },
   {
    "duration": 545,
    "start_time": "2021-12-28T12:46:17.011Z"
   },
   {
    "duration": 429,
    "start_time": "2021-12-28T12:47:26.032Z"
   },
   {
    "duration": 354,
    "start_time": "2021-12-28T12:47:38.663Z"
   },
   {
    "duration": 340,
    "start_time": "2021-12-28T12:47:50.643Z"
   },
   {
    "duration": 123,
    "start_time": "2021-12-28T12:48:04.264Z"
   },
   {
    "duration": 397,
    "start_time": "2021-12-28T12:48:11.739Z"
   },
   {
    "duration": 490,
    "start_time": "2021-12-28T12:48:51.069Z"
   },
   {
    "duration": 341,
    "start_time": "2021-12-28T12:50:03.721Z"
   },
   {
    "duration": 375,
    "start_time": "2021-12-28T12:50:56.987Z"
   },
   {
    "duration": 333,
    "start_time": "2021-12-28T12:51:29.755Z"
   },
   {
    "duration": 295,
    "start_time": "2021-12-28T12:52:19.944Z"
   },
   {
    "duration": 320,
    "start_time": "2021-12-28T12:52:30.976Z"
   },
   {
    "duration": 306,
    "start_time": "2021-12-28T12:52:52.153Z"
   },
   {
    "duration": 321,
    "start_time": "2021-12-28T12:53:28.610Z"
   },
   {
    "duration": 333,
    "start_time": "2021-12-28T12:55:51.437Z"
   },
   {
    "duration": 286,
    "start_time": "2021-12-28T12:56:56.094Z"
   },
   {
    "duration": 773,
    "start_time": "2021-12-28T13:01:51.525Z"
   },
   {
    "duration": 491,
    "start_time": "2021-12-28T13:02:08.217Z"
   },
   {
    "duration": 736,
    "start_time": "2021-12-28T13:02:15.116Z"
   },
   {
    "duration": 478,
    "start_time": "2021-12-28T13:03:32.359Z"
   },
   {
    "duration": 482,
    "start_time": "2021-12-28T13:03:42.954Z"
   },
   {
    "duration": 643,
    "start_time": "2021-12-28T13:04:04.335Z"
   },
   {
    "duration": 622,
    "start_time": "2021-12-28T13:04:17.401Z"
   },
   {
    "duration": 477,
    "start_time": "2021-12-28T13:04:50.514Z"
   },
   {
    "duration": 440,
    "start_time": "2021-12-28T13:06:04.409Z"
   },
   {
    "duration": 24,
    "start_time": "2021-12-28T13:09:12.984Z"
   },
   {
    "duration": 147,
    "start_time": "2021-12-28T13:09:15.426Z"
   },
   {
    "duration": 17,
    "start_time": "2021-12-28T13:09:15.577Z"
   },
   {
    "duration": 125,
    "start_time": "2021-12-28T13:09:15.597Z"
   },
   {
    "duration": 42,
    "start_time": "2021-12-28T13:09:15.725Z"
   },
   {
    "duration": 8,
    "start_time": "2021-12-28T13:09:15.770Z"
   },
   {
    "duration": 4,
    "start_time": "2021-12-28T13:09:15.781Z"
   },
   {
    "duration": 7,
    "start_time": "2021-12-28T13:09:15.788Z"
   },
   {
    "duration": 8,
    "start_time": "2021-12-28T13:09:15.797Z"
   },
   {
    "duration": 67,
    "start_time": "2021-12-28T13:09:15.809Z"
   },
   {
    "duration": 10,
    "start_time": "2021-12-28T13:09:15.879Z"
   },
   {
    "duration": 7,
    "start_time": "2021-12-28T13:09:15.891Z"
   },
   {
    "duration": 12,
    "start_time": "2021-12-28T13:09:15.902Z"
   },
   {
    "duration": 58,
    "start_time": "2021-12-28T13:09:15.916Z"
   },
   {
    "duration": 4,
    "start_time": "2021-12-28T13:09:15.976Z"
   },
   {
    "duration": 31,
    "start_time": "2021-12-28T13:09:15.982Z"
   },
   {
    "duration": 55,
    "start_time": "2021-12-28T13:09:16.015Z"
   },
   {
    "duration": 17,
    "start_time": "2021-12-28T13:09:16.073Z"
   },
   {
    "duration": 4,
    "start_time": "2021-12-28T13:09:16.092Z"
   },
   {
    "duration": 977,
    "start_time": "2021-12-28T13:09:16.098Z"
   },
   {
    "duration": 5,
    "start_time": "2021-12-28T13:09:17.077Z"
   },
   {
    "duration": 10,
    "start_time": "2021-12-28T13:09:17.085Z"
   },
   {
    "duration": 34,
    "start_time": "2021-12-28T13:09:17.097Z"
   },
   {
    "duration": 526,
    "start_time": "2021-12-28T13:09:17.133Z"
   },
   {
    "duration": 487,
    "start_time": "2021-12-28T13:09:17.661Z"
   },
   {
    "duration": 424,
    "start_time": "2021-12-28T13:09:18.151Z"
   },
   {
    "duration": 496,
    "start_time": "2021-12-28T13:09:18.577Z"
   },
   {
    "duration": 12,
    "start_time": "2021-12-28T13:09:19.079Z"
   },
   {
    "duration": 1414,
    "start_time": "2021-12-28T13:09:19.094Z"
   },
   {
    "duration": 8,
    "start_time": "2021-12-28T13:09:20.510Z"
   },
   {
    "duration": 43,
    "start_time": "2021-12-28T13:09:20.520Z"
   },
   {
    "duration": 1375,
    "start_time": "2021-12-28T13:09:20.565Z"
   },
   {
    "duration": 521,
    "start_time": "2021-12-28T13:09:21.943Z"
   },
   {
    "duration": 327,
    "start_time": "2021-12-28T13:09:22.468Z"
   },
   {
    "duration": 331,
    "start_time": "2021-12-28T13:09:22.798Z"
   },
   {
    "duration": 358,
    "start_time": "2021-12-28T13:09:23.132Z"
   },
   {
    "duration": 35,
    "start_time": "2021-12-28T13:09:23.493Z"
   },
   {
    "duration": 30,
    "start_time": "2021-12-28T13:09:23.530Z"
   },
   {
    "duration": 10,
    "start_time": "2021-12-28T13:09:23.563Z"
   },
   {
    "duration": 377,
    "start_time": "2021-12-28T13:09:23.576Z"
   },
   {
    "duration": 331,
    "start_time": "2021-12-28T13:09:23.960Z"
   },
   {
    "duration": 133,
    "start_time": "2021-12-28T13:09:24.294Z"
   },
   {
    "duration": 12,
    "start_time": "2021-12-28T13:13:49.867Z"
   },
   {
    "duration": 552,
    "start_time": "2021-12-28T13:15:18.620Z"
   },
   {
    "duration": 10,
    "start_time": "2021-12-28T13:15:35.144Z"
   },
   {
    "duration": 44,
    "start_time": "2021-12-28T13:15:49.118Z"
   },
   {
    "duration": 586,
    "start_time": "2021-12-28T13:16:14.258Z"
   },
   {
    "duration": 498,
    "start_time": "2021-12-28T13:16:46.073Z"
   },
   {
    "duration": 778,
    "start_time": "2021-12-28T14:59:03.209Z"
   },
   {
    "duration": 14,
    "start_time": "2021-12-28T14:59:03.989Z"
   },
   {
    "duration": 87,
    "start_time": "2021-12-28T14:59:04.006Z"
   },
   {
    "duration": 22,
    "start_time": "2021-12-28T14:59:04.095Z"
   },
   {
    "duration": 7,
    "start_time": "2021-12-28T14:59:04.119Z"
   },
   {
    "duration": 7,
    "start_time": "2021-12-28T14:59:04.128Z"
   },
   {
    "duration": 9,
    "start_time": "2021-12-28T14:59:04.136Z"
   },
   {
    "duration": 11,
    "start_time": "2021-12-28T14:59:04.147Z"
   },
   {
    "duration": 18,
    "start_time": "2021-12-28T14:59:04.191Z"
   },
   {
    "duration": 7,
    "start_time": "2021-12-28T14:59:04.211Z"
   },
   {
    "duration": 9,
    "start_time": "2021-12-28T14:59:04.220Z"
   },
   {
    "duration": 5,
    "start_time": "2021-12-28T14:59:04.231Z"
   },
   {
    "duration": 54,
    "start_time": "2021-12-28T14:59:04.238Z"
   },
   {
    "duration": 2,
    "start_time": "2021-12-28T14:59:04.294Z"
   },
   {
    "duration": 21,
    "start_time": "2021-12-28T14:59:04.298Z"
   },
   {
    "duration": 20,
    "start_time": "2021-12-28T14:59:04.321Z"
   },
   {
    "duration": 49,
    "start_time": "2021-12-28T14:59:04.342Z"
   },
   {
    "duration": 4,
    "start_time": "2021-12-28T14:59:04.393Z"
   },
   {
    "duration": 509,
    "start_time": "2021-12-28T14:59:04.399Z"
   },
   {
    "duration": 4,
    "start_time": "2021-12-28T14:59:04.910Z"
   },
   {
    "duration": 15,
    "start_time": "2021-12-28T14:59:04.915Z"
   },
   {
    "duration": 26,
    "start_time": "2021-12-28T14:59:04.932Z"
   },
   {
    "duration": 409,
    "start_time": "2021-12-28T14:59:04.961Z"
   },
   {
    "duration": 346,
    "start_time": "2021-12-28T14:59:05.374Z"
   },
   {
    "duration": 301,
    "start_time": "2021-12-28T14:59:05.722Z"
   },
   {
    "duration": 343,
    "start_time": "2021-12-28T14:59:06.025Z"
   },
   {
    "duration": 9,
    "start_time": "2021-12-28T14:59:06.370Z"
   },
   {
    "duration": 917,
    "start_time": "2021-12-28T14:59:06.391Z"
   },
   {
    "duration": 8,
    "start_time": "2021-12-28T14:59:07.309Z"
   },
   {
    "duration": 17,
    "start_time": "2021-12-28T14:59:07.318Z"
   },
   {
    "duration": 974,
    "start_time": "2021-12-28T14:59:07.337Z"
   },
   {
    "duration": 264,
    "start_time": "2021-12-28T14:59:08.313Z"
   },
   {
    "duration": 333,
    "start_time": "2021-12-28T14:59:08.580Z"
   },
   {
    "duration": 228,
    "start_time": "2021-12-28T14:59:08.915Z"
   },
   {
    "duration": 249,
    "start_time": "2021-12-28T14:59:09.145Z"
   },
   {
    "duration": 28,
    "start_time": "2021-12-28T14:59:09.397Z"
   },
   {
    "duration": 9,
    "start_time": "2021-12-28T14:59:09.427Z"
   },
   {
    "duration": 9,
    "start_time": "2021-12-28T14:59:09.438Z"
   },
   {
    "duration": 265,
    "start_time": "2021-12-28T14:59:09.449Z"
   },
   {
    "duration": 214,
    "start_time": "2021-12-28T14:59:09.716Z"
   },
   {
    "duration": 22,
    "start_time": "2021-12-28T14:59:09.931Z"
   },
   {
    "duration": 399,
    "start_time": "2021-12-28T14:59:09.955Z"
   },
   {
    "duration": 23,
    "start_time": "2021-12-28T15:00:31.862Z"
   },
   {
    "duration": 101,
    "start_time": "2021-12-28T15:00:40.837Z"
   },
   {
    "duration": 10,
    "start_time": "2021-12-28T15:00:40.940Z"
   },
   {
    "duration": 97,
    "start_time": "2021-12-28T15:00:40.952Z"
   },
   {
    "duration": 19,
    "start_time": "2021-12-28T15:00:41.051Z"
   },
   {
    "duration": 21,
    "start_time": "2021-12-28T15:00:41.072Z"
   },
   {
    "duration": 5,
    "start_time": "2021-12-28T15:00:41.095Z"
   },
   {
    "duration": 6,
    "start_time": "2021-12-28T15:00:41.102Z"
   },
   {
    "duration": 6,
    "start_time": "2021-12-28T15:00:41.111Z"
   },
   {
    "duration": 14,
    "start_time": "2021-12-28T15:00:41.119Z"
   },
   {
    "duration": 6,
    "start_time": "2021-12-28T15:00:41.134Z"
   },
   {
    "duration": 53,
    "start_time": "2021-12-28T15:00:41.142Z"
   },
   {
    "duration": 5,
    "start_time": "2021-12-28T15:00:41.197Z"
   },
   {
    "duration": 14,
    "start_time": "2021-12-28T15:00:41.204Z"
   },
   {
    "duration": 7,
    "start_time": "2021-12-28T15:00:41.219Z"
   },
   {
    "duration": 19,
    "start_time": "2021-12-28T15:00:41.228Z"
   },
   {
    "duration": 55,
    "start_time": "2021-12-28T15:00:41.249Z"
   },
   {
    "duration": 13,
    "start_time": "2021-12-28T15:00:41.306Z"
   },
   {
    "duration": 4,
    "start_time": "2021-12-28T15:00:41.321Z"
   },
   {
    "duration": 525,
    "start_time": "2021-12-28T15:00:41.327Z"
   },
   {
    "duration": 6,
    "start_time": "2021-12-28T15:00:41.854Z"
   },
   {
    "duration": 6,
    "start_time": "2021-12-28T15:00:41.862Z"
   },
   {
    "duration": 50,
    "start_time": "2021-12-28T15:00:41.870Z"
   },
   {
    "duration": 368,
    "start_time": "2021-12-28T15:00:41.925Z"
   },
   {
    "duration": 411,
    "start_time": "2021-12-28T15:00:42.296Z"
   },
   {
    "duration": 296,
    "start_time": "2021-12-28T15:00:42.710Z"
   },
   {
    "duration": 360,
    "start_time": "2021-12-28T15:00:43.008Z"
   },
   {
    "duration": 8,
    "start_time": "2021-12-28T15:00:43.370Z"
   },
   {
    "duration": 956,
    "start_time": "2021-12-28T15:00:43.380Z"
   },
   {
    "duration": 6,
    "start_time": "2021-12-28T15:00:44.339Z"
   },
   {
    "duration": 20,
    "start_time": "2021-12-28T15:00:44.347Z"
   },
   {
    "duration": 1076,
    "start_time": "2021-12-28T15:00:44.369Z"
   },
   {
    "duration": 238,
    "start_time": "2021-12-28T15:00:45.447Z"
   },
   {
    "duration": 226,
    "start_time": "2021-12-28T15:00:45.686Z"
   },
   {
    "duration": 329,
    "start_time": "2021-12-28T15:00:45.914Z"
   },
   {
    "duration": 234,
    "start_time": "2021-12-28T15:00:46.245Z"
   },
   {
    "duration": 29,
    "start_time": "2021-12-28T15:00:46.481Z"
   },
   {
    "duration": 19,
    "start_time": "2021-12-28T15:00:46.513Z"
   },
   {
    "duration": 28,
    "start_time": "2021-12-28T15:00:46.535Z"
   },
   {
    "duration": 254,
    "start_time": "2021-12-28T15:00:46.565Z"
   },
   {
    "duration": 214,
    "start_time": "2021-12-28T15:00:46.821Z"
   },
   {
    "duration": 24,
    "start_time": "2021-12-28T15:00:47.036Z"
   },
   {
    "duration": 346,
    "start_time": "2021-12-28T15:00:47.062Z"
   },
   {
    "duration": 11,
    "start_time": "2021-12-28T15:02:31.763Z"
   },
   {
    "duration": 352,
    "start_time": "2021-12-28T15:03:50.446Z"
   },
   {
    "duration": 341,
    "start_time": "2021-12-28T15:08:22.390Z"
   },
   {
    "duration": 11,
    "start_time": "2021-12-28T15:09:46.326Z"
   },
   {
    "duration": 9,
    "start_time": "2021-12-28T15:10:00.372Z"
   },
   {
    "duration": 9,
    "start_time": "2021-12-28T15:10:09.692Z"
   },
   {
    "duration": 7,
    "start_time": "2021-12-28T15:10:09.746Z"
   },
   {
    "duration": 96,
    "start_time": "2021-12-28T15:12:19.543Z"
   },
   {
    "duration": 23,
    "start_time": "2021-12-28T15:12:42.984Z"
   },
   {
    "duration": 85,
    "start_time": "2021-12-28T15:13:05.364Z"
   },
   {
    "duration": 10,
    "start_time": "2021-12-28T15:13:05.451Z"
   },
   {
    "duration": 91,
    "start_time": "2021-12-28T15:13:05.463Z"
   },
   {
    "duration": 19,
    "start_time": "2021-12-28T15:13:05.556Z"
   },
   {
    "duration": 16,
    "start_time": "2021-12-28T15:13:05.577Z"
   },
   {
    "duration": 4,
    "start_time": "2021-12-28T15:13:05.595Z"
   },
   {
    "duration": 9,
    "start_time": "2021-12-28T15:13:05.601Z"
   },
   {
    "duration": 7,
    "start_time": "2021-12-28T15:13:05.611Z"
   },
   {
    "duration": 14,
    "start_time": "2021-12-28T15:13:05.621Z"
   },
   {
    "duration": 6,
    "start_time": "2021-12-28T15:13:05.637Z"
   },
   {
    "duration": 49,
    "start_time": "2021-12-28T15:13:05.645Z"
   },
   {
    "duration": 5,
    "start_time": "2021-12-28T15:13:05.696Z"
   },
   {
    "duration": 22,
    "start_time": "2021-12-28T15:13:05.703Z"
   },
   {
    "duration": 18,
    "start_time": "2021-12-28T15:13:05.726Z"
   },
   {
    "duration": 19,
    "start_time": "2021-12-28T15:13:05.746Z"
   },
   {
    "duration": 33,
    "start_time": "2021-12-28T15:13:05.767Z"
   },
   {
    "duration": 3,
    "start_time": "2021-12-28T15:13:05.802Z"
   },
   {
    "duration": 578,
    "start_time": "2021-12-28T15:13:05.807Z"
   },
   {
    "duration": 4,
    "start_time": "2021-12-28T15:13:06.387Z"
   },
   {
    "duration": 6,
    "start_time": "2021-12-28T15:13:06.393Z"
   },
   {
    "duration": 20,
    "start_time": "2021-12-28T15:13:06.401Z"
   },
   {
    "duration": 326,
    "start_time": "2021-12-28T15:13:06.422Z"
   },
   {
    "duration": 343,
    "start_time": "2021-12-28T15:13:06.750Z"
   },
   {
    "duration": 286,
    "start_time": "2021-12-28T15:13:07.095Z"
   },
   {
    "duration": 318,
    "start_time": "2021-12-28T15:13:07.382Z"
   },
   {
    "duration": 9,
    "start_time": "2021-12-28T15:13:07.701Z"
   },
   {
    "duration": 913,
    "start_time": "2021-12-28T15:13:07.713Z"
   },
   {
    "duration": 7,
    "start_time": "2021-12-28T15:13:08.628Z"
   },
   {
    "duration": 22,
    "start_time": "2021-12-28T15:13:08.637Z"
   },
   {
    "duration": 1024,
    "start_time": "2021-12-28T15:13:08.661Z"
   },
   {
    "duration": 245,
    "start_time": "2021-12-28T15:13:09.687Z"
   },
   {
    "duration": 220,
    "start_time": "2021-12-28T15:13:09.934Z"
   },
   {
    "duration": 228,
    "start_time": "2021-12-28T15:13:10.156Z"
   },
   {
    "duration": 226,
    "start_time": "2021-12-28T15:13:10.386Z"
   },
   {
    "duration": 22,
    "start_time": "2021-12-28T15:13:10.613Z"
   },
   {
    "duration": 7,
    "start_time": "2021-12-28T15:13:10.637Z"
   },
   {
    "duration": 7,
    "start_time": "2021-12-28T15:13:10.646Z"
   },
   {
    "duration": 255,
    "start_time": "2021-12-28T15:13:10.655Z"
   },
   {
    "duration": 203,
    "start_time": "2021-12-28T15:13:10.912Z"
   },
   {
    "duration": 23,
    "start_time": "2021-12-28T15:13:11.117Z"
   },
   {
    "duration": 323,
    "start_time": "2021-12-28T15:13:11.142Z"
   },
   {
    "duration": 318,
    "start_time": "2021-12-28T15:17:09.450Z"
   },
   {
    "duration": 410,
    "start_time": "2021-12-28T15:17:27.421Z"
   },
   {
    "duration": 444,
    "start_time": "2021-12-28T15:17:51.290Z"
   },
   {
    "duration": 442,
    "start_time": "2021-12-28T15:22:13.987Z"
   },
   {
    "duration": 342,
    "start_time": "2021-12-28T15:22:26.481Z"
   },
   {
    "duration": 321,
    "start_time": "2021-12-28T15:23:17.931Z"
   },
   {
    "duration": 344,
    "start_time": "2021-12-28T15:23:36.486Z"
   },
   {
    "duration": 431,
    "start_time": "2021-12-28T15:24:34.067Z"
   },
   {
    "duration": 33,
    "start_time": "2021-12-28T15:25:12.973Z"
   },
   {
    "duration": 89,
    "start_time": "2021-12-28T15:25:23.313Z"
   },
   {
    "duration": 11,
    "start_time": "2021-12-28T15:25:23.405Z"
   },
   {
    "duration": 97,
    "start_time": "2021-12-28T15:25:23.418Z"
   },
   {
    "duration": 18,
    "start_time": "2021-12-28T15:25:23.518Z"
   },
   {
    "duration": 5,
    "start_time": "2021-12-28T15:25:23.538Z"
   },
   {
    "duration": 4,
    "start_time": "2021-12-28T15:25:23.544Z"
   },
   {
    "duration": 10,
    "start_time": "2021-12-28T15:25:23.549Z"
   },
   {
    "duration": 34,
    "start_time": "2021-12-28T15:25:23.561Z"
   },
   {
    "duration": 17,
    "start_time": "2021-12-28T15:25:23.602Z"
   },
   {
    "duration": 6,
    "start_time": "2021-12-28T15:25:23.622Z"
   },
   {
    "duration": 7,
    "start_time": "2021-12-28T15:25:23.629Z"
   },
   {
    "duration": 4,
    "start_time": "2021-12-28T15:25:23.638Z"
   },
   {
    "duration": 62,
    "start_time": "2021-12-28T15:25:23.644Z"
   },
   {
    "duration": 17,
    "start_time": "2021-12-28T15:25:23.710Z"
   },
   {
    "duration": 18,
    "start_time": "2021-12-28T15:25:23.728Z"
   },
   {
    "duration": 11,
    "start_time": "2021-12-28T15:25:23.748Z"
   },
   {
    "duration": 3,
    "start_time": "2021-12-28T15:25:23.760Z"
   },
   {
    "duration": 566,
    "start_time": "2021-12-28T15:25:23.765Z"
   },
   {
    "duration": 4,
    "start_time": "2021-12-28T15:25:24.332Z"
   },
   {
    "duration": 6,
    "start_time": "2021-12-28T15:25:24.338Z"
   },
   {
    "duration": 21,
    "start_time": "2021-12-28T15:25:24.345Z"
   },
   {
    "duration": 387,
    "start_time": "2021-12-28T15:25:24.368Z"
   },
   {
    "duration": 396,
    "start_time": "2021-12-28T15:25:24.757Z"
   },
   {
    "duration": 297,
    "start_time": "2021-12-28T15:25:25.154Z"
   },
   {
    "duration": 343,
    "start_time": "2021-12-28T15:25:25.453Z"
   },
   {
    "duration": 14,
    "start_time": "2021-12-28T15:25:25.799Z"
   },
   {
    "duration": 1156,
    "start_time": "2021-12-28T15:25:25.819Z"
   },
   {
    "duration": 6,
    "start_time": "2021-12-28T15:25:26.978Z"
   },
   {
    "duration": 24,
    "start_time": "2021-12-28T15:25:26.998Z"
   },
   {
    "duration": 1017,
    "start_time": "2021-12-28T15:25:27.023Z"
   },
   {
    "duration": 266,
    "start_time": "2021-12-28T15:25:28.041Z"
   },
   {
    "duration": 255,
    "start_time": "2021-12-28T15:25:28.310Z"
   },
   {
    "duration": 247,
    "start_time": "2021-12-28T15:25:28.567Z"
   },
   {
    "duration": 253,
    "start_time": "2021-12-28T15:25:28.816Z"
   },
   {
    "duration": 40,
    "start_time": "2021-12-28T15:25:29.070Z"
   },
   {
    "duration": 11,
    "start_time": "2021-12-28T15:25:29.111Z"
   },
   {
    "duration": 21,
    "start_time": "2021-12-28T15:25:29.124Z"
   },
   {
    "duration": 265,
    "start_time": "2021-12-28T15:25:29.147Z"
   },
   {
    "duration": 229,
    "start_time": "2021-12-28T15:25:29.414Z"
   },
   {
    "duration": 23,
    "start_time": "2021-12-28T15:25:29.645Z"
   },
   {
    "duration": 445,
    "start_time": "2021-12-28T15:25:29.670Z"
   },
   {
    "duration": 370,
    "start_time": "2021-12-28T15:25:30.117Z"
   },
   {
    "duration": 437,
    "start_time": "2021-12-28T15:25:30.488Z"
   },
   {
    "duration": 292,
    "start_time": "2021-12-28T15:26:37.704Z"
   },
   {
    "duration": 60,
    "start_time": "2021-12-28T15:27:40.379Z"
   },
   {
    "duration": 332,
    "start_time": "2021-12-28T15:28:38.759Z"
   },
   {
    "duration": 329,
    "start_time": "2021-12-28T15:29:01.442Z"
   },
   {
    "duration": 308,
    "start_time": "2021-12-28T15:29:25.779Z"
   },
   {
    "duration": 203,
    "start_time": "2021-12-28T15:32:03.299Z"
   },
   {
    "duration": 261,
    "start_time": "2021-12-28T15:32:51.327Z"
   },
   {
    "duration": 212,
    "start_time": "2021-12-28T15:32:58.758Z"
   },
   {
    "duration": 56,
    "start_time": "2021-12-28T15:36:59.513Z"
   },
   {
    "duration": 246,
    "start_time": "2021-12-28T15:38:14.854Z"
   },
   {
    "duration": 221,
    "start_time": "2021-12-28T15:38:55.718Z"
   },
   {
    "duration": 204,
    "start_time": "2021-12-28T15:39:14.194Z"
   },
   {
    "duration": 203,
    "start_time": "2021-12-28T15:39:33.399Z"
   },
   {
    "duration": 227,
    "start_time": "2021-12-28T15:41:29.953Z"
   },
   {
    "duration": 90,
    "start_time": "2021-12-28T15:44:14.643Z"
   },
   {
    "duration": 10,
    "start_time": "2021-12-28T15:44:14.735Z"
   },
   {
    "duration": 90,
    "start_time": "2021-12-28T15:44:14.748Z"
   },
   {
    "duration": 20,
    "start_time": "2021-12-28T15:44:14.840Z"
   },
   {
    "duration": 8,
    "start_time": "2021-12-28T15:44:14.861Z"
   },
   {
    "duration": 20,
    "start_time": "2021-12-28T15:44:14.871Z"
   },
   {
    "duration": 18,
    "start_time": "2021-12-28T15:44:14.893Z"
   },
   {
    "duration": 6,
    "start_time": "2021-12-28T15:44:14.913Z"
   },
   {
    "duration": 16,
    "start_time": "2021-12-28T15:44:14.922Z"
   },
   {
    "duration": 7,
    "start_time": "2021-12-28T15:44:14.941Z"
   },
   {
    "duration": 41,
    "start_time": "2021-12-28T15:44:14.950Z"
   },
   {
    "duration": 6,
    "start_time": "2021-12-28T15:44:14.993Z"
   },
   {
    "duration": 28,
    "start_time": "2021-12-28T15:44:15.004Z"
   },
   {
    "duration": 20,
    "start_time": "2021-12-28T15:44:15.034Z"
   },
   {
    "duration": 18,
    "start_time": "2021-12-28T15:44:15.055Z"
   },
   {
    "duration": 25,
    "start_time": "2021-12-28T15:44:15.075Z"
   },
   {
    "duration": 4,
    "start_time": "2021-12-28T15:44:15.101Z"
   },
   {
    "duration": 648,
    "start_time": "2021-12-28T15:44:15.106Z"
   },
   {
    "duration": 4,
    "start_time": "2021-12-28T15:44:15.756Z"
   },
   {
    "duration": 7,
    "start_time": "2021-12-28T15:44:15.761Z"
   },
   {
    "duration": 28,
    "start_time": "2021-12-28T15:44:15.769Z"
   },
   {
    "duration": 338,
    "start_time": "2021-12-28T15:44:15.799Z"
   },
   {
    "duration": 341,
    "start_time": "2021-12-28T15:44:16.139Z"
   },
   {
    "duration": 289,
    "start_time": "2021-12-28T15:44:16.482Z"
   },
   {
    "duration": 312,
    "start_time": "2021-12-28T15:44:16.773Z"
   },
   {
    "duration": 12,
    "start_time": "2021-12-28T15:44:17.086Z"
   },
   {
    "duration": 900,
    "start_time": "2021-12-28T15:44:17.102Z"
   },
   {
    "duration": 6,
    "start_time": "2021-12-28T15:44:18.004Z"
   },
   {
    "duration": 35,
    "start_time": "2021-12-28T15:44:18.012Z"
   },
   {
    "duration": 913,
    "start_time": "2021-12-28T15:44:18.049Z"
   },
   {
    "duration": 401,
    "start_time": "2021-12-28T15:44:18.964Z"
   },
   {
    "duration": 217,
    "start_time": "2021-12-28T15:44:19.367Z"
   },
   {
    "duration": 223,
    "start_time": "2021-12-28T15:44:19.586Z"
   },
   {
    "duration": 224,
    "start_time": "2021-12-28T15:44:19.811Z"
   },
   {
    "duration": 25,
    "start_time": "2021-12-28T15:44:20.037Z"
   },
   {
    "duration": 28,
    "start_time": "2021-12-28T15:44:20.064Z"
   },
   {
    "duration": 10,
    "start_time": "2021-12-28T15:44:20.094Z"
   },
   {
    "duration": 287,
    "start_time": "2021-12-28T15:44:20.106Z"
   },
   {
    "duration": 210,
    "start_time": "2021-12-28T15:44:20.395Z"
   },
   {
    "duration": 25,
    "start_time": "2021-12-28T15:44:20.607Z"
   },
   {
    "duration": 408,
    "start_time": "2021-12-28T15:44:20.634Z"
   },
   {
    "duration": 408,
    "start_time": "2021-12-28T15:44:21.044Z"
   },
   {
    "duration": 276,
    "start_time": "2021-12-28T15:44:21.453Z"
   },
   {
    "duration": 319,
    "start_time": "2021-12-28T15:44:21.731Z"
   },
   {
    "duration": 219,
    "start_time": "2021-12-28T15:44:22.052Z"
   },
   {
    "duration": 209,
    "start_time": "2021-12-28T15:45:58.159Z"
   },
   {
    "duration": 6,
    "start_time": "2021-12-28T15:46:26.252Z"
   },
   {
    "duration": 5,
    "start_time": "2021-12-28T15:46:46.420Z"
   },
   {
    "duration": 1723,
    "start_time": "2021-12-28T15:47:45.348Z"
   },
   {
    "duration": 387,
    "start_time": "2021-12-29T07:40:34.090Z"
   },
   {
    "duration": 393,
    "start_time": "2021-12-29T07:40:47.744Z"
   },
   {
    "duration": 386,
    "start_time": "2021-12-29T07:42:20.531Z"
   },
   {
    "duration": 331,
    "start_time": "2021-12-29T07:42:35.077Z"
   },
   {
    "duration": 341,
    "start_time": "2021-12-29T07:43:39.514Z"
   },
   {
    "duration": 323,
    "start_time": "2021-12-29T07:44:48.620Z"
   },
   {
    "duration": 861,
    "start_time": "2021-12-29T07:45:15.959Z"
   },
   {
    "duration": 11,
    "start_time": "2021-12-29T07:45:16.821Z"
   },
   {
    "duration": 95,
    "start_time": "2021-12-29T07:45:16.834Z"
   },
   {
    "duration": 18,
    "start_time": "2021-12-29T07:45:16.931Z"
   },
   {
    "duration": 11,
    "start_time": "2021-12-29T07:45:16.950Z"
   },
   {
    "duration": 16,
    "start_time": "2021-12-29T07:45:16.963Z"
   },
   {
    "duration": 9,
    "start_time": "2021-12-29T07:45:16.981Z"
   },
   {
    "duration": 9,
    "start_time": "2021-12-29T07:45:16.993Z"
   },
   {
    "duration": 33,
    "start_time": "2021-12-29T07:45:17.004Z"
   },
   {
    "duration": 5,
    "start_time": "2021-12-29T07:45:17.039Z"
   },
   {
    "duration": 20,
    "start_time": "2021-12-29T07:45:17.046Z"
   },
   {
    "duration": 6,
    "start_time": "2021-12-29T07:45:17.068Z"
   },
   {
    "duration": 26,
    "start_time": "2021-12-29T07:45:17.075Z"
   },
   {
    "duration": 24,
    "start_time": "2021-12-29T07:45:17.102Z"
   },
   {
    "duration": 39,
    "start_time": "2021-12-29T07:45:17.128Z"
   },
   {
    "duration": 12,
    "start_time": "2021-12-29T07:45:17.169Z"
   },
   {
    "duration": 3,
    "start_time": "2021-12-29T07:45:17.182Z"
   },
   {
    "duration": 484,
    "start_time": "2021-12-29T07:45:17.187Z"
   },
   {
    "duration": 4,
    "start_time": "2021-12-29T07:45:17.673Z"
   },
   {
    "duration": 7,
    "start_time": "2021-12-29T07:45:17.678Z"
   },
   {
    "duration": 21,
    "start_time": "2021-12-29T07:45:17.686Z"
   },
   {
    "duration": 405,
    "start_time": "2021-12-29T07:45:17.709Z"
   },
   {
    "duration": 376,
    "start_time": "2021-12-29T07:45:18.118Z"
   },
   {
    "duration": 371,
    "start_time": "2021-12-29T07:45:18.497Z"
   },
   {
    "duration": 417,
    "start_time": "2021-12-29T07:45:18.870Z"
   },
   {
    "duration": 8,
    "start_time": "2021-12-29T07:45:19.289Z"
   },
   {
    "duration": 838,
    "start_time": "2021-12-29T07:45:19.299Z"
   },
   {
    "duration": 6,
    "start_time": "2021-12-29T07:45:20.139Z"
   },
   {
    "duration": 45,
    "start_time": "2021-12-29T07:45:20.147Z"
   },
   {
    "duration": 1038,
    "start_time": "2021-12-29T07:45:20.194Z"
   },
   {
    "duration": 322,
    "start_time": "2021-12-29T07:45:21.234Z"
   },
   {
    "duration": 6,
    "start_time": "2021-12-29T07:45:21.558Z"
   },
   {
    "duration": 195,
    "start_time": "2021-12-29T07:45:21.566Z"
   },
   {
    "duration": 6,
    "start_time": "2021-12-29T07:45:21.763Z"
   },
   {
    "duration": 484,
    "start_time": "2021-12-29T07:45:21.770Z"
   },
   {
    "duration": 411,
    "start_time": "2021-12-29T07:45:22.256Z"
   },
   {
    "duration": 193,
    "start_time": "2021-12-29T07:45:22.668Z"
   },
   {
    "duration": 202,
    "start_time": "2021-12-29T07:45:22.863Z"
   },
   {
    "duration": 202,
    "start_time": "2021-12-29T07:45:23.066Z"
   },
   {
    "duration": 33,
    "start_time": "2021-12-29T07:45:23.270Z"
   },
   {
    "duration": 23,
    "start_time": "2021-12-29T07:45:23.305Z"
   },
   {
    "duration": 7,
    "start_time": "2021-12-29T07:45:23.329Z"
   },
   {
    "duration": 224,
    "start_time": "2021-12-29T07:45:23.338Z"
   },
   {
    "duration": 191,
    "start_time": "2021-12-29T07:45:23.563Z"
   },
   {
    "duration": 22,
    "start_time": "2021-12-29T07:45:23.756Z"
   },
   {
    "duration": 296,
    "start_time": "2021-12-29T07:45:23.779Z"
   },
   {
    "duration": 409,
    "start_time": "2021-12-29T07:45:24.077Z"
   },
   {
    "duration": 263,
    "start_time": "2021-12-29T07:45:24.488Z"
   },
   {
    "duration": 375,
    "start_time": "2021-12-29T07:45:24.752Z"
   },
   {
    "duration": 189,
    "start_time": "2021-12-29T07:45:25.128Z"
   },
   {
    "duration": 9,
    "start_time": "2021-12-29T07:45:25.319Z"
   },
   {
    "duration": 8,
    "start_time": "2021-12-29T08:07:51.012Z"
   },
   {
    "duration": 7,
    "start_time": "2021-12-29T08:08:20.817Z"
   },
   {
    "duration": 7,
    "start_time": "2021-12-29T08:10:29.547Z"
   },
   {
    "duration": 13,
    "start_time": "2021-12-29T08:11:55.684Z"
   },
   {
    "duration": 19,
    "start_time": "2021-12-29T08:14:02.054Z"
   },
   {
    "duration": 5,
    "start_time": "2021-12-29T08:14:25.276Z"
   },
   {
    "duration": 5,
    "start_time": "2021-12-29T08:17:47.633Z"
   },
   {
    "duration": 4,
    "start_time": "2021-12-29T08:18:00.228Z"
   },
   {
    "duration": 5,
    "start_time": "2021-12-29T08:18:27.855Z"
   },
   {
    "duration": 101,
    "start_time": "2021-12-29T08:42:17.527Z"
   },
   {
    "duration": 12,
    "start_time": "2021-12-29T08:42:17.630Z"
   },
   {
    "duration": 95,
    "start_time": "2021-12-29T08:42:17.644Z"
   },
   {
    "duration": 19,
    "start_time": "2021-12-29T08:42:17.741Z"
   },
   {
    "duration": 5,
    "start_time": "2021-12-29T08:42:17.762Z"
   },
   {
    "duration": 4,
    "start_time": "2021-12-29T08:42:17.768Z"
   },
   {
    "duration": 7,
    "start_time": "2021-12-29T08:42:17.774Z"
   },
   {
    "duration": 6,
    "start_time": "2021-12-29T08:42:17.784Z"
   },
   {
    "duration": 6,
    "start_time": "2021-12-29T08:42:17.792Z"
   },
   {
    "duration": 28,
    "start_time": "2021-12-29T08:42:17.800Z"
   },
   {
    "duration": 8,
    "start_time": "2021-12-29T08:42:17.831Z"
   },
   {
    "duration": 9,
    "start_time": "2021-12-29T08:42:17.841Z"
   },
   {
    "duration": 14,
    "start_time": "2021-12-29T08:42:17.852Z"
   },
   {
    "duration": 16,
    "start_time": "2021-12-29T08:42:17.868Z"
   },
   {
    "duration": 5,
    "start_time": "2021-12-29T08:42:17.886Z"
   },
   {
    "duration": 36,
    "start_time": "2021-12-29T08:42:17.893Z"
   },
   {
    "duration": 5,
    "start_time": "2021-12-29T08:42:17.931Z"
   },
   {
    "duration": 22,
    "start_time": "2021-12-29T08:42:17.938Z"
   },
   {
    "duration": 3,
    "start_time": "2021-12-29T08:42:17.962Z"
   },
   {
    "duration": 506,
    "start_time": "2021-12-29T08:42:17.967Z"
   },
   {
    "duration": 3,
    "start_time": "2021-12-29T08:42:18.475Z"
   },
   {
    "duration": 7,
    "start_time": "2021-12-29T08:42:18.480Z"
   },
   {
    "duration": 22,
    "start_time": "2021-12-29T08:42:18.490Z"
   },
   {
    "duration": 296,
    "start_time": "2021-12-29T08:42:18.514Z"
   },
   {
    "duration": 302,
    "start_time": "2021-12-29T08:42:18.811Z"
   },
   {
    "duration": 263,
    "start_time": "2021-12-29T08:42:19.114Z"
   },
   {
    "duration": 362,
    "start_time": "2021-12-29T08:42:19.379Z"
   },
   {
    "duration": 8,
    "start_time": "2021-12-29T08:42:19.743Z"
   },
   {
    "duration": 996,
    "start_time": "2021-12-29T08:42:19.752Z"
   },
   {
    "duration": 7,
    "start_time": "2021-12-29T08:42:20.750Z"
   },
   {
    "duration": 21,
    "start_time": "2021-12-29T08:42:20.759Z"
   },
   {
    "duration": 799,
    "start_time": "2021-12-29T08:42:20.782Z"
   },
   {
    "duration": 187,
    "start_time": "2021-12-29T08:42:21.583Z"
   },
   {
    "duration": 4,
    "start_time": "2021-12-29T08:42:21.772Z"
   },
   {
    "duration": 241,
    "start_time": "2021-12-29T08:42:21.778Z"
   },
   {
    "duration": 10,
    "start_time": "2021-12-29T08:42:22.021Z"
   },
   {
    "duration": 658,
    "start_time": "2021-12-29T08:42:22.032Z"
   },
   {
    "duration": 285,
    "start_time": "2021-12-29T08:42:22.692Z"
   },
   {
    "duration": 294,
    "start_time": "2021-12-29T08:42:22.979Z"
   },
   {
    "duration": 212,
    "start_time": "2021-12-29T08:42:23.275Z"
   },
   {
    "duration": 194,
    "start_time": "2021-12-29T08:42:23.489Z"
   },
   {
    "duration": 22,
    "start_time": "2021-12-29T08:42:23.685Z"
   },
   {
    "duration": 6,
    "start_time": "2021-12-29T08:42:23.709Z"
   },
   {
    "duration": 6,
    "start_time": "2021-12-29T08:42:23.728Z"
   },
   {
    "duration": 215,
    "start_time": "2021-12-29T08:42:23.735Z"
   },
   {
    "duration": 187,
    "start_time": "2021-12-29T08:42:23.952Z"
   },
   {
    "duration": 24,
    "start_time": "2021-12-29T08:42:24.141Z"
   },
   {
    "duration": 328,
    "start_time": "2021-12-29T08:42:24.167Z"
   },
   {
    "duration": 292,
    "start_time": "2021-12-29T08:42:24.497Z"
   },
   {
    "duration": 257,
    "start_time": "2021-12-29T08:42:24.791Z"
   },
   {
    "duration": 371,
    "start_time": "2021-12-29T08:42:25.050Z"
   },
   {
    "duration": 197,
    "start_time": "2021-12-29T08:42:25.422Z"
   },
   {
    "duration": 9,
    "start_time": "2021-12-29T08:42:25.620Z"
   },
   {
    "duration": 89,
    "start_time": "2021-12-29T08:45:22.458Z"
   },
   {
    "duration": 12,
    "start_time": "2021-12-29T08:45:22.550Z"
   },
   {
    "duration": 108,
    "start_time": "2021-12-29T08:45:22.565Z"
   },
   {
    "duration": 58,
    "start_time": "2021-12-29T08:45:22.676Z"
   },
   {
    "duration": 7,
    "start_time": "2021-12-29T08:45:22.736Z"
   },
   {
    "duration": 9,
    "start_time": "2021-12-29T08:45:22.744Z"
   },
   {
    "duration": 11,
    "start_time": "2021-12-29T08:45:22.755Z"
   },
   {
    "duration": 7,
    "start_time": "2021-12-29T08:45:22.769Z"
   },
   {
    "duration": 17,
    "start_time": "2021-12-29T08:45:22.778Z"
   },
   {
    "duration": 6,
    "start_time": "2021-12-29T08:45:22.796Z"
   },
   {
    "duration": 6,
    "start_time": "2021-12-29T08:45:22.803Z"
   },
   {
    "duration": 11,
    "start_time": "2021-12-29T08:45:22.828Z"
   },
   {
    "duration": 18,
    "start_time": "2021-12-29T08:45:22.841Z"
   },
   {
    "duration": 20,
    "start_time": "2021-12-29T08:45:22.861Z"
   },
   {
    "duration": 9,
    "start_time": "2021-12-29T08:45:22.883Z"
   },
   {
    "duration": 8,
    "start_time": "2021-12-29T08:45:22.893Z"
   },
   {
    "duration": 8,
    "start_time": "2021-12-29T08:45:22.903Z"
   },
   {
    "duration": 29,
    "start_time": "2021-12-29T08:45:22.913Z"
   },
   {
    "duration": 6,
    "start_time": "2021-12-29T08:45:22.944Z"
   },
   {
    "duration": 660,
    "start_time": "2021-12-29T08:45:22.952Z"
   },
   {
    "duration": 4,
    "start_time": "2021-12-29T08:45:23.613Z"
   },
   {
    "duration": 11,
    "start_time": "2021-12-29T08:45:23.618Z"
   },
   {
    "duration": 19,
    "start_time": "2021-12-29T08:45:23.633Z"
   },
   {
    "duration": 387,
    "start_time": "2021-12-29T08:45:23.654Z"
   },
   {
    "duration": 351,
    "start_time": "2021-12-29T08:45:24.044Z"
   },
   {
    "duration": 291,
    "start_time": "2021-12-29T08:45:24.397Z"
   },
   {
    "duration": 306,
    "start_time": "2021-12-29T08:45:24.690Z"
   },
   {
    "duration": 11,
    "start_time": "2021-12-29T08:45:24.998Z"
   },
   {
    "duration": 929,
    "start_time": "2021-12-29T08:45:25.011Z"
   },
   {
    "duration": 7,
    "start_time": "2021-12-29T08:45:25.942Z"
   },
   {
    "duration": 22,
    "start_time": "2021-12-29T08:45:25.951Z"
   },
   {
    "duration": 1033,
    "start_time": "2021-12-29T08:45:25.975Z"
   },
   {
    "duration": 217,
    "start_time": "2021-12-29T08:45:27.010Z"
   },
   {
    "duration": 6,
    "start_time": "2021-12-29T08:45:27.228Z"
   },
   {
    "duration": 238,
    "start_time": "2021-12-29T08:45:27.236Z"
   },
   {
    "duration": 7,
    "start_time": "2021-12-29T08:45:27.476Z"
   },
   {
    "duration": 510,
    "start_time": "2021-12-29T08:45:27.485Z"
   },
   {
    "duration": 318,
    "start_time": "2021-12-29T08:45:27.997Z"
   },
   {
    "duration": 205,
    "start_time": "2021-12-29T08:45:28.316Z"
   },
   {
    "duration": 230,
    "start_time": "2021-12-29T08:45:28.528Z"
   },
   {
    "duration": 239,
    "start_time": "2021-12-29T08:45:28.759Z"
   },
   {
    "duration": 42,
    "start_time": "2021-12-29T08:45:29.000Z"
   },
   {
    "duration": 11,
    "start_time": "2021-12-29T08:45:29.050Z"
   },
   {
    "duration": 11,
    "start_time": "2021-12-29T08:45:29.063Z"
   },
   {
    "duration": 269,
    "start_time": "2021-12-29T08:45:29.075Z"
   },
   {
    "duration": 207,
    "start_time": "2021-12-29T08:45:29.346Z"
   },
   {
    "duration": 29,
    "start_time": "2021-12-29T08:45:29.555Z"
   },
   {
    "duration": 317,
    "start_time": "2021-12-29T08:45:29.586Z"
   },
   {
    "duration": 386,
    "start_time": "2021-12-29T08:45:29.905Z"
   },
   {
    "duration": 437,
    "start_time": "2021-12-29T08:45:30.293Z"
   },
   {
    "duration": 364,
    "start_time": "2021-12-29T08:45:30.732Z"
   },
   {
    "duration": 198,
    "start_time": "2021-12-29T08:45:31.097Z"
   },
   {
    "duration": 6,
    "start_time": "2021-12-29T08:45:31.297Z"
   },
   {
    "duration": 20,
    "start_time": "2021-12-29T08:46:52.625Z"
   },
   {
    "duration": 90,
    "start_time": "2021-12-29T08:49:46.875Z"
   },
   {
    "duration": 11,
    "start_time": "2021-12-29T08:49:46.967Z"
   },
   {
    "duration": 92,
    "start_time": "2021-12-29T08:49:46.980Z"
   },
   {
    "duration": 18,
    "start_time": "2021-12-29T08:49:47.075Z"
   },
   {
    "duration": 7,
    "start_time": "2021-12-29T08:49:47.095Z"
   },
   {
    "duration": 24,
    "start_time": "2021-12-29T08:49:47.103Z"
   },
   {
    "duration": 6,
    "start_time": "2021-12-29T08:49:47.129Z"
   },
   {
    "duration": 7,
    "start_time": "2021-12-29T08:49:47.138Z"
   },
   {
    "duration": 5,
    "start_time": "2021-12-29T08:49:47.147Z"
   },
   {
    "duration": 6,
    "start_time": "2021-12-29T08:49:47.154Z"
   },
   {
    "duration": 9,
    "start_time": "2021-12-29T08:49:47.161Z"
   },
   {
    "duration": 12,
    "start_time": "2021-12-29T08:49:47.171Z"
   },
   {
    "duration": 19,
    "start_time": "2021-12-29T08:49:47.185Z"
   },
   {
    "duration": 34,
    "start_time": "2021-12-29T08:49:47.206Z"
   },
   {
    "duration": 6,
    "start_time": "2021-12-29T08:49:47.241Z"
   },
   {
    "duration": 6,
    "start_time": "2021-12-29T08:49:47.248Z"
   },
   {
    "duration": 4,
    "start_time": "2021-12-29T08:49:47.255Z"
   },
   {
    "duration": 12,
    "start_time": "2021-12-29T08:49:47.261Z"
   },
   {
    "duration": 2,
    "start_time": "2021-12-29T08:49:47.275Z"
   },
   {
    "duration": 514,
    "start_time": "2021-12-29T08:49:47.279Z"
   },
   {
    "duration": 4,
    "start_time": "2021-12-29T08:49:47.795Z"
   },
   {
    "duration": 7,
    "start_time": "2021-12-29T08:49:47.800Z"
   },
   {
    "duration": 29,
    "start_time": "2021-12-29T08:49:47.810Z"
   },
   {
    "duration": 361,
    "start_time": "2021-12-29T08:49:47.841Z"
   },
   {
    "duration": 306,
    "start_time": "2021-12-29T08:49:48.204Z"
   },
   {
    "duration": 252,
    "start_time": "2021-12-29T08:49:48.511Z"
   },
   {
    "duration": 313,
    "start_time": "2021-12-29T08:49:48.765Z"
   },
   {
    "duration": 9,
    "start_time": "2021-12-29T08:49:49.079Z"
   },
   {
    "duration": 941,
    "start_time": "2021-12-29T08:49:49.089Z"
   },
   {
    "duration": 6,
    "start_time": "2021-12-29T08:49:50.032Z"
   },
   {
    "duration": 19,
    "start_time": "2021-12-29T08:49:50.039Z"
   },
   {
    "duration": 795,
    "start_time": "2021-12-29T08:49:50.060Z"
   },
   {
    "duration": 199,
    "start_time": "2021-12-29T08:49:50.857Z"
   },
   {
    "duration": 5,
    "start_time": "2021-12-29T08:49:51.058Z"
   },
   {
    "duration": 198,
    "start_time": "2021-12-29T08:49:51.064Z"
   },
   {
    "duration": 5,
    "start_time": "2021-12-29T08:49:51.264Z"
   },
   {
    "duration": 497,
    "start_time": "2021-12-29T08:49:51.270Z"
   },
   {
    "duration": 300,
    "start_time": "2021-12-29T08:49:51.770Z"
   },
   {
    "duration": 187,
    "start_time": "2021-12-29T08:49:52.072Z"
   },
   {
    "duration": 210,
    "start_time": "2021-12-29T08:49:52.261Z"
   },
   {
    "duration": 340,
    "start_time": "2021-12-29T08:49:52.473Z"
   },
   {
    "duration": 36,
    "start_time": "2021-12-29T08:49:52.815Z"
   },
   {
    "duration": 9,
    "start_time": "2021-12-29T08:49:52.853Z"
   },
   {
    "duration": 10,
    "start_time": "2021-12-29T08:49:52.864Z"
   },
   {
    "duration": 217,
    "start_time": "2021-12-29T08:49:52.876Z"
   },
   {
    "duration": 250,
    "start_time": "2021-12-29T08:49:53.094Z"
   },
   {
    "duration": 26,
    "start_time": "2021-12-29T08:49:53.346Z"
   },
   {
    "duration": 292,
    "start_time": "2021-12-29T08:49:53.374Z"
   },
   {
    "duration": 307,
    "start_time": "2021-12-29T08:49:53.668Z"
   },
   {
    "duration": 237,
    "start_time": "2021-12-29T08:49:53.977Z"
   },
   {
    "duration": 435,
    "start_time": "2021-12-29T08:49:54.216Z"
   },
   {
    "duration": 267,
    "start_time": "2021-12-29T08:49:54.652Z"
   },
   {
    "duration": 10,
    "start_time": "2021-12-29T08:49:54.921Z"
   },
   {
    "duration": 218,
    "start_time": "2021-12-29T08:52:59.371Z"
   },
   {
    "duration": 200,
    "start_time": "2021-12-29T08:54:08.831Z"
   },
   {
    "duration": 370,
    "start_time": "2021-12-29T09:04:40.693Z"
   },
   {
    "duration": 355,
    "start_time": "2021-12-29T09:04:59.671Z"
   },
   {
    "duration": 193,
    "start_time": "2021-12-29T09:06:10.762Z"
   },
   {
    "duration": 420,
    "start_time": "2021-12-29T09:09:41.529Z"
   },
   {
    "duration": 432,
    "start_time": "2021-12-29T09:10:35.112Z"
   },
   {
    "duration": 430,
    "start_time": "2021-12-29T09:10:42.924Z"
   },
   {
    "duration": 189,
    "start_time": "2021-12-29T09:11:06.447Z"
   },
   {
    "duration": 169,
    "start_time": "2021-12-29T09:15:18.518Z"
   },
   {
    "duration": 163,
    "start_time": "2021-12-29T09:15:29.247Z"
   },
   {
    "duration": 167,
    "start_time": "2021-12-29T09:15:45.937Z"
   },
   {
    "duration": 164,
    "start_time": "2021-12-29T09:17:25.492Z"
   },
   {
    "duration": 23,
    "start_time": "2021-12-29T09:20:29.400Z"
   },
   {
    "duration": 10,
    "start_time": "2021-12-29T09:20:42.307Z"
   },
   {
    "duration": 8,
    "start_time": "2021-12-29T09:20:44.857Z"
   },
   {
    "duration": 371,
    "start_time": "2021-12-29T09:23:40.549Z"
   },
   {
    "duration": 194,
    "start_time": "2021-12-29T09:25:32.082Z"
   },
   {
    "duration": 83,
    "start_time": "2021-12-29T09:25:41.978Z"
   },
   {
    "duration": 10,
    "start_time": "2021-12-29T09:25:42.062Z"
   },
   {
    "duration": 75,
    "start_time": "2021-12-29T09:25:42.074Z"
   },
   {
    "duration": 18,
    "start_time": "2021-12-29T09:25:42.151Z"
   },
   {
    "duration": 5,
    "start_time": "2021-12-29T09:25:42.171Z"
   },
   {
    "duration": 4,
    "start_time": "2021-12-29T09:25:42.177Z"
   },
   {
    "duration": 5,
    "start_time": "2021-12-29T09:25:42.182Z"
   },
   {
    "duration": 6,
    "start_time": "2021-12-29T09:25:42.190Z"
   },
   {
    "duration": 34,
    "start_time": "2021-12-29T09:25:42.198Z"
   },
   {
    "duration": 3,
    "start_time": "2021-12-29T09:25:42.234Z"
   },
   {
    "duration": 7,
    "start_time": "2021-12-29T09:25:42.239Z"
   },
   {
    "duration": 5,
    "start_time": "2021-12-29T09:25:42.248Z"
   },
   {
    "duration": 13,
    "start_time": "2021-12-29T09:25:42.255Z"
   },
   {
    "duration": 15,
    "start_time": "2021-12-29T09:25:42.269Z"
   },
   {
    "duration": 4,
    "start_time": "2021-12-29T09:25:42.286Z"
   },
   {
    "duration": 36,
    "start_time": "2021-12-29T09:25:42.292Z"
   },
   {
    "duration": 4,
    "start_time": "2021-12-29T09:25:42.329Z"
   },
   {
    "duration": 16,
    "start_time": "2021-12-29T09:25:42.334Z"
   },
   {
    "duration": 2,
    "start_time": "2021-12-29T09:25:42.352Z"
   },
   {
    "duration": 563,
    "start_time": "2021-12-29T09:25:42.355Z"
   },
   {
    "duration": 4,
    "start_time": "2021-12-29T09:25:42.919Z"
   },
   {
    "duration": 4,
    "start_time": "2021-12-29T09:25:42.927Z"
   },
   {
    "duration": 20,
    "start_time": "2021-12-29T09:25:42.935Z"
   },
   {
    "duration": 304,
    "start_time": "2021-12-29T09:25:42.957Z"
   },
   {
    "duration": 402,
    "start_time": "2021-12-29T09:25:43.262Z"
   },
   {
    "duration": 265,
    "start_time": "2021-12-29T09:25:43.666Z"
   },
   {
    "duration": 297,
    "start_time": "2021-12-29T09:25:43.933Z"
   },
   {
    "duration": 8,
    "start_time": "2021-12-29T09:25:44.231Z"
   },
   {
    "duration": 841,
    "start_time": "2021-12-29T09:25:44.240Z"
   },
   {
    "duration": 6,
    "start_time": "2021-12-29T09:25:45.082Z"
   },
   {
    "duration": 37,
    "start_time": "2021-12-29T09:25:45.090Z"
   },
   {
    "duration": 1042,
    "start_time": "2021-12-29T09:25:45.128Z"
   },
   {
    "duration": 189,
    "start_time": "2021-12-29T09:25:46.172Z"
   },
   {
    "duration": 5,
    "start_time": "2021-12-29T09:25:46.362Z"
   },
   {
    "duration": 198,
    "start_time": "2021-12-29T09:25:46.368Z"
   },
   {
    "duration": 4,
    "start_time": "2021-12-29T09:25:46.568Z"
   },
   {
    "duration": 477,
    "start_time": "2021-12-29T09:25:46.574Z"
   },
   {
    "duration": 177,
    "start_time": "2021-12-29T09:25:47.053Z"
   },
   {
    "duration": 107,
    "start_time": "2021-12-29T09:25:47.232Z"
   },
   {
    "duration": 15617,
    "start_time": "2021-12-29T09:25:31.724Z"
   },
   {
    "duration": 15615,
    "start_time": "2021-12-29T09:25:31.726Z"
   },
   {
    "duration": 15614,
    "start_time": "2021-12-29T09:25:31.729Z"
   },
   {
    "duration": 15612,
    "start_time": "2021-12-29T09:25:31.732Z"
   },
   {
    "duration": 15610,
    "start_time": "2021-12-29T09:25:31.734Z"
   },
   {
    "duration": 15608,
    "start_time": "2021-12-29T09:25:31.737Z"
   },
   {
    "duration": 15607,
    "start_time": "2021-12-29T09:25:31.739Z"
   },
   {
    "duration": 15606,
    "start_time": "2021-12-29T09:25:31.741Z"
   },
   {
    "duration": 15605,
    "start_time": "2021-12-29T09:25:31.743Z"
   },
   {
    "duration": 15603,
    "start_time": "2021-12-29T09:25:31.745Z"
   },
   {
    "duration": 15602,
    "start_time": "2021-12-29T09:25:31.747Z"
   },
   {
    "duration": 15600,
    "start_time": "2021-12-29T09:25:31.750Z"
   },
   {
    "duration": 15599,
    "start_time": "2021-12-29T09:25:31.752Z"
   },
   {
    "duration": 15597,
    "start_time": "2021-12-29T09:25:31.755Z"
   },
   {
    "duration": 15596,
    "start_time": "2021-12-29T09:25:31.757Z"
   },
   {
    "duration": 15593,
    "start_time": "2021-12-29T09:25:31.760Z"
   },
   {
    "duration": 78,
    "start_time": "2021-12-29T09:37:13.359Z"
   },
   {
    "duration": 9,
    "start_time": "2021-12-29T09:37:13.439Z"
   },
   {
    "duration": 57,
    "start_time": "2021-12-29T09:37:13.450Z"
   },
   {
    "duration": 34,
    "start_time": "2021-12-29T09:37:13.509Z"
   },
   {
    "duration": 5,
    "start_time": "2021-12-29T09:37:13.544Z"
   },
   {
    "duration": 4,
    "start_time": "2021-12-29T09:37:13.550Z"
   },
   {
    "duration": 8,
    "start_time": "2021-12-29T09:37:13.555Z"
   },
   {
    "duration": 6,
    "start_time": "2021-12-29T09:37:13.566Z"
   },
   {
    "duration": 7,
    "start_time": "2021-12-29T09:37:13.574Z"
   },
   {
    "duration": 3,
    "start_time": "2021-12-29T09:37:13.582Z"
   },
   {
    "duration": 43,
    "start_time": "2021-12-29T09:37:13.586Z"
   },
   {
    "duration": 6,
    "start_time": "2021-12-29T09:37:13.631Z"
   },
   {
    "duration": 11,
    "start_time": "2021-12-29T09:37:13.639Z"
   },
   {
    "duration": 16,
    "start_time": "2021-12-29T09:37:13.652Z"
   },
   {
    "duration": 5,
    "start_time": "2021-12-29T09:37:13.670Z"
   },
   {
    "duration": 5,
    "start_time": "2021-12-29T09:37:13.677Z"
   },
   {
    "duration": 5,
    "start_time": "2021-12-29T09:37:13.683Z"
   },
   {
    "duration": 12,
    "start_time": "2021-12-29T09:37:13.727Z"
   },
   {
    "duration": 3,
    "start_time": "2021-12-29T09:37:13.741Z"
   },
   {
    "duration": 456,
    "start_time": "2021-12-29T09:37:13.746Z"
   },
   {
    "duration": 4,
    "start_time": "2021-12-29T09:37:14.204Z"
   },
   {
    "duration": 7,
    "start_time": "2021-12-29T09:37:14.210Z"
   },
   {
    "duration": 23,
    "start_time": "2021-12-29T09:37:14.220Z"
   },
   {
    "duration": 287,
    "start_time": "2021-12-29T09:37:14.245Z"
   },
   {
    "duration": 284,
    "start_time": "2021-12-29T09:37:14.533Z"
   },
   {
    "duration": 236,
    "start_time": "2021-12-29T09:37:14.818Z"
   },
   {
    "duration": 263,
    "start_time": "2021-12-29T09:37:15.055Z"
   },
   {
    "duration": 13,
    "start_time": "2021-12-29T09:37:15.319Z"
   },
   {
    "duration": 944,
    "start_time": "2021-12-29T09:37:15.334Z"
   },
   {
    "duration": 6,
    "start_time": "2021-12-29T09:37:16.280Z"
   },
   {
    "duration": 18,
    "start_time": "2021-12-29T09:37:16.288Z"
   },
   {
    "duration": 777,
    "start_time": "2021-12-29T09:37:16.308Z"
   },
   {
    "duration": 195,
    "start_time": "2021-12-29T09:37:17.087Z"
   },
   {
    "duration": 4,
    "start_time": "2021-12-29T09:37:17.283Z"
   },
   {
    "duration": 189,
    "start_time": "2021-12-29T09:37:17.289Z"
   },
   {
    "duration": 5,
    "start_time": "2021-12-29T09:37:17.479Z"
   },
   {
    "duration": 471,
    "start_time": "2021-12-29T09:37:17.485Z"
   },
   {
    "duration": 184,
    "start_time": "2021-12-29T09:37:17.958Z"
   },
   {
    "duration": 178,
    "start_time": "2021-12-29T09:37:18.143Z"
   },
   {
    "duration": 186,
    "start_time": "2021-12-29T09:37:18.323Z"
   },
   {
    "duration": 185,
    "start_time": "2021-12-29T09:37:18.511Z"
   },
   {
    "duration": 30,
    "start_time": "2021-12-29T09:37:18.698Z"
   },
   {
    "duration": 7,
    "start_time": "2021-12-29T09:37:18.729Z"
   },
   {
    "duration": 9,
    "start_time": "2021-12-29T09:37:18.737Z"
   },
   {
    "duration": 139,
    "start_time": "2021-12-29T09:37:18.748Z"
   },
   {
    "duration": 15631,
    "start_time": "2021-12-29T09:37:03.258Z"
   },
   {
    "duration": 15626,
    "start_time": "2021-12-29T09:37:03.264Z"
   },
   {
    "duration": 15625,
    "start_time": "2021-12-29T09:37:03.266Z"
   },
   {
    "duration": 15623,
    "start_time": "2021-12-29T09:37:03.269Z"
   },
   {
    "duration": 15622,
    "start_time": "2021-12-29T09:37:03.271Z"
   },
   {
    "duration": 15620,
    "start_time": "2021-12-29T09:37:03.274Z"
   },
   {
    "duration": 15618,
    "start_time": "2021-12-29T09:37:03.277Z"
   },
   {
    "duration": 15617,
    "start_time": "2021-12-29T09:37:03.279Z"
   },
   {
    "duration": 15615,
    "start_time": "2021-12-29T09:37:03.282Z"
   },
   {
    "duration": 88,
    "start_time": "2021-12-29T09:41:07.109Z"
   },
   {
    "duration": 37,
    "start_time": "2021-12-29T09:41:07.199Z"
   },
   {
    "duration": 62,
    "start_time": "2021-12-29T09:41:07.238Z"
   },
   {
    "duration": 41,
    "start_time": "2021-12-29T09:41:07.302Z"
   },
   {
    "duration": 7,
    "start_time": "2021-12-29T09:41:07.345Z"
   },
   {
    "duration": 6,
    "start_time": "2021-12-29T09:41:07.353Z"
   },
   {
    "duration": 6,
    "start_time": "2021-12-29T09:41:07.361Z"
   },
   {
    "duration": 9,
    "start_time": "2021-12-29T09:41:07.370Z"
   },
   {
    "duration": 7,
    "start_time": "2021-12-29T09:41:07.382Z"
   },
   {
    "duration": 3,
    "start_time": "2021-12-29T09:41:07.390Z"
   },
   {
    "duration": 5,
    "start_time": "2021-12-29T09:41:07.427Z"
   },
   {
    "duration": 7,
    "start_time": "2021-12-29T09:41:07.433Z"
   },
   {
    "duration": 12,
    "start_time": "2021-12-29T09:41:07.441Z"
   },
   {
    "duration": 17,
    "start_time": "2021-12-29T09:41:07.455Z"
   },
   {
    "duration": 4,
    "start_time": "2021-12-29T09:41:07.473Z"
   },
   {
    "duration": 7,
    "start_time": "2021-12-29T09:41:07.479Z"
   },
   {
    "duration": 5,
    "start_time": "2021-12-29T09:41:07.488Z"
   },
   {
    "duration": 12,
    "start_time": "2021-12-29T09:41:07.527Z"
   },
   {
    "duration": 3,
    "start_time": "2021-12-29T09:41:07.540Z"
   },
   {
    "duration": 457,
    "start_time": "2021-12-29T09:41:07.544Z"
   },
   {
    "duration": 4,
    "start_time": "2021-12-29T09:41:08.003Z"
   },
   {
    "duration": 9,
    "start_time": "2021-12-29T09:41:08.008Z"
   },
   {
    "duration": 23,
    "start_time": "2021-12-29T09:41:08.021Z"
   },
   {
    "duration": 293,
    "start_time": "2021-12-29T09:41:08.046Z"
   },
   {
    "duration": 298,
    "start_time": "2021-12-29T09:41:08.341Z"
   },
   {
    "duration": 382,
    "start_time": "2021-12-29T09:41:08.641Z"
   },
   {
    "duration": 324,
    "start_time": "2021-12-29T09:41:09.043Z"
   },
   {
    "duration": 8,
    "start_time": "2021-12-29T09:41:09.369Z"
   },
   {
    "duration": 978,
    "start_time": "2021-12-29T09:41:09.379Z"
   },
   {
    "duration": 6,
    "start_time": "2021-12-29T09:41:10.358Z"
   },
   {
    "duration": 17,
    "start_time": "2021-12-29T09:41:10.366Z"
   },
   {
    "duration": 765,
    "start_time": "2021-12-29T09:41:10.385Z"
   },
   {
    "duration": 194,
    "start_time": "2021-12-29T09:41:11.152Z"
   },
   {
    "duration": 4,
    "start_time": "2021-12-29T09:41:11.348Z"
   },
   {
    "duration": 193,
    "start_time": "2021-12-29T09:41:11.353Z"
   },
   {
    "duration": 5,
    "start_time": "2021-12-29T09:41:11.547Z"
   },
   {
    "duration": 458,
    "start_time": "2021-12-29T09:41:11.553Z"
   },
   {
    "duration": 176,
    "start_time": "2021-12-29T09:41:12.013Z"
   },
   {
    "duration": 180,
    "start_time": "2021-12-29T09:41:12.190Z"
   },
   {
    "duration": 179,
    "start_time": "2021-12-29T09:41:12.372Z"
   },
   {
    "duration": 187,
    "start_time": "2021-12-29T09:41:12.552Z"
   },
   {
    "duration": 21,
    "start_time": "2021-12-29T09:41:12.740Z"
   },
   {
    "duration": 6,
    "start_time": "2021-12-29T09:41:12.762Z"
   },
   {
    "duration": 9,
    "start_time": "2021-12-29T09:41:12.769Z"
   },
   {
    "duration": 213,
    "start_time": "2021-12-29T09:41:12.779Z"
   },
   {
    "duration": 23,
    "start_time": "2021-12-29T09:41:12.993Z"
   },
   {
    "duration": 269,
    "start_time": "2021-12-29T09:41:13.027Z"
   },
   {
    "duration": 285,
    "start_time": "2021-12-29T09:41:13.297Z"
   },
   {
    "duration": 222,
    "start_time": "2021-12-29T09:41:13.584Z"
   },
   {
    "duration": 265,
    "start_time": "2021-12-29T09:41:13.807Z"
   },
   {
    "duration": 182,
    "start_time": "2021-12-29T09:41:14.073Z"
   },
   {
    "duration": 4,
    "start_time": "2021-12-29T09:41:14.257Z"
   },
   {
    "duration": 193,
    "start_time": "2021-12-29T09:42:25.045Z"
   },
   {
    "duration": 364,
    "start_time": "2021-12-29T09:42:31.235Z"
   },
   {
    "duration": 166,
    "start_time": "2021-12-29T09:42:46.493Z"
   },
   {
    "duration": 167,
    "start_time": "2021-12-29T09:46:15.011Z"
   },
   {
    "duration": 165,
    "start_time": "2021-12-29T10:46:31.331Z"
   },
   {
    "duration": 154,
    "start_time": "2021-12-29T10:46:49.416Z"
   },
   {
    "duration": 153,
    "start_time": "2021-12-29T10:47:28.360Z"
   },
   {
    "duration": 350,
    "start_time": "2021-12-29T10:50:22.526Z"
   },
   {
    "duration": 308,
    "start_time": "2021-12-29T10:50:36.164Z"
   },
   {
    "duration": 240,
    "start_time": "2021-12-29T11:32:26.821Z"
   },
   {
    "duration": 211,
    "start_time": "2021-12-29T11:32:34.119Z"
   },
   {
    "duration": 492,
    "start_time": "2021-12-29T11:33:22.699Z"
   },
   {
    "duration": 516,
    "start_time": "2021-12-29T11:33:49.077Z"
   },
   {
    "duration": 230,
    "start_time": "2021-12-29T11:34:06.882Z"
   },
   {
    "duration": 118,
    "start_time": "2021-12-29T11:35:32.350Z"
   },
   {
    "duration": 415,
    "start_time": "2021-12-29T11:35:39.600Z"
   },
   {
    "duration": 366,
    "start_time": "2021-12-29T11:36:01.608Z"
   },
   {
    "duration": 1444,
    "start_time": "2021-12-29T11:37:23.919Z"
   },
   {
    "duration": 1656,
    "start_time": "2021-12-29T11:38:23.837Z"
   },
   {
    "duration": 180,
    "start_time": "2021-12-29T11:40:49.380Z"
   },
   {
    "duration": 185,
    "start_time": "2021-12-29T11:41:49.191Z"
   },
   {
    "duration": 194,
    "start_time": "2021-12-29T12:01:37.969Z"
   },
   {
    "duration": 86,
    "start_time": "2021-12-29T12:01:49.854Z"
   },
   {
    "duration": 10,
    "start_time": "2021-12-29T12:01:49.941Z"
   },
   {
    "duration": 83,
    "start_time": "2021-12-29T12:01:49.952Z"
   },
   {
    "duration": 19,
    "start_time": "2021-12-29T12:01:50.037Z"
   },
   {
    "duration": 5,
    "start_time": "2021-12-29T12:01:50.057Z"
   },
   {
    "duration": 5,
    "start_time": "2021-12-29T12:01:50.064Z"
   },
   {
    "duration": 6,
    "start_time": "2021-12-29T12:01:50.071Z"
   },
   {
    "duration": 5,
    "start_time": "2021-12-29T12:01:50.079Z"
   },
   {
    "duration": 4,
    "start_time": "2021-12-29T12:01:50.086Z"
   },
   {
    "duration": 3,
    "start_time": "2021-12-29T12:01:50.128Z"
   },
   {
    "duration": 6,
    "start_time": "2021-12-29T12:01:50.133Z"
   },
   {
    "duration": 13,
    "start_time": "2021-12-29T12:01:50.140Z"
   },
   {
    "duration": 17,
    "start_time": "2021-12-29T12:01:50.155Z"
   },
   {
    "duration": 4,
    "start_time": "2021-12-29T12:01:50.173Z"
   },
   {
    "duration": 6,
    "start_time": "2021-12-29T12:01:50.178Z"
   },
   {
    "duration": 4,
    "start_time": "2021-12-29T12:01:50.186Z"
   },
   {
    "duration": 11,
    "start_time": "2021-12-29T12:01:50.228Z"
   },
   {
    "duration": 3,
    "start_time": "2021-12-29T12:01:50.241Z"
   },
   {
    "duration": 460,
    "start_time": "2021-12-29T12:01:50.245Z"
   },
   {
    "duration": 3,
    "start_time": "2021-12-29T12:01:50.707Z"
   },
   {
    "duration": 5,
    "start_time": "2021-12-29T12:01:50.712Z"
   },
   {
    "duration": 22,
    "start_time": "2021-12-29T12:01:50.719Z"
   },
   {
    "duration": 275,
    "start_time": "2021-12-29T12:01:50.744Z"
   },
   {
    "duration": 293,
    "start_time": "2021-12-29T12:01:51.027Z"
   },
   {
    "duration": 229,
    "start_time": "2021-12-29T12:01:51.321Z"
   },
   {
    "duration": 258,
    "start_time": "2021-12-29T12:01:51.551Z"
   },
   {
    "duration": 20,
    "start_time": "2021-12-29T12:01:51.811Z"
   },
   {
    "duration": 973,
    "start_time": "2021-12-29T12:01:51.832Z"
   },
   {
    "duration": 6,
    "start_time": "2021-12-29T12:01:52.807Z"
   },
   {
    "duration": 29,
    "start_time": "2021-12-29T12:01:52.814Z"
   },
   {
    "duration": 807,
    "start_time": "2021-12-29T12:01:52.844Z"
   },
   {
    "duration": 189,
    "start_time": "2021-12-29T12:01:53.653Z"
   },
   {
    "duration": 5,
    "start_time": "2021-12-29T12:01:53.843Z"
   },
   {
    "duration": 188,
    "start_time": "2021-12-29T12:01:53.849Z"
   },
   {
    "duration": 4,
    "start_time": "2021-12-29T12:01:54.039Z"
   },
   {
    "duration": 535,
    "start_time": "2021-12-29T12:01:54.044Z"
   },
   {
    "duration": 253,
    "start_time": "2021-12-29T12:01:54.580Z"
   },
   {
    "duration": 183,
    "start_time": "2021-12-29T12:01:54.834Z"
   },
   {
    "duration": 193,
    "start_time": "2021-12-29T12:01:55.018Z"
   },
   {
    "duration": 191,
    "start_time": "2021-12-29T12:01:55.213Z"
   },
   {
    "duration": 31,
    "start_time": "2021-12-29T12:01:55.405Z"
   },
   {
    "duration": 6,
    "start_time": "2021-12-29T12:01:55.438Z"
   },
   {
    "duration": 8,
    "start_time": "2021-12-29T12:01:55.446Z"
   },
   {
    "duration": 210,
    "start_time": "2021-12-29T12:01:55.455Z"
   },
   {
    "duration": 262,
    "start_time": "2021-12-29T12:01:55.667Z"
   },
   {
    "duration": 6,
    "start_time": "2021-12-29T12:01:55.931Z"
   },
   {
    "duration": 278,
    "start_time": "2021-12-29T12:01:55.939Z"
   },
   {
    "duration": 287,
    "start_time": "2021-12-29T12:01:56.219Z"
   },
   {
    "duration": 235,
    "start_time": "2021-12-29T12:01:56.508Z"
   },
   {
    "duration": 286,
    "start_time": "2021-12-29T12:01:56.745Z"
   },
   {
    "duration": 186,
    "start_time": "2021-12-29T12:01:57.033Z"
   },
   {
    "duration": 8,
    "start_time": "2021-12-29T12:01:57.221Z"
   },
   {
    "duration": 164,
    "start_time": "2021-12-29T12:01:57.231Z"
   },
   {
    "duration": 349,
    "start_time": "2021-12-29T12:01:57.396Z"
   },
   {
    "duration": 182,
    "start_time": "2021-12-29T12:01:57.747Z"
   },
   {
    "duration": 126,
    "start_time": "2021-12-30T11:35:45.352Z"
   },
   {
    "duration": 50,
    "start_time": "2021-12-30T11:35:45.482Z"
   },
   {
    "duration": 8,
    "start_time": "2021-12-30T11:35:45.535Z"
   },
   {
    "duration": 5,
    "start_time": "2021-12-30T11:35:45.546Z"
   },
   {
    "duration": 8,
    "start_time": "2021-12-30T11:35:45.553Z"
   },
   {
    "duration": 7,
    "start_time": "2021-12-30T11:35:45.566Z"
   },
   {
    "duration": 49,
    "start_time": "2021-12-30T11:35:45.575Z"
   },
   {
    "duration": 10,
    "start_time": "2021-12-30T11:35:45.626Z"
   },
   {
    "duration": 7,
    "start_time": "2021-12-30T11:35:45.639Z"
   },
   {
    "duration": 20,
    "start_time": "2021-12-30T11:35:45.648Z"
   },
   {
    "duration": 25,
    "start_time": "2021-12-30T11:35:45.669Z"
   },
   {
    "duration": 32,
    "start_time": "2021-12-30T11:35:45.696Z"
   },
   {
    "duration": 8,
    "start_time": "2021-12-30T11:35:45.731Z"
   },
   {
    "duration": 8,
    "start_time": "2021-12-30T11:35:45.742Z"
   },
   {
    "duration": 20,
    "start_time": "2021-12-30T11:35:45.752Z"
   },
   {
    "duration": 49,
    "start_time": "2021-12-30T11:35:45.775Z"
   },
   {
    "duration": 784,
    "start_time": "2021-12-30T11:35:45.827Z"
   },
   {
    "duration": 9,
    "start_time": "2021-12-30T11:35:46.614Z"
   },
   {
    "duration": 10,
    "start_time": "2021-12-30T11:35:46.626Z"
   },
   {
    "duration": 29,
    "start_time": "2021-12-30T11:35:46.639Z"
   },
   {
    "duration": 537,
    "start_time": "2021-12-30T11:35:46.673Z"
   },
   {
    "duration": 504,
    "start_time": "2021-12-30T11:35:47.214Z"
   },
   {
    "duration": 416,
    "start_time": "2021-12-30T11:35:47.724Z"
   },
   {
    "duration": 469,
    "start_time": "2021-12-30T11:35:48.143Z"
   },
   {
    "duration": 17,
    "start_time": "2021-12-30T11:35:48.615Z"
   },
   {
    "duration": 1366,
    "start_time": "2021-12-30T11:35:48.634Z"
   },
   {
    "duration": 21,
    "start_time": "2021-12-30T11:35:50.002Z"
   },
   {
    "duration": 31,
    "start_time": "2021-12-30T11:35:50.025Z"
   },
   {
    "duration": 1318,
    "start_time": "2021-12-30T11:35:50.059Z"
   },
   {
    "duration": 396,
    "start_time": "2021-12-30T11:35:51.380Z"
   },
   {
    "duration": 7,
    "start_time": "2021-12-30T11:35:51.778Z"
   },
   {
    "duration": 353,
    "start_time": "2021-12-30T11:35:51.787Z"
   },
   {
    "duration": 7,
    "start_time": "2021-12-30T11:35:52.142Z"
   },
   {
    "duration": 721,
    "start_time": "2021-12-30T11:35:52.151Z"
   },
   {
    "duration": 333,
    "start_time": "2021-12-30T11:35:52.874Z"
   },
   {
    "duration": 352,
    "start_time": "2021-12-30T11:35:53.210Z"
   },
   {
    "duration": 337,
    "start_time": "2021-12-30T11:35:53.564Z"
   },
   {
    "duration": 322,
    "start_time": "2021-12-30T11:35:53.904Z"
   },
   {
    "duration": 51,
    "start_time": "2021-12-30T11:35:54.229Z"
   },
   {
    "duration": 39,
    "start_time": "2021-12-30T11:35:54.284Z"
   },
   {
    "duration": 12,
    "start_time": "2021-12-30T11:35:54.327Z"
   },
   {
    "duration": 440,
    "start_time": "2021-12-30T11:35:54.341Z"
   },
   {
    "duration": 334,
    "start_time": "2021-12-30T11:35:54.783Z"
   },
   {
    "duration": 11,
    "start_time": "2021-12-30T11:35:55.119Z"
   },
   {
    "duration": 690,
    "start_time": "2021-12-30T11:35:55.133Z"
   },
   {
    "duration": 666,
    "start_time": "2021-12-30T11:35:55.826Z"
   },
   {
    "duration": 392,
    "start_time": "2021-12-30T11:35:56.494Z"
   },
   {
    "duration": 462,
    "start_time": "2021-12-30T11:35:56.888Z"
   },
   {
    "duration": 313,
    "start_time": "2021-12-30T11:35:57.352Z"
   },
   {
    "duration": 7,
    "start_time": "2021-12-30T11:35:57.667Z"
   },
   {
    "duration": 280,
    "start_time": "2021-12-30T11:35:57.676Z"
   },
   {
    "duration": 677,
    "start_time": "2021-12-30T11:35:57.958Z"
   },
   {
    "duration": 355,
    "start_time": "2021-12-30T11:35:58.638Z"
   },
   {
    "duration": 908,
    "start_time": "2021-12-30T11:47:43.373Z"
   },
   {
    "duration": 14,
    "start_time": "2021-12-30T11:47:44.284Z"
   },
   {
    "duration": 104,
    "start_time": "2021-12-30T11:47:44.302Z"
   },
   {
    "duration": 35,
    "start_time": "2021-12-30T11:47:44.409Z"
   },
   {
    "duration": 7,
    "start_time": "2021-12-30T11:47:44.447Z"
   },
   {
    "duration": 6,
    "start_time": "2021-12-30T11:47:44.457Z"
   },
   {
    "duration": 6,
    "start_time": "2021-12-30T11:47:44.465Z"
   },
   {
    "duration": 48,
    "start_time": "2021-12-30T11:47:44.475Z"
   },
   {
    "duration": 6,
    "start_time": "2021-12-30T11:47:44.526Z"
   },
   {
    "duration": 10,
    "start_time": "2021-12-30T11:47:44.534Z"
   },
   {
    "duration": 7,
    "start_time": "2021-12-30T11:47:44.546Z"
   },
   {
    "duration": 19,
    "start_time": "2021-12-30T11:47:44.555Z"
   },
   {
    "duration": 54,
    "start_time": "2021-12-30T11:47:44.576Z"
   },
   {
    "duration": 6,
    "start_time": "2021-12-30T11:47:44.633Z"
   },
   {
    "duration": 8,
    "start_time": "2021-12-30T11:47:44.642Z"
   },
   {
    "duration": 12,
    "start_time": "2021-12-30T11:47:44.653Z"
   },
   {
    "duration": 55,
    "start_time": "2021-12-30T11:47:44.668Z"
   },
   {
    "duration": 6,
    "start_time": "2021-12-30T11:47:44.725Z"
   },
   {
    "duration": 749,
    "start_time": "2021-12-30T11:47:44.734Z"
   },
   {
    "duration": 5,
    "start_time": "2021-12-30T11:47:45.486Z"
   },
   {
    "duration": 8,
    "start_time": "2021-12-30T11:47:45.493Z"
   },
   {
    "duration": 45,
    "start_time": "2021-12-30T11:47:45.503Z"
   },
   {
    "duration": 522,
    "start_time": "2021-12-30T11:47:45.553Z"
   },
   {
    "duration": 493,
    "start_time": "2021-12-30T11:47:46.079Z"
   },
   {
    "duration": 406,
    "start_time": "2021-12-30T11:47:46.574Z"
   },
   {
    "duration": 515,
    "start_time": "2021-12-30T11:47:46.982Z"
   },
   {
    "duration": 10,
    "start_time": "2021-12-30T11:47:47.499Z"
   },
   {
    "duration": 1661,
    "start_time": "2021-12-30T11:47:47.511Z"
   },
   {
    "duration": 10,
    "start_time": "2021-12-30T11:47:49.175Z"
   },
   {
    "duration": 29,
    "start_time": "2021-12-30T11:47:49.188Z"
   },
   {
    "duration": 1362,
    "start_time": "2021-12-30T11:47:49.224Z"
   },
   {
    "duration": 389,
    "start_time": "2021-12-30T11:47:50.589Z"
   },
   {
    "duration": 6,
    "start_time": "2021-12-30T11:47:50.980Z"
   },
   {
    "duration": 324,
    "start_time": "2021-12-30T11:47:50.988Z"
   },
   {
    "duration": 13,
    "start_time": "2021-12-30T11:47:51.314Z"
   },
   {
    "duration": 666,
    "start_time": "2021-12-30T11:47:51.328Z"
   },
   {
    "duration": 295,
    "start_time": "2021-12-30T11:47:51.997Z"
   },
   {
    "duration": 310,
    "start_time": "2021-12-30T11:47:52.294Z"
   },
   {
    "duration": 311,
    "start_time": "2021-12-30T11:47:52.607Z"
   },
   {
    "duration": 326,
    "start_time": "2021-12-30T11:47:52.924Z"
   },
   {
    "duration": 32,
    "start_time": "2021-12-30T11:47:53.252Z"
   },
   {
    "duration": 9,
    "start_time": "2021-12-30T11:47:53.287Z"
   },
   {
    "duration": 32,
    "start_time": "2021-12-30T11:47:53.298Z"
   },
   {
    "duration": 343,
    "start_time": "2021-12-30T11:47:53.333Z"
   },
   {
    "duration": 329,
    "start_time": "2021-12-30T11:47:53.679Z"
   },
   {
    "duration": 17,
    "start_time": "2021-12-30T11:47:54.011Z"
   },
   {
    "duration": 448,
    "start_time": "2021-12-30T11:47:54.030Z"
   },
   {
    "duration": 533,
    "start_time": "2021-12-30T11:47:54.480Z"
   },
   {
    "duration": 368,
    "start_time": "2021-12-30T11:47:55.015Z"
   },
   {
    "duration": 464,
    "start_time": "2021-12-30T11:47:55.385Z"
   },
   {
    "duration": 324,
    "start_time": "2021-12-30T11:47:55.852Z"
   },
   {
    "duration": 6,
    "start_time": "2021-12-30T11:47:56.179Z"
   },
   {
    "duration": 287,
    "start_time": "2021-12-30T11:47:56.187Z"
   },
   {
    "duration": 497,
    "start_time": "2021-12-30T11:47:56.476Z"
   },
   {
    "duration": 329,
    "start_time": "2021-12-30T11:47:56.975Z"
   },
   {
    "duration": 87,
    "start_time": "2021-12-30T12:33:38.600Z"
   },
   {
    "duration": 93,
    "start_time": "2021-12-30T12:34:00.476Z"
   },
   {
    "duration": 102,
    "start_time": "2021-12-30T12:34:08.556Z"
   },
   {
    "duration": 830,
    "start_time": "2021-12-30T12:34:24.444Z"
   },
   {
    "duration": 95,
    "start_time": "2021-12-30T12:35:30.448Z"
   },
   {
    "duration": 28,
    "start_time": "2021-12-30T12:36:22.399Z"
   },
   {
    "duration": 32,
    "start_time": "2021-12-30T12:37:43.248Z"
   },
   {
    "duration": 75,
    "start_time": "2021-12-30T12:37:50.837Z"
   },
   {
    "duration": 26,
    "start_time": "2021-12-30T12:37:54.689Z"
   },
   {
    "duration": 478,
    "start_time": "2021-12-30T12:41:17.276Z"
   },
   {
    "duration": 92,
    "start_time": "2021-12-30T12:42:34.422Z"
   },
   {
    "duration": 12,
    "start_time": "2021-12-30T12:42:34.516Z"
   },
   {
    "duration": 96,
    "start_time": "2021-12-30T12:42:34.530Z"
   },
   {
    "duration": 47,
    "start_time": "2021-12-30T12:42:34.628Z"
   },
   {
    "duration": 22,
    "start_time": "2021-12-30T12:42:34.677Z"
   },
   {
    "duration": 21,
    "start_time": "2021-12-30T12:42:34.701Z"
   },
   {
    "duration": 7,
    "start_time": "2021-12-30T12:42:34.724Z"
   },
   {
    "duration": 3,
    "start_time": "2021-12-30T12:42:34.763Z"
   },
   {
    "duration": 9,
    "start_time": "2021-12-30T12:42:34.769Z"
   },
   {
    "duration": 10,
    "start_time": "2021-12-30T12:42:34.780Z"
   },
   {
    "duration": 3,
    "start_time": "2021-12-30T12:42:34.792Z"
   },
   {
    "duration": 10,
    "start_time": "2021-12-30T12:42:34.797Z"
   },
   {
    "duration": 10,
    "start_time": "2021-12-30T12:42:34.808Z"
   },
   {
    "duration": 22,
    "start_time": "2021-12-30T12:42:34.819Z"
   },
   {
    "duration": 34,
    "start_time": "2021-12-30T12:42:34.843Z"
   },
   {
    "duration": 13,
    "start_time": "2021-12-30T12:42:34.879Z"
   },
   {
    "duration": 11,
    "start_time": "2021-12-30T12:42:34.898Z"
   },
   {
    "duration": 8,
    "start_time": "2021-12-30T12:42:34.911Z"
   },
   {
    "duration": 18,
    "start_time": "2021-12-30T12:42:34.921Z"
   },
   {
    "duration": 19,
    "start_time": "2021-12-30T12:42:34.942Z"
   },
   {
    "duration": 879,
    "start_time": "2021-12-30T12:42:34.963Z"
   },
   {
    "duration": 5,
    "start_time": "2021-12-30T12:42:35.845Z"
   },
   {
    "duration": 14,
    "start_time": "2021-12-30T12:42:35.864Z"
   },
   {
    "duration": 44,
    "start_time": "2021-12-30T12:42:35.881Z"
   },
   {
    "duration": 494,
    "start_time": "2021-12-30T12:42:35.928Z"
   },
   {
    "duration": 507,
    "start_time": "2021-12-30T12:42:36.425Z"
   },
   {
    "duration": 328,
    "start_time": "2021-12-30T12:42:36.935Z"
   },
   {
    "duration": 308,
    "start_time": "2021-12-30T12:42:37.265Z"
   },
   {
    "duration": 9,
    "start_time": "2021-12-30T12:42:37.574Z"
   },
   {
    "duration": 823,
    "start_time": "2021-12-30T12:42:37.585Z"
   },
   {
    "duration": 6,
    "start_time": "2021-12-30T12:42:38.410Z"
   },
   {
    "duration": 108,
    "start_time": "2021-12-30T12:42:38.418Z"
   },
   {
    "duration": 826,
    "start_time": "2021-12-30T12:42:38.527Z"
   },
   {
    "duration": 227,
    "start_time": "2021-12-30T12:42:39.355Z"
   },
   {
    "duration": 5,
    "start_time": "2021-12-30T12:42:39.584Z"
   },
   {
    "duration": 211,
    "start_time": "2021-12-30T12:42:39.591Z"
   },
   {
    "duration": 4,
    "start_time": "2021-12-30T12:42:39.805Z"
   },
   {
    "duration": 527,
    "start_time": "2021-12-30T12:42:39.811Z"
   },
   {
    "duration": 188,
    "start_time": "2021-12-30T12:42:40.340Z"
   },
   {
    "duration": 189,
    "start_time": "2021-12-30T12:42:40.529Z"
   },
   {
    "duration": 191,
    "start_time": "2021-12-30T12:42:40.720Z"
   },
   {
    "duration": 197,
    "start_time": "2021-12-30T12:42:40.913Z"
   },
   {
    "duration": 22,
    "start_time": "2021-12-30T12:42:41.112Z"
   },
   {
    "duration": 6,
    "start_time": "2021-12-30T12:42:41.136Z"
   },
   {
    "duration": 24,
    "start_time": "2021-12-30T12:42:41.143Z"
   },
   {
    "duration": 223,
    "start_time": "2021-12-30T12:42:41.168Z"
   },
   {
    "duration": 269,
    "start_time": "2021-12-30T12:42:41.393Z"
   },
   {
    "duration": 8,
    "start_time": "2021-12-30T12:42:41.664Z"
   },
   {
    "duration": 411,
    "start_time": "2021-12-30T12:42:41.673Z"
   },
   {
    "duration": 314,
    "start_time": "2021-12-30T12:42:42.086Z"
   },
   {
    "duration": 234,
    "start_time": "2021-12-30T12:42:42.402Z"
   },
   {
    "duration": 282,
    "start_time": "2021-12-30T12:42:42.638Z"
   },
   {
    "duration": 197,
    "start_time": "2021-12-30T12:42:42.922Z"
   },
   {
    "duration": 5,
    "start_time": "2021-12-30T12:42:43.121Z"
   },
   {
    "duration": 189,
    "start_time": "2021-12-30T12:42:43.127Z"
   },
   {
    "duration": 376,
    "start_time": "2021-12-30T12:42:43.317Z"
   },
   {
    "duration": 192,
    "start_time": "2021-12-30T12:42:43.695Z"
   },
   {
    "duration": 407,
    "start_time": "2021-12-30T12:49:40.766Z"
   },
   {
    "duration": 326,
    "start_time": "2021-12-30T12:49:49.374Z"
   },
   {
    "duration": 266,
    "start_time": "2021-12-30T12:49:57.738Z"
   },
   {
    "duration": 301,
    "start_time": "2021-12-30T12:50:04.087Z"
   },
   {
    "duration": 272,
    "start_time": "2021-12-30T12:50:55.048Z"
   },
   {
    "duration": 279,
    "start_time": "2021-12-30T12:51:08.393Z"
   },
   {
    "duration": 229,
    "start_time": "2021-12-30T12:51:23.507Z"
   },
   {
    "duration": 279,
    "start_time": "2021-12-30T12:51:35.631Z"
   },
   {
    "duration": 284,
    "start_time": "2021-12-30T12:52:20.093Z"
   },
   {
    "duration": 408,
    "start_time": "2021-12-30T12:52:56.056Z"
   },
   {
    "duration": 303,
    "start_time": "2021-12-30T12:54:06.438Z"
   },
   {
    "duration": 311,
    "start_time": "2021-12-30T12:54:35.558Z"
   },
   {
    "duration": 301,
    "start_time": "2021-12-30T12:55:57.493Z"
   },
   {
    "duration": 488,
    "start_time": "2021-12-30T12:57:01.783Z"
   },
   {
    "duration": 267,
    "start_time": "2021-12-30T12:57:13.607Z"
   },
   {
    "duration": 252,
    "start_time": "2021-12-30T12:57:56.422Z"
   },
   {
    "duration": 294,
    "start_time": "2021-12-30T12:59:57.533Z"
   },
   {
    "duration": 306,
    "start_time": "2021-12-30T13:00:05.321Z"
   },
   {
    "duration": 84,
    "start_time": "2021-12-30T13:02:19.202Z"
   },
   {
    "duration": 23,
    "start_time": "2021-12-30T13:02:29.976Z"
   },
   {
    "duration": 1011,
    "start_time": "2021-12-31T04:02:55.625Z"
   },
   {
    "duration": 15,
    "start_time": "2021-12-31T04:02:56.638Z"
   },
   {
    "duration": 115,
    "start_time": "2021-12-31T04:02:56.656Z"
   },
   {
    "duration": 53,
    "start_time": "2021-12-31T04:02:56.773Z"
   },
   {
    "duration": 639,
    "start_time": "2021-12-31T04:02:56.829Z"
   },
   {
    "duration": 47,
    "start_time": "2021-12-31T04:02:57.470Z"
   },
   {
    "duration": 10,
    "start_time": "2021-12-31T04:02:57.520Z"
   },
   {
    "duration": 4,
    "start_time": "2021-12-31T04:02:57.533Z"
   },
   {
    "duration": 8,
    "start_time": "2021-12-31T04:02:57.540Z"
   },
   {
    "duration": 10,
    "start_time": "2021-12-31T04:02:57.550Z"
   },
   {
    "duration": 3,
    "start_time": "2021-12-31T04:02:57.563Z"
   },
   {
    "duration": 50,
    "start_time": "2021-12-31T04:02:57.568Z"
   },
   {
    "duration": 9,
    "start_time": "2021-12-31T04:02:57.620Z"
   },
   {
    "duration": 22,
    "start_time": "2021-12-31T04:02:57.631Z"
   },
   {
    "duration": 28,
    "start_time": "2021-12-31T04:02:57.655Z"
   },
   {
    "duration": 33,
    "start_time": "2021-12-31T04:02:57.686Z"
   },
   {
    "duration": 10,
    "start_time": "2021-12-31T04:02:57.721Z"
   },
   {
    "duration": 9,
    "start_time": "2021-12-31T04:02:57.734Z"
   },
   {
    "duration": 19,
    "start_time": "2021-12-31T04:02:57.746Z"
   },
   {
    "duration": 4,
    "start_time": "2021-12-31T04:02:57.768Z"
   },
   {
    "duration": 892,
    "start_time": "2021-12-31T04:02:57.775Z"
   },
   {
    "duration": 5,
    "start_time": "2021-12-31T04:02:58.669Z"
   },
   {
    "duration": 7,
    "start_time": "2021-12-31T04:02:58.679Z"
   },
   {
    "duration": 49,
    "start_time": "2021-12-31T04:02:58.689Z"
   },
   {
    "duration": 478,
    "start_time": "2021-12-31T04:02:58.740Z"
   },
   {
    "duration": 476,
    "start_time": "2021-12-31T04:02:59.220Z"
   },
   {
    "duration": 402,
    "start_time": "2021-12-31T04:02:59.699Z"
   },
   {
    "duration": 453,
    "start_time": "2021-12-31T04:03:00.104Z"
   },
   {
    "duration": 11,
    "start_time": "2021-12-31T04:03:00.559Z"
   },
   {
    "duration": 1409,
    "start_time": "2021-12-31T04:03:00.573Z"
   },
   {
    "duration": 12,
    "start_time": "2021-12-31T04:03:01.985Z"
   },
   {
    "duration": 52,
    "start_time": "2021-12-31T04:03:01.999Z"
   },
   {
    "duration": 1469,
    "start_time": "2021-12-31T04:03:02.054Z"
   },
   {
    "duration": 350,
    "start_time": "2021-12-31T04:03:03.526Z"
   },
   {
    "duration": 9,
    "start_time": "2021-12-31T04:03:03.879Z"
   },
   {
    "duration": 342,
    "start_time": "2021-12-31T04:03:03.890Z"
   },
   {
    "duration": 9,
    "start_time": "2021-12-31T04:03:04.235Z"
   },
   {
    "duration": 760,
    "start_time": "2021-12-31T04:03:04.246Z"
   },
   {
    "duration": 300,
    "start_time": "2021-12-31T04:03:05.008Z"
   },
   {
    "duration": 314,
    "start_time": "2021-12-31T04:03:05.310Z"
   },
   {
    "duration": 320,
    "start_time": "2021-12-31T04:03:05.626Z"
   },
   {
    "duration": 310,
    "start_time": "2021-12-31T04:03:05.949Z"
   },
   {
    "duration": 35,
    "start_time": "2021-12-31T04:03:06.261Z"
   },
   {
    "duration": 27,
    "start_time": "2021-12-31T04:03:06.298Z"
   },
   {
    "duration": 16,
    "start_time": "2021-12-31T04:03:06.327Z"
   },
   {
    "duration": 359,
    "start_time": "2021-12-31T04:03:06.345Z"
   },
   {
    "duration": 347,
    "start_time": "2021-12-31T04:03:06.706Z"
   },
   {
    "duration": 9,
    "start_time": "2021-12-31T04:03:07.055Z"
   },
   {
    "duration": 577,
    "start_time": "2021-12-31T04:03:07.066Z"
   },
   {
    "duration": 507,
    "start_time": "2021-12-31T04:03:07.645Z"
   },
   {
    "duration": 396,
    "start_time": "2021-12-31T04:03:08.155Z"
   },
   {
    "duration": 492,
    "start_time": "2021-12-31T04:03:08.554Z"
   },
   {
    "duration": 316,
    "start_time": "2021-12-31T04:03:09.048Z"
   },
   {
    "duration": 8,
    "start_time": "2021-12-31T04:03:09.367Z"
   },
   {
    "duration": 319,
    "start_time": "2021-12-31T04:03:09.377Z"
   },
   {
    "duration": 481,
    "start_time": "2021-12-31T04:03:09.698Z"
   },
   {
    "duration": 330,
    "start_time": "2021-12-31T04:03:10.182Z"
   },
   {
    "duration": 84,
    "start_time": "2021-12-31T04:12:04.487Z"
   },
   {
    "duration": 1992,
    "start_time": "2021-12-31T04:18:03.013Z"
   },
   {
    "duration": 16,
    "start_time": "2021-12-31T04:20:33.738Z"
   },
   {
    "duration": 24,
    "start_time": "2021-12-31T04:22:06.763Z"
   },
   {
    "duration": 25,
    "start_time": "2021-12-31T04:22:22.748Z"
   },
   {
    "duration": 30,
    "start_time": "2021-12-31T04:22:27.290Z"
   },
   {
    "duration": 33,
    "start_time": "2021-12-31T04:22:54.151Z"
   },
   {
    "duration": 32,
    "start_time": "2021-12-31T04:23:10.982Z"
   },
   {
    "duration": 125,
    "start_time": "2021-12-31T04:26:00.870Z"
   },
   {
    "duration": 25,
    "start_time": "2021-12-31T04:26:00.997Z"
   },
   {
    "duration": 113,
    "start_time": "2021-12-31T04:26:01.025Z"
   },
   {
    "duration": 39,
    "start_time": "2021-12-31T04:26:01.141Z"
   },
   {
    "duration": 52,
    "start_time": "2021-12-31T04:26:01.182Z"
   },
   {
    "duration": 29,
    "start_time": "2021-12-31T04:26:01.237Z"
   },
   {
    "duration": 12,
    "start_time": "2021-12-31T04:26:01.269Z"
   },
   {
    "duration": 35,
    "start_time": "2021-12-31T04:26:01.284Z"
   },
   {
    "duration": 3,
    "start_time": "2021-12-31T04:26:01.322Z"
   },
   {
    "duration": 15,
    "start_time": "2021-12-31T04:26:01.328Z"
   },
   {
    "duration": 18,
    "start_time": "2021-12-31T04:26:01.345Z"
   },
   {
    "duration": 14,
    "start_time": "2021-12-31T04:26:01.365Z"
   },
   {
    "duration": 30,
    "start_time": "2021-12-31T04:26:01.382Z"
   },
   {
    "duration": 27,
    "start_time": "2021-12-31T04:26:01.415Z"
   },
   {
    "duration": 39,
    "start_time": "2021-12-31T04:26:01.445Z"
   },
   {
    "duration": 38,
    "start_time": "2021-12-31T04:26:01.486Z"
   },
   {
    "duration": 11,
    "start_time": "2021-12-31T04:26:01.527Z"
   },
   {
    "duration": 26,
    "start_time": "2021-12-31T04:26:01.540Z"
   },
   {
    "duration": 47,
    "start_time": "2021-12-31T04:26:01.569Z"
   },
   {
    "duration": 15,
    "start_time": "2021-12-31T04:26:01.618Z"
   },
   {
    "duration": 907,
    "start_time": "2021-12-31T04:26:01.635Z"
   },
   {
    "duration": 5,
    "start_time": "2021-12-31T04:26:02.544Z"
   },
   {
    "duration": 9,
    "start_time": "2021-12-31T04:26:02.552Z"
   },
   {
    "duration": 56,
    "start_time": "2021-12-31T04:26:02.563Z"
   },
   {
    "duration": 495,
    "start_time": "2021-12-31T04:26:02.622Z"
   },
   {
    "duration": 487,
    "start_time": "2021-12-31T04:26:03.120Z"
   },
   {
    "duration": 501,
    "start_time": "2021-12-31T04:26:03.624Z"
   },
   {
    "duration": 456,
    "start_time": "2021-12-31T04:26:04.129Z"
   },
   {
    "duration": 34,
    "start_time": "2021-12-31T04:26:04.588Z"
   },
   {
    "duration": 1369,
    "start_time": "2021-12-31T04:26:04.625Z"
   },
   {
    "duration": 21,
    "start_time": "2021-12-31T04:26:05.997Z"
   },
   {
    "duration": 27,
    "start_time": "2021-12-31T04:26:06.020Z"
   },
   {
    "duration": 1773,
    "start_time": "2021-12-31T04:26:06.050Z"
   },
   {
    "duration": 327,
    "start_time": "2021-12-31T04:26:07.826Z"
   },
   {
    "duration": 6,
    "start_time": "2021-12-31T04:26:08.155Z"
   },
   {
    "duration": 337,
    "start_time": "2021-12-31T04:26:08.163Z"
   },
   {
    "duration": 19,
    "start_time": "2021-12-31T04:26:08.502Z"
   },
   {
    "duration": 583,
    "start_time": "2021-12-31T04:26:08.523Z"
   },
   {
    "duration": 287,
    "start_time": "2021-12-31T04:26:09.108Z"
   },
   {
    "duration": 291,
    "start_time": "2021-12-31T04:26:09.398Z"
   },
   {
    "duration": 264,
    "start_time": "2021-12-31T04:26:09.692Z"
   },
   {
    "duration": 339,
    "start_time": "2021-12-31T04:26:09.958Z"
   },
   {
    "duration": 40,
    "start_time": "2021-12-31T04:26:10.300Z"
   },
   {
    "duration": 11,
    "start_time": "2021-12-31T04:26:10.342Z"
   },
   {
    "duration": 12,
    "start_time": "2021-12-31T04:26:10.355Z"
   },
   {
    "duration": 374,
    "start_time": "2021-12-31T04:26:10.369Z"
   },
   {
    "duration": 432,
    "start_time": "2021-12-31T04:26:10.745Z"
   },
   {
    "duration": 9,
    "start_time": "2021-12-31T04:26:11.179Z"
   },
   {
    "duration": 510,
    "start_time": "2021-12-31T04:26:11.190Z"
   },
   {
    "duration": 523,
    "start_time": "2021-12-31T04:26:11.702Z"
   },
   {
    "duration": 401,
    "start_time": "2021-12-31T04:26:12.227Z"
   },
   {
    "duration": 557,
    "start_time": "2021-12-31T04:26:12.630Z"
   },
   {
    "duration": 321,
    "start_time": "2021-12-31T04:26:13.190Z"
   },
   {
    "duration": 6,
    "start_time": "2021-12-31T04:26:13.516Z"
   },
   {
    "duration": 308,
    "start_time": "2021-12-31T04:26:13.524Z"
   },
   {
    "duration": 445,
    "start_time": "2021-12-31T04:26:13.835Z"
   },
   {
    "duration": 328,
    "start_time": "2021-12-31T04:26:14.283Z"
   },
   {
    "duration": 403,
    "start_time": "2021-12-31T04:31:44.439Z"
   },
   {
    "duration": 108,
    "start_time": "2021-12-31T04:32:53.118Z"
   },
   {
    "duration": 1403,
    "start_time": "2021-12-31T04:34:40.019Z"
   },
   {
    "duration": 1218,
    "start_time": "2021-12-31T04:35:03.388Z"
   },
   {
    "duration": 1322,
    "start_time": "2021-12-31T04:35:51.124Z"
   },
   {
    "duration": 545,
    "start_time": "2021-12-31T04:36:35.837Z"
   },
   {
    "duration": 1446,
    "start_time": "2021-12-31T04:36:51.805Z"
   },
   {
    "duration": 1261,
    "start_time": "2021-12-31T04:38:55.128Z"
   },
   {
    "duration": 1429,
    "start_time": "2021-12-31T04:40:05.762Z"
   },
   {
    "duration": 1272,
    "start_time": "2021-12-31T04:40:53.219Z"
   },
   {
    "duration": 1352,
    "start_time": "2021-12-31T04:49:18.114Z"
   },
   {
    "duration": 11,
    "start_time": "2021-12-31T04:49:23.333Z"
   },
   {
    "duration": 528,
    "start_time": "2021-12-31T04:53:55.917Z"
   },
   {
    "duration": 921,
    "start_time": "2021-12-31T04:54:19.002Z"
   },
   {
    "duration": 112,
    "start_time": "2021-12-31T04:54:21.586Z"
   },
   {
    "duration": 28,
    "start_time": "2021-12-31T04:54:21.701Z"
   },
   {
    "duration": 119,
    "start_time": "2021-12-31T04:54:21.732Z"
   },
   {
    "duration": 37,
    "start_time": "2021-12-31T04:54:21.854Z"
   },
   {
    "duration": 53,
    "start_time": "2021-12-31T04:54:21.893Z"
   },
   {
    "duration": 29,
    "start_time": "2021-12-31T04:54:21.948Z"
   },
   {
    "duration": 10,
    "start_time": "2021-12-31T04:54:21.979Z"
   },
   {
    "duration": 5,
    "start_time": "2021-12-31T04:54:22.019Z"
   },
   {
    "duration": 5,
    "start_time": "2021-12-31T04:54:22.027Z"
   },
   {
    "duration": 10,
    "start_time": "2021-12-31T04:54:22.034Z"
   },
   {
    "duration": 3,
    "start_time": "2021-12-31T04:54:22.046Z"
   },
   {
    "duration": 8,
    "start_time": "2021-12-31T04:54:22.052Z"
   },
   {
    "duration": 58,
    "start_time": "2021-12-31T04:54:22.062Z"
   },
   {
    "duration": 20,
    "start_time": "2021-12-31T04:54:22.123Z"
   },
   {
    "duration": 28,
    "start_time": "2021-12-31T04:54:22.145Z"
   },
   {
    "duration": 7,
    "start_time": "2021-12-31T04:54:22.176Z"
   },
   {
    "duration": 7,
    "start_time": "2021-12-31T04:54:22.218Z"
   },
   {
    "duration": 9,
    "start_time": "2021-12-31T04:54:22.228Z"
   },
   {
    "duration": 35,
    "start_time": "2021-12-31T04:54:22.240Z"
   },
   {
    "duration": 5,
    "start_time": "2021-12-31T04:54:22.277Z"
   },
   {
    "duration": 833,
    "start_time": "2021-12-31T04:54:22.284Z"
   },
   {
    "duration": 7,
    "start_time": "2021-12-31T04:54:23.119Z"
   },
   {
    "duration": 5,
    "start_time": "2021-12-31T04:54:23.132Z"
   },
   {
    "duration": 31,
    "start_time": "2021-12-31T04:54:23.140Z"
   },
   {
    "duration": 485,
    "start_time": "2021-12-31T04:54:23.173Z"
   },
   {
    "duration": 480,
    "start_time": "2021-12-31T04:54:23.661Z"
   },
   {
    "duration": 398,
    "start_time": "2021-12-31T04:54:24.143Z"
   },
   {
    "duration": 456,
    "start_time": "2021-12-31T04:54:24.544Z"
   },
   {
    "duration": 24,
    "start_time": "2021-12-31T04:54:25.002Z"
   },
   {
    "duration": 1458,
    "start_time": "2021-12-31T04:54:25.028Z"
   },
   {
    "duration": 8,
    "start_time": "2021-12-31T04:54:26.488Z"
   },
   {
    "duration": 43,
    "start_time": "2021-12-31T04:54:26.499Z"
   },
   {
    "duration": 1409,
    "start_time": "2021-12-31T04:54:26.545Z"
   },
   {
    "duration": 11,
    "start_time": "2021-12-31T04:54:27.957Z"
   },
   {
    "duration": 356,
    "start_time": "2021-12-31T04:54:27.971Z"
   },
   {
    "duration": 6,
    "start_time": "2021-12-31T04:54:28.329Z"
   },
   {
    "duration": 342,
    "start_time": "2021-12-31T04:54:28.338Z"
   },
   {
    "duration": 6,
    "start_time": "2021-12-31T04:54:28.682Z"
   },
   {
    "duration": 628,
    "start_time": "2021-12-31T04:54:28.691Z"
   },
   {
    "duration": 298,
    "start_time": "2021-12-31T04:54:29.322Z"
   },
   {
    "duration": 296,
    "start_time": "2021-12-31T04:54:29.623Z"
   },
   {
    "duration": 275,
    "start_time": "2021-12-31T04:54:29.921Z"
   },
   {
    "duration": 347,
    "start_time": "2021-12-31T04:54:30.199Z"
   },
   {
    "duration": 34,
    "start_time": "2021-12-31T04:54:30.549Z"
   },
   {
    "duration": 33,
    "start_time": "2021-12-31T04:54:30.586Z"
   },
   {
    "duration": 13,
    "start_time": "2021-12-31T04:54:30.623Z"
   },
   {
    "duration": 384,
    "start_time": "2021-12-31T04:54:30.639Z"
   },
   {
    "duration": 343,
    "start_time": "2021-12-31T04:54:31.026Z"
   },
   {
    "duration": 10,
    "start_time": "2021-12-31T04:54:31.372Z"
   },
   {
    "duration": 510,
    "start_time": "2021-12-31T04:54:31.385Z"
   },
   {
    "duration": 494,
    "start_time": "2021-12-31T04:54:31.898Z"
   },
   {
    "duration": 411,
    "start_time": "2021-12-31T04:54:32.394Z"
   },
   {
    "duration": 476,
    "start_time": "2021-12-31T04:54:32.807Z"
   },
   {
    "duration": 534,
    "start_time": "2021-12-31T04:54:33.285Z"
   },
   {
    "duration": 7,
    "start_time": "2021-12-31T04:54:33.821Z"
   },
   {
    "duration": 302,
    "start_time": "2021-12-31T04:54:33.830Z"
   },
   {
    "duration": 461,
    "start_time": "2021-12-31T04:54:34.134Z"
   },
   {
    "duration": 340,
    "start_time": "2021-12-31T04:54:34.597Z"
   },
   {
    "duration": 1364,
    "start_time": "2021-12-31T04:56:48.230Z"
   },
   {
    "duration": 1694,
    "start_time": "2021-12-31T04:56:59.599Z"
   },
   {
    "duration": 1345,
    "start_time": "2021-12-31T04:57:19.143Z"
   },
   {
    "duration": 1457,
    "start_time": "2021-12-31T04:58:19.824Z"
   },
   {
    "duration": 1253,
    "start_time": "2021-12-31T04:58:54.169Z"
   },
   {
    "duration": 1263,
    "start_time": "2021-12-31T04:59:01.857Z"
   },
   {
    "duration": 1372,
    "start_time": "2021-12-31T04:59:26.145Z"
   },
   {
    "duration": 1490,
    "start_time": "2021-12-31T04:59:37.538Z"
   },
   {
    "duration": 667,
    "start_time": "2021-12-31T05:04:37.416Z"
   },
   {
    "duration": 666,
    "start_time": "2021-12-31T05:05:02.752Z"
   },
   {
    "duration": 667,
    "start_time": "2021-12-31T05:06:22.477Z"
   },
   {
    "duration": 4,
    "start_time": "2021-12-31T05:06:47.426Z"
   },
   {
    "duration": 4,
    "start_time": "2021-12-31T05:08:23.988Z"
   },
   {
    "duration": 6,
    "start_time": "2021-12-31T05:08:40.598Z"
   },
   {
    "duration": 661,
    "start_time": "2021-12-31T05:10:47.919Z"
   },
   {
    "duration": 689,
    "start_time": "2021-12-31T05:10:57.753Z"
   },
   {
    "duration": 5,
    "start_time": "2021-12-31T05:11:57.465Z"
   },
   {
    "duration": 680,
    "start_time": "2021-12-31T05:14:24.692Z"
   },
   {
    "duration": 679,
    "start_time": "2021-12-31T05:14:48.396Z"
   },
   {
    "duration": 695,
    "start_time": "2021-12-31T05:15:09.941Z"
   },
   {
    "duration": 711,
    "start_time": "2021-12-31T05:15:50.451Z"
   },
   {
    "duration": 7,
    "start_time": "2021-12-31T05:16:49.801Z"
   },
   {
    "duration": 122,
    "start_time": "2021-12-31T05:16:53.084Z"
   },
   {
    "duration": 21,
    "start_time": "2021-12-31T05:16:53.208Z"
   },
   {
    "duration": 139,
    "start_time": "2021-12-31T05:16:53.232Z"
   },
   {
    "duration": 50,
    "start_time": "2021-12-31T05:16:53.374Z"
   },
   {
    "duration": 30,
    "start_time": "2021-12-31T05:16:53.427Z"
   },
   {
    "duration": 29,
    "start_time": "2021-12-31T05:16:53.459Z"
   },
   {
    "duration": 9,
    "start_time": "2021-12-31T05:16:53.517Z"
   },
   {
    "duration": 10,
    "start_time": "2021-12-31T05:16:53.529Z"
   },
   {
    "duration": 4,
    "start_time": "2021-12-31T05:16:53.542Z"
   },
   {
    "duration": 12,
    "start_time": "2021-12-31T05:16:53.548Z"
   },
   {
    "duration": 4,
    "start_time": "2021-12-31T05:16:53.562Z"
   },
   {
    "duration": 9,
    "start_time": "2021-12-31T05:16:53.568Z"
   },
   {
    "duration": 8,
    "start_time": "2021-12-31T05:16:53.618Z"
   },
   {
    "duration": 20,
    "start_time": "2021-12-31T05:16:53.628Z"
   },
   {
    "duration": 26,
    "start_time": "2021-12-31T05:16:53.651Z"
   },
   {
    "duration": 6,
    "start_time": "2021-12-31T05:16:53.680Z"
   },
   {
    "duration": 6,
    "start_time": "2021-12-31T05:16:53.718Z"
   },
   {
    "duration": 23,
    "start_time": "2021-12-31T05:16:53.726Z"
   },
   {
    "duration": 36,
    "start_time": "2021-12-31T05:16:53.751Z"
   },
   {
    "duration": 4,
    "start_time": "2021-12-31T05:16:53.789Z"
   },
   {
    "duration": 1059,
    "start_time": "2021-12-31T05:16:53.796Z"
   },
   {
    "duration": 7,
    "start_time": "2021-12-31T05:16:54.857Z"
   },
   {
    "duration": 5,
    "start_time": "2021-12-31T05:16:54.871Z"
   },
   {
    "duration": 63,
    "start_time": "2021-12-31T05:16:54.880Z"
   },
   {
    "duration": 707,
    "start_time": "2021-12-31T05:16:54.946Z"
   },
   {
    "duration": 6,
    "start_time": "2021-12-31T05:16:55.656Z"
   },
   {
    "duration": 708,
    "start_time": "2021-12-31T05:16:55.665Z"
   },
   {
    "duration": 6,
    "start_time": "2021-12-31T05:16:56.375Z"
   },
   {
    "duration": 419,
    "start_time": "2021-12-31T05:16:56.383Z"
   },
   {
    "duration": 467,
    "start_time": "2021-12-31T05:16:56.806Z"
   },
   {
    "duration": 11,
    "start_time": "2021-12-31T05:16:57.275Z"
   },
   {
    "duration": 1278,
    "start_time": "2021-12-31T05:16:57.288Z"
   },
   {
    "duration": 8,
    "start_time": "2021-12-31T05:16:58.569Z"
   },
   {
    "duration": 39,
    "start_time": "2021-12-31T05:16:58.579Z"
   },
   {
    "duration": 579,
    "start_time": "2021-12-31T05:16:58.620Z"
   },
   {
    "duration": 1910,
    "start_time": "2021-12-31T05:16:57.291Z"
   },
   {
    "duration": 1909,
    "start_time": "2021-12-31T05:16:57.294Z"
   },
   {
    "duration": 1907,
    "start_time": "2021-12-31T05:16:57.297Z"
   },
   {
    "duration": 1906,
    "start_time": "2021-12-31T05:16:57.299Z"
   },
   {
    "duration": 1904,
    "start_time": "2021-12-31T05:16:57.302Z"
   },
   {
    "duration": 1904,
    "start_time": "2021-12-31T05:16:57.304Z"
   },
   {
    "duration": 1902,
    "start_time": "2021-12-31T05:16:57.307Z"
   },
   {
    "duration": 1901,
    "start_time": "2021-12-31T05:16:57.309Z"
   },
   {
    "duration": 1895,
    "start_time": "2021-12-31T05:16:57.317Z"
   },
   {
    "duration": 1894,
    "start_time": "2021-12-31T05:16:57.319Z"
   },
   {
    "duration": 1893,
    "start_time": "2021-12-31T05:16:57.322Z"
   },
   {
    "duration": 1892,
    "start_time": "2021-12-31T05:16:57.324Z"
   },
   {
    "duration": 1890,
    "start_time": "2021-12-31T05:16:57.327Z"
   },
   {
    "duration": 1890,
    "start_time": "2021-12-31T05:16:57.329Z"
   },
   {
    "duration": 1888,
    "start_time": "2021-12-31T05:16:57.332Z"
   },
   {
    "duration": 1887,
    "start_time": "2021-12-31T05:16:57.334Z"
   },
   {
    "duration": 1885,
    "start_time": "2021-12-31T05:16:57.337Z"
   },
   {
    "duration": 1885,
    "start_time": "2021-12-31T05:16:57.339Z"
   },
   {
    "duration": 1883,
    "start_time": "2021-12-31T05:16:57.342Z"
   },
   {
    "duration": 1882,
    "start_time": "2021-12-31T05:16:57.344Z"
   },
   {
    "duration": 1881,
    "start_time": "2021-12-31T05:16:57.347Z"
   },
   {
    "duration": 1875,
    "start_time": "2021-12-31T05:16:57.354Z"
   },
   {
    "duration": 1873,
    "start_time": "2021-12-31T05:16:57.357Z"
   },
   {
    "duration": 1873,
    "start_time": "2021-12-31T05:16:57.359Z"
   },
   {
    "duration": 1871,
    "start_time": "2021-12-31T05:16:57.362Z"
   },
   {
    "duration": 738,
    "start_time": "2021-12-31T05:19:11.514Z"
   },
   {
    "duration": 703,
    "start_time": "2021-12-31T05:19:21.258Z"
   },
   {
    "duration": 7,
    "start_time": "2021-12-31T05:20:35.075Z"
   },
   {
    "duration": 109,
    "start_time": "2021-12-31T05:20:37.275Z"
   },
   {
    "duration": 44,
    "start_time": "2021-12-31T05:20:37.386Z"
   },
   {
    "duration": 122,
    "start_time": "2021-12-31T05:20:37.433Z"
   },
   {
    "duration": 39,
    "start_time": "2021-12-31T05:20:37.557Z"
   },
   {
    "duration": 48,
    "start_time": "2021-12-31T05:20:37.598Z"
   },
   {
    "duration": 34,
    "start_time": "2021-12-31T05:20:37.648Z"
   },
   {
    "duration": 33,
    "start_time": "2021-12-31T05:20:37.685Z"
   },
   {
    "duration": 4,
    "start_time": "2021-12-31T05:20:37.722Z"
   },
   {
    "duration": 14,
    "start_time": "2021-12-31T05:20:37.729Z"
   },
   {
    "duration": 18,
    "start_time": "2021-12-31T05:20:37.745Z"
   },
   {
    "duration": 3,
    "start_time": "2021-12-31T05:20:37.765Z"
   },
   {
    "duration": 17,
    "start_time": "2021-12-31T05:20:37.771Z"
   },
   {
    "duration": 11,
    "start_time": "2021-12-31T05:20:37.790Z"
   },
   {
    "duration": 17,
    "start_time": "2021-12-31T05:20:37.818Z"
   },
   {
    "duration": 29,
    "start_time": "2021-12-31T05:20:37.838Z"
   },
   {
    "duration": 5,
    "start_time": "2021-12-31T05:20:37.869Z"
   },
   {
    "duration": 40,
    "start_time": "2021-12-31T05:20:37.877Z"
   },
   {
    "duration": 5,
    "start_time": "2021-12-31T05:20:37.919Z"
   },
   {
    "duration": 32,
    "start_time": "2021-12-31T05:20:37.926Z"
   },
   {
    "duration": 12,
    "start_time": "2021-12-31T05:20:37.961Z"
   },
   {
    "duration": 1045,
    "start_time": "2021-12-31T05:20:37.975Z"
   },
   {
    "duration": 7,
    "start_time": "2021-12-31T05:20:39.023Z"
   },
   {
    "duration": 10,
    "start_time": "2021-12-31T05:20:39.037Z"
   },
   {
    "duration": 32,
    "start_time": "2021-12-31T05:20:39.050Z"
   },
   {
    "duration": 739,
    "start_time": "2021-12-31T05:20:39.085Z"
   },
   {
    "duration": 6,
    "start_time": "2021-12-31T05:20:39.827Z"
   },
   {
    "duration": 693,
    "start_time": "2021-12-31T05:20:39.836Z"
   },
   {
    "duration": 5,
    "start_time": "2021-12-31T05:20:40.531Z"
   },
   {
    "duration": 415,
    "start_time": "2021-12-31T05:20:40.538Z"
   },
   {
    "duration": 466,
    "start_time": "2021-12-31T05:20:40.955Z"
   },
   {
    "duration": 11,
    "start_time": "2021-12-31T05:20:41.423Z"
   },
   {
    "duration": 1297,
    "start_time": "2021-12-31T05:20:41.436Z"
   },
   {
    "duration": 9,
    "start_time": "2021-12-31T05:20:42.736Z"
   },
   {
    "duration": 23,
    "start_time": "2021-12-31T05:20:42.747Z"
   },
   {
    "duration": 602,
    "start_time": "2021-12-31T05:20:42.773Z"
   },
   {
    "duration": 1913,
    "start_time": "2021-12-31T05:20:41.465Z"
   },
   {
    "duration": 1912,
    "start_time": "2021-12-31T05:20:41.467Z"
   },
   {
    "duration": 1911,
    "start_time": "2021-12-31T05:20:41.470Z"
   },
   {
    "duration": 1909,
    "start_time": "2021-12-31T05:20:41.473Z"
   },
   {
    "duration": 1908,
    "start_time": "2021-12-31T05:20:41.476Z"
   },
   {
    "duration": 1907,
    "start_time": "2021-12-31T05:20:41.479Z"
   },
   {
    "duration": 1907,
    "start_time": "2021-12-31T05:20:41.481Z"
   },
   {
    "duration": 1906,
    "start_time": "2021-12-31T05:20:41.484Z"
   },
   {
    "duration": 1905,
    "start_time": "2021-12-31T05:20:41.487Z"
   },
   {
    "duration": 1904,
    "start_time": "2021-12-31T05:20:41.489Z"
   },
   {
    "duration": 1904,
    "start_time": "2021-12-31T05:20:41.491Z"
   },
   {
    "duration": 1897,
    "start_time": "2021-12-31T05:20:41.500Z"
   },
   {
    "duration": 1897,
    "start_time": "2021-12-31T05:20:41.502Z"
   },
   {
    "duration": 1896,
    "start_time": "2021-12-31T05:20:41.505Z"
   },
   {
    "duration": 1895,
    "start_time": "2021-12-31T05:20:41.507Z"
   },
   {
    "duration": 1894,
    "start_time": "2021-12-31T05:20:41.510Z"
   },
   {
    "duration": 1893,
    "start_time": "2021-12-31T05:20:41.513Z"
   },
   {
    "duration": 1892,
    "start_time": "2021-12-31T05:20:41.515Z"
   },
   {
    "duration": 1891,
    "start_time": "2021-12-31T05:20:41.518Z"
   },
   {
    "duration": 1890,
    "start_time": "2021-12-31T05:20:41.520Z"
   },
   {
    "duration": 1888,
    "start_time": "2021-12-31T05:20:41.523Z"
   },
   {
    "duration": 1887,
    "start_time": "2021-12-31T05:20:41.526Z"
   },
   {
    "duration": 1886,
    "start_time": "2021-12-31T05:20:41.528Z"
   },
   {
    "duration": 1884,
    "start_time": "2021-12-31T05:20:41.531Z"
   },
   {
    "duration": 1882,
    "start_time": "2021-12-31T05:20:41.534Z"
   },
   {
    "duration": 707,
    "start_time": "2021-12-31T05:21:01.132Z"
   },
   {
    "duration": 712,
    "start_time": "2021-12-31T05:21:43.647Z"
   },
   {
    "duration": 6,
    "start_time": "2021-12-31T05:22:26.773Z"
   },
   {
    "duration": 616,
    "start_time": "2021-12-31T05:23:43.872Z"
   },
   {
    "duration": 623,
    "start_time": "2021-12-31T05:23:55.420Z"
   },
   {
    "duration": 6,
    "start_time": "2021-12-31T05:24:24.920Z"
   },
   {
    "duration": 630,
    "start_time": "2021-12-31T05:24:49.825Z"
   },
   {
    "duration": 6,
    "start_time": "2021-12-31T05:25:14.593Z"
   },
   {
    "duration": 933,
    "start_time": "2021-12-31T05:26:57.475Z"
   },
   {
    "duration": 686,
    "start_time": "2021-12-31T05:27:11.171Z"
   },
   {
    "duration": 662,
    "start_time": "2021-12-31T05:27:29.889Z"
   },
   {
    "duration": 5,
    "start_time": "2021-12-31T05:28:03.061Z"
   },
   {
    "duration": 132,
    "start_time": "2021-12-31T05:32:40.338Z"
   },
   {
    "duration": 16,
    "start_time": "2021-12-31T05:32:40.472Z"
   },
   {
    "duration": 138,
    "start_time": "2021-12-31T05:32:40.491Z"
   },
   {
    "duration": 38,
    "start_time": "2021-12-31T05:32:40.631Z"
   },
   {
    "duration": 56,
    "start_time": "2021-12-31T05:32:40.672Z"
   },
   {
    "duration": 30,
    "start_time": "2021-12-31T05:32:40.731Z"
   },
   {
    "duration": 8,
    "start_time": "2021-12-31T05:32:40.763Z"
   },
   {
    "duration": 4,
    "start_time": "2021-12-31T05:32:40.775Z"
   },
   {
    "duration": 36,
    "start_time": "2021-12-31T05:32:40.782Z"
   },
   {
    "duration": 11,
    "start_time": "2021-12-31T05:32:40.821Z"
   },
   {
    "duration": 5,
    "start_time": "2021-12-31T05:32:40.834Z"
   },
   {
    "duration": 9,
    "start_time": "2021-12-31T05:32:40.841Z"
   },
   {
    "duration": 12,
    "start_time": "2021-12-31T05:32:40.853Z"
   },
   {
    "duration": 50,
    "start_time": "2021-12-31T05:32:40.868Z"
   },
   {
    "duration": 27,
    "start_time": "2021-12-31T05:32:40.921Z"
   },
   {
    "duration": 7,
    "start_time": "2021-12-31T05:32:40.950Z"
   },
   {
    "duration": 11,
    "start_time": "2021-12-31T05:32:40.959Z"
   },
   {
    "duration": 9,
    "start_time": "2021-12-31T05:32:40.972Z"
   },
   {
    "duration": 63,
    "start_time": "2021-12-31T05:32:40.984Z"
   },
   {
    "duration": 4,
    "start_time": "2021-12-31T05:32:41.049Z"
   },
   {
    "duration": 787,
    "start_time": "2021-12-31T05:32:41.056Z"
   },
   {
    "duration": 6,
    "start_time": "2021-12-31T05:32:41.847Z"
   },
   {
    "duration": 7,
    "start_time": "2021-12-31T05:32:41.859Z"
   },
   {
    "duration": 66,
    "start_time": "2021-12-31T05:32:41.870Z"
   },
   {
    "duration": 707,
    "start_time": "2021-12-31T05:32:41.939Z"
   },
   {
    "duration": 5,
    "start_time": "2021-12-31T05:32:42.648Z"
   },
   {
    "duration": 737,
    "start_time": "2021-12-31T05:32:42.655Z"
   },
   {
    "duration": 6,
    "start_time": "2021-12-31T05:32:43.394Z"
   },
   {
    "duration": 645,
    "start_time": "2021-12-31T05:32:43.418Z"
   },
   {
    "duration": 5,
    "start_time": "2021-12-31T05:32:44.065Z"
   },
   {
    "duration": 831,
    "start_time": "2021-12-31T05:32:44.073Z"
   },
   {
    "duration": 13,
    "start_time": "2021-12-31T05:32:44.906Z"
   },
   {
    "duration": 14,
    "start_time": "2021-12-31T05:32:44.922Z"
   },
   {
    "duration": 1550,
    "start_time": "2021-12-31T05:32:44.938Z"
   },
   {
    "duration": 9,
    "start_time": "2021-12-31T05:32:46.491Z"
   },
   {
    "duration": 313,
    "start_time": "2021-12-31T05:32:46.503Z"
   },
   {
    "duration": 1930,
    "start_time": "2021-12-31T05:32:44.889Z"
   },
   {
    "duration": 1929,
    "start_time": "2021-12-31T05:32:44.891Z"
   },
   {
    "duration": 1927,
    "start_time": "2021-12-31T05:32:44.894Z"
   },
   {
    "duration": 1926,
    "start_time": "2021-12-31T05:32:44.897Z"
   },
   {
    "duration": 1925,
    "start_time": "2021-12-31T05:32:44.899Z"
   },
   {
    "duration": 1923,
    "start_time": "2021-12-31T05:32:44.902Z"
   },
   {
    "duration": 1922,
    "start_time": "2021-12-31T05:32:44.904Z"
   },
   {
    "duration": 1921,
    "start_time": "2021-12-31T05:32:44.907Z"
   },
   {
    "duration": 1920,
    "start_time": "2021-12-31T05:32:44.910Z"
   },
   {
    "duration": 1919,
    "start_time": "2021-12-31T05:32:44.912Z"
   },
   {
    "duration": 1913,
    "start_time": "2021-12-31T05:32:44.919Z"
   },
   {
    "duration": 1911,
    "start_time": "2021-12-31T05:32:44.922Z"
   },
   {
    "duration": 1910,
    "start_time": "2021-12-31T05:32:44.924Z"
   },
   {
    "duration": 1909,
    "start_time": "2021-12-31T05:32:44.927Z"
   },
   {
    "duration": 1908,
    "start_time": "2021-12-31T05:32:44.929Z"
   },
   {
    "duration": 1906,
    "start_time": "2021-12-31T05:32:44.932Z"
   },
   {
    "duration": 1904,
    "start_time": "2021-12-31T05:32:44.935Z"
   },
   {
    "duration": 1903,
    "start_time": "2021-12-31T05:32:44.937Z"
   },
   {
    "duration": 1901,
    "start_time": "2021-12-31T05:32:44.940Z"
   },
   {
    "duration": 1901,
    "start_time": "2021-12-31T05:32:44.942Z"
   },
   {
    "duration": 1899,
    "start_time": "2021-12-31T05:32:44.945Z"
   },
   {
    "duration": 1893,
    "start_time": "2021-12-31T05:32:44.952Z"
   },
   {
    "duration": 1875,
    "start_time": "2021-12-31T05:32:44.971Z"
   },
   {
    "duration": 1870,
    "start_time": "2021-12-31T05:32:44.977Z"
   },
   {
    "duration": 1869,
    "start_time": "2021-12-31T05:32:44.980Z"
   },
   {
    "duration": 1867,
    "start_time": "2021-12-31T05:32:44.983Z"
   },
   {
    "duration": 31,
    "start_time": "2021-12-31T05:34:37.412Z"
   },
   {
    "duration": 1424,
    "start_time": "2021-12-31T05:34:47.309Z"
   },
   {
    "duration": 120,
    "start_time": "2021-12-31T05:36:16.614Z"
   },
   {
    "duration": 111,
    "start_time": "2021-12-31T05:36:31.309Z"
   },
   {
    "duration": 1290,
    "start_time": "2021-12-31T05:38:09.753Z"
   },
   {
    "duration": 1240,
    "start_time": "2021-12-31T05:39:22.448Z"
   },
   {
    "duration": 9,
    "start_time": "2021-12-31T05:39:45.864Z"
   },
   {
    "duration": 11,
    "start_time": "2021-12-31T05:40:12.388Z"
   },
   {
    "duration": 6,
    "start_time": "2021-12-31T05:40:32.932Z"
   },
   {
    "duration": 119,
    "start_time": "2021-12-31T05:41:30.405Z"
   },
   {
    "duration": 713,
    "start_time": "2021-12-31T05:41:49.926Z"
   },
   {
    "duration": 124,
    "start_time": "2021-12-31T05:42:04.354Z"
   },
   {
    "duration": 45,
    "start_time": "2021-12-31T05:42:04.480Z"
   },
   {
    "duration": 117,
    "start_time": "2021-12-31T05:42:04.528Z"
   },
   {
    "duration": 39,
    "start_time": "2021-12-31T05:42:04.648Z"
   },
   {
    "duration": 54,
    "start_time": "2021-12-31T05:42:04.689Z"
   },
   {
    "duration": 31,
    "start_time": "2021-12-31T05:42:04.747Z"
   },
   {
    "duration": 40,
    "start_time": "2021-12-31T05:42:04.780Z"
   },
   {
    "duration": 4,
    "start_time": "2021-12-31T05:42:04.824Z"
   },
   {
    "duration": 8,
    "start_time": "2021-12-31T05:42:04.831Z"
   },
   {
    "duration": 14,
    "start_time": "2021-12-31T05:42:04.841Z"
   },
   {
    "duration": 6,
    "start_time": "2021-12-31T05:42:04.857Z"
   },
   {
    "duration": 9,
    "start_time": "2021-12-31T05:42:04.865Z"
   },
   {
    "duration": 8,
    "start_time": "2021-12-31T05:42:04.876Z"
   },
   {
    "duration": 18,
    "start_time": "2021-12-31T05:42:04.917Z"
   },
   {
    "duration": 30,
    "start_time": "2021-12-31T05:42:04.937Z"
   },
   {
    "duration": 7,
    "start_time": "2021-12-31T05:42:04.970Z"
   },
   {
    "duration": 40,
    "start_time": "2021-12-31T05:42:04.979Z"
   },
   {
    "duration": 8,
    "start_time": "2021-12-31T05:42:05.021Z"
   },
   {
    "duration": 34,
    "start_time": "2021-12-31T05:42:05.032Z"
   },
   {
    "duration": 4,
    "start_time": "2021-12-31T05:42:05.068Z"
   },
   {
    "duration": 826,
    "start_time": "2021-12-31T05:42:05.075Z"
   },
   {
    "duration": 13,
    "start_time": "2021-12-31T05:42:05.904Z"
   },
   {
    "duration": 6,
    "start_time": "2021-12-31T05:42:05.923Z"
   },
   {
    "duration": 33,
    "start_time": "2021-12-31T05:42:05.933Z"
   },
   {
    "duration": 1187,
    "start_time": "2021-12-31T05:42:05.968Z"
   },
   {
    "duration": 6,
    "start_time": "2021-12-31T05:42:07.157Z"
   },
   {
    "duration": 744,
    "start_time": "2021-12-31T05:42:07.165Z"
   },
   {
    "duration": 7,
    "start_time": "2021-12-31T05:42:07.916Z"
   },
   {
    "duration": 652,
    "start_time": "2021-12-31T05:42:07.926Z"
   },
   {
    "duration": 6,
    "start_time": "2021-12-31T05:42:08.581Z"
   },
   {
    "duration": 681,
    "start_time": "2021-12-31T05:42:08.590Z"
   },
   {
    "duration": 7,
    "start_time": "2021-12-31T05:42:09.274Z"
   },
   {
    "duration": 1313,
    "start_time": "2021-12-31T05:42:09.284Z"
   },
   {
    "duration": 21,
    "start_time": "2021-12-31T05:42:10.601Z"
   },
   {
    "duration": 7,
    "start_time": "2021-12-31T05:42:10.625Z"
   },
   {
    "duration": 109,
    "start_time": "2021-12-31T05:42:10.634Z"
   },
   {
    "duration": 1943,
    "start_time": "2021-12-31T05:42:08.803Z"
   },
   {
    "duration": 1941,
    "start_time": "2021-12-31T05:42:08.806Z"
   },
   {
    "duration": 1939,
    "start_time": "2021-12-31T05:42:08.810Z"
   },
   {
    "duration": 1938,
    "start_time": "2021-12-31T05:42:08.812Z"
   },
   {
    "duration": 1933,
    "start_time": "2021-12-31T05:42:08.819Z"
   },
   {
    "duration": 1931,
    "start_time": "2021-12-31T05:42:08.822Z"
   },
   {
    "duration": 1930,
    "start_time": "2021-12-31T05:42:08.825Z"
   },
   {
    "duration": 1929,
    "start_time": "2021-12-31T05:42:08.827Z"
   },
   {
    "duration": 1928,
    "start_time": "2021-12-31T05:42:08.830Z"
   },
   {
    "duration": 1926,
    "start_time": "2021-12-31T05:42:08.833Z"
   },
   {
    "duration": 1925,
    "start_time": "2021-12-31T05:42:08.836Z"
   },
   {
    "duration": 1922,
    "start_time": "2021-12-31T05:42:08.840Z"
   },
   {
    "duration": 1920,
    "start_time": "2021-12-31T05:42:08.843Z"
   },
   {
    "duration": 1919,
    "start_time": "2021-12-31T05:42:08.846Z"
   },
   {
    "duration": 1913,
    "start_time": "2021-12-31T05:42:08.853Z"
   },
   {
    "duration": 1911,
    "start_time": "2021-12-31T05:42:08.856Z"
   },
   {
    "duration": 1907,
    "start_time": "2021-12-31T05:42:08.862Z"
   },
   {
    "duration": 1904,
    "start_time": "2021-12-31T05:42:08.866Z"
   },
   {
    "duration": 1902,
    "start_time": "2021-12-31T05:42:08.869Z"
   },
   {
    "duration": 1902,
    "start_time": "2021-12-31T05:42:08.871Z"
   },
   {
    "duration": 1900,
    "start_time": "2021-12-31T05:42:08.874Z"
   },
   {
    "duration": 1895,
    "start_time": "2021-12-31T05:42:08.881Z"
   },
   {
    "duration": 1893,
    "start_time": "2021-12-31T05:42:08.884Z"
   },
   {
    "duration": 1891,
    "start_time": "2021-12-31T05:42:08.887Z"
   },
   {
    "duration": 1890,
    "start_time": "2021-12-31T05:42:08.890Z"
   },
   {
    "duration": 1926,
    "start_time": "2021-12-31T05:42:08.893Z"
   },
   {
    "duration": 147,
    "start_time": "2021-12-31T05:42:22.678Z"
   },
   {
    "duration": 15,
    "start_time": "2021-12-31T05:42:22.828Z"
   },
   {
    "duration": 133,
    "start_time": "2021-12-31T05:42:22.845Z"
   },
   {
    "duration": 47,
    "start_time": "2021-12-31T05:42:22.981Z"
   },
   {
    "duration": 32,
    "start_time": "2021-12-31T05:42:23.031Z"
   },
   {
    "duration": 58,
    "start_time": "2021-12-31T05:42:23.066Z"
   },
   {
    "duration": 11,
    "start_time": "2021-12-31T05:42:23.126Z"
   },
   {
    "duration": 5,
    "start_time": "2021-12-31T05:42:23.141Z"
   },
   {
    "duration": 6,
    "start_time": "2021-12-31T05:42:23.149Z"
   },
   {
    "duration": 24,
    "start_time": "2021-12-31T05:42:23.158Z"
   },
   {
    "duration": 9,
    "start_time": "2021-12-31T05:42:23.185Z"
   },
   {
    "duration": 26,
    "start_time": "2021-12-31T05:42:23.197Z"
   },
   {
    "duration": 8,
    "start_time": "2021-12-31T05:42:23.225Z"
   },
   {
    "duration": 20,
    "start_time": "2021-12-31T05:42:23.235Z"
   },
   {
    "duration": 60,
    "start_time": "2021-12-31T05:42:23.258Z"
   },
   {
    "duration": 7,
    "start_time": "2021-12-31T05:42:23.320Z"
   },
   {
    "duration": 8,
    "start_time": "2021-12-31T05:42:23.329Z"
   },
   {
    "duration": 6,
    "start_time": "2021-12-31T05:42:23.340Z"
   },
   {
    "duration": 31,
    "start_time": "2021-12-31T05:42:23.349Z"
   },
   {
    "duration": 36,
    "start_time": "2021-12-31T05:42:23.382Z"
   },
   {
    "duration": 797,
    "start_time": "2021-12-31T05:42:23.420Z"
   },
   {
    "duration": 6,
    "start_time": "2021-12-31T05:42:24.219Z"
   },
   {
    "duration": 22,
    "start_time": "2021-12-31T05:42:24.231Z"
   },
   {
    "duration": 40,
    "start_time": "2021-12-31T05:42:24.257Z"
   },
   {
    "duration": 708,
    "start_time": "2021-12-31T05:42:24.299Z"
   },
   {
    "duration": 5,
    "start_time": "2021-12-31T05:42:25.017Z"
   },
   {
    "duration": 730,
    "start_time": "2021-12-31T05:42:25.025Z"
   },
   {
    "duration": 5,
    "start_time": "2021-12-31T05:42:25.757Z"
   },
   {
    "duration": 941,
    "start_time": "2021-12-31T05:42:25.764Z"
   },
   {
    "duration": 6,
    "start_time": "2021-12-31T05:42:26.716Z"
   },
   {
    "duration": 731,
    "start_time": "2021-12-31T05:42:26.725Z"
   },
   {
    "duration": 6,
    "start_time": "2021-12-31T05:42:27.458Z"
   },
   {
    "duration": 1282,
    "start_time": "2021-12-31T05:42:27.466Z"
   },
   {
    "duration": 11,
    "start_time": "2021-12-31T05:42:28.751Z"
   },
   {
    "duration": 5,
    "start_time": "2021-12-31T05:42:28.764Z"
   },
   {
    "duration": 96,
    "start_time": "2021-12-31T05:42:28.771Z"
   },
   {
    "duration": 1955,
    "start_time": "2021-12-31T05:42:26.914Z"
   },
   {
    "duration": 1929,
    "start_time": "2021-12-31T05:42:26.942Z"
   },
   {
    "duration": 1928,
    "start_time": "2021-12-31T05:42:26.944Z"
   },
   {
    "duration": 1926,
    "start_time": "2021-12-31T05:42:26.947Z"
   },
   {
    "duration": 1925,
    "start_time": "2021-12-31T05:42:26.950Z"
   },
   {
    "duration": 1923,
    "start_time": "2021-12-31T05:42:26.953Z"
   },
   {
    "duration": 1909,
    "start_time": "2021-12-31T05:42:26.968Z"
   },
   {
    "duration": 1907,
    "start_time": "2021-12-31T05:42:26.971Z"
   },
   {
    "duration": 1905,
    "start_time": "2021-12-31T05:42:26.974Z"
   },
   {
    "duration": 1903,
    "start_time": "2021-12-31T05:42:26.977Z"
   },
   {
    "duration": 1902,
    "start_time": "2021-12-31T05:42:26.980Z"
   },
   {
    "duration": 1900,
    "start_time": "2021-12-31T05:42:26.983Z"
   },
   {
    "duration": 1900,
    "start_time": "2021-12-31T05:42:26.985Z"
   },
   {
    "duration": 1898,
    "start_time": "2021-12-31T05:42:26.988Z"
   },
   {
    "duration": 1896,
    "start_time": "2021-12-31T05:42:26.991Z"
   },
   {
    "duration": 1895,
    "start_time": "2021-12-31T05:42:26.993Z"
   },
   {
    "duration": 1893,
    "start_time": "2021-12-31T05:42:26.996Z"
   },
   {
    "duration": 1892,
    "start_time": "2021-12-31T05:42:26.999Z"
   },
   {
    "duration": 1891,
    "start_time": "2021-12-31T05:42:27.001Z"
   },
   {
    "duration": 1889,
    "start_time": "2021-12-31T05:42:27.004Z"
   },
   {
    "duration": 1887,
    "start_time": "2021-12-31T05:42:27.007Z"
   },
   {
    "duration": 1885,
    "start_time": "2021-12-31T05:42:27.010Z"
   },
   {
    "duration": 1884,
    "start_time": "2021-12-31T05:42:27.012Z"
   },
   {
    "duration": 1883,
    "start_time": "2021-12-31T05:42:27.015Z"
   },
   {
    "duration": 1877,
    "start_time": "2021-12-31T05:42:27.023Z"
   },
   {
    "duration": 1875,
    "start_time": "2021-12-31T05:42:27.026Z"
   },
   {
    "duration": 28,
    "start_time": "2021-12-31T05:43:16.664Z"
   },
   {
    "duration": 122,
    "start_time": "2021-12-31T05:43:57.928Z"
   },
   {
    "duration": 120,
    "start_time": "2021-12-31T05:44:38.222Z"
   },
   {
    "duration": 114,
    "start_time": "2021-12-31T05:45:57.010Z"
   },
   {
    "duration": 105,
    "start_time": "2021-12-31T05:46:03.969Z"
   },
   {
    "duration": 196,
    "start_time": "2021-12-31T05:46:41.721Z"
   },
   {
    "duration": 18,
    "start_time": "2021-12-31T05:46:41.920Z"
   },
   {
    "duration": 130,
    "start_time": "2021-12-31T05:46:41.943Z"
   },
   {
    "duration": 57,
    "start_time": "2021-12-31T05:46:42.077Z"
   },
   {
    "duration": 32,
    "start_time": "2021-12-31T05:46:42.137Z"
   },
   {
    "duration": 51,
    "start_time": "2021-12-31T05:46:42.172Z"
   },
   {
    "duration": 9,
    "start_time": "2021-12-31T05:46:42.225Z"
   },
   {
    "duration": 6,
    "start_time": "2021-12-31T05:46:42.238Z"
   },
   {
    "duration": 4,
    "start_time": "2021-12-31T05:46:42.247Z"
   },
   {
    "duration": 13,
    "start_time": "2021-12-31T05:46:42.254Z"
   },
   {
    "duration": 3,
    "start_time": "2021-12-31T05:46:42.270Z"
   },
   {
    "duration": 7,
    "start_time": "2021-12-31T05:46:42.318Z"
   },
   {
    "duration": 7,
    "start_time": "2021-12-31T05:46:42.328Z"
   },
   {
    "duration": 20,
    "start_time": "2021-12-31T05:46:42.337Z"
   },
   {
    "duration": 57,
    "start_time": "2021-12-31T05:46:42.360Z"
   },
   {
    "duration": 7,
    "start_time": "2021-12-31T05:46:42.420Z"
   },
   {
    "duration": 9,
    "start_time": "2021-12-31T05:46:42.429Z"
   },
   {
    "duration": 5,
    "start_time": "2021-12-31T05:46:42.441Z"
   },
   {
    "duration": 31,
    "start_time": "2021-12-31T05:46:42.448Z"
   },
   {
    "duration": 37,
    "start_time": "2021-12-31T05:46:42.482Z"
   },
   {
    "duration": 797,
    "start_time": "2021-12-31T05:46:42.522Z"
   },
   {
    "duration": 5,
    "start_time": "2021-12-31T05:46:43.322Z"
   },
   {
    "duration": 6,
    "start_time": "2021-12-31T05:46:43.333Z"
   },
   {
    "duration": 31,
    "start_time": "2021-12-31T05:46:43.342Z"
   },
   {
    "duration": 774,
    "start_time": "2021-12-31T05:46:43.376Z"
   },
   {
    "duration": 5,
    "start_time": "2021-12-31T05:46:44.153Z"
   },
   {
    "duration": 741,
    "start_time": "2021-12-31T05:46:44.160Z"
   },
   {
    "duration": 16,
    "start_time": "2021-12-31T05:46:44.904Z"
   },
   {
    "duration": 668,
    "start_time": "2021-12-31T05:46:44.922Z"
   },
   {
    "duration": 6,
    "start_time": "2021-12-31T05:46:45.592Z"
   },
   {
    "duration": 692,
    "start_time": "2021-12-31T05:46:45.601Z"
   },
   {
    "duration": 21,
    "start_time": "2021-12-31T05:46:46.295Z"
   },
   {
    "duration": 1601,
    "start_time": "2021-12-31T05:46:46.319Z"
   },
   {
    "duration": 12,
    "start_time": "2021-12-31T05:46:47.922Z"
   },
   {
    "duration": 140,
    "start_time": "2021-12-31T05:46:47.936Z"
   },
   {
    "duration": 330,
    "start_time": "2021-12-31T05:46:48.079Z"
   },
   {
    "duration": 10,
    "start_time": "2021-12-31T05:46:48.411Z"
   },
   {
    "duration": 315,
    "start_time": "2021-12-31T05:46:48.423Z"
   },
   {
    "duration": 7,
    "start_time": "2021-12-31T05:46:48.741Z"
   },
   {
    "duration": 597,
    "start_time": "2021-12-31T05:46:48.751Z"
   },
   {
    "duration": 304,
    "start_time": "2021-12-31T05:46:49.351Z"
   },
   {
    "duration": 321,
    "start_time": "2021-12-31T05:46:49.658Z"
   },
   {
    "duration": 309,
    "start_time": "2021-12-31T05:46:49.982Z"
   },
   {
    "duration": 337,
    "start_time": "2021-12-31T05:46:50.294Z"
   },
   {
    "duration": 34,
    "start_time": "2021-12-31T05:46:50.634Z"
   },
   {
    "duration": 11,
    "start_time": "2021-12-31T05:46:50.671Z"
   },
   {
    "duration": 42,
    "start_time": "2021-12-31T05:46:50.685Z"
   },
   {
    "duration": 357,
    "start_time": "2021-12-31T05:46:50.730Z"
   },
   {
    "duration": 352,
    "start_time": "2021-12-31T05:46:51.090Z"
   },
   {
    "duration": 10,
    "start_time": "2021-12-31T05:46:51.444Z"
   },
   {
    "duration": 521,
    "start_time": "2021-12-31T05:46:51.456Z"
   },
   {
    "duration": 509,
    "start_time": "2021-12-31T05:46:51.980Z"
   },
   {
    "duration": 407,
    "start_time": "2021-12-31T05:46:52.492Z"
   },
   {
    "duration": 497,
    "start_time": "2021-12-31T05:46:52.901Z"
   },
   {
    "duration": 325,
    "start_time": "2021-12-31T05:46:53.401Z"
   },
   {
    "duration": 7,
    "start_time": "2021-12-31T05:46:53.729Z"
   },
   {
    "duration": 307,
    "start_time": "2021-12-31T05:46:53.739Z"
   },
   {
    "duration": 424,
    "start_time": "2021-12-31T05:46:54.049Z"
   },
   {
    "duration": 346,
    "start_time": "2021-12-31T05:46:54.475Z"
   },
   {
    "duration": 319,
    "start_time": "2021-12-31T05:54:15.892Z"
   },
   {
    "duration": 8,
    "start_time": "2021-12-31T05:54:16.218Z"
   },
   {
    "duration": 317,
    "start_time": "2021-12-31T05:56:10.028Z"
   },
   {
    "duration": 324,
    "start_time": "2021-12-31T05:56:39.207Z"
   },
   {
    "duration": 7,
    "start_time": "2021-12-31T05:56:53.847Z"
   },
   {
    "duration": 346,
    "start_time": "2021-12-31T06:00:28.180Z"
   },
   {
    "duration": 7,
    "start_time": "2021-12-31T06:00:38.059Z"
   },
   {
    "duration": 289,
    "start_time": "2021-12-31T06:02:49.942Z"
   },
   {
    "duration": 283,
    "start_time": "2021-12-31T06:04:07.408Z"
   },
   {
    "duration": 632,
    "start_time": "2021-12-31T06:06:19.363Z"
   },
   {
    "duration": 187,
    "start_time": "2021-12-31T06:07:34.260Z"
   },
   {
    "duration": 24,
    "start_time": "2021-12-31T06:07:34.450Z"
   },
   {
    "duration": 174,
    "start_time": "2021-12-31T06:07:34.478Z"
   },
   {
    "duration": 76,
    "start_time": "2021-12-31T06:07:34.656Z"
   },
   {
    "duration": 51,
    "start_time": "2021-12-31T06:07:34.735Z"
   },
   {
    "duration": 54,
    "start_time": "2021-12-31T06:07:34.789Z"
   },
   {
    "duration": 10,
    "start_time": "2021-12-31T06:07:34.846Z"
   },
   {
    "duration": 12,
    "start_time": "2021-12-31T06:07:34.861Z"
   },
   {
    "duration": 24,
    "start_time": "2021-12-31T06:07:34.875Z"
   },
   {
    "duration": 22,
    "start_time": "2021-12-31T06:07:34.901Z"
   },
   {
    "duration": 26,
    "start_time": "2021-12-31T06:07:34.925Z"
   },
   {
    "duration": 33,
    "start_time": "2021-12-31T06:07:34.954Z"
   },
   {
    "duration": 22,
    "start_time": "2021-12-31T06:07:34.990Z"
   },
   {
    "duration": 38,
    "start_time": "2021-12-31T06:07:35.015Z"
   },
   {
    "duration": 32,
    "start_time": "2021-12-31T06:07:35.055Z"
   },
   {
    "duration": 6,
    "start_time": "2021-12-31T06:07:35.090Z"
   },
   {
    "duration": 32,
    "start_time": "2021-12-31T06:07:35.098Z"
   },
   {
    "duration": 22,
    "start_time": "2021-12-31T06:07:35.133Z"
   },
   {
    "duration": 47,
    "start_time": "2021-12-31T06:07:35.157Z"
   },
   {
    "duration": 4,
    "start_time": "2021-12-31T06:07:35.206Z"
   },
   {
    "duration": 774,
    "start_time": "2021-12-31T06:07:35.213Z"
   },
   {
    "duration": 5,
    "start_time": "2021-12-31T06:07:35.989Z"
   },
   {
    "duration": 22,
    "start_time": "2021-12-31T06:07:36.000Z"
   },
   {
    "duration": 51,
    "start_time": "2021-12-31T06:07:36.025Z"
   },
   {
    "duration": 696,
    "start_time": "2021-12-31T06:07:36.078Z"
   },
   {
    "duration": 7,
    "start_time": "2021-12-31T06:07:36.777Z"
   },
   {
    "duration": 741,
    "start_time": "2021-12-31T06:07:36.786Z"
   },
   {
    "duration": 5,
    "start_time": "2021-12-31T06:07:37.530Z"
   },
   {
    "duration": 721,
    "start_time": "2021-12-31T06:07:37.538Z"
   },
   {
    "duration": 6,
    "start_time": "2021-12-31T06:07:38.262Z"
   },
   {
    "duration": 878,
    "start_time": "2021-12-31T06:07:38.271Z"
   },
   {
    "duration": 6,
    "start_time": "2021-12-31T06:07:39.152Z"
   },
   {
    "duration": 1447,
    "start_time": "2021-12-31T06:07:39.161Z"
   },
   {
    "duration": 19,
    "start_time": "2021-12-31T06:07:40.611Z"
   },
   {
    "duration": 186,
    "start_time": "2021-12-31T06:07:40.633Z"
   },
   {
    "duration": 528,
    "start_time": "2021-12-31T06:07:40.822Z"
   },
   {
    "duration": 11,
    "start_time": "2021-12-31T06:07:41.353Z"
   },
   {
    "duration": 309,
    "start_time": "2021-12-31T06:07:41.367Z"
   },
   {
    "duration": 9,
    "start_time": "2021-12-31T06:07:41.679Z"
   },
   {
    "duration": 614,
    "start_time": "2021-12-31T06:07:41.691Z"
   },
   {
    "duration": 401,
    "start_time": "2021-12-31T06:07:42.317Z"
   },
   {
    "duration": 488,
    "start_time": "2021-12-31T06:07:42.721Z"
   },
   {
    "duration": 451,
    "start_time": "2021-12-31T06:07:43.211Z"
   },
   {
    "duration": 492,
    "start_time": "2021-12-31T06:07:43.665Z"
   },
   {
    "duration": 59,
    "start_time": "2021-12-31T06:07:44.159Z"
   },
   {
    "duration": 14,
    "start_time": "2021-12-31T06:07:44.221Z"
   },
   {
    "duration": 12,
    "start_time": "2021-12-31T06:07:44.237Z"
   },
   {
    "duration": 630,
    "start_time": "2021-12-31T06:07:44.252Z"
   },
   {
    "duration": 328,
    "start_time": "2021-12-31T06:07:44.885Z"
   },
   {
    "duration": 10,
    "start_time": "2021-12-31T06:07:45.218Z"
   },
   {
    "duration": 536,
    "start_time": "2021-12-31T06:07:45.231Z"
   },
   {
    "duration": 525,
    "start_time": "2021-12-31T06:07:45.770Z"
   },
   {
    "duration": 422,
    "start_time": "2021-12-31T06:07:46.298Z"
   },
   {
    "duration": 506,
    "start_time": "2021-12-31T06:07:46.723Z"
   },
   {
    "duration": 308,
    "start_time": "2021-12-31T06:07:47.232Z"
   },
   {
    "duration": 7,
    "start_time": "2021-12-31T06:07:47.543Z"
   },
   {
    "duration": 449,
    "start_time": "2021-12-31T06:07:47.553Z"
   },
   {
    "duration": 612,
    "start_time": "2021-12-31T06:07:48.005Z"
   },
   {
    "duration": 517,
    "start_time": "2021-12-31T06:07:48.619Z"
   },
   {
    "duration": 268,
    "start_time": "2021-12-31T06:12:27.266Z"
   },
   {
    "duration": 8,
    "start_time": "2021-12-31T06:12:53.982Z"
   },
   {
    "duration": 277,
    "start_time": "2021-12-31T06:13:21.048Z"
   },
   {
    "duration": 100,
    "start_time": "2021-12-31T06:15:56.799Z"
   },
   {
    "duration": 586,
    "start_time": "2021-12-31T06:16:04.158Z"
   },
   {
    "duration": 696,
    "start_time": "2021-12-31T06:16:42.604Z"
   },
   {
    "duration": 596,
    "start_time": "2021-12-31T06:16:58.659Z"
   },
   {
    "duration": 586,
    "start_time": "2021-12-31T06:17:10.960Z"
   },
   {
    "duration": 278,
    "start_time": "2021-12-31T06:17:33.761Z"
   },
   {
    "duration": 598,
    "start_time": "2021-12-31T06:17:49.657Z"
   },
   {
    "duration": 265,
    "start_time": "2021-12-31T06:18:45.388Z"
   },
   {
    "duration": 253,
    "start_time": "2021-12-31T06:19:08.618Z"
   },
   {
    "duration": 273,
    "start_time": "2021-12-31T06:21:57.078Z"
   },
   {
    "duration": 292,
    "start_time": "2021-12-31T06:23:31.905Z"
   },
   {
    "duration": 285,
    "start_time": "2021-12-31T06:24:54.281Z"
   },
   {
    "duration": 294,
    "start_time": "2021-12-31T06:25:24.850Z"
   },
   {
    "duration": 289,
    "start_time": "2021-12-31T06:25:37.674Z"
   },
   {
    "duration": 288,
    "start_time": "2021-12-31T06:25:54.810Z"
   },
   {
    "duration": 127,
    "start_time": "2021-12-31T06:27:19.770Z"
   },
   {
    "duration": 30,
    "start_time": "2021-12-31T06:27:19.899Z"
   },
   {
    "duration": 125,
    "start_time": "2021-12-31T06:27:19.932Z"
   },
   {
    "duration": 66,
    "start_time": "2021-12-31T06:27:20.060Z"
   },
   {
    "duration": 34,
    "start_time": "2021-12-31T06:27:20.129Z"
   },
   {
    "duration": 60,
    "start_time": "2021-12-31T06:27:20.166Z"
   },
   {
    "duration": 7,
    "start_time": "2021-12-31T06:27:20.229Z"
   },
   {
    "duration": 4,
    "start_time": "2021-12-31T06:27:20.240Z"
   },
   {
    "duration": 6,
    "start_time": "2021-12-31T06:27:20.247Z"
   },
   {
    "duration": 11,
    "start_time": "2021-12-31T06:27:20.255Z"
   },
   {
    "duration": 2,
    "start_time": "2021-12-31T06:27:20.269Z"
   },
   {
    "duration": 49,
    "start_time": "2021-12-31T06:27:20.274Z"
   },
   {
    "duration": 7,
    "start_time": "2021-12-31T06:27:20.326Z"
   },
   {
    "duration": 23,
    "start_time": "2021-12-31T06:27:20.335Z"
   },
   {
    "duration": 27,
    "start_time": "2021-12-31T06:27:20.360Z"
   },
   {
    "duration": 20,
    "start_time": "2021-12-31T06:27:20.417Z"
   },
   {
    "duration": 21,
    "start_time": "2021-12-31T06:27:20.440Z"
   },
   {
    "duration": 8,
    "start_time": "2021-12-31T06:27:20.463Z"
   },
   {
    "duration": 36,
    "start_time": "2021-12-31T06:27:20.473Z"
   },
   {
    "duration": 4,
    "start_time": "2021-12-31T06:27:20.518Z"
   },
   {
    "duration": 796,
    "start_time": "2021-12-31T06:27:20.525Z"
   },
   {
    "duration": 5,
    "start_time": "2021-12-31T06:27:21.323Z"
   },
   {
    "duration": 10,
    "start_time": "2021-12-31T06:27:21.334Z"
   },
   {
    "duration": 36,
    "start_time": "2021-12-31T06:27:21.347Z"
   },
   {
    "duration": 1088,
    "start_time": "2021-12-31T06:27:21.385Z"
   },
   {
    "duration": 5,
    "start_time": "2021-12-31T06:27:22.475Z"
   },
   {
    "duration": 759,
    "start_time": "2021-12-31T06:27:22.482Z"
   },
   {
    "duration": 7,
    "start_time": "2021-12-31T06:27:23.243Z"
   },
   {
    "duration": 766,
    "start_time": "2021-12-31T06:27:23.253Z"
   },
   {
    "duration": 5,
    "start_time": "2021-12-31T06:27:24.021Z"
   },
   {
    "duration": 672,
    "start_time": "2021-12-31T06:27:24.028Z"
   },
   {
    "duration": 16,
    "start_time": "2021-12-31T06:27:24.703Z"
   },
   {
    "duration": 1300,
    "start_time": "2021-12-31T06:27:24.722Z"
   },
   {
    "duration": 12,
    "start_time": "2021-12-31T06:27:26.025Z"
   },
   {
    "duration": 141,
    "start_time": "2021-12-31T06:27:26.039Z"
   },
   {
    "duration": 315,
    "start_time": "2021-12-31T06:27:26.183Z"
   },
   {
    "duration": 18,
    "start_time": "2021-12-31T06:27:26.500Z"
   },
   {
    "duration": 278,
    "start_time": "2021-12-31T06:27:26.520Z"
   },
   {
    "duration": 638,
    "start_time": "2021-12-31T06:27:26.801Z"
   },
   {
    "duration": 282,
    "start_time": "2021-12-31T06:27:27.442Z"
   },
   {
    "duration": 320,
    "start_time": "2021-12-31T06:27:27.727Z"
   },
   {
    "duration": 318,
    "start_time": "2021-12-31T06:27:28.050Z"
   },
   {
    "duration": 357,
    "start_time": "2021-12-31T06:27:28.371Z"
   },
   {
    "duration": 33,
    "start_time": "2021-12-31T06:27:28.731Z"
   },
   {
    "duration": 11,
    "start_time": "2021-12-31T06:27:28.767Z"
   },
   {
    "duration": 37,
    "start_time": "2021-12-31T06:27:28.780Z"
   },
   {
    "duration": 343,
    "start_time": "2021-12-31T06:27:28.820Z"
   },
   {
    "duration": 319,
    "start_time": "2021-12-31T06:27:29.166Z"
   },
   {
    "duration": 11,
    "start_time": "2021-12-31T06:27:29.488Z"
   },
   {
    "duration": 517,
    "start_time": "2021-12-31T06:27:29.502Z"
   },
   {
    "duration": 548,
    "start_time": "2021-12-31T06:27:30.022Z"
   },
   {
    "duration": 419,
    "start_time": "2021-12-31T06:27:30.572Z"
   },
   {
    "duration": 507,
    "start_time": "2021-12-31T06:27:30.993Z"
   },
   {
    "duration": 336,
    "start_time": "2021-12-31T06:27:31.502Z"
   },
   {
    "duration": 7,
    "start_time": "2021-12-31T06:27:31.840Z"
   },
   {
    "duration": 310,
    "start_time": "2021-12-31T06:27:31.849Z"
   },
   {
    "duration": 840,
    "start_time": "2021-12-31T06:27:32.161Z"
   },
   {
    "duration": 339,
    "start_time": "2021-12-31T06:27:33.003Z"
   },
   {
    "duration": 319,
    "start_time": "2021-12-31T06:28:45.102Z"
   },
   {
    "duration": 303,
    "start_time": "2021-12-31T06:29:19.831Z"
   },
   {
    "duration": 307,
    "start_time": "2021-12-31T06:29:26.310Z"
   },
   {
    "duration": 291,
    "start_time": "2021-12-31T06:31:13.046Z"
   },
   {
    "duration": 462,
    "start_time": "2021-12-31T06:31:44.682Z"
   },
   {
    "duration": 609,
    "start_time": "2021-12-31T06:32:02.736Z"
   },
   {
    "duration": 518,
    "start_time": "2021-12-31T06:32:41.684Z"
   },
   {
    "duration": 293,
    "start_time": "2021-12-31T06:34:46.774Z"
   },
   {
    "duration": 321,
    "start_time": "2021-12-31T06:36:19.096Z"
   },
   {
    "duration": 312,
    "start_time": "2021-12-31T06:36:23.704Z"
   },
   {
    "duration": 342,
    "start_time": "2021-12-31T06:36:40.208Z"
   },
   {
    "duration": 316,
    "start_time": "2021-12-31T06:37:08.553Z"
   },
   {
    "duration": 277,
    "start_time": "2021-12-31T06:37:14.585Z"
   },
   {
    "duration": 126,
    "start_time": "2021-12-31T09:33:22.092Z"
   },
   {
    "duration": 15,
    "start_time": "2021-12-31T09:33:22.221Z"
   },
   {
    "duration": 138,
    "start_time": "2021-12-31T09:33:22.240Z"
   },
   {
    "duration": 55,
    "start_time": "2021-12-31T09:33:22.382Z"
   },
   {
    "duration": 31,
    "start_time": "2021-12-31T09:33:22.439Z"
   },
   {
    "duration": 57,
    "start_time": "2021-12-31T09:33:22.473Z"
   },
   {
    "duration": 10,
    "start_time": "2021-12-31T09:33:22.533Z"
   },
   {
    "duration": 4,
    "start_time": "2021-12-31T09:33:22.547Z"
   },
   {
    "duration": 10,
    "start_time": "2021-12-31T09:33:22.555Z"
   },
   {
    "duration": 16,
    "start_time": "2021-12-31T09:33:22.567Z"
   },
   {
    "duration": 33,
    "start_time": "2021-12-31T09:33:22.586Z"
   },
   {
    "duration": 9,
    "start_time": "2021-12-31T09:33:22.622Z"
   },
   {
    "duration": 8,
    "start_time": "2021-12-31T09:33:22.634Z"
   },
   {
    "duration": 19,
    "start_time": "2021-12-31T09:33:22.645Z"
   },
   {
    "duration": 64,
    "start_time": "2021-12-31T09:33:22.667Z"
   },
   {
    "duration": 7,
    "start_time": "2021-12-31T09:33:22.734Z"
   },
   {
    "duration": 6,
    "start_time": "2021-12-31T09:33:22.744Z"
   },
   {
    "duration": 7,
    "start_time": "2021-12-31T09:33:22.753Z"
   },
   {
    "duration": 78,
    "start_time": "2021-12-31T09:33:22.763Z"
   },
   {
    "duration": 6,
    "start_time": "2021-12-31T09:33:22.843Z"
   },
   {
    "duration": 787,
    "start_time": "2021-12-31T09:33:22.852Z"
   },
   {
    "duration": 6,
    "start_time": "2021-12-31T09:33:23.642Z"
   },
   {
    "duration": 15,
    "start_time": "2021-12-31T09:33:23.656Z"
   },
   {
    "duration": 52,
    "start_time": "2021-12-31T09:33:23.675Z"
   },
   {
    "duration": 705,
    "start_time": "2021-12-31T09:33:23.730Z"
   },
   {
    "duration": 7,
    "start_time": "2021-12-31T09:33:24.438Z"
   },
   {
    "duration": 757,
    "start_time": "2021-12-31T09:33:24.448Z"
   },
   {
    "duration": 14,
    "start_time": "2021-12-31T09:33:25.208Z"
   },
   {
    "duration": 654,
    "start_time": "2021-12-31T09:33:25.225Z"
   },
   {
    "duration": 5,
    "start_time": "2021-12-31T09:33:25.881Z"
   },
   {
    "duration": 678,
    "start_time": "2021-12-31T09:33:25.888Z"
   },
   {
    "duration": 5,
    "start_time": "2021-12-31T09:33:26.569Z"
   },
   {
    "duration": 1341,
    "start_time": "2021-12-31T09:33:26.576Z"
   },
   {
    "duration": 11,
    "start_time": "2021-12-31T09:33:27.920Z"
   },
   {
    "duration": 467,
    "start_time": "2021-12-31T09:33:27.933Z"
   },
   {
    "duration": 353,
    "start_time": "2021-12-31T09:33:28.403Z"
   },
   {
    "duration": 6,
    "start_time": "2021-12-31T09:33:28.759Z"
   },
   {
    "duration": 285,
    "start_time": "2021-12-31T09:33:28.768Z"
   },
   {
    "duration": 593,
    "start_time": "2021-12-31T09:33:29.056Z"
   },
   {
    "duration": 259,
    "start_time": "2021-12-31T09:33:29.652Z"
   },
   {
    "duration": 302,
    "start_time": "2021-12-31T09:33:29.916Z"
   },
   {
    "duration": 291,
    "start_time": "2021-12-31T09:33:30.221Z"
   },
   {
    "duration": 330,
    "start_time": "2021-12-31T09:33:30.514Z"
   },
   {
    "duration": 33,
    "start_time": "2021-12-31T09:33:30.846Z"
   },
   {
    "duration": 10,
    "start_time": "2021-12-31T09:33:30.882Z"
   },
   {
    "duration": 11,
    "start_time": "2021-12-31T09:33:30.918Z"
   },
   {
    "duration": 364,
    "start_time": "2021-12-31T09:33:30.931Z"
   },
   {
    "duration": 319,
    "start_time": "2021-12-31T09:33:31.298Z"
   },
   {
    "duration": 9,
    "start_time": "2021-12-31T09:33:31.619Z"
   },
   {
    "duration": 520,
    "start_time": "2021-12-31T09:33:31.631Z"
   },
   {
    "duration": 629,
    "start_time": "2021-12-31T09:33:32.154Z"
   },
   {
    "duration": 407,
    "start_time": "2021-12-31T09:33:32.785Z"
   },
   {
    "duration": 494,
    "start_time": "2021-12-31T09:33:33.195Z"
   },
   {
    "duration": 321,
    "start_time": "2021-12-31T09:33:33.691Z"
   },
   {
    "duration": 7,
    "start_time": "2021-12-31T09:33:34.014Z"
   },
   {
    "duration": 310,
    "start_time": "2021-12-31T09:33:34.023Z"
   },
   {
    "duration": 424,
    "start_time": "2021-12-31T09:33:34.336Z"
   },
   {
    "duration": 335,
    "start_time": "2021-12-31T09:33:34.762Z"
   },
   {
    "duration": 7,
    "start_time": "2021-12-31T09:35:37.762Z"
   },
   {
    "duration": 150,
    "start_time": "2021-12-31T09:35:41.702Z"
   },
   {
    "duration": 19,
    "start_time": "2021-12-31T09:35:41.855Z"
   },
   {
    "duration": 141,
    "start_time": "2021-12-31T09:35:41.878Z"
   },
   {
    "duration": 42,
    "start_time": "2021-12-31T09:35:42.022Z"
   },
   {
    "duration": 56,
    "start_time": "2021-12-31T09:35:42.066Z"
   },
   {
    "duration": 34,
    "start_time": "2021-12-31T09:35:42.125Z"
   },
   {
    "duration": 7,
    "start_time": "2021-12-31T09:35:42.162Z"
   },
   {
    "duration": 22,
    "start_time": "2021-12-31T09:35:42.173Z"
   },
   {
    "duration": 23,
    "start_time": "2021-12-31T09:35:42.198Z"
   },
   {
    "duration": 60,
    "start_time": "2021-12-31T09:35:42.223Z"
   },
   {
    "duration": 41,
    "start_time": "2021-12-31T09:35:42.285Z"
   },
   {
    "duration": 33,
    "start_time": "2021-12-31T09:35:42.328Z"
   },
   {
    "duration": 28,
    "start_time": "2021-12-31T09:35:42.363Z"
   },
   {
    "duration": 34,
    "start_time": "2021-12-31T09:35:42.394Z"
   },
   {
    "duration": 37,
    "start_time": "2021-12-31T09:35:42.431Z"
   },
   {
    "duration": 7,
    "start_time": "2021-12-31T09:35:42.471Z"
   },
   {
    "duration": 27,
    "start_time": "2021-12-31T09:35:42.480Z"
   },
   {
    "duration": 9,
    "start_time": "2021-12-31T09:35:42.509Z"
   },
   {
    "duration": 34,
    "start_time": "2021-12-31T09:35:42.521Z"
   },
   {
    "duration": 4,
    "start_time": "2021-12-31T09:35:42.558Z"
   },
   {
    "duration": 815,
    "start_time": "2021-12-31T09:35:42.565Z"
   },
   {
    "duration": 5,
    "start_time": "2021-12-31T09:35:43.383Z"
   },
   {
    "duration": 23,
    "start_time": "2021-12-31T09:35:43.394Z"
   },
   {
    "duration": 36,
    "start_time": "2021-12-31T09:35:43.421Z"
   },
   {
    "duration": 713,
    "start_time": "2021-12-31T09:35:43.459Z"
   },
   {
    "duration": 5,
    "start_time": "2021-12-31T09:35:44.175Z"
   },
   {
    "duration": 689,
    "start_time": "2021-12-31T09:35:44.182Z"
   },
   {
    "duration": 5,
    "start_time": "2021-12-31T09:35:44.873Z"
   },
   {
    "duration": 637,
    "start_time": "2021-12-31T09:35:44.881Z"
   },
   {
    "duration": 5,
    "start_time": "2021-12-31T09:35:45.521Z"
   },
   {
    "duration": 673,
    "start_time": "2021-12-31T09:35:45.529Z"
   },
   {
    "duration": 15,
    "start_time": "2021-12-31T09:35:46.205Z"
   },
   {
    "duration": 1643,
    "start_time": "2021-12-31T09:35:46.223Z"
   },
   {
    "duration": 12,
    "start_time": "2021-12-31T09:35:47.868Z"
   },
   {
    "duration": 109,
    "start_time": "2021-12-31T09:35:47.882Z"
   },
   {
    "duration": 1268,
    "start_time": "2021-12-31T09:35:47.994Z"
   },
   {
    "duration": -219,
    "start_time": "2021-12-31T09:35:49.484Z"
   },
   {
    "duration": -224,
    "start_time": "2021-12-31T09:35:49.491Z"
   },
   {
    "duration": -225,
    "start_time": "2021-12-31T09:35:49.494Z"
   },
   {
    "duration": -226,
    "start_time": "2021-12-31T09:35:49.497Z"
   },
   {
    "duration": -227,
    "start_time": "2021-12-31T09:35:49.499Z"
   },
   {
    "duration": -227,
    "start_time": "2021-12-31T09:35:49.502Z"
   },
   {
    "duration": -229,
    "start_time": "2021-12-31T09:35:49.505Z"
   },
   {
    "duration": -229,
    "start_time": "2021-12-31T09:35:49.507Z"
   },
   {
    "duration": -230,
    "start_time": "2021-12-31T09:35:49.510Z"
   },
   {
    "duration": -231,
    "start_time": "2021-12-31T09:35:49.512Z"
   },
   {
    "duration": -232,
    "start_time": "2021-12-31T09:35:49.515Z"
   },
   {
    "duration": -232,
    "start_time": "2021-12-31T09:35:49.517Z"
   },
   {
    "duration": -234,
    "start_time": "2021-12-31T09:35:49.520Z"
   },
   {
    "duration": -239,
    "start_time": "2021-12-31T09:35:49.527Z"
   },
   {
    "duration": -240,
    "start_time": "2021-12-31T09:35:49.530Z"
   },
   {
    "duration": -242,
    "start_time": "2021-12-31T09:35:49.533Z"
   },
   {
    "duration": -242,
    "start_time": "2021-12-31T09:35:49.535Z"
   },
   {
    "duration": -243,
    "start_time": "2021-12-31T09:35:49.538Z"
   },
   {
    "duration": -244,
    "start_time": "2021-12-31T09:35:49.541Z"
   },
   {
    "duration": -243,
    "start_time": "2021-12-31T09:35:49.543Z"
   },
   {
    "duration": -226,
    "start_time": "2021-12-31T09:35:49.546Z"
   },
   {
    "duration": -227,
    "start_time": "2021-12-31T09:35:49.549Z"
   },
   {
    "duration": 137,
    "start_time": "2021-12-31T09:39:35.290Z"
   },
   {
    "duration": 15,
    "start_time": "2021-12-31T09:39:35.429Z"
   },
   {
    "duration": 129,
    "start_time": "2021-12-31T09:39:35.447Z"
   },
   {
    "duration": 51,
    "start_time": "2021-12-31T09:39:35.578Z"
   },
   {
    "duration": 32,
    "start_time": "2021-12-31T09:39:35.631Z"
   },
   {
    "duration": 54,
    "start_time": "2021-12-31T09:39:35.666Z"
   },
   {
    "duration": 14,
    "start_time": "2021-12-31T09:39:35.723Z"
   },
   {
    "duration": 15,
    "start_time": "2021-12-31T09:39:35.742Z"
   },
   {
    "duration": 4,
    "start_time": "2021-12-31T09:39:35.761Z"
   },
   {
    "duration": 13,
    "start_time": "2021-12-31T09:39:35.768Z"
   },
   {
    "duration": 34,
    "start_time": "2021-12-31T09:39:35.784Z"
   },
   {
    "duration": 11,
    "start_time": "2021-12-31T09:39:35.821Z"
   },
   {
    "duration": 10,
    "start_time": "2021-12-31T09:39:35.835Z"
   },
   {
    "duration": 25,
    "start_time": "2021-12-31T09:39:35.848Z"
   },
   {
    "duration": 55,
    "start_time": "2021-12-31T09:39:35.875Z"
   },
   {
    "duration": 6,
    "start_time": "2021-12-31T09:39:35.932Z"
   },
   {
    "duration": 8,
    "start_time": "2021-12-31T09:39:35.941Z"
   },
   {
    "duration": 6,
    "start_time": "2021-12-31T09:39:35.952Z"
   },
   {
    "duration": 69,
    "start_time": "2021-12-31T09:39:35.960Z"
   },
   {
    "duration": 4,
    "start_time": "2021-12-31T09:39:36.032Z"
   },
   {
    "duration": 1157,
    "start_time": "2021-12-31T09:39:36.038Z"
   },
   {
    "duration": 6,
    "start_time": "2021-12-31T09:39:37.198Z"
   },
   {
    "duration": 5,
    "start_time": "2021-12-31T09:39:37.221Z"
   },
   {
    "duration": 31,
    "start_time": "2021-12-31T09:39:37.230Z"
   },
   {
    "duration": 830,
    "start_time": "2021-12-31T09:39:37.264Z"
   },
   {
    "duration": 6,
    "start_time": "2021-12-31T09:39:38.096Z"
   },
   {
    "duration": 709,
    "start_time": "2021-12-31T09:39:38.104Z"
   },
   {
    "duration": 5,
    "start_time": "2021-12-31T09:39:38.817Z"
   },
   {
    "duration": 646,
    "start_time": "2021-12-31T09:39:38.825Z"
   },
   {
    "duration": 6,
    "start_time": "2021-12-31T09:39:39.473Z"
   },
   {
    "duration": 692,
    "start_time": "2021-12-31T09:39:39.481Z"
   },
   {
    "duration": 5,
    "start_time": "2021-12-31T09:39:40.175Z"
   },
   {
    "duration": 1289,
    "start_time": "2021-12-31T09:39:40.183Z"
   },
   {
    "duration": 12,
    "start_time": "2021-12-31T09:39:41.474Z"
   },
   {
    "duration": 105,
    "start_time": "2021-12-31T09:39:41.489Z"
   },
   {
    "duration": 1327,
    "start_time": "2021-12-31T09:39:41.597Z"
   },
   {
    "duration": -207,
    "start_time": "2021-12-31T09:39:43.133Z"
   },
   {
    "duration": -215,
    "start_time": "2021-12-31T09:39:43.142Z"
   },
   {
    "duration": -216,
    "start_time": "2021-12-31T09:39:43.145Z"
   },
   {
    "duration": -218,
    "start_time": "2021-12-31T09:39:43.148Z"
   },
   {
    "duration": -224,
    "start_time": "2021-12-31T09:39:43.156Z"
   },
   {
    "duration": -226,
    "start_time": "2021-12-31T09:39:43.159Z"
   },
   {
    "duration": -227,
    "start_time": "2021-12-31T09:39:43.162Z"
   },
   {
    "duration": -234,
    "start_time": "2021-12-31T09:39:43.170Z"
   },
   {
    "duration": -235,
    "start_time": "2021-12-31T09:39:43.173Z"
   },
   {
    "duration": -237,
    "start_time": "2021-12-31T09:39:43.176Z"
   },
   {
    "duration": -243,
    "start_time": "2021-12-31T09:39:43.184Z"
   },
   {
    "duration": -245,
    "start_time": "2021-12-31T09:39:43.187Z"
   },
   {
    "duration": -247,
    "start_time": "2021-12-31T09:39:43.190Z"
   },
   {
    "duration": -253,
    "start_time": "2021-12-31T09:39:43.198Z"
   },
   {
    "duration": -255,
    "start_time": "2021-12-31T09:39:43.201Z"
   },
   {
    "duration": -262,
    "start_time": "2021-12-31T09:39:43.210Z"
   },
   {
    "duration": -263,
    "start_time": "2021-12-31T09:39:43.212Z"
   },
   {
    "duration": -265,
    "start_time": "2021-12-31T09:39:43.216Z"
   },
   {
    "duration": -273,
    "start_time": "2021-12-31T09:39:43.225Z"
   },
   {
    "duration": -274,
    "start_time": "2021-12-31T09:39:43.227Z"
   },
   {
    "duration": -281,
    "start_time": "2021-12-31T09:39:43.236Z"
   },
   {
    "duration": -283,
    "start_time": "2021-12-31T09:39:43.239Z"
   },
   {
    "duration": 7,
    "start_time": "2021-12-31T09:41:30.573Z"
   },
   {
    "duration": 5,
    "start_time": "2021-12-31T09:41:31.821Z"
   },
   {
    "duration": 19,
    "start_time": "2021-12-31T09:41:32.550Z"
   },
   {
    "duration": 32,
    "start_time": "2021-12-31T09:41:38.805Z"
   },
   {
    "duration": 7,
    "start_time": "2021-12-31T09:42:05.925Z"
   },
   {
    "duration": 4,
    "start_time": "2021-12-31T09:42:07.342Z"
   },
   {
    "duration": 19,
    "start_time": "2021-12-31T09:42:07.870Z"
   },
   {
    "duration": 34,
    "start_time": "2021-12-31T09:42:09.797Z"
   },
   {
    "duration": 5,
    "start_time": "2021-12-31T09:42:25.758Z"
   },
   {
    "duration": 5,
    "start_time": "2021-12-31T09:42:26.326Z"
   },
   {
    "duration": 17,
    "start_time": "2021-12-31T09:42:26.750Z"
   },
   {
    "duration": 32,
    "start_time": "2021-12-31T09:42:28.670Z"
   },
   {
    "duration": 7,
    "start_time": "2021-12-31T09:42:30.422Z"
   },
   {
    "duration": 42,
    "start_time": "2021-12-31T09:42:38.039Z"
   },
   {
    "duration": 197,
    "start_time": "2021-12-31T09:42:40.743Z"
   },
   {
    "duration": 25,
    "start_time": "2021-12-31T09:42:40.944Z"
   },
   {
    "duration": 198,
    "start_time": "2021-12-31T09:42:40.973Z"
   },
   {
    "duration": 54,
    "start_time": "2021-12-31T09:42:41.175Z"
   },
   {
    "duration": 35,
    "start_time": "2021-12-31T09:42:41.232Z"
   },
   {
    "duration": 64,
    "start_time": "2021-12-31T09:42:41.270Z"
   },
   {
    "duration": 37,
    "start_time": "2021-12-31T09:42:41.337Z"
   },
   {
    "duration": 5,
    "start_time": "2021-12-31T09:42:41.378Z"
   },
   {
    "duration": 17,
    "start_time": "2021-12-31T09:42:41.386Z"
   },
   {
    "duration": 32,
    "start_time": "2021-12-31T09:42:41.405Z"
   },
   {
    "duration": 31,
    "start_time": "2021-12-31T09:42:41.440Z"
   },
   {
    "duration": 16,
    "start_time": "2021-12-31T09:42:41.474Z"
   },
   {
    "duration": 9,
    "start_time": "2021-12-31T09:42:41.493Z"
   },
   {
    "duration": 26,
    "start_time": "2021-12-31T09:42:41.505Z"
   },
   {
    "duration": 28,
    "start_time": "2021-12-31T09:42:41.534Z"
   },
   {
    "duration": 8,
    "start_time": "2021-12-31T09:42:41.566Z"
   },
   {
    "duration": 13,
    "start_time": "2021-12-31T09:42:41.577Z"
   },
   {
    "duration": 31,
    "start_time": "2021-12-31T09:42:41.593Z"
   },
   {
    "duration": 39,
    "start_time": "2021-12-31T09:42:41.627Z"
   },
   {
    "duration": 5,
    "start_time": "2021-12-31T09:42:41.669Z"
   },
   {
    "duration": 840,
    "start_time": "2021-12-31T09:42:41.677Z"
   },
   {
    "duration": 7,
    "start_time": "2021-12-31T09:42:42.519Z"
   },
   {
    "duration": 16,
    "start_time": "2021-12-31T09:42:42.535Z"
   },
   {
    "duration": 61,
    "start_time": "2021-12-31T09:42:42.556Z"
   },
   {
    "duration": 919,
    "start_time": "2021-12-31T09:42:42.621Z"
   },
   {
    "duration": 7,
    "start_time": "2021-12-31T09:42:43.543Z"
   },
   {
    "duration": 1232,
    "start_time": "2021-12-31T09:42:43.554Z"
   },
   {
    "duration": 5,
    "start_time": "2021-12-31T09:42:44.788Z"
   },
   {
    "duration": 653,
    "start_time": "2021-12-31T09:42:44.795Z"
   },
   {
    "duration": 6,
    "start_time": "2021-12-31T09:42:45.450Z"
   },
   {
    "duration": 683,
    "start_time": "2021-12-31T09:42:45.458Z"
   },
   {
    "duration": 6,
    "start_time": "2021-12-31T09:42:46.144Z"
   },
   {
    "duration": 1703,
    "start_time": "2021-12-31T09:42:46.152Z"
   },
   {
    "duration": 13,
    "start_time": "2021-12-31T09:42:47.858Z"
   },
   {
    "duration": 117,
    "start_time": "2021-12-31T09:42:47.873Z"
   },
   {
    "duration": 1180,
    "start_time": "2021-12-31T09:42:47.993Z"
   },
   {
    "duration": -200,
    "start_time": "2021-12-31T09:42:49.376Z"
   },
   {
    "duration": -202,
    "start_time": "2021-12-31T09:42:49.379Z"
   },
   {
    "duration": -210,
    "start_time": "2021-12-31T09:42:49.388Z"
   },
   {
    "duration": -210,
    "start_time": "2021-12-31T09:42:49.390Z"
   },
   {
    "duration": -213,
    "start_time": "2021-12-31T09:42:49.394Z"
   },
   {
    "duration": -219,
    "start_time": "2021-12-31T09:42:49.402Z"
   },
   {
    "duration": -220,
    "start_time": "2021-12-31T09:42:49.405Z"
   },
   {
    "duration": -228,
    "start_time": "2021-12-31T09:42:49.414Z"
   },
   {
    "duration": -228,
    "start_time": "2021-12-31T09:42:49.416Z"
   },
   {
    "duration": -231,
    "start_time": "2021-12-31T09:42:49.420Z"
   },
   {
    "duration": -238,
    "start_time": "2021-12-31T09:42:49.428Z"
   },
   {
    "duration": -239,
    "start_time": "2021-12-31T09:42:49.431Z"
   },
   {
    "duration": -241,
    "start_time": "2021-12-31T09:42:49.434Z"
   },
   {
    "duration": -247,
    "start_time": "2021-12-31T09:42:49.442Z"
   },
   {
    "duration": -248,
    "start_time": "2021-12-31T09:42:49.445Z"
   },
   {
    "duration": -250,
    "start_time": "2021-12-31T09:42:49.448Z"
   },
   {
    "duration": -255,
    "start_time": "2021-12-31T09:42:49.456Z"
   },
   {
    "duration": -255,
    "start_time": "2021-12-31T09:42:49.458Z"
   },
   {
    "duration": -256,
    "start_time": "2021-12-31T09:42:49.462Z"
   },
   {
    "duration": -257,
    "start_time": "2021-12-31T09:42:49.465Z"
   },
   {
    "duration": -257,
    "start_time": "2021-12-31T09:42:49.467Z"
   },
   {
    "duration": -253,
    "start_time": "2021-12-31T09:42:49.470Z"
   },
   {
    "duration": 144,
    "start_time": "2021-12-31T09:43:26.404Z"
   },
   {
    "duration": 16,
    "start_time": "2021-12-31T09:43:26.550Z"
   },
   {
    "duration": 133,
    "start_time": "2021-12-31T09:43:26.569Z"
   },
   {
    "duration": 49,
    "start_time": "2021-12-31T09:43:26.705Z"
   },
   {
    "duration": 33,
    "start_time": "2021-12-31T09:43:26.756Z"
   },
   {
    "duration": 69,
    "start_time": "2021-12-31T09:43:26.791Z"
   },
   {
    "duration": 11,
    "start_time": "2021-12-31T09:43:26.863Z"
   },
   {
    "duration": 6,
    "start_time": "2021-12-31T09:43:26.878Z"
   },
   {
    "duration": 3,
    "start_time": "2021-12-31T09:43:26.920Z"
   },
   {
    "duration": 11,
    "start_time": "2021-12-31T09:43:26.927Z"
   },
   {
    "duration": 4,
    "start_time": "2021-12-31T09:43:26.941Z"
   },
   {
    "duration": 14,
    "start_time": "2021-12-31T09:43:26.948Z"
   },
   {
    "duration": 60,
    "start_time": "2021-12-31T09:43:26.965Z"
   },
   {
    "duration": 46,
    "start_time": "2021-12-31T09:43:27.028Z"
   },
   {
    "duration": 30,
    "start_time": "2021-12-31T09:43:27.076Z"
   },
   {
    "duration": 12,
    "start_time": "2021-12-31T09:43:27.109Z"
   },
   {
    "duration": 10,
    "start_time": "2021-12-31T09:43:27.124Z"
   },
   {
    "duration": 9,
    "start_time": "2021-12-31T09:43:27.137Z"
   },
   {
    "duration": 73,
    "start_time": "2021-12-31T09:43:27.148Z"
   },
   {
    "duration": 5,
    "start_time": "2021-12-31T09:43:27.223Z"
   },
   {
    "duration": 814,
    "start_time": "2021-12-31T09:43:27.231Z"
   },
   {
    "duration": 5,
    "start_time": "2021-12-31T09:43:28.048Z"
   },
   {
    "duration": 13,
    "start_time": "2021-12-31T09:43:28.055Z"
   },
   {
    "duration": 31,
    "start_time": "2021-12-31T09:43:28.071Z"
   },
   {
    "duration": 734,
    "start_time": "2021-12-31T09:43:28.118Z"
   },
   {
    "duration": 5,
    "start_time": "2021-12-31T09:43:28.854Z"
   },
   {
    "duration": 724,
    "start_time": "2021-12-31T09:43:28.865Z"
   },
   {
    "duration": 6,
    "start_time": "2021-12-31T09:43:29.593Z"
   },
   {
    "duration": 643,
    "start_time": "2021-12-31T09:43:29.617Z"
   },
   {
    "duration": 6,
    "start_time": "2021-12-31T09:43:30.262Z"
   },
   {
    "duration": 695,
    "start_time": "2021-12-31T09:43:30.271Z"
   },
   {
    "duration": 5,
    "start_time": "2021-12-31T09:43:30.969Z"
   },
   {
    "duration": 1360,
    "start_time": "2021-12-31T09:43:30.976Z"
   },
   {
    "duration": 12,
    "start_time": "2021-12-31T09:43:32.338Z"
   },
   {
    "duration": 126,
    "start_time": "2021-12-31T09:43:32.353Z"
   },
   {
    "duration": 1235,
    "start_time": "2021-12-31T09:43:32.481Z"
   },
   {
    "duration": -198,
    "start_time": "2021-12-31T09:43:33.918Z"
   },
   {
    "duration": -200,
    "start_time": "2021-12-31T09:43:33.921Z"
   },
   {
    "duration": -200,
    "start_time": "2021-12-31T09:43:33.924Z"
   },
   {
    "duration": -200,
    "start_time": "2021-12-31T09:43:33.926Z"
   },
   {
    "duration": -201,
    "start_time": "2021-12-31T09:43:33.929Z"
   },
   {
    "duration": -201,
    "start_time": "2021-12-31T09:43:33.931Z"
   },
   {
    "duration": -200,
    "start_time": "2021-12-31T09:43:33.933Z"
   },
   {
    "duration": -201,
    "start_time": "2021-12-31T09:43:33.936Z"
   },
   {
    "duration": -201,
    "start_time": "2021-12-31T09:43:33.938Z"
   },
   {
    "duration": -202,
    "start_time": "2021-12-31T09:43:33.941Z"
   },
   {
    "duration": -206,
    "start_time": "2021-12-31T09:43:33.947Z"
   },
   {
    "duration": -206,
    "start_time": "2021-12-31T09:43:33.950Z"
   },
   {
    "duration": -207,
    "start_time": "2021-12-31T09:43:33.953Z"
   },
   {
    "duration": -240,
    "start_time": "2021-12-31T09:43:33.988Z"
   },
   {
    "duration": -242,
    "start_time": "2021-12-31T09:43:33.992Z"
   },
   {
    "duration": -242,
    "start_time": "2021-12-31T09:43:33.994Z"
   },
   {
    "duration": -243,
    "start_time": "2021-12-31T09:43:33.997Z"
   },
   {
    "duration": -248,
    "start_time": "2021-12-31T09:43:34.004Z"
   },
   {
    "duration": -248,
    "start_time": "2021-12-31T09:43:34.006Z"
   },
   {
    "duration": -249,
    "start_time": "2021-12-31T09:43:34.009Z"
   },
   {
    "duration": -195,
    "start_time": "2021-12-31T09:43:34.012Z"
   },
   {
    "duration": -196,
    "start_time": "2021-12-31T09:43:34.015Z"
   },
   {
    "duration": 715,
    "start_time": "2021-12-31T09:44:54.184Z"
   },
   {
    "duration": 756,
    "start_time": "2021-12-31T09:45:05.434Z"
   },
   {
    "duration": 711,
    "start_time": "2021-12-31T09:45:29.463Z"
   },
   {
    "duration": 630,
    "start_time": "2021-12-31T09:45:48.434Z"
   },
   {
    "duration": 1035,
    "start_time": "2021-12-31T09:46:09.341Z"
   },
   {
    "duration": 610,
    "start_time": "2021-12-31T09:46:34.187Z"
   },
   {
    "duration": 88,
    "start_time": "2021-12-31T09:50:03.576Z"
   },
   {
    "duration": 112,
    "start_time": "2021-12-31T09:50:17.063Z"
   },
   {
    "duration": 88,
    "start_time": "2021-12-31T09:50:22.312Z"
   },
   {
    "duration": 86,
    "start_time": "2021-12-31T09:50:28.120Z"
   },
   {
    "duration": 91,
    "start_time": "2021-12-31T09:50:37.529Z"
   },
   {
    "duration": 112,
    "start_time": "2021-12-31T09:51:11.033Z"
   },
   {
    "duration": 120,
    "start_time": "2021-12-31T09:52:03.714Z"
   },
   {
    "duration": 115,
    "start_time": "2021-12-31T09:52:28.554Z"
   },
   {
    "duration": 140,
    "start_time": "2021-12-31T09:52:39.037Z"
   },
   {
    "duration": 47,
    "start_time": "2021-12-31T09:52:39.179Z"
   },
   {
    "duration": 107,
    "start_time": "2021-12-31T09:52:39.230Z"
   },
   {
    "duration": 40,
    "start_time": "2021-12-31T09:52:39.339Z"
   },
   {
    "duration": 55,
    "start_time": "2021-12-31T09:52:39.381Z"
   },
   {
    "duration": 28,
    "start_time": "2021-12-31T09:52:39.439Z"
   },
   {
    "duration": 8,
    "start_time": "2021-12-31T09:52:39.469Z"
   },
   {
    "duration": 4,
    "start_time": "2021-12-31T09:52:39.480Z"
   },
   {
    "duration": 3,
    "start_time": "2021-12-31T09:52:39.519Z"
   },
   {
    "duration": 14,
    "start_time": "2021-12-31T09:52:39.525Z"
   },
   {
    "duration": 3,
    "start_time": "2021-12-31T09:52:39.541Z"
   },
   {
    "duration": 8,
    "start_time": "2021-12-31T09:52:39.546Z"
   },
   {
    "duration": 7,
    "start_time": "2021-12-31T09:52:39.557Z"
   },
   {
    "duration": 51,
    "start_time": "2021-12-31T09:52:39.566Z"
   },
   {
    "duration": 26,
    "start_time": "2021-12-31T09:52:39.620Z"
   },
   {
    "duration": 7,
    "start_time": "2021-12-31T09:52:39.648Z"
   },
   {
    "duration": 10,
    "start_time": "2021-12-31T09:52:39.657Z"
   },
   {
    "duration": 7,
    "start_time": "2021-12-31T09:52:39.669Z"
   },
   {
    "duration": 63,
    "start_time": "2021-12-31T09:52:39.678Z"
   },
   {
    "duration": 5,
    "start_time": "2021-12-31T09:52:39.743Z"
   },
   {
    "duration": 887,
    "start_time": "2021-12-31T09:52:39.750Z"
   },
   {
    "duration": 6,
    "start_time": "2021-12-31T09:52:40.639Z"
   },
   {
    "duration": 9,
    "start_time": "2021-12-31T09:52:40.647Z"
   },
   {
    "duration": 32,
    "start_time": "2021-12-31T09:52:40.659Z"
   },
   {
    "duration": 710,
    "start_time": "2021-12-31T09:52:40.717Z"
   },
   {
    "duration": 6,
    "start_time": "2021-12-31T09:52:41.429Z"
   },
   {
    "duration": 766,
    "start_time": "2021-12-31T09:52:41.440Z"
   },
   {
    "duration": 11,
    "start_time": "2021-12-31T09:52:42.209Z"
   },
   {
    "duration": 627,
    "start_time": "2021-12-31T09:52:42.223Z"
   },
   {
    "duration": 6,
    "start_time": "2021-12-31T09:52:42.853Z"
   },
   {
    "duration": 686,
    "start_time": "2021-12-31T09:52:42.862Z"
   },
   {
    "duration": 6,
    "start_time": "2021-12-31T09:52:43.551Z"
   },
   {
    "duration": 1271,
    "start_time": "2021-12-31T09:52:43.560Z"
   },
   {
    "duration": 12,
    "start_time": "2021-12-31T09:52:44.834Z"
   },
   {
    "duration": 135,
    "start_time": "2021-12-31T09:52:44.849Z"
   },
   {
    "duration": 443,
    "start_time": "2021-12-31T09:52:44.987Z"
   },
   {
    "duration": 6,
    "start_time": "2021-12-31T09:52:45.432Z"
   },
   {
    "duration": 283,
    "start_time": "2021-12-31T09:52:45.440Z"
   },
   {
    "duration": 596,
    "start_time": "2021-12-31T09:52:45.725Z"
   },
   {
    "duration": 258,
    "start_time": "2021-12-31T09:52:46.324Z"
   },
   {
    "duration": 283,
    "start_time": "2021-12-31T09:52:46.585Z"
   },
   {
    "duration": 274,
    "start_time": "2021-12-31T09:52:46.870Z"
   },
   {
    "duration": 311,
    "start_time": "2021-12-31T09:52:47.146Z"
   },
   {
    "duration": 32,
    "start_time": "2021-12-31T09:52:47.459Z"
   },
   {
    "duration": 27,
    "start_time": "2021-12-31T09:52:47.494Z"
   },
   {
    "duration": 20,
    "start_time": "2021-12-31T09:52:47.523Z"
   },
   {
    "duration": 349,
    "start_time": "2021-12-31T09:52:47.546Z"
   },
   {
    "duration": 305,
    "start_time": "2021-12-31T09:52:47.897Z"
   },
   {
    "duration": 18,
    "start_time": "2021-12-31T09:52:48.204Z"
   },
   {
    "duration": 507,
    "start_time": "2021-12-31T09:52:48.224Z"
   },
   {
    "duration": 523,
    "start_time": "2021-12-31T09:52:48.733Z"
   },
   {
    "duration": 785,
    "start_time": "2021-12-31T09:52:49.259Z"
   },
   {
    "duration": 498,
    "start_time": "2021-12-31T09:52:50.046Z"
   },
   {
    "duration": 321,
    "start_time": "2021-12-31T09:52:50.546Z"
   },
   {
    "duration": 6,
    "start_time": "2021-12-31T09:52:50.870Z"
   },
   {
    "duration": 309,
    "start_time": "2021-12-31T09:52:50.879Z"
   },
   {
    "duration": 440,
    "start_time": "2021-12-31T09:52:51.190Z"
   },
   {
    "duration": 338,
    "start_time": "2021-12-31T09:52:51.632Z"
   },
   {
    "duration": 34,
    "start_time": "2021-12-31T10:01:01.477Z"
   },
   {
    "duration": 33,
    "start_time": "2021-12-31T10:01:17.765Z"
   },
   {
    "duration": 34,
    "start_time": "2021-12-31T10:01:31.326Z"
   },
   {
    "duration": 33,
    "start_time": "2021-12-31T10:02:06.206Z"
   },
   {
    "duration": 10,
    "start_time": "2021-12-31T10:02:51.399Z"
   },
   {
    "duration": 117,
    "start_time": "2021-12-31T10:03:37.472Z"
   },
   {
    "duration": 108,
    "start_time": "2021-12-31T10:03:40.760Z"
   },
   {
    "duration": 15,
    "start_time": "2021-12-31T10:03:40.871Z"
   },
   {
    "duration": 130,
    "start_time": "2021-12-31T10:03:40.889Z"
   },
   {
    "duration": 38,
    "start_time": "2021-12-31T10:03:41.022Z"
   },
   {
    "duration": 63,
    "start_time": "2021-12-31T10:03:41.062Z"
   },
   {
    "duration": 29,
    "start_time": "2021-12-31T10:03:41.128Z"
   },
   {
    "duration": 9,
    "start_time": "2021-12-31T10:03:41.160Z"
   },
   {
    "duration": 4,
    "start_time": "2021-12-31T10:03:41.172Z"
   },
   {
    "duration": 39,
    "start_time": "2021-12-31T10:03:41.179Z"
   },
   {
    "duration": 11,
    "start_time": "2021-12-31T10:03:41.221Z"
   },
   {
    "duration": 3,
    "start_time": "2021-12-31T10:03:41.235Z"
   },
   {
    "duration": 10,
    "start_time": "2021-12-31T10:03:41.241Z"
   },
   {
    "duration": 9,
    "start_time": "2021-12-31T10:03:41.253Z"
   },
   {
    "duration": 71,
    "start_time": "2021-12-31T10:03:41.264Z"
   },
   {
    "duration": 28,
    "start_time": "2021-12-31T10:03:41.338Z"
   },
   {
    "duration": 8,
    "start_time": "2021-12-31T10:03:41.369Z"
   },
   {
    "duration": 40,
    "start_time": "2021-12-31T10:03:41.379Z"
   },
   {
    "duration": 6,
    "start_time": "2021-12-31T10:03:41.422Z"
   },
   {
    "duration": 35,
    "start_time": "2021-12-31T10:03:41.431Z"
   },
   {
    "duration": 4,
    "start_time": "2021-12-31T10:03:41.469Z"
   },
   {
    "duration": 841,
    "start_time": "2021-12-31T10:03:41.476Z"
   },
   {
    "duration": 5,
    "start_time": "2021-12-31T10:03:42.319Z"
   },
   {
    "duration": 5,
    "start_time": "2021-12-31T10:03:42.330Z"
   },
   {
    "duration": 33,
    "start_time": "2021-12-31T10:03:42.338Z"
   },
   {
    "duration": 718,
    "start_time": "2021-12-31T10:03:42.374Z"
   },
   {
    "duration": 5,
    "start_time": "2021-12-31T10:03:43.095Z"
   },
   {
    "duration": 715,
    "start_time": "2021-12-31T10:03:43.118Z"
   },
   {
    "duration": 7,
    "start_time": "2021-12-31T10:03:43.836Z"
   },
   {
    "duration": 620,
    "start_time": "2021-12-31T10:03:43.846Z"
   },
   {
    "duration": 7,
    "start_time": "2021-12-31T10:03:44.469Z"
   },
   {
    "duration": 679,
    "start_time": "2021-12-31T10:03:44.479Z"
   },
   {
    "duration": 6,
    "start_time": "2021-12-31T10:03:45.161Z"
   },
   {
    "duration": 1292,
    "start_time": "2021-12-31T10:03:45.170Z"
   },
   {
    "duration": 13,
    "start_time": "2021-12-31T10:03:46.465Z"
   },
   {
    "duration": 150,
    "start_time": "2021-12-31T10:03:46.481Z"
   },
   {
    "duration": 353,
    "start_time": "2021-12-31T10:03:46.635Z"
   },
   {
    "duration": 8,
    "start_time": "2021-12-31T10:03:46.991Z"
   },
   {
    "duration": 300,
    "start_time": "2021-12-31T10:03:47.001Z"
   },
   {
    "duration": 578,
    "start_time": "2021-12-31T10:03:47.304Z"
   },
   {
    "duration": 261,
    "start_time": "2021-12-31T10:03:47.884Z"
   },
   {
    "duration": 291,
    "start_time": "2021-12-31T10:03:48.148Z"
   },
   {
    "duration": 277,
    "start_time": "2021-12-31T10:03:48.442Z"
   },
   {
    "duration": 314,
    "start_time": "2021-12-31T10:03:48.722Z"
   },
   {
    "duration": 32,
    "start_time": "2021-12-31T10:03:49.039Z"
   },
   {
    "duration": 10,
    "start_time": "2021-12-31T10:03:49.073Z"
   },
   {
    "duration": 37,
    "start_time": "2021-12-31T10:03:49.085Z"
   },
   {
    "duration": 332,
    "start_time": "2021-12-31T10:03:49.125Z"
   },
   {
    "duration": 658,
    "start_time": "2021-12-31T10:03:49.459Z"
   },
   {
    "duration": 10,
    "start_time": "2021-12-31T10:03:50.119Z"
   },
   {
    "duration": 519,
    "start_time": "2021-12-31T10:03:50.131Z"
   },
   {
    "duration": 522,
    "start_time": "2021-12-31T10:03:50.653Z"
   },
   {
    "duration": 415,
    "start_time": "2021-12-31T10:03:51.178Z"
   },
   {
    "duration": 507,
    "start_time": "2021-12-31T10:03:51.595Z"
   },
   {
    "duration": 323,
    "start_time": "2021-12-31T10:03:52.105Z"
   },
   {
    "duration": 8,
    "start_time": "2021-12-31T10:03:52.431Z"
   },
   {
    "duration": 314,
    "start_time": "2021-12-31T10:03:52.441Z"
   },
   {
    "duration": 508,
    "start_time": "2021-12-31T10:03:52.758Z"
   },
   {
    "duration": 353,
    "start_time": "2021-12-31T10:03:53.269Z"
   },
   {
    "duration": 685,
    "start_time": "2021-12-31T10:06:11.611Z"
   },
   {
    "duration": 333,
    "start_time": "2021-12-31T10:07:30.965Z"
   },
   {
    "duration": 326,
    "start_time": "2021-12-31T10:08:28.677Z"
   },
   {
    "duration": 323,
    "start_time": "2021-12-31T10:08:41.970Z"
   },
   {
    "duration": -173,
    "start_time": "2021-12-31T10:11:19.951Z"
   },
   {
    "duration": 7065,
    "start_time": "2021-12-31T10:11:29.241Z"
   },
   {
    "duration": 310,
    "start_time": "2021-12-31T10:12:09.653Z"
   },
   {
    "duration": 232,
    "start_time": "2021-12-31T10:12:19.578Z"
   },
   {
    "duration": 202,
    "start_time": "2021-12-31T10:12:28.490Z"
   },
   {
    "duration": 373,
    "start_time": "2021-12-31T10:13:06.006Z"
   },
   {
    "duration": 6827,
    "start_time": "2021-12-31T10:13:23.571Z"
   },
   {
    "duration": 303,
    "start_time": "2021-12-31T10:14:36.958Z"
   },
   {
    "duration": 364,
    "start_time": "2021-12-31T10:15:26.695Z"
   },
   {
    "duration": 283,
    "start_time": "2021-12-31T10:15:43.270Z"
   },
   {
    "duration": 295,
    "start_time": "2021-12-31T10:15:54.518Z"
   },
   {
    "duration": 481,
    "start_time": "2021-12-31T10:16:22.927Z"
   },
   {
    "duration": 478,
    "start_time": "2021-12-31T10:16:33.642Z"
   },
   {
    "duration": 586,
    "start_time": "2021-12-31T10:17:11.038Z"
   },
   {
    "duration": 6,
    "start_time": "2021-12-31T10:17:25.393Z"
   },
   {
    "duration": 276,
    "start_time": "2021-12-31T10:18:03.063Z"
   },
   {
    "duration": 905,
    "start_time": "2021-12-31T10:18:43.779Z"
   },
   {
    "duration": 298,
    "start_time": "2021-12-31T10:19:23.729Z"
   },
   {
    "duration": 7,
    "start_time": "2021-12-31T10:19:53.492Z"
   },
   {
    "duration": 659,
    "start_time": "2021-12-31T10:22:08.022Z"
   },
   {
    "duration": 678,
    "start_time": "2021-12-31T10:24:16.213Z"
   },
   {
    "duration": 114,
    "start_time": "2021-12-31T10:25:07.153Z"
   },
   {
    "duration": 15,
    "start_time": "2021-12-31T10:25:07.270Z"
   },
   {
    "duration": 143,
    "start_time": "2021-12-31T10:25:07.287Z"
   },
   {
    "duration": 38,
    "start_time": "2021-12-31T10:25:07.432Z"
   },
   {
    "duration": 61,
    "start_time": "2021-12-31T10:25:07.472Z"
   },
   {
    "duration": 30,
    "start_time": "2021-12-31T10:25:07.536Z"
   },
   {
    "duration": 7,
    "start_time": "2021-12-31T10:25:07.568Z"
   },
   {
    "duration": 9,
    "start_time": "2021-12-31T10:25:07.579Z"
   },
   {
    "duration": 28,
    "start_time": "2021-12-31T10:25:07.591Z"
   },
   {
    "duration": 14,
    "start_time": "2021-12-31T10:25:07.621Z"
   },
   {
    "duration": 3,
    "start_time": "2021-12-31T10:25:07.637Z"
   },
   {
    "duration": 17,
    "start_time": "2021-12-31T10:25:07.642Z"
   },
   {
    "duration": 8,
    "start_time": "2021-12-31T10:25:07.661Z"
   },
   {
    "duration": 47,
    "start_time": "2021-12-31T10:25:07.671Z"
   },
   {
    "duration": 29,
    "start_time": "2021-12-31T10:25:07.721Z"
   },
   {
    "duration": 7,
    "start_time": "2021-12-31T10:25:07.753Z"
   },
   {
    "duration": 8,
    "start_time": "2021-12-31T10:25:07.762Z"
   },
   {
    "duration": 47,
    "start_time": "2021-12-31T10:25:07.773Z"
   },
   {
    "duration": 35,
    "start_time": "2021-12-31T10:25:07.823Z"
   },
   {
    "duration": 5,
    "start_time": "2021-12-31T10:25:07.861Z"
   },
   {
    "duration": 1206,
    "start_time": "2021-12-31T10:25:07.870Z"
   },
   {
    "duration": 7,
    "start_time": "2021-12-31T10:25:09.078Z"
   },
   {
    "duration": 24,
    "start_time": "2021-12-31T10:25:09.093Z"
   },
   {
    "duration": 33,
    "start_time": "2021-12-31T10:25:09.122Z"
   },
   {
    "duration": 722,
    "start_time": "2021-12-31T10:25:09.158Z"
   },
   {
    "duration": 7,
    "start_time": "2021-12-31T10:25:09.883Z"
   },
   {
    "duration": 758,
    "start_time": "2021-12-31T10:25:09.893Z"
   },
   {
    "duration": 6,
    "start_time": "2021-12-31T10:25:10.654Z"
   },
   {
    "duration": 661,
    "start_time": "2021-12-31T10:25:10.663Z"
   },
   {
    "duration": 6,
    "start_time": "2021-12-31T10:25:11.328Z"
   },
   {
    "duration": 734,
    "start_time": "2021-12-31T10:25:11.338Z"
   },
   {
    "duration": 5,
    "start_time": "2021-12-31T10:25:12.074Z"
   },
   {
    "duration": 1310,
    "start_time": "2021-12-31T10:25:12.081Z"
   },
   {
    "duration": 25,
    "start_time": "2021-12-31T10:25:13.393Z"
   },
   {
    "duration": 129,
    "start_time": "2021-12-31T10:25:13.420Z"
   },
   {
    "duration": 327,
    "start_time": "2021-12-31T10:25:13.552Z"
   },
   {
    "duration": 7,
    "start_time": "2021-12-31T10:25:13.881Z"
   },
   {
    "duration": 330,
    "start_time": "2021-12-31T10:25:13.890Z"
   },
   {
    "duration": 665,
    "start_time": "2021-12-31T10:25:14.222Z"
   },
   {
    "duration": 9,
    "start_time": "2021-12-31T10:25:14.890Z"
   },
   {
    "duration": 278,
    "start_time": "2021-12-31T10:25:14.918Z"
   },
   {
    "duration": 290,
    "start_time": "2021-12-31T10:25:15.199Z"
   },
   {
    "duration": 266,
    "start_time": "2021-12-31T10:25:15.492Z"
   },
   {
    "duration": 315,
    "start_time": "2021-12-31T10:25:15.761Z"
   },
   {
    "duration": 7,
    "start_time": "2021-12-31T10:25:16.078Z"
   },
   {
    "duration": 51,
    "start_time": "2021-12-31T10:25:16.087Z"
   },
   {
    "duration": 10,
    "start_time": "2021-12-31T10:25:16.140Z"
   },
   {
    "duration": 12,
    "start_time": "2021-12-31T10:25:16.152Z"
   },
   {
    "duration": 357,
    "start_time": "2021-12-31T10:25:16.167Z"
   },
   {
    "duration": 323,
    "start_time": "2021-12-31T10:25:16.526Z"
   },
   {
    "duration": 10,
    "start_time": "2021-12-31T10:25:16.851Z"
   },
   {
    "duration": 803,
    "start_time": "2021-12-31T10:25:16.863Z"
   },
   {
    "duration": 690,
    "start_time": "2021-12-31T10:25:17.668Z"
   },
   {
    "duration": 424,
    "start_time": "2021-12-31T10:25:18.360Z"
   },
   {
    "duration": 471,
    "start_time": "2021-12-31T10:25:18.786Z"
   },
   {
    "duration": 324,
    "start_time": "2021-12-31T10:25:19.260Z"
   },
   {
    "duration": 7,
    "start_time": "2021-12-31T10:25:19.586Z"
   },
   {
    "duration": 308,
    "start_time": "2021-12-31T10:25:19.595Z"
   },
   {
    "duration": 478,
    "start_time": "2021-12-31T10:25:19.905Z"
   },
   {
    "duration": 319,
    "start_time": "2021-12-31T10:25:20.386Z"
   },
   {
    "duration": 661,
    "start_time": "2021-12-31T10:25:47.283Z"
   },
   {
    "duration": 1100,
    "start_time": "2021-12-31T10:25:56.923Z"
   },
   {
    "duration": 660,
    "start_time": "2021-12-31T10:26:04.690Z"
   },
   {
    "duration": 590,
    "start_time": "2021-12-31T10:28:30.839Z"
   },
   {
    "duration": 597,
    "start_time": "2021-12-31T10:28:43.838Z"
   },
   {
    "duration": 634,
    "start_time": "2021-12-31T10:31:43.226Z"
   },
   {
    "duration": 648,
    "start_time": "2021-12-31T10:31:57.498Z"
   },
   {
    "duration": 650,
    "start_time": "2021-12-31T10:32:10.778Z"
   },
   {
    "duration": 283,
    "start_time": "2021-12-31T10:35:27.590Z"
   },
   {
    "duration": 308,
    "start_time": "2021-12-31T10:35:53.613Z"
   },
   {
    "duration": 301,
    "start_time": "2021-12-31T10:36:26.248Z"
   },
   {
    "duration": 217,
    "start_time": "2021-12-31T10:36:47.106Z"
   },
   {
    "duration": 25,
    "start_time": "2021-12-31T10:36:47.326Z"
   },
   {
    "duration": 182,
    "start_time": "2021-12-31T10:36:47.355Z"
   },
   {
    "duration": 41,
    "start_time": "2021-12-31T10:36:47.540Z"
   },
   {
    "duration": 53,
    "start_time": "2021-12-31T10:36:47.583Z"
   },
   {
    "duration": 31,
    "start_time": "2021-12-31T10:36:47.639Z"
   },
   {
    "duration": 9,
    "start_time": "2021-12-31T10:36:47.673Z"
   },
   {
    "duration": 5,
    "start_time": "2021-12-31T10:36:47.719Z"
   },
   {
    "duration": 4,
    "start_time": "2021-12-31T10:36:47.727Z"
   },
   {
    "duration": 17,
    "start_time": "2021-12-31T10:36:47.734Z"
   },
   {
    "duration": 3,
    "start_time": "2021-12-31T10:36:47.754Z"
   },
   {
    "duration": 14,
    "start_time": "2021-12-31T10:36:47.759Z"
   },
   {
    "duration": 45,
    "start_time": "2021-12-31T10:36:47.775Z"
   },
   {
    "duration": 18,
    "start_time": "2021-12-31T10:36:47.823Z"
   },
   {
    "duration": 29,
    "start_time": "2021-12-31T10:36:47.843Z"
   },
   {
    "duration": 6,
    "start_time": "2021-12-31T10:36:47.875Z"
   },
   {
    "duration": 39,
    "start_time": "2021-12-31T10:36:47.883Z"
   },
   {
    "duration": 8,
    "start_time": "2021-12-31T10:36:47.924Z"
   },
   {
    "duration": 34,
    "start_time": "2021-12-31T10:36:47.934Z"
   },
   {
    "duration": 5,
    "start_time": "2021-12-31T10:36:47.970Z"
   },
   {
    "duration": 827,
    "start_time": "2021-12-31T10:36:47.978Z"
   },
   {
    "duration": 13,
    "start_time": "2021-12-31T10:36:48.807Z"
   },
   {
    "duration": 6,
    "start_time": "2021-12-31T10:36:48.828Z"
   },
   {
    "duration": 34,
    "start_time": "2021-12-31T10:36:48.838Z"
   },
   {
    "duration": 733,
    "start_time": "2021-12-31T10:36:48.874Z"
   },
   {
    "duration": 9,
    "start_time": "2021-12-31T10:36:49.609Z"
   },
   {
    "duration": 722,
    "start_time": "2021-12-31T10:36:49.621Z"
   },
   {
    "duration": 5,
    "start_time": "2021-12-31T10:36:50.346Z"
   },
   {
    "duration": 629,
    "start_time": "2021-12-31T10:36:50.353Z"
   },
   {
    "duration": 5,
    "start_time": "2021-12-31T10:36:50.985Z"
   },
   {
    "duration": 806,
    "start_time": "2021-12-31T10:36:50.992Z"
   },
   {
    "duration": 6,
    "start_time": "2021-12-31T10:36:51.800Z"
   },
   {
    "duration": 1795,
    "start_time": "2021-12-31T10:36:51.817Z"
   },
   {
    "duration": 13,
    "start_time": "2021-12-31T10:36:53.614Z"
   },
   {
    "duration": 124,
    "start_time": "2021-12-31T10:36:53.629Z"
   },
   {
    "duration": 323,
    "start_time": "2021-12-31T10:36:53.755Z"
   },
   {
    "duration": 7,
    "start_time": "2021-12-31T10:36:54.080Z"
   },
   {
    "duration": 534,
    "start_time": "2021-12-31T10:36:54.090Z"
   },
   {
    "duration": 715,
    "start_time": "2021-12-31T10:36:54.627Z"
   },
   {
    "duration": 7,
    "start_time": "2021-12-31T10:36:55.345Z"
   },
   {
    "duration": 276,
    "start_time": "2021-12-31T10:36:55.355Z"
   },
   {
    "duration": 301,
    "start_time": "2021-12-31T10:36:55.633Z"
   },
   {
    "duration": 283,
    "start_time": "2021-12-31T10:36:55.937Z"
   },
   {
    "duration": 331,
    "start_time": "2021-12-31T10:36:56.222Z"
   },
   {
    "duration": 7,
    "start_time": "2021-12-31T10:36:56.556Z"
   },
   {
    "duration": 64,
    "start_time": "2021-12-31T10:36:56.565Z"
   },
   {
    "duration": 11,
    "start_time": "2021-12-31T10:36:56.631Z"
   },
   {
    "duration": 12,
    "start_time": "2021-12-31T10:36:56.645Z"
   },
   {
    "duration": 410,
    "start_time": "2021-12-31T10:36:56.660Z"
   },
   {
    "duration": 307,
    "start_time": "2021-12-31T10:36:57.073Z"
   },
   {
    "duration": 9,
    "start_time": "2021-12-31T10:36:57.383Z"
   },
   {
    "duration": 705,
    "start_time": "2021-12-31T10:36:57.394Z"
   },
   {
    "duration": 670,
    "start_time": "2021-12-31T10:36:58.101Z"
   },
   {
    "duration": 596,
    "start_time": "2021-12-31T10:36:58.773Z"
   },
   {
    "duration": 659,
    "start_time": "2021-12-31T10:36:59.371Z"
   },
   {
    "duration": 340,
    "start_time": "2021-12-31T10:37:00.032Z"
   },
   {
    "duration": 7,
    "start_time": "2021-12-31T10:37:00.374Z"
   },
   {
    "duration": 303,
    "start_time": "2021-12-31T10:37:00.383Z"
   },
   {
    "duration": 478,
    "start_time": "2021-12-31T10:37:00.688Z"
   },
   {
    "duration": 355,
    "start_time": "2021-12-31T10:37:01.168Z"
   },
   {
    "duration": 311,
    "start_time": "2021-12-31T10:37:19.020Z"
   },
   {
    "duration": 8,
    "start_time": "2021-12-31T10:37:43.185Z"
   },
   {
    "duration": 317,
    "start_time": "2021-12-31T10:39:26.461Z"
   },
   {
    "duration": 674,
    "start_time": "2021-12-31T10:40:29.621Z"
   },
   {
    "duration": 656,
    "start_time": "2021-12-31T10:40:55.956Z"
   },
   {
    "duration": 568,
    "start_time": "2021-12-31T10:41:10.822Z"
   },
   {
    "duration": 38717,
    "start_time": "2021-12-31T10:41:22.390Z"
   },
   {
    "duration": 40168,
    "start_time": "2021-12-31T10:44:26.370Z"
   },
   {
    "duration": 602,
    "start_time": "2021-12-31T10:45:57.807Z"
   },
   {
    "duration": 697,
    "start_time": "2021-12-31T10:46:09.059Z"
   },
   {
    "duration": 659,
    "start_time": "2021-12-31T10:46:31.462Z"
   },
   {
    "duration": 244,
    "start_time": "2021-12-31T10:48:24.671Z"
   },
   {
    "duration": 243,
    "start_time": "2021-12-31T10:48:44.231Z"
   },
   {
    "duration": 258,
    "start_time": "2021-12-31T10:49:43.192Z"
   },
   {
    "duration": 493,
    "start_time": "2021-12-31T10:50:03.264Z"
   },
   {
    "duration": 446,
    "start_time": "2021-12-31T10:50:28.526Z"
   },
   {
    "duration": 7,
    "start_time": "2021-12-31T10:50:47.993Z"
   },
   {
    "duration": 307,
    "start_time": "2021-12-31T10:52:37.076Z"
   },
   {
    "duration": 308,
    "start_time": "2021-12-31T10:52:42.876Z"
   },
   {
    "duration": 324,
    "start_time": "2021-12-31T10:53:02.215Z"
   },
   {
    "duration": 7,
    "start_time": "2021-12-31T10:53:13.996Z"
   },
   {
    "duration": 10,
    "start_time": "2021-12-31T11:46:11.526Z"
   },
   {
    "duration": 147,
    "start_time": "2021-12-31T11:47:17.670Z"
   },
   {
    "duration": 15,
    "start_time": "2021-12-31T11:47:17.820Z"
   },
   {
    "duration": 122,
    "start_time": "2021-12-31T11:47:17.837Z"
   },
   {
    "duration": 38,
    "start_time": "2021-12-31T11:47:17.962Z"
   },
   {
    "duration": 36,
    "start_time": "2021-12-31T11:47:18.018Z"
   },
   {
    "duration": 60,
    "start_time": "2021-12-31T11:47:18.057Z"
   },
   {
    "duration": 8,
    "start_time": "2021-12-31T11:47:18.119Z"
   },
   {
    "duration": 8,
    "start_time": "2021-12-31T11:47:18.131Z"
   },
   {
    "duration": 4,
    "start_time": "2021-12-31T11:47:18.142Z"
   },
   {
    "duration": 5,
    "start_time": "2021-12-31T11:47:18.149Z"
   },
   {
    "duration": 16,
    "start_time": "2021-12-31T11:47:18.156Z"
   },
   {
    "duration": 3,
    "start_time": "2021-12-31T11:47:18.174Z"
   },
   {
    "duration": 6,
    "start_time": "2021-12-31T11:47:18.217Z"
   },
   {
    "duration": 8,
    "start_time": "2021-12-31T11:47:18.226Z"
   },
   {
    "duration": 20,
    "start_time": "2021-12-31T11:47:18.237Z"
   },
   {
    "duration": 60,
    "start_time": "2021-12-31T11:47:18.259Z"
   },
   {
    "duration": 6,
    "start_time": "2021-12-31T11:47:18.321Z"
   },
   {
    "duration": 8,
    "start_time": "2021-12-31T11:47:18.330Z"
   },
   {
    "duration": 8,
    "start_time": "2021-12-31T11:47:18.340Z"
   },
   {
    "duration": 69,
    "start_time": "2021-12-31T11:47:18.350Z"
   },
   {
    "duration": 5,
    "start_time": "2021-12-31T11:47:18.421Z"
   },
   {
    "duration": 795,
    "start_time": "2021-12-31T11:47:18.428Z"
   },
   {
    "duration": 5,
    "start_time": "2021-12-31T11:47:19.229Z"
   },
   {
    "duration": 6,
    "start_time": "2021-12-31T11:47:19.237Z"
   },
   {
    "duration": 33,
    "start_time": "2021-12-31T11:47:19.245Z"
   },
   {
    "duration": 712,
    "start_time": "2021-12-31T11:47:19.280Z"
   },
   {
    "duration": 5,
    "start_time": "2021-12-31T11:47:19.994Z"
   },
   {
    "duration": 731,
    "start_time": "2021-12-31T11:47:20.018Z"
   },
   {
    "duration": 6,
    "start_time": "2021-12-31T11:47:20.751Z"
   },
   {
    "duration": 618,
    "start_time": "2021-12-31T11:47:20.759Z"
   },
   {
    "duration": 5,
    "start_time": "2021-12-31T11:47:21.379Z"
   },
   {
    "duration": 656,
    "start_time": "2021-12-31T11:47:21.386Z"
   },
   {
    "duration": 6,
    "start_time": "2021-12-31T11:47:22.044Z"
   },
   {
    "duration": 1294,
    "start_time": "2021-12-31T11:47:22.052Z"
   },
   {
    "duration": 12,
    "start_time": "2021-12-31T11:47:23.348Z"
   },
   {
    "duration": 150,
    "start_time": "2021-12-31T11:47:23.362Z"
   },
   {
    "duration": 317,
    "start_time": "2021-12-31T11:47:23.514Z"
   },
   {
    "duration": 7,
    "start_time": "2021-12-31T11:47:23.833Z"
   },
   {
    "duration": 330,
    "start_time": "2021-12-31T11:47:23.842Z"
   },
   {
    "duration": 7,
    "start_time": "2021-12-31T11:47:24.174Z"
   },
   {
    "duration": 618,
    "start_time": "2021-12-31T11:47:24.183Z"
   },
   {
    "duration": 13,
    "start_time": "2021-12-31T11:47:24.804Z"
   },
   {
    "duration": 257,
    "start_time": "2021-12-31T11:47:24.820Z"
   },
   {
    "duration": 290,
    "start_time": "2021-12-31T11:47:25.080Z"
   },
   {
    "duration": 265,
    "start_time": "2021-12-31T11:47:25.372Z"
   },
   {
    "duration": 312,
    "start_time": "2021-12-31T11:47:25.639Z"
   },
   {
    "duration": 6,
    "start_time": "2021-12-31T11:47:25.954Z"
   },
   {
    "duration": 56,
    "start_time": "2021-12-31T11:47:25.962Z"
   },
   {
    "duration": 10,
    "start_time": "2021-12-31T11:47:26.021Z"
   },
   {
    "duration": 11,
    "start_time": "2021-12-31T11:47:26.033Z"
   },
   {
    "duration": 341,
    "start_time": "2021-12-31T11:47:26.046Z"
   },
   {
    "duration": 308,
    "start_time": "2021-12-31T11:47:26.389Z"
   },
   {
    "duration": 19,
    "start_time": "2021-12-31T11:47:26.701Z"
   },
   {
    "duration": 730,
    "start_time": "2021-12-31T11:47:26.723Z"
   },
   {
    "duration": 686,
    "start_time": "2021-12-31T11:47:27.455Z"
   },
   {
    "duration": 1508,
    "start_time": "2021-12-31T11:47:28.143Z"
   },
   {
    "duration": 666,
    "start_time": "2021-12-31T11:47:29.654Z"
   },
   {
    "duration": 332,
    "start_time": "2021-12-31T11:47:30.323Z"
   },
   {
    "duration": 7,
    "start_time": "2021-12-31T11:47:30.659Z"
   },
   {
    "duration": 283,
    "start_time": "2021-12-31T11:47:30.670Z"
   },
   {
    "duration": 508,
    "start_time": "2021-12-31T11:47:30.956Z"
   },
   {
    "duration": 9,
    "start_time": "2021-12-31T11:47:31.467Z"
   },
   {
    "duration": 433,
    "start_time": "2021-12-31T11:47:31.479Z"
   },
   {
    "duration": 8,
    "start_time": "2021-12-31T11:47:31.918Z"
   },
   {
    "duration": 96,
    "start_time": "2021-12-31T11:47:31.929Z"
   },
   {
    "duration": 316,
    "start_time": "2021-12-31T11:58:39.955Z"
   },
   {
    "duration": 132,
    "start_time": "2021-12-31T12:13:47.730Z"
   },
   {
    "duration": 17,
    "start_time": "2021-12-31T12:13:47.864Z"
   },
   {
    "duration": 150,
    "start_time": "2021-12-31T12:13:47.883Z"
   },
   {
    "duration": 43,
    "start_time": "2021-12-31T12:13:48.036Z"
   },
   {
    "duration": 57,
    "start_time": "2021-12-31T12:13:48.081Z"
   },
   {
    "duration": 32,
    "start_time": "2021-12-31T12:13:48.141Z"
   },
   {
    "duration": 14,
    "start_time": "2021-12-31T12:13:48.175Z"
   },
   {
    "duration": 4,
    "start_time": "2021-12-31T12:13:48.218Z"
   },
   {
    "duration": 5,
    "start_time": "2021-12-31T12:13:48.226Z"
   },
   {
    "duration": 11,
    "start_time": "2021-12-31T12:13:48.233Z"
   },
   {
    "duration": 3,
    "start_time": "2021-12-31T12:13:48.246Z"
   },
   {
    "duration": 10,
    "start_time": "2021-12-31T12:13:48.252Z"
   },
   {
    "duration": 8,
    "start_time": "2021-12-31T12:13:48.265Z"
   },
   {
    "duration": 61,
    "start_time": "2021-12-31T12:13:48.275Z"
   },
   {
    "duration": 28,
    "start_time": "2021-12-31T12:13:48.338Z"
   },
   {
    "duration": 6,
    "start_time": "2021-12-31T12:13:48.368Z"
   },
   {
    "duration": 40,
    "start_time": "2021-12-31T12:13:48.377Z"
   },
   {
    "duration": 6,
    "start_time": "2021-12-31T12:13:48.419Z"
   },
   {
    "duration": 36,
    "start_time": "2021-12-31T12:13:48.427Z"
   },
   {
    "duration": 5,
    "start_time": "2021-12-31T12:13:48.465Z"
   },
   {
    "duration": 839,
    "start_time": "2021-12-31T12:13:48.472Z"
   },
   {
    "duration": 6,
    "start_time": "2021-12-31T12:13:49.314Z"
   },
   {
    "duration": 18,
    "start_time": "2021-12-31T12:13:49.326Z"
   },
   {
    "duration": 43,
    "start_time": "2021-12-31T12:13:49.347Z"
   },
   {
    "duration": 759,
    "start_time": "2021-12-31T12:13:49.393Z"
   },
   {
    "duration": 6,
    "start_time": "2021-12-31T12:13:50.154Z"
   },
   {
    "duration": 759,
    "start_time": "2021-12-31T12:13:50.162Z"
   },
   {
    "duration": 5,
    "start_time": "2021-12-31T12:13:50.924Z"
   },
   {
    "duration": 751,
    "start_time": "2021-12-31T12:13:50.932Z"
   },
   {
    "duration": 6,
    "start_time": "2021-12-31T12:13:51.685Z"
   },
   {
    "duration": 1016,
    "start_time": "2021-12-31T12:13:51.693Z"
   },
   {
    "duration": 6,
    "start_time": "2021-12-31T12:13:52.716Z"
   },
   {
    "duration": 1316,
    "start_time": "2021-12-31T12:13:52.725Z"
   },
   {
    "duration": 11,
    "start_time": "2021-12-31T12:13:54.044Z"
   },
   {
    "duration": 146,
    "start_time": "2021-12-31T12:13:54.058Z"
   },
   {
    "duration": 333,
    "start_time": "2021-12-31T12:13:54.206Z"
   },
   {
    "duration": 7,
    "start_time": "2021-12-31T12:13:54.542Z"
   },
   {
    "duration": 335,
    "start_time": "2021-12-31T12:13:54.552Z"
   },
   {
    "duration": 9,
    "start_time": "2021-12-31T12:13:54.890Z"
   },
   {
    "duration": 618,
    "start_time": "2021-12-31T12:13:54.918Z"
   },
   {
    "duration": 9,
    "start_time": "2021-12-31T12:13:55.539Z"
   },
   {
    "duration": 290,
    "start_time": "2021-12-31T12:13:55.551Z"
   },
   {
    "duration": 301,
    "start_time": "2021-12-31T12:13:55.844Z"
   },
   {
    "duration": 281,
    "start_time": "2021-12-31T12:13:56.148Z"
   },
   {
    "duration": 329,
    "start_time": "2021-12-31T12:13:56.432Z"
   },
   {
    "duration": 8,
    "start_time": "2021-12-31T12:13:56.763Z"
   },
   {
    "duration": 65,
    "start_time": "2021-12-31T12:13:56.774Z"
   },
   {
    "duration": 13,
    "start_time": "2021-12-31T12:13:56.843Z"
   },
   {
    "duration": 13,
    "start_time": "2021-12-31T12:13:56.859Z"
   },
   {
    "duration": 386,
    "start_time": "2021-12-31T12:13:56.875Z"
   },
   {
    "duration": 313,
    "start_time": "2021-12-31T12:13:57.264Z"
   },
   {
    "duration": 9,
    "start_time": "2021-12-31T12:13:57.580Z"
   },
   {
    "duration": 1154,
    "start_time": "2021-12-31T12:13:57.592Z"
   },
   {
    "duration": 684,
    "start_time": "2021-12-31T12:13:58.748Z"
   },
   {
    "duration": 689,
    "start_time": "2021-12-31T12:13:59.434Z"
   },
   {
    "duration": 682,
    "start_time": "2021-12-31T12:14:00.125Z"
   },
   {
    "duration": 344,
    "start_time": "2021-12-31T12:14:00.818Z"
   },
   {
    "duration": 7,
    "start_time": "2021-12-31T12:14:01.165Z"
   },
   {
    "duration": 286,
    "start_time": "2021-12-31T12:14:01.174Z"
   },
   {
    "duration": 502,
    "start_time": "2021-12-31T12:14:01.462Z"
   },
   {
    "duration": 7,
    "start_time": "2021-12-31T12:14:01.966Z"
   },
   {
    "duration": 330,
    "start_time": "2021-12-31T12:14:01.975Z"
   },
   {
    "duration": 13,
    "start_time": "2021-12-31T12:14:02.308Z"
   },
   {
    "duration": 643,
    "start_time": "2021-12-31T12:17:38.830Z"
   },
   {
    "duration": 134,
    "start_time": "2021-12-31T12:18:01.947Z"
   },
   {
    "duration": 46,
    "start_time": "2021-12-31T12:18:02.083Z"
   },
   {
    "duration": 114,
    "start_time": "2021-12-31T12:18:02.132Z"
   },
   {
    "duration": 39,
    "start_time": "2021-12-31T12:18:02.249Z"
   },
   {
    "duration": 55,
    "start_time": "2021-12-31T12:18:02.291Z"
   },
   {
    "duration": 30,
    "start_time": "2021-12-31T12:18:02.348Z"
   },
   {
    "duration": 37,
    "start_time": "2021-12-31T12:18:02.380Z"
   },
   {
    "duration": 5,
    "start_time": "2021-12-31T12:18:02.420Z"
   },
   {
    "duration": 6,
    "start_time": "2021-12-31T12:18:02.429Z"
   },
   {
    "duration": 12,
    "start_time": "2021-12-31T12:18:02.438Z"
   },
   {
    "duration": 12,
    "start_time": "2021-12-31T12:18:02.452Z"
   },
   {
    "duration": 13,
    "start_time": "2021-12-31T12:18:02.467Z"
   },
   {
    "duration": 22,
    "start_time": "2021-12-31T12:18:02.482Z"
   },
   {
    "duration": 33,
    "start_time": "2021-12-31T12:18:02.506Z"
   },
   {
    "duration": 27,
    "start_time": "2021-12-31T12:18:02.541Z"
   },
   {
    "duration": 7,
    "start_time": "2021-12-31T12:18:02.571Z"
   },
   {
    "duration": 37,
    "start_time": "2021-12-31T12:18:02.581Z"
   },
   {
    "duration": 6,
    "start_time": "2021-12-31T12:18:02.620Z"
   },
   {
    "duration": 34,
    "start_time": "2021-12-31T12:18:02.628Z"
   },
   {
    "duration": 4,
    "start_time": "2021-12-31T12:18:02.665Z"
   },
   {
    "duration": 787,
    "start_time": "2021-12-31T12:18:02.671Z"
   },
   {
    "duration": 6,
    "start_time": "2021-12-31T12:18:03.460Z"
   },
   {
    "duration": 11,
    "start_time": "2021-12-31T12:18:03.468Z"
   },
   {
    "duration": 54,
    "start_time": "2021-12-31T12:18:03.481Z"
   },
   {
    "duration": 716,
    "start_time": "2021-12-31T12:18:03.538Z"
   },
   {
    "duration": 4,
    "start_time": "2021-12-31T12:18:04.257Z"
   },
   {
    "duration": 721,
    "start_time": "2021-12-31T12:18:04.267Z"
   },
   {
    "duration": 4,
    "start_time": "2021-12-31T12:18:04.992Z"
   },
   {
    "duration": 645,
    "start_time": "2021-12-31T12:18:04.998Z"
   },
   {
    "duration": 6,
    "start_time": "2021-12-31T12:18:05.646Z"
   },
   {
    "duration": 717,
    "start_time": "2021-12-31T12:18:05.655Z"
   },
   {
    "duration": 6,
    "start_time": "2021-12-31T12:18:06.374Z"
   },
   {
    "duration": 1268,
    "start_time": "2021-12-31T12:18:06.382Z"
   },
   {
    "duration": 13,
    "start_time": "2021-12-31T12:18:07.652Z"
   },
   {
    "duration": 547,
    "start_time": "2021-12-31T12:18:07.667Z"
   },
   {
    "duration": 346,
    "start_time": "2021-12-31T12:18:08.217Z"
   },
   {
    "duration": 8,
    "start_time": "2021-12-31T12:18:08.566Z"
   },
   {
    "duration": 327,
    "start_time": "2021-12-31T12:18:08.576Z"
   },
   {
    "duration": 15,
    "start_time": "2021-12-31T12:18:08.906Z"
   },
   {
    "duration": 643,
    "start_time": "2021-12-31T12:18:08.923Z"
   },
   {
    "duration": 7,
    "start_time": "2021-12-31T12:18:09.569Z"
   },
   {
    "duration": 273,
    "start_time": "2021-12-31T12:18:09.578Z"
   },
   {
    "duration": 301,
    "start_time": "2021-12-31T12:18:09.853Z"
   },
   {
    "duration": 266,
    "start_time": "2021-12-31T12:18:10.157Z"
   },
   {
    "duration": 332,
    "start_time": "2021-12-31T12:18:10.425Z"
   },
   {
    "duration": 8,
    "start_time": "2021-12-31T12:18:10.759Z"
   },
   {
    "duration": 54,
    "start_time": "2021-12-31T12:18:10.769Z"
   },
   {
    "duration": 12,
    "start_time": "2021-12-31T12:18:10.826Z"
   },
   {
    "duration": 14,
    "start_time": "2021-12-31T12:18:10.840Z"
   },
   {
    "duration": 355,
    "start_time": "2021-12-31T12:18:10.856Z"
   },
   {
    "duration": 324,
    "start_time": "2021-12-31T12:18:11.214Z"
   },
   {
    "duration": 9,
    "start_time": "2021-12-31T12:18:11.541Z"
   },
   {
    "duration": 753,
    "start_time": "2021-12-31T12:18:11.553Z"
   },
   {
    "duration": 664,
    "start_time": "2021-12-31T12:18:12.309Z"
   },
   {
    "duration": 668,
    "start_time": "2021-12-31T12:18:12.976Z"
   },
   {
    "duration": 657,
    "start_time": "2021-12-31T12:18:13.647Z"
   },
   {
    "duration": 329,
    "start_time": "2021-12-31T12:18:14.306Z"
   },
   {
    "duration": 7,
    "start_time": "2021-12-31T12:18:14.638Z"
   },
   {
    "duration": 280,
    "start_time": "2021-12-31T12:18:14.648Z"
   },
   {
    "duration": 456,
    "start_time": "2021-12-31T12:18:14.931Z"
   },
   {
    "duration": 9,
    "start_time": "2021-12-31T12:18:15.390Z"
   },
   {
    "duration": 313,
    "start_time": "2021-12-31T12:18:15.417Z"
   },
   {
    "duration": 7,
    "start_time": "2021-12-31T12:18:15.732Z"
   },
   {
    "duration": 103,
    "start_time": "2021-12-31T12:21:30.500Z"
   },
   {
    "duration": 1945,
    "start_time": "2022-01-01T13:08:29.628Z"
   },
   {
    "duration": 19,
    "start_time": "2022-01-01T13:08:31.576Z"
   },
   {
    "duration": 102,
    "start_time": "2022-01-01T13:08:31.598Z"
   },
   {
    "duration": 25,
    "start_time": "2022-01-01T13:08:31.702Z"
   },
   {
    "duration": 106744,
    "start_time": "2022-01-01T13:08:31.729Z"
   },
   {
    "duration": 32,
    "start_time": "2022-01-01T13:10:18.475Z"
   },
   {
    "duration": 6,
    "start_time": "2022-01-01T13:10:18.509Z"
   },
   {
    "duration": 7,
    "start_time": "2022-01-01T13:10:18.519Z"
   },
   {
    "duration": 3,
    "start_time": "2022-01-01T13:10:18.529Z"
   },
   {
    "duration": 11,
    "start_time": "2022-01-01T13:10:18.534Z"
   },
   {
    "duration": 3,
    "start_time": "2022-01-01T13:10:18.547Z"
   },
   {
    "duration": 7,
    "start_time": "2022-01-01T13:10:18.560Z"
   },
   {
    "duration": 7,
    "start_time": "2022-01-01T13:10:18.570Z"
   },
   {
    "duration": 49,
    "start_time": "2022-01-01T13:10:18.580Z"
   },
   {
    "duration": 30,
    "start_time": "2022-01-01T13:10:18.631Z"
   },
   {
    "duration": 6,
    "start_time": "2022-01-01T13:10:18.663Z"
   },
   {
    "duration": 7,
    "start_time": "2022-01-01T13:10:18.672Z"
   },
   {
    "duration": 4,
    "start_time": "2022-01-01T13:10:18.681Z"
   },
   {
    "duration": 40,
    "start_time": "2022-01-01T13:10:18.688Z"
   },
   {
    "duration": 4,
    "start_time": "2022-01-01T13:10:18.731Z"
   },
   {
    "duration": 671,
    "start_time": "2022-01-01T13:10:18.737Z"
   },
   {
    "duration": 4,
    "start_time": "2022-01-01T13:10:19.411Z"
   },
   {
    "duration": 5,
    "start_time": "2022-01-01T13:10:19.421Z"
   },
   {
    "duration": 38,
    "start_time": "2022-01-01T13:10:19.429Z"
   },
   {
    "duration": 1090,
    "start_time": "2022-01-01T13:10:19.469Z"
   },
   {
    "duration": 6,
    "start_time": "2022-01-01T13:10:20.561Z"
   },
   {
    "duration": 705,
    "start_time": "2022-01-01T13:10:20.569Z"
   },
   {
    "duration": 5,
    "start_time": "2022-01-01T13:10:21.276Z"
   },
   {
    "duration": 607,
    "start_time": "2022-01-01T13:10:21.283Z"
   },
   {
    "duration": 5,
    "start_time": "2022-01-01T13:10:21.892Z"
   },
   {
    "duration": 665,
    "start_time": "2022-01-01T13:10:21.899Z"
   },
   {
    "duration": 7,
    "start_time": "2022-01-01T13:10:22.567Z"
   },
   {
    "duration": 1518,
    "start_time": "2022-01-01T13:10:22.577Z"
   },
   {
    "duration": 13,
    "start_time": "2022-01-01T13:10:24.099Z"
   },
   {
    "duration": 139,
    "start_time": "2022-01-01T13:10:24.115Z"
   },
   {
    "duration": 291,
    "start_time": "2022-01-01T13:10:24.259Z"
   },
   {
    "duration": 11,
    "start_time": "2022-01-01T13:10:24.552Z"
   },
   {
    "duration": 310,
    "start_time": "2022-01-01T13:10:24.566Z"
   },
   {
    "duration": 7,
    "start_time": "2022-01-01T13:10:24.878Z"
   },
   {
    "duration": 630,
    "start_time": "2022-01-01T13:10:24.888Z"
   },
   {
    "duration": 7,
    "start_time": "2022-01-01T13:10:25.520Z"
   },
   {
    "duration": 253,
    "start_time": "2022-01-01T13:10:25.530Z"
   },
   {
    "duration": 276,
    "start_time": "2022-01-01T13:10:25.786Z"
   },
   {
    "duration": 264,
    "start_time": "2022-01-01T13:10:26.064Z"
   },
   {
    "duration": 303,
    "start_time": "2022-01-01T13:10:26.331Z"
   },
   {
    "duration": 7,
    "start_time": "2022-01-01T13:10:26.636Z"
   },
   {
    "duration": 29,
    "start_time": "2022-01-01T13:10:26.660Z"
   },
   {
    "duration": 9,
    "start_time": "2022-01-01T13:10:26.692Z"
   },
   {
    "duration": 16,
    "start_time": "2022-01-01T13:10:26.703Z"
   },
   {
    "duration": 330,
    "start_time": "2022-01-01T13:10:26.721Z"
   },
   {
    "duration": 411,
    "start_time": "2022-01-01T13:10:27.053Z"
   },
   {
    "duration": 10,
    "start_time": "2022-01-01T13:10:27.466Z"
   },
   {
    "duration": 660,
    "start_time": "2022-01-01T13:10:27.478Z"
   },
   {
    "duration": 645,
    "start_time": "2022-01-01T13:10:28.140Z"
   },
   {
    "duration": 639,
    "start_time": "2022-01-01T13:10:28.787Z"
   },
   {
    "duration": 633,
    "start_time": "2022-01-01T13:10:29.428Z"
   },
   {
    "duration": 328,
    "start_time": "2022-01-01T13:10:30.064Z"
   },
   {
    "duration": 6,
    "start_time": "2022-01-01T13:10:30.395Z"
   },
   {
    "duration": 398,
    "start_time": "2022-01-01T13:10:30.404Z"
   },
   {
    "duration": 454,
    "start_time": "2022-01-01T13:10:30.805Z"
   },
   {
    "duration": 7,
    "start_time": "2022-01-01T13:10:31.261Z"
   },
   {
    "duration": 321,
    "start_time": "2022-01-01T13:10:31.270Z"
   },
   {
    "duration": 6,
    "start_time": "2022-01-01T13:10:31.593Z"
   },
   {
    "duration": 13,
    "start_time": "2022-01-01T13:27:49.021Z"
   },
   {
    "duration": 1603,
    "start_time": "2022-02-16T12:40:00.385Z"
   },
   {
    "duration": 15,
    "start_time": "2022-02-16T12:40:01.991Z"
   },
   {
    "duration": 101,
    "start_time": "2022-02-16T12:40:02.024Z"
   },
   {
    "duration": 38,
    "start_time": "2022-02-16T12:40:02.128Z"
   },
   {
    "duration": 833,
    "start_time": "2022-02-16T12:40:02.169Z"
   },
   {
    "duration": 45,
    "start_time": "2022-02-16T12:40:03.005Z"
   },
   {
    "duration": 10,
    "start_time": "2022-02-16T12:40:03.053Z"
   },
   {
    "duration": 5,
    "start_time": "2022-02-16T12:40:03.069Z"
   },
   {
    "duration": 46,
    "start_time": "2022-02-16T12:40:03.078Z"
   },
   {
    "duration": 39,
    "start_time": "2022-02-16T12:40:03.126Z"
   },
   {
    "duration": 7,
    "start_time": "2022-02-16T12:40:03.167Z"
   },
   {
    "duration": 19,
    "start_time": "2022-02-16T12:40:03.177Z"
   },
   {
    "duration": 8,
    "start_time": "2022-02-16T12:40:03.199Z"
   },
   {
    "duration": 27,
    "start_time": "2022-02-16T12:40:03.209Z"
   },
   {
    "duration": 27,
    "start_time": "2022-02-16T12:40:03.238Z"
   },
   {
    "duration": 19,
    "start_time": "2022-02-16T12:40:03.268Z"
   },
   {
    "duration": 8,
    "start_time": "2022-02-16T12:40:03.290Z"
   },
   {
    "duration": 26,
    "start_time": "2022-02-16T12:40:03.300Z"
   },
   {
    "duration": 37,
    "start_time": "2022-02-16T12:40:03.328Z"
   },
   {
    "duration": 4,
    "start_time": "2022-02-16T12:40:03.368Z"
   },
   {
    "duration": 828,
    "start_time": "2022-02-16T12:40:03.374Z"
   },
   {
    "duration": 4,
    "start_time": "2022-02-16T12:40:04.205Z"
   },
   {
    "duration": 5,
    "start_time": "2022-02-16T12:40:04.226Z"
   },
   {
    "duration": 34,
    "start_time": "2022-02-16T12:40:04.235Z"
   },
   {
    "duration": 786,
    "start_time": "2022-02-16T12:40:04.271Z"
   },
   {
    "duration": 5,
    "start_time": "2022-02-16T12:40:05.059Z"
   },
   {
    "duration": 724,
    "start_time": "2022-02-16T12:40:05.066Z"
   },
   {
    "duration": 5,
    "start_time": "2022-02-16T12:40:05.792Z"
   },
   {
    "duration": 615,
    "start_time": "2022-02-16T12:40:05.800Z"
   },
   {
    "duration": 9,
    "start_time": "2022-02-16T12:40:06.417Z"
   },
   {
    "duration": 672,
    "start_time": "2022-02-16T12:40:06.428Z"
   },
   {
    "duration": 5,
    "start_time": "2022-02-16T12:40:07.103Z"
   },
   {
    "duration": 1339,
    "start_time": "2022-02-16T12:40:07.110Z"
   },
   {
    "duration": 13,
    "start_time": "2022-02-16T12:40:08.452Z"
   },
   {
    "duration": 149,
    "start_time": "2022-02-16T12:40:08.467Z"
   },
   {
    "duration": 325,
    "start_time": "2022-02-16T12:40:08.618Z"
   },
   {
    "duration": 7,
    "start_time": "2022-02-16T12:40:08.946Z"
   },
   {
    "duration": 321,
    "start_time": "2022-02-16T12:40:08.955Z"
   },
   {
    "duration": 8,
    "start_time": "2022-02-16T12:40:09.279Z"
   },
   {
    "duration": 638,
    "start_time": "2022-02-16T12:40:09.289Z"
   },
   {
    "duration": 6,
    "start_time": "2022-02-16T12:40:09.929Z"
   },
   {
    "duration": 279,
    "start_time": "2022-02-16T12:40:09.938Z"
   },
   {
    "duration": 284,
    "start_time": "2022-02-16T12:40:10.223Z"
   },
   {
    "duration": 263,
    "start_time": "2022-02-16T12:40:10.510Z"
   },
   {
    "duration": 311,
    "start_time": "2022-02-16T12:40:10.776Z"
   },
   {
    "duration": 8,
    "start_time": "2022-02-16T12:40:11.089Z"
   },
   {
    "duration": 51,
    "start_time": "2022-02-16T12:40:11.100Z"
   },
   {
    "duration": 11,
    "start_time": "2022-02-16T12:40:11.153Z"
   },
   {
    "duration": 12,
    "start_time": "2022-02-16T12:40:11.167Z"
   },
   {
    "duration": 351,
    "start_time": "2022-02-16T12:40:11.181Z"
   },
   {
    "duration": 311,
    "start_time": "2022-02-16T12:40:11.534Z"
   },
   {
    "duration": 10,
    "start_time": "2022-02-16T12:40:11.847Z"
   },
   {
    "duration": 765,
    "start_time": "2022-02-16T12:40:11.860Z"
   },
   {
    "duration": 669,
    "start_time": "2022-02-16T12:40:12.628Z"
   },
   {
    "duration": 677,
    "start_time": "2022-02-16T12:40:13.299Z"
   },
   {
    "duration": 663,
    "start_time": "2022-02-16T12:40:13.978Z"
   },
   {
    "duration": 331,
    "start_time": "2022-02-16T12:40:14.643Z"
   },
   {
    "duration": 8,
    "start_time": "2022-02-16T12:40:14.977Z"
   },
   {
    "duration": 272,
    "start_time": "2022-02-16T12:40:14.988Z"
   },
   {
    "duration": 546,
    "start_time": "2022-02-16T12:40:15.262Z"
   },
   {
    "duration": 15,
    "start_time": "2022-02-16T12:40:15.811Z"
   },
   {
    "duration": 314,
    "start_time": "2022-02-16T12:40:15.828Z"
   },
   {
    "duration": 7,
    "start_time": "2022-02-16T12:40:16.144Z"
   },
   {
    "duration": 19,
    "start_time": "2022-02-16T12:40:16.153Z"
   }
  ],
  "kernelspec": {
   "display_name": "Python 3 (ipykernel)",
   "language": "python",
   "name": "python3"
  },
  "language_info": {
   "codemirror_mode": {
    "name": "ipython",
    "version": 3
   },
   "file_extension": ".py",
   "mimetype": "text/x-python",
   "name": "python",
   "nbconvert_exporter": "python",
   "pygments_lexer": "ipython3",
   "version": "3.9.5"
  },
  "toc": {
   "base_numbering": 1,
   "nav_menu": {},
   "number_sections": true,
   "sideBar": true,
   "skip_h1_title": true,
   "title_cell": "Содержание",
   "title_sidebar": "Contents",
   "toc_cell": true,
   "toc_position": {},
   "toc_section_display": true,
   "toc_window_display": false
  }
 },
 "nbformat": 4,
 "nbformat_minor": 2
}
