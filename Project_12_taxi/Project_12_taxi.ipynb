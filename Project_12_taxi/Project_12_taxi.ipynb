{
 "cells": [
  {
   "cell_type": "markdown",
   "metadata": {
    "toc": true
   },
   "source": [
    "<h1>Содержание<span class=\"tocSkip\"></span></h1>\n",
    "<div class=\"toc\"><ul class=\"toc-item\"><li><span><a href=\"#Подготовка\" data-toc-modified-id=\"Подготовка-1\"><span class=\"toc-item-num\">1&nbsp;&nbsp;</span>Подготовка</a></span></li><li><span><a href=\"#Анализ\" data-toc-modified-id=\"Анализ-2\"><span class=\"toc-item-num\">2&nbsp;&nbsp;</span>Анализ</a></span></li><li><span><a href=\"#Обучение\" data-toc-modified-id=\"Обучение-3\"><span class=\"toc-item-num\">3&nbsp;&nbsp;</span>Обучение</a></span></li><li><span><a href=\"#Тестирование\" data-toc-modified-id=\"Тестирование-4\"><span class=\"toc-item-num\">4&nbsp;&nbsp;</span>Тестирование</a></span></li><li><span><a href=\"#Чек-лист-проверки\" data-toc-modified-id=\"Чек-лист-проверки-5\"><span class=\"toc-item-num\">5&nbsp;&nbsp;</span>Чек-лист проверки</a></span></li></ul></div>"
   ]
  },
  {
   "cell_type": "markdown",
   "metadata": {},
   "source": [
    "#  Прогнозирование заказов такси"
   ]
  },
  {
   "cell_type": "markdown",
   "metadata": {},
   "source": [
    "Компания «Чётенькое такси» собрала исторические данные о заказах такси в аэропортах. Чтобы привлекать больше водителей в период пиковой нагрузки, нужно спрогнозировать количество заказов такси на следующий час. Постройте модель для такого предсказания.\n",
    "\n",
    "Значение метрики *RMSE* на тестовой выборке должно быть не больше 48.\n",
    "\n",
    "Вам нужно:\n",
    "\n",
    "1. Загрузить данные и выполнить их ресемплирование по одному часу.\n",
    "2. Проанализировать данные.\n",
    "3. Обучить разные модели с различными гиперпараметрами. Сделать тестовую выборку размером 10% от исходных данных.\n",
    "4. Проверить данные на тестовой выборке и сделать выводы.\n",
    "\n",
    "\n",
    "Данные лежат в файле `taxi.csv`. Количество заказов находится в столбце `num_orders` (от англ. *number of orders*, «число заказов»)."
   ]
  },
  {
   "cell_type": "markdown",
   "metadata": {},
   "source": [
    "## Подготовка"
   ]
  },
  {
   "cell_type": "code",
   "execution_count": 1,
   "metadata": {},
   "outputs": [],
   "source": [
    "#Загрузим необходимые библиотеки\n",
    "import matplotlib.pyplot as plt\n",
    "import datetime\n",
    "import seaborn as sns\n",
    "import numpy as np\n",
    "import pandas as pd\n",
    "from statsmodels.tsa.seasonal import seasonal_decompose\n",
    "from sklearn.model_selection import train_test_split\n",
    "from sklearn.linear_model import LinearRegression\n",
    "from lightgbm import LGBMRegressor\n",
    "from catboost import CatBoostRegressor\n",
    "from sklearn.metrics import mean_squared_error"
   ]
  },
  {
   "cell_type": "code",
   "execution_count": 2,
   "metadata": {},
   "outputs": [
    {
     "data": {
      "text/html": [
       "<div>\n",
       "<style scoped>\n",
       "    .dataframe tbody tr th:only-of-type {\n",
       "        vertical-align: middle;\n",
       "    }\n",
       "\n",
       "    .dataframe tbody tr th {\n",
       "        vertical-align: top;\n",
       "    }\n",
       "\n",
       "    .dataframe thead th {\n",
       "        text-align: right;\n",
       "    }\n",
       "</style>\n",
       "<table border=\"1\" class=\"dataframe\">\n",
       "  <thead>\n",
       "    <tr style=\"text-align: right;\">\n",
       "      <th></th>\n",
       "      <th>num_orders</th>\n",
       "    </tr>\n",
       "    <tr>\n",
       "      <th>datetime</th>\n",
       "      <th></th>\n",
       "    </tr>\n",
       "  </thead>\n",
       "  <tbody>\n",
       "    <tr>\n",
       "      <th>2018-03-01 00:00:00</th>\n",
       "      <td>9</td>\n",
       "    </tr>\n",
       "    <tr>\n",
       "      <th>2018-03-01 00:10:00</th>\n",
       "      <td>14</td>\n",
       "    </tr>\n",
       "    <tr>\n",
       "      <th>2018-03-01 00:20:00</th>\n",
       "      <td>28</td>\n",
       "    </tr>\n",
       "    <tr>\n",
       "      <th>2018-03-01 00:30:00</th>\n",
       "      <td>20</td>\n",
       "    </tr>\n",
       "    <tr>\n",
       "      <th>2018-03-01 00:40:00</th>\n",
       "      <td>32</td>\n",
       "    </tr>\n",
       "  </tbody>\n",
       "</table>\n",
       "</div>"
      ],
      "text/plain": [
       "                     num_orders\n",
       "datetime                       \n",
       "2018-03-01 00:00:00           9\n",
       "2018-03-01 00:10:00          14\n",
       "2018-03-01 00:20:00          28\n",
       "2018-03-01 00:30:00          20\n",
       "2018-03-01 00:40:00          32"
      ]
     },
     "execution_count": 2,
     "metadata": {},
     "output_type": "execute_result"
    }
   ],
   "source": [
    "#Загрузим данные\n",
    "try:\n",
    "    data = pd.read_csv('/datasets/taxi.csv', index_col=[0], parse_dates=[0])\n",
    "except:\n",
    "    print('Ошибка. Проверьте правильность пути к данным')\n",
    "data.sort_index(inplace=True)\n",
    "data.head()"
   ]
  },
  {
   "cell_type": "code",
   "execution_count": 3,
   "metadata": {},
   "outputs": [
    {
     "name": "stdout",
     "output_type": "stream",
     "text": [
      "<class 'pandas.core.frame.DataFrame'>\n",
      "DatetimeIndex: 26496 entries, 2018-03-01 00:00:00 to 2018-08-31 23:50:00\n",
      "Data columns (total 1 columns):\n",
      " #   Column      Non-Null Count  Dtype\n",
      "---  ------      --------------  -----\n",
      " 0   num_orders  26496 non-null  int64\n",
      "dtypes: int64(1)\n",
      "memory usage: 414.0 KB\n"
     ]
    }
   ],
   "source": [
    "data.info()"
   ]
  },
  {
   "cell_type": "code",
   "execution_count": 4,
   "metadata": {},
   "outputs": [
    {
     "data": {
      "text/html": [
       "<div>\n",
       "<style scoped>\n",
       "    .dataframe tbody tr th:only-of-type {\n",
       "        vertical-align: middle;\n",
       "    }\n",
       "\n",
       "    .dataframe tbody tr th {\n",
       "        vertical-align: top;\n",
       "    }\n",
       "\n",
       "    .dataframe thead th {\n",
       "        text-align: right;\n",
       "    }\n",
       "</style>\n",
       "<table border=\"1\" class=\"dataframe\">\n",
       "  <thead>\n",
       "    <tr style=\"text-align: right;\">\n",
       "      <th></th>\n",
       "      <th>num_orders</th>\n",
       "    </tr>\n",
       "  </thead>\n",
       "  <tbody>\n",
       "    <tr>\n",
       "      <th>count</th>\n",
       "      <td>26496.000000</td>\n",
       "    </tr>\n",
       "    <tr>\n",
       "      <th>mean</th>\n",
       "      <td>14.070463</td>\n",
       "    </tr>\n",
       "    <tr>\n",
       "      <th>std</th>\n",
       "      <td>9.211330</td>\n",
       "    </tr>\n",
       "    <tr>\n",
       "      <th>min</th>\n",
       "      <td>0.000000</td>\n",
       "    </tr>\n",
       "    <tr>\n",
       "      <th>25%</th>\n",
       "      <td>8.000000</td>\n",
       "    </tr>\n",
       "    <tr>\n",
       "      <th>50%</th>\n",
       "      <td>13.000000</td>\n",
       "    </tr>\n",
       "    <tr>\n",
       "      <th>75%</th>\n",
       "      <td>19.000000</td>\n",
       "    </tr>\n",
       "    <tr>\n",
       "      <th>max</th>\n",
       "      <td>119.000000</td>\n",
       "    </tr>\n",
       "  </tbody>\n",
       "</table>\n",
       "</div>"
      ],
      "text/plain": [
       "         num_orders\n",
       "count  26496.000000\n",
       "mean      14.070463\n",
       "std        9.211330\n",
       "min        0.000000\n",
       "25%        8.000000\n",
       "50%       13.000000\n",
       "75%       19.000000\n",
       "max      119.000000"
      ]
     },
     "execution_count": 4,
     "metadata": {},
     "output_type": "execute_result"
    }
   ],
   "source": [
    "data.describe()"
   ]
  },
  {
   "cell_type": "code",
   "execution_count": 5,
   "metadata": {},
   "outputs": [
    {
     "data": {
      "text/html": [
       "<style  type=\"text/css\" >\n",
       "#T_1a888_row0_col0{\n",
       "            background-color:  #3b4cc0;\n",
       "            color:  #f1f1f1;\n",
       "        }</style><table id=\"T_1a888_\" ><thead>    <tr>        <th class=\"blank level0\" ></th>        <th class=\"col_heading level0 col0\" >0</th>    </tr></thead><tbody>\n",
       "                <tr>\n",
       "                        <th id=\"T_1a888_level0_row0\" class=\"row_heading level0 row0\" >num_orders</th>\n",
       "                        <td id=\"T_1a888_row0_col0\" class=\"data row0 col0\" >0.000000</td>\n",
       "            </tr>\n",
       "    </tbody></table>"
      ],
      "text/plain": [
       "<pandas.io.formats.style.Styler at 0x7f9404cc44c0>"
      ]
     },
     "execution_count": 5,
     "metadata": {},
     "output_type": "execute_result"
    }
   ],
   "source": [
    "#Посмортим на процент пропусков\n",
    "pd.DataFrame(round((data.isna().mean()*100),2)).style.background_gradient('coolwarm')"
   ]
  },
  {
   "cell_type": "code",
   "execution_count": 6,
   "metadata": {},
   "outputs": [],
   "source": [
    "#Выполним ресемплирование данных по одному часу\n",
    "data = data.resample('1H').sum()"
   ]
  },
  {
   "cell_type": "markdown",
   "metadata": {},
   "source": [
    "**Вывод:** Данные загружены, пропусков нет. Проведено ресемплирование по одному часу. Данные готовы к анализу и обучению моделей."
   ]
  },
  {
   "cell_type": "markdown",
   "metadata": {},
   "source": [
    "## Анализ"
   ]
  },
  {
   "cell_type": "code",
   "execution_count": 7,
   "metadata": {},
   "outputs": [
    {
     "data": {
      "image/png": "[encoded data removed]",
      "text/plain": [
       "<Figure size 1080x432 with 1 Axes>"
      ]
     },
     "metadata": {
      "needs_background": "light"
     },
     "output_type": "display_data"
    }
   ],
   "source": [
    "data_day = data.resample('1D').sum()\n",
    "data_day['rolling_mean'] = data_day['num_orders'].rolling(5).mean()\n",
    "data_day.plot(figsize=(15,6))\n",
    "plt.title('Скользящая средняя')\n",
    "plt.show()"
   ]
  },
  {
   "cell_type": "code",
   "execution_count": 8,
   "metadata": {},
   "outputs": [],
   "source": [
    "decomposed = seasonal_decompose(data)"
   ]
  },
  {
   "cell_type": "code",
   "execution_count": 9,
   "metadata": {},
   "outputs": [
    {
     "data": {
      "image/png": "[encoded data removed]",
      "text/plain": [
       "<Figure size 1080x432 with 1 Axes>"
      ]
     },
     "metadata": {
      "needs_background": "light"
     },
     "output_type": "display_data"
    }
   ],
   "source": [
    "decomposed.seasonal['2018-08-01':'2018-08-15'].plot(ax=plt.gca(), title='Сезонность', figsize=(15,6))\n",
    "plt.show()"
   ]
  },
  {
   "cell_type": "code",
   "execution_count": 10,
   "metadata": {},
   "outputs": [
    {
     "data": {
      "image/png": "[encoded data removed]",
      "text/plain": [
       "<Figure size 1080x432 with 1 Axes>"
      ]
     },
     "metadata": {
      "needs_background": "light"
     },
     "output_type": "display_data"
    }
   ],
   "source": [
    "decomposed.seasonal['2018-08-01':'2018-08-02'].plot(ax=plt.gca(), title='Сезонность в течение дня', figsize=(15,6))\n",
    "plt.show()"
   ]
  },
  {
   "cell_type": "code",
   "execution_count": 11,
   "metadata": {},
   "outputs": [
    {
     "data": {
      "image/png": "[encoded data removed]",
      "text/plain": [
       "<Figure size 1080x432 with 1 Axes>"
      ]
     },
     "metadata": {
      "needs_background": "light"
     },
     "output_type": "display_data"
    }
   ],
   "source": [
    "decomposed.trend.plot(ax=plt.gca(), title='Тренд', figsize=(15,6))\n",
    "plt.show()"
   ]
  },
  {
   "cell_type": "markdown",
   "metadata": {},
   "source": [
    "**Вывод:** Количество заказов растёт с каждым месяцем. Это видно на графиках скользящей средней и тренда. В течение дня количество заказов распределено неравномерно. Оно растёт вечером и достигает пика в районе 12 часов ночи. Потом снижается и достигает минимальных значений в районе 6 часов утра."
   ]
  },
  {
   "cell_type": "markdown",
   "metadata": {},
   "source": [
    "## Обучение"
   ]
  },
  {
   "cell_type": "markdown",
   "metadata": {},
   "source": [
    "Подготовим признаки"
   ]
  },
  {
   "cell_type": "code",
   "execution_count": 12,
   "metadata": {},
   "outputs": [],
   "source": [
    "def make_features(data, max_lag, rolling_mean_size):\n",
    "    data['day'] = data.index.day\n",
    "    data['dayofweek'] = data.index.dayofweek\n",
    "    data['hour'] = data.index.hour\n",
    "    \n",
    "    for lag in range(1, max_lag + 1):\n",
    "        data['lag_{}'.format(lag)] = data['num_orders'].shift(lag)\n",
    "\n",
    "    data['rolling_mean'] = data['num_orders'].shift().rolling(rolling_mean_size).mean()\n",
    "    return data"
   ]
  },
  {
   "cell_type": "markdown",
   "metadata": {},
   "source": [
    "Обучим модель Линейной регрессии. Подберем для модели лучшие значения lag и size."
   ]
  },
  {
   "cell_type": "code",
   "execution_count": 13,
   "metadata": {},
   "outputs": [
    {
     "name": "stdout",
     "output_type": "stream",
     "text": [
      "RMSE линейной регрессии на тренировочной выборке: 23.431563126633225\n",
      "Лучшие параметры: max_lag: 49 rolling_mean_size: 22\n"
     ]
    }
   ],
   "source": [
    "rmse_ = 10**4\n",
    "best_lag = 0\n",
    "est_rolling_size = 0\n",
    "for lag in range(1, 50):\n",
    "    for size in range(1,50):\n",
    "        data = make_features(data, lag, size)\n",
    "        train, test = train_test_split(data, shuffle=False, test_size=0.1)\n",
    "        train = train.dropna()\n",
    "\n",
    "        target_train_lr = train['num_orders']\n",
    "        features_train_lr = train.drop(['num_orders'], axis=1)\n",
    "        target_test_lr = test['num_orders']\n",
    "        features_test_lr = test.drop(['num_orders'], axis=1)\n",
    "        \n",
    "        lr = LinearRegression()\n",
    "        lr.fit(features_train_lr, target_train_lr)\n",
    "        \n",
    "        predictions_train_lr = lr.predict(features_train_lr)\n",
    "        rmse = mean_squared_error(target_train_lr, predictions_train_lr)**0.5\n",
    "        if rmse < rmse_:\n",
    "            rmse_ = rmse\n",
    "            best_lag = lag\n",
    "            best_rolling_size = size\n",
    "\n",
    "print('RMSE линейной регрессии на тренировочной выборке:', rmse_)\n",
    "print('Лучшие параметры:', 'max_lag:', best_lag, 'rolling_mean_size:', best_rolling_size)"
   ]
  },
  {
   "cell_type": "markdown",
   "metadata": {},
   "source": [
    "Обучим модель LGBMRegressor с лучшими параметрами."
   ]
  },
  {
   "cell_type": "code",
   "execution_count": 14,
   "metadata": {},
   "outputs": [
    {
     "name": "stdout",
     "output_type": "stream",
     "text": [
      "RMSE LightGBM модели на тренировочной выборке: 10.790549755542035\n"
     ]
    }
   ],
   "source": [
    "data = make_features(data, 49, 22)\n",
    "\n",
    "train, test = train_test_split(data, shuffle=False, test_size=0.1)\n",
    "train = train.dropna()\n",
    "\n",
    "target_train_lgbm = train['num_orders']\n",
    "features_train_lgbm = train.drop(['num_orders'], axis=1)\n",
    "target_test_lgbm = test['num_orders']\n",
    "features_test_lgbm = test.drop(['num_orders'], axis=1)\n",
    "\n",
    "lgbm = LGBMRegressor()\n",
    "lgbm.fit(features_train_lgbm, target_train_lgbm)\n",
    "\n",
    "predictions_train_lgbm = lgbm.predict(features_train_lgbm)\n",
    "rmse = mean_squared_error(target_train_lgbm, predictions_train_lgbm)**0.5\n",
    "       \n",
    "print('RMSE LightGBM модели на тренировочной выборке:', rmse)"
   ]
  },
  {
   "cell_type": "code",
   "execution_count": 15,
   "metadata": {},
   "outputs": [
    {
     "data": {
      "text/html": [
       "<div>\n",
       "<style scoped>\n",
       "    .dataframe tbody tr th:only-of-type {\n",
       "        vertical-align: middle;\n",
       "    }\n",
       "\n",
       "    .dataframe tbody tr th {\n",
       "        vertical-align: top;\n",
       "    }\n",
       "\n",
       "    .dataframe thead th {\n",
       "        text-align: right;\n",
       "    }\n",
       "</style>\n",
       "<table border=\"1\" class=\"dataframe\">\n",
       "  <thead>\n",
       "    <tr style=\"text-align: right;\">\n",
       "      <th></th>\n",
       "      <th>num_orders</th>\n",
       "      <th>day</th>\n",
       "      <th>dayofweek</th>\n",
       "      <th>hour</th>\n",
       "      <th>lag_1</th>\n",
       "      <th>rolling_mean</th>\n",
       "      <th>lag_2</th>\n",
       "      <th>lag_3</th>\n",
       "      <th>lag_4</th>\n",
       "      <th>lag_5</th>\n",
       "      <th>...</th>\n",
       "      <th>lag_40</th>\n",
       "      <th>lag_41</th>\n",
       "      <th>lag_42</th>\n",
       "      <th>lag_43</th>\n",
       "      <th>lag_44</th>\n",
       "      <th>lag_45</th>\n",
       "      <th>lag_46</th>\n",
       "      <th>lag_47</th>\n",
       "      <th>lag_48</th>\n",
       "      <th>lag_49</th>\n",
       "    </tr>\n",
       "    <tr>\n",
       "      <th>datetime</th>\n",
       "      <th></th>\n",
       "      <th></th>\n",
       "      <th></th>\n",
       "      <th></th>\n",
       "      <th></th>\n",
       "      <th></th>\n",
       "      <th></th>\n",
       "      <th></th>\n",
       "      <th></th>\n",
       "      <th></th>\n",
       "      <th></th>\n",
       "      <th></th>\n",
       "      <th></th>\n",
       "      <th></th>\n",
       "      <th></th>\n",
       "      <th></th>\n",
       "      <th></th>\n",
       "      <th></th>\n",
       "      <th></th>\n",
       "      <th></th>\n",
       "      <th></th>\n",
       "    </tr>\n",
       "  </thead>\n",
       "  <tbody>\n",
       "    <tr>\n",
       "      <th>2018-03-03 01:00:00</th>\n",
       "      <td>108</td>\n",
       "      <td>3</td>\n",
       "      <td>5</td>\n",
       "      <td>1</td>\n",
       "      <td>163.0</td>\n",
       "      <td>62.909091</td>\n",
       "      <td>72.0</td>\n",
       "      <td>119.0</td>\n",
       "      <td>101.0</td>\n",
       "      <td>93.0</td>\n",
       "      <td>...</td>\n",
       "      <td>69.0</td>\n",
       "      <td>34.0</td>\n",
       "      <td>15.0</td>\n",
       "      <td>12.0</td>\n",
       "      <td>6.0</td>\n",
       "      <td>43.0</td>\n",
       "      <td>66.0</td>\n",
       "      <td>71.0</td>\n",
       "      <td>85.0</td>\n",
       "      <td>124.0</td>\n",
       "    </tr>\n",
       "    <tr>\n",
       "      <th>2018-03-03 02:00:00</th>\n",
       "      <td>25</td>\n",
       "      <td>3</td>\n",
       "      <td>5</td>\n",
       "      <td>2</td>\n",
       "      <td>108.0</td>\n",
       "      <td>64.909091</td>\n",
       "      <td>163.0</td>\n",
       "      <td>72.0</td>\n",
       "      <td>119.0</td>\n",
       "      <td>101.0</td>\n",
       "      <td>...</td>\n",
       "      <td>64.0</td>\n",
       "      <td>69.0</td>\n",
       "      <td>34.0</td>\n",
       "      <td>15.0</td>\n",
       "      <td>12.0</td>\n",
       "      <td>6.0</td>\n",
       "      <td>43.0</td>\n",
       "      <td>66.0</td>\n",
       "      <td>71.0</td>\n",
       "      <td>85.0</td>\n",
       "    </tr>\n",
       "    <tr>\n",
       "      <th>2018-03-03 03:00:00</th>\n",
       "      <td>64</td>\n",
       "      <td>3</td>\n",
       "      <td>5</td>\n",
       "      <td>3</td>\n",
       "      <td>25.0</td>\n",
       "      <td>65.136364</td>\n",
       "      <td>108.0</td>\n",
       "      <td>163.0</td>\n",
       "      <td>72.0</td>\n",
       "      <td>119.0</td>\n",
       "      <td>...</td>\n",
       "      <td>96.0</td>\n",
       "      <td>64.0</td>\n",
       "      <td>69.0</td>\n",
       "      <td>34.0</td>\n",
       "      <td>15.0</td>\n",
       "      <td>12.0</td>\n",
       "      <td>6.0</td>\n",
       "      <td>43.0</td>\n",
       "      <td>66.0</td>\n",
       "      <td>71.0</td>\n",
       "    </tr>\n",
       "    <tr>\n",
       "      <th>2018-03-03 04:00:00</th>\n",
       "      <td>44</td>\n",
       "      <td>3</td>\n",
       "      <td>5</td>\n",
       "      <td>4</td>\n",
       "      <td>64.0</td>\n",
       "      <td>67.545455</td>\n",
       "      <td>25.0</td>\n",
       "      <td>108.0</td>\n",
       "      <td>163.0</td>\n",
       "      <td>72.0</td>\n",
       "      <td>...</td>\n",
       "      <td>30.0</td>\n",
       "      <td>96.0</td>\n",
       "      <td>64.0</td>\n",
       "      <td>69.0</td>\n",
       "      <td>34.0</td>\n",
       "      <td>15.0</td>\n",
       "      <td>12.0</td>\n",
       "      <td>6.0</td>\n",
       "      <td>43.0</td>\n",
       "      <td>66.0</td>\n",
       "    </tr>\n",
       "    <tr>\n",
       "      <th>2018-03-03 05:00:00</th>\n",
       "      <td>15</td>\n",
       "      <td>3</td>\n",
       "      <td>5</td>\n",
       "      <td>5</td>\n",
       "      <td>44.0</td>\n",
       "      <td>69.045455</td>\n",
       "      <td>64.0</td>\n",
       "      <td>25.0</td>\n",
       "      <td>108.0</td>\n",
       "      <td>163.0</td>\n",
       "      <td>...</td>\n",
       "      <td>32.0</td>\n",
       "      <td>30.0</td>\n",
       "      <td>96.0</td>\n",
       "      <td>64.0</td>\n",
       "      <td>69.0</td>\n",
       "      <td>34.0</td>\n",
       "      <td>15.0</td>\n",
       "      <td>12.0</td>\n",
       "      <td>6.0</td>\n",
       "      <td>43.0</td>\n",
       "    </tr>\n",
       "  </tbody>\n",
       "</table>\n",
       "<p>5 rows × 54 columns</p>\n",
       "</div>"
      ],
      "text/plain": [
       "                     num_orders  day  dayofweek  hour  lag_1  rolling_mean  \\\n",
       "datetime                                                                     \n",
       "2018-03-03 01:00:00         108    3          5     1  163.0     62.909091   \n",
       "2018-03-03 02:00:00          25    3          5     2  108.0     64.909091   \n",
       "2018-03-03 03:00:00          64    3          5     3   25.0     65.136364   \n",
       "2018-03-03 04:00:00          44    3          5     4   64.0     67.545455   \n",
       "2018-03-03 05:00:00          15    3          5     5   44.0     69.045455   \n",
       "\n",
       "                     lag_2  lag_3  lag_4  lag_5  ...  lag_40  lag_41  lag_42  \\\n",
       "datetime                                         ...                           \n",
       "2018-03-03 01:00:00   72.0  119.0  101.0   93.0  ...    69.0    34.0    15.0   \n",
       "2018-03-03 02:00:00  163.0   72.0  119.0  101.0  ...    64.0    69.0    34.0   \n",
       "2018-03-03 03:00:00  108.0  163.0   72.0  119.0  ...    96.0    64.0    69.0   \n",
       "2018-03-03 04:00:00   25.0  108.0  163.0   72.0  ...    30.0    96.0    64.0   \n",
       "2018-03-03 05:00:00   64.0   25.0  108.0  163.0  ...    32.0    30.0    96.0   \n",
       "\n",
       "                     lag_43  lag_44  lag_45  lag_46  lag_47  lag_48  lag_49  \n",
       "datetime                                                                     \n",
       "2018-03-03 01:00:00    12.0     6.0    43.0    66.0    71.0    85.0   124.0  \n",
       "2018-03-03 02:00:00    15.0    12.0     6.0    43.0    66.0    71.0    85.0  \n",
       "2018-03-03 03:00:00    34.0    15.0    12.0     6.0    43.0    66.0    71.0  \n",
       "2018-03-03 04:00:00    69.0    34.0    15.0    12.0     6.0    43.0    66.0  \n",
       "2018-03-03 05:00:00    64.0    69.0    34.0    15.0    12.0     6.0    43.0  \n",
       "\n",
       "[5 rows x 54 columns]"
      ]
     },
     "execution_count": 15,
     "metadata": {},
     "output_type": "execute_result"
    }
   ],
   "source": [
    "train.head()"
   ]
  },
  {
   "cell_type": "markdown",
   "metadata": {},
   "source": [
    "Обучим модель CatBoostRegressor с лучшими параметрами."
   ]
  },
  {
   "cell_type": "code",
   "execution_count": 16,
   "metadata": {},
   "outputs": [
    {
     "name": "stdout",
     "output_type": "stream",
     "text": [
      "Learning rate set to 0.050817\n",
      "0:\tlearn: 37.6855580\ttotal: 64.7ms\tremaining: 1m 4s\n",
      "1:\tlearn: 36.7268754\ttotal: 77.8ms\tremaining: 38.8s\n",
      "2:\tlearn: 35.8395701\ttotal: 90.6ms\tremaining: 30.1s\n",
      "3:\tlearn: 35.0387527\ttotal: 105ms\tremaining: 26.1s\n",
      "4:\tlearn: 34.3292071\ttotal: 123ms\tremaining: 24.5s\n",
      "5:\tlearn: 33.5645363\ttotal: 140ms\tremaining: 23.2s\n",
      "6:\tlearn: 32.8921787\ttotal: 158ms\tremaining: 22.4s\n",
      "7:\tlearn: 32.2867686\ttotal: 172ms\tremaining: 21.3s\n",
      "8:\tlearn: 31.7277823\ttotal: 186ms\tremaining: 20.4s\n",
      "9:\tlearn: 31.1466210\ttotal: 206ms\tremaining: 20.4s\n",
      "10:\tlearn: 30.6490913\ttotal: 228ms\tremaining: 20.5s\n",
      "11:\tlearn: 30.1617303\ttotal: 253ms\tremaining: 20.8s\n",
      "12:\tlearn: 29.7091723\ttotal: 275ms\tremaining: 20.9s\n",
      "13:\tlearn: 29.2543893\ttotal: 297ms\tremaining: 20.9s\n",
      "14:\tlearn: 28.8465731\ttotal: 319ms\tremaining: 20.9s\n",
      "15:\tlearn: 28.4698416\ttotal: 341ms\tremaining: 21s\n",
      "16:\tlearn: 28.1055496\ttotal: 363ms\tremaining: 21s\n",
      "17:\tlearn: 27.7900733\ttotal: 385ms\tremaining: 21s\n",
      "18:\tlearn: 27.4574441\ttotal: 408ms\tremaining: 21s\n",
      "19:\tlearn: 27.1826307\ttotal: 429ms\tremaining: 21s\n",
      "20:\tlearn: 26.8992367\ttotal: 452ms\tremaining: 21.1s\n",
      "21:\tlearn: 26.6087822\ttotal: 474ms\tremaining: 21.1s\n",
      "22:\tlearn: 26.3445424\ttotal: 498ms\tremaining: 21.1s\n",
      "23:\tlearn: 26.1086173\ttotal: 520ms\tremaining: 21.1s\n",
      "24:\tlearn: 25.9030637\ttotal: 543ms\tremaining: 21.2s\n",
      "25:\tlearn: 25.7106516\ttotal: 565ms\tremaining: 21.2s\n",
      "26:\tlearn: 25.5005654\ttotal: 588ms\tremaining: 21.2s\n",
      "27:\tlearn: 25.3378487\ttotal: 610ms\tremaining: 21.2s\n",
      "28:\tlearn: 25.1666283\ttotal: 633ms\tremaining: 21.2s\n",
      "29:\tlearn: 25.0095201\ttotal: 655ms\tremaining: 21.2s\n",
      "30:\tlearn: 24.8576436\ttotal: 668ms\tremaining: 20.9s\n",
      "31:\tlearn: 24.7168430\ttotal: 681ms\tremaining: 20.6s\n",
      "32:\tlearn: 24.5852940\ttotal: 694ms\tremaining: 20.3s\n",
      "33:\tlearn: 24.4288630\ttotal: 712ms\tremaining: 20.2s\n",
      "34:\tlearn: 24.2903954\ttotal: 725ms\tremaining: 20s\n",
      "35:\tlearn: 24.1559182\ttotal: 738ms\tremaining: 19.8s\n",
      "36:\tlearn: 24.0469951\ttotal: 750ms\tremaining: 19.5s\n",
      "37:\tlearn: 23.9370411\ttotal: 763ms\tremaining: 19.3s\n",
      "38:\tlearn: 23.8402686\ttotal: 776ms\tremaining: 19.1s\n",
      "39:\tlearn: 23.7275988\ttotal: 790ms\tremaining: 18.9s\n",
      "40:\tlearn: 23.6268353\ttotal: 809ms\tremaining: 18.9s\n",
      "41:\tlearn: 23.5171359\ttotal: 824ms\tremaining: 18.8s\n",
      "42:\tlearn: 23.4388224\ttotal: 836ms\tremaining: 18.6s\n",
      "43:\tlearn: 23.3445750\ttotal: 849ms\tremaining: 18.4s\n",
      "44:\tlearn: 23.2570584\ttotal: 861ms\tremaining: 18.3s\n",
      "45:\tlearn: 23.1608378\ttotal: 872ms\tremaining: 18.1s\n",
      "46:\tlearn: 23.0831316\ttotal: 886ms\tremaining: 18s\n",
      "47:\tlearn: 23.0156473\ttotal: 905ms\tremaining: 17.9s\n",
      "48:\tlearn: 22.9446083\ttotal: 918ms\tremaining: 17.8s\n",
      "49:\tlearn: 22.8697447\ttotal: 931ms\tremaining: 17.7s\n",
      "50:\tlearn: 22.8135754\ttotal: 943ms\tremaining: 17.5s\n",
      "51:\tlearn: 22.7465412\ttotal: 955ms\tremaining: 17.4s\n",
      "52:\tlearn: 22.7381303\ttotal: 968ms\tremaining: 17.3s\n",
      "53:\tlearn: 22.6912918\ttotal: 982ms\tremaining: 17.2s\n",
      "54:\tlearn: 22.6401921\ttotal: 1s\tremaining: 17.2s\n",
      "55:\tlearn: 22.5761323\ttotal: 1.01s\tremaining: 17.1s\n",
      "56:\tlearn: 22.5196820\ttotal: 1.02s\tremaining: 17s\n",
      "57:\tlearn: 22.5106731\ttotal: 1.04s\tremaining: 16.9s\n",
      "58:\tlearn: 22.5005033\ttotal: 1.05s\tremaining: 16.7s\n",
      "59:\tlearn: 22.4443499\ttotal: 1.06s\tremaining: 16.6s\n",
      "60:\tlearn: 22.3759379\ttotal: 1.08s\tremaining: 16.6s\n",
      "61:\tlearn: 22.3244200\ttotal: 1.09s\tremaining: 16.6s\n",
      "62:\tlearn: 22.2677458\ttotal: 1.11s\tremaining: 16.5s\n",
      "63:\tlearn: 22.2192063\ttotal: 1.12s\tremaining: 16.4s\n",
      "64:\tlearn: 22.1545572\ttotal: 1.13s\tremaining: 16.3s\n",
      "65:\tlearn: 22.1094951\ttotal: 1.14s\tremaining: 16.2s\n",
      "66:\tlearn: 22.0979403\ttotal: 1.16s\tremaining: 16.1s\n",
      "67:\tlearn: 22.0702211\ttotal: 1.17s\tremaining: 16.1s\n",
      "68:\tlearn: 22.0275651\ttotal: 1.19s\tremaining: 16s\n",
      "69:\tlearn: 22.0071860\ttotal: 1.2s\tremaining: 15.9s\n",
      "70:\tlearn: 22.0011015\ttotal: 1.21s\tremaining: 15.9s\n",
      "71:\tlearn: 21.9381992\ttotal: 1.23s\tremaining: 15.8s\n",
      "72:\tlearn: 21.9009897\ttotal: 1.24s\tremaining: 15.7s\n",
      "73:\tlearn: 21.8546459\ttotal: 1.26s\tremaining: 15.8s\n",
      "74:\tlearn: 21.8092574\ttotal: 1.28s\tremaining: 15.8s\n",
      "75:\tlearn: 21.7757489\ttotal: 1.29s\tremaining: 15.7s\n",
      "76:\tlearn: 21.7684567\ttotal: 1.3s\tremaining: 15.6s\n",
      "77:\tlearn: 21.7598774\ttotal: 1.31s\tremaining: 15.5s\n",
      "78:\tlearn: 21.7340187\ttotal: 1.33s\tremaining: 15.5s\n",
      "79:\tlearn: 21.7260558\ttotal: 1.34s\tremaining: 15.4s\n",
      "80:\tlearn: 21.6785763\ttotal: 1.35s\tremaining: 15.3s\n",
      "81:\tlearn: 21.6227438\ttotal: 1.37s\tremaining: 15.3s\n",
      "82:\tlearn: 21.6042870\ttotal: 1.38s\tremaining: 15.3s\n",
      "83:\tlearn: 21.5718780\ttotal: 1.39s\tremaining: 15.2s\n",
      "84:\tlearn: 21.5600235\ttotal: 1.41s\tremaining: 15.1s\n",
      "85:\tlearn: 21.5389907\ttotal: 1.42s\tremaining: 15.1s\n",
      "86:\tlearn: 21.4948325\ttotal: 1.43s\tremaining: 15s\n",
      "87:\tlearn: 21.4667062\ttotal: 1.44s\tremaining: 15s\n",
      "88:\tlearn: 21.4526129\ttotal: 1.46s\tremaining: 15s\n",
      "89:\tlearn: 21.4065212\ttotal: 1.47s\tremaining: 14.9s\n",
      "90:\tlearn: 21.3708133\ttotal: 1.49s\tremaining: 14.8s\n",
      "91:\tlearn: 21.3400988\ttotal: 1.5s\tremaining: 14.8s\n",
      "92:\tlearn: 21.3318342\ttotal: 1.51s\tremaining: 14.7s\n",
      "93:\tlearn: 21.2921372\ttotal: 1.52s\tremaining: 14.7s\n",
      "94:\tlearn: 21.2520423\ttotal: 1.54s\tremaining: 14.6s\n",
      "95:\tlearn: 21.2417506\ttotal: 1.55s\tremaining: 14.7s\n",
      "96:\tlearn: 21.2113558\ttotal: 1.57s\tremaining: 14.6s\n",
      "97:\tlearn: 21.1813605\ttotal: 1.58s\tremaining: 14.6s\n",
      "98:\tlearn: 21.1507698\ttotal: 1.6s\tremaining: 14.5s\n",
      "99:\tlearn: 21.1448594\ttotal: 1.61s\tremaining: 14.5s\n",
      "100:\tlearn: 21.1162085\ttotal: 1.62s\tremaining: 14.4s\n",
      "101:\tlearn: 21.1105610\ttotal: 1.64s\tremaining: 14.4s\n",
      "102:\tlearn: 21.1047035\ttotal: 1.65s\tremaining: 14.4s\n",
      "103:\tlearn: 21.0688724\ttotal: 1.67s\tremaining: 14.4s\n",
      "104:\tlearn: 21.0408109\ttotal: 1.68s\tremaining: 14.3s\n",
      "105:\tlearn: 21.0366194\ttotal: 1.69s\tremaining: 14.3s\n",
      "106:\tlearn: 21.0093174\ttotal: 1.71s\tremaining: 14.2s\n",
      "107:\tlearn: 20.9967620\ttotal: 1.72s\tremaining: 14.2s\n",
      "108:\tlearn: 20.9899912\ttotal: 1.73s\tremaining: 14.2s\n",
      "109:\tlearn: 20.9847409\ttotal: 1.75s\tremaining: 14.1s\n",
      "110:\tlearn: 20.9766583\ttotal: 1.76s\tremaining: 14.1s\n",
      "111:\tlearn: 20.9638925\ttotal: 1.77s\tremaining: 14.1s\n",
      "112:\tlearn: 20.9558396\ttotal: 1.78s\tremaining: 14s\n",
      "113:\tlearn: 20.9332873\ttotal: 1.8s\tremaining: 14s\n",
      "114:\tlearn: 20.9121148\ttotal: 1.81s\tremaining: 13.9s\n",
      "115:\tlearn: 20.9074520\ttotal: 1.82s\tremaining: 13.9s\n",
      "116:\tlearn: 20.8712274\ttotal: 1.84s\tremaining: 13.9s\n",
      "117:\tlearn: 20.8539564\ttotal: 1.85s\tremaining: 13.9s\n",
      "118:\tlearn: 20.8234687\ttotal: 1.87s\tremaining: 13.8s\n",
      "119:\tlearn: 20.8123715\ttotal: 1.88s\tremaining: 13.8s\n",
      "120:\tlearn: 20.7893592\ttotal: 1.89s\tremaining: 13.7s\n",
      "121:\tlearn: 20.7710940\ttotal: 1.9s\tremaining: 13.7s\n",
      "122:\tlearn: 20.7324402\ttotal: 1.92s\tremaining: 13.7s\n",
      "123:\tlearn: 20.7087999\ttotal: 1.93s\tremaining: 13.7s\n",
      "124:\tlearn: 20.6878921\ttotal: 1.95s\tremaining: 13.6s\n",
      "125:\tlearn: 20.6690754\ttotal: 1.96s\tremaining: 13.6s\n",
      "126:\tlearn: 20.6565662\ttotal: 1.97s\tremaining: 13.5s\n",
      "127:\tlearn: 20.6329355\ttotal: 1.98s\tremaining: 13.5s\n",
      "128:\tlearn: 20.6014558\ttotal: 2s\tremaining: 13.5s\n",
      "129:\tlearn: 20.5660237\ttotal: 2.01s\tremaining: 13.5s\n",
      "130:\tlearn: 20.5505979\ttotal: 2.03s\tremaining: 13.5s\n",
      "131:\tlearn: 20.5481759\ttotal: 2.05s\tremaining: 13.5s\n",
      "132:\tlearn: 20.5218589\ttotal: 2.08s\tremaining: 13.5s\n",
      "133:\tlearn: 20.4956196\ttotal: 2.1s\tremaining: 13.6s\n",
      "134:\tlearn: 20.4906706\ttotal: 2.12s\tremaining: 13.6s\n",
      "135:\tlearn: 20.4827065\ttotal: 2.14s\tremaining: 13.6s\n",
      "136:\tlearn: 20.4745408\ttotal: 2.16s\tremaining: 13.6s\n",
      "137:\tlearn: 20.4389499\ttotal: 2.18s\tremaining: 13.6s\n",
      "138:\tlearn: 20.4186286\ttotal: 2.19s\tremaining: 13.6s\n",
      "139:\tlearn: 20.4018774\ttotal: 2.21s\tremaining: 13.6s\n",
      "140:\tlearn: 20.3734183\ttotal: 2.22s\tremaining: 13.6s\n",
      "141:\tlearn: 20.3429594\ttotal: 2.24s\tremaining: 13.5s\n",
      "142:\tlearn: 20.3177759\ttotal: 2.25s\tremaining: 13.5s\n",
      "143:\tlearn: 20.2927239\ttotal: 2.26s\tremaining: 13.5s\n",
      "144:\tlearn: 20.2628028\ttotal: 2.27s\tremaining: 13.4s\n",
      "145:\tlearn: 20.2366934\ttotal: 2.29s\tremaining: 13.4s\n",
      "146:\tlearn: 20.1977459\ttotal: 2.3s\tremaining: 13.4s\n",
      "147:\tlearn: 20.1569641\ttotal: 2.32s\tremaining: 13.4s\n",
      "148:\tlearn: 20.1398578\ttotal: 2.34s\tremaining: 13.3s\n",
      "149:\tlearn: 20.1126666\ttotal: 2.35s\tremaining: 13.3s\n",
      "150:\tlearn: 20.0887209\ttotal: 2.36s\tremaining: 13.3s\n",
      "151:\tlearn: 20.0714741\ttotal: 2.37s\tremaining: 13.2s\n",
      "152:\tlearn: 20.0455596\ttotal: 2.39s\tremaining: 13.2s\n",
      "153:\tlearn: 20.0163121\ttotal: 2.4s\tremaining: 13.2s\n",
      "154:\tlearn: 19.9957237\ttotal: 2.42s\tremaining: 13.2s\n",
      "155:\tlearn: 19.9703065\ttotal: 2.43s\tremaining: 13.2s\n",
      "156:\tlearn: 19.9602059\ttotal: 2.44s\tremaining: 13.1s\n",
      "157:\tlearn: 19.9534942\ttotal: 2.46s\tremaining: 13.1s\n",
      "158:\tlearn: 19.9316368\ttotal: 2.47s\tremaining: 13s\n",
      "159:\tlearn: 19.9065423\ttotal: 2.48s\tremaining: 13s\n",
      "160:\tlearn: 19.8747569\ttotal: 2.49s\tremaining: 13s\n",
      "161:\tlearn: 19.8394836\ttotal: 2.51s\tremaining: 13s\n",
      "162:\tlearn: 19.8357777\ttotal: 2.52s\tremaining: 13s\n",
      "163:\tlearn: 19.8147901\ttotal: 2.53s\tremaining: 12.9s\n",
      "164:\tlearn: 19.7897134\ttotal: 2.55s\tremaining: 12.9s\n",
      "165:\tlearn: 19.7640304\ttotal: 2.56s\tremaining: 12.9s\n",
      "166:\tlearn: 19.7387859\ttotal: 2.57s\tremaining: 12.8s\n",
      "167:\tlearn: 19.7167785\ttotal: 2.58s\tremaining: 12.8s\n",
      "168:\tlearn: 19.6942050\ttotal: 2.6s\tremaining: 12.8s\n",
      "169:\tlearn: 19.6715084\ttotal: 2.62s\tremaining: 12.8s\n",
      "170:\tlearn: 19.6339606\ttotal: 2.63s\tremaining: 12.7s\n",
      "171:\tlearn: 19.6174225\ttotal: 2.64s\tremaining: 12.7s\n",
      "172:\tlearn: 19.5904467\ttotal: 2.65s\tremaining: 12.7s\n",
      "173:\tlearn: 19.5753745\ttotal: 2.67s\tremaining: 12.7s\n",
      "174:\tlearn: 19.5496684\ttotal: 2.68s\tremaining: 12.6s\n",
      "175:\tlearn: 19.5212391\ttotal: 2.7s\tremaining: 12.6s\n",
      "176:\tlearn: 19.5038266\ttotal: 2.71s\tremaining: 12.6s\n",
      "177:\tlearn: 19.4763248\ttotal: 2.73s\tremaining: 12.6s\n",
      "178:\tlearn: 19.4547067\ttotal: 2.74s\tremaining: 12.6s\n",
      "179:\tlearn: 19.4516250\ttotal: 2.75s\tremaining: 12.5s\n",
      "180:\tlearn: 19.4209398\ttotal: 2.76s\tremaining: 12.5s\n",
      "181:\tlearn: 19.4009091\ttotal: 2.78s\tremaining: 12.5s\n",
      "182:\tlearn: 19.3824519\ttotal: 2.8s\tremaining: 12.5s\n",
      "183:\tlearn: 19.3724528\ttotal: 2.82s\tremaining: 12.5s\n",
      "184:\tlearn: 19.3445310\ttotal: 2.84s\tremaining: 12.5s\n",
      "185:\tlearn: 19.3032283\ttotal: 2.86s\tremaining: 12.5s\n",
      "186:\tlearn: 19.2789722\ttotal: 2.87s\tremaining: 12.5s\n",
      "187:\tlearn: 19.2525824\ttotal: 2.89s\tremaining: 12.5s\n",
      "188:\tlearn: 19.2406097\ttotal: 2.9s\tremaining: 12.5s\n",
      "189:\tlearn: 19.2187205\ttotal: 2.92s\tremaining: 12.4s\n",
      "190:\tlearn: 19.1949405\ttotal: 2.93s\tremaining: 12.4s\n",
      "191:\tlearn: 19.1619096\ttotal: 2.94s\tremaining: 12.4s\n",
      "192:\tlearn: 19.1407381\ttotal: 2.95s\tremaining: 12.4s\n",
      "193:\tlearn: 19.1154211\ttotal: 2.97s\tremaining: 12.3s\n",
      "194:\tlearn: 19.0910368\ttotal: 2.99s\tremaining: 12.3s\n",
      "195:\tlearn: 19.0870970\ttotal: 3s\tremaining: 12.3s\n",
      "196:\tlearn: 19.0605392\ttotal: 3.01s\tremaining: 12.3s\n",
      "197:\tlearn: 19.0425536\ttotal: 3.02s\tremaining: 12.3s\n",
      "198:\tlearn: 19.0143129\ttotal: 3.04s\tremaining: 12.2s\n",
      "199:\tlearn: 18.9935803\ttotal: 3.05s\tremaining: 12.2s\n",
      "200:\tlearn: 18.9663370\ttotal: 3.06s\tremaining: 12.2s\n",
      "201:\tlearn: 18.9400689\ttotal: 3.08s\tremaining: 12.2s\n",
      "202:\tlearn: 18.9188094\ttotal: 3.1s\tremaining: 12.2s\n",
      "203:\tlearn: 18.8994094\ttotal: 3.11s\tremaining: 12.1s\n",
      "204:\tlearn: 18.8830761\ttotal: 3.12s\tremaining: 12.1s\n",
      "205:\tlearn: 18.8585155\ttotal: 3.13s\tremaining: 12.1s\n",
      "206:\tlearn: 18.8269164\ttotal: 3.15s\tremaining: 12.1s\n",
      "207:\tlearn: 18.7988950\ttotal: 3.16s\tremaining: 12s\n",
      "208:\tlearn: 18.7957264\ttotal: 3.18s\tremaining: 12s\n",
      "209:\tlearn: 18.7681120\ttotal: 3.19s\tremaining: 12s\n",
      "210:\tlearn: 18.7413742\ttotal: 3.21s\tremaining: 12s\n",
      "211:\tlearn: 18.7203365\ttotal: 3.22s\tremaining: 12s\n",
      "212:\tlearn: 18.6939026\ttotal: 3.24s\tremaining: 12s\n",
      "213:\tlearn: 18.6778021\ttotal: 3.26s\tremaining: 12s\n",
      "214:\tlearn: 18.6658392\ttotal: 3.27s\tremaining: 12s\n",
      "215:\tlearn: 18.6364135\ttotal: 3.29s\tremaining: 12s\n",
      "216:\tlearn: 18.6261150\ttotal: 3.31s\tremaining: 11.9s\n",
      "217:\tlearn: 18.5988751\ttotal: 3.32s\tremaining: 11.9s\n",
      "218:\tlearn: 18.5749253\ttotal: 3.33s\tremaining: 11.9s\n",
      "219:\tlearn: 18.5554833\ttotal: 3.35s\tremaining: 11.9s\n",
      "220:\tlearn: 18.5337422\ttotal: 3.36s\tremaining: 11.9s\n",
      "221:\tlearn: 18.5112111\ttotal: 3.38s\tremaining: 11.8s\n",
      "222:\tlearn: 18.5089900\ttotal: 3.39s\tremaining: 11.8s\n",
      "223:\tlearn: 18.4790334\ttotal: 3.4s\tremaining: 11.8s\n",
      "224:\tlearn: 18.4521077\ttotal: 3.42s\tremaining: 11.8s\n",
      "225:\tlearn: 18.4237107\ttotal: 3.43s\tremaining: 11.7s\n",
      "226:\tlearn: 18.3946268\ttotal: 3.44s\tremaining: 11.7s\n",
      "227:\tlearn: 18.3812455\ttotal: 3.46s\tremaining: 11.7s\n",
      "228:\tlearn: 18.3695020\ttotal: 3.47s\tremaining: 11.7s\n",
      "229:\tlearn: 18.3370604\ttotal: 3.48s\tremaining: 11.7s\n",
      "230:\tlearn: 18.3103363\ttotal: 3.5s\tremaining: 11.6s\n",
      "231:\tlearn: 18.2898593\ttotal: 3.51s\tremaining: 11.6s\n",
      "232:\tlearn: 18.2613202\ttotal: 3.52s\tremaining: 11.6s\n",
      "233:\tlearn: 18.2415637\ttotal: 3.53s\tremaining: 11.6s\n",
      "234:\tlearn: 18.2242229\ttotal: 3.55s\tremaining: 11.6s\n",
      "235:\tlearn: 18.1951120\ttotal: 3.56s\tremaining: 11.5s\n",
      "236:\tlearn: 18.1780654\ttotal: 3.58s\tremaining: 11.5s\n",
      "237:\tlearn: 18.1539784\ttotal: 3.59s\tremaining: 11.5s\n",
      "238:\tlearn: 18.1385920\ttotal: 3.6s\tremaining: 11.5s\n",
      "239:\tlearn: 18.1173658\ttotal: 3.62s\tremaining: 11.4s\n",
      "240:\tlearn: 18.1082028\ttotal: 3.63s\tremaining: 11.4s\n",
      "241:\tlearn: 18.0921080\ttotal: 3.64s\tremaining: 11.4s\n",
      "242:\tlearn: 18.0699163\ttotal: 3.66s\tremaining: 11.4s\n",
      "243:\tlearn: 18.0546472\ttotal: 3.68s\tremaining: 11.4s\n",
      "244:\tlearn: 18.0261283\ttotal: 3.69s\tremaining: 11.4s\n",
      "245:\tlearn: 18.0163304\ttotal: 3.7s\tremaining: 11.4s\n",
      "246:\tlearn: 17.9936493\ttotal: 3.72s\tremaining: 11.3s\n",
      "247:\tlearn: 17.9679222\ttotal: 3.73s\tremaining: 11.3s\n",
      "248:\tlearn: 17.9430475\ttotal: 3.75s\tremaining: 11.3s\n",
      "249:\tlearn: 17.9163139\ttotal: 3.77s\tremaining: 11.3s\n",
      "250:\tlearn: 17.9012987\ttotal: 3.78s\tremaining: 11.3s\n",
      "251:\tlearn: 17.8786587\ttotal: 3.79s\tremaining: 11.3s\n",
      "252:\tlearn: 17.8578695\ttotal: 3.8s\tremaining: 11.2s\n",
      "253:\tlearn: 17.8403815\ttotal: 3.82s\tremaining: 11.2s\n",
      "254:\tlearn: 17.8289942\ttotal: 3.83s\tremaining: 11.2s\n",
      "255:\tlearn: 17.8056658\ttotal: 3.85s\tremaining: 11.2s\n",
      "256:\tlearn: 17.7867971\ttotal: 3.86s\tremaining: 11.2s\n",
      "257:\tlearn: 17.7616322\ttotal: 3.88s\tremaining: 11.1s\n",
      "258:\tlearn: 17.7384834\ttotal: 3.89s\tremaining: 11.1s\n",
      "259:\tlearn: 17.7289452\ttotal: 3.9s\tremaining: 11.1s\n",
      "260:\tlearn: 17.7103510\ttotal: 3.91s\tremaining: 11.1s\n",
      "261:\tlearn: 17.6849996\ttotal: 3.93s\tremaining: 11.1s\n",
      "262:\tlearn: 17.6673130\ttotal: 3.94s\tremaining: 11.1s\n",
      "263:\tlearn: 17.6500326\ttotal: 3.96s\tremaining: 11s\n",
      "264:\tlearn: 17.6334771\ttotal: 3.97s\tremaining: 11s\n",
      "265:\tlearn: 17.6054355\ttotal: 3.98s\tremaining: 11s\n",
      "266:\tlearn: 17.5824298\ttotal: 4s\tremaining: 11s\n",
      "267:\tlearn: 17.5702268\ttotal: 4.01s\tremaining: 11s\n",
      "268:\tlearn: 17.5436870\ttotal: 4.02s\tremaining: 10.9s\n",
      "269:\tlearn: 17.5210446\ttotal: 4.04s\tremaining: 10.9s\n",
      "270:\tlearn: 17.5054171\ttotal: 4.05s\tremaining: 10.9s\n",
      "271:\tlearn: 17.4935766\ttotal: 4.06s\tremaining: 10.9s\n",
      "272:\tlearn: 17.4710517\ttotal: 4.08s\tremaining: 10.9s\n",
      "273:\tlearn: 17.4524932\ttotal: 4.09s\tremaining: 10.8s\n",
      "274:\tlearn: 17.4493404\ttotal: 4.1s\tremaining: 10.8s\n",
      "275:\tlearn: 17.4273777\ttotal: 4.12s\tremaining: 10.8s\n",
      "276:\tlearn: 17.4132334\ttotal: 4.13s\tremaining: 10.8s\n",
      "277:\tlearn: 17.3886763\ttotal: 4.15s\tremaining: 10.8s\n",
      "278:\tlearn: 17.3800099\ttotal: 4.16s\tremaining: 10.7s\n",
      "279:\tlearn: 17.3780620\ttotal: 4.17s\tremaining: 10.7s\n",
      "280:\tlearn: 17.3576175\ttotal: 4.18s\tremaining: 10.7s\n",
      "281:\tlearn: 17.3286468\ttotal: 4.19s\tremaining: 10.7s\n",
      "282:\tlearn: 17.3100037\ttotal: 4.21s\tremaining: 10.7s\n",
      "283:\tlearn: 17.2931609\ttotal: 4.22s\tremaining: 10.6s\n",
      "284:\tlearn: 17.2781914\ttotal: 4.24s\tremaining: 10.6s\n",
      "285:\tlearn: 17.2630249\ttotal: 4.25s\tremaining: 10.6s\n",
      "286:\tlearn: 17.2504355\ttotal: 4.26s\tremaining: 10.6s\n",
      "287:\tlearn: 17.2315160\ttotal: 4.28s\tremaining: 10.6s\n",
      "288:\tlearn: 17.2100865\ttotal: 4.29s\tremaining: 10.6s\n",
      "289:\tlearn: 17.1987944\ttotal: 4.3s\tremaining: 10.5s\n",
      "290:\tlearn: 17.1737043\ttotal: 4.32s\tremaining: 10.5s\n",
      "291:\tlearn: 17.1483951\ttotal: 4.33s\tremaining: 10.5s\n",
      "292:\tlearn: 17.1461445\ttotal: 4.34s\tremaining: 10.5s\n",
      "293:\tlearn: 17.1327435\ttotal: 4.36s\tremaining: 10.5s\n",
      "294:\tlearn: 17.1195214\ttotal: 4.37s\tremaining: 10.4s\n",
      "295:\tlearn: 17.1090364\ttotal: 4.38s\tremaining: 10.4s\n",
      "296:\tlearn: 17.0911391\ttotal: 4.39s\tremaining: 10.4s\n",
      "297:\tlearn: 17.0663793\ttotal: 4.41s\tremaining: 10.4s\n",
      "298:\tlearn: 17.0407353\ttotal: 4.43s\tremaining: 10.4s\n",
      "299:\tlearn: 17.0210944\ttotal: 4.44s\tremaining: 10.4s\n",
      "300:\tlearn: 17.0035188\ttotal: 4.45s\tremaining: 10.3s\n",
      "301:\tlearn: 16.9845368\ttotal: 4.46s\tremaining: 10.3s\n",
      "302:\tlearn: 16.9819143\ttotal: 4.48s\tremaining: 10.3s\n",
      "303:\tlearn: 16.9638273\ttotal: 4.49s\tremaining: 10.3s\n",
      "304:\tlearn: 16.9455984\ttotal: 4.51s\tremaining: 10.3s\n",
      "305:\tlearn: 16.9271937\ttotal: 4.52s\tremaining: 10.3s\n",
      "306:\tlearn: 16.9173933\ttotal: 4.53s\tremaining: 10.2s\n",
      "307:\tlearn: 16.8984035\ttotal: 4.54s\tremaining: 10.2s\n",
      "308:\tlearn: 16.8775678\ttotal: 4.56s\tremaining: 10.2s\n",
      "309:\tlearn: 16.8616028\ttotal: 4.57s\tremaining: 10.2s\n",
      "310:\tlearn: 16.8477757\ttotal: 4.58s\tremaining: 10.1s\n",
      "311:\tlearn: 16.8304609\ttotal: 4.59s\tremaining: 10.1s\n",
      "312:\tlearn: 16.8152887\ttotal: 4.61s\tremaining: 10.1s\n",
      "313:\tlearn: 16.7975385\ttotal: 4.63s\tremaining: 10.1s\n",
      "314:\tlearn: 16.7795612\ttotal: 4.64s\tremaining: 10.1s\n",
      "315:\tlearn: 16.7646428\ttotal: 4.65s\tremaining: 10.1s\n",
      "316:\tlearn: 16.7470018\ttotal: 4.66s\tremaining: 10s\n",
      "317:\tlearn: 16.7381718\ttotal: 4.68s\tremaining: 10s\n",
      "318:\tlearn: 16.7233459\ttotal: 4.69s\tremaining: 10s\n",
      "319:\tlearn: 16.7143309\ttotal: 4.71s\tremaining: 10s\n",
      "320:\tlearn: 16.6975188\ttotal: 4.72s\tremaining: 9.98s\n",
      "321:\tlearn: 16.6837491\ttotal: 4.73s\tremaining: 9.96s\n",
      "322:\tlearn: 16.6698483\ttotal: 4.74s\tremaining: 9.94s\n",
      "323:\tlearn: 16.6506695\ttotal: 4.75s\tremaining: 9.92s\n",
      "324:\tlearn: 16.6318693\ttotal: 4.77s\tremaining: 9.9s\n",
      "325:\tlearn: 16.6171431\ttotal: 4.78s\tremaining: 9.89s\n",
      "326:\tlearn: 16.6151557\ttotal: 4.8s\tremaining: 9.88s\n",
      "327:\tlearn: 16.5971431\ttotal: 4.82s\tremaining: 9.87s\n",
      "328:\tlearn: 16.5795193\ttotal: 4.83s\tremaining: 9.85s\n",
      "329:\tlearn: 16.5635382\ttotal: 4.84s\tremaining: 9.83s\n",
      "330:\tlearn: 16.5508926\ttotal: 4.86s\tremaining: 9.81s\n",
      "331:\tlearn: 16.5381156\ttotal: 4.87s\tremaining: 9.8s\n",
      "332:\tlearn: 16.5189038\ttotal: 4.89s\tremaining: 9.79s\n",
      "333:\tlearn: 16.4955160\ttotal: 4.9s\tremaining: 9.77s\n",
      "334:\tlearn: 16.4930782\ttotal: 4.91s\tremaining: 9.75s\n",
      "335:\tlearn: 16.4808729\ttotal: 4.92s\tremaining: 9.73s\n",
      "336:\tlearn: 16.4564529\ttotal: 4.94s\tremaining: 9.71s\n",
      "337:\tlearn: 16.4423287\ttotal: 4.95s\tremaining: 9.69s\n",
      "338:\tlearn: 16.4294065\ttotal: 4.96s\tremaining: 9.68s\n",
      "339:\tlearn: 16.4148237\ttotal: 4.98s\tremaining: 9.67s\n",
      "340:\tlearn: 16.3965901\ttotal: 4.99s\tremaining: 9.65s\n",
      "341:\tlearn: 16.3816042\ttotal: 5.01s\tremaining: 9.63s\n",
      "342:\tlearn: 16.3681647\ttotal: 5.02s\tremaining: 9.61s\n",
      "343:\tlearn: 16.3589558\ttotal: 5.03s\tremaining: 9.59s\n",
      "344:\tlearn: 16.3440188\ttotal: 5.04s\tremaining: 9.58s\n",
      "345:\tlearn: 16.3264157\ttotal: 5.06s\tremaining: 9.56s\n",
      "346:\tlearn: 16.3073086\ttotal: 5.08s\tremaining: 9.55s\n",
      "347:\tlearn: 16.2878710\ttotal: 5.09s\tremaining: 9.53s\n",
      "348:\tlearn: 16.2719142\ttotal: 5.1s\tremaining: 9.51s\n",
      "349:\tlearn: 16.2566235\ttotal: 5.11s\tremaining: 9.49s\n",
      "350:\tlearn: 16.2364898\ttotal: 5.13s\tremaining: 9.48s\n",
      "351:\tlearn: 16.2281570\ttotal: 5.14s\tremaining: 9.46s\n",
      "352:\tlearn: 16.2156564\ttotal: 5.15s\tremaining: 9.44s\n",
      "353:\tlearn: 16.2047110\ttotal: 5.17s\tremaining: 9.43s\n",
      "354:\tlearn: 16.1848610\ttotal: 5.18s\tremaining: 9.41s\n",
      "355:\tlearn: 16.1764497\ttotal: 5.19s\tremaining: 9.39s\n",
      "356:\tlearn: 16.1571184\ttotal: 5.21s\tremaining: 9.38s\n",
      "357:\tlearn: 16.1530537\ttotal: 5.22s\tremaining: 9.36s\n",
      "358:\tlearn: 16.1375273\ttotal: 5.23s\tremaining: 9.34s\n",
      "359:\tlearn: 16.1274750\ttotal: 5.24s\tremaining: 9.32s\n",
      "360:\tlearn: 16.1038862\ttotal: 5.26s\tremaining: 9.31s\n",
      "361:\tlearn: 16.0796431\ttotal: 5.28s\tremaining: 9.3s\n",
      "362:\tlearn: 16.0660512\ttotal: 5.29s\tremaining: 9.28s\n",
      "363:\tlearn: 16.0548413\ttotal: 5.3s\tremaining: 9.26s\n",
      "364:\tlearn: 16.0415837\ttotal: 5.31s\tremaining: 9.24s\n",
      "365:\tlearn: 16.0218488\ttotal: 5.32s\tremaining: 9.22s\n",
      "366:\tlearn: 15.9942097\ttotal: 5.33s\tremaining: 9.2s\n",
      "367:\tlearn: 15.9838569\ttotal: 5.35s\tremaining: 9.19s\n",
      "368:\tlearn: 15.9721313\ttotal: 5.37s\tremaining: 9.18s\n",
      "369:\tlearn: 15.9701337\ttotal: 5.38s\tremaining: 9.16s\n",
      "370:\tlearn: 15.9567297\ttotal: 5.39s\tremaining: 9.14s\n",
      "371:\tlearn: 15.9386546\ttotal: 5.41s\tremaining: 9.13s\n",
      "372:\tlearn: 15.9195202\ttotal: 5.42s\tremaining: 9.12s\n",
      "373:\tlearn: 15.9005034\ttotal: 5.44s\tremaining: 9.1s\n",
      "374:\tlearn: 15.8988297\ttotal: 5.45s\tremaining: 9.09s\n",
      "375:\tlearn: 15.8802766\ttotal: 5.47s\tremaining: 9.07s\n",
      "376:\tlearn: 15.8669335\ttotal: 5.48s\tremaining: 9.05s\n",
      "377:\tlearn: 15.8578414\ttotal: 5.49s\tremaining: 9.03s\n",
      "378:\tlearn: 15.8399224\ttotal: 5.5s\tremaining: 9.02s\n",
      "379:\tlearn: 15.8259665\ttotal: 5.51s\tremaining: 9s\n",
      "380:\tlearn: 15.8073406\ttotal: 5.53s\tremaining: 8.98s\n",
      "381:\tlearn: 15.7898343\ttotal: 5.54s\tremaining: 8.97s\n",
      "382:\tlearn: 15.7720794\ttotal: 5.56s\tremaining: 8.95s\n",
      "383:\tlearn: 15.7535873\ttotal: 5.57s\tremaining: 8.94s\n",
      "384:\tlearn: 15.7429021\ttotal: 5.58s\tremaining: 8.92s\n",
      "385:\tlearn: 15.7309963\ttotal: 5.59s\tremaining: 8.9s\n",
      "386:\tlearn: 15.7168348\ttotal: 5.61s\tremaining: 8.88s\n",
      "387:\tlearn: 15.7108056\ttotal: 5.62s\tremaining: 8.86s\n",
      "388:\tlearn: 15.7009964\ttotal: 5.63s\tremaining: 8.85s\n",
      "389:\tlearn: 15.6991032\ttotal: 5.65s\tremaining: 8.84s\n",
      "390:\tlearn: 15.6816727\ttotal: 5.66s\tremaining: 8.82s\n",
      "391:\tlearn: 15.6697086\ttotal: 5.68s\tremaining: 8.8s\n",
      "392:\tlearn: 15.6506927\ttotal: 5.69s\tremaining: 8.79s\n",
      "393:\tlearn: 15.6240026\ttotal: 5.7s\tremaining: 8.77s\n",
      "394:\tlearn: 15.6033482\ttotal: 5.71s\tremaining: 8.75s\n",
      "395:\tlearn: 15.5931444\ttotal: 5.73s\tremaining: 8.73s\n",
      "396:\tlearn: 15.5770449\ttotal: 5.74s\tremaining: 8.72s\n",
      "397:\tlearn: 15.5752986\ttotal: 5.76s\tremaining: 8.71s\n",
      "398:\tlearn: 15.5625293\ttotal: 5.77s\tremaining: 8.69s\n",
      "399:\tlearn: 15.5525194\ttotal: 5.78s\tremaining: 8.67s\n",
      "400:\tlearn: 15.5350159\ttotal: 5.79s\tremaining: 8.65s\n",
      "401:\tlearn: 15.5149850\ttotal: 5.81s\tremaining: 8.64s\n",
      "402:\tlearn: 15.5046886\ttotal: 5.82s\tremaining: 8.62s\n",
      "403:\tlearn: 15.4888595\ttotal: 5.84s\tremaining: 8.61s\n",
      "404:\tlearn: 15.4796225\ttotal: 5.85s\tremaining: 8.6s\n",
      "405:\tlearn: 15.4784296\ttotal: 5.86s\tremaining: 8.58s\n",
      "406:\tlearn: 15.4615967\ttotal: 5.88s\tremaining: 8.56s\n",
      "407:\tlearn: 15.4422198\ttotal: 5.89s\tremaining: 8.54s\n",
      "408:\tlearn: 15.4309745\ttotal: 5.9s\tremaining: 8.53s\n",
      "409:\tlearn: 15.4206116\ttotal: 5.92s\tremaining: 8.51s\n",
      "410:\tlearn: 15.4055021\ttotal: 5.93s\tremaining: 8.5s\n",
      "411:\tlearn: 15.3920210\ttotal: 5.95s\tremaining: 8.5s\n",
      "412:\tlearn: 15.3795001\ttotal: 5.97s\tremaining: 8.49s\n",
      "413:\tlearn: 15.3609312\ttotal: 6s\tremaining: 8.49s\n",
      "414:\tlearn: 15.3481952\ttotal: 6.02s\tremaining: 8.48s\n",
      "415:\tlearn: 15.3307134\ttotal: 6.04s\tremaining: 8.48s\n",
      "416:\tlearn: 15.3168750\ttotal: 6.06s\tremaining: 8.47s\n",
      "417:\tlearn: 15.3008976\ttotal: 6.08s\tremaining: 8.46s\n",
      "418:\tlearn: 15.2856338\ttotal: 6.1s\tremaining: 8.46s\n",
      "419:\tlearn: 15.2712157\ttotal: 6.12s\tremaining: 8.46s\n",
      "420:\tlearn: 15.2606332\ttotal: 6.14s\tremaining: 8.45s\n",
      "421:\tlearn: 15.2510788\ttotal: 6.16s\tremaining: 8.44s\n",
      "422:\tlearn: 15.2315911\ttotal: 6.18s\tremaining: 8.44s\n",
      "423:\tlearn: 15.2168851\ttotal: 6.21s\tremaining: 8.43s\n",
      "424:\tlearn: 15.2030470\ttotal: 6.23s\tremaining: 8.43s\n",
      "425:\tlearn: 15.2010329\ttotal: 6.24s\tremaining: 8.41s\n",
      "426:\tlearn: 15.1918946\ttotal: 6.26s\tremaining: 8.41s\n",
      "427:\tlearn: 15.1724425\ttotal: 6.28s\tremaining: 8.39s\n",
      "428:\tlearn: 15.1634255\ttotal: 6.29s\tremaining: 8.38s\n",
      "429:\tlearn: 15.1462003\ttotal: 6.31s\tremaining: 8.36s\n",
      "430:\tlearn: 15.1328028\ttotal: 6.32s\tremaining: 8.35s\n",
      "431:\tlearn: 15.1287867\ttotal: 6.33s\tremaining: 8.33s\n",
      "432:\tlearn: 15.1070307\ttotal: 6.35s\tremaining: 8.31s\n",
      "433:\tlearn: 15.1060189\ttotal: 6.36s\tremaining: 8.29s\n",
      "434:\tlearn: 15.0906376\ttotal: 6.37s\tremaining: 8.28s\n",
      "435:\tlearn: 15.0830794\ttotal: 6.38s\tremaining: 8.26s\n",
      "436:\tlearn: 15.0686050\ttotal: 6.4s\tremaining: 8.24s\n",
      "437:\tlearn: 15.0512617\ttotal: 6.41s\tremaining: 8.23s\n",
      "438:\tlearn: 15.0347085\ttotal: 6.43s\tremaining: 8.21s\n",
      "439:\tlearn: 15.0209364\ttotal: 6.44s\tremaining: 8.19s\n",
      "440:\tlearn: 15.0081437\ttotal: 6.45s\tremaining: 8.18s\n",
      "441:\tlearn: 14.9940719\ttotal: 6.46s\tremaining: 8.16s\n",
      "442:\tlearn: 14.9761876\ttotal: 6.48s\tremaining: 8.14s\n",
      "443:\tlearn: 14.9620084\ttotal: 6.49s\tremaining: 8.13s\n",
      "444:\tlearn: 14.9423331\ttotal: 6.51s\tremaining: 8.12s\n",
      "445:\tlearn: 14.9296186\ttotal: 6.52s\tremaining: 8.1s\n",
      "446:\tlearn: 14.9153075\ttotal: 6.53s\tremaining: 8.08s\n",
      "447:\tlearn: 14.9044853\ttotal: 6.55s\tremaining: 8.06s\n",
      "448:\tlearn: 14.8907108\ttotal: 6.56s\tremaining: 8.05s\n",
      "449:\tlearn: 14.8745746\ttotal: 6.57s\tremaining: 8.03s\n",
      "450:\tlearn: 14.8602093\ttotal: 6.58s\tremaining: 8.02s\n",
      "451:\tlearn: 14.8461448\ttotal: 6.6s\tremaining: 8.01s\n",
      "452:\tlearn: 14.8358133\ttotal: 6.62s\tremaining: 7.99s\n",
      "453:\tlearn: 14.8229478\ttotal: 6.63s\tremaining: 7.97s\n",
      "454:\tlearn: 14.8200722\ttotal: 6.64s\tremaining: 7.95s\n",
      "455:\tlearn: 14.8012289\ttotal: 6.65s\tremaining: 7.94s\n",
      "456:\tlearn: 14.7963565\ttotal: 6.67s\tremaining: 7.92s\n",
      "457:\tlearn: 14.7801550\ttotal: 6.68s\tremaining: 7.9s\n",
      "458:\tlearn: 14.7681333\ttotal: 6.7s\tremaining: 7.89s\n",
      "459:\tlearn: 14.7632612\ttotal: 6.71s\tremaining: 7.88s\n",
      "460:\tlearn: 14.7469957\ttotal: 6.72s\tremaining: 7.86s\n",
      "461:\tlearn: 14.7360981\ttotal: 6.73s\tremaining: 7.84s\n",
      "462:\tlearn: 14.7254095\ttotal: 6.75s\tremaining: 7.82s\n",
      "463:\tlearn: 14.7156934\ttotal: 6.76s\tremaining: 7.81s\n",
      "464:\tlearn: 14.7145074\ttotal: 6.77s\tremaining: 7.79s\n",
      "465:\tlearn: 14.7052488\ttotal: 6.79s\tremaining: 7.78s\n",
      "466:\tlearn: 14.6881130\ttotal: 6.8s\tremaining: 7.76s\n",
      "467:\tlearn: 14.6735361\ttotal: 6.81s\tremaining: 7.75s\n",
      "468:\tlearn: 14.6608697\ttotal: 6.83s\tremaining: 7.73s\n",
      "469:\tlearn: 14.6526684\ttotal: 6.84s\tremaining: 7.71s\n",
      "470:\tlearn: 14.6388853\ttotal: 6.85s\tremaining: 7.69s\n",
      "471:\tlearn: 14.6202175\ttotal: 6.86s\tremaining: 7.68s\n",
      "472:\tlearn: 14.6060397\ttotal: 6.88s\tremaining: 7.67s\n",
      "473:\tlearn: 14.5984648\ttotal: 6.89s\tremaining: 7.65s\n",
      "474:\tlearn: 14.5844787\ttotal: 6.91s\tremaining: 7.63s\n",
      "475:\tlearn: 14.5833117\ttotal: 6.92s\tremaining: 7.62s\n",
      "476:\tlearn: 14.5824329\ttotal: 6.93s\tremaining: 7.6s\n",
      "477:\tlearn: 14.5647622\ttotal: 6.94s\tremaining: 7.58s\n",
      "478:\tlearn: 14.5498911\ttotal: 6.96s\tremaining: 7.57s\n",
      "479:\tlearn: 14.5426476\ttotal: 6.97s\tremaining: 7.55s\n",
      "480:\tlearn: 14.5324436\ttotal: 6.99s\tremaining: 7.54s\n",
      "481:\tlearn: 14.5196839\ttotal: 7s\tremaining: 7.52s\n",
      "482:\tlearn: 14.5053141\ttotal: 7.01s\tremaining: 7.5s\n",
      "483:\tlearn: 14.4959448\ttotal: 7.02s\tremaining: 7.49s\n",
      "484:\tlearn: 14.4819842\ttotal: 7.04s\tremaining: 7.48s\n",
      "485:\tlearn: 14.4668973\ttotal: 7.06s\tremaining: 7.47s\n",
      "486:\tlearn: 14.4654338\ttotal: 7.08s\tremaining: 7.45s\n",
      "487:\tlearn: 14.4524901\ttotal: 7.09s\tremaining: 7.44s\n",
      "488:\tlearn: 14.4396180\ttotal: 7.1s\tremaining: 7.42s\n",
      "489:\tlearn: 14.4318396\ttotal: 7.11s\tremaining: 7.4s\n",
      "490:\tlearn: 14.4193360\ttotal: 7.13s\tremaining: 7.39s\n",
      "491:\tlearn: 14.4065805\ttotal: 7.14s\tremaining: 7.37s\n",
      "492:\tlearn: 14.3920002\ttotal: 7.15s\tremaining: 7.35s\n",
      "493:\tlearn: 14.3768001\ttotal: 7.17s\tremaining: 7.34s\n",
      "494:\tlearn: 14.3663842\ttotal: 7.18s\tremaining: 7.33s\n",
      "495:\tlearn: 14.3558082\ttotal: 7.19s\tremaining: 7.31s\n",
      "496:\tlearn: 14.3479677\ttotal: 7.21s\tremaining: 7.29s\n",
      "497:\tlearn: 14.3329520\ttotal: 7.22s\tremaining: 7.28s\n",
      "498:\tlearn: 14.3186096\ttotal: 7.23s\tremaining: 7.26s\n",
      "499:\tlearn: 14.2972388\ttotal: 7.24s\tremaining: 7.24s\n",
      "500:\tlearn: 14.2807899\ttotal: 7.26s\tremaining: 7.23s\n",
      "501:\tlearn: 14.2654953\ttotal: 7.28s\tremaining: 7.22s\n",
      "502:\tlearn: 14.2642761\ttotal: 7.29s\tremaining: 7.2s\n",
      "503:\tlearn: 14.2564655\ttotal: 7.3s\tremaining: 7.18s\n",
      "504:\tlearn: 14.2397926\ttotal: 7.31s\tremaining: 7.17s\n",
      "505:\tlearn: 14.2280549\ttotal: 7.33s\tremaining: 7.15s\n",
      "506:\tlearn: 14.2159290\ttotal: 7.34s\tremaining: 7.14s\n",
      "507:\tlearn: 14.2048604\ttotal: 7.36s\tremaining: 7.12s\n",
      "508:\tlearn: 14.1892935\ttotal: 7.37s\tremaining: 7.11s\n",
      "509:\tlearn: 14.1833486\ttotal: 7.38s\tremaining: 7.09s\n",
      "510:\tlearn: 14.1744130\ttotal: 7.4s\tremaining: 7.08s\n",
      "511:\tlearn: 14.1619155\ttotal: 7.41s\tremaining: 7.06s\n",
      "512:\tlearn: 14.1481354\ttotal: 7.42s\tremaining: 7.04s\n",
      "513:\tlearn: 14.1423036\ttotal: 7.43s\tremaining: 7.03s\n",
      "514:\tlearn: 14.1330601\ttotal: 7.45s\tremaining: 7.02s\n",
      "515:\tlearn: 14.1151788\ttotal: 7.46s\tremaining: 7s\n",
      "516:\tlearn: 14.1028138\ttotal: 7.48s\tremaining: 6.99s\n",
      "517:\tlearn: 14.0891668\ttotal: 7.49s\tremaining: 6.97s\n",
      "518:\tlearn: 14.0839510\ttotal: 7.5s\tremaining: 6.95s\n",
      "519:\tlearn: 14.0821722\ttotal: 7.51s\tremaining: 6.94s\n",
      "520:\tlearn: 14.0653417\ttotal: 7.53s\tremaining: 6.92s\n",
      "521:\tlearn: 14.0479801\ttotal: 7.54s\tremaining: 6.91s\n",
      "522:\tlearn: 14.0387099\ttotal: 7.56s\tremaining: 6.9s\n",
      "523:\tlearn: 14.0305987\ttotal: 7.57s\tremaining: 6.88s\n",
      "524:\tlearn: 14.0178483\ttotal: 7.59s\tremaining: 6.86s\n",
      "525:\tlearn: 14.0070955\ttotal: 7.6s\tremaining: 6.85s\n",
      "526:\tlearn: 13.9935532\ttotal: 7.61s\tremaining: 6.83s\n",
      "527:\tlearn: 13.9803189\ttotal: 7.62s\tremaining: 6.81s\n",
      "528:\tlearn: 13.9664938\ttotal: 7.64s\tremaining: 6.8s\n",
      "529:\tlearn: 13.9489981\ttotal: 7.66s\tremaining: 6.79s\n",
      "530:\tlearn: 13.9320870\ttotal: 7.67s\tremaining: 6.77s\n",
      "531:\tlearn: 13.9186601\ttotal: 7.68s\tremaining: 6.76s\n",
      "532:\tlearn: 13.9084997\ttotal: 7.69s\tremaining: 6.74s\n",
      "533:\tlearn: 13.9014832\ttotal: 7.71s\tremaining: 6.72s\n",
      "534:\tlearn: 13.8844264\ttotal: 7.72s\tremaining: 6.71s\n",
      "535:\tlearn: 13.8650525\ttotal: 7.74s\tremaining: 6.7s\n",
      "536:\tlearn: 13.8640609\ttotal: 7.75s\tremaining: 6.68s\n",
      "537:\tlearn: 13.8491599\ttotal: 7.76s\tremaining: 6.67s\n",
      "538:\tlearn: 13.8439536\ttotal: 7.78s\tremaining: 6.65s\n",
      "539:\tlearn: 13.8432002\ttotal: 7.79s\tremaining: 6.63s\n",
      "540:\tlearn: 13.8295926\ttotal: 7.8s\tremaining: 6.62s\n",
      "541:\tlearn: 13.8207456\ttotal: 7.81s\tremaining: 6.6s\n",
      "542:\tlearn: 13.8041735\ttotal: 7.83s\tremaining: 6.59s\n",
      "543:\tlearn: 13.8026699\ttotal: 7.84s\tremaining: 6.58s\n",
      "544:\tlearn: 13.7877205\ttotal: 7.86s\tremaining: 6.56s\n",
      "545:\tlearn: 13.7766485\ttotal: 7.87s\tremaining: 6.54s\n",
      "546:\tlearn: 13.7654541\ttotal: 7.88s\tremaining: 6.53s\n",
      "547:\tlearn: 13.7525023\ttotal: 7.89s\tremaining: 6.51s\n",
      "548:\tlearn: 13.7460533\ttotal: 7.91s\tremaining: 6.5s\n",
      "549:\tlearn: 13.7301510\ttotal: 7.92s\tremaining: 6.48s\n",
      "550:\tlearn: 13.7197430\ttotal: 7.93s\tremaining: 6.47s\n",
      "551:\tlearn: 13.7105696\ttotal: 7.95s\tremaining: 6.45s\n",
      "552:\tlearn: 13.6949722\ttotal: 7.96s\tremaining: 6.43s\n",
      "553:\tlearn: 13.6808026\ttotal: 7.97s\tremaining: 6.42s\n",
      "554:\tlearn: 13.6672187\ttotal: 7.99s\tremaining: 6.4s\n",
      "555:\tlearn: 13.6529932\ttotal: 8s\tremaining: 6.39s\n",
      "556:\tlearn: 13.6449004\ttotal: 8.01s\tremaining: 6.37s\n",
      "557:\tlearn: 13.6325134\ttotal: 8.03s\tremaining: 6.36s\n",
      "558:\tlearn: 13.6259182\ttotal: 8.04s\tremaining: 6.34s\n",
      "559:\tlearn: 13.6126535\ttotal: 8.05s\tremaining: 6.33s\n",
      "560:\tlearn: 13.6003189\ttotal: 8.07s\tremaining: 6.31s\n",
      "561:\tlearn: 13.5938166\ttotal: 8.08s\tremaining: 6.3s\n",
      "562:\tlearn: 13.5744196\ttotal: 8.09s\tremaining: 6.28s\n",
      "563:\tlearn: 13.5662290\ttotal: 8.11s\tremaining: 6.27s\n",
      "564:\tlearn: 13.5583410\ttotal: 8.12s\tremaining: 6.25s\n",
      "565:\tlearn: 13.5501989\ttotal: 8.13s\tremaining: 6.24s\n",
      "566:\tlearn: 13.5452691\ttotal: 8.14s\tremaining: 6.22s\n",
      "567:\tlearn: 13.5382299\ttotal: 8.16s\tremaining: 6.2s\n",
      "568:\tlearn: 13.5317986\ttotal: 8.17s\tremaining: 6.19s\n",
      "569:\tlearn: 13.5171149\ttotal: 8.19s\tremaining: 6.18s\n",
      "570:\tlearn: 13.5048083\ttotal: 8.21s\tremaining: 6.17s\n",
      "571:\tlearn: 13.4907501\ttotal: 8.23s\tremaining: 6.16s\n",
      "572:\tlearn: 13.4794696\ttotal: 8.25s\tremaining: 6.15s\n",
      "573:\tlearn: 13.4620808\ttotal: 8.27s\tremaining: 6.14s\n",
      "574:\tlearn: 13.4508073\ttotal: 8.28s\tremaining: 6.12s\n",
      "575:\tlearn: 13.4402690\ttotal: 8.29s\tremaining: 6.11s\n",
      "576:\tlearn: 13.4263705\ttotal: 8.31s\tremaining: 6.09s\n",
      "577:\tlearn: 13.4163276\ttotal: 8.32s\tremaining: 6.08s\n",
      "578:\tlearn: 13.4065742\ttotal: 8.34s\tremaining: 6.06s\n",
      "579:\tlearn: 13.3962988\ttotal: 8.35s\tremaining: 6.04s\n",
      "580:\tlearn: 13.3796005\ttotal: 8.36s\tremaining: 6.03s\n",
      "581:\tlearn: 13.3734774\ttotal: 8.37s\tremaining: 6.01s\n",
      "582:\tlearn: 13.3643644\ttotal: 8.39s\tremaining: 6s\n",
      "583:\tlearn: 13.3549438\ttotal: 8.4s\tremaining: 5.99s\n",
      "584:\tlearn: 13.3453076\ttotal: 8.42s\tremaining: 5.97s\n",
      "585:\tlearn: 13.3328089\ttotal: 8.43s\tremaining: 5.96s\n",
      "586:\tlearn: 13.3217496\ttotal: 8.44s\tremaining: 5.94s\n",
      "587:\tlearn: 13.3210793\ttotal: 8.45s\tremaining: 5.92s\n",
      "588:\tlearn: 13.3140621\ttotal: 8.47s\tremaining: 5.91s\n",
      "589:\tlearn: 13.2984036\ttotal: 8.48s\tremaining: 5.89s\n",
      "590:\tlearn: 13.2898491\ttotal: 8.5s\tremaining: 5.88s\n",
      "591:\tlearn: 13.2783964\ttotal: 8.51s\tremaining: 5.87s\n",
      "592:\tlearn: 13.2772871\ttotal: 8.52s\tremaining: 5.85s\n",
      "593:\tlearn: 13.2663629\ttotal: 8.54s\tremaining: 5.83s\n",
      "594:\tlearn: 13.2553762\ttotal: 8.55s\tremaining: 5.82s\n",
      "595:\tlearn: 13.2547339\ttotal: 8.56s\tremaining: 5.8s\n",
      "596:\tlearn: 13.2447892\ttotal: 8.57s\tremaining: 5.79s\n",
      "597:\tlearn: 13.2313372\ttotal: 8.59s\tremaining: 5.78s\n",
      "598:\tlearn: 13.2300001\ttotal: 8.6s\tremaining: 5.76s\n",
      "599:\tlearn: 13.2289830\ttotal: 8.62s\tremaining: 5.74s\n",
      "600:\tlearn: 13.2081147\ttotal: 8.63s\tremaining: 5.73s\n",
      "601:\tlearn: 13.2013149\ttotal: 8.64s\tremaining: 5.71s\n",
      "602:\tlearn: 13.1906658\ttotal: 8.65s\tremaining: 5.7s\n",
      "603:\tlearn: 13.1793361\ttotal: 8.67s\tremaining: 5.68s\n",
      "604:\tlearn: 13.1740305\ttotal: 8.69s\tremaining: 5.67s\n",
      "605:\tlearn: 13.1706129\ttotal: 8.7s\tremaining: 5.66s\n",
      "606:\tlearn: 13.1699198\ttotal: 8.71s\tremaining: 5.64s\n",
      "607:\tlearn: 13.1643504\ttotal: 8.72s\tremaining: 5.62s\n",
      "608:\tlearn: 13.1576708\ttotal: 8.74s\tremaining: 5.61s\n",
      "609:\tlearn: 13.1445339\ttotal: 8.75s\tremaining: 5.59s\n",
      "610:\tlearn: 13.1329748\ttotal: 8.76s\tremaining: 5.58s\n",
      "611:\tlearn: 13.1230554\ttotal: 8.78s\tremaining: 5.57s\n",
      "612:\tlearn: 13.1173707\ttotal: 8.79s\tremaining: 5.55s\n",
      "613:\tlearn: 13.1077495\ttotal: 8.81s\tremaining: 5.54s\n",
      "614:\tlearn: 13.0988404\ttotal: 8.82s\tremaining: 5.52s\n",
      "615:\tlearn: 13.0930191\ttotal: 8.83s\tremaining: 5.5s\n",
      "616:\tlearn: 13.0828329\ttotal: 8.85s\tremaining: 5.49s\n",
      "617:\tlearn: 13.0684846\ttotal: 8.86s\tremaining: 5.48s\n",
      "618:\tlearn: 13.0601817\ttotal: 8.88s\tremaining: 5.46s\n",
      "619:\tlearn: 13.0449220\ttotal: 8.89s\tremaining: 5.45s\n",
      "620:\tlearn: 13.0321964\ttotal: 8.9s\tremaining: 5.43s\n",
      "621:\tlearn: 13.0232779\ttotal: 8.92s\tremaining: 5.42s\n",
      "622:\tlearn: 13.0075740\ttotal: 8.93s\tremaining: 5.41s\n",
      "623:\tlearn: 12.9981050\ttotal: 8.95s\tremaining: 5.39s\n",
      "624:\tlearn: 12.9893234\ttotal: 8.96s\tremaining: 5.38s\n",
      "625:\tlearn: 12.9799615\ttotal: 8.97s\tremaining: 5.36s\n",
      "626:\tlearn: 12.9737398\ttotal: 8.99s\tremaining: 5.35s\n",
      "627:\tlearn: 12.9641706\ttotal: 9s\tremaining: 5.33s\n",
      "628:\tlearn: 12.9633427\ttotal: 9.02s\tremaining: 5.32s\n",
      "629:\tlearn: 12.9546324\ttotal: 9.03s\tremaining: 5.3s\n",
      "630:\tlearn: 12.9408090\ttotal: 9.04s\tremaining: 5.29s\n",
      "631:\tlearn: 12.9255860\ttotal: 9.06s\tremaining: 5.28s\n",
      "632:\tlearn: 12.9158676\ttotal: 9.07s\tremaining: 5.26s\n",
      "633:\tlearn: 12.9091174\ttotal: 9.09s\tremaining: 5.25s\n",
      "634:\tlearn: 12.9026379\ttotal: 9.1s\tremaining: 5.23s\n",
      "635:\tlearn: 12.9016359\ttotal: 9.11s\tremaining: 5.21s\n",
      "636:\tlearn: 12.8960090\ttotal: 9.12s\tremaining: 5.2s\n",
      "637:\tlearn: 12.8879267\ttotal: 9.14s\tremaining: 5.18s\n",
      "638:\tlearn: 12.8773268\ttotal: 9.16s\tremaining: 5.17s\n",
      "639:\tlearn: 12.8679753\ttotal: 9.17s\tremaining: 5.16s\n",
      "640:\tlearn: 12.8585189\ttotal: 9.19s\tremaining: 5.14s\n",
      "641:\tlearn: 12.8452236\ttotal: 9.2s\tremaining: 5.13s\n",
      "642:\tlearn: 12.8292139\ttotal: 9.21s\tremaining: 5.11s\n",
      "643:\tlearn: 12.8211729\ttotal: 9.22s\tremaining: 5.1s\n",
      "644:\tlearn: 12.8107205\ttotal: 9.24s\tremaining: 5.08s\n",
      "645:\tlearn: 12.8065519\ttotal: 9.25s\tremaining: 5.07s\n",
      "646:\tlearn: 12.7993385\ttotal: 9.27s\tremaining: 5.05s\n",
      "647:\tlearn: 12.7895048\ttotal: 9.28s\tremaining: 5.04s\n",
      "648:\tlearn: 12.7813546\ttotal: 9.29s\tremaining: 5.02s\n",
      "649:\tlearn: 12.7720760\ttotal: 9.3s\tremaining: 5.01s\n",
      "650:\tlearn: 12.7627031\ttotal: 9.32s\tremaining: 5s\n",
      "651:\tlearn: 12.7463178\ttotal: 9.33s\tremaining: 4.98s\n",
      "652:\tlearn: 12.7387313\ttotal: 9.35s\tremaining: 4.97s\n",
      "653:\tlearn: 12.7265837\ttotal: 9.37s\tremaining: 4.96s\n",
      "654:\tlearn: 12.7169794\ttotal: 9.38s\tremaining: 4.94s\n",
      "655:\tlearn: 12.7070648\ttotal: 9.39s\tremaining: 4.92s\n",
      "656:\tlearn: 12.7038944\ttotal: 9.4s\tremaining: 4.91s\n",
      "657:\tlearn: 12.6929654\ttotal: 9.42s\tremaining: 4.9s\n",
      "658:\tlearn: 12.6846289\ttotal: 9.44s\tremaining: 4.88s\n",
      "659:\tlearn: 12.6780296\ttotal: 9.45s\tremaining: 4.87s\n",
      "660:\tlearn: 12.6738425\ttotal: 9.46s\tremaining: 4.85s\n",
      "661:\tlearn: 12.6564593\ttotal: 9.47s\tremaining: 4.84s\n",
      "662:\tlearn: 12.6429926\ttotal: 9.49s\tremaining: 4.82s\n",
      "663:\tlearn: 12.6357304\ttotal: 9.5s\tremaining: 4.81s\n",
      "664:\tlearn: 12.6314313\ttotal: 9.52s\tremaining: 4.8s\n",
      "665:\tlearn: 12.6173282\ttotal: 9.53s\tremaining: 4.78s\n",
      "666:\tlearn: 12.6093933\ttotal: 9.55s\tremaining: 4.77s\n",
      "667:\tlearn: 12.6034002\ttotal: 9.56s\tremaining: 4.75s\n",
      "668:\tlearn: 12.5941496\ttotal: 9.57s\tremaining: 4.74s\n",
      "669:\tlearn: 12.5860015\ttotal: 9.59s\tremaining: 4.72s\n",
      "670:\tlearn: 12.5735261\ttotal: 9.61s\tremaining: 4.71s\n",
      "671:\tlearn: 12.5660521\ttotal: 9.63s\tremaining: 4.7s\n",
      "672:\tlearn: 12.5597715\ttotal: 9.65s\tremaining: 4.69s\n",
      "673:\tlearn: 12.5475028\ttotal: 9.67s\tremaining: 4.68s\n",
      "674:\tlearn: 12.5391763\ttotal: 9.69s\tremaining: 4.67s\n",
      "675:\tlearn: 12.5328095\ttotal: 9.71s\tremaining: 4.65s\n",
      "676:\tlearn: 12.5211165\ttotal: 9.73s\tremaining: 4.64s\n",
      "677:\tlearn: 12.5137295\ttotal: 9.74s\tremaining: 4.63s\n",
      "678:\tlearn: 12.5011816\ttotal: 9.76s\tremaining: 4.62s\n",
      "679:\tlearn: 12.4872759\ttotal: 9.78s\tremaining: 4.6s\n",
      "680:\tlearn: 12.4761005\ttotal: 9.8s\tremaining: 4.59s\n",
      "681:\tlearn: 12.4701568\ttotal: 9.81s\tremaining: 4.58s\n",
      "682:\tlearn: 12.4611087\ttotal: 9.82s\tremaining: 4.56s\n",
      "683:\tlearn: 12.4534625\ttotal: 9.84s\tremaining: 4.54s\n",
      "684:\tlearn: 12.4458623\ttotal: 9.85s\tremaining: 4.53s\n",
      "685:\tlearn: 12.4352545\ttotal: 9.86s\tremaining: 4.51s\n",
      "686:\tlearn: 12.4213796\ttotal: 9.88s\tremaining: 4.5s\n",
      "687:\tlearn: 12.4072063\ttotal: 9.89s\tremaining: 4.49s\n",
      "688:\tlearn: 12.3968746\ttotal: 9.91s\tremaining: 4.47s\n",
      "689:\tlearn: 12.3830014\ttotal: 9.92s\tremaining: 4.46s\n",
      "690:\tlearn: 12.3781367\ttotal: 9.93s\tremaining: 4.44s\n",
      "691:\tlearn: 12.3661069\ttotal: 9.95s\tremaining: 4.43s\n",
      "692:\tlearn: 12.3525496\ttotal: 9.96s\tremaining: 4.41s\n",
      "693:\tlearn: 12.3459132\ttotal: 9.98s\tremaining: 4.4s\n",
      "694:\tlearn: 12.3384816\ttotal: 10s\tremaining: 4.39s\n",
      "695:\tlearn: 12.3361377\ttotal: 10s\tremaining: 4.38s\n",
      "696:\tlearn: 12.3251333\ttotal: 10s\tremaining: 4.37s\n",
      "697:\tlearn: 12.3182513\ttotal: 10.1s\tremaining: 4.35s\n",
      "698:\tlearn: 12.3069872\ttotal: 10.1s\tremaining: 4.34s\n",
      "699:\tlearn: 12.2990181\ttotal: 10.1s\tremaining: 4.32s\n",
      "700:\tlearn: 12.2859831\ttotal: 10.1s\tremaining: 4.31s\n",
      "701:\tlearn: 12.2794110\ttotal: 10.1s\tremaining: 4.29s\n",
      "702:\tlearn: 12.2746185\ttotal: 10.1s\tremaining: 4.28s\n",
      "703:\tlearn: 12.2653965\ttotal: 10.1s\tremaining: 4.26s\n",
      "704:\tlearn: 12.2575901\ttotal: 10.2s\tremaining: 4.25s\n",
      "705:\tlearn: 12.2498957\ttotal: 10.2s\tremaining: 4.23s\n",
      "706:\tlearn: 12.2406560\ttotal: 10.2s\tremaining: 4.22s\n",
      "707:\tlearn: 12.2265366\ttotal: 10.2s\tremaining: 4.2s\n",
      "708:\tlearn: 12.2183056\ttotal: 10.2s\tremaining: 4.19s\n",
      "709:\tlearn: 12.2063826\ttotal: 10.2s\tremaining: 4.17s\n",
      "710:\tlearn: 12.1960129\ttotal: 10.2s\tremaining: 4.16s\n",
      "711:\tlearn: 12.1877534\ttotal: 10.2s\tremaining: 4.14s\n",
      "712:\tlearn: 12.1799314\ttotal: 10.3s\tremaining: 4.13s\n",
      "713:\tlearn: 12.1697411\ttotal: 10.3s\tremaining: 4.12s\n",
      "714:\tlearn: 12.1690938\ttotal: 10.3s\tremaining: 4.1s\n",
      "715:\tlearn: 12.1576301\ttotal: 10.3s\tremaining: 4.09s\n",
      "716:\tlearn: 12.1467219\ttotal: 10.3s\tremaining: 4.07s\n",
      "717:\tlearn: 12.1387793\ttotal: 10.3s\tremaining: 4.06s\n",
      "718:\tlearn: 12.1273402\ttotal: 10.3s\tremaining: 4.04s\n",
      "719:\tlearn: 12.1177602\ttotal: 10.4s\tremaining: 4.03s\n",
      "720:\tlearn: 12.1085326\ttotal: 10.4s\tremaining: 4.02s\n",
      "721:\tlearn: 12.0990989\ttotal: 10.4s\tremaining: 4s\n",
      "722:\tlearn: 12.0876613\ttotal: 10.4s\tremaining: 3.99s\n",
      "723:\tlearn: 12.0797655\ttotal: 10.4s\tremaining: 3.98s\n",
      "724:\tlearn: 12.0673504\ttotal: 10.4s\tremaining: 3.96s\n",
      "725:\tlearn: 12.0540128\ttotal: 10.5s\tremaining: 3.95s\n",
      "726:\tlearn: 12.0506913\ttotal: 10.5s\tremaining: 3.93s\n",
      "727:\tlearn: 12.0380442\ttotal: 10.5s\tremaining: 3.92s\n",
      "728:\tlearn: 12.0321564\ttotal: 10.5s\tremaining: 3.9s\n",
      "729:\tlearn: 12.0257192\ttotal: 10.5s\tremaining: 3.89s\n",
      "730:\tlearn: 12.0150597\ttotal: 10.5s\tremaining: 3.87s\n",
      "731:\tlearn: 12.0015727\ttotal: 10.5s\tremaining: 3.86s\n",
      "732:\tlearn: 11.9883384\ttotal: 10.6s\tremaining: 3.84s\n",
      "733:\tlearn: 11.9823956\ttotal: 10.6s\tremaining: 3.83s\n",
      "734:\tlearn: 11.9699113\ttotal: 10.6s\tremaining: 3.81s\n",
      "735:\tlearn: 11.9612248\ttotal: 10.6s\tremaining: 3.8s\n",
      "736:\tlearn: 11.9588830\ttotal: 10.6s\tremaining: 3.78s\n",
      "737:\tlearn: 11.9496993\ttotal: 10.6s\tremaining: 3.77s\n",
      "738:\tlearn: 11.9342824\ttotal: 10.6s\tremaining: 3.75s\n",
      "739:\tlearn: 11.9260969\ttotal: 10.6s\tremaining: 3.74s\n",
      "740:\tlearn: 11.9180197\ttotal: 10.7s\tremaining: 3.73s\n",
      "741:\tlearn: 11.9098824\ttotal: 10.7s\tremaining: 3.71s\n",
      "742:\tlearn: 11.8978596\ttotal: 10.7s\tremaining: 3.69s\n",
      "743:\tlearn: 11.8900602\ttotal: 10.7s\tremaining: 3.68s\n",
      "744:\tlearn: 11.8774014\ttotal: 10.7s\tremaining: 3.67s\n",
      "745:\tlearn: 11.8640832\ttotal: 10.7s\tremaining: 3.65s\n",
      "746:\tlearn: 11.8542405\ttotal: 10.7s\tremaining: 3.64s\n",
      "747:\tlearn: 11.8474661\ttotal: 10.8s\tremaining: 3.62s\n",
      "748:\tlearn: 11.8398387\ttotal: 10.8s\tremaining: 3.61s\n",
      "749:\tlearn: 11.8385803\ttotal: 10.8s\tremaining: 3.59s\n",
      "750:\tlearn: 11.8296757\ttotal: 10.8s\tremaining: 3.58s\n",
      "751:\tlearn: 11.8227058\ttotal: 10.8s\tremaining: 3.56s\n",
      "752:\tlearn: 11.8145793\ttotal: 10.8s\tremaining: 3.55s\n",
      "753:\tlearn: 11.8069123\ttotal: 10.8s\tremaining: 3.53s\n",
      "754:\tlearn: 11.8032380\ttotal: 10.8s\tremaining: 3.52s\n",
      "755:\tlearn: 11.7984859\ttotal: 10.9s\tremaining: 3.5s\n",
      "756:\tlearn: 11.7846139\ttotal: 10.9s\tremaining: 3.49s\n",
      "757:\tlearn: 11.7699396\ttotal: 10.9s\tremaining: 3.47s\n",
      "758:\tlearn: 11.7645566\ttotal: 10.9s\tremaining: 3.46s\n",
      "759:\tlearn: 11.7639473\ttotal: 10.9s\tremaining: 3.44s\n",
      "760:\tlearn: 11.7530159\ttotal: 10.9s\tremaining: 3.43s\n",
      "761:\tlearn: 11.7390383\ttotal: 10.9s\tremaining: 3.41s\n",
      "762:\tlearn: 11.7269027\ttotal: 10.9s\tremaining: 3.4s\n",
      "763:\tlearn: 11.7206918\ttotal: 11s\tremaining: 3.38s\n",
      "764:\tlearn: 11.7102656\ttotal: 11s\tremaining: 3.37s\n",
      "765:\tlearn: 11.7016541\ttotal: 11s\tremaining: 3.35s\n",
      "766:\tlearn: 11.7010782\ttotal: 11s\tremaining: 3.34s\n",
      "767:\tlearn: 11.6881299\ttotal: 11s\tremaining: 3.33s\n",
      "768:\tlearn: 11.6797749\ttotal: 11s\tremaining: 3.31s\n",
      "769:\tlearn: 11.6679901\ttotal: 11s\tremaining: 3.3s\n",
      "770:\tlearn: 11.6602362\ttotal: 11.1s\tremaining: 3.28s\n",
      "771:\tlearn: 11.6510608\ttotal: 11.1s\tremaining: 3.27s\n",
      "772:\tlearn: 11.6442586\ttotal: 11.1s\tremaining: 3.25s\n",
      "773:\tlearn: 11.6382202\ttotal: 11.1s\tremaining: 3.24s\n",
      "774:\tlearn: 11.6376806\ttotal: 11.1s\tremaining: 3.22s\n",
      "775:\tlearn: 11.6270343\ttotal: 11.1s\tremaining: 3.21s\n",
      "776:\tlearn: 11.6198505\ttotal: 11.1s\tremaining: 3.19s\n",
      "777:\tlearn: 11.6134551\ttotal: 11.1s\tremaining: 3.18s\n",
      "778:\tlearn: 11.6067116\ttotal: 11.2s\tremaining: 3.17s\n",
      "779:\tlearn: 11.6008334\ttotal: 11.2s\tremaining: 3.15s\n",
      "780:\tlearn: 11.5911194\ttotal: 11.2s\tremaining: 3.14s\n",
      "781:\tlearn: 11.5831688\ttotal: 11.2s\tremaining: 3.13s\n",
      "782:\tlearn: 11.5718325\ttotal: 11.2s\tremaining: 3.11s\n",
      "783:\tlearn: 11.5603772\ttotal: 11.2s\tremaining: 3.1s\n",
      "784:\tlearn: 11.5494843\ttotal: 11.3s\tremaining: 3.08s\n",
      "785:\tlearn: 11.5396168\ttotal: 11.3s\tremaining: 3.07s\n",
      "786:\tlearn: 11.5311122\ttotal: 11.3s\tremaining: 3.05s\n",
      "787:\tlearn: 11.5256611\ttotal: 11.3s\tremaining: 3.04s\n",
      "788:\tlearn: 11.5173139\ttotal: 11.3s\tremaining: 3.02s\n",
      "789:\tlearn: 11.5099323\ttotal: 11.3s\tremaining: 3.01s\n",
      "790:\tlearn: 11.5054352\ttotal: 11.3s\tremaining: 3s\n",
      "791:\tlearn: 11.5012129\ttotal: 11.3s\tremaining: 2.98s\n",
      "792:\tlearn: 11.4931216\ttotal: 11.4s\tremaining: 2.96s\n",
      "793:\tlearn: 11.4832957\ttotal: 11.4s\tremaining: 2.95s\n",
      "794:\tlearn: 11.4750593\ttotal: 11.4s\tremaining: 2.94s\n",
      "795:\tlearn: 11.4690798\ttotal: 11.4s\tremaining: 2.92s\n",
      "796:\tlearn: 11.4685642\ttotal: 11.4s\tremaining: 2.91s\n",
      "797:\tlearn: 11.4565609\ttotal: 11.4s\tremaining: 2.89s\n",
      "798:\tlearn: 11.4454894\ttotal: 11.4s\tremaining: 2.88s\n",
      "799:\tlearn: 11.4351899\ttotal: 11.4s\tremaining: 2.86s\n",
      "800:\tlearn: 11.4241311\ttotal: 11.5s\tremaining: 2.85s\n",
      "801:\tlearn: 11.4162273\ttotal: 11.5s\tremaining: 2.83s\n",
      "802:\tlearn: 11.4089156\ttotal: 11.5s\tremaining: 2.82s\n",
      "803:\tlearn: 11.4036477\ttotal: 11.5s\tremaining: 2.81s\n",
      "804:\tlearn: 11.3977557\ttotal: 11.5s\tremaining: 2.79s\n",
      "805:\tlearn: 11.3898173\ttotal: 11.5s\tremaining: 2.77s\n",
      "806:\tlearn: 11.3841244\ttotal: 11.5s\tremaining: 2.76s\n",
      "807:\tlearn: 11.3725927\ttotal: 11.6s\tremaining: 2.75s\n",
      "808:\tlearn: 11.3658713\ttotal: 11.6s\tremaining: 2.73s\n",
      "809:\tlearn: 11.3595100\ttotal: 11.6s\tremaining: 2.72s\n",
      "810:\tlearn: 11.3482916\ttotal: 11.6s\tremaining: 2.7s\n",
      "811:\tlearn: 11.3411146\ttotal: 11.6s\tremaining: 2.69s\n",
      "812:\tlearn: 11.3405608\ttotal: 11.6s\tremaining: 2.68s\n",
      "813:\tlearn: 11.3309612\ttotal: 11.7s\tremaining: 2.66s\n",
      "814:\tlearn: 11.3304196\ttotal: 11.7s\tremaining: 2.65s\n",
      "815:\tlearn: 11.3182171\ttotal: 11.7s\tremaining: 2.63s\n",
      "816:\tlearn: 11.3100464\ttotal: 11.7s\tremaining: 2.62s\n",
      "817:\tlearn: 11.2978041\ttotal: 11.7s\tremaining: 2.6s\n",
      "818:\tlearn: 11.2924970\ttotal: 11.7s\tremaining: 2.59s\n",
      "819:\tlearn: 11.2827144\ttotal: 11.7s\tremaining: 2.58s\n",
      "820:\tlearn: 11.2760648\ttotal: 11.7s\tremaining: 2.56s\n",
      "821:\tlearn: 11.2708669\ttotal: 11.8s\tremaining: 2.54s\n",
      "822:\tlearn: 11.2597319\ttotal: 11.8s\tremaining: 2.53s\n",
      "823:\tlearn: 11.2483748\ttotal: 11.8s\tremaining: 2.52s\n",
      "824:\tlearn: 11.2380916\ttotal: 11.8s\tremaining: 2.5s\n",
      "825:\tlearn: 11.2288632\ttotal: 11.8s\tremaining: 2.49s\n",
      "826:\tlearn: 11.2206106\ttotal: 11.8s\tremaining: 2.47s\n",
      "827:\tlearn: 11.2095993\ttotal: 11.8s\tremaining: 2.46s\n",
      "828:\tlearn: 11.1989306\ttotal: 11.8s\tremaining: 2.44s\n",
      "829:\tlearn: 11.1885211\ttotal: 11.9s\tremaining: 2.43s\n",
      "830:\tlearn: 11.1797339\ttotal: 11.9s\tremaining: 2.42s\n",
      "831:\tlearn: 11.1716942\ttotal: 11.9s\tremaining: 2.4s\n",
      "832:\tlearn: 11.1645909\ttotal: 11.9s\tremaining: 2.39s\n",
      "833:\tlearn: 11.1582261\ttotal: 11.9s\tremaining: 2.37s\n",
      "834:\tlearn: 11.1498780\ttotal: 11.9s\tremaining: 2.36s\n",
      "835:\tlearn: 11.1427277\ttotal: 11.9s\tremaining: 2.34s\n",
      "836:\tlearn: 11.1348205\ttotal: 12s\tremaining: 2.33s\n",
      "837:\tlearn: 11.1214090\ttotal: 12s\tremaining: 2.31s\n",
      "838:\tlearn: 11.1133736\ttotal: 12s\tremaining: 2.3s\n",
      "839:\tlearn: 11.1046144\ttotal: 12s\tremaining: 2.29s\n",
      "840:\tlearn: 11.0976632\ttotal: 12s\tremaining: 2.27s\n",
      "841:\tlearn: 11.0857185\ttotal: 12s\tremaining: 2.25s\n",
      "842:\tlearn: 11.0753931\ttotal: 12s\tremaining: 2.24s\n",
      "843:\tlearn: 11.0706572\ttotal: 12s\tremaining: 2.23s\n",
      "844:\tlearn: 11.0606680\ttotal: 12.1s\tremaining: 2.21s\n",
      "845:\tlearn: 11.0473877\ttotal: 12.1s\tremaining: 2.2s\n",
      "846:\tlearn: 11.0386520\ttotal: 12.1s\tremaining: 2.18s\n",
      "847:\tlearn: 11.0324497\ttotal: 12.1s\tremaining: 2.17s\n",
      "848:\tlearn: 11.0226500\ttotal: 12.1s\tremaining: 2.15s\n",
      "849:\tlearn: 11.0106647\ttotal: 12.1s\tremaining: 2.14s\n",
      "850:\tlearn: 11.0007586\ttotal: 12.1s\tremaining: 2.13s\n",
      "851:\tlearn: 10.9911068\ttotal: 12.2s\tremaining: 2.11s\n",
      "852:\tlearn: 10.9798389\ttotal: 12.2s\tremaining: 2.1s\n",
      "853:\tlearn: 10.9667025\ttotal: 12.2s\tremaining: 2.08s\n",
      "854:\tlearn: 10.9572635\ttotal: 12.2s\tremaining: 2.07s\n",
      "855:\tlearn: 10.9491770\ttotal: 12.2s\tremaining: 2.05s\n",
      "856:\tlearn: 10.9401610\ttotal: 12.2s\tremaining: 2.04s\n",
      "857:\tlearn: 10.9373288\ttotal: 12.2s\tremaining: 2.02s\n",
      "858:\tlearn: 10.9303237\ttotal: 12.3s\tremaining: 2.01s\n",
      "859:\tlearn: 10.9206255\ttotal: 12.3s\tremaining: 2s\n",
      "860:\tlearn: 10.9080313\ttotal: 12.3s\tremaining: 1.98s\n",
      "861:\tlearn: 10.9069671\ttotal: 12.3s\tremaining: 1.97s\n",
      "862:\tlearn: 10.9029168\ttotal: 12.3s\tremaining: 1.96s\n",
      "863:\tlearn: 10.8928915\ttotal: 12.3s\tremaining: 1.94s\n",
      "864:\tlearn: 10.8813489\ttotal: 12.3s\tremaining: 1.93s\n",
      "865:\tlearn: 10.8761987\ttotal: 12.4s\tremaining: 1.91s\n",
      "866:\tlearn: 10.8697017\ttotal: 12.4s\tremaining: 1.9s\n",
      "867:\tlearn: 10.8653613\ttotal: 12.4s\tremaining: 1.88s\n",
      "868:\tlearn: 10.8619108\ttotal: 12.4s\tremaining: 1.87s\n",
      "869:\tlearn: 10.8536073\ttotal: 12.4s\tremaining: 1.85s\n",
      "870:\tlearn: 10.8460631\ttotal: 12.4s\tremaining: 1.84s\n",
      "871:\tlearn: 10.8355410\ttotal: 12.4s\tremaining: 1.83s\n",
      "872:\tlearn: 10.8295532\ttotal: 12.5s\tremaining: 1.81s\n",
      "873:\tlearn: 10.8251506\ttotal: 12.5s\tremaining: 1.8s\n",
      "874:\tlearn: 10.8171747\ttotal: 12.5s\tremaining: 1.78s\n",
      "875:\tlearn: 10.8059027\ttotal: 12.5s\tremaining: 1.77s\n",
      "876:\tlearn: 10.8036727\ttotal: 12.5s\tremaining: 1.75s\n",
      "877:\tlearn: 10.8009574\ttotal: 12.5s\tremaining: 1.74s\n",
      "878:\tlearn: 10.7933854\ttotal: 12.5s\tremaining: 1.73s\n",
      "879:\tlearn: 10.7860699\ttotal: 12.6s\tremaining: 1.71s\n",
      "880:\tlearn: 10.7802006\ttotal: 12.6s\tremaining: 1.7s\n",
      "881:\tlearn: 10.7725436\ttotal: 12.6s\tremaining: 1.68s\n",
      "882:\tlearn: 10.7635083\ttotal: 12.6s\tremaining: 1.67s\n",
      "883:\tlearn: 10.7581712\ttotal: 12.6s\tremaining: 1.66s\n",
      "884:\tlearn: 10.7474097\ttotal: 12.6s\tremaining: 1.64s\n",
      "885:\tlearn: 10.7468998\ttotal: 12.7s\tremaining: 1.63s\n",
      "886:\tlearn: 10.7426899\ttotal: 12.7s\tremaining: 1.61s\n",
      "887:\tlearn: 10.7347896\ttotal: 12.7s\tremaining: 1.6s\n",
      "888:\tlearn: 10.7237716\ttotal: 12.7s\tremaining: 1.59s\n",
      "889:\tlearn: 10.7177186\ttotal: 12.7s\tremaining: 1.57s\n",
      "890:\tlearn: 10.7086301\ttotal: 12.8s\tremaining: 1.56s\n",
      "891:\tlearn: 10.6959963\ttotal: 12.8s\tremaining: 1.55s\n",
      "892:\tlearn: 10.6868424\ttotal: 12.8s\tremaining: 1.53s\n",
      "893:\tlearn: 10.6793082\ttotal: 12.8s\tremaining: 1.52s\n",
      "894:\tlearn: 10.6705357\ttotal: 12.8s\tremaining: 1.51s\n",
      "895:\tlearn: 10.6684734\ttotal: 12.9s\tremaining: 1.49s\n",
      "896:\tlearn: 10.6614033\ttotal: 12.9s\tremaining: 1.48s\n",
      "897:\tlearn: 10.6595805\ttotal: 12.9s\tremaining: 1.47s\n",
      "898:\tlearn: 10.6491368\ttotal: 12.9s\tremaining: 1.45s\n",
      "899:\tlearn: 10.6400954\ttotal: 12.9s\tremaining: 1.44s\n",
      "900:\tlearn: 10.6312413\ttotal: 13s\tremaining: 1.43s\n",
      "901:\tlearn: 10.6235751\ttotal: 13s\tremaining: 1.41s\n",
      "902:\tlearn: 10.6121838\ttotal: 13s\tremaining: 1.4s\n",
      "903:\tlearn: 10.6071574\ttotal: 13s\tremaining: 1.38s\n",
      "904:\tlearn: 10.5965467\ttotal: 13s\tremaining: 1.37s\n",
      "905:\tlearn: 10.5960924\ttotal: 13s\tremaining: 1.35s\n",
      "906:\tlearn: 10.5893808\ttotal: 13.1s\tremaining: 1.34s\n",
      "907:\tlearn: 10.5824208\ttotal: 13.1s\tremaining: 1.32s\n",
      "908:\tlearn: 10.5676271\ttotal: 13.1s\tremaining: 1.31s\n",
      "909:\tlearn: 10.5632804\ttotal: 13.1s\tremaining: 1.29s\n",
      "910:\tlearn: 10.5525532\ttotal: 13.1s\tremaining: 1.28s\n",
      "911:\tlearn: 10.5416778\ttotal: 13.1s\tremaining: 1.27s\n",
      "912:\tlearn: 10.5378375\ttotal: 13.1s\tremaining: 1.25s\n",
      "913:\tlearn: 10.5273725\ttotal: 13.2s\tremaining: 1.24s\n",
      "914:\tlearn: 10.5217070\ttotal: 13.2s\tremaining: 1.22s\n",
      "915:\tlearn: 10.5161901\ttotal: 13.2s\tremaining: 1.21s\n",
      "916:\tlearn: 10.5111367\ttotal: 13.2s\tremaining: 1.19s\n",
      "917:\tlearn: 10.4995645\ttotal: 13.2s\tremaining: 1.18s\n",
      "918:\tlearn: 10.4927121\ttotal: 13.2s\tremaining: 1.17s\n",
      "919:\tlearn: 10.4919641\ttotal: 13.2s\tremaining: 1.15s\n",
      "920:\tlearn: 10.4817316\ttotal: 13.2s\tremaining: 1.14s\n",
      "921:\tlearn: 10.4741377\ttotal: 13.3s\tremaining: 1.12s\n",
      "922:\tlearn: 10.4736961\ttotal: 13.3s\tremaining: 1.11s\n",
      "923:\tlearn: 10.4649899\ttotal: 13.3s\tremaining: 1.09s\n",
      "924:\tlearn: 10.4568281\ttotal: 13.3s\tremaining: 1.08s\n",
      "925:\tlearn: 10.4516017\ttotal: 13.3s\tremaining: 1.06s\n",
      "926:\tlearn: 10.4460392\ttotal: 13.3s\tremaining: 1.05s\n",
      "927:\tlearn: 10.4405030\ttotal: 13.3s\tremaining: 1.03s\n",
      "928:\tlearn: 10.4285424\ttotal: 13.4s\tremaining: 1.02s\n",
      "929:\tlearn: 10.4281125\ttotal: 13.4s\tremaining: 1s\n",
      "930:\tlearn: 10.4185780\ttotal: 13.4s\tremaining: 992ms\n",
      "931:\tlearn: 10.4135458\ttotal: 13.4s\tremaining: 978ms\n",
      "932:\tlearn: 10.4049075\ttotal: 13.4s\tremaining: 964ms\n",
      "933:\tlearn: 10.3955573\ttotal: 13.4s\tremaining: 950ms\n",
      "934:\tlearn: 10.3873888\ttotal: 13.5s\tremaining: 936ms\n",
      "935:\tlearn: 10.3753437\ttotal: 13.5s\tremaining: 922ms\n",
      "936:\tlearn: 10.3676717\ttotal: 13.5s\tremaining: 908ms\n",
      "937:\tlearn: 10.3614240\ttotal: 13.5s\tremaining: 894ms\n",
      "938:\tlearn: 10.3524616\ttotal: 13.5s\tremaining: 880ms\n",
      "939:\tlearn: 10.3452615\ttotal: 13.6s\tremaining: 865ms\n",
      "940:\tlearn: 10.3445401\ttotal: 13.6s\tremaining: 851ms\n",
      "941:\tlearn: 10.3369325\ttotal: 13.6s\tremaining: 837ms\n",
      "942:\tlearn: 10.3316983\ttotal: 13.6s\tremaining: 822ms\n",
      "943:\tlearn: 10.3262311\ttotal: 13.6s\tremaining: 808ms\n",
      "944:\tlearn: 10.3179108\ttotal: 13.6s\tremaining: 793ms\n",
      "945:\tlearn: 10.3104062\ttotal: 13.6s\tremaining: 779ms\n",
      "946:\tlearn: 10.3033270\ttotal: 13.7s\tremaining: 764ms\n",
      "947:\tlearn: 10.2906960\ttotal: 13.7s\tremaining: 750ms\n",
      "948:\tlearn: 10.2837874\ttotal: 13.7s\tremaining: 736ms\n",
      "949:\tlearn: 10.2756264\ttotal: 13.7s\tremaining: 721ms\n",
      "950:\tlearn: 10.2675459\ttotal: 13.7s\tremaining: 707ms\n",
      "951:\tlearn: 10.2671053\ttotal: 13.7s\tremaining: 692ms\n",
      "952:\tlearn: 10.2609054\ttotal: 13.7s\tremaining: 678ms\n",
      "953:\tlearn: 10.2510425\ttotal: 13.8s\tremaining: 663ms\n",
      "954:\tlearn: 10.2441518\ttotal: 13.8s\tremaining: 649ms\n",
      "955:\tlearn: 10.2381586\ttotal: 13.8s\tremaining: 635ms\n",
      "956:\tlearn: 10.2304348\ttotal: 13.8s\tremaining: 620ms\n",
      "957:\tlearn: 10.2240897\ttotal: 13.8s\tremaining: 606ms\n",
      "958:\tlearn: 10.2230073\ttotal: 13.8s\tremaining: 591ms\n",
      "959:\tlearn: 10.2164649\ttotal: 13.8s\tremaining: 577ms\n",
      "960:\tlearn: 10.2087255\ttotal: 13.9s\tremaining: 563ms\n",
      "961:\tlearn: 10.2011299\ttotal: 13.9s\tremaining: 548ms\n",
      "962:\tlearn: 10.1880105\ttotal: 13.9s\tremaining: 534ms\n",
      "963:\tlearn: 10.1801827\ttotal: 13.9s\tremaining: 519ms\n",
      "964:\tlearn: 10.1797804\ttotal: 13.9s\tremaining: 505ms\n",
      "965:\tlearn: 10.1724584\ttotal: 13.9s\tremaining: 490ms\n",
      "966:\tlearn: 10.1639229\ttotal: 13.9s\tremaining: 476ms\n",
      "967:\tlearn: 10.1599772\ttotal: 14s\tremaining: 462ms\n",
      "968:\tlearn: 10.1532664\ttotal: 14s\tremaining: 447ms\n",
      "969:\tlearn: 10.1470687\ttotal: 14s\tremaining: 433ms\n",
      "970:\tlearn: 10.1407392\ttotal: 14s\tremaining: 419ms\n",
      "971:\tlearn: 10.1338847\ttotal: 14s\tremaining: 404ms\n",
      "972:\tlearn: 10.1256366\ttotal: 14.1s\tremaining: 390ms\n",
      "973:\tlearn: 10.1196130\ttotal: 14.1s\tremaining: 376ms\n",
      "974:\tlearn: 10.1144256\ttotal: 14.1s\tremaining: 361ms\n",
      "975:\tlearn: 10.1025833\ttotal: 14.1s\tremaining: 347ms\n",
      "976:\tlearn: 10.0976392\ttotal: 14.1s\tremaining: 333ms\n",
      "977:\tlearn: 10.0889661\ttotal: 14.2s\tremaining: 318ms\n",
      "978:\tlearn: 10.0831091\ttotal: 14.2s\tremaining: 304ms\n",
      "979:\tlearn: 10.0759429\ttotal: 14.2s\tremaining: 290ms\n",
      "980:\tlearn: 10.0686480\ttotal: 14.2s\tremaining: 275ms\n",
      "981:\tlearn: 10.0681809\ttotal: 14.2s\tremaining: 261ms\n",
      "982:\tlearn: 10.0588051\ttotal: 14.3s\tremaining: 246ms\n",
      "983:\tlearn: 10.0511738\ttotal: 14.3s\tremaining: 232ms\n",
      "984:\tlearn: 10.0409925\ttotal: 14.3s\tremaining: 218ms\n",
      "985:\tlearn: 10.0328557\ttotal: 14.3s\tremaining: 203ms\n",
      "986:\tlearn: 10.0213383\ttotal: 14.3s\tremaining: 189ms\n",
      "987:\tlearn: 10.0115020\ttotal: 14.3s\tremaining: 174ms\n",
      "988:\tlearn: 10.0075169\ttotal: 14.3s\tremaining: 160ms\n",
      "989:\tlearn: 9.9978459\ttotal: 14.4s\tremaining: 145ms\n",
      "990:\tlearn: 9.9902598\ttotal: 14.4s\tremaining: 131ms\n",
      "991:\tlearn: 9.9845357\ttotal: 14.4s\tremaining: 116ms\n",
      "992:\tlearn: 9.9743330\ttotal: 14.4s\tremaining: 101ms\n",
      "993:\tlearn: 9.9666748\ttotal: 14.4s\tremaining: 87ms\n",
      "994:\tlearn: 9.9574631\ttotal: 14.4s\tremaining: 72.5ms\n",
      "995:\tlearn: 9.9501173\ttotal: 14.4s\tremaining: 58ms\n",
      "996:\tlearn: 9.9497117\ttotal: 14.5s\tremaining: 43.5ms\n",
      "997:\tlearn: 9.9416988\ttotal: 14.5s\tremaining: 29ms\n",
      "998:\tlearn: 9.9325692\ttotal: 14.5s\tremaining: 14.5ms\n",
      "999:\tlearn: 9.9254702\ttotal: 14.5s\tremaining: 0us\n",
      "RMSE CatBoostRegressor модели на тренировочной выборке: 9.925470198148295\n"
     ]
    }
   ],
   "source": [
    "data = make_features(data, 49, 22)\n",
    "\n",
    "train, test = train_test_split(data, shuffle=False, test_size=0.1)\n",
    "train = train.dropna()\n",
    "\n",
    "target_train_cbr = train['num_orders']\n",
    "features_train_cbr = train.drop(['num_orders'], axis=1)\n",
    "target_test_cbr = test['num_orders']\n",
    "features_test_cbr = test.drop(['num_orders'], axis=1)\n",
    "\n",
    "cat = CatBoostRegressor()\n",
    "cat.fit(features_train_cbr, target_train_cbr)\n",
    "\n",
    "predictions_train_cbr = cat.predict(features_train_cbr)\n",
    "rmse = mean_squared_error(target_train_cbr, predictions_train_cbr)**0.5\n",
    "       \n",
    "print('RMSE CatBoostRegressor модели на тренировочной выборке:', rmse)"
   ]
  },
  {
   "cell_type": "markdown",
   "metadata": {},
   "source": [
    "Вывод: На тренировочной выборке лучшее значение RMSE показывает модель CatBoostRegressor. Немного хуже значения у модели LightGBM. Линейная регрессия показывает значение RMSE гораздо хуже, чем у других моделей. "
   ]
  },
  {
   "cell_type": "markdown",
   "metadata": {},
   "source": [
    "## Тестирование"
   ]
  },
  {
   "cell_type": "markdown",
   "metadata": {},
   "source": [
    "Проверим RMSE моделей на тестовой выборке:"
   ]
  },
  {
   "cell_type": "markdown",
   "metadata": {},
   "source": [
    "Модель Линейной регрессии"
   ]
  },
  {
   "cell_type": "code",
   "execution_count": 17,
   "metadata": {},
   "outputs": [
    {
     "name": "stdout",
     "output_type": "stream",
     "text": [
      "RMSE модели линейной регрессии на тестовой выборке: 41.84127550172381\n"
     ]
    }
   ],
   "source": [
    "predictions_test_lr = lr.predict(features_test_lr)\n",
    "rmse = mean_squared_error(target_test_lr, predictions_test_lr)**0.5\n",
    "print('RMSE модели линейной регрессии на тестовой выборке:', rmse)"
   ]
  },
  {
   "cell_type": "code",
   "execution_count": 41,
   "metadata": {},
   "outputs": [
    {
     "data": {
      "image/png": "[encoded data removed]",
      "text/plain": [
       "<Figure size 1080x432 with 1 Axes>"
      ]
     },
     "metadata": {
      "needs_background": "light"
     },
     "output_type": "display_data"
    }
   ],
   "source": [
    "left = datetime.date(2018, 8, 15)\n",
    "right = datetime.date(2018, 8, 20)\n",
    "plt.figure(figsize=(15,6))\n",
    "plt.plot(target_test_lr.index, \n",
    "         target_test_lr, \n",
    "         'b-',\n",
    "         target_test_lr.index, \n",
    "         predictions_test_lr,\n",
    "         'r-')\n",
    "plt.gca().set_xbound(left, right)\n",
    "plt.title('Графики фактических и предсказанных значений модели Линейная регрессия')\n",
    "plt.legend(['Target', 'Prediction'])\n",
    "plt.show()"
   ]
  },
  {
   "cell_type": "markdown",
   "metadata": {},
   "source": [
    "Модель LightGBM"
   ]
  },
  {
   "cell_type": "code",
   "execution_count": 31,
   "metadata": {},
   "outputs": [
    {
     "name": "stdout",
     "output_type": "stream",
     "text": [
      "RMSE модели LightGBM на тестовой выборке: 39.43436078640277\n"
     ]
    }
   ],
   "source": [
    "predictions_test_lgbm = lgbm.predict(features_test_lgbm)\n",
    "rmse = mean_squared_error(target_test_lgbm, predictions_test_lgbm)**0.5\n",
    "print('RMSE модели LightGBM на тестовой выборке:', rmse)"
   ]
  },
  {
   "cell_type": "code",
   "execution_count": 45,
   "metadata": {},
   "outputs": [
    {
     "data": {
      "image/png": "[encoded data removed]",
      "text/plain": [
       "<Figure size 1080x432 with 1 Axes>"
      ]
     },
     "metadata": {
      "needs_background": "light"
     },
     "output_type": "display_data"
    }
   ],
   "source": [
    "left = datetime.date(2018, 8, 15)\n",
    "right = datetime.date(2018, 8, 20)\n",
    "plt.figure(figsize=(15,6))\n",
    "plt.plot(target_test_lgbm.index, \n",
    "         target_test_lgbm, \n",
    "         'b-', \n",
    "         target_test_lgbm.index, \n",
    "         predictions_test_lgbm,\n",
    "         'r-')\n",
    "plt.gca().set_xbound(left, right)\n",
    "plt.title('Графики фактических и предсказанных значений модели LightGBM')\n",
    "plt.legend(['Target', 'Prediction'])\n",
    "plt.show()"
   ]
  },
  {
   "cell_type": "markdown",
   "metadata": {},
   "source": [
    "Модель CatBoostRegressor"
   ]
  },
  {
   "cell_type": "code",
   "execution_count": 33,
   "metadata": {},
   "outputs": [
    {
     "name": "stdout",
     "output_type": "stream",
     "text": [
      "RMSE модели CatBoostRegressor на тестовой выборке: 39.912378105846415\n"
     ]
    }
   ],
   "source": [
    "predictions_test_cbr = cat.predict(features_test_cbr)\n",
    "rmse = mean_squared_error(target_test_cbr, predictions_test_cbr)**0.5\n",
    "print('RMSE модели CatBoostRegressor на тестовой выборке:', rmse)"
   ]
  },
  {
   "cell_type": "code",
   "execution_count": 46,
   "metadata": {},
   "outputs": [
    {
     "data": {
      "image/png": "[encoded data removed]",
      "text/plain": [
       "<Figure size 1080x432 with 1 Axes>"
      ]
     },
     "metadata": {
      "needs_background": "light"
     },
     "output_type": "display_data"
    }
   ],
   "source": [
    "left = datetime.date(2018, 8, 15)\n",
    "right = datetime.date(2018, 8, 20)\n",
    "plt.figure(figsize=(15,6))\n",
    "plt.plot(target_test_cbr.index, \n",
    "         target_test_cbr, \n",
    "         'b-', \n",
    "         target_test_cbr.index, \n",
    "         predictions_test_cbr,\n",
    "         'r-')\n",
    "plt.gca().set_xbound(left, right)\n",
    "plt.title('Графики фактических и предсказанных значений модели CatBoostRegressor')\n",
    "plt.legend(['Target', 'Prediction'])\n",
    "plt.show()"
   ]
  },
  {
   "cell_type": "markdown",
   "metadata": {},
   "source": [
    "Вывод: На тестовой выборке все три модели показывают близкие значения RMSE. У линейной регрессии уже нет такого большого отставания от других моделей. Все модели уложились в необходимое для выполнения задания значение PSME < 48."
   ]
  }
 ],
 "metadata": {
  "ExecuteTimeLog": [
   {
    "duration": 1505,
    "start_time": "2022-05-04T07:59:13.468Z"
   },
   {
    "duration": 33,
    "start_time": "2022-05-04T07:59:38.719Z"
   },
   {
    "duration": 12,
    "start_time": "2022-05-04T08:00:05.306Z"
   },
   {
    "duration": 10,
    "start_time": "2022-05-04T08:00:16.225Z"
   },
   {
    "duration": 12,
    "start_time": "2022-05-04T08:00:30.904Z"
   },
   {
    "duration": 11,
    "start_time": "2022-05-04T08:01:49.193Z"
   },
   {
    "duration": 53,
    "start_time": "2022-05-04T08:01:50.868Z"
   },
   {
    "duration": 11,
    "start_time": "2022-05-04T08:02:00.679Z"
   },
   {
    "duration": 100,
    "start_time": "2022-05-04T08:04:18.241Z"
   },
   {
    "duration": 11,
    "start_time": "2022-05-04T08:04:42.482Z"
   },
   {
    "duration": 11,
    "start_time": "2022-05-04T08:05:10.585Z"
   },
   {
    "duration": 3,
    "start_time": "2022-05-04T08:05:15.420Z"
   },
   {
    "duration": 10,
    "start_time": "2022-05-04T08:05:16.600Z"
   },
   {
    "duration": 10,
    "start_time": "2022-05-04T08:05:31.292Z"
   },
   {
    "duration": 3,
    "start_time": "2022-05-04T08:06:03.557Z"
   },
   {
    "duration": 49,
    "start_time": "2022-05-04T08:06:03.562Z"
   },
   {
    "duration": 11,
    "start_time": "2022-05-04T08:06:03.612Z"
   },
   {
    "duration": 20,
    "start_time": "2022-05-04T08:06:03.625Z"
   },
   {
    "duration": 9,
    "start_time": "2022-05-04T08:06:03.647Z"
   },
   {
    "duration": 15,
    "start_time": "2022-05-04T08:06:03.658Z"
   },
   {
    "duration": 2123,
    "start_time": "2022-05-04T08:06:03.674Z"
   },
   {
    "duration": 2453,
    "start_time": "2022-05-04T08:06:25.988Z"
   },
   {
    "duration": 2181,
    "start_time": "2022-05-04T08:06:28.748Z"
   },
   {
    "duration": 35,
    "start_time": "2022-05-04T08:08:01.439Z"
   },
   {
    "duration": 32,
    "start_time": "2022-05-04T08:08:28.544Z"
   },
   {
    "duration": 9,
    "start_time": "2022-05-04T08:08:36.523Z"
   },
   {
    "duration": 13,
    "start_time": "2022-05-04T08:08:37.338Z"
   },
   {
    "duration": 11,
    "start_time": "2022-05-04T08:08:39.302Z"
   },
   {
    "duration": 1263,
    "start_time": "2022-05-04T08:10:27.457Z"
   },
   {
    "duration": 38,
    "start_time": "2022-05-04T08:10:28.723Z"
   },
   {
    "duration": 11,
    "start_time": "2022-05-04T08:10:28.763Z"
   },
   {
    "duration": 12,
    "start_time": "2022-05-04T08:10:28.776Z"
   },
   {
    "duration": 73,
    "start_time": "2022-05-04T08:10:28.791Z"
   },
   {
    "duration": 2430,
    "start_time": "2022-05-04T08:10:28.865Z"
   },
   {
    "duration": 8,
    "start_time": "2022-05-04T08:10:51.406Z"
   },
   {
    "duration": 12,
    "start_time": "2022-05-04T08:11:04.697Z"
   },
   {
    "duration": 361,
    "start_time": "2022-05-04T08:13:42.419Z"
   },
   {
    "duration": 318,
    "start_time": "2022-05-04T08:13:54.597Z"
   },
   {
    "duration": 280,
    "start_time": "2022-05-04T08:14:21.534Z"
   },
   {
    "duration": 349,
    "start_time": "2022-05-04T08:15:11.416Z"
   },
   {
    "duration": 282,
    "start_time": "2022-05-04T08:17:08.266Z"
   },
   {
    "duration": 11,
    "start_time": "2022-05-04T08:29:03.093Z"
   },
   {
    "duration": 4,
    "start_time": "2022-05-04T08:29:05.185Z"
   },
   {
    "duration": 11,
    "start_time": "2022-05-04T08:29:35.330Z"
   },
   {
    "duration": 27,
    "start_time": "2022-05-04T08:30:03.823Z"
   },
   {
    "duration": 3,
    "start_time": "2022-05-04T08:30:08.388Z"
   },
   {
    "duration": 42,
    "start_time": "2022-05-04T08:30:08.393Z"
   },
   {
    "duration": 9,
    "start_time": "2022-05-04T08:30:08.437Z"
   },
   {
    "duration": 12,
    "start_time": "2022-05-04T08:30:08.448Z"
   },
   {
    "duration": 10,
    "start_time": "2022-05-04T08:30:08.461Z"
   },
   {
    "duration": 7,
    "start_time": "2022-05-04T08:30:08.473Z"
   },
   {
    "duration": 316,
    "start_time": "2022-05-04T08:30:08.482Z"
   },
   {
    "duration": 33,
    "start_time": "2022-05-04T08:30:08.800Z"
   },
   {
    "duration": 21,
    "start_time": "2022-05-04T08:31:57.440Z"
   },
   {
    "duration": 153,
    "start_time": "2022-05-04T08:33:46.204Z"
   },
   {
    "duration": 137,
    "start_time": "2022-05-04T08:33:52.191Z"
   },
   {
    "duration": 15,
    "start_time": "2022-05-04T08:33:57.550Z"
   },
   {
    "duration": 1246,
    "start_time": "2022-05-04T08:39:13.837Z"
   },
   {
    "duration": 47,
    "start_time": "2022-05-04T08:39:15.086Z"
   },
   {
    "duration": 11,
    "start_time": "2022-05-04T08:39:15.135Z"
   },
   {
    "duration": 12,
    "start_time": "2022-05-04T08:39:15.148Z"
   },
   {
    "duration": 80,
    "start_time": "2022-05-04T08:39:15.163Z"
   },
   {
    "duration": 11,
    "start_time": "2022-05-04T08:39:15.245Z"
   },
   {
    "duration": 510,
    "start_time": "2022-05-04T08:39:15.258Z"
   },
   {
    "duration": 112,
    "start_time": "2022-05-04T08:39:15.771Z"
   },
   {
    "duration": 294,
    "start_time": "2022-05-04T08:40:05.861Z"
   },
   {
    "duration": 291,
    "start_time": "2022-05-04T08:40:12.247Z"
   },
   {
    "duration": 351,
    "start_time": "2022-05-04T08:40:19.372Z"
   },
   {
    "duration": 14,
    "start_time": "2022-05-04T08:41:27.958Z"
   },
   {
    "duration": 18,
    "start_time": "2022-05-04T08:41:35.238Z"
   },
   {
    "duration": 9,
    "start_time": "2022-05-04T08:41:42.568Z"
   },
   {
    "duration": 175,
    "start_time": "2022-05-04T08:41:51.096Z"
   },
   {
    "duration": 184,
    "start_time": "2022-05-04T08:42:12.865Z"
   },
   {
    "duration": 15,
    "start_time": "2022-05-04T08:42:40.165Z"
   },
   {
    "duration": 14,
    "start_time": "2022-05-04T08:42:53.879Z"
   },
   {
    "duration": 15,
    "start_time": "2022-05-04T08:42:58.330Z"
   },
   {
    "duration": 221,
    "start_time": "2022-05-04T08:43:10.317Z"
   },
   {
    "duration": 235,
    "start_time": "2022-05-04T08:44:17.709Z"
   },
   {
    "duration": 252,
    "start_time": "2022-05-04T08:44:30.466Z"
   },
   {
    "duration": 202,
    "start_time": "2022-05-04T08:45:12.724Z"
   },
   {
    "duration": 173,
    "start_time": "2022-05-04T08:48:20.952Z"
   },
   {
    "duration": 11,
    "start_time": "2022-05-04T08:49:04.732Z"
   },
   {
    "duration": 185,
    "start_time": "2022-05-04T08:49:26.614Z"
   },
   {
    "duration": 182,
    "start_time": "2022-05-04T08:49:39.944Z"
   },
   {
    "duration": 187,
    "start_time": "2022-05-04T08:50:02.456Z"
   },
   {
    "duration": 245,
    "start_time": "2022-05-04T08:53:45.320Z"
   },
   {
    "duration": 177,
    "start_time": "2022-05-04T08:54:26.917Z"
   },
   {
    "duration": 255,
    "start_time": "2022-05-04T08:54:40.534Z"
   },
   {
    "duration": 181,
    "start_time": "2022-05-04T08:54:52.080Z"
   },
   {
    "duration": 163,
    "start_time": "2022-05-04T08:55:42.215Z"
   },
   {
    "duration": 191,
    "start_time": "2022-05-04T08:56:02.711Z"
   },
   {
    "duration": 259,
    "start_time": "2022-05-04T08:56:08.979Z"
   },
   {
    "duration": 116,
    "start_time": "2022-05-04T08:56:36.460Z"
   },
   {
    "duration": 292,
    "start_time": "2022-05-04T08:58:01.826Z"
   },
   {
    "duration": 194,
    "start_time": "2022-05-04T08:58:06.399Z"
   },
   {
    "duration": 10,
    "start_time": "2022-05-04T08:59:11.496Z"
   },
   {
    "duration": 129,
    "start_time": "2022-05-04T08:59:35.480Z"
   },
   {
    "duration": 123,
    "start_time": "2022-05-04T08:59:52.244Z"
   },
   {
    "duration": 11,
    "start_time": "2022-05-04T09:03:04.305Z"
   },
   {
    "duration": 377,
    "start_time": "2022-05-04T09:03:10.590Z"
   },
   {
    "duration": 276,
    "start_time": "2022-05-04T09:03:19.803Z"
   },
   {
    "duration": 255,
    "start_time": "2022-05-04T09:03:29.244Z"
   },
   {
    "duration": 212,
    "start_time": "2022-05-04T09:04:00.228Z"
   },
   {
    "duration": 250,
    "start_time": "2022-05-04T09:05:12.614Z"
   },
   {
    "duration": 153,
    "start_time": "2022-05-04T09:05:19.973Z"
   },
   {
    "duration": 429,
    "start_time": "2022-05-04T09:05:41.443Z"
   },
   {
    "duration": 284,
    "start_time": "2022-05-04T09:06:49.329Z"
   },
   {
    "duration": 168,
    "start_time": "2022-05-04T09:06:58.031Z"
   },
   {
    "duration": 11,
    "start_time": "2022-05-04T09:07:44.018Z"
   },
   {
    "duration": 7,
    "start_time": "2022-05-04T09:08:39.698Z"
   },
   {
    "duration": 8,
    "start_time": "2022-05-04T09:08:54.045Z"
   },
   {
    "duration": 192,
    "start_time": "2022-05-04T09:09:06.608Z"
   },
   {
    "duration": 276,
    "start_time": "2022-05-04T09:09:40.436Z"
   },
   {
    "duration": 233,
    "start_time": "2022-05-04T09:09:49.990Z"
   },
   {
    "duration": 175,
    "start_time": "2022-05-04T09:10:32.450Z"
   },
   {
    "duration": 213,
    "start_time": "2022-05-04T09:10:41.198Z"
   },
   {
    "duration": 7,
    "start_time": "2022-05-04T09:28:03.778Z"
   },
   {
    "duration": 6,
    "start_time": "2022-05-04T09:28:04.551Z"
   },
   {
    "duration": 177,
    "start_time": "2022-05-04T09:28:05.877Z"
   },
   {
    "duration": 7,
    "start_time": "2022-05-04T09:28:16.087Z"
   },
   {
    "duration": 6,
    "start_time": "2022-05-04T09:28:17.400Z"
   },
   {
    "duration": 184,
    "start_time": "2022-05-04T09:28:18.496Z"
   },
   {
    "duration": 156,
    "start_time": "2022-05-04T09:30:34.078Z"
   },
   {
    "duration": 170,
    "start_time": "2022-05-04T09:30:49.131Z"
   },
   {
    "duration": 149,
    "start_time": "2022-05-04T09:30:56.549Z"
   },
   {
    "duration": 270,
    "start_time": "2022-05-04T09:31:32.192Z"
   },
   {
    "duration": 6,
    "start_time": "2022-05-04T09:31:39.219Z"
   },
   {
    "duration": 5,
    "start_time": "2022-05-04T09:31:39.910Z"
   },
   {
    "duration": 177,
    "start_time": "2022-05-04T09:31:40.419Z"
   },
   {
    "duration": 6,
    "start_time": "2022-05-04T09:32:21.684Z"
   },
   {
    "duration": 7,
    "start_time": "2022-05-04T09:32:22.904Z"
   },
   {
    "duration": 176,
    "start_time": "2022-05-04T09:32:24.018Z"
   },
   {
    "duration": 134,
    "start_time": "2022-05-04T09:32:35.836Z"
   },
   {
    "duration": 199,
    "start_time": "2022-05-04T09:32:42.788Z"
   },
   {
    "duration": 13,
    "start_time": "2022-05-04T09:33:08.534Z"
   },
   {
    "duration": 2494,
    "start_time": "2022-05-04T09:33:43.173Z"
   },
   {
    "duration": 1190,
    "start_time": "2022-05-04T09:34:09.388Z"
   },
   {
    "duration": 42,
    "start_time": "2022-05-04T09:34:10.580Z"
   },
   {
    "duration": 9,
    "start_time": "2022-05-04T09:34:10.624Z"
   },
   {
    "duration": 16,
    "start_time": "2022-05-04T09:34:10.636Z"
   },
   {
    "duration": 86,
    "start_time": "2022-05-04T09:34:10.654Z"
   },
   {
    "duration": 7,
    "start_time": "2022-05-04T09:34:10.742Z"
   },
   {
    "duration": 11,
    "start_time": "2022-05-04T09:34:10.751Z"
   },
   {
    "duration": 347,
    "start_time": "2022-05-04T09:34:10.764Z"
   },
   {
    "duration": 455,
    "start_time": "2022-05-04T09:34:11.113Z"
   },
   {
    "duration": 8,
    "start_time": "2022-05-04T09:34:11.571Z"
   },
   {
    "duration": 9,
    "start_time": "2022-05-04T09:34:11.582Z"
   },
   {
    "duration": 298,
    "start_time": "2022-05-04T09:34:11.593Z"
   },
   {
    "duration": 264,
    "start_time": "2022-05-04T09:35:32.743Z"
   },
   {
    "duration": 354,
    "start_time": "2022-05-04T09:35:44.484Z"
   },
   {
    "duration": 274,
    "start_time": "2022-05-04T09:36:02.005Z"
   },
   {
    "duration": 354,
    "start_time": "2022-05-04T09:36:05.117Z"
   },
   {
    "duration": 365,
    "start_time": "2022-05-04T09:36:21.054Z"
   },
   {
    "duration": 364,
    "start_time": "2022-05-04T09:37:57.286Z"
   },
   {
    "duration": 475,
    "start_time": "2022-05-04T09:38:59.288Z"
   },
   {
    "duration": 385,
    "start_time": "2022-05-04T09:40:03.040Z"
   },
   {
    "duration": 179,
    "start_time": "2022-05-04T09:40:14.590Z"
   },
   {
    "duration": 214,
    "start_time": "2022-05-04T09:40:27.746Z"
   },
   {
    "duration": 257,
    "start_time": "2022-05-04T09:40:34.286Z"
   },
   {
    "duration": 7,
    "start_time": "2022-05-04T09:41:14.454Z"
   },
   {
    "duration": 198,
    "start_time": "2022-05-04T09:41:15.093Z"
   },
   {
    "duration": 225,
    "start_time": "2022-05-04T09:42:03.826Z"
   },
   {
    "duration": 228,
    "start_time": "2022-05-04T09:42:16.299Z"
   },
   {
    "duration": 245,
    "start_time": "2022-05-04T09:42:20.811Z"
   },
   {
    "duration": 236,
    "start_time": "2022-05-04T09:42:26.474Z"
   },
   {
    "duration": 273,
    "start_time": "2022-05-04T09:43:03.663Z"
   },
   {
    "duration": 205,
    "start_time": "2022-05-04T09:43:09.745Z"
   },
   {
    "duration": 96,
    "start_time": "2022-05-04T10:00:25.972Z"
   },
   {
    "duration": 1462,
    "start_time": "2022-05-04T10:00:37.205Z"
   },
   {
    "duration": 38,
    "start_time": "2022-05-04T10:00:38.669Z"
   },
   {
    "duration": 10,
    "start_time": "2022-05-04T10:00:38.709Z"
   },
   {
    "duration": 15,
    "start_time": "2022-05-04T10:00:38.724Z"
   },
   {
    "duration": 49,
    "start_time": "2022-05-04T10:00:38.740Z"
   },
   {
    "duration": 9,
    "start_time": "2022-05-04T10:00:38.791Z"
   },
   {
    "duration": 249,
    "start_time": "2022-05-04T10:00:38.802Z"
   },
   {
    "duration": 267,
    "start_time": "2022-05-04T10:00:39.053Z"
   },
   {
    "duration": 9,
    "start_time": "2022-05-04T10:00:39.322Z"
   },
   {
    "duration": 260,
    "start_time": "2022-05-04T10:00:39.333Z"
   },
   {
    "duration": 165,
    "start_time": "2022-05-04T10:00:39.595Z"
   },
   {
    "duration": 229,
    "start_time": "2022-05-04T10:00:39.762Z"
   },
   {
    "duration": 4,
    "start_time": "2022-05-04T10:00:39.992Z"
   },
   {
    "duration": 9,
    "start_time": "2022-05-04T10:56:04.057Z"
   },
   {
    "duration": 3,
    "start_time": "2022-05-04T10:57:07.431Z"
   },
   {
    "duration": 65,
    "start_time": "2022-05-04T10:58:31.522Z"
   },
   {
    "duration": 5,
    "start_time": "2022-05-04T10:59:32.663Z"
   },
   {
    "duration": 7,
    "start_time": "2022-05-04T10:59:49.180Z"
   },
   {
    "duration": 8,
    "start_time": "2022-05-04T11:00:05.277Z"
   },
   {
    "duration": 4,
    "start_time": "2022-05-04T11:00:08.692Z"
   },
   {
    "duration": 9,
    "start_time": "2022-05-04T11:00:11.204Z"
   },
   {
    "duration": 4,
    "start_time": "2022-05-04T11:02:03.962Z"
   },
   {
    "duration": 147,
    "start_time": "2022-05-04T11:02:50.097Z"
   },
   {
    "duration": 4,
    "start_time": "2022-05-04T11:03:04.048Z"
   },
   {
    "duration": 7,
    "start_time": "2022-05-04T11:03:14.070Z"
   },
   {
    "duration": 1459,
    "start_time": "2022-05-04T11:03:35.971Z"
   },
   {
    "duration": 47,
    "start_time": "2022-05-04T11:03:37.432Z"
   },
   {
    "duration": 10,
    "start_time": "2022-05-04T11:03:37.480Z"
   },
   {
    "duration": 12,
    "start_time": "2022-05-04T11:03:37.492Z"
   },
   {
    "duration": 65,
    "start_time": "2022-05-04T11:03:37.506Z"
   },
   {
    "duration": 12,
    "start_time": "2022-05-04T11:03:37.572Z"
   },
   {
    "duration": 389,
    "start_time": "2022-05-04T11:03:37.586Z"
   },
   {
    "duration": 295,
    "start_time": "2022-05-04T11:03:37.977Z"
   },
   {
    "duration": 7,
    "start_time": "2022-05-04T11:03:38.274Z"
   },
   {
    "duration": 288,
    "start_time": "2022-05-04T11:03:38.284Z"
   },
   {
    "duration": 187,
    "start_time": "2022-05-04T11:03:38.573Z"
   },
   {
    "duration": 259,
    "start_time": "2022-05-04T11:03:38.762Z"
   },
   {
    "duration": 9,
    "start_time": "2022-05-04T11:03:39.023Z"
   },
   {
    "duration": 3571,
    "start_time": "2022-05-04T11:03:39.034Z"
   },
   {
    "duration": 0,
    "start_time": "2022-05-04T11:03:42.607Z"
   },
   {
    "duration": 1526,
    "start_time": "2022-05-04T11:08:55.414Z"
   },
   {
    "duration": 55,
    "start_time": "2022-05-04T11:08:56.942Z"
   },
   {
    "duration": 14,
    "start_time": "2022-05-04T11:08:56.999Z"
   },
   {
    "duration": 17,
    "start_time": "2022-05-04T11:08:57.016Z"
   },
   {
    "duration": 52,
    "start_time": "2022-05-04T11:08:57.035Z"
   },
   {
    "duration": 9,
    "start_time": "2022-05-04T11:08:57.090Z"
   },
   {
    "duration": 266,
    "start_time": "2022-05-04T11:08:57.101Z"
   },
   {
    "duration": 276,
    "start_time": "2022-05-04T11:08:57.369Z"
   },
   {
    "duration": 9,
    "start_time": "2022-05-04T11:08:57.647Z"
   },
   {
    "duration": 275,
    "start_time": "2022-05-04T11:08:57.659Z"
   },
   {
    "duration": 182,
    "start_time": "2022-05-04T11:08:57.937Z"
   },
   {
    "duration": 238,
    "start_time": "2022-05-04T11:08:58.121Z"
   },
   {
    "duration": 5,
    "start_time": "2022-05-04T11:08:58.360Z"
   },
   {
    "duration": 24,
    "start_time": "2022-05-04T11:08:58.366Z"
   },
   {
    "duration": 133,
    "start_time": "2022-05-04T11:08:58.392Z"
   },
   {
    "duration": 1560,
    "start_time": "2022-05-04T11:09:59.987Z"
   },
   {
    "duration": 38,
    "start_time": "2022-05-04T11:10:01.548Z"
   },
   {
    "duration": 9,
    "start_time": "2022-05-04T11:10:01.587Z"
   },
   {
    "duration": 31,
    "start_time": "2022-05-04T11:10:01.598Z"
   },
   {
    "duration": 51,
    "start_time": "2022-05-04T11:10:01.631Z"
   },
   {
    "duration": 9,
    "start_time": "2022-05-04T11:10:01.684Z"
   },
   {
    "duration": 271,
    "start_time": "2022-05-04T11:10:01.694Z"
   },
   {
    "duration": 271,
    "start_time": "2022-05-04T11:10:01.966Z"
   },
   {
    "duration": 7,
    "start_time": "2022-05-04T11:10:02.239Z"
   },
   {
    "duration": 289,
    "start_time": "2022-05-04T11:10:02.249Z"
   },
   {
    "duration": 168,
    "start_time": "2022-05-04T11:10:02.541Z"
   },
   {
    "duration": 234,
    "start_time": "2022-05-04T11:10:02.710Z"
   },
   {
    "duration": 4,
    "start_time": "2022-05-04T11:10:02.946Z"
   },
   {
    "duration": 19,
    "start_time": "2022-05-04T11:10:02.951Z"
   },
   {
    "duration": 160,
    "start_time": "2022-05-04T11:10:02.971Z"
   },
   {
    "duration": 12,
    "start_time": "2022-05-04T11:13:53.920Z"
   },
   {
    "duration": 14,
    "start_time": "2022-05-04T11:13:54.827Z"
   },
   {
    "duration": 13,
    "start_time": "2022-05-04T11:14:09.018Z"
   },
   {
    "duration": 15,
    "start_time": "2022-05-04T11:14:10.133Z"
   },
   {
    "duration": 15,
    "start_time": "2022-05-04T11:14:18.092Z"
   },
   {
    "duration": 16,
    "start_time": "2022-05-04T11:14:18.825Z"
   },
   {
    "duration": 116,
    "start_time": "2022-05-04T11:16:44.991Z"
   },
   {
    "duration": 4,
    "start_time": "2022-05-04T11:17:26.383Z"
   },
   {
    "duration": 14,
    "start_time": "2022-05-04T11:17:27.480Z"
   },
   {
    "duration": 1872,
    "start_time": "2022-05-04T11:18:10.197Z"
   },
   {
    "duration": 54,
    "start_time": "2022-05-04T11:18:12.071Z"
   },
   {
    "duration": 14,
    "start_time": "2022-05-04T11:18:12.127Z"
   },
   {
    "duration": 16,
    "start_time": "2022-05-04T11:18:12.143Z"
   },
   {
    "duration": 88,
    "start_time": "2022-05-04T11:18:12.161Z"
   },
   {
    "duration": 10,
    "start_time": "2022-05-04T11:18:12.251Z"
   },
   {
    "duration": 359,
    "start_time": "2022-05-04T11:18:12.264Z"
   },
   {
    "duration": 267,
    "start_time": "2022-05-04T11:18:12.625Z"
   },
   {
    "duration": 8,
    "start_time": "2022-05-04T11:18:12.894Z"
   },
   {
    "duration": 285,
    "start_time": "2022-05-04T11:18:12.905Z"
   },
   {
    "duration": 183,
    "start_time": "2022-05-04T11:18:13.192Z"
   },
   {
    "duration": 239,
    "start_time": "2022-05-04T11:18:13.377Z"
   },
   {
    "duration": 7,
    "start_time": "2022-05-04T11:18:13.617Z"
   },
   {
    "duration": 305,
    "start_time": "2022-05-04T11:18:13.625Z"
   },
   {
    "duration": 1875,
    "start_time": "2022-05-04T11:22:54.851Z"
   },
   {
    "duration": 43,
    "start_time": "2022-05-04T11:22:56.728Z"
   },
   {
    "duration": 11,
    "start_time": "2022-05-04T11:22:56.773Z"
   },
   {
    "duration": 13,
    "start_time": "2022-05-04T11:22:56.785Z"
   },
   {
    "duration": 71,
    "start_time": "2022-05-04T11:22:56.800Z"
   },
   {
    "duration": 9,
    "start_time": "2022-05-04T11:22:56.873Z"
   },
   {
    "duration": 258,
    "start_time": "2022-05-04T11:22:56.884Z"
   },
   {
    "duration": 271,
    "start_time": "2022-05-04T11:22:57.145Z"
   },
   {
    "duration": 8,
    "start_time": "2022-05-04T11:22:57.418Z"
   },
   {
    "duration": 377,
    "start_time": "2022-05-04T11:22:57.428Z"
   },
   {
    "duration": 185,
    "start_time": "2022-05-04T11:22:57.807Z"
   },
   {
    "duration": 234,
    "start_time": "2022-05-04T11:22:57.994Z"
   },
   {
    "duration": 4,
    "start_time": "2022-05-04T11:22:58.230Z"
   },
   {
    "duration": 1499,
    "start_time": "2022-05-04T11:27:13.596Z"
   },
   {
    "duration": 42,
    "start_time": "2022-05-04T11:27:15.097Z"
   },
   {
    "duration": 10,
    "start_time": "2022-05-04T11:27:15.140Z"
   },
   {
    "duration": 12,
    "start_time": "2022-05-04T11:27:15.152Z"
   },
   {
    "duration": 62,
    "start_time": "2022-05-04T11:27:15.165Z"
   },
   {
    "duration": 8,
    "start_time": "2022-05-04T11:27:15.228Z"
   },
   {
    "duration": 235,
    "start_time": "2022-05-04T11:27:15.238Z"
   },
   {
    "duration": 273,
    "start_time": "2022-05-04T11:27:15.475Z"
   },
   {
    "duration": 8,
    "start_time": "2022-05-04T11:27:15.750Z"
   },
   {
    "duration": 269,
    "start_time": "2022-05-04T11:27:15.760Z"
   },
   {
    "duration": 185,
    "start_time": "2022-05-04T11:27:16.030Z"
   },
   {
    "duration": 237,
    "start_time": "2022-05-04T11:27:16.217Z"
   },
   {
    "duration": 4,
    "start_time": "2022-05-04T11:27:16.456Z"
   },
   {
    "duration": 0,
    "start_time": "2022-05-04T11:34:55.856Z"
   },
   {
    "duration": 0,
    "start_time": "2022-05-04T11:38:56.433Z"
   },
   {
    "duration": 1583,
    "start_time": "2022-05-04T11:39:30.130Z"
   },
   {
    "duration": 38,
    "start_time": "2022-05-04T11:39:31.715Z"
   },
   {
    "duration": 11,
    "start_time": "2022-05-04T11:39:31.754Z"
   },
   {
    "duration": 12,
    "start_time": "2022-05-04T11:39:31.768Z"
   },
   {
    "duration": 68,
    "start_time": "2022-05-04T11:39:31.782Z"
   },
   {
    "duration": 8,
    "start_time": "2022-05-04T11:39:31.852Z"
   },
   {
    "duration": 228,
    "start_time": "2022-05-04T11:39:31.861Z"
   },
   {
    "duration": 261,
    "start_time": "2022-05-04T11:39:32.091Z"
   },
   {
    "duration": 7,
    "start_time": "2022-05-04T11:39:32.354Z"
   },
   {
    "duration": 261,
    "start_time": "2022-05-04T11:39:32.363Z"
   },
   {
    "duration": 163,
    "start_time": "2022-05-04T11:39:32.625Z"
   },
   {
    "duration": 227,
    "start_time": "2022-05-04T11:39:32.789Z"
   },
   {
    "duration": 7,
    "start_time": "2022-05-04T11:39:33.017Z"
   },
   {
    "duration": 8903,
    "start_time": "2022-05-04T11:39:33.026Z"
   },
   {
    "duration": 1544,
    "start_time": "2022-05-04T11:41:46.524Z"
   },
   {
    "duration": 42,
    "start_time": "2022-05-04T11:41:48.071Z"
   },
   {
    "duration": 11,
    "start_time": "2022-05-04T11:41:48.115Z"
   },
   {
    "duration": 12,
    "start_time": "2022-05-04T11:41:48.129Z"
   },
   {
    "duration": 47,
    "start_time": "2022-05-04T11:41:48.143Z"
   },
   {
    "duration": 33,
    "start_time": "2022-05-04T11:41:48.192Z"
   },
   {
    "duration": 230,
    "start_time": "2022-05-04T11:41:48.227Z"
   },
   {
    "duration": 280,
    "start_time": "2022-05-04T11:41:48.459Z"
   },
   {
    "duration": 8,
    "start_time": "2022-05-04T11:41:48.741Z"
   },
   {
    "duration": 271,
    "start_time": "2022-05-04T11:41:48.752Z"
   },
   {
    "duration": 164,
    "start_time": "2022-05-04T11:41:49.025Z"
   },
   {
    "duration": 236,
    "start_time": "2022-05-04T11:41:49.190Z"
   },
   {
    "duration": 4,
    "start_time": "2022-05-04T11:41:49.428Z"
   },
   {
    "duration": 1485,
    "start_time": "2022-05-04T11:48:37.287Z"
   },
   {
    "duration": 37,
    "start_time": "2022-05-04T11:48:38.774Z"
   },
   {
    "duration": 14,
    "start_time": "2022-05-04T11:48:38.813Z"
   },
   {
    "duration": 11,
    "start_time": "2022-05-04T11:48:38.829Z"
   },
   {
    "duration": 48,
    "start_time": "2022-05-04T11:48:38.842Z"
   },
   {
    "duration": 32,
    "start_time": "2022-05-04T11:48:38.892Z"
   },
   {
    "duration": 233,
    "start_time": "2022-05-04T11:48:38.926Z"
   },
   {
    "duration": 280,
    "start_time": "2022-05-04T11:48:39.160Z"
   },
   {
    "duration": 7,
    "start_time": "2022-05-04T11:48:39.442Z"
   },
   {
    "duration": 266,
    "start_time": "2022-05-04T11:48:39.451Z"
   },
   {
    "duration": 171,
    "start_time": "2022-05-04T11:48:39.723Z"
   },
   {
    "duration": 239,
    "start_time": "2022-05-04T11:48:39.896Z"
   },
   {
    "duration": 5,
    "start_time": "2022-05-04T11:48:40.136Z"
   },
   {
    "duration": 53283,
    "start_time": "2022-05-04T11:48:40.142Z"
   },
   {
    "duration": 65227,
    "start_time": "2022-05-04T11:50:30.802Z"
   },
   {
    "duration": 136,
    "start_time": "2022-05-04T11:52:02.771Z"
   },
   {
    "duration": 1588,
    "start_time": "2022-05-04T11:52:34.525Z"
   },
   {
    "duration": 42,
    "start_time": "2022-05-04T11:52:36.115Z"
   },
   {
    "duration": 11,
    "start_time": "2022-05-04T11:52:36.158Z"
   },
   {
    "duration": 11,
    "start_time": "2022-05-04T11:52:36.170Z"
   },
   {
    "duration": 61,
    "start_time": "2022-05-04T11:52:36.183Z"
   },
   {
    "duration": 7,
    "start_time": "2022-05-04T11:52:36.246Z"
   },
   {
    "duration": 234,
    "start_time": "2022-05-04T11:52:36.255Z"
   },
   {
    "duration": 341,
    "start_time": "2022-05-04T11:52:36.491Z"
   },
   {
    "duration": 7,
    "start_time": "2022-05-04T11:52:36.834Z"
   },
   {
    "duration": 199,
    "start_time": "2022-05-04T11:52:36.842Z"
   },
   {
    "duration": 181,
    "start_time": "2022-05-04T11:52:37.043Z"
   },
   {
    "duration": 246,
    "start_time": "2022-05-04T11:52:37.227Z"
   },
   {
    "duration": 4,
    "start_time": "2022-05-04T11:52:37.475Z"
   },
   {
    "duration": 50443,
    "start_time": "2022-05-04T11:52:37.482Z"
   },
   {
    "duration": 207,
    "start_time": "2022-05-04T11:53:27.927Z"
   },
   {
    "duration": 956,
    "start_time": "2022-05-04T11:56:59.177Z"
   },
   {
    "duration": 865,
    "start_time": "2022-05-04T11:57:15.269Z"
   },
   {
    "duration": 926,
    "start_time": "2022-05-04T11:57:36.101Z"
   },
   {
    "duration": 1496,
    "start_time": "2022-05-04T11:58:13.167Z"
   },
   {
    "duration": 40,
    "start_time": "2022-05-04T11:58:14.665Z"
   },
   {
    "duration": 18,
    "start_time": "2022-05-04T11:58:14.706Z"
   },
   {
    "duration": 12,
    "start_time": "2022-05-04T11:58:14.726Z"
   },
   {
    "duration": 52,
    "start_time": "2022-05-04T11:58:14.740Z"
   },
   {
    "duration": 8,
    "start_time": "2022-05-04T11:58:14.794Z"
   },
   {
    "duration": 257,
    "start_time": "2022-05-04T11:58:14.804Z"
   },
   {
    "duration": 345,
    "start_time": "2022-05-04T11:58:15.063Z"
   },
   {
    "duration": 8,
    "start_time": "2022-05-04T11:58:15.411Z"
   },
   {
    "duration": 197,
    "start_time": "2022-05-04T11:58:15.422Z"
   },
   {
    "duration": 172,
    "start_time": "2022-05-04T11:58:15.621Z"
   },
   {
    "duration": 237,
    "start_time": "2022-05-04T11:58:15.795Z"
   },
   {
    "duration": 3,
    "start_time": "2022-05-04T11:58:16.034Z"
   },
   {
    "duration": 141388,
    "start_time": "2022-05-04T11:58:16.039Z"
   },
   {
    "duration": 1495,
    "start_time": "2022-05-04T12:00:37.429Z"
   },
   {
    "duration": 1160,
    "start_time": "2022-05-04T12:01:55.968Z"
   },
   {
    "duration": 1547,
    "start_time": "2022-05-04T12:03:42.881Z"
   },
   {
    "duration": 42,
    "start_time": "2022-05-04T12:03:44.430Z"
   },
   {
    "duration": 9,
    "start_time": "2022-05-04T12:03:44.474Z"
   },
   {
    "duration": 14,
    "start_time": "2022-05-04T12:03:44.485Z"
   },
   {
    "duration": 60,
    "start_time": "2022-05-04T12:03:44.501Z"
   },
   {
    "duration": 7,
    "start_time": "2022-05-04T12:03:44.563Z"
   },
   {
    "duration": 237,
    "start_time": "2022-05-04T12:03:44.572Z"
   },
   {
    "duration": 513,
    "start_time": "2022-05-04T12:03:44.811Z"
   },
   {
    "duration": 8,
    "start_time": "2022-05-04T12:03:45.326Z"
   },
   {
    "duration": 206,
    "start_time": "2022-05-04T12:03:45.335Z"
   },
   {
    "duration": 173,
    "start_time": "2022-05-04T12:03:45.543Z"
   },
   {
    "duration": 217,
    "start_time": "2022-05-04T12:03:45.718Z"
   },
   {
    "duration": 3,
    "start_time": "2022-05-04T12:03:45.937Z"
   },
   {
    "duration": 475682,
    "start_time": "2022-05-04T12:03:45.943Z"
   },
   {
    "duration": 1709,
    "start_time": "2022-05-04T12:11:41.627Z"
   },
   {
    "duration": 1723,
    "start_time": "2022-05-04T12:11:43.338Z"
   },
   {
    "duration": 14096,
    "start_time": "2022-05-04T12:15:41.829Z"
   },
   {
    "duration": 1478,
    "start_time": "2022-05-04T12:16:52.069Z"
   },
   {
    "duration": 51,
    "start_time": "2022-05-04T12:16:53.549Z"
   },
   {
    "duration": 10,
    "start_time": "2022-05-04T12:16:53.602Z"
   },
   {
    "duration": 17,
    "start_time": "2022-05-04T12:16:53.613Z"
   },
   {
    "duration": 47,
    "start_time": "2022-05-04T12:16:53.633Z"
   },
   {
    "duration": 7,
    "start_time": "2022-05-04T12:16:53.682Z"
   },
   {
    "duration": 235,
    "start_time": "2022-05-04T12:16:53.691Z"
   },
   {
    "duration": 336,
    "start_time": "2022-05-04T12:16:53.928Z"
   },
   {
    "duration": 8,
    "start_time": "2022-05-04T12:16:54.266Z"
   },
   {
    "duration": 197,
    "start_time": "2022-05-04T12:16:54.275Z"
   },
   {
    "duration": 172,
    "start_time": "2022-05-04T12:16:54.474Z"
   },
   {
    "duration": 224,
    "start_time": "2022-05-04T12:16:54.648Z"
   },
   {
    "duration": 4,
    "start_time": "2022-05-04T12:16:54.874Z"
   },
   {
    "duration": 592348,
    "start_time": "2022-05-04T12:16:54.880Z"
   },
   {
    "duration": 1533,
    "start_time": "2022-05-04T12:30:18.369Z"
   },
   {
    "duration": 56,
    "start_time": "2022-05-04T12:30:19.904Z"
   },
   {
    "duration": 12,
    "start_time": "2022-05-04T12:30:19.961Z"
   },
   {
    "duration": 13,
    "start_time": "2022-05-04T12:30:19.975Z"
   },
   {
    "duration": 73,
    "start_time": "2022-05-04T12:30:19.989Z"
   },
   {
    "duration": 12,
    "start_time": "2022-05-04T12:30:20.065Z"
   },
   {
    "duration": 432,
    "start_time": "2022-05-04T12:30:20.079Z"
   },
   {
    "duration": 590,
    "start_time": "2022-05-04T12:30:20.514Z"
   },
   {
    "duration": 12,
    "start_time": "2022-05-04T12:30:21.107Z"
   },
   {
    "duration": 214,
    "start_time": "2022-05-04T12:30:21.123Z"
   },
   {
    "duration": 258,
    "start_time": "2022-05-04T12:30:21.339Z"
   },
   {
    "duration": 244,
    "start_time": "2022-05-04T12:30:21.599Z"
   },
   {
    "duration": 4,
    "start_time": "2022-05-04T12:30:21.845Z"
   },
   {
    "duration": 1667,
    "start_time": "2022-05-04T12:39:08.818Z"
   },
   {
    "duration": 54,
    "start_time": "2022-05-04T12:39:10.488Z"
   },
   {
    "duration": 13,
    "start_time": "2022-05-04T12:39:10.544Z"
   },
   {
    "duration": 16,
    "start_time": "2022-05-04T12:39:10.559Z"
   },
   {
    "duration": 74,
    "start_time": "2022-05-04T12:39:10.577Z"
   },
   {
    "duration": 9,
    "start_time": "2022-05-04T12:39:10.653Z"
   },
   {
    "duration": 383,
    "start_time": "2022-05-04T12:39:10.664Z"
   },
   {
    "duration": 497,
    "start_time": "2022-05-04T12:39:11.051Z"
   },
   {
    "duration": 10,
    "start_time": "2022-05-04T12:39:11.551Z"
   },
   {
    "duration": 218,
    "start_time": "2022-05-04T12:39:11.563Z"
   },
   {
    "duration": 286,
    "start_time": "2022-05-04T12:39:11.784Z"
   },
   {
    "duration": 376,
    "start_time": "2022-05-04T12:39:12.072Z"
   },
   {
    "duration": 5,
    "start_time": "2022-05-04T12:39:12.454Z"
   },
   {
    "duration": 463258,
    "start_time": "2022-05-04T12:39:12.460Z"
   },
   {
    "duration": 0,
    "start_time": "2022-05-04T12:46:55.721Z"
   },
   {
    "duration": 0,
    "start_time": "2022-05-04T12:46:55.722Z"
   },
   {
    "duration": 1936,
    "start_time": "2022-05-04T12:47:20.602Z"
   },
   {
    "duration": 66,
    "start_time": "2022-05-04T12:47:22.543Z"
   },
   {
    "duration": 14,
    "start_time": "2022-05-04T12:47:22.611Z"
   },
   {
    "duration": 16,
    "start_time": "2022-05-04T12:47:22.630Z"
   },
   {
    "duration": 61,
    "start_time": "2022-05-04T12:47:22.648Z"
   },
   {
    "duration": 16,
    "start_time": "2022-05-04T12:47:22.712Z"
   },
   {
    "duration": 397,
    "start_time": "2022-05-04T12:47:22.731Z"
   },
   {
    "duration": 458,
    "start_time": "2022-05-04T12:47:23.130Z"
   },
   {
    "duration": 8,
    "start_time": "2022-05-04T12:47:23.590Z"
   },
   {
    "duration": 203,
    "start_time": "2022-05-04T12:47:23.600Z"
   },
   {
    "duration": 186,
    "start_time": "2022-05-04T12:47:23.805Z"
   },
   {
    "duration": 334,
    "start_time": "2022-05-04T12:47:23.993Z"
   },
   {
    "duration": 6,
    "start_time": "2022-05-04T12:47:24.331Z"
   },
   {
    "duration": 612396,
    "start_time": "2022-05-04T12:47:24.339Z"
   },
   {
    "duration": 358716,
    "start_time": "2022-05-04T12:57:36.742Z"
   },
   {
    "duration": 16520,
    "start_time": "2022-05-04T13:03:35.461Z"
   },
   {
    "duration": 1815,
    "start_time": "2022-05-04T13:07:07.331Z"
   },
   {
    "duration": 56,
    "start_time": "2022-05-04T13:07:09.150Z"
   },
   {
    "duration": 26,
    "start_time": "2022-05-04T13:07:09.208Z"
   },
   {
    "duration": 25,
    "start_time": "2022-05-04T13:07:09.239Z"
   },
   {
    "duration": 85,
    "start_time": "2022-05-04T13:07:09.267Z"
   },
   {
    "duration": 12,
    "start_time": "2022-05-04T13:07:09.354Z"
   },
   {
    "duration": 327,
    "start_time": "2022-05-04T13:07:09.369Z"
   },
   {
    "duration": 558,
    "start_time": "2022-05-04T13:07:09.698Z"
   },
   {
    "duration": 7,
    "start_time": "2022-05-04T13:07:10.258Z"
   },
   {
    "duration": 224,
    "start_time": "2022-05-04T13:07:10.267Z"
   },
   {
    "duration": 286,
    "start_time": "2022-05-04T13:07:10.494Z"
   },
   {
    "duration": 385,
    "start_time": "2022-05-04T13:07:10.782Z"
   },
   {
    "duration": 6,
    "start_time": "2022-05-04T13:07:11.170Z"
   },
   {
    "duration": 633846,
    "start_time": "2022-05-04T13:07:11.180Z"
   },
   {
    "duration": 300999,
    "start_time": "2022-05-04T13:17:45.028Z"
   },
   {
    "duration": 16175,
    "start_time": "2022-05-04T13:22:46.034Z"
   },
   {
    "duration": 180502,
    "start_time": "2022-05-04T13:23:41.740Z"
   },
   {
    "duration": 16526,
    "start_time": "2022-05-04T13:28:52.117Z"
   },
   {
    "duration": 7,
    "start_time": "2022-05-04T13:53:46.620Z"
   },
   {
    "duration": 7,
    "start_time": "2022-05-04T13:55:03.783Z"
   },
   {
    "duration": 106,
    "start_time": "2022-05-04T13:56:57.353Z"
   },
   {
    "duration": 10,
    "start_time": "2022-05-04T13:57:10.332Z"
   },
   {
    "duration": 10,
    "start_time": "2022-05-04T13:59:03.259Z"
   },
   {
    "duration": 1554,
    "start_time": "2022-05-04T13:59:11.262Z"
   },
   {
    "duration": 44,
    "start_time": "2022-05-04T13:59:12.818Z"
   },
   {
    "duration": 9,
    "start_time": "2022-05-04T13:59:12.864Z"
   },
   {
    "duration": 11,
    "start_time": "2022-05-04T13:59:12.874Z"
   },
   {
    "duration": 67,
    "start_time": "2022-05-04T13:59:12.887Z"
   },
   {
    "duration": 8,
    "start_time": "2022-05-04T13:59:12.956Z"
   },
   {
    "duration": 233,
    "start_time": "2022-05-04T13:59:12.966Z"
   },
   {
    "duration": 347,
    "start_time": "2022-05-04T13:59:13.201Z"
   },
   {
    "duration": 8,
    "start_time": "2022-05-04T13:59:13.550Z"
   },
   {
    "duration": 191,
    "start_time": "2022-05-04T13:59:13.559Z"
   },
   {
    "duration": 163,
    "start_time": "2022-05-04T13:59:13.752Z"
   },
   {
    "duration": 222,
    "start_time": "2022-05-04T13:59:13.917Z"
   },
   {
    "duration": 4,
    "start_time": "2022-05-04T13:59:14.141Z"
   },
   {
    "duration": 482885,
    "start_time": "2022-05-04T13:59:14.147Z"
   },
   {
    "duration": 1703,
    "start_time": "2022-05-04T14:07:17.033Z"
   },
   {
    "duration": 1461,
    "start_time": "2022-05-04T14:07:26.964Z"
   },
   {
    "duration": 40,
    "start_time": "2022-05-04T14:07:28.428Z"
   },
   {
    "duration": 10,
    "start_time": "2022-05-04T14:07:28.470Z"
   },
   {
    "duration": 12,
    "start_time": "2022-05-04T14:07:28.482Z"
   },
   {
    "duration": 71,
    "start_time": "2022-05-04T14:07:28.496Z"
   },
   {
    "duration": 8,
    "start_time": "2022-05-04T14:07:28.568Z"
   },
   {
    "duration": 290,
    "start_time": "2022-05-04T14:07:28.578Z"
   },
   {
    "duration": 7,
    "start_time": "2022-05-04T14:07:28.870Z"
   },
   {
    "duration": 199,
    "start_time": "2022-05-04T14:07:28.879Z"
   },
   {
    "duration": 259,
    "start_time": "2022-05-04T14:07:29.080Z"
   },
   {
    "duration": 236,
    "start_time": "2022-05-04T14:07:29.341Z"
   },
   {
    "duration": 4,
    "start_time": "2022-05-04T14:07:29.578Z"
   },
   {
    "duration": 496748,
    "start_time": "2022-05-04T14:07:29.584Z"
   },
   {
    "duration": 30908,
    "start_time": "2022-05-04T14:15:46.423Z"
   },
   {
    "duration": 14433,
    "start_time": "2022-05-04T14:16:17.333Z"
   },
   {
    "duration": 8,
    "start_time": "2022-05-04T14:16:31.768Z"
   },
   {
    "duration": 146,
    "start_time": "2022-05-04T14:16:31.778Z"
   },
   {
    "duration": 13,
    "start_time": "2022-05-04T14:16:31.927Z"
   },
   {
    "duration": 161,
    "start_time": "2022-05-05T07:50:13.464Z"
   },
   {
    "duration": 63,
    "start_time": "2022-05-05T08:06:15.134Z"
   },
   {
    "duration": 2393,
    "start_time": "2022-05-05T08:11:30.015Z"
   },
   {
    "duration": 57,
    "start_time": "2022-05-05T08:11:32.411Z"
   },
   {
    "duration": 15,
    "start_time": "2022-05-05T08:11:32.472Z"
   },
   {
    "duration": 20,
    "start_time": "2022-05-05T08:11:32.489Z"
   },
   {
    "duration": 98,
    "start_time": "2022-05-05T08:11:32.511Z"
   },
   {
    "duration": 11,
    "start_time": "2022-05-05T08:11:32.611Z"
   },
   {
    "duration": 448,
    "start_time": "2022-05-05T08:11:32.624Z"
   },
   {
    "duration": 20,
    "start_time": "2022-05-05T08:11:33.076Z"
   },
   {
    "duration": 331,
    "start_time": "2022-05-05T08:11:33.098Z"
   },
   {
    "duration": 371,
    "start_time": "2022-05-05T08:11:33.431Z"
   },
   {
    "duration": 386,
    "start_time": "2022-05-05T08:11:33.804Z"
   },
   {
    "duration": 5,
    "start_time": "2022-05-05T08:11:34.193Z"
   },
   {
    "duration": 21308,
    "start_time": "2022-05-05T08:23:34.360Z"
   },
   {
    "duration": 15,
    "start_time": "2022-05-05T08:23:55.670Z"
   },
   {
    "duration": 106,
    "start_time": "2022-05-05T08:23:55.756Z"
   },
   {
    "duration": 14,
    "start_time": "2022-05-05T08:23:55.865Z"
   },
   {
    "duration": 5,
    "start_time": "2022-05-05T08:23:55.883Z"
   },
   {
    "duration": 788965,
    "start_time": "2022-05-05T08:23:55.891Z"
   },
   {
    "duration": 2491,
    "start_time": "2022-05-05T08:37:04.861Z"
   },
   {
    "duration": 23043,
    "start_time": "2022-05-05T08:51:40.453Z"
   },
   {
    "duration": 13,
    "start_time": "2022-05-05T08:56:00.204Z"
   },
   {
    "duration": 23,
    "start_time": "2022-05-05T08:56:23.613Z"
   },
   {
    "duration": 20,
    "start_time": "2022-05-05T08:56:54.154Z"
   },
   {
    "duration": 2854,
    "start_time": "2022-05-05T09:00:39.399Z"
   },
   {
    "duration": 58,
    "start_time": "2022-05-05T09:00:42.255Z"
   },
   {
    "duration": 14,
    "start_time": "2022-05-05T09:00:42.315Z"
   },
   {
    "duration": 30,
    "start_time": "2022-05-05T09:00:42.332Z"
   },
   {
    "duration": 71,
    "start_time": "2022-05-05T09:00:42.365Z"
   },
   {
    "duration": 12,
    "start_time": "2022-05-05T09:00:42.451Z"
   },
   {
    "duration": 460,
    "start_time": "2022-05-05T09:00:42.465Z"
   },
   {
    "duration": 12,
    "start_time": "2022-05-05T09:00:42.927Z"
   },
   {
    "duration": 445,
    "start_time": "2022-05-05T09:00:42.941Z"
   },
   {
    "duration": 401,
    "start_time": "2022-05-05T09:00:43.388Z"
   },
   {
    "duration": 411,
    "start_time": "2022-05-05T09:00:43.792Z"
   },
   {
    "duration": 6,
    "start_time": "2022-05-05T09:00:44.205Z"
   },
   {
    "duration": 722745,
    "start_time": "2022-05-05T09:00:44.213Z"
   },
   {
    "duration": 163073,
    "start_time": "2022-05-05T09:12:46.970Z"
   },
   {
    "duration": 0,
    "start_time": "2022-05-05T09:15:30.053Z"
   },
   {
    "duration": 0,
    "start_time": "2022-05-05T09:15:30.055Z"
   },
   {
    "duration": 0,
    "start_time": "2022-05-05T09:15:30.058Z"
   },
   {
    "duration": 1,
    "start_time": "2022-05-05T09:15:30.059Z"
   },
   {
    "duration": 0,
    "start_time": "2022-05-05T09:15:30.062Z"
   },
   {
    "duration": 6,
    "start_time": "2022-05-05T09:17:46.750Z"
   },
   {
    "duration": 69,
    "start_time": "2022-05-05T09:17:46.759Z"
   },
   {
    "duration": 15,
    "start_time": "2022-05-05T09:17:46.830Z"
   },
   {
    "duration": 29,
    "start_time": "2022-05-05T09:17:46.855Z"
   },
   {
    "duration": 20,
    "start_time": "2022-05-05T09:17:46.887Z"
   },
   {
    "duration": 14,
    "start_time": "2022-05-05T09:17:46.910Z"
   },
   {
    "duration": 613,
    "start_time": "2022-05-05T09:17:46.927Z"
   },
   {
    "duration": 13,
    "start_time": "2022-05-05T09:17:47.551Z"
   },
   {
    "duration": 361,
    "start_time": "2022-05-05T09:17:47.566Z"
   },
   {
    "duration": 307,
    "start_time": "2022-05-05T09:17:47.930Z"
   },
   {
    "duration": 405,
    "start_time": "2022-05-05T09:17:48.239Z"
   },
   {
    "duration": 8,
    "start_time": "2022-05-05T09:17:48.646Z"
   },
   {
    "duration": 716006,
    "start_time": "2022-05-05T09:17:48.659Z"
   },
   {
    "duration": 323811,
    "start_time": "2022-05-05T09:29:44.668Z"
   },
   {
    "duration": 19238,
    "start_time": "2022-05-05T09:35:08.482Z"
   },
   {
    "duration": 35,
    "start_time": "2022-05-05T09:35:27.722Z"
   },
   {
    "duration": 187,
    "start_time": "2022-05-05T09:35:27.769Z"
   },
   {
    "duration": 140,
    "start_time": "2022-05-05T09:35:27.958Z"
   },
   {
    "duration": 0,
    "start_time": "2022-05-05T09:35:28.101Z"
   },
   {
    "duration": 18,
    "start_time": "2022-05-05T09:37:12.760Z"
   },
   {
    "duration": 5570,
    "start_time": "2022-05-06T05:52:32.520Z"
   },
   {
    "duration": 50,
    "start_time": "2022-05-06T05:52:38.093Z"
   },
   {
    "duration": 11,
    "start_time": "2022-05-06T05:52:38.145Z"
   },
   {
    "duration": 15,
    "start_time": "2022-05-06T05:52:38.158Z"
   },
   {
    "duration": 78,
    "start_time": "2022-05-06T05:52:38.176Z"
   },
   {
    "duration": 12,
    "start_time": "2022-05-06T05:52:38.257Z"
   },
   {
    "duration": 302,
    "start_time": "2022-05-06T05:54:01.540Z"
   },
   {
    "duration": 9,
    "start_time": "2022-05-06T05:54:02.118Z"
   },
   {
    "duration": 233,
    "start_time": "2022-05-06T05:54:03.470Z"
   },
   {
    "duration": 288,
    "start_time": "2022-05-06T05:54:03.705Z"
   },
   {
    "duration": 269,
    "start_time": "2022-05-06T05:54:03.995Z"
   },
   {
    "duration": 4,
    "start_time": "2022-05-06T05:56:15.084Z"
   },
   {
    "duration": 51,
    "start_time": "2022-05-06T09:22:04.112Z"
   },
   {
    "duration": 1642,
    "start_time": "2022-05-06T09:23:25.650Z"
   },
   {
    "duration": 40,
    "start_time": "2022-05-06T09:23:27.294Z"
   },
   {
    "duration": 11,
    "start_time": "2022-05-06T09:23:27.336Z"
   },
   {
    "duration": 12,
    "start_time": "2022-05-06T09:23:27.349Z"
   },
   {
    "duration": 66,
    "start_time": "2022-05-06T09:23:27.363Z"
   },
   {
    "duration": 9,
    "start_time": "2022-05-06T09:23:27.432Z"
   },
   {
    "duration": 334,
    "start_time": "2022-05-06T09:23:27.442Z"
   },
   {
    "duration": 7,
    "start_time": "2022-05-06T09:23:27.778Z"
   },
   {
    "duration": 214,
    "start_time": "2022-05-06T09:23:27.787Z"
   },
   {
    "duration": 262,
    "start_time": "2022-05-06T09:23:28.007Z"
   },
   {
    "duration": 247,
    "start_time": "2022-05-06T09:23:28.270Z"
   },
   {
    "duration": 3,
    "start_time": "2022-05-06T09:23:28.519Z"
   },
   {
    "duration": 525485,
    "start_time": "2022-05-06T09:23:28.524Z"
   },
   {
    "duration": 19504,
    "start_time": "2022-05-06T09:32:14.010Z"
   },
   {
    "duration": 13127,
    "start_time": "2022-05-06T09:32:33.516Z"
   },
   {
    "duration": 62,
    "start_time": "2022-05-06T09:32:46.645Z"
   },
   {
    "duration": 453,
    "start_time": "2022-05-06T09:32:46.713Z"
   },
   {
    "duration": 46,
    "start_time": "2022-05-06T09:32:47.168Z"
   },
   {
    "duration": 10,
    "start_time": "2022-05-06T09:32:47.215Z"
   },
   {
    "duration": 891,
    "start_time": "2022-05-06T09:40:18.266Z"
   },
   {
    "duration": 228,
    "start_time": "2022-05-06T09:42:24.253Z"
   },
   {
    "duration": 121,
    "start_time": "2022-05-06T09:42:48.580Z"
   },
   {
    "duration": 92,
    "start_time": "2022-05-06T09:45:01.824Z"
   },
   {
    "duration": 1462,
    "start_time": "2022-05-06T09:45:13.565Z"
   },
   {
    "duration": 1078,
    "start_time": "2022-05-06T09:47:16.385Z"
   },
   {
    "duration": 752,
    "start_time": "2022-05-06T09:47:28.558Z"
   },
   {
    "duration": 10388,
    "start_time": "2022-05-06T09:48:47.027Z"
   },
   {
    "duration": 25,
    "start_time": "2022-05-06T09:49:00.436Z"
   },
   {
    "duration": 122,
    "start_time": "2022-05-06T09:50:27.853Z"
   },
   {
    "duration": 3431,
    "start_time": "2022-05-06T09:53:18.971Z"
   },
   {
    "duration": 596,
    "start_time": "2022-05-06T09:56:04.805Z"
   },
   {
    "duration": 172,
    "start_time": "2022-05-06T09:56:19.420Z"
   },
   {
    "duration": 208,
    "start_time": "2022-05-06T09:56:24.712Z"
   },
   {
    "duration": 181,
    "start_time": "2022-05-06T09:57:13.756Z"
   },
   {
    "duration": 177,
    "start_time": "2022-05-06T09:57:25.222Z"
   },
   {
    "duration": 172,
    "start_time": "2022-05-06T09:57:36.546Z"
   },
   {
    "duration": 10,
    "start_time": "2022-05-06T10:16:00.984Z"
   },
   {
    "duration": 213,
    "start_time": "2022-05-06T10:16:45.191Z"
   },
   {
    "duration": 211,
    "start_time": "2022-05-06T10:17:30.966Z"
   },
   {
    "duration": 16,
    "start_time": "2022-05-06T10:28:56.721Z"
   },
   {
    "duration": 179,
    "start_time": "2022-05-06T10:29:26.335Z"
   },
   {
    "duration": 18,
    "start_time": "2022-05-06T10:29:46.523Z"
   },
   {
    "duration": 236,
    "start_time": "2022-05-06T10:30:13.274Z"
   },
   {
    "duration": 219,
    "start_time": "2022-05-06T10:30:29.924Z"
   },
   {
    "duration": 259,
    "start_time": "2022-05-06T10:39:17.453Z"
   },
   {
    "duration": 1648,
    "start_time": "2022-05-06T10:40:05.436Z"
   },
   {
    "duration": 52,
    "start_time": "2022-05-06T10:40:07.087Z"
   },
   {
    "duration": 12,
    "start_time": "2022-05-06T10:40:07.140Z"
   },
   {
    "duration": 24,
    "start_time": "2022-05-06T10:40:07.155Z"
   },
   {
    "duration": 71,
    "start_time": "2022-05-06T10:40:07.180Z"
   },
   {
    "duration": 10,
    "start_time": "2022-05-06T10:40:07.253Z"
   },
   {
    "duration": 339,
    "start_time": "2022-05-06T10:40:07.265Z"
   },
   {
    "duration": 10,
    "start_time": "2022-05-06T10:40:07.606Z"
   },
   {
    "duration": 247,
    "start_time": "2022-05-06T10:40:07.618Z"
   },
   {
    "duration": 305,
    "start_time": "2022-05-06T10:40:07.869Z"
   },
   {
    "duration": 301,
    "start_time": "2022-05-06T10:40:08.175Z"
   },
   {
    "duration": 5,
    "start_time": "2022-05-06T10:40:08.478Z"
   },
   {
    "duration": 588840,
    "start_time": "2022-05-06T10:40:08.485Z"
   },
   {
    "duration": 192193,
    "start_time": "2022-05-06T10:49:57.327Z"
   },
   {
    "duration": 28,
    "start_time": "2022-05-06T10:53:09.522Z"
   },
   {
    "duration": 15990,
    "start_time": "2022-05-06T10:53:09.552Z"
   },
   {
    "duration": 73,
    "start_time": "2022-05-06T10:53:25.545Z"
   },
   {
    "duration": 601,
    "start_time": "2022-05-06T10:53:25.620Z"
   },
   {
    "duration": 0,
    "start_time": "2022-05-06T10:53:26.223Z"
   },
   {
    "duration": 0,
    "start_time": "2022-05-06T10:53:26.225Z"
   },
   {
    "duration": 198,
    "start_time": "2022-05-06T12:07:12.547Z"
   },
   {
    "duration": 199,
    "start_time": "2022-05-06T12:07:42.476Z"
   },
   {
    "duration": 188,
    "start_time": "2022-05-06T12:08:52.691Z"
   },
   {
    "duration": 155,
    "start_time": "2022-05-06T12:11:06.787Z"
   },
   {
    "duration": 194,
    "start_time": "2022-05-06T12:11:33.548Z"
   },
   {
    "duration": 191,
    "start_time": "2022-05-06T12:11:53.663Z"
   },
   {
    "duration": 202,
    "start_time": "2022-05-06T12:12:11.916Z"
   },
   {
    "duration": 248,
    "start_time": "2022-05-06T12:12:28.440Z"
   },
   {
    "duration": 275,
    "start_time": "2022-05-06T12:13:11.689Z"
   },
   {
    "duration": 11,
    "start_time": "2022-05-06T12:14:18.457Z"
   },
   {
    "duration": 183,
    "start_time": "2022-05-06T12:14:38.751Z"
   },
   {
    "duration": 227,
    "start_time": "2022-05-06T12:18:04.289Z"
   },
   {
    "duration": 20,
    "start_time": "2022-05-06T13:22:30.350Z"
   },
   {
    "duration": 203,
    "start_time": "2022-05-06T13:22:58.271Z"
   },
   {
    "duration": 10,
    "start_time": "2022-05-06T13:24:07.349Z"
   },
   {
    "duration": 208,
    "start_time": "2022-05-06T13:24:35.707Z"
   },
   {
    "duration": 214,
    "start_time": "2022-05-06T13:26:24.061Z"
   },
   {
    "duration": 193,
    "start_time": "2022-05-06T13:26:51.384Z"
   },
   {
    "duration": 68,
    "start_time": "2022-05-06T13:28:42.272Z"
   },
   {
    "duration": 60,
    "start_time": "2022-05-06T13:29:21.651Z"
   },
   {
    "duration": 215,
    "start_time": "2022-05-06T13:29:34.216Z"
   },
   {
    "duration": 215,
    "start_time": "2022-05-06T13:30:03.785Z"
   },
   {
    "duration": 220,
    "start_time": "2022-05-06T13:30:26.688Z"
   },
   {
    "duration": 208,
    "start_time": "2022-05-06T13:30:43.883Z"
   },
   {
    "duration": 233,
    "start_time": "2022-05-06T13:31:10.383Z"
   },
   {
    "duration": 239,
    "start_time": "2022-05-06T13:31:17.672Z"
   },
   {
    "duration": 203,
    "start_time": "2022-05-06T13:31:29.286Z"
   },
   {
    "duration": 326,
    "start_time": "2022-05-06T13:31:40.789Z"
   }
  ],
  "kernelspec": {
   "display_name": "Python 3 (ipykernel)",
   "language": "python",
   "name": "python3"
  },
  "language_info": {
   "codemirror_mode": {
    "name": "ipython",
    "version": 3
   },
   "file_extension": ".py",
   "mimetype": "text/x-python",
   "name": "python",
   "nbconvert_exporter": "python",
   "pygments_lexer": "ipython3",
   "version": "3.9.5"
  },
  "toc": {
   "base_numbering": 1,
   "nav_menu": {},
   "number_sections": true,
   "sideBar": true,
   "skip_h1_title": true,
   "title_cell": "Содержание",
   "title_sidebar": "Contents",
   "toc_cell": true,
   "toc_position": {},
   "toc_section_display": true,
   "toc_window_display": true
  }
 },
 "nbformat": 4,
 "nbformat_minor": 2
}
