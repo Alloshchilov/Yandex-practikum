{
 "cells": [
  {
   "cell_type": "markdown",
   "metadata": {},
   "source": [
    "# Рекомендация тарифов"
   ]
  },
  {
   "cell_type": "markdown",
   "metadata": {},
   "source": [
    "В вашем распоряжении данные о поведении клиентов, которые уже перешли на эти тарифы (из проекта курса «Статистический анализ данных»). Нужно построить модель для задачи классификации, которая выберет подходящий тариф. Предобработка данных не понадобится — вы её уже сделали.\n",
    "\n",
    "Постройте модель с максимально большим значением *accuracy*. Чтобы сдать проект успешно, нужно довести долю правильных ответов по крайней мере до 0.75. Проверьте *accuracy* на тестовой выборке самостоятельно."
   ]
  },
  {
   "cell_type": "markdown",
   "metadata": {},
   "source": [
    "Импортируем необходимые библиотеки"
   ]
  },
  {
   "cell_type": "code",
   "execution_count": 125,
   "metadata": {},
   "outputs": [],
   "source": [
    "import matplotlib.pyplot as plt\n",
    "import pandas as pd\n",
    "import seaborn as sn\n",
    "import numpy as np\n",
    "from pandas.plotting import scatter_matrix\n",
    "from sklearn.model_selection import train_test_split\n",
    "from sklearn.metrics import accuracy_score\n",
    "from sklearn.tree import DecisionTreeClassifier\n",
    "from sklearn.linear_model import LogisticRegression\n",
    "from sklearn.ensemble import RandomForestClassifier\n",
    "from sklearn.dummy import DummyClassifier"
   ]
  },
  {
   "cell_type": "markdown",
   "metadata": {},
   "source": [
    "## Откройте и изучите файл"
   ]
  },
  {
   "cell_type": "code",
   "execution_count": 126,
   "metadata": {},
   "outputs": [
    {
     "data": {
      "text/html": [
       "<div>\n",
       "<style scoped>\n",
       "    .dataframe tbody tr th:only-of-type {\n",
       "        vertical-align: middle;\n",
       "    }\n",
       "\n",
       "    .dataframe tbody tr th {\n",
       "        vertical-align: top;\n",
       "    }\n",
       "\n",
       "    .dataframe thead th {\n",
       "        text-align: right;\n",
       "    }\n",
       "</style>\n",
       "<table border=\"1\" class=\"dataframe\">\n",
       "  <thead>\n",
       "    <tr style=\"text-align: right;\">\n",
       "      <th></th>\n",
       "      <th>calls</th>\n",
       "      <th>minutes</th>\n",
       "      <th>messages</th>\n",
       "      <th>mb_used</th>\n",
       "      <th>is_ultra</th>\n",
       "    </tr>\n",
       "  </thead>\n",
       "  <tbody>\n",
       "    <tr>\n",
       "      <td>0</td>\n",
       "      <td>40.0</td>\n",
       "      <td>311.90</td>\n",
       "      <td>83.0</td>\n",
       "      <td>19915.42</td>\n",
       "      <td>0</td>\n",
       "    </tr>\n",
       "    <tr>\n",
       "      <td>1</td>\n",
       "      <td>85.0</td>\n",
       "      <td>516.75</td>\n",
       "      <td>56.0</td>\n",
       "      <td>22696.96</td>\n",
       "      <td>0</td>\n",
       "    </tr>\n",
       "    <tr>\n",
       "      <td>2</td>\n",
       "      <td>77.0</td>\n",
       "      <td>467.66</td>\n",
       "      <td>86.0</td>\n",
       "      <td>21060.45</td>\n",
       "      <td>0</td>\n",
       "    </tr>\n",
       "    <tr>\n",
       "      <td>3</td>\n",
       "      <td>106.0</td>\n",
       "      <td>745.53</td>\n",
       "      <td>81.0</td>\n",
       "      <td>8437.39</td>\n",
       "      <td>1</td>\n",
       "    </tr>\n",
       "    <tr>\n",
       "      <td>4</td>\n",
       "      <td>66.0</td>\n",
       "      <td>418.74</td>\n",
       "      <td>1.0</td>\n",
       "      <td>14502.75</td>\n",
       "      <td>0</td>\n",
       "    </tr>\n",
       "    <tr>\n",
       "      <td>5</td>\n",
       "      <td>58.0</td>\n",
       "      <td>344.56</td>\n",
       "      <td>21.0</td>\n",
       "      <td>15823.37</td>\n",
       "      <td>0</td>\n",
       "    </tr>\n",
       "    <tr>\n",
       "      <td>6</td>\n",
       "      <td>57.0</td>\n",
       "      <td>431.64</td>\n",
       "      <td>20.0</td>\n",
       "      <td>3738.90</td>\n",
       "      <td>1</td>\n",
       "    </tr>\n",
       "    <tr>\n",
       "      <td>7</td>\n",
       "      <td>15.0</td>\n",
       "      <td>132.40</td>\n",
       "      <td>6.0</td>\n",
       "      <td>21911.60</td>\n",
       "      <td>0</td>\n",
       "    </tr>\n",
       "    <tr>\n",
       "      <td>8</td>\n",
       "      <td>7.0</td>\n",
       "      <td>43.39</td>\n",
       "      <td>3.0</td>\n",
       "      <td>2538.67</td>\n",
       "      <td>1</td>\n",
       "    </tr>\n",
       "    <tr>\n",
       "      <td>9</td>\n",
       "      <td>90.0</td>\n",
       "      <td>665.41</td>\n",
       "      <td>38.0</td>\n",
       "      <td>17358.61</td>\n",
       "      <td>0</td>\n",
       "    </tr>\n",
       "  </tbody>\n",
       "</table>\n",
       "</div>"
      ],
      "text/plain": [
       "   calls  minutes  messages   mb_used  is_ultra\n",
       "0   40.0   311.90      83.0  19915.42         0\n",
       "1   85.0   516.75      56.0  22696.96         0\n",
       "2   77.0   467.66      86.0  21060.45         0\n",
       "3  106.0   745.53      81.0   8437.39         1\n",
       "4   66.0   418.74       1.0  14502.75         0\n",
       "5   58.0   344.56      21.0  15823.37         0\n",
       "6   57.0   431.64      20.0   3738.90         1\n",
       "7   15.0   132.40       6.0  21911.60         0\n",
       "8    7.0    43.39       3.0   2538.67         1\n",
       "9   90.0   665.41      38.0  17358.61         0"
      ]
     },
     "execution_count": 126,
     "metadata": {},
     "output_type": "execute_result"
    }
   ],
   "source": [
    "#импортируем данные\n",
    "try:\n",
    "    df = pd.read_csv('/datasets/users_behavior.csv')\n",
    "except:\n",
    "    print('Ошибка. Проверьте правильность пути к данным')\n",
    "df.head(10)"
   ]
  },
  {
   "cell_type": "code",
   "execution_count": 127,
   "metadata": {},
   "outputs": [
    {
     "name": "stdout",
     "output_type": "stream",
     "text": [
      "<class 'pandas.core.frame.DataFrame'>\n",
      "RangeIndex: 3214 entries, 0 to 3213\n",
      "Data columns (total 5 columns):\n",
      "calls       3214 non-null float64\n",
      "minutes     3214 non-null float64\n",
      "messages    3214 non-null float64\n",
      "mb_used     3214 non-null float64\n",
      "is_ultra    3214 non-null int64\n",
      "dtypes: float64(4), int64(1)\n",
      "memory usage: 125.7 KB\n"
     ]
    }
   ],
   "source": [
    "df.info()"
   ]
  },
  {
   "cell_type": "markdown",
   "metadata": {},
   "source": [
    "Проведем корреляционный анализ."
   ]
  },
  {
   "cell_type": "code",
   "execution_count": 128,
   "metadata": {},
   "outputs": [],
   "source": [
    "corrMatrix = df.corr()"
   ]
  },
  {
   "cell_type": "code",
   "execution_count": 129,
   "metadata": {},
   "outputs": [
    {
     "data": {
      "image/png": "[encoded data removed]",
      "text/plain": [
       "<Figure size 720x360 with 2 Axes>"
      ]
     },
     "metadata": {
      "needs_background": "light"
     },
     "output_type": "display_data"
    }
   ],
   "source": [
    "#Построим корреляционную матрицу\n",
    "plt.figure(figsize=(10, 5))\n",
    "sn.heatmap(corrMatrix, annot=True)\n",
    "plt.show()"
   ]
  },
  {
   "cell_type": "code",
   "execution_count": 130,
   "metadata": {},
   "outputs": [
    {
     "data": {
      "image/png": "[encoded data removed]",
      "text/plain": [
       "<Figure size 648x504 with 1 Axes>"
      ]
     },
     "metadata": {
      "needs_background": "light"
     },
     "output_type": "display_data"
    }
   ],
   "source": [
    "df.plot(x='calls', y='minutes', kind='scatter', figsize=(9, 7), grid=True) \n",
    "plt.title(\"Корреляции между числом и продолжительностью звонков\")\n",
    "plt.ylabel(\"Минуты\")\n",
    "plt.xlabel(\"Звонки\")\n",
    "plt.show()"
   ]
  },
  {
   "cell_type": "markdown",
   "metadata": {},
   "source": [
    "Коэффициент корреляции между количеством и продолжительностью звонков равен 0.98. В этом случае мы можем не учитывать данные о количестве звонков для построения моделей."
   ]
  },
  {
   "cell_type": "code",
   "execution_count": 131,
   "metadata": {},
   "outputs": [],
   "source": [
    "#уберем столбец о звонках\n",
    "df.drop(['calls'], axis='columns',  inplace=True)"
   ]
  },
  {
   "cell_type": "markdown",
   "metadata": {},
   "source": [
    "Вывод: Предобработка данных выполнена. Пропусков нет. Можно приступать к моделям."
   ]
  },
  {
   "attachments": {
    "image.png": {
     "image/png": "[encoded data removed]"
    }
   },
   "cell_type": "markdown",
   "metadata": {},
   "source": [
    "![image.png](attachment:image.png)"
   ]
  },
  {
   "cell_type": "markdown",
   "metadata": {},
   "source": [
    "## Разбейте данные на выборки"
   ]
  },
  {
   "cell_type": "markdown",
   "metadata": {},
   "source": [
    "Разобьём датасет на три выборки: тренировочная, тестовая и валидационная в пропрорциях 50/25/25."
   ]
  },
  {
   "cell_type": "code",
   "execution_count": 132,
   "metadata": {},
   "outputs": [],
   "source": [
    "df_train, df_rest = train_test_split(df, test_size=0.5, random_state=12345)\n",
    "df_test, df_valid = train_test_split(df_rest, test_size=0.5, random_state=12345)"
   ]
  },
  {
   "cell_type": "code",
   "execution_count": 133,
   "metadata": {},
   "outputs": [
    {
     "data": {
      "text/plain": [
       "(1607, 4)"
      ]
     },
     "execution_count": 133,
     "metadata": {},
     "output_type": "execute_result"
    }
   ],
   "source": [
    "#размер тренировочной выборки\n",
    "df_train.shape"
   ]
  },
  {
   "cell_type": "code",
   "execution_count": 134,
   "metadata": {},
   "outputs": [
    {
     "data": {
      "text/plain": [
       "(803, 4)"
      ]
     },
     "execution_count": 134,
     "metadata": {},
     "output_type": "execute_result"
    }
   ],
   "source": [
    "#размер тестовой выборки\n",
    "df_test.shape"
   ]
  },
  {
   "cell_type": "code",
   "execution_count": 135,
   "metadata": {},
   "outputs": [
    {
     "data": {
      "text/plain": [
       "(804, 4)"
      ]
     },
     "execution_count": 135,
     "metadata": {},
     "output_type": "execute_result"
    }
   ],
   "source": [
    "#размер валидационной выборки\n",
    "df_valid.shape"
   ]
  },
  {
   "cell_type": "markdown",
   "metadata": {},
   "source": [
    "Определим признаки и целевой признак для всех выборок. Целевым признаком будет являться значение столбца \"is_ultra\""
   ]
  },
  {
   "cell_type": "code",
   "execution_count": 136,
   "metadata": {},
   "outputs": [],
   "source": [
    "#для тренировочной\n",
    "features_train = df_train.drop(['is_ultra'], axis=1)\n",
    "target_train = df_train['is_ultra']"
   ]
  },
  {
   "cell_type": "code",
   "execution_count": 137,
   "metadata": {},
   "outputs": [],
   "source": [
    "#для тестовой\n",
    "features_test = df_test.drop(['is_ultra'], axis=1)\n",
    "target_test = df_test['is_ultra']"
   ]
  },
  {
   "cell_type": "code",
   "execution_count": 138,
   "metadata": {},
   "outputs": [],
   "source": [
    "#для валидационной\n",
    "features_valid = df_valid.drop(['is_ultra'], axis=1)\n",
    "target_valid = df_valid['is_ultra']"
   ]
  },
  {
   "cell_type": "code",
   "execution_count": 139,
   "metadata": {},
   "outputs": [
    {
     "data": {
      "text/plain": [
       "3214"
      ]
     },
     "execution_count": 139,
     "metadata": {},
     "output_type": "execute_result"
    }
   ],
   "source": [
    "1607+803+804"
   ]
  },
  {
   "cell_type": "markdown",
   "metadata": {},
   "source": [
    "## Исследуйте модели"
   ]
  },
  {
   "cell_type": "markdown",
   "metadata": {},
   "source": [
    "Обучим модель \"Дерево решений\" и определим параметр глубины(depth) при котором модель выдает лучший результат."
   ]
  },
  {
   "cell_type": "code",
   "execution_count": 140,
   "metadata": {},
   "outputs": [
    {
     "name": "stdout",
     "output_type": "stream",
     "text": [
      "Параметры наилучшей модели на валидационной выборке: depth= 4 accuracy: 0.7997512437810945\n"
     ]
    }
   ],
   "source": [
    "accur=0\n",
    "dep=0\n",
    "for depth in range(1, 11):\n",
    "    model_tree = DecisionTreeClassifier(random_state=12345, max_depth=depth) \n",
    "    model_tree.fit(features_train, target_train) \n",
    "    predictions = model_tree.predict(features_valid) \n",
    "    accuracy = accuracy_score(target_valid, predictions)\n",
    "    if accuracy > accur:\n",
    "        accur=accuracy\n",
    "        dep=depth\n",
    "print('Параметры наилучшей модели на валидационной выборке: ' \"depth=\", dep, \"accuracy:\", accur)"
   ]
  },
  {
   "cell_type": "markdown",
   "metadata": {},
   "source": [
    "Вывод: Лучший результат показывает модель с параметром depth =4, точность её предсказаний 80%."
   ]
  },
  {
   "cell_type": "markdown",
   "metadata": {},
   "source": [
    "Обучим модель \"Случайный лес\" и определим параметры n_estimators и depth при котором модель выдает лучший результат."
   ]
  },
  {
   "cell_type": "code",
   "execution_count": 141,
   "metadata": {},
   "outputs": [
    {
     "name": "stdout",
     "output_type": "stream",
     "text": [
      "Параметры наилучшей модели на валидационной выборке: n_estimators= 13 depth= 8 accuracy: 0.8171641791044776\n"
     ]
    }
   ],
   "source": [
    "accur=0\n",
    "est=0\n",
    "dep=0\n",
    "#Попробовал разные диапазоны. При увелечение диапазона точность почти не меняется, зато время загрузки увеличивается сильно, \n",
    "#поэтому остановился на таких параметрах.\n",
    "for estim in range(1, 20, 2): \n",
    "    for depth in range(1, 11):\n",
    "        model_forest = RandomForestClassifier(random_state=12345, n_estimators=estim, max_depth=depth)\n",
    "        model_forest.fit(features_train, target_train)\n",
    "        predictions = model_forest.predict(features_valid)\n",
    "        accuracy = accuracy_score(target_valid, predictions)\n",
    "        if accuracy > accur:\n",
    "            accur=accuracy\n",
    "            est=estim\n",
    "            dep=depth\n",
    "print('Параметры наилучшей модели на валидационной выборке: ' \"n_estimators=\", est, \"depth=\", dep,\"accuracy:\", accur)"
   ]
  },
  {
   "cell_type": "markdown",
   "metadata": {},
   "source": [
    "Вывод: Лучший результат показывает модель с параметрами n_estimators= 13 и depth= 8, точность её предсказаний 82%."
   ]
  },
  {
   "cell_type": "markdown",
   "metadata": {},
   "source": [
    "Обучим модель \"Логическая регрессия\"."
   ]
  },
  {
   "cell_type": "code",
   "execution_count": 142,
   "metadata": {},
   "outputs": [
    {
     "name": "stdout",
     "output_type": "stream",
     "text": [
      "Accuracy модели логистической регрессии на валидационной выборке: 0.7263681592039801\n"
     ]
    },
    {
     "name": "stderr",
     "output_type": "stream",
     "text": [
      "/opt/conda/lib/python3.7/site-packages/sklearn/linear_model/logistic.py:432: FutureWarning: Default solver will be changed to 'lbfgs' in 0.22. Specify a solver to silence this warning.\n",
      "  FutureWarning)\n"
     ]
    }
   ],
   "source": [
    "model_logreg = LogisticRegression(random_state=12345)\n",
    "model_logreg.fit(features_train, target_train)\n",
    "predictions = model_logreg.predict(features_valid) \n",
    "accuracy = accuracy_score(target_valid, predictions)\n",
    "print(\"Accuracy модели логистической регрессии на валидационной выборке:\", accuracy)"
   ]
  },
  {
   "cell_type": "markdown",
   "metadata": {},
   "source": [
    "Вывод: модель \"Логическая регрессия\" не имеет дополнительных параметров, но и работает гораздо быстрее остальных. Точность предсказания 72%."
   ]
  },
  {
   "cell_type": "markdown",
   "metadata": {},
   "source": [
    "Общий вывод: Лучшее показатели у модели \"Случайный лес\", но она же является самой медленной в плане скорости обработки данных."
   ]
  },
  {
   "cell_type": "markdown",
   "metadata": {},
   "source": [
    "## Проверьте модель на тестовой выборке"
   ]
  },
  {
   "cell_type": "markdown",
   "metadata": {},
   "source": [
    "Проверим модель на тестовой выборке с помощью \"Дерева решиний\"."
   ]
  },
  {
   "cell_type": "code",
   "execution_count": 143,
   "metadata": {},
   "outputs": [
    {
     "name": "stdout",
     "output_type": "stream",
     "text": [
      "accuracy модели на тестовой выборке: 0.7820672478206725\n"
     ]
    }
   ],
   "source": [
    "model_tree_test = DecisionTreeClassifier(random_state=12345, max_depth=4) \n",
    "model_tree_test.fit(features_train, target_train) \n",
    "predictions = model_tree_test.predict(features_test) \n",
    "accuracy = accuracy_score(target_test, predictions)\n",
    "print('accuracy модели на тестовой выборке:', accuracy)"
   ]
  },
  {
   "cell_type": "markdown",
   "metadata": {},
   "source": [
    "Проверим модель на тестовой выборке с помощью \"Случайного леса\"."
   ]
  },
  {
   "cell_type": "code",
   "execution_count": 144,
   "metadata": {},
   "outputs": [
    {
     "name": "stdout",
     "output_type": "stream",
     "text": [
      "accuracy модели на тестовой выборке: 0.7907845579078456\n"
     ]
    }
   ],
   "source": [
    "model_forest_test = RandomForestClassifier(random_state=12345, n_estimators=13, max_depth=8)\n",
    "model_forest_test.fit(features_train, target_train)\n",
    "predictions = model_forest_test.predict(features_test)\n",
    "accuracy = accuracy_score(target_test, predictions)\n",
    "print('accuracy модели на тестовой выборке:', accuracy)"
   ]
  },
  {
   "cell_type": "markdown",
   "metadata": {},
   "source": [
    "Проверим модель на тестовой выборке с помощью \"Логической регрессии'."
   ]
  },
  {
   "cell_type": "code",
   "execution_count": 145,
   "metadata": {},
   "outputs": [
    {
     "name": "stdout",
     "output_type": "stream",
     "text": [
      "accuracy модели на тестовой выборке: 0.7247820672478207\n"
     ]
    },
    {
     "name": "stderr",
     "output_type": "stream",
     "text": [
      "/opt/conda/lib/python3.7/site-packages/sklearn/linear_model/logistic.py:432: FutureWarning: Default solver will be changed to 'lbfgs' in 0.22. Specify a solver to silence this warning.\n",
      "  FutureWarning)\n"
     ]
    }
   ],
   "source": [
    "model_logreg_test = LogisticRegression(random_state=12345)\n",
    "model_logreg_test.fit(features_train, target_train)\n",
    "predictions = model_logreg_test.predict(features_test) \n",
    "accuracy = accuracy_score(target_test, predictions)\n",
    "print('accuracy модели на тестовой выборке:', accuracy)"
   ]
  },
  {
   "cell_type": "markdown",
   "metadata": {},
   "source": [
    "Вывод: На тестовой выборке точность всех моделей немного снизилась, но в целом распределение точностей осталось таким-же. Самая точная модель Случайный лес, самая неточная Логическая регрессия."
   ]
  },
  {
   "cell_type": "markdown",
   "metadata": {},
   "source": [
    "## (бонус) Проверьте модели на адекватность"
   ]
  },
  {
   "cell_type": "markdown",
   "metadata": {},
   "source": [
    "Проверим модель на адекватность с помощью DummyClassifier"
   ]
  },
  {
   "cell_type": "code",
   "execution_count": 146,
   "metadata": {},
   "outputs": [
    {
     "data": {
      "text/plain": [
       "0.6770379589296827"
      ]
     },
     "execution_count": 146,
     "metadata": {},
     "output_type": "execute_result"
    }
   ],
   "source": [
    "dummy = DummyClassifier(strategy=\"most_frequent\", random_state=0)\n",
    "dummy.fit(features_train, target_train)\n",
    "dummy.score(features_train, target_train)"
   ]
  },
  {
   "cell_type": "markdown",
   "metadata": {},
   "source": [
    "Тест на адекватность проеден. DummyClassifier показывает результаты хуже, чем все остальные, обученные мной модели. "
   ]
  },
  {
   "cell_type": "code",
   "execution_count": null,
   "metadata": {},
   "outputs": [],
   "source": []
  }
 ],
 "metadata": {
  "ExecuteTimeLog": [
   {
    "duration": 1440,
    "start_time": "2022-02-11T10:16:10.912Z"
   },
   {
    "duration": 1635,
    "start_time": "2022-02-11T10:16:18.091Z"
   },
   {
    "duration": 16,
    "start_time": "2022-02-11T10:16:20.322Z"
   },
   {
    "duration": 36,
    "start_time": "2022-02-11T10:16:44.319Z"
   },
   {
    "duration": 26,
    "start_time": "2022-02-11T10:16:53.590Z"
   },
   {
    "duration": 53,
    "start_time": "2022-02-11T10:17:05.170Z"
   },
   {
    "duration": 53,
    "start_time": "2022-02-11T10:31:45.678Z"
   },
   {
    "duration": 29,
    "start_time": "2022-02-11T10:32:05.360Z"
   },
   {
    "duration": 34,
    "start_time": "2022-02-11T10:32:07.507Z"
   },
   {
    "duration": 27,
    "start_time": "2022-02-11T10:32:29.609Z"
   },
   {
    "duration": 13,
    "start_time": "2022-02-11T10:32:31.538Z"
   },
   {
    "duration": 26,
    "start_time": "2022-02-11T10:34:18.761Z"
   },
   {
    "duration": 9,
    "start_time": "2022-02-11T10:34:26.361Z"
   },
   {
    "duration": 5,
    "start_time": "2022-02-11T10:42:25.275Z"
   },
   {
    "duration": 27,
    "start_time": "2022-02-11T10:42:26.829Z"
   },
   {
    "duration": 6,
    "start_time": "2022-02-11T10:45:36.573Z"
   },
   {
    "duration": 10,
    "start_time": "2022-02-11T10:46:54.684Z"
   },
   {
    "duration": 10,
    "start_time": "2022-02-11T10:47:04.948Z"
   },
   {
    "duration": 476,
    "start_time": "2022-02-11T10:47:20.596Z"
   },
   {
    "duration": 7,
    "start_time": "2022-02-11T10:47:35.002Z"
   },
   {
    "duration": 5,
    "start_time": "2022-02-11T10:47:52.777Z"
   },
   {
    "duration": 6,
    "start_time": "2022-02-11T10:47:58.741Z"
   },
   {
    "duration": 7,
    "start_time": "2022-02-11T10:48:06.630Z"
   },
   {
    "duration": 6,
    "start_time": "2022-02-11T10:48:16.727Z"
   },
   {
    "duration": 10,
    "start_time": "2022-02-11T10:48:41.681Z"
   },
   {
    "duration": 6,
    "start_time": "2022-02-11T10:48:42.220Z"
   },
   {
    "duration": 5,
    "start_time": "2022-02-11T10:48:42.840Z"
   },
   {
    "duration": 5,
    "start_time": "2022-02-11T10:48:43.595Z"
   },
   {
    "duration": 5,
    "start_time": "2022-02-11T10:50:49.595Z"
   },
   {
    "duration": 290,
    "start_time": "2022-02-11T10:59:01.918Z"
   },
   {
    "duration": 292,
    "start_time": "2022-02-11T10:59:55.917Z"
   },
   {
    "duration": 303,
    "start_time": "2022-02-11T11:00:06.004Z"
   },
   {
    "duration": 6,
    "start_time": "2022-02-11T11:00:32.791Z"
   },
   {
    "duration": 5,
    "start_time": "2022-02-11T11:00:49.750Z"
   },
   {
    "duration": 30,
    "start_time": "2022-02-11T11:00:49.757Z"
   },
   {
    "duration": 9,
    "start_time": "2022-02-11T11:00:49.790Z"
   },
   {
    "duration": 91,
    "start_time": "2022-02-11T11:00:49.802Z"
   },
   {
    "duration": 490,
    "start_time": "2022-02-11T11:00:49.405Z"
   },
   {
    "duration": 491,
    "start_time": "2022-02-11T11:00:49.406Z"
   },
   {
    "duration": 491,
    "start_time": "2022-02-11T11:00:49.407Z"
   },
   {
    "duration": 490,
    "start_time": "2022-02-11T11:00:49.410Z"
   },
   {
    "duration": 491,
    "start_time": "2022-02-11T11:00:49.411Z"
   },
   {
    "duration": 491,
    "start_time": "2022-02-11T11:00:49.412Z"
   },
   {
    "duration": 492,
    "start_time": "2022-02-11T11:00:49.413Z"
   },
   {
    "duration": 274,
    "start_time": "2022-02-11T11:01:52.566Z"
   },
   {
    "duration": 5,
    "start_time": "2022-02-11T11:02:21.073Z"
   },
   {
    "duration": 40,
    "start_time": "2022-02-11T11:02:21.082Z"
   },
   {
    "duration": 13,
    "start_time": "2022-02-11T11:02:21.126Z"
   },
   {
    "duration": 11,
    "start_time": "2022-02-11T11:02:21.143Z"
   },
   {
    "duration": 6,
    "start_time": "2022-02-11T11:02:21.156Z"
   },
   {
    "duration": 6,
    "start_time": "2022-02-11T11:02:21.164Z"
   },
   {
    "duration": 52,
    "start_time": "2022-02-11T11:02:21.173Z"
   },
   {
    "duration": 312,
    "start_time": "2022-02-11T11:02:21.229Z"
   },
   {
    "duration": 496,
    "start_time": "2022-02-11T11:02:21.048Z"
   },
   {
    "duration": 492,
    "start_time": "2022-02-11T11:02:21.053Z"
   },
   {
    "duration": 18,
    "start_time": "2022-02-11T12:04:10.475Z"
   },
   {
    "duration": 5,
    "start_time": "2022-02-11T12:04:30.801Z"
   },
   {
    "duration": 5,
    "start_time": "2022-02-11T12:04:32.558Z"
   },
   {
    "duration": 5,
    "start_time": "2022-02-11T12:04:32.976Z"
   },
   {
    "duration": 332,
    "start_time": "2022-02-11T12:04:34.577Z"
   },
   {
    "duration": 4,
    "start_time": "2022-02-11T12:05:06.949Z"
   },
   {
    "duration": 345,
    "start_time": "2022-02-11T12:05:07.847Z"
   },
   {
    "duration": 380,
    "start_time": "2022-02-11T12:05:10.275Z"
   },
   {
    "duration": 6,
    "start_time": "2022-02-11T12:05:31.038Z"
   },
   {
    "duration": 43,
    "start_time": "2022-02-11T12:05:31.048Z"
   },
   {
    "duration": 10,
    "start_time": "2022-02-11T12:05:31.096Z"
   },
   {
    "duration": 11,
    "start_time": "2022-02-11T12:05:31.125Z"
   },
   {
    "duration": 6,
    "start_time": "2022-02-11T12:05:31.138Z"
   },
   {
    "duration": 13,
    "start_time": "2022-02-11T12:05:31.146Z"
   },
   {
    "duration": 12,
    "start_time": "2022-02-11T12:05:31.161Z"
   },
   {
    "duration": 305,
    "start_time": "2022-02-11T12:05:31.177Z"
   },
   {
    "duration": 503,
    "start_time": "2022-02-11T12:05:30.981Z"
   },
   {
    "duration": 493,
    "start_time": "2022-02-11T12:05:30.992Z"
   },
   {
    "duration": 509,
    "start_time": "2022-02-11T12:09:23.828Z"
   },
   {
    "duration": 7090,
    "start_time": "2022-02-11T12:09:56.989Z"
   },
   {
    "duration": 6,
    "start_time": "2022-02-11T12:10:23.685Z"
   },
   {
    "duration": 317,
    "start_time": "2022-02-11T12:10:27.857Z"
   },
   {
    "duration": 5,
    "start_time": "2022-02-11T12:11:07.863Z"
   },
   {
    "duration": 7470,
    "start_time": "2022-02-11T12:11:20.457Z"
   },
   {
    "duration": 511,
    "start_time": "2022-02-11T12:11:27.418Z"
   },
   {
    "duration": 511,
    "start_time": "2022-02-11T12:11:27.420Z"
   },
   {
    "duration": 6,
    "start_time": "2022-02-11T12:11:50.138Z"
   },
   {
    "duration": 5,
    "start_time": "2022-02-11T12:11:56.158Z"
   },
   {
    "duration": 31,
    "start_time": "2022-02-11T12:11:56.167Z"
   },
   {
    "duration": 10,
    "start_time": "2022-02-11T12:11:56.201Z"
   },
   {
    "duration": 9,
    "start_time": "2022-02-11T12:11:56.214Z"
   },
   {
    "duration": 4,
    "start_time": "2022-02-11T12:11:56.226Z"
   },
   {
    "duration": 5,
    "start_time": "2022-02-11T12:11:56.232Z"
   },
   {
    "duration": 5,
    "start_time": "2022-02-11T12:11:56.240Z"
   },
   {
    "duration": 5,
    "start_time": "2022-02-11T12:11:56.248Z"
   },
   {
    "duration": 6,
    "start_time": "2022-02-11T12:11:56.255Z"
   },
   {
    "duration": 6,
    "start_time": "2022-02-11T12:11:56.263Z"
   },
   {
    "duration": 114,
    "start_time": "2022-02-11T12:15:23.257Z"
   },
   {
    "duration": 310,
    "start_time": "2022-02-11T12:24:06.894Z"
   },
   {
    "duration": 340,
    "start_time": "2022-02-11T12:24:13.319Z"
   },
   {
    "duration": 73,
    "start_time": "2022-02-11T12:24:39.034Z"
   },
   {
    "duration": 37,
    "start_time": "2022-02-11T12:25:32.622Z"
   },
   {
    "duration": 51,
    "start_time": "2022-02-11T12:31:06.307Z"
   },
   {
    "duration": 40,
    "start_time": "2022-02-11T12:32:39.671Z"
   },
   {
    "duration": 68,
    "start_time": "2022-02-11T12:32:51.072Z"
   },
   {
    "duration": 163,
    "start_time": "2022-02-11T12:33:25.309Z"
   },
   {
    "duration": 36,
    "start_time": "2022-02-11T12:33:51.943Z"
   },
   {
    "duration": 62,
    "start_time": "2022-02-11T12:34:26.533Z"
   },
   {
    "duration": 37,
    "start_time": "2022-02-11T12:34:31.829Z"
   },
   {
    "duration": 53,
    "start_time": "2022-02-11T12:34:47.129Z"
   },
   {
    "duration": 42,
    "start_time": "2022-02-11T12:35:14.907Z"
   },
   {
    "duration": 34,
    "start_time": "2022-02-11T12:35:51.405Z"
   },
   {
    "duration": 54,
    "start_time": "2022-02-11T12:55:53.221Z"
   },
   {
    "duration": 42,
    "start_time": "2022-02-11T13:09:17.725Z"
   },
   {
    "duration": 38,
    "start_time": "2022-02-11T13:10:47.915Z"
   },
   {
    "duration": 482,
    "start_time": "2022-02-11T13:12:26.554Z"
   },
   {
    "duration": 394,
    "start_time": "2022-02-11T13:12:57.340Z"
   },
   {
    "duration": 331,
    "start_time": "2022-02-11T13:13:20.950Z"
   },
   {
    "duration": 347,
    "start_time": "2022-02-11T13:13:36.471Z"
   },
   {
    "duration": 323,
    "start_time": "2022-02-11T13:21:41.992Z"
   },
   {
    "duration": 340,
    "start_time": "2022-02-11T13:27:27.639Z"
   },
   {
    "duration": 4763,
    "start_time": "2022-02-11T13:28:41.797Z"
   },
   {
    "duration": 319,
    "start_time": "2022-02-14T06:57:38.418Z"
   },
   {
    "duration": 243,
    "start_time": "2022-02-14T06:57:52.935Z"
   },
   {
    "duration": 1175,
    "start_time": "2022-02-14T06:58:11.597Z"
   },
   {
    "duration": 27,
    "start_time": "2022-02-14T06:58:12.774Z"
   },
   {
    "duration": 6,
    "start_time": "2022-02-14T06:58:12.803Z"
   },
   {
    "duration": 18,
    "start_time": "2022-02-14T06:58:12.811Z"
   },
   {
    "duration": 7,
    "start_time": "2022-02-14T06:58:12.831Z"
   },
   {
    "duration": 12,
    "start_time": "2022-02-14T06:58:12.840Z"
   },
   {
    "duration": 8,
    "start_time": "2022-02-14T06:58:12.854Z"
   },
   {
    "duration": 8,
    "start_time": "2022-02-14T06:58:12.864Z"
   },
   {
    "duration": 15,
    "start_time": "2022-02-14T06:58:12.875Z"
   },
   {
    "duration": 10,
    "start_time": "2022-02-14T06:58:12.892Z"
   },
   {
    "duration": 29,
    "start_time": "2022-02-14T06:58:12.904Z"
   },
   {
    "duration": 99,
    "start_time": "2022-02-14T06:58:12.935Z"
   },
   {
    "duration": 672,
    "start_time": "2022-02-14T06:58:12.364Z"
   },
   {
    "duration": 353,
    "start_time": "2022-02-14T08:36:33.283Z"
   },
   {
    "duration": 3,
    "start_time": "2022-02-14T08:36:54.167Z"
   },
   {
    "duration": 37,
    "start_time": "2022-02-14T08:36:54.173Z"
   },
   {
    "duration": 13,
    "start_time": "2022-02-14T08:36:54.213Z"
   },
   {
    "duration": 19,
    "start_time": "2022-02-14T08:36:54.227Z"
   },
   {
    "duration": 6,
    "start_time": "2022-02-14T08:36:54.248Z"
   },
   {
    "duration": 7,
    "start_time": "2022-02-14T08:36:54.255Z"
   },
   {
    "duration": 5,
    "start_time": "2022-02-14T08:36:54.264Z"
   },
   {
    "duration": 5,
    "start_time": "2022-02-14T08:36:54.270Z"
   },
   {
    "duration": 11,
    "start_time": "2022-02-14T08:36:54.278Z"
   },
   {
    "duration": 8,
    "start_time": "2022-02-14T08:36:54.291Z"
   },
   {
    "duration": 27,
    "start_time": "2022-02-14T08:36:54.300Z"
   },
   {
    "duration": 354,
    "start_time": "2022-02-14T08:36:54.329Z"
   },
   {
    "duration": 244,
    "start_time": "2022-02-14T08:37:37.467Z"
   },
   {
    "duration": 258,
    "start_time": "2022-02-14T08:37:45.948Z"
   },
   {
    "duration": 304,
    "start_time": "2022-02-14T08:37:59.929Z"
   },
   {
    "duration": 3203,
    "start_time": "2022-02-14T08:38:13.116Z"
   },
   {
    "duration": 13205,
    "start_time": "2022-02-14T08:40:23.306Z"
   },
   {
    "duration": 1289,
    "start_time": "2022-02-14T08:42:01.423Z"
   },
   {
    "duration": 8189,
    "start_time": "2022-02-14T08:42:10.924Z"
   },
   {
    "duration": 7862,
    "start_time": "2022-02-14T08:43:01.822Z"
   },
   {
    "duration": 8174,
    "start_time": "2022-02-14T08:43:29.168Z"
   },
   {
    "duration": 8298,
    "start_time": "2022-02-14T08:43:47.579Z"
   },
   {
    "duration": 1661,
    "start_time": "2022-02-14T08:45:30.774Z"
   },
   {
    "duration": 17267,
    "start_time": "2022-02-14T08:47:31.130Z"
   },
   {
    "duration": 14501,
    "start_time": "2022-02-14T08:48:28.193Z"
   },
   {
    "duration": 2571,
    "start_time": "2022-02-14T08:50:11.848Z"
   },
   {
    "duration": 2644,
    "start_time": "2022-02-14T08:51:15.874Z"
   },
   {
    "duration": 2628,
    "start_time": "2022-02-14T08:52:16.249Z"
   },
   {
    "duration": 8992,
    "start_time": "2022-02-14T08:52:36.250Z"
   },
   {
    "duration": 9078,
    "start_time": "2022-02-14T08:53:19.227Z"
   },
   {
    "duration": 9494,
    "start_time": "2022-02-14T08:53:38.889Z"
   },
   {
    "duration": 9636,
    "start_time": "2022-02-14T08:54:27.882Z"
   },
   {
    "duration": 9164,
    "start_time": "2022-02-14T08:55:52.950Z"
   },
   {
    "duration": 31152,
    "start_time": "2022-02-14T08:56:36.833Z"
   },
   {
    "duration": 9487,
    "start_time": "2022-02-14T08:57:27.982Z"
   },
   {
    "duration": 9147,
    "start_time": "2022-02-14T08:58:18.197Z"
   },
   {
    "duration": 264,
    "start_time": "2022-02-14T09:02:57.012Z"
   },
   {
    "duration": 276,
    "start_time": "2022-02-14T09:03:07.451Z"
   },
   {
    "duration": 353,
    "start_time": "2022-02-14T09:04:58.237Z"
   },
   {
    "duration": 270,
    "start_time": "2022-02-14T09:05:24.815Z"
   },
   {
    "duration": 14,
    "start_time": "2022-02-14T09:05:38.066Z"
   },
   {
    "duration": 25,
    "start_time": "2022-02-14T09:08:24.259Z"
   },
   {
    "duration": 28,
    "start_time": "2022-02-14T09:10:42.173Z"
   },
   {
    "duration": 90,
    "start_time": "2022-02-14T09:15:33.968Z"
   },
   {
    "duration": 60,
    "start_time": "2022-02-14T09:16:16.942Z"
   },
   {
    "duration": 50,
    "start_time": "2022-02-14T09:16:27.056Z"
   },
   {
    "duration": 1085,
    "start_time": "2022-02-15T07:57:41.499Z"
   },
   {
    "duration": 41,
    "start_time": "2022-02-15T07:57:42.585Z"
   },
   {
    "duration": 6,
    "start_time": "2022-02-15T07:57:42.628Z"
   },
   {
    "duration": 8,
    "start_time": "2022-02-15T07:57:42.635Z"
   },
   {
    "duration": 9,
    "start_time": "2022-02-15T07:57:42.644Z"
   },
   {
    "duration": 5,
    "start_time": "2022-02-15T07:57:42.654Z"
   },
   {
    "duration": 6,
    "start_time": "2022-02-15T07:57:42.660Z"
   },
   {
    "duration": 6,
    "start_time": "2022-02-15T07:57:42.668Z"
   },
   {
    "duration": 5,
    "start_time": "2022-02-15T07:57:42.675Z"
   },
   {
    "duration": 5,
    "start_time": "2022-02-15T07:57:42.682Z"
   },
   {
    "duration": 46,
    "start_time": "2022-02-15T07:57:42.688Z"
   },
   {
    "duration": 409,
    "start_time": "2022-02-15T07:57:42.736Z"
   },
   {
    "duration": 454,
    "start_time": "2022-02-15T07:57:42.693Z"
   },
   {
    "duration": 1401,
    "start_time": "2022-02-15T08:04:19.674Z"
   },
   {
    "duration": 12,
    "start_time": "2022-02-15T08:04:40.135Z"
   },
   {
    "duration": 112,
    "start_time": "2022-02-15T08:10:46.104Z"
   },
   {
    "duration": 9,
    "start_time": "2022-02-15T08:14:20.566Z"
   },
   {
    "duration": 8,
    "start_time": "2022-02-15T08:27:00.039Z"
   },
   {
    "duration": 49,
    "start_time": "2022-02-15T08:38:11.908Z"
   },
   {
    "duration": 48,
    "start_time": "2022-02-15T08:42:52.886Z"
   },
   {
    "duration": 11,
    "start_time": "2022-02-15T08:44:30.865Z"
   },
   {
    "duration": 359,
    "start_time": "2022-02-15T10:07:41.082Z"
   },
   {
    "duration": 3,
    "start_time": "2022-02-15T10:07:47.559Z"
   },
   {
    "duration": 43,
    "start_time": "2022-02-15T10:07:47.563Z"
   },
   {
    "duration": 5,
    "start_time": "2022-02-15T10:07:47.607Z"
   },
   {
    "duration": 9,
    "start_time": "2022-02-15T10:07:47.614Z"
   },
   {
    "duration": 4,
    "start_time": "2022-02-15T10:07:47.624Z"
   },
   {
    "duration": 4,
    "start_time": "2022-02-15T10:07:47.630Z"
   },
   {
    "duration": 6,
    "start_time": "2022-02-15T10:07:47.636Z"
   },
   {
    "duration": 4,
    "start_time": "2022-02-15T10:07:47.643Z"
   },
   {
    "duration": 6,
    "start_time": "2022-02-15T10:07:47.649Z"
   },
   {
    "duration": 6,
    "start_time": "2022-02-15T10:07:47.656Z"
   },
   {
    "duration": 46,
    "start_time": "2022-02-15T10:07:47.663Z"
   },
   {
    "duration": 1387,
    "start_time": "2022-02-15T10:07:47.711Z"
   },
   {
    "duration": 10,
    "start_time": "2022-02-15T10:07:49.099Z"
   },
   {
    "duration": 7,
    "start_time": "2022-02-15T10:07:49.111Z"
   },
   {
    "duration": 63,
    "start_time": "2022-02-15T10:07:49.119Z"
   },
   {
    "duration": 10,
    "start_time": "2022-02-15T10:07:49.184Z"
   },
   {
    "duration": 5,
    "start_time": "2022-02-15T10:07:49.195Z"
   },
   {
    "duration": 383,
    "start_time": "2022-02-16T08:33:27.783Z"
   },
   {
    "duration": 1076,
    "start_time": "2022-02-16T08:33:43.191Z"
   },
   {
    "duration": 40,
    "start_time": "2022-02-16T08:33:44.269Z"
   },
   {
    "duration": 6,
    "start_time": "2022-02-16T08:33:44.311Z"
   },
   {
    "duration": 6,
    "start_time": "2022-02-16T08:33:44.319Z"
   },
   {
    "duration": 3,
    "start_time": "2022-02-16T08:33:44.327Z"
   },
   {
    "duration": 5,
    "start_time": "2022-02-16T08:33:44.332Z"
   },
   {
    "duration": 8,
    "start_time": "2022-02-16T08:33:44.339Z"
   },
   {
    "duration": 4,
    "start_time": "2022-02-16T08:33:44.350Z"
   },
   {
    "duration": 12,
    "start_time": "2022-02-16T08:33:44.355Z"
   },
   {
    "duration": 7,
    "start_time": "2022-02-16T08:33:44.368Z"
   },
   {
    "duration": 48,
    "start_time": "2022-02-16T08:33:44.376Z"
   },
   {
    "duration": 1507,
    "start_time": "2022-02-16T08:33:44.426Z"
   },
   {
    "duration": 20,
    "start_time": "2022-02-16T08:33:45.934Z"
   },
   {
    "duration": 7,
    "start_time": "2022-02-16T08:33:45.956Z"
   },
   {
    "duration": 53,
    "start_time": "2022-02-16T08:33:45.965Z"
   },
   {
    "duration": 27,
    "start_time": "2022-02-16T08:33:46.020Z"
   },
   {
    "duration": 5,
    "start_time": "2022-02-16T08:33:46.049Z"
   },
   {
    "duration": 1944,
    "start_time": "2022-02-16T08:43:10.896Z"
   },
   {
    "duration": 11489,
    "start_time": "2022-02-16T08:43:26.961Z"
   },
   {
    "duration": 27319,
    "start_time": "2022-02-16T08:43:57.718Z"
   },
   {
    "duration": 1980,
    "start_time": "2022-02-16T08:44:39.801Z"
   },
   {
    "duration": 1947,
    "start_time": "2022-02-16T08:48:24.278Z"
   },
   {
    "duration": 12,
    "start_time": "2022-02-16T09:07:02.698Z"
   },
   {
    "duration": 28,
    "start_time": "2022-02-16T09:14:19.275Z"
   },
   {
    "duration": 12,
    "start_time": "2022-02-16T09:14:23.715Z"
   },
   {
    "duration": 21,
    "start_time": "2022-02-16T09:16:47.096Z"
   },
   {
    "duration": 6,
    "start_time": "2022-02-16T09:20:44.138Z"
   },
   {
    "duration": 965,
    "start_time": "2022-02-16T11:18:38.393Z"
   },
   {
    "duration": 29,
    "start_time": "2022-02-16T11:18:39.541Z"
   },
   {
    "duration": 6,
    "start_time": "2022-02-16T11:18:39.764Z"
   },
   {
    "duration": 6,
    "start_time": "2022-02-16T11:20:32.327Z"
   },
   {
    "duration": 3,
    "start_time": "2022-02-16T11:20:32.706Z"
   },
   {
    "duration": 3,
    "start_time": "2022-02-16T11:20:32.850Z"
   },
   {
    "duration": 3,
    "start_time": "2022-02-16T11:20:39.730Z"
   },
   {
    "duration": 4,
    "start_time": "2022-02-16T11:20:40.701Z"
   },
   {
    "duration": 3,
    "start_time": "2022-02-16T11:20:41.271Z"
   },
   {
    "duration": 4,
    "start_time": "2022-02-16T11:20:41.795Z"
   },
   {
    "duration": 4,
    "start_time": "2022-02-16T11:21:17.090Z"
   },
   {
    "duration": 4,
    "start_time": "2022-02-16T11:22:13.297Z"
   },
   {
    "duration": 43,
    "start_time": "2022-02-16T11:23:16.398Z"
   },
   {
    "duration": 2051,
    "start_time": "2022-02-16T11:49:39.905Z"
   },
   {
    "duration": 12,
    "start_time": "2022-02-16T11:49:41.958Z"
   },
   {
    "duration": 9,
    "start_time": "2022-02-16T11:50:59.648Z"
   },
   {
    "duration": 30,
    "start_time": "2022-02-16T11:51:00.813Z"
   },
   {
    "duration": 12,
    "start_time": "2022-02-16T11:51:02.010Z"
   },
   {
    "duration": 368,
    "start_time": "2022-02-16T12:23:05.990Z"
   },
   {
    "duration": 1395,
    "start_time": "2022-02-16T12:33:13.769Z"
   },
   {
    "duration": 30,
    "start_time": "2022-02-16T12:33:15.167Z"
   },
   {
    "duration": 26,
    "start_time": "2022-02-16T12:33:15.200Z"
   },
   {
    "duration": 359,
    "start_time": "2022-02-16T12:33:15.229Z"
   },
   {
    "duration": 558,
    "start_time": "2022-02-16T12:33:15.033Z"
   },
   {
    "duration": 555,
    "start_time": "2022-02-16T12:33:15.039Z"
   },
   {
    "duration": 554,
    "start_time": "2022-02-16T12:33:15.041Z"
   },
   {
    "duration": 553,
    "start_time": "2022-02-16T12:33:15.043Z"
   },
   {
    "duration": 551,
    "start_time": "2022-02-16T12:33:15.046Z"
   },
   {
    "duration": 551,
    "start_time": "2022-02-16T12:33:15.048Z"
   },
   {
    "duration": 549,
    "start_time": "2022-02-16T12:33:15.050Z"
   },
   {
    "duration": 548,
    "start_time": "2022-02-16T12:33:15.052Z"
   },
   {
    "duration": 547,
    "start_time": "2022-02-16T12:33:15.054Z"
   },
   {
    "duration": 547,
    "start_time": "2022-02-16T12:33:15.056Z"
   },
   {
    "duration": 545,
    "start_time": "2022-02-16T12:33:15.059Z"
   },
   {
    "duration": 544,
    "start_time": "2022-02-16T12:33:15.061Z"
   },
   {
    "duration": 543,
    "start_time": "2022-02-16T12:33:15.063Z"
   },
   {
    "duration": 542,
    "start_time": "2022-02-16T12:33:15.066Z"
   },
   {
    "duration": 536,
    "start_time": "2022-02-16T12:33:15.074Z"
   },
   {
    "duration": 536,
    "start_time": "2022-02-16T12:33:15.076Z"
   },
   {
    "duration": 4,
    "start_time": "2022-02-16T12:35:30.943Z"
   },
   {
    "duration": 42,
    "start_time": "2022-02-16T12:35:30.950Z"
   },
   {
    "duration": 11,
    "start_time": "2022-02-16T12:35:30.995Z"
   },
   {
    "duration": 4900,
    "start_time": "2022-02-16T12:35:31.009Z"
   },
   {
    "duration": 18,
    "start_time": "2022-02-16T12:35:35.912Z"
   },
   {
    "duration": 8,
    "start_time": "2022-02-16T12:35:35.933Z"
   },
   {
    "duration": 22,
    "start_time": "2022-02-16T12:35:35.945Z"
   },
   {
    "duration": 17,
    "start_time": "2022-02-16T12:35:35.970Z"
   },
   {
    "duration": 28,
    "start_time": "2022-02-16T12:35:35.990Z"
   },
   {
    "duration": 12,
    "start_time": "2022-02-16T12:35:36.020Z"
   },
   {
    "duration": 12,
    "start_time": "2022-02-16T12:35:36.035Z"
   },
   {
    "duration": 24,
    "start_time": "2022-02-16T12:35:36.049Z"
   },
   {
    "duration": 76,
    "start_time": "2022-02-16T12:35:36.075Z"
   },
   {
    "duration": 3428,
    "start_time": "2022-02-16T12:35:36.153Z"
   },
   {
    "duration": 21,
    "start_time": "2022-02-16T12:35:39.583Z"
   },
   {
    "duration": 13,
    "start_time": "2022-02-16T12:35:39.622Z"
   },
   {
    "duration": 45,
    "start_time": "2022-02-16T12:35:39.637Z"
   },
   {
    "duration": 55,
    "start_time": "2022-02-16T12:35:39.685Z"
   },
   {
    "duration": 9,
    "start_time": "2022-02-16T12:35:39.744Z"
   },
   {
    "duration": 95,
    "start_time": "2022-02-16T12:35:39.756Z"
   },
   {
    "duration": 86,
    "start_time": "2022-02-16T12:37:16.836Z"
   },
   {
    "duration": 4417,
    "start_time": "2022-02-16T12:37:29.178Z"
   },
   {
    "duration": 4855,
    "start_time": "2022-02-16T12:37:47.514Z"
   },
   {
    "duration": 11,
    "start_time": "2022-02-16T12:42:38.325Z"
   },
   {
    "duration": 6,
    "start_time": "2022-02-16T12:43:07.095Z"
   },
   {
    "duration": 5,
    "start_time": "2022-02-16T12:44:19.023Z"
   },
   {
    "duration": 90,
    "start_time": "2022-02-16T12:44:41.044Z"
   },
   {
    "duration": 1700,
    "start_time": "2022-02-16T12:44:41.137Z"
   },
   {
    "duration": 8,
    "start_time": "2022-02-16T12:44:42.840Z"
   },
   {
    "duration": 15,
    "start_time": "2022-02-16T12:44:42.851Z"
   },
   {
    "duration": 495,
    "start_time": "2022-02-16T12:44:42.869Z"
   },
   {
    "duration": 4758,
    "start_time": "2022-02-16T12:44:43.366Z"
   },
   {
    "duration": 10,
    "start_time": "2022-02-16T12:44:48.127Z"
   },
   {
    "duration": 7,
    "start_time": "2022-02-16T12:44:48.140Z"
   },
   {
    "duration": 5,
    "start_time": "2022-02-16T12:44:48.151Z"
   },
   {
    "duration": 7,
    "start_time": "2022-02-16T12:44:48.159Z"
   },
   {
    "duration": 7,
    "start_time": "2022-02-16T12:44:48.169Z"
   },
   {
    "duration": 48,
    "start_time": "2022-02-16T12:44:48.179Z"
   },
   {
    "duration": 7,
    "start_time": "2022-02-16T12:44:48.230Z"
   },
   {
    "duration": 8,
    "start_time": "2022-02-16T12:44:48.239Z"
   },
   {
    "duration": 103,
    "start_time": "2022-02-16T12:44:48.250Z"
   },
   {
    "duration": 3536,
    "start_time": "2022-02-16T12:44:48.356Z"
   },
   {
    "duration": 35,
    "start_time": "2022-02-16T12:44:51.894Z"
   },
   {
    "duration": 13,
    "start_time": "2022-02-16T12:44:51.932Z"
   },
   {
    "duration": 68,
    "start_time": "2022-02-16T12:44:51.948Z"
   },
   {
    "duration": 25,
    "start_time": "2022-02-16T12:44:52.019Z"
   },
   {
    "duration": 14,
    "start_time": "2022-02-16T12:44:52.047Z"
   },
   {
    "duration": 4963,
    "start_time": "2022-02-16T12:46:39.446Z"
   },
   {
    "duration": 4670,
    "start_time": "2022-02-16T12:47:01.202Z"
   },
   {
    "duration": 519,
    "start_time": "2022-02-16T12:47:27.389Z"
   },
   {
    "duration": 438,
    "start_time": "2022-02-16T12:47:54.521Z"
   },
   {
    "duration": 569,
    "start_time": "2022-02-16T12:49:00.691Z"
   },
   {
    "duration": 506,
    "start_time": "2022-02-16T12:49:08.318Z"
   },
   {
    "duration": 497,
    "start_time": "2022-02-16T12:49:16.109Z"
   },
   {
    "duration": 5087,
    "start_time": "2022-02-16T12:51:41.362Z"
   },
   {
    "duration": 9,
    "start_time": "2022-02-16T12:52:01.126Z"
   },
   {
    "duration": 480,
    "start_time": "2022-02-16T12:57:08.683Z"
   },
   {
    "duration": 506,
    "start_time": "2022-02-16T12:57:25.120Z"
   },
   {
    "duration": 463,
    "start_time": "2022-02-16T12:58:18.824Z"
   },
   {
    "duration": 683,
    "start_time": "2022-02-16T12:58:39.300Z"
   },
   {
    "duration": 479,
    "start_time": "2022-02-16T12:58:50.752Z"
   },
   {
    "duration": 542,
    "start_time": "2022-02-16T12:58:58.685Z"
   },
   {
    "duration": 567,
    "start_time": "2022-02-16T12:59:07.011Z"
   },
   {
    "duration": 530,
    "start_time": "2022-02-16T12:59:18.064Z"
   },
   {
    "duration": 476,
    "start_time": "2022-02-16T13:00:41.618Z"
   },
   {
    "duration": 539,
    "start_time": "2022-02-16T13:00:46.584Z"
   },
   {
    "duration": 87,
    "start_time": "2022-02-16T13:01:00.419Z"
   },
   {
    "duration": 389,
    "start_time": "2022-02-16T13:04:43.036Z"
   },
   {
    "duration": 5,
    "start_time": "2022-02-16T13:05:31.472Z"
   },
   {
    "duration": 9,
    "start_time": "2022-02-16T13:05:37.125Z"
   },
   {
    "duration": 6,
    "start_time": "2022-02-16T13:05:37.746Z"
   },
   {
    "duration": 5,
    "start_time": "2022-02-16T13:05:39.114Z"
   },
   {
    "duration": 7,
    "start_time": "2022-02-16T13:05:40.001Z"
   },
   {
    "duration": 5,
    "start_time": "2022-02-16T13:05:43.665Z"
   },
   {
    "duration": 30,
    "start_time": "2022-02-16T13:05:43.673Z"
   },
   {
    "duration": 9,
    "start_time": "2022-02-16T13:05:43.706Z"
   },
   {
    "duration": 5,
    "start_time": "2022-02-16T13:05:43.717Z"
   },
   {
    "duration": 483,
    "start_time": "2022-02-16T13:05:43.725Z"
   },
   {
    "duration": 539,
    "start_time": "2022-02-16T13:05:44.210Z"
   },
   {
    "duration": 6,
    "start_time": "2022-02-16T13:05:44.752Z"
   },
   {
    "duration": 12,
    "start_time": "2022-02-16T13:05:44.760Z"
   },
   {
    "duration": 18,
    "start_time": "2022-02-16T13:05:44.775Z"
   },
   {
    "duration": 8,
    "start_time": "2022-02-16T13:05:44.795Z"
   },
   {
    "duration": 4,
    "start_time": "2022-02-16T13:05:44.824Z"
   },
   {
    "duration": 8,
    "start_time": "2022-02-16T13:05:44.831Z"
   },
   {
    "duration": 6,
    "start_time": "2022-02-16T13:05:44.843Z"
   },
   {
    "duration": 8,
    "start_time": "2022-02-16T13:05:44.852Z"
   },
   {
    "duration": 8,
    "start_time": "2022-02-16T13:05:44.862Z"
   },
   {
    "duration": 105,
    "start_time": "2022-02-16T13:05:44.872Z"
   },
   {
    "duration": 2989,
    "start_time": "2022-02-16T13:05:44.980Z"
   },
   {
    "duration": 15,
    "start_time": "2022-02-16T13:05:47.972Z"
   },
   {
    "duration": 37,
    "start_time": "2022-02-16T13:05:47.989Z"
   },
   {
    "duration": 39,
    "start_time": "2022-02-16T13:05:48.028Z"
   },
   {
    "duration": 14,
    "start_time": "2022-02-16T13:05:48.069Z"
   },
   {
    "duration": 38,
    "start_time": "2022-02-16T13:05:48.086Z"
   },
   {
    "duration": 5,
    "start_time": "2022-02-16T13:06:28.605Z"
   },
   {
    "duration": 5,
    "start_time": "2022-02-16T13:06:49.529Z"
   },
   {
    "duration": 32,
    "start_time": "2022-02-16T13:06:49.536Z"
   },
   {
    "duration": 9,
    "start_time": "2022-02-16T13:06:49.572Z"
   },
   {
    "duration": 5,
    "start_time": "2022-02-16T13:06:49.584Z"
   },
   {
    "duration": 507,
    "start_time": "2022-02-16T13:06:49.624Z"
   },
   {
    "duration": 542,
    "start_time": "2022-02-16T13:06:50.133Z"
   },
   {
    "duration": 6,
    "start_time": "2022-02-16T13:06:50.679Z"
   },
   {
    "duration": 14,
    "start_time": "2022-02-16T13:06:50.687Z"
   },
   {
    "duration": 22,
    "start_time": "2022-02-16T13:06:50.704Z"
   },
   {
    "duration": 12,
    "start_time": "2022-02-16T13:06:50.729Z"
   },
   {
    "duration": 6,
    "start_time": "2022-02-16T13:06:50.744Z"
   },
   {
    "duration": 8,
    "start_time": "2022-02-16T13:06:50.753Z"
   },
   {
    "duration": 21,
    "start_time": "2022-02-16T13:06:50.764Z"
   },
   {
    "duration": 9,
    "start_time": "2022-02-16T13:06:50.787Z"
   },
   {
    "duration": 27,
    "start_time": "2022-02-16T13:06:50.799Z"
   },
   {
    "duration": 95,
    "start_time": "2022-02-16T13:06:50.828Z"
   },
   {
    "duration": 3086,
    "start_time": "2022-02-16T13:06:50.926Z"
   },
   {
    "duration": 19,
    "start_time": "2022-02-16T13:06:54.015Z"
   },
   {
    "duration": 11,
    "start_time": "2022-02-16T13:06:54.038Z"
   },
   {
    "duration": 41,
    "start_time": "2022-02-16T13:06:54.052Z"
   },
   {
    "duration": 15,
    "start_time": "2022-02-16T13:06:54.123Z"
   },
   {
    "duration": 8,
    "start_time": "2022-02-16T13:06:54.140Z"
   },
   {
    "duration": 6,
    "start_time": "2022-02-16T13:07:51.929Z"
   },
   {
    "duration": 28,
    "start_time": "2022-02-16T13:07:51.941Z"
   },
   {
    "duration": 10,
    "start_time": "2022-02-16T13:07:51.972Z"
   },
   {
    "duration": 38,
    "start_time": "2022-02-16T13:07:51.986Z"
   },
   {
    "duration": 589,
    "start_time": "2022-02-16T13:07:52.028Z"
   },
   {
    "duration": 523,
    "start_time": "2022-02-16T13:07:52.620Z"
   },
   {
    "duration": 5,
    "start_time": "2022-02-16T13:07:53.146Z"
   },
   {
    "duration": 22,
    "start_time": "2022-02-16T13:07:53.154Z"
   },
   {
    "duration": 7,
    "start_time": "2022-02-16T13:07:53.182Z"
   },
   {
    "duration": 35,
    "start_time": "2022-02-16T13:07:53.192Z"
   },
   {
    "duration": 7,
    "start_time": "2022-02-16T13:07:53.230Z"
   },
   {
    "duration": 8,
    "start_time": "2022-02-16T13:07:53.241Z"
   },
   {
    "duration": 10,
    "start_time": "2022-02-16T13:07:53.252Z"
   },
   {
    "duration": 10,
    "start_time": "2022-02-16T13:07:53.264Z"
   },
   {
    "duration": 12,
    "start_time": "2022-02-16T13:07:53.277Z"
   },
   {
    "duration": 71,
    "start_time": "2022-02-16T13:07:53.324Z"
   },
   {
    "duration": 3086,
    "start_time": "2022-02-16T13:07:53.398Z"
   },
   {
    "duration": 12,
    "start_time": "2022-02-16T13:07:56.487Z"
   },
   {
    "duration": 31,
    "start_time": "2022-02-16T13:07:56.502Z"
   },
   {
    "duration": 38,
    "start_time": "2022-02-16T13:07:56.536Z"
   },
   {
    "duration": 13,
    "start_time": "2022-02-16T13:07:56.577Z"
   },
   {
    "duration": 7,
    "start_time": "2022-02-16T13:07:56.624Z"
   },
   {
    "duration": 94,
    "start_time": "2022-02-16T13:10:11.168Z"
   },
   {
    "duration": 89,
    "start_time": "2022-02-16T13:15:52.876Z"
   }
  ],
  "kernelspec": {
   "display_name": "Python 3 (ipykernel)",
   "language": "python",
   "name": "python3"
  },
  "language_info": {
   "codemirror_mode": {
    "name": "ipython",
    "version": 3
   },
   "file_extension": ".py",
   "mimetype": "text/x-python",
   "name": "python",
   "nbconvert_exporter": "python",
   "pygments_lexer": "ipython3",
   "version": "3.9.5"
  },
  "toc": {
   "base_numbering": 1,
   "nav_menu": {},
   "number_sections": true,
   "sideBar": true,
   "skip_h1_title": true,
   "title_cell": "Table of Contents",
   "title_sidebar": "Contents",
   "toc_cell": false,
   "toc_position": {},
   "toc_section_display": true,
   "toc_window_display": false
  }
 },
 "nbformat": 4,
 "nbformat_minor": 2
}
