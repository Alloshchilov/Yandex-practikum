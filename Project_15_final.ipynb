{
 "cells": [
  {
   "cell_type": "markdown",
   "metadata": {},
   "source": [
    "Оператор связи «Ниединогоразрыва.ком» хочет научиться прогнозировать отток клиентов. Если выяснится, что пользователь планирует уйти, ему будут предложены промокоды и специальные условия. Команда оператора собрала персональные данные о некоторых клиентах, информацию об их тарифах и договорах.\n",
    "\n",
    "#### Описание услуг: \n",
    "Оператор предоставляет два основных типа услуг: \n",
    "\n",
    "- Стационарную телефонную связь. Возможно подключение телефонного аппарата к нескольким линиям одновременно.\n",
    "- Интернет: Подключение может быть двух типов: через телефонную линию (DSL, от англ. digital subscriber line, «цифровая абонентская линия») или оптоволоконный кабель (Fiber optic).  \n",
    "\n",
    "Также доступны дополнительные услуги услуги:\n",
    "\n",
    "- Интернет-безопасность: антивирус (DeviceProtection) и блокировка небезопасных сайтов (OnlineSecurity);\n",
    "- Выделенная линия технической поддержки (TechSupport);\n",
    "- Облачное хранилище файлов для резервного копирования данных (OnlineBackup);\n",
    "- Стриминговое телевидение (StreamingTV) и каталог фильмов (StreamingMovies).\n",
    "\n",
    "\n",
    "За услуги клиенты могут платить каждый месяц или заключить договор на 1–2 года. Доступны различные способы расчёта и возможность получения электронного чека.\n",
    "\n",
    "#### Описание данных:\n",
    "Данные состоят из файлов, полученных из разных источников:\n",
    "\n",
    "- contract.csv — информация о договоре;\n",
    "- personal.csv — персональные данные клиента;\n",
    "- internet.csv — информация об интернет-услугах;\n",
    "- phone.csv — информация об услугах телефонии.\n",
    "\n",
    "#### Описание полей данных:\n",
    "- BeginDate – дата начала пользования услугами.\n",
    "- EndDate – дата окончания пользования услугами.\n",
    "- Type – тип оплаты: ежемесячный, годовой, двухгодовой.\n",
    "- PaperlessBilling – безналичный расчет.\n",
    "- PaymentMethod – способ оплаты.\n",
    "- MonthlyCharges – ежемесячные траты на услуги.\n",
    "- TotalCharges – всего потрачено денег на услуги.\n",
    "- Dependents – наличие иждивенцев.\n",
    "- Senior Citizen – наличие пенсионного статуса по возрасту.\n",
    "- Partner – наличие супруга(и).\n",
    "- MultipleLines – наличие возможности ведения параллельных линий во время звонка.\n",
    "\n",
    "Во всех файлах столбец customerID содержит код клиента.\n",
    "Информация о договорах актуальна на 1 февраля 2020.\n",
    "\n",
    "#### План работы:\n",
    "\n",
    "- Изучение полученных данных.\n",
    "- Предобработка данных.\n",
    "- Исследовательский анализ данных.\n",
    "- Подготовка данных к расчету модели.\n",
    "- Моделирование.\n",
    "- Тестирование моделей.\n",
    "- Общий вывод.\n",
    "- Отчет."
   ]
  },
  {
   "cell_type": "markdown",
   "metadata": {},
   "source": [
    "**Шаг 1: Загрузка и  первичный анализ данных:**"
   ]
  },
  {
   "cell_type": "code",
   "execution_count": 130,
   "metadata": {},
   "outputs": [],
   "source": [
    "# импортируем необходимые библиотеки\n",
    "import pandas as pd\n",
    "import numpy as np\n",
    "import matplotlib.pyplot as plt\n",
    "import seaborn as sns\n",
    "import plotly.express as px\n",
    "from sklearn.metrics import roc_curve\n",
    "from sklearn.model_selection import train_test_split\n",
    "from sklearn.metrics import accuracy_score\n",
    "from sklearn.model_selection import GridSearchCV\n",
    "from sklearn.tree import DecisionTreeClassifier\n",
    "from sklearn.linear_model import LogisticRegression\n",
    "from sklearn.ensemble import RandomForestClassifier\n",
    "from catboost import CatBoostClassifier\n",
    "from lightgbm import LGBMClassifier\n",
    "from sklearn.preprocessing import StandardScaler\n",
    "from sklearn.metrics import f1_score\n",
    "from sklearn.utils import shuffle\n",
    "from sklearn.metrics import precision_score, recall_score, roc_auc_score"
   ]
  },
  {
   "cell_type": "code",
   "execution_count": 131,
   "metadata": {},
   "outputs": [],
   "source": [
    "# Импортируем данные о договорах\n",
    "try:\n",
    "    contract = pd.read_csv('/datasets/final_provider/contract.csv') \n",
    "except:\n",
    "    print('Ошибка. Проверьте правильность пути к данным о контактах')"
   ]
  },
  {
   "cell_type": "code",
   "execution_count": 132,
   "metadata": {},
   "outputs": [
    {
     "data": {
      "text/html": [
       "<div>\n",
       "<style scoped>\n",
       "    .dataframe tbody tr th:only-of-type {\n",
       "        vertical-align: middle;\n",
       "    }\n",
       "\n",
       "    .dataframe tbody tr th {\n",
       "        vertical-align: top;\n",
       "    }\n",
       "\n",
       "    .dataframe thead th {\n",
       "        text-align: right;\n",
       "    }\n",
       "</style>\n",
       "<table border=\"1\" class=\"dataframe\">\n",
       "  <thead>\n",
       "    <tr style=\"text-align: right;\">\n",
       "      <th></th>\n",
       "      <th>customerID</th>\n",
       "      <th>BeginDate</th>\n",
       "      <th>EndDate</th>\n",
       "      <th>Type</th>\n",
       "      <th>PaperlessBilling</th>\n",
       "      <th>PaymentMethod</th>\n",
       "      <th>MonthlyCharges</th>\n",
       "      <th>TotalCharges</th>\n",
       "    </tr>\n",
       "  </thead>\n",
       "  <tbody>\n",
       "    <tr>\n",
       "      <th>0</th>\n",
       "      <td>7590-VHVEG</td>\n",
       "      <td>2020-01-01</td>\n",
       "      <td>No</td>\n",
       "      <td>Month-to-month</td>\n",
       "      <td>Yes</td>\n",
       "      <td>Electronic check</td>\n",
       "      <td>29.85</td>\n",
       "      <td>29.85</td>\n",
       "    </tr>\n",
       "    <tr>\n",
       "      <th>1</th>\n",
       "      <td>5575-GNVDE</td>\n",
       "      <td>2017-04-01</td>\n",
       "      <td>No</td>\n",
       "      <td>One year</td>\n",
       "      <td>No</td>\n",
       "      <td>Mailed check</td>\n",
       "      <td>56.95</td>\n",
       "      <td>1889.5</td>\n",
       "    </tr>\n",
       "    <tr>\n",
       "      <th>2</th>\n",
       "      <td>3668-QPYBK</td>\n",
       "      <td>2019-10-01</td>\n",
       "      <td>2019-12-01 00:00:00</td>\n",
       "      <td>Month-to-month</td>\n",
       "      <td>Yes</td>\n",
       "      <td>Mailed check</td>\n",
       "      <td>53.85</td>\n",
       "      <td>108.15</td>\n",
       "    </tr>\n",
       "    <tr>\n",
       "      <th>3</th>\n",
       "      <td>7795-CFOCW</td>\n",
       "      <td>2016-05-01</td>\n",
       "      <td>No</td>\n",
       "      <td>One year</td>\n",
       "      <td>No</td>\n",
       "      <td>Bank transfer (automatic)</td>\n",
       "      <td>42.30</td>\n",
       "      <td>1840.75</td>\n",
       "    </tr>\n",
       "    <tr>\n",
       "      <th>4</th>\n",
       "      <td>9237-HQITU</td>\n",
       "      <td>2019-09-01</td>\n",
       "      <td>2019-11-01 00:00:00</td>\n",
       "      <td>Month-to-month</td>\n",
       "      <td>Yes</td>\n",
       "      <td>Electronic check</td>\n",
       "      <td>70.70</td>\n",
       "      <td>151.65</td>\n",
       "    </tr>\n",
       "  </tbody>\n",
       "</table>\n",
       "</div>"
      ],
      "text/plain": [
       "   customerID   BeginDate              EndDate            Type  \\\n",
       "0  7590-VHVEG  2020-01-01                   No  Month-to-month   \n",
       "1  5575-GNVDE  2017-04-01                   No        One year   \n",
       "2  3668-QPYBK  2019-10-01  2019-12-01 00:00:00  Month-to-month   \n",
       "3  7795-CFOCW  2016-05-01                   No        One year   \n",
       "4  9237-HQITU  2019-09-01  2019-11-01 00:00:00  Month-to-month   \n",
       "\n",
       "  PaperlessBilling              PaymentMethod  MonthlyCharges TotalCharges  \n",
       "0              Yes           Electronic check           29.85        29.85  \n",
       "1               No               Mailed check           56.95       1889.5  \n",
       "2              Yes               Mailed check           53.85       108.15  \n",
       "3               No  Bank transfer (automatic)           42.30      1840.75  \n",
       "4              Yes           Electronic check           70.70       151.65  "
      ]
     },
     "execution_count": 132,
     "metadata": {},
     "output_type": "execute_result"
    }
   ],
   "source": [
    "contract.head()"
   ]
  },
  {
   "cell_type": "code",
   "execution_count": 133,
   "metadata": {},
   "outputs": [
    {
     "name": "stdout",
     "output_type": "stream",
     "text": [
      "<class 'pandas.core.frame.DataFrame'>\n",
      "RangeIndex: 7043 entries, 0 to 7042\n",
      "Data columns (total 8 columns):\n",
      " #   Column            Non-Null Count  Dtype  \n",
      "---  ------            --------------  -----  \n",
      " 0   customerID        7043 non-null   object \n",
      " 1   BeginDate         7043 non-null   object \n",
      " 2   EndDate           7043 non-null   object \n",
      " 3   Type              7043 non-null   object \n",
      " 4   PaperlessBilling  7043 non-null   object \n",
      " 5   PaymentMethod     7043 non-null   object \n",
      " 6   MonthlyCharges    7043 non-null   float64\n",
      " 7   TotalCharges      7043 non-null   object \n",
      "dtypes: float64(1), object(7)\n",
      "memory usage: 440.3+ KB\n"
     ]
    }
   ],
   "source": [
    "contract.info()"
   ]
  },
  {
   "cell_type": "code",
   "execution_count": 134,
   "metadata": {},
   "outputs": [
    {
     "data": {
      "text/html": [
       "<div>\n",
       "<style scoped>\n",
       "    .dataframe tbody tr th:only-of-type {\n",
       "        vertical-align: middle;\n",
       "    }\n",
       "\n",
       "    .dataframe tbody tr th {\n",
       "        vertical-align: top;\n",
       "    }\n",
       "\n",
       "    .dataframe thead th {\n",
       "        text-align: right;\n",
       "    }\n",
       "</style>\n",
       "<table border=\"1\" class=\"dataframe\">\n",
       "  <thead>\n",
       "    <tr style=\"text-align: right;\">\n",
       "      <th></th>\n",
       "      <th>MonthlyCharges</th>\n",
       "    </tr>\n",
       "  </thead>\n",
       "  <tbody>\n",
       "    <tr>\n",
       "      <th>count</th>\n",
       "      <td>7043.000000</td>\n",
       "    </tr>\n",
       "    <tr>\n",
       "      <th>mean</th>\n",
       "      <td>64.761692</td>\n",
       "    </tr>\n",
       "    <tr>\n",
       "      <th>std</th>\n",
       "      <td>30.090047</td>\n",
       "    </tr>\n",
       "    <tr>\n",
       "      <th>min</th>\n",
       "      <td>18.250000</td>\n",
       "    </tr>\n",
       "    <tr>\n",
       "      <th>25%</th>\n",
       "      <td>35.500000</td>\n",
       "    </tr>\n",
       "    <tr>\n",
       "      <th>50%</th>\n",
       "      <td>70.350000</td>\n",
       "    </tr>\n",
       "    <tr>\n",
       "      <th>75%</th>\n",
       "      <td>89.850000</td>\n",
       "    </tr>\n",
       "    <tr>\n",
       "      <th>max</th>\n",
       "      <td>118.750000</td>\n",
       "    </tr>\n",
       "  </tbody>\n",
       "</table>\n",
       "</div>"
      ],
      "text/plain": [
       "       MonthlyCharges\n",
       "count     7043.000000\n",
       "mean        64.761692\n",
       "std         30.090047\n",
       "min         18.250000\n",
       "25%         35.500000\n",
       "50%         70.350000\n",
       "75%         89.850000\n",
       "max        118.750000"
      ]
     },
     "execution_count": 134,
     "metadata": {},
     "output_type": "execute_result"
    }
   ],
   "source": [
    "contract.describe()"
   ]
  },
  {
   "cell_type": "code",
   "execution_count": 135,
   "metadata": {},
   "outputs": [
    {
     "data": {
      "text/html": [
       "<style  type=\"text/css\" >\n",
       "#T_f7591_row0_col0,#T_f7591_row1_col0,#T_f7591_row2_col0,#T_f7591_row3_col0,#T_f7591_row4_col0,#T_f7591_row5_col0,#T_f7591_row6_col0,#T_f7591_row7_col0{\n",
       "            background-color:  #3b4cc0;\n",
       "            color:  #f1f1f1;\n",
       "        }</style><table id=\"T_f7591_\" ><thead>    <tr>        <th class=\"blank level0\" ></th>        <th class=\"col_heading level0 col0\" >0</th>    </tr></thead><tbody>\n",
       "                <tr>\n",
       "                        <th id=\"T_f7591_level0_row0\" class=\"row_heading level0 row0\" >customerID</th>\n",
       "                        <td id=\"T_f7591_row0_col0\" class=\"data row0 col0\" >0.000000</td>\n",
       "            </tr>\n",
       "            <tr>\n",
       "                        <th id=\"T_f7591_level0_row1\" class=\"row_heading level0 row1\" >BeginDate</th>\n",
       "                        <td id=\"T_f7591_row1_col0\" class=\"data row1 col0\" >0.000000</td>\n",
       "            </tr>\n",
       "            <tr>\n",
       "                        <th id=\"T_f7591_level0_row2\" class=\"row_heading level0 row2\" >EndDate</th>\n",
       "                        <td id=\"T_f7591_row2_col0\" class=\"data row2 col0\" >0.000000</td>\n",
       "            </tr>\n",
       "            <tr>\n",
       "                        <th id=\"T_f7591_level0_row3\" class=\"row_heading level0 row3\" >Type</th>\n",
       "                        <td id=\"T_f7591_row3_col0\" class=\"data row3 col0\" >0.000000</td>\n",
       "            </tr>\n",
       "            <tr>\n",
       "                        <th id=\"T_f7591_level0_row4\" class=\"row_heading level0 row4\" >PaperlessBilling</th>\n",
       "                        <td id=\"T_f7591_row4_col0\" class=\"data row4 col0\" >0.000000</td>\n",
       "            </tr>\n",
       "            <tr>\n",
       "                        <th id=\"T_f7591_level0_row5\" class=\"row_heading level0 row5\" >PaymentMethod</th>\n",
       "                        <td id=\"T_f7591_row5_col0\" class=\"data row5 col0\" >0.000000</td>\n",
       "            </tr>\n",
       "            <tr>\n",
       "                        <th id=\"T_f7591_level0_row6\" class=\"row_heading level0 row6\" >MonthlyCharges</th>\n",
       "                        <td id=\"T_f7591_row6_col0\" class=\"data row6 col0\" >0.000000</td>\n",
       "            </tr>\n",
       "            <tr>\n",
       "                        <th id=\"T_f7591_level0_row7\" class=\"row_heading level0 row7\" >TotalCharges</th>\n",
       "                        <td id=\"T_f7591_row7_col0\" class=\"data row7 col0\" >0.000000</td>\n",
       "            </tr>\n",
       "    </tbody></table>"
      ],
      "text/plain": [
       "<pandas.io.formats.style.Styler at 0x7fa77525de80>"
      ]
     },
     "execution_count": 135,
     "metadata": {},
     "output_type": "execute_result"
    }
   ],
   "source": [
    "#Посмортим на процент пропусков\n",
    "pd.DataFrame(round((contract.isna().mean()*100),2)).style.background_gradient('coolwarm')"
   ]
  },
  {
   "cell_type": "code",
   "execution_count": 136,
   "metadata": {},
   "outputs": [
    {
     "data": {
      "text/plain": [
       "False    7043\n",
       "dtype: int64"
      ]
     },
     "execution_count": 136,
     "metadata": {},
     "output_type": "execute_result"
    }
   ],
   "source": [
    "contract.duplicated().value_counts()"
   ]
  },
  {
   "cell_type": "markdown",
   "metadata": {},
   "source": [
    "Пропусков и дубликатов в данных о договорах нет. Столбцы о платежах содержат разные типы данных, скорее всего в дальнейшем их нужно привести к одному типу."
   ]
  },
  {
   "cell_type": "code",
   "execution_count": 137,
   "metadata": {},
   "outputs": [],
   "source": [
    "# Импортируем данные о клиентах\n",
    "try:\n",
    "    personal = pd.read_csv('/datasets/final_provider/personal.csv') \n",
    "except:\n",
    "    print('Ошибка. Проверьте правильность пути к данным о пользователях')"
   ]
  },
  {
   "cell_type": "code",
   "execution_count": 138,
   "metadata": {},
   "outputs": [
    {
     "data": {
      "text/html": [
       "<div>\n",
       "<style scoped>\n",
       "    .dataframe tbody tr th:only-of-type {\n",
       "        vertical-align: middle;\n",
       "    }\n",
       "\n",
       "    .dataframe tbody tr th {\n",
       "        vertical-align: top;\n",
       "    }\n",
       "\n",
       "    .dataframe thead th {\n",
       "        text-align: right;\n",
       "    }\n",
       "</style>\n",
       "<table border=\"1\" class=\"dataframe\">\n",
       "  <thead>\n",
       "    <tr style=\"text-align: right;\">\n",
       "      <th></th>\n",
       "      <th>customerID</th>\n",
       "      <th>gender</th>\n",
       "      <th>SeniorCitizen</th>\n",
       "      <th>Partner</th>\n",
       "      <th>Dependents</th>\n",
       "    </tr>\n",
       "  </thead>\n",
       "  <tbody>\n",
       "    <tr>\n",
       "      <th>0</th>\n",
       "      <td>7590-VHVEG</td>\n",
       "      <td>Female</td>\n",
       "      <td>0</td>\n",
       "      <td>Yes</td>\n",
       "      <td>No</td>\n",
       "    </tr>\n",
       "    <tr>\n",
       "      <th>1</th>\n",
       "      <td>5575-GNVDE</td>\n",
       "      <td>Male</td>\n",
       "      <td>0</td>\n",
       "      <td>No</td>\n",
       "      <td>No</td>\n",
       "    </tr>\n",
       "    <tr>\n",
       "      <th>2</th>\n",
       "      <td>3668-QPYBK</td>\n",
       "      <td>Male</td>\n",
       "      <td>0</td>\n",
       "      <td>No</td>\n",
       "      <td>No</td>\n",
       "    </tr>\n",
       "    <tr>\n",
       "      <th>3</th>\n",
       "      <td>7795-CFOCW</td>\n",
       "      <td>Male</td>\n",
       "      <td>0</td>\n",
       "      <td>No</td>\n",
       "      <td>No</td>\n",
       "    </tr>\n",
       "    <tr>\n",
       "      <th>4</th>\n",
       "      <td>9237-HQITU</td>\n",
       "      <td>Female</td>\n",
       "      <td>0</td>\n",
       "      <td>No</td>\n",
       "      <td>No</td>\n",
       "    </tr>\n",
       "  </tbody>\n",
       "</table>\n",
       "</div>"
      ],
      "text/plain": [
       "   customerID  gender  SeniorCitizen Partner Dependents\n",
       "0  7590-VHVEG  Female              0     Yes         No\n",
       "1  5575-GNVDE    Male              0      No         No\n",
       "2  3668-QPYBK    Male              0      No         No\n",
       "3  7795-CFOCW    Male              0      No         No\n",
       "4  9237-HQITU  Female              0      No         No"
      ]
     },
     "execution_count": 138,
     "metadata": {},
     "output_type": "execute_result"
    }
   ],
   "source": [
    "personal.head()"
   ]
  },
  {
   "cell_type": "code",
   "execution_count": 139,
   "metadata": {},
   "outputs": [
    {
     "name": "stdout",
     "output_type": "stream",
     "text": [
      "<class 'pandas.core.frame.DataFrame'>\n",
      "RangeIndex: 7043 entries, 0 to 7042\n",
      "Data columns (total 5 columns):\n",
      " #   Column         Non-Null Count  Dtype \n",
      "---  ------         --------------  ----- \n",
      " 0   customerID     7043 non-null   object\n",
      " 1   gender         7043 non-null   object\n",
      " 2   SeniorCitizen  7043 non-null   int64 \n",
      " 3   Partner        7043 non-null   object\n",
      " 4   Dependents     7043 non-null   object\n",
      "dtypes: int64(1), object(4)\n",
      "memory usage: 275.2+ KB\n"
     ]
    }
   ],
   "source": [
    "personal.info()"
   ]
  },
  {
   "cell_type": "code",
   "execution_count": 140,
   "metadata": {},
   "outputs": [
    {
     "data": {
      "text/html": [
       "<style  type=\"text/css\" >\n",
       "#T_ed3df_row0_col0,#T_ed3df_row1_col0,#T_ed3df_row2_col0,#T_ed3df_row3_col0,#T_ed3df_row4_col0{\n",
       "            background-color:  #3b4cc0;\n",
       "            color:  #f1f1f1;\n",
       "        }</style><table id=\"T_ed3df_\" ><thead>    <tr>        <th class=\"blank level0\" ></th>        <th class=\"col_heading level0 col0\" >0</th>    </tr></thead><tbody>\n",
       "                <tr>\n",
       "                        <th id=\"T_ed3df_level0_row0\" class=\"row_heading level0 row0\" >customerID</th>\n",
       "                        <td id=\"T_ed3df_row0_col0\" class=\"data row0 col0\" >0.000000</td>\n",
       "            </tr>\n",
       "            <tr>\n",
       "                        <th id=\"T_ed3df_level0_row1\" class=\"row_heading level0 row1\" >gender</th>\n",
       "                        <td id=\"T_ed3df_row1_col0\" class=\"data row1 col0\" >0.000000</td>\n",
       "            </tr>\n",
       "            <tr>\n",
       "                        <th id=\"T_ed3df_level0_row2\" class=\"row_heading level0 row2\" >SeniorCitizen</th>\n",
       "                        <td id=\"T_ed3df_row2_col0\" class=\"data row2 col0\" >0.000000</td>\n",
       "            </tr>\n",
       "            <tr>\n",
       "                        <th id=\"T_ed3df_level0_row3\" class=\"row_heading level0 row3\" >Partner</th>\n",
       "                        <td id=\"T_ed3df_row3_col0\" class=\"data row3 col0\" >0.000000</td>\n",
       "            </tr>\n",
       "            <tr>\n",
       "                        <th id=\"T_ed3df_level0_row4\" class=\"row_heading level0 row4\" >Dependents</th>\n",
       "                        <td id=\"T_ed3df_row4_col0\" class=\"data row4 col0\" >0.000000</td>\n",
       "            </tr>\n",
       "    </tbody></table>"
      ],
      "text/plain": [
       "<pandas.io.formats.style.Styler at 0x7fa768c49c40>"
      ]
     },
     "execution_count": 140,
     "metadata": {},
     "output_type": "execute_result"
    }
   ],
   "source": [
    "#Посмортим на процент пропусков\n",
    "pd.DataFrame(round((personal.isna().mean()*100),2)).style.background_gradient('coolwarm')"
   ]
  },
  {
   "cell_type": "code",
   "execution_count": 141,
   "metadata": {},
   "outputs": [
    {
     "data": {
      "text/plain": [
       "False    7043\n",
       "dtype: int64"
      ]
     },
     "execution_count": 141,
     "metadata": {},
     "output_type": "execute_result"
    }
   ],
   "source": [
    "personal.duplicated().value_counts()"
   ]
  },
  {
   "cell_type": "markdown",
   "metadata": {},
   "source": [
    "В данных о клиентах пропусков и дубликатов так-же нет. Типы данних соответствуют содержанию."
   ]
  },
  {
   "cell_type": "code",
   "execution_count": 142,
   "metadata": {},
   "outputs": [],
   "source": [
    "# Импортируем данные об интернет-услугах\n",
    "try:\n",
    "    internet = pd.read_csv('/datasets/final_provider/internet.csv') \n",
    "except:\n",
    "    print('Ошибка. Проверьте правильность пути к данным об итернет услугах')"
   ]
  },
  {
   "cell_type": "code",
   "execution_count": 143,
   "metadata": {},
   "outputs": [
    {
     "data": {
      "text/html": [
       "<div>\n",
       "<style scoped>\n",
       "    .dataframe tbody tr th:only-of-type {\n",
       "        vertical-align: middle;\n",
       "    }\n",
       "\n",
       "    .dataframe tbody tr th {\n",
       "        vertical-align: top;\n",
       "    }\n",
       "\n",
       "    .dataframe thead th {\n",
       "        text-align: right;\n",
       "    }\n",
       "</style>\n",
       "<table border=\"1\" class=\"dataframe\">\n",
       "  <thead>\n",
       "    <tr style=\"text-align: right;\">\n",
       "      <th></th>\n",
       "      <th>customerID</th>\n",
       "      <th>InternetService</th>\n",
       "      <th>OnlineSecurity</th>\n",
       "      <th>OnlineBackup</th>\n",
       "      <th>DeviceProtection</th>\n",
       "      <th>TechSupport</th>\n",
       "      <th>StreamingTV</th>\n",
       "      <th>StreamingMovies</th>\n",
       "    </tr>\n",
       "  </thead>\n",
       "  <tbody>\n",
       "    <tr>\n",
       "      <th>0</th>\n",
       "      <td>7590-VHVEG</td>\n",
       "      <td>DSL</td>\n",
       "      <td>No</td>\n",
       "      <td>Yes</td>\n",
       "      <td>No</td>\n",
       "      <td>No</td>\n",
       "      <td>No</td>\n",
       "      <td>No</td>\n",
       "    </tr>\n",
       "    <tr>\n",
       "      <th>1</th>\n",
       "      <td>5575-GNVDE</td>\n",
       "      <td>DSL</td>\n",
       "      <td>Yes</td>\n",
       "      <td>No</td>\n",
       "      <td>Yes</td>\n",
       "      <td>No</td>\n",
       "      <td>No</td>\n",
       "      <td>No</td>\n",
       "    </tr>\n",
       "    <tr>\n",
       "      <th>2</th>\n",
       "      <td>3668-QPYBK</td>\n",
       "      <td>DSL</td>\n",
       "      <td>Yes</td>\n",
       "      <td>Yes</td>\n",
       "      <td>No</td>\n",
       "      <td>No</td>\n",
       "      <td>No</td>\n",
       "      <td>No</td>\n",
       "    </tr>\n",
       "    <tr>\n",
       "      <th>3</th>\n",
       "      <td>7795-CFOCW</td>\n",
       "      <td>DSL</td>\n",
       "      <td>Yes</td>\n",
       "      <td>No</td>\n",
       "      <td>Yes</td>\n",
       "      <td>Yes</td>\n",
       "      <td>No</td>\n",
       "      <td>No</td>\n",
       "    </tr>\n",
       "    <tr>\n",
       "      <th>4</th>\n",
       "      <td>9237-HQITU</td>\n",
       "      <td>Fiber optic</td>\n",
       "      <td>No</td>\n",
       "      <td>No</td>\n",
       "      <td>No</td>\n",
       "      <td>No</td>\n",
       "      <td>No</td>\n",
       "      <td>No</td>\n",
       "    </tr>\n",
       "  </tbody>\n",
       "</table>\n",
       "</div>"
      ],
      "text/plain": [
       "   customerID InternetService OnlineSecurity OnlineBackup DeviceProtection  \\\n",
       "0  7590-VHVEG             DSL             No          Yes               No   \n",
       "1  5575-GNVDE             DSL            Yes           No              Yes   \n",
       "2  3668-QPYBK             DSL            Yes          Yes               No   \n",
       "3  7795-CFOCW             DSL            Yes           No              Yes   \n",
       "4  9237-HQITU     Fiber optic             No           No               No   \n",
       "\n",
       "  TechSupport StreamingTV StreamingMovies  \n",
       "0          No          No              No  \n",
       "1          No          No              No  \n",
       "2          No          No              No  \n",
       "3         Yes          No              No  \n",
       "4          No          No              No  "
      ]
     },
     "execution_count": 143,
     "metadata": {},
     "output_type": "execute_result"
    }
   ],
   "source": [
    "internet.head()"
   ]
  },
  {
   "cell_type": "code",
   "execution_count": 144,
   "metadata": {},
   "outputs": [
    {
     "name": "stdout",
     "output_type": "stream",
     "text": [
      "<class 'pandas.core.frame.DataFrame'>\n",
      "RangeIndex: 5517 entries, 0 to 5516\n",
      "Data columns (total 8 columns):\n",
      " #   Column            Non-Null Count  Dtype \n",
      "---  ------            --------------  ----- \n",
      " 0   customerID        5517 non-null   object\n",
      " 1   InternetService   5517 non-null   object\n",
      " 2   OnlineSecurity    5517 non-null   object\n",
      " 3   OnlineBackup      5517 non-null   object\n",
      " 4   DeviceProtection  5517 non-null   object\n",
      " 5   TechSupport       5517 non-null   object\n",
      " 6   StreamingTV       5517 non-null   object\n",
      " 7   StreamingMovies   5517 non-null   object\n",
      "dtypes: object(8)\n",
      "memory usage: 344.9+ KB\n"
     ]
    }
   ],
   "source": [
    "internet.info()"
   ]
  },
  {
   "cell_type": "code",
   "execution_count": 145,
   "metadata": {},
   "outputs": [
    {
     "data": {
      "text/html": [
       "<style  type=\"text/css\" >\n",
       "#T_9044f_row0_col0,#T_9044f_row1_col0,#T_9044f_row2_col0,#T_9044f_row3_col0,#T_9044f_row4_col0,#T_9044f_row5_col0,#T_9044f_row6_col0,#T_9044f_row7_col0{\n",
       "            background-color:  #3b4cc0;\n",
       "            color:  #f1f1f1;\n",
       "        }</style><table id=\"T_9044f_\" ><thead>    <tr>        <th class=\"blank level0\" ></th>        <th class=\"col_heading level0 col0\" >0</th>    </tr></thead><tbody>\n",
       "                <tr>\n",
       "                        <th id=\"T_9044f_level0_row0\" class=\"row_heading level0 row0\" >customerID</th>\n",
       "                        <td id=\"T_9044f_row0_col0\" class=\"data row0 col0\" >0.000000</td>\n",
       "            </tr>\n",
       "            <tr>\n",
       "                        <th id=\"T_9044f_level0_row1\" class=\"row_heading level0 row1\" >InternetService</th>\n",
       "                        <td id=\"T_9044f_row1_col0\" class=\"data row1 col0\" >0.000000</td>\n",
       "            </tr>\n",
       "            <tr>\n",
       "                        <th id=\"T_9044f_level0_row2\" class=\"row_heading level0 row2\" >OnlineSecurity</th>\n",
       "                        <td id=\"T_9044f_row2_col0\" class=\"data row2 col0\" >0.000000</td>\n",
       "            </tr>\n",
       "            <tr>\n",
       "                        <th id=\"T_9044f_level0_row3\" class=\"row_heading level0 row3\" >OnlineBackup</th>\n",
       "                        <td id=\"T_9044f_row3_col0\" class=\"data row3 col0\" >0.000000</td>\n",
       "            </tr>\n",
       "            <tr>\n",
       "                        <th id=\"T_9044f_level0_row4\" class=\"row_heading level0 row4\" >DeviceProtection</th>\n",
       "                        <td id=\"T_9044f_row4_col0\" class=\"data row4 col0\" >0.000000</td>\n",
       "            </tr>\n",
       "            <tr>\n",
       "                        <th id=\"T_9044f_level0_row5\" class=\"row_heading level0 row5\" >TechSupport</th>\n",
       "                        <td id=\"T_9044f_row5_col0\" class=\"data row5 col0\" >0.000000</td>\n",
       "            </tr>\n",
       "            <tr>\n",
       "                        <th id=\"T_9044f_level0_row6\" class=\"row_heading level0 row6\" >StreamingTV</th>\n",
       "                        <td id=\"T_9044f_row6_col0\" class=\"data row6 col0\" >0.000000</td>\n",
       "            </tr>\n",
       "            <tr>\n",
       "                        <th id=\"T_9044f_level0_row7\" class=\"row_heading level0 row7\" >StreamingMovies</th>\n",
       "                        <td id=\"T_9044f_row7_col0\" class=\"data row7 col0\" >0.000000</td>\n",
       "            </tr>\n",
       "    </tbody></table>"
      ],
      "text/plain": [
       "<pandas.io.formats.style.Styler at 0x7fa77525d8b0>"
      ]
     },
     "execution_count": 145,
     "metadata": {},
     "output_type": "execute_result"
    }
   ],
   "source": [
    "#Посмортим на процент пропусков\n",
    "pd.DataFrame(round((internet.isna().mean()*100),2)).style.background_gradient('coolwarm')"
   ]
  },
  {
   "cell_type": "code",
   "execution_count": 146,
   "metadata": {},
   "outputs": [
    {
     "data": {
      "text/plain": [
       "False    5517\n",
       "dtype: int64"
      ]
     },
     "execution_count": 146,
     "metadata": {},
     "output_type": "execute_result"
    }
   ],
   "source": [
    "internet.duplicated().value_counts()"
   ]
  },
  {
   "cell_type": "markdown",
   "metadata": {},
   "source": [
    "В таблище с данными об интернет-услугах меньше записей, чем в предыдуших. Скорее-всего это связано с тем, что не все клиенты пользуются данными услугами. Пропусков и дубликатов в данных нет."
   ]
  },
  {
   "cell_type": "code",
   "execution_count": 147,
   "metadata": {},
   "outputs": [],
   "source": [
    "# Импортируем данные об услугах телефонии\n",
    "try:\n",
    "    phone = pd.read_csv('/datasets/final_provider/phone.csv') \n",
    "except:\n",
    "    print('Ошибка. Проверьте правильность пути к данным об услугах телефонии')"
   ]
  },
  {
   "cell_type": "code",
   "execution_count": 148,
   "metadata": {},
   "outputs": [
    {
     "data": {
      "text/html": [
       "<style  type=\"text/css\" >\n",
       "#T_204a2_row0_col0,#T_204a2_row1_col0{\n",
       "            background-color:  #3b4cc0;\n",
       "            color:  #f1f1f1;\n",
       "        }</style><table id=\"T_204a2_\" ><thead>    <tr>        <th class=\"blank level0\" ></th>        <th class=\"col_heading level0 col0\" >0</th>    </tr></thead><tbody>\n",
       "                <tr>\n",
       "                        <th id=\"T_204a2_level0_row0\" class=\"row_heading level0 row0\" >customerID</th>\n",
       "                        <td id=\"T_204a2_row0_col0\" class=\"data row0 col0\" >0.000000</td>\n",
       "            </tr>\n",
       "            <tr>\n",
       "                        <th id=\"T_204a2_level0_row1\" class=\"row_heading level0 row1\" >MultipleLines</th>\n",
       "                        <td id=\"T_204a2_row1_col0\" class=\"data row1 col0\" >0.000000</td>\n",
       "            </tr>\n",
       "    </tbody></table>"
      ],
      "text/plain": [
       "<pandas.io.formats.style.Styler at 0x7fa768be88b0>"
      ]
     },
     "execution_count": 148,
     "metadata": {},
     "output_type": "execute_result"
    }
   ],
   "source": [
    "#Посмортим на процент пропусков\n",
    "pd.DataFrame(round((phone.isna().mean()*100),2)).style.background_gradient('coolwarm')"
   ]
  },
  {
   "cell_type": "code",
   "execution_count": 149,
   "metadata": {},
   "outputs": [
    {
     "data": {
      "text/plain": [
       "False    6361\n",
       "dtype: int64"
      ]
     },
     "execution_count": 149,
     "metadata": {},
     "output_type": "execute_result"
    }
   ],
   "source": [
    "phone.duplicated().value_counts()"
   ]
  },
  {
   "cell_type": "markdown",
   "metadata": {},
   "source": [
    "В таблице с данными об услугах телефонии так же меньше записей. Причины, скорее всего, те же. Пропусков и дубликатов в данных нет."
   ]
  },
  {
   "cell_type": "markdown",
   "metadata": {},
   "source": [
    "**Вывод:**  Были загружены данные из всех четырех таблиц. Т.к. пропусков и дубликатов данных нет, то мы можем считать, что все customerID являются уникальными и объединим таблицы по данному столбцу для дальнейшего исследования."
   ]
  },
  {
   "cell_type": "markdown",
   "metadata": {},
   "source": [
    "**Шаг 2: Предобработка данныx:**"
   ]
  },
  {
   "cell_type": "markdown",
   "metadata": {},
   "source": [
    "Объединим все таблицы в одну:"
   ]
  },
  {
   "cell_type": "code",
   "execution_count": 150,
   "metadata": {},
   "outputs": [],
   "source": [
    "df_all = contract.merge(personal, how='left', on='customerID')\n",
    "df_all = df_all.merge(internet, how='left', on='customerID')\n",
    "df_all = df_all.merge(phone, how='left', on='customerID')"
   ]
  },
  {
   "cell_type": "code",
   "execution_count": 151,
   "metadata": {},
   "outputs": [
    {
     "data": {
      "text/html": [
       "<div>\n",
       "<style scoped>\n",
       "    .dataframe tbody tr th:only-of-type {\n",
       "        vertical-align: middle;\n",
       "    }\n",
       "\n",
       "    .dataframe tbody tr th {\n",
       "        vertical-align: top;\n",
       "    }\n",
       "\n",
       "    .dataframe thead th {\n",
       "        text-align: right;\n",
       "    }\n",
       "</style>\n",
       "<table border=\"1\" class=\"dataframe\">\n",
       "  <thead>\n",
       "    <tr style=\"text-align: right;\">\n",
       "      <th></th>\n",
       "      <th>customerID</th>\n",
       "      <th>BeginDate</th>\n",
       "      <th>EndDate</th>\n",
       "      <th>Type</th>\n",
       "      <th>PaperlessBilling</th>\n",
       "      <th>PaymentMethod</th>\n",
       "      <th>MonthlyCharges</th>\n",
       "      <th>TotalCharges</th>\n",
       "      <th>gender</th>\n",
       "      <th>SeniorCitizen</th>\n",
       "      <th>Partner</th>\n",
       "      <th>Dependents</th>\n",
       "      <th>InternetService</th>\n",
       "      <th>OnlineSecurity</th>\n",
       "      <th>OnlineBackup</th>\n",
       "      <th>DeviceProtection</th>\n",
       "      <th>TechSupport</th>\n",
       "      <th>StreamingTV</th>\n",
       "      <th>StreamingMovies</th>\n",
       "      <th>MultipleLines</th>\n",
       "    </tr>\n",
       "  </thead>\n",
       "  <tbody>\n",
       "    <tr>\n",
       "      <th>0</th>\n",
       "      <td>7590-VHVEG</td>\n",
       "      <td>2020-01-01</td>\n",
       "      <td>No</td>\n",
       "      <td>Month-to-month</td>\n",
       "      <td>Yes</td>\n",
       "      <td>Electronic check</td>\n",
       "      <td>29.85</td>\n",
       "      <td>29.85</td>\n",
       "      <td>Female</td>\n",
       "      <td>0</td>\n",
       "      <td>Yes</td>\n",
       "      <td>No</td>\n",
       "      <td>DSL</td>\n",
       "      <td>No</td>\n",
       "      <td>Yes</td>\n",
       "      <td>No</td>\n",
       "      <td>No</td>\n",
       "      <td>No</td>\n",
       "      <td>No</td>\n",
       "      <td>NaN</td>\n",
       "    </tr>\n",
       "    <tr>\n",
       "      <th>1</th>\n",
       "      <td>5575-GNVDE</td>\n",
       "      <td>2017-04-01</td>\n",
       "      <td>No</td>\n",
       "      <td>One year</td>\n",
       "      <td>No</td>\n",
       "      <td>Mailed check</td>\n",
       "      <td>56.95</td>\n",
       "      <td>1889.5</td>\n",
       "      <td>Male</td>\n",
       "      <td>0</td>\n",
       "      <td>No</td>\n",
       "      <td>No</td>\n",
       "      <td>DSL</td>\n",
       "      <td>Yes</td>\n",
       "      <td>No</td>\n",
       "      <td>Yes</td>\n",
       "      <td>No</td>\n",
       "      <td>No</td>\n",
       "      <td>No</td>\n",
       "      <td>No</td>\n",
       "    </tr>\n",
       "    <tr>\n",
       "      <th>2</th>\n",
       "      <td>3668-QPYBK</td>\n",
       "      <td>2019-10-01</td>\n",
       "      <td>2019-12-01 00:00:00</td>\n",
       "      <td>Month-to-month</td>\n",
       "      <td>Yes</td>\n",
       "      <td>Mailed check</td>\n",
       "      <td>53.85</td>\n",
       "      <td>108.15</td>\n",
       "      <td>Male</td>\n",
       "      <td>0</td>\n",
       "      <td>No</td>\n",
       "      <td>No</td>\n",
       "      <td>DSL</td>\n",
       "      <td>Yes</td>\n",
       "      <td>Yes</td>\n",
       "      <td>No</td>\n",
       "      <td>No</td>\n",
       "      <td>No</td>\n",
       "      <td>No</td>\n",
       "      <td>No</td>\n",
       "    </tr>\n",
       "    <tr>\n",
       "      <th>3</th>\n",
       "      <td>7795-CFOCW</td>\n",
       "      <td>2016-05-01</td>\n",
       "      <td>No</td>\n",
       "      <td>One year</td>\n",
       "      <td>No</td>\n",
       "      <td>Bank transfer (automatic)</td>\n",
       "      <td>42.30</td>\n",
       "      <td>1840.75</td>\n",
       "      <td>Male</td>\n",
       "      <td>0</td>\n",
       "      <td>No</td>\n",
       "      <td>No</td>\n",
       "      <td>DSL</td>\n",
       "      <td>Yes</td>\n",
       "      <td>No</td>\n",
       "      <td>Yes</td>\n",
       "      <td>Yes</td>\n",
       "      <td>No</td>\n",
       "      <td>No</td>\n",
       "      <td>NaN</td>\n",
       "    </tr>\n",
       "    <tr>\n",
       "      <th>4</th>\n",
       "      <td>9237-HQITU</td>\n",
       "      <td>2019-09-01</td>\n",
       "      <td>2019-11-01 00:00:00</td>\n",
       "      <td>Month-to-month</td>\n",
       "      <td>Yes</td>\n",
       "      <td>Electronic check</td>\n",
       "      <td>70.70</td>\n",
       "      <td>151.65</td>\n",
       "      <td>Female</td>\n",
       "      <td>0</td>\n",
       "      <td>No</td>\n",
       "      <td>No</td>\n",
       "      <td>Fiber optic</td>\n",
       "      <td>No</td>\n",
       "      <td>No</td>\n",
       "      <td>No</td>\n",
       "      <td>No</td>\n",
       "      <td>No</td>\n",
       "      <td>No</td>\n",
       "      <td>No</td>\n",
       "    </tr>\n",
       "  </tbody>\n",
       "</table>\n",
       "</div>"
      ],
      "text/plain": [
       "   customerID   BeginDate              EndDate            Type  \\\n",
       "0  7590-VHVEG  2020-01-01                   No  Month-to-month   \n",
       "1  5575-GNVDE  2017-04-01                   No        One year   \n",
       "2  3668-QPYBK  2019-10-01  2019-12-01 00:00:00  Month-to-month   \n",
       "3  7795-CFOCW  2016-05-01                   No        One year   \n",
       "4  9237-HQITU  2019-09-01  2019-11-01 00:00:00  Month-to-month   \n",
       "\n",
       "  PaperlessBilling              PaymentMethod  MonthlyCharges TotalCharges  \\\n",
       "0              Yes           Electronic check           29.85        29.85   \n",
       "1               No               Mailed check           56.95       1889.5   \n",
       "2              Yes               Mailed check           53.85       108.15   \n",
       "3               No  Bank transfer (automatic)           42.30      1840.75   \n",
       "4              Yes           Electronic check           70.70       151.65   \n",
       "\n",
       "   gender  SeniorCitizen Partner Dependents InternetService OnlineSecurity  \\\n",
       "0  Female              0     Yes         No             DSL             No   \n",
       "1    Male              0      No         No             DSL            Yes   \n",
       "2    Male              0      No         No             DSL            Yes   \n",
       "3    Male              0      No         No             DSL            Yes   \n",
       "4  Female              0      No         No     Fiber optic             No   \n",
       "\n",
       "  OnlineBackup DeviceProtection TechSupport StreamingTV StreamingMovies  \\\n",
       "0          Yes               No          No          No              No   \n",
       "1           No              Yes          No          No              No   \n",
       "2          Yes               No          No          No              No   \n",
       "3           No              Yes         Yes          No              No   \n",
       "4           No               No          No          No              No   \n",
       "\n",
       "  MultipleLines  \n",
       "0           NaN  \n",
       "1            No  \n",
       "2            No  \n",
       "3           NaN  \n",
       "4            No  "
      ]
     },
     "execution_count": 151,
     "metadata": {},
     "output_type": "execute_result"
    }
   ],
   "source": [
    "df_all.head()"
   ]
  },
  {
   "cell_type": "code",
   "execution_count": 152,
   "metadata": {},
   "outputs": [
    {
     "name": "stdout",
     "output_type": "stream",
     "text": [
      "<class 'pandas.core.frame.DataFrame'>\n",
      "Int64Index: 7043 entries, 0 to 7042\n",
      "Data columns (total 20 columns):\n",
      " #   Column            Non-Null Count  Dtype  \n",
      "---  ------            --------------  -----  \n",
      " 0   customerID        7043 non-null   object \n",
      " 1   BeginDate         7043 non-null   object \n",
      " 2   EndDate           7043 non-null   object \n",
      " 3   Type              7043 non-null   object \n",
      " 4   PaperlessBilling  7043 non-null   object \n",
      " 5   PaymentMethod     7043 non-null   object \n",
      " 6   MonthlyCharges    7043 non-null   float64\n",
      " 7   TotalCharges      7043 non-null   object \n",
      " 8   gender            7043 non-null   object \n",
      " 9   SeniorCitizen     7043 non-null   int64  \n",
      " 10  Partner           7043 non-null   object \n",
      " 11  Dependents        7043 non-null   object \n",
      " 12  InternetService   5517 non-null   object \n",
      " 13  OnlineSecurity    5517 non-null   object \n",
      " 14  OnlineBackup      5517 non-null   object \n",
      " 15  DeviceProtection  5517 non-null   object \n",
      " 16  TechSupport       5517 non-null   object \n",
      " 17  StreamingTV       5517 non-null   object \n",
      " 18  StreamingMovies   5517 non-null   object \n",
      " 19  MultipleLines     6361 non-null   object \n",
      "dtypes: float64(1), int64(1), object(18)\n",
      "memory usage: 1.1+ MB\n"
     ]
    }
   ],
   "source": [
    "df_all.info()"
   ]
  },
  {
   "cell_type": "markdown",
   "metadata": {},
   "source": [
    "Переведем даты в более удобный для дальнейшей работы формат:"
   ]
  },
  {
   "cell_type": "code",
   "execution_count": 153,
   "metadata": {},
   "outputs": [],
   "source": [
    "df_all['EndDate1']= df_all['EndDate'].replace('No', '2020-02-01')\n",
    "df_all['BeginDate']= pd.to_datetime(df_all['BeginDate'], format='%Y-%m-%d')\n",
    "df_all['EndDate']= pd.to_datetime(df_all['EndDate'], format='%Y-%m-%dT%H:%M:%S',errors='coerce')\n",
    "\n",
    "#у клиентов, которые с нами меньше месяса, столбец TotalCharges пуст. Заполним его суммой за месяц.\n",
    "df_all.loc[df_all['TotalCharges'] == ' ', 'TotalCharges'] = df_all['MonthlyCharges']\n",
    "df_all['TotalCharges'] = df_all['TotalCharges'].astype('float')\n",
    "\n",
    "#вспомогательные столбцы для вычислений, ниже удалим\n",
    "df_all['begin_year'] = pd.DatetimeIndex(df_all['BeginDate']).year\n",
    "df_all['end_year'] = pd.DatetimeIndex(df_all['EndDate1']).year\n",
    "df_all['begin_month'] = pd.DatetimeIndex(df_all['BeginDate']).month\n",
    "df_all['end_month'] = pd.DatetimeIndex(df_all['EndDate1']).month\n",
    "\n",
    "#добавляем признак Months: сколько полных месяцев клиент с нами\n",
    "df_all['Months'] = ((df_all['end_year']- df_all['begin_year']) * 12 + (df_all['end_month'] - df_all['begin_month']))"
   ]
  },
  {
   "cell_type": "code",
   "execution_count": 154,
   "metadata": {},
   "outputs": [],
   "source": [
    "#удалим времнный столбцы\n",
    "df_all = df_all.drop(['begin_year','end_year','begin_month','end_month', 'EndDate1'], axis=1)"
   ]
  },
  {
   "cell_type": "code",
   "execution_count": 155,
   "metadata": {},
   "outputs": [
    {
     "data": {
      "text/html": [
       "<div>\n",
       "<style scoped>\n",
       "    .dataframe tbody tr th:only-of-type {\n",
       "        vertical-align: middle;\n",
       "    }\n",
       "\n",
       "    .dataframe tbody tr th {\n",
       "        vertical-align: top;\n",
       "    }\n",
       "\n",
       "    .dataframe thead th {\n",
       "        text-align: right;\n",
       "    }\n",
       "</style>\n",
       "<table border=\"1\" class=\"dataframe\">\n",
       "  <thead>\n",
       "    <tr style=\"text-align: right;\">\n",
       "      <th></th>\n",
       "      <th>customerID</th>\n",
       "      <th>BeginDate</th>\n",
       "      <th>EndDate</th>\n",
       "      <th>Type</th>\n",
       "      <th>PaperlessBilling</th>\n",
       "      <th>PaymentMethod</th>\n",
       "      <th>MonthlyCharges</th>\n",
       "      <th>TotalCharges</th>\n",
       "      <th>gender</th>\n",
       "      <th>SeniorCitizen</th>\n",
       "      <th>...</th>\n",
       "      <th>Dependents</th>\n",
       "      <th>InternetService</th>\n",
       "      <th>OnlineSecurity</th>\n",
       "      <th>OnlineBackup</th>\n",
       "      <th>DeviceProtection</th>\n",
       "      <th>TechSupport</th>\n",
       "      <th>StreamingTV</th>\n",
       "      <th>StreamingMovies</th>\n",
       "      <th>MultipleLines</th>\n",
       "      <th>Months</th>\n",
       "    </tr>\n",
       "  </thead>\n",
       "  <tbody>\n",
       "    <tr>\n",
       "      <th>0</th>\n",
       "      <td>7590-VHVEG</td>\n",
       "      <td>2020-01-01</td>\n",
       "      <td>NaT</td>\n",
       "      <td>Month-to-month</td>\n",
       "      <td>Yes</td>\n",
       "      <td>Electronic check</td>\n",
       "      <td>29.85</td>\n",
       "      <td>29.85</td>\n",
       "      <td>Female</td>\n",
       "      <td>0</td>\n",
       "      <td>...</td>\n",
       "      <td>No</td>\n",
       "      <td>DSL</td>\n",
       "      <td>No</td>\n",
       "      <td>Yes</td>\n",
       "      <td>No</td>\n",
       "      <td>No</td>\n",
       "      <td>No</td>\n",
       "      <td>No</td>\n",
       "      <td>NaN</td>\n",
       "      <td>1</td>\n",
       "    </tr>\n",
       "    <tr>\n",
       "      <th>1</th>\n",
       "      <td>5575-GNVDE</td>\n",
       "      <td>2017-04-01</td>\n",
       "      <td>NaT</td>\n",
       "      <td>One year</td>\n",
       "      <td>No</td>\n",
       "      <td>Mailed check</td>\n",
       "      <td>56.95</td>\n",
       "      <td>1889.50</td>\n",
       "      <td>Male</td>\n",
       "      <td>0</td>\n",
       "      <td>...</td>\n",
       "      <td>No</td>\n",
       "      <td>DSL</td>\n",
       "      <td>Yes</td>\n",
       "      <td>No</td>\n",
       "      <td>Yes</td>\n",
       "      <td>No</td>\n",
       "      <td>No</td>\n",
       "      <td>No</td>\n",
       "      <td>No</td>\n",
       "      <td>34</td>\n",
       "    </tr>\n",
       "    <tr>\n",
       "      <th>2</th>\n",
       "      <td>3668-QPYBK</td>\n",
       "      <td>2019-10-01</td>\n",
       "      <td>2019-12-01</td>\n",
       "      <td>Month-to-month</td>\n",
       "      <td>Yes</td>\n",
       "      <td>Mailed check</td>\n",
       "      <td>53.85</td>\n",
       "      <td>108.15</td>\n",
       "      <td>Male</td>\n",
       "      <td>0</td>\n",
       "      <td>...</td>\n",
       "      <td>No</td>\n",
       "      <td>DSL</td>\n",
       "      <td>Yes</td>\n",
       "      <td>Yes</td>\n",
       "      <td>No</td>\n",
       "      <td>No</td>\n",
       "      <td>No</td>\n",
       "      <td>No</td>\n",
       "      <td>No</td>\n",
       "      <td>2</td>\n",
       "    </tr>\n",
       "    <tr>\n",
       "      <th>3</th>\n",
       "      <td>7795-CFOCW</td>\n",
       "      <td>2016-05-01</td>\n",
       "      <td>NaT</td>\n",
       "      <td>One year</td>\n",
       "      <td>No</td>\n",
       "      <td>Bank transfer (automatic)</td>\n",
       "      <td>42.30</td>\n",
       "      <td>1840.75</td>\n",
       "      <td>Male</td>\n",
       "      <td>0</td>\n",
       "      <td>...</td>\n",
       "      <td>No</td>\n",
       "      <td>DSL</td>\n",
       "      <td>Yes</td>\n",
       "      <td>No</td>\n",
       "      <td>Yes</td>\n",
       "      <td>Yes</td>\n",
       "      <td>No</td>\n",
       "      <td>No</td>\n",
       "      <td>NaN</td>\n",
       "      <td>45</td>\n",
       "    </tr>\n",
       "    <tr>\n",
       "      <th>4</th>\n",
       "      <td>9237-HQITU</td>\n",
       "      <td>2019-09-01</td>\n",
       "      <td>2019-11-01</td>\n",
       "      <td>Month-to-month</td>\n",
       "      <td>Yes</td>\n",
       "      <td>Electronic check</td>\n",
       "      <td>70.70</td>\n",
       "      <td>151.65</td>\n",
       "      <td>Female</td>\n",
       "      <td>0</td>\n",
       "      <td>...</td>\n",
       "      <td>No</td>\n",
       "      <td>Fiber optic</td>\n",
       "      <td>No</td>\n",
       "      <td>No</td>\n",
       "      <td>No</td>\n",
       "      <td>No</td>\n",
       "      <td>No</td>\n",
       "      <td>No</td>\n",
       "      <td>No</td>\n",
       "      <td>2</td>\n",
       "    </tr>\n",
       "    <tr>\n",
       "      <th>5</th>\n",
       "      <td>9305-CDSKC</td>\n",
       "      <td>2019-03-01</td>\n",
       "      <td>2019-11-01</td>\n",
       "      <td>Month-to-month</td>\n",
       "      <td>Yes</td>\n",
       "      <td>Electronic check</td>\n",
       "      <td>99.65</td>\n",
       "      <td>820.50</td>\n",
       "      <td>Female</td>\n",
       "      <td>0</td>\n",
       "      <td>...</td>\n",
       "      <td>No</td>\n",
       "      <td>Fiber optic</td>\n",
       "      <td>No</td>\n",
       "      <td>No</td>\n",
       "      <td>Yes</td>\n",
       "      <td>No</td>\n",
       "      <td>Yes</td>\n",
       "      <td>Yes</td>\n",
       "      <td>Yes</td>\n",
       "      <td>8</td>\n",
       "    </tr>\n",
       "    <tr>\n",
       "      <th>6</th>\n",
       "      <td>1452-KIOVK</td>\n",
       "      <td>2018-04-01</td>\n",
       "      <td>NaT</td>\n",
       "      <td>Month-to-month</td>\n",
       "      <td>Yes</td>\n",
       "      <td>Credit card (automatic)</td>\n",
       "      <td>89.10</td>\n",
       "      <td>1949.40</td>\n",
       "      <td>Male</td>\n",
       "      <td>0</td>\n",
       "      <td>...</td>\n",
       "      <td>Yes</td>\n",
       "      <td>Fiber optic</td>\n",
       "      <td>No</td>\n",
       "      <td>Yes</td>\n",
       "      <td>No</td>\n",
       "      <td>No</td>\n",
       "      <td>Yes</td>\n",
       "      <td>No</td>\n",
       "      <td>Yes</td>\n",
       "      <td>22</td>\n",
       "    </tr>\n",
       "    <tr>\n",
       "      <th>7</th>\n",
       "      <td>6713-OKOMC</td>\n",
       "      <td>2019-04-01</td>\n",
       "      <td>NaT</td>\n",
       "      <td>Month-to-month</td>\n",
       "      <td>No</td>\n",
       "      <td>Mailed check</td>\n",
       "      <td>29.75</td>\n",
       "      <td>301.90</td>\n",
       "      <td>Female</td>\n",
       "      <td>0</td>\n",
       "      <td>...</td>\n",
       "      <td>No</td>\n",
       "      <td>DSL</td>\n",
       "      <td>Yes</td>\n",
       "      <td>No</td>\n",
       "      <td>No</td>\n",
       "      <td>No</td>\n",
       "      <td>No</td>\n",
       "      <td>No</td>\n",
       "      <td>NaN</td>\n",
       "      <td>10</td>\n",
       "    </tr>\n",
       "    <tr>\n",
       "      <th>8</th>\n",
       "      <td>7892-POOKP</td>\n",
       "      <td>2017-07-01</td>\n",
       "      <td>2019-11-01</td>\n",
       "      <td>Month-to-month</td>\n",
       "      <td>Yes</td>\n",
       "      <td>Electronic check</td>\n",
       "      <td>104.80</td>\n",
       "      <td>3046.05</td>\n",
       "      <td>Female</td>\n",
       "      <td>0</td>\n",
       "      <td>...</td>\n",
       "      <td>No</td>\n",
       "      <td>Fiber optic</td>\n",
       "      <td>No</td>\n",
       "      <td>No</td>\n",
       "      <td>Yes</td>\n",
       "      <td>Yes</td>\n",
       "      <td>Yes</td>\n",
       "      <td>Yes</td>\n",
       "      <td>Yes</td>\n",
       "      <td>28</td>\n",
       "    </tr>\n",
       "    <tr>\n",
       "      <th>9</th>\n",
       "      <td>6388-TABGU</td>\n",
       "      <td>2014-12-01</td>\n",
       "      <td>NaT</td>\n",
       "      <td>One year</td>\n",
       "      <td>No</td>\n",
       "      <td>Bank transfer (automatic)</td>\n",
       "      <td>56.15</td>\n",
       "      <td>3487.95</td>\n",
       "      <td>Male</td>\n",
       "      <td>0</td>\n",
       "      <td>...</td>\n",
       "      <td>Yes</td>\n",
       "      <td>DSL</td>\n",
       "      <td>Yes</td>\n",
       "      <td>Yes</td>\n",
       "      <td>No</td>\n",
       "      <td>No</td>\n",
       "      <td>No</td>\n",
       "      <td>No</td>\n",
       "      <td>No</td>\n",
       "      <td>62</td>\n",
       "    </tr>\n",
       "  </tbody>\n",
       "</table>\n",
       "<p>10 rows × 21 columns</p>\n",
       "</div>"
      ],
      "text/plain": [
       "   customerID  BeginDate    EndDate            Type PaperlessBilling  \\\n",
       "0  7590-VHVEG 2020-01-01        NaT  Month-to-month              Yes   \n",
       "1  5575-GNVDE 2017-04-01        NaT        One year               No   \n",
       "2  3668-QPYBK 2019-10-01 2019-12-01  Month-to-month              Yes   \n",
       "3  7795-CFOCW 2016-05-01        NaT        One year               No   \n",
       "4  9237-HQITU 2019-09-01 2019-11-01  Month-to-month              Yes   \n",
       "5  9305-CDSKC 2019-03-01 2019-11-01  Month-to-month              Yes   \n",
       "6  1452-KIOVK 2018-04-01        NaT  Month-to-month              Yes   \n",
       "7  6713-OKOMC 2019-04-01        NaT  Month-to-month               No   \n",
       "8  7892-POOKP 2017-07-01 2019-11-01  Month-to-month              Yes   \n",
       "9  6388-TABGU 2014-12-01        NaT        One year               No   \n",
       "\n",
       "               PaymentMethod  MonthlyCharges  TotalCharges  gender  \\\n",
       "0           Electronic check           29.85         29.85  Female   \n",
       "1               Mailed check           56.95       1889.50    Male   \n",
       "2               Mailed check           53.85        108.15    Male   \n",
       "3  Bank transfer (automatic)           42.30       1840.75    Male   \n",
       "4           Electronic check           70.70        151.65  Female   \n",
       "5           Electronic check           99.65        820.50  Female   \n",
       "6    Credit card (automatic)           89.10       1949.40    Male   \n",
       "7               Mailed check           29.75        301.90  Female   \n",
       "8           Electronic check          104.80       3046.05  Female   \n",
       "9  Bank transfer (automatic)           56.15       3487.95    Male   \n",
       "\n",
       "   SeniorCitizen  ... Dependents InternetService OnlineSecurity OnlineBackup  \\\n",
       "0              0  ...         No             DSL             No          Yes   \n",
       "1              0  ...         No             DSL            Yes           No   \n",
       "2              0  ...         No             DSL            Yes          Yes   \n",
       "3              0  ...         No             DSL            Yes           No   \n",
       "4              0  ...         No     Fiber optic             No           No   \n",
       "5              0  ...         No     Fiber optic             No           No   \n",
       "6              0  ...        Yes     Fiber optic             No          Yes   \n",
       "7              0  ...         No             DSL            Yes           No   \n",
       "8              0  ...         No     Fiber optic             No           No   \n",
       "9              0  ...        Yes             DSL            Yes          Yes   \n",
       "\n",
       "  DeviceProtection TechSupport StreamingTV StreamingMovies MultipleLines  \\\n",
       "0               No          No          No              No           NaN   \n",
       "1              Yes          No          No              No            No   \n",
       "2               No          No          No              No            No   \n",
       "3              Yes         Yes          No              No           NaN   \n",
       "4               No          No          No              No            No   \n",
       "5              Yes          No         Yes             Yes           Yes   \n",
       "6               No          No         Yes              No           Yes   \n",
       "7               No          No          No              No           NaN   \n",
       "8              Yes         Yes         Yes             Yes           Yes   \n",
       "9               No          No          No              No            No   \n",
       "\n",
       "  Months  \n",
       "0      1  \n",
       "1     34  \n",
       "2      2  \n",
       "3     45  \n",
       "4      2  \n",
       "5      8  \n",
       "6     22  \n",
       "7     10  \n",
       "8     28  \n",
       "9     62  \n",
       "\n",
       "[10 rows x 21 columns]"
      ]
     },
     "execution_count": 155,
     "metadata": {},
     "output_type": "execute_result"
    }
   ],
   "source": [
    "df_all.head(10)"
   ]
  },
  {
   "cell_type": "markdown",
   "metadata": {},
   "source": [
    "Т.к. количество записей в таблицах неодинаково. И, скорее всего, данные пропуски значат, что услуга пользователю не оказывалась. То заменим пропуски на No."
   ]
  },
  {
   "cell_type": "code",
   "execution_count": 156,
   "metadata": {},
   "outputs": [],
   "source": [
    "#df_all['MultipleLines'].fillna('No',inplace = True)\n",
    "df_all['InternetService'].fillna('No',inplace = True)\n",
    "df_all['OnlineSecurity'].fillna('No',inplace = True)\n",
    "df_all['OnlineBackup'].fillna('No',inplace = True)\n",
    "df_all['DeviceProtection'].fillna('No',inplace = True)\n",
    "df_all['TechSupport'].fillna('No',inplace = True)\n",
    "df_all['StreamingTV'].fillna('No',inplace = True)\n",
    "df_all['StreamingMovies'].fillna('No',inplace = True)"
   ]
  },
  {
   "cell_type": "code",
   "execution_count": 157,
   "metadata": {},
   "outputs": [
    {
     "name": "stdout",
     "output_type": "stream",
     "text": [
      "<class 'pandas.core.frame.DataFrame'>\n",
      "Int64Index: 7043 entries, 0 to 7042\n",
      "Data columns (total 21 columns):\n",
      " #   Column            Non-Null Count  Dtype         \n",
      "---  ------            --------------  -----         \n",
      " 0   customerID        7043 non-null   object        \n",
      " 1   BeginDate         7043 non-null   datetime64[ns]\n",
      " 2   EndDate           1869 non-null   datetime64[ns]\n",
      " 3   Type              7043 non-null   object        \n",
      " 4   PaperlessBilling  7043 non-null   object        \n",
      " 5   PaymentMethod     7043 non-null   object        \n",
      " 6   MonthlyCharges    7043 non-null   float64       \n",
      " 7   TotalCharges      7043 non-null   float64       \n",
      " 8   gender            7043 non-null   object        \n",
      " 9   SeniorCitizen     7043 non-null   int64         \n",
      " 10  Partner           7043 non-null   object        \n",
      " 11  Dependents        7043 non-null   object        \n",
      " 12  InternetService   7043 non-null   object        \n",
      " 13  OnlineSecurity    7043 non-null   object        \n",
      " 14  OnlineBackup      7043 non-null   object        \n",
      " 15  DeviceProtection  7043 non-null   object        \n",
      " 16  TechSupport       7043 non-null   object        \n",
      " 17  StreamingTV       7043 non-null   object        \n",
      " 18  StreamingMovies   7043 non-null   object        \n",
      " 19  MultipleLines     6361 non-null   object        \n",
      " 20  Months            7043 non-null   int64         \n",
      "dtypes: datetime64[ns](2), float64(2), int64(2), object(15)\n",
      "memory usage: 1.4+ MB\n"
     ]
    }
   ],
   "source": [
    "df_all.info()"
   ]
  },
  {
   "cell_type": "code",
   "execution_count": 158,
   "metadata": {},
   "outputs": [],
   "source": [
    "#Заменим пропуски в столбце EndDate\n",
    "df_all['EndDate'].fillna('proceed',inplace = True)"
   ]
  },
  {
   "cell_type": "markdown",
   "metadata": {},
   "source": [
    "Создадим новый столбец с булевыми значениями: 1 - клиент ушёл, 0 - остался"
   ]
  },
  {
   "cell_type": "code",
   "execution_count": 159,
   "metadata": {},
   "outputs": [],
   "source": [
    "df_all['Out'] = (df_all['EndDate'] != 'proceed')*1"
   ]
  },
  {
   "cell_type": "markdown",
   "metadata": {},
   "source": [
    "**Вывод:**  Данные были объединены в одну таблицу, заполнены пропуски, приведены к нужным типам.  Добавлен столбец, описывающий ушёл клиент или нет. Данные готовы к исследовательскому анализу."
   ]
  },
  {
   "cell_type": "markdown",
   "metadata": {},
   "source": [
    "**Шаг 3: Исследовательский анализ данных:**"
   ]
  },
  {
   "cell_type": "markdown",
   "metadata": {},
   "source": [
    "Посмотрим на распределение новых пользователей по годам и на продолжительности контрактов пользователей, которые ушли."
   ]
  },
  {
   "cell_type": "code",
   "execution_count": 160,
   "metadata": {},
   "outputs": [
    {
     "data": {
      "image/png": "[encoded data removed]",
      "text/plain": [
       "<Figure size 1080x432 with 1 Axes>"
      ]
     },
     "metadata": {
      "needs_background": "light"
     },
     "output_type": "display_data"
    }
   ],
   "source": [
    "df_all['BeginDate'].value_counts().plot(style='o-', grid=True,figsize=(15, 6))\n",
    "plt.title(\"Распределение новых пользователей по годам\")\n",
    "plt.show()"
   ]
  },
  {
   "cell_type": "code",
   "execution_count": 161,
   "metadata": {},
   "outputs": [
    {
     "data": {
      "image/png": "[encoded data removed]",
      "text/plain": [
       "<Figure size 1080x432 with 1 Axes>"
      ]
     },
     "metadata": {
      "needs_background": "light"
     },
     "output_type": "display_data"
    }
   ],
   "source": [
    "df_all.pivot_table(values = 'Out', index ='Months', aggfunc='count').query('Months > 0').plot(style='o-', grid=True,figsize=(15, 6))\n",
    "plt.title(\"Отток клиентов в зависимости от длительности контракта, месяцев\")\n",
    "plt.xlabel('Продолжительность, мес.')\n",
    "plt.ylabel('Частота')\n",
    "plt.show()"
   ]
  },
  {
   "cell_type": "markdown",
   "metadata": {},
   "source": [
    "**Вывод:** Из графиков видно, что основной приток новых пользователей пришёлся на 2014 год. А также наблюдается увеличение количества новых пользователей начиная с 2019 года. Возможно, это связано с проведением более агрессивной рекламной компании в данные периоды. Кроме того, по графику оттока клиентов, видно, что они чаше уходям в первые месяцы действия контрактов."
   ]
  },
  {
   "cell_type": "markdown",
   "metadata": {},
   "source": [
    "Посмотрим на распределение пользователей по типу оплаты."
   ]
  },
  {
   "cell_type": "code",
   "execution_count": 162,
   "metadata": {},
   "outputs": [
    {
     "data": {
      "image/png": "[encoded data removed]",
      "text/plain": [
       "<Figure size 1080x432 with 1 Axes>"
      ]
     },
     "metadata": {
      "needs_background": "light"
     },
     "output_type": "display_data"
    },
    {
     "name": "stdout",
     "output_type": "stream",
     "text": [
      "Month-to-month    3875\n",
      "Two year          1695\n",
      "One year          1473\n",
      "Name: Type, dtype: int64\n"
     ]
    }
   ],
   "source": [
    "plt.figure(figsize=(15,6))\n",
    "plt.title('Распределение пользователей по длительности оплаты')\n",
    "plt.hist(df_all['Type'])\n",
    "plt.show()\n",
    "print(df_all['Type'].value_counts())"
   ]
  },
  {
   "cell_type": "code",
   "execution_count": 163,
   "metadata": {},
   "outputs": [
    {
     "data": {
      "image/png": "[encoded data removed]",
      "text/plain": [
       "<Figure size 1152x432 with 1 Axes>"
      ]
     },
     "metadata": {
      "needs_background": "light"
     },
     "output_type": "display_data"
    },
    {
     "name": "stdout",
     "output_type": "stream",
     "text": [
      "Electronic check             2365\n",
      "Mailed check                 1612\n",
      "Bank transfer (automatic)    1544\n",
      "Credit card (automatic)      1522\n",
      "Name: PaymentMethod, dtype: int64\n"
     ]
    }
   ],
   "source": [
    "plt.figure(figsize=(16,6))\n",
    "plt.title('Распределение пользователей по типу оплаты')\n",
    "plt.hist(df_all['PaymentMethod'])\n",
    "plt.show()\n",
    "print(df_all['PaymentMethod'].value_counts())"
   ]
  },
  {
   "cell_type": "markdown",
   "metadata": {},
   "source": [
    "**Вывод:** Большинство пользователей предпочитают помесячную оплаты с помощью электронных чеков."
   ]
  },
  {
   "cell_type": "code",
   "execution_count": 164,
   "metadata": {},
   "outputs": [
    {
     "name": "stdout",
     "output_type": "stream",
     "text": [
      "<class 'pandas.core.frame.DataFrame'>\n",
      "Int64Index: 1869 entries, 2 to 7041\n",
      "Data columns (total 22 columns):\n",
      " #   Column            Non-Null Count  Dtype         \n",
      "---  ------            --------------  -----         \n",
      " 0   customerID        1869 non-null   object        \n",
      " 1   BeginDate         1869 non-null   datetime64[ns]\n",
      " 2   EndDate           1869 non-null   object        \n",
      " 3   Type              1869 non-null   object        \n",
      " 4   PaperlessBilling  1869 non-null   object        \n",
      " 5   PaymentMethod     1869 non-null   object        \n",
      " 6   MonthlyCharges    1869 non-null   float64       \n",
      " 7   TotalCharges      1869 non-null   float64       \n",
      " 8   gender            1869 non-null   object        \n",
      " 9   SeniorCitizen     1869 non-null   int64         \n",
      " 10  Partner           1869 non-null   object        \n",
      " 11  Dependents        1869 non-null   object        \n",
      " 12  InternetService   1869 non-null   object        \n",
      " 13  OnlineSecurity    1869 non-null   object        \n",
      " 14  OnlineBackup      1869 non-null   object        \n",
      " 15  DeviceProtection  1869 non-null   object        \n",
      " 16  TechSupport       1869 non-null   object        \n",
      " 17  StreamingTV       1869 non-null   object        \n",
      " 18  StreamingMovies   1869 non-null   object        \n",
      " 19  MultipleLines     1699 non-null   object        \n",
      " 20  Months            1869 non-null   int64         \n",
      " 21  Out               1869 non-null   int64         \n",
      "dtypes: datetime64[ns](1), float64(2), int64(3), object(16)\n",
      "memory usage: 335.8+ KB\n"
     ]
    }
   ],
   "source": [
    "#создадим  дополнительную таблицу с данными об ушедших клиентах\n",
    "df_out = df_all[df_all['EndDate'] != 'proceed']\n",
    "df_out.info()"
   ]
  },
  {
   "cell_type": "markdown",
   "metadata": {},
   "source": [
    "Построим гистограммы распределения величин ежемесячных платежей."
   ]
  },
  {
   "cell_type": "code",
   "execution_count": 165,
   "metadata": {},
   "outputs": [
    {
     "data": {
      "image/png": "[encoded data removed]",
      "text/plain": [
       "<Figure size 1080x432 with 1 Axes>"
      ]
     },
     "metadata": {
      "needs_background": "light"
     },
     "output_type": "display_data"
    },
    {
     "name": "stderr",
     "output_type": "stream",
     "text": [
      "/opt/conda/lib/python3.9/site-packages/seaborn/_decorators.py:36: FutureWarning: Pass the following variable as a keyword arg: x. From version 0.12, the only valid positional argument will be `data`, and passing other arguments without an explicit keyword will result in an error or misinterpretation.\n",
      "  warnings.warn(\n"
     ]
    },
    {
     "data": {
      "image/png": "[encoded data removed]",
      "text/plain": [
       "<Figure size 432x288 with 1 Axes>"
      ]
     },
     "metadata": {
      "needs_background": "light"
     },
     "output_type": "display_data"
    },
    {
     "data": {
      "text/plain": [
       "count    7043.000000\n",
       "mean       64.761692\n",
       "std        30.090047\n",
       "min        18.250000\n",
       "25%        35.500000\n",
       "50%        70.350000\n",
       "75%        89.850000\n",
       "max       118.750000\n",
       "Name: MonthlyCharges, dtype: float64"
      ]
     },
     "execution_count": 165,
     "metadata": {},
     "output_type": "execute_result"
    }
   ],
   "source": [
    "df_all.plot(y = 'MonthlyCharges', kind = 'hist', bins = 100, grid=True, figsize = (15,6), range = (0,130), legend=None)\n",
    "plt.title('Гистограмма распределения величин ежемесячных платежей всех клиентов')\n",
    "plt.xlabel('Ежемесячный платёж')\n",
    "plt.ylabel('Частота')\n",
    "plt.show()\n",
    "sns.boxplot(df_all['MonthlyCharges'])\n",
    "plt.title('Диаграмма размаха размера платежей')\n",
    "plt.xlabel('Ежемесячный платёж')\n",
    "plt.xlim(0, 130)\n",
    "plt.show()\n",
    "df_all['MonthlyCharges'].describe()"
   ]
  },
  {
   "cell_type": "code",
   "execution_count": 166,
   "metadata": {},
   "outputs": [
    {
     "data": {
      "image/png": "[encoded data removed]",
      "text/plain": [
       "<Figure size 1080x360 with 1 Axes>"
      ]
     },
     "metadata": {
      "needs_background": "light"
     },
     "output_type": "display_data"
    },
    {
     "name": "stderr",
     "output_type": "stream",
     "text": [
      "/opt/conda/lib/python3.9/site-packages/seaborn/_decorators.py:36: FutureWarning: Pass the following variable as a keyword arg: x. From version 0.12, the only valid positional argument will be `data`, and passing other arguments without an explicit keyword will result in an error or misinterpretation.\n",
      "  warnings.warn(\n"
     ]
    },
    {
     "data": {
      "image/png": "[encoded data removed]",
      "text/plain": [
       "<Figure size 432x288 with 1 Axes>"
      ]
     },
     "metadata": {
      "needs_background": "light"
     },
     "output_type": "display_data"
    },
    {
     "data": {
      "text/plain": [
       "count    1869.000000\n",
       "mean       74.441332\n",
       "std        24.666053\n",
       "min        18.850000\n",
       "25%        56.150000\n",
       "50%        79.650000\n",
       "75%        94.200000\n",
       "max       118.350000\n",
       "Name: MonthlyCharges, dtype: float64"
      ]
     },
     "execution_count": 166,
     "metadata": {},
     "output_type": "execute_result"
    }
   ],
   "source": [
    "df_out.plot(y = 'MonthlyCharges', kind = 'hist', bins = 100, grid=True, figsize = (15,5), range = (0,130), legend=None)\n",
    "plt.title('Гистограмма распределения величин ежемесячных платежей ушедших клиентов')\n",
    "plt.xlabel('Ежемесячный платёж')\n",
    "plt.ylabel('Частота')\n",
    "plt.show()\n",
    "sns.boxplot(df_out['MonthlyCharges'])\n",
    "plt.title('Диаграмма размаха размера платежей')\n",
    "plt.xlabel('Ежемесячный платёж')\n",
    "plt.xlim(0, 130)\n",
    "plt.show()\n",
    "df_out['MonthlyCharges'].describe()"
   ]
  },
  {
   "cell_type": "markdown",
   "metadata": {},
   "source": [
    "**Вывод:**  По графикам видно, что ушедшие в среднем платили больше, чем те кто остались. Это-же подтверждают и статистика  для каждой группы: средние и медианы. Возможно клиенты как раз и уходили из-за недовольства размером оплаты услуг."
   ]
  },
  {
   "cell_type": "markdown",
   "metadata": {},
   "source": [
    "Посмотрим на распределение пользования телефоном и интернетом"
   ]
  },
  {
   "cell_type": "code",
   "execution_count": 167,
   "metadata": {},
   "outputs": [
    {
     "data": {
      "image/png": "[encoded data removed]",
      "text/plain": [
       "<Figure size 432x288 with 1 Axes>"
      ]
     },
     "metadata": {},
     "output_type": "display_data"
    }
   ],
   "source": [
    "non_internet_users = (df_all['InternetService'] == 'No').sum()\n",
    "total_all = len(df_all)\n",
    "labels = ['Пользуются интернетом', 'Не пользуются интернетом']\n",
    "x = [1-non_internet_users/total_all, non_internet_users/total_all]\n",
    "fig1, ax1 = plt.subplots()\n",
    "ax1.pie(x, labels=labels, autopct='%1.1f%%', startangle=90)\n",
    "\n",
    "centre_circle = plt.Circle((0,0),0.70,fc='white')\n",
    "fig = plt.gcf()\n",
    "fig.gca().add_artist(centre_circle)\n",
    "\n",
    "ax1.axis('equal')  \n",
    "plt.tight_layout()\n",
    "plt.title('% Пользователей интернетом')\n",
    "plt.show()"
   ]
  },
  {
   "cell_type": "code",
   "execution_count": 168,
   "metadata": {},
   "outputs": [
    {
     "data": {
      "image/png": "[encoded data removed]",
      "text/plain": [
       "<Figure size 432x288 with 1 Axes>"
      ]
     },
     "metadata": {},
     "output_type": "display_data"
    }
   ],
   "source": [
    "non_phone_users = df_all['MultipleLines'].isna().sum()\n",
    "labels = ['Пользуются телефоном', 'Не пользуются телефоном']\n",
    "x = [1-non_phone_users/total_all, non_phone_users/total_all]\n",
    "fig1, ax1 = plt.subplots()\n",
    "ax1.pie(x, labels=labels, autopct='%1.1f%%', startangle=90)\n",
    "\n",
    "centre_circle = plt.Circle((0,0),0.70,fc='white')\n",
    "fig = plt.gcf()\n",
    "fig.gca().add_artist(centre_circle)\n",
    "\n",
    "ax1.axis('equal')  \n",
    "plt.tight_layout()\n",
    "plt.title('% Пользователей телефоном')\n",
    "plt.show()"
   ]
  },
  {
   "cell_type": "code",
   "execution_count": 169,
   "metadata": {},
   "outputs": [
    {
     "data": {
      "image/png": "[encoded data removed]",
      "text/plain": [
       "<Figure size 432x288 with 1 Axes>"
      ]
     },
     "metadata": {},
     "output_type": "display_data"
    }
   ],
   "source": [
    "non_internet_users_out = (df_out['InternetService'] == 'No').sum()\n",
    "total_all = len(df_out)\n",
    "labels = ['Пользуются интернетом', 'Не пользуются интернетом']\n",
    "x = [1-non_internet_users_out/total_all, non_internet_users_out/total_all]\n",
    "fig1, ax1 = plt.subplots()\n",
    "ax1.pie(x, labels=labels, autopct='%1.1f%%', startangle=90)\n",
    "\n",
    "centre_circle = plt.Circle((0,0),0.70,fc='white')\n",
    "fig = plt.gcf()\n",
    "fig.gca().add_artist(centre_circle)\n",
    "\n",
    "ax1.axis('equal')  \n",
    "plt.tight_layout()\n",
    "plt.title('% Пользователей интернетом')\n",
    "plt.show()"
   ]
  },
  {
   "cell_type": "code",
   "execution_count": 170,
   "metadata": {},
   "outputs": [
    {
     "data": {
      "image/png": "[encoded data removed]",
      "text/plain": [
       "<Figure size 432x288 with 1 Axes>"
      ]
     },
     "metadata": {},
     "output_type": "display_data"
    }
   ],
   "source": [
    "non_phone_users_out = df_out['MultipleLines'].isna().sum()\n",
    "labels = ['Пользуются телефоном', 'Не пользуются телефоном']\n",
    "x = [1-non_phone_users_out/total_all, non_phone_users_out/total_all]\n",
    "fig1, ax1 = plt.subplots()\n",
    "ax1.pie(x, labels=labels, autopct='%1.1f%%', startangle=90)\n",
    "\n",
    "centre_circle = plt.Circle((0,0),0.70,fc='white')\n",
    "fig = plt.gcf()\n",
    "fig.gca().add_artist(centre_circle)\n",
    "\n",
    "ax1.axis('equal')  \n",
    "plt.tight_layout()\n",
    "plt.title('% Пользователей интернетом')\n",
    "plt.show()"
   ]
  },
  {
   "cell_type": "markdown",
   "metadata": {},
   "source": [
    "**Вывод:** Доля пользователей интернета среди тех кто ушел гораздо выше. Можно сделать предположения, что их не устраивает качество именно этой услуги. Процент тех, кто пользуется телефона в обоих группах примерно одинаков. "
   ]
  },
  {
   "cell_type": "code",
   "execution_count": 171,
   "metadata": {},
   "outputs": [],
   "source": [
    "df_all['MultipleLines'].fillna('No',inplace = True)"
   ]
  },
  {
   "cell_type": "markdown",
   "metadata": {},
   "source": [
    "Посмотрим, есть ли различия по гендернаму признаку"
   ]
  },
  {
   "cell_type": "code",
   "execution_count": 172,
   "metadata": {},
   "outputs": [
    {
     "data": {
      "image/png": "[encoded data removed]",
      "text/plain": [
       "<Figure size 432x288 with 1 Axes>"
      ]
     },
     "metadata": {},
     "output_type": "display_data"
    }
   ],
   "source": [
    "labels = ['Male', 'Female']\n",
    "sizes = df_all['gender'].value_counts().values\n",
    "\n",
    "fig1, ax1 = plt.subplots()\n",
    "ax1.pie(sizes, labels=labels, autopct='%1.1f%%', startangle=90)\n",
    "\n",
    "centre_circle = plt.Circle((0,0),0.70,fc='white')\n",
    "fig = plt.gcf()\n",
    "fig.gca().add_artist(centre_circle)\n",
    "\n",
    "ax1.axis('equal')  \n",
    "plt.tight_layout()\n",
    "plt.title(\"Распределение клиентов по гендеру, все\")\n",
    "plt.show()\n",
    "plt.show()"
   ]
  },
  {
   "cell_type": "code",
   "execution_count": 173,
   "metadata": {},
   "outputs": [
    {
     "data": {
      "image/png": "[encoded data removed]",
      "text/plain": [
       "<Figure size 432x288 with 1 Axes>"
      ]
     },
     "metadata": {},
     "output_type": "display_data"
    }
   ],
   "source": [
    "labels = ['Male', 'Female']\n",
    "sizes = df_all.query('Out == 1')['gender'].value_counts().values\n",
    "\n",
    "fig1, ax1 = plt.subplots()\n",
    "ax1.pie(sizes, labels=labels, autopct='%1.1f%%', startangle=90)\n",
    "\n",
    "centre_circle = plt.Circle((0,0),0.70,fc='white')\n",
    "fig = plt.gcf()\n",
    "fig.gca().add_artist(centre_circle)\n",
    "\n",
    "ax1.axis('equal')  \n",
    "plt.tight_layout()\n",
    "plt.title(\"Распределение клиентов по гендеру, ушедшие\")\n",
    "plt.show()\n",
    "plt.show()"
   ]
  },
  {
   "cell_type": "markdown",
   "metadata": {},
   "source": [
    "**Вывод:** Различий по гендерному признаку между группами почти нет. Более того в процент мужчины и женщины в обоих группах почти одинаков."
   ]
  },
  {
   "cell_type": "markdown",
   "metadata": {},
   "source": [
    "**Шаг 4: Подготовка данных к расчету модели**"
   ]
  },
  {
   "cell_type": "code",
   "execution_count": 174,
   "metadata": {},
   "outputs": [],
   "source": [
    "#Для удобства переименуем датасет\n",
    "df = df_all"
   ]
  },
  {
   "cell_type": "code",
   "execution_count": 175,
   "metadata": {},
   "outputs": [],
   "source": [
    "#Заменим значения Yes No на булевые(1,0)\n",
    "df['MultipleLines'] = pd.Series(np.where(df['MultipleLines'].values == 'Yes', 1, 0),df.index)\n",
    "df['Dependents'] = pd.Series(np.where(df['Dependents'].values == 'Yes', 1, 0),df.index)\n",
    "df['Partner'] = pd.Series(np.where(df['Partner'].values == 'Yes', 1, 0),df.index)\n",
    "df['gender'] = pd.Series(np.where(df['gender'].values == 'Female', 1, 0),df.index)\n",
    "df['StreamingMovies'] = pd.Series(np.where(df['StreamingMovies'].values == 'Yes', 1, 0),df.index)\n",
    "df['StreamingTV'] = pd.Series(np.where(df['StreamingTV'].values == 'Yes', 1, 0),df.index)\n",
    "df['TechSupport'] = pd.Series(np.where(df['TechSupport'].values == 'Yes', 1, 0),df.index)\n",
    "df['DeviceProtection'] = pd.Series(np.where(df['DeviceProtection'].values == 'Yes', 1, 0),df.index)\n",
    "df['OnlineBackup'] = pd.Series(np.where(df['OnlineBackup'].values == 'Yes', 1, 0),df.index)\n",
    "df['OnlineSecurity'] = pd.Series(np.where(df['OnlineSecurity'].values == 'Yes', 1, 0),df.index)\n",
    "df['PaperlessBilling'] = pd.Series(np.where(df['PaperlessBilling'].values == 'Yes',1,0),df.index)"
   ]
  },
  {
   "cell_type": "code",
   "execution_count": 176,
   "metadata": {},
   "outputs": [],
   "source": [
    "#Категориальные переменные закодируем техникой OneHotEncoder\n",
    "df = pd.get_dummies(df, columns = ['Type', 'InternetService','PaymentMethod'], drop_first = True)"
   ]
  },
  {
   "cell_type": "markdown",
   "metadata": {},
   "source": [
    "Заменим значения 'proceed' в столбце 'EndDate' на дату выгрузки базы. Чтобы в дальнейшем можно было вычислить продолжительность пользования для каждого клиента."
   ]
  },
  {
   "cell_type": "code",
   "execution_count": 177,
   "metadata": {},
   "outputs": [],
   "source": [
    "df['EndDate'] = df['EndDate'].replace('proceed', '2020-02-01')"
   ]
  },
  {
   "cell_type": "code",
   "execution_count": 178,
   "metadata": {},
   "outputs": [],
   "source": [
    "df['lasted'] = (pd.to_datetime(df['EndDate']) - df['BeginDate']).dt.days"
   ]
  },
  {
   "cell_type": "code",
   "execution_count": 179,
   "metadata": {},
   "outputs": [],
   "source": [
    "df.rename({'lasted': 'duration'}, axis=1, inplace=True)"
   ]
  },
  {
   "cell_type": "markdown",
   "metadata": {},
   "source": [
    "Удалим те столбцы, которые могут привести к переобучению моделей."
   ]
  },
  {
   "cell_type": "code",
   "execution_count": 180,
   "metadata": {},
   "outputs": [],
   "source": [
    "df = df.drop(['customerID', 'EndDate', 'BeginDate', 'MonthlyCharges', 'PaperlessBilling'], axis=1)"
   ]
  },
  {
   "cell_type": "code",
   "execution_count": 181,
   "metadata": {},
   "outputs": [
    {
     "data": {
      "text/html": [
       "<div>\n",
       "<style scoped>\n",
       "    .dataframe tbody tr th:only-of-type {\n",
       "        vertical-align: middle;\n",
       "    }\n",
       "\n",
       "    .dataframe tbody tr th {\n",
       "        vertical-align: top;\n",
       "    }\n",
       "\n",
       "    .dataframe thead th {\n",
       "        text-align: right;\n",
       "    }\n",
       "</style>\n",
       "<table border=\"1\" class=\"dataframe\">\n",
       "  <thead>\n",
       "    <tr style=\"text-align: right;\">\n",
       "      <th></th>\n",
       "      <th>TotalCharges</th>\n",
       "      <th>gender</th>\n",
       "      <th>SeniorCitizen</th>\n",
       "      <th>Partner</th>\n",
       "      <th>Dependents</th>\n",
       "      <th>OnlineSecurity</th>\n",
       "      <th>OnlineBackup</th>\n",
       "      <th>DeviceProtection</th>\n",
       "      <th>TechSupport</th>\n",
       "      <th>StreamingTV</th>\n",
       "      <th>...</th>\n",
       "      <th>Months</th>\n",
       "      <th>Out</th>\n",
       "      <th>Type_One year</th>\n",
       "      <th>Type_Two year</th>\n",
       "      <th>InternetService_Fiber optic</th>\n",
       "      <th>InternetService_No</th>\n",
       "      <th>PaymentMethod_Credit card (automatic)</th>\n",
       "      <th>PaymentMethod_Electronic check</th>\n",
       "      <th>PaymentMethod_Mailed check</th>\n",
       "      <th>duration</th>\n",
       "    </tr>\n",
       "  </thead>\n",
       "  <tbody>\n",
       "    <tr>\n",
       "      <th>0</th>\n",
       "      <td>29.85</td>\n",
       "      <td>1</td>\n",
       "      <td>0</td>\n",
       "      <td>1</td>\n",
       "      <td>0</td>\n",
       "      <td>0</td>\n",
       "      <td>1</td>\n",
       "      <td>0</td>\n",
       "      <td>0</td>\n",
       "      <td>0</td>\n",
       "      <td>...</td>\n",
       "      <td>1</td>\n",
       "      <td>0</td>\n",
       "      <td>0</td>\n",
       "      <td>0</td>\n",
       "      <td>0</td>\n",
       "      <td>0</td>\n",
       "      <td>0</td>\n",
       "      <td>1</td>\n",
       "      <td>0</td>\n",
       "      <td>31</td>\n",
       "    </tr>\n",
       "    <tr>\n",
       "      <th>1</th>\n",
       "      <td>1889.50</td>\n",
       "      <td>0</td>\n",
       "      <td>0</td>\n",
       "      <td>0</td>\n",
       "      <td>0</td>\n",
       "      <td>1</td>\n",
       "      <td>0</td>\n",
       "      <td>1</td>\n",
       "      <td>0</td>\n",
       "      <td>0</td>\n",
       "      <td>...</td>\n",
       "      <td>34</td>\n",
       "      <td>0</td>\n",
       "      <td>1</td>\n",
       "      <td>0</td>\n",
       "      <td>0</td>\n",
       "      <td>0</td>\n",
       "      <td>0</td>\n",
       "      <td>0</td>\n",
       "      <td>1</td>\n",
       "      <td>1036</td>\n",
       "    </tr>\n",
       "    <tr>\n",
       "      <th>2</th>\n",
       "      <td>108.15</td>\n",
       "      <td>0</td>\n",
       "      <td>0</td>\n",
       "      <td>0</td>\n",
       "      <td>0</td>\n",
       "      <td>1</td>\n",
       "      <td>1</td>\n",
       "      <td>0</td>\n",
       "      <td>0</td>\n",
       "      <td>0</td>\n",
       "      <td>...</td>\n",
       "      <td>2</td>\n",
       "      <td>1</td>\n",
       "      <td>0</td>\n",
       "      <td>0</td>\n",
       "      <td>0</td>\n",
       "      <td>0</td>\n",
       "      <td>0</td>\n",
       "      <td>0</td>\n",
       "      <td>1</td>\n",
       "      <td>61</td>\n",
       "    </tr>\n",
       "    <tr>\n",
       "      <th>3</th>\n",
       "      <td>1840.75</td>\n",
       "      <td>0</td>\n",
       "      <td>0</td>\n",
       "      <td>0</td>\n",
       "      <td>0</td>\n",
       "      <td>1</td>\n",
       "      <td>0</td>\n",
       "      <td>1</td>\n",
       "      <td>1</td>\n",
       "      <td>0</td>\n",
       "      <td>...</td>\n",
       "      <td>45</td>\n",
       "      <td>0</td>\n",
       "      <td>1</td>\n",
       "      <td>0</td>\n",
       "      <td>0</td>\n",
       "      <td>0</td>\n",
       "      <td>0</td>\n",
       "      <td>0</td>\n",
       "      <td>0</td>\n",
       "      <td>1371</td>\n",
       "    </tr>\n",
       "    <tr>\n",
       "      <th>4</th>\n",
       "      <td>151.65</td>\n",
       "      <td>1</td>\n",
       "      <td>0</td>\n",
       "      <td>0</td>\n",
       "      <td>0</td>\n",
       "      <td>0</td>\n",
       "      <td>0</td>\n",
       "      <td>0</td>\n",
       "      <td>0</td>\n",
       "      <td>0</td>\n",
       "      <td>...</td>\n",
       "      <td>2</td>\n",
       "      <td>1</td>\n",
       "      <td>0</td>\n",
       "      <td>0</td>\n",
       "      <td>1</td>\n",
       "      <td>0</td>\n",
       "      <td>0</td>\n",
       "      <td>1</td>\n",
       "      <td>0</td>\n",
       "      <td>61</td>\n",
       "    </tr>\n",
       "    <tr>\n",
       "      <th>5</th>\n",
       "      <td>820.50</td>\n",
       "      <td>1</td>\n",
       "      <td>0</td>\n",
       "      <td>0</td>\n",
       "      <td>0</td>\n",
       "      <td>0</td>\n",
       "      <td>0</td>\n",
       "      <td>1</td>\n",
       "      <td>0</td>\n",
       "      <td>1</td>\n",
       "      <td>...</td>\n",
       "      <td>8</td>\n",
       "      <td>1</td>\n",
       "      <td>0</td>\n",
       "      <td>0</td>\n",
       "      <td>1</td>\n",
       "      <td>0</td>\n",
       "      <td>0</td>\n",
       "      <td>1</td>\n",
       "      <td>0</td>\n",
       "      <td>245</td>\n",
       "    </tr>\n",
       "    <tr>\n",
       "      <th>6</th>\n",
       "      <td>1949.40</td>\n",
       "      <td>0</td>\n",
       "      <td>0</td>\n",
       "      <td>0</td>\n",
       "      <td>1</td>\n",
       "      <td>0</td>\n",
       "      <td>1</td>\n",
       "      <td>0</td>\n",
       "      <td>0</td>\n",
       "      <td>1</td>\n",
       "      <td>...</td>\n",
       "      <td>22</td>\n",
       "      <td>0</td>\n",
       "      <td>0</td>\n",
       "      <td>0</td>\n",
       "      <td>1</td>\n",
       "      <td>0</td>\n",
       "      <td>1</td>\n",
       "      <td>0</td>\n",
       "      <td>0</td>\n",
       "      <td>671</td>\n",
       "    </tr>\n",
       "    <tr>\n",
       "      <th>7</th>\n",
       "      <td>301.90</td>\n",
       "      <td>1</td>\n",
       "      <td>0</td>\n",
       "      <td>0</td>\n",
       "      <td>0</td>\n",
       "      <td>1</td>\n",
       "      <td>0</td>\n",
       "      <td>0</td>\n",
       "      <td>0</td>\n",
       "      <td>0</td>\n",
       "      <td>...</td>\n",
       "      <td>10</td>\n",
       "      <td>0</td>\n",
       "      <td>0</td>\n",
       "      <td>0</td>\n",
       "      <td>0</td>\n",
       "      <td>0</td>\n",
       "      <td>0</td>\n",
       "      <td>0</td>\n",
       "      <td>1</td>\n",
       "      <td>306</td>\n",
       "    </tr>\n",
       "    <tr>\n",
       "      <th>8</th>\n",
       "      <td>3046.05</td>\n",
       "      <td>1</td>\n",
       "      <td>0</td>\n",
       "      <td>1</td>\n",
       "      <td>0</td>\n",
       "      <td>0</td>\n",
       "      <td>0</td>\n",
       "      <td>1</td>\n",
       "      <td>1</td>\n",
       "      <td>1</td>\n",
       "      <td>...</td>\n",
       "      <td>28</td>\n",
       "      <td>1</td>\n",
       "      <td>0</td>\n",
       "      <td>0</td>\n",
       "      <td>1</td>\n",
       "      <td>0</td>\n",
       "      <td>0</td>\n",
       "      <td>1</td>\n",
       "      <td>0</td>\n",
       "      <td>853</td>\n",
       "    </tr>\n",
       "    <tr>\n",
       "      <th>9</th>\n",
       "      <td>3487.95</td>\n",
       "      <td>0</td>\n",
       "      <td>0</td>\n",
       "      <td>0</td>\n",
       "      <td>1</td>\n",
       "      <td>1</td>\n",
       "      <td>1</td>\n",
       "      <td>0</td>\n",
       "      <td>0</td>\n",
       "      <td>0</td>\n",
       "      <td>...</td>\n",
       "      <td>62</td>\n",
       "      <td>0</td>\n",
       "      <td>1</td>\n",
       "      <td>0</td>\n",
       "      <td>0</td>\n",
       "      <td>0</td>\n",
       "      <td>0</td>\n",
       "      <td>0</td>\n",
       "      <td>0</td>\n",
       "      <td>1888</td>\n",
       "    </tr>\n",
       "  </tbody>\n",
       "</table>\n",
       "<p>10 rows × 22 columns</p>\n",
       "</div>"
      ],
      "text/plain": [
       "   TotalCharges  gender  SeniorCitizen  Partner  Dependents  OnlineSecurity  \\\n",
       "0         29.85       1              0        1           0               0   \n",
       "1       1889.50       0              0        0           0               1   \n",
       "2        108.15       0              0        0           0               1   \n",
       "3       1840.75       0              0        0           0               1   \n",
       "4        151.65       1              0        0           0               0   \n",
       "5        820.50       1              0        0           0               0   \n",
       "6       1949.40       0              0        0           1               0   \n",
       "7        301.90       1              0        0           0               1   \n",
       "8       3046.05       1              0        1           0               0   \n",
       "9       3487.95       0              0        0           1               1   \n",
       "\n",
       "   OnlineBackup  DeviceProtection  TechSupport  StreamingTV  ...  Months  Out  \\\n",
       "0             1                 0            0            0  ...       1    0   \n",
       "1             0                 1            0            0  ...      34    0   \n",
       "2             1                 0            0            0  ...       2    1   \n",
       "3             0                 1            1            0  ...      45    0   \n",
       "4             0                 0            0            0  ...       2    1   \n",
       "5             0                 1            0            1  ...       8    1   \n",
       "6             1                 0            0            1  ...      22    0   \n",
       "7             0                 0            0            0  ...      10    0   \n",
       "8             0                 1            1            1  ...      28    1   \n",
       "9             1                 0            0            0  ...      62    0   \n",
       "\n",
       "   Type_One year  Type_Two year  InternetService_Fiber optic  \\\n",
       "0              0              0                            0   \n",
       "1              1              0                            0   \n",
       "2              0              0                            0   \n",
       "3              1              0                            0   \n",
       "4              0              0                            1   \n",
       "5              0              0                            1   \n",
       "6              0              0                            1   \n",
       "7              0              0                            0   \n",
       "8              0              0                            1   \n",
       "9              1              0                            0   \n",
       "\n",
       "   InternetService_No  PaymentMethod_Credit card (automatic)  \\\n",
       "0                   0                                      0   \n",
       "1                   0                                      0   \n",
       "2                   0                                      0   \n",
       "3                   0                                      0   \n",
       "4                   0                                      0   \n",
       "5                   0                                      0   \n",
       "6                   0                                      1   \n",
       "7                   0                                      0   \n",
       "8                   0                                      0   \n",
       "9                   0                                      0   \n",
       "\n",
       "   PaymentMethod_Electronic check  PaymentMethod_Mailed check  duration  \n",
       "0                               1                           0        31  \n",
       "1                               0                           1      1036  \n",
       "2                               0                           1        61  \n",
       "3                               0                           0      1371  \n",
       "4                               1                           0        61  \n",
       "5                               1                           0       245  \n",
       "6                               0                           0       671  \n",
       "7                               0                           1       306  \n",
       "8                               1                           0       853  \n",
       "9                               0                           0      1888  \n",
       "\n",
       "[10 rows x 22 columns]"
      ]
     },
     "execution_count": 181,
     "metadata": {},
     "output_type": "execute_result"
    }
   ],
   "source": [
    "df.head(10)"
   ]
  },
  {
   "cell_type": "markdown",
   "metadata": {},
   "source": [
    "Определим признаки и целевой признак"
   ]
  },
  {
   "cell_type": "code",
   "execution_count": 182,
   "metadata": {},
   "outputs": [],
   "source": [
    "features = df.drop('Out', axis=1)\n",
    "target = df['Out']"
   ]
  },
  {
   "cell_type": "code",
   "execution_count": 183,
   "metadata": {},
   "outputs": [],
   "source": [
    "features_train, features_rest, target_train, target_rest = train_test_split(features, target, test_size=0.4, random_state=12345)\n",
    "features_valid, features_test, target_valid, target_test = train_test_split(features_rest, target_rest, test_size=0.5, random_state=12345)"
   ]
  },
  {
   "cell_type": "code",
   "execution_count": 184,
   "metadata": {},
   "outputs": [
    {
     "name": "stdout",
     "output_type": "stream",
     "text": [
      "(4225, 21)\n",
      "(1409, 21)\n",
      "(1409, 21)\n"
     ]
    }
   ],
   "source": [
    "#посмотрим на размер выборок\n",
    "print(features_train.shape)\n",
    "print(features_valid.shape)\n",
    "print(features_test.shape)"
   ]
  },
  {
   "cell_type": "markdown",
   "metadata": {},
   "source": [
    "**Шаг 4: Обучение моделей**"
   ]
  },
  {
   "cell_type": "markdown",
   "metadata": {},
   "source": [
    "LogisticRegression"
   ]
  },
  {
   "cell_type": "code",
   "execution_count": 185,
   "metadata": {},
   "outputs": [
    {
     "name": "stdout",
     "output_type": "stream",
     "text": [
      "| accuracy: 0.7622427253371186 | AUC-ROC: 0.8487257655857299\n"
     ]
    },
    {
     "name": "stderr",
     "output_type": "stream",
     "text": [
      "/opt/conda/lib/python3.9/site-packages/sklearn/linear_model/_logistic.py:763: ConvergenceWarning: lbfgs failed to converge (status=1):\n",
      "STOP: TOTAL NO. of ITERATIONS REACHED LIMIT.\n",
      "\n",
      "Increase the number of iterations (max_iter) or scale the data as shown in:\n",
      "    https://scikit-learn.org/stable/modules/preprocessing.html\n",
      "Please also refer to the documentation for alternative solver options:\n",
      "    https://scikit-learn.org/stable/modules/linear_model.html#logistic-regression\n",
      "  n_iter_i = _check_optimize_result(\n"
     ]
    }
   ],
   "source": [
    "model_lr = LogisticRegression(class_weight = 'balanced', random_state=12345)\n",
    "model_lr.fit(features_train, target_train)\n",
    "predicted_valid_lr = pd.Series(model_lr.predict(features_valid))\n",
    "accuracy = accuracy_score(target_valid, predicted_valid_lr)\n",
    "probabilities_valid = model_lr.predict_proba(features_valid)\n",
    "probabilities_one_valid = probabilities_valid[:, 1]\n",
    "roc_auc = roc_auc_score(target_valid, probabilities_one_valid)\n",
    "print(\"| \" \"accuracy:\", accuracy, \"| \" \"AUC-ROC:\", roc_auc)"
   ]
  },
  {
   "cell_type": "markdown",
   "metadata": {},
   "source": [
    "DecisionTreeClassifier"
   ]
  },
  {
   "cell_type": "code",
   "execution_count": 186,
   "metadata": {},
   "outputs": [
    {
     "name": "stdout",
     "output_type": "stream",
     "text": [
      "| accuracy: 0.7686302342086586 | AUC-ROC: 0.6943978547795898\n"
     ]
    }
   ],
   "source": [
    "model_dt = DecisionTreeClassifier(class_weight = 'balanced', random_state=12345)\n",
    "model_dt.fit(features_train, target_train)\n",
    "predicted_valid_dt = pd.Series(model_dt.predict(features_valid))\n",
    "accuracy = accuracy_score(target_valid, predicted_valid_dt)\n",
    "probabilities_valid = model_dt.predict_proba(features_valid)\n",
    "probabilities_one_valid = probabilities_valid[:, 1]\n",
    "roc_auc = roc_auc_score(target_valid, probabilities_one_valid)\n",
    "print(\"| \" \"accuracy:\", accuracy, \"| \" \"AUC-ROC:\", roc_auc)"
   ]
  },
  {
   "cell_type": "markdown",
   "metadata": {},
   "source": [
    "RandomForestClassifier с подбором лучших параметром"
   ]
  },
  {
   "cell_type": "code",
   "execution_count": 187,
   "metadata": {},
   "outputs": [
    {
     "name": "stdout",
     "output_type": "stream",
     "text": [
      "Параметры наилучшей модели: n_estimators= 41 | depth= 10 | accuracy: 0.8268275372604684 | AUC-ROC: 0.8624443685415254\n"
     ]
    }
   ],
   "source": [
    "accur=0\n",
    "est=0\n",
    "dep=0\n",
    "roc = 0\n",
    "for estim in range(1, 100, 5): \n",
    "    for depth in range(1, 12):\n",
    "        model_forest = RandomForestClassifier(random_state=12345, n_estimators=estim, max_depth=depth)\n",
    "        model_forest.fit(features_train, target_train)\n",
    "        predicted_valid_forest = model_forest.predict(features_valid)\n",
    "        accuracy = accuracy_score(target_valid, predicted_valid_forest)\n",
    "        probabilities_valid = model_forest.predict_proba(features_valid)\n",
    "        probabilities_one_valid = probabilities_valid[:, 1]\n",
    "        roc_auc = roc_auc_score(target_valid, probabilities_one_valid)\n",
    "        if accuracy > accur:\n",
    "            accur=accuracy\n",
    "            est=estim\n",
    "            dep=depth\n",
    "            roc=roc_auc\n",
    "print('Параметры наилучшей модели: ' \"n_estimators=\", est, \"| \" \"depth=\", dep, \"| \" \"accuracy:\", accur, \"| \" \"AUC-ROC:\", roc)"
   ]
  },
  {
   "cell_type": "code",
   "execution_count": 188,
   "metadata": {},
   "outputs": [
    {
     "name": "stdout",
     "output_type": "stream",
     "text": [
      "Feature importances:\n",
      " 1. feature 'duration' (0.2181)\n",
      " 2. feature 'TotalCharges' (0.1504)\n",
      " 3. feature 'Months' (0.1420)\n",
      " 4. feature 'InternetService_Fiber optic' (0.0826)\n",
      " 5. feature 'Type_Two year' (0.0494)\n",
      " 6. feature 'PaymentMethod_Electronic check' (0.0469)\n",
      " 7. feature 'InternetService_No' (0.0410)\n",
      " 8. feature 'Type_One year' (0.0255)\n",
      " 9. feature 'OnlineSecurity' (0.0235)\n",
      "10. feature 'TechSupport' (0.0234)\n",
      "11. feature 'MultipleLines' (0.0211)\n",
      "12. feature 'StreamingTV' (0.0209)\n",
      "13. feature 'Dependents' (0.0207)\n",
      "14. feature 'SeniorCitizen' (0.0207)\n",
      "15. feature 'StreamingMovies' (0.0201)\n",
      "16. feature 'gender' (0.0190)\n",
      "17. feature 'Partner' (0.0188)\n",
      "18. feature 'OnlineBackup' (0.0181)\n",
      "19. feature 'DeviceProtection' (0.0143)\n",
      "20. feature 'PaymentMethod_Mailed check' (0.0133)\n",
      "21. feature 'PaymentMethod_Credit card (automatic)' (0.0103)\n"
     ]
    },
    {
     "data": {
      "image/png": "[encoded data removed]",
      "text/plain": [
       "<Figure size 1440x648 with 1 Axes>"
      ]
     },
     "metadata": {
      "needs_background": "light"
     },
     "output_type": "display_data"
    }
   ],
   "source": [
    "#Посмотрим на вес признаков каторые учитывает модель\n",
    "feature_import = model_forest.feature_importances_\n",
    "col_names = features_train.columns\n",
    "indices = np.argsort(feature_import)[::-1]\n",
    "print(\"Feature importances:\")\n",
    "for f, idx in enumerate(indices):\n",
    "    print(\"{:2d}. feature '{:5s}' ({:.4f})\".format(f + 1, col_names[idx], feature_import[idx]))\n",
    "d1 = pd.Series(data = feature_import, index =col_names  ).sort_values(ascending=False)\n",
    "plt.figure(figsize=(20,9))\n",
    "plt.bar(d1.index,d1.values)\n",
    "plt.tick_params(axis='both', which='major', labelsize=16)\n",
    "plt.xticks(rotation=90);"
   ]
  },
  {
   "cell_type": "markdown",
   "metadata": {},
   "source": [
    "CatBoostClassifier с подбором лучших параметров"
   ]
  },
  {
   "cell_type": "code",
   "execution_count": 189,
   "metadata": {},
   "outputs": [
    {
     "name": "stdout",
     "output_type": "stream",
     "text": [
      "# Идет подбор гиперпараметров\n",
      "\n",
      "0:\tlearn: 0.6240682\ttotal: 2.84ms\tremaining: 2.83s\n",
      "100:\tlearn: 0.2941836\ttotal: 208ms\tremaining: 1.85s\n",
      "200:\tlearn: 0.2298636\ttotal: 417ms\tremaining: 1.66s\n",
      "300:\tlearn: 0.1892523\ttotal: 621ms\tremaining: 1.44s\n",
      "400:\tlearn: 0.1587165\ttotal: 827ms\tremaining: 1.24s\n",
      "500:\tlearn: 0.1368062\ttotal: 1.03s\tremaining: 1.03s\n",
      "600:\tlearn: 0.1207717\ttotal: 1.24s\tremaining: 825ms\n",
      "700:\tlearn: 0.1050241\ttotal: 1.45s\tremaining: 617ms\n",
      "800:\tlearn: 0.0941615\ttotal: 1.65s\tremaining: 409ms\n",
      "900:\tlearn: 0.0839484\ttotal: 1.87s\tremaining: 205ms\n",
      "999:\tlearn: 0.0763813\ttotal: 2.1s\tremaining: 0us\n",
      "0:\tlearn: 0.6277009\ttotal: 2.45ms\tremaining: 2.44s\n",
      "100:\tlearn: 0.2964015\ttotal: 265ms\tremaining: 2.35s\n",
      "200:\tlearn: 0.2305410\ttotal: 469ms\tremaining: 1.86s\n",
      "300:\tlearn: 0.1870057\ttotal: 671ms\tremaining: 1.56s\n",
      "400:\tlearn: 0.1587914\ttotal: 881ms\tremaining: 1.32s\n",
      "500:\tlearn: 0.1356608\ttotal: 1.09s\tremaining: 1.08s\n",
      "600:\tlearn: 0.1191608\ttotal: 1.3s\tremaining: 863ms\n",
      "700:\tlearn: 0.1058928\ttotal: 1.5s\tremaining: 641ms\n",
      "800:\tlearn: 0.0945558\ttotal: 1.71s\tremaining: 425ms\n",
      "900:\tlearn: 0.0856099\ttotal: 1.93s\tremaining: 212ms\n",
      "999:\tlearn: 0.0777847\ttotal: 2.15s\tremaining: 0us\n",
      "0:\tlearn: 0.6286663\ttotal: 2.3ms\tremaining: 2.3s\n",
      "100:\tlearn: 0.2998715\ttotal: 206ms\tremaining: 1.83s\n",
      "200:\tlearn: 0.2387741\ttotal: 397ms\tremaining: 1.58s\n",
      "300:\tlearn: 0.1989636\ttotal: 605ms\tremaining: 1.41s\n",
      "400:\tlearn: 0.1671490\ttotal: 817ms\tremaining: 1.22s\n",
      "500:\tlearn: 0.1436123\ttotal: 1.01s\tremaining: 1.01s\n",
      "600:\tlearn: 0.1255092\ttotal: 1.22s\tremaining: 807ms\n",
      "700:\tlearn: 0.1112051\ttotal: 1.44s\tremaining: 613ms\n",
      "800:\tlearn: 0.0992860\ttotal: 1.66s\tremaining: 412ms\n",
      "900:\tlearn: 0.0892107\ttotal: 1.88s\tremaining: 206ms\n",
      "999:\tlearn: 0.0807038\ttotal: 2.09s\tremaining: 0us\n",
      "0:\tlearn: 0.6268070\ttotal: 3.5ms\tremaining: 3.49s\n",
      "100:\tlearn: 0.2892768\ttotal: 256ms\tremaining: 2.27s\n",
      "200:\tlearn: 0.2234872\ttotal: 462ms\tremaining: 1.83s\n",
      "300:\tlearn: 0.1829378\ttotal: 674ms\tremaining: 1.56s\n",
      "400:\tlearn: 0.1519145\ttotal: 885ms\tremaining: 1.32s\n",
      "500:\tlearn: 0.1306452\ttotal: 1.1s\tremaining: 1.09s\n",
      "600:\tlearn: 0.1136177\ttotal: 1.31s\tremaining: 867ms\n",
      "700:\tlearn: 0.1003976\ttotal: 1.52s\tremaining: 648ms\n",
      "800:\tlearn: 0.0880380\ttotal: 1.73s\tremaining: 429ms\n",
      "900:\tlearn: 0.0789465\ttotal: 1.95s\tremaining: 214ms\n",
      "999:\tlearn: 0.0713898\ttotal: 2.18s\tremaining: 0us\n",
      "0:\tlearn: 0.6245369\ttotal: 2.55ms\tremaining: 2.55s\n",
      "100:\tlearn: 0.2841129\ttotal: 221ms\tremaining: 1.96s\n",
      "200:\tlearn: 0.2287461\ttotal: 449ms\tremaining: 1.78s\n",
      "300:\tlearn: 0.1900759\ttotal: 660ms\tremaining: 1.53s\n",
      "400:\tlearn: 0.1635513\ttotal: 869ms\tremaining: 1.3s\n",
      "500:\tlearn: 0.1405169\ttotal: 1.1s\tremaining: 1.1s\n",
      "600:\tlearn: 0.1239823\ttotal: 1.32s\tremaining: 874ms\n",
      "700:\tlearn: 0.1102914\ttotal: 1.52s\tremaining: 650ms\n",
      "800:\tlearn: 0.0995580\ttotal: 1.73s\tremaining: 431ms\n",
      "900:\tlearn: 0.0890751\ttotal: 1.96s\tremaining: 215ms\n",
      "999:\tlearn: 0.0801091\ttotal: 2.19s\tremaining: 0us\n",
      "0:\tlearn: 0.6240682\ttotal: 2.26ms\tremaining: 2.26s\n",
      "200:\tlearn: 0.2298636\ttotal: 445ms\tremaining: 1.77s\n",
      "400:\tlearn: 0.1587165\ttotal: 869ms\tremaining: 1.3s\n",
      "600:\tlearn: 0.1207717\ttotal: 1.31s\tremaining: 872ms\n",
      "800:\tlearn: 0.0941615\ttotal: 1.79s\tremaining: 445ms\n",
      "999:\tlearn: 0.0763813\ttotal: 2.23s\tremaining: 0us\n",
      "0:\tlearn: 0.6277009\ttotal: 3.48ms\tremaining: 3.48s\n",
      "200:\tlearn: 0.2305410\ttotal: 472ms\tremaining: 1.88s\n",
      "400:\tlearn: 0.1587914\ttotal: 925ms\tremaining: 1.38s\n",
      "600:\tlearn: 0.1191608\ttotal: 1.35s\tremaining: 894ms\n",
      "800:\tlearn: 0.0945558\ttotal: 1.77s\tremaining: 441ms\n",
      "999:\tlearn: 0.0777847\ttotal: 2.21s\tremaining: 0us\n",
      "0:\tlearn: 0.6286663\ttotal: 2.43ms\tremaining: 2.43s\n",
      "200:\tlearn: 0.2387741\ttotal: 421ms\tremaining: 1.67s\n",
      "400:\tlearn: 0.1671490\ttotal: 924ms\tremaining: 1.38s\n",
      "600:\tlearn: 0.1255092\ttotal: 1.35s\tremaining: 899ms\n",
      "800:\tlearn: 0.0992860\ttotal: 1.79s\tremaining: 445ms\n",
      "999:\tlearn: 0.0807038\ttotal: 2.22s\tremaining: 0us\n",
      "0:\tlearn: 0.6268070\ttotal: 2.38ms\tremaining: 2.37s\n",
      "200:\tlearn: 0.2234872\ttotal: 434ms\tremaining: 1.73s\n",
      "400:\tlearn: 0.1519145\ttotal: 856ms\tremaining: 1.28s\n",
      "600:\tlearn: 0.1136177\ttotal: 1.28s\tremaining: 851ms\n",
      "800:\tlearn: 0.0880380\ttotal: 1.71s\tremaining: 426ms\n",
      "999:\tlearn: 0.0713898\ttotal: 2.15s\tremaining: 0us\n",
      "0:\tlearn: 0.6245369\ttotal: 3.71ms\tremaining: 3.7s\n",
      "200:\tlearn: 0.2287461\ttotal: 460ms\tremaining: 1.83s\n",
      "400:\tlearn: 0.1635513\ttotal: 957ms\tremaining: 1.43s\n",
      "600:\tlearn: 0.1239823\ttotal: 1.37s\tremaining: 909ms\n",
      "800:\tlearn: 0.0995580\ttotal: 1.82s\tremaining: 453ms\n",
      "999:\tlearn: 0.0801091\ttotal: 2.26s\tremaining: 0us\n",
      "0:\tlearn: 0.4659784\ttotal: 2.28ms\tremaining: 2.28s\n",
      "100:\tlearn: 0.1282461\ttotal: 213ms\tremaining: 1.9s\n",
      "200:\tlearn: 0.0681864\ttotal: 418ms\tremaining: 1.66s\n",
      "300:\tlearn: 0.0446920\ttotal: 614ms\tremaining: 1.42s\n",
      "400:\tlearn: 0.0321686\ttotal: 835ms\tremaining: 1.25s\n",
      "500:\tlearn: 0.0253812\ttotal: 1.08s\tremaining: 1.08s\n",
      "600:\tlearn: 0.0210734\ttotal: 1.39s\tremaining: 923ms\n",
      "700:\tlearn: 0.0184277\ttotal: 1.61s\tremaining: 686ms\n",
      "800:\tlearn: 0.0171676\ttotal: 1.82s\tremaining: 452ms\n",
      "900:\tlearn: 0.0158202\ttotal: 2.02s\tremaining: 222ms\n",
      "999:\tlearn: 0.0152228\ttotal: 2.21s\tremaining: 0us\n",
      "0:\tlearn: 0.4742898\ttotal: 2.35ms\tremaining: 2.34s\n",
      "100:\tlearn: 0.1325264\ttotal: 211ms\tremaining: 1.88s\n",
      "200:\tlearn: 0.0701066\ttotal: 441ms\tremaining: 1.75s\n",
      "300:\tlearn: 0.0455392\ttotal: 654ms\tremaining: 1.52s\n",
      "400:\tlearn: 0.0330819\ttotal: 864ms\tremaining: 1.29s\n",
      "500:\tlearn: 0.0261161\ttotal: 1.07s\tremaining: 1.07s\n",
      "600:\tlearn: 0.0221124\ttotal: 1.29s\tremaining: 855ms\n",
      "700:\tlearn: 0.0197641\ttotal: 1.49s\tremaining: 636ms\n",
      "800:\tlearn: 0.0182748\ttotal: 1.7s\tremaining: 421ms\n",
      "900:\tlearn: 0.0171235\ttotal: 1.9s\tremaining: 208ms\n",
      "999:\tlearn: 0.0164872\ttotal: 2.09s\tremaining: 0us\n",
      "0:\tlearn: 0.4769956\ttotal: 2.33ms\tremaining: 2.33s\n",
      "100:\tlearn: 0.1371733\ttotal: 242ms\tremaining: 2.15s\n",
      "200:\tlearn: 0.0733076\ttotal: 450ms\tremaining: 1.79s\n",
      "300:\tlearn: 0.0482953\ttotal: 659ms\tremaining: 1.53s\n",
      "400:\tlearn: 0.0358828\ttotal: 875ms\tremaining: 1.31s\n",
      "500:\tlearn: 0.0285949\ttotal: 1.09s\tremaining: 1.08s\n",
      "600:\tlearn: 0.0239762\ttotal: 1.34s\tremaining: 893ms\n",
      "700:\tlearn: 0.0211041\ttotal: 1.54s\tremaining: 659ms\n",
      "800:\tlearn: 0.0195776\ttotal: 1.73s\tremaining: 431ms\n",
      "900:\tlearn: 0.0187505\ttotal: 1.93s\tremaining: 212ms\n",
      "999:\tlearn: 0.0179310\ttotal: 2.12s\tremaining: 0us\n",
      "0:\tlearn: 0.4722139\ttotal: 2.19ms\tremaining: 2.19s\n",
      "100:\tlearn: 0.1238921\ttotal: 215ms\tremaining: 1.91s\n",
      "200:\tlearn: 0.0628939\ttotal: 461ms\tremaining: 1.83s\n",
      "300:\tlearn: 0.0414797\ttotal: 695ms\tremaining: 1.61s\n",
      "400:\tlearn: 0.0317012\ttotal: 912ms\tremaining: 1.36s\n",
      "500:\tlearn: 0.0251808\ttotal: 1.13s\tremaining: 1.13s\n",
      "600:\tlearn: 0.0214021\ttotal: 1.34s\tremaining: 889ms\n",
      "700:\tlearn: 0.0188107\ttotal: 1.56s\tremaining: 664ms\n",
      "800:\tlearn: 0.0171120\ttotal: 1.81s\tremaining: 451ms\n",
      "900:\tlearn: 0.0161014\ttotal: 2.02s\tremaining: 222ms\n",
      "999:\tlearn: 0.0155112\ttotal: 2.26s\tremaining: 0us\n",
      "0:\tlearn: 0.4673871\ttotal: 2.3ms\tremaining: 2.29s\n",
      "100:\tlearn: 0.1329752\ttotal: 255ms\tremaining: 2.27s\n",
      "200:\tlearn: 0.0730673\ttotal: 513ms\tremaining: 2.04s\n",
      "300:\tlearn: 0.0466175\ttotal: 735ms\tremaining: 1.71s\n",
      "400:\tlearn: 0.0329109\ttotal: 964ms\tremaining: 1.44s\n",
      "500:\tlearn: 0.0264939\ttotal: 1.17s\tremaining: 1.17s\n",
      "600:\tlearn: 0.0229478\ttotal: 1.4s\tremaining: 931ms\n",
      "700:\tlearn: 0.0200622\ttotal: 1.64s\tremaining: 698ms\n",
      "800:\tlearn: 0.0182329\ttotal: 1.88s\tremaining: 468ms\n",
      "900:\tlearn: 0.0171042\ttotal: 2.1s\tremaining: 231ms\n",
      "999:\tlearn: 0.0164497\ttotal: 2.33s\tremaining: 0us\n",
      "0:\tlearn: 0.4659784\ttotal: 2ms\tremaining: 2s\n",
      "200:\tlearn: 0.0681864\ttotal: 420ms\tremaining: 1.67s\n",
      "400:\tlearn: 0.0321686\ttotal: 858ms\tremaining: 1.28s\n",
      "600:\tlearn: 0.0210734\ttotal: 1.28s\tremaining: 852ms\n",
      "800:\tlearn: 0.0171676\ttotal: 1.72s\tremaining: 428ms\n",
      "999:\tlearn: 0.0152228\ttotal: 2.2s\tremaining: 0us\n",
      "0:\tlearn: 0.4742898\ttotal: 2.44ms\tremaining: 2.43s\n",
      "200:\tlearn: 0.0701066\ttotal: 440ms\tremaining: 1.75s\n",
      "400:\tlearn: 0.0330819\ttotal: 873ms\tremaining: 1.3s\n",
      "600:\tlearn: 0.0221124\ttotal: 1.31s\tremaining: 874ms\n",
      "800:\tlearn: 0.0182748\ttotal: 1.78s\tremaining: 441ms\n",
      "999:\tlearn: 0.0164872\ttotal: 2.19s\tremaining: 0us\n",
      "0:\tlearn: 0.4769956\ttotal: 2.38ms\tremaining: 2.38s\n",
      "200:\tlearn: 0.0733076\ttotal: 419ms\tremaining: 1.67s\n",
      "400:\tlearn: 0.0358828\ttotal: 849ms\tremaining: 1.27s\n",
      "600:\tlearn: 0.0239762\ttotal: 1.28s\tremaining: 848ms\n",
      "800:\tlearn: 0.0195776\ttotal: 1.73s\tremaining: 431ms\n",
      "999:\tlearn: 0.0179310\ttotal: 2.16s\tremaining: 0us\n",
      "0:\tlearn: 0.4722139\ttotal: 2.41ms\tremaining: 2.41s\n",
      "200:\tlearn: 0.0628939\ttotal: 425ms\tremaining: 1.69s\n",
      "400:\tlearn: 0.0317012\ttotal: 882ms\tremaining: 1.32s\n",
      "600:\tlearn: 0.0214021\ttotal: 1.32s\tremaining: 874ms\n",
      "800:\tlearn: 0.0171120\ttotal: 1.78s\tremaining: 443ms\n",
      "999:\tlearn: 0.0155112\ttotal: 2.25s\tremaining: 0us\n",
      "0:\tlearn: 0.4673871\ttotal: 2.21ms\tremaining: 2.21s\n",
      "200:\tlearn: 0.0730673\ttotal: 433ms\tremaining: 1.72s\n",
      "400:\tlearn: 0.0329109\ttotal: 852ms\tremaining: 1.27s\n",
      "600:\tlearn: 0.0229478\ttotal: 1.27s\tremaining: 842ms\n",
      "800:\tlearn: 0.0182329\ttotal: 1.7s\tremaining: 422ms\n",
      "999:\tlearn: 0.0164497\ttotal: 2.15s\tremaining: 0us\n",
      "0:\tlearn: 0.4276094\ttotal: 2.24ms\tremaining: 2.24s\n",
      "100:\tlearn: 0.0885573\ttotal: 231ms\tremaining: 2.06s\n",
      "200:\tlearn: 0.0376068\ttotal: 470ms\tremaining: 1.87s\n",
      "300:\tlearn: 0.0240569\ttotal: 687ms\tremaining: 1.59s\n",
      "400:\tlearn: 0.0182696\ttotal: 892ms\tremaining: 1.33s\n",
      "500:\tlearn: 0.0157332\ttotal: 1.1s\tremaining: 1.1s\n",
      "600:\tlearn: 0.0149211\ttotal: 1.31s\tremaining: 872ms\n",
      "700:\tlearn: 0.0143003\ttotal: 1.53s\tremaining: 653ms\n",
      "800:\tlearn: 0.0138615\ttotal: 1.74s\tremaining: 431ms\n",
      "900:\tlearn: 0.0134570\ttotal: 1.94s\tremaining: 213ms\n",
      "999:\tlearn: 0.0129425\ttotal: 2.16s\tremaining: 0us\n",
      "0:\tlearn: 0.4356700\ttotal: 2.3ms\tremaining: 2.3s\n",
      "100:\tlearn: 0.0860718\ttotal: 221ms\tremaining: 1.97s\n",
      "200:\tlearn: 0.0366206\ttotal: 422ms\tremaining: 1.68s\n",
      "300:\tlearn: 0.0246410\ttotal: 628ms\tremaining: 1.46s\n",
      "400:\tlearn: 0.0197670\ttotal: 831ms\tremaining: 1.24s\n",
      "500:\tlearn: 0.0166276\ttotal: 1.05s\tremaining: 1.05s\n",
      "600:\tlearn: 0.0152564\ttotal: 1.27s\tremaining: 843ms\n",
      "700:\tlearn: 0.0144029\ttotal: 1.49s\tremaining: 635ms\n",
      "800:\tlearn: 0.0142215\ttotal: 1.68s\tremaining: 417ms\n",
      "900:\tlearn: 0.0139575\ttotal: 1.87s\tremaining: 205ms\n",
      "999:\tlearn: 0.0136078\ttotal: 2.1s\tremaining: 0us\n",
      "0:\tlearn: 0.4387556\ttotal: 3.33ms\tremaining: 3.33s\n",
      "100:\tlearn: 0.0875756\ttotal: 210ms\tremaining: 1.87s\n",
      "200:\tlearn: 0.0410982\ttotal: 418ms\tremaining: 1.66s\n",
      "300:\tlearn: 0.0271593\ttotal: 624ms\tremaining: 1.45s\n",
      "400:\tlearn: 0.0218992\ttotal: 836ms\tremaining: 1.25s\n",
      "500:\tlearn: 0.0191413\ttotal: 1.04s\tremaining: 1.04s\n",
      "600:\tlearn: 0.0174452\ttotal: 1.25s\tremaining: 828ms\n",
      "700:\tlearn: 0.0165501\ttotal: 1.47s\tremaining: 629ms\n",
      "800:\tlearn: 0.0158053\ttotal: 1.68s\tremaining: 418ms\n",
      "900:\tlearn: 0.0154211\ttotal: 1.88s\tremaining: 207ms\n",
      "999:\tlearn: 0.0152779\ttotal: 2.08s\tremaining: 0us\n",
      "0:\tlearn: 0.4334946\ttotal: 2.24ms\tremaining: 2.23s\n",
      "100:\tlearn: 0.0800654\ttotal: 208ms\tremaining: 1.85s\n",
      "200:\tlearn: 0.0369232\ttotal: 405ms\tremaining: 1.61s\n",
      "300:\tlearn: 0.0241344\ttotal: 610ms\tremaining: 1.42s\n",
      "400:\tlearn: 0.0190036\ttotal: 823ms\tremaining: 1.23s\n",
      "500:\tlearn: 0.0161644\ttotal: 1.02s\tremaining: 1.02s\n",
      "600:\tlearn: 0.0151020\ttotal: 1.24s\tremaining: 826ms\n",
      "700:\tlearn: 0.0151020\ttotal: 1.44s\tremaining: 616ms\n",
      "800:\tlearn: 0.0151020\ttotal: 1.68s\tremaining: 417ms\n",
      "900:\tlearn: 0.0151020\ttotal: 1.86s\tremaining: 205ms\n",
      "999:\tlearn: 0.0151020\ttotal: 2.05s\tremaining: 0us\n",
      "0:\tlearn: 0.4285408\ttotal: 2.23ms\tremaining: 2.23s\n",
      "100:\tlearn: 0.0874626\ttotal: 200ms\tremaining: 1.78s\n",
      "200:\tlearn: 0.0388504\ttotal: 405ms\tremaining: 1.61s\n",
      "300:\tlearn: 0.0253272\ttotal: 600ms\tremaining: 1.39s\n",
      "400:\tlearn: 0.0197061\ttotal: 814ms\tremaining: 1.22s\n",
      "500:\tlearn: 0.0173993\ttotal: 1.01s\tremaining: 1s\n",
      "600:\tlearn: 0.0160673\ttotal: 1.2s\tremaining: 798ms\n",
      "700:\tlearn: 0.0154016\ttotal: 1.4s\tremaining: 595ms\n",
      "800:\tlearn: 0.0148019\ttotal: 1.59s\tremaining: 395ms\n",
      "900:\tlearn: 0.0145159\ttotal: 1.8s\tremaining: 198ms\n",
      "999:\tlearn: 0.0143912\ttotal: 1.99s\tremaining: 0us\n",
      "0:\tlearn: 0.4276094\ttotal: 2.34ms\tremaining: 2.34s\n",
      "200:\tlearn: 0.0376068\ttotal: 464ms\tremaining: 1.84s\n",
      "400:\tlearn: 0.0182696\ttotal: 927ms\tremaining: 1.38s\n",
      "600:\tlearn: 0.0149211\ttotal: 1.32s\tremaining: 877ms\n",
      "800:\tlearn: 0.0138615\ttotal: 1.74s\tremaining: 432ms\n",
      "999:\tlearn: 0.0129425\ttotal: 2.15s\tremaining: 0us\n",
      "0:\tlearn: 0.4356700\ttotal: 2.32ms\tremaining: 2.32s\n",
      "200:\tlearn: 0.0366206\ttotal: 433ms\tremaining: 1.72s\n",
      "400:\tlearn: 0.0197670\ttotal: 894ms\tremaining: 1.33s\n",
      "600:\tlearn: 0.0152564\ttotal: 1.31s\tremaining: 871ms\n",
      "800:\tlearn: 0.0142215\ttotal: 1.76s\tremaining: 438ms\n",
      "999:\tlearn: 0.0136078\ttotal: 2.18s\tremaining: 0us\n",
      "0:\tlearn: 0.4387556\ttotal: 2.68ms\tremaining: 2.67s\n",
      "200:\tlearn: 0.0410982\ttotal: 448ms\tremaining: 1.78s\n",
      "400:\tlearn: 0.0218992\ttotal: 887ms\tremaining: 1.32s\n",
      "600:\tlearn: 0.0174452\ttotal: 1.31s\tremaining: 871ms\n",
      "800:\tlearn: 0.0158053\ttotal: 1.73s\tremaining: 429ms\n",
      "999:\tlearn: 0.0152779\ttotal: 2.14s\tremaining: 0us\n",
      "0:\tlearn: 0.4334946\ttotal: 2.29ms\tremaining: 2.29s\n",
      "200:\tlearn: 0.0369232\ttotal: 436ms\tremaining: 1.73s\n",
      "400:\tlearn: 0.0190036\ttotal: 941ms\tremaining: 1.41s\n",
      "600:\tlearn: 0.0151020\ttotal: 1.37s\tremaining: 909ms\n",
      "800:\tlearn: 0.0151020\ttotal: 1.79s\tremaining: 445ms\n",
      "999:\tlearn: 0.0151020\ttotal: 2.23s\tremaining: 0us\n",
      "0:\tlearn: 0.4285408\ttotal: 2.35ms\tremaining: 2.35s\n",
      "200:\tlearn: 0.0388504\ttotal: 406ms\tremaining: 1.61s\n",
      "400:\tlearn: 0.0197061\ttotal: 822ms\tremaining: 1.23s\n",
      "600:\tlearn: 0.0160673\ttotal: 1.24s\tremaining: 823ms\n",
      "800:\tlearn: 0.0148019\ttotal: 1.64s\tremaining: 407ms\n",
      "999:\tlearn: 0.0143912\ttotal: 2.04s\tremaining: 0us\n",
      "0:\tlearn: 0.6273078\ttotal: 2.78ms\tremaining: 2.78s\n",
      "100:\tlearn: 0.2980664\ttotal: 290ms\tremaining: 2.58s\n",
      "200:\tlearn: 0.2396649\ttotal: 517ms\tremaining: 2.05s\n",
      "300:\tlearn: 0.1999115\ttotal: 744ms\tremaining: 1.73s\n",
      "400:\tlearn: 0.1732497\ttotal: 970ms\tremaining: 1.45s\n",
      "500:\tlearn: 0.1519640\ttotal: 1.2s\tremaining: 1.2s\n",
      "600:\tlearn: 0.1351660\ttotal: 1.43s\tremaining: 948ms\n",
      "700:\tlearn: 0.1225356\ttotal: 1.65s\tremaining: 704ms\n",
      "800:\tlearn: 0.1107505\ttotal: 1.86s\tremaining: 463ms\n",
      "900:\tlearn: 0.1007141\ttotal: 2.11s\tremaining: 232ms\n",
      "999:\tlearn: 0.0918365\ttotal: 2.38s\tremaining: 0us\n",
      "Лучшие гиперпараметры:\n",
      "\n",
      "{'learning_rate': 0.1, 'random_state': 12345, 'verbose': 100}\n",
      "\n"
     ]
    }
   ],
   "source": [
    "classifier = CatBoostClassifier() \n",
    "hyperparams = [{'learning_rate':[0.1, 0.5, 0.8],\n",
    "                'random_state':[12345],\n",
    "                'verbose':[100, 200]}]\n",
    "\n",
    "print('# Идет подбор гиперпараметров')\n",
    "print()\n",
    "clf = GridSearchCV(classifier, hyperparams)\n",
    "clf.fit(features_train, target_train)\n",
    "print('Лучшие гиперпараметры:')\n",
    "print()\n",
    "print(clf.best_params_)\n",
    "print()"
   ]
  },
  {
   "cell_type": "code",
   "execution_count": 190,
   "metadata": {},
   "outputs": [
    {
     "name": "stdout",
     "output_type": "stream",
     "text": [
      "0:\tlearn: 0.6273078\ttotal: 2.38ms\tremaining: 2.38s\n",
      "100:\tlearn: 0.2980664\ttotal: 313ms\tremaining: 2.79s\n",
      "200:\tlearn: 0.2396649\ttotal: 570ms\tremaining: 2.26s\n",
      "300:\tlearn: 0.1999115\ttotal: 845ms\tremaining: 1.96s\n",
      "400:\tlearn: 0.1732497\ttotal: 1.07s\tremaining: 1.6s\n",
      "500:\tlearn: 0.1519640\ttotal: 1.3s\tremaining: 1.3s\n",
      "600:\tlearn: 0.1351660\ttotal: 1.53s\tremaining: 1.02s\n",
      "700:\tlearn: 0.1225356\ttotal: 1.78s\tremaining: 758ms\n",
      "800:\tlearn: 0.1107505\ttotal: 2.01s\tremaining: 499ms\n",
      "900:\tlearn: 0.1007141\ttotal: 2.25s\tremaining: 248ms\n",
      "999:\tlearn: 0.0918365\ttotal: 2.52s\tremaining: 0us\n",
      "| accuracy: 0.872959545777147 | AUC-ROC: 0.9177176955194054\n"
     ]
    }
   ],
   "source": [
    "model_cat = CatBoostClassifier(verbose=100,\n",
    "                           random_state=12345,\n",
    "                           learning_rate=0.1)\n",
    "model_cat.fit(features_train, target_train)\n",
    "predicted_valid_cat = pd.Series(model_cat.predict(features_valid))\n",
    "accuracy = accuracy_score(target_valid, predicted_valid_cat)\n",
    "probabilities_valid = model_cat.predict_proba(features_valid)\n",
    "probabilities_one_valid = probabilities_valid[:, 1]\n",
    "roc_auc = roc_auc_score(target_valid, probabilities_one_valid)\n",
    "print(\"| \" \"accuracy:\", accuracy, \"| \" \"AUC-ROC:\", roc_auc) "
   ]
  },
  {
   "cell_type": "code",
   "execution_count": 191,
   "metadata": {},
   "outputs": [
    {
     "name": "stdout",
     "output_type": "stream",
     "text": [
      "Feature importances:\n",
      " 1. feature 'duration' (32.0517)\n",
      " 2. feature 'TotalCharges' (16.1235)\n",
      " 3. feature 'Months' (12.0882)\n",
      " 4. feature 'InternetService_Fiber optic' (4.6035)\n",
      " 5. feature 'gender' (3.8873)\n",
      " 6. feature 'Type_Two year' (3.4437)\n",
      " 7. feature 'Dependents' (3.1482)\n",
      " 8. feature 'PaymentMethod_Electronic check' (2.5341)\n",
      " 9. feature 'TechSupport' (2.2561)\n",
      "10. feature 'MultipleLines' (2.1040)\n",
      "11. feature 'SeniorCitizen' (1.9392)\n",
      "12. feature 'InternetService_No' (1.9104)\n",
      "13. feature 'OnlineBackup' (1.9029)\n",
      "14. feature 'OnlineSecurity' (1.8596)\n",
      "15. feature 'PaymentMethod_Mailed check' (1.7906)\n",
      "16. feature 'Type_One year' (1.7808)\n",
      "17. feature 'StreamingTV' (1.6159)\n",
      "18. feature 'StreamingMovies' (1.4835)\n",
      "19. feature 'Partner' (1.2219)\n",
      "20. feature 'PaymentMethod_Credit card (automatic)' (1.1617)\n",
      "21. feature 'DeviceProtection' (1.0930)\n"
     ]
    },
    {
     "data": {
      "image/png": "[encoded data removed]",
      "text/plain": [
       "<Figure size 1440x648 with 1 Axes>"
      ]
     },
     "metadata": {
      "needs_background": "light"
     },
     "output_type": "display_data"
    }
   ],
   "source": [
    "#Посмотрим на вес признаков каторые учитывает модель\n",
    "feature_import_2 = model_cat.feature_importances_\n",
    "col_names = features_train.columns\n",
    "indices = np.argsort(feature_import_2)[::-1]\n",
    "print(\"Feature importances:\")\n",
    "for f, idx in enumerate(indices):\n",
    "    print(\"{:2d}. feature '{:5s}' ({:.4f})\".format(f + 1, col_names[idx], feature_import_2[idx]))\n",
    "d1 = pd.Series(data = feature_import_2, index =col_names  ).sort_values(ascending=False)\n",
    "plt.figure(figsize=(20,9))\n",
    "plt.bar(d1.index,d1.values)\n",
    "plt.tick_params(axis='both', which='major', labelsize=16)\n",
    "plt.xticks(rotation=90);"
   ]
  },
  {
   "cell_type": "markdown",
   "metadata": {},
   "source": [
    "LGBMClassifier"
   ]
  },
  {
   "cell_type": "code",
   "execution_count": 192,
   "metadata": {},
   "outputs": [
    {
     "name": "stdout",
     "output_type": "stream",
     "text": [
      "| accuracy: 0.872959545777147 | AUC-ROC: 0.8809588747788761\n"
     ]
    }
   ],
   "source": [
    "model_LGMR = LGBMClassifier(learning_rate=0.1, \n",
    "                      num_leaves=200, \n",
    "                      random_state=12345)\n",
    "model_LGMR.fit(features_train, target_train)\n",
    "predicted_valid_LGMR = pd.Series(model_cat.predict(features_valid))\n",
    "accuracy = accuracy_score(target_valid, predicted_valid_LGMR)\n",
    "probabilities_valid = model_LGMR.predict_proba(features_valid)\n",
    "probabilities_one_valid = probabilities_valid[:, 1]\n",
    "roc_auc = roc_auc_score(target_valid, probabilities_one_valid)\n",
    "print(\"| \" \"accuracy:\", accuracy, \"| \" \"AUC-ROC:\", roc_auc) "
   ]
  },
  {
   "cell_type": "code",
   "execution_count": 193,
   "metadata": {},
   "outputs": [
    {
     "name": "stdout",
     "output_type": "stream",
     "text": [
      "Feature importances:\n",
      " 1. feature 'TotalCharges' (5880.0000)\n",
      " 2. feature 'Months' (3220.0000)\n",
      " 3. feature 'duration' (2085.0000)\n",
      " 4. feature 'gender' (803.0000)\n",
      " 5. feature 'PaymentMethod_Electronic check' (646.0000)\n",
      " 6. feature 'Partner' (471.0000)\n",
      " 7. feature 'StreamingTV' (389.0000)\n",
      " 8. feature 'MultipleLines' (385.0000)\n",
      " 9. feature 'OnlineBackup' (378.0000)\n",
      "10. feature 'DeviceProtection' (368.0000)\n",
      "11. feature 'Dependents' (342.0000)\n",
      "12. feature 'StreamingMovies' (302.0000)\n",
      "13. feature 'OnlineSecurity' (298.0000)\n",
      "14. feature 'SeniorCitizen' (297.0000)\n",
      "15. feature 'PaymentMethod_Mailed check' (263.0000)\n",
      "16. feature 'PaymentMethod_Credit card (automatic)' (257.0000)\n",
      "17. feature 'TechSupport' (240.0000)\n",
      "18. feature 'InternetService_Fiber optic' (231.0000)\n",
      "19. feature 'Type_One year' (195.0000)\n",
      "20. feature 'Type_Two year' (160.0000)\n",
      "21. feature 'InternetService_No' (106.0000)\n"
     ]
    },
    {
     "data": {
      "image/png": "[encoded data removed]",
      "text/plain": [
       "<Figure size 1440x648 with 1 Axes>"
      ]
     },
     "metadata": {
      "needs_background": "light"
     },
     "output_type": "display_data"
    }
   ],
   "source": [
    "#Посмотрим на вес признаков каторые учитывает модель\n",
    "feature_import_3 = model_LGMR.feature_importances_\n",
    "col_names = features_train.columns\n",
    "indices = np.argsort(feature_import_3)[::-1]\n",
    "print(\"Feature importances:\")\n",
    "for f, idx in enumerate(indices):\n",
    "    print(\"{:2d}. feature '{:5s}' ({:.4f})\".format(f + 1, col_names[idx], feature_import_3[idx]))\n",
    "d1 = pd.Series(data = feature_import_3, index =col_names  ).sort_values(ascending=False)\n",
    "plt.figure(figsize=(20,9))\n",
    "plt.bar(d1.index,d1.values)\n",
    "plt.tick_params(axis='both', which='major', labelsize=16)\n",
    "plt.xticks(rotation=90);"
   ]
  },
  {
   "cell_type": "markdown",
   "metadata": {},
   "source": [
    "Вывод: Модели по разному оценивают значения параметров. Для RandomForest и CatBoostClassifier важнейшим параметром является duration. А для LGBMClassifier этот параметр только на третьем месте. Лучшее результат на обучаюшей выборке показала модель CatBoostClassifier(ROC-AUC = 0.9177). Проверим модели на тестовой выборке и объединим результаты в итоговую таблицу."
   ]
  },
  {
   "cell_type": "markdown",
   "metadata": {},
   "source": [
    " **Шаг 4: Тестирование моделей**"
   ]
  },
  {
   "cell_type": "code",
   "execution_count": 194,
   "metadata": {},
   "outputs": [
    {
     "name": "stdout",
     "output_type": "stream",
     "text": [
      "ROC-AUC модели LogisticRegression на тестовой выборке: 0.8212384584605879\n"
     ]
    }
   ],
   "source": [
    "lr_ROC = roc_auc_score(target_test, model_lr.predict_proba(features_test)[:, 1])\n",
    "print('ROC-AUC модели LogisticRegression на тестовой выборке:', lr_ROC)"
   ]
  },
  {
   "cell_type": "code",
   "execution_count": 195,
   "metadata": {},
   "outputs": [
    {
     "name": "stdout",
     "output_type": "stream",
     "text": [
      "ROC-AUC модели DecisionTree на тестовой выборке: 0.6738448330876878\n"
     ]
    }
   ],
   "source": [
    "dt_ROC = roc_auc_score(target_test, model_dt.predict_proba(features_test)[:, 1])\n",
    "print('ROC-AUC модели DecisionTree на тестовой выборке:', dt_ROC)"
   ]
  },
  {
   "cell_type": "code",
   "execution_count": 196,
   "metadata": {},
   "outputs": [
    {
     "name": "stdout",
     "output_type": "stream",
     "text": [
      "ROC-AUC модели RandomForest на тестовой выборке:' 0.8373333029442005\n"
     ]
    }
   ],
   "source": [
    "model_rf_test = RandomForestClassifier(n_estimators=41, max_depth=10, random_state=12345)\n",
    "model_rf_test.fit(features_train, target_train)\n",
    "probabilities_valid = model_rf_test.predict_proba(features_test)\n",
    "probabilities_one_valid = probabilities_valid[:, 1]\n",
    "rf_ROC = roc_auc_score(target_test, probabilities_one_valid)\n",
    "print(\"ROC-AUC модели RandomForest на тестовой выборке:'\", rf_ROC)"
   ]
  },
  {
   "cell_type": "code",
   "execution_count": 197,
   "metadata": {},
   "outputs": [
    {
     "name": "stdout",
     "output_type": "stream",
     "text": [
      "ROC-AUC модели CatBoost на тестовой выборке: 0.904838962920193\n"
     ]
    }
   ],
   "source": [
    "cat_ROC = roc_auc_score(target_test, model_cat.predict_proba(features_test)[:, 1])\n",
    "print('ROC-AUC модели CatBoost на тестовой выборке:', cat_ROC)"
   ]
  },
  {
   "cell_type": "code",
   "execution_count": 198,
   "metadata": {},
   "outputs": [
    {
     "name": "stdout",
     "output_type": "stream",
     "text": [
      "ROC-AUC модели LGMR на тестовой выборке: 0.8730114111193836\n"
     ]
    }
   ],
   "source": [
    "LGMR_ROC = roc_auc_score(target_test, model_LGMR.predict_proba(features_test)[:, 1])\n",
    "print('ROC-AUC модели LGMR на тестовой выборке:', LGMR_ROC)"
   ]
  },
  {
   "cell_type": "code",
   "execution_count": 199,
   "metadata": {},
   "outputs": [
    {
     "data": {
      "text/html": [
       "<div>\n",
       "<style scoped>\n",
       "    .dataframe tbody tr th:only-of-type {\n",
       "        vertical-align: middle;\n",
       "    }\n",
       "\n",
       "    .dataframe tbody tr th {\n",
       "        vertical-align: top;\n",
       "    }\n",
       "\n",
       "    .dataframe thead th {\n",
       "        text-align: right;\n",
       "    }\n",
       "</style>\n",
       "<table border=\"1\" class=\"dataframe\">\n",
       "  <thead>\n",
       "    <tr style=\"text-align: right;\">\n",
       "      <th></th>\n",
       "      <th>Model</th>\n",
       "      <th>ROC-AUC</th>\n",
       "    </tr>\n",
       "  </thead>\n",
       "  <tbody>\n",
       "    <tr>\n",
       "      <th>0</th>\n",
       "      <td>LogisticRegression</td>\n",
       "      <td>0.821238</td>\n",
       "    </tr>\n",
       "    <tr>\n",
       "      <th>1</th>\n",
       "      <td>DecisionTreeClassifier</td>\n",
       "      <td>0.673845</td>\n",
       "    </tr>\n",
       "    <tr>\n",
       "      <th>2</th>\n",
       "      <td>RandomForestClassifier</td>\n",
       "      <td>0.837333</td>\n",
       "    </tr>\n",
       "    <tr>\n",
       "      <th>3</th>\n",
       "      <td>CatBoostClassifier</td>\n",
       "      <td>0.904839</td>\n",
       "    </tr>\n",
       "    <tr>\n",
       "      <th>4</th>\n",
       "      <td>LGBMClassifier</td>\n",
       "      <td>0.873011</td>\n",
       "    </tr>\n",
       "  </tbody>\n",
       "</table>\n",
       "</div>"
      ],
      "text/plain": [
       "                    Model   ROC-AUC\n",
       "0      LogisticRegression  0.821238\n",
       "1  DecisionTreeClassifier  0.673845\n",
       "2  RandomForestClassifier  0.837333\n",
       "3      CatBoostClassifier  0.904839\n",
       "4          LGBMClassifier  0.873011"
      ]
     },
     "metadata": {},
     "output_type": "display_data"
    }
   ],
   "source": [
    "results = {\n",
    "    'Model' : ['LogisticRegression', 'DecisionTreeClassifier', 'RandomForestClassifier', 'CatBoostClassifier', 'LGBMClassifier'],\n",
    "    'ROC-AUC' :pd.Series([lr_ROC, dt_ROC, rf_ROC, cat_ROC, LGMR_ROC])\n",
    "    }\n",
    "display(pd.DataFrame(results))"
   ]
  },
  {
   "cell_type": "markdown",
   "metadata": {},
   "source": [
    "Вывод: Я обучил несколько моделей и проверили их качество с помощью метрики ROC-AUC. Лучше всего с задачей прогнозирования оттока клиентов справилась модель CatBoostClassifier с подбором гиперпараметров, которая показывает очень высокие значения метрики как на тренировочной(AUC-ROC = 0.9177) так и на тестовой выборке(AUC-ROC = 0.9048)"
   ]
  },
  {
   "cell_type": "markdown",
   "metadata": {},
   "source": [
    "# Ответы на вопросы:\n",
    "\n",
    "### Какие пункты плана были выполнены, а какие — нет (поясните почему)?\n",
    "\n",
    "- Первый пункт - загрузка данный, их первичный анализ. Проверка па наличие пропусков и дубликатов.\n",
    "\n",
    "- Второй пункт - предобработка данных, объединение данных в общую таблицу. Приведение данных к нужным форматам. Добавление дополнительных признаков.\n",
    "\n",
    "- Третий пункт -  исследовательский анализ данных. Посмотрел, на распределение количества новых клиентов по годам, их ежемесячные затраты. Выделил в отдельную таблицу клиентов, которые ушли. Попытался определить причины по которым они могли это сделать. Проверил какими услугами пользовались ушедшие пользователи\n",
    "\n",
    "- Четвертыи и пятый пункты - Подготовка и обучение моделей. Были определены признаки и целевой признак. Закодированы категориальные признаки. Выборки разбиты на обучающую, валидационную и тестовую. Обучены пять моделей.\n",
    "- Шестой пункт - тестирование моделей и общей вывод \n",
    "\n",
    "### Какие трудности возникли и как вы их преодолели?\n",
    "\n",
    "Главной проблемой было понять какой признак может стать целевым. Сначала я думал что возможно использовать напряму End Date но столкнулся с проблемой утечки. Вообще в данной задаче нужно было быть очень осторожно с признаками. Использование части из них могло привести к утечке и переобучению моделей. Поэтому я удалил часть признаков и создал целевой признак out. который определял ущёл клиент или нет.\n",
    "\n",
    "### Какие ключевые шаги в решении задачи выделили?\n",
    "\n",
    "Как я уже писал выше ключевой шаг это создание дополнительных признаков : duration (длительность контракта на 2020-01-01) и выделение out из EndDate.\n",
    "Удаление признаков, которые могли переобучить модель.\n",
    "Настройка гиперпараметров.\n",
    "\n",
    "\n",
    "### Какая ваша итоговая модель и какое у неё качество?\n",
    "\n",
    "Моя итоговая модель CatBoostClassifier с такими гиперпараметрами {'learning_rate': 0.1, 'random_state': 12345, 'verbose': 100}. Её ROC-AUC на тестовой выборке 0.904839"
   ]
  }
 ],
 "metadata": {
  "ExecuteTimeLog": [
   {
    "duration": 1753,
    "start_time": "2022-07-20T08:50:09.163Z"
   },
   {
    "duration": 273,
    "start_time": "2022-07-20T08:50:17.695Z"
   },
   {
    "duration": 20,
    "start_time": "2022-07-20T08:50:25.023Z"
   },
   {
    "duration": 15,
    "start_time": "2022-07-20T08:50:32.043Z"
   },
   {
    "duration": 14,
    "start_time": "2022-07-20T08:50:39.797Z"
   },
   {
    "duration": 54,
    "start_time": "2022-07-20T08:50:47.921Z"
   },
   {
    "duration": 11,
    "start_time": "2022-07-20T08:50:56.772Z"
   },
   {
    "duration": 119,
    "start_time": "2022-07-20T08:51:23.356Z"
   },
   {
    "duration": 69,
    "start_time": "2022-07-20T08:51:35.556Z"
   },
   {
    "duration": 9,
    "start_time": "2022-07-20T08:51:43.789Z"
   },
   {
    "duration": 11,
    "start_time": "2022-07-20T08:51:50.835Z"
   },
   {
    "duration": 14,
    "start_time": "2022-07-20T08:51:58.790Z"
   },
   {
    "duration": 10,
    "start_time": "2022-07-20T08:52:38.254Z"
   },
   {
    "duration": 130,
    "start_time": "2022-07-20T08:52:57.798Z"
   },
   {
    "duration": 11,
    "start_time": "2022-07-20T08:53:06.255Z"
   },
   {
    "duration": 11,
    "start_time": "2022-07-20T08:53:14.939Z"
   },
   {
    "duration": 15,
    "start_time": "2022-07-20T08:53:23.177Z"
   },
   {
    "duration": 10,
    "start_time": "2022-07-20T08:53:31.858Z"
   },
   {
    "duration": 65,
    "start_time": "2022-07-20T08:53:49.973Z"
   },
   {
    "duration": 14,
    "start_time": "2022-07-20T08:53:56.538Z"
   },
   {
    "duration": 8,
    "start_time": "2022-07-20T08:54:02.828Z"
   },
   {
    "duration": 27,
    "start_time": "2022-07-20T08:57:00.369Z"
   },
   {
    "duration": 23,
    "start_time": "2022-07-20T08:57:06.581Z"
   },
   {
    "duration": 17,
    "start_time": "2022-07-20T08:57:17.028Z"
   },
   {
    "duration": 88,
    "start_time": "2022-07-20T08:57:41.073Z"
   },
   {
    "duration": 25,
    "start_time": "2022-07-20T08:57:54.974Z"
   },
   {
    "duration": 11,
    "start_time": "2022-07-20T08:58:21.025Z"
   },
   {
    "duration": 18,
    "start_time": "2022-07-20T08:58:49.771Z"
   },
   {
    "duration": 26,
    "start_time": "2022-07-20T08:58:57.734Z"
   },
   {
    "duration": 5,
    "start_time": "2022-07-20T08:59:01.607Z"
   },
   {
    "duration": 25,
    "start_time": "2022-07-20T09:05:57.377Z"
   },
   {
    "duration": 10,
    "start_time": "2022-07-20T09:06:19.869Z"
   },
   {
    "duration": 18,
    "start_time": "2022-07-20T09:06:26.670Z"
   },
   {
    "duration": 82,
    "start_time": "2022-07-20T09:07:08.191Z"
   },
   {
    "duration": 4,
    "start_time": "2022-07-20T09:07:27.055Z"
   },
   {
    "duration": 17,
    "start_time": "2022-07-20T09:08:31.495Z"
   },
   {
    "duration": 256,
    "start_time": "2022-07-20T09:09:57.182Z"
   },
   {
    "duration": 220,
    "start_time": "2022-07-20T09:10:05.245Z"
   },
   {
    "duration": 149,
    "start_time": "2022-07-20T09:11:18.749Z"
   },
   {
    "duration": 137,
    "start_time": "2022-07-20T09:11:29.503Z"
   },
   {
    "duration": 17,
    "start_time": "2022-07-20T09:11:49.942Z"
   },
   {
    "duration": 445,
    "start_time": "2022-07-20T09:12:13.797Z"
   },
   {
    "duration": 374,
    "start_time": "2022-07-20T09:12:28.395Z"
   },
   {
    "duration": 344,
    "start_time": "2022-07-20T09:12:59.913Z"
   },
   {
    "duration": 166,
    "start_time": "2022-07-20T09:13:08.267Z"
   },
   {
    "duration": 236,
    "start_time": "2022-07-20T09:13:16.285Z"
   },
   {
    "duration": 216,
    "start_time": "2022-07-20T09:13:24.609Z"
   },
   {
    "duration": 4,
    "start_time": "2022-07-20T09:13:44.495Z"
   },
   {
    "duration": 214,
    "start_time": "2022-07-20T09:14:10.392Z"
   },
   {
    "duration": 168,
    "start_time": "2022-07-20T09:14:16.938Z"
   },
   {
    "duration": 3,
    "start_time": "2022-07-20T09:14:56.949Z"
   },
   {
    "duration": 18,
    "start_time": "2022-07-20T09:15:03.838Z"
   },
   {
    "duration": 11,
    "start_time": "2022-07-20T09:15:10.789Z"
   },
   {
    "duration": 5,
    "start_time": "2022-07-20T09:15:26.953Z"
   },
   {
    "duration": 8,
    "start_time": "2022-07-20T09:15:32.538Z"
   },
   {
    "duration": 4,
    "start_time": "2022-07-20T09:15:38.127Z"
   },
   {
    "duration": 6,
    "start_time": "2022-07-20T09:15:55.063Z"
   },
   {
    "duration": 20,
    "start_time": "2022-07-20T09:16:00.978Z"
   },
   {
    "duration": 4,
    "start_time": "2022-07-20T09:16:15.881Z"
   },
   {
    "duration": 58,
    "start_time": "2022-07-20T09:16:15.888Z"
   },
   {
    "duration": 11,
    "start_time": "2022-07-20T09:16:15.948Z"
   },
   {
    "duration": 29,
    "start_time": "2022-07-20T09:16:15.961Z"
   },
   {
    "duration": 32,
    "start_time": "2022-07-20T09:16:15.992Z"
   },
   {
    "duration": 26,
    "start_time": "2022-07-20T09:16:16.026Z"
   },
   {
    "duration": 12,
    "start_time": "2022-07-20T09:16:16.054Z"
   },
   {
    "duration": 20,
    "start_time": "2022-07-20T09:16:16.068Z"
   },
   {
    "duration": 9,
    "start_time": "2022-07-20T09:16:16.090Z"
   },
   {
    "duration": 17,
    "start_time": "2022-07-20T09:16:16.101Z"
   },
   {
    "duration": 19,
    "start_time": "2022-07-20T09:16:16.119Z"
   },
   {
    "duration": 17,
    "start_time": "2022-07-20T09:16:16.140Z"
   },
   {
    "duration": 26,
    "start_time": "2022-07-20T09:16:16.159Z"
   },
   {
    "duration": 12,
    "start_time": "2022-07-20T09:16:16.188Z"
   },
   {
    "duration": 12,
    "start_time": "2022-07-20T09:16:16.204Z"
   },
   {
    "duration": 16,
    "start_time": "2022-07-20T09:16:16.217Z"
   },
   {
    "duration": 10,
    "start_time": "2022-07-20T09:16:16.235Z"
   },
   {
    "duration": 19,
    "start_time": "2022-07-20T09:16:16.246Z"
   },
   {
    "duration": 12,
    "start_time": "2022-07-20T09:16:16.267Z"
   },
   {
    "duration": 29,
    "start_time": "2022-07-20T09:16:16.280Z"
   },
   {
    "duration": 25,
    "start_time": "2022-07-20T09:16:16.311Z"
   },
   {
    "duration": 19,
    "start_time": "2022-07-20T09:16:16.338Z"
   },
   {
    "duration": 20,
    "start_time": "2022-07-20T09:16:16.359Z"
   },
   {
    "duration": 24,
    "start_time": "2022-07-20T09:16:16.404Z"
   },
   {
    "duration": 8,
    "start_time": "2022-07-20T09:16:16.429Z"
   },
   {
    "duration": 27,
    "start_time": "2022-07-20T09:16:16.439Z"
   },
   {
    "duration": 10,
    "start_time": "2022-07-20T09:16:16.468Z"
   },
   {
    "duration": 39,
    "start_time": "2022-07-20T09:16:16.480Z"
   },
   {
    "duration": 17,
    "start_time": "2022-07-20T09:16:16.521Z"
   },
   {
    "duration": 13,
    "start_time": "2022-07-20T09:16:16.540Z"
   },
   {
    "duration": 244,
    "start_time": "2022-07-20T09:16:16.554Z"
   },
   {
    "duration": 195,
    "start_time": "2022-07-20T09:16:16.799Z"
   },
   {
    "duration": 162,
    "start_time": "2022-07-20T09:16:16.996Z"
   },
   {
    "duration": 157,
    "start_time": "2022-07-20T09:16:17.160Z"
   },
   {
    "duration": 15,
    "start_time": "2022-07-20T09:16:17.319Z"
   },
   {
    "duration": 508,
    "start_time": "2022-07-20T09:16:17.336Z"
   },
   {
    "duration": 406,
    "start_time": "2022-07-20T09:16:17.846Z"
   },
   {
    "duration": 252,
    "start_time": "2022-07-20T09:16:18.254Z"
   },
   {
    "duration": 209,
    "start_time": "2022-07-20T09:16:18.508Z"
   },
   {
    "duration": 206,
    "start_time": "2022-07-20T09:16:18.719Z"
   },
   {
    "duration": 202,
    "start_time": "2022-07-20T09:16:18.929Z"
   },
   {
    "duration": 3,
    "start_time": "2022-07-20T09:16:19.133Z"
   },
   {
    "duration": 185,
    "start_time": "2022-07-20T09:16:19.137Z"
   },
   {
    "duration": 194,
    "start_time": "2022-07-20T09:16:19.324Z"
   },
   {
    "duration": 3,
    "start_time": "2022-07-20T09:16:19.520Z"
   },
   {
    "duration": 17,
    "start_time": "2022-07-20T09:16:19.524Z"
   },
   {
    "duration": 12,
    "start_time": "2022-07-20T09:16:19.543Z"
   },
   {
    "duration": 20,
    "start_time": "2022-07-20T09:16:19.557Z"
   },
   {
    "duration": 25,
    "start_time": "2022-07-20T09:16:19.579Z"
   },
   {
    "duration": 9,
    "start_time": "2022-07-20T09:16:19.606Z"
   },
   {
    "duration": 8,
    "start_time": "2022-07-20T09:16:19.616Z"
   },
   {
    "duration": 19,
    "start_time": "2022-07-20T09:16:19.625Z"
   },
   {
    "duration": 5,
    "start_time": "2022-07-20T09:21:58.121Z"
   },
   {
    "duration": 13,
    "start_time": "2022-07-20T09:22:05.699Z"
   },
   {
    "duration": 4,
    "start_time": "2022-07-20T09:22:14.767Z"
   },
   {
    "duration": 2410,
    "start_time": "2022-07-20T09:22:57.232Z"
   },
   {
    "duration": 32,
    "start_time": "2022-07-20T09:23:19.597Z"
   },
   {
    "duration": 35148,
    "start_time": "2022-07-20T09:23:42.032Z"
   },
   {
    "duration": 378,
    "start_time": "2022-07-20T09:24:46.241Z"
   },
   {
    "duration": 104576,
    "start_time": "2022-07-20T09:25:33.311Z"
   },
   {
    "duration": 3501,
    "start_time": "2022-07-20T09:29:27.530Z"
   },
   {
    "duration": 352,
    "start_time": "2022-07-20T09:29:39.679Z"
   },
   {
    "duration": 12855,
    "start_time": "2022-07-20T09:29:57.954Z"
   },
   {
    "duration": 471,
    "start_time": "2022-07-20T09:31:44.338Z"
   },
   {
    "duration": 15,
    "start_time": "2022-07-20T09:32:13.948Z"
   },
   {
    "duration": 8,
    "start_time": "2022-07-20T09:32:20.010Z"
   },
   {
    "duration": 147,
    "start_time": "2022-07-20T09:32:26.838Z"
   },
   {
    "duration": 8,
    "start_time": "2022-07-20T09:32:32.392Z"
   },
   {
    "duration": 11,
    "start_time": "2022-07-20T09:32:37.735Z"
   },
   {
    "duration": 8,
    "start_time": "2022-07-20T09:32:45.817Z"
   },
   {
    "duration": 8,
    "start_time": "2022-07-20T10:03:48.848Z"
   },
   {
    "duration": 5,
    "start_time": "2022-07-20T10:04:15.425Z"
   },
   {
    "duration": 61,
    "start_time": "2022-07-20T10:04:15.432Z"
   },
   {
    "duration": 14,
    "start_time": "2022-07-20T10:04:15.494Z"
   },
   {
    "duration": 49,
    "start_time": "2022-07-20T10:04:15.511Z"
   },
   {
    "duration": 18,
    "start_time": "2022-07-20T10:04:15.562Z"
   },
   {
    "duration": 43,
    "start_time": "2022-07-20T10:04:15.582Z"
   },
   {
    "duration": 24,
    "start_time": "2022-07-20T10:04:15.627Z"
   },
   {
    "duration": 23,
    "start_time": "2022-07-20T10:04:15.652Z"
   },
   {
    "duration": 16,
    "start_time": "2022-07-20T10:04:15.678Z"
   },
   {
    "duration": 22,
    "start_time": "2022-07-20T10:04:15.696Z"
   },
   {
    "duration": 16,
    "start_time": "2022-07-20T10:04:15.720Z"
   },
   {
    "duration": 9,
    "start_time": "2022-07-20T10:04:15.737Z"
   },
   {
    "duration": 23,
    "start_time": "2022-07-20T10:04:15.748Z"
   },
   {
    "duration": 10,
    "start_time": "2022-07-20T10:04:15.772Z"
   },
   {
    "duration": 27,
    "start_time": "2022-07-20T10:04:15.784Z"
   },
   {
    "duration": 15,
    "start_time": "2022-07-20T10:04:15.813Z"
   },
   {
    "duration": 8,
    "start_time": "2022-07-20T10:04:15.829Z"
   },
   {
    "duration": 20,
    "start_time": "2022-07-20T10:04:15.839Z"
   },
   {
    "duration": 14,
    "start_time": "2022-07-20T10:04:15.860Z"
   },
   {
    "duration": 11,
    "start_time": "2022-07-20T10:04:15.876Z"
   },
   {
    "duration": 25,
    "start_time": "2022-07-20T10:04:15.904Z"
   },
   {
    "duration": 17,
    "start_time": "2022-07-20T10:04:15.930Z"
   },
   {
    "duration": 17,
    "start_time": "2022-07-20T10:04:15.949Z"
   },
   {
    "duration": 53,
    "start_time": "2022-07-20T10:04:15.970Z"
   },
   {
    "duration": 7,
    "start_time": "2022-07-20T10:04:16.024Z"
   },
   {
    "duration": 29,
    "start_time": "2022-07-20T10:04:16.033Z"
   },
   {
    "duration": 11,
    "start_time": "2022-07-20T10:04:16.064Z"
   },
   {
    "duration": 35,
    "start_time": "2022-07-20T10:04:16.077Z"
   },
   {
    "duration": 15,
    "start_time": "2022-07-20T10:04:16.113Z"
   },
   {
    "duration": 9,
    "start_time": "2022-07-20T10:04:16.130Z"
   },
   {
    "duration": 202,
    "start_time": "2022-07-20T10:04:16.141Z"
   },
   {
    "duration": 201,
    "start_time": "2022-07-20T10:04:16.344Z"
   },
   {
    "duration": 198,
    "start_time": "2022-07-20T10:04:16.548Z"
   },
   {
    "duration": 164,
    "start_time": "2022-07-20T10:04:16.748Z"
   },
   {
    "duration": 15,
    "start_time": "2022-07-20T10:04:16.914Z"
   },
   {
    "duration": 412,
    "start_time": "2022-07-20T10:04:16.931Z"
   },
   {
    "duration": 519,
    "start_time": "2022-07-20T10:04:17.345Z"
   },
   {
    "duration": 263,
    "start_time": "2022-07-20T10:04:17.865Z"
   },
   {
    "duration": 211,
    "start_time": "2022-07-20T10:04:18.130Z"
   },
   {
    "duration": 196,
    "start_time": "2022-07-20T10:04:18.343Z"
   },
   {
    "duration": 201,
    "start_time": "2022-07-20T10:04:18.541Z"
   },
   {
    "duration": 4,
    "start_time": "2022-07-20T10:04:18.744Z"
   },
   {
    "duration": 182,
    "start_time": "2022-07-20T10:04:18.749Z"
   },
   {
    "duration": 283,
    "start_time": "2022-07-20T10:04:18.933Z"
   },
   {
    "duration": 3,
    "start_time": "2022-07-20T10:04:19.218Z"
   },
   {
    "duration": 18,
    "start_time": "2022-07-20T10:04:19.222Z"
   },
   {
    "duration": 11,
    "start_time": "2022-07-20T10:04:19.242Z"
   },
   {
    "duration": 4,
    "start_time": "2022-07-20T10:04:19.255Z"
   },
   {
    "duration": 10,
    "start_time": "2022-07-20T10:04:19.261Z"
   },
   {
    "duration": 6,
    "start_time": "2022-07-20T10:04:19.303Z"
   },
   {
    "duration": 12,
    "start_time": "2022-07-20T10:04:19.311Z"
   },
   {
    "duration": 24,
    "start_time": "2022-07-20T10:04:19.325Z"
   },
   {
    "duration": 5,
    "start_time": "2022-07-20T10:04:19.352Z"
   },
   {
    "duration": 28,
    "start_time": "2022-07-20T10:04:19.358Z"
   },
   {
    "duration": 8,
    "start_time": "2022-07-20T10:04:19.388Z"
   },
   {
    "duration": 906,
    "start_time": "2022-07-20T10:04:19.403Z"
   },
   {
    "duration": 30,
    "start_time": "2022-07-20T10:04:20.403Z"
   },
   {
    "duration": 35692,
    "start_time": "2022-07-20T10:04:20.435Z"
   },
   {
    "duration": 372,
    "start_time": "2022-07-20T10:04:56.129Z"
   },
   {
    "duration": 99094,
    "start_time": "2022-07-20T10:04:56.503Z"
   },
   {
    "duration": 3735,
    "start_time": "2022-07-20T10:06:35.600Z"
   },
   {
    "duration": 334,
    "start_time": "2022-07-20T10:06:39.337Z"
   },
   {
    "duration": 272766,
    "start_time": "2022-07-20T10:06:39.673Z"
   },
   {
    "duration": 421,
    "start_time": "2022-07-20T10:11:12.441Z"
   },
   {
    "duration": 50,
    "start_time": "2022-07-20T10:11:12.864Z"
   },
   {
    "duration": 97,
    "start_time": "2022-07-20T10:11:12.915Z"
   },
   {
    "duration": 178,
    "start_time": "2022-07-20T10:11:13.014Z"
   },
   {
    "duration": 18,
    "start_time": "2022-07-20T10:11:13.194Z"
   },
   {
    "duration": 20,
    "start_time": "2022-07-20T10:11:13.220Z"
   },
   {
    "duration": 11,
    "start_time": "2022-07-20T10:11:13.242Z"
   }
  ],
  "kernelspec": {
   "display_name": "Python 3 (ipykernel)",
   "language": "python",
   "name": "python3"
  },
  "language_info": {
   "codemirror_mode": {
    "name": "ipython",
    "version": 3
   },
   "file_extension": ".py",
   "mimetype": "text/x-python",
   "name": "python",
   "nbconvert_exporter": "python",
   "pygments_lexer": "ipython3",
   "version": "3.9.5"
  },
  "toc": {
   "base_numbering": 1,
   "nav_menu": {},
   "number_sections": true,
   "sideBar": true,
   "skip_h1_title": true,
   "title_cell": "Table of Contents",
   "title_sidebar": "Contents",
   "toc_cell": false,
   "toc_position": {},
   "toc_section_display": true,
   "toc_window_display": false
  }
 },
 "nbformat": 4,
 "nbformat_minor": 2
}
