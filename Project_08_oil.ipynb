{
 "cells": [
  {
   "cell_type": "markdown",
   "metadata": {},
   "source": [
    "# Выбор локации для скважины"
   ]
  },
  {
   "cell_type": "markdown",
   "metadata": {},
   "source": [
    "Допустим, вы работаете в добывающей компании «ГлавРосГосНефть». Нужно решить, где бурить новую скважину.\n",
    "\n",
    "Вам предоставлены пробы нефти в трёх регионах: в каждом 10 000 месторождений, где измерили качество нефти и объём её запасов. Постройте модель машинного обучения, которая поможет определить регион, где добыча принесёт наибольшую прибыль. Проанализируйте возможную прибыль и риски техникой *Bootstrap.*\n",
    "\n",
    "Шаги для выбора локации:\n",
    "\n",
    "- В избранном регионе ищут месторождения, для каждого определяют значения признаков;\n",
    "- Строят модель и оценивают объём запасов;\n",
    "- Выбирают месторождения с самым высокими оценками значений. Количество месторождений зависит от бюджета компании и стоимости разработки одной скважины;\n",
    "- Прибыль равна суммарной прибыли отобранных месторождений."
   ]
  },
  {
   "cell_type": "markdown",
   "metadata": {},
   "source": [
    "## Загрузка и подготовка данных"
   ]
  },
  {
   "cell_type": "code",
   "execution_count": 136,
   "metadata": {},
   "outputs": [],
   "source": [
    "import pandas as pd\n",
    "import matplotlib.pyplot as plt\n",
    "import seaborn as sn\n",
    "import numpy as np\n",
    "from scipy import stats as st\n",
    "from sklearn.linear_model import LinearRegression\n",
    "from sklearn.model_selection import train_test_split\n",
    "from sklearn.preprocessing import StandardScaler\n",
    "from sklearn.metrics import mean_squared_error"
   ]
  },
  {
   "cell_type": "markdown",
   "metadata": {},
   "source": [
    "Импортируем данные о скважинах в первом регионе"
   ]
  },
  {
   "cell_type": "code",
   "execution_count": 137,
   "metadata": {},
   "outputs": [
    {
     "data": {
      "text/html": [
       "<div>\n",
       "<style scoped>\n",
       "    .dataframe tbody tr th:only-of-type {\n",
       "        vertical-align: middle;\n",
       "    }\n",
       "\n",
       "    .dataframe tbody tr th {\n",
       "        vertical-align: top;\n",
       "    }\n",
       "\n",
       "    .dataframe thead th {\n",
       "        text-align: right;\n",
       "    }\n",
       "</style>\n",
       "<table border=\"1\" class=\"dataframe\">\n",
       "  <thead>\n",
       "    <tr style=\"text-align: right;\">\n",
       "      <th></th>\n",
       "      <th>id</th>\n",
       "      <th>f0</th>\n",
       "      <th>f1</th>\n",
       "      <th>f2</th>\n",
       "      <th>product</th>\n",
       "    </tr>\n",
       "  </thead>\n",
       "  <tbody>\n",
       "    <tr>\n",
       "      <th>0</th>\n",
       "      <td>txEyH</td>\n",
       "      <td>0.705745</td>\n",
       "      <td>-0.497823</td>\n",
       "      <td>1.221170</td>\n",
       "      <td>105.280062</td>\n",
       "    </tr>\n",
       "    <tr>\n",
       "      <th>1</th>\n",
       "      <td>2acmU</td>\n",
       "      <td>1.334711</td>\n",
       "      <td>-0.340164</td>\n",
       "      <td>4.365080</td>\n",
       "      <td>73.037750</td>\n",
       "    </tr>\n",
       "    <tr>\n",
       "      <th>2</th>\n",
       "      <td>409Wp</td>\n",
       "      <td>1.022732</td>\n",
       "      <td>0.151990</td>\n",
       "      <td>1.419926</td>\n",
       "      <td>85.265647</td>\n",
       "    </tr>\n",
       "    <tr>\n",
       "      <th>3</th>\n",
       "      <td>iJLyR</td>\n",
       "      <td>-0.032172</td>\n",
       "      <td>0.139033</td>\n",
       "      <td>2.978566</td>\n",
       "      <td>168.620776</td>\n",
       "    </tr>\n",
       "    <tr>\n",
       "      <th>4</th>\n",
       "      <td>Xdl7t</td>\n",
       "      <td>1.988431</td>\n",
       "      <td>0.155413</td>\n",
       "      <td>4.751769</td>\n",
       "      <td>154.036647</td>\n",
       "    </tr>\n",
       "  </tbody>\n",
       "</table>\n",
       "</div>"
      ],
      "text/plain": [
       "      id        f0        f1        f2     product\n",
       "0  txEyH  0.705745 -0.497823  1.221170  105.280062\n",
       "1  2acmU  1.334711 -0.340164  4.365080   73.037750\n",
       "2  409Wp  1.022732  0.151990  1.419926   85.265647\n",
       "3  iJLyR -0.032172  0.139033  2.978566  168.620776\n",
       "4  Xdl7t  1.988431  0.155413  4.751769  154.036647"
      ]
     },
     "execution_count": 137,
     "metadata": {},
     "output_type": "execute_result"
    }
   ],
   "source": [
    "try:\n",
    "    geo_data_0 = pd.read_csv('/datasets/geo_data_0.csv')\n",
    "except:\n",
    "    print('Ошибка. Проверьте правильность пути к данным')\n",
    "geo_data_0.head()"
   ]
  },
  {
   "cell_type": "code",
   "execution_count": 138,
   "metadata": {},
   "outputs": [
    {
     "name": "stdout",
     "output_type": "stream",
     "text": [
      "<class 'pandas.core.frame.DataFrame'>\n",
      "RangeIndex: 100000 entries, 0 to 99999\n",
      "Data columns (total 5 columns):\n",
      " #   Column   Non-Null Count   Dtype  \n",
      "---  ------   --------------   -----  \n",
      " 0   id       100000 non-null  object \n",
      " 1   f0       100000 non-null  float64\n",
      " 2   f1       100000 non-null  float64\n",
      " 3   f2       100000 non-null  float64\n",
      " 4   product  100000 non-null  float64\n",
      "dtypes: float64(4), object(1)\n",
      "memory usage: 3.8+ MB\n"
     ]
    }
   ],
   "source": [
    "geo_data_0.info()"
   ]
  },
  {
   "cell_type": "code",
   "execution_count": 139,
   "metadata": {},
   "outputs": [
    {
     "data": {
      "text/html": [
       "<div>\n",
       "<style scoped>\n",
       "    .dataframe tbody tr th:only-of-type {\n",
       "        vertical-align: middle;\n",
       "    }\n",
       "\n",
       "    .dataframe tbody tr th {\n",
       "        vertical-align: top;\n",
       "    }\n",
       "\n",
       "    .dataframe thead th {\n",
       "        text-align: right;\n",
       "    }\n",
       "</style>\n",
       "<table border=\"1\" class=\"dataframe\">\n",
       "  <thead>\n",
       "    <tr style=\"text-align: right;\">\n",
       "      <th></th>\n",
       "      <th>f0</th>\n",
       "      <th>f1</th>\n",
       "      <th>f2</th>\n",
       "      <th>product</th>\n",
       "    </tr>\n",
       "  </thead>\n",
       "  <tbody>\n",
       "    <tr>\n",
       "      <th>count</th>\n",
       "      <td>100000.000000</td>\n",
       "      <td>100000.000000</td>\n",
       "      <td>100000.000000</td>\n",
       "      <td>100000.000000</td>\n",
       "    </tr>\n",
       "    <tr>\n",
       "      <th>mean</th>\n",
       "      <td>0.500419</td>\n",
       "      <td>0.250143</td>\n",
       "      <td>2.502647</td>\n",
       "      <td>92.500000</td>\n",
       "    </tr>\n",
       "    <tr>\n",
       "      <th>std</th>\n",
       "      <td>0.871832</td>\n",
       "      <td>0.504433</td>\n",
       "      <td>3.248248</td>\n",
       "      <td>44.288691</td>\n",
       "    </tr>\n",
       "    <tr>\n",
       "      <th>min</th>\n",
       "      <td>-1.408605</td>\n",
       "      <td>-0.848218</td>\n",
       "      <td>-12.088328</td>\n",
       "      <td>0.000000</td>\n",
       "    </tr>\n",
       "    <tr>\n",
       "      <th>25%</th>\n",
       "      <td>-0.072580</td>\n",
       "      <td>-0.200881</td>\n",
       "      <td>0.287748</td>\n",
       "      <td>56.497507</td>\n",
       "    </tr>\n",
       "    <tr>\n",
       "      <th>50%</th>\n",
       "      <td>0.502360</td>\n",
       "      <td>0.250252</td>\n",
       "      <td>2.515969</td>\n",
       "      <td>91.849972</td>\n",
       "    </tr>\n",
       "    <tr>\n",
       "      <th>75%</th>\n",
       "      <td>1.073581</td>\n",
       "      <td>0.700646</td>\n",
       "      <td>4.715088</td>\n",
       "      <td>128.564089</td>\n",
       "    </tr>\n",
       "    <tr>\n",
       "      <th>max</th>\n",
       "      <td>2.362331</td>\n",
       "      <td>1.343769</td>\n",
       "      <td>16.003790</td>\n",
       "      <td>185.364347</td>\n",
       "    </tr>\n",
       "  </tbody>\n",
       "</table>\n",
       "</div>"
      ],
      "text/plain": [
       "                  f0             f1             f2        product\n",
       "count  100000.000000  100000.000000  100000.000000  100000.000000\n",
       "mean        0.500419       0.250143       2.502647      92.500000\n",
       "std         0.871832       0.504433       3.248248      44.288691\n",
       "min        -1.408605      -0.848218     -12.088328       0.000000\n",
       "25%        -0.072580      -0.200881       0.287748      56.497507\n",
       "50%         0.502360       0.250252       2.515969      91.849972\n",
       "75%         1.073581       0.700646       4.715088     128.564089\n",
       "max         2.362331       1.343769      16.003790     185.364347"
      ]
     },
     "execution_count": 139,
     "metadata": {},
     "output_type": "execute_result"
    }
   ],
   "source": [
    "geo_data_0.describe()"
   ]
  },
  {
   "cell_type": "code",
   "execution_count": 140,
   "metadata": {},
   "outputs": [
    {
     "data": {
      "text/plain": [
       "False    100000\n",
       "dtype: int64"
      ]
     },
     "execution_count": 140,
     "metadata": {},
     "output_type": "execute_result"
    }
   ],
   "source": [
    "geo_data_0.duplicated().value_counts()"
   ]
  },
  {
   "cell_type": "markdown",
   "metadata": {},
   "source": [
    "Пропусков и дубликатов в данных нет. Посмотрим на корреляцию между признаками."
   ]
  },
  {
   "cell_type": "code",
   "execution_count": 141,
   "metadata": {},
   "outputs": [
    {
     "data": {
      "image/png": "[encoded data removed]",
      "text/plain": [
       "<Figure size 720x360 with 2 Axes>"
      ]
     },
     "metadata": {
      "needs_background": "light"
     },
     "output_type": "display_data"
    }
   ],
   "source": [
    "corrMatrix = geo_data_0.corr()\n",
    "#Построим корреляционную матрицу\n",
    "plt.figure(figsize=(10, 5))\n",
    "sn.heatmap(corrMatrix, annot=True)\n",
    "plt.show()"
   ]
  },
  {
   "cell_type": "markdown",
   "metadata": {},
   "source": [
    "Импортируем данные о скважинах во втором регионе"
   ]
  },
  {
   "cell_type": "code",
   "execution_count": 142,
   "metadata": {},
   "outputs": [
    {
     "data": {
      "text/html": [
       "<div>\n",
       "<style scoped>\n",
       "    .dataframe tbody tr th:only-of-type {\n",
       "        vertical-align: middle;\n",
       "    }\n",
       "\n",
       "    .dataframe tbody tr th {\n",
       "        vertical-align: top;\n",
       "    }\n",
       "\n",
       "    .dataframe thead th {\n",
       "        text-align: right;\n",
       "    }\n",
       "</style>\n",
       "<table border=\"1\" class=\"dataframe\">\n",
       "  <thead>\n",
       "    <tr style=\"text-align: right;\">\n",
       "      <th></th>\n",
       "      <th>id</th>\n",
       "      <th>f0</th>\n",
       "      <th>f1</th>\n",
       "      <th>f2</th>\n",
       "      <th>product</th>\n",
       "    </tr>\n",
       "  </thead>\n",
       "  <tbody>\n",
       "    <tr>\n",
       "      <th>0</th>\n",
       "      <td>kBEdx</td>\n",
       "      <td>-15.001348</td>\n",
       "      <td>-8.276000</td>\n",
       "      <td>-0.005876</td>\n",
       "      <td>3.179103</td>\n",
       "    </tr>\n",
       "    <tr>\n",
       "      <th>1</th>\n",
       "      <td>62mP7</td>\n",
       "      <td>14.272088</td>\n",
       "      <td>-3.475083</td>\n",
       "      <td>0.999183</td>\n",
       "      <td>26.953261</td>\n",
       "    </tr>\n",
       "    <tr>\n",
       "      <th>2</th>\n",
       "      <td>vyE1P</td>\n",
       "      <td>6.263187</td>\n",
       "      <td>-5.948386</td>\n",
       "      <td>5.001160</td>\n",
       "      <td>134.766305</td>\n",
       "    </tr>\n",
       "    <tr>\n",
       "      <th>3</th>\n",
       "      <td>KcrkZ</td>\n",
       "      <td>-13.081196</td>\n",
       "      <td>-11.506057</td>\n",
       "      <td>4.999415</td>\n",
       "      <td>137.945408</td>\n",
       "    </tr>\n",
       "    <tr>\n",
       "      <th>4</th>\n",
       "      <td>AHL4O</td>\n",
       "      <td>12.702195</td>\n",
       "      <td>-8.147433</td>\n",
       "      <td>5.004363</td>\n",
       "      <td>134.766305</td>\n",
       "    </tr>\n",
       "  </tbody>\n",
       "</table>\n",
       "</div>"
      ],
      "text/plain": [
       "      id         f0         f1        f2     product\n",
       "0  kBEdx -15.001348  -8.276000 -0.005876    3.179103\n",
       "1  62mP7  14.272088  -3.475083  0.999183   26.953261\n",
       "2  vyE1P   6.263187  -5.948386  5.001160  134.766305\n",
       "3  KcrkZ -13.081196 -11.506057  4.999415  137.945408\n",
       "4  AHL4O  12.702195  -8.147433  5.004363  134.766305"
      ]
     },
     "execution_count": 142,
     "metadata": {},
     "output_type": "execute_result"
    }
   ],
   "source": [
    "try:\n",
    "    geo_data_1 = pd.read_csv('/datasets/geo_data_1.csv')\n",
    "except:\n",
    "    print('Ошибка. Проверьте правильность пути к данным')\n",
    "geo_data_1.head()"
   ]
  },
  {
   "cell_type": "code",
   "execution_count": 143,
   "metadata": {},
   "outputs": [
    {
     "name": "stdout",
     "output_type": "stream",
     "text": [
      "<class 'pandas.core.frame.DataFrame'>\n",
      "RangeIndex: 100000 entries, 0 to 99999\n",
      "Data columns (total 5 columns):\n",
      " #   Column   Non-Null Count   Dtype  \n",
      "---  ------   --------------   -----  \n",
      " 0   id       100000 non-null  object \n",
      " 1   f0       100000 non-null  float64\n",
      " 2   f1       100000 non-null  float64\n",
      " 3   f2       100000 non-null  float64\n",
      " 4   product  100000 non-null  float64\n",
      "dtypes: float64(4), object(1)\n",
      "memory usage: 3.8+ MB\n"
     ]
    }
   ],
   "source": [
    "geo_data_1.info()"
   ]
  },
  {
   "cell_type": "code",
   "execution_count": 144,
   "metadata": {},
   "outputs": [
    {
     "data": {
      "text/html": [
       "<div>\n",
       "<style scoped>\n",
       "    .dataframe tbody tr th:only-of-type {\n",
       "        vertical-align: middle;\n",
       "    }\n",
       "\n",
       "    .dataframe tbody tr th {\n",
       "        vertical-align: top;\n",
       "    }\n",
       "\n",
       "    .dataframe thead th {\n",
       "        text-align: right;\n",
       "    }\n",
       "</style>\n",
       "<table border=\"1\" class=\"dataframe\">\n",
       "  <thead>\n",
       "    <tr style=\"text-align: right;\">\n",
       "      <th></th>\n",
       "      <th>f0</th>\n",
       "      <th>f1</th>\n",
       "      <th>f2</th>\n",
       "      <th>product</th>\n",
       "    </tr>\n",
       "  </thead>\n",
       "  <tbody>\n",
       "    <tr>\n",
       "      <th>count</th>\n",
       "      <td>100000.000000</td>\n",
       "      <td>100000.000000</td>\n",
       "      <td>100000.000000</td>\n",
       "      <td>100000.000000</td>\n",
       "    </tr>\n",
       "    <tr>\n",
       "      <th>mean</th>\n",
       "      <td>1.141296</td>\n",
       "      <td>-4.796579</td>\n",
       "      <td>2.494541</td>\n",
       "      <td>68.825000</td>\n",
       "    </tr>\n",
       "    <tr>\n",
       "      <th>std</th>\n",
       "      <td>8.965932</td>\n",
       "      <td>5.119872</td>\n",
       "      <td>1.703572</td>\n",
       "      <td>45.944423</td>\n",
       "    </tr>\n",
       "    <tr>\n",
       "      <th>min</th>\n",
       "      <td>-31.609576</td>\n",
       "      <td>-26.358598</td>\n",
       "      <td>-0.018144</td>\n",
       "      <td>0.000000</td>\n",
       "    </tr>\n",
       "    <tr>\n",
       "      <th>25%</th>\n",
       "      <td>-6.298551</td>\n",
       "      <td>-8.267985</td>\n",
       "      <td>1.000021</td>\n",
       "      <td>26.953261</td>\n",
       "    </tr>\n",
       "    <tr>\n",
       "      <th>50%</th>\n",
       "      <td>1.153055</td>\n",
       "      <td>-4.813172</td>\n",
       "      <td>2.011479</td>\n",
       "      <td>57.085625</td>\n",
       "    </tr>\n",
       "    <tr>\n",
       "      <th>75%</th>\n",
       "      <td>8.621015</td>\n",
       "      <td>-1.332816</td>\n",
       "      <td>3.999904</td>\n",
       "      <td>107.813044</td>\n",
       "    </tr>\n",
       "    <tr>\n",
       "      <th>max</th>\n",
       "      <td>29.421755</td>\n",
       "      <td>18.734063</td>\n",
       "      <td>5.019721</td>\n",
       "      <td>137.945408</td>\n",
       "    </tr>\n",
       "  </tbody>\n",
       "</table>\n",
       "</div>"
      ],
      "text/plain": [
       "                  f0             f1             f2        product\n",
       "count  100000.000000  100000.000000  100000.000000  100000.000000\n",
       "mean        1.141296      -4.796579       2.494541      68.825000\n",
       "std         8.965932       5.119872       1.703572      45.944423\n",
       "min       -31.609576     -26.358598      -0.018144       0.000000\n",
       "25%        -6.298551      -8.267985       1.000021      26.953261\n",
       "50%         1.153055      -4.813172       2.011479      57.085625\n",
       "75%         8.621015      -1.332816       3.999904     107.813044\n",
       "max        29.421755      18.734063       5.019721     137.945408"
      ]
     },
     "execution_count": 144,
     "metadata": {},
     "output_type": "execute_result"
    }
   ],
   "source": [
    "geo_data_1.describe()"
   ]
  },
  {
   "cell_type": "code",
   "execution_count": 145,
   "metadata": {},
   "outputs": [
    {
     "data": {
      "text/plain": [
       "False    100000\n",
       "dtype: int64"
      ]
     },
     "execution_count": 145,
     "metadata": {},
     "output_type": "execute_result"
    }
   ],
   "source": [
    "geo_data_1.duplicated().value_counts()"
   ]
  },
  {
   "cell_type": "code",
   "execution_count": 146,
   "metadata": {},
   "outputs": [
    {
     "data": {
      "image/png": "[encoded data removed]",
      "text/plain": [
       "<Figure size 720x360 with 2 Axes>"
      ]
     },
     "metadata": {
      "needs_background": "light"
     },
     "output_type": "display_data"
    }
   ],
   "source": [
    "#Построим корреляционную матрицу\n",
    "corrMatrix = geo_data_1.corr()\n",
    "plt.figure(figsize=(10, 5))\n",
    "sn.heatmap(corrMatrix, annot=True)\n",
    "plt.show()"
   ]
  },
  {
   "cell_type": "markdown",
   "metadata": {},
   "source": [
    "Импортируем данные о скважинах в третьем регионе"
   ]
  },
  {
   "cell_type": "code",
   "execution_count": 147,
   "metadata": {},
   "outputs": [
    {
     "data": {
      "text/html": [
       "<div>\n",
       "<style scoped>\n",
       "    .dataframe tbody tr th:only-of-type {\n",
       "        vertical-align: middle;\n",
       "    }\n",
       "\n",
       "    .dataframe tbody tr th {\n",
       "        vertical-align: top;\n",
       "    }\n",
       "\n",
       "    .dataframe thead th {\n",
       "        text-align: right;\n",
       "    }\n",
       "</style>\n",
       "<table border=\"1\" class=\"dataframe\">\n",
       "  <thead>\n",
       "    <tr style=\"text-align: right;\">\n",
       "      <th></th>\n",
       "      <th>id</th>\n",
       "      <th>f0</th>\n",
       "      <th>f1</th>\n",
       "      <th>f2</th>\n",
       "      <th>product</th>\n",
       "    </tr>\n",
       "  </thead>\n",
       "  <tbody>\n",
       "    <tr>\n",
       "      <th>0</th>\n",
       "      <td>fwXo0</td>\n",
       "      <td>-1.146987</td>\n",
       "      <td>0.963328</td>\n",
       "      <td>-0.828965</td>\n",
       "      <td>27.758673</td>\n",
       "    </tr>\n",
       "    <tr>\n",
       "      <th>1</th>\n",
       "      <td>WJtFt</td>\n",
       "      <td>0.262778</td>\n",
       "      <td>0.269839</td>\n",
       "      <td>-2.530187</td>\n",
       "      <td>56.069697</td>\n",
       "    </tr>\n",
       "    <tr>\n",
       "      <th>2</th>\n",
       "      <td>ovLUW</td>\n",
       "      <td>0.194587</td>\n",
       "      <td>0.289035</td>\n",
       "      <td>-5.586433</td>\n",
       "      <td>62.871910</td>\n",
       "    </tr>\n",
       "    <tr>\n",
       "      <th>3</th>\n",
       "      <td>q6cA6</td>\n",
       "      <td>2.236060</td>\n",
       "      <td>-0.553760</td>\n",
       "      <td>0.930038</td>\n",
       "      <td>114.572842</td>\n",
       "    </tr>\n",
       "    <tr>\n",
       "      <th>4</th>\n",
       "      <td>WPMUX</td>\n",
       "      <td>-0.515993</td>\n",
       "      <td>1.716266</td>\n",
       "      <td>5.899011</td>\n",
       "      <td>149.600746</td>\n",
       "    </tr>\n",
       "  </tbody>\n",
       "</table>\n",
       "</div>"
      ],
      "text/plain": [
       "      id        f0        f1        f2     product\n",
       "0  fwXo0 -1.146987  0.963328 -0.828965   27.758673\n",
       "1  WJtFt  0.262778  0.269839 -2.530187   56.069697\n",
       "2  ovLUW  0.194587  0.289035 -5.586433   62.871910\n",
       "3  q6cA6  2.236060 -0.553760  0.930038  114.572842\n",
       "4  WPMUX -0.515993  1.716266  5.899011  149.600746"
      ]
     },
     "execution_count": 147,
     "metadata": {},
     "output_type": "execute_result"
    }
   ],
   "source": [
    "try:\n",
    "    geo_data_2 = pd.read_csv('/datasets/geo_data_2.csv')\n",
    "except:\n",
    "    print('Ошибка. Проверьте правильность пути к данным')\n",
    "geo_data_2.head()"
   ]
  },
  {
   "cell_type": "code",
   "execution_count": 148,
   "metadata": {},
   "outputs": [
    {
     "name": "stdout",
     "output_type": "stream",
     "text": [
      "<class 'pandas.core.frame.DataFrame'>\n",
      "RangeIndex: 100000 entries, 0 to 99999\n",
      "Data columns (total 5 columns):\n",
      " #   Column   Non-Null Count   Dtype  \n",
      "---  ------   --------------   -----  \n",
      " 0   id       100000 non-null  object \n",
      " 1   f0       100000 non-null  float64\n",
      " 2   f1       100000 non-null  float64\n",
      " 3   f2       100000 non-null  float64\n",
      " 4   product  100000 non-null  float64\n",
      "dtypes: float64(4), object(1)\n",
      "memory usage: 3.8+ MB\n"
     ]
    }
   ],
   "source": [
    "geo_data_2.info()"
   ]
  },
  {
   "cell_type": "code",
   "execution_count": 149,
   "metadata": {},
   "outputs": [
    {
     "data": {
      "text/html": [
       "<div>\n",
       "<style scoped>\n",
       "    .dataframe tbody tr th:only-of-type {\n",
       "        vertical-align: middle;\n",
       "    }\n",
       "\n",
       "    .dataframe tbody tr th {\n",
       "        vertical-align: top;\n",
       "    }\n",
       "\n",
       "    .dataframe thead th {\n",
       "        text-align: right;\n",
       "    }\n",
       "</style>\n",
       "<table border=\"1\" class=\"dataframe\">\n",
       "  <thead>\n",
       "    <tr style=\"text-align: right;\">\n",
       "      <th></th>\n",
       "      <th>f0</th>\n",
       "      <th>f1</th>\n",
       "      <th>f2</th>\n",
       "      <th>product</th>\n",
       "    </tr>\n",
       "  </thead>\n",
       "  <tbody>\n",
       "    <tr>\n",
       "      <th>count</th>\n",
       "      <td>100000.000000</td>\n",
       "      <td>100000.000000</td>\n",
       "      <td>100000.000000</td>\n",
       "      <td>100000.000000</td>\n",
       "    </tr>\n",
       "    <tr>\n",
       "      <th>mean</th>\n",
       "      <td>0.002023</td>\n",
       "      <td>-0.002081</td>\n",
       "      <td>2.495128</td>\n",
       "      <td>95.000000</td>\n",
       "    </tr>\n",
       "    <tr>\n",
       "      <th>std</th>\n",
       "      <td>1.732045</td>\n",
       "      <td>1.730417</td>\n",
       "      <td>3.473445</td>\n",
       "      <td>44.749921</td>\n",
       "    </tr>\n",
       "    <tr>\n",
       "      <th>min</th>\n",
       "      <td>-8.760004</td>\n",
       "      <td>-7.084020</td>\n",
       "      <td>-11.970335</td>\n",
       "      <td>0.000000</td>\n",
       "    </tr>\n",
       "    <tr>\n",
       "      <th>25%</th>\n",
       "      <td>-1.162288</td>\n",
       "      <td>-1.174820</td>\n",
       "      <td>0.130359</td>\n",
       "      <td>59.450441</td>\n",
       "    </tr>\n",
       "    <tr>\n",
       "      <th>50%</th>\n",
       "      <td>0.009424</td>\n",
       "      <td>-0.009482</td>\n",
       "      <td>2.484236</td>\n",
       "      <td>94.925613</td>\n",
       "    </tr>\n",
       "    <tr>\n",
       "      <th>75%</th>\n",
       "      <td>1.158535</td>\n",
       "      <td>1.163678</td>\n",
       "      <td>4.858794</td>\n",
       "      <td>130.595027</td>\n",
       "    </tr>\n",
       "    <tr>\n",
       "      <th>max</th>\n",
       "      <td>7.238262</td>\n",
       "      <td>7.844801</td>\n",
       "      <td>16.739402</td>\n",
       "      <td>190.029838</td>\n",
       "    </tr>\n",
       "  </tbody>\n",
       "</table>\n",
       "</div>"
      ],
      "text/plain": [
       "                  f0             f1             f2        product\n",
       "count  100000.000000  100000.000000  100000.000000  100000.000000\n",
       "mean        0.002023      -0.002081       2.495128      95.000000\n",
       "std         1.732045       1.730417       3.473445      44.749921\n",
       "min        -8.760004      -7.084020     -11.970335       0.000000\n",
       "25%        -1.162288      -1.174820       0.130359      59.450441\n",
       "50%         0.009424      -0.009482       2.484236      94.925613\n",
       "75%         1.158535       1.163678       4.858794     130.595027\n",
       "max         7.238262       7.844801      16.739402     190.029838"
      ]
     },
     "execution_count": 149,
     "metadata": {},
     "output_type": "execute_result"
    }
   ],
   "source": [
    "geo_data_2.describe()"
   ]
  },
  {
   "cell_type": "code",
   "execution_count": 150,
   "metadata": {},
   "outputs": [
    {
     "data": {
      "text/plain": [
       "False    100000\n",
       "dtype: int64"
      ]
     },
     "execution_count": 150,
     "metadata": {},
     "output_type": "execute_result"
    }
   ],
   "source": [
    "geo_data_2.duplicated().value_counts()"
   ]
  },
  {
   "cell_type": "code",
   "execution_count": 151,
   "metadata": {},
   "outputs": [
    {
     "data": {
      "image/png": "[encoded data removed]",
      "text/plain": [
       "<Figure size 720x360 with 2 Axes>"
      ]
     },
     "metadata": {
      "needs_background": "light"
     },
     "output_type": "display_data"
    }
   ],
   "source": [
    "#Построим корреляционную матрицу\n",
    "corrMatrix = geo_data_2.corr()\n",
    "plt.figure(figsize=(10, 5))\n",
    "sn.heatmap(corrMatrix, annot=True)\n",
    "plt.show()"
   ]
  },
  {
   "cell_type": "markdown",
   "metadata": {},
   "source": [
    "**Вывод:**  Данные обо всех трех регионах выглядят адекватно пропусков и дубликатов нет. Корреляция между признаками не высока. \n",
    "Во втором регионе есть высокая корреляция между продуктом и признаком f2, скорее всего это значит, что объём добываемой нефти в данном регионе почти полностью зависит от этого признака. "
   ]
  },
  {
   "cell_type": "code",
   "execution_count": 152,
   "metadata": {},
   "outputs": [],
   "source": [
    "# удалим столбец id, для работы с моделями он нам не нужен.\n",
    "geo_data_0 = geo_data_0.drop('id', axis=1)\n",
    "geo_data_1 = geo_data_1.drop('id', axis=1)\n",
    "geo_data_2 = geo_data_2.drop('id', axis=1)"
   ]
  },
  {
   "cell_type": "markdown",
   "metadata": {},
   "source": [
    "## Обучение и проверка модели"
   ]
  },
  {
   "cell_type": "markdown",
   "metadata": {},
   "source": [
    "Обучим модель линейной регрессии"
   ]
  },
  {
   "cell_type": "code",
   "execution_count": 153,
   "metadata": {},
   "outputs": [],
   "source": [
    "model = LinearRegression()"
   ]
  },
  {
   "cell_type": "code",
   "execution_count": 154,
   "metadata": {},
   "outputs": [],
   "source": [
    "#создадим функцию которая разобъёт данные на тренировочные и валидационные в пропорции 75:25 и обучит модель\n",
    "def predictions_target(data):\n",
    "    features = data.drop('product', axis = 1)\n",
    "    target = data['product']\n",
    "    features_train, features_valid, target_train, target_valid = train_test_split(features, target, test_size=0.25, random_state=12345)\n",
    "    model.fit(features_train, target_train)\n",
    "    prediction = pd.Series(model.predict(features_valid))\n",
    "    return prediction, target_valid"
   ]
  },
  {
   "cell_type": "markdown",
   "metadata": {},
   "source": [
    "Сохраним предсказания и правильные ответы для всех трех регионов на валидационной выборке"
   ]
  },
  {
   "cell_type": "code",
   "execution_count": 155,
   "metadata": {},
   "outputs": [],
   "source": [
    "predicted_data_0, target_data_0 = predictions_target(geo_data_0)"
   ]
  },
  {
   "cell_type": "code",
   "execution_count": 156,
   "metadata": {},
   "outputs": [],
   "source": [
    "predicted_data_1, target_data_1 = predictions_target(geo_data_1)"
   ]
  },
  {
   "cell_type": "code",
   "execution_count": 157,
   "metadata": {},
   "outputs": [],
   "source": [
    "predicted_data_2, target_data_2 = predictions_target(geo_data_2)"
   ]
  },
  {
   "cell_type": "code",
   "execution_count": 158,
   "metadata": {},
   "outputs": [],
   "source": [
    "#Напишем функцию, которая посчитает средний запас предсказанного сырья и RMSE\n",
    "def mean_product_and_rmse (answers, predictions):\n",
    "    mse = mean_squared_error(answers, predictions)\n",
    "    print('Средний прогнозируемый запас сырья равен {:.2f}'.format(predictions.mean()),'тыс. баррелей')\n",
    "    print('RMSE:', mse ** 0.5)"
   ]
  },
  {
   "cell_type": "code",
   "execution_count": 159,
   "metadata": {},
   "outputs": [
    {
     "name": "stdout",
     "output_type": "stream",
     "text": [
      "Первый регион:\n",
      "Средний прогнозируемый запас сырья равен 92.59 тыс. баррелей\n",
      "RMSE: 37.5794217150813\n"
     ]
    }
   ],
   "source": [
    "print('Первый регион:')\n",
    "mean_product_and_rmse(target_data_0, predicted_data_0)"
   ]
  },
  {
   "cell_type": "code",
   "execution_count": 160,
   "metadata": {},
   "outputs": [
    {
     "name": "stdout",
     "output_type": "stream",
     "text": [
      "Второй регион:\n",
      "Средний прогнозируемый запас сырья равен 68.73 тыс. баррелей\n",
      "RMSE: 0.893099286775617\n"
     ]
    }
   ],
   "source": [
    "print('Второй регион:')\n",
    "mean_product_and_rmse(target_data_1, predicted_data_1)"
   ]
  },
  {
   "cell_type": "code",
   "execution_count": 161,
   "metadata": {},
   "outputs": [
    {
     "name": "stdout",
     "output_type": "stream",
     "text": [
      "Третий регион:\n",
      "Средний прогнозируемый запас сырья равен 94.97 тыс. баррелей\n",
      "RMSE: 40.02970873393434\n"
     ]
    }
   ],
   "source": [
    "print('Третий регион:')\n",
    "mean_product_and_rmse(target_data_2, predicted_data_2)"
   ]
  },
  {
   "cell_type": "markdown",
   "metadata": {},
   "source": [
    "Сравним предсказанные запасы сырья с реальными средними запасами по регионам"
   ]
  },
  {
   "cell_type": "code",
   "execution_count": 162,
   "metadata": {},
   "outputs": [
    {
     "name": "stdout",
     "output_type": "stream",
     "text": [
      "Для первого региона реальный средний запас сырья равен 92.08\n",
      "Для второго региона реальный средний запас сырья равен 68.72\n",
      "Для третьего региона реальный средний запас сырья равен 94.88\n"
     ]
    }
   ],
   "source": [
    "print('Для первого региона реальный средний запас сырья равен {:.2f}'.format(target_data_0.mean()))\n",
    "print('Для второго региона реальный средний запас сырья равен {:.2f}'.format(target_data_1.mean()))\n",
    "print('Для третьего региона реальный средний запас сырья равен {:.2f}'.format(target_data_2.mean()))"
   ]
  },
  {
   "cell_type": "markdown",
   "metadata": {},
   "source": [
    "**Вывод:**\n",
    "Для всех трех регионов предсказанные объемы сырья почти не отличаются от реальных. \n",
    "Наилучшее RMSE у модели для второго региона, скорее всего это всязано с высокой корреляцией признака f2 и продукта в этом регионе. RMSE для первого и третьего региона отличаются не сильно."
   ]
  },
  {
   "cell_type": "markdown",
   "metadata": {},
   "source": [
    "## Подготовка к расчёту прибыли"
   ]
  },
  {
   "cell_type": "markdown",
   "metadata": {},
   "source": [
    "Сохраним ключевые значения для рассчётов в отдельные переменные"
   ]
  },
  {
   "cell_type": "code",
   "execution_count": 163,
   "metadata": {},
   "outputs": [],
   "source": [
    "DOTS_COUNT = 500 #общее число скважен\n",
    "BEST_DOTS = 200 #количество лучших скважен для разработки\n",
    "TOTAL_BUDGET = 10000000000 #общий бюджет на скажины в регионе\n",
    "PROFIT_PER_BARREL = 450 #доход на каждый баррель сырья\n",
    "PROFIT_TOTAL_ONE = 450000 #доход с каждой единицы продукта\n",
    "RISK = 0.025 #порог риска 2.5%"
   ]
  },
  {
   "cell_type": "markdown",
   "metadata": {},
   "source": [
    "Определим минимально необходимый для окупаемости запас нефти в каждой скважине. "
   ]
  },
  {
   "cell_type": "code",
   "execution_count": 164,
   "metadata": {},
   "outputs": [],
   "source": [
    "budget_per_dote = TOTAL_BUDGET / BEST_DOTS"
   ]
  },
  {
   "cell_type": "code",
   "execution_count": 165,
   "metadata": {},
   "outputs": [
    {
     "name": "stdout",
     "output_type": "stream",
     "text": [
      "Минимальный запас необходимый для окупаемости бурения скважины: 111.11 тыс. баррелей.\n"
     ]
    }
   ],
   "source": [
    "product_volume = budget_per_dote / PROFIT_PER_BARREL / 1000\n",
    "print('Минимальный запас необходимый для окупаемости бурения скважины: {:.2f}'.format(product_volume),'тыс. баррелей.')"
   ]
  },
  {
   "cell_type": "markdown",
   "metadata": {},
   "source": [
    "**Вывод:** Минимальный объем сырья неодходимый для того, чтобы разработка скважины была окупаемой около 111 тыс. баррелей. Средние значения запасов сырья для всех трех регионов ниже необходимого объема. Это значит, что при осуществлении разработки скважин, выбранных случайным образом, высока вероятность не окупить бюджет на разработку."
   ]
  },
  {
   "cell_type": "markdown",
   "metadata": {},
   "source": [
    "Напишем функцию рассчета прибыли для двухсот лучших скважина каждого региона."
   ]
  },
  {
   "cell_type": "code",
   "execution_count": 166,
   "metadata": {},
   "outputs": [],
   "source": [
    "def profit(target, probabilities):\n",
    "    target = pd.Series(target).reset_index(drop=True)\n",
    "    probabilities = pd.Series(probabilities).reset_index(drop=True)\n",
    "    probs_sorted = probabilities.sort_values(ascending=False)\n",
    "    selected = target[probs_sorted.index][:BEST_DOTS]\n",
    "    return (((PROFIT_TOTAL_ONE * selected.sum()) - TOTAL_BUDGET) / 1000000000)"
   ]
  },
  {
   "cell_type": "code",
   "execution_count": 167,
   "metadata": {},
   "outputs": [
    {
     "name": "stdout",
     "output_type": "stream",
     "text": [
      "Прибыль 200 лучших скважин в первом регионе: 0.50 млрд. руб\n"
     ]
    }
   ],
   "source": [
    "print('Прибыль 200 лучших скважин в первом регионе: {:.2f} млрд. руб'.format(profit(predicted_data_0, target_data_0)))"
   ]
  },
  {
   "cell_type": "code",
   "execution_count": 168,
   "metadata": {},
   "outputs": [
    {
     "name": "stdout",
     "output_type": "stream",
     "text": [
      "Прибыль 200 лучших скважин во втором регионе: 2.37 млрд. руб\n"
     ]
    }
   ],
   "source": [
    "print('Прибыль 200 лучших скважин во втором регионе: {:.2f} млрд. руб'.format(profit(predicted_data_1, target_data_1)))"
   ]
  },
  {
   "cell_type": "code",
   "execution_count": 169,
   "metadata": {},
   "outputs": [
    {
     "name": "stdout",
     "output_type": "stream",
     "text": [
      "Прибыль 200 лучших скважин в третьем регионе: -0.33 млрд. руб\n"
     ]
    }
   ],
   "source": [
    "print('Прибыль 200 лучших скважин в третьем регионе: {:.2f} млрд. руб'.format(profit(predicted_data_2, target_data_2)))"
   ]
  },
  {
   "cell_type": "markdown",
   "metadata": {},
   "source": [
    "Лучший показатель прибыли у скважин во втором регионе 2.37 млрд."
   ]
  },
  {
   "cell_type": "markdown",
   "metadata": {},
   "source": [
    "## Расчёт прибыли и рисков "
   ]
  },
  {
   "cell_type": "markdown",
   "metadata": {},
   "source": [
    "Применим технику Bootstrap с 1000 выборок, чтобы найти распределение прибыли."
   ]
  },
  {
   "cell_type": "code",
   "execution_count": 170,
   "metadata": {},
   "outputs": [],
   "source": [
    "#напишем функцию, которая определит среднюю прибыль, 95% доверительный интервал и процент риска для каждого региона.\n",
    "def bootstrap(target, probabilities, iterations, sample_size):\n",
    "    state = np.random.RandomState(12345)\n",
    "    values = []\n",
    "    for i in range(iterations):\n",
    "        target_subsample = target.sample(n=sample_size, random_state=state, replace=True)\n",
    "        probs_subsample = probabilities[target_subsample.index]\n",
    "        values.append(profit(target_subsample, probs_subsample))\n",
    "\n",
    "    values = pd.Series(values)\n",
    "    mean = values.mean()\n",
    "    risk = (values < 0).mean()\n",
    "    \n",
    "    lower = values.quantile(0.025)\n",
    "    upper = values.quantile(0.975)\n",
    "    return round(mean,2), round(risk, 2), lower, upper"
   ]
  },
  {
   "cell_type": "code",
   "execution_count": 171,
   "metadata": {},
   "outputs": [
    {
     "name": "stdout",
     "output_type": "stream",
     "text": [
      "Данные по первому региону.\n",
      "Средняя прибыль по региону: 0.40 млрд. руб.\n",
      "95% доверительный интервал от -0.11 до 0.91 млрд. руб.\n",
      "Процент риска 7.0%\n"
     ]
    }
   ],
   "source": [
    "mean_0, risk_0, lower_0, upper_0 = bootstrap(target_data_0.reset_index(drop=True), predicted_data_0, 1000, 500)\n",
    "print('Данные по первому региону.')\n",
    "print('Средняя прибыль по региону: {:.2f} млрд. руб.'.format(mean_0))\n",
    "print('95% доверительный интервал от {:.2f} до {:.2f} млрд. руб.'.format(lower_0, upper_0))\n",
    "print('Процент риска {:.1%}'.format(risk_0))"
   ]
  },
  {
   "cell_type": "code",
   "execution_count": 172,
   "metadata": {},
   "outputs": [
    {
     "name": "stdout",
     "output_type": "stream",
     "text": [
      "Данные по второмы региону.\n",
      "Средняя прибыль по региону: 0.46 млрд.руб.\n",
      "95% доверительный интервал от 0.03 до 0.85 млрд.руб.\n",
      "Процент риска 2.0%\n"
     ]
    }
   ],
   "source": [
    "mean_1, risk_1, lower_1, upper_1 = bootstrap(target_data_1.reset_index(drop=True), predicted_data_1, 1000, 500)\n",
    "print('Данные по второмы региону.')\n",
    "print('Средняя прибыль по региону: {:.2f} млрд.руб.'.format(mean_1))\n",
    "print('95% доверительный интервал от {:.2f} до {:.2f} млрд.руб.'.format(lower_1, upper_1))\n",
    "print('Процент риска {:.1%}'.format(risk_1))"
   ]
  },
  {
   "cell_type": "code",
   "execution_count": 173,
   "metadata": {},
   "outputs": [
    {
     "name": "stdout",
     "output_type": "stream",
     "text": [
      "Данные по третьему региону.\n",
      "Средняя прибыль по региону: 0.40 млрд.руб.\n",
      "95% доверительный интервал от -0.16 до 0.95 млрд.руб.\n",
      "Процент риска 8.0%\n"
     ]
    }
   ],
   "source": [
    "mean_2, risk_2, lower_2, upper_2 = bootstrap(target_data_2.reset_index(drop=True), predicted_data_2, 1000, 500)\n",
    "print('Данные по третьему региону.')\n",
    "print('Средняя прибыль по региону: {:.2f} млрд.руб.'.format(mean_2))\n",
    "print('95% доверительный интервал от {:.2f} до {:.2f} млрд.руб.'.format(lower_2, upper_2))\n",
    "print('Процент риска {:.1%}'.format(risk_2))"
   ]
  },
  {
   "cell_type": "markdown",
   "metadata": {},
   "source": [
    "**Общий вывод:** Согласно расчитанной средней выручке все три региона являются прибыльными. Но в первом и третьем регионе высока вероятность убытков(7 и 8 процентов соответсвенно) и эти значения не укладываются в условия риска(2.5%).Эта ситуация описывается 95-% доврительным интервалом. Левая граница, которая отделяет 2.5 % данных для 1-го и 3-го регионов принимает отрицательное значение, что говорит о том, что более 2.5 % выборок имеют отрицательную прибыль. Так, что мы не можем рекомендовать к разработке эти регионы\n",
    "Второй регион оказывается лидером как по средней прибыли(0.46 млрд.руб.). Так и по показателям риска(2%), он единственный уложился в необходимые нам 2.5%. В связи с этим для дальнейшей разработки заказчику предлагается принять только второй регион."
   ]
  }
 ],
 "metadata": {
  "ExecuteTimeLog": [
   {
    "duration": 753,
    "start_time": "2022-03-12T07:53:24.276Z"
   },
   {
    "duration": 178,
    "start_time": "2022-03-12T07:54:05.498Z"
   },
   {
    "duration": 153,
    "start_time": "2022-03-12T07:54:27.197Z"
   },
   {
    "duration": 164,
    "start_time": "2022-03-12T07:54:37.323Z"
   },
   {
    "duration": 188,
    "start_time": "2022-03-12T07:55:16.325Z"
   },
   {
    "duration": 150,
    "start_time": "2022-03-12T07:55:32.116Z"
   },
   {
    "duration": 4,
    "start_time": "2022-03-12T08:01:17.484Z"
   },
   {
    "duration": 156,
    "start_time": "2022-03-12T08:01:17.492Z"
   },
   {
    "duration": 162,
    "start_time": "2022-03-12T08:01:17.652Z"
   },
   {
    "duration": 153,
    "start_time": "2022-03-12T08:01:17.816Z"
   },
   {
    "duration": 3,
    "start_time": "2022-03-12T08:01:29.500Z"
   },
   {
    "duration": 151,
    "start_time": "2022-03-12T08:01:54.097Z"
   },
   {
    "duration": 15,
    "start_time": "2022-03-12T08:02:16.972Z"
   },
   {
    "duration": 32,
    "start_time": "2022-03-12T08:02:36.309Z"
   },
   {
    "duration": 35,
    "start_time": "2022-03-12T08:02:50.470Z"
   },
   {
    "duration": 35,
    "start_time": "2022-03-12T08:03:13.591Z"
   },
   {
    "duration": 56,
    "start_time": "2022-03-12T08:03:31.489Z"
   },
   {
    "duration": 149,
    "start_time": "2022-03-12T08:04:03.479Z"
   },
   {
    "duration": 155,
    "start_time": "2022-03-12T08:11:29.993Z"
   },
   {
    "duration": 15,
    "start_time": "2022-03-12T08:11:39.248Z"
   },
   {
    "duration": 15,
    "start_time": "2022-03-12T08:11:58.345Z"
   },
   {
    "duration": 51,
    "start_time": "2022-03-12T08:12:00.488Z"
   },
   {
    "duration": 45,
    "start_time": "2022-03-12T08:13:32.652Z"
   },
   {
    "duration": 62,
    "start_time": "2022-03-12T08:14:53.012Z"
   },
   {
    "duration": 62,
    "start_time": "2022-03-12T08:15:03.541Z"
   },
   {
    "duration": 368,
    "start_time": "2022-03-12T08:16:03.318Z"
   },
   {
    "duration": 107,
    "start_time": "2022-03-12T08:16:24.814Z"
   },
   {
    "duration": 162,
    "start_time": "2022-03-12T08:16:24.924Z"
   },
   {
    "duration": 162,
    "start_time": "2022-03-12T08:16:25.089Z"
   },
   {
    "duration": 13,
    "start_time": "2022-03-12T08:16:25.254Z"
   },
   {
    "duration": 48,
    "start_time": "2022-03-12T08:16:25.281Z"
   },
   {
    "duration": 86,
    "start_time": "2022-03-12T08:16:25.331Z"
   },
   {
    "duration": 292,
    "start_time": "2022-03-12T08:16:25.419Z"
   },
   {
    "duration": -109,
    "start_time": "2022-03-12T08:16:25.823Z"
   },
   {
    "duration": -109,
    "start_time": "2022-03-12T08:16:25.824Z"
   },
   {
    "duration": -118,
    "start_time": "2022-03-12T08:16:25.834Z"
   },
   {
    "duration": 569,
    "start_time": "2022-03-12T08:16:49.457Z"
   },
   {
    "duration": 157,
    "start_time": "2022-03-12T08:16:50.029Z"
   },
   {
    "duration": 152,
    "start_time": "2022-03-12T08:16:50.189Z"
   },
   {
    "duration": 14,
    "start_time": "2022-03-12T08:16:50.344Z"
   },
   {
    "duration": 66,
    "start_time": "2022-03-12T08:16:50.360Z"
   },
   {
    "duration": 100,
    "start_time": "2022-03-12T08:16:50.429Z"
   },
   {
    "duration": 457,
    "start_time": "2022-03-12T08:16:50.532Z"
   },
   {
    "duration": 162,
    "start_time": "2022-03-12T08:16:50.991Z"
   },
   {
    "duration": 45,
    "start_time": "2022-03-12T08:16:51.156Z"
   },
   {
    "duration": 150,
    "start_time": "2022-03-12T08:16:51.203Z"
   },
   {
    "duration": 160,
    "start_time": "2022-03-12T08:31:29.190Z"
   },
   {
    "duration": 157,
    "start_time": "2022-03-12T08:31:42.383Z"
   },
   {
    "duration": 14,
    "start_time": "2022-03-12T08:31:44.176Z"
   },
   {
    "duration": 16,
    "start_time": "2022-03-12T08:31:55.849Z"
   },
   {
    "duration": 48,
    "start_time": "2022-03-12T08:31:57.736Z"
   },
   {
    "duration": 47,
    "start_time": "2022-03-12T08:32:07.890Z"
   },
   {
    "duration": 61,
    "start_time": "2022-03-12T08:32:14.060Z"
   },
   {
    "duration": 58,
    "start_time": "2022-03-12T08:32:14.124Z"
   },
   {
    "duration": 62,
    "start_time": "2022-03-12T08:32:31.083Z"
   },
   {
    "duration": 408,
    "start_time": "2022-03-12T08:32:37.194Z"
   },
   {
    "duration": 422,
    "start_time": "2022-03-12T08:33:37.813Z"
   },
   {
    "duration": 155,
    "start_time": "2022-03-12T08:33:47.227Z"
   },
   {
    "duration": 154,
    "start_time": "2022-03-12T08:33:59.540Z"
   },
   {
    "duration": 17,
    "start_time": "2022-03-12T08:34:01.595Z"
   },
   {
    "duration": 14,
    "start_time": "2022-03-12T08:34:14.101Z"
   },
   {
    "duration": 48,
    "start_time": "2022-03-12T08:34:16.125Z"
   },
   {
    "duration": 47,
    "start_time": "2022-03-12T08:34:33.334Z"
   },
   {
    "duration": 65,
    "start_time": "2022-03-12T08:34:37.892Z"
   },
   {
    "duration": 65,
    "start_time": "2022-03-12T08:35:11.088Z"
   },
   {
    "duration": 457,
    "start_time": "2022-03-12T08:35:16.005Z"
   },
   {
    "duration": 295,
    "start_time": "2022-03-12T08:42:50.927Z"
   },
   {
    "duration": 130,
    "start_time": "2022-03-12T08:42:59.781Z"
   },
   {
    "duration": 150,
    "start_time": "2022-03-12T08:42:59.913Z"
   },
   {
    "duration": 156,
    "start_time": "2022-03-12T08:43:00.066Z"
   },
   {
    "duration": 14,
    "start_time": "2022-03-12T08:43:00.224Z"
   },
   {
    "duration": 68,
    "start_time": "2022-03-12T08:43:00.240Z"
   },
   {
    "duration": 81,
    "start_time": "2022-03-12T08:43:00.311Z"
   },
   {
    "duration": 418,
    "start_time": "2022-03-12T08:43:00.394Z"
   },
   {
    "duration": 158,
    "start_time": "2022-03-12T08:43:00.815Z"
   },
   {
    "duration": 14,
    "start_time": "2022-03-12T08:43:00.981Z"
   },
   {
    "duration": 47,
    "start_time": "2022-03-12T08:43:00.998Z"
   },
   {
    "duration": 95,
    "start_time": "2022-03-12T08:43:01.048Z"
   },
   {
    "duration": 457,
    "start_time": "2022-03-12T08:43:01.146Z"
   },
   {
    "duration": 172,
    "start_time": "2022-03-12T08:43:01.605Z"
   },
   {
    "duration": 15,
    "start_time": "2022-03-12T08:43:01.779Z"
   },
   {
    "duration": 58,
    "start_time": "2022-03-12T08:43:01.796Z"
   },
   {
    "duration": 88,
    "start_time": "2022-03-12T08:43:01.857Z"
   },
   {
    "duration": 445,
    "start_time": "2022-03-12T08:43:01.948Z"
   },
   {
    "duration": 4,
    "start_time": "2022-03-12T08:43:02.396Z"
   },
   {
    "duration": 8,
    "start_time": "2022-03-12T08:43:02.403Z"
   },
   {
    "duration": 5,
    "start_time": "2022-03-12T08:44:02.485Z"
   },
   {
    "duration": 6,
    "start_time": "2022-03-12T08:47:38.834Z"
   },
   {
    "duration": 6,
    "start_time": "2022-03-12T08:48:28.423Z"
   },
   {
    "duration": 578,
    "start_time": "2022-03-12T08:48:30.213Z"
   },
   {
    "duration": 7,
    "start_time": "2022-03-12T08:48:57.525Z"
   },
   {
    "duration": 561,
    "start_time": "2022-03-12T08:49:00.169Z"
   },
   {
    "duration": 4,
    "start_time": "2022-03-12T08:49:34.128Z"
   },
   {
    "duration": 157,
    "start_time": "2022-03-12T08:49:34.134Z"
   },
   {
    "duration": 158,
    "start_time": "2022-03-12T08:49:34.294Z"
   },
   {
    "duration": 30,
    "start_time": "2022-03-12T08:49:34.455Z"
   },
   {
    "duration": 45,
    "start_time": "2022-03-12T08:49:34.487Z"
   },
   {
    "duration": 90,
    "start_time": "2022-03-12T08:49:34.535Z"
   },
   {
    "duration": 472,
    "start_time": "2022-03-12T08:49:34.628Z"
   },
   {
    "duration": 158,
    "start_time": "2022-03-12T08:49:35.105Z"
   },
   {
    "duration": 23,
    "start_time": "2022-03-12T08:49:35.266Z"
   },
   {
    "duration": 46,
    "start_time": "2022-03-12T08:49:35.292Z"
   },
   {
    "duration": 89,
    "start_time": "2022-03-12T08:49:35.340Z"
   },
   {
    "duration": 478,
    "start_time": "2022-03-12T08:49:35.431Z"
   },
   {
    "duration": 163,
    "start_time": "2022-03-12T08:49:35.911Z"
   },
   {
    "duration": 18,
    "start_time": "2022-03-12T08:49:36.076Z"
   },
   {
    "duration": 48,
    "start_time": "2022-03-12T08:49:36.096Z"
   },
   {
    "duration": 91,
    "start_time": "2022-03-12T08:49:36.147Z"
   },
   {
    "duration": 451,
    "start_time": "2022-03-12T08:49:36.240Z"
   },
   {
    "duration": 4,
    "start_time": "2022-03-12T08:49:36.693Z"
   },
   {
    "duration": 9,
    "start_time": "2022-03-12T08:49:36.699Z"
   },
   {
    "duration": 576,
    "start_time": "2022-03-12T08:49:36.711Z"
   },
   {
    "duration": 4,
    "start_time": "2022-03-12T08:49:46.972Z"
   },
   {
    "duration": 162,
    "start_time": "2022-03-12T08:49:46.979Z"
   },
   {
    "duration": 201,
    "start_time": "2022-03-12T08:49:47.143Z"
   },
   {
    "duration": 34,
    "start_time": "2022-03-12T08:49:47.348Z"
   },
   {
    "duration": 65,
    "start_time": "2022-03-12T08:49:47.385Z"
   },
   {
    "duration": 90,
    "start_time": "2022-03-12T08:49:47.453Z"
   },
   {
    "duration": 474,
    "start_time": "2022-03-12T08:49:47.545Z"
   },
   {
    "duration": 163,
    "start_time": "2022-03-12T08:49:48.023Z"
   },
   {
    "duration": 13,
    "start_time": "2022-03-12T08:49:48.188Z"
   },
   {
    "duration": 46,
    "start_time": "2022-03-12T08:49:48.204Z"
   },
   {
    "duration": 63,
    "start_time": "2022-03-12T08:49:48.281Z"
   },
   {
    "duration": 457,
    "start_time": "2022-03-12T08:49:48.346Z"
   },
   {
    "duration": 164,
    "start_time": "2022-03-12T08:49:48.806Z"
   },
   {
    "duration": 18,
    "start_time": "2022-03-12T08:49:48.972Z"
   },
   {
    "duration": 47,
    "start_time": "2022-03-12T08:49:48.992Z"
   },
   {
    "duration": 101,
    "start_time": "2022-03-12T08:49:49.042Z"
   },
   {
    "duration": 447,
    "start_time": "2022-03-12T08:49:49.146Z"
   },
   {
    "duration": 3,
    "start_time": "2022-03-12T08:49:49.596Z"
   },
   {
    "duration": 7,
    "start_time": "2022-03-12T08:49:49.602Z"
   },
   {
    "duration": 121,
    "start_time": "2022-03-12T08:50:33.679Z"
   },
   {
    "duration": 5,
    "start_time": "2022-03-12T08:50:58.226Z"
   },
   {
    "duration": 199,
    "start_time": "2022-03-12T08:50:58.234Z"
   },
   {
    "duration": 166,
    "start_time": "2022-03-12T08:50:58.436Z"
   },
   {
    "duration": 13,
    "start_time": "2022-03-12T08:50:58.605Z"
   },
   {
    "duration": 78,
    "start_time": "2022-03-12T08:50:58.620Z"
   },
   {
    "duration": 71,
    "start_time": "2022-03-12T08:50:58.700Z"
   },
   {
    "duration": 479,
    "start_time": "2022-03-12T08:50:58.783Z"
   },
   {
    "duration": 171,
    "start_time": "2022-03-12T08:50:59.266Z"
   },
   {
    "duration": 13,
    "start_time": "2022-03-12T08:50:59.439Z"
   },
   {
    "duration": 75,
    "start_time": "2022-03-12T08:50:59.455Z"
   },
   {
    "duration": 73,
    "start_time": "2022-03-12T08:50:59.533Z"
   },
   {
    "duration": 560,
    "start_time": "2022-03-12T08:50:59.608Z"
   },
   {
    "duration": 260,
    "start_time": "2022-03-12T08:51:00.171Z"
   },
   {
    "duration": 21,
    "start_time": "2022-03-12T08:51:00.434Z"
   },
   {
    "duration": 88,
    "start_time": "2022-03-12T08:51:00.458Z"
   },
   {
    "duration": 90,
    "start_time": "2022-03-12T08:51:00.549Z"
   },
   {
    "duration": 670,
    "start_time": "2022-03-12T08:51:00.642Z"
   },
   {
    "duration": 4,
    "start_time": "2022-03-12T08:51:01.316Z"
   },
   {
    "duration": 120,
    "start_time": "2022-03-12T08:51:01.323Z"
   },
   {
    "duration": 133,
    "start_time": "2022-03-12T08:51:17.976Z"
   },
   {
    "duration": 6,
    "start_time": "2022-03-12T08:51:46.417Z"
   },
   {
    "duration": 6,
    "start_time": "2022-03-12T08:51:51.824Z"
   },
   {
    "duration": 540,
    "start_time": "2022-03-12T08:53:14.943Z"
   },
   {
    "duration": 6,
    "start_time": "2022-03-12T08:53:35.704Z"
   },
   {
    "duration": 573,
    "start_time": "2022-03-12T08:53:36.632Z"
   },
   {
    "duration": 4,
    "start_time": "2022-03-12T08:54:16.231Z"
   },
   {
    "duration": 168,
    "start_time": "2022-03-12T08:54:16.245Z"
   },
   {
    "duration": 176,
    "start_time": "2022-03-12T08:54:16.416Z"
   },
   {
    "duration": 14,
    "start_time": "2022-03-12T08:54:16.595Z"
   },
   {
    "duration": 72,
    "start_time": "2022-03-12T08:54:16.612Z"
   },
   {
    "duration": 72,
    "start_time": "2022-03-12T08:54:16.686Z"
   },
   {
    "duration": 450,
    "start_time": "2022-03-12T08:54:16.760Z"
   },
   {
    "duration": 168,
    "start_time": "2022-03-12T08:54:17.213Z"
   },
   {
    "duration": 14,
    "start_time": "2022-03-12T08:54:17.384Z"
   },
   {
    "duration": 54,
    "start_time": "2022-03-12T08:54:17.403Z"
   },
   {
    "duration": 81,
    "start_time": "2022-03-12T08:54:17.484Z"
   },
   {
    "duration": 430,
    "start_time": "2022-03-12T08:54:17.583Z"
   },
   {
    "duration": 173,
    "start_time": "2022-03-12T08:54:18.015Z"
   },
   {
    "duration": 16,
    "start_time": "2022-03-12T08:54:18.191Z"
   },
   {
    "duration": 79,
    "start_time": "2022-03-12T08:54:18.210Z"
   },
   {
    "duration": 68,
    "start_time": "2022-03-12T08:54:18.291Z"
   },
   {
    "duration": 442,
    "start_time": "2022-03-12T08:54:18.361Z"
   },
   {
    "duration": 3,
    "start_time": "2022-03-12T08:54:18.805Z"
   },
   {
    "duration": 16,
    "start_time": "2022-03-12T08:54:18.811Z"
   },
   {
    "duration": 610,
    "start_time": "2022-03-12T08:54:18.829Z"
   },
   {
    "duration": 5,
    "start_time": "2022-03-12T08:54:54.516Z"
   },
   {
    "duration": 4,
    "start_time": "2022-03-12T08:54:58.990Z"
   },
   {
    "duration": 161,
    "start_time": "2022-03-12T08:54:58.996Z"
   },
   {
    "duration": 151,
    "start_time": "2022-03-12T08:54:59.160Z"
   },
   {
    "duration": 12,
    "start_time": "2022-03-12T08:54:59.314Z"
   },
   {
    "duration": 65,
    "start_time": "2022-03-12T08:54:59.329Z"
   },
   {
    "duration": 67,
    "start_time": "2022-03-12T08:54:59.396Z"
   },
   {
    "duration": 435,
    "start_time": "2022-03-12T08:54:59.466Z"
   },
   {
    "duration": 161,
    "start_time": "2022-03-12T08:54:59.904Z"
   },
   {
    "duration": 22,
    "start_time": "2022-03-12T08:55:00.067Z"
   },
   {
    "duration": 45,
    "start_time": "2022-03-12T08:55:00.091Z"
   },
   {
    "duration": 88,
    "start_time": "2022-03-12T08:55:00.139Z"
   },
   {
    "duration": 461,
    "start_time": "2022-03-12T08:55:00.229Z"
   },
   {
    "duration": 171,
    "start_time": "2022-03-12T08:55:00.692Z"
   },
   {
    "duration": 24,
    "start_time": "2022-03-12T08:55:00.866Z"
   },
   {
    "duration": 49,
    "start_time": "2022-03-12T08:55:00.893Z"
   },
   {
    "duration": 95,
    "start_time": "2022-03-12T08:55:00.945Z"
   },
   {
    "duration": 529,
    "start_time": "2022-03-12T08:55:01.043Z"
   },
   {
    "duration": 4,
    "start_time": "2022-03-12T08:55:01.582Z"
   },
   {
    "duration": 32,
    "start_time": "2022-03-12T08:55:01.592Z"
   },
   {
    "duration": 555,
    "start_time": "2022-03-12T08:55:01.627Z"
   },
   {
    "duration": 250,
    "start_time": "2022-03-12T08:55:50.824Z"
   },
   {
    "duration": 6,
    "start_time": "2022-03-12T08:56:18.774Z"
   },
   {
    "duration": 564,
    "start_time": "2022-03-12T08:56:20.321Z"
   },
   {
    "duration": 4,
    "start_time": "2022-03-12T08:56:52.648Z"
   },
   {
    "duration": 15,
    "start_time": "2022-03-12T08:56:54.247Z"
   },
   {
    "duration": 6,
    "start_time": "2022-03-12T08:56:55.365Z"
   },
   {
    "duration": 107,
    "start_time": "2022-03-12T08:56:57.400Z"
   },
   {
    "duration": 86,
    "start_time": "2022-03-12T08:57:27.552Z"
   },
   {
    "duration": 324,
    "start_time": "2022-03-12T08:58:26.673Z"
   },
   {
    "duration": 286,
    "start_time": "2022-03-12T08:58:43.237Z"
   },
   {
    "duration": 5,
    "start_time": "2022-03-12T08:58:57.066Z"
   },
   {
    "duration": 292,
    "start_time": "2022-03-12T08:59:04.730Z"
   },
   {
    "duration": 5,
    "start_time": "2022-03-12T08:59:25.947Z"
   },
   {
    "duration": 6,
    "start_time": "2022-03-12T08:59:31.242Z"
   },
   {
    "duration": 6,
    "start_time": "2022-03-12T08:59:45.923Z"
   },
   {
    "duration": 5,
    "start_time": "2022-03-12T09:00:35.388Z"
   },
   {
    "duration": 7,
    "start_time": "2022-03-12T09:00:52.076Z"
   },
   {
    "duration": 5,
    "start_time": "2022-03-12T09:03:37.198Z"
   },
   {
    "duration": 4,
    "start_time": "2022-03-12T09:03:46.751Z"
   },
   {
    "duration": 5,
    "start_time": "2022-03-12T09:03:54.072Z"
   },
   {
    "duration": 4,
    "start_time": "2022-03-12T09:04:00.000Z"
   },
   {
    "duration": 8,
    "start_time": "2022-03-12T09:04:43.802Z"
   },
   {
    "duration": 152,
    "start_time": "2022-03-12T09:04:43.813Z"
   },
   {
    "duration": 157,
    "start_time": "2022-03-12T09:04:43.968Z"
   },
   {
    "duration": 13,
    "start_time": "2022-03-12T09:04:44.128Z"
   },
   {
    "duration": 65,
    "start_time": "2022-03-12T09:04:44.144Z"
   },
   {
    "duration": 71,
    "start_time": "2022-03-12T09:04:44.212Z"
   },
   {
    "duration": 419,
    "start_time": "2022-03-12T09:04:44.286Z"
   },
   {
    "duration": 161,
    "start_time": "2022-03-12T09:04:44.708Z"
   },
   {
    "duration": 18,
    "start_time": "2022-03-12T09:04:44.873Z"
   },
   {
    "duration": 49,
    "start_time": "2022-03-12T09:04:44.893Z"
   },
   {
    "duration": 86,
    "start_time": "2022-03-12T09:04:44.944Z"
   },
   {
    "duration": 452,
    "start_time": "2022-03-12T09:04:45.033Z"
   },
   {
    "duration": 146,
    "start_time": "2022-03-12T09:04:45.487Z"
   },
   {
    "duration": 13,
    "start_time": "2022-03-12T09:04:45.636Z"
   },
   {
    "duration": 67,
    "start_time": "2022-03-12T09:04:45.651Z"
   },
   {
    "duration": 76,
    "start_time": "2022-03-12T09:04:45.720Z"
   },
   {
    "duration": 407,
    "start_time": "2022-03-12T09:04:45.798Z"
   },
   {
    "duration": 3,
    "start_time": "2022-03-12T09:04:46.208Z"
   },
   {
    "duration": 28,
    "start_time": "2022-03-12T09:04:46.213Z"
   },
   {
    "duration": 19,
    "start_time": "2022-03-12T09:04:46.243Z"
   },
   {
    "duration": 111,
    "start_time": "2022-03-12T09:04:46.264Z"
   },
   {
    "duration": 6,
    "start_time": "2022-03-12T09:04:46.378Z"
   },
   {
    "duration": 16,
    "start_time": "2022-03-12T09:04:46.387Z"
   },
   {
    "duration": 28,
    "start_time": "2022-03-12T09:04:46.406Z"
   },
   {
    "duration": 1055,
    "start_time": "2022-03-12T15:53:43.493Z"
   },
   {
    "duration": 580,
    "start_time": "2022-03-12T15:53:44.550Z"
   },
   {
    "duration": -519,
    "start_time": "2022-03-12T15:53:45.652Z"
   },
   {
    "duration": -520,
    "start_time": "2022-03-12T15:53:45.654Z"
   },
   {
    "duration": -525,
    "start_time": "2022-03-12T15:53:45.660Z"
   },
   {
    "duration": -525,
    "start_time": "2022-03-12T15:53:45.662Z"
   },
   {
    "duration": -526,
    "start_time": "2022-03-12T15:53:45.663Z"
   },
   {
    "duration": -526,
    "start_time": "2022-03-12T15:53:45.665Z"
   },
   {
    "duration": -527,
    "start_time": "2022-03-12T15:53:45.666Z"
   },
   {
    "duration": -526,
    "start_time": "2022-03-12T15:53:45.667Z"
   },
   {
    "duration": -527,
    "start_time": "2022-03-12T15:53:45.669Z"
   },
   {
    "duration": -528,
    "start_time": "2022-03-12T15:53:45.671Z"
   },
   {
    "duration": -528,
    "start_time": "2022-03-12T15:53:45.672Z"
   },
   {
    "duration": -530,
    "start_time": "2022-03-12T15:53:45.674Z"
   },
   {
    "duration": -529,
    "start_time": "2022-03-12T15:53:45.675Z"
   },
   {
    "duration": -531,
    "start_time": "2022-03-12T15:53:45.677Z"
   },
   {
    "duration": -531,
    "start_time": "2022-03-12T15:53:45.678Z"
   },
   {
    "duration": -531,
    "start_time": "2022-03-12T15:53:45.679Z"
   },
   {
    "duration": -531,
    "start_time": "2022-03-12T15:53:45.680Z"
   },
   {
    "duration": -531,
    "start_time": "2022-03-12T15:53:45.682Z"
   },
   {
    "duration": -535,
    "start_time": "2022-03-12T15:53:45.687Z"
   },
   {
    "duration": -536,
    "start_time": "2022-03-12T15:53:45.689Z"
   },
   {
    "duration": -536,
    "start_time": "2022-03-12T15:53:45.690Z"
   },
   {
    "duration": -536,
    "start_time": "2022-03-12T15:53:45.691Z"
   },
   {
    "duration": 127,
    "start_time": "2022-03-12T15:55:00.159Z"
   },
   {
    "duration": 4,
    "start_time": "2022-03-12T15:55:03.230Z"
   },
   {
    "duration": 128,
    "start_time": "2022-03-12T15:55:03.235Z"
   },
   {
    "duration": 10,
    "start_time": "2022-03-12T15:55:03.365Z"
   },
   {
    "duration": 34,
    "start_time": "2022-03-12T15:55:03.377Z"
   },
   {
    "duration": 56,
    "start_time": "2022-03-12T15:55:03.413Z"
   },
   {
    "duration": 297,
    "start_time": "2022-03-12T15:55:03.471Z"
   },
   {
    "duration": 116,
    "start_time": "2022-03-12T15:55:03.770Z"
   },
   {
    "duration": 9,
    "start_time": "2022-03-12T15:55:03.888Z"
   },
   {
    "duration": 47,
    "start_time": "2022-03-12T15:55:03.899Z"
   },
   {
    "duration": 37,
    "start_time": "2022-03-12T15:55:03.947Z"
   },
   {
    "duration": 337,
    "start_time": "2022-03-12T15:55:03.985Z"
   },
   {
    "duration": 302,
    "start_time": "2022-03-12T15:55:04.323Z"
   },
   {
    "duration": -519,
    "start_time": "2022-03-12T15:55:05.146Z"
   },
   {
    "duration": -519,
    "start_time": "2022-03-12T15:55:05.147Z"
   },
   {
    "duration": -519,
    "start_time": "2022-03-12T15:55:05.148Z"
   },
   {
    "duration": -519,
    "start_time": "2022-03-12T15:55:05.149Z"
   },
   {
    "duration": -520,
    "start_time": "2022-03-12T15:55:05.151Z"
   },
   {
    "duration": -519,
    "start_time": "2022-03-12T15:55:05.152Z"
   },
   {
    "duration": -520,
    "start_time": "2022-03-12T15:55:05.153Z"
   },
   {
    "duration": -520,
    "start_time": "2022-03-12T15:55:05.154Z"
   },
   {
    "duration": -520,
    "start_time": "2022-03-12T15:55:05.155Z"
   },
   {
    "duration": -520,
    "start_time": "2022-03-12T15:55:05.157Z"
   },
   {
    "duration": -520,
    "start_time": "2022-03-12T15:55:05.158Z"
   },
   {
    "duration": 3,
    "start_time": "2022-03-12T15:55:34.906Z"
   },
   {
    "duration": 131,
    "start_time": "2022-03-12T15:55:34.910Z"
   },
   {
    "duration": 11,
    "start_time": "2022-03-12T15:55:35.042Z"
   },
   {
    "duration": 35,
    "start_time": "2022-03-12T15:55:35.054Z"
   },
   {
    "duration": 60,
    "start_time": "2022-03-12T15:55:35.091Z"
   },
   {
    "duration": 315,
    "start_time": "2022-03-12T15:55:35.153Z"
   },
   {
    "duration": 117,
    "start_time": "2022-03-12T15:55:35.470Z"
   },
   {
    "duration": 10,
    "start_time": "2022-03-12T15:55:35.589Z"
   },
   {
    "duration": 46,
    "start_time": "2022-03-12T15:55:35.601Z"
   },
   {
    "duration": 34,
    "start_time": "2022-03-12T15:55:35.649Z"
   },
   {
    "duration": 358,
    "start_time": "2022-03-12T15:55:35.685Z"
   },
   {
    "duration": 125,
    "start_time": "2022-03-12T15:55:36.045Z"
   },
   {
    "duration": 9,
    "start_time": "2022-03-12T15:55:36.172Z"
   },
   {
    "duration": 37,
    "start_time": "2022-03-12T15:55:36.182Z"
   },
   {
    "duration": 47,
    "start_time": "2022-03-12T15:55:36.221Z"
   },
   {
    "duration": 303,
    "start_time": "2022-03-12T15:55:36.269Z"
   },
   {
    "duration": 2,
    "start_time": "2022-03-12T15:55:36.574Z"
   },
   {
    "duration": 12,
    "start_time": "2022-03-12T15:55:36.578Z"
   },
   {
    "duration": 5,
    "start_time": "2022-03-12T15:55:36.591Z"
   },
   {
    "duration": 161,
    "start_time": "2022-03-12T15:55:36.598Z"
   },
   {
    "duration": 4,
    "start_time": "2022-03-12T15:55:36.761Z"
   },
   {
    "duration": 5,
    "start_time": "2022-03-12T15:55:36.766Z"
   },
   {
    "duration": 4,
    "start_time": "2022-03-12T15:55:36.774Z"
   },
   {
    "duration": 4,
    "start_time": "2022-03-12T15:57:26.176Z"
   },
   {
    "duration": 3,
    "start_time": "2022-03-12T16:00:45.045Z"
   },
   {
    "duration": 403,
    "start_time": "2022-03-12T16:01:54.750Z"
   },
   {
    "duration": 4,
    "start_time": "2022-03-12T16:02:40.144Z"
   },
   {
    "duration": 340,
    "start_time": "2022-03-12T16:02:42.279Z"
   },
   {
    "duration": 4,
    "start_time": "2022-03-12T16:03:29.438Z"
   },
   {
    "duration": 395,
    "start_time": "2022-03-12T16:03:30.437Z"
   },
   {
    "duration": 3,
    "start_time": "2022-03-12T16:05:13.810Z"
   },
   {
    "duration": 126,
    "start_time": "2022-03-12T16:05:13.815Z"
   },
   {
    "duration": 10,
    "start_time": "2022-03-12T16:05:13.942Z"
   },
   {
    "duration": 33,
    "start_time": "2022-03-12T16:05:13.954Z"
   },
   {
    "duration": 62,
    "start_time": "2022-03-12T16:05:13.989Z"
   },
   {
    "duration": 311,
    "start_time": "2022-03-12T16:05:14.052Z"
   },
   {
    "duration": 123,
    "start_time": "2022-03-12T16:05:14.365Z"
   },
   {
    "duration": 10,
    "start_time": "2022-03-12T16:05:14.491Z"
   },
   {
    "duration": 46,
    "start_time": "2022-03-12T16:05:14.503Z"
   },
   {
    "duration": 33,
    "start_time": "2022-03-12T16:05:14.551Z"
   },
   {
    "duration": 309,
    "start_time": "2022-03-12T16:05:14.586Z"
   },
   {
    "duration": 122,
    "start_time": "2022-03-12T16:05:14.897Z"
   },
   {
    "duration": 19,
    "start_time": "2022-03-12T16:05:15.021Z"
   },
   {
    "duration": 35,
    "start_time": "2022-03-12T16:05:15.042Z"
   },
   {
    "duration": 58,
    "start_time": "2022-03-12T16:05:15.079Z"
   },
   {
    "duration": 306,
    "start_time": "2022-03-12T16:05:15.139Z"
   },
   {
    "duration": 3,
    "start_time": "2022-03-12T16:05:15.447Z"
   },
   {
    "duration": 14,
    "start_time": "2022-03-12T16:05:15.452Z"
   },
   {
    "duration": 9,
    "start_time": "2022-03-12T16:05:15.468Z"
   },
   {
    "duration": 62,
    "start_time": "2022-03-12T16:05:15.479Z"
   },
   {
    "duration": 93,
    "start_time": "2022-03-12T16:05:15.543Z"
   },
   {
    "duration": 5,
    "start_time": "2022-03-12T16:05:15.638Z"
   },
   {
    "duration": 5,
    "start_time": "2022-03-12T16:05:15.645Z"
   },
   {
    "duration": 188,
    "start_time": "2022-03-12T16:05:58.513Z"
   },
   {
    "duration": 344,
    "start_time": "2022-03-12T16:06:21.585Z"
   },
   {
    "duration": 174,
    "start_time": "2022-03-12T16:07:07.226Z"
   },
   {
    "duration": 179,
    "start_time": "2022-03-12T16:07:36.634Z"
   },
   {
    "duration": 168,
    "start_time": "2022-03-12T16:08:15.596Z"
   },
   {
    "duration": 4,
    "start_time": "2022-03-12T16:08:19.222Z"
   },
   {
    "duration": 138,
    "start_time": "2022-03-12T16:08:19.228Z"
   },
   {
    "duration": 11,
    "start_time": "2022-03-12T16:08:19.368Z"
   },
   {
    "duration": 55,
    "start_time": "2022-03-12T16:08:19.381Z"
   },
   {
    "duration": 39,
    "start_time": "2022-03-12T16:08:19.438Z"
   },
   {
    "duration": 317,
    "start_time": "2022-03-12T16:08:19.478Z"
   },
   {
    "duration": 120,
    "start_time": "2022-03-12T16:08:19.797Z"
   },
   {
    "duration": 14,
    "start_time": "2022-03-12T16:08:19.919Z"
   },
   {
    "duration": 33,
    "start_time": "2022-03-12T16:08:19.936Z"
   },
   {
    "duration": 37,
    "start_time": "2022-03-12T16:08:19.971Z"
   },
   {
    "duration": 351,
    "start_time": "2022-03-12T16:08:20.010Z"
   },
   {
    "duration": 121,
    "start_time": "2022-03-12T16:08:20.363Z"
   },
   {
    "duration": 9,
    "start_time": "2022-03-12T16:08:20.486Z"
   },
   {
    "duration": 48,
    "start_time": "2022-03-12T16:08:20.497Z"
   },
   {
    "duration": 37,
    "start_time": "2022-03-12T16:08:20.547Z"
   },
   {
    "duration": 343,
    "start_time": "2022-03-12T16:08:20.585Z"
   },
   {
    "duration": 11,
    "start_time": "2022-03-12T16:08:20.930Z"
   },
   {
    "duration": 5,
    "start_time": "2022-03-12T16:08:20.942Z"
   },
   {
    "duration": 6,
    "start_time": "2022-03-12T16:08:20.948Z"
   },
   {
    "duration": 77,
    "start_time": "2022-03-12T16:08:20.956Z"
   },
   {
    "duration": 4,
    "start_time": "2022-03-12T16:08:21.035Z"
   },
   {
    "duration": 101,
    "start_time": "2022-03-12T16:08:21.041Z"
   },
   {
    "duration": 4,
    "start_time": "2022-03-12T16:08:21.144Z"
   },
   {
    "duration": 4,
    "start_time": "2022-03-12T16:08:34.667Z"
   },
   {
    "duration": 4,
    "start_time": "2022-03-12T16:08:35.932Z"
   },
   {
    "duration": 3,
    "start_time": "2022-03-12T16:08:37.316Z"
   },
   {
    "duration": 23,
    "start_time": "2022-03-12T16:08:39.619Z"
   },
   {
    "duration": 4,
    "start_time": "2022-03-12T16:08:53.124Z"
   },
   {
    "duration": 22,
    "start_time": "2022-03-12T16:08:54.804Z"
   },
   {
    "duration": 4,
    "start_time": "2022-03-12T16:08:55.980Z"
   },
   {
    "duration": 4,
    "start_time": "2022-03-12T16:08:56.877Z"
   },
   {
    "duration": 4,
    "start_time": "2022-03-12T16:08:57.419Z"
   },
   {
    "duration": 182,
    "start_time": "2022-03-12T16:09:01.348Z"
   },
   {
    "duration": 22,
    "start_time": "2022-03-12T16:10:21.182Z"
   },
   {
    "duration": 168,
    "start_time": "2022-03-12T16:10:24.295Z"
   },
   {
    "duration": 184,
    "start_time": "2022-03-12T16:10:30.645Z"
   },
   {
    "duration": 21,
    "start_time": "2022-03-12T16:10:45.798Z"
   },
   {
    "duration": 21,
    "start_time": "2022-03-12T16:11:32.109Z"
   },
   {
    "duration": 3,
    "start_time": "2022-03-12T16:11:34.150Z"
   },
   {
    "duration": 4,
    "start_time": "2022-03-12T16:11:52.374Z"
   },
   {
    "duration": 20,
    "start_time": "2022-03-12T16:11:53.502Z"
   },
   {
    "duration": 20,
    "start_time": "2022-03-12T16:11:53.926Z"
   },
   {
    "duration": 22,
    "start_time": "2022-03-12T16:11:54.342Z"
   },
   {
    "duration": 3,
    "start_time": "2022-03-12T16:12:59.864Z"
   },
   {
    "duration": 3,
    "start_time": "2022-03-12T16:13:09.374Z"
   },
   {
    "duration": 337,
    "start_time": "2022-03-12T16:13:48.573Z"
   },
   {
    "duration": 3,
    "start_time": "2022-03-12T16:14:31.892Z"
   },
   {
    "duration": 175,
    "start_time": "2022-03-12T16:14:31.898Z"
   },
   {
    "duration": 15,
    "start_time": "2022-03-12T16:14:32.076Z"
   },
   {
    "duration": 63,
    "start_time": "2022-03-12T16:14:32.094Z"
   },
   {
    "duration": 59,
    "start_time": "2022-03-12T16:14:32.160Z"
   },
   {
    "duration": 424,
    "start_time": "2022-03-12T16:14:32.222Z"
   },
   {
    "duration": 191,
    "start_time": "2022-03-12T16:14:32.648Z"
   },
   {
    "duration": 16,
    "start_time": "2022-03-12T16:14:32.842Z"
   },
   {
    "duration": 46,
    "start_time": "2022-03-12T16:14:32.860Z"
   },
   {
    "duration": 58,
    "start_time": "2022-03-12T16:14:32.908Z"
   },
   {
    "duration": 304,
    "start_time": "2022-03-12T16:14:32.967Z"
   },
   {
    "duration": 130,
    "start_time": "2022-03-12T16:14:33.272Z"
   },
   {
    "duration": 11,
    "start_time": "2022-03-12T16:14:33.404Z"
   },
   {
    "duration": 45,
    "start_time": "2022-03-12T16:14:33.417Z"
   },
   {
    "duration": 39,
    "start_time": "2022-03-12T16:14:33.464Z"
   },
   {
    "duration": 338,
    "start_time": "2022-03-12T16:14:33.505Z"
   },
   {
    "duration": 11,
    "start_time": "2022-03-12T16:14:33.845Z"
   },
   {
    "duration": 4,
    "start_time": "2022-03-12T16:14:33.858Z"
   },
   {
    "duration": 5,
    "start_time": "2022-03-12T16:14:33.864Z"
   },
   {
    "duration": 62,
    "start_time": "2022-03-12T16:14:33.871Z"
   },
   {
    "duration": 109,
    "start_time": "2022-03-12T16:14:33.935Z"
   },
   {
    "duration": 190,
    "start_time": "2022-03-12T16:14:34.046Z"
   },
   {
    "duration": 4,
    "start_time": "2022-03-12T16:14:34.240Z"
   },
   {
    "duration": 8,
    "start_time": "2022-03-12T16:14:34.334Z"
   },
   {
    "duration": 62,
    "start_time": "2022-03-12T16:16:32.115Z"
   },
   {
    "duration": 4,
    "start_time": "2022-03-12T16:17:59.949Z"
   },
   {
    "duration": 21,
    "start_time": "2022-03-12T16:18:01.764Z"
   },
   {
    "duration": 19,
    "start_time": "2022-03-12T16:18:02.732Z"
   },
   {
    "duration": 21,
    "start_time": "2022-03-12T16:18:03.485Z"
   },
   {
    "duration": 3,
    "start_time": "2022-03-12T16:18:04.516Z"
   },
   {
    "duration": 5,
    "start_time": "2022-03-12T16:18:05.700Z"
   },
   {
    "duration": 4,
    "start_time": "2022-03-12T16:18:26.236Z"
   },
   {
    "duration": 434,
    "start_time": "2022-03-12T16:18:27.292Z"
   },
   {
    "duration": 543,
    "start_time": "2022-03-12T16:18:28.037Z"
   },
   {
    "duration": 3,
    "start_time": "2022-03-12T16:18:34.109Z"
   },
   {
    "duration": 24,
    "start_time": "2022-03-12T16:18:35.949Z"
   },
   {
    "duration": 27,
    "start_time": "2022-03-12T16:18:37.900Z"
   },
   {
    "duration": 27,
    "start_time": "2022-03-12T16:18:39.165Z"
   },
   {
    "duration": 4,
    "start_time": "2022-03-12T16:18:40.411Z"
   },
   {
    "duration": 6,
    "start_time": "2022-03-12T16:18:44.188Z"
   },
   {
    "duration": 6,
    "start_time": "2022-03-12T16:19:45.950Z"
   },
   {
    "duration": 6,
    "start_time": "2022-03-12T16:19:51.614Z"
   },
   {
    "duration": 4,
    "start_time": "2022-03-12T16:19:53.998Z"
   },
   {
    "duration": 5,
    "start_time": "2022-03-12T16:19:55.062Z"
   },
   {
    "duration": 5,
    "start_time": "2022-03-12T16:20:21.656Z"
   },
   {
    "duration": 6,
    "start_time": "2022-03-12T16:20:41.471Z"
   },
   {
    "duration": 6,
    "start_time": "2022-03-12T16:20:53.041Z"
   },
   {
    "duration": 185,
    "start_time": "2022-03-12T16:21:05.807Z"
   },
   {
    "duration": 6,
    "start_time": "2022-03-12T16:21:18.944Z"
   },
   {
    "duration": 1524,
    "start_time": "2022-03-14T10:45:24.160Z"
   },
   {
    "duration": 144,
    "start_time": "2022-03-14T10:45:25.686Z"
   },
   {
    "duration": 10,
    "start_time": "2022-03-14T10:45:25.832Z"
   },
   {
    "duration": 43,
    "start_time": "2022-03-14T10:45:25.844Z"
   },
   {
    "duration": 41,
    "start_time": "2022-03-14T10:45:25.889Z"
   },
   {
    "duration": 345,
    "start_time": "2022-03-14T10:45:25.932Z"
   },
   {
    "duration": 125,
    "start_time": "2022-03-14T10:45:26.279Z"
   },
   {
    "duration": 10,
    "start_time": "2022-03-14T10:45:26.407Z"
   },
   {
    "duration": 55,
    "start_time": "2022-03-14T10:45:26.419Z"
   },
   {
    "duration": 37,
    "start_time": "2022-03-14T10:45:26.475Z"
   },
   {
    "duration": 324,
    "start_time": "2022-03-14T10:45:26.513Z"
   },
   {
    "duration": 130,
    "start_time": "2022-03-14T10:45:26.840Z"
   },
   {
    "duration": 9,
    "start_time": "2022-03-14T10:45:26.972Z"
   },
   {
    "duration": 40,
    "start_time": "2022-03-14T10:45:26.983Z"
   },
   {
    "duration": 59,
    "start_time": "2022-03-14T10:45:27.025Z"
   },
   {
    "duration": 308,
    "start_time": "2022-03-14T10:45:27.086Z"
   },
   {
    "duration": 9,
    "start_time": "2022-03-14T10:45:27.395Z"
   },
   {
    "duration": 16,
    "start_time": "2022-03-14T10:45:27.406Z"
   },
   {
    "duration": 12,
    "start_time": "2022-03-14T10:45:27.424Z"
   },
   {
    "duration": 90,
    "start_time": "2022-03-14T10:45:27.437Z"
   },
   {
    "duration": 115,
    "start_time": "2022-03-14T10:45:27.564Z"
   },
   {
    "duration": 187,
    "start_time": "2022-03-14T10:45:27.682Z"
   },
   {
    "duration": 4,
    "start_time": "2022-03-14T10:45:27.873Z"
   },
   {
    "duration": 186,
    "start_time": "2022-03-14T10:45:27.878Z"
   },
   {
    "duration": 18,
    "start_time": "2022-03-14T10:45:28.067Z"
   },
   {
    "duration": 17,
    "start_time": "2022-03-14T10:45:28.088Z"
   },
   {
    "duration": 75,
    "start_time": "2022-03-14T11:11:29.246Z"
   },
   {
    "duration": 4,
    "start_time": "2022-03-14T11:11:41.224Z"
   },
   {
    "duration": 4,
    "start_time": "2022-03-14T11:14:18.642Z"
   },
   {
    "duration": 4,
    "start_time": "2022-03-14T11:17:02.825Z"
   },
   {
    "duration": 375,
    "start_time": "2022-03-14T11:25:10.362Z"
   },
   {
    "duration": 6,
    "start_time": "2022-03-14T11:25:54.252Z"
   },
   {
    "duration": 6,
    "start_time": "2022-03-14T11:48:47.653Z"
   },
   {
    "duration": 3,
    "start_time": "2022-03-14T11:50:12.254Z"
   },
   {
    "duration": 4,
    "start_time": "2022-03-14T11:50:43.250Z"
   },
   {
    "duration": 237,
    "start_time": "2022-03-14T11:50:56.358Z"
   },
   {
    "duration": 15,
    "start_time": "2022-03-14T11:51:54.557Z"
   },
   {
    "duration": 5,
    "start_time": "2022-03-14T11:52:32.888Z"
   },
   {
    "duration": 5,
    "start_time": "2022-03-14T11:52:36.790Z"
   },
   {
    "duration": 4,
    "start_time": "2022-03-14T11:57:52.306Z"
   },
   {
    "duration": 3,
    "start_time": "2022-03-14T12:01:57.834Z"
   },
   {
    "duration": 119,
    "start_time": "2022-03-14T12:01:57.838Z"
   },
   {
    "duration": 9,
    "start_time": "2022-03-14T12:01:57.959Z"
   },
   {
    "duration": 33,
    "start_time": "2022-03-14T12:01:57.970Z"
   },
   {
    "duration": 60,
    "start_time": "2022-03-14T12:01:58.004Z"
   },
   {
    "duration": 335,
    "start_time": "2022-03-14T12:01:58.066Z"
   },
   {
    "duration": 118,
    "start_time": "2022-03-14T12:01:58.403Z"
   },
   {
    "duration": 10,
    "start_time": "2022-03-14T12:01:58.525Z"
   },
   {
    "duration": 50,
    "start_time": "2022-03-14T12:01:58.537Z"
   },
   {
    "duration": 37,
    "start_time": "2022-03-14T12:01:58.588Z"
   },
   {
    "duration": 327,
    "start_time": "2022-03-14T12:01:58.627Z"
   },
   {
    "duration": 335,
    "start_time": "2022-03-14T12:01:58.956Z"
   },
   {
    "duration": 11,
    "start_time": "2022-03-14T12:01:59.292Z"
   },
   {
    "duration": 35,
    "start_time": "2022-03-14T12:01:59.305Z"
   },
   {
    "duration": 63,
    "start_time": "2022-03-14T12:01:59.342Z"
   },
   {
    "duration": 380,
    "start_time": "2022-03-14T12:01:59.407Z"
   },
   {
    "duration": 9,
    "start_time": "2022-03-14T12:01:59.789Z"
   },
   {
    "duration": 5,
    "start_time": "2022-03-14T12:01:59.800Z"
   },
   {
    "duration": 6,
    "start_time": "2022-03-14T12:01:59.806Z"
   },
   {
    "duration": 51,
    "start_time": "2022-03-14T12:01:59.813Z"
   },
   {
    "duration": 201,
    "start_time": "2022-03-14T12:01:59.867Z"
   },
   {
    "duration": 197,
    "start_time": "2022-03-14T12:02:00.071Z"
   },
   {
    "duration": 92,
    "start_time": "2022-03-14T12:02:00.273Z"
   },
   {
    "duration": 106,
    "start_time": "2022-03-14T12:02:00.368Z"
   },
   {
    "duration": 9,
    "start_time": "2022-03-14T12:02:00.476Z"
   },
   {
    "duration": 12,
    "start_time": "2022-03-14T12:02:00.487Z"
   },
   {
    "duration": 10,
    "start_time": "2022-03-14T12:02:00.501Z"
   },
   {
    "duration": 11,
    "start_time": "2022-03-14T12:02:00.512Z"
   },
   {
    "duration": 20,
    "start_time": "2022-03-14T12:02:00.524Z"
   },
   {
    "duration": 5,
    "start_time": "2022-03-14T12:02:00.546Z"
   },
   {
    "duration": 24,
    "start_time": "2022-03-14T12:02:00.552Z"
   },
   {
    "duration": 6,
    "start_time": "2022-03-14T12:02:00.577Z"
   },
   {
    "duration": 7,
    "start_time": "2022-03-14T12:07:48.824Z"
   },
   {
    "duration": 3,
    "start_time": "2022-03-14T12:52:58.214Z"
   },
   {
    "duration": 147,
    "start_time": "2022-03-14T12:52:58.221Z"
   },
   {
    "duration": 10,
    "start_time": "2022-03-14T12:52:58.369Z"
   },
   {
    "duration": 42,
    "start_time": "2022-03-14T12:52:58.380Z"
   },
   {
    "duration": 54,
    "start_time": "2022-03-14T12:52:58.424Z"
   },
   {
    "duration": 309,
    "start_time": "2022-03-14T12:52:58.480Z"
   },
   {
    "duration": 123,
    "start_time": "2022-03-14T12:52:58.791Z"
   },
   {
    "duration": 10,
    "start_time": "2022-03-14T12:52:58.916Z"
   },
   {
    "duration": 48,
    "start_time": "2022-03-14T12:52:58.928Z"
   },
   {
    "duration": 38,
    "start_time": "2022-03-14T12:52:58.978Z"
   },
   {
    "duration": 347,
    "start_time": "2022-03-14T12:52:59.018Z"
   },
   {
    "duration": 120,
    "start_time": "2022-03-14T12:52:59.367Z"
   },
   {
    "duration": 9,
    "start_time": "2022-03-14T12:52:59.489Z"
   },
   {
    "duration": 51,
    "start_time": "2022-03-14T12:52:59.499Z"
   },
   {
    "duration": 41,
    "start_time": "2022-03-14T12:52:59.552Z"
   },
   {
    "duration": 315,
    "start_time": "2022-03-14T12:52:59.595Z"
   },
   {
    "duration": 10,
    "start_time": "2022-03-14T12:52:59.912Z"
   },
   {
    "duration": 27,
    "start_time": "2022-03-14T12:52:59.924Z"
   },
   {
    "duration": 33,
    "start_time": "2022-03-14T12:52:59.953Z"
   },
   {
    "duration": 57,
    "start_time": "2022-03-14T12:52:59.987Z"
   },
   {
    "duration": 220,
    "start_time": "2022-03-14T12:53:00.047Z"
   },
   {
    "duration": 205,
    "start_time": "2022-03-14T12:53:00.269Z"
   },
   {
    "duration": 4,
    "start_time": "2022-03-14T12:53:00.476Z"
   },
   {
    "duration": 99,
    "start_time": "2022-03-14T12:53:00.568Z"
   },
   {
    "duration": 15,
    "start_time": "2022-03-14T12:53:00.669Z"
   },
   {
    "duration": 11,
    "start_time": "2022-03-14T12:53:00.685Z"
   },
   {
    "duration": 8,
    "start_time": "2022-03-14T12:53:00.697Z"
   },
   {
    "duration": 25,
    "start_time": "2022-03-14T12:53:00.707Z"
   },
   {
    "duration": 13,
    "start_time": "2022-03-14T12:53:00.733Z"
   },
   {
    "duration": 18,
    "start_time": "2022-03-14T12:53:00.747Z"
   },
   {
    "duration": 35,
    "start_time": "2022-03-14T12:53:00.767Z"
   },
   {
    "duration": 5,
    "start_time": "2022-03-14T12:53:00.804Z"
   },
   {
    "duration": 5,
    "start_time": "2022-03-14T12:55:37.082Z"
   },
   {
    "duration": 2180,
    "start_time": "2022-03-14T12:56:19.514Z"
   },
   {
    "duration": 1245,
    "start_time": "2022-03-14T17:45:35.276Z"
   },
   {
    "duration": 137,
    "start_time": "2022-03-14T17:45:36.523Z"
   },
   {
    "duration": 759,
    "start_time": "2022-03-14T17:45:36.662Z"
   },
   {
    "duration": 124,
    "start_time": "2022-03-14T17:45:37.423Z"
   },
   {
    "duration": 78,
    "start_time": "2022-03-14T17:45:37.549Z"
   },
   {
    "duration": 338,
    "start_time": "2022-03-14T17:45:37.629Z"
   },
   {
    "duration": 123,
    "start_time": "2022-03-14T17:45:37.969Z"
   },
   {
    "duration": 524,
    "start_time": "2022-03-14T17:45:38.094Z"
   },
   {
    "duration": 832,
    "start_time": "2022-03-14T17:45:38.620Z"
   },
   {
    "duration": 545,
    "start_time": "2022-03-14T17:45:39.453Z"
   },
   {
    "duration": 546,
    "start_time": "2022-03-14T17:45:40.000Z"
   },
   {
    "duration": 244,
    "start_time": "2022-03-14T17:45:40.548Z"
   },
   {
    "duration": 344,
    "start_time": "2022-03-14T17:45:40.793Z"
   },
   {
    "duration": 263,
    "start_time": "2022-03-14T17:45:41.139Z"
   },
   {
    "duration": 435,
    "start_time": "2022-03-14T17:45:41.403Z"
   },
   {
    "duration": 966,
    "start_time": "2022-03-14T17:45:41.839Z"
   },
   {
    "duration": 55,
    "start_time": "2022-03-14T17:45:42.806Z"
   },
   {
    "duration": 333,
    "start_time": "2022-03-14T17:45:42.862Z"
   },
   {
    "duration": 198,
    "start_time": "2022-03-14T17:45:43.197Z"
   },
   {
    "duration": 531,
    "start_time": "2022-03-14T17:45:43.396Z"
   },
   {
    "duration": 269,
    "start_time": "2022-03-14T17:45:43.929Z"
   },
   {
    "duration": 342,
    "start_time": "2022-03-14T17:45:44.200Z"
   },
   {
    "duration": 640,
    "start_time": "2022-03-14T17:45:44.546Z"
   },
   {
    "duration": 1032,
    "start_time": "2022-03-14T17:45:45.188Z"
   },
   {
    "duration": 583,
    "start_time": "2022-03-14T17:45:46.221Z"
   },
   {
    "duration": 783,
    "start_time": "2022-03-14T17:45:46.806Z"
   },
   {
    "duration": 1191,
    "start_time": "2022-03-14T17:45:47.591Z"
   },
   {
    "duration": 781,
    "start_time": "2022-03-14T17:45:48.784Z"
   },
   {
    "duration": 838,
    "start_time": "2022-03-14T17:45:49.567Z"
   },
   {
    "duration": 633,
    "start_time": "2022-03-14T17:45:50.407Z"
   },
   {
    "duration": 265,
    "start_time": "2022-03-14T17:45:51.041Z"
   },
   {
    "duration": 390,
    "start_time": "2022-03-14T17:45:51.308Z"
   },
   {
    "duration": 2888,
    "start_time": "2022-03-14T17:45:51.700Z"
   },
   {
    "duration": 1246,
    "start_time": "2022-03-15T12:38:23.539Z"
   },
   {
    "duration": 571,
    "start_time": "2022-03-15T12:38:24.787Z"
   },
   {
    "duration": 14,
    "start_time": "2022-03-15T12:38:25.360Z"
   },
   {
    "duration": 61,
    "start_time": "2022-03-15T12:38:25.376Z"
   },
   {
    "duration": 49,
    "start_time": "2022-03-15T12:38:25.439Z"
   },
   {
    "duration": 339,
    "start_time": "2022-03-15T12:38:25.490Z"
   },
   {
    "duration": 288,
    "start_time": "2022-03-15T12:38:25.831Z"
   },
   {
    "duration": 11,
    "start_time": "2022-03-15T12:38:26.122Z"
   },
   {
    "duration": 52,
    "start_time": "2022-03-15T12:38:26.134Z"
   },
   {
    "duration": 43,
    "start_time": "2022-03-15T12:38:26.189Z"
   },
   {
    "duration": 370,
    "start_time": "2022-03-15T12:38:26.233Z"
   },
   {
    "duration": 286,
    "start_time": "2022-03-15T12:38:26.604Z"
   },
   {
    "duration": 12,
    "start_time": "2022-03-15T12:38:26.893Z"
   },
   {
    "duration": 39,
    "start_time": "2022-03-15T12:38:26.907Z"
   },
   {
    "duration": 59,
    "start_time": "2022-03-15T12:38:26.948Z"
   },
   {
    "duration": 323,
    "start_time": "2022-03-15T12:38:27.008Z"
   },
   {
    "duration": 10,
    "start_time": "2022-03-15T12:38:27.333Z"
   },
   {
    "duration": 8,
    "start_time": "2022-03-15T12:38:27.345Z"
   },
   {
    "duration": 9,
    "start_time": "2022-03-15T12:38:27.355Z"
   },
   {
    "duration": 72,
    "start_time": "2022-03-15T12:38:27.365Z"
   },
   {
    "duration": 209,
    "start_time": "2022-03-15T12:38:27.466Z"
   },
   {
    "duration": 127,
    "start_time": "2022-03-15T12:38:27.677Z"
   },
   {
    "duration": 93,
    "start_time": "2022-03-15T12:38:27.874Z"
   },
   {
    "duration": 35,
    "start_time": "2022-03-15T12:38:27.969Z"
   },
   {
    "duration": 5,
    "start_time": "2022-03-15T12:38:28.006Z"
   },
   {
    "duration": 10,
    "start_time": "2022-03-15T12:38:28.013Z"
   },
   {
    "duration": 7,
    "start_time": "2022-03-15T12:38:28.025Z"
   },
   {
    "duration": 9,
    "start_time": "2022-03-15T12:38:28.033Z"
   },
   {
    "duration": 9,
    "start_time": "2022-03-15T12:38:28.044Z"
   },
   {
    "duration": 18,
    "start_time": "2022-03-15T12:38:28.054Z"
   },
   {
    "duration": 38,
    "start_time": "2022-03-15T12:38:28.075Z"
   },
   {
    "duration": 5,
    "start_time": "2022-03-15T12:38:28.115Z"
   },
   {
    "duration": 2564,
    "start_time": "2022-03-15T12:38:28.121Z"
   },
   {
    "duration": 41,
    "start_time": "2022-03-15T12:57:16.677Z"
   },
   {
    "duration": 142,
    "start_time": "2022-03-15T12:58:17.618Z"
   },
   {
    "duration": 302,
    "start_time": "2022-03-15T12:58:26.186Z"
   },
   {
    "duration": 351,
    "start_time": "2022-03-15T12:59:50.900Z"
   },
   {
    "duration": 500,
    "start_time": "2022-03-15T13:00:27.490Z"
   },
   {
    "duration": 3,
    "start_time": "2022-03-15T13:06:58.292Z"
   },
   {
    "duration": 128,
    "start_time": "2022-03-15T13:06:58.305Z"
   },
   {
    "duration": 35,
    "start_time": "2022-03-15T13:06:58.435Z"
   },
   {
    "duration": 43,
    "start_time": "2022-03-15T13:06:58.472Z"
   },
   {
    "duration": 42,
    "start_time": "2022-03-15T13:06:58.517Z"
   },
   {
    "duration": 341,
    "start_time": "2022-03-15T13:06:58.561Z"
   },
   {
    "duration": 84,
    "start_time": "2022-03-15T13:06:58.904Z"
   },
   {
    "duration": 527,
    "start_time": "2022-03-15T13:06:58.465Z"
   },
   {
    "duration": 521,
    "start_time": "2022-03-15T13:06:58.472Z"
   },
   {
    "duration": 509,
    "start_time": "2022-03-15T13:06:58.486Z"
   },
   {
    "duration": 505,
    "start_time": "2022-03-15T13:06:58.491Z"
   },
   {
    "duration": 505,
    "start_time": "2022-03-15T13:06:58.492Z"
   },
   {
    "duration": 505,
    "start_time": "2022-03-15T13:06:58.494Z"
   },
   {
    "duration": 505,
    "start_time": "2022-03-15T13:06:58.495Z"
   },
   {
    "duration": 505,
    "start_time": "2022-03-15T13:06:58.496Z"
   },
   {
    "duration": 505,
    "start_time": "2022-03-15T13:06:58.497Z"
   },
   {
    "duration": 505,
    "start_time": "2022-03-15T13:06:58.499Z"
   },
   {
    "duration": 505,
    "start_time": "2022-03-15T13:06:58.500Z"
   },
   {
    "duration": 504,
    "start_time": "2022-03-15T13:06:58.502Z"
   },
   {
    "duration": 504,
    "start_time": "2022-03-15T13:06:58.504Z"
   },
   {
    "duration": 504,
    "start_time": "2022-03-15T13:06:58.505Z"
   },
   {
    "duration": 503,
    "start_time": "2022-03-15T13:06:58.507Z"
   },
   {
    "duration": 500,
    "start_time": "2022-03-15T13:06:58.511Z"
   },
   {
    "duration": 495,
    "start_time": "2022-03-15T13:06:58.518Z"
   },
   {
    "duration": 495,
    "start_time": "2022-03-15T13:06:58.519Z"
   },
   {
    "duration": 494,
    "start_time": "2022-03-15T13:06:58.521Z"
   },
   {
    "duration": 495,
    "start_time": "2022-03-15T13:06:58.522Z"
   },
   {
    "duration": 493,
    "start_time": "2022-03-15T13:06:58.525Z"
   },
   {
    "duration": 493,
    "start_time": "2022-03-15T13:06:58.526Z"
   },
   {
    "duration": 493,
    "start_time": "2022-03-15T13:06:58.527Z"
   },
   {
    "duration": 494,
    "start_time": "2022-03-15T13:06:58.528Z"
   },
   {
    "duration": 494,
    "start_time": "2022-03-15T13:06:58.529Z"
   },
   {
    "duration": 493,
    "start_time": "2022-03-15T13:06:58.531Z"
   },
   {
    "duration": 493,
    "start_time": "2022-03-15T13:06:58.532Z"
   },
   {
    "duration": 494,
    "start_time": "2022-03-15T13:06:58.533Z"
   },
   {
    "duration": 1085,
    "start_time": "2022-03-15T17:39:02.540Z"
   },
   {
    "duration": 137,
    "start_time": "2022-03-15T17:39:03.627Z"
   },
   {
    "duration": 10,
    "start_time": "2022-03-15T17:39:03.766Z"
   },
   {
    "duration": 36,
    "start_time": "2022-03-15T17:39:03.778Z"
   },
   {
    "duration": 43,
    "start_time": "2022-03-15T17:39:03.833Z"
   },
   {
    "duration": 319,
    "start_time": "2022-03-15T17:39:03.877Z"
   },
   {
    "duration": 124,
    "start_time": "2022-03-15T17:39:04.198Z"
   },
   {
    "duration": 15,
    "start_time": "2022-03-15T17:39:04.324Z"
   },
   {
    "duration": 35,
    "start_time": "2022-03-15T17:39:04.341Z"
   },
   {
    "duration": 56,
    "start_time": "2022-03-15T17:39:04.378Z"
   },
   {
    "duration": 312,
    "start_time": "2022-03-15T17:39:04.435Z"
   },
   {
    "duration": 125,
    "start_time": "2022-03-15T17:39:04.749Z"
   },
   {
    "duration": 10,
    "start_time": "2022-03-15T17:39:04.875Z"
   },
   {
    "duration": 52,
    "start_time": "2022-03-15T17:39:04.887Z"
   },
   {
    "duration": 49,
    "start_time": "2022-03-15T17:39:04.940Z"
   },
   {
    "duration": 333,
    "start_time": "2022-03-15T17:39:04.990Z"
   },
   {
    "duration": 53,
    "start_time": "2022-03-15T17:39:05.324Z"
   },
   {
    "duration": -31,
    "start_time": "2022-03-15T17:39:05.410Z"
   },
   {
    "duration": -32,
    "start_time": "2022-03-15T17:39:05.412Z"
   },
   {
    "duration": -32,
    "start_time": "2022-03-15T17:39:05.413Z"
   },
   {
    "duration": -36,
    "start_time": "2022-03-15T17:39:05.418Z"
   },
   {
    "duration": -37,
    "start_time": "2022-03-15T17:39:05.420Z"
   },
   {
    "duration": -38,
    "start_time": "2022-03-15T17:39:05.421Z"
   },
   {
    "duration": -39,
    "start_time": "2022-03-15T17:39:05.423Z"
   },
   {
    "duration": -38,
    "start_time": "2022-03-15T17:39:05.424Z"
   },
   {
    "duration": -39,
    "start_time": "2022-03-15T17:39:05.426Z"
   },
   {
    "duration": -39,
    "start_time": "2022-03-15T17:39:05.427Z"
   },
   {
    "duration": -41,
    "start_time": "2022-03-15T17:39:05.429Z"
   },
   {
    "duration": -41,
    "start_time": "2022-03-15T17:39:05.430Z"
   },
   {
    "duration": -40,
    "start_time": "2022-03-15T17:39:05.431Z"
   },
   {
    "duration": -44,
    "start_time": "2022-03-15T17:39:05.436Z"
   },
   {
    "duration": -45,
    "start_time": "2022-03-15T17:39:05.438Z"
   },
   {
    "duration": -46,
    "start_time": "2022-03-15T17:39:05.440Z"
   },
   {
    "duration": -47,
    "start_time": "2022-03-15T17:39:05.441Z"
   },
   {
    "duration": 4,
    "start_time": "2022-03-15T17:39:17.048Z"
   },
   {
    "duration": 141,
    "start_time": "2022-03-15T17:39:17.054Z"
   },
   {
    "duration": 11,
    "start_time": "2022-03-15T17:39:17.196Z"
   },
   {
    "duration": 49,
    "start_time": "2022-03-15T17:39:17.209Z"
   },
   {
    "duration": 39,
    "start_time": "2022-03-15T17:39:17.260Z"
   },
   {
    "duration": 356,
    "start_time": "2022-03-15T17:39:17.302Z"
   },
   {
    "duration": 121,
    "start_time": "2022-03-15T17:39:17.661Z"
   },
   {
    "duration": 10,
    "start_time": "2022-03-15T17:39:17.786Z"
   },
   {
    "duration": 50,
    "start_time": "2022-03-15T17:39:17.799Z"
   },
   {
    "duration": 36,
    "start_time": "2022-03-15T17:39:17.851Z"
   },
   {
    "duration": 334,
    "start_time": "2022-03-15T17:39:17.889Z"
   },
   {
    "duration": 117,
    "start_time": "2022-03-15T17:39:18.232Z"
   },
   {
    "duration": 11,
    "start_time": "2022-03-15T17:39:18.351Z"
   },
   {
    "duration": 35,
    "start_time": "2022-03-15T17:39:18.363Z"
   },
   {
    "duration": 63,
    "start_time": "2022-03-15T17:39:18.400Z"
   },
   {
    "duration": 396,
    "start_time": "2022-03-15T17:39:18.465Z"
   },
   {
    "duration": 12,
    "start_time": "2022-03-15T17:39:18.863Z"
   },
   {
    "duration": 5,
    "start_time": "2022-03-15T17:39:18.877Z"
   },
   {
    "duration": 6,
    "start_time": "2022-03-15T17:39:18.883Z"
   },
   {
    "duration": 52,
    "start_time": "2022-03-15T17:39:18.890Z"
   },
   {
    "duration": 99,
    "start_time": "2022-03-15T17:39:19.034Z"
   },
   {
    "duration": 109,
    "start_time": "2022-03-15T17:39:19.135Z"
   },
   {
    "duration": 84,
    "start_time": "2022-03-15T17:39:19.249Z"
   },
   {
    "duration": 100,
    "start_time": "2022-03-15T17:39:19.336Z"
   },
   {
    "duration": 6,
    "start_time": "2022-03-15T17:39:19.438Z"
   },
   {
    "duration": 6,
    "start_time": "2022-03-15T17:39:19.445Z"
   },
   {
    "duration": 10,
    "start_time": "2022-03-15T17:39:19.453Z"
   },
   {
    "duration": 5,
    "start_time": "2022-03-15T17:39:19.464Z"
   },
   {
    "duration": 10,
    "start_time": "2022-03-15T17:39:19.470Z"
   },
   {
    "duration": 3,
    "start_time": "2022-03-15T17:39:19.482Z"
   },
   {
    "duration": 14,
    "start_time": "2022-03-15T17:39:19.486Z"
   },
   {
    "duration": 33,
    "start_time": "2022-03-15T17:39:19.502Z"
   },
   {
    "duration": 2127,
    "start_time": "2022-03-15T17:39:19.537Z"
   },
   {
    "duration": 3,
    "start_time": "2022-03-15T17:44:22.591Z"
   },
   {
    "duration": 2,
    "start_time": "2022-03-15T17:45:53.333Z"
   },
   {
    "duration": 2,
    "start_time": "2022-03-15T17:45:56.897Z"
   },
   {
    "duration": 3,
    "start_time": "2022-03-15T17:47:23.226Z"
   },
   {
    "duration": 459,
    "start_time": "2022-03-15T17:48:36.938Z"
   },
   {
    "duration": 490,
    "start_time": "2022-03-15T17:49:04.635Z"
   },
   {
    "duration": 78,
    "start_time": "2022-03-15T17:49:37.805Z"
   },
   {
    "duration": 419,
    "start_time": "2022-03-15T17:50:15.798Z"
   },
   {
    "duration": 3,
    "start_time": "2022-03-15T17:50:22.037Z"
   },
   {
    "duration": 3,
    "start_time": "2022-03-15T17:51:01.393Z"
   },
   {
    "duration": 3,
    "start_time": "2022-03-15T17:51:38.233Z"
   },
   {
    "duration": 3,
    "start_time": "2022-03-15T17:51:43.359Z"
   },
   {
    "duration": 4,
    "start_time": "2022-03-15T17:51:51.015Z"
   },
   {
    "duration": 4,
    "start_time": "2022-03-15T17:55:11.214Z"
   },
   {
    "duration": 3,
    "start_time": "2022-03-15T17:58:40.463Z"
   },
   {
    "duration": 5,
    "start_time": "2022-03-15T18:00:28.590Z"
   },
   {
    "duration": 6,
    "start_time": "2022-03-15T18:00:45.060Z"
   },
   {
    "duration": 5,
    "start_time": "2022-03-15T18:00:59.668Z"
   },
   {
    "duration": 4,
    "start_time": "2022-03-15T18:01:15.126Z"
   },
   {
    "duration": 6,
    "start_time": "2022-03-15T18:01:17.404Z"
   },
   {
    "duration": 6,
    "start_time": "2022-03-15T18:01:18.789Z"
   },
   {
    "duration": 5,
    "start_time": "2022-03-15T18:03:25.361Z"
   },
   {
    "duration": 257,
    "start_time": "2022-03-15T18:03:27.824Z"
   },
   {
    "duration": 7,
    "start_time": "2022-03-15T18:04:14.578Z"
   },
   {
    "duration": 5,
    "start_time": "2022-03-15T18:04:24.140Z"
   },
   {
    "duration": 88,
    "start_time": "2022-03-15T18:05:02.314Z"
   },
   {
    "duration": 1273,
    "start_time": "2022-03-16T16:30:20.197Z"
   },
   {
    "duration": 142,
    "start_time": "2022-03-16T16:30:21.472Z"
   },
   {
    "duration": 166,
    "start_time": "2022-03-16T16:30:21.616Z"
   },
   {
    "duration": 283,
    "start_time": "2022-03-16T16:30:21.784Z"
   },
   {
    "duration": 593,
    "start_time": "2022-03-16T16:30:22.069Z"
   },
   {
    "duration": 519,
    "start_time": "2022-03-16T16:30:22.663Z"
   },
   {
    "duration": 135,
    "start_time": "2022-03-16T16:30:23.185Z"
   },
   {
    "duration": 111,
    "start_time": "2022-03-16T16:30:23.323Z"
   },
   {
    "duration": 245,
    "start_time": "2022-03-16T16:30:23.436Z"
   },
   {
    "duration": 361,
    "start_time": "2022-03-16T16:30:23.683Z"
   },
   {
    "duration": 566,
    "start_time": "2022-03-16T16:30:24.046Z"
   },
   {
    "duration": 128,
    "start_time": "2022-03-16T16:30:24.614Z"
   },
   {
    "duration": 176,
    "start_time": "2022-03-16T16:30:24.744Z"
   },
   {
    "duration": 339,
    "start_time": "2022-03-16T16:30:24.922Z"
   },
   {
    "duration": 270,
    "start_time": "2022-03-16T16:30:25.264Z"
   },
   {
    "duration": 545,
    "start_time": "2022-03-16T16:30:25.536Z"
   },
   {
    "duration": 11,
    "start_time": "2022-03-16T16:30:26.083Z"
   },
   {
    "duration": 263,
    "start_time": "2022-03-16T16:30:26.096Z"
   },
   {
    "duration": 242,
    "start_time": "2022-03-16T16:30:26.361Z"
   },
   {
    "duration": 546,
    "start_time": "2022-03-16T16:30:26.605Z"
   },
   {
    "duration": 679,
    "start_time": "2022-03-16T16:30:27.154Z"
   },
   {
    "duration": 716,
    "start_time": "2022-03-16T16:30:27.835Z"
   },
   {
    "duration": 291,
    "start_time": "2022-03-16T16:30:28.555Z"
   },
   {
    "duration": 323,
    "start_time": "2022-03-16T16:30:28.848Z"
   },
   {
    "duration": 253,
    "start_time": "2022-03-16T16:30:29.174Z"
   },
   {
    "duration": 276,
    "start_time": "2022-03-16T16:30:29.430Z"
   },
   {
    "duration": 247,
    "start_time": "2022-03-16T16:30:29.708Z"
   },
   {
    "duration": 379,
    "start_time": "2022-03-16T16:30:29.957Z"
   },
   {
    "duration": 893,
    "start_time": "2022-03-16T16:30:30.338Z"
   },
   {
    "duration": 329,
    "start_time": "2022-03-16T16:30:31.233Z"
   },
   {
    "duration": 286,
    "start_time": "2022-03-16T16:30:31.564Z"
   },
   {
    "duration": 226,
    "start_time": "2022-03-16T16:30:31.853Z"
   },
   {
    "duration": 288,
    "start_time": "2022-03-16T16:30:32.081Z"
   },
   {
    "duration": 281,
    "start_time": "2022-03-16T16:30:32.371Z"
   },
   {
    "duration": 3429,
    "start_time": "2022-03-16T16:30:32.654Z"
   },
   {
    "duration": 311,
    "start_time": "2022-03-16T16:31:12.189Z"
   },
   {
    "duration": 5,
    "start_time": "2022-03-16T16:31:28.861Z"
   },
   {
    "duration": 8,
    "start_time": "2022-03-16T16:31:29.672Z"
   },
   {
    "duration": 6,
    "start_time": "2022-03-16T16:31:36.423Z"
   },
   {
    "duration": 6,
    "start_time": "2022-03-16T16:31:37.686Z"
   },
   {
    "duration": 5,
    "start_time": "2022-03-16T16:32:22.623Z"
   },
   {
    "duration": 3,
    "start_time": "2022-03-16T16:33:34.672Z"
   },
   {
    "duration": 1805,
    "start_time": "2022-03-16T16:33:35.280Z"
   },
   {
    "duration": 7,
    "start_time": "2022-03-16T16:33:39.096Z"
   },
   {
    "duration": 6,
    "start_time": "2022-03-16T16:33:41.200Z"
   },
   {
    "duration": 81,
    "start_time": "2022-03-16T16:34:28.081Z"
   },
   {
    "duration": 4,
    "start_time": "2022-03-16T16:34:41.937Z"
   },
   {
    "duration": 22,
    "start_time": "2022-03-16T16:34:43.441Z"
   },
   {
    "duration": 5,
    "start_time": "2022-03-16T16:35:47.573Z"
   },
   {
    "duration": 7,
    "start_time": "2022-03-16T16:35:48.657Z"
   },
   {
    "duration": 4,
    "start_time": "2022-03-16T16:36:42.354Z"
   },
   {
    "duration": 115,
    "start_time": "2022-03-16T16:36:43.507Z"
   },
   {
    "duration": 7,
    "start_time": "2022-03-16T16:36:56.196Z"
   },
   {
    "duration": 7,
    "start_time": "2022-03-16T16:36:56.764Z"
   },
   {
    "duration": 6,
    "start_time": "2022-03-16T16:36:57.972Z"
   },
   {
    "duration": 7,
    "start_time": "2022-03-16T16:38:12.451Z"
   },
   {
    "duration": 3,
    "start_time": "2022-03-16T16:43:39.253Z"
   },
   {
    "duration": 5,
    "start_time": "2022-03-16T16:45:33.680Z"
   },
   {
    "duration": 4,
    "start_time": "2022-03-16T16:45:37.703Z"
   },
   {
    "duration": 4,
    "start_time": "2022-03-16T16:45:46.110Z"
   },
   {
    "duration": 5,
    "start_time": "2022-03-16T16:46:08.352Z"
   },
   {
    "duration": 4,
    "start_time": "2022-03-16T16:47:06.657Z"
   },
   {
    "duration": 4,
    "start_time": "2022-03-16T16:49:32.470Z"
   },
   {
    "duration": 4,
    "start_time": "2022-03-16T16:49:37.191Z"
   },
   {
    "duration": 4,
    "start_time": "2022-03-16T16:49:42.806Z"
   },
   {
    "duration": 5,
    "start_time": "2022-03-16T16:52:01.513Z"
   },
   {
    "duration": 234,
    "start_time": "2022-03-16T16:55:31.123Z"
   },
   {
    "duration": 4,
    "start_time": "2022-03-16T16:55:34.946Z"
   },
   {
    "duration": 20,
    "start_time": "2022-03-16T16:55:39.155Z"
   },
   {
    "duration": 6,
    "start_time": "2022-03-16T17:00:44.905Z"
   },
   {
    "duration": 6,
    "start_time": "2022-03-16T17:01:05.665Z"
   },
   {
    "duration": 219,
    "start_time": "2022-03-16T17:01:06.242Z"
   },
   {
    "duration": 448,
    "start_time": "2022-03-16T17:01:36.781Z"
   },
   {
    "duration": 482,
    "start_time": "2022-03-16T17:02:17.796Z"
   },
   {
    "duration": 9,
    "start_time": "2022-03-16T17:03:30.532Z"
   },
   {
    "duration": 434,
    "start_time": "2022-03-16T17:03:31.917Z"
   },
   {
    "duration": 4,
    "start_time": "2022-03-16T17:08:57.595Z"
   },
   {
    "duration": 67,
    "start_time": "2022-03-16T17:10:26.173Z"
   },
   {
    "duration": 76,
    "start_time": "2022-03-16T17:10:43.064Z"
   },
   {
    "duration": 78,
    "start_time": "2022-03-16T17:11:28.382Z"
   },
   {
    "duration": 11,
    "start_time": "2022-03-16T17:12:19.906Z"
   },
   {
    "duration": 4,
    "start_time": "2022-03-16T17:13:10.843Z"
   },
   {
    "duration": 670,
    "start_time": "2022-03-16T17:13:11.331Z"
   },
   {
    "duration": 4,
    "start_time": "2022-03-16T17:13:43.265Z"
   },
   {
    "duration": 80,
    "start_time": "2022-03-16T17:13:44.121Z"
   },
   {
    "duration": 10,
    "start_time": "2022-03-16T17:14:40.699Z"
   },
   {
    "duration": 11,
    "start_time": "2022-03-16T17:15:46.043Z"
   },
   {
    "duration": 11,
    "start_time": "2022-03-16T17:15:51.159Z"
   },
   {
    "duration": 67,
    "start_time": "2022-03-16T17:16:07.333Z"
   },
   {
    "duration": 3,
    "start_time": "2022-03-16T17:16:50.456Z"
   },
   {
    "duration": 706,
    "start_time": "2022-03-16T17:16:50.461Z"
   },
   {
    "duration": 473,
    "start_time": "2022-03-16T17:16:51.169Z"
   },
   {
    "duration": 781,
    "start_time": "2022-03-16T17:16:51.644Z"
   },
   {
    "duration": 744,
    "start_time": "2022-03-16T17:16:52.427Z"
   },
   {
    "duration": 1005,
    "start_time": "2022-03-16T17:16:53.173Z"
   },
   {
    "duration": 369,
    "start_time": "2022-03-16T17:16:54.180Z"
   },
   {
    "duration": 153,
    "start_time": "2022-03-16T17:16:54.552Z"
   },
   {
    "duration": 319,
    "start_time": "2022-03-16T17:16:54.708Z"
   },
   {
    "duration": 296,
    "start_time": "2022-03-16T17:16:55.029Z"
   },
   {
    "duration": 568,
    "start_time": "2022-03-16T17:16:55.327Z"
   },
   {
    "duration": 204,
    "start_time": "2022-03-16T17:16:55.897Z"
   },
   {
    "duration": 19,
    "start_time": "2022-03-16T17:16:56.104Z"
   },
   {
    "duration": 199,
    "start_time": "2022-03-16T17:16:56.125Z"
   },
   {
    "duration": 334,
    "start_time": "2022-03-16T17:16:56.326Z"
   },
   {
    "duration": 638,
    "start_time": "2022-03-16T17:16:56.662Z"
   },
   {
    "duration": 11,
    "start_time": "2022-03-16T17:16:57.302Z"
   },
   {
    "duration": 123,
    "start_time": "2022-03-16T17:16:57.315Z"
   },
   {
    "duration": 146,
    "start_time": "2022-03-16T17:16:57.440Z"
   },
   {
    "duration": 274,
    "start_time": "2022-03-16T17:16:57.589Z"
   },
   {
    "duration": 301,
    "start_time": "2022-03-16T17:16:57.865Z"
   },
   {
    "duration": 596,
    "start_time": "2022-03-16T17:16:58.168Z"
   },
   {
    "duration": 179,
    "start_time": "2022-03-16T17:16:58.769Z"
   },
   {
    "duration": 141,
    "start_time": "2022-03-16T17:16:58.951Z"
   },
   {
    "duration": 267,
    "start_time": "2022-03-16T17:16:59.095Z"
   },
   {
    "duration": 154,
    "start_time": "2022-03-16T17:16:59.365Z"
   },
   {
    "duration": 131,
    "start_time": "2022-03-16T17:16:59.520Z"
   },
   {
    "duration": 334,
    "start_time": "2022-03-16T17:16:59.653Z"
   },
   {
    "duration": 110,
    "start_time": "2022-03-16T17:16:59.989Z"
   },
   {
    "duration": 28,
    "start_time": "2022-03-16T17:17:00.101Z"
   },
   {
    "duration": 20,
    "start_time": "2022-03-16T17:17:00.131Z"
   },
   {
    "duration": 88,
    "start_time": "2022-03-16T17:17:00.153Z"
   },
   {
    "duration": 437,
    "start_time": "2022-03-16T17:16:59.806Z"
   },
   {
    "duration": 436,
    "start_time": "2022-03-16T17:16:59.808Z"
   },
   {
    "duration": 13,
    "start_time": "2022-03-16T17:17:12.116Z"
   },
   {
    "duration": 13,
    "start_time": "2022-03-16T17:17:32.269Z"
   },
   {
    "duration": 12,
    "start_time": "2022-03-16T17:17:53.712Z"
   },
   {
    "duration": 10,
    "start_time": "2022-03-16T17:18:12.287Z"
   },
   {
    "duration": 11,
    "start_time": "2022-03-16T17:19:32.867Z"
   },
   {
    "duration": 222,
    "start_time": "2022-03-16T17:19:48.745Z"
   },
   {
    "duration": 11,
    "start_time": "2022-03-16T17:19:55.929Z"
   },
   {
    "duration": 2,
    "start_time": "2022-03-16T17:25:29.930Z"
   },
   {
    "duration": 5,
    "start_time": "2022-03-16T17:26:52.594Z"
   },
   {
    "duration": 13,
    "start_time": "2022-03-16T17:26:53.498Z"
   },
   {
    "duration": 10,
    "start_time": "2022-03-16T17:26:55.106Z"
   },
   {
    "duration": 13,
    "start_time": "2022-03-16T17:26:55.961Z"
   },
   {
    "duration": 9,
    "start_time": "2022-03-16T17:28:28.196Z"
   },
   {
    "duration": 6,
    "start_time": "2022-03-16T17:29:07.748Z"
   },
   {
    "duration": 13,
    "start_time": "2022-03-16T17:29:10.386Z"
   },
   {
    "duration": 10,
    "start_time": "2022-03-16T17:29:12.228Z"
   },
   {
    "duration": 365,
    "start_time": "2022-03-16T17:29:13.184Z"
   },
   {
    "duration": 5,
    "start_time": "2022-03-16T17:29:28.764Z"
   },
   {
    "duration": 11,
    "start_time": "2022-03-16T17:29:30.971Z"
   },
   {
    "duration": 10,
    "start_time": "2022-03-16T17:29:32.454Z"
   },
   {
    "duration": 12,
    "start_time": "2022-03-16T17:29:33.965Z"
   },
   {
    "duration": 4,
    "start_time": "2022-03-16T17:29:38.764Z"
   },
   {
    "duration": 10,
    "start_time": "2022-03-16T17:29:39.492Z"
   },
   {
    "duration": 10,
    "start_time": "2022-03-16T17:29:40.052Z"
   },
   {
    "duration": 323,
    "start_time": "2022-03-16T17:29:40.596Z"
   },
   {
    "duration": 6,
    "start_time": "2022-03-16T17:33:37.233Z"
   },
   {
    "duration": 11,
    "start_time": "2022-03-16T17:33:37.787Z"
   },
   {
    "duration": 11,
    "start_time": "2022-03-16T17:33:38.705Z"
   },
   {
    "duration": 10,
    "start_time": "2022-03-16T17:33:40.101Z"
   },
   {
    "duration": 4,
    "start_time": "2022-03-16T17:34:15.483Z"
   },
   {
    "duration": 455,
    "start_time": "2022-03-16T17:34:16.294Z"
   },
   {
    "duration": 455,
    "start_time": "2022-03-16T17:34:20.497Z"
   },
   {
    "duration": 5,
    "start_time": "2022-03-16T17:34:23.862Z"
   },
   {
    "duration": 830,
    "start_time": "2022-03-16T17:34:23.869Z"
   },
   {
    "duration": 701,
    "start_time": "2022-03-16T17:34:24.702Z"
   },
   {
    "duration": 294,
    "start_time": "2022-03-16T17:34:25.405Z"
   },
   {
    "duration": 369,
    "start_time": "2022-03-16T17:34:25.701Z"
   },
   {
    "duration": 497,
    "start_time": "2022-03-16T17:34:26.072Z"
   },
   {
    "duration": 187,
    "start_time": "2022-03-16T17:34:26.571Z"
   },
   {
    "duration": 34,
    "start_time": "2022-03-16T17:34:26.762Z"
   },
   {
    "duration": 527,
    "start_time": "2022-03-16T17:34:26.799Z"
   },
   {
    "duration": 234,
    "start_time": "2022-03-16T17:34:27.328Z"
   },
   {
    "duration": 557,
    "start_time": "2022-03-16T17:34:27.563Z"
   },
   {
    "duration": 140,
    "start_time": "2022-03-16T17:34:28.122Z"
   },
   {
    "duration": 20,
    "start_time": "2022-03-16T17:34:28.264Z"
   },
   {
    "duration": 164,
    "start_time": "2022-03-16T17:34:28.286Z"
   },
   {
    "duration": 169,
    "start_time": "2022-03-16T17:34:28.453Z"
   },
   {
    "duration": 472,
    "start_time": "2022-03-16T17:34:28.623Z"
   },
   {
    "duration": 10,
    "start_time": "2022-03-16T17:34:29.097Z"
   },
   {
    "duration": 250,
    "start_time": "2022-03-16T17:34:29.108Z"
   },
   {
    "duration": 100,
    "start_time": "2022-03-16T17:34:29.360Z"
   },
   {
    "duration": 211,
    "start_time": "2022-03-16T17:34:29.461Z"
   },
   {
    "duration": 353,
    "start_time": "2022-03-16T17:34:29.677Z"
   },
   {
    "duration": 269,
    "start_time": "2022-03-16T17:34:30.064Z"
   },
   {
    "duration": 214,
    "start_time": "2022-03-16T17:34:30.364Z"
   },
   {
    "duration": 247,
    "start_time": "2022-03-16T17:34:30.580Z"
   },
   {
    "duration": 236,
    "start_time": "2022-03-16T17:34:30.829Z"
   },
   {
    "duration": 275,
    "start_time": "2022-03-16T17:34:31.067Z"
   },
   {
    "duration": 791,
    "start_time": "2022-03-16T17:34:31.346Z"
   },
   {
    "duration": 577,
    "start_time": "2022-03-16T17:34:32.139Z"
   },
   {
    "duration": 614,
    "start_time": "2022-03-16T17:34:32.718Z"
   },
   {
    "duration": 414,
    "start_time": "2022-03-16T17:34:33.335Z"
   },
   {
    "duration": 89,
    "start_time": "2022-03-16T17:34:33.751Z"
   },
   {
    "duration": 493,
    "start_time": "2022-03-16T17:34:33.843Z"
   },
   {
    "duration": 447,
    "start_time": "2022-03-16T17:34:34.338Z"
   },
   {
    "duration": 747,
    "start_time": "2022-03-16T17:34:34.788Z"
   },
   {
    "duration": 991,
    "start_time": "2022-03-16T17:34:35.537Z"
   },
   {
    "duration": 756,
    "start_time": "2022-03-16T17:34:36.530Z"
   },
   {
    "duration": 10,
    "start_time": "2022-03-16T17:35:17.571Z"
   },
   {
    "duration": 3,
    "start_time": "2022-03-16T17:36:16.567Z"
   },
   {
    "duration": 4,
    "start_time": "2022-03-16T17:36:29.908Z"
   },
   {
    "duration": 4,
    "start_time": "2022-03-16T17:36:52.159Z"
   },
   {
    "duration": 4,
    "start_time": "2022-03-16T17:36:55.190Z"
   },
   {
    "duration": 5,
    "start_time": "2022-03-16T17:37:10.037Z"
   },
   {
    "duration": 601,
    "start_time": "2022-03-16T17:37:10.045Z"
   },
   {
    "duration": 11,
    "start_time": "2022-03-16T17:38:02.513Z"
   },
   {
    "duration": 8,
    "start_time": "2022-03-16T17:39:19.120Z"
   },
   {
    "duration": 470,
    "start_time": "2022-03-16T17:39:20.328Z"
   },
   {
    "duration": 4,
    "start_time": "2022-03-16T17:40:08.715Z"
   },
   {
    "duration": 7,
    "start_time": "2022-03-16T17:40:11.049Z"
   },
   {
    "duration": 480,
    "start_time": "2022-03-16T17:40:12.049Z"
   },
   {
    "duration": 5,
    "start_time": "2022-03-16T17:40:30.442Z"
   },
   {
    "duration": 307,
    "start_time": "2022-03-16T17:40:30.449Z"
   },
   {
    "duration": 11,
    "start_time": "2022-03-16T17:40:30.759Z"
   },
   {
    "duration": 350,
    "start_time": "2022-03-16T17:40:30.772Z"
   },
   {
    "duration": 870,
    "start_time": "2022-03-16T17:40:31.125Z"
   },
   {
    "duration": 1745,
    "start_time": "2022-03-16T17:40:31.997Z"
   },
   {
    "duration": 495,
    "start_time": "2022-03-16T17:40:33.745Z"
   },
   {
    "duration": 35,
    "start_time": "2022-03-16T17:40:34.244Z"
   },
   {
    "duration": 358,
    "start_time": "2022-03-16T17:40:34.283Z"
   },
   {
    "duration": 316,
    "start_time": "2022-03-16T17:40:34.643Z"
   },
   {
    "duration": 534,
    "start_time": "2022-03-16T17:40:34.961Z"
   },
   {
    "duration": 158,
    "start_time": "2022-03-16T17:40:35.498Z"
   },
   {
    "duration": 11,
    "start_time": "2022-03-16T17:40:35.658Z"
   },
   {
    "duration": 532,
    "start_time": "2022-03-16T17:40:35.671Z"
   },
   {
    "duration": 266,
    "start_time": "2022-03-16T17:40:36.205Z"
   },
   {
    "duration": 622,
    "start_time": "2022-03-16T17:40:36.473Z"
   },
   {
    "duration": 77,
    "start_time": "2022-03-16T17:40:37.097Z"
   },
   {
    "duration": 909,
    "start_time": "2022-03-16T17:40:37.176Z"
   },
   {
    "duration": 277,
    "start_time": "2022-03-16T17:40:38.087Z"
   },
   {
    "duration": 407,
    "start_time": "2022-03-16T17:40:38.366Z"
   },
   {
    "duration": 625,
    "start_time": "2022-03-16T17:40:38.780Z"
   },
   {
    "duration": 627,
    "start_time": "2022-03-16T17:40:39.407Z"
   },
   {
    "duration": 682,
    "start_time": "2022-03-16T17:40:40.039Z"
   },
   {
    "duration": 903,
    "start_time": "2022-03-16T17:40:40.724Z"
   },
   {
    "duration": 627,
    "start_time": "2022-03-16T17:40:41.629Z"
   },
   {
    "duration": 346,
    "start_time": "2022-03-16T17:40:42.258Z"
   },
   {
    "duration": 262,
    "start_time": "2022-03-16T17:40:42.607Z"
   },
   {
    "duration": 320,
    "start_time": "2022-03-16T17:40:42.871Z"
   },
   {
    "duration": 316,
    "start_time": "2022-03-16T17:40:43.193Z"
   },
   {
    "duration": 560,
    "start_time": "2022-03-16T17:40:43.511Z"
   },
   {
    "duration": 614,
    "start_time": "2022-03-16T17:40:44.073Z"
   },
   {
    "duration": 806,
    "start_time": "2022-03-16T17:40:44.689Z"
   },
   {
    "duration": 811,
    "start_time": "2022-03-16T17:40:45.497Z"
   },
   {
    "duration": 742,
    "start_time": "2022-03-16T17:40:46.310Z"
   },
   {
    "duration": 906,
    "start_time": "2022-03-16T17:40:47.055Z"
   },
   {
    "duration": 549,
    "start_time": "2022-03-16T17:40:47.966Z"
   },
   {
    "duration": 397,
    "start_time": "2022-03-16T17:40:48.517Z"
   },
   {
    "duration": 328,
    "start_time": "2022-03-16T17:40:48.916Z"
   },
   {
    "duration": 784,
    "start_time": "2022-03-16T17:40:49.247Z"
   },
   {
    "duration": 806,
    "start_time": "2022-03-16T17:40:50.033Z"
   },
   {
    "duration": 1316,
    "start_time": "2022-03-16T17:40:50.842Z"
   },
   {
    "duration": 6,
    "start_time": "2022-03-16T17:41:29.421Z"
   },
   {
    "duration": 1203,
    "start_time": "2022-03-16T17:41:42.411Z"
   },
   {
    "duration": 5,
    "start_time": "2022-03-16T17:42:28.511Z"
   },
   {
    "duration": 1034,
    "start_time": "2022-03-16T17:42:28.519Z"
   },
   {
    "duration": 658,
    "start_time": "2022-03-16T17:42:29.556Z"
   },
   {
    "duration": 896,
    "start_time": "2022-03-16T17:42:30.217Z"
   },
   {
    "duration": 1070,
    "start_time": "2022-03-16T17:42:31.116Z"
   },
   {
    "duration": 1328,
    "start_time": "2022-03-16T17:42:32.188Z"
   },
   {
    "duration": 863,
    "start_time": "2022-03-16T17:42:33.518Z"
   },
   {
    "duration": 726,
    "start_time": "2022-03-16T17:42:34.385Z"
   },
   {
    "duration": 1163,
    "start_time": "2022-03-16T17:42:35.114Z"
   },
   {
    "duration": 801,
    "start_time": "2022-03-16T17:42:36.279Z"
   },
   {
    "duration": 1030,
    "start_time": "2022-03-16T17:42:37.082Z"
   },
   {
    "duration": 463,
    "start_time": "2022-03-16T17:42:38.114Z"
   },
   {
    "duration": 143,
    "start_time": "2022-03-16T17:42:38.579Z"
   },
   {
    "duration": 587,
    "start_time": "2022-03-16T17:42:38.725Z"
   },
   {
    "duration": 533,
    "start_time": "2022-03-16T17:42:39.314Z"
   },
   {
    "duration": 760,
    "start_time": "2022-03-16T17:42:39.849Z"
   },
   {
    "duration": 95,
    "start_time": "2022-03-16T17:42:40.611Z"
   },
   {
    "duration": 457,
    "start_time": "2022-03-16T17:42:40.708Z"
   },
   {
    "duration": 977,
    "start_time": "2022-03-16T17:42:41.167Z"
   },
   {
    "duration": 1134,
    "start_time": "2022-03-16T17:42:42.146Z"
   },
   {
    "duration": 703,
    "start_time": "2022-03-16T17:42:43.363Z"
   },
   {
    "duration": 975,
    "start_time": "2022-03-16T17:42:44.070Z"
   },
   {
    "duration": 1231,
    "start_time": "2022-03-16T17:42:45.063Z"
   },
   {
    "duration": 1799,
    "start_time": "2022-03-16T17:42:46.297Z"
   },
   {
    "duration": 959,
    "start_time": "2022-03-16T17:42:48.098Z"
   },
   {
    "duration": 911,
    "start_time": "2022-03-16T17:42:49.060Z"
   },
   {
    "duration": 816,
    "start_time": "2022-03-16T17:42:49.973Z"
   },
   {
    "duration": 621,
    "start_time": "2022-03-16T17:42:50.792Z"
   },
   {
    "duration": 913,
    "start_time": "2022-03-16T17:42:51.417Z"
   },
   {
    "duration": 850,
    "start_time": "2022-03-16T17:42:52.331Z"
   },
   {
    "duration": 1199,
    "start_time": "2022-03-16T17:42:53.183Z"
   },
   {
    "duration": 600,
    "start_time": "2022-03-16T17:42:54.384Z"
   },
   {
    "duration": 790,
    "start_time": "2022-03-16T17:42:54.985Z"
   },
   {
    "duration": 750,
    "start_time": "2022-03-16T17:42:55.777Z"
   },
   {
    "duration": 749,
    "start_time": "2022-03-16T17:42:56.529Z"
   },
   {
    "duration": 504,
    "start_time": "2022-03-16T17:42:57.280Z"
   },
   {
    "duration": 937,
    "start_time": "2022-03-16T17:42:57.785Z"
   },
   {
    "duration": 1056,
    "start_time": "2022-03-16T17:42:58.724Z"
   },
   {
    "duration": 1291,
    "start_time": "2022-03-16T17:42:59.782Z"
   },
   {
    "duration": 1470,
    "start_time": "2022-03-16T17:43:01.076Z"
   },
   {
    "duration": 5382,
    "start_time": "2022-03-16T17:43:02.548Z"
   },
   {
    "duration": 4,
    "start_time": "2022-03-16T17:43:43.801Z"
   },
   {
    "duration": 521,
    "start_time": "2022-03-16T17:43:43.808Z"
   },
   {
    "duration": 111,
    "start_time": "2022-03-16T17:43:44.332Z"
   },
   {
    "duration": 303,
    "start_time": "2022-03-16T17:43:44.445Z"
   },
   {
    "duration": 327,
    "start_time": "2022-03-16T17:43:44.750Z"
   },
   {
    "duration": 618,
    "start_time": "2022-03-16T17:43:45.079Z"
   },
   {
    "duration": 199,
    "start_time": "2022-03-16T17:43:45.700Z"
   },
   {
    "duration": 102,
    "start_time": "2022-03-16T17:43:45.903Z"
   },
   {
    "duration": 243,
    "start_time": "2022-03-16T17:43:46.008Z"
   },
   {
    "duration": 190,
    "start_time": "2022-03-16T17:43:46.253Z"
   },
   {
    "duration": 659,
    "start_time": "2022-03-16T17:43:46.445Z"
   },
   {
    "duration": 134,
    "start_time": "2022-03-16T17:43:47.106Z"
   },
   {
    "duration": 137,
    "start_time": "2022-03-16T17:43:47.242Z"
   },
   {
    "duration": 371,
    "start_time": "2022-03-16T17:43:47.381Z"
   },
   {
    "duration": 417,
    "start_time": "2022-03-16T17:43:47.754Z"
   },
   {
    "duration": 490,
    "start_time": "2022-03-16T17:43:48.173Z"
   },
   {
    "duration": 10,
    "start_time": "2022-03-16T17:43:48.666Z"
   },
   {
    "duration": 196,
    "start_time": "2022-03-16T17:43:48.678Z"
   },
   {
    "duration": 207,
    "start_time": "2022-03-16T17:43:48.875Z"
   },
   {
    "duration": 225,
    "start_time": "2022-03-16T17:43:49.084Z"
   },
   {
    "duration": 188,
    "start_time": "2022-03-16T17:43:49.365Z"
   },
   {
    "duration": 225,
    "start_time": "2022-03-16T17:43:49.555Z"
   },
   {
    "duration": 556,
    "start_time": "2022-03-16T17:43:49.785Z"
   },
   {
    "duration": 685,
    "start_time": "2022-03-16T17:43:50.344Z"
   },
   {
    "duration": 663,
    "start_time": "2022-03-16T17:43:51.031Z"
   },
   {
    "duration": 555,
    "start_time": "2022-03-16T17:43:51.696Z"
   },
   {
    "duration": 424,
    "start_time": "2022-03-16T17:43:52.253Z"
   },
   {
    "duration": 394,
    "start_time": "2022-03-16T17:43:52.679Z"
   },
   {
    "duration": 573,
    "start_time": "2022-03-16T17:43:53.075Z"
   },
   {
    "duration": 632,
    "start_time": "2022-03-16T17:43:53.650Z"
   },
   {
    "duration": 734,
    "start_time": "2022-03-16T17:43:54.284Z"
   },
   {
    "duration": 791,
    "start_time": "2022-03-16T17:43:55.021Z"
   },
   {
    "duration": 666,
    "start_time": "2022-03-16T17:43:55.815Z"
   },
   {
    "duration": 548,
    "start_time": "2022-03-16T17:43:56.483Z"
   },
   {
    "duration": 464,
    "start_time": "2022-03-16T17:43:57.033Z"
   },
   {
    "duration": 2547,
    "start_time": "2022-03-16T17:43:57.499Z"
   },
   {
    "duration": 761,
    "start_time": "2022-03-16T17:44:00.049Z"
   },
   {
    "duration": 354,
    "start_time": "2022-03-16T17:44:00.812Z"
   },
   {
    "duration": 556,
    "start_time": "2022-03-16T17:44:01.168Z"
   },
   {
    "duration": 270,
    "start_time": "2022-03-16T17:44:01.726Z"
   },
   {
    "duration": 3650,
    "start_time": "2022-03-16T17:44:01.998Z"
   },
   {
    "duration": 4,
    "start_time": "2022-03-16T17:54:45.858Z"
   },
   {
    "duration": 223,
    "start_time": "2022-03-16T17:54:46.883Z"
   },
   {
    "duration": 3,
    "start_time": "2022-03-16T17:55:33.542Z"
   },
   {
    "duration": 428,
    "start_time": "2022-03-16T17:55:34.388Z"
   },
   {
    "duration": 5,
    "start_time": "2022-03-16T17:56:31.901Z"
   },
   {
    "duration": 236,
    "start_time": "2022-03-16T17:56:32.933Z"
   },
   {
    "duration": 367,
    "start_time": "2022-03-16T17:56:45.430Z"
   },
   {
    "duration": 238,
    "start_time": "2022-03-16T17:56:53.711Z"
   },
   {
    "duration": 4,
    "start_time": "2022-03-16T18:07:23.759Z"
   },
   {
    "duration": 5,
    "start_time": "2022-03-16T18:07:39.923Z"
   },
   {
    "duration": 5,
    "start_time": "2022-03-16T18:07:40.795Z"
   },
   {
    "duration": 6,
    "start_time": "2022-03-16T18:08:23.214Z"
   },
   {
    "duration": 3,
    "start_time": "2022-03-16T18:08:26.783Z"
   },
   {
    "duration": 5,
    "start_time": "2022-03-16T18:08:30.263Z"
   },
   {
    "duration": 266,
    "start_time": "2022-03-16T18:08:32.230Z"
   },
   {
    "duration": 436,
    "start_time": "2022-03-16T18:09:11.877Z"
   },
   {
    "duration": 4,
    "start_time": "2022-03-16T18:09:49.408Z"
   },
   {
    "duration": 653,
    "start_time": "2022-03-16T18:09:52.151Z"
   },
   {
    "duration": 3,
    "start_time": "2022-03-16T18:10:28.344Z"
   },
   {
    "duration": 5,
    "start_time": "2022-03-16T18:10:29.406Z"
   },
   {
    "duration": 2732,
    "start_time": "2022-03-16T18:10:30.240Z"
   },
   {
    "duration": 234,
    "start_time": "2022-03-16T18:14:10.540Z"
   },
   {
    "duration": 2201,
    "start_time": "2022-03-16T18:14:32.636Z"
   },
   {
    "duration": 2944,
    "start_time": "2022-03-16T18:14:46.003Z"
   },
   {
    "duration": 2655,
    "start_time": "2022-03-16T18:15:34.660Z"
   },
   {
    "duration": 5,
    "start_time": "2022-03-16T18:17:13.958Z"
   },
   {
    "duration": 6,
    "start_time": "2022-03-16T18:17:19.042Z"
   },
   {
    "duration": 420,
    "start_time": "2022-03-16T18:17:28.650Z"
   },
   {
    "duration": 455,
    "start_time": "2022-03-16T18:17:42.056Z"
   },
   {
    "duration": 6,
    "start_time": "2022-03-16T18:18:25.841Z"
   },
   {
    "duration": 205,
    "start_time": "2022-03-16T18:18:25.849Z"
   },
   {
    "duration": 21,
    "start_time": "2022-03-16T18:18:26.057Z"
   },
   {
    "duration": 49,
    "start_time": "2022-03-16T18:18:26.081Z"
   },
   {
    "duration": 80,
    "start_time": "2022-03-16T18:18:26.132Z"
   },
   {
    "duration": 449,
    "start_time": "2022-03-16T18:18:26.214Z"
   },
   {
    "duration": 204,
    "start_time": "2022-03-16T18:18:26.665Z"
   },
   {
    "duration": 18,
    "start_time": "2022-03-16T18:18:26.873Z"
   },
   {
    "duration": 49,
    "start_time": "2022-03-16T18:18:26.894Z"
   },
   {
    "duration": 66,
    "start_time": "2022-03-16T18:18:26.963Z"
   },
   {
    "duration": 461,
    "start_time": "2022-03-16T18:18:27.031Z"
   },
   {
    "duration": 158,
    "start_time": "2022-03-16T18:18:27.495Z"
   },
   {
    "duration": 16,
    "start_time": "2022-03-16T18:18:27.655Z"
   },
   {
    "duration": 40,
    "start_time": "2022-03-16T18:18:27.673Z"
   },
   {
    "duration": 60,
    "start_time": "2022-03-16T18:18:27.715Z"
   },
   {
    "duration": 345,
    "start_time": "2022-03-16T18:18:27.777Z"
   },
   {
    "duration": 11,
    "start_time": "2022-03-16T18:18:28.124Z"
   },
   {
    "duration": 7,
    "start_time": "2022-03-16T18:18:28.137Z"
   },
   {
    "duration": 17,
    "start_time": "2022-03-16T18:18:28.146Z"
   },
   {
    "duration": 28,
    "start_time": "2022-03-16T18:18:28.165Z"
   },
   {
    "duration": 172,
    "start_time": "2022-03-16T18:18:28.195Z"
   },
   {
    "duration": 216,
    "start_time": "2022-03-16T18:18:28.369Z"
   },
   {
    "duration": 74,
    "start_time": "2022-03-16T18:18:28.590Z"
   },
   {
    "duration": 109,
    "start_time": "2022-03-16T18:18:28.667Z"
   },
   {
    "duration": 8,
    "start_time": "2022-03-16T18:18:28.778Z"
   },
   {
    "duration": 11,
    "start_time": "2022-03-16T18:18:28.788Z"
   },
   {
    "duration": 9,
    "start_time": "2022-03-16T18:18:28.801Z"
   },
   {
    "duration": 6,
    "start_time": "2022-03-16T18:18:28.812Z"
   },
   {
    "duration": 5,
    "start_time": "2022-03-16T18:18:28.820Z"
   },
   {
    "duration": 9,
    "start_time": "2022-03-16T18:18:28.827Z"
   },
   {
    "duration": 9,
    "start_time": "2022-03-16T18:18:28.838Z"
   },
   {
    "duration": 17,
    "start_time": "2022-03-16T18:18:28.849Z"
   },
   {
    "duration": 446,
    "start_time": "2022-03-16T18:18:28.868Z"
   },
   {
    "duration": 504,
    "start_time": "2022-03-16T18:18:28.812Z"
   },
   {
    "duration": 504,
    "start_time": "2022-03-16T18:18:28.813Z"
   },
   {
    "duration": 503,
    "start_time": "2022-03-16T18:18:28.815Z"
   },
   {
    "duration": 5,
    "start_time": "2022-03-16T18:18:36.876Z"
   },
   {
    "duration": 141,
    "start_time": "2022-03-16T18:18:36.882Z"
   },
   {
    "duration": 11,
    "start_time": "2022-03-16T18:18:37.025Z"
   },
   {
    "duration": 63,
    "start_time": "2022-03-16T18:18:37.038Z"
   },
   {
    "duration": 42,
    "start_time": "2022-03-16T18:18:37.103Z"
   },
   {
    "duration": 343,
    "start_time": "2022-03-16T18:18:37.146Z"
   },
   {
    "duration": 204,
    "start_time": "2022-03-16T18:18:37.492Z"
   },
   {
    "duration": 17,
    "start_time": "2022-03-16T18:18:37.699Z"
   },
   {
    "duration": 70,
    "start_time": "2022-03-16T18:18:37.719Z"
   },
   {
    "duration": 72,
    "start_time": "2022-03-16T18:18:37.792Z"
   },
   {
    "duration": 358,
    "start_time": "2022-03-16T18:18:37.866Z"
   },
   {
    "duration": 143,
    "start_time": "2022-03-16T18:18:38.226Z"
   },
   {
    "duration": 12,
    "start_time": "2022-03-16T18:18:38.370Z"
   },
   {
    "duration": 39,
    "start_time": "2022-03-16T18:18:38.384Z"
   },
   {
    "duration": 70,
    "start_time": "2022-03-16T18:18:38.425Z"
   },
   {
    "duration": 434,
    "start_time": "2022-03-16T18:18:38.497Z"
   },
   {
    "duration": 10,
    "start_time": "2022-03-16T18:18:38.933Z"
   },
   {
    "duration": 18,
    "start_time": "2022-03-16T18:18:38.945Z"
   },
   {
    "duration": 14,
    "start_time": "2022-03-16T18:18:38.965Z"
   },
   {
    "duration": 92,
    "start_time": "2022-03-16T18:18:38.981Z"
   },
   {
    "duration": 104,
    "start_time": "2022-03-16T18:18:39.075Z"
   },
   {
    "duration": 184,
    "start_time": "2022-03-16T18:18:39.181Z"
   },
   {
    "duration": 96,
    "start_time": "2022-03-16T18:18:39.367Z"
   },
   {
    "duration": 93,
    "start_time": "2022-03-16T18:18:39.470Z"
   },
   {
    "duration": 6,
    "start_time": "2022-03-16T18:18:39.565Z"
   },
   {
    "duration": 6,
    "start_time": "2022-03-16T18:18:39.573Z"
   },
   {
    "duration": 6,
    "start_time": "2022-03-16T18:18:39.582Z"
   },
   {
    "duration": 4,
    "start_time": "2022-03-16T18:18:39.590Z"
   },
   {
    "duration": 11,
    "start_time": "2022-03-16T18:18:39.595Z"
   },
   {
    "duration": 6,
    "start_time": "2022-03-16T18:18:39.608Z"
   },
   {
    "duration": 7,
    "start_time": "2022-03-16T18:18:39.616Z"
   },
   {
    "duration": 42,
    "start_time": "2022-03-16T18:18:39.624Z"
   },
   {
    "duration": 420,
    "start_time": "2022-03-16T18:18:39.670Z"
   },
   {
    "duration": 510,
    "start_time": "2022-03-16T18:18:39.582Z"
   },
   {
    "duration": 510,
    "start_time": "2022-03-16T18:18:39.584Z"
   },
   {
    "duration": 7,
    "start_time": "2022-03-16T18:19:35.460Z"
   },
   {
    "duration": 2741,
    "start_time": "2022-03-16T18:19:36.427Z"
   },
   {
    "duration": 2735,
    "start_time": "2022-03-16T18:19:40.413Z"
   },
   {
    "duration": 3611,
    "start_time": "2022-03-16T18:19:44.876Z"
   },
   {
    "duration": 7,
    "start_time": "2022-03-16T18:21:02.707Z"
   },
   {
    "duration": 2760,
    "start_time": "2022-03-16T18:21:07.715Z"
   },
   {
    "duration": 4217,
    "start_time": "2022-03-16T18:21:12.779Z"
   },
   {
    "duration": 4310,
    "start_time": "2022-03-16T18:21:19.099Z"
   },
   {
    "duration": 4,
    "start_time": "2022-03-16T18:21:44.583Z"
   },
   {
    "duration": 135,
    "start_time": "2022-03-16T18:21:44.590Z"
   },
   {
    "duration": 9,
    "start_time": "2022-03-16T18:21:44.728Z"
   },
   {
    "duration": 58,
    "start_time": "2022-03-16T18:21:44.739Z"
   },
   {
    "duration": 44,
    "start_time": "2022-03-16T18:21:44.799Z"
   },
   {
    "duration": 547,
    "start_time": "2022-03-16T18:21:44.845Z"
   },
   {
    "duration": 156,
    "start_time": "2022-03-16T18:21:45.395Z"
   },
   {
    "duration": 20,
    "start_time": "2022-03-16T18:21:45.553Z"
   },
   {
    "duration": 55,
    "start_time": "2022-03-16T18:21:45.576Z"
   },
   {
    "duration": 54,
    "start_time": "2022-03-16T18:21:45.634Z"
   },
   {
    "duration": 313,
    "start_time": "2022-03-16T18:21:45.690Z"
   },
   {
    "duration": 134,
    "start_time": "2022-03-16T18:21:46.004Z"
   },
   {
    "duration": 11,
    "start_time": "2022-03-16T18:21:46.139Z"
   },
   {
    "duration": 40,
    "start_time": "2022-03-16T18:21:46.163Z"
   },
   {
    "duration": 43,
    "start_time": "2022-03-16T18:21:46.205Z"
   },
   {
    "duration": 421,
    "start_time": "2022-03-16T18:21:46.263Z"
   },
   {
    "duration": 11,
    "start_time": "2022-03-16T18:21:46.685Z"
   },
   {
    "duration": 14,
    "start_time": "2022-03-16T18:21:46.698Z"
   },
   {
    "duration": 17,
    "start_time": "2022-03-16T18:21:46.714Z"
   },
   {
    "duration": 139,
    "start_time": "2022-03-16T18:21:46.733Z"
   },
   {
    "duration": 111,
    "start_time": "2022-03-16T18:21:46.874Z"
   },
   {
    "duration": 207,
    "start_time": "2022-03-16T18:21:46.989Z"
   },
   {
    "duration": 174,
    "start_time": "2022-03-16T18:21:47.199Z"
   },
   {
    "duration": 14,
    "start_time": "2022-03-16T18:21:47.375Z"
   },
   {
    "duration": 24,
    "start_time": "2022-03-16T18:21:47.391Z"
   },
   {
    "duration": 18,
    "start_time": "2022-03-16T18:21:47.416Z"
   },
   {
    "duration": 19,
    "start_time": "2022-03-16T18:21:47.437Z"
   },
   {
    "duration": 24,
    "start_time": "2022-03-16T18:21:47.458Z"
   },
   {
    "duration": 27,
    "start_time": "2022-03-16T18:21:47.484Z"
   },
   {
    "duration": 14,
    "start_time": "2022-03-16T18:21:47.513Z"
   },
   {
    "duration": 25,
    "start_time": "2022-03-16T18:21:47.529Z"
   },
   {
    "duration": 15,
    "start_time": "2022-03-16T18:21:47.556Z"
   },
   {
    "duration": 2717,
    "start_time": "2022-03-16T18:21:47.572Z"
   },
   {
    "duration": 2743,
    "start_time": "2022-03-16T18:21:50.291Z"
   },
   {
    "duration": 2683,
    "start_time": "2022-03-16T18:21:53.036Z"
   },
   {
    "duration": 3,
    "start_time": "2022-03-16T18:24:06.744Z"
   },
   {
    "duration": 187,
    "start_time": "2022-03-16T18:24:06.750Z"
   },
   {
    "duration": 11,
    "start_time": "2022-03-16T18:24:06.939Z"
   },
   {
    "duration": 47,
    "start_time": "2022-03-16T18:24:06.951Z"
   },
   {
    "duration": 64,
    "start_time": "2022-03-16T18:24:07.000Z"
   },
   {
    "duration": 338,
    "start_time": "2022-03-16T18:24:07.066Z"
   },
   {
    "duration": 127,
    "start_time": "2022-03-16T18:24:07.406Z"
   },
   {
    "duration": 27,
    "start_time": "2022-03-16T18:24:07.537Z"
   },
   {
    "duration": 47,
    "start_time": "2022-03-16T18:24:07.566Z"
   },
   {
    "duration": 77,
    "start_time": "2022-03-16T18:24:07.615Z"
   },
   {
    "duration": 429,
    "start_time": "2022-03-16T18:24:07.694Z"
   },
   {
    "duration": 138,
    "start_time": "2022-03-16T18:24:08.126Z"
   },
   {
    "duration": 12,
    "start_time": "2022-03-16T18:24:08.267Z"
   },
   {
    "duration": 51,
    "start_time": "2022-03-16T18:24:08.281Z"
   },
   {
    "duration": 87,
    "start_time": "2022-03-16T18:24:08.335Z"
   },
   {
    "duration": 471,
    "start_time": "2022-03-16T18:24:08.424Z"
   },
   {
    "duration": 14,
    "start_time": "2022-03-16T18:24:08.898Z"
   },
   {
    "duration": 6,
    "start_time": "2022-03-16T18:24:08.914Z"
   },
   {
    "duration": 11,
    "start_time": "2022-03-16T18:24:08.922Z"
   },
   {
    "duration": 56,
    "start_time": "2022-03-16T18:24:08.935Z"
   },
   {
    "duration": 183,
    "start_time": "2022-03-16T18:24:08.993Z"
   },
   {
    "duration": 189,
    "start_time": "2022-03-16T18:24:09.178Z"
   },
   {
    "duration": 4,
    "start_time": "2022-03-16T18:24:09.372Z"
   },
   {
    "duration": 89,
    "start_time": "2022-03-16T18:24:09.379Z"
   },
   {
    "duration": 96,
    "start_time": "2022-03-16T18:24:09.471Z"
   },
   {
    "duration": 6,
    "start_time": "2022-03-16T18:24:09.570Z"
   },
   {
    "duration": 10,
    "start_time": "2022-03-16T18:24:09.577Z"
   },
   {
    "duration": 6,
    "start_time": "2022-03-16T18:24:09.589Z"
   },
   {
    "duration": 9,
    "start_time": "2022-03-16T18:24:09.597Z"
   },
   {
    "duration": 8,
    "start_time": "2022-03-16T18:24:09.608Z"
   },
   {
    "duration": 6,
    "start_time": "2022-03-16T18:24:09.617Z"
   },
   {
    "duration": 7,
    "start_time": "2022-03-16T18:24:09.625Z"
   },
   {
    "duration": 2973,
    "start_time": "2022-03-16T18:24:09.633Z"
   },
   {
    "duration": 2700,
    "start_time": "2022-03-16T18:24:12.608Z"
   },
   {
    "duration": 2784,
    "start_time": "2022-03-16T18:24:15.310Z"
   },
   {
    "duration": 3,
    "start_time": "2022-03-16T18:26:01.066Z"
   },
   {
    "duration": 5,
    "start_time": "2022-03-16T18:27:38.807Z"
   },
   {
    "duration": 5,
    "start_time": "2022-03-16T18:27:43.346Z"
   },
   {
    "duration": 420,
    "start_time": "2022-03-16T18:27:44.570Z"
   },
   {
    "duration": 7,
    "start_time": "2022-03-16T18:28:21.074Z"
   },
   {
    "duration": 5147,
    "start_time": "2022-03-16T18:28:22.282Z"
   },
   {
    "duration": 5192,
    "start_time": "2022-03-16T18:28:30.635Z"
   },
   {
    "duration": 3089,
    "start_time": "2022-03-16T18:28:37.474Z"
   },
   {
    "duration": 4,
    "start_time": "2022-03-16T18:29:04.452Z"
   },
   {
    "duration": 11,
    "start_time": "2022-03-16T18:29:30.259Z"
   },
   {
    "duration": 3,
    "start_time": "2022-03-16T18:30:06.276Z"
   },
   {
    "duration": 10,
    "start_time": "2022-03-16T18:30:06.827Z"
   },
   {
    "duration": 22,
    "start_time": "2022-03-16T18:31:12.706Z"
   },
   {
    "duration": 13,
    "start_time": "2022-03-16T18:32:08.663Z"
   },
   {
    "duration": 12,
    "start_time": "2022-03-16T18:32:20.090Z"
   },
   {
    "duration": 9,
    "start_time": "2022-03-16T18:32:36.263Z"
   },
   {
    "duration": 11,
    "start_time": "2022-03-16T18:32:47.011Z"
   },
   {
    "duration": 9,
    "start_time": "2022-03-16T18:32:50.836Z"
   },
   {
    "duration": 10,
    "start_time": "2022-03-16T18:33:09.673Z"
   },
   {
    "duration": 5,
    "start_time": "2022-03-16T18:33:16.792Z"
   },
   {
    "duration": 3067,
    "start_time": "2022-03-16T18:33:18.177Z"
   },
   {
    "duration": 4413,
    "start_time": "2022-03-16T18:34:06.026Z"
   },
   {
    "duration": 12,
    "start_time": "2022-03-16T18:35:21.602Z"
   },
   {
    "duration": 10,
    "start_time": "2022-03-16T18:35:44.891Z"
   },
   {
    "duration": 12,
    "start_time": "2022-03-16T18:36:08.156Z"
   },
   {
    "duration": 3122,
    "start_time": "2022-03-16T18:36:38.614Z"
   },
   {
    "duration": 3384,
    "start_time": "2022-03-16T18:37:11.823Z"
   },
   {
    "duration": 4,
    "start_time": "2022-03-16T18:37:52.303Z"
   },
   {
    "duration": 161,
    "start_time": "2022-03-16T18:37:52.310Z"
   },
   {
    "duration": 16,
    "start_time": "2022-03-16T18:37:52.473Z"
   },
   {
    "duration": 50,
    "start_time": "2022-03-16T18:37:52.492Z"
   },
   {
    "duration": 71,
    "start_time": "2022-03-16T18:37:52.564Z"
   },
   {
    "duration": 391,
    "start_time": "2022-03-16T18:37:52.638Z"
   },
   {
    "duration": 191,
    "start_time": "2022-03-16T18:37:53.031Z"
   },
   {
    "duration": 15,
    "start_time": "2022-03-16T18:37:53.226Z"
   },
   {
    "duration": 64,
    "start_time": "2022-03-16T18:37:53.244Z"
   },
   {
    "duration": 79,
    "start_time": "2022-03-16T18:37:53.310Z"
   },
   {
    "duration": 321,
    "start_time": "2022-03-16T18:37:53.391Z"
   },
   {
    "duration": 174,
    "start_time": "2022-03-16T18:37:53.714Z"
   },
   {
    "duration": 12,
    "start_time": "2022-03-16T18:37:53.891Z"
   },
   {
    "duration": 39,
    "start_time": "2022-03-16T18:37:53.906Z"
   },
   {
    "duration": 66,
    "start_time": "2022-03-16T18:37:53.947Z"
   },
   {
    "duration": 366,
    "start_time": "2022-03-16T18:37:54.015Z"
   },
   {
    "duration": 13,
    "start_time": "2022-03-16T18:37:54.383Z"
   },
   {
    "duration": 34,
    "start_time": "2022-03-16T18:37:54.398Z"
   },
   {
    "duration": 33,
    "start_time": "2022-03-16T18:37:54.434Z"
   },
   {
    "duration": 30,
    "start_time": "2022-03-16T18:37:54.469Z"
   },
   {
    "duration": 186,
    "start_time": "2022-03-16T18:37:54.501Z"
   },
   {
    "duration": 196,
    "start_time": "2022-03-16T18:37:54.690Z"
   },
   {
    "duration": 5,
    "start_time": "2022-03-16T18:37:54.966Z"
   },
   {
    "duration": 102,
    "start_time": "2022-03-16T18:37:54.973Z"
   },
   {
    "duration": 6,
    "start_time": "2022-03-16T18:37:55.077Z"
   },
   {
    "duration": 9,
    "start_time": "2022-03-16T18:37:55.086Z"
   },
   {
    "duration": 6,
    "start_time": "2022-03-16T18:37:55.098Z"
   },
   {
    "duration": 4,
    "start_time": "2022-03-16T18:37:55.107Z"
   },
   {
    "duration": 6,
    "start_time": "2022-03-16T18:37:55.113Z"
   },
   {
    "duration": 10,
    "start_time": "2022-03-16T18:37:55.121Z"
   },
   {
    "duration": 4,
    "start_time": "2022-03-16T18:37:55.132Z"
   },
   {
    "duration": 26,
    "start_time": "2022-03-16T18:37:55.138Z"
   },
   {
    "duration": 8,
    "start_time": "2022-03-16T18:37:55.165Z"
   },
   {
    "duration": 9,
    "start_time": "2022-03-16T18:37:55.175Z"
   },
   {
    "duration": 5,
    "start_time": "2022-03-16T18:37:55.185Z"
   },
   {
    "duration": 3417,
    "start_time": "2022-03-16T18:37:55.191Z"
   },
   {
    "duration": 3196,
    "start_time": "2022-03-16T18:37:58.610Z"
   },
   {
    "duration": 3662,
    "start_time": "2022-03-16T18:38:01.808Z"
   },
   {
    "duration": 1604,
    "start_time": "2022-03-18T05:48:22.003Z"
   },
   {
    "duration": 143,
    "start_time": "2022-03-18T05:48:23.609Z"
   },
   {
    "duration": 16,
    "start_time": "2022-03-18T05:48:23.753Z"
   },
   {
    "duration": 36,
    "start_time": "2022-03-18T05:48:23.770Z"
   },
   {
    "duration": 72,
    "start_time": "2022-03-18T05:48:23.809Z"
   },
   {
    "duration": 415,
    "start_time": "2022-03-18T05:48:23.883Z"
   },
   {
    "duration": 119,
    "start_time": "2022-03-18T05:48:24.300Z"
   },
   {
    "duration": 18,
    "start_time": "2022-03-18T05:48:24.421Z"
   },
   {
    "duration": 35,
    "start_time": "2022-03-18T05:48:24.440Z"
   },
   {
    "duration": 62,
    "start_time": "2022-03-18T05:48:24.477Z"
   },
   {
    "duration": 303,
    "start_time": "2022-03-18T05:48:24.541Z"
   },
   {
    "duration": 122,
    "start_time": "2022-03-18T05:48:24.846Z"
   },
   {
    "duration": 14,
    "start_time": "2022-03-18T05:48:24.970Z"
   },
   {
    "duration": 52,
    "start_time": "2022-03-18T05:48:24.987Z"
   },
   {
    "duration": 52,
    "start_time": "2022-03-18T05:48:25.040Z"
   },
   {
    "duration": 332,
    "start_time": "2022-03-18T05:48:25.093Z"
   },
   {
    "duration": 14,
    "start_time": "2022-03-18T05:48:25.427Z"
   },
   {
    "duration": 5,
    "start_time": "2022-03-18T05:48:25.443Z"
   },
   {
    "duration": 5,
    "start_time": "2022-03-18T05:48:25.450Z"
   },
   {
    "duration": 30,
    "start_time": "2022-03-18T05:48:25.457Z"
   },
   {
    "duration": 121,
    "start_time": "2022-03-18T05:48:25.537Z"
   },
   {
    "duration": 194,
    "start_time": "2022-03-18T05:48:25.661Z"
   },
   {
    "duration": 83,
    "start_time": "2022-03-18T05:48:25.858Z"
   },
   {
    "duration": 95,
    "start_time": "2022-03-18T05:48:25.947Z"
   },
   {
    "duration": 6,
    "start_time": "2022-03-18T05:48:26.044Z"
   },
   {
    "duration": 10,
    "start_time": "2022-03-18T05:48:26.052Z"
   },
   {
    "duration": 7,
    "start_time": "2022-03-18T05:48:26.064Z"
   },
   {
    "duration": 4,
    "start_time": "2022-03-18T05:48:26.072Z"
   },
   {
    "duration": 8,
    "start_time": "2022-03-18T05:48:26.077Z"
   },
   {
    "duration": 8,
    "start_time": "2022-03-18T05:48:26.087Z"
   },
   {
    "duration": 5,
    "start_time": "2022-03-18T05:48:26.097Z"
   },
   {
    "duration": 42,
    "start_time": "2022-03-18T05:48:26.104Z"
   },
   {
    "duration": 7,
    "start_time": "2022-03-18T05:48:26.148Z"
   },
   {
    "duration": 8,
    "start_time": "2022-03-18T05:48:26.157Z"
   },
   {
    "duration": 4,
    "start_time": "2022-03-18T05:48:26.167Z"
   },
   {
    "duration": 1049,
    "start_time": "2022-03-18T05:48:26.173Z"
   },
   {
    "duration": 1028,
    "start_time": "2022-03-18T05:48:27.224Z"
   },
   {
    "duration": 990,
    "start_time": "2022-03-18T05:48:28.254Z"
   },
   {
    "duration": 8,
    "start_time": "2022-03-18T05:50:53.544Z"
   },
   {
    "duration": 4,
    "start_time": "2022-03-18T05:57:36.505Z"
   },
   {
    "duration": 1026,
    "start_time": "2022-03-18T06:04:19.327Z"
   },
   {
    "duration": 111,
    "start_time": "2022-03-18T06:06:35.012Z"
   },
   {
    "duration": 2795,
    "start_time": "2022-03-18T17:36:47.019Z"
   },
   {
    "duration": 190,
    "start_time": "2022-03-18T17:36:49.818Z"
   },
   {
    "duration": 22,
    "start_time": "2022-03-18T17:36:50.010Z"
   },
   {
    "duration": 77,
    "start_time": "2022-03-18T17:36:50.035Z"
   },
   {
    "duration": 89,
    "start_time": "2022-03-18T17:36:50.114Z"
   },
   {
    "duration": 618,
    "start_time": "2022-03-18T17:36:50.205Z"
   },
   {
    "duration": 227,
    "start_time": "2022-03-18T17:36:50.825Z"
   },
   {
    "duration": 39,
    "start_time": "2022-03-18T17:36:51.054Z"
   },
   {
    "duration": 47,
    "start_time": "2022-03-18T17:36:51.097Z"
   },
   {
    "duration": 92,
    "start_time": "2022-03-18T17:36:51.148Z"
   },
   {
    "duration": 459,
    "start_time": "2022-03-18T17:36:51.243Z"
   },
   {
    "duration": 228,
    "start_time": "2022-03-18T17:36:51.705Z"
   },
   {
    "duration": 27,
    "start_time": "2022-03-18T17:36:51.936Z"
   },
   {
    "duration": 56,
    "start_time": "2022-03-18T17:36:51.983Z"
   },
   {
    "duration": 93,
    "start_time": "2022-03-18T17:36:52.041Z"
   },
   {
    "duration": 452,
    "start_time": "2022-03-18T17:36:52.137Z"
   },
   {
    "duration": 14,
    "start_time": "2022-03-18T17:36:52.592Z"
   },
   {
    "duration": 6,
    "start_time": "2022-03-18T17:36:52.609Z"
   },
   {
    "duration": 7,
    "start_time": "2022-03-18T17:36:52.617Z"
   },
   {
    "duration": 75,
    "start_time": "2022-03-18T17:36:52.626Z"
   },
   {
    "duration": 198,
    "start_time": "2022-03-18T17:36:52.704Z"
   },
   {
    "duration": 205,
    "start_time": "2022-03-18T17:36:52.906Z"
   },
   {
    "duration": 69,
    "start_time": "2022-03-18T17:36:53.114Z"
   },
   {
    "duration": 106,
    "start_time": "2022-03-18T17:36:53.186Z"
   },
   {
    "duration": 9,
    "start_time": "2022-03-18T17:36:53.294Z"
   },
   {
    "duration": 16,
    "start_time": "2022-03-18T17:36:53.306Z"
   },
   {
    "duration": 8,
    "start_time": "2022-03-18T17:36:53.324Z"
   },
   {
    "duration": 9,
    "start_time": "2022-03-18T17:36:53.338Z"
   },
   {
    "duration": 34,
    "start_time": "2022-03-18T17:36:53.349Z"
   },
   {
    "duration": 23,
    "start_time": "2022-03-18T17:36:53.385Z"
   },
   {
    "duration": 6,
    "start_time": "2022-03-18T17:36:53.410Z"
   },
   {
    "duration": 16,
    "start_time": "2022-03-18T17:36:53.417Z"
   },
   {
    "duration": 12,
    "start_time": "2022-03-18T17:36:53.435Z"
   },
   {
    "duration": 34,
    "start_time": "2022-03-18T17:36:53.449Z"
   },
   {
    "duration": 188,
    "start_time": "2022-03-18T17:36:53.489Z"
   },
   {
    "duration": 0,
    "start_time": "2022-03-18T17:36:53.679Z"
   },
   {
    "duration": 0,
    "start_time": "2022-03-18T17:36:53.681Z"
   },
   {
    "duration": 0,
    "start_time": "2022-03-18T17:36:53.683Z"
   },
   {
    "duration": 0,
    "start_time": "2022-03-18T17:36:53.691Z"
   },
   {
    "duration": 5,
    "start_time": "2022-03-18T17:47:41.671Z"
   },
   {
    "duration": 173,
    "start_time": "2022-03-18T17:47:41.679Z"
   },
   {
    "duration": 47,
    "start_time": "2022-03-18T17:47:41.855Z"
   },
   {
    "duration": 79,
    "start_time": "2022-03-18T17:47:41.907Z"
   },
   {
    "duration": 75,
    "start_time": "2022-03-18T17:47:41.989Z"
   },
   {
    "duration": 479,
    "start_time": "2022-03-18T17:47:42.066Z"
   },
   {
    "duration": 175,
    "start_time": "2022-03-18T17:47:42.547Z"
   },
   {
    "duration": 22,
    "start_time": "2022-03-18T17:47:42.725Z"
   },
   {
    "duration": 71,
    "start_time": "2022-03-18T17:47:42.753Z"
   },
   {
    "duration": 88,
    "start_time": "2022-03-18T17:47:42.827Z"
   },
   {
    "duration": 567,
    "start_time": "2022-03-18T17:47:42.917Z"
   },
   {
    "duration": 172,
    "start_time": "2022-03-18T17:47:43.489Z"
   },
   {
    "duration": 35,
    "start_time": "2022-03-18T17:47:43.664Z"
   },
   {
    "duration": 46,
    "start_time": "2022-03-18T17:47:43.702Z"
   },
   {
    "duration": 105,
    "start_time": "2022-03-18T17:47:43.752Z"
   },
   {
    "duration": 452,
    "start_time": "2022-03-18T17:47:43.860Z"
   },
   {
    "duration": 12,
    "start_time": "2022-03-18T17:47:44.314Z"
   },
   {
    "duration": 7,
    "start_time": "2022-03-18T17:47:44.329Z"
   },
   {
    "duration": 8,
    "start_time": "2022-03-18T17:47:44.339Z"
   },
   {
    "duration": 74,
    "start_time": "2022-03-18T17:47:44.349Z"
   },
   {
    "duration": 122,
    "start_time": "2022-03-18T17:47:44.487Z"
   },
   {
    "duration": 187,
    "start_time": "2022-03-18T17:47:44.616Z"
   },
   {
    "duration": 77,
    "start_time": "2022-03-18T17:47:44.805Z"
   },
   {
    "duration": 112,
    "start_time": "2022-03-18T17:47:44.889Z"
   },
   {
    "duration": 20,
    "start_time": "2022-03-18T17:47:45.004Z"
   },
   {
    "duration": 8,
    "start_time": "2022-03-18T17:47:45.027Z"
   },
   {
    "duration": 11,
    "start_time": "2022-03-18T17:47:45.037Z"
   },
   {
    "duration": 5,
    "start_time": "2022-03-18T17:47:45.050Z"
   },
   {
    "duration": 32,
    "start_time": "2022-03-18T17:47:45.057Z"
   },
   {
    "duration": 13,
    "start_time": "2022-03-18T17:47:45.091Z"
   },
   {
    "duration": 6,
    "start_time": "2022-03-18T17:47:45.107Z"
   },
   {
    "duration": 18,
    "start_time": "2022-03-18T17:47:45.116Z"
   },
   {
    "duration": 11,
    "start_time": "2022-03-18T17:47:45.138Z"
   },
   {
    "duration": 39,
    "start_time": "2022-03-18T17:47:45.152Z"
   },
   {
    "duration": 9,
    "start_time": "2022-03-18T17:47:45.193Z"
   },
   {
    "duration": 1972,
    "start_time": "2022-03-18T17:47:45.205Z"
   },
   {
    "duration": 2179,
    "start_time": "2022-03-18T17:47:47.183Z"
   },
   {
    "duration": 2104,
    "start_time": "2022-03-18T17:47:49.365Z"
   },
   {
    "duration": 1871,
    "start_time": "2022-03-18T18:00:13.196Z"
   },
   {
    "duration": 1891,
    "start_time": "2022-03-18T18:00:34.691Z"
   },
   {
    "duration": 1982,
    "start_time": "2022-03-18T18:00:53.334Z"
   },
   {
    "duration": 1991,
    "start_time": "2022-03-18T18:01:02.196Z"
   },
   {
    "duration": 1928,
    "start_time": "2022-03-18T18:01:14.496Z"
   },
   {
    "duration": 2274,
    "start_time": "2022-03-19T17:36:52.951Z"
   },
   {
    "duration": 190,
    "start_time": "2022-03-19T17:36:55.227Z"
   },
   {
    "duration": 22,
    "start_time": "2022-03-19T17:36:55.419Z"
   },
   {
    "duration": 67,
    "start_time": "2022-03-19T17:36:55.444Z"
   },
   {
    "duration": 98,
    "start_time": "2022-03-19T17:36:55.512Z"
   },
   {
    "duration": 530,
    "start_time": "2022-03-19T17:36:55.612Z"
   },
   {
    "duration": 191,
    "start_time": "2022-03-19T17:36:56.144Z"
   },
   {
    "duration": 19,
    "start_time": "2022-03-19T17:36:56.337Z"
   },
   {
    "duration": 69,
    "start_time": "2022-03-19T17:36:56.358Z"
   },
   {
    "duration": 94,
    "start_time": "2022-03-19T17:36:56.430Z"
   },
   {
    "duration": 455,
    "start_time": "2022-03-19T17:36:56.526Z"
   },
   {
    "duration": 175,
    "start_time": "2022-03-19T17:36:56.983Z"
   },
   {
    "duration": 23,
    "start_time": "2022-03-19T17:36:57.160Z"
   },
   {
    "duration": 51,
    "start_time": "2022-03-19T17:36:57.185Z"
   },
   {
    "duration": 103,
    "start_time": "2022-03-19T17:36:57.238Z"
   },
   {
    "duration": 462,
    "start_time": "2022-03-19T17:36:57.343Z"
   },
   {
    "duration": 13,
    "start_time": "2022-03-19T17:36:57.807Z"
   },
   {
    "duration": 8,
    "start_time": "2022-03-19T17:36:57.822Z"
   },
   {
    "duration": 10,
    "start_time": "2022-03-19T17:36:57.832Z"
   },
   {
    "duration": 59,
    "start_time": "2022-03-19T17:36:57.845Z"
   },
   {
    "duration": 123,
    "start_time": "2022-03-19T17:36:57.975Z"
   },
   {
    "duration": 197,
    "start_time": "2022-03-19T17:36:58.101Z"
   },
   {
    "duration": 85,
    "start_time": "2022-03-19T17:36:58.301Z"
   },
   {
    "duration": 96,
    "start_time": "2022-03-19T17:36:58.389Z"
   },
   {
    "duration": 9,
    "start_time": "2022-03-19T17:36:58.489Z"
   },
   {
    "duration": 9,
    "start_time": "2022-03-19T17:36:58.500Z"
   },
   {
    "duration": 7,
    "start_time": "2022-03-19T17:36:58.511Z"
   },
   {
    "duration": 6,
    "start_time": "2022-03-19T17:36:58.523Z"
   },
   {
    "duration": 113,
    "start_time": "2022-03-19T17:36:58.531Z"
   },
   {
    "duration": 0,
    "start_time": "2022-03-19T17:36:58.646Z"
   },
   {
    "duration": 0,
    "start_time": "2022-03-19T17:36:58.648Z"
   },
   {
    "duration": 0,
    "start_time": "2022-03-19T17:36:58.650Z"
   },
   {
    "duration": 0,
    "start_time": "2022-03-19T17:36:58.652Z"
   },
   {
    "duration": 0,
    "start_time": "2022-03-19T17:36:58.653Z"
   },
   {
    "duration": 0,
    "start_time": "2022-03-19T17:36:58.655Z"
   },
   {
    "duration": 0,
    "start_time": "2022-03-19T17:36:58.657Z"
   },
   {
    "duration": 0,
    "start_time": "2022-03-19T17:36:58.659Z"
   },
   {
    "duration": 0,
    "start_time": "2022-03-19T17:36:58.661Z"
   },
   {
    "duration": 0,
    "start_time": "2022-03-19T17:36:58.662Z"
   },
   {
    "duration": 6,
    "start_time": "2022-03-19T17:37:44.795Z"
   },
   {
    "duration": 191,
    "start_time": "2022-03-19T17:37:44.804Z"
   },
   {
    "duration": 20,
    "start_time": "2022-03-19T17:37:44.998Z"
   },
   {
    "duration": 89,
    "start_time": "2022-03-19T17:37:45.021Z"
   },
   {
    "duration": 94,
    "start_time": "2022-03-19T17:37:45.113Z"
   },
   {
    "duration": 504,
    "start_time": "2022-03-19T17:37:45.209Z"
   },
   {
    "duration": 182,
    "start_time": "2022-03-19T17:37:45.715Z"
   },
   {
    "duration": 21,
    "start_time": "2022-03-19T17:37:45.899Z"
   },
   {
    "duration": 77,
    "start_time": "2022-03-19T17:37:45.923Z"
   },
   {
    "duration": 92,
    "start_time": "2022-03-19T17:37:46.003Z"
   },
   {
    "duration": 486,
    "start_time": "2022-03-19T17:37:46.097Z"
   },
   {
    "duration": 173,
    "start_time": "2022-03-19T17:37:46.586Z"
   },
   {
    "duration": 35,
    "start_time": "2022-03-19T17:37:46.761Z"
   },
   {
    "duration": 46,
    "start_time": "2022-03-19T17:37:46.801Z"
   },
   {
    "duration": 110,
    "start_time": "2022-03-19T17:37:46.850Z"
   },
   {
    "duration": 586,
    "start_time": "2022-03-19T17:37:46.962Z"
   },
   {
    "duration": 31,
    "start_time": "2022-03-19T17:37:47.551Z"
   },
   {
    "duration": 18,
    "start_time": "2022-03-19T17:37:47.585Z"
   },
   {
    "duration": 18,
    "start_time": "2022-03-19T17:37:47.606Z"
   },
   {
    "duration": 60,
    "start_time": "2022-03-19T17:37:47.627Z"
   },
   {
    "duration": 205,
    "start_time": "2022-03-19T17:37:47.693Z"
   },
   {
    "duration": 197,
    "start_time": "2022-03-19T17:37:47.901Z"
   },
   {
    "duration": 73,
    "start_time": "2022-03-19T17:37:48.104Z"
   },
   {
    "duration": 119,
    "start_time": "2022-03-19T17:37:48.183Z"
   },
   {
    "duration": 10,
    "start_time": "2022-03-19T17:37:48.304Z"
   },
   {
    "duration": 34,
    "start_time": "2022-03-19T17:37:48.316Z"
   },
   {
    "duration": 17,
    "start_time": "2022-03-19T17:37:48.353Z"
   },
   {
    "duration": 25,
    "start_time": "2022-03-19T17:37:48.372Z"
   },
   {
    "duration": 13,
    "start_time": "2022-03-19T17:37:48.400Z"
   },
   {
    "duration": 14,
    "start_time": "2022-03-19T17:37:48.415Z"
   },
   {
    "duration": 21,
    "start_time": "2022-03-19T17:37:48.432Z"
   },
   {
    "duration": 221,
    "start_time": "2022-03-19T17:37:48.455Z"
   },
   {
    "duration": 0,
    "start_time": "2022-03-19T17:37:48.678Z"
   },
   {
    "duration": 0,
    "start_time": "2022-03-19T17:37:48.679Z"
   },
   {
    "duration": 0,
    "start_time": "2022-03-19T17:37:48.685Z"
   },
   {
    "duration": 0,
    "start_time": "2022-03-19T17:37:48.688Z"
   },
   {
    "duration": 0,
    "start_time": "2022-03-19T17:37:48.690Z"
   },
   {
    "duration": 0,
    "start_time": "2022-03-19T17:37:48.693Z"
   },
   {
    "duration": 5,
    "start_time": "2022-03-19T17:39:12.709Z"
   },
   {
    "duration": 183,
    "start_time": "2022-03-19T17:39:12.719Z"
   },
   {
    "duration": 20,
    "start_time": "2022-03-19T17:39:12.905Z"
   },
   {
    "duration": 83,
    "start_time": "2022-03-19T17:39:12.928Z"
   },
   {
    "duration": 85,
    "start_time": "2022-03-19T17:39:13.013Z"
   },
   {
    "duration": 497,
    "start_time": "2022-03-19T17:39:13.101Z"
   },
   {
    "duration": 167,
    "start_time": "2022-03-19T17:39:13.600Z"
   },
   {
    "duration": 25,
    "start_time": "2022-03-19T17:39:13.770Z"
   },
   {
    "duration": 55,
    "start_time": "2022-03-19T17:39:13.799Z"
   },
   {
    "duration": 86,
    "start_time": "2022-03-19T17:39:13.857Z"
   },
   {
    "duration": 490,
    "start_time": "2022-03-19T17:39:13.946Z"
   },
   {
    "duration": 200,
    "start_time": "2022-03-19T17:39:14.438Z"
   },
   {
    "duration": 33,
    "start_time": "2022-03-19T17:39:14.640Z"
   },
   {
    "duration": 47,
    "start_time": "2022-03-19T17:39:14.682Z"
   },
   {
    "duration": 96,
    "start_time": "2022-03-19T17:39:14.734Z"
   },
   {
    "duration": 464,
    "start_time": "2022-03-19T17:39:14.832Z"
   },
   {
    "duration": 11,
    "start_time": "2022-03-19T17:39:15.298Z"
   },
   {
    "duration": 7,
    "start_time": "2022-03-19T17:39:15.311Z"
   },
   {
    "duration": 5,
    "start_time": "2022-03-19T17:39:15.321Z"
   },
   {
    "duration": 72,
    "start_time": "2022-03-19T17:39:15.328Z"
   },
   {
    "duration": 133,
    "start_time": "2022-03-19T17:39:15.476Z"
   },
   {
    "duration": 197,
    "start_time": "2022-03-19T17:39:15.612Z"
   },
   {
    "duration": 63,
    "start_time": "2022-03-19T17:39:15.813Z"
   },
   {
    "duration": 121,
    "start_time": "2022-03-19T17:39:15.880Z"
   },
   {
    "duration": 8,
    "start_time": "2022-03-19T17:39:16.003Z"
   },
   {
    "duration": 7,
    "start_time": "2022-03-19T17:39:16.014Z"
   },
   {
    "duration": 8,
    "start_time": "2022-03-19T17:39:16.023Z"
   },
   {
    "duration": 5,
    "start_time": "2022-03-19T17:39:16.033Z"
   },
   {
    "duration": 5,
    "start_time": "2022-03-19T17:39:16.079Z"
   },
   {
    "duration": 41,
    "start_time": "2022-03-19T17:39:16.089Z"
   },
   {
    "duration": 14,
    "start_time": "2022-03-19T17:39:16.133Z"
   },
   {
    "duration": 22,
    "start_time": "2022-03-19T17:39:16.150Z"
   },
   {
    "duration": 11,
    "start_time": "2022-03-19T17:39:16.175Z"
   },
   {
    "duration": 15,
    "start_time": "2022-03-19T17:39:16.189Z"
   },
   {
    "duration": 7,
    "start_time": "2022-03-19T17:39:16.206Z"
   },
   {
    "duration": 23,
    "start_time": "2022-03-19T17:39:16.215Z"
   },
   {
    "duration": 0,
    "start_time": "2022-03-19T17:39:16.240Z"
   },
   {
    "duration": 0,
    "start_time": "2022-03-19T17:39:16.276Z"
   },
   {
    "duration": 5,
    "start_time": "2022-03-19T17:41:01.530Z"
   },
   {
    "duration": 210,
    "start_time": "2022-03-19T17:41:01.539Z"
   },
   {
    "duration": 37,
    "start_time": "2022-03-19T17:41:01.752Z"
   },
   {
    "duration": 49,
    "start_time": "2022-03-19T17:41:01.793Z"
   },
   {
    "duration": 103,
    "start_time": "2022-03-19T17:41:01.844Z"
   },
   {
    "duration": 461,
    "start_time": "2022-03-19T17:41:01.949Z"
   },
   {
    "duration": 183,
    "start_time": "2022-03-19T17:41:02.412Z"
   },
   {
    "duration": 24,
    "start_time": "2022-03-19T17:41:02.598Z"
   },
   {
    "duration": 73,
    "start_time": "2022-03-19T17:41:02.626Z"
   },
   {
    "duration": 88,
    "start_time": "2022-03-19T17:41:02.701Z"
   },
   {
    "duration": 462,
    "start_time": "2022-03-19T17:41:02.791Z"
   },
   {
    "duration": 172,
    "start_time": "2022-03-19T17:41:03.256Z"
   },
   {
    "duration": 20,
    "start_time": "2022-03-19T17:41:03.430Z"
   },
   {
    "duration": 71,
    "start_time": "2022-03-19T17:41:03.452Z"
   },
   {
    "duration": 90,
    "start_time": "2022-03-19T17:41:03.525Z"
   },
   {
    "duration": 485,
    "start_time": "2022-03-19T17:41:03.618Z"
   },
   {
    "duration": 12,
    "start_time": "2022-03-19T17:41:04.105Z"
   },
   {
    "duration": 7,
    "start_time": "2022-03-19T17:41:04.119Z"
   },
   {
    "duration": 6,
    "start_time": "2022-03-19T17:41:04.128Z"
   },
   {
    "duration": 67,
    "start_time": "2022-03-19T17:41:04.136Z"
   },
   {
    "duration": 109,
    "start_time": "2022-03-19T17:41:04.285Z"
   },
   {
    "duration": 115,
    "start_time": "2022-03-19T17:41:04.473Z"
   },
   {
    "duration": 93,
    "start_time": "2022-03-19T17:41:04.590Z"
   },
   {
    "duration": 106,
    "start_time": "2022-03-19T17:41:04.691Z"
   },
   {
    "duration": 8,
    "start_time": "2022-03-19T17:41:04.799Z"
   },
   {
    "duration": 9,
    "start_time": "2022-03-19T17:41:04.809Z"
   },
   {
    "duration": 7,
    "start_time": "2022-03-19T17:41:04.821Z"
   },
   {
    "duration": 4,
    "start_time": "2022-03-19T17:41:04.830Z"
   },
   {
    "duration": 6,
    "start_time": "2022-03-19T17:41:04.836Z"
   },
   {
    "duration": 7,
    "start_time": "2022-03-19T17:41:04.879Z"
   },
   {
    "duration": 9,
    "start_time": "2022-03-19T17:41:04.889Z"
   },
   {
    "duration": 20,
    "start_time": "2022-03-19T17:41:04.900Z"
   },
   {
    "duration": 10,
    "start_time": "2022-03-19T17:41:04.922Z"
   },
   {
    "duration": 11,
    "start_time": "2022-03-19T17:41:04.934Z"
   },
   {
    "duration": 10,
    "start_time": "2022-03-19T17:41:04.977Z"
   },
   {
    "duration": 1971,
    "start_time": "2022-03-19T17:41:04.989Z"
   },
   {
    "duration": 1935,
    "start_time": "2022-03-19T17:41:06.962Z"
   },
   {
    "duration": 1953,
    "start_time": "2022-03-19T17:41:08.900Z"
   },
   {
    "duration": 5,
    "start_time": "2022-03-19T17:44:02.316Z"
   },
   {
    "duration": 174,
    "start_time": "2022-03-19T17:44:02.324Z"
   },
   {
    "duration": 20,
    "start_time": "2022-03-19T17:44:02.501Z"
   },
   {
    "duration": 78,
    "start_time": "2022-03-19T17:44:02.524Z"
   },
   {
    "duration": 82,
    "start_time": "2022-03-19T17:44:02.605Z"
   },
   {
    "duration": 470,
    "start_time": "2022-03-19T17:44:02.689Z"
   },
   {
    "duration": 168,
    "start_time": "2022-03-19T17:44:03.161Z"
   },
   {
    "duration": 20,
    "start_time": "2022-03-19T17:44:03.331Z"
   },
   {
    "duration": 72,
    "start_time": "2022-03-19T17:44:03.354Z"
   },
   {
    "duration": 81,
    "start_time": "2022-03-19T17:44:03.430Z"
   },
   {
    "duration": 469,
    "start_time": "2022-03-19T17:44:03.513Z"
   },
   {
    "duration": 164,
    "start_time": "2022-03-19T17:44:03.986Z"
   },
   {
    "duration": 28,
    "start_time": "2022-03-19T17:44:04.152Z"
   },
   {
    "duration": 44,
    "start_time": "2022-03-19T17:44:04.183Z"
   },
   {
    "duration": 105,
    "start_time": "2022-03-19T17:44:04.230Z"
   },
   {
    "duration": 440,
    "start_time": "2022-03-19T17:44:04.337Z"
   },
   {
    "duration": 12,
    "start_time": "2022-03-19T17:44:04.780Z"
   },
   {
    "duration": 5,
    "start_time": "2022-03-19T17:44:04.795Z"
   },
   {
    "duration": 6,
    "start_time": "2022-03-19T17:44:04.803Z"
   },
   {
    "duration": 78,
    "start_time": "2022-03-19T17:44:04.812Z"
   },
   {
    "duration": 195,
    "start_time": "2022-03-19T17:44:04.899Z"
   },
   {
    "duration": 199,
    "start_time": "2022-03-19T17:44:05.097Z"
   },
   {
    "duration": 80,
    "start_time": "2022-03-19T17:44:05.300Z"
   },
   {
    "duration": 99,
    "start_time": "2022-03-19T17:44:05.383Z"
   },
   {
    "duration": 13,
    "start_time": "2022-03-19T17:44:05.488Z"
   },
   {
    "duration": 13,
    "start_time": "2022-03-19T17:44:05.503Z"
   },
   {
    "duration": 12,
    "start_time": "2022-03-19T17:44:05.519Z"
   },
   {
    "duration": 6,
    "start_time": "2022-03-19T17:44:05.536Z"
   },
   {
    "duration": 6,
    "start_time": "2022-03-19T17:44:05.545Z"
   },
   {
    "duration": 29,
    "start_time": "2022-03-19T17:44:05.553Z"
   },
   {
    "duration": 14,
    "start_time": "2022-03-19T17:44:05.589Z"
   },
   {
    "duration": 20,
    "start_time": "2022-03-19T17:44:05.605Z"
   },
   {
    "duration": 11,
    "start_time": "2022-03-19T17:44:05.629Z"
   },
   {
    "duration": 40,
    "start_time": "2022-03-19T17:44:05.642Z"
   },
   {
    "duration": 7,
    "start_time": "2022-03-19T17:44:05.685Z"
   },
   {
    "duration": 1949,
    "start_time": "2022-03-19T17:44:05.694Z"
   },
   {
    "duration": 2006,
    "start_time": "2022-03-19T17:44:07.646Z"
   },
   {
    "duration": 1998,
    "start_time": "2022-03-19T17:44:09.655Z"
   }
  ],
  "kernelspec": {
   "display_name": "Python 3 (ipykernel)",
   "language": "python",
   "name": "python3"
  },
  "language_info": {
   "codemirror_mode": {
    "name": "ipython",
    "version": 3
   },
   "file_extension": ".py",
   "mimetype": "text/x-python",
   "name": "python",
   "nbconvert_exporter": "python",
   "pygments_lexer": "ipython3",
   "version": "3.9.5"
  },
  "toc": {
   "base_numbering": 1,
   "nav_menu": {},
   "number_sections": true,
   "sideBar": true,
   "skip_h1_title": true,
   "title_cell": "Table of Contents",
   "title_sidebar": "Contents",
   "toc_cell": false,
   "toc_position": {},
   "toc_section_display": true,
   "toc_window_display": false
  }
 },
 "nbformat": 4,
 "nbformat_minor": 2
}
