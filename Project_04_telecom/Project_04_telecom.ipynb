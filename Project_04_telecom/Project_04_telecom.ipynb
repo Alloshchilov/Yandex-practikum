{
 "cells": [
  {
   "cell_type": "markdown",
   "metadata": {},
   "source": [
    "**Описание проекта**\n",
    "\n",
    "Вы аналитик компании «Мегалайн» — федерального оператора сотовой связи. Клиентам предлагают два тарифных плана: «Смарт» и «Ультра». Чтобы скорректировать рекламный бюджет, коммерческий департамент хочет понять, какой тариф приносит больше денег.\n",
    "Вам предстоит сделать предварительный анализ тарифов на небольшой выборке клиентов. В вашем распоряжении данные 500 пользователей «Мегалайна»: кто они, откуда, каким тарифом пользуются, сколько звонков и сообщений каждый отправил за 2018 год. Нужно проанализировать поведение клиентов и сделать вывод — какой тариф лучше."
   ]
  },
  {
   "cell_type": "code",
   "execution_count": 2,
   "metadata": {},
   "outputs": [],
   "source": [
    "#импортируем необходимые библиотеки\n",
    "import pandas as pd\n",
    "import seaborn as sns\n",
    "import matplotlib.pyplot as plt\n",
    "from scipy import stats as st\n",
    "import numpy as np"
   ]
  },
  {
   "cell_type": "markdown",
   "metadata": {},
   "source": [
    "<font size=\"3\">Предобработка данных:</font>"
   ]
  },
  {
   "cell_type": "code",
   "execution_count": 2,
   "metadata": {},
   "outputs": [],
   "source": [
    "#импортируем данные о звонках\n",
    "try:\n",
    "    calls = pd.read_csv('/datasets/calls.csv') \n",
    "except:\n",
    "    print('Ошибка. Проверьте правильность пути к данным о звонках')"
   ]
  },
  {
   "cell_type": "code",
   "execution_count": 3,
   "metadata": {},
   "outputs": [
    {
     "data": {
      "text/html": [
       "<div>\n",
       "<style scoped>\n",
       "    .dataframe tbody tr th:only-of-type {\n",
       "        vertical-align: middle;\n",
       "    }\n",
       "\n",
       "    .dataframe tbody tr th {\n",
       "        vertical-align: top;\n",
       "    }\n",
       "\n",
       "    .dataframe thead th {\n",
       "        text-align: right;\n",
       "    }\n",
       "</style>\n",
       "<table border=\"1\" class=\"dataframe\">\n",
       "  <thead>\n",
       "    <tr style=\"text-align: right;\">\n",
       "      <th></th>\n",
       "      <th>id</th>\n",
       "      <th>call_date</th>\n",
       "      <th>duration</th>\n",
       "      <th>user_id</th>\n",
       "    </tr>\n",
       "  </thead>\n",
       "  <tbody>\n",
       "    <tr>\n",
       "      <th>0</th>\n",
       "      <td>1000_0</td>\n",
       "      <td>2018-07-25</td>\n",
       "      <td>0.00</td>\n",
       "      <td>1000</td>\n",
       "    </tr>\n",
       "    <tr>\n",
       "      <th>1</th>\n",
       "      <td>1000_1</td>\n",
       "      <td>2018-08-17</td>\n",
       "      <td>0.00</td>\n",
       "      <td>1000</td>\n",
       "    </tr>\n",
       "    <tr>\n",
       "      <th>2</th>\n",
       "      <td>1000_2</td>\n",
       "      <td>2018-06-11</td>\n",
       "      <td>2.85</td>\n",
       "      <td>1000</td>\n",
       "    </tr>\n",
       "    <tr>\n",
       "      <th>3</th>\n",
       "      <td>1000_3</td>\n",
       "      <td>2018-09-21</td>\n",
       "      <td>13.80</td>\n",
       "      <td>1000</td>\n",
       "    </tr>\n",
       "    <tr>\n",
       "      <th>4</th>\n",
       "      <td>1000_4</td>\n",
       "      <td>2018-12-15</td>\n",
       "      <td>5.18</td>\n",
       "      <td>1000</td>\n",
       "    </tr>\n",
       "  </tbody>\n",
       "</table>\n",
       "</div>"
      ],
      "text/plain": [
       "       id   call_date  duration  user_id\n",
       "0  1000_0  2018-07-25      0.00     1000\n",
       "1  1000_1  2018-08-17      0.00     1000\n",
       "2  1000_2  2018-06-11      2.85     1000\n",
       "3  1000_3  2018-09-21     13.80     1000\n",
       "4  1000_4  2018-12-15      5.18     1000"
      ]
     },
     "execution_count": 3,
     "metadata": {},
     "output_type": "execute_result"
    }
   ],
   "source": [
    "calls.head()"
   ]
  },
  {
   "cell_type": "code",
   "execution_count": 4,
   "metadata": {},
   "outputs": [
    {
     "name": "stdout",
     "output_type": "stream",
     "text": [
      "<class 'pandas.core.frame.DataFrame'>\n",
      "RangeIndex: 202607 entries, 0 to 202606\n",
      "Data columns (total 4 columns):\n",
      " #   Column     Non-Null Count   Dtype  \n",
      "---  ------     --------------   -----  \n",
      " 0   id         202607 non-null  object \n",
      " 1   call_date  202607 non-null  object \n",
      " 2   duration   202607 non-null  float64\n",
      " 3   user_id    202607 non-null  int64  \n",
      "dtypes: float64(1), int64(1), object(2)\n",
      "memory usage: 6.2+ MB\n"
     ]
    }
   ],
   "source": [
    "calls.info()"
   ]
  },
  {
   "cell_type": "code",
   "execution_count": 5,
   "metadata": {},
   "outputs": [
    {
     "data": {
      "text/html": [
       "<div>\n",
       "<style scoped>\n",
       "    .dataframe tbody tr th:only-of-type {\n",
       "        vertical-align: middle;\n",
       "    }\n",
       "\n",
       "    .dataframe tbody tr th {\n",
       "        vertical-align: top;\n",
       "    }\n",
       "\n",
       "    .dataframe thead th {\n",
       "        text-align: right;\n",
       "    }\n",
       "</style>\n",
       "<table border=\"1\" class=\"dataframe\">\n",
       "  <thead>\n",
       "    <tr style=\"text-align: right;\">\n",
       "      <th></th>\n",
       "      <th>duration</th>\n",
       "      <th>user_id</th>\n",
       "    </tr>\n",
       "  </thead>\n",
       "  <tbody>\n",
       "    <tr>\n",
       "      <th>count</th>\n",
       "      <td>202607.000000</td>\n",
       "      <td>202607.000000</td>\n",
       "    </tr>\n",
       "    <tr>\n",
       "      <th>mean</th>\n",
       "      <td>6.755887</td>\n",
       "      <td>1253.940619</td>\n",
       "    </tr>\n",
       "    <tr>\n",
       "      <th>std</th>\n",
       "      <td>5.843365</td>\n",
       "      <td>144.722751</td>\n",
       "    </tr>\n",
       "    <tr>\n",
       "      <th>min</th>\n",
       "      <td>0.000000</td>\n",
       "      <td>1000.000000</td>\n",
       "    </tr>\n",
       "    <tr>\n",
       "      <th>25%</th>\n",
       "      <td>1.300000</td>\n",
       "      <td>1126.000000</td>\n",
       "    </tr>\n",
       "    <tr>\n",
       "      <th>50%</th>\n",
       "      <td>6.000000</td>\n",
       "      <td>1260.000000</td>\n",
       "    </tr>\n",
       "    <tr>\n",
       "      <th>75%</th>\n",
       "      <td>10.700000</td>\n",
       "      <td>1379.000000</td>\n",
       "    </tr>\n",
       "    <tr>\n",
       "      <th>max</th>\n",
       "      <td>38.000000</td>\n",
       "      <td>1499.000000</td>\n",
       "    </tr>\n",
       "  </tbody>\n",
       "</table>\n",
       "</div>"
      ],
      "text/plain": [
       "            duration        user_id\n",
       "count  202607.000000  202607.000000\n",
       "mean        6.755887    1253.940619\n",
       "std         5.843365     144.722751\n",
       "min         0.000000    1000.000000\n",
       "25%         1.300000    1126.000000\n",
       "50%         6.000000    1260.000000\n",
       "75%        10.700000    1379.000000\n",
       "max        38.000000    1499.000000"
      ]
     },
     "execution_count": 5,
     "metadata": {},
     "output_type": "execute_result"
    }
   ],
   "source": [
    "calls.describe()"
   ]
  },
  {
   "cell_type": "code",
   "execution_count": 6,
   "metadata": {},
   "outputs": [
    {
     "data": {
      "image/png": "[encoded data removed]",
      "text/plain": [
       "<Figure size 504x360 with 1 Axes>"
      ]
     },
     "metadata": {
      "needs_background": "light"
     },
     "output_type": "display_data"
    }
   ],
   "source": [
    "calls.plot(y = 'duration', kind = 'hist', bins = 20, grid=True, figsize = (7,5), range = (1, 40), legend=None)\n",
    "plt.title('Гистограмма продолжительности звонков')\n",
    "plt.xlabel('Продолжительность мин.')\n",
    "plt.ylabel('Частота')\n",
    "plt.show()"
   ]
  },
  {
   "cell_type": "markdown",
   "metadata": {},
   "source": [
    "Вывод: Данные о продолжительности звонков выглядят адекватно, аномальных значений нет. Пропусков в данных тоже нет.\n",
    "Нужно привести даты к формату datetime.\n",
    "Округлить время звонков до минут в большую сторону.\n",
    "Добавить столбец с месяцами."
   ]
  },
  {
   "cell_type": "code",
   "execution_count": 7,
   "metadata": {},
   "outputs": [],
   "source": [
    "#приведем формат даты к нужному\n",
    "calls['call_date'] = pd.to_datetime(calls['call_date'], format='%Y-%m-%d')"
   ]
  },
  {
   "cell_type": "code",
   "execution_count": 8,
   "metadata": {},
   "outputs": [],
   "source": [
    "#округлим время звонков до минуты в большую сторону и приведём пит данных к целочисленному\n",
    "calls['duration'] = calls['duration'].apply(np.ceil).astype('int64')"
   ]
  },
  {
   "cell_type": "markdown",
   "metadata": {},
   "source": [
    "<div class=\"alert alert-success\">\n",
    "<b>Комментарий ревьюера v1:</b>\n",
    "    \n",
    "Супер, что использовал функцию np.ceil(). Она, кстати, также работает без apply (короче код/быстрее).\n",
    "\n",
    "```\n",
    "calls['duration'] = np.ceil(calls['duration'])\n",
    "```  "
   ]
  },
  {
   "cell_type": "code",
   "execution_count": 9,
   "metadata": {},
   "outputs": [],
   "source": [
    "#добавим столбец с месяцами\n",
    "calls['month'] = calls['call_date'].dt.month_name()"
   ]
  },
  {
   "cell_type": "code",
   "execution_count": 10,
   "metadata": {},
   "outputs": [
    {
     "data": {
      "text/html": [
       "<div>\n",
       "<style scoped>\n",
       "    .dataframe tbody tr th:only-of-type {\n",
       "        vertical-align: middle;\n",
       "    }\n",
       "\n",
       "    .dataframe tbody tr th {\n",
       "        vertical-align: top;\n",
       "    }\n",
       "\n",
       "    .dataframe thead th {\n",
       "        text-align: right;\n",
       "    }\n",
       "</style>\n",
       "<table border=\"1\" class=\"dataframe\">\n",
       "  <thead>\n",
       "    <tr style=\"text-align: right;\">\n",
       "      <th></th>\n",
       "      <th>id</th>\n",
       "      <th>call_date</th>\n",
       "      <th>duration</th>\n",
       "      <th>user_id</th>\n",
       "      <th>month</th>\n",
       "    </tr>\n",
       "  </thead>\n",
       "  <tbody>\n",
       "    <tr>\n",
       "      <th>0</th>\n",
       "      <td>1000_0</td>\n",
       "      <td>2018-07-25</td>\n",
       "      <td>0</td>\n",
       "      <td>1000</td>\n",
       "      <td>July</td>\n",
       "    </tr>\n",
       "    <tr>\n",
       "      <th>1</th>\n",
       "      <td>1000_1</td>\n",
       "      <td>2018-08-17</td>\n",
       "      <td>0</td>\n",
       "      <td>1000</td>\n",
       "      <td>August</td>\n",
       "    </tr>\n",
       "    <tr>\n",
       "      <th>2</th>\n",
       "      <td>1000_2</td>\n",
       "      <td>2018-06-11</td>\n",
       "      <td>3</td>\n",
       "      <td>1000</td>\n",
       "      <td>June</td>\n",
       "    </tr>\n",
       "    <tr>\n",
       "      <th>3</th>\n",
       "      <td>1000_3</td>\n",
       "      <td>2018-09-21</td>\n",
       "      <td>14</td>\n",
       "      <td>1000</td>\n",
       "      <td>September</td>\n",
       "    </tr>\n",
       "    <tr>\n",
       "      <th>4</th>\n",
       "      <td>1000_4</td>\n",
       "      <td>2018-12-15</td>\n",
       "      <td>6</td>\n",
       "      <td>1000</td>\n",
       "      <td>December</td>\n",
       "    </tr>\n",
       "  </tbody>\n",
       "</table>\n",
       "</div>"
      ],
      "text/plain": [
       "       id  call_date  duration  user_id      month\n",
       "0  1000_0 2018-07-25         0     1000       July\n",
       "1  1000_1 2018-08-17         0     1000     August\n",
       "2  1000_2 2018-06-11         3     1000       June\n",
       "3  1000_3 2018-09-21        14     1000  September\n",
       "4  1000_4 2018-12-15         6     1000   December"
      ]
     },
     "execution_count": 10,
     "metadata": {},
     "output_type": "execute_result"
    }
   ],
   "source": [
    "calls.head()"
   ]
  },
  {
   "cell_type": "code",
   "execution_count": 11,
   "metadata": {},
   "outputs": [],
   "source": [
    "#импортируем данные о интернет трафике\n",
    "try:\n",
    "    internet = pd.read_csv('/datasets/internet.csv')\n",
    "except:\n",
    "    print('Ошибка. Проверьте правильность пути к данным об интернет трафике')"
   ]
  },
  {
   "cell_type": "code",
   "execution_count": 12,
   "metadata": {},
   "outputs": [
    {
     "data": {
      "text/html": [
       "<div>\n",
       "<style scoped>\n",
       "    .dataframe tbody tr th:only-of-type {\n",
       "        vertical-align: middle;\n",
       "    }\n",
       "\n",
       "    .dataframe tbody tr th {\n",
       "        vertical-align: top;\n",
       "    }\n",
       "\n",
       "    .dataframe thead th {\n",
       "        text-align: right;\n",
       "    }\n",
       "</style>\n",
       "<table border=\"1\" class=\"dataframe\">\n",
       "  <thead>\n",
       "    <tr style=\"text-align: right;\">\n",
       "      <th></th>\n",
       "      <th>Unnamed: 0</th>\n",
       "      <th>id</th>\n",
       "      <th>mb_used</th>\n",
       "      <th>session_date</th>\n",
       "      <th>user_id</th>\n",
       "    </tr>\n",
       "  </thead>\n",
       "  <tbody>\n",
       "    <tr>\n",
       "      <th>0</th>\n",
       "      <td>0</td>\n",
       "      <td>1000_0</td>\n",
       "      <td>112.95</td>\n",
       "      <td>2018-11-25</td>\n",
       "      <td>1000</td>\n",
       "    </tr>\n",
       "    <tr>\n",
       "      <th>1</th>\n",
       "      <td>1</td>\n",
       "      <td>1000_1</td>\n",
       "      <td>1052.81</td>\n",
       "      <td>2018-09-07</td>\n",
       "      <td>1000</td>\n",
       "    </tr>\n",
       "    <tr>\n",
       "      <th>2</th>\n",
       "      <td>2</td>\n",
       "      <td>1000_2</td>\n",
       "      <td>1197.26</td>\n",
       "      <td>2018-06-25</td>\n",
       "      <td>1000</td>\n",
       "    </tr>\n",
       "    <tr>\n",
       "      <th>3</th>\n",
       "      <td>3</td>\n",
       "      <td>1000_3</td>\n",
       "      <td>550.27</td>\n",
       "      <td>2018-08-22</td>\n",
       "      <td>1000</td>\n",
       "    </tr>\n",
       "    <tr>\n",
       "      <th>4</th>\n",
       "      <td>4</td>\n",
       "      <td>1000_4</td>\n",
       "      <td>302.56</td>\n",
       "      <td>2018-09-24</td>\n",
       "      <td>1000</td>\n",
       "    </tr>\n",
       "  </tbody>\n",
       "</table>\n",
       "</div>"
      ],
      "text/plain": [
       "   Unnamed: 0      id  mb_used session_date  user_id\n",
       "0           0  1000_0   112.95   2018-11-25     1000\n",
       "1           1  1000_1  1052.81   2018-09-07     1000\n",
       "2           2  1000_2  1197.26   2018-06-25     1000\n",
       "3           3  1000_3   550.27   2018-08-22     1000\n",
       "4           4  1000_4   302.56   2018-09-24     1000"
      ]
     },
     "execution_count": 12,
     "metadata": {},
     "output_type": "execute_result"
    }
   ],
   "source": [
    "internet.head()"
   ]
  },
  {
   "cell_type": "code",
   "execution_count": 13,
   "metadata": {},
   "outputs": [
    {
     "name": "stdout",
     "output_type": "stream",
     "text": [
      "<class 'pandas.core.frame.DataFrame'>\n",
      "RangeIndex: 149396 entries, 0 to 149395\n",
      "Data columns (total 5 columns):\n",
      " #   Column        Non-Null Count   Dtype  \n",
      "---  ------        --------------   -----  \n",
      " 0   Unnamed: 0    149396 non-null  int64  \n",
      " 1   id            149396 non-null  object \n",
      " 2   mb_used       149396 non-null  float64\n",
      " 3   session_date  149396 non-null  object \n",
      " 4   user_id       149396 non-null  int64  \n",
      "dtypes: float64(1), int64(2), object(2)\n",
      "memory usage: 5.7+ MB\n"
     ]
    }
   ],
   "source": [
    "internet.info()"
   ]
  },
  {
   "cell_type": "code",
   "execution_count": 14,
   "metadata": {},
   "outputs": [
    {
     "data": {
      "text/html": [
       "<div>\n",
       "<style scoped>\n",
       "    .dataframe tbody tr th:only-of-type {\n",
       "        vertical-align: middle;\n",
       "    }\n",
       "\n",
       "    .dataframe tbody tr th {\n",
       "        vertical-align: top;\n",
       "    }\n",
       "\n",
       "    .dataframe thead th {\n",
       "        text-align: right;\n",
       "    }\n",
       "</style>\n",
       "<table border=\"1\" class=\"dataframe\">\n",
       "  <thead>\n",
       "    <tr style=\"text-align: right;\">\n",
       "      <th></th>\n",
       "      <th>Unnamed: 0</th>\n",
       "      <th>mb_used</th>\n",
       "      <th>user_id</th>\n",
       "    </tr>\n",
       "  </thead>\n",
       "  <tbody>\n",
       "    <tr>\n",
       "      <th>count</th>\n",
       "      <td>149396.000000</td>\n",
       "      <td>149396.000000</td>\n",
       "      <td>149396.000000</td>\n",
       "    </tr>\n",
       "    <tr>\n",
       "      <th>mean</th>\n",
       "      <td>74697.500000</td>\n",
       "      <td>370.192426</td>\n",
       "      <td>1252.099842</td>\n",
       "    </tr>\n",
       "    <tr>\n",
       "      <th>std</th>\n",
       "      <td>43127.054745</td>\n",
       "      <td>278.300951</td>\n",
       "      <td>144.050823</td>\n",
       "    </tr>\n",
       "    <tr>\n",
       "      <th>min</th>\n",
       "      <td>0.000000</td>\n",
       "      <td>0.000000</td>\n",
       "      <td>1000.000000</td>\n",
       "    </tr>\n",
       "    <tr>\n",
       "      <th>25%</th>\n",
       "      <td>37348.750000</td>\n",
       "      <td>138.187500</td>\n",
       "      <td>1130.000000</td>\n",
       "    </tr>\n",
       "    <tr>\n",
       "      <th>50%</th>\n",
       "      <td>74697.500000</td>\n",
       "      <td>348.015000</td>\n",
       "      <td>1251.000000</td>\n",
       "    </tr>\n",
       "    <tr>\n",
       "      <th>75%</th>\n",
       "      <td>112046.250000</td>\n",
       "      <td>559.552500</td>\n",
       "      <td>1380.000000</td>\n",
       "    </tr>\n",
       "    <tr>\n",
       "      <th>max</th>\n",
       "      <td>149395.000000</td>\n",
       "      <td>1724.830000</td>\n",
       "      <td>1499.000000</td>\n",
       "    </tr>\n",
       "  </tbody>\n",
       "</table>\n",
       "</div>"
      ],
      "text/plain": [
       "          Unnamed: 0        mb_used        user_id\n",
       "count  149396.000000  149396.000000  149396.000000\n",
       "mean    74697.500000     370.192426    1252.099842\n",
       "std     43127.054745     278.300951     144.050823\n",
       "min         0.000000       0.000000    1000.000000\n",
       "25%     37348.750000     138.187500    1130.000000\n",
       "50%     74697.500000     348.015000    1251.000000\n",
       "75%    112046.250000     559.552500    1380.000000\n",
       "max    149395.000000    1724.830000    1499.000000"
      ]
     },
     "execution_count": 14,
     "metadata": {},
     "output_type": "execute_result"
    }
   ],
   "source": [
    "internet.describe()"
   ]
  },
  {
   "cell_type": "code",
   "execution_count": 15,
   "metadata": {},
   "outputs": [
    {
     "data": {
      "image/png": "[encoded data removed]",
      "text/plain": [
       "<Figure size 504x360 with 1 Axes>"
      ]
     },
     "metadata": {
      "needs_background": "light"
     },
     "output_type": "display_data"
    }
   ],
   "source": [
    "internet.plot(y = 'mb_used', kind = 'hist', bins = 20, grid=True, figsize = (7,5), range = (1, 1800), legend=None)\n",
    "plt.title('Гистограмма использования интернет траффика')\n",
    "plt.xlabel('Траффик мб.')\n",
    "plt.ylabel('Частота')\n",
    "plt.show()"
   ]
  },
  {
   "cell_type": "markdown",
   "metadata": {},
   "source": [
    "Вывод: Непонятно что за дынные хранятся в столбце 'Unnamed: 0'. \n",
    "Похоже, что это просто сквозная нумерация. Возможно его стоит вообще удалить.\n",
    "Нужно привести даты к формату datetime.\n",
    "Добавить столбец с месяцами."
   ]
  },
  {
   "cell_type": "code",
   "execution_count": 16,
   "metadata": {},
   "outputs": [],
   "source": [
    "#приведем формат даты к нужному\n",
    "internet['session_date'] = pd.to_datetime(internet['session_date'], format='%Y-%m-%d')"
   ]
  },
  {
   "cell_type": "code",
   "execution_count": 17,
   "metadata": {},
   "outputs": [],
   "source": [
    "#добавим столбец с месяцами\n",
    "internet['month'] = internet['session_date'].dt.month_name()"
   ]
  },
  {
   "cell_type": "code",
   "execution_count": 18,
   "metadata": {},
   "outputs": [
    {
     "data": {
      "text/html": [
       "<div>\n",
       "<style scoped>\n",
       "    .dataframe tbody tr th:only-of-type {\n",
       "        vertical-align: middle;\n",
       "    }\n",
       "\n",
       "    .dataframe tbody tr th {\n",
       "        vertical-align: top;\n",
       "    }\n",
       "\n",
       "    .dataframe thead th {\n",
       "        text-align: right;\n",
       "    }\n",
       "</style>\n",
       "<table border=\"1\" class=\"dataframe\">\n",
       "  <thead>\n",
       "    <tr style=\"text-align: right;\">\n",
       "      <th></th>\n",
       "      <th>Unnamed: 0</th>\n",
       "      <th>id</th>\n",
       "      <th>mb_used</th>\n",
       "      <th>session_date</th>\n",
       "      <th>user_id</th>\n",
       "      <th>month</th>\n",
       "    </tr>\n",
       "  </thead>\n",
       "  <tbody>\n",
       "    <tr>\n",
       "      <th>0</th>\n",
       "      <td>0</td>\n",
       "      <td>1000_0</td>\n",
       "      <td>112.95</td>\n",
       "      <td>2018-11-25</td>\n",
       "      <td>1000</td>\n",
       "      <td>November</td>\n",
       "    </tr>\n",
       "    <tr>\n",
       "      <th>1</th>\n",
       "      <td>1</td>\n",
       "      <td>1000_1</td>\n",
       "      <td>1052.81</td>\n",
       "      <td>2018-09-07</td>\n",
       "      <td>1000</td>\n",
       "      <td>September</td>\n",
       "    </tr>\n",
       "    <tr>\n",
       "      <th>2</th>\n",
       "      <td>2</td>\n",
       "      <td>1000_2</td>\n",
       "      <td>1197.26</td>\n",
       "      <td>2018-06-25</td>\n",
       "      <td>1000</td>\n",
       "      <td>June</td>\n",
       "    </tr>\n",
       "    <tr>\n",
       "      <th>3</th>\n",
       "      <td>3</td>\n",
       "      <td>1000_3</td>\n",
       "      <td>550.27</td>\n",
       "      <td>2018-08-22</td>\n",
       "      <td>1000</td>\n",
       "      <td>August</td>\n",
       "    </tr>\n",
       "    <tr>\n",
       "      <th>4</th>\n",
       "      <td>4</td>\n",
       "      <td>1000_4</td>\n",
       "      <td>302.56</td>\n",
       "      <td>2018-09-24</td>\n",
       "      <td>1000</td>\n",
       "      <td>September</td>\n",
       "    </tr>\n",
       "  </tbody>\n",
       "</table>\n",
       "</div>"
      ],
      "text/plain": [
       "   Unnamed: 0      id  mb_used session_date  user_id      month\n",
       "0           0  1000_0   112.95   2018-11-25     1000   November\n",
       "1           1  1000_1  1052.81   2018-09-07     1000  September\n",
       "2           2  1000_2  1197.26   2018-06-25     1000       June\n",
       "3           3  1000_3   550.27   2018-08-22     1000     August\n",
       "4           4  1000_4   302.56   2018-09-24     1000  September"
      ]
     },
     "execution_count": 18,
     "metadata": {},
     "output_type": "execute_result"
    }
   ],
   "source": [
    "internet.head()"
   ]
  },
  {
   "cell_type": "code",
   "execution_count": 19,
   "metadata": {},
   "outputs": [
    {
     "name": "stdout",
     "output_type": "stream",
     "text": [
      "<class 'pandas.core.frame.DataFrame'>\n",
      "RangeIndex: 149396 entries, 0 to 149395\n",
      "Data columns (total 6 columns):\n",
      " #   Column        Non-Null Count   Dtype         \n",
      "---  ------        --------------   -----         \n",
      " 0   Unnamed: 0    149396 non-null  int64         \n",
      " 1   id            149396 non-null  object        \n",
      " 2   mb_used       149396 non-null  float64       \n",
      " 3   session_date  149396 non-null  datetime64[ns]\n",
      " 4   user_id       149396 non-null  int64         \n",
      " 5   month         149396 non-null  object        \n",
      "dtypes: datetime64[ns](1), float64(1), int64(2), object(2)\n",
      "memory usage: 6.8+ MB\n"
     ]
    }
   ],
   "source": [
    "internet.info()"
   ]
  },
  {
   "cell_type": "code",
   "execution_count": 20,
   "metadata": {},
   "outputs": [],
   "source": [
    "#импортируем данные о смс\n",
    "try:\n",
    "    messages = pd.read_csv('/datasets/messages.csv')\n",
    "except:\n",
    "    print('Ошибка. Проверьте правильность пути к данным о смс')"
   ]
  },
  {
   "cell_type": "code",
   "execution_count": 21,
   "metadata": {},
   "outputs": [
    {
     "data": {
      "text/html": [
       "<div>\n",
       "<style scoped>\n",
       "    .dataframe tbody tr th:only-of-type {\n",
       "        vertical-align: middle;\n",
       "    }\n",
       "\n",
       "    .dataframe tbody tr th {\n",
       "        vertical-align: top;\n",
       "    }\n",
       "\n",
       "    .dataframe thead th {\n",
       "        text-align: right;\n",
       "    }\n",
       "</style>\n",
       "<table border=\"1\" class=\"dataframe\">\n",
       "  <thead>\n",
       "    <tr style=\"text-align: right;\">\n",
       "      <th></th>\n",
       "      <th>id</th>\n",
       "      <th>message_date</th>\n",
       "      <th>user_id</th>\n",
       "    </tr>\n",
       "  </thead>\n",
       "  <tbody>\n",
       "    <tr>\n",
       "      <th>0</th>\n",
       "      <td>1000_0</td>\n",
       "      <td>2018-06-27</td>\n",
       "      <td>1000</td>\n",
       "    </tr>\n",
       "    <tr>\n",
       "      <th>1</th>\n",
       "      <td>1000_1</td>\n",
       "      <td>2018-10-08</td>\n",
       "      <td>1000</td>\n",
       "    </tr>\n",
       "    <tr>\n",
       "      <th>2</th>\n",
       "      <td>1000_2</td>\n",
       "      <td>2018-08-04</td>\n",
       "      <td>1000</td>\n",
       "    </tr>\n",
       "    <tr>\n",
       "      <th>3</th>\n",
       "      <td>1000_3</td>\n",
       "      <td>2018-06-16</td>\n",
       "      <td>1000</td>\n",
       "    </tr>\n",
       "    <tr>\n",
       "      <th>4</th>\n",
       "      <td>1000_4</td>\n",
       "      <td>2018-12-05</td>\n",
       "      <td>1000</td>\n",
       "    </tr>\n",
       "  </tbody>\n",
       "</table>\n",
       "</div>"
      ],
      "text/plain": [
       "       id message_date  user_id\n",
       "0  1000_0   2018-06-27     1000\n",
       "1  1000_1   2018-10-08     1000\n",
       "2  1000_2   2018-08-04     1000\n",
       "3  1000_3   2018-06-16     1000\n",
       "4  1000_4   2018-12-05     1000"
      ]
     },
     "execution_count": 21,
     "metadata": {},
     "output_type": "execute_result"
    }
   ],
   "source": [
    "messages.head()"
   ]
  },
  {
   "cell_type": "code",
   "execution_count": 22,
   "metadata": {},
   "outputs": [
    {
     "name": "stdout",
     "output_type": "stream",
     "text": [
      "<class 'pandas.core.frame.DataFrame'>\n",
      "RangeIndex: 123036 entries, 0 to 123035\n",
      "Data columns (total 3 columns):\n",
      " #   Column        Non-Null Count   Dtype \n",
      "---  ------        --------------   ----- \n",
      " 0   id            123036 non-null  object\n",
      " 1   message_date  123036 non-null  object\n",
      " 2   user_id       123036 non-null  int64 \n",
      "dtypes: int64(1), object(2)\n",
      "memory usage: 2.8+ MB\n"
     ]
    }
   ],
   "source": [
    "messages.info()"
   ]
  },
  {
   "cell_type": "markdown",
   "metadata": {},
   "source": [
    "Вывод: Нужно привести даты к формату datetime.\n",
    "Добавить столбец с месяцами."
   ]
  },
  {
   "cell_type": "code",
   "execution_count": 23,
   "metadata": {},
   "outputs": [],
   "source": [
    "#приведем формат даты к нужному\n",
    "messages['message_date'] = pd.to_datetime(messages['message_date'], format='%Y-%m-%d')"
   ]
  },
  {
   "cell_type": "code",
   "execution_count": 24,
   "metadata": {},
   "outputs": [],
   "source": [
    "#добавим столбец с месяцами\n",
    "messages['month'] = messages['message_date'].dt.month_name()"
   ]
  },
  {
   "cell_type": "code",
   "execution_count": 25,
   "metadata": {},
   "outputs": [
    {
     "data": {
      "text/html": [
       "<div>\n",
       "<style scoped>\n",
       "    .dataframe tbody tr th:only-of-type {\n",
       "        vertical-align: middle;\n",
       "    }\n",
       "\n",
       "    .dataframe tbody tr th {\n",
       "        vertical-align: top;\n",
       "    }\n",
       "\n",
       "    .dataframe thead th {\n",
       "        text-align: right;\n",
       "    }\n",
       "</style>\n",
       "<table border=\"1\" class=\"dataframe\">\n",
       "  <thead>\n",
       "    <tr style=\"text-align: right;\">\n",
       "      <th></th>\n",
       "      <th>id</th>\n",
       "      <th>message_date</th>\n",
       "      <th>user_id</th>\n",
       "      <th>month</th>\n",
       "    </tr>\n",
       "  </thead>\n",
       "  <tbody>\n",
       "    <tr>\n",
       "      <th>0</th>\n",
       "      <td>1000_0</td>\n",
       "      <td>2018-06-27</td>\n",
       "      <td>1000</td>\n",
       "      <td>June</td>\n",
       "    </tr>\n",
       "    <tr>\n",
       "      <th>1</th>\n",
       "      <td>1000_1</td>\n",
       "      <td>2018-10-08</td>\n",
       "      <td>1000</td>\n",
       "      <td>October</td>\n",
       "    </tr>\n",
       "    <tr>\n",
       "      <th>2</th>\n",
       "      <td>1000_2</td>\n",
       "      <td>2018-08-04</td>\n",
       "      <td>1000</td>\n",
       "      <td>August</td>\n",
       "    </tr>\n",
       "    <tr>\n",
       "      <th>3</th>\n",
       "      <td>1000_3</td>\n",
       "      <td>2018-06-16</td>\n",
       "      <td>1000</td>\n",
       "      <td>June</td>\n",
       "    </tr>\n",
       "    <tr>\n",
       "      <th>4</th>\n",
       "      <td>1000_4</td>\n",
       "      <td>2018-12-05</td>\n",
       "      <td>1000</td>\n",
       "      <td>December</td>\n",
       "    </tr>\n",
       "  </tbody>\n",
       "</table>\n",
       "</div>"
      ],
      "text/plain": [
       "       id message_date  user_id     month\n",
       "0  1000_0   2018-06-27     1000      June\n",
       "1  1000_1   2018-10-08     1000   October\n",
       "2  1000_2   2018-08-04     1000    August\n",
       "3  1000_3   2018-06-16     1000      June\n",
       "4  1000_4   2018-12-05     1000  December"
      ]
     },
     "execution_count": 25,
     "metadata": {},
     "output_type": "execute_result"
    }
   ],
   "source": [
    "messages.head()"
   ]
  },
  {
   "cell_type": "code",
   "execution_count": 26,
   "metadata": {},
   "outputs": [],
   "source": [
    "try:\n",
    "    tariffs = pd.read_csv('/datasets/tariffs.csv')\n",
    "except:\n",
    "    print('Ошибка. Проверьте правильность пути к данным о тарифах')"
   ]
  },
  {
   "cell_type": "code",
   "execution_count": 27,
   "metadata": {},
   "outputs": [
    {
     "data": {
      "text/html": [
       "<div>\n",
       "<style scoped>\n",
       "    .dataframe tbody tr th:only-of-type {\n",
       "        vertical-align: middle;\n",
       "    }\n",
       "\n",
       "    .dataframe tbody tr th {\n",
       "        vertical-align: top;\n",
       "    }\n",
       "\n",
       "    .dataframe thead th {\n",
       "        text-align: right;\n",
       "    }\n",
       "</style>\n",
       "<table border=\"1\" class=\"dataframe\">\n",
       "  <thead>\n",
       "    <tr style=\"text-align: right;\">\n",
       "      <th></th>\n",
       "      <th>messages_included</th>\n",
       "      <th>mb_per_month_included</th>\n",
       "      <th>minutes_included</th>\n",
       "      <th>rub_monthly_fee</th>\n",
       "      <th>rub_per_gb</th>\n",
       "      <th>rub_per_message</th>\n",
       "      <th>rub_per_minute</th>\n",
       "      <th>tariff_name</th>\n",
       "    </tr>\n",
       "  </thead>\n",
       "  <tbody>\n",
       "    <tr>\n",
       "      <th>0</th>\n",
       "      <td>50</td>\n",
       "      <td>15360</td>\n",
       "      <td>500</td>\n",
       "      <td>550</td>\n",
       "      <td>200</td>\n",
       "      <td>3</td>\n",
       "      <td>3</td>\n",
       "      <td>smart</td>\n",
       "    </tr>\n",
       "    <tr>\n",
       "      <th>1</th>\n",
       "      <td>1000</td>\n",
       "      <td>30720</td>\n",
       "      <td>3000</td>\n",
       "      <td>1950</td>\n",
       "      <td>150</td>\n",
       "      <td>1</td>\n",
       "      <td>1</td>\n",
       "      <td>ultra</td>\n",
       "    </tr>\n",
       "  </tbody>\n",
       "</table>\n",
       "</div>"
      ],
      "text/plain": [
       "   messages_included  mb_per_month_included  minutes_included  \\\n",
       "0                 50                  15360               500   \n",
       "1               1000                  30720              3000   \n",
       "\n",
       "   rub_monthly_fee  rub_per_gb  rub_per_message  rub_per_minute tariff_name  \n",
       "0              550         200                3               3       smart  \n",
       "1             1950         150                1               1       ultra  "
      ]
     },
     "execution_count": 27,
     "metadata": {},
     "output_type": "execute_result"
    }
   ],
   "source": [
    "tariffs.head()"
   ]
  },
  {
   "cell_type": "code",
   "execution_count": 28,
   "metadata": {},
   "outputs": [],
   "source": [
    "#импортируем данные о пользователях\n",
    "try:\n",
    "    users = pd.read_csv('/datasets/users.csv')\n",
    "except:\n",
    "    print('Ошибка. Проверьте правильность пути к данным о пользователях')"
   ]
  },
  {
   "cell_type": "code",
   "execution_count": 29,
   "metadata": {},
   "outputs": [
    {
     "data": {
      "text/html": [
       "<div>\n",
       "<style scoped>\n",
       "    .dataframe tbody tr th:only-of-type {\n",
       "        vertical-align: middle;\n",
       "    }\n",
       "\n",
       "    .dataframe tbody tr th {\n",
       "        vertical-align: top;\n",
       "    }\n",
       "\n",
       "    .dataframe thead th {\n",
       "        text-align: right;\n",
       "    }\n",
       "</style>\n",
       "<table border=\"1\" class=\"dataframe\">\n",
       "  <thead>\n",
       "    <tr style=\"text-align: right;\">\n",
       "      <th></th>\n",
       "      <th>user_id</th>\n",
       "      <th>age</th>\n",
       "      <th>churn_date</th>\n",
       "      <th>city</th>\n",
       "      <th>first_name</th>\n",
       "      <th>last_name</th>\n",
       "      <th>reg_date</th>\n",
       "      <th>tariff</th>\n",
       "    </tr>\n",
       "  </thead>\n",
       "  <tbody>\n",
       "    <tr>\n",
       "      <th>0</th>\n",
       "      <td>1000</td>\n",
       "      <td>52</td>\n",
       "      <td>NaN</td>\n",
       "      <td>Краснодар</td>\n",
       "      <td>Рафаил</td>\n",
       "      <td>Верещагин</td>\n",
       "      <td>2018-05-25</td>\n",
       "      <td>ultra</td>\n",
       "    </tr>\n",
       "    <tr>\n",
       "      <th>1</th>\n",
       "      <td>1001</td>\n",
       "      <td>41</td>\n",
       "      <td>NaN</td>\n",
       "      <td>Москва</td>\n",
       "      <td>Иван</td>\n",
       "      <td>Ежов</td>\n",
       "      <td>2018-11-01</td>\n",
       "      <td>smart</td>\n",
       "    </tr>\n",
       "    <tr>\n",
       "      <th>2</th>\n",
       "      <td>1002</td>\n",
       "      <td>59</td>\n",
       "      <td>NaN</td>\n",
       "      <td>Стерлитамак</td>\n",
       "      <td>Евгений</td>\n",
       "      <td>Абрамович</td>\n",
       "      <td>2018-06-17</td>\n",
       "      <td>smart</td>\n",
       "    </tr>\n",
       "    <tr>\n",
       "      <th>3</th>\n",
       "      <td>1003</td>\n",
       "      <td>23</td>\n",
       "      <td>NaN</td>\n",
       "      <td>Москва</td>\n",
       "      <td>Белла</td>\n",
       "      <td>Белякова</td>\n",
       "      <td>2018-08-17</td>\n",
       "      <td>ultra</td>\n",
       "    </tr>\n",
       "    <tr>\n",
       "      <th>4</th>\n",
       "      <td>1004</td>\n",
       "      <td>68</td>\n",
       "      <td>NaN</td>\n",
       "      <td>Новокузнецк</td>\n",
       "      <td>Татьяна</td>\n",
       "      <td>Авдеенко</td>\n",
       "      <td>2018-05-14</td>\n",
       "      <td>ultra</td>\n",
       "    </tr>\n",
       "  </tbody>\n",
       "</table>\n",
       "</div>"
      ],
      "text/plain": [
       "   user_id  age churn_date         city first_name  last_name    reg_date  \\\n",
       "0     1000   52        NaN    Краснодар     Рафаил  Верещагин  2018-05-25   \n",
       "1     1001   41        NaN       Москва       Иван       Ежов  2018-11-01   \n",
       "2     1002   59        NaN  Стерлитамак    Евгений  Абрамович  2018-06-17   \n",
       "3     1003   23        NaN       Москва      Белла   Белякова  2018-08-17   \n",
       "4     1004   68        NaN  Новокузнецк    Татьяна   Авдеенко  2018-05-14   \n",
       "\n",
       "  tariff  \n",
       "0  ultra  \n",
       "1  smart  \n",
       "2  smart  \n",
       "3  ultra  \n",
       "4  ultra  "
      ]
     },
     "execution_count": 29,
     "metadata": {},
     "output_type": "execute_result"
    }
   ],
   "source": [
    "users.head()"
   ]
  },
  {
   "cell_type": "code",
   "execution_count": 30,
   "metadata": {},
   "outputs": [
    {
     "name": "stdout",
     "output_type": "stream",
     "text": [
      "<class 'pandas.core.frame.DataFrame'>\n",
      "RangeIndex: 500 entries, 0 to 499\n",
      "Data columns (total 8 columns):\n",
      " #   Column      Non-Null Count  Dtype \n",
      "---  ------      --------------  ----- \n",
      " 0   user_id     500 non-null    int64 \n",
      " 1   age         500 non-null    int64 \n",
      " 2   churn_date  38 non-null     object\n",
      " 3   city        500 non-null    object\n",
      " 4   first_name  500 non-null    object\n",
      " 5   last_name   500 non-null    object\n",
      " 6   reg_date    500 non-null    object\n",
      " 7   tariff      500 non-null    object\n",
      "dtypes: int64(2), object(6)\n",
      "memory usage: 31.4+ KB\n"
     ]
    }
   ],
   "source": [
    "users.info()"
   ]
  },
  {
   "cell_type": "code",
   "execution_count": 31,
   "metadata": {},
   "outputs": [
    {
     "data": {
      "text/html": [
       "<div>\n",
       "<style scoped>\n",
       "    .dataframe tbody tr th:only-of-type {\n",
       "        vertical-align: middle;\n",
       "    }\n",
       "\n",
       "    .dataframe tbody tr th {\n",
       "        vertical-align: top;\n",
       "    }\n",
       "\n",
       "    .dataframe thead th {\n",
       "        text-align: right;\n",
       "    }\n",
       "</style>\n",
       "<table border=\"1\" class=\"dataframe\">\n",
       "  <thead>\n",
       "    <tr style=\"text-align: right;\">\n",
       "      <th></th>\n",
       "      <th>user_id</th>\n",
       "      <th>age</th>\n",
       "    </tr>\n",
       "  </thead>\n",
       "  <tbody>\n",
       "    <tr>\n",
       "      <th>count</th>\n",
       "      <td>500.000000</td>\n",
       "      <td>500.00000</td>\n",
       "    </tr>\n",
       "    <tr>\n",
       "      <th>mean</th>\n",
       "      <td>1249.500000</td>\n",
       "      <td>46.58800</td>\n",
       "    </tr>\n",
       "    <tr>\n",
       "      <th>std</th>\n",
       "      <td>144.481833</td>\n",
       "      <td>16.66763</td>\n",
       "    </tr>\n",
       "    <tr>\n",
       "      <th>min</th>\n",
       "      <td>1000.000000</td>\n",
       "      <td>18.00000</td>\n",
       "    </tr>\n",
       "    <tr>\n",
       "      <th>25%</th>\n",
       "      <td>1124.750000</td>\n",
       "      <td>32.00000</td>\n",
       "    </tr>\n",
       "    <tr>\n",
       "      <th>50%</th>\n",
       "      <td>1249.500000</td>\n",
       "      <td>46.00000</td>\n",
       "    </tr>\n",
       "    <tr>\n",
       "      <th>75%</th>\n",
       "      <td>1374.250000</td>\n",
       "      <td>62.00000</td>\n",
       "    </tr>\n",
       "    <tr>\n",
       "      <th>max</th>\n",
       "      <td>1499.000000</td>\n",
       "      <td>75.00000</td>\n",
       "    </tr>\n",
       "  </tbody>\n",
       "</table>\n",
       "</div>"
      ],
      "text/plain": [
       "           user_id        age\n",
       "count   500.000000  500.00000\n",
       "mean   1249.500000   46.58800\n",
       "std     144.481833   16.66763\n",
       "min    1000.000000   18.00000\n",
       "25%    1124.750000   32.00000\n",
       "50%    1249.500000   46.00000\n",
       "75%    1374.250000   62.00000\n",
       "max    1499.000000   75.00000"
      ]
     },
     "execution_count": 31,
     "metadata": {},
     "output_type": "execute_result"
    }
   ],
   "source": [
    "users.describe()"
   ]
  },
  {
   "cell_type": "code",
   "execution_count": 32,
   "metadata": {},
   "outputs": [
    {
     "data": {
      "text/plain": [
       "user_id        0.0\n",
       "age            0.0\n",
       "churn_date    92.4\n",
       "city           0.0\n",
       "first_name     0.0\n",
       "last_name      0.0\n",
       "reg_date       0.0\n",
       "tariff         0.0\n",
       "dtype: float64"
      ]
     },
     "execution_count": 32,
     "metadata": {},
     "output_type": "execute_result"
    }
   ],
   "source": [
    "users.isna().sum()*100/len(users)"
   ]
  },
  {
   "cell_type": "markdown",
   "metadata": {},
   "source": [
    "Вывод: Пропущено 92.4% данных в столбце 'churn_date'. Скорее всего это значит, что у большинства пользователей был действующий тариф на момент выгрузки данных. "
   ]
  },
  {
   "cell_type": "code",
   "execution_count": 33,
   "metadata": {},
   "outputs": [],
   "source": [
    "#Приведём непропущенные значения в столбце churn_date к формату datetime\n",
    "users['churn_date'] = pd.to_datetime(users['churn_date'], format='%Y-%m-%d')"
   ]
  },
  {
   "cell_type": "code",
   "execution_count": 34,
   "metadata": {},
   "outputs": [],
   "source": [
    "#приведем формат даты к нужному\n",
    "users['reg_date'] = pd.to_datetime(users['reg_date'], format='%Y-%m-%d')"
   ]
  },
  {
   "cell_type": "markdown",
   "metadata": {},
   "source": [
    "<div class=\"alert alert-success\">\n",
    "<b>Комментарий ревьюера v1:</b>\n",
    "    \n",
    "Отлично! Первый взгляд на данные есть.\n",
    "    "
   ]
  },
  {
   "cell_type": "markdown",
   "metadata": {},
   "source": [
    "<div class=\"alert alert-warning\">\n",
    "<b>Комментарий ревьюера v1:</b>\n",
    "\n",
    "Было бы совсем круто дополнительно перепроверить данные для трафика и звонков - есть ли в них какие либо аномалии (нулевые значения, например). Очень полезно всегда проверять численные данные на их адекватность. Иногда это бывает сложно из-за большого количества данных, но после у нас есть представление о том с чем придется работать или какие проблемы есть п в данных.  Проверить эти данные можно легко - построить гистрограммы, например."
   ]
  },
  {
   "cell_type": "markdown",
   "metadata": {},
   "source": [
    "<div class=\"alert alert-info\"> <b>Комментарий студента:</b> Привет! Гистограммы построил.</div>"
   ]
  },
  {
   "cell_type": "markdown",
   "metadata": {},
   "source": [
    "<div class=\"alert alert-success\">\n",
    "<b>Комментарий ревьюера v2:</b>\n",
    "    \n",
    "Здорово, что добавил решение по нулям. Да, их можно удалить, а можно и оставить. Ведь при сборке сводной таблицы они просуммируются, а наш анализ это никак не исказит. Важно было, чтобы ты это заметил и оценил влияние. "
   ]
  },
  {
   "cell_type": "markdown",
   "metadata": {},
   "source": [
    "<font size=\"3\">Необходимые расчёты:</font>"
   ]
  },
  {
   "cell_type": "code",
   "execution_count": 35,
   "metadata": {},
   "outputs": [],
   "source": [
    "#Создадим сводную таблицу и посчитаем количество сделанных звонков и израсходованных минут разговора по месяцам для каждого пользователя\n",
    "calls_pivot_table = calls.pivot_table(index=['user_id', 'month'], values='duration', aggfunc=['sum', 'count'])\n",
    "calls_pivot_table.columns = ['duration_sum', 'calls_count']"
   ]
  },
  {
   "cell_type": "code",
   "execution_count": 36,
   "metadata": {},
   "outputs": [
    {
     "data": {
      "text/html": [
       "<div>\n",
       "<style scoped>\n",
       "    .dataframe tbody tr th:only-of-type {\n",
       "        vertical-align: middle;\n",
       "    }\n",
       "\n",
       "    .dataframe tbody tr th {\n",
       "        vertical-align: top;\n",
       "    }\n",
       "\n",
       "    .dataframe thead th {\n",
       "        text-align: right;\n",
       "    }\n",
       "</style>\n",
       "<table border=\"1\" class=\"dataframe\">\n",
       "  <thead>\n",
       "    <tr style=\"text-align: right;\">\n",
       "      <th></th>\n",
       "      <th></th>\n",
       "      <th>duration_sum</th>\n",
       "      <th>calls_count</th>\n",
       "    </tr>\n",
       "    <tr>\n",
       "      <th>user_id</th>\n",
       "      <th>month</th>\n",
       "      <th></th>\n",
       "      <th></th>\n",
       "    </tr>\n",
       "  </thead>\n",
       "  <tbody>\n",
       "    <tr>\n",
       "      <th rowspan=\"5\" valign=\"top\">1000</th>\n",
       "      <th>August</th>\n",
       "      <td>408</td>\n",
       "      <td>52</td>\n",
       "    </tr>\n",
       "    <tr>\n",
       "      <th>December</th>\n",
       "      <td>333</td>\n",
       "      <td>46</td>\n",
       "    </tr>\n",
       "    <tr>\n",
       "      <th>July</th>\n",
       "      <td>340</td>\n",
       "      <td>47</td>\n",
       "    </tr>\n",
       "    <tr>\n",
       "      <th>June</th>\n",
       "      <td>172</td>\n",
       "      <td>43</td>\n",
       "    </tr>\n",
       "    <tr>\n",
       "      <th>May</th>\n",
       "      <td>159</td>\n",
       "      <td>22</td>\n",
       "    </tr>\n",
       "  </tbody>\n",
       "</table>\n",
       "</div>"
      ],
      "text/plain": [
       "                  duration_sum  calls_count\n",
       "user_id month                              \n",
       "1000    August             408           52\n",
       "        December           333           46\n",
       "        July               340           47\n",
       "        June               172           43\n",
       "        May                159           22"
      ]
     },
     "execution_count": 36,
     "metadata": {},
     "output_type": "execute_result"
    }
   ],
   "source": [
    "calls_pivot_table.head()"
   ]
  },
  {
   "cell_type": "code",
   "execution_count": 37,
   "metadata": {},
   "outputs": [],
   "source": [
    "#Создадим сводную таблицу и посчитаем количество сообщений по месяцам для каждого пользователя\n",
    "messages_pivot_table = messages.pivot_table(index=['user_id', 'month'], values='message_date', aggfunc=['count'])\n",
    "messages_pivot_table.columns = ['messages_count']"
   ]
  },
  {
   "cell_type": "code",
   "execution_count": 38,
   "metadata": {},
   "outputs": [
    {
     "data": {
      "text/html": [
       "<div>\n",
       "<style scoped>\n",
       "    .dataframe tbody tr th:only-of-type {\n",
       "        vertical-align: middle;\n",
       "    }\n",
       "\n",
       "    .dataframe tbody tr th {\n",
       "        vertical-align: top;\n",
       "    }\n",
       "\n",
       "    .dataframe thead th {\n",
       "        text-align: right;\n",
       "    }\n",
       "</style>\n",
       "<table border=\"1\" class=\"dataframe\">\n",
       "  <thead>\n",
       "    <tr style=\"text-align: right;\">\n",
       "      <th></th>\n",
       "      <th></th>\n",
       "      <th>messages_count</th>\n",
       "    </tr>\n",
       "    <tr>\n",
       "      <th>user_id</th>\n",
       "      <th>month</th>\n",
       "      <th></th>\n",
       "    </tr>\n",
       "  </thead>\n",
       "  <tbody>\n",
       "    <tr>\n",
       "      <th rowspan=\"5\" valign=\"top\">1000</th>\n",
       "      <th>August</th>\n",
       "      <td>81</td>\n",
       "    </tr>\n",
       "    <tr>\n",
       "      <th>December</th>\n",
       "      <td>70</td>\n",
       "    </tr>\n",
       "    <tr>\n",
       "      <th>July</th>\n",
       "      <td>75</td>\n",
       "    </tr>\n",
       "    <tr>\n",
       "      <th>June</th>\n",
       "      <td>60</td>\n",
       "    </tr>\n",
       "    <tr>\n",
       "      <th>May</th>\n",
       "      <td>22</td>\n",
       "    </tr>\n",
       "  </tbody>\n",
       "</table>\n",
       "</div>"
      ],
      "text/plain": [
       "                  messages_count\n",
       "user_id month                   \n",
       "1000    August                81\n",
       "        December              70\n",
       "        July                  75\n",
       "        June                  60\n",
       "        May                   22"
      ]
     },
     "execution_count": 38,
     "metadata": {},
     "output_type": "execute_result"
    }
   ],
   "source": [
    "messages_pivot_table.head()"
   ]
  },
  {
   "cell_type": "code",
   "execution_count": 39,
   "metadata": {},
   "outputs": [],
   "source": [
    "#Создадим сводную таблицу и посчитаем объем израсходованного трафика по месяцам для каждого пользователя.\n",
    "#Округлим объём трафика до Гб. в большую сторону.\n",
    "internet_pivot_table = internet.pivot_table(index=['user_id', 'month'], values='mb_used', aggfunc='sum')\n",
    "internet_pivot_table.columns = ['internet_sum_gb']\n",
    "internet_pivot_table['internet_sum_gb'] = (internet_pivot_table['internet_sum_gb']/1024).apply(np.ceil).astype('int64')"
   ]
  },
  {
   "cell_type": "code",
   "execution_count": 40,
   "metadata": {},
   "outputs": [
    {
     "data": {
      "text/html": [
       "<div>\n",
       "<style scoped>\n",
       "    .dataframe tbody tr th:only-of-type {\n",
       "        vertical-align: middle;\n",
       "    }\n",
       "\n",
       "    .dataframe tbody tr th {\n",
       "        vertical-align: top;\n",
       "    }\n",
       "\n",
       "    .dataframe thead th {\n",
       "        text-align: right;\n",
       "    }\n",
       "</style>\n",
       "<table border=\"1\" class=\"dataframe\">\n",
       "  <thead>\n",
       "    <tr style=\"text-align: right;\">\n",
       "      <th></th>\n",
       "      <th></th>\n",
       "      <th>internet_sum_gb</th>\n",
       "    </tr>\n",
       "    <tr>\n",
       "      <th>user_id</th>\n",
       "      <th>month</th>\n",
       "      <th></th>\n",
       "    </tr>\n",
       "  </thead>\n",
       "  <tbody>\n",
       "    <tr>\n",
       "      <th rowspan=\"5\" valign=\"top\">1000</th>\n",
       "      <th>August</th>\n",
       "      <td>14</td>\n",
       "    </tr>\n",
       "    <tr>\n",
       "      <th>December</th>\n",
       "      <td>10</td>\n",
       "    </tr>\n",
       "    <tr>\n",
       "      <th>July</th>\n",
       "      <td>14</td>\n",
       "    </tr>\n",
       "    <tr>\n",
       "      <th>June</th>\n",
       "      <td>23</td>\n",
       "    </tr>\n",
       "    <tr>\n",
       "      <th>May</th>\n",
       "      <td>3</td>\n",
       "    </tr>\n",
       "  </tbody>\n",
       "</table>\n",
       "</div>"
      ],
      "text/plain": [
       "                  internet_sum_gb\n",
       "user_id month                    \n",
       "1000    August                 14\n",
       "        December               10\n",
       "        July                   14\n",
       "        June                   23\n",
       "        May                     3"
      ]
     },
     "execution_count": 40,
     "metadata": {},
     "output_type": "execute_result"
    }
   ],
   "source": [
    "internet_pivot_table.head()"
   ]
  },
  {
   "cell_type": "code",
   "execution_count": 41,
   "metadata": {},
   "outputs": [
    {
     "data": {
      "text/html": [
       "<div>\n",
       "<style scoped>\n",
       "    .dataframe tbody tr th:only-of-type {\n",
       "        vertical-align: middle;\n",
       "    }\n",
       "\n",
       "    .dataframe tbody tr th {\n",
       "        vertical-align: top;\n",
       "    }\n",
       "\n",
       "    .dataframe thead th {\n",
       "        text-align: right;\n",
       "    }\n",
       "</style>\n",
       "<table border=\"1\" class=\"dataframe\">\n",
       "  <thead>\n",
       "    <tr style=\"text-align: right;\">\n",
       "      <th></th>\n",
       "      <th></th>\n",
       "      <th>duration_sum</th>\n",
       "      <th>calls_count</th>\n",
       "      <th>messages_count</th>\n",
       "      <th>internet_sum_gb</th>\n",
       "    </tr>\n",
       "    <tr>\n",
       "      <th>user_id</th>\n",
       "      <th>month</th>\n",
       "      <th></th>\n",
       "      <th></th>\n",
       "      <th></th>\n",
       "      <th></th>\n",
       "    </tr>\n",
       "  </thead>\n",
       "  <tbody>\n",
       "    <tr>\n",
       "      <th rowspan=\"8\" valign=\"top\">1000</th>\n",
       "      <th>August</th>\n",
       "      <td>408.0</td>\n",
       "      <td>52.0</td>\n",
       "      <td>81.0</td>\n",
       "      <td>14.0</td>\n",
       "    </tr>\n",
       "    <tr>\n",
       "      <th>December</th>\n",
       "      <td>333.0</td>\n",
       "      <td>46.0</td>\n",
       "      <td>70.0</td>\n",
       "      <td>10.0</td>\n",
       "    </tr>\n",
       "    <tr>\n",
       "      <th>July</th>\n",
       "      <td>340.0</td>\n",
       "      <td>47.0</td>\n",
       "      <td>75.0</td>\n",
       "      <td>14.0</td>\n",
       "    </tr>\n",
       "    <tr>\n",
       "      <th>June</th>\n",
       "      <td>172.0</td>\n",
       "      <td>43.0</td>\n",
       "      <td>60.0</td>\n",
       "      <td>23.0</td>\n",
       "    </tr>\n",
       "    <tr>\n",
       "      <th>May</th>\n",
       "      <td>159.0</td>\n",
       "      <td>22.0</td>\n",
       "      <td>22.0</td>\n",
       "      <td>3.0</td>\n",
       "    </tr>\n",
       "    <tr>\n",
       "      <th>November</th>\n",
       "      <td>338.0</td>\n",
       "      <td>43.0</td>\n",
       "      <td>58.0</td>\n",
       "      <td>15.0</td>\n",
       "    </tr>\n",
       "    <tr>\n",
       "      <th>October</th>\n",
       "      <td>350.0</td>\n",
       "      <td>57.0</td>\n",
       "      <td>73.0</td>\n",
       "      <td>15.0</td>\n",
       "    </tr>\n",
       "    <tr>\n",
       "      <th>September</th>\n",
       "      <td>466.0</td>\n",
       "      <td>58.0</td>\n",
       "      <td>57.0</td>\n",
       "      <td>15.0</td>\n",
       "    </tr>\n",
       "    <tr>\n",
       "      <th rowspan=\"2\" valign=\"top\">1001</th>\n",
       "      <th>December</th>\n",
       "      <td>414.0</td>\n",
       "      <td>63.0</td>\n",
       "      <td>NaN</td>\n",
       "      <td>14.0</td>\n",
       "    </tr>\n",
       "    <tr>\n",
       "      <th>November</th>\n",
       "      <td>430.0</td>\n",
       "      <td>59.0</td>\n",
       "      <td>NaN</td>\n",
       "      <td>18.0</td>\n",
       "    </tr>\n",
       "  </tbody>\n",
       "</table>\n",
       "</div>"
      ],
      "text/plain": [
       "                   duration_sum  calls_count  messages_count  internet_sum_gb\n",
       "user_id month                                                                \n",
       "1000    August            408.0         52.0            81.0             14.0\n",
       "        December          333.0         46.0            70.0             10.0\n",
       "        July              340.0         47.0            75.0             14.0\n",
       "        June              172.0         43.0            60.0             23.0\n",
       "        May               159.0         22.0            22.0              3.0\n",
       "        November          338.0         43.0            58.0             15.0\n",
       "        October           350.0         57.0            73.0             15.0\n",
       "        September         466.0         58.0            57.0             15.0\n",
       "1001    December          414.0         63.0             NaN             14.0\n",
       "        November          430.0         59.0             NaN             18.0"
      ]
     },
     "execution_count": 41,
     "metadata": {},
     "output_type": "execute_result"
    }
   ],
   "source": [
    "#Объединим полученные расчёты в одну таблицу.\n",
    "data = pd.concat([calls_pivot_table, messages_pivot_table, internet_pivot_table], sort=True, axis=1)\n",
    "data.head(10)"
   ]
  },
  {
   "cell_type": "markdown",
   "metadata": {},
   "source": [
    "<div class=\"alert alert-success\">\n",
    "<b>Комментарий ревьюера v1:</b>\n",
    "    \n",
    "Здорово. Сoncat (по умолчанию `how='outer'`) здесь подходит, чтобы не потерять данныe."
   ]
  },
  {
   "cell_type": "code",
   "execution_count": 42,
   "metadata": {},
   "outputs": [],
   "source": [
    "#Заполним пропуски 0, чтобы можно было проводить дальнейшие расчёты.\n",
    "data.loc[data['duration_sum'].isna(), 'duration_sum'] = 0\n",
    "data.loc[data['messages_count'].isna(), 'messages_count'] = 0\n",
    "data.loc[data['internet_sum_gb'].isna(), 'internet_sum_gb'] = 0"
   ]
  },
  {
   "cell_type": "code",
   "execution_count": 43,
   "metadata": {},
   "outputs": [],
   "source": [
    "#Добавим в таблицу data данные о тарифах из таблицы user. Обращаться к этим данным будем по индексам.\n",
    "for user in data.index:\n",
    "    data.loc[user, 'tariff'] = users.loc[user[0]-1000, 'tariff']"
   ]
  },
  {
   "cell_type": "code",
   "execution_count": 44,
   "metadata": {},
   "outputs": [],
   "source": [
    "#С помошью функции посчитаем помесячную выручку для каждого тарифа\n",
    "def off_lim(row):\n",
    "    if row['tariff'] == 'ultra':\n",
    "        if row['messages_count'] > 1000:\n",
    "            messages_off = (row['messages_count'] - 1000)*1\n",
    "        else:\n",
    "            messages_off = 0\n",
    "        if row['duration_sum'] > 3000:\n",
    "            calls_off = (row['duration_sum'] - 3000)*1\n",
    "        else:\n",
    "            calls_off = 0\n",
    "        if row['internet_sum_gb'] > 30:\n",
    "            internet_off = (row['internet_sum_gb'] - 30)*150\n",
    "        else:\n",
    "            internet_off = 0\n",
    "        total_price = messages_off + calls_off + internet_off + 1950\n",
    "    if row['tariff'] == 'smart':\n",
    "        if row['messages_count'] > 50:\n",
    "            messages_off = (row['messages_count'] - 50)*3\n",
    "        else:\n",
    "            messages_off = 0\n",
    "        if row['duration_sum'] > 500:\n",
    "            calls_off = (row['duration_sum'] - 500)*3\n",
    "        else:\n",
    "            calls_off = 0\n",
    "        if row['internet_sum_gb'] > 15:\n",
    "            internet_off = (row['internet_sum_gb'] - 15)*200\n",
    "        else:\n",
    "            internet_off = 0\n",
    "        total_price = messages_off + calls_off + internet_off + 550\n",
    "    return total_price"
   ]
  },
  {
   "cell_type": "code",
   "execution_count": 45,
   "metadata": {},
   "outputs": [],
   "source": [
    "#добавим рассчитаную помесячную выручку в таблицу с другими рассчётами\n",
    "data['total_price'] = data.apply(off_lim, axis=1)"
   ]
  },
  {
   "cell_type": "code",
   "execution_count": 46,
   "metadata": {},
   "outputs": [
    {
     "data": {
      "text/html": [
       "<div>\n",
       "<style scoped>\n",
       "    .dataframe tbody tr th:only-of-type {\n",
       "        vertical-align: middle;\n",
       "    }\n",
       "\n",
       "    .dataframe tbody tr th {\n",
       "        vertical-align: top;\n",
       "    }\n",
       "\n",
       "    .dataframe thead th {\n",
       "        text-align: right;\n",
       "    }\n",
       "</style>\n",
       "<table border=\"1\" class=\"dataframe\">\n",
       "  <thead>\n",
       "    <tr style=\"text-align: right;\">\n",
       "      <th></th>\n",
       "      <th>user_id</th>\n",
       "      <th>duration_sum</th>\n",
       "      <th>calls_count</th>\n",
       "      <th>messages_count</th>\n",
       "      <th>internet_sum_gb</th>\n",
       "      <th>tariff</th>\n",
       "      <th>total_price</th>\n",
       "      <th>age</th>\n",
       "      <th>churn_date</th>\n",
       "      <th>city</th>\n",
       "      <th>first_name</th>\n",
       "      <th>last_name</th>\n",
       "      <th>reg_date</th>\n",
       "    </tr>\n",
       "  </thead>\n",
       "  <tbody>\n",
       "    <tr>\n",
       "      <th>0</th>\n",
       "      <td>1000</td>\n",
       "      <td>408.0</td>\n",
       "      <td>52.0</td>\n",
       "      <td>81.0</td>\n",
       "      <td>14.0</td>\n",
       "      <td>ultra</td>\n",
       "      <td>1950.0</td>\n",
       "      <td>52</td>\n",
       "      <td>NaT</td>\n",
       "      <td>Краснодар</td>\n",
       "      <td>Рафаил</td>\n",
       "      <td>Верещагин</td>\n",
       "      <td>2018-05-25</td>\n",
       "    </tr>\n",
       "    <tr>\n",
       "      <th>1</th>\n",
       "      <td>1000</td>\n",
       "      <td>333.0</td>\n",
       "      <td>46.0</td>\n",
       "      <td>70.0</td>\n",
       "      <td>10.0</td>\n",
       "      <td>ultra</td>\n",
       "      <td>1950.0</td>\n",
       "      <td>52</td>\n",
       "      <td>NaT</td>\n",
       "      <td>Краснодар</td>\n",
       "      <td>Рафаил</td>\n",
       "      <td>Верещагин</td>\n",
       "      <td>2018-05-25</td>\n",
       "    </tr>\n",
       "    <tr>\n",
       "      <th>2</th>\n",
       "      <td>1000</td>\n",
       "      <td>340.0</td>\n",
       "      <td>47.0</td>\n",
       "      <td>75.0</td>\n",
       "      <td>14.0</td>\n",
       "      <td>ultra</td>\n",
       "      <td>1950.0</td>\n",
       "      <td>52</td>\n",
       "      <td>NaT</td>\n",
       "      <td>Краснодар</td>\n",
       "      <td>Рафаил</td>\n",
       "      <td>Верещагин</td>\n",
       "      <td>2018-05-25</td>\n",
       "    </tr>\n",
       "    <tr>\n",
       "      <th>3</th>\n",
       "      <td>1000</td>\n",
       "      <td>172.0</td>\n",
       "      <td>43.0</td>\n",
       "      <td>60.0</td>\n",
       "      <td>23.0</td>\n",
       "      <td>ultra</td>\n",
       "      <td>1950.0</td>\n",
       "      <td>52</td>\n",
       "      <td>NaT</td>\n",
       "      <td>Краснодар</td>\n",
       "      <td>Рафаил</td>\n",
       "      <td>Верещагин</td>\n",
       "      <td>2018-05-25</td>\n",
       "    </tr>\n",
       "    <tr>\n",
       "      <th>4</th>\n",
       "      <td>1000</td>\n",
       "      <td>159.0</td>\n",
       "      <td>22.0</td>\n",
       "      <td>22.0</td>\n",
       "      <td>3.0</td>\n",
       "      <td>ultra</td>\n",
       "      <td>1950.0</td>\n",
       "      <td>52</td>\n",
       "      <td>NaT</td>\n",
       "      <td>Краснодар</td>\n",
       "      <td>Рафаил</td>\n",
       "      <td>Верещагин</td>\n",
       "      <td>2018-05-25</td>\n",
       "    </tr>\n",
       "    <tr>\n",
       "      <th>5</th>\n",
       "      <td>1000</td>\n",
       "      <td>338.0</td>\n",
       "      <td>43.0</td>\n",
       "      <td>58.0</td>\n",
       "      <td>15.0</td>\n",
       "      <td>ultra</td>\n",
       "      <td>1950.0</td>\n",
       "      <td>52</td>\n",
       "      <td>NaT</td>\n",
       "      <td>Краснодар</td>\n",
       "      <td>Рафаил</td>\n",
       "      <td>Верещагин</td>\n",
       "      <td>2018-05-25</td>\n",
       "    </tr>\n",
       "    <tr>\n",
       "      <th>6</th>\n",
       "      <td>1000</td>\n",
       "      <td>350.0</td>\n",
       "      <td>57.0</td>\n",
       "      <td>73.0</td>\n",
       "      <td>15.0</td>\n",
       "      <td>ultra</td>\n",
       "      <td>1950.0</td>\n",
       "      <td>52</td>\n",
       "      <td>NaT</td>\n",
       "      <td>Краснодар</td>\n",
       "      <td>Рафаил</td>\n",
       "      <td>Верещагин</td>\n",
       "      <td>2018-05-25</td>\n",
       "    </tr>\n",
       "    <tr>\n",
       "      <th>7</th>\n",
       "      <td>1000</td>\n",
       "      <td>466.0</td>\n",
       "      <td>58.0</td>\n",
       "      <td>57.0</td>\n",
       "      <td>15.0</td>\n",
       "      <td>ultra</td>\n",
       "      <td>1950.0</td>\n",
       "      <td>52</td>\n",
       "      <td>NaT</td>\n",
       "      <td>Краснодар</td>\n",
       "      <td>Рафаил</td>\n",
       "      <td>Верещагин</td>\n",
       "      <td>2018-05-25</td>\n",
       "    </tr>\n",
       "    <tr>\n",
       "      <th>8</th>\n",
       "      <td>1001</td>\n",
       "      <td>414.0</td>\n",
       "      <td>63.0</td>\n",
       "      <td>0.0</td>\n",
       "      <td>14.0</td>\n",
       "      <td>smart</td>\n",
       "      <td>550.0</td>\n",
       "      <td>41</td>\n",
       "      <td>NaT</td>\n",
       "      <td>Москва</td>\n",
       "      <td>Иван</td>\n",
       "      <td>Ежов</td>\n",
       "      <td>2018-11-01</td>\n",
       "    </tr>\n",
       "    <tr>\n",
       "      <th>9</th>\n",
       "      <td>1001</td>\n",
       "      <td>430.0</td>\n",
       "      <td>59.0</td>\n",
       "      <td>0.0</td>\n",
       "      <td>18.0</td>\n",
       "      <td>smart</td>\n",
       "      <td>1150.0</td>\n",
       "      <td>41</td>\n",
       "      <td>NaT</td>\n",
       "      <td>Москва</td>\n",
       "      <td>Иван</td>\n",
       "      <td>Ежов</td>\n",
       "      <td>2018-11-01</td>\n",
       "    </tr>\n",
       "  </tbody>\n",
       "</table>\n",
       "</div>"
      ],
      "text/plain": [
       "   user_id  duration_sum  calls_count  messages_count  internet_sum_gb tariff  \\\n",
       "0     1000         408.0         52.0            81.0             14.0  ultra   \n",
       "1     1000         333.0         46.0            70.0             10.0  ultra   \n",
       "2     1000         340.0         47.0            75.0             14.0  ultra   \n",
       "3     1000         172.0         43.0            60.0             23.0  ultra   \n",
       "4     1000         159.0         22.0            22.0              3.0  ultra   \n",
       "5     1000         338.0         43.0            58.0             15.0  ultra   \n",
       "6     1000         350.0         57.0            73.0             15.0  ultra   \n",
       "7     1000         466.0         58.0            57.0             15.0  ultra   \n",
       "8     1001         414.0         63.0             0.0             14.0  smart   \n",
       "9     1001         430.0         59.0             0.0             18.0  smart   \n",
       "\n",
       "   total_price  age churn_date       city first_name  last_name   reg_date  \n",
       "0       1950.0   52        NaT  Краснодар     Рафаил  Верещагин 2018-05-25  \n",
       "1       1950.0   52        NaT  Краснодар     Рафаил  Верещагин 2018-05-25  \n",
       "2       1950.0   52        NaT  Краснодар     Рафаил  Верещагин 2018-05-25  \n",
       "3       1950.0   52        NaT  Краснодар     Рафаил  Верещагин 2018-05-25  \n",
       "4       1950.0   52        NaT  Краснодар     Рафаил  Верещагин 2018-05-25  \n",
       "5       1950.0   52        NaT  Краснодар     Рафаил  Верещагин 2018-05-25  \n",
       "6       1950.0   52        NaT  Краснодар     Рафаил  Верещагин 2018-05-25  \n",
       "7       1950.0   52        NaT  Краснодар     Рафаил  Верещагин 2018-05-25  \n",
       "8        550.0   41        NaT     Москва       Иван       Ежов 2018-11-01  \n",
       "9       1150.0   41        NaT     Москва       Иван       Ежов 2018-11-01  "
      ]
     },
     "execution_count": 46,
     "metadata": {},
     "output_type": "execute_result"
    }
   ],
   "source": [
    "#Объединим в новую таблицу рассчёты и данные о пользователях. Это нам понадобиться для проверки гипотез\n",
    "data_full = data.merge(users[['user_id', 'age', 'churn_date', 'city', 'first_name','last_name', 'reg_date']], on='user_id', how='left')\n",
    "data_full.head(10)"
   ]
  },
  {
   "cell_type": "markdown",
   "metadata": {},
   "source": [
    "<div class=\"alert alert-success\">\n",
    "<b>Комментарий ревьюера v1:</b>\n",
    "    \n",
    "- Расчет выручки верный и здорово, что через функцию.\n",
    "- Отдельный плюс питона это наличие множества библиотек и готовых для использования функцию. Например, данную задачу можно также решить с помощью `.clip()` (полезная функция во многих задачах). Прочитать можно тут: [https://pythobyte.com/numpy-clip-22378/](https://pythobyte.com/numpy-clip-22378/)\n",
    "\n",
    "`total5['gb_surcharge'] = (total5['gb_used'] - total5['gb_per_month_included']).clip(0) * total5['usd_per_gb']`\n",
    "- Было бы совсем здорово не хардкодить данные тарифа в коде, так как они могут часто меняться, что приведет к ошибкам или опечаткам. Лучше ссылаться на данные в таблице tariffs (присоединить данные через join) или создать отдельный справочник данных и ссылаться на него. Примеры тут: https://pythonru.com/osnovy/python-dict"
   ]
  },
  {
   "cell_type": "markdown",
   "metadata": {},
   "source": [
    "<div class=\"alert alert-info\"> <b>Комментарий студента:</b>Я,к сожалению, не совсем понял часть комментария про хардкодить данные тарифа в коде. Они же, вроде и так добавляются из таблицы 'user' и если там данные быдут изменены,то они изменятся и в таблице с рассчетами.</div>"
   ]
  },
  {
   "attachments": {
    "image.png": {
     "image/png": "[encoded data removed]"
    }
   },
   "cell_type": "markdown",
   "metadata": {},
   "source": [
    "<div class=\"alert alert-success\">\n",
    "<b>Комментарий ревьюера v2:</b>\n",
    "    \n",
    "Я имел ввиду данные по тарифам.\n",
    "\n",
    "![image.png](attachment:image.png)"
   ]
  },
  {
   "cell_type": "code",
   "execution_count": 47,
   "metadata": {},
   "outputs": [
    {
     "data": {
      "text/html": [
       "<div>\n",
       "<style scoped>\n",
       "    .dataframe tbody tr th:only-of-type {\n",
       "        vertical-align: middle;\n",
       "    }\n",
       "\n",
       "    .dataframe tbody tr th {\n",
       "        vertical-align: top;\n",
       "    }\n",
       "\n",
       "    .dataframe thead th {\n",
       "        text-align: right;\n",
       "    }\n",
       "</style>\n",
       "<table border=\"1\" class=\"dataframe\">\n",
       "  <thead>\n",
       "    <tr style=\"text-align: right;\">\n",
       "      <th></th>\n",
       "      <th>duration_med</th>\n",
       "      <th>internet_med</th>\n",
       "      <th>messages_med</th>\n",
       "      <th>total_price_med</th>\n",
       "      <th>tariff</th>\n",
       "    </tr>\n",
       "    <tr>\n",
       "      <th>user_id</th>\n",
       "      <th></th>\n",
       "      <th></th>\n",
       "      <th></th>\n",
       "      <th></th>\n",
       "      <th></th>\n",
       "    </tr>\n",
       "  </thead>\n",
       "  <tbody>\n",
       "    <tr>\n",
       "      <th>1000</th>\n",
       "      <td>339.0</td>\n",
       "      <td>14.5</td>\n",
       "      <td>65.0</td>\n",
       "      <td>1950.0</td>\n",
       "      <td>ultra</td>\n",
       "    </tr>\n",
       "    <tr>\n",
       "      <th>1001</th>\n",
       "      <td>422.0</td>\n",
       "      <td>16.0</td>\n",
       "      <td>0.0</td>\n",
       "      <td>850.0</td>\n",
       "      <td>smart</td>\n",
       "    </tr>\n",
       "    <tr>\n",
       "      <th>1002</th>\n",
       "      <td>214.0</td>\n",
       "      <td>18.0</td>\n",
       "      <td>11.0</td>\n",
       "      <td>1150.0</td>\n",
       "      <td>smart</td>\n",
       "    </tr>\n",
       "    <tr>\n",
       "      <th>1003</th>\n",
       "      <td>824.0</td>\n",
       "      <td>12.0</td>\n",
       "      <td>83.0</td>\n",
       "      <td>1950.0</td>\n",
       "      <td>ultra</td>\n",
       "    </tr>\n",
       "    <tr>\n",
       "      <th>1004</th>\n",
       "      <td>132.5</td>\n",
       "      <td>18.0</td>\n",
       "      <td>154.5</td>\n",
       "      <td>1950.0</td>\n",
       "      <td>ultra</td>\n",
       "    </tr>\n",
       "  </tbody>\n",
       "</table>\n",
       "</div>"
      ],
      "text/plain": [
       "         duration_med  internet_med  messages_med  total_price_med tariff\n",
       "user_id                                                                  \n",
       "1000            339.0          14.5          65.0           1950.0  ultra\n",
       "1001            422.0          16.0           0.0            850.0  smart\n",
       "1002            214.0          18.0          11.0           1150.0  smart\n",
       "1003            824.0          12.0          83.0           1950.0  ultra\n",
       "1004            132.5          18.0         154.5           1950.0  ultra"
      ]
     },
     "execution_count": 47,
     "metadata": {},
     "output_type": "execute_result"
    }
   ],
   "source": [
    "#Посчитаем медианы продолжительности звонков, траффика, смс и помесячной выручки для кажрого пользователя.\n",
    "data_mean = data_full.pivot_table(index='user_id', values=['duration_sum', 'messages_count', 'internet_sum_gb', 'total_price'], aggfunc='median')\n",
    "data_mean.columns = ['duration_med', 'internet_med', 'messages_med', 'total_price_med']\n",
    "for user_id in users['user_id']:\n",
    "    data_mean.loc[user_id, 'tariff'] = users.loc[user_id-1000, 'tariff']\n",
    "data_mean.head()"
   ]
  },
  {
   "cell_type": "code",
   "execution_count": 48,
   "metadata": {},
   "outputs": [],
   "source": [
    "data_mean['duration_med'] = data_mean['duration_med'].fillna(0).astype(int)\n"
   ]
  },
  {
   "cell_type": "code",
   "execution_count": 49,
   "metadata": {},
   "outputs": [
    {
     "data": {
      "text/html": [
       "<div>\n",
       "<style scoped>\n",
       "    .dataframe tbody tr th:only-of-type {\n",
       "        vertical-align: middle;\n",
       "    }\n",
       "\n",
       "    .dataframe tbody tr th {\n",
       "        vertical-align: top;\n",
       "    }\n",
       "\n",
       "    .dataframe thead tr th {\n",
       "        text-align: left;\n",
       "    }\n",
       "\n",
       "    .dataframe thead tr:last-of-type th {\n",
       "        text-align: right;\n",
       "    }\n",
       "</style>\n",
       "<table border=\"1\" class=\"dataframe\">\n",
       "  <thead>\n",
       "    <tr>\n",
       "      <th></th>\n",
       "      <th colspan=\"3\" halign=\"left\">duration_med</th>\n",
       "      <th colspan=\"3\" halign=\"left\">internet_med</th>\n",
       "      <th colspan=\"3\" halign=\"left\">messages_med</th>\n",
       "      <th colspan=\"3\" halign=\"left\">total_price_med</th>\n",
       "    </tr>\n",
       "    <tr>\n",
       "      <th></th>\n",
       "      <th>median</th>\n",
       "      <th>std</th>\n",
       "      <th>var</th>\n",
       "      <th>median</th>\n",
       "      <th>std</th>\n",
       "      <th>var</th>\n",
       "      <th>median</th>\n",
       "      <th>std</th>\n",
       "      <th>var</th>\n",
       "      <th>median</th>\n",
       "      <th>std</th>\n",
       "      <th>var</th>\n",
       "    </tr>\n",
       "    <tr>\n",
       "      <th>tariff</th>\n",
       "      <th></th>\n",
       "      <th></th>\n",
       "      <th></th>\n",
       "      <th></th>\n",
       "      <th></th>\n",
       "      <th></th>\n",
       "      <th></th>\n",
       "      <th></th>\n",
       "      <th></th>\n",
       "      <th></th>\n",
       "      <th></th>\n",
       "      <th></th>\n",
       "    </tr>\n",
       "  </thead>\n",
       "  <tbody>\n",
       "    <tr>\n",
       "      <th>smart</th>\n",
       "      <td>439.0</td>\n",
       "      <td>161.733254</td>\n",
       "      <td>26157.645389</td>\n",
       "      <td>17.0</td>\n",
       "      <td>4.070437</td>\n",
       "      <td>16.568459</td>\n",
       "      <td>28.5</td>\n",
       "      <td>28.010653</td>\n",
       "      <td>784.596662</td>\n",
       "      <td>1150.0</td>\n",
       "      <td>721.842583</td>\n",
       "      <td>521056.714509</td>\n",
       "    </tr>\n",
       "    <tr>\n",
       "      <th>ultra</th>\n",
       "      <td>533.0</td>\n",
       "      <td>306.159867</td>\n",
       "      <td>93733.863867</td>\n",
       "      <td>20.0</td>\n",
       "      <td>8.708653</td>\n",
       "      <td>75.840642</td>\n",
       "      <td>47.5</td>\n",
       "      <td>49.236809</td>\n",
       "      <td>2424.263318</td>\n",
       "      <td>1950.0</td>\n",
       "      <td>298.527827</td>\n",
       "      <td>89118.863762</td>\n",
       "    </tr>\n",
       "  </tbody>\n",
       "</table>\n",
       "</div>"
      ],
      "text/plain": [
       "       duration_med                           internet_med            \\\n",
       "             median         std           var       median       std   \n",
       "tariff                                                                 \n",
       "smart         439.0  161.733254  26157.645389         17.0  4.070437   \n",
       "ultra         533.0  306.159867  93733.863867         20.0  8.708653   \n",
       "\n",
       "                  messages_med                         total_price_med  \\\n",
       "              var       median        std          var          median   \n",
       "tariff                                                                   \n",
       "smart   16.568459         28.5  28.010653   784.596662          1150.0   \n",
       "ultra   75.840642         47.5  49.236809  2424.263318          1950.0   \n",
       "\n",
       "                                   \n",
       "               std            var  \n",
       "tariff                             \n",
       "smart   721.842583  521056.714509  \n",
       "ultra   298.527827   89118.863762  "
      ]
     },
     "execution_count": 49,
     "metadata": {},
     "output_type": "execute_result"
    }
   ],
   "source": [
    "#Посчитаем медиану, стандартное отклонение и дисперсию для каждого тарифа\n",
    "data_stat = data_mean.pivot_table(index=['tariff'], values=['duration_med', 'internet_med', 'messages_med', 'total_price_med'], \n",
    "                    aggfunc={'duration_med': [np.median, np.var, np.std], \n",
    "                             'internet_med': [np.median, np.var, np.std], \n",
    "                             'messages_med': [np.median, np.var, np.std],\n",
    "                            'total_price_med': [np.median, np.var, np.std]})\n",
    "data_stat"
   ]
  },
  {
   "cell_type": "code",
   "execution_count": 63,
   "metadata": {},
   "outputs": [
    {
     "name": "stderr",
     "output_type": "stream",
     "text": [
      "/home/jovyan/.local/lib/python3.7/site-packages/seaborn/distributions.py:2619: FutureWarning: `distplot` is a deprecated function and will be removed in a future version. Please adapt your code to use either `displot` (a figure-level function with similar flexibility) or `histplot` (an axes-level function for histograms).\n",
      "  warnings.warn(msg, FutureWarning)\n"
     ]
    },
    {
     "data": {
      "image/png": "[encoded data removed]",
      "text/plain": [
       "<Figure size 1152x360 with 2 Axes>"
      ]
     },
     "metadata": {
      "needs_background": "light"
     },
     "output_type": "display_data"
    }
   ],
   "source": [
    "fig, axes = plt.subplots(1, 2, figsize=(16, 5))\n",
    "\n",
    "sns.distplot(data_mean['duration_med'], ax=axes[0])\n",
    "plt.title('Гистограмма количества звонков')\n",
    "plt.ylabel('Частота')\n",
    "plt.xlabel('Продолжительность')\n",
    "plt.show()\n",
    "sns.boxplot(x='tariff', y='duration_med', data=data_mean, ax=axes[1])\n",
    "plt.title('Диаграмма размаха продолжительности звонков')\n",
    "plt.ylabel('Продолжительность мин.')\n",
    "plt.xlabel('Тариф')\n",
    "plt.show()"
   ]
  },
  {
   "cell_type": "markdown",
   "metadata": {},
   "source": [
    "<div class=\"alert alert-info\"> <b>Комментарий студента:</b> Попробовал построить через subplots, как ты советовал ниже. Почему-то появляется третий пустой график рядом с гистограммой.</div>"
   ]
  },
  {
   "cell_type": "markdown",
   "metadata": {},
   "source": [
    "<div class=\"alert alert-success\">\n",
    "<b>Комментарий ревьюера v2:</b>\n",
    "    \n",
    "Тут все верно, но только осталось указать с помощью ax=axes[0] в какой \"коробке\" в матрице должен находиться график и первый plt.show() (он закрыват общий график) лишний.\n",
    "    \n",
    "fig, axes = plt.subplots(1, 2, figsize=(16, 5))\n",
    "\n",
    "sns.distplot(data_mean['duration_med'], ax=axes[0])\n",
    "plt.title('Гистограмма количества звонков')\n",
    "plt.ylabel('Частота')\n",
    "plt.xlabel('Продолжительность')\n",
    "\n",
    "sns.boxplot(x='tariff', y='duration_med', data=data_mean, ax=axes[1])\n",
    "plt.title('Диаграмма размаха продолжительности звонков')\n",
    "plt.ylabel('Продолжительность мин.')\n",
    "plt.xlabel('Тариф')\n",
    "plt.show()    "
   ]
  },
  {
   "cell_type": "code",
   "execution_count": 51,
   "metadata": {},
   "outputs": [
    {
     "data": {
      "image/png": "[encoded data removed]",
      "text/plain": [
       "<Figure size 432x288 with 1 Axes>"
      ]
     },
     "metadata": {
      "needs_background": "light"
     },
     "output_type": "display_data"
    }
   ],
   "source": [
    "sns.boxplot(x='tariff', y='duration_med', data=data_mean)\n",
    "plt.title('Диаграмма размаха продолжительности звонков')\n",
    "plt.ylabel('Продолжительность мин.')\n",
    "plt.xlabel('Тарифы')\n",
    "plt.show()"
   ]
  },
  {
   "cell_type": "code",
   "execution_count": 52,
   "metadata": {},
   "outputs": [
    {
     "data": {
      "image/png": "[encoded data removed]",
      "text/plain": [
       "<Figure size 432x288 with 1 Axes>"
      ]
     },
     "metadata": {
      "needs_background": "light"
     },
     "output_type": "display_data"
    }
   ],
   "source": [
    "sns.boxplot(x='tariff', y='internet_med', data=data_mean)\n",
    "plt.title('Диаграмма размаха интернет трафика')\n",
    "plt.ylabel('Трафик гб.')\n",
    "plt.xlabel('Тарифы')\n",
    "plt.show()"
   ]
  },
  {
   "cell_type": "code",
   "execution_count": 53,
   "metadata": {},
   "outputs": [
    {
     "data": {
      "image/png": "[encoded data removed]",
      "text/plain": [
       "<Figure size 432x288 with 1 Axes>"
      ]
     },
     "metadata": {
      "needs_background": "light"
     },
     "output_type": "display_data"
    }
   ],
   "source": [
    "sns.boxplot(x='tariff', y='messages_med', data=data_mean)\n",
    "plt.title('Диаграмма размаха количества сообщений')\n",
    "plt.ylabel('Сообщения шт.')\n",
    "plt.xlabel('Тарифы')\n",
    "plt.show()"
   ]
  },
  {
   "cell_type": "markdown",
   "metadata": {},
   "source": [
    "Из диаграмм и данных о медианных значениях можно сделать вывод, что пользователи тарифа \"Ультра\" не полностью выбирают свой пакет услуг. В то время, как пользователи тарифа \"Cмарт\" наоборот вынуждены добирать услуги сверх пакета т.к. тех услуг, что есть в пакете на месяц им не хватает.  "
   ]
  },
  {
   "cell_type": "code",
   "execution_count": 54,
   "metadata": {},
   "outputs": [
    {
     "data": {
      "image/png": "[encoded data removed]",
      "text/plain": [
       "<Figure size 720x720 with 16 Axes>"
      ]
     },
     "metadata": {
      "needs_background": "light"
     },
     "output_type": "display_data"
    },
    {
     "data": {
      "image/png": "[encoded data removed]",
      "text/plain": [
       "<Figure size 720x720 with 16 Axes>"
      ]
     },
     "metadata": {
      "needs_background": "light"
     },
     "output_type": "display_data"
    }
   ],
   "source": [
    "for tariff in ['ultra', 'smart']:\n",
    "    pd.plotting.scatter_matrix(data_mean.query('tariff == @tariff'), alpha = 0.5, figsize = (10,10))\n"
   ]
  },
  {
   "cell_type": "markdown",
   "metadata": {},
   "source": [
    "Типы распределения для тарифа \"Ультра\":\n",
    "\n",
    "\n",
    "Минуты разговора - нормальное распределение.\n",
    "\n",
    "\n",
    "Интернет трафик - нормальное распределение.\n",
    "\n",
    "\n",
    "Количество сообщений - распределение Пуассона."
   ]
  },
  {
   "cell_type": "markdown",
   "metadata": {},
   "source": [
    "Типы распределения для тарифа \"Смарт\":\n",
    "\n",
    "\n",
    "Минуты разговора - нормальное распределение.\n",
    "\n",
    "\n",
    "Интернет трафик - нормальное распределение.\n",
    "\n",
    "\n",
    "Количество сообщений - распределение Пуассона."
   ]
  },
  {
   "cell_type": "markdown",
   "metadata": {},
   "source": [
    "<div class=\"alert alert-success\">\n",
    "<b>Комментарий ревьюера v1:</b>\n",
    "\n",
    "Оставлю общие комментарии по разделу: В целом получилась хорошая аналитика, выводы и предположения.\n",
    "  \n",
    "Отличная визуализация данных. Здорово, что получилось наложить два тарифа на один график.\n",
    "     \n",
    "Если есть время и желание попрактиковаться, то можно вывести два графика (гистограмму и диаграмму размаха) с помощью сабплота в две колонки.\n",
    "\n",
    "    # Создадим одну строку с двумя колонками\n",
    "    fig, axes = plt.subplots(1, 2, figsize=(16, 5))\n",
    "    \n",
    "    sns.distplot(...)\n",
    "    ...\n",
    "    sns.boxplot(...)\n",
    "    \n",
    "    ...\n",
    "\n",
    "\n",
    "</div>\n"
   ]
  },
  {
   "cell_type": "markdown",
   "metadata": {},
   "source": [
    "<font size=\"4\">Проверка гипотез</font>"
   ]
  },
  {
   "cell_type": "markdown",
   "metadata": {},
   "source": [
    "<font size=\"3\">Средняя выручка пользователей тарифов \"Ультра\" и \"Смарт\" различаются.</font>"
   ]
  },
  {
   "cell_type": "markdown",
   "metadata": {},
   "source": [
    "Нулевая гипотеза: средняя выручка тарифов \"Ультра\" и \"Смарт\" равна.\n",
    "\n",
    "Альтернативная гипотеза: средняя выручка тарифов \"Ультра\" и \"Смарт\" различается."
   ]
  },
  {
   "cell_type": "code",
   "execution_count": 55,
   "metadata": {},
   "outputs": [],
   "source": [
    "tariff_ultra = data_full.query('tariff == \"ultra\"')['total_price']\n",
    "tariff_smart = data_full.query('tariff == \"smart\"')['total_price']"
   ]
  },
  {
   "cell_type": "code",
   "execution_count": null,
   "metadata": {},
   "outputs": [],
   "source": [
    "# сравним дисперсию выборок с помощью теста Левене\n",
    "st.levene(tariff_ultra, tariff_smart, center='median', proportiontocut=0.01)"
   ]
  },
  {
   "cell_type": "code",
   "execution_count": 57,
   "metadata": {},
   "outputs": [
    {
     "name": "stdout",
     "output_type": "stream",
     "text": [
      "p-значение: 4.2606313931076085e-250\n",
      "Отвергаем нулевую гипотезу\n"
     ]
    }
   ],
   "source": [
    "alpha = 0.01\n",
    "\n",
    "results = st.ttest_ind(tariff_ultra, tariff_smart, equal_var=False)\n",
    "\n",
    "print('p-значение:', results.pvalue)\n",
    "\n",
    "if (results.pvalue < alpha):\n",
    "    print(\"Отвергаем нулевую гипотезу\")\n",
    "else:\n",
    "    print(\"Не получилось отвергнуть нулевую гипотезу\")"
   ]
  },
  {
   "cell_type": "markdown",
   "metadata": {},
   "source": [
    "р-значение очень мало. Нулевая гипотеза отвергнута. Средняя выручка тарифов не равна."
   ]
  },
  {
   "cell_type": "code",
   "execution_count": 58,
   "metadata": {},
   "outputs": [
    {
     "data": {
      "image/png": "[encoded data removed]",
      "text/plain": [
       "<Figure size 432x288 with 1 Axes>"
      ]
     },
     "metadata": {
      "needs_background": "light"
     },
     "output_type": "display_data"
    }
   ],
   "source": [
    "sns.boxplot(x='tariff', y='total_price_med', data=data_mean)\n",
    "plt.title('Диаграмма размаха средней выручки по тарифам')\n",
    "plt.ylabel('Рубли.')\n",
    "plt.xlabel('Тарифы')\n",
    "plt.show()"
   ]
  },
  {
   "cell_type": "markdown",
   "metadata": {},
   "source": [
    "Вывод: Средняя выручка по тарифу \"Ультра\" чаще всего не превышает стоимость абоненской платы(1950р) Тогда как у тарифа \"Смарт\" она равна 1150р. более чем в два раза превышает стоимость абонентской платы.   "
   ]
  },
  {
   "cell_type": "markdown",
   "metadata": {},
   "source": [
    "<font size=\"3\">Средняя выручка пользователей из Москвы отличается от выручки пользователей из других регионов.</font>\n",
    "\n",
    "Нулевая гипотеза: средняя выручка пользователей из Москвы и из других регионов равна.\n",
    "\n",
    "Альтернативная гипотеза: средняя выручка пользователей из Москвы и из других регионов различается."
   ]
  },
  {
   "cell_type": "code",
   "execution_count": 59,
   "metadata": {},
   "outputs": [],
   "source": [
    "moscow = data_full.query('city == \"Москва\"')['total_price']\n",
    "other = data_full.query('city != \"Москва\"')['total_price']"
   ]
  },
  {
   "cell_type": "code",
   "execution_count": 60,
   "metadata": {},
   "outputs": [
    {
     "data": {
      "text/plain": [
       "LeveneResult(statistic=6.034372854341571, pvalue=0.014082487123270156)"
      ]
     },
     "execution_count": 60,
     "metadata": {},
     "output_type": "execute_result"
    }
   ],
   "source": [
    "# сравним дисперсию выборок с помощью теста Левене\n",
    "st.levene(moscow, other, center='median', proportiontocut=0.01)"
   ]
  },
  {
   "cell_type": "code",
   "execution_count": 61,
   "metadata": {},
   "outputs": [
    {
     "name": "stdout",
     "output_type": "stream",
     "text": [
      "p-значение: 0.5257376663729298\n",
      "Не получилось отвергнуть нулевую гипотезу\n"
     ]
    }
   ],
   "source": [
    "alpha = 0.01\n",
    "\n",
    "results = st.ttest_ind(moscow, other, equal_var=False)\n",
    "\n",
    "print('p-значение:', results.pvalue)\n",
    "\n",
    "if (results.pvalue < alpha):\n",
    "    print(\"Отвергаем нулевую гипотезу\")\n",
    "else:\n",
    "    print(\"Не получилось отвергнуть нулевую гипотезу\")"
   ]
  },
  {
   "cell_type": "code",
   "execution_count": 62,
   "metadata": {},
   "outputs": [
    {
     "data": {
      "text/html": [
       "<div>\n",
       "<style scoped>\n",
       "    .dataframe tbody tr th:only-of-type {\n",
       "        vertical-align: middle;\n",
       "    }\n",
       "\n",
       "    .dataframe tbody tr th {\n",
       "        vertical-align: top;\n",
       "    }\n",
       "\n",
       "    .dataframe thead th {\n",
       "        text-align: right;\n",
       "    }\n",
       "</style>\n",
       "<table border=\"1\" class=\"dataframe\">\n",
       "  <thead>\n",
       "    <tr style=\"text-align: right;\">\n",
       "      <th></th>\n",
       "      <th>total_price</th>\n",
       "    </tr>\n",
       "    <tr>\n",
       "      <th>region</th>\n",
       "      <th></th>\n",
       "    </tr>\n",
       "  </thead>\n",
       "  <tbody>\n",
       "    <tr>\n",
       "      <th>Другой</th>\n",
       "      <td>1583.0</td>\n",
       "    </tr>\n",
       "    <tr>\n",
       "      <th>Москва</th>\n",
       "      <td>1750.0</td>\n",
       "    </tr>\n",
       "  </tbody>\n",
       "</table>\n",
       "</div>"
      ],
      "text/plain": [
       "        total_price\n",
       "region             \n",
       "Другой       1583.0\n",
       "Москва       1750.0"
      ]
     },
     "execution_count": 62,
     "metadata": {},
     "output_type": "execute_result"
    }
   ],
   "source": [
    "def region(city):\n",
    "    if city == 'Москва': return 'Москва'\n",
    "    else: return 'Другой'\n",
    "    \n",
    "data_full['region'] = data_full['city'].apply(region)\n",
    "data_full.pivot_table(index='region', values='total_price', aggfunc='median')"
   ]
  },
  {
   "cell_type": "markdown",
   "metadata": {},
   "source": [
    "Вывод: нулевая гипотеза не отвергнута. Средняя выручка от пользователей из Москвы и других регионов различается незначительно: 1750р. для Москвы и 1583р. для других регионов.  "
   ]
  },
  {
   "cell_type": "markdown",
   "metadata": {},
   "source": [
    "<div class=\"alert alert-success\">\n",
    "<b>Комментарий ревьюера v1:</b>\n",
    "    \n",
    "- Да, Москва и регионы платят примерно одинаково. \n",
    "- Гипотезы сформулированы и протестированы верно.\n",
    "- Можно еще дополнительно сравнить дисперсии выборок до проверки гипотез, чтобы понять с каким параметром equal_var использовать метод проверки ttest_ind (по дефолту True). Дисперсии выборок можно сравнить вручную или с помощью стат.теста Левене (https://docs.scipy.org/doc/scipy/reference/generated/scipy.stats.levene.html) или теста Барлетта (https://docs.scipy.org/doc/scipy/reference/generated/scipy.stats.bartlett.html#scipy.stats.bartlett).\n",
    "</div>"
   ]
  },
  {
   "cell_type": "markdown",
   "metadata": {},
   "source": [
    "<div class=\"alert alert-info\"> <b>Комментарий студента:</b> Проверил дисперсию выборок с помощью теста Левене. Если я правильно интерпритировал результаты, то дисперсии выборок в обоих случаях не равны и поэтому нужный параметр equal_var=False.</div>"
   ]
  },
  {
   "cell_type": "markdown",
   "metadata": {},
   "source": [
    "<div class=\"alert alert-success\">\n",
    "<b>Комментарий ревьюера v2:</b>\n",
    "    \n",
    "Здорово, что верно применил новый тест.  \n",
    "    \n",
    "Да, все верно - p-value < alpha и как результат гипотезу о равенстве дисперсии мы для двух случаев отвергаем."
   ]
  },
  {
   "cell_type": "markdown",
   "metadata": {},
   "source": [
    "<font size=\"3\">Общий вывод:</font>"
   ]
  },
  {
   "cell_type": "markdown",
   "metadata": {},
   "source": [
    " По результатам анализа двух тарифом \"Ультра\" и \"Смарт\" мы выявили, что средняя выручка этих тарифов не сильно зависит от региона проживания пользователя. И вопреки моим ожиданиям, жители столицы в среднем тратят на связь не больше, чем жители других регионов.\n",
    " \n",
    " Также мы выяснили, что тарифа \"Ультра\" приносит больше прибыли на одного пользователя в месяц, чем тариф \"Смарт\". При этом структура пользования тарифами различаются. Если пользователи тарифа \"Ультра\" в среднем плятят только абонентскуб плату и им хватает пакетов, входящих в тариф, по пользователи тарифа \"Смарт\" докупают ещё услуги сверх абонентской платы т.к. включенного в неё пакета им не хватает.\n",
    " \n",
    " Возможно компании \"Мегалайн\" стоит подумать над созданием ещё одного пакета услуг, который бы занял промежуточное положение между \"Ультра\" и \"Смарт\". Сейчас разрыв между тарифами как по стоимости, так и по объему пакетов достаточно большой."
   ]
  },
  {
   "cell_type": "markdown",
   "metadata": {},
   "source": [
    "<div class=\"alert alert-success\">\n",
    "<b>Комментарий ревьюера v1:</b>\n",
    "    \n",
    "Ты провел отличное исследование: чистый код, крутые графики, правильные промежуточные и общие выводы. "
   ]
  },
  {
   "cell_type": "code",
   "execution_count": null,
   "metadata": {},
   "outputs": [],
   "source": []
  }
 ],
 "metadata": {
  "ExecuteTimeLog": [
   {
    "duration": 1230,
    "start_time": "2022-01-11T14:34:43.644Z"
   },
   {
    "duration": 412,
    "start_time": "2022-01-11T14:36:39.602Z"
   },
   {
    "duration": 5,
    "start_time": "2022-01-11T14:38:49.607Z"
   },
   {
    "duration": 5,
    "start_time": "2022-01-11T14:39:50.006Z"
   },
   {
    "duration": 5,
    "start_time": "2022-01-11T14:40:26.257Z"
   },
   {
    "duration": 4,
    "start_time": "2022-01-11T14:40:32.790Z"
   },
   {
    "duration": 5,
    "start_time": "2022-01-11T14:40:34.029Z"
   },
   {
    "duration": 203,
    "start_time": "2022-01-11T14:42:57.600Z"
   },
   {
    "duration": 26,
    "start_time": "2022-01-11T14:43:17.402Z"
   },
   {
    "duration": 10,
    "start_time": "2022-01-11T14:43:52.222Z"
   },
   {
    "duration": 10,
    "start_time": "2022-01-11T14:44:24.065Z"
   },
   {
    "duration": 28,
    "start_time": "2022-01-11T14:44:29.848Z"
   },
   {
    "duration": 34,
    "start_time": "2022-01-11T14:44:50.646Z"
   },
   {
    "duration": 540,
    "start_time": "2022-01-11T14:51:40.085Z"
   },
   {
    "duration": 13,
    "start_time": "2022-01-11T14:51:42.651Z"
   },
   {
    "duration": 542,
    "start_time": "2022-01-11T14:57:34.915Z"
   },
   {
    "duration": 13,
    "start_time": "2022-01-11T14:57:36.538Z"
   },
   {
    "duration": 907,
    "start_time": "2022-01-12T07:44:37.571Z"
   },
   {
    "duration": 403,
    "start_time": "2022-01-12T07:44:39.076Z"
   },
   {
    "duration": 410,
    "start_time": "2022-01-12T07:44:45.005Z"
   },
   {
    "duration": 16,
    "start_time": "2022-01-12T07:44:47.396Z"
   },
   {
    "duration": 11,
    "start_time": "2022-01-12T07:45:59.378Z"
   },
   {
    "duration": 8,
    "start_time": "2022-01-12T07:46:13.706Z"
   },
   {
    "duration": 8,
    "start_time": "2022-01-12T07:47:09.969Z"
   },
   {
    "duration": 18,
    "start_time": "2022-01-12T07:47:44.535Z"
   },
   {
    "duration": 7,
    "start_time": "2022-01-12T07:48:41.761Z"
   },
   {
    "duration": 9,
    "start_time": "2022-01-12T07:48:47.097Z"
   },
   {
    "duration": 26,
    "start_time": "2022-01-12T07:49:08.947Z"
   },
   {
    "duration": 7,
    "start_time": "2022-01-12T07:50:08.848Z"
   },
   {
    "duration": 19,
    "start_time": "2022-01-12T07:50:42.417Z"
   },
   {
    "duration": 12,
    "start_time": "2022-01-12T07:50:57.548Z"
   },
   {
    "duration": 6,
    "start_time": "2022-01-12T07:51:28.894Z"
   },
   {
    "duration": 8,
    "start_time": "2022-01-12T07:51:54.033Z"
   },
   {
    "duration": 9,
    "start_time": "2022-01-12T07:52:45.919Z"
   },
   {
    "duration": 6,
    "start_time": "2022-01-12T07:53:55.622Z"
   },
   {
    "duration": 14,
    "start_time": "2022-01-12T07:54:26.925Z"
   },
   {
    "duration": 26,
    "start_time": "2022-01-12T08:00:22.626Z"
   },
   {
    "duration": 26,
    "start_time": "2022-01-12T08:00:44.491Z"
   },
   {
    "duration": 14,
    "start_time": "2022-01-12T08:01:25.864Z"
   },
   {
    "duration": 8,
    "start_time": "2022-01-12T08:02:47.816Z"
   },
   {
    "duration": 3,
    "start_time": "2022-01-12T08:02:51.322Z"
   },
   {
    "duration": 156,
    "start_time": "2022-01-12T08:02:51.326Z"
   },
   {
    "duration": 8,
    "start_time": "2022-01-12T08:02:51.483Z"
   },
   {
    "duration": 28,
    "start_time": "2022-01-12T08:02:51.493Z"
   },
   {
    "duration": 33,
    "start_time": "2022-01-12T08:02:51.522Z"
   },
   {
    "duration": 133,
    "start_time": "2022-01-12T08:02:51.556Z"
   },
   {
    "duration": 8,
    "start_time": "2022-01-12T08:02:51.690Z"
   },
   {
    "duration": 22,
    "start_time": "2022-01-12T08:02:51.699Z"
   },
   {
    "duration": 37,
    "start_time": "2022-01-12T08:02:51.723Z"
   },
   {
    "duration": 99,
    "start_time": "2022-01-12T08:02:51.762Z"
   },
   {
    "duration": 7,
    "start_time": "2022-01-12T08:02:51.862Z"
   },
   {
    "duration": 16,
    "start_time": "2022-01-12T08:02:51.871Z"
   },
   {
    "duration": 14,
    "start_time": "2022-01-12T08:02:51.889Z"
   },
   {
    "duration": 16,
    "start_time": "2022-01-12T08:02:51.905Z"
   },
   {
    "duration": 9,
    "start_time": "2022-01-12T08:02:51.923Z"
   },
   {
    "duration": 28,
    "start_time": "2022-01-12T08:02:51.941Z"
   },
   {
    "duration": 9,
    "start_time": "2022-01-12T08:02:51.970Z"
   },
   {
    "duration": 8,
    "start_time": "2022-01-12T08:02:51.981Z"
   },
   {
    "duration": 15,
    "start_time": "2022-01-12T08:02:51.990Z"
   },
   {
    "duration": 24,
    "start_time": "2022-01-12T08:11:08.077Z"
   },
   {
    "duration": 26,
    "start_time": "2022-01-12T08:20:48.379Z"
   },
   {
    "duration": 7,
    "start_time": "2022-01-12T08:36:30.115Z"
   },
   {
    "duration": 4,
    "start_time": "2022-01-12T08:36:34.640Z"
   },
   {
    "duration": 3,
    "start_time": "2022-01-12T08:37:41.747Z"
   },
   {
    "duration": 4,
    "start_time": "2022-01-12T08:37:48.282Z"
   },
   {
    "duration": 326,
    "start_time": "2022-01-12T08:39:37.516Z"
   },
   {
    "duration": 61,
    "start_time": "2022-01-12T08:39:50.111Z"
   },
   {
    "duration": 65,
    "start_time": "2022-01-12T08:39:55.861Z"
   },
   {
    "duration": 8,
    "start_time": "2022-01-12T08:40:07.760Z"
   },
   {
    "duration": 5,
    "start_time": "2022-01-12T08:40:35.755Z"
   },
   {
    "duration": 68,
    "start_time": "2022-01-12T08:40:37.324Z"
   },
   {
    "duration": 9,
    "start_time": "2022-01-12T08:40:38.300Z"
   },
   {
    "duration": 8,
    "start_time": "2022-01-12T08:41:20.582Z"
   },
   {
    "duration": 43,
    "start_time": "2022-01-12T08:41:27.299Z"
   },
   {
    "duration": 15,
    "start_time": "2022-01-12T08:47:02.547Z"
   },
   {
    "duration": 27,
    "start_time": "2022-01-12T08:48:04.033Z"
   },
   {
    "duration": 19,
    "start_time": "2022-01-12T08:48:44.984Z"
   },
   {
    "duration": 8,
    "start_time": "2022-01-12T08:48:51.224Z"
   },
   {
    "duration": 28,
    "start_time": "2022-01-12T08:50:48.176Z"
   },
   {
    "duration": 46,
    "start_time": "2022-01-12T08:54:03.477Z"
   },
   {
    "duration": 47,
    "start_time": "2022-01-12T08:54:08.660Z"
   },
   {
    "duration": 8,
    "start_time": "2022-01-12T08:54:36.276Z"
   },
   {
    "duration": 9,
    "start_time": "2022-01-12T08:54:52.576Z"
   },
   {
    "duration": 17,
    "start_time": "2022-01-12T08:57:33.376Z"
   },
   {
    "duration": 142,
    "start_time": "2022-01-12T08:57:54.818Z"
   },
   {
    "duration": 19,
    "start_time": "2022-01-12T08:58:52.305Z"
   },
   {
    "duration": 7,
    "start_time": "2022-01-12T08:58:57.906Z"
   },
   {
    "duration": 41,
    "start_time": "2022-01-12T08:59:26.507Z"
   },
   {
    "duration": 18,
    "start_time": "2022-01-12T08:59:29.568Z"
   },
   {
    "duration": 43,
    "start_time": "2022-01-12T08:59:35.055Z"
   },
   {
    "duration": 8,
    "start_time": "2022-01-12T08:59:56.134Z"
   },
   {
    "duration": 20,
    "start_time": "2022-01-12T09:00:30.471Z"
   },
   {
    "duration": 31,
    "start_time": "2022-01-12T09:00:53.584Z"
   },
   {
    "duration": 22,
    "start_time": "2022-01-12T09:01:13.146Z"
   },
   {
    "duration": 14,
    "start_time": "2022-01-12T09:03:43.427Z"
   },
   {
    "duration": 6502,
    "start_time": "2022-01-12T09:04:53.804Z"
   },
   {
    "duration": 6,
    "start_time": "2022-01-12T09:05:07.921Z"
   },
   {
    "duration": 7,
    "start_time": "2022-01-12T09:07:00.753Z"
   },
   {
    "duration": 11,
    "start_time": "2022-01-12T09:07:07.359Z"
   },
   {
    "duration": 10,
    "start_time": "2022-01-12T09:07:13.412Z"
   },
   {
    "duration": 249,
    "start_time": "2022-01-12T09:07:52.364Z"
   },
   {
    "duration": 288,
    "start_time": "2022-01-12T09:08:01.450Z"
   },
   {
    "duration": 7,
    "start_time": "2022-01-12T09:08:08.345Z"
   },
   {
    "duration": 84,
    "start_time": "2022-01-12T09:10:18.847Z"
   },
   {
    "duration": 5,
    "start_time": "2022-01-12T09:11:03.331Z"
   },
   {
    "duration": 6,
    "start_time": "2022-01-12T09:11:24.529Z"
   },
   {
    "duration": 7,
    "start_time": "2022-01-12T09:11:34.375Z"
   },
   {
    "duration": 3,
    "start_time": "2022-01-12T09:13:29.655Z"
   },
   {
    "duration": 162,
    "start_time": "2022-01-12T09:13:29.660Z"
   },
   {
    "duration": 7,
    "start_time": "2022-01-12T09:13:29.824Z"
   },
   {
    "duration": 35,
    "start_time": "2022-01-12T09:13:29.832Z"
   },
   {
    "duration": 24,
    "start_time": "2022-01-12T09:13:29.869Z"
   },
   {
    "duration": 24,
    "start_time": "2022-01-12T09:13:29.895Z"
   },
   {
    "duration": 5,
    "start_time": "2022-01-12T09:13:29.920Z"
   },
   {
    "duration": 70,
    "start_time": "2022-01-12T09:13:29.926Z"
   },
   {
    "duration": 49,
    "start_time": "2022-01-12T09:13:29.998Z"
   },
   {
    "duration": 127,
    "start_time": "2022-01-12T09:13:30.049Z"
   },
   {
    "duration": 8,
    "start_time": "2022-01-12T09:13:30.178Z"
   },
   {
    "duration": 22,
    "start_time": "2022-01-12T09:13:30.187Z"
   },
   {
    "duration": 36,
    "start_time": "2022-01-12T09:13:30.211Z"
   },
   {
    "duration": 110,
    "start_time": "2022-01-12T09:13:30.248Z"
   },
   {
    "duration": 281,
    "start_time": "2022-01-12T09:13:30.079Z"
   },
   {
    "duration": 276,
    "start_time": "2022-01-12T09:13:30.085Z"
   },
   {
    "duration": 276,
    "start_time": "2022-01-12T09:13:30.086Z"
   },
   {
    "duration": 271,
    "start_time": "2022-01-12T09:13:30.092Z"
   },
   {
    "duration": 267,
    "start_time": "2022-01-12T09:13:30.097Z"
   },
   {
    "duration": 266,
    "start_time": "2022-01-12T09:13:30.099Z"
   },
   {
    "duration": 265,
    "start_time": "2022-01-12T09:13:30.101Z"
   },
   {
    "duration": 265,
    "start_time": "2022-01-12T09:13:30.102Z"
   },
   {
    "duration": 263,
    "start_time": "2022-01-12T09:13:30.104Z"
   },
   {
    "duration": 263,
    "start_time": "2022-01-12T09:13:30.105Z"
   },
   {
    "duration": 263,
    "start_time": "2022-01-12T09:13:30.106Z"
   },
   {
    "duration": 262,
    "start_time": "2022-01-12T09:13:30.108Z"
   },
   {
    "duration": 261,
    "start_time": "2022-01-12T09:13:30.109Z"
   },
   {
    "duration": 260,
    "start_time": "2022-01-12T09:13:30.111Z"
   },
   {
    "duration": 255,
    "start_time": "2022-01-12T09:13:30.117Z"
   },
   {
    "duration": 255,
    "start_time": "2022-01-12T09:13:30.118Z"
   },
   {
    "duration": 254,
    "start_time": "2022-01-12T09:13:30.120Z"
   },
   {
    "duration": 253,
    "start_time": "2022-01-12T09:13:30.121Z"
   },
   {
    "duration": 253,
    "start_time": "2022-01-12T09:13:30.122Z"
   },
   {
    "duration": 3,
    "start_time": "2022-01-12T09:18:04.949Z"
   },
   {
    "duration": 169,
    "start_time": "2022-01-12T09:18:04.954Z"
   },
   {
    "duration": 16,
    "start_time": "2022-01-12T09:18:05.125Z"
   },
   {
    "duration": 21,
    "start_time": "2022-01-12T09:18:05.143Z"
   },
   {
    "duration": 29,
    "start_time": "2022-01-12T09:18:05.166Z"
   },
   {
    "duration": 48,
    "start_time": "2022-01-12T09:18:05.197Z"
   },
   {
    "duration": 5,
    "start_time": "2022-01-12T09:18:05.247Z"
   },
   {
    "duration": 64,
    "start_time": "2022-01-12T09:18:05.253Z"
   },
   {
    "duration": 56,
    "start_time": "2022-01-12T09:18:05.320Z"
   },
   {
    "duration": 138,
    "start_time": "2022-01-12T09:18:05.378Z"
   },
   {
    "duration": 9,
    "start_time": "2022-01-12T09:18:05.518Z"
   },
   {
    "duration": 28,
    "start_time": "2022-01-12T09:18:05.529Z"
   },
   {
    "duration": 28,
    "start_time": "2022-01-12T09:18:05.559Z"
   },
   {
    "duration": 21,
    "start_time": "2022-01-12T09:18:05.589Z"
   },
   {
    "duration": 61,
    "start_time": "2022-01-12T09:18:05.612Z"
   },
   {
    "duration": 27,
    "start_time": "2022-01-12T09:18:05.675Z"
   },
   {
    "duration": 105,
    "start_time": "2022-01-12T09:18:05.703Z"
   },
   {
    "duration": 7,
    "start_time": "2022-01-12T09:18:05.809Z"
   },
   {
    "duration": 17,
    "start_time": "2022-01-12T09:18:05.818Z"
   },
   {
    "duration": 17,
    "start_time": "2022-01-12T09:18:05.841Z"
   },
   {
    "duration": 39,
    "start_time": "2022-01-12T09:18:05.860Z"
   },
   {
    "duration": 44,
    "start_time": "2022-01-12T09:18:05.902Z"
   },
   {
    "duration": 17,
    "start_time": "2022-01-12T09:18:05.948Z"
   },
   {
    "duration": 10,
    "start_time": "2022-01-12T09:18:05.967Z"
   },
   {
    "duration": 32,
    "start_time": "2022-01-12T09:18:05.978Z"
   },
   {
    "duration": 12,
    "start_time": "2022-01-12T09:18:06.012Z"
   },
   {
    "duration": 22,
    "start_time": "2022-01-12T09:18:06.027Z"
   },
   {
    "duration": 17,
    "start_time": "2022-01-12T09:18:06.051Z"
   },
   {
    "duration": 5,
    "start_time": "2022-01-12T09:18:06.070Z"
   },
   {
    "duration": 15,
    "start_time": "2022-01-12T09:18:06.076Z"
   },
   {
    "duration": 8,
    "start_time": "2022-01-12T09:18:06.093Z"
   },
   {
    "duration": 16,
    "start_time": "2022-01-12T09:18:06.102Z"
   },
   {
    "duration": 23,
    "start_time": "2022-01-12T09:28:06.620Z"
   },
   {
    "duration": 288,
    "start_time": "2022-01-12T09:31:11.468Z"
   },
   {
    "duration": 72,
    "start_time": "2022-01-12T09:31:34.247Z"
   },
   {
    "duration": 8,
    "start_time": "2022-01-12T09:31:59.497Z"
   },
   {
    "duration": 73,
    "start_time": "2022-01-12T09:36:11.953Z"
   },
   {
    "duration": 9,
    "start_time": "2022-01-12T09:36:13.986Z"
   },
   {
    "duration": 10,
    "start_time": "2022-01-12T09:36:34.629Z"
   },
   {
    "duration": 268,
    "start_time": "2022-01-12T09:42:14.904Z"
   },
   {
    "duration": 1025,
    "start_time": "2022-01-12T09:42:28.150Z"
   },
   {
    "duration": 9,
    "start_time": "2022-01-12T09:42:41.442Z"
   },
   {
    "duration": 989,
    "start_time": "2022-01-12T09:43:34.833Z"
   },
   {
    "duration": 7,
    "start_time": "2022-01-12T09:43:37.337Z"
   },
   {
    "duration": 37,
    "start_time": "2022-01-12T09:46:27.138Z"
   },
   {
    "duration": 8,
    "start_time": "2022-01-12T09:46:38.468Z"
   },
   {
    "duration": 106,
    "start_time": "2022-01-12T09:48:00.176Z"
   },
   {
    "duration": 35,
    "start_time": "2022-01-12T09:48:08.011Z"
   },
   {
    "duration": 8,
    "start_time": "2022-01-12T09:48:12.747Z"
   },
   {
    "duration": 38,
    "start_time": "2022-01-12T09:48:30.366Z"
   },
   {
    "duration": 9,
    "start_time": "2022-01-12T09:48:32.592Z"
   },
   {
    "duration": 116,
    "start_time": "2022-01-12T09:57:22.668Z"
   },
   {
    "duration": 84,
    "start_time": "2022-01-12T09:57:31.416Z"
   },
   {
    "duration": 243,
    "start_time": "2022-01-12T09:57:45.039Z"
   },
   {
    "duration": 12,
    "start_time": "2022-01-12T10:02:56.381Z"
   },
   {
    "duration": 7,
    "start_time": "2022-01-12T10:03:22.283Z"
   },
   {
    "duration": 11,
    "start_time": "2022-01-12T10:03:35.601Z"
   },
   {
    "duration": 71,
    "start_time": "2022-01-12T10:04:06.497Z"
   },
   {
    "duration": 13,
    "start_time": "2022-01-12T10:04:08.119Z"
   },
   {
    "duration": 264,
    "start_time": "2022-01-12T10:05:38.833Z"
   },
   {
    "duration": 44,
    "start_time": "2022-01-12T10:10:11.014Z"
   },
   {
    "duration": 6,
    "start_time": "2022-01-12T10:10:40.199Z"
   },
   {
    "duration": 6,
    "start_time": "2022-01-12T10:10:45.852Z"
   },
   {
    "duration": 9,
    "start_time": "2022-01-12T10:10:56.811Z"
   },
   {
    "duration": 50,
    "start_time": "2022-01-12T10:11:36.226Z"
   },
   {
    "duration": 9,
    "start_time": "2022-01-12T10:11:38.402Z"
   },
   {
    "duration": 4,
    "start_time": "2022-01-12T10:12:50.233Z"
   },
   {
    "duration": 3,
    "start_time": "2022-01-12T10:13:15.865Z"
   },
   {
    "duration": 168,
    "start_time": "2022-01-12T10:13:15.870Z"
   },
   {
    "duration": 9,
    "start_time": "2022-01-12T10:13:16.041Z"
   },
   {
    "duration": 27,
    "start_time": "2022-01-12T10:13:16.052Z"
   },
   {
    "duration": 31,
    "start_time": "2022-01-12T10:13:16.082Z"
   },
   {
    "duration": 54,
    "start_time": "2022-01-12T10:13:16.114Z"
   },
   {
    "duration": 4,
    "start_time": "2022-01-12T10:13:16.171Z"
   },
   {
    "duration": 89,
    "start_time": "2022-01-12T10:13:16.178Z"
   },
   {
    "duration": 48,
    "start_time": "2022-01-12T10:13:16.268Z"
   },
   {
    "duration": 133,
    "start_time": "2022-01-12T10:13:16.318Z"
   },
   {
    "duration": 9,
    "start_time": "2022-01-12T10:13:16.452Z"
   },
   {
    "duration": 27,
    "start_time": "2022-01-12T10:13:16.462Z"
   },
   {
    "duration": 51,
    "start_time": "2022-01-12T10:13:16.491Z"
   },
   {
    "duration": 20,
    "start_time": "2022-01-12T10:13:16.544Z"
   },
   {
    "duration": 44,
    "start_time": "2022-01-12T10:13:16.566Z"
   },
   {
    "duration": 5,
    "start_time": "2022-01-12T10:13:16.612Z"
   },
   {
    "duration": 28,
    "start_time": "2022-01-12T10:13:16.619Z"
   },
   {
    "duration": 36,
    "start_time": "2022-01-12T10:13:16.649Z"
   },
   {
    "duration": 110,
    "start_time": "2022-01-12T10:13:16.689Z"
   },
   {
    "duration": 8,
    "start_time": "2022-01-12T10:13:16.801Z"
   },
   {
    "duration": 29,
    "start_time": "2022-01-12T10:13:16.810Z"
   },
   {
    "duration": 34,
    "start_time": "2022-01-12T10:13:16.840Z"
   },
   {
    "duration": 38,
    "start_time": "2022-01-12T10:13:16.876Z"
   },
   {
    "duration": 36,
    "start_time": "2022-01-12T10:13:16.916Z"
   },
   {
    "duration": 17,
    "start_time": "2022-01-12T10:13:16.954Z"
   },
   {
    "duration": 19,
    "start_time": "2022-01-12T10:13:16.973Z"
   },
   {
    "duration": 45,
    "start_time": "2022-01-12T10:13:16.994Z"
   },
   {
    "duration": 17,
    "start_time": "2022-01-12T10:13:17.041Z"
   },
   {
    "duration": 22,
    "start_time": "2022-01-12T10:13:17.060Z"
   },
   {
    "duration": 46,
    "start_time": "2022-01-12T10:13:17.084Z"
   },
   {
    "duration": 24,
    "start_time": "2022-01-12T10:13:17.132Z"
   },
   {
    "duration": 46,
    "start_time": "2022-01-12T10:13:17.158Z"
   },
   {
    "duration": 59,
    "start_time": "2022-01-12T10:13:17.206Z"
   },
   {
    "duration": 12,
    "start_time": "2022-01-12T10:13:17.266Z"
   },
   {
    "duration": 162,
    "start_time": "2022-01-12T10:13:17.280Z"
   },
   {
    "duration": 361,
    "start_time": "2022-01-12T10:13:17.083Z"
   },
   {
    "duration": 360,
    "start_time": "2022-01-12T10:13:17.085Z"
   },
   {
    "duration": 352,
    "start_time": "2022-01-12T10:13:17.094Z"
   },
   {
    "duration": 351,
    "start_time": "2022-01-12T10:13:17.096Z"
   },
   {
    "duration": 349,
    "start_time": "2022-01-12T10:13:17.099Z"
   },
   {
    "duration": 344,
    "start_time": "2022-01-12T10:13:17.105Z"
   },
   {
    "duration": 343,
    "start_time": "2022-01-12T10:13:17.107Z"
   },
   {
    "duration": 3,
    "start_time": "2022-01-12T10:16:48.911Z"
   },
   {
    "duration": 160,
    "start_time": "2022-01-12T10:16:48.915Z"
   },
   {
    "duration": 7,
    "start_time": "2022-01-12T10:16:49.077Z"
   },
   {
    "duration": 22,
    "start_time": "2022-01-12T10:16:49.086Z"
   },
   {
    "duration": 44,
    "start_time": "2022-01-12T10:16:49.110Z"
   },
   {
    "duration": 26,
    "start_time": "2022-01-12T10:16:49.156Z"
   },
   {
    "duration": 5,
    "start_time": "2022-01-12T10:16:49.184Z"
   },
   {
    "duration": 79,
    "start_time": "2022-01-12T10:16:49.190Z"
   },
   {
    "duration": 34,
    "start_time": "2022-01-12T10:16:49.271Z"
   },
   {
    "duration": 127,
    "start_time": "2022-01-12T10:16:49.307Z"
   },
   {
    "duration": 12,
    "start_time": "2022-01-12T10:16:49.435Z"
   },
   {
    "duration": 21,
    "start_time": "2022-01-12T10:16:49.448Z"
   },
   {
    "duration": 27,
    "start_time": "2022-01-12T10:16:49.471Z"
   },
   {
    "duration": 41,
    "start_time": "2022-01-12T10:16:49.500Z"
   },
   {
    "duration": 62,
    "start_time": "2022-01-12T10:16:49.543Z"
   },
   {
    "duration": 8,
    "start_time": "2022-01-12T10:16:49.607Z"
   },
   {
    "duration": 17,
    "start_time": "2022-01-12T10:16:49.617Z"
   },
   {
    "duration": 30,
    "start_time": "2022-01-12T10:16:49.642Z"
   },
   {
    "duration": 102,
    "start_time": "2022-01-12T10:16:49.675Z"
   },
   {
    "duration": 7,
    "start_time": "2022-01-12T10:16:49.780Z"
   },
   {
    "duration": 17,
    "start_time": "2022-01-12T10:16:49.789Z"
   },
   {
    "duration": 36,
    "start_time": "2022-01-12T10:16:49.808Z"
   },
   {
    "duration": 38,
    "start_time": "2022-01-12T10:16:49.846Z"
   },
   {
    "duration": 24,
    "start_time": "2022-01-12T10:16:49.886Z"
   },
   {
    "duration": 30,
    "start_time": "2022-01-12T10:16:49.912Z"
   },
   {
    "duration": 8,
    "start_time": "2022-01-12T10:16:49.944Z"
   },
   {
    "duration": 33,
    "start_time": "2022-01-12T10:16:49.953Z"
   },
   {
    "duration": 9,
    "start_time": "2022-01-12T10:16:49.988Z"
   },
   {
    "duration": 11,
    "start_time": "2022-01-12T10:16:49.999Z"
   },
   {
    "duration": 19,
    "start_time": "2022-01-12T10:16:50.011Z"
   },
   {
    "duration": 20,
    "start_time": "2022-01-12T10:16:50.031Z"
   },
   {
    "duration": 14,
    "start_time": "2022-01-12T10:16:50.053Z"
   },
   {
    "duration": 14,
    "start_time": "2022-01-12T10:16:50.069Z"
   },
   {
    "duration": 11,
    "start_time": "2022-01-12T10:16:50.085Z"
   },
   {
    "duration": 253,
    "start_time": "2022-01-12T10:16:50.098Z"
   },
   {
    "duration": 344,
    "start_time": "2022-01-12T10:16:50.009Z"
   },
   {
    "duration": 320,
    "start_time": "2022-01-12T10:16:50.034Z"
   },
   {
    "duration": 317,
    "start_time": "2022-01-12T10:16:50.038Z"
   },
   {
    "duration": 316,
    "start_time": "2022-01-12T10:16:50.040Z"
   },
   {
    "duration": 316,
    "start_time": "2022-01-12T10:16:50.041Z"
   },
   {
    "duration": 316,
    "start_time": "2022-01-12T10:16:50.042Z"
   },
   {
    "duration": 315,
    "start_time": "2022-01-12T10:16:50.043Z"
   },
   {
    "duration": 3,
    "start_time": "2022-01-12T10:17:33.467Z"
   },
   {
    "duration": 193,
    "start_time": "2022-01-12T10:17:33.471Z"
   },
   {
    "duration": 8,
    "start_time": "2022-01-12T10:17:33.666Z"
   },
   {
    "duration": 40,
    "start_time": "2022-01-12T10:17:33.676Z"
   },
   {
    "duration": 30,
    "start_time": "2022-01-12T10:17:33.718Z"
   },
   {
    "duration": 43,
    "start_time": "2022-01-12T10:17:33.750Z"
   },
   {
    "duration": 9,
    "start_time": "2022-01-12T10:17:33.795Z"
   },
   {
    "duration": 93,
    "start_time": "2022-01-12T10:17:33.807Z"
   },
   {
    "duration": 45,
    "start_time": "2022-01-12T10:17:33.902Z"
   },
   {
    "duration": 130,
    "start_time": "2022-01-12T10:17:33.948Z"
   },
   {
    "duration": 8,
    "start_time": "2022-01-12T10:17:34.080Z"
   },
   {
    "duration": 45,
    "start_time": "2022-01-12T10:17:34.090Z"
   },
   {
    "duration": 44,
    "start_time": "2022-01-12T10:17:34.137Z"
   },
   {
    "duration": 32,
    "start_time": "2022-01-12T10:17:34.183Z"
   },
   {
    "duration": 66,
    "start_time": "2022-01-12T10:17:34.217Z"
   },
   {
    "duration": 12,
    "start_time": "2022-01-12T10:17:34.286Z"
   },
   {
    "duration": 54,
    "start_time": "2022-01-12T10:17:34.300Z"
   },
   {
    "duration": 101,
    "start_time": "2022-01-12T10:17:34.356Z"
   },
   {
    "duration": 113,
    "start_time": "2022-01-12T10:17:34.459Z"
   },
   {
    "duration": 11,
    "start_time": "2022-01-12T10:17:34.574Z"
   },
   {
    "duration": 51,
    "start_time": "2022-01-12T10:17:34.587Z"
   },
   {
    "duration": 39,
    "start_time": "2022-01-12T10:17:34.640Z"
   },
   {
    "duration": 48,
    "start_time": "2022-01-12T10:17:34.683Z"
   },
   {
    "duration": 48,
    "start_time": "2022-01-12T10:17:34.733Z"
   },
   {
    "duration": 18,
    "start_time": "2022-01-12T10:17:34.783Z"
   },
   {
    "duration": 44,
    "start_time": "2022-01-12T10:17:34.803Z"
   },
   {
    "duration": 43,
    "start_time": "2022-01-12T10:17:34.848Z"
   },
   {
    "duration": 45,
    "start_time": "2022-01-12T10:17:34.893Z"
   },
   {
    "duration": 28,
    "start_time": "2022-01-12T10:17:34.939Z"
   },
   {
    "duration": 40,
    "start_time": "2022-01-12T10:17:34.968Z"
   },
   {
    "duration": 47,
    "start_time": "2022-01-12T10:17:35.010Z"
   },
   {
    "duration": 19,
    "start_time": "2022-01-12T10:17:35.059Z"
   },
   {
    "duration": 37,
    "start_time": "2022-01-12T10:17:35.080Z"
   },
   {
    "duration": 24,
    "start_time": "2022-01-12T10:17:35.119Z"
   },
   {
    "duration": 1320,
    "start_time": "2022-01-12T10:17:35.145Z"
   },
   {
    "duration": 352,
    "start_time": "2022-01-12T10:17:36.115Z"
   },
   {
    "duration": 351,
    "start_time": "2022-01-12T10:17:36.117Z"
   },
   {
    "duration": 351,
    "start_time": "2022-01-12T10:17:36.118Z"
   },
   {
    "duration": 351,
    "start_time": "2022-01-12T10:17:36.119Z"
   },
   {
    "duration": 351,
    "start_time": "2022-01-12T10:17:36.120Z"
   },
   {
    "duration": 351,
    "start_time": "2022-01-12T10:17:36.121Z"
   },
   {
    "duration": 351,
    "start_time": "2022-01-12T10:17:36.122Z"
   },
   {
    "duration": 1416,
    "start_time": "2022-01-12T10:18:41.700Z"
   },
   {
    "duration": 9,
    "start_time": "2022-01-12T10:18:43.214Z"
   },
   {
    "duration": 3,
    "start_time": "2022-01-12T10:18:50.499Z"
   },
   {
    "duration": 152,
    "start_time": "2022-01-12T10:18:50.504Z"
   },
   {
    "duration": 8,
    "start_time": "2022-01-12T10:18:50.658Z"
   },
   {
    "duration": 24,
    "start_time": "2022-01-12T10:18:50.668Z"
   },
   {
    "duration": 29,
    "start_time": "2022-01-12T10:18:50.694Z"
   },
   {
    "duration": 29,
    "start_time": "2022-01-12T10:18:50.742Z"
   },
   {
    "duration": 4,
    "start_time": "2022-01-12T10:18:50.773Z"
   },
   {
    "duration": 98,
    "start_time": "2022-01-12T10:18:50.780Z"
   },
   {
    "duration": 39,
    "start_time": "2022-01-12T10:18:50.881Z"
   },
   {
    "duration": 148,
    "start_time": "2022-01-12T10:18:50.921Z"
   },
   {
    "duration": 10,
    "start_time": "2022-01-12T10:18:51.070Z"
   },
   {
    "duration": 19,
    "start_time": "2022-01-12T10:18:51.082Z"
   },
   {
    "duration": 54,
    "start_time": "2022-01-12T10:18:51.103Z"
   },
   {
    "duration": 23,
    "start_time": "2022-01-12T10:18:51.159Z"
   },
   {
    "duration": 69,
    "start_time": "2022-01-12T10:18:51.184Z"
   },
   {
    "duration": 6,
    "start_time": "2022-01-12T10:18:51.255Z"
   },
   {
    "duration": 15,
    "start_time": "2022-01-12T10:18:51.262Z"
   },
   {
    "duration": 31,
    "start_time": "2022-01-12T10:18:51.279Z"
   },
   {
    "duration": 111,
    "start_time": "2022-01-12T10:18:51.312Z"
   },
   {
    "duration": 17,
    "start_time": "2022-01-12T10:18:51.425Z"
   },
   {
    "duration": 15,
    "start_time": "2022-01-12T10:18:51.444Z"
   },
   {
    "duration": 21,
    "start_time": "2022-01-12T10:18:51.461Z"
   },
   {
    "duration": 56,
    "start_time": "2022-01-12T10:18:51.485Z"
   },
   {
    "duration": 24,
    "start_time": "2022-01-12T10:18:51.544Z"
   },
   {
    "duration": 6,
    "start_time": "2022-01-12T10:18:51.569Z"
   },
   {
    "duration": 11,
    "start_time": "2022-01-12T10:18:51.576Z"
   },
   {
    "duration": 10,
    "start_time": "2022-01-12T10:18:51.589Z"
   },
   {
    "duration": 11,
    "start_time": "2022-01-12T10:18:51.601Z"
   },
   {
    "duration": 31,
    "start_time": "2022-01-12T10:18:51.614Z"
   },
   {
    "duration": 14,
    "start_time": "2022-01-12T10:18:51.647Z"
   },
   {
    "duration": 7,
    "start_time": "2022-01-12T10:18:51.663Z"
   },
   {
    "duration": 10,
    "start_time": "2022-01-12T10:18:51.671Z"
   },
   {
    "duration": 9,
    "start_time": "2022-01-12T10:18:51.683Z"
   },
   {
    "duration": 12,
    "start_time": "2022-01-12T10:18:51.693Z"
   },
   {
    "duration": 2213,
    "start_time": "2022-01-12T10:18:51.706Z"
   },
   {
    "duration": 342,
    "start_time": "2022-01-12T10:18:53.579Z"
   },
   {
    "duration": 341,
    "start_time": "2022-01-12T10:18:53.581Z"
   },
   {
    "duration": 340,
    "start_time": "2022-01-12T10:18:53.583Z"
   },
   {
    "duration": 339,
    "start_time": "2022-01-12T10:18:53.585Z"
   },
   {
    "duration": 339,
    "start_time": "2022-01-12T10:18:53.586Z"
   },
   {
    "duration": 338,
    "start_time": "2022-01-12T10:18:53.588Z"
   },
   {
    "duration": 337,
    "start_time": "2022-01-12T10:18:53.590Z"
   },
   {
    "duration": 3,
    "start_time": "2022-01-12T10:19:19.147Z"
   },
   {
    "duration": 176,
    "start_time": "2022-01-12T10:19:19.151Z"
   },
   {
    "duration": 12,
    "start_time": "2022-01-12T10:19:19.329Z"
   },
   {
    "duration": 35,
    "start_time": "2022-01-12T10:19:19.343Z"
   },
   {
    "duration": 33,
    "start_time": "2022-01-12T10:19:19.380Z"
   },
   {
    "duration": 25,
    "start_time": "2022-01-12T10:19:19.414Z"
   },
   {
    "duration": 7,
    "start_time": "2022-01-12T10:19:19.441Z"
   },
   {
    "duration": 82,
    "start_time": "2022-01-12T10:19:19.451Z"
   },
   {
    "duration": 44,
    "start_time": "2022-01-12T10:19:19.537Z"
   },
   {
    "duration": 137,
    "start_time": "2022-01-12T10:19:19.583Z"
   },
   {
    "duration": 9,
    "start_time": "2022-01-12T10:19:19.722Z"
   },
   {
    "duration": 37,
    "start_time": "2022-01-12T10:19:19.732Z"
   },
   {
    "duration": 27,
    "start_time": "2022-01-12T10:19:19.771Z"
   },
   {
    "duration": 20,
    "start_time": "2022-01-12T10:19:19.799Z"
   },
   {
    "duration": 58,
    "start_time": "2022-01-12T10:19:19.821Z"
   },
   {
    "duration": 15,
    "start_time": "2022-01-12T10:19:19.881Z"
   },
   {
    "duration": 29,
    "start_time": "2022-01-12T10:19:19.898Z"
   },
   {
    "duration": 43,
    "start_time": "2022-01-12T10:19:19.929Z"
   },
   {
    "duration": 96,
    "start_time": "2022-01-12T10:19:19.974Z"
   },
   {
    "duration": 7,
    "start_time": "2022-01-12T10:19:20.072Z"
   },
   {
    "duration": 38,
    "start_time": "2022-01-12T10:19:20.081Z"
   },
   {
    "duration": 32,
    "start_time": "2022-01-12T10:19:20.121Z"
   },
   {
    "duration": 36,
    "start_time": "2022-01-12T10:19:20.157Z"
   },
   {
    "duration": 23,
    "start_time": "2022-01-12T10:19:20.196Z"
   },
   {
    "duration": 22,
    "start_time": "2022-01-12T10:19:20.221Z"
   },
   {
    "duration": 38,
    "start_time": "2022-01-12T10:19:20.246Z"
   },
   {
    "duration": 52,
    "start_time": "2022-01-12T10:19:20.286Z"
   },
   {
    "duration": 27,
    "start_time": "2022-01-12T10:19:20.340Z"
   },
   {
    "duration": 22,
    "start_time": "2022-01-12T10:19:20.369Z"
   },
   {
    "duration": 27,
    "start_time": "2022-01-12T10:19:20.393Z"
   },
   {
    "duration": 14,
    "start_time": "2022-01-12T10:19:20.421Z"
   },
   {
    "duration": 11,
    "start_time": "2022-01-12T10:19:20.437Z"
   },
   {
    "duration": 28,
    "start_time": "2022-01-12T10:19:20.450Z"
   },
   {
    "duration": 25,
    "start_time": "2022-01-12T10:19:20.479Z"
   },
   {
    "duration": 1225,
    "start_time": "2022-01-12T10:19:20.506Z"
   },
   {
    "duration": 13,
    "start_time": "2022-01-12T10:19:21.733Z"
   },
   {
    "duration": 966,
    "start_time": "2022-01-12T10:19:21.747Z"
   },
   {
    "duration": 7,
    "start_time": "2022-01-12T10:19:22.715Z"
   },
   {
    "duration": 41,
    "start_time": "2022-01-12T10:19:22.723Z"
   },
   {
    "duration": 9,
    "start_time": "2022-01-12T10:19:22.766Z"
   },
   {
    "duration": 383,
    "start_time": "2022-01-12T10:19:22.776Z"
   },
   {
    "duration": 344,
    "start_time": "2022-01-12T10:19:22.817Z"
   },
   {
    "duration": 124,
    "start_time": "2022-01-12T10:20:43.433Z"
   },
   {
    "duration": 12,
    "start_time": "2022-01-12T10:20:44.846Z"
   },
   {
    "duration": 3,
    "start_time": "2022-01-12T10:20:47.579Z"
   },
   {
    "duration": 151,
    "start_time": "2022-01-12T10:20:47.584Z"
   },
   {
    "duration": 8,
    "start_time": "2022-01-12T10:20:47.737Z"
   },
   {
    "duration": 23,
    "start_time": "2022-01-12T10:20:47.746Z"
   },
   {
    "duration": 25,
    "start_time": "2022-01-12T10:20:47.770Z"
   },
   {
    "duration": 24,
    "start_time": "2022-01-12T10:20:47.797Z"
   },
   {
    "duration": 4,
    "start_time": "2022-01-12T10:20:47.842Z"
   },
   {
    "duration": 61,
    "start_time": "2022-01-12T10:20:47.849Z"
   },
   {
    "duration": 55,
    "start_time": "2022-01-12T10:20:47.912Z"
   },
   {
    "duration": 129,
    "start_time": "2022-01-12T10:20:47.969Z"
   },
   {
    "duration": 9,
    "start_time": "2022-01-12T10:20:48.099Z"
   },
   {
    "duration": 40,
    "start_time": "2022-01-12T10:20:48.110Z"
   },
   {
    "duration": 39,
    "start_time": "2022-01-12T10:20:48.152Z"
   },
   {
    "duration": 30,
    "start_time": "2022-01-12T10:20:48.193Z"
   },
   {
    "duration": 69,
    "start_time": "2022-01-12T10:20:48.242Z"
   },
   {
    "duration": 6,
    "start_time": "2022-01-12T10:20:48.313Z"
   },
   {
    "duration": 25,
    "start_time": "2022-01-12T10:20:48.321Z"
   },
   {
    "duration": 42,
    "start_time": "2022-01-12T10:20:48.348Z"
   },
   {
    "duration": 126,
    "start_time": "2022-01-12T10:20:48.392Z"
   },
   {
    "duration": 9,
    "start_time": "2022-01-12T10:20:48.520Z"
   },
   {
    "duration": 30,
    "start_time": "2022-01-12T10:20:48.531Z"
   },
   {
    "duration": 19,
    "start_time": "2022-01-12T10:20:48.563Z"
   },
   {
    "duration": 56,
    "start_time": "2022-01-12T10:20:48.586Z"
   },
   {
    "duration": 22,
    "start_time": "2022-01-12T10:20:48.644Z"
   },
   {
    "duration": 17,
    "start_time": "2022-01-12T10:20:48.668Z"
   },
   {
    "duration": 11,
    "start_time": "2022-01-12T10:20:48.687Z"
   },
   {
    "duration": 31,
    "start_time": "2022-01-12T10:20:48.700Z"
   },
   {
    "duration": 13,
    "start_time": "2022-01-12T10:20:48.732Z"
   },
   {
    "duration": 9,
    "start_time": "2022-01-12T10:20:48.747Z"
   },
   {
    "duration": 15,
    "start_time": "2022-01-12T10:20:48.758Z"
   },
   {
    "duration": 12,
    "start_time": "2022-01-12T10:20:48.774Z"
   },
   {
    "duration": 7,
    "start_time": "2022-01-12T10:20:48.787Z"
   },
   {
    "duration": 7,
    "start_time": "2022-01-12T10:20:48.795Z"
   },
   {
    "duration": 10,
    "start_time": "2022-01-12T10:20:48.804Z"
   },
   {
    "duration": 102,
    "start_time": "2022-01-12T10:20:48.816Z"
   },
   {
    "duration": 8,
    "start_time": "2022-01-12T10:20:48.919Z"
   },
   {
    "duration": 1071,
    "start_time": "2022-01-12T10:20:48.929Z"
   },
   {
    "duration": 6,
    "start_time": "2022-01-12T10:20:50.002Z"
   },
   {
    "duration": 41,
    "start_time": "2022-01-12T10:20:50.010Z"
   },
   {
    "duration": 8,
    "start_time": "2022-01-12T10:20:50.053Z"
   },
   {
    "duration": 251,
    "start_time": "2022-01-12T10:20:50.063Z"
   },
   {
    "duration": 384,
    "start_time": "2022-01-12T10:20:49.933Z"
   },
   {
    "duration": 28,
    "start_time": "2022-01-12T10:21:18.135Z"
   },
   {
    "duration": 7,
    "start_time": "2022-01-12T10:21:19.414Z"
   },
   {
    "duration": 5,
    "start_time": "2022-01-12T10:24:18.184Z"
   },
   {
    "duration": 8,
    "start_time": "2022-01-12T10:24:20.057Z"
   },
   {
    "duration": 4,
    "start_time": "2022-01-12T10:24:49.166Z"
   },
   {
    "duration": 9,
    "start_time": "2022-01-12T10:24:50.285Z"
   },
   {
    "duration": 31,
    "start_time": "2022-01-12T10:25:45.329Z"
   },
   {
    "duration": 7,
    "start_time": "2022-01-12T10:25:45.981Z"
   },
   {
    "duration": 3,
    "start_time": "2022-01-12T10:26:00.741Z"
   },
   {
    "duration": 186,
    "start_time": "2022-01-12T10:26:00.745Z"
   },
   {
    "duration": 9,
    "start_time": "2022-01-12T10:26:00.933Z"
   },
   {
    "duration": 39,
    "start_time": "2022-01-12T10:26:00.944Z"
   },
   {
    "duration": 42,
    "start_time": "2022-01-12T10:26:00.985Z"
   },
   {
    "duration": 29,
    "start_time": "2022-01-12T10:26:01.028Z"
   },
   {
    "duration": 4,
    "start_time": "2022-01-12T10:26:01.059Z"
   },
   {
    "duration": 81,
    "start_time": "2022-01-12T10:26:01.065Z"
   },
   {
    "duration": 44,
    "start_time": "2022-01-12T10:26:01.149Z"
   },
   {
    "duration": 146,
    "start_time": "2022-01-12T10:26:01.195Z"
   },
   {
    "duration": 8,
    "start_time": "2022-01-12T10:26:01.343Z"
   },
   {
    "duration": 42,
    "start_time": "2022-01-12T10:26:01.353Z"
   },
   {
    "duration": 36,
    "start_time": "2022-01-12T10:26:01.397Z"
   },
   {
    "duration": 25,
    "start_time": "2022-01-12T10:26:01.435Z"
   },
   {
    "duration": 49,
    "start_time": "2022-01-12T10:26:01.462Z"
   },
   {
    "duration": 26,
    "start_time": "2022-01-12T10:26:01.513Z"
   },
   {
    "duration": 29,
    "start_time": "2022-01-12T10:26:01.541Z"
   },
   {
    "duration": 72,
    "start_time": "2022-01-12T10:26:01.572Z"
   },
   {
    "duration": 102,
    "start_time": "2022-01-12T10:26:01.646Z"
   },
   {
    "duration": 7,
    "start_time": "2022-01-12T10:26:01.749Z"
   },
   {
    "duration": 22,
    "start_time": "2022-01-12T10:26:01.758Z"
   },
   {
    "duration": 22,
    "start_time": "2022-01-12T10:26:01.782Z"
   },
   {
    "duration": 54,
    "start_time": "2022-01-12T10:26:01.806Z"
   },
   {
    "duration": 39,
    "start_time": "2022-01-12T10:26:01.862Z"
   },
   {
    "duration": 17,
    "start_time": "2022-01-12T10:26:01.903Z"
   },
   {
    "duration": 12,
    "start_time": "2022-01-12T10:26:01.922Z"
   },
   {
    "duration": 43,
    "start_time": "2022-01-12T10:26:01.937Z"
   },
   {
    "duration": 13,
    "start_time": "2022-01-12T10:26:01.982Z"
   },
   {
    "duration": 17,
    "start_time": "2022-01-12T10:26:01.996Z"
   },
   {
    "duration": 22,
    "start_time": "2022-01-12T10:26:02.015Z"
   },
   {
    "duration": 14,
    "start_time": "2022-01-12T10:26:02.039Z"
   },
   {
    "duration": 7,
    "start_time": "2022-01-12T10:26:02.055Z"
   },
   {
    "duration": 6,
    "start_time": "2022-01-12T10:26:02.064Z"
   },
   {
    "duration": 16,
    "start_time": "2022-01-12T10:26:02.072Z"
   },
   {
    "duration": 101,
    "start_time": "2022-01-12T10:26:02.090Z"
   },
   {
    "duration": 7,
    "start_time": "2022-01-12T10:26:02.194Z"
   },
   {
    "duration": 1070,
    "start_time": "2022-01-12T10:26:02.203Z"
   },
   {
    "duration": 8,
    "start_time": "2022-01-12T10:26:03.274Z"
   },
   {
    "duration": 36,
    "start_time": "2022-01-12T10:26:03.284Z"
   },
   {
    "duration": 23,
    "start_time": "2022-01-12T10:26:03.322Z"
   },
   {
    "duration": 257,
    "start_time": "2022-01-12T10:26:03.347Z"
   },
   {
    "duration": 343,
    "start_time": "2022-01-12T10:26:03.262Z"
   },
   {
    "duration": 7535,
    "start_time": "2022-01-12T10:27:47.381Z"
   },
   {
    "duration": 324,
    "start_time": "2022-01-12T10:27:54.594Z"
   },
   {
    "duration": 296,
    "start_time": "2022-01-12T10:28:19.325Z"
   },
   {
    "duration": 39,
    "start_time": "2022-01-12T10:28:47.582Z"
   },
   {
    "duration": 13,
    "start_time": "2022-01-12T10:28:49.784Z"
   },
   {
    "duration": 2,
    "start_time": "2022-01-12T10:29:40.681Z"
   },
   {
    "duration": 160,
    "start_time": "2022-01-12T10:29:40.685Z"
   },
   {
    "duration": 7,
    "start_time": "2022-01-12T10:29:40.847Z"
   },
   {
    "duration": 28,
    "start_time": "2022-01-12T10:29:40.855Z"
   },
   {
    "duration": 26,
    "start_time": "2022-01-12T10:29:40.884Z"
   },
   {
    "duration": 38,
    "start_time": "2022-01-12T10:29:40.911Z"
   },
   {
    "duration": 5,
    "start_time": "2022-01-12T10:29:40.950Z"
   },
   {
    "duration": 59,
    "start_time": "2022-01-12T10:29:40.957Z"
   },
   {
    "duration": 51,
    "start_time": "2022-01-12T10:29:41.019Z"
   },
   {
    "duration": 128,
    "start_time": "2022-01-12T10:29:41.073Z"
   },
   {
    "duration": 7,
    "start_time": "2022-01-12T10:29:41.203Z"
   },
   {
    "duration": 19,
    "start_time": "2022-01-12T10:29:41.212Z"
   },
   {
    "duration": 26,
    "start_time": "2022-01-12T10:29:41.241Z"
   },
   {
    "duration": 21,
    "start_time": "2022-01-12T10:29:41.269Z"
   },
   {
    "duration": 66,
    "start_time": "2022-01-12T10:29:41.291Z"
   },
   {
    "duration": 3,
    "start_time": "2022-01-12T10:29:41.358Z"
   },
   {
    "duration": 14,
    "start_time": "2022-01-12T10:29:41.363Z"
   },
   {
    "duration": 29,
    "start_time": "2022-01-12T10:29:41.379Z"
   },
   {
    "duration": 104,
    "start_time": "2022-01-12T10:29:41.410Z"
   },
   {
    "duration": 7,
    "start_time": "2022-01-12T10:29:41.516Z"
   },
   {
    "duration": 29,
    "start_time": "2022-01-12T10:29:41.526Z"
   },
   {
    "duration": 18,
    "start_time": "2022-01-12T10:29:41.557Z"
   },
   {
    "duration": 38,
    "start_time": "2022-01-12T10:29:41.577Z"
   },
   {
    "duration": 45,
    "start_time": "2022-01-12T10:29:41.617Z"
   },
   {
    "duration": 19,
    "start_time": "2022-01-12T10:29:41.664Z"
   },
   {
    "duration": 14,
    "start_time": "2022-01-12T10:29:41.684Z"
   },
   {
    "duration": 31,
    "start_time": "2022-01-12T10:29:41.701Z"
   },
   {
    "duration": 13,
    "start_time": "2022-01-12T10:29:41.734Z"
   },
   {
    "duration": 16,
    "start_time": "2022-01-12T10:29:41.749Z"
   },
   {
    "duration": 20,
    "start_time": "2022-01-12T10:29:41.766Z"
   },
   {
    "duration": 13,
    "start_time": "2022-01-12T10:29:41.788Z"
   },
   {
    "duration": 13,
    "start_time": "2022-01-12T10:29:41.803Z"
   },
   {
    "duration": 7,
    "start_time": "2022-01-12T10:29:41.818Z"
   },
   {
    "duration": 10,
    "start_time": "2022-01-12T10:29:41.827Z"
   },
   {
    "duration": 89,
    "start_time": "2022-01-12T10:29:41.838Z"
   },
   {
    "duration": 8,
    "start_time": "2022-01-12T10:29:41.929Z"
   },
   {
    "duration": 984,
    "start_time": "2022-01-12T10:29:41.941Z"
   },
   {
    "duration": 7,
    "start_time": "2022-01-12T10:29:42.927Z"
   },
   {
    "duration": 40,
    "start_time": "2022-01-12T10:29:42.941Z"
   },
   {
    "duration": 8,
    "start_time": "2022-01-12T10:29:42.982Z"
   },
   {
    "duration": 244,
    "start_time": "2022-01-12T10:29:42.992Z"
   },
   {
    "duration": 347,
    "start_time": "2022-01-12T10:29:42.890Z"
   },
   {
    "duration": 249,
    "start_time": "2022-01-12T10:31:47.502Z"
   },
   {
    "duration": 6,
    "start_time": "2022-01-12T10:33:01.200Z"
   },
   {
    "duration": 70,
    "start_time": "2022-01-12T10:33:02.774Z"
   },
   {
    "duration": 2,
    "start_time": "2022-01-12T10:33:07.303Z"
   },
   {
    "duration": 157,
    "start_time": "2022-01-12T10:33:07.307Z"
   },
   {
    "duration": 8,
    "start_time": "2022-01-12T10:33:07.466Z"
   },
   {
    "duration": 34,
    "start_time": "2022-01-12T10:33:07.476Z"
   },
   {
    "duration": 34,
    "start_time": "2022-01-12T10:33:07.511Z"
   },
   {
    "duration": 26,
    "start_time": "2022-01-12T10:33:07.547Z"
   },
   {
    "duration": 5,
    "start_time": "2022-01-12T10:33:07.574Z"
   },
   {
    "duration": 73,
    "start_time": "2022-01-12T10:33:07.580Z"
   },
   {
    "duration": 43,
    "start_time": "2022-01-12T10:33:07.656Z"
   },
   {
    "duration": 129,
    "start_time": "2022-01-12T10:33:07.701Z"
   },
   {
    "duration": 11,
    "start_time": "2022-01-12T10:33:07.831Z"
   },
   {
    "duration": 17,
    "start_time": "2022-01-12T10:33:07.844Z"
   },
   {
    "duration": 25,
    "start_time": "2022-01-12T10:33:07.863Z"
   },
   {
    "duration": 18,
    "start_time": "2022-01-12T10:33:07.890Z"
   },
   {
    "duration": 72,
    "start_time": "2022-01-12T10:33:07.909Z"
   },
   {
    "duration": 10,
    "start_time": "2022-01-12T10:33:07.983Z"
   },
   {
    "duration": 16,
    "start_time": "2022-01-12T10:33:07.995Z"
   },
   {
    "duration": 33,
    "start_time": "2022-01-12T10:33:08.013Z"
   },
   {
    "duration": 89,
    "start_time": "2022-01-12T10:33:08.047Z"
   },
   {
    "duration": 7,
    "start_time": "2022-01-12T10:33:08.137Z"
   },
   {
    "duration": 30,
    "start_time": "2022-01-12T10:33:08.146Z"
   },
   {
    "duration": 27,
    "start_time": "2022-01-12T10:33:08.178Z"
   },
   {
    "duration": 41,
    "start_time": "2022-01-12T10:33:08.208Z"
   },
   {
    "duration": 26,
    "start_time": "2022-01-12T10:33:08.251Z"
   },
   {
    "duration": 31,
    "start_time": "2022-01-12T10:33:08.279Z"
   },
   {
    "duration": 38,
    "start_time": "2022-01-12T10:33:08.312Z"
   },
   {
    "duration": 49,
    "start_time": "2022-01-12T10:33:08.353Z"
   },
   {
    "duration": 28,
    "start_time": "2022-01-12T10:33:08.403Z"
   },
   {
    "duration": 22,
    "start_time": "2022-01-12T10:33:08.432Z"
   },
   {
    "duration": 34,
    "start_time": "2022-01-12T10:33:08.456Z"
   },
   {
    "duration": 34,
    "start_time": "2022-01-12T10:33:08.492Z"
   },
   {
    "duration": 13,
    "start_time": "2022-01-12T10:33:08.527Z"
   },
   {
    "duration": 18,
    "start_time": "2022-01-12T10:33:08.542Z"
   },
   {
    "duration": 12,
    "start_time": "2022-01-12T10:33:08.562Z"
   },
   {
    "duration": 90,
    "start_time": "2022-01-12T10:33:08.575Z"
   },
   {
    "duration": 8,
    "start_time": "2022-01-12T10:33:08.667Z"
   },
   {
    "duration": 1098,
    "start_time": "2022-01-12T10:33:08.676Z"
   },
   {
    "duration": 7,
    "start_time": "2022-01-12T10:33:09.776Z"
   },
   {
    "duration": 35,
    "start_time": "2022-01-12T10:33:09.785Z"
   },
   {
    "duration": 22,
    "start_time": "2022-01-12T10:33:09.821Z"
   },
   {
    "duration": 255,
    "start_time": "2022-01-12T10:33:09.845Z"
   },
   {
    "duration": 369,
    "start_time": "2022-01-12T10:33:09.733Z"
   },
   {
    "duration": 319,
    "start_time": "2022-01-12T11:31:58.073Z"
   },
   {
    "duration": 281,
    "start_time": "2022-01-12T11:32:17.432Z"
   },
   {
    "duration": 266,
    "start_time": "2022-01-12T11:32:30.507Z"
   },
   {
    "duration": 10,
    "start_time": "2022-01-12T11:33:23.426Z"
   },
   {
    "duration": 33,
    "start_time": "2022-01-12T11:34:03.405Z"
   },
   {
    "duration": 42,
    "start_time": "2022-01-12T11:34:25.738Z"
   },
   {
    "duration": 9,
    "start_time": "2022-01-12T11:34:26.912Z"
   },
   {
    "duration": 36,
    "start_time": "2022-01-12T11:35:20.420Z"
   },
   {
    "duration": 8,
    "start_time": "2022-01-12T11:35:24.091Z"
   },
   {
    "duration": 35,
    "start_time": "2022-01-12T11:35:32.754Z"
   },
   {
    "duration": 8,
    "start_time": "2022-01-12T11:35:33.873Z"
   },
   {
    "duration": 35,
    "start_time": "2022-01-12T11:35:56.189Z"
   },
   {
    "duration": 9,
    "start_time": "2022-01-12T11:35:57.095Z"
   },
   {
    "duration": 34,
    "start_time": "2022-01-12T11:36:13.954Z"
   },
   {
    "duration": 9,
    "start_time": "2022-01-12T11:36:15.422Z"
   },
   {
    "duration": 34,
    "start_time": "2022-01-12T12:03:29.310Z"
   },
   {
    "duration": 9,
    "start_time": "2022-01-12T12:03:31.109Z"
   },
   {
    "duration": 40,
    "start_time": "2022-01-12T12:24:54.524Z"
   },
   {
    "duration": 347,
    "start_time": "2022-01-12T12:25:57.171Z"
   },
   {
    "duration": 91,
    "start_time": "2022-01-12T12:26:13.961Z"
   },
   {
    "duration": 34,
    "start_time": "2022-01-12T12:30:45.505Z"
   },
   {
    "duration": 82,
    "start_time": "2022-01-12T12:33:41.846Z"
   },
   {
    "duration": 118,
    "start_time": "2022-01-12T12:33:54.687Z"
   },
   {
    "duration": 409,
    "start_time": "2022-01-12T12:34:42.598Z"
   },
   {
    "duration": 229,
    "start_time": "2022-01-12T12:35:21.711Z"
   },
   {
    "duration": 432,
    "start_time": "2022-01-12T12:35:49.477Z"
   },
   {
    "duration": 274,
    "start_time": "2022-01-12T12:37:44.875Z"
   },
   {
    "duration": 262,
    "start_time": "2022-01-12T12:38:04.246Z"
   },
   {
    "duration": 289,
    "start_time": "2022-01-12T12:38:40.997Z"
   },
   {
    "duration": 37,
    "start_time": "2022-01-12T12:48:26.358Z"
   },
   {
    "duration": 1353,
    "start_time": "2022-01-12T13:25:31.505Z"
   },
   {
    "duration": 35,
    "start_time": "2022-01-12T13:26:06.696Z"
   },
   {
    "duration": 22,
    "start_time": "2022-01-12T13:26:21.118Z"
   },
   {
    "duration": 1113,
    "start_time": "2022-01-12T13:27:16.185Z"
   },
   {
    "duration": 3,
    "start_time": "2022-01-12T13:27:42.734Z"
   },
   {
    "duration": 202,
    "start_time": "2022-01-12T13:27:42.743Z"
   },
   {
    "duration": 9,
    "start_time": "2022-01-12T13:27:42.948Z"
   },
   {
    "duration": 22,
    "start_time": "2022-01-12T13:27:42.959Z"
   },
   {
    "duration": 26,
    "start_time": "2022-01-12T13:27:42.983Z"
   },
   {
    "duration": 55,
    "start_time": "2022-01-12T13:27:43.011Z"
   },
   {
    "duration": 6,
    "start_time": "2022-01-12T13:27:43.068Z"
   },
   {
    "duration": 83,
    "start_time": "2022-01-12T13:27:43.076Z"
   },
   {
    "duration": 10,
    "start_time": "2022-01-12T13:27:43.162Z"
   },
   {
    "duration": 132,
    "start_time": "2022-01-12T13:27:43.175Z"
   },
   {
    "duration": 9,
    "start_time": "2022-01-12T13:27:43.308Z"
   },
   {
    "duration": 29,
    "start_time": "2022-01-12T13:27:43.319Z"
   },
   {
    "duration": 28,
    "start_time": "2022-01-12T13:27:43.350Z"
   },
   {
    "duration": 21,
    "start_time": "2022-01-12T13:27:43.381Z"
   },
   {
    "duration": 70,
    "start_time": "2022-01-12T13:27:43.404Z"
   },
   {
    "duration": 2,
    "start_time": "2022-01-12T13:27:43.476Z"
   },
   {
    "duration": 15,
    "start_time": "2022-01-12T13:27:43.480Z"
   },
   {
    "duration": 58,
    "start_time": "2022-01-12T13:27:43.497Z"
   },
   {
    "duration": 139,
    "start_time": "2022-01-12T13:27:43.558Z"
   },
   {
    "duration": 8,
    "start_time": "2022-01-12T13:27:43.700Z"
   },
   {
    "duration": 28,
    "start_time": "2022-01-12T13:27:43.711Z"
   },
   {
    "duration": 27,
    "start_time": "2022-01-12T13:27:43.741Z"
   },
   {
    "duration": 53,
    "start_time": "2022-01-12T13:27:43.771Z"
   },
   {
    "duration": 34,
    "start_time": "2022-01-12T13:27:43.829Z"
   },
   {
    "duration": 19,
    "start_time": "2022-01-12T13:27:43.865Z"
   },
   {
    "duration": 22,
    "start_time": "2022-01-12T13:27:43.886Z"
   },
   {
    "duration": 41,
    "start_time": "2022-01-12T13:27:43.910Z"
   },
   {
    "duration": 18,
    "start_time": "2022-01-12T13:27:43.953Z"
   },
   {
    "duration": 18,
    "start_time": "2022-01-12T13:27:43.973Z"
   },
   {
    "duration": 15,
    "start_time": "2022-01-12T13:27:43.993Z"
   },
   {
    "duration": 8,
    "start_time": "2022-01-12T13:27:44.010Z"
   },
   {
    "duration": 7,
    "start_time": "2022-01-12T13:27:44.019Z"
   },
   {
    "duration": 14,
    "start_time": "2022-01-12T13:27:44.028Z"
   },
   {
    "duration": 9,
    "start_time": "2022-01-12T13:27:44.044Z"
   },
   {
    "duration": 96,
    "start_time": "2022-01-12T13:27:44.055Z"
   },
   {
    "duration": 9,
    "start_time": "2022-01-12T13:27:44.153Z"
   },
   {
    "duration": 1409,
    "start_time": "2022-01-12T13:27:44.164Z"
   },
   {
    "duration": 7,
    "start_time": "2022-01-12T13:27:45.575Z"
   },
   {
    "duration": 37,
    "start_time": "2022-01-12T13:27:45.584Z"
   },
   {
    "duration": 26,
    "start_time": "2022-01-12T13:27:45.623Z"
   },
   {
    "duration": 31,
    "start_time": "2022-01-12T13:27:45.650Z"
   },
   {
    "duration": 23,
    "start_time": "2022-01-12T13:27:53.377Z"
   },
   {
    "duration": 31,
    "start_time": "2022-01-12T13:28:05.106Z"
   },
   {
    "duration": 252,
    "start_time": "2022-01-12T13:33:55.316Z"
   },
   {
    "duration": 8760,
    "start_time": "2022-01-12T13:34:28.275Z"
   },
   {
    "duration": 8385,
    "start_time": "2022-01-12T13:34:52.866Z"
   },
   {
    "duration": 1932,
    "start_time": "2022-01-12T13:37:05.509Z"
   },
   {
    "duration": 11,
    "start_time": "2022-01-12T13:37:20.772Z"
   },
   {
    "duration": 573,
    "start_time": "2022-01-12T13:37:31.863Z"
   },
   {
    "duration": 1791,
    "start_time": "2022-01-12T13:38:11.458Z"
   },
   {
    "duration": 965,
    "start_time": "2022-01-12T18:46:57.088Z"
   },
   {
    "duration": 155,
    "start_time": "2022-01-12T18:46:58.054Z"
   },
   {
    "duration": 15,
    "start_time": "2022-01-12T18:46:58.211Z"
   },
   {
    "duration": 24,
    "start_time": "2022-01-12T18:46:58.228Z"
   },
   {
    "duration": 29,
    "start_time": "2022-01-12T18:46:58.254Z"
   },
   {
    "duration": 32,
    "start_time": "2022-01-12T18:46:58.299Z"
   },
   {
    "duration": 5,
    "start_time": "2022-01-12T18:46:58.332Z"
   },
   {
    "duration": 90,
    "start_time": "2022-01-12T18:46:58.340Z"
   },
   {
    "duration": 9,
    "start_time": "2022-01-12T18:46:58.432Z"
   },
   {
    "duration": 135,
    "start_time": "2022-01-12T18:46:58.442Z"
   },
   {
    "duration": 9,
    "start_time": "2022-01-12T18:46:58.578Z"
   },
   {
    "duration": 25,
    "start_time": "2022-01-12T18:46:58.588Z"
   },
   {
    "duration": 29,
    "start_time": "2022-01-12T18:46:58.615Z"
   },
   {
    "duration": 22,
    "start_time": "2022-01-12T18:46:58.646Z"
   },
   {
    "duration": 73,
    "start_time": "2022-01-12T18:46:58.669Z"
   },
   {
    "duration": 2,
    "start_time": "2022-01-12T18:46:58.744Z"
   },
   {
    "duration": 13,
    "start_time": "2022-01-12T18:46:58.748Z"
   },
   {
    "duration": 56,
    "start_time": "2022-01-12T18:46:58.762Z"
   },
   {
    "duration": 94,
    "start_time": "2022-01-12T18:46:58.819Z"
   },
   {
    "duration": 7,
    "start_time": "2022-01-12T18:46:58.914Z"
   },
   {
    "duration": 19,
    "start_time": "2022-01-12T18:46:58.922Z"
   },
   {
    "duration": 17,
    "start_time": "2022-01-12T18:46:58.943Z"
   },
   {
    "duration": 54,
    "start_time": "2022-01-12T18:46:58.964Z"
   },
   {
    "duration": 25,
    "start_time": "2022-01-12T18:46:59.019Z"
   },
   {
    "duration": 15,
    "start_time": "2022-01-12T18:46:59.046Z"
   },
   {
    "duration": 12,
    "start_time": "2022-01-12T18:46:59.063Z"
   },
   {
    "duration": 33,
    "start_time": "2022-01-12T18:46:59.077Z"
   },
   {
    "duration": 10,
    "start_time": "2022-01-12T18:46:59.112Z"
   },
   {
    "duration": 6,
    "start_time": "2022-01-12T18:46:59.124Z"
   },
   {
    "duration": 15,
    "start_time": "2022-01-12T18:46:59.132Z"
   },
   {
    "duration": 7,
    "start_time": "2022-01-12T18:46:59.149Z"
   },
   {
    "duration": 5,
    "start_time": "2022-01-12T18:46:59.157Z"
   },
   {
    "duration": 6,
    "start_time": "2022-01-12T18:46:59.163Z"
   },
   {
    "duration": 32,
    "start_time": "2022-01-12T18:46:59.171Z"
   },
   {
    "duration": 105,
    "start_time": "2022-01-12T18:46:59.205Z"
   },
   {
    "duration": 8,
    "start_time": "2022-01-12T18:46:59.312Z"
   },
   {
    "duration": 1099,
    "start_time": "2022-01-12T18:46:59.322Z"
   },
   {
    "duration": 8,
    "start_time": "2022-01-12T18:47:00.423Z"
   },
   {
    "duration": 36,
    "start_time": "2022-01-12T18:47:00.432Z"
   },
   {
    "duration": 9,
    "start_time": "2022-01-12T18:47:00.470Z"
   },
   {
    "duration": 47,
    "start_time": "2022-01-12T18:47:00.481Z"
   },
   {
    "duration": 2002,
    "start_time": "2022-01-12T18:47:00.530Z"
   },
   {
    "duration": 12,
    "start_time": "2022-01-12T18:47:02.534Z"
   },
   {
    "duration": 29,
    "start_time": "2022-01-12T18:47:48.087Z"
   },
   {
    "duration": 9,
    "start_time": "2022-01-12T18:47:49.106Z"
   },
   {
    "duration": 28,
    "start_time": "2022-01-12T18:47:57.510Z"
   },
   {
    "duration": 6,
    "start_time": "2022-01-12T18:48:39.767Z"
   },
   {
    "duration": 1233,
    "start_time": "2022-01-13T08:12:35.342Z"
   },
   {
    "duration": 204,
    "start_time": "2022-01-13T08:12:36.578Z"
   },
   {
    "duration": 21,
    "start_time": "2022-01-13T08:12:36.785Z"
   },
   {
    "duration": 29,
    "start_time": "2022-01-13T08:12:36.809Z"
   },
   {
    "duration": 60,
    "start_time": "2022-01-13T08:12:36.841Z"
   },
   {
    "duration": 61,
    "start_time": "2022-01-13T08:12:36.903Z"
   },
   {
    "duration": 8,
    "start_time": "2022-01-13T08:12:36.966Z"
   },
   {
    "duration": 114,
    "start_time": "2022-01-13T08:12:36.976Z"
   },
   {
    "duration": 13,
    "start_time": "2022-01-13T08:12:37.094Z"
   },
   {
    "duration": 184,
    "start_time": "2022-01-13T08:12:37.110Z"
   },
   {
    "duration": 11,
    "start_time": "2022-01-13T08:12:37.297Z"
   },
   {
    "duration": 25,
    "start_time": "2022-01-13T08:12:37.310Z"
   },
   {
    "duration": 59,
    "start_time": "2022-01-13T08:12:37.337Z"
   },
   {
    "duration": 31,
    "start_time": "2022-01-13T08:12:37.399Z"
   },
   {
    "duration": 87,
    "start_time": "2022-01-13T08:12:37.432Z"
   },
   {
    "duration": 3,
    "start_time": "2022-01-13T08:12:37.522Z"
   },
   {
    "duration": 38,
    "start_time": "2022-01-13T08:12:37.527Z"
   },
   {
    "duration": 51,
    "start_time": "2022-01-13T08:12:37.568Z"
   },
   {
    "duration": 137,
    "start_time": "2022-01-13T08:12:37.622Z"
   },
   {
    "duration": 11,
    "start_time": "2022-01-13T08:12:37.762Z"
   },
   {
    "duration": 20,
    "start_time": "2022-01-13T08:12:37.776Z"
   },
   {
    "duration": 25,
    "start_time": "2022-01-13T08:12:37.799Z"
   },
   {
    "duration": 88,
    "start_time": "2022-01-13T08:12:37.826Z"
   },
   {
    "duration": 49,
    "start_time": "2022-01-13T08:12:37.917Z"
   },
   {
    "duration": 20,
    "start_time": "2022-01-13T08:12:37.969Z"
   },
   {
    "duration": 16,
    "start_time": "2022-01-13T08:12:37.992Z"
   },
   {
    "duration": 35,
    "start_time": "2022-01-13T08:12:38.013Z"
   },
   {
    "duration": 15,
    "start_time": "2022-01-13T08:12:38.052Z"
   },
   {
    "duration": 9,
    "start_time": "2022-01-13T08:12:38.070Z"
   },
   {
    "duration": 22,
    "start_time": "2022-01-13T08:12:38.081Z"
   },
   {
    "duration": 15,
    "start_time": "2022-01-13T08:12:38.106Z"
   },
   {
    "duration": 40,
    "start_time": "2022-01-13T08:12:38.123Z"
   },
   {
    "duration": 8,
    "start_time": "2022-01-13T08:12:38.165Z"
   },
   {
    "duration": 11,
    "start_time": "2022-01-13T08:12:38.175Z"
   },
   {
    "duration": 155,
    "start_time": "2022-01-13T08:12:38.189Z"
   },
   {
    "duration": 18,
    "start_time": "2022-01-13T08:12:38.346Z"
   },
   {
    "duration": 1986,
    "start_time": "2022-01-13T08:12:38.367Z"
   },
   {
    "duration": 97,
    "start_time": "2022-01-13T08:12:40.356Z"
   },
   {
    "duration": 473,
    "start_time": "2022-01-13T08:12:39.982Z"
   },
   {
    "duration": 473,
    "start_time": "2022-01-13T08:12:39.984Z"
   },
   {
    "duration": 472,
    "start_time": "2022-01-13T08:12:39.986Z"
   },
   {
    "duration": 473,
    "start_time": "2022-01-13T08:12:39.987Z"
   },
   {
    "duration": 472,
    "start_time": "2022-01-13T08:12:39.989Z"
   },
   {
    "duration": 4,
    "start_time": "2022-01-13T08:16:50.586Z"
   },
   {
    "duration": 206,
    "start_time": "2022-01-13T08:16:50.593Z"
   },
   {
    "duration": 13,
    "start_time": "2022-01-13T08:16:50.802Z"
   },
   {
    "duration": 49,
    "start_time": "2022-01-13T08:16:50.818Z"
   },
   {
    "duration": 34,
    "start_time": "2022-01-13T08:16:50.870Z"
   },
   {
    "duration": 63,
    "start_time": "2022-01-13T08:16:50.906Z"
   },
   {
    "duration": 6,
    "start_time": "2022-01-13T08:16:50.971Z"
   },
   {
    "duration": 99,
    "start_time": "2022-01-13T08:16:50.979Z"
   },
   {
    "duration": 12,
    "start_time": "2022-01-13T08:16:51.082Z"
   },
   {
    "duration": 185,
    "start_time": "2022-01-13T08:16:51.097Z"
   },
   {
    "duration": 14,
    "start_time": "2022-01-13T08:16:51.284Z"
   },
   {
    "duration": 25,
    "start_time": "2022-01-13T08:16:51.301Z"
   },
   {
    "duration": 71,
    "start_time": "2022-01-13T08:16:51.329Z"
   },
   {
    "duration": 30,
    "start_time": "2022-01-13T08:16:51.404Z"
   },
   {
    "duration": 89,
    "start_time": "2022-01-13T08:16:51.437Z"
   },
   {
    "duration": 4,
    "start_time": "2022-01-13T08:16:51.528Z"
   },
   {
    "duration": 37,
    "start_time": "2022-01-13T08:16:51.535Z"
   },
   {
    "duration": 36,
    "start_time": "2022-01-13T08:16:51.575Z"
   },
   {
    "duration": 147,
    "start_time": "2022-01-13T08:16:51.614Z"
   },
   {
    "duration": 11,
    "start_time": "2022-01-13T08:16:51.764Z"
   },
   {
    "duration": 21,
    "start_time": "2022-01-13T08:16:51.778Z"
   },
   {
    "duration": 26,
    "start_time": "2022-01-13T08:16:51.802Z"
   },
   {
    "duration": 84,
    "start_time": "2022-01-13T08:16:51.830Z"
   },
   {
    "duration": 46,
    "start_time": "2022-01-13T08:16:51.917Z"
   },
   {
    "duration": 22,
    "start_time": "2022-01-13T08:16:51.965Z"
   },
   {
    "duration": 14,
    "start_time": "2022-01-13T08:16:51.990Z"
   },
   {
    "duration": 33,
    "start_time": "2022-01-13T08:16:52.009Z"
   },
   {
    "duration": 14,
    "start_time": "2022-01-13T08:16:52.045Z"
   },
   {
    "duration": 9,
    "start_time": "2022-01-13T08:16:52.062Z"
   },
   {
    "duration": 21,
    "start_time": "2022-01-13T08:16:52.074Z"
   },
   {
    "duration": 9,
    "start_time": "2022-01-13T08:16:52.098Z"
   },
   {
    "duration": 8,
    "start_time": "2022-01-13T08:16:52.109Z"
   },
   {
    "duration": 48,
    "start_time": "2022-01-13T08:16:52.119Z"
   },
   {
    "duration": 12,
    "start_time": "2022-01-13T08:16:52.169Z"
   },
   {
    "duration": 143,
    "start_time": "2022-01-13T08:16:52.184Z"
   },
   {
    "duration": 12,
    "start_time": "2022-01-13T08:16:52.330Z"
   },
   {
    "duration": 1810,
    "start_time": "2022-01-13T08:16:52.344Z"
   },
   {
    "duration": 15,
    "start_time": "2022-01-13T08:16:54.156Z"
   },
   {
    "duration": 49,
    "start_time": "2022-01-13T08:16:54.173Z"
   },
   {
    "duration": 11,
    "start_time": "2022-01-13T08:16:54.224Z"
   },
   {
    "duration": 69,
    "start_time": "2022-01-13T08:16:54.238Z"
   },
   {
    "duration": 3353,
    "start_time": "2022-01-13T08:16:54.310Z"
   },
   {
    "duration": 18,
    "start_time": "2022-01-13T08:16:57.666Z"
   },
   {
    "duration": 41,
    "start_time": "2022-01-13T08:18:39.407Z"
   },
   {
    "duration": 12,
    "start_time": "2022-01-13T08:18:41.480Z"
   },
   {
    "duration": 4,
    "start_time": "2022-01-13T08:18:48.401Z"
   },
   {
    "duration": 212,
    "start_time": "2022-01-13T08:18:48.408Z"
   },
   {
    "duration": 11,
    "start_time": "2022-01-13T08:18:48.623Z"
   },
   {
    "duration": 44,
    "start_time": "2022-01-13T08:18:48.637Z"
   },
   {
    "duration": 35,
    "start_time": "2022-01-13T08:18:48.683Z"
   },
   {
    "duration": 71,
    "start_time": "2022-01-13T08:18:48.720Z"
   },
   {
    "duration": 6,
    "start_time": "2022-01-13T08:18:48.793Z"
   },
   {
    "duration": 103,
    "start_time": "2022-01-13T08:18:48.801Z"
   },
   {
    "duration": 13,
    "start_time": "2022-01-13T08:18:48.907Z"
   },
   {
    "duration": 186,
    "start_time": "2022-01-13T08:18:48.923Z"
   },
   {
    "duration": 12,
    "start_time": "2022-01-13T08:18:49.112Z"
   },
   {
    "duration": 42,
    "start_time": "2022-01-13T08:18:49.126Z"
   },
   {
    "duration": 39,
    "start_time": "2022-01-13T08:18:49.171Z"
   },
   {
    "duration": 58,
    "start_time": "2022-01-13T08:18:49.212Z"
   },
   {
    "duration": 65,
    "start_time": "2022-01-13T08:18:49.272Z"
   },
   {
    "duration": 3,
    "start_time": "2022-01-13T08:18:49.339Z"
   },
   {
    "duration": 13,
    "start_time": "2022-01-13T08:18:49.363Z"
   },
   {
    "duration": 40,
    "start_time": "2022-01-13T08:18:49.379Z"
   },
   {
    "duration": 149,
    "start_time": "2022-01-13T08:18:49.422Z"
   },
   {
    "duration": 10,
    "start_time": "2022-01-13T08:18:49.574Z"
   },
   {
    "duration": 21,
    "start_time": "2022-01-13T08:18:49.586Z"
   },
   {
    "duration": 53,
    "start_time": "2022-01-13T08:18:49.610Z"
   },
   {
    "duration": 54,
    "start_time": "2022-01-13T08:18:49.665Z"
   },
   {
    "duration": 49,
    "start_time": "2022-01-13T08:18:49.722Z"
   },
   {
    "duration": 20,
    "start_time": "2022-01-13T08:18:49.773Z"
   },
   {
    "duration": 69,
    "start_time": "2022-01-13T08:18:49.796Z"
   },
   {
    "duration": 33,
    "start_time": "2022-01-13T08:18:49.872Z"
   },
   {
    "duration": 15,
    "start_time": "2022-01-13T08:18:49.909Z"
   },
   {
    "duration": 13,
    "start_time": "2022-01-13T08:18:49.927Z"
   },
   {
    "duration": 38,
    "start_time": "2022-01-13T08:18:49.942Z"
   },
   {
    "duration": 9,
    "start_time": "2022-01-13T08:18:49.983Z"
   },
   {
    "duration": 15,
    "start_time": "2022-01-13T08:18:49.994Z"
   },
   {
    "duration": 16,
    "start_time": "2022-01-13T08:18:50.011Z"
   },
   {
    "duration": 40,
    "start_time": "2022-01-13T08:18:50.030Z"
   },
   {
    "duration": 138,
    "start_time": "2022-01-13T08:18:50.073Z"
   },
   {
    "duration": 11,
    "start_time": "2022-01-13T08:18:50.213Z"
   },
   {
    "duration": 1778,
    "start_time": "2022-01-13T08:18:50.227Z"
   },
   {
    "duration": 10,
    "start_time": "2022-01-13T08:18:52.007Z"
   },
   {
    "duration": 65,
    "start_time": "2022-01-13T08:18:52.019Z"
   },
   {
    "duration": 11,
    "start_time": "2022-01-13T08:18:52.087Z"
   },
   {
    "duration": 64,
    "start_time": "2022-01-13T08:18:52.100Z"
   },
   {
    "duration": 3201,
    "start_time": "2022-01-13T08:18:52.167Z"
   },
   {
    "duration": 18,
    "start_time": "2022-01-13T08:18:55.370Z"
   },
   {
    "duration": 9,
    "start_time": "2022-01-13T08:41:09.077Z"
   },
   {
    "duration": 532,
    "start_time": "2022-01-13T08:50:11.156Z"
   },
   {
    "duration": 418,
    "start_time": "2022-01-13T08:51:35.614Z"
   },
   {
    "duration": 713,
    "start_time": "2022-01-13T08:52:35.130Z"
   },
   {
    "duration": 18,
    "start_time": "2022-01-13T08:52:48.959Z"
   },
   {
    "duration": 2139,
    "start_time": "2022-01-13T08:54:37.221Z"
   },
   {
    "duration": 15,
    "start_time": "2022-01-13T08:57:32.192Z"
   },
   {
    "duration": 282,
    "start_time": "2022-01-13T09:02:10.971Z"
   },
   {
    "duration": 42,
    "start_time": "2022-01-13T09:02:26.144Z"
   },
   {
    "duration": 33,
    "start_time": "2022-01-13T09:02:50.259Z"
   },
   {
    "duration": 33,
    "start_time": "2022-01-13T09:03:36.566Z"
   },
   {
    "duration": 306,
    "start_time": "2022-01-13T09:04:17.734Z"
   },
   {
    "duration": 300,
    "start_time": "2022-01-13T09:04:27.839Z"
   },
   {
    "duration": 348,
    "start_time": "2022-01-13T09:04:31.031Z"
   },
   {
    "duration": 32,
    "start_time": "2022-01-13T09:04:55.929Z"
   },
   {
    "duration": 33,
    "start_time": "2022-01-13T09:05:14.444Z"
   },
   {
    "duration": 327,
    "start_time": "2022-01-13T09:07:29.054Z"
   },
   {
    "duration": 27,
    "start_time": "2022-01-13T09:07:37.631Z"
   },
   {
    "duration": 24,
    "start_time": "2022-01-13T09:07:59.823Z"
   },
   {
    "duration": 31,
    "start_time": "2022-01-13T09:09:04.537Z"
   },
   {
    "duration": 24,
    "start_time": "2022-01-13T09:09:16.150Z"
   },
   {
    "duration": 28,
    "start_time": "2022-01-13T09:10:30.856Z"
   },
   {
    "duration": 299,
    "start_time": "2022-01-13T09:12:41.591Z"
   },
   {
    "duration": 10992,
    "start_time": "2022-01-13T09:13:00.625Z"
   },
   {
    "duration": 305,
    "start_time": "2022-01-13T09:13:11.319Z"
   },
   {
    "duration": 4,
    "start_time": "2022-01-13T09:13:43.188Z"
   },
   {
    "duration": 205,
    "start_time": "2022-01-13T09:13:43.195Z"
   },
   {
    "duration": 11,
    "start_time": "2022-01-13T09:13:43.403Z"
   },
   {
    "duration": 46,
    "start_time": "2022-01-13T09:13:43.417Z"
   },
   {
    "duration": 34,
    "start_time": "2022-01-13T09:13:43.465Z"
   },
   {
    "duration": 38,
    "start_time": "2022-01-13T09:13:43.501Z"
   },
   {
    "duration": 5,
    "start_time": "2022-01-13T09:13:43.564Z"
   },
   {
    "duration": 100,
    "start_time": "2022-01-13T09:13:43.572Z"
   },
   {
    "duration": 13,
    "start_time": "2022-01-13T09:13:43.677Z"
   },
   {
    "duration": 187,
    "start_time": "2022-01-13T09:13:43.693Z"
   },
   {
    "duration": 12,
    "start_time": "2022-01-13T09:13:43.882Z"
   },
   {
    "duration": 29,
    "start_time": "2022-01-13T09:13:43.896Z"
   },
   {
    "duration": 57,
    "start_time": "2022-01-13T09:13:43.927Z"
   },
   {
    "duration": 28,
    "start_time": "2022-01-13T09:13:43.986Z"
   },
   {
    "duration": 81,
    "start_time": "2022-01-13T09:13:44.017Z"
   },
   {
    "duration": 4,
    "start_time": "2022-01-13T09:13:44.100Z"
   },
   {
    "duration": 38,
    "start_time": "2022-01-13T09:13:44.106Z"
   },
   {
    "duration": 52,
    "start_time": "2022-01-13T09:13:44.147Z"
   },
   {
    "duration": 121,
    "start_time": "2022-01-13T09:13:44.201Z"
   },
   {
    "duration": 10,
    "start_time": "2022-01-13T09:13:44.324Z"
   },
   {
    "duration": 42,
    "start_time": "2022-01-13T09:13:44.336Z"
   },
   {
    "duration": 44,
    "start_time": "2022-01-13T09:13:44.381Z"
   },
   {
    "duration": 58,
    "start_time": "2022-01-13T09:13:44.427Z"
   },
   {
    "duration": 28,
    "start_time": "2022-01-13T09:13:44.488Z"
   },
   {
    "duration": 19,
    "start_time": "2022-01-13T09:13:44.519Z"
   },
   {
    "duration": 25,
    "start_time": "2022-01-13T09:13:44.540Z"
   },
   {
    "duration": 33,
    "start_time": "2022-01-13T09:13:44.573Z"
   },
   {
    "duration": 15,
    "start_time": "2022-01-13T09:13:44.610Z"
   },
   {
    "duration": 11,
    "start_time": "2022-01-13T09:13:44.628Z"
   },
   {
    "duration": 41,
    "start_time": "2022-01-13T09:13:44.642Z"
   },
   {
    "duration": 10,
    "start_time": "2022-01-13T09:13:44.686Z"
   },
   {
    "duration": 9,
    "start_time": "2022-01-13T09:13:44.700Z"
   },
   {
    "duration": 53,
    "start_time": "2022-01-13T09:13:44.712Z"
   },
   {
    "duration": 14,
    "start_time": "2022-01-13T09:13:44.767Z"
   },
   {
    "duration": 136,
    "start_time": "2022-01-13T09:13:44.783Z"
   },
   {
    "duration": 11,
    "start_time": "2022-01-13T09:13:44.922Z"
   },
   {
    "duration": 1933,
    "start_time": "2022-01-13T09:13:44.936Z"
   },
   {
    "duration": 11,
    "start_time": "2022-01-13T09:13:46.871Z"
   },
   {
    "duration": 60,
    "start_time": "2022-01-13T09:13:46.884Z"
   },
   {
    "duration": 18,
    "start_time": "2022-01-13T09:13:46.946Z"
   },
   {
    "duration": 48,
    "start_time": "2022-01-13T09:13:46.966Z"
   },
   {
    "duration": 3384,
    "start_time": "2022-01-13T09:13:47.017Z"
   },
   {
    "duration": 17,
    "start_time": "2022-01-13T09:13:50.404Z"
   },
   {
    "duration": 28,
    "start_time": "2022-01-13T09:13:50.423Z"
   },
   {
    "duration": 678,
    "start_time": "2022-01-13T09:13:50.454Z"
   },
   {
    "duration": 28,
    "start_time": "2022-01-13T09:13:51.134Z"
   },
   {
    "duration": 349,
    "start_time": "2022-01-13T09:13:51.165Z"
   },
   {
    "duration": 403,
    "start_time": "2022-01-13T09:15:00.152Z"
   },
   {
    "duration": 33,
    "start_time": "2022-01-13T09:15:10.864Z"
   },
   {
    "duration": 330,
    "start_time": "2022-01-13T09:20:48.674Z"
   },
   {
    "duration": 805,
    "start_time": "2022-01-13T09:21:02.032Z"
   },
   {
    "duration": 301,
    "start_time": "2022-01-13T09:21:42.576Z"
   },
   {
    "duration": 347,
    "start_time": "2022-01-13T09:21:55.273Z"
   },
   {
    "duration": 64,
    "start_time": "2022-01-13T09:22:10.108Z"
   },
   {
    "duration": 4,
    "start_time": "2022-01-13T09:22:13.403Z"
   },
   {
    "duration": 315,
    "start_time": "2022-01-13T09:22:13.410Z"
   },
   {
    "duration": 16,
    "start_time": "2022-01-13T09:22:13.729Z"
   },
   {
    "duration": 56,
    "start_time": "2022-01-13T09:22:13.749Z"
   },
   {
    "duration": 67,
    "start_time": "2022-01-13T09:22:13.808Z"
   },
   {
    "duration": 66,
    "start_time": "2022-01-13T09:22:13.878Z"
   },
   {
    "duration": 8,
    "start_time": "2022-01-13T09:22:13.962Z"
   },
   {
    "duration": 157,
    "start_time": "2022-01-13T09:22:13.974Z"
   },
   {
    "duration": 31,
    "start_time": "2022-01-13T09:22:14.138Z"
   },
   {
    "duration": 282,
    "start_time": "2022-01-13T09:22:14.173Z"
   },
   {
    "duration": 18,
    "start_time": "2022-01-13T09:22:14.458Z"
   },
   {
    "duration": 25,
    "start_time": "2022-01-13T09:22:14.478Z"
   },
   {
    "duration": 77,
    "start_time": "2022-01-13T09:22:14.506Z"
   },
   {
    "duration": 30,
    "start_time": "2022-01-13T09:22:14.585Z"
   },
   {
    "duration": 90,
    "start_time": "2022-01-13T09:22:14.617Z"
   },
   {
    "duration": 3,
    "start_time": "2022-01-13T09:22:14.709Z"
   },
   {
    "duration": 17,
    "start_time": "2022-01-13T09:22:14.714Z"
   },
   {
    "duration": 63,
    "start_time": "2022-01-13T09:22:14.733Z"
   },
   {
    "duration": 132,
    "start_time": "2022-01-13T09:22:14.798Z"
   },
   {
    "duration": 10,
    "start_time": "2022-01-13T09:22:14.933Z"
   },
   {
    "duration": 35,
    "start_time": "2022-01-13T09:22:14.945Z"
   },
   {
    "duration": 24,
    "start_time": "2022-01-13T09:22:14.983Z"
   },
   {
    "duration": 75,
    "start_time": "2022-01-13T09:22:15.010Z"
   },
   {
    "duration": 30,
    "start_time": "2022-01-13T09:22:15.088Z"
   },
   {
    "duration": 19,
    "start_time": "2022-01-13T09:22:15.121Z"
   },
   {
    "duration": 28,
    "start_time": "2022-01-13T09:22:15.142Z"
   },
   {
    "duration": 33,
    "start_time": "2022-01-13T09:22:15.175Z"
   },
   {
    "duration": 15,
    "start_time": "2022-01-13T09:22:15.211Z"
   },
   {
    "duration": 10,
    "start_time": "2022-01-13T09:22:15.229Z"
   },
   {
    "duration": 39,
    "start_time": "2022-01-13T09:22:15.241Z"
   },
   {
    "duration": 8,
    "start_time": "2022-01-13T09:22:15.283Z"
   },
   {
    "duration": 7,
    "start_time": "2022-01-13T09:22:15.294Z"
   },
   {
    "duration": 10,
    "start_time": "2022-01-13T09:22:15.303Z"
   },
   {
    "duration": 47,
    "start_time": "2022-01-13T09:22:15.316Z"
   },
   {
    "duration": 131,
    "start_time": "2022-01-13T09:22:15.366Z"
   },
   {
    "duration": 11,
    "start_time": "2022-01-13T09:22:15.499Z"
   },
   {
    "duration": 1930,
    "start_time": "2022-01-13T09:22:15.513Z"
   },
   {
    "duration": 18,
    "start_time": "2022-01-13T09:22:17.446Z"
   },
   {
    "duration": 40,
    "start_time": "2022-01-13T09:22:17.467Z"
   },
   {
    "duration": 10,
    "start_time": "2022-01-13T09:22:17.510Z"
   },
   {
    "duration": 80,
    "start_time": "2022-01-13T09:22:17.522Z"
   },
   {
    "duration": 3312,
    "start_time": "2022-01-13T09:22:17.605Z"
   },
   {
    "duration": 18,
    "start_time": "2022-01-13T09:22:20.920Z"
   },
   {
    "duration": 25,
    "start_time": "2022-01-13T09:22:20.940Z"
   },
   {
    "duration": 784,
    "start_time": "2022-01-13T09:22:20.967Z"
   },
   {
    "duration": 24,
    "start_time": "2022-01-13T09:22:21.753Z"
   },
   {
    "duration": 36,
    "start_time": "2022-01-13T09:22:21.780Z"
   },
   {
    "duration": 531,
    "start_time": "2022-01-13T09:35:03.720Z"
   },
   {
    "duration": 308,
    "start_time": "2022-01-13T09:35:26.165Z"
   },
   {
    "duration": 37,
    "start_time": "2022-01-13T09:35:43.733Z"
   },
   {
    "duration": 37,
    "start_time": "2022-01-13T09:36:03.326Z"
   },
   {
    "duration": 302,
    "start_time": "2022-01-13T09:36:53.513Z"
   },
   {
    "duration": 498,
    "start_time": "2022-01-13T09:39:05.997Z"
   },
   {
    "duration": 40,
    "start_time": "2022-01-13T09:39:19.204Z"
   },
   {
    "duration": 338,
    "start_time": "2022-01-13T09:40:13.219Z"
   },
   {
    "duration": 20,
    "start_time": "2022-01-13T09:41:17.634Z"
   },
   {
    "duration": 338,
    "start_time": "2022-01-13T09:42:42.337Z"
   },
   {
    "duration": 18,
    "start_time": "2022-01-13T09:43:10.019Z"
   },
   {
    "duration": 410,
    "start_time": "2022-01-13T09:43:18.820Z"
   },
   {
    "duration": 321,
    "start_time": "2022-01-13T09:43:39.651Z"
   },
   {
    "duration": 15,
    "start_time": "2022-01-13T09:44:56.823Z"
   },
   {
    "duration": 45,
    "start_time": "2022-01-13T09:45:01.595Z"
   },
   {
    "duration": 4,
    "start_time": "2022-01-13T09:45:28.396Z"
   },
   {
    "duration": 333,
    "start_time": "2022-01-13T09:45:32.915Z"
   },
   {
    "duration": 91,
    "start_time": "2022-01-13T09:47:14.043Z"
   },
   {
    "duration": 308,
    "start_time": "2022-01-13T09:49:25.873Z"
   },
   {
    "duration": 301,
    "start_time": "2022-01-13T09:49:38.117Z"
   },
   {
    "duration": 390,
    "start_time": "2022-01-13T09:49:50.868Z"
   },
   {
    "duration": 343,
    "start_time": "2022-01-13T09:50:04.322Z"
   },
   {
    "duration": 310,
    "start_time": "2022-01-13T09:50:30.833Z"
   },
   {
    "duration": 312,
    "start_time": "2022-01-13T09:51:02.644Z"
   },
   {
    "duration": 321,
    "start_time": "2022-01-13T09:51:13.577Z"
   },
   {
    "duration": 348,
    "start_time": "2022-01-13T09:51:23.452Z"
   },
   {
    "duration": 322,
    "start_time": "2022-01-13T09:51:35.184Z"
   },
   {
    "duration": 357,
    "start_time": "2022-01-13T09:51:54.297Z"
   },
   {
    "duration": 33,
    "start_time": "2022-01-13T09:52:25.349Z"
   },
   {
    "duration": 320,
    "start_time": "2022-01-13T09:52:46.272Z"
   },
   {
    "duration": 16,
    "start_time": "2022-01-13T09:52:53.954Z"
   },
   {
    "duration": 4,
    "start_time": "2022-01-13T09:53:14.205Z"
   },
   {
    "duration": 215,
    "start_time": "2022-01-13T09:53:14.213Z"
   },
   {
    "duration": 14,
    "start_time": "2022-01-13T09:53:14.432Z"
   },
   {
    "duration": 28,
    "start_time": "2022-01-13T09:53:14.464Z"
   },
   {
    "duration": 38,
    "start_time": "2022-01-13T09:53:14.495Z"
   },
   {
    "duration": 46,
    "start_time": "2022-01-13T09:53:14.563Z"
   },
   {
    "duration": 5,
    "start_time": "2022-01-13T09:53:14.611Z"
   },
   {
    "duration": 111,
    "start_time": "2022-01-13T09:53:14.619Z"
   },
   {
    "duration": 14,
    "start_time": "2022-01-13T09:53:14.735Z"
   },
   {
    "duration": 187,
    "start_time": "2022-01-13T09:53:14.763Z"
   },
   {
    "duration": 16,
    "start_time": "2022-01-13T09:53:14.952Z"
   },
   {
    "duration": 29,
    "start_time": "2022-01-13T09:53:14.971Z"
   },
   {
    "duration": 67,
    "start_time": "2022-01-13T09:53:15.002Z"
   },
   {
    "duration": 29,
    "start_time": "2022-01-13T09:53:15.072Z"
   },
   {
    "duration": 84,
    "start_time": "2022-01-13T09:53:15.103Z"
   },
   {
    "duration": 3,
    "start_time": "2022-01-13T09:53:15.190Z"
   },
   {
    "duration": 15,
    "start_time": "2022-01-13T09:53:15.195Z"
   },
   {
    "duration": 73,
    "start_time": "2022-01-13T09:53:15.212Z"
   },
   {
    "duration": 127,
    "start_time": "2022-01-13T09:53:15.288Z"
   },
   {
    "duration": 13,
    "start_time": "2022-01-13T09:53:15.418Z"
   },
   {
    "duration": 43,
    "start_time": "2022-01-13T09:53:15.434Z"
   },
   {
    "duration": 26,
    "start_time": "2022-01-13T09:53:15.480Z"
   },
   {
    "duration": 77,
    "start_time": "2022-01-13T09:53:15.509Z"
   },
   {
    "duration": 32,
    "start_time": "2022-01-13T09:53:15.588Z"
   },
   {
    "duration": 44,
    "start_time": "2022-01-13T09:53:15.623Z"
   },
   {
    "duration": 17,
    "start_time": "2022-01-13T09:53:15.670Z"
   },
   {
    "duration": 36,
    "start_time": "2022-01-13T09:53:15.692Z"
   },
   {
    "duration": 14,
    "start_time": "2022-01-13T09:53:15.732Z"
   },
   {
    "duration": 19,
    "start_time": "2022-01-13T09:53:15.748Z"
   },
   {
    "duration": 28,
    "start_time": "2022-01-13T09:53:15.770Z"
   },
   {
    "duration": 20,
    "start_time": "2022-01-13T09:53:15.800Z"
   },
   {
    "duration": 42,
    "start_time": "2022-01-13T09:53:15.822Z"
   },
   {
    "duration": 6,
    "start_time": "2022-01-13T09:53:15.866Z"
   },
   {
    "duration": 13,
    "start_time": "2022-01-13T09:53:15.874Z"
   },
   {
    "duration": 165,
    "start_time": "2022-01-13T09:53:15.890Z"
   },
   {
    "duration": 12,
    "start_time": "2022-01-13T09:53:16.058Z"
   },
   {
    "duration": 1825,
    "start_time": "2022-01-13T09:53:16.073Z"
   },
   {
    "duration": 11,
    "start_time": "2022-01-13T09:53:17.901Z"
   },
   {
    "duration": 64,
    "start_time": "2022-01-13T09:53:17.914Z"
   },
   {
    "duration": 11,
    "start_time": "2022-01-13T09:53:17.980Z"
   },
   {
    "duration": 88,
    "start_time": "2022-01-13T09:53:17.993Z"
   },
   {
    "duration": 3525,
    "start_time": "2022-01-13T09:53:18.084Z"
   },
   {
    "duration": 17,
    "start_time": "2022-01-13T09:53:21.611Z"
   },
   {
    "duration": 33,
    "start_time": "2022-01-13T09:53:21.630Z"
   },
   {
    "duration": 1133,
    "start_time": "2022-01-13T09:53:21.666Z"
   },
   {
    "duration": 26,
    "start_time": "2022-01-13T09:53:22.802Z"
   },
   {
    "duration": 67,
    "start_time": "2022-01-13T09:53:22.832Z"
   },
   {
    "duration": 302,
    "start_time": "2022-01-13T09:53:55.857Z"
   },
   {
    "duration": 33,
    "start_time": "2022-01-13T09:54:23.122Z"
   },
   {
    "duration": 334,
    "start_time": "2022-01-13T09:54:31.782Z"
   },
   {
    "duration": 98,
    "start_time": "2022-01-13T09:56:34.660Z"
   },
   {
    "duration": 34,
    "start_time": "2022-01-13T09:56:47.202Z"
   },
   {
    "duration": 300,
    "start_time": "2022-01-13T09:57:12.467Z"
   },
   {
    "duration": 306,
    "start_time": "2022-01-13T09:58:33.180Z"
   },
   {
    "duration": 308,
    "start_time": "2022-01-13T09:58:47.795Z"
   },
   {
    "duration": 116,
    "start_time": "2022-01-13T10:00:50.640Z"
   },
   {
    "duration": 508,
    "start_time": "2022-01-13T10:01:03.877Z"
   },
   {
    "duration": 328,
    "start_time": "2022-01-13T10:01:30.456Z"
   },
   {
    "duration": 667,
    "start_time": "2022-01-13T10:03:52.858Z"
   },
   {
    "duration": 726,
    "start_time": "2022-01-13T10:04:03.651Z"
   },
   {
    "duration": 319,
    "start_time": "2022-01-13T10:04:20.689Z"
   },
   {
    "duration": 303,
    "start_time": "2022-01-13T10:04:31.552Z"
   },
   {
    "duration": 317,
    "start_time": "2022-01-13T10:04:44.565Z"
   },
   {
    "duration": 33,
    "start_time": "2022-01-13T10:07:04.918Z"
   },
   {
    "duration": 328,
    "start_time": "2022-01-13T10:07:25.429Z"
   },
   {
    "duration": 455,
    "start_time": "2022-01-13T10:09:55.052Z"
   },
   {
    "duration": 11,
    "start_time": "2022-01-13T10:10:15.606Z"
   },
   {
    "duration": 10,
    "start_time": "2022-01-13T10:10:35.082Z"
   },
   {
    "duration": 31,
    "start_time": "2022-01-13T10:10:41.607Z"
   },
   {
    "duration": 1222,
    "start_time": "2022-01-13T10:11:20.225Z"
   },
   {
    "duration": 1440,
    "start_time": "2022-01-13T10:11:38.901Z"
   },
   {
    "duration": 300,
    "start_time": "2022-01-13T10:11:59.164Z"
   },
   {
    "duration": 332,
    "start_time": "2022-01-13T10:12:20.792Z"
   },
   {
    "duration": 37,
    "start_time": "2022-01-13T10:12:39.460Z"
   },
   {
    "duration": 297,
    "start_time": "2022-01-13T10:13:35.174Z"
   },
   {
    "duration": 18,
    "start_time": "2022-01-13T10:21:37.422Z"
   },
   {
    "duration": 18,
    "start_time": "2022-01-13T10:21:40.849Z"
   },
   {
    "duration": 24,
    "start_time": "2022-01-13T10:23:07.028Z"
   },
   {
    "duration": 18,
    "start_time": "2022-01-13T10:23:09.545Z"
   },
   {
    "duration": 36,
    "start_time": "2022-01-13T10:24:08.747Z"
   },
   {
    "duration": 303,
    "start_time": "2022-01-13T10:24:35.121Z"
   },
   {
    "duration": 36,
    "start_time": "2022-01-13T10:25:05.571Z"
   },
   {
    "duration": 316,
    "start_time": "2022-01-13T10:25:21.125Z"
   },
   {
    "duration": 305,
    "start_time": "2022-01-13T11:38:22.914Z"
   },
   {
    "duration": 316,
    "start_time": "2022-01-13T11:43:28.103Z"
   },
   {
    "duration": 30,
    "start_time": "2022-01-13T11:43:49.379Z"
   },
   {
    "duration": 22,
    "start_time": "2022-01-13T11:45:04.893Z"
   },
   {
    "duration": 16,
    "start_time": "2022-01-13T11:45:39.093Z"
   },
   {
    "duration": 24,
    "start_time": "2022-01-13T11:45:54.882Z"
   },
   {
    "duration": 17,
    "start_time": "2022-01-13T11:49:31.364Z"
   },
   {
    "duration": 25,
    "start_time": "2022-01-13T11:49:51.027Z"
   },
   {
    "duration": 318,
    "start_time": "2022-01-13T11:50:46.500Z"
   },
   {
    "duration": 490,
    "start_time": "2022-01-13T11:50:56.451Z"
   },
   {
    "duration": 27,
    "start_time": "2022-01-13T11:51:18.060Z"
   },
   {
    "duration": 28,
    "start_time": "2022-01-13T11:51:45.457Z"
   },
   {
    "duration": 20,
    "start_time": "2022-01-13T11:51:55.929Z"
   },
   {
    "duration": 21,
    "start_time": "2022-01-13T11:52:02.285Z"
   },
   {
    "duration": 51,
    "start_time": "2022-01-13T11:52:11.460Z"
   },
   {
    "duration": 22,
    "start_time": "2022-01-13T11:52:59.694Z"
   },
   {
    "duration": 17,
    "start_time": "2022-01-13T11:53:23.572Z"
   },
   {
    "duration": 28,
    "start_time": "2022-01-13T11:53:29.439Z"
   },
   {
    "duration": 14,
    "start_time": "2022-01-13T11:53:45.235Z"
   },
   {
    "duration": 24,
    "start_time": "2022-01-13T11:54:22.072Z"
   },
   {
    "duration": 23,
    "start_time": "2022-01-13T11:54:49.211Z"
   },
   {
    "duration": 58,
    "start_time": "2022-01-13T11:55:12.407Z"
   },
   {
    "duration": 13,
    "start_time": "2022-01-13T11:55:14.075Z"
   },
   {
    "duration": 14,
    "start_time": "2022-01-13T11:55:18.621Z"
   },
   {
    "duration": 18,
    "start_time": "2022-01-13T11:55:37.072Z"
   },
   {
    "duration": 26,
    "start_time": "2022-01-13T11:55:56.717Z"
   },
   {
    "duration": 24,
    "start_time": "2022-01-13T11:56:48.839Z"
   },
   {
    "duration": 403,
    "start_time": "2022-01-13T11:57:13.138Z"
   },
   {
    "duration": 398,
    "start_time": "2022-01-13T11:57:13.145Z"
   },
   {
    "duration": 394,
    "start_time": "2022-01-13T11:57:13.150Z"
   },
   {
    "duration": 393,
    "start_time": "2022-01-13T11:57:13.152Z"
   },
   {
    "duration": 391,
    "start_time": "2022-01-13T11:57:13.155Z"
   },
   {
    "duration": 391,
    "start_time": "2022-01-13T11:57:13.157Z"
   },
   {
    "duration": 389,
    "start_time": "2022-01-13T11:57:13.160Z"
   },
   {
    "duration": 388,
    "start_time": "2022-01-13T11:57:13.162Z"
   },
   {
    "duration": 388,
    "start_time": "2022-01-13T11:57:13.164Z"
   },
   {
    "duration": 387,
    "start_time": "2022-01-13T11:57:13.166Z"
   },
   {
    "duration": 385,
    "start_time": "2022-01-13T11:57:13.169Z"
   },
   {
    "duration": 379,
    "start_time": "2022-01-13T11:57:13.177Z"
   },
   {
    "duration": 377,
    "start_time": "2022-01-13T11:57:13.180Z"
   },
   {
    "duration": 376,
    "start_time": "2022-01-13T11:57:13.182Z"
   },
   {
    "duration": 377,
    "start_time": "2022-01-13T11:57:13.183Z"
   },
   {
    "duration": 377,
    "start_time": "2022-01-13T11:57:13.184Z"
   },
   {
    "duration": 377,
    "start_time": "2022-01-13T11:57:13.185Z"
   },
   {
    "duration": 377,
    "start_time": "2022-01-13T11:57:13.187Z"
   },
   {
    "duration": 377,
    "start_time": "2022-01-13T11:57:13.188Z"
   },
   {
    "duration": 377,
    "start_time": "2022-01-13T11:57:13.189Z"
   },
   {
    "duration": 378,
    "start_time": "2022-01-13T11:57:13.190Z"
   },
   {
    "duration": 377,
    "start_time": "2022-01-13T11:57:13.192Z"
   },
   {
    "duration": 378,
    "start_time": "2022-01-13T11:57:13.193Z"
   },
   {
    "duration": 377,
    "start_time": "2022-01-13T11:57:13.195Z"
   },
   {
    "duration": 377,
    "start_time": "2022-01-13T11:57:13.196Z"
   },
   {
    "duration": 378,
    "start_time": "2022-01-13T11:57:13.197Z"
   },
   {
    "duration": 350,
    "start_time": "2022-01-13T11:57:13.226Z"
   },
   {
    "duration": 349,
    "start_time": "2022-01-13T11:57:13.229Z"
   },
   {
    "duration": 347,
    "start_time": "2022-01-13T11:57:13.232Z"
   },
   {
    "duration": 347,
    "start_time": "2022-01-13T11:57:13.233Z"
   },
   {
    "duration": 346,
    "start_time": "2022-01-13T11:57:13.235Z"
   },
   {
    "duration": 342,
    "start_time": "2022-01-13T11:57:13.241Z"
   },
   {
    "duration": 337,
    "start_time": "2022-01-13T11:57:13.247Z"
   },
   {
    "duration": 336,
    "start_time": "2022-01-13T11:57:13.249Z"
   },
   {
    "duration": 337,
    "start_time": "2022-01-13T11:57:13.250Z"
   },
   {
    "duration": 337,
    "start_time": "2022-01-13T11:57:13.251Z"
   },
   {
    "duration": 337,
    "start_time": "2022-01-13T11:57:13.253Z"
   },
   {
    "duration": 337,
    "start_time": "2022-01-13T11:57:13.254Z"
   },
   {
    "duration": 336,
    "start_time": "2022-01-13T11:57:13.256Z"
   },
   {
    "duration": 336,
    "start_time": "2022-01-13T11:57:13.258Z"
   },
   {
    "duration": 332,
    "start_time": "2022-01-13T11:57:13.264Z"
   },
   {
    "duration": 330,
    "start_time": "2022-01-13T11:57:13.267Z"
   },
   {
    "duration": 330,
    "start_time": "2022-01-13T11:57:13.268Z"
   },
   {
    "duration": 331,
    "start_time": "2022-01-13T11:57:13.269Z"
   },
   {
    "duration": 330,
    "start_time": "2022-01-13T11:57:13.271Z"
   },
   {
    "duration": 331,
    "start_time": "2022-01-13T11:57:13.272Z"
   },
   {
    "duration": 330,
    "start_time": "2022-01-13T11:57:13.274Z"
   },
   {
    "duration": 330,
    "start_time": "2022-01-13T11:57:13.275Z"
   },
   {
    "duration": 327,
    "start_time": "2022-01-13T11:57:13.280Z"
   },
   {
    "duration": 3,
    "start_time": "2022-01-13T12:01:22.921Z"
   },
   {
    "duration": 230,
    "start_time": "2022-01-13T12:01:22.927Z"
   },
   {
    "duration": 12,
    "start_time": "2022-01-13T12:01:23.163Z"
   },
   {
    "duration": 28,
    "start_time": "2022-01-13T12:01:23.178Z"
   },
   {
    "duration": 67,
    "start_time": "2022-01-13T12:01:23.208Z"
   },
   {
    "duration": 38,
    "start_time": "2022-01-13T12:01:23.278Z"
   },
   {
    "duration": 5,
    "start_time": "2022-01-13T12:01:23.320Z"
   },
   {
    "duration": 115,
    "start_time": "2022-01-13T12:01:23.328Z"
   },
   {
    "duration": 19,
    "start_time": "2022-01-13T12:01:23.446Z"
   },
   {
    "duration": 172,
    "start_time": "2022-01-13T12:01:23.467Z"
   },
   {
    "duration": 12,
    "start_time": "2022-01-13T12:01:23.641Z"
   },
   {
    "duration": 29,
    "start_time": "2022-01-13T12:01:23.655Z"
   },
   {
    "duration": 36,
    "start_time": "2022-01-13T12:01:23.686Z"
   },
   {
    "duration": 56,
    "start_time": "2022-01-13T12:01:23.724Z"
   },
   {
    "duration": 81,
    "start_time": "2022-01-13T12:01:23.782Z"
   },
   {
    "duration": 5,
    "start_time": "2022-01-13T12:01:23.865Z"
   },
   {
    "duration": 68,
    "start_time": "2022-01-13T12:01:23.872Z"
   },
   {
    "duration": 56,
    "start_time": "2022-01-13T12:01:23.943Z"
   },
   {
    "duration": 131,
    "start_time": "2022-01-13T12:01:24.004Z"
   },
   {
    "duration": 10,
    "start_time": "2022-01-13T12:01:24.138Z"
   },
   {
    "duration": 34,
    "start_time": "2022-01-13T12:01:24.151Z"
   },
   {
    "duration": 29,
    "start_time": "2022-01-13T12:01:24.188Z"
   },
   {
    "duration": 89,
    "start_time": "2022-01-13T12:01:24.219Z"
   },
   {
    "duration": 53,
    "start_time": "2022-01-13T12:01:24.310Z"
   },
   {
    "duration": 21,
    "start_time": "2022-01-13T12:01:24.366Z"
   },
   {
    "duration": 16,
    "start_time": "2022-01-13T12:01:24.390Z"
   },
   {
    "duration": 35,
    "start_time": "2022-01-13T12:01:24.408Z"
   },
   {
    "duration": 19,
    "start_time": "2022-01-13T12:01:24.446Z"
   },
   {
    "duration": 10,
    "start_time": "2022-01-13T12:01:24.468Z"
   },
   {
    "duration": 25,
    "start_time": "2022-01-13T12:01:24.481Z"
   },
   {
    "duration": 11,
    "start_time": "2022-01-13T12:01:24.509Z"
   },
   {
    "duration": 44,
    "start_time": "2022-01-13T12:01:24.523Z"
   },
   {
    "duration": 8,
    "start_time": "2022-01-13T12:01:24.569Z"
   },
   {
    "duration": 15,
    "start_time": "2022-01-13T12:01:24.579Z"
   },
   {
    "duration": 155,
    "start_time": "2022-01-13T12:01:24.596Z"
   },
   {
    "duration": 29,
    "start_time": "2022-01-13T12:01:24.754Z"
   },
   {
    "duration": 2434,
    "start_time": "2022-01-13T12:01:24.786Z"
   },
   {
    "duration": 19,
    "start_time": "2022-01-13T12:01:27.223Z"
   },
   {
    "duration": 73,
    "start_time": "2022-01-13T12:01:27.245Z"
   },
   {
    "duration": 15,
    "start_time": "2022-01-13T12:01:27.320Z"
   },
   {
    "duration": 94,
    "start_time": "2022-01-13T12:01:27.337Z"
   },
   {
    "duration": 3279,
    "start_time": "2022-01-13T12:01:27.434Z"
   },
   {
    "duration": 23,
    "start_time": "2022-01-13T12:01:30.716Z"
   },
   {
    "duration": 25,
    "start_time": "2022-01-13T12:01:30.742Z"
   },
   {
    "duration": 661,
    "start_time": "2022-01-13T12:01:30.770Z"
   },
   {
    "duration": 39,
    "start_time": "2022-01-13T12:01:31.434Z"
   },
   {
    "duration": 17,
    "start_time": "2022-01-13T12:01:31.476Z"
   },
   {
    "duration": 7,
    "start_time": "2022-01-13T12:01:31.495Z"
   },
   {
    "duration": 373,
    "start_time": "2022-01-13T12:01:31.504Z"
   },
   {
    "duration": 11,
    "start_time": "2022-01-13T12:02:30.983Z"
   },
   {
    "duration": 991,
    "start_time": "2022-01-13T12:04:46.040Z"
   },
   {
    "duration": 37,
    "start_time": "2022-01-13T12:04:50.161Z"
   },
   {
    "duration": 896,
    "start_time": "2022-01-13T12:04:57.850Z"
   },
   {
    "duration": 121,
    "start_time": "2022-01-13T12:07:45.047Z"
   },
   {
    "duration": 60,
    "start_time": "2022-01-13T12:07:50.501Z"
   },
   {
    "duration": 48,
    "start_time": "2022-01-13T12:07:55.830Z"
   },
   {
    "duration": 98,
    "start_time": "2022-01-13T12:08:31.428Z"
   },
   {
    "duration": 76,
    "start_time": "2022-01-13T12:08:56.840Z"
   },
   {
    "duration": 3953,
    "start_time": "2022-01-13T12:09:03.084Z"
   },
   {
    "duration": 66,
    "start_time": "2022-01-13T12:09:13.915Z"
   },
   {
    "duration": 118,
    "start_time": "2022-01-13T12:09:31.626Z"
   },
   {
    "duration": 110,
    "start_time": "2022-01-13T12:10:01.215Z"
   },
   {
    "duration": 32,
    "start_time": "2022-01-13T12:10:05.648Z"
   },
   {
    "duration": 3258,
    "start_time": "2022-01-13T12:10:08.869Z"
   },
   {
    "duration": 34,
    "start_time": "2022-01-13T12:10:12.130Z"
   },
   {
    "duration": 4,
    "start_time": "2022-01-13T12:10:22.559Z"
   },
   {
    "duration": 302,
    "start_time": "2022-01-13T12:10:22.566Z"
   },
   {
    "duration": 13,
    "start_time": "2022-01-13T12:10:22.872Z"
   },
   {
    "duration": 48,
    "start_time": "2022-01-13T12:10:22.888Z"
   },
   {
    "duration": 59,
    "start_time": "2022-01-13T12:10:22.939Z"
   },
   {
    "duration": 72,
    "start_time": "2022-01-13T12:10:23.001Z"
   },
   {
    "duration": 8,
    "start_time": "2022-01-13T12:10:23.078Z"
   },
   {
    "duration": 136,
    "start_time": "2022-01-13T12:10:23.089Z"
   },
   {
    "duration": 16,
    "start_time": "2022-01-13T12:10:23.228Z"
   },
   {
    "duration": 267,
    "start_time": "2022-01-13T12:10:23.263Z"
   },
   {
    "duration": 30,
    "start_time": "2022-01-13T12:10:23.533Z"
   },
   {
    "duration": 38,
    "start_time": "2022-01-13T12:10:23.565Z"
   },
   {
    "duration": 63,
    "start_time": "2022-01-13T12:10:23.605Z"
   },
   {
    "duration": 39,
    "start_time": "2022-01-13T12:10:23.671Z"
   },
   {
    "duration": 105,
    "start_time": "2022-01-13T12:10:23.713Z"
   },
   {
    "duration": 4,
    "start_time": "2022-01-13T12:10:23.820Z"
   },
   {
    "duration": 45,
    "start_time": "2022-01-13T12:10:23.826Z"
   },
   {
    "duration": 76,
    "start_time": "2022-01-13T12:10:23.875Z"
   },
   {
    "duration": 120,
    "start_time": "2022-01-13T12:10:23.959Z"
   },
   {
    "duration": 11,
    "start_time": "2022-01-13T12:10:24.082Z"
   },
   {
    "duration": 29,
    "start_time": "2022-01-13T12:10:24.095Z"
   },
   {
    "duration": 53,
    "start_time": "2022-01-13T12:10:24.127Z"
   },
   {
    "duration": 98,
    "start_time": "2022-01-13T12:10:24.183Z"
   },
   {
    "duration": 46,
    "start_time": "2022-01-13T12:10:24.284Z"
   },
   {
    "duration": 32,
    "start_time": "2022-01-13T12:10:24.333Z"
   },
   {
    "duration": 36,
    "start_time": "2022-01-13T12:10:24.368Z"
   },
   {
    "duration": 40,
    "start_time": "2022-01-13T12:10:24.407Z"
   },
   {
    "duration": 18,
    "start_time": "2022-01-13T12:10:24.450Z"
   },
   {
    "duration": 11,
    "start_time": "2022-01-13T12:10:24.470Z"
   },
   {
    "duration": 36,
    "start_time": "2022-01-13T12:10:24.485Z"
   },
   {
    "duration": 10,
    "start_time": "2022-01-13T12:10:24.524Z"
   },
   {
    "duration": 26,
    "start_time": "2022-01-13T12:10:24.538Z"
   },
   {
    "duration": 35,
    "start_time": "2022-01-13T12:10:24.567Z"
   },
   {
    "duration": 20,
    "start_time": "2022-01-13T12:10:24.605Z"
   },
   {
    "duration": 137,
    "start_time": "2022-01-13T12:10:24.628Z"
   },
   {
    "duration": 41,
    "start_time": "2022-01-13T12:10:24.768Z"
   },
   {
    "duration": 2026,
    "start_time": "2022-01-13T12:10:24.812Z"
   },
   {
    "duration": 26,
    "start_time": "2022-01-13T12:10:26.841Z"
   },
   {
    "duration": 62,
    "start_time": "2022-01-13T12:10:26.870Z"
   },
   {
    "duration": 29,
    "start_time": "2022-01-13T12:10:26.935Z"
   },
   {
    "duration": 140,
    "start_time": "2022-01-13T12:10:26.967Z"
   },
   {
    "duration": 172,
    "start_time": "2022-01-13T12:10:27.109Z"
   },
   {
    "duration": 3190,
    "start_time": "2022-01-13T12:10:27.285Z"
   },
   {
    "duration": 25,
    "start_time": "2022-01-13T12:10:30.478Z"
   },
   {
    "duration": 15,
    "start_time": "2022-01-13T12:10:30.506Z"
   },
   {
    "duration": 764,
    "start_time": "2022-01-13T12:10:30.524Z"
   },
   {
    "duration": 33,
    "start_time": "2022-01-13T12:10:31.291Z"
   },
   {
    "duration": 38,
    "start_time": "2022-01-13T12:10:31.326Z"
   },
   {
    "duration": 12,
    "start_time": "2022-01-13T12:10:31.367Z"
   },
   {
    "duration": 397,
    "start_time": "2022-01-13T12:10:31.381Z"
   },
   {
    "duration": 329,
    "start_time": "2022-01-13T12:13:35.417Z"
   },
   {
    "duration": 44,
    "start_time": "2022-01-13T12:13:48.044Z"
   },
   {
    "duration": 4005,
    "start_time": "2022-01-13T12:13:51.519Z"
   },
   {
    "duration": 49,
    "start_time": "2022-01-13T12:13:55.528Z"
   },
   {
    "duration": 29,
    "start_time": "2022-01-13T12:14:00.884Z"
   },
   {
    "duration": 5,
    "start_time": "2022-01-13T12:14:11.183Z"
   },
   {
    "duration": 237,
    "start_time": "2022-01-13T12:14:11.191Z"
   },
   {
    "duration": 13,
    "start_time": "2022-01-13T12:14:11.431Z"
   },
   {
    "duration": 55,
    "start_time": "2022-01-13T12:14:11.447Z"
   },
   {
    "duration": 62,
    "start_time": "2022-01-13T12:14:11.504Z"
   },
   {
    "duration": 56,
    "start_time": "2022-01-13T12:14:11.568Z"
   },
   {
    "duration": 7,
    "start_time": "2022-01-13T12:14:11.628Z"
   },
   {
    "duration": 142,
    "start_time": "2022-01-13T12:14:11.663Z"
   },
   {
    "duration": 17,
    "start_time": "2022-01-13T12:14:11.808Z"
   },
   {
    "duration": 193,
    "start_time": "2022-01-13T12:14:11.828Z"
   },
   {
    "duration": 12,
    "start_time": "2022-01-13T12:14:12.024Z"
   },
   {
    "duration": 40,
    "start_time": "2022-01-13T12:14:12.038Z"
   },
   {
    "duration": 37,
    "start_time": "2022-01-13T12:14:12.081Z"
   },
   {
    "duration": 58,
    "start_time": "2022-01-13T12:14:12.120Z"
   },
   {
    "duration": 67,
    "start_time": "2022-01-13T12:14:12.180Z"
   },
   {
    "duration": 4,
    "start_time": "2022-01-13T12:14:12.262Z"
   },
   {
    "duration": 17,
    "start_time": "2022-01-13T12:14:12.268Z"
   },
   {
    "duration": 37,
    "start_time": "2022-01-13T12:14:12.288Z"
   },
   {
    "duration": 156,
    "start_time": "2022-01-13T12:14:12.331Z"
   },
   {
    "duration": 11,
    "start_time": "2022-01-13T12:14:12.490Z"
   },
   {
    "duration": 29,
    "start_time": "2022-01-13T12:14:12.504Z"
   },
   {
    "duration": 57,
    "start_time": "2022-01-13T12:14:12.536Z"
   },
   {
    "duration": 96,
    "start_time": "2022-01-13T12:14:12.596Z"
   },
   {
    "duration": 40,
    "start_time": "2022-01-13T12:14:12.695Z"
   },
   {
    "duration": 31,
    "start_time": "2022-01-13T12:14:12.738Z"
   },
   {
    "duration": 18,
    "start_time": "2022-01-13T12:14:12.772Z"
   },
   {
    "duration": 33,
    "start_time": "2022-01-13T12:14:12.793Z"
   },
   {
    "duration": 18,
    "start_time": "2022-01-13T12:14:12.829Z"
   },
   {
    "duration": 20,
    "start_time": "2022-01-13T12:14:12.850Z"
   },
   {
    "duration": 29,
    "start_time": "2022-01-13T12:14:12.873Z"
   },
   {
    "duration": 11,
    "start_time": "2022-01-13T12:14:12.904Z"
   },
   {
    "duration": 8,
    "start_time": "2022-01-13T12:14:12.917Z"
   },
   {
    "duration": 7,
    "start_time": "2022-01-13T12:14:12.963Z"
   },
   {
    "duration": 11,
    "start_time": "2022-01-13T12:14:12.972Z"
   },
   {
    "duration": 142,
    "start_time": "2022-01-13T12:14:12.985Z"
   },
   {
    "duration": 33,
    "start_time": "2022-01-13T12:14:13.130Z"
   },
   {
    "duration": 1802,
    "start_time": "2022-01-13T12:14:13.166Z"
   },
   {
    "duration": 16,
    "start_time": "2022-01-13T12:14:14.970Z"
   },
   {
    "duration": 40,
    "start_time": "2022-01-13T12:14:14.989Z"
   },
   {
    "duration": 37,
    "start_time": "2022-01-13T12:14:15.032Z"
   },
   {
    "duration": 55,
    "start_time": "2022-01-13T12:14:15.072Z"
   },
   {
    "duration": 53,
    "start_time": "2022-01-13T12:14:15.130Z"
   },
   {
    "duration": 3195,
    "start_time": "2022-01-13T12:14:15.185Z"
   },
   {
    "duration": 27,
    "start_time": "2022-01-13T12:14:18.382Z"
   },
   {
    "duration": 10,
    "start_time": "2022-01-13T12:14:18.412Z"
   },
   {
    "duration": 677,
    "start_time": "2022-01-13T12:14:18.425Z"
   },
   {
    "duration": 30,
    "start_time": "2022-01-13T12:14:19.104Z"
   },
   {
    "duration": 36,
    "start_time": "2022-01-13T12:14:19.137Z"
   },
   {
    "duration": 5,
    "start_time": "2022-01-13T12:14:19.175Z"
   },
   {
    "duration": 504,
    "start_time": "2022-01-13T12:14:19.182Z"
   },
   {
    "duration": 401,
    "start_time": "2022-01-13T12:18:25.145Z"
   },
   {
    "duration": 24,
    "start_time": "2022-01-13T12:19:23.874Z"
   },
   {
    "duration": 11,
    "start_time": "2022-01-13T12:21:37.213Z"
   },
   {
    "duration": 32,
    "start_time": "2022-01-13T12:21:52.354Z"
   },
   {
    "duration": 39,
    "start_time": "2022-01-13T12:24:52.690Z"
   },
   {
    "duration": 49,
    "start_time": "2022-01-13T12:26:18.044Z"
   },
   {
    "duration": 39,
    "start_time": "2022-01-13T12:26:29.096Z"
   },
   {
    "duration": 3,
    "start_time": "2022-01-13T12:32:46.922Z"
   },
   {
    "duration": 18,
    "start_time": "2022-01-13T12:32:53.844Z"
   },
   {
    "duration": 40,
    "start_time": "2022-01-13T12:36:59.863Z"
   },
   {
    "duration": 39,
    "start_time": "2022-01-13T12:39:14.888Z"
   },
   {
    "duration": 450,
    "start_time": "2022-01-13T12:41:48.827Z"
   },
   {
    "duration": 45,
    "start_time": "2022-01-13T12:42:01.153Z"
   },
   {
    "duration": 67,
    "start_time": "2022-01-13T12:42:23.282Z"
   },
   {
    "duration": 69,
    "start_time": "2022-01-13T12:50:09.822Z"
   },
   {
    "duration": 14416,
    "start_time": "2022-01-13T12:51:24.309Z"
   },
   {
    "duration": 2632,
    "start_time": "2022-01-13T12:56:58.145Z"
   },
   {
    "duration": 40,
    "start_time": "2022-01-13T12:57:37.383Z"
   },
   {
    "duration": 2724,
    "start_time": "2022-01-13T12:57:40.001Z"
   },
   {
    "duration": 31,
    "start_time": "2022-01-13T12:59:02.005Z"
   },
   {
    "duration": 72,
    "start_time": "2022-01-13T12:59:06.518Z"
   },
   {
    "duration": 28,
    "start_time": "2022-01-13T12:59:13.067Z"
   },
   {
    "duration": 516,
    "start_time": "2022-01-13T13:00:32.994Z"
   },
   {
    "duration": 573,
    "start_time": "2022-01-13T13:00:46.278Z"
   },
   {
    "duration": 346,
    "start_time": "2022-01-13T13:03:09.516Z"
   },
   {
    "duration": 422,
    "start_time": "2022-01-13T13:03:40.141Z"
   },
   {
    "duration": 4,
    "start_time": "2022-01-13T13:09:27.896Z"
   },
   {
    "duration": 271,
    "start_time": "2022-01-13T13:09:27.904Z"
   },
   {
    "duration": 14,
    "start_time": "2022-01-13T13:09:28.178Z"
   },
   {
    "duration": 54,
    "start_time": "2022-01-13T13:09:28.196Z"
   },
   {
    "duration": 51,
    "start_time": "2022-01-13T13:09:28.253Z"
   },
   {
    "duration": 67,
    "start_time": "2022-01-13T13:09:28.307Z"
   },
   {
    "duration": 7,
    "start_time": "2022-01-13T13:09:28.378Z"
   },
   {
    "duration": 158,
    "start_time": "2022-01-13T13:09:28.389Z"
   },
   {
    "duration": 24,
    "start_time": "2022-01-13T13:09:28.550Z"
   },
   {
    "duration": 281,
    "start_time": "2022-01-13T13:09:28.577Z"
   },
   {
    "duration": 18,
    "start_time": "2022-01-13T13:09:28.862Z"
   },
   {
    "duration": 39,
    "start_time": "2022-01-13T13:09:28.883Z"
   },
   {
    "duration": 74,
    "start_time": "2022-01-13T13:09:28.926Z"
   },
   {
    "duration": 31,
    "start_time": "2022-01-13T13:09:29.003Z"
   },
   {
    "duration": 98,
    "start_time": "2022-01-13T13:09:29.037Z"
   },
   {
    "duration": 18,
    "start_time": "2022-01-13T13:09:29.138Z"
   },
   {
    "duration": 55,
    "start_time": "2022-01-13T13:09:29.159Z"
   },
   {
    "duration": 79,
    "start_time": "2022-01-13T13:09:29.217Z"
   },
   {
    "duration": 186,
    "start_time": "2022-01-13T13:09:29.306Z"
   },
   {
    "duration": 20,
    "start_time": "2022-01-13T13:09:29.500Z"
   },
   {
    "duration": 53,
    "start_time": "2022-01-13T13:09:29.524Z"
   },
   {
    "duration": 58,
    "start_time": "2022-01-13T13:09:29.580Z"
   },
   {
    "duration": 79,
    "start_time": "2022-01-13T13:09:29.641Z"
   },
   {
    "duration": 69,
    "start_time": "2022-01-13T13:09:29.723Z"
   },
   {
    "duration": 23,
    "start_time": "2022-01-13T13:09:29.795Z"
   },
   {
    "duration": 59,
    "start_time": "2022-01-13T13:09:29.821Z"
   },
   {
    "duration": 37,
    "start_time": "2022-01-13T13:09:29.884Z"
   },
   {
    "duration": 37,
    "start_time": "2022-01-13T13:09:29.924Z"
   },
   {
    "duration": 31,
    "start_time": "2022-01-13T13:09:29.965Z"
   },
   {
    "duration": 84,
    "start_time": "2022-01-13T13:09:30.000Z"
   },
   {
    "duration": 32,
    "start_time": "2022-01-13T13:09:30.088Z"
   },
   {
    "duration": 28,
    "start_time": "2022-01-13T13:09:30.123Z"
   },
   {
    "duration": 43,
    "start_time": "2022-01-13T13:09:30.154Z"
   },
   {
    "duration": 31,
    "start_time": "2022-01-13T13:09:30.200Z"
   },
   {
    "duration": 173,
    "start_time": "2022-01-13T13:09:30.234Z"
   },
   {
    "duration": 27,
    "start_time": "2022-01-13T13:09:30.410Z"
   },
   {
    "duration": 2258,
    "start_time": "2022-01-13T13:09:30.440Z"
   },
   {
    "duration": 18,
    "start_time": "2022-01-13T13:09:32.701Z"
   },
   {
    "duration": 67,
    "start_time": "2022-01-13T13:09:32.722Z"
   },
   {
    "duration": 11,
    "start_time": "2022-01-13T13:09:32.793Z"
   },
   {
    "duration": 72,
    "start_time": "2022-01-13T13:09:32.807Z"
   },
   {
    "duration": 40,
    "start_time": "2022-01-13T13:09:32.881Z"
   },
   {
    "duration": 4048,
    "start_time": "2022-01-13T13:09:32.925Z"
   },
   {
    "duration": 11,
    "start_time": "2022-01-13T13:09:36.977Z"
   },
   {
    "duration": 1315,
    "start_time": "2022-01-13T13:09:36.992Z"
   },
   {
    "duration": 3,
    "start_time": "2022-01-13T13:09:38.310Z"
   },
   {
    "duration": 48,
    "start_time": "2022-01-13T13:09:38.316Z"
   },
   {
    "duration": 604,
    "start_time": "2022-01-13T13:09:38.367Z"
   },
   {
    "duration": 91,
    "start_time": "2022-01-13T13:09:38.974Z"
   },
   {
    "duration": 314,
    "start_time": "2022-01-13T13:11:32.054Z"
   },
   {
    "duration": 53,
    "start_time": "2022-01-13T13:12:40.324Z"
   },
   {
    "duration": 52,
    "start_time": "2022-01-13T13:14:23.719Z"
   },
   {
    "duration": 305,
    "start_time": "2022-01-13T13:15:00.708Z"
   },
   {
    "duration": 182,
    "start_time": "2022-01-13T13:15:42.332Z"
   },
   {
    "duration": 219,
    "start_time": "2022-01-13T13:15:42.518Z"
   },
   {
    "duration": 22,
    "start_time": "2022-01-13T13:15:42.741Z"
   },
   {
    "duration": 29,
    "start_time": "2022-01-13T13:15:42.765Z"
   },
   {
    "duration": 39,
    "start_time": "2022-01-13T13:15:42.797Z"
   },
   {
    "duration": 40,
    "start_time": "2022-01-13T13:15:42.864Z"
   },
   {
    "duration": 7,
    "start_time": "2022-01-13T13:15:42.908Z"
   },
   {
    "duration": 116,
    "start_time": "2022-01-13T13:15:42.922Z"
   },
   {
    "duration": 28,
    "start_time": "2022-01-13T13:15:43.042Z"
   },
   {
    "duration": 208,
    "start_time": "2022-01-13T13:15:43.074Z"
   },
   {
    "duration": 17,
    "start_time": "2022-01-13T13:15:43.286Z"
   },
   {
    "duration": 60,
    "start_time": "2022-01-13T13:15:43.306Z"
   },
   {
    "duration": 44,
    "start_time": "2022-01-13T13:15:43.370Z"
   },
   {
    "duration": 71,
    "start_time": "2022-01-13T13:15:43.418Z"
   },
   {
    "duration": 99,
    "start_time": "2022-01-13T13:15:43.493Z"
   },
   {
    "duration": 9,
    "start_time": "2022-01-13T13:15:43.596Z"
   },
   {
    "duration": 17,
    "start_time": "2022-01-13T13:15:43.609Z"
   },
   {
    "duration": 81,
    "start_time": "2022-01-13T13:15:43.629Z"
   },
   {
    "duration": 187,
    "start_time": "2022-01-13T13:15:43.714Z"
   },
   {
    "duration": 17,
    "start_time": "2022-01-13T13:15:43.905Z"
   },
   {
    "duration": 45,
    "start_time": "2022-01-13T13:15:43.925Z"
   },
   {
    "duration": 38,
    "start_time": "2022-01-13T13:15:43.973Z"
   },
   {
    "duration": 106,
    "start_time": "2022-01-13T13:15:44.021Z"
   },
   {
    "duration": 70,
    "start_time": "2022-01-13T13:15:44.131Z"
   },
   {
    "duration": 24,
    "start_time": "2022-01-13T13:15:44.204Z"
   },
   {
    "duration": 16,
    "start_time": "2022-01-13T13:15:44.232Z"
   },
   {
    "duration": 43,
    "start_time": "2022-01-13T13:15:44.264Z"
   },
   {
    "duration": 22,
    "start_time": "2022-01-13T13:15:44.311Z"
   },
   {
    "duration": 21,
    "start_time": "2022-01-13T13:15:44.337Z"
   },
   {
    "duration": 33,
    "start_time": "2022-01-13T13:15:44.361Z"
   },
   {
    "duration": 13,
    "start_time": "2022-01-13T13:15:44.398Z"
   },
   {
    "duration": 10,
    "start_time": "2022-01-13T13:15:44.415Z"
   },
   {
    "duration": 42,
    "start_time": "2022-01-13T13:15:44.429Z"
   },
   {
    "duration": 15,
    "start_time": "2022-01-13T13:15:44.475Z"
   },
   {
    "duration": 169,
    "start_time": "2022-01-13T13:15:44.494Z"
   },
   {
    "duration": 24,
    "start_time": "2022-01-13T13:15:44.666Z"
   },
   {
    "duration": 1932,
    "start_time": "2022-01-13T13:15:44.693Z"
   },
   {
    "duration": 35,
    "start_time": "2022-01-13T13:15:46.628Z"
   },
   {
    "duration": 43,
    "start_time": "2022-01-13T13:15:46.665Z"
   },
   {
    "duration": 14,
    "start_time": "2022-01-13T13:15:46.716Z"
   },
   {
    "duration": 70,
    "start_time": "2022-01-13T13:15:46.734Z"
   },
   {
    "duration": 66,
    "start_time": "2022-01-13T13:15:46.807Z"
   },
   {
    "duration": 3975,
    "start_time": "2022-01-13T13:15:46.876Z"
   },
   {
    "duration": 16,
    "start_time": "2022-01-13T13:15:50.854Z"
   },
   {
    "duration": 911,
    "start_time": "2022-01-13T13:15:50.873Z"
   },
   {
    "duration": 3,
    "start_time": "2022-01-13T13:15:51.787Z"
   },
   {
    "duration": 25,
    "start_time": "2022-01-13T13:15:51.793Z"
   },
   {
    "duration": 608,
    "start_time": "2022-01-13T13:15:51.822Z"
   },
   {
    "duration": 91,
    "start_time": "2022-01-13T13:15:52.433Z"
   },
   {
    "duration": 582,
    "start_time": "2022-01-13T13:15:52.529Z"
   },
   {
    "duration": 2273,
    "start_time": "2022-01-13T13:16:21.504Z"
   },
   {
    "duration": 336,
    "start_time": "2022-01-13T13:16:58.173Z"
   },
   {
    "duration": 2088,
    "start_time": "2022-01-13T13:18:11.376Z"
   },
   {
    "duration": 1961,
    "start_time": "2022-01-13T13:18:20.018Z"
   },
   {
    "duration": 561,
    "start_time": "2022-01-13T13:19:05.414Z"
   },
   {
    "duration": 391,
    "start_time": "2022-01-13T13:19:16.876Z"
   },
   {
    "duration": 2181,
    "start_time": "2022-01-13T13:20:16.103Z"
   },
   {
    "duration": 122,
    "start_time": "2022-01-13T13:34:53.532Z"
   },
   {
    "duration": 19,
    "start_time": "2022-01-13T13:34:58.795Z"
   },
   {
    "duration": 5,
    "start_time": "2022-01-13T13:36:23.577Z"
   },
   {
    "duration": 242,
    "start_time": "2022-01-13T13:36:23.584Z"
   },
   {
    "duration": 11,
    "start_time": "2022-01-13T13:36:23.829Z"
   },
   {
    "duration": 56,
    "start_time": "2022-01-13T13:36:23.843Z"
   },
   {
    "duration": 64,
    "start_time": "2022-01-13T13:36:23.901Z"
   },
   {
    "duration": 54,
    "start_time": "2022-01-13T13:36:23.968Z"
   },
   {
    "duration": 6,
    "start_time": "2022-01-13T13:36:24.026Z"
   },
   {
    "duration": 149,
    "start_time": "2022-01-13T13:36:24.038Z"
   },
   {
    "duration": 15,
    "start_time": "2022-01-13T13:36:24.190Z"
   },
   {
    "duration": 251,
    "start_time": "2022-01-13T13:36:24.208Z"
   },
   {
    "duration": 17,
    "start_time": "2022-01-13T13:36:24.462Z"
   },
   {
    "duration": 23,
    "start_time": "2022-01-13T13:36:24.482Z"
   },
   {
    "duration": 78,
    "start_time": "2022-01-13T13:36:24.508Z"
   },
   {
    "duration": 42,
    "start_time": "2022-01-13T13:36:24.589Z"
   },
   {
    "duration": 119,
    "start_time": "2022-01-13T13:36:24.634Z"
   },
   {
    "duration": 3,
    "start_time": "2022-01-13T13:36:24.756Z"
   },
   {
    "duration": 20,
    "start_time": "2022-01-13T13:36:24.762Z"
   },
   {
    "duration": 52,
    "start_time": "2022-01-13T13:36:24.784Z"
   },
   {
    "duration": 198,
    "start_time": "2022-01-13T13:36:24.838Z"
   },
   {
    "duration": 14,
    "start_time": "2022-01-13T13:36:25.039Z"
   },
   {
    "duration": 20,
    "start_time": "2022-01-13T13:36:25.063Z"
   },
   {
    "duration": 24,
    "start_time": "2022-01-13T13:36:25.086Z"
   },
   {
    "duration": 82,
    "start_time": "2022-01-13T13:36:25.115Z"
   },
   {
    "duration": 33,
    "start_time": "2022-01-13T13:36:25.200Z"
   },
   {
    "duration": 45,
    "start_time": "2022-01-13T13:36:25.236Z"
   },
   {
    "duration": 14,
    "start_time": "2022-01-13T13:36:25.284Z"
   },
   {
    "duration": 34,
    "start_time": "2022-01-13T13:36:25.301Z"
   },
   {
    "duration": 14,
    "start_time": "2022-01-13T13:36:25.338Z"
   },
   {
    "duration": 12,
    "start_time": "2022-01-13T13:36:25.355Z"
   },
   {
    "duration": 20,
    "start_time": "2022-01-13T13:36:25.370Z"
   },
   {
    "duration": 9,
    "start_time": "2022-01-13T13:36:25.393Z"
   },
   {
    "duration": 7,
    "start_time": "2022-01-13T13:36:25.404Z"
   },
   {
    "duration": 48,
    "start_time": "2022-01-13T13:36:25.414Z"
   },
   {
    "duration": 14,
    "start_time": "2022-01-13T13:36:25.465Z"
   },
   {
    "duration": 133,
    "start_time": "2022-01-13T13:36:25.481Z"
   },
   {
    "duration": 19,
    "start_time": "2022-01-13T13:36:25.617Z"
   },
   {
    "duration": 1860,
    "start_time": "2022-01-13T13:36:25.639Z"
   },
   {
    "duration": 16,
    "start_time": "2022-01-13T13:36:27.502Z"
   },
   {
    "duration": 68,
    "start_time": "2022-01-13T13:36:27.521Z"
   },
   {
    "duration": 10,
    "start_time": "2022-01-13T13:36:27.592Z"
   },
   {
    "duration": 69,
    "start_time": "2022-01-13T13:36:27.605Z"
   },
   {
    "duration": 45,
    "start_time": "2022-01-13T13:36:27.677Z"
   },
   {
    "duration": 3724,
    "start_time": "2022-01-13T13:36:27.725Z"
   },
   {
    "duration": 12,
    "start_time": "2022-01-13T13:36:31.452Z"
   },
   {
    "duration": 671,
    "start_time": "2022-01-13T13:36:31.467Z"
   },
   {
    "duration": 4,
    "start_time": "2022-01-13T13:36:32.141Z"
   },
   {
    "duration": 28,
    "start_time": "2022-01-13T13:36:32.148Z"
   },
   {
    "duration": 374,
    "start_time": "2022-01-13T13:36:32.179Z"
   },
   {
    "duration": 48,
    "start_time": "2022-01-13T13:36:32.563Z"
   },
   {
    "duration": 1778,
    "start_time": "2022-01-13T13:36:32.614Z"
   },
   {
    "duration": 373,
    "start_time": "2022-01-13T13:36:59.627Z"
   },
   {
    "duration": 353,
    "start_time": "2022-01-13T13:37:46.128Z"
   },
   {
    "duration": 407,
    "start_time": "2022-01-13T13:37:49.319Z"
   },
   {
    "duration": 60,
    "start_time": "2022-01-13T13:37:52.053Z"
   },
   {
    "duration": 2159,
    "start_time": "2022-01-13T13:38:02.804Z"
   },
   {
    "duration": 4,
    "start_time": "2022-01-16T06:44:52.185Z"
   },
   {
    "duration": 224,
    "start_time": "2022-01-16T06:44:52.192Z"
   },
   {
    "duration": 12,
    "start_time": "2022-01-16T06:44:52.419Z"
   },
   {
    "duration": 44,
    "start_time": "2022-01-16T06:44:52.434Z"
   },
   {
    "duration": 36,
    "start_time": "2022-01-16T06:44:52.480Z"
   },
   {
    "duration": 70,
    "start_time": "2022-01-16T06:44:52.518Z"
   },
   {
    "duration": 6,
    "start_time": "2022-01-16T06:44:52.590Z"
   },
   {
    "duration": 107,
    "start_time": "2022-01-16T06:44:52.598Z"
   },
   {
    "duration": 13,
    "start_time": "2022-01-16T06:44:52.709Z"
   },
   {
    "duration": 191,
    "start_time": "2022-01-16T06:44:52.726Z"
   },
   {
    "duration": 12,
    "start_time": "2022-01-16T06:44:52.919Z"
   },
   {
    "duration": 41,
    "start_time": "2022-01-16T06:44:52.933Z"
   },
   {
    "duration": 38,
    "start_time": "2022-01-16T06:44:52.976Z"
   },
   {
    "duration": 57,
    "start_time": "2022-01-16T06:44:53.016Z"
   },
   {
    "duration": 63,
    "start_time": "2022-01-16T06:44:53.076Z"
   },
   {
    "duration": 2,
    "start_time": "2022-01-16T06:44:53.142Z"
   },
   {
    "duration": 29,
    "start_time": "2022-01-16T06:44:53.146Z"
   },
   {
    "duration": 41,
    "start_time": "2022-01-16T06:44:53.177Z"
   },
   {
    "duration": 167,
    "start_time": "2022-01-16T06:44:53.220Z"
   },
   {
    "duration": 10,
    "start_time": "2022-01-16T06:44:53.390Z"
   },
   {
    "duration": 21,
    "start_time": "2022-01-16T06:44:53.403Z"
   },
   {
    "duration": 55,
    "start_time": "2022-01-16T06:44:53.427Z"
   },
   {
    "duration": 55,
    "start_time": "2022-01-16T06:44:53.485Z"
   },
   {
    "duration": 45,
    "start_time": "2022-01-16T06:44:53.542Z"
   },
   {
    "duration": 19,
    "start_time": "2022-01-16T06:44:53.589Z"
   },
   {
    "duration": 14,
    "start_time": "2022-01-16T06:44:53.610Z"
   },
   {
    "duration": 39,
    "start_time": "2022-01-16T06:44:53.629Z"
   },
   {
    "duration": 18,
    "start_time": "2022-01-16T06:44:53.671Z"
   },
   {
    "duration": 11,
    "start_time": "2022-01-16T06:44:53.692Z"
   },
   {
    "duration": 24,
    "start_time": "2022-01-16T06:44:53.706Z"
   },
   {
    "duration": 9,
    "start_time": "2022-01-16T06:44:53.763Z"
   },
   {
    "duration": 18,
    "start_time": "2022-01-16T06:44:53.775Z"
   },
   {
    "duration": 8,
    "start_time": "2022-01-16T06:44:53.796Z"
   },
   {
    "duration": 14,
    "start_time": "2022-01-16T06:44:53.807Z"
   },
   {
    "duration": 169,
    "start_time": "2022-01-16T06:44:53.824Z"
   },
   {
    "duration": 19,
    "start_time": "2022-01-16T06:44:53.995Z"
   },
   {
    "duration": 2063,
    "start_time": "2022-01-16T06:44:54.016Z"
   },
   {
    "duration": 16,
    "start_time": "2022-01-16T06:44:56.082Z"
   },
   {
    "duration": 68,
    "start_time": "2022-01-16T06:44:56.100Z"
   },
   {
    "duration": 10,
    "start_time": "2022-01-16T06:44:56.171Z"
   },
   {
    "duration": 47,
    "start_time": "2022-01-16T06:44:56.183Z"
   },
   {
    "duration": 58,
    "start_time": "2022-01-16T06:44:56.233Z"
   },
   {
    "duration": 3252,
    "start_time": "2022-01-16T06:44:56.293Z"
   },
   {
    "duration": 16,
    "start_time": "2022-01-16T06:44:59.548Z"
   },
   {
    "duration": 638,
    "start_time": "2022-01-16T06:44:59.567Z"
   },
   {
    "duration": 3,
    "start_time": "2022-01-16T06:45:00.207Z"
   },
   {
    "duration": 41,
    "start_time": "2022-01-16T06:45:00.212Z"
   },
   {
    "duration": 365,
    "start_time": "2022-01-16T06:45:00.256Z"
   },
   {
    "duration": 64,
    "start_time": "2022-01-16T06:45:00.623Z"
   },
   {
    "duration": 399,
    "start_time": "2022-01-16T06:45:00.689Z"
   },
   {
    "duration": 245,
    "start_time": "2022-01-16T06:46:05.405Z"
   },
   {
    "duration": 262,
    "start_time": "2022-01-16T06:46:35.968Z"
   },
   {
    "duration": 7617,
    "start_time": "2022-01-16T06:47:39.042Z"
   },
   {
    "duration": 257,
    "start_time": "2022-01-16T06:47:54.482Z"
   },
   {
    "duration": 249,
    "start_time": "2022-01-16T06:49:50.228Z"
   },
   {
    "duration": 254,
    "start_time": "2022-01-16T06:50:24.908Z"
   },
   {
    "duration": 272,
    "start_time": "2022-01-16T06:51:17.437Z"
   },
   {
    "duration": 7412,
    "start_time": "2022-01-16T06:52:50.672Z"
   },
   {
    "duration": 689,
    "start_time": "2022-01-16T06:53:18.400Z"
   },
   {
    "duration": 795,
    "start_time": "2022-01-16T06:53:38.064Z"
   },
   {
    "duration": 843,
    "start_time": "2022-01-16T06:53:47.256Z"
   },
   {
    "duration": 938,
    "start_time": "2022-01-16T06:53:59.072Z"
   },
   {
    "duration": 624,
    "start_time": "2022-01-16T06:54:08.051Z"
   },
   {
    "duration": 599,
    "start_time": "2022-01-16T07:03:47.227Z"
   },
   {
    "duration": 322,
    "start_time": "2022-01-16T07:04:55.574Z"
   },
   {
    "duration": 306,
    "start_time": "2022-01-16T07:05:10.102Z"
   },
   {
    "duration": 254,
    "start_time": "2022-01-16T07:05:42.591Z"
   },
   {
    "duration": 309,
    "start_time": "2022-01-16T07:06:05.256Z"
   },
   {
    "duration": 783,
    "start_time": "2022-01-16T07:06:49.342Z"
   },
   {
    "duration": 9917,
    "start_time": "2022-01-16T07:07:04.953Z"
   },
   {
    "duration": 402,
    "start_time": "2022-01-16T07:09:22.927Z"
   },
   {
    "duration": 1357,
    "start_time": "2022-01-16T07:09:47.172Z"
   },
   {
    "duration": 953,
    "start_time": "2022-01-16T07:12:12.305Z"
   },
   {
    "duration": 428,
    "start_time": "2022-01-16T07:12:48.802Z"
   },
   {
    "duration": 548,
    "start_time": "2022-01-16T07:14:27.690Z"
   },
   {
    "duration": 248,
    "start_time": "2022-01-16T07:15:16.586Z"
   },
   {
    "duration": 294,
    "start_time": "2022-01-16T07:16:49.237Z"
   },
   {
    "duration": 310,
    "start_time": "2022-01-16T07:17:20.752Z"
   },
   {
    "duration": 377,
    "start_time": "2022-01-16T07:17:33.919Z"
   },
   {
    "duration": 312,
    "start_time": "2022-01-16T07:17:41.869Z"
   },
   {
    "duration": 317,
    "start_time": "2022-01-16T07:18:17.742Z"
   },
   {
    "duration": 294,
    "start_time": "2022-01-16T07:18:43.799Z"
   },
   {
    "duration": 313,
    "start_time": "2022-01-16T07:18:55.391Z"
   },
   {
    "duration": 294,
    "start_time": "2022-01-16T07:19:09.473Z"
   },
   {
    "duration": 245,
    "start_time": "2022-01-16T07:19:26.450Z"
   },
   {
    "duration": 7523,
    "start_time": "2022-01-16T07:24:07.397Z"
   },
   {
    "duration": 7452,
    "start_time": "2022-01-16T07:24:26.445Z"
   },
   {
    "duration": 308,
    "start_time": "2022-01-16T07:24:57.079Z"
   },
   {
    "duration": 436,
    "start_time": "2022-01-16T07:25:16.735Z"
   },
   {
    "duration": 678,
    "start_time": "2022-01-16T07:25:43.767Z"
   },
   {
    "duration": 1241,
    "start_time": "2022-01-16T07:26:27.832Z"
   },
   {
    "duration": 1215,
    "start_time": "2022-01-16T07:26:43.065Z"
   },
   {
    "duration": 7499,
    "start_time": "2022-01-16T07:28:03.074Z"
   },
   {
    "duration": 314,
    "start_time": "2022-01-16T07:28:25.252Z"
   },
   {
    "duration": 911,
    "start_time": "2022-01-16T07:29:20.756Z"
   },
   {
    "duration": 249,
    "start_time": "2022-01-16T07:32:26.936Z"
   },
   {
    "duration": 253,
    "start_time": "2022-01-16T07:32:36.889Z"
   },
   {
    "duration": 260,
    "start_time": "2022-01-16T07:33:46.328Z"
   },
   {
    "duration": 260,
    "start_time": "2022-01-16T07:34:10.206Z"
   },
   {
    "duration": 259,
    "start_time": "2022-01-16T07:34:36.138Z"
   },
   {
    "duration": 4,
    "start_time": "2022-01-16T07:38:28.025Z"
   },
   {
    "duration": 221,
    "start_time": "2022-01-16T07:38:28.032Z"
   },
   {
    "duration": 16,
    "start_time": "2022-01-16T07:38:28.256Z"
   },
   {
    "duration": 27,
    "start_time": "2022-01-16T07:38:28.275Z"
   },
   {
    "duration": 74,
    "start_time": "2022-01-16T07:38:28.304Z"
   },
   {
    "duration": 39,
    "start_time": "2022-01-16T07:38:28.381Z"
   },
   {
    "duration": 7,
    "start_time": "2022-01-16T07:38:28.423Z"
   },
   {
    "duration": 115,
    "start_time": "2022-01-16T07:38:28.462Z"
   },
   {
    "duration": 13,
    "start_time": "2022-01-16T07:38:28.580Z"
   },
   {
    "duration": 189,
    "start_time": "2022-01-16T07:38:28.595Z"
   },
   {
    "duration": 12,
    "start_time": "2022-01-16T07:38:28.787Z"
   },
   {
    "duration": 26,
    "start_time": "2022-01-16T07:38:28.801Z"
   },
   {
    "duration": 67,
    "start_time": "2022-01-16T07:38:28.829Z"
   },
   {
    "duration": 29,
    "start_time": "2022-01-16T07:38:28.898Z"
   },
   {
    "duration": 92,
    "start_time": "2022-01-16T07:38:28.930Z"
   },
   {
    "duration": 12,
    "start_time": "2022-01-16T07:38:29.024Z"
   },
   {
    "duration": 33,
    "start_time": "2022-01-16T07:38:29.038Z"
   },
   {
    "duration": 54,
    "start_time": "2022-01-16T07:38:29.074Z"
   },
   {
    "duration": 129,
    "start_time": "2022-01-16T07:38:29.131Z"
   },
   {
    "duration": 11,
    "start_time": "2022-01-16T07:38:29.263Z"
   },
   {
    "duration": 33,
    "start_time": "2022-01-16T07:38:29.277Z"
   },
   {
    "duration": 54,
    "start_time": "2022-01-16T07:38:29.312Z"
   },
   {
    "duration": 54,
    "start_time": "2022-01-16T07:38:29.371Z"
   },
   {
    "duration": 50,
    "start_time": "2022-01-16T07:38:29.428Z"
   },
   {
    "duration": 20,
    "start_time": "2022-01-16T07:38:29.480Z"
   },
   {
    "duration": 26,
    "start_time": "2022-01-16T07:38:29.503Z"
   },
   {
    "duration": 43,
    "start_time": "2022-01-16T07:38:29.531Z"
   },
   {
    "duration": 15,
    "start_time": "2022-01-16T07:38:29.576Z"
   },
   {
    "duration": 9,
    "start_time": "2022-01-16T07:38:29.594Z"
   },
   {
    "duration": 69,
    "start_time": "2022-01-16T07:38:29.606Z"
   },
   {
    "duration": 12,
    "start_time": "2022-01-16T07:38:29.678Z"
   },
   {
    "duration": 9,
    "start_time": "2022-01-16T07:38:29.692Z"
   },
   {
    "duration": 7,
    "start_time": "2022-01-16T07:38:29.704Z"
   },
   {
    "duration": 54,
    "start_time": "2022-01-16T07:38:29.713Z"
   },
   {
    "duration": 151,
    "start_time": "2022-01-16T07:38:29.770Z"
   },
   {
    "duration": 20,
    "start_time": "2022-01-16T07:38:29.923Z"
   },
   {
    "duration": 1810,
    "start_time": "2022-01-16T07:38:29.945Z"
   },
   {
    "duration": 19,
    "start_time": "2022-01-16T07:38:31.762Z"
   },
   {
    "duration": 43,
    "start_time": "2022-01-16T07:38:31.783Z"
   },
   {
    "duration": 40,
    "start_time": "2022-01-16T07:38:31.828Z"
   },
   {
    "duration": 48,
    "start_time": "2022-01-16T07:38:31.870Z"
   },
   {
    "duration": 68,
    "start_time": "2022-01-16T07:38:31.920Z"
   },
   {
    "duration": 3416,
    "start_time": "2022-01-16T07:38:31.990Z"
   },
   {
    "duration": 8,
    "start_time": "2022-01-16T07:38:35.409Z"
   },
   {
    "duration": 764,
    "start_time": "2022-01-16T07:38:35.419Z"
   },
   {
    "duration": 3,
    "start_time": "2022-01-16T07:38:36.185Z"
   },
   {
    "duration": 23,
    "start_time": "2022-01-16T07:38:36.190Z"
   },
   {
    "duration": 380,
    "start_time": "2022-01-16T07:38:36.215Z"
   },
   {
    "duration": 66,
    "start_time": "2022-01-16T07:38:36.598Z"
   },
   {
    "duration": 266,
    "start_time": "2022-01-16T07:38:36.667Z"
   },
   {
    "duration": 282,
    "start_time": "2022-01-16T07:38:36.935Z"
   },
   {
    "duration": 275,
    "start_time": "2022-01-16T07:38:37.220Z"
   },
   {
    "duration": 256,
    "start_time": "2022-01-16T07:38:45.451Z"
   },
   {
    "duration": 4681,
    "start_time": "2022-01-16T07:41:10.194Z"
   },
   {
    "duration": 294,
    "start_time": "2022-01-16T07:42:41.068Z"
   },
   {
    "duration": 312,
    "start_time": "2022-01-16T07:42:53.812Z"
   },
   {
    "duration": 103,
    "start_time": "2022-01-16T07:44:59.551Z"
   },
   {
    "duration": 7244,
    "start_time": "2022-01-16T07:45:19.527Z"
   },
   {
    "duration": 6527,
    "start_time": "2022-01-16T07:46:44.169Z"
   },
   {
    "duration": 4133,
    "start_time": "2022-01-16T07:49:47.069Z"
   },
   {
    "duration": 4481,
    "start_time": "2022-01-16T07:50:08.034Z"
   },
   {
    "duration": 3948,
    "start_time": "2022-01-16T07:50:32.837Z"
   },
   {
    "duration": 324,
    "start_time": "2022-01-16T07:54:49.017Z"
   },
   {
    "duration": 95,
    "start_time": "2022-01-16T07:55:58.390Z"
   },
   {
    "duration": 5,
    "start_time": "2022-01-16T07:56:09.279Z"
   },
   {
    "duration": 231,
    "start_time": "2022-01-16T07:56:09.288Z"
   },
   {
    "duration": 11,
    "start_time": "2022-01-16T07:56:09.523Z"
   },
   {
    "duration": 48,
    "start_time": "2022-01-16T07:56:09.537Z"
   },
   {
    "duration": 36,
    "start_time": "2022-01-16T07:56:09.587Z"
   },
   {
    "duration": 69,
    "start_time": "2022-01-16T07:56:09.625Z"
   },
   {
    "duration": 7,
    "start_time": "2022-01-16T07:56:09.697Z"
   },
   {
    "duration": 143,
    "start_time": "2022-01-16T07:56:09.707Z"
   },
   {
    "duration": 13,
    "start_time": "2022-01-16T07:56:09.862Z"
   },
   {
    "duration": 199,
    "start_time": "2022-01-16T07:56:09.878Z"
   },
   {
    "duration": 12,
    "start_time": "2022-01-16T07:56:10.079Z"
   },
   {
    "duration": 32,
    "start_time": "2022-01-16T07:56:10.093Z"
   },
   {
    "duration": 63,
    "start_time": "2022-01-16T07:56:10.128Z"
   },
   {
    "duration": 29,
    "start_time": "2022-01-16T07:56:10.193Z"
   },
   {
    "duration": 91,
    "start_time": "2022-01-16T07:56:10.224Z"
   },
   {
    "duration": 14,
    "start_time": "2022-01-16T07:56:10.318Z"
   },
   {
    "duration": 30,
    "start_time": "2022-01-16T07:56:10.334Z"
   },
   {
    "duration": 45,
    "start_time": "2022-01-16T07:56:10.366Z"
   },
   {
    "duration": 131,
    "start_time": "2022-01-16T07:56:10.413Z"
   },
   {
    "duration": 17,
    "start_time": "2022-01-16T07:56:10.547Z"
   },
   {
    "duration": 19,
    "start_time": "2022-01-16T07:56:10.566Z"
   },
   {
    "duration": 26,
    "start_time": "2022-01-16T07:56:10.588Z"
   },
   {
    "duration": 91,
    "start_time": "2022-01-16T07:56:10.616Z"
   },
   {
    "duration": 29,
    "start_time": "2022-01-16T07:56:10.709Z"
   },
   {
    "duration": 40,
    "start_time": "2022-01-16T07:56:10.740Z"
   },
   {
    "duration": 14,
    "start_time": "2022-01-16T07:56:10.782Z"
   },
   {
    "duration": 32,
    "start_time": "2022-01-16T07:56:10.802Z"
   },
   {
    "duration": 14,
    "start_time": "2022-01-16T07:56:10.837Z"
   },
   {
    "duration": 17,
    "start_time": "2022-01-16T07:56:10.853Z"
   },
   {
    "duration": 22,
    "start_time": "2022-01-16T07:56:10.873Z"
   },
   {
    "duration": 9,
    "start_time": "2022-01-16T07:56:10.898Z"
   },
   {
    "duration": 7,
    "start_time": "2022-01-16T07:56:10.909Z"
   },
   {
    "duration": 6,
    "start_time": "2022-01-16T07:56:10.963Z"
   },
   {
    "duration": 11,
    "start_time": "2022-01-16T07:56:10.971Z"
   },
   {
    "duration": 164,
    "start_time": "2022-01-16T07:56:10.984Z"
   },
   {
    "duration": 26,
    "start_time": "2022-01-16T07:56:11.151Z"
   },
   {
    "duration": 2086,
    "start_time": "2022-01-16T07:56:11.179Z"
   },
   {
    "duration": 16,
    "start_time": "2022-01-16T07:56:13.267Z"
   },
   {
    "duration": 40,
    "start_time": "2022-01-16T07:56:13.285Z"
   },
   {
    "duration": 41,
    "start_time": "2022-01-16T07:56:13.327Z"
   },
   {
    "duration": 48,
    "start_time": "2022-01-16T07:56:13.370Z"
   },
   {
    "duration": 61,
    "start_time": "2022-01-16T07:56:13.420Z"
   },
   {
    "duration": 3253,
    "start_time": "2022-01-16T07:56:13.483Z"
   },
   {
    "duration": 8,
    "start_time": "2022-01-16T07:56:16.743Z"
   },
   {
    "duration": 659,
    "start_time": "2022-01-16T07:56:16.754Z"
   },
   {
    "duration": 3,
    "start_time": "2022-01-16T07:56:17.415Z"
   },
   {
    "duration": 43,
    "start_time": "2022-01-16T07:56:17.420Z"
   },
   {
    "duration": 377,
    "start_time": "2022-01-16T07:56:17.466Z"
   },
   {
    "duration": 60,
    "start_time": "2022-01-16T07:56:17.846Z"
   },
   {
    "duration": 288,
    "start_time": "2022-01-16T07:56:17.908Z"
   },
   {
    "duration": 285,
    "start_time": "2022-01-16T07:56:18.199Z"
   },
   {
    "duration": 318,
    "start_time": "2022-01-16T07:56:18.486Z"
   },
   {
    "duration": 124,
    "start_time": "2022-01-16T07:56:18.806Z"
   },
   {
    "duration": 102,
    "start_time": "2022-01-16T07:56:29.678Z"
   },
   {
    "duration": 4238,
    "start_time": "2022-01-16T07:56:38.029Z"
   },
   {
    "duration": 4795,
    "start_time": "2022-01-16T07:58:17.063Z"
   },
   {
    "duration": 4649,
    "start_time": "2022-01-16T07:58:27.022Z"
   },
   {
    "duration": 4925,
    "start_time": "2022-01-16T07:59:56.568Z"
   },
   {
    "duration": 6304,
    "start_time": "2022-01-16T08:00:11.394Z"
   },
   {
    "duration": 4802,
    "start_time": "2022-01-16T08:11:33.327Z"
   },
   {
    "duration": 6256,
    "start_time": "2022-01-16T08:21:02.795Z"
   },
   {
    "duration": 95,
    "start_time": "2022-01-16T08:26:24.454Z"
   },
   {
    "duration": 3,
    "start_time": "2022-01-16T08:26:35.108Z"
   },
   {
    "duration": 3,
    "start_time": "2022-01-16T08:26:43.954Z"
   },
   {
    "duration": 10,
    "start_time": "2022-01-16T08:30:40.907Z"
   },
   {
    "duration": 18,
    "start_time": "2022-01-16T08:31:00.035Z"
   },
   {
    "duration": 15,
    "start_time": "2022-01-16T08:32:20.913Z"
   },
   {
    "duration": 3,
    "start_time": "2022-01-16T08:33:36.629Z"
   },
   {
    "duration": 325,
    "start_time": "2022-01-16T08:37:33.159Z"
   },
   {
    "duration": 17,
    "start_time": "2022-01-16T08:38:01.696Z"
   },
   {
    "duration": 18,
    "start_time": "2022-01-16T08:38:18.138Z"
   },
   {
    "duration": 16,
    "start_time": "2022-01-16T08:39:32.994Z"
   },
   {
    "duration": 17,
    "start_time": "2022-01-16T08:39:42.009Z"
   },
   {
    "duration": 4,
    "start_time": "2022-01-16T08:41:48.613Z"
   },
   {
    "duration": 206,
    "start_time": "2022-01-16T08:41:48.620Z"
   },
   {
    "duration": 11,
    "start_time": "2022-01-16T08:41:48.830Z"
   },
   {
    "duration": 48,
    "start_time": "2022-01-16T08:41:48.845Z"
   },
   {
    "duration": 68,
    "start_time": "2022-01-16T08:41:48.896Z"
   },
   {
    "duration": 40,
    "start_time": "2022-01-16T08:41:48.967Z"
   },
   {
    "duration": 9,
    "start_time": "2022-01-16T08:41:49.009Z"
   },
   {
    "duration": 123,
    "start_time": "2022-01-16T08:41:49.022Z"
   },
   {
    "duration": 22,
    "start_time": "2022-01-16T08:41:49.151Z"
   },
   {
    "duration": 212,
    "start_time": "2022-01-16T08:41:49.177Z"
   },
   {
    "duration": 16,
    "start_time": "2022-01-16T08:41:49.392Z"
   },
   {
    "duration": 62,
    "start_time": "2022-01-16T08:41:49.411Z"
   },
   {
    "duration": 40,
    "start_time": "2022-01-16T08:41:49.476Z"
   },
   {
    "duration": 59,
    "start_time": "2022-01-16T08:41:49.518Z"
   },
   {
    "duration": 84,
    "start_time": "2022-01-16T08:41:49.579Z"
   },
   {
    "duration": 5,
    "start_time": "2022-01-16T08:41:49.665Z"
   },
   {
    "duration": 21,
    "start_time": "2022-01-16T08:41:49.673Z"
   },
   {
    "duration": 78,
    "start_time": "2022-01-16T08:41:49.698Z"
   },
   {
    "duration": 140,
    "start_time": "2022-01-16T08:41:49.779Z"
   },
   {
    "duration": 12,
    "start_time": "2022-01-16T08:41:49.922Z"
   },
   {
    "duration": 36,
    "start_time": "2022-01-16T08:41:49.936Z"
   },
   {
    "duration": 24,
    "start_time": "2022-01-16T08:41:49.975Z"
   },
   {
    "duration": 91,
    "start_time": "2022-01-16T08:41:50.001Z"
   },
   {
    "duration": 32,
    "start_time": "2022-01-16T08:41:50.095Z"
   },
   {
    "duration": 51,
    "start_time": "2022-01-16T08:41:50.130Z"
   },
   {
    "duration": 18,
    "start_time": "2022-01-16T08:41:50.185Z"
   },
   {
    "duration": 32,
    "start_time": "2022-01-16T08:41:50.209Z"
   },
   {
    "duration": 15,
    "start_time": "2022-01-16T08:41:50.244Z"
   },
   {
    "duration": 14,
    "start_time": "2022-01-16T08:41:50.264Z"
   },
   {
    "duration": 23,
    "start_time": "2022-01-16T08:41:50.281Z"
   },
   {
    "duration": 10,
    "start_time": "2022-01-16T08:41:50.307Z"
   },
   {
    "duration": 45,
    "start_time": "2022-01-16T08:41:50.319Z"
   },
   {
    "duration": 6,
    "start_time": "2022-01-16T08:41:50.368Z"
   },
   {
    "duration": 12,
    "start_time": "2022-01-16T08:41:50.377Z"
   },
   {
    "duration": 175,
    "start_time": "2022-01-16T08:41:50.392Z"
   },
   {
    "duration": 20,
    "start_time": "2022-01-16T08:41:50.569Z"
   },
   {
    "duration": 1832,
    "start_time": "2022-01-16T08:41:50.592Z"
   },
   {
    "duration": 18,
    "start_time": "2022-01-16T08:41:52.427Z"
   },
   {
    "duration": 42,
    "start_time": "2022-01-16T08:41:52.462Z"
   },
   {
    "duration": 10,
    "start_time": "2022-01-16T08:41:52.506Z"
   },
   {
    "duration": 84,
    "start_time": "2022-01-16T08:41:52.518Z"
   },
   {
    "duration": 32,
    "start_time": "2022-01-16T08:41:52.604Z"
   },
   {
    "duration": 3356,
    "start_time": "2022-01-16T08:41:52.639Z"
   },
   {
    "duration": 8,
    "start_time": "2022-01-16T08:41:55.998Z"
   },
   {
    "duration": 650,
    "start_time": "2022-01-16T08:41:56.008Z"
   },
   {
    "duration": 3,
    "start_time": "2022-01-16T08:41:56.663Z"
   },
   {
    "duration": 29,
    "start_time": "2022-01-16T08:41:56.668Z"
   },
   {
    "duration": 409,
    "start_time": "2022-01-16T08:41:56.699Z"
   },
   {
    "duration": 66,
    "start_time": "2022-01-16T08:41:57.111Z"
   },
   {
    "duration": 266,
    "start_time": "2022-01-16T08:41:57.179Z"
   },
   {
    "duration": 271,
    "start_time": "2022-01-16T08:41:57.448Z"
   },
   {
    "duration": 278,
    "start_time": "2022-01-16T08:41:57.721Z"
   },
   {
    "duration": 4664,
    "start_time": "2022-01-16T08:41:58.003Z"
   },
   {
    "duration": 4,
    "start_time": "2022-01-16T08:42:02.670Z"
   },
   {
    "duration": 7,
    "start_time": "2022-01-16T08:42:02.677Z"
   },
   {
    "duration": 101,
    "start_time": "2022-01-16T08:42:02.686Z"
   },
   {
    "duration": -283,
    "start_time": "2022-01-16T08:42:03.074Z"
   },
   {
    "duration": -284,
    "start_time": "2022-01-16T08:42:03.077Z"
   },
   {
    "duration": 4,
    "start_time": "2022-01-16T08:42:37.513Z"
   },
   {
    "duration": 309,
    "start_time": "2022-01-16T08:42:37.520Z"
   },
   {
    "duration": 16,
    "start_time": "2022-01-16T08:42:37.834Z"
   },
   {
    "duration": 46,
    "start_time": "2022-01-16T08:42:37.865Z"
   },
   {
    "duration": 83,
    "start_time": "2022-01-16T08:42:37.915Z"
   },
   {
    "duration": 80,
    "start_time": "2022-01-16T08:42:38.001Z"
   },
   {
    "duration": 8,
    "start_time": "2022-01-16T08:42:38.084Z"
   },
   {
    "duration": 106,
    "start_time": "2022-01-16T08:42:38.096Z"
   },
   {
    "duration": 13,
    "start_time": "2022-01-16T08:42:38.207Z"
   },
   {
    "duration": 201,
    "start_time": "2022-01-16T08:42:38.225Z"
   },
   {
    "duration": 13,
    "start_time": "2022-01-16T08:42:38.428Z"
   },
   {
    "duration": 41,
    "start_time": "2022-01-16T08:42:38.443Z"
   },
   {
    "duration": 42,
    "start_time": "2022-01-16T08:42:38.487Z"
   },
   {
    "duration": 59,
    "start_time": "2022-01-16T08:42:38.532Z"
   },
   {
    "duration": 90,
    "start_time": "2022-01-16T08:42:38.594Z"
   },
   {
    "duration": 2,
    "start_time": "2022-01-16T08:42:38.687Z"
   },
   {
    "duration": 15,
    "start_time": "2022-01-16T08:42:38.692Z"
   },
   {
    "duration": 81,
    "start_time": "2022-01-16T08:42:38.711Z"
   },
   {
    "duration": 148,
    "start_time": "2022-01-16T08:42:38.794Z"
   },
   {
    "duration": 10,
    "start_time": "2022-01-16T08:42:38.945Z"
   },
   {
    "duration": 20,
    "start_time": "2022-01-16T08:42:38.964Z"
   },
   {
    "duration": 28,
    "start_time": "2022-01-16T08:42:38.987Z"
   },
   {
    "duration": 104,
    "start_time": "2022-01-16T08:42:39.018Z"
   },
   {
    "duration": 65,
    "start_time": "2022-01-16T08:42:39.125Z"
   },
   {
    "duration": 22,
    "start_time": "2022-01-16T08:42:39.193Z"
   },
   {
    "duration": 14,
    "start_time": "2022-01-16T08:42:39.218Z"
   },
   {
    "duration": 33,
    "start_time": "2022-01-16T08:42:39.238Z"
   },
   {
    "duration": 17,
    "start_time": "2022-01-16T08:42:39.275Z"
   },
   {
    "duration": 12,
    "start_time": "2022-01-16T08:42:39.295Z"
   },
   {
    "duration": 64,
    "start_time": "2022-01-16T08:42:39.309Z"
   },
   {
    "duration": 13,
    "start_time": "2022-01-16T08:42:39.376Z"
   },
   {
    "duration": 7,
    "start_time": "2022-01-16T08:42:39.391Z"
   },
   {
    "duration": 9,
    "start_time": "2022-01-16T08:42:39.400Z"
   },
   {
    "duration": 54,
    "start_time": "2022-01-16T08:42:39.412Z"
   },
   {
    "duration": 154,
    "start_time": "2022-01-16T08:42:39.469Z"
   },
   {
    "duration": 20,
    "start_time": "2022-01-16T08:42:39.625Z"
   },
   {
    "duration": 1937,
    "start_time": "2022-01-16T08:42:39.664Z"
   },
   {
    "duration": 18,
    "start_time": "2022-01-16T08:42:41.603Z"
   },
   {
    "duration": 67,
    "start_time": "2022-01-16T08:42:41.623Z"
   },
   {
    "duration": 10,
    "start_time": "2022-01-16T08:42:41.693Z"
   },
   {
    "duration": 77,
    "start_time": "2022-01-16T08:42:41.706Z"
   },
   {
    "duration": 32,
    "start_time": "2022-01-16T08:42:41.785Z"
   },
   {
    "duration": 3290,
    "start_time": "2022-01-16T08:42:41.819Z"
   },
   {
    "duration": 8,
    "start_time": "2022-01-16T08:42:45.112Z"
   },
   {
    "duration": 651,
    "start_time": "2022-01-16T08:42:45.123Z"
   },
   {
    "duration": 4,
    "start_time": "2022-01-16T08:42:45.776Z"
   },
   {
    "duration": 21,
    "start_time": "2022-01-16T08:42:45.782Z"
   },
   {
    "duration": 395,
    "start_time": "2022-01-16T08:42:45.806Z"
   },
   {
    "duration": 66,
    "start_time": "2022-01-16T08:42:46.203Z"
   },
   {
    "duration": 293,
    "start_time": "2022-01-16T08:42:46.272Z"
   },
   {
    "duration": 265,
    "start_time": "2022-01-16T08:42:46.568Z"
   },
   {
    "duration": 291,
    "start_time": "2022-01-16T08:42:46.835Z"
   },
   {
    "duration": 4793,
    "start_time": "2022-01-16T08:42:47.129Z"
   },
   {
    "duration": 3,
    "start_time": "2022-01-16T08:42:51.924Z"
   },
   {
    "duration": 5,
    "start_time": "2022-01-16T08:42:51.930Z"
   },
   {
    "duration": 39,
    "start_time": "2022-01-16T08:42:51.937Z"
   },
   {
    "duration": 243,
    "start_time": "2022-01-16T08:48:49.144Z"
   },
   {
    "duration": 649,
    "start_time": "2022-01-16T08:49:30.766Z"
   },
   {
    "duration": 143,
    "start_time": "2022-01-16T18:18:11.494Z"
   },
   {
    "duration": 98,
    "start_time": "2022-01-16T18:18:18.429Z"
   },
   {
    "duration": 117,
    "start_time": "2022-01-16T18:18:49.737Z"
   },
   {
    "duration": 237,
    "start_time": "2022-01-16T18:19:08.598Z"
   },
   {
    "duration": 102,
    "start_time": "2022-01-16T18:19:25.024Z"
   },
   {
    "duration": 101,
    "start_time": "2022-01-16T18:19:39.152Z"
   },
   {
    "duration": 4,
    "start_time": "2022-01-17T09:55:25.893Z"
   },
   {
    "duration": 223,
    "start_time": "2022-01-17T09:55:25.900Z"
   },
   {
    "duration": 14,
    "start_time": "2022-01-17T09:55:26.126Z"
   },
   {
    "duration": 54,
    "start_time": "2022-01-17T09:55:26.142Z"
   },
   {
    "duration": 36,
    "start_time": "2022-01-17T09:55:26.199Z"
   },
   {
    "duration": 68,
    "start_time": "2022-01-17T09:55:26.237Z"
   },
   {
    "duration": 8,
    "start_time": "2022-01-17T09:55:26.308Z"
   },
   {
    "duration": 114,
    "start_time": "2022-01-17T09:55:26.321Z"
   },
   {
    "duration": 13,
    "start_time": "2022-01-17T09:55:26.438Z"
   },
   {
    "duration": 196,
    "start_time": "2022-01-17T09:55:26.454Z"
   },
   {
    "duration": 26,
    "start_time": "2022-01-17T09:55:26.652Z"
   },
   {
    "duration": 22,
    "start_time": "2022-01-17T09:55:26.681Z"
   },
   {
    "duration": 72,
    "start_time": "2022-01-17T09:55:26.705Z"
   },
   {
    "duration": 28,
    "start_time": "2022-01-17T09:55:26.779Z"
   },
   {
    "duration": 85,
    "start_time": "2022-01-17T09:55:26.809Z"
   },
   {
    "duration": 3,
    "start_time": "2022-01-17T09:55:26.896Z"
   },
   {
    "duration": 20,
    "start_time": "2022-01-17T09:55:26.901Z"
   },
   {
    "duration": 70,
    "start_time": "2022-01-17T09:55:26.923Z"
   },
   {
    "duration": 130,
    "start_time": "2022-01-17T09:55:26.995Z"
   },
   {
    "duration": 11,
    "start_time": "2022-01-17T09:55:27.128Z"
   },
   {
    "duration": 36,
    "start_time": "2022-01-17T09:55:27.141Z"
   },
   {
    "duration": 27,
    "start_time": "2022-01-17T09:55:27.180Z"
   },
   {
    "duration": 77,
    "start_time": "2022-01-17T09:55:27.215Z"
   },
   {
    "duration": 27,
    "start_time": "2022-01-17T09:55:27.297Z"
   },
   {
    "duration": 16,
    "start_time": "2022-01-17T09:55:27.327Z"
   },
   {
    "duration": 17,
    "start_time": "2022-01-17T09:55:27.363Z"
   },
   {
    "duration": 56,
    "start_time": "2022-01-17T09:55:27.383Z"
   },
   {
    "duration": 15,
    "start_time": "2022-01-17T09:55:27.442Z"
   },
   {
    "duration": 12,
    "start_time": "2022-01-17T09:55:27.460Z"
   },
   {
    "duration": 25,
    "start_time": "2022-01-17T09:55:27.476Z"
   },
   {
    "duration": 8,
    "start_time": "2022-01-17T09:55:27.504Z"
   },
   {
    "duration": 8,
    "start_time": "2022-01-17T09:55:27.514Z"
   },
   {
    "duration": 40,
    "start_time": "2022-01-17T09:55:27.524Z"
   },
   {
    "duration": 18,
    "start_time": "2022-01-17T09:55:27.567Z"
   },
   {
    "duration": 166,
    "start_time": "2022-01-17T09:55:27.587Z"
   },
   {
    "duration": 29,
    "start_time": "2022-01-17T09:55:27.755Z"
   },
   {
    "duration": 1966,
    "start_time": "2022-01-17T09:55:27.786Z"
   },
   {
    "duration": 28,
    "start_time": "2022-01-17T09:55:29.755Z"
   },
   {
    "duration": 41,
    "start_time": "2022-01-17T09:55:29.786Z"
   },
   {
    "duration": 39,
    "start_time": "2022-01-17T09:55:29.829Z"
   },
   {
    "duration": 58,
    "start_time": "2022-01-17T09:55:29.871Z"
   },
   {
    "duration": 65,
    "start_time": "2022-01-17T09:55:29.932Z"
   },
   {
    "duration": 3413,
    "start_time": "2022-01-17T09:55:30.000Z"
   },
   {
    "duration": 8,
    "start_time": "2022-01-17T09:55:33.416Z"
   },
   {
    "duration": 697,
    "start_time": "2022-01-17T09:55:33.426Z"
   },
   {
    "duration": 3,
    "start_time": "2022-01-17T09:55:34.125Z"
   },
   {
    "duration": 36,
    "start_time": "2022-01-17T09:55:34.130Z"
   },
   {
    "duration": 402,
    "start_time": "2022-01-17T09:55:34.171Z"
   },
   {
    "duration": 51,
    "start_time": "2022-01-17T09:55:34.576Z"
   },
   {
    "duration": 300,
    "start_time": "2022-01-17T09:55:34.630Z"
   },
   {
    "duration": 291,
    "start_time": "2022-01-17T09:55:34.933Z"
   },
   {
    "duration": 307,
    "start_time": "2022-01-17T09:55:35.227Z"
   },
   {
    "duration": 97,
    "start_time": "2022-01-17T09:55:35.536Z"
   },
   {
    "duration": 1031,
    "start_time": "2022-01-17T09:55:34.604Z"
   },
   {
    "duration": 1029,
    "start_time": "2022-01-17T09:55:34.608Z"
   },
   {
    "duration": 1027,
    "start_time": "2022-01-17T09:55:34.611Z"
   },
   {
    "duration": 1018,
    "start_time": "2022-01-17T09:55:34.622Z"
   },
   {
    "duration": 4934,
    "start_time": "2022-01-17T09:56:13.219Z"
   },
   {
    "duration": 4787,
    "start_time": "2022-01-17T09:57:12.060Z"
   },
   {
    "duration": 113,
    "start_time": "2022-01-17T09:58:01.295Z"
   },
   {
    "duration": 97,
    "start_time": "2022-01-17T09:58:15.747Z"
   },
   {
    "duration": 5335,
    "start_time": "2022-01-17T09:58:20.928Z"
   },
   {
    "duration": 6631,
    "start_time": "2022-01-17T09:58:39.639Z"
   },
   {
    "duration": 2339,
    "start_time": "2022-01-17T09:59:28.156Z"
   },
   {
    "duration": 4593,
    "start_time": "2022-01-17T09:59:48.352Z"
   },
   {
    "duration": 5170,
    "start_time": "2022-01-17T10:00:02.165Z"
   },
   {
    "duration": 5137,
    "start_time": "2022-01-17T10:00:26.277Z"
   },
   {
    "duration": 2630,
    "start_time": "2022-01-17T10:00:45.558Z"
   },
   {
    "duration": 5160,
    "start_time": "2022-01-17T10:02:34.308Z"
   },
   {
    "duration": 102,
    "start_time": "2022-01-17T10:05:44.012Z"
   },
   {
    "duration": 2465,
    "start_time": "2022-01-17T10:05:52.271Z"
   },
   {
    "duration": 123,
    "start_time": "2022-01-17T10:06:13.200Z"
   },
   {
    "duration": 3358,
    "start_time": "2022-01-17T10:06:22.817Z"
   },
   {
    "duration": 2458,
    "start_time": "2022-01-17T10:06:38.612Z"
   },
   {
    "duration": 2284,
    "start_time": "2022-01-17T10:06:54.390Z"
   },
   {
    "duration": 2983,
    "start_time": "2022-01-17T10:07:09.174Z"
   },
   {
    "duration": 2821,
    "start_time": "2022-01-17T10:07:35.945Z"
   },
   {
    "duration": 4373,
    "start_time": "2022-01-17T10:08:01.728Z"
   },
   {
    "duration": 4548,
    "start_time": "2022-01-17T10:08:17.710Z"
   },
   {
    "duration": 2959,
    "start_time": "2022-01-17T10:08:49.714Z"
   },
   {
    "duration": 7535,
    "start_time": "2022-01-17T10:08:56.491Z"
   },
   {
    "duration": 6463,
    "start_time": "2022-01-17T10:09:06.507Z"
   },
   {
    "duration": 4157,
    "start_time": "2022-01-17T10:09:31.288Z"
   },
   {
    "duration": 4556,
    "start_time": "2022-01-17T10:09:52.691Z"
   },
   {
    "duration": 6844,
    "start_time": "2022-01-17T10:10:11.981Z"
   },
   {
    "duration": 1500,
    "start_time": "2022-01-17T10:11:03.102Z"
   },
   {
    "duration": 798,
    "start_time": "2022-01-17T10:11:16.432Z"
   },
   {
    "duration": 5072,
    "start_time": "2022-01-17T10:11:26.663Z"
   },
   {
    "duration": 16,
    "start_time": "2022-01-17T10:56:57.808Z"
   },
   {
    "duration": 3499,
    "start_time": "2022-01-17T11:07:40.579Z"
   },
   {
    "duration": 33,
    "start_time": "2022-01-17T11:08:14.321Z"
   },
   {
    "duration": 20,
    "start_time": "2022-01-17T11:08:38.084Z"
   },
   {
    "duration": 23,
    "start_time": "2022-01-17T11:09:41.028Z"
   },
   {
    "duration": 249,
    "start_time": "2022-01-17T11:10:51.693Z"
   },
   {
    "duration": 282,
    "start_time": "2022-01-17T11:11:15.376Z"
   },
   {
    "duration": 3540,
    "start_time": "2022-01-17T11:11:23.565Z"
   },
   {
    "duration": 18,
    "start_time": "2022-01-17T11:11:39.099Z"
   },
   {
    "duration": 4,
    "start_time": "2022-01-17T11:12:59.090Z"
   },
   {
    "duration": 233,
    "start_time": "2022-01-17T11:12:59.097Z"
   },
   {
    "duration": 12,
    "start_time": "2022-01-17T11:12:59.332Z"
   },
   {
    "duration": 44,
    "start_time": "2022-01-17T11:12:59.347Z"
   },
   {
    "duration": 38,
    "start_time": "2022-01-17T11:12:59.394Z"
   },
   {
    "duration": 40,
    "start_time": "2022-01-17T11:12:59.463Z"
   },
   {
    "duration": 7,
    "start_time": "2022-01-17T11:12:59.507Z"
   },
   {
    "duration": 115,
    "start_time": "2022-01-17T11:12:59.516Z"
   },
   {
    "duration": 13,
    "start_time": "2022-01-17T11:12:59.634Z"
   },
   {
    "duration": 188,
    "start_time": "2022-01-17T11:12:59.650Z"
   },
   {
    "duration": 13,
    "start_time": "2022-01-17T11:12:59.840Z"
   },
   {
    "duration": 24,
    "start_time": "2022-01-17T11:12:59.863Z"
   },
   {
    "duration": 40,
    "start_time": "2022-01-17T11:12:59.890Z"
   },
   {
    "duration": 57,
    "start_time": "2022-01-17T11:12:59.933Z"
   },
   {
    "duration": 81,
    "start_time": "2022-01-17T11:12:59.993Z"
   },
   {
    "duration": 6,
    "start_time": "2022-01-17T11:13:00.077Z"
   },
   {
    "duration": 21,
    "start_time": "2022-01-17T11:13:00.086Z"
   },
   {
    "duration": 63,
    "start_time": "2022-01-17T11:13:00.110Z"
   },
   {
    "duration": 126,
    "start_time": "2022-01-17T11:13:00.178Z"
   },
   {
    "duration": 10,
    "start_time": "2022-01-17T11:13:00.308Z"
   },
   {
    "duration": 23,
    "start_time": "2022-01-17T11:13:00.321Z"
   },
   {
    "duration": 25,
    "start_time": "2022-01-17T11:13:00.364Z"
   },
   {
    "duration": 72,
    "start_time": "2022-01-17T11:13:00.391Z"
   },
   {
    "duration": 30,
    "start_time": "2022-01-17T11:13:00.465Z"
   },
   {
    "duration": 18,
    "start_time": "2022-01-17T11:13:00.497Z"
   },
   {
    "duration": 22,
    "start_time": "2022-01-17T11:13:00.517Z"
   },
   {
    "duration": 34,
    "start_time": "2022-01-17T11:13:00.541Z"
   },
   {
    "duration": 18,
    "start_time": "2022-01-17T11:13:00.578Z"
   },
   {
    "duration": 13,
    "start_time": "2022-01-17T11:13:00.599Z"
   },
   {
    "duration": 52,
    "start_time": "2022-01-17T11:13:00.615Z"
   },
   {
    "duration": 9,
    "start_time": "2022-01-17T11:13:00.669Z"
   },
   {
    "duration": 14,
    "start_time": "2022-01-17T11:13:00.680Z"
   },
   {
    "duration": 14,
    "start_time": "2022-01-17T11:13:00.696Z"
   },
   {
    "duration": 17,
    "start_time": "2022-01-17T11:13:00.712Z"
   },
   {
    "duration": 148,
    "start_time": "2022-01-17T11:13:00.731Z"
   },
   {
    "duration": 20,
    "start_time": "2022-01-17T11:13:00.882Z"
   },
   {
    "duration": 1820,
    "start_time": "2022-01-17T11:13:00.905Z"
   },
   {
    "duration": 17,
    "start_time": "2022-01-17T11:13:02.727Z"
   },
   {
    "duration": 54,
    "start_time": "2022-01-17T11:13:02.747Z"
   },
   {
    "duration": 10,
    "start_time": "2022-01-17T11:13:02.803Z"
   },
   {
    "duration": 77,
    "start_time": "2022-01-17T11:13:02.815Z"
   },
   {
    "duration": 33,
    "start_time": "2022-01-17T11:13:02.894Z"
   },
   {
    "duration": 3617,
    "start_time": "2022-01-17T11:13:02.930Z"
   },
   {
    "duration": 14,
    "start_time": "2022-01-17T11:13:06.550Z"
   },
   {
    "duration": 666,
    "start_time": "2022-01-17T11:13:06.568Z"
   },
   {
    "duration": 4,
    "start_time": "2022-01-17T11:13:07.237Z"
   },
   {
    "duration": 32,
    "start_time": "2022-01-17T11:13:07.244Z"
   },
   {
    "duration": 406,
    "start_time": "2022-01-17T11:13:07.279Z"
   },
   {
    "duration": 52,
    "start_time": "2022-01-17T11:13:07.688Z"
   },
   {
    "duration": 272,
    "start_time": "2022-01-17T11:13:07.763Z"
   },
   {
    "duration": 271,
    "start_time": "2022-01-17T11:13:08.037Z"
   },
   {
    "duration": 273,
    "start_time": "2022-01-17T11:13:08.311Z"
   },
   {
    "duration": 4480,
    "start_time": "2022-01-17T11:13:08.587Z"
   },
   {
    "duration": 3,
    "start_time": "2022-01-17T11:13:13.070Z"
   },
   {
    "duration": 4,
    "start_time": "2022-01-17T11:13:13.080Z"
   },
   {
    "duration": 16,
    "start_time": "2022-01-17T11:13:13.087Z"
   },
   {
    "duration": 3417,
    "start_time": "2022-01-17T11:13:13.390Z"
   },
   {
    "duration": 262,
    "start_time": "2022-01-17T11:13:16.809Z"
   },
   {
    "duration": 7,
    "start_time": "2022-01-17T11:13:24.437Z"
   },
   {
    "duration": 298,
    "start_time": "2022-01-17T11:13:25.624Z"
   },
   {
    "duration": 309,
    "start_time": "2022-01-17T11:14:24.065Z"
   },
   {
    "duration": 296,
    "start_time": "2022-01-17T11:14:43.666Z"
   },
   {
    "duration": 333,
    "start_time": "2022-01-17T11:15:19.215Z"
   },
   {
    "duration": 301,
    "start_time": "2022-01-17T11:16:02.953Z"
   },
   {
    "duration": 225,
    "start_time": "2022-01-17T11:16:27.529Z"
   },
   {
    "duration": 306,
    "start_time": "2022-01-17T11:16:30.766Z"
   },
   {
    "duration": 40,
    "start_time": "2022-01-17T11:16:55.791Z"
   },
   {
    "duration": 20,
    "start_time": "2022-01-17T11:17:17.940Z"
   },
   {
    "duration": 30,
    "start_time": "2022-01-17T11:17:35.029Z"
   },
   {
    "duration": 381,
    "start_time": "2022-01-17T11:18:16.813Z"
   },
   {
    "duration": 53,
    "start_time": "2022-01-17T11:18:23.781Z"
   },
   {
    "duration": 4,
    "start_time": "2022-01-17T11:18:27.988Z"
   },
   {
    "duration": 238,
    "start_time": "2022-01-17T11:18:27.994Z"
   },
   {
    "duration": 11,
    "start_time": "2022-01-17T11:18:28.235Z"
   },
   {
    "duration": 40,
    "start_time": "2022-01-17T11:18:28.249Z"
   },
   {
    "duration": 36,
    "start_time": "2022-01-17T11:18:28.292Z"
   },
   {
    "duration": 65,
    "start_time": "2022-01-17T11:18:28.330Z"
   },
   {
    "duration": 6,
    "start_time": "2022-01-17T11:18:28.399Z"
   },
   {
    "duration": 109,
    "start_time": "2022-01-17T11:18:28.408Z"
   },
   {
    "duration": 13,
    "start_time": "2022-01-17T11:18:28.520Z"
   },
   {
    "duration": 192,
    "start_time": "2022-01-17T11:18:28.535Z"
   },
   {
    "duration": 13,
    "start_time": "2022-01-17T11:18:28.729Z"
   },
   {
    "duration": 48,
    "start_time": "2022-01-17T11:18:28.745Z"
   },
   {
    "duration": 41,
    "start_time": "2022-01-17T11:18:28.795Z"
   },
   {
    "duration": 50,
    "start_time": "2022-01-17T11:18:28.838Z"
   },
   {
    "duration": 83,
    "start_time": "2022-01-17T11:18:28.890Z"
   },
   {
    "duration": 3,
    "start_time": "2022-01-17T11:18:28.976Z"
   },
   {
    "duration": 15,
    "start_time": "2022-01-17T11:18:28.982Z"
   },
   {
    "duration": 68,
    "start_time": "2022-01-17T11:18:29.000Z"
   },
   {
    "duration": 134,
    "start_time": "2022-01-17T11:18:29.074Z"
   },
   {
    "duration": 10,
    "start_time": "2022-01-17T11:18:29.212Z"
   },
   {
    "duration": 28,
    "start_time": "2022-01-17T11:18:29.224Z"
   },
   {
    "duration": 27,
    "start_time": "2022-01-17T11:18:29.264Z"
   },
   {
    "duration": 73,
    "start_time": "2022-01-17T11:18:29.294Z"
   },
   {
    "duration": 31,
    "start_time": "2022-01-17T11:18:29.370Z"
   },
   {
    "duration": 18,
    "start_time": "2022-01-17T11:18:29.404Z"
   },
   {
    "duration": 14,
    "start_time": "2022-01-17T11:18:29.425Z"
   },
   {
    "duration": 28,
    "start_time": "2022-01-17T11:18:29.463Z"
   },
   {
    "duration": 16,
    "start_time": "2022-01-17T11:18:29.493Z"
   },
   {
    "duration": 12,
    "start_time": "2022-01-17T11:18:29.512Z"
   },
   {
    "duration": 42,
    "start_time": "2022-01-17T11:18:29.526Z"
   },
   {
    "duration": 9,
    "start_time": "2022-01-17T11:18:29.571Z"
   },
   {
    "duration": 10,
    "start_time": "2022-01-17T11:18:29.583Z"
   },
   {
    "duration": 9,
    "start_time": "2022-01-17T11:18:29.596Z"
   },
   {
    "duration": 12,
    "start_time": "2022-01-17T11:18:29.608Z"
   },
   {
    "duration": 256,
    "start_time": "2022-01-17T11:18:29.622Z"
   },
   {
    "duration": 20,
    "start_time": "2022-01-17T11:18:29.880Z"
   },
   {
    "duration": 1996,
    "start_time": "2022-01-17T11:18:29.903Z"
   },
   {
    "duration": 19,
    "start_time": "2022-01-17T11:18:31.902Z"
   },
   {
    "duration": 70,
    "start_time": "2022-01-17T11:18:31.923Z"
   },
   {
    "duration": 13,
    "start_time": "2022-01-17T11:18:31.996Z"
   },
   {
    "duration": 83,
    "start_time": "2022-01-17T11:18:32.012Z"
   },
   {
    "duration": 32,
    "start_time": "2022-01-17T11:18:32.098Z"
   },
   {
    "duration": 3382,
    "start_time": "2022-01-17T11:18:32.132Z"
   },
   {
    "duration": 10,
    "start_time": "2022-01-17T11:18:35.516Z"
   },
   {
    "duration": 659,
    "start_time": "2022-01-17T11:18:35.529Z"
   },
   {
    "duration": 35,
    "start_time": "2022-01-17T11:18:36.190Z"
   },
   {
    "duration": 49,
    "start_time": "2022-01-17T11:18:36.227Z"
   },
   {
    "duration": 378,
    "start_time": "2022-01-17T11:18:36.279Z"
   },
   {
    "duration": 51,
    "start_time": "2022-01-17T11:18:36.660Z"
   },
   {
    "duration": 284,
    "start_time": "2022-01-17T11:18:36.714Z"
   },
   {
    "duration": 272,
    "start_time": "2022-01-17T11:18:37.001Z"
   },
   {
    "duration": 284,
    "start_time": "2022-01-17T11:18:37.276Z"
   },
   {
    "duration": 4620,
    "start_time": "2022-01-17T11:18:37.563Z"
   },
   {
    "duration": 4,
    "start_time": "2022-01-17T11:18:42.185Z"
   },
   {
    "duration": 7,
    "start_time": "2022-01-17T11:18:42.196Z"
   },
   {
    "duration": 32,
    "start_time": "2022-01-17T11:18:42.206Z"
   },
   {
    "duration": 268,
    "start_time": "2022-01-17T11:18:42.240Z"
   },
   {
    "duration": 7,
    "start_time": "2022-01-17T11:18:42.511Z"
   },
   {
    "duration": 288,
    "start_time": "2022-01-17T11:18:42.520Z"
   },
   {
    "duration": 13,
    "start_time": "2022-01-17T11:20:29.964Z"
   },
   {
    "duration": 8,
    "start_time": "2022-01-17T11:20:39.113Z"
   },
   {
    "duration": 8,
    "start_time": "2022-01-17T11:20:58.555Z"
   },
   {
    "duration": 20,
    "start_time": "2022-01-17T11:24:03.012Z"
   },
   {
    "duration": 524,
    "start_time": "2022-01-17T11:25:07.322Z"
   },
   {
    "duration": 244,
    "start_time": "2022-01-17T11:25:21.154Z"
   },
   {
    "duration": 17,
    "start_time": "2022-01-17T11:25:59.825Z"
   },
   {
    "duration": 24,
    "start_time": "2022-01-17T11:28:12.297Z"
   },
   {
    "duration": 249,
    "start_time": "2022-01-17T11:29:39.034Z"
   },
   {
    "duration": 21,
    "start_time": "2022-01-17T11:30:15.405Z"
   },
   {
    "duration": 250,
    "start_time": "2022-01-17T11:30:16.707Z"
   },
   {
    "duration": 12,
    "start_time": "2022-01-17T11:50:23.298Z"
   },
   {
    "duration": 11,
    "start_time": "2022-01-17T11:52:25.269Z"
   },
   {
    "duration": 11,
    "start_time": "2022-01-17T11:53:05.662Z"
   },
   {
    "duration": 35,
    "start_time": "2022-01-17T12:41:16.221Z"
   },
   {
    "duration": 4,
    "start_time": "2022-01-17T12:43:13.737Z"
   },
   {
    "duration": 236,
    "start_time": "2022-01-17T12:43:13.744Z"
   },
   {
    "duration": 13,
    "start_time": "2022-01-17T12:43:13.983Z"
   },
   {
    "duration": 33,
    "start_time": "2022-01-17T12:43:14.000Z"
   },
   {
    "duration": 38,
    "start_time": "2022-01-17T12:43:14.064Z"
   },
   {
    "duration": 76,
    "start_time": "2022-01-17T12:43:14.104Z"
   },
   {
    "duration": 6,
    "start_time": "2022-01-17T12:43:14.183Z"
   },
   {
    "duration": 107,
    "start_time": "2022-01-17T12:43:14.193Z"
   },
   {
    "duration": 13,
    "start_time": "2022-01-17T12:43:14.303Z"
   },
   {
    "duration": 211,
    "start_time": "2022-01-17T12:43:14.319Z"
   },
   {
    "duration": 12,
    "start_time": "2022-01-17T12:43:14.533Z"
   },
   {
    "duration": 34,
    "start_time": "2022-01-17T12:43:14.547Z"
   },
   {
    "duration": 37,
    "start_time": "2022-01-17T12:43:14.584Z"
   },
   {
    "duration": 70,
    "start_time": "2022-01-17T12:43:14.624Z"
   },
   {
    "duration": 98,
    "start_time": "2022-01-17T12:43:14.697Z"
   },
   {
    "duration": 17,
    "start_time": "2022-01-17T12:43:14.798Z"
   },
   {
    "duration": 69,
    "start_time": "2022-01-17T12:43:14.818Z"
   },
   {
    "duration": 134,
    "start_time": "2022-01-17T12:43:14.890Z"
   },
   {
    "duration": 10,
    "start_time": "2022-01-17T12:43:15.027Z"
   },
   {
    "duration": 39,
    "start_time": "2022-01-17T12:43:15.040Z"
   },
   {
    "duration": 32,
    "start_time": "2022-01-17T12:43:15.081Z"
   },
   {
    "duration": 72,
    "start_time": "2022-01-17T12:43:15.116Z"
   },
   {
    "duration": 12,
    "start_time": "2022-01-17T12:43:15.194Z"
   },
   {
    "duration": 23,
    "start_time": "2022-01-17T12:43:15.209Z"
   },
   {
    "duration": 35,
    "start_time": "2022-01-17T12:43:15.235Z"
   },
   {
    "duration": 32,
    "start_time": "2022-01-17T12:43:15.273Z"
   },
   {
    "duration": 16,
    "start_time": "2022-01-17T12:43:15.307Z"
   },
   {
    "duration": 12,
    "start_time": "2022-01-17T12:43:15.326Z"
   },
   {
    "duration": 35,
    "start_time": "2022-01-17T12:43:15.341Z"
   },
   {
    "duration": 9,
    "start_time": "2022-01-17T12:43:15.379Z"
   },
   {
    "duration": 7,
    "start_time": "2022-01-17T12:43:15.391Z"
   },
   {
    "duration": 9,
    "start_time": "2022-01-17T12:43:15.400Z"
   },
   {
    "duration": 186,
    "start_time": "2022-01-17T12:43:15.412Z"
   },
   {
    "duration": 12,
    "start_time": "2022-01-17T12:43:15.601Z"
   },
   {
    "duration": 67,
    "start_time": "2022-01-17T12:43:15.615Z"
   },
   {
    "duration": 12,
    "start_time": "2022-01-17T12:43:15.684Z"
   },
   {
    "duration": 77,
    "start_time": "2022-01-17T12:43:15.698Z"
   },
   {
    "duration": 11,
    "start_time": "2022-01-17T12:43:15.777Z"
   },
   {
    "duration": 76,
    "start_time": "2022-01-17T12:43:15.790Z"
   },
   {
    "duration": 36,
    "start_time": "2022-01-17T12:43:15.868Z"
   },
   {
    "duration": 3,
    "start_time": "2022-01-17T12:43:15.907Z"
   },
   {
    "duration": 9,
    "start_time": "2022-01-17T12:43:15.912Z"
   },
   {
    "duration": 8424,
    "start_time": "2022-01-17T12:43:15.963Z"
   },
   {
    "duration": 1559,
    "start_time": "2022-01-17T12:43:22.830Z"
   },
   {
    "duration": 1559,
    "start_time": "2022-01-17T12:43:22.832Z"
   },
   {
    "duration": 1558,
    "start_time": "2022-01-17T12:43:22.834Z"
   },
   {
    "duration": 1558,
    "start_time": "2022-01-17T12:43:22.836Z"
   },
   {
    "duration": 1558,
    "start_time": "2022-01-17T12:43:22.837Z"
   },
   {
    "duration": 1557,
    "start_time": "2022-01-17T12:43:22.840Z"
   },
   {
    "duration": 1557,
    "start_time": "2022-01-17T12:43:22.842Z"
   },
   {
    "duration": 1557,
    "start_time": "2022-01-17T12:43:22.844Z"
   },
   {
    "duration": 1557,
    "start_time": "2022-01-17T12:43:22.846Z"
   },
   {
    "duration": 1557,
    "start_time": "2022-01-17T12:43:22.847Z"
   },
   {
    "duration": 1551,
    "start_time": "2022-01-17T12:43:22.855Z"
   },
   {
    "duration": 1549,
    "start_time": "2022-01-17T12:43:22.858Z"
   },
   {
    "duration": 1550,
    "start_time": "2022-01-17T12:43:22.859Z"
   },
   {
    "duration": 1549,
    "start_time": "2022-01-17T12:43:22.861Z"
   },
   {
    "duration": 96,
    "start_time": "2022-01-17T12:44:01.311Z"
   },
   {
    "duration": 8,
    "start_time": "2022-01-17T12:44:02.585Z"
   },
   {
    "duration": 3906,
    "start_time": "2022-01-17T12:44:12.783Z"
   },
   {
    "duration": 8,
    "start_time": "2022-01-17T12:44:16.692Z"
   },
   {
    "duration": 651,
    "start_time": "2022-01-17T12:44:17.059Z"
   },
   {
    "duration": 37,
    "start_time": "2022-01-17T12:44:18.890Z"
   },
   {
    "duration": 394,
    "start_time": "2022-01-17T12:44:23.703Z"
   },
   {
    "duration": 50,
    "start_time": "2022-01-17T12:46:55.726Z"
   },
   {
    "duration": 247,
    "start_time": "2022-01-17T12:48:38.876Z"
   },
   {
    "duration": 51,
    "start_time": "2022-01-17T12:50:49.782Z"
   },
   {
    "duration": 258,
    "start_time": "2022-01-17T12:51:48.030Z"
   },
   {
    "duration": 298,
    "start_time": "2022-01-17T12:51:59.018Z"
   },
   {
    "duration": 4709,
    "start_time": "2022-01-17T12:52:03.043Z"
   },
   {
    "duration": 245,
    "start_time": "2022-01-17T12:52:38.353Z"
   },
   {
    "duration": 24,
    "start_time": "2022-01-17T12:52:59.227Z"
   },
   {
    "duration": 258,
    "start_time": "2022-01-17T12:53:02.266Z"
   },
   {
    "duration": 4081,
    "start_time": "2022-01-17T12:59:25.427Z"
   },
   {
    "duration": 103,
    "start_time": "2022-01-17T12:59:38.728Z"
   },
   {
    "duration": 3,
    "start_time": "2022-01-17T13:03:51.879Z"
   },
   {
    "duration": 99,
    "start_time": "2022-01-17T13:06:15.661Z"
   },
   {
    "duration": 16,
    "start_time": "2022-01-17T13:07:45.673Z"
   },
   {
    "duration": 17,
    "start_time": "2022-01-17T13:29:47.941Z"
   },
   {
    "duration": 16,
    "start_time": "2022-01-17T13:32:27.493Z"
   },
   {
    "duration": 19,
    "start_time": "2022-01-17T13:52:57.031Z"
   },
   {
    "duration": 269,
    "start_time": "2022-01-17T13:56:00.947Z"
   },
   {
    "duration": 247,
    "start_time": "2022-01-17T13:56:05.454Z"
   },
   {
    "duration": 241,
    "start_time": "2022-01-17T13:58:02.230Z"
   },
   {
    "duration": 341,
    "start_time": "2022-01-17T14:00:38.180Z"
   },
   {
    "duration": 105,
    "start_time": "2022-01-17T14:03:50.195Z"
   },
   {
    "duration": 110,
    "start_time": "2022-01-18T14:18:21.957Z"
   },
   {
    "duration": 444,
    "start_time": "2022-01-18T14:22:21.022Z"
   },
   {
    "duration": 1075,
    "start_time": "2022-01-18T14:22:50.195Z"
   },
   {
    "duration": 132,
    "start_time": "2022-01-18T14:22:51.272Z"
   },
   {
    "duration": 13,
    "start_time": "2022-01-18T14:22:51.406Z"
   },
   {
    "duration": 24,
    "start_time": "2022-01-18T14:22:51.421Z"
   },
   {
    "duration": 42,
    "start_time": "2022-01-18T14:22:51.447Z"
   },
   {
    "duration": 24,
    "start_time": "2022-01-18T14:22:51.491Z"
   },
   {
    "duration": 5,
    "start_time": "2022-01-18T14:22:51.517Z"
   },
   {
    "duration": 74,
    "start_time": "2022-01-18T14:22:51.524Z"
   },
   {
    "duration": 8,
    "start_time": "2022-01-18T14:22:51.600Z"
   },
   {
    "duration": 129,
    "start_time": "2022-01-18T14:22:51.610Z"
   },
   {
    "duration": 7,
    "start_time": "2022-01-18T14:22:51.741Z"
   },
   {
    "duration": 22,
    "start_time": "2022-01-18T14:22:51.750Z"
   },
   {
    "duration": 25,
    "start_time": "2022-01-18T14:22:51.773Z"
   },
   {
    "duration": 21,
    "start_time": "2022-01-18T14:22:51.800Z"
   },
   {
    "duration": 66,
    "start_time": "2022-01-18T14:22:51.823Z"
   },
   {
    "duration": 10,
    "start_time": "2022-01-18T14:22:51.891Z"
   },
   {
    "duration": 31,
    "start_time": "2022-01-18T14:22:51.903Z"
   },
   {
    "duration": 88,
    "start_time": "2022-01-18T14:22:51.935Z"
   },
   {
    "duration": 6,
    "start_time": "2022-01-18T14:22:52.025Z"
   },
   {
    "duration": 14,
    "start_time": "2022-01-18T14:22:52.033Z"
   },
   {
    "duration": 29,
    "start_time": "2022-01-18T14:22:52.049Z"
   },
   {
    "duration": 36,
    "start_time": "2022-01-18T14:22:52.079Z"
   },
   {
    "duration": 7,
    "start_time": "2022-01-18T14:22:52.117Z"
   },
   {
    "duration": 18,
    "start_time": "2022-01-18T14:22:52.125Z"
   },
   {
    "duration": 9,
    "start_time": "2022-01-18T14:22:52.144Z"
   },
   {
    "duration": 28,
    "start_time": "2022-01-18T14:22:52.154Z"
   },
   {
    "duration": 9,
    "start_time": "2022-01-18T14:22:52.185Z"
   },
   {
    "duration": 6,
    "start_time": "2022-01-18T14:22:52.196Z"
   },
   {
    "duration": 13,
    "start_time": "2022-01-18T14:22:52.203Z"
   },
   {
    "duration": 9,
    "start_time": "2022-01-18T14:22:52.218Z"
   },
   {
    "duration": 4,
    "start_time": "2022-01-18T14:22:52.228Z"
   },
   {
    "duration": 8,
    "start_time": "2022-01-18T14:22:52.234Z"
   },
   {
    "duration": 102,
    "start_time": "2022-01-18T14:22:52.244Z"
   },
   {
    "duration": 6,
    "start_time": "2022-01-18T14:22:52.348Z"
   },
   {
    "duration": 37,
    "start_time": "2022-01-18T14:22:52.356Z"
   },
   {
    "duration": 7,
    "start_time": "2022-01-18T14:22:52.394Z"
   },
   {
    "duration": 27,
    "start_time": "2022-01-18T14:22:52.402Z"
   },
   {
    "duration": 6,
    "start_time": "2022-01-18T14:22:52.430Z"
   },
   {
    "duration": 48,
    "start_time": "2022-01-18T14:22:52.438Z"
   },
   {
    "duration": 18,
    "start_time": "2022-01-18T14:22:52.488Z"
   },
   {
    "duration": 1745,
    "start_time": "2022-01-18T14:22:52.508Z"
   },
   {
    "duration": 5,
    "start_time": "2022-01-18T14:22:54.255Z"
   },
   {
    "duration": 310,
    "start_time": "2022-01-18T14:22:54.261Z"
   },
   {
    "duration": 20,
    "start_time": "2022-01-18T14:22:54.573Z"
   },
   {
    "duration": 201,
    "start_time": "2022-01-18T14:22:54.595Z"
   },
   {
    "duration": 27,
    "start_time": "2022-01-18T14:22:54.797Z"
   },
   {
    "duration": 108,
    "start_time": "2022-01-18T14:22:54.825Z"
   },
   {
    "duration": 659,
    "start_time": "2022-01-18T14:22:54.276Z"
   },
   {
    "duration": 658,
    "start_time": "2022-01-18T14:22:54.278Z"
   },
   {
    "duration": 658,
    "start_time": "2022-01-18T14:22:54.279Z"
   },
   {
    "duration": 656,
    "start_time": "2022-01-18T14:22:54.281Z"
   },
   {
    "duration": 656,
    "start_time": "2022-01-18T14:22:54.283Z"
   },
   {
    "duration": 655,
    "start_time": "2022-01-18T14:22:54.285Z"
   },
   {
    "duration": 654,
    "start_time": "2022-01-18T14:22:54.286Z"
   },
   {
    "duration": 653,
    "start_time": "2022-01-18T14:22:54.288Z"
   },
   {
    "duration": 649,
    "start_time": "2022-01-18T14:22:54.293Z"
   },
   {
    "duration": 648,
    "start_time": "2022-01-18T14:22:54.295Z"
   },
   {
    "duration": 3,
    "start_time": "2022-01-18T14:24:29.668Z"
   },
   {
    "duration": 153,
    "start_time": "2022-01-18T14:24:29.673Z"
   },
   {
    "duration": 7,
    "start_time": "2022-01-18T14:24:29.828Z"
   },
   {
    "duration": 19,
    "start_time": "2022-01-18T14:24:29.837Z"
   },
   {
    "duration": 36,
    "start_time": "2022-01-18T14:24:29.857Z"
   },
   {
    "duration": 23,
    "start_time": "2022-01-18T14:24:29.894Z"
   },
   {
    "duration": 4,
    "start_time": "2022-01-18T14:24:29.919Z"
   },
   {
    "duration": 73,
    "start_time": "2022-01-18T14:24:29.925Z"
   },
   {
    "duration": 10,
    "start_time": "2022-01-18T14:24:30.000Z"
   },
   {
    "duration": 125,
    "start_time": "2022-01-18T14:24:30.012Z"
   },
   {
    "duration": 8,
    "start_time": "2022-01-18T14:24:30.139Z"
   },
   {
    "duration": 30,
    "start_time": "2022-01-18T14:24:30.149Z"
   },
   {
    "duration": 26,
    "start_time": "2022-01-18T14:24:30.181Z"
   },
   {
    "duration": 20,
    "start_time": "2022-01-18T14:24:30.209Z"
   },
   {
    "duration": 62,
    "start_time": "2022-01-18T14:24:30.230Z"
   },
   {
    "duration": 9,
    "start_time": "2022-01-18T14:24:30.294Z"
   },
   {
    "duration": 25,
    "start_time": "2022-01-18T14:24:30.304Z"
   },
   {
    "duration": 93,
    "start_time": "2022-01-18T14:24:30.331Z"
   },
   {
    "duration": 7,
    "start_time": "2022-01-18T14:24:30.426Z"
   },
   {
    "duration": 15,
    "start_time": "2022-01-18T14:24:30.435Z"
   },
   {
    "duration": 32,
    "start_time": "2022-01-18T14:24:30.451Z"
   },
   {
    "duration": 37,
    "start_time": "2022-01-18T14:24:30.485Z"
   },
   {
    "duration": 8,
    "start_time": "2022-01-18T14:24:30.526Z"
   },
   {
    "duration": 18,
    "start_time": "2022-01-18T14:24:30.537Z"
   },
   {
    "duration": 23,
    "start_time": "2022-01-18T14:24:30.556Z"
   },
   {
    "duration": 39,
    "start_time": "2022-01-18T14:24:30.581Z"
   },
   {
    "duration": 10,
    "start_time": "2022-01-18T14:24:30.621Z"
   },
   {
    "duration": 17,
    "start_time": "2022-01-18T14:24:30.633Z"
   },
   {
    "duration": 19,
    "start_time": "2022-01-18T14:24:30.652Z"
   },
   {
    "duration": 6,
    "start_time": "2022-01-18T14:24:30.673Z"
   },
   {
    "duration": 27,
    "start_time": "2022-01-18T14:24:30.681Z"
   },
   {
    "duration": 12,
    "start_time": "2022-01-18T14:24:30.709Z"
   },
   {
    "duration": 96,
    "start_time": "2022-01-18T14:24:30.723Z"
   },
   {
    "duration": 6,
    "start_time": "2022-01-18T14:24:30.820Z"
   },
   {
    "duration": 40,
    "start_time": "2022-01-18T14:24:30.828Z"
   },
   {
    "duration": 6,
    "start_time": "2022-01-18T14:24:30.870Z"
   },
   {
    "duration": 38,
    "start_time": "2022-01-18T14:24:30.877Z"
   },
   {
    "duration": 6,
    "start_time": "2022-01-18T14:24:30.917Z"
   },
   {
    "duration": 109,
    "start_time": "2022-01-18T14:24:30.924Z"
   },
   {
    "duration": 18,
    "start_time": "2022-01-18T14:24:31.034Z"
   },
   {
    "duration": 1802,
    "start_time": "2022-01-18T14:24:31.054Z"
   },
   {
    "duration": 4,
    "start_time": "2022-01-18T14:24:32.858Z"
   },
   {
    "duration": 300,
    "start_time": "2022-01-18T14:24:32.864Z"
   },
   {
    "duration": 23,
    "start_time": "2022-01-18T14:24:33.165Z"
   },
   {
    "duration": 198,
    "start_time": "2022-01-18T14:24:33.189Z"
   },
   {
    "duration": 27,
    "start_time": "2022-01-18T14:24:33.388Z"
   },
   {
    "duration": 162,
    "start_time": "2022-01-18T14:24:33.417Z"
   },
   {
    "duration": 146,
    "start_time": "2022-01-18T14:24:33.581Z"
   },
   {
    "duration": 153,
    "start_time": "2022-01-18T14:24:33.729Z"
   },
   {
    "duration": 2305,
    "start_time": "2022-01-18T14:24:33.883Z"
   },
   {
    "duration": 8,
    "start_time": "2022-01-18T14:24:36.190Z"
   },
   {
    "duration": 147,
    "start_time": "2022-01-18T14:24:36.200Z"
   },
   {
    "duration": 9,
    "start_time": "2022-01-18T14:24:36.349Z"
   },
   {
    "duration": 98,
    "start_time": "2022-01-18T14:24:36.360Z"
   },
   {
    "duration": 662,
    "start_time": "2022-01-18T14:24:35.798Z"
   },
   {
    "duration": 661,
    "start_time": "2022-01-18T14:24:35.800Z"
   },
   {
    "duration": 3,
    "start_time": "2022-01-18T14:24:56.000Z"
   },
   {
    "duration": 138,
    "start_time": "2022-01-18T14:24:56.004Z"
   },
   {
    "duration": 7,
    "start_time": "2022-01-18T14:24:56.144Z"
   },
   {
    "duration": 27,
    "start_time": "2022-01-18T14:24:56.153Z"
   },
   {
    "duration": 21,
    "start_time": "2022-01-18T14:24:56.182Z"
   },
   {
    "duration": 22,
    "start_time": "2022-01-18T14:24:56.204Z"
   },
   {
    "duration": 3,
    "start_time": "2022-01-18T14:24:56.228Z"
   },
   {
    "duration": 69,
    "start_time": "2022-01-18T14:24:56.233Z"
   },
   {
    "duration": 8,
    "start_time": "2022-01-18T14:24:56.304Z"
   },
   {
    "duration": 118,
    "start_time": "2022-01-18T14:24:56.314Z"
   },
   {
    "duration": 7,
    "start_time": "2022-01-18T14:24:56.433Z"
   },
   {
    "duration": 16,
    "start_time": "2022-01-18T14:24:56.442Z"
   },
   {
    "duration": 34,
    "start_time": "2022-01-18T14:24:56.459Z"
   },
   {
    "duration": 17,
    "start_time": "2022-01-18T14:24:56.495Z"
   },
   {
    "duration": 40,
    "start_time": "2022-01-18T14:24:56.513Z"
   },
   {
    "duration": 8,
    "start_time": "2022-01-18T14:24:56.572Z"
   },
   {
    "duration": 24,
    "start_time": "2022-01-18T14:24:56.582Z"
   },
   {
    "duration": 85,
    "start_time": "2022-01-18T14:24:56.608Z"
   },
   {
    "duration": 6,
    "start_time": "2022-01-18T14:24:56.695Z"
   },
   {
    "duration": 13,
    "start_time": "2022-01-18T14:24:56.702Z"
   },
   {
    "duration": 16,
    "start_time": "2022-01-18T14:24:56.716Z"
   },
   {
    "duration": 50,
    "start_time": "2022-01-18T14:24:56.733Z"
   },
   {
    "duration": 8,
    "start_time": "2022-01-18T14:24:56.785Z"
   },
   {
    "duration": 16,
    "start_time": "2022-01-18T14:24:56.795Z"
   },
   {
    "duration": 8,
    "start_time": "2022-01-18T14:24:56.812Z"
   },
   {
    "duration": 29,
    "start_time": "2022-01-18T14:24:56.821Z"
   },
   {
    "duration": 8,
    "start_time": "2022-01-18T14:24:56.853Z"
   },
   {
    "duration": 5,
    "start_time": "2022-01-18T14:24:56.863Z"
   },
   {
    "duration": 14,
    "start_time": "2022-01-18T14:24:56.870Z"
   },
   {
    "duration": 6,
    "start_time": "2022-01-18T14:24:56.885Z"
   },
   {
    "duration": 8,
    "start_time": "2022-01-18T14:24:56.892Z"
   },
   {
    "duration": 9,
    "start_time": "2022-01-18T14:24:56.901Z"
   },
   {
    "duration": 82,
    "start_time": "2022-01-18T14:24:56.912Z"
   },
   {
    "duration": 7,
    "start_time": "2022-01-18T14:24:56.995Z"
   },
   {
    "duration": 28,
    "start_time": "2022-01-18T14:24:57.003Z"
   },
   {
    "duration": 6,
    "start_time": "2022-01-18T14:24:57.032Z"
   },
   {
    "duration": 48,
    "start_time": "2022-01-18T14:24:57.040Z"
   },
   {
    "duration": 6,
    "start_time": "2022-01-18T14:24:57.089Z"
   },
   {
    "duration": 29,
    "start_time": "2022-01-18T14:24:57.097Z"
   },
   {
    "duration": 17,
    "start_time": "2022-01-18T14:24:57.128Z"
   },
   {
    "duration": 1747,
    "start_time": "2022-01-18T14:24:57.147Z"
   },
   {
    "duration": 5,
    "start_time": "2022-01-18T14:24:58.895Z"
   },
   {
    "duration": 310,
    "start_time": "2022-01-18T14:24:58.901Z"
   },
   {
    "duration": 20,
    "start_time": "2022-01-18T14:24:59.213Z"
   },
   {
    "duration": 218,
    "start_time": "2022-01-18T14:24:59.234Z"
   },
   {
    "duration": 35,
    "start_time": "2022-01-18T14:24:59.453Z"
   },
   {
    "duration": 146,
    "start_time": "2022-01-18T14:24:59.490Z"
   },
   {
    "duration": 226,
    "start_time": "2022-01-18T14:24:59.638Z"
   },
   {
    "duration": 157,
    "start_time": "2022-01-18T14:24:59.865Z"
   },
   {
    "duration": 2452,
    "start_time": "2022-01-18T14:25:00.023Z"
   },
   {
    "duration": 9,
    "start_time": "2022-01-18T14:25:02.477Z"
   },
   {
    "duration": 151,
    "start_time": "2022-01-18T14:25:02.488Z"
   },
   {
    "duration": 10,
    "start_time": "2022-01-18T14:25:02.641Z"
   },
   {
    "duration": 28,
    "start_time": "2022-01-18T14:25:02.652Z"
   },
   {
    "duration": 147,
    "start_time": "2022-01-18T14:25:02.681Z"
   },
   {
    "duration": 13,
    "start_time": "2022-01-18T14:29:42.331Z"
   },
   {
    "duration": 3,
    "start_time": "2022-01-18T14:29:58.992Z"
   },
   {
    "duration": 143,
    "start_time": "2022-01-18T14:29:58.997Z"
   },
   {
    "duration": 9,
    "start_time": "2022-01-18T14:29:59.142Z"
   },
   {
    "duration": 31,
    "start_time": "2022-01-18T14:29:59.153Z"
   },
   {
    "duration": 23,
    "start_time": "2022-01-18T14:29:59.185Z"
   },
   {
    "duration": 25,
    "start_time": "2022-01-18T14:29:59.210Z"
   },
   {
    "duration": 4,
    "start_time": "2022-01-18T14:29:59.237Z"
   },
   {
    "duration": 78,
    "start_time": "2022-01-18T14:29:59.243Z"
   },
   {
    "duration": 8,
    "start_time": "2022-01-18T14:29:59.323Z"
   },
   {
    "duration": 121,
    "start_time": "2022-01-18T14:29:59.333Z"
   },
   {
    "duration": 8,
    "start_time": "2022-01-18T14:29:59.455Z"
   },
   {
    "duration": 15,
    "start_time": "2022-01-18T14:29:59.472Z"
   },
   {
    "duration": 24,
    "start_time": "2022-01-18T14:29:59.489Z"
   },
   {
    "duration": 19,
    "start_time": "2022-01-18T14:29:59.514Z"
   },
   {
    "duration": 62,
    "start_time": "2022-01-18T14:29:59.534Z"
   },
   {
    "duration": 9,
    "start_time": "2022-01-18T14:29:59.598Z"
   },
   {
    "duration": 26,
    "start_time": "2022-01-18T14:29:59.609Z"
   },
   {
    "duration": 95,
    "start_time": "2022-01-18T14:29:59.637Z"
   },
   {
    "duration": 6,
    "start_time": "2022-01-18T14:29:59.734Z"
   },
   {
    "duration": 14,
    "start_time": "2022-01-18T14:29:59.741Z"
   },
   {
    "duration": 29,
    "start_time": "2022-01-18T14:29:59.756Z"
   },
   {
    "duration": 35,
    "start_time": "2022-01-18T14:29:59.786Z"
   },
   {
    "duration": 9,
    "start_time": "2022-01-18T14:29:59.823Z"
   },
   {
    "duration": 15,
    "start_time": "2022-01-18T14:29:59.834Z"
   },
   {
    "duration": 25,
    "start_time": "2022-01-18T14:29:59.851Z"
   },
   {
    "duration": 27,
    "start_time": "2022-01-18T14:29:59.877Z"
   },
   {
    "duration": 10,
    "start_time": "2022-01-18T14:29:59.908Z"
   },
   {
    "duration": 6,
    "start_time": "2022-01-18T14:29:59.920Z"
   },
   {
    "duration": 14,
    "start_time": "2022-01-18T14:29:59.928Z"
   },
   {
    "duration": 5,
    "start_time": "2022-01-18T14:29:59.944Z"
   },
   {
    "duration": 20,
    "start_time": "2022-01-18T14:29:59.951Z"
   },
   {
    "duration": 3,
    "start_time": "2022-01-18T14:29:59.973Z"
   },
   {
    "duration": 97,
    "start_time": "2022-01-18T14:29:59.978Z"
   },
   {
    "duration": 8,
    "start_time": "2022-01-18T14:30:00.077Z"
   },
   {
    "duration": 33,
    "start_time": "2022-01-18T14:30:00.087Z"
   },
   {
    "duration": 8,
    "start_time": "2022-01-18T14:30:00.122Z"
   },
   {
    "duration": 55,
    "start_time": "2022-01-18T14:30:00.132Z"
   },
   {
    "duration": 7,
    "start_time": "2022-01-18T14:30:00.188Z"
   },
   {
    "duration": 33,
    "start_time": "2022-01-18T14:30:00.196Z"
   },
   {
    "duration": 20,
    "start_time": "2022-01-18T14:30:00.230Z"
   },
   {
    "duration": 1817,
    "start_time": "2022-01-18T14:30:00.251Z"
   },
   {
    "duration": 5,
    "start_time": "2022-01-18T14:30:02.072Z"
   },
   {
    "duration": 343,
    "start_time": "2022-01-18T14:30:02.079Z"
   },
   {
    "duration": 20,
    "start_time": "2022-01-18T14:30:02.424Z"
   },
   {
    "duration": 211,
    "start_time": "2022-01-18T14:30:02.446Z"
   },
   {
    "duration": 34,
    "start_time": "2022-01-18T14:30:02.658Z"
   },
   {
    "duration": 150,
    "start_time": "2022-01-18T14:30:02.693Z"
   },
   {
    "duration": 155,
    "start_time": "2022-01-18T14:30:02.845Z"
   },
   {
    "duration": 160,
    "start_time": "2022-01-18T14:30:03.002Z"
   },
   {
    "duration": 2433,
    "start_time": "2022-01-18T14:30:03.164Z"
   },
   {
    "duration": 9,
    "start_time": "2022-01-18T14:30:05.599Z"
   },
   {
    "duration": 151,
    "start_time": "2022-01-18T14:30:05.610Z"
   },
   {
    "duration": 15,
    "start_time": "2022-01-18T14:30:05.762Z"
   },
   {
    "duration": 13,
    "start_time": "2022-01-18T14:30:05.778Z"
   },
   {
    "duration": 101,
    "start_time": "2022-01-18T14:31:46.711Z"
   },
   {
    "duration": 3,
    "start_time": "2022-01-18T15:00:28.957Z"
   },
   {
    "duration": 148,
    "start_time": "2022-01-18T15:00:28.962Z"
   },
   {
    "duration": 8,
    "start_time": "2022-01-18T15:00:29.112Z"
   },
   {
    "duration": 21,
    "start_time": "2022-01-18T15:00:29.121Z"
   },
   {
    "duration": 40,
    "start_time": "2022-01-18T15:00:29.144Z"
   },
   {
    "duration": 24,
    "start_time": "2022-01-18T15:00:29.185Z"
   },
   {
    "duration": 4,
    "start_time": "2022-01-18T15:00:29.210Z"
   },
   {
    "duration": 75,
    "start_time": "2022-01-18T15:00:29.217Z"
   },
   {
    "duration": 8,
    "start_time": "2022-01-18T15:00:29.294Z"
   },
   {
    "duration": 129,
    "start_time": "2022-01-18T15:00:29.304Z"
   },
   {
    "duration": 8,
    "start_time": "2022-01-18T15:00:29.434Z"
   },
   {
    "duration": 28,
    "start_time": "2022-01-18T15:00:29.444Z"
   },
   {
    "duration": 29,
    "start_time": "2022-01-18T15:00:29.474Z"
   },
   {
    "duration": 19,
    "start_time": "2022-01-18T15:00:29.505Z"
   },
   {
    "duration": 64,
    "start_time": "2022-01-18T15:00:29.526Z"
   },
   {
    "duration": 21,
    "start_time": "2022-01-18T15:00:29.591Z"
   },
   {
    "duration": 39,
    "start_time": "2022-01-18T15:00:29.614Z"
   },
   {
    "duration": 86,
    "start_time": "2022-01-18T15:00:29.654Z"
   },
   {
    "duration": 6,
    "start_time": "2022-01-18T15:00:29.742Z"
   },
   {
    "duration": 25,
    "start_time": "2022-01-18T15:00:29.750Z"
   },
   {
    "duration": 25,
    "start_time": "2022-01-18T15:00:29.777Z"
   },
   {
    "duration": 40,
    "start_time": "2022-01-18T15:00:29.803Z"
   },
   {
    "duration": 7,
    "start_time": "2022-01-18T15:00:29.846Z"
   },
   {
    "duration": 16,
    "start_time": "2022-01-18T15:00:29.855Z"
   },
   {
    "duration": 18,
    "start_time": "2022-01-18T15:00:29.873Z"
   },
   {
    "duration": 51,
    "start_time": "2022-01-18T15:00:29.893Z"
   },
   {
    "duration": 20,
    "start_time": "2022-01-18T15:00:29.945Z"
   },
   {
    "duration": 23,
    "start_time": "2022-01-18T15:00:29.966Z"
   },
   {
    "duration": 29,
    "start_time": "2022-01-18T15:00:29.990Z"
   },
   {
    "duration": 13,
    "start_time": "2022-01-18T15:00:30.021Z"
   },
   {
    "duration": 21,
    "start_time": "2022-01-18T15:00:30.036Z"
   },
   {
    "duration": 35,
    "start_time": "2022-01-18T15:00:30.059Z"
   },
   {
    "duration": 84,
    "start_time": "2022-01-18T15:00:30.096Z"
   },
   {
    "duration": 7,
    "start_time": "2022-01-18T15:00:30.181Z"
   },
   {
    "duration": 36,
    "start_time": "2022-01-18T15:00:30.190Z"
   },
   {
    "duration": 6,
    "start_time": "2022-01-18T15:00:30.227Z"
   },
   {
    "duration": 53,
    "start_time": "2022-01-18T15:00:30.235Z"
   },
   {
    "duration": 6,
    "start_time": "2022-01-18T15:00:30.290Z"
   },
   {
    "duration": 123,
    "start_time": "2022-01-18T15:00:30.297Z"
   },
   {
    "duration": 19,
    "start_time": "2022-01-18T15:00:30.422Z"
   },
   {
    "duration": 1805,
    "start_time": "2022-01-18T15:00:30.442Z"
   },
   {
    "duration": 6,
    "start_time": "2022-01-18T15:00:32.248Z"
   },
   {
    "duration": 322,
    "start_time": "2022-01-18T15:00:32.256Z"
   },
   {
    "duration": 22,
    "start_time": "2022-01-18T15:00:32.580Z"
   },
   {
    "duration": 218,
    "start_time": "2022-01-18T15:00:32.604Z"
   },
   {
    "duration": 27,
    "start_time": "2022-01-18T15:00:32.824Z"
   },
   {
    "duration": 162,
    "start_time": "2022-01-18T15:00:32.853Z"
   },
   {
    "duration": 164,
    "start_time": "2022-01-18T15:00:33.017Z"
   },
   {
    "duration": 217,
    "start_time": "2022-01-18T15:00:33.183Z"
   },
   {
    "duration": 2401,
    "start_time": "2022-01-18T15:00:33.402Z"
   },
   {
    "duration": 9,
    "start_time": "2022-01-18T15:00:35.805Z"
   },
   {
    "duration": 151,
    "start_time": "2022-01-18T15:00:35.816Z"
   },
   {
    "duration": 9,
    "start_time": "2022-01-18T15:00:35.969Z"
   },
   {
    "duration": 14,
    "start_time": "2022-01-18T15:00:35.979Z"
   },
   {
    "duration": 1156,
    "start_time": "2022-01-21T15:26:15.768Z"
   },
   {
    "duration": 152,
    "start_time": "2022-01-21T15:26:16.926Z"
   },
   {
    "duration": 12,
    "start_time": "2022-01-21T15:26:17.081Z"
   },
   {
    "duration": 25,
    "start_time": "2022-01-21T15:26:17.095Z"
   },
   {
    "duration": 29,
    "start_time": "2022-01-21T15:26:17.122Z"
   },
   {
    "duration": 59,
    "start_time": "2022-01-21T15:26:17.153Z"
   },
   {
    "duration": 6,
    "start_time": "2022-01-21T15:26:17.214Z"
   },
   {
    "duration": 76,
    "start_time": "2022-01-21T15:26:17.223Z"
   },
   {
    "duration": 10,
    "start_time": "2022-01-21T15:26:17.301Z"
   },
   {
    "duration": 131,
    "start_time": "2022-01-21T15:26:17.313Z"
   },
   {
    "duration": 10,
    "start_time": "2022-01-21T15:26:17.446Z"
   },
   {
    "duration": 19,
    "start_time": "2022-01-21T15:26:17.458Z"
   },
   {
    "duration": 29,
    "start_time": "2022-01-21T15:26:17.498Z"
   },
   {
    "duration": 22,
    "start_time": "2022-01-21T15:26:17.528Z"
   },
   {
    "duration": 64,
    "start_time": "2022-01-21T15:26:17.552Z"
   },
   {
    "duration": 10,
    "start_time": "2022-01-21T15:26:17.618Z"
   },
   {
    "duration": 33,
    "start_time": "2022-01-21T15:26:17.630Z"
   },
   {
    "duration": 100,
    "start_time": "2022-01-21T15:26:17.665Z"
   },
   {
    "duration": 6,
    "start_time": "2022-01-21T15:26:17.767Z"
   },
   {
    "duration": 32,
    "start_time": "2022-01-21T15:26:17.775Z"
   },
   {
    "duration": 18,
    "start_time": "2022-01-21T15:26:17.808Z"
   },
   {
    "duration": 36,
    "start_time": "2022-01-21T15:26:17.827Z"
   },
   {
    "duration": 8,
    "start_time": "2022-01-21T15:26:17.867Z"
   },
   {
    "duration": 24,
    "start_time": "2022-01-21T15:26:17.877Z"
   },
   {
    "duration": 8,
    "start_time": "2022-01-21T15:26:17.902Z"
   },
   {
    "duration": 32,
    "start_time": "2022-01-21T15:26:17.912Z"
   },
   {
    "duration": 11,
    "start_time": "2022-01-21T15:26:17.945Z"
   },
   {
    "duration": 7,
    "start_time": "2022-01-21T15:26:17.957Z"
   },
   {
    "duration": 14,
    "start_time": "2022-01-21T15:26:17.966Z"
   },
   {
    "duration": 21,
    "start_time": "2022-01-21T15:26:17.982Z"
   },
   {
    "duration": 5,
    "start_time": "2022-01-21T15:26:18.005Z"
   },
   {
    "duration": 6,
    "start_time": "2022-01-21T15:26:18.012Z"
   },
   {
    "duration": 111,
    "start_time": "2022-01-21T15:26:18.020Z"
   },
   {
    "duration": 9,
    "start_time": "2022-01-21T15:26:18.132Z"
   },
   {
    "duration": 31,
    "start_time": "2022-01-21T15:26:18.143Z"
   },
   {
    "duration": 30,
    "start_time": "2022-01-21T15:26:18.175Z"
   },
   {
    "duration": 36,
    "start_time": "2022-01-21T15:26:18.207Z"
   },
   {
    "duration": 8,
    "start_time": "2022-01-21T15:26:18.244Z"
   },
   {
    "duration": 57,
    "start_time": "2022-01-21T15:26:18.254Z"
   },
   {
    "duration": 21,
    "start_time": "2022-01-21T15:26:18.313Z"
   },
   {
    "duration": 2062,
    "start_time": "2022-01-21T15:26:18.335Z"
   },
   {
    "duration": 6,
    "start_time": "2022-01-21T15:26:20.400Z"
   },
   {
    "duration": 405,
    "start_time": "2022-01-21T15:26:20.408Z"
   },
   {
    "duration": 22,
    "start_time": "2022-01-21T15:26:20.815Z"
   },
   {
    "duration": 232,
    "start_time": "2022-01-21T15:26:20.838Z"
   },
   {
    "duration": 44,
    "start_time": "2022-01-21T15:26:21.072Z"
   },
   {
    "duration": 195,
    "start_time": "2022-01-21T15:26:21.118Z"
   },
   {
    "duration": 194,
    "start_time": "2022-01-21T15:26:21.315Z"
   },
   {
    "duration": 254,
    "start_time": "2022-01-21T15:26:21.511Z"
   },
   {
    "duration": 3454,
    "start_time": "2022-01-21T15:26:21.767Z"
   },
   {
    "duration": 14,
    "start_time": "2022-01-21T15:26:25.224Z"
   },
   {
    "duration": 210,
    "start_time": "2022-01-21T15:26:25.240Z"
   },
   {
    "duration": 13,
    "start_time": "2022-01-21T15:26:25.452Z"
   },
   {
    "duration": 41,
    "start_time": "2022-01-21T15:26:25.468Z"
   },
   {
    "duration": 20,
    "start_time": "2022-01-21T15:35:36.011Z"
   },
   {
    "duration": 16,
    "start_time": "2022-01-21T15:36:17.200Z"
   },
   {
    "duration": 410,
    "start_time": "2022-01-22T12:48:36.800Z"
   },
   {
    "duration": 1423,
    "start_time": "2022-01-22T13:14:03.306Z"
   },
   {
    "duration": 198,
    "start_time": "2022-01-22T13:14:04.731Z"
   },
   {
    "duration": 16,
    "start_time": "2022-01-22T13:14:04.932Z"
   },
   {
    "duration": 26,
    "start_time": "2022-01-22T13:14:04.959Z"
   },
   {
    "duration": 37,
    "start_time": "2022-01-22T13:14:04.987Z"
   },
   {
    "duration": 539,
    "start_time": "2022-01-22T13:14:05.028Z"
   },
   {
    "duration": 43,
    "start_time": "2022-01-22T13:14:05.570Z"
   },
   {
    "duration": 6,
    "start_time": "2022-01-22T13:14:05.617Z"
   },
   {
    "duration": 112,
    "start_time": "2022-01-22T13:14:05.626Z"
   },
   {
    "duration": 20,
    "start_time": "2022-01-22T13:14:05.741Z"
   },
   {
    "duration": 180,
    "start_time": "2022-01-22T13:14:05.764Z"
   },
   {
    "duration": 16,
    "start_time": "2022-01-22T13:14:05.947Z"
   },
   {
    "duration": 27,
    "start_time": "2022-01-22T13:14:05.965Z"
   },
   {
    "duration": 67,
    "start_time": "2022-01-22T13:14:05.995Z"
   },
   {
    "duration": 31,
    "start_time": "2022-01-22T13:14:06.064Z"
   },
   {
    "duration": 81,
    "start_time": "2022-01-22T13:14:06.098Z"
   },
   {
    "duration": 13,
    "start_time": "2022-01-22T13:14:06.182Z"
   },
   {
    "duration": 73,
    "start_time": "2022-01-22T13:14:06.198Z"
   },
   {
    "duration": 120,
    "start_time": "2022-01-22T13:14:06.274Z"
   },
   {
    "duration": 13,
    "start_time": "2022-01-22T13:14:06.397Z"
   },
   {
    "duration": 24,
    "start_time": "2022-01-22T13:14:06.413Z"
   },
   {
    "duration": 41,
    "start_time": "2022-01-22T13:14:06.439Z"
   },
   {
    "duration": 56,
    "start_time": "2022-01-22T13:14:06.485Z"
   },
   {
    "duration": 12,
    "start_time": "2022-01-22T13:14:06.560Z"
   },
   {
    "duration": 18,
    "start_time": "2022-01-22T13:14:06.574Z"
   },
   {
    "duration": 12,
    "start_time": "2022-01-22T13:14:06.594Z"
   },
   {
    "duration": 31,
    "start_time": "2022-01-22T13:14:06.608Z"
   },
   {
    "duration": 19,
    "start_time": "2022-01-22T13:14:06.641Z"
   },
   {
    "duration": 9,
    "start_time": "2022-01-22T13:14:06.662Z"
   },
   {
    "duration": 24,
    "start_time": "2022-01-22T13:14:06.673Z"
   },
   {
    "duration": 13,
    "start_time": "2022-01-22T13:14:06.699Z"
   },
   {
    "duration": 6,
    "start_time": "2022-01-22T13:14:06.715Z"
   },
   {
    "duration": 38,
    "start_time": "2022-01-22T13:14:06.724Z"
   },
   {
    "duration": 162,
    "start_time": "2022-01-22T13:14:06.765Z"
   },
   {
    "duration": 12,
    "start_time": "2022-01-22T13:14:06.929Z"
   },
   {
    "duration": 58,
    "start_time": "2022-01-22T13:14:06.943Z"
   },
   {
    "duration": 10,
    "start_time": "2022-01-22T13:14:07.004Z"
   },
   {
    "duration": 79,
    "start_time": "2022-01-22T13:14:07.016Z"
   },
   {
    "duration": 9,
    "start_time": "2022-01-22T13:14:07.098Z"
   },
   {
    "duration": 71,
    "start_time": "2022-01-22T13:14:07.109Z"
   },
   {
    "duration": 47,
    "start_time": "2022-01-22T13:14:07.183Z"
   },
   {
    "duration": 3183,
    "start_time": "2022-01-22T13:14:07.233Z"
   },
   {
    "duration": 8,
    "start_time": "2022-01-22T13:14:10.419Z"
   },
   {
    "duration": 639,
    "start_time": "2022-01-22T13:14:10.430Z"
   },
   {
    "duration": 36,
    "start_time": "2022-01-22T13:14:11.071Z"
   },
   {
    "duration": 388,
    "start_time": "2022-01-22T13:14:11.110Z"
   },
   {
    "duration": 61,
    "start_time": "2022-01-22T13:14:11.500Z"
   },
   {
    "duration": 245,
    "start_time": "2022-01-22T13:14:11.564Z"
   },
   {
    "duration": 325,
    "start_time": "2022-01-22T13:14:11.812Z"
   },
   {
    "duration": 261,
    "start_time": "2022-01-22T13:14:12.140Z"
   },
   {
    "duration": 4259,
    "start_time": "2022-01-22T13:14:12.405Z"
   },
   {
    "duration": 16,
    "start_time": "2022-01-22T13:14:16.666Z"
   },
   {
    "duration": 263,
    "start_time": "2022-01-22T13:14:16.685Z"
   },
   {
    "duration": 19,
    "start_time": "2022-01-22T13:14:16.950Z"
   },
   {
    "duration": 22,
    "start_time": "2022-01-22T13:14:16.971Z"
   },
   {
    "duration": 474,
    "start_time": "2022-01-22T13:16:26.485Z"
   },
   {
    "duration": 478,
    "start_time": "2022-01-22T13:16:41.740Z"
   },
   {
    "duration": 620,
    "start_time": "2022-01-22T13:16:50.145Z"
   },
   {
    "duration": 395,
    "start_time": "2022-01-22T13:17:00.449Z"
   },
   {
    "duration": 40,
    "start_time": "2022-01-22T13:19:55.072Z"
   },
   {
    "duration": 464,
    "start_time": "2022-01-22T13:21:31.104Z"
   },
   {
    "duration": 395,
    "start_time": "2022-01-22T13:22:25.193Z"
   },
   {
    "duration": 130,
    "start_time": "2022-01-22T13:24:16.497Z"
   },
   {
    "duration": 874,
    "start_time": "2022-01-22T13:38:28.222Z"
   },
   {
    "duration": 915,
    "start_time": "2022-01-22T13:42:32.231Z"
   },
   {
    "duration": 958,
    "start_time": "2022-01-22T13:42:53.315Z"
   },
   {
    "duration": 467,
    "start_time": "2022-01-22T13:44:30.824Z"
   },
   {
    "duration": 362,
    "start_time": "2022-01-22T13:44:54.402Z"
   },
   {
    "duration": 896,
    "start_time": "2022-01-22T13:45:59.295Z"
   },
   {
    "duration": 376,
    "start_time": "2022-01-22T13:47:26.357Z"
   },
   {
    "duration": 975,
    "start_time": "2022-01-22T13:50:51.622Z"
   },
   {
    "duration": 983,
    "start_time": "2022-01-22T13:51:22.387Z"
   },
   {
    "duration": 953,
    "start_time": "2022-01-22T13:53:11.554Z"
   },
   {
    "duration": 760,
    "start_time": "2022-01-22T13:53:55.083Z"
   },
   {
    "duration": 343,
    "start_time": "2022-01-22T13:54:04.420Z"
   },
   {
    "duration": 312,
    "start_time": "2022-01-22T13:55:07.122Z"
   },
   {
    "duration": 964,
    "start_time": "2022-01-22T13:56:09.423Z"
   },
   {
    "duration": 978,
    "start_time": "2022-01-22T13:56:39.265Z"
   },
   {
    "duration": 1090,
    "start_time": "2022-01-22T13:57:19.213Z"
   },
   {
    "duration": 909,
    "start_time": "2022-01-22T13:57:35.305Z"
   },
   {
    "duration": 962,
    "start_time": "2022-01-22T13:58:56.450Z"
   },
   {
    "duration": 902,
    "start_time": "2022-01-22T13:59:26.187Z"
   },
   {
    "duration": 651,
    "start_time": "2022-01-22T13:59:50.608Z"
   },
   {
    "duration": 660,
    "start_time": "2022-01-22T14:00:06.215Z"
   },
   {
    "duration": 584,
    "start_time": "2022-01-22T14:00:20.238Z"
   },
   {
    "duration": 925,
    "start_time": "2022-01-22T14:00:49.787Z"
   },
   {
    "duration": 725,
    "start_time": "2022-01-22T14:01:39.993Z"
   },
   {
    "duration": 348,
    "start_time": "2022-01-22T14:02:02.677Z"
   },
   {
    "duration": 449,
    "start_time": "2022-01-22T14:02:19.217Z"
   },
   {
    "duration": 50,
    "start_time": "2022-01-22T14:02:22.329Z"
   },
   {
    "duration": 631,
    "start_time": "2022-01-22T14:02:25.451Z"
   },
   {
    "duration": 246,
    "start_time": "2022-01-22T14:02:44.371Z"
   },
   {
    "duration": 641,
    "start_time": "2022-01-22T14:03:02.829Z"
   },
   {
    "duration": 887,
    "start_time": "2022-01-22T14:03:16.018Z"
   },
   {
    "duration": 3,
    "start_time": "2022-01-22T14:03:40.129Z"
   },
   {
    "duration": 221,
    "start_time": "2022-01-22T14:03:40.139Z"
   },
   {
    "duration": 11,
    "start_time": "2022-01-22T14:03:40.362Z"
   },
   {
    "duration": 29,
    "start_time": "2022-01-22T14:03:40.376Z"
   },
   {
    "duration": 68,
    "start_time": "2022-01-22T14:03:40.408Z"
   },
   {
    "duration": 416,
    "start_time": "2022-01-22T14:03:40.478Z"
   },
   {
    "duration": 39,
    "start_time": "2022-01-22T14:03:40.897Z"
   },
   {
    "duration": 23,
    "start_time": "2022-01-22T14:03:40.938Z"
   },
   {
    "duration": 100,
    "start_time": "2022-01-22T14:03:40.964Z"
   },
   {
    "duration": 14,
    "start_time": "2022-01-22T14:03:41.067Z"
   },
   {
    "duration": 171,
    "start_time": "2022-01-22T14:03:41.092Z"
   },
   {
    "duration": 12,
    "start_time": "2022-01-22T14:03:41.266Z"
   },
   {
    "duration": 23,
    "start_time": "2022-01-22T14:03:41.280Z"
   },
   {
    "duration": 66,
    "start_time": "2022-01-22T14:03:41.305Z"
   },
   {
    "duration": 401,
    "start_time": "2022-01-22T14:03:41.373Z"
   },
   {
    "duration": 30,
    "start_time": "2022-01-22T14:03:41.776Z"
   },
   {
    "duration": 79,
    "start_time": "2022-01-22T14:03:41.808Z"
   },
   {
    "duration": 13,
    "start_time": "2022-01-22T14:03:41.889Z"
   },
   {
    "duration": 58,
    "start_time": "2022-01-22T14:03:41.905Z"
   },
   {
    "duration": 124,
    "start_time": "2022-01-22T14:03:41.965Z"
   },
   {
    "duration": 10,
    "start_time": "2022-01-22T14:03:42.092Z"
   },
   {
    "duration": 24,
    "start_time": "2022-01-22T14:03:42.104Z"
   },
   {
    "duration": 42,
    "start_time": "2022-01-22T14:03:42.131Z"
   },
   {
    "duration": 52,
    "start_time": "2022-01-22T14:03:42.181Z"
   },
   {
    "duration": 27,
    "start_time": "2022-01-22T14:03:42.236Z"
   },
   {
    "duration": 19,
    "start_time": "2022-01-22T14:03:42.266Z"
   },
   {
    "duration": 13,
    "start_time": "2022-01-22T14:03:42.287Z"
   },
   {
    "duration": 33,
    "start_time": "2022-01-22T14:03:42.302Z"
   },
   {
    "duration": 24,
    "start_time": "2022-01-22T14:03:42.338Z"
   },
   {
    "duration": 10,
    "start_time": "2022-01-22T14:03:42.364Z"
   },
   {
    "duration": 21,
    "start_time": "2022-01-22T14:03:42.376Z"
   },
   {
    "duration": 8,
    "start_time": "2022-01-22T14:03:42.400Z"
   },
   {
    "duration": 49,
    "start_time": "2022-01-22T14:03:42.410Z"
   },
   {
    "duration": 5,
    "start_time": "2022-01-22T14:03:42.462Z"
   },
   {
    "duration": 122,
    "start_time": "2022-01-22T14:03:42.470Z"
   },
   {
    "duration": 12,
    "start_time": "2022-01-22T14:03:42.595Z"
   },
   {
    "duration": 71,
    "start_time": "2022-01-22T14:03:42.610Z"
   },
   {
    "duration": 11,
    "start_time": "2022-01-22T14:03:42.684Z"
   },
   {
    "duration": 66,
    "start_time": "2022-01-22T14:03:42.698Z"
   },
   {
    "duration": 10,
    "start_time": "2022-01-22T14:03:42.767Z"
   },
   {
    "duration": 49,
    "start_time": "2022-01-22T14:03:42.779Z"
   },
   {
    "duration": 56,
    "start_time": "2022-01-22T14:03:42.831Z"
   },
   {
    "duration": 3364,
    "start_time": "2022-01-22T14:03:42.890Z"
   },
   {
    "duration": 8,
    "start_time": "2022-01-22T14:03:46.256Z"
   },
   {
    "duration": 650,
    "start_time": "2022-01-22T14:03:46.267Z"
   },
   {
    "duration": 46,
    "start_time": "2022-01-22T14:03:46.920Z"
   },
   {
    "duration": 361,
    "start_time": "2022-01-22T14:03:46.968Z"
   },
   {
    "duration": 59,
    "start_time": "2022-01-22T14:03:47.331Z"
   },
   {
    "duration": 936,
    "start_time": "2022-01-22T14:03:47.392Z"
   },
   {
    "duration": -9190,
    "start_time": "2022-01-22T14:03:57.521Z"
   },
   {
    "duration": -9199,
    "start_time": "2022-01-22T14:03:57.531Z"
   },
   {
    "duration": -9206,
    "start_time": "2022-01-22T14:03:57.540Z"
   },
   {
    "duration": -9214,
    "start_time": "2022-01-22T14:03:57.549Z"
   },
   {
    "duration": -9221,
    "start_time": "2022-01-22T14:03:57.557Z"
   },
   {
    "duration": -9229,
    "start_time": "2022-01-22T14:03:57.567Z"
   },
   {
    "duration": -9237,
    "start_time": "2022-01-22T14:03:57.576Z"
   },
   {
    "duration": -9245,
    "start_time": "2022-01-22T14:03:57.585Z"
   },
   {
    "duration": 908,
    "start_time": "2022-01-22T14:07:15.105Z"
   },
   {
    "duration": 871,
    "start_time": "2022-01-22T14:07:32.057Z"
   },
   {
    "duration": 827,
    "start_time": "2022-01-22T14:08:10.771Z"
   },
   {
    "duration": 822,
    "start_time": "2022-01-22T14:09:50.940Z"
   },
   {
    "duration": 811,
    "start_time": "2022-01-22T14:11:48.293Z"
   },
   {
    "duration": 372,
    "start_time": "2022-01-22T14:15:41.075Z"
   },
   {
    "duration": 10369,
    "start_time": "2022-01-22T14:16:15.389Z"
   },
   {
    "duration": -9788,
    "start_time": "2022-01-22T14:16:35.548Z"
   },
   {
    "duration": -9799,
    "start_time": "2022-01-22T14:16:35.561Z"
   },
   {
    "duration": 914,
    "start_time": "2022-01-22T14:16:35.028Z"
   },
   {
    "duration": 824,
    "start_time": "2022-01-22T14:16:47.611Z"
   },
   {
    "duration": 113,
    "start_time": "2022-01-22T14:17:09.421Z"
   },
   {
    "duration": 9235,
    "start_time": "2022-01-22T14:17:24.849Z"
   },
   {
    "duration": -8737,
    "start_time": "2022-01-22T14:17:42.825Z"
   },
   {
    "duration": -8763,
    "start_time": "2022-01-22T14:17:42.853Z"
   },
   {
    "duration": 5,
    "start_time": "2022-01-22T14:18:56.646Z"
   },
   {
    "duration": 6,
    "start_time": "2022-01-22T14:19:25.477Z"
   },
   {
    "duration": 56,
    "start_time": "2022-01-22T14:19:27.829Z"
   },
   {
    "duration": 894,
    "start_time": "2022-01-22T14:19:30.252Z"
   },
   {
    "duration": 702,
    "start_time": "2022-01-22T14:19:48.350Z"
   },
   {
    "duration": 577,
    "start_time": "2022-01-22T14:19:57.424Z"
   },
   {
    "duration": 612,
    "start_time": "2022-01-22T14:20:15.310Z"
   },
   {
    "duration": 131,
    "start_time": "2022-01-22T14:20:54.202Z"
   },
   {
    "duration": 852,
    "start_time": "2022-01-22T14:21:20.786Z"
   },
   {
    "duration": 942,
    "start_time": "2022-01-22T14:22:29.019Z"
   },
   {
    "duration": 857,
    "start_time": "2022-01-22T14:23:05.522Z"
   },
   {
    "duration": 866,
    "start_time": "2022-01-22T14:23:40.633Z"
   },
   {
    "duration": 860,
    "start_time": "2022-01-22T14:24:22.905Z"
   },
   {
    "duration": 262,
    "start_time": "2022-01-22T14:24:32.733Z"
   },
   {
    "duration": 264,
    "start_time": "2022-01-22T14:24:49.846Z"
   },
   {
    "duration": 260,
    "start_time": "2022-01-22T14:24:51.694Z"
   },
   {
    "duration": 703,
    "start_time": "2022-01-22T14:25:04.300Z"
   },
   {
    "duration": 617,
    "start_time": "2022-01-22T14:25:16.209Z"
   },
   {
    "duration": 605,
    "start_time": "2022-01-22T14:25:24.235Z"
   },
   {
    "duration": 801,
    "start_time": "2022-01-22T14:25:34.602Z"
   },
   {
    "duration": 582,
    "start_time": "2022-01-22T14:25:50.111Z"
   },
   {
    "duration": 597,
    "start_time": "2022-01-22T14:25:57.986Z"
   },
   {
    "duration": 135,
    "start_time": "2022-01-22T14:26:10.659Z"
   },
   {
    "duration": 758,
    "start_time": "2022-01-22T14:26:21.849Z"
   },
   {
    "duration": 870,
    "start_time": "2022-01-22T14:26:41.253Z"
   },
   {
    "duration": 954,
    "start_time": "2022-01-22T14:26:50.078Z"
   },
   {
    "duration": 971,
    "start_time": "2022-01-22T14:26:57.486Z"
   },
   {
    "duration": 245,
    "start_time": "2022-01-22T14:27:07.083Z"
   },
   {
    "duration": 842,
    "start_time": "2022-01-22T14:27:19.852Z"
   },
   {
    "duration": 119,
    "start_time": "2022-01-22T14:29:30.178Z"
   },
   {
    "duration": 245,
    "start_time": "2022-01-22T14:30:01.777Z"
   },
   {
    "duration": 13,
    "start_time": "2022-01-22T14:37:37.997Z"
   },
   {
    "duration": 12,
    "start_time": "2022-01-22T14:37:43.367Z"
   },
   {
    "duration": 384,
    "start_time": "2022-01-22T14:38:49.927Z"
   },
   {
    "duration": 432,
    "start_time": "2022-01-22T14:39:23.669Z"
   },
   {
    "duration": 7,
    "start_time": "2022-01-22T14:44:05.689Z"
   },
   {
    "duration": 7,
    "start_time": "2022-01-22T14:47:28.034Z"
   },
   {
    "duration": 14,
    "start_time": "2022-01-22T14:53:54.532Z"
   },
   {
    "duration": 9,
    "start_time": "2022-01-22T14:55:42.045Z"
   },
   {
    "duration": 8,
    "start_time": "2022-01-22T14:55:52.080Z"
   },
   {
    "duration": 11,
    "start_time": "2022-01-22T15:09:29.585Z"
   },
   {
    "duration": 7,
    "start_time": "2022-01-22T15:10:01.696Z"
   },
   {
    "duration": 140,
    "start_time": "2022-01-22T15:15:19.072Z"
   },
   {
    "duration": 4,
    "start_time": "2022-01-22T15:20:44.420Z"
   },
   {
    "duration": 180,
    "start_time": "2022-01-22T15:21:05.312Z"
   },
   {
    "duration": 440,
    "start_time": "2022-01-22T16:45:36.183Z"
   },
   {
    "duration": 2245,
    "start_time": "2022-01-22T16:45:41.468Z"
   },
   {
    "duration": 246,
    "start_time": "2022-01-22T16:45:43.716Z"
   },
   {
    "duration": 18,
    "start_time": "2022-01-22T16:45:43.965Z"
   },
   {
    "duration": 68,
    "start_time": "2022-01-22T16:45:43.987Z"
   },
   {
    "duration": 32,
    "start_time": "2022-01-22T16:45:44.058Z"
   },
   {
    "duration": 1505,
    "start_time": "2022-01-22T16:45:44.093Z"
   },
   {
    "duration": 45,
    "start_time": "2022-01-22T16:45:45.600Z"
   },
   {
    "duration": 5,
    "start_time": "2022-01-22T16:45:45.649Z"
   },
   {
    "duration": 93,
    "start_time": "2022-01-22T16:45:45.658Z"
   },
   {
    "duration": 12,
    "start_time": "2022-01-22T16:45:45.753Z"
   },
   {
    "duration": 174,
    "start_time": "2022-01-22T16:45:45.768Z"
   },
   {
    "duration": 15,
    "start_time": "2022-01-22T16:45:45.945Z"
   },
   {
    "duration": 35,
    "start_time": "2022-01-22T16:45:45.963Z"
   },
   {
    "duration": 53,
    "start_time": "2022-01-22T16:45:46.000Z"
   },
   {
    "duration": 412,
    "start_time": "2022-01-22T16:45:46.056Z"
   },
   {
    "duration": 29,
    "start_time": "2022-01-22T16:45:46.471Z"
   },
   {
    "duration": 72,
    "start_time": "2022-01-22T16:45:46.503Z"
   },
   {
    "duration": 13,
    "start_time": "2022-01-22T16:45:46.577Z"
   },
   {
    "duration": 50,
    "start_time": "2022-01-22T16:45:46.593Z"
   },
   {
    "duration": 111,
    "start_time": "2022-01-22T16:45:46.646Z"
   },
   {
    "duration": 9,
    "start_time": "2022-01-22T16:45:46.760Z"
   },
   {
    "duration": 108,
    "start_time": "2022-01-22T16:45:46.772Z"
   },
   {
    "duration": 22,
    "start_time": "2022-01-22T16:45:46.886Z"
   },
   {
    "duration": 62,
    "start_time": "2022-01-22T16:45:46.912Z"
   },
   {
    "duration": 13,
    "start_time": "2022-01-22T16:45:46.977Z"
   },
   {
    "duration": 16,
    "start_time": "2022-01-22T16:45:46.992Z"
   },
   {
    "duration": 25,
    "start_time": "2022-01-22T16:45:47.010Z"
   },
   {
    "duration": 26,
    "start_time": "2022-01-22T16:45:47.038Z"
   },
   {
    "duration": 15,
    "start_time": "2022-01-22T16:45:47.067Z"
   },
   {
    "duration": 15,
    "start_time": "2022-01-22T16:45:47.084Z"
   },
   {
    "duration": 39,
    "start_time": "2022-01-22T16:45:47.101Z"
   },
   {
    "duration": 9,
    "start_time": "2022-01-22T16:45:47.143Z"
   },
   {
    "duration": 9,
    "start_time": "2022-01-22T16:45:47.154Z"
   },
   {
    "duration": 10,
    "start_time": "2022-01-22T16:45:47.165Z"
   },
   {
    "duration": 162,
    "start_time": "2022-01-22T16:45:47.177Z"
   },
   {
    "duration": 10,
    "start_time": "2022-01-22T16:45:47.341Z"
   },
   {
    "duration": 46,
    "start_time": "2022-01-22T16:45:47.354Z"
   },
   {
    "duration": 31,
    "start_time": "2022-01-22T16:45:47.403Z"
   },
   {
    "duration": 60,
    "start_time": "2022-01-22T16:45:47.437Z"
   },
   {
    "duration": 8,
    "start_time": "2022-01-22T16:45:47.499Z"
   },
   {
    "duration": 41,
    "start_time": "2022-01-22T16:45:47.532Z"
   },
   {
    "duration": 7,
    "start_time": "2022-01-22T16:45:47.576Z"
   },
   {
    "duration": 1864,
    "start_time": "2022-01-22T16:45:47.585Z"
   },
   {
    "duration": 9,
    "start_time": "2022-01-22T16:45:49.451Z"
   },
   {
    "duration": 142,
    "start_time": "2022-01-22T16:45:49.462Z"
   },
   {
    "duration": 49,
    "start_time": "2022-01-22T16:45:49.607Z"
   },
   {
    "duration": 303,
    "start_time": "2022-01-22T16:45:49.659Z"
   },
   {
    "duration": 6,
    "start_time": "2022-01-22T16:45:49.965Z"
   },
   {
    "duration": 69,
    "start_time": "2022-01-22T16:45:49.974Z"
   },
   {
    "duration": 794,
    "start_time": "2022-01-22T16:45:50.046Z"
   },
   {
    "duration": 262,
    "start_time": "2022-01-22T16:45:50.843Z"
   },
   {
    "duration": 297,
    "start_time": "2022-01-22T16:45:51.108Z"
   },
   {
    "duration": 291,
    "start_time": "2022-01-22T16:45:51.408Z"
   },
   {
    "duration": 2905,
    "start_time": "2022-01-22T16:45:51.702Z"
   },
   {
    "duration": 25,
    "start_time": "2022-01-22T16:45:54.609Z"
   },
   {
    "duration": 9,
    "start_time": "2022-01-22T16:45:54.636Z"
   },
   {
    "duration": 7,
    "start_time": "2022-01-22T16:45:54.647Z"
   },
   {
    "duration": 407,
    "start_time": "2022-01-22T16:45:54.656Z"
   },
   {
    "duration": 10,
    "start_time": "2022-01-22T16:45:55.066Z"
   },
   {
    "duration": 6,
    "start_time": "2022-01-22T16:45:55.079Z"
   },
   {
    "duration": 7,
    "start_time": "2022-01-22T16:45:55.088Z"
   },
   {
    "duration": 19,
    "start_time": "2022-01-22T16:45:55.132Z"
   },
   {
    "duration": 510,
    "start_time": "2022-01-22T16:46:12.075Z"
   },
   {
    "duration": 1395,
    "start_time": "2022-08-03T08:50:45.457Z"
   },
   {
    "duration": 3,
    "start_time": "2022-08-03T08:51:20.291Z"
   }
  ],
  "kernelspec": {
   "display_name": "Python 3 (ipykernel)",
   "language": "python",
   "name": "python3"
  },
  "language_info": {
   "codemirror_mode": {
    "name": "ipython",
    "version": 3
   },
   "file_extension": ".py",
   "mimetype": "text/x-python",
   "name": "python",
   "nbconvert_exporter": "python",
   "pygments_lexer": "ipython3",
   "version": "3.9.5"
  },
  "toc": {
   "base_numbering": 1,
   "nav_menu": {},
   "number_sections": true,
   "sideBar": true,
   "skip_h1_title": true,
   "title_cell": "Table of Contents",
   "title_sidebar": "Contents",
   "toc_cell": false,
   "toc_position": {},
   "toc_section_display": true,
   "toc_window_display": false
  }
 },
 "nbformat": 4,
 "nbformat_minor": 2
}
