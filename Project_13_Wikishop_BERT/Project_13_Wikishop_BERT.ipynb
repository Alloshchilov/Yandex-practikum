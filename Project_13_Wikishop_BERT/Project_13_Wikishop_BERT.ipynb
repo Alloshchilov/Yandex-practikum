{
 "cells": [
  {
   "cell_type": "markdown",
   "metadata": {
    "toc": true
   },
   "source": [
    "<h1>Содержание<span class=\"tocSkip\"></span></h1>\n",
    "<div class=\"toc\"><ul class=\"toc-item\"><li><ul class=\"toc-item\"><li><span><a href=\"#Общее-впечатление\" data-toc-modified-id=\"Общее-впечатление-0.1\"><span class=\"toc-item-num\">0.1&nbsp;&nbsp;</span><font color=\"orange\">Общее впечатление</font></a></span></li><li><span><a href=\"#Общее-впечатление-(ревью-2)\" data-toc-modified-id=\"Общее-впечатление-(ревью-2)-0.2\"><span class=\"toc-item-num\">0.2&nbsp;&nbsp;</span><font color=\"orange\">Общее впечатление (ревью 2)</font></a></span></li></ul></li><li><span><a href=\"#Подготовка\" data-toc-modified-id=\"Подготовка-1\"><span class=\"toc-item-num\">1&nbsp;&nbsp;</span>Подготовка</a></span></li><li><span><a href=\"#Обучение\" data-toc-modified-id=\"Обучение-2\"><span class=\"toc-item-num\">2&nbsp;&nbsp;</span>Обучение</a></span></li><li><span><a href=\"#Выводы\" data-toc-modified-id=\"Выводы-3\"><span class=\"toc-item-num\">3&nbsp;&nbsp;</span>Выводы</a></span></li><li><span><a href=\"#Чек-лист-проверки\" data-toc-modified-id=\"Чек-лист-проверки-4\"><span class=\"toc-item-num\">4&nbsp;&nbsp;</span>Чек-лист проверки</a></span></li></ul></div>"
   ]
  },
  {
   "cell_type": "markdown",
   "metadata": {},
   "source": [
    "# Проект для «Викишоп»"
   ]
  },
  {
   "cell_type": "markdown",
   "metadata": {},
   "source": [
    "Интернет-магазин «Викишоп» запускает новый сервис. Теперь пользователи могут редактировать и дополнять описания товаров, как в вики-сообществах. То есть клиенты предлагают свои правки и комментируют изменения других. Магазину нужен инструмент, который будет искать токсичные комментарии и отправлять их на модерацию. \n",
    "\n",
    "Обучите модель классифицировать комментарии на позитивные и негативные. В вашем распоряжении набор данных с разметкой о токсичности правок.\n",
    "\n",
    "Постройте модель со значением метрики качества *F1* не меньше 0.75. \n",
    "\n",
    "**Инструкция по выполнению проекта**\n",
    "\n",
    "1. Загрузите и подготовьте данные.\n",
    "2. Обучите разные модели. \n",
    "3. Сделайте выводы.\n",
    "\n",
    "Для выполнения проекта применять *BERT* необязательно, но вы можете попробовать.\n",
    "\n",
    "**Описание данных**\n",
    "\n",
    "Данные находятся в файле `toxic_comments.csv`. Столбец *text* в нём содержит текст комментария, а *toxic* — целевой признак."
   ]
  },
  {
   "cell_type": "markdown",
   "metadata": {},
   "source": [
    "## Подготовка"
   ]
  },
  {
   "cell_type": "code",
   "execution_count": 1,
   "metadata": {},
   "outputs": [],
   "source": [
    "#импортируем необходимые библиотеки\n",
    "import numpy as np\n",
    "import pandas as pd\n",
    "from pymystem3 import Mystem\n",
    "import re\n",
    "import nltk \n",
    "from nltk.stem import WordNetLemmatizer \n",
    "from nltk.corpus import stopwords as nltk_stopwords\n",
    "from sklearn.feature_extraction.text import TfidfVectorizer  \n",
    "import re  \n",
    "import matplotlib.pyplot as plt \n",
    "import seaborn as sns \n",
    "\n",
    "from sklearn.model_selection import train_test_split\n",
    "from sklearn.metrics import f1_score\n",
    "from sklearn.utils import shuffle\n",
    "\n",
    "from sklearn.linear_model import LogisticRegression\n",
    "from sklearn.tree import DecisionTreeClassifier\n",
    "from sklearn.ensemble import RandomForestClassifier\n",
    "from lightgbm import LGBMClassifier"
   ]
  },
  {
   "cell_type": "code",
   "execution_count": 2,
   "metadata": {},
   "outputs": [
    {
     "data": {
      "text/html": [
       "<div>\n",
       "<style scoped>\n",
       "    .dataframe tbody tr th:only-of-type {\n",
       "        vertical-align: middle;\n",
       "    }\n",
       "\n",
       "    .dataframe tbody tr th {\n",
       "        vertical-align: top;\n",
       "    }\n",
       "\n",
       "    .dataframe thead th {\n",
       "        text-align: right;\n",
       "    }\n",
       "</style>\n",
       "<table border=\"1\" class=\"dataframe\">\n",
       "  <thead>\n",
       "    <tr style=\"text-align: right;\">\n",
       "      <th></th>\n",
       "      <th>text</th>\n",
       "      <th>toxic</th>\n",
       "    </tr>\n",
       "  </thead>\n",
       "  <tbody>\n",
       "    <tr>\n",
       "      <th>0</th>\n",
       "      <td>Explanation\\nWhy the edits made under my usern...</td>\n",
       "      <td>0</td>\n",
       "    </tr>\n",
       "    <tr>\n",
       "      <th>1</th>\n",
       "      <td>D'aww! He matches this background colour I'm s...</td>\n",
       "      <td>0</td>\n",
       "    </tr>\n",
       "    <tr>\n",
       "      <th>2</th>\n",
       "      <td>Hey man, I'm really not trying to edit war. It...</td>\n",
       "      <td>0</td>\n",
       "    </tr>\n",
       "    <tr>\n",
       "      <th>3</th>\n",
       "      <td>\"\\nMore\\nI can't make any real suggestions on ...</td>\n",
       "      <td>0</td>\n",
       "    </tr>\n",
       "    <tr>\n",
       "      <th>4</th>\n",
       "      <td>You, sir, are my hero. Any chance you remember...</td>\n",
       "      <td>0</td>\n",
       "    </tr>\n",
       "  </tbody>\n",
       "</table>\n",
       "</div>"
      ],
      "text/plain": [
       "                                                text  toxic\n",
       "0  Explanation\\nWhy the edits made under my usern...      0\n",
       "1  D'aww! He matches this background colour I'm s...      0\n",
       "2  Hey man, I'm really not trying to edit war. It...      0\n",
       "3  \"\\nMore\\nI can't make any real suggestions on ...      0\n",
       "4  You, sir, are my hero. Any chance you remember...      0"
      ]
     },
     "execution_count": 2,
     "metadata": {},
     "output_type": "execute_result"
    }
   ],
   "source": [
    "#импортируем данные\n",
    "df = pd.read_csv('/datasets/toxic_comments.csv')\n",
    "df.head()"
   ]
  },
  {
   "cell_type": "code",
   "execution_count": 3,
   "metadata": {},
   "outputs": [
    {
     "name": "stdout",
     "output_type": "stream",
     "text": [
      "<class 'pandas.core.frame.DataFrame'>\n",
      "RangeIndex: 159571 entries, 0 to 159570\n",
      "Data columns (total 2 columns):\n",
      " #   Column  Non-Null Count   Dtype \n",
      "---  ------  --------------   ----- \n",
      " 0   text    159571 non-null  object\n",
      " 1   toxic   159571 non-null  int64 \n",
      "dtypes: int64(1), object(1)\n",
      "memory usage: 2.4+ MB\n"
     ]
    }
   ],
   "source": [
    "df.info()"
   ]
  },
  {
   "cell_type": "code",
   "execution_count": 4,
   "metadata": {},
   "outputs": [
    {
     "data": {
      "text/plain": [
       "False    159571\n",
       "dtype: int64"
      ]
     },
     "execution_count": 4,
     "metadata": {},
     "output_type": "execute_result"
    }
   ],
   "source": [
    "df.duplicated().value_counts()"
   ]
  },
  {
   "cell_type": "code",
   "execution_count": 5,
   "metadata": {},
   "outputs": [
    {
     "data": {
      "text/plain": [
       "0    143346\n",
       "1     16225\n",
       "Name: toxic, dtype: int64"
      ]
     },
     "execution_count": 5,
     "metadata": {},
     "output_type": "execute_result"
    }
   ],
   "source": [
    "#посмотрим на значения столбца toxic\n",
    "df['toxic'].value_counts()"
   ]
  },
  {
   "cell_type": "code",
   "execution_count": 6,
   "metadata": {},
   "outputs": [
    {
     "data": {
      "image/png": "[encoded data removed]",
      "text/plain": [
       "<Figure size 864x432 with 1 Axes>"
      ]
     },
     "metadata": {
      "needs_background": "light"
     },
     "output_type": "display_data"
    }
   ],
   "source": [
    "plt.figure(figsize=(12, 6))\n",
    "sns.countplot(x='toxic', data=df)\n",
    "plt.title('Баланс классов')\n",
    "plt.show()"
   ]
  },
  {
   "cell_type": "markdown",
   "metadata": {},
   "source": [
    "**Вывод:** Наблюдается явный дисбаланс положительного и отрицательного классов."
   ]
  },
  {
   "cell_type": "code",
   "execution_count": 7,
   "metadata": {},
   "outputs": [],
   "source": [
    "#приведем значения столбца text к нижнему регистру\n",
    "df['text'] = df['text'].str.lower()"
   ]
  },
  {
   "cell_type": "markdown",
   "metadata": {},
   "source": [
    "Проведём лемматизацию, с помошью WordNetLemmatizer и напишем функции для очистки текстов."
   ]
  },
  {
   "cell_type": "code",
   "execution_count": 8,
   "metadata": {},
   "outputs": [],
   "source": [
    "#Проведём лемматизацию, с помошью WordNetLemmatizer\n",
    "wnl = WordNetLemmatizer()\n",
    "\n",
    "def clear_text(text):\n",
    "    pattern = re.sub(r'[^a-zA-Z]', ' ', text)\n",
    "    clear = pattern.split()\n",
    "    lemm = []\n",
    "    for i in range(len(clear)):\n",
    "        lemm.append(wnl.lemmatize(clear[i]))\n",
    "    return \" \".join(lemm)\n",
    "\n",
    "df['lemmatize'] = df['text'].apply(clear_text)"
   ]
  },
  {
   "cell_type": "code",
   "execution_count": 9,
   "metadata": {},
   "outputs": [
    {
     "data": {
      "text/html": [
       "<div>\n",
       "<style scoped>\n",
       "    .dataframe tbody tr th:only-of-type {\n",
       "        vertical-align: middle;\n",
       "    }\n",
       "\n",
       "    .dataframe tbody tr th {\n",
       "        vertical-align: top;\n",
       "    }\n",
       "\n",
       "    .dataframe thead th {\n",
       "        text-align: right;\n",
       "    }\n",
       "</style>\n",
       "<table border=\"1\" class=\"dataframe\">\n",
       "  <thead>\n",
       "    <tr style=\"text-align: right;\">\n",
       "      <th></th>\n",
       "      <th>text</th>\n",
       "      <th>toxic</th>\n",
       "      <th>lemmatize</th>\n",
       "    </tr>\n",
       "  </thead>\n",
       "  <tbody>\n",
       "    <tr>\n",
       "      <th>0</th>\n",
       "      <td>explanation\\nwhy the edits made under my usern...</td>\n",
       "      <td>0</td>\n",
       "      <td>explanation why the edits made under my userna...</td>\n",
       "    </tr>\n",
       "    <tr>\n",
       "      <th>1</th>\n",
       "      <td>d'aww! he matches this background colour i'm s...</td>\n",
       "      <td>0</td>\n",
       "      <td>d aww he match this background colour i m seem...</td>\n",
       "    </tr>\n",
       "    <tr>\n",
       "      <th>2</th>\n",
       "      <td>hey man, i'm really not trying to edit war. it...</td>\n",
       "      <td>0</td>\n",
       "      <td>hey man i m really not trying to edit war it s...</td>\n",
       "    </tr>\n",
       "    <tr>\n",
       "      <th>3</th>\n",
       "      <td>\"\\nmore\\ni can't make any real suggestions on ...</td>\n",
       "      <td>0</td>\n",
       "      <td>more i can t make any real suggestion on impro...</td>\n",
       "    </tr>\n",
       "    <tr>\n",
       "      <th>4</th>\n",
       "      <td>you, sir, are my hero. any chance you remember...</td>\n",
       "      <td>0</td>\n",
       "      <td>you sir are my hero any chance you remember wh...</td>\n",
       "    </tr>\n",
       "  </tbody>\n",
       "</table>\n",
       "</div>"
      ],
      "text/plain": [
       "                                                text  toxic  \\\n",
       "0  explanation\\nwhy the edits made under my usern...      0   \n",
       "1  d'aww! he matches this background colour i'm s...      0   \n",
       "2  hey man, i'm really not trying to edit war. it...      0   \n",
       "3  \"\\nmore\\ni can't make any real suggestions on ...      0   \n",
       "4  you, sir, are my hero. any chance you remember...      0   \n",
       "\n",
       "                                           lemmatize  \n",
       "0  explanation why the edits made under my userna...  \n",
       "1  d aww he match this background colour i m seem...  \n",
       "2  hey man i m really not trying to edit war it s...  \n",
       "3  more i can t make any real suggestion on impro...  \n",
       "4  you sir are my hero any chance you remember wh...  "
      ]
     },
     "execution_count": 9,
     "metadata": {},
     "output_type": "execute_result"
    }
   ],
   "source": [
    "df.head()"
   ]
  },
  {
   "cell_type": "markdown",
   "metadata": {},
   "source": [
    "**Общий вывод:** Данные загружены и проверены, пропусков и дубликатов нет. Есть дисбаланс классов, нужно это учитывать при обучение моделей. Проведена лемматизация данных. "
   ]
  },
  {
   "cell_type": "markdown",
   "metadata": {},
   "source": [
    "## Обучение"
   ]
  },
  {
   "cell_type": "markdown",
   "metadata": {},
   "source": [
    "Определяем признаки и целевой признак. "
   ]
  },
  {
   "cell_type": "code",
   "execution_count": 10,
   "metadata": {},
   "outputs": [],
   "source": [
    "features = df.drop(['toxic'], axis = 1)\n",
    "target = df['toxic']"
   ]
  },
  {
   "cell_type": "markdown",
   "metadata": {},
   "source": [
    "Разделим датасет на тренировочную и тестовую выборки:"
   ]
  },
  {
   "cell_type": "code",
   "execution_count": 11,
   "metadata": {},
   "outputs": [
    {
     "name": "stdout",
     "output_type": "stream",
     "text": [
      "(111699, 2)\n",
      "(47872, 2)\n"
     ]
    }
   ],
   "source": [
    "features_train, features_test, target_train, target_test= train_test_split(features, target, test_size=0.3, random_state=12345)\n",
    "print(features_train.shape)\n",
    "print(features_test.shape)"
   ]
  },
  {
   "cell_type": "markdown",
   "metadata": {},
   "source": [
    "Определим стоп-слова и проведём векторизацию текста:"
   ]
  },
  {
   "cell_type": "code",
   "execution_count": 12,
   "metadata": {},
   "outputs": [
    {
     "name": "stdout",
     "output_type": "stream",
     "text": [
      "(111699, 128561)\n",
      "(47872, 128561)\n"
     ]
    }
   ],
   "source": [
    "corpus_train = features_train['lemmatize'].values.astype('U')\n",
    "corpus_test = features_test['lemmatize'].values.astype('U')\n",
    "\n",
    "stopwords = set(nltk_stopwords.words('english'))\n",
    "count_tf_idf = TfidfVectorizer(stop_words=stopwords)\n",
    "tf_idf_train = count_tf_idf.fit_transform(corpus_train)\n",
    "tf_idf_test = count_tf_idf.transform(corpus_test)\n",
    "print(tf_idf_train.shape)\n",
    "print(tf_idf_test.shape)"
   ]
  },
  {
   "cell_type": "markdown",
   "metadata": {},
   "source": [
    "Обучим модель Логической регресии:"
   ]
  },
  {
   "cell_type": "code",
   "execution_count": 13,
   "metadata": {},
   "outputs": [
    {
     "name": "stdout",
     "output_type": "stream",
     "text": [
      "F1 модели Логическая регрессия: 0.7513732552904098\n"
     ]
    }
   ],
   "source": [
    "model = LogisticRegression(random_state=12345, solver = 'liblinear', class_weight='balanced')\n",
    "model.fit(tf_idf_train, target_train)\n",
    "predicted_test_LR = model.predict(tf_idf_test)\n",
    "f1_LR = f1_score(target_test, predicted_test_LR)\n",
    "print(\"F1 модели Логическая регрессия:\", f1_LR)"
   ]
  },
  {
   "cell_type": "markdown",
   "metadata": {},
   "source": [
    "Обучим модель Случайный лес:"
   ]
  },
  {
   "cell_type": "code",
   "execution_count": 14,
   "metadata": {},
   "outputs": [
    {
     "name": "stdout",
     "output_type": "stream",
     "text": [
      "F1 модели Случайный лес: 0.35861951136169484\n"
     ]
    }
   ],
   "source": [
    "model = RandomForestClassifier(n_estimators=100, max_depth=9, random_state=12345, class_weight='balanced')\n",
    "model.fit(tf_idf_train, target_train)\n",
    "predicted_test_forest = model.predict(tf_idf_test)\n",
    "f1_RFC = f1_score(target_test, predicted_test_forest)\n",
    "print(\"F1 модели Случайный лес:\", f1_RFC)"
   ]
  },
  {
   "cell_type": "markdown",
   "metadata": {},
   "source": [
    "Обучим модель Дерево решений:"
   ]
  },
  {
   "cell_type": "code",
   "execution_count": 15,
   "metadata": {},
   "outputs": [
    {
     "name": "stdout",
     "output_type": "stream",
     "text": [
      "F1 модели Дерево решений: 0.5584361569388603\n"
     ]
    }
   ],
   "source": [
    "model = DecisionTreeClassifier(max_depth=9, random_state=12345, class_weight='balanced')\n",
    "model.fit(tf_idf_train, target_train)\n",
    "predicted_test_tree = model.predict(tf_idf_test)\n",
    "f1_DTC = f1_score(target_test, predicted_test_tree)\n",
    "print(\"F1 модели Дерево решений:\", f1_DTC)"
   ]
  },
  {
   "cell_type": "markdown",
   "metadata": {},
   "source": [
    "Для обучения модели LGBMClassifier придётся существенно сократить данные, на которых обучается модель. Иначе постоянно умирает ядро юпитера."
   ]
  },
  {
   "cell_type": "code",
   "execution_count": 16,
   "metadata": {},
   "outputs": [
    {
     "name": "stdout",
     "output_type": "stream",
     "text": [
      "(111699, 3649)\n",
      "(47872, 3649)\n"
     ]
    }
   ],
   "source": [
    "count_tf_idf_LGBMC = TfidfVectorizer(stop_words=stopwords, min_df = 100)\n",
    "\n",
    "tf_idf_train_LGBMC = count_tf_idf_LGBMC.fit_transform(corpus_train)\n",
    "#tf_idf_valid = count_tf_idf.transform(corpus_valid)\n",
    "tf_idf_test_LGBMC = count_tf_idf_LGBMC.transform(corpus_test)\n",
    "print(tf_idf_train_LGBMC.shape)\n",
    "print(tf_idf_test_LGBMC.shape)"
   ]
  },
  {
   "cell_type": "code",
   "execution_count": 17,
   "metadata": {},
   "outputs": [
    {
     "name": "stdout",
     "output_type": "stream",
     "text": [
      "LGBMClassifier: 0.7061265000451141\n"
     ]
    }
   ],
   "source": [
    "model = LGBMClassifier(random_state=12345, class_weight='balanced')\n",
    "model.fit(tf_idf_train_LGBMC, target_train)\n",
    "predicted_test_LGBMC = model.predict(tf_idf_test_LGBMC)\n",
    "f1_LGBMC = f1_score(target_test, predicted_test_LGBMC)\n",
    "print(\"F1 модели LGBMClassifier:\", f1_LGBMC)"
   ]
  },
  {
   "cell_type": "markdown",
   "metadata": {},
   "source": [
    "Проверим адекватность с помощью константной модели:"
   ]
  },
  {
   "cell_type": "code",
   "execution_count": 18,
   "metadata": {},
   "outputs": [
    {
     "name": "stdout",
     "output_type": "stream",
     "text": [
      "F1: 0.18491345807503462\n"
     ]
    }
   ],
   "source": [
    "#Проверим адекватность моделей\n",
    "target_pred_constant = [1 for i in range(len(target_test))]\n",
    "print(\"F1 константной модели:\" , f1_score(target_test, target_pred_constant))"
   ]
  },
  {
   "cell_type": "markdown",
   "metadata": {},
   "source": [
    "Тест на адекватность пройден. Все модели справляются лучше константной."
   ]
  },
  {
   "cell_type": "markdown",
   "metadata": {},
   "source": [
    "## Выводы"
   ]
  },
  {
   "cell_type": "markdown",
   "metadata": {},
   "source": [
    "Объединим результаты всех моделей в общую таблицу."
   ]
  },
  {
   "cell_type": "code",
   "execution_count": 19,
   "metadata": {},
   "outputs": [
    {
     "data": {
      "text/html": [
       "<div>\n",
       "<style scoped>\n",
       "    .dataframe tbody tr th:only-of-type {\n",
       "        vertical-align: middle;\n",
       "    }\n",
       "\n",
       "    .dataframe tbody tr th {\n",
       "        vertical-align: top;\n",
       "    }\n",
       "\n",
       "    .dataframe thead th {\n",
       "        text-align: right;\n",
       "    }\n",
       "</style>\n",
       "<table border=\"1\" class=\"dataframe\">\n",
       "  <thead>\n",
       "    <tr style=\"text-align: right;\">\n",
       "      <th></th>\n",
       "      <th>Model</th>\n",
       "      <th>F1</th>\n",
       "    </tr>\n",
       "  </thead>\n",
       "  <tbody>\n",
       "    <tr>\n",
       "      <th>0</th>\n",
       "      <td>LogisticRegression</td>\n",
       "      <td>0.751373</td>\n",
       "    </tr>\n",
       "    <tr>\n",
       "      <th>1</th>\n",
       "      <td>RandomForestClassifier</td>\n",
       "      <td>0.358620</td>\n",
       "    </tr>\n",
       "    <tr>\n",
       "      <th>2</th>\n",
       "      <td>DecisionTreeClassifier</td>\n",
       "      <td>0.558436</td>\n",
       "    </tr>\n",
       "    <tr>\n",
       "      <th>3</th>\n",
       "      <td>LGBMClassifier</td>\n",
       "      <td>0.706127</td>\n",
       "    </tr>\n",
       "  </tbody>\n",
       "</table>\n",
       "</div>"
      ],
      "text/plain": [
       "                    Model        F1\n",
       "0      LogisticRegression  0.751373\n",
       "1  RandomForestClassifier  0.358620\n",
       "2  DecisionTreeClassifier  0.558436\n",
       "3          LGBMClassifier  0.706127"
      ]
     },
     "metadata": {},
     "output_type": "display_data"
    }
   ],
   "source": [
    "results = {\n",
    "    'Model' : ['LogisticRegression', 'RandomForestClassifier', 'DecisionTreeClassifier', 'LGBMClassifier'],\n",
    "    'F1' :pd.Series([f1_LR, f1_RFC, f1_DTC ,f1_LGBMC]),\n",
    "    }\n",
    "display(pd.DataFrame(results))"
   ]
  },
  {
   "cell_type": "markdown",
   "metadata": {},
   "source": [
    "**Вывод:** Лучшие результаты показывает модель Логической регрессии. Она же, единственная, уложилось в необходимое значение f1 > 0.75. \n",
    "По видимому, Логистическая регрессия является оптимальным решением для данного типа задач. т.к. работает быстрее и качественее других моделей."
   ]
  }
 ],
 "metadata": {
  "ExecuteTimeLog": [
   {
    "duration": 5,
    "start_time": "2022-05-12T08:40:10.468Z"
   },
   {
    "duration": 1132,
    "start_time": "2022-05-12T08:41:01.669Z"
   },
   {
    "duration": 1164,
    "start_time": "2022-05-12T08:41:07.191Z"
   },
   {
    "duration": 215,
    "start_time": "2022-05-12T08:41:29.702Z"
   },
   {
    "duration": 987,
    "start_time": "2022-05-12T08:41:34.154Z"
   },
   {
    "duration": 42,
    "start_time": "2022-05-12T08:41:35.143Z"
   },
   {
    "duration": 46,
    "start_time": "2022-05-12T08:42:12.806Z"
   },
   {
    "duration": 0,
    "start_time": "2022-05-12T08:46:08.905Z"
   },
   {
    "duration": 8406,
    "start_time": "2022-05-12T08:46:14.483Z"
   },
   {
    "duration": 25,
    "start_time": "2022-05-12T08:46:35.573Z"
   },
   {
    "duration": 3780,
    "start_time": "2022-05-12T08:47:51.454Z"
   },
   {
    "duration": 1040,
    "start_time": "2022-05-12T08:47:55.237Z"
   },
   {
    "duration": 53,
    "start_time": "2022-05-12T08:47:56.279Z"
   },
   {
    "duration": 9301,
    "start_time": "2022-05-12T09:00:08.549Z"
   },
   {
    "duration": 1014,
    "start_time": "2022-05-12T09:00:17.853Z"
   },
   {
    "duration": 56,
    "start_time": "2022-05-12T09:00:18.869Z"
   },
   {
    "duration": 80,
    "start_time": "2022-05-12T09:13:31.559Z"
   },
   {
    "duration": 9546,
    "start_time": "2022-05-12T09:13:44.825Z"
   },
   {
    "duration": 1139,
    "start_time": "2022-05-12T09:13:54.374Z"
   },
   {
    "duration": 47,
    "start_time": "2022-05-12T09:13:55.516Z"
   },
   {
    "duration": 215,
    "start_time": "2022-05-12T09:13:55.567Z"
   },
   {
    "duration": 0,
    "start_time": "2022-05-12T09:13:55.785Z"
   },
   {
    "duration": 0,
    "start_time": "2022-05-12T09:13:55.786Z"
   },
   {
    "duration": 0,
    "start_time": "2022-05-12T09:13:55.789Z"
   },
   {
    "duration": 0,
    "start_time": "2022-05-12T09:13:55.791Z"
   },
   {
    "duration": 3540,
    "start_time": "2022-05-12T09:17:05.725Z"
   },
   {
    "duration": 1042,
    "start_time": "2022-05-12T09:17:09.268Z"
   },
   {
    "duration": 45,
    "start_time": "2022-05-12T09:17:10.312Z"
   },
   {
    "duration": 22,
    "start_time": "2022-05-12T09:17:10.360Z"
   },
   {
    "duration": 204969,
    "start_time": "2022-05-12T09:17:10.385Z"
   },
   {
    "duration": 8261,
    "start_time": "2022-05-12T09:20:35.356Z"
   },
   {
    "duration": 582,
    "start_time": "2022-05-12T09:20:43.624Z"
   },
   {
    "duration": 0,
    "start_time": "2022-05-12T09:20:44.208Z"
   },
   {
    "duration": 67,
    "start_time": "2022-05-12T09:23:15.724Z"
   },
   {
    "duration": 70,
    "start_time": "2022-05-12T09:23:31.605Z"
   },
   {
    "duration": 66,
    "start_time": "2022-05-12T09:23:55.773Z"
   },
   {
    "duration": 25,
    "start_time": "2022-05-12T09:26:42.741Z"
   },
   {
    "duration": 28,
    "start_time": "2022-05-12T09:26:52.600Z"
   },
   {
    "duration": 26,
    "start_time": "2022-05-12T09:26:58.857Z"
   },
   {
    "duration": 74,
    "start_time": "2022-05-12T09:27:06.800Z"
   },
   {
    "duration": 67,
    "start_time": "2022-05-13T09:30:19.647Z"
   },
   {
    "duration": 3492,
    "start_time": "2022-05-13T09:30:34.992Z"
   },
   {
    "duration": 995,
    "start_time": "2022-05-13T09:30:38.492Z"
   },
   {
    "duration": 36,
    "start_time": "2022-05-13T09:30:39.488Z"
   },
   {
    "duration": 3194,
    "start_time": "2022-05-13T09:41:35.549Z"
   },
   {
    "duration": 4425,
    "start_time": "2022-05-13T09:41:38.744Z"
   },
   {
    "duration": 37,
    "start_time": "2022-05-13T09:41:43.173Z"
   },
   {
    "duration": 3193,
    "start_time": "2022-05-13T09:58:28.497Z"
   },
   {
    "duration": 5754,
    "start_time": "2022-05-13T09:58:31.694Z"
   },
   {
    "duration": 51,
    "start_time": "2022-05-13T09:58:37.450Z"
   },
   {
    "duration": 3332,
    "start_time": "2022-05-16T07:42:55.307Z"
   },
   {
    "duration": 867,
    "start_time": "2022-05-16T07:42:58.642Z"
   },
   {
    "duration": 30,
    "start_time": "2022-05-16T07:42:59.511Z"
   },
   {
    "duration": 43,
    "start_time": "2022-05-16T07:56:33.506Z"
   },
   {
    "duration": 3523,
    "start_time": "2022-05-16T07:56:48.715Z"
   },
   {
    "duration": 858,
    "start_time": "2022-05-16T07:56:52.240Z"
   },
   {
    "duration": 29,
    "start_time": "2022-05-16T07:56:53.100Z"
   },
   {
    "duration": 5,
    "start_time": "2022-05-16T07:56:53.131Z"
   },
   {
    "duration": 152,
    "start_time": "2022-05-16T07:56:53.138Z"
   },
   {
    "duration": 7,
    "start_time": "2022-05-16T08:09:11.923Z"
   },
   {
    "duration": 4,
    "start_time": "2022-05-16T08:12:02.691Z"
   },
   {
    "duration": 10,
    "start_time": "2022-05-16T08:12:07.714Z"
   },
   {
    "duration": 9,
    "start_time": "2022-05-16T08:12:20.974Z"
   },
   {
    "duration": 3,
    "start_time": "2022-05-16T08:12:27.017Z"
   },
   {
    "duration": 10,
    "start_time": "2022-05-16T08:12:28.025Z"
   },
   {
    "duration": 10,
    "start_time": "2022-05-16T08:12:54.406Z"
   },
   {
    "duration": 2830,
    "start_time": "2022-05-16T08:17:02.404Z"
   },
   {
    "duration": 778,
    "start_time": "2022-05-16T08:17:05.237Z"
   },
   {
    "duration": 29,
    "start_time": "2022-05-16T08:17:06.017Z"
   },
   {
    "duration": 7,
    "start_time": "2022-05-16T08:17:06.061Z"
   },
   {
    "duration": 137,
    "start_time": "2022-05-16T08:17:06.069Z"
   },
   {
    "duration": 0,
    "start_time": "2022-05-16T08:17:06.207Z"
   },
   {
    "duration": 0,
    "start_time": "2022-05-16T08:17:06.208Z"
   },
   {
    "duration": 1776,
    "start_time": "2022-05-16T08:24:12.604Z"
   },
   {
    "duration": 13,
    "start_time": "2022-05-16T08:24:14.382Z"
   },
   {
    "duration": 6,
    "start_time": "2022-05-16T08:24:47.956Z"
   },
   {
    "duration": 700,
    "start_time": "2022-05-16T08:24:48.704Z"
   },
   {
    "duration": 30,
    "start_time": "2022-05-16T08:24:52.782Z"
   },
   {
    "duration": 7,
    "start_time": "2022-05-16T08:24:58.328Z"
   },
   {
    "duration": 3468,
    "start_time": "2022-05-16T08:25:14.362Z"
   },
   {
    "duration": 867,
    "start_time": "2022-05-16T08:25:17.832Z"
   },
   {
    "duration": 28,
    "start_time": "2022-05-16T08:25:18.700Z"
   },
   {
    "duration": 5,
    "start_time": "2022-05-16T08:25:18.730Z"
   },
   {
    "duration": 1987,
    "start_time": "2022-05-16T08:25:18.737Z"
   },
   {
    "duration": 127,
    "start_time": "2022-05-16T08:25:20.726Z"
   },
   {
    "duration": 0,
    "start_time": "2022-05-16T08:25:20.854Z"
   },
   {
    "duration": 10,
    "start_time": "2022-05-16T08:25:59.923Z"
   },
   {
    "duration": 14,
    "start_time": "2022-05-16T08:27:31.936Z"
   },
   {
    "duration": 3,
    "start_time": "2022-05-16T08:27:52.226Z"
   },
   {
    "duration": 1057,
    "start_time": "2022-05-16T08:27:52.808Z"
   },
   {
    "duration": 33,
    "start_time": "2022-05-16T08:27:53.867Z"
   },
   {
    "duration": 8,
    "start_time": "2022-05-16T08:28:00.837Z"
   },
   {
    "duration": 66,
    "start_time": "2022-05-16T08:28:05.523Z"
   },
   {
    "duration": 3372,
    "start_time": "2022-05-16T08:28:36.950Z"
   },
   {
    "duration": 1063,
    "start_time": "2022-05-16T08:28:40.324Z"
   },
   {
    "duration": 29,
    "start_time": "2022-05-16T08:28:41.388Z"
   },
   {
    "duration": 5,
    "start_time": "2022-05-16T08:28:41.419Z"
   },
   {
    "duration": 1793,
    "start_time": "2022-05-16T08:28:41.425Z"
   },
   {
    "duration": 142,
    "start_time": "2022-05-16T08:28:43.220Z"
   },
   {
    "duration": 0,
    "start_time": "2022-05-16T08:28:43.364Z"
   },
   {
    "duration": 15,
    "start_time": "2022-05-16T08:29:12.776Z"
   },
   {
    "duration": 16,
    "start_time": "2022-05-16T08:29:27.686Z"
   },
   {
    "duration": 2,
    "start_time": "2022-05-16T08:30:08.227Z"
   },
   {
    "duration": 15,
    "start_time": "2022-05-16T08:30:08.960Z"
   },
   {
    "duration": 2819,
    "start_time": "2022-05-16T08:30:21.524Z"
   },
   {
    "duration": 868,
    "start_time": "2022-05-16T08:30:24.345Z"
   },
   {
    "duration": 31,
    "start_time": "2022-05-16T08:30:25.214Z"
   },
   {
    "duration": 16,
    "start_time": "2022-05-16T08:30:25.247Z"
   },
   {
    "duration": 3,
    "start_time": "2022-05-16T08:30:25.265Z"
   },
   {
    "duration": 141,
    "start_time": "2022-05-16T08:30:25.270Z"
   },
   {
    "duration": 0,
    "start_time": "2022-05-16T08:30:25.413Z"
   },
   {
    "duration": 44,
    "start_time": "2022-05-16T08:31:31.073Z"
   },
   {
    "duration": 2574,
    "start_time": "2022-05-16T08:32:24.354Z"
   },
   {
    "duration": 744,
    "start_time": "2022-05-16T08:32:26.930Z"
   },
   {
    "duration": 30,
    "start_time": "2022-05-16T08:32:27.676Z"
   },
   {
    "duration": 8,
    "start_time": "2022-05-16T08:32:27.707Z"
   },
   {
    "duration": 45,
    "start_time": "2022-05-16T08:32:27.717Z"
   },
   {
    "duration": 145,
    "start_time": "2022-05-16T08:32:27.764Z"
   },
   {
    "duration": 0,
    "start_time": "2022-05-16T08:32:27.910Z"
   },
   {
    "duration": 0,
    "start_time": "2022-05-16T08:32:27.912Z"
   },
   {
    "duration": 156,
    "start_time": "2022-05-16T08:33:30.947Z"
   },
   {
    "duration": 20,
    "start_time": "2022-05-16T08:33:37.196Z"
   },
   {
    "duration": 11,
    "start_time": "2022-05-16T10:03:40.823Z"
   },
   {
    "duration": 2726,
    "start_time": "2022-05-16T10:03:50.923Z"
   },
   {
    "duration": 711,
    "start_time": "2022-05-16T10:03:53.651Z"
   },
   {
    "duration": 108,
    "start_time": "2022-05-16T10:03:54.364Z"
   },
   {
    "duration": 5,
    "start_time": "2022-05-16T10:03:54.474Z"
   },
   {
    "duration": 32,
    "start_time": "2022-05-16T10:03:54.480Z"
   },
   {
    "duration": 24,
    "start_time": "2022-05-16T10:03:54.514Z"
   },
   {
    "duration": 23,
    "start_time": "2022-05-16T10:03:54.540Z"
   },
   {
    "duration": 158,
    "start_time": "2022-05-16T10:03:54.565Z"
   },
   {
    "duration": 12,
    "start_time": "2022-05-16T10:04:21.565Z"
   },
   {
    "duration": 11,
    "start_time": "2022-05-16T10:04:35.952Z"
   },
   {
    "duration": 33364,
    "start_time": "2022-05-16T10:04:52.654Z"
   },
   {
    "duration": 7,
    "start_time": "2022-05-16T10:05:26.020Z"
   },
   {
    "duration": 44,
    "start_time": "2022-05-16T10:07:26.856Z"
   },
   {
    "duration": 4174,
    "start_time": "2022-05-16T10:08:43.547Z"
   },
   {
    "duration": 788,
    "start_time": "2022-05-16T10:08:47.723Z"
   },
   {
    "duration": 109,
    "start_time": "2022-05-16T10:08:48.512Z"
   },
   {
    "duration": 5,
    "start_time": "2022-05-16T10:08:48.624Z"
   },
   {
    "duration": 3573,
    "start_time": "2022-05-16T10:09:36.754Z"
   },
   {
    "duration": 781,
    "start_time": "2022-05-16T10:09:40.329Z"
   },
   {
    "duration": 107,
    "start_time": "2022-05-16T10:09:41.112Z"
   },
   {
    "duration": 6,
    "start_time": "2022-05-16T10:09:41.220Z"
   },
   {
    "duration": 47,
    "start_time": "2022-05-16T10:16:36.908Z"
   },
   {
    "duration": 3668,
    "start_time": "2022-05-16T10:16:51.596Z"
   },
   {
    "duration": 796,
    "start_time": "2022-05-16T10:16:55.266Z"
   },
   {
    "duration": 109,
    "start_time": "2022-05-16T10:16:56.064Z"
   },
   {
    "duration": 6,
    "start_time": "2022-05-16T10:16:56.175Z"
   },
   {
    "duration": 152,
    "start_time": "2022-05-16T10:16:56.182Z"
   },
   {
    "duration": 0,
    "start_time": "2022-05-16T10:16:56.336Z"
   },
   {
    "duration": 0,
    "start_time": "2022-05-16T10:16:56.337Z"
   },
   {
    "duration": 0,
    "start_time": "2022-05-16T10:16:56.338Z"
   },
   {
    "duration": 0,
    "start_time": "2022-05-16T10:16:56.339Z"
   },
   {
    "duration": 0,
    "start_time": "2022-05-16T10:16:56.340Z"
   },
   {
    "duration": 394,
    "start_time": "2022-05-16T10:19:27.293Z"
   },
   {
    "duration": 692,
    "start_time": "2022-05-16T10:19:27.689Z"
   },
   {
    "duration": 25,
    "start_time": "2022-05-16T10:19:28.383Z"
   },
   {
    "duration": 8,
    "start_time": "2022-05-16T10:19:28.409Z"
   },
   {
    "duration": 134,
    "start_time": "2022-05-16T10:19:28.418Z"
   },
   {
    "duration": 1680,
    "start_time": "2022-05-16T10:20:00.999Z"
   },
   {
    "duration": 851,
    "start_time": "2022-05-16T10:20:02.681Z"
   },
   {
    "duration": 34,
    "start_time": "2022-05-16T10:20:03.534Z"
   },
   {
    "duration": 7,
    "start_time": "2022-05-16T10:20:03.570Z"
   },
   {
    "duration": 214,
    "start_time": "2022-05-16T10:20:03.579Z"
   },
   {
    "duration": 1566,
    "start_time": "2022-05-16T10:20:22.254Z"
   },
   {
    "duration": 865,
    "start_time": "2022-05-16T10:20:23.822Z"
   },
   {
    "duration": 29,
    "start_time": "2022-05-16T10:20:24.689Z"
   },
   {
    "duration": 32,
    "start_time": "2022-05-16T10:20:24.720Z"
   },
   {
    "duration": 200,
    "start_time": "2022-05-16T10:20:24.754Z"
   },
   {
    "duration": 1530,
    "start_time": "2022-05-16T10:25:57.008Z"
   },
   {
    "duration": 846,
    "start_time": "2022-05-16T10:25:58.540Z"
   },
   {
    "duration": 31,
    "start_time": "2022-05-16T10:25:59.387Z"
   },
   {
    "duration": 6,
    "start_time": "2022-05-16T10:25:59.420Z"
   },
   {
    "duration": 234,
    "start_time": "2022-05-16T10:25:59.428Z"
   },
   {
    "duration": 1523,
    "start_time": "2022-05-16T10:33:42.519Z"
   },
   {
    "duration": 870,
    "start_time": "2022-05-16T10:33:44.044Z"
   },
   {
    "duration": 26,
    "start_time": "2022-05-16T10:33:44.916Z"
   },
   {
    "duration": 22,
    "start_time": "2022-05-16T10:33:44.944Z"
   },
   {
    "duration": 200,
    "start_time": "2022-05-16T10:33:44.968Z"
   },
   {
    "duration": 1544,
    "start_time": "2022-05-16T10:37:41.475Z"
   },
   {
    "duration": 819,
    "start_time": "2022-05-16T10:37:43.021Z"
   },
   {
    "duration": 31,
    "start_time": "2022-05-16T10:37:43.841Z"
   },
   {
    "duration": 6,
    "start_time": "2022-05-16T10:37:43.874Z"
   },
   {
    "duration": 208,
    "start_time": "2022-05-16T10:37:43.881Z"
   },
   {
    "duration": 280,
    "start_time": "2022-05-16T10:37:44.091Z"
   },
   {
    "duration": 33271,
    "start_time": "2022-05-16T10:37:44.373Z"
   },
   {
    "duration": 7,
    "start_time": "2022-05-16T10:38:17.646Z"
   },
   {
    "duration": 118,
    "start_time": "2022-05-16T10:38:17.662Z"
   },
   {
    "duration": 8,
    "start_time": "2022-05-16T10:46:06.208Z"
   },
   {
    "duration": 9,
    "start_time": "2022-05-16T10:46:19.137Z"
   },
   {
    "duration": 27,
    "start_time": "2022-05-16T10:46:45.965Z"
   },
   {
    "duration": 9,
    "start_time": "2022-05-16T10:46:47.509Z"
   },
   {
    "duration": 1528,
    "start_time": "2022-05-16T10:48:41.515Z"
   },
   {
    "duration": 818,
    "start_time": "2022-05-16T10:48:43.045Z"
   },
   {
    "duration": 25,
    "start_time": "2022-05-16T10:48:43.867Z"
   },
   {
    "duration": 5,
    "start_time": "2022-05-16T10:48:43.893Z"
   },
   {
    "duration": 213,
    "start_time": "2022-05-16T10:48:43.900Z"
   },
   {
    "duration": 275,
    "start_time": "2022-05-16T10:48:44.114Z"
   },
   {
    "duration": 32699,
    "start_time": "2022-05-16T10:48:44.390Z"
   },
   {
    "duration": 7,
    "start_time": "2022-05-16T10:49:17.090Z"
   },
   {
    "duration": 31,
    "start_time": "2022-05-16T10:49:17.099Z"
   },
   {
    "duration": 156,
    "start_time": "2022-05-16T10:49:17.132Z"
   },
   {
    "duration": 0,
    "start_time": "2022-05-16T10:49:17.289Z"
   },
   {
    "duration": 0,
    "start_time": "2022-05-16T10:49:17.291Z"
   },
   {
    "duration": 53,
    "start_time": "2022-05-16T10:51:21.117Z"
   },
   {
    "duration": 39,
    "start_time": "2022-05-16T10:51:22.181Z"
   },
   {
    "duration": 1820,
    "start_time": "2022-05-16T10:51:50.514Z"
   },
   {
    "duration": 1076,
    "start_time": "2022-05-16T10:51:52.336Z"
   },
   {
    "duration": 49,
    "start_time": "2022-05-16T10:51:53.414Z"
   },
   {
    "duration": 7,
    "start_time": "2022-05-16T10:51:53.466Z"
   },
   {
    "duration": 318,
    "start_time": "2022-05-16T10:51:53.475Z"
   },
   {
    "duration": 435,
    "start_time": "2022-05-16T10:51:53.795Z"
   },
   {
    "duration": 35473,
    "start_time": "2022-05-16T10:51:54.233Z"
   },
   {
    "duration": 8,
    "start_time": "2022-05-16T10:52:29.708Z"
   },
   {
    "duration": 31,
    "start_time": "2022-05-16T10:52:29.718Z"
   },
   {
    "duration": 43,
    "start_time": "2022-05-16T10:52:29.763Z"
   },
   {
    "duration": 36,
    "start_time": "2022-05-16T10:52:29.808Z"
   },
   {
    "duration": 128,
    "start_time": "2022-05-16T10:52:29.845Z"
   },
   {
    "duration": 44,
    "start_time": "2022-05-16T12:02:21.243Z"
   },
   {
    "duration": 1932,
    "start_time": "2022-05-16T12:02:24.190Z"
   },
   {
    "duration": 4,
    "start_time": "2022-05-16T12:09:41.860Z"
   },
   {
    "duration": 731,
    "start_time": "2022-05-16T12:09:41.866Z"
   },
   {
    "duration": 28,
    "start_time": "2022-05-16T12:09:42.599Z"
   },
   {
    "duration": 6,
    "start_time": "2022-05-16T12:09:42.630Z"
   },
   {
    "duration": 145,
    "start_time": "2022-05-16T12:09:42.638Z"
   },
   {
    "duration": 269,
    "start_time": "2022-05-16T12:09:42.784Z"
   },
   {
    "duration": 40455,
    "start_time": "2022-05-16T12:09:43.055Z"
   },
   {
    "duration": 6,
    "start_time": "2022-05-16T12:10:23.512Z"
   },
   {
    "duration": 31,
    "start_time": "2022-05-16T12:10:23.520Z"
   },
   {
    "duration": 67,
    "start_time": "2022-05-16T12:10:23.563Z"
   },
   {
    "duration": 33,
    "start_time": "2022-05-16T12:10:23.631Z"
   },
   {
    "duration": 1726,
    "start_time": "2022-05-16T12:23:14.794Z"
   },
   {
    "duration": 910,
    "start_time": "2022-05-16T12:23:16.522Z"
   },
   {
    "duration": 39,
    "start_time": "2022-05-16T12:23:17.434Z"
   },
   {
    "duration": 11,
    "start_time": "2022-05-16T12:23:17.478Z"
   },
   {
    "duration": 231,
    "start_time": "2022-05-16T12:23:17.491Z"
   },
   {
    "duration": 291,
    "start_time": "2022-05-16T12:23:17.724Z"
   },
   {
    "duration": 37739,
    "start_time": "2022-05-16T12:23:18.017Z"
   },
   {
    "duration": 7,
    "start_time": "2022-05-16T12:23:55.758Z"
   },
   {
    "duration": 44,
    "start_time": "2022-05-16T12:23:55.767Z"
   },
   {
    "duration": 45,
    "start_time": "2022-05-16T12:23:55.813Z"
   },
   {
    "duration": 55,
    "start_time": "2022-05-16T12:23:55.860Z"
   },
   {
    "duration": 13603,
    "start_time": "2022-05-16T12:23:55.918Z"
   },
   {
    "duration": 132,
    "start_time": "2022-05-16T12:24:09.523Z"
   },
   {
    "duration": 60,
    "start_time": "2022-05-16T12:30:15.479Z"
   },
   {
    "duration": 33,
    "start_time": "2022-05-16T12:32:42.686Z"
   },
   {
    "duration": 11,
    "start_time": "2022-05-16T12:32:44.625Z"
   },
   {
    "duration": 144,
    "start_time": "2022-05-16T12:32:57.667Z"
   },
   {
    "duration": 10,
    "start_time": "2022-05-16T12:35:18.629Z"
   },
   {
    "duration": 1587,
    "start_time": "2022-05-16T12:41:09.105Z"
   },
   {
    "duration": 806,
    "start_time": "2022-05-16T12:41:10.694Z"
   },
   {
    "duration": 35,
    "start_time": "2022-05-16T12:41:11.501Z"
   },
   {
    "duration": 8,
    "start_time": "2022-05-16T12:41:11.539Z"
   },
   {
    "duration": 300,
    "start_time": "2022-05-16T12:41:11.563Z"
   },
   {
    "duration": 415,
    "start_time": "2022-05-16T12:41:11.866Z"
   },
   {
    "duration": 33898,
    "start_time": "2022-05-16T12:41:12.283Z"
   },
   {
    "duration": 8,
    "start_time": "2022-05-16T12:41:46.183Z"
   },
   {
    "duration": 37,
    "start_time": "2022-05-16T12:41:46.193Z"
   },
   {
    "duration": 69,
    "start_time": "2022-05-16T12:41:46.233Z"
   },
   {
    "duration": 75,
    "start_time": "2022-05-16T12:41:46.304Z"
   },
   {
    "duration": 144,
    "start_time": "2022-05-16T12:41:46.382Z"
   },
   {
    "duration": 10485,
    "start_time": "2022-05-16T12:41:46.527Z"
   },
   {
    "duration": 126,
    "start_time": "2022-05-16T12:41:57.013Z"
   },
   {
    "duration": 16,
    "start_time": "2022-05-16T12:44:51.924Z"
   },
   {
    "duration": 37,
    "start_time": "2022-05-16T12:47:48.667Z"
   },
   {
    "duration": 86,
    "start_time": "2022-05-16T12:47:49.479Z"
   },
   {
    "duration": 106,
    "start_time": "2022-05-16T12:47:57.556Z"
   },
   {
    "duration": 47,
    "start_time": "2022-05-16T12:48:40.896Z"
   },
   {
    "duration": 1666,
    "start_time": "2022-05-16T12:51:52.971Z"
   },
   {
    "duration": 872,
    "start_time": "2022-05-16T12:51:54.639Z"
   },
   {
    "duration": 29,
    "start_time": "2022-05-16T12:51:55.512Z"
   },
   {
    "duration": 19,
    "start_time": "2022-05-16T12:51:55.544Z"
   },
   {
    "duration": 218,
    "start_time": "2022-05-16T12:51:55.564Z"
   },
   {
    "duration": 282,
    "start_time": "2022-05-16T12:51:55.784Z"
   },
   {
    "duration": 33707,
    "start_time": "2022-05-16T12:51:56.068Z"
   },
   {
    "duration": 8,
    "start_time": "2022-05-16T12:52:29.777Z"
   },
   {
    "duration": 33,
    "start_time": "2022-05-16T12:52:29.787Z"
   },
   {
    "duration": 66,
    "start_time": "2022-05-16T12:52:29.823Z"
   },
   {
    "duration": 39,
    "start_time": "2022-05-16T12:52:29.891Z"
   },
   {
    "duration": 108,
    "start_time": "2022-05-16T12:52:29.932Z"
   },
   {
    "duration": 10365,
    "start_time": "2022-05-16T12:52:30.041Z"
   },
   {
    "duration": 99,
    "start_time": "2022-05-16T12:52:40.409Z"
   },
   {
    "duration": 37,
    "start_time": "2022-05-16T12:54:34.121Z"
   },
   {
    "duration": 19,
    "start_time": "2022-05-16T12:59:14.639Z"
   },
   {
    "duration": 14508,
    "start_time": "2022-05-16T13:01:15.294Z"
   },
   {
    "duration": 13802,
    "start_time": "2022-05-16T13:07:49.984Z"
   },
   {
    "duration": 40694,
    "start_time": "2022-05-16T13:08:34.790Z"
   },
   {
    "duration": 56,
    "start_time": "2022-05-16T13:10:21.800Z"
   },
   {
    "duration": 48,
    "start_time": "2022-05-16T13:10:47.831Z"
   },
   {
    "duration": 2270,
    "start_time": "2022-05-16T13:32:37.917Z"
   },
   {
    "duration": 802,
    "start_time": "2022-05-16T13:32:40.189Z"
   },
   {
    "duration": 31,
    "start_time": "2022-05-16T13:32:40.992Z"
   },
   {
    "duration": 6,
    "start_time": "2022-05-16T13:32:41.025Z"
   },
   {
    "duration": 239,
    "start_time": "2022-05-16T13:32:41.033Z"
   },
   {
    "duration": 280,
    "start_time": "2022-05-16T13:32:41.274Z"
   },
   {
    "duration": 56569,
    "start_time": "2022-05-16T13:32:41.557Z"
   },
   {
    "duration": 7,
    "start_time": "2022-05-16T13:33:38.128Z"
   },
   {
    "duration": 46,
    "start_time": "2022-05-16T13:33:38.138Z"
   },
   {
    "duration": 58,
    "start_time": "2022-05-16T13:33:38.187Z"
   },
   {
    "duration": 10377,
    "start_time": "2022-05-16T13:33:38.247Z"
   },
   {
    "duration": 11882,
    "start_time": "2022-05-16T13:33:48.626Z"
   },
   {
    "duration": 10052,
    "start_time": "2022-05-16T13:46:20.156Z"
   },
   {
    "duration": 135,
    "start_time": "2022-05-16T13:47:54.091Z"
   },
   {
    "duration": 28,
    "start_time": "2022-05-16T13:48:23.030Z"
   },
   {
    "duration": 699,
    "start_time": "2022-05-16T13:48:23.059Z"
   },
   {
    "duration": 30,
    "start_time": "2022-05-16T13:48:23.759Z"
   },
   {
    "duration": 5,
    "start_time": "2022-05-16T13:48:23.791Z"
   },
   {
    "duration": 136,
    "start_time": "2022-05-16T13:48:23.797Z"
   },
   {
    "duration": 263,
    "start_time": "2022-05-16T13:48:23.935Z"
   },
   {
    "duration": 36364,
    "start_time": "2022-05-16T13:48:24.200Z"
   },
   {
    "duration": 11,
    "start_time": "2022-05-16T13:49:00.566Z"
   },
   {
    "duration": 49,
    "start_time": "2022-05-16T13:49:00.579Z"
   },
   {
    "duration": 84,
    "start_time": "2022-05-16T13:49:00.631Z"
   },
   {
    "duration": 2177,
    "start_time": "2022-05-16T13:59:21.649Z"
   },
   {
    "duration": 1113,
    "start_time": "2022-05-16T13:59:23.828Z"
   },
   {
    "duration": 40,
    "start_time": "2022-05-16T13:59:24.942Z"
   },
   {
    "duration": 12,
    "start_time": "2022-05-16T13:59:24.984Z"
   },
   {
    "duration": 140,
    "start_time": "2022-05-16T13:59:24.998Z"
   },
   {
    "duration": 281,
    "start_time": "2022-05-16T13:59:25.141Z"
   },
   {
    "duration": 44386,
    "start_time": "2022-05-16T13:59:25.424Z"
   },
   {
    "duration": 10,
    "start_time": "2022-05-16T14:00:09.812Z"
   },
   {
    "duration": 61,
    "start_time": "2022-05-16T14:00:09.824Z"
   },
   {
    "duration": 55,
    "start_time": "2022-05-16T14:00:09.888Z"
   },
   {
    "duration": 10971,
    "start_time": "2022-05-16T14:00:09.945Z"
   },
   {
    "duration": 9896,
    "start_time": "2022-05-16T14:00:20.918Z"
   },
   {
    "duration": 2549,
    "start_time": "2022-05-16T14:00:30.816Z"
   },
   {
    "duration": 2207,
    "start_time": "2022-05-16T14:04:18.710Z"
   },
   {
    "duration": 49,
    "start_time": "2022-05-16T14:04:52.188Z"
   },
   {
    "duration": 45,
    "start_time": "2022-05-16T14:06:41.611Z"
   },
   {
    "duration": 1713,
    "start_time": "2022-05-16T14:06:52.433Z"
   },
   {
    "duration": 726,
    "start_time": "2022-05-16T14:06:54.148Z"
   },
   {
    "duration": 29,
    "start_time": "2022-05-16T14:06:54.879Z"
   },
   {
    "duration": 7,
    "start_time": "2022-05-16T14:06:54.910Z"
   },
   {
    "duration": 151,
    "start_time": "2022-05-16T14:06:54.918Z"
   },
   {
    "duration": 267,
    "start_time": "2022-05-16T14:06:55.071Z"
   },
   {
    "duration": 34342,
    "start_time": "2022-05-16T14:06:55.340Z"
   },
   {
    "duration": 10,
    "start_time": "2022-05-16T14:07:29.685Z"
   },
   {
    "duration": 42,
    "start_time": "2022-05-16T14:07:29.698Z"
   },
   {
    "duration": 65,
    "start_time": "2022-05-16T14:07:29.743Z"
   },
   {
    "duration": 10225,
    "start_time": "2022-05-16T14:07:29.810Z"
   },
   {
    "duration": 33743,
    "start_time": "2022-05-16T14:07:40.037Z"
   },
   {
    "duration": 2597,
    "start_time": "2022-05-16T14:08:13.782Z"
   },
   {
    "duration": 54,
    "start_time": "2022-05-16T14:15:41.711Z"
   },
   {
    "duration": 45,
    "start_time": "2022-05-16T14:15:47.129Z"
   },
   {
    "duration": 1748,
    "start_time": "2022-05-16T14:16:07.544Z"
   },
   {
    "duration": 767,
    "start_time": "2022-05-16T14:16:09.294Z"
   },
   {
    "duration": 27,
    "start_time": "2022-05-16T14:16:10.063Z"
   },
   {
    "duration": 5,
    "start_time": "2022-05-16T14:16:10.092Z"
   },
   {
    "duration": 140,
    "start_time": "2022-05-16T14:16:10.099Z"
   },
   {
    "duration": 257,
    "start_time": "2022-05-16T14:16:10.240Z"
   },
   {
    "duration": 34270,
    "start_time": "2022-05-16T14:16:10.500Z"
   },
   {
    "duration": 7,
    "start_time": "2022-05-16T14:16:44.772Z"
   },
   {
    "duration": 40,
    "start_time": "2022-05-16T14:16:44.781Z"
   },
   {
    "duration": 61,
    "start_time": "2022-05-16T14:16:44.822Z"
   },
   {
    "duration": 10208,
    "start_time": "2022-05-16T14:16:44.885Z"
   },
   {
    "duration": 40884,
    "start_time": "2022-05-16T14:16:55.095Z"
   },
   {
    "duration": 3036,
    "start_time": "2022-05-16T14:17:35.981Z"
   },
   {
    "duration": 38,
    "start_time": "2022-05-16T14:19:47.397Z"
   },
   {
    "duration": 2421,
    "start_time": "2022-05-16T14:21:03.678Z"
   },
   {
    "duration": 1143,
    "start_time": "2022-05-16T14:21:06.101Z"
   },
   {
    "duration": 45,
    "start_time": "2022-05-16T14:21:07.246Z"
   },
   {
    "duration": 8,
    "start_time": "2022-05-16T14:21:07.294Z"
   },
   {
    "duration": 218,
    "start_time": "2022-05-16T14:21:07.304Z"
   },
   {
    "duration": 463,
    "start_time": "2022-05-16T14:21:07.524Z"
   },
   {
    "duration": 63394,
    "start_time": "2022-05-16T14:21:07.990Z"
   },
   {
    "duration": 10,
    "start_time": "2022-05-16T14:22:11.386Z"
   },
   {
    "duration": 33,
    "start_time": "2022-05-16T14:22:11.398Z"
   },
   {
    "duration": 51,
    "start_time": "2022-05-16T14:22:11.433Z"
   },
   {
    "duration": 10388,
    "start_time": "2022-05-16T14:22:11.485Z"
   },
   {
    "duration": 44736,
    "start_time": "2022-05-16T14:22:21.875Z"
   },
   {
    "duration": 3691,
    "start_time": "2022-05-16T14:23:06.612Z"
   },
   {
    "duration": 14008,
    "start_time": "2022-05-16T14:24:06.901Z"
   },
   {
    "duration": 42,
    "start_time": "2022-05-16T14:24:35.494Z"
   },
   {
    "duration": 46,
    "start_time": "2022-05-16T14:24:39.291Z"
   },
   {
    "duration": 1952,
    "start_time": "2022-05-16T14:24:45.939Z"
   },
   {
    "duration": 737,
    "start_time": "2022-05-16T14:24:47.893Z"
   },
   {
    "duration": 38,
    "start_time": "2022-05-16T14:24:48.631Z"
   },
   {
    "duration": 6,
    "start_time": "2022-05-16T14:24:48.671Z"
   },
   {
    "duration": 138,
    "start_time": "2022-05-16T14:24:48.678Z"
   },
   {
    "duration": 270,
    "start_time": "2022-05-16T14:24:48.817Z"
   },
   {
    "duration": 33367,
    "start_time": "2022-05-16T14:24:49.089Z"
   },
   {
    "duration": 6,
    "start_time": "2022-05-16T14:25:22.462Z"
   },
   {
    "duration": 34,
    "start_time": "2022-05-16T14:25:22.470Z"
   },
   {
    "duration": 34,
    "start_time": "2022-05-16T14:25:22.506Z"
   },
   {
    "duration": 10537,
    "start_time": "2022-05-16T14:25:22.541Z"
   },
   {
    "duration": 14715,
    "start_time": "2022-05-16T14:25:33.079Z"
   },
   {
    "duration": 3779,
    "start_time": "2022-05-16T14:25:47.796Z"
   },
   {
    "duration": 42,
    "start_time": "2022-05-16T14:26:25.387Z"
   },
   {
    "duration": 71,
    "start_time": "2022-05-16T14:26:30.611Z"
   },
   {
    "duration": 2040,
    "start_time": "2022-05-16T14:26:36.718Z"
   },
   {
    "duration": 716,
    "start_time": "2022-05-16T14:26:38.760Z"
   },
   {
    "duration": 32,
    "start_time": "2022-05-16T14:26:39.477Z"
   },
   {
    "duration": 6,
    "start_time": "2022-05-16T14:26:39.511Z"
   },
   {
    "duration": 157,
    "start_time": "2022-05-16T14:26:39.519Z"
   },
   {
    "duration": 284,
    "start_time": "2022-05-16T14:26:39.678Z"
   },
   {
    "duration": 58955,
    "start_time": "2022-05-16T14:26:39.964Z"
   },
   {
    "duration": 9,
    "start_time": "2022-05-16T14:27:38.922Z"
   },
   {
    "duration": 59,
    "start_time": "2022-05-16T14:27:38.933Z"
   },
   {
    "duration": 51,
    "start_time": "2022-05-16T14:27:38.994Z"
   },
   {
    "duration": 16321,
    "start_time": "2022-05-16T14:27:39.047Z"
   },
   {
    "duration": 15053,
    "start_time": "2022-05-16T14:27:55.370Z"
   },
   {
    "duration": 5813,
    "start_time": "2022-05-16T14:28:10.425Z"
   },
   {
    "duration": 67,
    "start_time": "2022-05-18T08:50:36.546Z"
   },
   {
    "duration": 1710,
    "start_time": "2022-05-18T08:54:02.213Z"
   },
   {
    "duration": 2286,
    "start_time": "2022-05-18T08:54:03.925Z"
   },
   {
    "duration": 32,
    "start_time": "2022-05-18T08:54:06.213Z"
   },
   {
    "duration": 6,
    "start_time": "2022-05-18T08:54:06.247Z"
   },
   {
    "duration": 162,
    "start_time": "2022-05-18T08:54:06.254Z"
   },
   {
    "duration": 293,
    "start_time": "2022-05-18T08:54:06.417Z"
   },
   {
    "duration": 36697,
    "start_time": "2022-05-18T08:54:06.712Z"
   },
   {
    "duration": 7,
    "start_time": "2022-05-18T08:54:43.411Z"
   },
   {
    "duration": 31,
    "start_time": "2022-05-18T08:54:43.423Z"
   },
   {
    "duration": 37,
    "start_time": "2022-05-18T08:54:43.456Z"
   },
   {
    "duration": 11291,
    "start_time": "2022-05-18T08:54:43.494Z"
   },
   {
    "duration": 4,
    "start_time": "2022-05-18T08:54:54.787Z"
   },
   {
    "duration": 0,
    "start_time": "2022-05-18T08:54:54.793Z"
   },
   {
    "duration": 0,
    "start_time": "2022-05-18T08:54:54.795Z"
   },
   {
    "duration": 25,
    "start_time": "2022-05-18T09:01:58.324Z"
   },
   {
    "duration": 141,
    "start_time": "2022-05-18T09:03:54.752Z"
   },
   {
    "duration": 37,
    "start_time": "2022-05-18T09:04:39.316Z"
   },
   {
    "duration": 34,
    "start_time": "2022-05-18T09:04:50.989Z"
   },
   {
    "duration": 42,
    "start_time": "2022-05-18T09:04:56.988Z"
   },
   {
    "duration": 36,
    "start_time": "2022-05-18T09:05:01.125Z"
   },
   {
    "duration": 13444,
    "start_time": "2022-05-18T09:05:04.316Z"
   },
   {
    "duration": 3814,
    "start_time": "2022-05-18T09:06:26.700Z"
   },
   {
    "duration": 3860,
    "start_time": "2022-05-18T09:14:20.078Z"
   },
   {
    "duration": 10,
    "start_time": "2022-05-18T09:20:53.549Z"
   },
   {
    "duration": 2086,
    "start_time": "2022-05-18T09:21:05.478Z"
   },
   {
    "duration": 1666,
    "start_time": "2022-05-18T09:21:07.566Z"
   },
   {
    "duration": 36,
    "start_time": "2022-05-18T09:21:09.234Z"
   },
   {
    "duration": 14,
    "start_time": "2022-05-18T09:21:09.273Z"
   },
   {
    "duration": 152,
    "start_time": "2022-05-18T09:21:09.289Z"
   },
   {
    "duration": 303,
    "start_time": "2022-05-18T09:21:09.443Z"
   },
   {
    "duration": 38400,
    "start_time": "2022-05-18T09:21:09.748Z"
   },
   {
    "duration": 8,
    "start_time": "2022-05-18T09:21:48.149Z"
   },
   {
    "duration": 38,
    "start_time": "2022-05-18T09:21:48.160Z"
   },
   {
    "duration": 61,
    "start_time": "2022-05-18T09:21:48.201Z"
   },
   {
    "duration": 11443,
    "start_time": "2022-05-18T09:21:48.264Z"
   },
   {
    "duration": 35,
    "start_time": "2022-05-18T09:21:59.709Z"
   },
   {
    "duration": 13419,
    "start_time": "2022-05-18T09:21:59.746Z"
   },
   {
    "duration": 4139,
    "start_time": "2022-05-18T09:22:13.166Z"
   },
   {
    "duration": 1770,
    "start_time": "2022-05-18T09:24:01.367Z"
   },
   {
    "duration": 919,
    "start_time": "2022-05-18T09:24:03.140Z"
   },
   {
    "duration": 44,
    "start_time": "2022-05-18T09:24:04.061Z"
   },
   {
    "duration": 17,
    "start_time": "2022-05-18T09:24:04.108Z"
   },
   {
    "duration": 169,
    "start_time": "2022-05-18T09:24:04.126Z"
   },
   {
    "duration": 333,
    "start_time": "2022-05-18T09:24:04.296Z"
   },
   {
    "duration": 37652,
    "start_time": "2022-05-18T09:24:04.631Z"
   },
   {
    "duration": 9,
    "start_time": "2022-05-18T09:24:42.285Z"
   },
   {
    "duration": 52,
    "start_time": "2022-05-18T09:24:42.296Z"
   },
   {
    "duration": 43,
    "start_time": "2022-05-18T09:24:42.352Z"
   },
   {
    "duration": 11200,
    "start_time": "2022-05-18T09:24:42.397Z"
   },
   {
    "duration": 50,
    "start_time": "2022-05-18T09:24:53.599Z"
   },
   {
    "duration": 13814,
    "start_time": "2022-05-18T09:24:53.651Z"
   },
   {
    "duration": 4041,
    "start_time": "2022-05-18T09:25:07.467Z"
   },
   {
    "duration": 241249,
    "start_time": "2022-05-18T09:25:11.510Z"
   },
   {
    "duration": 2040,
    "start_time": "2022-05-18T09:38:27.453Z"
   },
   {
    "duration": 2196,
    "start_time": "2022-05-18T09:38:29.496Z"
   },
   {
    "duration": 37,
    "start_time": "2022-05-18T09:38:31.694Z"
   },
   {
    "duration": 7,
    "start_time": "2022-05-18T09:38:31.733Z"
   },
   {
    "duration": 160,
    "start_time": "2022-05-18T09:38:31.741Z"
   },
   {
    "duration": 341,
    "start_time": "2022-05-18T09:38:31.902Z"
   },
   {
    "duration": 37797,
    "start_time": "2022-05-18T09:38:32.245Z"
   },
   {
    "duration": 8,
    "start_time": "2022-05-18T09:39:10.044Z"
   },
   {
    "duration": 40,
    "start_time": "2022-05-18T09:39:10.054Z"
   },
   {
    "duration": 56,
    "start_time": "2022-05-18T09:39:10.097Z"
   },
   {
    "duration": 11011,
    "start_time": "2022-05-18T09:39:10.154Z"
   },
   {
    "duration": 36,
    "start_time": "2022-05-18T09:39:21.167Z"
   },
   {
    "duration": 13153,
    "start_time": "2022-05-18T09:39:21.204Z"
   },
   {
    "duration": 3905,
    "start_time": "2022-05-18T09:39:34.359Z"
   },
   {
    "duration": 995610,
    "start_time": "2022-05-18T09:39:38.266Z"
   },
   {
    "duration": 0,
    "start_time": "2022-05-18T09:56:13.878Z"
   },
   {
    "duration": 4,
    "start_time": "2022-05-18T09:56:16.827Z"
   },
   {
    "duration": 2993,
    "start_time": "2022-05-18T11:55:36.975Z"
   },
   {
    "duration": 2992,
    "start_time": "2022-05-18T11:55:39.970Z"
   },
   {
    "duration": 36,
    "start_time": "2022-05-18T11:55:42.964Z"
   },
   {
    "duration": 34,
    "start_time": "2022-05-18T11:55:43.002Z"
   },
   {
    "duration": 178,
    "start_time": "2022-05-18T11:55:43.046Z"
   },
   {
    "duration": 380,
    "start_time": "2022-05-18T11:55:43.225Z"
   },
   {
    "duration": 47059,
    "start_time": "2022-05-18T11:55:43.607Z"
   },
   {
    "duration": 10,
    "start_time": "2022-05-18T11:56:30.668Z"
   },
   {
    "duration": 81,
    "start_time": "2022-05-18T11:56:30.679Z"
   },
   {
    "duration": 46,
    "start_time": "2022-05-18T11:56:30.772Z"
   },
   {
    "duration": 12555,
    "start_time": "2022-05-18T11:56:30.820Z"
   },
   {
    "duration": 40,
    "start_time": "2022-05-18T11:56:43.377Z"
   },
   {
    "duration": 13047,
    "start_time": "2022-05-18T11:56:43.430Z"
   },
   {
    "duration": 4218,
    "start_time": "2022-05-18T11:56:56.479Z"
   },
   {
    "duration": 636468,
    "start_time": "2022-05-18T11:57:00.699Z"
   },
   {
    "duration": 171,
    "start_time": "2022-05-18T12:07:37.169Z"
   },
   {
    "duration": 0,
    "start_time": "2022-05-18T12:07:37.346Z"
   },
   {
    "duration": 65,
    "start_time": "2022-05-18T12:13:11.577Z"
   },
   {
    "duration": 8,
    "start_time": "2022-05-18T12:16:11.305Z"
   },
   {
    "duration": 2685,
    "start_time": "2022-05-18T12:20:28.521Z"
   },
   {
    "duration": 2632,
    "start_time": "2022-05-18T12:20:31.208Z"
   },
   {
    "duration": 34,
    "start_time": "2022-05-18T12:20:33.842Z"
   },
   {
    "duration": 5,
    "start_time": "2022-05-18T12:20:33.878Z"
   },
   {
    "duration": 155,
    "start_time": "2022-05-18T12:20:33.885Z"
   },
   {
    "duration": 3,
    "start_time": "2022-05-18T12:20:34.042Z"
   },
   {
    "duration": 0,
    "start_time": "2022-05-18T12:20:34.047Z"
   },
   {
    "duration": 0,
    "start_time": "2022-05-18T12:20:34.048Z"
   },
   {
    "duration": 0,
    "start_time": "2022-05-18T12:20:34.049Z"
   },
   {
    "duration": 0,
    "start_time": "2022-05-18T12:20:34.050Z"
   },
   {
    "duration": 0,
    "start_time": "2022-05-18T12:20:34.051Z"
   },
   {
    "duration": 0,
    "start_time": "2022-05-18T12:20:34.052Z"
   },
   {
    "duration": 0,
    "start_time": "2022-05-18T12:20:34.053Z"
   },
   {
    "duration": 0,
    "start_time": "2022-05-18T12:20:34.054Z"
   },
   {
    "duration": 0,
    "start_time": "2022-05-18T12:20:34.055Z"
   },
   {
    "duration": 0,
    "start_time": "2022-05-18T12:20:34.056Z"
   },
   {
    "duration": 0,
    "start_time": "2022-05-18T12:20:34.058Z"
   },
   {
    "duration": 57,
    "start_time": "2022-05-18T12:46:33.591Z"
   },
   {
    "duration": 10616,
    "start_time": "2022-05-18T13:00:17.256Z"
   },
   {
    "duration": 2325,
    "start_time": "2022-05-18T13:00:27.875Z"
   },
   {
    "duration": 36,
    "start_time": "2022-05-18T13:00:30.202Z"
   },
   {
    "duration": 15,
    "start_time": "2022-05-18T13:00:30.241Z"
   },
   {
    "duration": 153,
    "start_time": "2022-05-18T13:00:30.258Z"
   },
   {
    "duration": 307,
    "start_time": "2022-05-18T13:00:30.412Z"
   },
   {
    "duration": 39219,
    "start_time": "2022-05-18T13:00:30.721Z"
   },
   {
    "duration": 8,
    "start_time": "2022-05-18T13:01:09.942Z"
   },
   {
    "duration": 34,
    "start_time": "2022-05-18T13:01:09.951Z"
   },
   {
    "duration": 55,
    "start_time": "2022-05-18T13:01:09.988Z"
   },
   {
    "duration": 11500,
    "start_time": "2022-05-18T13:01:10.045Z"
   },
   {
    "duration": 38,
    "start_time": "2022-05-18T13:01:21.547Z"
   },
   {
    "duration": 12684,
    "start_time": "2022-05-18T13:01:21.586Z"
   },
   {
    "duration": 4072,
    "start_time": "2022-05-18T13:01:34.272Z"
   },
   {
    "duration": 1930,
    "start_time": "2022-05-18T13:33:52.959Z"
   },
   {
    "duration": 2402,
    "start_time": "2022-05-18T13:33:54.891Z"
   },
   {
    "duration": 43,
    "start_time": "2022-05-18T13:33:57.294Z"
   },
   {
    "duration": 10,
    "start_time": "2022-05-18T13:33:57.339Z"
   },
   {
    "duration": 195,
    "start_time": "2022-05-18T13:33:57.351Z"
   },
   {
    "duration": 330,
    "start_time": "2022-05-18T13:33:57.548Z"
   },
   {
    "duration": 40933,
    "start_time": "2022-05-18T13:33:57.880Z"
   },
   {
    "duration": 23,
    "start_time": "2022-05-18T13:34:38.815Z"
   },
   {
    "duration": 46,
    "start_time": "2022-05-18T13:34:38.842Z"
   },
   {
    "duration": 57,
    "start_time": "2022-05-18T13:34:38.891Z"
   },
   {
    "duration": 11958,
    "start_time": "2022-05-18T13:34:38.950Z"
   },
   {
    "duration": 53,
    "start_time": "2022-05-18T13:34:50.909Z"
   },
   {
    "duration": 13905,
    "start_time": "2022-05-18T13:34:50.965Z"
   },
   {
    "duration": 4301,
    "start_time": "2022-05-18T13:35:04.873Z"
   },
   {
    "duration": 1626,
    "start_time": "2022-05-18T13:38:42.963Z"
   },
   {
    "duration": 2563,
    "start_time": "2022-05-18T13:38:44.591Z"
   },
   {
    "duration": 32,
    "start_time": "2022-05-18T13:38:47.156Z"
   },
   {
    "duration": 5,
    "start_time": "2022-05-18T13:38:47.190Z"
   },
   {
    "duration": 169,
    "start_time": "2022-05-18T13:38:47.197Z"
   },
   {
    "duration": 330,
    "start_time": "2022-05-18T13:38:47.368Z"
   },
   {
    "duration": 45832,
    "start_time": "2022-05-18T13:38:47.700Z"
   },
   {
    "duration": 18,
    "start_time": "2022-05-18T13:39:33.536Z"
   },
   {
    "duration": 49,
    "start_time": "2022-05-18T13:39:33.557Z"
   },
   {
    "duration": 48,
    "start_time": "2022-05-18T13:39:33.608Z"
   },
   {
    "duration": 12549,
    "start_time": "2022-05-18T13:39:33.658Z"
   },
   {
    "duration": 59,
    "start_time": "2022-05-18T13:39:46.209Z"
   },
   {
    "duration": 2167,
    "start_time": "2022-05-18T19:03:28.958Z"
   },
   {
    "duration": 3379,
    "start_time": "2022-05-18T19:03:31.127Z"
   },
   {
    "duration": 34,
    "start_time": "2022-05-18T19:03:34.508Z"
   },
   {
    "duration": 7,
    "start_time": "2022-05-18T19:03:34.544Z"
   },
   {
    "duration": 202,
    "start_time": "2022-05-18T19:03:34.553Z"
   },
   {
    "duration": 275,
    "start_time": "2022-05-18T19:03:34.757Z"
   },
   {
    "duration": 36946,
    "start_time": "2022-05-18T19:03:35.033Z"
   },
   {
    "duration": 8,
    "start_time": "2022-05-18T19:04:11.981Z"
   },
   {
    "duration": 47,
    "start_time": "2022-05-18T19:04:11.991Z"
   },
   {
    "duration": 36,
    "start_time": "2022-05-18T19:04:12.040Z"
   },
   {
    "duration": 14627,
    "start_time": "2022-05-18T19:04:12.077Z"
   },
   {
    "duration": 60,
    "start_time": "2022-05-18T19:04:26.706Z"
   },
   {
    "duration": 12887,
    "start_time": "2022-05-18T19:04:26.770Z"
   },
   {
    "duration": 5074,
    "start_time": "2022-05-18T19:04:39.660Z"
   },
   {
    "duration": 1852,
    "start_time": "2022-05-18T19:11:33.018Z"
   },
   {
    "duration": 3664,
    "start_time": "2022-05-18T19:11:34.873Z"
   },
   {
    "duration": 37,
    "start_time": "2022-05-18T19:11:38.540Z"
   },
   {
    "duration": 7,
    "start_time": "2022-05-18T19:11:38.580Z"
   },
   {
    "duration": 193,
    "start_time": "2022-05-18T19:11:38.589Z"
   },
   {
    "duration": 412,
    "start_time": "2022-05-18T19:11:38.784Z"
   },
   {
    "duration": 37970,
    "start_time": "2022-05-18T19:11:39.198Z"
   },
   {
    "duration": 7,
    "start_time": "2022-05-18T19:12:17.170Z"
   },
   {
    "duration": 41,
    "start_time": "2022-05-18T19:12:17.178Z"
   },
   {
    "duration": 39,
    "start_time": "2022-05-18T19:12:17.221Z"
   },
   {
    "duration": 10190,
    "start_time": "2022-05-18T19:12:17.261Z"
   },
   {
    "duration": 13317,
    "start_time": "2022-05-18T19:12:27.453Z"
   },
   {
    "duration": 3903,
    "start_time": "2022-05-18T19:12:40.772Z"
   },
   {
    "duration": 2033,
    "start_time": "2022-05-18T19:25:52.040Z"
   },
   {
    "duration": 3806,
    "start_time": "2022-05-18T19:25:54.076Z"
   },
   {
    "duration": 35,
    "start_time": "2022-05-18T19:25:57.884Z"
   },
   {
    "duration": 8,
    "start_time": "2022-05-18T19:25:57.921Z"
   },
   {
    "duration": 153,
    "start_time": "2022-05-18T19:25:57.931Z"
   },
   {
    "duration": 334,
    "start_time": "2022-05-18T19:25:58.086Z"
   },
   {
    "duration": 45471,
    "start_time": "2022-05-18T19:25:58.422Z"
   },
   {
    "duration": 8,
    "start_time": "2022-05-18T19:26:43.895Z"
   },
   {
    "duration": 48,
    "start_time": "2022-05-18T19:26:43.904Z"
   },
   {
    "duration": 38,
    "start_time": "2022-05-18T19:26:43.962Z"
   },
   {
    "duration": 13191,
    "start_time": "2022-05-18T19:26:44.002Z"
   },
   {
    "duration": 12775,
    "start_time": "2022-05-18T19:26:57.196Z"
   },
   {
    "duration": 4521,
    "start_time": "2022-05-18T19:27:09.973Z"
   },
   {
    "duration": 1943,
    "start_time": "2022-05-18T19:43:22.169Z"
   },
   {
    "duration": 3867,
    "start_time": "2022-05-18T19:43:24.113Z"
   },
   {
    "duration": 28,
    "start_time": "2022-05-18T19:43:27.982Z"
   },
   {
    "duration": 5,
    "start_time": "2022-05-18T19:43:28.012Z"
   },
   {
    "duration": 155,
    "start_time": "2022-05-18T19:43:28.018Z"
   },
   {
    "duration": 285,
    "start_time": "2022-05-18T19:43:28.175Z"
   },
   {
    "duration": 40694,
    "start_time": "2022-05-18T19:43:28.462Z"
   },
   {
    "duration": 9,
    "start_time": "2022-05-18T19:44:09.157Z"
   },
   {
    "duration": 54,
    "start_time": "2022-05-18T19:44:09.170Z"
   },
   {
    "duration": 43,
    "start_time": "2022-05-18T19:44:09.226Z"
   },
   {
    "duration": 12574,
    "start_time": "2022-05-18T19:44:09.275Z"
   },
   {
    "duration": 11819,
    "start_time": "2022-05-18T19:44:21.852Z"
   },
   {
    "duration": 3916,
    "start_time": "2022-05-18T19:44:33.675Z"
   },
   {
    "duration": 60,
    "start_time": "2022-05-18T20:00:23.269Z"
   },
   {
    "duration": 2222,
    "start_time": "2022-05-18T20:17:08.907Z"
   },
   {
    "duration": 4281,
    "start_time": "2022-05-18T20:17:11.132Z"
   },
   {
    "duration": 38,
    "start_time": "2022-05-18T20:17:15.415Z"
   },
   {
    "duration": 23,
    "start_time": "2022-05-18T20:17:15.463Z"
   },
   {
    "duration": 175,
    "start_time": "2022-05-18T20:17:15.488Z"
   },
   {
    "duration": 344,
    "start_time": "2022-05-18T20:17:15.664Z"
   },
   {
    "duration": 43518,
    "start_time": "2022-05-18T20:17:16.010Z"
   },
   {
    "duration": 8,
    "start_time": "2022-05-18T20:17:59.529Z"
   },
   {
    "duration": 64,
    "start_time": "2022-05-18T20:17:59.541Z"
   },
   {
    "duration": 45,
    "start_time": "2022-05-18T20:17:59.608Z"
   },
   {
    "duration": 12431,
    "start_time": "2022-05-18T20:17:59.661Z"
   },
   {
    "duration": 11177,
    "start_time": "2022-05-18T20:18:12.094Z"
   },
   {
    "duration": 4748,
    "start_time": "2022-05-18T20:18:23.273Z"
   },
   {
    "duration": 1511,
    "start_time": "2022-05-18T20:27:50.509Z"
   },
   {
    "duration": 855,
    "start_time": "2022-05-18T20:27:52.022Z"
   },
   {
    "duration": 29,
    "start_time": "2022-05-18T20:27:52.878Z"
   },
   {
    "duration": 5,
    "start_time": "2022-05-18T20:27:52.909Z"
   },
   {
    "duration": 163,
    "start_time": "2022-05-18T20:27:52.916Z"
   },
   {
    "duration": 318,
    "start_time": "2022-05-18T20:27:53.080Z"
   },
   {
    "duration": 41535,
    "start_time": "2022-05-18T20:27:53.400Z"
   },
   {
    "duration": 22,
    "start_time": "2022-05-18T20:28:34.937Z"
   },
   {
    "duration": 51,
    "start_time": "2022-05-18T20:28:34.961Z"
   },
   {
    "duration": 37,
    "start_time": "2022-05-18T20:28:35.014Z"
   },
   {
    "duration": 10924,
    "start_time": "2022-05-18T20:28:35.052Z"
   },
   {
    "duration": 11909,
    "start_time": "2022-05-18T20:28:45.978Z"
   },
   {
    "duration": 0,
    "start_time": "2022-05-18T20:28:57.889Z"
   },
   {
    "duration": 0,
    "start_time": "2022-05-18T20:28:57.890Z"
   },
   {
    "duration": 0,
    "start_time": "2022-05-18T20:28:57.891Z"
   },
   {
    "duration": 0,
    "start_time": "2022-05-18T20:28:57.892Z"
   },
   {
    "duration": 71,
    "start_time": "2022-05-18T20:29:10.076Z"
   },
   {
    "duration": 2067,
    "start_time": "2022-05-18T20:29:17.363Z"
   },
   {
    "duration": 3852,
    "start_time": "2022-05-18T20:29:19.432Z"
   },
   {
    "duration": 30,
    "start_time": "2022-05-18T20:29:23.286Z"
   },
   {
    "duration": 5,
    "start_time": "2022-05-18T20:29:23.318Z"
   },
   {
    "duration": 159,
    "start_time": "2022-05-18T20:29:23.325Z"
   },
   {
    "duration": 305,
    "start_time": "2022-05-18T20:29:23.486Z"
   },
   {
    "duration": 40300,
    "start_time": "2022-05-18T20:29:23.793Z"
   },
   {
    "duration": 7,
    "start_time": "2022-05-18T20:30:04.095Z"
   },
   {
    "duration": 44,
    "start_time": "2022-05-18T20:30:04.104Z"
   },
   {
    "duration": 42,
    "start_time": "2022-05-18T20:30:04.152Z"
   },
   {
    "duration": 11039,
    "start_time": "2022-05-18T20:30:04.196Z"
   },
   {
    "duration": 11310,
    "start_time": "2022-05-18T20:30:15.236Z"
   },
   {
    "duration": 4880,
    "start_time": "2022-05-18T20:30:26.551Z"
   },
   {
    "duration": 1529,
    "start_time": "2022-05-19T07:30:38.451Z"
   },
   {
    "duration": 2947,
    "start_time": "2022-05-19T07:30:39.982Z"
   },
   {
    "duration": 21,
    "start_time": "2022-05-19T07:30:42.931Z"
   },
   {
    "duration": 5,
    "start_time": "2022-05-19T07:30:42.953Z"
   },
   {
    "duration": 121,
    "start_time": "2022-05-19T07:30:42.959Z"
   },
   {
    "duration": 237,
    "start_time": "2022-05-19T07:30:43.082Z"
   },
   {
    "duration": 33174,
    "start_time": "2022-05-19T07:30:43.321Z"
   },
   {
    "duration": 7,
    "start_time": "2022-05-19T07:31:16.496Z"
   },
   {
    "duration": 32,
    "start_time": "2022-05-19T07:31:16.504Z"
   },
   {
    "duration": 39,
    "start_time": "2022-05-19T07:31:16.538Z"
   },
   {
    "duration": 9021,
    "start_time": "2022-05-19T07:31:16.578Z"
   },
   {
    "duration": 11678,
    "start_time": "2022-05-19T07:31:25.601Z"
   },
   {
    "duration": 4234,
    "start_time": "2022-05-19T07:31:37.281Z"
   },
   {
    "duration": 1373,
    "start_time": "2022-05-19T07:38:48.480Z"
   },
   {
    "duration": 3036,
    "start_time": "2022-05-19T07:38:49.855Z"
   },
   {
    "duration": 29,
    "start_time": "2022-05-19T07:38:52.892Z"
   },
   {
    "duration": 14,
    "start_time": "2022-05-19T07:38:52.922Z"
   },
   {
    "duration": 141,
    "start_time": "2022-05-19T07:38:52.938Z"
   },
   {
    "duration": 269,
    "start_time": "2022-05-19T07:38:53.081Z"
   },
   {
    "duration": 35503,
    "start_time": "2022-05-19T07:38:53.352Z"
   },
   {
    "duration": 9,
    "start_time": "2022-05-19T07:39:28.859Z"
   },
   {
    "duration": 29,
    "start_time": "2022-05-19T07:39:28.869Z"
   },
   {
    "duration": 35,
    "start_time": "2022-05-19T07:39:28.900Z"
   },
   {
    "duration": 9807,
    "start_time": "2022-05-19T07:39:28.937Z"
   },
   {
    "duration": 13464,
    "start_time": "2022-05-19T07:39:38.745Z"
   },
   {
    "duration": 4407,
    "start_time": "2022-05-19T07:39:52.214Z"
   },
   {
    "duration": 64,
    "start_time": "2022-05-19T08:35:20.433Z"
   },
   {
    "duration": 2495,
    "start_time": "2022-05-19T08:36:38.522Z"
   },
   {
    "duration": 4608,
    "start_time": "2022-05-19T08:36:41.021Z"
   },
   {
    "duration": 35,
    "start_time": "2022-05-19T08:36:45.631Z"
   },
   {
    "duration": 19,
    "start_time": "2022-05-19T08:36:45.668Z"
   },
   {
    "duration": 185,
    "start_time": "2022-05-19T08:36:45.690Z"
   },
   {
    "duration": 390,
    "start_time": "2022-05-19T08:36:45.876Z"
   },
   {
    "duration": 47156,
    "start_time": "2022-05-19T08:36:46.269Z"
   },
   {
    "duration": 11,
    "start_time": "2022-05-19T08:37:33.428Z"
   },
   {
    "duration": 56,
    "start_time": "2022-05-19T08:37:33.441Z"
   },
   {
    "duration": 47,
    "start_time": "2022-05-19T08:37:33.500Z"
   },
   {
    "duration": 15309,
    "start_time": "2022-05-19T08:37:33.549Z"
   },
   {
    "duration": 13479,
    "start_time": "2022-05-19T08:37:48.861Z"
   },
   {
    "duration": 5299,
    "start_time": "2022-05-19T08:38:02.342Z"
   },
   {
    "duration": 2114,
    "start_time": "2022-05-19T08:39:00.903Z"
   },
   {
    "duration": 4821,
    "start_time": "2022-05-19T08:39:03.019Z"
   },
   {
    "duration": 62,
    "start_time": "2022-05-19T08:39:07.842Z"
   },
   {
    "duration": 25,
    "start_time": "2022-05-19T08:39:07.914Z"
   },
   {
    "duration": 235,
    "start_time": "2022-05-19T08:39:07.945Z"
   },
   {
    "duration": 413,
    "start_time": "2022-05-19T08:39:08.182Z"
   },
   {
    "duration": 53497,
    "start_time": "2022-05-19T08:39:08.600Z"
   },
   {
    "duration": 25,
    "start_time": "2022-05-19T08:40:02.100Z"
   },
   {
    "duration": 74,
    "start_time": "2022-05-19T08:40:02.132Z"
   },
   {
    "duration": 77,
    "start_time": "2022-05-19T08:40:02.210Z"
   },
   {
    "duration": 15008,
    "start_time": "2022-05-19T08:40:02.289Z"
   },
   {
    "duration": 13314,
    "start_time": "2022-05-19T08:40:17.299Z"
   },
   {
    "duration": 4969,
    "start_time": "2022-05-19T08:40:30.615Z"
   },
   {
    "duration": 2022,
    "start_time": "2022-05-19T08:42:50.739Z"
   },
   {
    "duration": 4106,
    "start_time": "2022-05-19T08:42:52.763Z"
   },
   {
    "duration": 42,
    "start_time": "2022-05-19T08:42:56.870Z"
   },
   {
    "duration": 33,
    "start_time": "2022-05-19T08:42:56.915Z"
   },
   {
    "duration": 188,
    "start_time": "2022-05-19T08:42:56.950Z"
   },
   {
    "duration": 363,
    "start_time": "2022-05-19T08:42:57.140Z"
   },
   {
    "duration": 50722,
    "start_time": "2022-05-19T08:42:57.507Z"
   },
   {
    "duration": 21,
    "start_time": "2022-05-19T08:43:48.233Z"
   },
   {
    "duration": 82,
    "start_time": "2022-05-19T08:43:48.256Z"
   },
   {
    "duration": 49,
    "start_time": "2022-05-19T08:43:48.342Z"
   },
   {
    "duration": 14973,
    "start_time": "2022-05-19T08:43:48.393Z"
   },
   {
    "duration": 12666,
    "start_time": "2022-05-19T08:44:03.369Z"
   },
   {
    "duration": 4677,
    "start_time": "2022-05-19T08:44:16.038Z"
   },
   {
    "duration": 76,
    "start_time": "2022-05-19T08:45:16.053Z"
   },
   {
    "duration": 7,
    "start_time": "2022-05-19T08:45:46.502Z"
   },
   {
    "duration": 1664,
    "start_time": "2022-05-19T10:48:50.510Z"
   },
   {
    "duration": 3271,
    "start_time": "2022-05-19T10:48:52.176Z"
   },
   {
    "duration": 30,
    "start_time": "2022-05-19T10:48:55.449Z"
   },
   {
    "duration": 5,
    "start_time": "2022-05-19T10:48:55.481Z"
   },
   {
    "duration": 152,
    "start_time": "2022-05-19T10:48:55.487Z"
   },
   {
    "duration": 281,
    "start_time": "2022-05-19T10:48:55.641Z"
   },
   {
    "duration": 37731,
    "start_time": "2022-05-19T10:48:55.924Z"
   },
   {
    "duration": 8,
    "start_time": "2022-05-19T10:49:33.657Z"
   },
   {
    "duration": 35,
    "start_time": "2022-05-19T10:49:33.667Z"
   },
   {
    "duration": 34,
    "start_time": "2022-05-19T10:49:33.705Z"
   },
   {
    "duration": 10967,
    "start_time": "2022-05-19T10:49:33.741Z"
   },
   {
    "duration": 13748,
    "start_time": "2022-05-19T10:49:44.710Z"
   },
   {
    "duration": 4172,
    "start_time": "2022-05-19T10:49:58.461Z"
   },
   {
    "duration": 8836,
    "start_time": "2022-05-19T10:50:02.634Z"
   },
   {
    "duration": 0,
    "start_time": "2022-05-19T10:53:27.804Z"
   },
   {
    "duration": 0,
    "start_time": "2022-05-19T10:53:27.804Z"
   },
   {
    "duration": 0,
    "start_time": "2022-05-19T10:53:27.807Z"
   },
   {
    "duration": 50,
    "start_time": "2022-05-19T10:54:04.686Z"
   },
   {
    "duration": 243105,
    "start_time": "2022-05-19T10:54:07.328Z"
   },
   {
    "duration": 9,
    "start_time": "2022-05-19T10:59:17.752Z"
   },
   {
    "duration": 1567,
    "start_time": "2022-05-19T11:00:46.711Z"
   },
   {
    "duration": 3382,
    "start_time": "2022-05-19T11:00:48.280Z"
   },
   {
    "duration": 39,
    "start_time": "2022-05-19T11:00:51.664Z"
   },
   {
    "duration": 25,
    "start_time": "2022-05-19T11:00:51.706Z"
   },
   {
    "duration": 184,
    "start_time": "2022-05-19T11:00:51.735Z"
   },
   {
    "duration": 387,
    "start_time": "2022-05-19T11:00:51.921Z"
   },
   {
    "duration": 38871,
    "start_time": "2022-05-19T11:00:52.311Z"
   },
   {
    "duration": 18,
    "start_time": "2022-05-19T11:01:31.184Z"
   },
   {
    "duration": 34,
    "start_time": "2022-05-19T11:01:31.205Z"
   },
   {
    "duration": 68,
    "start_time": "2022-05-19T11:01:31.241Z"
   },
   {
    "duration": 11389,
    "start_time": "2022-05-19T11:01:31.311Z"
   },
   {
    "duration": 13434,
    "start_time": "2022-05-19T11:01:42.702Z"
   },
   {
    "duration": 3955,
    "start_time": "2022-05-19T11:01:56.138Z"
   },
   {
    "duration": 8945,
    "start_time": "2022-05-19T11:02:00.101Z"
   },
   {
    "duration": 126476,
    "start_time": "2022-05-19T11:02:09.049Z"
   },
   {
    "duration": 61,
    "start_time": "2022-05-19T11:07:27.907Z"
   },
   {
    "duration": 1565,
    "start_time": "2022-05-19T11:08:53.414Z"
   },
   {
    "duration": 3290,
    "start_time": "2022-05-19T11:08:54.981Z"
   },
   {
    "duration": 27,
    "start_time": "2022-05-19T11:08:58.273Z"
   },
   {
    "duration": 9,
    "start_time": "2022-05-19T11:08:58.302Z"
   },
   {
    "duration": 162,
    "start_time": "2022-05-19T11:08:58.312Z"
   },
   {
    "duration": 289,
    "start_time": "2022-05-19T11:08:58.477Z"
   },
   {
    "duration": 38447,
    "start_time": "2022-05-19T11:08:58.768Z"
   },
   {
    "duration": 7,
    "start_time": "2022-05-19T11:09:37.217Z"
   },
   {
    "duration": 35,
    "start_time": "2022-05-19T11:09:37.226Z"
   },
   {
    "duration": 49,
    "start_time": "2022-05-19T11:09:37.263Z"
   },
   {
    "duration": 11159,
    "start_time": "2022-05-19T11:09:37.313Z"
   },
   {
    "duration": 13563,
    "start_time": "2022-05-19T11:09:48.474Z"
   },
   {
    "duration": 3864,
    "start_time": "2022-05-19T11:10:02.039Z"
   },
   {
    "duration": 5017,
    "start_time": "2022-05-19T11:10:05.905Z"
   },
   {
    "duration": 8596,
    "start_time": "2022-05-19T11:10:10.923Z"
   },
   {
    "duration": 159006,
    "start_time": "2022-05-19T11:10:19.521Z"
   },
   {
    "duration": 83,
    "start_time": "2022-05-19T11:12:58.529Z"
   },
   {
    "duration": 8,
    "start_time": "2022-05-19T11:12:58.618Z"
   },
   {
    "duration": 2528,
    "start_time": "2022-05-19T11:14:45.047Z"
   },
   {
    "duration": 5383,
    "start_time": "2022-05-19T11:15:10.281Z"
   },
   {
    "duration": 8,
    "start_time": "2022-05-19T11:18:20.523Z"
   },
   {
    "duration": 10,
    "start_time": "2022-05-19T13:00:24.688Z"
   },
   {
    "duration": 16,
    "start_time": "2022-05-19T13:06:14.561Z"
   },
   {
    "duration": 48,
    "start_time": "2022-05-19T13:07:03.024Z"
   },
   {
    "duration": 72,
    "start_time": "2022-05-19T13:08:31.873Z"
   },
   {
    "duration": 7,
    "start_time": "2022-05-19T13:09:16.079Z"
   },
   {
    "duration": 9,
    "start_time": "2022-05-19T13:09:53.834Z"
   },
   {
    "duration": 7,
    "start_time": "2022-05-19T13:13:15.337Z"
   },
   {
    "duration": 10,
    "start_time": "2022-05-19T13:14:34.295Z"
   },
   {
    "duration": 6,
    "start_time": "2022-05-19T13:23:37.156Z"
   },
   {
    "duration": 1492,
    "start_time": "2022-05-19T13:23:55.101Z"
   },
   {
    "duration": 3748,
    "start_time": "2022-05-19T13:23:56.595Z"
   },
   {
    "duration": 27,
    "start_time": "2022-05-19T13:24:00.345Z"
   },
   {
    "duration": 221,
    "start_time": "2022-05-19T13:24:00.374Z"
   },
   {
    "duration": 17,
    "start_time": "2022-05-19T13:24:00.597Z"
   },
   {
    "duration": 137,
    "start_time": "2022-05-19T13:24:00.617Z"
   },
   {
    "duration": 301,
    "start_time": "2022-05-19T13:24:00.755Z"
   },
   {
    "duration": 38189,
    "start_time": "2022-05-19T13:24:01.058Z"
   },
   {
    "duration": 8,
    "start_time": "2022-05-19T13:24:39.249Z"
   },
   {
    "duration": 30,
    "start_time": "2022-05-19T13:24:39.260Z"
   },
   {
    "duration": 12,
    "start_time": "2022-05-19T13:24:39.306Z"
   },
   {
    "duration": 0,
    "start_time": "2022-05-19T13:24:39.319Z"
   },
   {
    "duration": 0,
    "start_time": "2022-05-19T13:24:39.320Z"
   },
   {
    "duration": 0,
    "start_time": "2022-05-19T13:24:39.322Z"
   },
   {
    "duration": 0,
    "start_time": "2022-05-19T13:24:39.323Z"
   },
   {
    "duration": 0,
    "start_time": "2022-05-19T13:24:39.324Z"
   },
   {
    "duration": 0,
    "start_time": "2022-05-19T13:24:39.324Z"
   },
   {
    "duration": 0,
    "start_time": "2022-05-19T13:24:39.325Z"
   },
   {
    "duration": 0,
    "start_time": "2022-05-19T13:24:39.326Z"
   },
   {
    "duration": 0,
    "start_time": "2022-05-19T13:24:39.327Z"
   },
   {
    "duration": 0,
    "start_time": "2022-05-19T13:24:39.327Z"
   },
   {
    "duration": 0,
    "start_time": "2022-05-19T13:24:39.328Z"
   },
   {
    "duration": 0,
    "start_time": "2022-05-19T13:24:39.329Z"
   },
   {
    "duration": 39,
    "start_time": "2022-05-19T13:42:14.261Z"
   },
   {
    "duration": 10093,
    "start_time": "2022-05-19T13:42:16.392Z"
   },
   {
    "duration": 13247,
    "start_time": "2022-05-19T13:42:53.877Z"
   },
   {
    "duration": 52,
    "start_time": "2022-05-19T13:44:15.980Z"
   },
   {
    "duration": 3398,
    "start_time": "2022-05-19T13:44:25.352Z"
   },
   {
    "duration": 38,
    "start_time": "2022-05-19T13:44:33.989Z"
   },
   {
    "duration": 4753,
    "start_time": "2022-05-19T13:44:41.997Z"
   },
   {
    "duration": 7957,
    "start_time": "2022-05-19T13:46:23.452Z"
   },
   {
    "duration": 9,
    "start_time": "2022-05-19T13:49:46.750Z"
   },
   {
    "duration": 49,
    "start_time": "2022-05-19T13:49:55.392Z"
   },
   {
    "duration": 1398,
    "start_time": "2022-05-19T13:50:45.187Z"
   },
   {
    "duration": 3651,
    "start_time": "2022-05-19T13:50:46.587Z"
   },
   {
    "duration": 26,
    "start_time": "2022-05-19T13:50:50.240Z"
   },
   {
    "duration": 210,
    "start_time": "2022-05-19T13:50:50.269Z"
   },
   {
    "duration": 6,
    "start_time": "2022-05-19T13:50:50.481Z"
   },
   {
    "duration": 141,
    "start_time": "2022-05-19T13:50:50.489Z"
   },
   {
    "duration": 257,
    "start_time": "2022-05-19T13:50:50.632Z"
   },
   {
    "duration": 36114,
    "start_time": "2022-05-19T13:50:50.891Z"
   },
   {
    "duration": 9,
    "start_time": "2022-05-19T13:51:27.006Z"
   },
   {
    "duration": 27,
    "start_time": "2022-05-19T13:51:27.017Z"
   },
   {
    "duration": 29,
    "start_time": "2022-05-19T13:51:27.045Z"
   },
   {
    "duration": 10900,
    "start_time": "2022-05-19T13:51:27.076Z"
   },
   {
    "duration": 13553,
    "start_time": "2022-05-19T13:51:37.978Z"
   },
   {
    "duration": 3447,
    "start_time": "2022-05-19T13:51:51.532Z"
   },
   {
    "duration": 4753,
    "start_time": "2022-05-19T13:51:54.980Z"
   },
   {
    "duration": 8121,
    "start_time": "2022-05-19T13:51:59.734Z"
   },
   {
    "duration": 1999,
    "start_time": "2022-05-19T18:58:07.978Z"
   },
   {
    "duration": 3072,
    "start_time": "2022-05-19T18:58:09.980Z"
   },
   {
    "duration": 39,
    "start_time": "2022-05-19T18:58:13.054Z"
   },
   {
    "duration": 294,
    "start_time": "2022-05-19T18:58:13.096Z"
   },
   {
    "duration": 9,
    "start_time": "2022-05-19T18:58:13.396Z"
   },
   {
    "duration": 237,
    "start_time": "2022-05-19T18:58:13.407Z"
   },
   {
    "duration": 398,
    "start_time": "2022-05-19T18:58:13.646Z"
   },
   {
    "duration": 44823,
    "start_time": "2022-05-19T18:58:14.047Z"
   },
   {
    "duration": 11,
    "start_time": "2022-05-19T18:58:58.877Z"
   },
   {
    "duration": 43,
    "start_time": "2022-05-19T18:58:58.889Z"
   },
   {
    "duration": 58,
    "start_time": "2022-05-19T18:58:58.934Z"
   },
   {
    "duration": 14642,
    "start_time": "2022-05-19T18:58:58.995Z"
   },
   {
    "duration": 13472,
    "start_time": "2022-05-19T18:59:13.639Z"
   },
   {
    "duration": 4819,
    "start_time": "2022-05-19T18:59:27.114Z"
   },
   {
    "duration": 6104,
    "start_time": "2022-05-19T18:59:31.935Z"
   },
   {
    "duration": 10768,
    "start_time": "2022-05-19T18:59:38.041Z"
   },
   {
    "duration": 2945,
    "start_time": "2022-05-19T19:02:20.584Z"
   },
   {
    "duration": 2247,
    "start_time": "2022-05-19T19:02:23.531Z"
   },
   {
    "duration": 33,
    "start_time": "2022-05-19T19:02:25.780Z"
   },
   {
    "duration": 257,
    "start_time": "2022-05-19T19:02:25.815Z"
   },
   {
    "duration": 6,
    "start_time": "2022-05-19T19:02:26.074Z"
   },
   {
    "duration": 161,
    "start_time": "2022-05-19T19:02:26.082Z"
   },
   {
    "duration": 323,
    "start_time": "2022-05-19T19:02:26.245Z"
   },
   {
    "duration": 39420,
    "start_time": "2022-05-19T19:02:26.570Z"
   },
   {
    "duration": 8,
    "start_time": "2022-05-19T19:03:05.992Z"
   },
   {
    "duration": 36,
    "start_time": "2022-05-19T19:03:06.004Z"
   },
   {
    "duration": 56,
    "start_time": "2022-05-19T19:03:06.043Z"
   },
   {
    "duration": 11379,
    "start_time": "2022-05-19T19:03:06.102Z"
   },
   {
    "duration": 13518,
    "start_time": "2022-05-19T19:03:17.482Z"
   },
   {
    "duration": 4142,
    "start_time": "2022-05-19T19:03:31.002Z"
   },
   {
    "duration": 5402,
    "start_time": "2022-05-19T19:03:35.146Z"
   },
   {
    "duration": 8486,
    "start_time": "2022-05-19T19:03:40.549Z"
   },
   {
    "duration": 183660,
    "start_time": "2022-05-19T19:03:49.037Z"
   },
   {
    "duration": 102,
    "start_time": "2022-05-19T19:06:52.699Z"
   },
   {
    "duration": 9,
    "start_time": "2022-05-19T19:06:52.803Z"
   }
  ],
  "kernelspec": {
   "display_name": "Python 3 (ipykernel)",
   "language": "python",
   "name": "python3"
  },
  "language_info": {
   "codemirror_mode": {
    "name": "ipython",
    "version": 3
   },
   "file_extension": ".py",
   "mimetype": "text/x-python",
   "name": "python",
   "nbconvert_exporter": "python",
   "pygments_lexer": "ipython3",
   "version": "3.9.5"
  },
  "toc": {
   "base_numbering": 1,
   "nav_menu": {},
   "number_sections": true,
   "sideBar": true,
   "skip_h1_title": true,
   "title_cell": "Содержание",
   "title_sidebar": "Contents",
   "toc_cell": true,
   "toc_position": {
    "height": "calc(100% - 180px)",
    "left": "10px",
    "top": "150px",
    "width": "302.391px"
   },
   "toc_section_display": true,
   "toc_window_display": false
  }
 },
 "nbformat": 4,
 "nbformat_minor": 2
}
