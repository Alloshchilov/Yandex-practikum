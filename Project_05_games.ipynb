{
 "cells": [
  {
   "cell_type": "markdown",
   "metadata": {},
   "source": [
    "**Описание проекта**\n",
    "\n",
    "Вы работаете в интернет-магазине «Стримчик», который продаёт по всему миру компьютерные игры. Из открытых источников доступны исторические данные о продажах игр, оценки пользователей и экспертов, жанры и платформы (например, Xbox или PlayStation). Вам нужно выявить определяющие успешность игры закономерности. Это позволит сделать ставку на потенциально популярный продукт и спланировать рекламные кампании."
   ]
  },
  {
   "cell_type": "markdown",
   "metadata": {},
   "source": [
    "В ходе работы над проектом я постараюсь выявить закономерности, позволяющие определить успешность игр.\n",
    "Для этого я определю средний срок жизни разных платформ, а также актуальные на данный момент платформы. Составлю портрет пользователя в разных регионах мира. \n",
    "В моём распоряжение есть датасет с данными о продаже игр до 2016г со следующими столбцами:\n",
    "\n",
    "* Name — название игры\n",
    "* Platform — платформа\n",
    "* Year_of_Release — год выпуска\n",
    "* Genre — жанр игры\n",
    "* NA_sales — продажи в Северной Америке (миллионы проданных копий)\n",
    "* EU_sales — продажи в Европе (миллионы проданных копий)\n",
    "* JP_sales — продажи в Японии (миллионы проданных копий)\n",
    "* Other_sales — продажи в других странах (миллионы проданных копий)\n",
    "* Critic_Score — оценка критиков (максимум 100)\n",
    "* User_Score — оценка пользователей (максимум 10)\n",
    "* Rating — рейтинг от организации ESRB (англ. Entertainment Software Rating Board). Эта ассоциация определяет рейтинг компьютерных игр и присваивает им подходящую возрастную категорию."
   ]
  },
  {
   "cell_type": "code",
   "execution_count": 167,
   "metadata": {},
   "outputs": [],
   "source": [
    "#импортируем необходимые библиотеки\n",
    "import pandas as pd\n",
    "import seaborn as sns\n",
    "import matplotlib.pyplot as plt\n",
    "from scipy import stats as st\n",
    "import numpy as np"
   ]
  },
  {
   "cell_type": "code",
   "execution_count": 168,
   "metadata": {},
   "outputs": [],
   "source": [
    "pd.set_option('display.float_format', '{:,.2f}'.format)"
   ]
  },
  {
   "cell_type": "code",
   "execution_count": 169,
   "metadata": {},
   "outputs": [],
   "source": [
    "#импортируем данные\n",
    "try:\n",
    "    data = pd.read_csv('/datasets/games.csv')\n",
    "except:\n",
    "    print('Ошибка. Проверьте правильность пути к данным')"
   ]
  },
  {
   "cell_type": "markdown",
   "metadata": {},
   "source": [
    "<font size=\"4\">Подготовка данных:</font>"
   ]
  },
  {
   "cell_type": "code",
   "execution_count": 170,
   "metadata": {},
   "outputs": [
    {
     "data": {
      "text/html": [
       "<div>\n",
       "<style scoped>\n",
       "    .dataframe tbody tr th:only-of-type {\n",
       "        vertical-align: middle;\n",
       "    }\n",
       "\n",
       "    .dataframe tbody tr th {\n",
       "        vertical-align: top;\n",
       "    }\n",
       "\n",
       "    .dataframe thead th {\n",
       "        text-align: right;\n",
       "    }\n",
       "</style>\n",
       "<table border=\"1\" class=\"dataframe\">\n",
       "  <thead>\n",
       "    <tr style=\"text-align: right;\">\n",
       "      <th></th>\n",
       "      <th>Name</th>\n",
       "      <th>Platform</th>\n",
       "      <th>Year_of_Release</th>\n",
       "      <th>Genre</th>\n",
       "      <th>NA_sales</th>\n",
       "      <th>EU_sales</th>\n",
       "      <th>JP_sales</th>\n",
       "      <th>Other_sales</th>\n",
       "      <th>Critic_Score</th>\n",
       "      <th>User_Score</th>\n",
       "      <th>Rating</th>\n",
       "    </tr>\n",
       "  </thead>\n",
       "  <tbody>\n",
       "    <tr>\n",
       "      <td>0</td>\n",
       "      <td>Wii Sports</td>\n",
       "      <td>Wii</td>\n",
       "      <td>2,006.00</td>\n",
       "      <td>Sports</td>\n",
       "      <td>41.36</td>\n",
       "      <td>28.96</td>\n",
       "      <td>3.77</td>\n",
       "      <td>8.45</td>\n",
       "      <td>76.00</td>\n",
       "      <td>8</td>\n",
       "      <td>E</td>\n",
       "    </tr>\n",
       "    <tr>\n",
       "      <td>1</td>\n",
       "      <td>Super Mario Bros.</td>\n",
       "      <td>NES</td>\n",
       "      <td>1,985.00</td>\n",
       "      <td>Platform</td>\n",
       "      <td>29.08</td>\n",
       "      <td>3.58</td>\n",
       "      <td>6.81</td>\n",
       "      <td>0.77</td>\n",
       "      <td>nan</td>\n",
       "      <td>NaN</td>\n",
       "      <td>NaN</td>\n",
       "    </tr>\n",
       "    <tr>\n",
       "      <td>2</td>\n",
       "      <td>Mario Kart Wii</td>\n",
       "      <td>Wii</td>\n",
       "      <td>2,008.00</td>\n",
       "      <td>Racing</td>\n",
       "      <td>15.68</td>\n",
       "      <td>12.76</td>\n",
       "      <td>3.79</td>\n",
       "      <td>3.29</td>\n",
       "      <td>82.00</td>\n",
       "      <td>8.3</td>\n",
       "      <td>E</td>\n",
       "    </tr>\n",
       "    <tr>\n",
       "      <td>3</td>\n",
       "      <td>Wii Sports Resort</td>\n",
       "      <td>Wii</td>\n",
       "      <td>2,009.00</td>\n",
       "      <td>Sports</td>\n",
       "      <td>15.61</td>\n",
       "      <td>10.93</td>\n",
       "      <td>3.28</td>\n",
       "      <td>2.95</td>\n",
       "      <td>80.00</td>\n",
       "      <td>8</td>\n",
       "      <td>E</td>\n",
       "    </tr>\n",
       "    <tr>\n",
       "      <td>4</td>\n",
       "      <td>Pokemon Red/Pokemon Blue</td>\n",
       "      <td>GB</td>\n",
       "      <td>1,996.00</td>\n",
       "      <td>Role-Playing</td>\n",
       "      <td>11.27</td>\n",
       "      <td>8.89</td>\n",
       "      <td>10.22</td>\n",
       "      <td>1.00</td>\n",
       "      <td>nan</td>\n",
       "      <td>NaN</td>\n",
       "      <td>NaN</td>\n",
       "    </tr>\n",
       "    <tr>\n",
       "      <td>5</td>\n",
       "      <td>Tetris</td>\n",
       "      <td>GB</td>\n",
       "      <td>1,989.00</td>\n",
       "      <td>Puzzle</td>\n",
       "      <td>23.20</td>\n",
       "      <td>2.26</td>\n",
       "      <td>4.22</td>\n",
       "      <td>0.58</td>\n",
       "      <td>nan</td>\n",
       "      <td>NaN</td>\n",
       "      <td>NaN</td>\n",
       "    </tr>\n",
       "    <tr>\n",
       "      <td>6</td>\n",
       "      <td>New Super Mario Bros.</td>\n",
       "      <td>DS</td>\n",
       "      <td>2,006.00</td>\n",
       "      <td>Platform</td>\n",
       "      <td>11.28</td>\n",
       "      <td>9.14</td>\n",
       "      <td>6.50</td>\n",
       "      <td>2.88</td>\n",
       "      <td>89.00</td>\n",
       "      <td>8.5</td>\n",
       "      <td>E</td>\n",
       "    </tr>\n",
       "    <tr>\n",
       "      <td>7</td>\n",
       "      <td>Wii Play</td>\n",
       "      <td>Wii</td>\n",
       "      <td>2,006.00</td>\n",
       "      <td>Misc</td>\n",
       "      <td>13.96</td>\n",
       "      <td>9.18</td>\n",
       "      <td>2.93</td>\n",
       "      <td>2.84</td>\n",
       "      <td>58.00</td>\n",
       "      <td>6.6</td>\n",
       "      <td>E</td>\n",
       "    </tr>\n",
       "    <tr>\n",
       "      <td>8</td>\n",
       "      <td>New Super Mario Bros. Wii</td>\n",
       "      <td>Wii</td>\n",
       "      <td>2,009.00</td>\n",
       "      <td>Platform</td>\n",
       "      <td>14.44</td>\n",
       "      <td>6.94</td>\n",
       "      <td>4.70</td>\n",
       "      <td>2.24</td>\n",
       "      <td>87.00</td>\n",
       "      <td>8.4</td>\n",
       "      <td>E</td>\n",
       "    </tr>\n",
       "    <tr>\n",
       "      <td>9</td>\n",
       "      <td>Duck Hunt</td>\n",
       "      <td>NES</td>\n",
       "      <td>1,984.00</td>\n",
       "      <td>Shooter</td>\n",
       "      <td>26.93</td>\n",
       "      <td>0.63</td>\n",
       "      <td>0.28</td>\n",
       "      <td>0.47</td>\n",
       "      <td>nan</td>\n",
       "      <td>NaN</td>\n",
       "      <td>NaN</td>\n",
       "    </tr>\n",
       "  </tbody>\n",
       "</table>\n",
       "</div>"
      ],
      "text/plain": [
       "                        Name Platform  Year_of_Release         Genre  \\\n",
       "0                 Wii Sports      Wii         2,006.00        Sports   \n",
       "1          Super Mario Bros.      NES         1,985.00      Platform   \n",
       "2             Mario Kart Wii      Wii         2,008.00        Racing   \n",
       "3          Wii Sports Resort      Wii         2,009.00        Sports   \n",
       "4   Pokemon Red/Pokemon Blue       GB         1,996.00  Role-Playing   \n",
       "5                     Tetris       GB         1,989.00        Puzzle   \n",
       "6      New Super Mario Bros.       DS         2,006.00      Platform   \n",
       "7                   Wii Play      Wii         2,006.00          Misc   \n",
       "8  New Super Mario Bros. Wii      Wii         2,009.00      Platform   \n",
       "9                  Duck Hunt      NES         1,984.00       Shooter   \n",
       "\n",
       "   NA_sales  EU_sales  JP_sales  Other_sales  Critic_Score User_Score Rating  \n",
       "0     41.36     28.96      3.77         8.45         76.00          8      E  \n",
       "1     29.08      3.58      6.81         0.77           nan        NaN    NaN  \n",
       "2     15.68     12.76      3.79         3.29         82.00        8.3      E  \n",
       "3     15.61     10.93      3.28         2.95         80.00          8      E  \n",
       "4     11.27      8.89     10.22         1.00           nan        NaN    NaN  \n",
       "5     23.20      2.26      4.22         0.58           nan        NaN    NaN  \n",
       "6     11.28      9.14      6.50         2.88         89.00        8.5      E  \n",
       "7     13.96      9.18      2.93         2.84         58.00        6.6      E  \n",
       "8     14.44      6.94      4.70         2.24         87.00        8.4      E  \n",
       "9     26.93      0.63      0.28         0.47           nan        NaN    NaN  "
      ]
     },
     "execution_count": 170,
     "metadata": {},
     "output_type": "execute_result"
    }
   ],
   "source": [
    "data.head(10)"
   ]
  },
  {
   "cell_type": "code",
   "execution_count": 171,
   "metadata": {},
   "outputs": [
    {
     "name": "stdout",
     "output_type": "stream",
     "text": [
      "<class 'pandas.core.frame.DataFrame'>\n",
      "RangeIndex: 16715 entries, 0 to 16714\n",
      "Data columns (total 11 columns):\n",
      "Name               16713 non-null object\n",
      "Platform           16715 non-null object\n",
      "Year_of_Release    16446 non-null float64\n",
      "Genre              16713 non-null object\n",
      "NA_sales           16715 non-null float64\n",
      "EU_sales           16715 non-null float64\n",
      "JP_sales           16715 non-null float64\n",
      "Other_sales        16715 non-null float64\n",
      "Critic_Score       8137 non-null float64\n",
      "User_Score         10014 non-null object\n",
      "Rating             9949 non-null object\n",
      "dtypes: float64(6), object(5)\n",
      "memory usage: 1.4+ MB\n"
     ]
    }
   ],
   "source": [
    "data.info()"
   ]
  },
  {
   "cell_type": "code",
   "execution_count": 172,
   "metadata": {},
   "outputs": [
    {
     "data": {
      "text/html": [
       "<div>\n",
       "<style scoped>\n",
       "    .dataframe tbody tr th:only-of-type {\n",
       "        vertical-align: middle;\n",
       "    }\n",
       "\n",
       "    .dataframe tbody tr th {\n",
       "        vertical-align: top;\n",
       "    }\n",
       "\n",
       "    .dataframe thead th {\n",
       "        text-align: right;\n",
       "    }\n",
       "</style>\n",
       "<table border=\"1\" class=\"dataframe\">\n",
       "  <thead>\n",
       "    <tr style=\"text-align: right;\">\n",
       "      <th></th>\n",
       "      <th>Year_of_Release</th>\n",
       "      <th>NA_sales</th>\n",
       "      <th>EU_sales</th>\n",
       "      <th>JP_sales</th>\n",
       "      <th>Other_sales</th>\n",
       "      <th>Critic_Score</th>\n",
       "    </tr>\n",
       "  </thead>\n",
       "  <tbody>\n",
       "    <tr>\n",
       "      <td>count</td>\n",
       "      <td>16,446.00</td>\n",
       "      <td>16,715.00</td>\n",
       "      <td>16,715.00</td>\n",
       "      <td>16,715.00</td>\n",
       "      <td>16,715.00</td>\n",
       "      <td>8,137.00</td>\n",
       "    </tr>\n",
       "    <tr>\n",
       "      <td>mean</td>\n",
       "      <td>2,006.48</td>\n",
       "      <td>0.26</td>\n",
       "      <td>0.15</td>\n",
       "      <td>0.08</td>\n",
       "      <td>0.05</td>\n",
       "      <td>68.97</td>\n",
       "    </tr>\n",
       "    <tr>\n",
       "      <td>std</td>\n",
       "      <td>5.88</td>\n",
       "      <td>0.81</td>\n",
       "      <td>0.50</td>\n",
       "      <td>0.31</td>\n",
       "      <td>0.19</td>\n",
       "      <td>13.94</td>\n",
       "    </tr>\n",
       "    <tr>\n",
       "      <td>min</td>\n",
       "      <td>1,980.00</td>\n",
       "      <td>0.00</td>\n",
       "      <td>0.00</td>\n",
       "      <td>0.00</td>\n",
       "      <td>0.00</td>\n",
       "      <td>13.00</td>\n",
       "    </tr>\n",
       "    <tr>\n",
       "      <td>25%</td>\n",
       "      <td>2,003.00</td>\n",
       "      <td>0.00</td>\n",
       "      <td>0.00</td>\n",
       "      <td>0.00</td>\n",
       "      <td>0.00</td>\n",
       "      <td>60.00</td>\n",
       "    </tr>\n",
       "    <tr>\n",
       "      <td>50%</td>\n",
       "      <td>2,007.00</td>\n",
       "      <td>0.08</td>\n",
       "      <td>0.02</td>\n",
       "      <td>0.00</td>\n",
       "      <td>0.01</td>\n",
       "      <td>71.00</td>\n",
       "    </tr>\n",
       "    <tr>\n",
       "      <td>75%</td>\n",
       "      <td>2,010.00</td>\n",
       "      <td>0.24</td>\n",
       "      <td>0.11</td>\n",
       "      <td>0.04</td>\n",
       "      <td>0.03</td>\n",
       "      <td>79.00</td>\n",
       "    </tr>\n",
       "    <tr>\n",
       "      <td>max</td>\n",
       "      <td>2,016.00</td>\n",
       "      <td>41.36</td>\n",
       "      <td>28.96</td>\n",
       "      <td>10.22</td>\n",
       "      <td>10.57</td>\n",
       "      <td>98.00</td>\n",
       "    </tr>\n",
       "  </tbody>\n",
       "</table>\n",
       "</div>"
      ],
      "text/plain": [
       "       Year_of_Release  NA_sales  EU_sales  JP_sales  Other_sales  \\\n",
       "count        16,446.00 16,715.00 16,715.00 16,715.00    16,715.00   \n",
       "mean          2,006.48      0.26      0.15      0.08         0.05   \n",
       "std               5.88      0.81      0.50      0.31         0.19   \n",
       "min           1,980.00      0.00      0.00      0.00         0.00   \n",
       "25%           2,003.00      0.00      0.00      0.00         0.00   \n",
       "50%           2,007.00      0.08      0.02      0.00         0.01   \n",
       "75%           2,010.00      0.24      0.11      0.04         0.03   \n",
       "max           2,016.00     41.36     28.96     10.22        10.57   \n",
       "\n",
       "       Critic_Score  \n",
       "count      8,137.00  \n",
       "mean          68.97  \n",
       "std           13.94  \n",
       "min           13.00  \n",
       "25%           60.00  \n",
       "50%           71.00  \n",
       "75%           79.00  \n",
       "max           98.00  "
      ]
     },
     "execution_count": 172,
     "metadata": {},
     "output_type": "execute_result"
    }
   ],
   "source": [
    "data.describe()"
   ]
  },
  {
   "cell_type": "code",
   "execution_count": 173,
   "metadata": {},
   "outputs": [
    {
     "data": {
      "text/html": [
       "<div>\n",
       "<style scoped>\n",
       "    .dataframe tbody tr th:only-of-type {\n",
       "        vertical-align: middle;\n",
       "    }\n",
       "\n",
       "    .dataframe tbody tr th {\n",
       "        vertical-align: top;\n",
       "    }\n",
       "\n",
       "    .dataframe thead th {\n",
       "        text-align: right;\n",
       "    }\n",
       "</style>\n",
       "<table border=\"1\" class=\"dataframe\">\n",
       "  <thead>\n",
       "    <tr style=\"text-align: right;\">\n",
       "      <th></th>\n",
       "      <th>Name</th>\n",
       "      <th>Platform</th>\n",
       "      <th>Genre</th>\n",
       "      <th>User_Score</th>\n",
       "      <th>Rating</th>\n",
       "    </tr>\n",
       "  </thead>\n",
       "  <tbody>\n",
       "    <tr>\n",
       "      <td>count</td>\n",
       "      <td>16713</td>\n",
       "      <td>16715</td>\n",
       "      <td>16713</td>\n",
       "      <td>10014</td>\n",
       "      <td>9949</td>\n",
       "    </tr>\n",
       "    <tr>\n",
       "      <td>unique</td>\n",
       "      <td>11559</td>\n",
       "      <td>31</td>\n",
       "      <td>12</td>\n",
       "      <td>96</td>\n",
       "      <td>8</td>\n",
       "    </tr>\n",
       "    <tr>\n",
       "      <td>top</td>\n",
       "      <td>Need for Speed: Most Wanted</td>\n",
       "      <td>PS2</td>\n",
       "      <td>Action</td>\n",
       "      <td>tbd</td>\n",
       "      <td>E</td>\n",
       "    </tr>\n",
       "    <tr>\n",
       "      <td>freq</td>\n",
       "      <td>12</td>\n",
       "      <td>2161</td>\n",
       "      <td>3369</td>\n",
       "      <td>2424</td>\n",
       "      <td>3990</td>\n",
       "    </tr>\n",
       "  </tbody>\n",
       "</table>\n",
       "</div>"
      ],
      "text/plain": [
       "                               Name Platform   Genre User_Score Rating\n",
       "count                         16713    16715   16713      10014   9949\n",
       "unique                        11559       31      12         96      8\n",
       "top     Need for Speed: Most Wanted      PS2  Action        tbd      E\n",
       "freq                             12     2161    3369       2424   3990"
      ]
     },
     "execution_count": 173,
     "metadata": {},
     "output_type": "execute_result"
    }
   ],
   "source": [
    "data.describe(include=[object])"
   ]
  },
  {
   "cell_type": "code",
   "execution_count": 174,
   "metadata": {},
   "outputs": [
    {
     "data": {
      "text/html": [
       "<style  type=\"text/css\" >\n",
       "    #T_f8cc0e54_88e8_11ec_9a73_02420a39e83arow0_col0 {\n",
       "            background-color:  #3b4cc0;\n",
       "            color:  #f1f1f1;\n",
       "        }    #T_f8cc0e54_88e8_11ec_9a73_02420a39e83arow1_col0 {\n",
       "            background-color:  #3b4cc0;\n",
       "            color:  #f1f1f1;\n",
       "        }    #T_f8cc0e54_88e8_11ec_9a73_02420a39e83arow2_col0 {\n",
       "            background-color:  #445acc;\n",
       "            color:  #f1f1f1;\n",
       "        }    #T_f8cc0e54_88e8_11ec_9a73_02420a39e83arow3_col0 {\n",
       "            background-color:  #3b4cc0;\n",
       "            color:  #f1f1f1;\n",
       "        }    #T_f8cc0e54_88e8_11ec_9a73_02420a39e83arow4_col0 {\n",
       "            background-color:  #3b4cc0;\n",
       "            color:  #f1f1f1;\n",
       "        }    #T_f8cc0e54_88e8_11ec_9a73_02420a39e83arow5_col0 {\n",
       "            background-color:  #3b4cc0;\n",
       "            color:  #f1f1f1;\n",
       "        }    #T_f8cc0e54_88e8_11ec_9a73_02420a39e83arow6_col0 {\n",
       "            background-color:  #3b4cc0;\n",
       "            color:  #f1f1f1;\n",
       "        }    #T_f8cc0e54_88e8_11ec_9a73_02420a39e83arow7_col0 {\n",
       "            background-color:  #3b4cc0;\n",
       "            color:  #f1f1f1;\n",
       "        }    #T_f8cc0e54_88e8_11ec_9a73_02420a39e83arow8_col0 {\n",
       "            background-color:  #b40426;\n",
       "            color:  #f1f1f1;\n",
       "        }    #T_f8cc0e54_88e8_11ec_9a73_02420a39e83arow9_col0 {\n",
       "            background-color:  #f18d6f;\n",
       "            color:  #000000;\n",
       "        }    #T_f8cc0e54_88e8_11ec_9a73_02420a39e83arow10_col0 {\n",
       "            background-color:  #f08a6c;\n",
       "            color:  #000000;\n",
       "        }</style><table id=\"T_f8cc0e54_88e8_11ec_9a73_02420a39e83a\" ><thead>    <tr>        <th class=\"blank level0\" ></th>        <th class=\"col_heading level0 col0\" >0</th>    </tr></thead><tbody>\n",
       "                <tr>\n",
       "                        <th id=\"T_f8cc0e54_88e8_11ec_9a73_02420a39e83alevel0_row0\" class=\"row_heading level0 row0\" >Name</th>\n",
       "                        <td id=\"T_f8cc0e54_88e8_11ec_9a73_02420a39e83arow0_col0\" class=\"data row0 col0\" >0.01</td>\n",
       "            </tr>\n",
       "            <tr>\n",
       "                        <th id=\"T_f8cc0e54_88e8_11ec_9a73_02420a39e83alevel0_row1\" class=\"row_heading level0 row1\" >Platform</th>\n",
       "                        <td id=\"T_f8cc0e54_88e8_11ec_9a73_02420a39e83arow1_col0\" class=\"data row1 col0\" >0</td>\n",
       "            </tr>\n",
       "            <tr>\n",
       "                        <th id=\"T_f8cc0e54_88e8_11ec_9a73_02420a39e83alevel0_row2\" class=\"row_heading level0 row2\" >Year_of_Release</th>\n",
       "                        <td id=\"T_f8cc0e54_88e8_11ec_9a73_02420a39e83arow2_col0\" class=\"data row2 col0\" >1.61</td>\n",
       "            </tr>\n",
       "            <tr>\n",
       "                        <th id=\"T_f8cc0e54_88e8_11ec_9a73_02420a39e83alevel0_row3\" class=\"row_heading level0 row3\" >Genre</th>\n",
       "                        <td id=\"T_f8cc0e54_88e8_11ec_9a73_02420a39e83arow3_col0\" class=\"data row3 col0\" >0.01</td>\n",
       "            </tr>\n",
       "            <tr>\n",
       "                        <th id=\"T_f8cc0e54_88e8_11ec_9a73_02420a39e83alevel0_row4\" class=\"row_heading level0 row4\" >NA_sales</th>\n",
       "                        <td id=\"T_f8cc0e54_88e8_11ec_9a73_02420a39e83arow4_col0\" class=\"data row4 col0\" >0</td>\n",
       "            </tr>\n",
       "            <tr>\n",
       "                        <th id=\"T_f8cc0e54_88e8_11ec_9a73_02420a39e83alevel0_row5\" class=\"row_heading level0 row5\" >EU_sales</th>\n",
       "                        <td id=\"T_f8cc0e54_88e8_11ec_9a73_02420a39e83arow5_col0\" class=\"data row5 col0\" >0</td>\n",
       "            </tr>\n",
       "            <tr>\n",
       "                        <th id=\"T_f8cc0e54_88e8_11ec_9a73_02420a39e83alevel0_row6\" class=\"row_heading level0 row6\" >JP_sales</th>\n",
       "                        <td id=\"T_f8cc0e54_88e8_11ec_9a73_02420a39e83arow6_col0\" class=\"data row6 col0\" >0</td>\n",
       "            </tr>\n",
       "            <tr>\n",
       "                        <th id=\"T_f8cc0e54_88e8_11ec_9a73_02420a39e83alevel0_row7\" class=\"row_heading level0 row7\" >Other_sales</th>\n",
       "                        <td id=\"T_f8cc0e54_88e8_11ec_9a73_02420a39e83arow7_col0\" class=\"data row7 col0\" >0</td>\n",
       "            </tr>\n",
       "            <tr>\n",
       "                        <th id=\"T_f8cc0e54_88e8_11ec_9a73_02420a39e83alevel0_row8\" class=\"row_heading level0 row8\" >Critic_Score</th>\n",
       "                        <td id=\"T_f8cc0e54_88e8_11ec_9a73_02420a39e83arow8_col0\" class=\"data row8 col0\" >51.32</td>\n",
       "            </tr>\n",
       "            <tr>\n",
       "                        <th id=\"T_f8cc0e54_88e8_11ec_9a73_02420a39e83alevel0_row9\" class=\"row_heading level0 row9\" >User_Score</th>\n",
       "                        <td id=\"T_f8cc0e54_88e8_11ec_9a73_02420a39e83arow9_col0\" class=\"data row9 col0\" >40.09</td>\n",
       "            </tr>\n",
       "            <tr>\n",
       "                        <th id=\"T_f8cc0e54_88e8_11ec_9a73_02420a39e83alevel0_row10\" class=\"row_heading level0 row10\" >Rating</th>\n",
       "                        <td id=\"T_f8cc0e54_88e8_11ec_9a73_02420a39e83arow10_col0\" class=\"data row10 col0\" >40.48</td>\n",
       "            </tr>\n",
       "    </tbody></table>"
      ],
      "text/plain": [
       "<pandas.io.formats.style.Styler at 0x7f7284b26250>"
      ]
     },
     "execution_count": 174,
     "metadata": {},
     "output_type": "execute_result"
    }
   ],
   "source": [
    "#Посмотрим проценты пропущенных значений по столбцам\n",
    "pd.DataFrame(round((data.isna().mean()*100),2)).style.background_gradient('coolwarm')"
   ]
  },
  {
   "cell_type": "markdown",
   "metadata": {},
   "source": [
    "Вывод: Много пропусков в данных о рейтингах. Оставлю эти данные как есть, замена такого объема на медианы исказит картину.\n",
    "Значение tbd в User_Score значит, что у игры пока нет рейтинга и он будет определен позднее. Для нас это значит, что сейчас такие значения можно прировнять к пропускам. \n",
    "Ещё есть небольшой процент пропусков в Year_of_Release, но их я просто удалю"
   ]
  },
  {
   "cell_type": "code",
   "execution_count": 175,
   "metadata": {},
   "outputs": [],
   "source": [
    "#Приведем название столбцов в нижний регистр\n",
    "data.columns = data.columns.str.lower()"
   ]
  },
  {
   "cell_type": "code",
   "execution_count": 176,
   "metadata": {},
   "outputs": [
    {
     "data": {
      "text/html": [
       "<div>\n",
       "<style scoped>\n",
       "    .dataframe tbody tr th:only-of-type {\n",
       "        vertical-align: middle;\n",
       "    }\n",
       "\n",
       "    .dataframe tbody tr th {\n",
       "        vertical-align: top;\n",
       "    }\n",
       "\n",
       "    .dataframe thead th {\n",
       "        text-align: right;\n",
       "    }\n",
       "</style>\n",
       "<table border=\"1\" class=\"dataframe\">\n",
       "  <thead>\n",
       "    <tr style=\"text-align: right;\">\n",
       "      <th></th>\n",
       "      <th>name</th>\n",
       "      <th>platform</th>\n",
       "      <th>year_of_release</th>\n",
       "      <th>genre</th>\n",
       "      <th>na_sales</th>\n",
       "      <th>eu_sales</th>\n",
       "      <th>jp_sales</th>\n",
       "      <th>other_sales</th>\n",
       "      <th>critic_score</th>\n",
       "      <th>user_score</th>\n",
       "      <th>rating</th>\n",
       "    </tr>\n",
       "  </thead>\n",
       "  <tbody>\n",
       "    <tr>\n",
       "      <td>0</td>\n",
       "      <td>Wii Sports</td>\n",
       "      <td>Wii</td>\n",
       "      <td>2,006.00</td>\n",
       "      <td>Sports</td>\n",
       "      <td>41.36</td>\n",
       "      <td>28.96</td>\n",
       "      <td>3.77</td>\n",
       "      <td>8.45</td>\n",
       "      <td>76.00</td>\n",
       "      <td>8</td>\n",
       "      <td>E</td>\n",
       "    </tr>\n",
       "    <tr>\n",
       "      <td>1</td>\n",
       "      <td>Super Mario Bros.</td>\n",
       "      <td>NES</td>\n",
       "      <td>1,985.00</td>\n",
       "      <td>Platform</td>\n",
       "      <td>29.08</td>\n",
       "      <td>3.58</td>\n",
       "      <td>6.81</td>\n",
       "      <td>0.77</td>\n",
       "      <td>nan</td>\n",
       "      <td>NaN</td>\n",
       "      <td>NaN</td>\n",
       "    </tr>\n",
       "    <tr>\n",
       "      <td>2</td>\n",
       "      <td>Mario Kart Wii</td>\n",
       "      <td>Wii</td>\n",
       "      <td>2,008.00</td>\n",
       "      <td>Racing</td>\n",
       "      <td>15.68</td>\n",
       "      <td>12.76</td>\n",
       "      <td>3.79</td>\n",
       "      <td>3.29</td>\n",
       "      <td>82.00</td>\n",
       "      <td>8.3</td>\n",
       "      <td>E</td>\n",
       "    </tr>\n",
       "    <tr>\n",
       "      <td>3</td>\n",
       "      <td>Wii Sports Resort</td>\n",
       "      <td>Wii</td>\n",
       "      <td>2,009.00</td>\n",
       "      <td>Sports</td>\n",
       "      <td>15.61</td>\n",
       "      <td>10.93</td>\n",
       "      <td>3.28</td>\n",
       "      <td>2.95</td>\n",
       "      <td>80.00</td>\n",
       "      <td>8</td>\n",
       "      <td>E</td>\n",
       "    </tr>\n",
       "    <tr>\n",
       "      <td>4</td>\n",
       "      <td>Pokemon Red/Pokemon Blue</td>\n",
       "      <td>GB</td>\n",
       "      <td>1,996.00</td>\n",
       "      <td>Role-Playing</td>\n",
       "      <td>11.27</td>\n",
       "      <td>8.89</td>\n",
       "      <td>10.22</td>\n",
       "      <td>1.00</td>\n",
       "      <td>nan</td>\n",
       "      <td>NaN</td>\n",
       "      <td>NaN</td>\n",
       "    </tr>\n",
       "  </tbody>\n",
       "</table>\n",
       "</div>"
      ],
      "text/plain": [
       "                       name platform  year_of_release         genre  na_sales  \\\n",
       "0                Wii Sports      Wii         2,006.00        Sports     41.36   \n",
       "1         Super Mario Bros.      NES         1,985.00      Platform     29.08   \n",
       "2            Mario Kart Wii      Wii         2,008.00        Racing     15.68   \n",
       "3         Wii Sports Resort      Wii         2,009.00        Sports     15.61   \n",
       "4  Pokemon Red/Pokemon Blue       GB         1,996.00  Role-Playing     11.27   \n",
       "\n",
       "   eu_sales  jp_sales  other_sales  critic_score user_score rating  \n",
       "0     28.96      3.77         8.45         76.00          8      E  \n",
       "1      3.58      6.81         0.77           nan        NaN    NaN  \n",
       "2     12.76      3.79         3.29         82.00        8.3      E  \n",
       "3     10.93      3.28         2.95         80.00          8      E  \n",
       "4      8.89     10.22         1.00           nan        NaN    NaN  "
      ]
     },
     "execution_count": 176,
     "metadata": {},
     "output_type": "execute_result"
    }
   ],
   "source": [
    "data.head()"
   ]
  },
  {
   "cell_type": "code",
   "execution_count": 177,
   "metadata": {},
   "outputs": [],
   "source": [
    "#Заменю пропущенные значения в year_of_release к 0, чтобы можно было привести тип данных к целочисленному.\n",
    "data['year_of_release'] = data['year_of_release'].fillna(0).astype('int')"
   ]
  },
  {
   "cell_type": "code",
   "execution_count": 178,
   "metadata": {},
   "outputs": [
    {
     "data": {
      "text/html": [
       "<div>\n",
       "<style scoped>\n",
       "    .dataframe tbody tr th:only-of-type {\n",
       "        vertical-align: middle;\n",
       "    }\n",
       "\n",
       "    .dataframe tbody tr th {\n",
       "        vertical-align: top;\n",
       "    }\n",
       "\n",
       "    .dataframe thead th {\n",
       "        text-align: right;\n",
       "    }\n",
       "</style>\n",
       "<table border=\"1\" class=\"dataframe\">\n",
       "  <thead>\n",
       "    <tr style=\"text-align: right;\">\n",
       "      <th></th>\n",
       "      <th>name</th>\n",
       "      <th>platform</th>\n",
       "      <th>year_of_release</th>\n",
       "      <th>genre</th>\n",
       "      <th>na_sales</th>\n",
       "      <th>eu_sales</th>\n",
       "      <th>jp_sales</th>\n",
       "      <th>other_sales</th>\n",
       "      <th>critic_score</th>\n",
       "      <th>user_score</th>\n",
       "      <th>rating</th>\n",
       "    </tr>\n",
       "  </thead>\n",
       "  <tbody>\n",
       "    <tr>\n",
       "      <td>0</td>\n",
       "      <td>Wii Sports</td>\n",
       "      <td>Wii</td>\n",
       "      <td>2006</td>\n",
       "      <td>Sports</td>\n",
       "      <td>41.36</td>\n",
       "      <td>28.96</td>\n",
       "      <td>3.77</td>\n",
       "      <td>8.45</td>\n",
       "      <td>76.00</td>\n",
       "      <td>8</td>\n",
       "      <td>E</td>\n",
       "    </tr>\n",
       "    <tr>\n",
       "      <td>1</td>\n",
       "      <td>Super Mario Bros.</td>\n",
       "      <td>NES</td>\n",
       "      <td>1985</td>\n",
       "      <td>Platform</td>\n",
       "      <td>29.08</td>\n",
       "      <td>3.58</td>\n",
       "      <td>6.81</td>\n",
       "      <td>0.77</td>\n",
       "      <td>nan</td>\n",
       "      <td>NaN</td>\n",
       "      <td>NaN</td>\n",
       "    </tr>\n",
       "    <tr>\n",
       "      <td>2</td>\n",
       "      <td>Mario Kart Wii</td>\n",
       "      <td>Wii</td>\n",
       "      <td>2008</td>\n",
       "      <td>Racing</td>\n",
       "      <td>15.68</td>\n",
       "      <td>12.76</td>\n",
       "      <td>3.79</td>\n",
       "      <td>3.29</td>\n",
       "      <td>82.00</td>\n",
       "      <td>8.3</td>\n",
       "      <td>E</td>\n",
       "    </tr>\n",
       "    <tr>\n",
       "      <td>3</td>\n",
       "      <td>Wii Sports Resort</td>\n",
       "      <td>Wii</td>\n",
       "      <td>2009</td>\n",
       "      <td>Sports</td>\n",
       "      <td>15.61</td>\n",
       "      <td>10.93</td>\n",
       "      <td>3.28</td>\n",
       "      <td>2.95</td>\n",
       "      <td>80.00</td>\n",
       "      <td>8</td>\n",
       "      <td>E</td>\n",
       "    </tr>\n",
       "    <tr>\n",
       "      <td>4</td>\n",
       "      <td>Pokemon Red/Pokemon Blue</td>\n",
       "      <td>GB</td>\n",
       "      <td>1996</td>\n",
       "      <td>Role-Playing</td>\n",
       "      <td>11.27</td>\n",
       "      <td>8.89</td>\n",
       "      <td>10.22</td>\n",
       "      <td>1.00</td>\n",
       "      <td>nan</td>\n",
       "      <td>NaN</td>\n",
       "      <td>NaN</td>\n",
       "    </tr>\n",
       "  </tbody>\n",
       "</table>\n",
       "</div>"
      ],
      "text/plain": [
       "                       name platform  year_of_release         genre  na_sales  \\\n",
       "0                Wii Sports      Wii             2006        Sports     41.36   \n",
       "1         Super Mario Bros.      NES             1985      Platform     29.08   \n",
       "2            Mario Kart Wii      Wii             2008        Racing     15.68   \n",
       "3         Wii Sports Resort      Wii             2009        Sports     15.61   \n",
       "4  Pokemon Red/Pokemon Blue       GB             1996  Role-Playing     11.27   \n",
       "\n",
       "   eu_sales  jp_sales  other_sales  critic_score user_score rating  \n",
       "0     28.96      3.77         8.45         76.00          8      E  \n",
       "1      3.58      6.81         0.77           nan        NaN    NaN  \n",
       "2     12.76      3.79         3.29         82.00        8.3      E  \n",
       "3     10.93      3.28         2.95         80.00          8      E  \n",
       "4      8.89     10.22         1.00           nan        NaN    NaN  "
      ]
     },
     "execution_count": 178,
     "metadata": {},
     "output_type": "execute_result"
    }
   ],
   "source": [
    "data.head()"
   ]
  },
  {
   "cell_type": "code",
   "execution_count": 179,
   "metadata": {},
   "outputs": [],
   "source": [
    "# приравняем tbd к nan в user_score\n",
    "data.loc[data['user_score'] == 'tbd','user_score'] = np.nan\n",
    "data['user_score'] = data['user_score'].astype('float')"
   ]
  },
  {
   "cell_type": "code",
   "execution_count": 180,
   "metadata": {},
   "outputs": [
    {
     "data": {
      "text/html": [
       "<div>\n",
       "<style scoped>\n",
       "    .dataframe tbody tr th:only-of-type {\n",
       "        vertical-align: middle;\n",
       "    }\n",
       "\n",
       "    .dataframe tbody tr th {\n",
       "        vertical-align: top;\n",
       "    }\n",
       "\n",
       "    .dataframe thead th {\n",
       "        text-align: right;\n",
       "    }\n",
       "</style>\n",
       "<table border=\"1\" class=\"dataframe\">\n",
       "  <thead>\n",
       "    <tr style=\"text-align: right;\">\n",
       "      <th></th>\n",
       "      <th>name</th>\n",
       "      <th>platform</th>\n",
       "      <th>year_of_release</th>\n",
       "      <th>genre</th>\n",
       "      <th>na_sales</th>\n",
       "      <th>eu_sales</th>\n",
       "      <th>jp_sales</th>\n",
       "      <th>other_sales</th>\n",
       "      <th>critic_score</th>\n",
       "      <th>user_score</th>\n",
       "      <th>rating</th>\n",
       "    </tr>\n",
       "  </thead>\n",
       "  <tbody>\n",
       "    <tr>\n",
       "      <td>0</td>\n",
       "      <td>Wii Sports</td>\n",
       "      <td>Wii</td>\n",
       "      <td>2006</td>\n",
       "      <td>Sports</td>\n",
       "      <td>41.36</td>\n",
       "      <td>28.96</td>\n",
       "      <td>3.77</td>\n",
       "      <td>8.45</td>\n",
       "      <td>76.00</td>\n",
       "      <td>8.00</td>\n",
       "      <td>E</td>\n",
       "    </tr>\n",
       "    <tr>\n",
       "      <td>1</td>\n",
       "      <td>Super Mario Bros.</td>\n",
       "      <td>NES</td>\n",
       "      <td>1985</td>\n",
       "      <td>Platform</td>\n",
       "      <td>29.08</td>\n",
       "      <td>3.58</td>\n",
       "      <td>6.81</td>\n",
       "      <td>0.77</td>\n",
       "      <td>nan</td>\n",
       "      <td>nan</td>\n",
       "      <td>NaN</td>\n",
       "    </tr>\n",
       "    <tr>\n",
       "      <td>2</td>\n",
       "      <td>Mario Kart Wii</td>\n",
       "      <td>Wii</td>\n",
       "      <td>2008</td>\n",
       "      <td>Racing</td>\n",
       "      <td>15.68</td>\n",
       "      <td>12.76</td>\n",
       "      <td>3.79</td>\n",
       "      <td>3.29</td>\n",
       "      <td>82.00</td>\n",
       "      <td>8.30</td>\n",
       "      <td>E</td>\n",
       "    </tr>\n",
       "    <tr>\n",
       "      <td>3</td>\n",
       "      <td>Wii Sports Resort</td>\n",
       "      <td>Wii</td>\n",
       "      <td>2009</td>\n",
       "      <td>Sports</td>\n",
       "      <td>15.61</td>\n",
       "      <td>10.93</td>\n",
       "      <td>3.28</td>\n",
       "      <td>2.95</td>\n",
       "      <td>80.00</td>\n",
       "      <td>8.00</td>\n",
       "      <td>E</td>\n",
       "    </tr>\n",
       "    <tr>\n",
       "      <td>4</td>\n",
       "      <td>Pokemon Red/Pokemon Blue</td>\n",
       "      <td>GB</td>\n",
       "      <td>1996</td>\n",
       "      <td>Role-Playing</td>\n",
       "      <td>11.27</td>\n",
       "      <td>8.89</td>\n",
       "      <td>10.22</td>\n",
       "      <td>1.00</td>\n",
       "      <td>nan</td>\n",
       "      <td>nan</td>\n",
       "      <td>NaN</td>\n",
       "    </tr>\n",
       "  </tbody>\n",
       "</table>\n",
       "</div>"
      ],
      "text/plain": [
       "                       name platform  year_of_release         genre  na_sales  \\\n",
       "0                Wii Sports      Wii             2006        Sports     41.36   \n",
       "1         Super Mario Bros.      NES             1985      Platform     29.08   \n",
       "2            Mario Kart Wii      Wii             2008        Racing     15.68   \n",
       "3         Wii Sports Resort      Wii             2009        Sports     15.61   \n",
       "4  Pokemon Red/Pokemon Blue       GB             1996  Role-Playing     11.27   \n",
       "\n",
       "   eu_sales  jp_sales  other_sales  critic_score  user_score rating  \n",
       "0     28.96      3.77         8.45         76.00        8.00      E  \n",
       "1      3.58      6.81         0.77           nan         nan    NaN  \n",
       "2     12.76      3.79         3.29         82.00        8.30      E  \n",
       "3     10.93      3.28         2.95         80.00        8.00      E  \n",
       "4      8.89     10.22         1.00           nan         nan    NaN  "
      ]
     },
     "execution_count": 180,
     "metadata": {},
     "output_type": "execute_result"
    }
   ],
   "source": [
    "data.head()"
   ]
  },
  {
   "cell_type": "code",
   "execution_count": 181,
   "metadata": {},
   "outputs": [],
   "source": [
    "#посчитаем сумму продаж по всем ренионам для каждой игры\n",
    "data['sales_sum'] = data[['na_sales', 'eu_sales', 'jp_sales', 'other_sales']].sum(axis=1)"
   ]
  },
  {
   "cell_type": "code",
   "execution_count": 182,
   "metadata": {},
   "outputs": [
    {
     "data": {
      "text/html": [
       "<div>\n",
       "<style scoped>\n",
       "    .dataframe tbody tr th:only-of-type {\n",
       "        vertical-align: middle;\n",
       "    }\n",
       "\n",
       "    .dataframe tbody tr th {\n",
       "        vertical-align: top;\n",
       "    }\n",
       "\n",
       "    .dataframe thead th {\n",
       "        text-align: right;\n",
       "    }\n",
       "</style>\n",
       "<table border=\"1\" class=\"dataframe\">\n",
       "  <thead>\n",
       "    <tr style=\"text-align: right;\">\n",
       "      <th></th>\n",
       "      <th>name</th>\n",
       "      <th>platform</th>\n",
       "      <th>year_of_release</th>\n",
       "      <th>genre</th>\n",
       "      <th>na_sales</th>\n",
       "      <th>eu_sales</th>\n",
       "      <th>jp_sales</th>\n",
       "      <th>other_sales</th>\n",
       "      <th>critic_score</th>\n",
       "      <th>user_score</th>\n",
       "      <th>rating</th>\n",
       "      <th>sales_sum</th>\n",
       "    </tr>\n",
       "  </thead>\n",
       "  <tbody>\n",
       "    <tr>\n",
       "      <td>0</td>\n",
       "      <td>Wii Sports</td>\n",
       "      <td>Wii</td>\n",
       "      <td>2006</td>\n",
       "      <td>Sports</td>\n",
       "      <td>41.36</td>\n",
       "      <td>28.96</td>\n",
       "      <td>3.77</td>\n",
       "      <td>8.45</td>\n",
       "      <td>76.00</td>\n",
       "      <td>8.00</td>\n",
       "      <td>E</td>\n",
       "      <td>82.54</td>\n",
       "    </tr>\n",
       "    <tr>\n",
       "      <td>1</td>\n",
       "      <td>Super Mario Bros.</td>\n",
       "      <td>NES</td>\n",
       "      <td>1985</td>\n",
       "      <td>Platform</td>\n",
       "      <td>29.08</td>\n",
       "      <td>3.58</td>\n",
       "      <td>6.81</td>\n",
       "      <td>0.77</td>\n",
       "      <td>nan</td>\n",
       "      <td>nan</td>\n",
       "      <td>NaN</td>\n",
       "      <td>40.24</td>\n",
       "    </tr>\n",
       "    <tr>\n",
       "      <td>2</td>\n",
       "      <td>Mario Kart Wii</td>\n",
       "      <td>Wii</td>\n",
       "      <td>2008</td>\n",
       "      <td>Racing</td>\n",
       "      <td>15.68</td>\n",
       "      <td>12.76</td>\n",
       "      <td>3.79</td>\n",
       "      <td>3.29</td>\n",
       "      <td>82.00</td>\n",
       "      <td>8.30</td>\n",
       "      <td>E</td>\n",
       "      <td>35.52</td>\n",
       "    </tr>\n",
       "    <tr>\n",
       "      <td>3</td>\n",
       "      <td>Wii Sports Resort</td>\n",
       "      <td>Wii</td>\n",
       "      <td>2009</td>\n",
       "      <td>Sports</td>\n",
       "      <td>15.61</td>\n",
       "      <td>10.93</td>\n",
       "      <td>3.28</td>\n",
       "      <td>2.95</td>\n",
       "      <td>80.00</td>\n",
       "      <td>8.00</td>\n",
       "      <td>E</td>\n",
       "      <td>32.77</td>\n",
       "    </tr>\n",
       "    <tr>\n",
       "      <td>4</td>\n",
       "      <td>Pokemon Red/Pokemon Blue</td>\n",
       "      <td>GB</td>\n",
       "      <td>1996</td>\n",
       "      <td>Role-Playing</td>\n",
       "      <td>11.27</td>\n",
       "      <td>8.89</td>\n",
       "      <td>10.22</td>\n",
       "      <td>1.00</td>\n",
       "      <td>nan</td>\n",
       "      <td>nan</td>\n",
       "      <td>NaN</td>\n",
       "      <td>31.38</td>\n",
       "    </tr>\n",
       "  </tbody>\n",
       "</table>\n",
       "</div>"
      ],
      "text/plain": [
       "                       name platform  year_of_release         genre  na_sales  \\\n",
       "0                Wii Sports      Wii             2006        Sports     41.36   \n",
       "1         Super Mario Bros.      NES             1985      Platform     29.08   \n",
       "2            Mario Kart Wii      Wii             2008        Racing     15.68   \n",
       "3         Wii Sports Resort      Wii             2009        Sports     15.61   \n",
       "4  Pokemon Red/Pokemon Blue       GB             1996  Role-Playing     11.27   \n",
       "\n",
       "   eu_sales  jp_sales  other_sales  critic_score  user_score rating  sales_sum  \n",
       "0     28.96      3.77         8.45         76.00        8.00      E      82.54  \n",
       "1      3.58      6.81         0.77           nan         nan    NaN      40.24  \n",
       "2     12.76      3.79         3.29         82.00        8.30      E      35.52  \n",
       "3     10.93      3.28         2.95         80.00        8.00      E      32.77  \n",
       "4      8.89     10.22         1.00           nan         nan    NaN      31.38  "
      ]
     },
     "execution_count": 182,
     "metadata": {},
     "output_type": "execute_result"
    }
   ],
   "source": [
    "data.head()"
   ]
  },
  {
   "cell_type": "markdown",
   "metadata": {},
   "source": [
    "<font size=\"4\">Исследовательский анализ данных:</font>"
   ]
  },
  {
   "cell_type": "markdown",
   "metadata": {},
   "source": [
    "Посмотрим, сколько игр выпускалось в разные годы. Важны ли данные за все периоды?"
   ]
  },
  {
   "cell_type": "code",
   "execution_count": 183,
   "metadata": {},
   "outputs": [
    {
     "data": {
      "image/png": "[encoded data removed]",
      "text/plain": [
       "<Figure size 1440x720 with 1 Axes>"
      ]
     },
     "metadata": {
      "needs_background": "light"
     },
     "output_type": "display_data"
    }
   ],
   "source": [
    "#Создадим сводную таблицу игр количества игр по годам.  \n",
    "games_year_pivot_table = data.pivot_table(index = 'year_of_release', values = 'name', aggfunc = 'count')\n",
    "games_year_pivot_table = games_year_pivot_table.query('year_of_release != 0' )\n",
    "games_year_pivot_table.columns = ['games_count']\n",
    "games_year_pivot_table.plot(y = 'games_count', kind = 'bar', figsize = (20,10), legend=None) \n",
    "plt.title('Количество выпущенных игр по годам')\n",
    "plt.xlabel('Годы')\n",
    "plt.ylabel('Количество игр')\n",
    "plt.show()"
   ]
  },
  {
   "cell_type": "markdown",
   "metadata": {},
   "source": [
    "По графику видно, что данные за все годы нам не нужны. В 1980-90гг выпускалось очень небольшое количество игр и платформ, на которых они выпускались уже давно не существует. А быстрый рост количества игр начинается с 2001 года, поэтому я буду использовать этот временной период. Пик выпуска игр приходится на 2008-2009г. потом идёт резкий спад. Скорее всего это всязано с мировым экономическим кризисом 2008г и его последствиями."
   ]
  },
  {
   "cell_type": "code",
   "execution_count": 184,
   "metadata": {},
   "outputs": [
    {
     "data": {
      "text/html": [
       "<div>\n",
       "<style scoped>\n",
       "    .dataframe tbody tr th:only-of-type {\n",
       "        vertical-align: middle;\n",
       "    }\n",
       "\n",
       "    .dataframe tbody tr th {\n",
       "        vertical-align: top;\n",
       "    }\n",
       "\n",
       "    .dataframe thead th {\n",
       "        text-align: right;\n",
       "    }\n",
       "</style>\n",
       "<table border=\"1\" class=\"dataframe\">\n",
       "  <thead>\n",
       "    <tr style=\"text-align: right;\">\n",
       "      <th></th>\n",
       "      <th>sales_sum_platf</th>\n",
       "    </tr>\n",
       "    <tr>\n",
       "      <th>platform</th>\n",
       "      <th></th>\n",
       "    </tr>\n",
       "  </thead>\n",
       "  <tbody>\n",
       "    <tr>\n",
       "      <td>PS2</td>\n",
       "      <td>1,194.39</td>\n",
       "    </tr>\n",
       "    <tr>\n",
       "      <td>X360</td>\n",
       "      <td>961.24</td>\n",
       "    </tr>\n",
       "    <tr>\n",
       "      <td>PS3</td>\n",
       "      <td>931.34</td>\n",
       "    </tr>\n",
       "    <tr>\n",
       "      <td>Wii</td>\n",
       "      <td>891.18</td>\n",
       "    </tr>\n",
       "    <tr>\n",
       "      <td>DS</td>\n",
       "      <td>802.76</td>\n",
       "    </tr>\n",
       "    <tr>\n",
       "      <td>PS4</td>\n",
       "      <td>314.14</td>\n",
       "    </tr>\n",
       "    <tr>\n",
       "      <td>GBA</td>\n",
       "      <td>312.81</td>\n",
       "    </tr>\n",
       "    <tr>\n",
       "      <td>PSP</td>\n",
       "      <td>289.53</td>\n",
       "    </tr>\n",
       "    <tr>\n",
       "      <td>3DS</td>\n",
       "      <td>257.81</td>\n",
       "    </tr>\n",
       "    <tr>\n",
       "      <td>XB</td>\n",
       "      <td>250.58</td>\n",
       "    </tr>\n",
       "    <tr>\n",
       "      <td>PC</td>\n",
       "      <td>201.06</td>\n",
       "    </tr>\n",
       "    <tr>\n",
       "      <td>GC</td>\n",
       "      <td>196.73</td>\n",
       "    </tr>\n",
       "    <tr>\n",
       "      <td>XOne</td>\n",
       "      <td>159.32</td>\n",
       "    </tr>\n",
       "    <tr>\n",
       "      <td>WiiU</td>\n",
       "      <td>82.19</td>\n",
       "    </tr>\n",
       "    <tr>\n",
       "      <td>PSV</td>\n",
       "      <td>53.81</td>\n",
       "    </tr>\n",
       "  </tbody>\n",
       "</table>\n",
       "</div>"
      ],
      "text/plain": [
       "          sales_sum_platf\n",
       "platform                 \n",
       "PS2              1,194.39\n",
       "X360               961.24\n",
       "PS3                931.34\n",
       "Wii                891.18\n",
       "DS                 802.76\n",
       "PS4                314.14\n",
       "GBA                312.81\n",
       "PSP                289.53\n",
       "3DS                257.81\n",
       "XB                 250.58\n",
       "PC                 201.06\n",
       "GC                 196.73\n",
       "XOne               159.32\n",
       "WiiU                82.19\n",
       "PSV                 53.81"
      ]
     },
     "execution_count": 184,
     "metadata": {},
     "output_type": "execute_result"
    }
   ],
   "source": [
    "#Определим платформы с наибольшими суммарными продажами\n",
    "top_platforms_2001_2016 = (data\n",
    "    .query('2001 <= year_of_release <= 2016')\n",
    "    .groupby('platform')\n",
    "    .agg({'sales_sum':['sum']})\n",
    "    .sort_values(by=('sales_sum', 'sum'), ascending=False)\n",
    "    .head(15)\n",
    ")\n",
    "top_platforms_2001_2016.columns = ['sales_sum_platf']\n",
    "top_platforms_2001_2016"
   ]
  },
  {
   "cell_type": "code",
   "execution_count": 185,
   "metadata": {},
   "outputs": [],
   "source": [
    "#Чтобы построить график продаж по года, посчитаем суммарный доход каждой платформы по годам.\n",
    "platforms_years = (data\n",
    "    .query('platform in @top_platforms_2001_2016.index and 2001 <= year_of_release <= 2016')\n",
    "    .groupby(['platform', 'year_of_release'])\n",
    "    .agg({'sales_sum':['sum']})\n",
    ")\n",
    "platforms_years.columns = ['sales_sum_platf']"
   ]
  },
  {
   "cell_type": "code",
   "execution_count": 186,
   "metadata": {},
   "outputs": [],
   "source": [
    "#сброшу индексы, чтобы можно было построить barplot для всег платформ по годам\n",
    "platforms_years = platforms_years.reset_index()"
   ]
  },
  {
   "cell_type": "code",
   "execution_count": 187,
   "metadata": {},
   "outputs": [
    {
     "data": {
      "text/html": [
       "<div>\n",
       "<style scoped>\n",
       "    .dataframe tbody tr th:only-of-type {\n",
       "        vertical-align: middle;\n",
       "    }\n",
       "\n",
       "    .dataframe tbody tr th {\n",
       "        vertical-align: top;\n",
       "    }\n",
       "\n",
       "    .dataframe thead th {\n",
       "        text-align: right;\n",
       "    }\n",
       "</style>\n",
       "<table border=\"1\" class=\"dataframe\">\n",
       "  <thead>\n",
       "    <tr style=\"text-align: right;\">\n",
       "      <th></th>\n",
       "      <th>platform</th>\n",
       "      <th>year_of_release</th>\n",
       "      <th>sales_sum_platf</th>\n",
       "    </tr>\n",
       "  </thead>\n",
       "  <tbody>\n",
       "    <tr>\n",
       "      <td>0</td>\n",
       "      <td>3DS</td>\n",
       "      <td>2011</td>\n",
       "      <td>63.20</td>\n",
       "    </tr>\n",
       "    <tr>\n",
       "      <td>1</td>\n",
       "      <td>3DS</td>\n",
       "      <td>2012</td>\n",
       "      <td>51.36</td>\n",
       "    </tr>\n",
       "    <tr>\n",
       "      <td>2</td>\n",
       "      <td>3DS</td>\n",
       "      <td>2013</td>\n",
       "      <td>56.57</td>\n",
       "    </tr>\n",
       "    <tr>\n",
       "      <td>3</td>\n",
       "      <td>3DS</td>\n",
       "      <td>2014</td>\n",
       "      <td>43.76</td>\n",
       "    </tr>\n",
       "    <tr>\n",
       "      <td>4</td>\n",
       "      <td>3DS</td>\n",
       "      <td>2015</td>\n",
       "      <td>27.78</td>\n",
       "    </tr>\n",
       "  </tbody>\n",
       "</table>\n",
       "</div>"
      ],
      "text/plain": [
       "  platform  year_of_release  sales_sum_platf\n",
       "0      3DS             2011            63.20\n",
       "1      3DS             2012            51.36\n",
       "2      3DS             2013            56.57\n",
       "3      3DS             2014            43.76\n",
       "4      3DS             2015            27.78"
      ]
     },
     "execution_count": 187,
     "metadata": {},
     "output_type": "execute_result"
    }
   ],
   "source": [
    "platforms_years.head()"
   ]
  },
  {
   "cell_type": "code",
   "execution_count": 188,
   "metadata": {
    "scrolled": true
   },
   "outputs": [
    {
     "data": {
      "image/png": "[encoded data removed]",
      "text/plain": [
       "<Figure size 1440x720 with 1 Axes>"
      ]
     },
     "metadata": {
      "needs_background": "light"
     },
     "output_type": "display_data"
    }
   ],
   "source": [
    "plt.figure(figsize=(20, 10))\n",
    "sns.barplot(x='year_of_release', y='sales_sum_platf', hue='platform', data=platforms_years)\n",
    "plt.title('График продажи игр по платформам')\n",
    "plt.xlabel('Годы')\n",
    "plt.ylabel('Продано игр млн.шт')\n",
    "plt.show()"
   ]
  },
  {
   "cell_type": "markdown",
   "metadata": {},
   "source": [
    "<font size=\"3\">Срок жизни платформ</font>"
   ]
  },
  {
   "cell_type": "code",
   "execution_count": 189,
   "metadata": {},
   "outputs": [],
   "source": [
    "platforms_years_top = (data\n",
    "    .query('platform in @top_platforms_2001_2016.index and 2001 <= year_of_release <= 2016')\n",
    "    .groupby(['platform', 'year_of_release'])\n",
    "    .agg({'sales_sum':['sum']})\n",
    ")\n",
    "platforms_years_top.columns = ['sales_sum_platf']"
   ]
  },
  {
   "cell_type": "code",
   "execution_count": 190,
   "metadata": {},
   "outputs": [
    {
     "data": {
      "text/plain": [
       "8.666666666666666"
      ]
     },
     "execution_count": 190,
     "metadata": {},
     "output_type": "execute_result"
    }
   ],
   "source": [
    "\n",
    "platforms_years_top.droplevel(level=1).index.value_counts().mean()"
   ]
  },
  {
   "cell_type": "markdown",
   "metadata": {},
   "source": [
    "Средний срок жизни платформы около 9 лет. "
   ]
  },
  {
   "cell_type": "markdown",
   "metadata": {},
   "source": [
    "Видно аномально большое снижение продаж в 2016г. Скорее всего это связано с тем, что данные за 2016г не полные(такое предупреждение есть в условии проекта). Поэтому я ещё раз уточню актуальный период и все дальнейшие расчёты буду вести для интервала с 2007 по 2015г."
   ]
  },
  {
   "cell_type": "code",
   "execution_count": 191,
   "metadata": {},
   "outputs": [
    {
     "data": {
      "text/html": [
       "<div>\n",
       "<style scoped>\n",
       "    .dataframe tbody tr th:only-of-type {\n",
       "        vertical-align: middle;\n",
       "    }\n",
       "\n",
       "    .dataframe tbody tr th {\n",
       "        vertical-align: top;\n",
       "    }\n",
       "\n",
       "    .dataframe thead th {\n",
       "        text-align: right;\n",
       "    }\n",
       "</style>\n",
       "<table border=\"1\" class=\"dataframe\">\n",
       "  <thead>\n",
       "    <tr style=\"text-align: right;\">\n",
       "      <th></th>\n",
       "      <th>sales_sum_platf</th>\n",
       "    </tr>\n",
       "    <tr>\n",
       "      <th>platform</th>\n",
       "      <th></th>\n",
       "    </tr>\n",
       "  </thead>\n",
       "  <tbody>\n",
       "    <tr>\n",
       "      <td>PS3</td>\n",
       "      <td>906.78</td>\n",
       "    </tr>\n",
       "    <tr>\n",
       "      <td>X360</td>\n",
       "      <td>899.85</td>\n",
       "    </tr>\n",
       "    <tr>\n",
       "      <td>Wii</td>\n",
       "      <td>753.85</td>\n",
       "    </tr>\n",
       "    <tr>\n",
       "      <td>DS</td>\n",
       "      <td>535.54</td>\n",
       "    </tr>\n",
       "    <tr>\n",
       "      <td>PS4</td>\n",
       "      <td>244.89</td>\n",
       "    </tr>\n",
       "    <tr>\n",
       "      <td>3DS</td>\n",
       "      <td>242.67</td>\n",
       "    </tr>\n",
       "    <tr>\n",
       "      <td>PSP</td>\n",
       "      <td>183.31</td>\n",
       "    </tr>\n",
       "    <tr>\n",
       "      <td>PS2</td>\n",
       "      <td>162.38</td>\n",
       "    </tr>\n",
       "    <tr>\n",
       "      <td>PC</td>\n",
       "      <td>155.32</td>\n",
       "    </tr>\n",
       "    <tr>\n",
       "      <td>XOne</td>\n",
       "      <td>133.17</td>\n",
       "    </tr>\n",
       "    <tr>\n",
       "      <td>WiiU</td>\n",
       "      <td>77.59</td>\n",
       "    </tr>\n",
       "    <tr>\n",
       "      <td>PSV</td>\n",
       "      <td>49.56</td>\n",
       "    </tr>\n",
       "    <tr>\n",
       "      <td>GBA</td>\n",
       "      <td>3.40</td>\n",
       "    </tr>\n",
       "    <tr>\n",
       "      <td>XB</td>\n",
       "      <td>0.73</td>\n",
       "    </tr>\n",
       "    <tr>\n",
       "      <td>GC</td>\n",
       "      <td>0.27</td>\n",
       "    </tr>\n",
       "  </tbody>\n",
       "</table>\n",
       "</div>"
      ],
      "text/plain": [
       "          sales_sum_platf\n",
       "platform                 \n",
       "PS3                906.78\n",
       "X360               899.85\n",
       "Wii                753.85\n",
       "DS                 535.54\n",
       "PS4                244.89\n",
       "3DS                242.67\n",
       "PSP                183.31\n",
       "PS2                162.38\n",
       "PC                 155.32\n",
       "XOne               133.17\n",
       "WiiU                77.59\n",
       "PSV                 49.56\n",
       "GBA                  3.40\n",
       "XB                   0.73\n",
       "GC                   0.27"
      ]
     },
     "execution_count": 191,
     "metadata": {},
     "output_type": "execute_result"
    }
   ],
   "source": [
    "top_platforms_2007_2015 = (data\n",
    "    .query('2007 <= year_of_release <= 2015')\n",
    "    .groupby('platform')\n",
    "    .agg({'sales_sum':['sum']})\n",
    "    .sort_values(by=('sales_sum', 'sum'), ascending=False)\n",
    "    .head(15)\n",
    ")\n",
    "top_platforms_2007_2015.columns = ['sales_sum_platf']\n",
    "top_platforms_2007_2015"
   ]
  },
  {
   "cell_type": "markdown",
   "metadata": {},
   "source": [
    "Ещё раз определим популярность платформ  период с 2007 по 2015г."
   ]
  },
  {
   "cell_type": "code",
   "execution_count": 192,
   "metadata": {},
   "outputs": [],
   "source": [
    "platforms_years_2007_2015 = (data\n",
    "    .query('platform in @top_platforms_2007_2015.index and 2007 <= year_of_release <= 2015')\n",
    "    .groupby(['platform', 'year_of_release'])\n",
    "    .agg({'sales_sum':['sum']})\n",
    ")\n",
    "platforms_years_2007_2015.columns = ['sales_sum_platf']"
   ]
  },
  {
   "cell_type": "code",
   "execution_count": 193,
   "metadata": {},
   "outputs": [],
   "source": [
    "platforms_years_2007_2015 = platforms_years_2007_2015.reset_index()"
   ]
  },
  {
   "cell_type": "code",
   "execution_count": 194,
   "metadata": {},
   "outputs": [
    {
     "data": {
      "image/png": "[encoded data removed]",
      "text/plain": [
       "<Figure size 1440x720 with 1 Axes>"
      ]
     },
     "metadata": {
      "needs_background": "light"
     },
     "output_type": "display_data"
    }
   ],
   "source": [
    "#Построим график «ящик с усами» по глобальным продажам игр в разбивке по платформам\n",
    "plt.figure(figsize=(20, 10))\n",
    "sns.boxplot(x='platform', y='sales_sum_platf', data=platforms_years_2007_2015)\n",
    "plt.title('Диаграмма размаха продаж игр по платформам')\n",
    "plt.ylabel('Млн.шт')\n",
    "plt.xlabel('Платформа')\n",
    "plt.show()"
   ]
  },
  {
   "cell_type": "code",
   "execution_count": 195,
   "metadata": {},
   "outputs": [
    {
     "data": {
      "text/html": [
       "<div>\n",
       "<style scoped>\n",
       "    .dataframe tbody tr th:only-of-type {\n",
       "        vertical-align: middle;\n",
       "    }\n",
       "\n",
       "    .dataframe tbody tr th {\n",
       "        vertical-align: top;\n",
       "    }\n",
       "\n",
       "    .dataframe thead th {\n",
       "        text-align: right;\n",
       "    }\n",
       "</style>\n",
       "<table border=\"1\" class=\"dataframe\">\n",
       "  <thead>\n",
       "    <tr style=\"text-align: right;\">\n",
       "      <th>year_of_release</th>\n",
       "      <th>2007</th>\n",
       "      <th>2008</th>\n",
       "      <th>2009</th>\n",
       "      <th>2010</th>\n",
       "      <th>2011</th>\n",
       "      <th>2012</th>\n",
       "      <th>2013</th>\n",
       "      <th>2014</th>\n",
       "      <th>2015</th>\n",
       "    </tr>\n",
       "    <tr>\n",
       "      <th>platform</th>\n",
       "      <th></th>\n",
       "      <th></th>\n",
       "      <th></th>\n",
       "      <th></th>\n",
       "      <th></th>\n",
       "      <th></th>\n",
       "      <th></th>\n",
       "      <th></th>\n",
       "      <th></th>\n",
       "    </tr>\n",
       "  </thead>\n",
       "  <tbody>\n",
       "    <tr>\n",
       "      <td>3DS</td>\n",
       "      <td>nan</td>\n",
       "      <td>nan</td>\n",
       "      <td>nan</td>\n",
       "      <td>nan</td>\n",
       "      <td>63.20</td>\n",
       "      <td>51.36</td>\n",
       "      <td>56.57</td>\n",
       "      <td>43.76</td>\n",
       "      <td>27.78</td>\n",
       "    </tr>\n",
       "    <tr>\n",
       "      <td>DS</td>\n",
       "      <td>146.94</td>\n",
       "      <td>145.31</td>\n",
       "      <td>119.54</td>\n",
       "      <td>85.02</td>\n",
       "      <td>26.18</td>\n",
       "      <td>11.01</td>\n",
       "      <td>1.54</td>\n",
       "      <td>nan</td>\n",
       "      <td>nan</td>\n",
       "    </tr>\n",
       "    <tr>\n",
       "      <td>GBA</td>\n",
       "      <td>3.40</td>\n",
       "      <td>nan</td>\n",
       "      <td>nan</td>\n",
       "      <td>nan</td>\n",
       "      <td>nan</td>\n",
       "      <td>nan</td>\n",
       "      <td>nan</td>\n",
       "      <td>nan</td>\n",
       "      <td>nan</td>\n",
       "    </tr>\n",
       "    <tr>\n",
       "      <td>GC</td>\n",
       "      <td>0.27</td>\n",
       "      <td>nan</td>\n",
       "      <td>nan</td>\n",
       "      <td>nan</td>\n",
       "      <td>nan</td>\n",
       "      <td>nan</td>\n",
       "      <td>nan</td>\n",
       "      <td>nan</td>\n",
       "      <td>nan</td>\n",
       "    </tr>\n",
       "    <tr>\n",
       "      <td>PC</td>\n",
       "      <td>9.28</td>\n",
       "      <td>12.42</td>\n",
       "      <td>16.91</td>\n",
       "      <td>24.28</td>\n",
       "      <td>35.03</td>\n",
       "      <td>23.22</td>\n",
       "      <td>12.38</td>\n",
       "      <td>13.28</td>\n",
       "      <td>8.52</td>\n",
       "    </tr>\n",
       "    <tr>\n",
       "      <td>PS2</td>\n",
       "      <td>75.99</td>\n",
       "      <td>53.90</td>\n",
       "      <td>26.40</td>\n",
       "      <td>5.64</td>\n",
       "      <td>0.45</td>\n",
       "      <td>nan</td>\n",
       "      <td>nan</td>\n",
       "      <td>nan</td>\n",
       "      <td>nan</td>\n",
       "    </tr>\n",
       "    <tr>\n",
       "      <td>PS3</td>\n",
       "      <td>73.19</td>\n",
       "      <td>118.52</td>\n",
       "      <td>130.93</td>\n",
       "      <td>142.17</td>\n",
       "      <td>156.78</td>\n",
       "      <td>107.36</td>\n",
       "      <td>113.25</td>\n",
       "      <td>47.76</td>\n",
       "      <td>16.82</td>\n",
       "    </tr>\n",
       "    <tr>\n",
       "      <td>PS4</td>\n",
       "      <td>nan</td>\n",
       "      <td>nan</td>\n",
       "      <td>nan</td>\n",
       "      <td>nan</td>\n",
       "      <td>nan</td>\n",
       "      <td>nan</td>\n",
       "      <td>25.99</td>\n",
       "      <td>100.00</td>\n",
       "      <td>118.90</td>\n",
       "    </tr>\n",
       "    <tr>\n",
       "      <td>PSP</td>\n",
       "      <td>46.93</td>\n",
       "      <td>34.55</td>\n",
       "      <td>37.78</td>\n",
       "      <td>35.04</td>\n",
       "      <td>17.82</td>\n",
       "      <td>7.69</td>\n",
       "      <td>3.14</td>\n",
       "      <td>0.24</td>\n",
       "      <td>0.12</td>\n",
       "    </tr>\n",
       "    <tr>\n",
       "      <td>PSV</td>\n",
       "      <td>nan</td>\n",
       "      <td>nan</td>\n",
       "      <td>nan</td>\n",
       "      <td>nan</td>\n",
       "      <td>4.63</td>\n",
       "      <td>16.19</td>\n",
       "      <td>10.59</td>\n",
       "      <td>11.90</td>\n",
       "      <td>6.25</td>\n",
       "    </tr>\n",
       "    <tr>\n",
       "      <td>Wii</td>\n",
       "      <td>152.77</td>\n",
       "      <td>171.32</td>\n",
       "      <td>206.97</td>\n",
       "      <td>127.95</td>\n",
       "      <td>59.65</td>\n",
       "      <td>21.71</td>\n",
       "      <td>8.59</td>\n",
       "      <td>3.75</td>\n",
       "      <td>1.14</td>\n",
       "    </tr>\n",
       "    <tr>\n",
       "      <td>WiiU</td>\n",
       "      <td>nan</td>\n",
       "      <td>nan</td>\n",
       "      <td>nan</td>\n",
       "      <td>nan</td>\n",
       "      <td>nan</td>\n",
       "      <td>17.56</td>\n",
       "      <td>21.65</td>\n",
       "      <td>22.03</td>\n",
       "      <td>16.35</td>\n",
       "    </tr>\n",
       "    <tr>\n",
       "      <td>X360</td>\n",
       "      <td>95.41</td>\n",
       "      <td>135.26</td>\n",
       "      <td>120.29</td>\n",
       "      <td>170.03</td>\n",
       "      <td>143.84</td>\n",
       "      <td>99.74</td>\n",
       "      <td>88.58</td>\n",
       "      <td>34.74</td>\n",
       "      <td>11.96</td>\n",
       "    </tr>\n",
       "    <tr>\n",
       "      <td>XB</td>\n",
       "      <td>0.55</td>\n",
       "      <td>0.18</td>\n",
       "      <td>nan</td>\n",
       "      <td>nan</td>\n",
       "      <td>nan</td>\n",
       "      <td>nan</td>\n",
       "      <td>nan</td>\n",
       "      <td>nan</td>\n",
       "      <td>nan</td>\n",
       "    </tr>\n",
       "    <tr>\n",
       "      <td>XOne</td>\n",
       "      <td>nan</td>\n",
       "      <td>nan</td>\n",
       "      <td>nan</td>\n",
       "      <td>nan</td>\n",
       "      <td>nan</td>\n",
       "      <td>nan</td>\n",
       "      <td>18.96</td>\n",
       "      <td>54.07</td>\n",
       "      <td>60.14</td>\n",
       "    </tr>\n",
       "  </tbody>\n",
       "</table>\n",
       "</div>"
      ],
      "text/plain": [
       "year_of_release   2007   2008   2009   2010   2011   2012   2013   2014   2015\n",
       "platform                                                                      \n",
       "3DS                nan    nan    nan    nan  63.20  51.36  56.57  43.76  27.78\n",
       "DS              146.94 145.31 119.54  85.02  26.18  11.01   1.54    nan    nan\n",
       "GBA               3.40    nan    nan    nan    nan    nan    nan    nan    nan\n",
       "GC                0.27    nan    nan    nan    nan    nan    nan    nan    nan\n",
       "PC                9.28  12.42  16.91  24.28  35.03  23.22  12.38  13.28   8.52\n",
       "PS2              75.99  53.90  26.40   5.64   0.45    nan    nan    nan    nan\n",
       "PS3              73.19 118.52 130.93 142.17 156.78 107.36 113.25  47.76  16.82\n",
       "PS4                nan    nan    nan    nan    nan    nan  25.99 100.00 118.90\n",
       "PSP              46.93  34.55  37.78  35.04  17.82   7.69   3.14   0.24   0.12\n",
       "PSV                nan    nan    nan    nan   4.63  16.19  10.59  11.90   6.25\n",
       "Wii             152.77 171.32 206.97 127.95  59.65  21.71   8.59   3.75   1.14\n",
       "WiiU               nan    nan    nan    nan    nan  17.56  21.65  22.03  16.35\n",
       "X360             95.41 135.26 120.29 170.03 143.84  99.74  88.58  34.74  11.96\n",
       "XB                0.55   0.18    nan    nan    nan    nan    nan    nan    nan\n",
       "XOne               nan    nan    nan    nan    nan    nan  18.96  54.07  60.14"
      ]
     },
     "execution_count": 195,
     "metadata": {},
     "output_type": "execute_result"
    }
   ],
   "source": [
    "platforms_years_2007_2015 = (data\n",
    "    .query('2007 <= year_of_release <= 2015 and platform in @top_platforms_2007_2015.index')\n",
    "    .pivot_table(index='platform', columns='year_of_release', values='sales_sum',aggfunc='sum')\n",
    ")\n",
    "platforms_years_2007_2015"
   ]
  },
  {
   "cell_type": "markdown",
   "metadata": {},
   "source": [
    "Вывод: Продажи большинства платформ падают к 2015г. У части это связано с концом жизненого цикла самой платформы, у других с общим уменьшением рынка компьютерных игр. \n",
    "\n",
    "Рост к 1015 году показывают только две платформы PS4 и XOne. Поэтому только их я могу назвать перспективными.\n",
    "\n",
    "Неплохие продажи всё ещё показывают WiiU и 3DS, но скорее это относится к Япончкому рынку.  "
   ]
  },
  {
   "cell_type": "markdown",
   "metadata": {},
   "source": [
    "<font size=\"3\">Посмотрим, на примере самой популярной (на момент выгрузки данных) платформы PS4, как влияют на продажи отзывы критиков и пользователей.</font>"
   ]
  },
  {
   "cell_type": "code",
   "execution_count": 196,
   "metadata": {},
   "outputs": [
    {
     "data": {
      "text/html": [
       "<div>\n",
       "<style scoped>\n",
       "    .dataframe tbody tr th:only-of-type {\n",
       "        vertical-align: middle;\n",
       "    }\n",
       "\n",
       "    .dataframe tbody tr th {\n",
       "        vertical-align: top;\n",
       "    }\n",
       "\n",
       "    .dataframe thead th {\n",
       "        text-align: right;\n",
       "    }\n",
       "</style>\n",
       "<table border=\"1\" class=\"dataframe\">\n",
       "  <thead>\n",
       "    <tr style=\"text-align: right;\">\n",
       "      <th></th>\n",
       "      <th>name</th>\n",
       "      <th>platform</th>\n",
       "      <th>year_of_release</th>\n",
       "      <th>genre</th>\n",
       "      <th>na_sales</th>\n",
       "      <th>eu_sales</th>\n",
       "      <th>jp_sales</th>\n",
       "      <th>other_sales</th>\n",
       "      <th>critic_score</th>\n",
       "      <th>user_score</th>\n",
       "      <th>rating</th>\n",
       "      <th>sales_sum</th>\n",
       "    </tr>\n",
       "  </thead>\n",
       "  <tbody>\n",
       "    <tr>\n",
       "      <td>2</td>\n",
       "      <td>Mario Kart Wii</td>\n",
       "      <td>Wii</td>\n",
       "      <td>2008</td>\n",
       "      <td>Racing</td>\n",
       "      <td>15.68</td>\n",
       "      <td>12.76</td>\n",
       "      <td>3.79</td>\n",
       "      <td>3.29</td>\n",
       "      <td>82.00</td>\n",
       "      <td>8.30</td>\n",
       "      <td>E</td>\n",
       "      <td>35.52</td>\n",
       "    </tr>\n",
       "    <tr>\n",
       "      <td>3</td>\n",
       "      <td>Wii Sports Resort</td>\n",
       "      <td>Wii</td>\n",
       "      <td>2009</td>\n",
       "      <td>Sports</td>\n",
       "      <td>15.61</td>\n",
       "      <td>10.93</td>\n",
       "      <td>3.28</td>\n",
       "      <td>2.95</td>\n",
       "      <td>80.00</td>\n",
       "      <td>8.00</td>\n",
       "      <td>E</td>\n",
       "      <td>32.77</td>\n",
       "    </tr>\n",
       "    <tr>\n",
       "      <td>8</td>\n",
       "      <td>New Super Mario Bros. Wii</td>\n",
       "      <td>Wii</td>\n",
       "      <td>2009</td>\n",
       "      <td>Platform</td>\n",
       "      <td>14.44</td>\n",
       "      <td>6.94</td>\n",
       "      <td>4.70</td>\n",
       "      <td>2.24</td>\n",
       "      <td>87.00</td>\n",
       "      <td>8.40</td>\n",
       "      <td>E</td>\n",
       "      <td>28.32</td>\n",
       "    </tr>\n",
       "    <tr>\n",
       "      <td>13</td>\n",
       "      <td>Wii Fit</td>\n",
       "      <td>Wii</td>\n",
       "      <td>2007</td>\n",
       "      <td>Sports</td>\n",
       "      <td>8.92</td>\n",
       "      <td>8.03</td>\n",
       "      <td>3.60</td>\n",
       "      <td>2.15</td>\n",
       "      <td>80.00</td>\n",
       "      <td>7.70</td>\n",
       "      <td>E</td>\n",
       "      <td>22.70</td>\n",
       "    </tr>\n",
       "    <tr>\n",
       "      <td>14</td>\n",
       "      <td>Kinect Adventures!</td>\n",
       "      <td>X360</td>\n",
       "      <td>2010</td>\n",
       "      <td>Misc</td>\n",
       "      <td>15.00</td>\n",
       "      <td>4.89</td>\n",
       "      <td>0.24</td>\n",
       "      <td>1.69</td>\n",
       "      <td>61.00</td>\n",
       "      <td>6.30</td>\n",
       "      <td>E</td>\n",
       "      <td>21.82</td>\n",
       "    </tr>\n",
       "    <tr>\n",
       "      <td>15</td>\n",
       "      <td>Wii Fit Plus</td>\n",
       "      <td>Wii</td>\n",
       "      <td>2009</td>\n",
       "      <td>Sports</td>\n",
       "      <td>9.01</td>\n",
       "      <td>8.49</td>\n",
       "      <td>2.53</td>\n",
       "      <td>1.77</td>\n",
       "      <td>80.00</td>\n",
       "      <td>7.40</td>\n",
       "      <td>E</td>\n",
       "      <td>21.80</td>\n",
       "    </tr>\n",
       "    <tr>\n",
       "      <td>16</td>\n",
       "      <td>Grand Theft Auto V</td>\n",
       "      <td>PS3</td>\n",
       "      <td>2013</td>\n",
       "      <td>Action</td>\n",
       "      <td>7.02</td>\n",
       "      <td>9.09</td>\n",
       "      <td>0.98</td>\n",
       "      <td>3.96</td>\n",
       "      <td>97.00</td>\n",
       "      <td>8.20</td>\n",
       "      <td>M</td>\n",
       "      <td>21.05</td>\n",
       "    </tr>\n",
       "    <tr>\n",
       "      <td>23</td>\n",
       "      <td>Grand Theft Auto V</td>\n",
       "      <td>X360</td>\n",
       "      <td>2013</td>\n",
       "      <td>Action</td>\n",
       "      <td>9.66</td>\n",
       "      <td>5.14</td>\n",
       "      <td>0.06</td>\n",
       "      <td>1.41</td>\n",
       "      <td>97.00</td>\n",
       "      <td>8.10</td>\n",
       "      <td>M</td>\n",
       "      <td>16.27</td>\n",
       "    </tr>\n",
       "    <tr>\n",
       "      <td>27</td>\n",
       "      <td>Pokemon Black/Pokemon White</td>\n",
       "      <td>DS</td>\n",
       "      <td>2010</td>\n",
       "      <td>Role-Playing</td>\n",
       "      <td>5.51</td>\n",
       "      <td>3.17</td>\n",
       "      <td>5.65</td>\n",
       "      <td>0.80</td>\n",
       "      <td>nan</td>\n",
       "      <td>nan</td>\n",
       "      <td>NaN</td>\n",
       "      <td>15.13</td>\n",
       "    </tr>\n",
       "    <tr>\n",
       "      <td>29</td>\n",
       "      <td>Call of Duty: Modern Warfare 3</td>\n",
       "      <td>X360</td>\n",
       "      <td>2011</td>\n",
       "      <td>Shooter</td>\n",
       "      <td>9.04</td>\n",
       "      <td>4.24</td>\n",
       "      <td>0.13</td>\n",
       "      <td>1.32</td>\n",
       "      <td>88.00</td>\n",
       "      <td>3.40</td>\n",
       "      <td>M</td>\n",
       "      <td>14.73</td>\n",
       "    </tr>\n",
       "  </tbody>\n",
       "</table>\n",
       "</div>"
      ],
      "text/plain": [
       "                              name platform  year_of_release         genre  \\\n",
       "2                   Mario Kart Wii      Wii             2008        Racing   \n",
       "3                Wii Sports Resort      Wii             2009        Sports   \n",
       "8        New Super Mario Bros. Wii      Wii             2009      Platform   \n",
       "13                         Wii Fit      Wii             2007        Sports   \n",
       "14              Kinect Adventures!     X360             2010          Misc   \n",
       "15                    Wii Fit Plus      Wii             2009        Sports   \n",
       "16              Grand Theft Auto V      PS3             2013        Action   \n",
       "23              Grand Theft Auto V     X360             2013        Action   \n",
       "27     Pokemon Black/Pokemon White       DS             2010  Role-Playing   \n",
       "29  Call of Duty: Modern Warfare 3     X360             2011       Shooter   \n",
       "\n",
       "    na_sales  eu_sales  jp_sales  other_sales  critic_score  user_score  \\\n",
       "2      15.68     12.76      3.79         3.29         82.00        8.30   \n",
       "3      15.61     10.93      3.28         2.95         80.00        8.00   \n",
       "8      14.44      6.94      4.70         2.24         87.00        8.40   \n",
       "13      8.92      8.03      3.60         2.15         80.00        7.70   \n",
       "14     15.00      4.89      0.24         1.69         61.00        6.30   \n",
       "15      9.01      8.49      2.53         1.77         80.00        7.40   \n",
       "16      7.02      9.09      0.98         3.96         97.00        8.20   \n",
       "23      9.66      5.14      0.06         1.41         97.00        8.10   \n",
       "27      5.51      3.17      5.65         0.80           nan         nan   \n",
       "29      9.04      4.24      0.13         1.32         88.00        3.40   \n",
       "\n",
       "   rating  sales_sum  \n",
       "2       E      35.52  \n",
       "3       E      32.77  \n",
       "8       E      28.32  \n",
       "13      E      22.70  \n",
       "14      E      21.82  \n",
       "15      E      21.80  \n",
       "16      M      21.05  \n",
       "23      M      16.27  \n",
       "27    NaN      15.13  \n",
       "29      M      14.73  "
      ]
     },
     "execution_count": 196,
     "metadata": {},
     "output_type": "execute_result"
    }
   ],
   "source": [
    "#Сделаем копию среза исходного датафрейма в период с 2007 по 2015г. \n",
    "data_2007_2015 = (data\n",
    "    .query('2007 <= year_of_release <= 2015 and platform in @top_platforms_2007_2015.index')\n",
    "    .copy()\n",
    ")     \n",
    "data_2007_2015.head(10)"
   ]
  },
  {
   "cell_type": "code",
   "execution_count": 197,
   "metadata": {},
   "outputs": [
    {
     "data": {
      "image/png": "[encoded data removed]",
      "text/plain": [
       "<Figure size 1440x720 with 1 Axes>"
      ]
     },
     "metadata": {
      "needs_background": "light"
     },
     "output_type": "display_data"
    }
   ],
   "source": [
    "#построим диаграмму рассеяния отзывов критиков для платформы PS4\n",
    "(data_2007_2015\n",
    "    .query('platform == \"PS4\"')\n",
    "    .dropna()\n",
    "    .plot(y='sales_sum', x='critic_score', kind = 'scatter',legend=True, grid=True, figsize=(20, 10))\n",
    ")\n",
    "plt.title('Влияние рейтингов критиков на продажи игр для PS4')\n",
    "plt.ylabel('Продажи млн.шт')\n",
    "plt.xlabel('Рейтинг игры')\n",
    "plt.show()"
   ]
  },
  {
   "cell_type": "code",
   "execution_count": 198,
   "metadata": {
    "scrolled": false
   },
   "outputs": [
    {
     "data": {
      "image/png": "[encoded data removed]",
      "text/plain": [
       "<Figure size 1440x720 with 1 Axes>"
      ]
     },
     "metadata": {
      "needs_background": "light"
     },
     "output_type": "display_data"
    }
   ],
   "source": [
    "#построим диаграмму рассеяния отзывов пользователей для платформы PS4\n",
    "(data_2007_2015\n",
    "    .query('platform == \"PS4\"')\n",
    "    .dropna()\n",
    "    .plot(y='sales_sum', x='user_score', kind = 'scatter',legend=True, grid=True, figsize=(20, 10))\n",
    ")\n",
    "plt.title('Влияние рейтингов игроков на продажи игр для PS4')\n",
    "plt.ylabel('Продажи млн.шт')\n",
    "plt.xlabel('Рейтинг игры')\n",
    "plt.show()"
   ]
  },
  {
   "cell_type": "code",
   "execution_count": 199,
   "metadata": {},
   "outputs": [],
   "source": [
    "ps4_critic = data_2007_2015.query('platform == \"PS4\"')['critic_score'].dropna()\n",
    "ps4_user = data_2007_2015.query('platform == \"PS4\"')['user_score'].dropna()\n",
    "ps4_sales_sum = data_2007_2015.query('platform == \"PS4\"')['sales_sum']"
   ]
  },
  {
   "cell_type": "markdown",
   "metadata": {},
   "source": [
    "Посчитаем коэффициент корреляции между отзывами критиков и пользователей и суммами продаж игр на PS4"
   ]
  },
  {
   "cell_type": "code",
   "execution_count": 200,
   "metadata": {},
   "outputs": [
    {
     "name": "stdout",
     "output_type": "stream",
     "text": [
      "0.4318482049982005\n",
      "0.024230832360622557\n"
     ]
    }
   ],
   "source": [
    "print(ps4_critic.corr(ps4_sales_sum))\n",
    "print(ps4_user.corr(ps4_sales_sum))"
   ]
  },
  {
   "cell_type": "markdown",
   "metadata": {},
   "source": [
    "Вывод: Продажи игр больше зависят от рейтинга критиков, чем от рейтинга пользователей. Это видно на графиках и это же подтверждают значения коэффициентов корреляции."
   ]
  },
  {
   "cell_type": "markdown",
   "metadata": {},
   "source": [
    "<font size=\"3\">Посмотрим на общее распределение игр по жанрам. Что можно сказать о самых прибыльных жанрах? Выделяются ли жанры с высокими и низкими продажами?</font>"
   ]
  },
  {
   "cell_type": "code",
   "execution_count": 201,
   "metadata": {},
   "outputs": [],
   "source": [
    "#Сгруппируем игры по жанрам. Посчитаем сумму продаж и количество игр каждого жанра.\n",
    "genre_pivot_table = (data_2007_2015\n",
    "    .groupby('genre')\n",
    "    .agg({'sales_sum':['sum', 'count', 'mean']})\n",
    "    .sort_values(by=('sales_sum', 'sum'), ascending=False)\n",
    ")\n",
    "genre_pivot_table.columns = ['sales_sum', 'count', 'mean']"
   ]
  },
  {
   "cell_type": "code",
   "execution_count": 202,
   "metadata": {},
   "outputs": [
    {
     "data": {
      "text/html": [
       "<div>\n",
       "<style scoped>\n",
       "    .dataframe tbody tr th:only-of-type {\n",
       "        vertical-align: middle;\n",
       "    }\n",
       "\n",
       "    .dataframe tbody tr th {\n",
       "        vertical-align: top;\n",
       "    }\n",
       "\n",
       "    .dataframe thead th {\n",
       "        text-align: right;\n",
       "    }\n",
       "</style>\n",
       "<table border=\"1\" class=\"dataframe\">\n",
       "  <thead>\n",
       "    <tr style=\"text-align: right;\">\n",
       "      <th></th>\n",
       "      <th>sales_sum</th>\n",
       "      <th>count</th>\n",
       "      <th>mean</th>\n",
       "    </tr>\n",
       "    <tr>\n",
       "      <th>genre</th>\n",
       "      <th></th>\n",
       "      <th></th>\n",
       "      <th></th>\n",
       "    </tr>\n",
       "  </thead>\n",
       "  <tbody>\n",
       "    <tr>\n",
       "      <td>Action</td>\n",
       "      <td>1,020.48</td>\n",
       "      <td>2020</td>\n",
       "      <td>0.51</td>\n",
       "    </tr>\n",
       "    <tr>\n",
       "      <td>Shooter</td>\n",
       "      <td>640.56</td>\n",
       "      <td>620</td>\n",
       "      <td>1.03</td>\n",
       "    </tr>\n",
       "    <tr>\n",
       "      <td>Sports</td>\n",
       "      <td>634.58</td>\n",
       "      <td>1076</td>\n",
       "      <td>0.59</td>\n",
       "    </tr>\n",
       "    <tr>\n",
       "      <td>Misc</td>\n",
       "      <td>485.29</td>\n",
       "      <td>1113</td>\n",
       "      <td>0.44</td>\n",
       "    </tr>\n",
       "    <tr>\n",
       "      <td>Role-Playing</td>\n",
       "      <td>446.85</td>\n",
       "      <td>832</td>\n",
       "      <td>0.54</td>\n",
       "    </tr>\n",
       "    <tr>\n",
       "      <td>Racing</td>\n",
       "      <td>262.40</td>\n",
       "      <td>463</td>\n",
       "      <td>0.57</td>\n",
       "    </tr>\n",
       "    <tr>\n",
       "      <td>Platform</td>\n",
       "      <td>227.22</td>\n",
       "      <td>271</td>\n",
       "      <td>0.84</td>\n",
       "    </tr>\n",
       "    <tr>\n",
       "      <td>Simulation</td>\n",
       "      <td>197.24</td>\n",
       "      <td>531</td>\n",
       "      <td>0.37</td>\n",
       "    </tr>\n",
       "    <tr>\n",
       "      <td>Fighting</td>\n",
       "      <td>161.53</td>\n",
       "      <td>342</td>\n",
       "      <td>0.47</td>\n",
       "    </tr>\n",
       "    <tr>\n",
       "      <td>Adventure</td>\n",
       "      <td>126.13</td>\n",
       "      <td>895</td>\n",
       "      <td>0.14</td>\n",
       "    </tr>\n",
       "  </tbody>\n",
       "</table>\n",
       "</div>"
      ],
      "text/plain": [
       "              sales_sum  count  mean\n",
       "genre                               \n",
       "Action         1,020.48   2020  0.51\n",
       "Shooter          640.56    620  1.03\n",
       "Sports           634.58   1076  0.59\n",
       "Misc             485.29   1113  0.44\n",
       "Role-Playing     446.85    832  0.54\n",
       "Racing           262.40    463  0.57\n",
       "Platform         227.22    271  0.84\n",
       "Simulation       197.24    531  0.37\n",
       "Fighting         161.53    342  0.47\n",
       "Adventure        126.13    895  0.14"
      ]
     },
     "execution_count": 202,
     "metadata": {},
     "output_type": "execute_result"
    }
   ],
   "source": [
    "genre_pivot_table.head(10)"
   ]
  },
  {
   "cell_type": "code",
   "execution_count": 203,
   "metadata": {},
   "outputs": [
    {
     "data": {
      "image/png": "[encoded data removed]",
      "text/plain": [
       "<Figure size 1440x720 with 1 Axes>"
      ]
     },
     "metadata": {
      "needs_background": "light"
     },
     "output_type": "display_data"
    }
   ],
   "source": [
    "genre_pivot_table.plot(kind = 'bar', figsize = (20,10), legend = ('сумма продаж', 'количество игр')) \n",
    "plt.title('Количество выпущенных игр по годам')\n",
    "plt.xlabel('Жанры')\n",
    "plt.ylabel('Показатели')\n",
    "plt.show()"
   ]
  },
  {
   "cell_type": "markdown",
   "metadata": {},
   "source": [
    "Самым популярным жанром является Action, в нем появляется больше всего игр и он же приносит больше всего прибыли. Интересно, что в жанре Adventure тоже выходит достаточно много игр, но ини приносят гораздо меньше денег."
   ]
  },
  {
   "cell_type": "markdown",
   "metadata": {},
   "source": [
    "<font size=\"4\">Составим портрет пользователя каждого региона:</font>"
   ]
  },
  {
   "cell_type": "markdown",
   "metadata": {},
   "source": [
    "Определим самые популярные платформы для регионов(NA, EU, JP):"
   ]
  },
  {
   "cell_type": "code",
   "execution_count": 204,
   "metadata": {},
   "outputs": [],
   "source": [
    "#Создадим сводную таблицу топ5 платформ по продажам в Северной Америке\n",
    "na_sales_top5_pivot_table = (data_2007_2015\n",
    "    .pivot_table(index = 'platform', values = ['na_sales'], aggfunc = ['sum'])\n",
    "    .sort_values(by=('sum', 'na_sales'), ascending=False)\n",
    "    .head(5)\n",
    ")\n",
    "na_sales_top5_pivot_table.columns = ['na_sales']"
   ]
  },
  {
   "cell_type": "code",
   "execution_count": 205,
   "metadata": {},
   "outputs": [],
   "source": [
    "#Создадим сводную таблицу топ5 платформ по продажам в Европе\n",
    "eu_sales_top5_pivot_table = (data_2007_2015\n",
    "    .pivot_table(index = 'platform', values = ['eu_sales'], aggfunc = ['sum'])\n",
    "    .sort_values(by=('sum', 'eu_sales'), ascending=False)\n",
    "    .head(5)\n",
    ")\n",
    "eu_sales_top5_pivot_table.columns = ['eu_sales']"
   ]
  },
  {
   "cell_type": "code",
   "execution_count": 206,
   "metadata": {},
   "outputs": [],
   "source": [
    "#Создадим сводную таблицу топ5 платформ по продажам в Японии\n",
    "jp_sales_top5_pivot_table = (data_2007_2015\n",
    "    .pivot_table(index = 'platform', values = ['jp_sales'], aggfunc = ['sum'])\n",
    "    .sort_values(by=('sum', 'jp_sales'), ascending=False)\n",
    "    .head(5)\n",
    ")\n",
    "jp_sales_top5_pivot_table.columns = ['jp_sales']"
   ]
  },
  {
   "cell_type": "code",
   "execution_count": 207,
   "metadata": {},
   "outputs": [
    {
     "data": {
      "image/png": "[encoded data removed]",
      "text/plain": [
       "<Figure size 720x720 with 1 Axes>"
      ]
     },
     "metadata": {},
     "output_type": "display_data"
    },
    {
     "data": {
      "image/png": "[encoded data removed]",
      "text/plain": [
       "<Figure size 720x720 with 1 Axes>"
      ]
     },
     "metadata": {},
     "output_type": "display_data"
    },
    {
     "data": {
      "image/png": "[encoded data removed]",
      "text/plain": [
       "<Figure size 720x720 with 1 Axes>"
      ]
     },
     "metadata": {},
     "output_type": "display_data"
    }
   ],
   "source": [
    "na_sales_top5_pivot_table.plot(kind='pie', autopct='%1.2f', figsize =(10,10), legend = True, subplots=True)\n",
    "plt.title('Доли продаж игр по платформам в Северной Америке')\n",
    "plt.ylabel('Процент от общих продаж')\n",
    "plt.show()\n",
    "eu_sales_top5_pivot_table.plot(kind='pie', autopct='%1.2f', figsize =(10,10), legend = True, subplots=True)\n",
    "plt.title('Доли продаж игр по платформам в Европе')\n",
    "plt.ylabel('Процент от общих продаж')\n",
    "plt.show()\n",
    "jp_sales_top5_pivot_table.plot(kind='pie', autopct='%1.2f', figsize =(10,10), legend = True, subplots=True)\n",
    "plt.title('Доли продаж игр по платформам в Японии')\n",
    "plt.ylabel('Процент от общих продаж')\n",
    "plt.show()"
   ]
  },
  {
   "cell_type": "markdown",
   "metadata": {},
   "source": [
    "Вывод: Предпочтения игроков в разных частях света различаются. И если в Северной Америке и Европе  предпочтения игроков очень похожи и большая часть рынка поделена между тремя платформами PS3, X360 и Wii. То в Японии, доминирует другие платформы: DS и 3DS."
   ]
  },
  {
   "cell_type": "markdown",
   "metadata": {},
   "source": [
    "Определим самые популярные жанры для регионов(NA, EU, JP):"
   ]
  },
  {
   "cell_type": "code",
   "execution_count": 208,
   "metadata": {},
   "outputs": [],
   "source": [
    "na_top5_genre = (data_2007_2015\n",
    "    .pivot_table(index = 'genre', values = ['na_sales'], aggfunc = ['sum'])\n",
    "    .sort_values(by=('sum', 'na_sales'), ascending=False)\n",
    "    .head(5)\n",
    ")\n",
    "na_top5_genre.columns = ['na_genre_sum']"
   ]
  },
  {
   "cell_type": "code",
   "execution_count": 209,
   "metadata": {},
   "outputs": [],
   "source": [
    "eu_top5_genre = (data_2007_2015\n",
    "    .pivot_table(index = 'genre', values = ['eu_sales'], aggfunc = ['sum'])\n",
    "    .sort_values(by=('sum', 'eu_sales'), ascending=False)\n",
    "    .head(5)\n",
    ")\n",
    "eu_top5_genre.columns = ['eu_genre_sum']"
   ]
  },
  {
   "cell_type": "code",
   "execution_count": 210,
   "metadata": {},
   "outputs": [],
   "source": [
    "jp_top5_genre = (data_2007_2015\n",
    "    .pivot_table(index = 'genre', values = ['jp_sales'], aggfunc = ['sum'])\n",
    "    .sort_values(by=('sum', 'jp_sales'), ascending=False)\n",
    "    .head(5)\n",
    ")\n",
    "jp_top5_genre.columns = ['jp_genre_sum']"
   ]
  },
  {
   "cell_type": "code",
   "execution_count": 211,
   "metadata": {},
   "outputs": [
    {
     "data": {
      "image/png": "[encoded data removed]",
      "text/plain": [
       "<Figure size 720x720 with 1 Axes>"
      ]
     },
     "metadata": {},
     "output_type": "display_data"
    },
    {
     "data": {
      "image/png": "[encoded data removed]",
      "text/plain": [
       "<Figure size 720x720 with 1 Axes>"
      ]
     },
     "metadata": {},
     "output_type": "display_data"
    },
    {
     "data": {
      "image/png": "[encoded data removed]",
      "text/plain": [
       "<Figure size 720x720 with 1 Axes>"
      ]
     },
     "metadata": {},
     "output_type": "display_data"
    }
   ],
   "source": [
    "na_top5_genre.plot(kind='pie', autopct='%1.2f', figsize =(10,10), legend = True, subplots=True)\n",
    "plt.title('Доли продаж игр по жанрам в Северной Америке')\n",
    "plt.ylabel('Процент от общих продаж')\n",
    "plt.show()\n",
    "eu_top5_genre.plot(kind='pie', autopct='%1.2f', figsize =(10,10), legend = True, subplots=True)\n",
    "plt.title('Доли продаж игр по жанрам в Европе')\n",
    "plt.ylabel('Процент от общих продаж')\n",
    "plt.show()\n",
    "jp_top5_genre.plot(kind='pie', autopct='%1.2f', figsize =(10,10), legend = True, subplots=True)\n",
    "plt.title('Доли продаж игр по жанрам в Японии')\n",
    "plt.ylabel('Процент от общих продаж')\n",
    "plt.show()"
   ]
  },
  {
   "cell_type": "markdown",
   "metadata": {},
   "source": [
    "Вывод: Предпочтения игроков в Северной Америке и Европе  по жанрам так же схожи. Самый популярный жанр Action. Интересно, что на пятом месте, но с примерно одинаковой долей в Америке жанр Role-Playing, а в Европе жанр Racing. \n",
    "\n",
    "В Японии предпочтения другие: на первом месте Role-Playing, кроме того в топе появляется Platform, которого в Европе и Америке нет вовсе."
   ]
  },
  {
   "cell_type": "markdown",
   "metadata": {},
   "source": [
    "<font size=\"3\">Влияет ли рейтинг ESRB на продажи в отдельном регионе?:</font>"
   ]
  },
  {
   "cell_type": "code",
   "execution_count": 212,
   "metadata": {},
   "outputs": [
    {
     "data": {
      "text/html": [
       "<div>\n",
       "<style scoped>\n",
       "    .dataframe tbody tr th:only-of-type {\n",
       "        vertical-align: middle;\n",
       "    }\n",
       "\n",
       "    .dataframe tbody tr th {\n",
       "        vertical-align: top;\n",
       "    }\n",
       "\n",
       "    .dataframe thead tr th {\n",
       "        text-align: left;\n",
       "    }\n",
       "\n",
       "    .dataframe thead tr:last-of-type th {\n",
       "        text-align: right;\n",
       "    }\n",
       "</style>\n",
       "<table border=\"1\" class=\"dataframe\">\n",
       "  <thead>\n",
       "    <tr>\n",
       "      <th></th>\n",
       "      <th colspan=\"3\" halign=\"left\">sum</th>\n",
       "    </tr>\n",
       "    <tr>\n",
       "      <th></th>\n",
       "      <th>eu_sales</th>\n",
       "      <th>jp_sales</th>\n",
       "      <th>na_sales</th>\n",
       "    </tr>\n",
       "    <tr>\n",
       "      <th>rating</th>\n",
       "      <th></th>\n",
       "      <th></th>\n",
       "      <th></th>\n",
       "    </tr>\n",
       "  </thead>\n",
       "  <tbody>\n",
       "    <tr>\n",
       "      <td>E</td>\n",
       "      <td>379.47</td>\n",
       "      <td>93.99</td>\n",
       "      <td>656.02</td>\n",
       "    </tr>\n",
       "    <tr>\n",
       "      <td>E10+</td>\n",
       "      <td>158.94</td>\n",
       "      <td>31.46</td>\n",
       "      <td>283.80</td>\n",
       "    </tr>\n",
       "    <tr>\n",
       "      <td>EC</td>\n",
       "      <td>0.00</td>\n",
       "      <td>0.00</td>\n",
       "      <td>1.32</td>\n",
       "    </tr>\n",
       "    <tr>\n",
       "      <td>M</td>\n",
       "      <td>369.32</td>\n",
       "      <td>39.89</td>\n",
       "      <td>530.88</td>\n",
       "    </tr>\n",
       "    <tr>\n",
       "      <td>RP</td>\n",
       "      <td>0.03</td>\n",
       "      <td>0.00</td>\n",
       "      <td>0.00</td>\n",
       "    </tr>\n",
       "    <tr>\n",
       "      <td>T</td>\n",
       "      <td>208.10</td>\n",
       "      <td>72.47</td>\n",
       "      <td>362.37</td>\n",
       "    </tr>\n",
       "  </tbody>\n",
       "</table>\n",
       "</div>"
      ],
      "text/plain": [
       "            sum                  \n",
       "       eu_sales jp_sales na_sales\n",
       "rating                           \n",
       "E        379.47    93.99   656.02\n",
       "E10+     158.94    31.46   283.80\n",
       "EC         0.00     0.00     1.32\n",
       "M        369.32    39.89   530.88\n",
       "RP         0.03     0.00     0.00\n",
       "T        208.10    72.47   362.37"
      ]
     },
     "execution_count": 212,
     "metadata": {},
     "output_type": "execute_result"
    }
   ],
   "source": [
    "rating_pivot_table = data_2007_2015.pivot_table(index = ['rating'], values = ['na_sales','eu_sales','jp_sales'], aggfunc = ['sum'])\n",
    "rating_pivot_table"
   ]
  },
  {
   "cell_type": "markdown",
   "metadata": {},
   "source": [
    "Вывод: Больше всего денег во всех региона приносят игры с рейтингом E(Для всех). Скорее всего это связано с тем, в количественном выражение таких игр выпускается больше всего. Интересно что на втором месте в Америке и Европе игры с взрослым рейтингом M(17+), в которых есть насилие, нецензурная лексика и т.д. А в Японии на втором месте более миролюбивые игры с рейтингом T(13+)."
   ]
  },
  {
   "cell_type": "markdown",
   "metadata": {},
   "source": [
    "<font size=\"4\">Проверка гипотез:</font>"
   ]
  },
  {
   "cell_type": "markdown",
   "metadata": {},
   "source": [
    "<font size=\"3\">Средние пользовательские рейтинги платформ Xbox One и PC одинаковые</font>"
   ]
  },
  {
   "cell_type": "markdown",
   "metadata": {},
   "source": [
    "Нулевая гипотеза: Средние пользовательские рейтинги платформ Xbox One и PC одинаковые.\n",
    "\n",
    "Альтернативная гипотеза: Средние пользовательские рейтинги платформ Xbox One и PC различаются"
   ]
  },
  {
   "cell_type": "code",
   "execution_count": 222,
   "metadata": {},
   "outputs": [],
   "source": [
    "#Сделаем срезы по платформам XOne и PC на основе пользовательских рейтингов\n",
    "XOne_user_score = data_2007_2015.query('platform == \"XOne\"')['user_score'].dropna()"
   ]
  },
  {
   "cell_type": "code",
   "execution_count": 233,
   "metadata": {},
   "outputs": [
    {
     "data": {
      "image/png": "[encoded data removed]",
      "text/plain": [
       "<Figure size 504x360 with 1 Axes>"
      ]
     },
     "metadata": {
      "needs_background": "light"
     },
     "output_type": "display_data"
    }
   ],
   "source": [
    "XOne_user_score.plot(kind = 'hist', bins = 10, grid=True, figsize = (7,5), range = (0,12), legend=None)\n",
    "plt.title('Гистограмма оценок пользователей XOne')\n",
    "plt.xlabel('Оценки пользователей')\n",
    "plt.ylabel('Частота')\n",
    "plt.show()"
   ]
  },
  {
   "cell_type": "code",
   "execution_count": 231,
   "metadata": {},
   "outputs": [],
   "source": [
    "PC_user_score = data_2007_2015.query('platform == \"PC\"')['user_score'].dropna()"
   ]
  },
  {
   "cell_type": "code",
   "execution_count": 234,
   "metadata": {},
   "outputs": [
    {
     "data": {
      "image/png": "[encoded data removed]",
      "text/plain": [
       "<Figure size 504x360 with 1 Axes>"
      ]
     },
     "metadata": {
      "needs_background": "light"
     },
     "output_type": "display_data"
    }
   ],
   "source": [
    "PC_user_score.plot(kind = 'hist', bins = 10, grid=True, figsize = (7,5), range = (0,12), legend=None)\n",
    "plt.title('Гистограмма оценок пользователей PC')\n",
    "plt.xlabel('Оценки пользователей')\n",
    "plt.ylabel('Частота')\n",
    "plt.show()"
   ]
  },
  {
   "cell_type": "code",
   "execution_count": 214,
   "metadata": {},
   "outputs": [
    {
     "data": {
      "text/plain": [
       "LeveneResult(statistic=3.277145322337793, pvalue=0.07071989053057912)"
      ]
     },
     "execution_count": 214,
     "metadata": {},
     "output_type": "execute_result"
    }
   ],
   "source": [
    "# сравним дисперсию выборок с помощью теста Левене\n",
    "st.levene(XOne_user_score, PC_user_score, center='median', proportiontocut=0.05)"
   ]
  },
  {
   "cell_type": "markdown",
   "metadata": {},
   "source": [
    "Результаы теста Левене говорят о том, что  дисперсия выборок не равна. Поэтому параметр equal_var=False"
   ]
  },
  {
   "cell_type": "code",
   "execution_count": 215,
   "metadata": {
    "scrolled": true
   },
   "outputs": [
    {
     "name": "stdout",
     "output_type": "stream",
     "text": [
      "p-значение: 0.01719689707318758\n",
      "Отвергаем нулевую гипотезу\n"
     ]
    }
   ],
   "source": [
    "alpha = 0.05\n",
    "\n",
    "results = st.ttest_ind(XOne_user_score, PC_user_score, equal_var=False)\n",
    "\n",
    "print('p-значение:', results.pvalue)\n",
    "\n",
    "if results.pvalue < alpha:\n",
    "    print(\"Отвергаем нулевую гипотезу\")\n",
    "else:\n",
    "    print(\"Не получилось отвергнуть нулевую гипотезу\")"
   ]
  },
  {
   "cell_type": "code",
   "execution_count": 216,
   "metadata": {},
   "outputs": [
    {
     "data": {
      "text/html": [
       "<div>\n",
       "<style scoped>\n",
       "    .dataframe tbody tr th:only-of-type {\n",
       "        vertical-align: middle;\n",
       "    }\n",
       "\n",
       "    .dataframe tbody tr th {\n",
       "        vertical-align: top;\n",
       "    }\n",
       "\n",
       "    .dataframe thead tr th {\n",
       "        text-align: left;\n",
       "    }\n",
       "\n",
       "    .dataframe thead tr:last-of-type th {\n",
       "        text-align: right;\n",
       "    }\n",
       "</style>\n",
       "<table border=\"1\" class=\"dataframe\">\n",
       "  <thead>\n",
       "    <tr>\n",
       "      <th></th>\n",
       "      <th>median</th>\n",
       "    </tr>\n",
       "    <tr>\n",
       "      <th></th>\n",
       "      <th>user_score</th>\n",
       "    </tr>\n",
       "    <tr>\n",
       "      <th>platform</th>\n",
       "      <th></th>\n",
       "    </tr>\n",
       "  </thead>\n",
       "  <tbody>\n",
       "    <tr>\n",
       "      <td>PSV</td>\n",
       "      <td>7.50</td>\n",
       "    </tr>\n",
       "    <tr>\n",
       "      <td>DS</td>\n",
       "      <td>7.40</td>\n",
       "    </tr>\n",
       "    <tr>\n",
       "      <td>PSP</td>\n",
       "      <td>7.40</td>\n",
       "    </tr>\n",
       "    <tr>\n",
       "      <td>PS2</td>\n",
       "      <td>7.30</td>\n",
       "    </tr>\n",
       "    <tr>\n",
       "      <td>PC</td>\n",
       "      <td>7.25</td>\n",
       "    </tr>\n",
       "    <tr>\n",
       "      <td>Wii</td>\n",
       "      <td>7.20</td>\n",
       "    </tr>\n",
       "    <tr>\n",
       "      <td>3DS</td>\n",
       "      <td>7.10</td>\n",
       "    </tr>\n",
       "    <tr>\n",
       "      <td>PS3</td>\n",
       "      <td>7.10</td>\n",
       "    </tr>\n",
       "    <tr>\n",
       "      <td>WiiU</td>\n",
       "      <td>7.10</td>\n",
       "    </tr>\n",
       "    <tr>\n",
       "      <td>X360</td>\n",
       "      <td>7.00</td>\n",
       "    </tr>\n",
       "    <tr>\n",
       "      <td>PS4</td>\n",
       "      <td>6.95</td>\n",
       "    </tr>\n",
       "    <tr>\n",
       "      <td>XB</td>\n",
       "      <td>6.80</td>\n",
       "    </tr>\n",
       "    <tr>\n",
       "      <td>XOne</td>\n",
       "      <td>6.70</td>\n",
       "    </tr>\n",
       "    <tr>\n",
       "      <td>GC</td>\n",
       "      <td>6.30</td>\n",
       "    </tr>\n",
       "  </tbody>\n",
       "</table>\n",
       "</div>"
      ],
      "text/plain": [
       "             median\n",
       "         user_score\n",
       "platform           \n",
       "PSV            7.50\n",
       "DS             7.40\n",
       "PSP            7.40\n",
       "PS2            7.30\n",
       "PC             7.25\n",
       "Wii            7.20\n",
       "3DS            7.10\n",
       "PS3            7.10\n",
       "WiiU           7.10\n",
       "X360           7.00\n",
       "PS4            6.95\n",
       "XB             6.80\n",
       "XOne           6.70\n",
       "GC             6.30"
      ]
     },
     "execution_count": 216,
     "metadata": {},
     "output_type": "execute_result"
    }
   ],
   "source": [
    "platform_user_score = (data_2007_2015\n",
    "    .pivot_table(index = 'platform', values = ['user_score'], aggfunc = ['median'])\n",
    "    .sort_values(by=('median', 'user_score'), ascending=False)\n",
    "    .dropna()\n",
    ")\n",
    "platform_user_score"
   ]
  },
  {
   "cell_type": "markdown",
   "metadata": {},
   "source": [
    "Вывод: Отвергаем нулевую гипотезу. Средние пользовательские рейтинги не равны. Средний рейтинг игр на PC(7.25) выше, чем средний рейтинг игр на XOne(6.70)."
   ]
  },
  {
   "cell_type": "markdown",
   "metadata": {},
   "source": [
    "</font><font size=\"3\">Средние пользовательские рейтинги жанров Action (англ. «действие», экшен-игры) и Sports (англ. «спортивные соревнования») разные.</font>"
   ]
  },
  {
   "cell_type": "markdown",
   "metadata": {},
   "source": [
    "Нулевая гипотеза: Средние пользовательские рейтинги Action (англ. «действие», экшен-игры) и Sports (англ. «спортивные соревнования») одинаковые.\n",
    "\n",
    "Альтернативная гипотеза: Средние пользовательские рейтинги Action (англ. «действие», экшен-игры) и Sports (англ. «спортивные соревнования») различаются."
   ]
  },
  {
   "cell_type": "code",
   "execution_count": 217,
   "metadata": {},
   "outputs": [],
   "source": [
    "#Сделаем срезы по жанрам Action и Sports на основе пользовательских рейтингов\n",
    "Action_user_score = data_2007_2015.query('genre == \"Action\"')['user_score'].dropna()\n",
    "Sports_user_score = data_2007_2015.query('genre == \"Sports\"')['user_score'].dropna()"
   ]
  },
  {
   "cell_type": "code",
   "execution_count": 218,
   "metadata": {},
   "outputs": [
    {
     "data": {
      "text/plain": [
       "LeveneResult(statistic=22.548127133596584, pvalue=2.2236721103629547e-06)"
      ]
     },
     "execution_count": 218,
     "metadata": {},
     "output_type": "execute_result"
    }
   ],
   "source": [
    "# сравним дисперсию выборок с помощью теста Левене\n",
    "st.levene(Action_user_score, Sports_user_score, center='median', proportiontocut=0.05)"
   ]
  },
  {
   "cell_type": "markdown",
   "metadata": {},
   "source": [
    "Результаы теста Левене говорят о том, что  дисперсия выборок не равна. Поэтому параметр equal_var=False"
   ]
  },
  {
   "cell_type": "code",
   "execution_count": 219,
   "metadata": {},
   "outputs": [
    {
     "name": "stdout",
     "output_type": "stream",
     "text": [
      "p-значение: 2.3397122838684663e-09\n",
      "Отвергаем нулевую гипотезу\n"
     ]
    }
   ],
   "source": [
    "alpha = 0.05\n",
    "\n",
    "results = st.ttest_ind(Action_user_score, Sports_user_score, equal_var = False)\n",
    "\n",
    "print('p-значение:', results.pvalue)\n",
    "\n",
    "if (results.pvalue < alpha):\n",
    "    print(\"Отвергаем нулевую гипотезу\")\n",
    "else:\n",
    "    print(\"Не получилось отвергнуть нулевую гипотезу\")                    "
   ]
  },
  {
   "cell_type": "code",
   "execution_count": 220,
   "metadata": {},
   "outputs": [],
   "source": [
    "platform_user_score = (data_2007_2015\n",
    "    .pivot_table(index = 'genre', values = ['user_score'], aggfunc = ['median'])\n",
    "    .sort_values(by=('median', 'user_score'), ascending=False)\n",
    ")"
   ]
  },
  {
   "cell_type": "code",
   "execution_count": 221,
   "metadata": {},
   "outputs": [
    {
     "data": {
      "text/html": [
       "<div>\n",
       "<style scoped>\n",
       "    .dataframe tbody tr th:only-of-type {\n",
       "        vertical-align: middle;\n",
       "    }\n",
       "\n",
       "    .dataframe tbody tr th {\n",
       "        vertical-align: top;\n",
       "    }\n",
       "\n",
       "    .dataframe thead tr th {\n",
       "        text-align: left;\n",
       "    }\n",
       "\n",
       "    .dataframe thead tr:last-of-type th {\n",
       "        text-align: right;\n",
       "    }\n",
       "</style>\n",
       "<table border=\"1\" class=\"dataframe\">\n",
       "  <thead>\n",
       "    <tr>\n",
       "      <th></th>\n",
       "      <th>median</th>\n",
       "    </tr>\n",
       "    <tr>\n",
       "      <th></th>\n",
       "      <th>user_score</th>\n",
       "    </tr>\n",
       "    <tr>\n",
       "      <th>genre</th>\n",
       "      <th></th>\n",
       "    </tr>\n",
       "  </thead>\n",
       "  <tbody>\n",
       "    <tr>\n",
       "      <td>Role-Playing</td>\n",
       "      <td>7.60</td>\n",
       "    </tr>\n",
       "    <tr>\n",
       "      <td>Adventure</td>\n",
       "      <td>7.50</td>\n",
       "    </tr>\n",
       "    <tr>\n",
       "      <td>Platform</td>\n",
       "      <td>7.40</td>\n",
       "    </tr>\n",
       "    <tr>\n",
       "      <td>Puzzle</td>\n",
       "      <td>7.40</td>\n",
       "    </tr>\n",
       "    <tr>\n",
       "      <td>Fighting</td>\n",
       "      <td>7.30</td>\n",
       "    </tr>\n",
       "    <tr>\n",
       "      <td>Strategy</td>\n",
       "      <td>7.20</td>\n",
       "    </tr>\n",
       "    <tr>\n",
       "      <td>Simulation</td>\n",
       "      <td>7.15</td>\n",
       "    </tr>\n",
       "    <tr>\n",
       "      <td>Action</td>\n",
       "      <td>7.10</td>\n",
       "    </tr>\n",
       "    <tr>\n",
       "      <td>Shooter</td>\n",
       "      <td>7.10</td>\n",
       "    </tr>\n",
       "    <tr>\n",
       "      <td>Misc</td>\n",
       "      <td>6.90</td>\n",
       "    </tr>\n",
       "    <tr>\n",
       "      <td>Racing</td>\n",
       "      <td>6.80</td>\n",
       "    </tr>\n",
       "    <tr>\n",
       "      <td>Sports</td>\n",
       "      <td>6.75</td>\n",
       "    </tr>\n",
       "  </tbody>\n",
       "</table>\n",
       "</div>"
      ],
      "text/plain": [
       "                 median\n",
       "             user_score\n",
       "genre                  \n",
       "Role-Playing       7.60\n",
       "Adventure          7.50\n",
       "Platform           7.40\n",
       "Puzzle             7.40\n",
       "Fighting           7.30\n",
       "Strategy           7.20\n",
       "Simulation         7.15\n",
       "Action             7.10\n",
       "Shooter            7.10\n",
       "Misc               6.90\n",
       "Racing             6.80\n",
       "Sports             6.75"
      ]
     },
     "execution_count": 221,
     "metadata": {},
     "output_type": "execute_result"
    }
   ],
   "source": [
    "platform_user_score.head(20)"
   ]
  },
  {
   "cell_type": "markdown",
   "metadata": {},
   "source": [
    "Вывод: Отвергаем нулевую гипотезу. Средние пользовательские рейтинги жанров Action и Sports не равны. Средний рейтинг игр на Action(7.10) выше, чем средний рейтинг игр в жанре Sports(6.75)."
   ]
  },
  {
   "cell_type": "markdown",
   "metadata": {},
   "source": [
    "<font size=\"4\">Общий вывод:</font>"
   ]
  },
  {
   "cell_type": "markdown",
   "metadata": {},
   "source": [
    " В ходе исследования рынка видеоигр было выявлено, что рынок в целом падает начиная с 2009г. Скорее всего это связано не только с кризисом 2008, но и с появлением и активным развитием мобильных игр и соцсетей.\n",
    "\n",
    "На рынке игр видна явная цикличность. Интерес к новой платформе сначала нарастает, потом достигает некоего пика, а после снижается до появления новой платфомы. И весь этот цикл продолжается около 9 лет.\n",
    "\n",
    "Несмотря на общее падение есть платформы, продажи игр для которых увеличивается т.к они находятся в начале жизненого цикла. В первую очередь это PS4 и XOne для Северной Америке и Европы. 3DS и Wiiu для Японии. \n",
    "\n",
    "Кроме того было выявлено что степень успешности игр гораздо больше зависит от рейтинга критиков, чем от рейтинга пользователей.\n",
    "\n",
    "В общем если магазин «Стримчик» хочет успешно продавать игры в Северной Америке и Европе, то это должны быть игры в жанре Action для PS4 или XOne с рейтингом ESRB E или M. А если в Японии, то это должны быть игры в жанре Role-Playing для 3DS с рейтингом ESRB E или T."
   ]
  },
  {
   "cell_type": "code",
   "execution_count": null,
   "metadata": {},
   "outputs": [],
   "source": []
  }
 ],
 "metadata": {
  "ExecuteTimeLog": [
   {
    "duration": 1252,
    "start_time": "2022-01-24T08:04:18.426Z"
   },
   {
    "duration": 49,
    "start_time": "2022-01-24T08:10:23.451Z"
   },
   {
    "duration": 20,
    "start_time": "2022-01-24T08:10:36.402Z"
   },
   {
    "duration": 11,
    "start_time": "2022-01-24T08:11:29.051Z"
   },
   {
    "duration": 360,
    "start_time": "2022-01-24T08:12:11.707Z"
   },
   {
    "duration": 245,
    "start_time": "2022-01-24T08:12:20.009Z"
   },
   {
    "duration": 34,
    "start_time": "2022-01-24T08:12:34.954Z"
   },
   {
    "duration": 4,
    "start_time": "2022-01-24T08:15:27.575Z"
   },
   {
    "duration": 4,
    "start_time": "2022-01-24T08:15:30.084Z"
   },
   {
    "duration": 43,
    "start_time": "2022-01-24T08:15:30.744Z"
   },
   {
    "duration": 12,
    "start_time": "2022-01-24T08:15:31.334Z"
   },
   {
    "duration": 35,
    "start_time": "2022-01-24T08:15:46.504Z"
   },
   {
    "duration": 8,
    "start_time": "2022-01-24T08:15:46.541Z"
   },
   {
    "duration": 41,
    "start_time": "2022-01-24T08:15:54.739Z"
   },
   {
    "duration": 14,
    "start_time": "2022-01-24T08:15:56.497Z"
   },
   {
    "duration": 2,
    "start_time": "2022-01-24T08:16:19.687Z"
   },
   {
    "duration": 3,
    "start_time": "2022-01-24T08:16:26.303Z"
   },
   {
    "duration": 39,
    "start_time": "2022-01-24T08:16:26.855Z"
   },
   {
    "duration": 14,
    "start_time": "2022-01-24T08:16:27.362Z"
   },
   {
    "duration": 3,
    "start_time": "2022-01-24T08:16:38.725Z"
   },
   {
    "duration": 41,
    "start_time": "2022-01-24T08:16:39.641Z"
   },
   {
    "duration": 14,
    "start_time": "2022-01-24T08:16:40.108Z"
   },
   {
    "duration": 11,
    "start_time": "2022-01-24T08:16:42.091Z"
   },
   {
    "duration": 30,
    "start_time": "2022-01-24T08:16:42.793Z"
   },
   {
    "duration": 36,
    "start_time": "2022-01-24T08:17:20.212Z"
   },
   {
    "duration": 565,
    "start_time": "2022-01-24T08:18:23.502Z"
   },
   {
    "duration": 81,
    "start_time": "2022-01-24T08:33:00.249Z"
   },
   {
    "duration": 96,
    "start_time": "2022-01-24T08:33:14.965Z"
   },
   {
    "duration": 6,
    "start_time": "2022-01-24T08:33:28.951Z"
   },
   {
    "duration": 11,
    "start_time": "2022-01-24T08:33:59.863Z"
   },
   {
    "duration": 6,
    "start_time": "2022-01-24T08:36:55.008Z"
   },
   {
    "duration": 23,
    "start_time": "2022-01-24T08:37:00.817Z"
   },
   {
    "duration": 95,
    "start_time": "2022-01-24T08:37:20.901Z"
   },
   {
    "duration": 27,
    "start_time": "2022-01-24T08:40:53.705Z"
   },
   {
    "duration": 516,
    "start_time": "2022-01-24T08:44:19.388Z"
   },
   {
    "duration": 633,
    "start_time": "2022-01-24T08:44:48.873Z"
   },
   {
    "duration": 6,
    "start_time": "2022-01-24T08:46:59.234Z"
   },
   {
    "duration": 13,
    "start_time": "2022-01-24T08:47:11.007Z"
   },
   {
    "duration": 5,
    "start_time": "2022-01-24T08:47:22.503Z"
   },
   {
    "duration": 12,
    "start_time": "2022-01-24T08:47:24.583Z"
   },
   {
    "duration": 3,
    "start_time": "2022-01-24T08:47:29.629Z"
   },
   {
    "duration": 24,
    "start_time": "2022-01-24T08:47:29.635Z"
   },
   {
    "duration": 54,
    "start_time": "2022-01-24T08:47:29.661Z"
   },
   {
    "duration": 12,
    "start_time": "2022-01-24T08:47:29.718Z"
   },
   {
    "duration": 23,
    "start_time": "2022-01-24T08:47:29.731Z"
   },
   {
    "duration": 41,
    "start_time": "2022-01-24T08:47:29.756Z"
   },
   {
    "duration": 39,
    "start_time": "2022-01-24T08:47:29.799Z"
   },
   {
    "duration": 20,
    "start_time": "2022-01-24T08:47:29.839Z"
   },
   {
    "duration": 5,
    "start_time": "2022-01-24T08:47:29.862Z"
   },
   {
    "duration": 27,
    "start_time": "2022-01-24T08:47:29.869Z"
   },
   {
    "duration": 4,
    "start_time": "2022-01-24T08:47:29.908Z"
   },
   {
    "duration": 23,
    "start_time": "2022-01-24T08:47:29.914Z"
   },
   {
    "duration": 4,
    "start_time": "2022-01-24T08:47:45.873Z"
   },
   {
    "duration": 12,
    "start_time": "2022-01-24T08:47:47.076Z"
   },
   {
    "duration": 337,
    "start_time": "2022-01-24T08:49:00.193Z"
   },
   {
    "duration": 4,
    "start_time": "2022-01-24T08:49:13.229Z"
   },
   {
    "duration": 12,
    "start_time": "2022-01-24T08:49:15.473Z"
   },
   {
    "duration": 12,
    "start_time": "2022-01-24T08:49:20.239Z"
   },
   {
    "duration": 3,
    "start_time": "2022-01-24T08:49:25.230Z"
   },
   {
    "duration": 19,
    "start_time": "2022-01-24T08:49:25.235Z"
   },
   {
    "duration": 63,
    "start_time": "2022-01-24T08:49:25.256Z"
   },
   {
    "duration": 13,
    "start_time": "2022-01-24T08:49:25.321Z"
   },
   {
    "duration": 29,
    "start_time": "2022-01-24T08:49:25.336Z"
   },
   {
    "duration": 57,
    "start_time": "2022-01-24T08:49:25.368Z"
   },
   {
    "duration": 35,
    "start_time": "2022-01-24T08:49:25.428Z"
   },
   {
    "duration": 17,
    "start_time": "2022-01-24T08:49:25.465Z"
   },
   {
    "duration": 23,
    "start_time": "2022-01-24T08:49:25.484Z"
   },
   {
    "duration": 30,
    "start_time": "2022-01-24T08:49:25.509Z"
   },
   {
    "duration": 19,
    "start_time": "2022-01-24T08:49:25.541Z"
   },
   {
    "duration": 27,
    "start_time": "2022-01-24T08:49:25.562Z"
   },
   {
    "duration": 6,
    "start_time": "2022-01-24T08:50:25.164Z"
   },
   {
    "duration": 14,
    "start_time": "2022-01-24T08:50:26.086Z"
   },
   {
    "duration": 775,
    "start_time": "2022-01-24T09:02:25.924Z"
   },
   {
    "duration": 573,
    "start_time": "2022-01-24T09:03:07.036Z"
   },
   {
    "duration": 315,
    "start_time": "2022-01-24T09:03:50.148Z"
   },
   {
    "duration": 555,
    "start_time": "2022-01-24T09:04:08.113Z"
   },
   {
    "duration": 519,
    "start_time": "2022-01-24T09:10:01.777Z"
   },
   {
    "duration": 7,
    "start_time": "2022-01-24T09:10:12.162Z"
   },
   {
    "duration": 12,
    "start_time": "2022-01-24T09:10:19.784Z"
   },
   {
    "duration": 9,
    "start_time": "2022-01-24T09:10:39.992Z"
   },
   {
    "duration": 13,
    "start_time": "2022-01-24T09:10:42.573Z"
   },
   {
    "duration": 8,
    "start_time": "2022-01-24T09:10:57.729Z"
   },
   {
    "duration": 12,
    "start_time": "2022-01-24T09:11:04.489Z"
   },
   {
    "duration": 11,
    "start_time": "2022-01-24T09:11:08.933Z"
   },
   {
    "duration": 5,
    "start_time": "2022-01-24T09:13:03.878Z"
   },
   {
    "duration": 13,
    "start_time": "2022-01-24T09:13:06.874Z"
   },
   {
    "duration": 4,
    "start_time": "2022-01-24T09:13:21.877Z"
   },
   {
    "duration": 12,
    "start_time": "2022-01-24T09:13:22.905Z"
   },
   {
    "duration": 3,
    "start_time": "2022-01-24T09:13:46.162Z"
   },
   {
    "duration": 17,
    "start_time": "2022-01-24T09:13:46.167Z"
   },
   {
    "duration": 49,
    "start_time": "2022-01-24T09:13:46.186Z"
   },
   {
    "duration": 13,
    "start_time": "2022-01-24T09:13:46.237Z"
   },
   {
    "duration": 24,
    "start_time": "2022-01-24T09:13:46.252Z"
   },
   {
    "duration": 36,
    "start_time": "2022-01-24T09:13:46.278Z"
   },
   {
    "duration": 39,
    "start_time": "2022-01-24T09:13:46.316Z"
   },
   {
    "duration": 19,
    "start_time": "2022-01-24T09:13:46.358Z"
   },
   {
    "duration": 30,
    "start_time": "2022-01-24T09:13:46.380Z"
   },
   {
    "duration": 22,
    "start_time": "2022-01-24T09:13:46.411Z"
   },
   {
    "duration": 10,
    "start_time": "2022-01-24T09:13:46.435Z"
   },
   {
    "duration": 22,
    "start_time": "2022-01-24T09:13:46.447Z"
   },
   {
    "duration": 14,
    "start_time": "2022-01-24T09:13:46.472Z"
   },
   {
    "duration": 23,
    "start_time": "2022-01-24T09:13:46.488Z"
   },
   {
    "duration": 6,
    "start_time": "2022-01-24T09:17:30.193Z"
   },
   {
    "duration": 11,
    "start_time": "2022-01-24T09:17:31.850Z"
   },
   {
    "duration": 6,
    "start_time": "2022-01-24T09:18:12.274Z"
   },
   {
    "duration": 13,
    "start_time": "2022-01-24T09:18:21.777Z"
   },
   {
    "duration": 11,
    "start_time": "2022-01-24T09:32:33.656Z"
   },
   {
    "duration": 13,
    "start_time": "2022-01-24T09:32:34.550Z"
   },
   {
    "duration": 4,
    "start_time": "2022-01-24T09:33:20.523Z"
   },
   {
    "duration": 14,
    "start_time": "2022-01-24T09:33:20.529Z"
   },
   {
    "duration": 50,
    "start_time": "2022-01-24T09:33:20.546Z"
   },
   {
    "duration": 14,
    "start_time": "2022-01-24T09:33:20.599Z"
   },
   {
    "duration": 18,
    "start_time": "2022-01-24T09:33:20.615Z"
   },
   {
    "duration": 31,
    "start_time": "2022-01-24T09:33:20.636Z"
   },
   {
    "duration": 56,
    "start_time": "2022-01-24T09:33:20.669Z"
   },
   {
    "duration": 19,
    "start_time": "2022-01-24T09:33:20.727Z"
   },
   {
    "duration": 8,
    "start_time": "2022-01-24T09:33:20.749Z"
   },
   {
    "duration": 22,
    "start_time": "2022-01-24T09:33:20.760Z"
   },
   {
    "duration": 13,
    "start_time": "2022-01-24T09:33:20.784Z"
   },
   {
    "duration": 13,
    "start_time": "2022-01-24T09:33:20.808Z"
   },
   {
    "duration": 9,
    "start_time": "2022-01-24T09:33:20.823Z"
   },
   {
    "duration": 29,
    "start_time": "2022-01-24T09:33:20.834Z"
   },
   {
    "duration": 29,
    "start_time": "2022-01-24T09:33:20.865Z"
   },
   {
    "duration": 14,
    "start_time": "2022-01-24T09:33:20.896Z"
   },
   {
    "duration": 10,
    "start_time": "2022-01-24T09:33:33.750Z"
   },
   {
    "duration": 12,
    "start_time": "2022-01-24T09:33:36.233Z"
   },
   {
    "duration": 12,
    "start_time": "2022-01-24T09:33:40.138Z"
   },
   {
    "duration": 7,
    "start_time": "2022-01-24T09:33:51.048Z"
   },
   {
    "duration": 7479,
    "start_time": "2022-01-24T10:05:18.361Z"
   },
   {
    "duration": 15,
    "start_time": "2022-01-24T10:05:28.672Z"
   },
   {
    "duration": 14,
    "start_time": "2022-01-24T10:59:17.474Z"
   },
   {
    "duration": 8,
    "start_time": "2022-01-24T10:59:30.557Z"
   },
   {
    "duration": 332,
    "start_time": "2022-01-24T11:01:48.490Z"
   },
   {
    "duration": 1222,
    "start_time": "2022-01-24T11:01:58.851Z"
   },
   {
    "duration": 12,
    "start_time": "2022-01-24T11:02:18.935Z"
   },
   {
    "duration": 7,
    "start_time": "2022-01-24T11:02:21.434Z"
   },
   {
    "duration": 6477,
    "start_time": "2022-01-24T11:02:55.597Z"
   },
   {
    "duration": 6707,
    "start_time": "2022-01-24T11:03:31.814Z"
   },
   {
    "duration": 6700,
    "start_time": "2022-01-24T11:03:58.564Z"
   },
   {
    "duration": 392,
    "start_time": "2022-01-24T11:05:42.442Z"
   },
   {
    "duration": 623,
    "start_time": "2022-01-24T11:06:32.078Z"
   },
   {
    "duration": 647,
    "start_time": "2022-01-24T11:08:32.560Z"
   },
   {
    "duration": 568,
    "start_time": "2022-01-24T11:09:27.804Z"
   },
   {
    "duration": 486,
    "start_time": "2022-01-24T11:10:42.629Z"
   },
   {
    "duration": 520,
    "start_time": "2022-01-24T11:11:49.203Z"
   },
   {
    "duration": 215,
    "start_time": "2022-01-24T11:12:33.700Z"
   },
   {
    "duration": 199,
    "start_time": "2022-01-24T11:16:59.479Z"
   },
   {
    "duration": 657,
    "start_time": "2022-01-24T11:18:42.782Z"
   },
   {
    "duration": 625,
    "start_time": "2022-01-24T11:19:21.791Z"
   },
   {
    "duration": 747,
    "start_time": "2022-01-24T11:20:16.083Z"
   },
   {
    "duration": 735,
    "start_time": "2022-01-24T11:20:28.087Z"
   },
   {
    "duration": 819,
    "start_time": "2022-01-24T11:20:47.994Z"
   },
   {
    "duration": 484,
    "start_time": "2022-01-24T11:23:20.766Z"
   },
   {
    "duration": 13,
    "start_time": "2022-01-24T11:25:02.003Z"
   },
   {
    "duration": 282,
    "start_time": "2022-01-24T11:34:42.024Z"
   },
   {
    "duration": 441,
    "start_time": "2022-01-24T11:34:58.247Z"
   },
   {
    "duration": 6932,
    "start_time": "2022-01-24T11:36:20.516Z"
   },
   {
    "duration": 12,
    "start_time": "2022-01-24T11:41:10.609Z"
   },
   {
    "duration": 6,
    "start_time": "2022-01-24T11:41:26.470Z"
   },
   {
    "duration": 9,
    "start_time": "2022-01-24T11:41:56.392Z"
   },
   {
    "duration": 5,
    "start_time": "2022-01-24T11:41:57.711Z"
   },
   {
    "duration": 4,
    "start_time": "2022-01-24T11:42:41.508Z"
   },
   {
    "duration": 11,
    "start_time": "2022-01-24T11:42:42.286Z"
   },
   {
    "duration": 4,
    "start_time": "2022-01-24T11:43:24.616Z"
   },
   {
    "duration": 11,
    "start_time": "2022-01-24T11:43:25.684Z"
   },
   {
    "duration": 17,
    "start_time": "2022-01-24T11:45:38.940Z"
   },
   {
    "duration": 7,
    "start_time": "2022-01-24T11:45:39.636Z"
   },
   {
    "duration": 12,
    "start_time": "2022-01-24T11:45:46.807Z"
   },
   {
    "duration": 9,
    "start_time": "2022-01-24T11:45:59.405Z"
   },
   {
    "duration": 15,
    "start_time": "2022-01-24T11:46:31.239Z"
   },
   {
    "duration": 9,
    "start_time": "2022-01-24T11:46:33.603Z"
   },
   {
    "duration": 17,
    "start_time": "2022-01-24T11:46:50.656Z"
   },
   {
    "duration": 9,
    "start_time": "2022-01-24T11:46:52.441Z"
   },
   {
    "duration": 14,
    "start_time": "2022-01-24T11:47:03.671Z"
   },
   {
    "duration": 16,
    "start_time": "2022-01-24T11:47:26.520Z"
   },
   {
    "duration": 14,
    "start_time": "2022-01-24T11:47:27.711Z"
   },
   {
    "duration": 13,
    "start_time": "2022-01-24T11:48:38.866Z"
   },
   {
    "duration": 8,
    "start_time": "2022-01-24T11:48:50.876Z"
   },
   {
    "duration": 23,
    "start_time": "2022-01-24T11:53:12.798Z"
   },
   {
    "duration": 15,
    "start_time": "2022-01-24T11:53:13.760Z"
   },
   {
    "duration": 14,
    "start_time": "2022-01-24T11:53:34.356Z"
   },
   {
    "duration": 482,
    "start_time": "2022-01-24T12:38:05.180Z"
   },
   {
    "duration": 4,
    "start_time": "2022-01-24T12:38:47.442Z"
   },
   {
    "duration": 6,
    "start_time": "2022-01-24T12:38:59.659Z"
   },
   {
    "duration": 6,
    "start_time": "2022-01-24T12:39:05.310Z"
   },
   {
    "duration": 11,
    "start_time": "2022-01-24T12:39:11.281Z"
   },
   {
    "duration": 8,
    "start_time": "2022-01-24T12:40:42.881Z"
   },
   {
    "duration": 12,
    "start_time": "2022-01-24T12:41:02.994Z"
   },
   {
    "duration": 409,
    "start_time": "2022-01-24T12:41:36.079Z"
   },
   {
    "duration": 15,
    "start_time": "2022-01-24T12:41:53.269Z"
   },
   {
    "duration": 15,
    "start_time": "2022-01-24T12:43:49.831Z"
   },
   {
    "duration": 16,
    "start_time": "2022-01-24T12:43:52.677Z"
   },
   {
    "duration": 350,
    "start_time": "2022-01-24T12:44:44.692Z"
   },
   {
    "duration": 261,
    "start_time": "2022-01-24T12:45:09.552Z"
   },
   {
    "duration": 292,
    "start_time": "2022-01-24T12:45:42.607Z"
   },
   {
    "duration": 281,
    "start_time": "2022-01-24T12:45:57.114Z"
   },
   {
    "duration": 260,
    "start_time": "2022-01-24T12:46:06.726Z"
   },
   {
    "duration": 6696,
    "start_time": "2022-01-24T12:46:11.933Z"
   },
   {
    "duration": 570,
    "start_time": "2022-01-24T12:46:18.063Z"
   },
   {
    "duration": 7633,
    "start_time": "2022-01-24T12:46:53.550Z"
   },
   {
    "duration": 18,
    "start_time": "2022-01-24T12:47:17.728Z"
   },
   {
    "duration": 16,
    "start_time": "2022-01-24T12:47:26.176Z"
   },
   {
    "duration": 101,
    "start_time": "2022-01-24T12:49:19.591Z"
   },
   {
    "duration": 11,
    "start_time": "2022-01-24T12:49:38.631Z"
   },
   {
    "duration": 512,
    "start_time": "2022-01-24T12:52:05.655Z"
   },
   {
    "duration": 357,
    "start_time": "2022-01-24T12:53:15.927Z"
   },
   {
    "duration": 21,
    "start_time": "2022-01-24T12:53:24.760Z"
   },
   {
    "duration": 23,
    "start_time": "2022-01-24T13:02:28.731Z"
   },
   {
    "duration": 30,
    "start_time": "2022-01-24T13:02:38.084Z"
   },
   {
    "duration": 3,
    "start_time": "2022-01-24T13:03:07.256Z"
   },
   {
    "duration": 8,
    "start_time": "2022-01-24T13:03:07.262Z"
   },
   {
    "duration": 44,
    "start_time": "2022-01-24T13:03:07.273Z"
   },
   {
    "duration": 13,
    "start_time": "2022-01-24T13:03:07.319Z"
   },
   {
    "duration": 30,
    "start_time": "2022-01-24T13:03:07.334Z"
   },
   {
    "duration": 45,
    "start_time": "2022-01-24T13:03:07.366Z"
   },
   {
    "duration": 41,
    "start_time": "2022-01-24T13:03:07.414Z"
   },
   {
    "duration": 22,
    "start_time": "2022-01-24T13:03:07.458Z"
   },
   {
    "duration": 6,
    "start_time": "2022-01-24T13:03:07.507Z"
   },
   {
    "duration": 18,
    "start_time": "2022-01-24T13:03:07.515Z"
   },
   {
    "duration": 12,
    "start_time": "2022-01-24T13:03:07.535Z"
   },
   {
    "duration": 16,
    "start_time": "2022-01-24T13:03:07.549Z"
   },
   {
    "duration": 6,
    "start_time": "2022-01-24T13:03:07.568Z"
   },
   {
    "duration": 38,
    "start_time": "2022-01-24T13:03:07.576Z"
   },
   {
    "duration": 19,
    "start_time": "2022-01-24T13:03:07.617Z"
   },
   {
    "duration": 25,
    "start_time": "2022-01-24T13:03:07.638Z"
   },
   {
    "duration": 7041,
    "start_time": "2022-01-24T13:03:07.666Z"
   },
   {
    "duration": 13,
    "start_time": "2022-01-24T13:03:14.709Z"
   },
   {
    "duration": 26,
    "start_time": "2022-01-24T13:03:14.723Z"
   },
   {
    "duration": 508,
    "start_time": "2022-01-24T13:03:14.751Z"
   },
   {
    "duration": 29,
    "start_time": "2022-01-24T13:03:15.261Z"
   },
   {
    "duration": 13,
    "start_time": "2022-01-24T13:03:15.308Z"
   },
   {
    "duration": 17,
    "start_time": "2022-01-24T13:03:15.325Z"
   },
   {
    "duration": 23,
    "start_time": "2022-01-24T13:08:15.351Z"
   },
   {
    "duration": 260,
    "start_time": "2022-01-24T13:09:35.994Z"
   },
   {
    "duration": 34,
    "start_time": "2022-01-24T13:09:43.281Z"
   },
   {
    "duration": 258,
    "start_time": "2022-01-24T13:12:04.139Z"
   },
   {
    "duration": 342,
    "start_time": "2022-01-24T13:13:21.047Z"
   },
   {
    "duration": 10,
    "start_time": "2022-01-24T13:13:36.618Z"
   },
   {
    "duration": 259,
    "start_time": "2022-01-24T13:35:22.968Z"
   },
   {
    "duration": 7,
    "start_time": "2022-01-24T13:37:19.180Z"
   },
   {
    "duration": 7,
    "start_time": "2022-01-24T13:37:37.792Z"
   },
   {
    "duration": 106,
    "start_time": "2022-01-24T13:38:01.869Z"
   },
   {
    "duration": 8,
    "start_time": "2022-01-24T13:38:04.261Z"
   },
   {
    "duration": 7,
    "start_time": "2022-01-24T13:38:26.488Z"
   },
   {
    "duration": 7,
    "start_time": "2022-01-24T13:38:35.169Z"
   },
   {
    "duration": 23,
    "start_time": "2022-01-24T13:39:03.302Z"
   },
   {
    "duration": 10,
    "start_time": "2022-01-24T13:39:04.229Z"
   },
   {
    "duration": 11,
    "start_time": "2022-01-24T13:40:04.987Z"
   },
   {
    "duration": 6637,
    "start_time": "2022-01-24T13:40:25.118Z"
   },
   {
    "duration": 6713,
    "start_time": "2022-01-24T13:40:53.880Z"
   },
   {
    "duration": 6666,
    "start_time": "2022-01-24T13:41:18.164Z"
   },
   {
    "duration": 7271,
    "start_time": "2022-01-24T13:42:54.561Z"
   },
   {
    "duration": 14,
    "start_time": "2022-01-24T13:43:57.085Z"
   },
   {
    "duration": 8,
    "start_time": "2022-01-24T13:43:57.908Z"
   },
   {
    "duration": 3639,
    "start_time": "2022-01-24T13:44:02.339Z"
   },
   {
    "duration": 3698,
    "start_time": "2022-01-24T13:44:24.958Z"
   },
   {
    "duration": 188,
    "start_time": "2022-01-24T13:45:02.887Z"
   },
   {
    "duration": 2199,
    "start_time": "2022-01-24T13:49:19.382Z"
   },
   {
    "duration": 90,
    "start_time": "2022-01-24T13:50:06.965Z"
   },
   {
    "duration": 1434,
    "start_time": "2022-01-24T13:50:19.911Z"
   },
   {
    "duration": 1685,
    "start_time": "2022-01-24T13:50:55.854Z"
   },
   {
    "duration": 273,
    "start_time": "2022-01-24T13:54:39.825Z"
   },
   {
    "duration": 14,
    "start_time": "2022-01-24T13:54:51.901Z"
   },
   {
    "duration": 8,
    "start_time": "2022-01-24T13:54:55.411Z"
   },
   {
    "duration": 14,
    "start_time": "2022-01-24T13:55:15.114Z"
   },
   {
    "duration": 8343,
    "start_time": "2022-01-24T13:55:55.179Z"
   },
   {
    "duration": 13,
    "start_time": "2022-01-24T13:56:35.006Z"
   },
   {
    "duration": 7276,
    "start_time": "2022-01-24T13:56:39.062Z"
   },
   {
    "duration": 133,
    "start_time": "2022-01-24T13:57:38.975Z"
   },
   {
    "duration": 6286,
    "start_time": "2022-01-24T13:57:53.411Z"
   },
   {
    "duration": 6277,
    "start_time": "2022-01-24T13:58:17.006Z"
   },
   {
    "duration": 14,
    "start_time": "2022-01-24T13:58:43.773Z"
   },
   {
    "duration": 4,
    "start_time": "2022-01-24T13:58:56.464Z"
   },
   {
    "duration": 4,
    "start_time": "2022-01-24T13:59:00.378Z"
   },
   {
    "duration": 236,
    "start_time": "2022-01-24T13:59:40.058Z"
   },
   {
    "duration": 3,
    "start_time": "2022-01-24T14:00:03.786Z"
   },
   {
    "duration": 76,
    "start_time": "2022-01-24T14:03:45.623Z"
   },
   {
    "duration": 258,
    "start_time": "2022-01-24T14:04:46.651Z"
   },
   {
    "duration": 74,
    "start_time": "2022-01-24T14:05:43.552Z"
   },
   {
    "duration": 80,
    "start_time": "2022-01-24T14:05:54.712Z"
   },
   {
    "duration": 7,
    "start_time": "2022-01-24T14:06:10.811Z"
   },
   {
    "duration": 6,
    "start_time": "2022-01-24T14:07:08.164Z"
   },
   {
    "duration": 9,
    "start_time": "2022-01-24T14:07:17.358Z"
   },
   {
    "duration": 3,
    "start_time": "2022-01-24T14:07:33.241Z"
   },
   {
    "duration": 84,
    "start_time": "2022-01-24T14:07:44.463Z"
   },
   {
    "duration": 7,
    "start_time": "2022-01-24T14:07:46.221Z"
   },
   {
    "duration": 6,
    "start_time": "2022-01-24T14:07:50.666Z"
   },
   {
    "duration": 3,
    "start_time": "2022-01-24T14:07:55.381Z"
   },
   {
    "duration": 28,
    "start_time": "2022-01-24T14:07:55.386Z"
   },
   {
    "duration": 53,
    "start_time": "2022-01-24T14:07:55.416Z"
   },
   {
    "duration": 13,
    "start_time": "2022-01-24T14:07:55.471Z"
   },
   {
    "duration": 27,
    "start_time": "2022-01-24T14:07:55.485Z"
   },
   {
    "duration": 37,
    "start_time": "2022-01-24T14:07:55.514Z"
   },
   {
    "duration": 38,
    "start_time": "2022-01-24T14:07:55.554Z"
   },
   {
    "duration": 19,
    "start_time": "2022-01-24T14:07:55.606Z"
   },
   {
    "duration": 5,
    "start_time": "2022-01-24T14:07:55.627Z"
   },
   {
    "duration": 16,
    "start_time": "2022-01-24T14:07:55.633Z"
   },
   {
    "duration": 6,
    "start_time": "2022-01-24T14:07:55.652Z"
   },
   {
    "duration": 12,
    "start_time": "2022-01-24T14:07:55.661Z"
   },
   {
    "duration": 34,
    "start_time": "2022-01-24T14:07:55.676Z"
   },
   {
    "duration": 14,
    "start_time": "2022-01-24T14:07:55.713Z"
   },
   {
    "duration": 11,
    "start_time": "2022-01-24T14:07:55.729Z"
   },
   {
    "duration": 13,
    "start_time": "2022-01-24T14:07:55.742Z"
   },
   {
    "duration": 6950,
    "start_time": "2022-01-24T14:07:55.758Z"
   },
   {
    "duration": 13,
    "start_time": "2022-01-24T14:08:02.710Z"
   },
   {
    "duration": 26,
    "start_time": "2022-01-24T14:08:02.726Z"
   },
   {
    "duration": 491,
    "start_time": "2022-01-24T14:08:02.755Z"
   },
   {
    "duration": 12,
    "start_time": "2022-01-24T14:08:03.247Z"
   },
   {
    "duration": 20,
    "start_time": "2022-01-24T14:08:03.261Z"
   },
   {
    "duration": 37,
    "start_time": "2022-01-24T14:08:03.283Z"
   },
   {
    "duration": 23,
    "start_time": "2022-01-24T14:08:03.322Z"
   },
   {
    "duration": 80,
    "start_time": "2022-01-24T14:08:03.347Z"
   },
   {
    "duration": 6,
    "start_time": "2022-01-24T14:08:03.429Z"
   },
   {
    "duration": 1523,
    "start_time": "2022-01-24T14:08:03.438Z"
   },
   {
    "duration": 7,
    "start_time": "2022-01-24T14:08:04.964Z"
   },
   {
    "duration": 18,
    "start_time": "2022-01-24T14:08:04.973Z"
   },
   {
    "duration": 582,
    "start_time": "2022-01-24T14:10:41.308Z"
   },
   {
    "duration": 302,
    "start_time": "2022-01-24T14:11:36.994Z"
   },
   {
    "duration": 3062,
    "start_time": "2022-01-24T14:11:52.670Z"
   },
   {
    "duration": 2800,
    "start_time": "2022-01-24T14:12:48.218Z"
   },
   {
    "duration": 2789,
    "start_time": "2022-01-24T14:13:07.072Z"
   },
   {
    "duration": 278,
    "start_time": "2022-01-24T14:14:06.820Z"
   },
   {
    "duration": 89,
    "start_time": "2022-01-24T14:14:40.212Z"
   },
   {
    "duration": 88,
    "start_time": "2022-01-24T14:15:02.432Z"
   },
   {
    "duration": 7,
    "start_time": "2022-01-24T14:15:13.960Z"
   },
   {
    "duration": 243,
    "start_time": "2022-01-24T14:16:28.586Z"
   },
   {
    "duration": 363,
    "start_time": "2022-01-24T14:16:49.158Z"
   },
   {
    "duration": 461,
    "start_time": "2022-01-24T14:17:37.557Z"
   },
   {
    "duration": 6777,
    "start_time": "2022-01-24T14:17:56.789Z"
   },
   {
    "duration": 72,
    "start_time": "2022-01-24T14:18:17.897Z"
   },
   {
    "duration": 9159,
    "start_time": "2022-01-24T14:19:09.818Z"
   },
   {
    "duration": 82,
    "start_time": "2022-01-24T14:22:39.857Z"
   },
   {
    "duration": 25,
    "start_time": "2022-01-24T14:23:34.230Z"
   },
   {
    "duration": 84,
    "start_time": "2022-01-24T14:26:36.757Z"
   },
   {
    "duration": 98,
    "start_time": "2022-01-24T14:27:58.406Z"
   },
   {
    "duration": 97,
    "start_time": "2022-01-24T14:29:21.661Z"
   },
   {
    "duration": 85,
    "start_time": "2022-01-24T14:30:08.140Z"
   },
   {
    "duration": 98,
    "start_time": "2022-01-24T14:30:24.280Z"
   },
   {
    "duration": 3155,
    "start_time": "2022-01-24T14:30:34.187Z"
   },
   {
    "duration": 7002,
    "start_time": "2022-01-24T14:31:11.895Z"
   },
   {
    "duration": 6648,
    "start_time": "2022-01-24T14:31:42.504Z"
   },
   {
    "duration": 7342,
    "start_time": "2022-01-24T14:34:09.819Z"
   },
   {
    "duration": 7076,
    "start_time": "2022-01-24T14:34:34.643Z"
   },
   {
    "duration": 7008,
    "start_time": "2022-01-24T14:34:53.168Z"
   },
   {
    "duration": 234,
    "start_time": "2022-01-25T11:37:26.440Z"
   },
   {
    "duration": 1111,
    "start_time": "2022-01-25T11:48:04.323Z"
   },
   {
    "duration": 3,
    "start_time": "2022-01-25T11:48:05.436Z"
   },
   {
    "duration": 44,
    "start_time": "2022-01-25T11:48:05.442Z"
   },
   {
    "duration": 17,
    "start_time": "2022-01-25T11:48:05.488Z"
   },
   {
    "duration": 11,
    "start_time": "2022-01-25T11:48:05.507Z"
   },
   {
    "duration": 29,
    "start_time": "2022-01-25T11:48:05.520Z"
   },
   {
    "duration": 62,
    "start_time": "2022-01-25T11:48:05.551Z"
   },
   {
    "duration": 307,
    "start_time": "2022-01-25T11:48:05.616Z"
   },
   {
    "duration": 7,
    "start_time": "2022-01-25T11:48:05.925Z"
   },
   {
    "duration": 22,
    "start_time": "2022-01-25T11:48:05.933Z"
   },
   {
    "duration": 7,
    "start_time": "2022-01-25T11:48:05.957Z"
   },
   {
    "duration": 11,
    "start_time": "2022-01-25T11:48:05.965Z"
   },
   {
    "duration": 22,
    "start_time": "2022-01-25T11:48:05.977Z"
   },
   {
    "duration": 20,
    "start_time": "2022-01-25T11:48:06.000Z"
   },
   {
    "duration": 20,
    "start_time": "2022-01-25T11:48:06.022Z"
   },
   {
    "duration": 11,
    "start_time": "2022-01-25T11:48:06.043Z"
   },
   {
    "duration": 6043,
    "start_time": "2022-01-25T11:48:06.056Z"
   },
   {
    "duration": 11,
    "start_time": "2022-01-25T11:48:12.101Z"
   },
   {
    "duration": 11,
    "start_time": "2022-01-25T11:48:12.114Z"
   },
   {
    "duration": 462,
    "start_time": "2022-01-25T11:48:12.127Z"
   },
   {
    "duration": 14,
    "start_time": "2022-01-25T11:48:12.591Z"
   },
   {
    "duration": 5,
    "start_time": "2022-01-25T11:48:12.607Z"
   },
   {
    "duration": 9,
    "start_time": "2022-01-25T11:48:12.615Z"
   },
   {
    "duration": 61,
    "start_time": "2022-01-25T11:48:12.626Z"
   },
   {
    "duration": 347,
    "start_time": "2022-01-25T11:48:12.342Z"
   },
   {
    "duration": 347,
    "start_time": "2022-01-25T11:48:12.344Z"
   },
   {
    "duration": 347,
    "start_time": "2022-01-25T11:48:12.345Z"
   },
   {
    "duration": 346,
    "start_time": "2022-01-25T11:48:12.347Z"
   },
   {
    "duration": 339,
    "start_time": "2022-01-25T11:48:12.355Z"
   },
   {
    "duration": 13,
    "start_time": "2022-01-25T11:58:33.325Z"
   },
   {
    "duration": 12,
    "start_time": "2022-01-25T11:59:06.369Z"
   },
   {
    "duration": 7,
    "start_time": "2022-01-25T11:59:15.561Z"
   },
   {
    "duration": 8,
    "start_time": "2022-01-25T11:59:28.495Z"
   },
   {
    "duration": 8,
    "start_time": "2022-01-25T12:00:39.781Z"
   },
   {
    "duration": 7,
    "start_time": "2022-01-25T12:00:41.074Z"
   },
   {
    "duration": 8,
    "start_time": "2022-01-25T12:01:15.265Z"
   },
   {
    "duration": 13,
    "start_time": "2022-01-25T12:01:15.924Z"
   },
   {
    "duration": 8,
    "start_time": "2022-01-25T12:02:00.158Z"
   },
   {
    "duration": 8,
    "start_time": "2022-01-25T12:02:01.268Z"
   },
   {
    "duration": 8,
    "start_time": "2022-01-25T12:03:03.129Z"
   },
   {
    "duration": 7,
    "start_time": "2022-01-25T12:03:03.789Z"
   },
   {
    "duration": 13,
    "start_time": "2022-01-25T12:03:21.010Z"
   },
   {
    "duration": 5,
    "start_time": "2022-01-25T12:03:21.629Z"
   },
   {
    "duration": 8,
    "start_time": "2022-01-25T12:03:23.066Z"
   },
   {
    "duration": 8,
    "start_time": "2022-01-25T12:03:24.227Z"
   },
   {
    "duration": 8,
    "start_time": "2022-01-25T12:03:27.526Z"
   },
   {
    "duration": 3,
    "start_time": "2022-01-25T12:04:00.468Z"
   },
   {
    "duration": 21,
    "start_time": "2022-01-25T12:04:43.854Z"
   },
   {
    "duration": 7,
    "start_time": "2022-01-25T12:05:51.701Z"
   },
   {
    "duration": 7,
    "start_time": "2022-01-25T12:05:52.544Z"
   },
   {
    "duration": 8,
    "start_time": "2022-01-25T12:06:15.483Z"
   },
   {
    "duration": 11,
    "start_time": "2022-01-25T12:06:16.230Z"
   },
   {
    "duration": 23,
    "start_time": "2022-01-25T12:07:22.452Z"
   },
   {
    "duration": 23,
    "start_time": "2022-01-25T12:08:17.588Z"
   },
   {
    "duration": 8,
    "start_time": "2022-01-25T12:08:18.829Z"
   },
   {
    "duration": 14,
    "start_time": "2022-01-25T12:08:50.135Z"
   },
   {
    "duration": 9,
    "start_time": "2022-01-25T12:08:51.342Z"
   },
   {
    "duration": 10,
    "start_time": "2022-01-25T12:08:56.231Z"
   },
   {
    "duration": 18,
    "start_time": "2022-01-25T12:09:50.385Z"
   },
   {
    "duration": 16,
    "start_time": "2022-01-25T12:10:06.140Z"
   },
   {
    "duration": 12,
    "start_time": "2022-01-25T12:10:11.042Z"
   },
   {
    "duration": 14,
    "start_time": "2022-01-25T12:10:40.638Z"
   },
   {
    "duration": 9,
    "start_time": "2022-01-25T12:10:42.956Z"
   },
   {
    "duration": 9,
    "start_time": "2022-01-25T12:11:39.317Z"
   },
   {
    "duration": 244,
    "start_time": "2022-01-25T12:11:58.112Z"
   },
   {
    "duration": 253,
    "start_time": "2022-01-25T12:12:20.787Z"
   },
   {
    "duration": 425,
    "start_time": "2022-01-25T12:21:10.079Z"
   },
   {
    "duration": 4699,
    "start_time": "2022-01-25T12:23:00.373Z"
   },
   {
    "duration": 5637,
    "start_time": "2022-01-25T12:34:46.738Z"
   },
   {
    "duration": 4643,
    "start_time": "2022-01-25T12:35:04.209Z"
   },
   {
    "duration": 4,
    "start_time": "2022-01-25T12:35:38.949Z"
   },
   {
    "duration": 9,
    "start_time": "2022-01-25T12:35:38.955Z"
   },
   {
    "duration": 42,
    "start_time": "2022-01-25T12:35:38.966Z"
   },
   {
    "duration": 15,
    "start_time": "2022-01-25T12:35:39.011Z"
   },
   {
    "duration": 25,
    "start_time": "2022-01-25T12:35:39.027Z"
   },
   {
    "duration": 37,
    "start_time": "2022-01-25T12:35:39.054Z"
   },
   {
    "duration": 37,
    "start_time": "2022-01-25T12:35:39.093Z"
   },
   {
    "duration": 16,
    "start_time": "2022-01-25T12:35:39.132Z"
   },
   {
    "duration": 4,
    "start_time": "2022-01-25T12:35:39.149Z"
   },
   {
    "duration": 13,
    "start_time": "2022-01-25T12:35:39.155Z"
   },
   {
    "duration": 30,
    "start_time": "2022-01-25T12:35:39.170Z"
   },
   {
    "duration": 12,
    "start_time": "2022-01-25T12:35:39.201Z"
   },
   {
    "duration": 9,
    "start_time": "2022-01-25T12:35:39.215Z"
   },
   {
    "duration": 18,
    "start_time": "2022-01-25T12:35:39.226Z"
   },
   {
    "duration": 13,
    "start_time": "2022-01-25T12:35:39.245Z"
   },
   {
    "duration": 14,
    "start_time": "2022-01-25T12:35:39.260Z"
   },
   {
    "duration": 6240,
    "start_time": "2022-01-25T12:35:39.275Z"
   },
   {
    "duration": 11,
    "start_time": "2022-01-25T12:35:45.518Z"
   },
   {
    "duration": 8,
    "start_time": "2022-01-25T12:35:45.532Z"
   },
   {
    "duration": 485,
    "start_time": "2022-01-25T12:35:45.542Z"
   },
   {
    "duration": 3,
    "start_time": "2022-01-25T12:35:46.028Z"
   },
   {
    "duration": 22,
    "start_time": "2022-01-25T12:35:46.032Z"
   },
   {
    "duration": 6,
    "start_time": "2022-01-25T12:35:46.056Z"
   },
   {
    "duration": 20,
    "start_time": "2022-01-25T12:35:46.064Z"
   },
   {
    "duration": 13,
    "start_time": "2022-01-25T12:35:46.086Z"
   },
   {
    "duration": 7,
    "start_time": "2022-01-25T12:35:46.101Z"
   },
   {
    "duration": 4659,
    "start_time": "2022-01-25T12:35:46.110Z"
   },
   {
    "duration": 372,
    "start_time": "2022-01-25T12:35:50.399Z"
   },
   {
    "duration": 368,
    "start_time": "2022-01-25T12:35:50.404Z"
   },
   {
    "duration": 363,
    "start_time": "2022-01-25T12:35:50.410Z"
   },
   {
    "duration": 359,
    "start_time": "2022-01-25T12:35:50.415Z"
   },
   {
    "duration": 356,
    "start_time": "2022-01-25T12:35:50.419Z"
   },
   {
    "duration": 9,
    "start_time": "2022-01-25T12:38:47.662Z"
   },
   {
    "duration": 169,
    "start_time": "2022-01-25T12:38:55.930Z"
   },
   {
    "duration": 4541,
    "start_time": "2022-01-25T12:41:23.796Z"
   },
   {
    "duration": 4970,
    "start_time": "2022-01-25T12:41:42.900Z"
   },
   {
    "duration": 8,
    "start_time": "2022-01-25T12:43:12.878Z"
   },
   {
    "duration": 4351,
    "start_time": "2022-01-25T12:43:34.471Z"
   },
   {
    "duration": 277,
    "start_time": "2022-01-25T12:43:51.470Z"
   },
   {
    "duration": 4618,
    "start_time": "2022-01-25T12:44:08.140Z"
   },
   {
    "duration": 476,
    "start_time": "2022-01-25T12:46:29.982Z"
   },
   {
    "duration": 41,
    "start_time": "2022-01-25T12:47:21.929Z"
   },
   {
    "duration": 117,
    "start_time": "2022-01-25T12:47:44.353Z"
   },
   {
    "duration": 26,
    "start_time": "2022-01-25T12:48:07.768Z"
   },
   {
    "duration": 28,
    "start_time": "2022-01-25T12:48:19.991Z"
   },
   {
    "duration": 423,
    "start_time": "2022-01-25T12:48:50.575Z"
   },
   {
    "duration": 452,
    "start_time": "2022-01-25T12:49:36.733Z"
   },
   {
    "duration": 589,
    "start_time": "2022-01-25T12:50:28.374Z"
   },
   {
    "duration": 568,
    "start_time": "2022-01-25T12:51:17.041Z"
   },
   {
    "duration": 597,
    "start_time": "2022-01-25T12:51:38.854Z"
   },
   {
    "duration": 197,
    "start_time": "2022-01-25T12:53:14.355Z"
   },
   {
    "duration": 9,
    "start_time": "2022-01-25T13:00:28.639Z"
   },
   {
    "duration": 180,
    "start_time": "2022-01-25T13:01:27.710Z"
   },
   {
    "duration": 183,
    "start_time": "2022-01-25T13:01:50.201Z"
   },
   {
    "duration": 379,
    "start_time": "2022-01-25T13:05:58.256Z"
   },
   {
    "duration": 721,
    "start_time": "2022-01-25T13:06:11.676Z"
   },
   {
    "duration": 466,
    "start_time": "2022-01-25T13:11:42.734Z"
   },
   {
    "duration": 389,
    "start_time": "2022-01-25T13:11:58.783Z"
   },
   {
    "duration": 8,
    "start_time": "2022-01-25T13:15:44.419Z"
   },
   {
    "duration": 7,
    "start_time": "2022-01-25T13:15:50.695Z"
   },
   {
    "duration": 370,
    "start_time": "2022-01-25T13:15:52.695Z"
   },
   {
    "duration": 9,
    "start_time": "2022-01-25T13:17:08.927Z"
   },
   {
    "duration": 7,
    "start_time": "2022-01-25T13:17:30.057Z"
   },
   {
    "duration": 4,
    "start_time": "2022-01-25T13:31:38.642Z"
   },
   {
    "duration": 5,
    "start_time": "2022-01-25T13:31:38.649Z"
   },
   {
    "duration": 39,
    "start_time": "2022-01-25T13:31:38.657Z"
   },
   {
    "duration": 11,
    "start_time": "2022-01-25T13:31:38.698Z"
   },
   {
    "duration": 16,
    "start_time": "2022-01-25T13:31:38.711Z"
   },
   {
    "duration": 29,
    "start_time": "2022-01-25T13:31:38.730Z"
   },
   {
    "duration": 67,
    "start_time": "2022-01-25T13:31:38.761Z"
   },
   {
    "duration": 17,
    "start_time": "2022-01-25T13:31:38.829Z"
   },
   {
    "duration": 12,
    "start_time": "2022-01-25T13:31:38.848Z"
   },
   {
    "duration": 37,
    "start_time": "2022-01-25T13:31:38.861Z"
   },
   {
    "duration": 6,
    "start_time": "2022-01-25T13:31:38.901Z"
   },
   {
    "duration": 20,
    "start_time": "2022-01-25T13:31:38.909Z"
   },
   {
    "duration": 14,
    "start_time": "2022-01-25T13:31:38.931Z"
   },
   {
    "duration": 13,
    "start_time": "2022-01-25T13:31:38.948Z"
   },
   {
    "duration": 19,
    "start_time": "2022-01-25T13:31:38.963Z"
   },
   {
    "duration": 21,
    "start_time": "2022-01-25T13:31:38.984Z"
   },
   {
    "duration": 6248,
    "start_time": "2022-01-25T13:31:39.006Z"
   },
   {
    "duration": 14,
    "start_time": "2022-01-25T13:31:45.256Z"
   },
   {
    "duration": 24,
    "start_time": "2022-01-25T13:31:45.272Z"
   },
   {
    "duration": 552,
    "start_time": "2022-01-25T13:31:45.299Z"
   },
   {
    "duration": 30,
    "start_time": "2022-01-25T13:31:45.853Z"
   },
   {
    "duration": 646,
    "start_time": "2022-01-25T13:31:45.885Z"
   },
   {
    "duration": 3,
    "start_time": "2022-01-25T13:31:46.533Z"
   },
   {
    "duration": 8,
    "start_time": "2022-01-25T13:31:46.538Z"
   },
   {
    "duration": 17,
    "start_time": "2022-01-25T13:31:46.548Z"
   },
   {
    "duration": 31,
    "start_time": "2022-01-25T13:31:46.567Z"
   },
   {
    "duration": 16,
    "start_time": "2022-01-25T13:31:46.600Z"
   },
   {
    "duration": 14,
    "start_time": "2022-01-25T13:31:46.618Z"
   },
   {
    "duration": 416,
    "start_time": "2022-01-25T13:31:46.634Z"
   },
   {
    "duration": 480,
    "start_time": "2022-01-25T13:31:46.572Z"
   },
   {
    "duration": 477,
    "start_time": "2022-01-25T13:31:46.576Z"
   },
   {
    "duration": 477,
    "start_time": "2022-01-25T13:31:46.577Z"
   },
   {
    "duration": 476,
    "start_time": "2022-01-25T13:31:46.579Z"
   },
   {
    "duration": 956,
    "start_time": "2022-01-25T13:56:30.005Z"
   },
   {
    "duration": 14,
    "start_time": "2022-01-25T14:03:00.086Z"
   },
   {
    "duration": 8,
    "start_time": "2022-01-25T14:03:10.740Z"
   },
   {
    "duration": 9,
    "start_time": "2022-01-25T14:03:19.710Z"
   },
   {
    "duration": 2,
    "start_time": "2022-01-25T14:03:59.534Z"
   },
   {
    "duration": 2,
    "start_time": "2022-01-25T14:04:00.658Z"
   },
   {
    "duration": 6,
    "start_time": "2022-01-25T14:04:02.136Z"
   },
   {
    "duration": 6,
    "start_time": "2022-01-25T14:04:05.249Z"
   },
   {
    "duration": 14,
    "start_time": "2022-01-25T14:04:09.336Z"
   },
   {
    "duration": 200,
    "start_time": "2022-01-25T14:04:41.281Z"
   },
   {
    "duration": 16,
    "start_time": "2022-01-25T14:05:35.815Z"
   },
   {
    "duration": 18,
    "start_time": "2022-01-25T14:05:50.306Z"
   },
   {
    "duration": 17,
    "start_time": "2022-01-25T14:06:04.086Z"
   },
   {
    "duration": 17,
    "start_time": "2022-01-25T14:06:17.974Z"
   },
   {
    "duration": 15,
    "start_time": "2022-01-25T14:06:41.122Z"
   },
   {
    "duration": 5,
    "start_time": "2022-01-25T14:07:27.647Z"
   },
   {
    "duration": 12,
    "start_time": "2022-01-25T14:07:29.343Z"
   },
   {
    "duration": 11,
    "start_time": "2022-01-25T14:07:31.589Z"
   },
   {
    "duration": 5,
    "start_time": "2022-01-25T14:07:40.322Z"
   },
   {
    "duration": 11,
    "start_time": "2022-01-25T14:07:41.244Z"
   },
   {
    "duration": 5,
    "start_time": "2022-01-25T14:07:42.363Z"
   },
   {
    "duration": 16,
    "start_time": "2022-01-25T14:07:43.644Z"
   },
   {
    "duration": 174,
    "start_time": "2022-01-25T14:09:59.244Z"
   },
   {
    "duration": 6,
    "start_time": "2022-01-25T14:10:18.957Z"
   },
   {
    "duration": 730,
    "start_time": "2022-01-25T14:11:00.953Z"
   },
   {
    "duration": 16,
    "start_time": "2022-01-25T14:11:01.797Z"
   },
   {
    "duration": 755,
    "start_time": "2022-01-25T14:11:31.924Z"
   },
   {
    "duration": 5,
    "start_time": "2022-01-25T14:11:43.904Z"
   },
   {
    "duration": 5,
    "start_time": "2022-01-25T14:11:49.196Z"
   },
   {
    "duration": 5,
    "start_time": "2022-01-25T14:11:55.738Z"
   },
   {
    "duration": 12,
    "start_time": "2022-01-25T14:11:56.583Z"
   },
   {
    "duration": 8,
    "start_time": "2022-01-25T14:12:50.103Z"
   },
   {
    "duration": 12,
    "start_time": "2022-01-25T14:12:50.805Z"
   },
   {
    "duration": 4,
    "start_time": "2022-01-25T14:12:57.649Z"
   },
   {
    "duration": 14,
    "start_time": "2022-01-25T14:12:57.655Z"
   },
   {
    "duration": 56,
    "start_time": "2022-01-25T14:12:57.672Z"
   },
   {
    "duration": 12,
    "start_time": "2022-01-25T14:12:57.730Z"
   },
   {
    "duration": 20,
    "start_time": "2022-01-25T14:12:57.744Z"
   },
   {
    "duration": 52,
    "start_time": "2022-01-25T14:12:57.766Z"
   },
   {
    "duration": 37,
    "start_time": "2022-01-25T14:12:57.821Z"
   },
   {
    "duration": 40,
    "start_time": "2022-01-25T14:12:57.861Z"
   },
   {
    "duration": 5,
    "start_time": "2022-01-25T14:12:57.904Z"
   },
   {
    "duration": 14,
    "start_time": "2022-01-25T14:12:57.910Z"
   },
   {
    "duration": 10,
    "start_time": "2022-01-25T14:12:57.926Z"
   },
   {
    "duration": 16,
    "start_time": "2022-01-25T14:12:57.937Z"
   },
   {
    "duration": 6,
    "start_time": "2022-01-25T14:12:57.955Z"
   },
   {
    "duration": 37,
    "start_time": "2022-01-25T14:12:57.962Z"
   },
   {
    "duration": 8,
    "start_time": "2022-01-25T14:12:58.001Z"
   },
   {
    "duration": 11,
    "start_time": "2022-01-25T14:12:58.011Z"
   },
   {
    "duration": 6513,
    "start_time": "2022-01-25T14:12:58.024Z"
   },
   {
    "duration": 12,
    "start_time": "2022-01-25T14:13:04.539Z"
   },
   {
    "duration": 6,
    "start_time": "2022-01-25T14:13:04.555Z"
   },
   {
    "duration": 484,
    "start_time": "2022-01-25T14:13:04.563Z"
   },
   {
    "duration": 29,
    "start_time": "2022-01-25T14:13:05.049Z"
   },
   {
    "duration": 690,
    "start_time": "2022-01-25T14:13:05.081Z"
   },
   {
    "duration": 3,
    "start_time": "2022-01-25T14:13:05.773Z"
   },
   {
    "duration": 18,
    "start_time": "2022-01-25T14:13:05.778Z"
   },
   {
    "duration": 12,
    "start_time": "2022-01-25T14:13:05.798Z"
   },
   {
    "duration": 23,
    "start_time": "2022-01-25T14:13:05.812Z"
   },
   {
    "duration": 15,
    "start_time": "2022-01-25T14:13:05.837Z"
   },
   {
    "duration": 10,
    "start_time": "2022-01-25T14:13:05.854Z"
   },
   {
    "duration": 6,
    "start_time": "2022-01-25T14:13:05.866Z"
   },
   {
    "duration": 8,
    "start_time": "2022-01-25T14:13:05.874Z"
   },
   {
    "duration": 19,
    "start_time": "2022-01-25T14:13:05.884Z"
   },
   {
    "duration": 9,
    "start_time": "2022-01-25T14:13:05.904Z"
   },
   {
    "duration": 30,
    "start_time": "2022-01-25T14:13:05.915Z"
   },
   {
    "duration": 5,
    "start_time": "2022-01-25T14:15:08.503Z"
   },
   {
    "duration": 16,
    "start_time": "2022-01-25T14:15:10.323Z"
   },
   {
    "duration": 3,
    "start_time": "2022-01-25T14:15:20.254Z"
   },
   {
    "duration": 16,
    "start_time": "2022-01-25T14:15:20.260Z"
   },
   {
    "duration": 44,
    "start_time": "2022-01-25T14:15:20.279Z"
   },
   {
    "duration": 13,
    "start_time": "2022-01-25T14:15:20.325Z"
   },
   {
    "duration": 21,
    "start_time": "2022-01-25T14:15:20.340Z"
   },
   {
    "duration": 41,
    "start_time": "2022-01-25T14:15:20.363Z"
   },
   {
    "duration": 36,
    "start_time": "2022-01-25T14:15:20.406Z"
   },
   {
    "duration": 18,
    "start_time": "2022-01-25T14:15:20.444Z"
   },
   {
    "duration": 7,
    "start_time": "2022-01-25T14:15:20.464Z"
   },
   {
    "duration": 11,
    "start_time": "2022-01-25T14:15:20.498Z"
   },
   {
    "duration": 12,
    "start_time": "2022-01-25T14:15:20.511Z"
   },
   {
    "duration": 14,
    "start_time": "2022-01-25T14:15:20.525Z"
   },
   {
    "duration": 13,
    "start_time": "2022-01-25T14:15:20.541Z"
   },
   {
    "duration": 17,
    "start_time": "2022-01-25T14:15:20.555Z"
   },
   {
    "duration": 25,
    "start_time": "2022-01-25T14:15:20.574Z"
   },
   {
    "duration": 11,
    "start_time": "2022-01-25T14:15:20.601Z"
   },
   {
    "duration": 6183,
    "start_time": "2022-01-25T14:15:20.614Z"
   },
   {
    "duration": 12,
    "start_time": "2022-01-25T14:15:26.798Z"
   },
   {
    "duration": 10,
    "start_time": "2022-01-25T14:15:26.813Z"
   },
   {
    "duration": 490,
    "start_time": "2022-01-25T14:15:26.825Z"
   },
   {
    "duration": 28,
    "start_time": "2022-01-25T14:15:27.316Z"
   },
   {
    "duration": 586,
    "start_time": "2022-01-25T14:15:27.345Z"
   },
   {
    "duration": 2,
    "start_time": "2022-01-25T14:15:27.933Z"
   },
   {
    "duration": 12,
    "start_time": "2022-01-25T14:15:27.937Z"
   },
   {
    "duration": 10,
    "start_time": "2022-01-25T14:15:27.951Z"
   },
   {
    "duration": 30,
    "start_time": "2022-01-25T14:15:27.962Z"
   },
   {
    "duration": 15,
    "start_time": "2022-01-25T14:15:27.997Z"
   },
   {
    "duration": 8,
    "start_time": "2022-01-25T14:15:28.014Z"
   },
   {
    "duration": 5,
    "start_time": "2022-01-25T14:15:28.023Z"
   },
   {
    "duration": 5,
    "start_time": "2022-01-25T14:15:28.029Z"
   },
   {
    "duration": 10,
    "start_time": "2022-01-25T14:15:28.036Z"
   },
   {
    "duration": 8,
    "start_time": "2022-01-25T14:15:28.048Z"
   },
   {
    "duration": 52,
    "start_time": "2022-01-25T14:15:28.057Z"
   },
   {
    "duration": 21,
    "start_time": "2022-01-25T14:16:06.985Z"
   },
   {
    "duration": 4,
    "start_time": "2022-01-25T14:16:09.805Z"
   },
   {
    "duration": 6,
    "start_time": "2022-01-25T14:16:09.811Z"
   },
   {
    "duration": 41,
    "start_time": "2022-01-25T14:16:09.819Z"
   },
   {
    "duration": 12,
    "start_time": "2022-01-25T14:16:09.862Z"
   },
   {
    "duration": 27,
    "start_time": "2022-01-25T14:16:09.876Z"
   },
   {
    "duration": 29,
    "start_time": "2022-01-25T14:16:09.906Z"
   },
   {
    "duration": 36,
    "start_time": "2022-01-25T14:16:09.937Z"
   },
   {
    "duration": 41,
    "start_time": "2022-01-25T14:16:09.976Z"
   },
   {
    "duration": 5,
    "start_time": "2022-01-25T14:16:10.020Z"
   },
   {
    "duration": 27,
    "start_time": "2022-01-25T14:16:10.027Z"
   },
   {
    "duration": 16,
    "start_time": "2022-01-25T14:16:10.055Z"
   },
   {
    "duration": 28,
    "start_time": "2022-01-25T14:16:10.073Z"
   },
   {
    "duration": 10,
    "start_time": "2022-01-25T14:16:10.103Z"
   },
   {
    "duration": 14,
    "start_time": "2022-01-25T14:16:10.114Z"
   },
   {
    "duration": 13,
    "start_time": "2022-01-25T14:16:10.129Z"
   },
   {
    "duration": 16,
    "start_time": "2022-01-25T14:16:10.143Z"
   },
   {
    "duration": 6002,
    "start_time": "2022-01-25T14:16:10.160Z"
   },
   {
    "duration": 10,
    "start_time": "2022-01-25T14:16:16.164Z"
   },
   {
    "duration": 22,
    "start_time": "2022-01-25T14:16:16.176Z"
   },
   {
    "duration": 468,
    "start_time": "2022-01-25T14:16:16.200Z"
   },
   {
    "duration": 2,
    "start_time": "2022-01-25T14:16:16.670Z"
   },
   {
    "duration": 12,
    "start_time": "2022-01-25T14:16:16.674Z"
   },
   {
    "duration": 11,
    "start_time": "2022-01-25T14:16:16.689Z"
   },
   {
    "duration": 5,
    "start_time": "2022-01-25T14:16:16.703Z"
   },
   {
    "duration": 8,
    "start_time": "2022-01-25T14:16:16.710Z"
   },
   {
    "duration": 29,
    "start_time": "2022-01-25T14:16:16.720Z"
   },
   {
    "duration": 18,
    "start_time": "2022-01-25T14:16:16.751Z"
   },
   {
    "duration": 26,
    "start_time": "2022-01-25T14:16:16.772Z"
   },
   {
    "duration": 3,
    "start_time": "2022-01-25T14:16:16.800Z"
   },
   {
    "duration": 6,
    "start_time": "2022-01-25T14:16:16.804Z"
   },
   {
    "duration": 10,
    "start_time": "2022-01-25T14:16:16.812Z"
   },
   {
    "duration": 7,
    "start_time": "2022-01-25T14:16:16.823Z"
   },
   {
    "duration": 19,
    "start_time": "2022-01-25T14:16:16.832Z"
   },
   {
    "duration": 4,
    "start_time": "2022-01-25T14:17:47.173Z"
   },
   {
    "duration": 6,
    "start_time": "2022-01-25T14:17:47.179Z"
   },
   {
    "duration": 49,
    "start_time": "2022-01-25T14:17:47.188Z"
   },
   {
    "duration": 13,
    "start_time": "2022-01-25T14:17:47.239Z"
   },
   {
    "duration": 14,
    "start_time": "2022-01-25T14:17:47.254Z"
   },
   {
    "duration": 52,
    "start_time": "2022-01-25T14:17:47.271Z"
   },
   {
    "duration": 32,
    "start_time": "2022-01-25T14:17:47.325Z"
   },
   {
    "duration": 16,
    "start_time": "2022-01-25T14:17:47.359Z"
   },
   {
    "duration": 22,
    "start_time": "2022-01-25T14:17:47.376Z"
   },
   {
    "duration": 22,
    "start_time": "2022-01-25T14:17:47.401Z"
   },
   {
    "duration": 6,
    "start_time": "2022-01-25T14:17:47.425Z"
   },
   {
    "duration": 23,
    "start_time": "2022-01-25T14:17:47.433Z"
   },
   {
    "duration": 7,
    "start_time": "2022-01-25T14:17:47.459Z"
   },
   {
    "duration": 38,
    "start_time": "2022-01-25T14:17:47.468Z"
   },
   {
    "duration": 15,
    "start_time": "2022-01-25T14:17:47.508Z"
   },
   {
    "duration": 19,
    "start_time": "2022-01-25T14:17:47.525Z"
   },
   {
    "duration": 6362,
    "start_time": "2022-01-25T14:17:47.546Z"
   },
   {
    "duration": 11,
    "start_time": "2022-01-25T14:17:53.911Z"
   },
   {
    "duration": 10,
    "start_time": "2022-01-25T14:17:53.924Z"
   },
   {
    "duration": 486,
    "start_time": "2022-01-25T14:17:53.936Z"
   },
   {
    "duration": 3,
    "start_time": "2022-01-25T14:17:54.423Z"
   },
   {
    "duration": 11,
    "start_time": "2022-01-25T14:17:54.427Z"
   },
   {
    "duration": 12,
    "start_time": "2022-01-25T14:17:54.440Z"
   },
   {
    "duration": 5,
    "start_time": "2022-01-25T14:17:54.453Z"
   },
   {
    "duration": 6,
    "start_time": "2022-01-25T14:17:54.460Z"
   },
   {
    "duration": 30,
    "start_time": "2022-01-25T14:17:54.467Z"
   },
   {
    "duration": 15,
    "start_time": "2022-01-25T14:17:54.498Z"
   },
   {
    "duration": 8,
    "start_time": "2022-01-25T14:17:54.515Z"
   },
   {
    "duration": 7,
    "start_time": "2022-01-25T14:17:54.525Z"
   },
   {
    "duration": 6,
    "start_time": "2022-01-25T14:17:54.534Z"
   },
   {
    "duration": 12,
    "start_time": "2022-01-25T14:17:54.542Z"
   },
   {
    "duration": 10,
    "start_time": "2022-01-25T14:17:54.556Z"
   },
   {
    "duration": 20,
    "start_time": "2022-01-25T14:17:54.597Z"
   },
   {
    "duration": 23,
    "start_time": "2022-01-25T14:20:00.234Z"
   },
   {
    "duration": 19,
    "start_time": "2022-01-25T14:20:19.505Z"
   },
   {
    "duration": 24,
    "start_time": "2022-01-25T14:20:54.497Z"
   },
   {
    "duration": 24,
    "start_time": "2022-01-25T14:21:08.940Z"
   },
   {
    "duration": 25,
    "start_time": "2022-01-25T14:21:18.666Z"
   },
   {
    "duration": 28,
    "start_time": "2022-01-25T14:21:44.381Z"
   },
   {
    "duration": 316,
    "start_time": "2022-01-26T08:11:52.175Z"
   },
   {
    "duration": 1071,
    "start_time": "2022-01-26T08:11:56.458Z"
   },
   {
    "duration": 3,
    "start_time": "2022-01-26T08:11:57.531Z"
   },
   {
    "duration": 38,
    "start_time": "2022-01-26T08:11:57.536Z"
   },
   {
    "duration": 13,
    "start_time": "2022-01-26T08:11:57.576Z"
   },
   {
    "duration": 11,
    "start_time": "2022-01-26T08:11:57.591Z"
   },
   {
    "duration": 33,
    "start_time": "2022-01-26T08:11:57.604Z"
   },
   {
    "duration": 30,
    "start_time": "2022-01-26T08:11:57.639Z"
   },
   {
    "duration": 298,
    "start_time": "2022-01-26T08:11:57.672Z"
   },
   {
    "duration": 5,
    "start_time": "2022-01-26T08:11:57.973Z"
   },
   {
    "duration": 21,
    "start_time": "2022-01-26T08:11:57.980Z"
   },
   {
    "duration": 13,
    "start_time": "2022-01-26T08:11:58.003Z"
   },
   {
    "duration": 10,
    "start_time": "2022-01-26T08:11:58.018Z"
   },
   {
    "duration": 8,
    "start_time": "2022-01-26T08:11:58.029Z"
   },
   {
    "duration": 13,
    "start_time": "2022-01-26T08:11:58.038Z"
   },
   {
    "duration": 9,
    "start_time": "2022-01-26T08:11:58.053Z"
   },
   {
    "duration": 9,
    "start_time": "2022-01-26T08:11:58.063Z"
   },
   {
    "duration": 6121,
    "start_time": "2022-01-26T08:11:58.074Z"
   },
   {
    "duration": 16,
    "start_time": "2022-01-26T08:12:04.197Z"
   },
   {
    "duration": 7,
    "start_time": "2022-01-26T08:12:04.215Z"
   },
   {
    "duration": 476,
    "start_time": "2022-01-26T08:12:04.223Z"
   },
   {
    "duration": 10,
    "start_time": "2022-01-26T08:12:04.702Z"
   },
   {
    "duration": 6,
    "start_time": "2022-01-26T08:12:04.714Z"
   },
   {
    "duration": 2,
    "start_time": "2022-01-26T08:12:04.723Z"
   },
   {
    "duration": 5,
    "start_time": "2022-01-26T08:12:04.727Z"
   },
   {
    "duration": 4,
    "start_time": "2022-01-26T08:12:04.734Z"
   },
   {
    "duration": 18,
    "start_time": "2022-01-26T08:12:04.740Z"
   },
   {
    "duration": 12,
    "start_time": "2022-01-26T08:12:04.760Z"
   },
   {
    "duration": 40,
    "start_time": "2022-01-26T08:12:04.774Z"
   },
   {
    "duration": 7,
    "start_time": "2022-01-26T08:12:04.816Z"
   },
   {
    "duration": 4,
    "start_time": "2022-01-26T08:12:04.825Z"
   },
   {
    "duration": 262,
    "start_time": "2022-01-26T08:12:04.831Z"
   },
   {
    "duration": 1354,
    "start_time": "2022-01-26T08:12:03.741Z"
   },
   {
    "duration": 1352,
    "start_time": "2022-01-26T08:12:03.744Z"
   },
   {
    "duration": 1351,
    "start_time": "2022-01-26T08:12:03.746Z"
   },
   {
    "duration": 1350,
    "start_time": "2022-01-26T08:12:03.748Z"
   },
   {
    "duration": 16,
    "start_time": "2022-01-26T08:13:32.809Z"
   },
   {
    "duration": 18,
    "start_time": "2022-01-26T08:13:36.875Z"
   },
   {
    "duration": 23,
    "start_time": "2022-01-26T08:13:45.337Z"
   },
   {
    "duration": 204,
    "start_time": "2022-01-26T08:15:05.238Z"
   },
   {
    "duration": 3565,
    "start_time": "2022-01-26T08:15:19.290Z"
   },
   {
    "duration": 4078,
    "start_time": "2022-01-26T08:15:48.712Z"
   },
   {
    "duration": 3667,
    "start_time": "2022-01-26T08:16:13.641Z"
   },
   {
    "duration": 12,
    "start_time": "2022-01-26T08:17:12.356Z"
   },
   {
    "duration": 6,
    "start_time": "2022-01-26T08:17:15.469Z"
   },
   {
    "duration": 13,
    "start_time": "2022-01-26T08:18:09.347Z"
   },
   {
    "duration": 7,
    "start_time": "2022-01-26T08:18:11.706Z"
   },
   {
    "duration": 763,
    "start_time": "2022-01-26T08:18:57.833Z"
   },
   {
    "duration": 8,
    "start_time": "2022-01-26T08:18:58.748Z"
   },
   {
    "duration": 13,
    "start_time": "2022-01-26T08:19:41.279Z"
   },
   {
    "duration": 7,
    "start_time": "2022-01-26T08:19:46.773Z"
   },
   {
    "duration": 13,
    "start_time": "2022-01-26T08:19:49.850Z"
   },
   {
    "duration": 4,
    "start_time": "2022-01-26T08:20:05.803Z"
   },
   {
    "duration": 8,
    "start_time": "2022-01-26T08:20:06.977Z"
   },
   {
    "duration": 8,
    "start_time": "2022-01-26T08:20:28.524Z"
   },
   {
    "duration": 1272,
    "start_time": "2022-01-26T08:22:56.198Z"
   },
   {
    "duration": 366,
    "start_time": "2022-01-26T08:23:51.091Z"
   },
   {
    "duration": 1233,
    "start_time": "2022-01-26T08:24:17.250Z"
   },
   {
    "duration": 1443,
    "start_time": "2022-01-26T08:26:28.419Z"
   },
   {
    "duration": 1469,
    "start_time": "2022-01-26T08:27:36.446Z"
   },
   {
    "duration": 1372,
    "start_time": "2022-01-26T08:27:53.754Z"
   },
   {
    "duration": 367,
    "start_time": "2022-01-26T08:29:04.055Z"
   },
   {
    "duration": 519,
    "start_time": "2022-01-26T08:29:31.153Z"
   },
   {
    "duration": 371,
    "start_time": "2022-01-26T08:29:46.541Z"
   },
   {
    "duration": 1507,
    "start_time": "2022-01-26T08:33:06.283Z"
   },
   {
    "duration": 6583,
    "start_time": "2022-01-26T08:33:56.314Z"
   },
   {
    "duration": 1550,
    "start_time": "2022-01-26T08:34:31.280Z"
   },
   {
    "duration": 208,
    "start_time": "2022-01-26T08:35:19.617Z"
   },
   {
    "duration": 361,
    "start_time": "2022-01-26T08:35:33.857Z"
   },
   {
    "duration": 225,
    "start_time": "2022-01-26T08:43:21.532Z"
   },
   {
    "duration": 202,
    "start_time": "2022-01-26T08:43:33.410Z"
   },
   {
    "duration": 186,
    "start_time": "2022-01-26T08:43:41.089Z"
   },
   {
    "duration": 195,
    "start_time": "2022-01-26T08:44:21.780Z"
   },
   {
    "duration": 757,
    "start_time": "2022-01-26T08:46:33.789Z"
   },
   {
    "duration": 4,
    "start_time": "2022-01-26T08:46:34.836Z"
   },
   {
    "duration": 13,
    "start_time": "2022-01-26T08:46:48.075Z"
   },
   {
    "duration": 5,
    "start_time": "2022-01-26T08:46:49.102Z"
   },
   {
    "duration": 7,
    "start_time": "2022-01-26T08:46:50.259Z"
   },
   {
    "duration": 5,
    "start_time": "2022-01-26T08:47:06.898Z"
   },
   {
    "duration": 14,
    "start_time": "2022-01-26T08:47:51.886Z"
   },
   {
    "duration": 198,
    "start_time": "2022-01-26T08:48:19.162Z"
   },
   {
    "duration": 212,
    "start_time": "2022-01-26T08:48:34.069Z"
   },
   {
    "duration": 201,
    "start_time": "2022-01-26T08:48:39.617Z"
   },
   {
    "duration": 254,
    "start_time": "2022-01-26T08:50:57.557Z"
   },
   {
    "duration": 16,
    "start_time": "2022-01-26T08:51:59.065Z"
   },
   {
    "duration": 14,
    "start_time": "2022-01-26T08:52:11.006Z"
   },
   {
    "duration": 4,
    "start_time": "2022-01-26T08:52:12.008Z"
   },
   {
    "duration": 7,
    "start_time": "2022-01-26T08:52:13.390Z"
   },
   {
    "duration": 13,
    "start_time": "2022-01-26T09:13:13.546Z"
   },
   {
    "duration": 6,
    "start_time": "2022-01-26T09:13:25.152Z"
   },
   {
    "duration": 14,
    "start_time": "2022-01-26T09:13:34.360Z"
   },
   {
    "duration": 6,
    "start_time": "2022-01-26T09:13:35.029Z"
   },
   {
    "duration": 13,
    "start_time": "2022-01-26T09:15:18.170Z"
   },
   {
    "duration": 6,
    "start_time": "2022-01-26T09:15:18.810Z"
   },
   {
    "duration": 1425,
    "start_time": "2022-01-26T09:16:21.605Z"
   },
   {
    "duration": 1582,
    "start_time": "2022-01-26T09:17:15.994Z"
   },
   {
    "duration": 1371,
    "start_time": "2022-01-26T09:19:38.101Z"
   },
   {
    "duration": 291,
    "start_time": "2022-01-26T09:20:13.561Z"
   },
   {
    "duration": 25,
    "start_time": "2022-01-26T09:20:28.332Z"
   },
   {
    "duration": 4,
    "start_time": "2022-01-26T09:20:50.395Z"
   },
   {
    "duration": 212,
    "start_time": "2022-01-26T09:20:54.681Z"
   },
   {
    "duration": 24,
    "start_time": "2022-01-26T09:24:13.572Z"
   },
   {
    "duration": 14,
    "start_time": "2022-01-26T09:26:41.686Z"
   },
   {
    "duration": 8,
    "start_time": "2022-01-26T09:26:42.397Z"
   },
   {
    "duration": 13,
    "start_time": "2022-01-26T09:26:47.869Z"
   },
   {
    "duration": 6,
    "start_time": "2022-01-26T09:26:50.370Z"
   },
   {
    "duration": 14,
    "start_time": "2022-01-26T09:30:50.314Z"
   },
   {
    "duration": 14,
    "start_time": "2022-01-26T09:35:31.924Z"
   },
   {
    "duration": 662,
    "start_time": "2022-01-26T09:37:07.264Z"
   },
   {
    "duration": 14,
    "start_time": "2022-01-26T09:38:13.829Z"
   },
   {
    "duration": 4,
    "start_time": "2022-01-26T09:38:41.501Z"
   },
   {
    "duration": 616,
    "start_time": "2022-01-26T09:38:44.998Z"
   },
   {
    "duration": 298,
    "start_time": "2022-01-26T09:39:26.745Z"
   },
   {
    "duration": 895,
    "start_time": "2022-01-26T09:42:00.895Z"
   },
   {
    "duration": 11,
    "start_time": "2022-01-26T09:42:19.943Z"
   },
   {
    "duration": 181,
    "start_time": "2022-01-26T09:42:44.114Z"
   },
   {
    "duration": 12,
    "start_time": "2022-01-26T09:42:56.020Z"
   },
   {
    "duration": 191,
    "start_time": "2022-01-26T09:43:18.664Z"
   },
   {
    "duration": 12,
    "start_time": "2022-01-26T09:43:29.663Z"
   },
   {
    "duration": 460,
    "start_time": "2022-01-26T09:43:30.496Z"
   },
   {
    "duration": 61,
    "start_time": "2022-01-26T09:45:49.001Z"
   },
   {
    "duration": 16,
    "start_time": "2022-01-26T09:47:24.128Z"
   },
   {
    "duration": 13,
    "start_time": "2022-01-26T09:47:34.216Z"
   },
   {
    "duration": 12,
    "start_time": "2022-01-26T09:49:03.745Z"
   },
   {
    "duration": 4,
    "start_time": "2022-01-26T09:49:10.185Z"
   },
   {
    "duration": 314,
    "start_time": "2022-01-26T09:49:12.897Z"
   },
   {
    "duration": 7,
    "start_time": "2022-01-26T09:49:39.191Z"
   },
   {
    "duration": 281,
    "start_time": "2022-01-26T09:49:55.026Z"
   },
   {
    "duration": 490,
    "start_time": "2022-01-26T09:50:20.244Z"
   },
   {
    "duration": 15,
    "start_time": "2022-01-26T09:55:51.926Z"
   },
   {
    "duration": 12,
    "start_time": "2022-01-26T09:55:55.481Z"
   },
   {
    "duration": 4,
    "start_time": "2022-01-26T09:55:57.779Z"
   },
   {
    "duration": 7,
    "start_time": "2022-01-26T09:55:58.568Z"
   },
   {
    "duration": 1239,
    "start_time": "2022-01-26T09:56:00.183Z"
   },
   {
    "duration": 12,
    "start_time": "2022-01-26T09:57:20.126Z"
   },
   {
    "duration": 6,
    "start_time": "2022-01-26T09:57:20.969Z"
   },
   {
    "duration": 457,
    "start_time": "2022-01-26T09:59:09.320Z"
   },
   {
    "duration": 202,
    "start_time": "2022-01-26T11:12:24.627Z"
   },
   {
    "duration": 12,
    "start_time": "2022-01-26T11:14:35.484Z"
   },
   {
    "duration": 11,
    "start_time": "2022-01-26T11:14:38.087Z"
   },
   {
    "duration": 13,
    "start_time": "2022-01-26T11:14:39.419Z"
   },
   {
    "duration": 8,
    "start_time": "2022-01-26T11:14:40.379Z"
   },
   {
    "duration": 197,
    "start_time": "2022-01-26T11:14:41.450Z"
   },
   {
    "duration": 3,
    "start_time": "2022-01-26T11:14:53.347Z"
   },
   {
    "duration": 5,
    "start_time": "2022-01-26T11:14:53.352Z"
   },
   {
    "duration": 34,
    "start_time": "2022-01-26T11:14:53.359Z"
   },
   {
    "duration": 11,
    "start_time": "2022-01-26T11:14:53.395Z"
   },
   {
    "duration": 11,
    "start_time": "2022-01-26T11:14:53.407Z"
   },
   {
    "duration": 25,
    "start_time": "2022-01-26T11:14:53.420Z"
   },
   {
    "duration": 30,
    "start_time": "2022-01-26T11:14:53.447Z"
   },
   {
    "duration": 35,
    "start_time": "2022-01-26T11:14:53.479Z"
   },
   {
    "duration": 4,
    "start_time": "2022-01-26T11:14:53.517Z"
   },
   {
    "duration": 12,
    "start_time": "2022-01-26T11:14:53.522Z"
   },
   {
    "duration": 9,
    "start_time": "2022-01-26T11:14:53.535Z"
   },
   {
    "duration": 17,
    "start_time": "2022-01-26T11:14:53.545Z"
   },
   {
    "duration": 8,
    "start_time": "2022-01-26T11:14:53.563Z"
   },
   {
    "duration": 13,
    "start_time": "2022-01-26T11:14:53.572Z"
   },
   {
    "duration": 9,
    "start_time": "2022-01-26T11:14:53.586Z"
   },
   {
    "duration": 22,
    "start_time": "2022-01-26T11:14:53.597Z"
   },
   {
    "duration": 6007,
    "start_time": "2022-01-26T11:14:53.620Z"
   },
   {
    "duration": 10,
    "start_time": "2022-01-26T11:14:59.629Z"
   },
   {
    "duration": 8,
    "start_time": "2022-01-26T11:14:59.640Z"
   },
   {
    "duration": 449,
    "start_time": "2022-01-26T11:14:59.650Z"
   },
   {
    "duration": 3,
    "start_time": "2022-01-26T11:15:00.101Z"
   },
   {
    "duration": 6,
    "start_time": "2022-01-26T11:15:00.112Z"
   },
   {
    "duration": 9,
    "start_time": "2022-01-26T11:15:00.120Z"
   },
   {
    "duration": 11,
    "start_time": "2022-01-26T11:15:00.130Z"
   },
   {
    "duration": 6,
    "start_time": "2022-01-26T11:15:00.143Z"
   },
   {
    "duration": 18,
    "start_time": "2022-01-26T11:15:00.150Z"
   },
   {
    "duration": 12,
    "start_time": "2022-01-26T11:15:00.171Z"
   },
   {
    "duration": 4,
    "start_time": "2022-01-26T11:15:00.184Z"
   },
   {
    "duration": 24,
    "start_time": "2022-01-26T11:15:00.189Z"
   },
   {
    "duration": 1348,
    "start_time": "2022-01-26T11:15:00.215Z"
   },
   {
    "duration": 13,
    "start_time": "2022-01-26T11:15:01.565Z"
   },
   {
    "duration": 6,
    "start_time": "2022-01-26T11:15:01.579Z"
   },
   {
    "duration": 36,
    "start_time": "2022-01-26T11:15:01.586Z"
   },
   {
    "duration": 24,
    "start_time": "2022-01-26T11:15:01.624Z"
   },
   {
    "duration": 11,
    "start_time": "2022-01-26T11:15:01.650Z"
   },
   {
    "duration": 12,
    "start_time": "2022-01-26T11:15:01.663Z"
   },
   {
    "duration": 7,
    "start_time": "2022-01-26T11:15:01.676Z"
   },
   {
    "duration": 218,
    "start_time": "2022-01-26T11:15:01.713Z"
   },
   {
    "duration": 1529,
    "start_time": "2022-01-26T11:15:00.405Z"
   },
   {
    "duration": 11,
    "start_time": "2022-01-26T11:15:43.076Z"
   },
   {
    "duration": 14,
    "start_time": "2022-01-26T11:15:43.902Z"
   },
   {
    "duration": 8,
    "start_time": "2022-01-26T11:15:44.605Z"
   },
   {
    "duration": 209,
    "start_time": "2022-01-26T11:15:49.331Z"
   },
   {
    "duration": 6,
    "start_time": "2022-01-26T11:16:41.924Z"
   },
   {
    "duration": 492,
    "start_time": "2022-01-26T11:16:44.877Z"
   },
   {
    "duration": 468,
    "start_time": "2022-01-26T11:16:55.885Z"
   },
   {
    "duration": 248,
    "start_time": "2022-01-26T11:17:32.852Z"
   },
   {
    "duration": 8,
    "start_time": "2022-01-26T11:17:39.970Z"
   },
   {
    "duration": 18,
    "start_time": "2022-01-26T11:17:58.833Z"
   },
   {
    "duration": 461,
    "start_time": "2022-01-26T11:18:56.379Z"
   },
   {
    "duration": 402,
    "start_time": "2022-01-26T11:20:14.402Z"
   },
   {
    "duration": 400,
    "start_time": "2022-01-26T11:20:42.093Z"
   },
   {
    "duration": 452,
    "start_time": "2022-01-26T11:20:56.050Z"
   },
   {
    "duration": 494,
    "start_time": "2022-01-26T11:21:39.893Z"
   },
   {
    "duration": 441,
    "start_time": "2022-01-26T11:21:51.849Z"
   },
   {
    "duration": 445,
    "start_time": "2022-01-26T11:25:59.344Z"
   },
   {
    "duration": 623,
    "start_time": "2022-01-26T11:29:02.364Z"
   },
   {
    "duration": 60,
    "start_time": "2022-01-26T11:35:20.170Z"
   },
   {
    "duration": 227,
    "start_time": "2022-01-26T11:35:26.735Z"
   },
   {
    "duration": 238,
    "start_time": "2022-01-26T11:35:39.593Z"
   },
   {
    "duration": 6,
    "start_time": "2022-01-26T11:49:28.096Z"
   },
   {
    "duration": 2,
    "start_time": "2022-01-26T11:50:37.907Z"
   },
   {
    "duration": 4,
    "start_time": "2022-01-26T11:50:37.912Z"
   },
   {
    "duration": 36,
    "start_time": "2022-01-26T11:50:37.918Z"
   },
   {
    "duration": 12,
    "start_time": "2022-01-26T11:50:37.955Z"
   },
   {
    "duration": 43,
    "start_time": "2022-01-26T11:50:37.969Z"
   },
   {
    "duration": 28,
    "start_time": "2022-01-26T11:50:38.014Z"
   },
   {
    "duration": 34,
    "start_time": "2022-01-26T11:50:38.044Z"
   },
   {
    "duration": 41,
    "start_time": "2022-01-26T11:50:38.079Z"
   },
   {
    "duration": 3,
    "start_time": "2022-01-26T11:50:38.123Z"
   },
   {
    "duration": 11,
    "start_time": "2022-01-26T11:50:38.128Z"
   },
   {
    "duration": 7,
    "start_time": "2022-01-26T11:50:38.141Z"
   },
   {
    "duration": 11,
    "start_time": "2022-01-26T11:50:38.150Z"
   },
   {
    "duration": 4,
    "start_time": "2022-01-26T11:50:38.162Z"
   },
   {
    "duration": 10,
    "start_time": "2022-01-26T11:50:38.167Z"
   },
   {
    "duration": 34,
    "start_time": "2022-01-26T11:50:38.178Z"
   },
   {
    "duration": 9,
    "start_time": "2022-01-26T11:50:38.214Z"
   },
   {
    "duration": 6093,
    "start_time": "2022-01-26T11:50:38.224Z"
   },
   {
    "duration": 10,
    "start_time": "2022-01-26T11:50:44.319Z"
   },
   {
    "duration": 6,
    "start_time": "2022-01-26T11:50:44.331Z"
   },
   {
    "duration": 462,
    "start_time": "2022-01-26T11:50:44.338Z"
   },
   {
    "duration": 2,
    "start_time": "2022-01-26T11:50:44.801Z"
   },
   {
    "duration": 3,
    "start_time": "2022-01-26T11:50:44.811Z"
   },
   {
    "duration": 6,
    "start_time": "2022-01-26T11:50:44.816Z"
   },
   {
    "duration": 4,
    "start_time": "2022-01-26T11:50:44.823Z"
   },
   {
    "duration": 5,
    "start_time": "2022-01-26T11:50:44.829Z"
   },
   {
    "duration": 18,
    "start_time": "2022-01-26T11:50:44.835Z"
   },
   {
    "duration": 14,
    "start_time": "2022-01-26T11:50:44.856Z"
   },
   {
    "duration": 4,
    "start_time": "2022-01-26T11:50:44.872Z"
   },
   {
    "duration": 36,
    "start_time": "2022-01-26T11:50:44.877Z"
   },
   {
    "duration": 1160,
    "start_time": "2022-01-26T11:50:44.915Z"
   },
   {
    "duration": 15,
    "start_time": "2022-01-26T11:50:46.077Z"
   },
   {
    "duration": 5,
    "start_time": "2022-01-26T11:50:46.094Z"
   },
   {
    "duration": 16,
    "start_time": "2022-01-26T11:50:46.113Z"
   },
   {
    "duration": 23,
    "start_time": "2022-01-26T11:50:46.131Z"
   },
   {
    "duration": 10,
    "start_time": "2022-01-26T11:50:46.156Z"
   },
   {
    "duration": 44,
    "start_time": "2022-01-26T11:50:46.168Z"
   },
   {
    "duration": 5,
    "start_time": "2022-01-26T11:50:46.214Z"
   },
   {
    "duration": 465,
    "start_time": "2022-01-26T11:50:46.221Z"
   },
   {
    "duration": 25,
    "start_time": "2022-01-26T11:50:46.688Z"
   },
   {
    "duration": 478,
    "start_time": "2022-01-26T11:50:46.715Z"
   },
   {
    "duration": 617,
    "start_time": "2022-01-26T11:50:47.195Z"
   },
   {
    "duration": 9,
    "start_time": "2022-01-26T11:50:47.814Z"
   },
   {
    "duration": 501,
    "start_time": "2022-01-26T11:56:30.338Z"
   },
   {
    "duration": 11,
    "start_time": "2022-01-26T11:56:45.515Z"
   },
   {
    "duration": 4,
    "start_time": "2022-01-26T11:56:46.993Z"
   },
   {
    "duration": 6,
    "start_time": "2022-01-26T11:57:06.407Z"
   },
   {
    "duration": 9,
    "start_time": "2022-01-26T13:31:25.310Z"
   },
   {
    "duration": 8,
    "start_time": "2022-01-26T13:31:36.129Z"
   },
   {
    "duration": 11,
    "start_time": "2022-01-26T13:33:15.904Z"
   },
   {
    "duration": 8,
    "start_time": "2022-01-26T13:33:16.941Z"
   },
   {
    "duration": 9,
    "start_time": "2022-01-26T13:34:00.301Z"
   },
   {
    "duration": 8,
    "start_time": "2022-01-26T13:34:01.150Z"
   },
   {
    "duration": 1547,
    "start_time": "2022-01-27T07:29:38.048Z"
   },
   {
    "duration": 4,
    "start_time": "2022-01-27T07:29:39.598Z"
   },
   {
    "duration": 64,
    "start_time": "2022-01-27T07:29:39.604Z"
   },
   {
    "duration": 20,
    "start_time": "2022-01-27T07:29:39.671Z"
   },
   {
    "duration": 13,
    "start_time": "2022-01-27T07:29:39.694Z"
   },
   {
    "duration": 49,
    "start_time": "2022-01-27T07:29:39.710Z"
   },
   {
    "duration": 70,
    "start_time": "2022-01-27T07:29:39.761Z"
   },
   {
    "duration": 616,
    "start_time": "2022-01-27T07:29:39.834Z"
   },
   {
    "duration": 7,
    "start_time": "2022-01-27T07:29:40.454Z"
   },
   {
    "duration": 16,
    "start_time": "2022-01-27T07:29:40.464Z"
   },
   {
    "duration": 40,
    "start_time": "2022-01-27T07:29:40.483Z"
   },
   {
    "duration": 17,
    "start_time": "2022-01-27T07:29:40.525Z"
   },
   {
    "duration": 3,
    "start_time": "2022-01-27T07:29:40.545Z"
   },
   {
    "duration": 15,
    "start_time": "2022-01-27T07:29:40.550Z"
   },
   {
    "duration": 20,
    "start_time": "2022-01-27T07:29:40.568Z"
   },
   {
    "duration": 41,
    "start_time": "2022-01-27T07:29:40.590Z"
   },
   {
    "duration": 10623,
    "start_time": "2022-01-27T07:29:40.634Z"
   },
   {
    "duration": 15,
    "start_time": "2022-01-27T07:29:51.260Z"
   },
   {
    "duration": 20,
    "start_time": "2022-01-27T07:29:51.278Z"
   },
   {
    "duration": 666,
    "start_time": "2022-01-27T07:29:51.301Z"
   },
   {
    "duration": 4,
    "start_time": "2022-01-27T07:29:51.970Z"
   },
   {
    "duration": 6,
    "start_time": "2022-01-27T07:29:51.977Z"
   },
   {
    "duration": 3,
    "start_time": "2022-01-27T07:29:51.990Z"
   },
   {
    "duration": 5,
    "start_time": "2022-01-27T07:29:52.022Z"
   },
   {
    "duration": 10,
    "start_time": "2022-01-27T07:29:52.030Z"
   },
   {
    "duration": 28,
    "start_time": "2022-01-27T07:29:52.042Z"
   },
   {
    "duration": 18,
    "start_time": "2022-01-27T07:29:52.072Z"
   },
   {
    "duration": 6,
    "start_time": "2022-01-27T07:29:52.092Z"
   },
   {
    "duration": 10,
    "start_time": "2022-01-27T07:29:52.124Z"
   },
   {
    "duration": 1795,
    "start_time": "2022-01-27T07:29:52.136Z"
   },
   {
    "duration": 18,
    "start_time": "2022-01-27T07:29:53.933Z"
   },
   {
    "duration": 7,
    "start_time": "2022-01-27T07:29:53.953Z"
   },
   {
    "duration": 416,
    "start_time": "2022-01-27T07:29:53.962Z"
   },
   {
    "duration": 292,
    "start_time": "2022-01-27T07:29:54.089Z"
   },
   {
    "duration": 291,
    "start_time": "2022-01-27T07:29:54.091Z"
   },
   {
    "duration": 291,
    "start_time": "2022-01-27T07:29:54.093Z"
   },
   {
    "duration": 290,
    "start_time": "2022-01-27T07:29:54.095Z"
   },
   {
    "duration": 289,
    "start_time": "2022-01-27T07:29:54.098Z"
   },
   {
    "duration": 288,
    "start_time": "2022-01-27T07:29:54.100Z"
   },
   {
    "duration": 288,
    "start_time": "2022-01-27T07:29:54.102Z"
   },
   {
    "duration": 287,
    "start_time": "2022-01-27T07:29:54.105Z"
   },
   {
    "duration": 286,
    "start_time": "2022-01-27T07:29:54.107Z"
   },
   {
    "duration": 285,
    "start_time": "2022-01-27T07:29:54.109Z"
   },
   {
    "duration": 284,
    "start_time": "2022-01-27T07:29:54.112Z"
   },
   {
    "duration": 283,
    "start_time": "2022-01-27T07:29:54.114Z"
   },
   {
    "duration": 22,
    "start_time": "2022-01-27T07:33:00.068Z"
   },
   {
    "duration": 4,
    "start_time": "2022-01-27T07:33:04.605Z"
   },
   {
    "duration": 161,
    "start_time": "2022-01-27T07:33:04.612Z"
   },
   {
    "duration": 48,
    "start_time": "2022-01-27T07:33:04.776Z"
   },
   {
    "duration": 18,
    "start_time": "2022-01-27T07:33:04.827Z"
   },
   {
    "duration": 18,
    "start_time": "2022-01-27T07:33:04.848Z"
   },
   {
    "duration": 68,
    "start_time": "2022-01-27T07:33:04.869Z"
   },
   {
    "duration": 61,
    "start_time": "2022-01-27T07:33:04.940Z"
   },
   {
    "duration": 43,
    "start_time": "2022-01-27T07:33:05.005Z"
   },
   {
    "duration": 6,
    "start_time": "2022-01-27T07:33:05.052Z"
   },
   {
    "duration": 31,
    "start_time": "2022-01-27T07:33:05.060Z"
   },
   {
    "duration": 30,
    "start_time": "2022-01-27T07:33:05.093Z"
   },
   {
    "duration": 33,
    "start_time": "2022-01-27T07:33:05.126Z"
   },
   {
    "duration": 4,
    "start_time": "2022-01-27T07:33:05.162Z"
   },
   {
    "duration": 19,
    "start_time": "2022-01-27T07:33:05.168Z"
   },
   {
    "duration": 16,
    "start_time": "2022-01-27T07:33:05.189Z"
   },
   {
    "duration": 26,
    "start_time": "2022-01-27T07:33:05.208Z"
   },
   {
    "duration": 11211,
    "start_time": "2022-01-27T07:33:05.236Z"
   },
   {
    "duration": 15,
    "start_time": "2022-01-27T07:33:16.450Z"
   },
   {
    "duration": 11,
    "start_time": "2022-01-27T07:33:16.468Z"
   },
   {
    "duration": 687,
    "start_time": "2022-01-27T07:33:16.481Z"
   },
   {
    "duration": 3,
    "start_time": "2022-01-27T07:33:17.170Z"
   },
   {
    "duration": 9,
    "start_time": "2022-01-27T07:33:17.175Z"
   },
   {
    "duration": 5,
    "start_time": "2022-01-27T07:33:17.188Z"
   },
   {
    "duration": 27,
    "start_time": "2022-01-27T07:33:17.196Z"
   },
   {
    "duration": 6,
    "start_time": "2022-01-27T07:33:17.226Z"
   },
   {
    "duration": 28,
    "start_time": "2022-01-27T07:33:17.234Z"
   },
   {
    "duration": 20,
    "start_time": "2022-01-27T07:33:17.265Z"
   },
   {
    "duration": 6,
    "start_time": "2022-01-27T07:33:17.287Z"
   },
   {
    "duration": 11,
    "start_time": "2022-01-27T07:33:17.324Z"
   },
   {
    "duration": 1873,
    "start_time": "2022-01-27T07:33:17.338Z"
   },
   {
    "duration": 29,
    "start_time": "2022-01-27T07:33:19.213Z"
   },
   {
    "duration": 9,
    "start_time": "2022-01-27T07:33:19.244Z"
   },
   {
    "duration": 23,
    "start_time": "2022-01-27T07:33:19.256Z"
   },
   {
    "duration": 310,
    "start_time": "2022-01-27T07:33:19.282Z"
   },
   {
    "duration": 220,
    "start_time": "2022-01-27T07:33:19.375Z"
   },
   {
    "duration": 220,
    "start_time": "2022-01-27T07:33:19.376Z"
   },
   {
    "duration": 219,
    "start_time": "2022-01-27T07:33:19.378Z"
   },
   {
    "duration": 221,
    "start_time": "2022-01-27T07:33:19.379Z"
   },
   {
    "duration": 220,
    "start_time": "2022-01-27T07:33:19.381Z"
   },
   {
    "duration": 220,
    "start_time": "2022-01-27T07:33:19.383Z"
   },
   {
    "duration": 220,
    "start_time": "2022-01-27T07:33:19.384Z"
   },
   {
    "duration": 220,
    "start_time": "2022-01-27T07:33:19.386Z"
   },
   {
    "duration": 220,
    "start_time": "2022-01-27T07:33:19.387Z"
   },
   {
    "duration": 220,
    "start_time": "2022-01-27T07:33:19.389Z"
   },
   {
    "duration": 219,
    "start_time": "2022-01-27T07:33:19.391Z"
   },
   {
    "duration": 34,
    "start_time": "2022-01-27T07:35:35.059Z"
   },
   {
    "duration": 5,
    "start_time": "2022-01-27T07:35:39.542Z"
   },
   {
    "duration": 8,
    "start_time": "2022-01-27T07:35:39.549Z"
   },
   {
    "duration": 49,
    "start_time": "2022-01-27T07:35:39.560Z"
   },
   {
    "duration": 26,
    "start_time": "2022-01-27T07:35:39.612Z"
   },
   {
    "duration": 16,
    "start_time": "2022-01-27T07:35:39.640Z"
   },
   {
    "duration": 37,
    "start_time": "2022-01-27T07:35:39.658Z"
   },
   {
    "duration": 46,
    "start_time": "2022-01-27T07:35:39.724Z"
   },
   {
    "duration": 23,
    "start_time": "2022-01-27T07:35:39.773Z"
   },
   {
    "duration": 26,
    "start_time": "2022-01-27T07:35:39.800Z"
   },
   {
    "duration": 21,
    "start_time": "2022-01-27T07:35:39.829Z"
   },
   {
    "duration": 6,
    "start_time": "2022-01-27T07:35:39.853Z"
   },
   {
    "duration": 15,
    "start_time": "2022-01-27T07:35:39.862Z"
   },
   {
    "duration": 4,
    "start_time": "2022-01-27T07:35:39.880Z"
   },
   {
    "duration": 50,
    "start_time": "2022-01-27T07:35:39.886Z"
   },
   {
    "duration": 13,
    "start_time": "2022-01-27T07:35:39.939Z"
   },
   {
    "duration": 16,
    "start_time": "2022-01-27T07:35:39.955Z"
   },
   {
    "duration": 14418,
    "start_time": "2022-01-27T07:35:39.973Z"
   },
   {
    "duration": 18,
    "start_time": "2022-01-27T07:35:54.393Z"
   },
   {
    "duration": 10,
    "start_time": "2022-01-27T07:35:54.424Z"
   },
   {
    "duration": 995,
    "start_time": "2022-01-27T07:35:54.437Z"
   },
   {
    "duration": 4,
    "start_time": "2022-01-27T07:35:55.435Z"
   },
   {
    "duration": 19,
    "start_time": "2022-01-27T07:35:55.442Z"
   },
   {
    "duration": 7,
    "start_time": "2022-01-27T07:35:55.464Z"
   },
   {
    "duration": 8,
    "start_time": "2022-01-27T07:35:55.474Z"
   },
   {
    "duration": 4,
    "start_time": "2022-01-27T07:35:55.485Z"
   },
   {
    "duration": 49,
    "start_time": "2022-01-27T07:35:55.492Z"
   },
   {
    "duration": 29,
    "start_time": "2022-01-27T07:35:55.549Z"
   },
   {
    "duration": 7,
    "start_time": "2022-01-27T07:35:55.582Z"
   },
   {
    "duration": 40,
    "start_time": "2022-01-27T07:35:55.591Z"
   },
   {
    "duration": 1875,
    "start_time": "2022-01-27T07:35:55.633Z"
   },
   {
    "duration": 25,
    "start_time": "2022-01-27T07:35:57.510Z"
   },
   {
    "duration": 17,
    "start_time": "2022-01-27T07:35:57.537Z"
   },
   {
    "duration": 32,
    "start_time": "2022-01-27T07:35:57.556Z"
   },
   {
    "duration": 49,
    "start_time": "2022-01-27T07:35:57.590Z"
   },
   {
    "duration": 15,
    "start_time": "2022-01-27T07:35:57.641Z"
   },
   {
    "duration": 16,
    "start_time": "2022-01-27T07:35:57.658Z"
   },
   {
    "duration": 5,
    "start_time": "2022-01-27T07:35:57.677Z"
   },
   {
    "duration": 750,
    "start_time": "2022-01-27T07:35:57.684Z"
   },
   {
    "duration": 307,
    "start_time": "2022-01-27T07:35:58.437Z"
   },
   {
    "duration": 199,
    "start_time": "2022-01-27T07:35:58.547Z"
   },
   {
    "duration": 200,
    "start_time": "2022-01-27T07:35:58.548Z"
   },
   {
    "duration": 199,
    "start_time": "2022-01-27T07:35:58.550Z"
   },
   {
    "duration": 199,
    "start_time": "2022-01-27T07:35:58.551Z"
   },
   {
    "duration": 199,
    "start_time": "2022-01-27T07:35:58.553Z"
   },
   {
    "duration": 198,
    "start_time": "2022-01-27T07:35:58.555Z"
   },
   {
    "duration": 25,
    "start_time": "2022-01-27T07:37:36.897Z"
   },
   {
    "duration": 4,
    "start_time": "2022-01-27T07:37:43.368Z"
   },
   {
    "duration": 8,
    "start_time": "2022-01-27T07:37:43.375Z"
   },
   {
    "duration": 43,
    "start_time": "2022-01-27T07:37:43.388Z"
   },
   {
    "duration": 16,
    "start_time": "2022-01-27T07:37:43.434Z"
   },
   {
    "duration": 22,
    "start_time": "2022-01-27T07:37:43.452Z"
   },
   {
    "duration": 58,
    "start_time": "2022-01-27T07:37:43.477Z"
   },
   {
    "duration": 47,
    "start_time": "2022-01-27T07:37:43.537Z"
   },
   {
    "duration": 45,
    "start_time": "2022-01-27T07:37:43.586Z"
   },
   {
    "duration": 6,
    "start_time": "2022-01-27T07:37:43.636Z"
   },
   {
    "duration": 16,
    "start_time": "2022-01-27T07:37:43.646Z"
   },
   {
    "duration": 6,
    "start_time": "2022-01-27T07:37:43.665Z"
   },
   {
    "duration": 57,
    "start_time": "2022-01-27T07:37:43.674Z"
   },
   {
    "duration": 4,
    "start_time": "2022-01-27T07:37:43.734Z"
   },
   {
    "duration": 19,
    "start_time": "2022-01-27T07:37:43.741Z"
   },
   {
    "duration": 24,
    "start_time": "2022-01-27T07:37:43.763Z"
   },
   {
    "duration": 38,
    "start_time": "2022-01-27T07:37:43.790Z"
   },
   {
    "duration": 10574,
    "start_time": "2022-01-27T07:37:43.831Z"
   },
   {
    "duration": 19,
    "start_time": "2022-01-27T07:37:54.407Z"
   },
   {
    "duration": 15,
    "start_time": "2022-01-27T07:37:54.429Z"
   },
   {
    "duration": 681,
    "start_time": "2022-01-27T07:37:54.446Z"
   },
   {
    "duration": 3,
    "start_time": "2022-01-27T07:37:55.129Z"
   },
   {
    "duration": 8,
    "start_time": "2022-01-27T07:37:55.134Z"
   },
   {
    "duration": 6,
    "start_time": "2022-01-27T07:37:55.144Z"
   },
   {
    "duration": 9,
    "start_time": "2022-01-27T07:37:55.152Z"
   },
   {
    "duration": 9,
    "start_time": "2022-01-27T07:37:55.163Z"
   },
   {
    "duration": 56,
    "start_time": "2022-01-27T07:37:55.175Z"
   },
   {
    "duration": 18,
    "start_time": "2022-01-27T07:37:55.236Z"
   },
   {
    "duration": 5,
    "start_time": "2022-01-27T07:37:55.257Z"
   },
   {
    "duration": 11,
    "start_time": "2022-01-27T07:37:55.265Z"
   },
   {
    "duration": 1898,
    "start_time": "2022-01-27T07:37:55.278Z"
   },
   {
    "duration": 19,
    "start_time": "2022-01-27T07:37:57.178Z"
   },
   {
    "duration": 24,
    "start_time": "2022-01-27T07:37:57.199Z"
   },
   {
    "duration": 29,
    "start_time": "2022-01-27T07:37:57.226Z"
   },
   {
    "duration": 33,
    "start_time": "2022-01-27T07:37:57.258Z"
   },
   {
    "duration": 43,
    "start_time": "2022-01-27T07:37:57.293Z"
   },
   {
    "duration": 19,
    "start_time": "2022-01-27T07:37:57.339Z"
   },
   {
    "duration": 5,
    "start_time": "2022-01-27T07:37:57.360Z"
   },
   {
    "duration": 737,
    "start_time": "2022-01-27T07:37:57.368Z"
   },
   {
    "duration": 34,
    "start_time": "2022-01-27T07:37:58.108Z"
   },
   {
    "duration": 749,
    "start_time": "2022-01-27T07:37:58.144Z"
   },
   {
    "duration": 712,
    "start_time": "2022-01-27T07:37:58.895Z"
   },
   {
    "duration": 19,
    "start_time": "2022-01-27T07:37:59.609Z"
   },
   {
    "duration": 13,
    "start_time": "2022-01-27T07:37:59.630Z"
   },
   {
    "duration": 16,
    "start_time": "2022-01-27T07:37:59.645Z"
   },
   {
    "duration": 16,
    "start_time": "2022-01-27T07:37:59.664Z"
   },
   {
    "duration": 15,
    "start_time": "2022-01-27T07:40:00.105Z"
   },
   {
    "duration": 13,
    "start_time": "2022-01-27T07:40:01.071Z"
   },
   {
    "duration": 12,
    "start_time": "2022-01-27T07:40:44.584Z"
   },
   {
    "duration": 12,
    "start_time": "2022-01-27T07:40:45.093Z"
   },
   {
    "duration": 13,
    "start_time": "2022-01-27T07:42:37.178Z"
   },
   {
    "duration": 2112,
    "start_time": "2022-01-27T07:43:59.986Z"
   },
   {
    "duration": 237,
    "start_time": "2022-01-27T07:44:01.864Z"
   },
   {
    "duration": 1061,
    "start_time": "2022-01-27T07:44:15.683Z"
   },
   {
    "duration": 12,
    "start_time": "2022-01-27T07:44:29.205Z"
   },
   {
    "duration": 12,
    "start_time": "2022-01-27T07:44:31.674Z"
   },
   {
    "duration": 17,
    "start_time": "2022-01-27T08:20:13.695Z"
   },
   {
    "duration": 13,
    "start_time": "2022-01-27T08:20:22.240Z"
   },
   {
    "duration": 16,
    "start_time": "2022-01-27T08:21:46.273Z"
   },
   {
    "duration": 10,
    "start_time": "2022-01-27T08:21:47.004Z"
   },
   {
    "duration": 13,
    "start_time": "2022-01-27T08:22:01.571Z"
   },
   {
    "duration": 5,
    "start_time": "2022-01-27T08:35:36.445Z"
   },
   {
    "duration": 7,
    "start_time": "2022-01-27T08:35:48.181Z"
   },
   {
    "duration": 346,
    "start_time": "2022-01-27T08:36:22.547Z"
   },
   {
    "duration": 6,
    "start_time": "2022-01-27T08:36:30.581Z"
   },
   {
    "duration": 11,
    "start_time": "2022-01-27T08:36:31.586Z"
   },
   {
    "duration": 175,
    "start_time": "2022-01-27T08:38:46.701Z"
   },
   {
    "duration": 299,
    "start_time": "2022-01-27T08:39:01.594Z"
   },
   {
    "duration": 10,
    "start_time": "2022-01-27T08:39:09.059Z"
   },
   {
    "duration": 357,
    "start_time": "2022-01-27T08:39:32.208Z"
   },
   {
    "duration": 319,
    "start_time": "2022-01-27T08:39:44.924Z"
   },
   {
    "duration": 20,
    "start_time": "2022-01-27T08:40:33.074Z"
   },
   {
    "duration": 10,
    "start_time": "2022-01-27T08:40:43.604Z"
   },
   {
    "duration": 291,
    "start_time": "2022-01-27T08:41:24.403Z"
   },
   {
    "duration": 311,
    "start_time": "2022-01-27T08:41:32.649Z"
   },
   {
    "duration": 11,
    "start_time": "2022-01-27T08:41:41.704Z"
   },
   {
    "duration": 6,
    "start_time": "2022-01-27T08:42:36.329Z"
   },
   {
    "duration": 10,
    "start_time": "2022-01-27T08:42:37.050Z"
   },
   {
    "duration": 309,
    "start_time": "2022-01-27T08:43:05.221Z"
   },
   {
    "duration": 1105,
    "start_time": "2022-01-27T08:43:52.182Z"
   },
   {
    "duration": 10,
    "start_time": "2022-01-27T08:43:53.482Z"
   },
   {
    "duration": 1599,
    "start_time": "2022-01-27T08:44:04.042Z"
   },
   {
    "duration": 15,
    "start_time": "2022-01-27T08:44:20.575Z"
   },
   {
    "duration": 10,
    "start_time": "2022-01-27T08:44:26.111Z"
   },
   {
    "duration": 1127,
    "start_time": "2022-01-27T08:44:37.711Z"
   },
   {
    "duration": 98,
    "start_time": "2022-01-27T08:45:52.032Z"
   },
   {
    "duration": 16,
    "start_time": "2022-01-27T08:46:14.999Z"
   },
   {
    "duration": 11,
    "start_time": "2022-01-27T08:46:17.463Z"
   },
   {
    "duration": 16,
    "start_time": "2022-01-27T08:48:22.897Z"
   },
   {
    "duration": 10,
    "start_time": "2022-01-27T08:48:24.402Z"
   },
   {
    "duration": 17,
    "start_time": "2022-01-27T08:48:45.030Z"
   },
   {
    "duration": 9,
    "start_time": "2022-01-27T08:48:45.608Z"
   },
   {
    "duration": 16,
    "start_time": "2022-01-27T08:50:34.095Z"
   },
   {
    "duration": 438,
    "start_time": "2022-01-27T08:50:34.663Z"
   },
   {
    "duration": 16,
    "start_time": "2022-01-27T08:51:10.478Z"
   },
   {
    "duration": 258,
    "start_time": "2022-01-27T08:51:13.891Z"
   },
   {
    "duration": 11,
    "start_time": "2022-01-27T08:51:32.284Z"
   },
   {
    "duration": 16,
    "start_time": "2022-01-27T08:52:43.651Z"
   },
   {
    "duration": 17,
    "start_time": "2022-01-27T08:53:12.173Z"
   },
   {
    "duration": 11,
    "start_time": "2022-01-27T09:02:52.109Z"
   },
   {
    "duration": 10,
    "start_time": "2022-01-27T09:03:11.596Z"
   },
   {
    "duration": 15,
    "start_time": "2022-01-27T09:19:28.771Z"
   },
   {
    "duration": 12,
    "start_time": "2022-01-27T09:19:29.765Z"
   },
   {
    "duration": 7634,
    "start_time": "2022-01-27T09:21:16.112Z"
   },
   {
    "duration": 21,
    "start_time": "2022-01-27T09:22:48.572Z"
   },
   {
    "duration": 11,
    "start_time": "2022-01-27T09:22:49.663Z"
   },
   {
    "duration": 10,
    "start_time": "2022-01-27T09:23:02.820Z"
   },
   {
    "duration": 24,
    "start_time": "2022-01-27T09:23:17.265Z"
   },
   {
    "duration": 10,
    "start_time": "2022-01-27T09:23:17.932Z"
   },
   {
    "duration": 10521,
    "start_time": "2022-01-27T09:23:26.304Z"
   },
   {
    "duration": 16,
    "start_time": "2022-01-27T09:24:29.150Z"
   },
   {
    "duration": 9,
    "start_time": "2022-01-27T09:24:30.256Z"
   },
   {
    "duration": 15,
    "start_time": "2022-01-27T09:24:35.235Z"
   },
   {
    "duration": 10,
    "start_time": "2022-01-27T09:24:35.742Z"
   },
   {
    "duration": 17,
    "start_time": "2022-01-27T09:24:38.044Z"
   },
   {
    "duration": 10,
    "start_time": "2022-01-27T09:24:39.339Z"
   },
   {
    "duration": 6,
    "start_time": "2022-01-27T09:24:42.148Z"
   },
   {
    "duration": 9,
    "start_time": "2022-01-27T09:25:25.620Z"
   },
   {
    "duration": 6,
    "start_time": "2022-01-27T09:26:26.605Z"
   },
   {
    "duration": 9,
    "start_time": "2022-01-27T09:26:27.460Z"
   },
   {
    "duration": 5,
    "start_time": "2022-01-27T09:26:42.887Z"
   },
   {
    "duration": 13,
    "start_time": "2022-01-27T09:26:43.690Z"
   },
   {
    "duration": 9,
    "start_time": "2022-01-27T09:26:46.806Z"
   },
   {
    "duration": 6,
    "start_time": "2022-01-27T09:27:08.231Z"
   },
   {
    "duration": 9,
    "start_time": "2022-01-27T09:27:08.810Z"
   },
   {
    "duration": 4,
    "start_time": "2022-01-27T09:27:15.648Z"
   },
   {
    "duration": 10,
    "start_time": "2022-01-27T09:27:16.523Z"
   },
   {
    "duration": 5,
    "start_time": "2022-01-27T09:27:36.869Z"
   },
   {
    "duration": 10,
    "start_time": "2022-01-27T09:27:37.733Z"
   },
   {
    "duration": 5,
    "start_time": "2022-01-27T09:27:50.387Z"
   },
   {
    "duration": 10,
    "start_time": "2022-01-27T09:27:51.809Z"
   },
   {
    "duration": 8,
    "start_time": "2022-01-27T09:36:44.455Z"
   },
   {
    "duration": 11,
    "start_time": "2022-01-27T09:36:45.319Z"
   },
   {
    "duration": 7,
    "start_time": "2022-01-27T09:36:58.267Z"
   },
   {
    "duration": 15,
    "start_time": "2022-01-27T09:36:58.903Z"
   },
   {
    "duration": 5,
    "start_time": "2022-01-27T09:37:17.441Z"
   },
   {
    "duration": 10,
    "start_time": "2022-01-27T09:37:17.449Z"
   },
   {
    "duration": 64,
    "start_time": "2022-01-27T09:37:17.462Z"
   },
   {
    "duration": 15,
    "start_time": "2022-01-27T09:37:17.529Z"
   },
   {
    "duration": 14,
    "start_time": "2022-01-27T09:37:17.547Z"
   },
   {
    "duration": 70,
    "start_time": "2022-01-27T09:37:17.563Z"
   },
   {
    "duration": 49,
    "start_time": "2022-01-27T09:37:17.635Z"
   },
   {
    "duration": 49,
    "start_time": "2022-01-27T09:37:17.687Z"
   },
   {
    "duration": 7,
    "start_time": "2022-01-27T09:37:17.741Z"
   },
   {
    "duration": 22,
    "start_time": "2022-01-27T09:37:17.752Z"
   },
   {
    "duration": 7,
    "start_time": "2022-01-27T09:37:17.777Z"
   },
   {
    "duration": 49,
    "start_time": "2022-01-27T09:37:17.786Z"
   },
   {
    "duration": 3,
    "start_time": "2022-01-27T09:37:17.837Z"
   },
   {
    "duration": 17,
    "start_time": "2022-01-27T09:37:17.842Z"
   },
   {
    "duration": 11,
    "start_time": "2022-01-27T09:37:17.861Z"
   },
   {
    "duration": 53,
    "start_time": "2022-01-27T09:37:17.875Z"
   },
   {
    "duration": 10826,
    "start_time": "2022-01-27T09:37:17.930Z"
   },
   {
    "duration": 15,
    "start_time": "2022-01-27T09:37:28.759Z"
   },
   {
    "duration": 10,
    "start_time": "2022-01-27T09:37:28.777Z"
   },
   {
    "duration": 728,
    "start_time": "2022-01-27T09:37:28.789Z"
   },
   {
    "duration": 4,
    "start_time": "2022-01-27T09:37:29.525Z"
   },
   {
    "duration": 6,
    "start_time": "2022-01-27T09:37:29.532Z"
   },
   {
    "duration": 6,
    "start_time": "2022-01-27T09:37:29.541Z"
   },
   {
    "duration": 7,
    "start_time": "2022-01-27T09:37:29.549Z"
   },
   {
    "duration": 5,
    "start_time": "2022-01-27T09:37:29.558Z"
   },
   {
    "duration": 70,
    "start_time": "2022-01-27T09:37:29.566Z"
   },
   {
    "duration": 26,
    "start_time": "2022-01-27T09:37:29.645Z"
   },
   {
    "duration": 7,
    "start_time": "2022-01-27T09:37:29.675Z"
   },
   {
    "duration": 45,
    "start_time": "2022-01-27T09:37:29.685Z"
   },
   {
    "duration": 2016,
    "start_time": "2022-01-27T09:37:29.732Z"
   },
   {
    "duration": 20,
    "start_time": "2022-01-27T09:37:31.750Z"
   },
   {
    "duration": 8,
    "start_time": "2022-01-27T09:37:31.772Z"
   },
   {
    "duration": 30,
    "start_time": "2022-01-27T09:37:31.783Z"
   },
   {
    "duration": 41,
    "start_time": "2022-01-27T09:37:31.815Z"
   },
   {
    "duration": 16,
    "start_time": "2022-01-27T09:37:31.858Z"
   },
   {
    "duration": 18,
    "start_time": "2022-01-27T09:37:31.876Z"
   },
   {
    "duration": 6,
    "start_time": "2022-01-27T09:37:31.897Z"
   },
   {
    "duration": 923,
    "start_time": "2022-01-27T09:37:31.905Z"
   },
   {
    "duration": 38,
    "start_time": "2022-01-27T09:37:32.831Z"
   },
   {
    "duration": 779,
    "start_time": "2022-01-27T09:37:32.872Z"
   },
   {
    "duration": 678,
    "start_time": "2022-01-27T09:37:33.653Z"
   },
   {
    "duration": 15,
    "start_time": "2022-01-27T09:37:34.333Z"
   },
   {
    "duration": 11,
    "start_time": "2022-01-27T09:37:34.350Z"
   },
   {
    "duration": 14,
    "start_time": "2022-01-27T09:37:34.364Z"
   },
   {
    "duration": 45,
    "start_time": "2022-01-27T09:37:34.380Z"
   },
   {
    "duration": 19,
    "start_time": "2022-01-27T09:37:34.428Z"
   },
   {
    "duration": 8,
    "start_time": "2022-01-27T09:37:34.449Z"
   },
   {
    "duration": 16,
    "start_time": "2022-01-27T09:37:34.460Z"
   },
   {
    "duration": 58,
    "start_time": "2022-01-27T09:37:34.478Z"
   },
   {
    "duration": 29,
    "start_time": "2022-01-27T09:37:34.538Z"
   },
   {
    "duration": 9,
    "start_time": "2022-01-27T09:37:34.569Z"
   },
   {
    "duration": 13,
    "start_time": "2022-01-27T09:37:34.580Z"
   },
   {
    "duration": 11,
    "start_time": "2022-01-27T09:37:34.596Z"
   },
   {
    "duration": 317,
    "start_time": "2022-01-27T09:40:06.285Z"
   },
   {
    "duration": 357,
    "start_time": "2022-01-27T09:40:27.153Z"
   },
   {
    "duration": 289,
    "start_time": "2022-01-27T09:40:56.249Z"
   },
   {
    "duration": 11,
    "start_time": "2022-01-27T09:41:05.912Z"
   },
   {
    "duration": 5,
    "start_time": "2022-01-27T09:41:26.235Z"
   },
   {
    "duration": 6,
    "start_time": "2022-01-27T09:41:26.243Z"
   },
   {
    "duration": 1523,
    "start_time": "2022-01-27T09:41:26.251Z"
   },
   {
    "duration": 16,
    "start_time": "2022-01-27T09:41:27.776Z"
   },
   {
    "duration": 15,
    "start_time": "2022-01-27T09:41:27.795Z"
   },
   {
    "duration": 44,
    "start_time": "2022-01-27T09:41:27.813Z"
   },
   {
    "duration": 69,
    "start_time": "2022-01-27T09:41:27.860Z"
   },
   {
    "duration": 24,
    "start_time": "2022-01-27T09:41:27.931Z"
   },
   {
    "duration": 5,
    "start_time": "2022-01-27T09:41:27.957Z"
   },
   {
    "duration": 36,
    "start_time": "2022-01-27T09:41:27.965Z"
   },
   {
    "duration": 22,
    "start_time": "2022-01-27T09:41:28.004Z"
   },
   {
    "duration": 21,
    "start_time": "2022-01-27T09:41:28.028Z"
   },
   {
    "duration": 7,
    "start_time": "2022-01-27T09:41:28.052Z"
   },
   {
    "duration": 34,
    "start_time": "2022-01-27T09:41:28.064Z"
   },
   {
    "duration": 14,
    "start_time": "2022-01-27T09:41:28.101Z"
   },
   {
    "duration": 36,
    "start_time": "2022-01-27T09:41:28.117Z"
   },
   {
    "duration": 12688,
    "start_time": "2022-01-27T09:41:28.156Z"
   },
   {
    "duration": 16,
    "start_time": "2022-01-27T09:41:40.847Z"
   },
   {
    "duration": 14,
    "start_time": "2022-01-27T09:41:40.866Z"
   },
   {
    "duration": 711,
    "start_time": "2022-01-27T09:41:40.883Z"
   },
   {
    "duration": 3,
    "start_time": "2022-01-27T09:41:41.597Z"
   },
   {
    "duration": 13,
    "start_time": "2022-01-27T09:41:41.602Z"
   },
   {
    "duration": 8,
    "start_time": "2022-01-27T09:41:41.624Z"
   },
   {
    "duration": 5,
    "start_time": "2022-01-27T09:41:41.635Z"
   },
   {
    "duration": 7,
    "start_time": "2022-01-27T09:41:41.642Z"
   },
   {
    "duration": 26,
    "start_time": "2022-01-27T09:41:41.651Z"
   },
   {
    "duration": 50,
    "start_time": "2022-01-27T09:41:41.680Z"
   },
   {
    "duration": 5,
    "start_time": "2022-01-27T09:41:41.732Z"
   },
   {
    "duration": 14,
    "start_time": "2022-01-27T09:41:41.739Z"
   },
   {
    "duration": 1909,
    "start_time": "2022-01-27T09:41:41.755Z"
   },
   {
    "duration": 20,
    "start_time": "2022-01-27T09:41:43.666Z"
   },
   {
    "duration": 8,
    "start_time": "2022-01-27T09:41:43.688Z"
   },
   {
    "duration": 44,
    "start_time": "2022-01-27T09:41:43.699Z"
   },
   {
    "duration": 33,
    "start_time": "2022-01-27T09:41:43.746Z"
   },
   {
    "duration": 49,
    "start_time": "2022-01-27T09:41:43.781Z"
   },
   {
    "duration": 17,
    "start_time": "2022-01-27T09:41:43.833Z"
   },
   {
    "duration": 6,
    "start_time": "2022-01-27T09:41:43.853Z"
   },
   {
    "duration": 733,
    "start_time": "2022-01-27T09:41:43.864Z"
   },
   {
    "duration": 36,
    "start_time": "2022-01-27T09:41:44.599Z"
   },
   {
    "duration": 669,
    "start_time": "2022-01-27T09:41:44.637Z"
   },
   {
    "duration": 674,
    "start_time": "2022-01-27T09:41:45.308Z"
   },
   {
    "duration": 15,
    "start_time": "2022-01-27T09:41:45.985Z"
   },
   {
    "duration": 23,
    "start_time": "2022-01-27T09:41:46.003Z"
   },
   {
    "duration": 11,
    "start_time": "2022-01-27T09:41:46.029Z"
   },
   {
    "duration": 13,
    "start_time": "2022-01-27T09:41:46.042Z"
   },
   {
    "duration": 33,
    "start_time": "2022-01-27T09:41:46.057Z"
   },
   {
    "duration": 33,
    "start_time": "2022-01-27T09:41:46.094Z"
   },
   {
    "duration": 17,
    "start_time": "2022-01-27T09:41:46.129Z"
   },
   {
    "duration": 13,
    "start_time": "2022-01-27T09:41:46.148Z"
   },
   {
    "duration": 16,
    "start_time": "2022-01-27T09:41:46.164Z"
   },
   {
    "duration": 42,
    "start_time": "2022-01-27T09:41:46.182Z"
   },
   {
    "duration": 2,
    "start_time": "2022-01-27T09:41:46.227Z"
   },
   {
    "duration": 7,
    "start_time": "2022-01-27T09:41:46.232Z"
   },
   {
    "duration": 308,
    "start_time": "2022-01-27T09:41:46.241Z"
   },
   {
    "duration": 298,
    "start_time": "2022-01-27T09:44:24.481Z"
   },
   {
    "duration": 99,
    "start_time": "2022-01-27T09:47:10.870Z"
   },
   {
    "duration": 1209,
    "start_time": "2022-01-27T09:47:30.140Z"
   },
   {
    "duration": 323,
    "start_time": "2022-01-27T09:48:11.223Z"
   },
   {
    "duration": 290,
    "start_time": "2022-01-27T09:48:25.470Z"
   },
   {
    "duration": 1844,
    "start_time": "2022-01-27T09:48:43.969Z"
   },
   {
    "duration": 4,
    "start_time": "2022-01-27T09:49:28.799Z"
   },
   {
    "duration": 6,
    "start_time": "2022-01-27T09:49:28.806Z"
   },
   {
    "duration": 46,
    "start_time": "2022-01-27T09:49:28.815Z"
   },
   {
    "duration": 17,
    "start_time": "2022-01-27T09:49:28.864Z"
   },
   {
    "duration": 14,
    "start_time": "2022-01-27T09:49:28.924Z"
   },
   {
    "duration": 53,
    "start_time": "2022-01-27T09:49:28.940Z"
   },
   {
    "duration": 74,
    "start_time": "2022-01-27T09:49:28.995Z"
   },
   {
    "duration": 50,
    "start_time": "2022-01-27T09:49:29.073Z"
   },
   {
    "duration": 6,
    "start_time": "2022-01-27T09:49:29.126Z"
   },
   {
    "duration": 19,
    "start_time": "2022-01-27T09:49:29.135Z"
   },
   {
    "duration": 5,
    "start_time": "2022-01-27T09:49:29.156Z"
   },
   {
    "duration": 15,
    "start_time": "2022-01-27T09:49:29.163Z"
   },
   {
    "duration": 45,
    "start_time": "2022-01-27T09:49:29.180Z"
   },
   {
    "duration": 21,
    "start_time": "2022-01-27T09:49:29.227Z"
   },
   {
    "duration": 15,
    "start_time": "2022-01-27T09:49:29.250Z"
   },
   {
    "duration": 18,
    "start_time": "2022-01-27T09:49:29.267Z"
   },
   {
    "duration": 11785,
    "start_time": "2022-01-27T09:49:29.289Z"
   },
   {
    "duration": 22,
    "start_time": "2022-01-27T09:49:41.077Z"
   },
   {
    "duration": 26,
    "start_time": "2022-01-27T09:49:41.101Z"
   },
   {
    "duration": 711,
    "start_time": "2022-01-27T09:49:41.129Z"
   },
   {
    "duration": 3,
    "start_time": "2022-01-27T09:49:41.843Z"
   },
   {
    "duration": 17,
    "start_time": "2022-01-27T09:49:41.848Z"
   },
   {
    "duration": 9,
    "start_time": "2022-01-27T09:49:41.870Z"
   },
   {
    "duration": 9,
    "start_time": "2022-01-27T09:49:41.882Z"
   },
   {
    "duration": 7,
    "start_time": "2022-01-27T09:49:41.893Z"
   },
   {
    "duration": 40,
    "start_time": "2022-01-27T09:49:41.902Z"
   },
   {
    "duration": 18,
    "start_time": "2022-01-27T09:49:41.944Z"
   },
   {
    "duration": 10,
    "start_time": "2022-01-27T09:49:41.964Z"
   },
   {
    "duration": 21,
    "start_time": "2022-01-27T09:49:41.976Z"
   },
   {
    "duration": 1946,
    "start_time": "2022-01-27T09:49:41.999Z"
   },
   {
    "duration": 21,
    "start_time": "2022-01-27T09:49:43.947Z"
   },
   {
    "duration": 7,
    "start_time": "2022-01-27T09:49:43.970Z"
   },
   {
    "duration": 58,
    "start_time": "2022-01-27T09:49:43.980Z"
   },
   {
    "duration": 37,
    "start_time": "2022-01-27T09:49:44.041Z"
   },
   {
    "duration": 48,
    "start_time": "2022-01-27T09:49:44.081Z"
   },
   {
    "duration": 18,
    "start_time": "2022-01-27T09:49:44.132Z"
   },
   {
    "duration": 19,
    "start_time": "2022-01-27T09:49:44.154Z"
   },
   {
    "duration": 727,
    "start_time": "2022-01-27T09:49:44.175Z"
   },
   {
    "duration": 35,
    "start_time": "2022-01-27T09:49:44.905Z"
   },
   {
    "duration": 675,
    "start_time": "2022-01-27T09:49:44.943Z"
   },
   {
    "duration": 812,
    "start_time": "2022-01-27T09:49:45.623Z"
   },
   {
    "duration": 15,
    "start_time": "2022-01-27T09:49:46.437Z"
   },
   {
    "duration": 9,
    "start_time": "2022-01-27T09:49:46.454Z"
   },
   {
    "duration": 11,
    "start_time": "2022-01-27T09:49:46.466Z"
   },
   {
    "duration": 45,
    "start_time": "2022-01-27T09:49:46.480Z"
   },
   {
    "duration": 20,
    "start_time": "2022-01-27T09:49:46.528Z"
   },
   {
    "duration": 13,
    "start_time": "2022-01-27T09:49:46.550Z"
   },
   {
    "duration": 16,
    "start_time": "2022-01-27T09:49:46.566Z"
   },
   {
    "duration": 41,
    "start_time": "2022-01-27T09:49:46.584Z"
   },
   {
    "duration": 17,
    "start_time": "2022-01-27T09:49:46.628Z"
   },
   {
    "duration": 10,
    "start_time": "2022-01-27T09:49:46.648Z"
   },
   {
    "duration": 6,
    "start_time": "2022-01-27T09:49:46.660Z"
   },
   {
    "duration": 6,
    "start_time": "2022-01-27T09:49:46.668Z"
   },
   {
    "duration": 898,
    "start_time": "2022-01-27T09:49:46.676Z"
   },
   {
    "duration": 1260,
    "start_time": "2022-01-27T09:55:51.070Z"
   },
   {
    "duration": 914,
    "start_time": "2022-01-27T09:56:21.953Z"
   },
   {
    "duration": 887,
    "start_time": "2022-01-27T09:57:41.176Z"
   },
   {
    "duration": 3,
    "start_time": "2022-01-27T09:58:41.260Z"
   },
   {
    "duration": 7,
    "start_time": "2022-01-27T09:58:41.266Z"
   },
   {
    "duration": 56,
    "start_time": "2022-01-27T09:58:41.276Z"
   },
   {
    "duration": 19,
    "start_time": "2022-01-27T09:58:41.335Z"
   },
   {
    "duration": 16,
    "start_time": "2022-01-27T09:58:41.356Z"
   },
   {
    "duration": 82,
    "start_time": "2022-01-27T09:58:41.374Z"
   },
   {
    "duration": 71,
    "start_time": "2022-01-27T09:58:41.459Z"
   },
   {
    "duration": 129,
    "start_time": "2022-01-27T09:58:41.532Z"
   },
   {
    "duration": 5,
    "start_time": "2022-01-27T09:58:41.666Z"
   },
   {
    "duration": 26,
    "start_time": "2022-01-27T09:58:41.674Z"
   },
   {
    "duration": 27,
    "start_time": "2022-01-27T09:58:41.703Z"
   },
   {
    "duration": 25,
    "start_time": "2022-01-27T09:58:41.733Z"
   },
   {
    "duration": 15,
    "start_time": "2022-01-27T09:58:41.761Z"
   },
   {
    "duration": 29,
    "start_time": "2022-01-27T09:58:41.778Z"
   },
   {
    "duration": 12,
    "start_time": "2022-01-27T09:58:41.810Z"
   },
   {
    "duration": 18,
    "start_time": "2022-01-27T09:58:41.824Z"
   },
   {
    "duration": 11817,
    "start_time": "2022-01-27T09:58:41.845Z"
   },
   {
    "duration": 17,
    "start_time": "2022-01-27T09:58:53.665Z"
   },
   {
    "duration": 10,
    "start_time": "2022-01-27T09:58:53.685Z"
   },
   {
    "duration": 672,
    "start_time": "2022-01-27T09:58:53.724Z"
   },
   {
    "duration": 4,
    "start_time": "2022-01-27T09:58:54.399Z"
   },
   {
    "duration": 18,
    "start_time": "2022-01-27T09:58:54.406Z"
   },
   {
    "duration": 10,
    "start_time": "2022-01-27T09:58:54.426Z"
   },
   {
    "duration": 5,
    "start_time": "2022-01-27T09:58:54.439Z"
   },
   {
    "duration": 6,
    "start_time": "2022-01-27T09:58:54.447Z"
   },
   {
    "duration": 28,
    "start_time": "2022-01-27T09:58:54.455Z"
   },
   {
    "duration": 45,
    "start_time": "2022-01-27T09:58:54.491Z"
   },
   {
    "duration": 5,
    "start_time": "2022-01-27T09:58:54.540Z"
   },
   {
    "duration": 18,
    "start_time": "2022-01-27T09:58:54.547Z"
   },
   {
    "duration": 1821,
    "start_time": "2022-01-27T09:58:54.567Z"
   },
   {
    "duration": 34,
    "start_time": "2022-01-27T09:58:56.390Z"
   },
   {
    "duration": 8,
    "start_time": "2022-01-27T09:58:56.426Z"
   },
   {
    "duration": 30,
    "start_time": "2022-01-27T09:58:56.436Z"
   },
   {
    "duration": 78,
    "start_time": "2022-01-27T09:58:56.469Z"
   },
   {
    "duration": 15,
    "start_time": "2022-01-27T09:58:56.550Z"
   },
   {
    "duration": 16,
    "start_time": "2022-01-27T09:58:56.568Z"
   },
   {
    "duration": 7,
    "start_time": "2022-01-27T09:58:56.586Z"
   },
   {
    "duration": 740,
    "start_time": "2022-01-27T09:58:56.595Z"
   },
   {
    "duration": 26,
    "start_time": "2022-01-27T09:58:57.338Z"
   },
   {
    "duration": 723,
    "start_time": "2022-01-27T09:58:57.366Z"
   },
   {
    "duration": 732,
    "start_time": "2022-01-27T09:58:58.091Z"
   },
   {
    "duration": 14,
    "start_time": "2022-01-27T09:58:58.825Z"
   },
   {
    "duration": 9,
    "start_time": "2022-01-27T09:58:58.842Z"
   },
   {
    "duration": 14,
    "start_time": "2022-01-27T09:58:58.853Z"
   },
   {
    "duration": 13,
    "start_time": "2022-01-27T09:58:58.869Z"
   },
   {
    "duration": 18,
    "start_time": "2022-01-27T09:58:58.924Z"
   },
   {
    "duration": 12,
    "start_time": "2022-01-27T09:58:58.945Z"
   },
   {
    "duration": 19,
    "start_time": "2022-01-27T09:58:58.960Z"
   },
   {
    "duration": 41,
    "start_time": "2022-01-27T09:58:58.982Z"
   },
   {
    "duration": 124,
    "start_time": "2022-01-27T09:58:59.025Z"
   },
   {
    "duration": 12,
    "start_time": "2022-01-27T09:58:59.151Z"
   },
   {
    "duration": 1261,
    "start_time": "2022-01-27T09:58:59.166Z"
   },
   {
    "duration": 1923,
    "start_time": "2022-01-27T11:24:49.478Z"
   },
   {
    "duration": 2847,
    "start_time": "2022-01-27T11:25:54.197Z"
   },
   {
    "duration": 16,
    "start_time": "2022-01-27T11:31:33.518Z"
   },
   {
    "duration": 21,
    "start_time": "2022-01-27T11:31:55.708Z"
   },
   {
    "duration": 22,
    "start_time": "2022-01-27T11:33:17.181Z"
   },
   {
    "duration": 22,
    "start_time": "2022-01-27T11:33:51.758Z"
   },
   {
    "duration": 20,
    "start_time": "2022-01-27T11:36:22.830Z"
   },
   {
    "duration": 22,
    "start_time": "2022-01-27T11:36:49.541Z"
   },
   {
    "duration": 300,
    "start_time": "2022-01-27T11:38:03.077Z"
   },
   {
    "duration": 21,
    "start_time": "2022-01-27T11:38:14.521Z"
   },
   {
    "duration": 377,
    "start_time": "2022-01-27T11:38:47.615Z"
   },
   {
    "duration": 21,
    "start_time": "2022-01-27T11:39:11.010Z"
   },
   {
    "duration": 23,
    "start_time": "2022-01-27T11:39:36.414Z"
   },
   {
    "duration": 27,
    "start_time": "2022-01-27T11:39:48.452Z"
   },
   {
    "duration": 1313,
    "start_time": "2022-01-27T11:40:33.355Z"
   },
   {
    "duration": 26,
    "start_time": "2022-01-27T11:40:35.010Z"
   },
   {
    "duration": 4,
    "start_time": "2022-01-27T11:40:55.309Z"
   },
   {
    "duration": 11,
    "start_time": "2022-01-27T11:40:55.316Z"
   },
   {
    "duration": 44,
    "start_time": "2022-01-27T11:40:55.329Z"
   },
   {
    "duration": 17,
    "start_time": "2022-01-27T11:40:55.376Z"
   },
   {
    "duration": 35,
    "start_time": "2022-01-27T11:40:55.396Z"
   },
   {
    "duration": 41,
    "start_time": "2022-01-27T11:40:55.434Z"
   },
   {
    "duration": 96,
    "start_time": "2022-01-27T11:40:55.478Z"
   },
   {
    "duration": 50,
    "start_time": "2022-01-27T11:40:55.579Z"
   },
   {
    "duration": 7,
    "start_time": "2022-01-27T11:40:55.633Z"
   },
   {
    "duration": 22,
    "start_time": "2022-01-27T11:40:55.643Z"
   },
   {
    "duration": 7,
    "start_time": "2022-01-27T11:40:55.668Z"
   },
   {
    "duration": 49,
    "start_time": "2022-01-27T11:40:55.678Z"
   },
   {
    "duration": 4,
    "start_time": "2022-01-27T11:40:55.731Z"
   },
   {
    "duration": 19,
    "start_time": "2022-01-27T11:40:55.737Z"
   },
   {
    "duration": 13,
    "start_time": "2022-01-27T11:40:55.758Z"
   },
   {
    "duration": 54,
    "start_time": "2022-01-27T11:40:55.773Z"
   },
   {
    "duration": 11567,
    "start_time": "2022-01-27T11:40:55.829Z"
   },
   {
    "duration": 27,
    "start_time": "2022-01-27T11:41:07.398Z"
   },
   {
    "duration": 13,
    "start_time": "2022-01-27T11:41:07.428Z"
   },
   {
    "duration": 727,
    "start_time": "2022-01-27T11:41:07.446Z"
   },
   {
    "duration": 3,
    "start_time": "2022-01-27T11:41:08.176Z"
   },
   {
    "duration": 8,
    "start_time": "2022-01-27T11:41:08.183Z"
   },
   {
    "duration": 5,
    "start_time": "2022-01-27T11:41:08.193Z"
   },
   {
    "duration": 29,
    "start_time": "2022-01-27T11:41:08.200Z"
   },
   {
    "duration": 11,
    "start_time": "2022-01-27T11:41:08.231Z"
   },
   {
    "duration": 31,
    "start_time": "2022-01-27T11:41:08.244Z"
   },
   {
    "duration": 20,
    "start_time": "2022-01-27T11:41:08.277Z"
   },
   {
    "duration": 6,
    "start_time": "2022-01-27T11:41:08.324Z"
   },
   {
    "duration": 13,
    "start_time": "2022-01-27T11:41:08.332Z"
   },
   {
    "duration": 2822,
    "start_time": "2022-01-27T11:41:08.348Z"
   },
   {
    "duration": 27,
    "start_time": "2022-01-27T11:41:11.173Z"
   },
   {
    "duration": 24,
    "start_time": "2022-01-27T11:41:11.203Z"
   },
   {
    "duration": 26,
    "start_time": "2022-01-27T11:41:11.229Z"
   },
   {
    "duration": 33,
    "start_time": "2022-01-27T11:41:11.257Z"
   },
   {
    "duration": 44,
    "start_time": "2022-01-27T11:41:11.292Z"
   },
   {
    "duration": 17,
    "start_time": "2022-01-27T11:41:11.339Z"
   },
   {
    "duration": 5,
    "start_time": "2022-01-27T11:41:11.358Z"
   },
   {
    "duration": 773,
    "start_time": "2022-01-27T11:41:11.366Z"
   },
   {
    "duration": 27,
    "start_time": "2022-01-27T11:41:12.141Z"
   },
   {
    "duration": 820,
    "start_time": "2022-01-27T11:41:12.171Z"
   },
   {
    "duration": 750,
    "start_time": "2022-01-27T11:41:12.994Z"
   },
   {
    "duration": 16,
    "start_time": "2022-01-27T11:41:13.747Z"
   },
   {
    "duration": 10,
    "start_time": "2022-01-27T11:41:13.766Z"
   },
   {
    "duration": 50,
    "start_time": "2022-01-27T11:41:13.779Z"
   },
   {
    "duration": 12,
    "start_time": "2022-01-27T11:41:13.831Z"
   },
   {
    "duration": 16,
    "start_time": "2022-01-27T11:41:13.845Z"
   },
   {
    "duration": 11,
    "start_time": "2022-01-27T11:41:13.864Z"
   },
   {
    "duration": 48,
    "start_time": "2022-01-27T11:41:13.877Z"
   },
   {
    "duration": 12,
    "start_time": "2022-01-27T11:41:13.927Z"
   },
   {
    "duration": 18,
    "start_time": "2022-01-27T11:41:13.941Z"
   },
   {
    "duration": 9,
    "start_time": "2022-01-27T11:41:13.962Z"
   },
   {
    "duration": 945,
    "start_time": "2022-01-27T11:41:13.973Z"
   },
   {
    "duration": 309,
    "start_time": "2022-01-27T11:41:14.924Z"
   },
   {
    "duration": 412,
    "start_time": "2022-01-27T11:41:14.824Z"
   },
   {
    "duration": 528,
    "start_time": "2022-01-27T11:42:39.344Z"
   },
   {
    "duration": 21,
    "start_time": "2022-01-27T11:43:22.344Z"
   },
   {
    "duration": 22,
    "start_time": "2022-01-27T11:43:29.104Z"
   },
   {
    "duration": 19,
    "start_time": "2022-01-27T11:43:50.752Z"
   },
   {
    "duration": 26,
    "start_time": "2022-01-27T11:44:28.911Z"
   },
   {
    "duration": 21,
    "start_time": "2022-01-27T11:44:34.234Z"
   },
   {
    "duration": 23,
    "start_time": "2022-01-27T11:45:00.293Z"
   },
   {
    "duration": 22,
    "start_time": "2022-01-27T11:45:20.341Z"
   },
   {
    "duration": 32,
    "start_time": "2022-01-27T11:49:41.255Z"
   },
   {
    "duration": 21,
    "start_time": "2022-01-27T11:50:01.667Z"
   },
   {
    "duration": 5,
    "start_time": "2022-01-27T11:55:26.446Z"
   },
   {
    "duration": 4,
    "start_time": "2022-01-27T11:55:26.454Z"
   },
   {
    "duration": 71,
    "start_time": "2022-01-27T11:55:26.461Z"
   },
   {
    "duration": 18,
    "start_time": "2022-01-27T11:55:26.534Z"
   },
   {
    "duration": 13,
    "start_time": "2022-01-27T11:55:26.555Z"
   },
   {
    "duration": 76,
    "start_time": "2022-01-27T11:55:26.570Z"
   },
   {
    "duration": 48,
    "start_time": "2022-01-27T11:55:26.650Z"
   },
   {
    "duration": 39,
    "start_time": "2022-01-27T11:55:26.701Z"
   },
   {
    "duration": 6,
    "start_time": "2022-01-27T11:55:26.743Z"
   },
   {
    "duration": 17,
    "start_time": "2022-01-27T11:55:26.751Z"
   },
   {
    "duration": 9,
    "start_time": "2022-01-27T11:55:26.771Z"
   },
   {
    "duration": 52,
    "start_time": "2022-01-27T11:55:26.782Z"
   },
   {
    "duration": 6,
    "start_time": "2022-01-27T11:55:26.836Z"
   },
   {
    "duration": 25,
    "start_time": "2022-01-27T11:55:26.845Z"
   },
   {
    "duration": 12,
    "start_time": "2022-01-27T11:55:26.872Z"
   },
   {
    "duration": 47,
    "start_time": "2022-01-27T11:55:26.887Z"
   },
   {
    "duration": 11666,
    "start_time": "2022-01-27T11:55:26.936Z"
   },
   {
    "duration": 27,
    "start_time": "2022-01-27T11:55:38.610Z"
   },
   {
    "duration": 12,
    "start_time": "2022-01-27T11:55:38.641Z"
   },
   {
    "duration": 764,
    "start_time": "2022-01-27T11:55:38.655Z"
   },
   {
    "duration": 3,
    "start_time": "2022-01-27T11:55:39.424Z"
   },
   {
    "duration": 9,
    "start_time": "2022-01-27T11:55:39.429Z"
   },
   {
    "duration": 7,
    "start_time": "2022-01-27T11:55:39.441Z"
   },
   {
    "duration": 8,
    "start_time": "2022-01-27T11:55:39.450Z"
   },
   {
    "duration": 10,
    "start_time": "2022-01-27T11:55:39.460Z"
   },
   {
    "duration": 33,
    "start_time": "2022-01-27T11:55:39.472Z"
   },
   {
    "duration": 19,
    "start_time": "2022-01-27T11:55:39.524Z"
   },
   {
    "duration": 7,
    "start_time": "2022-01-27T11:55:39.546Z"
   },
   {
    "duration": 14,
    "start_time": "2022-01-27T11:55:39.555Z"
   },
   {
    "duration": 1964,
    "start_time": "2022-01-27T11:55:39.571Z"
   },
   {
    "duration": 19,
    "start_time": "2022-01-27T11:55:41.538Z"
   },
   {
    "duration": 7,
    "start_time": "2022-01-27T11:55:41.559Z"
   },
   {
    "duration": 25,
    "start_time": "2022-01-27T11:55:41.569Z"
   },
   {
    "duration": 59,
    "start_time": "2022-01-27T11:55:41.597Z"
   },
   {
    "duration": 17,
    "start_time": "2022-01-27T11:55:41.658Z"
   },
   {
    "duration": 51,
    "start_time": "2022-01-27T11:55:41.677Z"
   },
   {
    "duration": 6,
    "start_time": "2022-01-27T11:55:41.730Z"
   },
   {
    "duration": 722,
    "start_time": "2022-01-27T11:55:41.738Z"
   },
   {
    "duration": 25,
    "start_time": "2022-01-27T11:55:42.463Z"
   },
   {
    "duration": 712,
    "start_time": "2022-01-27T11:55:42.491Z"
   },
   {
    "duration": 733,
    "start_time": "2022-01-27T11:55:43.205Z"
   },
   {
    "duration": 15,
    "start_time": "2022-01-27T11:55:43.942Z"
   },
   {
    "duration": 10,
    "start_time": "2022-01-27T11:55:43.959Z"
   },
   {
    "duration": 12,
    "start_time": "2022-01-27T11:55:43.971Z"
   },
   {
    "duration": 48,
    "start_time": "2022-01-27T11:55:43.985Z"
   },
   {
    "duration": 17,
    "start_time": "2022-01-27T11:55:44.035Z"
   },
   {
    "duration": 10,
    "start_time": "2022-01-27T11:55:44.055Z"
   },
   {
    "duration": 16,
    "start_time": "2022-01-27T11:55:44.068Z"
   },
   {
    "duration": 42,
    "start_time": "2022-01-27T11:55:44.086Z"
   },
   {
    "duration": 20,
    "start_time": "2022-01-27T11:55:44.131Z"
   },
   {
    "duration": 8,
    "start_time": "2022-01-27T11:55:44.158Z"
   },
   {
    "duration": 924,
    "start_time": "2022-01-27T11:55:44.169Z"
   },
   {
    "duration": 35,
    "start_time": "2022-01-27T11:55:45.096Z"
   },
   {
    "duration": 24,
    "start_time": "2022-01-27T11:55:45.134Z"
   },
   {
    "duration": 24,
    "start_time": "2022-01-27T11:55:45.161Z"
   },
   {
    "duration": 491,
    "start_time": "2022-01-27T12:40:07.902Z"
   },
   {
    "duration": 15,
    "start_time": "2022-01-27T12:41:23.967Z"
   },
   {
    "duration": 34,
    "start_time": "2022-01-27T12:41:38.153Z"
   },
   {
    "duration": 1128,
    "start_time": "2022-01-27T12:44:06.661Z"
   },
   {
    "duration": 1298,
    "start_time": "2022-01-27T12:44:42.549Z"
   },
   {
    "duration": 24,
    "start_time": "2022-01-27T12:45:57.036Z"
   },
   {
    "duration": 22,
    "start_time": "2022-01-27T12:50:12.327Z"
   },
   {
    "duration": 30,
    "start_time": "2022-01-27T12:50:24.568Z"
   },
   {
    "duration": 52,
    "start_time": "2022-01-27T13:38:18.490Z"
   },
   {
    "duration": 1496,
    "start_time": "2022-01-28T08:09:48.162Z"
   },
   {
    "duration": 3,
    "start_time": "2022-01-28T08:09:49.661Z"
   },
   {
    "duration": 46,
    "start_time": "2022-01-28T08:09:49.671Z"
   },
   {
    "duration": 21,
    "start_time": "2022-01-28T08:09:49.720Z"
   },
   {
    "duration": 34,
    "start_time": "2022-01-28T08:09:49.744Z"
   },
   {
    "duration": 39,
    "start_time": "2022-01-28T08:09:49.780Z"
   },
   {
    "duration": 69,
    "start_time": "2022-01-28T08:09:49.822Z"
   },
   {
    "duration": 573,
    "start_time": "2022-01-28T08:09:49.893Z"
   },
   {
    "duration": 8,
    "start_time": "2022-01-28T08:09:50.471Z"
   },
   {
    "duration": 22,
    "start_time": "2022-01-28T08:09:50.482Z"
   },
   {
    "duration": 12,
    "start_time": "2022-01-28T08:09:50.507Z"
   },
   {
    "duration": 17,
    "start_time": "2022-01-28T08:09:50.521Z"
   },
   {
    "duration": 4,
    "start_time": "2022-01-28T08:09:50.540Z"
   },
   {
    "duration": 20,
    "start_time": "2022-01-28T08:09:50.571Z"
   },
   {
    "duration": 13,
    "start_time": "2022-01-28T08:09:50.594Z"
   },
   {
    "duration": 16,
    "start_time": "2022-01-28T08:09:50.610Z"
   },
   {
    "duration": 11889,
    "start_time": "2022-01-28T08:09:50.629Z"
   },
   {
    "duration": 18,
    "start_time": "2022-01-28T08:10:02.521Z"
   },
   {
    "duration": 29,
    "start_time": "2022-01-28T08:10:02.541Z"
   },
   {
    "duration": 751,
    "start_time": "2022-01-28T08:10:02.573Z"
   },
   {
    "duration": 4,
    "start_time": "2022-01-28T08:10:03.326Z"
   },
   {
    "duration": 12,
    "start_time": "2022-01-28T08:10:03.332Z"
   },
   {
    "duration": 5,
    "start_time": "2022-01-28T08:10:03.347Z"
   },
   {
    "duration": 4,
    "start_time": "2022-01-28T08:10:03.370Z"
   },
   {
    "duration": 15,
    "start_time": "2022-01-28T08:10:03.377Z"
   },
   {
    "duration": 48,
    "start_time": "2022-01-28T08:10:03.394Z"
   },
   {
    "duration": 28,
    "start_time": "2022-01-28T08:10:03.450Z"
   },
   {
    "duration": 11,
    "start_time": "2022-01-28T08:10:03.482Z"
   },
   {
    "duration": 16,
    "start_time": "2022-01-28T08:10:03.496Z"
   },
   {
    "duration": 2005,
    "start_time": "2022-01-28T08:10:03.515Z"
   },
   {
    "duration": 21,
    "start_time": "2022-01-28T08:10:05.524Z"
   },
   {
    "duration": 24,
    "start_time": "2022-01-28T08:10:05.548Z"
   },
   {
    "duration": 24,
    "start_time": "2022-01-28T08:10:05.575Z"
   },
   {
    "duration": 81,
    "start_time": "2022-01-28T08:10:05.602Z"
   },
   {
    "duration": 16,
    "start_time": "2022-01-28T08:10:05.685Z"
   },
   {
    "duration": 18,
    "start_time": "2022-01-28T08:10:05.704Z"
   },
   {
    "duration": 5,
    "start_time": "2022-01-28T08:10:05.725Z"
   },
   {
    "duration": 799,
    "start_time": "2022-01-28T08:10:05.733Z"
   },
   {
    "duration": 38,
    "start_time": "2022-01-28T08:10:06.535Z"
   },
   {
    "duration": 748,
    "start_time": "2022-01-28T08:10:06.575Z"
   },
   {
    "duration": 749,
    "start_time": "2022-01-28T08:10:07.325Z"
   },
   {
    "duration": 15,
    "start_time": "2022-01-28T08:10:08.076Z"
   },
   {
    "duration": 10,
    "start_time": "2022-01-28T08:10:08.094Z"
   },
   {
    "duration": 13,
    "start_time": "2022-01-28T08:10:08.106Z"
   },
   {
    "duration": 48,
    "start_time": "2022-01-28T08:10:08.121Z"
   },
   {
    "duration": 16,
    "start_time": "2022-01-28T08:10:08.172Z"
   },
   {
    "duration": 11,
    "start_time": "2022-01-28T08:10:08.191Z"
   },
   {
    "duration": 16,
    "start_time": "2022-01-28T08:10:08.204Z"
   },
   {
    "duration": 50,
    "start_time": "2022-01-28T08:10:08.223Z"
   },
   {
    "duration": 17,
    "start_time": "2022-01-28T08:10:08.275Z"
   },
   {
    "duration": 11,
    "start_time": "2022-01-28T08:10:08.294Z"
   },
   {
    "duration": 965,
    "start_time": "2022-01-28T08:10:08.307Z"
   },
   {
    "duration": 22,
    "start_time": "2022-01-28T08:10:09.274Z"
   },
   {
    "duration": 20,
    "start_time": "2022-01-28T08:10:09.299Z"
   },
   {
    "duration": 55,
    "start_time": "2022-01-28T08:10:09.322Z"
   },
   {
    "duration": 23,
    "start_time": "2022-01-28T08:10:09.380Z"
   },
   {
    "duration": 80,
    "start_time": "2022-01-28T08:11:58.801Z"
   },
   {
    "duration": 7,
    "start_time": "2022-01-28T08:23:13.154Z"
   },
   {
    "duration": 10,
    "start_time": "2022-01-28T08:24:29.942Z"
   },
   {
    "duration": 7,
    "start_time": "2022-01-28T08:25:17.403Z"
   },
   {
    "duration": 9,
    "start_time": "2022-01-28T08:25:37.925Z"
   },
   {
    "duration": 7,
    "start_time": "2022-01-28T08:25:44.734Z"
   },
   {
    "duration": 7,
    "start_time": "2022-01-28T08:26:06.788Z"
   },
   {
    "duration": 6,
    "start_time": "2022-01-28T08:26:30.018Z"
   },
   {
    "duration": 6,
    "start_time": "2022-01-28T08:26:43.117Z"
   },
   {
    "duration": 6,
    "start_time": "2022-01-28T08:26:55.179Z"
   },
   {
    "duration": 11,
    "start_time": "2022-01-28T08:27:37.178Z"
   },
   {
    "duration": 6,
    "start_time": "2022-01-28T08:27:37.899Z"
   },
   {
    "duration": 6,
    "start_time": "2022-01-28T08:27:39.539Z"
   },
   {
    "duration": 7,
    "start_time": "2022-01-28T08:27:40.332Z"
   },
   {
    "duration": 7,
    "start_time": "2022-01-28T08:28:50.167Z"
   },
   {
    "duration": 7,
    "start_time": "2022-01-28T08:29:34.246Z"
   },
   {
    "duration": 6,
    "start_time": "2022-01-28T08:31:14.816Z"
   },
   {
    "duration": 7,
    "start_time": "2022-01-28T08:31:32.690Z"
   },
   {
    "duration": 8,
    "start_time": "2022-01-28T08:31:35.335Z"
   },
   {
    "duration": 7,
    "start_time": "2022-01-28T08:31:39.673Z"
   },
   {
    "duration": 7,
    "start_time": "2022-01-28T08:31:41.251Z"
   },
   {
    "duration": 13,
    "start_time": "2022-01-28T08:33:49.708Z"
   },
   {
    "duration": 7,
    "start_time": "2022-01-28T08:33:50.765Z"
   },
   {
    "duration": 7,
    "start_time": "2022-01-28T08:33:51.774Z"
   },
   {
    "duration": 7,
    "start_time": "2022-01-28T08:33:53.415Z"
   },
   {
    "duration": 7,
    "start_time": "2022-01-28T08:34:14.830Z"
   },
   {
    "duration": 8,
    "start_time": "2022-01-28T08:34:38.129Z"
   },
   {
    "duration": 7,
    "start_time": "2022-01-28T08:34:39.268Z"
   },
   {
    "duration": 6,
    "start_time": "2022-01-28T08:35:23.202Z"
   },
   {
    "duration": 7,
    "start_time": "2022-01-28T08:44:23.498Z"
   },
   {
    "duration": 89,
    "start_time": "2022-01-28T09:15:57.309Z"
   },
   {
    "duration": 18,
    "start_time": "2022-01-28T09:17:12.065Z"
   },
   {
    "duration": 8,
    "start_time": "2022-01-28T09:17:12.939Z"
   },
   {
    "duration": 7,
    "start_time": "2022-01-28T09:17:13.531Z"
   },
   {
    "duration": 8,
    "start_time": "2022-01-28T09:17:15.402Z"
   },
   {
    "duration": 89,
    "start_time": "2022-01-28T09:17:15.991Z"
   },
   {
    "duration": 7,
    "start_time": "2022-01-28T09:17:25.083Z"
   },
   {
    "duration": 500,
    "start_time": "2022-01-28T09:21:10.560Z"
   },
   {
    "duration": 89,
    "start_time": "2022-01-28T09:26:23.837Z"
   },
   {
    "duration": 17,
    "start_time": "2022-01-28T09:26:38.607Z"
   },
   {
    "duration": 11,
    "start_time": "2022-01-28T09:26:57.203Z"
   },
   {
    "duration": 11,
    "start_time": "2022-01-28T09:27:08.435Z"
   },
   {
    "duration": 10,
    "start_time": "2022-01-28T09:28:15.141Z"
   },
   {
    "duration": 272,
    "start_time": "2022-01-28T09:28:27.898Z"
   },
   {
    "duration": 15,
    "start_time": "2022-01-28T09:29:34.213Z"
   },
   {
    "duration": 10,
    "start_time": "2022-01-28T09:29:35.036Z"
   },
   {
    "duration": 5,
    "start_time": "2022-01-28T09:30:16.258Z"
   },
   {
    "duration": 266,
    "start_time": "2022-01-28T09:30:20.070Z"
   },
   {
    "duration": 873,
    "start_time": "2022-01-28T09:30:34.425Z"
   },
   {
    "duration": 15,
    "start_time": "2022-01-28T09:31:27.396Z"
   },
   {
    "duration": 121,
    "start_time": "2022-01-28T09:32:49.000Z"
   },
   {
    "duration": 89,
    "start_time": "2022-01-28T09:33:01.207Z"
   },
   {
    "duration": 96,
    "start_time": "2022-01-28T09:33:16.082Z"
   },
   {
    "duration": 17,
    "start_time": "2022-01-28T09:33:32.585Z"
   },
   {
    "duration": 11,
    "start_time": "2022-01-28T09:33:35.237Z"
   },
   {
    "duration": 11,
    "start_time": "2022-01-28T13:44:00.529Z"
   },
   {
    "duration": 10,
    "start_time": "2022-01-28T13:44:04.503Z"
   },
   {
    "duration": 17,
    "start_time": "2022-01-28T13:45:32.201Z"
   },
   {
    "duration": 1143,
    "start_time": "2022-01-29T07:10:52.356Z"
   },
   {
    "duration": 3,
    "start_time": "2022-01-29T07:10:53.502Z"
   },
   {
    "duration": 54,
    "start_time": "2022-01-29T07:10:53.507Z"
   },
   {
    "duration": 14,
    "start_time": "2022-01-29T07:10:53.563Z"
   },
   {
    "duration": 16,
    "start_time": "2022-01-29T07:10:53.579Z"
   },
   {
    "duration": 28,
    "start_time": "2022-01-29T07:10:53.596Z"
   },
   {
    "duration": 55,
    "start_time": "2022-01-29T07:10:53.625Z"
   },
   {
    "duration": 303,
    "start_time": "2022-01-29T07:10:53.682Z"
   },
   {
    "duration": 7,
    "start_time": "2022-01-29T07:10:53.988Z"
   },
   {
    "duration": 13,
    "start_time": "2022-01-29T07:10:53.997Z"
   },
   {
    "duration": 8,
    "start_time": "2022-01-29T07:10:54.012Z"
   },
   {
    "duration": 12,
    "start_time": "2022-01-29T07:10:54.022Z"
   },
   {
    "duration": 24,
    "start_time": "2022-01-29T07:10:54.036Z"
   },
   {
    "duration": 13,
    "start_time": "2022-01-29T07:10:54.061Z"
   },
   {
    "duration": 11,
    "start_time": "2022-01-29T07:10:54.076Z"
   },
   {
    "duration": 10,
    "start_time": "2022-01-29T07:10:54.088Z"
   },
   {
    "duration": 5878,
    "start_time": "2022-01-29T07:10:54.100Z"
   },
   {
    "duration": 11,
    "start_time": "2022-01-29T07:10:59.980Z"
   },
   {
    "duration": 8,
    "start_time": "2022-01-29T07:10:59.993Z"
   },
   {
    "duration": 503,
    "start_time": "2022-01-29T07:11:00.003Z"
   },
   {
    "duration": 3,
    "start_time": "2022-01-29T07:11:00.507Z"
   },
   {
    "duration": 16,
    "start_time": "2022-01-29T07:11:00.512Z"
   },
   {
    "duration": 23,
    "start_time": "2022-01-29T07:11:00.530Z"
   },
   {
    "duration": 23,
    "start_time": "2022-01-29T07:11:00.555Z"
   },
   {
    "duration": 10,
    "start_time": "2022-01-29T07:11:00.580Z"
   },
   {
    "duration": 26,
    "start_time": "2022-01-29T07:11:00.592Z"
   },
   {
    "duration": 14,
    "start_time": "2022-01-29T07:11:00.622Z"
   },
   {
    "duration": 6,
    "start_time": "2022-01-29T07:11:00.638Z"
   },
   {
    "duration": 22,
    "start_time": "2022-01-29T07:11:00.646Z"
   },
   {
    "duration": 1323,
    "start_time": "2022-01-29T07:11:00.669Z"
   },
   {
    "duration": 15,
    "start_time": "2022-01-29T07:11:01.994Z"
   },
   {
    "duration": 6,
    "start_time": "2022-01-29T07:11:02.011Z"
   },
   {
    "duration": 40,
    "start_time": "2022-01-29T07:11:02.019Z"
   },
   {
    "duration": 26,
    "start_time": "2022-01-29T07:11:02.061Z"
   },
   {
    "duration": 12,
    "start_time": "2022-01-29T07:11:02.088Z"
   },
   {
    "duration": 14,
    "start_time": "2022-01-29T07:11:02.102Z"
   },
   {
    "duration": 16,
    "start_time": "2022-01-29T07:11:02.118Z"
   },
   {
    "duration": 491,
    "start_time": "2022-01-29T07:11:02.135Z"
   },
   {
    "duration": 17,
    "start_time": "2022-01-29T07:11:02.628Z"
   },
   {
    "duration": 529,
    "start_time": "2022-01-29T07:11:02.659Z"
   },
   {
    "duration": 483,
    "start_time": "2022-01-29T07:11:03.190Z"
   },
   {
    "duration": 12,
    "start_time": "2022-01-29T07:11:03.675Z"
   },
   {
    "duration": 7,
    "start_time": "2022-01-29T07:11:03.689Z"
   },
   {
    "duration": 10,
    "start_time": "2022-01-29T07:11:03.698Z"
   },
   {
    "duration": 9,
    "start_time": "2022-01-29T07:11:03.710Z"
   },
   {
    "duration": 46,
    "start_time": "2022-01-29T07:11:03.722Z"
   },
   {
    "duration": 7,
    "start_time": "2022-01-29T07:11:03.770Z"
   },
   {
    "duration": 12,
    "start_time": "2022-01-29T07:11:03.779Z"
   },
   {
    "duration": 12,
    "start_time": "2022-01-29T07:11:03.793Z"
   },
   {
    "duration": 12,
    "start_time": "2022-01-29T07:11:03.807Z"
   },
   {
    "duration": 7,
    "start_time": "2022-01-29T07:11:03.822Z"
   },
   {
    "duration": 613,
    "start_time": "2022-01-29T07:11:03.860Z"
   },
   {
    "duration": 16,
    "start_time": "2022-01-29T07:11:04.474Z"
   },
   {
    "duration": 18,
    "start_time": "2022-01-29T07:11:04.491Z"
   },
   {
    "duration": 15,
    "start_time": "2022-01-29T07:11:04.511Z"
   },
   {
    "duration": 41,
    "start_time": "2022-01-29T07:11:04.528Z"
   },
   {
    "duration": 15,
    "start_time": "2022-01-29T07:11:04.570Z"
   },
   {
    "duration": 9,
    "start_time": "2022-01-29T07:11:04.587Z"
   },
   {
    "duration": 7,
    "start_time": "2022-01-29T07:11:04.597Z"
   },
   {
    "duration": 6,
    "start_time": "2022-01-29T07:11:04.606Z"
   },
   {
    "duration": 7,
    "start_time": "2022-01-29T07:11:04.614Z"
   },
   {
    "duration": 14,
    "start_time": "2022-01-29T07:11:04.623Z"
   },
   {
    "duration": 9,
    "start_time": "2022-01-29T07:11:04.659Z"
   },
   {
    "duration": 11,
    "start_time": "2022-01-29T07:11:04.670Z"
   },
   {
    "duration": 6,
    "start_time": "2022-01-29T07:13:11.492Z"
   },
   {
    "duration": 57,
    "start_time": "2022-01-29T07:19:12.295Z"
   },
   {
    "duration": 5,
    "start_time": "2022-01-29T07:19:29.421Z"
   },
   {
    "duration": 60,
    "start_time": "2022-01-29T07:19:37.671Z"
   },
   {
    "duration": 280,
    "start_time": "2022-01-29T07:20:09.839Z"
   },
   {
    "duration": 5,
    "start_time": "2022-01-29T07:20:26.376Z"
   },
   {
    "duration": 5,
    "start_time": "2022-01-29T07:22:17.006Z"
   },
   {
    "duration": 10,
    "start_time": "2022-01-29T07:22:38.225Z"
   },
   {
    "duration": 11,
    "start_time": "2022-01-29T07:22:48.479Z"
   },
   {
    "duration": 8,
    "start_time": "2022-01-29T07:22:50.722Z"
   },
   {
    "duration": 8,
    "start_time": "2022-01-29T07:23:19.539Z"
   },
   {
    "duration": 4,
    "start_time": "2022-01-29T07:32:36.181Z"
   },
   {
    "duration": 11,
    "start_time": "2022-01-29T07:32:37.390Z"
   },
   {
    "duration": 7,
    "start_time": "2022-01-29T07:35:33.493Z"
   },
   {
    "duration": 7,
    "start_time": "2022-01-29T07:35:42.014Z"
   },
   {
    "duration": 7,
    "start_time": "2022-01-29T07:35:46.562Z"
   },
   {
    "duration": 7,
    "start_time": "2022-01-29T07:41:29.326Z"
   },
   {
    "duration": 11,
    "start_time": "2022-01-29T07:41:29.354Z"
   },
   {
    "duration": 11,
    "start_time": "2022-01-29T07:41:45.089Z"
   },
   {
    "duration": 4,
    "start_time": "2022-01-29T07:42:02.818Z"
   },
   {
    "duration": 11,
    "start_time": "2022-01-29T07:42:04.922Z"
   },
   {
    "duration": 5,
    "start_time": "2022-01-29T07:43:09.423Z"
   },
   {
    "duration": 2,
    "start_time": "2022-01-29T07:43:13.462Z"
   },
   {
    "duration": 4,
    "start_time": "2022-01-29T07:43:13.469Z"
   },
   {
    "duration": 41,
    "start_time": "2022-01-29T07:43:13.474Z"
   },
   {
    "duration": 12,
    "start_time": "2022-01-29T07:43:13.517Z"
   },
   {
    "duration": 37,
    "start_time": "2022-01-29T07:43:13.531Z"
   },
   {
    "duration": 29,
    "start_time": "2022-01-29T07:43:13.569Z"
   },
   {
    "duration": 60,
    "start_time": "2022-01-29T07:43:13.600Z"
   },
   {
    "duration": 18,
    "start_time": "2022-01-29T07:43:13.662Z"
   },
   {
    "duration": 5,
    "start_time": "2022-01-29T07:43:13.681Z"
   },
   {
    "duration": 18,
    "start_time": "2022-01-29T07:43:13.688Z"
   },
   {
    "duration": 8,
    "start_time": "2022-01-29T07:43:13.708Z"
   },
   {
    "duration": 12,
    "start_time": "2022-01-29T07:43:13.718Z"
   },
   {
    "duration": 34,
    "start_time": "2022-01-29T07:43:13.732Z"
   },
   {
    "duration": 7,
    "start_time": "2022-01-29T07:43:13.768Z"
   },
   {
    "duration": 12,
    "start_time": "2022-01-29T07:43:13.777Z"
   },
   {
    "duration": 5915,
    "start_time": "2022-01-29T07:43:13.791Z"
   },
   {
    "duration": 11,
    "start_time": "2022-01-29T07:43:19.708Z"
   },
   {
    "duration": 10,
    "start_time": "2022-01-29T07:43:19.721Z"
   },
   {
    "duration": 592,
    "start_time": "2022-01-29T07:43:19.733Z"
   },
   {
    "duration": 2,
    "start_time": "2022-01-29T07:43:20.326Z"
   },
   {
    "duration": 15,
    "start_time": "2022-01-29T07:43:20.330Z"
   },
   {
    "duration": 9,
    "start_time": "2022-01-29T07:43:20.347Z"
   },
   {
    "duration": 4,
    "start_time": "2022-01-29T07:43:20.359Z"
   },
   {
    "duration": 6,
    "start_time": "2022-01-29T07:43:20.365Z"
   },
   {
    "duration": 19,
    "start_time": "2022-01-29T07:43:20.373Z"
   },
   {
    "duration": 13,
    "start_time": "2022-01-29T07:43:20.394Z"
   },
   {
    "duration": 4,
    "start_time": "2022-01-29T07:43:20.409Z"
   },
   {
    "duration": 8,
    "start_time": "2022-01-29T07:43:20.416Z"
   },
   {
    "duration": 1233,
    "start_time": "2022-01-29T07:43:20.426Z"
   },
   {
    "duration": 15,
    "start_time": "2022-01-29T07:43:21.661Z"
   },
   {
    "duration": 9,
    "start_time": "2022-01-29T07:43:21.678Z"
   },
   {
    "duration": 17,
    "start_time": "2022-01-29T07:43:21.689Z"
   },
   {
    "duration": 54,
    "start_time": "2022-01-29T07:43:21.709Z"
   },
   {
    "duration": 13,
    "start_time": "2022-01-29T07:43:21.766Z"
   },
   {
    "duration": 14,
    "start_time": "2022-01-29T07:43:21.780Z"
   },
   {
    "duration": 5,
    "start_time": "2022-01-29T07:43:21.796Z"
   },
   {
    "duration": 510,
    "start_time": "2022-01-29T07:43:21.803Z"
   },
   {
    "duration": 18,
    "start_time": "2022-01-29T07:43:22.315Z"
   },
   {
    "duration": 519,
    "start_time": "2022-01-29T07:43:22.335Z"
   },
   {
    "duration": 497,
    "start_time": "2022-01-29T07:43:22.856Z"
   },
   {
    "duration": 10,
    "start_time": "2022-01-29T07:43:23.358Z"
   },
   {
    "duration": 6,
    "start_time": "2022-01-29T07:43:23.370Z"
   },
   {
    "duration": 9,
    "start_time": "2022-01-29T07:43:23.378Z"
   },
   {
    "duration": 8,
    "start_time": "2022-01-29T07:43:23.389Z"
   },
   {
    "duration": 12,
    "start_time": "2022-01-29T07:43:23.399Z"
   },
   {
    "duration": 6,
    "start_time": "2022-01-29T07:43:23.412Z"
   },
   {
    "duration": 46,
    "start_time": "2022-01-29T07:43:23.419Z"
   },
   {
    "duration": 12,
    "start_time": "2022-01-29T07:43:23.467Z"
   },
   {
    "duration": 13,
    "start_time": "2022-01-29T07:43:23.481Z"
   },
   {
    "duration": 8,
    "start_time": "2022-01-29T07:43:23.495Z"
   },
   {
    "duration": 731,
    "start_time": "2022-01-29T07:43:23.504Z"
   },
   {
    "duration": 25,
    "start_time": "2022-01-29T07:43:24.236Z"
   },
   {
    "duration": 14,
    "start_time": "2022-01-29T07:43:24.263Z"
   },
   {
    "duration": 13,
    "start_time": "2022-01-29T07:43:24.279Z"
   },
   {
    "duration": 17,
    "start_time": "2022-01-29T07:43:24.293Z"
   },
   {
    "duration": 8,
    "start_time": "2022-01-29T07:43:24.312Z"
   },
   {
    "duration": 7,
    "start_time": "2022-01-29T07:43:24.321Z"
   },
   {
    "duration": 5,
    "start_time": "2022-01-29T07:43:24.359Z"
   },
   {
    "duration": 7,
    "start_time": "2022-01-29T07:43:24.366Z"
   },
   {
    "duration": 9,
    "start_time": "2022-01-29T07:43:24.375Z"
   },
   {
    "duration": 11,
    "start_time": "2022-01-29T07:43:24.385Z"
   },
   {
    "duration": 7,
    "start_time": "2022-01-29T07:43:24.397Z"
   },
   {
    "duration": 11,
    "start_time": "2022-01-29T07:43:24.405Z"
   },
   {
    "duration": 8,
    "start_time": "2022-01-29T07:43:24.418Z"
   },
   {
    "duration": 32,
    "start_time": "2022-01-29T07:43:24.428Z"
   },
   {
    "duration": 11,
    "start_time": "2022-01-29T07:43:24.462Z"
   },
   {
    "duration": 9,
    "start_time": "2022-01-29T07:43:24.475Z"
   },
   {
    "duration": 61,
    "start_time": "2022-01-29T07:43:24.486Z"
   },
   {
    "duration": 1063,
    "start_time": "2022-01-29T12:04:10.110Z"
   },
   {
    "duration": 7,
    "start_time": "2022-01-29T12:04:11.175Z"
   },
   {
    "duration": 35,
    "start_time": "2022-01-29T12:04:11.185Z"
   },
   {
    "duration": 12,
    "start_time": "2022-01-29T12:04:11.222Z"
   },
   {
    "duration": 9,
    "start_time": "2022-01-29T12:04:11.236Z"
   },
   {
    "duration": 40,
    "start_time": "2022-01-29T12:04:11.247Z"
   },
   {
    "duration": 30,
    "start_time": "2022-01-29T12:04:11.288Z"
   },
   {
    "duration": 448,
    "start_time": "2022-01-29T12:04:11.320Z"
   },
   {
    "duration": 7,
    "start_time": "2022-01-29T12:04:11.770Z"
   },
   {
    "duration": 13,
    "start_time": "2022-01-29T12:04:11.779Z"
   },
   {
    "duration": 8,
    "start_time": "2022-01-29T12:04:11.793Z"
   },
   {
    "duration": 9,
    "start_time": "2022-01-29T12:04:11.802Z"
   },
   {
    "duration": 8,
    "start_time": "2022-01-29T12:04:11.812Z"
   },
   {
    "duration": 3,
    "start_time": "2022-01-29T12:04:11.821Z"
   },
   {
    "duration": 10,
    "start_time": "2022-01-29T12:04:11.825Z"
   },
   {
    "duration": 6222,
    "start_time": "2022-01-29T12:04:11.836Z"
   },
   {
    "duration": 15,
    "start_time": "2022-01-29T12:04:18.059Z"
   },
   {
    "duration": 18,
    "start_time": "2022-01-29T12:04:18.076Z"
   },
   {
    "duration": 461,
    "start_time": "2022-01-29T12:04:18.096Z"
   },
   {
    "duration": 2,
    "start_time": "2022-01-29T12:04:18.559Z"
   },
   {
    "duration": 23,
    "start_time": "2022-01-29T12:04:18.563Z"
   },
   {
    "duration": 11,
    "start_time": "2022-01-29T12:04:18.588Z"
   },
   {
    "duration": 18,
    "start_time": "2022-01-29T12:04:18.604Z"
   },
   {
    "duration": 9,
    "start_time": "2022-01-29T12:04:18.625Z"
   },
   {
    "duration": 27,
    "start_time": "2022-01-29T12:04:18.635Z"
   },
   {
    "duration": 12,
    "start_time": "2022-01-29T12:04:18.664Z"
   },
   {
    "duration": 10,
    "start_time": "2022-01-29T12:04:18.678Z"
   },
   {
    "duration": 11,
    "start_time": "2022-01-29T12:04:18.690Z"
   },
   {
    "duration": 1222,
    "start_time": "2022-01-29T12:04:18.702Z"
   },
   {
    "duration": 13,
    "start_time": "2022-01-29T12:04:19.926Z"
   },
   {
    "duration": 5,
    "start_time": "2022-01-29T12:04:19.940Z"
   },
   {
    "duration": 37,
    "start_time": "2022-01-29T12:04:19.947Z"
   },
   {
    "duration": 26,
    "start_time": "2022-01-29T12:04:19.985Z"
   },
   {
    "duration": 10,
    "start_time": "2022-01-29T12:04:20.013Z"
   },
   {
    "duration": 16,
    "start_time": "2022-01-29T12:04:20.025Z"
   },
   {
    "duration": 4,
    "start_time": "2022-01-29T12:04:20.043Z"
   },
   {
    "duration": 479,
    "start_time": "2022-01-29T12:04:20.049Z"
   },
   {
    "duration": 15,
    "start_time": "2022-01-29T12:04:20.530Z"
   },
   {
    "duration": 551,
    "start_time": "2022-01-29T12:04:20.547Z"
   },
   {
    "duration": 469,
    "start_time": "2022-01-29T12:04:21.100Z"
   },
   {
    "duration": 12,
    "start_time": "2022-01-29T12:04:21.571Z"
   },
   {
    "duration": 12,
    "start_time": "2022-01-29T12:04:21.585Z"
   },
   {
    "duration": 7,
    "start_time": "2022-01-29T12:04:21.599Z"
   },
   {
    "duration": 9,
    "start_time": "2022-01-29T12:04:21.607Z"
   },
   {
    "duration": 14,
    "start_time": "2022-01-29T12:04:21.618Z"
   },
   {
    "duration": 6,
    "start_time": "2022-01-29T12:04:21.634Z"
   },
   {
    "duration": 40,
    "start_time": "2022-01-29T12:04:21.642Z"
   },
   {
    "duration": 7,
    "start_time": "2022-01-29T12:04:21.684Z"
   },
   {
    "duration": 15,
    "start_time": "2022-01-29T12:04:21.693Z"
   },
   {
    "duration": 8,
    "start_time": "2022-01-29T12:04:21.710Z"
   },
   {
    "duration": 639,
    "start_time": "2022-01-29T12:04:21.719Z"
   },
   {
    "duration": 20,
    "start_time": "2022-01-29T12:04:22.360Z"
   },
   {
    "duration": 15,
    "start_time": "2022-01-29T12:04:22.382Z"
   },
   {
    "duration": 13,
    "start_time": "2022-01-29T12:04:22.400Z"
   },
   {
    "duration": 16,
    "start_time": "2022-01-29T12:04:22.414Z"
   },
   {
    "duration": 8,
    "start_time": "2022-01-29T12:04:22.431Z"
   },
   {
    "duration": 6,
    "start_time": "2022-01-29T12:04:22.471Z"
   },
   {
    "duration": 9,
    "start_time": "2022-01-29T12:04:22.479Z"
   },
   {
    "duration": 15,
    "start_time": "2022-01-29T12:04:22.490Z"
   },
   {
    "duration": 15,
    "start_time": "2022-01-29T12:04:22.507Z"
   },
   {
    "duration": 21,
    "start_time": "2022-01-29T12:04:22.523Z"
   },
   {
    "duration": 29,
    "start_time": "2022-01-29T12:04:22.546Z"
   },
   {
    "duration": 26,
    "start_time": "2022-01-29T12:04:22.577Z"
   },
   {
    "duration": 11,
    "start_time": "2022-01-29T12:04:22.604Z"
   },
   {
    "duration": 14,
    "start_time": "2022-01-29T12:04:22.617Z"
   },
   {
    "duration": 30,
    "start_time": "2022-01-29T12:04:22.633Z"
   },
   {
    "duration": 21,
    "start_time": "2022-01-29T12:04:22.664Z"
   },
   {
    "duration": 119,
    "start_time": "2022-01-29T12:04:22.690Z"
   },
   {
    "duration": 3,
    "start_time": "2022-01-29T12:05:52.278Z"
   },
   {
    "duration": 4,
    "start_time": "2022-01-29T12:05:52.283Z"
   },
   {
    "duration": 34,
    "start_time": "2022-01-29T12:05:52.289Z"
   },
   {
    "duration": 11,
    "start_time": "2022-01-29T12:05:52.325Z"
   },
   {
    "duration": 10,
    "start_time": "2022-01-29T12:05:52.337Z"
   },
   {
    "duration": 44,
    "start_time": "2022-01-29T12:05:52.348Z"
   },
   {
    "duration": 28,
    "start_time": "2022-01-29T12:05:52.393Z"
   },
   {
    "duration": 15,
    "start_time": "2022-01-29T12:05:52.422Z"
   },
   {
    "duration": 4,
    "start_time": "2022-01-29T12:05:52.439Z"
   },
   {
    "duration": 35,
    "start_time": "2022-01-29T12:05:52.444Z"
   },
   {
    "duration": 5,
    "start_time": "2022-01-29T12:05:52.480Z"
   },
   {
    "duration": 12,
    "start_time": "2022-01-29T12:05:52.486Z"
   },
   {
    "duration": 7,
    "start_time": "2022-01-29T12:05:52.499Z"
   },
   {
    "duration": 8,
    "start_time": "2022-01-29T12:05:52.508Z"
   },
   {
    "duration": 17,
    "start_time": "2022-01-29T12:05:52.517Z"
   },
   {
    "duration": 5849,
    "start_time": "2022-01-29T12:05:52.535Z"
   },
   {
    "duration": 10,
    "start_time": "2022-01-29T12:05:58.386Z"
   },
   {
    "duration": 10,
    "start_time": "2022-01-29T12:05:58.397Z"
   },
   {
    "duration": 500,
    "start_time": "2022-01-29T12:05:58.408Z"
   },
   {
    "duration": 2,
    "start_time": "2022-01-29T12:05:58.910Z"
   },
   {
    "duration": 23,
    "start_time": "2022-01-29T12:05:58.913Z"
   },
   {
    "duration": 16,
    "start_time": "2022-01-29T12:05:58.938Z"
   },
   {
    "duration": 13,
    "start_time": "2022-01-29T12:05:58.955Z"
   },
   {
    "duration": 26,
    "start_time": "2022-01-29T12:05:58.970Z"
   },
   {
    "duration": 22,
    "start_time": "2022-01-29T12:05:58.998Z"
   },
   {
    "duration": 25,
    "start_time": "2022-01-29T12:05:59.022Z"
   },
   {
    "duration": 7,
    "start_time": "2022-01-29T12:05:59.050Z"
   },
   {
    "duration": 23,
    "start_time": "2022-01-29T12:05:59.059Z"
   },
   {
    "duration": 1048,
    "start_time": "2022-01-29T12:05:59.084Z"
   },
   {
    "duration": 13,
    "start_time": "2022-01-29T12:06:00.134Z"
   },
   {
    "duration": 5,
    "start_time": "2022-01-29T12:06:00.148Z"
   },
   {
    "duration": 37,
    "start_time": "2022-01-29T12:06:00.155Z"
   },
   {
    "duration": 22,
    "start_time": "2022-01-29T12:06:00.194Z"
   },
   {
    "duration": 10,
    "start_time": "2022-01-29T12:06:00.217Z"
   },
   {
    "duration": 10,
    "start_time": "2022-01-29T12:06:00.228Z"
   },
   {
    "duration": 4,
    "start_time": "2022-01-29T12:06:00.239Z"
   },
   {
    "duration": 454,
    "start_time": "2022-01-29T12:06:00.244Z"
   },
   {
    "duration": 18,
    "start_time": "2022-01-29T12:06:00.700Z"
   },
   {
    "duration": 489,
    "start_time": "2022-01-29T12:06:00.719Z"
   },
   {
    "duration": 487,
    "start_time": "2022-01-29T12:06:01.209Z"
   },
   {
    "duration": 10,
    "start_time": "2022-01-29T12:06:01.698Z"
   },
   {
    "duration": 7,
    "start_time": "2022-01-29T12:06:01.710Z"
   },
   {
    "duration": 7,
    "start_time": "2022-01-29T12:06:01.719Z"
   },
   {
    "duration": 8,
    "start_time": "2022-01-29T12:06:01.727Z"
   },
   {
    "duration": 14,
    "start_time": "2022-01-29T12:06:01.736Z"
   },
   {
    "duration": 21,
    "start_time": "2022-01-29T12:06:01.752Z"
   },
   {
    "duration": 13,
    "start_time": "2022-01-29T12:06:01.776Z"
   },
   {
    "duration": 11,
    "start_time": "2022-01-29T12:06:01.792Z"
   },
   {
    "duration": 14,
    "start_time": "2022-01-29T12:06:01.804Z"
   },
   {
    "duration": 10,
    "start_time": "2022-01-29T12:06:01.819Z"
   },
   {
    "duration": 645,
    "start_time": "2022-01-29T12:06:01.830Z"
   },
   {
    "duration": 15,
    "start_time": "2022-01-29T12:06:02.477Z"
   },
   {
    "duration": 13,
    "start_time": "2022-01-29T12:06:02.494Z"
   },
   {
    "duration": 11,
    "start_time": "2022-01-29T12:06:02.508Z"
   },
   {
    "duration": 12,
    "start_time": "2022-01-29T12:06:02.521Z"
   },
   {
    "duration": 37,
    "start_time": "2022-01-29T12:06:02.534Z"
   },
   {
    "duration": 6,
    "start_time": "2022-01-29T12:06:02.573Z"
   },
   {
    "duration": 7,
    "start_time": "2022-01-29T12:06:02.581Z"
   },
   {
    "duration": 6,
    "start_time": "2022-01-29T12:06:02.591Z"
   },
   {
    "duration": 5,
    "start_time": "2022-01-29T12:06:02.599Z"
   },
   {
    "duration": 12,
    "start_time": "2022-01-29T12:06:02.606Z"
   },
   {
    "duration": 8,
    "start_time": "2022-01-29T12:06:02.620Z"
   },
   {
    "duration": 12,
    "start_time": "2022-01-29T12:06:02.629Z"
   },
   {
    "duration": 30,
    "start_time": "2022-01-29T12:06:02.643Z"
   },
   {
    "duration": 6,
    "start_time": "2022-01-29T12:06:02.675Z"
   },
   {
    "duration": 14,
    "start_time": "2022-01-29T12:06:02.683Z"
   },
   {
    "duration": 7,
    "start_time": "2022-01-29T12:06:02.699Z"
   },
   {
    "duration": 118,
    "start_time": "2022-01-29T12:06:02.707Z"
   },
   {
    "duration": 8365,
    "start_time": "2022-01-29T12:17:45.665Z"
   },
   {
    "duration": 945,
    "start_time": "2022-01-29T12:17:53.087Z"
   },
   {
    "duration": 6292,
    "start_time": "2022-01-29T12:18:10.714Z"
   },
   {
    "duration": 13,
    "start_time": "2022-01-29T12:18:17.019Z"
   },
   {
    "duration": 15,
    "start_time": "2022-01-29T12:18:17.034Z"
   },
   {
    "duration": 12,
    "start_time": "2022-01-29T12:22:52.973Z"
   },
   {
    "duration": 7,
    "start_time": "2022-01-29T12:22:53.691Z"
   },
   {
    "duration": 302,
    "start_time": "2022-01-29T12:23:14.644Z"
   },
   {
    "duration": 10,
    "start_time": "2022-01-29T12:23:27.340Z"
   },
   {
    "duration": 6,
    "start_time": "2022-01-29T12:23:50.884Z"
   },
   {
    "duration": 11,
    "start_time": "2022-01-29T12:25:39.470Z"
   },
   {
    "duration": 6,
    "start_time": "2022-01-29T12:25:40.446Z"
   },
   {
    "duration": 12,
    "start_time": "2022-01-29T12:26:07.166Z"
   },
   {
    "duration": 6,
    "start_time": "2022-01-29T12:26:08.119Z"
   },
   {
    "duration": 5,
    "start_time": "2022-01-29T12:26:11.793Z"
   },
   {
    "duration": 7,
    "start_time": "2022-01-29T12:32:35.576Z"
   },
   {
    "duration": 11,
    "start_time": "2022-01-29T12:32:36.262Z"
   },
   {
    "duration": 5,
    "start_time": "2022-01-29T12:32:45.929Z"
   },
   {
    "duration": 10,
    "start_time": "2022-01-29T12:32:46.911Z"
   },
   {
    "duration": 5,
    "start_time": "2022-01-29T12:33:02.046Z"
   },
   {
    "duration": 10,
    "start_time": "2022-01-29T12:33:03.823Z"
   },
   {
    "duration": 5,
    "start_time": "2022-01-29T12:33:16.032Z"
   },
   {
    "duration": 309,
    "start_time": "2022-01-29T12:33:30.535Z"
   },
   {
    "duration": 5,
    "start_time": "2022-01-29T12:33:40.543Z"
   },
   {
    "duration": 351,
    "start_time": "2022-01-29T12:34:44.650Z"
   },
   {
    "duration": 5,
    "start_time": "2022-01-29T12:40:31.247Z"
   },
   {
    "duration": 11,
    "start_time": "2022-01-29T12:40:35.871Z"
   },
   {
    "duration": 11,
    "start_time": "2022-01-29T12:40:42.543Z"
   },
   {
    "duration": 7,
    "start_time": "2022-01-29T12:40:53.544Z"
   },
   {
    "duration": 6,
    "start_time": "2022-01-29T12:41:07.960Z"
   },
   {
    "duration": 10,
    "start_time": "2022-01-29T12:41:08.928Z"
   },
   {
    "duration": 3,
    "start_time": "2022-01-29T12:45:59.294Z"
   },
   {
    "duration": 4,
    "start_time": "2022-01-29T12:45:59.299Z"
   },
   {
    "duration": 38,
    "start_time": "2022-01-29T12:45:59.305Z"
   },
   {
    "duration": 11,
    "start_time": "2022-01-29T12:45:59.345Z"
   },
   {
    "duration": 9,
    "start_time": "2022-01-29T12:45:59.358Z"
   },
   {
    "duration": 31,
    "start_time": "2022-01-29T12:45:59.369Z"
   },
   {
    "duration": 32,
    "start_time": "2022-01-29T12:45:59.402Z"
   },
   {
    "duration": 46,
    "start_time": "2022-01-29T12:45:59.435Z"
   },
   {
    "duration": 4,
    "start_time": "2022-01-29T12:45:59.484Z"
   },
   {
    "duration": 17,
    "start_time": "2022-01-29T12:45:59.489Z"
   },
   {
    "duration": 4,
    "start_time": "2022-01-29T12:45:59.508Z"
   },
   {
    "duration": 11,
    "start_time": "2022-01-29T12:45:59.513Z"
   },
   {
    "duration": 7,
    "start_time": "2022-01-29T12:45:59.525Z"
   },
   {
    "duration": 4,
    "start_time": "2022-01-29T12:45:59.533Z"
   },
   {
    "duration": 13,
    "start_time": "2022-01-29T12:45:59.538Z"
   },
   {
    "duration": 5984,
    "start_time": "2022-01-29T12:45:59.552Z"
   },
   {
    "duration": 10,
    "start_time": "2022-01-29T12:46:05.538Z"
   },
   {
    "duration": 9,
    "start_time": "2022-01-29T12:46:05.549Z"
   },
   {
    "duration": 420,
    "start_time": "2022-01-29T12:46:05.571Z"
   },
   {
    "duration": 2,
    "start_time": "2022-01-29T12:46:05.993Z"
   },
   {
    "duration": 5,
    "start_time": "2022-01-29T12:46:05.996Z"
   },
   {
    "duration": 4,
    "start_time": "2022-01-29T12:46:06.003Z"
   },
   {
    "duration": 5,
    "start_time": "2022-01-29T12:46:06.008Z"
   },
   {
    "duration": 5,
    "start_time": "2022-01-29T12:46:06.014Z"
   },
   {
    "duration": 16,
    "start_time": "2022-01-29T12:46:06.020Z"
   },
   {
    "duration": 33,
    "start_time": "2022-01-29T12:46:06.038Z"
   },
   {
    "duration": 5,
    "start_time": "2022-01-29T12:46:06.076Z"
   },
   {
    "duration": 9,
    "start_time": "2022-01-29T12:46:06.083Z"
   },
   {
    "duration": 1069,
    "start_time": "2022-01-29T12:46:06.094Z"
   },
   {
    "duration": 17,
    "start_time": "2022-01-29T12:46:07.165Z"
   },
   {
    "duration": 6,
    "start_time": "2022-01-29T12:46:07.184Z"
   },
   {
    "duration": 15,
    "start_time": "2022-01-29T12:46:07.192Z"
   },
   {
    "duration": 21,
    "start_time": "2022-01-29T12:46:07.208Z"
   },
   {
    "duration": 9,
    "start_time": "2022-01-29T12:46:07.230Z"
   },
   {
    "duration": 32,
    "start_time": "2022-01-29T12:46:07.240Z"
   },
   {
    "duration": 5,
    "start_time": "2022-01-29T12:46:07.273Z"
   },
   {
    "duration": 536,
    "start_time": "2022-01-29T12:46:07.279Z"
   },
   {
    "duration": 16,
    "start_time": "2022-01-29T12:46:07.817Z"
   },
   {
    "duration": 563,
    "start_time": "2022-01-29T12:46:07.835Z"
   },
   {
    "duration": 462,
    "start_time": "2022-01-29T12:46:08.400Z"
   },
   {
    "duration": 19,
    "start_time": "2022-01-29T12:46:08.863Z"
   },
   {
    "duration": 9,
    "start_time": "2022-01-29T12:46:08.883Z"
   },
   {
    "duration": 8,
    "start_time": "2022-01-29T12:46:08.893Z"
   },
   {
    "duration": 8,
    "start_time": "2022-01-29T12:46:08.902Z"
   },
   {
    "duration": 10,
    "start_time": "2022-01-29T12:46:08.911Z"
   },
   {
    "duration": 6,
    "start_time": "2022-01-29T12:46:08.922Z"
   },
   {
    "duration": 13,
    "start_time": "2022-01-29T12:46:08.930Z"
   },
   {
    "duration": 30,
    "start_time": "2022-01-29T12:46:08.944Z"
   },
   {
    "duration": 11,
    "start_time": "2022-01-29T12:46:08.976Z"
   },
   {
    "duration": 10,
    "start_time": "2022-01-29T12:46:08.988Z"
   },
   {
    "duration": 551,
    "start_time": "2022-01-29T12:46:08.999Z"
   },
   {
    "duration": 24,
    "start_time": "2022-01-29T12:46:09.552Z"
   },
   {
    "duration": 15,
    "start_time": "2022-01-29T12:46:09.578Z"
   },
   {
    "duration": 11,
    "start_time": "2022-01-29T12:46:09.595Z"
   },
   {
    "duration": 13,
    "start_time": "2022-01-29T12:46:09.607Z"
   },
   {
    "duration": 7,
    "start_time": "2022-01-29T12:46:09.621Z"
   },
   {
    "duration": 4,
    "start_time": "2022-01-29T12:46:09.629Z"
   },
   {
    "duration": 5,
    "start_time": "2022-01-29T12:46:09.635Z"
   },
   {
    "duration": 31,
    "start_time": "2022-01-29T12:46:09.641Z"
   },
   {
    "duration": 4,
    "start_time": "2022-01-29T12:46:09.674Z"
   },
   {
    "duration": 20,
    "start_time": "2022-01-29T12:46:09.680Z"
   },
   {
    "duration": 9,
    "start_time": "2022-01-29T12:46:09.701Z"
   },
   {
    "duration": 12,
    "start_time": "2022-01-29T12:46:09.712Z"
   },
   {
    "duration": 16,
    "start_time": "2022-01-29T12:46:09.725Z"
   },
   {
    "duration": 9,
    "start_time": "2022-01-29T12:46:09.743Z"
   },
   {
    "duration": 17,
    "start_time": "2022-01-29T12:46:09.754Z"
   },
   {
    "duration": 9,
    "start_time": "2022-01-29T12:46:09.773Z"
   },
   {
    "duration": 98,
    "start_time": "2022-01-29T12:46:09.784Z"
   },
   {
    "duration": 4,
    "start_time": "2022-01-29T12:47:36.056Z"
   },
   {
    "duration": 11,
    "start_time": "2022-01-29T12:47:36.707Z"
   },
   {
    "duration": 3,
    "start_time": "2022-01-29T12:47:44.907Z"
   },
   {
    "duration": 9,
    "start_time": "2022-01-29T12:47:44.913Z"
   },
   {
    "duration": 40,
    "start_time": "2022-01-29T12:47:44.924Z"
   },
   {
    "duration": 13,
    "start_time": "2022-01-29T12:47:44.966Z"
   },
   {
    "duration": 27,
    "start_time": "2022-01-29T12:47:44.981Z"
   },
   {
    "duration": 42,
    "start_time": "2022-01-29T12:47:45.010Z"
   },
   {
    "duration": 38,
    "start_time": "2022-01-29T12:47:45.053Z"
   },
   {
    "duration": 14,
    "start_time": "2022-01-29T12:47:45.094Z"
   },
   {
    "duration": 4,
    "start_time": "2022-01-29T12:47:45.110Z"
   },
   {
    "duration": 11,
    "start_time": "2022-01-29T12:47:45.115Z"
   },
   {
    "duration": 3,
    "start_time": "2022-01-29T12:47:45.128Z"
   },
   {
    "duration": 8,
    "start_time": "2022-01-29T12:47:45.133Z"
   },
   {
    "duration": 32,
    "start_time": "2022-01-29T12:47:45.142Z"
   },
   {
    "duration": 3,
    "start_time": "2022-01-29T12:47:45.175Z"
   },
   {
    "duration": 14,
    "start_time": "2022-01-29T12:47:45.180Z"
   },
   {
    "duration": 6316,
    "start_time": "2022-01-29T12:47:45.195Z"
   },
   {
    "duration": 11,
    "start_time": "2022-01-29T12:47:51.512Z"
   },
   {
    "duration": 7,
    "start_time": "2022-01-29T12:47:51.524Z"
   },
   {
    "duration": 435,
    "start_time": "2022-01-29T12:47:51.532Z"
   },
   {
    "duration": 3,
    "start_time": "2022-01-29T12:47:51.969Z"
   },
   {
    "duration": 7,
    "start_time": "2022-01-29T12:47:51.974Z"
   },
   {
    "duration": 3,
    "start_time": "2022-01-29T12:47:51.983Z"
   },
   {
    "duration": 2,
    "start_time": "2022-01-29T12:47:51.991Z"
   },
   {
    "duration": 3,
    "start_time": "2022-01-29T12:47:51.995Z"
   },
   {
    "duration": 19,
    "start_time": "2022-01-29T12:47:51.999Z"
   },
   {
    "duration": 11,
    "start_time": "2022-01-29T12:47:52.019Z"
   },
   {
    "duration": 4,
    "start_time": "2022-01-29T12:47:52.031Z"
   },
   {
    "duration": 37,
    "start_time": "2022-01-29T12:47:52.036Z"
   },
   {
    "duration": 1238,
    "start_time": "2022-01-29T12:47:52.075Z"
   },
   {
    "duration": 11,
    "start_time": "2022-01-29T12:47:53.315Z"
   },
   {
    "duration": 4,
    "start_time": "2022-01-29T12:47:53.328Z"
   },
   {
    "duration": 13,
    "start_time": "2022-01-29T12:47:53.333Z"
   },
   {
    "duration": 43,
    "start_time": "2022-01-29T12:47:53.348Z"
   },
   {
    "duration": 10,
    "start_time": "2022-01-29T12:47:53.392Z"
   },
   {
    "duration": 10,
    "start_time": "2022-01-29T12:47:53.403Z"
   },
   {
    "duration": 3,
    "start_time": "2022-01-29T12:47:53.414Z"
   },
   {
    "duration": 446,
    "start_time": "2022-01-29T12:47:53.418Z"
   },
   {
    "duration": 23,
    "start_time": "2022-01-29T12:47:53.866Z"
   },
   {
    "duration": 447,
    "start_time": "2022-01-29T12:47:53.891Z"
   },
   {
    "duration": 497,
    "start_time": "2022-01-29T12:47:54.340Z"
   },
   {
    "duration": 9,
    "start_time": "2022-01-29T12:47:54.839Z"
   },
   {
    "duration": 6,
    "start_time": "2022-01-29T12:47:54.849Z"
   },
   {
    "duration": 23,
    "start_time": "2022-01-29T12:47:54.857Z"
   },
   {
    "duration": 9,
    "start_time": "2022-01-29T12:47:54.882Z"
   },
   {
    "duration": 11,
    "start_time": "2022-01-29T12:47:54.894Z"
   },
   {
    "duration": 6,
    "start_time": "2022-01-29T12:47:54.906Z"
   },
   {
    "duration": 10,
    "start_time": "2022-01-29T12:47:54.914Z"
   },
   {
    "duration": 7,
    "start_time": "2022-01-29T12:47:54.925Z"
   },
   {
    "duration": 44,
    "start_time": "2022-01-29T12:47:54.933Z"
   },
   {
    "duration": 7,
    "start_time": "2022-01-29T12:47:54.979Z"
   },
   {
    "duration": 565,
    "start_time": "2022-01-29T12:47:54.988Z"
   },
   {
    "duration": 26,
    "start_time": "2022-01-29T12:47:55.555Z"
   },
   {
    "duration": 16,
    "start_time": "2022-01-29T12:47:55.582Z"
   },
   {
    "duration": 13,
    "start_time": "2022-01-29T12:47:55.599Z"
   },
   {
    "duration": 14,
    "start_time": "2022-01-29T12:47:55.614Z"
   },
   {
    "duration": 7,
    "start_time": "2022-01-29T12:47:55.629Z"
   },
   {
    "duration": 3,
    "start_time": "2022-01-29T12:47:55.637Z"
   },
   {
    "duration": 31,
    "start_time": "2022-01-29T12:47:55.641Z"
   },
   {
    "duration": 5,
    "start_time": "2022-01-29T12:47:55.674Z"
   },
   {
    "duration": 8,
    "start_time": "2022-01-29T12:47:55.681Z"
   },
   {
    "duration": 18,
    "start_time": "2022-01-29T12:47:55.690Z"
   },
   {
    "duration": 5,
    "start_time": "2022-01-29T12:47:55.710Z"
   },
   {
    "duration": 12,
    "start_time": "2022-01-29T12:47:55.716Z"
   },
   {
    "duration": 10,
    "start_time": "2022-01-29T12:47:55.729Z"
   },
   {
    "duration": 8,
    "start_time": "2022-01-29T12:47:55.740Z"
   },
   {
    "duration": 23,
    "start_time": "2022-01-29T12:47:55.749Z"
   },
   {
    "duration": 7,
    "start_time": "2022-01-29T12:47:55.773Z"
   },
   {
    "duration": 107,
    "start_time": "2022-01-29T12:47:55.785Z"
   },
   {
    "duration": 10,
    "start_time": "2022-01-29T12:48:20.837Z"
   },
   {
    "duration": 288,
    "start_time": "2022-01-29T12:48:59.451Z"
   },
   {
    "duration": 11,
    "start_time": "2022-01-29T12:49:11.404Z"
   },
   {
    "duration": 439,
    "start_time": "2022-01-29T12:51:18.604Z"
   },
   {
    "duration": 524,
    "start_time": "2022-01-29T12:51:57.860Z"
   },
   {
    "duration": 10,
    "start_time": "2022-01-29T12:52:10.366Z"
   },
   {
    "duration": 106,
    "start_time": "2022-01-29T12:52:30.465Z"
   },
   {
    "duration": 466,
    "start_time": "2022-01-29T13:00:42.835Z"
   },
   {
    "duration": 3,
    "start_time": "2022-01-29T13:11:49.016Z"
   },
   {
    "duration": 6,
    "start_time": "2022-01-29T13:11:49.021Z"
   },
   {
    "duration": 39,
    "start_time": "2022-01-29T13:11:49.029Z"
   },
   {
    "duration": 12,
    "start_time": "2022-01-29T13:11:49.070Z"
   },
   {
    "duration": 9,
    "start_time": "2022-01-29T13:11:49.083Z"
   },
   {
    "duration": 22,
    "start_time": "2022-01-29T13:11:49.093Z"
   },
   {
    "duration": 30,
    "start_time": "2022-01-29T13:11:49.117Z"
   },
   {
    "duration": 39,
    "start_time": "2022-01-29T13:11:49.149Z"
   },
   {
    "duration": 4,
    "start_time": "2022-01-29T13:11:49.191Z"
   },
   {
    "duration": 11,
    "start_time": "2022-01-29T13:11:49.197Z"
   },
   {
    "duration": 5,
    "start_time": "2022-01-29T13:11:49.209Z"
   },
   {
    "duration": 10,
    "start_time": "2022-01-29T13:11:49.216Z"
   },
   {
    "duration": 45,
    "start_time": "2022-01-29T13:11:49.227Z"
   },
   {
    "duration": 2,
    "start_time": "2022-01-29T13:11:49.273Z"
   },
   {
    "duration": 10,
    "start_time": "2022-01-29T13:11:49.276Z"
   },
   {
    "duration": 6118,
    "start_time": "2022-01-29T13:11:49.288Z"
   },
   {
    "duration": 10,
    "start_time": "2022-01-29T13:11:55.407Z"
   },
   {
    "duration": 5,
    "start_time": "2022-01-29T13:11:55.419Z"
   },
   {
    "duration": 465,
    "start_time": "2022-01-29T13:11:55.426Z"
   },
   {
    "duration": 16,
    "start_time": "2022-01-29T13:11:55.893Z"
   },
   {
    "duration": 13,
    "start_time": "2022-01-29T13:11:55.911Z"
   },
   {
    "duration": 4,
    "start_time": "2022-01-29T13:11:55.926Z"
   },
   {
    "duration": 8,
    "start_time": "2022-01-29T13:11:55.932Z"
   },
   {
    "duration": 1146,
    "start_time": "2022-01-29T13:11:55.972Z"
   },
   {
    "duration": 13,
    "start_time": "2022-01-29T13:11:57.119Z"
   },
   {
    "duration": 5,
    "start_time": "2022-01-29T13:11:57.133Z"
   },
   {
    "duration": 33,
    "start_time": "2022-01-29T13:11:57.142Z"
   },
   {
    "duration": 20,
    "start_time": "2022-01-29T13:11:57.177Z"
   },
   {
    "duration": 9,
    "start_time": "2022-01-29T13:11:57.198Z"
   },
   {
    "duration": 10,
    "start_time": "2022-01-29T13:11:57.208Z"
   },
   {
    "duration": 3,
    "start_time": "2022-01-29T13:11:57.220Z"
   },
   {
    "duration": 508,
    "start_time": "2022-01-29T13:11:57.225Z"
   },
   {
    "duration": 23,
    "start_time": "2022-01-29T13:11:57.735Z"
   },
   {
    "duration": 620,
    "start_time": "2022-01-29T13:11:57.760Z"
   },
   {
    "duration": 598,
    "start_time": "2022-01-29T13:11:58.382Z"
   },
   {
    "duration": 10,
    "start_time": "2022-01-29T13:11:58.982Z"
   },
   {
    "duration": 8,
    "start_time": "2022-01-29T13:11:58.993Z"
   },
   {
    "duration": 7,
    "start_time": "2022-01-29T13:11:59.002Z"
   },
   {
    "duration": 7,
    "start_time": "2022-01-29T13:11:59.010Z"
   },
   {
    "duration": 9,
    "start_time": "2022-01-29T13:11:59.019Z"
   },
   {
    "duration": 5,
    "start_time": "2022-01-29T13:11:59.029Z"
   },
   {
    "duration": 36,
    "start_time": "2022-01-29T13:11:59.035Z"
   },
   {
    "duration": 6,
    "start_time": "2022-01-29T13:11:59.073Z"
   },
   {
    "duration": 9,
    "start_time": "2022-01-29T13:11:59.080Z"
   },
   {
    "duration": 8,
    "start_time": "2022-01-29T13:11:59.091Z"
   },
   {
    "duration": 558,
    "start_time": "2022-01-29T13:11:59.101Z"
   },
   {
    "duration": 15,
    "start_time": "2022-01-29T13:11:59.661Z"
   },
   {
    "duration": 13,
    "start_time": "2022-01-29T13:11:59.677Z"
   },
   {
    "duration": 12,
    "start_time": "2022-01-29T13:11:59.691Z"
   },
   {
    "duration": 13,
    "start_time": "2022-01-29T13:11:59.704Z"
   },
   {
    "duration": 8,
    "start_time": "2022-01-29T13:11:59.718Z"
   },
   {
    "duration": 4,
    "start_time": "2022-01-29T13:11:59.727Z"
   },
   {
    "duration": 5,
    "start_time": "2022-01-29T13:11:59.733Z"
   },
   {
    "duration": 36,
    "start_time": "2022-01-29T13:11:59.739Z"
   },
   {
    "duration": 6,
    "start_time": "2022-01-29T13:11:59.777Z"
   },
   {
    "duration": 15,
    "start_time": "2022-01-29T13:11:59.784Z"
   },
   {
    "duration": 5,
    "start_time": "2022-01-29T13:11:59.800Z"
   },
   {
    "duration": 11,
    "start_time": "2022-01-29T13:11:59.807Z"
   },
   {
    "duration": 6,
    "start_time": "2022-01-29T13:11:59.820Z"
   },
   {
    "duration": 8,
    "start_time": "2022-01-29T13:11:59.828Z"
   },
   {
    "duration": 38,
    "start_time": "2022-01-29T13:11:59.838Z"
   },
   {
    "duration": 7,
    "start_time": "2022-01-29T13:11:59.877Z"
   },
   {
    "duration": 112,
    "start_time": "2022-01-29T13:11:59.886Z"
   },
   {
    "duration": 14,
    "start_time": "2022-01-29T13:20:40.090Z"
   },
   {
    "duration": 6,
    "start_time": "2022-01-29T13:20:40.991Z"
   },
   {
    "duration": 300,
    "start_time": "2022-01-29T13:23:21.259Z"
   },
   {
    "duration": 13,
    "start_time": "2022-01-29T13:26:37.526Z"
   },
   {
    "duration": 324,
    "start_time": "2022-01-29T13:26:40.726Z"
   },
   {
    "duration": 5,
    "start_time": "2022-01-29T13:26:54.360Z"
   },
   {
    "duration": 14,
    "start_time": "2022-01-29T13:31:45.421Z"
   },
   {
    "duration": 24,
    "start_time": "2022-01-29T13:33:26.223Z"
   },
   {
    "duration": 22,
    "start_time": "2022-01-29T13:35:36.523Z"
   },
   {
    "duration": 25,
    "start_time": "2022-01-29T13:36:46.991Z"
   },
   {
    "duration": 364,
    "start_time": "2022-01-29T13:39:04.109Z"
   },
   {
    "duration": 305,
    "start_time": "2022-01-29T13:39:43.798Z"
   },
   {
    "duration": 5666,
    "start_time": "2022-01-29T13:41:26.969Z"
   },
   {
    "duration": 5639,
    "start_time": "2022-01-29T13:41:49.114Z"
   },
   {
    "duration": 4,
    "start_time": "2022-01-29T13:45:28.757Z"
   },
   {
    "duration": 4,
    "start_time": "2022-01-29T13:45:44.464Z"
   },
   {
    "duration": 308,
    "start_time": "2022-01-29T13:46:11.242Z"
   },
   {
    "duration": 325,
    "start_time": "2022-01-29T13:46:21.374Z"
   },
   {
    "duration": 31,
    "start_time": "2022-01-29T13:47:29.453Z"
   },
   {
    "duration": 302,
    "start_time": "2022-01-29T13:48:10.523Z"
   },
   {
    "duration": 293,
    "start_time": "2022-01-29T13:48:28.545Z"
   },
   {
    "duration": 23,
    "start_time": "2022-01-29T13:56:58.740Z"
   },
   {
    "duration": 15,
    "start_time": "2022-01-29T13:58:01.488Z"
   },
   {
    "duration": 22,
    "start_time": "2022-01-29T13:58:04.077Z"
   },
   {
    "duration": 9,
    "start_time": "2022-01-29T13:58:58.614Z"
   },
   {
    "duration": 10,
    "start_time": "2022-01-29T13:59:44.950Z"
   },
   {
    "duration": 12,
    "start_time": "2022-01-29T14:00:29.631Z"
   },
   {
    "duration": 4,
    "start_time": "2022-01-29T14:00:49.256Z"
   },
   {
    "duration": 410,
    "start_time": "2022-01-29T14:01:05.794Z"
   },
   {
    "duration": 14,
    "start_time": "2022-01-29T14:20:35.056Z"
   },
   {
    "duration": 23,
    "start_time": "2022-01-29T14:20:47.536Z"
   },
   {
    "duration": 2,
    "start_time": "2022-01-29T14:22:55.207Z"
   },
   {
    "duration": 4,
    "start_time": "2022-01-29T14:22:55.211Z"
   },
   {
    "duration": 34,
    "start_time": "2022-01-29T14:22:55.218Z"
   },
   {
    "duration": 10,
    "start_time": "2022-01-29T14:22:55.253Z"
   },
   {
    "duration": 9,
    "start_time": "2022-01-29T14:22:55.265Z"
   },
   {
    "duration": 24,
    "start_time": "2022-01-29T14:22:55.275Z"
   },
   {
    "duration": 31,
    "start_time": "2022-01-29T14:22:55.301Z"
   },
   {
    "duration": 43,
    "start_time": "2022-01-29T14:22:55.334Z"
   },
   {
    "duration": 3,
    "start_time": "2022-01-29T14:22:55.379Z"
   },
   {
    "duration": 10,
    "start_time": "2022-01-29T14:22:55.384Z"
   },
   {
    "duration": 4,
    "start_time": "2022-01-29T14:22:55.395Z"
   },
   {
    "duration": 9,
    "start_time": "2022-01-29T14:22:55.401Z"
   },
   {
    "duration": 8,
    "start_time": "2022-01-29T14:22:55.412Z"
   },
   {
    "duration": 8,
    "start_time": "2022-01-29T14:22:55.421Z"
   },
   {
    "duration": 44,
    "start_time": "2022-01-29T14:22:55.430Z"
   },
   {
    "duration": 5619,
    "start_time": "2022-01-29T14:22:55.475Z"
   },
   {
    "duration": 11,
    "start_time": "2022-01-29T14:23:01.095Z"
   },
   {
    "duration": 11,
    "start_time": "2022-01-29T14:23:01.107Z"
   },
   {
    "duration": 125,
    "start_time": "2022-01-29T14:23:01.119Z"
   },
   {
    "duration": 1085,
    "start_time": "2022-01-29T14:23:00.161Z"
   },
   {
    "duration": 1084,
    "start_time": "2022-01-29T14:23:00.163Z"
   },
   {
    "duration": 1083,
    "start_time": "2022-01-29T14:23:00.165Z"
   },
   {
    "duration": 1082,
    "start_time": "2022-01-29T14:23:00.167Z"
   },
   {
    "duration": 1081,
    "start_time": "2022-01-29T14:23:00.169Z"
   },
   {
    "duration": 1079,
    "start_time": "2022-01-29T14:23:00.171Z"
   },
   {
    "duration": 1078,
    "start_time": "2022-01-29T14:23:00.173Z"
   },
   {
    "duration": 1073,
    "start_time": "2022-01-29T14:23:00.179Z"
   },
   {
    "duration": 1072,
    "start_time": "2022-01-29T14:23:00.181Z"
   },
   {
    "duration": 1069,
    "start_time": "2022-01-29T14:23:00.184Z"
   },
   {
    "duration": 1069,
    "start_time": "2022-01-29T14:23:00.185Z"
   },
   {
    "duration": 1068,
    "start_time": "2022-01-29T14:23:00.187Z"
   },
   {
    "duration": 1066,
    "start_time": "2022-01-29T14:23:00.189Z"
   },
   {
    "duration": 1065,
    "start_time": "2022-01-29T14:23:00.191Z"
   },
   {
    "duration": 1064,
    "start_time": "2022-01-29T14:23:00.193Z"
   },
   {
    "duration": 1063,
    "start_time": "2022-01-29T14:23:00.194Z"
   },
   {
    "duration": 1062,
    "start_time": "2022-01-29T14:23:00.196Z"
   },
   {
    "duration": 1061,
    "start_time": "2022-01-29T14:23:00.198Z"
   },
   {
    "duration": 1056,
    "start_time": "2022-01-29T14:23:00.204Z"
   },
   {
    "duration": 1054,
    "start_time": "2022-01-29T14:23:00.207Z"
   },
   {
    "duration": 1054,
    "start_time": "2022-01-29T14:23:00.208Z"
   },
   {
    "duration": 1053,
    "start_time": "2022-01-29T14:23:00.210Z"
   },
   {
    "duration": 1052,
    "start_time": "2022-01-29T14:23:00.212Z"
   },
   {
    "duration": 1051,
    "start_time": "2022-01-29T14:23:00.214Z"
   },
   {
    "duration": 1051,
    "start_time": "2022-01-29T14:23:00.215Z"
   },
   {
    "duration": 1050,
    "start_time": "2022-01-29T14:23:00.217Z"
   },
   {
    "duration": 1049,
    "start_time": "2022-01-29T14:23:00.219Z"
   },
   {
    "duration": 1048,
    "start_time": "2022-01-29T14:23:00.221Z"
   },
   {
    "duration": 1048,
    "start_time": "2022-01-29T14:23:00.222Z"
   },
   {
    "duration": 1046,
    "start_time": "2022-01-29T14:23:00.225Z"
   },
   {
    "duration": 1045,
    "start_time": "2022-01-29T14:23:00.227Z"
   },
   {
    "duration": 1045,
    "start_time": "2022-01-29T14:23:00.228Z"
   },
   {
    "duration": 1044,
    "start_time": "2022-01-29T14:23:00.230Z"
   },
   {
    "duration": 1043,
    "start_time": "2022-01-29T14:23:00.232Z"
   },
   {
    "duration": 1042,
    "start_time": "2022-01-29T14:23:00.234Z"
   },
   {
    "duration": 1041,
    "start_time": "2022-01-29T14:23:00.236Z"
   },
   {
    "duration": 1040,
    "start_time": "2022-01-29T14:23:00.237Z"
   },
   {
    "duration": 1039,
    "start_time": "2022-01-29T14:23:00.239Z"
   },
   {
    "duration": 1038,
    "start_time": "2022-01-29T14:23:00.241Z"
   },
   {
    "duration": 1039,
    "start_time": "2022-01-29T14:23:00.242Z"
   },
   {
    "duration": 1038,
    "start_time": "2022-01-29T14:23:00.244Z"
   },
   {
    "duration": 1039,
    "start_time": "2022-01-29T14:23:00.246Z"
   },
   {
    "duration": 1038,
    "start_time": "2022-01-29T14:23:00.248Z"
   },
   {
    "duration": 1038,
    "start_time": "2022-01-29T14:23:00.249Z"
   },
   {
    "duration": 1037,
    "start_time": "2022-01-29T14:23:00.251Z"
   },
   {
    "duration": 3,
    "start_time": "2022-01-29T14:24:23.583Z"
   },
   {
    "duration": 4,
    "start_time": "2022-01-29T14:24:23.587Z"
   },
   {
    "duration": 36,
    "start_time": "2022-01-29T14:24:23.593Z"
   },
   {
    "duration": 10,
    "start_time": "2022-01-29T14:24:23.631Z"
   },
   {
    "duration": 11,
    "start_time": "2022-01-29T14:24:23.643Z"
   },
   {
    "duration": 23,
    "start_time": "2022-01-29T14:24:23.672Z"
   },
   {
    "duration": 29,
    "start_time": "2022-01-29T14:24:23.697Z"
   },
   {
    "duration": 15,
    "start_time": "2022-01-29T14:24:23.727Z"
   },
   {
    "duration": 3,
    "start_time": "2022-01-29T14:24:23.744Z"
   },
   {
    "duration": 9,
    "start_time": "2022-01-29T14:24:23.772Z"
   },
   {
    "duration": 4,
    "start_time": "2022-01-29T14:24:23.782Z"
   },
   {
    "duration": 9,
    "start_time": "2022-01-29T14:24:23.788Z"
   },
   {
    "duration": 6,
    "start_time": "2022-01-29T14:24:23.799Z"
   },
   {
    "duration": 5,
    "start_time": "2022-01-29T14:24:23.807Z"
   },
   {
    "duration": 14,
    "start_time": "2022-01-29T14:24:23.814Z"
   },
   {
    "duration": 5560,
    "start_time": "2022-01-29T14:24:23.830Z"
   },
   {
    "duration": 9,
    "start_time": "2022-01-29T14:24:29.391Z"
   },
   {
    "duration": 554,
    "start_time": "2022-01-29T14:24:29.402Z"
   },
   {
    "duration": 19,
    "start_time": "2022-01-29T14:24:29.957Z"
   },
   {
    "duration": 11,
    "start_time": "2022-01-29T14:24:29.977Z"
   },
   {
    "duration": 4,
    "start_time": "2022-01-29T14:24:29.990Z"
   },
   {
    "duration": 9,
    "start_time": "2022-01-29T14:24:29.995Z"
   },
   {
    "duration": 1099,
    "start_time": "2022-01-29T14:24:30.005Z"
   },
   {
    "duration": 13,
    "start_time": "2022-01-29T14:24:31.105Z"
   },
   {
    "duration": 7,
    "start_time": "2022-01-29T14:24:31.120Z"
   },
   {
    "duration": 21,
    "start_time": "2022-01-29T14:24:31.128Z"
   },
   {
    "duration": 38,
    "start_time": "2022-01-29T14:24:31.153Z"
   },
   {
    "duration": 10,
    "start_time": "2022-01-29T14:24:31.193Z"
   },
   {
    "duration": 27,
    "start_time": "2022-01-29T14:24:31.205Z"
   },
   {
    "duration": 3,
    "start_time": "2022-01-29T14:24:31.234Z"
   },
   {
    "duration": 412,
    "start_time": "2022-01-29T14:24:31.239Z"
   },
   {
    "duration": 20,
    "start_time": "2022-01-29T14:24:31.652Z"
   },
   {
    "duration": 446,
    "start_time": "2022-01-29T14:24:31.673Z"
   },
   {
    "duration": 422,
    "start_time": "2022-01-29T14:24:32.121Z"
   },
   {
    "duration": 8,
    "start_time": "2022-01-29T14:24:32.545Z"
   },
   {
    "duration": 17,
    "start_time": "2022-01-29T14:24:32.555Z"
   },
   {
    "duration": 7,
    "start_time": "2022-01-29T14:24:32.573Z"
   },
   {
    "duration": 7,
    "start_time": "2022-01-29T14:24:32.581Z"
   },
   {
    "duration": 9,
    "start_time": "2022-01-29T14:24:32.589Z"
   },
   {
    "duration": 4,
    "start_time": "2022-01-29T14:24:32.600Z"
   },
   {
    "duration": 12,
    "start_time": "2022-01-29T14:24:32.605Z"
   },
   {
    "duration": 8,
    "start_time": "2022-01-29T14:24:32.618Z"
   },
   {
    "duration": 13,
    "start_time": "2022-01-29T14:24:32.627Z"
   },
   {
    "duration": 6,
    "start_time": "2022-01-29T14:24:32.642Z"
   },
   {
    "duration": 526,
    "start_time": "2022-01-29T14:24:32.671Z"
   },
   {
    "duration": 13,
    "start_time": "2022-01-29T14:24:33.199Z"
   },
   {
    "duration": 16,
    "start_time": "2022-01-29T14:24:33.214Z"
   },
   {
    "duration": 11,
    "start_time": "2022-01-29T14:24:33.232Z"
   },
   {
    "duration": 34,
    "start_time": "2022-01-29T14:24:33.245Z"
   },
   {
    "duration": 90,
    "start_time": "2022-01-29T14:24:33.281Z"
   },
   {
    "duration": 2,
    "start_time": "2022-01-29T14:24:33.373Z"
   },
   {
    "duration": 5,
    "start_time": "2022-01-29T14:24:33.377Z"
   },
   {
    "duration": 5,
    "start_time": "2022-01-29T14:24:33.384Z"
   },
   {
    "duration": 4,
    "start_time": "2022-01-29T14:24:33.391Z"
   },
   {
    "duration": 11,
    "start_time": "2022-01-29T14:24:33.397Z"
   },
   {
    "duration": 4,
    "start_time": "2022-01-29T14:24:33.410Z"
   },
   {
    "duration": 15,
    "start_time": "2022-01-29T14:24:33.416Z"
   },
   {
    "duration": 12,
    "start_time": "2022-01-29T14:24:33.432Z"
   },
   {
    "duration": 29,
    "start_time": "2022-01-29T14:24:33.445Z"
   },
   {
    "duration": 10,
    "start_time": "2022-01-29T14:24:33.475Z"
   },
   {
    "duration": 10,
    "start_time": "2022-01-29T14:24:33.486Z"
   },
   {
    "duration": 108,
    "start_time": "2022-01-29T14:24:33.497Z"
   },
   {
    "duration": 11,
    "start_time": "2022-01-29T14:26:05.486Z"
   },
   {
    "duration": 12,
    "start_time": "2022-01-29T14:26:12.959Z"
   },
   {
    "duration": 5,
    "start_time": "2022-01-29T14:26:18.910Z"
   },
   {
    "duration": 412,
    "start_time": "2022-01-29T14:26:24.471Z"
   },
   {
    "duration": 15,
    "start_time": "2022-01-29T14:27:01.089Z"
   },
   {
    "duration": 14,
    "start_time": "2022-01-29T14:27:18.367Z"
   },
   {
    "duration": 3,
    "start_time": "2022-01-29T14:27:19.224Z"
   },
   {
    "duration": 436,
    "start_time": "2022-01-29T14:27:20.963Z"
   },
   {
    "duration": 4,
    "start_time": "2022-01-29T14:27:57.737Z"
   },
   {
    "duration": 410,
    "start_time": "2022-01-29T14:27:59.153Z"
   },
   {
    "duration": 349,
    "start_time": "2022-01-29T14:28:16.820Z"
   },
   {
    "duration": 4,
    "start_time": "2022-01-29T14:29:00.874Z"
   },
   {
    "duration": 7,
    "start_time": "2022-01-29T14:29:00.880Z"
   },
   {
    "duration": 38,
    "start_time": "2022-01-29T14:29:00.889Z"
   },
   {
    "duration": 12,
    "start_time": "2022-01-29T14:29:00.929Z"
   },
   {
    "duration": 40,
    "start_time": "2022-01-29T14:29:00.943Z"
   },
   {
    "duration": 27,
    "start_time": "2022-01-29T14:29:00.986Z"
   },
   {
    "duration": 57,
    "start_time": "2022-01-29T14:29:01.015Z"
   },
   {
    "duration": 15,
    "start_time": "2022-01-29T14:29:01.076Z"
   },
   {
    "duration": 5,
    "start_time": "2022-01-29T14:29:01.093Z"
   },
   {
    "duration": 20,
    "start_time": "2022-01-29T14:29:01.099Z"
   },
   {
    "duration": 9,
    "start_time": "2022-01-29T14:29:01.120Z"
   },
   {
    "duration": 15,
    "start_time": "2022-01-29T14:29:01.130Z"
   },
   {
    "duration": 29,
    "start_time": "2022-01-29T14:29:01.147Z"
   },
   {
    "duration": 2,
    "start_time": "2022-01-29T14:29:01.178Z"
   },
   {
    "duration": 13,
    "start_time": "2022-01-29T14:29:01.182Z"
   },
   {
    "duration": 5650,
    "start_time": "2022-01-29T14:29:01.197Z"
   },
   {
    "duration": 9,
    "start_time": "2022-01-29T14:29:06.849Z"
   },
   {
    "duration": 446,
    "start_time": "2022-01-29T14:29:06.860Z"
   },
   {
    "duration": 15,
    "start_time": "2022-01-29T14:29:07.308Z"
   },
   {
    "duration": 11,
    "start_time": "2022-01-29T14:29:07.325Z"
   },
   {
    "duration": 3,
    "start_time": "2022-01-29T14:29:07.337Z"
   },
   {
    "duration": 32,
    "start_time": "2022-01-29T14:29:07.342Z"
   },
   {
    "duration": 1068,
    "start_time": "2022-01-29T14:29:07.377Z"
   },
   {
    "duration": 24,
    "start_time": "2022-01-29T14:29:08.447Z"
   },
   {
    "duration": 4,
    "start_time": "2022-01-29T14:29:08.473Z"
   },
   {
    "duration": 13,
    "start_time": "2022-01-29T14:29:08.479Z"
   },
   {
    "duration": 24,
    "start_time": "2022-01-29T14:29:08.493Z"
   },
   {
    "duration": 15,
    "start_time": "2022-01-29T14:29:08.518Z"
   },
   {
    "duration": 43,
    "start_time": "2022-01-29T14:29:08.534Z"
   },
   {
    "duration": 307,
    "start_time": "2022-01-29T14:29:08.579Z"
   },
   {
    "duration": 1083,
    "start_time": "2022-01-29T14:29:07.805Z"
   },
   {
    "duration": 1082,
    "start_time": "2022-01-29T14:29:07.807Z"
   },
   {
    "duration": 1081,
    "start_time": "2022-01-29T14:29:07.808Z"
   },
   {
    "duration": 1080,
    "start_time": "2022-01-29T14:29:07.810Z"
   },
   {
    "duration": 1079,
    "start_time": "2022-01-29T14:29:07.811Z"
   },
   {
    "duration": 1079,
    "start_time": "2022-01-29T14:29:07.812Z"
   },
   {
    "duration": 1078,
    "start_time": "2022-01-29T14:29:07.814Z"
   },
   {
    "duration": 1077,
    "start_time": "2022-01-29T14:29:07.815Z"
   },
   {
    "duration": 1076,
    "start_time": "2022-01-29T14:29:07.817Z"
   },
   {
    "duration": 1076,
    "start_time": "2022-01-29T14:29:07.818Z"
   },
   {
    "duration": 1075,
    "start_time": "2022-01-29T14:29:07.819Z"
   },
   {
    "duration": 1074,
    "start_time": "2022-01-29T14:29:07.821Z"
   },
   {
    "duration": 1073,
    "start_time": "2022-01-29T14:29:07.822Z"
   },
   {
    "duration": 1072,
    "start_time": "2022-01-29T14:29:07.824Z"
   },
   {
    "duration": 1072,
    "start_time": "2022-01-29T14:29:07.825Z"
   },
   {
    "duration": 1072,
    "start_time": "2022-01-29T14:29:07.826Z"
   },
   {
    "duration": 1070,
    "start_time": "2022-01-29T14:29:07.828Z"
   },
   {
    "duration": 1070,
    "start_time": "2022-01-29T14:29:07.829Z"
   },
   {
    "duration": 1069,
    "start_time": "2022-01-29T14:29:07.830Z"
   },
   {
    "duration": 1068,
    "start_time": "2022-01-29T14:29:07.832Z"
   },
   {
    "duration": 1068,
    "start_time": "2022-01-29T14:29:07.833Z"
   },
   {
    "duration": 1066,
    "start_time": "2022-01-29T14:29:07.835Z"
   },
   {
    "duration": 1066,
    "start_time": "2022-01-29T14:29:07.836Z"
   },
   {
    "duration": 1065,
    "start_time": "2022-01-29T14:29:07.837Z"
   },
   {
    "duration": 1065,
    "start_time": "2022-01-29T14:29:07.839Z"
   },
   {
    "duration": 1065,
    "start_time": "2022-01-29T14:29:07.840Z"
   },
   {
    "duration": 1063,
    "start_time": "2022-01-29T14:29:07.842Z"
   },
   {
    "duration": 1058,
    "start_time": "2022-01-29T14:29:07.849Z"
   },
   {
    "duration": 1057,
    "start_time": "2022-01-29T14:29:07.851Z"
   },
   {
    "duration": 1056,
    "start_time": "2022-01-29T14:29:07.853Z"
   },
   {
    "duration": 1056,
    "start_time": "2022-01-29T14:29:07.854Z"
   },
   {
    "duration": 12,
    "start_time": "2022-01-29T14:29:31.733Z"
   },
   {
    "duration": 5,
    "start_time": "2022-01-29T14:29:36.882Z"
   },
   {
    "duration": 509,
    "start_time": "2022-01-29T14:29:38.421Z"
   },
   {
    "duration": 510,
    "start_time": "2022-01-29T14:31:50.178Z"
   },
   {
    "duration": 35,
    "start_time": "2022-01-29T14:32:11.478Z"
   },
   {
    "duration": 12,
    "start_time": "2022-01-29T14:33:49.348Z"
   },
   {
    "duration": 3,
    "start_time": "2022-01-29T14:33:49.362Z"
   },
   {
    "duration": 918,
    "start_time": "2022-01-29T14:33:50.607Z"
   },
   {
    "duration": 35,
    "start_time": "2022-01-29T14:33:57.993Z"
   },
   {
    "duration": 21,
    "start_time": "2022-01-29T14:44:51.463Z"
   },
   {
    "duration": 13,
    "start_time": "2022-01-29T14:47:36.152Z"
   },
   {
    "duration": 23,
    "start_time": "2022-01-29T14:47:48.998Z"
   },
   {
    "duration": 342,
    "start_time": "2022-01-29T14:47:56.276Z"
   },
   {
    "duration": 15,
    "start_time": "2022-01-29T14:50:14.588Z"
   },
   {
    "duration": 14,
    "start_time": "2022-01-29T14:50:24.899Z"
   },
   {
    "duration": 3,
    "start_time": "2022-01-29T14:50:29.823Z"
   },
   {
    "duration": 4,
    "start_time": "2022-01-29T14:50:29.828Z"
   },
   {
    "duration": 46,
    "start_time": "2022-01-29T14:50:29.834Z"
   },
   {
    "duration": 14,
    "start_time": "2022-01-29T14:50:29.882Z"
   },
   {
    "duration": 10,
    "start_time": "2022-01-29T14:50:29.897Z"
   },
   {
    "duration": 24,
    "start_time": "2022-01-29T14:50:29.909Z"
   },
   {
    "duration": 59,
    "start_time": "2022-01-29T14:50:29.935Z"
   },
   {
    "duration": 15,
    "start_time": "2022-01-29T14:50:29.996Z"
   },
   {
    "duration": 6,
    "start_time": "2022-01-29T14:50:30.013Z"
   },
   {
    "duration": 16,
    "start_time": "2022-01-29T14:50:30.020Z"
   },
   {
    "duration": 4,
    "start_time": "2022-01-29T14:50:30.038Z"
   },
   {
    "duration": 34,
    "start_time": "2022-01-29T14:50:30.044Z"
   },
   {
    "duration": 15,
    "start_time": "2022-01-29T14:50:30.080Z"
   },
   {
    "duration": 3,
    "start_time": "2022-01-29T14:50:30.097Z"
   },
   {
    "duration": 14,
    "start_time": "2022-01-29T14:50:30.102Z"
   },
   {
    "duration": 8853,
    "start_time": "2022-01-29T14:50:30.118Z"
   },
   {
    "duration": 13,
    "start_time": "2022-01-29T14:50:38.973Z"
   },
   {
    "duration": 787,
    "start_time": "2022-01-29T14:50:38.988Z"
   },
   {
    "duration": 17,
    "start_time": "2022-01-29T14:50:39.777Z"
   },
   {
    "duration": 13,
    "start_time": "2022-01-29T14:50:39.796Z"
   },
   {
    "duration": 4,
    "start_time": "2022-01-29T14:50:39.811Z"
   },
   {
    "duration": 13,
    "start_time": "2022-01-29T14:50:39.817Z"
   },
   {
    "duration": 1012,
    "start_time": "2022-01-29T14:50:39.832Z"
   },
   {
    "duration": 12,
    "start_time": "2022-01-29T14:50:40.845Z"
   },
   {
    "duration": 13,
    "start_time": "2022-01-29T14:50:40.859Z"
   },
   {
    "duration": 16,
    "start_time": "2022-01-29T14:50:40.874Z"
   },
   {
    "duration": 11,
    "start_time": "2022-01-29T14:50:40.894Z"
   },
   {
    "duration": 4,
    "start_time": "2022-01-29T14:50:40.907Z"
   },
   {
    "duration": 534,
    "start_time": "2022-01-29T14:50:40.912Z"
   },
   {
    "duration": 31,
    "start_time": "2022-01-29T14:50:41.447Z"
   },
   {
    "duration": 15,
    "start_time": "2022-01-29T14:50:41.479Z"
   },
   {
    "duration": 456,
    "start_time": "2022-01-29T14:50:41.495Z"
   },
   {
    "duration": 462,
    "start_time": "2022-01-29T14:50:41.952Z"
   },
   {
    "duration": 10,
    "start_time": "2022-01-29T14:50:42.416Z"
   },
   {
    "duration": 6,
    "start_time": "2022-01-29T14:50:42.427Z"
   },
   {
    "duration": 9,
    "start_time": "2022-01-29T14:50:42.435Z"
   },
   {
    "duration": 30,
    "start_time": "2022-01-29T14:50:42.446Z"
   },
   {
    "duration": 9,
    "start_time": "2022-01-29T14:50:42.478Z"
   },
   {
    "duration": 5,
    "start_time": "2022-01-29T14:50:42.488Z"
   },
   {
    "duration": 10,
    "start_time": "2022-01-29T14:50:42.495Z"
   },
   {
    "duration": 8,
    "start_time": "2022-01-29T14:50:42.506Z"
   },
   {
    "duration": 12,
    "start_time": "2022-01-29T14:50:42.515Z"
   },
   {
    "duration": 13,
    "start_time": "2022-01-29T14:50:42.528Z"
   },
   {
    "duration": 622,
    "start_time": "2022-01-29T14:50:42.572Z"
   },
   {
    "duration": 13,
    "start_time": "2022-01-29T14:50:43.195Z"
   },
   {
    "duration": 11,
    "start_time": "2022-01-29T14:50:43.210Z"
   },
   {
    "duration": 12,
    "start_time": "2022-01-29T14:50:43.223Z"
   },
   {
    "duration": 38,
    "start_time": "2022-01-29T14:50:43.236Z"
   },
   {
    "duration": 7,
    "start_time": "2022-01-29T14:50:43.275Z"
   },
   {
    "duration": 4,
    "start_time": "2022-01-29T14:50:43.284Z"
   },
   {
    "duration": 6,
    "start_time": "2022-01-29T14:50:43.290Z"
   },
   {
    "duration": 4,
    "start_time": "2022-01-29T14:50:43.298Z"
   },
   {
    "duration": 8,
    "start_time": "2022-01-29T14:50:43.304Z"
   },
   {
    "duration": 15,
    "start_time": "2022-01-29T14:50:43.314Z"
   },
   {
    "duration": 5,
    "start_time": "2022-01-29T14:50:43.331Z"
   },
   {
    "duration": 13,
    "start_time": "2022-01-29T14:50:43.337Z"
   },
   {
    "duration": 23,
    "start_time": "2022-01-29T14:50:43.351Z"
   },
   {
    "duration": 5,
    "start_time": "2022-01-29T14:50:43.376Z"
   },
   {
    "duration": 13,
    "start_time": "2022-01-29T14:50:43.383Z"
   },
   {
    "duration": 16,
    "start_time": "2022-01-29T14:50:43.397Z"
   },
   {
    "duration": 112,
    "start_time": "2022-01-29T14:50:43.414Z"
   },
   {
    "duration": 22,
    "start_time": "2022-01-29T14:52:18.998Z"
   },
   {
    "duration": 1946,
    "start_time": "2022-01-29T14:53:41.967Z"
   },
   {
    "duration": 19,
    "start_time": "2022-01-29T14:53:55.136Z"
   },
   {
    "duration": 485,
    "start_time": "2022-01-29T14:53:59.075Z"
   },
   {
    "duration": 605,
    "start_time": "2022-01-29T14:54:36.473Z"
   },
   {
    "duration": 9,
    "start_time": "2022-01-29T14:54:37.079Z"
   },
   {
    "duration": 17,
    "start_time": "2022-01-29T15:01:35.980Z"
   },
   {
    "duration": 9,
    "start_time": "2022-01-29T15:02:13.274Z"
   },
   {
    "duration": 375,
    "start_time": "2022-01-29T15:08:24.689Z"
   },
   {
    "duration": 10,
    "start_time": "2022-01-29T15:08:25.395Z"
   },
   {
    "duration": 4,
    "start_time": "2022-01-29T15:09:12.789Z"
   },
   {
    "duration": 9,
    "start_time": "2022-01-29T15:09:13.742Z"
   },
   {
    "duration": 4,
    "start_time": "2022-01-29T15:09:27.298Z"
   },
   {
    "duration": 12,
    "start_time": "2022-01-29T15:10:57.843Z"
   },
   {
    "duration": 3,
    "start_time": "2022-01-29T15:11:01.769Z"
   },
   {
    "duration": 5,
    "start_time": "2022-01-29T15:11:01.773Z"
   },
   {
    "duration": 38,
    "start_time": "2022-01-29T15:11:01.779Z"
   },
   {
    "duration": 10,
    "start_time": "2022-01-29T15:11:01.819Z"
   },
   {
    "duration": 11,
    "start_time": "2022-01-29T15:11:01.831Z"
   },
   {
    "duration": 27,
    "start_time": "2022-01-29T15:11:01.871Z"
   },
   {
    "duration": 33,
    "start_time": "2022-01-29T15:11:01.900Z"
   },
   {
    "duration": 40,
    "start_time": "2022-01-29T15:11:01.936Z"
   },
   {
    "duration": 4,
    "start_time": "2022-01-29T15:11:01.978Z"
   },
   {
    "duration": 12,
    "start_time": "2022-01-29T15:11:01.983Z"
   },
   {
    "duration": 5,
    "start_time": "2022-01-29T15:11:01.996Z"
   },
   {
    "duration": 12,
    "start_time": "2022-01-29T15:11:02.002Z"
   },
   {
    "duration": 9,
    "start_time": "2022-01-29T15:11:02.015Z"
   },
   {
    "duration": 10,
    "start_time": "2022-01-29T15:11:02.026Z"
   },
   {
    "duration": 15,
    "start_time": "2022-01-29T15:11:02.037Z"
   },
   {
    "duration": 19,
    "start_time": "2022-01-29T15:11:02.053Z"
   },
   {
    "duration": 15,
    "start_time": "2022-01-29T15:11:02.073Z"
   },
   {
    "duration": 450,
    "start_time": "2022-01-29T15:11:02.089Z"
   },
   {
    "duration": 15,
    "start_time": "2022-01-29T15:11:02.541Z"
   },
   {
    "duration": 22,
    "start_time": "2022-01-29T15:11:02.557Z"
   },
   {
    "duration": 4,
    "start_time": "2022-01-29T15:11:02.580Z"
   },
   {
    "duration": 25,
    "start_time": "2022-01-29T15:11:02.586Z"
   },
   {
    "duration": 973,
    "start_time": "2022-01-29T15:11:02.615Z"
   },
   {
    "duration": 12,
    "start_time": "2022-01-29T15:11:03.590Z"
   },
   {
    "duration": 4,
    "start_time": "2022-01-29T15:11:03.603Z"
   },
   {
    "duration": 14,
    "start_time": "2022-01-29T15:11:03.609Z"
   },
   {
    "duration": 12,
    "start_time": "2022-01-29T15:11:03.624Z"
   },
   {
    "duration": 4,
    "start_time": "2022-01-29T15:11:03.637Z"
   },
   {
    "duration": 725,
    "start_time": "2022-01-29T15:11:03.642Z"
   },
   {
    "duration": 24,
    "start_time": "2022-01-29T15:11:04.371Z"
   },
   {
    "duration": 15,
    "start_time": "2022-01-29T15:11:04.396Z"
   },
   {
    "duration": 300,
    "start_time": "2022-01-29T15:11:04.412Z"
   },
   {
    "duration": 1133,
    "start_time": "2022-01-29T15:11:03.581Z"
   },
   {
    "duration": 1132,
    "start_time": "2022-01-29T15:11:03.583Z"
   },
   {
    "duration": 1131,
    "start_time": "2022-01-29T15:11:03.585Z"
   },
   {
    "duration": 1130,
    "start_time": "2022-01-29T15:11:03.587Z"
   },
   {
    "duration": 1130,
    "start_time": "2022-01-29T15:11:03.588Z"
   },
   {
    "duration": 1129,
    "start_time": "2022-01-29T15:11:03.590Z"
   },
   {
    "duration": 1129,
    "start_time": "2022-01-29T15:11:03.591Z"
   },
   {
    "duration": 1128,
    "start_time": "2022-01-29T15:11:03.593Z"
   },
   {
    "duration": 1127,
    "start_time": "2022-01-29T15:11:03.595Z"
   },
   {
    "duration": 1127,
    "start_time": "2022-01-29T15:11:03.596Z"
   },
   {
    "duration": 1126,
    "start_time": "2022-01-29T15:11:03.598Z"
   },
   {
    "duration": 1124,
    "start_time": "2022-01-29T15:11:03.600Z"
   },
   {
    "duration": 1124,
    "start_time": "2022-01-29T15:11:03.601Z"
   },
   {
    "duration": 1123,
    "start_time": "2022-01-29T15:11:03.603Z"
   },
   {
    "duration": 1122,
    "start_time": "2022-01-29T15:11:03.605Z"
   },
   {
    "duration": 1122,
    "start_time": "2022-01-29T15:11:03.606Z"
   },
   {
    "duration": 1116,
    "start_time": "2022-01-29T15:11:03.613Z"
   },
   {
    "duration": 1115,
    "start_time": "2022-01-29T15:11:03.615Z"
   },
   {
    "duration": 1114,
    "start_time": "2022-01-29T15:11:03.617Z"
   },
   {
    "duration": 1113,
    "start_time": "2022-01-29T15:11:03.619Z"
   },
   {
    "duration": 1112,
    "start_time": "2022-01-29T15:11:03.620Z"
   },
   {
    "duration": 1111,
    "start_time": "2022-01-29T15:11:03.622Z"
   },
   {
    "duration": 1111,
    "start_time": "2022-01-29T15:11:03.623Z"
   },
   {
    "duration": 1110,
    "start_time": "2022-01-29T15:11:03.625Z"
   },
   {
    "duration": 1109,
    "start_time": "2022-01-29T15:11:03.627Z"
   },
   {
    "duration": 1109,
    "start_time": "2022-01-29T15:11:03.628Z"
   },
   {
    "duration": 1108,
    "start_time": "2022-01-29T15:11:03.630Z"
   },
   {
    "duration": 1108,
    "start_time": "2022-01-29T15:11:03.631Z"
   },
   {
    "duration": 1107,
    "start_time": "2022-01-29T15:11:03.633Z"
   },
   {
    "duration": 1106,
    "start_time": "2022-01-29T15:11:03.635Z"
   },
   {
    "duration": 419,
    "start_time": "2022-01-29T15:12:32.717Z"
   },
   {
    "duration": 469,
    "start_time": "2022-01-29T15:12:36.534Z"
   },
   {
    "duration": 10,
    "start_time": "2022-01-29T15:13:02.855Z"
   },
   {
    "duration": 6,
    "start_time": "2022-01-29T15:13:05.990Z"
   },
   {
    "duration": 7,
    "start_time": "2022-01-29T15:13:49.448Z"
   },
   {
    "duration": 8,
    "start_time": "2022-01-29T15:13:51.687Z"
   },
   {
    "duration": 10,
    "start_time": "2022-01-29T15:15:13.705Z"
   },
   {
    "duration": 6,
    "start_time": "2022-01-29T15:15:19.497Z"
   },
   {
    "duration": 15,
    "start_time": "2022-01-29T15:15:52.369Z"
   },
   {
    "duration": 15,
    "start_time": "2022-01-29T15:16:37.658Z"
   },
   {
    "duration": 10,
    "start_time": "2022-01-29T15:17:17.351Z"
   },
   {
    "duration": 14,
    "start_time": "2022-01-29T15:17:36.068Z"
   },
   {
    "duration": 543,
    "start_time": "2022-01-29T15:17:50.140Z"
   },
   {
    "duration": 13,
    "start_time": "2022-01-29T15:21:26.508Z"
   },
   {
    "duration": 14,
    "start_time": "2022-01-29T15:21:47.436Z"
   },
   {
    "duration": 15,
    "start_time": "2022-01-29T15:21:49.857Z"
   },
   {
    "duration": 14,
    "start_time": "2022-01-29T15:22:55.169Z"
   },
   {
    "duration": 531,
    "start_time": "2022-01-29T15:24:13.588Z"
   },
   {
    "duration": 623,
    "start_time": "2022-01-29T15:25:17.885Z"
   },
   {
    "duration": 3,
    "start_time": "2022-01-29T15:25:53.353Z"
   },
   {
    "duration": 4,
    "start_time": "2022-01-29T15:25:53.357Z"
   },
   {
    "duration": 36,
    "start_time": "2022-01-29T15:25:53.363Z"
   },
   {
    "duration": 10,
    "start_time": "2022-01-29T15:25:53.401Z"
   },
   {
    "duration": 10,
    "start_time": "2022-01-29T15:25:53.412Z"
   },
   {
    "duration": 23,
    "start_time": "2022-01-29T15:25:53.423Z"
   },
   {
    "duration": 30,
    "start_time": "2022-01-29T15:25:53.471Z"
   },
   {
    "duration": 14,
    "start_time": "2022-01-29T15:25:53.503Z"
   },
   {
    "duration": 4,
    "start_time": "2022-01-29T15:25:53.519Z"
   },
   {
    "duration": 10,
    "start_time": "2022-01-29T15:25:53.525Z"
   },
   {
    "duration": 4,
    "start_time": "2022-01-29T15:25:53.537Z"
   },
   {
    "duration": 35,
    "start_time": "2022-01-29T15:25:53.542Z"
   },
   {
    "duration": 6,
    "start_time": "2022-01-29T15:25:53.578Z"
   },
   {
    "duration": 11,
    "start_time": "2022-01-29T15:25:53.586Z"
   },
   {
    "duration": 15,
    "start_time": "2022-01-29T15:25:53.598Z"
   },
   {
    "duration": 4,
    "start_time": "2022-01-29T15:25:53.615Z"
   },
   {
    "duration": 15,
    "start_time": "2022-01-29T15:25:53.620Z"
   },
   {
    "duration": 448,
    "start_time": "2022-01-29T15:25:53.637Z"
   },
   {
    "duration": 15,
    "start_time": "2022-01-29T15:25:54.086Z"
   },
   {
    "duration": 11,
    "start_time": "2022-01-29T15:25:54.102Z"
   },
   {
    "duration": 3,
    "start_time": "2022-01-29T15:25:54.114Z"
   },
   {
    "duration": 8,
    "start_time": "2022-01-29T15:25:54.118Z"
   },
   {
    "duration": 1007,
    "start_time": "2022-01-29T15:25:54.128Z"
   },
   {
    "duration": 13,
    "start_time": "2022-01-29T15:25:55.136Z"
   },
   {
    "duration": 5,
    "start_time": "2022-01-29T15:25:55.150Z"
   },
   {
    "duration": 26,
    "start_time": "2022-01-29T15:25:55.156Z"
   },
   {
    "duration": 11,
    "start_time": "2022-01-29T15:25:55.185Z"
   },
   {
    "duration": 4,
    "start_time": "2022-01-29T15:25:55.198Z"
   },
   {
    "duration": 528,
    "start_time": "2022-01-29T15:25:55.203Z"
   },
   {
    "duration": 23,
    "start_time": "2022-01-29T15:25:55.732Z"
   },
   {
    "duration": 25,
    "start_time": "2022-01-29T15:25:55.757Z"
   },
   {
    "duration": 550,
    "start_time": "2022-01-29T15:25:55.783Z"
   },
   {
    "duration": 460,
    "start_time": "2022-01-29T15:25:56.335Z"
   },
   {
    "duration": 12,
    "start_time": "2022-01-29T15:25:56.796Z"
   },
   {
    "duration": 5,
    "start_time": "2022-01-29T15:25:56.810Z"
   },
   {
    "duration": 9,
    "start_time": "2022-01-29T15:25:56.817Z"
   },
   {
    "duration": 8,
    "start_time": "2022-01-29T15:25:56.827Z"
   },
   {
    "duration": 39,
    "start_time": "2022-01-29T15:25:56.836Z"
   },
   {
    "duration": 11,
    "start_time": "2022-01-29T15:25:56.877Z"
   },
   {
    "duration": 5,
    "start_time": "2022-01-29T15:25:56.889Z"
   },
   {
    "duration": 17,
    "start_time": "2022-01-29T15:25:56.896Z"
   },
   {
    "duration": 544,
    "start_time": "2022-01-29T15:25:56.915Z"
   },
   {
    "duration": 18,
    "start_time": "2022-01-29T15:25:57.461Z"
   },
   {
    "duration": 10,
    "start_time": "2022-01-29T15:25:57.481Z"
   },
   {
    "duration": 10,
    "start_time": "2022-01-29T15:25:57.492Z"
   },
   {
    "duration": 592,
    "start_time": "2022-01-29T15:25:57.504Z"
   },
   {
    "duration": 14,
    "start_time": "2022-01-29T15:25:58.098Z"
   },
   {
    "duration": 7,
    "start_time": "2022-01-29T15:25:58.114Z"
   },
   {
    "duration": 4,
    "start_time": "2022-01-29T15:25:58.123Z"
   },
   {
    "duration": 6,
    "start_time": "2022-01-29T15:25:58.128Z"
   },
   {
    "duration": 6,
    "start_time": "2022-01-29T15:25:58.135Z"
   },
   {
    "duration": 30,
    "start_time": "2022-01-29T15:25:58.142Z"
   },
   {
    "duration": 11,
    "start_time": "2022-01-29T15:25:58.173Z"
   },
   {
    "duration": 5,
    "start_time": "2022-01-29T15:25:58.186Z"
   },
   {
    "duration": 13,
    "start_time": "2022-01-29T15:25:58.192Z"
   },
   {
    "duration": 10,
    "start_time": "2022-01-29T15:25:58.207Z"
   },
   {
    "duration": 7,
    "start_time": "2022-01-29T15:25:58.219Z"
   },
   {
    "duration": 13,
    "start_time": "2022-01-29T15:25:58.228Z"
   },
   {
    "duration": 8,
    "start_time": "2022-01-29T15:25:58.243Z"
   },
   {
    "duration": 15,
    "start_time": "2022-01-29T15:28:13.433Z"
   },
   {
    "duration": 10,
    "start_time": "2022-01-29T15:30:05.396Z"
   },
   {
    "duration": 4,
    "start_time": "2022-01-29T15:30:06.596Z"
   },
   {
    "duration": 5,
    "start_time": "2022-01-29T15:30:10.716Z"
   },
   {
    "duration": 5,
    "start_time": "2022-01-29T15:30:20.933Z"
   },
   {
    "duration": 16,
    "start_time": "2022-01-29T15:32:32.510Z"
   },
   {
    "duration": 21,
    "start_time": "2022-01-29T15:32:52.899Z"
   },
   {
    "duration": 15,
    "start_time": "2022-01-29T15:33:10.960Z"
   },
   {
    "duration": 6,
    "start_time": "2022-01-29T15:34:40.716Z"
   },
   {
    "duration": 8,
    "start_time": "2022-01-29T15:36:22.938Z"
   },
   {
    "duration": 8,
    "start_time": "2022-01-29T15:36:30.850Z"
   },
   {
    "duration": 9,
    "start_time": "2022-01-29T15:38:04.701Z"
   },
   {
    "duration": 6,
    "start_time": "2022-01-29T15:38:06.813Z"
   },
   {
    "duration": 5,
    "start_time": "2022-01-29T15:38:10.166Z"
   },
   {
    "duration": 10,
    "start_time": "2022-01-29T15:38:20.461Z"
   },
   {
    "duration": 1545,
    "start_time": "2022-01-30T06:42:39.914Z"
   },
   {
    "duration": 3,
    "start_time": "2022-01-30T06:42:41.461Z"
   },
   {
    "duration": 51,
    "start_time": "2022-01-30T06:42:41.466Z"
   },
   {
    "duration": 13,
    "start_time": "2022-01-30T06:42:41.518Z"
   },
   {
    "duration": 21,
    "start_time": "2022-01-30T06:42:41.533Z"
   },
   {
    "duration": 33,
    "start_time": "2022-01-30T06:42:41.556Z"
   },
   {
    "duration": 34,
    "start_time": "2022-01-30T06:42:41.591Z"
   },
   {
    "duration": 429,
    "start_time": "2022-01-30T06:42:41.626Z"
   },
   {
    "duration": 5,
    "start_time": "2022-01-30T06:42:42.058Z"
   },
   {
    "duration": 25,
    "start_time": "2022-01-30T06:42:42.065Z"
   },
   {
    "duration": 27,
    "start_time": "2022-01-30T06:42:42.091Z"
   },
   {
    "duration": 20,
    "start_time": "2022-01-30T06:42:42.119Z"
   },
   {
    "duration": 22,
    "start_time": "2022-01-30T06:42:42.140Z"
   },
   {
    "duration": 24,
    "start_time": "2022-01-30T06:42:42.164Z"
   },
   {
    "duration": 24,
    "start_time": "2022-01-30T06:42:42.189Z"
   },
   {
    "duration": 24,
    "start_time": "2022-01-30T06:42:42.214Z"
   },
   {
    "duration": 14,
    "start_time": "2022-01-30T06:42:42.239Z"
   },
   {
    "duration": 459,
    "start_time": "2022-01-30T06:42:42.254Z"
   },
   {
    "duration": 378,
    "start_time": "2022-01-30T06:42:42.715Z"
   },
   {
    "duration": 687,
    "start_time": "2022-01-30T06:42:42.409Z"
   },
   {
    "duration": 684,
    "start_time": "2022-01-30T06:42:42.413Z"
   },
   {
    "duration": 683,
    "start_time": "2022-01-30T06:42:42.415Z"
   },
   {
    "duration": 682,
    "start_time": "2022-01-30T06:42:42.417Z"
   },
   {
    "duration": 681,
    "start_time": "2022-01-30T06:42:42.418Z"
   },
   {
    "duration": 680,
    "start_time": "2022-01-30T06:42:42.420Z"
   },
   {
    "duration": 680,
    "start_time": "2022-01-30T06:42:42.421Z"
   },
   {
    "duration": 679,
    "start_time": "2022-01-30T06:42:42.423Z"
   },
   {
    "duration": 678,
    "start_time": "2022-01-30T06:42:42.425Z"
   },
   {
    "duration": 677,
    "start_time": "2022-01-30T06:42:42.427Z"
   },
   {
    "duration": 677,
    "start_time": "2022-01-30T06:42:42.428Z"
   },
   {
    "duration": 676,
    "start_time": "2022-01-30T06:42:42.430Z"
   },
   {
    "duration": 675,
    "start_time": "2022-01-30T06:42:42.432Z"
   },
   {
    "duration": 675,
    "start_time": "2022-01-30T06:42:42.433Z"
   },
   {
    "duration": 674,
    "start_time": "2022-01-30T06:42:42.435Z"
   },
   {
    "duration": 673,
    "start_time": "2022-01-30T06:42:42.436Z"
   },
   {
    "duration": 667,
    "start_time": "2022-01-30T06:42:42.443Z"
   },
   {
    "duration": 666,
    "start_time": "2022-01-30T06:42:42.445Z"
   },
   {
    "duration": 666,
    "start_time": "2022-01-30T06:42:42.446Z"
   },
   {
    "duration": 665,
    "start_time": "2022-01-30T06:42:42.448Z"
   },
   {
    "duration": 665,
    "start_time": "2022-01-30T06:42:42.449Z"
   },
   {
    "duration": 664,
    "start_time": "2022-01-30T06:42:42.451Z"
   },
   {
    "duration": 664,
    "start_time": "2022-01-30T06:42:42.452Z"
   },
   {
    "duration": 663,
    "start_time": "2022-01-30T06:42:42.454Z"
   },
   {
    "duration": 663,
    "start_time": "2022-01-30T06:42:42.455Z"
   },
   {
    "duration": 662,
    "start_time": "2022-01-30T06:42:42.457Z"
   },
   {
    "duration": 662,
    "start_time": "2022-01-30T06:42:42.458Z"
   },
   {
    "duration": 661,
    "start_time": "2022-01-30T06:42:42.460Z"
   },
   {
    "duration": 661,
    "start_time": "2022-01-30T06:42:42.461Z"
   },
   {
    "duration": 659,
    "start_time": "2022-01-30T06:42:42.463Z"
   },
   {
    "duration": 658,
    "start_time": "2022-01-30T06:42:42.465Z"
   },
   {
    "duration": 653,
    "start_time": "2022-01-30T06:42:42.471Z"
   },
   {
    "duration": 653,
    "start_time": "2022-01-30T06:42:42.472Z"
   },
   {
    "duration": 652,
    "start_time": "2022-01-30T06:42:42.474Z"
   },
   {
    "duration": 652,
    "start_time": "2022-01-30T06:42:42.475Z"
   },
   {
    "duration": 651,
    "start_time": "2022-01-30T06:42:42.477Z"
   },
   {
    "duration": 650,
    "start_time": "2022-01-30T06:42:42.479Z"
   },
   {
    "duration": 649,
    "start_time": "2022-01-30T06:42:42.481Z"
   },
   {
    "duration": 35,
    "start_time": "2022-01-30T06:43:34.255Z"
   },
   {
    "duration": 7620,
    "start_time": "2022-01-30T06:48:50.176Z"
   },
   {
    "duration": 695,
    "start_time": "2022-01-30T06:48:57.103Z"
   },
   {
    "duration": 3,
    "start_time": "2022-01-30T06:49:09.912Z"
   },
   {
    "duration": 4,
    "start_time": "2022-01-30T06:49:09.917Z"
   },
   {
    "duration": 38,
    "start_time": "2022-01-30T06:49:09.923Z"
   },
   {
    "duration": 10,
    "start_time": "2022-01-30T06:49:09.963Z"
   },
   {
    "duration": 9,
    "start_time": "2022-01-30T06:49:09.975Z"
   },
   {
    "duration": 24,
    "start_time": "2022-01-30T06:49:09.985Z"
   },
   {
    "duration": 29,
    "start_time": "2022-01-30T06:49:10.011Z"
   },
   {
    "duration": 15,
    "start_time": "2022-01-30T06:49:10.072Z"
   },
   {
    "duration": 3,
    "start_time": "2022-01-30T06:49:10.089Z"
   },
   {
    "duration": 10,
    "start_time": "2022-01-30T06:49:10.094Z"
   },
   {
    "duration": 5,
    "start_time": "2022-01-30T06:49:10.105Z"
   },
   {
    "duration": 8,
    "start_time": "2022-01-30T06:49:10.112Z"
   },
   {
    "duration": 7,
    "start_time": "2022-01-30T06:49:10.121Z"
   },
   {
    "duration": 6,
    "start_time": "2022-01-30T06:49:10.129Z"
   },
   {
    "duration": 36,
    "start_time": "2022-01-30T06:49:10.136Z"
   },
   {
    "duration": 3,
    "start_time": "2022-01-30T06:49:10.174Z"
   },
   {
    "duration": 13,
    "start_time": "2022-01-30T06:49:10.178Z"
   },
   {
    "duration": 456,
    "start_time": "2022-01-30T06:49:10.192Z"
   },
   {
    "duration": 367,
    "start_time": "2022-01-30T06:49:10.650Z"
   },
   {
    "duration": 700,
    "start_time": "2022-01-30T06:49:10.320Z"
   },
   {
    "duration": 700,
    "start_time": "2022-01-30T06:49:10.322Z"
   },
   {
    "duration": 696,
    "start_time": "2022-01-30T06:49:10.327Z"
   },
   {
    "duration": 696,
    "start_time": "2022-01-30T06:49:10.329Z"
   },
   {
    "duration": 695,
    "start_time": "2022-01-30T06:49:10.331Z"
   },
   {
    "duration": 694,
    "start_time": "2022-01-30T06:49:10.333Z"
   },
   {
    "duration": 694,
    "start_time": "2022-01-30T06:49:10.335Z"
   },
   {
    "duration": 694,
    "start_time": "2022-01-30T06:49:10.336Z"
   },
   {
    "duration": 652,
    "start_time": "2022-01-30T06:49:10.380Z"
   },
   {
    "duration": 708,
    "start_time": "2022-01-30T06:49:10.386Z"
   },
   {
    "duration": 707,
    "start_time": "2022-01-30T06:49:10.388Z"
   },
   {
    "duration": 707,
    "start_time": "2022-01-30T06:49:10.390Z"
   },
   {
    "duration": 706,
    "start_time": "2022-01-30T06:49:10.392Z"
   },
   {
    "duration": 705,
    "start_time": "2022-01-30T06:49:10.394Z"
   },
   {
    "duration": 704,
    "start_time": "2022-01-30T06:49:10.396Z"
   },
   {
    "duration": 704,
    "start_time": "2022-01-30T06:49:10.398Z"
   },
   {
    "duration": 703,
    "start_time": "2022-01-30T06:49:10.400Z"
   },
   {
    "duration": 703,
    "start_time": "2022-01-30T06:49:10.401Z"
   },
   {
    "duration": 698,
    "start_time": "2022-01-30T06:49:10.407Z"
   },
   {
    "duration": 698,
    "start_time": "2022-01-30T06:49:10.409Z"
   },
   {
    "duration": 696,
    "start_time": "2022-01-30T06:49:10.412Z"
   },
   {
    "duration": 697,
    "start_time": "2022-01-30T06:49:10.413Z"
   },
   {
    "duration": 696,
    "start_time": "2022-01-30T06:49:10.415Z"
   },
   {
    "duration": 692,
    "start_time": "2022-01-30T06:49:10.420Z"
   },
   {
    "duration": 691,
    "start_time": "2022-01-30T06:49:10.423Z"
   },
   {
    "duration": 691,
    "start_time": "2022-01-30T06:49:10.424Z"
   },
   {
    "duration": 690,
    "start_time": "2022-01-30T06:49:10.426Z"
   },
   {
    "duration": 690,
    "start_time": "2022-01-30T06:49:10.428Z"
   },
   {
    "duration": 665,
    "start_time": "2022-01-30T06:49:10.454Z"
   },
   {
    "duration": 661,
    "start_time": "2022-01-30T06:49:10.459Z"
   },
   {
    "duration": 659,
    "start_time": "2022-01-30T06:49:10.462Z"
   },
   {
    "duration": 659,
    "start_time": "2022-01-30T06:49:10.464Z"
   },
   {
    "duration": 658,
    "start_time": "2022-01-30T06:49:10.466Z"
   },
   {
    "duration": 658,
    "start_time": "2022-01-30T06:49:10.467Z"
   },
   {
    "duration": 698,
    "start_time": "2022-01-30T06:49:10.473Z"
   },
   {
    "duration": 697,
    "start_time": "2022-01-30T06:49:10.475Z"
   },
   {
    "duration": 697,
    "start_time": "2022-01-30T06:49:10.477Z"
   },
   {
    "duration": 696,
    "start_time": "2022-01-30T06:49:10.479Z"
   },
   {
    "duration": 4,
    "start_time": "2022-01-30T06:49:56.038Z"
   },
   {
    "duration": 10,
    "start_time": "2022-01-30T06:49:57.276Z"
   },
   {
    "duration": 6,
    "start_time": "2022-01-30T06:51:42.799Z"
   },
   {
    "duration": 3,
    "start_time": "2022-01-30T06:55:12.588Z"
   },
   {
    "duration": 11,
    "start_time": "2022-01-30T06:55:12.592Z"
   },
   {
    "duration": 39,
    "start_time": "2022-01-30T06:55:12.604Z"
   },
   {
    "duration": 29,
    "start_time": "2022-01-30T06:55:12.645Z"
   },
   {
    "duration": 12,
    "start_time": "2022-01-30T06:55:12.676Z"
   },
   {
    "duration": 24,
    "start_time": "2022-01-30T06:55:12.690Z"
   },
   {
    "duration": 30,
    "start_time": "2022-01-30T06:55:12.716Z"
   },
   {
    "duration": 37,
    "start_time": "2022-01-30T06:55:12.747Z"
   },
   {
    "duration": 5,
    "start_time": "2022-01-30T06:55:12.786Z"
   },
   {
    "duration": 9,
    "start_time": "2022-01-30T06:55:12.794Z"
   },
   {
    "duration": 4,
    "start_time": "2022-01-30T06:55:12.805Z"
   },
   {
    "duration": 15,
    "start_time": "2022-01-30T06:55:12.811Z"
   },
   {
    "duration": 10,
    "start_time": "2022-01-30T06:55:12.828Z"
   },
   {
    "duration": 34,
    "start_time": "2022-01-30T06:55:12.839Z"
   },
   {
    "duration": 6,
    "start_time": "2022-01-30T06:55:12.875Z"
   },
   {
    "duration": 13,
    "start_time": "2022-01-30T06:55:12.882Z"
   },
   {
    "duration": 466,
    "start_time": "2022-01-30T06:55:12.897Z"
   },
   {
    "duration": 324,
    "start_time": "2022-01-30T06:55:13.365Z"
   },
   {
    "duration": 705,
    "start_time": "2022-01-30T06:55:12.986Z"
   },
   {
    "duration": 704,
    "start_time": "2022-01-30T06:55:12.988Z"
   },
   {
    "duration": 703,
    "start_time": "2022-01-30T06:55:12.990Z"
   },
   {
    "duration": 702,
    "start_time": "2022-01-30T06:55:12.992Z"
   },
   {
    "duration": 701,
    "start_time": "2022-01-30T06:55:12.994Z"
   },
   {
    "duration": 700,
    "start_time": "2022-01-30T06:55:12.996Z"
   },
   {
    "duration": 699,
    "start_time": "2022-01-30T06:55:12.998Z"
   },
   {
    "duration": 698,
    "start_time": "2022-01-30T06:55:13.000Z"
   },
   {
    "duration": 697,
    "start_time": "2022-01-30T06:55:13.002Z"
   },
   {
    "duration": 696,
    "start_time": "2022-01-30T06:55:13.003Z"
   },
   {
    "duration": 695,
    "start_time": "2022-01-30T06:55:13.005Z"
   },
   {
    "duration": 694,
    "start_time": "2022-01-30T06:55:13.007Z"
   },
   {
    "duration": 693,
    "start_time": "2022-01-30T06:55:13.009Z"
   },
   {
    "duration": 693,
    "start_time": "2022-01-30T06:55:13.010Z"
   },
   {
    "duration": 687,
    "start_time": "2022-01-30T06:55:13.017Z"
   },
   {
    "duration": 686,
    "start_time": "2022-01-30T06:55:13.019Z"
   },
   {
    "duration": 684,
    "start_time": "2022-01-30T06:55:13.021Z"
   },
   {
    "duration": 684,
    "start_time": "2022-01-30T06:55:13.022Z"
   },
   {
    "duration": 683,
    "start_time": "2022-01-30T06:55:13.024Z"
   },
   {
    "duration": 682,
    "start_time": "2022-01-30T06:55:13.026Z"
   },
   {
    "duration": 682,
    "start_time": "2022-01-30T06:55:13.027Z"
   },
   {
    "duration": 681,
    "start_time": "2022-01-30T06:55:13.029Z"
   },
   {
    "duration": 681,
    "start_time": "2022-01-30T06:55:13.030Z"
   },
   {
    "duration": 680,
    "start_time": "2022-01-30T06:55:13.032Z"
   },
   {
    "duration": 679,
    "start_time": "2022-01-30T06:55:13.033Z"
   },
   {
    "duration": 678,
    "start_time": "2022-01-30T06:55:13.035Z"
   },
   {
    "duration": 677,
    "start_time": "2022-01-30T06:55:13.037Z"
   },
   {
    "duration": 677,
    "start_time": "2022-01-30T06:55:13.038Z"
   },
   {
    "duration": 676,
    "start_time": "2022-01-30T06:55:13.040Z"
   },
   {
    "duration": 675,
    "start_time": "2022-01-30T06:55:13.042Z"
   },
   {
    "duration": 675,
    "start_time": "2022-01-30T06:55:13.043Z"
   },
   {
    "duration": 674,
    "start_time": "2022-01-30T06:55:13.045Z"
   },
   {
    "duration": 667,
    "start_time": "2022-01-30T06:55:13.052Z"
   },
   {
    "duration": 666,
    "start_time": "2022-01-30T06:55:13.054Z"
   },
   {
    "duration": 666,
    "start_time": "2022-01-30T06:55:13.055Z"
   },
   {
    "duration": 665,
    "start_time": "2022-01-30T06:55:13.057Z"
   },
   {
    "duration": 664,
    "start_time": "2022-01-30T06:55:13.059Z"
   },
   {
    "duration": 663,
    "start_time": "2022-01-30T06:55:13.061Z"
   },
   {
    "duration": 309,
    "start_time": "2022-01-30T06:59:10.487Z"
   },
   {
    "duration": 723,
    "start_time": "2022-01-30T06:59:10.075Z"
   },
   {
    "duration": 307,
    "start_time": "2022-01-30T06:59:36.560Z"
   },
   {
    "duration": 16,
    "start_time": "2022-01-30T06:59:57.952Z"
   },
   {
    "duration": 356,
    "start_time": "2022-01-30T07:00:46.698Z"
   },
   {
    "duration": 12,
    "start_time": "2022-01-30T07:01:07.364Z"
   },
   {
    "duration": 4,
    "start_time": "2022-01-30T07:01:10.154Z"
   },
   {
    "duration": 6,
    "start_time": "2022-01-30T07:01:11.627Z"
   },
   {
    "duration": 1642,
    "start_time": "2022-01-30T07:01:13.666Z"
   },
   {
    "duration": 13,
    "start_time": "2022-01-30T07:05:21.367Z"
   },
   {
    "duration": 4,
    "start_time": "2022-01-30T07:05:22.463Z"
   },
   {
    "duration": 7,
    "start_time": "2022-01-30T07:05:23.318Z"
   },
   {
    "duration": 6,
    "start_time": "2022-01-30T07:05:32.207Z"
   },
   {
    "duration": 7,
    "start_time": "2022-01-30T07:05:42.289Z"
   },
   {
    "duration": 916,
    "start_time": "2022-01-30T07:05:46.432Z"
   },
   {
    "duration": 7,
    "start_time": "2022-01-30T07:06:06.823Z"
   },
   {
    "duration": 7,
    "start_time": "2022-01-30T07:06:19.880Z"
   },
   {
    "duration": 16,
    "start_time": "2022-01-30T07:06:46.640Z"
   },
   {
    "duration": 13,
    "start_time": "2022-01-30T07:06:50.336Z"
   },
   {
    "duration": 5,
    "start_time": "2022-01-30T07:06:51.208Z"
   },
   {
    "duration": 10,
    "start_time": "2022-01-30T07:06:52.060Z"
   },
   {
    "duration": 1278,
    "start_time": "2022-01-30T07:06:55.058Z"
   },
   {
    "duration": 8,
    "start_time": "2022-01-30T07:07:23.816Z"
   },
   {
    "duration": 4,
    "start_time": "2022-01-30T07:08:36.920Z"
   },
   {
    "duration": 334,
    "start_time": "2022-01-30T07:09:29.076Z"
   },
   {
    "duration": 13,
    "start_time": "2022-01-30T07:10:09.335Z"
   },
   {
    "duration": 5,
    "start_time": "2022-01-30T07:10:11.062Z"
   },
   {
    "duration": 6,
    "start_time": "2022-01-30T07:10:21.628Z"
   },
   {
    "duration": 14,
    "start_time": "2022-01-30T07:11:46.224Z"
   },
   {
    "duration": 15,
    "start_time": "2022-01-30T07:12:18.744Z"
   },
   {
    "duration": 14,
    "start_time": "2022-01-30T07:12:27.665Z"
   },
   {
    "duration": 12,
    "start_time": "2022-01-30T07:12:38.888Z"
   },
   {
    "duration": 5,
    "start_time": "2022-01-30T07:12:40.151Z"
   },
   {
    "duration": 491,
    "start_time": "2022-01-30T07:12:41.207Z"
   },
   {
    "duration": 24,
    "start_time": "2022-01-30T07:13:59.009Z"
   },
   {
    "duration": 16,
    "start_time": "2022-01-30T07:25:05.008Z"
   },
   {
    "duration": 584,
    "start_time": "2022-01-30T07:25:11.382Z"
   },
   {
    "duration": 436,
    "start_time": "2022-01-30T07:28:58.421Z"
   },
   {
    "duration": 430,
    "start_time": "2022-01-30T07:29:58.127Z"
   },
   {
    "duration": 417,
    "start_time": "2022-01-30T07:31:16.517Z"
   },
   {
    "duration": 11,
    "start_time": "2022-01-30T07:35:38.606Z"
   },
   {
    "duration": 6,
    "start_time": "2022-01-30T07:35:41.378Z"
   },
   {
    "duration": 8,
    "start_time": "2022-01-30T07:39:06.494Z"
   },
   {
    "duration": 7,
    "start_time": "2022-01-30T07:39:07.289Z"
   },
   {
    "duration": 3,
    "start_time": "2022-01-30T07:47:42.148Z"
   },
   {
    "duration": 4,
    "start_time": "2022-01-30T07:47:42.153Z"
   },
   {
    "duration": 38,
    "start_time": "2022-01-30T07:47:42.159Z"
   },
   {
    "duration": 10,
    "start_time": "2022-01-30T07:47:42.198Z"
   },
   {
    "duration": 10,
    "start_time": "2022-01-30T07:47:42.210Z"
   },
   {
    "duration": 23,
    "start_time": "2022-01-30T07:47:42.222Z"
   },
   {
    "duration": 31,
    "start_time": "2022-01-30T07:47:42.272Z"
   },
   {
    "duration": 15,
    "start_time": "2022-01-30T07:47:42.305Z"
   },
   {
    "duration": 4,
    "start_time": "2022-01-30T07:47:42.321Z"
   },
   {
    "duration": 10,
    "start_time": "2022-01-30T07:47:42.326Z"
   },
   {
    "duration": 4,
    "start_time": "2022-01-30T07:47:42.338Z"
   },
   {
    "duration": 9,
    "start_time": "2022-01-30T07:47:42.372Z"
   },
   {
    "duration": 8,
    "start_time": "2022-01-30T07:47:42.382Z"
   },
   {
    "duration": 10,
    "start_time": "2022-01-30T07:47:42.392Z"
   },
   {
    "duration": 5,
    "start_time": "2022-01-30T07:47:42.404Z"
   },
   {
    "duration": 14,
    "start_time": "2022-01-30T07:47:42.411Z"
   },
   {
    "duration": 469,
    "start_time": "2022-01-30T07:47:42.426Z"
   },
   {
    "duration": 16,
    "start_time": "2022-01-30T07:47:42.899Z"
   },
   {
    "duration": 13,
    "start_time": "2022-01-30T07:47:42.918Z"
   },
   {
    "duration": 4,
    "start_time": "2022-01-30T07:47:42.932Z"
   },
   {
    "duration": 34,
    "start_time": "2022-01-30T07:47:42.938Z"
   },
   {
    "duration": 1364,
    "start_time": "2022-01-30T07:47:42.973Z"
   },
   {
    "duration": 15,
    "start_time": "2022-01-30T07:47:44.339Z"
   },
   {
    "duration": 17,
    "start_time": "2022-01-30T07:47:44.355Z"
   },
   {
    "duration": 16,
    "start_time": "2022-01-30T07:47:44.374Z"
   },
   {
    "duration": 12,
    "start_time": "2022-01-30T07:47:44.392Z"
   },
   {
    "duration": 4,
    "start_time": "2022-01-30T07:47:44.406Z"
   },
   {
    "duration": 514,
    "start_time": "2022-01-30T07:47:44.412Z"
   },
   {
    "duration": 23,
    "start_time": "2022-01-30T07:47:44.928Z"
   },
   {
    "duration": 30,
    "start_time": "2022-01-30T07:47:44.953Z"
   },
   {
    "duration": 440,
    "start_time": "2022-01-30T07:47:44.984Z"
   },
   {
    "duration": 445,
    "start_time": "2022-01-30T07:47:45.426Z"
   },
   {
    "duration": 10,
    "start_time": "2022-01-30T07:47:45.873Z"
   },
   {
    "duration": 9,
    "start_time": "2022-01-30T07:47:45.884Z"
   },
   {
    "duration": 6,
    "start_time": "2022-01-30T07:47:45.895Z"
   },
   {
    "duration": 6,
    "start_time": "2022-01-30T07:47:45.903Z"
   },
   {
    "duration": 9,
    "start_time": "2022-01-30T07:47:45.911Z"
   },
   {
    "duration": 9,
    "start_time": "2022-01-30T07:47:45.921Z"
   },
   {
    "duration": 40,
    "start_time": "2022-01-30T07:47:45.932Z"
   },
   {
    "duration": 540,
    "start_time": "2022-01-30T07:47:45.973Z"
   },
   {
    "duration": 9,
    "start_time": "2022-01-30T07:47:46.515Z"
   },
   {
    "duration": 8,
    "start_time": "2022-01-30T07:47:46.526Z"
   },
   {
    "duration": 9,
    "start_time": "2022-01-30T07:47:46.535Z"
   },
   {
    "duration": 655,
    "start_time": "2022-01-30T07:47:46.545Z"
   },
   {
    "duration": 14,
    "start_time": "2022-01-30T07:47:47.202Z"
   },
   {
    "duration": 9,
    "start_time": "2022-01-30T07:47:47.217Z"
   },
   {
    "duration": 4,
    "start_time": "2022-01-30T07:47:47.227Z"
   },
   {
    "duration": 5,
    "start_time": "2022-01-30T07:47:47.233Z"
   },
   {
    "duration": 4,
    "start_time": "2022-01-30T07:47:47.239Z"
   },
   {
    "duration": 38,
    "start_time": "2022-01-30T07:47:47.245Z"
   },
   {
    "duration": 8,
    "start_time": "2022-01-30T07:47:47.287Z"
   },
   {
    "duration": 7,
    "start_time": "2022-01-30T07:47:47.297Z"
   },
   {
    "duration": 21,
    "start_time": "2022-01-30T07:47:47.305Z"
   },
   {
    "duration": 16,
    "start_time": "2022-01-30T07:47:47.328Z"
   },
   {
    "duration": 7,
    "start_time": "2022-01-30T07:47:47.346Z"
   },
   {
    "duration": 94,
    "start_time": "2022-01-30T07:57:07.629Z"
   },
   {
    "duration": 11,
    "start_time": "2022-01-30T07:57:15.452Z"
   },
   {
    "duration": 11,
    "start_time": "2022-01-30T07:57:18.149Z"
   },
   {
    "duration": 12,
    "start_time": "2022-01-30T07:57:18.709Z"
   },
   {
    "duration": 535,
    "start_time": "2022-01-30T07:57:18.741Z"
   },
   {
    "duration": 10,
    "start_time": "2022-01-30T07:57:49.360Z"
   },
   {
    "duration": 11,
    "start_time": "2022-01-30T07:57:49.898Z"
   },
   {
    "duration": 9,
    "start_time": "2022-01-30T07:57:50.416Z"
   },
   {
    "duration": 9,
    "start_time": "2022-01-30T08:10:31.989Z"
   },
   {
    "duration": 5,
    "start_time": "2022-01-30T08:10:32.944Z"
   },
   {
    "duration": 5,
    "start_time": "2022-01-30T08:12:00.303Z"
   },
   {
    "duration": 4,
    "start_time": "2022-01-30T08:12:04.335Z"
   },
   {
    "duration": 15,
    "start_time": "2022-01-30T08:12:19.583Z"
   },
   {
    "duration": 8,
    "start_time": "2022-01-30T08:14:38.267Z"
   },
   {
    "duration": 9,
    "start_time": "2022-01-30T08:16:21.590Z"
   },
   {
    "duration": 5,
    "start_time": "2022-01-30T08:16:22.164Z"
   },
   {
    "duration": 5,
    "start_time": "2022-01-30T08:16:50.564Z"
   },
   {
    "duration": 9,
    "start_time": "2022-01-30T08:16:51.696Z"
   },
   {
    "duration": 7,
    "start_time": "2022-01-30T08:16:52.412Z"
   },
   {
    "duration": 101,
    "start_time": "2022-01-30T08:21:04.247Z"
   },
   {
    "duration": 2,
    "start_time": "2022-01-30T08:21:40.252Z"
   },
   {
    "duration": 99,
    "start_time": "2022-01-30T08:27:45.658Z"
   },
   {
    "duration": 3,
    "start_time": "2022-01-30T08:30:56.435Z"
   },
   {
    "duration": 5,
    "start_time": "2022-01-30T08:30:56.440Z"
   },
   {
    "duration": 39,
    "start_time": "2022-01-30T08:30:56.447Z"
   },
   {
    "duration": 11,
    "start_time": "2022-01-30T08:30:56.487Z"
   },
   {
    "duration": 11,
    "start_time": "2022-01-30T08:30:56.499Z"
   },
   {
    "duration": 24,
    "start_time": "2022-01-30T08:30:56.511Z"
   },
   {
    "duration": 73,
    "start_time": "2022-01-30T08:30:56.536Z"
   },
   {
    "duration": 18,
    "start_time": "2022-01-30T08:30:56.611Z"
   },
   {
    "duration": 4,
    "start_time": "2022-01-30T08:30:56.632Z"
   },
   {
    "duration": 35,
    "start_time": "2022-01-30T08:30:56.638Z"
   },
   {
    "duration": 4,
    "start_time": "2022-01-30T08:30:56.674Z"
   },
   {
    "duration": 11,
    "start_time": "2022-01-30T08:30:56.679Z"
   },
   {
    "duration": 6,
    "start_time": "2022-01-30T08:30:56.692Z"
   },
   {
    "duration": 9,
    "start_time": "2022-01-30T08:30:56.699Z"
   },
   {
    "duration": 3,
    "start_time": "2022-01-30T08:30:56.710Z"
   },
   {
    "duration": 13,
    "start_time": "2022-01-30T08:30:56.715Z"
   },
   {
    "duration": 473,
    "start_time": "2022-01-30T08:30:56.729Z"
   },
   {
    "duration": 15,
    "start_time": "2022-01-30T08:30:57.204Z"
   },
   {
    "duration": 13,
    "start_time": "2022-01-30T08:30:57.220Z"
   },
   {
    "duration": 4,
    "start_time": "2022-01-30T08:30:57.234Z"
   },
   {
    "duration": 8,
    "start_time": "2022-01-30T08:30:57.239Z"
   },
   {
    "duration": 1526,
    "start_time": "2022-01-30T08:30:57.248Z"
   },
   {
    "duration": 13,
    "start_time": "2022-01-30T08:30:58.776Z"
   },
   {
    "duration": 5,
    "start_time": "2022-01-30T08:30:58.791Z"
   },
   {
    "duration": 13,
    "start_time": "2022-01-30T08:30:58.797Z"
   },
   {
    "duration": 11,
    "start_time": "2022-01-30T08:30:58.811Z"
   },
   {
    "duration": 3,
    "start_time": "2022-01-30T08:30:58.826Z"
   },
   {
    "duration": 512,
    "start_time": "2022-01-30T08:30:58.831Z"
   },
   {
    "duration": 37,
    "start_time": "2022-01-30T08:30:59.345Z"
   },
   {
    "duration": 16,
    "start_time": "2022-01-30T08:30:59.384Z"
   },
   {
    "duration": 477,
    "start_time": "2022-01-30T08:30:59.402Z"
   },
   {
    "duration": 460,
    "start_time": "2022-01-30T08:30:59.881Z"
   },
   {
    "duration": 11,
    "start_time": "2022-01-30T08:31:00.343Z"
   },
   {
    "duration": 19,
    "start_time": "2022-01-30T08:31:00.355Z"
   },
   {
    "duration": 16,
    "start_time": "2022-01-30T08:31:00.376Z"
   },
   {
    "duration": 10,
    "start_time": "2022-01-30T08:31:00.394Z"
   },
   {
    "duration": 19,
    "start_time": "2022-01-30T08:31:00.406Z"
   },
   {
    "duration": 16,
    "start_time": "2022-01-30T08:31:00.427Z"
   },
   {
    "duration": 21,
    "start_time": "2022-01-30T08:31:00.445Z"
   },
   {
    "duration": 539,
    "start_time": "2022-01-30T08:31:00.468Z"
   },
   {
    "duration": 103,
    "start_time": "2022-01-30T08:31:01.009Z"
   },
   {
    "duration": 801,
    "start_time": "2022-01-30T08:31:00.313Z"
   },
   {
    "duration": 800,
    "start_time": "2022-01-30T08:31:00.315Z"
   },
   {
    "duration": 799,
    "start_time": "2022-01-30T08:31:00.317Z"
   },
   {
    "duration": 798,
    "start_time": "2022-01-30T08:31:00.319Z"
   },
   {
    "duration": 798,
    "start_time": "2022-01-30T08:31:00.320Z"
   },
   {
    "duration": 797,
    "start_time": "2022-01-30T08:31:00.322Z"
   },
   {
    "duration": 796,
    "start_time": "2022-01-30T08:31:00.324Z"
   },
   {
    "duration": 792,
    "start_time": "2022-01-30T08:31:00.330Z"
   },
   {
    "duration": 791,
    "start_time": "2022-01-30T08:31:00.332Z"
   },
   {
    "duration": 790,
    "start_time": "2022-01-30T08:31:00.334Z"
   },
   {
    "duration": 791,
    "start_time": "2022-01-30T08:31:00.335Z"
   },
   {
    "duration": 789,
    "start_time": "2022-01-30T08:31:00.338Z"
   },
   {
    "duration": 789,
    "start_time": "2022-01-30T08:31:00.339Z"
   },
   {
    "duration": 788,
    "start_time": "2022-01-30T08:31:00.341Z"
   },
   {
    "duration": 1451,
    "start_time": "2022-01-30T14:40:35.767Z"
   },
   {
    "duration": 4,
    "start_time": "2022-01-30T14:40:37.220Z"
   },
   {
    "duration": 55,
    "start_time": "2022-01-30T14:40:37.227Z"
   },
   {
    "duration": 22,
    "start_time": "2022-01-30T14:40:37.284Z"
   },
   {
    "duration": 28,
    "start_time": "2022-01-30T14:40:37.308Z"
   },
   {
    "duration": 39,
    "start_time": "2022-01-30T14:40:37.338Z"
   },
   {
    "duration": 74,
    "start_time": "2022-01-30T14:40:37.379Z"
   },
   {
    "duration": 723,
    "start_time": "2022-01-30T14:40:37.456Z"
   },
   {
    "duration": 8,
    "start_time": "2022-01-30T14:40:38.184Z"
   },
   {
    "duration": 43,
    "start_time": "2022-01-30T14:40:38.195Z"
   },
   {
    "duration": 8,
    "start_time": "2022-01-30T14:40:38.241Z"
   },
   {
    "duration": 17,
    "start_time": "2022-01-30T14:40:38.252Z"
   },
   {
    "duration": 15,
    "start_time": "2022-01-30T14:40:38.272Z"
   },
   {
    "duration": 55,
    "start_time": "2022-01-30T14:40:38.290Z"
   },
   {
    "duration": 8,
    "start_time": "2022-01-30T14:40:38.347Z"
   },
   {
    "duration": 17,
    "start_time": "2022-01-30T14:40:38.357Z"
   },
   {
    "duration": 850,
    "start_time": "2022-01-30T14:40:38.376Z"
   },
   {
    "duration": 27,
    "start_time": "2022-01-30T14:40:39.232Z"
   },
   {
    "duration": 24,
    "start_time": "2022-01-30T14:40:39.262Z"
   },
   {
    "duration": 7,
    "start_time": "2022-01-30T14:40:39.288Z"
   },
   {
    "duration": 12,
    "start_time": "2022-01-30T14:40:39.333Z"
   },
   {
    "duration": 2688,
    "start_time": "2022-01-30T14:40:39.348Z"
   },
   {
    "duration": 28,
    "start_time": "2022-01-30T14:40:42.044Z"
   },
   {
    "duration": 10,
    "start_time": "2022-01-30T14:40:42.076Z"
   },
   {
    "duration": 62,
    "start_time": "2022-01-30T14:40:42.089Z"
   },
   {
    "duration": 27,
    "start_time": "2022-01-30T14:40:42.154Z"
   },
   {
    "duration": 7,
    "start_time": "2022-01-30T14:40:42.184Z"
   },
   {
    "duration": 985,
    "start_time": "2022-01-30T14:40:42.194Z"
   },
   {
    "duration": 57,
    "start_time": "2022-01-30T14:40:43.181Z"
   },
   {
    "duration": 25,
    "start_time": "2022-01-30T14:40:43.240Z"
   },
   {
    "duration": 820,
    "start_time": "2022-01-30T14:40:43.267Z"
   },
   {
    "duration": 746,
    "start_time": "2022-01-30T14:40:44.089Z"
   },
   {
    "duration": 16,
    "start_time": "2022-01-30T14:40:44.837Z"
   },
   {
    "duration": 10,
    "start_time": "2022-01-30T14:40:44.855Z"
   },
   {
    "duration": 11,
    "start_time": "2022-01-30T14:40:44.868Z"
   },
   {
    "duration": 11,
    "start_time": "2022-01-30T14:40:44.881Z"
   },
   {
    "duration": 49,
    "start_time": "2022-01-30T14:40:44.894Z"
   },
   {
    "duration": 16,
    "start_time": "2022-01-30T14:40:44.945Z"
   },
   {
    "duration": 15,
    "start_time": "2022-01-30T14:40:44.963Z"
   },
   {
    "duration": 1206,
    "start_time": "2022-01-30T14:40:44.980Z"
   },
   {
    "duration": 17,
    "start_time": "2022-01-30T14:40:46.188Z"
   },
   {
    "duration": 32,
    "start_time": "2022-01-30T14:40:46.207Z"
   },
   {
    "duration": 15,
    "start_time": "2022-01-30T14:40:46.242Z"
   },
   {
    "duration": 1023,
    "start_time": "2022-01-30T14:40:46.259Z"
   },
   {
    "duration": 25,
    "start_time": "2022-01-30T14:40:47.284Z"
   },
   {
    "duration": 27,
    "start_time": "2022-01-30T14:40:47.312Z"
   },
   {
    "duration": 9,
    "start_time": "2022-01-30T14:40:47.342Z"
   },
   {
    "duration": 10,
    "start_time": "2022-01-30T14:40:47.353Z"
   },
   {
    "duration": 36,
    "start_time": "2022-01-30T14:40:47.366Z"
   },
   {
    "duration": 40,
    "start_time": "2022-01-30T14:40:47.405Z"
   },
   {
    "duration": 10,
    "start_time": "2022-01-30T14:40:47.448Z"
   },
   {
    "duration": 15,
    "start_time": "2022-01-30T14:40:47.461Z"
   },
   {
    "duration": 54,
    "start_time": "2022-01-30T14:40:47.479Z"
   },
   {
    "duration": 12,
    "start_time": "2022-01-30T14:40:47.536Z"
   },
   {
    "duration": 11,
    "start_time": "2022-01-30T14:54:15.135Z"
   },
   {
    "duration": 51,
    "start_time": "2022-01-30T14:57:59.203Z"
   },
   {
    "duration": 1153,
    "start_time": "2022-02-08T12:28:03.205Z"
   },
   {
    "duration": 3,
    "start_time": "2022-02-08T12:28:04.359Z"
   },
   {
    "duration": 38,
    "start_time": "2022-02-08T12:28:04.364Z"
   },
   {
    "duration": 28,
    "start_time": "2022-02-08T12:28:04.404Z"
   },
   {
    "duration": 10,
    "start_time": "2022-02-08T12:28:04.434Z"
   },
   {
    "duration": 26,
    "start_time": "2022-02-08T12:28:04.446Z"
   },
   {
    "duration": 61,
    "start_time": "2022-02-08T12:28:04.474Z"
   },
   {
    "duration": 314,
    "start_time": "2022-02-08T12:28:04.537Z"
   },
   {
    "duration": 7,
    "start_time": "2022-02-08T12:28:04.854Z"
   },
   {
    "duration": 12,
    "start_time": "2022-02-08T12:28:04.863Z"
   },
   {
    "duration": 10,
    "start_time": "2022-02-08T12:28:04.877Z"
   },
   {
    "duration": 29,
    "start_time": "2022-02-08T12:28:04.889Z"
   },
   {
    "duration": 13,
    "start_time": "2022-02-08T12:28:04.920Z"
   },
   {
    "duration": 9,
    "start_time": "2022-02-08T12:28:04.935Z"
   },
   {
    "duration": 7,
    "start_time": "2022-02-08T12:28:04.946Z"
   },
   {
    "duration": 11,
    "start_time": "2022-02-08T12:28:04.954Z"
   },
   {
    "duration": 597,
    "start_time": "2022-02-08T12:28:04.967Z"
   },
   {
    "duration": 21,
    "start_time": "2022-02-08T12:28:05.567Z"
   },
   {
    "duration": 39,
    "start_time": "2022-02-08T12:28:05.590Z"
   },
   {
    "duration": 4,
    "start_time": "2022-02-08T12:28:05.631Z"
   },
   {
    "duration": 9,
    "start_time": "2022-02-08T12:28:05.637Z"
   },
   {
    "duration": 1804,
    "start_time": "2022-02-08T12:28:05.648Z"
   },
   {
    "duration": 14,
    "start_time": "2022-02-08T12:28:07.456Z"
   },
   {
    "duration": 6,
    "start_time": "2022-02-08T12:28:07.472Z"
   },
   {
    "duration": 40,
    "start_time": "2022-02-08T12:28:07.480Z"
   },
   {
    "duration": 15,
    "start_time": "2022-02-08T12:28:07.522Z"
   },
   {
    "duration": 4,
    "start_time": "2022-02-08T12:28:07.538Z"
   },
   {
    "duration": 643,
    "start_time": "2022-02-08T12:28:07.543Z"
   },
   {
    "duration": 36,
    "start_time": "2022-02-08T12:28:08.188Z"
   },
   {
    "duration": 18,
    "start_time": "2022-02-08T12:28:08.226Z"
   },
   {
    "duration": 597,
    "start_time": "2022-02-08T12:28:08.245Z"
   },
   {
    "duration": 507,
    "start_time": "2022-02-08T12:28:08.843Z"
   },
   {
    "duration": 11,
    "start_time": "2022-02-08T12:28:09.352Z"
   },
   {
    "duration": 6,
    "start_time": "2022-02-08T12:28:09.364Z"
   },
   {
    "duration": 9,
    "start_time": "2022-02-08T12:28:09.371Z"
   },
   {
    "duration": 31,
    "start_time": "2022-02-08T12:28:09.381Z"
   },
   {
    "duration": 15,
    "start_time": "2022-02-08T12:28:09.415Z"
   },
   {
    "duration": 11,
    "start_time": "2022-02-08T12:28:09.432Z"
   },
   {
    "duration": 11,
    "start_time": "2022-02-08T12:28:09.445Z"
   },
   {
    "duration": 780,
    "start_time": "2022-02-08T12:28:09.458Z"
   },
   {
    "duration": 12,
    "start_time": "2022-02-08T12:28:10.239Z"
   },
   {
    "duration": 11,
    "start_time": "2022-02-08T12:28:10.252Z"
   },
   {
    "duration": 11,
    "start_time": "2022-02-08T12:28:10.264Z"
   },
   {
    "duration": 699,
    "start_time": "2022-02-08T12:28:10.276Z"
   },
   {
    "duration": 16,
    "start_time": "2022-02-08T12:28:10.977Z"
   },
   {
    "duration": 26,
    "start_time": "2022-02-08T12:28:10.995Z"
   },
   {
    "duration": 9,
    "start_time": "2022-02-08T12:28:11.022Z"
   },
   {
    "duration": 8,
    "start_time": "2022-02-08T12:28:11.033Z"
   },
   {
    "duration": 17,
    "start_time": "2022-02-08T12:28:11.043Z"
   },
   {
    "duration": 9,
    "start_time": "2022-02-08T12:28:11.062Z"
   },
   {
    "duration": 41,
    "start_time": "2022-02-08T12:28:11.073Z"
   },
   {
    "duration": 7,
    "start_time": "2022-02-08T12:28:11.116Z"
   },
   {
    "duration": 14,
    "start_time": "2022-02-08T12:28:11.125Z"
   },
   {
    "duration": 6,
    "start_time": "2022-02-08T12:28:11.141Z"
   },
   {
    "duration": 64,
    "start_time": "2022-02-08T12:47:47.444Z"
   },
   {
    "duration": 19,
    "start_time": "2022-02-08T12:48:15.767Z"
   },
   {
    "duration": 18,
    "start_time": "2022-02-08T12:48:37.942Z"
   },
   {
    "duration": 3,
    "start_time": "2022-02-08T12:49:55.355Z"
   },
   {
    "duration": 5,
    "start_time": "2022-02-08T12:49:55.360Z"
   },
   {
    "duration": 39,
    "start_time": "2022-02-08T12:49:55.368Z"
   },
   {
    "duration": 13,
    "start_time": "2022-02-08T12:49:55.409Z"
   },
   {
    "duration": 15,
    "start_time": "2022-02-08T12:49:55.423Z"
   },
   {
    "duration": 31,
    "start_time": "2022-02-08T12:49:55.440Z"
   },
   {
    "duration": 67,
    "start_time": "2022-02-08T12:49:55.473Z"
   },
   {
    "duration": 15,
    "start_time": "2022-02-08T12:49:55.543Z"
   },
   {
    "duration": 16,
    "start_time": "2022-02-08T12:49:55.560Z"
   },
   {
    "duration": 35,
    "start_time": "2022-02-08T12:49:55.578Z"
   },
   {
    "duration": 6198,
    "start_time": "2022-02-08T12:49:55.615Z"
   },
   {
    "duration": 413,
    "start_time": "2022-02-08T12:50:01.404Z"
   },
   {
    "duration": 411,
    "start_time": "2022-02-08T12:50:01.407Z"
   },
   {
    "duration": 408,
    "start_time": "2022-02-08T12:50:01.410Z"
   },
   {
    "duration": 407,
    "start_time": "2022-02-08T12:50:01.413Z"
   },
   {
    "duration": 404,
    "start_time": "2022-02-08T12:50:01.417Z"
   },
   {
    "duration": 401,
    "start_time": "2022-02-08T12:50:01.420Z"
   },
   {
    "duration": 399,
    "start_time": "2022-02-08T12:50:01.423Z"
   },
   {
    "duration": 397,
    "start_time": "2022-02-08T12:50:01.426Z"
   },
   {
    "duration": 396,
    "start_time": "2022-02-08T12:50:01.428Z"
   },
   {
    "duration": 395,
    "start_time": "2022-02-08T12:50:01.430Z"
   },
   {
    "duration": 394,
    "start_time": "2022-02-08T12:50:01.432Z"
   },
   {
    "duration": 393,
    "start_time": "2022-02-08T12:50:01.434Z"
   },
   {
    "duration": 392,
    "start_time": "2022-02-08T12:50:01.436Z"
   },
   {
    "duration": 389,
    "start_time": "2022-02-08T12:50:01.439Z"
   },
   {
    "duration": 388,
    "start_time": "2022-02-08T12:50:01.441Z"
   },
   {
    "duration": 386,
    "start_time": "2022-02-08T12:50:01.444Z"
   },
   {
    "duration": 385,
    "start_time": "2022-02-08T12:50:01.446Z"
   },
   {
    "duration": 383,
    "start_time": "2022-02-08T12:50:01.449Z"
   },
   {
    "duration": 381,
    "start_time": "2022-02-08T12:50:01.452Z"
   },
   {
    "duration": 380,
    "start_time": "2022-02-08T12:50:01.454Z"
   },
   {
    "duration": 378,
    "start_time": "2022-02-08T12:50:01.457Z"
   },
   {
    "duration": 377,
    "start_time": "2022-02-08T12:50:01.459Z"
   },
   {
    "duration": 368,
    "start_time": "2022-02-08T12:50:01.469Z"
   },
   {
    "duration": 365,
    "start_time": "2022-02-08T12:50:01.473Z"
   },
   {
    "duration": 362,
    "start_time": "2022-02-08T12:50:01.476Z"
   },
   {
    "duration": 360,
    "start_time": "2022-02-08T12:50:01.479Z"
   },
   {
    "duration": 359,
    "start_time": "2022-02-08T12:50:01.481Z"
   },
   {
    "duration": 352,
    "start_time": "2022-02-08T12:50:01.489Z"
   },
   {
    "duration": 350,
    "start_time": "2022-02-08T12:50:01.492Z"
   },
   {
    "duration": 348,
    "start_time": "2022-02-08T12:50:01.495Z"
   },
   {
    "duration": 346,
    "start_time": "2022-02-08T12:50:01.497Z"
   },
   {
    "duration": 344,
    "start_time": "2022-02-08T12:50:01.500Z"
   },
   {
    "duration": 343,
    "start_time": "2022-02-08T12:50:01.502Z"
   },
   {
    "duration": 341,
    "start_time": "2022-02-08T12:50:01.505Z"
   },
   {
    "duration": 339,
    "start_time": "2022-02-08T12:50:01.508Z"
   },
   {
    "duration": 337,
    "start_time": "2022-02-08T12:50:01.511Z"
   },
   {
    "duration": 336,
    "start_time": "2022-02-08T12:50:01.513Z"
   },
   {
    "duration": 334,
    "start_time": "2022-02-08T12:50:01.516Z"
   },
   {
    "duration": 332,
    "start_time": "2022-02-08T12:50:01.518Z"
   },
   {
    "duration": 331,
    "start_time": "2022-02-08T12:50:01.520Z"
   },
   {
    "duration": 330,
    "start_time": "2022-02-08T12:50:01.522Z"
   },
   {
    "duration": 321,
    "start_time": "2022-02-08T12:50:01.532Z"
   },
   {
    "duration": 319,
    "start_time": "2022-02-08T12:50:01.535Z"
   },
   {
    "duration": 9,
    "start_time": "2022-02-08T12:50:44.416Z"
   },
   {
    "duration": 18,
    "start_time": "2022-02-08T12:50:47.572Z"
   },
   {
    "duration": 19,
    "start_time": "2022-02-08T12:51:26.530Z"
   },
   {
    "duration": 4,
    "start_time": "2022-02-08T12:51:40.994Z"
   },
   {
    "duration": 11,
    "start_time": "2022-02-08T12:51:42.296Z"
   },
   {
    "duration": 3,
    "start_time": "2022-02-08T12:52:07.294Z"
   },
   {
    "duration": 9,
    "start_time": "2022-02-08T12:52:07.964Z"
   },
   {
    "duration": 3,
    "start_time": "2022-02-08T12:53:53.871Z"
   },
   {
    "duration": 4,
    "start_time": "2022-02-08T12:53:53.877Z"
   },
   {
    "duration": 38,
    "start_time": "2022-02-08T12:53:53.883Z"
   },
   {
    "duration": 12,
    "start_time": "2022-02-08T12:53:53.922Z"
   },
   {
    "duration": 11,
    "start_time": "2022-02-08T12:53:53.935Z"
   },
   {
    "duration": 66,
    "start_time": "2022-02-08T12:53:53.948Z"
   },
   {
    "duration": 35,
    "start_time": "2022-02-08T12:53:54.015Z"
   },
   {
    "duration": 16,
    "start_time": "2022-02-08T12:53:54.053Z"
   },
   {
    "duration": 2,
    "start_time": "2022-02-08T12:53:54.072Z"
   },
   {
    "duration": 38,
    "start_time": "2022-02-08T12:53:54.076Z"
   },
   {
    "duration": 6,
    "start_time": "2022-02-08T12:53:54.116Z"
   },
   {
    "duration": 16,
    "start_time": "2022-02-08T12:53:54.124Z"
   },
   {
    "duration": 12,
    "start_time": "2022-02-08T12:53:54.142Z"
   },
   {
    "duration": 11,
    "start_time": "2022-02-08T12:53:54.156Z"
   },
   {
    "duration": 4742,
    "start_time": "2022-02-08T12:53:54.169Z"
   },
   {
    "duration": 383,
    "start_time": "2022-02-08T12:53:58.531Z"
   },
   {
    "duration": 378,
    "start_time": "2022-02-08T12:53:58.538Z"
   },
   {
    "duration": 377,
    "start_time": "2022-02-08T12:53:58.541Z"
   },
   {
    "duration": 375,
    "start_time": "2022-02-08T12:53:58.545Z"
   },
   {
    "duration": 374,
    "start_time": "2022-02-08T12:53:58.547Z"
   },
   {
    "duration": 373,
    "start_time": "2022-02-08T12:53:58.550Z"
   },
   {
    "duration": 372,
    "start_time": "2022-02-08T12:53:58.552Z"
   },
   {
    "duration": 372,
    "start_time": "2022-02-08T12:53:58.554Z"
   },
   {
    "duration": 371,
    "start_time": "2022-02-08T12:53:58.556Z"
   },
   {
    "duration": 369,
    "start_time": "2022-02-08T12:53:58.559Z"
   },
   {
    "duration": 369,
    "start_time": "2022-02-08T12:53:58.561Z"
   },
   {
    "duration": 368,
    "start_time": "2022-02-08T12:53:58.563Z"
   },
   {
    "duration": 368,
    "start_time": "2022-02-08T12:53:58.565Z"
   },
   {
    "duration": 367,
    "start_time": "2022-02-08T12:53:58.567Z"
   },
   {
    "duration": 366,
    "start_time": "2022-02-08T12:53:58.569Z"
   },
   {
    "duration": 366,
    "start_time": "2022-02-08T12:53:58.571Z"
   },
   {
    "duration": 359,
    "start_time": "2022-02-08T12:53:58.579Z"
   },
   {
    "duration": 358,
    "start_time": "2022-02-08T12:53:58.582Z"
   },
   {
    "duration": 357,
    "start_time": "2022-02-08T12:53:58.584Z"
   },
   {
    "duration": 356,
    "start_time": "2022-02-08T12:53:58.587Z"
   },
   {
    "duration": 355,
    "start_time": "2022-02-08T12:53:58.589Z"
   },
   {
    "duration": 349,
    "start_time": "2022-02-08T12:53:58.596Z"
   },
   {
    "duration": 347,
    "start_time": "2022-02-08T12:53:58.599Z"
   },
   {
    "duration": 346,
    "start_time": "2022-02-08T12:53:58.602Z"
   },
   {
    "duration": 343,
    "start_time": "2022-02-08T12:53:58.605Z"
   },
   {
    "duration": 343,
    "start_time": "2022-02-08T12:53:58.607Z"
   },
   {
    "duration": 337,
    "start_time": "2022-02-08T12:53:58.614Z"
   },
   {
    "duration": 335,
    "start_time": "2022-02-08T12:53:58.617Z"
   },
   {
    "duration": 333,
    "start_time": "2022-02-08T12:53:58.620Z"
   },
   {
    "duration": 331,
    "start_time": "2022-02-08T12:53:58.623Z"
   },
   {
    "duration": 330,
    "start_time": "2022-02-08T12:53:58.626Z"
   },
   {
    "duration": 327,
    "start_time": "2022-02-08T12:53:58.629Z"
   },
   {
    "duration": 326,
    "start_time": "2022-02-08T12:53:58.631Z"
   },
   {
    "duration": 325,
    "start_time": "2022-02-08T12:53:58.633Z"
   },
   {
    "duration": 323,
    "start_time": "2022-02-08T12:53:58.635Z"
   },
   {
    "duration": 322,
    "start_time": "2022-02-08T12:53:58.637Z"
   },
   {
    "duration": 367,
    "start_time": "2022-02-08T12:53:58.645Z"
   },
   {
    "duration": 365,
    "start_time": "2022-02-08T12:53:58.648Z"
   },
   {
    "duration": 366,
    "start_time": "2022-02-08T12:53:58.650Z"
   },
   {
    "duration": 8,
    "start_time": "2022-02-08T12:55:22.963Z"
   },
   {
    "duration": 16,
    "start_time": "2022-02-08T12:55:25.681Z"
   },
   {
    "duration": 11,
    "start_time": "2022-02-08T12:57:12.906Z"
   },
   {
    "duration": 3,
    "start_time": "2022-02-08T12:57:16.614Z"
   },
   {
    "duration": 5,
    "start_time": "2022-02-08T12:57:16.619Z"
   },
   {
    "duration": 41,
    "start_time": "2022-02-08T12:57:16.627Z"
   },
   {
    "duration": 11,
    "start_time": "2022-02-08T12:57:16.671Z"
   },
   {
    "duration": 38,
    "start_time": "2022-02-08T12:57:16.684Z"
   },
   {
    "duration": 28,
    "start_time": "2022-02-08T12:57:16.724Z"
   },
   {
    "duration": 63,
    "start_time": "2022-02-08T12:57:16.753Z"
   },
   {
    "duration": 17,
    "start_time": "2022-02-08T12:57:16.819Z"
   },
   {
    "duration": 3,
    "start_time": "2022-02-08T12:57:16.838Z"
   },
   {
    "duration": 15,
    "start_time": "2022-02-08T12:57:16.843Z"
   },
   {
    "duration": 8,
    "start_time": "2022-02-08T12:57:16.860Z"
   },
   {
    "duration": 15,
    "start_time": "2022-02-08T12:57:16.870Z"
   },
   {
    "duration": 10,
    "start_time": "2022-02-08T12:57:16.912Z"
   },
   {
    "duration": 11,
    "start_time": "2022-02-08T12:57:16.924Z"
   },
   {
    "duration": 7,
    "start_time": "2022-02-08T12:57:16.938Z"
   },
   {
    "duration": 11,
    "start_time": "2022-02-08T12:57:16.947Z"
   },
   {
    "duration": 563,
    "start_time": "2022-02-08T12:57:16.960Z"
   },
   {
    "duration": 16,
    "start_time": "2022-02-08T12:57:17.525Z"
   },
   {
    "duration": 12,
    "start_time": "2022-02-08T12:57:17.543Z"
   },
   {
    "duration": 4,
    "start_time": "2022-02-08T12:57:17.557Z"
   },
   {
    "duration": 9,
    "start_time": "2022-02-08T12:57:17.562Z"
   },
   {
    "duration": 1691,
    "start_time": "2022-02-08T12:57:17.574Z"
   },
   {
    "duration": 14,
    "start_time": "2022-02-08T12:57:19.268Z"
   },
   {
    "duration": 5,
    "start_time": "2022-02-08T12:57:19.283Z"
   },
   {
    "duration": 30,
    "start_time": "2022-02-08T12:57:19.290Z"
   },
   {
    "duration": 11,
    "start_time": "2022-02-08T12:57:19.322Z"
   },
   {
    "duration": 4,
    "start_time": "2022-02-08T12:57:19.335Z"
   },
   {
    "duration": 596,
    "start_time": "2022-02-08T12:57:19.340Z"
   },
   {
    "duration": 24,
    "start_time": "2022-02-08T12:57:19.938Z"
   },
   {
    "duration": 16,
    "start_time": "2022-02-08T12:57:19.964Z"
   },
   {
    "duration": 531,
    "start_time": "2022-02-08T12:57:19.981Z"
   },
   {
    "duration": 514,
    "start_time": "2022-02-08T12:57:20.514Z"
   },
   {
    "duration": 11,
    "start_time": "2022-02-08T12:57:21.030Z"
   },
   {
    "duration": 10,
    "start_time": "2022-02-08T12:57:21.043Z"
   },
   {
    "duration": 7,
    "start_time": "2022-02-08T12:57:21.055Z"
   },
   {
    "duration": 7,
    "start_time": "2022-02-08T12:57:21.064Z"
   },
   {
    "duration": 207,
    "start_time": "2022-02-08T12:57:21.073Z"
   },
   {
    "duration": 445,
    "start_time": "2022-02-08T12:57:20.836Z"
   },
   {
    "duration": 444,
    "start_time": "2022-02-08T12:57:20.839Z"
   },
   {
    "duration": 442,
    "start_time": "2022-02-08T12:57:20.842Z"
   },
   {
    "duration": 435,
    "start_time": "2022-02-08T12:57:20.850Z"
   },
   {
    "duration": 433,
    "start_time": "2022-02-08T12:57:20.853Z"
   },
   {
    "duration": 432,
    "start_time": "2022-02-08T12:57:20.855Z"
   },
   {
    "duration": 431,
    "start_time": "2022-02-08T12:57:20.857Z"
   },
   {
    "duration": 430,
    "start_time": "2022-02-08T12:57:20.859Z"
   },
   {
    "duration": 429,
    "start_time": "2022-02-08T12:57:20.861Z"
   },
   {
    "duration": 428,
    "start_time": "2022-02-08T12:57:20.863Z"
   },
   {
    "duration": 426,
    "start_time": "2022-02-08T12:57:20.866Z"
   },
   {
    "duration": 425,
    "start_time": "2022-02-08T12:57:20.868Z"
   },
   {
    "duration": 424,
    "start_time": "2022-02-08T12:57:20.870Z"
   },
   {
    "duration": 424,
    "start_time": "2022-02-08T12:57:20.871Z"
   },
   {
    "duration": 423,
    "start_time": "2022-02-08T12:57:20.873Z"
   },
   {
    "duration": 422,
    "start_time": "2022-02-08T12:57:20.875Z"
   },
   {
    "duration": 421,
    "start_time": "2022-02-08T12:57:20.877Z"
   },
   {
    "duration": 77,
    "start_time": "2022-02-08T13:01:14.373Z"
   },
   {
    "duration": 56,
    "start_time": "2022-02-08T13:05:23.255Z"
   },
   {
    "duration": 183,
    "start_time": "2022-02-08T13:11:21.961Z"
   },
   {
    "duration": 191,
    "start_time": "2022-02-08T13:11:39.129Z"
   },
   {
    "duration": 323,
    "start_time": "2022-02-08T13:11:57.042Z"
   },
   {
    "duration": 187,
    "start_time": "2022-02-08T13:13:07.720Z"
   },
   {
    "duration": 203,
    "start_time": "2022-02-08T13:15:03.003Z"
   },
   {
    "duration": 184,
    "start_time": "2022-02-08T13:15:53.306Z"
   },
   {
    "duration": 11,
    "start_time": "2022-02-08T13:16:50.501Z"
   },
   {
    "duration": 12,
    "start_time": "2022-02-08T13:16:57.008Z"
   },
   {
    "duration": 5,
    "start_time": "2022-02-08T13:17:04.409Z"
   },
   {
    "duration": 5,
    "start_time": "2022-02-08T13:17:17.906Z"
   },
   {
    "duration": 9,
    "start_time": "2022-02-08T13:24:05.124Z"
   },
   {
    "duration": 12,
    "start_time": "2022-02-08T13:24:46.333Z"
   },
   {
    "duration": 9,
    "start_time": "2022-02-08T13:24:46.950Z"
   },
   {
    "duration": 9,
    "start_time": "2022-02-08T13:25:23.858Z"
   },
   {
    "duration": 8,
    "start_time": "2022-02-08T13:25:25.057Z"
   },
   {
    "duration": 13,
    "start_time": "2022-02-08T13:27:51.787Z"
   },
   {
    "duration": 11,
    "start_time": "2022-02-08T13:27:52.378Z"
   },
   {
    "duration": 8,
    "start_time": "2022-02-08T13:29:20.988Z"
   },
   {
    "duration": 4907,
    "start_time": "2022-02-08T13:30:38.089Z"
   },
   {
    "duration": 491,
    "start_time": "2022-02-08T13:31:00.309Z"
   },
   {
    "duration": 525,
    "start_time": "2022-02-08T13:31:21.506Z"
   },
   {
    "duration": 548,
    "start_time": "2022-02-08T13:35:43.650Z"
   },
   {
    "duration": 484,
    "start_time": "2022-02-08T13:36:06.441Z"
   },
   {
    "duration": 11,
    "start_time": "2022-02-08T13:40:40.689Z"
   },
   {
    "duration": 9,
    "start_time": "2022-02-08T13:40:41.336Z"
   },
   {
    "duration": 482,
    "start_time": "2022-02-08T13:40:43.284Z"
   },
   {
    "duration": 66,
    "start_time": "2022-02-08T13:42:33.138Z"
   },
   {
    "duration": 10,
    "start_time": "2022-02-08T13:44:31.905Z"
   },
   {
    "duration": 7,
    "start_time": "2022-02-08T13:44:32.646Z"
   },
   {
    "duration": 607,
    "start_time": "2022-02-08T13:45:13.260Z"
   },
   {
    "duration": 71,
    "start_time": "2022-02-08T13:50:34.589Z"
   },
   {
    "duration": 218,
    "start_time": "2022-02-08T14:07:44.574Z"
   },
   {
    "duration": 205,
    "start_time": "2022-02-08T14:07:50.432Z"
   },
   {
    "duration": 11,
    "start_time": "2022-02-08T14:07:56.797Z"
   },
   {
    "duration": 3,
    "start_time": "2022-02-08T14:11:12.712Z"
   },
   {
    "duration": 5,
    "start_time": "2022-02-08T14:11:12.718Z"
   },
   {
    "duration": 38,
    "start_time": "2022-02-08T14:11:12.725Z"
   },
   {
    "duration": 14,
    "start_time": "2022-02-08T14:11:12.765Z"
   },
   {
    "duration": 14,
    "start_time": "2022-02-08T14:11:12.812Z"
   },
   {
    "duration": 34,
    "start_time": "2022-02-08T14:11:12.828Z"
   },
   {
    "duration": 74,
    "start_time": "2022-02-08T14:11:12.864Z"
   },
   {
    "duration": 18,
    "start_time": "2022-02-08T14:11:12.941Z"
   },
   {
    "duration": 3,
    "start_time": "2022-02-08T14:11:12.961Z"
   },
   {
    "duration": 13,
    "start_time": "2022-02-08T14:11:12.965Z"
   },
   {
    "duration": 34,
    "start_time": "2022-02-08T14:11:12.980Z"
   },
   {
    "duration": 10,
    "start_time": "2022-02-08T14:11:13.016Z"
   },
   {
    "duration": 9,
    "start_time": "2022-02-08T14:11:13.028Z"
   },
   {
    "duration": 11,
    "start_time": "2022-02-08T14:11:13.039Z"
   },
   {
    "duration": 8,
    "start_time": "2022-02-08T14:11:13.051Z"
   },
   {
    "duration": 14,
    "start_time": "2022-02-08T14:11:13.061Z"
   },
   {
    "duration": 593,
    "start_time": "2022-02-08T14:11:13.076Z"
   },
   {
    "duration": 26,
    "start_time": "2022-02-08T14:11:13.671Z"
   },
   {
    "duration": 30,
    "start_time": "2022-02-08T14:11:13.699Z"
   },
   {
    "duration": 4,
    "start_time": "2022-02-08T14:11:13.731Z"
   },
   {
    "duration": 8,
    "start_time": "2022-02-08T14:11:13.737Z"
   },
   {
    "duration": 1640,
    "start_time": "2022-02-08T14:11:13.747Z"
   },
   {
    "duration": 27,
    "start_time": "2022-02-08T14:11:15.392Z"
   },
   {
    "duration": 6,
    "start_time": "2022-02-08T14:11:15.422Z"
   },
   {
    "duration": 18,
    "start_time": "2022-02-08T14:11:15.429Z"
   },
   {
    "duration": 14,
    "start_time": "2022-02-08T14:11:15.448Z"
   },
   {
    "duration": 5,
    "start_time": "2022-02-08T14:11:15.464Z"
   },
   {
    "duration": 731,
    "start_time": "2022-02-08T14:11:15.470Z"
   },
   {
    "duration": 28,
    "start_time": "2022-02-08T14:11:16.211Z"
   },
   {
    "duration": 17,
    "start_time": "2022-02-08T14:11:16.240Z"
   },
   {
    "duration": 504,
    "start_time": "2022-02-08T14:11:16.258Z"
   },
   {
    "duration": 513,
    "start_time": "2022-02-08T14:11:16.764Z"
   },
   {
    "duration": 12,
    "start_time": "2022-02-08T14:11:17.279Z"
   },
   {
    "duration": 22,
    "start_time": "2022-02-08T14:11:17.292Z"
   },
   {
    "duration": 11,
    "start_time": "2022-02-08T14:11:17.316Z"
   },
   {
    "duration": 8,
    "start_time": "2022-02-08T14:11:17.328Z"
   },
   {
    "duration": 536,
    "start_time": "2022-02-08T14:11:17.338Z"
   },
   {
    "duration": 12,
    "start_time": "2022-02-08T14:11:17.877Z"
   },
   {
    "duration": 24,
    "start_time": "2022-02-08T14:11:17.891Z"
   },
   {
    "duration": 11,
    "start_time": "2022-02-08T14:11:17.916Z"
   },
   {
    "duration": 668,
    "start_time": "2022-02-08T14:11:17.928Z"
   },
   {
    "duration": 15,
    "start_time": "2022-02-08T14:11:18.598Z"
   },
   {
    "duration": 11,
    "start_time": "2022-02-08T14:11:18.614Z"
   },
   {
    "duration": 12,
    "start_time": "2022-02-08T14:11:18.626Z"
   },
   {
    "duration": 667,
    "start_time": "2022-02-08T14:11:18.639Z"
   },
   {
    "duration": 22,
    "start_time": "2022-02-08T14:11:19.308Z"
   },
   {
    "duration": 12,
    "start_time": "2022-02-08T14:11:19.332Z"
   },
   {
    "duration": 7,
    "start_time": "2022-02-08T14:11:19.346Z"
   },
   {
    "duration": 6,
    "start_time": "2022-02-08T14:11:19.355Z"
   },
   {
    "duration": 55,
    "start_time": "2022-02-08T14:11:19.363Z"
   },
   {
    "duration": 11,
    "start_time": "2022-02-08T14:11:19.420Z"
   },
   {
    "duration": 6,
    "start_time": "2022-02-08T14:11:19.433Z"
   },
   {
    "duration": 6,
    "start_time": "2022-02-08T14:11:19.441Z"
   },
   {
    "duration": 11,
    "start_time": "2022-02-08T14:11:19.449Z"
   },
   {
    "duration": 8,
    "start_time": "2022-02-08T14:11:19.462Z"
   },
   {
    "duration": 10,
    "start_time": "2022-02-08T14:13:54.377Z"
   },
   {
    "duration": 310,
    "start_time": "2022-02-08T14:14:23.714Z"
   },
   {
    "duration": 368,
    "start_time": "2022-02-08T14:14:34.169Z"
   },
   {
    "duration": 280,
    "start_time": "2022-02-08T14:14:43.132Z"
   },
   {
    "duration": 291,
    "start_time": "2022-02-08T14:15:03.305Z"
   },
   {
    "duration": 247,
    "start_time": "2022-02-08T14:15:10.994Z"
   },
   {
    "duration": 237,
    "start_time": "2022-02-08T14:16:06.806Z"
   },
   {
    "duration": 224,
    "start_time": "2022-02-08T14:16:13.088Z"
   },
   {
    "duration": 214,
    "start_time": "2022-02-08T14:16:53.751Z"
   },
   {
    "duration": 7,
    "start_time": "2022-02-08T14:16:59.384Z"
   },
   {
    "duration": 218,
    "start_time": "2022-02-08T14:17:15.438Z"
   },
   {
    "duration": 207,
    "start_time": "2022-02-08T14:17:53.576Z"
   },
   {
    "duration": 223,
    "start_time": "2022-02-08T14:18:15.746Z"
   },
   {
    "duration": 58,
    "start_time": "2022-02-08T14:20:56.442Z"
   },
   {
    "duration": 69,
    "start_time": "2022-02-08T14:21:33.593Z"
   }
  ],
  "kernelspec": {
   "display_name": "Python 3 (ipykernel)",
   "language": "python",
   "name": "python3"
  },
  "language_info": {
   "codemirror_mode": {
    "name": "ipython",
    "version": 3
   },
   "file_extension": ".py",
   "mimetype": "text/x-python",
   "name": "python",
   "nbconvert_exporter": "python",
   "pygments_lexer": "ipython3",
   "version": "3.9.5"
  },
  "toc": {
   "base_numbering": 1,
   "nav_menu": {},
   "number_sections": true,
   "sideBar": true,
   "skip_h1_title": true,
   "title_cell": "Table of Contents",
   "title_sidebar": "Contents",
   "toc_cell": false,
   "toc_position": {},
   "toc_section_display": true,
   "toc_window_display": false
  }
 },
 "nbformat": 4,
 "nbformat_minor": 2
}
