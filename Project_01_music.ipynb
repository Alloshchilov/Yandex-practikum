{
 "cells": [
  {
   "cell_type": "markdown",
   "metadata": {
    "id": "E0vqbgi9ay0H"
   },
   "source": [
    "# Яндекс.Музыка"
   ]
  },
  {
   "cell_type": "markdown",
   "metadata": {
    "id": "VUC88oWjTJw2"
   },
   "source": [
    "Сравнение Москвы и Петербурга окружено мифами. Например:\n",
    " * Москва — мегаполис, подчинённый жёсткому ритму рабочей недели;\n",
    " * Петербург — культурная столица, со своими вкусами.\n",
    "\n",
    "На данных Яндекс.Музыки вы сравните поведение пользователей двух столиц.\n",
    "\n",
    "**Цель исследования** — проверьте три гипотезы:\n",
    "1. Активность пользователей зависит от дня недели. Причём в Москве и Петербурге это проявляется по-разному.\n",
    "2. В понедельник утром в Москве преобладают одни жанры, а в Петербурге — другие. Так же и вечером пятницы преобладают разные жанры — в зависимости от города. \n",
    "3. Москва и Петербург предпочитают разные жанры музыки. В Москве чаще слушают поп-музыку, в Петербурге — русский рэп.\n",
    "\n",
    "**Ход исследования**\n",
    "\n",
    "Данные о поведении пользователей вы получите из файла `yandex_music_project.csv`. О качестве данных ничего не известно. Поэтому перед проверкой гипотез понадобится обзор данных. \n",
    "\n",
    "Вы проверите данные на ошибки и оцените их влияние на исследование. Затем, на этапе предобработки вы поищете возможность исправить самые критичные ошибки данных.\n",
    " \n",
    "Таким образом, исследование пройдёт в три этапа:\n",
    " 1. Обзор данных.\n",
    " 2. Предобработка данных.\n",
    " 3. Проверка гипотез.\n",
    "\n"
   ]
  },
  {
   "cell_type": "markdown",
   "metadata": {
    "id": "Ml1hmfXC_Zcs"
   },
   "source": [
    "## Обзор данных\n",
    "\n",
    "Составьте первое представление о данных Яндекс.Музыки.\n",
    "\n",
    "\n"
   ]
  },
  {
   "cell_type": "markdown",
   "metadata": {
    "id": "57eAOGIz_Zcs"
   },
   "source": [
    "Основной инструмент аналитика — `pandas`. Импортируйте эту библиотеку."
   ]
  },
  {
   "cell_type": "code",
   "execution_count": 2,
   "metadata": {
    "id": "AXN7PHPN_Zcs"
   },
   "outputs": [],
   "source": [
    "import pandas as pd # импорт библиотеки pandas"
   ]
  },
  {
   "cell_type": "markdown",
   "metadata": {
    "id": "SG23P8tt_Zcs"
   },
   "source": [
    "Прочитайте файл `yandex_music_project.csv` из папки `/datasets` и сохраните его в переменной `df`:"
   ]
  },
  {
   "cell_type": "code",
   "execution_count": 3,
   "metadata": {
    "id": "fFVu7vqh_Zct"
   },
   "outputs": [],
   "source": [
    "df = pd.read_csv('/datasets/yandex_music_project.csv') # чтение файла с данными и сохранение в df"
   ]
  },
  {
   "cell_type": "markdown",
   "metadata": {
    "id": "rDoOMd3uTqnZ"
   },
   "source": [
    "Выведите на экран первые десять строк таблицы:"
   ]
  },
  {
   "cell_type": "code",
   "execution_count": 4,
   "metadata": {
    "id": "oWTVX3gW_Zct"
   },
   "outputs": [
    {
     "data": {
      "text/html": [
       "<div>\n",
       "<style scoped>\n",
       "    .dataframe tbody tr th:only-of-type {\n",
       "        vertical-align: middle;\n",
       "    }\n",
       "\n",
       "    .dataframe tbody tr th {\n",
       "        vertical-align: top;\n",
       "    }\n",
       "\n",
       "    .dataframe thead th {\n",
       "        text-align: right;\n",
       "    }\n",
       "</style>\n",
       "<table border=\"1\" class=\"dataframe\">\n",
       "  <thead>\n",
       "    <tr style=\"text-align: right;\">\n",
       "      <th></th>\n",
       "      <th>userID</th>\n",
       "      <th>Track</th>\n",
       "      <th>artist</th>\n",
       "      <th>genre</th>\n",
       "      <th>City</th>\n",
       "      <th>time</th>\n",
       "      <th>Day</th>\n",
       "    </tr>\n",
       "  </thead>\n",
       "  <tbody>\n",
       "    <tr>\n",
       "      <td>0</td>\n",
       "      <td>FFB692EC</td>\n",
       "      <td>Kamigata To Boots</td>\n",
       "      <td>The Mass Missile</td>\n",
       "      <td>rock</td>\n",
       "      <td>Saint-Petersburg</td>\n",
       "      <td>20:28:33</td>\n",
       "      <td>Wednesday</td>\n",
       "    </tr>\n",
       "    <tr>\n",
       "      <td>1</td>\n",
       "      <td>55204538</td>\n",
       "      <td>Delayed Because of Accident</td>\n",
       "      <td>Andreas Rönnberg</td>\n",
       "      <td>rock</td>\n",
       "      <td>Moscow</td>\n",
       "      <td>14:07:09</td>\n",
       "      <td>Friday</td>\n",
       "    </tr>\n",
       "    <tr>\n",
       "      <td>2</td>\n",
       "      <td>20EC38</td>\n",
       "      <td>Funiculì funiculà</td>\n",
       "      <td>Mario Lanza</td>\n",
       "      <td>pop</td>\n",
       "      <td>Saint-Petersburg</td>\n",
       "      <td>20:58:07</td>\n",
       "      <td>Wednesday</td>\n",
       "    </tr>\n",
       "    <tr>\n",
       "      <td>3</td>\n",
       "      <td>A3DD03C9</td>\n",
       "      <td>Dragons in the Sunset</td>\n",
       "      <td>Fire + Ice</td>\n",
       "      <td>folk</td>\n",
       "      <td>Saint-Petersburg</td>\n",
       "      <td>08:37:09</td>\n",
       "      <td>Monday</td>\n",
       "    </tr>\n",
       "    <tr>\n",
       "      <td>4</td>\n",
       "      <td>E2DC1FAE</td>\n",
       "      <td>Soul People</td>\n",
       "      <td>Space Echo</td>\n",
       "      <td>dance</td>\n",
       "      <td>Moscow</td>\n",
       "      <td>08:34:34</td>\n",
       "      <td>Monday</td>\n",
       "    </tr>\n",
       "    <tr>\n",
       "      <td>5</td>\n",
       "      <td>842029A1</td>\n",
       "      <td>Преданная</td>\n",
       "      <td>IMPERVTOR</td>\n",
       "      <td>rusrap</td>\n",
       "      <td>Saint-Petersburg</td>\n",
       "      <td>13:09:41</td>\n",
       "      <td>Friday</td>\n",
       "    </tr>\n",
       "    <tr>\n",
       "      <td>6</td>\n",
       "      <td>4CB90AA5</td>\n",
       "      <td>True</td>\n",
       "      <td>Roman Messer</td>\n",
       "      <td>dance</td>\n",
       "      <td>Moscow</td>\n",
       "      <td>13:00:07</td>\n",
       "      <td>Wednesday</td>\n",
       "    </tr>\n",
       "    <tr>\n",
       "      <td>7</td>\n",
       "      <td>F03E1C1F</td>\n",
       "      <td>Feeling This Way</td>\n",
       "      <td>Polina Griffith</td>\n",
       "      <td>dance</td>\n",
       "      <td>Moscow</td>\n",
       "      <td>20:47:49</td>\n",
       "      <td>Wednesday</td>\n",
       "    </tr>\n",
       "    <tr>\n",
       "      <td>8</td>\n",
       "      <td>8FA1D3BE</td>\n",
       "      <td>И вновь продолжается бой</td>\n",
       "      <td>NaN</td>\n",
       "      <td>ruspop</td>\n",
       "      <td>Moscow</td>\n",
       "      <td>09:17:40</td>\n",
       "      <td>Friday</td>\n",
       "    </tr>\n",
       "    <tr>\n",
       "      <td>9</td>\n",
       "      <td>E772D5C0</td>\n",
       "      <td>Pessimist</td>\n",
       "      <td>NaN</td>\n",
       "      <td>dance</td>\n",
       "      <td>Saint-Petersburg</td>\n",
       "      <td>21:20:49</td>\n",
       "      <td>Wednesday</td>\n",
       "    </tr>\n",
       "  </tbody>\n",
       "</table>\n",
       "</div>"
      ],
      "text/plain": [
       "     userID                        Track            artist   genre  \\\n",
       "0  FFB692EC            Kamigata To Boots  The Mass Missile    rock   \n",
       "1  55204538  Delayed Because of Accident  Andreas Rönnberg    rock   \n",
       "2    20EC38            Funiculì funiculà       Mario Lanza     pop   \n",
       "3  A3DD03C9        Dragons in the Sunset        Fire + Ice    folk   \n",
       "4  E2DC1FAE                  Soul People        Space Echo   dance   \n",
       "5  842029A1                    Преданная         IMPERVTOR  rusrap   \n",
       "6  4CB90AA5                         True      Roman Messer   dance   \n",
       "7  F03E1C1F             Feeling This Way   Polina Griffith   dance   \n",
       "8  8FA1D3BE     И вновь продолжается бой               NaN  ruspop   \n",
       "9  E772D5C0                    Pessimist               NaN   dance   \n",
       "\n",
       "             City        time        Day  \n",
       "0  Saint-Petersburg  20:28:33  Wednesday  \n",
       "1            Moscow  14:07:09     Friday  \n",
       "2  Saint-Petersburg  20:58:07  Wednesday  \n",
       "3  Saint-Petersburg  08:37:09     Monday  \n",
       "4            Moscow  08:34:34     Monday  \n",
       "5  Saint-Petersburg  13:09:41     Friday  \n",
       "6            Moscow  13:00:07  Wednesday  \n",
       "7            Moscow  20:47:49  Wednesday  \n",
       "8            Moscow  09:17:40     Friday  \n",
       "9  Saint-Petersburg  21:20:49  Wednesday  "
      ]
     },
     "execution_count": 4,
     "metadata": {},
     "output_type": "execute_result"
    }
   ],
   "source": [
    "df.head(10) # получение первых 10 строк таблицы df"
   ]
  },
  {
   "cell_type": "markdown",
   "metadata": {
    "id": "EO73Kwic_Zct"
   },
   "source": [
    "Одной командой получить общую информацию о таблице:"
   ]
  },
  {
   "cell_type": "code",
   "execution_count": 5,
   "metadata": {
    "id": "DSf2kIb-_Zct"
   },
   "outputs": [
    {
     "name": "stdout",
     "output_type": "stream",
     "text": [
      "<class 'pandas.core.frame.DataFrame'>\n",
      "RangeIndex: 65079 entries, 0 to 65078\n",
      "Data columns (total 7 columns):\n",
      "  userID    65079 non-null object\n",
      "Track       63848 non-null object\n",
      "artist      57876 non-null object\n",
      "genre       63881 non-null object\n",
      "  City      65079 non-null object\n",
      "time        65079 non-null object\n",
      "Day         65079 non-null object\n",
      "dtypes: object(7)\n",
      "memory usage: 3.5+ MB\n"
     ]
    }
   ],
   "source": [
    "df.info() # получение общей информации о данных в таблице df"
   ]
  },
  {
   "cell_type": "markdown",
   "metadata": {
    "id": "TaQ2Iwbr_Zct"
   },
   "source": [
    "Итак, в таблице семь столбцов. Тип данных во всех столбцах — `object`.\n",
    "\n",
    "Согласно документации к данным:\n",
    "* `userID` — идентификатор пользователя;\n",
    "* `Track` — название трека;  \n",
    "* `artist` — имя исполнителя;\n",
    "* `genre` — название жанра;\n",
    "* `City` — город пользователя;\n",
    "* `time` — время начала прослушивания;\n",
    "* `Day` — день недели.\n",
    "\n",
    "В названиях колонок видны три нарушения стиля:\n",
    "1. Строчные буквы сочетаются с прописными.\n",
    "2. Встречаются пробелы.\n",
    "3. userID стоит записать змеиным регистром как user_id\n",
    "\n",
    "\n",
    "\n",
    "\n",
    "Количество значений в столбцах различается. Значит, в данных есть пропущенные значения.\n"
   ]
  },
  {
   "cell_type": "markdown",
   "metadata": {
    "id": "MCB6-dXG_Zct"
   },
   "source": [
    "**Выводы**\n",
    "\n",
    "В каждой строке таблицы — данные о прослушанном треке. Часть колонок описывает саму композицию: название, исполнителя и жанр. Остальные данные рассказывают о пользователе: из какого он города, когда он слушал музыку. \n",
    "\n",
    "Предварительно можно утверждать, что, данных достаточно для проверки гипотез. Но встречаются пропуски в данных, а в названиях колонок — расхождения с хорошим стилем.\n",
    "\n",
    "Чтобы двигаться дальше, нужно устранить проблемы в данных."
   ]
  },
  {
   "cell_type": "markdown",
   "metadata": {
    "id": "SjYF6Ub9_Zct"
   },
   "source": [
    "## Предобработка данных\n",
    "Исправьте стиль в заголовках столбцов, исключите пропуски. Затем проверьте данные на дубликаты."
   ]
  },
  {
   "cell_type": "markdown",
   "metadata": {
    "id": "dIaKXr29_Zct"
   },
   "source": [
    "### Стиль заголовков\n",
    "Выведите на экран названия столбцов:"
   ]
  },
  {
   "cell_type": "code",
   "execution_count": 6,
   "metadata": {
    "id": "oKOTdF_Q_Zct"
   },
   "outputs": [
    {
     "data": {
      "text/plain": [
       "Index(['  userID', 'Track', 'artist', 'genre', '  City  ', 'time', 'Day'], dtype='object')"
      ]
     },
     "metadata": {},
     "output_type": "display_data"
    }
   ],
   "source": [
    "display(df.columns) # перечень названий столбцов таблицы df"
   ]
  },
  {
   "cell_type": "markdown",
   "metadata": {
    "id": "zj5534cv_Zct"
   },
   "source": [
    "Приведите названия в соответствие с хорошим стилем:\n",
    "* несколько слов в названии запишите в «змеином_регистре»,\n",
    "* все символы сделайте строчными,\n",
    "* устраните пробелы.\n",
    "\n",
    "Для этого переименуйте колонки так:\n",
    "* `'  userID'` → `'user_id'`;\n",
    "* `'Track'` → `'track'`;\n",
    "* `'  City  '` → `'city'`;\n",
    "* `'Day'` → `'day'`."
   ]
  },
  {
   "cell_type": "code",
   "execution_count": 7,
   "metadata": {
    "id": "ISlFqs5y_Zct"
   },
   "outputs": [],
   "source": [
    "df = df.rename(columns={'  userID' : 'user_id' , 'Track' : 'track' , '  City  ' : 'city' , 'Day' : 'day'})# переименование столбцов"
   ]
  },
  {
   "cell_type": "markdown",
   "metadata": {
    "id": "1dqbh00J_Zct"
   },
   "source": [
    "Проверьте результат. Для этого ещё раз выведите на экран названия столбцов:"
   ]
  },
  {
   "cell_type": "code",
   "execution_count": 8,
   "metadata": {
    "id": "d4NOAmTW_Zct",
    "scrolled": true
   },
   "outputs": [
    {
     "data": {
      "text/plain": [
       "Index(['user_id', 'track', 'artist', 'genre', 'city', 'time', 'day'], dtype='object')"
      ]
     },
     "metadata": {},
     "output_type": "display_data"
    }
   ],
   "source": [
    "display(df.columns) # проверка результатов - перечень названий столбцов"
   ]
  },
  {
   "cell_type": "markdown",
   "metadata": {
    "id": "5ISfbcfY_Zct"
   },
   "source": [
    "### Пропуски значений\n",
    "Сначала посчитайте, сколько в таблице пропущенных значений. Для этого достаточно двух методов `pandas`:"
   ]
  },
  {
   "cell_type": "code",
   "execution_count": 9,
   "metadata": {
    "id": "RskX29qr_Zct"
   },
   "outputs": [
    {
     "data": {
      "text/plain": [
       "user_id       0\n",
       "track      1231\n",
       "artist     7203\n",
       "genre      1198\n",
       "city          0\n",
       "time          0\n",
       "day           0\n",
       "dtype: int64"
      ]
     },
     "metadata": {},
     "output_type": "display_data"
    }
   ],
   "source": [
    "display(df.isna().sum()) # подсчёт пропусков"
   ]
  },
  {
   "cell_type": "markdown",
   "metadata": {
    "id": "qubhgnlO_Zct"
   },
   "source": [
    "Не все пропущенные значения влияют на исследование. Так в `track` и `artist` пропуски не важны для вашей работы. Достаточно заменить их явными обозначениями.\n",
    "\n",
    "Но пропуски в `genre` могут помешать сравнению музыкальных вкусов в Москве и Санкт-Петербурге. На практике было бы правильно установить причину пропусков и восстановить данные. Такой возможности нет в учебном проекте. Придётся:\n",
    "* заполнить и эти пропуски явными обозначениями,\n",
    "* оценить, насколько они повредят расчётам. "
   ]
  },
  {
   "cell_type": "markdown",
   "metadata": {
    "id": "fSv2laPA_Zct"
   },
   "source": [
    "Замените пропущенные значения в столбцах `track`, `artist` и `genre` на строку `'unknown'`. Для этого создайте список `columns_to_replace`, переберите его элементы циклом `for` и для каждого столбца выполните замену пропущенных значений:"
   ]
  },
  {
   "cell_type": "code",
   "execution_count": 10,
   "metadata": {
    "id": "KplB5qWs_Zct"
   },
   "outputs": [],
   "source": [
    "columns_to_replace = ['track' , 'artist' , 'genre']  # объявите список columns_to_replace с названиями столбцов track, \n",
    "for column in columns_to_replace:\n",
    "    df[column] = df[column].fillna('unknown') # перебор названий столбцов в цикле и замена пропущенных значений на 'unknown'"
   ]
  },
  {
   "cell_type": "markdown",
   "metadata": {
    "id": "Ilsm-MZo_Zct"
   },
   "source": [
    "Убедитесь, что в таблице не осталось пропусков. Для этого ещё раз посчитайте пропущенные значения."
   ]
  },
  {
   "cell_type": "code",
   "execution_count": 11,
   "metadata": {
    "id": "Tq4nYRX4_Zct"
   },
   "outputs": [
    {
     "name": "stdout",
     "output_type": "stream",
     "text": [
      "user_id    0\n",
      "track      0\n",
      "artist     0\n",
      "genre      0\n",
      "city       0\n",
      "time       0\n",
      "day        0\n",
      "dtype: int64\n"
     ]
    }
   ],
   "source": [
    "print(df.isna().sum()) # подсчёт пропусков"
   ]
  },
  {
   "cell_type": "markdown",
   "metadata": {
    "id": "BWKRtBJ3_Zct"
   },
   "source": [
    "### Дубликаты\n",
    "Посчитайте явные дубликаты в таблице одной командой:"
   ]
  },
  {
   "cell_type": "code",
   "execution_count": 12,
   "metadata": {
    "id": "36eES_S0_Zct"
   },
   "outputs": [
    {
     "data": {
      "text/plain": [
       "3826"
      ]
     },
     "execution_count": 12,
     "metadata": {},
     "output_type": "execute_result"
    }
   ],
   "source": [
    "df.duplicated().sum() # подсчёт явных дубликатов"
   ]
  },
  {
   "cell_type": "markdown",
   "metadata": {
    "id": "Ot25h6XR_Zct"
   },
   "source": [
    "Вызовите специальный метод `pandas`, чтобы удалить явные дубликаты:"
   ]
  },
  {
   "cell_type": "code",
   "execution_count": 13,
   "metadata": {
    "id": "exFHq6tt_Zct"
   },
   "outputs": [],
   "source": [
    "df = df.drop_duplicates().reset_index(drop=True) # удаление явных дубликатов (с удалением старых индексов и формированием новых)"
   ]
  },
  {
   "cell_type": "markdown",
   "metadata": {
    "id": "Im2YwBEG_Zct"
   },
   "source": [
    "Ещё раз посчитайте явные дубликаты в таблице — убедитесь, что полностью от них избавились:"
   ]
  },
  {
   "cell_type": "code",
   "execution_count": 14,
   "metadata": {
    "id": "-8PuNWQ0_Zct"
   },
   "outputs": [
    {
     "data": {
      "text/plain": [
       "0"
      ]
     },
     "execution_count": 14,
     "metadata": {},
     "output_type": "execute_result"
    }
   ],
   "source": [
    "df.duplicated().sum() # проверка на отсутствие дубликатов"
   ]
  },
  {
   "cell_type": "markdown",
   "metadata": {
    "id": "QlFBsxAr_Zct"
   },
   "source": [
    "Теперь избавьтесь от неявных дубликатов в колонке `genre`. Например, название одного и того же жанра может быть записано немного по-разному. Такие ошибки тоже повлияют на результат исследования."
   ]
  },
  {
   "cell_type": "markdown",
   "metadata": {
    "id": "eSjWwsOh_Zct"
   },
   "source": [
    "Выведите на экран список уникальных названий жанров, отсортированный в алфавитном порядке. Для этого:\n",
    "* извлеките нужный столбец датафрейма, \n",
    "* примените к нему метод сортировки,\n",
    "* для отсортированного столбца вызовите метод, который вернёт уникальные значения из столбца."
   ]
  },
  {
   "cell_type": "code",
   "execution_count": 17,
   "metadata": {
    "id": "JIUcqzZN_Zct",
    "scrolled": true
   },
   "outputs": [
    {
     "data": {
      "text/plain": [
       "array(['acid', 'acoustic', 'action', 'adult', 'africa', 'afrikaans',\n",
       "       'alternative', 'alternativepunk', 'ambient', 'americana',\n",
       "       'animated', 'anime', 'arabesk', 'arabic', 'arena',\n",
       "       'argentinetango', 'art', 'audiobook', 'author', 'avantgarde',\n",
       "       'axé', 'baile', 'balkan', 'beats', 'bigroom', 'black', 'bluegrass',\n",
       "       'blues', 'bollywood', 'bossa', 'brazilian', 'breakbeat', 'breaks',\n",
       "       'broadway', 'cantautori', 'cantopop', 'canzone', 'caribbean',\n",
       "       'caucasian', 'celtic', 'chamber', 'chanson', 'children', 'chill',\n",
       "       'chinese', 'choral', 'christian', 'christmas', 'classical',\n",
       "       'classicmetal', 'club', 'colombian', 'comedy', 'conjazz',\n",
       "       'contemporary', 'country', 'cuban', 'dance', 'dancehall',\n",
       "       'dancepop', 'dark', 'death', 'deep', 'deutschrock', 'deutschspr',\n",
       "       'dirty', 'disco', 'dnb', 'documentary', 'downbeat', 'downtempo',\n",
       "       'drum', 'dub', 'dubstep', 'eastern', 'easy', 'electronic',\n",
       "       'electropop', 'emo', 'entehno', 'epicmetal', 'estrada', 'ethnic',\n",
       "       'eurofolk', 'european', 'experimental', 'extrememetal', 'fado',\n",
       "       'fairytail', 'film', 'fitness', 'flamenco', 'folk', 'folklore',\n",
       "       'folkmetal', 'folkrock', 'folktronica', 'forró', 'frankreich',\n",
       "       'französisch', 'french', 'funk', 'future', 'gangsta', 'garage',\n",
       "       'german', 'ghazal', 'gitarre', 'glitch', 'gospel', 'gothic',\n",
       "       'grime', 'grunge', 'gypsy', 'handsup', \"hard'n'heavy\", 'hardcore',\n",
       "       'hardstyle', 'hardtechno', 'hip', 'hip-hop', 'hiphop',\n",
       "       'historisch', 'holiday', 'hop', 'horror', 'house', 'hymn', 'idm',\n",
       "       'independent', 'indian', 'indie', 'indipop', 'industrial',\n",
       "       'inspirational', 'instrumental', 'international', 'irish', 'jam',\n",
       "       'japanese', 'jazz', 'jewish', 'jpop', 'jungle', 'k-pop',\n",
       "       'karadeniz', 'karaoke', 'kayokyoku', 'korean', 'laiko', 'latin',\n",
       "       'latino', 'leftfield', 'local', 'lounge', 'loungeelectronic',\n",
       "       'lovers', 'malaysian', 'mandopop', 'marschmusik', 'meditative',\n",
       "       'mediterranean', 'melodic', 'metal', 'metalcore', 'mexican',\n",
       "       'middle', 'minimal', 'miscellaneous', 'modern', 'mood', 'mpb',\n",
       "       'muslim', 'native', 'neoklassik', 'neue', 'new', 'newage',\n",
       "       'newwave', 'nu', 'nujazz', 'numetal', 'oceania', 'old', 'opera',\n",
       "       'orchestral', 'other', 'piano', 'podcasts', 'pop', 'popdance',\n",
       "       'popelectronic', 'popeurodance', 'poprussian', 'post',\n",
       "       'posthardcore', 'postrock', 'power', 'progmetal', 'progressive',\n",
       "       'psychedelic', 'punjabi', 'punk', 'quebecois', 'ragga', 'ram',\n",
       "       'rancheras', 'rap', 'rave', 'reggae', 'reggaeton', 'regional',\n",
       "       'relax', 'religious', 'retro', 'rhythm', 'rnb', 'rnr', 'rock',\n",
       "       'rockabilly', 'rockalternative', 'rockindie', 'rockother',\n",
       "       'romance', 'roots', 'ruspop', 'rusrap', 'rusrock', 'russian',\n",
       "       'salsa', 'samba', 'scenic', 'schlager', 'self', 'sertanejo',\n",
       "       'shanson', 'shoegazing', 'showtunes', 'singer', 'ska', 'skarock',\n",
       "       'slow', 'smooth', 'soft', 'soul', 'soulful', 'sound', 'soundtrack',\n",
       "       'southern', 'specialty', 'speech', 'spiritual', 'sport',\n",
       "       'stonerrock', 'surf', 'swing', 'synthpop', 'synthrock',\n",
       "       'sängerportrait', 'tango', 'tanzorchester', 'taraftar', 'tatar',\n",
       "       'tech', 'techno', 'teen', 'thrash', 'top', 'traditional',\n",
       "       'tradjazz', 'trance', 'tribal', 'trip', 'triphop', 'tropical',\n",
       "       'türk', 'türkçe', 'ukrrock', 'unknown', 'urban', 'uzbek',\n",
       "       'variété', 'vi', 'videogame', 'vocal', 'western', 'world',\n",
       "       'worldbeat', 'ïîï', 'электроника'], dtype=object)"
      ]
     },
     "execution_count": 17,
     "metadata": {},
     "output_type": "execute_result"
    }
   ],
   "source": [
    "df_genre = df['genre']\n",
    "df_genre.sort_values(ascending=True).unique() # Просмотр уникальных названий жанров"
   ]
  },
  {
   "cell_type": "markdown",
   "metadata": {
    "id": "qej-Qmuo_Zct"
   },
   "source": [
    "Просмотрите список и найдите неявные дубликаты названия `hiphop`. Это могут быть названия с ошибками или альтернативные названия того же жанра.\n",
    "\n",
    "Вы увидите следующие неявные дубликаты:\n",
    "* *hip*,\n",
    "* *hop*,\n",
    "* *hip-hop*.\n",
    "\n",
    "Чтобы очистить от них таблицу, напишите функцию `replace_wrong_genres()` с двумя параметрами: \n",
    "* `wrong_genres` — список дубликатов,\n",
    "* `correct_genre` — строка с правильным значением.\n",
    "\n",
    "Функция должна исправить колонку `genre` в таблице `df`: заменить каждое значение из списка `wrong_genres` на значение из `correct_genre`."
   ]
  },
  {
   "cell_type": "code",
   "execution_count": 18,
   "metadata": {
    "id": "ErNDkmns_Zct"
   },
   "outputs": [],
   "source": [
    "def replace_wrong_values(wrong_genres, correct_genre):\n",
    "        df['genre'] = df['genre'].replace(wrong_genres, correct_genre)\n"
   ]
  },
  {
   "cell_type": "markdown",
   "metadata": {
    "id": "aDoBJxbA_Zct"
   },
   "source": [
    "Вызовите `replace_wrong_genres()` и передайте ей такие аргументы, чтобы она устранила неявные дубликаты: вместо `hip`, `hop` и `hip-hop` в таблице должно быть значение `hiphop`:"
   ]
  },
  {
   "cell_type": "code",
   "execution_count": 19,
   "metadata": {
    "id": "YN5i2hpmSo09"
   },
   "outputs": [],
   "source": [
    "wrong_genres = ['hip', 'hop', 'hip-hop'] \n",
    "correct_genre = 'hiphop' \n",
    "replace_wrong_values(wrong_genres, correct_genre) # Устранение неявных дубликатов"
   ]
  },
  {
   "cell_type": "markdown",
   "metadata": {
    "id": "zQKF16_RG15m"
   },
   "source": [
    "Проверьте, что заменили неправильные названия:\n",
    "\n",
    "*   hip\n",
    "*   hop\n",
    "*   hip-hop\n",
    "\n",
    "Выведите отсортированный список уникальных значений столбца `genre`:"
   ]
  },
  {
   "cell_type": "code",
   "execution_count": 20,
   "metadata": {
    "id": "wvixALnFG15m"
   },
   "outputs": [
    {
     "data": {
      "text/plain": [
       "array(['acid', 'acoustic', 'action', 'adult', 'africa', 'afrikaans',\n",
       "       'alternative', 'alternativepunk', 'ambient', 'americana',\n",
       "       'animated', 'anime', 'arabesk', 'arabic', 'arena',\n",
       "       'argentinetango', 'art', 'audiobook', 'author', 'avantgarde',\n",
       "       'axé', 'baile', 'balkan', 'beats', 'bigroom', 'black', 'bluegrass',\n",
       "       'blues', 'bollywood', 'bossa', 'brazilian', 'breakbeat', 'breaks',\n",
       "       'broadway', 'cantautori', 'cantopop', 'canzone', 'caribbean',\n",
       "       'caucasian', 'celtic', 'chamber', 'chanson', 'children', 'chill',\n",
       "       'chinese', 'choral', 'christian', 'christmas', 'classical',\n",
       "       'classicmetal', 'club', 'colombian', 'comedy', 'conjazz',\n",
       "       'contemporary', 'country', 'cuban', 'dance', 'dancehall',\n",
       "       'dancepop', 'dark', 'death', 'deep', 'deutschrock', 'deutschspr',\n",
       "       'dirty', 'disco', 'dnb', 'documentary', 'downbeat', 'downtempo',\n",
       "       'drum', 'dub', 'dubstep', 'eastern', 'easy', 'electronic',\n",
       "       'electropop', 'emo', 'entehno', 'epicmetal', 'estrada', 'ethnic',\n",
       "       'eurofolk', 'european', 'experimental', 'extrememetal', 'fado',\n",
       "       'fairytail', 'film', 'fitness', 'flamenco', 'folk', 'folklore',\n",
       "       'folkmetal', 'folkrock', 'folktronica', 'forró', 'frankreich',\n",
       "       'französisch', 'french', 'funk', 'future', 'gangsta', 'garage',\n",
       "       'german', 'ghazal', 'gitarre', 'glitch', 'gospel', 'gothic',\n",
       "       'grime', 'grunge', 'gypsy', 'handsup', \"hard'n'heavy\", 'hardcore',\n",
       "       'hardstyle', 'hardtechno', 'hiphop', 'historisch', 'holiday',\n",
       "       'horror', 'house', 'hymn', 'idm', 'independent', 'indian', 'indie',\n",
       "       'indipop', 'industrial', 'inspirational', 'instrumental',\n",
       "       'international', 'irish', 'jam', 'japanese', 'jazz', 'jewish',\n",
       "       'jpop', 'jungle', 'k-pop', 'karadeniz', 'karaoke', 'kayokyoku',\n",
       "       'korean', 'laiko', 'latin', 'latino', 'leftfield', 'local',\n",
       "       'lounge', 'loungeelectronic', 'lovers', 'malaysian', 'mandopop',\n",
       "       'marschmusik', 'meditative', 'mediterranean', 'melodic', 'metal',\n",
       "       'metalcore', 'mexican', 'middle', 'minimal', 'miscellaneous',\n",
       "       'modern', 'mood', 'mpb', 'muslim', 'native', 'neoklassik', 'neue',\n",
       "       'new', 'newage', 'newwave', 'nu', 'nujazz', 'numetal', 'oceania',\n",
       "       'old', 'opera', 'orchestral', 'other', 'piano', 'podcasts', 'pop',\n",
       "       'popdance', 'popelectronic', 'popeurodance', 'poprussian', 'post',\n",
       "       'posthardcore', 'postrock', 'power', 'progmetal', 'progressive',\n",
       "       'psychedelic', 'punjabi', 'punk', 'quebecois', 'ragga', 'ram',\n",
       "       'rancheras', 'rap', 'rave', 'reggae', 'reggaeton', 'regional',\n",
       "       'relax', 'religious', 'retro', 'rhythm', 'rnb', 'rnr', 'rock',\n",
       "       'rockabilly', 'rockalternative', 'rockindie', 'rockother',\n",
       "       'romance', 'roots', 'ruspop', 'rusrap', 'rusrock', 'russian',\n",
       "       'salsa', 'samba', 'scenic', 'schlager', 'self', 'sertanejo',\n",
       "       'shanson', 'shoegazing', 'showtunes', 'singer', 'ska', 'skarock',\n",
       "       'slow', 'smooth', 'soft', 'soul', 'soulful', 'sound', 'soundtrack',\n",
       "       'southern', 'specialty', 'speech', 'spiritual', 'sport',\n",
       "       'stonerrock', 'surf', 'swing', 'synthpop', 'synthrock',\n",
       "       'sängerportrait', 'tango', 'tanzorchester', 'taraftar', 'tatar',\n",
       "       'tech', 'techno', 'teen', 'thrash', 'top', 'traditional',\n",
       "       'tradjazz', 'trance', 'tribal', 'trip', 'triphop', 'tropical',\n",
       "       'türk', 'türkçe', 'ukrrock', 'unknown', 'urban', 'uzbek',\n",
       "       'variété', 'vi', 'videogame', 'vocal', 'western', 'world',\n",
       "       'worldbeat', 'ïîï', 'электроника'], dtype=object)"
      ]
     },
     "execution_count": 20,
     "metadata": {},
     "output_type": "execute_result"
    }
   ],
   "source": [
    "# Проверка на неявные дубликаты\n",
    "df['genre'].sort_values(ascending=True).unique() "
   ]
  },
  {
   "cell_type": "markdown",
   "metadata": {
    "id": "jz6a9-7HQUDd"
   },
   "source": [
    "**Выводы**\n",
    "\n",
    "Предобработка обнаружила три проблемы в данных:\n",
    "\n",
    "- нарушения в стиле заголовков,\n",
    "- пропущенные значения,\n",
    "- дубликаты — явные и неявные.\n",
    "\n",
    "Вы исправили заголовки, чтобы упростить работу с таблицей. Без дубликатов исследование станет более точным.\n",
    "\n",
    "Пропущенные значения вы заменили на `'unknown'`. Ещё предстоит увидеть, не повредят ли исследованию пропуски в колонке `genre`.\n",
    "\n",
    "Теперь можно перейти к проверке гипотез. "
   ]
  },
  {
   "cell_type": "markdown",
   "metadata": {
    "id": "WttZHXH0SqKk"
   },
   "source": [
    "## Проверка гипотез"
   ]
  },
  {
   "cell_type": "markdown",
   "metadata": {
    "id": "Im936VVi_Zcu"
   },
   "source": [
    "### Сравнение поведения пользователей двух столиц"
   ]
  },
  {
   "cell_type": "markdown",
   "metadata": {
    "id": "nwt_MuaL_Zcu"
   },
   "source": [
    "Первая гипотеза утверждает, что пользователи по-разному слушают музыку в Москве и Санкт-Петербурге. Проверьте это предположение по данным о трёх днях недели — понедельнике, среде и пятнице. Для этого:\n",
    "\n",
    "* Разделите пользователей Москвы и Санкт-Петербурга\n",
    "* Сравните, сколько треков послушала каждая группа пользователей в понедельник, среду и пятницу.\n"
   ]
  },
  {
   "cell_type": "markdown",
   "metadata": {
    "id": "8Dw_YMmT_Zcu"
   },
   "source": [
    "Для тренировки сначала выполните каждый из расчётов по отдельности. \n",
    "\n",
    "Оцените активность пользователей в каждом городе. Сгруппируйте данные по городу и посчитайте прослушивания в каждой группе."
   ]
  },
  {
   "cell_type": "code",
   "execution_count": 21,
   "metadata": {
    "id": "0_Qs96oh_Zcu"
   },
   "outputs": [
    {
     "data": {
      "text/plain": [
       "city\n",
       "Moscow              42741\n",
       "Saint-Petersburg    18512\n",
       "Name: genre, dtype: int64"
      ]
     },
     "execution_count": 21,
     "metadata": {},
     "output_type": "execute_result"
    }
   ],
   "source": [
    "# Подсчёт прослушиваний в каждый из городов\n",
    "df.groupby('city')['genre'].count()"
   ]
  },
  {
   "cell_type": "markdown",
   "metadata": {
    "id": "dzli3w8o_Zcu"
   },
   "source": [
    "В Москве прослушиваний больше, чем в Петербурге. Из этого не следует, что московские пользователи чаще слушают музыку. Просто самих пользователей в Москве больше.\n",
    "\n",
    "Теперь сгруппируйте данные по дню недели и подсчитайте прослушивания в понедельник, среду и пятницу. Учтите, что в данных есть информация только о прослушиваниях только за эти дни.\n"
   ]
  },
  {
   "cell_type": "code",
   "execution_count": 22,
   "metadata": {
    "id": "uZMKjiJz_Zcu"
   },
   "outputs": [
    {
     "data": {
      "text/plain": [
       "day\n",
       "Friday       21840\n",
       "Monday       21354\n",
       "Wednesday    18059\n",
       "Name: genre, dtype: int64"
      ]
     },
     "execution_count": 22,
     "metadata": {},
     "output_type": "execute_result"
    }
   ],
   "source": [
    "# Подсчёт прослушиваний в каждый из трёх дней\n",
    "df.groupby('day')['genre'].count()"
   ]
  },
  {
   "cell_type": "markdown",
   "metadata": {
    "id": "cC2tNrlL_Zcu"
   },
   "source": [
    "В среднем пользователи из двух городов менее активны по средам. Но картина может измениться, если рассмотреть каждый город в отдельности."
   ]
  },
  {
   "cell_type": "markdown",
   "metadata": {
    "id": "POzs8bGa_Zcu"
   },
   "source": [
    "Вы видели, как работает группировка по городу и по дням недели. Теперь напишите функцию, которая объединит два эти расчёта.\n",
    "\n",
    "Создайте функцию `number_tracks()`, которая посчитает прослушивания для заданного дня и города. Ей понадобятся два параметра:\n",
    "* день недели,\n",
    "* название города.\n",
    "\n",
    "В функции сохраните в переменную строки исходной таблицы, у которых значение:\n",
    "  * в колонке `day` равно параметру `day`,\n",
    "  * в колонке `city` равно параметру `city`.\n",
    "\n",
    "Для этого примените последовательную фильтрацию с логической индексацией.\n",
    "\n",
    "Затем посчитайте значения в столбце `user_id` получившейся таблицы. Результат сохраните в новую переменную. Верните эту переменную из функции."
   ]
  },
  {
   "cell_type": "code",
   "execution_count": 23,
   "metadata": {
    "id": "Nz3GdQB1_Zcu"
   },
   "outputs": [],
   "source": [
    "# <создание функции number_tracks()>\n",
    "# объявляется функция с параметрами: day, city\n",
    "# В переменной track_list_count сохраняется число значений столбца 'user_id',\n",
    "# рассчитанное методом count() для таблицы track_list.\n",
    "# функция возвращает значение track_list_count\n",
    "# Функция для подсчёта прослушиваний для конкретного города и дня.\n",
    "# С помощью последовательной фильтрации с логической индексацией она \n",
    "# сначала получит из исходной таблицы строки с нужным днём,\n",
    "# затем из результата отфильтрует строки с нужным городом,\n",
    "# методом count() посчитает количество значений в колонке user_id.\n",
    "# Это количество функция вернёт в качестве результата\n",
    "\n",
    "def number_tracks(day, city):\n",
    "    track_list = df[(df['day'] == day) & (df['city'] == city)]\n",
    "    track_list_count = track_list['user_id'].count()\n",
    "    return track_list_count\n"
   ]
  },
  {
   "cell_type": "markdown",
   "metadata": {
    "id": "ytf7xFrFJQ2r"
   },
   "source": [
    "Вызовите `number_tracks()` шесть раз, меняя значение параметров — так, чтобы получить данные для каждого города в каждый из трёх дней."
   ]
  },
  {
   "cell_type": "code",
   "execution_count": 24,
   "metadata": {
    "id": "rJcRATNQ_Zcu"
   },
   "outputs": [
    {
     "data": {
      "text/plain": [
       "15740"
      ]
     },
     "execution_count": 24,
     "metadata": {},
     "output_type": "execute_result"
    }
   ],
   "source": [
    "number_tracks('Monday' , 'Moscow') # количество прослушиваний в Москве по понедельникам"
   ]
  },
  {
   "cell_type": "code",
   "execution_count": 25,
   "metadata": {
    "id": "hq_ncZ5T_Zcu"
   },
   "outputs": [
    {
     "data": {
      "text/plain": [
       "5614"
      ]
     },
     "execution_count": 25,
     "metadata": {},
     "output_type": "execute_result"
    }
   ],
   "source": [
    "number_tracks('Monday' , 'Saint-Petersburg') # количество прослушиваний в Санкт-Петербурге по понедельникам"
   ]
  },
  {
   "cell_type": "code",
   "execution_count": 26,
   "metadata": {
    "id": "_NTy2VPU_Zcu"
   },
   "outputs": [
    {
     "data": {
      "text/plain": [
       "11056"
      ]
     },
     "execution_count": 26,
     "metadata": {},
     "output_type": "execute_result"
    }
   ],
   "source": [
    "number_tracks('Wednesday' , 'Moscow') # количество прослушиваний в Москве по средам"
   ]
  },
  {
   "cell_type": "code",
   "execution_count": 27,
   "metadata": {
    "id": "j2y3TAwo_Zcu"
   },
   "outputs": [
    {
     "data": {
      "text/plain": [
       "7003"
      ]
     },
     "execution_count": 27,
     "metadata": {},
     "output_type": "execute_result"
    }
   ],
   "source": [
    "number_tracks('Wednesday' , 'Saint-Petersburg') # количество прослушиваний в Санкт-Петербурге по средам"
   ]
  },
  {
   "cell_type": "code",
   "execution_count": 28,
   "metadata": {
    "id": "vYDw5u_K_Zcu"
   },
   "outputs": [
    {
     "data": {
      "text/plain": [
       "15945"
      ]
     },
     "execution_count": 28,
     "metadata": {},
     "output_type": "execute_result"
    }
   ],
   "source": [
    "number_tracks('Friday' , 'Moscow') # количество прослушиваний в Москве по пятницам"
   ]
  },
  {
   "cell_type": "code",
   "execution_count": 29,
   "metadata": {
    "id": "8_yzFtW3_Zcu"
   },
   "outputs": [
    {
     "data": {
      "text/plain": [
       "5895"
      ]
     },
     "execution_count": 29,
     "metadata": {},
     "output_type": "execute_result"
    }
   ],
   "source": [
    "number_tracks('Friday' , 'Saint-Petersburg') # количество прослушиваний в Санкт-Петербурге по пятницам"
   ]
  },
  {
   "cell_type": "markdown",
   "metadata": {
    "id": "7QXffbO-_Zcu"
   },
   "source": [
    "Создайте c помощью конструктора `pd.DataFrame` таблицу, где\n",
    "* названия колонок — `['city', 'monday', 'wednesday', 'friday']`;\n",
    "* данные — результаты, которые вы получили с помощью `number_tracks`."
   ]
  },
  {
   "cell_type": "code",
   "execution_count": 30,
   "metadata": {
    "id": "APAcLpOr_Zcu"
   },
   "outputs": [
    {
     "data": {
      "text/html": [
       "<div>\n",
       "<style scoped>\n",
       "    .dataframe tbody tr th:only-of-type {\n",
       "        vertical-align: middle;\n",
       "    }\n",
       "\n",
       "    .dataframe tbody tr th {\n",
       "        vertical-align: top;\n",
       "    }\n",
       "\n",
       "    .dataframe thead th {\n",
       "        text-align: right;\n",
       "    }\n",
       "</style>\n",
       "<table border=\"1\" class=\"dataframe\">\n",
       "  <thead>\n",
       "    <tr style=\"text-align: right;\">\n",
       "      <th></th>\n",
       "      <th>city</th>\n",
       "      <th>monday</th>\n",
       "      <th>wednesday</th>\n",
       "      <th>friday</th>\n",
       "    </tr>\n",
       "  </thead>\n",
       "  <tbody>\n",
       "    <tr>\n",
       "      <td>0</td>\n",
       "      <td>Moscow</td>\n",
       "      <td>15740</td>\n",
       "      <td>11056</td>\n",
       "      <td>15945</td>\n",
       "    </tr>\n",
       "    <tr>\n",
       "      <td>1</td>\n",
       "      <td>Saint-Petersburg</td>\n",
       "      <td>5614</td>\n",
       "      <td>7003</td>\n",
       "      <td>5895</td>\n",
       "    </tr>\n",
       "  </tbody>\n",
       "</table>\n",
       "</div>"
      ],
      "text/plain": [
       "               city  monday  wednesday  friday\n",
       "0            Moscow   15740      11056   15945\n",
       "1  Saint-Petersburg    5614       7003    5895"
      ]
     },
     "metadata": {},
     "output_type": "display_data"
    }
   ],
   "source": [
    "# Таблица с результатами\n",
    "data = [['Moscow', 15740, 11056, 15945],\n",
    "       ['Saint-Petersburg', 5614, 7003, 5895]]\n",
    "columns = ['city', 'monday', 'wednesday', 'friday']\n",
    "research_cities_result = pd.DataFrame(data = data, columns = columns)\n",
    "display(research_cities_result)"
   ]
  },
  {
   "cell_type": "markdown",
   "metadata": {
    "id": "-EgPIHYu_Zcu"
   },
   "source": [
    "**Выводы**\n",
    "\n",
    "Данные показывают разницу поведения пользователей:\n",
    "\n",
    "- В Москве пик прослушиваний приходится на понедельник и пятницу, а в среду заметен спад.\n",
    "- В Петербурге, наоборот, больше слушают музыку по средам. Активность в понедельник и пятницу здесь почти в равной мере уступает среде.\n",
    "\n",
    "Значит, данные говорят в пользу первой гипотезы."
   ]
  },
  {
   "cell_type": "markdown",
   "metadata": {
    "id": "atZAxtq4_Zcu"
   },
   "source": [
    "### Музыка в начале и в конце недели"
   ]
  },
  {
   "cell_type": "markdown",
   "metadata": {
    "id": "eXrQqXFH_Zcu"
   },
   "source": [
    "Согласно второй гипотезе, утром в понедельник в Москве преобладают одни жанры, а в Петербурге — другие. Так же и вечером пятницы преобладают разные жанры — в зависимости от города."
   ]
  },
  {
   "cell_type": "markdown",
   "metadata": {
    "id": "S8UcW6Hw_Zcu"
   },
   "source": [
    "Сохраните таблицы с данными в две переменные:\n",
    "* по Москве — в `moscow_general`;\n",
    "* по Санкт-Петербургу — в `spb_general`."
   ]
  },
  {
   "cell_type": "code",
   "execution_count": 31,
   "metadata": {
    "id": "qeaFfM_P_Zcu"
   },
   "outputs": [],
   "source": [
    "# получение таблицы moscow_general из тех строк таблицы df, \n",
    "# для которых значение в столбце 'city' равно 'Moscow'\n",
    "moscow_general = df[df['city'] == 'Moscow']\n"
   ]
  },
  {
   "cell_type": "code",
   "execution_count": 32,
   "metadata": {
    "id": "ORaVRKto_Zcu"
   },
   "outputs": [],
   "source": [
    "# получение таблицы spb_general из тех строк таблицы df,\n",
    "# для которых значение в столбце 'city' равно 'Saint-Petersburg'\n",
    "spb_general = df[df['city'] == 'Saint-Petersburg']\n"
   ]
  },
  {
   "cell_type": "markdown",
   "metadata": {
    "id": "MEJV-CX2_Zcu"
   },
   "source": [
    "Создайте функцию `genre_weekday()` с четырьмя параметрами:\n",
    "* таблица (датафрейм) с данными,\n",
    "* день недели,\n",
    "* начальная временная метка в формате 'hh:mm', \n",
    "* последняя временная метка в формате 'hh:mm'.\n",
    "\n",
    "Функция должна вернуть информацию о топ-10 жанров тех треков, которые прослушивали в указанный день, в промежутке между двумя отметками времени."
   ]
  },
  {
   "cell_type": "code",
   "execution_count": 33,
   "metadata": {
    "id": "laJT9BYl_Zcu"
   },
   "outputs": [],
   "source": [
    "# Объявление функции genre_weekday() с параметрами table, day, time1, time2,\n",
    "# которая возвращает информацию о самых популярных жанрах в указанный день в\n",
    "# заданное время:\n",
    "# 1) в переменную genre_df сохраняются те строки переданного датафрейма table, для\n",
    "#    которых одновременно:\n",
    "#    - значение в столбце day равно значению аргумента day\n",
    "#    - значение в столбце time больше значения аргумента time1\n",
    "#    - значение в столбце time меньше значения аргумента time2\n",
    "#    Используйте последовательную фильтрацию с помощью логической индексации.\n",
    "# 2) сгруппировать датафрейм genre_df по столбцу genre, взять один из его\n",
    "#    столбцов и посчитать методом count() количество записей для каждого из\n",
    "#    присутствующих жанров, получившийся Series записать в переменную\n",
    "#    genre_df_count\n",
    "# 3) отсортировать genre_df_count по убыванию встречаемости и сохранить\n",
    "#    в переменную genre_df_sorted\n",
    "# 4) вернуть Series из 10 первых значений genre_df_sorted, это будут топ-10\n",
    "#    популярных жанров (в указанный день, в заданное время)\n",
    "\n",
    "def genre_weekday(table, day, time1, time2):    \n",
    "    genre_df = table[(table['day'] == day) & (table['time'] > time1) & (table['time'] < time2)]\n",
    "    genre_df_count = genre_df.groupby('genre')['genre'].count()\n",
    "    genre_df_sorted = genre_df_count.sort_values(ascending=False)\n",
    "    return genre_df_sorted.head(10)\n"
   ]
  },
  {
   "cell_type": "markdown",
   "metadata": {
    "id": "la2s2_PF_Zcu"
   },
   "source": [
    "Cравните результаты функции `genre_weekday()` для Москвы и Санкт-Петербурга в понедельник утром (с 7:00 до 11:00) и в пятницу вечером (с 17:00 до 23:00):"
   ]
  },
  {
   "cell_type": "code",
   "execution_count": 34,
   "metadata": {
    "id": "yz7itPUQ_Zcu"
   },
   "outputs": [
    {
     "data": {
      "text/plain": [
       "genre\n",
       "pop            781\n",
       "dance          549\n",
       "electronic     480\n",
       "rock           474\n",
       "hiphop         286\n",
       "ruspop         186\n",
       "world          181\n",
       "rusrap         175\n",
       "alternative    164\n",
       "unknown        161\n",
       "Name: genre, dtype: int64"
      ]
     },
     "execution_count": 34,
     "metadata": {},
     "output_type": "execute_result"
    }
   ],
   "source": [
    "# вызов функции для утра понедельника в Москве (вместо df — таблица moscow_general)\n",
    "# объекты, хранящие время, являются строками и сравниваются как строки\n",
    "# пример вызова: genre_weekday(moscow_general, 'Monday', '07:00', '11:00')\n",
    "genre_weekday(moscow_general, 'Monday', '07:00', '11:00')"
   ]
  },
  {
   "cell_type": "code",
   "execution_count": 35,
   "metadata": {
    "id": "kwUcHPdy_Zcu"
   },
   "outputs": [
    {
     "data": {
      "text/plain": [
       "genre\n",
       "pop            218\n",
       "dance          182\n",
       "rock           162\n",
       "electronic     147\n",
       "hiphop          80\n",
       "ruspop          64\n",
       "alternative     58\n",
       "rusrap          55\n",
       "jazz            44\n",
       "classical       40\n",
       "Name: genre, dtype: int64"
      ]
     },
     "execution_count": 35,
     "metadata": {},
     "output_type": "execute_result"
    }
   ],
   "source": [
    "# вызов функции для утра понедельника в Петербурге (вместо df — таблица spb_general)\n",
    "genre_weekday(spb_general, 'Monday', '07:00', '11:00')"
   ]
  },
  {
   "cell_type": "code",
   "execution_count": 36,
   "metadata": {
    "id": "EzXVRE1o_Zcu"
   },
   "outputs": [
    {
     "data": {
      "text/plain": [
       "genre\n",
       "pop            713\n",
       "rock           517\n",
       "dance          495\n",
       "electronic     482\n",
       "hiphop         273\n",
       "world          208\n",
       "ruspop         170\n",
       "alternative    163\n",
       "classical      163\n",
       "rusrap         142\n",
       "Name: genre, dtype: int64"
      ]
     },
     "execution_count": 36,
     "metadata": {},
     "output_type": "execute_result"
    }
   ],
   "source": [
    "# вызов функции для вечера пятницы в Москве\n",
    "genre_weekday(moscow_general, 'Friday', '17:00', '23:00')"
   ]
  },
  {
   "cell_type": "code",
   "execution_count": 37,
   "metadata": {
    "id": "JZaEKu5v_Zcu"
   },
   "outputs": [
    {
     "data": {
      "text/plain": [
       "genre\n",
       "pop            256\n",
       "rock           216\n",
       "electronic     216\n",
       "dance          210\n",
       "hiphop          97\n",
       "alternative     63\n",
       "jazz            61\n",
       "classical       60\n",
       "rusrap          59\n",
       "world           54\n",
       "Name: genre, dtype: int64"
      ]
     },
     "execution_count": 37,
     "metadata": {},
     "output_type": "execute_result"
    }
   ],
   "source": [
    "# вызов функции для вечера пятницы в Петербурге\n",
    "genre_weekday(spb_general, 'Friday', '17:00', '23:00')"
   ]
  },
  {
   "cell_type": "markdown",
   "metadata": {
    "id": "wrCe4MNX_Zcu"
   },
   "source": [
    "**Выводы**\n",
    "\n",
    "Если сравнить топ-10 жанров в понедельник утром, можно сделать такие выводы:\n",
    "\n",
    "1. В Москве и Петербурге слушают похожую музыку. Единственное отличие — в московский рейтинг вошёл жанр “world”, а в петербургский — джаз и классика.\n",
    "\n",
    "2. В Москве пропущенных значений оказалось так много, что значение `'unknown'` заняло десятое место среди самых популярных жанров. Значит, пропущенные значения занимают существенную долю в данных и угрожают достоверности исследования.\n",
    "\n",
    "Вечер пятницы не меняет эту картину. Некоторые жанры поднимаются немного выше, другие спускаются, но в целом топ-10 остаётся тем же самым.\n",
    "\n",
    "Таким образом, вторая гипотеза подтвердилась лишь частично:\n",
    "* Пользователи слушают похожую музыку в начале недели и в конце.\n",
    "* Разница между Москвой и Петербургом не слишком выражена. В Москве чаще слушают русскую популярную музыку, в Петербурге — джаз.\n",
    "\n",
    "Однако пропуски в данных ставят под сомнение этот результат. В Москве их так много, что рейтинг топ-10 мог бы выглядеть иначе, если бы не утерянные  данные о жанрах."
   ]
  },
  {
   "cell_type": "markdown",
   "metadata": {
    "id": "JolODAqr_Zcu"
   },
   "source": [
    "### Жанровые предпочтения в Москве и Петербурге\n",
    "\n",
    "Гипотеза: Петербург — столица рэпа, музыку этого жанра там слушают чаще, чем в Москве.  А Москва — город контрастов, в котором, тем не менее, преобладает поп-музыка."
   ]
  },
  {
   "cell_type": "markdown",
   "metadata": {
    "id": "DlegSvaT_Zcu"
   },
   "source": [
    "Сгруппируйте таблицу `moscow_general` по жанру и посчитайте прослушивания треков каждого жанра методом `count()`. Затем отсортируйте результат в порядке убывания и сохраните его в таблице `moscow_genres`."
   ]
  },
  {
   "cell_type": "code",
   "execution_count": 38,
   "metadata": {
    "id": "r19lIPke_Zcu"
   },
   "outputs": [],
   "source": [
    "# одной строкой: группировка таблицы moscow_general по столбцу 'genre',\n",
    "# подсчёт числа значений 'genre' в этой группировке методом count(), \n",
    "# сортировка получившегося Series в порядке убывания и сохранение в moscow_genres\n",
    "\n",
    "moscow_genres = moscow_general.groupby('genre')['genre'].count().sort_values(ascending = False)"
   ]
  },
  {
   "cell_type": "markdown",
   "metadata": {
    "id": "6kMuomxTiIr8"
   },
   "source": [
    "Выведите на экран первые десять строк `moscow_genres`:"
   ]
  },
  {
   "cell_type": "code",
   "execution_count": 39,
   "metadata": {
    "id": "WhCSooF8_Zcv"
   },
   "outputs": [
    {
     "data": {
      "text/plain": [
       "genre\n",
       "pop            5892\n",
       "dance          4435\n",
       "rock           3965\n",
       "electronic     3786\n",
       "hiphop         2096\n",
       "classical      1616\n",
       "world          1432\n",
       "alternative    1379\n",
       "ruspop         1372\n",
       "rusrap         1161\n",
       "Name: genre, dtype: int64"
      ]
     },
     "metadata": {},
     "output_type": "display_data"
    }
   ],
   "source": [
    "# просмотр первых 10 строк moscow_genres\n",
    "\n",
    "display(moscow_genres.head(10))"
   ]
  },
  {
   "cell_type": "markdown",
   "metadata": {
    "id": "cnPG2vnN_Zcv"
   },
   "source": [
    "Теперь повторите то же и для Петербурга.\n",
    "\n",
    "Сгруппируйте таблицу `spb_general` по жанру. Посчитайте прослушивания треков каждого жанра. Результат отсортируйте в порядке убывания и сохраните в таблице `spb_genres`:\n"
   ]
  },
  {
   "cell_type": "code",
   "execution_count": 40,
   "metadata": {
    "id": "gluLIpE7_Zcv"
   },
   "outputs": [],
   "source": [
    "# одной строкой: группировка таблицы spb_general по столбцу 'genre', \n",
    "# подсчёт числа значений 'genre' в этой группировке методом count(), \n",
    "# сортировка получившегося Series в порядке убывания и сохранение в spb_genres\n",
    "\n",
    "spb_genres = spb_general.groupby('genre')['genre'].count().sort_values(ascending = False)"
   ]
  },
  {
   "cell_type": "markdown",
   "metadata": {
    "id": "5Doha_ODgyQ8"
   },
   "source": [
    "Выведите на экран первые десять строк `spb_genres`:"
   ]
  },
  {
   "cell_type": "code",
   "execution_count": 41,
   "metadata": {
    "id": "uaGJHjVU_Zcv"
   },
   "outputs": [
    {
     "data": {
      "text/plain": [
       "genre\n",
       "pop            2431\n",
       "dance          1932\n",
       "rock           1879\n",
       "electronic     1736\n",
       "hiphop          960\n",
       "alternative     649\n",
       "classical       646\n",
       "rusrap          564\n",
       "ruspop          538\n",
       "world           515\n",
       "Name: genre, dtype: int64"
      ]
     },
     "metadata": {},
     "output_type": "display_data"
    }
   ],
   "source": [
    "# просмотр первых 10 строк spb_genres\n",
    "\n",
    "display(spb_genres.head(10))"
   ]
  },
  {
   "cell_type": "markdown",
   "metadata": {
    "id": "RY51YJYu_Zcv"
   },
   "source": [
    "**Выводы**"
   ]
  },
  {
   "cell_type": "markdown",
   "metadata": {
    "id": "nVhnJEm__Zcv"
   },
   "source": [
    "Гипотеза частично подтвердилась:\n",
    "* Поп-музыка — самый популярный жанр в Москве, как и предполагала гипотеза. Более того, в топ-10 жанров встречается близкий жанр — русская популярная музыка.\n",
    "* Вопреки ожиданиям, рэп одинаково популярен в Москве и Петербурге. \n"
   ]
  },
  {
   "cell_type": "markdown",
   "metadata": {
    "id": "ykKQ0N65_Zcv"
   },
   "source": [
    "## Итоги исследования"
   ]
  },
  {
   "cell_type": "markdown",
   "metadata": {
    "id": "tjUwbHb3_Zcv"
   },
   "source": [
    "Вы проверили три гипотезы и установили:\n",
    "\n",
    "1. День недели по-разному влияет на активность пользователей в Москве и Петербурге. \n",
    "\n",
    "Первая гипотеза полностью подтвердилась.\n",
    "\n",
    "2. Музыкальные предпочтения не сильно меняются в течение недели — будь то Москва или Петербург. Небольшие различия заметны в начале недели, по понедельникам:\n",
    "* в Москве слушают музыку жанра “world”,\n",
    "* в Петербурге — джаз и классику.\n",
    "\n",
    "Таким образом, вторая гипотеза подтвердилась лишь отчасти. Этот результат мог оказаться иным, если бы не пропуски в данных.\n",
    "\n",
    "3. Во вкусах пользователей Москвы и Петербурга больше общего чем различий. Вопреки ожиданиям, предпочтения жанров в Петербурге напоминают московские.\n",
    "\n",
    "Третья гипотеза не подтвердилась. Если различия в предпочтениях и существуют, на основной массе пользователей они незаметны.\n",
    "\n",
    "**На практике исследования содержат проверки статистических гипотез.**\n",
    "Из данных одного сервиса не всегда можно сделать вывод о всех жителях города.\n",
    "Проверки статистических гипотез покажут, насколько они достоверны, исходя из имеющихся данных. \n",
    "С методами проверок гипотез вы ещё познакомитесь в следующих темах."
   ]
  },
  {
   "cell_type": "code",
   "execution_count": null,
   "metadata": {},
   "outputs": [],
   "source": []
  }
 ],
 "metadata": {
  "ExecuteTimeLog": [
   {
    "duration": 609,
    "start_time": "2021-11-28T10:56:11.627Z"
   },
   {
    "duration": 2131,
    "start_time": "2021-11-28T10:56:59.348Z"
   },
   {
    "duration": 2339,
    "start_time": "2021-11-28T10:57:01.639Z"
   },
   {
    "duration": 130,
    "start_time": "2021-11-28T10:57:47.774Z"
   },
   {
    "duration": 18,
    "start_time": "2021-11-28T10:58:26.528Z"
   },
   {
    "duration": 26,
    "start_time": "2021-11-28T10:59:14.816Z"
   },
   {
    "duration": 4,
    "start_time": "2021-11-28T11:03:54.979Z"
   },
   {
    "duration": 20,
    "start_time": "2021-11-28T11:07:24.569Z"
   },
   {
    "duration": 3,
    "start_time": "2021-11-28T11:07:56.176Z"
   },
   {
    "duration": 23,
    "start_time": "2021-11-28T11:10:23.680Z"
   },
   {
    "duration": 276,
    "start_time": "2021-11-28T11:16:42.388Z"
   },
   {
    "duration": 343,
    "start_time": "2021-11-28T11:17:40.245Z"
   },
   {
    "duration": 20,
    "start_time": "2021-11-28T11:18:27.377Z"
   },
   {
    "duration": 23,
    "start_time": "2021-11-28T11:18:42.568Z"
   },
   {
    "duration": 60,
    "start_time": "2021-11-28T11:21:13.547Z"
   },
   {
    "duration": 75,
    "start_time": "2021-11-28T11:23:30.079Z"
   },
   {
    "duration": 65,
    "start_time": "2021-11-28T11:23:33.638Z"
   },
   {
    "duration": 46,
    "start_time": "2021-11-28T11:24:10.127Z"
   },
   {
    "duration": 8,
    "start_time": "2021-11-28T11:26:19.033Z"
   },
   {
    "duration": 310,
    "start_time": "2021-11-28T11:37:03.933Z"
   },
   {
    "duration": 303,
    "start_time": "2021-11-28T11:37:55.112Z"
   },
   {
    "duration": 46,
    "start_time": "2021-11-28T11:38:05.496Z"
   },
   {
    "duration": 41,
    "start_time": "2021-11-28T11:38:49.056Z"
   },
   {
    "duration": 3,
    "start_time": "2021-11-28T11:45:11.422Z"
   },
   {
    "duration": 561,
    "start_time": "2021-11-28T11:47:09.322Z"
   },
   {
    "duration": 3,
    "start_time": "2021-11-28T11:47:59.780Z"
   },
   {
    "duration": 540,
    "start_time": "2021-11-28T11:48:08.932Z"
   },
   {
    "duration": 3,
    "start_time": "2021-11-28T11:50:05.487Z"
   },
   {
    "duration": 7,
    "start_time": "2021-11-28T11:50:08.871Z"
   },
   {
    "duration": 3,
    "start_time": "2021-11-28T11:50:13.015Z"
   },
   {
    "duration": 8,
    "start_time": "2021-11-28T11:50:53.287Z"
   },
   {
    "duration": 335,
    "start_time": "2021-11-28T12:19:46.767Z"
   },
   {
    "duration": 271,
    "start_time": "2021-11-28T12:21:02.698Z"
   },
   {
    "duration": 307,
    "start_time": "2021-11-28T12:26:42.378Z"
   },
   {
    "duration": 300,
    "start_time": "2021-11-28T12:28:13.566Z"
   },
   {
    "duration": 298,
    "start_time": "2021-11-28T12:32:51.929Z"
   },
   {
    "duration": 355,
    "start_time": "2021-11-28T12:33:08.362Z"
   },
   {
    "duration": 272,
    "start_time": "2021-11-28T12:39:42.543Z"
   },
   {
    "duration": 257,
    "start_time": "2021-11-28T12:40:08.658Z"
   },
   {
    "duration": 12,
    "start_time": "2021-11-28T12:40:59.587Z"
   },
   {
    "duration": 4,
    "start_time": "2021-11-28T12:41:14.387Z"
   },
   {
    "duration": 6,
    "start_time": "2021-11-28T12:41:42.160Z"
   },
   {
    "duration": 377,
    "start_time": "2021-11-28T12:41:57.364Z"
   },
   {
    "duration": 11,
    "start_time": "2021-11-28T12:43:43.502Z"
   },
   {
    "duration": 22,
    "start_time": "2021-11-28T12:43:59.784Z"
   },
   {
    "duration": 279,
    "start_time": "2021-11-28T12:48:06.986Z"
   },
   {
    "duration": 40,
    "start_time": "2021-11-28T12:48:18.572Z"
   },
   {
    "duration": 22,
    "start_time": "2021-11-28T12:48:57.754Z"
   },
   {
    "duration": 34,
    "start_time": "2021-11-28T12:50:04.519Z"
   },
   {
    "duration": 30,
    "start_time": "2021-11-28T12:59:08.747Z"
   },
   {
    "duration": 11,
    "start_time": "2021-11-28T13:00:50.204Z"
   },
   {
    "duration": 89,
    "start_time": "2021-11-28T13:01:31.223Z"
   },
   {
    "duration": 22,
    "start_time": "2021-11-28T13:01:37.478Z"
   },
   {
    "duration": 23,
    "start_time": "2021-11-28T13:01:50.301Z"
   },
   {
    "duration": 111,
    "start_time": "2021-11-28T13:07:05.389Z"
   },
   {
    "duration": 32,
    "start_time": "2021-11-28T13:07:13.542Z"
   },
   {
    "duration": 34,
    "start_time": "2021-11-28T13:07:30.440Z"
   },
   {
    "duration": 33,
    "start_time": "2021-11-28T13:07:46.944Z"
   },
   {
    "duration": 40,
    "start_time": "2021-11-28T13:14:50.718Z"
   },
   {
    "duration": 7,
    "start_time": "2021-11-28T13:36:34.693Z"
   },
   {
    "duration": 36,
    "start_time": "2021-11-28T13:38:10.256Z"
   },
   {
    "duration": 41,
    "start_time": "2021-11-28T13:38:13.393Z"
   },
   {
    "duration": 331,
    "start_time": "2021-11-28T13:43:17.997Z"
   },
   {
    "duration": 348,
    "start_time": "2021-11-28T13:50:40.546Z"
   },
   {
    "duration": 268,
    "start_time": "2021-11-28T13:52:02.449Z"
   },
   {
    "duration": 272,
    "start_time": "2021-11-28T13:52:18.226Z"
   },
   {
    "duration": 260,
    "start_time": "2021-11-28T13:52:55.107Z"
   },
   {
    "duration": 646,
    "start_time": "2021-11-28T13:58:58.731Z"
   },
   {
    "duration": 322,
    "start_time": "2021-11-28T13:59:04.156Z"
   },
   {
    "duration": 634,
    "start_time": "2021-11-28T14:01:44.198Z"
   },
   {
    "duration": 320,
    "start_time": "2021-11-28T14:08:05.111Z"
   },
   {
    "duration": 263,
    "start_time": "2021-11-28T14:08:07.170Z"
   },
   {
    "duration": 4,
    "start_time": "2021-11-28T14:09:14.899Z"
   },
   {
    "duration": 4,
    "start_time": "2021-11-28T14:09:18.379Z"
   },
   {
    "duration": 260,
    "start_time": "2021-11-28T14:09:36.467Z"
   },
   {
    "duration": 264,
    "start_time": "2021-11-28T14:10:00.589Z"
   },
   {
    "duration": 529,
    "start_time": "2021-11-28T14:11:22.262Z"
   },
   {
    "duration": 536,
    "start_time": "2021-11-28T14:13:04.920Z"
   },
   {
    "duration": 91,
    "start_time": "2021-11-28T14:16:51.125Z"
   },
   {
    "duration": 124,
    "start_time": "2021-11-28T14:17:27.501Z"
   },
   {
    "duration": 7305,
    "start_time": "2021-11-28T14:17:47.576Z"
   },
   {
    "duration": 4,
    "start_time": "2021-11-28T14:18:53.719Z"
   },
   {
    "duration": 3,
    "start_time": "2021-11-28T14:18:56.879Z"
   },
   {
    "duration": 3,
    "start_time": "2021-11-28T14:19:08.903Z"
   },
   {
    "duration": 321,
    "start_time": "2021-11-28T14:19:28.304Z"
   },
   {
    "duration": 138,
    "start_time": "2021-11-28T14:24:33.942Z"
   },
   {
    "duration": 275,
    "start_time": "2021-11-28T14:25:35.922Z"
   },
   {
    "duration": 11,
    "start_time": "2021-11-28T14:26:10.645Z"
   },
   {
    "duration": 266,
    "start_time": "2021-11-28T14:27:33.178Z"
   },
   {
    "duration": 613,
    "start_time": "2021-11-28T14:27:40.761Z"
   },
   {
    "duration": 11,
    "start_time": "2021-11-28T14:27:49.874Z"
   },
   {
    "duration": 94,
    "start_time": "2021-11-28T14:29:40.268Z"
   },
   {
    "duration": 448,
    "start_time": "2021-11-28T14:29:54.061Z"
   },
   {
    "duration": 105,
    "start_time": "2021-11-28T14:30:06.077Z"
   },
   {
    "duration": 349,
    "start_time": "2021-11-28T14:30:27.805Z"
   },
   {
    "duration": 65,
    "start_time": "2021-11-28T14:31:11.846Z"
   },
   {
    "duration": 65,
    "start_time": "2021-11-28T14:34:04.208Z"
   },
   {
    "duration": 23,
    "start_time": "2021-11-28T14:40:39.806Z"
   },
   {
    "duration": 15,
    "start_time": "2021-11-28T14:43:17.676Z"
   },
   {
    "duration": 16,
    "start_time": "2021-11-28T14:43:52.357Z"
   },
   {
    "duration": 16,
    "start_time": "2021-11-28T14:44:16.605Z"
   },
   {
    "duration": 25,
    "start_time": "2021-11-28T14:44:48.943Z"
   },
   {
    "duration": 19,
    "start_time": "2021-11-28T14:45:27.404Z"
   },
   {
    "duration": 273,
    "start_time": "2021-11-28T14:47:26.801Z"
   },
   {
    "duration": 91,
    "start_time": "2021-11-28T14:48:03.451Z"
   },
   {
    "duration": 4,
    "start_time": "2021-11-28T14:48:18.298Z"
   },
   {
    "duration": 3,
    "start_time": "2021-11-28T14:48:22.530Z"
   },
   {
    "duration": 426,
    "start_time": "2021-11-28T14:48:52.779Z"
   },
   {
    "duration": 271,
    "start_time": "2021-11-28T14:49:48.919Z"
   },
   {
    "duration": 562,
    "start_time": "2021-11-28T14:50:19.998Z"
   },
   {
    "duration": 1083,
    "start_time": "2021-11-28T14:50:23.773Z"
   },
   {
    "duration": 546,
    "start_time": "2021-11-28T14:51:29.552Z"
   },
   {
    "duration": 268,
    "start_time": "2021-11-28T14:51:40.543Z"
   },
   {
    "duration": 92,
    "start_time": "2021-11-28T14:53:12.320Z"
   },
   {
    "duration": 311,
    "start_time": "2021-11-28T14:53:29.712Z"
   },
   {
    "duration": 614,
    "start_time": "2021-11-28T15:18:04.667Z"
   },
   {
    "duration": 264,
    "start_time": "2021-11-28T15:18:21.187Z"
   },
   {
    "duration": 266,
    "start_time": "2021-11-28T15:18:56.236Z"
   },
   {
    "duration": 785,
    "start_time": "2021-11-28T15:20:15.934Z"
   },
   {
    "duration": 255,
    "start_time": "2021-11-28T15:21:48.448Z"
   },
   {
    "duration": 4,
    "start_time": "2021-11-28T15:23:04.490Z"
   },
   {
    "duration": 7558,
    "start_time": "2021-11-28T15:23:08.369Z"
   },
   {
    "duration": 3,
    "start_time": "2021-11-28T15:23:38.987Z"
   },
   {
    "duration": 652,
    "start_time": "2021-11-28T15:23:42.386Z"
   },
   {
    "duration": 3,
    "start_time": "2021-11-28T15:23:55.029Z"
   },
   {
    "duration": 677,
    "start_time": "2021-11-28T15:23:59.402Z"
   },
   {
    "duration": 86,
    "start_time": "2021-11-28T15:24:50.212Z"
   },
   {
    "duration": 3,
    "start_time": "2021-11-28T15:25:06.012Z"
   },
   {
    "duration": 15,
    "start_time": "2021-11-28T15:25:09.356Z"
   },
   {
    "duration": 14,
    "start_time": "2021-11-28T15:25:12.715Z"
   },
   {
    "duration": 3,
    "start_time": "2021-11-28T15:25:17.524Z"
   },
   {
    "duration": 6,
    "start_time": "2021-11-28T15:37:27.157Z"
   },
   {
    "duration": 9,
    "start_time": "2021-11-28T15:37:58.149Z"
   },
   {
    "duration": 8,
    "start_time": "2021-11-28T15:38:51.276Z"
   },
   {
    "duration": 310,
    "start_time": "2021-11-29T07:51:56.403Z"
   },
   {
    "duration": 273,
    "start_time": "2021-11-29T07:52:58.296Z"
   },
   {
    "duration": 316,
    "start_time": "2021-11-29T07:53:09.252Z"
   },
   {
    "duration": 271,
    "start_time": "2021-11-29T07:53:52.829Z"
   },
   {
    "duration": 339,
    "start_time": "2021-11-29T07:53:58.715Z"
   },
   {
    "duration": 262,
    "start_time": "2021-11-29T07:54:52.026Z"
   },
   {
    "duration": 382,
    "start_time": "2021-11-29T07:57:53.184Z"
   },
   {
    "duration": 539,
    "start_time": "2021-11-29T07:58:09.183Z"
   },
   {
    "duration": 136,
    "start_time": "2021-11-29T07:58:11.936Z"
   },
   {
    "duration": 16,
    "start_time": "2021-11-29T07:58:15.469Z"
   },
   {
    "duration": 24,
    "start_time": "2021-11-29T07:58:19.324Z"
   },
   {
    "duration": 4,
    "start_time": "2021-11-29T07:58:24.234Z"
   },
   {
    "duration": 20,
    "start_time": "2021-11-29T07:58:28.755Z"
   },
   {
    "duration": 4,
    "start_time": "2021-11-29T07:58:32.129Z"
   },
   {
    "duration": 24,
    "start_time": "2021-11-29T07:58:35.066Z"
   },
   {
    "duration": 19,
    "start_time": "2021-11-29T07:58:37.678Z"
   },
   {
    "duration": 22,
    "start_time": "2021-11-29T07:58:40.015Z"
   },
   {
    "duration": 56,
    "start_time": "2021-11-29T07:58:42.717Z"
   },
   {
    "duration": 67,
    "start_time": "2021-11-29T07:58:44.902Z"
   },
   {
    "duration": 51,
    "start_time": "2021-11-29T07:58:46.874Z"
   },
   {
    "duration": 46,
    "start_time": "2021-11-29T07:58:48.978Z"
   },
   {
    "duration": 297,
    "start_time": "2021-11-29T07:58:52.362Z"
   },
   {
    "duration": 3,
    "start_time": "2021-11-29T07:59:06.600Z"
   },
   {
    "duration": 6,
    "start_time": "2021-11-29T07:59:10.962Z"
   },
   {
    "duration": 7,
    "start_time": "2021-11-29T07:59:36.947Z"
   },
   {
    "duration": 7,
    "start_time": "2021-11-29T07:59:41.868Z"
   },
   {
    "duration": 3,
    "start_time": "2021-11-29T07:59:43.799Z"
   },
   {
    "duration": 5,
    "start_time": "2021-11-29T07:59:46.300Z"
   },
   {
    "duration": 10,
    "start_time": "2021-11-29T07:59:59.736Z"
   },
   {
    "duration": 10,
    "start_time": "2021-11-29T08:00:02.997Z"
   },
   {
    "duration": 4,
    "start_time": "2021-11-29T08:00:05.995Z"
   },
   {
    "duration": 16,
    "start_time": "2021-11-29T08:00:09.348Z"
   },
   {
    "duration": 14,
    "start_time": "2021-11-29T08:00:12.671Z"
   },
   {
    "duration": 15,
    "start_time": "2021-11-29T08:00:17.530Z"
   },
   {
    "duration": 14,
    "start_time": "2021-11-29T08:01:22.255Z"
   },
   {
    "duration": 17,
    "start_time": "2021-11-29T08:01:24.389Z"
   },
   {
    "duration": 14,
    "start_time": "2021-11-29T08:01:26.859Z"
   },
   {
    "duration": 8,
    "start_time": "2021-11-29T08:01:29.252Z"
   },
   {
    "duration": 11,
    "start_time": "2021-11-29T08:01:40.489Z"
   },
   {
    "duration": 18,
    "start_time": "2021-11-29T08:01:44.177Z"
   },
   {
    "duration": 17,
    "start_time": "2021-11-29T08:01:53.141Z"
   },
   {
    "duration": 3,
    "start_time": "2021-11-29T08:08:33.350Z"
   },
   {
    "duration": 97,
    "start_time": "2021-11-29T08:09:31.600Z"
   },
   {
    "duration": 3,
    "start_time": "2021-11-29T08:09:45.853Z"
   },
   {
    "duration": 10,
    "start_time": "2021-11-29T08:11:41.662Z"
   },
   {
    "duration": 11,
    "start_time": "2021-11-29T08:11:56.322Z"
   },
   {
    "duration": 320,
    "start_time": "2021-11-29T08:12:29.960Z"
   },
   {
    "duration": 3,
    "start_time": "2021-11-29T08:13:21.441Z"
   },
   {
    "duration": 4,
    "start_time": "2021-11-29T08:13:24.847Z"
   },
   {
    "duration": 286,
    "start_time": "2021-11-29T08:13:31.037Z"
   },
   {
    "duration": 10,
    "start_time": "2021-11-29T08:13:36.648Z"
   },
   {
    "duration": 3,
    "start_time": "2021-11-29T08:14:14.312Z"
   },
   {
    "duration": 4,
    "start_time": "2021-11-29T08:14:18.439Z"
   },
   {
    "duration": 4,
    "start_time": "2021-11-29T08:14:21.339Z"
   },
   {
    "duration": 4,
    "start_time": "2021-11-29T08:14:23.733Z"
   },
   {
    "duration": 14,
    "start_time": "2021-11-29T08:14:34.226Z"
   },
   {
    "duration": 10,
    "start_time": "2021-11-29T08:14:36.104Z"
   },
   {
    "duration": 13,
    "start_time": "2021-11-29T08:14:39.156Z"
   },
   {
    "duration": 11,
    "start_time": "2021-11-29T08:14:41.188Z"
   },
   {
    "duration": 2,
    "start_time": "2021-11-29T08:14:51.749Z"
   },
   {
    "duration": 139,
    "start_time": "2021-11-29T08:14:54.340Z"
   },
   {
    "duration": 9,
    "start_time": "2021-11-29T08:14:56.363Z"
   },
   {
    "duration": 22,
    "start_time": "2021-11-29T08:14:59.525Z"
   },
   {
    "duration": 4,
    "start_time": "2021-11-29T08:15:04.463Z"
   },
   {
    "duration": 17,
    "start_time": "2021-11-29T08:15:07.419Z"
   },
   {
    "duration": 5,
    "start_time": "2021-11-29T08:15:10.246Z"
   },
   {
    "duration": 22,
    "start_time": "2021-11-29T08:15:12.888Z"
   },
   {
    "duration": 22,
    "start_time": "2021-11-29T08:15:16.775Z"
   },
   {
    "duration": 22,
    "start_time": "2021-11-29T08:15:19.085Z"
   },
   {
    "duration": 55,
    "start_time": "2021-11-29T08:15:21.625Z"
   },
   {
    "duration": 61,
    "start_time": "2021-11-29T08:15:23.820Z"
   },
   {
    "duration": 50,
    "start_time": "2021-11-29T08:15:26.026Z"
   },
   {
    "duration": 48,
    "start_time": "2021-11-29T08:15:28.617Z"
   },
   {
    "duration": 7,
    "start_time": "2021-11-29T08:15:32.400Z"
   },
   {
    "duration": 3,
    "start_time": "2021-11-29T08:15:34.715Z"
   },
   {
    "duration": 6,
    "start_time": "2021-11-29T08:15:36.964Z"
   },
   {
    "duration": 11,
    "start_time": "2021-11-29T08:15:40.842Z"
   },
   {
    "duration": 11,
    "start_time": "2021-11-29T08:15:43.597Z"
   },
   {
    "duration": 3,
    "start_time": "2021-11-29T08:15:50.720Z"
   },
   {
    "duration": 17,
    "start_time": "2021-11-29T08:15:55.963Z"
   },
   {
    "duration": 15,
    "start_time": "2021-11-29T08:15:59.071Z"
   },
   {
    "duration": 16,
    "start_time": "2021-11-29T08:16:01.267Z"
   },
   {
    "duration": 14,
    "start_time": "2021-11-29T08:16:03.276Z"
   },
   {
    "duration": 17,
    "start_time": "2021-11-29T08:16:04.871Z"
   },
   {
    "duration": 14,
    "start_time": "2021-11-29T08:16:06.741Z"
   },
   {
    "duration": 8,
    "start_time": "2021-11-29T08:16:08.572Z"
   },
   {
    "duration": 17,
    "start_time": "2021-11-29T08:16:11.733Z"
   },
   {
    "duration": 14,
    "start_time": "2021-11-29T08:16:16.243Z"
   },
   {
    "duration": 4,
    "start_time": "2021-11-29T08:16:30.162Z"
   },
   {
    "duration": 3,
    "start_time": "2021-11-29T08:16:35.480Z"
   },
   {
    "duration": 4,
    "start_time": "2021-11-29T08:21:13.310Z"
   },
   {
    "duration": 4,
    "start_time": "2021-11-29T08:21:19.157Z"
   },
   {
    "duration": 3,
    "start_time": "2021-11-29T08:22:05.554Z"
   },
   {
    "duration": 4,
    "start_time": "2021-11-29T08:22:07.932Z"
   },
   {
    "duration": 4,
    "start_time": "2021-11-29T08:22:17.966Z"
   },
   {
    "duration": 4,
    "start_time": "2021-11-29T08:22:20.567Z"
   },
   {
    "duration": 4,
    "start_time": "2021-11-29T08:24:00.664Z"
   },
   {
    "duration": 3,
    "start_time": "2021-11-29T08:24:04.674Z"
   },
   {
    "duration": 3,
    "start_time": "2021-11-29T08:24:07.979Z"
   },
   {
    "duration": 332,
    "start_time": "2021-11-29T08:24:34.044Z"
   },
   {
    "duration": 282,
    "start_time": "2021-11-29T08:25:20.117Z"
   },
   {
    "duration": 3,
    "start_time": "2021-11-29T08:25:28.578Z"
   },
   {
    "duration": 4,
    "start_time": "2021-11-29T08:25:31.642Z"
   },
   {
    "duration": 4,
    "start_time": "2021-11-29T08:25:33.622Z"
   },
   {
    "duration": 4,
    "start_time": "2021-11-29T08:26:18.730Z"
   },
   {
    "duration": 4,
    "start_time": "2021-11-29T08:26:21.293Z"
   },
   {
    "duration": 24,
    "start_time": "2021-11-29T08:27:28.105Z"
   },
   {
    "duration": 23,
    "start_time": "2021-11-29T08:27:59.344Z"
   },
   {
    "duration": 23,
    "start_time": "2021-11-29T08:28:52.571Z"
   },
   {
    "duration": 23,
    "start_time": "2021-11-29T08:29:00.944Z"
   },
   {
    "duration": 23,
    "start_time": "2021-11-29T08:29:16.181Z"
   },
   {
    "duration": 22,
    "start_time": "2021-11-29T08:29:21.784Z"
   },
   {
    "duration": 26,
    "start_time": "2021-11-29T08:29:26.999Z"
   },
   {
    "duration": 26,
    "start_time": "2021-11-29T08:29:33.151Z"
   },
   {
    "duration": 40,
    "start_time": "2021-11-29T08:29:40.768Z"
   },
   {
    "duration": 22,
    "start_time": "2021-11-29T08:30:07.914Z"
   },
   {
    "duration": 22,
    "start_time": "2021-11-29T08:30:17.329Z"
   },
   {
    "duration": 13,
    "start_time": "2021-11-29T08:30:36.083Z"
   },
   {
    "duration": 10,
    "start_time": "2021-11-29T08:30:38.094Z"
   },
   {
    "duration": 4,
    "start_time": "2021-11-29T08:30:42.528Z"
   },
   {
    "duration": 23,
    "start_time": "2021-11-29T08:31:06.547Z"
   },
   {
    "duration": 22,
    "start_time": "2021-11-29T08:31:16.175Z"
   },
   {
    "duration": 5,
    "start_time": "2021-11-29T08:31:39.303Z"
   },
   {
    "duration": 22,
    "start_time": "2021-11-29T08:31:42.359Z"
   },
   {
    "duration": 24,
    "start_time": "2021-11-29T08:31:48.458Z"
   },
   {
    "duration": 21,
    "start_time": "2021-11-29T08:34:16.349Z"
   },
   {
    "duration": 19,
    "start_time": "2021-11-29T08:34:34.948Z"
   },
   {
    "duration": 4,
    "start_time": "2021-11-29T08:36:03.486Z"
   },
   {
    "duration": 19,
    "start_time": "2021-11-29T08:36:06.513Z"
   },
   {
    "duration": 14,
    "start_time": "2021-11-29T08:36:08.923Z"
   },
   {
    "duration": 28,
    "start_time": "2021-11-29T08:36:55.035Z"
   },
   {
    "duration": 13,
    "start_time": "2021-11-29T08:37:50.777Z"
   },
   {
    "duration": 4,
    "start_time": "2021-11-29T08:47:32.348Z"
   },
   {
    "duration": 546,
    "start_time": "2021-11-29T08:47:35.752Z"
   },
   {
    "duration": 4,
    "start_time": "2021-11-29T08:48:23.303Z"
   },
   {
    "duration": 546,
    "start_time": "2021-11-29T08:48:26.230Z"
   },
   {
    "duration": 4,
    "start_time": "2021-11-29T08:49:45.984Z"
   },
   {
    "duration": 688,
    "start_time": "2021-11-29T08:49:48.946Z"
   },
   {
    "duration": 4,
    "start_time": "2021-11-29T08:50:03.276Z"
   },
   {
    "duration": 29,
    "start_time": "2021-11-29T08:50:05.858Z"
   },
   {
    "duration": 17,
    "start_time": "2021-11-29T08:50:09.183Z"
   },
   {
    "duration": 31,
    "start_time": "2021-11-29T08:50:19.406Z"
   },
   {
    "duration": 19,
    "start_time": "2021-11-29T08:50:30.369Z"
   },
   {
    "duration": 4,
    "start_time": "2021-11-29T08:52:48.727Z"
   },
   {
    "duration": 26,
    "start_time": "2021-11-29T08:52:50.937Z"
   },
   {
    "duration": 3,
    "start_time": "2021-11-29T08:55:01.550Z"
   },
   {
    "duration": 17,
    "start_time": "2021-11-29T08:55:04.252Z"
   },
   {
    "duration": 15,
    "start_time": "2021-11-29T08:55:06.090Z"
   },
   {
    "duration": 14,
    "start_time": "2021-11-29T08:55:08.390Z"
   },
   {
    "duration": 17,
    "start_time": "2021-11-29T08:55:10.314Z"
   },
   {
    "duration": 16,
    "start_time": "2021-11-29T08:55:12.321Z"
   },
   {
    "duration": 14,
    "start_time": "2021-11-29T08:55:14.157Z"
   },
   {
    "duration": 8,
    "start_time": "2021-11-29T08:55:16.173Z"
   },
   {
    "duration": 11,
    "start_time": "2021-11-29T08:55:19.612Z"
   },
   {
    "duration": 10,
    "start_time": "2021-11-29T08:55:23.097Z"
   },
   {
    "duration": 4,
    "start_time": "2021-11-29T08:55:28.097Z"
   },
   {
    "duration": 93,
    "start_time": "2021-11-29T08:56:26.959Z"
   },
   {
    "duration": 29,
    "start_time": "2021-11-29T08:56:29.467Z"
   },
   {
    "duration": 28,
    "start_time": "2021-11-29T08:56:32.566Z"
   },
   {
    "duration": 18,
    "start_time": "2021-11-29T08:56:35.782Z"
   },
   {
    "duration": 3,
    "start_time": "2021-11-29T08:57:03.141Z"
   },
   {
    "duration": 19,
    "start_time": "2021-11-29T08:57:05.628Z"
   },
   {
    "duration": 14,
    "start_time": "2021-11-29T08:57:08.504Z"
   },
   {
    "duration": 18,
    "start_time": "2021-11-29T08:57:10.912Z"
   },
   {
    "duration": 14,
    "start_time": "2021-11-29T08:57:13.089Z"
   },
   {
    "duration": 3,
    "start_time": "2021-11-29T08:59:34.447Z"
   },
   {
    "duration": 331,
    "start_time": "2021-11-29T09:00:15.592Z"
   },
   {
    "duration": 280,
    "start_time": "2021-11-29T09:00:35.282Z"
   },
   {
    "duration": 532,
    "start_time": "2021-11-29T09:06:32.971Z"
   },
   {
    "duration": 286,
    "start_time": "2021-11-29T09:07:24.918Z"
   },
   {
    "duration": 2,
    "start_time": "2021-11-29T09:08:05.751Z"
   },
   {
    "duration": 140,
    "start_time": "2021-11-29T09:08:07.790Z"
   },
   {
    "duration": 11,
    "start_time": "2021-11-29T09:08:09.988Z"
   },
   {
    "duration": 25,
    "start_time": "2021-11-29T09:08:13.192Z"
   },
   {
    "duration": 4,
    "start_time": "2021-11-29T09:08:16.659Z"
   },
   {
    "duration": 19,
    "start_time": "2021-11-29T09:08:19.931Z"
   },
   {
    "duration": 4,
    "start_time": "2021-11-29T09:08:22.299Z"
   },
   {
    "duration": 24,
    "start_time": "2021-11-29T09:08:24.564Z"
   },
   {
    "duration": 22,
    "start_time": "2021-11-29T09:08:27.148Z"
   },
   {
    "duration": 23,
    "start_time": "2021-11-29T09:08:29.360Z"
   },
   {
    "duration": 55,
    "start_time": "2021-11-29T09:08:31.611Z"
   },
   {
    "duration": 62,
    "start_time": "2021-11-29T09:08:33.685Z"
   },
   {
    "duration": 50,
    "start_time": "2021-11-29T09:08:36.257Z"
   },
   {
    "duration": 47,
    "start_time": "2021-11-29T09:08:38.902Z"
   },
   {
    "duration": 7,
    "start_time": "2021-11-29T09:08:52.491Z"
   },
   {
    "duration": 3,
    "start_time": "2021-11-29T09:08:54.373Z"
   },
   {
    "duration": 6,
    "start_time": "2021-11-29T09:08:56.668Z"
   },
   {
    "duration": 11,
    "start_time": "2021-11-29T09:09:04.708Z"
   },
   {
    "duration": 12,
    "start_time": "2021-11-29T09:09:07.849Z"
   },
   {
    "duration": 4,
    "start_time": "2021-11-29T09:09:10.178Z"
   },
   {
    "duration": 18,
    "start_time": "2021-11-29T09:09:12.233Z"
   },
   {
    "duration": 14,
    "start_time": "2021-11-29T09:09:14.435Z"
   },
   {
    "duration": 16,
    "start_time": "2021-11-29T09:09:16.331Z"
   },
   {
    "duration": 14,
    "start_time": "2021-11-29T09:09:18.066Z"
   },
   {
    "duration": 19,
    "start_time": "2021-11-29T09:09:19.851Z"
   },
   {
    "duration": 15,
    "start_time": "2021-11-29T09:09:21.728Z"
   },
   {
    "duration": 9,
    "start_time": "2021-11-29T09:09:24.357Z"
   },
   {
    "duration": 12,
    "start_time": "2021-11-29T09:09:27.431Z"
   },
   {
    "duration": 13,
    "start_time": "2021-11-29T09:09:28.975Z"
   },
   {
    "duration": 4,
    "start_time": "2021-11-29T09:09:30.977Z"
   },
   {
    "duration": 21,
    "start_time": "2021-11-29T09:09:33.995Z"
   },
   {
    "duration": 16,
    "start_time": "2021-11-29T09:09:36.451Z"
   },
   {
    "duration": 21,
    "start_time": "2021-11-29T09:09:38.691Z"
   },
   {
    "duration": 14,
    "start_time": "2021-11-29T09:09:41.038Z"
   },
   {
    "duration": 9,
    "start_time": "2021-11-29T09:09:45.387Z"
   },
   {
    "duration": 5,
    "start_time": "2021-11-29T09:10:10.036Z"
   },
   {
    "duration": 343,
    "start_time": "2021-11-29T09:10:43.772Z"
   },
   {
    "duration": 7,
    "start_time": "2021-11-29T09:10:55.079Z"
   },
   {
    "duration": 6,
    "start_time": "2021-11-29T09:11:02.002Z"
   },
   {
    "duration": 5,
    "start_time": "2021-11-29T09:11:26.633Z"
   },
   {
    "duration": 498,
    "start_time": "2021-11-29T22:13:17.553Z"
   },
   {
    "duration": 141,
    "start_time": "2021-11-29T22:13:18.053Z"
   },
   {
    "duration": 18,
    "start_time": "2021-11-29T22:13:18.197Z"
   },
   {
    "duration": 27,
    "start_time": "2021-11-29T22:13:18.217Z"
   },
   {
    "duration": 5,
    "start_time": "2021-11-29T22:13:18.246Z"
   },
   {
    "duration": 50,
    "start_time": "2021-11-29T22:13:18.253Z"
   },
   {
    "duration": 5,
    "start_time": "2021-11-29T22:13:18.305Z"
   },
   {
    "duration": 23,
    "start_time": "2021-11-29T22:13:18.314Z"
   },
   {
    "duration": 22,
    "start_time": "2021-11-29T22:13:18.339Z"
   },
   {
    "duration": 48,
    "start_time": "2021-11-29T22:13:18.362Z"
   },
   {
    "duration": 60,
    "start_time": "2021-11-29T22:13:18.412Z"
   },
   {
    "duration": 66,
    "start_time": "2021-11-29T22:13:18.492Z"
   },
   {
    "duration": 68,
    "start_time": "2021-11-29T22:13:18.560Z"
   },
   {
    "duration": 47,
    "start_time": "2021-11-29T22:13:18.631Z"
   },
   {
    "duration": 245,
    "start_time": "2021-11-29T22:13:18.679Z"
   },
   {
    "duration": 158,
    "start_time": "2021-11-29T22:13:18.768Z"
   },
   {
    "duration": 157,
    "start_time": "2021-11-29T22:13:18.770Z"
   },
   {
    "duration": 156,
    "start_time": "2021-11-29T22:13:18.772Z"
   },
   {
    "duration": 156,
    "start_time": "2021-11-29T22:13:18.773Z"
   },
   {
    "duration": 155,
    "start_time": "2021-11-29T22:13:18.775Z"
   },
   {
    "duration": 154,
    "start_time": "2021-11-29T22:13:18.777Z"
   },
   {
    "duration": 153,
    "start_time": "2021-11-29T22:13:18.779Z"
   },
   {
    "duration": 152,
    "start_time": "2021-11-29T22:13:18.781Z"
   },
   {
    "duration": 152,
    "start_time": "2021-11-29T22:13:18.782Z"
   },
   {
    "duration": 148,
    "start_time": "2021-11-29T22:13:18.787Z"
   },
   {
    "duration": 149,
    "start_time": "2021-11-29T22:13:18.788Z"
   },
   {
    "duration": 148,
    "start_time": "2021-11-29T22:13:18.789Z"
   },
   {
    "duration": 148,
    "start_time": "2021-11-29T22:13:18.791Z"
   },
   {
    "duration": 147,
    "start_time": "2021-11-29T22:13:18.793Z"
   },
   {
    "duration": 146,
    "start_time": "2021-11-29T22:13:18.795Z"
   },
   {
    "duration": 146,
    "start_time": "2021-11-29T22:13:18.796Z"
   },
   {
    "duration": 145,
    "start_time": "2021-11-29T22:13:18.798Z"
   },
   {
    "duration": 144,
    "start_time": "2021-11-29T22:13:18.799Z"
   },
   {
    "duration": 144,
    "start_time": "2021-11-29T22:13:18.800Z"
   },
   {
    "duration": 143,
    "start_time": "2021-11-29T22:13:18.802Z"
   },
   {
    "duration": 143,
    "start_time": "2021-11-29T22:13:18.803Z"
   },
   {
    "duration": 139,
    "start_time": "2021-11-29T22:13:18.808Z"
   },
   {
    "duration": 138,
    "start_time": "2021-11-29T22:13:18.810Z"
   },
   {
    "duration": 3,
    "start_time": "2021-11-29T22:16:03.101Z"
   },
   {
    "duration": 508,
    "start_time": "2021-11-29T22:16:17.348Z"
   },
   {
    "duration": 142,
    "start_time": "2021-11-29T22:16:39.831Z"
   },
   {
    "duration": 28,
    "start_time": "2021-11-29T22:16:51.742Z"
   },
   {
    "duration": 24,
    "start_time": "2021-11-29T22:17:39.196Z"
   },
   {
    "duration": 4,
    "start_time": "2021-11-29T22:18:19.757Z"
   },
   {
    "duration": 24,
    "start_time": "2021-11-29T22:19:26.357Z"
   },
   {
    "duration": 3,
    "start_time": "2021-11-29T22:21:15.862Z"
   },
   {
    "duration": 23,
    "start_time": "2021-11-29T22:21:36.527Z"
   },
   {
    "duration": 21,
    "start_time": "2021-11-29T22:24:00.423Z"
   },
   {
    "duration": 22,
    "start_time": "2021-11-29T22:24:06.216Z"
   },
   {
    "duration": 26,
    "start_time": "2021-11-29T22:26:42.570Z"
   },
   {
    "duration": 58,
    "start_time": "2021-11-29T22:27:17.631Z"
   },
   {
    "duration": 62,
    "start_time": "2021-11-29T22:27:30.191Z"
   },
   {
    "duration": 54,
    "start_time": "2021-11-29T22:27:48.781Z"
   },
   {
    "duration": 46,
    "start_time": "2021-11-29T22:28:46.641Z"
   },
   {
    "duration": 3,
    "start_time": "2021-11-29T22:34:43.477Z"
   },
   {
    "duration": 6,
    "start_time": "2021-11-29T22:34:46.383Z"
   },
   {
    "duration": 7,
    "start_time": "2021-11-29T22:35:45.068Z"
   },
   {
    "duration": 11,
    "start_time": "2021-11-29T22:36:55.918Z"
   },
   {
    "duration": 9,
    "start_time": "2021-11-29T22:36:58.209Z"
   },
   {
    "duration": 3,
    "start_time": "2021-11-29T22:37:27.459Z"
   },
   {
    "duration": 17,
    "start_time": "2021-11-29T22:37:52.303Z"
   },
   {
    "duration": 14,
    "start_time": "2021-11-29T22:37:53.162Z"
   },
   {
    "duration": 16,
    "start_time": "2021-11-29T22:37:53.863Z"
   },
   {
    "duration": 14,
    "start_time": "2021-11-29T22:37:54.488Z"
   },
   {
    "duration": 16,
    "start_time": "2021-11-29T22:37:55.116Z"
   },
   {
    "duration": 14,
    "start_time": "2021-11-29T22:37:55.646Z"
   },
   {
    "duration": 9,
    "start_time": "2021-11-29T22:38:27.004Z"
   },
   {
    "duration": 12,
    "start_time": "2021-11-29T22:38:57.777Z"
   },
   {
    "duration": 10,
    "start_time": "2021-11-29T22:38:58.155Z"
   },
   {
    "duration": 4,
    "start_time": "2021-11-29T22:39:25.685Z"
   },
   {
    "duration": 19,
    "start_time": "2021-11-29T22:40:07.749Z"
   },
   {
    "duration": 14,
    "start_time": "2021-11-29T22:40:10.074Z"
   },
   {
    "duration": 19,
    "start_time": "2021-11-29T22:40:14.897Z"
   },
   {
    "duration": 14,
    "start_time": "2021-11-29T22:40:16.573Z"
   },
   {
    "duration": 8,
    "start_time": "2021-11-29T22:40:41.988Z"
   },
   {
    "duration": 5,
    "start_time": "2021-11-29T22:40:43.549Z"
   },
   {
    "duration": 6,
    "start_time": "2021-11-29T22:40:59.497Z"
   },
   {
    "duration": 4,
    "start_time": "2021-11-29T22:41:00.312Z"
   },
   {
    "duration": 365,
    "start_time": "2021-11-30T08:01:30.133Z"
   },
   {
    "duration": 656,
    "start_time": "2021-11-30T08:01:41.299Z"
   },
   {
    "duration": 180,
    "start_time": "2021-11-30T08:01:43.648Z"
   },
   {
    "duration": 18,
    "start_time": "2021-11-30T08:01:46.504Z"
   },
   {
    "duration": 22,
    "start_time": "2021-11-30T08:16:47.119Z"
   },
   {
    "duration": 4,
    "start_time": "2021-11-30T08:16:54.758Z"
   },
   {
    "duration": 23,
    "start_time": "2021-11-30T08:17:02.987Z"
   },
   {
    "duration": 343,
    "start_time": "2021-11-30T08:18:46.956Z"
   },
   {
    "duration": 18,
    "start_time": "2021-11-30T08:18:59.681Z"
   },
   {
    "duration": 24,
    "start_time": "2021-11-30T08:19:07.313Z"
   },
   {
    "duration": 75,
    "start_time": "2021-11-30T08:19:13.425Z"
   },
   {
    "duration": 165,
    "start_time": "2021-11-30T08:19:25.566Z"
   },
   {
    "duration": 236,
    "start_time": "2021-11-30T08:19:31.676Z"
   },
   {
    "duration": 58,
    "start_time": "2021-11-30T08:19:37.678Z"
   },
   {
    "duration": 59,
    "start_time": "2021-11-30T08:19:50.948Z"
   },
   {
    "duration": 86,
    "start_time": "2021-11-30T08:19:59.416Z"
   },
   {
    "duration": 62,
    "start_time": "2021-11-30T08:20:05.760Z"
   },
   {
    "duration": 248,
    "start_time": "2021-11-30T08:25:11.592Z"
   },
   {
    "duration": 302,
    "start_time": "2021-11-30T08:34:23.732Z"
   },
   {
    "duration": 5,
    "start_time": "2021-11-30T08:34:58.219Z"
   },
   {
    "duration": 3186,
    "start_time": "2021-11-30T08:35:25.796Z"
   },
   {
    "duration": 48,
    "start_time": "2021-11-30T08:36:23.937Z"
   },
   {
    "duration": 254,
    "start_time": "2021-11-30T08:36:52.481Z"
   },
   {
    "duration": 2,
    "start_time": "2021-11-30T08:37:27.898Z"
   },
   {
    "duration": 442,
    "start_time": "2021-11-30T08:37:30.743Z"
   },
   {
    "duration": 3,
    "start_time": "2021-11-30T08:37:46.837Z"
   },
   {
    "duration": 252,
    "start_time": "2021-11-30T08:38:00.185Z"
   },
   {
    "duration": 48,
    "start_time": "2021-11-30T08:40:55.869Z"
   },
   {
    "duration": 4,
    "start_time": "2021-11-30T08:41:09.374Z"
   },
   {
    "duration": 291,
    "start_time": "2021-11-30T08:41:12.565Z"
   },
   {
    "duration": 8,
    "start_time": "2021-11-30T08:42:07.212Z"
   },
   {
    "duration": 3,
    "start_time": "2021-11-30T08:42:40.526Z"
   },
   {
    "duration": 3,
    "start_time": "2021-11-30T08:50:23.906Z"
   },
   {
    "duration": 159,
    "start_time": "2021-11-30T08:50:26.313Z"
   },
   {
    "duration": 11,
    "start_time": "2021-11-30T08:50:29.724Z"
   },
   {
    "duration": 24,
    "start_time": "2021-11-30T08:50:38.298Z"
   },
   {
    "duration": 4,
    "start_time": "2021-11-30T08:50:48.257Z"
   },
   {
    "duration": 22,
    "start_time": "2021-11-30T08:50:51.437Z"
   },
   {
    "duration": 5,
    "start_time": "2021-11-30T08:50:54.695Z"
   },
   {
    "duration": 24,
    "start_time": "2021-11-30T08:50:57.097Z"
   },
   {
    "duration": 22,
    "start_time": "2021-11-30T08:51:03.055Z"
   },
   {
    "duration": 18,
    "start_time": "2021-11-30T08:51:44.545Z"
   },
   {
    "duration": 25,
    "start_time": "2021-11-30T08:51:48.740Z"
   },
   {
    "duration": 63,
    "start_time": "2021-11-30T08:52:27.417Z"
   },
   {
    "duration": 25,
    "start_time": "2021-11-30T08:52:34.920Z"
   },
   {
    "duration": 308,
    "start_time": "2021-11-30T08:52:42.598Z"
   },
   {
    "duration": 16745,
    "start_time": "2021-11-30T08:53:03.593Z"
   },
   {
    "duration": 27,
    "start_time": "2021-11-30T08:53:20.373Z"
   },
   {
    "duration": 23,
    "start_time": "2021-11-30T08:53:24.091Z"
   },
   {
    "duration": 54,
    "start_time": "2021-11-30T08:57:20.506Z"
   },
   {
    "duration": 58,
    "start_time": "2021-11-30T08:57:38.514Z"
   },
   {
    "duration": 65,
    "start_time": "2021-11-30T08:57:41.681Z"
   },
   {
    "duration": 78,
    "start_time": "2021-11-30T08:57:44.121Z"
   },
   {
    "duration": 45,
    "start_time": "2021-11-30T08:57:51.267Z"
   },
   {
    "duration": 2,
    "start_time": "2021-11-30T08:59:22.659Z"
   },
   {
    "duration": 167,
    "start_time": "2021-11-30T08:59:25.646Z"
   },
   {
    "duration": 10,
    "start_time": "2021-11-30T08:59:27.817Z"
   },
   {
    "duration": 33,
    "start_time": "2021-11-30T08:59:31.449Z"
   },
   {
    "duration": 4,
    "start_time": "2021-11-30T08:59:38.489Z"
   },
   {
    "duration": 20,
    "start_time": "2021-11-30T08:59:43.778Z"
   },
   {
    "duration": 5,
    "start_time": "2021-11-30T08:59:47.927Z"
   },
   {
    "duration": 24,
    "start_time": "2021-11-30T08:59:50.539Z"
   },
   {
    "duration": 24,
    "start_time": "2021-11-30T08:59:53.965Z"
   },
   {
    "duration": 23,
    "start_time": "2021-11-30T08:59:56.434Z"
   },
   {
    "duration": 69,
    "start_time": "2021-11-30T08:59:58.836Z"
   },
   {
    "duration": 90,
    "start_time": "2021-11-30T09:00:00.836Z"
   },
   {
    "duration": 58,
    "start_time": "2021-11-30T09:00:02.867Z"
   },
   {
    "duration": 40,
    "start_time": "2021-11-30T09:00:05.621Z"
   },
   {
    "duration": 3,
    "start_time": "2021-11-30T09:00:13.565Z"
   },
   {
    "duration": 238,
    "start_time": "2021-11-30T09:00:16.156Z"
   },
   {
    "duration": 4,
    "start_time": "2021-11-30T09:01:02.240Z"
   },
   {
    "duration": 13,
    "start_time": "2021-11-30T09:01:04.465Z"
   },
   {
    "duration": 8,
    "start_time": "2021-11-30T09:01:11.967Z"
   },
   {
    "duration": 4,
    "start_time": "2021-11-30T09:03:52.162Z"
   },
   {
    "duration": 25,
    "start_time": "2021-11-30T09:06:51.256Z"
   },
   {
    "duration": 17,
    "start_time": "2021-11-30T09:06:53.440Z"
   },
   {
    "duration": 21,
    "start_time": "2021-11-30T09:06:55.270Z"
   },
   {
    "duration": 16,
    "start_time": "2021-11-30T09:06:56.917Z"
   },
   {
    "duration": 27,
    "start_time": "2021-11-30T09:06:58.767Z"
   },
   {
    "duration": 17,
    "start_time": "2021-11-30T09:07:00.483Z"
   },
   {
    "duration": 4,
    "start_time": "2021-11-30T09:08:09.497Z"
   },
   {
    "duration": 270,
    "start_time": "2021-11-30T09:08:38.609Z"
   },
   {
    "duration": 7,
    "start_time": "2021-11-30T09:08:45.565Z"
   },
   {
    "duration": 446,
    "start_time": "2021-11-30T09:08:50.422Z"
   },
   {
    "duration": 10,
    "start_time": "2021-11-30T09:08:59.755Z"
   },
   {
    "duration": 3318,
    "start_time": "2021-11-30T09:09:03.426Z"
   },
   {
    "duration": 340,
    "start_time": "2021-11-30T09:09:06.407Z"
   },
   {
    "duration": 4,
    "start_time": "2021-11-30T09:09:07.949Z"
   },
   {
    "duration": 239,
    "start_time": "2021-11-30T09:09:11.129Z"
   },
   {
    "duration": 254,
    "start_time": "2021-11-30T09:09:21.792Z"
   },
   {
    "duration": 14,
    "start_time": "2021-11-30T09:10:17.373Z"
   },
   {
    "duration": 12,
    "start_time": "2021-11-30T09:10:25.242Z"
   },
   {
    "duration": 8,
    "start_time": "2021-11-30T09:10:29.372Z"
   },
   {
    "duration": 22,
    "start_time": "2021-11-30T09:10:38.115Z"
   },
   {
    "duration": 23,
    "start_time": "2021-11-30T09:10:42.465Z"
   },
   {
    "duration": 23,
    "start_time": "2021-11-30T09:10:45.046Z"
   },
   {
    "duration": 15,
    "start_time": "2021-11-30T09:10:47.241Z"
   },
   {
    "duration": 9,
    "start_time": "2021-11-30T09:10:58.476Z"
   },
   {
    "duration": 6,
    "start_time": "2021-11-30T09:11:00.630Z"
   },
   {
    "duration": 9,
    "start_time": "2021-11-30T09:11:03.771Z"
   },
   {
    "duration": 4,
    "start_time": "2021-11-30T09:11:05.489Z"
   },
   {
    "duration": 2,
    "start_time": "2021-11-30T09:13:14.914Z"
   },
   {
    "duration": 171,
    "start_time": "2021-11-30T09:13:17.046Z"
   },
   {
    "duration": 11,
    "start_time": "2021-11-30T09:13:19.177Z"
   },
   {
    "duration": 26,
    "start_time": "2021-11-30T09:13:21.996Z"
   },
   {
    "duration": 4,
    "start_time": "2021-11-30T09:13:26.713Z"
   },
   {
    "duration": 17,
    "start_time": "2021-11-30T09:13:30.139Z"
   },
   {
    "duration": 5,
    "start_time": "2021-11-30T09:13:36.168Z"
   },
   {
    "duration": 25,
    "start_time": "2021-11-30T09:13:38.709Z"
   },
   {
    "duration": 20,
    "start_time": "2021-11-30T09:13:41.576Z"
   },
   {
    "duration": 26,
    "start_time": "2021-11-30T09:13:44.076Z"
   },
   {
    "duration": 67,
    "start_time": "2021-11-30T09:13:46.341Z"
   },
   {
    "duration": 76,
    "start_time": "2021-11-30T09:13:48.496Z"
   },
   {
    "duration": 63,
    "start_time": "2021-11-30T09:13:50.742Z"
   },
   {
    "duration": 45,
    "start_time": "2021-11-30T09:13:53.151Z"
   },
   {
    "duration": 2,
    "start_time": "2021-11-30T09:14:02.249Z"
   },
   {
    "duration": 8,
    "start_time": "2021-11-30T09:14:07.552Z"
   },
   {
    "duration": 278,
    "start_time": "2021-11-30T09:14:17.404Z"
   },
   {
    "duration": 12,
    "start_time": "2021-11-30T09:14:27.703Z"
   },
   {
    "duration": 13,
    "start_time": "2021-11-30T09:14:33.258Z"
   },
   {
    "duration": 4,
    "start_time": "2021-11-30T09:14:42.872Z"
   },
   {
    "duration": 18,
    "start_time": "2021-11-30T09:14:50.283Z"
   },
   {
    "duration": 17,
    "start_time": "2021-11-30T09:14:51.604Z"
   },
   {
    "duration": 16,
    "start_time": "2021-11-30T09:14:53.291Z"
   },
   {
    "duration": 24,
    "start_time": "2021-11-30T09:14:54.988Z"
   },
   {
    "duration": 18,
    "start_time": "2021-11-30T09:14:56.127Z"
   },
   {
    "duration": 16,
    "start_time": "2021-11-30T09:14:57.010Z"
   },
   {
    "duration": 10,
    "start_time": "2021-11-30T09:14:59.516Z"
   },
   {
    "duration": 14,
    "start_time": "2021-11-30T09:15:03.003Z"
   },
   {
    "duration": 12,
    "start_time": "2021-11-30T09:15:04.452Z"
   },
   {
    "duration": 4,
    "start_time": "2021-11-30T09:15:07.844Z"
   },
   {
    "duration": 22,
    "start_time": "2021-11-30T09:15:11.574Z"
   },
   {
    "duration": 14,
    "start_time": "2021-11-30T09:15:13.576Z"
   },
   {
    "duration": 18,
    "start_time": "2021-11-30T09:15:15.720Z"
   },
   {
    "duration": 13,
    "start_time": "2021-11-30T09:15:17.600Z"
   },
   {
    "duration": 9,
    "start_time": "2021-11-30T09:15:21.696Z"
   },
   {
    "duration": 9,
    "start_time": "2021-11-30T09:15:24.185Z"
   },
   {
    "duration": 5,
    "start_time": "2021-11-30T09:15:28.739Z"
   },
   {
    "duration": 15,
    "start_time": "2021-11-30T09:15:31.971Z"
   },
   {
    "duration": 5,
    "start_time": "2021-11-30T09:15:35.376Z"
   },
   {
    "duration": 765,
    "start_time": "2021-11-30T17:56:31.796Z"
   },
   {
    "duration": 238,
    "start_time": "2021-11-30T17:56:32.562Z"
   },
   {
    "duration": 32,
    "start_time": "2021-11-30T17:56:32.805Z"
   },
   {
    "duration": 32,
    "start_time": "2021-11-30T17:56:32.840Z"
   },
   {
    "duration": 4,
    "start_time": "2021-11-30T17:56:32.874Z"
   },
   {
    "duration": 40,
    "start_time": "2021-11-30T17:56:32.879Z"
   },
   {
    "duration": 5,
    "start_time": "2021-11-30T17:56:32.922Z"
   },
   {
    "duration": 24,
    "start_time": "2021-11-30T17:56:32.929Z"
   },
   {
    "duration": 70,
    "start_time": "2021-11-30T17:56:32.956Z"
   },
   {
    "duration": 22,
    "start_time": "2021-11-30T17:56:33.028Z"
   },
   {
    "duration": 96,
    "start_time": "2021-11-30T17:56:33.052Z"
   },
   {
    "duration": 86,
    "start_time": "2021-11-30T17:56:33.150Z"
   },
   {
    "duration": 56,
    "start_time": "2021-11-30T17:56:33.238Z"
   },
   {
    "duration": 56,
    "start_time": "2021-11-30T17:56:33.297Z"
   },
   {
    "duration": 2,
    "start_time": "2021-11-30T17:56:33.355Z"
   },
   {
    "duration": 37,
    "start_time": "2021-11-30T17:56:33.359Z"
   },
   {
    "duration": 12,
    "start_time": "2021-11-30T17:56:33.400Z"
   },
   {
    "duration": 18,
    "start_time": "2021-11-30T17:56:33.414Z"
   },
   {
    "duration": 13,
    "start_time": "2021-11-30T17:56:33.434Z"
   },
   {
    "duration": 4,
    "start_time": "2021-11-30T17:56:33.449Z"
   },
   {
    "duration": 62,
    "start_time": "2021-11-30T17:56:33.455Z"
   },
   {
    "duration": 15,
    "start_time": "2021-11-30T17:56:33.520Z"
   },
   {
    "duration": 14,
    "start_time": "2021-11-30T17:56:33.538Z"
   },
   {
    "duration": 46,
    "start_time": "2021-11-30T17:56:33.554Z"
   },
   {
    "duration": 26,
    "start_time": "2021-11-30T17:56:33.603Z"
   },
   {
    "duration": 13,
    "start_time": "2021-11-30T17:56:33.631Z"
   },
   {
    "duration": 8,
    "start_time": "2021-11-30T17:56:33.647Z"
   },
   {
    "duration": 12,
    "start_time": "2021-11-30T17:56:33.657Z"
   },
   {
    "duration": 33,
    "start_time": "2021-11-30T17:56:33.671Z"
   },
   {
    "duration": 7,
    "start_time": "2021-11-30T17:56:33.711Z"
   },
   {
    "duration": 35,
    "start_time": "2021-11-30T17:56:33.720Z"
   },
   {
    "duration": 21,
    "start_time": "2021-11-30T17:56:33.757Z"
   },
   {
    "duration": 30,
    "start_time": "2021-11-30T17:56:33.779Z"
   },
   {
    "duration": 25,
    "start_time": "2021-11-30T17:56:33.812Z"
   },
   {
    "duration": 30,
    "start_time": "2021-11-30T17:56:33.839Z"
   },
   {
    "duration": 15,
    "start_time": "2021-11-30T17:56:33.871Z"
   },
   {
    "duration": 35,
    "start_time": "2021-11-30T17:56:33.887Z"
   },
   {
    "duration": 7,
    "start_time": "2021-11-30T17:56:33.925Z"
   },
   {
    "duration": 41,
    "start_time": "2021-11-30T18:07:41.209Z"
   },
   {
    "duration": 616,
    "start_time": "2021-11-30T18:12:54.082Z"
   },
   {
    "duration": 143,
    "start_time": "2021-11-30T18:12:54.704Z"
   },
   {
    "duration": 16,
    "start_time": "2021-11-30T18:12:54.850Z"
   },
   {
    "duration": 55,
    "start_time": "2021-11-30T18:12:54.869Z"
   },
   {
    "duration": 9,
    "start_time": "2021-11-30T18:12:54.927Z"
   },
   {
    "duration": 34,
    "start_time": "2021-11-30T18:12:54.937Z"
   },
   {
    "duration": 15,
    "start_time": "2021-11-30T18:12:54.973Z"
   },
   {
    "duration": 54,
    "start_time": "2021-11-30T18:12:54.989Z"
   },
   {
    "duration": 35,
    "start_time": "2021-11-30T18:12:55.046Z"
   },
   {
    "duration": 38,
    "start_time": "2021-11-30T18:12:55.082Z"
   },
   {
    "duration": 64,
    "start_time": "2021-11-30T18:12:55.122Z"
   },
   {
    "duration": 69,
    "start_time": "2021-11-30T18:12:55.188Z"
   },
   {
    "duration": 75,
    "start_time": "2021-11-30T18:12:55.259Z"
   },
   {
    "duration": 37,
    "start_time": "2021-11-30T18:12:55.336Z"
   },
   {
    "duration": 25,
    "start_time": "2021-11-30T18:12:55.375Z"
   },
   {
    "duration": 32,
    "start_time": "2021-11-30T18:12:55.403Z"
   },
   {
    "duration": 31,
    "start_time": "2021-11-30T18:12:55.436Z"
   },
   {
    "duration": 16,
    "start_time": "2021-11-30T18:12:55.469Z"
   },
   {
    "duration": 36,
    "start_time": "2021-11-30T18:12:55.487Z"
   },
   {
    "duration": 11,
    "start_time": "2021-11-30T18:12:55.525Z"
   },
   {
    "duration": 44,
    "start_time": "2021-11-30T18:12:55.537Z"
   },
   {
    "duration": 41,
    "start_time": "2021-11-30T18:12:55.582Z"
   },
   {
    "duration": 31,
    "start_time": "2021-11-30T18:12:55.624Z"
   },
   {
    "duration": 20,
    "start_time": "2021-11-30T18:12:55.657Z"
   },
   {
    "duration": 44,
    "start_time": "2021-11-30T18:12:55.678Z"
   },
   {
    "duration": 20,
    "start_time": "2021-11-30T18:12:55.724Z"
   },
   {
    "duration": 33,
    "start_time": "2021-11-30T18:12:55.747Z"
   },
   {
    "duration": 32,
    "start_time": "2021-11-30T18:12:55.782Z"
   },
   {
    "duration": 25,
    "start_time": "2021-11-30T18:12:55.816Z"
   },
   {
    "duration": 24,
    "start_time": "2021-11-30T18:12:55.843Z"
   },
   {
    "duration": 46,
    "start_time": "2021-11-30T18:12:55.869Z"
   },
   {
    "duration": 34,
    "start_time": "2021-11-30T18:12:55.917Z"
   },
   {
    "duration": 29,
    "start_time": "2021-11-30T18:12:55.953Z"
   },
   {
    "duration": 31,
    "start_time": "2021-11-30T18:12:55.983Z"
   },
   {
    "duration": 10,
    "start_time": "2021-11-30T18:12:56.016Z"
   },
   {
    "duration": 23,
    "start_time": "2021-11-30T18:12:56.028Z"
   },
   {
    "duration": 24,
    "start_time": "2021-11-30T18:12:56.052Z"
   },
   {
    "duration": 23,
    "start_time": "2021-11-30T18:12:56.078Z"
   },
   {
    "duration": 344,
    "start_time": "2021-12-01T07:53:58.565Z"
   },
   {
    "duration": 794,
    "start_time": "2021-12-01T07:57:32.748Z"
   },
   {
    "duration": 265,
    "start_time": "2021-12-01T07:57:34.930Z"
   },
   {
    "duration": 36,
    "start_time": "2021-12-01T07:57:37.130Z"
   },
   {
    "duration": 47,
    "start_time": "2021-12-01T07:57:41.878Z"
   },
   {
    "duration": 6,
    "start_time": "2021-12-01T07:57:47.169Z"
   },
   {
    "duration": 26,
    "start_time": "2021-12-01T07:57:49.699Z"
   },
   {
    "duration": 6,
    "start_time": "2021-12-01T07:57:52.504Z"
   },
   {
    "duration": 31,
    "start_time": "2021-12-01T07:57:54.677Z"
   },
   {
    "duration": 24,
    "start_time": "2021-12-01T07:57:57.818Z"
   },
   {
    "duration": 34,
    "start_time": "2021-12-01T07:58:00.591Z"
   },
   {
    "duration": 86,
    "start_time": "2021-12-01T07:58:02.836Z"
   },
   {
    "duration": 103,
    "start_time": "2021-12-01T07:58:05.226Z"
   },
   {
    "duration": 82,
    "start_time": "2021-12-01T07:58:07.124Z"
   },
   {
    "duration": 56,
    "start_time": "2021-12-01T07:58:10.177Z"
   },
   {
    "duration": 4,
    "start_time": "2021-12-01T07:58:16.065Z"
   },
   {
    "duration": 61,
    "start_time": "2021-12-01T07:58:50.943Z"
   },
   {
    "duration": 5,
    "start_time": "2021-12-01T07:59:07.359Z"
   },
   {
    "duration": 10,
    "start_time": "2021-12-01T07:59:11.504Z"
   },
   {
    "duration": 59,
    "start_time": "2021-12-01T07:59:14.115Z"
   },
   {
    "duration": 14,
    "start_time": "2021-12-01T07:59:27.089Z"
   },
   {
    "duration": 13,
    "start_time": "2021-12-01T07:59:29.112Z"
   },
   {
    "duration": 7,
    "start_time": "2021-12-01T07:59:32.352Z"
   },
   {
    "duration": 40,
    "start_time": "2021-12-01T07:59:35.719Z"
   },
   {
    "duration": 19,
    "start_time": "2021-12-01T07:59:37.141Z"
   },
   {
    "duration": 20,
    "start_time": "2021-12-01T07:59:38.060Z"
   },
   {
    "duration": 18,
    "start_time": "2021-12-01T07:59:38.737Z"
   },
   {
    "duration": 21,
    "start_time": "2021-12-01T07:59:39.345Z"
   },
   {
    "duration": 19,
    "start_time": "2021-12-01T07:59:39.940Z"
   },
   {
    "duration": 12,
    "start_time": "2021-12-01T07:59:42.259Z"
   },
   {
    "duration": 16,
    "start_time": "2021-12-01T07:59:45.179Z"
   },
   {
    "duration": 14,
    "start_time": "2021-12-01T07:59:46.228Z"
   },
   {
    "duration": 5,
    "start_time": "2021-12-01T07:59:49.062Z"
   },
   {
    "duration": 25,
    "start_time": "2021-12-01T07:59:52.070Z"
   },
   {
    "duration": 20,
    "start_time": "2021-12-01T07:59:53.705Z"
   },
   {
    "duration": 24,
    "start_time": "2021-12-01T07:59:55.686Z"
   },
   {
    "duration": 18,
    "start_time": "2021-12-01T07:59:57.708Z"
   },
   {
    "duration": 11,
    "start_time": "2021-12-01T08:00:00.748Z"
   },
   {
    "duration": 6,
    "start_time": "2021-12-01T08:00:02.455Z"
   },
   {
    "duration": 8,
    "start_time": "2021-12-01T08:00:04.966Z"
   },
   {
    "duration": 9,
    "start_time": "2021-12-01T08:00:06.784Z"
   }
  ],
  "colab": {
   "collapsed_sections": [
    "E0vqbgi9ay0H",
    "VUC88oWjTJw2"
   ],
   "name": "yandex_music_project_2021.2.ipynb",
   "provenance": []
  },
  "kernelspec": {
   "display_name": "Python 3 (ipykernel)",
   "language": "python",
   "name": "python3"
  },
  "language_info": {
   "codemirror_mode": {
    "name": "ipython",
    "version": 3
   },
   "file_extension": ".py",
   "mimetype": "text/x-python",
   "name": "python",
   "nbconvert_exporter": "python",
   "pygments_lexer": "ipython3",
   "version": "3.9.5"
  },
  "toc": {
   "base_numbering": 1,
   "nav_menu": {},
   "number_sections": true,
   "sideBar": true,
   "skip_h1_title": true,
   "title_cell": "Table of Contents",
   "title_sidebar": "Contents",
   "toc_cell": false,
   "toc_position": {
    "height": "calc(100% - 180px)",
    "left": "10px",
    "top": "150px",
    "width": "165px"
   },
   "toc_section_display": true,
   "toc_window_display": true
  }
 },
 "nbformat": 4,
 "nbformat_minor": 1
}
