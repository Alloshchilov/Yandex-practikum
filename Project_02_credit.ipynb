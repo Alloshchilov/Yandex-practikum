{
 "cells": [
  {
   "cell_type": "markdown",
   "metadata": {},
   "source": [
    "# Исследование надёжности заёмщиков\n",
    "\n",
    "Заказчик — кредитный отдел банка. Нужно разобраться, влияет ли семейное положение и количество детей клиента на факт погашения кредита в срок. Входные данные от банка — статистика о платёжеспособности клиентов.\n",
    "\n",
    "Результаты исследования будут учтены при построении модели **кредитного скоринга** — специальной системы, которая оценивает способность потенциального заёмщика вернуть кредит банку."
   ]
  },
  {
   "cell_type": "markdown",
   "metadata": {},
   "source": [
    "## Шаг 1. Откройте файл с данными и изучите общую информацию"
   ]
  },
  {
   "cell_type": "code",
   "execution_count": 42,
   "metadata": {},
   "outputs": [
    {
     "data": {
      "text/html": [
       "<div>\n",
       "<style scoped>\n",
       "    .dataframe tbody tr th:only-of-type {\n",
       "        vertical-align: middle;\n",
       "    }\n",
       "\n",
       "    .dataframe tbody tr th {\n",
       "        vertical-align: top;\n",
       "    }\n",
       "\n",
       "    .dataframe thead th {\n",
       "        text-align: right;\n",
       "    }\n",
       "</style>\n",
       "<table border=\"1\" class=\"dataframe\">\n",
       "  <thead>\n",
       "    <tr style=\"text-align: right;\">\n",
       "      <th></th>\n",
       "      <th>children</th>\n",
       "      <th>days_employed</th>\n",
       "      <th>dob_years</th>\n",
       "      <th>education</th>\n",
       "      <th>education_id</th>\n",
       "      <th>family_status</th>\n",
       "      <th>family_status_id</th>\n",
       "      <th>gender</th>\n",
       "      <th>income_type</th>\n",
       "      <th>debt</th>\n",
       "      <th>total_income</th>\n",
       "      <th>purpose</th>\n",
       "    </tr>\n",
       "  </thead>\n",
       "  <tbody>\n",
       "    <tr>\n",
       "      <td>0</td>\n",
       "      <td>1</td>\n",
       "      <td>-8,437.67</td>\n",
       "      <td>42</td>\n",
       "      <td>высшее</td>\n",
       "      <td>0</td>\n",
       "      <td>женат / замужем</td>\n",
       "      <td>0</td>\n",
       "      <td>F</td>\n",
       "      <td>сотрудник</td>\n",
       "      <td>0</td>\n",
       "      <td>253,875.64</td>\n",
       "      <td>покупка жилья</td>\n",
       "    </tr>\n",
       "    <tr>\n",
       "      <td>1</td>\n",
       "      <td>1</td>\n",
       "      <td>-4,024.80</td>\n",
       "      <td>36</td>\n",
       "      <td>среднее</td>\n",
       "      <td>1</td>\n",
       "      <td>женат / замужем</td>\n",
       "      <td>0</td>\n",
       "      <td>F</td>\n",
       "      <td>сотрудник</td>\n",
       "      <td>0</td>\n",
       "      <td>112,080.01</td>\n",
       "      <td>приобретение автомобиля</td>\n",
       "    </tr>\n",
       "    <tr>\n",
       "      <td>2</td>\n",
       "      <td>0</td>\n",
       "      <td>-5,623.42</td>\n",
       "      <td>33</td>\n",
       "      <td>Среднее</td>\n",
       "      <td>1</td>\n",
       "      <td>женат / замужем</td>\n",
       "      <td>0</td>\n",
       "      <td>M</td>\n",
       "      <td>сотрудник</td>\n",
       "      <td>0</td>\n",
       "      <td>145,885.95</td>\n",
       "      <td>покупка жилья</td>\n",
       "    </tr>\n",
       "    <tr>\n",
       "      <td>3</td>\n",
       "      <td>3</td>\n",
       "      <td>-4,124.75</td>\n",
       "      <td>32</td>\n",
       "      <td>среднее</td>\n",
       "      <td>1</td>\n",
       "      <td>женат / замужем</td>\n",
       "      <td>0</td>\n",
       "      <td>M</td>\n",
       "      <td>сотрудник</td>\n",
       "      <td>0</td>\n",
       "      <td>267,628.55</td>\n",
       "      <td>дополнительное образование</td>\n",
       "    </tr>\n",
       "    <tr>\n",
       "      <td>4</td>\n",
       "      <td>0</td>\n",
       "      <td>340,266.07</td>\n",
       "      <td>53</td>\n",
       "      <td>среднее</td>\n",
       "      <td>1</td>\n",
       "      <td>гражданский брак</td>\n",
       "      <td>1</td>\n",
       "      <td>F</td>\n",
       "      <td>пенсионер</td>\n",
       "      <td>0</td>\n",
       "      <td>158,616.08</td>\n",
       "      <td>сыграть свадьбу</td>\n",
       "    </tr>\n",
       "    <tr>\n",
       "      <td>5</td>\n",
       "      <td>0</td>\n",
       "      <td>-926.19</td>\n",
       "      <td>27</td>\n",
       "      <td>высшее</td>\n",
       "      <td>0</td>\n",
       "      <td>гражданский брак</td>\n",
       "      <td>1</td>\n",
       "      <td>M</td>\n",
       "      <td>компаньон</td>\n",
       "      <td>0</td>\n",
       "      <td>255,763.57</td>\n",
       "      <td>покупка жилья</td>\n",
       "    </tr>\n",
       "    <tr>\n",
       "      <td>6</td>\n",
       "      <td>0</td>\n",
       "      <td>-2,879.20</td>\n",
       "      <td>43</td>\n",
       "      <td>высшее</td>\n",
       "      <td>0</td>\n",
       "      <td>женат / замужем</td>\n",
       "      <td>0</td>\n",
       "      <td>F</td>\n",
       "      <td>компаньон</td>\n",
       "      <td>0</td>\n",
       "      <td>240,525.97</td>\n",
       "      <td>операции с жильем</td>\n",
       "    </tr>\n",
       "    <tr>\n",
       "      <td>7</td>\n",
       "      <td>0</td>\n",
       "      <td>-152.78</td>\n",
       "      <td>50</td>\n",
       "      <td>СРЕДНЕЕ</td>\n",
       "      <td>1</td>\n",
       "      <td>женат / замужем</td>\n",
       "      <td>0</td>\n",
       "      <td>M</td>\n",
       "      <td>сотрудник</td>\n",
       "      <td>0</td>\n",
       "      <td>135,823.93</td>\n",
       "      <td>образование</td>\n",
       "    </tr>\n",
       "    <tr>\n",
       "      <td>8</td>\n",
       "      <td>2</td>\n",
       "      <td>-6,929.87</td>\n",
       "      <td>35</td>\n",
       "      <td>ВЫСШЕЕ</td>\n",
       "      <td>0</td>\n",
       "      <td>гражданский брак</td>\n",
       "      <td>1</td>\n",
       "      <td>F</td>\n",
       "      <td>сотрудник</td>\n",
       "      <td>0</td>\n",
       "      <td>95,856.83</td>\n",
       "      <td>на проведение свадьбы</td>\n",
       "    </tr>\n",
       "    <tr>\n",
       "      <td>9</td>\n",
       "      <td>0</td>\n",
       "      <td>-2,188.76</td>\n",
       "      <td>41</td>\n",
       "      <td>среднее</td>\n",
       "      <td>1</td>\n",
       "      <td>женат / замужем</td>\n",
       "      <td>0</td>\n",
       "      <td>M</td>\n",
       "      <td>сотрудник</td>\n",
       "      <td>0</td>\n",
       "      <td>144,425.94</td>\n",
       "      <td>покупка жилья для семьи</td>\n",
       "    </tr>\n",
       "  </tbody>\n",
       "</table>\n",
       "</div>"
      ],
      "text/plain": [
       "   children  days_employed  dob_years education  education_id  \\\n",
       "0         1      -8,437.67         42    высшее             0   \n",
       "1         1      -4,024.80         36   среднее             1   \n",
       "2         0      -5,623.42         33   Среднее             1   \n",
       "3         3      -4,124.75         32   среднее             1   \n",
       "4         0     340,266.07         53   среднее             1   \n",
       "5         0        -926.19         27    высшее             0   \n",
       "6         0      -2,879.20         43    высшее             0   \n",
       "7         0        -152.78         50   СРЕДНЕЕ             1   \n",
       "8         2      -6,929.87         35    ВЫСШЕЕ             0   \n",
       "9         0      -2,188.76         41   среднее             1   \n",
       "\n",
       "      family_status  family_status_id gender income_type  debt  total_income  \\\n",
       "0   женат / замужем                 0      F   сотрудник     0    253,875.64   \n",
       "1   женат / замужем                 0      F   сотрудник     0    112,080.01   \n",
       "2   женат / замужем                 0      M   сотрудник     0    145,885.95   \n",
       "3   женат / замужем                 0      M   сотрудник     0    267,628.55   \n",
       "4  гражданский брак                 1      F   пенсионер     0    158,616.08   \n",
       "5  гражданский брак                 1      M   компаньон     0    255,763.57   \n",
       "6   женат / замужем                 0      F   компаньон     0    240,525.97   \n",
       "7   женат / замужем                 0      M   сотрудник     0    135,823.93   \n",
       "8  гражданский брак                 1      F   сотрудник     0     95,856.83   \n",
       "9   женат / замужем                 0      M   сотрудник     0    144,425.94   \n",
       "\n",
       "                      purpose  \n",
       "0               покупка жилья  \n",
       "1     приобретение автомобиля  \n",
       "2               покупка жилья  \n",
       "3  дополнительное образование  \n",
       "4             сыграть свадьбу  \n",
       "5               покупка жилья  \n",
       "6           операции с жильем  \n",
       "7                 образование  \n",
       "8       на проведение свадьбы  \n",
       "9     покупка жилья для семьи  "
      ]
     },
     "execution_count": 42,
     "metadata": {},
     "output_type": "execute_result"
    }
   ],
   "source": [
    "import pandas as pd\n",
    "\n",
    "pd.set_option('display.float_format', '{:,.2f}'.format)\n",
    "\n",
    "data = pd.read_csv('/datasets/data.csv')\n",
    "\n",
    "data.head(10) #вывод на экран первых 10 строк датасета\n"
   ]
  },
  {
   "cell_type": "code",
   "execution_count": 43,
   "metadata": {},
   "outputs": [
    {
     "data": {
      "text/html": [
       "<div>\n",
       "<style scoped>\n",
       "    .dataframe tbody tr th:only-of-type {\n",
       "        vertical-align: middle;\n",
       "    }\n",
       "\n",
       "    .dataframe tbody tr th {\n",
       "        vertical-align: top;\n",
       "    }\n",
       "\n",
       "    .dataframe thead th {\n",
       "        text-align: right;\n",
       "    }\n",
       "</style>\n",
       "<table border=\"1\" class=\"dataframe\">\n",
       "  <thead>\n",
       "    <tr style=\"text-align: right;\">\n",
       "      <th></th>\n",
       "      <th>children</th>\n",
       "      <th>days_employed</th>\n",
       "      <th>dob_years</th>\n",
       "      <th>education_id</th>\n",
       "      <th>family_status_id</th>\n",
       "      <th>debt</th>\n",
       "      <th>total_income</th>\n",
       "    </tr>\n",
       "  </thead>\n",
       "  <tbody>\n",
       "    <tr>\n",
       "      <td>count</td>\n",
       "      <td>21,525.00</td>\n",
       "      <td>19,351.00</td>\n",
       "      <td>21,525.00</td>\n",
       "      <td>21,525.00</td>\n",
       "      <td>21,525.00</td>\n",
       "      <td>21,525.00</td>\n",
       "      <td>19,351.00</td>\n",
       "    </tr>\n",
       "    <tr>\n",
       "      <td>mean</td>\n",
       "      <td>0.54</td>\n",
       "      <td>63,046.50</td>\n",
       "      <td>43.29</td>\n",
       "      <td>0.82</td>\n",
       "      <td>0.97</td>\n",
       "      <td>0.08</td>\n",
       "      <td>167,422.30</td>\n",
       "    </tr>\n",
       "    <tr>\n",
       "      <td>std</td>\n",
       "      <td>1.38</td>\n",
       "      <td>140,827.31</td>\n",
       "      <td>12.57</td>\n",
       "      <td>0.55</td>\n",
       "      <td>1.42</td>\n",
       "      <td>0.27</td>\n",
       "      <td>102,971.57</td>\n",
       "    </tr>\n",
       "    <tr>\n",
       "      <td>min</td>\n",
       "      <td>-1.00</td>\n",
       "      <td>-18,388.95</td>\n",
       "      <td>0.00</td>\n",
       "      <td>0.00</td>\n",
       "      <td>0.00</td>\n",
       "      <td>0.00</td>\n",
       "      <td>20,667.26</td>\n",
       "    </tr>\n",
       "    <tr>\n",
       "      <td>25%</td>\n",
       "      <td>0.00</td>\n",
       "      <td>-2,747.42</td>\n",
       "      <td>33.00</td>\n",
       "      <td>1.00</td>\n",
       "      <td>0.00</td>\n",
       "      <td>0.00</td>\n",
       "      <td>103,053.15</td>\n",
       "    </tr>\n",
       "    <tr>\n",
       "      <td>50%</td>\n",
       "      <td>0.00</td>\n",
       "      <td>-1,203.37</td>\n",
       "      <td>42.00</td>\n",
       "      <td>1.00</td>\n",
       "      <td>0.00</td>\n",
       "      <td>0.00</td>\n",
       "      <td>145,017.94</td>\n",
       "    </tr>\n",
       "    <tr>\n",
       "      <td>75%</td>\n",
       "      <td>1.00</td>\n",
       "      <td>-291.10</td>\n",
       "      <td>53.00</td>\n",
       "      <td>1.00</td>\n",
       "      <td>1.00</td>\n",
       "      <td>0.00</td>\n",
       "      <td>203,435.07</td>\n",
       "    </tr>\n",
       "    <tr>\n",
       "      <td>max</td>\n",
       "      <td>20.00</td>\n",
       "      <td>401,755.40</td>\n",
       "      <td>75.00</td>\n",
       "      <td>4.00</td>\n",
       "      <td>4.00</td>\n",
       "      <td>1.00</td>\n",
       "      <td>2,265,604.03</td>\n",
       "    </tr>\n",
       "  </tbody>\n",
       "</table>\n",
       "</div>"
      ],
      "text/plain": [
       "       children  days_employed  dob_years  education_id  family_status_id  \\\n",
       "count 21,525.00      19,351.00  21,525.00     21,525.00         21,525.00   \n",
       "mean       0.54      63,046.50      43.29          0.82              0.97   \n",
       "std        1.38     140,827.31      12.57          0.55              1.42   \n",
       "min       -1.00     -18,388.95       0.00          0.00              0.00   \n",
       "25%        0.00      -2,747.42      33.00          1.00              0.00   \n",
       "50%        0.00      -1,203.37      42.00          1.00              0.00   \n",
       "75%        1.00        -291.10      53.00          1.00              1.00   \n",
       "max       20.00     401,755.40      75.00          4.00              4.00   \n",
       "\n",
       "           debt  total_income  \n",
       "count 21,525.00     19,351.00  \n",
       "mean       0.08    167,422.30  \n",
       "std        0.27    102,971.57  \n",
       "min        0.00     20,667.26  \n",
       "25%        0.00    103,053.15  \n",
       "50%        0.00    145,017.94  \n",
       "75%        0.00    203,435.07  \n",
       "max        1.00  2,265,604.03  "
      ]
     },
     "execution_count": 43,
     "metadata": {},
     "output_type": "execute_result"
    }
   ],
   "source": [
    "#информация о данных в таблице\n",
    "data.describe() "
   ]
  },
  {
   "cell_type": "code",
   "execution_count": 44,
   "metadata": {},
   "outputs": [
    {
     "name": "stdout",
     "output_type": "stream",
     "text": [
      "<class 'pandas.core.frame.DataFrame'>\n",
      "RangeIndex: 21525 entries, 0 to 21524\n",
      "Data columns (total 12 columns):\n",
      "children            21525 non-null int64\n",
      "days_employed       19351 non-null float64\n",
      "dob_years           21525 non-null int64\n",
      "education           21525 non-null object\n",
      "education_id        21525 non-null int64\n",
      "family_status       21525 non-null object\n",
      "family_status_id    21525 non-null int64\n",
      "gender              21525 non-null object\n",
      "income_type         21525 non-null object\n",
      "debt                21525 non-null int64\n",
      "total_income        19351 non-null float64\n",
      "purpose             21525 non-null object\n",
      "dtypes: float64(2), int64(5), object(5)\n",
      "memory usage: 2.0+ MB\n"
     ]
    }
   ],
   "source": [
    "#информация о пропущенных значениях \n",
    "data.info() "
   ]
  },
  {
   "cell_type": "markdown",
   "metadata": {},
   "source": [
    "**Вывод:** Видно, что в данных есть проблемы.\n",
    "1. Пропуски в столбцах 'days_employed' и 'total_income'. Т.к пропусков одинаковое количество, то нужно проверить гипотезу, что пропуски есть одновременно в обоих столбцах.\n",
    "2. Отрицательные значения в столбце 'days_employed'. Возможно отрицательные значения трудового стажа связаны с выходом человека на пенсию. \n",
    "3. Тип данных в столбцах 'days_employed'и 'total_income'нужно поменять на int64\n",
    "4. Различное написание(строчные и прописные буквы) в столбце 'education'.\n",
    "5. Странные значения столбца 'children'. -1 ребёнка быть не может.\n",
    "6. Нулевые значения в 'dob_years'. Возраст не может равняться 0. Возможно значения пропущены. "
   ]
  },
  {
   "cell_type": "markdown",
   "metadata": {},
   "source": [
    "## Шаг 2. Предобработка данных"
   ]
  },
  {
   "cell_type": "markdown",
   "metadata": {},
   "source": [
    "### Обработка пропусков"
   ]
  },
  {
   "cell_type": "code",
   "execution_count": 45,
   "metadata": {},
   "outputs": [
    {
     "name": "stdout",
     "output_type": "stream",
     "text": [
      "<class 'pandas.core.frame.DataFrame'>\n",
      "Int64Index: 2174 entries, 12 to 21510\n",
      "Data columns (total 12 columns):\n",
      "children            2174 non-null int64\n",
      "days_employed       0 non-null float64\n",
      "dob_years           2174 non-null int64\n",
      "education           2174 non-null object\n",
      "education_id        2174 non-null int64\n",
      "family_status       2174 non-null object\n",
      "family_status_id    2174 non-null int64\n",
      "gender              2174 non-null object\n",
      "income_type         2174 non-null object\n",
      "debt                2174 non-null int64\n",
      "total_income        0 non-null float64\n",
      "purpose             2174 non-null object\n",
      "dtypes: float64(2), int64(5), object(5)\n",
      "memory usage: 220.8+ KB\n"
     ]
    }
   ],
   "source": [
    "#В столбцах 'days_employed' и 'total_income' одинаковое количество пропусков. Проверим связаны ли отсутсвия данных по трудовому стажу и по доходам.\n",
    "\n",
    "data[(data['days_employed'].isnull() == True) & (data['total_income'].isnull() == True)].info()"
   ]
  },
  {
   "cell_type": "markdown",
   "metadata": {},
   "source": [
    "Предположение подтвердилось, пропуски в обоих столбцах одновременно. Нужно проверить относятся ли значения с пропусками к одной группе(например люди одной статуса(например: госслужащий). Если да, то можно будет заполнить пропуски средними значениями по этой группе."
   ]
  },
  {
   "cell_type": "code",
   "execution_count": 46,
   "metadata": {},
   "outputs": [
    {
     "data": {
      "text/plain": [
       "сотрудник          1105\n",
       "компаньон           508\n",
       "пенсионер           413\n",
       "госслужащий         147\n",
       "предприниматель       1\n",
       "Name: income_type, dtype: int64"
      ]
     },
     "execution_count": 46,
     "metadata": {},
     "output_type": "execute_result"
    }
   ],
   "source": [
    "#Проверим распределение пропусков по профессиям\n",
    "\n",
    "data[(data['days_employed'].isnull() == True) & (data['total_income'].isnull() == True)]['income_type'].value_counts()"
   ]
  },
  {
   "cell_type": "markdown",
   "metadata": {},
   "source": [
    "**Вывод:** Данные относятся к разным группам, значит для заполнения пропусков нужно будет использовать средние значения для каждой группы в отдельности."
   ]
  },
  {
   "cell_type": "code",
   "execution_count": 47,
   "metadata": {},
   "outputs": [
    {
     "name": "stdout",
     "output_type": "stream",
     "text": [
      "Трудовой стаж > 0: 3445\n",
      "Трудовой стаж < 0: 15906\n",
      "Пенсионеры с трудовым стажем > 0: 3443\n",
      "Пенсионеры с трудовым стажем > 0: 0\n"
     ]
    }
   ],
   "source": [
    "#Проверим, что отрицательные значения в days_employed как-то связаны с выходом человека на пенсию. \n",
    "#Для этого найдём строки 'days_employed' с значениями больше и меньше нуля и соотнесем их с количеством строк, \n",
    "#со значением 'income_type' == 'пенсионер'\n",
    "\n",
    "print('Трудовой стаж > 0:', data[data['days_employed'] > 0].shape[0])\n",
    "print('Трудовой стаж < 0:', data[data['days_employed'] < 0].shape[0])\n",
    "print('Пенсионеры с трудовым стажем > 0:', data[(data['days_employed'] > 0) & (data['income_type'] == 'пенсионер')].shape[0])\n",
    "print('Пенсионеры с трудовым стажем > 0:', data[(data['days_employed'] < 0) & (data['income_type'] == 'пенсионер')].shape[0])"
   ]
  },
  {
   "cell_type": "markdown",
   "metadata": {},
   "source": [
    "**Вывод:** Пограничным значением в этих данных считается выход человека на пенсию. У всех работающих сейчас значения в 'days_employed' отрицательные. У пенсионеров положительные. Ещё два значения относятся к какой-то другой группе."
   ]
  },
  {
   "cell_type": "code",
   "execution_count": 48,
   "metadata": {},
   "outputs": [
    {
     "data": {
      "text/html": [
       "<div>\n",
       "<style scoped>\n",
       "    .dataframe tbody tr th:only-of-type {\n",
       "        vertical-align: middle;\n",
       "    }\n",
       "\n",
       "    .dataframe tbody tr th {\n",
       "        vertical-align: top;\n",
       "    }\n",
       "\n",
       "    .dataframe thead tr th {\n",
       "        text-align: left;\n",
       "    }\n",
       "\n",
       "    .dataframe thead tr:last-of-type th {\n",
       "        text-align: right;\n",
       "    }\n",
       "</style>\n",
       "<table border=\"1\" class=\"dataframe\">\n",
       "  <thead>\n",
       "    <tr>\n",
       "      <th></th>\n",
       "      <th colspan=\"3\" halign=\"left\">days_employed</th>\n",
       "    </tr>\n",
       "    <tr>\n",
       "      <th></th>\n",
       "      <th>Общее количество строк</th>\n",
       "      <th>Среднее</th>\n",
       "      <th>Кол-во значений &gt; 0</th>\n",
       "    </tr>\n",
       "    <tr>\n",
       "      <th>income_type</th>\n",
       "      <th></th>\n",
       "      <th></th>\n",
       "      <th></th>\n",
       "    </tr>\n",
       "  </thead>\n",
       "  <tbody>\n",
       "    <tr>\n",
       "      <td>безработный</td>\n",
       "      <td>2</td>\n",
       "      <td>366,413.65</td>\n",
       "      <td>2.00</td>\n",
       "    </tr>\n",
       "    <tr>\n",
       "      <td>в декрете</td>\n",
       "      <td>1</td>\n",
       "      <td>-3,296.76</td>\n",
       "      <td>0.00</td>\n",
       "    </tr>\n",
       "    <tr>\n",
       "      <td>госслужащий</td>\n",
       "      <td>1312</td>\n",
       "      <td>-3,399.90</td>\n",
       "      <td>0.00</td>\n",
       "    </tr>\n",
       "    <tr>\n",
       "      <td>компаньон</td>\n",
       "      <td>4577</td>\n",
       "      <td>-2,111.52</td>\n",
       "      <td>0.00</td>\n",
       "    </tr>\n",
       "    <tr>\n",
       "      <td>пенсионер</td>\n",
       "      <td>3443</td>\n",
       "      <td>365,003.49</td>\n",
       "      <td>3,443.00</td>\n",
       "    </tr>\n",
       "    <tr>\n",
       "      <td>предприниматель</td>\n",
       "      <td>1</td>\n",
       "      <td>-520.85</td>\n",
       "      <td>0.00</td>\n",
       "    </tr>\n",
       "    <tr>\n",
       "      <td>сотрудник</td>\n",
       "      <td>10014</td>\n",
       "      <td>-2,326.50</td>\n",
       "      <td>0.00</td>\n",
       "    </tr>\n",
       "    <tr>\n",
       "      <td>студент</td>\n",
       "      <td>1</td>\n",
       "      <td>-578.75</td>\n",
       "      <td>0.00</td>\n",
       "    </tr>\n",
       "  </tbody>\n",
       "</table>\n",
       "</div>"
      ],
      "text/plain": [
       "                         days_employed                               \n",
       "                Общее количество строк    Среднее Кол-во значений > 0\n",
       "income_type                                                          \n",
       "безработный                          2 366,413.65                2.00\n",
       "в декрете                            1  -3,296.76                0.00\n",
       "госслужащий                       1312  -3,399.90                0.00\n",
       "компаньон                         4577  -2,111.52                0.00\n",
       "пенсионер                         3443 365,003.49            3,443.00\n",
       "предприниматель                      1    -520.85                0.00\n",
       "сотрудник                        10014  -2,326.50                0.00\n",
       "студент                              1    -578.75                0.00"
      ]
     },
     "execution_count": 48,
     "metadata": {},
     "output_type": "execute_result"
    }
   ],
   "source": [
    "#Сгруппируем данные по типу занятости.Посчитам количесто строк, средние и значения больше 0 в столбце 'days_employed'\n",
    "\n",
    "data_grouped = data.groupby('income_type').agg({'days_employed':['count', 'mean', lambda x: sum(x>0)]})\n",
    "\n",
    "dict_to_rename = dict(zip(data_grouped.columns.levels[1], ['Общее количество строк', 'Среднее', 'Кол-во значений > 0']))\n",
    "\n",
    "data_grouped = data_grouped.rename(columns=dict_to_rename, level=1)\n",
    "data_grouped"
   ]
  },
  {
   "cell_type": "code",
   "execution_count": 49,
   "metadata": {},
   "outputs": [
    {
     "data": {
      "text/plain": [
       "<matplotlib.axes._subplots.AxesSubplot at 0x7fe0753c7d10>"
      ]
     },
     "execution_count": 49,
     "metadata": {},
     "output_type": "execute_result"
    },
    {
     "data": {
      "image/png": "[encoded data removed]",
      "text/plain": [
       "<Figure size 432x288 with 1 Axes>"
      ]
     },
     "metadata": {
      "needs_background": "light"
     },
     "output_type": "display_data"
    }
   ],
   "source": [
    "import seaborn\n",
    "seaborn.barplot(x='days_employed', y='income_type' ,data=data)\n"
   ]
  },
  {
   "cell_type": "markdown",
   "metadata": {},
   "source": [
    "**Вывод:** Видно, что кроме пенсионеров отрицательные значения days_employed так же есть у безработных. Для всех остальных категорий значения положительные."
   ]
  },
  {
   "cell_type": "code",
   "execution_count": 50,
   "metadata": {},
   "outputs": [
    {
     "data": {
      "text/html": [
       "<div>\n",
       "<style scoped>\n",
       "    .dataframe tbody tr th:only-of-type {\n",
       "        vertical-align: middle;\n",
       "    }\n",
       "\n",
       "    .dataframe tbody tr th {\n",
       "        vertical-align: top;\n",
       "    }\n",
       "\n",
       "    .dataframe thead th {\n",
       "        text-align: right;\n",
       "    }\n",
       "</style>\n",
       "<table border=\"1\" class=\"dataframe\">\n",
       "  <thead>\n",
       "    <tr style=\"text-align: right;\">\n",
       "      <th></th>\n",
       "      <th>children</th>\n",
       "      <th>days_employed</th>\n",
       "      <th>dob_years</th>\n",
       "      <th>education</th>\n",
       "      <th>education_id</th>\n",
       "      <th>family_status</th>\n",
       "      <th>family_status_id</th>\n",
       "      <th>gender</th>\n",
       "      <th>income_type</th>\n",
       "      <th>debt</th>\n",
       "      <th>total_income</th>\n",
       "      <th>purpose</th>\n",
       "    </tr>\n",
       "  </thead>\n",
       "  <tbody>\n",
       "    <tr>\n",
       "      <td>0</td>\n",
       "      <td>1</td>\n",
       "      <td>8,437.67</td>\n",
       "      <td>42</td>\n",
       "      <td>высшее</td>\n",
       "      <td>0</td>\n",
       "      <td>женат / замужем</td>\n",
       "      <td>0</td>\n",
       "      <td>F</td>\n",
       "      <td>сотрудник</td>\n",
       "      <td>0</td>\n",
       "      <td>253,875.64</td>\n",
       "      <td>покупка жилья</td>\n",
       "    </tr>\n",
       "    <tr>\n",
       "      <td>1</td>\n",
       "      <td>1</td>\n",
       "      <td>4,024.80</td>\n",
       "      <td>36</td>\n",
       "      <td>среднее</td>\n",
       "      <td>1</td>\n",
       "      <td>женат / замужем</td>\n",
       "      <td>0</td>\n",
       "      <td>F</td>\n",
       "      <td>сотрудник</td>\n",
       "      <td>0</td>\n",
       "      <td>112,080.01</td>\n",
       "      <td>приобретение автомобиля</td>\n",
       "    </tr>\n",
       "    <tr>\n",
       "      <td>2</td>\n",
       "      <td>0</td>\n",
       "      <td>5,623.42</td>\n",
       "      <td>33</td>\n",
       "      <td>Среднее</td>\n",
       "      <td>1</td>\n",
       "      <td>женат / замужем</td>\n",
       "      <td>0</td>\n",
       "      <td>M</td>\n",
       "      <td>сотрудник</td>\n",
       "      <td>0</td>\n",
       "      <td>145,885.95</td>\n",
       "      <td>покупка жилья</td>\n",
       "    </tr>\n",
       "    <tr>\n",
       "      <td>3</td>\n",
       "      <td>3</td>\n",
       "      <td>4,124.75</td>\n",
       "      <td>32</td>\n",
       "      <td>среднее</td>\n",
       "      <td>1</td>\n",
       "      <td>женат / замужем</td>\n",
       "      <td>0</td>\n",
       "      <td>M</td>\n",
       "      <td>сотрудник</td>\n",
       "      <td>0</td>\n",
       "      <td>267,628.55</td>\n",
       "      <td>дополнительное образование</td>\n",
       "    </tr>\n",
       "    <tr>\n",
       "      <td>4</td>\n",
       "      <td>0</td>\n",
       "      <td>340,266.07</td>\n",
       "      <td>53</td>\n",
       "      <td>среднее</td>\n",
       "      <td>1</td>\n",
       "      <td>гражданский брак</td>\n",
       "      <td>1</td>\n",
       "      <td>F</td>\n",
       "      <td>пенсионер</td>\n",
       "      <td>0</td>\n",
       "      <td>158,616.08</td>\n",
       "      <td>сыграть свадьбу</td>\n",
       "    </tr>\n",
       "    <tr>\n",
       "      <td>5</td>\n",
       "      <td>0</td>\n",
       "      <td>926.19</td>\n",
       "      <td>27</td>\n",
       "      <td>высшее</td>\n",
       "      <td>0</td>\n",
       "      <td>гражданский брак</td>\n",
       "      <td>1</td>\n",
       "      <td>M</td>\n",
       "      <td>компаньон</td>\n",
       "      <td>0</td>\n",
       "      <td>255,763.57</td>\n",
       "      <td>покупка жилья</td>\n",
       "    </tr>\n",
       "    <tr>\n",
       "      <td>6</td>\n",
       "      <td>0</td>\n",
       "      <td>2,879.20</td>\n",
       "      <td>43</td>\n",
       "      <td>высшее</td>\n",
       "      <td>0</td>\n",
       "      <td>женат / замужем</td>\n",
       "      <td>0</td>\n",
       "      <td>F</td>\n",
       "      <td>компаньон</td>\n",
       "      <td>0</td>\n",
       "      <td>240,525.97</td>\n",
       "      <td>операции с жильем</td>\n",
       "    </tr>\n",
       "    <tr>\n",
       "      <td>7</td>\n",
       "      <td>0</td>\n",
       "      <td>152.78</td>\n",
       "      <td>50</td>\n",
       "      <td>СРЕДНЕЕ</td>\n",
       "      <td>1</td>\n",
       "      <td>женат / замужем</td>\n",
       "      <td>0</td>\n",
       "      <td>M</td>\n",
       "      <td>сотрудник</td>\n",
       "      <td>0</td>\n",
       "      <td>135,823.93</td>\n",
       "      <td>образование</td>\n",
       "    </tr>\n",
       "    <tr>\n",
       "      <td>8</td>\n",
       "      <td>2</td>\n",
       "      <td>6,929.87</td>\n",
       "      <td>35</td>\n",
       "      <td>ВЫСШЕЕ</td>\n",
       "      <td>0</td>\n",
       "      <td>гражданский брак</td>\n",
       "      <td>1</td>\n",
       "      <td>F</td>\n",
       "      <td>сотрудник</td>\n",
       "      <td>0</td>\n",
       "      <td>95,856.83</td>\n",
       "      <td>на проведение свадьбы</td>\n",
       "    </tr>\n",
       "    <tr>\n",
       "      <td>9</td>\n",
       "      <td>0</td>\n",
       "      <td>2,188.76</td>\n",
       "      <td>41</td>\n",
       "      <td>среднее</td>\n",
       "      <td>1</td>\n",
       "      <td>женат / замужем</td>\n",
       "      <td>0</td>\n",
       "      <td>M</td>\n",
       "      <td>сотрудник</td>\n",
       "      <td>0</td>\n",
       "      <td>144,425.94</td>\n",
       "      <td>покупка жилья для семьи</td>\n",
       "    </tr>\n",
       "  </tbody>\n",
       "</table>\n",
       "</div>"
      ],
      "text/plain": [
       "   children  days_employed  dob_years education  education_id  \\\n",
       "0         1       8,437.67         42    высшее             0   \n",
       "1         1       4,024.80         36   среднее             1   \n",
       "2         0       5,623.42         33   Среднее             1   \n",
       "3         3       4,124.75         32   среднее             1   \n",
       "4         0     340,266.07         53   среднее             1   \n",
       "5         0         926.19         27    высшее             0   \n",
       "6         0       2,879.20         43    высшее             0   \n",
       "7         0         152.78         50   СРЕДНЕЕ             1   \n",
       "8         2       6,929.87         35    ВЫСШЕЕ             0   \n",
       "9         0       2,188.76         41   среднее             1   \n",
       "\n",
       "      family_status  family_status_id gender income_type  debt  total_income  \\\n",
       "0   женат / замужем                 0      F   сотрудник     0    253,875.64   \n",
       "1   женат / замужем                 0      F   сотрудник     0    112,080.01   \n",
       "2   женат / замужем                 0      M   сотрудник     0    145,885.95   \n",
       "3   женат / замужем                 0      M   сотрудник     0    267,628.55   \n",
       "4  гражданский брак                 1      F   пенсионер     0    158,616.08   \n",
       "5  гражданский брак                 1      M   компаньон     0    255,763.57   \n",
       "6   женат / замужем                 0      F   компаньон     0    240,525.97   \n",
       "7   женат / замужем                 0      M   сотрудник     0    135,823.93   \n",
       "8  гражданский брак                 1      F   сотрудник     0     95,856.83   \n",
       "9   женат / замужем                 0      M   сотрудник     0    144,425.94   \n",
       "\n",
       "                      purpose  \n",
       "0               покупка жилья  \n",
       "1     приобретение автомобиля  \n",
       "2               покупка жилья  \n",
       "3  дополнительное образование  \n",
       "4             сыграть свадьбу  \n",
       "5               покупка жилья  \n",
       "6           операции с жильем  \n",
       "7                 образование  \n",
       "8       на проведение свадьбы  \n",
       "9     покупка жилья для семьи  "
      ]
     },
     "execution_count": 50,
     "metadata": {},
     "output_type": "execute_result"
    }
   ],
   "source": [
    "#Чтобы избавиться от отрицательных значений возьмём значения столбцов по модулю \n",
    "data[['total_income', 'days_employed']] = data[['total_income', 'days_employed']].abs()\n",
    "\n",
    "data.head(10)"
   ]
  },
  {
   "cell_type": "code",
   "execution_count": 51,
   "metadata": {},
   "outputs": [
    {
     "name": "stdout",
     "output_type": "stream",
     "text": [
      "0         1,548.65\n",
      "1         1,607.38\n",
      "2         1,730.67\n",
      "3         1,607.38\n",
      "4       365,232.44\n",
      "           ...    \n",
      "21520     1,645.33\n",
      "21521   365,232.44\n",
      "21522     1,607.38\n",
      "21523     1,607.38\n",
      "21524     1,607.38\n",
      "Name: days_employed, Length: 21525, dtype: float64\n"
     ]
    }
   ],
   "source": [
    "#заполняем пропуски в столбцах 'days_employed' и 'income_type' средними значениями\n",
    "groups = data.groupby(['education', 'income_type'])['days_employed'].transform('median')\n",
    "groups1 = data.groupby(['education', 'income_type'])['total_income'].transform('median')\n",
    "print(groups)\n",
    "\n",
    "data['days_employed'] = data['days_employed'].fillna(groups)\n",
    "data['total_income'] = data['total_income'].fillna(groups)"
   ]
  },
  {
   "cell_type": "code",
   "execution_count": 52,
   "metadata": {},
   "outputs": [
    {
     "name": "stdout",
     "output_type": "stream",
     "text": [
      "<class 'pandas.core.frame.DataFrame'>\n",
      "RangeIndex: 21525 entries, 0 to 21524\n",
      "Data columns (total 12 columns):\n",
      "children            21525 non-null int64\n",
      "days_employed       21525 non-null float64\n",
      "dob_years           21525 non-null int64\n",
      "education           21525 non-null object\n",
      "education_id        21525 non-null int64\n",
      "family_status       21525 non-null object\n",
      "family_status_id    21525 non-null int64\n",
      "gender              21525 non-null object\n",
      "income_type         21525 non-null object\n",
      "debt                21525 non-null int64\n",
      "total_income        21525 non-null float64\n",
      "purpose             21525 non-null object\n",
      "dtypes: float64(2), int64(5), object(5)\n",
      "memory usage: 2.0+ MB\n"
     ]
    }
   ],
   "source": [
    "data.info()"
   ]
  },
  {
   "cell_type": "code",
   "execution_count": 53,
   "metadata": {},
   "outputs": [
    {
     "data": {
      "text/html": [
       "<div>\n",
       "<style scoped>\n",
       "    .dataframe tbody tr th:only-of-type {\n",
       "        vertical-align: middle;\n",
       "    }\n",
       "\n",
       "    .dataframe tbody tr th {\n",
       "        vertical-align: top;\n",
       "    }\n",
       "\n",
       "    .dataframe thead th {\n",
       "        text-align: right;\n",
       "    }\n",
       "</style>\n",
       "<table border=\"1\" class=\"dataframe\">\n",
       "  <thead>\n",
       "    <tr style=\"text-align: right;\">\n",
       "      <th></th>\n",
       "      <th>children</th>\n",
       "      <th>days_employed</th>\n",
       "      <th>dob_years</th>\n",
       "      <th>education</th>\n",
       "      <th>education_id</th>\n",
       "      <th>family_status</th>\n",
       "      <th>family_status_id</th>\n",
       "      <th>gender</th>\n",
       "      <th>income_type</th>\n",
       "      <th>debt</th>\n",
       "      <th>total_income</th>\n",
       "      <th>purpose</th>\n",
       "    </tr>\n",
       "  </thead>\n",
       "  <tbody>\n",
       "    <tr>\n",
       "      <td>0</td>\n",
       "      <td>1</td>\n",
       "      <td>8,437.67</td>\n",
       "      <td>42</td>\n",
       "      <td>высшее</td>\n",
       "      <td>0</td>\n",
       "      <td>женат / замужем</td>\n",
       "      <td>0</td>\n",
       "      <td>F</td>\n",
       "      <td>сотрудник</td>\n",
       "      <td>0</td>\n",
       "      <td>253,875.64</td>\n",
       "      <td>покупка жилья</td>\n",
       "    </tr>\n",
       "    <tr>\n",
       "      <td>1</td>\n",
       "      <td>1</td>\n",
       "      <td>4,024.80</td>\n",
       "      <td>36</td>\n",
       "      <td>среднее</td>\n",
       "      <td>1</td>\n",
       "      <td>женат / замужем</td>\n",
       "      <td>0</td>\n",
       "      <td>F</td>\n",
       "      <td>сотрудник</td>\n",
       "      <td>0</td>\n",
       "      <td>112,080.01</td>\n",
       "      <td>приобретение автомобиля</td>\n",
       "    </tr>\n",
       "    <tr>\n",
       "      <td>2</td>\n",
       "      <td>0</td>\n",
       "      <td>5,623.42</td>\n",
       "      <td>33</td>\n",
       "      <td>среднее</td>\n",
       "      <td>1</td>\n",
       "      <td>женат / замужем</td>\n",
       "      <td>0</td>\n",
       "      <td>M</td>\n",
       "      <td>сотрудник</td>\n",
       "      <td>0</td>\n",
       "      <td>145,885.95</td>\n",
       "      <td>покупка жилья</td>\n",
       "    </tr>\n",
       "    <tr>\n",
       "      <td>3</td>\n",
       "      <td>3</td>\n",
       "      <td>4,124.75</td>\n",
       "      <td>32</td>\n",
       "      <td>среднее</td>\n",
       "      <td>1</td>\n",
       "      <td>женат / замужем</td>\n",
       "      <td>0</td>\n",
       "      <td>M</td>\n",
       "      <td>сотрудник</td>\n",
       "      <td>0</td>\n",
       "      <td>267,628.55</td>\n",
       "      <td>дополнительное образование</td>\n",
       "    </tr>\n",
       "    <tr>\n",
       "      <td>4</td>\n",
       "      <td>0</td>\n",
       "      <td>340,266.07</td>\n",
       "      <td>53</td>\n",
       "      <td>среднее</td>\n",
       "      <td>1</td>\n",
       "      <td>гражданский брак</td>\n",
       "      <td>1</td>\n",
       "      <td>F</td>\n",
       "      <td>пенсионер</td>\n",
       "      <td>0</td>\n",
       "      <td>158,616.08</td>\n",
       "      <td>сыграть свадьбу</td>\n",
       "    </tr>\n",
       "    <tr>\n",
       "      <td>5</td>\n",
       "      <td>0</td>\n",
       "      <td>926.19</td>\n",
       "      <td>27</td>\n",
       "      <td>высшее</td>\n",
       "      <td>0</td>\n",
       "      <td>гражданский брак</td>\n",
       "      <td>1</td>\n",
       "      <td>M</td>\n",
       "      <td>компаньон</td>\n",
       "      <td>0</td>\n",
       "      <td>255,763.57</td>\n",
       "      <td>покупка жилья</td>\n",
       "    </tr>\n",
       "    <tr>\n",
       "      <td>6</td>\n",
       "      <td>0</td>\n",
       "      <td>2,879.20</td>\n",
       "      <td>43</td>\n",
       "      <td>высшее</td>\n",
       "      <td>0</td>\n",
       "      <td>женат / замужем</td>\n",
       "      <td>0</td>\n",
       "      <td>F</td>\n",
       "      <td>компаньон</td>\n",
       "      <td>0</td>\n",
       "      <td>240,525.97</td>\n",
       "      <td>операции с жильем</td>\n",
       "    </tr>\n",
       "    <tr>\n",
       "      <td>7</td>\n",
       "      <td>0</td>\n",
       "      <td>152.78</td>\n",
       "      <td>50</td>\n",
       "      <td>среднее</td>\n",
       "      <td>1</td>\n",
       "      <td>женат / замужем</td>\n",
       "      <td>0</td>\n",
       "      <td>M</td>\n",
       "      <td>сотрудник</td>\n",
       "      <td>0</td>\n",
       "      <td>135,823.93</td>\n",
       "      <td>образование</td>\n",
       "    </tr>\n",
       "    <tr>\n",
       "      <td>8</td>\n",
       "      <td>2</td>\n",
       "      <td>6,929.87</td>\n",
       "      <td>35</td>\n",
       "      <td>высшее</td>\n",
       "      <td>0</td>\n",
       "      <td>гражданский брак</td>\n",
       "      <td>1</td>\n",
       "      <td>F</td>\n",
       "      <td>сотрудник</td>\n",
       "      <td>0</td>\n",
       "      <td>95,856.83</td>\n",
       "      <td>на проведение свадьбы</td>\n",
       "    </tr>\n",
       "    <tr>\n",
       "      <td>9</td>\n",
       "      <td>0</td>\n",
       "      <td>2,188.76</td>\n",
       "      <td>41</td>\n",
       "      <td>среднее</td>\n",
       "      <td>1</td>\n",
       "      <td>женат / замужем</td>\n",
       "      <td>0</td>\n",
       "      <td>M</td>\n",
       "      <td>сотрудник</td>\n",
       "      <td>0</td>\n",
       "      <td>144,425.94</td>\n",
       "      <td>покупка жилья для семьи</td>\n",
       "    </tr>\n",
       "  </tbody>\n",
       "</table>\n",
       "</div>"
      ],
      "text/plain": [
       "   children  days_employed  dob_years education  education_id  \\\n",
       "0         1       8,437.67         42    высшее             0   \n",
       "1         1       4,024.80         36   среднее             1   \n",
       "2         0       5,623.42         33   среднее             1   \n",
       "3         3       4,124.75         32   среднее             1   \n",
       "4         0     340,266.07         53   среднее             1   \n",
       "5         0         926.19         27    высшее             0   \n",
       "6         0       2,879.20         43    высшее             0   \n",
       "7         0         152.78         50   среднее             1   \n",
       "8         2       6,929.87         35    высшее             0   \n",
       "9         0       2,188.76         41   среднее             1   \n",
       "\n",
       "      family_status  family_status_id gender income_type  debt  total_income  \\\n",
       "0   женат / замужем                 0      F   сотрудник     0    253,875.64   \n",
       "1   женат / замужем                 0      F   сотрудник     0    112,080.01   \n",
       "2   женат / замужем                 0      M   сотрудник     0    145,885.95   \n",
       "3   женат / замужем                 0      M   сотрудник     0    267,628.55   \n",
       "4  гражданский брак                 1      F   пенсионер     0    158,616.08   \n",
       "5  гражданский брак                 1      M   компаньон     0    255,763.57   \n",
       "6   женат / замужем                 0      F   компаньон     0    240,525.97   \n",
       "7   женат / замужем                 0      M   сотрудник     0    135,823.93   \n",
       "8  гражданский брак                 1      F   сотрудник     0     95,856.83   \n",
       "9   женат / замужем                 0      M   сотрудник     0    144,425.94   \n",
       "\n",
       "                      purpose  \n",
       "0               покупка жилья  \n",
       "1     приобретение автомобиля  \n",
       "2               покупка жилья  \n",
       "3  дополнительное образование  \n",
       "4             сыграть свадьбу  \n",
       "5               покупка жилья  \n",
       "6           операции с жильем  \n",
       "7                 образование  \n",
       "8       на проведение свадьбы  \n",
       "9     покупка жилья для семьи  "
      ]
     },
     "execution_count": 53,
     "metadata": {},
     "output_type": "execute_result"
    }
   ],
   "source": [
    "#Приводим к единому виду значения в столбце 'education'\n",
    "data['education'] = data['education'].str.lower()\n",
    "data.head(10)"
   ]
  },
  {
   "cell_type": "code",
   "execution_count": 54,
   "metadata": {},
   "outputs": [
    {
     "name": "stdout",
     "output_type": "stream",
     "text": [
      "Строки со значением children -1: 47\n"
     ]
    }
   ],
   "source": [
    "#Посчитаем количество строк в которых есть значение 'children' -1\n",
    "print('Строки со значением children -1:', data[data['children'] == -1].count()[0])"
   ]
  },
  {
   "cell_type": "code",
   "execution_count": 55,
   "metadata": {},
   "outputs": [],
   "source": [
    "#Заменим количество детей с -1 на 0\n",
    "data['children'] = data['children'].replace(-1, 0)"
   ]
  },
  {
   "cell_type": "code",
   "execution_count": 56,
   "metadata": {},
   "outputs": [
    {
     "name": "stdout",
     "output_type": "stream",
     "text": [
      "Количество строк с 'dob_years' 0 - 101\n",
      "Количество строк с 'dob_years' < 18 - 101\n"
     ]
    }
   ],
   "source": [
    "#Посчитаем количество строк со нулевым значением 'dob_years'\n",
    "print(\"Количество строк с 'dob_years' 0 -\", data[data['dob_years'] == 0].count()[0])\n",
    "#Сравним количество строк с нулевым значением 'dob_years' и количество сторк со значением 'dob_years' < 18\n",
    "print(\"Количество строк с 'dob_years' < 18 -\", data[data['dob_years'] < 18].count()[0])"
   ]
  },
  {
   "cell_type": "markdown",
   "metadata": {},
   "source": [
    "**Вывод:** Возможно значения 0 в 'dob_years' обусловлено тем, что при заполнение таблицы, так отмечали всех несовершеннолетних. \n",
    "Тк кредиты у нас выдают только c 18 лет."
   ]
  },
  {
   "cell_type": "code",
   "execution_count": 57,
   "metadata": {},
   "outputs": [],
   "source": [
    "#Заменим нулевые значения средними из группы до 18 лет\n",
    "data['dob_years'] = data.groupby('income_type')['dob_years'].transform(lambda x: x.replace(0, int(x.mean())))"
   ]
  },
  {
   "cell_type": "code",
   "execution_count": 58,
   "metadata": {},
   "outputs": [
    {
     "name": "stdout",
     "output_type": "stream",
     "text": [
      "Количество строк с 'dob_years' 0 - 0\n"
     ]
    }
   ],
   "source": [
    "#Проверим? остались ли строки с 0 значением в 'dob_years'\n",
    "print(\"Количество строк с 'dob_years' 0 -\", data[data['dob_years'] == 0].count()[0])"
   ]
  },
  {
   "cell_type": "markdown",
   "metadata": {},
   "source": [
    "### Замена типа данных"
   ]
  },
  {
   "cell_type": "code",
   "execution_count": 59,
   "metadata": {},
   "outputs": [],
   "source": [
    "#Изменим тип данных в столбцах 'days_employed' и 'total_income' на целочисленный"
   ]
  },
  {
   "cell_type": "code",
   "execution_count": 60,
   "metadata": {},
   "outputs": [
    {
     "name": "stdout",
     "output_type": "stream",
     "text": [
      "<class 'pandas.core.frame.DataFrame'>\n",
      "RangeIndex: 21525 entries, 0 to 21524\n",
      "Data columns (total 12 columns):\n",
      "children            21525 non-null int64\n",
      "days_employed       21525 non-null int64\n",
      "dob_years           21525 non-null int64\n",
      "education           21525 non-null object\n",
      "education_id        21525 non-null int64\n",
      "family_status       21525 non-null object\n",
      "family_status_id    21525 non-null int64\n",
      "gender              21525 non-null object\n",
      "income_type         21525 non-null object\n",
      "debt                21525 non-null int64\n",
      "total_income        21525 non-null int64\n",
      "purpose             21525 non-null object\n",
      "dtypes: int64(7), object(5)\n",
      "memory usage: 2.0+ MB\n"
     ]
    }
   ],
   "source": [
    "data['days_employed'] = data['days_employed'].astype('int')\n",
    "data['total_income'] = data['total_income'].astype('int')\n",
    "\n",
    "data.info()"
   ]
  },
  {
   "cell_type": "markdown",
   "metadata": {},
   "source": [
    "**Вывод** Данные в 'days_employed' и 'total_income' приведены к целочисленным. т.к в таком виде они легче воспринимаются при просмотре и дробная часть этих данных не влияет на общую картину принятия решиний по кредиту. "
   ]
  },
  {
   "cell_type": "markdown",
   "metadata": {},
   "source": [
    "### Обработка дубликатов"
   ]
  },
  {
   "cell_type": "code",
   "execution_count": 61,
   "metadata": {},
   "outputs": [
    {
     "data": {
      "text/plain": [
       "54"
      ]
     },
     "execution_count": 61,
     "metadata": {},
     "output_type": "execute_result"
    }
   ],
   "source": [
    "#Посчитаем общее количество дубликатов в датафрейме\n",
    "data.duplicated().sum()"
   ]
  },
  {
   "cell_type": "code",
   "execution_count": 62,
   "metadata": {
    "scrolled": true
   },
   "outputs": [
    {
     "data": {
      "text/html": [
       "<div>\n",
       "<style scoped>\n",
       "    .dataframe tbody tr th:only-of-type {\n",
       "        vertical-align: middle;\n",
       "    }\n",
       "\n",
       "    .dataframe tbody tr th {\n",
       "        vertical-align: top;\n",
       "    }\n",
       "\n",
       "    .dataframe thead th {\n",
       "        text-align: right;\n",
       "    }\n",
       "</style>\n",
       "<table border=\"1\" class=\"dataframe\">\n",
       "  <thead>\n",
       "    <tr style=\"text-align: right;\">\n",
       "      <th></th>\n",
       "      <th>children</th>\n",
       "      <th>days_employed</th>\n",
       "      <th>dob_years</th>\n",
       "      <th>education</th>\n",
       "      <th>education_id</th>\n",
       "      <th>family_status</th>\n",
       "      <th>family_status_id</th>\n",
       "      <th>gender</th>\n",
       "      <th>income_type</th>\n",
       "      <th>debt</th>\n",
       "      <th>total_income</th>\n",
       "      <th>purpose</th>\n",
       "    </tr>\n",
       "  </thead>\n",
       "  <tbody>\n",
       "    <tr>\n",
       "      <td>5865</td>\n",
       "      <td>0</td>\n",
       "      <td>365232</td>\n",
       "      <td>66</td>\n",
       "      <td>среднее</td>\n",
       "      <td>1</td>\n",
       "      <td>вдовец / вдова</td>\n",
       "      <td>2</td>\n",
       "      <td>F</td>\n",
       "      <td>пенсионер</td>\n",
       "      <td>0</td>\n",
       "      <td>365232</td>\n",
       "      <td>операции со своей недвижимостью</td>\n",
       "    </tr>\n",
       "    <tr>\n",
       "      <td>9528</td>\n",
       "      <td>0</td>\n",
       "      <td>365232</td>\n",
       "      <td>66</td>\n",
       "      <td>среднее</td>\n",
       "      <td>1</td>\n",
       "      <td>вдовец / вдова</td>\n",
       "      <td>2</td>\n",
       "      <td>F</td>\n",
       "      <td>пенсионер</td>\n",
       "      <td>0</td>\n",
       "      <td>365232</td>\n",
       "      <td>операции со своей недвижимостью</td>\n",
       "    </tr>\n",
       "    <tr>\n",
       "      <td>3609</td>\n",
       "      <td>0</td>\n",
       "      <td>365232</td>\n",
       "      <td>64</td>\n",
       "      <td>среднее</td>\n",
       "      <td>1</td>\n",
       "      <td>женат / замужем</td>\n",
       "      <td>0</td>\n",
       "      <td>F</td>\n",
       "      <td>пенсионер</td>\n",
       "      <td>0</td>\n",
       "      <td>365232</td>\n",
       "      <td>жилье</td>\n",
       "    </tr>\n",
       "    <tr>\n",
       "      <td>20702</td>\n",
       "      <td>0</td>\n",
       "      <td>365232</td>\n",
       "      <td>64</td>\n",
       "      <td>среднее</td>\n",
       "      <td>1</td>\n",
       "      <td>женат / замужем</td>\n",
       "      <td>0</td>\n",
       "      <td>F</td>\n",
       "      <td>пенсионер</td>\n",
       "      <td>0</td>\n",
       "      <td>365232</td>\n",
       "      <td>дополнительное образование</td>\n",
       "    </tr>\n",
       "    <tr>\n",
       "      <td>12389</td>\n",
       "      <td>0</td>\n",
       "      <td>365232</td>\n",
       "      <td>64</td>\n",
       "      <td>среднее</td>\n",
       "      <td>1</td>\n",
       "      <td>женат / замужем</td>\n",
       "      <td>0</td>\n",
       "      <td>F</td>\n",
       "      <td>пенсионер</td>\n",
       "      <td>0</td>\n",
       "      <td>365232</td>\n",
       "      <td>дополнительное образование</td>\n",
       "    </tr>\n",
       "    <tr>\n",
       "      <td>18428</td>\n",
       "      <td>0</td>\n",
       "      <td>365232</td>\n",
       "      <td>64</td>\n",
       "      <td>среднее</td>\n",
       "      <td>1</td>\n",
       "      <td>женат / замужем</td>\n",
       "      <td>0</td>\n",
       "      <td>F</td>\n",
       "      <td>пенсионер</td>\n",
       "      <td>0</td>\n",
       "      <td>365232</td>\n",
       "      <td>жилье</td>\n",
       "    </tr>\n",
       "    <tr>\n",
       "      <td>8178</td>\n",
       "      <td>0</td>\n",
       "      <td>365232</td>\n",
       "      <td>64</td>\n",
       "      <td>среднее</td>\n",
       "      <td>1</td>\n",
       "      <td>женат / замужем</td>\n",
       "      <td>0</td>\n",
       "      <td>F</td>\n",
       "      <td>пенсионер</td>\n",
       "      <td>0</td>\n",
       "      <td>365232</td>\n",
       "      <td>автомобиль</td>\n",
       "    </tr>\n",
       "    <tr>\n",
       "      <td>13639</td>\n",
       "      <td>0</td>\n",
       "      <td>365232</td>\n",
       "      <td>64</td>\n",
       "      <td>среднее</td>\n",
       "      <td>1</td>\n",
       "      <td>женат / замужем</td>\n",
       "      <td>0</td>\n",
       "      <td>F</td>\n",
       "      <td>пенсионер</td>\n",
       "      <td>0</td>\n",
       "      <td>365232</td>\n",
       "      <td>автомобиль</td>\n",
       "    </tr>\n",
       "    <tr>\n",
       "      <td>10864</td>\n",
       "      <td>0</td>\n",
       "      <td>365232</td>\n",
       "      <td>62</td>\n",
       "      <td>среднее</td>\n",
       "      <td>1</td>\n",
       "      <td>женат / замужем</td>\n",
       "      <td>0</td>\n",
       "      <td>F</td>\n",
       "      <td>пенсионер</td>\n",
       "      <td>0</td>\n",
       "      <td>365232</td>\n",
       "      <td>ремонт жилью</td>\n",
       "    </tr>\n",
       "    <tr>\n",
       "      <td>10994</td>\n",
       "      <td>0</td>\n",
       "      <td>365232</td>\n",
       "      <td>62</td>\n",
       "      <td>среднее</td>\n",
       "      <td>1</td>\n",
       "      <td>женат / замужем</td>\n",
       "      <td>0</td>\n",
       "      <td>F</td>\n",
       "      <td>пенсионер</td>\n",
       "      <td>0</td>\n",
       "      <td>365232</td>\n",
       "      <td>ремонт жилью</td>\n",
       "    </tr>\n",
       "  </tbody>\n",
       "</table>\n",
       "</div>"
      ],
      "text/plain": [
       "       children  days_employed  dob_years education  education_id  \\\n",
       "5865          0         365232         66   среднее             1   \n",
       "9528          0         365232         66   среднее             1   \n",
       "3609          0         365232         64   среднее             1   \n",
       "20702         0         365232         64   среднее             1   \n",
       "12389         0         365232         64   среднее             1   \n",
       "18428         0         365232         64   среднее             1   \n",
       "8178          0         365232         64   среднее             1   \n",
       "13639         0         365232         64   среднее             1   \n",
       "10864         0         365232         62   среднее             1   \n",
       "10994         0         365232         62   среднее             1   \n",
       "\n",
       "         family_status  family_status_id gender income_type  debt  \\\n",
       "5865    вдовец / вдова                 2      F   пенсионер     0   \n",
       "9528    вдовец / вдова                 2      F   пенсионер     0   \n",
       "3609   женат / замужем                 0      F   пенсионер     0   \n",
       "20702  женат / замужем                 0      F   пенсионер     0   \n",
       "12389  женат / замужем                 0      F   пенсионер     0   \n",
       "18428  женат / замужем                 0      F   пенсионер     0   \n",
       "8178   женат / замужем                 0      F   пенсионер     0   \n",
       "13639  женат / замужем                 0      F   пенсионер     0   \n",
       "10864  женат / замужем                 0      F   пенсионер     0   \n",
       "10994  женат / замужем                 0      F   пенсионер     0   \n",
       "\n",
       "       total_income                          purpose  \n",
       "5865         365232  операции со своей недвижимостью  \n",
       "9528         365232  операции со своей недвижимостью  \n",
       "3609         365232                            жилье  \n",
       "20702        365232       дополнительное образование  \n",
       "12389        365232       дополнительное образование  \n",
       "18428        365232                            жилье  \n",
       "8178         365232                       автомобиль  \n",
       "13639        365232                       автомобиль  \n",
       "10864        365232                     ремонт жилью  \n",
       "10994        365232                     ремонт жилью  "
      ]
     },
     "execution_count": 62,
     "metadata": {},
     "output_type": "execute_result"
    }
   ],
   "source": [
    "#Посмотрим на них\n",
    "data[data.duplicated(keep=False)].sort_values('dob_years', ascending = False).head(10)"
   ]
  },
  {
   "cell_type": "markdown",
   "metadata": {},
   "source": [
    "**Вывод:** Возможно при вводе или импорте эти строки были продублированны по несколько раз, т.к. данные в них полностью совпадают."
   ]
  },
  {
   "cell_type": "code",
   "execution_count": 63,
   "metadata": {},
   "outputs": [
    {
     "name": "stdout",
     "output_type": "stream",
     "text": [
      "Дубликатов: 0\n"
     ]
    }
   ],
   "source": [
    "#убираем добликаты\n",
    "data = data.drop_duplicates().reset_index(drop = True)\n",
    "#проверим количество дубликатов\n",
    "print('Дубликатов:', data.duplicated().sum())"
   ]
  },
  {
   "cell_type": "markdown",
   "metadata": {},
   "source": [
    "### Лемматизация"
   ]
  },
  {
   "cell_type": "code",
   "execution_count": 64,
   "metadata": {},
   "outputs": [
    {
     "data": {
      "text/plain": [
       "свадьба                                   793\n",
       "на проведение свадьбы                     773\n",
       "сыграть свадьбу                           769\n",
       "операции с недвижимостью                  675\n",
       "покупка коммерческой недвижимости         662\n",
       "покупка жилья для сдачи                   652\n",
       "операции с жильем                         652\n",
       "операции с коммерческой недвижимостью     650\n",
       "покупка жилья                             646\n",
       "жилье                                     646\n",
       "покупка жилья для семьи                   638\n",
       "строительство собственной недвижимости    635\n",
       "недвижимость                              633\n",
       "операции со своей недвижимостью           627\n",
       "строительство жилой недвижимости          625\n",
       "покупка недвижимости                      621\n",
       "покупка своего жилья                      620\n",
       "строительство недвижимости                619\n",
       "ремонт жилью                              607\n",
       "покупка жилой недвижимости                606\n",
       "на покупку своего автомобиля              505\n",
       "заняться высшим образованием              496\n",
       "автомобиль                                494\n",
       "сделка с подержанным автомобилем          486\n",
       "свой автомобиль                           479\n",
       "на покупку подержанного автомобиля        478\n",
       "автомобили                                478\n",
       "на покупку автомобиля                     472\n",
       "приобретение автомобиля                   461\n",
       "дополнительное образование                460\n",
       "сделка с автомобилем                      455\n",
       "высшее образование                        452\n",
       "образование                               447\n",
       "получение дополнительного образования     447\n",
       "получение образования                     442\n",
       "профильное образование                    436\n",
       "получение высшего образования             426\n",
       "заняться образованием                     408\n",
       "Name: purpose, dtype: int64"
      ]
     },
     "execution_count": 64,
     "metadata": {},
     "output_type": "execute_result"
    }
   ],
   "source": [
    "#найдём уникальные значения столбца 'purpose'\n",
    "\n",
    "data['purpose'].value_counts()"
   ]
  },
  {
   "cell_type": "code",
   "execution_count": null,
   "metadata": {},
   "outputs": [],
   "source": []
  },
  {
   "cell_type": "code",
   "execution_count": 65,
   "metadata": {},
   "outputs": [
    {
     "data": {
      "text/html": [
       "<div>\n",
       "<style scoped>\n",
       "    .dataframe tbody tr th:only-of-type {\n",
       "        vertical-align: middle;\n",
       "    }\n",
       "\n",
       "    .dataframe tbody tr th {\n",
       "        vertical-align: top;\n",
       "    }\n",
       "\n",
       "    .dataframe thead th {\n",
       "        text-align: right;\n",
       "    }\n",
       "</style>\n",
       "<table border=\"1\" class=\"dataframe\">\n",
       "  <thead>\n",
       "    <tr style=\"text-align: right;\">\n",
       "      <th></th>\n",
       "      <th>children</th>\n",
       "      <th>days_employed</th>\n",
       "      <th>dob_years</th>\n",
       "      <th>education</th>\n",
       "      <th>education_id</th>\n",
       "      <th>family_status</th>\n",
       "      <th>family_status_id</th>\n",
       "      <th>gender</th>\n",
       "      <th>income_type</th>\n",
       "      <th>debt</th>\n",
       "      <th>total_income</th>\n",
       "      <th>purpose</th>\n",
       "      <th>purpose_group</th>\n",
       "    </tr>\n",
       "  </thead>\n",
       "  <tbody>\n",
       "    <tr>\n",
       "      <td>0</td>\n",
       "      <td>1</td>\n",
       "      <td>8437</td>\n",
       "      <td>42</td>\n",
       "      <td>высшее</td>\n",
       "      <td>0</td>\n",
       "      <td>женат / замужем</td>\n",
       "      <td>0</td>\n",
       "      <td>F</td>\n",
       "      <td>сотрудник</td>\n",
       "      <td>0</td>\n",
       "      <td>253875</td>\n",
       "      <td>покупка жилья</td>\n",
       "      <td>жилье</td>\n",
       "    </tr>\n",
       "    <tr>\n",
       "      <td>1</td>\n",
       "      <td>1</td>\n",
       "      <td>4024</td>\n",
       "      <td>36</td>\n",
       "      <td>среднее</td>\n",
       "      <td>1</td>\n",
       "      <td>женат / замужем</td>\n",
       "      <td>0</td>\n",
       "      <td>F</td>\n",
       "      <td>сотрудник</td>\n",
       "      <td>0</td>\n",
       "      <td>112080</td>\n",
       "      <td>приобретение автомобиля</td>\n",
       "      <td>автомобиль</td>\n",
       "    </tr>\n",
       "    <tr>\n",
       "      <td>2</td>\n",
       "      <td>0</td>\n",
       "      <td>5623</td>\n",
       "      <td>33</td>\n",
       "      <td>среднее</td>\n",
       "      <td>1</td>\n",
       "      <td>женат / замужем</td>\n",
       "      <td>0</td>\n",
       "      <td>M</td>\n",
       "      <td>сотрудник</td>\n",
       "      <td>0</td>\n",
       "      <td>145885</td>\n",
       "      <td>покупка жилья</td>\n",
       "      <td>жилье</td>\n",
       "    </tr>\n",
       "    <tr>\n",
       "      <td>3</td>\n",
       "      <td>3</td>\n",
       "      <td>4124</td>\n",
       "      <td>32</td>\n",
       "      <td>среднее</td>\n",
       "      <td>1</td>\n",
       "      <td>женат / замужем</td>\n",
       "      <td>0</td>\n",
       "      <td>M</td>\n",
       "      <td>сотрудник</td>\n",
       "      <td>0</td>\n",
       "      <td>267628</td>\n",
       "      <td>дополнительное образование</td>\n",
       "      <td>образование</td>\n",
       "    </tr>\n",
       "    <tr>\n",
       "      <td>4</td>\n",
       "      <td>0</td>\n",
       "      <td>340266</td>\n",
       "      <td>53</td>\n",
       "      <td>среднее</td>\n",
       "      <td>1</td>\n",
       "      <td>гражданский брак</td>\n",
       "      <td>1</td>\n",
       "      <td>F</td>\n",
       "      <td>пенсионер</td>\n",
       "      <td>0</td>\n",
       "      <td>158616</td>\n",
       "      <td>сыграть свадьбу</td>\n",
       "      <td>свадьба</td>\n",
       "    </tr>\n",
       "    <tr>\n",
       "      <td>5</td>\n",
       "      <td>0</td>\n",
       "      <td>926</td>\n",
       "      <td>27</td>\n",
       "      <td>высшее</td>\n",
       "      <td>0</td>\n",
       "      <td>гражданский брак</td>\n",
       "      <td>1</td>\n",
       "      <td>M</td>\n",
       "      <td>компаньон</td>\n",
       "      <td>0</td>\n",
       "      <td>255763</td>\n",
       "      <td>покупка жилья</td>\n",
       "      <td>жилье</td>\n",
       "    </tr>\n",
       "    <tr>\n",
       "      <td>6</td>\n",
       "      <td>0</td>\n",
       "      <td>2879</td>\n",
       "      <td>43</td>\n",
       "      <td>высшее</td>\n",
       "      <td>0</td>\n",
       "      <td>женат / замужем</td>\n",
       "      <td>0</td>\n",
       "      <td>F</td>\n",
       "      <td>компаньон</td>\n",
       "      <td>0</td>\n",
       "      <td>240525</td>\n",
       "      <td>операции с жильем</td>\n",
       "      <td>жилье</td>\n",
       "    </tr>\n",
       "    <tr>\n",
       "      <td>7</td>\n",
       "      <td>0</td>\n",
       "      <td>152</td>\n",
       "      <td>50</td>\n",
       "      <td>среднее</td>\n",
       "      <td>1</td>\n",
       "      <td>женат / замужем</td>\n",
       "      <td>0</td>\n",
       "      <td>M</td>\n",
       "      <td>сотрудник</td>\n",
       "      <td>0</td>\n",
       "      <td>135823</td>\n",
       "      <td>образование</td>\n",
       "      <td>образование</td>\n",
       "    </tr>\n",
       "    <tr>\n",
       "      <td>8</td>\n",
       "      <td>2</td>\n",
       "      <td>6929</td>\n",
       "      <td>35</td>\n",
       "      <td>высшее</td>\n",
       "      <td>0</td>\n",
       "      <td>гражданский брак</td>\n",
       "      <td>1</td>\n",
       "      <td>F</td>\n",
       "      <td>сотрудник</td>\n",
       "      <td>0</td>\n",
       "      <td>95856</td>\n",
       "      <td>на проведение свадьбы</td>\n",
       "      <td>свадьба</td>\n",
       "    </tr>\n",
       "    <tr>\n",
       "      <td>9</td>\n",
       "      <td>0</td>\n",
       "      <td>2188</td>\n",
       "      <td>41</td>\n",
       "      <td>среднее</td>\n",
       "      <td>1</td>\n",
       "      <td>женат / замужем</td>\n",
       "      <td>0</td>\n",
       "      <td>M</td>\n",
       "      <td>сотрудник</td>\n",
       "      <td>0</td>\n",
       "      <td>144425</td>\n",
       "      <td>покупка жилья для семьи</td>\n",
       "      <td>жилье</td>\n",
       "    </tr>\n",
       "  </tbody>\n",
       "</table>\n",
       "</div>"
      ],
      "text/plain": [
       "   children  days_employed  dob_years education  education_id  \\\n",
       "0         1           8437         42    высшее             0   \n",
       "1         1           4024         36   среднее             1   \n",
       "2         0           5623         33   среднее             1   \n",
       "3         3           4124         32   среднее             1   \n",
       "4         0         340266         53   среднее             1   \n",
       "5         0            926         27    высшее             0   \n",
       "6         0           2879         43    высшее             0   \n",
       "7         0            152         50   среднее             1   \n",
       "8         2           6929         35    высшее             0   \n",
       "9         0           2188         41   среднее             1   \n",
       "\n",
       "      family_status  family_status_id gender income_type  debt  total_income  \\\n",
       "0   женат / замужем                 0      F   сотрудник     0        253875   \n",
       "1   женат / замужем                 0      F   сотрудник     0        112080   \n",
       "2   женат / замужем                 0      M   сотрудник     0        145885   \n",
       "3   женат / замужем                 0      M   сотрудник     0        267628   \n",
       "4  гражданский брак                 1      F   пенсионер     0        158616   \n",
       "5  гражданский брак                 1      M   компаньон     0        255763   \n",
       "6   женат / замужем                 0      F   компаньон     0        240525   \n",
       "7   женат / замужем                 0      M   сотрудник     0        135823   \n",
       "8  гражданский брак                 1      F   сотрудник     0         95856   \n",
       "9   женат / замужем                 0      M   сотрудник     0        144425   \n",
       "\n",
       "                      purpose purpose_group  \n",
       "0               покупка жилья         жилье  \n",
       "1     приобретение автомобиля    автомобиль  \n",
       "2               покупка жилья         жилье  \n",
       "3  дополнительное образование   образование  \n",
       "4             сыграть свадьбу       свадьба  \n",
       "5               покупка жилья         жилье  \n",
       "6           операции с жильем         жилье  \n",
       "7                 образование   образование  \n",
       "8       на проведение свадьбы       свадьба  \n",
       "9     покупка жилья для семьи         жилье  "
      ]
     },
     "execution_count": 65,
     "metadata": {},
     "output_type": "execute_result"
    }
   ],
   "source": [
    "from pymystem3 import Mystem\n",
    "from collections import Counter\n",
    "m = Mystem()\n",
    "\n",
    "\n",
    "# основные ключевые слова можно выделить вручную\n",
    "categories = [\"сдача\", \"коммерческий\", \"жилье\", \"образование\", \"свадьба\", \"недвижимость\", \"автомобиль\"]\n",
    "\n",
    "# проведем лемматизацию,\n",
    "# одновременно заменив полученный список лемм в каждой строке на главное ключевое слово из списка категорий\n",
    "\n",
    "def lemmatize(text):\n",
    "    lemma = m.lemmatize(text)\n",
    "    for word in categories:\n",
    "        if word in lemma:\n",
    "            lemma = word\n",
    "    return lemma\n",
    "\n",
    "data['purpose_group'] = data['purpose'].apply(lemmatize)        \n",
    "data.head(10)"
   ]
  },
  {
   "cell_type": "code",
   "execution_count": 66,
   "metadata": {},
   "outputs": [
    {
     "data": {
      "text/plain": [
       "недвижимость    5041\n",
       "автомобиль      4308\n",
       "образование     4014\n",
       "жилье           3809\n",
       "свадьба         2335\n",
       "коммерческий    1312\n",
       "сдача            652\n",
       "Name: purpose_group, dtype: int64"
      ]
     },
     "execution_count": 66,
     "metadata": {},
     "output_type": "execute_result"
    }
   ],
   "source": [
    "data['purpose_group'].value_counts()"
   ]
  },
  {
   "cell_type": "code",
   "execution_count": 67,
   "metadata": {},
   "outputs": [
    {
     "data": {
      "text/plain": [
       "недвижимость    8850\n",
       "автомобиль      4308\n",
       "образование     4014\n",
       "свадьба         2335\n",
       "инвестиции      1964\n",
       "Name: purpose_group, dtype: int64"
      ]
     },
     "execution_count": 67,
     "metadata": {},
     "output_type": "execute_result"
    }
   ],
   "source": [
    "# Укрупним группы целей. Объеденив 'недвижимость' и 'жильё'. А так же выделим коммерческую недвижимость и сдачу в аренду \n",
    "# в отдельную группу 'инвестиции'\n",
    "data.loc[data['purpose_group'] == 'жилье', 'purpose_group'] = 'недвижимость'\n",
    "data.loc[(data['purpose_group'] == 'коммерческий') | (data['purpose_group'] == 'сдача'), 'purpose_group'] = 'инвестиции'\n",
    "data['purpose_group'].value_counts()"
   ]
  },
  {
   "cell_type": "code",
   "execution_count": 68,
   "metadata": {},
   "outputs": [
    {
     "data": {
      "text/html": [
       "<div>\n",
       "<style scoped>\n",
       "    .dataframe tbody tr th:only-of-type {\n",
       "        vertical-align: middle;\n",
       "    }\n",
       "\n",
       "    .dataframe tbody tr th {\n",
       "        vertical-align: top;\n",
       "    }\n",
       "\n",
       "    .dataframe thead th {\n",
       "        text-align: right;\n",
       "    }\n",
       "</style>\n",
       "<table border=\"1\" class=\"dataframe\">\n",
       "  <thead>\n",
       "    <tr style=\"text-align: right;\">\n",
       "      <th></th>\n",
       "      <th>children</th>\n",
       "      <th>days_employed</th>\n",
       "      <th>dob_years</th>\n",
       "      <th>education</th>\n",
       "      <th>education_id</th>\n",
       "      <th>family_status</th>\n",
       "      <th>family_status_id</th>\n",
       "      <th>gender</th>\n",
       "      <th>income_type</th>\n",
       "      <th>debt</th>\n",
       "      <th>total_income</th>\n",
       "      <th>purpose</th>\n",
       "      <th>purpose_group</th>\n",
       "    </tr>\n",
       "  </thead>\n",
       "  <tbody>\n",
       "    <tr>\n",
       "      <td>0</td>\n",
       "      <td>1</td>\n",
       "      <td>8437</td>\n",
       "      <td>42</td>\n",
       "      <td>высшее</td>\n",
       "      <td>0</td>\n",
       "      <td>женат / замужем</td>\n",
       "      <td>0</td>\n",
       "      <td>F</td>\n",
       "      <td>сотрудник</td>\n",
       "      <td>0</td>\n",
       "      <td>253875</td>\n",
       "      <td>покупка жилья</td>\n",
       "      <td>недвижимость</td>\n",
       "    </tr>\n",
       "    <tr>\n",
       "      <td>1</td>\n",
       "      <td>1</td>\n",
       "      <td>4024</td>\n",
       "      <td>36</td>\n",
       "      <td>среднее</td>\n",
       "      <td>1</td>\n",
       "      <td>женат / замужем</td>\n",
       "      <td>0</td>\n",
       "      <td>F</td>\n",
       "      <td>сотрудник</td>\n",
       "      <td>0</td>\n",
       "      <td>112080</td>\n",
       "      <td>приобретение автомобиля</td>\n",
       "      <td>автомобиль</td>\n",
       "    </tr>\n",
       "    <tr>\n",
       "      <td>2</td>\n",
       "      <td>0</td>\n",
       "      <td>5623</td>\n",
       "      <td>33</td>\n",
       "      <td>среднее</td>\n",
       "      <td>1</td>\n",
       "      <td>женат / замужем</td>\n",
       "      <td>0</td>\n",
       "      <td>M</td>\n",
       "      <td>сотрудник</td>\n",
       "      <td>0</td>\n",
       "      <td>145885</td>\n",
       "      <td>покупка жилья</td>\n",
       "      <td>недвижимость</td>\n",
       "    </tr>\n",
       "    <tr>\n",
       "      <td>3</td>\n",
       "      <td>3</td>\n",
       "      <td>4124</td>\n",
       "      <td>32</td>\n",
       "      <td>среднее</td>\n",
       "      <td>1</td>\n",
       "      <td>женат / замужем</td>\n",
       "      <td>0</td>\n",
       "      <td>M</td>\n",
       "      <td>сотрудник</td>\n",
       "      <td>0</td>\n",
       "      <td>267628</td>\n",
       "      <td>дополнительное образование</td>\n",
       "      <td>образование</td>\n",
       "    </tr>\n",
       "    <tr>\n",
       "      <td>4</td>\n",
       "      <td>0</td>\n",
       "      <td>340266</td>\n",
       "      <td>53</td>\n",
       "      <td>среднее</td>\n",
       "      <td>1</td>\n",
       "      <td>гражданский брак</td>\n",
       "      <td>1</td>\n",
       "      <td>F</td>\n",
       "      <td>пенсионер</td>\n",
       "      <td>0</td>\n",
       "      <td>158616</td>\n",
       "      <td>сыграть свадьбу</td>\n",
       "      <td>свадьба</td>\n",
       "    </tr>\n",
       "    <tr>\n",
       "      <td>5</td>\n",
       "      <td>0</td>\n",
       "      <td>926</td>\n",
       "      <td>27</td>\n",
       "      <td>высшее</td>\n",
       "      <td>0</td>\n",
       "      <td>гражданский брак</td>\n",
       "      <td>1</td>\n",
       "      <td>M</td>\n",
       "      <td>компаньон</td>\n",
       "      <td>0</td>\n",
       "      <td>255763</td>\n",
       "      <td>покупка жилья</td>\n",
       "      <td>недвижимость</td>\n",
       "    </tr>\n",
       "    <tr>\n",
       "      <td>6</td>\n",
       "      <td>0</td>\n",
       "      <td>2879</td>\n",
       "      <td>43</td>\n",
       "      <td>высшее</td>\n",
       "      <td>0</td>\n",
       "      <td>женат / замужем</td>\n",
       "      <td>0</td>\n",
       "      <td>F</td>\n",
       "      <td>компаньон</td>\n",
       "      <td>0</td>\n",
       "      <td>240525</td>\n",
       "      <td>операции с жильем</td>\n",
       "      <td>недвижимость</td>\n",
       "    </tr>\n",
       "    <tr>\n",
       "      <td>7</td>\n",
       "      <td>0</td>\n",
       "      <td>152</td>\n",
       "      <td>50</td>\n",
       "      <td>среднее</td>\n",
       "      <td>1</td>\n",
       "      <td>женат / замужем</td>\n",
       "      <td>0</td>\n",
       "      <td>M</td>\n",
       "      <td>сотрудник</td>\n",
       "      <td>0</td>\n",
       "      <td>135823</td>\n",
       "      <td>образование</td>\n",
       "      <td>образование</td>\n",
       "    </tr>\n",
       "    <tr>\n",
       "      <td>8</td>\n",
       "      <td>2</td>\n",
       "      <td>6929</td>\n",
       "      <td>35</td>\n",
       "      <td>высшее</td>\n",
       "      <td>0</td>\n",
       "      <td>гражданский брак</td>\n",
       "      <td>1</td>\n",
       "      <td>F</td>\n",
       "      <td>сотрудник</td>\n",
       "      <td>0</td>\n",
       "      <td>95856</td>\n",
       "      <td>на проведение свадьбы</td>\n",
       "      <td>свадьба</td>\n",
       "    </tr>\n",
       "    <tr>\n",
       "      <td>9</td>\n",
       "      <td>0</td>\n",
       "      <td>2188</td>\n",
       "      <td>41</td>\n",
       "      <td>среднее</td>\n",
       "      <td>1</td>\n",
       "      <td>женат / замужем</td>\n",
       "      <td>0</td>\n",
       "      <td>M</td>\n",
       "      <td>сотрудник</td>\n",
       "      <td>0</td>\n",
       "      <td>144425</td>\n",
       "      <td>покупка жилья для семьи</td>\n",
       "      <td>недвижимость</td>\n",
       "    </tr>\n",
       "  </tbody>\n",
       "</table>\n",
       "</div>"
      ],
      "text/plain": [
       "   children  days_employed  dob_years education  education_id  \\\n",
       "0         1           8437         42    высшее             0   \n",
       "1         1           4024         36   среднее             1   \n",
       "2         0           5623         33   среднее             1   \n",
       "3         3           4124         32   среднее             1   \n",
       "4         0         340266         53   среднее             1   \n",
       "5         0            926         27    высшее             0   \n",
       "6         0           2879         43    высшее             0   \n",
       "7         0            152         50   среднее             1   \n",
       "8         2           6929         35    высшее             0   \n",
       "9         0           2188         41   среднее             1   \n",
       "\n",
       "      family_status  family_status_id gender income_type  debt  total_income  \\\n",
       "0   женат / замужем                 0      F   сотрудник     0        253875   \n",
       "1   женат / замужем                 0      F   сотрудник     0        112080   \n",
       "2   женат / замужем                 0      M   сотрудник     0        145885   \n",
       "3   женат / замужем                 0      M   сотрудник     0        267628   \n",
       "4  гражданский брак                 1      F   пенсионер     0        158616   \n",
       "5  гражданский брак                 1      M   компаньон     0        255763   \n",
       "6   женат / замужем                 0      F   компаньон     0        240525   \n",
       "7   женат / замужем                 0      M   сотрудник     0        135823   \n",
       "8  гражданский брак                 1      F   сотрудник     0         95856   \n",
       "9   женат / замужем                 0      M   сотрудник     0        144425   \n",
       "\n",
       "                      purpose purpose_group  \n",
       "0               покупка жилья  недвижимость  \n",
       "1     приобретение автомобиля    автомобиль  \n",
       "2               покупка жилья  недвижимость  \n",
       "3  дополнительное образование   образование  \n",
       "4             сыграть свадьбу       свадьба  \n",
       "5               покупка жилья  недвижимость  \n",
       "6           операции с жильем  недвижимость  \n",
       "7                 образование   образование  \n",
       "8       на проведение свадьбы       свадьба  \n",
       "9     покупка жилья для семьи  недвижимость  "
      ]
     },
     "execution_count": 68,
     "metadata": {},
     "output_type": "execute_result"
    }
   ],
   "source": [
    "data.head(10)"
   ]
  },
  {
   "cell_type": "markdown",
   "metadata": {},
   "source": [
    "**Вывод:** В результате леммизации получилось выделить пять основных целей получения кредита."
   ]
  },
  {
   "cell_type": "markdown",
   "metadata": {},
   "source": [
    "### Категоризация данных"
   ]
  },
  {
   "cell_type": "code",
   "execution_count": 69,
   "metadata": {},
   "outputs": [],
   "source": [
    "# Разделим людей на три группы по уровню дохода: до 50000 - бедные, от 50000 до 150000 - средний класс, более 150000 - богатые.\n",
    "#Вообще-то официально у нас средний класс начинается от дохода в 17000р. Но, вряд ли эти цифры соответстуют реальности.\n",
    "\n",
    "def total_income_cat(row):\n",
    "    if row['total_income'] <= 50000:\n",
    "        return 'бедный'\n",
    "    if 50000 < row['total_income'] <= 150000:\n",
    "        return 'средний класс'\n",
    "    if row['total_income'] > 150000:\n",
    "        return 'богатый'\n",
    "    \n",
    "#Разделим на группы по стажу: до 10 лет, от 10 до 20 лет, более 20 лет.\n",
    "# Т.к. в таблице данные о стаже указаны в днях, то я вручную перевёл дни в годы.  \n",
    "    \n",
    "def days_employed_cat(row):\n",
    "    if row['days_employed'] <= 3652:\n",
    "        return 'стаж до 10 лет'\n",
    "    elif 3652 < row['days_employed'] <= 6904:\n",
    "        return 'стаж 10-20 лет'\n",
    "    else:\n",
    "        return 'стаж более 20 лет'\n",
    "    \n",
    "    \n",
    "#Разделим на группы по количеству детей: бездетные, 1-2 ребёнка, многодетные \n",
    "    \n",
    "def children_cat(row):\n",
    "    if row['children'] == 0:\n",
    "        return 'бездетные'\n",
    "    elif 1 <= row['children'] <= 2:\n",
    "        return '1-2 ребенка'\n",
    "    else:\n",
    "        return 'многодетные'"
   ]
  },
  {
   "cell_type": "code",
   "execution_count": 70,
   "metadata": {},
   "outputs": [],
   "source": [
    "#С помощью apply создадим в таблице три новых столбца c результатами группировок\n",
    "data['total_income_cat'] = data.apply(total_income_cat, axis=1)\n",
    "data['days_employed_cat'] = data.apply(days_employed_cat, axis=1)\n",
    "data['children_cat'] = data.apply(children_cat, axis=1)"
   ]
  },
  {
   "cell_type": "code",
   "execution_count": 71,
   "metadata": {
    "scrolled": true
   },
   "outputs": [
    {
     "data": {
      "text/html": [
       "<div>\n",
       "<style scoped>\n",
       "    .dataframe tbody tr th:only-of-type {\n",
       "        vertical-align: middle;\n",
       "    }\n",
       "\n",
       "    .dataframe tbody tr th {\n",
       "        vertical-align: top;\n",
       "    }\n",
       "\n",
       "    .dataframe thead th {\n",
       "        text-align: right;\n",
       "    }\n",
       "</style>\n",
       "<table border=\"1\" class=\"dataframe\">\n",
       "  <thead>\n",
       "    <tr style=\"text-align: right;\">\n",
       "      <th></th>\n",
       "      <th>children</th>\n",
       "      <th>days_employed</th>\n",
       "      <th>dob_years</th>\n",
       "      <th>education</th>\n",
       "      <th>education_id</th>\n",
       "      <th>family_status</th>\n",
       "      <th>family_status_id</th>\n",
       "      <th>gender</th>\n",
       "      <th>income_type</th>\n",
       "      <th>debt</th>\n",
       "      <th>total_income</th>\n",
       "      <th>purpose</th>\n",
       "      <th>purpose_group</th>\n",
       "      <th>total_income_cat</th>\n",
       "      <th>days_employed_cat</th>\n",
       "      <th>children_cat</th>\n",
       "    </tr>\n",
       "  </thead>\n",
       "  <tbody>\n",
       "    <tr>\n",
       "      <td>0</td>\n",
       "      <td>1</td>\n",
       "      <td>8437</td>\n",
       "      <td>42</td>\n",
       "      <td>высшее</td>\n",
       "      <td>0</td>\n",
       "      <td>женат / замужем</td>\n",
       "      <td>0</td>\n",
       "      <td>F</td>\n",
       "      <td>сотрудник</td>\n",
       "      <td>0</td>\n",
       "      <td>253875</td>\n",
       "      <td>покупка жилья</td>\n",
       "      <td>недвижимость</td>\n",
       "      <td>богатый</td>\n",
       "      <td>стаж более 20 лет</td>\n",
       "      <td>1-2 ребенка</td>\n",
       "    </tr>\n",
       "    <tr>\n",
       "      <td>1</td>\n",
       "      <td>1</td>\n",
       "      <td>4024</td>\n",
       "      <td>36</td>\n",
       "      <td>среднее</td>\n",
       "      <td>1</td>\n",
       "      <td>женат / замужем</td>\n",
       "      <td>0</td>\n",
       "      <td>F</td>\n",
       "      <td>сотрудник</td>\n",
       "      <td>0</td>\n",
       "      <td>112080</td>\n",
       "      <td>приобретение автомобиля</td>\n",
       "      <td>автомобиль</td>\n",
       "      <td>средний класс</td>\n",
       "      <td>стаж 10-20 лет</td>\n",
       "      <td>1-2 ребенка</td>\n",
       "    </tr>\n",
       "    <tr>\n",
       "      <td>2</td>\n",
       "      <td>0</td>\n",
       "      <td>5623</td>\n",
       "      <td>33</td>\n",
       "      <td>среднее</td>\n",
       "      <td>1</td>\n",
       "      <td>женат / замужем</td>\n",
       "      <td>0</td>\n",
       "      <td>M</td>\n",
       "      <td>сотрудник</td>\n",
       "      <td>0</td>\n",
       "      <td>145885</td>\n",
       "      <td>покупка жилья</td>\n",
       "      <td>недвижимость</td>\n",
       "      <td>средний класс</td>\n",
       "      <td>стаж 10-20 лет</td>\n",
       "      <td>бездетные</td>\n",
       "    </tr>\n",
       "    <tr>\n",
       "      <td>3</td>\n",
       "      <td>3</td>\n",
       "      <td>4124</td>\n",
       "      <td>32</td>\n",
       "      <td>среднее</td>\n",
       "      <td>1</td>\n",
       "      <td>женат / замужем</td>\n",
       "      <td>0</td>\n",
       "      <td>M</td>\n",
       "      <td>сотрудник</td>\n",
       "      <td>0</td>\n",
       "      <td>267628</td>\n",
       "      <td>дополнительное образование</td>\n",
       "      <td>образование</td>\n",
       "      <td>богатый</td>\n",
       "      <td>стаж 10-20 лет</td>\n",
       "      <td>многодетные</td>\n",
       "    </tr>\n",
       "    <tr>\n",
       "      <td>4</td>\n",
       "      <td>0</td>\n",
       "      <td>340266</td>\n",
       "      <td>53</td>\n",
       "      <td>среднее</td>\n",
       "      <td>1</td>\n",
       "      <td>гражданский брак</td>\n",
       "      <td>1</td>\n",
       "      <td>F</td>\n",
       "      <td>пенсионер</td>\n",
       "      <td>0</td>\n",
       "      <td>158616</td>\n",
       "      <td>сыграть свадьбу</td>\n",
       "      <td>свадьба</td>\n",
       "      <td>богатый</td>\n",
       "      <td>стаж более 20 лет</td>\n",
       "      <td>бездетные</td>\n",
       "    </tr>\n",
       "    <tr>\n",
       "      <td>5</td>\n",
       "      <td>0</td>\n",
       "      <td>926</td>\n",
       "      <td>27</td>\n",
       "      <td>высшее</td>\n",
       "      <td>0</td>\n",
       "      <td>гражданский брак</td>\n",
       "      <td>1</td>\n",
       "      <td>M</td>\n",
       "      <td>компаньон</td>\n",
       "      <td>0</td>\n",
       "      <td>255763</td>\n",
       "      <td>покупка жилья</td>\n",
       "      <td>недвижимость</td>\n",
       "      <td>богатый</td>\n",
       "      <td>стаж до 10 лет</td>\n",
       "      <td>бездетные</td>\n",
       "    </tr>\n",
       "    <tr>\n",
       "      <td>6</td>\n",
       "      <td>0</td>\n",
       "      <td>2879</td>\n",
       "      <td>43</td>\n",
       "      <td>высшее</td>\n",
       "      <td>0</td>\n",
       "      <td>женат / замужем</td>\n",
       "      <td>0</td>\n",
       "      <td>F</td>\n",
       "      <td>компаньон</td>\n",
       "      <td>0</td>\n",
       "      <td>240525</td>\n",
       "      <td>операции с жильем</td>\n",
       "      <td>недвижимость</td>\n",
       "      <td>богатый</td>\n",
       "      <td>стаж до 10 лет</td>\n",
       "      <td>бездетные</td>\n",
       "    </tr>\n",
       "    <tr>\n",
       "      <td>7</td>\n",
       "      <td>0</td>\n",
       "      <td>152</td>\n",
       "      <td>50</td>\n",
       "      <td>среднее</td>\n",
       "      <td>1</td>\n",
       "      <td>женат / замужем</td>\n",
       "      <td>0</td>\n",
       "      <td>M</td>\n",
       "      <td>сотрудник</td>\n",
       "      <td>0</td>\n",
       "      <td>135823</td>\n",
       "      <td>образование</td>\n",
       "      <td>образование</td>\n",
       "      <td>средний класс</td>\n",
       "      <td>стаж до 10 лет</td>\n",
       "      <td>бездетные</td>\n",
       "    </tr>\n",
       "    <tr>\n",
       "      <td>8</td>\n",
       "      <td>2</td>\n",
       "      <td>6929</td>\n",
       "      <td>35</td>\n",
       "      <td>высшее</td>\n",
       "      <td>0</td>\n",
       "      <td>гражданский брак</td>\n",
       "      <td>1</td>\n",
       "      <td>F</td>\n",
       "      <td>сотрудник</td>\n",
       "      <td>0</td>\n",
       "      <td>95856</td>\n",
       "      <td>на проведение свадьбы</td>\n",
       "      <td>свадьба</td>\n",
       "      <td>средний класс</td>\n",
       "      <td>стаж более 20 лет</td>\n",
       "      <td>1-2 ребенка</td>\n",
       "    </tr>\n",
       "    <tr>\n",
       "      <td>9</td>\n",
       "      <td>0</td>\n",
       "      <td>2188</td>\n",
       "      <td>41</td>\n",
       "      <td>среднее</td>\n",
       "      <td>1</td>\n",
       "      <td>женат / замужем</td>\n",
       "      <td>0</td>\n",
       "      <td>M</td>\n",
       "      <td>сотрудник</td>\n",
       "      <td>0</td>\n",
       "      <td>144425</td>\n",
       "      <td>покупка жилья для семьи</td>\n",
       "      <td>недвижимость</td>\n",
       "      <td>средний класс</td>\n",
       "      <td>стаж до 10 лет</td>\n",
       "      <td>бездетные</td>\n",
       "    </tr>\n",
       "  </tbody>\n",
       "</table>\n",
       "</div>"
      ],
      "text/plain": [
       "   children  days_employed  dob_years education  education_id  \\\n",
       "0         1           8437         42    высшее             0   \n",
       "1         1           4024         36   среднее             1   \n",
       "2         0           5623         33   среднее             1   \n",
       "3         3           4124         32   среднее             1   \n",
       "4         0         340266         53   среднее             1   \n",
       "5         0            926         27    высшее             0   \n",
       "6         0           2879         43    высшее             0   \n",
       "7         0            152         50   среднее             1   \n",
       "8         2           6929         35    высшее             0   \n",
       "9         0           2188         41   среднее             1   \n",
       "\n",
       "      family_status  family_status_id gender income_type  debt  total_income  \\\n",
       "0   женат / замужем                 0      F   сотрудник     0        253875   \n",
       "1   женат / замужем                 0      F   сотрудник     0        112080   \n",
       "2   женат / замужем                 0      M   сотрудник     0        145885   \n",
       "3   женат / замужем                 0      M   сотрудник     0        267628   \n",
       "4  гражданский брак                 1      F   пенсионер     0        158616   \n",
       "5  гражданский брак                 1      M   компаньон     0        255763   \n",
       "6   женат / замужем                 0      F   компаньон     0        240525   \n",
       "7   женат / замужем                 0      M   сотрудник     0        135823   \n",
       "8  гражданский брак                 1      F   сотрудник     0         95856   \n",
       "9   женат / замужем                 0      M   сотрудник     0        144425   \n",
       "\n",
       "                      purpose purpose_group total_income_cat  \\\n",
       "0               покупка жилья  недвижимость          богатый   \n",
       "1     приобретение автомобиля    автомобиль    средний класс   \n",
       "2               покупка жилья  недвижимость    средний класс   \n",
       "3  дополнительное образование   образование          богатый   \n",
       "4             сыграть свадьбу       свадьба          богатый   \n",
       "5               покупка жилья  недвижимость          богатый   \n",
       "6           операции с жильем  недвижимость          богатый   \n",
       "7                 образование   образование    средний класс   \n",
       "8       на проведение свадьбы       свадьба    средний класс   \n",
       "9     покупка жилья для семьи  недвижимость    средний класс   \n",
       "\n",
       "   days_employed_cat children_cat  \n",
       "0  стаж более 20 лет  1-2 ребенка  \n",
       "1     стаж 10-20 лет  1-2 ребенка  \n",
       "2     стаж 10-20 лет    бездетные  \n",
       "3     стаж 10-20 лет  многодетные  \n",
       "4  стаж более 20 лет    бездетные  \n",
       "5     стаж до 10 лет    бездетные  \n",
       "6     стаж до 10 лет    бездетные  \n",
       "7     стаж до 10 лет    бездетные  \n",
       "8  стаж более 20 лет  1-2 ребенка  \n",
       "9     стаж до 10 лет    бездетные  "
      ]
     },
     "execution_count": 71,
     "metadata": {},
     "output_type": "execute_result"
    }
   ],
   "source": [
    "data.head(10)"
   ]
  },
  {
   "cell_type": "markdown",
   "metadata": {},
   "source": [
    "**Вывод:** Категоризация произведена в соответствии с теми вопросами, на которые предстоит ответить. По этой причине я, например, не разбивал данные по возрастам."
   ]
  },
  {
   "cell_type": "markdown",
   "metadata": {},
   "source": [
    "## Шаг 3. Ответьте на вопросы"
   ]
  },
  {
   "cell_type": "markdown",
   "metadata": {},
   "source": [
    "- Есть ли зависимость между наличием детей и возвратом кредита в срок?"
   ]
  },
  {
   "cell_type": "code",
   "execution_count": 72,
   "metadata": {},
   "outputs": [
    {
     "data": {
      "text/html": [
       "<div>\n",
       "<style scoped>\n",
       "    .dataframe tbody tr th:only-of-type {\n",
       "        vertical-align: middle;\n",
       "    }\n",
       "\n",
       "    .dataframe tbody tr th {\n",
       "        vertical-align: top;\n",
       "    }\n",
       "\n",
       "    .dataframe thead th {\n",
       "        text-align: right;\n",
       "    }\n",
       "</style>\n",
       "<table border=\"1\" class=\"dataframe\">\n",
       "  <thead>\n",
       "    <tr style=\"text-align: right;\">\n",
       "      <th></th>\n",
       "      <th>debt</th>\n",
       "    </tr>\n",
       "    <tr>\n",
       "      <th>children_cat</th>\n",
       "      <th></th>\n",
       "    </tr>\n",
       "  </thead>\n",
       "  <tbody>\n",
       "    <tr>\n",
       "      <td>бездетные</td>\n",
       "      <td>0.07</td>\n",
       "    </tr>\n",
       "    <tr>\n",
       "      <td>многодетные</td>\n",
       "      <td>0.09</td>\n",
       "    </tr>\n",
       "    <tr>\n",
       "      <td>1-2 ребенка</td>\n",
       "      <td>0.09</td>\n",
       "    </tr>\n",
       "  </tbody>\n",
       "</table>\n",
       "</div>"
      ],
      "text/plain": [
       "              debt\n",
       "children_cat      \n",
       "бездетные     0.07\n",
       "многодетные   0.09\n",
       "1-2 ребенка   0.09"
      ]
     },
     "execution_count": 72,
     "metadata": {},
     "output_type": "execute_result"
    }
   ],
   "source": [
    "data_pivot = data.pivot_table(index = ['children_cat'], values = 'debt').round(3).sort_values(by='debt')\n",
    "data_pivot.head()"
   ]
  },
  {
   "cell_type": "markdown",
   "metadata": {},
   "source": [
    "**Вывод:** довольно неожиданный для меня. Вероятность просрочки кредита у людей без детей 7.5%. А с появлением детей эта вероятность растет до 9.3%. Возможно это связано с тем, что с появлением детей вырастают траты и люди не всегда готовы к этим, увеличивающимся тратам, но в то же время и не готовы экономить на детях. Поэтому увеличивается, число тех, кто готов просрочить кредитные обязательства. В тоже время в группе многодетные(количество детей больше 2х) процент просроченных кредитов опять падает до 8.6%. Скорее всего это всязано с большим жизненным опытом и появление новых детей уже не является таким серьёзным и непрогрназируемым ударом по семейному бюджету."
   ]
  },
  {
   "cell_type": "markdown",
   "metadata": {},
   "source": [
    "- Есть ли зависимость между семейным положением и возвратом кредита в срок?"
   ]
  },
  {
   "cell_type": "code",
   "execution_count": 73,
   "metadata": {},
   "outputs": [
    {
     "data": {
      "text/html": [
       "<div>\n",
       "<style scoped>\n",
       "    .dataframe tbody tr th:only-of-type {\n",
       "        vertical-align: middle;\n",
       "    }\n",
       "\n",
       "    .dataframe tbody tr th {\n",
       "        vertical-align: top;\n",
       "    }\n",
       "\n",
       "    .dataframe thead th {\n",
       "        text-align: right;\n",
       "    }\n",
       "</style>\n",
       "<table border=\"1\" class=\"dataframe\">\n",
       "  <thead>\n",
       "    <tr style=\"text-align: right;\">\n",
       "      <th></th>\n",
       "      <th>debt</th>\n",
       "    </tr>\n",
       "    <tr>\n",
       "      <th>family_status</th>\n",
       "      <th></th>\n",
       "    </tr>\n",
       "  </thead>\n",
       "  <tbody>\n",
       "    <tr>\n",
       "      <td>вдовец / вдова</td>\n",
       "      <td>0.07</td>\n",
       "    </tr>\n",
       "    <tr>\n",
       "      <td>в разводе</td>\n",
       "      <td>0.07</td>\n",
       "    </tr>\n",
       "    <tr>\n",
       "      <td>женат / замужем</td>\n",
       "      <td>0.07</td>\n",
       "    </tr>\n",
       "    <tr>\n",
       "      <td>гражданский брак</td>\n",
       "      <td>0.09</td>\n",
       "    </tr>\n",
       "    <tr>\n",
       "      <td>Не женат / не замужем</td>\n",
       "      <td>0.10</td>\n",
       "    </tr>\n",
       "  </tbody>\n",
       "</table>\n",
       "</div>"
      ],
      "text/plain": [
       "                       debt\n",
       "family_status              \n",
       "вдовец / вдова         0.07\n",
       "в разводе              0.07\n",
       "женат / замужем        0.07\n",
       "гражданский брак       0.09\n",
       "Не женат / не замужем  0.10"
      ]
     },
     "execution_count": 73,
     "metadata": {},
     "output_type": "execute_result"
    }
   ],
   "source": [
    "data_pivot = data.pivot_table(index = ['family_status'], values = 'debt').round(3).sort_values(by='debt')\n",
    "data_pivot.head()"
   ]
  },
  {
   "cell_type": "markdown",
   "metadata": {},
   "source": [
    "**Вывод** Самая высокая вероятность просрочки кредита у людей не состоящих в официальных отношениях. \n",
    "**Комментарий от студента** Хотя, для меня это не совсем коррелируется с предыдущем выводом. Ведь люди не состоящие в официальных отношения чаще и не имеют детей.\n",
    "Но при этом самый низкий процент просрочек у вдовцов/вдов."
   ]
  },
  {
   "cell_type": "markdown",
   "metadata": {},
   "source": [
    "- Есть ли зависимость между уровнем дохода и возвратом кредита в срок?"
   ]
  },
  {
   "cell_type": "code",
   "execution_count": 74,
   "metadata": {},
   "outputs": [
    {
     "data": {
      "text/html": [
       "<div>\n",
       "<style scoped>\n",
       "    .dataframe tbody tr th:only-of-type {\n",
       "        vertical-align: middle;\n",
       "    }\n",
       "\n",
       "    .dataframe tbody tr th {\n",
       "        vertical-align: top;\n",
       "    }\n",
       "\n",
       "    .dataframe thead th {\n",
       "        text-align: right;\n",
       "    }\n",
       "</style>\n",
       "<table border=\"1\" class=\"dataframe\">\n",
       "  <thead>\n",
       "    <tr style=\"text-align: right;\">\n",
       "      <th></th>\n",
       "      <th>debt</th>\n",
       "    </tr>\n",
       "    <tr>\n",
       "      <th>total_income_cat</th>\n",
       "      <th></th>\n",
       "    </tr>\n",
       "  </thead>\n",
       "  <tbody>\n",
       "    <tr>\n",
       "      <td>бедный</td>\n",
       "      <td>0.07</td>\n",
       "    </tr>\n",
       "    <tr>\n",
       "      <td>богатый</td>\n",
       "      <td>0.08</td>\n",
       "    </tr>\n",
       "    <tr>\n",
       "      <td>средний класс</td>\n",
       "      <td>0.08</td>\n",
       "    </tr>\n",
       "  </tbody>\n",
       "</table>\n",
       "</div>"
      ],
      "text/plain": [
       "                  debt\n",
       "total_income_cat      \n",
       "бедный            0.07\n",
       "богатый           0.08\n",
       "средний класс     0.08"
      ]
     },
     "execution_count": 74,
     "metadata": {},
     "output_type": "execute_result"
    }
   ],
   "source": [
    "data_pivot = data.pivot_table(index = ['total_income_cat'], values = 'debt').round(3).sort_values(by='debt')\n",
    "data_pivot.head()"
   ]
  },
  {
   "cell_type": "markdown",
   "metadata": {},
   "source": [
    "**Вывод** Люди с невысоким доходом более ответственно относятся к своим кредитным обязательствам. И реже допускают просрочки по кредитам."
   ]
  },
  {
   "cell_type": "markdown",
   "metadata": {},
   "source": [
    "- Как разные цели кредита влияют на его возврат в срок?"
   ]
  },
  {
   "cell_type": "code",
   "execution_count": 75,
   "metadata": {},
   "outputs": [
    {
     "data": {
      "text/html": [
       "<div>\n",
       "<style scoped>\n",
       "    .dataframe tbody tr th:only-of-type {\n",
       "        vertical-align: middle;\n",
       "    }\n",
       "\n",
       "    .dataframe tbody tr th {\n",
       "        vertical-align: top;\n",
       "    }\n",
       "\n",
       "    .dataframe thead th {\n",
       "        text-align: right;\n",
       "    }\n",
       "</style>\n",
       "<table border=\"1\" class=\"dataframe\">\n",
       "  <thead>\n",
       "    <tr style=\"text-align: right;\">\n",
       "      <th></th>\n",
       "      <th>debt</th>\n",
       "    </tr>\n",
       "    <tr>\n",
       "      <th>purpose_group</th>\n",
       "      <th></th>\n",
       "    </tr>\n",
       "  </thead>\n",
       "  <tbody>\n",
       "    <tr>\n",
       "      <td>недвижимость</td>\n",
       "      <td>0.07</td>\n",
       "    </tr>\n",
       "    <tr>\n",
       "      <td>инвестиции</td>\n",
       "      <td>0.08</td>\n",
       "    </tr>\n",
       "    <tr>\n",
       "      <td>свадьба</td>\n",
       "      <td>0.08</td>\n",
       "    </tr>\n",
       "    <tr>\n",
       "      <td>образование</td>\n",
       "      <td>0.09</td>\n",
       "    </tr>\n",
       "    <tr>\n",
       "      <td>автомобиль</td>\n",
       "      <td>0.09</td>\n",
       "    </tr>\n",
       "  </tbody>\n",
       "</table>\n",
       "</div>"
      ],
      "text/plain": [
       "               debt\n",
       "purpose_group      \n",
       "недвижимость   0.07\n",
       "инвестиции     0.08\n",
       "свадьба        0.08\n",
       "образование    0.09\n",
       "автомобиль     0.09"
      ]
     },
     "execution_count": 75,
     "metadata": {},
     "output_type": "execute_result"
    }
   ],
   "source": [
    "data_pivot = data.pivot_table(index = ['purpose_group'], values = 'debt').round(3).sort_values(by='debt')\n",
    "data_pivot.head()"
   ]
  },
  {
   "cell_type": "markdown",
   "metadata": {},
   "source": [
    "**Вывод** Самая высокая вероятность просрочки у тех, кто взял кредит на автомобиль 9.4%. Скорее всего это связано с тем, что автомобиль не авляется активом, а скорее требует дополнительные расходы на содержание, может сломаться или попасть в аварию.\n",
    "А самая низкая вероятность просрочки у тех, кто берет кредит на покупку недвижимости. Скорее всего, потом что люди любыми способами хотят сохранить жильё. И, при любых обстоятельствах, стараются обслуживать данный вид кредита."
   ]
  },
  {
   "cell_type": "markdown",
   "metadata": {},
   "source": [
    "## Шаг 4. Общий вывод"
   ]
  },
  {
   "cell_type": "markdown",
   "metadata": {},
   "source": [
    "В общем можно сделать вывод, что и семейное положение и наличее детей влияют на вероятность невозврата кредита. Но так же влияют и уровень дохода и цель. \n",
    "И получается, что идеальный заёмщик это бездетный вдовец/вдова с невысоким доходом, берущий кредит на покупку недвижимости."
   ]
  }
 ],
 "metadata": {
  "ExecuteTimeLog": [
   {
    "duration": 794,
    "start_time": "2021-12-09T08:20:55.648Z"
   },
   {
    "duration": 59,
    "start_time": "2021-12-09T08:20:59.373Z"
   },
   {
    "duration": 59,
    "start_time": "2021-12-09T08:21:05.157Z"
   },
   {
    "duration": 95,
    "start_time": "2021-12-09T08:21:11.215Z"
   },
   {
    "duration": 70,
    "start_time": "2021-12-09T08:22:18.455Z"
   },
   {
    "duration": 71,
    "start_time": "2021-12-09T08:23:03.461Z"
   },
   {
    "duration": 80,
    "start_time": "2021-12-09T08:23:23.349Z"
   },
   {
    "duration": 85,
    "start_time": "2021-12-09T08:25:52.959Z"
   },
   {
    "duration": 10,
    "start_time": "2021-12-09T08:37:12.513Z"
   },
   {
    "duration": 13,
    "start_time": "2021-12-09T08:45:53.698Z"
   },
   {
    "duration": 8,
    "start_time": "2021-12-09T08:48:31.408Z"
   },
   {
    "duration": 13,
    "start_time": "2021-12-09T08:48:48.822Z"
   },
   {
    "duration": 108,
    "start_time": "2021-12-09T09:01:04.440Z"
   },
   {
    "duration": 99,
    "start_time": "2021-12-09T09:04:03.357Z"
   },
   {
    "duration": 486,
    "start_time": "2021-12-09T09:08:59.401Z"
   },
   {
    "duration": 479,
    "start_time": "2021-12-09T09:12:35.539Z"
   },
   {
    "duration": 98,
    "start_time": "2021-12-09T09:17:41.322Z"
   },
   {
    "duration": 36,
    "start_time": "2021-12-09T09:22:01.858Z"
   },
   {
    "duration": 24,
    "start_time": "2021-12-09T09:22:22.129Z"
   },
   {
    "duration": 21,
    "start_time": "2021-12-09T09:22:34.436Z"
   },
   {
    "duration": 15,
    "start_time": "2021-12-09T09:23:27.446Z"
   },
   {
    "duration": 39,
    "start_time": "2021-12-09T09:23:36.211Z"
   },
   {
    "duration": 22,
    "start_time": "2021-12-09T09:23:46.580Z"
   },
   {
    "duration": 14,
    "start_time": "2021-12-09T09:23:50.689Z"
   },
   {
    "duration": 318,
    "start_time": "2021-12-09T09:28:13.274Z"
   },
   {
    "duration": 14,
    "start_time": "2021-12-09T09:28:19.121Z"
   },
   {
    "duration": 120,
    "start_time": "2021-12-09T09:32:25.574Z"
   },
   {
    "duration": 103,
    "start_time": "2021-12-09T09:32:51.790Z"
   },
   {
    "duration": 110,
    "start_time": "2021-12-09T09:33:30.833Z"
   },
   {
    "duration": 80,
    "start_time": "2021-12-09T09:33:43.719Z"
   },
   {
    "duration": 49,
    "start_time": "2021-12-09T09:34:01.724Z"
   },
   {
    "duration": 46,
    "start_time": "2021-12-09T09:39:57.669Z"
   },
   {
    "duration": 16,
    "start_time": "2021-12-09T09:40:43.696Z"
   },
   {
    "duration": 77,
    "start_time": "2021-12-09T09:41:07.961Z"
   },
   {
    "duration": 14,
    "start_time": "2021-12-09T09:47:26.967Z"
   },
   {
    "duration": 8310,
    "start_time": "2021-12-09T09:54:26.000Z"
   },
   {
    "duration": 8690,
    "start_time": "2021-12-09T09:54:43.820Z"
   },
   {
    "duration": 77,
    "start_time": "2021-12-09T09:55:14.665Z"
   },
   {
    "duration": 62,
    "start_time": "2021-12-09T09:55:18.084Z"
   },
   {
    "duration": 22,
    "start_time": "2021-12-09T09:55:20.634Z"
   },
   {
    "duration": 14,
    "start_time": "2021-12-09T09:55:25.330Z"
   },
   {
    "duration": 7723,
    "start_time": "2021-12-09T09:55:35.717Z"
   },
   {
    "duration": 12,
    "start_time": "2021-12-09T09:56:12.943Z"
   },
   {
    "duration": 11,
    "start_time": "2021-12-09T10:04:20.648Z"
   },
   {
    "duration": 2980,
    "start_time": "2021-12-09T10:20:17.992Z"
   },
   {
    "duration": 74,
    "start_time": "2021-12-09T10:20:44.130Z"
   },
   {
    "duration": 102,
    "start_time": "2021-12-09T10:20:49.538Z"
   },
   {
    "duration": 64,
    "start_time": "2021-12-09T10:20:49.643Z"
   },
   {
    "duration": 19,
    "start_time": "2021-12-09T10:20:49.718Z"
   },
   {
    "duration": 21,
    "start_time": "2021-12-09T10:20:49.740Z"
   },
   {
    "duration": 13,
    "start_time": "2021-12-09T10:20:49.763Z"
   },
   {
    "duration": 2168,
    "start_time": "2021-12-09T10:20:49.778Z"
   },
   {
    "duration": 9,
    "start_time": "2021-12-09T10:21:57.371Z"
   },
   {
    "duration": 9,
    "start_time": "2021-12-09T10:23:25.636Z"
   },
   {
    "duration": 15,
    "start_time": "2021-12-09T10:23:46.947Z"
   },
   {
    "duration": 8014,
    "start_time": "2021-12-09T10:24:28.694Z"
   },
   {
    "duration": 8710,
    "start_time": "2021-12-09T10:25:40.486Z"
   },
   {
    "duration": 30,
    "start_time": "2021-12-09T10:26:12.113Z"
   },
   {
    "duration": 19,
    "start_time": "2021-12-09T10:27:09.722Z"
   },
   {
    "duration": 108,
    "start_time": "2021-12-09T10:28:51.042Z"
   },
   {
    "duration": 23,
    "start_time": "2021-12-09T10:28:58.284Z"
   },
   {
    "duration": 21,
    "start_time": "2021-12-09T10:30:57.344Z"
   },
   {
    "duration": 22,
    "start_time": "2021-12-09T10:31:15.544Z"
   },
   {
    "duration": 21,
    "start_time": "2021-12-09T10:31:48.923Z"
   },
   {
    "duration": 12,
    "start_time": "2021-12-09T12:16:30.160Z"
   },
   {
    "duration": 107,
    "start_time": "2021-12-09T12:16:51.363Z"
   },
   {
    "duration": 21,
    "start_time": "2021-12-09T12:17:14.805Z"
   },
   {
    "duration": 90,
    "start_time": "2021-12-09T12:28:36.514Z"
   },
   {
    "duration": 42,
    "start_time": "2021-12-09T12:28:53.141Z"
   },
   {
    "duration": 121,
    "start_time": "2021-12-09T12:38:55.100Z"
   },
   {
    "duration": 370,
    "start_time": "2021-12-09T12:39:46.788Z"
   },
   {
    "duration": 1242,
    "start_time": "2021-12-09T12:39:57.697Z"
   },
   {
    "duration": 49,
    "start_time": "2021-12-09T12:39:58.941Z"
   },
   {
    "duration": 35,
    "start_time": "2021-12-09T12:39:58.994Z"
   },
   {
    "duration": 14,
    "start_time": "2021-12-09T12:39:59.033Z"
   },
   {
    "duration": 14,
    "start_time": "2021-12-09T12:39:59.049Z"
   },
   {
    "duration": 70,
    "start_time": "2021-12-09T12:39:59.066Z"
   },
   {
    "duration": 19,
    "start_time": "2021-12-09T12:39:59.139Z"
   },
   {
    "duration": 17,
    "start_time": "2021-12-09T12:39:59.163Z"
   },
   {
    "duration": 63,
    "start_time": "2021-12-09T12:39:59.183Z"
   },
   {
    "duration": 394,
    "start_time": "2021-12-09T12:40:07.033Z"
   },
   {
    "duration": 857,
    "start_time": "2021-12-09T12:41:41.350Z"
   },
   {
    "duration": 49,
    "start_time": "2021-12-09T12:41:45.043Z"
   },
   {
    "duration": 16,
    "start_time": "2021-12-09T12:41:46.981Z"
   },
   {
    "duration": 17,
    "start_time": "2021-12-09T12:41:49.642Z"
   },
   {
    "duration": 12,
    "start_time": "2021-12-09T12:41:51.886Z"
   },
   {
    "duration": 23,
    "start_time": "2021-12-09T12:41:54.033Z"
   },
   {
    "duration": 14,
    "start_time": "2021-12-09T12:41:56.338Z"
   },
   {
    "duration": 12,
    "start_time": "2021-12-09T12:41:59.296Z"
   },
   {
    "duration": 365,
    "start_time": "2021-12-09T12:43:39.262Z"
   },
   {
    "duration": 1053,
    "start_time": "2021-12-09T12:45:20.900Z"
   },
   {
    "duration": 47,
    "start_time": "2021-12-09T12:45:24.534Z"
   },
   {
    "duration": 14,
    "start_time": "2021-12-09T12:45:27.187Z"
   },
   {
    "duration": 85,
    "start_time": "2021-12-09T12:45:37.180Z"
   },
   {
    "duration": 46,
    "start_time": "2021-12-09T12:45:41.759Z"
   },
   {
    "duration": 14,
    "start_time": "2021-12-09T12:45:43.606Z"
   },
   {
    "duration": 13,
    "start_time": "2021-12-09T12:45:46.245Z"
   },
   {
    "duration": 12,
    "start_time": "2021-12-09T12:45:49.013Z"
   },
   {
    "duration": 24,
    "start_time": "2021-12-09T12:45:50.984Z"
   },
   {
    "duration": 367,
    "start_time": "2021-12-09T12:46:18.117Z"
   },
   {
    "duration": 460,
    "start_time": "2021-12-09T12:47:16.493Z"
   },
   {
    "duration": 330,
    "start_time": "2021-12-09T12:47:27.941Z"
   },
   {
    "duration": 892,
    "start_time": "2021-12-09T12:47:33.996Z"
   },
   {
    "duration": 46,
    "start_time": "2021-12-09T12:47:41.237Z"
   },
   {
    "duration": 15,
    "start_time": "2021-12-09T12:47:43.529Z"
   },
   {
    "duration": 15,
    "start_time": "2021-12-09T12:47:46.810Z"
   },
   {
    "duration": 14,
    "start_time": "2021-12-09T12:47:49.443Z"
   },
   {
    "duration": 22,
    "start_time": "2021-12-09T12:47:52.043Z"
   },
   {
    "duration": 32,
    "start_time": "2021-12-09T12:47:54.511Z"
   },
   {
    "duration": 31,
    "start_time": "2021-12-09T12:52:38.867Z"
   },
   {
    "duration": 7,
    "start_time": "2021-12-09T13:10:47.632Z"
   },
   {
    "duration": 21,
    "start_time": "2021-12-09T13:11:02.617Z"
   },
   {
    "duration": 20,
    "start_time": "2021-12-09T13:11:57.308Z"
   },
   {
    "duration": 130,
    "start_time": "2021-12-09T13:13:24.810Z"
   },
   {
    "duration": 61,
    "start_time": "2021-12-09T13:13:53.219Z"
   },
   {
    "duration": 57,
    "start_time": "2021-12-09T13:14:05.579Z"
   },
   {
    "duration": 20,
    "start_time": "2021-12-09T13:14:56.482Z"
   },
   {
    "duration": 57,
    "start_time": "2021-12-09T13:15:28.135Z"
   },
   {
    "duration": 336,
    "start_time": "2021-12-09T13:15:39.014Z"
   },
   {
    "duration": 14,
    "start_time": "2021-12-09T13:15:48.800Z"
   },
   {
    "duration": 13,
    "start_time": "2021-12-09T13:16:11.257Z"
   },
   {
    "duration": 119,
    "start_time": "2021-12-09T13:20:24.362Z"
   },
   {
    "duration": 16,
    "start_time": "2021-12-09T13:20:31.297Z"
   },
   {
    "duration": 31,
    "start_time": "2021-12-09T13:20:46.990Z"
   },
   {
    "duration": 33,
    "start_time": "2021-12-09T13:20:51.964Z"
   },
   {
    "duration": 32,
    "start_time": "2021-12-09T13:21:07.757Z"
   },
   {
    "duration": 103,
    "start_time": "2021-12-09T13:25:35.016Z"
   },
   {
    "duration": 93,
    "start_time": "2021-12-09T13:25:46.477Z"
   },
   {
    "duration": 109,
    "start_time": "2021-12-09T13:25:51.812Z"
   },
   {
    "duration": 9,
    "start_time": "2021-12-09T13:26:15.566Z"
   },
   {
    "duration": 9,
    "start_time": "2021-12-09T13:26:37.771Z"
   },
   {
    "duration": 9,
    "start_time": "2021-12-09T13:26:48.967Z"
   },
   {
    "duration": 8,
    "start_time": "2021-12-09T13:27:49.334Z"
   },
   {
    "duration": 9,
    "start_time": "2021-12-09T13:28:05.718Z"
   },
   {
    "duration": 5,
    "start_time": "2021-12-09T13:29:20.837Z"
   },
   {
    "duration": 5,
    "start_time": "2021-12-09T13:29:34.959Z"
   },
   {
    "duration": 5,
    "start_time": "2021-12-09T13:31:18.241Z"
   },
   {
    "duration": 13,
    "start_time": "2021-12-09T13:31:27.051Z"
   },
   {
    "duration": 11,
    "start_time": "2021-12-09T13:39:29.890Z"
   },
   {
    "duration": 13,
    "start_time": "2021-12-09T13:39:36.174Z"
   },
   {
    "duration": 14,
    "start_time": "2021-12-09T13:39:50.448Z"
   },
   {
    "duration": 13,
    "start_time": "2021-12-09T13:39:58.629Z"
   },
   {
    "duration": 12,
    "start_time": "2021-12-09T13:40:05.661Z"
   },
   {
    "duration": 12,
    "start_time": "2021-12-09T13:41:20.417Z"
   },
   {
    "duration": 307,
    "start_time": "2021-12-09T13:42:15.718Z"
   },
   {
    "duration": 20,
    "start_time": "2021-12-09T13:42:59.059Z"
   },
   {
    "duration": 19,
    "start_time": "2021-12-09T13:43:14.273Z"
   },
   {
    "duration": 7,
    "start_time": "2021-12-09T13:43:29.132Z"
   },
   {
    "duration": 3,
    "start_time": "2021-12-09T13:51:58.087Z"
   },
   {
    "duration": 90,
    "start_time": "2021-12-09T13:53:26.249Z"
   },
   {
    "duration": 9,
    "start_time": "2021-12-09T13:53:31.157Z"
   },
   {
    "duration": 6,
    "start_time": "2021-12-09T13:54:36.269Z"
   },
   {
    "duration": 19,
    "start_time": "2021-12-09T13:54:50.542Z"
   },
   {
    "duration": 26,
    "start_time": "2021-12-09T13:59:05.751Z"
   },
   {
    "duration": 23,
    "start_time": "2021-12-09T13:59:18.071Z"
   },
   {
    "duration": 28,
    "start_time": "2021-12-09T14:03:08.569Z"
   },
   {
    "duration": 433,
    "start_time": "2021-12-09T14:03:38.942Z"
   },
   {
    "duration": 34,
    "start_time": "2021-12-09T14:04:00.654Z"
   },
   {
    "duration": 35,
    "start_time": "2021-12-09T14:04:49.196Z"
   },
   {
    "duration": 37,
    "start_time": "2021-12-09T14:05:17.744Z"
   },
   {
    "duration": 27,
    "start_time": "2021-12-09T14:07:57.462Z"
   },
   {
    "duration": 47,
    "start_time": "2021-12-09T14:10:40.520Z"
   },
   {
    "duration": 116,
    "start_time": "2021-12-10T06:21:52.197Z"
   },
   {
    "duration": 286,
    "start_time": "2021-12-10T06:22:09.868Z"
   },
   {
    "duration": 608,
    "start_time": "2021-12-10T06:22:16.819Z"
   },
   {
    "duration": 28,
    "start_time": "2021-12-10T06:22:17.429Z"
   },
   {
    "duration": 9,
    "start_time": "2021-12-10T06:22:17.458Z"
   },
   {
    "duration": 20,
    "start_time": "2021-12-10T06:22:17.468Z"
   },
   {
    "duration": 10,
    "start_time": "2021-12-10T06:22:17.490Z"
   },
   {
    "duration": 13,
    "start_time": "2021-12-10T06:22:17.502Z"
   },
   {
    "duration": 19,
    "start_time": "2021-12-10T06:22:17.516Z"
   },
   {
    "duration": 12,
    "start_time": "2021-12-10T06:22:17.537Z"
   },
   {
    "duration": 71,
    "start_time": "2021-12-10T06:22:17.550Z"
   },
   {
    "duration": 9,
    "start_time": "2021-12-10T06:22:17.623Z"
   },
   {
    "duration": 18,
    "start_time": "2021-12-10T06:22:17.633Z"
   },
   {
    "duration": 6,
    "start_time": "2021-12-10T06:22:17.652Z"
   },
   {
    "duration": 3,
    "start_time": "2021-12-10T06:22:17.659Z"
   },
   {
    "duration": 10,
    "start_time": "2021-12-10T06:22:17.695Z"
   },
   {
    "duration": 12,
    "start_time": "2021-12-10T06:22:17.706Z"
   },
   {
    "duration": 4,
    "start_time": "2021-12-10T06:22:17.719Z"
   },
   {
    "duration": 4,
    "start_time": "2021-12-10T06:22:17.725Z"
   },
   {
    "duration": 13,
    "start_time": "2021-12-10T06:22:17.730Z"
   },
   {
    "duration": 14,
    "start_time": "2021-12-10T06:22:17.744Z"
   },
   {
    "duration": 49,
    "start_time": "2021-12-10T06:22:17.760Z"
   },
   {
    "duration": 25,
    "start_time": "2021-12-10T06:22:17.810Z"
   },
   {
    "duration": 278,
    "start_time": "2021-12-10T06:22:17.837Z"
   },
   {
    "duration": 238,
    "start_time": "2021-12-10T06:22:27.728Z"
   },
   {
    "duration": 6,
    "start_time": "2021-12-10T06:23:25.225Z"
   },
   {
    "duration": 7,
    "start_time": "2021-12-10T06:26:15.718Z"
   },
   {
    "duration": 309,
    "start_time": "2021-12-10T06:26:51.044Z"
   },
   {
    "duration": 374,
    "start_time": "2021-12-10T06:30:06.553Z"
   },
   {
    "duration": 317,
    "start_time": "2021-12-10T06:30:17.057Z"
   },
   {
    "duration": 389,
    "start_time": "2021-12-10T06:30:55.771Z"
   },
   {
    "duration": 5,
    "start_time": "2021-12-10T06:37:13.465Z"
   },
   {
    "duration": 4,
    "start_time": "2021-12-10T06:37:23.074Z"
   },
   {
    "duration": 6,
    "start_time": "2021-12-10T06:37:27.513Z"
   },
   {
    "duration": 6,
    "start_time": "2021-12-10T06:37:40.081Z"
   },
   {
    "duration": 5,
    "start_time": "2021-12-10T06:38:08.389Z"
   },
   {
    "duration": 626,
    "start_time": "2021-12-10T06:42:46.069Z"
   },
   {
    "duration": 678,
    "start_time": "2021-12-10T06:43:56.828Z"
   },
   {
    "duration": 7,
    "start_time": "2021-12-10T06:46:05.557Z"
   },
   {
    "duration": 264,
    "start_time": "2021-12-10T06:46:09.379Z"
   },
   {
    "duration": 8,
    "start_time": "2021-12-10T06:46:45.293Z"
   },
   {
    "duration": 609,
    "start_time": "2021-12-10T06:46:48.733Z"
   },
   {
    "duration": 4,
    "start_time": "2021-12-10T06:55:04.375Z"
   },
   {
    "duration": 2643,
    "start_time": "2021-12-10T06:55:38.712Z"
   },
   {
    "duration": 2685,
    "start_time": "2021-12-10T06:56:50.073Z"
   },
   {
    "duration": 2668,
    "start_time": "2021-12-10T06:58:08.193Z"
   },
   {
    "duration": 2949,
    "start_time": "2021-12-10T07:01:16.543Z"
   },
   {
    "duration": 3287,
    "start_time": "2021-12-10T07:04:29.077Z"
   },
   {
    "duration": 3356,
    "start_time": "2021-12-10T07:05:17.521Z"
   },
   {
    "duration": 267,
    "start_time": "2021-12-10T07:06:10.201Z"
   },
   {
    "duration": 4,
    "start_time": "2021-12-10T07:06:51.058Z"
   },
   {
    "duration": 7,
    "start_time": "2021-12-10T07:10:19.022Z"
   },
   {
    "duration": 634,
    "start_time": "2021-12-10T07:11:32.264Z"
   },
   {
    "duration": 3438,
    "start_time": "2021-12-10T07:12:39.145Z"
   },
   {
    "duration": 3280,
    "start_time": "2021-12-10T07:13:34.997Z"
   },
   {
    "duration": 3420,
    "start_time": "2021-12-10T07:18:37.912Z"
   },
   {
    "duration": 83,
    "start_time": "2021-12-10T07:20:51.763Z"
   },
   {
    "duration": 81,
    "start_time": "2021-12-10T07:21:21.052Z"
   },
   {
    "duration": 157,
    "start_time": "2021-12-10T07:21:31.772Z"
   },
   {
    "duration": 77,
    "start_time": "2021-12-10T07:22:18.669Z"
   },
   {
    "duration": 81,
    "start_time": "2021-12-10T07:22:47.097Z"
   },
   {
    "duration": 3218,
    "start_time": "2021-12-10T07:24:05.134Z"
   },
   {
    "duration": 2720,
    "start_time": "2021-12-10T07:24:23.269Z"
   },
   {
    "duration": 65,
    "start_time": "2021-12-10T07:25:04.061Z"
   },
   {
    "duration": 28,
    "start_time": "2021-12-10T07:25:04.128Z"
   },
   {
    "duration": 10,
    "start_time": "2021-12-10T07:25:04.159Z"
   },
   {
    "duration": 26,
    "start_time": "2021-12-10T07:25:04.171Z"
   },
   {
    "duration": 9,
    "start_time": "2021-12-10T07:25:04.200Z"
   },
   {
    "duration": 14,
    "start_time": "2021-12-10T07:25:04.210Z"
   },
   {
    "duration": 19,
    "start_time": "2021-12-10T07:25:04.226Z"
   },
   {
    "duration": 53,
    "start_time": "2021-12-10T07:25:04.248Z"
   },
   {
    "duration": 33,
    "start_time": "2021-12-10T07:25:04.304Z"
   },
   {
    "duration": 9,
    "start_time": "2021-12-10T07:25:04.338Z"
   },
   {
    "duration": 18,
    "start_time": "2021-12-10T07:25:04.349Z"
   },
   {
    "duration": 25,
    "start_time": "2021-12-10T07:25:04.369Z"
   },
   {
    "duration": 8,
    "start_time": "2021-12-10T07:25:04.396Z"
   },
   {
    "duration": 9,
    "start_time": "2021-12-10T07:25:04.406Z"
   },
   {
    "duration": 11,
    "start_time": "2021-12-10T07:25:04.417Z"
   },
   {
    "duration": 4,
    "start_time": "2021-12-10T07:25:04.429Z"
   },
   {
    "duration": 5,
    "start_time": "2021-12-10T07:25:04.435Z"
   },
   {
    "duration": 15,
    "start_time": "2021-12-10T07:25:04.442Z"
   },
   {
    "duration": 49,
    "start_time": "2021-12-10T07:25:04.459Z"
   },
   {
    "duration": 21,
    "start_time": "2021-12-10T07:25:04.510Z"
   },
   {
    "duration": 28,
    "start_time": "2021-12-10T07:25:04.533Z"
   },
   {
    "duration": 26,
    "start_time": "2021-12-10T07:25:04.562Z"
   },
   {
    "duration": 2684,
    "start_time": "2021-12-10T07:25:04.591Z"
   },
   {
    "duration": 53,
    "start_time": "2021-12-10T07:25:57.413Z"
   },
   {
    "duration": 32,
    "start_time": "2021-12-10T07:25:57.467Z"
   },
   {
    "duration": 10,
    "start_time": "2021-12-10T07:25:57.501Z"
   },
   {
    "duration": 25,
    "start_time": "2021-12-10T07:25:57.513Z"
   },
   {
    "duration": 16,
    "start_time": "2021-12-10T07:25:57.539Z"
   },
   {
    "duration": 19,
    "start_time": "2021-12-10T07:25:57.557Z"
   },
   {
    "duration": 25,
    "start_time": "2021-12-10T07:25:57.578Z"
   },
   {
    "duration": 13,
    "start_time": "2021-12-10T07:25:57.604Z"
   },
   {
    "duration": 43,
    "start_time": "2021-12-10T07:25:57.620Z"
   },
   {
    "duration": 9,
    "start_time": "2021-12-10T07:25:57.665Z"
   },
   {
    "duration": 34,
    "start_time": "2021-12-10T07:25:57.675Z"
   },
   {
    "duration": 5,
    "start_time": "2021-12-10T07:25:57.711Z"
   },
   {
    "duration": 18,
    "start_time": "2021-12-10T07:25:57.718Z"
   },
   {
    "duration": 23,
    "start_time": "2021-12-10T07:25:57.737Z"
   },
   {
    "duration": 28,
    "start_time": "2021-12-10T07:25:57.761Z"
   },
   {
    "duration": 10,
    "start_time": "2021-12-10T07:25:57.791Z"
   },
   {
    "duration": 23,
    "start_time": "2021-12-10T07:25:57.803Z"
   },
   {
    "duration": 24,
    "start_time": "2021-12-10T07:25:57.827Z"
   },
   {
    "duration": 14,
    "start_time": "2021-12-10T07:25:57.852Z"
   },
   {
    "duration": 20,
    "start_time": "2021-12-10T07:25:57.867Z"
   },
   {
    "duration": 29,
    "start_time": "2021-12-10T07:25:57.890Z"
   },
   {
    "duration": 4,
    "start_time": "2021-12-10T07:25:57.920Z"
   },
   {
    "duration": 3440,
    "start_time": "2021-12-10T07:25:57.926Z"
   },
   {
    "duration": 3353,
    "start_time": "2021-12-10T07:27:13.787Z"
   },
   {
    "duration": 59,
    "start_time": "2021-12-10T07:28:12.929Z"
   },
   {
    "duration": 33,
    "start_time": "2021-12-10T07:28:12.990Z"
   },
   {
    "duration": 8,
    "start_time": "2021-12-10T07:28:13.025Z"
   },
   {
    "duration": 10,
    "start_time": "2021-12-10T07:28:13.035Z"
   },
   {
    "duration": 7,
    "start_time": "2021-12-10T07:28:13.046Z"
   },
   {
    "duration": 50,
    "start_time": "2021-12-10T07:28:13.054Z"
   },
   {
    "duration": 19,
    "start_time": "2021-12-10T07:28:13.105Z"
   },
   {
    "duration": 13,
    "start_time": "2021-12-10T07:28:13.126Z"
   },
   {
    "duration": 57,
    "start_time": "2021-12-10T07:28:13.142Z"
   },
   {
    "duration": 9,
    "start_time": "2021-12-10T07:28:13.202Z"
   },
   {
    "duration": 19,
    "start_time": "2021-12-10T07:28:13.212Z"
   },
   {
    "duration": 5,
    "start_time": "2021-12-10T07:28:13.232Z"
   },
   {
    "duration": 3,
    "start_time": "2021-12-10T07:28:13.239Z"
   },
   {
    "duration": 8,
    "start_time": "2021-12-10T07:28:13.243Z"
   },
   {
    "duration": 38,
    "start_time": "2021-12-10T07:28:13.253Z"
   },
   {
    "duration": 6,
    "start_time": "2021-12-10T07:28:13.293Z"
   },
   {
    "duration": 3,
    "start_time": "2021-12-10T07:28:13.302Z"
   },
   {
    "duration": 15,
    "start_time": "2021-12-10T07:28:13.307Z"
   },
   {
    "duration": 14,
    "start_time": "2021-12-10T07:28:13.324Z"
   },
   {
    "duration": 49,
    "start_time": "2021-12-10T07:28:13.340Z"
   },
   {
    "duration": 31,
    "start_time": "2021-12-10T07:28:13.391Z"
   },
   {
    "duration": 4,
    "start_time": "2021-12-10T07:28:13.424Z"
   },
   {
    "duration": 55,
    "start_time": "2021-12-10T07:30:59.203Z"
   },
   {
    "duration": 34,
    "start_time": "2021-12-10T07:30:59.260Z"
   },
   {
    "duration": 11,
    "start_time": "2021-12-10T07:30:59.295Z"
   },
   {
    "duration": 8,
    "start_time": "2021-12-10T07:30:59.308Z"
   },
   {
    "duration": 10,
    "start_time": "2021-12-10T07:30:59.317Z"
   },
   {
    "duration": 12,
    "start_time": "2021-12-10T07:30:59.329Z"
   },
   {
    "duration": 50,
    "start_time": "2021-12-10T07:30:59.343Z"
   },
   {
    "duration": 15,
    "start_time": "2021-12-10T07:30:59.397Z"
   },
   {
    "duration": 35,
    "start_time": "2021-12-10T07:30:59.414Z"
   },
   {
    "duration": 9,
    "start_time": "2021-12-10T07:30:59.451Z"
   },
   {
    "duration": 45,
    "start_time": "2021-12-10T07:30:59.461Z"
   },
   {
    "duration": 6,
    "start_time": "2021-12-10T07:30:59.508Z"
   },
   {
    "duration": 5,
    "start_time": "2021-12-10T07:30:59.516Z"
   },
   {
    "duration": 9,
    "start_time": "2021-12-10T07:30:59.522Z"
   },
   {
    "duration": 15,
    "start_time": "2021-12-10T07:30:59.533Z"
   },
   {
    "duration": 5,
    "start_time": "2021-12-10T07:30:59.550Z"
   },
   {
    "duration": 31,
    "start_time": "2021-12-10T07:30:59.557Z"
   },
   {
    "duration": 19,
    "start_time": "2021-12-10T07:30:59.590Z"
   },
   {
    "duration": 14,
    "start_time": "2021-12-10T07:30:59.611Z"
   },
   {
    "duration": 22,
    "start_time": "2021-12-10T07:30:59.627Z"
   },
   {
    "duration": 60,
    "start_time": "2021-12-10T07:30:59.650Z"
   },
   {
    "duration": 5,
    "start_time": "2021-12-10T07:30:59.711Z"
   },
   {
    "duration": 8963,
    "start_time": "2021-12-10T07:30:59.718Z"
   },
   {
    "duration": 24689,
    "start_time": "2021-12-10T07:33:08.468Z"
   },
   {
    "duration": 19394,
    "start_time": "2021-12-10T07:34:57.884Z"
   },
   {
    "duration": 19647,
    "start_time": "2021-12-10T07:35:41.366Z"
   },
   {
    "duration": 19020,
    "start_time": "2021-12-10T07:37:28.417Z"
   },
   {
    "duration": 19164,
    "start_time": "2021-12-10T07:38:10.904Z"
   },
   {
    "duration": 19255,
    "start_time": "2021-12-10T07:39:44.091Z"
   },
   {
    "duration": 19029,
    "start_time": "2021-12-10T07:40:50.340Z"
   },
   {
    "duration": 18849,
    "start_time": "2021-12-10T07:41:56.213Z"
   },
   {
    "duration": 903,
    "start_time": "2021-12-11T07:21:40.644Z"
   },
   {
    "duration": 47,
    "start_time": "2021-12-11T07:21:41.549Z"
   },
   {
    "duration": 16,
    "start_time": "2021-12-11T07:21:41.600Z"
   },
   {
    "duration": 45,
    "start_time": "2021-12-11T07:21:41.619Z"
   },
   {
    "duration": 14,
    "start_time": "2021-12-11T07:21:41.667Z"
   },
   {
    "duration": 23,
    "start_time": "2021-12-11T07:21:41.683Z"
   },
   {
    "duration": 69,
    "start_time": "2021-12-11T07:21:41.709Z"
   },
   {
    "duration": 23,
    "start_time": "2021-12-11T07:21:41.784Z"
   },
   {
    "duration": 92,
    "start_time": "2021-12-11T07:21:41.811Z"
   },
   {
    "duration": 15,
    "start_time": "2021-12-11T07:21:41.906Z"
   },
   {
    "duration": 53,
    "start_time": "2021-12-11T07:21:41.923Z"
   },
   {
    "duration": 10,
    "start_time": "2021-12-11T07:21:41.979Z"
   },
   {
    "duration": 7,
    "start_time": "2021-12-11T07:21:41.991Z"
   },
   {
    "duration": 12,
    "start_time": "2021-12-11T07:21:42.001Z"
   },
   {
    "duration": 60,
    "start_time": "2021-12-11T07:21:42.016Z"
   },
   {
    "duration": 7,
    "start_time": "2021-12-11T07:21:42.078Z"
   },
   {
    "duration": 5,
    "start_time": "2021-12-11T07:21:42.087Z"
   },
   {
    "duration": 20,
    "start_time": "2021-12-11T07:21:42.094Z"
   },
   {
    "duration": 58,
    "start_time": "2021-12-11T07:21:42.116Z"
   },
   {
    "duration": 33,
    "start_time": "2021-12-11T07:21:42.176Z"
   },
   {
    "duration": 61,
    "start_time": "2021-12-11T07:21:42.212Z"
   },
   {
    "duration": 6,
    "start_time": "2021-12-11T07:21:42.276Z"
   },
   {
    "duration": 1623,
    "start_time": "2021-12-11T07:21:42.286Z"
   },
   {
    "duration": 1569,
    "start_time": "2021-12-11T07:23:15.418Z"
   },
   {
    "duration": 15277,
    "start_time": "2021-12-11T07:24:51.884Z"
   },
   {
    "duration": 1408,
    "start_time": "2021-12-11T07:25:39.158Z"
   },
   {
    "duration": 138,
    "start_time": "2021-12-11T07:28:31.304Z"
   },
   {
    "duration": 931,
    "start_time": "2021-12-11T07:28:38.304Z"
   },
   {
    "duration": 36724,
    "start_time": "2021-12-11T07:29:39.220Z"
   },
   {
    "duration": 94,
    "start_time": "2021-12-11T07:30:32.766Z"
   },
   {
    "duration": 48,
    "start_time": "2021-12-11T07:30:32.863Z"
   },
   {
    "duration": 14,
    "start_time": "2021-12-11T07:30:32.915Z"
   },
   {
    "duration": 13,
    "start_time": "2021-12-11T07:30:32.961Z"
   },
   {
    "duration": 10,
    "start_time": "2021-12-11T07:30:32.977Z"
   },
   {
    "duration": 21,
    "start_time": "2021-12-11T07:30:32.990Z"
   },
   {
    "duration": 74,
    "start_time": "2021-12-11T07:30:33.014Z"
   },
   {
    "duration": 22,
    "start_time": "2021-12-11T07:30:33.092Z"
   },
   {
    "duration": 88,
    "start_time": "2021-12-11T07:30:33.116Z"
   },
   {
    "duration": 13,
    "start_time": "2021-12-11T07:30:33.206Z"
   },
   {
    "duration": 49,
    "start_time": "2021-12-11T07:30:33.222Z"
   },
   {
    "duration": 13,
    "start_time": "2021-12-11T07:30:33.273Z"
   },
   {
    "duration": 12,
    "start_time": "2021-12-11T07:30:33.289Z"
   },
   {
    "duration": 17,
    "start_time": "2021-12-11T07:30:33.303Z"
   },
   {
    "duration": 44,
    "start_time": "2021-12-11T07:30:33.323Z"
   },
   {
    "duration": 7,
    "start_time": "2021-12-11T07:30:33.369Z"
   },
   {
    "duration": 15,
    "start_time": "2021-12-11T07:30:33.378Z"
   },
   {
    "duration": 34,
    "start_time": "2021-12-11T07:30:33.395Z"
   },
   {
    "duration": 51,
    "start_time": "2021-12-11T07:30:33.432Z"
   },
   {
    "duration": 53,
    "start_time": "2021-12-11T07:30:33.486Z"
   },
   {
    "duration": 59,
    "start_time": "2021-12-11T07:30:33.558Z"
   },
   {
    "duration": 8,
    "start_time": "2021-12-11T07:30:33.621Z"
   },
   {
    "duration": 37005,
    "start_time": "2021-12-11T07:30:33.660Z"
   },
   {
    "duration": 31981,
    "start_time": "2021-12-11T07:31:32.205Z"
   },
   {
    "duration": 31876,
    "start_time": "2021-12-11T07:33:06.959Z"
   },
   {
    "duration": 141,
    "start_time": "2021-12-11T07:33:50.479Z"
   },
   {
    "duration": 146,
    "start_time": "2021-12-11T07:34:00.886Z"
   },
   {
    "duration": 36433,
    "start_time": "2021-12-11T07:34:32.208Z"
   },
   {
    "duration": 32186,
    "start_time": "2021-12-11T07:35:51.193Z"
   },
   {
    "duration": 31304,
    "start_time": "2021-12-11T07:37:07.178Z"
   },
   {
    "duration": 187,
    "start_time": "2021-12-11T07:39:10.686Z"
   },
   {
    "duration": 80,
    "start_time": "2021-12-11T07:39:30.216Z"
   },
   {
    "duration": 66,
    "start_time": "2021-12-11T07:39:30.299Z"
   },
   {
    "duration": 15,
    "start_time": "2021-12-11T07:39:30.368Z"
   },
   {
    "duration": 15,
    "start_time": "2021-12-11T07:39:30.387Z"
   },
   {
    "duration": 12,
    "start_time": "2021-12-11T07:39:30.405Z"
   },
   {
    "duration": 24,
    "start_time": "2021-12-11T07:39:30.460Z"
   },
   {
    "duration": 33,
    "start_time": "2021-12-11T07:39:30.487Z"
   },
   {
    "duration": 60,
    "start_time": "2021-12-11T07:39:30.524Z"
   },
   {
    "duration": 79,
    "start_time": "2021-12-11T07:39:30.588Z"
   },
   {
    "duration": 15,
    "start_time": "2021-12-11T07:39:30.669Z"
   },
   {
    "duration": 32,
    "start_time": "2021-12-11T07:39:30.686Z"
   },
   {
    "duration": 39,
    "start_time": "2021-12-11T07:39:30.720Z"
   },
   {
    "duration": 7,
    "start_time": "2021-12-11T07:39:30.762Z"
   },
   {
    "duration": 22,
    "start_time": "2021-12-11T07:39:30.772Z"
   },
   {
    "duration": 27,
    "start_time": "2021-12-11T07:39:30.797Z"
   },
   {
    "duration": 37,
    "start_time": "2021-12-11T07:39:30.826Z"
   },
   {
    "duration": 13,
    "start_time": "2021-12-11T07:39:30.865Z"
   },
   {
    "duration": 26,
    "start_time": "2021-12-11T07:39:30.880Z"
   },
   {
    "duration": 55,
    "start_time": "2021-12-11T07:39:30.909Z"
   },
   {
    "duration": 37,
    "start_time": "2021-12-11T07:39:30.967Z"
   },
   {
    "duration": 84,
    "start_time": "2021-12-11T07:39:31.006Z"
   },
   {
    "duration": 8,
    "start_time": "2021-12-11T07:39:31.093Z"
   },
   {
    "duration": 16,
    "start_time": "2021-12-11T07:39:31.107Z"
   },
   {
    "duration": 36795,
    "start_time": "2021-12-11T07:39:31.127Z"
   },
   {
    "duration": 75,
    "start_time": "2021-12-11T07:42:57.775Z"
   },
   {
    "duration": 45,
    "start_time": "2021-12-11T07:42:57.853Z"
   },
   {
    "duration": 13,
    "start_time": "2021-12-11T07:42:57.901Z"
   },
   {
    "duration": 13,
    "start_time": "2021-12-11T07:42:57.917Z"
   },
   {
    "duration": 36,
    "start_time": "2021-12-11T07:42:57.932Z"
   },
   {
    "duration": 20,
    "start_time": "2021-12-11T07:42:57.970Z"
   },
   {
    "duration": 31,
    "start_time": "2021-12-11T07:42:57.992Z"
   },
   {
    "duration": 53,
    "start_time": "2021-12-11T07:42:58.025Z"
   },
   {
    "duration": 86,
    "start_time": "2021-12-11T07:42:58.084Z"
   },
   {
    "duration": 21,
    "start_time": "2021-12-11T07:42:58.173Z"
   },
   {
    "duration": 64,
    "start_time": "2021-12-11T07:42:58.197Z"
   },
   {
    "duration": 11,
    "start_time": "2021-12-11T07:42:58.264Z"
   },
   {
    "duration": 6,
    "start_time": "2021-12-11T07:42:58.278Z"
   },
   {
    "duration": 14,
    "start_time": "2021-12-11T07:42:58.286Z"
   },
   {
    "duration": 69,
    "start_time": "2021-12-11T07:42:58.303Z"
   },
   {
    "duration": 9,
    "start_time": "2021-12-11T07:42:58.375Z"
   },
   {
    "duration": 4,
    "start_time": "2021-12-11T07:42:58.386Z"
   },
   {
    "duration": 19,
    "start_time": "2021-12-11T07:42:58.393Z"
   },
   {
    "duration": 59,
    "start_time": "2021-12-11T07:42:58.415Z"
   },
   {
    "duration": 34,
    "start_time": "2021-12-11T07:42:58.477Z"
   },
   {
    "duration": 65,
    "start_time": "2021-12-11T07:42:58.514Z"
   },
   {
    "duration": 6,
    "start_time": "2021-12-11T07:42:58.582Z"
   },
   {
    "duration": 35995,
    "start_time": "2021-12-11T07:42:58.591Z"
   },
   {
    "duration": 5010,
    "start_time": "2021-12-11T07:44:24.179Z"
   },
   {
    "duration": 4589,
    "start_time": "2021-12-11T07:44:43.499Z"
   },
   {
    "duration": 5758,
    "start_time": "2021-12-11T07:45:25.676Z"
   },
   {
    "duration": 10,
    "start_time": "2021-12-11T07:45:42.356Z"
   },
   {
    "duration": 78,
    "start_time": "2021-12-11T07:45:48.349Z"
   },
   {
    "duration": 67,
    "start_time": "2021-12-11T07:45:48.430Z"
   },
   {
    "duration": 14,
    "start_time": "2021-12-11T07:45:48.500Z"
   },
   {
    "duration": 13,
    "start_time": "2021-12-11T07:45:48.516Z"
   },
   {
    "duration": 14,
    "start_time": "2021-12-11T07:45:48.560Z"
   },
   {
    "duration": 23,
    "start_time": "2021-12-11T07:45:48.577Z"
   },
   {
    "duration": 71,
    "start_time": "2021-12-11T07:45:48.603Z"
   },
   {
    "duration": 23,
    "start_time": "2021-12-11T07:45:48.680Z"
   },
   {
    "duration": 93,
    "start_time": "2021-12-11T07:45:48.707Z"
   },
   {
    "duration": 18,
    "start_time": "2021-12-11T07:45:48.802Z"
   },
   {
    "duration": 57,
    "start_time": "2021-12-11T07:45:48.823Z"
   },
   {
    "duration": 11,
    "start_time": "2021-12-11T07:45:48.883Z"
   },
   {
    "duration": 6,
    "start_time": "2021-12-11T07:45:48.896Z"
   },
   {
    "duration": 54,
    "start_time": "2021-12-11T07:45:48.905Z"
   },
   {
    "duration": 22,
    "start_time": "2021-12-11T07:45:48.963Z"
   },
   {
    "duration": 9,
    "start_time": "2021-12-11T07:45:48.987Z"
   },
   {
    "duration": 4,
    "start_time": "2021-12-11T07:45:48.999Z"
   },
   {
    "duration": 60,
    "start_time": "2021-12-11T07:45:49.005Z"
   },
   {
    "duration": 23,
    "start_time": "2021-12-11T07:45:49.068Z"
   },
   {
    "duration": 37,
    "start_time": "2021-12-11T07:45:49.093Z"
   },
   {
    "duration": 42,
    "start_time": "2021-12-11T07:45:49.160Z"
   },
   {
    "duration": 7,
    "start_time": "2021-12-11T07:45:49.204Z"
   },
   {
    "duration": 5008,
    "start_time": "2021-12-11T07:45:49.216Z"
   },
   {
    "duration": 11,
    "start_time": "2021-12-11T07:45:54.227Z"
   },
   {
    "duration": 11,
    "start_time": "2021-12-11T07:46:12.989Z"
   },
   {
    "duration": 4954,
    "start_time": "2021-12-11T07:46:17.694Z"
   },
   {
    "duration": 10,
    "start_time": "2021-12-11T07:46:28.272Z"
   },
   {
    "duration": 26,
    "start_time": "2021-12-11T07:47:00.190Z"
   },
   {
    "duration": 394,
    "start_time": "2021-12-11T08:06:08.525Z"
   },
   {
    "duration": 436,
    "start_time": "2021-12-11T08:09:21.321Z"
   },
   {
    "duration": 517,
    "start_time": "2021-12-11T08:19:58.854Z"
   },
   {
    "duration": 6,
    "start_time": "2021-12-11T08:32:00.556Z"
   },
   {
    "duration": 501,
    "start_time": "2021-12-11T08:38:36.845Z"
   },
   {
    "duration": 11309,
    "start_time": "2021-12-11T08:43:43.041Z"
   },
   {
    "duration": 10479,
    "start_time": "2021-12-11T08:44:11.318Z"
   },
   {
    "duration": 34,
    "start_time": "2021-12-11T08:44:42.509Z"
   },
   {
    "duration": 29,
    "start_time": "2021-12-11T08:46:00.968Z"
   },
   {
    "duration": 21,
    "start_time": "2021-12-11T08:46:18.614Z"
   },
   {
    "duration": 96,
    "start_time": "2021-12-11T08:46:28.872Z"
   },
   {
    "duration": 67,
    "start_time": "2021-12-11T08:46:28.971Z"
   },
   {
    "duration": 21,
    "start_time": "2021-12-11T08:46:29.061Z"
   },
   {
    "duration": 20,
    "start_time": "2021-12-11T08:46:29.086Z"
   },
   {
    "duration": 12,
    "start_time": "2021-12-11T08:46:29.109Z"
   },
   {
    "duration": 24,
    "start_time": "2021-12-11T08:46:29.160Z"
   },
   {
    "duration": 31,
    "start_time": "2021-12-11T08:46:29.187Z"
   },
   {
    "duration": 51,
    "start_time": "2021-12-11T08:46:29.222Z"
   },
   {
    "duration": 60,
    "start_time": "2021-12-11T08:46:29.277Z"
   },
   {
    "duration": 33,
    "start_time": "2021-12-11T08:46:29.340Z"
   },
   {
    "duration": 33,
    "start_time": "2021-12-11T08:46:29.376Z"
   },
   {
    "duration": 8,
    "start_time": "2021-12-11T08:46:29.412Z"
   },
   {
    "duration": 40,
    "start_time": "2021-12-11T08:46:29.423Z"
   },
   {
    "duration": 12,
    "start_time": "2021-12-11T08:46:29.466Z"
   },
   {
    "duration": 20,
    "start_time": "2021-12-11T08:46:29.481Z"
   },
   {
    "duration": 6,
    "start_time": "2021-12-11T08:46:29.504Z"
   },
   {
    "duration": 47,
    "start_time": "2021-12-11T08:46:29.512Z"
   },
   {
    "duration": 22,
    "start_time": "2021-12-11T08:46:29.561Z"
   },
   {
    "duration": 23,
    "start_time": "2021-12-11T08:46:29.586Z"
   },
   {
    "duration": 61,
    "start_time": "2021-12-11T08:46:29.611Z"
   },
   {
    "duration": 43,
    "start_time": "2021-12-11T08:46:29.674Z"
   },
   {
    "duration": 10,
    "start_time": "2021-12-11T08:46:29.720Z"
   },
   {
    "duration": 5435,
    "start_time": "2021-12-11T08:46:29.761Z"
   },
   {
    "duration": 10,
    "start_time": "2021-12-11T08:46:35.199Z"
   },
   {
    "duration": 58,
    "start_time": "2021-12-11T08:46:35.212Z"
   },
   {
    "duration": 20,
    "start_time": "2021-12-11T08:46:35.272Z"
   },
   {
    "duration": 37,
    "start_time": "2021-12-11T08:46:35.295Z"
   },
   {
    "duration": 1626,
    "start_time": "2021-12-11T08:54:09.485Z"
   },
   {
    "duration": 32,
    "start_time": "2021-12-11T08:54:27.632Z"
   },
   {
    "duration": 31,
    "start_time": "2021-12-11T08:55:42.813Z"
   },
   {
    "duration": 9,
    "start_time": "2021-12-11T08:55:46.409Z"
   },
   {
    "duration": 7,
    "start_time": "2021-12-11T08:56:15.733Z"
   },
   {
    "duration": 13807,
    "start_time": "2021-12-11T08:56:17.902Z"
   },
   {
    "duration": 8,
    "start_time": "2021-12-11T08:57:19.852Z"
   },
   {
    "duration": 12829,
    "start_time": "2021-12-11T08:57:37.196Z"
   },
   {
    "duration": 8,
    "start_time": "2021-12-11T08:59:58.791Z"
   },
   {
    "duration": 76,
    "start_time": "2021-12-11T09:01:52.262Z"
   },
   {
    "duration": 48,
    "start_time": "2021-12-11T09:01:52.360Z"
   },
   {
    "duration": 14,
    "start_time": "2021-12-11T09:01:52.411Z"
   },
   {
    "duration": 39,
    "start_time": "2021-12-11T09:01:52.428Z"
   },
   {
    "duration": 12,
    "start_time": "2021-12-11T09:01:52.469Z"
   },
   {
    "duration": 22,
    "start_time": "2021-12-11T09:01:52.483Z"
   },
   {
    "duration": 66,
    "start_time": "2021-12-11T09:01:52.507Z"
   },
   {
    "duration": 22,
    "start_time": "2021-12-11T09:01:52.575Z"
   },
   {
    "duration": 82,
    "start_time": "2021-12-11T09:01:52.601Z"
   },
   {
    "duration": 14,
    "start_time": "2021-12-11T09:01:52.686Z"
   },
   {
    "duration": 31,
    "start_time": "2021-12-11T09:01:52.703Z"
   },
   {
    "duration": 7,
    "start_time": "2021-12-11T09:01:52.760Z"
   },
   {
    "duration": 5,
    "start_time": "2021-12-11T09:01:52.770Z"
   },
   {
    "duration": 11,
    "start_time": "2021-12-11T09:01:52.777Z"
   },
   {
    "duration": 20,
    "start_time": "2021-12-11T09:01:52.790Z"
   },
   {
    "duration": 7,
    "start_time": "2021-12-11T09:01:52.812Z"
   },
   {
    "duration": 3,
    "start_time": "2021-12-11T09:01:52.860Z"
   },
   {
    "duration": 20,
    "start_time": "2021-12-11T09:01:52.865Z"
   },
   {
    "duration": 22,
    "start_time": "2021-12-11T09:01:52.887Z"
   },
   {
    "duration": 66,
    "start_time": "2021-12-11T09:01:52.912Z"
   },
   {
    "duration": 40,
    "start_time": "2021-12-11T09:01:52.981Z"
   },
   {
    "duration": 11,
    "start_time": "2021-12-11T09:01:53.024Z"
   },
   {
    "duration": 5137,
    "start_time": "2021-12-11T09:01:53.060Z"
   },
   {
    "duration": 10,
    "start_time": "2021-12-11T09:01:58.199Z"
   },
   {
    "duration": 50,
    "start_time": "2021-12-11T09:01:58.212Z"
   },
   {
    "duration": 18,
    "start_time": "2021-12-11T09:01:58.265Z"
   },
   {
    "duration": 33,
    "start_time": "2021-12-11T09:01:58.288Z"
   },
   {
    "duration": 38,
    "start_time": "2021-12-11T09:01:58.324Z"
   },
   {
    "duration": 2258,
    "start_time": "2021-12-11T09:01:58.364Z"
   },
   {
    "duration": 2282,
    "start_time": "2021-12-11T09:04:08.492Z"
   },
   {
    "duration": 27,
    "start_time": "2021-12-11T09:04:20.940Z"
   },
   {
    "duration": 133,
    "start_time": "2021-12-11T09:06:15.703Z"
   },
   {
    "duration": 11,
    "start_time": "2021-12-11T09:06:28.163Z"
   },
   {
    "duration": 2202,
    "start_time": "2021-12-11T09:06:35.113Z"
   },
   {
    "duration": 30,
    "start_time": "2021-12-11T09:06:37.317Z"
   },
   {
    "duration": 797,
    "start_time": "2021-12-11T12:16:32.165Z"
   },
   {
    "duration": 32,
    "start_time": "2021-12-11T12:16:32.964Z"
   },
   {
    "duration": 16,
    "start_time": "2021-12-11T12:16:32.998Z"
   },
   {
    "duration": 9,
    "start_time": "2021-12-11T12:16:33.016Z"
   },
   {
    "duration": 7,
    "start_time": "2021-12-11T12:16:33.027Z"
   },
   {
    "duration": 14,
    "start_time": "2021-12-11T12:16:33.036Z"
   },
   {
    "duration": 55,
    "start_time": "2021-12-11T12:16:33.051Z"
   },
   {
    "duration": 19,
    "start_time": "2021-12-11T12:16:33.109Z"
   },
   {
    "duration": 53,
    "start_time": "2021-12-11T12:16:33.131Z"
   },
   {
    "duration": 30,
    "start_time": "2021-12-11T12:16:33.186Z"
   },
   {
    "duration": 21,
    "start_time": "2021-12-11T12:16:33.218Z"
   },
   {
    "duration": 6,
    "start_time": "2021-12-11T12:16:33.241Z"
   },
   {
    "duration": 5,
    "start_time": "2021-12-11T12:16:33.249Z"
   },
   {
    "duration": 10,
    "start_time": "2021-12-11T12:16:33.256Z"
   },
   {
    "duration": 47,
    "start_time": "2021-12-11T12:16:33.268Z"
   },
   {
    "duration": 5,
    "start_time": "2021-12-11T12:16:33.317Z"
   },
   {
    "duration": 5,
    "start_time": "2021-12-11T12:16:33.323Z"
   },
   {
    "duration": 16,
    "start_time": "2021-12-11T12:16:33.329Z"
   },
   {
    "duration": 16,
    "start_time": "2021-12-11T12:16:33.346Z"
   },
   {
    "duration": 52,
    "start_time": "2021-12-11T12:16:33.363Z"
   },
   {
    "duration": 30,
    "start_time": "2021-12-11T12:16:33.417Z"
   },
   {
    "duration": 7,
    "start_time": "2021-12-11T12:16:33.449Z"
   },
   {
    "duration": 3871,
    "start_time": "2021-12-11T12:16:33.457Z"
   },
   {
    "duration": 8,
    "start_time": "2021-12-11T12:16:37.330Z"
   },
   {
    "duration": 22,
    "start_time": "2021-12-11T12:16:37.340Z"
   },
   {
    "duration": 13,
    "start_time": "2021-12-11T12:16:37.364Z"
   },
   {
    "duration": 47,
    "start_time": "2021-12-11T12:16:37.380Z"
   },
   {
    "duration": 7,
    "start_time": "2021-12-11T12:16:37.429Z"
   },
   {
    "duration": 1469,
    "start_time": "2021-12-11T12:16:37.437Z"
   },
   {
    "duration": 18,
    "start_time": "2021-12-11T12:16:38.908Z"
   },
   {
    "duration": 23,
    "start_time": "2021-12-11T12:17:29.383Z"
   },
   {
    "duration": 23,
    "start_time": "2021-12-11T12:18:49.428Z"
   },
   {
    "duration": 22,
    "start_time": "2021-12-11T12:19:12.885Z"
   },
   {
    "duration": 24,
    "start_time": "2021-12-11T12:19:35.349Z"
   },
   {
    "duration": 60,
    "start_time": "2021-12-11T12:21:15.138Z"
   },
   {
    "duration": 29,
    "start_time": "2021-12-11T12:21:15.200Z"
   },
   {
    "duration": 10,
    "start_time": "2021-12-11T12:21:15.232Z"
   },
   {
    "duration": 9,
    "start_time": "2021-12-11T12:21:15.244Z"
   },
   {
    "duration": 8,
    "start_time": "2021-12-11T12:21:15.255Z"
   },
   {
    "duration": 50,
    "start_time": "2021-12-11T12:21:15.264Z"
   },
   {
    "duration": 20,
    "start_time": "2021-12-11T12:21:15.315Z"
   },
   {
    "duration": 13,
    "start_time": "2021-12-11T12:21:15.338Z"
   },
   {
    "duration": 65,
    "start_time": "2021-12-11T12:21:15.353Z"
   },
   {
    "duration": 10,
    "start_time": "2021-12-11T12:21:15.420Z"
   },
   {
    "duration": 22,
    "start_time": "2021-12-11T12:21:15.432Z"
   },
   {
    "duration": 5,
    "start_time": "2021-12-11T12:21:15.455Z"
   },
   {
    "duration": 10,
    "start_time": "2021-12-11T12:21:15.462Z"
   },
   {
    "duration": 32,
    "start_time": "2021-12-11T12:21:15.473Z"
   },
   {
    "duration": 14,
    "start_time": "2021-12-11T12:21:15.507Z"
   },
   {
    "duration": 5,
    "start_time": "2021-12-11T12:21:15.523Z"
   },
   {
    "duration": 5,
    "start_time": "2021-12-11T12:21:15.529Z"
   },
   {
    "duration": 14,
    "start_time": "2021-12-11T12:21:15.535Z"
   },
   {
    "duration": 16,
    "start_time": "2021-12-11T12:21:15.551Z"
   },
   {
    "duration": 51,
    "start_time": "2021-12-11T12:21:15.569Z"
   },
   {
    "duration": 26,
    "start_time": "2021-12-11T12:21:15.622Z"
   },
   {
    "duration": 6,
    "start_time": "2021-12-11T12:21:15.650Z"
   },
   {
    "duration": 3833,
    "start_time": "2021-12-11T12:21:15.659Z"
   },
   {
    "duration": 16,
    "start_time": "2021-12-11T12:21:19.495Z"
   },
   {
    "duration": 20,
    "start_time": "2021-12-11T12:21:19.512Z"
   },
   {
    "duration": 11,
    "start_time": "2021-12-11T12:21:19.533Z"
   },
   {
    "duration": 26,
    "start_time": "2021-12-11T12:21:19.546Z"
   },
   {
    "duration": 5,
    "start_time": "2021-12-11T12:21:19.574Z"
   },
   {
    "duration": 1366,
    "start_time": "2021-12-11T12:21:19.581Z"
   },
   {
    "duration": 16,
    "start_time": "2021-12-11T12:21:20.948Z"
   },
   {
    "duration": 515,
    "start_time": "2021-12-11T12:25:46.890Z"
   },
   {
    "duration": 392,
    "start_time": "2021-12-11T12:26:00.940Z"
   },
   {
    "duration": 16,
    "start_time": "2021-12-11T12:29:02.678Z"
   },
   {
    "duration": 13,
    "start_time": "2021-12-11T12:29:48.457Z"
   },
   {
    "duration": 16,
    "start_time": "2021-12-11T12:30:00.842Z"
   },
   {
    "duration": 15,
    "start_time": "2021-12-11T12:30:06.786Z"
   },
   {
    "duration": 16,
    "start_time": "2021-12-11T12:30:12.466Z"
   },
   {
    "duration": -211,
    "start_time": "2021-12-11T12:30:28.416Z"
   },
   {
    "duration": 16,
    "start_time": "2021-12-11T12:30:30.241Z"
   },
   {
    "duration": 18,
    "start_time": "2021-12-11T12:36:24.593Z"
   },
   {
    "duration": 285,
    "start_time": "2021-12-11T15:12:58.233Z"
   },
   {
    "duration": 717,
    "start_time": "2021-12-11T15:13:27.641Z"
   },
   {
    "duration": 51,
    "start_time": "2021-12-11T15:13:28.359Z"
   },
   {
    "duration": 11,
    "start_time": "2021-12-11T15:13:28.412Z"
   },
   {
    "duration": 11,
    "start_time": "2021-12-11T15:13:28.425Z"
   },
   {
    "duration": 34,
    "start_time": "2021-12-11T15:13:28.438Z"
   },
   {
    "duration": 17,
    "start_time": "2021-12-11T15:13:28.474Z"
   },
   {
    "duration": 22,
    "start_time": "2021-12-11T15:13:28.493Z"
   },
   {
    "duration": 46,
    "start_time": "2021-12-11T15:13:28.518Z"
   },
   {
    "duration": 38,
    "start_time": "2021-12-11T15:13:28.567Z"
   },
   {
    "duration": 10,
    "start_time": "2021-12-11T15:13:28.607Z"
   },
   {
    "duration": 20,
    "start_time": "2021-12-11T15:13:28.619Z"
   },
   {
    "duration": 6,
    "start_time": "2021-12-11T15:13:28.664Z"
   },
   {
    "duration": 5,
    "start_time": "2021-12-11T15:13:28.672Z"
   },
   {
    "duration": 9,
    "start_time": "2021-12-11T15:13:28.678Z"
   },
   {
    "duration": 15,
    "start_time": "2021-12-11T15:13:28.688Z"
   },
   {
    "duration": 5,
    "start_time": "2021-12-11T15:13:28.705Z"
   },
   {
    "duration": 3,
    "start_time": "2021-12-11T15:13:28.712Z"
   },
   {
    "duration": 52,
    "start_time": "2021-12-11T15:13:28.717Z"
   },
   {
    "duration": 18,
    "start_time": "2021-12-11T15:13:28.771Z"
   },
   {
    "duration": 24,
    "start_time": "2021-12-11T15:13:28.791Z"
   },
   {
    "duration": 49,
    "start_time": "2021-12-11T15:13:28.816Z"
   },
   {
    "duration": 16,
    "start_time": "2021-12-11T15:13:28.867Z"
   },
   {
    "duration": 4029,
    "start_time": "2021-12-11T15:13:28.886Z"
   },
   {
    "duration": 8,
    "start_time": "2021-12-11T15:13:32.917Z"
   },
   {
    "duration": 44,
    "start_time": "2021-12-11T15:13:32.926Z"
   },
   {
    "duration": 16,
    "start_time": "2021-12-11T15:13:32.971Z"
   },
   {
    "duration": 24,
    "start_time": "2021-12-11T15:13:32.990Z"
   },
   {
    "duration": 6,
    "start_time": "2021-12-11T15:13:33.016Z"
   },
   {
    "duration": 1286,
    "start_time": "2021-12-11T15:13:33.024Z"
   },
   {
    "duration": 16,
    "start_time": "2021-12-11T15:13:34.312Z"
   },
   {
    "duration": 37,
    "start_time": "2021-12-11T15:13:34.329Z"
   },
   {
    "duration": 15,
    "start_time": "2021-12-11T15:13:34.368Z"
   },
   {
    "duration": 17,
    "start_time": "2021-12-11T15:15:19.664Z"
   },
   {
    "duration": 5,
    "start_time": "2021-12-11T15:21:37.325Z"
   },
   {
    "duration": 1393,
    "start_time": "2021-12-11T15:21:39.772Z"
   },
   {
    "duration": 17,
    "start_time": "2021-12-11T15:21:43.917Z"
   },
   {
    "duration": 16,
    "start_time": "2021-12-11T15:22:36.661Z"
   },
   {
    "duration": 21,
    "start_time": "2021-12-11T15:26:04.827Z"
   },
   {
    "duration": 15,
    "start_time": "2021-12-11T15:27:20.242Z"
   },
   {
    "duration": 23,
    "start_time": "2021-12-11T15:27:42.507Z"
   },
   {
    "duration": 89,
    "start_time": "2021-12-11T15:27:59.055Z"
   },
   {
    "duration": 64,
    "start_time": "2021-12-11T15:27:59.147Z"
   },
   {
    "duration": 13,
    "start_time": "2021-12-11T15:27:59.221Z"
   },
   {
    "duration": 35,
    "start_time": "2021-12-11T15:27:59.236Z"
   },
   {
    "duration": 11,
    "start_time": "2021-12-11T15:27:59.273Z"
   },
   {
    "duration": 15,
    "start_time": "2021-12-11T15:27:59.286Z"
   },
   {
    "duration": 60,
    "start_time": "2021-12-11T15:27:59.303Z"
   },
   {
    "duration": 15,
    "start_time": "2021-12-11T15:27:59.365Z"
   },
   {
    "duration": 40,
    "start_time": "2021-12-11T15:27:59.383Z"
   },
   {
    "duration": 39,
    "start_time": "2021-12-11T15:27:59.425Z"
   },
   {
    "duration": 21,
    "start_time": "2021-12-11T15:27:59.466Z"
   },
   {
    "duration": 9,
    "start_time": "2021-12-11T15:27:59.490Z"
   },
   {
    "duration": 5,
    "start_time": "2021-12-11T15:27:59.501Z"
   },
   {
    "duration": 11,
    "start_time": "2021-12-11T15:27:59.508Z"
   },
   {
    "duration": 47,
    "start_time": "2021-12-11T15:27:59.521Z"
   },
   {
    "duration": 6,
    "start_time": "2021-12-11T15:27:59.570Z"
   },
   {
    "duration": 5,
    "start_time": "2021-12-11T15:27:59.577Z"
   },
   {
    "duration": 20,
    "start_time": "2021-12-11T15:27:59.584Z"
   },
   {
    "duration": 25,
    "start_time": "2021-12-11T15:27:59.606Z"
   },
   {
    "duration": 48,
    "start_time": "2021-12-11T15:27:59.633Z"
   },
   {
    "duration": 29,
    "start_time": "2021-12-11T15:27:59.683Z"
   },
   {
    "duration": 7,
    "start_time": "2021-12-11T15:27:59.714Z"
   },
   {
    "duration": 4366,
    "start_time": "2021-12-11T15:27:59.723Z"
   },
   {
    "duration": 7,
    "start_time": "2021-12-11T15:28:04.091Z"
   },
   {
    "duration": 22,
    "start_time": "2021-12-11T15:28:04.100Z"
   },
   {
    "duration": 12,
    "start_time": "2021-12-11T15:28:04.124Z"
   },
   {
    "duration": 26,
    "start_time": "2021-12-11T15:28:04.140Z"
   },
   {
    "duration": 2875,
    "start_time": "2021-12-11T15:28:04.168Z"
   },
   {
    "duration": 27,
    "start_time": "2021-12-11T15:28:07.046Z"
   },
   {
    "duration": 32,
    "start_time": "2021-12-11T15:28:07.075Z"
   },
   {
    "duration": 16,
    "start_time": "2021-12-11T15:28:07.109Z"
   },
   {
    "duration": 47,
    "start_time": "2021-12-11T15:28:07.127Z"
   },
   {
    "duration": 19,
    "start_time": "2021-12-11T15:28:07.176Z"
   },
   {
    "duration": 38,
    "start_time": "2021-12-11T15:40:18.969Z"
   },
   {
    "duration": 57,
    "start_time": "2021-12-11T15:40:26.134Z"
   },
   {
    "duration": 29,
    "start_time": "2021-12-11T15:40:26.193Z"
   },
   {
    "duration": 10,
    "start_time": "2021-12-11T15:40:26.224Z"
   },
   {
    "duration": 33,
    "start_time": "2021-12-11T15:40:26.236Z"
   },
   {
    "duration": 8,
    "start_time": "2021-12-11T15:40:26.270Z"
   },
   {
    "duration": 13,
    "start_time": "2021-12-11T15:40:26.280Z"
   },
   {
    "duration": 19,
    "start_time": "2021-12-11T15:40:26.295Z"
   },
   {
    "duration": 14,
    "start_time": "2021-12-11T15:40:26.316Z"
   },
   {
    "duration": 64,
    "start_time": "2021-12-11T15:40:26.332Z"
   },
   {
    "duration": 10,
    "start_time": "2021-12-11T15:40:26.397Z"
   },
   {
    "duration": 21,
    "start_time": "2021-12-11T15:40:26.408Z"
   },
   {
    "duration": 34,
    "start_time": "2021-12-11T15:40:26.431Z"
   },
   {
    "duration": 5,
    "start_time": "2021-12-11T15:40:26.467Z"
   },
   {
    "duration": 9,
    "start_time": "2021-12-11T15:40:26.474Z"
   },
   {
    "duration": 14,
    "start_time": "2021-12-11T15:40:26.485Z"
   },
   {
    "duration": 6,
    "start_time": "2021-12-11T15:40:26.500Z"
   },
   {
    "duration": 4,
    "start_time": "2021-12-11T15:40:26.508Z"
   },
   {
    "duration": 21,
    "start_time": "2021-12-11T15:40:26.513Z"
   },
   {
    "duration": 41,
    "start_time": "2021-12-11T15:40:26.535Z"
   },
   {
    "duration": 23,
    "start_time": "2021-12-11T15:40:26.577Z"
   },
   {
    "duration": 27,
    "start_time": "2021-12-11T15:40:26.602Z"
   },
   {
    "duration": 7,
    "start_time": "2021-12-11T15:40:26.630Z"
   },
   {
    "duration": 3872,
    "start_time": "2021-12-11T15:40:26.639Z"
   },
   {
    "duration": 8,
    "start_time": "2021-12-11T15:40:30.514Z"
   },
   {
    "duration": 40,
    "start_time": "2021-12-11T15:40:30.524Z"
   },
   {
    "duration": 22,
    "start_time": "2021-12-11T15:40:30.566Z"
   },
   {
    "duration": 15,
    "start_time": "2021-12-11T15:40:30.590Z"
   },
   {
    "duration": 1296,
    "start_time": "2021-12-11T15:40:30.607Z"
   },
   {
    "duration": 15,
    "start_time": "2021-12-11T15:40:31.905Z"
   },
   {
    "duration": 22,
    "start_time": "2021-12-11T15:40:31.922Z"
   },
   {
    "duration": 27,
    "start_time": "2021-12-11T15:40:31.945Z"
   },
   {
    "duration": 14,
    "start_time": "2021-12-11T15:40:31.973Z"
   },
   {
    "duration": 14,
    "start_time": "2021-12-11T15:40:31.989Z"
   },
   {
    "duration": 325,
    "start_time": "2021-12-11T15:53:40.495Z"
   },
   {
    "duration": 4,
    "start_time": "2021-12-11T15:54:14.788Z"
   },
   {
    "duration": 17,
    "start_time": "2021-12-11T15:54:33.243Z"
   },
   {
    "duration": 6,
    "start_time": "2021-12-11T15:58:49.326Z"
   },
   {
    "duration": 22,
    "start_time": "2021-12-11T15:59:10.442Z"
   },
   {
    "duration": 61,
    "start_time": "2021-12-11T15:59:46.381Z"
   },
   {
    "duration": 32,
    "start_time": "2021-12-11T15:59:46.445Z"
   },
   {
    "duration": 12,
    "start_time": "2021-12-11T15:59:46.479Z"
   },
   {
    "duration": 9,
    "start_time": "2021-12-11T15:59:46.493Z"
   },
   {
    "duration": 8,
    "start_time": "2021-12-11T15:59:46.503Z"
   },
   {
    "duration": 14,
    "start_time": "2021-12-11T15:59:46.512Z"
   },
   {
    "duration": 51,
    "start_time": "2021-12-11T15:59:46.527Z"
   },
   {
    "duration": 15,
    "start_time": "2021-12-11T15:59:46.582Z"
   },
   {
    "duration": 16,
    "start_time": "2021-12-11T15:59:46.599Z"
   },
   {
    "duration": 10,
    "start_time": "2021-12-11T15:59:46.616Z"
   },
   {
    "duration": 56,
    "start_time": "2021-12-11T15:59:46.628Z"
   },
   {
    "duration": 8,
    "start_time": "2021-12-11T15:59:46.687Z"
   },
   {
    "duration": 6,
    "start_time": "2021-12-11T15:59:46.696Z"
   },
   {
    "duration": 10,
    "start_time": "2021-12-11T15:59:46.703Z"
   },
   {
    "duration": 13,
    "start_time": "2021-12-11T15:59:46.715Z"
   },
   {
    "duration": 5,
    "start_time": "2021-12-11T15:59:46.729Z"
   },
   {
    "duration": 2,
    "start_time": "2021-12-11T15:59:46.764Z"
   },
   {
    "duration": 14,
    "start_time": "2021-12-11T15:59:46.768Z"
   },
   {
    "duration": 18,
    "start_time": "2021-12-11T15:59:46.784Z"
   },
   {
    "duration": 24,
    "start_time": "2021-12-11T15:59:46.804Z"
   },
   {
    "duration": 31,
    "start_time": "2021-12-11T15:59:46.863Z"
   },
   {
    "duration": 7,
    "start_time": "2021-12-11T15:59:46.896Z"
   },
   {
    "duration": 3945,
    "start_time": "2021-12-11T15:59:46.906Z"
   },
   {
    "duration": 10,
    "start_time": "2021-12-11T15:59:50.863Z"
   },
   {
    "duration": 33,
    "start_time": "2021-12-11T15:59:50.876Z"
   },
   {
    "duration": 12,
    "start_time": "2021-12-11T15:59:50.911Z"
   },
   {
    "duration": 5,
    "start_time": "2021-12-11T15:59:50.925Z"
   },
   {
    "duration": 1268,
    "start_time": "2021-12-11T15:59:50.931Z"
   },
   {
    "duration": 15,
    "start_time": "2021-12-11T15:59:52.201Z"
   },
   {
    "duration": 21,
    "start_time": "2021-12-11T15:59:52.217Z"
   },
   {
    "duration": 31,
    "start_time": "2021-12-11T15:59:52.240Z"
   },
   {
    "duration": 23,
    "start_time": "2021-12-11T15:59:52.274Z"
   },
   {
    "duration": 15,
    "start_time": "2021-12-11T15:59:52.299Z"
   },
   {
    "duration": 73,
    "start_time": "2021-12-11T16:02:44.162Z"
   },
   {
    "duration": 50,
    "start_time": "2021-12-11T16:02:44.237Z"
   },
   {
    "duration": 11,
    "start_time": "2021-12-11T16:02:44.289Z"
   },
   {
    "duration": 11,
    "start_time": "2021-12-11T16:02:44.302Z"
   },
   {
    "duration": 7,
    "start_time": "2021-12-11T16:02:44.315Z"
   },
   {
    "duration": 59,
    "start_time": "2021-12-11T16:02:44.324Z"
   },
   {
    "duration": 23,
    "start_time": "2021-12-11T16:02:44.385Z"
   },
   {
    "duration": 14,
    "start_time": "2021-12-11T16:02:44.410Z"
   },
   {
    "duration": 16,
    "start_time": "2021-12-11T16:02:44.426Z"
   },
   {
    "duration": 35,
    "start_time": "2021-12-11T16:02:44.443Z"
   },
   {
    "duration": 25,
    "start_time": "2021-12-11T16:02:44.480Z"
   },
   {
    "duration": 8,
    "start_time": "2021-12-11T16:02:44.507Z"
   },
   {
    "duration": 6,
    "start_time": "2021-12-11T16:02:44.516Z"
   },
   {
    "duration": 9,
    "start_time": "2021-12-11T16:02:44.523Z"
   },
   {
    "duration": 13,
    "start_time": "2021-12-11T16:02:44.533Z"
   },
   {
    "duration": 4,
    "start_time": "2021-12-11T16:02:44.548Z"
   },
   {
    "duration": 6,
    "start_time": "2021-12-11T16:02:44.554Z"
   },
   {
    "duration": 19,
    "start_time": "2021-12-11T16:02:44.561Z"
   },
   {
    "duration": 19,
    "start_time": "2021-12-11T16:02:44.583Z"
   },
   {
    "duration": 22,
    "start_time": "2021-12-11T16:02:44.604Z"
   },
   {
    "duration": 28,
    "start_time": "2021-12-11T16:02:44.628Z"
   },
   {
    "duration": 11,
    "start_time": "2021-12-11T16:02:44.664Z"
   },
   {
    "duration": 3936,
    "start_time": "2021-12-11T16:02:44.681Z"
   },
   {
    "duration": 8,
    "start_time": "2021-12-11T16:02:48.620Z"
   },
   {
    "duration": 38,
    "start_time": "2021-12-11T16:02:48.629Z"
   },
   {
    "duration": 29,
    "start_time": "2021-12-11T16:02:48.669Z"
   },
   {
    "duration": 11,
    "start_time": "2021-12-11T16:02:48.700Z"
   },
   {
    "duration": 1406,
    "start_time": "2021-12-11T16:02:48.713Z"
   },
   {
    "duration": 15,
    "start_time": "2021-12-11T16:02:50.121Z"
   },
   {
    "duration": 43,
    "start_time": "2021-12-11T16:02:50.138Z"
   },
   {
    "duration": 18,
    "start_time": "2021-12-11T16:02:50.184Z"
   },
   {
    "duration": 16,
    "start_time": "2021-12-11T16:02:50.204Z"
   },
   {
    "duration": 42,
    "start_time": "2021-12-11T16:02:50.222Z"
   },
   {
    "duration": 62,
    "start_time": "2021-12-11T16:22:54.004Z"
   },
   {
    "duration": 45,
    "start_time": "2021-12-11T16:22:54.069Z"
   },
   {
    "duration": 15,
    "start_time": "2021-12-11T16:22:54.116Z"
   },
   {
    "duration": 35,
    "start_time": "2021-12-11T16:22:54.134Z"
   },
   {
    "duration": 10,
    "start_time": "2021-12-11T16:22:54.171Z"
   },
   {
    "duration": 18,
    "start_time": "2021-12-11T16:22:54.183Z"
   },
   {
    "duration": 32,
    "start_time": "2021-12-11T16:22:54.203Z"
   },
   {
    "duration": 22,
    "start_time": "2021-12-11T16:22:54.264Z"
   },
   {
    "duration": 26,
    "start_time": "2021-12-11T16:22:54.289Z"
   },
   {
    "duration": 15,
    "start_time": "2021-12-11T16:22:54.317Z"
   },
   {
    "duration": 57,
    "start_time": "2021-12-11T16:22:54.335Z"
   },
   {
    "duration": 8,
    "start_time": "2021-12-11T16:22:54.394Z"
   },
   {
    "duration": 6,
    "start_time": "2021-12-11T16:22:54.404Z"
   },
   {
    "duration": 11,
    "start_time": "2021-12-11T16:22:54.411Z"
   },
   {
    "duration": 48,
    "start_time": "2021-12-11T16:22:54.424Z"
   },
   {
    "duration": 6,
    "start_time": "2021-12-11T16:22:54.475Z"
   },
   {
    "duration": 4,
    "start_time": "2021-12-11T16:22:54.483Z"
   },
   {
    "duration": 28,
    "start_time": "2021-12-11T16:22:54.489Z"
   },
   {
    "duration": 17,
    "start_time": "2021-12-11T16:22:54.518Z"
   },
   {
    "duration": 39,
    "start_time": "2021-12-11T16:22:54.537Z"
   },
   {
    "duration": 31,
    "start_time": "2021-12-11T16:22:54.578Z"
   },
   {
    "duration": 8,
    "start_time": "2021-12-11T16:22:54.611Z"
   },
   {
    "duration": 3708,
    "start_time": "2021-12-11T16:22:54.622Z"
   },
   {
    "duration": 8,
    "start_time": "2021-12-11T16:22:58.333Z"
   },
   {
    "duration": 39,
    "start_time": "2021-12-11T16:22:58.343Z"
   },
   {
    "duration": 18,
    "start_time": "2021-12-11T16:22:58.384Z"
   },
   {
    "duration": 19,
    "start_time": "2021-12-11T16:22:58.405Z"
   },
   {
    "duration": 1313,
    "start_time": "2021-12-11T16:22:58.426Z"
   },
   {
    "duration": 25,
    "start_time": "2021-12-11T16:22:59.741Z"
   },
   {
    "duration": 20,
    "start_time": "2021-12-11T16:22:59.769Z"
   },
   {
    "duration": 17,
    "start_time": "2021-12-11T16:22:59.791Z"
   },
   {
    "duration": 16,
    "start_time": "2021-12-11T16:22:59.810Z"
   },
   {
    "duration": 50,
    "start_time": "2021-12-11T16:22:59.828Z"
   },
   {
    "duration": 28,
    "start_time": "2021-12-11T16:23:30.744Z"
   },
   {
    "duration": 26,
    "start_time": "2021-12-11T16:23:41.720Z"
   },
   {
    "duration": 61,
    "start_time": "2021-12-11T16:23:51.355Z"
   },
   {
    "duration": 29,
    "start_time": "2021-12-11T16:23:51.417Z"
   },
   {
    "duration": 23,
    "start_time": "2021-12-11T16:23:51.448Z"
   },
   {
    "duration": 9,
    "start_time": "2021-12-11T16:23:51.473Z"
   },
   {
    "duration": 7,
    "start_time": "2021-12-11T16:23:51.484Z"
   },
   {
    "duration": 18,
    "start_time": "2021-12-11T16:23:51.492Z"
   },
   {
    "duration": 20,
    "start_time": "2021-12-11T16:23:51.511Z"
   },
   {
    "duration": 38,
    "start_time": "2021-12-11T16:23:51.533Z"
   },
   {
    "duration": 16,
    "start_time": "2021-12-11T16:23:51.574Z"
   },
   {
    "duration": 10,
    "start_time": "2021-12-11T16:23:51.592Z"
   },
   {
    "duration": 21,
    "start_time": "2021-12-11T16:23:51.604Z"
   },
   {
    "duration": 37,
    "start_time": "2021-12-11T16:23:51.626Z"
   },
   {
    "duration": 5,
    "start_time": "2021-12-11T16:23:51.665Z"
   },
   {
    "duration": 10,
    "start_time": "2021-12-11T16:23:51.671Z"
   },
   {
    "duration": 13,
    "start_time": "2021-12-11T16:23:51.683Z"
   },
   {
    "duration": 5,
    "start_time": "2021-12-11T16:23:51.697Z"
   },
   {
    "duration": 7,
    "start_time": "2021-12-11T16:23:51.704Z"
   },
   {
    "duration": 18,
    "start_time": "2021-12-11T16:23:51.713Z"
   },
   {
    "duration": 40,
    "start_time": "2021-12-11T16:23:51.733Z"
   },
   {
    "duration": 23,
    "start_time": "2021-12-11T16:23:51.774Z"
   },
   {
    "duration": 30,
    "start_time": "2021-12-11T16:23:51.799Z"
   },
   {
    "duration": 7,
    "start_time": "2021-12-11T16:23:51.831Z"
   },
   {
    "duration": 3568,
    "start_time": "2021-12-11T16:23:51.864Z"
   },
   {
    "duration": 7,
    "start_time": "2021-12-11T16:23:55.433Z"
   },
   {
    "duration": 33,
    "start_time": "2021-12-11T16:23:55.442Z"
   },
   {
    "duration": 10,
    "start_time": "2021-12-11T16:23:55.477Z"
   },
   {
    "duration": 5,
    "start_time": "2021-12-11T16:23:55.490Z"
   },
   {
    "duration": 1244,
    "start_time": "2021-12-11T16:23:55.497Z"
   },
   {
    "duration": 15,
    "start_time": "2021-12-11T16:23:56.742Z"
   },
   {
    "duration": 18,
    "start_time": "2021-12-11T16:23:56.763Z"
   },
   {
    "duration": 13,
    "start_time": "2021-12-11T16:23:56.783Z"
   },
   {
    "duration": 13,
    "start_time": "2021-12-11T16:23:56.798Z"
   },
   {
    "duration": 13,
    "start_time": "2021-12-11T16:23:56.813Z"
   },
   {
    "duration": 20,
    "start_time": "2021-12-11T16:25:25.059Z"
   },
   {
    "duration": 67,
    "start_time": "2021-12-11T16:25:43.195Z"
   },
   {
    "duration": 33,
    "start_time": "2021-12-11T16:25:45.922Z"
   },
   {
    "duration": 13,
    "start_time": "2021-12-11T16:25:48.114Z"
   },
   {
    "duration": 12,
    "start_time": "2021-12-11T16:25:51.382Z"
   },
   {
    "duration": 10,
    "start_time": "2021-12-11T16:25:57.196Z"
   },
   {
    "duration": 17,
    "start_time": "2021-12-11T16:25:59.715Z"
   },
   {
    "duration": 21,
    "start_time": "2021-12-11T16:26:02.269Z"
   },
   {
    "duration": 17,
    "start_time": "2021-12-11T16:26:07.715Z"
   },
   {
    "duration": 20,
    "start_time": "2021-12-11T16:26:14.988Z"
   },
   {
    "duration": 24,
    "start_time": "2021-12-11T16:26:22.580Z"
   },
   {
    "duration": 15,
    "start_time": "2021-12-11T16:26:25.175Z"
   },
   {
    "duration": 36,
    "start_time": "2021-12-11T16:26:28.116Z"
   },
   {
    "duration": 9,
    "start_time": "2021-12-11T16:26:31.412Z"
   },
   {
    "duration": 5,
    "start_time": "2021-12-11T16:26:33.779Z"
   },
   {
    "duration": 11,
    "start_time": "2021-12-11T16:26:35.684Z"
   },
   {
    "duration": 16,
    "start_time": "2021-12-11T16:26:37.267Z"
   },
   {
    "duration": 5,
    "start_time": "2021-12-11T16:26:38.708Z"
   },
   {
    "duration": 22,
    "start_time": "2021-12-11T16:26:56.140Z"
   },
   {
    "duration": 28,
    "start_time": "2021-12-11T16:27:02.508Z"
   },
   {
    "duration": 43,
    "start_time": "2021-12-11T16:27:04.477Z"
   },
   {
    "duration": 30,
    "start_time": "2021-12-11T16:27:09.636Z"
   },
   {
    "duration": 8,
    "start_time": "2021-12-11T16:27:12.284Z"
   },
   {
    "duration": 4161,
    "start_time": "2021-12-11T16:27:18.303Z"
   },
   {
    "duration": 11,
    "start_time": "2021-12-11T16:27:30.781Z"
   },
   {
    "duration": 20,
    "start_time": "2021-12-11T16:27:33.029Z"
   },
   {
    "duration": 12,
    "start_time": "2021-12-11T16:27:34.902Z"
   },
   {
    "duration": 7,
    "start_time": "2021-12-11T16:27:41.797Z"
   },
   {
    "duration": 1254,
    "start_time": "2021-12-11T16:27:45.077Z"
   },
   {
    "duration": 16,
    "start_time": "2021-12-11T16:27:46.381Z"
   },
   {
    "duration": 18,
    "start_time": "2021-12-11T16:27:50.869Z"
   },
   {
    "duration": 17,
    "start_time": "2021-12-11T16:27:55.759Z"
   },
   {
    "duration": 16,
    "start_time": "2021-12-11T16:28:01.230Z"
   },
   {
    "duration": 15,
    "start_time": "2021-12-11T16:28:04.637Z"
   },
   {
    "duration": 213,
    "start_time": "2021-12-13T07:55:24.156Z"
   },
   {
    "duration": 601,
    "start_time": "2021-12-13T07:58:38.633Z"
   },
   {
    "duration": 31,
    "start_time": "2021-12-13T07:58:39.236Z"
   },
   {
    "duration": 24,
    "start_time": "2021-12-13T07:58:39.269Z"
   },
   {
    "duration": 11,
    "start_time": "2021-12-13T07:58:39.294Z"
   },
   {
    "duration": 12,
    "start_time": "2021-12-13T07:58:39.307Z"
   },
   {
    "duration": 20,
    "start_time": "2021-12-13T07:58:39.320Z"
   },
   {
    "duration": 58,
    "start_time": "2021-12-13T07:58:39.341Z"
   },
   {
    "duration": 15,
    "start_time": "2021-12-13T07:58:39.402Z"
   },
   {
    "duration": 15,
    "start_time": "2021-12-13T07:58:39.419Z"
   },
   {
    "duration": 11,
    "start_time": "2021-12-13T07:58:39.435Z"
   },
   {
    "duration": 46,
    "start_time": "2021-12-13T07:58:39.447Z"
   },
   {
    "duration": 6,
    "start_time": "2021-12-13T07:58:39.494Z"
   },
   {
    "duration": 5,
    "start_time": "2021-12-13T07:58:39.502Z"
   },
   {
    "duration": 9,
    "start_time": "2021-12-13T07:58:39.509Z"
   },
   {
    "duration": 14,
    "start_time": "2021-12-13T07:58:39.520Z"
   },
   {
    "duration": 4,
    "start_time": "2021-12-13T07:58:39.536Z"
   },
   {
    "duration": 4,
    "start_time": "2021-12-13T07:58:39.542Z"
   },
   {
    "duration": 51,
    "start_time": "2021-12-13T07:58:39.548Z"
   },
   {
    "duration": 17,
    "start_time": "2021-12-13T07:58:39.601Z"
   },
   {
    "duration": 22,
    "start_time": "2021-12-13T07:58:39.620Z"
   },
   {
    "duration": 49,
    "start_time": "2021-12-13T07:58:39.643Z"
   },
   {
    "duration": 8,
    "start_time": "2021-12-13T07:58:39.694Z"
   },
   {
    "duration": 3588,
    "start_time": "2021-12-13T07:58:39.705Z"
   },
   {
    "duration": 7,
    "start_time": "2021-12-13T07:58:43.295Z"
   },
   {
    "duration": 23,
    "start_time": "2021-12-13T07:58:43.304Z"
   },
   {
    "duration": 11,
    "start_time": "2021-12-13T07:58:43.329Z"
   },
   {
    "duration": 5,
    "start_time": "2021-12-13T07:58:43.341Z"
   },
   {
    "duration": 1293,
    "start_time": "2021-12-13T07:58:43.348Z"
   },
   {
    "duration": 16,
    "start_time": "2021-12-13T07:58:44.643Z"
   },
   {
    "duration": 38,
    "start_time": "2021-12-13T07:58:44.661Z"
   },
   {
    "duration": 20,
    "start_time": "2021-12-13T07:58:44.701Z"
   },
   {
    "duration": 14,
    "start_time": "2021-12-13T07:58:44.723Z"
   },
   {
    "duration": 14,
    "start_time": "2021-12-13T07:58:44.739Z"
   },
   {
    "duration": 65,
    "start_time": "2021-12-13T08:56:34.785Z"
   },
   {
    "duration": 44,
    "start_time": "2021-12-13T08:56:34.851Z"
   },
   {
    "duration": 10,
    "start_time": "2021-12-13T08:56:34.897Z"
   },
   {
    "duration": 10,
    "start_time": "2021-12-13T08:56:34.909Z"
   },
   {
    "duration": 8,
    "start_time": "2021-12-13T08:56:34.920Z"
   },
   {
    "duration": 15,
    "start_time": "2021-12-13T08:56:34.930Z"
   },
   {
    "duration": 58,
    "start_time": "2021-12-13T08:56:34.947Z"
   },
   {
    "duration": 15,
    "start_time": "2021-12-13T08:56:35.007Z"
   },
   {
    "duration": 16,
    "start_time": "2021-12-13T08:56:35.024Z"
   },
   {
    "duration": 11,
    "start_time": "2021-12-13T08:56:35.041Z"
   },
   {
    "duration": 51,
    "start_time": "2021-12-13T08:56:35.054Z"
   },
   {
    "duration": 5,
    "start_time": "2021-12-13T08:56:35.107Z"
   },
   {
    "duration": 6,
    "start_time": "2021-12-13T08:56:35.114Z"
   },
   {
    "duration": 10,
    "start_time": "2021-12-13T08:56:35.122Z"
   },
   {
    "duration": 15,
    "start_time": "2021-12-13T08:56:35.134Z"
   },
   {
    "duration": 5,
    "start_time": "2021-12-13T08:56:35.151Z"
   },
   {
    "duration": 5,
    "start_time": "2021-12-13T08:56:35.158Z"
   },
   {
    "duration": 17,
    "start_time": "2021-12-13T08:56:35.192Z"
   },
   {
    "duration": 18,
    "start_time": "2021-12-13T08:56:35.211Z"
   },
   {
    "duration": 24,
    "start_time": "2021-12-13T08:56:35.231Z"
   },
   {
    "duration": 62,
    "start_time": "2021-12-13T08:56:35.257Z"
   },
   {
    "duration": 8,
    "start_time": "2021-12-13T08:56:35.320Z"
   },
   {
    "duration": 3668,
    "start_time": "2021-12-13T08:56:35.331Z"
   },
   {
    "duration": 8,
    "start_time": "2021-12-13T08:56:39.001Z"
   },
   {
    "duration": 23,
    "start_time": "2021-12-13T08:56:39.011Z"
   },
   {
    "duration": 12,
    "start_time": "2021-12-13T08:56:39.036Z"
   },
   {
    "duration": 7,
    "start_time": "2021-12-13T08:56:39.049Z"
   },
   {
    "duration": 933,
    "start_time": "2021-12-13T08:56:39.058Z"
   },
   {
    "duration": 15,
    "start_time": "2021-12-13T08:56:39.993Z"
   },
   {
    "duration": 27,
    "start_time": "2021-12-13T08:56:40.010Z"
   },
   {
    "duration": 15,
    "start_time": "2021-12-13T08:56:40.039Z"
   },
   {
    "duration": 42,
    "start_time": "2021-12-13T08:56:40.056Z"
   },
   {
    "duration": 15,
    "start_time": "2021-12-13T08:56:40.100Z"
   },
   {
    "duration": 884,
    "start_time": "2021-12-14T06:13:24.131Z"
   },
   {
    "duration": 63,
    "start_time": "2021-12-14T06:13:25.017Z"
   },
   {
    "duration": 15,
    "start_time": "2021-12-14T06:13:25.083Z"
   },
   {
    "duration": 16,
    "start_time": "2021-12-14T06:13:25.101Z"
   },
   {
    "duration": 53,
    "start_time": "2021-12-14T06:13:25.120Z"
   },
   {
    "duration": 25,
    "start_time": "2021-12-14T06:13:25.176Z"
   },
   {
    "duration": 63,
    "start_time": "2021-12-14T06:13:25.204Z"
   },
   {
    "duration": 23,
    "start_time": "2021-12-14T06:13:25.271Z"
   },
   {
    "duration": 24,
    "start_time": "2021-12-14T06:13:25.297Z"
   },
   {
    "duration": 48,
    "start_time": "2021-12-14T06:13:25.323Z"
   },
   {
    "duration": 33,
    "start_time": "2021-12-14T06:13:25.374Z"
   },
   {
    "duration": 11,
    "start_time": "2021-12-14T06:13:25.410Z"
   },
   {
    "duration": 7,
    "start_time": "2021-12-14T06:13:25.423Z"
   },
   {
    "duration": 14,
    "start_time": "2021-12-14T06:13:25.467Z"
   },
   {
    "duration": 26,
    "start_time": "2021-12-14T06:13:25.483Z"
   },
   {
    "duration": 7,
    "start_time": "2021-12-14T06:13:25.512Z"
   },
   {
    "duration": 12,
    "start_time": "2021-12-14T06:13:25.521Z"
   },
   {
    "duration": 46,
    "start_time": "2021-12-14T06:13:25.536Z"
   },
   {
    "duration": 24,
    "start_time": "2021-12-14T06:13:25.585Z"
   },
   {
    "duration": 67,
    "start_time": "2021-12-14T06:13:25.611Z"
   },
   {
    "duration": 43,
    "start_time": "2021-12-14T06:13:25.681Z"
   },
   {
    "duration": 10,
    "start_time": "2021-12-14T06:13:25.727Z"
   },
   {
    "duration": 4803,
    "start_time": "2021-12-14T06:13:25.767Z"
   },
   {
    "duration": 11,
    "start_time": "2021-12-14T06:13:30.574Z"
   },
   {
    "duration": 54,
    "start_time": "2021-12-14T06:13:30.587Z"
   },
   {
    "duration": 27,
    "start_time": "2021-12-14T06:13:30.644Z"
   },
   {
    "duration": 38,
    "start_time": "2021-12-14T06:13:30.673Z"
   },
   {
    "duration": 2231,
    "start_time": "2021-12-14T06:13:30.713Z"
   },
   {
    "duration": 32,
    "start_time": "2021-12-14T06:13:32.947Z"
   },
   {
    "duration": 42,
    "start_time": "2021-12-14T06:13:32.982Z"
   },
   {
    "duration": 22,
    "start_time": "2021-12-14T06:13:33.026Z"
   },
   {
    "duration": 22,
    "start_time": "2021-12-14T06:13:33.067Z"
   },
   {
    "duration": 23,
    "start_time": "2021-12-14T06:13:33.092Z"
   },
   {
    "duration": 824,
    "start_time": "2021-12-14T08:04:37.324Z"
   },
   {
    "duration": 74,
    "start_time": "2021-12-14T08:04:56.489Z"
   },
   {
    "duration": 74,
    "start_time": "2021-12-14T08:04:56.566Z"
   },
   {
    "duration": 15,
    "start_time": "2021-12-14T08:04:56.643Z"
   },
   {
    "duration": 13,
    "start_time": "2021-12-14T08:04:56.661Z"
   },
   {
    "duration": 12,
    "start_time": "2021-12-14T08:04:56.677Z"
   },
   {
    "duration": 22,
    "start_time": "2021-12-14T08:04:56.718Z"
   },
   {
    "duration": 34,
    "start_time": "2021-12-14T08:04:56.743Z"
   },
   {
    "duration": 55,
    "start_time": "2021-12-14T08:04:56.782Z"
   },
   {
    "duration": 24,
    "start_time": "2021-12-14T08:04:56.841Z"
   },
   {
    "duration": 54,
    "start_time": "2021-12-14T08:04:56.868Z"
   },
   {
    "duration": 33,
    "start_time": "2021-12-14T08:04:56.925Z"
   },
   {
    "duration": 8,
    "start_time": "2021-12-14T08:04:56.961Z"
   },
   {
    "duration": 6,
    "start_time": "2021-12-14T08:04:56.971Z"
   },
   {
    "duration": 14,
    "start_time": "2021-12-14T08:04:57.017Z"
   },
   {
    "duration": 21,
    "start_time": "2021-12-14T08:04:57.033Z"
   },
   {
    "duration": 6,
    "start_time": "2021-12-14T08:04:57.057Z"
   },
   {
    "duration": 5,
    "start_time": "2021-12-14T08:04:57.065Z"
   },
   {
    "duration": 54,
    "start_time": "2021-12-14T08:04:57.072Z"
   },
   {
    "duration": 25,
    "start_time": "2021-12-14T08:04:57.128Z"
   },
   {
    "duration": 62,
    "start_time": "2021-12-14T08:04:57.156Z"
   },
   {
    "duration": 43,
    "start_time": "2021-12-14T08:04:57.220Z"
   },
   {
    "duration": 10,
    "start_time": "2021-12-14T08:04:57.266Z"
   },
   {
    "duration": 4521,
    "start_time": "2021-12-14T08:04:57.281Z"
   },
   {
    "duration": 19,
    "start_time": "2021-12-14T08:05:01.805Z"
   },
   {
    "duration": 35,
    "start_time": "2021-12-14T08:05:01.826Z"
   },
   {
    "duration": 31,
    "start_time": "2021-12-14T08:05:01.863Z"
   },
   {
    "duration": 23,
    "start_time": "2021-12-14T08:05:01.896Z"
   },
   {
    "duration": 1735,
    "start_time": "2021-12-14T08:05:01.921Z"
   },
   {
    "duration": 23,
    "start_time": "2021-12-14T08:05:03.658Z"
   },
   {
    "duration": 50,
    "start_time": "2021-12-14T08:05:03.684Z"
   },
   {
    "duration": 22,
    "start_time": "2021-12-14T08:05:03.736Z"
   },
   {
    "duration": 20,
    "start_time": "2021-12-14T08:05:03.761Z"
   },
   {
    "duration": 46,
    "start_time": "2021-12-14T08:05:03.783Z"
   },
   {
    "duration": 18,
    "start_time": "2021-12-14T08:08:43.699Z"
   },
   {
    "duration": 88,
    "start_time": "2021-12-14T08:08:47.029Z"
   },
   {
    "duration": 43,
    "start_time": "2021-12-14T08:08:47.119Z"
   },
   {
    "duration": 14,
    "start_time": "2021-12-14T08:08:47.165Z"
   },
   {
    "duration": 43,
    "start_time": "2021-12-14T08:08:47.182Z"
   },
   {
    "duration": 13,
    "start_time": "2021-12-14T08:08:47.227Z"
   },
   {
    "duration": 22,
    "start_time": "2021-12-14T08:08:47.243Z"
   },
   {
    "duration": 63,
    "start_time": "2021-12-14T08:08:47.267Z"
   },
   {
    "duration": 21,
    "start_time": "2021-12-14T08:08:47.334Z"
   },
   {
    "duration": 21,
    "start_time": "2021-12-14T08:08:47.357Z"
   },
   {
    "duration": 43,
    "start_time": "2021-12-14T08:08:47.381Z"
   },
   {
    "duration": 32,
    "start_time": "2021-12-14T08:08:47.426Z"
   },
   {
    "duration": 14,
    "start_time": "2021-12-14T08:08:47.460Z"
   },
   {
    "duration": 22,
    "start_time": "2021-12-14T08:08:47.477Z"
   },
   {
    "duration": 27,
    "start_time": "2021-12-14T08:08:47.501Z"
   },
   {
    "duration": 27,
    "start_time": "2021-12-14T08:08:47.531Z"
   },
   {
    "duration": 16,
    "start_time": "2021-12-14T08:08:47.560Z"
   },
   {
    "duration": 17,
    "start_time": "2021-12-14T08:08:47.579Z"
   },
   {
    "duration": 28,
    "start_time": "2021-12-14T08:08:47.599Z"
   },
   {
    "duration": 24,
    "start_time": "2021-12-14T08:08:47.630Z"
   },
   {
    "duration": 63,
    "start_time": "2021-12-14T08:08:47.656Z"
   },
   {
    "duration": 45,
    "start_time": "2021-12-14T08:08:47.721Z"
   },
   {
    "duration": 10,
    "start_time": "2021-12-14T08:08:47.768Z"
   },
   {
    "duration": 4759,
    "start_time": "2021-12-14T08:08:47.783Z"
   },
   {
    "duration": 11,
    "start_time": "2021-12-14T08:08:52.545Z"
   },
   {
    "duration": 30,
    "start_time": "2021-12-14T08:08:52.558Z"
   },
   {
    "duration": 40,
    "start_time": "2021-12-14T08:08:52.591Z"
   },
   {
    "duration": 9,
    "start_time": "2021-12-14T08:08:52.634Z"
   },
   {
    "duration": 1634,
    "start_time": "2021-12-14T08:08:52.646Z"
   },
   {
    "duration": 34,
    "start_time": "2021-12-14T08:08:54.283Z"
   },
   {
    "duration": 31,
    "start_time": "2021-12-14T08:08:54.319Z"
   },
   {
    "duration": 24,
    "start_time": "2021-12-14T08:08:54.353Z"
   },
   {
    "duration": 55,
    "start_time": "2021-12-14T08:08:54.380Z"
   },
   {
    "duration": 21,
    "start_time": "2021-12-14T08:08:54.438Z"
   },
   {
    "duration": 34,
    "start_time": "2021-12-14T08:15:11.466Z"
   },
   {
    "duration": 38,
    "start_time": "2021-12-14T08:16:42.719Z"
   },
   {
    "duration": 1126,
    "start_time": "2021-12-14T08:16:43.983Z"
   },
   {
    "duration": 247,
    "start_time": "2021-12-14T08:16:59.231Z"
   },
   {
    "duration": 297,
    "start_time": "2021-12-14T08:17:13.989Z"
   },
   {
    "duration": 252,
    "start_time": "2021-12-14T08:17:51.109Z"
   },
   {
    "duration": 12,
    "start_time": "2021-12-14T08:19:15.534Z"
   },
   {
    "duration": 6456,
    "start_time": "2021-12-14T08:20:05.945Z"
   },
   {
    "duration": 256,
    "start_time": "2021-12-14T08:21:16.918Z"
   },
   {
    "duration": 97,
    "start_time": "2021-12-14T08:21:23.922Z"
   },
   {
    "duration": 48,
    "start_time": "2021-12-14T08:21:24.022Z"
   },
   {
    "duration": 44,
    "start_time": "2021-12-14T08:21:24.073Z"
   },
   {
    "duration": 15,
    "start_time": "2021-12-14T08:21:24.120Z"
   },
   {
    "duration": 14,
    "start_time": "2021-12-14T08:21:24.138Z"
   },
   {
    "duration": 41,
    "start_time": "2021-12-14T08:21:24.155Z"
   },
   {
    "duration": 31,
    "start_time": "2021-12-14T08:21:24.218Z"
   },
   {
    "duration": 237,
    "start_time": "2021-12-14T08:21:24.254Z"
   },
   {
    "duration": 246,
    "start_time": "2021-12-14T08:21:24.248Z"
   },
   {
    "duration": 240,
    "start_time": "2021-12-14T08:21:24.255Z"
   },
   {
    "duration": 239,
    "start_time": "2021-12-14T08:21:24.258Z"
   },
   {
    "duration": 238,
    "start_time": "2021-12-14T08:21:24.260Z"
   },
   {
    "duration": 237,
    "start_time": "2021-12-14T08:21:24.262Z"
   },
   {
    "duration": 237,
    "start_time": "2021-12-14T08:21:24.264Z"
   },
   {
    "duration": 235,
    "start_time": "2021-12-14T08:21:24.267Z"
   },
   {
    "duration": 234,
    "start_time": "2021-12-14T08:21:24.269Z"
   },
   {
    "duration": 234,
    "start_time": "2021-12-14T08:21:24.271Z"
   },
   {
    "duration": 233,
    "start_time": "2021-12-14T08:21:24.273Z"
   },
   {
    "duration": 233,
    "start_time": "2021-12-14T08:21:24.275Z"
   },
   {
    "duration": 227,
    "start_time": "2021-12-14T08:21:24.282Z"
   },
   {
    "duration": 225,
    "start_time": "2021-12-14T08:21:24.285Z"
   },
   {
    "duration": 225,
    "start_time": "2021-12-14T08:21:24.287Z"
   },
   {
    "duration": 224,
    "start_time": "2021-12-14T08:21:24.289Z"
   },
   {
    "duration": 224,
    "start_time": "2021-12-14T08:21:24.291Z"
   },
   {
    "duration": 222,
    "start_time": "2021-12-14T08:21:24.294Z"
   },
   {
    "duration": 217,
    "start_time": "2021-12-14T08:21:24.300Z"
   },
   {
    "duration": 215,
    "start_time": "2021-12-14T08:21:24.303Z"
   },
   {
    "duration": 215,
    "start_time": "2021-12-14T08:21:24.305Z"
   },
   {
    "duration": 214,
    "start_time": "2021-12-14T08:21:24.307Z"
   },
   {
    "duration": 213,
    "start_time": "2021-12-14T08:21:24.309Z"
   },
   {
    "duration": 212,
    "start_time": "2021-12-14T08:21:24.312Z"
   },
   {
    "duration": 212,
    "start_time": "2021-12-14T08:21:24.314Z"
   },
   {
    "duration": 210,
    "start_time": "2021-12-14T08:21:24.317Z"
   },
   {
    "duration": 210,
    "start_time": "2021-12-14T08:21:24.319Z"
   },
   {
    "duration": 234,
    "start_time": "2021-12-14T08:24:57.716Z"
   },
   {
    "duration": 256,
    "start_time": "2021-12-14T08:25:31.344Z"
   },
   {
    "duration": 253,
    "start_time": "2021-12-14T08:26:40.104Z"
   },
   {
    "duration": 271,
    "start_time": "2021-12-14T08:26:50.953Z"
   },
   {
    "duration": 251,
    "start_time": "2021-12-14T08:28:07.682Z"
   },
   {
    "duration": 248,
    "start_time": "2021-12-14T08:29:54.793Z"
   },
   {
    "duration": 294,
    "start_time": "2021-12-14T08:31:05.706Z"
   },
   {
    "duration": 266,
    "start_time": "2021-12-14T08:32:23.300Z"
   },
   {
    "duration": 657,
    "start_time": "2021-12-14T08:33:16.646Z"
   },
   {
    "duration": 508,
    "start_time": "2021-12-14T08:35:37.393Z"
   },
   {
    "duration": 438,
    "start_time": "2021-12-14T08:43:46.977Z"
   },
   {
    "duration": 250,
    "start_time": "2021-12-14T08:44:04.367Z"
   },
   {
    "duration": 265,
    "start_time": "2021-12-14T08:45:55.273Z"
   },
   {
    "duration": 241,
    "start_time": "2021-12-14T08:46:22.240Z"
   },
   {
    "duration": 258,
    "start_time": "2021-12-14T08:46:37.531Z"
   },
   {
    "duration": 341,
    "start_time": "2021-12-14T08:46:50.728Z"
   },
   {
    "duration": 248,
    "start_time": "2021-12-14T08:47:03.953Z"
   },
   {
    "duration": 794,
    "start_time": "2021-12-14T08:47:36.564Z"
   },
   {
    "duration": 774,
    "start_time": "2021-12-14T08:48:26.309Z"
   },
   {
    "duration": 1130,
    "start_time": "2021-12-14T08:48:36.395Z"
   },
   {
    "duration": 349,
    "start_time": "2021-12-14T08:49:21.483Z"
   },
   {
    "duration": 996,
    "start_time": "2021-12-14T08:49:29.596Z"
   },
   {
    "duration": 267,
    "start_time": "2021-12-14T08:57:57.201Z"
   },
   {
    "duration": 262,
    "start_time": "2021-12-14T08:59:36.129Z"
   },
   {
    "duration": 17,
    "start_time": "2021-12-14T09:00:04.361Z"
   },
   {
    "duration": 16,
    "start_time": "2021-12-14T09:00:07.595Z"
   },
   {
    "duration": 27,
    "start_time": "2021-12-14T09:00:14.312Z"
   },
   {
    "duration": 94,
    "start_time": "2021-12-14T09:00:43.329Z"
   },
   {
    "duration": 44,
    "start_time": "2021-12-14T09:00:43.426Z"
   },
   {
    "duration": 14,
    "start_time": "2021-12-14T09:00:43.473Z"
   },
   {
    "duration": 16,
    "start_time": "2021-12-14T09:00:43.517Z"
   },
   {
    "duration": 17,
    "start_time": "2021-12-14T09:00:43.535Z"
   },
   {
    "duration": 26,
    "start_time": "2021-12-14T09:00:43.554Z"
   },
   {
    "duration": 55,
    "start_time": "2021-12-14T09:00:43.582Z"
   },
   {
    "duration": 1017,
    "start_time": "2021-12-14T09:00:43.641Z"
   },
   {
    "duration": 22,
    "start_time": "2021-12-14T09:00:44.661Z"
   },
   {
    "duration": 46,
    "start_time": "2021-12-14T09:00:44.685Z"
   },
   {
    "duration": 15,
    "start_time": "2021-12-14T09:00:44.733Z"
   },
   {
    "duration": 33,
    "start_time": "2021-12-14T09:00:44.752Z"
   },
   {
    "duration": 10,
    "start_time": "2021-12-14T09:00:44.818Z"
   },
   {
    "duration": 8,
    "start_time": "2021-12-14T09:00:44.831Z"
   },
   {
    "duration": 11,
    "start_time": "2021-12-14T09:00:44.842Z"
   },
   {
    "duration": 21,
    "start_time": "2021-12-14T09:00:44.856Z"
   },
   {
    "duration": 41,
    "start_time": "2021-12-14T09:00:44.880Z"
   },
   {
    "duration": 6,
    "start_time": "2021-12-14T09:00:44.923Z"
   },
   {
    "duration": 278,
    "start_time": "2021-12-14T09:00:44.932Z"
   },
   {
    "duration": 290,
    "start_time": "2021-12-14T09:00:44.923Z"
   },
   {
    "duration": 289,
    "start_time": "2021-12-14T09:00:44.926Z"
   },
   {
    "duration": 287,
    "start_time": "2021-12-14T09:00:44.929Z"
   },
   {
    "duration": 286,
    "start_time": "2021-12-14T09:00:44.931Z"
   },
   {
    "duration": 285,
    "start_time": "2021-12-14T09:00:44.934Z"
   },
   {
    "duration": 285,
    "start_time": "2021-12-14T09:00:44.935Z"
   },
   {
    "duration": 284,
    "start_time": "2021-12-14T09:00:44.938Z"
   },
   {
    "duration": 283,
    "start_time": "2021-12-14T09:00:44.940Z"
   },
   {
    "duration": 282,
    "start_time": "2021-12-14T09:00:44.942Z"
   },
   {
    "duration": 283,
    "start_time": "2021-12-14T09:00:44.943Z"
   },
   {
    "duration": 282,
    "start_time": "2021-12-14T09:00:44.945Z"
   },
   {
    "duration": 281,
    "start_time": "2021-12-14T09:00:44.947Z"
   },
   {
    "duration": 280,
    "start_time": "2021-12-14T09:00:44.949Z"
   },
   {
    "duration": 281,
    "start_time": "2021-12-14T09:00:44.950Z"
   },
   {
    "duration": 280,
    "start_time": "2021-12-14T09:00:44.952Z"
   },
   {
    "duration": 35,
    "start_time": "2021-12-14T09:02:16.530Z"
   },
   {
    "duration": 236,
    "start_time": "2021-12-14T09:03:13.458Z"
   },
   {
    "duration": 37,
    "start_time": "2021-12-14T09:03:34.953Z"
   },
   {
    "duration": 40,
    "start_time": "2021-12-14T09:03:43.858Z"
   },
   {
    "duration": 14,
    "start_time": "2021-12-14T09:03:56.088Z"
   },
   {
    "duration": 290,
    "start_time": "2021-12-14T09:04:40.939Z"
   },
   {
    "duration": 280,
    "start_time": "2021-12-14T09:05:54.691Z"
   },
   {
    "duration": 308,
    "start_time": "2021-12-14T09:06:12.018Z"
   },
   {
    "duration": 456,
    "start_time": "2021-12-14T09:06:32.633Z"
   },
   {
    "duration": 55,
    "start_time": "2021-12-14T09:06:49.920Z"
   },
   {
    "duration": 81,
    "start_time": "2021-12-14T09:07:09.666Z"
   },
   {
    "duration": 45,
    "start_time": "2021-12-14T09:07:09.750Z"
   },
   {
    "duration": 15,
    "start_time": "2021-12-14T09:07:09.819Z"
   },
   {
    "duration": 14,
    "start_time": "2021-12-14T09:07:09.837Z"
   },
   {
    "duration": 13,
    "start_time": "2021-12-14T09:07:09.853Z"
   },
   {
    "duration": 66,
    "start_time": "2021-12-14T09:07:09.869Z"
   },
   {
    "duration": 32,
    "start_time": "2021-12-14T09:07:09.937Z"
   },
   {
    "duration": 1061,
    "start_time": "2021-12-14T09:07:09.973Z"
   },
   {
    "duration": 22,
    "start_time": "2021-12-14T09:07:11.037Z"
   },
   {
    "duration": 78,
    "start_time": "2021-12-14T09:07:11.061Z"
   },
   {
    "duration": 15,
    "start_time": "2021-12-14T09:07:11.141Z"
   },
   {
    "duration": 31,
    "start_time": "2021-12-14T09:07:11.158Z"
   },
   {
    "duration": 8,
    "start_time": "2021-12-14T09:07:11.218Z"
   },
   {
    "duration": 8,
    "start_time": "2021-12-14T09:07:11.229Z"
   },
   {
    "duration": 15,
    "start_time": "2021-12-14T09:07:11.240Z"
   },
   {
    "duration": 20,
    "start_time": "2021-12-14T09:07:11.258Z"
   },
   {
    "duration": 40,
    "start_time": "2021-12-14T09:07:11.280Z"
   },
   {
    "duration": 9,
    "start_time": "2021-12-14T09:07:11.322Z"
   },
   {
    "duration": 24,
    "start_time": "2021-12-14T09:07:11.333Z"
   },
   {
    "duration": 24,
    "start_time": "2021-12-14T09:07:11.359Z"
   },
   {
    "duration": 65,
    "start_time": "2021-12-14T09:07:11.385Z"
   },
   {
    "duration": 46,
    "start_time": "2021-12-14T09:07:11.453Z"
   },
   {
    "duration": 11,
    "start_time": "2021-12-14T09:07:11.520Z"
   },
   {
    "duration": 4836,
    "start_time": "2021-12-14T09:07:11.533Z"
   },
   {
    "duration": 11,
    "start_time": "2021-12-14T09:07:16.371Z"
   },
   {
    "duration": 53,
    "start_time": "2021-12-14T09:07:16.385Z"
   },
   {
    "duration": 20,
    "start_time": "2021-12-14T09:07:16.441Z"
   },
   {
    "duration": 8,
    "start_time": "2021-12-14T09:07:16.464Z"
   },
   {
    "duration": 1742,
    "start_time": "2021-12-14T09:07:16.475Z"
   },
   {
    "duration": 24,
    "start_time": "2021-12-14T09:07:18.219Z"
   },
   {
    "duration": 28,
    "start_time": "2021-12-14T09:07:18.245Z"
   },
   {
    "duration": 47,
    "start_time": "2021-12-14T09:07:18.276Z"
   },
   {
    "duration": 22,
    "start_time": "2021-12-14T09:07:18.325Z"
   },
   {
    "duration": 22,
    "start_time": "2021-12-14T09:07:18.350Z"
   },
   {
    "duration": 92,
    "start_time": "2021-12-14T09:09:45.856Z"
   },
   {
    "duration": 43,
    "start_time": "2021-12-14T09:09:53.741Z"
   },
   {
    "duration": 37,
    "start_time": "2021-12-14T09:10:02.099Z"
   },
   {
    "duration": 38,
    "start_time": "2021-12-14T09:10:38.010Z"
   },
   {
    "duration": 81,
    "start_time": "2021-12-14T09:10:57.043Z"
   },
   {
    "duration": 45,
    "start_time": "2021-12-14T09:10:57.126Z"
   },
   {
    "duration": 17,
    "start_time": "2021-12-14T09:10:57.173Z"
   },
   {
    "duration": 17,
    "start_time": "2021-12-14T09:10:57.217Z"
   },
   {
    "duration": 11,
    "start_time": "2021-12-14T09:10:57.236Z"
   },
   {
    "duration": 23,
    "start_time": "2021-12-14T09:10:57.250Z"
   },
   {
    "duration": 68,
    "start_time": "2021-12-14T09:10:57.276Z"
   },
   {
    "duration": 1018,
    "start_time": "2021-12-14T09:10:57.348Z"
   },
   {
    "duration": 22,
    "start_time": "2021-12-14T09:10:58.369Z"
   },
   {
    "duration": 35,
    "start_time": "2021-12-14T09:10:58.418Z"
   },
   {
    "duration": 15,
    "start_time": "2021-12-14T09:10:58.455Z"
   },
   {
    "duration": 56,
    "start_time": "2021-12-14T09:10:58.473Z"
   },
   {
    "duration": 15,
    "start_time": "2021-12-14T09:10:58.532Z"
   },
   {
    "duration": 7,
    "start_time": "2021-12-14T09:10:58.550Z"
   },
   {
    "duration": 18,
    "start_time": "2021-12-14T09:10:58.560Z"
   },
   {
    "duration": 22,
    "start_time": "2021-12-14T09:10:58.617Z"
   },
   {
    "duration": 8,
    "start_time": "2021-12-14T09:10:58.641Z"
   },
   {
    "duration": 9,
    "start_time": "2021-12-14T09:10:58.651Z"
   },
   {
    "duration": 285,
    "start_time": "2021-12-14T09:10:58.663Z"
   },
   {
    "duration": 301,
    "start_time": "2021-12-14T09:10:58.650Z"
   },
   {
    "duration": 298,
    "start_time": "2021-12-14T09:10:58.655Z"
   },
   {
    "duration": 297,
    "start_time": "2021-12-14T09:10:58.657Z"
   },
   {
    "duration": 297,
    "start_time": "2021-12-14T09:10:58.659Z"
   },
   {
    "duration": 296,
    "start_time": "2021-12-14T09:10:58.661Z"
   },
   {
    "duration": 296,
    "start_time": "2021-12-14T09:10:58.663Z"
   },
   {
    "duration": 295,
    "start_time": "2021-12-14T09:10:58.665Z"
   },
   {
    "duration": 296,
    "start_time": "2021-12-14T09:10:58.666Z"
   },
   {
    "duration": 295,
    "start_time": "2021-12-14T09:10:58.668Z"
   },
   {
    "duration": 296,
    "start_time": "2021-12-14T09:10:58.670Z"
   },
   {
    "duration": 296,
    "start_time": "2021-12-14T09:10:58.672Z"
   },
   {
    "duration": 292,
    "start_time": "2021-12-14T09:10:58.678Z"
   },
   {
    "duration": 291,
    "start_time": "2021-12-14T09:10:58.680Z"
   },
   {
    "duration": 291,
    "start_time": "2021-12-14T09:10:58.682Z"
   },
   {
    "duration": 291,
    "start_time": "2021-12-14T09:10:58.684Z"
   },
   {
    "duration": 58,
    "start_time": "2021-12-14T09:12:42.618Z"
   },
   {
    "duration": 29,
    "start_time": "2021-12-14T09:13:30.493Z"
   },
   {
    "duration": 21,
    "start_time": "2021-12-14T09:14:12.190Z"
   },
   {
    "duration": 23,
    "start_time": "2021-12-14T09:14:54.565Z"
   },
   {
    "duration": 34,
    "start_time": "2021-12-14T09:16:37.408Z"
   },
   {
    "duration": 19,
    "start_time": "2021-12-14T09:17:49.687Z"
   },
   {
    "duration": 25,
    "start_time": "2021-12-14T09:18:07.455Z"
   },
   {
    "duration": 28,
    "start_time": "2021-12-14T09:18:31.117Z"
   },
   {
    "duration": 14,
    "start_time": "2021-12-14T09:18:36.177Z"
   },
   {
    "duration": 32,
    "start_time": "2021-12-14T09:18:53.812Z"
   },
   {
    "duration": 14,
    "start_time": "2021-12-14T09:19:02.160Z"
   },
   {
    "duration": 106,
    "start_time": "2021-12-14T09:19:14.223Z"
   },
   {
    "duration": 43,
    "start_time": "2021-12-14T09:19:14.332Z"
   },
   {
    "duration": 39,
    "start_time": "2021-12-14T09:19:14.378Z"
   },
   {
    "duration": 15,
    "start_time": "2021-12-14T09:19:14.419Z"
   },
   {
    "duration": 12,
    "start_time": "2021-12-14T09:19:14.437Z"
   },
   {
    "duration": 22,
    "start_time": "2021-12-14T09:19:14.452Z"
   },
   {
    "duration": 67,
    "start_time": "2021-12-14T09:19:14.477Z"
   },
   {
    "duration": 1038,
    "start_time": "2021-12-14T09:19:14.549Z"
   },
   {
    "duration": 32,
    "start_time": "2021-12-14T09:19:15.591Z"
   },
   {
    "duration": 34,
    "start_time": "2021-12-14T09:19:15.625Z"
   },
   {
    "duration": 15,
    "start_time": "2021-12-14T09:19:15.662Z"
   },
   {
    "duration": 64,
    "start_time": "2021-12-14T09:19:15.680Z"
   },
   {
    "duration": 10,
    "start_time": "2021-12-14T09:19:15.747Z"
   },
   {
    "duration": 6,
    "start_time": "2021-12-14T09:19:15.759Z"
   },
   {
    "duration": 50,
    "start_time": "2021-12-14T09:19:15.767Z"
   },
   {
    "duration": 22,
    "start_time": "2021-12-14T09:19:15.819Z"
   },
   {
    "duration": 7,
    "start_time": "2021-12-14T09:19:15.843Z"
   },
   {
    "duration": 8,
    "start_time": "2021-12-14T09:19:15.852Z"
   },
   {
    "duration": 306,
    "start_time": "2021-12-14T09:19:15.862Z"
   },
   {
    "duration": 269,
    "start_time": "2021-12-14T09:19:15.903Z"
   },
   {
    "duration": 268,
    "start_time": "2021-12-14T09:19:15.906Z"
   },
   {
    "duration": 266,
    "start_time": "2021-12-14T09:19:15.909Z"
   },
   {
    "duration": 265,
    "start_time": "2021-12-14T09:19:15.912Z"
   },
   {
    "duration": 264,
    "start_time": "2021-12-14T09:19:15.915Z"
   },
   {
    "duration": 262,
    "start_time": "2021-12-14T09:19:15.918Z"
   },
   {
    "duration": 261,
    "start_time": "2021-12-14T09:19:15.921Z"
   },
   {
    "duration": 261,
    "start_time": "2021-12-14T09:19:15.923Z"
   },
   {
    "duration": 260,
    "start_time": "2021-12-14T09:19:15.926Z"
   },
   {
    "duration": 259,
    "start_time": "2021-12-14T09:19:15.929Z"
   },
   {
    "duration": 257,
    "start_time": "2021-12-14T09:19:15.932Z"
   },
   {
    "duration": 256,
    "start_time": "2021-12-14T09:19:15.934Z"
   },
   {
    "duration": 255,
    "start_time": "2021-12-14T09:19:15.937Z"
   },
   {
    "duration": 254,
    "start_time": "2021-12-14T09:19:15.939Z"
   },
   {
    "duration": 252,
    "start_time": "2021-12-14T09:19:15.942Z"
   },
   {
    "duration": 259,
    "start_time": "2021-12-14T09:25:09.790Z"
   },
   {
    "duration": 45,
    "start_time": "2021-12-14T09:25:28.518Z"
   },
   {
    "duration": 32,
    "start_time": "2021-12-14T09:26:04.833Z"
   },
   {
    "duration": 33,
    "start_time": "2021-12-14T09:26:07.951Z"
   },
   {
    "duration": 82,
    "start_time": "2021-12-14T09:26:35.992Z"
   },
   {
    "duration": 273,
    "start_time": "2021-12-14T09:26:41.421Z"
   },
   {
    "duration": 283,
    "start_time": "2021-12-14T09:27:01.303Z"
   },
   {
    "duration": 32,
    "start_time": "2021-12-14T09:27:25.522Z"
   },
   {
    "duration": 21,
    "start_time": "2021-12-14T09:35:17.309Z"
   },
   {
    "duration": 31,
    "start_time": "2021-12-14T09:35:32.449Z"
   },
   {
    "duration": 22,
    "start_time": "2021-12-14T09:35:52.440Z"
   },
   {
    "duration": 22,
    "start_time": "2021-12-14T09:35:58.262Z"
   },
   {
    "duration": 9,
    "start_time": "2021-12-14T09:37:15.838Z"
   },
   {
    "duration": 8,
    "start_time": "2021-12-14T09:37:42.174Z"
   },
   {
    "duration": 8,
    "start_time": "2021-12-14T09:37:46.547Z"
   },
   {
    "duration": 9,
    "start_time": "2021-12-14T09:38:38.639Z"
   },
   {
    "duration": 10,
    "start_time": "2021-12-14T09:38:51.232Z"
   },
   {
    "duration": 15,
    "start_time": "2021-12-14T09:38:55.077Z"
   },
   {
    "duration": 85,
    "start_time": "2021-12-14T09:38:58.342Z"
   },
   {
    "duration": 44,
    "start_time": "2021-12-14T09:38:58.430Z"
   },
   {
    "duration": 40,
    "start_time": "2021-12-14T09:38:58.477Z"
   },
   {
    "duration": 15,
    "start_time": "2021-12-14T09:38:58.520Z"
   },
   {
    "duration": 13,
    "start_time": "2021-12-14T09:38:58.537Z"
   },
   {
    "duration": 23,
    "start_time": "2021-12-14T09:38:58.552Z"
   },
   {
    "duration": 68,
    "start_time": "2021-12-14T09:38:58.577Z"
   },
   {
    "duration": 1015,
    "start_time": "2021-12-14T09:38:58.649Z"
   },
   {
    "duration": 21,
    "start_time": "2021-12-14T09:38:59.667Z"
   },
   {
    "duration": 31,
    "start_time": "2021-12-14T09:38:59.690Z"
   },
   {
    "duration": 16,
    "start_time": "2021-12-14T09:38:59.724Z"
   },
   {
    "duration": 32,
    "start_time": "2021-12-14T09:38:59.743Z"
   },
   {
    "duration": 46,
    "start_time": "2021-12-14T09:38:59.778Z"
   },
   {
    "duration": 4,
    "start_time": "2021-12-14T09:38:59.827Z"
   },
   {
    "duration": 12,
    "start_time": "2021-12-14T09:38:59.834Z"
   },
   {
    "duration": 21,
    "start_time": "2021-12-14T09:38:59.849Z"
   },
   {
    "duration": 47,
    "start_time": "2021-12-14T09:38:59.873Z"
   },
   {
    "duration": 5,
    "start_time": "2021-12-14T09:38:59.922Z"
   },
   {
    "duration": 19,
    "start_time": "2021-12-14T09:38:59.930Z"
   },
   {
    "duration": 24,
    "start_time": "2021-12-14T09:38:59.951Z"
   },
   {
    "duration": 66,
    "start_time": "2021-12-14T09:38:59.978Z"
   },
   {
    "duration": 45,
    "start_time": "2021-12-14T09:39:00.047Z"
   },
   {
    "duration": 10,
    "start_time": "2021-12-14T09:39:00.117Z"
   },
   {
    "duration": 4700,
    "start_time": "2021-12-14T09:39:00.130Z"
   },
   {
    "duration": 10,
    "start_time": "2021-12-14T09:39:04.832Z"
   },
   {
    "duration": 33,
    "start_time": "2021-12-14T09:39:04.844Z"
   },
   {
    "duration": 42,
    "start_time": "2021-12-14T09:39:04.880Z"
   },
   {
    "duration": 15,
    "start_time": "2021-12-14T09:39:04.924Z"
   },
   {
    "duration": 1597,
    "start_time": "2021-12-14T09:39:04.941Z"
   },
   {
    "duration": 22,
    "start_time": "2021-12-14T09:39:06.541Z"
   },
   {
    "duration": 51,
    "start_time": "2021-12-14T09:39:06.566Z"
   },
   {
    "duration": 21,
    "start_time": "2021-12-14T09:39:06.619Z"
   },
   {
    "duration": 27,
    "start_time": "2021-12-14T09:39:06.642Z"
   },
   {
    "duration": 47,
    "start_time": "2021-12-14T09:39:06.671Z"
   },
   {
    "duration": 14,
    "start_time": "2021-12-14T09:40:51.559Z"
   },
   {
    "duration": 16,
    "start_time": "2021-12-14T09:41:03.987Z"
   },
   {
    "duration": 263,
    "start_time": "2021-12-14T09:41:29.886Z"
   },
   {
    "duration": 21,
    "start_time": "2021-12-14T09:41:42.954Z"
   },
   {
    "duration": 24,
    "start_time": "2021-12-14T09:41:54.491Z"
   },
   {
    "duration": 25,
    "start_time": "2021-12-14T09:42:31.956Z"
   },
   {
    "duration": 26,
    "start_time": "2021-12-14T09:42:44.058Z"
   },
   {
    "duration": 25,
    "start_time": "2021-12-14T09:43:34.315Z"
   },
   {
    "duration": 80,
    "start_time": "2021-12-14T09:43:42.082Z"
   },
   {
    "duration": 69,
    "start_time": "2021-12-14T09:43:42.164Z"
   },
   {
    "duration": 15,
    "start_time": "2021-12-14T09:43:42.235Z"
   },
   {
    "duration": 16,
    "start_time": "2021-12-14T09:43:42.253Z"
   },
   {
    "duration": 11,
    "start_time": "2021-12-14T09:43:42.271Z"
   },
   {
    "duration": 51,
    "start_time": "2021-12-14T09:43:42.284Z"
   },
   {
    "duration": 32,
    "start_time": "2021-12-14T09:43:42.338Z"
   },
   {
    "duration": 1139,
    "start_time": "2021-12-14T09:43:42.373Z"
   },
   {
    "duration": 22,
    "start_time": "2021-12-14T09:43:43.515Z"
   },
   {
    "duration": 25,
    "start_time": "2021-12-14T09:43:43.539Z"
   },
   {
    "duration": 14,
    "start_time": "2021-12-14T09:43:43.567Z"
   },
   {
    "duration": 31,
    "start_time": "2021-12-14T09:43:43.618Z"
   },
   {
    "duration": 9,
    "start_time": "2021-12-14T09:43:43.652Z"
   },
   {
    "duration": 7,
    "start_time": "2021-12-14T09:43:43.663Z"
   },
   {
    "duration": 50,
    "start_time": "2021-12-14T09:43:43.673Z"
   },
   {
    "duration": 22,
    "start_time": "2021-12-14T09:43:43.726Z"
   },
   {
    "duration": 7,
    "start_time": "2021-12-14T09:43:43.751Z"
   },
   {
    "duration": 4,
    "start_time": "2021-12-14T09:43:43.762Z"
   },
   {
    "duration": 441,
    "start_time": "2021-12-14T09:43:43.769Z"
   },
   {
    "duration": 318,
    "start_time": "2021-12-14T09:43:43.896Z"
   },
   {
    "duration": 313,
    "start_time": "2021-12-14T09:43:43.903Z"
   },
   {
    "duration": 311,
    "start_time": "2021-12-14T09:43:43.906Z"
   },
   {
    "duration": 311,
    "start_time": "2021-12-14T09:43:43.908Z"
   },
   {
    "duration": 309,
    "start_time": "2021-12-14T09:43:43.912Z"
   },
   {
    "duration": 308,
    "start_time": "2021-12-14T09:43:43.914Z"
   },
   {
    "duration": 307,
    "start_time": "2021-12-14T09:43:43.917Z"
   },
   {
    "duration": 302,
    "start_time": "2021-12-14T09:43:43.923Z"
   },
   {
    "duration": 301,
    "start_time": "2021-12-14T09:43:43.926Z"
   },
   {
    "duration": 300,
    "start_time": "2021-12-14T09:43:43.928Z"
   },
   {
    "duration": 298,
    "start_time": "2021-12-14T09:43:43.931Z"
   },
   {
    "duration": 298,
    "start_time": "2021-12-14T09:43:43.933Z"
   },
   {
    "duration": 297,
    "start_time": "2021-12-14T09:43:43.936Z"
   },
   {
    "duration": 297,
    "start_time": "2021-12-14T09:43:43.938Z"
   },
   {
    "duration": 297,
    "start_time": "2021-12-14T09:43:43.940Z"
   },
   {
    "duration": 16,
    "start_time": "2021-12-14T09:44:06.279Z"
   },
   {
    "duration": 37,
    "start_time": "2021-12-14T09:44:47.841Z"
   },
   {
    "duration": 33,
    "start_time": "2021-12-14T09:44:59.942Z"
   },
   {
    "duration": 290,
    "start_time": "2021-12-14T09:45:23.881Z"
   },
   {
    "duration": 275,
    "start_time": "2021-12-14T09:45:35.419Z"
   },
   {
    "duration": 264,
    "start_time": "2021-12-14T09:50:50.291Z"
   },
   {
    "duration": 268,
    "start_time": "2021-12-14T09:51:08.519Z"
   },
   {
    "duration": 34,
    "start_time": "2021-12-14T09:51:17.972Z"
   },
   {
    "duration": 123,
    "start_time": "2021-12-14T10:18:05.089Z"
   },
   {
    "duration": 243,
    "start_time": "2021-12-14T10:18:17.123Z"
   },
   {
    "duration": 89,
    "start_time": "2021-12-14T10:18:57.797Z"
   },
   {
    "duration": 19,
    "start_time": "2021-12-14T10:19:08.290Z"
   },
   {
    "duration": 9,
    "start_time": "2021-12-14T10:19:37.251Z"
   },
   {
    "duration": 8,
    "start_time": "2021-12-14T10:20:04.426Z"
   },
   {
    "duration": 16,
    "start_time": "2021-12-14T10:20:06.653Z"
   },
   {
    "duration": 80,
    "start_time": "2021-12-14T10:27:14.511Z"
   },
   {
    "duration": 63,
    "start_time": "2021-12-14T10:27:14.593Z"
   },
   {
    "duration": 16,
    "start_time": "2021-12-14T10:27:14.659Z"
   },
   {
    "duration": 14,
    "start_time": "2021-12-14T10:27:14.718Z"
   },
   {
    "duration": 12,
    "start_time": "2021-12-14T10:27:14.734Z"
   },
   {
    "duration": 22,
    "start_time": "2021-12-14T10:27:14.749Z"
   },
   {
    "duration": 72,
    "start_time": "2021-12-14T10:27:14.774Z"
   },
   {
    "duration": 1055,
    "start_time": "2021-12-14T10:27:14.850Z"
   },
   {
    "duration": 30,
    "start_time": "2021-12-14T10:27:15.909Z"
   },
   {
    "duration": 8,
    "start_time": "2021-12-14T10:27:15.942Z"
   },
   {
    "duration": 17,
    "start_time": "2021-12-14T10:27:15.953Z"
   },
   {
    "duration": 67,
    "start_time": "2021-12-14T10:27:15.973Z"
   },
   {
    "duration": 8,
    "start_time": "2021-12-14T10:27:16.042Z"
   },
   {
    "duration": 8,
    "start_time": "2021-12-14T10:27:16.052Z"
   },
   {
    "duration": 18,
    "start_time": "2021-12-14T10:27:16.063Z"
   },
   {
    "duration": 24,
    "start_time": "2021-12-14T10:27:16.117Z"
   },
   {
    "duration": 8,
    "start_time": "2021-12-14T10:27:16.143Z"
   },
   {
    "duration": 9,
    "start_time": "2021-12-14T10:27:16.153Z"
   },
   {
    "duration": 59,
    "start_time": "2021-12-14T10:27:16.165Z"
   },
   {
    "duration": 27,
    "start_time": "2021-12-14T10:27:16.227Z"
   },
   {
    "duration": 61,
    "start_time": "2021-12-14T10:27:16.256Z"
   },
   {
    "duration": 44,
    "start_time": "2021-12-14T10:27:16.320Z"
   },
   {
    "duration": 15,
    "start_time": "2021-12-14T10:27:16.372Z"
   },
   {
    "duration": 5239,
    "start_time": "2021-12-14T10:27:16.390Z"
   },
   {
    "duration": 10,
    "start_time": "2021-12-14T10:27:21.632Z"
   },
   {
    "duration": 31,
    "start_time": "2021-12-14T10:27:21.645Z"
   },
   {
    "duration": 53,
    "start_time": "2021-12-14T10:27:21.679Z"
   },
   {
    "duration": 7,
    "start_time": "2021-12-14T10:27:21.735Z"
   },
   {
    "duration": 1708,
    "start_time": "2021-12-14T10:27:21.746Z"
   },
   {
    "duration": 36,
    "start_time": "2021-12-14T10:27:23.457Z"
   },
   {
    "duration": 42,
    "start_time": "2021-12-14T10:27:23.495Z"
   },
   {
    "duration": 22,
    "start_time": "2021-12-14T10:27:23.540Z"
   },
   {
    "duration": 60,
    "start_time": "2021-12-14T10:27:23.564Z"
   },
   {
    "duration": 24,
    "start_time": "2021-12-14T10:27:23.627Z"
   },
   {
    "duration": 8,
    "start_time": "2021-12-14T10:29:18.920Z"
   },
   {
    "duration": 80,
    "start_time": "2021-12-14T10:30:12.683Z"
   },
   {
    "duration": 100,
    "start_time": "2021-12-14T10:30:12.767Z"
   },
   {
    "duration": 14,
    "start_time": "2021-12-14T10:30:12.870Z"
   },
   {
    "duration": 31,
    "start_time": "2021-12-14T10:30:12.887Z"
   },
   {
    "duration": 12,
    "start_time": "2021-12-14T10:30:12.921Z"
   },
   {
    "duration": 39,
    "start_time": "2021-12-14T10:30:12.936Z"
   },
   {
    "duration": 56,
    "start_time": "2021-12-14T10:30:12.978Z"
   },
   {
    "duration": 1115,
    "start_time": "2021-12-14T10:30:13.038Z"
   },
   {
    "duration": 22,
    "start_time": "2021-12-14T10:30:14.156Z"
   },
   {
    "duration": 8,
    "start_time": "2021-12-14T10:30:14.181Z"
   },
   {
    "duration": 23,
    "start_time": "2021-12-14T10:30:14.216Z"
   },
   {
    "duration": 31,
    "start_time": "2021-12-14T10:30:14.242Z"
   },
   {
    "duration": 11,
    "start_time": "2021-12-14T10:30:14.276Z"
   },
   {
    "duration": 31,
    "start_time": "2021-12-14T10:30:14.289Z"
   },
   {
    "duration": 13,
    "start_time": "2021-12-14T10:30:14.323Z"
   },
   {
    "duration": 29,
    "start_time": "2021-12-14T10:30:14.339Z"
   },
   {
    "duration": 45,
    "start_time": "2021-12-14T10:30:14.371Z"
   },
   {
    "duration": 3,
    "start_time": "2021-12-14T10:30:14.419Z"
   },
   {
    "duration": 22,
    "start_time": "2021-12-14T10:30:14.424Z"
   },
   {
    "duration": 22,
    "start_time": "2021-12-14T10:30:14.448Z"
   },
   {
    "duration": 77,
    "start_time": "2021-12-14T10:30:14.473Z"
   },
   {
    "duration": 67,
    "start_time": "2021-12-14T10:30:14.553Z"
   },
   {
    "duration": 10,
    "start_time": "2021-12-14T10:30:14.624Z"
   },
   {
    "duration": 5024,
    "start_time": "2021-12-14T10:30:14.637Z"
   },
   {
    "duration": 10,
    "start_time": "2021-12-14T10:30:19.664Z"
   },
   {
    "duration": 54,
    "start_time": "2021-12-14T10:30:19.676Z"
   },
   {
    "duration": 19,
    "start_time": "2021-12-14T10:30:19.732Z"
   },
   {
    "duration": 6,
    "start_time": "2021-12-14T10:30:19.754Z"
   },
   {
    "duration": 1913,
    "start_time": "2021-12-14T10:30:19.763Z"
   },
   {
    "duration": 24,
    "start_time": "2021-12-14T10:30:21.678Z"
   },
   {
    "duration": 42,
    "start_time": "2021-12-14T10:30:21.704Z"
   },
   {
    "duration": 23,
    "start_time": "2021-12-14T10:30:21.748Z"
   },
   {
    "duration": 61,
    "start_time": "2021-12-14T10:30:21.774Z"
   },
   {
    "duration": 21,
    "start_time": "2021-12-14T10:30:21.838Z"
   },
   {
    "duration": 1387,
    "start_time": "2021-12-15T14:23:41.519Z"
   },
   {
    "duration": 821,
    "start_time": "2021-12-15T14:23:50.748Z"
   },
   {
    "duration": 55,
    "start_time": "2021-12-15T14:23:51.571Z"
   },
   {
    "duration": 15,
    "start_time": "2021-12-15T14:23:51.628Z"
   },
   {
    "duration": 13,
    "start_time": "2021-12-15T14:23:51.645Z"
   },
   {
    "duration": 11,
    "start_time": "2021-12-15T14:23:51.660Z"
   },
   {
    "duration": 60,
    "start_time": "2021-12-15T14:23:51.673Z"
   },
   {
    "duration": 30,
    "start_time": "2021-12-15T14:23:51.735Z"
   },
   {
    "duration": 1682,
    "start_time": "2021-12-15T14:23:51.768Z"
   },
   {
    "duration": 21,
    "start_time": "2021-12-15T14:23:53.453Z"
   },
   {
    "duration": 13,
    "start_time": "2021-12-15T14:23:53.476Z"
   },
   {
    "duration": 41,
    "start_time": "2021-12-15T14:23:53.492Z"
   },
   {
    "duration": 29,
    "start_time": "2021-12-15T14:23:53.536Z"
   },
   {
    "duration": 14,
    "start_time": "2021-12-15T14:23:53.568Z"
   },
   {
    "duration": 10,
    "start_time": "2021-12-15T14:23:53.585Z"
   },
   {
    "duration": 32,
    "start_time": "2021-12-15T14:23:53.598Z"
   },
   {
    "duration": 21,
    "start_time": "2021-12-15T14:23:53.633Z"
   },
   {
    "duration": 6,
    "start_time": "2021-12-15T14:23:53.656Z"
   },
   {
    "duration": 10,
    "start_time": "2021-12-15T14:23:53.665Z"
   },
   {
    "duration": 373,
    "start_time": "2021-12-15T14:23:53.677Z"
   },
   {
    "duration": 503,
    "start_time": "2021-12-15T14:23:53.550Z"
   },
   {
    "duration": 502,
    "start_time": "2021-12-15T14:23:53.553Z"
   },
   {
    "duration": 500,
    "start_time": "2021-12-15T14:23:53.556Z"
   },
   {
    "duration": 498,
    "start_time": "2021-12-15T14:23:53.559Z"
   },
   {
    "duration": 497,
    "start_time": "2021-12-15T14:23:53.562Z"
   },
   {
    "duration": 496,
    "start_time": "2021-12-15T14:23:53.565Z"
   },
   {
    "duration": 494,
    "start_time": "2021-12-15T14:23:53.568Z"
   },
   {
    "duration": 493,
    "start_time": "2021-12-15T14:23:53.571Z"
   },
   {
    "duration": 491,
    "start_time": "2021-12-15T14:23:53.574Z"
   },
   {
    "duration": 490,
    "start_time": "2021-12-15T14:23:53.576Z"
   },
   {
    "duration": 489,
    "start_time": "2021-12-15T14:23:53.578Z"
   },
   {
    "duration": 488,
    "start_time": "2021-12-15T14:23:53.580Z"
   },
   {
    "duration": 487,
    "start_time": "2021-12-15T14:23:53.582Z"
   },
   {
    "duration": 487,
    "start_time": "2021-12-15T14:23:53.584Z"
   },
   {
    "duration": 481,
    "start_time": "2021-12-15T14:23:53.591Z"
   },
   {
    "duration": 18,
    "start_time": "2021-12-15T14:24:28.218Z"
   },
   {
    "duration": 18,
    "start_time": "2021-12-15T14:25:11.288Z"
   },
   {
    "duration": 17,
    "start_time": "2021-12-15T14:25:16.497Z"
   },
   {
    "duration": 14,
    "start_time": "2021-12-15T14:25:23.473Z"
   },
   {
    "duration": 20,
    "start_time": "2021-12-15T14:25:55.738Z"
   },
   {
    "duration": 20,
    "start_time": "2021-12-15T14:26:09.559Z"
   },
   {
    "duration": 17,
    "start_time": "2021-12-15T14:26:30.925Z"
   },
   {
    "duration": 327,
    "start_time": "2021-12-15T14:27:23.932Z"
   },
   {
    "duration": 349,
    "start_time": "2021-12-15T14:28:26.391Z"
   },
   {
    "duration": 20,
    "start_time": "2021-12-15T14:30:23.406Z"
   },
   {
    "duration": 15,
    "start_time": "2021-12-15T14:30:28.325Z"
   },
   {
    "duration": 14,
    "start_time": "2021-12-15T14:30:39.614Z"
   },
   {
    "duration": 15,
    "start_time": "2021-12-15T14:30:43.150Z"
   },
   {
    "duration": 16,
    "start_time": "2021-12-15T14:31:08.357Z"
   },
   {
    "duration": 23,
    "start_time": "2021-12-15T14:31:53.179Z"
   },
   {
    "duration": 24,
    "start_time": "2021-12-15T14:31:59.988Z"
   },
   {
    "duration": 418,
    "start_time": "2021-12-15T14:32:18.957Z"
   },
   {
    "duration": 22,
    "start_time": "2021-12-15T14:33:05.165Z"
   },
   {
    "duration": 23,
    "start_time": "2021-12-15T14:33:12.615Z"
   },
   {
    "duration": 31,
    "start_time": "2021-12-15T14:33:30.080Z"
   },
   {
    "duration": 16,
    "start_time": "2021-12-15T14:33:32.952Z"
   },
   {
    "duration": 76,
    "start_time": "2021-12-15T14:33:36.570Z"
   },
   {
    "duration": 44,
    "start_time": "2021-12-15T14:33:36.649Z"
   },
   {
    "duration": 38,
    "start_time": "2021-12-15T14:33:36.696Z"
   },
   {
    "duration": 18,
    "start_time": "2021-12-15T14:33:36.738Z"
   },
   {
    "duration": 10,
    "start_time": "2021-12-15T14:33:36.758Z"
   },
   {
    "duration": 52,
    "start_time": "2021-12-15T14:33:36.771Z"
   },
   {
    "duration": 28,
    "start_time": "2021-12-15T14:33:36.826Z"
   },
   {
    "duration": 971,
    "start_time": "2021-12-15T14:33:36.857Z"
   },
   {
    "duration": 23,
    "start_time": "2021-12-15T14:33:37.832Z"
   },
   {
    "duration": 24,
    "start_time": "2021-12-15T14:33:37.857Z"
   },
   {
    "duration": 43,
    "start_time": "2021-12-15T14:33:37.884Z"
   },
   {
    "duration": 32,
    "start_time": "2021-12-15T14:33:37.929Z"
   },
   {
    "duration": 14,
    "start_time": "2021-12-15T14:33:37.963Z"
   },
   {
    "duration": 9,
    "start_time": "2021-12-15T14:33:37.979Z"
   },
   {
    "duration": 40,
    "start_time": "2021-12-15T14:33:37.991Z"
   },
   {
    "duration": 20,
    "start_time": "2021-12-15T14:33:38.033Z"
   },
   {
    "duration": 6,
    "start_time": "2021-12-15T14:33:38.055Z"
   },
   {
    "duration": 8,
    "start_time": "2021-12-15T14:33:38.064Z"
   },
   {
    "duration": 53,
    "start_time": "2021-12-15T14:33:38.075Z"
   },
   {
    "duration": 23,
    "start_time": "2021-12-15T14:33:38.131Z"
   },
   {
    "duration": 71,
    "start_time": "2021-12-15T14:33:38.157Z"
   },
   {
    "duration": 55,
    "start_time": "2021-12-15T14:33:38.231Z"
   },
   {
    "duration": 31,
    "start_time": "2021-12-15T14:33:38.291Z"
   },
   {
    "duration": 5493,
    "start_time": "2021-12-15T14:33:38.325Z"
   },
   {
    "duration": 11,
    "start_time": "2021-12-15T14:33:43.824Z"
   },
   {
    "duration": 28,
    "start_time": "2021-12-15T14:33:43.837Z"
   },
   {
    "duration": 19,
    "start_time": "2021-12-15T14:33:43.867Z"
   },
   {
    "duration": 7,
    "start_time": "2021-12-15T14:33:43.922Z"
   },
   {
    "duration": 1432,
    "start_time": "2021-12-15T14:33:43.932Z"
   },
   {
    "duration": 24,
    "start_time": "2021-12-15T14:33:45.366Z"
   },
   {
    "duration": 46,
    "start_time": "2021-12-15T14:33:45.392Z"
   },
   {
    "duration": 20,
    "start_time": "2021-12-15T14:33:45.440Z"
   },
   {
    "duration": 20,
    "start_time": "2021-12-15T14:33:45.463Z"
   },
   {
    "duration": 48,
    "start_time": "2021-12-15T14:33:45.485Z"
   }
  ],
  "kernelspec": {
   "display_name": "Python 3 (ipykernel)",
   "language": "python",
   "name": "python3"
  },
  "language_info": {
   "codemirror_mode": {
    "name": "ipython",
    "version": 3
   },
   "file_extension": ".py",
   "mimetype": "text/x-python",
   "name": "python",
   "nbconvert_exporter": "python",
   "pygments_lexer": "ipython3",
   "version": "3.9.5"
  },
  "toc": {
   "base_numbering": 1,
   "nav_menu": {},
   "number_sections": true,
   "sideBar": true,
   "skip_h1_title": true,
   "title_cell": "Table of Contents",
   "title_sidebar": "Contents",
   "toc_cell": false,
   "toc_position": {},
   "toc_section_display": true,
   "toc_window_display": false
  }
 },
 "nbformat": 4,
 "nbformat_minor": 2
}
