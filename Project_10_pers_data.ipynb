{
 "cells": [
  {
   "cell_type": "markdown",
   "metadata": {
    "toc": true
   },
   "source": [
    "<h1>Содержание<span class=\"tocSkip\"></span></h1>\n",
    "<div class=\"toc\"><ul class=\"toc-item\"><li><span><a href=\"#Загрузка-данных\" data-toc-modified-id=\"Загрузка-данных-1\"><span class=\"toc-item-num\">1&nbsp;&nbsp;</span>Загрузка данных</a></span></li><li><span><a href=\"#Умножение-матриц\" data-toc-modified-id=\"Умножение-матриц-2\"><span class=\"toc-item-num\">2&nbsp;&nbsp;</span>Умножение матриц</a></span></li><li><span><a href=\"#Алгоритм-преобразования\" data-toc-modified-id=\"Алгоритм-преобразования-3\"><span class=\"toc-item-num\">3&nbsp;&nbsp;</span>Алгоритм преобразования</a></span></li><li><span><a href=\"#Проверка-алгоритма\" data-toc-modified-id=\"Проверка-алгоритма-4\"><span class=\"toc-item-num\">4&nbsp;&nbsp;</span>Проверка алгоритма</a></span></li><li><span><a href=\"#Чек-лист-проверки\" data-toc-modified-id=\"Чек-лист-проверки-5\"><span class=\"toc-item-num\">5&nbsp;&nbsp;</span>Чек-лист проверки</a></span></li></ul></div>"
   ]
  },
  {
   "cell_type": "markdown",
   "metadata": {},
   "source": [
    "# Защита персональных данных клиентов"
   ]
  },
  {
   "cell_type": "markdown",
   "metadata": {},
   "source": [
    "Вам нужно защитить данные клиентов страховой компании «Хоть потоп». Разработайте такой метод преобразования данных, чтобы по ним было сложно восстановить персональную информацию. Обоснуйте корректность его работы.\n",
    "\n",
    "Нужно защитить данные, чтобы при преобразовании качество моделей машинного обучения не ухудшилось. Подбирать наилучшую модель не требуется."
   ]
  },
  {
   "cell_type": "markdown",
   "metadata": {},
   "source": [
    "## Загрузка данных"
   ]
  },
  {
   "cell_type": "code",
   "execution_count": 2,
   "metadata": {},
   "outputs": [],
   "source": [
    "#Загрузим необходимые библиотеки\n",
    "import pandas as pd\n",
    "import matplotlib.pyplot as plt\n",
    "import seaborn as sn\n",
    "import sklearn\n",
    "import numpy as np\n",
    "from sklearn.linear_model import LinearRegression\n",
    "from sklearn.metrics import r2_score"
   ]
  },
  {
   "cell_type": "code",
   "execution_count": 3,
   "metadata": {},
   "outputs": [
    {
     "data": {
      "text/html": [
       "<div>\n",
       "<style scoped>\n",
       "    .dataframe tbody tr th:only-of-type {\n",
       "        vertical-align: middle;\n",
       "    }\n",
       "\n",
       "    .dataframe tbody tr th {\n",
       "        vertical-align: top;\n",
       "    }\n",
       "\n",
       "    .dataframe thead th {\n",
       "        text-align: right;\n",
       "    }\n",
       "</style>\n",
       "<table border=\"1\" class=\"dataframe\">\n",
       "  <thead>\n",
       "    <tr style=\"text-align: right;\">\n",
       "      <th></th>\n",
       "      <th>Пол</th>\n",
       "      <th>Возраст</th>\n",
       "      <th>Зарплата</th>\n",
       "      <th>Члены семьи</th>\n",
       "      <th>Страховые выплаты</th>\n",
       "    </tr>\n",
       "  </thead>\n",
       "  <tbody>\n",
       "    <tr>\n",
       "      <th>0</th>\n",
       "      <td>1</td>\n",
       "      <td>41.0</td>\n",
       "      <td>49600.0</td>\n",
       "      <td>1</td>\n",
       "      <td>0</td>\n",
       "    </tr>\n",
       "    <tr>\n",
       "      <th>1</th>\n",
       "      <td>0</td>\n",
       "      <td>46.0</td>\n",
       "      <td>38000.0</td>\n",
       "      <td>1</td>\n",
       "      <td>1</td>\n",
       "    </tr>\n",
       "    <tr>\n",
       "      <th>2</th>\n",
       "      <td>0</td>\n",
       "      <td>29.0</td>\n",
       "      <td>21000.0</td>\n",
       "      <td>0</td>\n",
       "      <td>0</td>\n",
       "    </tr>\n",
       "    <tr>\n",
       "      <th>3</th>\n",
       "      <td>0</td>\n",
       "      <td>21.0</td>\n",
       "      <td>41700.0</td>\n",
       "      <td>2</td>\n",
       "      <td>0</td>\n",
       "    </tr>\n",
       "    <tr>\n",
       "      <th>4</th>\n",
       "      <td>1</td>\n",
       "      <td>28.0</td>\n",
       "      <td>26100.0</td>\n",
       "      <td>0</td>\n",
       "      <td>0</td>\n",
       "    </tr>\n",
       "  </tbody>\n",
       "</table>\n",
       "</div>"
      ],
      "text/plain": [
       "   Пол  Возраст  Зарплата  Члены семьи  Страховые выплаты\n",
       "0    1     41.0   49600.0            1                  0\n",
       "1    0     46.0   38000.0            1                  1\n",
       "2    0     29.0   21000.0            0                  0\n",
       "3    0     21.0   41700.0            2                  0\n",
       "4    1     28.0   26100.0            0                  0"
      ]
     },
     "execution_count": 3,
     "metadata": {},
     "output_type": "execute_result"
    }
   ],
   "source": [
    "#Загрузим данные\n",
    "try:\n",
    "    df = pd.read_csv('/datasets/insurance.csv')\n",
    "except:\n",
    "    print('Ошибка. Проверьте правильность пути к данным')\n",
    "df.head()"
   ]
  },
  {
   "cell_type": "code",
   "execution_count": 4,
   "metadata": {},
   "outputs": [
    {
     "name": "stdout",
     "output_type": "stream",
     "text": [
      "<class 'pandas.core.frame.DataFrame'>\n",
      "RangeIndex: 5000 entries, 0 to 4999\n",
      "Data columns (total 5 columns):\n",
      " #   Column             Non-Null Count  Dtype  \n",
      "---  ------             --------------  -----  \n",
      " 0   Пол                5000 non-null   int64  \n",
      " 1   Возраст            5000 non-null   float64\n",
      " 2   Зарплата           5000 non-null   float64\n",
      " 3   Члены семьи        5000 non-null   int64  \n",
      " 4   Страховые выплаты  5000 non-null   int64  \n",
      "dtypes: float64(2), int64(3)\n",
      "memory usage: 195.4 KB\n"
     ]
    }
   ],
   "source": [
    "df.info()"
   ]
  },
  {
   "cell_type": "code",
   "execution_count": 5,
   "metadata": {},
   "outputs": [
    {
     "data": {
      "text/html": [
       "<div>\n",
       "<style scoped>\n",
       "    .dataframe tbody tr th:only-of-type {\n",
       "        vertical-align: middle;\n",
       "    }\n",
       "\n",
       "    .dataframe tbody tr th {\n",
       "        vertical-align: top;\n",
       "    }\n",
       "\n",
       "    .dataframe thead th {\n",
       "        text-align: right;\n",
       "    }\n",
       "</style>\n",
       "<table border=\"1\" class=\"dataframe\">\n",
       "  <thead>\n",
       "    <tr style=\"text-align: right;\">\n",
       "      <th></th>\n",
       "      <th>Пол</th>\n",
       "      <th>Возраст</th>\n",
       "      <th>Зарплата</th>\n",
       "      <th>Члены семьи</th>\n",
       "      <th>Страховые выплаты</th>\n",
       "    </tr>\n",
       "  </thead>\n",
       "  <tbody>\n",
       "    <tr>\n",
       "      <th>count</th>\n",
       "      <td>5000.000000</td>\n",
       "      <td>5000.000000</td>\n",
       "      <td>5000.000000</td>\n",
       "      <td>5000.000000</td>\n",
       "      <td>5000.000000</td>\n",
       "    </tr>\n",
       "    <tr>\n",
       "      <th>mean</th>\n",
       "      <td>0.499000</td>\n",
       "      <td>30.952800</td>\n",
       "      <td>39916.360000</td>\n",
       "      <td>1.194200</td>\n",
       "      <td>0.148000</td>\n",
       "    </tr>\n",
       "    <tr>\n",
       "      <th>std</th>\n",
       "      <td>0.500049</td>\n",
       "      <td>8.440807</td>\n",
       "      <td>9900.083569</td>\n",
       "      <td>1.091387</td>\n",
       "      <td>0.463183</td>\n",
       "    </tr>\n",
       "    <tr>\n",
       "      <th>min</th>\n",
       "      <td>0.000000</td>\n",
       "      <td>18.000000</td>\n",
       "      <td>5300.000000</td>\n",
       "      <td>0.000000</td>\n",
       "      <td>0.000000</td>\n",
       "    </tr>\n",
       "    <tr>\n",
       "      <th>25%</th>\n",
       "      <td>0.000000</td>\n",
       "      <td>24.000000</td>\n",
       "      <td>33300.000000</td>\n",
       "      <td>0.000000</td>\n",
       "      <td>0.000000</td>\n",
       "    </tr>\n",
       "    <tr>\n",
       "      <th>50%</th>\n",
       "      <td>0.000000</td>\n",
       "      <td>30.000000</td>\n",
       "      <td>40200.000000</td>\n",
       "      <td>1.000000</td>\n",
       "      <td>0.000000</td>\n",
       "    </tr>\n",
       "    <tr>\n",
       "      <th>75%</th>\n",
       "      <td>1.000000</td>\n",
       "      <td>37.000000</td>\n",
       "      <td>46600.000000</td>\n",
       "      <td>2.000000</td>\n",
       "      <td>0.000000</td>\n",
       "    </tr>\n",
       "    <tr>\n",
       "      <th>max</th>\n",
       "      <td>1.000000</td>\n",
       "      <td>65.000000</td>\n",
       "      <td>79000.000000</td>\n",
       "      <td>6.000000</td>\n",
       "      <td>5.000000</td>\n",
       "    </tr>\n",
       "  </tbody>\n",
       "</table>\n",
       "</div>"
      ],
      "text/plain": [
       "               Пол      Возраст      Зарплата  Члены семьи  Страховые выплаты\n",
       "count  5000.000000  5000.000000   5000.000000  5000.000000        5000.000000\n",
       "mean      0.499000    30.952800  39916.360000     1.194200           0.148000\n",
       "std       0.500049     8.440807   9900.083569     1.091387           0.463183\n",
       "min       0.000000    18.000000   5300.000000     0.000000           0.000000\n",
       "25%       0.000000    24.000000  33300.000000     0.000000           0.000000\n",
       "50%       0.000000    30.000000  40200.000000     1.000000           0.000000\n",
       "75%       1.000000    37.000000  46600.000000     2.000000           0.000000\n",
       "max       1.000000    65.000000  79000.000000     6.000000           5.000000"
      ]
     },
     "execution_count": 5,
     "metadata": {},
     "output_type": "execute_result"
    }
   ],
   "source": [
    "df.describe()"
   ]
  },
  {
   "cell_type": "code",
   "execution_count": 6,
   "metadata": {},
   "outputs": [
    {
     "data": {
      "text/plain": [
       "False    4847\n",
       "True      153\n",
       "dtype: int64"
      ]
     },
     "execution_count": 6,
     "metadata": {},
     "output_type": "execute_result"
    }
   ],
   "source": [
    "#Проверим есть ли в данных дубликаты\n",
    "df.duplicated().value_counts()"
   ]
  },
  {
   "cell_type": "code",
   "execution_count": 7,
   "metadata": {},
   "outputs": [],
   "source": [
    "#Удалим дубликаты\n",
    "df.drop_duplicates(inplace=True)"
   ]
  },
  {
   "cell_type": "markdown",
   "metadata": {},
   "source": [
    "Пропусков и дубликатов в данных нет. "
   ]
  },
  {
   "cell_type": "code",
   "execution_count": 8,
   "metadata": {},
   "outputs": [
    {
     "data": {
      "image/png": "[encoded data removed]",
      "text/plain": [
       "<Figure size 720x360 with 2 Axes>"
      ]
     },
     "metadata": {
      "needs_background": "light"
     },
     "output_type": "display_data"
    }
   ],
   "source": [
    "#Построим корреляционную матрицу\n",
    "corrMatrix = df.corr()\n",
    "plt.figure(figsize=(10, 5))\n",
    "sn.heatmap(corrMatrix, annot=True)\n",
    "plt.show()"
   ]
  },
  {
   "cell_type": "markdown",
   "metadata": {},
   "source": [
    "**Вывод:**\n",
    "Пропусков и дубликатов в данных нет. \n",
    "Корреляций не выявила значительных зависимостей между признаками. Есть довольно высокая корреляция между возрастом и страховыми выплатами, но это вполне логично.\n",
    "Целевой признак для дальнейшего обучения модели: Страховые выплаты."
   ]
  },
  {
   "cell_type": "markdown",
   "metadata": {},
   "source": [
    "## Умножение матриц"
   ]
  },
  {
   "cell_type": "markdown",
   "metadata": {},
   "source": [
    "В этом задании вы можете записывать формулы в *Jupyter Notebook.*\n",
    "\n",
    "Чтобы записать формулу внутри текста, окружите её символами доллара \\\\$; если снаружи —  двойными символами \\\\$\\\\$. Эти формулы записываются на языке вёрстки *LaTeX.* \n",
    "\n",
    "Для примера мы записали формулы линейной регрессии. Можете их скопировать и отредактировать, чтобы решить задачу.\n",
    "\n",
    "Работать в *LaTeX* необязательно."
   ]
  },
  {
   "cell_type": "markdown",
   "metadata": {},
   "source": [
    "Обозначения:\n",
    "\n",
    "- $X$ — матрица признаков (нулевой столбец состоит из единиц)\n",
    "\n",
    "- $y$ — вектор целевого признака\n",
    "\n",
    "- $P$ — матрица, на которую умножаются признаки\n",
    "\n",
    "- $w$ — вектор весов линейной регрессии (нулевой элемент равен сдвигу)"
   ]
  },
  {
   "cell_type": "markdown",
   "metadata": {},
   "source": [
    "Предсказания:\n",
    "\n",
    "$$\n",
    "a = Xw\n",
    "$$\n",
    "\n",
    "Задача обучения:\n",
    "\n",
    "$$\n",
    "w = \\arg\\min_w MSE(Xw, y)\n",
    "$$\n",
    "\n",
    "Формула обучения:\n",
    "\n",
    "$$\n",
    "w = (X^T X)^{-1} X^T y\n",
    "$$"
   ]
  },
  {
   "cell_type": "markdown",
   "metadata": {},
   "source": [
    "**Ответ:** Качество линейной регресии не изменится.\n",
    "\n",
    "**Обоснование:** \n",
    "Для обоснования ответа получим предсказания для домноженных признаков. Умноженная матрица будет иметь вид X * P\n",
    "\n",
    "Умножим признаки на обратимую матрицу $P$:\n",
    "\n",
    "$$\n",
    "w_1 = ((XP)^T XP)^{-1} (XP)^T y\n",
    "$$\n",
    "\n",
    "Транспонированное произведение матриц равно произведению транспонированных матриц, взятых в обратном порядке:\n",
    "\n",
    "$$\n",
    "w_1 = (P^T X^T XP)^{-1} P^T X^T y\n",
    "$$\n",
    "\n",
    "Используя формулу:\n",
    "\n",
    "$$\n",
    "(A * B)^{-1} = B^{-1} * A^{-1}\n",
    "$$\n",
    "\n",
    "где $A$ и $B$ квадратные матрицы\n",
    "\n",
    "$P$, $P^T$ и $X^T X$ тоже квадратные \n",
    "\n",
    "$$\n",
    "w_1= P^{-1} (X^T X)^{-1} (P^T)^{-1} P^T X^T y\n",
    "$$\n",
    "\n",
    "Умножение матрицы на обратную матрицу равно единичной матрице:\n",
    "\n",
    "$$\n",
    "w_1= P^{-1} (X^T X)^{-1} I X^T y\n",
    "$$\n",
    "\n",
    "Умножение любой матрицы на единичную равно этой самой матрице:\n",
    "\n",
    "$$\n",
    "w_1= P^{-1} (X^T X)^{-1} X^T y\n",
    "$$\n",
    "\n",
    "$$\n",
    "a_1 = XPw_1\\\n",
    "$$\n",
    "\n",
    "$$\n",
    "a_1 = X P P^{-1} (X^T X)^{-1} X^T y\n",
    "$$\n",
    "\n",
    "$$\n",
    "a_1 = X (X^T X)^{-1} X^T y\n",
    "$$\n",
    "Произведение $X (X^T X)^{-1} X^T y$ равно $Xw$, тогда получаем:\n",
    "$$\n",
    "a_1 = Xw\n",
    "$$\n",
    "В итоге мы получили исходную формулу предсказаний, значит домножение признаков на обратимую матрицу не влияет на предсказания модели."
   ]
  },
  {
   "cell_type": "markdown",
   "metadata": {},
   "source": [
    "## Алгоритм преобразования"
   ]
  },
  {
   "cell_type": "markdown",
   "metadata": {},
   "source": [
    "**Алгоритм**\n",
    "\n",
    "В качестве алгоритма преобразования примем домножение обучающих признаков X на случайную обратимую матрицу P размером 4х4. Дважды обучим модель линейной регрессии до и после преобразования и посчитаем метрику R2 для обоих случаев."
   ]
  },
  {
   "cell_type": "markdown",
   "metadata": {},
   "source": [
    "**Обоснование**\n",
    "\n",
    "Как было показано в предыдущем пункте, домножение признаков на какую-либо обратимую матрицу не приводит к изменению предсказаний, поэтому результаты R2 должны оказаться равны."
   ]
  },
  {
   "cell_type": "code",
   "execution_count": 9,
   "metadata": {},
   "outputs": [],
   "source": [
    "#Разобьем data на признаки и целевой признак\n",
    "features = df.drop('Страховые выплаты', axis=1)\n",
    "target = df['Страховые выплаты']"
   ]
  },
  {
   "cell_type": "code",
   "execution_count": 10,
   "metadata": {},
   "outputs": [],
   "source": [
    "#Создадим обратимую квадратную матрицу со случайными числами размерностью столбцов features\n",
    "state = np.random.RandomState(12345)\n",
    "matrix_cr=np.random.normal(size=(features.shape[1],features.shape[1]))"
   ]
  },
  {
   "cell_type": "code",
   "execution_count": 11,
   "metadata": {},
   "outputs": [
    {
     "data": {
      "text/html": [
       "<div>\n",
       "<style scoped>\n",
       "    .dataframe tbody tr th:only-of-type {\n",
       "        vertical-align: middle;\n",
       "    }\n",
       "\n",
       "    .dataframe tbody tr th {\n",
       "        vertical-align: top;\n",
       "    }\n",
       "\n",
       "    .dataframe thead th {\n",
       "        text-align: right;\n",
       "    }\n",
       "</style>\n",
       "<table border=\"1\" class=\"dataframe\">\n",
       "  <thead>\n",
       "    <tr style=\"text-align: right;\">\n",
       "      <th></th>\n",
       "      <th>0</th>\n",
       "      <th>1</th>\n",
       "      <th>2</th>\n",
       "      <th>3</th>\n",
       "    </tr>\n",
       "  </thead>\n",
       "  <tbody>\n",
       "    <tr>\n",
       "      <th>0</th>\n",
       "      <td>19343.880942</td>\n",
       "      <td>68486.532861</td>\n",
       "      <td>-24813.959718</td>\n",
       "      <td>10044.954215</td>\n",
       "    </tr>\n",
       "    <tr>\n",
       "      <th>1</th>\n",
       "      <td>14828.670008</td>\n",
       "      <td>52445.647092</td>\n",
       "      <td>-18999.725432</td>\n",
       "      <td>7697.084184</td>\n",
       "    </tr>\n",
       "    <tr>\n",
       "      <th>2</th>\n",
       "      <td>8196.796378</td>\n",
       "      <td>28977.506975</td>\n",
       "      <td>-10497.507711</td>\n",
       "      <td>4253.551016</td>\n",
       "    </tr>\n",
       "    <tr>\n",
       "      <th>3</th>\n",
       "      <td>16254.365166</td>\n",
       "      <td>57600.848036</td>\n",
       "      <td>-20870.707392</td>\n",
       "      <td>8445.701745</td>\n",
       "    </tr>\n",
       "    <tr>\n",
       "      <th>4</th>\n",
       "      <td>10183.070490</td>\n",
       "      <td>36027.486336</td>\n",
       "      <td>-13053.077338</td>\n",
       "      <td>5285.394775</td>\n",
       "    </tr>\n",
       "    <tr>\n",
       "      <th>...</th>\n",
       "      <td>...</td>\n",
       "      <td>...</td>\n",
       "      <td>...</td>\n",
       "      <td>...</td>\n",
       "    </tr>\n",
       "    <tr>\n",
       "      <th>4995</th>\n",
       "      <td>13922.043707</td>\n",
       "      <td>49296.023972</td>\n",
       "      <td>-17860.303944</td>\n",
       "      <td>7231.048218</td>\n",
       "    </tr>\n",
       "    <tr>\n",
       "      <th>4996</th>\n",
       "      <td>20429.262483</td>\n",
       "      <td>72369.205951</td>\n",
       "      <td>-26221.203224</td>\n",
       "      <td>10612.455746</td>\n",
       "    </tr>\n",
       "    <tr>\n",
       "      <th>4997</th>\n",
       "      <td>13215.990637</td>\n",
       "      <td>46821.449841</td>\n",
       "      <td>-16964.527471</td>\n",
       "      <td>6866.224813</td>\n",
       "    </tr>\n",
       "    <tr>\n",
       "      <th>4998</th>\n",
       "      <td>12751.037179</td>\n",
       "      <td>45157.970195</td>\n",
       "      <td>-16361.862634</td>\n",
       "      <td>6622.954676</td>\n",
       "    </tr>\n",
       "    <tr>\n",
       "      <th>4999</th>\n",
       "      <td>15830.608569</td>\n",
       "      <td>56068.555931</td>\n",
       "      <td>-20315.443376</td>\n",
       "      <td>8221.979601</td>\n",
       "    </tr>\n",
       "  </tbody>\n",
       "</table>\n",
       "<p>4847 rows × 4 columns</p>\n",
       "</div>"
      ],
      "text/plain": [
       "                 0             1             2             3\n",
       "0     19343.880942  68486.532861 -24813.959718  10044.954215\n",
       "1     14828.670008  52445.647092 -18999.725432   7697.084184\n",
       "2      8196.796378  28977.506975 -10497.507711   4253.551016\n",
       "3     16254.365166  57600.848036 -20870.707392   8445.701745\n",
       "4     10183.070490  36027.486336 -13053.077338   5285.394775\n",
       "...            ...           ...           ...           ...\n",
       "4995  13922.043707  49296.023972 -17860.303944   7231.048218\n",
       "4996  20429.262483  72369.205951 -26221.203224  10612.455746\n",
       "4997  13215.990637  46821.449841 -16964.527471   6866.224813\n",
       "4998  12751.037179  45157.970195 -16361.862634   6622.954676\n",
       "4999  15830.608569  56068.555931 -20315.443376   8221.979601\n",
       "\n",
       "[4847 rows x 4 columns]"
      ]
     },
     "execution_count": 11,
     "metadata": {},
     "output_type": "execute_result"
    }
   ],
   "source": [
    "#Зашифруем даннные путем умножения матриц\n",
    "features_cr=features @ matrix_cr\n",
    "features_cr"
   ]
  },
  {
   "cell_type": "markdown",
   "metadata": {},
   "source": [
    "## Проверка алгоритма"
   ]
  },
  {
   "cell_type": "code",
   "execution_count": 12,
   "metadata": {},
   "outputs": [
    {
     "name": "stdout",
     "output_type": "stream",
     "text": [
      "R2: 0.4302010044852066\n"
     ]
    }
   ],
   "source": [
    "#Обучим модель линейной регрессии на исходных данных\n",
    "model = LinearRegression()\n",
    "model.fit(features, target)\n",
    "predictions = model.predict(features)\n",
    "print('R2:', r2_score(target,predictions))"
   ]
  },
  {
   "cell_type": "code",
   "execution_count": 14,
   "metadata": {},
   "outputs": [
    {
     "name": "stdout",
     "output_type": "stream",
     "text": [
      "R2: 0.4302010044852431\n"
     ]
    }
   ],
   "source": [
    "#Обучим модель линейной регрессии на зашифрованных данных\n",
    "model = LinearRegression()\n",
    "model.fit(features_cr, target)\n",
    "predictions = model.predict(features_cr)\n",
    "print('R2:', r2_score(target,predictions))"
   ]
  },
  {
   "cell_type": "markdown",
   "metadata": {},
   "source": [
    "**Вывод:** Метрики R2 обеих моделей одиннаковые, следовательно умножение исходных данных на случайную обратимую матрицу может быть применено для их шифрования. "
   ]
  }
 ],
 "metadata": {
  "ExecuteTimeLog": [
   {
    "duration": 1267,
    "start_time": "2022-04-11T08:02:46.655Z"
   },
   {
    "duration": 31,
    "start_time": "2022-04-11T08:03:14.856Z"
   },
   {
    "duration": 19,
    "start_time": "2022-04-11T08:03:27.856Z"
   },
   {
    "duration": 12,
    "start_time": "2022-04-11T08:03:37.653Z"
   },
   {
    "duration": 11,
    "start_time": "2022-04-11T08:03:44.088Z"
   },
   {
    "duration": 104,
    "start_time": "2022-04-11T08:03:55.135Z"
   },
   {
    "duration": 23,
    "start_time": "2022-04-11T08:04:02.169Z"
   },
   {
    "duration": 21,
    "start_time": "2022-04-11T08:04:22.309Z"
   },
   {
    "duration": 8,
    "start_time": "2022-04-11T09:12:36.852Z"
   },
   {
    "duration": 7,
    "start_time": "2022-04-11T09:13:33.421Z"
   },
   {
    "duration": 7,
    "start_time": "2022-04-11T09:13:37.047Z"
   },
   {
    "duration": 5,
    "start_time": "2022-04-11T09:13:44.373Z"
   },
   {
    "duration": 7,
    "start_time": "2022-04-11T09:13:49.011Z"
   },
   {
    "duration": 13,
    "start_time": "2022-04-11T09:14:29.789Z"
   },
   {
    "duration": 455,
    "start_time": "2022-04-11T09:14:58.613Z"
   },
   {
    "duration": 21,
    "start_time": "2022-04-11T09:14:59.070Z"
   },
   {
    "duration": 13,
    "start_time": "2022-04-11T09:14:59.093Z"
   },
   {
    "duration": 39,
    "start_time": "2022-04-11T09:14:59.108Z"
   },
   {
    "duration": 13,
    "start_time": "2022-04-11T09:14:59.150Z"
   },
   {
    "duration": 18,
    "start_time": "2022-04-11T09:14:59.165Z"
   },
   {
    "duration": 37,
    "start_time": "2022-04-11T09:14:59.185Z"
   },
   {
    "duration": 67,
    "start_time": "2022-04-11T09:18:17.131Z"
   },
   {
    "duration": 20,
    "start_time": "2022-04-11T09:18:17.200Z"
   },
   {
    "duration": 25,
    "start_time": "2022-04-11T09:18:17.222Z"
   },
   {
    "duration": 34,
    "start_time": "2022-04-11T09:18:17.250Z"
   },
   {
    "duration": 8,
    "start_time": "2022-04-11T09:18:17.286Z"
   },
   {
    "duration": 11,
    "start_time": "2022-04-11T09:18:17.296Z"
   },
   {
    "duration": 439,
    "start_time": "2022-04-11T09:18:17.309Z"
   },
   {
    "duration": 17,
    "start_time": "2022-04-11T09:25:22.393Z"
   },
   {
    "duration": 4,
    "start_time": "2022-04-11T09:25:37.834Z"
   },
   {
    "duration": 4,
    "start_time": "2022-04-11T09:25:40.924Z"
   },
   {
    "duration": 4,
    "start_time": "2022-04-11T09:25:59.314Z"
   },
   {
    "duration": 4,
    "start_time": "2022-04-11T09:26:02.864Z"
   },
   {
    "duration": 13,
    "start_time": "2022-04-11T09:26:13.917Z"
   },
   {
    "duration": 119,
    "start_time": "2022-04-11T09:27:19.928Z"
   },
   {
    "duration": 13,
    "start_time": "2022-04-11T09:27:26.114Z"
   },
   {
    "duration": 12,
    "start_time": "2022-04-11T09:27:39.811Z"
   },
   {
    "duration": 45,
    "start_time": "2022-04-12T07:57:55.882Z"
   },
   {
    "duration": 1535,
    "start_time": "2022-04-12T08:02:57.641Z"
   },
   {
    "duration": 27,
    "start_time": "2022-04-12T08:02:59.178Z"
   },
   {
    "duration": 11,
    "start_time": "2022-04-12T08:02:59.207Z"
   },
   {
    "duration": 24,
    "start_time": "2022-04-12T08:02:59.220Z"
   },
   {
    "duration": 6,
    "start_time": "2022-04-12T08:02:59.246Z"
   },
   {
    "duration": 19,
    "start_time": "2022-04-12T08:02:59.254Z"
   },
   {
    "duration": 431,
    "start_time": "2022-04-12T08:02:59.275Z"
   },
   {
    "duration": 5,
    "start_time": "2022-04-12T08:02:59.707Z"
   },
   {
    "duration": 6,
    "start_time": "2022-04-12T08:02:59.714Z"
   },
   {
    "duration": 12,
    "start_time": "2022-04-12T08:02:59.722Z"
   },
   {
    "duration": 38,
    "start_time": "2022-04-12T08:02:59.736Z"
   },
   {
    "duration": 102,
    "start_time": "2022-04-12T08:02:59.776Z"
   },
   {
    "duration": 15,
    "start_time": "2022-04-12T08:43:07.401Z"
   },
   {
    "duration": 102,
    "start_time": "2022-04-12T08:43:24.218Z"
   },
   {
    "duration": 145,
    "start_time": "2022-04-12T12:02:48.903Z"
   }
  ],
  "kernelspec": {
   "display_name": "Python 3 (ipykernel)",
   "language": "python",
   "name": "python3"
  },
  "language_info": {
   "codemirror_mode": {
    "name": "ipython",
    "version": 3
   },
   "file_extension": ".py",
   "mimetype": "text/x-python",
   "name": "python",
   "nbconvert_exporter": "python",
   "pygments_lexer": "ipython3",
   "version": "3.9.5"
  },
  "toc": {
   "base_numbering": 1,
   "nav_menu": {},
   "number_sections": true,
   "sideBar": true,
   "skip_h1_title": true,
   "title_cell": "Содержание",
   "title_sidebar": "Contents",
   "toc_cell": true,
   "toc_position": {},
   "toc_section_display": true,
   "toc_window_display": true
  }
 },
 "nbformat": 4,
 "nbformat_minor": 2
}
