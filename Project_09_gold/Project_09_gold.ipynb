{
 "cells": [
  {
   "cell_type": "markdown",
   "metadata": {
    "toc": true
   },
   "source": [
    "<h1>Содержание<span class=\"tocSkip\"></span></h1>\n",
    "<div class=\"toc\"><ul class=\"toc-item\"><li><span><a href=\"#Подготовка-данных\" data-toc-modified-id=\"Подготовка-данных-1\"><span class=\"toc-item-num\">1&nbsp;&nbsp;</span>Подготовка данных</a></span><ul class=\"toc-item\"><li><span><a href=\"#-Комментарий-ревьюера-v1\" data-toc-modified-id=\"-Комментарий-ревьюера-v1-1.1\"><span class=\"toc-item-num\">1.1&nbsp;&nbsp;</span> Комментарий ревьюера v1</a></span></li><li><span><a href=\"#-Комментарий-ревьюера-v1\" data-toc-modified-id=\"-Комментарий-ревьюера-v1-1.2\"><span class=\"toc-item-num\">1.2&nbsp;&nbsp;</span> Комментарий ревьюера v1</a></span></li></ul></li><li><span><a href=\"#Анализ-данных\" data-toc-modified-id=\"Анализ-данных-2\"><span class=\"toc-item-num\">2&nbsp;&nbsp;</span>Анализ данных</a></span><ul class=\"toc-item\"><li><span><a href=\"#-Комментарий-ревьюера-v1\" data-toc-modified-id=\"-Комментарий-ревьюера-v1-2.1\"><span class=\"toc-item-num\">2.1&nbsp;&nbsp;</span> Комментарий ревьюера v1</a></span></li><li><span><a href=\"#-Комментарий-ревьюера-v1\" data-toc-modified-id=\"-Комментарий-ревьюера-v1-2.2\"><span class=\"toc-item-num\">2.2&nbsp;&nbsp;</span> Комментарий ревьюера v1</a></span></li><li><span><a href=\"#-Комментарий-ревьюера-v1\" data-toc-modified-id=\"-Комментарий-ревьюера-v1-2.3\"><span class=\"toc-item-num\">2.3&nbsp;&nbsp;</span> Комментарий ревьюера v1</a></span></li><li><span><a href=\"#-Комментарий-ревьюера-v2\" data-toc-modified-id=\"-Комментарий-ревьюера-v2-2.4\"><span class=\"toc-item-num\">2.4&nbsp;&nbsp;</span> Комментарий ревьюера v2</a></span></li></ul></li><li><span><a href=\"#Модель\" data-toc-modified-id=\"Модель-3\"><span class=\"toc-item-num\">3&nbsp;&nbsp;</span>Модель</a></span><ul class=\"toc-item\"><li><span><a href=\"#-Комментарий-ревьюера-v1\" data-toc-modified-id=\"-Комментарий-ревьюера-v1-3.1\"><span class=\"toc-item-num\">3.1&nbsp;&nbsp;</span> Комментарий ревьюера v1</a></span></li><li><span><a href=\"#-Комментарий-ревьюера-v1\" data-toc-modified-id=\"-Комментарий-ревьюера-v1-3.2\"><span class=\"toc-item-num\">3.2&nbsp;&nbsp;</span> Комментарий ревьюера v1</a></span></li><li><span><a href=\"#-Комментарий-ревьюера-v1\" data-toc-modified-id=\"-Комментарий-ревьюера-v1-3.3\"><span class=\"toc-item-num\">3.3&nbsp;&nbsp;</span> Комментарий ревьюера v1</a></span></li></ul></li><li><span><a href=\"#Чек-лист-готовности-проекта\" data-toc-modified-id=\"Чек-лист-готовности-проекта-4\"><span class=\"toc-item-num\">4&nbsp;&nbsp;</span>Чек-лист готовности проекта</a></span><ul class=\"toc-item\"><li><span><a href=\"#-Итоговый-комментарий\" data-toc-modified-id=\"-Итоговый-комментарий-4.1\"><span class=\"toc-item-num\">4.1&nbsp;&nbsp;</span> Итоговый комментарий</a></span></li><li><span><a href=\"#-Комментарий-ревьюера-v2\" data-toc-modified-id=\"-Комментарий-ревьюера-v2-4.2\"><span class=\"toc-item-num\">4.2&nbsp;&nbsp;</span> Комментарий ревьюера v2</a></span></li></ul></li></ul></div>"
   ]
  },
  {
   "cell_type": "markdown",
   "metadata": {},
   "source": [
    "# Восстановление золота из руды"
   ]
  },
  {
   "cell_type": "markdown",
   "metadata": {},
   "source": [
    "Подготовьте прототип модели машинного обучения для «Цифры». Компания разрабатывает решения для эффективной работы промышленных предприятий.\n",
    "\n",
    "Модель должна предсказать коэффициент восстановления золота из золотосодержащей руды. Используйте данные с параметрами добычи и очистки. \n",
    "\n",
    "Модель поможет оптимизировать производство, чтобы не запускать предприятие с убыточными характеристиками.\n",
    "\n",
    "Вам нужно:\n",
    "\n",
    "1. Подготовить данные;\n",
    "2. Провести исследовательский анализ данных;\n",
    "3. Построить и обучить модель.\n",
    "\n",
    "Чтобы выполнить проект, обращайтесь к библиотекам *pandas*, *matplotlib* и *sklearn.* Вам поможет их документация."
   ]
  },
  {
   "cell_type": "markdown",
   "metadata": {},
   "source": [
    "## Подготовка данных"
   ]
  },
  {
   "cell_type": "code",
   "execution_count": 506,
   "metadata": {},
   "outputs": [],
   "source": [
    "import pandas as pd\n",
    "import matplotlib.pyplot as plt\n",
    "import seaborn as sns\n",
    "import numpy as np\n",
    "from scipy import stats as st\n",
    "from sklearn.ensemble import RandomForestRegressor\n",
    "from sklearn.tree import DecisionTreeRegressor\n",
    "from sklearn.linear_model import LinearRegression\n",
    "from sklearn.metrics import accuracy_score\n",
    "from sklearn.model_selection import train_test_split\n",
    "from sklearn.preprocessing import StandardScaler\n",
    "from sklearn.metrics import mean_squared_error\n",
    "from sklearn.metrics import mean_absolute_error\n",
    "from sklearn.model_selection import cross_val_score\n",
    "from sklearn.metrics import make_scorer\n",
    "from sklearn.dummy import DummyClassifier"
   ]
  },
  {
   "cell_type": "markdown",
   "metadata": {},
   "source": [
    "Импортируем данные обучающей выборки"
   ]
  },
  {
   "cell_type": "code",
   "execution_count": 507,
   "metadata": {},
   "outputs": [
    {
     "data": {
      "text/html": [
       "<div>\n",
       "<style scoped>\n",
       "    .dataframe tbody tr th:only-of-type {\n",
       "        vertical-align: middle;\n",
       "    }\n",
       "\n",
       "    .dataframe tbody tr th {\n",
       "        vertical-align: top;\n",
       "    }\n",
       "\n",
       "    .dataframe thead th {\n",
       "        text-align: right;\n",
       "    }\n",
       "</style>\n",
       "<table border=\"1\" class=\"dataframe\">\n",
       "  <thead>\n",
       "    <tr style=\"text-align: right;\">\n",
       "      <th></th>\n",
       "      <th>date</th>\n",
       "      <th>final.output.concentrate_ag</th>\n",
       "      <th>final.output.concentrate_pb</th>\n",
       "      <th>final.output.concentrate_sol</th>\n",
       "      <th>final.output.concentrate_au</th>\n",
       "      <th>final.output.recovery</th>\n",
       "      <th>final.output.tail_ag</th>\n",
       "      <th>final.output.tail_pb</th>\n",
       "      <th>final.output.tail_sol</th>\n",
       "      <th>final.output.tail_au</th>\n",
       "      <th>...</th>\n",
       "      <th>secondary_cleaner.state.floatbank4_a_air</th>\n",
       "      <th>secondary_cleaner.state.floatbank4_a_level</th>\n",
       "      <th>secondary_cleaner.state.floatbank4_b_air</th>\n",
       "      <th>secondary_cleaner.state.floatbank4_b_level</th>\n",
       "      <th>secondary_cleaner.state.floatbank5_a_air</th>\n",
       "      <th>secondary_cleaner.state.floatbank5_a_level</th>\n",
       "      <th>secondary_cleaner.state.floatbank5_b_air</th>\n",
       "      <th>secondary_cleaner.state.floatbank5_b_level</th>\n",
       "      <th>secondary_cleaner.state.floatbank6_a_air</th>\n",
       "      <th>secondary_cleaner.state.floatbank6_a_level</th>\n",
       "    </tr>\n",
       "  </thead>\n",
       "  <tbody>\n",
       "    <tr>\n",
       "      <th>0</th>\n",
       "      <td>2016-01-15 00:00:00</td>\n",
       "      <td>6.055403</td>\n",
       "      <td>9.889648</td>\n",
       "      <td>5.507324</td>\n",
       "      <td>42.192020</td>\n",
       "      <td>70.541216</td>\n",
       "      <td>10.411962</td>\n",
       "      <td>0.895447</td>\n",
       "      <td>16.904297</td>\n",
       "      <td>2.143149</td>\n",
       "      <td>...</td>\n",
       "      <td>14.016835</td>\n",
       "      <td>-502.488007</td>\n",
       "      <td>12.099931</td>\n",
       "      <td>-504.715942</td>\n",
       "      <td>9.925633</td>\n",
       "      <td>-498.310211</td>\n",
       "      <td>8.079666</td>\n",
       "      <td>-500.470978</td>\n",
       "      <td>14.151341</td>\n",
       "      <td>-605.841980</td>\n",
       "    </tr>\n",
       "    <tr>\n",
       "      <th>1</th>\n",
       "      <td>2016-01-15 01:00:00</td>\n",
       "      <td>6.029369</td>\n",
       "      <td>9.968944</td>\n",
       "      <td>5.257781</td>\n",
       "      <td>42.701629</td>\n",
       "      <td>69.266198</td>\n",
       "      <td>10.462676</td>\n",
       "      <td>0.927452</td>\n",
       "      <td>16.634514</td>\n",
       "      <td>2.224930</td>\n",
       "      <td>...</td>\n",
       "      <td>13.992281</td>\n",
       "      <td>-505.503262</td>\n",
       "      <td>11.950531</td>\n",
       "      <td>-501.331529</td>\n",
       "      <td>10.039245</td>\n",
       "      <td>-500.169983</td>\n",
       "      <td>7.984757</td>\n",
       "      <td>-500.582168</td>\n",
       "      <td>13.998353</td>\n",
       "      <td>-599.787184</td>\n",
       "    </tr>\n",
       "    <tr>\n",
       "      <th>2</th>\n",
       "      <td>2016-01-15 02:00:00</td>\n",
       "      <td>6.055926</td>\n",
       "      <td>10.213995</td>\n",
       "      <td>5.383759</td>\n",
       "      <td>42.657501</td>\n",
       "      <td>68.116445</td>\n",
       "      <td>10.507046</td>\n",
       "      <td>0.953716</td>\n",
       "      <td>16.208849</td>\n",
       "      <td>2.257889</td>\n",
       "      <td>...</td>\n",
       "      <td>14.015015</td>\n",
       "      <td>-502.520901</td>\n",
       "      <td>11.912783</td>\n",
       "      <td>-501.133383</td>\n",
       "      <td>10.070913</td>\n",
       "      <td>-500.129135</td>\n",
       "      <td>8.013877</td>\n",
       "      <td>-500.517572</td>\n",
       "      <td>14.028663</td>\n",
       "      <td>-601.427363</td>\n",
       "    </tr>\n",
       "    <tr>\n",
       "      <th>3</th>\n",
       "      <td>2016-01-15 03:00:00</td>\n",
       "      <td>6.047977</td>\n",
       "      <td>9.977019</td>\n",
       "      <td>4.858634</td>\n",
       "      <td>42.689819</td>\n",
       "      <td>68.347543</td>\n",
       "      <td>10.422762</td>\n",
       "      <td>0.883763</td>\n",
       "      <td>16.532835</td>\n",
       "      <td>2.146849</td>\n",
       "      <td>...</td>\n",
       "      <td>14.036510</td>\n",
       "      <td>-500.857308</td>\n",
       "      <td>11.999550</td>\n",
       "      <td>-501.193686</td>\n",
       "      <td>9.970366</td>\n",
       "      <td>-499.201640</td>\n",
       "      <td>7.977324</td>\n",
       "      <td>-500.255908</td>\n",
       "      <td>14.005551</td>\n",
       "      <td>-599.996129</td>\n",
       "    </tr>\n",
       "    <tr>\n",
       "      <th>4</th>\n",
       "      <td>2016-01-15 04:00:00</td>\n",
       "      <td>6.148599</td>\n",
       "      <td>10.142511</td>\n",
       "      <td>4.939416</td>\n",
       "      <td>42.774141</td>\n",
       "      <td>66.927016</td>\n",
       "      <td>10.360302</td>\n",
       "      <td>0.792826</td>\n",
       "      <td>16.525686</td>\n",
       "      <td>2.055292</td>\n",
       "      <td>...</td>\n",
       "      <td>14.027298</td>\n",
       "      <td>-499.838632</td>\n",
       "      <td>11.953070</td>\n",
       "      <td>-501.053894</td>\n",
       "      <td>9.925709</td>\n",
       "      <td>-501.686727</td>\n",
       "      <td>7.894242</td>\n",
       "      <td>-500.356035</td>\n",
       "      <td>13.996647</td>\n",
       "      <td>-601.496691</td>\n",
       "    </tr>\n",
       "  </tbody>\n",
       "</table>\n",
       "<p>5 rows × 87 columns</p>\n",
       "</div>"
      ],
      "text/plain": [
       "                  date  final.output.concentrate_ag  \\\n",
       "0  2016-01-15 00:00:00                     6.055403   \n",
       "1  2016-01-15 01:00:00                     6.029369   \n",
       "2  2016-01-15 02:00:00                     6.055926   \n",
       "3  2016-01-15 03:00:00                     6.047977   \n",
       "4  2016-01-15 04:00:00                     6.148599   \n",
       "\n",
       "   final.output.concentrate_pb  final.output.concentrate_sol  \\\n",
       "0                     9.889648                      5.507324   \n",
       "1                     9.968944                      5.257781   \n",
       "2                    10.213995                      5.383759   \n",
       "3                     9.977019                      4.858634   \n",
       "4                    10.142511                      4.939416   \n",
       "\n",
       "   final.output.concentrate_au  final.output.recovery  final.output.tail_ag  \\\n",
       "0                    42.192020              70.541216             10.411962   \n",
       "1                    42.701629              69.266198             10.462676   \n",
       "2                    42.657501              68.116445             10.507046   \n",
       "3                    42.689819              68.347543             10.422762   \n",
       "4                    42.774141              66.927016             10.360302   \n",
       "\n",
       "   final.output.tail_pb  final.output.tail_sol  final.output.tail_au  ...  \\\n",
       "0              0.895447              16.904297              2.143149  ...   \n",
       "1              0.927452              16.634514              2.224930  ...   \n",
       "2              0.953716              16.208849              2.257889  ...   \n",
       "3              0.883763              16.532835              2.146849  ...   \n",
       "4              0.792826              16.525686              2.055292  ...   \n",
       "\n",
       "   secondary_cleaner.state.floatbank4_a_air  \\\n",
       "0                                 14.016835   \n",
       "1                                 13.992281   \n",
       "2                                 14.015015   \n",
       "3                                 14.036510   \n",
       "4                                 14.027298   \n",
       "\n",
       "   secondary_cleaner.state.floatbank4_a_level  \\\n",
       "0                                 -502.488007   \n",
       "1                                 -505.503262   \n",
       "2                                 -502.520901   \n",
       "3                                 -500.857308   \n",
       "4                                 -499.838632   \n",
       "\n",
       "   secondary_cleaner.state.floatbank4_b_air  \\\n",
       "0                                 12.099931   \n",
       "1                                 11.950531   \n",
       "2                                 11.912783   \n",
       "3                                 11.999550   \n",
       "4                                 11.953070   \n",
       "\n",
       "   secondary_cleaner.state.floatbank4_b_level  \\\n",
       "0                                 -504.715942   \n",
       "1                                 -501.331529   \n",
       "2                                 -501.133383   \n",
       "3                                 -501.193686   \n",
       "4                                 -501.053894   \n",
       "\n",
       "   secondary_cleaner.state.floatbank5_a_air  \\\n",
       "0                                  9.925633   \n",
       "1                                 10.039245   \n",
       "2                                 10.070913   \n",
       "3                                  9.970366   \n",
       "4                                  9.925709   \n",
       "\n",
       "   secondary_cleaner.state.floatbank5_a_level  \\\n",
       "0                                 -498.310211   \n",
       "1                                 -500.169983   \n",
       "2                                 -500.129135   \n",
       "3                                 -499.201640   \n",
       "4                                 -501.686727   \n",
       "\n",
       "   secondary_cleaner.state.floatbank5_b_air  \\\n",
       "0                                  8.079666   \n",
       "1                                  7.984757   \n",
       "2                                  8.013877   \n",
       "3                                  7.977324   \n",
       "4                                  7.894242   \n",
       "\n",
       "   secondary_cleaner.state.floatbank5_b_level  \\\n",
       "0                                 -500.470978   \n",
       "1                                 -500.582168   \n",
       "2                                 -500.517572   \n",
       "3                                 -500.255908   \n",
       "4                                 -500.356035   \n",
       "\n",
       "   secondary_cleaner.state.floatbank6_a_air  \\\n",
       "0                                 14.151341   \n",
       "1                                 13.998353   \n",
       "2                                 14.028663   \n",
       "3                                 14.005551   \n",
       "4                                 13.996647   \n",
       "\n",
       "   secondary_cleaner.state.floatbank6_a_level  \n",
       "0                                 -605.841980  \n",
       "1                                 -599.787184  \n",
       "2                                 -601.427363  \n",
       "3                                 -599.996129  \n",
       "4                                 -601.496691  \n",
       "\n",
       "[5 rows x 87 columns]"
      ]
     },
     "execution_count": 507,
     "metadata": {},
     "output_type": "execute_result"
    }
   ],
   "source": [
    "try:\n",
    "    gold_train = pd.read_csv('/datasets/gold_recovery_train_new.csv')\n",
    "except:\n",
    "    print('Ошибка. Проверьте правильность пути к данным')\n",
    "gold_train.head()"
   ]
  },
  {
   "cell_type": "code",
   "execution_count": 508,
   "metadata": {},
   "outputs": [
    {
     "name": "stdout",
     "output_type": "stream",
     "text": [
      "<class 'pandas.core.frame.DataFrame'>\n",
      "RangeIndex: 14149 entries, 0 to 14148\n",
      "Data columns (total 87 columns):\n",
      " #   Column                                              Non-Null Count  Dtype  \n",
      "---  ------                                              --------------  -----  \n",
      " 0   date                                                14149 non-null  object \n",
      " 1   final.output.concentrate_ag                         14148 non-null  float64\n",
      " 2   final.output.concentrate_pb                         14148 non-null  float64\n",
      " 3   final.output.concentrate_sol                        13938 non-null  float64\n",
      " 4   final.output.concentrate_au                         14149 non-null  float64\n",
      " 5   final.output.recovery                               14149 non-null  float64\n",
      " 6   final.output.tail_ag                                14149 non-null  float64\n",
      " 7   final.output.tail_pb                                14049 non-null  float64\n",
      " 8   final.output.tail_sol                               14144 non-null  float64\n",
      " 9   final.output.tail_au                                14149 non-null  float64\n",
      " 10  primary_cleaner.input.sulfate                       14129 non-null  float64\n",
      " 11  primary_cleaner.input.depressant                    14117 non-null  float64\n",
      " 12  primary_cleaner.input.feed_size                     14149 non-null  float64\n",
      " 13  primary_cleaner.input.xanthate                      14049 non-null  float64\n",
      " 14  primary_cleaner.output.concentrate_ag               14149 non-null  float64\n",
      " 15  primary_cleaner.output.concentrate_pb               14063 non-null  float64\n",
      " 16  primary_cleaner.output.concentrate_sol              13863 non-null  float64\n",
      " 17  primary_cleaner.output.concentrate_au               14149 non-null  float64\n",
      " 18  primary_cleaner.output.tail_ag                      14148 non-null  float64\n",
      " 19  primary_cleaner.output.tail_pb                      14134 non-null  float64\n",
      " 20  primary_cleaner.output.tail_sol                     14103 non-null  float64\n",
      " 21  primary_cleaner.output.tail_au                      14149 non-null  float64\n",
      " 22  primary_cleaner.state.floatbank8_a_air              14145 non-null  float64\n",
      " 23  primary_cleaner.state.floatbank8_a_level            14148 non-null  float64\n",
      " 24  primary_cleaner.state.floatbank8_b_air              14145 non-null  float64\n",
      " 25  primary_cleaner.state.floatbank8_b_level            14148 non-null  float64\n",
      " 26  primary_cleaner.state.floatbank8_c_air              14147 non-null  float64\n",
      " 27  primary_cleaner.state.floatbank8_c_level            14148 non-null  float64\n",
      " 28  primary_cleaner.state.floatbank8_d_air              14146 non-null  float64\n",
      " 29  primary_cleaner.state.floatbank8_d_level            14148 non-null  float64\n",
      " 30  rougher.calculation.sulfate_to_au_concentrate       14148 non-null  float64\n",
      " 31  rougher.calculation.floatbank10_sulfate_to_au_feed  14148 non-null  float64\n",
      " 32  rougher.calculation.floatbank11_sulfate_to_au_feed  14148 non-null  float64\n",
      " 33  rougher.calculation.au_pb_ratio                     14149 non-null  float64\n",
      " 34  rougher.input.feed_ag                               14149 non-null  float64\n",
      " 35  rougher.input.feed_pb                               14049 non-null  float64\n",
      " 36  rougher.input.feed_rate                             14141 non-null  float64\n",
      " 37  rougher.input.feed_size                             14005 non-null  float64\n",
      " 38  rougher.input.feed_sol                              14071 non-null  float64\n",
      " 39  rougher.input.feed_au                               14149 non-null  float64\n",
      " 40  rougher.input.floatbank10_sulfate                   14120 non-null  float64\n",
      " 41  rougher.input.floatbank10_xanthate                  14141 non-null  float64\n",
      " 42  rougher.input.floatbank11_sulfate                   14113 non-null  float64\n",
      " 43  rougher.input.floatbank11_xanthate                  13721 non-null  float64\n",
      " 44  rougher.output.concentrate_ag                       14149 non-null  float64\n",
      " 45  rougher.output.concentrate_pb                       14149 non-null  float64\n",
      " 46  rougher.output.concentrate_sol                      14127 non-null  float64\n",
      " 47  rougher.output.concentrate_au                       14149 non-null  float64\n",
      " 48  rougher.output.recovery                             14149 non-null  float64\n",
      " 49  rougher.output.tail_ag                              14148 non-null  float64\n",
      " 50  rougher.output.tail_pb                              14149 non-null  float64\n",
      " 51  rougher.output.tail_sol                             14149 non-null  float64\n",
      " 52  rougher.output.tail_au                              14149 non-null  float64\n",
      " 53  rougher.state.floatbank10_a_air                     14148 non-null  float64\n",
      " 54  rougher.state.floatbank10_a_level                   14148 non-null  float64\n",
      " 55  rougher.state.floatbank10_b_air                     14148 non-null  float64\n",
      " 56  rougher.state.floatbank10_b_level                   14148 non-null  float64\n",
      " 57  rougher.state.floatbank10_c_air                     14148 non-null  float64\n",
      " 58  rougher.state.floatbank10_c_level                   14148 non-null  float64\n",
      " 59  rougher.state.floatbank10_d_air                     14149 non-null  float64\n",
      " 60  rougher.state.floatbank10_d_level                   14149 non-null  float64\n",
      " 61  rougher.state.floatbank10_e_air                     13713 non-null  float64\n",
      " 62  rougher.state.floatbank10_e_level                   14149 non-null  float64\n",
      " 63  rougher.state.floatbank10_f_air                     14149 non-null  float64\n",
      " 64  rougher.state.floatbank10_f_level                   14149 non-null  float64\n",
      " 65  secondary_cleaner.output.tail_ag                    14147 non-null  float64\n",
      " 66  secondary_cleaner.output.tail_pb                    14139 non-null  float64\n",
      " 67  secondary_cleaner.output.tail_sol                   12544 non-null  float64\n",
      " 68  secondary_cleaner.output.tail_au                    14149 non-null  float64\n",
      " 69  secondary_cleaner.state.floatbank2_a_air            13932 non-null  float64\n",
      " 70  secondary_cleaner.state.floatbank2_a_level          14148 non-null  float64\n",
      " 71  secondary_cleaner.state.floatbank2_b_air            14128 non-null  float64\n",
      " 72  secondary_cleaner.state.floatbank2_b_level          14148 non-null  float64\n",
      " 73  secondary_cleaner.state.floatbank3_a_air            14145 non-null  float64\n",
      " 74  secondary_cleaner.state.floatbank3_a_level          14148 non-null  float64\n",
      " 75  secondary_cleaner.state.floatbank3_b_air            14148 non-null  float64\n",
      " 76  secondary_cleaner.state.floatbank3_b_level          14148 non-null  float64\n",
      " 77  secondary_cleaner.state.floatbank4_a_air            14143 non-null  float64\n",
      " 78  secondary_cleaner.state.floatbank4_a_level          14148 non-null  float64\n",
      " 79  secondary_cleaner.state.floatbank4_b_air            14148 non-null  float64\n",
      " 80  secondary_cleaner.state.floatbank4_b_level          14148 non-null  float64\n",
      " 81  secondary_cleaner.state.floatbank5_a_air            14148 non-null  float64\n",
      " 82  secondary_cleaner.state.floatbank5_a_level          14148 non-null  float64\n",
      " 83  secondary_cleaner.state.floatbank5_b_air            14148 non-null  float64\n",
      " 84  secondary_cleaner.state.floatbank5_b_level          14148 non-null  float64\n",
      " 85  secondary_cleaner.state.floatbank6_a_air            14147 non-null  float64\n",
      " 86  secondary_cleaner.state.floatbank6_a_level          14148 non-null  float64\n",
      "dtypes: float64(86), object(1)\n",
      "memory usage: 9.4+ MB\n"
     ]
    }
   ],
   "source": [
    "gold_train.info()"
   ]
  },
  {
   "cell_type": "code",
   "execution_count": 509,
   "metadata": {},
   "outputs": [
    {
     "data": {
      "text/html": [
       "<div>\n",
       "<style scoped>\n",
       "    .dataframe tbody tr th:only-of-type {\n",
       "        vertical-align: middle;\n",
       "    }\n",
       "\n",
       "    .dataframe tbody tr th {\n",
       "        vertical-align: top;\n",
       "    }\n",
       "\n",
       "    .dataframe thead th {\n",
       "        text-align: right;\n",
       "    }\n",
       "</style>\n",
       "<table border=\"1\" class=\"dataframe\">\n",
       "  <thead>\n",
       "    <tr style=\"text-align: right;\">\n",
       "      <th></th>\n",
       "      <th>final.output.concentrate_ag</th>\n",
       "      <th>final.output.concentrate_pb</th>\n",
       "      <th>final.output.concentrate_sol</th>\n",
       "      <th>final.output.concentrate_au</th>\n",
       "      <th>final.output.recovery</th>\n",
       "      <th>final.output.tail_ag</th>\n",
       "      <th>final.output.tail_pb</th>\n",
       "      <th>final.output.tail_sol</th>\n",
       "      <th>final.output.tail_au</th>\n",
       "      <th>primary_cleaner.input.sulfate</th>\n",
       "      <th>...</th>\n",
       "      <th>secondary_cleaner.state.floatbank4_a_air</th>\n",
       "      <th>secondary_cleaner.state.floatbank4_a_level</th>\n",
       "      <th>secondary_cleaner.state.floatbank4_b_air</th>\n",
       "      <th>secondary_cleaner.state.floatbank4_b_level</th>\n",
       "      <th>secondary_cleaner.state.floatbank5_a_air</th>\n",
       "      <th>secondary_cleaner.state.floatbank5_a_level</th>\n",
       "      <th>secondary_cleaner.state.floatbank5_b_air</th>\n",
       "      <th>secondary_cleaner.state.floatbank5_b_level</th>\n",
       "      <th>secondary_cleaner.state.floatbank6_a_air</th>\n",
       "      <th>secondary_cleaner.state.floatbank6_a_level</th>\n",
       "    </tr>\n",
       "  </thead>\n",
       "  <tbody>\n",
       "    <tr>\n",
       "      <th>count</th>\n",
       "      <td>14148.000000</td>\n",
       "      <td>14148.000000</td>\n",
       "      <td>13938.000000</td>\n",
       "      <td>14149.000000</td>\n",
       "      <td>14149.000000</td>\n",
       "      <td>14149.000000</td>\n",
       "      <td>14049.000000</td>\n",
       "      <td>14144.000000</td>\n",
       "      <td>14149.000000</td>\n",
       "      <td>14129.000000</td>\n",
       "      <td>...</td>\n",
       "      <td>14143.000000</td>\n",
       "      <td>14148.000000</td>\n",
       "      <td>14148.000000</td>\n",
       "      <td>14148.000000</td>\n",
       "      <td>14148.000000</td>\n",
       "      <td>14148.000000</td>\n",
       "      <td>14148.000000</td>\n",
       "      <td>14148.000000</td>\n",
       "      <td>14147.000000</td>\n",
       "      <td>14148.000000</td>\n",
       "    </tr>\n",
       "    <tr>\n",
       "      <th>mean</th>\n",
       "      <td>5.142034</td>\n",
       "      <td>10.132960</td>\n",
       "      <td>9.202849</td>\n",
       "      <td>44.003792</td>\n",
       "      <td>66.518832</td>\n",
       "      <td>9.607035</td>\n",
       "      <td>2.597298</td>\n",
       "      <td>10.512122</td>\n",
       "      <td>2.918421</td>\n",
       "      <td>133.320659</td>\n",
       "      <td>...</td>\n",
       "      <td>19.985454</td>\n",
       "      <td>-478.696836</td>\n",
       "      <td>15.487065</td>\n",
       "      <td>-460.229416</td>\n",
       "      <td>16.775136</td>\n",
       "      <td>-483.956022</td>\n",
       "      <td>13.064590</td>\n",
       "      <td>-483.966564</td>\n",
       "      <td>19.577539</td>\n",
       "      <td>-506.798480</td>\n",
       "    </tr>\n",
       "    <tr>\n",
       "      <th>std</th>\n",
       "      <td>1.369586</td>\n",
       "      <td>1.654930</td>\n",
       "      <td>2.790516</td>\n",
       "      <td>4.905261</td>\n",
       "      <td>10.295402</td>\n",
       "      <td>2.319069</td>\n",
       "      <td>0.971843</td>\n",
       "      <td>3.003617</td>\n",
       "      <td>0.903712</td>\n",
       "      <td>39.431659</td>\n",
       "      <td>...</td>\n",
       "      <td>5.657723</td>\n",
       "      <td>50.736021</td>\n",
       "      <td>5.255655</td>\n",
       "      <td>58.843586</td>\n",
       "      <td>5.831906</td>\n",
       "      <td>37.892788</td>\n",
       "      <td>5.765617</td>\n",
       "      <td>39.207913</td>\n",
       "      <td>5.764417</td>\n",
       "      <td>37.079249</td>\n",
       "    </tr>\n",
       "    <tr>\n",
       "      <th>min</th>\n",
       "      <td>0.000000</td>\n",
       "      <td>0.000000</td>\n",
       "      <td>0.000000</td>\n",
       "      <td>0.000000</td>\n",
       "      <td>0.000000</td>\n",
       "      <td>0.000000</td>\n",
       "      <td>0.000000</td>\n",
       "      <td>0.000000</td>\n",
       "      <td>0.000000</td>\n",
       "      <td>0.003112</td>\n",
       "      <td>...</td>\n",
       "      <td>0.000000</td>\n",
       "      <td>-799.709069</td>\n",
       "      <td>0.000000</td>\n",
       "      <td>-799.889113</td>\n",
       "      <td>-0.372054</td>\n",
       "      <td>-797.142475</td>\n",
       "      <td>0.646208</td>\n",
       "      <td>-800.006180</td>\n",
       "      <td>0.195324</td>\n",
       "      <td>-809.398668</td>\n",
       "    </tr>\n",
       "    <tr>\n",
       "      <th>25%</th>\n",
       "      <td>4.211620</td>\n",
       "      <td>9.297355</td>\n",
       "      <td>7.484645</td>\n",
       "      <td>43.276111</td>\n",
       "      <td>62.545817</td>\n",
       "      <td>7.997429</td>\n",
       "      <td>1.905973</td>\n",
       "      <td>8.811324</td>\n",
       "      <td>2.368607</td>\n",
       "      <td>107.006651</td>\n",
       "      <td>...</td>\n",
       "      <td>14.990775</td>\n",
       "      <td>-500.628656</td>\n",
       "      <td>11.894558</td>\n",
       "      <td>-500.149000</td>\n",
       "      <td>11.083980</td>\n",
       "      <td>-500.363177</td>\n",
       "      <td>8.994405</td>\n",
       "      <td>-500.105994</td>\n",
       "      <td>14.989304</td>\n",
       "      <td>-500.745104</td>\n",
       "    </tr>\n",
       "    <tr>\n",
       "      <th>50%</th>\n",
       "      <td>4.994652</td>\n",
       "      <td>10.297144</td>\n",
       "      <td>8.845462</td>\n",
       "      <td>44.872436</td>\n",
       "      <td>67.432775</td>\n",
       "      <td>9.480270</td>\n",
       "      <td>2.592022</td>\n",
       "      <td>10.514621</td>\n",
       "      <td>2.851025</td>\n",
       "      <td>133.018328</td>\n",
       "      <td>...</td>\n",
       "      <td>20.001789</td>\n",
       "      <td>-499.681450</td>\n",
       "      <td>14.975536</td>\n",
       "      <td>-499.388738</td>\n",
       "      <td>17.932223</td>\n",
       "      <td>-499.702452</td>\n",
       "      <td>11.997547</td>\n",
       "      <td>-499.914556</td>\n",
       "      <td>19.984175</td>\n",
       "      <td>-500.061431</td>\n",
       "    </tr>\n",
       "    <tr>\n",
       "      <th>75%</th>\n",
       "      <td>5.859540</td>\n",
       "      <td>11.170603</td>\n",
       "      <td>10.487508</td>\n",
       "      <td>46.166425</td>\n",
       "      <td>72.346428</td>\n",
       "      <td>11.003707</td>\n",
       "      <td>3.241723</td>\n",
       "      <td>11.933009</td>\n",
       "      <td>3.434764</td>\n",
       "      <td>159.825396</td>\n",
       "      <td>...</td>\n",
       "      <td>24.990826</td>\n",
       "      <td>-477.472413</td>\n",
       "      <td>20.059375</td>\n",
       "      <td>-400.039008</td>\n",
       "      <td>21.346550</td>\n",
       "      <td>-487.712108</td>\n",
       "      <td>17.982903</td>\n",
       "      <td>-453.186936</td>\n",
       "      <td>24.991623</td>\n",
       "      <td>-499.536466</td>\n",
       "    </tr>\n",
       "    <tr>\n",
       "      <th>max</th>\n",
       "      <td>16.001945</td>\n",
       "      <td>17.031899</td>\n",
       "      <td>18.124851</td>\n",
       "      <td>52.756638</td>\n",
       "      <td>100.000000</td>\n",
       "      <td>19.552149</td>\n",
       "      <td>5.639565</td>\n",
       "      <td>22.317730</td>\n",
       "      <td>8.197408</td>\n",
       "      <td>250.127834</td>\n",
       "      <td>...</td>\n",
       "      <td>30.115735</td>\n",
       "      <td>-245.239184</td>\n",
       "      <td>24.007913</td>\n",
       "      <td>-145.071088</td>\n",
       "      <td>43.709931</td>\n",
       "      <td>-275.073125</td>\n",
       "      <td>27.926001</td>\n",
       "      <td>-157.396071</td>\n",
       "      <td>32.188906</td>\n",
       "      <td>-104.427459</td>\n",
       "    </tr>\n",
       "  </tbody>\n",
       "</table>\n",
       "<p>8 rows × 86 columns</p>\n",
       "</div>"
      ],
      "text/plain": [
       "       final.output.concentrate_ag  final.output.concentrate_pb  \\\n",
       "count                 14148.000000                 14148.000000   \n",
       "mean                      5.142034                    10.132960   \n",
       "std                       1.369586                     1.654930   \n",
       "min                       0.000000                     0.000000   \n",
       "25%                       4.211620                     9.297355   \n",
       "50%                       4.994652                    10.297144   \n",
       "75%                       5.859540                    11.170603   \n",
       "max                      16.001945                    17.031899   \n",
       "\n",
       "       final.output.concentrate_sol  final.output.concentrate_au  \\\n",
       "count                  13938.000000                 14149.000000   \n",
       "mean                       9.202849                    44.003792   \n",
       "std                        2.790516                     4.905261   \n",
       "min                        0.000000                     0.000000   \n",
       "25%                        7.484645                    43.276111   \n",
       "50%                        8.845462                    44.872436   \n",
       "75%                       10.487508                    46.166425   \n",
       "max                       18.124851                    52.756638   \n",
       "\n",
       "       final.output.recovery  final.output.tail_ag  final.output.tail_pb  \\\n",
       "count           14149.000000          14149.000000          14049.000000   \n",
       "mean               66.518832              9.607035              2.597298   \n",
       "std                10.295402              2.319069              0.971843   \n",
       "min                 0.000000              0.000000              0.000000   \n",
       "25%                62.545817              7.997429              1.905973   \n",
       "50%                67.432775              9.480270              2.592022   \n",
       "75%                72.346428             11.003707              3.241723   \n",
       "max               100.000000             19.552149              5.639565   \n",
       "\n",
       "       final.output.tail_sol  final.output.tail_au  \\\n",
       "count           14144.000000          14149.000000   \n",
       "mean               10.512122              2.918421   \n",
       "std                 3.003617              0.903712   \n",
       "min                 0.000000              0.000000   \n",
       "25%                 8.811324              2.368607   \n",
       "50%                10.514621              2.851025   \n",
       "75%                11.933009              3.434764   \n",
       "max                22.317730              8.197408   \n",
       "\n",
       "       primary_cleaner.input.sulfate  ...  \\\n",
       "count                   14129.000000  ...   \n",
       "mean                      133.320659  ...   \n",
       "std                        39.431659  ...   \n",
       "min                         0.003112  ...   \n",
       "25%                       107.006651  ...   \n",
       "50%                       133.018328  ...   \n",
       "75%                       159.825396  ...   \n",
       "max                       250.127834  ...   \n",
       "\n",
       "       secondary_cleaner.state.floatbank4_a_air  \\\n",
       "count                              14143.000000   \n",
       "mean                                  19.985454   \n",
       "std                                    5.657723   \n",
       "min                                    0.000000   \n",
       "25%                                   14.990775   \n",
       "50%                                   20.001789   \n",
       "75%                                   24.990826   \n",
       "max                                   30.115735   \n",
       "\n",
       "       secondary_cleaner.state.floatbank4_a_level  \\\n",
       "count                                14148.000000   \n",
       "mean                                  -478.696836   \n",
       "std                                     50.736021   \n",
       "min                                   -799.709069   \n",
       "25%                                   -500.628656   \n",
       "50%                                   -499.681450   \n",
       "75%                                   -477.472413   \n",
       "max                                   -245.239184   \n",
       "\n",
       "       secondary_cleaner.state.floatbank4_b_air  \\\n",
       "count                              14148.000000   \n",
       "mean                                  15.487065   \n",
       "std                                    5.255655   \n",
       "min                                    0.000000   \n",
       "25%                                   11.894558   \n",
       "50%                                   14.975536   \n",
       "75%                                   20.059375   \n",
       "max                                   24.007913   \n",
       "\n",
       "       secondary_cleaner.state.floatbank4_b_level  \\\n",
       "count                                14148.000000   \n",
       "mean                                  -460.229416   \n",
       "std                                     58.843586   \n",
       "min                                   -799.889113   \n",
       "25%                                   -500.149000   \n",
       "50%                                   -499.388738   \n",
       "75%                                   -400.039008   \n",
       "max                                   -145.071088   \n",
       "\n",
       "       secondary_cleaner.state.floatbank5_a_air  \\\n",
       "count                              14148.000000   \n",
       "mean                                  16.775136   \n",
       "std                                    5.831906   \n",
       "min                                   -0.372054   \n",
       "25%                                   11.083980   \n",
       "50%                                   17.932223   \n",
       "75%                                   21.346550   \n",
       "max                                   43.709931   \n",
       "\n",
       "       secondary_cleaner.state.floatbank5_a_level  \\\n",
       "count                                14148.000000   \n",
       "mean                                  -483.956022   \n",
       "std                                     37.892788   \n",
       "min                                   -797.142475   \n",
       "25%                                   -500.363177   \n",
       "50%                                   -499.702452   \n",
       "75%                                   -487.712108   \n",
       "max                                   -275.073125   \n",
       "\n",
       "       secondary_cleaner.state.floatbank5_b_air  \\\n",
       "count                              14148.000000   \n",
       "mean                                  13.064590   \n",
       "std                                    5.765617   \n",
       "min                                    0.646208   \n",
       "25%                                    8.994405   \n",
       "50%                                   11.997547   \n",
       "75%                                   17.982903   \n",
       "max                                   27.926001   \n",
       "\n",
       "       secondary_cleaner.state.floatbank5_b_level  \\\n",
       "count                                14148.000000   \n",
       "mean                                  -483.966564   \n",
       "std                                     39.207913   \n",
       "min                                   -800.006180   \n",
       "25%                                   -500.105994   \n",
       "50%                                   -499.914556   \n",
       "75%                                   -453.186936   \n",
       "max                                   -157.396071   \n",
       "\n",
       "       secondary_cleaner.state.floatbank6_a_air  \\\n",
       "count                              14147.000000   \n",
       "mean                                  19.577539   \n",
       "std                                    5.764417   \n",
       "min                                    0.195324   \n",
       "25%                                   14.989304   \n",
       "50%                                   19.984175   \n",
       "75%                                   24.991623   \n",
       "max                                   32.188906   \n",
       "\n",
       "       secondary_cleaner.state.floatbank6_a_level  \n",
       "count                                14148.000000  \n",
       "mean                                  -506.798480  \n",
       "std                                     37.079249  \n",
       "min                                   -809.398668  \n",
       "25%                                   -500.745104  \n",
       "50%                                   -500.061431  \n",
       "75%                                   -499.536466  \n",
       "max                                   -104.427459  \n",
       "\n",
       "[8 rows x 86 columns]"
      ]
     },
     "execution_count": 509,
     "metadata": {},
     "output_type": "execute_result"
    }
   ],
   "source": [
    "gold_train.describe()"
   ]
  },
  {
   "cell_type": "markdown",
   "metadata": {},
   "source": [
    "Импортируем данные тестовой выборки"
   ]
  },
  {
   "cell_type": "code",
   "execution_count": 510,
   "metadata": {},
   "outputs": [
    {
     "data": {
      "text/html": [
       "<div>\n",
       "<style scoped>\n",
       "    .dataframe tbody tr th:only-of-type {\n",
       "        vertical-align: middle;\n",
       "    }\n",
       "\n",
       "    .dataframe tbody tr th {\n",
       "        vertical-align: top;\n",
       "    }\n",
       "\n",
       "    .dataframe thead th {\n",
       "        text-align: right;\n",
       "    }\n",
       "</style>\n",
       "<table border=\"1\" class=\"dataframe\">\n",
       "  <thead>\n",
       "    <tr style=\"text-align: right;\">\n",
       "      <th></th>\n",
       "      <th>date</th>\n",
       "      <th>primary_cleaner.input.sulfate</th>\n",
       "      <th>primary_cleaner.input.depressant</th>\n",
       "      <th>primary_cleaner.input.feed_size</th>\n",
       "      <th>primary_cleaner.input.xanthate</th>\n",
       "      <th>primary_cleaner.state.floatbank8_a_air</th>\n",
       "      <th>primary_cleaner.state.floatbank8_a_level</th>\n",
       "      <th>primary_cleaner.state.floatbank8_b_air</th>\n",
       "      <th>primary_cleaner.state.floatbank8_b_level</th>\n",
       "      <th>primary_cleaner.state.floatbank8_c_air</th>\n",
       "      <th>...</th>\n",
       "      <th>secondary_cleaner.state.floatbank4_a_air</th>\n",
       "      <th>secondary_cleaner.state.floatbank4_a_level</th>\n",
       "      <th>secondary_cleaner.state.floatbank4_b_air</th>\n",
       "      <th>secondary_cleaner.state.floatbank4_b_level</th>\n",
       "      <th>secondary_cleaner.state.floatbank5_a_air</th>\n",
       "      <th>secondary_cleaner.state.floatbank5_a_level</th>\n",
       "      <th>secondary_cleaner.state.floatbank5_b_air</th>\n",
       "      <th>secondary_cleaner.state.floatbank5_b_level</th>\n",
       "      <th>secondary_cleaner.state.floatbank6_a_air</th>\n",
       "      <th>secondary_cleaner.state.floatbank6_a_level</th>\n",
       "    </tr>\n",
       "  </thead>\n",
       "  <tbody>\n",
       "    <tr>\n",
       "      <th>0</th>\n",
       "      <td>2016-09-01 00:59:59</td>\n",
       "      <td>210.800909</td>\n",
       "      <td>14.993118</td>\n",
       "      <td>8.080000</td>\n",
       "      <td>1.005021</td>\n",
       "      <td>1398.981301</td>\n",
       "      <td>-500.225577</td>\n",
       "      <td>1399.144926</td>\n",
       "      <td>-499.919735</td>\n",
       "      <td>1400.102998</td>\n",
       "      <td>...</td>\n",
       "      <td>12.023554</td>\n",
       "      <td>-497.795834</td>\n",
       "      <td>8.016656</td>\n",
       "      <td>-501.289139</td>\n",
       "      <td>7.946562</td>\n",
       "      <td>-432.317850</td>\n",
       "      <td>4.872511</td>\n",
       "      <td>-500.037437</td>\n",
       "      <td>26.705889</td>\n",
       "      <td>-499.709414</td>\n",
       "    </tr>\n",
       "    <tr>\n",
       "      <th>1</th>\n",
       "      <td>2016-09-01 01:59:59</td>\n",
       "      <td>215.392455</td>\n",
       "      <td>14.987471</td>\n",
       "      <td>8.080000</td>\n",
       "      <td>0.990469</td>\n",
       "      <td>1398.777912</td>\n",
       "      <td>-500.057435</td>\n",
       "      <td>1398.055362</td>\n",
       "      <td>-499.778182</td>\n",
       "      <td>1396.151033</td>\n",
       "      <td>...</td>\n",
       "      <td>12.058140</td>\n",
       "      <td>-498.695773</td>\n",
       "      <td>8.130979</td>\n",
       "      <td>-499.634209</td>\n",
       "      <td>7.958270</td>\n",
       "      <td>-525.839648</td>\n",
       "      <td>4.878850</td>\n",
       "      <td>-500.162375</td>\n",
       "      <td>25.019940</td>\n",
       "      <td>-499.819438</td>\n",
       "    </tr>\n",
       "    <tr>\n",
       "      <th>2</th>\n",
       "      <td>2016-09-01 02:59:59</td>\n",
       "      <td>215.259946</td>\n",
       "      <td>12.884934</td>\n",
       "      <td>7.786667</td>\n",
       "      <td>0.996043</td>\n",
       "      <td>1398.493666</td>\n",
       "      <td>-500.868360</td>\n",
       "      <td>1398.860436</td>\n",
       "      <td>-499.764529</td>\n",
       "      <td>1398.075709</td>\n",
       "      <td>...</td>\n",
       "      <td>11.962366</td>\n",
       "      <td>-498.767484</td>\n",
       "      <td>8.096893</td>\n",
       "      <td>-500.827423</td>\n",
       "      <td>8.071056</td>\n",
       "      <td>-500.801673</td>\n",
       "      <td>4.905125</td>\n",
       "      <td>-499.828510</td>\n",
       "      <td>24.994862</td>\n",
       "      <td>-500.622559</td>\n",
       "    </tr>\n",
       "    <tr>\n",
       "      <th>3</th>\n",
       "      <td>2016-09-01 03:59:59</td>\n",
       "      <td>215.336236</td>\n",
       "      <td>12.006805</td>\n",
       "      <td>7.640000</td>\n",
       "      <td>0.863514</td>\n",
       "      <td>1399.618111</td>\n",
       "      <td>-498.863574</td>\n",
       "      <td>1397.440120</td>\n",
       "      <td>-499.211024</td>\n",
       "      <td>1400.129303</td>\n",
       "      <td>...</td>\n",
       "      <td>12.033091</td>\n",
       "      <td>-498.350935</td>\n",
       "      <td>8.074946</td>\n",
       "      <td>-499.474407</td>\n",
       "      <td>7.897085</td>\n",
       "      <td>-500.868509</td>\n",
       "      <td>4.931400</td>\n",
       "      <td>-499.963623</td>\n",
       "      <td>24.948919</td>\n",
       "      <td>-498.709987</td>\n",
       "    </tr>\n",
       "    <tr>\n",
       "      <th>4</th>\n",
       "      <td>2016-09-01 04:59:59</td>\n",
       "      <td>199.099327</td>\n",
       "      <td>10.682530</td>\n",
       "      <td>7.530000</td>\n",
       "      <td>0.805575</td>\n",
       "      <td>1401.268123</td>\n",
       "      <td>-500.808305</td>\n",
       "      <td>1398.128818</td>\n",
       "      <td>-499.504543</td>\n",
       "      <td>1402.172226</td>\n",
       "      <td>...</td>\n",
       "      <td>12.025367</td>\n",
       "      <td>-500.786497</td>\n",
       "      <td>8.054678</td>\n",
       "      <td>-500.397500</td>\n",
       "      <td>8.107890</td>\n",
       "      <td>-509.526725</td>\n",
       "      <td>4.957674</td>\n",
       "      <td>-500.360026</td>\n",
       "      <td>25.003331</td>\n",
       "      <td>-500.856333</td>\n",
       "    </tr>\n",
       "  </tbody>\n",
       "</table>\n",
       "<p>5 rows × 53 columns</p>\n",
       "</div>"
      ],
      "text/plain": [
       "                  date  primary_cleaner.input.sulfate  \\\n",
       "0  2016-09-01 00:59:59                     210.800909   \n",
       "1  2016-09-01 01:59:59                     215.392455   \n",
       "2  2016-09-01 02:59:59                     215.259946   \n",
       "3  2016-09-01 03:59:59                     215.336236   \n",
       "4  2016-09-01 04:59:59                     199.099327   \n",
       "\n",
       "   primary_cleaner.input.depressant  primary_cleaner.input.feed_size  \\\n",
       "0                         14.993118                         8.080000   \n",
       "1                         14.987471                         8.080000   \n",
       "2                         12.884934                         7.786667   \n",
       "3                         12.006805                         7.640000   \n",
       "4                         10.682530                         7.530000   \n",
       "\n",
       "   primary_cleaner.input.xanthate  primary_cleaner.state.floatbank8_a_air  \\\n",
       "0                        1.005021                             1398.981301   \n",
       "1                        0.990469                             1398.777912   \n",
       "2                        0.996043                             1398.493666   \n",
       "3                        0.863514                             1399.618111   \n",
       "4                        0.805575                             1401.268123   \n",
       "\n",
       "   primary_cleaner.state.floatbank8_a_level  \\\n",
       "0                               -500.225577   \n",
       "1                               -500.057435   \n",
       "2                               -500.868360   \n",
       "3                               -498.863574   \n",
       "4                               -500.808305   \n",
       "\n",
       "   primary_cleaner.state.floatbank8_b_air  \\\n",
       "0                             1399.144926   \n",
       "1                             1398.055362   \n",
       "2                             1398.860436   \n",
       "3                             1397.440120   \n",
       "4                             1398.128818   \n",
       "\n",
       "   primary_cleaner.state.floatbank8_b_level  \\\n",
       "0                               -499.919735   \n",
       "1                               -499.778182   \n",
       "2                               -499.764529   \n",
       "3                               -499.211024   \n",
       "4                               -499.504543   \n",
       "\n",
       "   primary_cleaner.state.floatbank8_c_air  ...  \\\n",
       "0                             1400.102998  ...   \n",
       "1                             1396.151033  ...   \n",
       "2                             1398.075709  ...   \n",
       "3                             1400.129303  ...   \n",
       "4                             1402.172226  ...   \n",
       "\n",
       "   secondary_cleaner.state.floatbank4_a_air  \\\n",
       "0                                 12.023554   \n",
       "1                                 12.058140   \n",
       "2                                 11.962366   \n",
       "3                                 12.033091   \n",
       "4                                 12.025367   \n",
       "\n",
       "   secondary_cleaner.state.floatbank4_a_level  \\\n",
       "0                                 -497.795834   \n",
       "1                                 -498.695773   \n",
       "2                                 -498.767484   \n",
       "3                                 -498.350935   \n",
       "4                                 -500.786497   \n",
       "\n",
       "   secondary_cleaner.state.floatbank4_b_air  \\\n",
       "0                                  8.016656   \n",
       "1                                  8.130979   \n",
       "2                                  8.096893   \n",
       "3                                  8.074946   \n",
       "4                                  8.054678   \n",
       "\n",
       "   secondary_cleaner.state.floatbank4_b_level  \\\n",
       "0                                 -501.289139   \n",
       "1                                 -499.634209   \n",
       "2                                 -500.827423   \n",
       "3                                 -499.474407   \n",
       "4                                 -500.397500   \n",
       "\n",
       "   secondary_cleaner.state.floatbank5_a_air  \\\n",
       "0                                  7.946562   \n",
       "1                                  7.958270   \n",
       "2                                  8.071056   \n",
       "3                                  7.897085   \n",
       "4                                  8.107890   \n",
       "\n",
       "   secondary_cleaner.state.floatbank5_a_level  \\\n",
       "0                                 -432.317850   \n",
       "1                                 -525.839648   \n",
       "2                                 -500.801673   \n",
       "3                                 -500.868509   \n",
       "4                                 -509.526725   \n",
       "\n",
       "   secondary_cleaner.state.floatbank5_b_air  \\\n",
       "0                                  4.872511   \n",
       "1                                  4.878850   \n",
       "2                                  4.905125   \n",
       "3                                  4.931400   \n",
       "4                                  4.957674   \n",
       "\n",
       "   secondary_cleaner.state.floatbank5_b_level  \\\n",
       "0                                 -500.037437   \n",
       "1                                 -500.162375   \n",
       "2                                 -499.828510   \n",
       "3                                 -499.963623   \n",
       "4                                 -500.360026   \n",
       "\n",
       "   secondary_cleaner.state.floatbank6_a_air  \\\n",
       "0                                 26.705889   \n",
       "1                                 25.019940   \n",
       "2                                 24.994862   \n",
       "3                                 24.948919   \n",
       "4                                 25.003331   \n",
       "\n",
       "   secondary_cleaner.state.floatbank6_a_level  \n",
       "0                                 -499.709414  \n",
       "1                                 -499.819438  \n",
       "2                                 -500.622559  \n",
       "3                                 -498.709987  \n",
       "4                                 -500.856333  \n",
       "\n",
       "[5 rows x 53 columns]"
      ]
     },
     "execution_count": 510,
     "metadata": {},
     "output_type": "execute_result"
    }
   ],
   "source": [
    "try:\n",
    "    gold_test = pd.read_csv('/datasets/gold_recovery_test_new.csv')\n",
    "except:\n",
    "    print('Ошибка. Проверьте правильность пути к данным')\n",
    "gold_test.head()"
   ]
  },
  {
   "cell_type": "code",
   "execution_count": 511,
   "metadata": {},
   "outputs": [
    {
     "name": "stdout",
     "output_type": "stream",
     "text": [
      "<class 'pandas.core.frame.DataFrame'>\n",
      "RangeIndex: 5290 entries, 0 to 5289\n",
      "Data columns (total 53 columns):\n",
      " #   Column                                      Non-Null Count  Dtype  \n",
      "---  ------                                      --------------  -----  \n",
      " 0   date                                        5290 non-null   object \n",
      " 1   primary_cleaner.input.sulfate               5286 non-null   float64\n",
      " 2   primary_cleaner.input.depressant            5285 non-null   float64\n",
      " 3   primary_cleaner.input.feed_size             5290 non-null   float64\n",
      " 4   primary_cleaner.input.xanthate              5286 non-null   float64\n",
      " 5   primary_cleaner.state.floatbank8_a_air      5290 non-null   float64\n",
      " 6   primary_cleaner.state.floatbank8_a_level    5290 non-null   float64\n",
      " 7   primary_cleaner.state.floatbank8_b_air      5290 non-null   float64\n",
      " 8   primary_cleaner.state.floatbank8_b_level    5290 non-null   float64\n",
      " 9   primary_cleaner.state.floatbank8_c_air      5290 non-null   float64\n",
      " 10  primary_cleaner.state.floatbank8_c_level    5290 non-null   float64\n",
      " 11  primary_cleaner.state.floatbank8_d_air      5290 non-null   float64\n",
      " 12  primary_cleaner.state.floatbank8_d_level    5290 non-null   float64\n",
      " 13  rougher.input.feed_ag                       5290 non-null   float64\n",
      " 14  rougher.input.feed_pb                       5290 non-null   float64\n",
      " 15  rougher.input.feed_rate                     5287 non-null   float64\n",
      " 16  rougher.input.feed_size                     5289 non-null   float64\n",
      " 17  rougher.input.feed_sol                      5269 non-null   float64\n",
      " 18  rougher.input.feed_au                       5290 non-null   float64\n",
      " 19  rougher.input.floatbank10_sulfate           5285 non-null   float64\n",
      " 20  rougher.input.floatbank10_xanthate          5290 non-null   float64\n",
      " 21  rougher.input.floatbank11_sulfate           5282 non-null   float64\n",
      " 22  rougher.input.floatbank11_xanthate          5265 non-null   float64\n",
      " 23  rougher.state.floatbank10_a_air             5290 non-null   float64\n",
      " 24  rougher.state.floatbank10_a_level           5290 non-null   float64\n",
      " 25  rougher.state.floatbank10_b_air             5290 non-null   float64\n",
      " 26  rougher.state.floatbank10_b_level           5290 non-null   float64\n",
      " 27  rougher.state.floatbank10_c_air             5290 non-null   float64\n",
      " 28  rougher.state.floatbank10_c_level           5290 non-null   float64\n",
      " 29  rougher.state.floatbank10_d_air             5290 non-null   float64\n",
      " 30  rougher.state.floatbank10_d_level           5290 non-null   float64\n",
      " 31  rougher.state.floatbank10_e_air             5290 non-null   float64\n",
      " 32  rougher.state.floatbank10_e_level           5290 non-null   float64\n",
      " 33  rougher.state.floatbank10_f_air             5290 non-null   float64\n",
      " 34  rougher.state.floatbank10_f_level           5290 non-null   float64\n",
      " 35  secondary_cleaner.state.floatbank2_a_air    5287 non-null   float64\n",
      " 36  secondary_cleaner.state.floatbank2_a_level  5290 non-null   float64\n",
      " 37  secondary_cleaner.state.floatbank2_b_air    5288 non-null   float64\n",
      " 38  secondary_cleaner.state.floatbank2_b_level  5290 non-null   float64\n",
      " 39  secondary_cleaner.state.floatbank3_a_air    5281 non-null   float64\n",
      " 40  secondary_cleaner.state.floatbank3_a_level  5290 non-null   float64\n",
      " 41  secondary_cleaner.state.floatbank3_b_air    5290 non-null   float64\n",
      " 42  secondary_cleaner.state.floatbank3_b_level  5290 non-null   float64\n",
      " 43  secondary_cleaner.state.floatbank4_a_air    5290 non-null   float64\n",
      " 44  secondary_cleaner.state.floatbank4_a_level  5290 non-null   float64\n",
      " 45  secondary_cleaner.state.floatbank4_b_air    5290 non-null   float64\n",
      " 46  secondary_cleaner.state.floatbank4_b_level  5290 non-null   float64\n",
      " 47  secondary_cleaner.state.floatbank5_a_air    5290 non-null   float64\n",
      " 48  secondary_cleaner.state.floatbank5_a_level  5290 non-null   float64\n",
      " 49  secondary_cleaner.state.floatbank5_b_air    5290 non-null   float64\n",
      " 50  secondary_cleaner.state.floatbank5_b_level  5290 non-null   float64\n",
      " 51  secondary_cleaner.state.floatbank6_a_air    5290 non-null   float64\n",
      " 52  secondary_cleaner.state.floatbank6_a_level  5290 non-null   float64\n",
      "dtypes: float64(52), object(1)\n",
      "memory usage: 2.1+ MB\n"
     ]
    }
   ],
   "source": [
    "gold_test.info()"
   ]
  },
  {
   "cell_type": "code",
   "execution_count": 512,
   "metadata": {},
   "outputs": [
    {
     "data": {
      "text/html": [
       "<div>\n",
       "<style scoped>\n",
       "    .dataframe tbody tr th:only-of-type {\n",
       "        vertical-align: middle;\n",
       "    }\n",
       "\n",
       "    .dataframe tbody tr th {\n",
       "        vertical-align: top;\n",
       "    }\n",
       "\n",
       "    .dataframe thead th {\n",
       "        text-align: right;\n",
       "    }\n",
       "</style>\n",
       "<table border=\"1\" class=\"dataframe\">\n",
       "  <thead>\n",
       "    <tr style=\"text-align: right;\">\n",
       "      <th></th>\n",
       "      <th>primary_cleaner.input.sulfate</th>\n",
       "      <th>primary_cleaner.input.depressant</th>\n",
       "      <th>primary_cleaner.input.feed_size</th>\n",
       "      <th>primary_cleaner.input.xanthate</th>\n",
       "      <th>primary_cleaner.state.floatbank8_a_air</th>\n",
       "      <th>primary_cleaner.state.floatbank8_a_level</th>\n",
       "      <th>primary_cleaner.state.floatbank8_b_air</th>\n",
       "      <th>primary_cleaner.state.floatbank8_b_level</th>\n",
       "      <th>primary_cleaner.state.floatbank8_c_air</th>\n",
       "      <th>primary_cleaner.state.floatbank8_c_level</th>\n",
       "      <th>...</th>\n",
       "      <th>secondary_cleaner.state.floatbank4_a_air</th>\n",
       "      <th>secondary_cleaner.state.floatbank4_a_level</th>\n",
       "      <th>secondary_cleaner.state.floatbank4_b_air</th>\n",
       "      <th>secondary_cleaner.state.floatbank4_b_level</th>\n",
       "      <th>secondary_cleaner.state.floatbank5_a_air</th>\n",
       "      <th>secondary_cleaner.state.floatbank5_a_level</th>\n",
       "      <th>secondary_cleaner.state.floatbank5_b_air</th>\n",
       "      <th>secondary_cleaner.state.floatbank5_b_level</th>\n",
       "      <th>secondary_cleaner.state.floatbank6_a_air</th>\n",
       "      <th>secondary_cleaner.state.floatbank6_a_level</th>\n",
       "    </tr>\n",
       "  </thead>\n",
       "  <tbody>\n",
       "    <tr>\n",
       "      <th>count</th>\n",
       "      <td>5286.000000</td>\n",
       "      <td>5285.000000</td>\n",
       "      <td>5290.000000</td>\n",
       "      <td>5286.000000</td>\n",
       "      <td>5.290000e+03</td>\n",
       "      <td>5290.000000</td>\n",
       "      <td>5.290000e+03</td>\n",
       "      <td>5290.000000</td>\n",
       "      <td>5.290000e+03</td>\n",
       "      <td>5290.000000</td>\n",
       "      <td>...</td>\n",
       "      <td>5.290000e+03</td>\n",
       "      <td>5290.000000</td>\n",
       "      <td>5.290000e+03</td>\n",
       "      <td>5290.000000</td>\n",
       "      <td>5290.000000</td>\n",
       "      <td>5290.000000</td>\n",
       "      <td>5290.000000</td>\n",
       "      <td>5290.000000</td>\n",
       "      <td>5290.000000</td>\n",
       "      <td>5290.000000</td>\n",
       "    </tr>\n",
       "    <tr>\n",
       "      <th>mean</th>\n",
       "      <td>174.839652</td>\n",
       "      <td>8.683596</td>\n",
       "      <td>7.266339</td>\n",
       "      <td>1.383803</td>\n",
       "      <td>1.539494e+03</td>\n",
       "      <td>-497.665883</td>\n",
       "      <td>1.545174e+03</td>\n",
       "      <td>-500.273098</td>\n",
       "      <td>1.527272e+03</td>\n",
       "      <td>-498.330680</td>\n",
       "      <td>...</td>\n",
       "      <td>1.632007e+01</td>\n",
       "      <td>-505.144570</td>\n",
       "      <td>1.373544e+01</td>\n",
       "      <td>-463.349858</td>\n",
       "      <td>12.804186</td>\n",
       "      <td>-501.329122</td>\n",
       "      <td>9.881145</td>\n",
       "      <td>-495.663398</td>\n",
       "      <td>17.304935</td>\n",
       "      <td>-501.793193</td>\n",
       "    </tr>\n",
       "    <tr>\n",
       "      <th>std</th>\n",
       "      <td>43.027080</td>\n",
       "      <td>3.072050</td>\n",
       "      <td>0.610219</td>\n",
       "      <td>0.643474</td>\n",
       "      <td>1.167979e+02</td>\n",
       "      <td>19.952431</td>\n",
       "      <td>1.222246e+02</td>\n",
       "      <td>32.968307</td>\n",
       "      <td>1.225380e+02</td>\n",
       "      <td>21.964876</td>\n",
       "      <td>...</td>\n",
       "      <td>3.493583e+00</td>\n",
       "      <td>31.427337</td>\n",
       "      <td>3.430484e+00</td>\n",
       "      <td>86.189107</td>\n",
       "      <td>3.026591</td>\n",
       "      <td>17.951495</td>\n",
       "      <td>2.868205</td>\n",
       "      <td>34.535007</td>\n",
       "      <td>4.536544</td>\n",
       "      <td>39.044215</td>\n",
       "    </tr>\n",
       "    <tr>\n",
       "      <th>min</th>\n",
       "      <td>2.566156</td>\n",
       "      <td>0.003839</td>\n",
       "      <td>5.650000</td>\n",
       "      <td>0.004984</td>\n",
       "      <td>5.445860e-32</td>\n",
       "      <td>-795.316337</td>\n",
       "      <td>6.647490e-32</td>\n",
       "      <td>-799.997015</td>\n",
       "      <td>4.033736e-32</td>\n",
       "      <td>-799.960571</td>\n",
       "      <td>...</td>\n",
       "      <td>1.079872e-16</td>\n",
       "      <td>-799.798523</td>\n",
       "      <td>2.489718e-17</td>\n",
       "      <td>-800.836914</td>\n",
       "      <td>0.069227</td>\n",
       "      <td>-797.323986</td>\n",
       "      <td>0.528083</td>\n",
       "      <td>-800.220337</td>\n",
       "      <td>-0.079426</td>\n",
       "      <td>-809.741464</td>\n",
       "    </tr>\n",
       "    <tr>\n",
       "      <th>25%</th>\n",
       "      <td>147.121401</td>\n",
       "      <td>6.489555</td>\n",
       "      <td>6.890000</td>\n",
       "      <td>0.907623</td>\n",
       "      <td>1.498936e+03</td>\n",
       "      <td>-500.357298</td>\n",
       "      <td>1.498971e+03</td>\n",
       "      <td>-500.703002</td>\n",
       "      <td>1.473230e+03</td>\n",
       "      <td>-501.018117</td>\n",
       "      <td>...</td>\n",
       "      <td>1.403618e+01</td>\n",
       "      <td>-500.868258</td>\n",
       "      <td>1.202862e+01</td>\n",
       "      <td>-500.323028</td>\n",
       "      <td>10.914838</td>\n",
       "      <td>-500.726841</td>\n",
       "      <td>8.036719</td>\n",
       "      <td>-500.194668</td>\n",
       "      <td>13.997317</td>\n",
       "      <td>-500.690984</td>\n",
       "    </tr>\n",
       "    <tr>\n",
       "      <th>50%</th>\n",
       "      <td>177.828489</td>\n",
       "      <td>8.052207</td>\n",
       "      <td>7.250000</td>\n",
       "      <td>1.197610</td>\n",
       "      <td>1.585129e+03</td>\n",
       "      <td>-499.969164</td>\n",
       "      <td>1.595622e+03</td>\n",
       "      <td>-500.028514</td>\n",
       "      <td>1.549595e+03</td>\n",
       "      <td>-500.017711</td>\n",
       "      <td>...</td>\n",
       "      <td>1.700847e+01</td>\n",
       "      <td>-500.115727</td>\n",
       "      <td>1.496486e+01</td>\n",
       "      <td>-499.576513</td>\n",
       "      <td>12.954182</td>\n",
       "      <td>-499.990332</td>\n",
       "      <td>10.004301</td>\n",
       "      <td>-499.990535</td>\n",
       "      <td>16.014935</td>\n",
       "      <td>-500.007126</td>\n",
       "    </tr>\n",
       "    <tr>\n",
       "      <th>75%</th>\n",
       "      <td>208.125438</td>\n",
       "      <td>10.027764</td>\n",
       "      <td>7.600000</td>\n",
       "      <td>1.797819</td>\n",
       "      <td>1.602077e+03</td>\n",
       "      <td>-499.568951</td>\n",
       "      <td>1.602324e+03</td>\n",
       "      <td>-499.293257</td>\n",
       "      <td>1.601144e+03</td>\n",
       "      <td>-498.994130</td>\n",
       "      <td>...</td>\n",
       "      <td>1.803862e+01</td>\n",
       "      <td>-499.404224</td>\n",
       "      <td>1.596213e+01</td>\n",
       "      <td>-400.933805</td>\n",
       "      <td>15.097528</td>\n",
       "      <td>-499.283191</td>\n",
       "      <td>11.997467</td>\n",
       "      <td>-499.719913</td>\n",
       "      <td>21.020013</td>\n",
       "      <td>-499.373018</td>\n",
       "    </tr>\n",
       "    <tr>\n",
       "      <th>max</th>\n",
       "      <td>265.983123</td>\n",
       "      <td>40.000000</td>\n",
       "      <td>15.500000</td>\n",
       "      <td>4.102454</td>\n",
       "      <td>2.103104e+03</td>\n",
       "      <td>-57.195404</td>\n",
       "      <td>1.813084e+03</td>\n",
       "      <td>-142.527229</td>\n",
       "      <td>1.715054e+03</td>\n",
       "      <td>-150.937035</td>\n",
       "      <td>...</td>\n",
       "      <td>3.005180e+01</td>\n",
       "      <td>-401.565212</td>\n",
       "      <td>3.126971e+01</td>\n",
       "      <td>-6.506986</td>\n",
       "      <td>25.258848</td>\n",
       "      <td>-244.483566</td>\n",
       "      <td>14.086866</td>\n",
       "      <td>-137.740004</td>\n",
       "      <td>26.705889</td>\n",
       "      <td>-123.307487</td>\n",
       "    </tr>\n",
       "  </tbody>\n",
       "</table>\n",
       "<p>8 rows × 52 columns</p>\n",
       "</div>"
      ],
      "text/plain": [
       "       primary_cleaner.input.sulfate  primary_cleaner.input.depressant  \\\n",
       "count                    5286.000000                       5285.000000   \n",
       "mean                      174.839652                          8.683596   \n",
       "std                        43.027080                          3.072050   \n",
       "min                         2.566156                          0.003839   \n",
       "25%                       147.121401                          6.489555   \n",
       "50%                       177.828489                          8.052207   \n",
       "75%                       208.125438                         10.027764   \n",
       "max                       265.983123                         40.000000   \n",
       "\n",
       "       primary_cleaner.input.feed_size  primary_cleaner.input.xanthate  \\\n",
       "count                      5290.000000                     5286.000000   \n",
       "mean                          7.266339                        1.383803   \n",
       "std                           0.610219                        0.643474   \n",
       "min                           5.650000                        0.004984   \n",
       "25%                           6.890000                        0.907623   \n",
       "50%                           7.250000                        1.197610   \n",
       "75%                           7.600000                        1.797819   \n",
       "max                          15.500000                        4.102454   \n",
       "\n",
       "       primary_cleaner.state.floatbank8_a_air  \\\n",
       "count                            5.290000e+03   \n",
       "mean                             1.539494e+03   \n",
       "std                              1.167979e+02   \n",
       "min                              5.445860e-32   \n",
       "25%                              1.498936e+03   \n",
       "50%                              1.585129e+03   \n",
       "75%                              1.602077e+03   \n",
       "max                              2.103104e+03   \n",
       "\n",
       "       primary_cleaner.state.floatbank8_a_level  \\\n",
       "count                               5290.000000   \n",
       "mean                                -497.665883   \n",
       "std                                   19.952431   \n",
       "min                                 -795.316337   \n",
       "25%                                 -500.357298   \n",
       "50%                                 -499.969164   \n",
       "75%                                 -499.568951   \n",
       "max                                  -57.195404   \n",
       "\n",
       "       primary_cleaner.state.floatbank8_b_air  \\\n",
       "count                            5.290000e+03   \n",
       "mean                             1.545174e+03   \n",
       "std                              1.222246e+02   \n",
       "min                              6.647490e-32   \n",
       "25%                              1.498971e+03   \n",
       "50%                              1.595622e+03   \n",
       "75%                              1.602324e+03   \n",
       "max                              1.813084e+03   \n",
       "\n",
       "       primary_cleaner.state.floatbank8_b_level  \\\n",
       "count                               5290.000000   \n",
       "mean                                -500.273098   \n",
       "std                                   32.968307   \n",
       "min                                 -799.997015   \n",
       "25%                                 -500.703002   \n",
       "50%                                 -500.028514   \n",
       "75%                                 -499.293257   \n",
       "max                                 -142.527229   \n",
       "\n",
       "       primary_cleaner.state.floatbank8_c_air  \\\n",
       "count                            5.290000e+03   \n",
       "mean                             1.527272e+03   \n",
       "std                              1.225380e+02   \n",
       "min                              4.033736e-32   \n",
       "25%                              1.473230e+03   \n",
       "50%                              1.549595e+03   \n",
       "75%                              1.601144e+03   \n",
       "max                              1.715054e+03   \n",
       "\n",
       "       primary_cleaner.state.floatbank8_c_level  ...  \\\n",
       "count                               5290.000000  ...   \n",
       "mean                                -498.330680  ...   \n",
       "std                                   21.964876  ...   \n",
       "min                                 -799.960571  ...   \n",
       "25%                                 -501.018117  ...   \n",
       "50%                                 -500.017711  ...   \n",
       "75%                                 -498.994130  ...   \n",
       "max                                 -150.937035  ...   \n",
       "\n",
       "       secondary_cleaner.state.floatbank4_a_air  \\\n",
       "count                              5.290000e+03   \n",
       "mean                               1.632007e+01   \n",
       "std                                3.493583e+00   \n",
       "min                                1.079872e-16   \n",
       "25%                                1.403618e+01   \n",
       "50%                                1.700847e+01   \n",
       "75%                                1.803862e+01   \n",
       "max                                3.005180e+01   \n",
       "\n",
       "       secondary_cleaner.state.floatbank4_a_level  \\\n",
       "count                                 5290.000000   \n",
       "mean                                  -505.144570   \n",
       "std                                     31.427337   \n",
       "min                                   -799.798523   \n",
       "25%                                   -500.868258   \n",
       "50%                                   -500.115727   \n",
       "75%                                   -499.404224   \n",
       "max                                   -401.565212   \n",
       "\n",
       "       secondary_cleaner.state.floatbank4_b_air  \\\n",
       "count                              5.290000e+03   \n",
       "mean                               1.373544e+01   \n",
       "std                                3.430484e+00   \n",
       "min                                2.489718e-17   \n",
       "25%                                1.202862e+01   \n",
       "50%                                1.496486e+01   \n",
       "75%                                1.596213e+01   \n",
       "max                                3.126971e+01   \n",
       "\n",
       "       secondary_cleaner.state.floatbank4_b_level  \\\n",
       "count                                 5290.000000   \n",
       "mean                                  -463.349858   \n",
       "std                                     86.189107   \n",
       "min                                   -800.836914   \n",
       "25%                                   -500.323028   \n",
       "50%                                   -499.576513   \n",
       "75%                                   -400.933805   \n",
       "max                                     -6.506986   \n",
       "\n",
       "       secondary_cleaner.state.floatbank5_a_air  \\\n",
       "count                               5290.000000   \n",
       "mean                                  12.804186   \n",
       "std                                    3.026591   \n",
       "min                                    0.069227   \n",
       "25%                                   10.914838   \n",
       "50%                                   12.954182   \n",
       "75%                                   15.097528   \n",
       "max                                   25.258848   \n",
       "\n",
       "       secondary_cleaner.state.floatbank5_a_level  \\\n",
       "count                                 5290.000000   \n",
       "mean                                  -501.329122   \n",
       "std                                     17.951495   \n",
       "min                                   -797.323986   \n",
       "25%                                   -500.726841   \n",
       "50%                                   -499.990332   \n",
       "75%                                   -499.283191   \n",
       "max                                   -244.483566   \n",
       "\n",
       "       secondary_cleaner.state.floatbank5_b_air  \\\n",
       "count                               5290.000000   \n",
       "mean                                   9.881145   \n",
       "std                                    2.868205   \n",
       "min                                    0.528083   \n",
       "25%                                    8.036719   \n",
       "50%                                   10.004301   \n",
       "75%                                   11.997467   \n",
       "max                                   14.086866   \n",
       "\n",
       "       secondary_cleaner.state.floatbank5_b_level  \\\n",
       "count                                 5290.000000   \n",
       "mean                                  -495.663398   \n",
       "std                                     34.535007   \n",
       "min                                   -800.220337   \n",
       "25%                                   -500.194668   \n",
       "50%                                   -499.990535   \n",
       "75%                                   -499.719913   \n",
       "max                                   -137.740004   \n",
       "\n",
       "       secondary_cleaner.state.floatbank6_a_air  \\\n",
       "count                               5290.000000   \n",
       "mean                                  17.304935   \n",
       "std                                    4.536544   \n",
       "min                                   -0.079426   \n",
       "25%                                   13.997317   \n",
       "50%                                   16.014935   \n",
       "75%                                   21.020013   \n",
       "max                                   26.705889   \n",
       "\n",
       "       secondary_cleaner.state.floatbank6_a_level  \n",
       "count                                 5290.000000  \n",
       "mean                                  -501.793193  \n",
       "std                                     39.044215  \n",
       "min                                   -809.741464  \n",
       "25%                                   -500.690984  \n",
       "50%                                   -500.007126  \n",
       "75%                                   -499.373018  \n",
       "max                                   -123.307487  \n",
       "\n",
       "[8 rows x 52 columns]"
      ]
     },
     "execution_count": 512,
     "metadata": {},
     "output_type": "execute_result"
    }
   ],
   "source": [
    "gold_test.describe()"
   ]
  },
  {
   "cell_type": "markdown",
   "metadata": {},
   "source": [
    "Импортируем исходные данные"
   ]
  },
  {
   "cell_type": "code",
   "execution_count": 513,
   "metadata": {},
   "outputs": [
    {
     "data": {
      "text/html": [
       "<div>\n",
       "<style scoped>\n",
       "    .dataframe tbody tr th:only-of-type {\n",
       "        vertical-align: middle;\n",
       "    }\n",
       "\n",
       "    .dataframe tbody tr th {\n",
       "        vertical-align: top;\n",
       "    }\n",
       "\n",
       "    .dataframe thead th {\n",
       "        text-align: right;\n",
       "    }\n",
       "</style>\n",
       "<table border=\"1\" class=\"dataframe\">\n",
       "  <thead>\n",
       "    <tr style=\"text-align: right;\">\n",
       "      <th></th>\n",
       "      <th>date</th>\n",
       "      <th>final.output.concentrate_ag</th>\n",
       "      <th>final.output.concentrate_pb</th>\n",
       "      <th>final.output.concentrate_sol</th>\n",
       "      <th>final.output.concentrate_au</th>\n",
       "      <th>final.output.recovery</th>\n",
       "      <th>final.output.tail_ag</th>\n",
       "      <th>final.output.tail_pb</th>\n",
       "      <th>final.output.tail_sol</th>\n",
       "      <th>final.output.tail_au</th>\n",
       "      <th>...</th>\n",
       "      <th>secondary_cleaner.state.floatbank4_a_air</th>\n",
       "      <th>secondary_cleaner.state.floatbank4_a_level</th>\n",
       "      <th>secondary_cleaner.state.floatbank4_b_air</th>\n",
       "      <th>secondary_cleaner.state.floatbank4_b_level</th>\n",
       "      <th>secondary_cleaner.state.floatbank5_a_air</th>\n",
       "      <th>secondary_cleaner.state.floatbank5_a_level</th>\n",
       "      <th>secondary_cleaner.state.floatbank5_b_air</th>\n",
       "      <th>secondary_cleaner.state.floatbank5_b_level</th>\n",
       "      <th>secondary_cleaner.state.floatbank6_a_air</th>\n",
       "      <th>secondary_cleaner.state.floatbank6_a_level</th>\n",
       "    </tr>\n",
       "  </thead>\n",
       "  <tbody>\n",
       "    <tr>\n",
       "      <th>0</th>\n",
       "      <td>2016-01-15 00:00:00</td>\n",
       "      <td>6.055403</td>\n",
       "      <td>9.889648</td>\n",
       "      <td>5.507324</td>\n",
       "      <td>42.192020</td>\n",
       "      <td>70.541216</td>\n",
       "      <td>10.411962</td>\n",
       "      <td>0.895447</td>\n",
       "      <td>16.904297</td>\n",
       "      <td>2.143149</td>\n",
       "      <td>...</td>\n",
       "      <td>14.016835</td>\n",
       "      <td>-502.488007</td>\n",
       "      <td>12.099931</td>\n",
       "      <td>-504.715942</td>\n",
       "      <td>9.925633</td>\n",
       "      <td>-498.310211</td>\n",
       "      <td>8.079666</td>\n",
       "      <td>-500.470978</td>\n",
       "      <td>14.151341</td>\n",
       "      <td>-605.841980</td>\n",
       "    </tr>\n",
       "    <tr>\n",
       "      <th>1</th>\n",
       "      <td>2016-01-15 01:00:00</td>\n",
       "      <td>6.029369</td>\n",
       "      <td>9.968944</td>\n",
       "      <td>5.257781</td>\n",
       "      <td>42.701629</td>\n",
       "      <td>69.266198</td>\n",
       "      <td>10.462676</td>\n",
       "      <td>0.927452</td>\n",
       "      <td>16.634514</td>\n",
       "      <td>2.224930</td>\n",
       "      <td>...</td>\n",
       "      <td>13.992281</td>\n",
       "      <td>-505.503262</td>\n",
       "      <td>11.950531</td>\n",
       "      <td>-501.331529</td>\n",
       "      <td>10.039245</td>\n",
       "      <td>-500.169983</td>\n",
       "      <td>7.984757</td>\n",
       "      <td>-500.582168</td>\n",
       "      <td>13.998353</td>\n",
       "      <td>-599.787184</td>\n",
       "    </tr>\n",
       "    <tr>\n",
       "      <th>2</th>\n",
       "      <td>2016-01-15 02:00:00</td>\n",
       "      <td>6.055926</td>\n",
       "      <td>10.213995</td>\n",
       "      <td>5.383759</td>\n",
       "      <td>42.657501</td>\n",
       "      <td>68.116445</td>\n",
       "      <td>10.507046</td>\n",
       "      <td>0.953716</td>\n",
       "      <td>16.208849</td>\n",
       "      <td>2.257889</td>\n",
       "      <td>...</td>\n",
       "      <td>14.015015</td>\n",
       "      <td>-502.520901</td>\n",
       "      <td>11.912783</td>\n",
       "      <td>-501.133383</td>\n",
       "      <td>10.070913</td>\n",
       "      <td>-500.129135</td>\n",
       "      <td>8.013877</td>\n",
       "      <td>-500.517572</td>\n",
       "      <td>14.028663</td>\n",
       "      <td>-601.427363</td>\n",
       "    </tr>\n",
       "    <tr>\n",
       "      <th>3</th>\n",
       "      <td>2016-01-15 03:00:00</td>\n",
       "      <td>6.047977</td>\n",
       "      <td>9.977019</td>\n",
       "      <td>4.858634</td>\n",
       "      <td>42.689819</td>\n",
       "      <td>68.347543</td>\n",
       "      <td>10.422762</td>\n",
       "      <td>0.883763</td>\n",
       "      <td>16.532835</td>\n",
       "      <td>2.146849</td>\n",
       "      <td>...</td>\n",
       "      <td>14.036510</td>\n",
       "      <td>-500.857308</td>\n",
       "      <td>11.999550</td>\n",
       "      <td>-501.193686</td>\n",
       "      <td>9.970366</td>\n",
       "      <td>-499.201640</td>\n",
       "      <td>7.977324</td>\n",
       "      <td>-500.255908</td>\n",
       "      <td>14.005551</td>\n",
       "      <td>-599.996129</td>\n",
       "    </tr>\n",
       "    <tr>\n",
       "      <th>4</th>\n",
       "      <td>2016-01-15 04:00:00</td>\n",
       "      <td>6.148599</td>\n",
       "      <td>10.142511</td>\n",
       "      <td>4.939416</td>\n",
       "      <td>42.774141</td>\n",
       "      <td>66.927016</td>\n",
       "      <td>10.360302</td>\n",
       "      <td>0.792826</td>\n",
       "      <td>16.525686</td>\n",
       "      <td>2.055292</td>\n",
       "      <td>...</td>\n",
       "      <td>14.027298</td>\n",
       "      <td>-499.838632</td>\n",
       "      <td>11.953070</td>\n",
       "      <td>-501.053894</td>\n",
       "      <td>9.925709</td>\n",
       "      <td>-501.686727</td>\n",
       "      <td>7.894242</td>\n",
       "      <td>-500.356035</td>\n",
       "      <td>13.996647</td>\n",
       "      <td>-601.496691</td>\n",
       "    </tr>\n",
       "  </tbody>\n",
       "</table>\n",
       "<p>5 rows × 87 columns</p>\n",
       "</div>"
      ],
      "text/plain": [
       "                  date  final.output.concentrate_ag  \\\n",
       "0  2016-01-15 00:00:00                     6.055403   \n",
       "1  2016-01-15 01:00:00                     6.029369   \n",
       "2  2016-01-15 02:00:00                     6.055926   \n",
       "3  2016-01-15 03:00:00                     6.047977   \n",
       "4  2016-01-15 04:00:00                     6.148599   \n",
       "\n",
       "   final.output.concentrate_pb  final.output.concentrate_sol  \\\n",
       "0                     9.889648                      5.507324   \n",
       "1                     9.968944                      5.257781   \n",
       "2                    10.213995                      5.383759   \n",
       "3                     9.977019                      4.858634   \n",
       "4                    10.142511                      4.939416   \n",
       "\n",
       "   final.output.concentrate_au  final.output.recovery  final.output.tail_ag  \\\n",
       "0                    42.192020              70.541216             10.411962   \n",
       "1                    42.701629              69.266198             10.462676   \n",
       "2                    42.657501              68.116445             10.507046   \n",
       "3                    42.689819              68.347543             10.422762   \n",
       "4                    42.774141              66.927016             10.360302   \n",
       "\n",
       "   final.output.tail_pb  final.output.tail_sol  final.output.tail_au  ...  \\\n",
       "0              0.895447              16.904297              2.143149  ...   \n",
       "1              0.927452              16.634514              2.224930  ...   \n",
       "2              0.953716              16.208849              2.257889  ...   \n",
       "3              0.883763              16.532835              2.146849  ...   \n",
       "4              0.792826              16.525686              2.055292  ...   \n",
       "\n",
       "   secondary_cleaner.state.floatbank4_a_air  \\\n",
       "0                                 14.016835   \n",
       "1                                 13.992281   \n",
       "2                                 14.015015   \n",
       "3                                 14.036510   \n",
       "4                                 14.027298   \n",
       "\n",
       "   secondary_cleaner.state.floatbank4_a_level  \\\n",
       "0                                 -502.488007   \n",
       "1                                 -505.503262   \n",
       "2                                 -502.520901   \n",
       "3                                 -500.857308   \n",
       "4                                 -499.838632   \n",
       "\n",
       "   secondary_cleaner.state.floatbank4_b_air  \\\n",
       "0                                 12.099931   \n",
       "1                                 11.950531   \n",
       "2                                 11.912783   \n",
       "3                                 11.999550   \n",
       "4                                 11.953070   \n",
       "\n",
       "   secondary_cleaner.state.floatbank4_b_level  \\\n",
       "0                                 -504.715942   \n",
       "1                                 -501.331529   \n",
       "2                                 -501.133383   \n",
       "3                                 -501.193686   \n",
       "4                                 -501.053894   \n",
       "\n",
       "   secondary_cleaner.state.floatbank5_a_air  \\\n",
       "0                                  9.925633   \n",
       "1                                 10.039245   \n",
       "2                                 10.070913   \n",
       "3                                  9.970366   \n",
       "4                                  9.925709   \n",
       "\n",
       "   secondary_cleaner.state.floatbank5_a_level  \\\n",
       "0                                 -498.310211   \n",
       "1                                 -500.169983   \n",
       "2                                 -500.129135   \n",
       "3                                 -499.201640   \n",
       "4                                 -501.686727   \n",
       "\n",
       "   secondary_cleaner.state.floatbank5_b_air  \\\n",
       "0                                  8.079666   \n",
       "1                                  7.984757   \n",
       "2                                  8.013877   \n",
       "3                                  7.977324   \n",
       "4                                  7.894242   \n",
       "\n",
       "   secondary_cleaner.state.floatbank5_b_level  \\\n",
       "0                                 -500.470978   \n",
       "1                                 -500.582168   \n",
       "2                                 -500.517572   \n",
       "3                                 -500.255908   \n",
       "4                                 -500.356035   \n",
       "\n",
       "   secondary_cleaner.state.floatbank6_a_air  \\\n",
       "0                                 14.151341   \n",
       "1                                 13.998353   \n",
       "2                                 14.028663   \n",
       "3                                 14.005551   \n",
       "4                                 13.996647   \n",
       "\n",
       "   secondary_cleaner.state.floatbank6_a_level  \n",
       "0                                 -605.841980  \n",
       "1                                 -599.787184  \n",
       "2                                 -601.427363  \n",
       "3                                 -599.996129  \n",
       "4                                 -601.496691  \n",
       "\n",
       "[5 rows x 87 columns]"
      ]
     },
     "execution_count": 513,
     "metadata": {},
     "output_type": "execute_result"
    }
   ],
   "source": [
    "try:\n",
    "    gold_full = pd.read_csv('/datasets/gold_recovery_full_new.csv')\n",
    "except:\n",
    "    print('Ошибка. Проверьте правильность пути к данным')\n",
    "gold_full.head()"
   ]
  },
  {
   "cell_type": "code",
   "execution_count": 514,
   "metadata": {},
   "outputs": [
    {
     "name": "stdout",
     "output_type": "stream",
     "text": [
      "<class 'pandas.core.frame.DataFrame'>\n",
      "RangeIndex: 19439 entries, 0 to 19438\n",
      "Data columns (total 87 columns):\n",
      " #   Column                                              Non-Null Count  Dtype  \n",
      "---  ------                                              --------------  -----  \n",
      " 0   date                                                19439 non-null  object \n",
      " 1   final.output.concentrate_ag                         19438 non-null  float64\n",
      " 2   final.output.concentrate_pb                         19438 non-null  float64\n",
      " 3   final.output.concentrate_sol                        19228 non-null  float64\n",
      " 4   final.output.concentrate_au                         19439 non-null  float64\n",
      " 5   final.output.recovery                               19439 non-null  float64\n",
      " 6   final.output.tail_ag                                19438 non-null  float64\n",
      " 7   final.output.tail_pb                                19338 non-null  float64\n",
      " 8   final.output.tail_sol                               19433 non-null  float64\n",
      " 9   final.output.tail_au                                19439 non-null  float64\n",
      " 10  primary_cleaner.input.sulfate                       19415 non-null  float64\n",
      " 11  primary_cleaner.input.depressant                    19402 non-null  float64\n",
      " 12  primary_cleaner.input.feed_size                     19439 non-null  float64\n",
      " 13  primary_cleaner.input.xanthate                      19335 non-null  float64\n",
      " 14  primary_cleaner.output.concentrate_ag               19439 non-null  float64\n",
      " 15  primary_cleaner.output.concentrate_pb               19323 non-null  float64\n",
      " 16  primary_cleaner.output.concentrate_sol              19069 non-null  float64\n",
      " 17  primary_cleaner.output.concentrate_au               19439 non-null  float64\n",
      " 18  primary_cleaner.output.tail_ag                      19435 non-null  float64\n",
      " 19  primary_cleaner.output.tail_pb                      19418 non-null  float64\n",
      " 20  primary_cleaner.output.tail_sol                     19377 non-null  float64\n",
      " 21  primary_cleaner.output.tail_au                      19439 non-null  float64\n",
      " 22  primary_cleaner.state.floatbank8_a_air              19435 non-null  float64\n",
      " 23  primary_cleaner.state.floatbank8_a_level            19438 non-null  float64\n",
      " 24  primary_cleaner.state.floatbank8_b_air              19435 non-null  float64\n",
      " 25  primary_cleaner.state.floatbank8_b_level            19438 non-null  float64\n",
      " 26  primary_cleaner.state.floatbank8_c_air              19437 non-null  float64\n",
      " 27  primary_cleaner.state.floatbank8_c_level            19438 non-null  float64\n",
      " 28  primary_cleaner.state.floatbank8_d_air              19436 non-null  float64\n",
      " 29  primary_cleaner.state.floatbank8_d_level            19438 non-null  float64\n",
      " 30  rougher.calculation.sulfate_to_au_concentrate       19437 non-null  float64\n",
      " 31  rougher.calculation.floatbank10_sulfate_to_au_feed  19437 non-null  float64\n",
      " 32  rougher.calculation.floatbank11_sulfate_to_au_feed  19437 non-null  float64\n",
      " 33  rougher.calculation.au_pb_ratio                     19439 non-null  float64\n",
      " 34  rougher.input.feed_ag                               19439 non-null  float64\n",
      " 35  rougher.input.feed_pb                               19339 non-null  float64\n",
      " 36  rougher.input.feed_rate                             19428 non-null  float64\n",
      " 37  rougher.input.feed_size                             19294 non-null  float64\n",
      " 38  rougher.input.feed_sol                              19340 non-null  float64\n",
      " 39  rougher.input.feed_au                               19439 non-null  float64\n",
      " 40  rougher.input.floatbank10_sulfate                   19405 non-null  float64\n",
      " 41  rougher.input.floatbank10_xanthate                  19431 non-null  float64\n",
      " 42  rougher.input.floatbank11_sulfate                   19395 non-null  float64\n",
      " 43  rougher.input.floatbank11_xanthate                  18986 non-null  float64\n",
      " 44  rougher.output.concentrate_ag                       19439 non-null  float64\n",
      " 45  rougher.output.concentrate_pb                       19439 non-null  float64\n",
      " 46  rougher.output.concentrate_sol                      19416 non-null  float64\n",
      " 47  rougher.output.concentrate_au                       19439 non-null  float64\n",
      " 48  rougher.output.recovery                             19439 non-null  float64\n",
      " 49  rougher.output.tail_ag                              19438 non-null  float64\n",
      " 50  rougher.output.tail_pb                              19439 non-null  float64\n",
      " 51  rougher.output.tail_sol                             19439 non-null  float64\n",
      " 52  rougher.output.tail_au                              19439 non-null  float64\n",
      " 53  rougher.state.floatbank10_a_air                     19438 non-null  float64\n",
      " 54  rougher.state.floatbank10_a_level                   19438 non-null  float64\n",
      " 55  rougher.state.floatbank10_b_air                     19438 non-null  float64\n",
      " 56  rougher.state.floatbank10_b_level                   19438 non-null  float64\n",
      " 57  rougher.state.floatbank10_c_air                     19438 non-null  float64\n",
      " 58  rougher.state.floatbank10_c_level                   19438 non-null  float64\n",
      " 59  rougher.state.floatbank10_d_air                     19439 non-null  float64\n",
      " 60  rougher.state.floatbank10_d_level                   19439 non-null  float64\n",
      " 61  rougher.state.floatbank10_e_air                     19003 non-null  float64\n",
      " 62  rougher.state.floatbank10_e_level                   19439 non-null  float64\n",
      " 63  rougher.state.floatbank10_f_air                     19439 non-null  float64\n",
      " 64  rougher.state.floatbank10_f_level                   19439 non-null  float64\n",
      " 65  secondary_cleaner.output.tail_ag                    19437 non-null  float64\n",
      " 66  secondary_cleaner.output.tail_pb                    19427 non-null  float64\n",
      " 67  secondary_cleaner.output.tail_sol                   17691 non-null  float64\n",
      " 68  secondary_cleaner.output.tail_au                    19439 non-null  float64\n",
      " 69  secondary_cleaner.state.floatbank2_a_air            19219 non-null  float64\n",
      " 70  secondary_cleaner.state.floatbank2_a_level          19438 non-null  float64\n",
      " 71  secondary_cleaner.state.floatbank2_b_air            19416 non-null  float64\n",
      " 72  secondary_cleaner.state.floatbank2_b_level          19438 non-null  float64\n",
      " 73  secondary_cleaner.state.floatbank3_a_air            19426 non-null  float64\n",
      " 74  secondary_cleaner.state.floatbank3_a_level          19438 non-null  float64\n",
      " 75  secondary_cleaner.state.floatbank3_b_air            19438 non-null  float64\n",
      " 76  secondary_cleaner.state.floatbank3_b_level          19438 non-null  float64\n",
      " 77  secondary_cleaner.state.floatbank4_a_air            19433 non-null  float64\n",
      " 78  secondary_cleaner.state.floatbank4_a_level          19438 non-null  float64\n",
      " 79  secondary_cleaner.state.floatbank4_b_air            19438 non-null  float64\n",
      " 80  secondary_cleaner.state.floatbank4_b_level          19438 non-null  float64\n",
      " 81  secondary_cleaner.state.floatbank5_a_air            19438 non-null  float64\n",
      " 82  secondary_cleaner.state.floatbank5_a_level          19438 non-null  float64\n",
      " 83  secondary_cleaner.state.floatbank5_b_air            19438 non-null  float64\n",
      " 84  secondary_cleaner.state.floatbank5_b_level          19438 non-null  float64\n",
      " 85  secondary_cleaner.state.floatbank6_a_air            19437 non-null  float64\n",
      " 86  secondary_cleaner.state.floatbank6_a_level          19438 non-null  float64\n",
      "dtypes: float64(86), object(1)\n",
      "memory usage: 12.9+ MB\n"
     ]
    }
   ],
   "source": [
    "gold_full.info()"
   ]
  },
  {
   "cell_type": "code",
   "execution_count": 515,
   "metadata": {},
   "outputs": [
    {
     "data": {
      "text/html": [
       "<div>\n",
       "<style scoped>\n",
       "    .dataframe tbody tr th:only-of-type {\n",
       "        vertical-align: middle;\n",
       "    }\n",
       "\n",
       "    .dataframe tbody tr th {\n",
       "        vertical-align: top;\n",
       "    }\n",
       "\n",
       "    .dataframe thead th {\n",
       "        text-align: right;\n",
       "    }\n",
       "</style>\n",
       "<table border=\"1\" class=\"dataframe\">\n",
       "  <thead>\n",
       "    <tr style=\"text-align: right;\">\n",
       "      <th></th>\n",
       "      <th>final.output.concentrate_ag</th>\n",
       "      <th>final.output.concentrate_pb</th>\n",
       "      <th>final.output.concentrate_sol</th>\n",
       "      <th>final.output.concentrate_au</th>\n",
       "      <th>final.output.recovery</th>\n",
       "      <th>final.output.tail_ag</th>\n",
       "      <th>final.output.tail_pb</th>\n",
       "      <th>final.output.tail_sol</th>\n",
       "      <th>final.output.tail_au</th>\n",
       "      <th>primary_cleaner.input.sulfate</th>\n",
       "      <th>...</th>\n",
       "      <th>secondary_cleaner.state.floatbank4_a_air</th>\n",
       "      <th>secondary_cleaner.state.floatbank4_a_level</th>\n",
       "      <th>secondary_cleaner.state.floatbank4_b_air</th>\n",
       "      <th>secondary_cleaner.state.floatbank4_b_level</th>\n",
       "      <th>secondary_cleaner.state.floatbank5_a_air</th>\n",
       "      <th>secondary_cleaner.state.floatbank5_a_level</th>\n",
       "      <th>secondary_cleaner.state.floatbank5_b_air</th>\n",
       "      <th>secondary_cleaner.state.floatbank5_b_level</th>\n",
       "      <th>secondary_cleaner.state.floatbank6_a_air</th>\n",
       "      <th>secondary_cleaner.state.floatbank6_a_level</th>\n",
       "    </tr>\n",
       "  </thead>\n",
       "  <tbody>\n",
       "    <tr>\n",
       "      <th>count</th>\n",
       "      <td>19438.000000</td>\n",
       "      <td>19438.000000</td>\n",
       "      <td>19228.000000</td>\n",
       "      <td>19439.000000</td>\n",
       "      <td>19439.000000</td>\n",
       "      <td>19438.000000</td>\n",
       "      <td>19338.000000</td>\n",
       "      <td>19433.000000</td>\n",
       "      <td>19439.000000</td>\n",
       "      <td>19415.000000</td>\n",
       "      <td>...</td>\n",
       "      <td>19433.000000</td>\n",
       "      <td>19438.000000</td>\n",
       "      <td>19438.000000</td>\n",
       "      <td>19438.000000</td>\n",
       "      <td>19438.000000</td>\n",
       "      <td>19438.000000</td>\n",
       "      <td>19438.000000</td>\n",
       "      <td>19438.000000</td>\n",
       "      <td>19437.000000</td>\n",
       "      <td>19438.000000</td>\n",
       "    </tr>\n",
       "    <tr>\n",
       "      <th>mean</th>\n",
       "      <td>5.168470</td>\n",
       "      <td>9.978895</td>\n",
       "      <td>9.501224</td>\n",
       "      <td>44.076513</td>\n",
       "      <td>67.050208</td>\n",
       "      <td>9.688589</td>\n",
       "      <td>2.705795</td>\n",
       "      <td>10.583728</td>\n",
       "      <td>3.042467</td>\n",
       "      <td>144.624774</td>\n",
       "      <td>...</td>\n",
       "      <td>18.987674</td>\n",
       "      <td>-485.894516</td>\n",
       "      <td>15.010366</td>\n",
       "      <td>-461.078636</td>\n",
       "      <td>15.694452</td>\n",
       "      <td>-488.684065</td>\n",
       "      <td>12.198224</td>\n",
       "      <td>-487.149827</td>\n",
       "      <td>18.959024</td>\n",
       "      <td>-505.436305</td>\n",
       "    </tr>\n",
       "    <tr>\n",
       "      <th>std</th>\n",
       "      <td>1.372348</td>\n",
       "      <td>1.669240</td>\n",
       "      <td>2.787537</td>\n",
       "      <td>5.129784</td>\n",
       "      <td>10.125840</td>\n",
       "      <td>2.328642</td>\n",
       "      <td>0.949077</td>\n",
       "      <td>2.868782</td>\n",
       "      <td>0.922808</td>\n",
       "      <td>44.464071</td>\n",
       "      <td>...</td>\n",
       "      <td>5.411058</td>\n",
       "      <td>47.758570</td>\n",
       "      <td>4.890228</td>\n",
       "      <td>67.405524</td>\n",
       "      <td>5.510974</td>\n",
       "      <td>34.533396</td>\n",
       "      <td>5.333024</td>\n",
       "      <td>38.347312</td>\n",
       "      <td>5.550498</td>\n",
       "      <td>37.689057</td>\n",
       "    </tr>\n",
       "    <tr>\n",
       "      <th>min</th>\n",
       "      <td>0.000000</td>\n",
       "      <td>0.000000</td>\n",
       "      <td>0.000000</td>\n",
       "      <td>0.000000</td>\n",
       "      <td>0.000000</td>\n",
       "      <td>0.000000</td>\n",
       "      <td>0.000000</td>\n",
       "      <td>0.000000</td>\n",
       "      <td>0.000000</td>\n",
       "      <td>0.003112</td>\n",
       "      <td>...</td>\n",
       "      <td>0.000000</td>\n",
       "      <td>-799.798523</td>\n",
       "      <td>0.000000</td>\n",
       "      <td>-800.836914</td>\n",
       "      <td>-0.372054</td>\n",
       "      <td>-797.323986</td>\n",
       "      <td>0.528083</td>\n",
       "      <td>-800.220337</td>\n",
       "      <td>-0.079426</td>\n",
       "      <td>-809.741464</td>\n",
       "    </tr>\n",
       "    <tr>\n",
       "      <th>25%</th>\n",
       "      <td>4.251240</td>\n",
       "      <td>9.137262</td>\n",
       "      <td>7.722820</td>\n",
       "      <td>43.402215</td>\n",
       "      <td>63.299712</td>\n",
       "      <td>8.062878</td>\n",
       "      <td>2.040119</td>\n",
       "      <td>8.938947</td>\n",
       "      <td>2.461138</td>\n",
       "      <td>114.107029</td>\n",
       "      <td>...</td>\n",
       "      <td>14.975734</td>\n",
       "      <td>-500.704892</td>\n",
       "      <td>11.940294</td>\n",
       "      <td>-500.187742</td>\n",
       "      <td>10.988606</td>\n",
       "      <td>-500.458467</td>\n",
       "      <td>8.971105</td>\n",
       "      <td>-500.129462</td>\n",
       "      <td>14.983037</td>\n",
       "      <td>-500.728067</td>\n",
       "    </tr>\n",
       "    <tr>\n",
       "      <th>50%</th>\n",
       "      <td>5.066094</td>\n",
       "      <td>10.102433</td>\n",
       "      <td>9.218961</td>\n",
       "      <td>45.011244</td>\n",
       "      <td>68.172738</td>\n",
       "      <td>9.743623</td>\n",
       "      <td>2.748730</td>\n",
       "      <td>10.622456</td>\n",
       "      <td>2.984909</td>\n",
       "      <td>143.232103</td>\n",
       "      <td>...</td>\n",
       "      <td>18.017481</td>\n",
       "      <td>-499.837793</td>\n",
       "      <td>14.971014</td>\n",
       "      <td>-499.459786</td>\n",
       "      <td>15.000036</td>\n",
       "      <td>-499.802605</td>\n",
       "      <td>11.019433</td>\n",
       "      <td>-499.935317</td>\n",
       "      <td>19.960541</td>\n",
       "      <td>-500.048400</td>\n",
       "    </tr>\n",
       "    <tr>\n",
       "      <th>75%</th>\n",
       "      <td>5.895527</td>\n",
       "      <td>11.035769</td>\n",
       "      <td>10.947813</td>\n",
       "      <td>46.275313</td>\n",
       "      <td>72.686642</td>\n",
       "      <td>11.134294</td>\n",
       "      <td>3.333216</td>\n",
       "      <td>12.104271</td>\n",
       "      <td>3.571351</td>\n",
       "      <td>175.075656</td>\n",
       "      <td>...</td>\n",
       "      <td>23.012470</td>\n",
       "      <td>-498.249730</td>\n",
       "      <td>19.034162</td>\n",
       "      <td>-400.118106</td>\n",
       "      <td>18.026190</td>\n",
       "      <td>-498.384187</td>\n",
       "      <td>14.019088</td>\n",
       "      <td>-499.436708</td>\n",
       "      <td>24.003170</td>\n",
       "      <td>-499.495378</td>\n",
       "    </tr>\n",
       "    <tr>\n",
       "      <th>max</th>\n",
       "      <td>16.001945</td>\n",
       "      <td>17.031899</td>\n",
       "      <td>19.615720</td>\n",
       "      <td>52.756638</td>\n",
       "      <td>100.000000</td>\n",
       "      <td>19.552149</td>\n",
       "      <td>5.804178</td>\n",
       "      <td>22.317730</td>\n",
       "      <td>8.245022</td>\n",
       "      <td>265.983123</td>\n",
       "      <td>...</td>\n",
       "      <td>30.115735</td>\n",
       "      <td>-245.239184</td>\n",
       "      <td>31.269706</td>\n",
       "      <td>-6.506986</td>\n",
       "      <td>43.709931</td>\n",
       "      <td>-244.483566</td>\n",
       "      <td>27.926001</td>\n",
       "      <td>-137.740004</td>\n",
       "      <td>32.188906</td>\n",
       "      <td>-104.427459</td>\n",
       "    </tr>\n",
       "  </tbody>\n",
       "</table>\n",
       "<p>8 rows × 86 columns</p>\n",
       "</div>"
      ],
      "text/plain": [
       "       final.output.concentrate_ag  final.output.concentrate_pb  \\\n",
       "count                 19438.000000                 19438.000000   \n",
       "mean                      5.168470                     9.978895   \n",
       "std                       1.372348                     1.669240   \n",
       "min                       0.000000                     0.000000   \n",
       "25%                       4.251240                     9.137262   \n",
       "50%                       5.066094                    10.102433   \n",
       "75%                       5.895527                    11.035769   \n",
       "max                      16.001945                    17.031899   \n",
       "\n",
       "       final.output.concentrate_sol  final.output.concentrate_au  \\\n",
       "count                  19228.000000                 19439.000000   \n",
       "mean                       9.501224                    44.076513   \n",
       "std                        2.787537                     5.129784   \n",
       "min                        0.000000                     0.000000   \n",
       "25%                        7.722820                    43.402215   \n",
       "50%                        9.218961                    45.011244   \n",
       "75%                       10.947813                    46.275313   \n",
       "max                       19.615720                    52.756638   \n",
       "\n",
       "       final.output.recovery  final.output.tail_ag  final.output.tail_pb  \\\n",
       "count           19439.000000          19438.000000          19338.000000   \n",
       "mean               67.050208              9.688589              2.705795   \n",
       "std                10.125840              2.328642              0.949077   \n",
       "min                 0.000000              0.000000              0.000000   \n",
       "25%                63.299712              8.062878              2.040119   \n",
       "50%                68.172738              9.743623              2.748730   \n",
       "75%                72.686642             11.134294              3.333216   \n",
       "max               100.000000             19.552149              5.804178   \n",
       "\n",
       "       final.output.tail_sol  final.output.tail_au  \\\n",
       "count           19433.000000          19439.000000   \n",
       "mean               10.583728              3.042467   \n",
       "std                 2.868782              0.922808   \n",
       "min                 0.000000              0.000000   \n",
       "25%                 8.938947              2.461138   \n",
       "50%                10.622456              2.984909   \n",
       "75%                12.104271              3.571351   \n",
       "max                22.317730              8.245022   \n",
       "\n",
       "       primary_cleaner.input.sulfate  ...  \\\n",
       "count                   19415.000000  ...   \n",
       "mean                      144.624774  ...   \n",
       "std                        44.464071  ...   \n",
       "min                         0.003112  ...   \n",
       "25%                       114.107029  ...   \n",
       "50%                       143.232103  ...   \n",
       "75%                       175.075656  ...   \n",
       "max                       265.983123  ...   \n",
       "\n",
       "       secondary_cleaner.state.floatbank4_a_air  \\\n",
       "count                              19433.000000   \n",
       "mean                                  18.987674   \n",
       "std                                    5.411058   \n",
       "min                                    0.000000   \n",
       "25%                                   14.975734   \n",
       "50%                                   18.017481   \n",
       "75%                                   23.012470   \n",
       "max                                   30.115735   \n",
       "\n",
       "       secondary_cleaner.state.floatbank4_a_level  \\\n",
       "count                                19438.000000   \n",
       "mean                                  -485.894516   \n",
       "std                                     47.758570   \n",
       "min                                   -799.798523   \n",
       "25%                                   -500.704892   \n",
       "50%                                   -499.837793   \n",
       "75%                                   -498.249730   \n",
       "max                                   -245.239184   \n",
       "\n",
       "       secondary_cleaner.state.floatbank4_b_air  \\\n",
       "count                              19438.000000   \n",
       "mean                                  15.010366   \n",
       "std                                    4.890228   \n",
       "min                                    0.000000   \n",
       "25%                                   11.940294   \n",
       "50%                                   14.971014   \n",
       "75%                                   19.034162   \n",
       "max                                   31.269706   \n",
       "\n",
       "       secondary_cleaner.state.floatbank4_b_level  \\\n",
       "count                                19438.000000   \n",
       "mean                                  -461.078636   \n",
       "std                                     67.405524   \n",
       "min                                   -800.836914   \n",
       "25%                                   -500.187742   \n",
       "50%                                   -499.459786   \n",
       "75%                                   -400.118106   \n",
       "max                                     -6.506986   \n",
       "\n",
       "       secondary_cleaner.state.floatbank5_a_air  \\\n",
       "count                              19438.000000   \n",
       "mean                                  15.694452   \n",
       "std                                    5.510974   \n",
       "min                                   -0.372054   \n",
       "25%                                   10.988606   \n",
       "50%                                   15.000036   \n",
       "75%                                   18.026190   \n",
       "max                                   43.709931   \n",
       "\n",
       "       secondary_cleaner.state.floatbank5_a_level  \\\n",
       "count                                19438.000000   \n",
       "mean                                  -488.684065   \n",
       "std                                     34.533396   \n",
       "min                                   -797.323986   \n",
       "25%                                   -500.458467   \n",
       "50%                                   -499.802605   \n",
       "75%                                   -498.384187   \n",
       "max                                   -244.483566   \n",
       "\n",
       "       secondary_cleaner.state.floatbank5_b_air  \\\n",
       "count                              19438.000000   \n",
       "mean                                  12.198224   \n",
       "std                                    5.333024   \n",
       "min                                    0.528083   \n",
       "25%                                    8.971105   \n",
       "50%                                   11.019433   \n",
       "75%                                   14.019088   \n",
       "max                                   27.926001   \n",
       "\n",
       "       secondary_cleaner.state.floatbank5_b_level  \\\n",
       "count                                19438.000000   \n",
       "mean                                  -487.149827   \n",
       "std                                     38.347312   \n",
       "min                                   -800.220337   \n",
       "25%                                   -500.129462   \n",
       "50%                                   -499.935317   \n",
       "75%                                   -499.436708   \n",
       "max                                   -137.740004   \n",
       "\n",
       "       secondary_cleaner.state.floatbank6_a_air  \\\n",
       "count                              19437.000000   \n",
       "mean                                  18.959024   \n",
       "std                                    5.550498   \n",
       "min                                   -0.079426   \n",
       "25%                                   14.983037   \n",
       "50%                                   19.960541   \n",
       "75%                                   24.003170   \n",
       "max                                   32.188906   \n",
       "\n",
       "       secondary_cleaner.state.floatbank6_a_level  \n",
       "count                                19438.000000  \n",
       "mean                                  -505.436305  \n",
       "std                                     37.689057  \n",
       "min                                   -809.741464  \n",
       "25%                                   -500.728067  \n",
       "50%                                   -500.048400  \n",
       "75%                                   -499.495378  \n",
       "max                                   -104.427459  \n",
       "\n",
       "[8 rows x 86 columns]"
      ]
     },
     "execution_count": 515,
     "metadata": {},
     "output_type": "execute_result"
    }
   ],
   "source": [
    "gold_full.describe()"
   ]
  },
  {
   "cell_type": "markdown",
   "metadata": {},
   "source": [
    "Сразу бросается в глаза меньшее количество столбцов в тестовой выборке. 52 против 87 в остальных."
   ]
  },
  {
   "cell_type": "code",
   "execution_count": 516,
   "metadata": {},
   "outputs": [
    {
     "data": {
      "text/plain": [
       "{'final.output.concentrate_ag',\n",
       " 'final.output.concentrate_au',\n",
       " 'final.output.concentrate_pb',\n",
       " 'final.output.concentrate_sol',\n",
       " 'final.output.recovery',\n",
       " 'final.output.tail_ag',\n",
       " 'final.output.tail_au',\n",
       " 'final.output.tail_pb',\n",
       " 'final.output.tail_sol',\n",
       " 'primary_cleaner.output.concentrate_ag',\n",
       " 'primary_cleaner.output.concentrate_au',\n",
       " 'primary_cleaner.output.concentrate_pb',\n",
       " 'primary_cleaner.output.concentrate_sol',\n",
       " 'primary_cleaner.output.tail_ag',\n",
       " 'primary_cleaner.output.tail_au',\n",
       " 'primary_cleaner.output.tail_pb',\n",
       " 'primary_cleaner.output.tail_sol',\n",
       " 'rougher.calculation.au_pb_ratio',\n",
       " 'rougher.calculation.floatbank10_sulfate_to_au_feed',\n",
       " 'rougher.calculation.floatbank11_sulfate_to_au_feed',\n",
       " 'rougher.calculation.sulfate_to_au_concentrate',\n",
       " 'rougher.output.concentrate_ag',\n",
       " 'rougher.output.concentrate_au',\n",
       " 'rougher.output.concentrate_pb',\n",
       " 'rougher.output.concentrate_sol',\n",
       " 'rougher.output.recovery',\n",
       " 'rougher.output.tail_ag',\n",
       " 'rougher.output.tail_au',\n",
       " 'rougher.output.tail_pb',\n",
       " 'rougher.output.tail_sol',\n",
       " 'secondary_cleaner.output.tail_ag',\n",
       " 'secondary_cleaner.output.tail_au',\n",
       " 'secondary_cleaner.output.tail_pb',\n",
       " 'secondary_cleaner.output.tail_sol'}"
      ]
     },
     "execution_count": 516,
     "metadata": {},
     "output_type": "execute_result"
    }
   ],
   "source": [
    "#посмотрим на столбцы, которые отсутствуют в тестовой выборке\n",
    "only_train = set(gold_full.columns) - set(gold_test.columns)\n",
    "only_train"
   ]
  },
  {
   "cell_type": "markdown",
   "metadata": {},
   "source": [
    "**Вывод:** В тестовой выборке отсутствуют выходные признаки после каждого технологического этапа."
   ]
  },
  {
   "cell_type": "markdown",
   "metadata": {},
   "source": [
    "**Найдим MAE между вашими расчётами и значением признака**"
   ]
  },
  {
   "cell_type": "code",
   "execution_count": 517,
   "metadata": {},
   "outputs": [],
   "source": [
    "mae_columns = ['rougher.output.recovery',\n",
    "           'rougher.output.concentrate_au',\n",
    "           'rougher.input.feed_au',\n",
    "           'rougher.output.tail_au']"
   ]
  },
  {
   "cell_type": "code",
   "execution_count": 518,
   "metadata": {},
   "outputs": [],
   "source": [
    "recovery_data = gold_train[mae_columns].dropna()"
   ]
  },
  {
   "cell_type": "code",
   "execution_count": 519,
   "metadata": {},
   "outputs": [
    {
     "data": {
      "text/plain": [
       "0        87.107763\n",
       "1        86.843261\n",
       "2        86.842308\n",
       "3        87.226430\n",
       "4        86.688794\n",
       "           ...    \n",
       "14144    89.574376\n",
       "14145    87.724007\n",
       "14146    88.890579\n",
       "14147    89.858126\n",
       "14148    89.514960\n",
       "Length: 14149, dtype: float64"
      ]
     },
     "execution_count": 519,
     "metadata": {},
     "output_type": "execute_result"
    }
   ],
   "source": [
    "C = recovery_data['rougher.output.concentrate_au']\n",
    "F = recovery_data['rougher.input.feed_au']\n",
    "T = recovery_data['rougher.output.tail_au']\n",
    "recovery = (C * (F - T)) / (F * (C - T)) * 100\n",
    "recovery"
   ]
  },
  {
   "cell_type": "code",
   "execution_count": 520,
   "metadata": {},
   "outputs": [
    {
     "data": {
      "text/plain": [
       "9.73512347450521e-15"
      ]
     },
     "execution_count": 520,
     "metadata": {},
     "output_type": "execute_result"
    }
   ],
   "source": [
    "mean_absolute_error(recovery_data['rougher.output.recovery'], recovery)"
   ]
  },
  {
   "cell_type": "markdown",
   "metadata": {},
   "source": [
    "**Вывод:** значение MAE мало, значит что Recovery посчитан верно."
   ]
  },
  {
   "cell_type": "markdown",
   "metadata": {},
   "source": [
    "Обработка пропусков."
   ]
  },
  {
   "cell_type": "code",
   "execution_count": 521,
   "metadata": {},
   "outputs": [
    {
     "data": {
      "text/html": [
       "<style  type=\"text/css\" >\n",
       "#T_40802_row0_col0,#T_40802_row1_col0,#T_40802_row2_col0,#T_40802_row4_col0,#T_40802_row5_col0,#T_40802_row6_col0,#T_40802_row8_col0,#T_40802_row9_col0,#T_40802_row12_col0,#T_40802_row14_col0,#T_40802_row17_col0,#T_40802_row18_col0,#T_40802_row21_col0,#T_40802_row22_col0,#T_40802_row23_col0,#T_40802_row24_col0,#T_40802_row25_col0,#T_40802_row26_col0,#T_40802_row27_col0,#T_40802_row28_col0,#T_40802_row29_col0,#T_40802_row30_col0,#T_40802_row31_col0,#T_40802_row32_col0,#T_40802_row33_col0,#T_40802_row34_col0,#T_40802_row39_col0,#T_40802_row44_col0,#T_40802_row45_col0,#T_40802_row47_col0,#T_40802_row48_col0,#T_40802_row49_col0,#T_40802_row50_col0,#T_40802_row51_col0,#T_40802_row52_col0,#T_40802_row53_col0,#T_40802_row54_col0,#T_40802_row55_col0,#T_40802_row56_col0,#T_40802_row57_col0,#T_40802_row58_col0,#T_40802_row59_col0,#T_40802_row60_col0,#T_40802_row62_col0,#T_40802_row63_col0,#T_40802_row64_col0,#T_40802_row65_col0,#T_40802_row68_col0,#T_40802_row70_col0,#T_40802_row72_col0,#T_40802_row73_col0,#T_40802_row74_col0,#T_40802_row75_col0,#T_40802_row76_col0,#T_40802_row77_col0,#T_40802_row78_col0,#T_40802_row79_col0,#T_40802_row80_col0,#T_40802_row81_col0,#T_40802_row82_col0,#T_40802_row83_col0,#T_40802_row84_col0,#T_40802_row85_col0,#T_40802_row86_col0{\n",
       "            background-color:  #3b4cc0;\n",
       "            color:  #f1f1f1;\n",
       "        }#T_40802_row3_col0{\n",
       "            background-color:  #6384eb;\n",
       "            color:  #000000;\n",
       "        }#T_40802_row7_col0,#T_40802_row13_col0,#T_40802_row35_col0{\n",
       "            background-color:  #4e68d8;\n",
       "            color:  #000000;\n",
       "        }#T_40802_row10_col0,#T_40802_row46_col0,#T_40802_row71_col0{\n",
       "            background-color:  #3e51c5;\n",
       "            color:  #f1f1f1;\n",
       "        }#T_40802_row11_col0,#T_40802_row42_col0{\n",
       "            background-color:  #4055c8;\n",
       "            color:  #f1f1f1;\n",
       "        }#T_40802_row15_col0{\n",
       "            background-color:  #4a63d3;\n",
       "            color:  #f1f1f1;\n",
       "        }#T_40802_row16_col0{\n",
       "            background-color:  #7396f5;\n",
       "            color:  #000000;\n",
       "        }#T_40802_row19_col0{\n",
       "            background-color:  #3d50c3;\n",
       "            color:  #f1f1f1;\n",
       "        }#T_40802_row20_col0{\n",
       "            background-color:  #4358cb;\n",
       "            color:  #f1f1f1;\n",
       "        }#T_40802_row36_col0,#T_40802_row41_col0,#T_40802_row66_col0{\n",
       "            background-color:  #3c4ec2;\n",
       "            color:  #f1f1f1;\n",
       "        }#T_40802_row37_col0{\n",
       "            background-color:  #5673e0;\n",
       "            color:  #000000;\n",
       "        }#T_40802_row38_col0{\n",
       "            background-color:  #4961d2;\n",
       "            color:  #f1f1f1;\n",
       "        }#T_40802_row40_col0{\n",
       "            background-color:  #3f53c6;\n",
       "            color:  #f1f1f1;\n",
       "        }#T_40802_row43_col0{\n",
       "            background-color:  #93b5fe;\n",
       "            color:  #000000;\n",
       "        }#T_40802_row61_col0{\n",
       "            background-color:  #94b6ff;\n",
       "            color:  #000000;\n",
       "        }#T_40802_row67_col0{\n",
       "            background-color:  #b40426;\n",
       "            color:  #f1f1f1;\n",
       "        }#T_40802_row69_col0{\n",
       "            background-color:  #6485ec;\n",
       "            color:  #000000;\n",
       "        }</style><table id=\"T_40802_\" ><thead>    <tr>        <th class=\"blank level0\" ></th>        <th class=\"col_heading level0 col0\" >0</th>    </tr></thead><tbody>\n",
       "                <tr>\n",
       "                        <th id=\"T_40802_level0_row0\" class=\"row_heading level0 row0\" >date</th>\n",
       "                        <td id=\"T_40802_row0_col0\" class=\"data row0 col0\" >0.000000</td>\n",
       "            </tr>\n",
       "            <tr>\n",
       "                        <th id=\"T_40802_level0_row1\" class=\"row_heading level0 row1\" >final.output.concentrate_ag</th>\n",
       "                        <td id=\"T_40802_row1_col0\" class=\"data row1 col0\" >0.010000</td>\n",
       "            </tr>\n",
       "            <tr>\n",
       "                        <th id=\"T_40802_level0_row2\" class=\"row_heading level0 row2\" >final.output.concentrate_pb</th>\n",
       "                        <td id=\"T_40802_row2_col0\" class=\"data row2 col0\" >0.010000</td>\n",
       "            </tr>\n",
       "            <tr>\n",
       "                        <th id=\"T_40802_level0_row3\" class=\"row_heading level0 row3\" >final.output.concentrate_sol</th>\n",
       "                        <td id=\"T_40802_row3_col0\" class=\"data row3 col0\" >1.490000</td>\n",
       "            </tr>\n",
       "            <tr>\n",
       "                        <th id=\"T_40802_level0_row4\" class=\"row_heading level0 row4\" >final.output.concentrate_au</th>\n",
       "                        <td id=\"T_40802_row4_col0\" class=\"data row4 col0\" >0.000000</td>\n",
       "            </tr>\n",
       "            <tr>\n",
       "                        <th id=\"T_40802_level0_row5\" class=\"row_heading level0 row5\" >final.output.recovery</th>\n",
       "                        <td id=\"T_40802_row5_col0\" class=\"data row5 col0\" >0.000000</td>\n",
       "            </tr>\n",
       "            <tr>\n",
       "                        <th id=\"T_40802_level0_row6\" class=\"row_heading level0 row6\" >final.output.tail_ag</th>\n",
       "                        <td id=\"T_40802_row6_col0\" class=\"data row6 col0\" >0.000000</td>\n",
       "            </tr>\n",
       "            <tr>\n",
       "                        <th id=\"T_40802_level0_row7\" class=\"row_heading level0 row7\" >final.output.tail_pb</th>\n",
       "                        <td id=\"T_40802_row7_col0\" class=\"data row7 col0\" >0.710000</td>\n",
       "            </tr>\n",
       "            <tr>\n",
       "                        <th id=\"T_40802_level0_row8\" class=\"row_heading level0 row8\" >final.output.tail_sol</th>\n",
       "                        <td id=\"T_40802_row8_col0\" class=\"data row8 col0\" >0.040000</td>\n",
       "            </tr>\n",
       "            <tr>\n",
       "                        <th id=\"T_40802_level0_row9\" class=\"row_heading level0 row9\" >final.output.tail_au</th>\n",
       "                        <td id=\"T_40802_row9_col0\" class=\"data row9 col0\" >0.000000</td>\n",
       "            </tr>\n",
       "            <tr>\n",
       "                        <th id=\"T_40802_level0_row10\" class=\"row_heading level0 row10\" >primary_cleaner.input.sulfate</th>\n",
       "                        <td id=\"T_40802_row10_col0\" class=\"data row10 col0\" >0.140000</td>\n",
       "            </tr>\n",
       "            <tr>\n",
       "                        <th id=\"T_40802_level0_row11\" class=\"row_heading level0 row11\" >primary_cleaner.input.depressant</th>\n",
       "                        <td id=\"T_40802_row11_col0\" class=\"data row11 col0\" >0.230000</td>\n",
       "            </tr>\n",
       "            <tr>\n",
       "                        <th id=\"T_40802_level0_row12\" class=\"row_heading level0 row12\" >primary_cleaner.input.feed_size</th>\n",
       "                        <td id=\"T_40802_row12_col0\" class=\"data row12 col0\" >0.000000</td>\n",
       "            </tr>\n",
       "            <tr>\n",
       "                        <th id=\"T_40802_level0_row13\" class=\"row_heading level0 row13\" >primary_cleaner.input.xanthate</th>\n",
       "                        <td id=\"T_40802_row13_col0\" class=\"data row13 col0\" >0.710000</td>\n",
       "            </tr>\n",
       "            <tr>\n",
       "                        <th id=\"T_40802_level0_row14\" class=\"row_heading level0 row14\" >primary_cleaner.output.concentrate_ag</th>\n",
       "                        <td id=\"T_40802_row14_col0\" class=\"data row14 col0\" >0.000000</td>\n",
       "            </tr>\n",
       "            <tr>\n",
       "                        <th id=\"T_40802_level0_row15\" class=\"row_heading level0 row15\" >primary_cleaner.output.concentrate_pb</th>\n",
       "                        <td id=\"T_40802_row15_col0\" class=\"data row15 col0\" >0.610000</td>\n",
       "            </tr>\n",
       "            <tr>\n",
       "                        <th id=\"T_40802_level0_row16\" class=\"row_heading level0 row16\" >primary_cleaner.output.concentrate_sol</th>\n",
       "                        <td id=\"T_40802_row16_col0\" class=\"data row16 col0\" >2.020000</td>\n",
       "            </tr>\n",
       "            <tr>\n",
       "                        <th id=\"T_40802_level0_row17\" class=\"row_heading level0 row17\" >primary_cleaner.output.concentrate_au</th>\n",
       "                        <td id=\"T_40802_row17_col0\" class=\"data row17 col0\" >0.000000</td>\n",
       "            </tr>\n",
       "            <tr>\n",
       "                        <th id=\"T_40802_level0_row18\" class=\"row_heading level0 row18\" >primary_cleaner.output.tail_ag</th>\n",
       "                        <td id=\"T_40802_row18_col0\" class=\"data row18 col0\" >0.010000</td>\n",
       "            </tr>\n",
       "            <tr>\n",
       "                        <th id=\"T_40802_level0_row19\" class=\"row_heading level0 row19\" >primary_cleaner.output.tail_pb</th>\n",
       "                        <td id=\"T_40802_row19_col0\" class=\"data row19 col0\" >0.110000</td>\n",
       "            </tr>\n",
       "            <tr>\n",
       "                        <th id=\"T_40802_level0_row20\" class=\"row_heading level0 row20\" >primary_cleaner.output.tail_sol</th>\n",
       "                        <td id=\"T_40802_row20_col0\" class=\"data row20 col0\" >0.330000</td>\n",
       "            </tr>\n",
       "            <tr>\n",
       "                        <th id=\"T_40802_level0_row21\" class=\"row_heading level0 row21\" >primary_cleaner.output.tail_au</th>\n",
       "                        <td id=\"T_40802_row21_col0\" class=\"data row21 col0\" >0.000000</td>\n",
       "            </tr>\n",
       "            <tr>\n",
       "                        <th id=\"T_40802_level0_row22\" class=\"row_heading level0 row22\" >primary_cleaner.state.floatbank8_a_air</th>\n",
       "                        <td id=\"T_40802_row22_col0\" class=\"data row22 col0\" >0.030000</td>\n",
       "            </tr>\n",
       "            <tr>\n",
       "                        <th id=\"T_40802_level0_row23\" class=\"row_heading level0 row23\" >primary_cleaner.state.floatbank8_a_level</th>\n",
       "                        <td id=\"T_40802_row23_col0\" class=\"data row23 col0\" >0.010000</td>\n",
       "            </tr>\n",
       "            <tr>\n",
       "                        <th id=\"T_40802_level0_row24\" class=\"row_heading level0 row24\" >primary_cleaner.state.floatbank8_b_air</th>\n",
       "                        <td id=\"T_40802_row24_col0\" class=\"data row24 col0\" >0.030000</td>\n",
       "            </tr>\n",
       "            <tr>\n",
       "                        <th id=\"T_40802_level0_row25\" class=\"row_heading level0 row25\" >primary_cleaner.state.floatbank8_b_level</th>\n",
       "                        <td id=\"T_40802_row25_col0\" class=\"data row25 col0\" >0.010000</td>\n",
       "            </tr>\n",
       "            <tr>\n",
       "                        <th id=\"T_40802_level0_row26\" class=\"row_heading level0 row26\" >primary_cleaner.state.floatbank8_c_air</th>\n",
       "                        <td id=\"T_40802_row26_col0\" class=\"data row26 col0\" >0.010000</td>\n",
       "            </tr>\n",
       "            <tr>\n",
       "                        <th id=\"T_40802_level0_row27\" class=\"row_heading level0 row27\" >primary_cleaner.state.floatbank8_c_level</th>\n",
       "                        <td id=\"T_40802_row27_col0\" class=\"data row27 col0\" >0.010000</td>\n",
       "            </tr>\n",
       "            <tr>\n",
       "                        <th id=\"T_40802_level0_row28\" class=\"row_heading level0 row28\" >primary_cleaner.state.floatbank8_d_air</th>\n",
       "                        <td id=\"T_40802_row28_col0\" class=\"data row28 col0\" >0.020000</td>\n",
       "            </tr>\n",
       "            <tr>\n",
       "                        <th id=\"T_40802_level0_row29\" class=\"row_heading level0 row29\" >primary_cleaner.state.floatbank8_d_level</th>\n",
       "                        <td id=\"T_40802_row29_col0\" class=\"data row29 col0\" >0.010000</td>\n",
       "            </tr>\n",
       "            <tr>\n",
       "                        <th id=\"T_40802_level0_row30\" class=\"row_heading level0 row30\" >rougher.calculation.sulfate_to_au_concentrate</th>\n",
       "                        <td id=\"T_40802_row30_col0\" class=\"data row30 col0\" >0.010000</td>\n",
       "            </tr>\n",
       "            <tr>\n",
       "                        <th id=\"T_40802_level0_row31\" class=\"row_heading level0 row31\" >rougher.calculation.floatbank10_sulfate_to_au_feed</th>\n",
       "                        <td id=\"T_40802_row31_col0\" class=\"data row31 col0\" >0.010000</td>\n",
       "            </tr>\n",
       "            <tr>\n",
       "                        <th id=\"T_40802_level0_row32\" class=\"row_heading level0 row32\" >rougher.calculation.floatbank11_sulfate_to_au_feed</th>\n",
       "                        <td id=\"T_40802_row32_col0\" class=\"data row32 col0\" >0.010000</td>\n",
       "            </tr>\n",
       "            <tr>\n",
       "                        <th id=\"T_40802_level0_row33\" class=\"row_heading level0 row33\" >rougher.calculation.au_pb_ratio</th>\n",
       "                        <td id=\"T_40802_row33_col0\" class=\"data row33 col0\" >0.000000</td>\n",
       "            </tr>\n",
       "            <tr>\n",
       "                        <th id=\"T_40802_level0_row34\" class=\"row_heading level0 row34\" >rougher.input.feed_ag</th>\n",
       "                        <td id=\"T_40802_row34_col0\" class=\"data row34 col0\" >0.000000</td>\n",
       "            </tr>\n",
       "            <tr>\n",
       "                        <th id=\"T_40802_level0_row35\" class=\"row_heading level0 row35\" >rougher.input.feed_pb</th>\n",
       "                        <td id=\"T_40802_row35_col0\" class=\"data row35 col0\" >0.710000</td>\n",
       "            </tr>\n",
       "            <tr>\n",
       "                        <th id=\"T_40802_level0_row36\" class=\"row_heading level0 row36\" >rougher.input.feed_rate</th>\n",
       "                        <td id=\"T_40802_row36_col0\" class=\"data row36 col0\" >0.060000</td>\n",
       "            </tr>\n",
       "            <tr>\n",
       "                        <th id=\"T_40802_level0_row37\" class=\"row_heading level0 row37\" >rougher.input.feed_size</th>\n",
       "                        <td id=\"T_40802_row37_col0\" class=\"data row37 col0\" >1.020000</td>\n",
       "            </tr>\n",
       "            <tr>\n",
       "                        <th id=\"T_40802_level0_row38\" class=\"row_heading level0 row38\" >rougher.input.feed_sol</th>\n",
       "                        <td id=\"T_40802_row38_col0\" class=\"data row38 col0\" >0.550000</td>\n",
       "            </tr>\n",
       "            <tr>\n",
       "                        <th id=\"T_40802_level0_row39\" class=\"row_heading level0 row39\" >rougher.input.feed_au</th>\n",
       "                        <td id=\"T_40802_row39_col0\" class=\"data row39 col0\" >0.000000</td>\n",
       "            </tr>\n",
       "            <tr>\n",
       "                        <th id=\"T_40802_level0_row40\" class=\"row_heading level0 row40\" >rougher.input.floatbank10_sulfate</th>\n",
       "                        <td id=\"T_40802_row40_col0\" class=\"data row40 col0\" >0.200000</td>\n",
       "            </tr>\n",
       "            <tr>\n",
       "                        <th id=\"T_40802_level0_row41\" class=\"row_heading level0 row41\" >rougher.input.floatbank10_xanthate</th>\n",
       "                        <td id=\"T_40802_row41_col0\" class=\"data row41 col0\" >0.060000</td>\n",
       "            </tr>\n",
       "            <tr>\n",
       "                        <th id=\"T_40802_level0_row42\" class=\"row_heading level0 row42\" >rougher.input.floatbank11_sulfate</th>\n",
       "                        <td id=\"T_40802_row42_col0\" class=\"data row42 col0\" >0.250000</td>\n",
       "            </tr>\n",
       "            <tr>\n",
       "                        <th id=\"T_40802_level0_row43\" class=\"row_heading level0 row43\" >rougher.input.floatbank11_xanthate</th>\n",
       "                        <td id=\"T_40802_row43_col0\" class=\"data row43 col0\" >3.020000</td>\n",
       "            </tr>\n",
       "            <tr>\n",
       "                        <th id=\"T_40802_level0_row44\" class=\"row_heading level0 row44\" >rougher.output.concentrate_ag</th>\n",
       "                        <td id=\"T_40802_row44_col0\" class=\"data row44 col0\" >0.000000</td>\n",
       "            </tr>\n",
       "            <tr>\n",
       "                        <th id=\"T_40802_level0_row45\" class=\"row_heading level0 row45\" >rougher.output.concentrate_pb</th>\n",
       "                        <td id=\"T_40802_row45_col0\" class=\"data row45 col0\" >0.000000</td>\n",
       "            </tr>\n",
       "            <tr>\n",
       "                        <th id=\"T_40802_level0_row46\" class=\"row_heading level0 row46\" >rougher.output.concentrate_sol</th>\n",
       "                        <td id=\"T_40802_row46_col0\" class=\"data row46 col0\" >0.160000</td>\n",
       "            </tr>\n",
       "            <tr>\n",
       "                        <th id=\"T_40802_level0_row47\" class=\"row_heading level0 row47\" >rougher.output.concentrate_au</th>\n",
       "                        <td id=\"T_40802_row47_col0\" class=\"data row47 col0\" >0.000000</td>\n",
       "            </tr>\n",
       "            <tr>\n",
       "                        <th id=\"T_40802_level0_row48\" class=\"row_heading level0 row48\" >rougher.output.recovery</th>\n",
       "                        <td id=\"T_40802_row48_col0\" class=\"data row48 col0\" >0.000000</td>\n",
       "            </tr>\n",
       "            <tr>\n",
       "                        <th id=\"T_40802_level0_row49\" class=\"row_heading level0 row49\" >rougher.output.tail_ag</th>\n",
       "                        <td id=\"T_40802_row49_col0\" class=\"data row49 col0\" >0.010000</td>\n",
       "            </tr>\n",
       "            <tr>\n",
       "                        <th id=\"T_40802_level0_row50\" class=\"row_heading level0 row50\" >rougher.output.tail_pb</th>\n",
       "                        <td id=\"T_40802_row50_col0\" class=\"data row50 col0\" >0.000000</td>\n",
       "            </tr>\n",
       "            <tr>\n",
       "                        <th id=\"T_40802_level0_row51\" class=\"row_heading level0 row51\" >rougher.output.tail_sol</th>\n",
       "                        <td id=\"T_40802_row51_col0\" class=\"data row51 col0\" >0.000000</td>\n",
       "            </tr>\n",
       "            <tr>\n",
       "                        <th id=\"T_40802_level0_row52\" class=\"row_heading level0 row52\" >rougher.output.tail_au</th>\n",
       "                        <td id=\"T_40802_row52_col0\" class=\"data row52 col0\" >0.000000</td>\n",
       "            </tr>\n",
       "            <tr>\n",
       "                        <th id=\"T_40802_level0_row53\" class=\"row_heading level0 row53\" >rougher.state.floatbank10_a_air</th>\n",
       "                        <td id=\"T_40802_row53_col0\" class=\"data row53 col0\" >0.010000</td>\n",
       "            </tr>\n",
       "            <tr>\n",
       "                        <th id=\"T_40802_level0_row54\" class=\"row_heading level0 row54\" >rougher.state.floatbank10_a_level</th>\n",
       "                        <td id=\"T_40802_row54_col0\" class=\"data row54 col0\" >0.010000</td>\n",
       "            </tr>\n",
       "            <tr>\n",
       "                        <th id=\"T_40802_level0_row55\" class=\"row_heading level0 row55\" >rougher.state.floatbank10_b_air</th>\n",
       "                        <td id=\"T_40802_row55_col0\" class=\"data row55 col0\" >0.010000</td>\n",
       "            </tr>\n",
       "            <tr>\n",
       "                        <th id=\"T_40802_level0_row56\" class=\"row_heading level0 row56\" >rougher.state.floatbank10_b_level</th>\n",
       "                        <td id=\"T_40802_row56_col0\" class=\"data row56 col0\" >0.010000</td>\n",
       "            </tr>\n",
       "            <tr>\n",
       "                        <th id=\"T_40802_level0_row57\" class=\"row_heading level0 row57\" >rougher.state.floatbank10_c_air</th>\n",
       "                        <td id=\"T_40802_row57_col0\" class=\"data row57 col0\" >0.010000</td>\n",
       "            </tr>\n",
       "            <tr>\n",
       "                        <th id=\"T_40802_level0_row58\" class=\"row_heading level0 row58\" >rougher.state.floatbank10_c_level</th>\n",
       "                        <td id=\"T_40802_row58_col0\" class=\"data row58 col0\" >0.010000</td>\n",
       "            </tr>\n",
       "            <tr>\n",
       "                        <th id=\"T_40802_level0_row59\" class=\"row_heading level0 row59\" >rougher.state.floatbank10_d_air</th>\n",
       "                        <td id=\"T_40802_row59_col0\" class=\"data row59 col0\" >0.000000</td>\n",
       "            </tr>\n",
       "            <tr>\n",
       "                        <th id=\"T_40802_level0_row60\" class=\"row_heading level0 row60\" >rougher.state.floatbank10_d_level</th>\n",
       "                        <td id=\"T_40802_row60_col0\" class=\"data row60 col0\" >0.000000</td>\n",
       "            </tr>\n",
       "            <tr>\n",
       "                        <th id=\"T_40802_level0_row61\" class=\"row_heading level0 row61\" >rougher.state.floatbank10_e_air</th>\n",
       "                        <td id=\"T_40802_row61_col0\" class=\"data row61 col0\" >3.080000</td>\n",
       "            </tr>\n",
       "            <tr>\n",
       "                        <th id=\"T_40802_level0_row62\" class=\"row_heading level0 row62\" >rougher.state.floatbank10_e_level</th>\n",
       "                        <td id=\"T_40802_row62_col0\" class=\"data row62 col0\" >0.000000</td>\n",
       "            </tr>\n",
       "            <tr>\n",
       "                        <th id=\"T_40802_level0_row63\" class=\"row_heading level0 row63\" >rougher.state.floatbank10_f_air</th>\n",
       "                        <td id=\"T_40802_row63_col0\" class=\"data row63 col0\" >0.000000</td>\n",
       "            </tr>\n",
       "            <tr>\n",
       "                        <th id=\"T_40802_level0_row64\" class=\"row_heading level0 row64\" >rougher.state.floatbank10_f_level</th>\n",
       "                        <td id=\"T_40802_row64_col0\" class=\"data row64 col0\" >0.000000</td>\n",
       "            </tr>\n",
       "            <tr>\n",
       "                        <th id=\"T_40802_level0_row65\" class=\"row_heading level0 row65\" >secondary_cleaner.output.tail_ag</th>\n",
       "                        <td id=\"T_40802_row65_col0\" class=\"data row65 col0\" >0.010000</td>\n",
       "            </tr>\n",
       "            <tr>\n",
       "                        <th id=\"T_40802_level0_row66\" class=\"row_heading level0 row66\" >secondary_cleaner.output.tail_pb</th>\n",
       "                        <td id=\"T_40802_row66_col0\" class=\"data row66 col0\" >0.070000</td>\n",
       "            </tr>\n",
       "            <tr>\n",
       "                        <th id=\"T_40802_level0_row67\" class=\"row_heading level0 row67\" >secondary_cleaner.output.tail_sol</th>\n",
       "                        <td id=\"T_40802_row67_col0\" class=\"data row67 col0\" >11.340000</td>\n",
       "            </tr>\n",
       "            <tr>\n",
       "                        <th id=\"T_40802_level0_row68\" class=\"row_heading level0 row68\" >secondary_cleaner.output.tail_au</th>\n",
       "                        <td id=\"T_40802_row68_col0\" class=\"data row68 col0\" >0.000000</td>\n",
       "            </tr>\n",
       "            <tr>\n",
       "                        <th id=\"T_40802_level0_row69\" class=\"row_heading level0 row69\" >secondary_cleaner.state.floatbank2_a_air</th>\n",
       "                        <td id=\"T_40802_row69_col0\" class=\"data row69 col0\" >1.530000</td>\n",
       "            </tr>\n",
       "            <tr>\n",
       "                        <th id=\"T_40802_level0_row70\" class=\"row_heading level0 row70\" >secondary_cleaner.state.floatbank2_a_level</th>\n",
       "                        <td id=\"T_40802_row70_col0\" class=\"data row70 col0\" >0.010000</td>\n",
       "            </tr>\n",
       "            <tr>\n",
       "                        <th id=\"T_40802_level0_row71\" class=\"row_heading level0 row71\" >secondary_cleaner.state.floatbank2_b_air</th>\n",
       "                        <td id=\"T_40802_row71_col0\" class=\"data row71 col0\" >0.150000</td>\n",
       "            </tr>\n",
       "            <tr>\n",
       "                        <th id=\"T_40802_level0_row72\" class=\"row_heading level0 row72\" >secondary_cleaner.state.floatbank2_b_level</th>\n",
       "                        <td id=\"T_40802_row72_col0\" class=\"data row72 col0\" >0.010000</td>\n",
       "            </tr>\n",
       "            <tr>\n",
       "                        <th id=\"T_40802_level0_row73\" class=\"row_heading level0 row73\" >secondary_cleaner.state.floatbank3_a_air</th>\n",
       "                        <td id=\"T_40802_row73_col0\" class=\"data row73 col0\" >0.030000</td>\n",
       "            </tr>\n",
       "            <tr>\n",
       "                        <th id=\"T_40802_level0_row74\" class=\"row_heading level0 row74\" >secondary_cleaner.state.floatbank3_a_level</th>\n",
       "                        <td id=\"T_40802_row74_col0\" class=\"data row74 col0\" >0.010000</td>\n",
       "            </tr>\n",
       "            <tr>\n",
       "                        <th id=\"T_40802_level0_row75\" class=\"row_heading level0 row75\" >secondary_cleaner.state.floatbank3_b_air</th>\n",
       "                        <td id=\"T_40802_row75_col0\" class=\"data row75 col0\" >0.010000</td>\n",
       "            </tr>\n",
       "            <tr>\n",
       "                        <th id=\"T_40802_level0_row76\" class=\"row_heading level0 row76\" >secondary_cleaner.state.floatbank3_b_level</th>\n",
       "                        <td id=\"T_40802_row76_col0\" class=\"data row76 col0\" >0.010000</td>\n",
       "            </tr>\n",
       "            <tr>\n",
       "                        <th id=\"T_40802_level0_row77\" class=\"row_heading level0 row77\" >secondary_cleaner.state.floatbank4_a_air</th>\n",
       "                        <td id=\"T_40802_row77_col0\" class=\"data row77 col0\" >0.040000</td>\n",
       "            </tr>\n",
       "            <tr>\n",
       "                        <th id=\"T_40802_level0_row78\" class=\"row_heading level0 row78\" >secondary_cleaner.state.floatbank4_a_level</th>\n",
       "                        <td id=\"T_40802_row78_col0\" class=\"data row78 col0\" >0.010000</td>\n",
       "            </tr>\n",
       "            <tr>\n",
       "                        <th id=\"T_40802_level0_row79\" class=\"row_heading level0 row79\" >secondary_cleaner.state.floatbank4_b_air</th>\n",
       "                        <td id=\"T_40802_row79_col0\" class=\"data row79 col0\" >0.010000</td>\n",
       "            </tr>\n",
       "            <tr>\n",
       "                        <th id=\"T_40802_level0_row80\" class=\"row_heading level0 row80\" >secondary_cleaner.state.floatbank4_b_level</th>\n",
       "                        <td id=\"T_40802_row80_col0\" class=\"data row80 col0\" >0.010000</td>\n",
       "            </tr>\n",
       "            <tr>\n",
       "                        <th id=\"T_40802_level0_row81\" class=\"row_heading level0 row81\" >secondary_cleaner.state.floatbank5_a_air</th>\n",
       "                        <td id=\"T_40802_row81_col0\" class=\"data row81 col0\" >0.010000</td>\n",
       "            </tr>\n",
       "            <tr>\n",
       "                        <th id=\"T_40802_level0_row82\" class=\"row_heading level0 row82\" >secondary_cleaner.state.floatbank5_a_level</th>\n",
       "                        <td id=\"T_40802_row82_col0\" class=\"data row82 col0\" >0.010000</td>\n",
       "            </tr>\n",
       "            <tr>\n",
       "                        <th id=\"T_40802_level0_row83\" class=\"row_heading level0 row83\" >secondary_cleaner.state.floatbank5_b_air</th>\n",
       "                        <td id=\"T_40802_row83_col0\" class=\"data row83 col0\" >0.010000</td>\n",
       "            </tr>\n",
       "            <tr>\n",
       "                        <th id=\"T_40802_level0_row84\" class=\"row_heading level0 row84\" >secondary_cleaner.state.floatbank5_b_level</th>\n",
       "                        <td id=\"T_40802_row84_col0\" class=\"data row84 col0\" >0.010000</td>\n",
       "            </tr>\n",
       "            <tr>\n",
       "                        <th id=\"T_40802_level0_row85\" class=\"row_heading level0 row85\" >secondary_cleaner.state.floatbank6_a_air</th>\n",
       "                        <td id=\"T_40802_row85_col0\" class=\"data row85 col0\" >0.010000</td>\n",
       "            </tr>\n",
       "            <tr>\n",
       "                        <th id=\"T_40802_level0_row86\" class=\"row_heading level0 row86\" >secondary_cleaner.state.floatbank6_a_level</th>\n",
       "                        <td id=\"T_40802_row86_col0\" class=\"data row86 col0\" >0.010000</td>\n",
       "            </tr>\n",
       "    </tbody></table>"
      ],
      "text/plain": [
       "<pandas.io.formats.style.Styler at 0x7faae1b40a00>"
      ]
     },
     "execution_count": 521,
     "metadata": {},
     "output_type": "execute_result"
    }
   ],
   "source": [
    "pd.DataFrame(round((gold_train.isna().mean()*100),2)).style.background_gradient('coolwarm')"
   ]
  },
  {
   "cell_type": "code",
   "execution_count": 522,
   "metadata": {},
   "outputs": [
    {
     "data": {
      "text/html": [
       "<style  type=\"text/css\" >\n",
       "#T_0cf1f_row0_col0,#T_0cf1f_row3_col0,#T_0cf1f_row5_col0,#T_0cf1f_row6_col0,#T_0cf1f_row7_col0,#T_0cf1f_row8_col0,#T_0cf1f_row9_col0,#T_0cf1f_row10_col0,#T_0cf1f_row11_col0,#T_0cf1f_row12_col0,#T_0cf1f_row13_col0,#T_0cf1f_row14_col0,#T_0cf1f_row18_col0,#T_0cf1f_row20_col0,#T_0cf1f_row23_col0,#T_0cf1f_row24_col0,#T_0cf1f_row25_col0,#T_0cf1f_row26_col0,#T_0cf1f_row27_col0,#T_0cf1f_row28_col0,#T_0cf1f_row29_col0,#T_0cf1f_row30_col0,#T_0cf1f_row31_col0,#T_0cf1f_row32_col0,#T_0cf1f_row33_col0,#T_0cf1f_row34_col0,#T_0cf1f_row36_col0,#T_0cf1f_row38_col0,#T_0cf1f_row40_col0,#T_0cf1f_row41_col0,#T_0cf1f_row42_col0,#T_0cf1f_row43_col0,#T_0cf1f_row44_col0,#T_0cf1f_row45_col0,#T_0cf1f_row46_col0,#T_0cf1f_row47_col0,#T_0cf1f_row48_col0,#T_0cf1f_row49_col0,#T_0cf1f_row50_col0,#T_0cf1f_row51_col0,#T_0cf1f_row52_col0{\n",
       "            background-color:  #3b4cc0;\n",
       "            color:  #f1f1f1;\n",
       "        }#T_0cf1f_row1_col0,#T_0cf1f_row4_col0{\n",
       "            background-color:  #7093f3;\n",
       "            color:  #000000;\n",
       "        }#T_0cf1f_row2_col0,#T_0cf1f_row19_col0{\n",
       "            background-color:  #799cf8;\n",
       "            color:  #000000;\n",
       "        }#T_0cf1f_row15_col0,#T_0cf1f_row35_col0{\n",
       "            background-color:  #6282ea;\n",
       "            color:  #000000;\n",
       "        }#T_0cf1f_row16_col0{\n",
       "            background-color:  #465ecf;\n",
       "            color:  #f1f1f1;\n",
       "        }#T_0cf1f_row17_col0{\n",
       "            background-color:  #e36c55;\n",
       "            color:  #000000;\n",
       "        }#T_0cf1f_row21_col0{\n",
       "            background-color:  #a5c3fe;\n",
       "            color:  #000000;\n",
       "        }#T_0cf1f_row22_col0{\n",
       "            background-color:  #b40426;\n",
       "            color:  #f1f1f1;\n",
       "        }#T_0cf1f_row37_col0{\n",
       "            background-color:  #5470de;\n",
       "            color:  #000000;\n",
       "        }#T_0cf1f_row39_col0{\n",
       "            background-color:  #b3cdfb;\n",
       "            color:  #000000;\n",
       "        }</style><table id=\"T_0cf1f_\" ><thead>    <tr>        <th class=\"blank level0\" ></th>        <th class=\"col_heading level0 col0\" >0</th>    </tr></thead><tbody>\n",
       "                <tr>\n",
       "                        <th id=\"T_0cf1f_level0_row0\" class=\"row_heading level0 row0\" >date</th>\n",
       "                        <td id=\"T_0cf1f_row0_col0\" class=\"data row0 col0\" >0.000000</td>\n",
       "            </tr>\n",
       "            <tr>\n",
       "                        <th id=\"T_0cf1f_level0_row1\" class=\"row_heading level0 row1\" >primary_cleaner.input.sulfate</th>\n",
       "                        <td id=\"T_0cf1f_row1_col0\" class=\"data row1 col0\" >0.080000</td>\n",
       "            </tr>\n",
       "            <tr>\n",
       "                        <th id=\"T_0cf1f_level0_row2\" class=\"row_heading level0 row2\" >primary_cleaner.input.depressant</th>\n",
       "                        <td id=\"T_0cf1f_row2_col0\" class=\"data row2 col0\" >0.090000</td>\n",
       "            </tr>\n",
       "            <tr>\n",
       "                        <th id=\"T_0cf1f_level0_row3\" class=\"row_heading level0 row3\" >primary_cleaner.input.feed_size</th>\n",
       "                        <td id=\"T_0cf1f_row3_col0\" class=\"data row3 col0\" >0.000000</td>\n",
       "            </tr>\n",
       "            <tr>\n",
       "                        <th id=\"T_0cf1f_level0_row4\" class=\"row_heading level0 row4\" >primary_cleaner.input.xanthate</th>\n",
       "                        <td id=\"T_0cf1f_row4_col0\" class=\"data row4 col0\" >0.080000</td>\n",
       "            </tr>\n",
       "            <tr>\n",
       "                        <th id=\"T_0cf1f_level0_row5\" class=\"row_heading level0 row5\" >primary_cleaner.state.floatbank8_a_air</th>\n",
       "                        <td id=\"T_0cf1f_row5_col0\" class=\"data row5 col0\" >0.000000</td>\n",
       "            </tr>\n",
       "            <tr>\n",
       "                        <th id=\"T_0cf1f_level0_row6\" class=\"row_heading level0 row6\" >primary_cleaner.state.floatbank8_a_level</th>\n",
       "                        <td id=\"T_0cf1f_row6_col0\" class=\"data row6 col0\" >0.000000</td>\n",
       "            </tr>\n",
       "            <tr>\n",
       "                        <th id=\"T_0cf1f_level0_row7\" class=\"row_heading level0 row7\" >primary_cleaner.state.floatbank8_b_air</th>\n",
       "                        <td id=\"T_0cf1f_row7_col0\" class=\"data row7 col0\" >0.000000</td>\n",
       "            </tr>\n",
       "            <tr>\n",
       "                        <th id=\"T_0cf1f_level0_row8\" class=\"row_heading level0 row8\" >primary_cleaner.state.floatbank8_b_level</th>\n",
       "                        <td id=\"T_0cf1f_row8_col0\" class=\"data row8 col0\" >0.000000</td>\n",
       "            </tr>\n",
       "            <tr>\n",
       "                        <th id=\"T_0cf1f_level0_row9\" class=\"row_heading level0 row9\" >primary_cleaner.state.floatbank8_c_air</th>\n",
       "                        <td id=\"T_0cf1f_row9_col0\" class=\"data row9 col0\" >0.000000</td>\n",
       "            </tr>\n",
       "            <tr>\n",
       "                        <th id=\"T_0cf1f_level0_row10\" class=\"row_heading level0 row10\" >primary_cleaner.state.floatbank8_c_level</th>\n",
       "                        <td id=\"T_0cf1f_row10_col0\" class=\"data row10 col0\" >0.000000</td>\n",
       "            </tr>\n",
       "            <tr>\n",
       "                        <th id=\"T_0cf1f_level0_row11\" class=\"row_heading level0 row11\" >primary_cleaner.state.floatbank8_d_air</th>\n",
       "                        <td id=\"T_0cf1f_row11_col0\" class=\"data row11 col0\" >0.000000</td>\n",
       "            </tr>\n",
       "            <tr>\n",
       "                        <th id=\"T_0cf1f_level0_row12\" class=\"row_heading level0 row12\" >primary_cleaner.state.floatbank8_d_level</th>\n",
       "                        <td id=\"T_0cf1f_row12_col0\" class=\"data row12 col0\" >0.000000</td>\n",
       "            </tr>\n",
       "            <tr>\n",
       "                        <th id=\"T_0cf1f_level0_row13\" class=\"row_heading level0 row13\" >rougher.input.feed_ag</th>\n",
       "                        <td id=\"T_0cf1f_row13_col0\" class=\"data row13 col0\" >0.000000</td>\n",
       "            </tr>\n",
       "            <tr>\n",
       "                        <th id=\"T_0cf1f_level0_row14\" class=\"row_heading level0 row14\" >rougher.input.feed_pb</th>\n",
       "                        <td id=\"T_0cf1f_row14_col0\" class=\"data row14 col0\" >0.000000</td>\n",
       "            </tr>\n",
       "            <tr>\n",
       "                        <th id=\"T_0cf1f_level0_row15\" class=\"row_heading level0 row15\" >rougher.input.feed_rate</th>\n",
       "                        <td id=\"T_0cf1f_row15_col0\" class=\"data row15 col0\" >0.060000</td>\n",
       "            </tr>\n",
       "            <tr>\n",
       "                        <th id=\"T_0cf1f_level0_row16\" class=\"row_heading level0 row16\" >rougher.input.feed_size</th>\n",
       "                        <td id=\"T_0cf1f_row16_col0\" class=\"data row16 col0\" >0.020000</td>\n",
       "            </tr>\n",
       "            <tr>\n",
       "                        <th id=\"T_0cf1f_level0_row17\" class=\"row_heading level0 row17\" >rougher.input.feed_sol</th>\n",
       "                        <td id=\"T_0cf1f_row17_col0\" class=\"data row17 col0\" >0.400000</td>\n",
       "            </tr>\n",
       "            <tr>\n",
       "                        <th id=\"T_0cf1f_level0_row18\" class=\"row_heading level0 row18\" >rougher.input.feed_au</th>\n",
       "                        <td id=\"T_0cf1f_row18_col0\" class=\"data row18 col0\" >0.000000</td>\n",
       "            </tr>\n",
       "            <tr>\n",
       "                        <th id=\"T_0cf1f_level0_row19\" class=\"row_heading level0 row19\" >rougher.input.floatbank10_sulfate</th>\n",
       "                        <td id=\"T_0cf1f_row19_col0\" class=\"data row19 col0\" >0.090000</td>\n",
       "            </tr>\n",
       "            <tr>\n",
       "                        <th id=\"T_0cf1f_level0_row20\" class=\"row_heading level0 row20\" >rougher.input.floatbank10_xanthate</th>\n",
       "                        <td id=\"T_0cf1f_row20_col0\" class=\"data row20 col0\" >0.000000</td>\n",
       "            </tr>\n",
       "            <tr>\n",
       "                        <th id=\"T_0cf1f_level0_row21\" class=\"row_heading level0 row21\" >rougher.input.floatbank11_sulfate</th>\n",
       "                        <td id=\"T_0cf1f_row21_col0\" class=\"data row21 col0\" >0.150000</td>\n",
       "            </tr>\n",
       "            <tr>\n",
       "                        <th id=\"T_0cf1f_level0_row22\" class=\"row_heading level0 row22\" >rougher.input.floatbank11_xanthate</th>\n",
       "                        <td id=\"T_0cf1f_row22_col0\" class=\"data row22 col0\" >0.470000</td>\n",
       "            </tr>\n",
       "            <tr>\n",
       "                        <th id=\"T_0cf1f_level0_row23\" class=\"row_heading level0 row23\" >rougher.state.floatbank10_a_air</th>\n",
       "                        <td id=\"T_0cf1f_row23_col0\" class=\"data row23 col0\" >0.000000</td>\n",
       "            </tr>\n",
       "            <tr>\n",
       "                        <th id=\"T_0cf1f_level0_row24\" class=\"row_heading level0 row24\" >rougher.state.floatbank10_a_level</th>\n",
       "                        <td id=\"T_0cf1f_row24_col0\" class=\"data row24 col0\" >0.000000</td>\n",
       "            </tr>\n",
       "            <tr>\n",
       "                        <th id=\"T_0cf1f_level0_row25\" class=\"row_heading level0 row25\" >rougher.state.floatbank10_b_air</th>\n",
       "                        <td id=\"T_0cf1f_row25_col0\" class=\"data row25 col0\" >0.000000</td>\n",
       "            </tr>\n",
       "            <tr>\n",
       "                        <th id=\"T_0cf1f_level0_row26\" class=\"row_heading level0 row26\" >rougher.state.floatbank10_b_level</th>\n",
       "                        <td id=\"T_0cf1f_row26_col0\" class=\"data row26 col0\" >0.000000</td>\n",
       "            </tr>\n",
       "            <tr>\n",
       "                        <th id=\"T_0cf1f_level0_row27\" class=\"row_heading level0 row27\" >rougher.state.floatbank10_c_air</th>\n",
       "                        <td id=\"T_0cf1f_row27_col0\" class=\"data row27 col0\" >0.000000</td>\n",
       "            </tr>\n",
       "            <tr>\n",
       "                        <th id=\"T_0cf1f_level0_row28\" class=\"row_heading level0 row28\" >rougher.state.floatbank10_c_level</th>\n",
       "                        <td id=\"T_0cf1f_row28_col0\" class=\"data row28 col0\" >0.000000</td>\n",
       "            </tr>\n",
       "            <tr>\n",
       "                        <th id=\"T_0cf1f_level0_row29\" class=\"row_heading level0 row29\" >rougher.state.floatbank10_d_air</th>\n",
       "                        <td id=\"T_0cf1f_row29_col0\" class=\"data row29 col0\" >0.000000</td>\n",
       "            </tr>\n",
       "            <tr>\n",
       "                        <th id=\"T_0cf1f_level0_row30\" class=\"row_heading level0 row30\" >rougher.state.floatbank10_d_level</th>\n",
       "                        <td id=\"T_0cf1f_row30_col0\" class=\"data row30 col0\" >0.000000</td>\n",
       "            </tr>\n",
       "            <tr>\n",
       "                        <th id=\"T_0cf1f_level0_row31\" class=\"row_heading level0 row31\" >rougher.state.floatbank10_e_air</th>\n",
       "                        <td id=\"T_0cf1f_row31_col0\" class=\"data row31 col0\" >0.000000</td>\n",
       "            </tr>\n",
       "            <tr>\n",
       "                        <th id=\"T_0cf1f_level0_row32\" class=\"row_heading level0 row32\" >rougher.state.floatbank10_e_level</th>\n",
       "                        <td id=\"T_0cf1f_row32_col0\" class=\"data row32 col0\" >0.000000</td>\n",
       "            </tr>\n",
       "            <tr>\n",
       "                        <th id=\"T_0cf1f_level0_row33\" class=\"row_heading level0 row33\" >rougher.state.floatbank10_f_air</th>\n",
       "                        <td id=\"T_0cf1f_row33_col0\" class=\"data row33 col0\" >0.000000</td>\n",
       "            </tr>\n",
       "            <tr>\n",
       "                        <th id=\"T_0cf1f_level0_row34\" class=\"row_heading level0 row34\" >rougher.state.floatbank10_f_level</th>\n",
       "                        <td id=\"T_0cf1f_row34_col0\" class=\"data row34 col0\" >0.000000</td>\n",
       "            </tr>\n",
       "            <tr>\n",
       "                        <th id=\"T_0cf1f_level0_row35\" class=\"row_heading level0 row35\" >secondary_cleaner.state.floatbank2_a_air</th>\n",
       "                        <td id=\"T_0cf1f_row35_col0\" class=\"data row35 col0\" >0.060000</td>\n",
       "            </tr>\n",
       "            <tr>\n",
       "                        <th id=\"T_0cf1f_level0_row36\" class=\"row_heading level0 row36\" >secondary_cleaner.state.floatbank2_a_level</th>\n",
       "                        <td id=\"T_0cf1f_row36_col0\" class=\"data row36 col0\" >0.000000</td>\n",
       "            </tr>\n",
       "            <tr>\n",
       "                        <th id=\"T_0cf1f_level0_row37\" class=\"row_heading level0 row37\" >secondary_cleaner.state.floatbank2_b_air</th>\n",
       "                        <td id=\"T_0cf1f_row37_col0\" class=\"data row37 col0\" >0.040000</td>\n",
       "            </tr>\n",
       "            <tr>\n",
       "                        <th id=\"T_0cf1f_level0_row38\" class=\"row_heading level0 row38\" >secondary_cleaner.state.floatbank2_b_level</th>\n",
       "                        <td id=\"T_0cf1f_row38_col0\" class=\"data row38 col0\" >0.000000</td>\n",
       "            </tr>\n",
       "            <tr>\n",
       "                        <th id=\"T_0cf1f_level0_row39\" class=\"row_heading level0 row39\" >secondary_cleaner.state.floatbank3_a_air</th>\n",
       "                        <td id=\"T_0cf1f_row39_col0\" class=\"data row39 col0\" >0.170000</td>\n",
       "            </tr>\n",
       "            <tr>\n",
       "                        <th id=\"T_0cf1f_level0_row40\" class=\"row_heading level0 row40\" >secondary_cleaner.state.floatbank3_a_level</th>\n",
       "                        <td id=\"T_0cf1f_row40_col0\" class=\"data row40 col0\" >0.000000</td>\n",
       "            </tr>\n",
       "            <tr>\n",
       "                        <th id=\"T_0cf1f_level0_row41\" class=\"row_heading level0 row41\" >secondary_cleaner.state.floatbank3_b_air</th>\n",
       "                        <td id=\"T_0cf1f_row41_col0\" class=\"data row41 col0\" >0.000000</td>\n",
       "            </tr>\n",
       "            <tr>\n",
       "                        <th id=\"T_0cf1f_level0_row42\" class=\"row_heading level0 row42\" >secondary_cleaner.state.floatbank3_b_level</th>\n",
       "                        <td id=\"T_0cf1f_row42_col0\" class=\"data row42 col0\" >0.000000</td>\n",
       "            </tr>\n",
       "            <tr>\n",
       "                        <th id=\"T_0cf1f_level0_row43\" class=\"row_heading level0 row43\" >secondary_cleaner.state.floatbank4_a_air</th>\n",
       "                        <td id=\"T_0cf1f_row43_col0\" class=\"data row43 col0\" >0.000000</td>\n",
       "            </tr>\n",
       "            <tr>\n",
       "                        <th id=\"T_0cf1f_level0_row44\" class=\"row_heading level0 row44\" >secondary_cleaner.state.floatbank4_a_level</th>\n",
       "                        <td id=\"T_0cf1f_row44_col0\" class=\"data row44 col0\" >0.000000</td>\n",
       "            </tr>\n",
       "            <tr>\n",
       "                        <th id=\"T_0cf1f_level0_row45\" class=\"row_heading level0 row45\" >secondary_cleaner.state.floatbank4_b_air</th>\n",
       "                        <td id=\"T_0cf1f_row45_col0\" class=\"data row45 col0\" >0.000000</td>\n",
       "            </tr>\n",
       "            <tr>\n",
       "                        <th id=\"T_0cf1f_level0_row46\" class=\"row_heading level0 row46\" >secondary_cleaner.state.floatbank4_b_level</th>\n",
       "                        <td id=\"T_0cf1f_row46_col0\" class=\"data row46 col0\" >0.000000</td>\n",
       "            </tr>\n",
       "            <tr>\n",
       "                        <th id=\"T_0cf1f_level0_row47\" class=\"row_heading level0 row47\" >secondary_cleaner.state.floatbank5_a_air</th>\n",
       "                        <td id=\"T_0cf1f_row47_col0\" class=\"data row47 col0\" >0.000000</td>\n",
       "            </tr>\n",
       "            <tr>\n",
       "                        <th id=\"T_0cf1f_level0_row48\" class=\"row_heading level0 row48\" >secondary_cleaner.state.floatbank5_a_level</th>\n",
       "                        <td id=\"T_0cf1f_row48_col0\" class=\"data row48 col0\" >0.000000</td>\n",
       "            </tr>\n",
       "            <tr>\n",
       "                        <th id=\"T_0cf1f_level0_row49\" class=\"row_heading level0 row49\" >secondary_cleaner.state.floatbank5_b_air</th>\n",
       "                        <td id=\"T_0cf1f_row49_col0\" class=\"data row49 col0\" >0.000000</td>\n",
       "            </tr>\n",
       "            <tr>\n",
       "                        <th id=\"T_0cf1f_level0_row50\" class=\"row_heading level0 row50\" >secondary_cleaner.state.floatbank5_b_level</th>\n",
       "                        <td id=\"T_0cf1f_row50_col0\" class=\"data row50 col0\" >0.000000</td>\n",
       "            </tr>\n",
       "            <tr>\n",
       "                        <th id=\"T_0cf1f_level0_row51\" class=\"row_heading level0 row51\" >secondary_cleaner.state.floatbank6_a_air</th>\n",
       "                        <td id=\"T_0cf1f_row51_col0\" class=\"data row51 col0\" >0.000000</td>\n",
       "            </tr>\n",
       "            <tr>\n",
       "                        <th id=\"T_0cf1f_level0_row52\" class=\"row_heading level0 row52\" >secondary_cleaner.state.floatbank6_a_level</th>\n",
       "                        <td id=\"T_0cf1f_row52_col0\" class=\"data row52 col0\" >0.000000</td>\n",
       "            </tr>\n",
       "    </tbody></table>"
      ],
      "text/plain": [
       "<pandas.io.formats.style.Styler at 0x7faad29974f0>"
      ]
     },
     "execution_count": 522,
     "metadata": {},
     "output_type": "execute_result"
    }
   ],
   "source": [
    "pd.DataFrame(round((gold_test.isna().mean()*100),2)).style.background_gradient('coolwarm')"
   ]
  },
  {
   "cell_type": "code",
   "execution_count": 523,
   "metadata": {},
   "outputs": [
    {
     "data": {
      "text/html": [
       "<style  type=\"text/css\" >\n",
       "#T_aa693_row0_col0,#T_aa693_row1_col0,#T_aa693_row2_col0,#T_aa693_row4_col0,#T_aa693_row5_col0,#T_aa693_row6_col0,#T_aa693_row8_col0,#T_aa693_row9_col0,#T_aa693_row12_col0,#T_aa693_row14_col0,#T_aa693_row17_col0,#T_aa693_row18_col0,#T_aa693_row21_col0,#T_aa693_row22_col0,#T_aa693_row23_col0,#T_aa693_row24_col0,#T_aa693_row25_col0,#T_aa693_row26_col0,#T_aa693_row27_col0,#T_aa693_row28_col0,#T_aa693_row29_col0,#T_aa693_row30_col0,#T_aa693_row31_col0,#T_aa693_row32_col0,#T_aa693_row33_col0,#T_aa693_row34_col0,#T_aa693_row39_col0,#T_aa693_row44_col0,#T_aa693_row45_col0,#T_aa693_row47_col0,#T_aa693_row48_col0,#T_aa693_row49_col0,#T_aa693_row50_col0,#T_aa693_row51_col0,#T_aa693_row52_col0,#T_aa693_row53_col0,#T_aa693_row54_col0,#T_aa693_row55_col0,#T_aa693_row56_col0,#T_aa693_row57_col0,#T_aa693_row58_col0,#T_aa693_row59_col0,#T_aa693_row60_col0,#T_aa693_row62_col0,#T_aa693_row63_col0,#T_aa693_row64_col0,#T_aa693_row65_col0,#T_aa693_row68_col0,#T_aa693_row70_col0,#T_aa693_row72_col0,#T_aa693_row74_col0,#T_aa693_row75_col0,#T_aa693_row76_col0,#T_aa693_row77_col0,#T_aa693_row78_col0,#T_aa693_row79_col0,#T_aa693_row80_col0,#T_aa693_row81_col0,#T_aa693_row82_col0,#T_aa693_row83_col0,#T_aa693_row84_col0,#T_aa693_row85_col0,#T_aa693_row86_col0{\n",
       "            background-color:  #3b4cc0;\n",
       "            color:  #f1f1f1;\n",
       "        }#T_aa693_row3_col0{\n",
       "            background-color:  #6180e9;\n",
       "            color:  #000000;\n",
       "        }#T_aa693_row7_col0,#T_aa693_row35_col0,#T_aa693_row38_col0{\n",
       "            background-color:  #4b64d5;\n",
       "            color:  #f1f1f1;\n",
       "        }#T_aa693_row10_col0,#T_aa693_row19_col0,#T_aa693_row46_col0,#T_aa693_row71_col0{\n",
       "            background-color:  #3e51c5;\n",
       "            color:  #f1f1f1;\n",
       "        }#T_aa693_row11_col0{\n",
       "            background-color:  #4055c8;\n",
       "            color:  #f1f1f1;\n",
       "        }#T_aa693_row13_col0{\n",
       "            background-color:  #4c66d6;\n",
       "            color:  #000000;\n",
       "        }#T_aa693_row15_col0{\n",
       "            background-color:  #4f69d9;\n",
       "            color:  #000000;\n",
       "        }#T_aa693_row16_col0{\n",
       "            background-color:  #80a3fa;\n",
       "            color:  #000000;\n",
       "        }#T_aa693_row20_col0{\n",
       "            background-color:  #455cce;\n",
       "            color:  #f1f1f1;\n",
       "        }#T_aa693_row36_col0,#T_aa693_row41_col0,#T_aa693_row66_col0,#T_aa693_row73_col0{\n",
       "            background-color:  #3c4ec2;\n",
       "            color:  #f1f1f1;\n",
       "        }#T_aa693_row37_col0{\n",
       "            background-color:  #5470de;\n",
       "            color:  #000000;\n",
       "        }#T_aa693_row40_col0{\n",
       "            background-color:  #3f53c6;\n",
       "            color:  #f1f1f1;\n",
       "        }#T_aa693_row42_col0{\n",
       "            background-color:  #4257c9;\n",
       "            color:  #f1f1f1;\n",
       "        }#T_aa693_row43_col0{\n",
       "            background-color:  #90b2fe;\n",
       "            color:  #000000;\n",
       "        }#T_aa693_row61_col0{\n",
       "            background-color:  #8caffe;\n",
       "            color:  #000000;\n",
       "        }#T_aa693_row67_col0{\n",
       "            background-color:  #b40426;\n",
       "            color:  #f1f1f1;\n",
       "        }#T_aa693_row69_col0{\n",
       "            background-color:  #6282ea;\n",
       "            color:  #000000;\n",
       "        }</style><table id=\"T_aa693_\" ><thead>    <tr>        <th class=\"blank level0\" ></th>        <th class=\"col_heading level0 col0\" >0</th>    </tr></thead><tbody>\n",
       "                <tr>\n",
       "                        <th id=\"T_aa693_level0_row0\" class=\"row_heading level0 row0\" >date</th>\n",
       "                        <td id=\"T_aa693_row0_col0\" class=\"data row0 col0\" >0.000000</td>\n",
       "            </tr>\n",
       "            <tr>\n",
       "                        <th id=\"T_aa693_level0_row1\" class=\"row_heading level0 row1\" >final.output.concentrate_ag</th>\n",
       "                        <td id=\"T_aa693_row1_col0\" class=\"data row1 col0\" >0.010000</td>\n",
       "            </tr>\n",
       "            <tr>\n",
       "                        <th id=\"T_aa693_level0_row2\" class=\"row_heading level0 row2\" >final.output.concentrate_pb</th>\n",
       "                        <td id=\"T_aa693_row2_col0\" class=\"data row2 col0\" >0.010000</td>\n",
       "            </tr>\n",
       "            <tr>\n",
       "                        <th id=\"T_aa693_level0_row3\" class=\"row_heading level0 row3\" >final.output.concentrate_sol</th>\n",
       "                        <td id=\"T_aa693_row3_col0\" class=\"data row3 col0\" >1.090000</td>\n",
       "            </tr>\n",
       "            <tr>\n",
       "                        <th id=\"T_aa693_level0_row4\" class=\"row_heading level0 row4\" >final.output.concentrate_au</th>\n",
       "                        <td id=\"T_aa693_row4_col0\" class=\"data row4 col0\" >0.000000</td>\n",
       "            </tr>\n",
       "            <tr>\n",
       "                        <th id=\"T_aa693_level0_row5\" class=\"row_heading level0 row5\" >final.output.recovery</th>\n",
       "                        <td id=\"T_aa693_row5_col0\" class=\"data row5 col0\" >0.000000</td>\n",
       "            </tr>\n",
       "            <tr>\n",
       "                        <th id=\"T_aa693_level0_row6\" class=\"row_heading level0 row6\" >final.output.tail_ag</th>\n",
       "                        <td id=\"T_aa693_row6_col0\" class=\"data row6 col0\" >0.010000</td>\n",
       "            </tr>\n",
       "            <tr>\n",
       "                        <th id=\"T_aa693_level0_row7\" class=\"row_heading level0 row7\" >final.output.tail_pb</th>\n",
       "                        <td id=\"T_aa693_row7_col0\" class=\"data row7 col0\" >0.520000</td>\n",
       "            </tr>\n",
       "            <tr>\n",
       "                        <th id=\"T_aa693_level0_row8\" class=\"row_heading level0 row8\" >final.output.tail_sol</th>\n",
       "                        <td id=\"T_aa693_row8_col0\" class=\"data row8 col0\" >0.030000</td>\n",
       "            </tr>\n",
       "            <tr>\n",
       "                        <th id=\"T_aa693_level0_row9\" class=\"row_heading level0 row9\" >final.output.tail_au</th>\n",
       "                        <td id=\"T_aa693_row9_col0\" class=\"data row9 col0\" >0.000000</td>\n",
       "            </tr>\n",
       "            <tr>\n",
       "                        <th id=\"T_aa693_level0_row10\" class=\"row_heading level0 row10\" >primary_cleaner.input.sulfate</th>\n",
       "                        <td id=\"T_aa693_row10_col0\" class=\"data row10 col0\" >0.120000</td>\n",
       "            </tr>\n",
       "            <tr>\n",
       "                        <th id=\"T_aa693_level0_row11\" class=\"row_heading level0 row11\" >primary_cleaner.input.depressant</th>\n",
       "                        <td id=\"T_aa693_row11_col0\" class=\"data row11 col0\" >0.190000</td>\n",
       "            </tr>\n",
       "            <tr>\n",
       "                        <th id=\"T_aa693_level0_row12\" class=\"row_heading level0 row12\" >primary_cleaner.input.feed_size</th>\n",
       "                        <td id=\"T_aa693_row12_col0\" class=\"data row12 col0\" >0.000000</td>\n",
       "            </tr>\n",
       "            <tr>\n",
       "                        <th id=\"T_aa693_level0_row13\" class=\"row_heading level0 row13\" >primary_cleaner.input.xanthate</th>\n",
       "                        <td id=\"T_aa693_row13_col0\" class=\"data row13 col0\" >0.540000</td>\n",
       "            </tr>\n",
       "            <tr>\n",
       "                        <th id=\"T_aa693_level0_row14\" class=\"row_heading level0 row14\" >primary_cleaner.output.concentrate_ag</th>\n",
       "                        <td id=\"T_aa693_row14_col0\" class=\"data row14 col0\" >0.000000</td>\n",
       "            </tr>\n",
       "            <tr>\n",
       "                        <th id=\"T_aa693_level0_row15\" class=\"row_heading level0 row15\" >primary_cleaner.output.concentrate_pb</th>\n",
       "                        <td id=\"T_aa693_row15_col0\" class=\"data row15 col0\" >0.600000</td>\n",
       "            </tr>\n",
       "            <tr>\n",
       "                        <th id=\"T_aa693_level0_row16\" class=\"row_heading level0 row16\" >primary_cleaner.output.concentrate_sol</th>\n",
       "                        <td id=\"T_aa693_row16_col0\" class=\"data row16 col0\" >1.900000</td>\n",
       "            </tr>\n",
       "            <tr>\n",
       "                        <th id=\"T_aa693_level0_row17\" class=\"row_heading level0 row17\" >primary_cleaner.output.concentrate_au</th>\n",
       "                        <td id=\"T_aa693_row17_col0\" class=\"data row17 col0\" >0.000000</td>\n",
       "            </tr>\n",
       "            <tr>\n",
       "                        <th id=\"T_aa693_level0_row18\" class=\"row_heading level0 row18\" >primary_cleaner.output.tail_ag</th>\n",
       "                        <td id=\"T_aa693_row18_col0\" class=\"data row18 col0\" >0.020000</td>\n",
       "            </tr>\n",
       "            <tr>\n",
       "                        <th id=\"T_aa693_level0_row19\" class=\"row_heading level0 row19\" >primary_cleaner.output.tail_pb</th>\n",
       "                        <td id=\"T_aa693_row19_col0\" class=\"data row19 col0\" >0.110000</td>\n",
       "            </tr>\n",
       "            <tr>\n",
       "                        <th id=\"T_aa693_level0_row20\" class=\"row_heading level0 row20\" >primary_cleaner.output.tail_sol</th>\n",
       "                        <td id=\"T_aa693_row20_col0\" class=\"data row20 col0\" >0.320000</td>\n",
       "            </tr>\n",
       "            <tr>\n",
       "                        <th id=\"T_aa693_level0_row21\" class=\"row_heading level0 row21\" >primary_cleaner.output.tail_au</th>\n",
       "                        <td id=\"T_aa693_row21_col0\" class=\"data row21 col0\" >0.000000</td>\n",
       "            </tr>\n",
       "            <tr>\n",
       "                        <th id=\"T_aa693_level0_row22\" class=\"row_heading level0 row22\" >primary_cleaner.state.floatbank8_a_air</th>\n",
       "                        <td id=\"T_aa693_row22_col0\" class=\"data row22 col0\" >0.020000</td>\n",
       "            </tr>\n",
       "            <tr>\n",
       "                        <th id=\"T_aa693_level0_row23\" class=\"row_heading level0 row23\" >primary_cleaner.state.floatbank8_a_level</th>\n",
       "                        <td id=\"T_aa693_row23_col0\" class=\"data row23 col0\" >0.010000</td>\n",
       "            </tr>\n",
       "            <tr>\n",
       "                        <th id=\"T_aa693_level0_row24\" class=\"row_heading level0 row24\" >primary_cleaner.state.floatbank8_b_air</th>\n",
       "                        <td id=\"T_aa693_row24_col0\" class=\"data row24 col0\" >0.020000</td>\n",
       "            </tr>\n",
       "            <tr>\n",
       "                        <th id=\"T_aa693_level0_row25\" class=\"row_heading level0 row25\" >primary_cleaner.state.floatbank8_b_level</th>\n",
       "                        <td id=\"T_aa693_row25_col0\" class=\"data row25 col0\" >0.010000</td>\n",
       "            </tr>\n",
       "            <tr>\n",
       "                        <th id=\"T_aa693_level0_row26\" class=\"row_heading level0 row26\" >primary_cleaner.state.floatbank8_c_air</th>\n",
       "                        <td id=\"T_aa693_row26_col0\" class=\"data row26 col0\" >0.010000</td>\n",
       "            </tr>\n",
       "            <tr>\n",
       "                        <th id=\"T_aa693_level0_row27\" class=\"row_heading level0 row27\" >primary_cleaner.state.floatbank8_c_level</th>\n",
       "                        <td id=\"T_aa693_row27_col0\" class=\"data row27 col0\" >0.010000</td>\n",
       "            </tr>\n",
       "            <tr>\n",
       "                        <th id=\"T_aa693_level0_row28\" class=\"row_heading level0 row28\" >primary_cleaner.state.floatbank8_d_air</th>\n",
       "                        <td id=\"T_aa693_row28_col0\" class=\"data row28 col0\" >0.020000</td>\n",
       "            </tr>\n",
       "            <tr>\n",
       "                        <th id=\"T_aa693_level0_row29\" class=\"row_heading level0 row29\" >primary_cleaner.state.floatbank8_d_level</th>\n",
       "                        <td id=\"T_aa693_row29_col0\" class=\"data row29 col0\" >0.010000</td>\n",
       "            </tr>\n",
       "            <tr>\n",
       "                        <th id=\"T_aa693_level0_row30\" class=\"row_heading level0 row30\" >rougher.calculation.sulfate_to_au_concentrate</th>\n",
       "                        <td id=\"T_aa693_row30_col0\" class=\"data row30 col0\" >0.010000</td>\n",
       "            </tr>\n",
       "            <tr>\n",
       "                        <th id=\"T_aa693_level0_row31\" class=\"row_heading level0 row31\" >rougher.calculation.floatbank10_sulfate_to_au_feed</th>\n",
       "                        <td id=\"T_aa693_row31_col0\" class=\"data row31 col0\" >0.010000</td>\n",
       "            </tr>\n",
       "            <tr>\n",
       "                        <th id=\"T_aa693_level0_row32\" class=\"row_heading level0 row32\" >rougher.calculation.floatbank11_sulfate_to_au_feed</th>\n",
       "                        <td id=\"T_aa693_row32_col0\" class=\"data row32 col0\" >0.010000</td>\n",
       "            </tr>\n",
       "            <tr>\n",
       "                        <th id=\"T_aa693_level0_row33\" class=\"row_heading level0 row33\" >rougher.calculation.au_pb_ratio</th>\n",
       "                        <td id=\"T_aa693_row33_col0\" class=\"data row33 col0\" >0.000000</td>\n",
       "            </tr>\n",
       "            <tr>\n",
       "                        <th id=\"T_aa693_level0_row34\" class=\"row_heading level0 row34\" >rougher.input.feed_ag</th>\n",
       "                        <td id=\"T_aa693_row34_col0\" class=\"data row34 col0\" >0.000000</td>\n",
       "            </tr>\n",
       "            <tr>\n",
       "                        <th id=\"T_aa693_level0_row35\" class=\"row_heading level0 row35\" >rougher.input.feed_pb</th>\n",
       "                        <td id=\"T_aa693_row35_col0\" class=\"data row35 col0\" >0.510000</td>\n",
       "            </tr>\n",
       "            <tr>\n",
       "                        <th id=\"T_aa693_level0_row36\" class=\"row_heading level0 row36\" >rougher.input.feed_rate</th>\n",
       "                        <td id=\"T_aa693_row36_col0\" class=\"data row36 col0\" >0.060000</td>\n",
       "            </tr>\n",
       "            <tr>\n",
       "                        <th id=\"T_aa693_level0_row37\" class=\"row_heading level0 row37\" >rougher.input.feed_size</th>\n",
       "                        <td id=\"T_aa693_row37_col0\" class=\"data row37 col0\" >0.750000</td>\n",
       "            </tr>\n",
       "            <tr>\n",
       "                        <th id=\"T_aa693_level0_row38\" class=\"row_heading level0 row38\" >rougher.input.feed_sol</th>\n",
       "                        <td id=\"T_aa693_row38_col0\" class=\"data row38 col0\" >0.510000</td>\n",
       "            </tr>\n",
       "            <tr>\n",
       "                        <th id=\"T_aa693_level0_row39\" class=\"row_heading level0 row39\" >rougher.input.feed_au</th>\n",
       "                        <td id=\"T_aa693_row39_col0\" class=\"data row39 col0\" >0.000000</td>\n",
       "            </tr>\n",
       "            <tr>\n",
       "                        <th id=\"T_aa693_level0_row40\" class=\"row_heading level0 row40\" >rougher.input.floatbank10_sulfate</th>\n",
       "                        <td id=\"T_aa693_row40_col0\" class=\"data row40 col0\" >0.170000</td>\n",
       "            </tr>\n",
       "            <tr>\n",
       "                        <th id=\"T_aa693_level0_row41\" class=\"row_heading level0 row41\" >rougher.input.floatbank10_xanthate</th>\n",
       "                        <td id=\"T_aa693_row41_col0\" class=\"data row41 col0\" >0.040000</td>\n",
       "            </tr>\n",
       "            <tr>\n",
       "                        <th id=\"T_aa693_level0_row42\" class=\"row_heading level0 row42\" >rougher.input.floatbank11_sulfate</th>\n",
       "                        <td id=\"T_aa693_row42_col0\" class=\"data row42 col0\" >0.230000</td>\n",
       "            </tr>\n",
       "            <tr>\n",
       "                        <th id=\"T_aa693_level0_row43\" class=\"row_heading level0 row43\" >rougher.input.floatbank11_xanthate</th>\n",
       "                        <td id=\"T_aa693_row43_col0\" class=\"data row43 col0\" >2.330000</td>\n",
       "            </tr>\n",
       "            <tr>\n",
       "                        <th id=\"T_aa693_level0_row44\" class=\"row_heading level0 row44\" >rougher.output.concentrate_ag</th>\n",
       "                        <td id=\"T_aa693_row44_col0\" class=\"data row44 col0\" >0.000000</td>\n",
       "            </tr>\n",
       "            <tr>\n",
       "                        <th id=\"T_aa693_level0_row45\" class=\"row_heading level0 row45\" >rougher.output.concentrate_pb</th>\n",
       "                        <td id=\"T_aa693_row45_col0\" class=\"data row45 col0\" >0.000000</td>\n",
       "            </tr>\n",
       "            <tr>\n",
       "                        <th id=\"T_aa693_level0_row46\" class=\"row_heading level0 row46\" >rougher.output.concentrate_sol</th>\n",
       "                        <td id=\"T_aa693_row46_col0\" class=\"data row46 col0\" >0.120000</td>\n",
       "            </tr>\n",
       "            <tr>\n",
       "                        <th id=\"T_aa693_level0_row47\" class=\"row_heading level0 row47\" >rougher.output.concentrate_au</th>\n",
       "                        <td id=\"T_aa693_row47_col0\" class=\"data row47 col0\" >0.000000</td>\n",
       "            </tr>\n",
       "            <tr>\n",
       "                        <th id=\"T_aa693_level0_row48\" class=\"row_heading level0 row48\" >rougher.output.recovery</th>\n",
       "                        <td id=\"T_aa693_row48_col0\" class=\"data row48 col0\" >0.000000</td>\n",
       "            </tr>\n",
       "            <tr>\n",
       "                        <th id=\"T_aa693_level0_row49\" class=\"row_heading level0 row49\" >rougher.output.tail_ag</th>\n",
       "                        <td id=\"T_aa693_row49_col0\" class=\"data row49 col0\" >0.010000</td>\n",
       "            </tr>\n",
       "            <tr>\n",
       "                        <th id=\"T_aa693_level0_row50\" class=\"row_heading level0 row50\" >rougher.output.tail_pb</th>\n",
       "                        <td id=\"T_aa693_row50_col0\" class=\"data row50 col0\" >0.000000</td>\n",
       "            </tr>\n",
       "            <tr>\n",
       "                        <th id=\"T_aa693_level0_row51\" class=\"row_heading level0 row51\" >rougher.output.tail_sol</th>\n",
       "                        <td id=\"T_aa693_row51_col0\" class=\"data row51 col0\" >0.000000</td>\n",
       "            </tr>\n",
       "            <tr>\n",
       "                        <th id=\"T_aa693_level0_row52\" class=\"row_heading level0 row52\" >rougher.output.tail_au</th>\n",
       "                        <td id=\"T_aa693_row52_col0\" class=\"data row52 col0\" >0.000000</td>\n",
       "            </tr>\n",
       "            <tr>\n",
       "                        <th id=\"T_aa693_level0_row53\" class=\"row_heading level0 row53\" >rougher.state.floatbank10_a_air</th>\n",
       "                        <td id=\"T_aa693_row53_col0\" class=\"data row53 col0\" >0.010000</td>\n",
       "            </tr>\n",
       "            <tr>\n",
       "                        <th id=\"T_aa693_level0_row54\" class=\"row_heading level0 row54\" >rougher.state.floatbank10_a_level</th>\n",
       "                        <td id=\"T_aa693_row54_col0\" class=\"data row54 col0\" >0.010000</td>\n",
       "            </tr>\n",
       "            <tr>\n",
       "                        <th id=\"T_aa693_level0_row55\" class=\"row_heading level0 row55\" >rougher.state.floatbank10_b_air</th>\n",
       "                        <td id=\"T_aa693_row55_col0\" class=\"data row55 col0\" >0.010000</td>\n",
       "            </tr>\n",
       "            <tr>\n",
       "                        <th id=\"T_aa693_level0_row56\" class=\"row_heading level0 row56\" >rougher.state.floatbank10_b_level</th>\n",
       "                        <td id=\"T_aa693_row56_col0\" class=\"data row56 col0\" >0.010000</td>\n",
       "            </tr>\n",
       "            <tr>\n",
       "                        <th id=\"T_aa693_level0_row57\" class=\"row_heading level0 row57\" >rougher.state.floatbank10_c_air</th>\n",
       "                        <td id=\"T_aa693_row57_col0\" class=\"data row57 col0\" >0.010000</td>\n",
       "            </tr>\n",
       "            <tr>\n",
       "                        <th id=\"T_aa693_level0_row58\" class=\"row_heading level0 row58\" >rougher.state.floatbank10_c_level</th>\n",
       "                        <td id=\"T_aa693_row58_col0\" class=\"data row58 col0\" >0.010000</td>\n",
       "            </tr>\n",
       "            <tr>\n",
       "                        <th id=\"T_aa693_level0_row59\" class=\"row_heading level0 row59\" >rougher.state.floatbank10_d_air</th>\n",
       "                        <td id=\"T_aa693_row59_col0\" class=\"data row59 col0\" >0.000000</td>\n",
       "            </tr>\n",
       "            <tr>\n",
       "                        <th id=\"T_aa693_level0_row60\" class=\"row_heading level0 row60\" >rougher.state.floatbank10_d_level</th>\n",
       "                        <td id=\"T_aa693_row60_col0\" class=\"data row60 col0\" >0.000000</td>\n",
       "            </tr>\n",
       "            <tr>\n",
       "                        <th id=\"T_aa693_level0_row61\" class=\"row_heading level0 row61\" >rougher.state.floatbank10_e_air</th>\n",
       "                        <td id=\"T_aa693_row61_col0\" class=\"data row61 col0\" >2.240000</td>\n",
       "            </tr>\n",
       "            <tr>\n",
       "                        <th id=\"T_aa693_level0_row62\" class=\"row_heading level0 row62\" >rougher.state.floatbank10_e_level</th>\n",
       "                        <td id=\"T_aa693_row62_col0\" class=\"data row62 col0\" >0.000000</td>\n",
       "            </tr>\n",
       "            <tr>\n",
       "                        <th id=\"T_aa693_level0_row63\" class=\"row_heading level0 row63\" >rougher.state.floatbank10_f_air</th>\n",
       "                        <td id=\"T_aa693_row63_col0\" class=\"data row63 col0\" >0.000000</td>\n",
       "            </tr>\n",
       "            <tr>\n",
       "                        <th id=\"T_aa693_level0_row64\" class=\"row_heading level0 row64\" >rougher.state.floatbank10_f_level</th>\n",
       "                        <td id=\"T_aa693_row64_col0\" class=\"data row64 col0\" >0.000000</td>\n",
       "            </tr>\n",
       "            <tr>\n",
       "                        <th id=\"T_aa693_level0_row65\" class=\"row_heading level0 row65\" >secondary_cleaner.output.tail_ag</th>\n",
       "                        <td id=\"T_aa693_row65_col0\" class=\"data row65 col0\" >0.010000</td>\n",
       "            </tr>\n",
       "            <tr>\n",
       "                        <th id=\"T_aa693_level0_row66\" class=\"row_heading level0 row66\" >secondary_cleaner.output.tail_pb</th>\n",
       "                        <td id=\"T_aa693_row66_col0\" class=\"data row66 col0\" >0.060000</td>\n",
       "            </tr>\n",
       "            <tr>\n",
       "                        <th id=\"T_aa693_level0_row67\" class=\"row_heading level0 row67\" >secondary_cleaner.output.tail_sol</th>\n",
       "                        <td id=\"T_aa693_row67_col0\" class=\"data row67 col0\" >8.990000</td>\n",
       "            </tr>\n",
       "            <tr>\n",
       "                        <th id=\"T_aa693_level0_row68\" class=\"row_heading level0 row68\" >secondary_cleaner.output.tail_au</th>\n",
       "                        <td id=\"T_aa693_row68_col0\" class=\"data row68 col0\" >0.000000</td>\n",
       "            </tr>\n",
       "            <tr>\n",
       "                        <th id=\"T_aa693_level0_row69\" class=\"row_heading level0 row69\" >secondary_cleaner.state.floatbank2_a_air</th>\n",
       "                        <td id=\"T_aa693_row69_col0\" class=\"data row69 col0\" >1.130000</td>\n",
       "            </tr>\n",
       "            <tr>\n",
       "                        <th id=\"T_aa693_level0_row70\" class=\"row_heading level0 row70\" >secondary_cleaner.state.floatbank2_a_level</th>\n",
       "                        <td id=\"T_aa693_row70_col0\" class=\"data row70 col0\" >0.010000</td>\n",
       "            </tr>\n",
       "            <tr>\n",
       "                        <th id=\"T_aa693_level0_row71\" class=\"row_heading level0 row71\" >secondary_cleaner.state.floatbank2_b_air</th>\n",
       "                        <td id=\"T_aa693_row71_col0\" class=\"data row71 col0\" >0.120000</td>\n",
       "            </tr>\n",
       "            <tr>\n",
       "                        <th id=\"T_aa693_level0_row72\" class=\"row_heading level0 row72\" >secondary_cleaner.state.floatbank2_b_level</th>\n",
       "                        <td id=\"T_aa693_row72_col0\" class=\"data row72 col0\" >0.010000</td>\n",
       "            </tr>\n",
       "            <tr>\n",
       "                        <th id=\"T_aa693_level0_row73\" class=\"row_heading level0 row73\" >secondary_cleaner.state.floatbank3_a_air</th>\n",
       "                        <td id=\"T_aa693_row73_col0\" class=\"data row73 col0\" >0.070000</td>\n",
       "            </tr>\n",
       "            <tr>\n",
       "                        <th id=\"T_aa693_level0_row74\" class=\"row_heading level0 row74\" >secondary_cleaner.state.floatbank3_a_level</th>\n",
       "                        <td id=\"T_aa693_row74_col0\" class=\"data row74 col0\" >0.010000</td>\n",
       "            </tr>\n",
       "            <tr>\n",
       "                        <th id=\"T_aa693_level0_row75\" class=\"row_heading level0 row75\" >secondary_cleaner.state.floatbank3_b_air</th>\n",
       "                        <td id=\"T_aa693_row75_col0\" class=\"data row75 col0\" >0.010000</td>\n",
       "            </tr>\n",
       "            <tr>\n",
       "                        <th id=\"T_aa693_level0_row76\" class=\"row_heading level0 row76\" >secondary_cleaner.state.floatbank3_b_level</th>\n",
       "                        <td id=\"T_aa693_row76_col0\" class=\"data row76 col0\" >0.010000</td>\n",
       "            </tr>\n",
       "            <tr>\n",
       "                        <th id=\"T_aa693_level0_row77\" class=\"row_heading level0 row77\" >secondary_cleaner.state.floatbank4_a_air</th>\n",
       "                        <td id=\"T_aa693_row77_col0\" class=\"data row77 col0\" >0.030000</td>\n",
       "            </tr>\n",
       "            <tr>\n",
       "                        <th id=\"T_aa693_level0_row78\" class=\"row_heading level0 row78\" >secondary_cleaner.state.floatbank4_a_level</th>\n",
       "                        <td id=\"T_aa693_row78_col0\" class=\"data row78 col0\" >0.010000</td>\n",
       "            </tr>\n",
       "            <tr>\n",
       "                        <th id=\"T_aa693_level0_row79\" class=\"row_heading level0 row79\" >secondary_cleaner.state.floatbank4_b_air</th>\n",
       "                        <td id=\"T_aa693_row79_col0\" class=\"data row79 col0\" >0.010000</td>\n",
       "            </tr>\n",
       "            <tr>\n",
       "                        <th id=\"T_aa693_level0_row80\" class=\"row_heading level0 row80\" >secondary_cleaner.state.floatbank4_b_level</th>\n",
       "                        <td id=\"T_aa693_row80_col0\" class=\"data row80 col0\" >0.010000</td>\n",
       "            </tr>\n",
       "            <tr>\n",
       "                        <th id=\"T_aa693_level0_row81\" class=\"row_heading level0 row81\" >secondary_cleaner.state.floatbank5_a_air</th>\n",
       "                        <td id=\"T_aa693_row81_col0\" class=\"data row81 col0\" >0.010000</td>\n",
       "            </tr>\n",
       "            <tr>\n",
       "                        <th id=\"T_aa693_level0_row82\" class=\"row_heading level0 row82\" >secondary_cleaner.state.floatbank5_a_level</th>\n",
       "                        <td id=\"T_aa693_row82_col0\" class=\"data row82 col0\" >0.010000</td>\n",
       "            </tr>\n",
       "            <tr>\n",
       "                        <th id=\"T_aa693_level0_row83\" class=\"row_heading level0 row83\" >secondary_cleaner.state.floatbank5_b_air</th>\n",
       "                        <td id=\"T_aa693_row83_col0\" class=\"data row83 col0\" >0.010000</td>\n",
       "            </tr>\n",
       "            <tr>\n",
       "                        <th id=\"T_aa693_level0_row84\" class=\"row_heading level0 row84\" >secondary_cleaner.state.floatbank5_b_level</th>\n",
       "                        <td id=\"T_aa693_row84_col0\" class=\"data row84 col0\" >0.010000</td>\n",
       "            </tr>\n",
       "            <tr>\n",
       "                        <th id=\"T_aa693_level0_row85\" class=\"row_heading level0 row85\" >secondary_cleaner.state.floatbank6_a_air</th>\n",
       "                        <td id=\"T_aa693_row85_col0\" class=\"data row85 col0\" >0.010000</td>\n",
       "            </tr>\n",
       "            <tr>\n",
       "                        <th id=\"T_aa693_level0_row86\" class=\"row_heading level0 row86\" >secondary_cleaner.state.floatbank6_a_level</th>\n",
       "                        <td id=\"T_aa693_row86_col0\" class=\"data row86 col0\" >0.010000</td>\n",
       "            </tr>\n",
       "    </tbody></table>"
      ],
      "text/plain": [
       "<pandas.io.formats.style.Styler at 0x7faae1b40370>"
      ]
     },
     "execution_count": 523,
     "metadata": {},
     "output_type": "execute_result"
    }
   ],
   "source": [
    "pd.DataFrame(round((gold_full.isna().mean()*100),2)).style.background_gradient('coolwarm')"
   ]
  },
  {
   "cell_type": "markdown",
   "metadata": {},
   "source": [
    "Т.к. данные индексируются по столбцу date и соседние по времени значения очень близки, считаю возможным заполнить пропуски последним действительным значением вперед"
   ]
  },
  {
   "cell_type": "code",
   "execution_count": 524,
   "metadata": {},
   "outputs": [],
   "source": [
    "gold_train = gold_train.fillna(method='ffill')\n",
    "gold_test = gold_test.fillna(method='ffill')\n",
    "gold_full = gold_full.fillna(method='ffill')"
   ]
  },
  {
   "cell_type": "markdown",
   "metadata": {},
   "source": [
    "<div class=\"alert alert-success\"> \n",
    "<h3> Комментарий ревьюера v1</h3>\n",
    "\n",
    "Правильно. Даже в задании сказано `Соседние по времени параметры часто похожи.` "
   ]
  },
  {
   "cell_type": "markdown",
   "metadata": {},
   "source": [
    "## Анализ данных"
   ]
  },
  {
   "cell_type": "code",
   "execution_count": 525,
   "metadata": {},
   "outputs": [],
   "source": [
    "#Напишем функцию, определяющую концентрацию веществ на различных этапах очистки\n",
    "def show_concentrate_of_metal_hist(metal, title):\n",
    "    x0 = gold_full[f'rougher.input.feed_{metal}']\n",
    "    x1 = gold_full[f'rougher.output.concentrate_{metal}']\n",
    "    x2 = gold_full[f'primary_cleaner.output.concentrate_{metal}']\n",
    "    x3 = gold_full[f'final.output.concentrate_{metal}']\n",
    "    \n",
    "    plt.figure(figsize=(15, 8))\n",
    "\n",
    "    sns.histplot(x0, color = 'red' ,kde = True)\n",
    "    sns.histplot(x1, color = 'green' ,kde = True)\n",
    "    sns.histplot(x2, color = 'yellow' ,kde = True)\n",
    "    sns.histplot(x3, color = 'blue', kde = True)\n",
    "\n",
    "    plt.title(label=f'Концентрация {title} на различных этапах очистки', fontsize=12)\n",
    "    plt.xlabel('Концентрация')\n",
    "    plt.ylabel('Количество наблюдений')\n",
    "    plt.legend(['Сырье', 'Черновой концентрат', 'Первичная очистка', 'Финальный концентрах'])"
   ]
  },
  {
   "cell_type": "code",
   "execution_count": 526,
   "metadata": {},
   "outputs": [
    {
     "data": {
      "image/png": "[encoded data removed]",
      "text/plain": [
       "<Figure size 1080x576 with 1 Axes>"
      ]
     },
     "metadata": {
      "needs_background": "light"
     },
     "output_type": "display_data"
    }
   ],
   "source": [
    "#посмотрим на концентрацию золота на разных этапах\n",
    "show_concentrate_of_metal_hist('au', 'золота')"
   ]
  },
  {
   "cell_type": "code",
   "execution_count": 527,
   "metadata": {},
   "outputs": [
    {
     "data": {
      "image/png": "[encoded data removed]",
      "text/plain": [
       "<Figure size 1080x576 with 1 Axes>"
      ]
     },
     "metadata": {
      "needs_background": "light"
     },
     "output_type": "display_data"
    }
   ],
   "source": [
    "#посмотрим на концентрацию серебра на разных этапах\n",
    "show_concentrate_of_metal_hist('ag', 'серебра')"
   ]
  },
  {
   "cell_type": "code",
   "execution_count": 528,
   "metadata": {},
   "outputs": [
    {
     "data": {
      "image/png": "[encoded data removed]",
      "text/plain": [
       "<Figure size 1080x576 with 1 Axes>"
      ]
     },
     "metadata": {
      "needs_background": "light"
     },
     "output_type": "display_data"
    }
   ],
   "source": [
    "##посмотрим на концентрацию свинца на разных этапах\n",
    "show_concentrate_of_metal_hist('pb', 'свинца')"
   ]
  },
  {
   "cell_type": "markdown",
   "metadata": {},
   "source": [
    "**Вывод:**\n",
    "\n",
    "Концентрация золота увеличивается после каждого этапа очистки.\n",
    "\n",
    "Концентрация серебра увеличивается после флотации и уменьшается после следующих этапов.\n",
    "\n",
    "Концентрация свинца снижается увеличивается до этапа первичной очистки и потом пости не изменяется."
   ]
  },
  {
   "cell_type": "markdown",
   "metadata": {},
   "source": [
    "**Сравнение размера гранул на тренировочной и тестовой выборках.**"
   ]
  },
  {
   "cell_type": "code",
   "execution_count": 529,
   "metadata": {},
   "outputs": [
    {
     "data": {
      "image/png": "[encoded data removed]",
      "text/plain": [
       "<Figure size 1080x576 with 1 Axes>"
      ]
     },
     "metadata": {
      "needs_background": "light"
     },
     "output_type": "display_data"
    }
   ],
   "source": [
    "plt.figure(figsize=(15,8))\n",
    "plt.hist([gold_train['rougher.input.feed_size'], gold_test['rougher.input.feed_size']], bins = 70, range = (0,200))\n",
    "plt.title('Распределение размеров гранул сырья для флотации', fontsize=12)\n",
    "plt.xlabel('Размер гранул')\n",
    "plt.ylabel('Количество наблюдений')\n",
    "plt.legend(['Тренировочная выборка', 'Тестовая выборка'])\n",
    "plt.show()"
   ]
  },
  {
   "cell_type": "code",
   "execution_count": 530,
   "metadata": {},
   "outputs": [
    {
     "name": "stdout",
     "output_type": "stream",
     "text": [
      "Флотация, распределение на обучающей выборке: 60.23985599255732\n",
      "Флотация, распределение на тестовой выборке: 55.952754028895136\n"
     ]
    }
   ],
   "source": [
    "#определим среднее значение размера гранул флотоции\n",
    "FL_train = gold_train['rougher.input.feed_size'].mean()\n",
    "FL_test = gold_test['rougher.input.feed_size'].mean()\n",
    "print('Флотация, распределение на обучающей выборке:', FL_train)\n",
    "print('Флотация, распределение на тестовой выборке:',FL_test)"
   ]
  },
  {
   "cell_type": "code",
   "execution_count": 531,
   "metadata": {},
   "outputs": [
    {
     "data": {
      "image/png": "[encoded data removed]",
      "text/plain": [
       "<Figure size 1080x576 with 1 Axes>"
      ]
     },
     "metadata": {
      "needs_background": "light"
     },
     "output_type": "display_data"
    }
   ],
   "source": [
    "plt.figure(figsize=(15,8))\n",
    "plt.hist([gold_train['primary_cleaner.input.feed_size'], gold_test['primary_cleaner.input.feed_size']], bins = 70, range = (0,15))\n",
    "plt.title('Распределение размеров гранул сырья для первичной очистки', fontsize=12)\n",
    "plt.xlabel('Размер гранул')\n",
    "plt.ylabel('Количество наблюдений')\n",
    "plt.legend(['Тренировочная выборка', 'Тестовая выборка'])\n",
    "plt.show()"
   ]
  },
  {
   "cell_type": "code",
   "execution_count": 532,
   "metadata": {},
   "outputs": [
    {
     "name": "stdout",
     "output_type": "stream",
     "text": [
      "Первичная очистка, распределение на обучающей выборке: 7.322309906901314\n",
      "Первичная очистка, распределение на тестовой выборке: 7.266339191270906\n"
     ]
    }
   ],
   "source": [
    "PC_train = gold_train['primary_cleaner.input.feed_size'].mean()\n",
    "PC_test = gold_test['primary_cleaner.input.feed_size'].mean()\n",
    "print('Первичная очистка, распределение на обучающей выборке:', PC_train)\n",
    "print('Первичная очистка, распределение на тестовой выборке:',PC_test)"
   ]
  },
  {
   "cell_type": "markdown",
   "metadata": {},
   "source": [
    "**Вывод:** Распределения размеров гранул сырья на обучающей и тестовой выборках на этапе флотации отличаются , скорее всего это связано с разницей в размерах выборок.\n",
    "На этапе первичной очистки размеры гранул на обучающей и тестовой выборках почти не отличаются."
   ]
  },
  {
   "cell_type": "markdown",
   "metadata": {},
   "source": [
    "**Исследуем суммарную концентрацию всех веществ на разных стадиях.**"
   ]
  },
  {
   "cell_type": "code",
   "execution_count": 533,
   "metadata": {},
   "outputs": [],
   "source": [
    "gold_full['rougher_concetrates_sum'] = gold_full['rougher.output.concentrate_ag'] + gold_full['rougher.output.concentrate_au'] \\\n",
    "+ gold_full['rougher.output.concentrate_pb'] + gold_full['rougher.output.concentrate_sol']"
   ]
  },
  {
   "cell_type": "code",
   "execution_count": 534,
   "metadata": {},
   "outputs": [],
   "source": [
    "gold_full['primary_concetrates_sum'] = gold_full['primary_cleaner.output.concentrate_ag'] + gold_full['primary_cleaner.output.concentrate_au'] \\\n",
    "+ gold_full['primary_cleaner.output.concentrate_pb'] + gold_full['primary_cleaner.output.concentrate_sol']"
   ]
  },
  {
   "cell_type": "code",
   "execution_count": 535,
   "metadata": {},
   "outputs": [],
   "source": [
    "gold_full['final_concetrates_sum'] = gold_full['final.output.concentrate_ag'] + gold_full['final.output.concentrate_au'] \\\n",
    "+ gold_full['final.output.concentrate_pb'] + gold_full['final.output.concentrate_sol']"
   ]
  },
  {
   "cell_type": "code",
   "execution_count": 536,
   "metadata": {},
   "outputs": [],
   "source": [
    "gold_full = gold_full[(gold_full['rougher_concetrates_sum'] != 0) & (gold_full['primary_concetrates_sum'] != 0) & (gold_full['final_concetrates_sum'] != 0)]"
   ]
  },
  {
   "cell_type": "code",
   "execution_count": 537,
   "metadata": {},
   "outputs": [
    {
     "data": {
      "image/png": "[encoded data removed]",
      "text/plain": [
       "<Figure size 1080x576 with 1 Axes>"
      ]
     },
     "metadata": {
      "needs_background": "light"
     },
     "output_type": "display_data"
    }
   ],
   "source": [
    "plt.figure(figsize=(15,8))\n",
    "plt.hist([gold_full['rougher_concetrates_sum'],gold_full['primary_concetrates_sum'],gold_full['final_concetrates_sum']], bins = 70) \n",
    "plt.title('Суммарные концентрации веществ на разных стадиях', fontsize=12)\n",
    "plt.xlabel('Концентрация')\n",
    "plt.ylabel('Количество наблюдений')\n",
    "plt.legend(['Флотация','Первичная очистка', 'Финальная очистка'])\n",
    "plt.show()"
   ]
  },
  {
   "cell_type": "markdown",
   "metadata": {},
   "source": [
    "**Вывод:** После флотации увеличивается концентрация веществ и далее в ходе очистки сокращается интервал распределения с 50-95 до 60-80."
   ]
  },
  {
   "cell_type": "code",
   "execution_count": 538,
   "metadata": {},
   "outputs": [],
   "source": [
    "gold_train['rougher_concetrates_sum'] = gold_train['rougher.output.concentrate_ag'] + gold_train['rougher.output.concentrate_au'] \\\n",
    "+ gold_train['rougher.output.concentrate_pb'] + gold_train['rougher.output.concentrate_sol']"
   ]
  },
  {
   "cell_type": "code",
   "execution_count": 539,
   "metadata": {},
   "outputs": [],
   "source": [
    "gold_train['primary_concetrates_sum'] = gold_train['primary_cleaner.output.concentrate_ag'] + gold_train['primary_cleaner.output.concentrate_au'] \\\n",
    "+ gold_train['primary_cleaner.output.concentrate_pb'] + gold_train['primary_cleaner.output.concentrate_sol']"
   ]
  },
  {
   "cell_type": "code",
   "execution_count": 540,
   "metadata": {},
   "outputs": [],
   "source": [
    "gold_train['final_concetrates_sum'] = gold_train['final.output.concentrate_ag'] + gold_train['final.output.concentrate_au'] \\\n",
    "+ gold_train['final.output.concentrate_pb'] + gold_train['final.output.concentrate_sol']"
   ]
  },
  {
   "cell_type": "code",
   "execution_count": 541,
   "metadata": {},
   "outputs": [],
   "source": [
    "gold_train = gold_train[(gold_train['rougher_concetrates_sum'] != 0) & (gold_train['primary_concetrates_sum'] != 0) & (gold_train['final_concetrates_sum'] != 0)]"
   ]
  },
  {
   "cell_type": "code",
   "execution_count": 542,
   "metadata": {},
   "outputs": [],
   "source": [
    "gold_train=gold_train.reset_index()"
   ]
  },
  {
   "cell_type": "markdown",
   "metadata": {},
   "source": [
    "## Модель"
   ]
  },
  {
   "cell_type": "markdown",
   "metadata": {},
   "source": [
    "Напишим функцию для вычисления итоговой sMAPE"
   ]
  },
  {
   "cell_type": "code",
   "execution_count": 543,
   "metadata": {},
   "outputs": [],
   "source": [
    "def sMAPE(predict,target):\n",
    "    predict_rougher=predict[:,0]\n",
    "    target__rougher=target[:,0]\n",
    "    predict_final=predict[:,1]\n",
    "    target__final=target[:,1]\n",
    "    \n",
    "    sMAPE_rougher=np.sum(abs(target__rougher-predict_rougher)/((abs(target__rougher)+abs(predict_rougher))/2))\n",
    "    \n",
    "\n",
    "    sMAPE_rougher=sMAPE_rougher/len(target__rougher)*100\n",
    "    \n",
    "   \n",
    "    sMAPE_final=np.sum(abs(target__final-predict_final)/((abs(target__final)+abs(predict_final))/2))\n",
    "    sMAPE_final=sMAPE_final/len(target__final)*100\n",
    "    \n",
    "    sMAP=0.25*sMAPE_rougher+0.75*sMAPE_final\n",
    "    return sMAP"
   ]
  },
  {
   "cell_type": "code",
   "execution_count": 544,
   "metadata": {},
   "outputs": [],
   "source": [
    " # Для формирования признаков выбираем из trian только те колонки, которые есть в test\n",
    "columns=gold_test.columns"
   ]
  },
  {
   "cell_type": "code",
   "execution_count": 545,
   "metadata": {},
   "outputs": [],
   "source": [
    "feature=gold_train[columns]\n",
    "feature=feature.drop(['date'], axis=1)\n",
    "target=gold_train[['rougher.output.recovery','final.output.recovery']]"
   ]
  },
  {
   "cell_type": "code",
   "execution_count": 546,
   "metadata": {},
   "outputs": [],
   "source": [
    "target_array=np.array(target)"
   ]
  },
  {
   "cell_type": "code",
   "execution_count": 547,
   "metadata": {},
   "outputs": [],
   "source": [
    "sample_size=int(len(target)/6)"
   ]
  },
  {
   "cell_type": "markdown",
   "metadata": {},
   "source": [
    "**Обучим модель линейной регресии и оценит их качество кросс-валидацией.**"
   ]
  },
  {
   "cell_type": "code",
   "execution_count": 548,
   "metadata": {},
   "outputs": [
    {
     "name": "stdout",
     "output_type": "stream",
     "text": [
      "5.686665442293688\n",
      "9.059141205472894\n"
     ]
    }
   ],
   "source": [
    "mae_score=[]\n",
    "smape_score=[]\n",
    "for i in range(0,len(target),sample_size):\n",
    "    valid_index=feature.iloc[i:i+sample_size].index\n",
    "    train_index=feature.query('index not in @valid_index').index\n",
    "    target_valid=target.iloc[valid_index]\n",
    "    feature_valid=feature.iloc[valid_index]\n",
    "    target_train=target.iloc[train_index]\n",
    "    feature_train=feature.iloc[train_index]\n",
    "    target_valid_arr=np.array(target_valid)\n",
    "    \n",
    "    model_regression=LinearRegression()\n",
    "    model_regression.fit(feature_train,target_train)\n",
    "    prediction_regress=model_regression.predict(feature_valid)   \n",
    "    \n",
    "    mae=mean_absolute_error(prediction_regress,target_valid)\n",
    "    mae_score.append(mae)\n",
    "    smape=sMAPE(prediction_regress,target_valid_arr)\n",
    "    smape_score.append(smape)\n",
    "\n",
    "print(np.mean(mae_score))\n",
    "print(np.mean(smape_score))"
   ]
  },
  {
   "cell_type": "markdown",
   "metadata": {},
   "source": [
    "**Обучим модель дерева решений и оценит их качество кросс-валидацией.**"
   ]
  },
  {
   "cell_type": "code",
   "execution_count": 549,
   "metadata": {},
   "outputs": [
    {
     "name": "stdout",
     "output_type": "stream",
     "text": [
      "max_depth: 1 MAE: 6.078702707573382\n",
      "max_depth: 1 sMAPE: 9.373128380068902\n",
      "max_depth: 2 MAE: 6.208764160396468\n",
      "max_depth: 2 sMAPE: 9.488326694972256\n",
      "max_depth: 3 MAE: 6.528552189146247\n",
      "max_depth: 3 sMAPE: 10.282237379813587\n",
      "max_depth: 4 MAE: 6.7450518796904335\n",
      "max_depth: 4 sMAPE: 10.939652477428083\n",
      "max_depth: 1 MAE: 6.698583186213446\n",
      "max_depth: 1 sMAPE: 10.524881018586374\n",
      "max_depth: 2 MAE: 6.640485341916114\n",
      "max_depth: 2 sMAPE: 10.206812945065886\n",
      "max_depth: 3 MAE: 6.562438389616067\n",
      "max_depth: 3 sMAPE: 9.971037155817495\n",
      "max_depth: 4 MAE: 6.448255328399492\n",
      "max_depth: 4 sMAPE: 9.781932903467766\n",
      "max_depth: 1 MAE: 6.428341954764323\n",
      "max_depth: 1 sMAPE: 9.65680961606931\n",
      "max_depth: 2 MAE: 6.393810631849272\n",
      "max_depth: 2 sMAPE: 9.540165603025276\n",
      "max_depth: 3 MAE: 6.405225464553053\n",
      "max_depth: 3 sMAPE: 9.499964832190681\n",
      "max_depth: 4 MAE: 6.338363284586012\n",
      "max_depth: 4 sMAPE: 9.387278196403978\n",
      "max_depth: 1 MAE: 6.494819068430545\n",
      "max_depth: 1 sMAPE: 9.693073636432924\n",
      "max_depth: 2 MAE: 6.531372596684839\n",
      "max_depth: 2 sMAPE: 9.812442041695075\n",
      "max_depth: 3 MAE: 6.567495397340668\n",
      "max_depth: 3 sMAPE: 9.920559341789891\n",
      "max_depth: 4 MAE: 6.562365498033836\n",
      "max_depth: 4 sMAPE: 9.979566773484201\n",
      "max_depth: 1 MAE: 6.56604365640793\n",
      "max_depth: 1 sMAPE: 9.93608104349985\n",
      "max_depth: 2 MAE: 6.599705918651251\n",
      "max_depth: 2 sMAPE: 9.930000515150816\n",
      "max_depth: 3 MAE: 6.60945465238895\n",
      "max_depth: 3 sMAPE: 9.895352393955585\n",
      "max_depth: 4 MAE: 6.59403742309014\n",
      "max_depth: 4 sMAPE: 9.84024602038\n",
      "max_depth: 1 MAE: 6.63084461345911\n",
      "max_depth: 1 sMAPE: 9.887003964826507\n",
      "max_depth: 2 MAE: 6.655073281022942\n",
      "max_depth: 2 sMAPE: 9.914453693416375\n",
      "max_depth: 3 MAE: 6.660928037487092\n",
      "max_depth: 3 sMAPE: 9.922677079919268\n",
      "max_depth: 4 MAE: 6.66554270813257\n",
      "max_depth: 4 sMAPE: 9.939962293327655\n",
      "max_depth: 1 MAE: 6.608186508689878\n",
      "max_depth: 1 sMAPE: 9.770835065615671\n",
      "max_depth: 2 MAE: 6.441976899070183\n",
      "max_depth: 2 sMAPE: 9.496532940967109\n",
      "max_depth: 3 MAE: 6.2584782863744515\n",
      "max_depth: 3 sMAPE: 9.254315471666073\n",
      "max_depth: 4 MAE: 6.134175179974284\n",
      "max_depth: 4 sMAPE: 9.089759208721778\n"
     ]
    }
   ],
   "source": [
    "#для начала определим лучшее значение глубины для модели\n",
    "mae_score=[]\n",
    "smape_score=[]\n",
    "for i in range(0,len(target),sample_size):\n",
    "    valid_index=feature.iloc[i:i+sample_size].index\n",
    "    train_index=feature.query('index not in @valid_index').index\n",
    "    target_valid=target.iloc[valid_index]\n",
    "    feature_valid=feature.iloc[valid_index]\n",
    "    target_train=target.iloc[train_index]\n",
    "    feature_train=feature.iloc[train_index]\n",
    "    target_valid_arr=np.array(target_valid)\n",
    "    \n",
    "    for i in range(1,5,1):\n",
    "        model_tree=DecisionTreeRegressor(random_state=12345, max_depth=i)\n",
    "        model_tree.fit(feature_train,target_train)\n",
    "        prediction_tree=model_tree.predict(feature_valid)\n",
    "        mae=mean_absolute_error(prediction_tree,target_valid)\n",
    "        mae_score.append(mae)\n",
    "        smape=sMAPE(prediction_tree,target_valid_arr)\n",
    "        smape_score.append(smape)\n",
    "        \n",
    "        print('max_depth:',i,'MAE:',np.mean(mae_score))\n",
    "        print('max_depth:',i,'sMAPE:',np.mean(smape_score))"
   ]
  },
  {
   "cell_type": "markdown",
   "metadata": {},
   "source": [
    "Лучшее значение max_depth=3. Обучим модель ещё раз с этим значением."
   ]
  },
  {
   "cell_type": "code",
   "execution_count": 550,
   "metadata": {},
   "outputs": [
    {
     "name": "stdout",
     "output_type": "stream",
     "text": [
      "MAE: 5.988150316603729\n",
      "sMAPE: 9.041505557435576\n"
     ]
    }
   ],
   "source": [
    "# Кросс-валидация дерево решений\n",
    "mae_score=[]\n",
    "smape_score=[]\n",
    "for i in range(0,len(target),sample_size):\n",
    "    valid_index=feature.iloc[i:i+sample_size].index\n",
    "    train_index=feature.query('index not in @valid_index').index\n",
    "    target_valid=target.iloc[valid_index]\n",
    "    feature_valid=feature.iloc[valid_index]\n",
    "    target_train=target.iloc[train_index]\n",
    "    feature_train=feature.iloc[train_index]\n",
    "    target_valid_arr=np.array(target_valid)\n",
    "\n",
    "    model_tree=DecisionTreeRegressor(random_state=12345, max_depth=3)\n",
    "    model_tree.fit(feature_train,target_train)\n",
    "    prediction_tree=model_tree.predict(feature_valid)\n",
    "    mae=mean_absolute_error(prediction_tree,target_valid)\n",
    "    mae_score.append(mae)\n",
    "    smape=sMAPE(prediction_tree,target_valid_arr)\n",
    "    smape_score.append(smape)\n",
    "        \n",
    "print('MAE:',np.mean(mae_score))\n",
    "print('sMAPE:',np.mean(smape_score))"
   ]
  },
  {
   "cell_type": "markdown",
   "metadata": {},
   "source": [
    "**Обучим модель случайного леса и оценит их качество кросс-валидацией.**"
   ]
  },
  {
   "cell_type": "code",
   "execution_count": 551,
   "metadata": {},
   "outputs": [
    {
     "name": "stdout",
     "output_type": "stream",
     "text": [
      "max_depth: 1 MAE: 6.067869235497509\n",
      "max_depth: 1 sMAPE: 9.358240622199492\n",
      "max_depth: 2 MAE: 6.180018742924256\n",
      "max_depth: 2 sMAPE: 9.453843903645883\n",
      "max_depth: 3 MAE: 6.369145255831685\n",
      "max_depth: 3 sMAPE: 9.856502829239997\n",
      "max_depth: 4 MAE: 6.483620617174481\n",
      "max_depth: 4 sMAPE: 10.193741138279396\n",
      "max_depth: 1 MAE: 6.485557870293723\n",
      "max_depth: 1 sMAPE: 9.923569256060649\n",
      "max_depth: 2 MAE: 6.414945912827048\n",
      "max_depth: 2 sMAPE: 9.646545089039241\n",
      "max_depth: 3 MAE: 6.319794257758189\n",
      "max_depth: 3 sMAPE: 9.427757020181959\n",
      "max_depth: 4 MAE: 6.232009090880599\n",
      "max_depth: 4 sMAPE: 9.2950479159634\n",
      "max_depth: 1 MAE: 6.0054939317042475\n",
      "max_depth: 1 sMAPE: 8.944121024050668\n",
      "max_depth: 2 MAE: 5.815666880023235\n",
      "max_depth: 2 sMAPE: 8.661013095056786\n",
      "max_depth: 3 MAE: 5.698368541125651\n",
      "max_depth: 3 sMAPE: 8.488164218324268\n",
      "max_depth: 4 MAE: 5.61934046008406\n",
      "max_depth: 4 sMAPE: 8.367587556032735\n",
      "max_depth: 1 MAE: 5.677729218096602\n",
      "max_depth: 1 sMAPE: 8.570053385163835\n",
      "max_depth: 2 MAE: 5.70726429940664\n",
      "max_depth: 2 sMAPE: 8.700000080228357\n",
      "max_depth: 3 MAE: 5.718451213387129\n",
      "max_depth: 3 sMAPE: 8.791837261123662\n",
      "max_depth: 4 MAE: 5.707097951386349\n",
      "max_depth: 4 sMAPE: 8.852298834932984\n",
      "max_depth: 1 MAE: 5.761984141038642\n",
      "max_depth: 1 sMAPE: 8.876517000489192\n",
      "max_depth: 2 MAE: 5.82854783584068\n",
      "max_depth: 2 sMAPE: 8.91763303827089\n",
      "max_depth: 3 MAE: 5.871799020026541\n",
      "max_depth: 3 sMAPE: 8.928432261450263\n",
      "max_depth: 4 MAE: 5.8837792049739495\n",
      "max_depth: 4 sMAPE: 8.911472720630705\n",
      "max_depth: 1 MAE: 5.955950012349185\n",
      "max_depth: 1 sMAPE: 9.004564090976285\n",
      "max_depth: 2 MAE: 6.001129572512959\n",
      "max_depth: 2 sMAPE: 9.060908747722559\n",
      "max_depth: 3 MAE: 6.023744059030965\n",
      "max_depth: 3 sMAPE: 9.093267701290127\n",
      "max_depth: 4 MAE: 6.040209361636826\n",
      "max_depth: 4 sMAPE: 9.124337324472593\n",
      "max_depth: 1 MAE: 6.009706558976456\n",
      "max_depth: 1 sMAPE: 8.990671365720898\n",
      "max_depth: 2 MAE: 5.874807274713121\n",
      "max_depth: 2 sMAPE: 8.753453202872711\n",
      "max_depth: 3 MAE: 5.713065861360817\n",
      "max_depth: 3 sMAPE: 8.529926812901802\n",
      "max_depth: 4 MAE: 5.5476016018812215\n",
      "max_depth: 4 sMAPE: 8.298240340238518\n"
     ]
    }
   ],
   "source": [
    "mae_score=[]\n",
    "smape_score=[]\n",
    "for i in range(0,len(target),sample_size):\n",
    "    valid_index=feature.iloc[i:i+sample_size].index\n",
    "    train_index=feature.query('index not in @valid_index').index\n",
    "    target_valid=target.iloc[valid_index]\n",
    "    feature_valid=feature.iloc[valid_index]\n",
    "    target_train=target.iloc[train_index]\n",
    "    feature_train=feature.iloc[train_index]\n",
    "    target_valid_arr=np.array(target_valid)\n",
    "       \n",
    "    for i in range(1,5,1):\n",
    "        model_forest=RandomForestRegressor(random_state=12345,max_depth=i,n_estimators=10)\n",
    "        model_forest.fit(feature_train,target_train)\n",
    "        prediction_forest=model_forest.predict(feature_valid)\n",
    "        mae=mean_absolute_error(prediction_forest,target_valid)\n",
    "        mae_score.append(mae)\n",
    "        smape=sMAPE(prediction_forest,target_valid_arr)\n",
    "        smape_score.append(smape)\n",
    "        \n",
    "        print('max_depth:',i,'MAE:',np.mean(mae_score))\n",
    "        print('max_depth:',i,'sMAPE:',np.mean(smape_score))\n"
   ]
  },
  {
   "cell_type": "markdown",
   "metadata": {},
   "source": [
    "Лучшее значение max_depth для случайного леса также равно 4. Обучим модель ещё раз с этим значением."
   ]
  },
  {
   "cell_type": "code",
   "execution_count": 552,
   "metadata": {},
   "outputs": [
    {
     "name": "stdout",
     "output_type": "stream",
     "text": [
      "MAE: 5.265244134474329\n",
      "sMAPE: 8.27369731541875\n"
     ]
    }
   ],
   "source": [
    "mae_score=[]\n",
    "smape_score=[]\n",
    "for i in range(0,len(target),sample_size):\n",
    "    valid_index=feature.iloc[i:i+sample_size].index\n",
    "    train_index=feature.query('index not in @valid_index').index\n",
    "    target_valid=target.iloc[valid_index]\n",
    "    feature_valid=feature.iloc[valid_index]\n",
    "    target_train=target.iloc[train_index]\n",
    "    feature_train=feature.iloc[train_index]\n",
    "    target_valid_arr=np.array(target_valid)\n",
    "        \n",
    "    model_forest=RandomForestRegressor(random_state=12345,max_depth=4,n_estimators=5)\n",
    "    model_forest.fit(feature_train,target_train)\n",
    "    prediction_forest=model_forest.predict(feature_valid)\n",
    "    mae=mean_absolute_error(prediction_forest,target_valid)\n",
    "    mae_score.append(mae)\n",
    "    smape=sMAPE(prediction_forest,target_valid_arr)\n",
    "    smape_score.append(smape)\n",
    "        \n",
    "print('MAE:',np.mean(mae_score))\n",
    "print('sMAPE:',np.mean(smape_score))"
   ]
  },
  {
   "cell_type": "markdown",
   "metadata": {},
   "source": [
    "**Предсказание на тестовой выборке**"
   ]
  },
  {
   "cell_type": "code",
   "execution_count": 553,
   "metadata": {},
   "outputs": [],
   "source": [
    "target=gold_full[['date','rougher.output.recovery','final.output.recovery']]"
   ]
  },
  {
   "cell_type": "code",
   "execution_count": 554,
   "metadata": {},
   "outputs": [],
   "source": [
    "test=gold_test.merge(target,on=['date'],how='left')"
   ]
  },
  {
   "cell_type": "code",
   "execution_count": 555,
   "metadata": {},
   "outputs": [],
   "source": [
    "test=test.dropna()"
   ]
  },
  {
   "cell_type": "code",
   "execution_count": 556,
   "metadata": {},
   "outputs": [],
   "source": [
    "target=test[['rougher.output.recovery','final.output.recovery']]"
   ]
  },
  {
   "cell_type": "code",
   "execution_count": 557,
   "metadata": {},
   "outputs": [],
   "source": [
    "feature=test.drop(['date','rougher.output.recovery','final.output.recovery'],axis=1)"
   ]
  },
  {
   "cell_type": "code",
   "execution_count": 558,
   "metadata": {},
   "outputs": [],
   "source": [
    "prediction_reg=model_regression.predict(feature)"
   ]
  },
  {
   "cell_type": "code",
   "execution_count": 559,
   "metadata": {},
   "outputs": [
    {
     "data": {
      "text/plain": [
       "7.31589884222204"
      ]
     },
     "execution_count": 559,
     "metadata": {},
     "output_type": "execute_result"
    }
   ],
   "source": [
    "#рассчитаем smape на тестовой выборке для модели линейной регрессии\n",
    "smape_reg=sMAPE(prediction_reg,np.array(target))\n",
    "smape_reg"
   ]
  },
  {
   "cell_type": "code",
   "execution_count": 560,
   "metadata": {},
   "outputs": [],
   "source": [
    "prediction_tree=model_tree.predict(feature)"
   ]
  },
  {
   "cell_type": "code",
   "execution_count": 561,
   "metadata": {},
   "outputs": [
    {
     "data": {
      "text/plain": [
       "7.757302003488718"
      ]
     },
     "execution_count": 561,
     "metadata": {},
     "output_type": "execute_result"
    }
   ],
   "source": [
    "#рассчитаем smape на тестовой выборке для модели дерева решений\n",
    "smape_tree=sMAPE(prediction_tree,np.array(target))\n",
    "smape_tree"
   ]
  },
  {
   "cell_type": "code",
   "execution_count": 562,
   "metadata": {},
   "outputs": [],
   "source": [
    "prediction_forest=model_forest.predict(feature)"
   ]
  },
  {
   "cell_type": "code",
   "execution_count": 563,
   "metadata": {},
   "outputs": [
    {
     "data": {
      "text/plain": [
       "7.427610717704087"
      ]
     },
     "execution_count": 563,
     "metadata": {},
     "output_type": "execute_result"
    }
   ],
   "source": [
    "#рассчитаем smape на тестовой выборке для модели случайного леса\n",
    "smape_forest=sMAPE(prediction_forest,np.array(target))\n",
    "smape_forest"
   ]
  },
  {
   "cell_type": "code",
   "execution_count": 564,
   "metadata": {},
   "outputs": [
    {
     "data": {
      "text/plain": [
       "28.963559265375768"
      ]
     },
     "execution_count": 564,
     "metadata": {},
     "output_type": "execute_result"
    }
   ],
   "source": [
    "dummy = DummyClassifier(strategy=\"most_frequent\", random_state=0)\n",
    "dummy.fit(feature, target)\n",
    "prediction_dummy=dummy.predict(feature)\n",
    "smape_dummy=sMAPE(prediction_dummy, np.array(target))\n",
    "smape_dummy"
   ]
  },
  {
   "cell_type": "code",
   "execution_count": 565,
   "metadata": {},
   "outputs": [
    {
     "data": {
      "text/html": [
       "<div>\n",
       "<style scoped>\n",
       "    .dataframe tbody tr th:only-of-type {\n",
       "        vertical-align: middle;\n",
       "    }\n",
       "\n",
       "    .dataframe tbody tr th {\n",
       "        vertical-align: top;\n",
       "    }\n",
       "\n",
       "    .dataframe thead th {\n",
       "        text-align: right;\n",
       "    }\n",
       "</style>\n",
       "<table border=\"1\" class=\"dataframe\">\n",
       "  <thead>\n",
       "    <tr style=\"text-align: right;\">\n",
       "      <th></th>\n",
       "      <th>sMAPE</th>\n",
       "    </tr>\n",
       "  </thead>\n",
       "  <tbody>\n",
       "    <tr>\n",
       "      <th>LinearRegression</th>\n",
       "      <td>7.315899</td>\n",
       "    </tr>\n",
       "    <tr>\n",
       "      <th>DecisionTreeRegressor</th>\n",
       "      <td>7.757302</td>\n",
       "    </tr>\n",
       "    <tr>\n",
       "      <th>RandomForestRegressor</th>\n",
       "      <td>7.427611</td>\n",
       "    </tr>\n",
       "    <tr>\n",
       "      <th>DummyClassifier</th>\n",
       "      <td>28.963559</td>\n",
       "    </tr>\n",
       "  </tbody>\n",
       "</table>\n",
       "</div>"
      ],
      "text/plain": [
       "                           sMAPE\n",
       "LinearRegression        7.315899\n",
       "DecisionTreeRegressor   7.757302\n",
       "RandomForestRegressor   7.427611\n",
       "DummyClassifier        28.963559"
      ]
     },
     "execution_count": 565,
     "metadata": {},
     "output_type": "execute_result"
    }
   ],
   "source": [
    "models=['LinearRegression','DecisionTreeRegressor','RandomForestRegressor', 'DummyClassifier']\n",
    "sMAPE_rezult=pd.DataFrame(np.array([smape_reg, smape_tree, smape_forest, smape_dummy]),index=models)\n",
    "sMAPE_rezult.set_axis(['sMAPE'],axis='columns',inplace=True)\n",
    "sMAPE_rezult"
   ]
  },
  {
   "cell_type": "markdown",
   "metadata": {},
   "source": [
    "**Вывод:** На тестовой выборке, так же как и на тренировочной лучшее sMAPE показала модель случайного леса. И в общем, для всех моделей значения sMAPe для тренировочной и тестовой выборок отличаются не сильно. Проверку на адекватность с помощью Dummy проходят все модели."
   ]
  }
 ],
 "metadata": {
  "ExecuteTimeLog": [
   {
    "duration": 1933,
    "start_time": "2022-03-21T10:35:21.643Z"
   },
   {
    "duration": 142,
    "start_time": "2022-03-21T10:35:54.384Z"
   },
   {
    "duration": 576,
    "start_time": "2022-03-21T10:38:48.937Z"
   },
   {
    "duration": 362,
    "start_time": "2022-03-21T10:39:04.072Z"
   },
   {
    "duration": 371,
    "start_time": "2022-03-21T10:39:24.541Z"
   },
   {
    "duration": 86,
    "start_time": "2022-03-21T10:40:44.611Z"
   },
   {
    "duration": 180,
    "start_time": "2022-03-21T10:40:55.386Z"
   },
   {
    "duration": 107,
    "start_time": "2022-03-21T10:41:10.476Z"
   },
   {
    "duration": 78,
    "start_time": "2022-03-21T10:41:13.463Z"
   },
   {
    "duration": 3,
    "start_time": "2022-03-21T10:41:30.258Z"
   },
   {
    "duration": 394,
    "start_time": "2022-03-21T10:41:30.286Z"
   },
   {
    "duration": 99,
    "start_time": "2022-03-21T10:41:30.683Z"
   },
   {
    "duration": 107,
    "start_time": "2022-03-21T10:42:13.117Z"
   },
   {
    "duration": 463,
    "start_time": "2022-03-21T10:42:39.366Z"
   },
   {
    "duration": 20,
    "start_time": "2022-03-21T10:42:48.226Z"
   },
   {
    "duration": 18,
    "start_time": "2022-03-21T10:42:56.358Z"
   },
   {
    "duration": 23,
    "start_time": "2022-03-21T10:43:09.595Z"
   },
   {
    "duration": 15,
    "start_time": "2022-03-21T10:44:08.115Z"
   },
   {
    "duration": 330,
    "start_time": "2022-03-21T10:44:22.800Z"
   },
   {
    "duration": 103,
    "start_time": "2022-03-21T10:44:51.110Z"
   },
   {
    "duration": 14,
    "start_time": "2022-03-21T10:45:03.282Z"
   },
   {
    "duration": 13,
    "start_time": "2022-03-21T10:45:20.737Z"
   },
   {
    "duration": 148,
    "start_time": "2022-03-21T10:45:29.586Z"
   },
   {
    "duration": 139,
    "start_time": "2022-03-21T10:48:23.869Z"
   },
   {
    "duration": 206,
    "start_time": "2022-03-21T10:48:41.162Z"
   },
   {
    "duration": 436,
    "start_time": "2022-03-21T10:49:23.338Z"
   },
   {
    "duration": 627,
    "start_time": "2022-03-21T10:49:44.735Z"
   },
   {
    "duration": 27,
    "start_time": "2022-03-21T10:50:00.129Z"
   },
   {
    "duration": 34,
    "start_time": "2022-03-21T10:50:08.484Z"
   },
   {
    "duration": 260,
    "start_time": "2022-03-21T10:50:20.152Z"
   },
   {
    "duration": 286,
    "start_time": "2022-03-21T11:03:26.450Z"
   },
   {
    "duration": 4,
    "start_time": "2022-03-21T11:24:24.477Z"
   },
   {
    "duration": 370,
    "start_time": "2022-03-21T11:24:24.484Z"
   },
   {
    "duration": 16,
    "start_time": "2022-03-21T11:24:24.856Z"
   },
   {
    "duration": 264,
    "start_time": "2022-03-21T11:24:24.874Z"
   },
   {
    "duration": 123,
    "start_time": "2022-03-21T11:24:25.140Z"
   },
   {
    "duration": 14,
    "start_time": "2022-03-21T11:24:25.266Z"
   },
   {
    "duration": 215,
    "start_time": "2022-03-21T11:24:25.282Z"
   },
   {
    "duration": 473,
    "start_time": "2022-03-21T11:24:25.501Z"
   },
   {
    "duration": 32,
    "start_time": "2022-03-21T11:24:25.976Z"
   },
   {
    "duration": 272,
    "start_time": "2022-03-21T11:24:26.012Z"
   },
   {
    "duration": 6,
    "start_time": "2022-03-21T11:30:36.249Z"
   },
   {
    "duration": 5,
    "start_time": "2022-03-21T11:31:07.731Z"
   },
   {
    "duration": 9,
    "start_time": "2022-03-21T11:31:49.440Z"
   },
   {
    "duration": 11,
    "start_time": "2022-03-21T11:32:00.577Z"
   },
   {
    "duration": 10,
    "start_time": "2022-03-21T11:32:05.232Z"
   },
   {
    "duration": 14,
    "start_time": "2022-03-21T11:32:15.771Z"
   },
   {
    "duration": 3,
    "start_time": "2022-03-21T11:32:33.368Z"
   },
   {
    "duration": 12,
    "start_time": "2022-03-21T11:33:24.117Z"
   },
   {
    "duration": 6,
    "start_time": "2022-03-21T11:33:40.664Z"
   },
   {
    "duration": 10,
    "start_time": "2022-03-21T11:33:52.474Z"
   },
   {
    "duration": 19,
    "start_time": "2022-03-21T11:34:39.716Z"
   },
   {
    "duration": 7,
    "start_time": "2022-03-21T11:34:48.343Z"
   },
   {
    "duration": 3,
    "start_time": "2022-03-21T11:37:08.840Z"
   },
   {
    "duration": 375,
    "start_time": "2022-03-21T11:37:08.846Z"
   },
   {
    "duration": 18,
    "start_time": "2022-03-21T11:37:09.223Z"
   },
   {
    "duration": 245,
    "start_time": "2022-03-21T11:37:09.243Z"
   },
   {
    "duration": 101,
    "start_time": "2022-03-21T11:37:09.490Z"
   },
   {
    "duration": 20,
    "start_time": "2022-03-21T11:37:09.601Z"
   },
   {
    "duration": 147,
    "start_time": "2022-03-21T11:37:09.625Z"
   },
   {
    "duration": 494,
    "start_time": "2022-03-21T11:37:09.774Z"
   },
   {
    "duration": 38,
    "start_time": "2022-03-21T11:37:10.271Z"
   },
   {
    "duration": 271,
    "start_time": "2022-03-21T11:37:10.312Z"
   },
   {
    "duration": 6,
    "start_time": "2022-03-21T11:37:10.585Z"
   },
   {
    "duration": 6,
    "start_time": "2022-03-21T11:37:10.601Z"
   },
   {
    "duration": 22,
    "start_time": "2022-03-21T11:37:10.611Z"
   },
   {
    "duration": 10,
    "start_time": "2022-03-21T11:37:10.635Z"
   },
   {
    "duration": 18,
    "start_time": "2022-03-21T11:37:10.647Z"
   },
   {
    "duration": 11,
    "start_time": "2022-03-21T11:38:11.962Z"
   },
   {
    "duration": 5,
    "start_time": "2022-03-21T11:43:10.535Z"
   },
   {
    "duration": 369,
    "start_time": "2022-03-21T11:43:10.542Z"
   },
   {
    "duration": 21,
    "start_time": "2022-03-21T11:43:10.913Z"
   },
   {
    "duration": 344,
    "start_time": "2022-03-21T11:43:10.937Z"
   },
   {
    "duration": 111,
    "start_time": "2022-03-21T11:43:11.283Z"
   },
   {
    "duration": 23,
    "start_time": "2022-03-21T11:43:11.400Z"
   },
   {
    "duration": 145,
    "start_time": "2022-03-21T11:43:11.425Z"
   },
   {
    "duration": 479,
    "start_time": "2022-03-21T11:43:11.572Z"
   },
   {
    "duration": 19,
    "start_time": "2022-03-21T11:43:12.053Z"
   },
   {
    "duration": 292,
    "start_time": "2022-03-21T11:43:12.075Z"
   },
   {
    "duration": 4,
    "start_time": "2022-03-21T11:43:12.369Z"
   },
   {
    "duration": 5,
    "start_time": "2022-03-21T11:43:12.376Z"
   },
   {
    "duration": 26,
    "start_time": "2022-03-21T11:43:12.383Z"
   },
   {
    "duration": 12,
    "start_time": "2022-03-21T11:43:12.412Z"
   },
   {
    "duration": 21,
    "start_time": "2022-03-21T11:43:12.426Z"
   },
   {
    "duration": 8,
    "start_time": "2022-03-21T12:12:04.335Z"
   },
   {
    "duration": 9,
    "start_time": "2022-03-21T12:12:41.067Z"
   },
   {
    "duration": 5,
    "start_time": "2022-03-21T12:12:43.091Z"
   },
   {
    "duration": 7,
    "start_time": "2022-03-21T12:58:02.922Z"
   },
   {
    "duration": 6,
    "start_time": "2022-03-21T12:58:06.666Z"
   },
   {
    "duration": 5,
    "start_time": "2022-03-21T13:02:12.455Z"
   },
   {
    "duration": 172,
    "start_time": "2022-03-21T13:02:32.835Z"
   },
   {
    "duration": 4,
    "start_time": "2022-03-21T13:03:57.261Z"
   },
   {
    "duration": 5,
    "start_time": "2022-03-21T13:04:05.040Z"
   },
   {
    "duration": 5,
    "start_time": "2022-03-21T13:04:42.852Z"
   },
   {
    "duration": 0,
    "start_time": "2022-03-21T13:05:59.927Z"
   },
   {
    "duration": 3,
    "start_time": "2022-03-21T13:06:09.118Z"
   },
   {
    "duration": 339,
    "start_time": "2022-03-21T13:06:09.123Z"
   },
   {
    "duration": 17,
    "start_time": "2022-03-21T13:06:09.464Z"
   },
   {
    "duration": 240,
    "start_time": "2022-03-21T13:06:09.484Z"
   },
   {
    "duration": 102,
    "start_time": "2022-03-21T13:06:09.726Z"
   },
   {
    "duration": 15,
    "start_time": "2022-03-21T13:06:09.829Z"
   },
   {
    "duration": 136,
    "start_time": "2022-03-21T13:06:09.845Z"
   },
   {
    "duration": 447,
    "start_time": "2022-03-21T13:06:09.983Z"
   },
   {
    "duration": 19,
    "start_time": "2022-03-21T13:06:10.432Z"
   },
   {
    "duration": 281,
    "start_time": "2022-03-21T13:06:10.455Z"
   },
   {
    "duration": 3,
    "start_time": "2022-03-21T13:06:10.738Z"
   },
   {
    "duration": 13,
    "start_time": "2022-03-21T13:06:10.744Z"
   },
   {
    "duration": 10,
    "start_time": "2022-03-21T13:06:10.759Z"
   },
   {
    "duration": 6,
    "start_time": "2022-03-21T13:06:10.770Z"
   },
   {
    "duration": 32,
    "start_time": "2022-03-21T13:06:10.778Z"
   },
   {
    "duration": 2758,
    "start_time": "2022-03-21T13:06:10.813Z"
   },
   {
    "duration": 5,
    "start_time": "2022-03-21T13:07:47.127Z"
   },
   {
    "duration": 4,
    "start_time": "2022-03-21T13:07:50.926Z"
   },
   {
    "duration": 350,
    "start_time": "2022-03-21T13:07:50.932Z"
   },
   {
    "duration": 28,
    "start_time": "2022-03-21T13:07:51.284Z"
   },
   {
    "duration": 231,
    "start_time": "2022-03-21T13:07:51.315Z"
   },
   {
    "duration": 101,
    "start_time": "2022-03-21T13:07:51.549Z"
   },
   {
    "duration": 13,
    "start_time": "2022-03-21T13:07:51.652Z"
   },
   {
    "duration": 146,
    "start_time": "2022-03-21T13:07:51.667Z"
   },
   {
    "duration": 438,
    "start_time": "2022-03-21T13:07:51.815Z"
   },
   {
    "duration": 18,
    "start_time": "2022-03-21T13:07:52.256Z"
   },
   {
    "duration": 281,
    "start_time": "2022-03-21T13:07:52.276Z"
   },
   {
    "duration": 3,
    "start_time": "2022-03-21T13:07:52.559Z"
   },
   {
    "duration": 17,
    "start_time": "2022-03-21T13:07:52.564Z"
   },
   {
    "duration": 35,
    "start_time": "2022-03-21T13:07:52.583Z"
   },
   {
    "duration": 13,
    "start_time": "2022-03-21T13:07:52.619Z"
   },
   {
    "duration": 16,
    "start_time": "2022-03-21T13:07:52.634Z"
   },
   {
    "duration": 24,
    "start_time": "2022-03-21T13:07:52.652Z"
   },
   {
    "duration": 77,
    "start_time": "2022-03-21T13:10:18.207Z"
   },
   {
    "duration": 25,
    "start_time": "2022-03-21T13:13:25.083Z"
   },
   {
    "duration": 5,
    "start_time": "2022-03-21T13:13:28.149Z"
   },
   {
    "duration": 23,
    "start_time": "2022-03-21T13:13:32.184Z"
   },
   {
    "duration": 18,
    "start_time": "2022-03-21T13:13:42.454Z"
   },
   {
    "duration": 6,
    "start_time": "2022-03-21T13:14:37.532Z"
   },
   {
    "duration": 18,
    "start_time": "2022-03-21T13:14:48.251Z"
   },
   {
    "duration": 30,
    "start_time": "2022-03-21T13:15:07.599Z"
   },
   {
    "duration": 12,
    "start_time": "2022-03-21T13:16:38.623Z"
   },
   {
    "duration": 14,
    "start_time": "2022-03-21T13:16:59.164Z"
   },
   {
    "duration": 20,
    "start_time": "2022-03-21T13:17:32.018Z"
   },
   {
    "duration": 6,
    "start_time": "2022-03-21T13:40:30.215Z"
   },
   {
    "duration": 4,
    "start_time": "2022-03-21T13:40:49.241Z"
   },
   {
    "duration": 370,
    "start_time": "2022-03-21T13:40:49.247Z"
   },
   {
    "duration": 18,
    "start_time": "2022-03-21T13:40:49.620Z"
   },
   {
    "duration": 244,
    "start_time": "2022-03-21T13:40:49.640Z"
   },
   {
    "duration": 107,
    "start_time": "2022-03-21T13:40:49.886Z"
   },
   {
    "duration": 26,
    "start_time": "2022-03-21T13:40:49.995Z"
   },
   {
    "duration": 144,
    "start_time": "2022-03-21T13:40:50.023Z"
   },
   {
    "duration": 448,
    "start_time": "2022-03-21T13:40:50.169Z"
   },
   {
    "duration": 19,
    "start_time": "2022-03-21T13:40:50.619Z"
   },
   {
    "duration": 276,
    "start_time": "2022-03-21T13:40:50.639Z"
   },
   {
    "duration": 4,
    "start_time": "2022-03-21T13:40:50.919Z"
   },
   {
    "duration": 13,
    "start_time": "2022-03-21T13:40:50.925Z"
   },
   {
    "duration": 11,
    "start_time": "2022-03-21T13:40:50.940Z"
   },
   {
    "duration": 11,
    "start_time": "2022-03-21T13:40:50.952Z"
   },
   {
    "duration": 18,
    "start_time": "2022-03-21T13:40:50.964Z"
   },
   {
    "duration": 39,
    "start_time": "2022-03-21T13:40:50.984Z"
   },
   {
    "duration": 19,
    "start_time": "2022-03-21T13:40:51.025Z"
   },
   {
    "duration": 22,
    "start_time": "2022-03-21T13:40:51.046Z"
   },
   {
    "duration": 50,
    "start_time": "2022-03-21T13:40:51.072Z"
   },
   {
    "duration": 30,
    "start_time": "2022-03-21T13:40:51.124Z"
   },
   {
    "duration": 5,
    "start_time": "2022-03-21T13:41:41.335Z"
   },
   {
    "duration": 363,
    "start_time": "2022-03-21T13:41:41.342Z"
   },
   {
    "duration": 22,
    "start_time": "2022-03-21T13:41:41.708Z"
   },
   {
    "duration": 252,
    "start_time": "2022-03-21T13:41:41.733Z"
   },
   {
    "duration": 116,
    "start_time": "2022-03-21T13:41:41.987Z"
   },
   {
    "duration": 19,
    "start_time": "2022-03-21T13:41:42.106Z"
   },
   {
    "duration": 149,
    "start_time": "2022-03-21T13:41:42.127Z"
   },
   {
    "duration": 459,
    "start_time": "2022-03-21T13:41:42.278Z"
   },
   {
    "duration": 22,
    "start_time": "2022-03-21T13:41:42.741Z"
   },
   {
    "duration": 310,
    "start_time": "2022-03-21T13:41:42.765Z"
   },
   {
    "duration": 3,
    "start_time": "2022-03-21T13:41:43.077Z"
   },
   {
    "duration": 45,
    "start_time": "2022-03-21T13:41:43.082Z"
   },
   {
    "duration": 53,
    "start_time": "2022-03-21T13:41:43.129Z"
   },
   {
    "duration": 48,
    "start_time": "2022-03-21T13:41:43.184Z"
   },
   {
    "duration": 52,
    "start_time": "2022-03-21T13:41:43.234Z"
   },
   {
    "duration": 55,
    "start_time": "2022-03-21T13:41:43.288Z"
   },
   {
    "duration": 35,
    "start_time": "2022-03-21T13:41:43.345Z"
   },
   {
    "duration": 64,
    "start_time": "2022-03-21T13:41:43.382Z"
   },
   {
    "duration": 45,
    "start_time": "2022-03-21T13:41:43.448Z"
   },
   {
    "duration": 39,
    "start_time": "2022-03-21T13:41:43.495Z"
   },
   {
    "duration": 4,
    "start_time": "2022-03-21T13:43:18.051Z"
   },
   {
    "duration": 335,
    "start_time": "2022-03-21T13:43:18.057Z"
   },
   {
    "duration": 30,
    "start_time": "2022-03-21T13:43:18.394Z"
   },
   {
    "duration": 237,
    "start_time": "2022-03-21T13:43:18.426Z"
   },
   {
    "duration": 104,
    "start_time": "2022-03-21T13:43:18.666Z"
   },
   {
    "duration": 14,
    "start_time": "2022-03-21T13:43:18.772Z"
   },
   {
    "duration": 134,
    "start_time": "2022-03-21T13:43:18.800Z"
   },
   {
    "duration": 458,
    "start_time": "2022-03-21T13:43:18.935Z"
   },
   {
    "duration": 28,
    "start_time": "2022-03-21T13:43:19.400Z"
   },
   {
    "duration": 273,
    "start_time": "2022-03-21T13:43:19.430Z"
   },
   {
    "duration": 4,
    "start_time": "2022-03-21T13:43:19.708Z"
   },
   {
    "duration": 19,
    "start_time": "2022-03-21T13:43:19.714Z"
   },
   {
    "duration": 9,
    "start_time": "2022-03-21T13:43:19.735Z"
   },
   {
    "duration": 5,
    "start_time": "2022-03-21T13:43:19.746Z"
   },
   {
    "duration": 18,
    "start_time": "2022-03-21T13:43:19.753Z"
   },
   {
    "duration": 58,
    "start_time": "2022-03-21T13:43:19.772Z"
   },
   {
    "duration": 24,
    "start_time": "2022-03-21T13:43:19.831Z"
   },
   {
    "duration": 23,
    "start_time": "2022-03-21T13:43:19.857Z"
   },
   {
    "duration": 44,
    "start_time": "2022-03-21T13:43:19.882Z"
   },
   {
    "duration": 7,
    "start_time": "2022-03-21T13:43:19.929Z"
   },
   {
    "duration": 10,
    "start_time": "2022-03-21T13:45:52.101Z"
   },
   {
    "duration": 1619,
    "start_time": "2022-03-21T13:45:54.654Z"
   },
   {
    "duration": 5,
    "start_time": "2022-03-21T13:46:40.286Z"
   },
   {
    "duration": 1009,
    "start_time": "2022-03-21T13:46:42.021Z"
   },
   {
    "duration": 5,
    "start_time": "2022-03-21T13:47:53.253Z"
   },
   {
    "duration": 1700,
    "start_time": "2022-03-21T13:47:55.081Z"
   },
   {
    "duration": 8,
    "start_time": "2022-03-21T13:48:37.028Z"
   },
   {
    "duration": 2279,
    "start_time": "2022-03-21T13:48:38.976Z"
   },
   {
    "duration": 6,
    "start_time": "2022-03-21T13:49:41.346Z"
   },
   {
    "duration": 1096,
    "start_time": "2022-03-21T13:49:42.410Z"
   },
   {
    "duration": 8,
    "start_time": "2022-03-21T14:01:59.597Z"
   },
   {
    "duration": 1126,
    "start_time": "2022-03-21T14:02:01.418Z"
   },
   {
    "duration": 5,
    "start_time": "2022-03-21T14:05:36.058Z"
   },
   {
    "duration": 27,
    "start_time": "2022-03-21T14:05:36.713Z"
   },
   {
    "duration": 9,
    "start_time": "2022-03-21T14:05:50.512Z"
   },
   {
    "duration": 20,
    "start_time": "2022-03-21T14:05:51.763Z"
   },
   {
    "duration": 5,
    "start_time": "2022-03-21T14:06:13.773Z"
   },
   {
    "duration": 19,
    "start_time": "2022-03-21T14:06:14.934Z"
   },
   {
    "duration": 5,
    "start_time": "2022-03-21T14:07:35.492Z"
   },
   {
    "duration": 1013,
    "start_time": "2022-03-21T14:07:37.125Z"
   },
   {
    "duration": 5,
    "start_time": "2022-03-21T14:10:39.135Z"
   },
   {
    "duration": 28,
    "start_time": "2022-03-21T14:10:40.118Z"
   },
   {
    "duration": 7,
    "start_time": "2022-03-21T14:11:27.462Z"
   },
   {
    "duration": 32,
    "start_time": "2022-03-21T14:11:28.302Z"
   },
   {
    "duration": 23,
    "start_time": "2022-03-21T14:11:35.210Z"
   },
   {
    "duration": 253,
    "start_time": "2022-03-21T14:11:52.214Z"
   },
   {
    "duration": 21,
    "start_time": "2022-03-21T14:11:52.948Z"
   },
   {
    "duration": 5,
    "start_time": "2022-03-21T14:12:14.027Z"
   },
   {
    "duration": 19,
    "start_time": "2022-03-21T14:12:14.741Z"
   },
   {
    "duration": 647,
    "start_time": "2022-03-21T14:13:33.793Z"
   },
   {
    "duration": 5,
    "start_time": "2022-03-21T14:13:34.647Z"
   },
   {
    "duration": 253,
    "start_time": "2022-03-21T14:15:45.850Z"
   },
   {
    "duration": 27,
    "start_time": "2022-03-21T14:15:48.565Z"
   },
   {
    "duration": 6,
    "start_time": "2022-03-21T14:16:05.823Z"
   },
   {
    "duration": 1585,
    "start_time": "2022-03-21T14:16:06.931Z"
   },
   {
    "duration": 4,
    "start_time": "2022-03-21T14:16:46.348Z"
   },
   {
    "duration": 1665,
    "start_time": "2022-03-21T14:16:47.578Z"
   },
   {
    "duration": 5,
    "start_time": "2022-03-21T14:17:06.354Z"
   },
   {
    "duration": 1423,
    "start_time": "2022-03-21T14:17:07.839Z"
   },
   {
    "duration": 6,
    "start_time": "2022-03-21T14:17:51.618Z"
   },
   {
    "duration": 1610,
    "start_time": "2022-03-21T14:17:52.236Z"
   },
   {
    "duration": 8,
    "start_time": "2022-03-21T14:18:25.316Z"
   },
   {
    "duration": 1501,
    "start_time": "2022-03-21T14:18:26.658Z"
   },
   {
    "duration": 5,
    "start_time": "2022-03-21T14:18:44.665Z"
   },
   {
    "duration": 1477,
    "start_time": "2022-03-21T14:18:49.177Z"
   },
   {
    "duration": 6,
    "start_time": "2022-03-21T14:19:04.961Z"
   },
   {
    "duration": 1182,
    "start_time": "2022-03-21T14:19:05.928Z"
   },
   {
    "duration": 5,
    "start_time": "2022-03-21T14:19:19.336Z"
   },
   {
    "duration": 1381,
    "start_time": "2022-03-21T14:19:20.021Z"
   },
   {
    "duration": 5,
    "start_time": "2022-03-21T14:19:27.615Z"
   },
   {
    "duration": 1338,
    "start_time": "2022-03-21T14:19:28.615Z"
   },
   {
    "duration": 5,
    "start_time": "2022-03-21T14:19:38.622Z"
   },
   {
    "duration": 1469,
    "start_time": "2022-03-21T14:19:39.375Z"
   },
   {
    "duration": 6,
    "start_time": "2022-03-21T14:20:09.823Z"
   },
   {
    "duration": 1339,
    "start_time": "2022-03-21T14:20:10.336Z"
   },
   {
    "duration": 7,
    "start_time": "2022-03-21T14:20:24.811Z"
   },
   {
    "duration": 1470,
    "start_time": "2022-03-21T14:20:25.777Z"
   },
   {
    "duration": 9,
    "start_time": "2022-03-21T14:21:06.281Z"
   },
   {
    "duration": 1686,
    "start_time": "2022-03-21T14:21:07.154Z"
   },
   {
    "duration": 5,
    "start_time": "2022-03-21T14:21:27.165Z"
   },
   {
    "duration": 1926,
    "start_time": "2022-03-21T14:21:29.122Z"
   },
   {
    "duration": 5,
    "start_time": "2022-03-21T14:21:52.840Z"
   },
   {
    "duration": 2066,
    "start_time": "2022-03-21T14:21:53.548Z"
   },
   {
    "duration": 10,
    "start_time": "2022-03-22T07:47:12.075Z"
   },
   {
    "duration": 43,
    "start_time": "2022-03-22T07:47:13.510Z"
   },
   {
    "duration": 1860,
    "start_time": "2022-03-22T07:47:26.042Z"
   },
   {
    "duration": 298,
    "start_time": "2022-03-22T07:47:27.904Z"
   },
   {
    "duration": 16,
    "start_time": "2022-03-22T07:47:28.203Z"
   },
   {
    "duration": 299,
    "start_time": "2022-03-22T07:47:28.221Z"
   },
   {
    "duration": 138,
    "start_time": "2022-03-22T07:47:28.522Z"
   },
   {
    "duration": 18,
    "start_time": "2022-03-22T07:47:28.662Z"
   },
   {
    "duration": 188,
    "start_time": "2022-03-22T07:47:28.682Z"
   },
   {
    "duration": 480,
    "start_time": "2022-03-22T07:47:28.872Z"
   },
   {
    "duration": 16,
    "start_time": "2022-03-22T07:47:29.353Z"
   },
   {
    "duration": 215,
    "start_time": "2022-03-22T07:47:29.372Z"
   },
   {
    "duration": 2,
    "start_time": "2022-03-22T07:47:29.589Z"
   },
   {
    "duration": 16,
    "start_time": "2022-03-22T07:47:29.592Z"
   },
   {
    "duration": 7,
    "start_time": "2022-03-22T07:47:29.609Z"
   },
   {
    "duration": 4,
    "start_time": "2022-03-22T07:47:29.618Z"
   },
   {
    "duration": 7,
    "start_time": "2022-03-22T07:47:29.623Z"
   },
   {
    "duration": 75,
    "start_time": "2022-03-22T07:47:29.631Z"
   },
   {
    "duration": 15,
    "start_time": "2022-03-22T07:47:29.707Z"
   },
   {
    "duration": 20,
    "start_time": "2022-03-22T07:47:29.723Z"
   },
   {
    "duration": 21,
    "start_time": "2022-03-22T07:47:29.745Z"
   },
   {
    "duration": 4,
    "start_time": "2022-03-22T07:47:29.768Z"
   },
   {
    "duration": 1901,
    "start_time": "2022-03-22T07:47:29.773Z"
   },
   {
    "duration": 5,
    "start_time": "2022-03-22T07:47:56.318Z"
   },
   {
    "duration": 1892,
    "start_time": "2022-03-22T07:47:57.130Z"
   },
   {
    "duration": 5,
    "start_time": "2022-03-22T07:52:53.523Z"
   },
   {
    "duration": 1767,
    "start_time": "2022-03-22T07:52:54.682Z"
   },
   {
    "duration": 4,
    "start_time": "2022-03-22T07:56:19.445Z"
   },
   {
    "duration": 2113,
    "start_time": "2022-03-22T07:56:20.564Z"
   },
   {
    "duration": 5,
    "start_time": "2022-03-22T07:56:52.529Z"
   },
   {
    "duration": 2089,
    "start_time": "2022-03-22T07:56:53.321Z"
   },
   {
    "duration": 5,
    "start_time": "2022-03-22T08:01:14.973Z"
   },
   {
    "duration": 2215,
    "start_time": "2022-03-22T08:01:15.643Z"
   },
   {
    "duration": 5,
    "start_time": "2022-03-22T08:05:39.918Z"
   },
   {
    "duration": 2095,
    "start_time": "2022-03-22T08:05:41.132Z"
   },
   {
    "duration": 5,
    "start_time": "2022-03-22T08:05:56.508Z"
   },
   {
    "duration": 2285,
    "start_time": "2022-03-22T08:05:57.145Z"
   },
   {
    "duration": 5,
    "start_time": "2022-03-22T08:06:07.148Z"
   },
   {
    "duration": 3145,
    "start_time": "2022-03-22T08:06:08.210Z"
   },
   {
    "duration": 6,
    "start_time": "2022-03-22T08:06:17.515Z"
   },
   {
    "duration": 2177,
    "start_time": "2022-03-22T08:06:18.582Z"
   },
   {
    "duration": 5,
    "start_time": "2022-03-22T08:06:28.933Z"
   },
   {
    "duration": 2172,
    "start_time": "2022-03-22T08:06:34.668Z"
   },
   {
    "duration": 2071,
    "start_time": "2022-03-22T08:07:13.966Z"
   },
   {
    "duration": 1913,
    "start_time": "2022-03-22T08:07:18.750Z"
   },
   {
    "duration": 1872,
    "start_time": "2022-03-22T08:08:19.181Z"
   },
   {
    "duration": 1773,
    "start_time": "2022-03-22T08:08:25.880Z"
   },
   {
    "duration": 1891,
    "start_time": "2022-03-22T08:08:30.659Z"
   },
   {
    "duration": 1777,
    "start_time": "2022-03-22T09:10:16.358Z"
   },
   {
    "duration": 6,
    "start_time": "2022-03-22T09:15:18.922Z"
   },
   {
    "duration": 4,
    "start_time": "2022-03-22T09:20:26.261Z"
   },
   {
    "duration": 298,
    "start_time": "2022-03-22T09:21:55.929Z"
   },
   {
    "duration": 401,
    "start_time": "2022-03-22T09:22:33.905Z"
   },
   {
    "duration": 345,
    "start_time": "2022-03-22T09:22:42.416Z"
   },
   {
    "duration": 485,
    "start_time": "2022-03-22T09:25:45.274Z"
   },
   {
    "duration": 234,
    "start_time": "2022-03-22T09:26:15.823Z"
   },
   {
    "duration": 236,
    "start_time": "2022-03-22T09:26:22.487Z"
   },
   {
    "duration": 4,
    "start_time": "2022-03-22T09:26:39.566Z"
   },
   {
    "duration": 216,
    "start_time": "2022-03-22T09:26:51.020Z"
   },
   {
    "duration": 436,
    "start_time": "2022-03-22T09:27:47.932Z"
   },
   {
    "duration": 554,
    "start_time": "2022-03-22T09:28:34.978Z"
   },
   {
    "duration": 298,
    "start_time": "2022-03-22T09:28:49.703Z"
   },
   {
    "duration": 317,
    "start_time": "2022-03-22T09:29:17.618Z"
   },
   {
    "duration": 308,
    "start_time": "2022-03-22T09:29:22.996Z"
   },
   {
    "duration": 5,
    "start_time": "2022-03-22T09:29:48.237Z"
   },
   {
    "duration": 375,
    "start_time": "2022-03-22T09:34:51.474Z"
   },
   {
    "duration": 382,
    "start_time": "2022-03-22T09:35:02.271Z"
   },
   {
    "duration": 331,
    "start_time": "2022-03-22T09:35:10.751Z"
   },
   {
    "duration": 301,
    "start_time": "2022-03-22T09:35:50.886Z"
   },
   {
    "duration": 4,
    "start_time": "2022-03-22T09:37:40.285Z"
   },
   {
    "duration": 333,
    "start_time": "2022-03-22T09:37:40.291Z"
   },
   {
    "duration": 16,
    "start_time": "2022-03-22T09:37:40.625Z"
   },
   {
    "duration": 204,
    "start_time": "2022-03-22T09:37:40.642Z"
   },
   {
    "duration": 96,
    "start_time": "2022-03-22T09:37:40.848Z"
   },
   {
    "duration": 11,
    "start_time": "2022-03-22T09:37:40.945Z"
   },
   {
    "duration": 118,
    "start_time": "2022-03-22T09:37:40.958Z"
   },
   {
    "duration": 454,
    "start_time": "2022-03-22T09:37:41.078Z"
   },
   {
    "duration": 18,
    "start_time": "2022-03-22T09:37:41.534Z"
   },
   {
    "duration": 236,
    "start_time": "2022-03-22T09:37:41.554Z"
   },
   {
    "duration": 9,
    "start_time": "2022-03-22T09:37:41.792Z"
   },
   {
    "duration": 12,
    "start_time": "2022-03-22T09:37:41.804Z"
   },
   {
    "duration": 8,
    "start_time": "2022-03-22T09:37:41.818Z"
   },
   {
    "duration": 4,
    "start_time": "2022-03-22T09:37:41.829Z"
   },
   {
    "duration": 4,
    "start_time": "2022-03-22T09:37:41.835Z"
   },
   {
    "duration": 19,
    "start_time": "2022-03-22T09:37:41.840Z"
   },
   {
    "duration": 55,
    "start_time": "2022-03-22T09:37:41.861Z"
   },
   {
    "duration": 20,
    "start_time": "2022-03-22T09:37:41.917Z"
   },
   {
    "duration": 20,
    "start_time": "2022-03-22T09:37:41.939Z"
   },
   {
    "duration": 5,
    "start_time": "2022-03-22T09:37:41.961Z"
   },
   {
    "duration": 2257,
    "start_time": "2022-03-22T09:37:41.968Z"
   },
   {
    "duration": 1844,
    "start_time": "2022-03-22T09:37:44.227Z"
   },
   {
    "duration": 1896,
    "start_time": "2022-03-22T09:37:46.073Z"
   },
   {
    "duration": 317,
    "start_time": "2022-03-22T09:37:47.971Z"
   },
   {
    "duration": 5,
    "start_time": "2022-03-22T09:37:48.289Z"
   },
   {
    "duration": 323,
    "start_time": "2022-03-22T09:37:48.295Z"
   },
   {
    "duration": 4,
    "start_time": "2022-03-22T09:37:48.620Z"
   },
   {
    "duration": 4,
    "start_time": "2022-03-22T10:49:34.817Z"
   },
   {
    "duration": 309,
    "start_time": "2022-03-22T10:49:34.823Z"
   },
   {
    "duration": 15,
    "start_time": "2022-03-22T10:49:35.134Z"
   },
   {
    "duration": 213,
    "start_time": "2022-03-22T10:49:35.150Z"
   },
   {
    "duration": 85,
    "start_time": "2022-03-22T10:49:35.366Z"
   },
   {
    "duration": 12,
    "start_time": "2022-03-22T10:49:35.452Z"
   },
   {
    "duration": 119,
    "start_time": "2022-03-22T10:49:35.466Z"
   },
   {
    "duration": 462,
    "start_time": "2022-03-22T10:49:35.587Z"
   },
   {
    "duration": 17,
    "start_time": "2022-03-22T10:49:36.051Z"
   },
   {
    "duration": 331,
    "start_time": "2022-03-22T10:49:36.070Z"
   },
   {
    "duration": 3,
    "start_time": "2022-03-22T10:49:36.403Z"
   },
   {
    "duration": 8,
    "start_time": "2022-03-22T10:49:36.408Z"
   },
   {
    "duration": 8,
    "start_time": "2022-03-22T10:49:36.418Z"
   },
   {
    "duration": 5,
    "start_time": "2022-03-22T10:49:36.428Z"
   },
   {
    "duration": 5,
    "start_time": "2022-03-22T10:49:36.434Z"
   },
   {
    "duration": 21,
    "start_time": "2022-03-22T10:49:36.440Z"
   },
   {
    "duration": 48,
    "start_time": "2022-03-22T10:49:36.463Z"
   },
   {
    "duration": 22,
    "start_time": "2022-03-22T10:49:36.513Z"
   },
   {
    "duration": 19,
    "start_time": "2022-03-22T10:49:36.536Z"
   },
   {
    "duration": 6,
    "start_time": "2022-03-22T10:49:36.557Z"
   },
   {
    "duration": 2069,
    "start_time": "2022-03-22T10:49:36.565Z"
   },
   {
    "duration": 1926,
    "start_time": "2022-03-22T10:49:38.636Z"
   },
   {
    "duration": 1765,
    "start_time": "2022-03-22T10:49:40.564Z"
   },
   {
    "duration": 455,
    "start_time": "2022-03-22T10:49:42.331Z"
   },
   {
    "duration": 5,
    "start_time": "2022-03-22T10:49:42.788Z"
   },
   {
    "duration": 315,
    "start_time": "2022-03-22T10:49:42.802Z"
   },
   {
    "duration": 5,
    "start_time": "2022-03-22T10:49:43.119Z"
   },
   {
    "duration": 5,
    "start_time": "2022-03-22T11:55:15.656Z"
   },
   {
    "duration": 440,
    "start_time": "2022-03-22T11:58:35.234Z"
   },
   {
    "duration": 229,
    "start_time": "2022-03-22T11:58:41.947Z"
   },
   {
    "duration": 429,
    "start_time": "2022-03-22T11:58:49.435Z"
   },
   {
    "duration": 476,
    "start_time": "2022-03-22T11:58:59.195Z"
   },
   {
    "duration": 350,
    "start_time": "2022-03-22T11:59:05.342Z"
   },
   {
    "duration": 3,
    "start_time": "2022-03-22T11:59:38.815Z"
   },
   {
    "duration": 3,
    "start_time": "2022-03-22T12:02:36.805Z"
   },
   {
    "duration": 3,
    "start_time": "2022-03-22T12:02:45.746Z"
   },
   {
    "duration": 3,
    "start_time": "2022-03-22T12:02:50.230Z"
   },
   {
    "duration": 8,
    "start_time": "2022-03-22T12:03:38.537Z"
   },
   {
    "duration": 7,
    "start_time": "2022-03-22T12:04:34.865Z"
   },
   {
    "duration": 14,
    "start_time": "2022-03-22T12:05:43.905Z"
   },
   {
    "duration": 2050,
    "start_time": "2022-03-22T12:06:19.961Z"
   },
   {
    "duration": 1950,
    "start_time": "2022-03-22T12:07:03.236Z"
   },
   {
    "duration": 2137,
    "start_time": "2022-03-22T12:07:22.777Z"
   },
   {
    "duration": 2183,
    "start_time": "2022-03-22T12:07:47.530Z"
   },
   {
    "duration": 2191,
    "start_time": "2022-03-22T12:08:08.463Z"
   },
   {
    "duration": 2702,
    "start_time": "2022-03-22T12:08:14.275Z"
   },
   {
    "duration": 13,
    "start_time": "2022-03-22T12:10:03.438Z"
   },
   {
    "duration": 167,
    "start_time": "2022-03-22T12:10:29.965Z"
   },
   {
    "duration": 416,
    "start_time": "2022-03-22T12:11:04.295Z"
   },
   {
    "duration": 649,
    "start_time": "2022-03-22T12:13:05.799Z"
   },
   {
    "duration": 378,
    "start_time": "2022-03-22T12:14:17.894Z"
   },
   {
    "duration": 5,
    "start_time": "2022-03-22T12:15:29.370Z"
   },
   {
    "duration": 10,
    "start_time": "2022-03-22T12:16:24.806Z"
   },
   {
    "duration": 5,
    "start_time": "2022-03-22T12:16:54.023Z"
   },
   {
    "duration": 5,
    "start_time": "2022-03-22T12:17:59.926Z"
   },
   {
    "duration": 397,
    "start_time": "2022-03-22T12:18:39.166Z"
   },
   {
    "duration": 671,
    "start_time": "2022-03-22T12:18:48.307Z"
   },
   {
    "duration": 388,
    "start_time": "2022-03-22T12:18:58.572Z"
   },
   {
    "duration": 348,
    "start_time": "2022-03-22T12:19:52.310Z"
   },
   {
    "duration": 344,
    "start_time": "2022-03-22T12:20:03.052Z"
   },
   {
    "duration": 491,
    "start_time": "2022-03-22T12:20:14.062Z"
   },
   {
    "duration": 11,
    "start_time": "2022-03-23T08:33:00.009Z"
   },
   {
    "duration": 5,
    "start_time": "2022-03-23T08:33:13.478Z"
   },
   {
    "duration": 43,
    "start_time": "2022-03-23T08:33:23.959Z"
   },
   {
    "duration": 7,
    "start_time": "2022-03-23T08:34:12.775Z"
   },
   {
    "duration": 6,
    "start_time": "2022-03-23T08:34:21.254Z"
   },
   {
    "duration": 7,
    "start_time": "2022-03-23T08:34:48.566Z"
   },
   {
    "duration": 6,
    "start_time": "2022-03-23T08:35:15.879Z"
   },
   {
    "duration": 7,
    "start_time": "2022-03-23T08:36:09.770Z"
   },
   {
    "duration": 1639,
    "start_time": "2022-03-23T08:37:38.080Z"
   },
   {
    "duration": 281,
    "start_time": "2022-03-23T08:37:39.721Z"
   },
   {
    "duration": 19,
    "start_time": "2022-03-23T08:37:40.004Z"
   },
   {
    "duration": 240,
    "start_time": "2022-03-23T08:37:40.038Z"
   },
   {
    "duration": 95,
    "start_time": "2022-03-23T08:37:40.280Z"
   },
   {
    "duration": 13,
    "start_time": "2022-03-23T08:37:40.376Z"
   },
   {
    "duration": 139,
    "start_time": "2022-03-23T08:37:40.391Z"
   },
   {
    "duration": 358,
    "start_time": "2022-03-23T08:37:40.532Z"
   },
   {
    "duration": 21,
    "start_time": "2022-03-23T08:37:40.892Z"
   },
   {
    "duration": 273,
    "start_time": "2022-03-23T08:37:40.916Z"
   },
   {
    "duration": 3,
    "start_time": "2022-03-23T08:37:41.191Z"
   },
   {
    "duration": 14,
    "start_time": "2022-03-23T08:37:41.196Z"
   },
   {
    "duration": 10,
    "start_time": "2022-03-23T08:37:41.212Z"
   },
   {
    "duration": 19,
    "start_time": "2022-03-23T08:37:41.223Z"
   },
   {
    "duration": 8,
    "start_time": "2022-03-23T08:37:41.243Z"
   },
   {
    "duration": 59,
    "start_time": "2022-03-23T08:37:41.253Z"
   },
   {
    "duration": 38,
    "start_time": "2022-03-23T08:37:41.314Z"
   },
   {
    "duration": 21,
    "start_time": "2022-03-23T08:37:41.354Z"
   },
   {
    "duration": 24,
    "start_time": "2022-03-23T08:37:41.377Z"
   },
   {
    "duration": 5,
    "start_time": "2022-03-23T08:37:41.402Z"
   },
   {
    "duration": 2382,
    "start_time": "2022-03-23T08:37:41.408Z"
   },
   {
    "duration": 2131,
    "start_time": "2022-03-23T08:37:43.792Z"
   },
   {
    "duration": 1771,
    "start_time": "2022-03-23T08:37:45.925Z"
   },
   {
    "duration": 390,
    "start_time": "2022-03-23T08:37:47.698Z"
   },
   {
    "duration": 6,
    "start_time": "2022-03-23T08:37:48.089Z"
   },
   {
    "duration": 514,
    "start_time": "2022-03-23T08:37:48.097Z"
   },
   {
    "duration": 6,
    "start_time": "2022-03-23T08:37:48.613Z"
   },
   {
    "duration": 20,
    "start_time": "2022-03-23T08:37:48.623Z"
   },
   {
    "duration": 15,
    "start_time": "2022-03-23T08:37:48.644Z"
   },
   {
    "duration": 28,
    "start_time": "2022-03-23T08:37:48.661Z"
   },
   {
    "duration": 492,
    "start_time": "2022-03-23T08:37:48.690Z"
   },
   {
    "duration": 5,
    "start_time": "2022-03-23T08:37:49.184Z"
   },
   {
    "duration": 20,
    "start_time": "2022-03-23T08:37:49.190Z"
   },
   {
    "duration": 25,
    "start_time": "2022-03-23T08:37:49.212Z"
   },
   {
    "duration": 85,
    "start_time": "2022-03-23T08:37:49.239Z"
   },
   {
    "duration": 0,
    "start_time": "2022-03-23T08:37:49.326Z"
   },
   {
    "duration": 0,
    "start_time": "2022-03-23T08:37:49.327Z"
   },
   {
    "duration": 0,
    "start_time": "2022-03-23T08:37:49.329Z"
   },
   {
    "duration": 3,
    "start_time": "2022-03-23T08:41:39.380Z"
   },
   {
    "duration": 272,
    "start_time": "2022-03-23T08:41:39.385Z"
   },
   {
    "duration": 17,
    "start_time": "2022-03-23T08:41:39.658Z"
   },
   {
    "duration": 229,
    "start_time": "2022-03-23T08:41:39.676Z"
   },
   {
    "duration": 82,
    "start_time": "2022-03-23T08:41:39.906Z"
   },
   {
    "duration": 12,
    "start_time": "2022-03-23T08:41:39.990Z"
   },
   {
    "duration": 139,
    "start_time": "2022-03-23T08:41:40.004Z"
   },
   {
    "duration": 332,
    "start_time": "2022-03-23T08:41:40.145Z"
   },
   {
    "duration": 16,
    "start_time": "2022-03-23T08:41:40.480Z"
   },
   {
    "duration": 244,
    "start_time": "2022-03-23T08:41:40.498Z"
   },
   {
    "duration": 3,
    "start_time": "2022-03-23T08:41:40.744Z"
   },
   {
    "duration": 21,
    "start_time": "2022-03-23T08:41:40.749Z"
   },
   {
    "duration": 29,
    "start_time": "2022-03-23T08:41:40.771Z"
   },
   {
    "duration": 9,
    "start_time": "2022-03-23T08:41:40.801Z"
   },
   {
    "duration": 17,
    "start_time": "2022-03-23T08:41:40.811Z"
   },
   {
    "duration": 22,
    "start_time": "2022-03-23T08:41:40.830Z"
   },
   {
    "duration": 14,
    "start_time": "2022-03-23T08:41:40.854Z"
   },
   {
    "duration": 20,
    "start_time": "2022-03-23T08:41:40.870Z"
   },
   {
    "duration": 19,
    "start_time": "2022-03-23T08:41:40.891Z"
   },
   {
    "duration": 26,
    "start_time": "2022-03-23T08:41:40.912Z"
   },
   {
    "duration": 2188,
    "start_time": "2022-03-23T08:41:40.940Z"
   },
   {
    "duration": 1788,
    "start_time": "2022-03-23T08:41:43.130Z"
   },
   {
    "duration": 1996,
    "start_time": "2022-03-23T08:41:44.920Z"
   },
   {
    "duration": 387,
    "start_time": "2022-03-23T08:41:46.919Z"
   },
   {
    "duration": 5,
    "start_time": "2022-03-23T08:41:47.307Z"
   },
   {
    "duration": 373,
    "start_time": "2022-03-23T08:41:47.314Z"
   },
   {
    "duration": 5,
    "start_time": "2022-03-23T08:41:47.688Z"
   },
   {
    "duration": 7,
    "start_time": "2022-03-23T08:41:47.695Z"
   },
   {
    "duration": 19,
    "start_time": "2022-03-23T08:41:47.704Z"
   },
   {
    "duration": 9,
    "start_time": "2022-03-23T08:41:47.725Z"
   },
   {
    "duration": 587,
    "start_time": "2022-03-23T08:41:47.735Z"
   },
   {
    "duration": 5,
    "start_time": "2022-03-23T08:41:48.324Z"
   },
   {
    "duration": 23,
    "start_time": "2022-03-23T08:41:48.330Z"
   },
   {
    "duration": 24,
    "start_time": "2022-03-23T08:41:48.355Z"
   },
   {
    "duration": 0,
    "start_time": "2022-03-23T08:41:48.380Z"
   },
   {
    "duration": 0,
    "start_time": "2022-03-23T08:41:48.382Z"
   },
   {
    "duration": 0,
    "start_time": "2022-03-23T08:41:48.383Z"
   },
   {
    "duration": 2012,
    "start_time": "2022-03-23T08:42:09.690Z"
   },
   {
    "duration": 10,
    "start_time": "2022-03-23T08:42:44.913Z"
   },
   {
    "duration": 13,
    "start_time": "2022-03-23T08:43:22.773Z"
   },
   {
    "duration": 3,
    "start_time": "2022-03-23T08:43:51.014Z"
   },
   {
    "duration": 13,
    "start_time": "2022-03-23T08:43:52.949Z"
   },
   {
    "duration": 14,
    "start_time": "2022-03-23T08:43:58.505Z"
   },
   {
    "duration": 4,
    "start_time": "2022-03-23T08:44:03.193Z"
   },
   {
    "duration": 309,
    "start_time": "2022-03-23T08:44:03.199Z"
   },
   {
    "duration": 17,
    "start_time": "2022-03-23T08:44:03.510Z"
   },
   {
    "duration": 219,
    "start_time": "2022-03-23T08:44:03.538Z"
   },
   {
    "duration": 86,
    "start_time": "2022-03-23T08:44:03.759Z"
   },
   {
    "duration": 13,
    "start_time": "2022-03-23T08:44:03.847Z"
   },
   {
    "duration": 137,
    "start_time": "2022-03-23T08:44:03.862Z"
   },
   {
    "duration": 345,
    "start_time": "2022-03-23T08:44:04.001Z"
   },
   {
    "duration": 18,
    "start_time": "2022-03-23T08:44:04.349Z"
   },
   {
    "duration": 246,
    "start_time": "2022-03-23T08:44:04.369Z"
   },
   {
    "duration": 2,
    "start_time": "2022-03-23T08:44:04.617Z"
   },
   {
    "duration": 33,
    "start_time": "2022-03-23T08:44:04.621Z"
   },
   {
    "duration": 25,
    "start_time": "2022-03-23T08:44:04.656Z"
   },
   {
    "duration": 34,
    "start_time": "2022-03-23T08:44:04.683Z"
   },
   {
    "duration": 26,
    "start_time": "2022-03-23T08:44:04.719Z"
   },
   {
    "duration": 47,
    "start_time": "2022-03-23T08:44:04.746Z"
   },
   {
    "duration": 23,
    "start_time": "2022-03-23T08:44:04.795Z"
   },
   {
    "duration": 36,
    "start_time": "2022-03-23T08:44:04.819Z"
   },
   {
    "duration": 32,
    "start_time": "2022-03-23T08:44:04.857Z"
   },
   {
    "duration": 5,
    "start_time": "2022-03-23T08:44:04.890Z"
   },
   {
    "duration": 2281,
    "start_time": "2022-03-23T08:44:04.897Z"
   },
   {
    "duration": 1855,
    "start_time": "2022-03-23T08:44:07.180Z"
   },
   {
    "duration": 1976,
    "start_time": "2022-03-23T08:44:09.037Z"
   },
   {
    "duration": 398,
    "start_time": "2022-03-23T08:44:11.016Z"
   },
   {
    "duration": 5,
    "start_time": "2022-03-23T08:44:11.415Z"
   },
   {
    "duration": 397,
    "start_time": "2022-03-23T08:44:11.421Z"
   },
   {
    "duration": 18,
    "start_time": "2022-03-23T08:44:11.820Z"
   },
   {
    "duration": 11,
    "start_time": "2022-03-23T08:44:11.840Z"
   },
   {
    "duration": 14,
    "start_time": "2022-03-23T08:44:11.853Z"
   },
   {
    "duration": 22,
    "start_time": "2022-03-23T08:44:11.869Z"
   },
   {
    "duration": 640,
    "start_time": "2022-03-23T08:44:11.892Z"
   },
   {
    "duration": 5,
    "start_time": "2022-03-23T08:44:12.536Z"
   },
   {
    "duration": 28,
    "start_time": "2022-03-23T08:44:12.543Z"
   },
   {
    "duration": 32,
    "start_time": "2022-03-23T08:44:12.573Z"
   },
   {
    "duration": 0,
    "start_time": "2022-03-23T08:44:12.608Z"
   },
   {
    "duration": 0,
    "start_time": "2022-03-23T08:44:12.609Z"
   },
   {
    "duration": 0,
    "start_time": "2022-03-23T08:44:12.611Z"
   },
   {
    "duration": 15,
    "start_time": "2022-03-23T08:44:56.075Z"
   },
   {
    "duration": 3,
    "start_time": "2022-03-23T08:45:20.043Z"
   },
   {
    "duration": 297,
    "start_time": "2022-03-23T08:45:20.049Z"
   },
   {
    "duration": 17,
    "start_time": "2022-03-23T08:45:20.348Z"
   },
   {
    "duration": 232,
    "start_time": "2022-03-23T08:45:20.367Z"
   },
   {
    "duration": 85,
    "start_time": "2022-03-23T08:45:20.601Z"
   },
   {
    "duration": 13,
    "start_time": "2022-03-23T08:45:20.688Z"
   },
   {
    "duration": 131,
    "start_time": "2022-03-23T08:45:20.702Z"
   },
   {
    "duration": 330,
    "start_time": "2022-03-23T08:45:20.836Z"
   },
   {
    "duration": 17,
    "start_time": "2022-03-23T08:45:21.169Z"
   },
   {
    "duration": 253,
    "start_time": "2022-03-23T08:45:21.188Z"
   },
   {
    "duration": 3,
    "start_time": "2022-03-23T08:45:21.442Z"
   },
   {
    "duration": 8,
    "start_time": "2022-03-23T08:45:21.446Z"
   },
   {
    "duration": 15,
    "start_time": "2022-03-23T08:45:21.456Z"
   },
   {
    "duration": 4,
    "start_time": "2022-03-23T08:45:21.473Z"
   },
   {
    "duration": 5,
    "start_time": "2022-03-23T08:45:21.479Z"
   },
   {
    "duration": 31,
    "start_time": "2022-03-23T08:45:21.486Z"
   },
   {
    "duration": 33,
    "start_time": "2022-03-23T08:45:21.519Z"
   },
   {
    "duration": 23,
    "start_time": "2022-03-23T08:45:21.554Z"
   },
   {
    "duration": 21,
    "start_time": "2022-03-23T08:45:21.579Z"
   },
   {
    "duration": 36,
    "start_time": "2022-03-23T08:45:21.602Z"
   },
   {
    "duration": 2110,
    "start_time": "2022-03-23T08:45:21.640Z"
   },
   {
    "duration": 1896,
    "start_time": "2022-03-23T08:45:23.752Z"
   },
   {
    "duration": 1891,
    "start_time": "2022-03-23T08:45:25.651Z"
   },
   {
    "duration": 415,
    "start_time": "2022-03-23T08:45:27.547Z"
   },
   {
    "duration": 6,
    "start_time": "2022-03-23T08:45:27.965Z"
   },
   {
    "duration": 401,
    "start_time": "2022-03-23T08:45:27.973Z"
   },
   {
    "duration": 6,
    "start_time": "2022-03-23T08:45:28.376Z"
   },
   {
    "duration": 7,
    "start_time": "2022-03-23T08:45:28.383Z"
   },
   {
    "duration": 6,
    "start_time": "2022-03-23T08:45:28.392Z"
   },
   {
    "duration": 5,
    "start_time": "2022-03-23T08:45:28.399Z"
   },
   {
    "duration": 516,
    "start_time": "2022-03-23T08:45:28.406Z"
   },
   {
    "duration": 5,
    "start_time": "2022-03-23T08:45:28.924Z"
   },
   {
    "duration": 27,
    "start_time": "2022-03-23T08:45:28.937Z"
   },
   {
    "duration": 19,
    "start_time": "2022-03-23T08:45:28.966Z"
   },
   {
    "duration": 0,
    "start_time": "2022-03-23T08:45:28.987Z"
   },
   {
    "duration": 0,
    "start_time": "2022-03-23T08:45:28.990Z"
   },
   {
    "duration": 0,
    "start_time": "2022-03-23T08:45:28.991Z"
   },
   {
    "duration": 5,
    "start_time": "2022-03-23T08:45:54.652Z"
   },
   {
    "duration": 263,
    "start_time": "2022-03-23T08:45:54.659Z"
   },
   {
    "duration": 22,
    "start_time": "2022-03-23T08:45:54.924Z"
   },
   {
    "duration": 217,
    "start_time": "2022-03-23T08:45:54.948Z"
   },
   {
    "duration": 87,
    "start_time": "2022-03-23T08:45:55.167Z"
   },
   {
    "duration": 12,
    "start_time": "2022-03-23T08:45:55.256Z"
   },
   {
    "duration": 135,
    "start_time": "2022-03-23T08:45:55.270Z"
   },
   {
    "duration": 338,
    "start_time": "2022-03-23T08:45:55.407Z"
   },
   {
    "duration": 19,
    "start_time": "2022-03-23T08:45:55.747Z"
   },
   {
    "duration": 375,
    "start_time": "2022-03-23T08:45:55.768Z"
   },
   {
    "duration": 3,
    "start_time": "2022-03-23T08:45:56.145Z"
   },
   {
    "duration": 10,
    "start_time": "2022-03-23T08:45:56.149Z"
   },
   {
    "duration": 8,
    "start_time": "2022-03-23T08:45:56.160Z"
   },
   {
    "duration": 5,
    "start_time": "2022-03-23T08:45:56.171Z"
   },
   {
    "duration": 5,
    "start_time": "2022-03-23T08:45:56.178Z"
   },
   {
    "duration": 22,
    "start_time": "2022-03-23T08:45:56.185Z"
   },
   {
    "duration": 44,
    "start_time": "2022-03-23T08:45:56.208Z"
   },
   {
    "duration": 21,
    "start_time": "2022-03-23T08:45:56.253Z"
   },
   {
    "duration": 21,
    "start_time": "2022-03-23T08:45:56.275Z"
   },
   {
    "duration": 4,
    "start_time": "2022-03-23T08:45:56.298Z"
   },
   {
    "duration": 2147,
    "start_time": "2022-03-23T08:45:56.304Z"
   },
   {
    "duration": 1876,
    "start_time": "2022-03-23T08:45:58.453Z"
   },
   {
    "duration": 1809,
    "start_time": "2022-03-23T08:46:00.331Z"
   },
   {
    "duration": 540,
    "start_time": "2022-03-23T08:46:02.142Z"
   },
   {
    "duration": 5,
    "start_time": "2022-03-23T08:46:02.683Z"
   },
   {
    "duration": 383,
    "start_time": "2022-03-23T08:46:02.690Z"
   },
   {
    "duration": 5,
    "start_time": "2022-03-23T08:46:03.074Z"
   },
   {
    "duration": 19,
    "start_time": "2022-03-23T08:46:03.081Z"
   },
   {
    "duration": 14,
    "start_time": "2022-03-23T08:46:03.102Z"
   },
   {
    "duration": 30,
    "start_time": "2022-03-23T08:46:03.118Z"
   },
   {
    "duration": 531,
    "start_time": "2022-03-23T08:46:03.149Z"
   },
   {
    "duration": 5,
    "start_time": "2022-03-23T08:46:03.681Z"
   },
   {
    "duration": 31,
    "start_time": "2022-03-23T08:46:03.688Z"
   },
   {
    "duration": 39,
    "start_time": "2022-03-23T08:46:03.721Z"
   },
   {
    "duration": 0,
    "start_time": "2022-03-23T08:46:03.763Z"
   },
   {
    "duration": 0,
    "start_time": "2022-03-23T08:46:03.764Z"
   },
   {
    "duration": 0,
    "start_time": "2022-03-23T08:46:03.765Z"
   },
   {
    "duration": 19,
    "start_time": "2022-03-23T08:50:14.478Z"
   },
   {
    "duration": 8,
    "start_time": "2022-03-23T08:51:17.137Z"
   },
   {
    "duration": 10,
    "start_time": "2022-03-23T08:51:21.376Z"
   },
   {
    "duration": 11,
    "start_time": "2022-03-23T08:51:34.162Z"
   },
   {
    "duration": 5,
    "start_time": "2022-03-23T08:54:57.322Z"
   },
   {
    "duration": 11,
    "start_time": "2022-03-23T08:54:58.354Z"
   },
   {
    "duration": 2,
    "start_time": "2022-03-23T08:55:14.578Z"
   },
   {
    "duration": 13,
    "start_time": "2022-03-23T08:55:16.041Z"
   },
   {
    "duration": 9,
    "start_time": "2022-03-23T08:55:17.908Z"
   },
   {
    "duration": 13,
    "start_time": "2022-03-23T08:55:27.338Z"
   },
   {
    "duration": 4,
    "start_time": "2022-03-23T08:56:03.723Z"
   },
   {
    "duration": 284,
    "start_time": "2022-03-23T08:56:03.729Z"
   },
   {
    "duration": 22,
    "start_time": "2022-03-23T08:56:04.015Z"
   },
   {
    "duration": 223,
    "start_time": "2022-03-23T08:56:04.039Z"
   },
   {
    "duration": 81,
    "start_time": "2022-03-23T08:56:04.264Z"
   },
   {
    "duration": 12,
    "start_time": "2022-03-23T08:56:04.347Z"
   },
   {
    "duration": 136,
    "start_time": "2022-03-23T08:56:04.361Z"
   },
   {
    "duration": 341,
    "start_time": "2022-03-23T08:56:04.499Z"
   },
   {
    "duration": 17,
    "start_time": "2022-03-23T08:56:04.842Z"
   },
   {
    "duration": 254,
    "start_time": "2022-03-23T08:56:04.862Z"
   },
   {
    "duration": 3,
    "start_time": "2022-03-23T08:56:05.118Z"
   },
   {
    "duration": 27,
    "start_time": "2022-03-23T08:56:05.123Z"
   },
   {
    "duration": 25,
    "start_time": "2022-03-23T08:56:05.154Z"
   },
   {
    "duration": 21,
    "start_time": "2022-03-23T08:56:05.181Z"
   },
   {
    "duration": 29,
    "start_time": "2022-03-23T08:56:05.204Z"
   },
   {
    "duration": 46,
    "start_time": "2022-03-23T08:56:05.235Z"
   },
   {
    "duration": 18,
    "start_time": "2022-03-23T08:56:05.283Z"
   },
   {
    "duration": 28,
    "start_time": "2022-03-23T08:56:05.304Z"
   },
   {
    "duration": 27,
    "start_time": "2022-03-23T08:56:05.334Z"
   },
   {
    "duration": 6,
    "start_time": "2022-03-23T08:56:05.363Z"
   },
   {
    "duration": 2335,
    "start_time": "2022-03-23T08:56:05.371Z"
   },
   {
    "duration": 1962,
    "start_time": "2022-03-23T08:56:07.709Z"
   },
   {
    "duration": 1853,
    "start_time": "2022-03-23T08:56:09.673Z"
   },
   {
    "duration": 398,
    "start_time": "2022-03-23T08:56:11.528Z"
   },
   {
    "duration": 10,
    "start_time": "2022-03-23T08:56:11.928Z"
   },
   {
    "duration": 530,
    "start_time": "2022-03-23T08:56:11.939Z"
   },
   {
    "duration": 4,
    "start_time": "2022-03-23T08:56:12.471Z"
   },
   {
    "duration": 9,
    "start_time": "2022-03-23T08:56:12.477Z"
   },
   {
    "duration": 5,
    "start_time": "2022-03-23T08:56:12.488Z"
   },
   {
    "duration": 8,
    "start_time": "2022-03-23T08:56:12.495Z"
   },
   {
    "duration": 506,
    "start_time": "2022-03-23T08:56:12.505Z"
   },
   {
    "duration": 4,
    "start_time": "2022-03-23T08:56:13.013Z"
   },
   {
    "duration": 19,
    "start_time": "2022-03-23T08:56:13.019Z"
   },
   {
    "duration": 21,
    "start_time": "2022-03-23T08:56:13.039Z"
   },
   {
    "duration": 0,
    "start_time": "2022-03-23T08:56:13.062Z"
   },
   {
    "duration": 0,
    "start_time": "2022-03-23T08:56:13.063Z"
   },
   {
    "duration": 0,
    "start_time": "2022-03-23T08:56:13.064Z"
   },
   {
    "duration": 0,
    "start_time": "2022-03-23T08:56:13.065Z"
   },
   {
    "duration": 5,
    "start_time": "2022-03-23T09:12:52.141Z"
   },
   {
    "duration": 19,
    "start_time": "2022-03-23T09:13:07.866Z"
   },
   {
    "duration": 14,
    "start_time": "2022-03-23T09:14:17.389Z"
   },
   {
    "duration": 12,
    "start_time": "2022-03-23T09:14:22.761Z"
   },
   {
    "duration": 3,
    "start_time": "2022-03-23T09:14:26.752Z"
   },
   {
    "duration": 268,
    "start_time": "2022-03-23T09:14:26.758Z"
   },
   {
    "duration": 26,
    "start_time": "2022-03-23T09:14:27.027Z"
   },
   {
    "duration": 225,
    "start_time": "2022-03-23T09:14:27.055Z"
   },
   {
    "duration": 86,
    "start_time": "2022-03-23T09:14:27.283Z"
   },
   {
    "duration": 13,
    "start_time": "2022-03-23T09:14:27.372Z"
   },
   {
    "duration": 138,
    "start_time": "2022-03-23T09:14:27.387Z"
   },
   {
    "duration": 341,
    "start_time": "2022-03-23T09:14:27.527Z"
   },
   {
    "duration": 19,
    "start_time": "2022-03-23T09:14:27.870Z"
   },
   {
    "duration": 255,
    "start_time": "2022-03-23T09:14:27.891Z"
   },
   {
    "duration": 3,
    "start_time": "2022-03-23T09:14:28.147Z"
   },
   {
    "duration": 13,
    "start_time": "2022-03-23T09:14:28.151Z"
   },
   {
    "duration": 13,
    "start_time": "2022-03-23T09:14:28.166Z"
   },
   {
    "duration": 5,
    "start_time": "2022-03-23T09:14:28.181Z"
   },
   {
    "duration": 7,
    "start_time": "2022-03-23T09:14:28.188Z"
   },
   {
    "duration": 44,
    "start_time": "2022-03-23T09:14:28.197Z"
   },
   {
    "duration": 17,
    "start_time": "2022-03-23T09:14:28.243Z"
   },
   {
    "duration": 24,
    "start_time": "2022-03-23T09:14:28.262Z"
   },
   {
    "duration": 50,
    "start_time": "2022-03-23T09:14:28.288Z"
   },
   {
    "duration": 7,
    "start_time": "2022-03-23T09:14:28.340Z"
   },
   {
    "duration": 2259,
    "start_time": "2022-03-23T09:14:28.349Z"
   },
   {
    "duration": 1838,
    "start_time": "2022-03-23T09:14:30.609Z"
   },
   {
    "duration": 1959,
    "start_time": "2022-03-23T09:14:32.449Z"
   },
   {
    "duration": 382,
    "start_time": "2022-03-23T09:14:34.410Z"
   },
   {
    "duration": 5,
    "start_time": "2022-03-23T09:14:34.793Z"
   },
   {
    "duration": 412,
    "start_time": "2022-03-23T09:14:34.799Z"
   },
   {
    "duration": 5,
    "start_time": "2022-03-23T09:14:35.213Z"
   },
   {
    "duration": 18,
    "start_time": "2022-03-23T09:14:35.221Z"
   },
   {
    "duration": 34,
    "start_time": "2022-03-23T09:14:35.241Z"
   },
   {
    "duration": 29,
    "start_time": "2022-03-23T09:14:35.277Z"
   },
   {
    "duration": 660,
    "start_time": "2022-03-23T09:14:35.308Z"
   },
   {
    "duration": 5,
    "start_time": "2022-03-23T09:14:35.970Z"
   },
   {
    "duration": 35,
    "start_time": "2022-03-23T09:14:35.976Z"
   },
   {
    "duration": 23,
    "start_time": "2022-03-23T09:18:58.309Z"
   },
   {
    "duration": 4,
    "start_time": "2022-03-23T09:19:20.462Z"
   },
   {
    "duration": 264,
    "start_time": "2022-03-23T09:19:20.467Z"
   },
   {
    "duration": 16,
    "start_time": "2022-03-23T09:19:20.737Z"
   },
   {
    "duration": 217,
    "start_time": "2022-03-23T09:19:20.755Z"
   },
   {
    "duration": 86,
    "start_time": "2022-03-23T09:19:20.974Z"
   },
   {
    "duration": 12,
    "start_time": "2022-03-23T09:19:21.062Z"
   },
   {
    "duration": 132,
    "start_time": "2022-03-23T09:19:21.076Z"
   },
   {
    "duration": 338,
    "start_time": "2022-03-23T09:19:21.210Z"
   },
   {
    "duration": 17,
    "start_time": "2022-03-23T09:19:21.549Z"
   },
   {
    "duration": 248,
    "start_time": "2022-03-23T09:19:21.568Z"
   },
   {
    "duration": 3,
    "start_time": "2022-03-23T09:19:21.819Z"
   },
   {
    "duration": 16,
    "start_time": "2022-03-23T09:19:21.824Z"
   },
   {
    "duration": 8,
    "start_time": "2022-03-23T09:19:21.842Z"
   },
   {
    "duration": 6,
    "start_time": "2022-03-23T09:19:21.852Z"
   },
   {
    "duration": 8,
    "start_time": "2022-03-23T09:19:21.859Z"
   },
   {
    "duration": 26,
    "start_time": "2022-03-23T09:19:21.868Z"
   },
   {
    "duration": 50,
    "start_time": "2022-03-23T09:19:21.895Z"
   },
   {
    "duration": 22,
    "start_time": "2022-03-23T09:19:21.946Z"
   },
   {
    "duration": 15,
    "start_time": "2022-03-23T09:19:21.970Z"
   },
   {
    "duration": 0,
    "start_time": "2022-03-23T09:19:21.987Z"
   },
   {
    "duration": 0,
    "start_time": "2022-03-23T09:19:21.988Z"
   },
   {
    "duration": 0,
    "start_time": "2022-03-23T09:19:21.989Z"
   },
   {
    "duration": 0,
    "start_time": "2022-03-23T09:19:21.990Z"
   },
   {
    "duration": 0,
    "start_time": "2022-03-23T09:19:21.991Z"
   },
   {
    "duration": 0,
    "start_time": "2022-03-23T09:19:21.992Z"
   },
   {
    "duration": 0,
    "start_time": "2022-03-23T09:19:21.993Z"
   },
   {
    "duration": 0,
    "start_time": "2022-03-23T09:19:21.993Z"
   },
   {
    "duration": 0,
    "start_time": "2022-03-23T09:19:21.994Z"
   },
   {
    "duration": 0,
    "start_time": "2022-03-23T09:19:21.996Z"
   },
   {
    "duration": 0,
    "start_time": "2022-03-23T09:19:21.997Z"
   },
   {
    "duration": 0,
    "start_time": "2022-03-23T09:19:21.998Z"
   },
   {
    "duration": 1,
    "start_time": "2022-03-23T09:19:21.998Z"
   },
   {
    "duration": 0,
    "start_time": "2022-03-23T09:19:21.999Z"
   },
   {
    "duration": 0,
    "start_time": "2022-03-23T09:19:22.000Z"
   },
   {
    "duration": 9,
    "start_time": "2022-03-23T09:28:36.788Z"
   },
   {
    "duration": 10,
    "start_time": "2022-03-23T09:28:43.156Z"
   },
   {
    "duration": 8,
    "start_time": "2022-03-23T09:28:51.913Z"
   },
   {
    "duration": 4,
    "start_time": "2022-03-23T09:28:57.805Z"
   },
   {
    "duration": 269,
    "start_time": "2022-03-23T09:28:57.812Z"
   },
   {
    "duration": 17,
    "start_time": "2022-03-23T09:28:58.083Z"
   },
   {
    "duration": 230,
    "start_time": "2022-03-23T09:28:58.102Z"
   },
   {
    "duration": 81,
    "start_time": "2022-03-23T09:28:58.337Z"
   },
   {
    "duration": 25,
    "start_time": "2022-03-23T09:28:58.420Z"
   },
   {
    "duration": 123,
    "start_time": "2022-03-23T09:28:58.447Z"
   },
   {
    "duration": 348,
    "start_time": "2022-03-23T09:28:58.572Z"
   },
   {
    "duration": 21,
    "start_time": "2022-03-23T09:28:58.922Z"
   },
   {
    "duration": 248,
    "start_time": "2022-03-23T09:28:58.945Z"
   },
   {
    "duration": 3,
    "start_time": "2022-03-23T09:28:59.194Z"
   },
   {
    "duration": 9,
    "start_time": "2022-03-23T09:28:59.199Z"
   },
   {
    "duration": 8,
    "start_time": "2022-03-23T09:28:59.210Z"
   },
   {
    "duration": 20,
    "start_time": "2022-03-23T09:28:59.221Z"
   },
   {
    "duration": 10,
    "start_time": "2022-03-23T09:28:59.242Z"
   },
   {
    "duration": 23,
    "start_time": "2022-03-23T09:28:59.253Z"
   },
   {
    "duration": 15,
    "start_time": "2022-03-23T09:28:59.277Z"
   },
   {
    "duration": 20,
    "start_time": "2022-03-23T09:28:59.293Z"
   },
   {
    "duration": 15,
    "start_time": "2022-03-23T09:28:59.340Z"
   },
   {
    "duration": 31,
    "start_time": "2022-03-23T09:28:59.357Z"
   },
   {
    "duration": 4,
    "start_time": "2022-03-23T09:28:59.390Z"
   },
   {
    "duration": 2308,
    "start_time": "2022-03-23T09:28:59.396Z"
   },
   {
    "duration": 1832,
    "start_time": "2022-03-23T09:29:01.706Z"
   },
   {
    "duration": 2009,
    "start_time": "2022-03-23T09:29:03.540Z"
   },
   {
    "duration": 422,
    "start_time": "2022-03-23T09:29:05.551Z"
   },
   {
    "duration": 5,
    "start_time": "2022-03-23T09:29:05.976Z"
   },
   {
    "duration": 405,
    "start_time": "2022-03-23T09:29:05.983Z"
   },
   {
    "duration": 4,
    "start_time": "2022-03-23T09:29:06.390Z"
   },
   {
    "duration": 22,
    "start_time": "2022-03-23T09:29:06.396Z"
   },
   {
    "duration": 18,
    "start_time": "2022-03-23T09:29:06.420Z"
   },
   {
    "duration": 19,
    "start_time": "2022-03-23T09:29:06.439Z"
   },
   {
    "duration": 621,
    "start_time": "2022-03-23T09:29:06.459Z"
   },
   {
    "duration": 5,
    "start_time": "2022-03-23T09:29:07.082Z"
   },
   {
    "duration": 25,
    "start_time": "2022-03-23T09:29:07.089Z"
   },
   {
    "duration": 18,
    "start_time": "2022-03-23T09:34:12.009Z"
   },
   {
    "duration": 17,
    "start_time": "2022-03-23T09:37:32.765Z"
   },
   {
    "duration": 9,
    "start_time": "2022-03-23T09:37:57.149Z"
   },
   {
    "duration": 6,
    "start_time": "2022-03-23T11:22:36.295Z"
   },
   {
    "duration": 10,
    "start_time": "2022-03-23T11:22:40.456Z"
   },
   {
    "duration": 14,
    "start_time": "2022-03-23T11:22:42.037Z"
   },
   {
    "duration": 4,
    "start_time": "2022-03-23T11:24:05.281Z"
   },
   {
    "duration": 273,
    "start_time": "2022-03-23T11:24:05.287Z"
   },
   {
    "duration": 18,
    "start_time": "2022-03-23T11:24:05.562Z"
   },
   {
    "duration": 235,
    "start_time": "2022-03-23T11:24:05.582Z"
   },
   {
    "duration": 89,
    "start_time": "2022-03-23T11:24:05.820Z"
   },
   {
    "duration": 31,
    "start_time": "2022-03-23T11:24:05.912Z"
   },
   {
    "duration": 136,
    "start_time": "2022-03-23T11:24:05.945Z"
   },
   {
    "duration": 352,
    "start_time": "2022-03-23T11:24:06.083Z"
   },
   {
    "duration": 18,
    "start_time": "2022-03-23T11:24:06.437Z"
   },
   {
    "duration": 264,
    "start_time": "2022-03-23T11:24:06.456Z"
   },
   {
    "duration": 3,
    "start_time": "2022-03-23T11:24:06.723Z"
   },
   {
    "duration": 18,
    "start_time": "2022-03-23T11:24:06.728Z"
   },
   {
    "duration": 12,
    "start_time": "2022-03-23T11:24:06.748Z"
   },
   {
    "duration": 4,
    "start_time": "2022-03-23T11:24:06.762Z"
   },
   {
    "duration": 18,
    "start_time": "2022-03-23T11:24:06.768Z"
   },
   {
    "duration": 26,
    "start_time": "2022-03-23T11:24:06.788Z"
   },
   {
    "duration": 25,
    "start_time": "2022-03-23T11:24:06.815Z"
   },
   {
    "duration": 22,
    "start_time": "2022-03-23T11:24:06.842Z"
   },
   {
    "duration": 7,
    "start_time": "2022-03-23T11:24:06.865Z"
   },
   {
    "duration": 26,
    "start_time": "2022-03-23T11:24:06.874Z"
   },
   {
    "duration": 6,
    "start_time": "2022-03-23T11:24:06.901Z"
   },
   {
    "duration": 2287,
    "start_time": "2022-03-23T11:24:06.908Z"
   },
   {
    "duration": 1842,
    "start_time": "2022-03-23T11:24:09.197Z"
   },
   {
    "duration": 1879,
    "start_time": "2022-03-23T11:24:11.041Z"
   },
   {
    "duration": 415,
    "start_time": "2022-03-23T11:24:12.921Z"
   },
   {
    "duration": 5,
    "start_time": "2022-03-23T11:24:13.338Z"
   },
   {
    "duration": 415,
    "start_time": "2022-03-23T11:24:13.345Z"
   },
   {
    "duration": 5,
    "start_time": "2022-03-23T11:24:13.762Z"
   },
   {
    "duration": 12,
    "start_time": "2022-03-23T11:24:13.770Z"
   },
   {
    "duration": 7,
    "start_time": "2022-03-23T11:24:13.783Z"
   },
   {
    "duration": 18,
    "start_time": "2022-03-23T11:24:13.792Z"
   },
   {
    "duration": 610,
    "start_time": "2022-03-23T11:24:13.812Z"
   },
   {
    "duration": 13,
    "start_time": "2022-03-23T11:24:14.424Z"
   },
   {
    "duration": 9,
    "start_time": "2022-03-23T11:24:14.439Z"
   },
   {
    "duration": 27,
    "start_time": "2022-03-23T11:24:14.449Z"
   },
   {
    "duration": 17,
    "start_time": "2022-03-23T11:24:14.477Z"
   },
   {
    "duration": 2,
    "start_time": "2022-03-23T11:26:05.743Z"
   },
   {
    "duration": 54,
    "start_time": "2022-03-23T11:26:07.382Z"
   },
   {
    "duration": 118,
    "start_time": "2022-03-23T11:27:02.540Z"
   },
   {
    "duration": 61,
    "start_time": "2022-03-23T11:27:13.709Z"
   },
   {
    "duration": 54,
    "start_time": "2022-03-23T11:29:23.560Z"
   },
   {
    "duration": 196,
    "start_time": "2022-03-23T11:29:26.646Z"
   },
   {
    "duration": 55,
    "start_time": "2022-03-23T11:29:43.886Z"
   },
   {
    "duration": 59,
    "start_time": "2022-03-23T11:30:11.772Z"
   },
   {
    "duration": 10,
    "start_time": "2022-03-23T11:37:11.956Z"
   },
   {
    "duration": 11,
    "start_time": "2022-03-23T11:37:15.250Z"
   },
   {
    "duration": 3,
    "start_time": "2022-03-23T11:37:43.959Z"
   },
   {
    "duration": 4,
    "start_time": "2022-03-23T11:38:57.823Z"
   },
   {
    "duration": 14,
    "start_time": "2022-03-23T11:40:24.960Z"
   },
   {
    "duration": 11,
    "start_time": "2022-03-23T11:49:01.281Z"
   },
   {
    "duration": 11,
    "start_time": "2022-03-23T11:49:36.336Z"
   },
   {
    "duration": 57,
    "start_time": "2022-03-23T11:50:22.333Z"
   },
   {
    "duration": 5,
    "start_time": "2022-03-23T11:50:30.525Z"
   },
   {
    "duration": 8,
    "start_time": "2022-03-23T11:57:11.575Z"
   },
   {
    "duration": 3,
    "start_time": "2022-03-23T11:57:13.665Z"
   },
   {
    "duration": 3,
    "start_time": "2022-03-23T11:57:26.692Z"
   },
   {
    "duration": 3,
    "start_time": "2022-03-23T11:57:28.552Z"
   },
   {
    "duration": 3,
    "start_time": "2022-03-23T11:57:38.513Z"
   },
   {
    "duration": 10,
    "start_time": "2022-03-23T11:57:40.166Z"
   },
   {
    "duration": 8,
    "start_time": "2022-03-23T12:01:25.945Z"
   },
   {
    "duration": 3,
    "start_time": "2022-03-23T12:01:26.463Z"
   },
   {
    "duration": 2,
    "start_time": "2022-03-23T12:01:26.962Z"
   },
   {
    "duration": 12,
    "start_time": "2022-03-23T12:01:27.446Z"
   },
   {
    "duration": 10,
    "start_time": "2022-03-23T12:01:34.575Z"
   },
   {
    "duration": 12,
    "start_time": "2022-03-23T12:05:31.830Z"
   },
   {
    "duration": 28,
    "start_time": "2022-03-23T12:05:58.404Z"
   },
   {
    "duration": 284,
    "start_time": "2022-03-23T12:05:58.434Z"
   },
   {
    "duration": 31,
    "start_time": "2022-03-23T12:05:58.720Z"
   },
   {
    "duration": 242,
    "start_time": "2022-03-23T12:05:58.753Z"
   },
   {
    "duration": 89,
    "start_time": "2022-03-23T12:05:58.996Z"
   },
   {
    "duration": 12,
    "start_time": "2022-03-23T12:05:59.087Z"
   },
   {
    "duration": 144,
    "start_time": "2022-03-23T12:05:59.101Z"
   },
   {
    "duration": 373,
    "start_time": "2022-03-23T12:05:59.248Z"
   },
   {
    "duration": 30,
    "start_time": "2022-03-23T12:05:59.623Z"
   },
   {
    "duration": 263,
    "start_time": "2022-03-23T12:05:59.656Z"
   },
   {
    "duration": 3,
    "start_time": "2022-03-23T12:05:59.921Z"
   },
   {
    "duration": 8,
    "start_time": "2022-03-23T12:05:59.937Z"
   },
   {
    "duration": 13,
    "start_time": "2022-03-23T12:05:59.947Z"
   },
   {
    "duration": 6,
    "start_time": "2022-03-23T12:05:59.961Z"
   },
   {
    "duration": 8,
    "start_time": "2022-03-23T12:05:59.969Z"
   },
   {
    "duration": 24,
    "start_time": "2022-03-23T12:05:59.978Z"
   },
   {
    "duration": 53,
    "start_time": "2022-03-23T12:06:00.005Z"
   },
   {
    "duration": 35,
    "start_time": "2022-03-23T12:06:00.061Z"
   },
   {
    "duration": 9,
    "start_time": "2022-03-23T12:06:00.099Z"
   },
   {
    "duration": 49,
    "start_time": "2022-03-23T12:06:00.110Z"
   },
   {
    "duration": 7,
    "start_time": "2022-03-23T12:06:00.161Z"
   },
   {
    "duration": 2342,
    "start_time": "2022-03-23T12:06:00.169Z"
   },
   {
    "duration": 1815,
    "start_time": "2022-03-23T12:06:02.514Z"
   },
   {
    "duration": 1959,
    "start_time": "2022-03-23T12:06:04.331Z"
   },
   {
    "duration": 393,
    "start_time": "2022-03-23T12:06:06.292Z"
   },
   {
    "duration": 5,
    "start_time": "2022-03-23T12:06:06.687Z"
   },
   {
    "duration": 387,
    "start_time": "2022-03-23T12:06:06.693Z"
   },
   {
    "duration": 5,
    "start_time": "2022-03-23T12:06:07.084Z"
   },
   {
    "duration": 7,
    "start_time": "2022-03-23T12:06:07.091Z"
   },
   {
    "duration": 10,
    "start_time": "2022-03-23T12:06:07.099Z"
   },
   {
    "duration": 6,
    "start_time": "2022-03-23T12:06:07.111Z"
   },
   {
    "duration": 489,
    "start_time": "2022-03-23T12:06:07.119Z"
   },
   {
    "duration": 7,
    "start_time": "2022-03-23T12:06:07.610Z"
   },
   {
    "duration": 20,
    "start_time": "2022-03-23T12:06:07.619Z"
   },
   {
    "duration": 3,
    "start_time": "2022-03-23T12:06:07.640Z"
   },
   {
    "duration": 5,
    "start_time": "2022-03-23T12:06:07.645Z"
   },
   {
    "duration": 11,
    "start_time": "2022-03-23T12:06:07.651Z"
   },
   {
    "duration": 6048,
    "start_time": "2022-03-23T12:06:07.663Z"
   },
   {
    "duration": 16882,
    "start_time": "2022-03-23T12:09:47.447Z"
   },
   {
    "duration": 4,
    "start_time": "2022-03-23T12:13:24.501Z"
   },
   {
    "duration": 4,
    "start_time": "2022-03-23T12:13:42.841Z"
   },
   {
    "duration": 3,
    "start_time": "2022-03-23T12:13:55.209Z"
   },
   {
    "duration": 13,
    "start_time": "2022-03-23T12:14:21.563Z"
   },
   {
    "duration": 9,
    "start_time": "2022-03-23T12:14:44.291Z"
   },
   {
    "duration": 9,
    "start_time": "2022-03-23T12:14:54.561Z"
   },
   {
    "duration": 5,
    "start_time": "2022-03-23T12:15:57.171Z"
   },
   {
    "duration": 3,
    "start_time": "2022-03-23T12:16:07.452Z"
   },
   {
    "duration": 19,
    "start_time": "2022-03-23T12:16:27.344Z"
   },
   {
    "duration": 3,
    "start_time": "2022-03-23T12:16:56.881Z"
   },
   {
    "duration": 49,
    "start_time": "2022-03-23T12:16:59.019Z"
   },
   {
    "duration": 29,
    "start_time": "2022-03-23T12:18:57.234Z"
   },
   {
    "duration": 11,
    "start_time": "2022-03-23T12:19:25.118Z"
   },
   {
    "duration": 13,
    "start_time": "2022-03-23T12:19:28.838Z"
   },
   {
    "duration": 3,
    "start_time": "2022-03-23T12:20:05.511Z"
   },
   {
    "duration": 290,
    "start_time": "2022-03-23T12:20:05.518Z"
   },
   {
    "duration": 30,
    "start_time": "2022-03-23T12:20:05.811Z"
   },
   {
    "duration": 242,
    "start_time": "2022-03-23T12:20:05.843Z"
   },
   {
    "duration": 84,
    "start_time": "2022-03-23T12:20:06.088Z"
   },
   {
    "duration": 13,
    "start_time": "2022-03-23T12:20:06.174Z"
   },
   {
    "duration": 136,
    "start_time": "2022-03-23T12:20:06.188Z"
   },
   {
    "duration": 340,
    "start_time": "2022-03-23T12:20:06.326Z"
   },
   {
    "duration": 17,
    "start_time": "2022-03-23T12:20:06.668Z"
   },
   {
    "duration": 250,
    "start_time": "2022-03-23T12:20:06.687Z"
   },
   {
    "duration": 2,
    "start_time": "2022-03-23T12:20:06.940Z"
   },
   {
    "duration": 14,
    "start_time": "2022-03-23T12:20:06.944Z"
   },
   {
    "duration": 16,
    "start_time": "2022-03-23T12:20:06.960Z"
   },
   {
    "duration": 11,
    "start_time": "2022-03-23T12:20:06.978Z"
   },
   {
    "duration": 22,
    "start_time": "2022-03-23T12:20:06.990Z"
   },
   {
    "duration": 32,
    "start_time": "2022-03-23T12:20:07.014Z"
   },
   {
    "duration": 20,
    "start_time": "2022-03-23T12:20:07.048Z"
   },
   {
    "duration": 27,
    "start_time": "2022-03-23T12:20:07.070Z"
   },
   {
    "duration": 7,
    "start_time": "2022-03-23T12:20:07.099Z"
   },
   {
    "duration": 32,
    "start_time": "2022-03-23T12:20:07.107Z"
   },
   {
    "duration": 9,
    "start_time": "2022-03-23T12:20:07.141Z"
   },
   {
    "duration": 26,
    "start_time": "2022-03-23T12:20:07.152Z"
   },
   {
    "duration": 6,
    "start_time": "2022-03-23T12:20:07.179Z"
   },
   {
    "duration": 2188,
    "start_time": "2022-03-23T12:20:07.187Z"
   },
   {
    "duration": 1980,
    "start_time": "2022-03-23T12:20:09.377Z"
   },
   {
    "duration": 1912,
    "start_time": "2022-03-23T12:20:11.359Z"
   },
   {
    "duration": 419,
    "start_time": "2022-03-23T12:20:13.274Z"
   },
   {
    "duration": 6,
    "start_time": "2022-03-23T12:20:13.694Z"
   },
   {
    "duration": 412,
    "start_time": "2022-03-23T12:20:13.703Z"
   },
   {
    "duration": 5,
    "start_time": "2022-03-23T12:20:14.117Z"
   },
   {
    "duration": 15,
    "start_time": "2022-03-23T12:20:14.124Z"
   },
   {
    "duration": 5,
    "start_time": "2022-03-23T12:20:14.141Z"
   },
   {
    "duration": 13,
    "start_time": "2022-03-23T12:20:14.148Z"
   },
   {
    "duration": 495,
    "start_time": "2022-03-23T12:20:14.162Z"
   },
   {
    "duration": 5,
    "start_time": "2022-03-23T12:20:14.659Z"
   },
   {
    "duration": 20,
    "start_time": "2022-03-23T12:20:14.666Z"
   },
   {
    "duration": 23,
    "start_time": "2022-03-23T12:20:14.687Z"
   },
   {
    "duration": 14,
    "start_time": "2022-03-23T12:20:14.712Z"
   },
   {
    "duration": 13,
    "start_time": "2022-03-23T12:20:14.728Z"
   },
   {
    "duration": 77,
    "start_time": "2022-03-23T12:20:14.743Z"
   },
   {
    "duration": 6,
    "start_time": "2022-03-23T12:35:02.230Z"
   },
   {
    "duration": 5,
    "start_time": "2022-03-23T12:35:27.660Z"
   },
   {
    "duration": 287,
    "start_time": "2022-03-23T12:35:27.668Z"
   },
   {
    "duration": 19,
    "start_time": "2022-03-23T12:35:27.957Z"
   },
   {
    "duration": 253,
    "start_time": "2022-03-23T12:35:27.978Z"
   },
   {
    "duration": 92,
    "start_time": "2022-03-23T12:35:28.238Z"
   },
   {
    "duration": 19,
    "start_time": "2022-03-23T12:35:28.332Z"
   },
   {
    "duration": 150,
    "start_time": "2022-03-23T12:35:28.353Z"
   },
   {
    "duration": 355,
    "start_time": "2022-03-23T12:35:28.505Z"
   },
   {
    "duration": 21,
    "start_time": "2022-03-23T12:35:28.862Z"
   },
   {
    "duration": 438,
    "start_time": "2022-03-23T12:35:28.885Z"
   },
   {
    "duration": 3,
    "start_time": "2022-03-23T12:35:29.326Z"
   },
   {
    "duration": 11,
    "start_time": "2022-03-23T12:35:29.340Z"
   },
   {
    "duration": 18,
    "start_time": "2022-03-23T12:35:29.353Z"
   },
   {
    "duration": 6,
    "start_time": "2022-03-23T12:35:29.373Z"
   },
   {
    "duration": 12,
    "start_time": "2022-03-23T12:35:29.380Z"
   },
   {
    "duration": 27,
    "start_time": "2022-03-23T12:35:29.394Z"
   },
   {
    "duration": 27,
    "start_time": "2022-03-23T12:35:29.423Z"
   },
   {
    "duration": 23,
    "start_time": "2022-03-23T12:35:29.451Z"
   },
   {
    "duration": 7,
    "start_time": "2022-03-23T12:35:29.476Z"
   },
   {
    "duration": 14,
    "start_time": "2022-03-23T12:35:29.485Z"
   },
   {
    "duration": 38,
    "start_time": "2022-03-23T12:35:29.501Z"
   },
   {
    "duration": 21,
    "start_time": "2022-03-23T12:35:29.541Z"
   },
   {
    "duration": 4,
    "start_time": "2022-03-23T12:35:29.564Z"
   },
   {
    "duration": 2355,
    "start_time": "2022-03-23T12:35:29.570Z"
   },
   {
    "duration": 2043,
    "start_time": "2022-03-23T12:35:31.927Z"
   },
   {
    "duration": 1883,
    "start_time": "2022-03-23T12:35:33.973Z"
   },
   {
    "duration": 578,
    "start_time": "2022-03-23T12:35:35.858Z"
   },
   {
    "duration": 5,
    "start_time": "2022-03-23T12:35:36.438Z"
   },
   {
    "duration": 408,
    "start_time": "2022-03-23T12:35:36.446Z"
   },
   {
    "duration": 5,
    "start_time": "2022-03-23T12:35:36.856Z"
   },
   {
    "duration": 30,
    "start_time": "2022-03-23T12:35:36.863Z"
   },
   {
    "duration": 17,
    "start_time": "2022-03-23T12:35:36.895Z"
   },
   {
    "duration": 29,
    "start_time": "2022-03-23T12:35:36.913Z"
   },
   {
    "duration": 526,
    "start_time": "2022-03-23T12:35:36.944Z"
   },
   {
    "duration": 6,
    "start_time": "2022-03-23T12:35:37.472Z"
   },
   {
    "duration": 13,
    "start_time": "2022-03-23T12:35:37.480Z"
   },
   {
    "duration": 7,
    "start_time": "2022-03-23T12:35:37.495Z"
   },
   {
    "duration": 11,
    "start_time": "2022-03-23T12:35:37.504Z"
   },
   {
    "duration": 21,
    "start_time": "2022-03-23T12:35:37.518Z"
   },
   {
    "duration": 5,
    "start_time": "2022-03-23T12:35:37.541Z"
   },
   {
    "duration": 93,
    "start_time": "2022-03-23T12:35:37.548Z"
   },
   {
    "duration": 53,
    "start_time": "2022-03-23T12:40:49.585Z"
   },
   {
    "duration": 2101,
    "start_time": "2022-03-23T12:41:11.692Z"
   },
   {
    "duration": 2,
    "start_time": "2022-03-23T12:41:28.284Z"
   },
   {
    "duration": 22,
    "start_time": "2022-03-23T12:41:29.045Z"
   },
   {
    "duration": 2224,
    "start_time": "2022-03-23T12:41:30.176Z"
   },
   {
    "duration": 2164,
    "start_time": "2022-03-23T12:41:57.585Z"
   },
   {
    "duration": 4,
    "start_time": "2022-03-23T12:44:53.050Z"
   },
   {
    "duration": 270,
    "start_time": "2022-03-23T12:44:53.056Z"
   },
   {
    "duration": 22,
    "start_time": "2022-03-23T12:44:53.328Z"
   },
   {
    "duration": 227,
    "start_time": "2022-03-23T12:44:53.352Z"
   },
   {
    "duration": 82,
    "start_time": "2022-03-23T12:44:53.580Z"
   },
   {
    "duration": 14,
    "start_time": "2022-03-23T12:44:53.663Z"
   },
   {
    "duration": 147,
    "start_time": "2022-03-23T12:44:53.678Z"
   },
   {
    "duration": 333,
    "start_time": "2022-03-23T12:44:53.827Z"
   },
   {
    "duration": 18,
    "start_time": "2022-03-23T12:44:54.163Z"
   },
   {
    "duration": 259,
    "start_time": "2022-03-23T12:44:54.183Z"
   },
   {
    "duration": 3,
    "start_time": "2022-03-23T12:44:54.443Z"
   },
   {
    "duration": 14,
    "start_time": "2022-03-23T12:44:54.448Z"
   },
   {
    "duration": 16,
    "start_time": "2022-03-23T12:44:54.464Z"
   },
   {
    "duration": 7,
    "start_time": "2022-03-23T12:44:54.482Z"
   },
   {
    "duration": 6,
    "start_time": "2022-03-23T12:44:54.491Z"
   },
   {
    "duration": 59,
    "start_time": "2022-03-23T12:44:54.499Z"
   },
   {
    "duration": 16,
    "start_time": "2022-03-23T12:44:54.561Z"
   },
   {
    "duration": 22,
    "start_time": "2022-03-23T12:44:54.579Z"
   },
   {
    "duration": 37,
    "start_time": "2022-03-23T12:44:54.603Z"
   },
   {
    "duration": 13,
    "start_time": "2022-03-23T12:44:54.642Z"
   },
   {
    "duration": 9,
    "start_time": "2022-03-23T12:44:54.656Z"
   },
   {
    "duration": 20,
    "start_time": "2022-03-23T12:44:54.667Z"
   },
   {
    "duration": 5,
    "start_time": "2022-03-23T12:44:54.689Z"
   },
   {
    "duration": 2265,
    "start_time": "2022-03-23T12:44:54.695Z"
   },
   {
    "duration": 2117,
    "start_time": "2022-03-23T12:44:56.962Z"
   },
   {
    "duration": 1955,
    "start_time": "2022-03-23T12:44:59.081Z"
   },
   {
    "duration": 431,
    "start_time": "2022-03-23T12:45:01.040Z"
   },
   {
    "duration": 5,
    "start_time": "2022-03-23T12:45:01.474Z"
   },
   {
    "duration": 598,
    "start_time": "2022-03-23T12:45:01.481Z"
   },
   {
    "duration": 5,
    "start_time": "2022-03-23T12:45:02.081Z"
   },
   {
    "duration": 39,
    "start_time": "2022-03-23T12:45:02.088Z"
   },
   {
    "duration": 80,
    "start_time": "2022-03-23T12:45:02.129Z"
   },
   {
    "duration": 99,
    "start_time": "2022-03-23T12:45:02.211Z"
   },
   {
    "duration": 565,
    "start_time": "2022-03-23T12:45:02.312Z"
   },
   {
    "duration": 6,
    "start_time": "2022-03-23T12:45:02.880Z"
   },
   {
    "duration": 91,
    "start_time": "2022-03-23T12:45:02.888Z"
   },
   {
    "duration": 38,
    "start_time": "2022-03-23T12:45:02.981Z"
   },
   {
    "duration": 17,
    "start_time": "2022-03-23T12:45:03.021Z"
   },
   {
    "duration": 20,
    "start_time": "2022-03-23T12:45:03.040Z"
   },
   {
    "duration": 42,
    "start_time": "2022-03-23T12:45:03.062Z"
   },
   {
    "duration": 110,
    "start_time": "2022-03-23T12:45:03.106Z"
   },
   {
    "duration": 2389,
    "start_time": "2022-03-23T12:45:03.241Z"
   },
   {
    "duration": 153852,
    "start_time": "2022-03-23T12:45:05.632Z"
   },
   {
    "duration": 1783,
    "start_time": "2022-03-24T08:28:06.726Z"
   },
   {
    "duration": 351,
    "start_time": "2022-03-24T08:28:08.511Z"
   },
   {
    "duration": 19,
    "start_time": "2022-03-24T08:28:08.863Z"
   },
   {
    "duration": 261,
    "start_time": "2022-03-24T08:28:08.884Z"
   },
   {
    "duration": 99,
    "start_time": "2022-03-24T08:28:09.147Z"
   },
   {
    "duration": 13,
    "start_time": "2022-03-24T08:28:09.248Z"
   },
   {
    "duration": 154,
    "start_time": "2022-03-24T08:28:09.263Z"
   },
   {
    "duration": 425,
    "start_time": "2022-03-24T08:28:09.420Z"
   },
   {
    "duration": 20,
    "start_time": "2022-03-24T08:28:09.847Z"
   },
   {
    "duration": 285,
    "start_time": "2022-03-24T08:28:09.870Z"
   },
   {
    "duration": 2,
    "start_time": "2022-03-24T08:28:10.157Z"
   },
   {
    "duration": 15,
    "start_time": "2022-03-24T08:28:10.161Z"
   },
   {
    "duration": 10,
    "start_time": "2022-03-24T08:28:10.178Z"
   },
   {
    "duration": 6,
    "start_time": "2022-03-24T08:28:10.189Z"
   },
   {
    "duration": 10,
    "start_time": "2022-03-24T08:28:10.196Z"
   },
   {
    "duration": 83,
    "start_time": "2022-03-24T08:28:10.208Z"
   },
   {
    "duration": 17,
    "start_time": "2022-03-24T08:28:10.293Z"
   },
   {
    "duration": 40,
    "start_time": "2022-03-24T08:28:10.311Z"
   },
   {
    "duration": 7,
    "start_time": "2022-03-24T08:28:10.353Z"
   },
   {
    "duration": 18,
    "start_time": "2022-03-24T08:28:10.362Z"
   },
   {
    "duration": 9,
    "start_time": "2022-03-24T08:28:10.382Z"
   },
   {
    "duration": 54,
    "start_time": "2022-03-24T08:28:10.393Z"
   },
   {
    "duration": 5,
    "start_time": "2022-03-24T08:28:10.448Z"
   },
   {
    "duration": 2453,
    "start_time": "2022-03-24T08:28:10.455Z"
   },
   {
    "duration": 2009,
    "start_time": "2022-03-24T08:28:12.910Z"
   },
   {
    "duration": 1885,
    "start_time": "2022-03-24T08:28:14.921Z"
   },
   {
    "duration": 461,
    "start_time": "2022-03-24T08:28:16.808Z"
   },
   {
    "duration": 5,
    "start_time": "2022-03-24T08:28:17.273Z"
   },
   {
    "duration": 588,
    "start_time": "2022-03-24T08:28:17.280Z"
   },
   {
    "duration": 5,
    "start_time": "2022-03-24T08:28:17.870Z"
   },
   {
    "duration": 9,
    "start_time": "2022-03-24T08:28:17.877Z"
   },
   {
    "duration": 12,
    "start_time": "2022-03-24T08:28:17.888Z"
   },
   {
    "duration": 11,
    "start_time": "2022-03-24T08:28:17.901Z"
   },
   {
    "duration": 576,
    "start_time": "2022-03-24T08:28:17.914Z"
   },
   {
    "duration": 6,
    "start_time": "2022-03-24T08:28:18.491Z"
   },
   {
    "duration": 13,
    "start_time": "2022-03-24T08:28:18.499Z"
   },
   {
    "duration": 8,
    "start_time": "2022-03-24T08:28:18.514Z"
   },
   {
    "duration": 9,
    "start_time": "2022-03-24T08:28:18.532Z"
   },
   {
    "duration": 10,
    "start_time": "2022-03-24T08:28:18.543Z"
   },
   {
    "duration": 7,
    "start_time": "2022-03-24T08:28:18.554Z"
   },
   {
    "duration": 73,
    "start_time": "2022-03-24T08:28:18.563Z"
   },
   {
    "duration": 2261,
    "start_time": "2022-03-24T08:28:18.639Z"
   },
   {
    "duration": 182336,
    "start_time": "2022-03-24T08:28:20.902Z"
   },
   {
    "duration": 2033,
    "start_time": "2022-03-24T08:31:51.593Z"
   },
   {
    "duration": 4,
    "start_time": "2022-03-24T08:39:33.304Z"
   },
   {
    "duration": 4,
    "start_time": "2022-03-24T08:39:42.040Z"
   },
   {
    "duration": 117,
    "start_time": "2022-03-24T08:40:12.647Z"
   },
   {
    "duration": 2,
    "start_time": "2022-03-24T08:40:22.472Z"
   },
   {
    "duration": 71,
    "start_time": "2022-03-24T10:04:31.993Z"
   },
   {
    "duration": 2214,
    "start_time": "2022-03-24T10:04:35.707Z"
   },
   {
    "duration": 338,
    "start_time": "2022-03-24T10:04:37.924Z"
   },
   {
    "duration": 26,
    "start_time": "2022-03-24T10:04:38.268Z"
   },
   {
    "duration": 329,
    "start_time": "2022-03-24T10:04:38.297Z"
   },
   {
    "duration": 118,
    "start_time": "2022-03-24T10:04:38.628Z"
   },
   {
    "duration": 30,
    "start_time": "2022-03-24T10:04:38.749Z"
   },
   {
    "duration": 192,
    "start_time": "2022-03-24T10:04:38.781Z"
   },
   {
    "duration": 440,
    "start_time": "2022-03-24T10:04:38.976Z"
   },
   {
    "duration": 26,
    "start_time": "2022-03-24T10:04:39.418Z"
   },
   {
    "duration": 362,
    "start_time": "2022-03-24T10:04:39.448Z"
   },
   {
    "duration": 4,
    "start_time": "2022-03-24T10:04:39.813Z"
   },
   {
    "duration": 13,
    "start_time": "2022-03-24T10:04:39.820Z"
   },
   {
    "duration": 35,
    "start_time": "2022-03-24T10:04:39.835Z"
   },
   {
    "duration": 8,
    "start_time": "2022-03-24T10:04:39.873Z"
   },
   {
    "duration": 7,
    "start_time": "2022-03-24T10:04:39.884Z"
   },
   {
    "duration": 126,
    "start_time": "2022-03-24T10:04:39.893Z"
   },
   {
    "duration": 45,
    "start_time": "2022-03-24T10:04:40.022Z"
   },
   {
    "duration": 34,
    "start_time": "2022-03-24T10:04:40.070Z"
   },
   {
    "duration": 9,
    "start_time": "2022-03-24T10:04:40.106Z"
   },
   {
    "duration": 56,
    "start_time": "2022-03-24T10:04:40.117Z"
   },
   {
    "duration": 15,
    "start_time": "2022-03-24T10:04:40.176Z"
   },
   {
    "duration": 26,
    "start_time": "2022-03-24T10:04:40.193Z"
   },
   {
    "duration": 8,
    "start_time": "2022-03-24T10:04:40.222Z"
   },
   {
    "duration": 3184,
    "start_time": "2022-03-24T10:04:40.268Z"
   },
   {
    "duration": 2614,
    "start_time": "2022-03-24T10:04:43.454Z"
   },
   {
    "duration": 2403,
    "start_time": "2022-03-24T10:04:46.070Z"
   },
   {
    "duration": 697,
    "start_time": "2022-03-24T10:04:48.475Z"
   },
   {
    "duration": 7,
    "start_time": "2022-03-24T10:04:49.177Z"
   },
   {
    "duration": 781,
    "start_time": "2022-03-24T10:04:49.186Z"
   },
   {
    "duration": 7,
    "start_time": "2022-03-24T10:04:49.969Z"
   },
   {
    "duration": 7,
    "start_time": "2022-03-24T10:04:49.978Z"
   },
   {
    "duration": 9,
    "start_time": "2022-03-24T10:04:49.987Z"
   },
   {
    "duration": 12,
    "start_time": "2022-03-24T10:04:49.999Z"
   },
   {
    "duration": 832,
    "start_time": "2022-03-24T10:04:50.013Z"
   },
   {
    "duration": 7,
    "start_time": "2022-03-24T10:04:50.847Z"
   },
   {
    "duration": 128,
    "start_time": "2022-03-24T10:04:50.869Z"
   },
   {
    "duration": 0,
    "start_time": "2022-03-24T10:04:50.999Z"
   },
   {
    "duration": 0,
    "start_time": "2022-03-24T10:04:51.001Z"
   },
   {
    "duration": 0,
    "start_time": "2022-03-24T10:04:51.003Z"
   },
   {
    "duration": 0,
    "start_time": "2022-03-24T10:04:51.004Z"
   },
   {
    "duration": 0,
    "start_time": "2022-03-24T10:04:51.006Z"
   },
   {
    "duration": 0,
    "start_time": "2022-03-24T10:04:51.008Z"
   },
   {
    "duration": 0,
    "start_time": "2022-03-24T10:04:51.009Z"
   },
   {
    "duration": 7,
    "start_time": "2022-03-24T10:12:22.348Z"
   },
   {
    "duration": 348,
    "start_time": "2022-03-24T10:12:22.358Z"
   },
   {
    "duration": 27,
    "start_time": "2022-03-24T10:12:22.709Z"
   },
   {
    "duration": 336,
    "start_time": "2022-03-24T10:12:22.740Z"
   },
   {
    "duration": 122,
    "start_time": "2022-03-24T10:12:23.079Z"
   },
   {
    "duration": 24,
    "start_time": "2022-03-24T10:12:23.203Z"
   },
   {
    "duration": 205,
    "start_time": "2022-03-24T10:12:23.230Z"
   },
   {
    "duration": 435,
    "start_time": "2022-03-24T10:12:23.438Z"
   },
   {
    "duration": 25,
    "start_time": "2022-03-24T10:12:23.876Z"
   },
   {
    "duration": 357,
    "start_time": "2022-03-24T10:12:23.905Z"
   },
   {
    "duration": 4,
    "start_time": "2022-03-24T10:12:24.267Z"
   },
   {
    "duration": 10,
    "start_time": "2022-03-24T10:12:24.273Z"
   },
   {
    "duration": 12,
    "start_time": "2022-03-24T10:12:24.285Z"
   },
   {
    "duration": 6,
    "start_time": "2022-03-24T10:12:24.300Z"
   },
   {
    "duration": 8,
    "start_time": "2022-03-24T10:12:24.309Z"
   },
   {
    "duration": 74,
    "start_time": "2022-03-24T10:12:24.319Z"
   },
   {
    "duration": 37,
    "start_time": "2022-03-24T10:12:24.395Z"
   },
   {
    "duration": 72,
    "start_time": "2022-03-24T10:12:24.435Z"
   },
   {
    "duration": 12,
    "start_time": "2022-03-24T10:12:24.510Z"
   },
   {
    "duration": 47,
    "start_time": "2022-03-24T10:12:24.525Z"
   },
   {
    "duration": 13,
    "start_time": "2022-03-24T10:12:24.574Z"
   },
   {
    "duration": 22,
    "start_time": "2022-03-24T10:12:24.589Z"
   },
   {
    "duration": 7,
    "start_time": "2022-03-24T10:12:24.613Z"
   },
   {
    "duration": 3052,
    "start_time": "2022-03-24T10:12:24.622Z"
   },
   {
    "duration": 2522,
    "start_time": "2022-03-24T10:12:27.676Z"
   },
   {
    "duration": 2661,
    "start_time": "2022-03-24T10:12:30.201Z"
   },
   {
    "duration": 671,
    "start_time": "2022-03-24T10:12:32.867Z"
   },
   {
    "duration": 8,
    "start_time": "2022-03-24T10:12:33.543Z"
   },
   {
    "duration": 626,
    "start_time": "2022-03-24T10:12:33.568Z"
   },
   {
    "duration": 6,
    "start_time": "2022-03-24T10:12:34.197Z"
   },
   {
    "duration": 15,
    "start_time": "2022-03-24T10:12:34.206Z"
   },
   {
    "duration": 13,
    "start_time": "2022-03-24T10:12:34.224Z"
   },
   {
    "duration": 26,
    "start_time": "2022-03-24T10:12:34.240Z"
   },
   {
    "duration": 894,
    "start_time": "2022-03-24T10:12:34.268Z"
   },
   {
    "duration": 6,
    "start_time": "2022-03-24T10:12:35.168Z"
   },
   {
    "duration": 12,
    "start_time": "2022-03-24T10:12:35.177Z"
   },
   {
    "duration": 7,
    "start_time": "2022-03-24T10:12:35.192Z"
   },
   {
    "duration": 18,
    "start_time": "2022-03-24T10:12:35.201Z"
   },
   {
    "duration": 10,
    "start_time": "2022-03-24T10:12:35.221Z"
   },
   {
    "duration": 6,
    "start_time": "2022-03-24T10:12:35.233Z"
   },
   {
    "duration": 102,
    "start_time": "2022-03-24T10:12:35.268Z"
   },
   {
    "duration": 1970,
    "start_time": "2022-03-24T10:12:35.373Z"
   },
   {
    "duration": 183155,
    "start_time": "2022-03-24T10:12:37.346Z"
   },
   {
    "duration": 2229,
    "start_time": "2022-03-25T08:54:15.590Z"
   },
   {
    "duration": 341,
    "start_time": "2022-03-25T08:54:17.821Z"
   },
   {
    "duration": 38,
    "start_time": "2022-03-25T08:54:18.164Z"
   },
   {
    "duration": 338,
    "start_time": "2022-03-25T08:54:18.205Z"
   },
   {
    "duration": 137,
    "start_time": "2022-03-25T08:54:18.545Z"
   },
   {
    "duration": 19,
    "start_time": "2022-03-25T08:54:18.684Z"
   },
   {
    "duration": 201,
    "start_time": "2022-03-25T08:54:18.705Z"
   },
   {
    "duration": 443,
    "start_time": "2022-03-25T08:54:18.908Z"
   },
   {
    "duration": 42,
    "start_time": "2022-03-25T08:54:19.354Z"
   },
   {
    "duration": 334,
    "start_time": "2022-03-25T08:54:19.400Z"
   },
   {
    "duration": 3,
    "start_time": "2022-03-25T08:54:19.736Z"
   },
   {
    "duration": 27,
    "start_time": "2022-03-25T08:54:19.741Z"
   },
   {
    "duration": 18,
    "start_time": "2022-03-25T08:54:19.770Z"
   },
   {
    "duration": 22,
    "start_time": "2022-03-25T08:54:19.790Z"
   },
   {
    "duration": 8,
    "start_time": "2022-03-25T08:54:19.815Z"
   },
   {
    "duration": 110,
    "start_time": "2022-03-25T08:54:19.825Z"
   },
   {
    "duration": 23,
    "start_time": "2022-03-25T08:54:19.937Z"
   },
   {
    "duration": 63,
    "start_time": "2022-03-25T08:54:19.962Z"
   },
   {
    "duration": 11,
    "start_time": "2022-03-25T08:54:20.027Z"
   },
   {
    "duration": 25,
    "start_time": "2022-03-25T08:54:20.040Z"
   },
   {
    "duration": 26,
    "start_time": "2022-03-25T08:54:20.068Z"
   },
   {
    "duration": 25,
    "start_time": "2022-03-25T08:54:20.096Z"
   },
   {
    "duration": 7,
    "start_time": "2022-03-25T08:54:20.123Z"
   },
   {
    "duration": 3405,
    "start_time": "2022-03-25T08:54:20.132Z"
   },
   {
    "duration": 2666,
    "start_time": "2022-03-25T08:54:23.539Z"
   },
   {
    "duration": 2861,
    "start_time": "2022-03-25T08:54:26.207Z"
   },
   {
    "duration": 671,
    "start_time": "2022-03-25T08:54:29.071Z"
   },
   {
    "duration": 7,
    "start_time": "2022-03-25T08:54:29.746Z"
   },
   {
    "duration": 789,
    "start_time": "2022-03-25T08:54:29.754Z"
   },
   {
    "duration": 7,
    "start_time": "2022-03-25T08:54:30.545Z"
   },
   {
    "duration": 28,
    "start_time": "2022-03-25T08:54:30.554Z"
   },
   {
    "duration": 36,
    "start_time": "2022-03-25T08:54:30.584Z"
   },
   {
    "duration": 41,
    "start_time": "2022-03-25T08:54:30.622Z"
   },
   {
    "duration": 835,
    "start_time": "2022-03-25T08:54:30.665Z"
   },
   {
    "duration": 7,
    "start_time": "2022-03-25T08:54:31.503Z"
   },
   {
    "duration": 41,
    "start_time": "2022-03-25T08:54:31.512Z"
   },
   {
    "duration": 24,
    "start_time": "2022-03-25T08:54:31.556Z"
   },
   {
    "duration": 44,
    "start_time": "2022-03-25T08:54:31.582Z"
   },
   {
    "duration": 43,
    "start_time": "2022-03-25T08:54:31.628Z"
   },
   {
    "duration": 20,
    "start_time": "2022-03-25T08:54:31.673Z"
   },
   {
    "duration": 100,
    "start_time": "2022-03-25T08:54:31.695Z"
   },
   {
    "duration": 2365,
    "start_time": "2022-03-25T08:54:31.884Z"
   },
   {
    "duration": 24,
    "start_time": "2022-03-25T08:57:46.161Z"
   },
   {
    "duration": 411,
    "start_time": "2022-03-25T08:57:46.188Z"
   },
   {
    "duration": 28,
    "start_time": "2022-03-25T08:57:46.602Z"
   },
   {
    "duration": 352,
    "start_time": "2022-03-25T08:57:46.633Z"
   },
   {
    "duration": 119,
    "start_time": "2022-03-25T08:57:46.987Z"
   },
   {
    "duration": 24,
    "start_time": "2022-03-25T08:57:47.108Z"
   },
   {
    "duration": 211,
    "start_time": "2022-03-25T08:57:47.134Z"
   },
   {
    "duration": 487,
    "start_time": "2022-03-25T08:57:47.347Z"
   },
   {
    "duration": 27,
    "start_time": "2022-03-25T08:57:47.836Z"
   },
   {
    "duration": 342,
    "start_time": "2022-03-25T08:57:47.883Z"
   },
   {
    "duration": 3,
    "start_time": "2022-03-25T08:57:48.228Z"
   },
   {
    "duration": 13,
    "start_time": "2022-03-25T08:57:48.233Z"
   },
   {
    "duration": 38,
    "start_time": "2022-03-25T08:57:48.249Z"
   },
   {
    "duration": 8,
    "start_time": "2022-03-25T08:57:48.289Z"
   },
   {
    "duration": 9,
    "start_time": "2022-03-25T08:57:48.300Z"
   },
   {
    "duration": 33,
    "start_time": "2022-03-25T08:57:48.312Z"
   },
   {
    "duration": 55,
    "start_time": "2022-03-25T08:57:48.347Z"
   },
   {
    "duration": 32,
    "start_time": "2022-03-25T08:57:48.404Z"
   },
   {
    "duration": 10,
    "start_time": "2022-03-25T08:57:48.438Z"
   },
   {
    "duration": 52,
    "start_time": "2022-03-25T08:57:48.450Z"
   },
   {
    "duration": 16,
    "start_time": "2022-03-25T08:57:48.504Z"
   },
   {
    "duration": 38,
    "start_time": "2022-03-25T08:57:48.522Z"
   },
   {
    "duration": 51,
    "start_time": "2022-03-25T08:57:48.563Z"
   },
   {
    "duration": 7,
    "start_time": "2022-03-25T08:57:48.617Z"
   },
   {
    "duration": 3581,
    "start_time": "2022-03-25T08:57:48.627Z"
   },
   {
    "duration": 2656,
    "start_time": "2022-03-25T08:57:52.211Z"
   },
   {
    "duration": 2591,
    "start_time": "2022-03-25T08:57:54.869Z"
   },
   {
    "duration": 722,
    "start_time": "2022-03-25T08:57:57.462Z"
   },
   {
    "duration": 6,
    "start_time": "2022-03-25T08:57:58.191Z"
   },
   {
    "duration": 843,
    "start_time": "2022-03-25T08:57:58.199Z"
   },
   {
    "duration": 7,
    "start_time": "2022-03-25T08:57:59.045Z"
   },
   {
    "duration": 52,
    "start_time": "2022-03-25T08:57:59.055Z"
   },
   {
    "duration": 42,
    "start_time": "2022-03-25T08:57:59.109Z"
   },
   {
    "duration": 49,
    "start_time": "2022-03-25T08:57:59.153Z"
   },
   {
    "duration": 864,
    "start_time": "2022-03-25T08:57:59.204Z"
   },
   {
    "duration": 15,
    "start_time": "2022-03-25T08:58:00.071Z"
   },
   {
    "duration": 18,
    "start_time": "2022-03-25T08:58:00.089Z"
   },
   {
    "duration": 20,
    "start_time": "2022-03-25T08:58:00.109Z"
   },
   {
    "duration": 45,
    "start_time": "2022-03-25T08:58:00.131Z"
   },
   {
    "duration": 34,
    "start_time": "2022-03-25T08:58:00.178Z"
   },
   {
    "duration": 15,
    "start_time": "2022-03-25T08:58:00.214Z"
   },
   {
    "duration": 55,
    "start_time": "2022-03-25T08:58:00.231Z"
   },
   {
    "duration": 2326,
    "start_time": "2022-03-25T08:58:00.289Z"
   },
   {
    "duration": 6,
    "start_time": "2022-03-25T09:01:14.035Z"
   },
   {
    "duration": 381,
    "start_time": "2022-03-25T09:01:14.043Z"
   },
   {
    "duration": 24,
    "start_time": "2022-03-25T09:01:14.427Z"
   },
   {
    "duration": 341,
    "start_time": "2022-03-25T09:01:14.453Z"
   },
   {
    "duration": 108,
    "start_time": "2022-03-25T09:01:14.796Z"
   },
   {
    "duration": 19,
    "start_time": "2022-03-25T09:01:14.906Z"
   },
   {
    "duration": 197,
    "start_time": "2022-03-25T09:01:14.927Z"
   },
   {
    "duration": 459,
    "start_time": "2022-03-25T09:01:15.126Z"
   },
   {
    "duration": 27,
    "start_time": "2022-03-25T09:01:15.587Z"
   },
   {
    "duration": 354,
    "start_time": "2022-03-25T09:01:15.618Z"
   },
   {
    "duration": 10,
    "start_time": "2022-03-25T09:01:15.975Z"
   },
   {
    "duration": 25,
    "start_time": "2022-03-25T09:01:15.987Z"
   },
   {
    "duration": 17,
    "start_time": "2022-03-25T09:01:16.014Z"
   },
   {
    "duration": 8,
    "start_time": "2022-03-25T09:01:16.034Z"
   },
   {
    "duration": 12,
    "start_time": "2022-03-25T09:01:16.044Z"
   },
   {
    "duration": 53,
    "start_time": "2022-03-25T09:01:16.058Z"
   },
   {
    "duration": 25,
    "start_time": "2022-03-25T09:01:16.113Z"
   },
   {
    "duration": 60,
    "start_time": "2022-03-25T09:01:16.141Z"
   },
   {
    "duration": 11,
    "start_time": "2022-03-25T09:01:16.204Z"
   },
   {
    "duration": 23,
    "start_time": "2022-03-25T09:01:16.217Z"
   },
   {
    "duration": 42,
    "start_time": "2022-03-25T09:01:16.243Z"
   },
   {
    "duration": 22,
    "start_time": "2022-03-25T09:01:16.287Z"
   },
   {
    "duration": 29,
    "start_time": "2022-03-25T09:01:16.311Z"
   },
   {
    "duration": 55,
    "start_time": "2022-03-25T09:01:16.342Z"
   },
   {
    "duration": 7,
    "start_time": "2022-03-25T09:01:16.399Z"
   },
   {
    "duration": 3478,
    "start_time": "2022-03-25T09:01:16.408Z"
   },
   {
    "duration": 2424,
    "start_time": "2022-03-25T09:01:19.888Z"
   },
   {
    "duration": 2589,
    "start_time": "2022-03-25T09:01:22.314Z"
   },
   {
    "duration": 775,
    "start_time": "2022-03-25T09:01:24.906Z"
   },
   {
    "duration": 6,
    "start_time": "2022-03-25T09:01:25.687Z"
   },
   {
    "duration": 658,
    "start_time": "2022-03-25T09:01:25.695Z"
   },
   {
    "duration": 6,
    "start_time": "2022-03-25T09:01:26.355Z"
   },
   {
    "duration": 26,
    "start_time": "2022-03-25T09:01:26.363Z"
   },
   {
    "duration": 8,
    "start_time": "2022-03-25T09:01:26.392Z"
   },
   {
    "duration": 14,
    "start_time": "2022-03-25T09:01:26.402Z"
   },
   {
    "duration": 1105,
    "start_time": "2022-03-25T09:01:26.418Z"
   },
   {
    "duration": 7,
    "start_time": "2022-03-25T09:01:27.525Z"
   },
   {
    "duration": 18,
    "start_time": "2022-03-25T09:01:27.535Z"
   },
   {
    "duration": 10,
    "start_time": "2022-03-25T09:01:27.555Z"
   },
   {
    "duration": 12,
    "start_time": "2022-03-25T09:01:27.583Z"
   },
   {
    "duration": 10,
    "start_time": "2022-03-25T09:01:27.597Z"
   },
   {
    "duration": 12,
    "start_time": "2022-03-25T09:01:27.609Z"
   },
   {
    "duration": 62,
    "start_time": "2022-03-25T09:01:27.623Z"
   },
   {
    "duration": 2100,
    "start_time": "2022-03-25T09:01:27.688Z"
   },
   {
    "duration": 188614,
    "start_time": "2022-03-25T09:01:29.791Z"
   },
   {
    "duration": 4,
    "start_time": "2022-03-25T09:04:38.409Z"
   },
   {
    "duration": 4,
    "start_time": "2022-03-25T09:04:39.864Z"
   },
   {
    "duration": 5,
    "start_time": "2022-03-25T09:05:06.935Z"
   },
   {
    "duration": 6,
    "start_time": "2022-03-25T09:14:58.232Z"
   },
   {
    "duration": 351,
    "start_time": "2022-03-25T09:14:58.241Z"
   },
   {
    "duration": 29,
    "start_time": "2022-03-25T09:14:58.594Z"
   },
   {
    "duration": 404,
    "start_time": "2022-03-25T09:14:58.626Z"
   },
   {
    "duration": 106,
    "start_time": "2022-03-25T09:14:59.032Z"
   },
   {
    "duration": 19,
    "start_time": "2022-03-25T09:14:59.140Z"
   },
   {
    "duration": 199,
    "start_time": "2022-03-25T09:14:59.161Z"
   },
   {
    "duration": 544,
    "start_time": "2022-03-25T09:14:59.363Z"
   },
   {
    "duration": 30,
    "start_time": "2022-03-25T09:14:59.910Z"
   },
   {
    "duration": 382,
    "start_time": "2022-03-25T09:14:59.944Z"
   },
   {
    "duration": 3,
    "start_time": "2022-03-25T09:15:00.329Z"
   },
   {
    "duration": 34,
    "start_time": "2022-03-25T09:15:00.334Z"
   },
   {
    "duration": 23,
    "start_time": "2022-03-25T09:15:00.371Z"
   },
   {
    "duration": 12,
    "start_time": "2022-03-25T09:15:00.397Z"
   },
   {
    "duration": 33,
    "start_time": "2022-03-25T09:15:00.411Z"
   },
   {
    "duration": 48,
    "start_time": "2022-03-25T09:15:00.446Z"
   },
   {
    "duration": 24,
    "start_time": "2022-03-25T09:15:00.496Z"
   },
   {
    "duration": 64,
    "start_time": "2022-03-25T09:15:00.522Z"
   },
   {
    "duration": 10,
    "start_time": "2022-03-25T09:15:00.588Z"
   },
   {
    "duration": 23,
    "start_time": "2022-03-25T09:15:00.600Z"
   },
   {
    "duration": 17,
    "start_time": "2022-03-25T09:15:00.625Z"
   },
   {
    "duration": 55,
    "start_time": "2022-03-25T09:15:00.644Z"
   },
   {
    "duration": 31,
    "start_time": "2022-03-25T09:15:00.701Z"
   },
   {
    "duration": 57,
    "start_time": "2022-03-25T09:15:00.734Z"
   },
   {
    "duration": 7,
    "start_time": "2022-03-25T09:15:00.793Z"
   },
   {
    "duration": 3556,
    "start_time": "2022-03-25T09:15:00.802Z"
   },
   {
    "duration": 2494,
    "start_time": "2022-03-25T09:15:04.360Z"
   },
   {
    "duration": 2580,
    "start_time": "2022-03-25T09:15:06.859Z"
   },
   {
    "duration": 682,
    "start_time": "2022-03-25T09:15:09.441Z"
   },
   {
    "duration": 8,
    "start_time": "2022-03-25T09:15:10.125Z"
   },
   {
    "duration": 675,
    "start_time": "2022-03-25T09:15:10.135Z"
   },
   {
    "duration": 9,
    "start_time": "2022-03-25T09:15:10.812Z"
   },
   {
    "duration": 12,
    "start_time": "2022-03-25T09:15:10.823Z"
   },
   {
    "duration": 17,
    "start_time": "2022-03-25T09:15:10.837Z"
   },
   {
    "duration": 24,
    "start_time": "2022-03-25T09:15:10.856Z"
   },
   {
    "duration": 1055,
    "start_time": "2022-03-25T09:15:10.883Z"
   },
   {
    "duration": 4,
    "start_time": "2022-03-25T09:15:11.940Z"
   },
   {
    "duration": 8,
    "start_time": "2022-03-25T09:15:11.946Z"
   },
   {
    "duration": 5,
    "start_time": "2022-03-25T09:15:11.957Z"
   },
   {
    "duration": 8,
    "start_time": "2022-03-25T09:15:11.984Z"
   },
   {
    "duration": 7,
    "start_time": "2022-03-25T09:15:11.994Z"
   },
   {
    "duration": 13,
    "start_time": "2022-03-25T09:15:12.004Z"
   },
   {
    "duration": 9,
    "start_time": "2022-03-25T09:15:12.019Z"
   },
   {
    "duration": 10,
    "start_time": "2022-03-25T09:15:12.031Z"
   },
   {
    "duration": 247,
    "start_time": "2022-03-25T09:15:12.043Z"
   },
   {
    "duration": 0,
    "start_time": "2022-03-25T09:15:12.292Z"
   },
   {
    "duration": 0,
    "start_time": "2022-03-25T09:15:12.293Z"
   },
   {
    "duration": 9,
    "start_time": "2022-03-25T09:15:55.699Z"
   },
   {
    "duration": 4,
    "start_time": "2022-03-25T09:15:56.650Z"
   },
   {
    "duration": 5,
    "start_time": "2022-03-25T09:15:57.806Z"
   },
   {
    "duration": 6,
    "start_time": "2022-03-25T09:15:58.757Z"
   },
   {
    "duration": 11,
    "start_time": "2022-03-25T09:16:01.154Z"
   },
   {
    "duration": 5,
    "start_time": "2022-03-25T09:16:02.029Z"
   },
   {
    "duration": 3,
    "start_time": "2022-03-25T09:16:03.091Z"
   },
   {
    "duration": 28,
    "start_time": "2022-03-25T09:16:04.566Z"
   },
   {
    "duration": 2228,
    "start_time": "2022-03-25T09:16:07.173Z"
   },
   {
    "duration": 2304,
    "start_time": "2022-03-25T09:18:00.590Z"
   },
   {
    "duration": 1944,
    "start_time": "2022-03-25T09:18:38.956Z"
   },
   {
    "duration": 19,
    "start_time": "2022-03-25T09:19:04.773Z"
   },
   {
    "duration": 21,
    "start_time": "2022-03-25T09:19:54.125Z"
   },
   {
    "duration": 30,
    "start_time": "2022-03-25T09:20:18.120Z"
   },
   {
    "duration": 46,
    "start_time": "2022-03-25T09:20:38.006Z"
   },
   {
    "duration": 10,
    "start_time": "2022-03-25T09:20:51.628Z"
   },
   {
    "duration": 5,
    "start_time": "2022-03-25T09:20:57.695Z"
   },
   {
    "duration": 21,
    "start_time": "2022-03-25T09:24:55.265Z"
   },
   {
    "duration": 343,
    "start_time": "2022-03-25T09:24:55.288Z"
   },
   {
    "duration": 23,
    "start_time": "2022-03-25T09:24:55.633Z"
   },
   {
    "duration": 334,
    "start_time": "2022-03-25T09:24:55.660Z"
   },
   {
    "duration": 103,
    "start_time": "2022-03-25T09:24:55.996Z"
   },
   {
    "duration": 18,
    "start_time": "2022-03-25T09:24:56.102Z"
   },
   {
    "duration": 205,
    "start_time": "2022-03-25T09:24:56.122Z"
   },
   {
    "duration": 409,
    "start_time": "2022-03-25T09:24:56.329Z"
   },
   {
    "duration": 25,
    "start_time": "2022-03-25T09:24:56.740Z"
   },
   {
    "duration": 331,
    "start_time": "2022-03-25T09:24:56.784Z"
   },
   {
    "duration": 4,
    "start_time": "2022-03-25T09:24:57.118Z"
   },
   {
    "duration": 13,
    "start_time": "2022-03-25T09:24:57.125Z"
   },
   {
    "duration": 13,
    "start_time": "2022-03-25T09:24:57.141Z"
   },
   {
    "duration": 32,
    "start_time": "2022-03-25T09:24:57.158Z"
   },
   {
    "duration": 8,
    "start_time": "2022-03-25T09:24:57.193Z"
   },
   {
    "duration": 38,
    "start_time": "2022-03-25T09:24:57.203Z"
   },
   {
    "duration": 58,
    "start_time": "2022-03-25T09:24:57.243Z"
   },
   {
    "duration": 34,
    "start_time": "2022-03-25T09:24:57.304Z"
   },
   {
    "duration": 10,
    "start_time": "2022-03-25T09:24:57.341Z"
   },
   {
    "duration": 20,
    "start_time": "2022-03-25T09:24:57.384Z"
   },
   {
    "duration": 13,
    "start_time": "2022-03-25T09:24:57.406Z"
   },
   {
    "duration": 20,
    "start_time": "2022-03-25T09:24:57.425Z"
   },
   {
    "duration": 62,
    "start_time": "2022-03-25T09:24:57.447Z"
   },
   {
    "duration": 23,
    "start_time": "2022-03-25T09:24:57.512Z"
   },
   {
    "duration": 8,
    "start_time": "2022-03-25T09:24:57.537Z"
   },
   {
    "duration": 3503,
    "start_time": "2022-03-25T09:24:57.547Z"
   },
   {
    "duration": 2726,
    "start_time": "2022-03-25T09:25:01.052Z"
   },
   {
    "duration": 2664,
    "start_time": "2022-03-25T09:25:03.784Z"
   },
   {
    "duration": 693,
    "start_time": "2022-03-25T09:25:06.452Z"
   },
   {
    "duration": 6,
    "start_time": "2022-03-25T09:25:07.147Z"
   },
   {
    "duration": 862,
    "start_time": "2022-03-25T09:25:07.155Z"
   },
   {
    "duration": 6,
    "start_time": "2022-03-25T09:25:08.019Z"
   },
   {
    "duration": 11,
    "start_time": "2022-03-25T09:25:08.027Z"
   },
   {
    "duration": 8,
    "start_time": "2022-03-25T09:25:08.040Z"
   },
   {
    "duration": 12,
    "start_time": "2022-03-25T09:25:08.050Z"
   },
   {
    "duration": 980,
    "start_time": "2022-03-25T09:25:08.085Z"
   },
   {
    "duration": 4,
    "start_time": "2022-03-25T09:25:09.067Z"
   },
   {
    "duration": 10,
    "start_time": "2022-03-25T09:25:09.085Z"
   },
   {
    "duration": 21,
    "start_time": "2022-03-25T09:25:09.097Z"
   },
   {
    "duration": 20,
    "start_time": "2022-03-25T09:25:09.120Z"
   },
   {
    "duration": 33,
    "start_time": "2022-03-25T09:25:09.142Z"
   },
   {
    "duration": 29,
    "start_time": "2022-03-25T09:25:09.177Z"
   },
   {
    "duration": 23,
    "start_time": "2022-03-25T09:25:09.208Z"
   },
   {
    "duration": 28,
    "start_time": "2022-03-25T09:25:09.234Z"
   },
   {
    "duration": 119,
    "start_time": "2022-03-25T09:25:09.265Z"
   },
   {
    "duration": 2293,
    "start_time": "2022-03-25T09:25:09.387Z"
   },
   {
    "duration": 190802,
    "start_time": "2022-03-25T09:25:11.682Z"
   },
   {
    "duration": 97,
    "start_time": "2022-03-25T09:28:22.489Z"
   },
   {
    "duration": 19,
    "start_time": "2022-03-25T12:03:25.207Z"
   },
   {
    "duration": 5,
    "start_time": "2022-03-25T12:03:52.206Z"
   },
   {
    "duration": 5,
    "start_time": "2022-03-25T12:04:09.151Z"
   },
   {
    "duration": 4,
    "start_time": "2022-03-25T12:05:57.617Z"
   },
   {
    "duration": 12,
    "start_time": "2022-03-25T12:07:55.269Z"
   },
   {
    "duration": 6,
    "start_time": "2022-03-25T12:10:02.079Z"
   },
   {
    "duration": 12,
    "start_time": "2022-03-25T12:11:31.381Z"
   },
   {
    "duration": 5,
    "start_time": "2022-03-25T12:11:32.224Z"
   },
   {
    "duration": 5,
    "start_time": "2022-03-25T12:12:03.491Z"
   },
   {
    "duration": 5,
    "start_time": "2022-03-25T12:12:20.111Z"
   },
   {
    "duration": 4,
    "start_time": "2022-03-25T12:12:21.338Z"
   },
   {
    "duration": 86,
    "start_time": "2022-03-25T12:12:22.900Z"
   },
   {
    "duration": 324,
    "start_time": "2022-03-25T12:12:25.463Z"
   },
   {
    "duration": 306,
    "start_time": "2022-03-25T12:13:07.003Z"
   },
   {
    "duration": 144,
    "start_time": "2022-03-25T12:14:05.141Z"
   },
   {
    "duration": 1428,
    "start_time": "2022-03-25T12:14:21.160Z"
   },
   {
    "duration": 1420,
    "start_time": "2022-03-25T12:14:45.973Z"
   },
   {
    "duration": 6,
    "start_time": "2022-03-25T12:20:15.108Z"
   },
   {
    "duration": 368,
    "start_time": "2022-03-25T12:20:15.117Z"
   },
   {
    "duration": 26,
    "start_time": "2022-03-25T12:20:15.488Z"
   },
   {
    "duration": 347,
    "start_time": "2022-03-25T12:20:15.517Z"
   },
   {
    "duration": 119,
    "start_time": "2022-03-25T12:20:15.866Z"
   },
   {
    "duration": 22,
    "start_time": "2022-03-25T12:20:15.988Z"
   },
   {
    "duration": 217,
    "start_time": "2022-03-25T12:20:16.012Z"
   },
   {
    "duration": 452,
    "start_time": "2022-03-25T12:20:16.233Z"
   },
   {
    "duration": 27,
    "start_time": "2022-03-25T12:20:16.688Z"
   },
   {
    "duration": 353,
    "start_time": "2022-03-25T12:20:16.717Z"
   },
   {
    "duration": 11,
    "start_time": "2022-03-25T12:20:17.073Z"
   },
   {
    "duration": 31,
    "start_time": "2022-03-25T12:20:17.086Z"
   },
   {
    "duration": 41,
    "start_time": "2022-03-25T12:20:17.120Z"
   },
   {
    "duration": 50,
    "start_time": "2022-03-25T12:20:17.163Z"
   },
   {
    "duration": 24,
    "start_time": "2022-03-25T12:20:17.215Z"
   },
   {
    "duration": 64,
    "start_time": "2022-03-25T12:20:17.241Z"
   },
   {
    "duration": 27,
    "start_time": "2022-03-25T12:20:17.307Z"
   },
   {
    "duration": 48,
    "start_time": "2022-03-25T12:20:17.337Z"
   },
   {
    "duration": 10,
    "start_time": "2022-03-25T12:20:17.387Z"
   },
   {
    "duration": 39,
    "start_time": "2022-03-25T12:20:17.399Z"
   },
   {
    "duration": 26,
    "start_time": "2022-03-25T12:20:17.440Z"
   },
   {
    "duration": 44,
    "start_time": "2022-03-25T12:20:17.468Z"
   },
   {
    "duration": 34,
    "start_time": "2022-03-25T12:20:17.515Z"
   },
   {
    "duration": 27,
    "start_time": "2022-03-25T12:20:17.551Z"
   },
   {
    "duration": 16,
    "start_time": "2022-03-25T12:20:17.580Z"
   },
   {
    "duration": 3347,
    "start_time": "2022-03-25T12:20:17.598Z"
   },
   {
    "duration": 2506,
    "start_time": "2022-03-25T12:20:20.952Z"
   },
   {
    "duration": 2677,
    "start_time": "2022-03-25T12:20:23.460Z"
   },
   {
    "duration": 680,
    "start_time": "2022-03-25T12:20:26.140Z"
   },
   {
    "duration": 7,
    "start_time": "2022-03-25T12:20:26.823Z"
   },
   {
    "duration": 675,
    "start_time": "2022-03-25T12:20:26.832Z"
   },
   {
    "duration": 7,
    "start_time": "2022-03-25T12:20:27.509Z"
   },
   {
    "duration": 37,
    "start_time": "2022-03-25T12:20:27.519Z"
   },
   {
    "duration": 18,
    "start_time": "2022-03-25T12:20:27.559Z"
   },
   {
    "duration": 21,
    "start_time": "2022-03-25T12:20:27.579Z"
   },
   {
    "duration": 844,
    "start_time": "2022-03-25T12:20:27.602Z"
   },
   {
    "duration": 4,
    "start_time": "2022-03-25T12:20:28.449Z"
   },
   {
    "duration": 39,
    "start_time": "2022-03-25T12:20:28.456Z"
   },
   {
    "duration": 21,
    "start_time": "2022-03-25T12:20:28.497Z"
   },
   {
    "duration": 19,
    "start_time": "2022-03-25T12:20:28.520Z"
   },
   {
    "duration": 22,
    "start_time": "2022-03-25T12:20:28.542Z"
   },
   {
    "duration": 20,
    "start_time": "2022-03-25T12:20:28.567Z"
   },
   {
    "duration": 18,
    "start_time": "2022-03-25T12:20:28.590Z"
   },
   {
    "duration": 15,
    "start_time": "2022-03-25T12:20:28.610Z"
   },
   {
    "duration": 35,
    "start_time": "2022-03-25T12:20:28.628Z"
   },
   {
    "duration": 24,
    "start_time": "2022-03-25T12:20:28.665Z"
   },
   {
    "duration": 200,
    "start_time": "2022-03-25T12:20:28.692Z"
   },
   {
    "duration": 1606,
    "start_time": "2022-03-25T12:20:28.985Z"
   },
   {
    "duration": 137469,
    "start_time": "2022-03-25T12:20:30.594Z"
   },
   {
    "duration": 6,
    "start_time": "2022-03-25T12:32:30.593Z"
   },
   {
    "duration": 342,
    "start_time": "2022-03-25T12:32:30.601Z"
   },
   {
    "duration": 38,
    "start_time": "2022-03-25T12:32:30.946Z"
   },
   {
    "duration": 413,
    "start_time": "2022-03-25T12:32:30.986Z"
   },
   {
    "duration": 107,
    "start_time": "2022-03-25T12:32:31.401Z"
   },
   {
    "duration": 19,
    "start_time": "2022-03-25T12:32:31.510Z"
   },
   {
    "duration": 205,
    "start_time": "2022-03-25T12:32:31.531Z"
   },
   {
    "duration": 475,
    "start_time": "2022-03-25T12:32:31.738Z"
   },
   {
    "duration": 25,
    "start_time": "2022-03-25T12:32:32.218Z"
   },
   {
    "duration": 350,
    "start_time": "2022-03-25T12:32:32.245Z"
   },
   {
    "duration": 4,
    "start_time": "2022-03-25T12:32:32.597Z"
   },
   {
    "duration": 30,
    "start_time": "2022-03-25T12:32:32.603Z"
   },
   {
    "duration": 27,
    "start_time": "2022-03-25T12:32:32.635Z"
   },
   {
    "duration": 14,
    "start_time": "2022-03-25T12:32:32.664Z"
   },
   {
    "duration": 28,
    "start_time": "2022-03-25T12:32:32.680Z"
   },
   {
    "duration": 58,
    "start_time": "2022-03-25T12:32:32.711Z"
   },
   {
    "duration": 24,
    "start_time": "2022-03-25T12:32:32.772Z"
   },
   {
    "duration": 68,
    "start_time": "2022-03-25T12:32:32.798Z"
   },
   {
    "duration": 14,
    "start_time": "2022-03-25T12:32:32.868Z"
   },
   {
    "duration": 25,
    "start_time": "2022-03-25T12:32:32.885Z"
   },
   {
    "duration": 21,
    "start_time": "2022-03-25T12:32:32.913Z"
   },
   {
    "duration": 41,
    "start_time": "2022-03-25T12:32:32.937Z"
   },
   {
    "duration": 35,
    "start_time": "2022-03-25T12:32:32.981Z"
   },
   {
    "duration": 30,
    "start_time": "2022-03-25T12:32:33.019Z"
   },
   {
    "duration": 7,
    "start_time": "2022-03-25T12:32:33.052Z"
   },
   {
    "duration": 3205,
    "start_time": "2022-03-25T12:32:33.061Z"
   },
   {
    "duration": 2597,
    "start_time": "2022-03-25T12:32:36.273Z"
   },
   {
    "duration": 2672,
    "start_time": "2022-03-25T12:32:38.872Z"
   },
   {
    "duration": 700,
    "start_time": "2022-03-25T12:32:41.546Z"
   },
   {
    "duration": 7,
    "start_time": "2022-03-25T12:32:42.249Z"
   },
   {
    "duration": 778,
    "start_time": "2022-03-25T12:32:42.258Z"
   },
   {
    "duration": 6,
    "start_time": "2022-03-25T12:32:43.038Z"
   },
   {
    "duration": 13,
    "start_time": "2022-03-25T12:32:43.047Z"
   },
   {
    "duration": 22,
    "start_time": "2022-03-25T12:32:43.062Z"
   },
   {
    "duration": 10,
    "start_time": "2022-03-25T12:32:43.087Z"
   },
   {
    "duration": 822,
    "start_time": "2022-03-25T12:32:43.100Z"
   },
   {
    "duration": 4,
    "start_time": "2022-03-25T12:32:43.924Z"
   },
   {
    "duration": 15,
    "start_time": "2022-03-25T12:32:43.930Z"
   },
   {
    "duration": 12,
    "start_time": "2022-03-25T12:32:43.947Z"
   },
   {
    "duration": 23,
    "start_time": "2022-03-25T12:32:43.962Z"
   },
   {
    "duration": 8,
    "start_time": "2022-03-25T12:32:43.987Z"
   },
   {
    "duration": 11,
    "start_time": "2022-03-25T12:32:43.997Z"
   },
   {
    "duration": 4,
    "start_time": "2022-03-25T12:32:44.011Z"
   },
   {
    "duration": 6,
    "start_time": "2022-03-25T12:32:44.018Z"
   },
   {
    "duration": 7,
    "start_time": "2022-03-25T12:32:44.026Z"
   },
   {
    "duration": 10,
    "start_time": "2022-03-25T12:32:44.035Z"
   },
   {
    "duration": 147,
    "start_time": "2022-03-25T12:32:44.047Z"
   },
   {
    "duration": 2200,
    "start_time": "2022-03-25T12:32:44.286Z"
   },
   {
    "duration": 136284,
    "start_time": "2022-03-25T12:32:46.488Z"
   },
   {
    "duration": 120,
    "start_time": "2022-03-25T12:35:02.774Z"
   },
   {
    "duration": 4,
    "start_time": "2022-03-25T12:36:12.347Z"
   },
   {
    "duration": 200,
    "start_time": "2022-03-25T12:36:12.986Z"
   },
   {
    "duration": 1910,
    "start_time": "2022-03-25T12:36:14.393Z"
   },
   {
    "duration": 1771,
    "start_time": "2022-03-25T12:36:44.124Z"
   },
   {
    "duration": 6,
    "start_time": "2022-03-25T12:40:33.115Z"
   },
   {
    "duration": 2,
    "start_time": "2022-03-25T12:40:34.070Z"
   },
   {
    "duration": 3,
    "start_time": "2022-03-25T12:40:35.029Z"
   },
   {
    "duration": 77,
    "start_time": "2022-03-25T12:40:36.415Z"
   },
   {
    "duration": 1815,
    "start_time": "2022-03-25T12:40:37.821Z"
   },
   {
    "duration": 4,
    "start_time": "2022-03-25T12:43:24.580Z"
   },
   {
    "duration": 156,
    "start_time": "2022-03-25T12:43:25.238Z"
   },
   {
    "duration": 2334,
    "start_time": "2022-03-25T12:43:27.159Z"
   },
   {
    "duration": 6,
    "start_time": "2022-03-25T12:44:52.804Z"
   },
   {
    "duration": 370,
    "start_time": "2022-03-25T12:44:52.812Z"
   },
   {
    "duration": 25,
    "start_time": "2022-03-25T12:44:53.185Z"
   },
   {
    "duration": 519,
    "start_time": "2022-03-25T12:44:53.213Z"
   },
   {
    "duration": 112,
    "start_time": "2022-03-25T12:44:53.735Z"
   },
   {
    "duration": 38,
    "start_time": "2022-03-25T12:44:53.849Z"
   },
   {
    "duration": 258,
    "start_time": "2022-03-25T12:44:53.889Z"
   },
   {
    "duration": 693,
    "start_time": "2022-03-25T12:44:54.149Z"
   },
   {
    "duration": 40,
    "start_time": "2022-03-25T12:44:54.847Z"
   },
   {
    "duration": 358,
    "start_time": "2022-03-25T12:44:54.890Z"
   },
   {
    "duration": 3,
    "start_time": "2022-03-25T12:44:55.252Z"
   },
   {
    "duration": 28,
    "start_time": "2022-03-25T12:44:55.257Z"
   },
   {
    "duration": 12,
    "start_time": "2022-03-25T12:44:55.287Z"
   },
   {
    "duration": 9,
    "start_time": "2022-03-25T12:44:55.301Z"
   },
   {
    "duration": 11,
    "start_time": "2022-03-25T12:44:55.313Z"
   },
   {
    "duration": 70,
    "start_time": "2022-03-25T12:44:55.327Z"
   },
   {
    "duration": 26,
    "start_time": "2022-03-25T12:44:55.399Z"
   },
   {
    "duration": 58,
    "start_time": "2022-03-25T12:44:55.427Z"
   },
   {
    "duration": 11,
    "start_time": "2022-03-25T12:44:55.488Z"
   },
   {
    "duration": 23,
    "start_time": "2022-03-25T12:44:55.502Z"
   },
   {
    "duration": 16,
    "start_time": "2022-03-25T12:44:55.527Z"
   },
   {
    "duration": 56,
    "start_time": "2022-03-25T12:44:55.545Z"
   },
   {
    "duration": 33,
    "start_time": "2022-03-25T12:44:55.604Z"
   },
   {
    "duration": 50,
    "start_time": "2022-03-25T12:44:55.638Z"
   },
   {
    "duration": 7,
    "start_time": "2022-03-25T12:44:55.690Z"
   },
   {
    "duration": 3225,
    "start_time": "2022-03-25T12:44:55.699Z"
   },
   {
    "duration": 2881,
    "start_time": "2022-03-25T12:44:58.926Z"
   },
   {
    "duration": 2745,
    "start_time": "2022-03-25T12:45:01.810Z"
   },
   {
    "duration": 826,
    "start_time": "2022-03-25T12:45:04.561Z"
   },
   {
    "duration": 7,
    "start_time": "2022-03-25T12:45:05.390Z"
   },
   {
    "duration": 684,
    "start_time": "2022-03-25T12:45:05.400Z"
   },
   {
    "duration": 6,
    "start_time": "2022-03-25T12:45:06.086Z"
   },
   {
    "duration": 9,
    "start_time": "2022-03-25T12:45:06.095Z"
   },
   {
    "duration": 15,
    "start_time": "2022-03-25T12:45:06.106Z"
   },
   {
    "duration": 8,
    "start_time": "2022-03-25T12:45:06.123Z"
   },
   {
    "duration": 876,
    "start_time": "2022-03-25T12:45:06.133Z"
   },
   {
    "duration": 4,
    "start_time": "2022-03-25T12:45:07.011Z"
   },
   {
    "duration": 14,
    "start_time": "2022-03-25T12:45:07.017Z"
   },
   {
    "duration": 7,
    "start_time": "2022-03-25T12:45:07.033Z"
   },
   {
    "duration": 41,
    "start_time": "2022-03-25T12:45:07.043Z"
   },
   {
    "duration": 4,
    "start_time": "2022-03-25T12:45:07.087Z"
   },
   {
    "duration": 14,
    "start_time": "2022-03-25T12:45:07.093Z"
   },
   {
    "duration": 4,
    "start_time": "2022-03-25T12:45:07.109Z"
   },
   {
    "duration": 6,
    "start_time": "2022-03-25T12:45:07.115Z"
   },
   {
    "duration": 12,
    "start_time": "2022-03-25T12:45:07.123Z"
   },
   {
    "duration": 18,
    "start_time": "2022-03-25T12:45:07.137Z"
   },
   {
    "duration": 136,
    "start_time": "2022-03-25T12:45:07.158Z"
   },
   {
    "duration": 2553,
    "start_time": "2022-03-25T12:45:07.388Z"
   },
   {
    "duration": 7,
    "start_time": "2022-03-25T13:43:15.508Z"
   },
   {
    "duration": 430,
    "start_time": "2022-03-25T13:43:16.199Z"
   },
   {
    "duration": 22,
    "start_time": "2022-03-25T13:43:16.789Z"
   },
   {
    "duration": 320,
    "start_time": "2022-03-25T13:43:17.190Z"
   },
   {
    "duration": 108,
    "start_time": "2022-03-25T13:43:17.829Z"
   },
   {
    "duration": 16,
    "start_time": "2022-03-25T13:43:18.402Z"
   },
   {
    "duration": 194,
    "start_time": "2022-03-25T13:43:18.676Z"
   },
   {
    "duration": 446,
    "start_time": "2022-03-25T13:43:19.640Z"
   },
   {
    "duration": 22,
    "start_time": "2022-03-25T13:43:20.131Z"
   },
   {
    "duration": 341,
    "start_time": "2022-03-25T13:43:20.534Z"
   },
   {
    "duration": 16,
    "start_time": "2022-03-25T13:43:20.904Z"
   },
   {
    "duration": 33,
    "start_time": "2022-03-25T13:43:20.951Z"
   },
   {
    "duration": 18,
    "start_time": "2022-03-25T13:43:21.015Z"
   },
   {
    "duration": 20,
    "start_time": "2022-03-25T13:43:21.113Z"
   },
   {
    "duration": 17,
    "start_time": "2022-03-25T13:43:21.188Z"
   },
   {
    "duration": 32,
    "start_time": "2022-03-25T13:43:21.290Z"
   },
   {
    "duration": 23,
    "start_time": "2022-03-25T13:43:21.393Z"
   },
   {
    "duration": 33,
    "start_time": "2022-03-25T13:43:21.504Z"
   },
   {
    "duration": 0,
    "start_time": "2022-03-25T13:43:21.608Z"
   },
   {
    "duration": 0,
    "start_time": "2022-03-25T13:43:21.612Z"
   },
   {
    "duration": 0,
    "start_time": "2022-03-25T13:43:21.616Z"
   },
   {
    "duration": 0,
    "start_time": "2022-03-25T13:43:21.619Z"
   },
   {
    "duration": 0,
    "start_time": "2022-03-25T13:43:21.623Z"
   },
   {
    "duration": 0,
    "start_time": "2022-03-25T13:43:21.626Z"
   },
   {
    "duration": 0,
    "start_time": "2022-03-25T13:43:21.630Z"
   },
   {
    "duration": 0,
    "start_time": "2022-03-25T13:43:21.635Z"
   },
   {
    "duration": 0,
    "start_time": "2022-03-25T13:43:21.639Z"
   },
   {
    "duration": 0,
    "start_time": "2022-03-25T13:43:21.687Z"
   },
   {
    "duration": 0,
    "start_time": "2022-03-25T13:43:21.690Z"
   },
   {
    "duration": 0,
    "start_time": "2022-03-25T13:43:21.694Z"
   },
   {
    "duration": 0,
    "start_time": "2022-03-25T13:43:21.698Z"
   },
   {
    "duration": 0,
    "start_time": "2022-03-25T13:43:21.702Z"
   },
   {
    "duration": 0,
    "start_time": "2022-03-25T13:43:21.706Z"
   },
   {
    "duration": 0,
    "start_time": "2022-03-25T13:43:21.711Z"
   },
   {
    "duration": 0,
    "start_time": "2022-03-25T13:43:21.715Z"
   },
   {
    "duration": 0,
    "start_time": "2022-03-25T13:43:21.719Z"
   },
   {
    "duration": 0,
    "start_time": "2022-03-25T13:43:21.786Z"
   },
   {
    "duration": 0,
    "start_time": "2022-03-25T13:43:21.791Z"
   },
   {
    "duration": 0,
    "start_time": "2022-03-25T13:43:21.796Z"
   },
   {
    "duration": 0,
    "start_time": "2022-03-25T13:43:21.800Z"
   },
   {
    "duration": 0,
    "start_time": "2022-03-25T13:43:21.804Z"
   },
   {
    "duration": 0,
    "start_time": "2022-03-25T13:43:21.808Z"
   },
   {
    "duration": 0,
    "start_time": "2022-03-25T13:43:21.812Z"
   },
   {
    "duration": 0,
    "start_time": "2022-03-25T13:43:21.815Z"
   },
   {
    "duration": 0,
    "start_time": "2022-03-25T13:43:21.819Z"
   },
   {
    "duration": 0,
    "start_time": "2022-03-25T13:43:21.884Z"
   },
   {
    "duration": 0,
    "start_time": "2022-03-25T13:43:21.888Z"
   },
   {
    "duration": 0,
    "start_time": "2022-03-25T13:43:21.891Z"
   },
   {
    "duration": 0,
    "start_time": "2022-03-25T13:43:21.894Z"
   },
   {
    "duration": 0,
    "start_time": "2022-03-25T13:43:21.898Z"
   },
   {
    "duration": 6,
    "start_time": "2022-03-25T14:29:45.617Z"
   },
   {
    "duration": 622,
    "start_time": "2022-03-25T14:29:45.626Z"
   },
   {
    "duration": 34,
    "start_time": "2022-03-25T14:29:46.251Z"
   },
   {
    "duration": 324,
    "start_time": "2022-03-25T14:29:46.288Z"
   },
   {
    "duration": 367,
    "start_time": "2022-03-25T14:29:46.614Z"
   },
   {
    "duration": 19,
    "start_time": "2022-03-25T14:29:46.983Z"
   },
   {
    "duration": 197,
    "start_time": "2022-03-25T14:29:47.004Z"
   },
   {
    "duration": 3478,
    "start_time": "2022-03-25T14:29:47.203Z"
   },
   {
    "duration": 27,
    "start_time": "2022-03-25T14:29:50.683Z"
   },
   {
    "duration": 351,
    "start_time": "2022-03-25T14:29:50.713Z"
   },
   {
    "duration": 16,
    "start_time": "2022-03-25T14:29:51.068Z"
   },
   {
    "duration": 22,
    "start_time": "2022-03-25T14:29:51.086Z"
   },
   {
    "duration": 21,
    "start_time": "2022-03-25T14:29:51.110Z"
   },
   {
    "duration": 20,
    "start_time": "2022-03-25T14:29:51.134Z"
   },
   {
    "duration": 17,
    "start_time": "2022-03-25T14:29:51.156Z"
   },
   {
    "duration": 46,
    "start_time": "2022-03-25T14:29:51.175Z"
   },
   {
    "duration": 25,
    "start_time": "2022-03-25T14:29:51.223Z"
   },
   {
    "duration": 51,
    "start_time": "2022-03-25T14:29:51.250Z"
   },
   {
    "duration": 10,
    "start_time": "2022-03-25T14:29:51.303Z"
   },
   {
    "duration": 32,
    "start_time": "2022-03-25T14:29:51.316Z"
   },
   {
    "duration": 19,
    "start_time": "2022-03-25T14:29:51.350Z"
   },
   {
    "duration": 33,
    "start_time": "2022-03-25T14:29:51.371Z"
   },
   {
    "duration": 34,
    "start_time": "2022-03-25T14:29:51.406Z"
   },
   {
    "duration": 57,
    "start_time": "2022-03-25T14:29:51.442Z"
   },
   {
    "duration": 33,
    "start_time": "2022-03-25T14:29:51.501Z"
   },
   {
    "duration": 3272,
    "start_time": "2022-03-25T14:29:51.536Z"
   },
   {
    "duration": 2753,
    "start_time": "2022-03-25T14:29:54.810Z"
   },
   {
    "duration": 2734,
    "start_time": "2022-03-25T14:29:57.565Z"
   },
   {
    "duration": 688,
    "start_time": "2022-03-25T14:30:00.307Z"
   },
   {
    "duration": 7,
    "start_time": "2022-03-25T14:30:00.998Z"
   },
   {
    "duration": 828,
    "start_time": "2022-03-25T14:30:01.008Z"
   },
   {
    "duration": 7,
    "start_time": "2022-03-25T14:30:01.838Z"
   },
   {
    "duration": 25,
    "start_time": "2022-03-25T14:30:01.848Z"
   },
   {
    "duration": 47,
    "start_time": "2022-03-25T14:30:01.875Z"
   },
   {
    "duration": 38,
    "start_time": "2022-03-25T14:30:01.924Z"
   },
   {
    "duration": 934,
    "start_time": "2022-03-25T14:30:01.964Z"
   },
   {
    "duration": 3,
    "start_time": "2022-03-25T14:30:02.901Z"
   },
   {
    "duration": 31,
    "start_time": "2022-03-25T14:30:02.907Z"
   },
   {
    "duration": 50,
    "start_time": "2022-03-25T14:30:02.940Z"
   },
   {
    "duration": 18,
    "start_time": "2022-03-25T14:30:02.993Z"
   },
   {
    "duration": 19,
    "start_time": "2022-03-25T14:30:03.013Z"
   },
   {
    "duration": 38,
    "start_time": "2022-03-25T14:30:03.034Z"
   },
   {
    "duration": 7,
    "start_time": "2022-03-25T14:30:03.074Z"
   },
   {
    "duration": 12,
    "start_time": "2022-03-25T14:30:03.084Z"
   },
   {
    "duration": 51,
    "start_time": "2022-03-25T14:30:03.098Z"
   },
   {
    "duration": 24,
    "start_time": "2022-03-25T14:30:03.152Z"
   },
   {
    "duration": 204,
    "start_time": "2022-03-25T14:30:03.179Z"
   },
   {
    "duration": 1698,
    "start_time": "2022-03-25T14:30:03.386Z"
   },
   {
    "duration": 74,
    "start_time": "2022-03-26T10:46:47.753Z"
   },
   {
    "duration": 13,
    "start_time": "2022-03-26T10:47:08.177Z"
   },
   {
    "duration": 2845,
    "start_time": "2022-03-26T10:47:32.742Z"
   },
   {
    "duration": 338,
    "start_time": "2022-03-26T10:47:35.590Z"
   },
   {
    "duration": 26,
    "start_time": "2022-03-26T10:47:35.931Z"
   },
   {
    "duration": 519,
    "start_time": "2022-03-26T10:47:35.973Z"
   },
   {
    "duration": 129,
    "start_time": "2022-03-26T10:47:36.496Z"
   },
   {
    "duration": 40,
    "start_time": "2022-03-26T10:47:36.633Z"
   },
   {
    "duration": 193,
    "start_time": "2022-03-26T10:47:36.676Z"
   },
   {
    "duration": 463,
    "start_time": "2022-03-26T10:47:36.875Z"
   },
   {
    "duration": 44,
    "start_time": "2022-03-26T10:47:37.341Z"
   },
   {
    "duration": 381,
    "start_time": "2022-03-26T10:47:37.391Z"
   },
   {
    "duration": 6,
    "start_time": "2022-03-26T10:47:37.775Z"
   },
   {
    "duration": 20,
    "start_time": "2022-03-26T10:47:37.784Z"
   },
   {
    "duration": 12,
    "start_time": "2022-03-26T10:47:37.808Z"
   },
   {
    "duration": 13,
    "start_time": "2022-03-26T10:47:37.824Z"
   },
   {
    "duration": 7,
    "start_time": "2022-03-26T10:47:37.840Z"
   },
   {
    "duration": 101,
    "start_time": "2022-03-26T10:47:37.874Z"
   },
   {
    "duration": 29,
    "start_time": "2022-03-26T10:47:37.977Z"
   },
   {
    "duration": 67,
    "start_time": "2022-03-26T10:47:38.009Z"
   },
   {
    "duration": 15,
    "start_time": "2022-03-26T10:47:38.081Z"
   },
   {
    "duration": 24,
    "start_time": "2022-03-26T10:47:38.099Z"
   },
   {
    "duration": 18,
    "start_time": "2022-03-26T10:47:38.125Z"
   },
   {
    "duration": 59,
    "start_time": "2022-03-26T10:47:38.146Z"
   },
   {
    "duration": 9,
    "start_time": "2022-03-26T10:47:38.209Z"
   },
   {
    "duration": 3261,
    "start_time": "2022-03-26T10:47:38.221Z"
   },
   {
    "duration": 2446,
    "start_time": "2022-03-26T10:47:41.485Z"
   },
   {
    "duration": 2397,
    "start_time": "2022-03-26T10:47:43.933Z"
   },
   {
    "duration": 700,
    "start_time": "2022-03-26T10:47:46.333Z"
   },
   {
    "duration": 6,
    "start_time": "2022-03-26T10:47:47.039Z"
   },
   {
    "duration": 1177,
    "start_time": "2022-03-26T10:47:47.048Z"
   },
   {
    "duration": 7,
    "start_time": "2022-03-26T10:47:48.227Z"
   },
   {
    "duration": 6,
    "start_time": "2022-03-26T10:47:48.236Z"
   },
   {
    "duration": 32,
    "start_time": "2022-03-26T10:47:48.245Z"
   },
   {
    "duration": 7,
    "start_time": "2022-03-26T10:47:48.279Z"
   },
   {
    "duration": 958,
    "start_time": "2022-03-26T10:47:48.288Z"
   },
   {
    "duration": 4,
    "start_time": "2022-03-26T10:47:49.248Z"
   },
   {
    "duration": 27,
    "start_time": "2022-03-26T10:47:49.254Z"
   },
   {
    "duration": 7,
    "start_time": "2022-03-26T10:47:49.283Z"
   },
   {
    "duration": 11,
    "start_time": "2022-03-26T10:47:49.292Z"
   },
   {
    "duration": 7,
    "start_time": "2022-03-26T10:47:49.306Z"
   },
   {
    "duration": 16,
    "start_time": "2022-03-26T10:47:49.316Z"
   },
   {
    "duration": 3,
    "start_time": "2022-03-26T10:47:49.336Z"
   },
   {
    "duration": 5,
    "start_time": "2022-03-26T10:47:49.373Z"
   },
   {
    "duration": 12,
    "start_time": "2022-03-26T10:47:49.381Z"
   },
   {
    "duration": 8,
    "start_time": "2022-03-26T10:47:49.395Z"
   },
   {
    "duration": 144,
    "start_time": "2022-03-26T10:47:49.405Z"
   },
   {
    "duration": 0,
    "start_time": "2022-03-26T10:47:49.551Z"
   },
   {
    "duration": 0,
    "start_time": "2022-03-26T10:47:49.553Z"
   },
   {
    "duration": 0,
    "start_time": "2022-03-26T10:47:49.556Z"
   },
   {
    "duration": 16,
    "start_time": "2022-03-26T10:49:51.777Z"
   },
   {
    "duration": 14,
    "start_time": "2022-03-26T10:52:38.362Z"
   },
   {
    "duration": 3,
    "start_time": "2022-03-26T10:52:49.947Z"
   },
   {
    "duration": 146150,
    "start_time": "2022-03-26T10:52:50.937Z"
   },
   {
    "duration": 15,
    "start_time": "2022-03-26T10:59:19.297Z"
   },
   {
    "duration": 44,
    "start_time": "2022-03-26T11:19:23.257Z"
   },
   {
    "duration": 1719,
    "start_time": "2022-03-26T11:19:41.005Z"
   },
   {
    "duration": 278,
    "start_time": "2022-03-26T11:19:42.726Z"
   },
   {
    "duration": 19,
    "start_time": "2022-03-26T11:19:43.006Z"
   },
   {
    "duration": 218,
    "start_time": "2022-03-26T11:19:43.027Z"
   },
   {
    "duration": 100,
    "start_time": "2022-03-26T11:19:43.246Z"
   },
   {
    "duration": 17,
    "start_time": "2022-03-26T11:19:43.347Z"
   },
   {
    "duration": 178,
    "start_time": "2022-03-26T11:19:43.366Z"
   },
   {
    "duration": 503,
    "start_time": "2022-03-26T11:19:43.546Z"
   },
   {
    "duration": 17,
    "start_time": "2022-03-26T11:19:44.050Z"
   },
   {
    "duration": 225,
    "start_time": "2022-03-26T11:19:44.070Z"
   },
   {
    "duration": 5,
    "start_time": "2022-03-26T11:19:44.296Z"
   },
   {
    "duration": 20,
    "start_time": "2022-03-26T11:19:44.303Z"
   },
   {
    "duration": 7,
    "start_time": "2022-03-26T11:19:44.324Z"
   },
   {
    "duration": 6,
    "start_time": "2022-03-26T11:19:44.333Z"
   },
   {
    "duration": 4,
    "start_time": "2022-03-26T11:19:44.340Z"
   },
   {
    "duration": 80,
    "start_time": "2022-03-26T11:19:44.345Z"
   },
   {
    "duration": 12,
    "start_time": "2022-03-26T11:19:44.427Z"
   },
   {
    "duration": 18,
    "start_time": "2022-03-26T11:19:44.441Z"
   },
   {
    "duration": 6,
    "start_time": "2022-03-26T11:19:44.461Z"
   },
   {
    "duration": 38,
    "start_time": "2022-03-26T11:19:44.468Z"
   },
   {
    "duration": 8,
    "start_time": "2022-03-26T11:19:44.507Z"
   },
   {
    "duration": 20,
    "start_time": "2022-03-26T11:19:44.517Z"
   },
   {
    "duration": 4,
    "start_time": "2022-03-26T11:19:44.539Z"
   },
   {
    "duration": 2266,
    "start_time": "2022-03-26T11:19:44.544Z"
   },
   {
    "duration": 1763,
    "start_time": "2022-03-26T11:19:46.812Z"
   },
   {
    "duration": 1726,
    "start_time": "2022-03-26T11:19:48.576Z"
   },
   {
    "duration": 357,
    "start_time": "2022-03-26T11:19:50.304Z"
   },
   {
    "duration": 4,
    "start_time": "2022-03-26T11:19:50.665Z"
   },
   {
    "duration": 477,
    "start_time": "2022-03-26T11:19:50.671Z"
   },
   {
    "duration": 4,
    "start_time": "2022-03-26T11:19:51.150Z"
   },
   {
    "duration": 4,
    "start_time": "2022-03-26T11:19:51.157Z"
   },
   {
    "duration": 6,
    "start_time": "2022-03-26T11:19:51.163Z"
   },
   {
    "duration": 5,
    "start_time": "2022-03-26T11:19:51.171Z"
   },
   {
    "duration": 427,
    "start_time": "2022-03-26T11:19:51.177Z"
   },
   {
    "duration": 3,
    "start_time": "2022-03-26T11:19:51.606Z"
   },
   {
    "duration": 10,
    "start_time": "2022-03-26T11:19:51.610Z"
   },
   {
    "duration": 7,
    "start_time": "2022-03-26T11:19:51.621Z"
   },
   {
    "duration": 8,
    "start_time": "2022-03-26T11:19:51.629Z"
   },
   {
    "duration": 7,
    "start_time": "2022-03-26T11:19:51.639Z"
   },
   {
    "duration": 10,
    "start_time": "2022-03-26T11:19:51.647Z"
   },
   {
    "duration": 2,
    "start_time": "2022-03-26T11:19:51.658Z"
   },
   {
    "duration": 7,
    "start_time": "2022-03-26T11:19:51.662Z"
   },
   {
    "duration": 15,
    "start_time": "2022-03-26T11:19:51.670Z"
   },
   {
    "duration": 9,
    "start_time": "2022-03-26T11:19:51.686Z"
   },
   {
    "duration": 17,
    "start_time": "2022-03-26T11:19:51.697Z"
   },
   {
    "duration": 6,
    "start_time": "2022-03-26T11:19:51.715Z"
   },
   {
    "duration": 101509,
    "start_time": "2022-03-26T11:19:51.723Z"
   },
   {
    "duration": 4,
    "start_time": "2022-03-26T14:10:57.154Z"
   },
   {
    "duration": 262,
    "start_time": "2022-03-26T14:10:57.161Z"
   },
   {
    "duration": 15,
    "start_time": "2022-03-26T14:10:57.425Z"
   },
   {
    "duration": 206,
    "start_time": "2022-03-26T14:10:57.441Z"
   },
   {
    "duration": 88,
    "start_time": "2022-03-26T14:10:57.650Z"
   },
   {
    "duration": 14,
    "start_time": "2022-03-26T14:10:57.740Z"
   },
   {
    "duration": 121,
    "start_time": "2022-03-26T14:10:57.755Z"
   },
   {
    "duration": 324,
    "start_time": "2022-03-26T14:10:57.878Z"
   },
   {
    "duration": 15,
    "start_time": "2022-03-26T14:10:58.204Z"
   },
   {
    "duration": 232,
    "start_time": "2022-03-26T14:10:58.221Z"
   },
   {
    "duration": 3,
    "start_time": "2022-03-26T14:10:58.454Z"
   },
   {
    "duration": 6,
    "start_time": "2022-03-26T14:10:58.458Z"
   },
   {
    "duration": 7,
    "start_time": "2022-03-26T14:10:58.466Z"
   },
   {
    "duration": 27,
    "start_time": "2022-03-26T14:10:58.476Z"
   },
   {
    "duration": 6,
    "start_time": "2022-03-26T14:10:58.504Z"
   },
   {
    "duration": 21,
    "start_time": "2022-03-26T14:10:58.511Z"
   },
   {
    "duration": 14,
    "start_time": "2022-03-26T14:10:58.533Z"
   },
   {
    "duration": 19,
    "start_time": "2022-03-26T14:10:58.548Z"
   },
   {
    "duration": 37,
    "start_time": "2022-03-26T14:10:58.568Z"
   },
   {
    "duration": 12,
    "start_time": "2022-03-26T14:10:58.607Z"
   },
   {
    "duration": 8,
    "start_time": "2022-03-26T14:10:58.620Z"
   },
   {
    "duration": 22,
    "start_time": "2022-03-26T14:10:58.630Z"
   },
   {
    "duration": 5,
    "start_time": "2022-03-26T14:10:58.653Z"
   },
   {
    "duration": 3049,
    "start_time": "2022-03-26T14:10:58.660Z"
   },
   {
    "duration": 1898,
    "start_time": "2022-03-26T14:11:01.711Z"
   },
   {
    "duration": 1700,
    "start_time": "2022-03-26T14:11:03.611Z"
   },
   {
    "duration": 354,
    "start_time": "2022-03-26T14:11:05.313Z"
   },
   {
    "duration": 4,
    "start_time": "2022-03-26T14:11:05.669Z"
   },
   {
    "duration": 528,
    "start_time": "2022-03-26T14:11:05.675Z"
   },
   {
    "duration": 5,
    "start_time": "2022-03-26T14:11:06.205Z"
   },
   {
    "duration": 10,
    "start_time": "2022-03-26T14:11:06.212Z"
   },
   {
    "duration": 6,
    "start_time": "2022-03-26T14:11:06.224Z"
   },
   {
    "duration": 9,
    "start_time": "2022-03-26T14:11:06.232Z"
   },
   {
    "duration": 452,
    "start_time": "2022-03-26T14:11:06.243Z"
   },
   {
    "duration": 4,
    "start_time": "2022-03-26T14:11:06.697Z"
   },
   {
    "duration": 14,
    "start_time": "2022-03-26T14:11:06.702Z"
   },
   {
    "duration": 14,
    "start_time": "2022-03-26T14:11:06.718Z"
   },
   {
    "duration": 10,
    "start_time": "2022-03-26T14:11:06.734Z"
   },
   {
    "duration": 10,
    "start_time": "2022-03-26T14:11:06.746Z"
   },
   {
    "duration": 19,
    "start_time": "2022-03-26T14:11:06.758Z"
   },
   {
    "duration": 8,
    "start_time": "2022-03-26T14:11:06.781Z"
   },
   {
    "duration": 13,
    "start_time": "2022-03-26T14:11:06.790Z"
   },
   {
    "duration": 6,
    "start_time": "2022-03-26T14:11:06.805Z"
   },
   {
    "duration": 11,
    "start_time": "2022-03-26T14:11:06.812Z"
   },
   {
    "duration": 10,
    "start_time": "2022-03-26T14:11:06.824Z"
   },
   {
    "duration": 19,
    "start_time": "2022-03-26T14:11:06.836Z"
   },
   {
    "duration": 164619,
    "start_time": "2022-03-26T14:11:06.857Z"
   },
   {
    "duration": 1731,
    "start_time": "2022-03-27T06:04:00.849Z"
   },
   {
    "duration": 286,
    "start_time": "2022-03-27T06:04:02.583Z"
   },
   {
    "duration": 33,
    "start_time": "2022-03-27T06:04:02.872Z"
   },
   {
    "duration": 249,
    "start_time": "2022-03-27T06:04:02.907Z"
   },
   {
    "duration": 95,
    "start_time": "2022-03-27T06:04:03.158Z"
   },
   {
    "duration": 15,
    "start_time": "2022-03-27T06:04:03.255Z"
   },
   {
    "duration": 145,
    "start_time": "2022-03-27T06:04:03.272Z"
   },
   {
    "duration": 363,
    "start_time": "2022-03-27T06:04:03.419Z"
   },
   {
    "duration": 29,
    "start_time": "2022-03-27T06:04:03.784Z"
   },
   {
    "duration": 237,
    "start_time": "2022-03-27T06:04:03.815Z"
   },
   {
    "duration": 3,
    "start_time": "2022-03-27T06:04:04.054Z"
   },
   {
    "duration": 14,
    "start_time": "2022-03-27T06:04:04.058Z"
   },
   {
    "duration": 8,
    "start_time": "2022-03-27T06:04:04.074Z"
   },
   {
    "duration": 5,
    "start_time": "2022-03-27T06:04:04.101Z"
   },
   {
    "duration": 6,
    "start_time": "2022-03-27T06:04:04.108Z"
   },
   {
    "duration": 86,
    "start_time": "2022-03-27T06:04:04.115Z"
   },
   {
    "duration": 18,
    "start_time": "2022-03-27T06:04:04.203Z"
   },
   {
    "duration": 30,
    "start_time": "2022-03-27T06:04:04.223Z"
   },
   {
    "duration": 8,
    "start_time": "2022-03-27T06:04:04.255Z"
   },
   {
    "duration": 40,
    "start_time": "2022-03-27T06:04:04.265Z"
   },
   {
    "duration": 9,
    "start_time": "2022-03-27T06:04:04.308Z"
   },
   {
    "duration": 23,
    "start_time": "2022-03-27T06:04:04.319Z"
   },
   {
    "duration": 5,
    "start_time": "2022-03-27T06:04:04.345Z"
   },
   {
    "duration": 2383,
    "start_time": "2022-03-27T06:04:04.351Z"
   },
   {
    "duration": 1947,
    "start_time": "2022-03-27T06:04:06.736Z"
   },
   {
    "duration": 1796,
    "start_time": "2022-03-27T06:04:08.685Z"
   },
   {
    "duration": 402,
    "start_time": "2022-03-27T06:04:10.483Z"
   },
   {
    "duration": 16,
    "start_time": "2022-03-27T06:04:10.887Z"
   },
   {
    "duration": 538,
    "start_time": "2022-03-27T06:04:10.905Z"
   },
   {
    "duration": 6,
    "start_time": "2022-03-27T06:04:11.445Z"
   },
   {
    "duration": 8,
    "start_time": "2022-03-27T06:04:11.452Z"
   },
   {
    "duration": 12,
    "start_time": "2022-03-27T06:04:11.461Z"
   },
   {
    "duration": 13,
    "start_time": "2022-03-27T06:04:11.475Z"
   },
   {
    "duration": 511,
    "start_time": "2022-03-27T06:04:11.490Z"
   },
   {
    "duration": 3,
    "start_time": "2022-03-27T06:04:12.003Z"
   },
   {
    "duration": 13,
    "start_time": "2022-03-27T06:04:12.007Z"
   },
   {
    "duration": 7,
    "start_time": "2022-03-27T06:04:12.022Z"
   },
   {
    "duration": 10,
    "start_time": "2022-03-27T06:04:12.030Z"
   },
   {
    "duration": 6,
    "start_time": "2022-03-27T06:04:12.042Z"
   },
   {
    "duration": 10,
    "start_time": "2022-03-27T06:04:12.051Z"
   },
   {
    "duration": 2,
    "start_time": "2022-03-27T06:04:12.066Z"
   },
   {
    "duration": 31,
    "start_time": "2022-03-27T06:04:12.070Z"
   },
   {
    "duration": 5,
    "start_time": "2022-03-27T06:04:12.104Z"
   },
   {
    "duration": 18,
    "start_time": "2022-03-27T06:04:12.111Z"
   },
   {
    "duration": 135,
    "start_time": "2022-03-27T06:04:12.131Z"
   },
   {
    "duration": 0,
    "start_time": "2022-03-27T06:04:12.268Z"
   },
   {
    "duration": 0,
    "start_time": "2022-03-27T06:04:12.270Z"
   },
   {
    "duration": 0,
    "start_time": "2022-03-27T06:04:12.272Z"
   },
   {
    "duration": 0,
    "start_time": "2022-03-27T06:04:12.273Z"
   },
   {
    "duration": 3,
    "start_time": "2022-03-27T06:04:44.464Z"
   },
   {
    "duration": 12,
    "start_time": "2022-03-27T06:04:57.873Z"
   },
   {
    "duration": 10,
    "start_time": "2022-03-27T06:06:00.313Z"
   },
   {
    "duration": 10,
    "start_time": "2022-03-27T06:08:14.533Z"
   },
   {
    "duration": 12,
    "start_time": "2022-03-27T06:14:24.467Z"
   },
   {
    "duration": 11,
    "start_time": "2022-03-27T06:17:17.743Z"
   },
   {
    "duration": 5,
    "start_time": "2022-03-27T06:17:23.545Z"
   },
   {
    "duration": 292,
    "start_time": "2022-03-27T06:17:23.553Z"
   },
   {
    "duration": 18,
    "start_time": "2022-03-27T06:17:23.846Z"
   },
   {
    "duration": 304,
    "start_time": "2022-03-27T06:17:23.867Z"
   },
   {
    "duration": 128,
    "start_time": "2022-03-27T06:17:24.174Z"
   },
   {
    "duration": 18,
    "start_time": "2022-03-27T06:17:24.304Z"
   },
   {
    "duration": 178,
    "start_time": "2022-03-27T06:17:24.324Z"
   },
   {
    "duration": 523,
    "start_time": "2022-03-27T06:17:24.504Z"
   },
   {
    "duration": 26,
    "start_time": "2022-03-27T06:17:25.029Z"
   },
   {
    "duration": 327,
    "start_time": "2022-03-27T06:17:25.057Z"
   },
   {
    "duration": 3,
    "start_time": "2022-03-27T06:17:25.386Z"
   },
   {
    "duration": 9,
    "start_time": "2022-03-27T06:17:25.401Z"
   },
   {
    "duration": 14,
    "start_time": "2022-03-27T06:17:25.413Z"
   },
   {
    "duration": 10,
    "start_time": "2022-03-27T06:17:25.431Z"
   },
   {
    "duration": 12,
    "start_time": "2022-03-27T06:17:25.443Z"
   },
   {
    "duration": 26,
    "start_time": "2022-03-27T06:17:25.457Z"
   },
   {
    "duration": 18,
    "start_time": "2022-03-27T06:17:25.501Z"
   },
   {
    "duration": 30,
    "start_time": "2022-03-27T06:17:25.521Z"
   },
   {
    "duration": 9,
    "start_time": "2022-03-27T06:17:25.553Z"
   },
   {
    "duration": 40,
    "start_time": "2022-03-27T06:17:25.563Z"
   },
   {
    "duration": 9,
    "start_time": "2022-03-27T06:17:25.605Z"
   },
   {
    "duration": 30,
    "start_time": "2022-03-27T06:17:25.616Z"
   },
   {
    "duration": 14,
    "start_time": "2022-03-27T06:17:25.648Z"
   },
   {
    "duration": 2368,
    "start_time": "2022-03-27T06:17:25.663Z"
   },
   {
    "duration": 1842,
    "start_time": "2022-03-27T06:17:28.033Z"
   },
   {
    "duration": 2111,
    "start_time": "2022-03-27T06:17:29.876Z"
   },
   {
    "duration": 591,
    "start_time": "2022-03-27T06:17:31.988Z"
   },
   {
    "duration": 7,
    "start_time": "2022-03-27T06:17:32.581Z"
   },
   {
    "duration": 574,
    "start_time": "2022-03-27T06:17:32.602Z"
   },
   {
    "duration": 5,
    "start_time": "2022-03-27T06:17:33.178Z"
   },
   {
    "duration": 18,
    "start_time": "2022-03-27T06:17:33.185Z"
   },
   {
    "duration": 9,
    "start_time": "2022-03-27T06:17:33.206Z"
   },
   {
    "duration": 20,
    "start_time": "2022-03-27T06:17:33.218Z"
   },
   {
    "duration": 629,
    "start_time": "2022-03-27T06:17:33.240Z"
   },
   {
    "duration": 6,
    "start_time": "2022-03-27T06:17:33.871Z"
   },
   {
    "duration": 24,
    "start_time": "2022-03-27T06:17:33.879Z"
   },
   {
    "duration": 7,
    "start_time": "2022-03-27T06:17:33.905Z"
   },
   {
    "duration": 9,
    "start_time": "2022-03-27T06:17:33.914Z"
   },
   {
    "duration": 14,
    "start_time": "2022-03-27T06:17:33.925Z"
   },
   {
    "duration": 5,
    "start_time": "2022-03-27T06:17:33.941Z"
   },
   {
    "duration": 8,
    "start_time": "2022-03-27T06:17:33.951Z"
   },
   {
    "duration": 7,
    "start_time": "2022-03-27T06:17:33.961Z"
   },
   {
    "duration": 16,
    "start_time": "2022-03-27T06:17:33.970Z"
   },
   {
    "duration": 10,
    "start_time": "2022-03-27T06:17:33.988Z"
   },
   {
    "duration": 20,
    "start_time": "2022-03-27T06:17:34.002Z"
   },
   {
    "duration": 10,
    "start_time": "2022-03-27T06:17:34.024Z"
   },
   {
    "duration": 265,
    "start_time": "2022-03-27T06:17:34.036Z"
   },
   {
    "duration": 1700,
    "start_time": "2022-03-27T06:17:34.303Z"
   },
   {
    "duration": 4,
    "start_time": "2022-03-27T06:17:36.005Z"
   },
   {
    "duration": 24,
    "start_time": "2022-03-27T06:17:36.010Z"
   },
   {
    "duration": 5,
    "start_time": "2022-03-27T06:21:24.730Z"
   },
   {
    "duration": 2,
    "start_time": "2022-03-27T06:21:42.450Z"
   },
   {
    "duration": 18,
    "start_time": "2022-03-27T06:21:52.950Z"
   },
   {
    "duration": 6,
    "start_time": "2022-03-27T06:22:27.141Z"
   },
   {
    "duration": 3,
    "start_time": "2022-03-27T06:22:27.765Z"
   },
   {
    "duration": 17,
    "start_time": "2022-03-27T06:22:29.647Z"
   },
   {
    "duration": 23,
    "start_time": "2022-03-27T06:22:44.566Z"
   },
   {
    "duration": 5,
    "start_time": "2022-03-27T06:22:50.552Z"
   },
   {
    "duration": 432,
    "start_time": "2022-03-27T06:22:50.560Z"
   },
   {
    "duration": 30,
    "start_time": "2022-03-27T06:22:50.994Z"
   },
   {
    "duration": 228,
    "start_time": "2022-03-27T06:22:51.026Z"
   },
   {
    "duration": 94,
    "start_time": "2022-03-27T06:22:51.256Z"
   },
   {
    "duration": 15,
    "start_time": "2022-03-27T06:22:51.351Z"
   },
   {
    "duration": 140,
    "start_time": "2022-03-27T06:22:51.369Z"
   },
   {
    "duration": 372,
    "start_time": "2022-03-27T06:22:51.511Z"
   },
   {
    "duration": 32,
    "start_time": "2022-03-27T06:22:51.884Z"
   },
   {
    "duration": 246,
    "start_time": "2022-03-27T06:22:51.918Z"
   },
   {
    "duration": 3,
    "start_time": "2022-03-27T06:22:52.166Z"
   },
   {
    "duration": 12,
    "start_time": "2022-03-27T06:22:52.171Z"
   },
   {
    "duration": 21,
    "start_time": "2022-03-27T06:22:52.185Z"
   },
   {
    "duration": 14,
    "start_time": "2022-03-27T06:22:52.210Z"
   },
   {
    "duration": 9,
    "start_time": "2022-03-27T06:22:52.226Z"
   },
   {
    "duration": 27,
    "start_time": "2022-03-27T06:22:52.237Z"
   },
   {
    "duration": 35,
    "start_time": "2022-03-27T06:22:52.266Z"
   },
   {
    "duration": 22,
    "start_time": "2022-03-27T06:22:52.303Z"
   },
   {
    "duration": 7,
    "start_time": "2022-03-27T06:22:52.327Z"
   },
   {
    "duration": 12,
    "start_time": "2022-03-27T06:22:52.336Z"
   },
   {
    "duration": 9,
    "start_time": "2022-03-27T06:22:52.350Z"
   },
   {
    "duration": 51,
    "start_time": "2022-03-27T06:22:52.361Z"
   },
   {
    "duration": 5,
    "start_time": "2022-03-27T06:22:52.414Z"
   },
   {
    "duration": 2603,
    "start_time": "2022-03-27T06:22:52.422Z"
   },
   {
    "duration": 1858,
    "start_time": "2022-03-27T06:22:55.027Z"
   },
   {
    "duration": 1896,
    "start_time": "2022-03-27T06:22:56.888Z"
   },
   {
    "duration": 408,
    "start_time": "2022-03-27T06:22:58.785Z"
   },
   {
    "duration": 10,
    "start_time": "2022-03-27T06:22:59.195Z"
   },
   {
    "duration": 378,
    "start_time": "2022-03-27T06:22:59.207Z"
   },
   {
    "duration": 14,
    "start_time": "2022-03-27T06:22:59.587Z"
   },
   {
    "duration": 5,
    "start_time": "2022-03-27T06:22:59.604Z"
   },
   {
    "duration": 8,
    "start_time": "2022-03-27T06:22:59.611Z"
   },
   {
    "duration": 6,
    "start_time": "2022-03-27T06:22:59.620Z"
   },
   {
    "duration": 636,
    "start_time": "2022-03-27T06:22:59.627Z"
   },
   {
    "duration": 3,
    "start_time": "2022-03-27T06:23:00.265Z"
   },
   {
    "duration": 13,
    "start_time": "2022-03-27T06:23:00.269Z"
   },
   {
    "duration": 8,
    "start_time": "2022-03-27T06:23:00.284Z"
   },
   {
    "duration": 8,
    "start_time": "2022-03-27T06:23:00.294Z"
   },
   {
    "duration": 7,
    "start_time": "2022-03-27T06:23:00.305Z"
   },
   {
    "duration": 10,
    "start_time": "2022-03-27T06:23:00.313Z"
   },
   {
    "duration": 7,
    "start_time": "2022-03-27T06:23:00.328Z"
   },
   {
    "duration": 8,
    "start_time": "2022-03-27T06:23:00.337Z"
   },
   {
    "duration": 13,
    "start_time": "2022-03-27T06:23:00.347Z"
   },
   {
    "duration": 16,
    "start_time": "2022-03-27T06:23:00.362Z"
   },
   {
    "duration": 23,
    "start_time": "2022-03-27T06:23:00.380Z"
   },
   {
    "duration": 10,
    "start_time": "2022-03-27T06:23:00.405Z"
   },
   {
    "duration": 9,
    "start_time": "2022-03-27T06:23:00.417Z"
   },
   {
    "duration": 177,
    "start_time": "2022-03-27T06:23:00.428Z"
   },
   {
    "duration": 2196,
    "start_time": "2022-03-27T06:23:00.608Z"
   },
   {
    "duration": 3,
    "start_time": "2022-03-27T06:23:02.806Z"
   },
   {
    "duration": 15,
    "start_time": "2022-03-27T06:23:02.811Z"
   },
   {
    "duration": 11,
    "start_time": "2022-03-27T06:23:53.622Z"
   },
   {
    "duration": 3,
    "start_time": "2022-03-27T06:23:55.950Z"
   },
   {
    "duration": 3,
    "start_time": "2022-03-27T06:24:35.674Z"
   },
   {
    "duration": 3,
    "start_time": "2022-03-27T06:24:38.290Z"
   },
   {
    "duration": 3,
    "start_time": "2022-03-27T06:24:39.775Z"
   },
   {
    "duration": 2,
    "start_time": "2022-03-27T06:24:41.339Z"
   },
   {
    "duration": 3,
    "start_time": "2022-03-27T06:24:41.712Z"
   },
   {
    "duration": 2,
    "start_time": "2022-03-27T06:24:45.792Z"
   },
   {
    "duration": 3,
    "start_time": "2022-03-27T06:24:47.256Z"
   },
   {
    "duration": 1978,
    "start_time": "2022-03-27T06:25:17.634Z"
   },
   {
    "duration": 5,
    "start_time": "2022-03-27T06:25:45.336Z"
   },
   {
    "duration": 302,
    "start_time": "2022-03-27T06:25:45.342Z"
   },
   {
    "duration": 19,
    "start_time": "2022-03-27T06:25:45.646Z"
   },
   {
    "duration": 236,
    "start_time": "2022-03-27T06:25:45.667Z"
   },
   {
    "duration": 82,
    "start_time": "2022-03-27T06:25:45.906Z"
   },
   {
    "duration": 16,
    "start_time": "2022-03-27T06:25:46.002Z"
   },
   {
    "duration": 163,
    "start_time": "2022-03-27T06:25:46.020Z"
   },
   {
    "duration": 365,
    "start_time": "2022-03-27T06:25:46.186Z"
   },
   {
    "duration": 25,
    "start_time": "2022-03-27T06:25:46.553Z"
   },
   {
    "duration": 286,
    "start_time": "2022-03-27T06:25:46.580Z"
   },
   {
    "duration": 4,
    "start_time": "2022-03-27T06:25:46.868Z"
   },
   {
    "duration": 10,
    "start_time": "2022-03-27T06:25:46.874Z"
   },
   {
    "duration": 16,
    "start_time": "2022-03-27T06:25:46.887Z"
   },
   {
    "duration": 5,
    "start_time": "2022-03-27T06:25:46.906Z"
   },
   {
    "duration": 7,
    "start_time": "2022-03-27T06:25:46.913Z"
   },
   {
    "duration": 26,
    "start_time": "2022-03-27T06:25:46.922Z"
   },
   {
    "duration": 17,
    "start_time": "2022-03-27T06:25:46.949Z"
   },
   {
    "duration": 65,
    "start_time": "2022-03-27T06:25:46.968Z"
   },
   {
    "duration": 11,
    "start_time": "2022-03-27T06:25:47.035Z"
   },
   {
    "duration": 16,
    "start_time": "2022-03-27T06:25:47.048Z"
   },
   {
    "duration": 39,
    "start_time": "2022-03-27T06:25:47.066Z"
   },
   {
    "duration": 20,
    "start_time": "2022-03-27T06:25:47.107Z"
   },
   {
    "duration": 5,
    "start_time": "2022-03-27T06:25:47.129Z"
   },
   {
    "duration": 2230,
    "start_time": "2022-03-27T06:25:47.136Z"
   },
   {
    "duration": 2038,
    "start_time": "2022-03-27T06:25:49.368Z"
   },
   {
    "duration": 2370,
    "start_time": "2022-03-27T06:25:51.409Z"
   },
   {
    "duration": 424,
    "start_time": "2022-03-27T06:25:53.781Z"
   },
   {
    "duration": 5,
    "start_time": "2022-03-27T06:25:54.208Z"
   },
   {
    "duration": 408,
    "start_time": "2022-03-27T06:25:54.215Z"
   },
   {
    "duration": 5,
    "start_time": "2022-03-27T06:25:54.625Z"
   },
   {
    "duration": 9,
    "start_time": "2022-03-27T06:25:54.632Z"
   },
   {
    "duration": 7,
    "start_time": "2022-03-27T06:25:54.643Z"
   },
   {
    "duration": 10,
    "start_time": "2022-03-27T06:25:54.651Z"
   },
   {
    "duration": 505,
    "start_time": "2022-03-27T06:25:54.663Z"
   },
   {
    "duration": 5,
    "start_time": "2022-03-27T06:25:55.169Z"
   },
   {
    "duration": 6,
    "start_time": "2022-03-27T06:25:55.176Z"
   },
   {
    "duration": 25,
    "start_time": "2022-03-27T06:25:55.184Z"
   },
   {
    "duration": 6,
    "start_time": "2022-03-27T06:25:55.211Z"
   },
   {
    "duration": 6,
    "start_time": "2022-03-27T06:25:55.219Z"
   },
   {
    "duration": 3074,
    "start_time": "2022-03-27T06:25:55.227Z"
   },
   {
    "duration": 1436,
    "start_time": "2022-03-27T06:27:35.667Z"
   },
   {
    "duration": 33868,
    "start_time": "2022-03-27T06:27:39.048Z"
   },
   {
    "duration": 37483,
    "start_time": "2022-03-27T06:30:22.321Z"
   },
   {
    "duration": 4,
    "start_time": "2022-03-27T06:38:32.506Z"
   },
   {
    "duration": 4,
    "start_time": "2022-03-27T06:38:42.393Z"
   },
   {
    "duration": 4,
    "start_time": "2022-03-27T06:39:26.423Z"
   },
   {
    "duration": 0,
    "start_time": "2022-03-27T06:45:19.116Z"
   },
   {
    "duration": 0,
    "start_time": "2022-03-27T06:45:19.117Z"
   },
   {
    "duration": 0,
    "start_time": "2022-03-27T06:45:19.118Z"
   },
   {
    "duration": 0,
    "start_time": "2022-03-27T06:45:19.119Z"
   },
   {
    "duration": 0,
    "start_time": "2022-03-27T06:45:19.121Z"
   },
   {
    "duration": 0,
    "start_time": "2022-03-27T06:45:19.122Z"
   },
   {
    "duration": 0,
    "start_time": "2022-03-27T06:45:19.124Z"
   },
   {
    "duration": 0,
    "start_time": "2022-03-27T06:45:19.126Z"
   },
   {
    "duration": 0,
    "start_time": "2022-03-27T06:45:19.127Z"
   },
   {
    "duration": 0,
    "start_time": "2022-03-27T06:45:19.129Z"
   },
   {
    "duration": 0,
    "start_time": "2022-03-27T06:45:19.130Z"
   },
   {
    "duration": 0,
    "start_time": "2022-03-27T06:45:19.132Z"
   },
   {
    "duration": 0,
    "start_time": "2022-03-27T06:45:19.133Z"
   },
   {
    "duration": 0,
    "start_time": "2022-03-27T06:45:19.134Z"
   },
   {
    "duration": 0,
    "start_time": "2022-03-27T06:45:19.135Z"
   },
   {
    "duration": 0,
    "start_time": "2022-03-27T06:45:19.136Z"
   },
   {
    "duration": 0,
    "start_time": "2022-03-27T06:45:19.202Z"
   },
   {
    "duration": 0,
    "start_time": "2022-03-27T06:45:19.203Z"
   },
   {
    "duration": 0,
    "start_time": "2022-03-27T06:45:19.205Z"
   },
   {
    "duration": 0,
    "start_time": "2022-03-27T06:45:19.207Z"
   },
   {
    "duration": 0,
    "start_time": "2022-03-27T06:45:19.208Z"
   },
   {
    "duration": 0,
    "start_time": "2022-03-27T06:45:19.210Z"
   },
   {
    "duration": 0,
    "start_time": "2022-03-27T06:45:19.211Z"
   },
   {
    "duration": 0,
    "start_time": "2022-03-27T06:45:19.212Z"
   },
   {
    "duration": 0,
    "start_time": "2022-03-27T06:45:19.214Z"
   },
   {
    "duration": 0,
    "start_time": "2022-03-27T06:45:19.216Z"
   },
   {
    "duration": 0,
    "start_time": "2022-03-27T06:45:19.217Z"
   },
   {
    "duration": 0,
    "start_time": "2022-03-27T06:45:19.219Z"
   },
   {
    "duration": 0,
    "start_time": "2022-03-27T06:45:19.220Z"
   },
   {
    "duration": 0,
    "start_time": "2022-03-27T06:45:19.222Z"
   },
   {
    "duration": 0,
    "start_time": "2022-03-27T06:45:19.223Z"
   },
   {
    "duration": 0,
    "start_time": "2022-03-27T06:45:19.225Z"
   },
   {
    "duration": 0,
    "start_time": "2022-03-27T06:45:19.226Z"
   },
   {
    "duration": 0,
    "start_time": "2022-03-27T06:45:19.228Z"
   },
   {
    "duration": 0,
    "start_time": "2022-03-27T06:45:19.229Z"
   },
   {
    "duration": 0,
    "start_time": "2022-03-27T06:45:19.231Z"
   },
   {
    "duration": 0,
    "start_time": "2022-03-27T06:45:19.232Z"
   },
   {
    "duration": 0,
    "start_time": "2022-03-27T06:45:19.234Z"
   },
   {
    "duration": 0,
    "start_time": "2022-03-27T06:45:19.235Z"
   },
   {
    "duration": 0,
    "start_time": "2022-03-27T06:45:19.237Z"
   },
   {
    "duration": 0,
    "start_time": "2022-03-27T06:45:19.302Z"
   },
   {
    "duration": 0,
    "start_time": "2022-03-27T06:45:19.304Z"
   },
   {
    "duration": 6,
    "start_time": "2022-03-27T06:50:04.495Z"
   },
   {
    "duration": 315,
    "start_time": "2022-03-27T06:50:04.504Z"
   },
   {
    "duration": 19,
    "start_time": "2022-03-27T06:50:04.821Z"
   },
   {
    "duration": 244,
    "start_time": "2022-03-27T06:50:04.843Z"
   },
   {
    "duration": 92,
    "start_time": "2022-03-27T06:50:05.089Z"
   },
   {
    "duration": 31,
    "start_time": "2022-03-27T06:50:05.183Z"
   },
   {
    "duration": 138,
    "start_time": "2022-03-27T06:50:05.215Z"
   },
   {
    "duration": 390,
    "start_time": "2022-03-27T06:50:05.355Z"
   },
   {
    "duration": 20,
    "start_time": "2022-03-27T06:50:05.748Z"
   },
   {
    "duration": 268,
    "start_time": "2022-03-27T06:50:05.770Z"
   },
   {
    "duration": 3,
    "start_time": "2022-03-27T06:50:06.040Z"
   },
   {
    "duration": 12,
    "start_time": "2022-03-27T06:50:06.045Z"
   },
   {
    "duration": 11,
    "start_time": "2022-03-27T06:50:06.059Z"
   },
   {
    "duration": 29,
    "start_time": "2022-03-27T06:50:06.072Z"
   },
   {
    "duration": 5,
    "start_time": "2022-03-27T06:50:06.103Z"
   },
   {
    "duration": 26,
    "start_time": "2022-03-27T06:50:06.110Z"
   },
   {
    "duration": 16,
    "start_time": "2022-03-27T06:50:06.138Z"
   },
   {
    "duration": 54,
    "start_time": "2022-03-27T06:50:06.156Z"
   },
   {
    "duration": 7,
    "start_time": "2022-03-27T06:50:06.212Z"
   },
   {
    "duration": 20,
    "start_time": "2022-03-27T06:50:06.221Z"
   },
   {
    "duration": 11,
    "start_time": "2022-03-27T06:50:06.243Z"
   },
   {
    "duration": 47,
    "start_time": "2022-03-27T06:50:06.256Z"
   },
   {
    "duration": 6,
    "start_time": "2022-03-27T06:50:06.305Z"
   },
   {
    "duration": 2241,
    "start_time": "2022-03-27T06:50:06.314Z"
   },
   {
    "duration": 1828,
    "start_time": "2022-03-27T06:50:08.558Z"
   },
   {
    "duration": 2002,
    "start_time": "2022-03-27T06:50:10.389Z"
   },
   {
    "duration": 402,
    "start_time": "2022-03-27T06:50:12.401Z"
   },
   {
    "duration": 5,
    "start_time": "2022-03-27T06:50:12.805Z"
   },
   {
    "duration": 391,
    "start_time": "2022-03-27T06:50:12.812Z"
   },
   {
    "duration": 6,
    "start_time": "2022-03-27T06:50:13.206Z"
   },
   {
    "duration": 11,
    "start_time": "2022-03-27T06:50:13.214Z"
   },
   {
    "duration": 6,
    "start_time": "2022-03-27T06:50:13.227Z"
   },
   {
    "duration": 12,
    "start_time": "2022-03-27T06:50:13.234Z"
   },
   {
    "duration": 636,
    "start_time": "2022-03-27T06:50:13.248Z"
   },
   {
    "duration": 5,
    "start_time": "2022-03-27T06:50:13.886Z"
   },
   {
    "duration": 4,
    "start_time": "2022-03-27T06:50:13.900Z"
   },
   {
    "duration": 12,
    "start_time": "2022-03-27T06:50:13.906Z"
   },
   {
    "duration": 6,
    "start_time": "2022-03-27T06:50:13.920Z"
   },
   {
    "duration": 9,
    "start_time": "2022-03-27T06:50:13.928Z"
   },
   {
    "duration": 6,
    "start_time": "2022-03-27T06:50:13.939Z"
   },
   {
    "duration": 140845,
    "start_time": "2022-03-27T06:50:13.947Z"
   },
   {
    "duration": 3,
    "start_time": "2022-03-27T06:52:34.793Z"
   },
   {
    "duration": 4,
    "start_time": "2022-03-27T06:58:31.699Z"
   },
   {
    "duration": 1424,
    "start_time": "2022-03-27T06:58:39.279Z"
   },
   {
    "duration": 1369,
    "start_time": "2022-03-27T06:58:54.132Z"
   },
   {
    "duration": 5102,
    "start_time": "2022-03-27T06:59:17.847Z"
   },
   {
    "duration": 1883,
    "start_time": "2022-03-27T07:00:10.218Z"
   },
   {
    "duration": 32876,
    "start_time": "2022-03-27T07:00:43.001Z"
   },
   {
    "duration": 5,
    "start_time": "2022-03-27T07:05:58.921Z"
   },
   {
    "duration": 2,
    "start_time": "2022-03-27T07:06:45.986Z"
   },
   {
    "duration": 18,
    "start_time": "2022-03-27T07:06:59.079Z"
   },
   {
    "duration": 9,
    "start_time": "2022-03-27T07:07:39.430Z"
   },
   {
    "duration": 3,
    "start_time": "2022-03-27T07:07:54.176Z"
   },
   {
    "duration": 11,
    "start_time": "2022-03-27T07:08:20.939Z"
   },
   {
    "duration": 5,
    "start_time": "2022-03-27T07:08:41.773Z"
   },
   {
    "duration": 429,
    "start_time": "2022-03-27T07:08:41.780Z"
   },
   {
    "duration": 24,
    "start_time": "2022-03-27T07:08:42.211Z"
   },
   {
    "duration": 320,
    "start_time": "2022-03-27T07:08:42.237Z"
   },
   {
    "duration": 124,
    "start_time": "2022-03-27T07:08:42.559Z"
   },
   {
    "duration": 26,
    "start_time": "2022-03-27T07:08:42.685Z"
   },
   {
    "duration": 177,
    "start_time": "2022-03-27T07:08:42.713Z"
   },
   {
    "duration": 548,
    "start_time": "2022-03-27T07:08:42.892Z"
   },
   {
    "duration": 19,
    "start_time": "2022-03-27T07:08:43.443Z"
   },
   {
    "duration": 263,
    "start_time": "2022-03-27T07:08:43.464Z"
   },
   {
    "duration": 3,
    "start_time": "2022-03-27T07:08:43.730Z"
   },
   {
    "duration": 10,
    "start_time": "2022-03-27T07:08:43.735Z"
   },
   {
    "duration": 11,
    "start_time": "2022-03-27T07:08:43.748Z"
   },
   {
    "duration": 37,
    "start_time": "2022-03-27T07:08:43.764Z"
   },
   {
    "duration": 5,
    "start_time": "2022-03-27T07:08:43.803Z"
   },
   {
    "duration": 35,
    "start_time": "2022-03-27T07:08:43.810Z"
   },
   {
    "duration": 20,
    "start_time": "2022-03-27T07:08:43.847Z"
   },
   {
    "duration": 50,
    "start_time": "2022-03-27T07:08:43.869Z"
   },
   {
    "duration": 8,
    "start_time": "2022-03-27T07:08:43.921Z"
   },
   {
    "duration": 13,
    "start_time": "2022-03-27T07:08:43.931Z"
   },
   {
    "duration": 10,
    "start_time": "2022-03-27T07:08:43.946Z"
   },
   {
    "duration": 56,
    "start_time": "2022-03-27T07:08:43.958Z"
   },
   {
    "duration": 6,
    "start_time": "2022-03-27T07:08:44.016Z"
   },
   {
    "duration": 2812,
    "start_time": "2022-03-27T07:08:44.024Z"
   },
   {
    "duration": 1990,
    "start_time": "2022-03-27T07:08:46.838Z"
   },
   {
    "duration": 1952,
    "start_time": "2022-03-27T07:08:48.830Z"
   },
   {
    "duration": 447,
    "start_time": "2022-03-27T07:08:50.784Z"
   },
   {
    "duration": 6,
    "start_time": "2022-03-27T07:08:51.233Z"
   },
   {
    "duration": 503,
    "start_time": "2022-03-27T07:08:51.241Z"
   },
   {
    "duration": 5,
    "start_time": "2022-03-27T07:08:51.746Z"
   },
   {
    "duration": 6,
    "start_time": "2022-03-27T07:08:51.753Z"
   },
   {
    "duration": 5,
    "start_time": "2022-03-27T07:08:51.761Z"
   },
   {
    "duration": 33,
    "start_time": "2022-03-27T07:08:51.768Z"
   },
   {
    "duration": 629,
    "start_time": "2022-03-27T07:08:51.803Z"
   },
   {
    "duration": 5,
    "start_time": "2022-03-27T07:08:52.434Z"
   },
   {
    "duration": 7,
    "start_time": "2022-03-27T07:08:52.441Z"
   },
   {
    "duration": 13,
    "start_time": "2022-03-27T07:08:52.449Z"
   },
   {
    "duration": 7,
    "start_time": "2022-03-27T07:08:52.464Z"
   },
   {
    "duration": 30,
    "start_time": "2022-03-27T07:08:52.473Z"
   },
   {
    "duration": 0,
    "start_time": "2022-03-27T07:08:52.505Z"
   },
   {
    "duration": 0,
    "start_time": "2022-03-27T07:08:52.507Z"
   },
   {
    "duration": 0,
    "start_time": "2022-03-27T07:08:52.508Z"
   },
   {
    "duration": 0,
    "start_time": "2022-03-27T07:08:52.510Z"
   },
   {
    "duration": 0,
    "start_time": "2022-03-27T07:08:52.512Z"
   },
   {
    "duration": 0,
    "start_time": "2022-03-27T07:08:52.514Z"
   },
   {
    "duration": 161,
    "start_time": "2022-03-27T07:09:44.241Z"
   },
   {
    "duration": 1832,
    "start_time": "2022-03-27T07:09:45.771Z"
   },
   {
    "duration": 1310,
    "start_time": "2022-03-27T07:11:56.494Z"
   },
   {
    "duration": 183,
    "start_time": "2022-03-27T07:13:05.624Z"
   },
   {
    "duration": 34033,
    "start_time": "2022-03-27T07:13:16.591Z"
   },
   {
    "duration": 520,
    "start_time": "2022-03-27T07:15:39.876Z"
   },
   {
    "duration": 34960,
    "start_time": "2022-03-27T07:17:23.588Z"
   },
   {
    "duration": 34058,
    "start_time": "2022-03-27T07:18:14.605Z"
   },
   {
    "duration": 5066,
    "start_time": "2022-03-27T07:18:59.942Z"
   },
   {
    "duration": 6479,
    "start_time": "2022-03-27T07:19:18.366Z"
   },
   {
    "duration": 3721,
    "start_time": "2022-03-27T07:19:32.247Z"
   },
   {
    "duration": 5059,
    "start_time": "2022-03-27T07:19:42.967Z"
   },
   {
    "duration": 5211,
    "start_time": "2022-03-27T07:20:18.125Z"
   },
   {
    "duration": 1517,
    "start_time": "2022-03-27T07:20:38.187Z"
   },
   {
    "duration": 5,
    "start_time": "2022-03-27T07:24:35.659Z"
   },
   {
    "duration": 3,
    "start_time": "2022-03-27T07:24:36.689Z"
   },
   {
    "duration": 18,
    "start_time": "2022-03-27T07:24:37.117Z"
   },
   {
    "duration": 4,
    "start_time": "2022-03-27T07:25:19.747Z"
   },
   {
    "duration": 328,
    "start_time": "2022-03-27T07:25:19.754Z"
   },
   {
    "duration": 19,
    "start_time": "2022-03-27T07:25:20.084Z"
   },
   {
    "duration": 243,
    "start_time": "2022-03-27T07:25:20.105Z"
   },
   {
    "duration": 87,
    "start_time": "2022-03-27T07:25:20.351Z"
   },
   {
    "duration": 13,
    "start_time": "2022-03-27T07:25:20.440Z"
   },
   {
    "duration": 140,
    "start_time": "2022-03-27T07:25:20.455Z"
   },
   {
    "duration": 364,
    "start_time": "2022-03-27T07:25:20.601Z"
   },
   {
    "duration": 20,
    "start_time": "2022-03-27T07:25:20.967Z"
   },
   {
    "duration": 255,
    "start_time": "2022-03-27T07:25:21.002Z"
   },
   {
    "duration": 3,
    "start_time": "2022-03-27T07:25:21.259Z"
   },
   {
    "duration": 9,
    "start_time": "2022-03-27T07:25:21.264Z"
   },
   {
    "duration": 28,
    "start_time": "2022-03-27T07:25:21.275Z"
   },
   {
    "duration": 6,
    "start_time": "2022-03-27T07:25:21.308Z"
   },
   {
    "duration": 16,
    "start_time": "2022-03-27T07:25:21.315Z"
   },
   {
    "duration": 30,
    "start_time": "2022-03-27T07:25:21.333Z"
   },
   {
    "duration": 39,
    "start_time": "2022-03-27T07:25:21.365Z"
   },
   {
    "duration": 24,
    "start_time": "2022-03-27T07:25:21.406Z"
   },
   {
    "duration": 9,
    "start_time": "2022-03-27T07:25:21.432Z"
   },
   {
    "duration": 15,
    "start_time": "2022-03-27T07:25:21.443Z"
   },
   {
    "duration": 42,
    "start_time": "2022-03-27T07:25:21.461Z"
   },
   {
    "duration": 20,
    "start_time": "2022-03-27T07:25:21.505Z"
   },
   {
    "duration": 5,
    "start_time": "2022-03-27T07:25:21.527Z"
   },
   {
    "duration": 2347,
    "start_time": "2022-03-27T07:25:21.534Z"
   },
   {
    "duration": 1922,
    "start_time": "2022-03-27T07:25:23.884Z"
   },
   {
    "duration": 1887,
    "start_time": "2022-03-27T07:25:25.808Z"
   },
   {
    "duration": 404,
    "start_time": "2022-03-27T07:25:27.701Z"
   },
   {
    "duration": 7,
    "start_time": "2022-03-27T07:25:28.107Z"
   },
   {
    "duration": 394,
    "start_time": "2022-03-27T07:25:28.116Z"
   },
   {
    "duration": 5,
    "start_time": "2022-03-27T07:25:28.513Z"
   },
   {
    "duration": 12,
    "start_time": "2022-03-27T07:25:28.520Z"
   },
   {
    "duration": 8,
    "start_time": "2022-03-27T07:25:28.534Z"
   },
   {
    "duration": 10,
    "start_time": "2022-03-27T07:25:28.544Z"
   },
   {
    "duration": 640,
    "start_time": "2022-03-27T07:25:28.555Z"
   },
   {
    "duration": 5,
    "start_time": "2022-03-27T07:25:29.201Z"
   },
   {
    "duration": 8,
    "start_time": "2022-03-27T07:25:29.207Z"
   },
   {
    "duration": 21,
    "start_time": "2022-03-27T07:25:29.217Z"
   },
   {
    "duration": 0,
    "start_time": "2022-03-27T07:25:29.240Z"
   },
   {
    "duration": 0,
    "start_time": "2022-03-27T07:25:29.241Z"
   },
   {
    "duration": 0,
    "start_time": "2022-03-27T07:25:29.242Z"
   },
   {
    "duration": 0,
    "start_time": "2022-03-27T07:25:29.244Z"
   },
   {
    "duration": 0,
    "start_time": "2022-03-27T07:25:29.245Z"
   },
   {
    "duration": 0,
    "start_time": "2022-03-27T07:25:29.246Z"
   },
   {
    "duration": 13,
    "start_time": "2022-03-27T07:30:51.238Z"
   },
   {
    "duration": 5,
    "start_time": "2022-03-27T07:30:53.903Z"
   },
   {
    "duration": 319,
    "start_time": "2022-03-27T07:30:53.910Z"
   },
   {
    "duration": 17,
    "start_time": "2022-03-27T07:30:54.231Z"
   },
   {
    "duration": 224,
    "start_time": "2022-03-27T07:30:54.250Z"
   },
   {
    "duration": 93,
    "start_time": "2022-03-27T07:30:54.476Z"
   },
   {
    "duration": 14,
    "start_time": "2022-03-27T07:30:54.570Z"
   },
   {
    "duration": 131,
    "start_time": "2022-03-27T07:30:54.586Z"
   },
   {
    "duration": 359,
    "start_time": "2022-03-27T07:30:54.719Z"
   },
   {
    "duration": 27,
    "start_time": "2022-03-27T07:30:55.080Z"
   },
   {
    "duration": 246,
    "start_time": "2022-03-27T07:30:55.110Z"
   },
   {
    "duration": 2,
    "start_time": "2022-03-27T07:30:55.358Z"
   },
   {
    "duration": 9,
    "start_time": "2022-03-27T07:30:55.362Z"
   },
   {
    "duration": 10,
    "start_time": "2022-03-27T07:30:55.373Z"
   },
   {
    "duration": 6,
    "start_time": "2022-03-27T07:30:55.400Z"
   },
   {
    "duration": 9,
    "start_time": "2022-03-27T07:30:55.408Z"
   },
   {
    "duration": 23,
    "start_time": "2022-03-27T07:30:55.419Z"
   },
   {
    "duration": 17,
    "start_time": "2022-03-27T07:30:55.444Z"
   },
   {
    "duration": 51,
    "start_time": "2022-03-27T07:30:55.463Z"
   },
   {
    "duration": 8,
    "start_time": "2022-03-27T07:30:55.516Z"
   },
   {
    "duration": 14,
    "start_time": "2022-03-27T07:30:55.526Z"
   },
   {
    "duration": 10,
    "start_time": "2022-03-27T07:30:55.542Z"
   },
   {
    "duration": 47,
    "start_time": "2022-03-27T07:30:55.554Z"
   },
   {
    "duration": 5,
    "start_time": "2022-03-27T07:30:55.604Z"
   },
   {
    "duration": 2312,
    "start_time": "2022-03-27T07:30:55.611Z"
   },
   {
    "duration": 1943,
    "start_time": "2022-03-27T07:30:57.925Z"
   },
   {
    "duration": 1941,
    "start_time": "2022-03-27T07:30:59.869Z"
   },
   {
    "duration": 418,
    "start_time": "2022-03-27T07:31:01.812Z"
   },
   {
    "duration": 5,
    "start_time": "2022-03-27T07:31:02.233Z"
   },
   {
    "duration": 404,
    "start_time": "2022-03-27T07:31:02.240Z"
   },
   {
    "duration": 6,
    "start_time": "2022-03-27T07:31:02.647Z"
   },
   {
    "duration": 8,
    "start_time": "2022-03-27T07:31:02.656Z"
   },
   {
    "duration": 14,
    "start_time": "2022-03-27T07:31:02.666Z"
   },
   {
    "duration": 22,
    "start_time": "2022-03-27T07:31:02.682Z"
   },
   {
    "duration": 630,
    "start_time": "2022-03-27T07:31:02.706Z"
   },
   {
    "duration": 5,
    "start_time": "2022-03-27T07:31:03.338Z"
   },
   {
    "duration": 8,
    "start_time": "2022-03-27T07:31:03.345Z"
   },
   {
    "duration": 13,
    "start_time": "2022-03-27T07:31:03.354Z"
   },
   {
    "duration": 6,
    "start_time": "2022-03-27T07:31:03.370Z"
   },
   {
    "duration": 23,
    "start_time": "2022-03-27T07:31:03.378Z"
   },
   {
    "duration": 1498,
    "start_time": "2022-03-27T07:31:03.404Z"
   },
   {
    "duration": 198,
    "start_time": "2022-03-27T07:31:04.909Z"
   },
   {
    "duration": 0,
    "start_time": "2022-03-27T07:31:05.109Z"
   },
   {
    "duration": 0,
    "start_time": "2022-03-27T07:31:05.111Z"
   },
   {
    "duration": 5,
    "start_time": "2022-03-27T07:33:44.708Z"
   },
   {
    "duration": 295,
    "start_time": "2022-03-27T07:33:44.715Z"
   },
   {
    "duration": 20,
    "start_time": "2022-03-27T07:33:45.012Z"
   },
   {
    "duration": 234,
    "start_time": "2022-03-27T07:33:45.034Z"
   },
   {
    "duration": 90,
    "start_time": "2022-03-27T07:33:45.271Z"
   },
   {
    "duration": 15,
    "start_time": "2022-03-27T07:33:45.362Z"
   },
   {
    "duration": 135,
    "start_time": "2022-03-27T07:33:45.378Z"
   },
   {
    "duration": 356,
    "start_time": "2022-03-27T07:33:45.515Z"
   },
   {
    "duration": 186,
    "start_time": "2022-03-27T07:33:45.873Z"
   },
   {
    "duration": 233,
    "start_time": "2022-03-27T07:33:46.062Z"
   },
   {
    "duration": 5,
    "start_time": "2022-03-27T07:33:46.296Z"
   },
   {
    "duration": 9,
    "start_time": "2022-03-27T07:33:46.302Z"
   },
   {
    "duration": 9,
    "start_time": "2022-03-27T07:33:46.314Z"
   },
   {
    "duration": 5,
    "start_time": "2022-03-27T07:33:46.326Z"
   },
   {
    "duration": 6,
    "start_time": "2022-03-27T07:33:46.333Z"
   },
   {
    "duration": 24,
    "start_time": "2022-03-27T07:33:46.341Z"
   },
   {
    "duration": 17,
    "start_time": "2022-03-27T07:33:46.401Z"
   },
   {
    "duration": 21,
    "start_time": "2022-03-27T07:33:46.420Z"
   },
   {
    "duration": 7,
    "start_time": "2022-03-27T07:33:46.444Z"
   },
   {
    "duration": 14,
    "start_time": "2022-03-27T07:33:46.453Z"
   },
   {
    "duration": 41,
    "start_time": "2022-03-27T07:33:46.469Z"
   },
   {
    "duration": 19,
    "start_time": "2022-03-27T07:33:46.512Z"
   },
   {
    "duration": 5,
    "start_time": "2022-03-27T07:33:46.534Z"
   },
   {
    "duration": 2166,
    "start_time": "2022-03-27T07:33:46.541Z"
   },
   {
    "duration": 1860,
    "start_time": "2022-03-27T07:33:48.710Z"
   },
   {
    "duration": 1795,
    "start_time": "2022-03-27T07:33:50.573Z"
   },
   {
    "duration": 534,
    "start_time": "2022-03-27T07:33:52.370Z"
   },
   {
    "duration": 6,
    "start_time": "2022-03-27T07:33:52.906Z"
   },
   {
    "duration": 396,
    "start_time": "2022-03-27T07:33:52.914Z"
   },
   {
    "duration": 6,
    "start_time": "2022-03-27T07:33:53.312Z"
   },
   {
    "duration": 6,
    "start_time": "2022-03-27T07:33:53.320Z"
   },
   {
    "duration": 8,
    "start_time": "2022-03-27T07:33:53.327Z"
   },
   {
    "duration": 9,
    "start_time": "2022-03-27T07:33:53.337Z"
   },
   {
    "duration": 517,
    "start_time": "2022-03-27T07:33:53.348Z"
   },
   {
    "duration": 5,
    "start_time": "2022-03-27T07:33:53.867Z"
   },
   {
    "duration": 5,
    "start_time": "2022-03-27T07:33:53.874Z"
   },
   {
    "duration": 24,
    "start_time": "2022-03-27T07:33:53.881Z"
   },
   {
    "duration": 5,
    "start_time": "2022-03-27T07:33:53.907Z"
   },
   {
    "duration": 4,
    "start_time": "2022-03-27T07:33:53.914Z"
   },
   {
    "duration": 1491,
    "start_time": "2022-03-27T07:33:53.920Z"
   },
   {
    "duration": 118,
    "start_time": "2022-03-27T07:33:55.506Z"
   },
   {
    "duration": 0,
    "start_time": "2022-03-27T07:33:55.625Z"
   },
   {
    "duration": 0,
    "start_time": "2022-03-27T07:33:55.627Z"
   },
   {
    "duration": 105,
    "start_time": "2022-03-27T07:36:41.939Z"
   },
   {
    "duration": 5721,
    "start_time": "2022-03-27T07:37:41.913Z"
   },
   {
    "duration": 6321,
    "start_time": "2022-03-27T07:38:08.025Z"
   },
   {
    "duration": 1648,
    "start_time": "2022-03-27T07:39:25.229Z"
   },
   {
    "duration": 2533,
    "start_time": "2022-03-27T07:39:33.359Z"
   },
   {
    "duration": 1706,
    "start_time": "2022-03-27T07:39:39.480Z"
   },
   {
    "duration": 4939,
    "start_time": "2022-03-27T07:39:51.216Z"
   },
   {
    "duration": 4972,
    "start_time": "2022-03-27T07:40:25.200Z"
   },
   {
    "duration": 149,
    "start_time": "2022-03-27T07:40:52.365Z"
   },
   {
    "duration": 11,
    "start_time": "2022-03-27T07:41:00.187Z"
   },
   {
    "duration": 18,
    "start_time": "2022-03-27T07:41:11.610Z"
   },
   {
    "duration": 5,
    "start_time": "2022-03-27T07:41:15.596Z"
   },
   {
    "duration": 11,
    "start_time": "2022-03-27T07:43:01.540Z"
   },
   {
    "duration": 4,
    "start_time": "2022-03-27T07:43:08.580Z"
   },
   {
    "duration": 4,
    "start_time": "2022-03-27T07:43:32.134Z"
   },
   {
    "duration": 5,
    "start_time": "2022-03-27T07:43:46.087Z"
   },
   {
    "duration": 16,
    "start_time": "2022-03-27T07:43:48.222Z"
   },
   {
    "duration": 4,
    "start_time": "2022-03-27T07:44:36.782Z"
   },
   {
    "duration": 5,
    "start_time": "2022-03-27T07:44:40.608Z"
   },
   {
    "duration": 16,
    "start_time": "2022-03-27T07:45:00.023Z"
   },
   {
    "duration": 4,
    "start_time": "2022-03-27T07:45:17.178Z"
   },
   {
    "duration": 9,
    "start_time": "2022-03-27T07:45:19.710Z"
   },
   {
    "duration": 8,
    "start_time": "2022-03-27T07:45:33.489Z"
   },
   {
    "duration": 16,
    "start_time": "2022-03-27T07:45:41.991Z"
   },
   {
    "duration": 14,
    "start_time": "2022-03-27T07:46:14.482Z"
   },
   {
    "duration": 3,
    "start_time": "2022-03-27T07:51:35.008Z"
   },
   {
    "duration": 4,
    "start_time": "2022-03-27T07:52:12.343Z"
   },
   {
    "duration": 5,
    "start_time": "2022-03-27T07:52:23.311Z"
   },
   {
    "duration": 20,
    "start_time": "2022-03-27T07:52:27.376Z"
   },
   {
    "duration": 5,
    "start_time": "2022-03-27T07:52:46.701Z"
   },
   {
    "duration": 5,
    "start_time": "2022-03-27T07:52:57.994Z"
   },
   {
    "duration": 311,
    "start_time": "2022-03-27T07:52:58.001Z"
   },
   {
    "duration": 18,
    "start_time": "2022-03-27T07:52:58.313Z"
   },
   {
    "duration": 255,
    "start_time": "2022-03-27T07:52:58.334Z"
   },
   {
    "duration": 95,
    "start_time": "2022-03-27T07:52:58.591Z"
   },
   {
    "duration": 24,
    "start_time": "2022-03-27T07:52:58.688Z"
   },
   {
    "duration": 136,
    "start_time": "2022-03-27T07:52:58.714Z"
   },
   {
    "duration": 371,
    "start_time": "2022-03-27T07:52:58.852Z"
   },
   {
    "duration": 21,
    "start_time": "2022-03-27T07:52:59.225Z"
   },
   {
    "duration": 279,
    "start_time": "2022-03-27T07:52:59.251Z"
   },
   {
    "duration": 3,
    "start_time": "2022-03-27T07:52:59.532Z"
   },
   {
    "duration": 14,
    "start_time": "2022-03-27T07:52:59.537Z"
   },
   {
    "duration": 12,
    "start_time": "2022-03-27T07:52:59.554Z"
   },
   {
    "duration": 8,
    "start_time": "2022-03-27T07:52:59.568Z"
   },
   {
    "duration": 24,
    "start_time": "2022-03-27T07:52:59.578Z"
   },
   {
    "duration": 40,
    "start_time": "2022-03-27T07:52:59.604Z"
   },
   {
    "duration": 18,
    "start_time": "2022-03-27T07:52:59.646Z"
   },
   {
    "duration": 50,
    "start_time": "2022-03-27T07:52:59.665Z"
   },
   {
    "duration": 8,
    "start_time": "2022-03-27T07:52:59.717Z"
   },
   {
    "duration": 19,
    "start_time": "2022-03-27T07:52:59.727Z"
   },
   {
    "duration": 10,
    "start_time": "2022-03-27T07:52:59.748Z"
   },
   {
    "duration": 47,
    "start_time": "2022-03-27T07:52:59.761Z"
   },
   {
    "duration": 6,
    "start_time": "2022-03-27T07:52:59.811Z"
   },
   {
    "duration": 2557,
    "start_time": "2022-03-27T07:52:59.819Z"
   },
   {
    "duration": 2007,
    "start_time": "2022-03-27T07:53:02.378Z"
   },
   {
    "duration": 1807,
    "start_time": "2022-03-27T07:53:04.388Z"
   },
   {
    "duration": 466,
    "start_time": "2022-03-27T07:53:06.197Z"
   },
   {
    "duration": 5,
    "start_time": "2022-03-27T07:53:06.669Z"
   },
   {
    "duration": 595,
    "start_time": "2022-03-27T07:53:06.676Z"
   },
   {
    "duration": 5,
    "start_time": "2022-03-27T07:53:07.273Z"
   },
   {
    "duration": 21,
    "start_time": "2022-03-27T07:53:07.280Z"
   },
   {
    "duration": 5,
    "start_time": "2022-03-27T07:53:07.303Z"
   },
   {
    "duration": 27,
    "start_time": "2022-03-27T07:53:07.310Z"
   },
   {
    "duration": 491,
    "start_time": "2022-03-27T07:53:07.339Z"
   },
   {
    "duration": 7,
    "start_time": "2022-03-27T07:53:07.833Z"
   },
   {
    "duration": 10,
    "start_time": "2022-03-27T07:53:07.842Z"
   },
   {
    "duration": 17,
    "start_time": "2022-03-27T07:53:07.854Z"
   },
   {
    "duration": 12,
    "start_time": "2022-03-27T07:53:07.874Z"
   },
   {
    "duration": 13,
    "start_time": "2022-03-27T07:53:07.888Z"
   },
   {
    "duration": 1901,
    "start_time": "2022-03-27T07:53:07.903Z"
   },
   {
    "duration": 6053,
    "start_time": "2022-03-27T07:53:09.808Z"
   },
   {
    "duration": 1840,
    "start_time": "2022-03-27T07:53:15.863Z"
   },
   {
    "duration": 33910,
    "start_time": "2022-03-27T07:53:17.705Z"
   },
   {
    "duration": 5451,
    "start_time": "2022-03-27T07:53:51.617Z"
   },
   {
    "duration": 3,
    "start_time": "2022-03-27T07:53:57.070Z"
   },
   {
    "duration": 9,
    "start_time": "2022-03-27T07:53:57.075Z"
   },
   {
    "duration": 42,
    "start_time": "2022-03-27T07:53:57.086Z"
   },
   {
    "duration": 13,
    "start_time": "2022-03-27T08:06:31.453Z"
   },
   {
    "duration": 5,
    "start_time": "2022-03-27T08:06:38.388Z"
   },
   {
    "duration": 18,
    "start_time": "2022-03-27T08:06:49.035Z"
   },
   {
    "duration": 18,
    "start_time": "2022-03-27T08:06:58.559Z"
   },
   {
    "duration": 12,
    "start_time": "2022-03-27T08:07:02.831Z"
   },
   {
    "duration": 5,
    "start_time": "2022-03-27T08:07:12.070Z"
   },
   {
    "duration": 5,
    "start_time": "2022-03-27T08:07:27.293Z"
   },
   {
    "duration": 17,
    "start_time": "2022-03-27T08:07:46.530Z"
   },
   {
    "duration": 17,
    "start_time": "2022-03-27T08:08:02.228Z"
   },
   {
    "duration": 6,
    "start_time": "2022-03-27T08:08:16.359Z"
   },
   {
    "duration": 6,
    "start_time": "2022-03-27T08:15:36.784Z"
   },
   {
    "duration": 351,
    "start_time": "2022-03-27T08:15:36.794Z"
   },
   {
    "duration": 26,
    "start_time": "2022-03-27T08:15:37.147Z"
   },
   {
    "duration": 260,
    "start_time": "2022-03-27T08:15:37.175Z"
   },
   {
    "duration": 95,
    "start_time": "2022-03-27T08:15:37.438Z"
   },
   {
    "duration": 16,
    "start_time": "2022-03-27T08:15:37.536Z"
   },
   {
    "duration": 194,
    "start_time": "2022-03-27T08:15:37.554Z"
   },
   {
    "duration": 580,
    "start_time": "2022-03-27T08:15:37.750Z"
   },
   {
    "duration": 22,
    "start_time": "2022-03-27T08:15:38.332Z"
   },
   {
    "duration": 299,
    "start_time": "2022-03-27T08:15:38.358Z"
   },
   {
    "duration": 4,
    "start_time": "2022-03-27T08:15:38.660Z"
   },
   {
    "duration": 13,
    "start_time": "2022-03-27T08:15:38.667Z"
   },
   {
    "duration": 12,
    "start_time": "2022-03-27T08:15:38.701Z"
   },
   {
    "duration": 11,
    "start_time": "2022-03-27T08:15:38.715Z"
   },
   {
    "duration": 11,
    "start_time": "2022-03-27T08:15:38.728Z"
   },
   {
    "duration": 61,
    "start_time": "2022-03-27T08:15:38.741Z"
   },
   {
    "duration": 19,
    "start_time": "2022-03-27T08:15:38.805Z"
   },
   {
    "duration": 26,
    "start_time": "2022-03-27T08:15:38.827Z"
   },
   {
    "duration": 47,
    "start_time": "2022-03-27T08:15:38.856Z"
   },
   {
    "duration": 16,
    "start_time": "2022-03-27T08:15:38.905Z"
   },
   {
    "duration": 19,
    "start_time": "2022-03-27T08:15:38.924Z"
   },
   {
    "duration": 29,
    "start_time": "2022-03-27T08:15:38.945Z"
   },
   {
    "duration": 25,
    "start_time": "2022-03-27T08:15:38.976Z"
   },
   {
    "duration": 2615,
    "start_time": "2022-03-27T08:15:39.003Z"
   },
   {
    "duration": 2255,
    "start_time": "2022-03-27T08:15:41.620Z"
   },
   {
    "duration": 2137,
    "start_time": "2022-03-27T08:15:43.877Z"
   },
   {
    "duration": 510,
    "start_time": "2022-03-27T08:15:46.017Z"
   },
   {
    "duration": 6,
    "start_time": "2022-03-27T08:15:46.533Z"
   },
   {
    "duration": 821,
    "start_time": "2022-03-27T08:15:46.540Z"
   },
   {
    "duration": 7,
    "start_time": "2022-03-27T08:15:47.363Z"
   },
   {
    "duration": 29,
    "start_time": "2022-03-27T08:15:47.373Z"
   },
   {
    "duration": 7,
    "start_time": "2022-03-27T08:15:47.404Z"
   },
   {
    "duration": 18,
    "start_time": "2022-03-27T08:15:47.413Z"
   },
   {
    "duration": 549,
    "start_time": "2022-03-27T08:15:47.434Z"
   },
   {
    "duration": 16,
    "start_time": "2022-03-27T08:15:47.985Z"
   },
   {
    "duration": 4,
    "start_time": "2022-03-27T08:15:48.003Z"
   },
   {
    "duration": 15,
    "start_time": "2022-03-27T08:15:48.009Z"
   },
   {
    "duration": 6,
    "start_time": "2022-03-27T08:15:48.027Z"
   },
   {
    "duration": 10,
    "start_time": "2022-03-27T08:15:48.034Z"
   },
   {
    "duration": 2257,
    "start_time": "2022-03-27T08:15:48.048Z"
   },
   {
    "duration": 6338,
    "start_time": "2022-03-27T08:15:50.308Z"
   },
   {
    "duration": 1847,
    "start_time": "2022-03-27T08:15:56.648Z"
   },
   {
    "duration": 42151,
    "start_time": "2022-03-27T08:15:58.500Z"
   },
   {
    "duration": 6793,
    "start_time": "2022-03-27T08:16:40.653Z"
   },
   {
    "duration": 18,
    "start_time": "2022-03-27T08:16:47.449Z"
   },
   {
    "duration": 37,
    "start_time": "2022-03-27T08:16:47.469Z"
   },
   {
    "duration": 8,
    "start_time": "2022-03-27T08:16:47.508Z"
   },
   {
    "duration": 19,
    "start_time": "2022-03-27T08:16:47.518Z"
   },
   {
    "duration": 0,
    "start_time": "2022-03-27T08:16:47.538Z"
   },
   {
    "duration": 0,
    "start_time": "2022-03-27T08:16:47.540Z"
   },
   {
    "duration": 0,
    "start_time": "2022-03-27T08:16:47.541Z"
   },
   {
    "duration": 5,
    "start_time": "2022-03-27T08:24:44.621Z"
   },
   {
    "duration": 15,
    "start_time": "2022-03-27T08:24:58.513Z"
   },
   {
    "duration": 15,
    "start_time": "2022-03-27T08:25:41.534Z"
   },
   {
    "duration": 16,
    "start_time": "2022-03-27T08:25:55.101Z"
   },
   {
    "duration": 7,
    "start_time": "2022-03-27T08:27:06.173Z"
   },
   {
    "duration": 6,
    "start_time": "2022-03-27T08:27:15.277Z"
   },
   {
    "duration": 16,
    "start_time": "2022-03-27T08:27:17.014Z"
   },
   {
    "duration": 6,
    "start_time": "2022-03-27T08:27:32.732Z"
   },
   {
    "duration": 6,
    "start_time": "2022-03-27T08:28:02.179Z"
   },
   {
    "duration": 16,
    "start_time": "2022-03-27T08:28:11.501Z"
   },
   {
    "duration": 10,
    "start_time": "2022-03-27T08:28:55.240Z"
   },
   {
    "duration": 14,
    "start_time": "2022-03-27T08:29:09.638Z"
   },
   {
    "duration": 12,
    "start_time": "2022-03-27T08:29:20.969Z"
   },
   {
    "duration": 10,
    "start_time": "2022-03-27T08:29:31.450Z"
   },
   {
    "duration": 7,
    "start_time": "2022-03-27T08:30:09.333Z"
   },
   {
    "duration": 15,
    "start_time": "2022-03-27T08:30:14.593Z"
   },
   {
    "duration": 3,
    "start_time": "2022-03-27T08:37:35.172Z"
   },
   {
    "duration": 3,
    "start_time": "2022-03-27T08:37:52.055Z"
   },
   {
    "duration": 3,
    "start_time": "2022-03-27T08:37:55.877Z"
   },
   {
    "duration": 6,
    "start_time": "2022-03-27T08:38:12.059Z"
   },
   {
    "duration": 16,
    "start_time": "2022-03-27T08:38:39.683Z"
   },
   {
    "duration": 5,
    "start_time": "2022-03-27T08:39:09.885Z"
   },
   {
    "duration": 456,
    "start_time": "2022-03-27T08:39:09.893Z"
   },
   {
    "duration": 27,
    "start_time": "2022-03-27T08:39:10.352Z"
   },
   {
    "duration": 381,
    "start_time": "2022-03-27T08:39:10.382Z"
   },
   {
    "duration": 89,
    "start_time": "2022-03-27T08:39:10.765Z"
   },
   {
    "duration": 15,
    "start_time": "2022-03-27T08:39:10.856Z"
   },
   {
    "duration": 148,
    "start_time": "2022-03-27T08:39:10.873Z"
   },
   {
    "duration": 373,
    "start_time": "2022-03-27T08:39:11.022Z"
   },
   {
    "duration": 20,
    "start_time": "2022-03-27T08:39:11.397Z"
   },
   {
    "duration": 270,
    "start_time": "2022-03-27T08:39:11.420Z"
   },
   {
    "duration": 9,
    "start_time": "2022-03-27T08:39:11.692Z"
   },
   {
    "duration": 29,
    "start_time": "2022-03-27T08:39:11.703Z"
   },
   {
    "duration": 12,
    "start_time": "2022-03-27T08:39:11.733Z"
   },
   {
    "duration": 6,
    "start_time": "2022-03-27T08:39:11.747Z"
   },
   {
    "duration": 14,
    "start_time": "2022-03-27T08:39:11.755Z"
   },
   {
    "duration": 31,
    "start_time": "2022-03-27T08:39:11.771Z"
   },
   {
    "duration": 19,
    "start_time": "2022-03-27T08:39:11.805Z"
   },
   {
    "duration": 29,
    "start_time": "2022-03-27T08:39:11.826Z"
   },
   {
    "duration": 8,
    "start_time": "2022-03-27T08:39:11.857Z"
   },
   {
    "duration": 47,
    "start_time": "2022-03-27T08:39:11.867Z"
   },
   {
    "duration": 10,
    "start_time": "2022-03-27T08:39:11.916Z"
   },
   {
    "duration": 21,
    "start_time": "2022-03-27T08:39:11.928Z"
   },
   {
    "duration": 7,
    "start_time": "2022-03-27T08:39:11.951Z"
   },
   {
    "duration": 2405,
    "start_time": "2022-03-27T08:39:11.960Z"
   },
   {
    "duration": 1839,
    "start_time": "2022-03-27T08:39:14.367Z"
   },
   {
    "duration": 2115,
    "start_time": "2022-03-27T08:39:16.209Z"
   },
   {
    "duration": 413,
    "start_time": "2022-03-27T08:39:18.326Z"
   },
   {
    "duration": 6,
    "start_time": "2022-03-27T08:39:18.744Z"
   },
   {
    "duration": 397,
    "start_time": "2022-03-27T08:39:18.752Z"
   },
   {
    "duration": 6,
    "start_time": "2022-03-27T08:39:19.151Z"
   },
   {
    "duration": 8,
    "start_time": "2022-03-27T08:39:19.159Z"
   },
   {
    "duration": 8,
    "start_time": "2022-03-27T08:39:19.169Z"
   },
   {
    "duration": 26,
    "start_time": "2022-03-27T08:39:19.179Z"
   },
   {
    "duration": 655,
    "start_time": "2022-03-27T08:39:19.208Z"
   },
   {
    "duration": 5,
    "start_time": "2022-03-27T08:39:19.865Z"
   },
   {
    "duration": 6,
    "start_time": "2022-03-27T08:39:19.873Z"
   },
   {
    "duration": 19,
    "start_time": "2022-03-27T08:39:19.882Z"
   },
   {
    "duration": 3,
    "start_time": "2022-03-27T08:39:19.904Z"
   },
   {
    "duration": 15,
    "start_time": "2022-03-27T08:39:19.909Z"
   },
   {
    "duration": 8,
    "start_time": "2022-03-27T08:39:19.925Z"
   },
   {
    "duration": 9,
    "start_time": "2022-03-27T08:39:19.934Z"
   },
   {
    "duration": 1466,
    "start_time": "2022-03-27T08:39:19.945Z"
   },
   {
    "duration": 7471,
    "start_time": "2022-03-27T08:39:21.502Z"
   },
   {
    "duration": 1777,
    "start_time": "2022-03-27T08:39:28.976Z"
   },
   {
    "duration": 34356,
    "start_time": "2022-03-27T08:39:30.755Z"
   },
   {
    "duration": 5343,
    "start_time": "2022-03-27T08:40:05.113Z"
   },
   {
    "duration": 16,
    "start_time": "2022-03-27T08:40:10.458Z"
   },
   {
    "duration": 32,
    "start_time": "2022-03-27T08:40:10.476Z"
   },
   {
    "duration": 16,
    "start_time": "2022-03-27T08:40:10.510Z"
   },
   {
    "duration": 16,
    "start_time": "2022-03-27T08:40:10.528Z"
   },
   {
    "duration": 13,
    "start_time": "2022-03-27T08:40:10.546Z"
   },
   {
    "duration": 0,
    "start_time": "2022-03-27T08:40:10.562Z"
   },
   {
    "duration": 0,
    "start_time": "2022-03-27T08:40:10.602Z"
   },
   {
    "duration": 0,
    "start_time": "2022-03-27T08:40:10.604Z"
   },
   {
    "duration": 0,
    "start_time": "2022-03-27T08:40:10.605Z"
   },
   {
    "duration": 11,
    "start_time": "2022-03-27T08:40:31.509Z"
   },
   {
    "duration": 6,
    "start_time": "2022-03-27T08:40:32.117Z"
   },
   {
    "duration": 4,
    "start_time": "2022-03-27T08:40:32.765Z"
   },
   {
    "duration": 35,
    "start_time": "2022-03-27T08:40:35.023Z"
   },
   {
    "duration": 39,
    "start_time": "2022-03-27T08:42:02.015Z"
   },
   {
    "duration": 40,
    "start_time": "2022-03-27T08:42:32.685Z"
   },
   {
    "duration": 32,
    "start_time": "2022-03-27T08:43:49.606Z"
   },
   {
    "duration": 5,
    "start_time": "2022-03-27T08:44:01.452Z"
   },
   {
    "duration": 288,
    "start_time": "2022-03-27T08:44:01.460Z"
   },
   {
    "duration": 21,
    "start_time": "2022-03-27T08:44:01.750Z"
   },
   {
    "duration": 253,
    "start_time": "2022-03-27T08:44:01.773Z"
   },
   {
    "duration": 97,
    "start_time": "2022-03-27T08:44:02.029Z"
   },
   {
    "duration": 16,
    "start_time": "2022-03-27T08:44:02.127Z"
   },
   {
    "duration": 144,
    "start_time": "2022-03-27T08:44:02.145Z"
   },
   {
    "duration": 366,
    "start_time": "2022-03-27T08:44:02.291Z"
   },
   {
    "duration": 19,
    "start_time": "2022-03-27T08:44:02.658Z"
   },
   {
    "duration": 573,
    "start_time": "2022-03-27T08:44:02.682Z"
   },
   {
    "duration": 4,
    "start_time": "2022-03-27T08:44:03.258Z"
   },
   {
    "duration": 12,
    "start_time": "2022-03-27T08:44:03.264Z"
   },
   {
    "duration": 29,
    "start_time": "2022-03-27T08:44:03.278Z"
   },
   {
    "duration": 13,
    "start_time": "2022-03-27T08:44:03.309Z"
   },
   {
    "duration": 8,
    "start_time": "2022-03-27T08:44:03.324Z"
   },
   {
    "duration": 30,
    "start_time": "2022-03-27T08:44:03.334Z"
   },
   {
    "duration": 36,
    "start_time": "2022-03-27T08:44:03.366Z"
   },
   {
    "duration": 24,
    "start_time": "2022-03-27T08:44:03.405Z"
   },
   {
    "duration": 8,
    "start_time": "2022-03-27T08:44:03.432Z"
   },
   {
    "duration": 22,
    "start_time": "2022-03-27T08:44:03.442Z"
   },
   {
    "duration": 39,
    "start_time": "2022-03-27T08:44:03.467Z"
   },
   {
    "duration": 22,
    "start_time": "2022-03-27T08:44:03.510Z"
   },
   {
    "duration": 7,
    "start_time": "2022-03-27T08:44:03.534Z"
   },
   {
    "duration": 2220,
    "start_time": "2022-03-27T08:44:03.543Z"
   },
   {
    "duration": 2063,
    "start_time": "2022-03-27T08:44:05.765Z"
   },
   {
    "duration": 2102,
    "start_time": "2022-03-27T08:44:07.831Z"
   },
   {
    "duration": 623,
    "start_time": "2022-03-27T08:44:09.935Z"
   },
   {
    "duration": 6,
    "start_time": "2022-03-27T08:44:10.563Z"
   },
   {
    "duration": 413,
    "start_time": "2022-03-27T08:44:10.572Z"
   },
   {
    "duration": 15,
    "start_time": "2022-03-27T08:44:10.987Z"
   },
   {
    "duration": 11,
    "start_time": "2022-03-27T08:44:11.005Z"
   },
   {
    "duration": 18,
    "start_time": "2022-03-27T08:44:11.018Z"
   },
   {
    "duration": 13,
    "start_time": "2022-03-27T08:44:11.038Z"
   },
   {
    "duration": 520,
    "start_time": "2022-03-27T08:44:11.054Z"
   },
   {
    "duration": 6,
    "start_time": "2022-03-27T08:44:11.576Z"
   },
   {
    "duration": 19,
    "start_time": "2022-03-27T08:44:11.584Z"
   },
   {
    "duration": 11,
    "start_time": "2022-03-27T08:44:11.606Z"
   },
   {
    "duration": 10,
    "start_time": "2022-03-27T08:44:11.619Z"
   },
   {
    "duration": 11,
    "start_time": "2022-03-27T08:44:11.632Z"
   },
   {
    "duration": 16,
    "start_time": "2022-03-27T08:44:11.645Z"
   },
   {
    "duration": 8,
    "start_time": "2022-03-27T08:44:11.662Z"
   },
   {
    "duration": 8,
    "start_time": "2022-03-27T08:44:11.672Z"
   },
   {
    "duration": 2525,
    "start_time": "2022-03-27T08:44:11.682Z"
   },
   {
    "duration": 5989,
    "start_time": "2022-03-27T08:44:14.210Z"
   },
   {
    "duration": 1743,
    "start_time": "2022-03-27T08:44:20.202Z"
   },
   {
    "duration": 40969,
    "start_time": "2022-03-27T08:44:21.947Z"
   },
   {
    "duration": 6795,
    "start_time": "2022-03-27T08:45:02.918Z"
   },
   {
    "duration": 18,
    "start_time": "2022-03-27T08:45:09.716Z"
   },
   {
    "duration": 103,
    "start_time": "2022-03-27T08:45:09.736Z"
   },
   {
    "duration": 20,
    "start_time": "2022-03-27T08:45:09.842Z"
   },
   {
    "duration": 20,
    "start_time": "2022-03-27T08:45:09.865Z"
   },
   {
    "duration": 6,
    "start_time": "2022-03-27T08:45:09.887Z"
   },
   {
    "duration": 14,
    "start_time": "2022-03-27T08:45:09.895Z"
   },
   {
    "duration": 21,
    "start_time": "2022-03-27T08:45:09.912Z"
   },
   {
    "duration": 24,
    "start_time": "2022-03-27T08:45:09.935Z"
   },
   {
    "duration": 0,
    "start_time": "2022-03-27T08:45:09.962Z"
   },
   {
    "duration": 5,
    "start_time": "2022-03-27T08:47:39.137Z"
   },
   {
    "duration": 292,
    "start_time": "2022-03-27T08:47:39.144Z"
   },
   {
    "duration": 18,
    "start_time": "2022-03-27T08:47:39.438Z"
   },
   {
    "duration": 256,
    "start_time": "2022-03-27T08:47:39.458Z"
   },
   {
    "duration": 130,
    "start_time": "2022-03-27T08:47:39.717Z"
   },
   {
    "duration": 21,
    "start_time": "2022-03-27T08:47:39.849Z"
   },
   {
    "duration": 215,
    "start_time": "2022-03-27T08:47:39.872Z"
   },
   {
    "duration": 554,
    "start_time": "2022-03-27T08:47:40.090Z"
   },
   {
    "duration": 28,
    "start_time": "2022-03-27T08:47:40.648Z"
   },
   {
    "duration": 392,
    "start_time": "2022-03-27T08:47:40.678Z"
   },
   {
    "duration": 3,
    "start_time": "2022-03-27T08:47:41.073Z"
   },
   {
    "duration": 27,
    "start_time": "2022-03-27T08:47:41.078Z"
   },
   {
    "duration": 12,
    "start_time": "2022-03-27T08:47:41.107Z"
   },
   {
    "duration": 7,
    "start_time": "2022-03-27T08:47:41.121Z"
   },
   {
    "duration": 11,
    "start_time": "2022-03-27T08:47:41.130Z"
   },
   {
    "duration": 59,
    "start_time": "2022-03-27T08:47:41.144Z"
   },
   {
    "duration": 19,
    "start_time": "2022-03-27T08:47:41.205Z"
   },
   {
    "duration": 25,
    "start_time": "2022-03-27T08:47:41.226Z"
   },
   {
    "duration": 9,
    "start_time": "2022-03-27T08:47:41.253Z"
   },
   {
    "duration": 49,
    "start_time": "2022-03-27T08:47:41.265Z"
   },
   {
    "duration": 10,
    "start_time": "2022-03-27T08:47:41.316Z"
   },
   {
    "duration": 22,
    "start_time": "2022-03-27T08:47:41.328Z"
   },
   {
    "duration": 6,
    "start_time": "2022-03-27T08:47:41.352Z"
   },
   {
    "duration": 2266,
    "start_time": "2022-03-27T08:47:41.362Z"
   },
   {
    "duration": 1944,
    "start_time": "2022-03-27T08:47:43.629Z"
   },
   {
    "duration": 1815,
    "start_time": "2022-03-27T08:47:45.575Z"
   },
   {
    "duration": 417,
    "start_time": "2022-03-27T08:47:47.392Z"
   },
   {
    "duration": 5,
    "start_time": "2022-03-27T08:47:47.811Z"
   },
   {
    "duration": 616,
    "start_time": "2022-03-27T08:47:47.819Z"
   },
   {
    "duration": 6,
    "start_time": "2022-03-27T08:47:48.437Z"
   },
   {
    "duration": 9,
    "start_time": "2022-03-27T08:47:48.444Z"
   },
   {
    "duration": 7,
    "start_time": "2022-03-27T08:47:48.455Z"
   },
   {
    "duration": 11,
    "start_time": "2022-03-27T08:47:48.464Z"
   },
   {
    "duration": 497,
    "start_time": "2022-03-27T08:47:48.500Z"
   },
   {
    "duration": 6,
    "start_time": "2022-03-27T08:47:49.000Z"
   },
   {
    "duration": 6,
    "start_time": "2022-03-27T08:47:49.007Z"
   },
   {
    "duration": 6,
    "start_time": "2022-03-27T08:47:49.015Z"
   },
   {
    "duration": 7,
    "start_time": "2022-03-27T08:47:49.023Z"
   },
   {
    "duration": 8,
    "start_time": "2022-03-27T08:47:49.031Z"
   },
   {
    "duration": 16,
    "start_time": "2022-03-27T08:47:49.042Z"
   },
   {
    "duration": 6,
    "start_time": "2022-03-27T08:47:49.061Z"
   },
   {
    "duration": 8,
    "start_time": "2022-03-27T08:47:49.069Z"
   },
   {
    "duration": 101,
    "start_time": "2022-03-27T08:47:49.102Z"
   },
   {
    "duration": 0,
    "start_time": "2022-03-27T08:47:49.205Z"
   },
   {
    "duration": 0,
    "start_time": "2022-03-27T08:47:49.207Z"
   },
   {
    "duration": 0,
    "start_time": "2022-03-27T08:47:49.209Z"
   },
   {
    "duration": 0,
    "start_time": "2022-03-27T08:47:49.210Z"
   },
   {
    "duration": 0,
    "start_time": "2022-03-27T08:47:49.212Z"
   },
   {
    "duration": 0,
    "start_time": "2022-03-27T08:47:49.213Z"
   },
   {
    "duration": 0,
    "start_time": "2022-03-27T08:47:49.214Z"
   },
   {
    "duration": 0,
    "start_time": "2022-03-27T08:47:49.216Z"
   },
   {
    "duration": 1,
    "start_time": "2022-03-27T08:47:49.217Z"
   },
   {
    "duration": 0,
    "start_time": "2022-03-27T08:47:49.219Z"
   },
   {
    "duration": 0,
    "start_time": "2022-03-27T08:47:49.220Z"
   },
   {
    "duration": 0,
    "start_time": "2022-03-27T08:47:49.222Z"
   },
   {
    "duration": 0,
    "start_time": "2022-03-27T08:47:49.223Z"
   },
   {
    "duration": 7,
    "start_time": "2022-03-27T08:49:38.240Z"
   },
   {
    "duration": 328,
    "start_time": "2022-03-27T08:49:38.249Z"
   },
   {
    "duration": 29,
    "start_time": "2022-03-27T08:49:38.580Z"
   },
   {
    "duration": 234,
    "start_time": "2022-03-27T08:49:38.611Z"
   },
   {
    "duration": 94,
    "start_time": "2022-03-27T08:49:38.848Z"
   },
   {
    "duration": 16,
    "start_time": "2022-03-27T08:49:38.943Z"
   },
   {
    "duration": 145,
    "start_time": "2022-03-27T08:49:38.961Z"
   },
   {
    "duration": 364,
    "start_time": "2022-03-27T08:49:39.107Z"
   },
   {
    "duration": 29,
    "start_time": "2022-03-27T08:49:39.473Z"
   },
   {
    "duration": 373,
    "start_time": "2022-03-27T08:49:39.504Z"
   },
   {
    "duration": 4,
    "start_time": "2022-03-27T08:49:39.879Z"
   },
   {
    "duration": 20,
    "start_time": "2022-03-27T08:49:39.885Z"
   },
   {
    "duration": 11,
    "start_time": "2022-03-27T08:49:39.907Z"
   },
   {
    "duration": 7,
    "start_time": "2022-03-27T08:49:39.923Z"
   },
   {
    "duration": 6,
    "start_time": "2022-03-27T08:49:39.933Z"
   },
   {
    "duration": 59,
    "start_time": "2022-03-27T08:49:39.942Z"
   },
   {
    "duration": 19,
    "start_time": "2022-03-27T08:49:40.003Z"
   },
   {
    "duration": 26,
    "start_time": "2022-03-27T08:49:40.024Z"
   },
   {
    "duration": 9,
    "start_time": "2022-03-27T08:49:40.053Z"
   },
   {
    "duration": 48,
    "start_time": "2022-03-27T08:49:40.064Z"
   },
   {
    "duration": 11,
    "start_time": "2022-03-27T08:49:40.114Z"
   },
   {
    "duration": 21,
    "start_time": "2022-03-27T08:49:40.128Z"
   },
   {
    "duration": 7,
    "start_time": "2022-03-27T08:49:40.151Z"
   },
   {
    "duration": 2558,
    "start_time": "2022-03-27T08:49:40.160Z"
   },
   {
    "duration": 1906,
    "start_time": "2022-03-27T08:49:42.721Z"
   },
   {
    "duration": 2198,
    "start_time": "2022-03-27T08:49:44.629Z"
   },
   {
    "duration": 421,
    "start_time": "2022-03-27T08:49:46.829Z"
   },
   {
    "duration": 6,
    "start_time": "2022-03-27T08:49:47.252Z"
   },
   {
    "duration": 435,
    "start_time": "2022-03-27T08:49:47.260Z"
   },
   {
    "duration": 5,
    "start_time": "2022-03-27T08:49:47.702Z"
   },
   {
    "duration": 8,
    "start_time": "2022-03-27T08:49:47.708Z"
   },
   {
    "duration": 6,
    "start_time": "2022-03-27T08:49:47.718Z"
   },
   {
    "duration": 12,
    "start_time": "2022-03-27T08:49:47.726Z"
   },
   {
    "duration": 842,
    "start_time": "2022-03-27T08:49:47.740Z"
   },
   {
    "duration": 5,
    "start_time": "2022-03-27T08:49:48.583Z"
   },
   {
    "duration": 3,
    "start_time": "2022-03-27T08:49:48.602Z"
   },
   {
    "duration": 13,
    "start_time": "2022-03-27T08:49:48.608Z"
   },
   {
    "duration": 7,
    "start_time": "2022-03-27T08:49:48.623Z"
   },
   {
    "duration": 12,
    "start_time": "2022-03-27T08:49:48.632Z"
   },
   {
    "duration": 9,
    "start_time": "2022-03-27T08:49:48.646Z"
   },
   {
    "duration": 6,
    "start_time": "2022-03-27T08:49:48.660Z"
   },
   {
    "duration": 6,
    "start_time": "2022-03-27T08:49:48.668Z"
   },
   {
    "duration": 1432,
    "start_time": "2022-03-27T08:49:48.676Z"
   },
   {
    "duration": 5814,
    "start_time": "2022-03-27T08:49:50.111Z"
   },
   {
    "duration": 2192,
    "start_time": "2022-03-27T08:49:55.927Z"
   },
   {
    "duration": 35047,
    "start_time": "2022-03-27T08:49:58.121Z"
   },
   {
    "duration": 6573,
    "start_time": "2022-03-27T08:50:33.170Z"
   },
   {
    "duration": 18,
    "start_time": "2022-03-27T08:50:39.745Z"
   },
   {
    "duration": 38,
    "start_time": "2022-03-27T08:50:39.765Z"
   },
   {
    "duration": 16,
    "start_time": "2022-03-27T08:50:39.806Z"
   },
   {
    "duration": 16,
    "start_time": "2022-03-27T08:50:39.825Z"
   },
   {
    "duration": 15,
    "start_time": "2022-03-27T08:50:39.843Z"
   },
   {
    "duration": 1,
    "start_time": "2022-03-27T08:50:39.860Z"
   },
   {
    "duration": 0,
    "start_time": "2022-03-27T08:50:39.862Z"
   },
   {
    "duration": 0,
    "start_time": "2022-03-27T08:50:39.863Z"
   },
   {
    "duration": 0,
    "start_time": "2022-03-27T08:50:39.864Z"
   },
   {
    "duration": 12,
    "start_time": "2022-03-27T08:51:59.489Z"
   },
   {
    "duration": 21,
    "start_time": "2022-03-27T08:52:42.540Z"
   },
   {
    "duration": 5,
    "start_time": "2022-03-27T08:53:15.650Z"
   },
   {
    "duration": 301,
    "start_time": "2022-03-27T08:53:15.657Z"
   },
   {
    "duration": 19,
    "start_time": "2022-03-27T08:53:15.960Z"
   },
   {
    "duration": 258,
    "start_time": "2022-03-27T08:53:15.981Z"
   },
   {
    "duration": 97,
    "start_time": "2022-03-27T08:53:16.241Z"
   },
   {
    "duration": 15,
    "start_time": "2022-03-27T08:53:16.340Z"
   },
   {
    "duration": 145,
    "start_time": "2022-03-27T08:53:16.357Z"
   },
   {
    "duration": 378,
    "start_time": "2022-03-27T08:53:16.504Z"
   },
   {
    "duration": 33,
    "start_time": "2022-03-27T08:53:16.883Z"
   },
   {
    "duration": 253,
    "start_time": "2022-03-27T08:53:16.918Z"
   },
   {
    "duration": 3,
    "start_time": "2022-03-27T08:53:17.176Z"
   },
   {
    "duration": 23,
    "start_time": "2022-03-27T08:53:17.181Z"
   },
   {
    "duration": 12,
    "start_time": "2022-03-27T08:53:17.207Z"
   },
   {
    "duration": 6,
    "start_time": "2022-03-27T08:53:17.221Z"
   },
   {
    "duration": 7,
    "start_time": "2022-03-27T08:53:17.229Z"
   },
   {
    "duration": 65,
    "start_time": "2022-03-27T08:53:17.238Z"
   },
   {
    "duration": 17,
    "start_time": "2022-03-27T08:53:17.306Z"
   },
   {
    "duration": 23,
    "start_time": "2022-03-27T08:53:17.325Z"
   },
   {
    "duration": 9,
    "start_time": "2022-03-27T08:53:17.350Z"
   },
   {
    "duration": 47,
    "start_time": "2022-03-27T08:53:17.360Z"
   },
   {
    "duration": 10,
    "start_time": "2022-03-27T08:53:17.409Z"
   },
   {
    "duration": 22,
    "start_time": "2022-03-27T08:53:17.421Z"
   },
   {
    "duration": 6,
    "start_time": "2022-03-27T08:53:17.445Z"
   },
   {
    "duration": 2380,
    "start_time": "2022-03-27T08:53:17.453Z"
   },
   {
    "duration": 1866,
    "start_time": "2022-03-27T08:53:19.835Z"
   },
   {
    "duration": 2720,
    "start_time": "2022-03-27T08:53:21.703Z"
   },
   {
    "duration": 676,
    "start_time": "2022-03-27T08:53:24.425Z"
   },
   {
    "duration": 7,
    "start_time": "2022-03-27T08:53:25.103Z"
   },
   {
    "duration": 650,
    "start_time": "2022-03-27T08:53:25.116Z"
   },
   {
    "duration": 7,
    "start_time": "2022-03-27T08:53:25.768Z"
   },
   {
    "duration": 24,
    "start_time": "2022-03-27T08:53:25.777Z"
   },
   {
    "duration": 6,
    "start_time": "2022-03-27T08:53:25.803Z"
   },
   {
    "duration": 12,
    "start_time": "2022-03-27T08:53:25.810Z"
   },
   {
    "duration": 681,
    "start_time": "2022-03-27T08:53:25.823Z"
   },
   {
    "duration": 6,
    "start_time": "2022-03-27T08:53:26.506Z"
   },
   {
    "duration": 5,
    "start_time": "2022-03-27T08:53:26.514Z"
   },
   {
    "duration": 12,
    "start_time": "2022-03-27T08:53:26.520Z"
   },
   {
    "duration": 6,
    "start_time": "2022-03-27T08:53:26.534Z"
   },
   {
    "duration": 8,
    "start_time": "2022-03-27T08:53:26.542Z"
   },
   {
    "duration": 10,
    "start_time": "2022-03-27T08:53:26.552Z"
   },
   {
    "duration": 6,
    "start_time": "2022-03-27T08:53:26.564Z"
   },
   {
    "duration": 31,
    "start_time": "2022-03-27T08:53:26.572Z"
   },
   {
    "duration": 1705,
    "start_time": "2022-03-27T08:53:26.605Z"
   },
   {
    "duration": 5927,
    "start_time": "2022-03-27T08:53:28.312Z"
   },
   {
    "duration": 1777,
    "start_time": "2022-03-27T08:53:34.241Z"
   },
   {
    "duration": 34550,
    "start_time": "2022-03-27T08:53:36.020Z"
   },
   {
    "duration": 5497,
    "start_time": "2022-03-27T08:54:10.572Z"
   },
   {
    "duration": 2,
    "start_time": "2022-03-27T08:54:16.072Z"
   },
   {
    "duration": 9,
    "start_time": "2022-03-27T08:54:16.076Z"
   },
   {
    "duration": 15,
    "start_time": "2022-03-27T08:54:16.087Z"
   },
   {
    "duration": 9,
    "start_time": "2022-03-27T08:54:16.105Z"
   },
   {
    "duration": 24,
    "start_time": "2022-03-27T08:54:16.117Z"
   },
   {
    "duration": 10,
    "start_time": "2022-03-27T08:54:16.143Z"
   },
   {
    "duration": 23,
    "start_time": "2022-03-27T08:54:16.155Z"
   },
   {
    "duration": 307,
    "start_time": "2022-03-27T08:54:16.180Z"
   },
   {
    "duration": 0,
    "start_time": "2022-03-27T08:54:16.489Z"
   },
   {
    "duration": 3,
    "start_time": "2022-03-27T08:56:50.539Z"
   },
   {
    "duration": 6,
    "start_time": "2022-03-27T08:57:26.223Z"
   },
   {
    "duration": 128,
    "start_time": "2022-03-27T08:57:32.588Z"
   },
   {
    "duration": 134,
    "start_time": "2022-03-27T08:57:49.939Z"
   },
   {
    "duration": 6,
    "start_time": "2022-03-27T08:57:55.803Z"
   },
   {
    "duration": 6,
    "start_time": "2022-03-27T08:58:53.286Z"
   },
   {
    "duration": 8,
    "start_time": "2022-03-27T08:58:58.314Z"
   },
   {
    "duration": 8,
    "start_time": "2022-03-27T08:59:20.424Z"
   },
   {
    "duration": 5,
    "start_time": "2022-03-27T08:59:22.187Z"
   },
   {
    "duration": 7,
    "start_time": "2022-03-27T09:00:59.676Z"
   },
   {
    "duration": 6,
    "start_time": "2022-03-27T09:01:16.702Z"
   },
   {
    "duration": 6,
    "start_time": "2022-03-27T09:01:20.554Z"
   },
   {
    "duration": 5,
    "start_time": "2022-03-27T09:01:43.863Z"
   },
   {
    "duration": 7,
    "start_time": "2022-03-27T09:01:45.670Z"
   },
   {
    "duration": 6,
    "start_time": "2022-03-27T09:03:05.475Z"
   },
   {
    "duration": 7,
    "start_time": "2022-03-27T09:03:46.215Z"
   },
   {
    "duration": 567,
    "start_time": "2022-03-27T09:04:38.835Z"
   },
   {
    "duration": 6,
    "start_time": "2022-03-27T09:05:27.391Z"
   },
   {
    "duration": 6,
    "start_time": "2022-03-27T09:05:44.756Z"
   },
   {
    "duration": 5,
    "start_time": "2022-03-27T09:05:46.621Z"
   },
   {
    "duration": 5,
    "start_time": "2022-03-27T09:05:47.564Z"
   },
   {
    "duration": 7,
    "start_time": "2022-03-27T09:05:48.533Z"
   },
   {
    "duration": 6,
    "start_time": "2022-03-27T09:05:49.096Z"
   },
   {
    "duration": 22,
    "start_time": "2022-03-27T09:10:22.904Z"
   },
   {
    "duration": 4,
    "start_time": "2022-03-27T09:10:45.198Z"
   },
   {
    "duration": 304,
    "start_time": "2022-03-27T09:10:45.204Z"
   },
   {
    "duration": 20,
    "start_time": "2022-03-27T09:10:45.510Z"
   },
   {
    "duration": 253,
    "start_time": "2022-03-27T09:10:45.532Z"
   },
   {
    "duration": 86,
    "start_time": "2022-03-27T09:10:45.789Z"
   },
   {
    "duration": 31,
    "start_time": "2022-03-27T09:10:45.878Z"
   },
   {
    "duration": 142,
    "start_time": "2022-03-27T09:10:45.910Z"
   },
   {
    "duration": 364,
    "start_time": "2022-03-27T09:10:46.054Z"
   },
   {
    "duration": 19,
    "start_time": "2022-03-27T09:10:46.420Z"
   },
   {
    "duration": 262,
    "start_time": "2022-03-27T09:10:46.441Z"
   },
   {
    "duration": 7,
    "start_time": "2022-03-27T09:10:46.706Z"
   },
   {
    "duration": 8,
    "start_time": "2022-03-27T09:10:46.717Z"
   },
   {
    "duration": 9,
    "start_time": "2022-03-27T09:10:46.728Z"
   },
   {
    "duration": 6,
    "start_time": "2022-03-27T09:10:46.740Z"
   },
   {
    "duration": 7,
    "start_time": "2022-03-27T09:10:46.748Z"
   },
   {
    "duration": 67,
    "start_time": "2022-03-27T09:10:46.757Z"
   },
   {
    "duration": 25,
    "start_time": "2022-03-27T09:10:46.826Z"
   },
   {
    "duration": 50,
    "start_time": "2022-03-27T09:10:46.854Z"
   },
   {
    "duration": 9,
    "start_time": "2022-03-27T09:10:46.906Z"
   },
   {
    "duration": 18,
    "start_time": "2022-03-27T09:10:46.918Z"
   },
   {
    "duration": 13,
    "start_time": "2022-03-27T09:10:46.938Z"
   },
   {
    "duration": 60,
    "start_time": "2022-03-27T09:10:46.954Z"
   },
   {
    "duration": 7,
    "start_time": "2022-03-27T09:10:47.017Z"
   },
   {
    "duration": 2969,
    "start_time": "2022-03-27T09:10:47.027Z"
   },
   {
    "duration": 2027,
    "start_time": "2022-03-27T09:10:50.001Z"
   },
   {
    "duration": 2075,
    "start_time": "2022-03-27T09:10:52.031Z"
   },
   {
    "duration": 427,
    "start_time": "2022-03-27T09:10:54.108Z"
   },
   {
    "duration": 6,
    "start_time": "2022-03-27T09:10:54.538Z"
   },
   {
    "duration": 403,
    "start_time": "2022-03-27T09:10:54.545Z"
   },
   {
    "duration": 5,
    "start_time": "2022-03-27T09:10:54.950Z"
   },
   {
    "duration": 7,
    "start_time": "2022-03-27T09:10:54.957Z"
   },
   {
    "duration": 5,
    "start_time": "2022-03-27T09:10:54.966Z"
   },
   {
    "duration": 9,
    "start_time": "2022-03-27T09:10:54.973Z"
   },
   {
    "duration": 672,
    "start_time": "2022-03-27T09:10:55.002Z"
   },
   {
    "duration": 5,
    "start_time": "2022-03-27T09:10:55.676Z"
   },
   {
    "duration": 19,
    "start_time": "2022-03-27T09:10:55.682Z"
   },
   {
    "duration": 11,
    "start_time": "2022-03-27T09:10:55.703Z"
   },
   {
    "duration": 6,
    "start_time": "2022-03-27T09:10:55.716Z"
   },
   {
    "duration": 6,
    "start_time": "2022-03-27T09:10:55.724Z"
   },
   {
    "duration": 5,
    "start_time": "2022-03-27T09:10:55.732Z"
   },
   {
    "duration": 4,
    "start_time": "2022-03-27T09:10:55.742Z"
   },
   {
    "duration": 8,
    "start_time": "2022-03-27T09:10:55.748Z"
   },
   {
    "duration": 84,
    "start_time": "2022-03-27T09:10:55.759Z"
   },
   {
    "duration": 0,
    "start_time": "2022-03-27T09:10:55.845Z"
   },
   {
    "duration": 0,
    "start_time": "2022-03-27T09:10:55.847Z"
   },
   {
    "duration": 0,
    "start_time": "2022-03-27T09:10:55.849Z"
   },
   {
    "duration": 0,
    "start_time": "2022-03-27T09:10:55.851Z"
   },
   {
    "duration": 0,
    "start_time": "2022-03-27T09:10:55.852Z"
   },
   {
    "duration": 0,
    "start_time": "2022-03-27T09:10:55.854Z"
   },
   {
    "duration": 0,
    "start_time": "2022-03-27T09:10:55.855Z"
   },
   {
    "duration": 0,
    "start_time": "2022-03-27T09:10:55.857Z"
   },
   {
    "duration": 0,
    "start_time": "2022-03-27T09:10:55.859Z"
   },
   {
    "duration": 0,
    "start_time": "2022-03-27T09:10:55.860Z"
   },
   {
    "duration": 0,
    "start_time": "2022-03-27T09:10:55.862Z"
   },
   {
    "duration": 0,
    "start_time": "2022-03-27T09:10:55.863Z"
   },
   {
    "duration": 0,
    "start_time": "2022-03-27T09:10:55.865Z"
   },
   {
    "duration": 0,
    "start_time": "2022-03-27T09:10:55.866Z"
   },
   {
    "duration": 0,
    "start_time": "2022-03-27T09:10:55.867Z"
   },
   {
    "duration": 0,
    "start_time": "2022-03-27T09:10:55.868Z"
   },
   {
    "duration": 0,
    "start_time": "2022-03-27T09:10:55.902Z"
   },
   {
    "duration": 0,
    "start_time": "2022-03-27T09:10:55.903Z"
   },
   {
    "duration": 0,
    "start_time": "2022-03-27T09:10:55.905Z"
   },
   {
    "duration": 0,
    "start_time": "2022-03-27T09:10:55.906Z"
   },
   {
    "duration": 10,
    "start_time": "2022-03-27T09:17:22.416Z"
   },
   {
    "duration": 5,
    "start_time": "2022-03-27T09:17:36.634Z"
   },
   {
    "duration": 5,
    "start_time": "2022-03-27T09:18:46.315Z"
   },
   {
    "duration": 3,
    "start_time": "2022-03-27T09:18:50.315Z"
   },
   {
    "duration": 5,
    "start_time": "2022-03-27T09:20:25.642Z"
   },
   {
    "duration": 5,
    "start_time": "2022-03-27T09:24:04.532Z"
   },
   {
    "duration": 30,
    "start_time": "2022-03-27T09:27:39.873Z"
   },
   {
    "duration": 4,
    "start_time": "2022-03-27T09:29:35.150Z"
   },
   {
    "duration": 280,
    "start_time": "2022-03-27T09:29:35.161Z"
   },
   {
    "duration": 20,
    "start_time": "2022-03-27T09:29:35.443Z"
   },
   {
    "duration": 249,
    "start_time": "2022-03-27T09:29:35.466Z"
   },
   {
    "duration": 92,
    "start_time": "2022-03-27T09:29:35.718Z"
   },
   {
    "duration": 13,
    "start_time": "2022-03-27T09:29:35.813Z"
   },
   {
    "duration": 143,
    "start_time": "2022-03-27T09:29:35.828Z"
   },
   {
    "duration": 359,
    "start_time": "2022-03-27T09:29:35.973Z"
   },
   {
    "duration": 18,
    "start_time": "2022-03-27T09:29:36.335Z"
   },
   {
    "duration": 260,
    "start_time": "2022-03-27T09:29:36.355Z"
   },
   {
    "duration": 4,
    "start_time": "2022-03-27T09:29:36.617Z"
   },
   {
    "duration": 5,
    "start_time": "2022-03-27T09:29:36.623Z"
   },
   {
    "duration": 19,
    "start_time": "2022-03-27T09:29:36.630Z"
   },
   {
    "duration": 12,
    "start_time": "2022-03-27T09:29:36.651Z"
   },
   {
    "duration": 5,
    "start_time": "2022-03-27T09:29:36.667Z"
   },
   {
    "duration": 23,
    "start_time": "2022-03-27T09:29:36.702Z"
   },
   {
    "duration": 17,
    "start_time": "2022-03-27T09:29:36.727Z"
   },
   {
    "duration": 59,
    "start_time": "2022-03-27T09:29:36.747Z"
   },
   {
    "duration": 9,
    "start_time": "2022-03-27T09:29:36.808Z"
   },
   {
    "duration": 15,
    "start_time": "2022-03-27T09:29:36.819Z"
   },
   {
    "duration": 8,
    "start_time": "2022-03-27T09:29:36.836Z"
   },
   {
    "duration": 13,
    "start_time": "2022-03-27T09:29:36.846Z"
   },
   {
    "duration": 6,
    "start_time": "2022-03-27T09:29:36.861Z"
   },
   {
    "duration": 2113,
    "start_time": "2022-03-27T09:29:36.902Z"
   },
   {
    "duration": 1984,
    "start_time": "2022-03-27T09:29:39.017Z"
   },
   {
    "duration": 2043,
    "start_time": "2022-03-27T09:29:41.003Z"
   },
   {
    "duration": 421,
    "start_time": "2022-03-27T09:29:43.048Z"
   },
   {
    "duration": 5,
    "start_time": "2022-03-27T09:29:43.471Z"
   },
   {
    "duration": 408,
    "start_time": "2022-03-27T09:29:43.478Z"
   },
   {
    "duration": 12,
    "start_time": "2022-03-27T09:29:43.889Z"
   },
   {
    "duration": 12,
    "start_time": "2022-03-27T09:29:43.903Z"
   },
   {
    "duration": 12,
    "start_time": "2022-03-27T09:29:43.917Z"
   },
   {
    "duration": 6,
    "start_time": "2022-03-27T09:29:43.931Z"
   },
   {
    "duration": 492,
    "start_time": "2022-03-27T09:29:43.939Z"
   },
   {
    "duration": 5,
    "start_time": "2022-03-27T09:29:44.433Z"
   },
   {
    "duration": 5,
    "start_time": "2022-03-27T09:29:44.440Z"
   },
   {
    "duration": 12,
    "start_time": "2022-03-27T09:29:44.447Z"
   },
   {
    "duration": 7,
    "start_time": "2022-03-27T09:29:44.461Z"
   },
   {
    "duration": 5,
    "start_time": "2022-03-27T09:29:44.470Z"
   },
   {
    "duration": 3,
    "start_time": "2022-03-27T09:29:44.500Z"
   },
   {
    "duration": 6,
    "start_time": "2022-03-27T09:29:44.506Z"
   },
   {
    "duration": 3,
    "start_time": "2022-03-27T09:29:44.518Z"
   },
   {
    "duration": 36,
    "start_time": "2022-03-27T09:29:44.523Z"
   },
   {
    "duration": 0,
    "start_time": "2022-03-27T09:29:44.561Z"
   },
   {
    "duration": 0,
    "start_time": "2022-03-27T09:29:44.563Z"
   },
   {
    "duration": 1,
    "start_time": "2022-03-27T09:29:44.564Z"
   },
   {
    "duration": 0,
    "start_time": "2022-03-27T09:29:44.601Z"
   },
   {
    "duration": 0,
    "start_time": "2022-03-27T09:29:44.603Z"
   },
   {
    "duration": 0,
    "start_time": "2022-03-27T09:29:44.605Z"
   },
   {
    "duration": 0,
    "start_time": "2022-03-27T09:29:44.607Z"
   },
   {
    "duration": 0,
    "start_time": "2022-03-27T09:29:44.608Z"
   },
   {
    "duration": 0,
    "start_time": "2022-03-27T09:29:44.610Z"
   },
   {
    "duration": 0,
    "start_time": "2022-03-27T09:29:44.611Z"
   },
   {
    "duration": 0,
    "start_time": "2022-03-27T09:29:44.612Z"
   },
   {
    "duration": 0,
    "start_time": "2022-03-27T09:29:44.614Z"
   },
   {
    "duration": 0,
    "start_time": "2022-03-27T09:29:44.615Z"
   },
   {
    "duration": 0,
    "start_time": "2022-03-27T09:29:44.616Z"
   },
   {
    "duration": 0,
    "start_time": "2022-03-27T09:29:44.617Z"
   },
   {
    "duration": 0,
    "start_time": "2022-03-27T09:29:44.619Z"
   },
   {
    "duration": 0,
    "start_time": "2022-03-27T09:29:44.620Z"
   },
   {
    "duration": 0,
    "start_time": "2022-03-27T09:29:44.621Z"
   },
   {
    "duration": 0,
    "start_time": "2022-03-27T09:29:44.622Z"
   },
   {
    "duration": 0,
    "start_time": "2022-03-27T09:29:44.623Z"
   },
   {
    "duration": 5,
    "start_time": "2022-03-27T09:34:20.138Z"
   },
   {
    "duration": 291,
    "start_time": "2022-03-27T09:34:20.146Z"
   },
   {
    "duration": 17,
    "start_time": "2022-03-27T09:34:20.439Z"
   },
   {
    "duration": 233,
    "start_time": "2022-03-27T09:34:20.459Z"
   },
   {
    "duration": 83,
    "start_time": "2022-03-27T09:34:20.694Z"
   },
   {
    "duration": 31,
    "start_time": "2022-03-27T09:34:20.779Z"
   },
   {
    "duration": 140,
    "start_time": "2022-03-27T09:34:20.811Z"
   },
   {
    "duration": 367,
    "start_time": "2022-03-27T09:34:20.953Z"
   },
   {
    "duration": 230,
    "start_time": "2022-03-27T09:34:21.322Z"
   },
   {
    "duration": 260,
    "start_time": "2022-03-27T09:34:21.555Z"
   },
   {
    "duration": 5,
    "start_time": "2022-03-27T09:34:21.816Z"
   },
   {
    "duration": 5,
    "start_time": "2022-03-27T09:34:21.823Z"
   },
   {
    "duration": 10,
    "start_time": "2022-03-27T09:34:21.830Z"
   },
   {
    "duration": 10,
    "start_time": "2022-03-27T09:34:21.842Z"
   },
   {
    "duration": 48,
    "start_time": "2022-03-27T09:34:21.855Z"
   },
   {
    "duration": 22,
    "start_time": "2022-03-27T09:34:21.906Z"
   },
   {
    "duration": 17,
    "start_time": "2022-03-27T09:34:21.930Z"
   },
   {
    "duration": 55,
    "start_time": "2022-03-27T09:34:21.949Z"
   },
   {
    "duration": 9,
    "start_time": "2022-03-27T09:34:22.005Z"
   },
   {
    "duration": 21,
    "start_time": "2022-03-27T09:34:22.016Z"
   },
   {
    "duration": 10,
    "start_time": "2022-03-27T09:34:22.040Z"
   },
   {
    "duration": 13,
    "start_time": "2022-03-27T09:34:22.052Z"
   },
   {
    "duration": 35,
    "start_time": "2022-03-27T09:34:22.067Z"
   },
   {
    "duration": 2151,
    "start_time": "2022-03-27T09:34:22.104Z"
   },
   {
    "duration": 2029,
    "start_time": "2022-03-27T09:34:24.257Z"
   },
   {
    "duration": 1852,
    "start_time": "2022-03-27T09:34:26.288Z"
   },
   {
    "duration": 864,
    "start_time": "2022-03-27T09:34:28.142Z"
   },
   {
    "duration": 5,
    "start_time": "2022-03-27T09:34:29.010Z"
   },
   {
    "duration": 396,
    "start_time": "2022-03-27T09:34:29.016Z"
   },
   {
    "duration": 6,
    "start_time": "2022-03-27T09:34:29.413Z"
   },
   {
    "duration": 8,
    "start_time": "2022-03-27T09:34:29.420Z"
   },
   {
    "duration": 12,
    "start_time": "2022-03-27T09:34:29.430Z"
   },
   {
    "duration": 8,
    "start_time": "2022-03-27T09:34:29.444Z"
   },
   {
    "duration": 512,
    "start_time": "2022-03-27T09:34:29.454Z"
   },
   {
    "duration": 5,
    "start_time": "2022-03-27T09:34:29.967Z"
   },
   {
    "duration": 5,
    "start_time": "2022-03-27T09:34:29.974Z"
   },
   {
    "duration": 26,
    "start_time": "2022-03-27T09:34:29.981Z"
   },
   {
    "duration": 4,
    "start_time": "2022-03-27T09:34:30.009Z"
   },
   {
    "duration": 8,
    "start_time": "2022-03-27T09:34:30.014Z"
   },
   {
    "duration": 7,
    "start_time": "2022-03-27T09:34:30.024Z"
   },
   {
    "duration": 10,
    "start_time": "2022-03-27T09:34:30.033Z"
   },
   {
    "duration": 11,
    "start_time": "2022-03-27T09:34:30.044Z"
   },
   {
    "duration": 1551,
    "start_time": "2022-03-27T09:34:30.057Z"
   },
   {
    "duration": 5903,
    "start_time": "2022-03-27T09:34:31.610Z"
   },
   {
    "duration": 1747,
    "start_time": "2022-03-27T09:34:37.515Z"
   },
   {
    "duration": 34269,
    "start_time": "2022-03-27T09:34:39.263Z"
   },
   {
    "duration": 5659,
    "start_time": "2022-03-27T09:35:13.534Z"
   },
   {
    "duration": 6,
    "start_time": "2022-03-27T09:35:19.195Z"
   },
   {
    "duration": 5,
    "start_time": "2022-03-27T09:35:19.203Z"
   },
   {
    "duration": 5,
    "start_time": "2022-03-27T09:35:19.210Z"
   },
   {
    "duration": 8,
    "start_time": "2022-03-27T09:35:19.217Z"
   },
   {
    "duration": 6,
    "start_time": "2022-03-27T09:35:19.227Z"
   },
   {
    "duration": 5,
    "start_time": "2022-03-27T09:35:19.235Z"
   },
   {
    "duration": 10,
    "start_time": "2022-03-27T09:35:19.242Z"
   },
   {
    "duration": 10,
    "start_time": "2022-03-27T09:35:19.254Z"
   },
   {
    "duration": 37,
    "start_time": "2022-03-27T09:35:19.266Z"
   },
   {
    "duration": 100,
    "start_time": "2022-03-27T09:35:19.306Z"
   },
   {
    "duration": 92,
    "start_time": "2022-03-27T09:35:19.409Z"
   },
   {
    "duration": 5,
    "start_time": "2022-03-27T09:35:19.503Z"
   },
   {
    "duration": 8,
    "start_time": "2022-03-27T09:35:19.510Z"
   },
   {
    "duration": 5,
    "start_time": "2022-03-27T09:35:19.520Z"
   },
   {
    "duration": 3,
    "start_time": "2022-03-27T09:35:19.527Z"
   },
   {
    "duration": 5,
    "start_time": "2022-03-27T09:35:19.532Z"
   },
   {
    "duration": 4,
    "start_time": "2022-03-27T09:38:37.890Z"
   },
   {
    "duration": 317,
    "start_time": "2022-03-27T09:38:37.896Z"
   },
   {
    "duration": 20,
    "start_time": "2022-03-27T09:38:38.216Z"
   },
   {
    "duration": 247,
    "start_time": "2022-03-27T09:38:38.239Z"
   },
   {
    "duration": 89,
    "start_time": "2022-03-27T09:38:38.489Z"
   },
   {
    "duration": 28,
    "start_time": "2022-03-27T09:38:38.580Z"
   },
   {
    "duration": 132,
    "start_time": "2022-03-27T09:38:38.609Z"
   },
   {
    "duration": 357,
    "start_time": "2022-03-27T09:38:38.744Z"
   },
   {
    "duration": 20,
    "start_time": "2022-03-27T09:38:39.102Z"
   },
   {
    "duration": 255,
    "start_time": "2022-03-27T09:38:39.124Z"
   },
   {
    "duration": 7,
    "start_time": "2022-03-27T09:38:39.381Z"
   },
   {
    "duration": 4,
    "start_time": "2022-03-27T09:38:39.401Z"
   },
   {
    "duration": 9,
    "start_time": "2022-03-27T09:38:39.408Z"
   },
   {
    "duration": 10,
    "start_time": "2022-03-27T09:38:39.421Z"
   },
   {
    "duration": 8,
    "start_time": "2022-03-27T09:38:39.433Z"
   },
   {
    "duration": 66,
    "start_time": "2022-03-27T09:38:39.443Z"
   },
   {
    "duration": 18,
    "start_time": "2022-03-27T09:38:39.511Z"
   },
   {
    "duration": 25,
    "start_time": "2022-03-27T09:38:39.532Z"
   },
   {
    "duration": 3,
    "start_time": "2022-03-27T09:38:39.559Z"
   },
   {
    "duration": 38,
    "start_time": "2022-03-27T09:38:39.564Z"
   },
   {
    "duration": 23,
    "start_time": "2022-03-27T09:38:39.605Z"
   },
   {
    "duration": 6,
    "start_time": "2022-03-27T09:38:39.631Z"
   },
   {
    "duration": 2417,
    "start_time": "2022-03-27T09:38:39.639Z"
   },
   {
    "duration": 2298,
    "start_time": "2022-03-27T09:38:42.058Z"
   },
   {
    "duration": 1954,
    "start_time": "2022-03-27T09:38:44.358Z"
   },
   {
    "duration": 560,
    "start_time": "2022-03-27T09:38:46.313Z"
   },
   {
    "duration": 6,
    "start_time": "2022-03-27T09:38:46.876Z"
   },
   {
    "duration": 640,
    "start_time": "2022-03-27T09:38:46.884Z"
   },
   {
    "duration": 7,
    "start_time": "2022-03-27T09:38:47.526Z"
   },
   {
    "duration": 8,
    "start_time": "2022-03-27T09:38:47.535Z"
   },
   {
    "duration": 7,
    "start_time": "2022-03-27T09:38:47.545Z"
   },
   {
    "duration": 7,
    "start_time": "2022-03-27T09:38:47.553Z"
   },
   {
    "duration": 588,
    "start_time": "2022-03-27T09:38:47.562Z"
   },
   {
    "duration": 7,
    "start_time": "2022-03-27T09:38:48.152Z"
   },
   {
    "duration": 8,
    "start_time": "2022-03-27T09:38:48.161Z"
   },
   {
    "duration": 31,
    "start_time": "2022-03-27T09:38:48.171Z"
   },
   {
    "duration": 8,
    "start_time": "2022-03-27T09:38:48.204Z"
   },
   {
    "duration": 8,
    "start_time": "2022-03-27T09:38:48.214Z"
   },
   {
    "duration": 23,
    "start_time": "2022-03-27T09:38:48.224Z"
   },
   {
    "duration": 21,
    "start_time": "2022-03-27T09:38:48.249Z"
   },
   {
    "duration": 13,
    "start_time": "2022-03-27T09:38:48.276Z"
   },
   {
    "duration": 1418,
    "start_time": "2022-03-27T09:38:48.291Z"
   },
   {
    "duration": 5825,
    "start_time": "2022-03-27T09:38:49.800Z"
   },
   {
    "duration": 1690,
    "start_time": "2022-03-27T09:38:55.626Z"
   },
   {
    "duration": 32765,
    "start_time": "2022-03-27T09:38:57.319Z"
   },
   {
    "duration": 5015,
    "start_time": "2022-03-27T09:39:30.086Z"
   },
   {
    "duration": 2,
    "start_time": "2022-03-27T09:39:35.103Z"
   },
   {
    "duration": 7,
    "start_time": "2022-03-27T09:39:35.107Z"
   },
   {
    "duration": 8,
    "start_time": "2022-03-27T09:39:35.117Z"
   },
   {
    "duration": 6,
    "start_time": "2022-03-27T09:39:35.127Z"
   },
   {
    "duration": 17,
    "start_time": "2022-03-27T09:39:35.135Z"
   },
   {
    "duration": 7,
    "start_time": "2022-03-27T09:39:35.155Z"
   },
   {
    "duration": 8,
    "start_time": "2022-03-27T09:39:35.164Z"
   },
   {
    "duration": 34,
    "start_time": "2022-03-27T09:39:35.174Z"
   },
   {
    "duration": 0,
    "start_time": "2022-03-27T09:39:35.210Z"
   },
   {
    "duration": 0,
    "start_time": "2022-03-27T09:39:35.211Z"
   },
   {
    "duration": 0,
    "start_time": "2022-03-27T09:39:35.213Z"
   },
   {
    "duration": 0,
    "start_time": "2022-03-27T09:39:35.214Z"
   },
   {
    "duration": 0,
    "start_time": "2022-03-27T09:39:35.215Z"
   },
   {
    "duration": 0,
    "start_time": "2022-03-27T09:39:35.217Z"
   },
   {
    "duration": 0,
    "start_time": "2022-03-27T09:39:35.218Z"
   },
   {
    "duration": 0,
    "start_time": "2022-03-27T09:39:35.219Z"
   },
   {
    "duration": 6,
    "start_time": "2022-03-27T09:47:59.969Z"
   },
   {
    "duration": 2374,
    "start_time": "2022-03-27T09:48:01.177Z"
   },
   {
    "duration": 7,
    "start_time": "2022-03-27T09:48:22.844Z"
   },
   {
    "duration": 1625,
    "start_time": "2022-03-27T09:48:23.645Z"
   },
   {
    "duration": 6,
    "start_time": "2022-03-27T09:48:54.118Z"
   },
   {
    "duration": 2394,
    "start_time": "2022-03-27T09:48:54.647Z"
   },
   {
    "duration": 5,
    "start_time": "2022-03-27T09:49:09.082Z"
   },
   {
    "duration": 1165,
    "start_time": "2022-03-27T09:49:10.926Z"
   },
   {
    "duration": 9,
    "start_time": "2022-03-27T09:51:13.985Z"
   },
   {
    "duration": 1406,
    "start_time": "2022-03-27T09:51:14.795Z"
   },
   {
    "duration": 6,
    "start_time": "2022-03-27T09:51:29.553Z"
   },
   {
    "duration": 1628,
    "start_time": "2022-03-27T09:51:30.179Z"
   },
   {
    "duration": 8,
    "start_time": "2022-03-27T09:53:27.527Z"
   },
   {
    "duration": 3469,
    "start_time": "2022-03-27T09:53:28.954Z"
   },
   {
    "duration": 2495,
    "start_time": "2022-03-27T09:53:41.436Z"
   },
   {
    "duration": 2814,
    "start_time": "2022-03-27T09:53:43.934Z"
   },
   {
    "duration": 605,
    "start_time": "2022-03-27T09:53:50.613Z"
   },
   {
    "duration": 8,
    "start_time": "2022-03-27T09:55:44.695Z"
   },
   {
    "duration": 2376,
    "start_time": "2022-03-27T09:55:45.423Z"
   },
   {
    "duration": 1920,
    "start_time": "2022-03-27T09:57:01.403Z"
   },
   {
    "duration": 140,
    "start_time": "2022-03-27T09:57:19.177Z"
   },
   {
    "duration": 44,
    "start_time": "2022-03-27T11:43:25.338Z"
   },
   {
    "duration": 1649,
    "start_time": "2022-03-27T11:44:17.439Z"
   },
   {
    "duration": 253,
    "start_time": "2022-03-27T11:44:19.090Z"
   },
   {
    "duration": 19,
    "start_time": "2022-03-27T11:44:19.345Z"
   },
   {
    "duration": 194,
    "start_time": "2022-03-27T11:44:19.365Z"
   },
   {
    "duration": 80,
    "start_time": "2022-03-27T11:44:19.564Z"
   },
   {
    "duration": 23,
    "start_time": "2022-03-27T11:44:19.646Z"
   },
   {
    "duration": 113,
    "start_time": "2022-03-27T11:44:19.671Z"
   },
   {
    "duration": 331,
    "start_time": "2022-03-27T11:44:19.786Z"
   },
   {
    "duration": 16,
    "start_time": "2022-03-27T11:44:20.118Z"
   },
   {
    "duration": 211,
    "start_time": "2022-03-27T11:44:20.136Z"
   },
   {
    "duration": 5,
    "start_time": "2022-03-27T11:44:20.348Z"
   },
   {
    "duration": 3,
    "start_time": "2022-03-27T11:44:20.363Z"
   },
   {
    "duration": 11,
    "start_time": "2022-03-27T11:44:20.367Z"
   },
   {
    "duration": 9,
    "start_time": "2022-03-27T11:44:20.382Z"
   },
   {
    "duration": 7,
    "start_time": "2022-03-27T11:44:20.393Z"
   },
   {
    "duration": 87,
    "start_time": "2022-03-27T11:44:20.402Z"
   },
   {
    "duration": 14,
    "start_time": "2022-03-27T11:44:20.491Z"
   },
   {
    "duration": 20,
    "start_time": "2022-03-27T11:44:20.507Z"
   },
   {
    "duration": 2,
    "start_time": "2022-03-27T11:44:20.529Z"
   },
   {
    "duration": 7,
    "start_time": "2022-03-27T11:44:20.533Z"
   },
   {
    "duration": 23,
    "start_time": "2022-03-27T11:44:20.564Z"
   },
   {
    "duration": 5,
    "start_time": "2022-03-27T11:44:20.589Z"
   },
   {
    "duration": 2211,
    "start_time": "2022-03-27T11:44:20.595Z"
   },
   {
    "duration": 1757,
    "start_time": "2022-03-27T11:44:22.807Z"
   },
   {
    "duration": 1690,
    "start_time": "2022-03-27T11:44:24.565Z"
   },
   {
    "duration": 346,
    "start_time": "2022-03-27T11:44:26.257Z"
   },
   {
    "duration": 4,
    "start_time": "2022-03-27T11:44:26.605Z"
   },
   {
    "duration": 444,
    "start_time": "2022-03-27T11:44:26.610Z"
   },
   {
    "duration": 9,
    "start_time": "2022-03-27T11:44:27.055Z"
   },
   {
    "duration": 8,
    "start_time": "2022-03-27T11:44:27.066Z"
   },
   {
    "duration": 5,
    "start_time": "2022-03-27T11:44:27.075Z"
   },
   {
    "duration": 5,
    "start_time": "2022-03-27T11:44:27.081Z"
   },
   {
    "duration": 530,
    "start_time": "2022-03-27T11:44:27.087Z"
   },
   {
    "duration": 4,
    "start_time": "2022-03-27T11:44:27.619Z"
   },
   {
    "duration": 6,
    "start_time": "2022-03-27T11:44:27.625Z"
   },
   {
    "duration": 12,
    "start_time": "2022-03-27T11:44:27.632Z"
   },
   {
    "duration": 16,
    "start_time": "2022-03-27T11:44:27.646Z"
   },
   {
    "duration": 2,
    "start_time": "2022-03-27T11:44:27.664Z"
   },
   {
    "duration": 4,
    "start_time": "2022-03-27T11:44:27.668Z"
   },
   {
    "duration": 6,
    "start_time": "2022-03-27T11:44:27.673Z"
   },
   {
    "duration": 3,
    "start_time": "2022-03-27T11:44:27.682Z"
   },
   {
    "duration": 1384,
    "start_time": "2022-03-27T11:44:27.686Z"
   },
   {
    "duration": 4966,
    "start_time": "2022-03-27T11:44:29.072Z"
   },
   {
    "duration": 1487,
    "start_time": "2022-03-27T11:44:34.040Z"
   },
   {
    "duration": 28338,
    "start_time": "2022-03-27T11:44:35.529Z"
   },
   {
    "duration": 4456,
    "start_time": "2022-03-27T11:45:03.868Z"
   },
   {
    "duration": 17,
    "start_time": "2022-03-27T11:45:08.325Z"
   },
   {
    "duration": 28,
    "start_time": "2022-03-27T11:45:08.343Z"
   },
   {
    "duration": 77,
    "start_time": "2022-03-27T11:45:08.373Z"
   },
   {
    "duration": 0,
    "start_time": "2022-03-27T11:45:08.451Z"
   },
   {
    "duration": 0,
    "start_time": "2022-03-27T11:45:08.453Z"
   },
   {
    "duration": 0,
    "start_time": "2022-03-27T11:45:08.453Z"
   },
   {
    "duration": 0,
    "start_time": "2022-03-27T11:45:08.463Z"
   },
   {
    "duration": 0,
    "start_time": "2022-03-27T11:45:08.464Z"
   },
   {
    "duration": 0,
    "start_time": "2022-03-27T11:45:08.465Z"
   },
   {
    "duration": 0,
    "start_time": "2022-03-27T11:45:08.466Z"
   },
   {
    "duration": 0,
    "start_time": "2022-03-27T11:45:08.466Z"
   },
   {
    "duration": 0,
    "start_time": "2022-03-27T11:45:08.467Z"
   },
   {
    "duration": 0,
    "start_time": "2022-03-27T11:45:08.468Z"
   },
   {
    "duration": 0,
    "start_time": "2022-03-27T11:45:08.469Z"
   },
   {
    "duration": 0,
    "start_time": "2022-03-27T11:45:08.469Z"
   },
   {
    "duration": 0,
    "start_time": "2022-03-27T11:45:08.471Z"
   },
   {
    "duration": 12,
    "start_time": "2022-03-27T11:46:25.710Z"
   },
   {
    "duration": 13,
    "start_time": "2022-03-27T11:46:27.102Z"
   },
   {
    "duration": 5,
    "start_time": "2022-03-27T11:46:35.352Z"
   },
   {
    "duration": 4,
    "start_time": "2022-03-27T11:46:36.629Z"
   },
   {
    "duration": 12,
    "start_time": "2022-03-27T11:46:37.860Z"
   },
   {
    "duration": 3,
    "start_time": "2022-03-27T11:46:44.676Z"
   },
   {
    "duration": 6,
    "start_time": "2022-03-27T11:46:45.396Z"
   },
   {
    "duration": 5,
    "start_time": "2022-03-27T11:46:46.925Z"
   },
   {
    "duration": 5,
    "start_time": "2022-03-27T11:46:51.589Z"
   },
   {
    "duration": 4,
    "start_time": "2022-03-27T11:46:52.397Z"
   },
   {
    "duration": 6,
    "start_time": "2022-03-27T11:46:56.831Z"
   },
   {
    "duration": 5,
    "start_time": "2022-03-27T11:46:57.412Z"
   },
   {
    "duration": 7,
    "start_time": "2022-03-27T11:51:16.873Z"
   },
   {
    "duration": 546,
    "start_time": "2022-03-27T11:51:39.175Z"
   },
   {
    "duration": 7,
    "start_time": "2022-03-27T11:51:42.668Z"
   },
   {
    "duration": 8,
    "start_time": "2022-03-27T11:53:05.297Z"
   },
   {
    "duration": 4,
    "start_time": "2022-03-27T11:56:21.067Z"
   },
   {
    "duration": 287,
    "start_time": "2022-03-27T11:56:21.073Z"
   },
   {
    "duration": 14,
    "start_time": "2022-03-27T11:56:21.363Z"
   },
   {
    "duration": 199,
    "start_time": "2022-03-27T11:56:21.379Z"
   },
   {
    "duration": 87,
    "start_time": "2022-03-27T11:56:21.580Z"
   },
   {
    "duration": 13,
    "start_time": "2022-03-27T11:56:21.669Z"
   },
   {
    "duration": 127,
    "start_time": "2022-03-27T11:56:21.683Z"
   },
   {
    "duration": 344,
    "start_time": "2022-03-27T11:56:21.811Z"
   },
   {
    "duration": 21,
    "start_time": "2022-03-27T11:56:22.156Z"
   },
   {
    "duration": 226,
    "start_time": "2022-03-27T11:56:22.180Z"
   },
   {
    "duration": 5,
    "start_time": "2022-03-27T11:56:22.408Z"
   },
   {
    "duration": 6,
    "start_time": "2022-03-27T11:56:22.414Z"
   },
   {
    "duration": 9,
    "start_time": "2022-03-27T11:56:22.421Z"
   },
   {
    "duration": 8,
    "start_time": "2022-03-27T11:56:22.431Z"
   },
   {
    "duration": 25,
    "start_time": "2022-03-27T11:56:22.440Z"
   },
   {
    "duration": 22,
    "start_time": "2022-03-27T11:56:22.467Z"
   },
   {
    "duration": 19,
    "start_time": "2022-03-27T11:56:22.491Z"
   },
   {
    "duration": 19,
    "start_time": "2022-03-27T11:56:22.511Z"
   },
   {
    "duration": 31,
    "start_time": "2022-03-27T11:56:22.532Z"
   },
   {
    "duration": 10,
    "start_time": "2022-03-27T11:56:22.564Z"
   },
   {
    "duration": 25,
    "start_time": "2022-03-27T11:56:22.576Z"
   },
   {
    "duration": 5,
    "start_time": "2022-03-27T11:56:22.603Z"
   },
   {
    "duration": 2209,
    "start_time": "2022-03-27T11:56:22.609Z"
   },
   {
    "duration": 1875,
    "start_time": "2022-03-27T11:56:24.820Z"
   },
   {
    "duration": 1779,
    "start_time": "2022-03-27T11:56:26.696Z"
   },
   {
    "duration": 368,
    "start_time": "2022-03-27T11:56:28.476Z"
   },
   {
    "duration": 5,
    "start_time": "2022-03-27T11:56:28.846Z"
   },
   {
    "duration": 471,
    "start_time": "2022-03-27T11:56:28.867Z"
   },
   {
    "duration": 5,
    "start_time": "2022-03-27T11:56:29.339Z"
   },
   {
    "duration": 17,
    "start_time": "2022-03-27T11:56:29.346Z"
   },
   {
    "duration": 5,
    "start_time": "2022-03-27T11:56:29.365Z"
   },
   {
    "duration": 5,
    "start_time": "2022-03-27T11:56:29.372Z"
   },
   {
    "duration": 475,
    "start_time": "2022-03-27T11:56:29.379Z"
   },
   {
    "duration": 7,
    "start_time": "2022-03-27T11:56:29.856Z"
   },
   {
    "duration": 5,
    "start_time": "2022-03-27T11:56:29.865Z"
   },
   {
    "duration": 14,
    "start_time": "2022-03-27T11:56:29.872Z"
   },
   {
    "duration": 4,
    "start_time": "2022-03-27T11:56:29.888Z"
   },
   {
    "duration": 6,
    "start_time": "2022-03-27T11:56:29.895Z"
   },
   {
    "duration": 8,
    "start_time": "2022-03-27T11:56:29.902Z"
   },
   {
    "duration": 4,
    "start_time": "2022-03-27T11:56:29.911Z"
   },
   {
    "duration": 4,
    "start_time": "2022-03-27T11:56:29.917Z"
   },
   {
    "duration": 1641,
    "start_time": "2022-03-27T11:56:29.923Z"
   },
   {
    "duration": 5550,
    "start_time": "2022-03-27T11:56:31.566Z"
   },
   {
    "duration": 1509,
    "start_time": "2022-03-27T11:56:37.118Z"
   },
   {
    "duration": 28616,
    "start_time": "2022-03-27T11:56:38.628Z"
   },
   {
    "duration": 4243,
    "start_time": "2022-03-27T11:57:07.246Z"
   },
   {
    "duration": 14,
    "start_time": "2022-03-27T11:57:11.490Z"
   },
   {
    "duration": 10,
    "start_time": "2022-03-27T11:57:11.505Z"
   },
   {
    "duration": 11,
    "start_time": "2022-03-27T11:57:11.517Z"
   },
   {
    "duration": 4,
    "start_time": "2022-03-27T11:57:11.529Z"
   },
   {
    "duration": 30,
    "start_time": "2022-03-27T11:57:11.534Z"
   },
   {
    "duration": 5,
    "start_time": "2022-03-27T11:57:11.565Z"
   },
   {
    "duration": 15,
    "start_time": "2022-03-27T11:57:11.571Z"
   },
   {
    "duration": 79,
    "start_time": "2022-03-27T11:57:11.588Z"
   },
   {
    "duration": 102,
    "start_time": "2022-03-27T11:57:11.669Z"
   },
   {
    "duration": 5,
    "start_time": "2022-03-27T11:57:11.772Z"
   },
   {
    "duration": 6,
    "start_time": "2022-03-27T11:57:11.779Z"
   },
   {
    "duration": 5,
    "start_time": "2022-03-27T11:57:11.786Z"
   },
   {
    "duration": 3,
    "start_time": "2022-03-27T11:57:11.792Z"
   },
   {
    "duration": 5,
    "start_time": "2022-03-27T11:57:11.796Z"
   },
   {
    "duration": 12,
    "start_time": "2022-03-27T11:57:11.802Z"
   },
   {
    "duration": 70,
    "start_time": "2022-03-28T09:28:53.326Z"
   },
   {
    "duration": 11,
    "start_time": "2022-03-28T09:36:57.286Z"
   },
   {
    "duration": 2248,
    "start_time": "2022-03-28T09:37:06.591Z"
   },
   {
    "duration": 337,
    "start_time": "2022-03-28T09:37:08.842Z"
   },
   {
    "duration": 25,
    "start_time": "2022-03-28T09:37:09.181Z"
   },
   {
    "duration": 363,
    "start_time": "2022-03-28T09:37:09.208Z"
   },
   {
    "duration": 127,
    "start_time": "2022-03-28T09:37:09.574Z"
   },
   {
    "duration": 18,
    "start_time": "2022-03-28T09:37:09.703Z"
   },
   {
    "duration": 215,
    "start_time": "2022-03-28T09:37:09.723Z"
   },
   {
    "duration": 505,
    "start_time": "2022-03-28T09:37:09.941Z"
   },
   {
    "duration": 38,
    "start_time": "2022-03-28T09:37:10.448Z"
   },
   {
    "duration": 381,
    "start_time": "2022-03-28T09:37:10.490Z"
   },
   {
    "duration": 7,
    "start_time": "2022-03-28T09:37:10.874Z"
   },
   {
    "duration": 8,
    "start_time": "2022-03-28T09:37:10.883Z"
   },
   {
    "duration": 14,
    "start_time": "2022-03-28T09:37:10.893Z"
   },
   {
    "duration": 11,
    "start_time": "2022-03-28T09:37:10.910Z"
   },
   {
    "duration": 8,
    "start_time": "2022-03-28T09:37:10.967Z"
   },
   {
    "duration": 112,
    "start_time": "2022-03-28T09:37:10.978Z"
   },
   {
    "duration": 22,
    "start_time": "2022-03-28T09:37:11.093Z"
   },
   {
    "duration": 64,
    "start_time": "2022-03-28T09:37:11.117Z"
   },
   {
    "duration": 25,
    "start_time": "2022-03-28T09:37:11.183Z"
   },
   {
    "duration": 7,
    "start_time": "2022-03-28T09:37:11.210Z"
   },
   {
    "duration": 3258,
    "start_time": "2022-03-28T09:37:11.219Z"
   },
   {
    "duration": 2489,
    "start_time": "2022-03-28T09:37:14.479Z"
   },
   {
    "duration": 2535,
    "start_time": "2022-03-28T09:37:16.970Z"
   },
   {
    "duration": 677,
    "start_time": "2022-03-28T09:37:19.507Z"
   },
   {
    "duration": 7,
    "start_time": "2022-03-28T09:37:20.186Z"
   },
   {
    "duration": 778,
    "start_time": "2022-03-28T09:37:20.195Z"
   },
   {
    "duration": 7,
    "start_time": "2022-03-28T09:37:20.976Z"
   },
   {
    "duration": 7,
    "start_time": "2022-03-28T09:37:20.989Z"
   },
   {
    "duration": 15,
    "start_time": "2022-03-28T09:37:20.998Z"
   },
   {
    "duration": 8,
    "start_time": "2022-03-28T09:37:21.015Z"
   },
   {
    "duration": 867,
    "start_time": "2022-03-28T09:37:21.025Z"
   },
   {
    "duration": 6,
    "start_time": "2022-03-28T09:37:21.895Z"
   },
   {
    "duration": 6,
    "start_time": "2022-03-28T09:37:21.903Z"
   },
   {
    "duration": 17,
    "start_time": "2022-03-28T09:37:21.911Z"
   },
   {
    "duration": 38,
    "start_time": "2022-03-28T09:37:21.930Z"
   },
   {
    "duration": 6,
    "start_time": "2022-03-28T09:37:21.971Z"
   },
   {
    "duration": 7,
    "start_time": "2022-03-28T09:37:21.979Z"
   },
   {
    "duration": 6,
    "start_time": "2022-03-28T09:37:21.989Z"
   },
   {
    "duration": 4,
    "start_time": "2022-03-28T09:37:21.998Z"
   },
   {
    "duration": 1969,
    "start_time": "2022-03-28T09:37:22.005Z"
   },
   {
    "duration": 6529,
    "start_time": "2022-03-28T09:37:23.977Z"
   },
   {
    "duration": 1911,
    "start_time": "2022-03-28T09:37:30.509Z"
   },
   {
    "duration": 36201,
    "start_time": "2022-03-28T09:37:32.423Z"
   },
   {
    "duration": 5567,
    "start_time": "2022-03-28T09:38:08.626Z"
   },
   {
    "duration": 19,
    "start_time": "2022-03-28T09:38:14.195Z"
   },
   {
    "duration": 19,
    "start_time": "2022-03-28T09:38:14.216Z"
   },
   {
    "duration": 34,
    "start_time": "2022-03-28T09:38:14.237Z"
   },
   {
    "duration": 5,
    "start_time": "2022-03-28T09:38:14.274Z"
   },
   {
    "duration": 5,
    "start_time": "2022-03-28T09:38:14.282Z"
   },
   {
    "duration": 10,
    "start_time": "2022-03-28T09:38:14.289Z"
   },
   {
    "duration": 95,
    "start_time": "2022-03-28T09:38:14.374Z"
   },
   {
    "duration": 7,
    "start_time": "2022-03-28T09:38:14.471Z"
   },
   {
    "duration": 8,
    "start_time": "2022-03-28T09:38:14.480Z"
   },
   {
    "duration": 8,
    "start_time": "2022-03-28T09:38:14.490Z"
   },
   {
    "duration": 8,
    "start_time": "2022-03-28T09:38:14.500Z"
   },
   {
    "duration": 57,
    "start_time": "2022-03-28T09:38:14.510Z"
   },
   {
    "duration": 4,
    "start_time": "2022-03-28T09:38:14.570Z"
   },
   {
    "duration": 14,
    "start_time": "2022-03-28T09:38:14.576Z"
   },
   {
    "duration": 907,
    "start_time": "2022-03-28T09:42:38.360Z"
   },
   {
    "duration": 962,
    "start_time": "2022-03-28T09:43:14.033Z"
   },
   {
    "duration": 7,
    "start_time": "2022-03-28T09:44:16.505Z"
   },
   {
    "duration": 95,
    "start_time": "2022-03-28T09:47:12.314Z"
   },
   {
    "duration": 4,
    "start_time": "2022-03-28T09:53:37.197Z"
   },
   {
    "duration": 96,
    "start_time": "2022-03-28T09:53:48.219Z"
   },
   {
    "duration": 1357,
    "start_time": "2022-03-28T09:54:22.312Z"
   },
   {
    "duration": 96,
    "start_time": "2022-03-28T09:54:45.890Z"
   },
   {
    "duration": 92,
    "start_time": "2022-03-28T09:54:49.703Z"
   },
   {
    "duration": 2572,
    "start_time": "2022-03-28T09:56:47.767Z"
   },
   {
    "duration": 787,
    "start_time": "2022-03-28T09:58:09.616Z"
   },
   {
    "duration": 757,
    "start_time": "2022-03-28T09:58:26.814Z"
   },
   {
    "duration": 84,
    "start_time": "2022-03-28T09:58:43.993Z"
   },
   {
    "duration": 13308,
    "start_time": "2022-03-28T09:59:56.167Z"
   },
   {
    "duration": 3945,
    "start_time": "2022-03-28T10:00:51.106Z"
   },
   {
    "duration": 5,
    "start_time": "2022-03-28T10:01:07.740Z"
   },
   {
    "duration": 373,
    "start_time": "2022-03-28T10:01:07.749Z"
   },
   {
    "duration": 24,
    "start_time": "2022-03-28T10:01:08.125Z"
   },
   {
    "duration": 318,
    "start_time": "2022-03-28T10:01:08.168Z"
   },
   {
    "duration": 114,
    "start_time": "2022-03-28T10:01:08.488Z"
   },
   {
    "duration": 19,
    "start_time": "2022-03-28T10:01:08.605Z"
   },
   {
    "duration": 209,
    "start_time": "2022-03-28T10:01:08.627Z"
   },
   {
    "duration": 418,
    "start_time": "2022-03-28T10:01:08.839Z"
   },
   {
    "duration": 30,
    "start_time": "2022-03-28T10:01:09.266Z"
   },
   {
    "duration": 362,
    "start_time": "2022-03-28T10:01:09.299Z"
   },
   {
    "duration": 6,
    "start_time": "2022-03-28T10:01:09.667Z"
   },
   {
    "duration": 4,
    "start_time": "2022-03-28T10:01:09.676Z"
   },
   {
    "duration": 9,
    "start_time": "2022-03-28T10:01:09.682Z"
   },
   {
    "duration": 12,
    "start_time": "2022-03-28T10:01:09.693Z"
   },
   {
    "duration": 64,
    "start_time": "2022-03-28T10:01:09.707Z"
   },
   {
    "duration": 32,
    "start_time": "2022-03-28T10:01:09.774Z"
   },
   {
    "duration": 61,
    "start_time": "2022-03-28T10:01:09.809Z"
   },
   {
    "duration": 32,
    "start_time": "2022-03-28T10:01:09.872Z"
   },
   {
    "duration": 25,
    "start_time": "2022-03-28T10:01:09.906Z"
   },
   {
    "duration": 7,
    "start_time": "2022-03-28T10:01:09.969Z"
   },
   {
    "duration": 3188,
    "start_time": "2022-03-28T10:01:09.979Z"
   },
   {
    "duration": 2439,
    "start_time": "2022-03-28T10:01:13.169Z"
   },
   {
    "duration": 2579,
    "start_time": "2022-03-28T10:01:15.611Z"
   },
   {
    "duration": 678,
    "start_time": "2022-03-28T10:01:18.195Z"
   },
   {
    "duration": 10,
    "start_time": "2022-03-28T10:01:18.875Z"
   },
   {
    "duration": 1095,
    "start_time": "2022-03-28T10:01:18.888Z"
   },
   {
    "duration": 7,
    "start_time": "2022-03-28T10:01:19.987Z"
   },
   {
    "duration": 140,
    "start_time": "2022-03-28T10:01:19.997Z"
   },
   {
    "duration": 0,
    "start_time": "2022-03-28T10:01:20.140Z"
   },
   {
    "duration": 0,
    "start_time": "2022-03-28T10:01:20.142Z"
   },
   {
    "duration": 0,
    "start_time": "2022-03-28T10:01:20.143Z"
   },
   {
    "duration": 0,
    "start_time": "2022-03-28T10:01:20.145Z"
   },
   {
    "duration": 0,
    "start_time": "2022-03-28T10:01:20.147Z"
   },
   {
    "duration": 0,
    "start_time": "2022-03-28T10:01:20.148Z"
   },
   {
    "duration": 0,
    "start_time": "2022-03-28T10:01:20.150Z"
   },
   {
    "duration": 0,
    "start_time": "2022-03-28T10:01:20.168Z"
   },
   {
    "duration": 0,
    "start_time": "2022-03-28T10:01:20.170Z"
   },
   {
    "duration": 0,
    "start_time": "2022-03-28T10:01:20.171Z"
   },
   {
    "duration": 0,
    "start_time": "2022-03-28T10:01:20.173Z"
   },
   {
    "duration": 0,
    "start_time": "2022-03-28T10:01:20.174Z"
   },
   {
    "duration": 0,
    "start_time": "2022-03-28T10:01:20.176Z"
   },
   {
    "duration": 0,
    "start_time": "2022-03-28T10:01:20.177Z"
   },
   {
    "duration": 0,
    "start_time": "2022-03-28T10:01:20.179Z"
   },
   {
    "duration": 0,
    "start_time": "2022-03-28T10:01:20.181Z"
   },
   {
    "duration": 0,
    "start_time": "2022-03-28T10:01:20.183Z"
   },
   {
    "duration": 0,
    "start_time": "2022-03-28T10:01:20.184Z"
   },
   {
    "duration": 0,
    "start_time": "2022-03-28T10:01:20.185Z"
   },
   {
    "duration": 0,
    "start_time": "2022-03-28T10:01:20.187Z"
   },
   {
    "duration": 0,
    "start_time": "2022-03-28T10:01:20.189Z"
   },
   {
    "duration": 0,
    "start_time": "2022-03-28T10:01:20.191Z"
   },
   {
    "duration": 1,
    "start_time": "2022-03-28T10:01:20.192Z"
   },
   {
    "duration": 0,
    "start_time": "2022-03-28T10:01:20.194Z"
   },
   {
    "duration": 0,
    "start_time": "2022-03-28T10:01:20.196Z"
   },
   {
    "duration": 0,
    "start_time": "2022-03-28T10:01:20.197Z"
   },
   {
    "duration": 0,
    "start_time": "2022-03-28T10:01:20.199Z"
   },
   {
    "duration": 0,
    "start_time": "2022-03-28T10:01:20.200Z"
   },
   {
    "duration": 6,
    "start_time": "2022-03-28T10:04:19.185Z"
   },
   {
    "duration": 380,
    "start_time": "2022-03-28T10:04:19.195Z"
   },
   {
    "duration": 25,
    "start_time": "2022-03-28T10:04:19.578Z"
   },
   {
    "duration": 348,
    "start_time": "2022-03-28T10:04:19.606Z"
   },
   {
    "duration": 121,
    "start_time": "2022-03-28T10:04:19.957Z"
   },
   {
    "duration": 19,
    "start_time": "2022-03-28T10:04:20.080Z"
   },
   {
    "duration": 215,
    "start_time": "2022-03-28T10:04:20.101Z"
   },
   {
    "duration": 421,
    "start_time": "2022-03-28T10:04:20.318Z"
   },
   {
    "duration": 40,
    "start_time": "2022-03-28T10:04:20.741Z"
   },
   {
    "duration": 335,
    "start_time": "2022-03-28T10:04:20.786Z"
   },
   {
    "duration": 6,
    "start_time": "2022-03-28T10:04:21.124Z"
   },
   {
    "duration": 29,
    "start_time": "2022-03-28T10:04:21.132Z"
   },
   {
    "duration": 25,
    "start_time": "2022-03-28T10:04:21.167Z"
   },
   {
    "duration": 22,
    "start_time": "2022-03-28T10:04:21.195Z"
   },
   {
    "duration": 9,
    "start_time": "2022-03-28T10:04:21.219Z"
   },
   {
    "duration": 41,
    "start_time": "2022-03-28T10:04:21.230Z"
   },
   {
    "duration": 21,
    "start_time": "2022-03-28T10:04:21.273Z"
   },
   {
    "duration": 29,
    "start_time": "2022-03-28T10:04:21.297Z"
   },
   {
    "duration": 56,
    "start_time": "2022-03-28T10:04:21.329Z"
   },
   {
    "duration": 8,
    "start_time": "2022-03-28T10:04:21.387Z"
   },
   {
    "duration": 3107,
    "start_time": "2022-03-28T10:04:21.397Z"
   },
   {
    "duration": 2496,
    "start_time": "2022-03-28T10:04:24.506Z"
   },
   {
    "duration": 2368,
    "start_time": "2022-03-28T10:04:27.005Z"
   },
   {
    "duration": 626,
    "start_time": "2022-03-28T10:04:29.375Z"
   },
   {
    "duration": 7,
    "start_time": "2022-03-28T10:04:30.003Z"
   },
   {
    "duration": 835,
    "start_time": "2022-03-28T10:04:30.012Z"
   },
   {
    "duration": 7,
    "start_time": "2022-03-28T10:04:30.849Z"
   },
   {
    "duration": 7,
    "start_time": "2022-03-28T10:04:30.872Z"
   },
   {
    "duration": 10,
    "start_time": "2022-03-28T10:04:30.881Z"
   },
   {
    "duration": 11,
    "start_time": "2022-03-28T10:04:30.893Z"
   },
   {
    "duration": 816,
    "start_time": "2022-03-28T10:04:30.906Z"
   },
   {
    "duration": 6,
    "start_time": "2022-03-28T10:04:31.725Z"
   },
   {
    "duration": 7,
    "start_time": "2022-03-28T10:04:31.733Z"
   },
   {
    "duration": 33,
    "start_time": "2022-03-28T10:04:31.742Z"
   },
   {
    "duration": 6,
    "start_time": "2022-03-28T10:04:31.778Z"
   },
   {
    "duration": 7,
    "start_time": "2022-03-28T10:04:31.786Z"
   },
   {
    "duration": 1973,
    "start_time": "2022-03-28T10:04:31.795Z"
   },
   {
    "duration": 6291,
    "start_time": "2022-03-28T10:04:33.771Z"
   },
   {
    "duration": 1938,
    "start_time": "2022-03-28T10:04:40.068Z"
   },
   {
    "duration": 36854,
    "start_time": "2022-03-28T10:04:42.009Z"
   },
   {
    "duration": 108,
    "start_time": "2022-03-28T10:05:18.869Z"
   },
   {
    "duration": 0,
    "start_time": "2022-03-28T10:05:18.979Z"
   },
   {
    "duration": 0,
    "start_time": "2022-03-28T10:05:18.982Z"
   },
   {
    "duration": 0,
    "start_time": "2022-03-28T10:05:18.984Z"
   },
   {
    "duration": 0,
    "start_time": "2022-03-28T10:05:18.987Z"
   },
   {
    "duration": 0,
    "start_time": "2022-03-28T10:05:18.989Z"
   },
   {
    "duration": 0,
    "start_time": "2022-03-28T10:05:18.992Z"
   },
   {
    "duration": 0,
    "start_time": "2022-03-28T10:05:18.994Z"
   },
   {
    "duration": 0,
    "start_time": "2022-03-28T10:05:18.996Z"
   },
   {
    "duration": 0,
    "start_time": "2022-03-28T10:05:18.998Z"
   },
   {
    "duration": 0,
    "start_time": "2022-03-28T10:05:19.000Z"
   },
   {
    "duration": 1,
    "start_time": "2022-03-28T10:05:19.002Z"
   },
   {
    "duration": 0,
    "start_time": "2022-03-28T10:05:19.004Z"
   },
   {
    "duration": 0,
    "start_time": "2022-03-28T10:05:19.006Z"
   },
   {
    "duration": 0,
    "start_time": "2022-03-28T10:05:19.007Z"
   },
   {
    "duration": 0,
    "start_time": "2022-03-28T10:05:19.009Z"
   },
   {
    "duration": 8,
    "start_time": "2022-03-28T10:06:27.081Z"
   },
   {
    "duration": 360,
    "start_time": "2022-03-28T10:06:27.092Z"
   },
   {
    "duration": 31,
    "start_time": "2022-03-28T10:06:27.454Z"
   },
   {
    "duration": 312,
    "start_time": "2022-03-28T10:06:27.489Z"
   },
   {
    "duration": 111,
    "start_time": "2022-03-28T10:06:27.803Z"
   },
   {
    "duration": 20,
    "start_time": "2022-03-28T10:06:27.916Z"
   },
   {
    "duration": 217,
    "start_time": "2022-03-28T10:06:27.938Z"
   },
   {
    "duration": 405,
    "start_time": "2022-03-28T10:06:28.157Z"
   },
   {
    "duration": 24,
    "start_time": "2022-03-28T10:06:28.568Z"
   },
   {
    "duration": 341,
    "start_time": "2022-03-28T10:06:28.596Z"
   },
   {
    "duration": 6,
    "start_time": "2022-03-28T10:06:28.939Z"
   },
   {
    "duration": 21,
    "start_time": "2022-03-28T10:06:28.948Z"
   },
   {
    "duration": 9,
    "start_time": "2022-03-28T10:06:28.971Z"
   },
   {
    "duration": 10,
    "start_time": "2022-03-28T10:06:28.982Z"
   },
   {
    "duration": 7,
    "start_time": "2022-03-28T10:06:28.994Z"
   },
   {
    "duration": 83,
    "start_time": "2022-03-28T10:06:29.003Z"
   },
   {
    "duration": 24,
    "start_time": "2022-03-28T10:06:29.088Z"
   },
   {
    "duration": 60,
    "start_time": "2022-03-28T10:06:29.115Z"
   },
   {
    "duration": 21,
    "start_time": "2022-03-28T10:06:29.177Z"
   },
   {
    "duration": 8,
    "start_time": "2022-03-28T10:06:29.201Z"
   },
   {
    "duration": 3122,
    "start_time": "2022-03-28T10:06:29.211Z"
   },
   {
    "duration": 2641,
    "start_time": "2022-03-28T10:06:32.336Z"
   },
   {
    "duration": 2594,
    "start_time": "2022-03-28T10:06:34.979Z"
   },
   {
    "duration": 654,
    "start_time": "2022-03-28T10:06:37.575Z"
   },
   {
    "duration": 7,
    "start_time": "2022-03-28T10:06:38.231Z"
   },
   {
    "duration": 633,
    "start_time": "2022-03-28T10:06:38.240Z"
   },
   {
    "duration": 8,
    "start_time": "2022-03-28T10:06:38.876Z"
   },
   {
    "duration": 7,
    "start_time": "2022-03-28T10:06:38.893Z"
   },
   {
    "duration": 8,
    "start_time": "2022-03-28T10:06:38.902Z"
   },
   {
    "duration": 60,
    "start_time": "2022-03-28T10:06:38.913Z"
   },
   {
    "duration": 915,
    "start_time": "2022-03-28T10:06:38.976Z"
   },
   {
    "duration": 8,
    "start_time": "2022-03-28T10:06:39.895Z"
   },
   {
    "duration": 8,
    "start_time": "2022-03-28T10:06:39.906Z"
   },
   {
    "duration": 17,
    "start_time": "2022-03-28T10:06:39.917Z"
   },
   {
    "duration": 4,
    "start_time": "2022-03-28T10:06:39.968Z"
   },
   {
    "duration": 7,
    "start_time": "2022-03-28T10:06:39.975Z"
   },
   {
    "duration": 2083,
    "start_time": "2022-03-28T10:06:39.985Z"
   },
   {
    "duration": 6753,
    "start_time": "2022-03-28T10:06:42.071Z"
   },
   {
    "duration": 1942,
    "start_time": "2022-03-28T10:06:48.826Z"
   },
   {
    "duration": 36322,
    "start_time": "2022-03-28T10:06:50.770Z"
   },
   {
    "duration": 10832,
    "start_time": "2022-03-28T10:07:27.095Z"
   },
   {
    "duration": 17,
    "start_time": "2022-03-28T10:07:37.930Z"
   },
   {
    "duration": 18,
    "start_time": "2022-03-28T10:07:37.967Z"
   },
   {
    "duration": 6,
    "start_time": "2022-03-28T10:07:37.987Z"
   },
   {
    "duration": 13,
    "start_time": "2022-03-28T10:07:37.995Z"
   },
   {
    "duration": 8,
    "start_time": "2022-03-28T10:07:38.010Z"
   },
   {
    "duration": 48,
    "start_time": "2022-03-28T10:07:38.020Z"
   },
   {
    "duration": 97,
    "start_time": "2022-03-28T10:07:38.075Z"
   },
   {
    "duration": 10,
    "start_time": "2022-03-28T10:07:38.174Z"
   },
   {
    "duration": 8,
    "start_time": "2022-03-28T10:07:38.187Z"
   },
   {
    "duration": 76,
    "start_time": "2022-03-28T10:07:38.197Z"
   },
   {
    "duration": 6,
    "start_time": "2022-03-28T10:07:38.275Z"
   },
   {
    "duration": 3,
    "start_time": "2022-03-28T10:07:38.283Z"
   },
   {
    "duration": 6,
    "start_time": "2022-03-28T10:07:38.288Z"
   },
   {
    "duration": 13,
    "start_time": "2022-03-28T10:07:38.297Z"
   },
   {
    "duration": 1354,
    "start_time": "2022-03-28T10:10:16.359Z"
   },
   {
    "duration": 266,
    "start_time": "2022-03-28T10:10:24.101Z"
   },
   {
    "duration": 6,
    "start_time": "2022-03-28T10:10:40.117Z"
   },
   {
    "duration": 341,
    "start_time": "2022-03-28T10:10:40.126Z"
   },
   {
    "duration": 24,
    "start_time": "2022-03-28T10:10:40.470Z"
   },
   {
    "duration": 348,
    "start_time": "2022-03-28T10:10:40.497Z"
   },
   {
    "duration": 110,
    "start_time": "2022-03-28T10:10:40.847Z"
   },
   {
    "duration": 22,
    "start_time": "2022-03-28T10:10:40.967Z"
   },
   {
    "duration": 208,
    "start_time": "2022-03-28T10:10:40.991Z"
   },
   {
    "duration": 423,
    "start_time": "2022-03-28T10:10:41.201Z"
   },
   {
    "duration": 41,
    "start_time": "2022-03-28T10:10:41.626Z"
   },
   {
    "duration": 330,
    "start_time": "2022-03-28T10:10:41.671Z"
   },
   {
    "duration": 6,
    "start_time": "2022-03-28T10:10:42.004Z"
   },
   {
    "duration": 9,
    "start_time": "2022-03-28T10:10:42.012Z"
   },
   {
    "duration": 11,
    "start_time": "2022-03-28T10:10:42.024Z"
   },
   {
    "duration": 13,
    "start_time": "2022-03-28T10:10:42.068Z"
   },
   {
    "duration": 7,
    "start_time": "2022-03-28T10:10:42.084Z"
   },
   {
    "duration": 82,
    "start_time": "2022-03-28T10:10:42.094Z"
   },
   {
    "duration": 22,
    "start_time": "2022-03-28T10:10:42.178Z"
   },
   {
    "duration": 29,
    "start_time": "2022-03-28T10:10:42.203Z"
   },
   {
    "duration": 49,
    "start_time": "2022-03-28T10:10:42.234Z"
   },
   {
    "duration": 7,
    "start_time": "2022-03-28T10:10:42.285Z"
   },
   {
    "duration": 3538,
    "start_time": "2022-03-28T10:10:42.294Z"
   },
   {
    "duration": 2444,
    "start_time": "2022-03-28T10:10:45.834Z"
   },
   {
    "duration": 2712,
    "start_time": "2022-03-28T10:10:48.282Z"
   },
   {
    "duration": 681,
    "start_time": "2022-03-28T10:10:50.996Z"
   },
   {
    "duration": 7,
    "start_time": "2022-03-28T10:10:51.680Z"
   },
   {
    "duration": 679,
    "start_time": "2022-03-28T10:10:51.689Z"
   },
   {
    "duration": 6,
    "start_time": "2022-03-28T10:10:52.371Z"
   },
   {
    "duration": 9,
    "start_time": "2022-03-28T10:10:52.382Z"
   },
   {
    "duration": 7,
    "start_time": "2022-03-28T10:10:52.394Z"
   },
   {
    "duration": 6,
    "start_time": "2022-03-28T10:10:52.403Z"
   },
   {
    "duration": 955,
    "start_time": "2022-03-28T10:10:52.412Z"
   },
   {
    "duration": 7,
    "start_time": "2022-03-28T10:10:53.369Z"
   },
   {
    "duration": 7,
    "start_time": "2022-03-28T10:10:53.377Z"
   },
   {
    "duration": 12,
    "start_time": "2022-03-28T10:10:53.386Z"
   },
   {
    "duration": 7,
    "start_time": "2022-03-28T10:10:53.400Z"
   },
   {
    "duration": 6,
    "start_time": "2022-03-28T10:10:53.409Z"
   },
   {
    "duration": 2158,
    "start_time": "2022-03-28T10:10:53.418Z"
   },
   {
    "duration": 6222,
    "start_time": "2022-03-28T10:10:55.668Z"
   },
   {
    "duration": 1889,
    "start_time": "2022-03-28T10:11:01.893Z"
   },
   {
    "duration": 36027,
    "start_time": "2022-03-28T10:11:03.785Z"
   },
   {
    "duration": 11378,
    "start_time": "2022-03-28T10:11:39.814Z"
   },
   {
    "duration": 18,
    "start_time": "2022-03-28T10:11:51.194Z"
   },
   {
    "duration": 18,
    "start_time": "2022-03-28T10:11:51.214Z"
   },
   {
    "duration": 36,
    "start_time": "2022-03-28T10:11:51.234Z"
   },
   {
    "duration": 6,
    "start_time": "2022-03-28T10:11:51.272Z"
   },
   {
    "duration": 5,
    "start_time": "2022-03-28T10:11:51.280Z"
   },
   {
    "duration": 181,
    "start_time": "2022-03-28T10:11:51.287Z"
   },
   {
    "duration": 6,
    "start_time": "2022-03-28T10:11:51.470Z"
   },
   {
    "duration": 6,
    "start_time": "2022-03-28T10:11:51.479Z"
   },
   {
    "duration": 6,
    "start_time": "2022-03-28T10:11:51.488Z"
   },
   {
    "duration": 11,
    "start_time": "2022-03-28T10:11:51.496Z"
   },
   {
    "duration": 7,
    "start_time": "2022-03-28T10:11:51.509Z"
   },
   {
    "duration": 14,
    "start_time": "2022-03-28T10:11:51.569Z"
   },
   {
    "duration": 840,
    "start_time": "2022-03-28T10:15:56.242Z"
   },
   {
    "duration": 851,
    "start_time": "2022-03-28T10:16:04.991Z"
   },
   {
    "duration": 15,
    "start_time": "2022-03-28T10:17:15.309Z"
   },
   {
    "duration": 16,
    "start_time": "2022-03-28T10:17:47.195Z"
   },
   {
    "duration": 27,
    "start_time": "2022-03-28T10:18:46.037Z"
   },
   {
    "duration": 48,
    "start_time": "2022-03-28T10:19:01.687Z"
   },
   {
    "duration": 6,
    "start_time": "2022-03-28T10:19:30.169Z"
   },
   {
    "duration": 377,
    "start_time": "2022-03-28T10:19:30.177Z"
   },
   {
    "duration": 32,
    "start_time": "2022-03-28T10:19:30.558Z"
   },
   {
    "duration": 341,
    "start_time": "2022-03-28T10:19:30.594Z"
   },
   {
    "duration": 114,
    "start_time": "2022-03-28T10:19:30.938Z"
   },
   {
    "duration": 28,
    "start_time": "2022-03-28T10:19:31.055Z"
   },
   {
    "duration": 199,
    "start_time": "2022-03-28T10:19:31.085Z"
   },
   {
    "duration": 417,
    "start_time": "2022-03-28T10:19:31.287Z"
   },
   {
    "duration": 24,
    "start_time": "2022-03-28T10:19:31.706Z"
   },
   {
    "duration": 363,
    "start_time": "2022-03-28T10:19:31.734Z"
   },
   {
    "duration": 6,
    "start_time": "2022-03-28T10:19:32.100Z"
   },
   {
    "duration": 5,
    "start_time": "2022-03-28T10:19:32.109Z"
   },
   {
    "duration": 10,
    "start_time": "2022-03-28T10:19:32.116Z"
   },
   {
    "duration": 48,
    "start_time": "2022-03-28T10:19:32.128Z"
   },
   {
    "duration": 7,
    "start_time": "2022-03-28T10:19:32.179Z"
   },
   {
    "duration": 33,
    "start_time": "2022-03-28T10:19:32.188Z"
   },
   {
    "duration": 24,
    "start_time": "2022-03-28T10:19:32.266Z"
   },
   {
    "duration": 39,
    "start_time": "2022-03-28T10:19:32.292Z"
   },
   {
    "duration": 49,
    "start_time": "2022-03-28T10:19:32.334Z"
   },
   {
    "duration": 7,
    "start_time": "2022-03-28T10:19:32.385Z"
   },
   {
    "duration": 3072,
    "start_time": "2022-03-28T10:19:32.395Z"
   },
   {
    "duration": 2443,
    "start_time": "2022-03-28T10:19:35.470Z"
   },
   {
    "duration": 2590,
    "start_time": "2022-03-28T10:19:37.916Z"
   },
   {
    "duration": 663,
    "start_time": "2022-03-28T10:19:40.509Z"
   },
   {
    "duration": 7,
    "start_time": "2022-03-28T10:19:41.174Z"
   },
   {
    "duration": 638,
    "start_time": "2022-03-28T10:19:41.184Z"
   },
   {
    "duration": 7,
    "start_time": "2022-03-28T10:19:41.825Z"
   },
   {
    "duration": 31,
    "start_time": "2022-03-28T10:19:41.838Z"
   },
   {
    "duration": 7,
    "start_time": "2022-03-28T10:19:41.871Z"
   },
   {
    "duration": 8,
    "start_time": "2022-03-28T10:19:41.881Z"
   },
   {
    "duration": 968,
    "start_time": "2022-03-28T10:19:41.891Z"
   },
   {
    "duration": 10,
    "start_time": "2022-03-28T10:19:42.861Z"
   },
   {
    "duration": 7,
    "start_time": "2022-03-28T10:19:42.873Z"
   },
   {
    "duration": 13,
    "start_time": "2022-03-28T10:19:42.882Z"
   },
   {
    "duration": 5,
    "start_time": "2022-03-28T10:19:42.898Z"
   },
   {
    "duration": 5,
    "start_time": "2022-03-28T10:19:42.905Z"
   },
   {
    "duration": 1958,
    "start_time": "2022-03-28T10:19:42.912Z"
   },
   {
    "duration": 6543,
    "start_time": "2022-03-28T10:19:44.873Z"
   },
   {
    "duration": 1927,
    "start_time": "2022-03-28T10:19:51.419Z"
   },
   {
    "duration": 104,
    "start_time": "2022-03-28T10:19:53.348Z"
   },
   {
    "duration": 0,
    "start_time": "2022-03-28T10:19:53.467Z"
   },
   {
    "duration": 0,
    "start_time": "2022-03-28T10:19:53.469Z"
   },
   {
    "duration": 0,
    "start_time": "2022-03-28T10:19:53.470Z"
   },
   {
    "duration": 0,
    "start_time": "2022-03-28T10:19:53.472Z"
   },
   {
    "duration": 0,
    "start_time": "2022-03-28T10:19:53.473Z"
   },
   {
    "duration": 0,
    "start_time": "2022-03-28T10:19:53.475Z"
   },
   {
    "duration": 0,
    "start_time": "2022-03-28T10:19:53.477Z"
   },
   {
    "duration": 0,
    "start_time": "2022-03-28T10:19:53.478Z"
   },
   {
    "duration": 0,
    "start_time": "2022-03-28T10:19:53.480Z"
   },
   {
    "duration": 0,
    "start_time": "2022-03-28T10:19:53.481Z"
   },
   {
    "duration": 0,
    "start_time": "2022-03-28T10:19:53.482Z"
   },
   {
    "duration": 0,
    "start_time": "2022-03-28T10:19:53.484Z"
   },
   {
    "duration": 0,
    "start_time": "2022-03-28T10:19:53.485Z"
   },
   {
    "duration": 0,
    "start_time": "2022-03-28T10:19:53.487Z"
   },
   {
    "duration": 6,
    "start_time": "2022-03-28T10:46:37.834Z"
   },
   {
    "duration": 349,
    "start_time": "2022-03-28T10:46:37.843Z"
   },
   {
    "duration": 24,
    "start_time": "2022-03-28T10:46:38.195Z"
   },
   {
    "duration": 350,
    "start_time": "2022-03-28T10:46:38.222Z"
   },
   {
    "duration": 122,
    "start_time": "2022-03-28T10:46:38.575Z"
   },
   {
    "duration": 20,
    "start_time": "2022-03-28T10:46:38.699Z"
   },
   {
    "duration": 206,
    "start_time": "2022-03-28T10:46:38.721Z"
   },
   {
    "duration": 431,
    "start_time": "2022-03-28T10:46:38.929Z"
   },
   {
    "duration": 25,
    "start_time": "2022-03-28T10:46:39.362Z"
   },
   {
    "duration": 348,
    "start_time": "2022-03-28T10:46:39.391Z"
   },
   {
    "duration": 6,
    "start_time": "2022-03-28T10:46:39.741Z"
   },
   {
    "duration": 3,
    "start_time": "2022-03-28T10:46:39.767Z"
   },
   {
    "duration": 12,
    "start_time": "2022-03-28T10:46:39.772Z"
   },
   {
    "duration": 10,
    "start_time": "2022-03-28T10:46:39.787Z"
   },
   {
    "duration": 8,
    "start_time": "2022-03-28T10:46:39.799Z"
   },
   {
    "duration": 76,
    "start_time": "2022-03-28T10:46:39.809Z"
   },
   {
    "duration": 24,
    "start_time": "2022-03-28T10:46:39.887Z"
   },
   {
    "duration": 70,
    "start_time": "2022-03-28T10:46:39.913Z"
   },
   {
    "duration": 25,
    "start_time": "2022-03-28T10:46:39.986Z"
   },
   {
    "duration": 17,
    "start_time": "2022-03-28T10:46:40.014Z"
   },
   {
    "duration": 3124,
    "start_time": "2022-03-28T10:46:40.034Z"
   },
   {
    "duration": 2843,
    "start_time": "2022-03-28T10:46:43.160Z"
   },
   {
    "duration": 2470,
    "start_time": "2022-03-28T10:46:46.005Z"
   },
   {
    "duration": 670,
    "start_time": "2022-03-28T10:46:48.478Z"
   },
   {
    "duration": 18,
    "start_time": "2022-03-28T10:46:49.151Z"
   },
   {
    "duration": 628,
    "start_time": "2022-03-28T10:46:49.172Z"
   },
   {
    "duration": 7,
    "start_time": "2022-03-28T10:46:49.803Z"
   },
   {
    "duration": 6,
    "start_time": "2022-03-28T10:46:49.821Z"
   },
   {
    "duration": 44,
    "start_time": "2022-03-28T10:46:49.830Z"
   },
   {
    "duration": 8,
    "start_time": "2022-03-28T10:46:49.877Z"
   },
   {
    "duration": 834,
    "start_time": "2022-03-28T10:46:49.888Z"
   },
   {
    "duration": 7,
    "start_time": "2022-03-28T10:46:50.724Z"
   },
   {
    "duration": 7,
    "start_time": "2022-03-28T10:46:50.733Z"
   },
   {
    "duration": 33,
    "start_time": "2022-03-28T10:46:50.742Z"
   },
   {
    "duration": 7,
    "start_time": "2022-03-28T10:46:50.777Z"
   },
   {
    "duration": 25,
    "start_time": "2022-03-28T10:46:50.787Z"
   },
   {
    "duration": 1954,
    "start_time": "2022-03-28T10:46:50.815Z"
   },
   {
    "duration": 6313,
    "start_time": "2022-03-28T10:46:52.773Z"
   },
   {
    "duration": 1881,
    "start_time": "2022-03-28T10:46:59.088Z"
   },
   {
    "duration": 36506,
    "start_time": "2022-03-28T10:47:00.971Z"
   },
   {
    "duration": 11378,
    "start_time": "2022-03-28T10:47:37.479Z"
   },
   {
    "duration": 21,
    "start_time": "2022-03-28T10:47:48.859Z"
   },
   {
    "duration": 18,
    "start_time": "2022-03-28T10:47:48.882Z"
   },
   {
    "duration": 6,
    "start_time": "2022-03-28T10:47:48.902Z"
   },
   {
    "duration": 7,
    "start_time": "2022-03-28T10:47:48.911Z"
   },
   {
    "duration": 59,
    "start_time": "2022-03-28T10:47:48.920Z"
   },
   {
    "duration": 101,
    "start_time": "2022-03-28T10:47:49.070Z"
   },
   {
    "duration": 15,
    "start_time": "2022-03-28T10:47:49.174Z"
   },
   {
    "duration": 13,
    "start_time": "2022-03-28T10:47:49.192Z"
   },
   {
    "duration": 19,
    "start_time": "2022-03-28T10:47:49.207Z"
   },
   {
    "duration": 12,
    "start_time": "2022-03-28T10:47:49.228Z"
   },
   {
    "duration": 30,
    "start_time": "2022-03-28T10:47:49.242Z"
   },
   {
    "duration": 697,
    "start_time": "2022-03-28T10:49:06.815Z"
   },
   {
    "duration": 946,
    "start_time": "2022-03-28T10:49:43.991Z"
   },
   {
    "duration": 6,
    "start_time": "2022-03-28T10:49:50.864Z"
   },
   {
    "duration": 384,
    "start_time": "2022-03-28T10:49:50.873Z"
   },
   {
    "duration": 31,
    "start_time": "2022-03-28T10:49:51.259Z"
   },
   {
    "duration": 478,
    "start_time": "2022-03-28T10:49:51.293Z"
   },
   {
    "duration": 144,
    "start_time": "2022-03-28T10:49:51.774Z"
   },
   {
    "duration": 23,
    "start_time": "2022-03-28T10:49:51.921Z"
   },
   {
    "duration": 228,
    "start_time": "2022-03-28T10:49:51.946Z"
   },
   {
    "duration": 533,
    "start_time": "2022-03-28T10:49:52.176Z"
   },
   {
    "duration": 26,
    "start_time": "2022-03-28T10:49:52.711Z"
   },
   {
    "duration": 351,
    "start_time": "2022-03-28T10:49:52.741Z"
   },
   {
    "duration": 7,
    "start_time": "2022-03-28T10:49:53.094Z"
   },
   {
    "duration": 14,
    "start_time": "2022-03-28T10:49:53.103Z"
   },
   {
    "duration": 9,
    "start_time": "2022-03-28T10:49:53.120Z"
   },
   {
    "duration": 41,
    "start_time": "2022-03-28T10:49:53.132Z"
   },
   {
    "duration": 7,
    "start_time": "2022-03-28T10:49:53.176Z"
   },
   {
    "duration": 36,
    "start_time": "2022-03-28T10:49:53.186Z"
   },
   {
    "duration": 67,
    "start_time": "2022-03-28T10:49:53.225Z"
   },
   {
    "duration": 35,
    "start_time": "2022-03-28T10:49:53.295Z"
   },
   {
    "duration": 23,
    "start_time": "2022-03-28T10:49:53.368Z"
   },
   {
    "duration": 9,
    "start_time": "2022-03-28T10:49:53.394Z"
   },
   {
    "duration": 3888,
    "start_time": "2022-03-28T10:49:53.406Z"
   },
   {
    "duration": 2666,
    "start_time": "2022-03-28T10:49:57.296Z"
   },
   {
    "duration": 2619,
    "start_time": "2022-03-28T10:49:59.967Z"
   },
   {
    "duration": 1182,
    "start_time": "2022-03-28T10:50:02.588Z"
   },
   {
    "duration": 7,
    "start_time": "2022-03-28T10:50:03.773Z"
   },
   {
    "duration": 657,
    "start_time": "2022-03-28T10:50:03.782Z"
   },
   {
    "duration": 6,
    "start_time": "2022-03-28T10:50:04.441Z"
   },
   {
    "duration": 6,
    "start_time": "2022-03-28T10:50:04.469Z"
   },
   {
    "duration": 9,
    "start_time": "2022-03-28T10:50:04.477Z"
   },
   {
    "duration": 7,
    "start_time": "2022-03-28T10:50:04.488Z"
   },
   {
    "duration": 832,
    "start_time": "2022-03-28T10:50:04.497Z"
   },
   {
    "duration": 6,
    "start_time": "2022-03-28T10:50:05.332Z"
   },
   {
    "duration": 7,
    "start_time": "2022-03-28T10:50:05.340Z"
   },
   {
    "duration": 10,
    "start_time": "2022-03-28T10:50:05.368Z"
   },
   {
    "duration": 6,
    "start_time": "2022-03-28T10:50:05.380Z"
   },
   {
    "duration": 7,
    "start_time": "2022-03-28T10:50:05.388Z"
   },
   {
    "duration": 1874,
    "start_time": "2022-03-28T10:50:05.397Z"
   },
   {
    "duration": 6394,
    "start_time": "2022-03-28T10:50:07.274Z"
   },
   {
    "duration": 1943,
    "start_time": "2022-03-28T10:50:13.670Z"
   },
   {
    "duration": 37112,
    "start_time": "2022-03-28T10:50:15.615Z"
   },
   {
    "duration": 7285,
    "start_time": "2022-03-28T10:50:52.729Z"
   },
   {
    "duration": 19,
    "start_time": "2022-03-28T10:51:00.016Z"
   },
   {
    "duration": 43,
    "start_time": "2022-03-28T10:51:00.037Z"
   },
   {
    "duration": 6,
    "start_time": "2022-03-28T10:51:00.082Z"
   },
   {
    "duration": 8,
    "start_time": "2022-03-28T10:51:00.090Z"
   },
   {
    "duration": 73,
    "start_time": "2022-03-28T10:51:00.100Z"
   },
   {
    "duration": 97,
    "start_time": "2022-03-28T10:51:00.176Z"
   },
   {
    "duration": 22,
    "start_time": "2022-03-28T10:51:00.276Z"
   },
   {
    "duration": 14,
    "start_time": "2022-03-28T10:51:00.300Z"
   },
   {
    "duration": 22,
    "start_time": "2022-03-28T10:51:00.316Z"
   },
   {
    "duration": 27,
    "start_time": "2022-03-28T10:51:00.340Z"
   },
   {
    "duration": 12,
    "start_time": "2022-03-28T10:51:00.370Z"
   },
   {
    "duration": 7,
    "start_time": "2022-03-28T10:57:17.399Z"
   },
   {
    "duration": 369,
    "start_time": "2022-03-28T10:57:17.408Z"
   },
   {
    "duration": 27,
    "start_time": "2022-03-28T10:57:17.780Z"
   },
   {
    "duration": 349,
    "start_time": "2022-03-28T10:57:17.810Z"
   },
   {
    "duration": 110,
    "start_time": "2022-03-28T10:57:18.162Z"
   },
   {
    "duration": 22,
    "start_time": "2022-03-28T10:57:18.275Z"
   },
   {
    "duration": 215,
    "start_time": "2022-03-28T10:57:18.299Z"
   },
   {
    "duration": 423,
    "start_time": "2022-03-28T10:57:18.517Z"
   },
   {
    "duration": 39,
    "start_time": "2022-03-28T10:57:18.943Z"
   },
   {
    "duration": 341,
    "start_time": "2022-03-28T10:57:18.986Z"
   },
   {
    "duration": 7,
    "start_time": "2022-03-28T10:57:19.329Z"
   },
   {
    "duration": 29,
    "start_time": "2022-03-28T10:57:19.338Z"
   },
   {
    "duration": 11,
    "start_time": "2022-03-28T10:57:19.369Z"
   },
   {
    "duration": 11,
    "start_time": "2022-03-28T10:57:19.382Z"
   },
   {
    "duration": 7,
    "start_time": "2022-03-28T10:57:19.396Z"
   },
   {
    "duration": 168,
    "start_time": "2022-03-28T10:57:19.405Z"
   },
   {
    "duration": 24,
    "start_time": "2022-03-28T10:57:19.575Z"
   },
   {
    "duration": 31,
    "start_time": "2022-03-28T10:57:19.601Z"
   },
   {
    "duration": 49,
    "start_time": "2022-03-28T10:57:19.634Z"
   },
   {
    "duration": 7,
    "start_time": "2022-03-28T10:57:19.686Z"
   },
   {
    "duration": 3049,
    "start_time": "2022-03-28T10:57:19.695Z"
   },
   {
    "duration": 2561,
    "start_time": "2022-03-28T10:57:22.746Z"
   },
   {
    "duration": 2735,
    "start_time": "2022-03-28T10:57:25.309Z"
   },
   {
    "duration": 785,
    "start_time": "2022-03-28T10:57:28.047Z"
   },
   {
    "duration": 7,
    "start_time": "2022-03-28T10:57:28.834Z"
   },
   {
    "duration": 648,
    "start_time": "2022-03-28T10:57:28.844Z"
   },
   {
    "duration": 6,
    "start_time": "2022-03-28T10:57:29.495Z"
   },
   {
    "duration": 6,
    "start_time": "2022-03-28T10:57:29.507Z"
   },
   {
    "duration": 14,
    "start_time": "2022-03-28T10:57:29.515Z"
   },
   {
    "duration": 37,
    "start_time": "2022-03-28T10:57:29.532Z"
   },
   {
    "duration": 839,
    "start_time": "2022-03-28T10:57:29.572Z"
   },
   {
    "duration": 7,
    "start_time": "2022-03-28T10:57:30.413Z"
   },
   {
    "duration": 20,
    "start_time": "2022-03-28T10:57:30.424Z"
   },
   {
    "duration": 37,
    "start_time": "2022-03-28T10:57:30.447Z"
   },
   {
    "duration": 11,
    "start_time": "2022-03-28T10:57:30.487Z"
   },
   {
    "duration": 11,
    "start_time": "2022-03-28T10:57:30.501Z"
   },
   {
    "duration": 1960,
    "start_time": "2022-03-28T10:57:30.515Z"
   },
   {
    "duration": 6432,
    "start_time": "2022-03-28T10:57:32.477Z"
   },
   {
    "duration": 1951,
    "start_time": "2022-03-28T10:57:38.912Z"
   },
   {
    "duration": 37751,
    "start_time": "2022-03-28T10:57:40.868Z"
   },
   {
    "duration": 7429,
    "start_time": "2022-03-28T10:58:18.621Z"
   },
   {
    "duration": 27,
    "start_time": "2022-03-28T10:58:26.052Z"
   },
   {
    "duration": 27,
    "start_time": "2022-03-28T10:58:26.082Z"
   },
   {
    "duration": 21,
    "start_time": "2022-03-28T10:58:26.111Z"
   },
   {
    "duration": 35,
    "start_time": "2022-03-28T10:58:26.134Z"
   },
   {
    "duration": 32,
    "start_time": "2022-03-28T10:58:26.173Z"
   },
   {
    "duration": 95,
    "start_time": "2022-03-28T10:58:26.278Z"
   },
   {
    "duration": 9,
    "start_time": "2022-03-28T10:58:26.377Z"
   },
   {
    "duration": 9,
    "start_time": "2022-03-28T10:58:26.388Z"
   },
   {
    "duration": 8,
    "start_time": "2022-03-28T10:58:26.399Z"
   },
   {
    "duration": 59,
    "start_time": "2022-03-28T10:58:26.410Z"
   },
   {
    "duration": 15,
    "start_time": "2022-03-28T10:58:26.471Z"
   },
   {
    "duration": 54,
    "start_time": "2022-03-29T08:56:48.162Z"
   },
   {
    "duration": 9,
    "start_time": "2022-03-29T08:57:05.844Z"
   },
   {
    "duration": 7,
    "start_time": "2022-03-29T08:57:43.737Z"
   },
   {
    "duration": 1800,
    "start_time": "2022-03-29T08:57:47.011Z"
   },
   {
    "duration": 302,
    "start_time": "2022-03-29T08:57:48.813Z"
   },
   {
    "duration": 24,
    "start_time": "2022-03-29T08:57:49.117Z"
   },
   {
    "duration": 266,
    "start_time": "2022-03-29T08:57:49.143Z"
   },
   {
    "duration": 98,
    "start_time": "2022-03-29T08:57:49.411Z"
   },
   {
    "duration": 21,
    "start_time": "2022-03-29T08:57:49.511Z"
   },
   {
    "duration": 140,
    "start_time": "2022-03-29T08:57:49.533Z"
   },
   {
    "duration": 364,
    "start_time": "2022-03-29T08:57:49.674Z"
   },
   {
    "duration": 19,
    "start_time": "2022-03-29T08:57:50.040Z"
   },
   {
    "duration": 282,
    "start_time": "2022-03-29T08:57:50.063Z"
   },
   {
    "duration": 5,
    "start_time": "2022-03-29T08:57:50.347Z"
   },
   {
    "duration": 52,
    "start_time": "2022-03-29T08:57:50.353Z"
   },
   {
    "duration": 51,
    "start_time": "2022-03-29T08:57:50.407Z"
   },
   {
    "duration": 31,
    "start_time": "2022-03-29T08:57:50.460Z"
   },
   {
    "duration": 20,
    "start_time": "2022-03-29T08:57:50.493Z"
   },
   {
    "duration": 87,
    "start_time": "2022-03-29T08:57:50.515Z"
   },
   {
    "duration": 18,
    "start_time": "2022-03-29T08:57:50.605Z"
   },
   {
    "duration": 52,
    "start_time": "2022-03-29T08:57:50.625Z"
   },
   {
    "duration": 28,
    "start_time": "2022-03-29T08:57:50.679Z"
   },
   {
    "duration": 13,
    "start_time": "2022-03-29T08:57:50.709Z"
   },
   {
    "duration": 2515,
    "start_time": "2022-03-29T08:57:50.725Z"
   },
   {
    "duration": 1950,
    "start_time": "2022-03-29T08:57:53.242Z"
   },
   {
    "duration": 1873,
    "start_time": "2022-03-29T08:57:55.194Z"
   },
   {
    "duration": 431,
    "start_time": "2022-03-29T08:57:57.069Z"
   },
   {
    "duration": 6,
    "start_time": "2022-03-29T08:57:57.502Z"
   },
   {
    "duration": 549,
    "start_time": "2022-03-29T08:57:57.510Z"
   },
   {
    "duration": 5,
    "start_time": "2022-03-29T08:57:58.061Z"
   },
   {
    "duration": 9,
    "start_time": "2022-03-29T08:57:58.070Z"
   },
   {
    "duration": 6,
    "start_time": "2022-03-29T08:57:58.081Z"
   },
   {
    "duration": 10,
    "start_time": "2022-03-29T08:57:58.089Z"
   },
   {
    "duration": 540,
    "start_time": "2022-03-29T08:57:58.101Z"
   },
   {
    "duration": 2932,
    "start_time": "2022-03-29T08:57:58.643Z"
   },
   {
    "duration": 0,
    "start_time": "2022-03-29T08:58:01.577Z"
   },
   {
    "duration": 0,
    "start_time": "2022-03-29T08:58:01.579Z"
   },
   {
    "duration": 0,
    "start_time": "2022-03-29T08:58:01.580Z"
   },
   {
    "duration": 0,
    "start_time": "2022-03-29T08:58:01.581Z"
   },
   {
    "duration": 0,
    "start_time": "2022-03-29T08:58:01.582Z"
   },
   {
    "duration": 0,
    "start_time": "2022-03-29T08:58:01.584Z"
   },
   {
    "duration": 0,
    "start_time": "2022-03-29T08:58:01.585Z"
   },
   {
    "duration": 0,
    "start_time": "2022-03-29T08:58:01.586Z"
   },
   {
    "duration": 0,
    "start_time": "2022-03-29T08:58:01.588Z"
   },
   {
    "duration": 0,
    "start_time": "2022-03-29T08:58:01.589Z"
   },
   {
    "duration": 0,
    "start_time": "2022-03-29T08:58:01.590Z"
   },
   {
    "duration": 0,
    "start_time": "2022-03-29T08:58:01.591Z"
   },
   {
    "duration": 0,
    "start_time": "2022-03-29T08:58:01.592Z"
   },
   {
    "duration": 0,
    "start_time": "2022-03-29T08:58:01.593Z"
   },
   {
    "duration": 0,
    "start_time": "2022-03-29T08:58:01.594Z"
   },
   {
    "duration": 0,
    "start_time": "2022-03-29T08:58:01.596Z"
   },
   {
    "duration": 0,
    "start_time": "2022-03-29T08:58:01.597Z"
   },
   {
    "duration": 0,
    "start_time": "2022-03-29T08:58:01.598Z"
   },
   {
    "duration": 0,
    "start_time": "2022-03-29T08:58:01.599Z"
   },
   {
    "duration": 0,
    "start_time": "2022-03-29T08:58:01.601Z"
   },
   {
    "duration": 0,
    "start_time": "2022-03-29T08:58:01.602Z"
   },
   {
    "duration": 0,
    "start_time": "2022-03-29T08:58:01.603Z"
   },
   {
    "duration": 606,
    "start_time": "2022-03-29T09:08:41.069Z"
   },
   {
    "duration": 4,
    "start_time": "2022-03-29T09:09:24.082Z"
   },
   {
    "duration": 5,
    "start_time": "2022-03-29T09:09:28.221Z"
   },
   {
    "duration": 5,
    "start_time": "2022-03-29T09:10:06.476Z"
   },
   {
    "duration": 5,
    "start_time": "2022-03-29T09:10:10.161Z"
   },
   {
    "duration": 681,
    "start_time": "2022-03-29T09:10:46.941Z"
   },
   {
    "duration": 4,
    "start_time": "2022-03-29T09:11:06.279Z"
   },
   {
    "duration": 352,
    "start_time": "2022-03-29T09:11:06.285Z"
   },
   {
    "duration": 21,
    "start_time": "2022-03-29T09:11:06.639Z"
   },
   {
    "duration": 279,
    "start_time": "2022-03-29T09:11:06.662Z"
   },
   {
    "duration": 105,
    "start_time": "2022-03-29T09:11:06.944Z"
   },
   {
    "duration": 14,
    "start_time": "2022-03-29T09:11:07.051Z"
   },
   {
    "duration": 146,
    "start_time": "2022-03-29T09:11:07.067Z"
   },
   {
    "duration": 413,
    "start_time": "2022-03-29T09:11:07.215Z"
   },
   {
    "duration": 26,
    "start_time": "2022-03-29T09:11:07.630Z"
   },
   {
    "duration": 301,
    "start_time": "2022-03-29T09:11:07.659Z"
   },
   {
    "duration": 5,
    "start_time": "2022-03-29T09:11:07.963Z"
   },
   {
    "duration": 6,
    "start_time": "2022-03-29T09:11:07.970Z"
   },
   {
    "duration": 9,
    "start_time": "2022-03-29T09:11:07.977Z"
   },
   {
    "duration": 13,
    "start_time": "2022-03-29T09:11:07.988Z"
   },
   {
    "duration": 6,
    "start_time": "2022-03-29T09:11:08.003Z"
   },
   {
    "duration": 47,
    "start_time": "2022-03-29T09:11:08.011Z"
   },
   {
    "duration": 18,
    "start_time": "2022-03-29T09:11:08.059Z"
   },
   {
    "duration": 23,
    "start_time": "2022-03-29T09:11:08.078Z"
   },
   {
    "duration": 53,
    "start_time": "2022-03-29T09:11:08.103Z"
   },
   {
    "duration": 5,
    "start_time": "2022-03-29T09:11:08.158Z"
   },
   {
    "duration": 2414,
    "start_time": "2022-03-29T09:11:08.164Z"
   },
   {
    "duration": 2043,
    "start_time": "2022-03-29T09:11:10.580Z"
   },
   {
    "duration": 2015,
    "start_time": "2022-03-29T09:11:12.625Z"
   },
   {
    "duration": 457,
    "start_time": "2022-03-29T09:11:14.642Z"
   },
   {
    "duration": 5,
    "start_time": "2022-03-29T09:11:15.101Z"
   },
   {
    "duration": 461,
    "start_time": "2022-03-29T09:11:15.108Z"
   },
   {
    "duration": 5,
    "start_time": "2022-03-29T09:11:15.571Z"
   },
   {
    "duration": 8,
    "start_time": "2022-03-29T09:11:15.578Z"
   },
   {
    "duration": 5,
    "start_time": "2022-03-29T09:11:15.590Z"
   },
   {
    "duration": 8,
    "start_time": "2022-03-29T09:11:15.597Z"
   },
   {
    "duration": 602,
    "start_time": "2022-03-29T09:11:15.607Z"
   },
   {
    "duration": 6,
    "start_time": "2022-03-29T09:11:16.211Z"
   },
   {
    "duration": 30,
    "start_time": "2022-03-29T09:11:16.219Z"
   },
   {
    "duration": 6,
    "start_time": "2022-03-29T09:11:16.251Z"
   },
   {
    "duration": 19,
    "start_time": "2022-03-29T09:11:16.259Z"
   },
   {
    "duration": 3041,
    "start_time": "2022-03-29T09:11:16.280Z"
   },
   {
    "duration": 0,
    "start_time": "2022-03-29T09:11:19.323Z"
   },
   {
    "duration": 0,
    "start_time": "2022-03-29T09:11:19.324Z"
   },
   {
    "duration": 0,
    "start_time": "2022-03-29T09:11:19.325Z"
   },
   {
    "duration": 0,
    "start_time": "2022-03-29T09:11:19.326Z"
   },
   {
    "duration": 0,
    "start_time": "2022-03-29T09:11:19.327Z"
   },
   {
    "duration": 0,
    "start_time": "2022-03-29T09:11:19.328Z"
   },
   {
    "duration": 0,
    "start_time": "2022-03-29T09:11:19.329Z"
   },
   {
    "duration": 0,
    "start_time": "2022-03-29T09:11:19.330Z"
   },
   {
    "duration": 0,
    "start_time": "2022-03-29T09:11:19.331Z"
   },
   {
    "duration": 1,
    "start_time": "2022-03-29T09:11:19.339Z"
   },
   {
    "duration": 0,
    "start_time": "2022-03-29T09:11:19.341Z"
   },
   {
    "duration": 0,
    "start_time": "2022-03-29T09:11:19.343Z"
   },
   {
    "duration": 0,
    "start_time": "2022-03-29T09:11:19.344Z"
   },
   {
    "duration": 0,
    "start_time": "2022-03-29T09:11:19.345Z"
   },
   {
    "duration": 0,
    "start_time": "2022-03-29T09:11:19.346Z"
   },
   {
    "duration": 0,
    "start_time": "2022-03-29T09:11:19.348Z"
   },
   {
    "duration": 0,
    "start_time": "2022-03-29T09:11:19.349Z"
   },
   {
    "duration": 0,
    "start_time": "2022-03-29T09:11:19.350Z"
   },
   {
    "duration": 0,
    "start_time": "2022-03-29T09:11:19.351Z"
   },
   {
    "duration": 0,
    "start_time": "2022-03-29T09:11:19.352Z"
   },
   {
    "duration": 0,
    "start_time": "2022-03-29T09:11:19.353Z"
   },
   {
    "duration": 9,
    "start_time": "2022-03-29T09:12:05.693Z"
   },
   {
    "duration": 743,
    "start_time": "2022-03-29T09:12:45.827Z"
   },
   {
    "duration": 578,
    "start_time": "2022-03-29T09:13:26.597Z"
   },
   {
    "duration": 558,
    "start_time": "2022-03-29T09:13:38.095Z"
   },
   {
    "duration": 2952,
    "start_time": "2022-03-29T09:14:20.376Z"
   },
   {
    "duration": 6,
    "start_time": "2022-03-29T09:17:37.354Z"
   },
   {
    "duration": 353,
    "start_time": "2022-03-29T09:17:37.363Z"
   },
   {
    "duration": 33,
    "start_time": "2022-03-29T09:17:37.718Z"
   },
   {
    "duration": 338,
    "start_time": "2022-03-29T09:17:37.753Z"
   },
   {
    "duration": 92,
    "start_time": "2022-03-29T09:17:38.093Z"
   },
   {
    "duration": 15,
    "start_time": "2022-03-29T09:17:38.187Z"
   },
   {
    "duration": 186,
    "start_time": "2022-03-29T09:17:38.204Z"
   },
   {
    "duration": 433,
    "start_time": "2022-03-29T09:17:38.391Z"
   },
   {
    "duration": 32,
    "start_time": "2022-03-29T09:17:38.827Z"
   },
   {
    "duration": 392,
    "start_time": "2022-03-29T09:17:38.864Z"
   },
   {
    "duration": 5,
    "start_time": "2022-03-29T09:17:39.259Z"
   },
   {
    "duration": 10,
    "start_time": "2022-03-29T09:17:39.266Z"
   },
   {
    "duration": 11,
    "start_time": "2022-03-29T09:17:39.279Z"
   },
   {
    "duration": 12,
    "start_time": "2022-03-29T09:17:39.292Z"
   },
   {
    "duration": 12,
    "start_time": "2022-03-29T09:17:39.306Z"
   },
   {
    "duration": 46,
    "start_time": "2022-03-29T09:17:39.320Z"
   },
   {
    "duration": 40,
    "start_time": "2022-03-29T09:17:39.368Z"
   },
   {
    "duration": 56,
    "start_time": "2022-03-29T09:17:39.411Z"
   },
   {
    "duration": 27,
    "start_time": "2022-03-29T09:17:39.469Z"
   },
   {
    "duration": 8,
    "start_time": "2022-03-29T09:17:39.498Z"
   },
   {
    "duration": 2809,
    "start_time": "2022-03-29T09:17:39.508Z"
   },
   {
    "duration": 2093,
    "start_time": "2022-03-29T09:17:42.320Z"
   },
   {
    "duration": 2063,
    "start_time": "2022-03-29T09:17:44.415Z"
   },
   {
    "duration": 479,
    "start_time": "2022-03-29T09:17:46.480Z"
   },
   {
    "duration": 5,
    "start_time": "2022-03-29T09:17:46.961Z"
   },
   {
    "duration": 620,
    "start_time": "2022-03-29T09:17:46.967Z"
   },
   {
    "duration": 5,
    "start_time": "2022-03-29T09:17:47.589Z"
   },
   {
    "duration": 6,
    "start_time": "2022-03-29T09:17:47.598Z"
   },
   {
    "duration": 30,
    "start_time": "2022-03-29T09:17:47.605Z"
   },
   {
    "duration": 7,
    "start_time": "2022-03-29T09:17:47.637Z"
   },
   {
    "duration": 603,
    "start_time": "2022-03-29T09:17:47.651Z"
   },
   {
    "duration": 6,
    "start_time": "2022-03-29T09:17:48.256Z"
   },
   {
    "duration": 8,
    "start_time": "2022-03-29T09:17:48.264Z"
   },
   {
    "duration": 10,
    "start_time": "2022-03-29T09:17:48.273Z"
   },
   {
    "duration": 21,
    "start_time": "2022-03-29T09:17:48.284Z"
   },
   {
    "duration": 612,
    "start_time": "2022-03-29T09:17:48.307Z"
   },
   {
    "duration": 13,
    "start_time": "2022-03-29T09:17:48.922Z"
   },
   {
    "duration": 12,
    "start_time": "2022-03-29T09:17:48.937Z"
   },
   {
    "duration": 15,
    "start_time": "2022-03-29T09:17:48.951Z"
   },
   {
    "duration": 8,
    "start_time": "2022-03-29T09:17:48.968Z"
   },
   {
    "duration": 6,
    "start_time": "2022-03-29T09:17:48.977Z"
   },
   {
    "duration": 33,
    "start_time": "2022-03-29T09:17:48.985Z"
   },
   {
    "duration": 0,
    "start_time": "2022-03-29T09:17:49.036Z"
   },
   {
    "duration": 0,
    "start_time": "2022-03-29T09:17:49.038Z"
   },
   {
    "duration": 0,
    "start_time": "2022-03-29T09:17:49.040Z"
   },
   {
    "duration": 0,
    "start_time": "2022-03-29T09:17:49.042Z"
   },
   {
    "duration": 0,
    "start_time": "2022-03-29T09:17:49.044Z"
   },
   {
    "duration": 0,
    "start_time": "2022-03-29T09:17:49.046Z"
   },
   {
    "duration": 0,
    "start_time": "2022-03-29T09:17:49.050Z"
   },
   {
    "duration": 0,
    "start_time": "2022-03-29T09:17:49.051Z"
   },
   {
    "duration": 0,
    "start_time": "2022-03-29T09:17:49.053Z"
   },
   {
    "duration": 0,
    "start_time": "2022-03-29T09:17:49.054Z"
   },
   {
    "duration": 0,
    "start_time": "2022-03-29T09:17:49.055Z"
   },
   {
    "duration": 0,
    "start_time": "2022-03-29T09:17:49.056Z"
   },
   {
    "duration": 0,
    "start_time": "2022-03-29T09:17:49.057Z"
   },
   {
    "duration": 0,
    "start_time": "2022-03-29T09:17:49.059Z"
   },
   {
    "duration": 0,
    "start_time": "2022-03-29T09:17:49.060Z"
   },
   {
    "duration": 6,
    "start_time": "2022-03-29T09:20:46.729Z"
   },
   {
    "duration": 340,
    "start_time": "2022-03-29T09:20:46.741Z"
   },
   {
    "duration": 20,
    "start_time": "2022-03-29T09:20:47.083Z"
   },
   {
    "duration": 281,
    "start_time": "2022-03-29T09:20:47.106Z"
   },
   {
    "duration": 99,
    "start_time": "2022-03-29T09:20:47.390Z"
   },
   {
    "duration": 15,
    "start_time": "2022-03-29T09:20:47.491Z"
   },
   {
    "duration": 165,
    "start_time": "2022-03-29T09:20:47.508Z"
   },
   {
    "duration": 391,
    "start_time": "2022-03-29T09:20:47.675Z"
   },
   {
    "duration": 19,
    "start_time": "2022-03-29T09:20:48.067Z"
   },
   {
    "duration": 298,
    "start_time": "2022-03-29T09:20:48.088Z"
   },
   {
    "duration": 5,
    "start_time": "2022-03-29T09:20:48.390Z"
   },
   {
    "duration": 5,
    "start_time": "2022-03-29T09:20:48.396Z"
   },
   {
    "duration": 52,
    "start_time": "2022-03-29T09:20:48.403Z"
   },
   {
    "duration": 14,
    "start_time": "2022-03-29T09:20:48.457Z"
   },
   {
    "duration": 5,
    "start_time": "2022-03-29T09:20:48.473Z"
   },
   {
    "duration": 24,
    "start_time": "2022-03-29T09:20:48.480Z"
   },
   {
    "duration": 31,
    "start_time": "2022-03-29T09:20:48.506Z"
   },
   {
    "duration": 25,
    "start_time": "2022-03-29T09:20:48.539Z"
   },
   {
    "duration": 19,
    "start_time": "2022-03-29T09:20:48.566Z"
   },
   {
    "duration": 7,
    "start_time": "2022-03-29T09:20:48.587Z"
   },
   {
    "duration": 2494,
    "start_time": "2022-03-29T09:20:48.595Z"
   },
   {
    "duration": 2291,
    "start_time": "2022-03-29T09:20:51.091Z"
   },
   {
    "duration": 2039,
    "start_time": "2022-03-29T09:20:53.385Z"
   },
   {
    "duration": 466,
    "start_time": "2022-03-29T09:20:55.426Z"
   },
   {
    "duration": 6,
    "start_time": "2022-03-29T09:20:55.893Z"
   },
   {
    "duration": 608,
    "start_time": "2022-03-29T09:20:55.901Z"
   },
   {
    "duration": 13,
    "start_time": "2022-03-29T09:20:56.510Z"
   },
   {
    "duration": 9,
    "start_time": "2022-03-29T09:20:56.525Z"
   },
   {
    "duration": 8,
    "start_time": "2022-03-29T09:20:56.538Z"
   },
   {
    "duration": 10,
    "start_time": "2022-03-29T09:20:56.549Z"
   },
   {
    "duration": 591,
    "start_time": "2022-03-29T09:20:56.561Z"
   },
   {
    "duration": 6,
    "start_time": "2022-03-29T09:20:57.154Z"
   },
   {
    "duration": 11,
    "start_time": "2022-03-29T09:20:57.161Z"
   },
   {
    "duration": 7,
    "start_time": "2022-03-29T09:20:57.174Z"
   },
   {
    "duration": 20,
    "start_time": "2022-03-29T09:20:57.183Z"
   },
   {
    "duration": 630,
    "start_time": "2022-03-29T09:20:57.205Z"
   },
   {
    "duration": 5,
    "start_time": "2022-03-29T09:20:57.837Z"
   },
   {
    "duration": 23,
    "start_time": "2022-03-29T09:20:57.843Z"
   },
   {
    "duration": 13,
    "start_time": "2022-03-29T09:20:57.867Z"
   },
   {
    "duration": 9,
    "start_time": "2022-03-29T09:20:57.882Z"
   },
   {
    "duration": 8,
    "start_time": "2022-03-29T09:20:57.893Z"
   },
   {
    "duration": 42,
    "start_time": "2022-03-29T09:20:57.903Z"
   },
   {
    "duration": 0,
    "start_time": "2022-03-29T09:20:57.947Z"
   },
   {
    "duration": 0,
    "start_time": "2022-03-29T09:20:57.948Z"
   },
   {
    "duration": 0,
    "start_time": "2022-03-29T09:20:57.950Z"
   },
   {
    "duration": 0,
    "start_time": "2022-03-29T09:20:57.952Z"
   },
   {
    "duration": 0,
    "start_time": "2022-03-29T09:20:57.953Z"
   },
   {
    "duration": 0,
    "start_time": "2022-03-29T09:20:57.954Z"
   },
   {
    "duration": 0,
    "start_time": "2022-03-29T09:20:57.955Z"
   },
   {
    "duration": 0,
    "start_time": "2022-03-29T09:20:57.956Z"
   },
   {
    "duration": 0,
    "start_time": "2022-03-29T09:20:57.957Z"
   },
   {
    "duration": 0,
    "start_time": "2022-03-29T09:20:57.959Z"
   },
   {
    "duration": 0,
    "start_time": "2022-03-29T09:20:57.960Z"
   },
   {
    "duration": 0,
    "start_time": "2022-03-29T09:20:57.961Z"
   },
   {
    "duration": 0,
    "start_time": "2022-03-29T09:20:57.962Z"
   },
   {
    "duration": 0,
    "start_time": "2022-03-29T09:20:57.963Z"
   },
   {
    "duration": 0,
    "start_time": "2022-03-29T09:20:57.964Z"
   },
   {
    "duration": 742,
    "start_time": "2022-03-29T09:26:41.117Z"
   },
   {
    "duration": 19,
    "start_time": "2022-03-29T09:26:59.359Z"
   },
   {
    "duration": 4,
    "start_time": "2022-03-29T09:27:11.784Z"
   },
   {
    "duration": 3,
    "start_time": "2022-03-29T09:27:13.763Z"
   },
   {
    "duration": 8,
    "start_time": "2022-03-29T09:27:14.608Z"
   },
   {
    "duration": 3,
    "start_time": "2022-03-29T09:27:15.361Z"
   },
   {
    "duration": 5,
    "start_time": "2022-03-29T09:27:16.231Z"
   },
   {
    "duration": 31,
    "start_time": "2022-03-29T09:27:19.982Z"
   },
   {
    "duration": 4,
    "start_time": "2022-03-29T09:29:14.457Z"
   },
   {
    "duration": 331,
    "start_time": "2022-03-29T09:29:14.464Z"
   },
   {
    "duration": 19,
    "start_time": "2022-03-29T09:29:14.797Z"
   },
   {
    "duration": 310,
    "start_time": "2022-03-29T09:29:14.818Z"
   },
   {
    "duration": 114,
    "start_time": "2022-03-29T09:29:15.130Z"
   },
   {
    "duration": 16,
    "start_time": "2022-03-29T09:29:15.246Z"
   },
   {
    "duration": 171,
    "start_time": "2022-03-29T09:29:15.264Z"
   },
   {
    "duration": 382,
    "start_time": "2022-03-29T09:29:15.437Z"
   },
   {
    "duration": 30,
    "start_time": "2022-03-29T09:29:15.822Z"
   },
   {
    "duration": 320,
    "start_time": "2022-03-29T09:29:15.854Z"
   },
   {
    "duration": 5,
    "start_time": "2022-03-29T09:29:16.175Z"
   },
   {
    "duration": 10,
    "start_time": "2022-03-29T09:29:16.182Z"
   },
   {
    "duration": 13,
    "start_time": "2022-03-29T09:29:16.193Z"
   },
   {
    "duration": 12,
    "start_time": "2022-03-29T09:29:16.208Z"
   },
   {
    "duration": 20,
    "start_time": "2022-03-29T09:29:16.221Z"
   },
   {
    "duration": 38,
    "start_time": "2022-03-29T09:29:16.244Z"
   },
   {
    "duration": 28,
    "start_time": "2022-03-29T09:29:16.283Z"
   },
   {
    "duration": 57,
    "start_time": "2022-03-29T09:29:16.314Z"
   },
   {
    "duration": 24,
    "start_time": "2022-03-29T09:29:16.374Z"
   },
   {
    "duration": 6,
    "start_time": "2022-03-29T09:29:16.400Z"
   },
   {
    "duration": 2468,
    "start_time": "2022-03-29T09:29:16.409Z"
   },
   {
    "duration": 2196,
    "start_time": "2022-03-29T09:29:18.879Z"
   },
   {
    "duration": 2046,
    "start_time": "2022-03-29T09:29:21.077Z"
   },
   {
    "duration": 473,
    "start_time": "2022-03-29T09:29:23.127Z"
   },
   {
    "duration": 5,
    "start_time": "2022-03-29T09:29:23.602Z"
   },
   {
    "duration": 477,
    "start_time": "2022-03-29T09:29:23.609Z"
   },
   {
    "duration": 4,
    "start_time": "2022-03-29T09:29:24.088Z"
   },
   {
    "duration": 18,
    "start_time": "2022-03-29T09:29:24.094Z"
   },
   {
    "duration": 38,
    "start_time": "2022-03-29T09:29:24.113Z"
   },
   {
    "duration": 32,
    "start_time": "2022-03-29T09:29:24.152Z"
   },
   {
    "duration": 604,
    "start_time": "2022-03-29T09:29:24.185Z"
   },
   {
    "duration": 5,
    "start_time": "2022-03-29T09:29:24.790Z"
   },
   {
    "duration": 19,
    "start_time": "2022-03-29T09:29:24.797Z"
   },
   {
    "duration": 51,
    "start_time": "2022-03-29T09:29:24.818Z"
   },
   {
    "duration": 26,
    "start_time": "2022-03-29T09:29:24.871Z"
   },
   {
    "duration": 46,
    "start_time": "2022-03-29T09:29:24.899Z"
   },
   {
    "duration": 2499,
    "start_time": "2022-03-29T09:29:24.947Z"
   },
   {
    "duration": 5585,
    "start_time": "2022-03-29T09:29:27.450Z"
   },
   {
    "duration": 1662,
    "start_time": "2022-03-29T09:29:33.037Z"
   },
   {
    "duration": 33248,
    "start_time": "2022-03-29T09:29:34.701Z"
   },
   {
    "duration": 6526,
    "start_time": "2022-03-29T09:30:07.951Z"
   },
   {
    "duration": 18,
    "start_time": "2022-03-29T09:30:14.479Z"
   },
   {
    "duration": 27,
    "start_time": "2022-03-29T09:30:14.499Z"
   },
   {
    "duration": 23,
    "start_time": "2022-03-29T09:30:14.528Z"
   },
   {
    "duration": 13,
    "start_time": "2022-03-29T09:30:14.553Z"
   },
   {
    "duration": 19,
    "start_time": "2022-03-29T09:30:14.568Z"
   },
   {
    "duration": 118,
    "start_time": "2022-03-29T09:30:14.631Z"
   },
   {
    "duration": 9,
    "start_time": "2022-03-29T09:30:14.751Z"
   },
   {
    "duration": 12,
    "start_time": "2022-03-29T09:30:14.762Z"
   },
   {
    "duration": 10,
    "start_time": "2022-03-29T09:30:14.776Z"
   },
   {
    "duration": 8,
    "start_time": "2022-03-29T09:30:14.787Z"
   },
   {
    "duration": 11,
    "start_time": "2022-03-29T09:30:14.797Z"
   },
   {
    "duration": 2972,
    "start_time": "2022-03-29T09:30:37.817Z"
   },
   {
    "duration": 0,
    "start_time": "2022-03-29T09:30:40.791Z"
   },
   {
    "duration": 2,
    "start_time": "2022-03-29T09:30:42.269Z"
   },
   {
    "duration": 10,
    "start_time": "2022-03-29T09:30:42.775Z"
   },
   {
    "duration": 3,
    "start_time": "2022-03-29T09:30:43.669Z"
   },
   {
    "duration": 3,
    "start_time": "2022-03-29T09:30:44.377Z"
   },
   {
    "duration": 1533,
    "start_time": "2022-03-29T09:30:45.825Z"
   },
   {
    "duration": 8,
    "start_time": "2022-03-29T09:38:44.769Z"
   },
   {
    "duration": 8,
    "start_time": "2022-03-29T09:39:24.218Z"
   },
   {
    "duration": 5,
    "start_time": "2022-03-29T09:40:51.786Z"
   },
   {
    "duration": 4,
    "start_time": "2022-03-29T09:41:08.781Z"
   },
   {
    "duration": 5,
    "start_time": "2022-03-29T09:41:37.918Z"
   },
   {
    "duration": 4,
    "start_time": "2022-03-29T09:41:41.648Z"
   },
   {
    "duration": 5,
    "start_time": "2022-03-29T09:42:10.583Z"
   },
   {
    "duration": 5,
    "start_time": "2022-03-29T09:42:15.576Z"
   },
   {
    "duration": 3528,
    "start_time": "2022-03-29T09:43:06.525Z"
   },
   {
    "duration": 13,
    "start_time": "2022-03-29T09:44:13.268Z"
   },
   {
    "duration": 5,
    "start_time": "2022-03-29T09:44:28.690Z"
   },
   {
    "duration": 3,
    "start_time": "2022-03-29T09:44:31.669Z"
   },
   {
    "duration": 9,
    "start_time": "2022-03-29T09:44:37.173Z"
   },
   {
    "duration": 3,
    "start_time": "2022-03-29T09:44:39.498Z"
   },
   {
    "duration": 2,
    "start_time": "2022-03-29T09:44:44.986Z"
   },
   {
    "duration": 29,
    "start_time": "2022-03-29T09:44:48.379Z"
   },
   {
    "duration": 9,
    "start_time": "2022-03-29T09:46:42.845Z"
   },
   {
    "duration": 5,
    "start_time": "2022-03-29T09:46:44.890Z"
   },
   {
    "duration": 3,
    "start_time": "2022-03-29T09:46:46.175Z"
   },
   {
    "duration": 12,
    "start_time": "2022-03-29T09:46:46.847Z"
   },
   {
    "duration": 7,
    "start_time": "2022-03-29T09:47:24.435Z"
   },
   {
    "duration": 3,
    "start_time": "2022-03-29T09:47:24.960Z"
   },
   {
    "duration": 32,
    "start_time": "2022-03-29T09:47:27.122Z"
   },
   {
    "duration": 12,
    "start_time": "2022-03-29T09:47:40.457Z"
   },
   {
    "duration": 13,
    "start_time": "2022-03-29T09:48:09.844Z"
   },
   {
    "duration": 11,
    "start_time": "2022-03-29T09:48:30.393Z"
   },
   {
    "duration": 4,
    "start_time": "2022-03-29T09:48:48.680Z"
   },
   {
    "duration": 333,
    "start_time": "2022-03-29T09:48:48.686Z"
   },
   {
    "duration": 26,
    "start_time": "2022-03-29T09:48:49.021Z"
   },
   {
    "duration": 443,
    "start_time": "2022-03-29T09:48:49.049Z"
   },
   {
    "duration": 103,
    "start_time": "2022-03-29T09:48:49.495Z"
   },
   {
    "duration": 14,
    "start_time": "2022-03-29T09:48:49.600Z"
   },
   {
    "duration": 164,
    "start_time": "2022-03-29T09:48:49.616Z"
   },
   {
    "duration": 397,
    "start_time": "2022-03-29T09:48:49.782Z"
   },
   {
    "duration": 19,
    "start_time": "2022-03-29T09:48:50.181Z"
   },
   {
    "duration": 303,
    "start_time": "2022-03-29T09:48:50.203Z"
   },
   {
    "duration": 5,
    "start_time": "2022-03-29T09:48:50.509Z"
   },
   {
    "duration": 22,
    "start_time": "2022-03-29T09:48:50.516Z"
   },
   {
    "duration": 14,
    "start_time": "2022-03-29T09:48:50.540Z"
   },
   {
    "duration": 9,
    "start_time": "2022-03-29T09:48:50.556Z"
   },
   {
    "duration": 6,
    "start_time": "2022-03-29T09:48:50.568Z"
   },
   {
    "duration": 24,
    "start_time": "2022-03-29T09:48:50.576Z"
   },
   {
    "duration": 53,
    "start_time": "2022-03-29T09:48:50.602Z"
   },
   {
    "duration": 27,
    "start_time": "2022-03-29T09:48:50.658Z"
   },
   {
    "duration": 27,
    "start_time": "2022-03-29T09:48:50.687Z"
   },
   {
    "duration": 20,
    "start_time": "2022-03-29T09:48:50.716Z"
   },
   {
    "duration": 2364,
    "start_time": "2022-03-29T09:48:50.738Z"
   },
   {
    "duration": 2044,
    "start_time": "2022-03-29T09:48:53.104Z"
   },
   {
    "duration": 1862,
    "start_time": "2022-03-29T09:48:55.150Z"
   },
   {
    "duration": 579,
    "start_time": "2022-03-29T09:48:57.014Z"
   },
   {
    "duration": 5,
    "start_time": "2022-03-29T09:48:57.595Z"
   },
   {
    "duration": 437,
    "start_time": "2022-03-29T09:48:57.601Z"
   },
   {
    "duration": 8,
    "start_time": "2022-03-29T09:48:58.041Z"
   },
   {
    "duration": 7,
    "start_time": "2022-03-29T09:48:58.051Z"
   },
   {
    "duration": 5,
    "start_time": "2022-03-29T09:48:58.063Z"
   },
   {
    "duration": 6,
    "start_time": "2022-03-29T09:48:58.069Z"
   },
   {
    "duration": 573,
    "start_time": "2022-03-29T09:48:58.077Z"
   },
   {
    "duration": 5,
    "start_time": "2022-03-29T09:48:58.652Z"
   },
   {
    "duration": 9,
    "start_time": "2022-03-29T09:48:58.658Z"
   },
   {
    "duration": 8,
    "start_time": "2022-03-29T09:48:58.668Z"
   },
   {
    "duration": 17,
    "start_time": "2022-03-29T09:48:58.678Z"
   },
   {
    "duration": 4,
    "start_time": "2022-03-29T09:48:58.697Z"
   },
   {
    "duration": 29,
    "start_time": "2022-03-29T09:48:58.703Z"
   },
   {
    "duration": 22,
    "start_time": "2022-03-29T09:48:58.734Z"
   },
   {
    "duration": 10,
    "start_time": "2022-03-29T09:48:58.757Z"
   },
   {
    "duration": 6,
    "start_time": "2022-03-29T09:48:58.768Z"
   },
   {
    "duration": 33,
    "start_time": "2022-03-29T09:48:58.776Z"
   },
   {
    "duration": 0,
    "start_time": "2022-03-29T09:48:58.812Z"
   },
   {
    "duration": 0,
    "start_time": "2022-03-29T09:48:58.813Z"
   },
   {
    "duration": 0,
    "start_time": "2022-03-29T09:48:58.815Z"
   },
   {
    "duration": 0,
    "start_time": "2022-03-29T09:48:58.816Z"
   },
   {
    "duration": 0,
    "start_time": "2022-03-29T09:48:58.818Z"
   },
   {
    "duration": 0,
    "start_time": "2022-03-29T09:48:58.839Z"
   },
   {
    "duration": 0,
    "start_time": "2022-03-29T09:48:58.841Z"
   },
   {
    "duration": 0,
    "start_time": "2022-03-29T09:48:58.843Z"
   },
   {
    "duration": 0,
    "start_time": "2022-03-29T09:48:58.844Z"
   },
   {
    "duration": 0,
    "start_time": "2022-03-29T09:48:58.846Z"
   },
   {
    "duration": 0,
    "start_time": "2022-03-29T09:48:58.848Z"
   },
   {
    "duration": 0,
    "start_time": "2022-03-29T09:48:58.849Z"
   },
   {
    "duration": 0,
    "start_time": "2022-03-29T09:48:58.851Z"
   },
   {
    "duration": 0,
    "start_time": "2022-03-29T09:48:58.852Z"
   },
   {
    "duration": 0,
    "start_time": "2022-03-29T09:48:58.854Z"
   },
   {
    "duration": 18,
    "start_time": "2022-03-29T09:51:15.345Z"
   },
   {
    "duration": 3,
    "start_time": "2022-03-29T09:53:20.327Z"
   },
   {
    "duration": 31,
    "start_time": "2022-03-29T09:53:26.012Z"
   },
   {
    "duration": 5,
    "start_time": "2022-03-29T09:54:04.625Z"
   },
   {
    "duration": 7,
    "start_time": "2022-03-29T09:54:09.332Z"
   },
   {
    "duration": 2,
    "start_time": "2022-03-29T09:54:11.487Z"
   },
   {
    "duration": 8,
    "start_time": "2022-03-29T09:54:12.046Z"
   },
   {
    "duration": 3,
    "start_time": "2022-03-29T09:54:12.708Z"
   },
   {
    "duration": 2,
    "start_time": "2022-03-29T09:54:13.259Z"
   },
   {
    "duration": 3,
    "start_time": "2022-03-29T09:54:17.084Z"
   },
   {
    "duration": 29,
    "start_time": "2022-03-29T09:54:21.841Z"
   },
   {
    "duration": 49,
    "start_time": "2022-03-29T10:07:18.223Z"
   },
   {
    "duration": 6,
    "start_time": "2022-03-29T10:08:12.055Z"
   },
   {
    "duration": 6,
    "start_time": "2022-03-29T10:08:54.908Z"
   },
   {
    "duration": 1596,
    "start_time": "2022-03-29T11:10:21.593Z"
   },
   {
    "duration": 271,
    "start_time": "2022-03-29T11:10:23.191Z"
   },
   {
    "duration": 17,
    "start_time": "2022-03-29T11:10:23.463Z"
   },
   {
    "duration": 248,
    "start_time": "2022-03-29T11:10:23.482Z"
   },
   {
    "duration": 88,
    "start_time": "2022-03-29T11:10:23.732Z"
   },
   {
    "duration": 13,
    "start_time": "2022-03-29T11:10:23.822Z"
   },
   {
    "duration": 147,
    "start_time": "2022-03-29T11:10:23.836Z"
   },
   {
    "duration": 353,
    "start_time": "2022-03-29T11:10:23.984Z"
   },
   {
    "duration": 17,
    "start_time": "2022-03-29T11:10:24.339Z"
   },
   {
    "duration": 269,
    "start_time": "2022-03-29T11:10:24.359Z"
   },
   {
    "duration": 4,
    "start_time": "2022-03-29T11:10:24.630Z"
   },
   {
    "duration": 8,
    "start_time": "2022-03-29T11:10:24.636Z"
   },
   {
    "duration": 11,
    "start_time": "2022-03-29T11:10:24.646Z"
   },
   {
    "duration": 12,
    "start_time": "2022-03-29T11:10:24.658Z"
   },
   {
    "duration": 10,
    "start_time": "2022-03-29T11:10:24.672Z"
   },
   {
    "duration": 77,
    "start_time": "2022-03-29T11:10:24.684Z"
   },
   {
    "duration": 18,
    "start_time": "2022-03-29T11:10:24.762Z"
   },
   {
    "duration": 38,
    "start_time": "2022-03-29T11:10:24.782Z"
   },
   {
    "duration": 24,
    "start_time": "2022-03-29T11:10:24.822Z"
   },
   {
    "duration": 5,
    "start_time": "2022-03-29T11:10:24.848Z"
   },
   {
    "duration": 2318,
    "start_time": "2022-03-29T11:10:24.855Z"
   },
   {
    "duration": 1953,
    "start_time": "2022-03-29T11:10:27.175Z"
   },
   {
    "duration": 1779,
    "start_time": "2022-03-29T11:10:29.130Z"
   },
   {
    "duration": 428,
    "start_time": "2022-03-29T11:10:30.911Z"
   },
   {
    "duration": 7,
    "start_time": "2022-03-29T11:10:31.341Z"
   },
   {
    "duration": 519,
    "start_time": "2022-03-29T11:10:31.349Z"
   },
   {
    "duration": 6,
    "start_time": "2022-03-29T11:10:31.870Z"
   },
   {
    "duration": 4,
    "start_time": "2022-03-29T11:10:31.881Z"
   },
   {
    "duration": 23,
    "start_time": "2022-03-29T11:10:31.887Z"
   },
   {
    "duration": 6,
    "start_time": "2022-03-29T11:10:31.912Z"
   },
   {
    "duration": 507,
    "start_time": "2022-03-29T11:10:31.920Z"
   },
   {
    "duration": 11,
    "start_time": "2022-03-29T11:10:32.429Z"
   },
   {
    "duration": 8,
    "start_time": "2022-03-29T11:10:32.442Z"
   },
   {
    "duration": 8,
    "start_time": "2022-03-29T11:10:32.452Z"
   },
   {
    "duration": 2,
    "start_time": "2022-03-29T11:10:32.462Z"
   },
   {
    "duration": 4,
    "start_time": "2022-03-29T11:10:32.466Z"
   },
   {
    "duration": 38,
    "start_time": "2022-03-29T11:10:32.471Z"
   },
   {
    "duration": 3,
    "start_time": "2022-03-29T11:10:32.511Z"
   },
   {
    "duration": 8,
    "start_time": "2022-03-29T11:10:32.516Z"
   },
   {
    "duration": 6,
    "start_time": "2022-03-29T11:10:32.526Z"
   },
   {
    "duration": 12,
    "start_time": "2022-03-29T11:10:32.533Z"
   },
   {
    "duration": 3,
    "start_time": "2022-03-29T11:10:32.546Z"
   },
   {
    "duration": 7,
    "start_time": "2022-03-29T11:10:32.550Z"
   },
   {
    "duration": 6,
    "start_time": "2022-03-29T11:10:32.558Z"
   },
   {
    "duration": 122,
    "start_time": "2022-03-29T11:10:32.566Z"
   },
   {
    "duration": 0,
    "start_time": "2022-03-29T11:10:32.690Z"
   },
   {
    "duration": 1,
    "start_time": "2022-03-29T11:10:32.691Z"
   },
   {
    "duration": 0,
    "start_time": "2022-03-29T11:10:32.693Z"
   },
   {
    "duration": 0,
    "start_time": "2022-03-29T11:10:32.694Z"
   },
   {
    "duration": 0,
    "start_time": "2022-03-29T11:10:32.709Z"
   },
   {
    "duration": 0,
    "start_time": "2022-03-29T11:10:32.710Z"
   },
   {
    "duration": 0,
    "start_time": "2022-03-29T11:10:32.711Z"
   },
   {
    "duration": 0,
    "start_time": "2022-03-29T11:10:32.713Z"
   },
   {
    "duration": 0,
    "start_time": "2022-03-29T11:10:32.714Z"
   },
   {
    "duration": 0,
    "start_time": "2022-03-29T11:10:32.715Z"
   },
   {
    "duration": 0,
    "start_time": "2022-03-29T11:10:32.716Z"
   },
   {
    "duration": 0,
    "start_time": "2022-03-29T11:10:32.717Z"
   },
   {
    "duration": 0,
    "start_time": "2022-03-29T11:10:32.718Z"
   },
   {
    "duration": 0,
    "start_time": "2022-03-29T11:10:32.719Z"
   },
   {
    "duration": 8,
    "start_time": "2022-03-29T11:12:23.418Z"
   },
   {
    "duration": 9,
    "start_time": "2022-03-29T11:12:24.209Z"
   },
   {
    "duration": 6,
    "start_time": "2022-03-29T11:12:24.913Z"
   },
   {
    "duration": 3,
    "start_time": "2022-03-29T11:12:26.733Z"
   },
   {
    "duration": 2,
    "start_time": "2022-03-29T11:12:27.322Z"
   },
   {
    "duration": 3,
    "start_time": "2022-03-29T11:12:27.851Z"
   },
   {
    "duration": 3,
    "start_time": "2022-03-29T11:12:28.361Z"
   },
   {
    "duration": 6,
    "start_time": "2022-03-29T11:12:31.422Z"
   },
   {
    "duration": 3,
    "start_time": "2022-03-29T11:12:36.646Z"
   },
   {
    "duration": 9,
    "start_time": "2022-03-29T11:12:37.489Z"
   },
   {
    "duration": 2,
    "start_time": "2022-03-29T11:12:38.295Z"
   },
   {
    "duration": 3,
    "start_time": "2022-03-29T11:12:38.855Z"
   },
   {
    "duration": 29,
    "start_time": "2022-03-29T11:13:06.614Z"
   },
   {
    "duration": 1166,
    "start_time": "2022-03-29T11:13:41.800Z"
   },
   {
    "duration": 4,
    "start_time": "2022-03-29T11:13:49.809Z"
   },
   {
    "duration": 309,
    "start_time": "2022-03-29T11:13:49.817Z"
   },
   {
    "duration": 17,
    "start_time": "2022-03-29T11:13:50.128Z"
   },
   {
    "duration": 225,
    "start_time": "2022-03-29T11:13:50.146Z"
   },
   {
    "duration": 84,
    "start_time": "2022-03-29T11:13:50.373Z"
   },
   {
    "duration": 15,
    "start_time": "2022-03-29T11:13:50.458Z"
   },
   {
    "duration": 132,
    "start_time": "2022-03-29T11:13:50.475Z"
   },
   {
    "duration": 332,
    "start_time": "2022-03-29T11:13:50.609Z"
   },
   {
    "duration": 18,
    "start_time": "2022-03-29T11:13:50.943Z"
   },
   {
    "duration": 254,
    "start_time": "2022-03-29T11:13:50.962Z"
   },
   {
    "duration": 4,
    "start_time": "2022-03-29T11:13:51.219Z"
   },
   {
    "duration": 5,
    "start_time": "2022-03-29T11:13:51.224Z"
   },
   {
    "duration": 7,
    "start_time": "2022-03-29T11:13:51.230Z"
   },
   {
    "duration": 10,
    "start_time": "2022-03-29T11:13:51.239Z"
   },
   {
    "duration": 4,
    "start_time": "2022-03-29T11:13:51.251Z"
   },
   {
    "duration": 20,
    "start_time": "2022-03-29T11:13:51.257Z"
   },
   {
    "duration": 44,
    "start_time": "2022-03-29T11:13:51.279Z"
   },
   {
    "duration": 21,
    "start_time": "2022-03-29T11:13:51.324Z"
   },
   {
    "duration": 21,
    "start_time": "2022-03-29T11:13:51.347Z"
   },
   {
    "duration": 5,
    "start_time": "2022-03-29T11:13:51.369Z"
   },
   {
    "duration": 2267,
    "start_time": "2022-03-29T11:13:51.375Z"
   },
   {
    "duration": 1848,
    "start_time": "2022-03-29T11:13:53.645Z"
   },
   {
    "duration": 1882,
    "start_time": "2022-03-29T11:13:55.494Z"
   },
   {
    "duration": 393,
    "start_time": "2022-03-29T11:13:57.378Z"
   },
   {
    "duration": 4,
    "start_time": "2022-03-29T11:13:57.773Z"
   },
   {
    "duration": 390,
    "start_time": "2022-03-29T11:13:57.779Z"
   },
   {
    "duration": 4,
    "start_time": "2022-03-29T11:13:58.171Z"
   },
   {
    "duration": 5,
    "start_time": "2022-03-29T11:13:58.177Z"
   },
   {
    "duration": 4,
    "start_time": "2022-03-29T11:13:58.186Z"
   },
   {
    "duration": 20,
    "start_time": "2022-03-29T11:13:58.191Z"
   },
   {
    "duration": 610,
    "start_time": "2022-03-29T11:13:58.212Z"
   },
   {
    "duration": 4,
    "start_time": "2022-03-29T11:13:58.824Z"
   },
   {
    "duration": 7,
    "start_time": "2022-03-29T11:13:58.830Z"
   },
   {
    "duration": 6,
    "start_time": "2022-03-29T11:13:58.838Z"
   },
   {
    "duration": 16,
    "start_time": "2022-03-29T11:13:58.845Z"
   },
   {
    "duration": 4,
    "start_time": "2022-03-29T11:13:58.863Z"
   },
   {
    "duration": 4,
    "start_time": "2022-03-29T11:13:58.869Z"
   },
   {
    "duration": 13,
    "start_time": "2022-03-29T11:13:58.875Z"
   },
   {
    "duration": 3,
    "start_time": "2022-03-29T11:13:58.909Z"
   },
   {
    "duration": 5,
    "start_time": "2022-03-29T11:13:58.913Z"
   },
   {
    "duration": 34,
    "start_time": "2022-03-29T11:13:58.919Z"
   },
   {
    "duration": 0,
    "start_time": "2022-03-29T11:13:58.955Z"
   },
   {
    "duration": 1,
    "start_time": "2022-03-29T11:13:58.956Z"
   },
   {
    "duration": 0,
    "start_time": "2022-03-29T11:13:58.957Z"
   },
   {
    "duration": 0,
    "start_time": "2022-03-29T11:13:58.958Z"
   },
   {
    "duration": 0,
    "start_time": "2022-03-29T11:13:58.960Z"
   },
   {
    "duration": 0,
    "start_time": "2022-03-29T11:13:58.961Z"
   },
   {
    "duration": 0,
    "start_time": "2022-03-29T11:13:58.961Z"
   },
   {
    "duration": 0,
    "start_time": "2022-03-29T11:13:58.962Z"
   },
   {
    "duration": 0,
    "start_time": "2022-03-29T11:13:58.963Z"
   },
   {
    "duration": 0,
    "start_time": "2022-03-29T11:13:58.964Z"
   },
   {
    "duration": 0,
    "start_time": "2022-03-29T11:13:58.965Z"
   },
   {
    "duration": 0,
    "start_time": "2022-03-29T11:13:58.966Z"
   },
   {
    "duration": 0,
    "start_time": "2022-03-29T11:13:58.967Z"
   },
   {
    "duration": 0,
    "start_time": "2022-03-29T11:13:58.968Z"
   },
   {
    "duration": 0,
    "start_time": "2022-03-29T11:13:58.969Z"
   },
   {
    "duration": 25,
    "start_time": "2022-03-29T11:17:18.912Z"
   },
   {
    "duration": 1049,
    "start_time": "2022-03-29T11:17:31.075Z"
   },
   {
    "duration": 1788,
    "start_time": "2022-03-29T11:18:13.925Z"
   },
   {
    "duration": 5246,
    "start_time": "2022-03-29T11:18:28.236Z"
   },
   {
    "duration": 1553,
    "start_time": "2022-03-29T11:18:46.732Z"
   },
   {
    "duration": 29056,
    "start_time": "2022-03-29T11:18:59.891Z"
   },
   {
    "duration": 23,
    "start_time": "2022-03-29T11:19:43.164Z"
   },
   {
    "duration": 5549,
    "start_time": "2022-03-29T11:19:52.799Z"
   },
   {
    "duration": 4,
    "start_time": "2022-03-29T11:20:10.871Z"
   },
   {
    "duration": 325,
    "start_time": "2022-03-29T11:20:10.877Z"
   },
   {
    "duration": 22,
    "start_time": "2022-03-29T11:20:11.204Z"
   },
   {
    "duration": 256,
    "start_time": "2022-03-29T11:20:11.228Z"
   },
   {
    "duration": 96,
    "start_time": "2022-03-29T11:20:11.486Z"
   },
   {
    "duration": 15,
    "start_time": "2022-03-29T11:20:11.583Z"
   },
   {
    "duration": 130,
    "start_time": "2022-03-29T11:20:11.609Z"
   },
   {
    "duration": 369,
    "start_time": "2022-03-29T11:20:11.742Z"
   },
   {
    "duration": 19,
    "start_time": "2022-03-29T11:20:12.114Z"
   },
   {
    "duration": 271,
    "start_time": "2022-03-29T11:20:12.135Z"
   },
   {
    "duration": 6,
    "start_time": "2022-03-29T11:20:12.408Z"
   },
   {
    "duration": 7,
    "start_time": "2022-03-29T11:20:12.416Z"
   },
   {
    "duration": 13,
    "start_time": "2022-03-29T11:20:12.425Z"
   },
   {
    "duration": 18,
    "start_time": "2022-03-29T11:20:12.440Z"
   },
   {
    "duration": 15,
    "start_time": "2022-03-29T11:20:12.460Z"
   },
   {
    "duration": 22,
    "start_time": "2022-03-29T11:20:12.476Z"
   },
   {
    "duration": 22,
    "start_time": "2022-03-29T11:20:12.499Z"
   },
   {
    "duration": 22,
    "start_time": "2022-03-29T11:20:12.523Z"
   },
   {
    "duration": 23,
    "start_time": "2022-03-29T11:20:12.546Z"
   },
   {
    "duration": 5,
    "start_time": "2022-03-29T11:20:12.571Z"
   },
   {
    "duration": 2350,
    "start_time": "2022-03-29T11:20:12.577Z"
   },
   {
    "duration": 1839,
    "start_time": "2022-03-29T11:20:14.928Z"
   },
   {
    "duration": 1971,
    "start_time": "2022-03-29T11:20:16.769Z"
   },
   {
    "duration": 430,
    "start_time": "2022-03-29T11:20:18.744Z"
   },
   {
    "duration": 6,
    "start_time": "2022-03-29T11:20:19.177Z"
   },
   {
    "duration": 420,
    "start_time": "2022-03-29T11:20:19.185Z"
   },
   {
    "duration": 6,
    "start_time": "2022-03-29T11:20:19.607Z"
   },
   {
    "duration": 7,
    "start_time": "2022-03-29T11:20:19.614Z"
   },
   {
    "duration": 4,
    "start_time": "2022-03-29T11:20:19.623Z"
   },
   {
    "duration": 4,
    "start_time": "2022-03-29T11:20:19.629Z"
   },
   {
    "duration": 660,
    "start_time": "2022-03-29T11:20:19.635Z"
   },
   {
    "duration": 4,
    "start_time": "2022-03-29T11:20:20.297Z"
   },
   {
    "duration": 5,
    "start_time": "2022-03-29T11:20:20.308Z"
   },
   {
    "duration": 8,
    "start_time": "2022-03-29T11:20:20.314Z"
   },
   {
    "duration": 14,
    "start_time": "2022-03-29T11:20:20.324Z"
   },
   {
    "duration": 4,
    "start_time": "2022-03-29T11:20:20.340Z"
   },
   {
    "duration": 5,
    "start_time": "2022-03-29T11:20:20.346Z"
   },
   {
    "duration": 12,
    "start_time": "2022-03-29T11:20:20.352Z"
   },
   {
    "duration": 4,
    "start_time": "2022-03-29T11:20:20.366Z"
   },
   {
    "duration": 5,
    "start_time": "2022-03-29T11:20:20.372Z"
   },
   {
    "duration": 1501,
    "start_time": "2022-03-29T11:20:20.409Z"
   },
   {
    "duration": 5092,
    "start_time": "2022-03-29T11:20:21.913Z"
   },
   {
    "duration": 1503,
    "start_time": "2022-03-29T11:20:27.009Z"
   },
   {
    "duration": 29028,
    "start_time": "2022-03-29T11:20:28.514Z"
   },
   {
    "duration": 5657,
    "start_time": "2022-03-29T11:20:57.544Z"
   },
   {
    "duration": 20,
    "start_time": "2022-03-29T11:21:03.203Z"
   },
   {
    "duration": 13,
    "start_time": "2022-03-29T11:21:03.224Z"
   },
   {
    "duration": 5,
    "start_time": "2022-03-29T11:21:03.239Z"
   },
   {
    "duration": 5,
    "start_time": "2022-03-29T11:21:03.245Z"
   },
   {
    "duration": 58,
    "start_time": "2022-03-29T11:21:03.251Z"
   },
   {
    "duration": 98,
    "start_time": "2022-03-29T11:21:03.312Z"
   },
   {
    "duration": 7,
    "start_time": "2022-03-29T11:21:03.412Z"
   },
   {
    "duration": 5,
    "start_time": "2022-03-29T11:21:03.421Z"
   },
   {
    "duration": 10,
    "start_time": "2022-03-29T11:21:03.428Z"
   },
   {
    "duration": 5,
    "start_time": "2022-03-29T11:21:03.439Z"
   },
   {
    "duration": 12,
    "start_time": "2022-03-29T11:21:03.445Z"
   },
   {
    "duration": 394,
    "start_time": "2022-03-29T11:31:48.351Z"
   },
   {
    "duration": 285,
    "start_time": "2022-03-29T11:32:11.388Z"
   },
   {
    "duration": 379,
    "start_time": "2022-03-29T11:32:23.771Z"
   },
   {
    "duration": 480,
    "start_time": "2022-03-29T11:32:56.212Z"
   },
   {
    "duration": 6,
    "start_time": "2022-03-29T11:33:11.874Z"
   },
   {
    "duration": 5,
    "start_time": "2022-03-29T11:33:26.630Z"
   },
   {
    "duration": 4,
    "start_time": "2022-03-29T11:33:36.249Z"
   },
   {
    "duration": 384,
    "start_time": "2022-03-29T11:33:43.226Z"
   },
   {
    "duration": 7,
    "start_time": "2022-03-29T11:35:14.082Z"
   },
   {
    "duration": 79,
    "start_time": "2022-03-29T11:35:27.275Z"
   },
   {
    "duration": 4,
    "start_time": "2022-03-29T11:35:38.041Z"
   },
   {
    "duration": 4,
    "start_time": "2022-03-29T11:35:49.385Z"
   },
   {
    "duration": 4,
    "start_time": "2022-03-29T11:36:04.554Z"
   },
   {
    "duration": 462,
    "start_time": "2022-03-29T11:36:05.661Z"
   },
   {
    "duration": 405,
    "start_time": "2022-03-29T11:36:29.080Z"
   },
   {
    "duration": 528,
    "start_time": "2022-03-29T11:36:42.272Z"
   },
   {
    "duration": 4,
    "start_time": "2022-03-29T11:36:48.826Z"
   },
   {
    "duration": 270,
    "start_time": "2022-03-29T11:36:48.832Z"
   },
   {
    "duration": 18,
    "start_time": "2022-03-29T11:36:49.104Z"
   },
   {
    "duration": 237,
    "start_time": "2022-03-29T11:36:49.124Z"
   },
   {
    "duration": 79,
    "start_time": "2022-03-29T11:36:49.362Z"
   },
   {
    "duration": 12,
    "start_time": "2022-03-29T11:36:49.442Z"
   },
   {
    "duration": 140,
    "start_time": "2022-03-29T11:36:49.456Z"
   },
   {
    "duration": 341,
    "start_time": "2022-03-29T11:36:49.598Z"
   },
   {
    "duration": 16,
    "start_time": "2022-03-29T11:36:49.940Z"
   },
   {
    "duration": 259,
    "start_time": "2022-03-29T11:36:49.959Z"
   },
   {
    "duration": 3,
    "start_time": "2022-03-29T11:36:50.220Z"
   },
   {
    "duration": 6,
    "start_time": "2022-03-29T11:36:50.225Z"
   },
   {
    "duration": 8,
    "start_time": "2022-03-29T11:36:50.232Z"
   },
   {
    "duration": 15,
    "start_time": "2022-03-29T11:36:50.241Z"
   },
   {
    "duration": 4,
    "start_time": "2022-03-29T11:36:50.258Z"
   },
   {
    "duration": 25,
    "start_time": "2022-03-29T11:36:50.264Z"
   },
   {
    "duration": 29,
    "start_time": "2022-03-29T11:36:50.291Z"
   },
   {
    "duration": 19,
    "start_time": "2022-03-29T11:36:50.322Z"
   },
   {
    "duration": 17,
    "start_time": "2022-03-29T11:36:50.343Z"
   },
   {
    "duration": 5,
    "start_time": "2022-03-29T11:36:50.361Z"
   },
   {
    "duration": 2286,
    "start_time": "2022-03-29T11:36:50.368Z"
   },
   {
    "duration": 1857,
    "start_time": "2022-03-29T11:36:52.656Z"
   },
   {
    "duration": 1900,
    "start_time": "2022-03-29T11:36:54.514Z"
   },
   {
    "duration": 413,
    "start_time": "2022-03-29T11:36:56.415Z"
   },
   {
    "duration": 5,
    "start_time": "2022-03-29T11:36:56.830Z"
   },
   {
    "duration": 386,
    "start_time": "2022-03-29T11:36:56.836Z"
   },
   {
    "duration": 5,
    "start_time": "2022-03-29T11:36:57.223Z"
   },
   {
    "duration": 4,
    "start_time": "2022-03-29T11:36:57.232Z"
   },
   {
    "duration": 8,
    "start_time": "2022-03-29T11:36:57.237Z"
   },
   {
    "duration": 6,
    "start_time": "2022-03-29T11:36:57.247Z"
   },
   {
    "duration": 621,
    "start_time": "2022-03-29T11:36:57.255Z"
   },
   {
    "duration": 5,
    "start_time": "2022-03-29T11:36:57.878Z"
   },
   {
    "duration": 8,
    "start_time": "2022-03-29T11:36:57.884Z"
   },
   {
    "duration": 16,
    "start_time": "2022-03-29T11:36:57.893Z"
   },
   {
    "duration": 16,
    "start_time": "2022-03-29T11:36:57.910Z"
   },
   {
    "duration": 5,
    "start_time": "2022-03-29T11:36:57.927Z"
   },
   {
    "duration": 6,
    "start_time": "2022-03-29T11:36:57.933Z"
   },
   {
    "duration": 10,
    "start_time": "2022-03-29T11:36:57.941Z"
   },
   {
    "duration": 4,
    "start_time": "2022-03-29T11:36:57.952Z"
   },
   {
    "duration": 5,
    "start_time": "2022-03-29T11:36:57.958Z"
   },
   {
    "duration": 1351,
    "start_time": "2022-03-29T11:36:57.964Z"
   },
   {
    "duration": 5195,
    "start_time": "2022-03-29T11:36:59.318Z"
   },
   {
    "duration": 1509,
    "start_time": "2022-03-29T11:37:04.514Z"
   },
   {
    "duration": 29047,
    "start_time": "2022-03-29T11:37:06.025Z"
   },
   {
    "duration": 5613,
    "start_time": "2022-03-29T11:37:35.074Z"
   },
   {
    "duration": 23,
    "start_time": "2022-03-29T11:37:40.689Z"
   },
   {
    "duration": 11,
    "start_time": "2022-03-29T11:37:40.714Z"
   },
   {
    "duration": 4,
    "start_time": "2022-03-29T11:37:40.726Z"
   },
   {
    "duration": 5,
    "start_time": "2022-03-29T11:37:40.731Z"
   },
   {
    "duration": 9,
    "start_time": "2022-03-29T11:37:40.737Z"
   },
   {
    "duration": 66,
    "start_time": "2022-03-29T11:37:40.748Z"
   },
   {
    "duration": 94,
    "start_time": "2022-03-29T11:37:40.816Z"
   },
   {
    "duration": 5,
    "start_time": "2022-03-29T11:37:40.912Z"
   },
   {
    "duration": 6,
    "start_time": "2022-03-29T11:37:40.919Z"
   },
   {
    "duration": 5,
    "start_time": "2022-03-29T11:37:40.927Z"
   },
   {
    "duration": 8,
    "start_time": "2022-03-29T11:37:40.933Z"
   },
   {
    "duration": 4,
    "start_time": "2022-03-29T11:43:15.570Z"
   },
   {
    "duration": 293,
    "start_time": "2022-03-29T11:43:15.576Z"
   },
   {
    "duration": 19,
    "start_time": "2022-03-29T11:43:15.871Z"
   },
   {
    "duration": 267,
    "start_time": "2022-03-29T11:43:15.892Z"
   },
   {
    "duration": 77,
    "start_time": "2022-03-29T11:43:16.162Z"
   },
   {
    "duration": 14,
    "start_time": "2022-03-29T11:43:16.241Z"
   },
   {
    "duration": 145,
    "start_time": "2022-03-29T11:43:16.257Z"
   },
   {
    "duration": 318,
    "start_time": "2022-03-29T11:43:16.408Z"
   },
   {
    "duration": 18,
    "start_time": "2022-03-29T11:43:16.728Z"
   },
   {
    "duration": 270,
    "start_time": "2022-03-29T11:43:16.747Z"
   },
   {
    "duration": 4,
    "start_time": "2022-03-29T11:43:17.020Z"
   },
   {
    "duration": 5,
    "start_time": "2022-03-29T11:43:17.026Z"
   },
   {
    "duration": 7,
    "start_time": "2022-03-29T11:43:17.032Z"
   },
   {
    "duration": 8,
    "start_time": "2022-03-29T11:43:17.041Z"
   },
   {
    "duration": 4,
    "start_time": "2022-03-29T11:43:17.051Z"
   },
   {
    "duration": 23,
    "start_time": "2022-03-29T11:43:17.057Z"
   },
   {
    "duration": 19,
    "start_time": "2022-03-29T11:43:17.110Z"
   },
   {
    "duration": 21,
    "start_time": "2022-03-29T11:43:17.130Z"
   },
   {
    "duration": 18,
    "start_time": "2022-03-29T11:43:17.152Z"
   },
   {
    "duration": 4,
    "start_time": "2022-03-29T11:43:17.172Z"
   },
   {
    "duration": 2234,
    "start_time": "2022-03-29T11:43:17.178Z"
   },
   {
    "duration": 1917,
    "start_time": "2022-03-29T11:43:19.414Z"
   },
   {
    "duration": 1959,
    "start_time": "2022-03-29T11:43:21.332Z"
   },
   {
    "duration": 410,
    "start_time": "2022-03-29T11:43:23.293Z"
   },
   {
    "duration": 4,
    "start_time": "2022-03-29T11:43:23.709Z"
   },
   {
    "duration": 391,
    "start_time": "2022-03-29T11:43:23.715Z"
   },
   {
    "duration": 5,
    "start_time": "2022-03-29T11:43:24.109Z"
   },
   {
    "duration": 7,
    "start_time": "2022-03-29T11:43:24.116Z"
   },
   {
    "duration": 5,
    "start_time": "2022-03-29T11:43:24.128Z"
   },
   {
    "duration": 6,
    "start_time": "2022-03-29T11:43:24.134Z"
   },
   {
    "duration": 499,
    "start_time": "2022-03-29T11:43:24.142Z"
   },
   {
    "duration": 7,
    "start_time": "2022-03-29T11:43:24.643Z"
   },
   {
    "duration": 7,
    "start_time": "2022-03-29T11:43:24.651Z"
   },
   {
    "duration": 6,
    "start_time": "2022-03-29T11:43:24.659Z"
   },
   {
    "duration": 12,
    "start_time": "2022-03-29T11:43:24.666Z"
   },
   {
    "duration": 30,
    "start_time": "2022-03-29T11:43:24.680Z"
   },
   {
    "duration": 4,
    "start_time": "2022-03-29T11:43:24.712Z"
   },
   {
    "duration": 12,
    "start_time": "2022-03-29T11:43:24.717Z"
   },
   {
    "duration": 5,
    "start_time": "2022-03-29T11:43:24.730Z"
   },
   {
    "duration": 4,
    "start_time": "2022-03-29T11:43:24.736Z"
   },
   {
    "duration": 1373,
    "start_time": "2022-03-29T11:43:24.742Z"
   },
   {
    "duration": 4875,
    "start_time": "2022-03-29T11:43:26.117Z"
   },
   {
    "duration": 1430,
    "start_time": "2022-03-29T11:43:30.994Z"
   },
   {
    "duration": 28061,
    "start_time": "2022-03-29T11:43:32.426Z"
   },
   {
    "duration": 5521,
    "start_time": "2022-03-29T11:44:00.489Z"
   },
   {
    "duration": 14,
    "start_time": "2022-03-29T11:44:06.011Z"
   },
   {
    "duration": 11,
    "start_time": "2022-03-29T11:44:06.027Z"
   },
   {
    "duration": 4,
    "start_time": "2022-03-29T11:44:06.039Z"
   },
   {
    "duration": 8,
    "start_time": "2022-03-29T11:44:06.044Z"
   },
   {
    "duration": 56,
    "start_time": "2022-03-29T11:44:06.053Z"
   },
   {
    "duration": 94,
    "start_time": "2022-03-29T11:44:06.116Z"
   },
   {
    "duration": 6,
    "start_time": "2022-03-29T11:44:06.211Z"
   },
   {
    "duration": 5,
    "start_time": "2022-03-29T11:44:06.219Z"
   },
   {
    "duration": 7,
    "start_time": "2022-03-29T11:44:06.226Z"
   },
   {
    "duration": 5,
    "start_time": "2022-03-29T11:44:06.234Z"
   },
   {
    "duration": 8,
    "start_time": "2022-03-29T11:44:06.240Z"
   },
   {
    "duration": 8,
    "start_time": "2022-03-29T11:47:04.147Z"
   },
   {
    "duration": 2447,
    "start_time": "2022-03-29T12:23:16.627Z"
   },
   {
    "duration": 354,
    "start_time": "2022-03-29T12:23:19.077Z"
   },
   {
    "duration": 29,
    "start_time": "2022-03-29T12:23:19.433Z"
   },
   {
    "duration": 324,
    "start_time": "2022-03-29T12:23:19.465Z"
   },
   {
    "duration": 112,
    "start_time": "2022-03-29T12:23:19.792Z"
   },
   {
    "duration": 18,
    "start_time": "2022-03-29T12:23:19.907Z"
   },
   {
    "duration": 183,
    "start_time": "2022-03-29T12:23:19.943Z"
   },
   {
    "duration": 688,
    "start_time": "2022-03-29T12:23:20.129Z"
   },
   {
    "duration": 40,
    "start_time": "2022-03-29T12:23:20.819Z"
   },
   {
    "duration": 346,
    "start_time": "2022-03-29T12:23:20.863Z"
   },
   {
    "duration": 5,
    "start_time": "2022-03-29T12:23:21.211Z"
   },
   {
    "duration": 4,
    "start_time": "2022-03-29T12:23:21.219Z"
   },
   {
    "duration": 11,
    "start_time": "2022-03-29T12:23:21.244Z"
   },
   {
    "duration": 10,
    "start_time": "2022-03-29T12:23:21.258Z"
   },
   {
    "duration": 7,
    "start_time": "2022-03-29T12:23:21.271Z"
   },
   {
    "duration": 138,
    "start_time": "2022-03-29T12:23:21.280Z"
   },
   {
    "duration": 40,
    "start_time": "2022-03-29T12:23:21.420Z"
   },
   {
    "duration": 33,
    "start_time": "2022-03-29T12:23:21.462Z"
   },
   {
    "duration": 49,
    "start_time": "2022-03-29T12:23:21.498Z"
   },
   {
    "duration": 8,
    "start_time": "2022-03-29T12:23:21.550Z"
   },
   {
    "duration": 3179,
    "start_time": "2022-03-29T12:23:21.560Z"
   },
   {
    "duration": 2588,
    "start_time": "2022-03-29T12:23:24.741Z"
   },
   {
    "duration": 2375,
    "start_time": "2022-03-29T12:23:27.332Z"
   },
   {
    "duration": 646,
    "start_time": "2022-03-29T12:23:29.709Z"
   },
   {
    "duration": 6,
    "start_time": "2022-03-29T12:23:30.358Z"
   },
   {
    "duration": 765,
    "start_time": "2022-03-29T12:23:30.366Z"
   },
   {
    "duration": 13,
    "start_time": "2022-03-29T12:23:31.133Z"
   },
   {
    "duration": 14,
    "start_time": "2022-03-29T12:23:31.151Z"
   },
   {
    "duration": 14,
    "start_time": "2022-03-29T12:23:31.167Z"
   },
   {
    "duration": 19,
    "start_time": "2022-03-29T12:23:31.183Z"
   },
   {
    "duration": 819,
    "start_time": "2022-03-29T12:23:31.204Z"
   },
   {
    "duration": 6,
    "start_time": "2022-03-29T12:23:32.025Z"
   },
   {
    "duration": 7,
    "start_time": "2022-03-29T12:23:32.043Z"
   },
   {
    "duration": 9,
    "start_time": "2022-03-29T12:23:32.052Z"
   },
   {
    "duration": 26,
    "start_time": "2022-03-29T12:23:32.063Z"
   },
   {
    "duration": 72,
    "start_time": "2022-03-29T12:23:32.091Z"
   },
   {
    "duration": 7,
    "start_time": "2022-03-29T12:23:32.165Z"
   },
   {
    "duration": 8,
    "start_time": "2022-03-29T12:23:32.175Z"
   },
   {
    "duration": 15,
    "start_time": "2022-03-29T12:23:32.185Z"
   },
   {
    "duration": 8,
    "start_time": "2022-03-29T12:23:32.202Z"
   },
   {
    "duration": 33,
    "start_time": "2022-03-29T12:23:32.212Z"
   },
   {
    "duration": 1898,
    "start_time": "2022-03-29T12:23:32.247Z"
   },
   {
    "duration": 6166,
    "start_time": "2022-03-29T12:23:34.148Z"
   },
   {
    "duration": 1852,
    "start_time": "2022-03-29T12:23:40.316Z"
   },
   {
    "duration": 35712,
    "start_time": "2022-03-29T12:23:42.170Z"
   },
   {
    "duration": 6986,
    "start_time": "2022-03-29T12:24:17.884Z"
   },
   {
    "duration": 6,
    "start_time": "2022-03-29T12:24:24.872Z"
   },
   {
    "duration": 19,
    "start_time": "2022-03-29T12:24:24.881Z"
   },
   {
    "duration": 6,
    "start_time": "2022-03-29T12:24:24.905Z"
   },
   {
    "duration": 30,
    "start_time": "2022-03-29T12:24:24.913Z"
   },
   {
    "duration": 18,
    "start_time": "2022-03-29T12:24:24.946Z"
   },
   {
    "duration": 78,
    "start_time": "2022-03-29T12:24:24.967Z"
   },
   {
    "duration": 102,
    "start_time": "2022-03-29T12:24:25.049Z"
   },
   {
    "duration": 6,
    "start_time": "2022-03-29T12:24:25.154Z"
   },
   {
    "duration": 8,
    "start_time": "2022-03-29T12:24:25.162Z"
   },
   {
    "duration": 6,
    "start_time": "2022-03-29T12:24:25.173Z"
   },
   {
    "duration": 10,
    "start_time": "2022-03-29T12:24:25.182Z"
   },
   {
    "duration": 171,
    "start_time": "2022-03-29T12:27:44.101Z"
   },
   {
    "duration": 6,
    "start_time": "2022-03-29T12:27:56.944Z"
   },
   {
    "duration": 378,
    "start_time": "2022-03-29T12:27:56.953Z"
   },
   {
    "duration": 30,
    "start_time": "2022-03-29T12:27:57.333Z"
   },
   {
    "duration": 312,
    "start_time": "2022-03-29T12:27:57.366Z"
   },
   {
    "duration": 103,
    "start_time": "2022-03-29T12:27:57.680Z"
   },
   {
    "duration": 17,
    "start_time": "2022-03-29T12:27:57.785Z"
   },
   {
    "duration": 188,
    "start_time": "2022-03-29T12:27:57.804Z"
   },
   {
    "duration": 411,
    "start_time": "2022-03-29T12:27:57.995Z"
   },
   {
    "duration": 36,
    "start_time": "2022-03-29T12:27:58.411Z"
   },
   {
    "duration": 322,
    "start_time": "2022-03-29T12:27:58.450Z"
   },
   {
    "duration": 5,
    "start_time": "2022-03-29T12:27:58.775Z"
   },
   {
    "duration": 15,
    "start_time": "2022-03-29T12:27:58.782Z"
   },
   {
    "duration": 17,
    "start_time": "2022-03-29T12:27:58.799Z"
   },
   {
    "duration": 19,
    "start_time": "2022-03-29T12:27:58.818Z"
   },
   {
    "duration": 19,
    "start_time": "2022-03-29T12:27:58.839Z"
   },
   {
    "duration": 40,
    "start_time": "2022-03-29T12:27:58.860Z"
   },
   {
    "duration": 21,
    "start_time": "2022-03-29T12:27:58.903Z"
   },
   {
    "duration": 42,
    "start_time": "2022-03-29T12:27:58.927Z"
   },
   {
    "duration": 21,
    "start_time": "2022-03-29T12:27:58.971Z"
   },
   {
    "duration": 7,
    "start_time": "2022-03-29T12:27:58.994Z"
   },
   {
    "duration": 3192,
    "start_time": "2022-03-29T12:27:59.003Z"
   },
   {
    "duration": 2479,
    "start_time": "2022-03-29T12:28:02.197Z"
   },
   {
    "duration": 2447,
    "start_time": "2022-03-29T12:28:04.679Z"
   },
   {
    "duration": 648,
    "start_time": "2022-03-29T12:28:07.134Z"
   },
   {
    "duration": 8,
    "start_time": "2022-03-29T12:28:07.786Z"
   },
   {
    "duration": 758,
    "start_time": "2022-03-29T12:28:07.797Z"
   },
   {
    "duration": 8,
    "start_time": "2022-03-29T12:28:08.557Z"
   },
   {
    "duration": 7,
    "start_time": "2022-03-29T12:28:08.567Z"
   },
   {
    "duration": 6,
    "start_time": "2022-03-29T12:28:08.576Z"
   },
   {
    "duration": 7,
    "start_time": "2022-03-29T12:28:08.584Z"
   },
   {
    "duration": 836,
    "start_time": "2022-03-29T12:28:08.593Z"
   },
   {
    "duration": 14,
    "start_time": "2022-03-29T12:28:09.432Z"
   },
   {
    "duration": 9,
    "start_time": "2022-03-29T12:28:09.448Z"
   },
   {
    "duration": 7,
    "start_time": "2022-03-29T12:28:09.459Z"
   },
   {
    "duration": 23,
    "start_time": "2022-03-29T12:28:09.468Z"
   },
   {
    "duration": 54,
    "start_time": "2022-03-29T12:28:09.493Z"
   },
   {
    "duration": 8,
    "start_time": "2022-03-29T12:28:09.549Z"
   },
   {
    "duration": 7,
    "start_time": "2022-03-29T12:28:09.559Z"
   },
   {
    "duration": 12,
    "start_time": "2022-03-29T12:28:09.568Z"
   },
   {
    "duration": 5,
    "start_time": "2022-03-29T12:28:09.583Z"
   },
   {
    "duration": 6,
    "start_time": "2022-03-29T12:28:09.590Z"
   },
   {
    "duration": 1852,
    "start_time": "2022-03-29T12:28:09.598Z"
   },
   {
    "duration": 6152,
    "start_time": "2022-03-29T12:28:11.453Z"
   },
   {
    "duration": 1822,
    "start_time": "2022-03-29T12:28:17.607Z"
   },
   {
    "duration": 35030,
    "start_time": "2022-03-29T12:28:19.431Z"
   },
   {
    "duration": 7085,
    "start_time": "2022-03-29T12:28:54.463Z"
   },
   {
    "duration": 6,
    "start_time": "2022-03-29T12:29:01.551Z"
   },
   {
    "duration": 29,
    "start_time": "2022-03-29T12:29:01.560Z"
   },
   {
    "duration": 8,
    "start_time": "2022-03-29T12:29:01.592Z"
   },
   {
    "duration": 41,
    "start_time": "2022-03-29T12:29:01.602Z"
   },
   {
    "duration": 26,
    "start_time": "2022-03-29T12:29:01.645Z"
   },
   {
    "duration": 109,
    "start_time": "2022-03-29T12:29:01.744Z"
   },
   {
    "duration": 9,
    "start_time": "2022-03-29T12:29:01.856Z"
   },
   {
    "duration": 7,
    "start_time": "2022-03-29T12:29:01.868Z"
   },
   {
    "duration": 14,
    "start_time": "2022-03-29T12:29:01.877Z"
   },
   {
    "duration": 7,
    "start_time": "2022-03-29T12:29:01.893Z"
   },
   {
    "duration": 42,
    "start_time": "2022-03-29T12:29:01.903Z"
   },
   {
    "duration": 16,
    "start_time": "2022-03-29T12:29:32.592Z"
   },
   {
    "duration": 6,
    "start_time": "2022-03-29T12:29:47.615Z"
   },
   {
    "duration": 40,
    "start_time": "2022-03-29T12:29:54.344Z"
   },
   {
    "duration": 15,
    "start_time": "2022-03-29T12:29:58.809Z"
   },
   {
    "duration": 6,
    "start_time": "2022-03-29T12:29:59.612Z"
   },
   {
    "duration": 7,
    "start_time": "2022-03-29T12:30:00.959Z"
   },
   {
    "duration": 6,
    "start_time": "2022-03-29T12:30:02.546Z"
   },
   {
    "duration": 8,
    "start_time": "2022-03-29T12:30:09.321Z"
   },
   {
    "duration": 6,
    "start_time": "2022-03-29T12:30:10.204Z"
   },
   {
    "duration": 6,
    "start_time": "2022-03-29T12:30:53.602Z"
   },
   {
    "duration": 371,
    "start_time": "2022-03-29T12:30:53.611Z"
   },
   {
    "duration": 25,
    "start_time": "2022-03-29T12:30:53.984Z"
   },
   {
    "duration": 336,
    "start_time": "2022-03-29T12:30:54.011Z"
   },
   {
    "duration": 121,
    "start_time": "2022-03-29T12:30:54.350Z"
   },
   {
    "duration": 20,
    "start_time": "2022-03-29T12:30:54.474Z"
   },
   {
    "duration": 210,
    "start_time": "2022-03-29T12:30:54.498Z"
   },
   {
    "duration": 413,
    "start_time": "2022-03-29T12:30:54.710Z"
   },
   {
    "duration": 40,
    "start_time": "2022-03-29T12:30:55.127Z"
   },
   {
    "duration": 334,
    "start_time": "2022-03-29T12:30:55.169Z"
   },
   {
    "duration": 7,
    "start_time": "2022-03-29T12:30:55.505Z"
   },
   {
    "duration": 4,
    "start_time": "2022-03-29T12:30:55.514Z"
   },
   {
    "duration": 26,
    "start_time": "2022-03-29T12:30:55.520Z"
   },
   {
    "duration": 10,
    "start_time": "2022-03-29T12:30:55.548Z"
   },
   {
    "duration": 8,
    "start_time": "2022-03-29T12:30:55.560Z"
   },
   {
    "duration": 33,
    "start_time": "2022-03-29T12:30:55.570Z"
   },
   {
    "duration": 58,
    "start_time": "2022-03-29T12:30:55.606Z"
   },
   {
    "duration": 30,
    "start_time": "2022-03-29T12:30:55.666Z"
   },
   {
    "duration": 49,
    "start_time": "2022-03-29T12:30:55.698Z"
   },
   {
    "duration": 8,
    "start_time": "2022-03-29T12:30:55.749Z"
   },
   {
    "duration": 3215,
    "start_time": "2022-03-29T12:30:55.759Z"
   },
   {
    "duration": 2535,
    "start_time": "2022-03-29T12:30:58.977Z"
   },
   {
    "duration": 2597,
    "start_time": "2022-03-29T12:31:01.514Z"
   },
   {
    "duration": 796,
    "start_time": "2022-03-29T12:31:04.116Z"
   },
   {
    "duration": 6,
    "start_time": "2022-03-29T12:31:04.914Z"
   },
   {
    "duration": 670,
    "start_time": "2022-03-29T12:31:04.922Z"
   },
   {
    "duration": 8,
    "start_time": "2022-03-29T12:31:05.595Z"
   },
   {
    "duration": 7,
    "start_time": "2022-03-29T12:31:05.606Z"
   },
   {
    "duration": 12,
    "start_time": "2022-03-29T12:31:05.615Z"
   },
   {
    "duration": 37,
    "start_time": "2022-03-29T12:31:05.629Z"
   },
   {
    "duration": 1193,
    "start_time": "2022-03-29T12:31:05.668Z"
   },
   {
    "duration": 7,
    "start_time": "2022-03-29T12:31:06.863Z"
   },
   {
    "duration": 16,
    "start_time": "2022-03-29T12:31:06.872Z"
   },
   {
    "duration": 8,
    "start_time": "2022-03-29T12:31:06.890Z"
   },
   {
    "duration": 24,
    "start_time": "2022-03-29T12:31:06.900Z"
   },
   {
    "duration": 4,
    "start_time": "2022-03-29T12:31:06.943Z"
   },
   {
    "duration": 7,
    "start_time": "2022-03-29T12:31:06.949Z"
   },
   {
    "duration": 8,
    "start_time": "2022-03-29T12:31:06.958Z"
   },
   {
    "duration": 12,
    "start_time": "2022-03-29T12:31:06.968Z"
   },
   {
    "duration": 6,
    "start_time": "2022-03-29T12:31:06.982Z"
   },
   {
    "duration": 6,
    "start_time": "2022-03-29T12:31:06.990Z"
   },
   {
    "duration": 1954,
    "start_time": "2022-03-29T12:31:06.998Z"
   },
   {
    "duration": 6078,
    "start_time": "2022-03-29T12:31:09.044Z"
   },
   {
    "duration": 1818,
    "start_time": "2022-03-29T12:31:15.125Z"
   },
   {
    "duration": 35629,
    "start_time": "2022-03-29T12:31:16.946Z"
   },
   {
    "duration": 7649,
    "start_time": "2022-03-29T12:31:52.578Z"
   },
   {
    "duration": 20,
    "start_time": "2022-03-29T12:32:00.229Z"
   },
   {
    "duration": 24,
    "start_time": "2022-03-29T12:32:00.251Z"
   },
   {
    "duration": 23,
    "start_time": "2022-03-29T12:32:00.277Z"
   },
   {
    "duration": 23,
    "start_time": "2022-03-29T12:32:00.302Z"
   },
   {
    "duration": 37,
    "start_time": "2022-03-29T12:32:00.328Z"
   },
   {
    "duration": 79,
    "start_time": "2022-03-29T12:32:00.369Z"
   },
   {
    "duration": 109,
    "start_time": "2022-03-29T12:32:00.451Z"
   },
   {
    "duration": 34,
    "start_time": "2022-03-29T12:32:00.562Z"
   },
   {
    "duration": 25,
    "start_time": "2022-03-29T12:32:00.598Z"
   },
   {
    "duration": 28,
    "start_time": "2022-03-29T12:32:00.625Z"
   },
   {
    "duration": 17,
    "start_time": "2022-03-29T12:32:00.655Z"
   },
   {
    "duration": 6,
    "start_time": "2022-03-29T12:33:23.030Z"
   },
   {
    "duration": 14,
    "start_time": "2022-03-29T12:34:33.558Z"
   },
   {
    "duration": 766,
    "start_time": "2022-03-29T12:34:34.566Z"
   },
   {
    "duration": 6,
    "start_time": "2022-03-29T12:34:52.856Z"
   },
   {
    "duration": 358,
    "start_time": "2022-03-29T12:34:52.865Z"
   },
   {
    "duration": 35,
    "start_time": "2022-03-29T12:34:53.225Z"
   },
   {
    "duration": 322,
    "start_time": "2022-03-29T12:34:53.263Z"
   },
   {
    "duration": 113,
    "start_time": "2022-03-29T12:34:53.587Z"
   },
   {
    "duration": 20,
    "start_time": "2022-03-29T12:34:53.703Z"
   },
   {
    "duration": 202,
    "start_time": "2022-03-29T12:34:53.725Z"
   },
   {
    "duration": 417,
    "start_time": "2022-03-29T12:34:53.930Z"
   },
   {
    "duration": 26,
    "start_time": "2022-03-29T12:34:54.350Z"
   },
   {
    "duration": 508,
    "start_time": "2022-03-29T12:34:54.378Z"
   },
   {
    "duration": 8,
    "start_time": "2022-03-29T12:34:54.889Z"
   },
   {
    "duration": 7,
    "start_time": "2022-03-29T12:34:54.900Z"
   },
   {
    "duration": 37,
    "start_time": "2022-03-29T12:34:54.910Z"
   },
   {
    "duration": 15,
    "start_time": "2022-03-29T12:34:54.949Z"
   },
   {
    "duration": 8,
    "start_time": "2022-03-29T12:34:54.966Z"
   },
   {
    "duration": 31,
    "start_time": "2022-03-29T12:34:54.977Z"
   },
   {
    "duration": 55,
    "start_time": "2022-03-29T12:34:55.010Z"
   },
   {
    "duration": 32,
    "start_time": "2022-03-29T12:34:55.067Z"
   },
   {
    "duration": 56,
    "start_time": "2022-03-29T12:34:55.101Z"
   },
   {
    "duration": 7,
    "start_time": "2022-03-29T12:34:55.160Z"
   },
   {
    "duration": 3086,
    "start_time": "2022-03-29T12:34:55.169Z"
   },
   {
    "duration": 2613,
    "start_time": "2022-03-29T12:34:58.257Z"
   },
   {
    "duration": 2453,
    "start_time": "2022-03-29T12:35:00.872Z"
   },
   {
    "duration": 738,
    "start_time": "2022-03-29T12:35:03.332Z"
   },
   {
    "duration": 7,
    "start_time": "2022-03-29T12:35:04.072Z"
   },
   {
    "duration": 774,
    "start_time": "2022-03-29T12:35:04.081Z"
   },
   {
    "duration": 6,
    "start_time": "2022-03-29T12:35:04.858Z"
   },
   {
    "duration": 7,
    "start_time": "2022-03-29T12:35:04.866Z"
   },
   {
    "duration": 6,
    "start_time": "2022-03-29T12:35:04.876Z"
   },
   {
    "duration": 9,
    "start_time": "2022-03-29T12:35:04.884Z"
   },
   {
    "duration": 25,
    "start_time": "2022-03-29T12:35:04.896Z"
   },
   {
    "duration": 819,
    "start_time": "2022-03-29T12:35:04.924Z"
   },
   {
    "duration": 6,
    "start_time": "2022-03-29T12:35:05.745Z"
   },
   {
    "duration": 8,
    "start_time": "2022-03-29T12:35:05.753Z"
   },
   {
    "duration": 6,
    "start_time": "2022-03-29T12:35:05.763Z"
   },
   {
    "duration": 18,
    "start_time": "2022-03-29T12:35:05.771Z"
   },
   {
    "duration": 5,
    "start_time": "2022-03-29T12:35:05.791Z"
   },
   {
    "duration": 8,
    "start_time": "2022-03-29T12:35:05.799Z"
   },
   {
    "duration": 11,
    "start_time": "2022-03-29T12:35:05.809Z"
   },
   {
    "duration": 5,
    "start_time": "2022-03-29T12:35:05.823Z"
   },
   {
    "duration": 12,
    "start_time": "2022-03-29T12:35:05.831Z"
   },
   {
    "duration": 1998,
    "start_time": "2022-03-29T12:35:05.845Z"
   },
   {
    "duration": 6328,
    "start_time": "2022-03-29T12:35:07.846Z"
   },
   {
    "duration": 1806,
    "start_time": "2022-03-29T12:35:14.176Z"
   },
   {
    "duration": 34859,
    "start_time": "2022-03-29T12:35:15.985Z"
   },
   {
    "duration": 6779,
    "start_time": "2022-03-29T12:35:50.846Z"
   },
   {
    "duration": 6,
    "start_time": "2022-03-29T12:35:57.627Z"
   },
   {
    "duration": 18,
    "start_time": "2022-03-29T12:35:57.643Z"
   },
   {
    "duration": 6,
    "start_time": "2022-03-29T12:35:57.663Z"
   },
   {
    "duration": 6,
    "start_time": "2022-03-29T12:35:57.671Z"
   },
   {
    "duration": 11,
    "start_time": "2022-03-29T12:35:57.679Z"
   },
   {
    "duration": 98,
    "start_time": "2022-03-29T12:35:57.745Z"
   },
   {
    "duration": 8,
    "start_time": "2022-03-29T12:35:57.845Z"
   },
   {
    "duration": 7,
    "start_time": "2022-03-29T12:35:57.855Z"
   },
   {
    "duration": 8,
    "start_time": "2022-03-29T12:35:57.864Z"
   },
   {
    "duration": 6,
    "start_time": "2022-03-29T12:35:57.874Z"
   },
   {
    "duration": 11,
    "start_time": "2022-03-29T12:35:57.882Z"
   },
   {
    "duration": 1731,
    "start_time": "2022-03-29T12:36:48.285Z"
   },
   {
    "duration": 7,
    "start_time": "2022-03-29T12:37:43.886Z"
   },
   {
    "duration": 13,
    "start_time": "2022-03-29T12:39:11.358Z"
   },
   {
    "duration": 26,
    "start_time": "2022-03-29T12:39:20.275Z"
   },
   {
    "duration": 8,
    "start_time": "2022-03-29T12:41:57.259Z"
   },
   {
    "duration": 12,
    "start_time": "2022-03-29T12:45:20.487Z"
   },
   {
    "duration": 6,
    "start_time": "2022-03-29T12:45:42.783Z"
   },
   {
    "duration": 331,
    "start_time": "2022-03-29T12:45:43.659Z"
   },
   {
    "duration": 24,
    "start_time": "2022-03-29T12:45:43.993Z"
   },
   {
    "duration": 324,
    "start_time": "2022-03-29T12:45:44.020Z"
   },
   {
    "duration": 104,
    "start_time": "2022-03-29T12:45:44.346Z"
   },
   {
    "duration": 18,
    "start_time": "2022-03-29T12:45:44.453Z"
   },
   {
    "duration": 182,
    "start_time": "2022-03-29T12:45:44.473Z"
   },
   {
    "duration": 399,
    "start_time": "2022-03-29T12:45:44.657Z"
   },
   {
    "duration": 25,
    "start_time": "2022-03-29T12:45:45.058Z"
   },
   {
    "duration": 342,
    "start_time": "2022-03-29T12:45:45.085Z"
   },
   {
    "duration": 15,
    "start_time": "2022-03-29T12:45:45.429Z"
   },
   {
    "duration": 4,
    "start_time": "2022-03-29T12:45:45.446Z"
   },
   {
    "duration": 9,
    "start_time": "2022-03-29T12:45:45.452Z"
   },
   {
    "duration": 11,
    "start_time": "2022-03-29T12:45:45.463Z"
   },
   {
    "duration": 7,
    "start_time": "2022-03-29T12:45:45.479Z"
   },
   {
    "duration": 77,
    "start_time": "2022-03-29T12:45:45.488Z"
   },
   {
    "duration": 22,
    "start_time": "2022-03-29T12:45:45.568Z"
   },
   {
    "duration": 55,
    "start_time": "2022-03-29T12:45:45.593Z"
   },
   {
    "duration": 20,
    "start_time": "2022-03-29T12:45:45.650Z"
   },
   {
    "duration": 7,
    "start_time": "2022-03-29T12:45:45.672Z"
   },
   {
    "duration": 3090,
    "start_time": "2022-03-29T12:45:45.681Z"
   },
   {
    "duration": 2355,
    "start_time": "2022-03-29T12:45:48.773Z"
   },
   {
    "duration": 2391,
    "start_time": "2022-03-29T12:45:51.130Z"
   },
   {
    "duration": 640,
    "start_time": "2022-03-29T12:45:53.523Z"
   },
   {
    "duration": 7,
    "start_time": "2022-03-29T12:45:54.165Z"
   },
   {
    "duration": 633,
    "start_time": "2022-03-29T12:45:54.174Z"
   },
   {
    "duration": 7,
    "start_time": "2022-03-29T12:45:54.809Z"
   },
   {
    "duration": 25,
    "start_time": "2022-03-29T12:45:54.818Z"
   },
   {
    "duration": 6,
    "start_time": "2022-03-29T12:45:54.845Z"
   },
   {
    "duration": 6,
    "start_time": "2022-03-29T12:45:54.854Z"
   },
   {
    "duration": 29,
    "start_time": "2022-03-29T12:45:54.863Z"
   },
   {
    "duration": 173,
    "start_time": "2022-03-29T12:45:54.894Z"
   },
   {
    "duration": 802,
    "start_time": "2022-03-29T12:45:55.070Z"
   },
   {
    "duration": 7,
    "start_time": "2022-03-29T12:45:55.875Z"
   },
   {
    "duration": 9,
    "start_time": "2022-03-29T12:45:55.885Z"
   },
   {
    "duration": 9,
    "start_time": "2022-03-29T12:45:55.896Z"
   },
   {
    "duration": 48,
    "start_time": "2022-03-29T12:45:55.907Z"
   },
   {
    "duration": 7,
    "start_time": "2022-03-29T12:45:55.957Z"
   },
   {
    "duration": 6,
    "start_time": "2022-03-29T12:45:55.966Z"
   },
   {
    "duration": 17,
    "start_time": "2022-03-29T12:45:55.974Z"
   },
   {
    "duration": 5,
    "start_time": "2022-03-29T12:45:55.993Z"
   },
   {
    "duration": 4,
    "start_time": "2022-03-29T12:45:56.004Z"
   },
   {
    "duration": 1835,
    "start_time": "2022-03-29T12:45:56.010Z"
   },
   {
    "duration": 6048,
    "start_time": "2022-03-29T12:45:57.848Z"
   },
   {
    "duration": 1837,
    "start_time": "2022-03-29T12:46:03.898Z"
   },
   {
    "duration": 35172,
    "start_time": "2022-03-29T12:46:05.742Z"
   },
   {
    "duration": 7370,
    "start_time": "2022-03-29T12:46:40.916Z"
   },
   {
    "duration": 5,
    "start_time": "2022-03-29T12:46:48.289Z"
   },
   {
    "duration": 19,
    "start_time": "2022-03-29T12:46:48.296Z"
   },
   {
    "duration": 28,
    "start_time": "2022-03-29T12:46:48.317Z"
   },
   {
    "duration": 7,
    "start_time": "2022-03-29T12:46:48.347Z"
   },
   {
    "duration": 11,
    "start_time": "2022-03-29T12:46:48.356Z"
   },
   {
    "duration": 11,
    "start_time": "2022-03-29T12:46:48.442Z"
   },
   {
    "duration": 8,
    "start_time": "2022-03-29T12:46:48.544Z"
   },
   {
    "duration": 5,
    "start_time": "2022-03-29T12:46:48.555Z"
   },
   {
    "duration": 8,
    "start_time": "2022-03-29T12:46:48.563Z"
   },
   {
    "duration": 6,
    "start_time": "2022-03-29T12:46:48.573Z"
   },
   {
    "duration": 72,
    "start_time": "2022-03-29T12:46:48.581Z"
   },
   {
    "duration": 0,
    "start_time": "2022-03-29T12:46:48.656Z"
   },
   {
    "duration": 6,
    "start_time": "2022-03-29T12:48:30.512Z"
   },
   {
    "duration": 394,
    "start_time": "2022-03-29T12:48:30.521Z"
   },
   {
    "duration": 40,
    "start_time": "2022-03-29T12:48:30.917Z"
   },
   {
    "duration": 348,
    "start_time": "2022-03-29T12:48:30.961Z"
   },
   {
    "duration": 110,
    "start_time": "2022-03-29T12:48:31.311Z"
   },
   {
    "duration": 31,
    "start_time": "2022-03-29T12:48:31.424Z"
   },
   {
    "duration": 220,
    "start_time": "2022-03-29T12:48:31.458Z"
   },
   {
    "duration": 429,
    "start_time": "2022-03-29T12:48:31.680Z"
   },
   {
    "duration": 36,
    "start_time": "2022-03-29T12:48:32.113Z"
   },
   {
    "duration": 349,
    "start_time": "2022-03-29T12:48:32.151Z"
   },
   {
    "duration": 7,
    "start_time": "2022-03-29T12:48:32.502Z"
   },
   {
    "duration": 15,
    "start_time": "2022-03-29T12:48:32.511Z"
   },
   {
    "duration": 53,
    "start_time": "2022-03-29T12:48:32.528Z"
   },
   {
    "duration": 27,
    "start_time": "2022-03-29T12:48:32.583Z"
   },
   {
    "duration": 42,
    "start_time": "2022-03-29T12:48:32.612Z"
   },
   {
    "duration": 65,
    "start_time": "2022-03-29T12:48:32.657Z"
   },
   {
    "duration": 22,
    "start_time": "2022-03-29T12:48:32.725Z"
   },
   {
    "duration": 41,
    "start_time": "2022-03-29T12:48:32.750Z"
   },
   {
    "duration": 21,
    "start_time": "2022-03-29T12:48:32.794Z"
   },
   {
    "duration": 9,
    "start_time": "2022-03-29T12:48:32.817Z"
   },
   {
    "duration": 3004,
    "start_time": "2022-03-29T12:48:32.843Z"
   },
   {
    "duration": 2383,
    "start_time": "2022-03-29T12:48:35.849Z"
   },
   {
    "duration": 2600,
    "start_time": "2022-03-29T12:48:38.234Z"
   },
   {
    "duration": 639,
    "start_time": "2022-03-29T12:48:40.846Z"
   },
   {
    "duration": 7,
    "start_time": "2022-03-29T12:48:41.487Z"
   },
   {
    "duration": 634,
    "start_time": "2022-03-29T12:48:41.496Z"
   },
   {
    "duration": 11,
    "start_time": "2022-03-29T12:48:42.132Z"
   },
   {
    "duration": 28,
    "start_time": "2022-03-29T12:48:42.145Z"
   },
   {
    "duration": 18,
    "start_time": "2022-03-29T12:48:42.175Z"
   },
   {
    "duration": 16,
    "start_time": "2022-03-29T12:48:42.195Z"
   },
   {
    "duration": 20,
    "start_time": "2022-03-29T12:48:42.213Z"
   },
   {
    "duration": 899,
    "start_time": "2022-03-29T12:48:42.235Z"
   },
   {
    "duration": 11,
    "start_time": "2022-03-29T12:48:43.136Z"
   },
   {
    "duration": 33,
    "start_time": "2022-03-29T12:48:43.150Z"
   },
   {
    "duration": 11,
    "start_time": "2022-03-29T12:48:43.185Z"
   },
   {
    "duration": 32,
    "start_time": "2022-03-29T12:48:43.198Z"
   },
   {
    "duration": 14,
    "start_time": "2022-03-29T12:48:43.233Z"
   },
   {
    "duration": 22,
    "start_time": "2022-03-29T12:48:43.249Z"
   },
   {
    "duration": 22,
    "start_time": "2022-03-29T12:48:43.273Z"
   },
   {
    "duration": 19,
    "start_time": "2022-03-29T12:48:43.297Z"
   },
   {
    "duration": 18,
    "start_time": "2022-03-29T12:48:43.318Z"
   },
   {
    "duration": 1807,
    "start_time": "2022-03-29T12:48:43.338Z"
   },
   {
    "duration": 6218,
    "start_time": "2022-03-29T12:48:45.148Z"
   },
   {
    "duration": 1857,
    "start_time": "2022-03-29T12:48:51.369Z"
   },
   {
    "duration": 35764,
    "start_time": "2022-03-29T12:48:53.228Z"
   },
   {
    "duration": 7010,
    "start_time": "2022-03-29T12:49:28.994Z"
   },
   {
    "duration": 17,
    "start_time": "2022-03-29T12:49:36.006Z"
   },
   {
    "duration": 33,
    "start_time": "2022-03-29T12:49:36.025Z"
   },
   {
    "duration": 6,
    "start_time": "2022-03-29T12:49:36.061Z"
   },
   {
    "duration": 5,
    "start_time": "2022-03-29T12:49:36.069Z"
   },
   {
    "duration": 71,
    "start_time": "2022-03-29T12:49:36.076Z"
   },
   {
    "duration": 97,
    "start_time": "2022-03-29T12:49:36.150Z"
   },
   {
    "duration": 8,
    "start_time": "2022-03-29T12:49:36.249Z"
   },
   {
    "duration": 11,
    "start_time": "2022-03-29T12:49:36.259Z"
   },
   {
    "duration": 9,
    "start_time": "2022-03-29T12:49:36.272Z"
   },
   {
    "duration": 8,
    "start_time": "2022-03-29T12:49:36.283Z"
   },
   {
    "duration": 66,
    "start_time": "2022-03-29T12:49:36.293Z"
   },
   {
    "duration": 0,
    "start_time": "2022-03-29T12:49:36.361Z"
   },
   {
    "duration": 57,
    "start_time": "2022-03-29T16:41:17.195Z"
   },
   {
    "duration": 1778,
    "start_time": "2022-03-29T16:42:51.405Z"
   },
   {
    "duration": 293,
    "start_time": "2022-03-29T16:42:53.186Z"
   },
   {
    "duration": 23,
    "start_time": "2022-03-29T16:42:53.480Z"
   },
   {
    "duration": 230,
    "start_time": "2022-03-29T16:42:53.506Z"
   },
   {
    "duration": 96,
    "start_time": "2022-03-29T16:42:53.738Z"
   },
   {
    "duration": 15,
    "start_time": "2022-03-29T16:42:53.836Z"
   },
   {
    "duration": 133,
    "start_time": "2022-03-29T16:42:53.853Z"
   },
   {
    "duration": 375,
    "start_time": "2022-03-29T16:42:53.989Z"
   },
   {
    "duration": 34,
    "start_time": "2022-03-29T16:42:54.366Z"
   },
   {
    "duration": 235,
    "start_time": "2022-03-29T16:42:54.403Z"
   },
   {
    "duration": 5,
    "start_time": "2022-03-29T16:42:54.640Z"
   },
   {
    "duration": 6,
    "start_time": "2022-03-29T16:42:54.647Z"
   },
   {
    "duration": 12,
    "start_time": "2022-03-29T16:42:54.654Z"
   },
   {
    "duration": 8,
    "start_time": "2022-03-29T16:42:54.668Z"
   },
   {
    "duration": 6,
    "start_time": "2022-03-29T16:42:54.702Z"
   },
   {
    "duration": 62,
    "start_time": "2022-03-29T16:42:54.710Z"
   },
   {
    "duration": 39,
    "start_time": "2022-03-29T16:42:54.773Z"
   },
   {
    "duration": 25,
    "start_time": "2022-03-29T16:42:54.814Z"
   },
   {
    "duration": 23,
    "start_time": "2022-03-29T16:42:54.841Z"
   },
   {
    "duration": 5,
    "start_time": "2022-03-29T16:42:54.866Z"
   },
   {
    "duration": 2273,
    "start_time": "2022-03-29T16:42:54.873Z"
   },
   {
    "duration": 1975,
    "start_time": "2022-03-29T16:42:57.148Z"
   },
   {
    "duration": 1869,
    "start_time": "2022-03-29T16:42:59.125Z"
   },
   {
    "duration": 532,
    "start_time": "2022-03-29T16:43:01.004Z"
   },
   {
    "duration": 5,
    "start_time": "2022-03-29T16:43:01.538Z"
   },
   {
    "duration": 558,
    "start_time": "2022-03-29T16:43:01.545Z"
   },
   {
    "duration": 5,
    "start_time": "2022-03-29T16:43:02.105Z"
   },
   {
    "duration": 11,
    "start_time": "2022-03-29T16:43:02.114Z"
   },
   {
    "duration": 11,
    "start_time": "2022-03-29T16:43:02.127Z"
   },
   {
    "duration": 8,
    "start_time": "2022-03-29T16:43:02.140Z"
   },
   {
    "duration": 6,
    "start_time": "2022-03-29T16:43:02.150Z"
   },
   {
    "duration": 518,
    "start_time": "2022-03-29T16:43:02.158Z"
   },
   {
    "duration": 5,
    "start_time": "2022-03-29T16:43:02.678Z"
   },
   {
    "duration": 22,
    "start_time": "2022-03-29T16:43:02.685Z"
   },
   {
    "duration": 16,
    "start_time": "2022-03-29T16:43:02.709Z"
   },
   {
    "duration": 28,
    "start_time": "2022-03-29T16:43:02.728Z"
   },
   {
    "duration": 8,
    "start_time": "2022-03-29T16:43:02.758Z"
   },
   {
    "duration": 7,
    "start_time": "2022-03-29T16:43:02.768Z"
   },
   {
    "duration": 15,
    "start_time": "2022-03-29T16:43:02.776Z"
   },
   {
    "duration": 21,
    "start_time": "2022-03-29T16:43:02.794Z"
   },
   {
    "duration": 8,
    "start_time": "2022-03-29T16:43:02.817Z"
   },
   {
    "duration": 9,
    "start_time": "2022-03-29T16:43:02.827Z"
   },
   {
    "duration": 1472,
    "start_time": "2022-03-29T16:43:02.838Z"
   },
   {
    "duration": 5423,
    "start_time": "2022-03-29T16:43:04.403Z"
   },
   {
    "duration": 1557,
    "start_time": "2022-03-29T16:43:09.829Z"
   },
   {
    "duration": 30309,
    "start_time": "2022-03-29T16:43:11.388Z"
   },
   {
    "duration": 6180,
    "start_time": "2022-03-29T16:43:41.702Z"
   },
   {
    "duration": 26,
    "start_time": "2022-03-29T16:43:47.884Z"
   },
   {
    "duration": 15,
    "start_time": "2022-03-29T16:43:47.911Z"
   },
   {
    "duration": 6,
    "start_time": "2022-03-29T16:43:47.928Z"
   },
   {
    "duration": 7,
    "start_time": "2022-03-29T16:43:47.935Z"
   },
   {
    "duration": 66,
    "start_time": "2022-03-29T16:43:47.943Z"
   },
   {
    "duration": 91,
    "start_time": "2022-03-29T16:43:48.012Z"
   },
   {
    "duration": 6,
    "start_time": "2022-03-29T16:43:48.105Z"
   },
   {
    "duration": 11,
    "start_time": "2022-03-29T16:43:48.113Z"
   },
   {
    "duration": 12,
    "start_time": "2022-03-29T16:43:48.127Z"
   },
   {
    "duration": 6,
    "start_time": "2022-03-29T16:43:48.140Z"
   },
   {
    "duration": 119,
    "start_time": "2022-03-29T16:43:48.148Z"
   },
   {
    "duration": 0,
    "start_time": "2022-03-29T16:43:48.269Z"
   },
   {
    "duration": 569,
    "start_time": "2022-03-29T16:45:45.633Z"
   },
   {
    "duration": 17,
    "start_time": "2022-03-29T16:54:51.614Z"
   },
   {
    "duration": 11,
    "start_time": "2022-03-29T16:55:24.805Z"
   },
   {
    "duration": 11,
    "start_time": "2022-03-29T16:55:46.534Z"
   },
   {
    "duration": 480,
    "start_time": "2022-03-29T16:55:48.466Z"
   },
   {
    "duration": 608,
    "start_time": "2022-03-29T16:57:56.081Z"
   },
   {
    "duration": 742,
    "start_time": "2022-03-29T16:58:16.465Z"
   },
   {
    "duration": 6,
    "start_time": "2022-03-29T17:00:31.358Z"
   },
   {
    "duration": 8,
    "start_time": "2022-03-29T17:01:08.885Z"
   },
   {
    "duration": 1265,
    "start_time": "2022-03-29T17:01:51.830Z"
   },
   {
    "duration": 5,
    "start_time": "2022-03-29T17:02:10.134Z"
   },
   {
    "duration": 322,
    "start_time": "2022-03-29T17:02:10.142Z"
   },
   {
    "duration": 35,
    "start_time": "2022-03-29T17:02:10.467Z"
   },
   {
    "duration": 240,
    "start_time": "2022-03-29T17:02:10.504Z"
   },
   {
    "duration": 90,
    "start_time": "2022-03-29T17:02:10.746Z"
   },
   {
    "duration": 19,
    "start_time": "2022-03-29T17:02:10.838Z"
   },
   {
    "duration": 264,
    "start_time": "2022-03-29T17:02:10.859Z"
   },
   {
    "duration": 365,
    "start_time": "2022-03-29T17:02:11.125Z"
   },
   {
    "duration": 32,
    "start_time": "2022-03-29T17:02:11.492Z"
   },
   {
    "duration": 325,
    "start_time": "2022-03-29T17:02:11.526Z"
   },
   {
    "duration": 6,
    "start_time": "2022-03-29T17:02:11.852Z"
   },
   {
    "duration": 7,
    "start_time": "2022-03-29T17:02:11.859Z"
   },
   {
    "duration": 17,
    "start_time": "2022-03-29T17:02:11.869Z"
   },
   {
    "duration": 21,
    "start_time": "2022-03-29T17:02:11.890Z"
   },
   {
    "duration": 6,
    "start_time": "2022-03-29T17:02:11.914Z"
   },
   {
    "duration": 34,
    "start_time": "2022-03-29T17:02:11.922Z"
   },
   {
    "duration": 50,
    "start_time": "2022-03-29T17:02:11.959Z"
   },
   {
    "duration": 36,
    "start_time": "2022-03-29T17:02:12.011Z"
   },
   {
    "duration": 19,
    "start_time": "2022-03-29T17:02:12.048Z"
   },
   {
    "duration": 33,
    "start_time": "2022-03-29T17:02:12.069Z"
   },
   {
    "duration": 2129,
    "start_time": "2022-03-29T17:02:12.106Z"
   },
   {
    "duration": 2195,
    "start_time": "2022-03-29T17:02:14.237Z"
   },
   {
    "duration": 1860,
    "start_time": "2022-03-29T17:02:16.434Z"
   },
   {
    "duration": 562,
    "start_time": "2022-03-29T17:02:18.296Z"
   },
   {
    "duration": 6,
    "start_time": "2022-03-29T17:02:18.859Z"
   },
   {
    "duration": 418,
    "start_time": "2022-03-29T17:02:18.867Z"
   },
   {
    "duration": 5,
    "start_time": "2022-03-29T17:02:19.287Z"
   },
   {
    "duration": 7,
    "start_time": "2022-03-29T17:02:19.302Z"
   },
   {
    "duration": 7,
    "start_time": "2022-03-29T17:02:19.311Z"
   },
   {
    "duration": 15,
    "start_time": "2022-03-29T17:02:19.320Z"
   },
   {
    "duration": 19,
    "start_time": "2022-03-29T17:02:19.337Z"
   },
   {
    "duration": 7,
    "start_time": "2022-03-29T17:02:19.358Z"
   },
   {
    "duration": 591,
    "start_time": "2022-03-29T17:02:19.367Z"
   },
   {
    "duration": 6,
    "start_time": "2022-03-29T17:02:19.959Z"
   },
   {
    "duration": 9,
    "start_time": "2022-03-29T17:02:19.967Z"
   },
   {
    "duration": 24,
    "start_time": "2022-03-29T17:02:19.978Z"
   },
   {
    "duration": 19,
    "start_time": "2022-03-29T17:02:20.004Z"
   },
   {
    "duration": 10,
    "start_time": "2022-03-29T17:02:20.025Z"
   },
   {
    "duration": 5,
    "start_time": "2022-03-29T17:02:20.037Z"
   },
   {
    "duration": 26,
    "start_time": "2022-03-29T17:02:20.044Z"
   },
   {
    "duration": 21,
    "start_time": "2022-03-29T17:02:20.077Z"
   },
   {
    "duration": 13,
    "start_time": "2022-03-29T17:02:20.101Z"
   },
   {
    "duration": 10,
    "start_time": "2022-03-29T17:02:20.117Z"
   },
   {
    "duration": 2273,
    "start_time": "2022-03-29T17:02:20.129Z"
   },
   {
    "duration": 5323,
    "start_time": "2022-03-29T17:02:22.404Z"
   },
   {
    "duration": 1558,
    "start_time": "2022-03-29T17:02:27.729Z"
   },
   {
    "duration": 31753,
    "start_time": "2022-03-29T17:02:29.290Z"
   },
   {
    "duration": 6108,
    "start_time": "2022-03-29T17:03:01.045Z"
   },
   {
    "duration": 6,
    "start_time": "2022-03-29T17:03:07.155Z"
   },
   {
    "duration": 23,
    "start_time": "2022-03-29T17:03:07.162Z"
   },
   {
    "duration": 5,
    "start_time": "2022-03-29T17:03:07.202Z"
   },
   {
    "duration": 14,
    "start_time": "2022-03-29T17:03:07.209Z"
   },
   {
    "duration": 14,
    "start_time": "2022-03-29T17:03:07.225Z"
   },
   {
    "duration": 63,
    "start_time": "2022-03-29T17:03:07.242Z"
   },
   {
    "duration": 93,
    "start_time": "2022-03-29T17:03:07.308Z"
   },
   {
    "duration": 14,
    "start_time": "2022-03-29T17:03:07.403Z"
   },
   {
    "duration": 13,
    "start_time": "2022-03-29T17:03:07.419Z"
   },
   {
    "duration": 8,
    "start_time": "2022-03-29T17:03:07.434Z"
   },
   {
    "duration": 13,
    "start_time": "2022-03-29T17:03:07.444Z"
   },
   {
    "duration": 14,
    "start_time": "2022-03-29T17:03:07.460Z"
   },
   {
    "duration": 8,
    "start_time": "2022-03-29T17:05:18.491Z"
   },
   {
    "duration": 12,
    "start_time": "2022-03-29T17:05:29.943Z"
   },
   {
    "duration": 5,
    "start_time": "2022-03-29T17:07:33.595Z"
   },
   {
    "duration": 299,
    "start_time": "2022-03-29T17:07:33.603Z"
   },
   {
    "duration": 18,
    "start_time": "2022-03-29T17:07:33.904Z"
   },
   {
    "duration": 308,
    "start_time": "2022-03-29T17:07:33.925Z"
   },
   {
    "duration": 124,
    "start_time": "2022-03-29T17:07:34.236Z"
   },
   {
    "duration": 19,
    "start_time": "2022-03-29T17:07:34.362Z"
   },
   {
    "duration": 192,
    "start_time": "2022-03-29T17:07:34.383Z"
   },
   {
    "duration": 500,
    "start_time": "2022-03-29T17:07:34.578Z"
   },
   {
    "duration": 34,
    "start_time": "2022-03-29T17:07:35.081Z"
   },
   {
    "duration": 260,
    "start_time": "2022-03-29T17:07:35.118Z"
   },
   {
    "duration": 5,
    "start_time": "2022-03-29T17:07:35.379Z"
   },
   {
    "duration": 15,
    "start_time": "2022-03-29T17:07:35.386Z"
   },
   {
    "duration": 9,
    "start_time": "2022-03-29T17:07:35.403Z"
   },
   {
    "duration": 10,
    "start_time": "2022-03-29T17:07:35.415Z"
   },
   {
    "duration": 5,
    "start_time": "2022-03-29T17:07:35.427Z"
   },
   {
    "duration": 163,
    "start_time": "2022-03-29T17:07:35.434Z"
   },
   {
    "duration": 17,
    "start_time": "2022-03-29T17:07:35.600Z"
   },
   {
    "duration": 24,
    "start_time": "2022-03-29T17:07:35.619Z"
   },
   {
    "duration": 55,
    "start_time": "2022-03-29T17:07:35.646Z"
   },
   {
    "duration": 7,
    "start_time": "2022-03-29T17:07:35.704Z"
   },
   {
    "duration": 2279,
    "start_time": "2022-03-29T17:07:35.713Z"
   },
   {
    "duration": 1963,
    "start_time": "2022-03-29T17:07:37.995Z"
   },
   {
    "duration": 1860,
    "start_time": "2022-03-29T17:07:39.960Z"
   },
   {
    "duration": 549,
    "start_time": "2022-03-29T17:07:41.822Z"
   },
   {
    "duration": 6,
    "start_time": "2022-03-29T17:07:42.372Z"
   },
   {
    "duration": 408,
    "start_time": "2022-03-29T17:07:42.380Z"
   },
   {
    "duration": 14,
    "start_time": "2022-03-29T17:07:42.790Z"
   },
   {
    "duration": 5,
    "start_time": "2022-03-29T17:07:42.810Z"
   },
   {
    "duration": 7,
    "start_time": "2022-03-29T17:07:42.817Z"
   },
   {
    "duration": 6,
    "start_time": "2022-03-29T17:07:42.826Z"
   },
   {
    "duration": 4,
    "start_time": "2022-03-29T17:07:42.834Z"
   },
   {
    "duration": 9,
    "start_time": "2022-03-29T17:07:42.840Z"
   },
   {
    "duration": 533,
    "start_time": "2022-03-29T17:07:42.851Z"
   },
   {
    "duration": 15,
    "start_time": "2022-03-29T17:07:43.387Z"
   },
   {
    "duration": 6,
    "start_time": "2022-03-29T17:07:43.404Z"
   },
   {
    "duration": 6,
    "start_time": "2022-03-29T17:07:43.412Z"
   },
   {
    "duration": 14,
    "start_time": "2022-03-29T17:07:43.420Z"
   },
   {
    "duration": 5,
    "start_time": "2022-03-29T17:07:43.436Z"
   },
   {
    "duration": 6,
    "start_time": "2022-03-29T17:07:43.443Z"
   },
   {
    "duration": 8,
    "start_time": "2022-03-29T17:07:43.451Z"
   },
   {
    "duration": 46,
    "start_time": "2022-03-29T17:07:43.461Z"
   },
   {
    "duration": 7,
    "start_time": "2022-03-29T17:07:43.509Z"
   },
   {
    "duration": 6,
    "start_time": "2022-03-29T17:07:43.518Z"
   },
   {
    "duration": 1875,
    "start_time": "2022-03-29T17:07:43.526Z"
   },
   {
    "duration": 5243,
    "start_time": "2022-03-29T17:07:45.403Z"
   },
   {
    "duration": 1691,
    "start_time": "2022-03-29T17:07:50.648Z"
   },
   {
    "duration": 30392,
    "start_time": "2022-03-29T17:07:52.341Z"
   },
   {
    "duration": 5805,
    "start_time": "2022-03-29T17:08:22.736Z"
   },
   {
    "duration": 15,
    "start_time": "2022-03-29T17:08:28.543Z"
   },
   {
    "duration": 16,
    "start_time": "2022-03-29T17:08:28.559Z"
   },
   {
    "duration": 25,
    "start_time": "2022-03-29T17:08:28.577Z"
   },
   {
    "duration": 6,
    "start_time": "2022-03-29T17:08:28.604Z"
   },
   {
    "duration": 89,
    "start_time": "2022-03-29T17:08:28.612Z"
   },
   {
    "duration": 102,
    "start_time": "2022-03-29T17:08:28.703Z"
   },
   {
    "duration": 9,
    "start_time": "2022-03-29T17:08:28.806Z"
   },
   {
    "duration": 7,
    "start_time": "2022-03-29T17:08:28.817Z"
   },
   {
    "duration": 10,
    "start_time": "2022-03-29T17:08:28.826Z"
   },
   {
    "duration": 5,
    "start_time": "2022-03-29T17:08:28.838Z"
   },
   {
    "duration": 10,
    "start_time": "2022-03-29T17:08:28.845Z"
   },
   {
    "duration": 9,
    "start_time": "2022-03-29T17:08:28.857Z"
   },
   {
    "duration": 5,
    "start_time": "2022-03-29T17:13:57.529Z"
   },
   {
    "duration": 37,
    "start_time": "2022-03-29T17:15:32.927Z"
   },
   {
    "duration": 9,
    "start_time": "2022-03-29T17:16:33.698Z"
   },
   {
    "duration": 5,
    "start_time": "2022-03-29T17:17:13.007Z"
   },
   {
    "duration": 309,
    "start_time": "2022-03-29T17:17:13.014Z"
   },
   {
    "duration": 19,
    "start_time": "2022-03-29T17:17:13.325Z"
   },
   {
    "duration": 239,
    "start_time": "2022-03-29T17:17:13.346Z"
   },
   {
    "duration": 88,
    "start_time": "2022-03-29T17:17:13.587Z"
   },
   {
    "duration": 24,
    "start_time": "2022-03-29T17:17:13.677Z"
   },
   {
    "duration": 134,
    "start_time": "2022-03-29T17:17:13.704Z"
   },
   {
    "duration": 353,
    "start_time": "2022-03-29T17:17:13.840Z"
   },
   {
    "duration": 26,
    "start_time": "2022-03-29T17:17:14.195Z"
   },
   {
    "duration": 249,
    "start_time": "2022-03-29T17:17:14.223Z"
   },
   {
    "duration": 5,
    "start_time": "2022-03-29T17:17:14.474Z"
   },
   {
    "duration": 4,
    "start_time": "2022-03-29T17:17:14.481Z"
   },
   {
    "duration": 7,
    "start_time": "2022-03-29T17:17:14.502Z"
   },
   {
    "duration": 9,
    "start_time": "2022-03-29T17:17:14.512Z"
   },
   {
    "duration": 6,
    "start_time": "2022-03-29T17:17:14.523Z"
   },
   {
    "duration": 27,
    "start_time": "2022-03-29T17:17:14.531Z"
   },
   {
    "duration": 45,
    "start_time": "2022-03-29T17:17:14.560Z"
   },
   {
    "duration": 22,
    "start_time": "2022-03-29T17:17:14.607Z"
   },
   {
    "duration": 19,
    "start_time": "2022-03-29T17:17:14.631Z"
   },
   {
    "duration": 5,
    "start_time": "2022-03-29T17:17:14.652Z"
   },
   {
    "duration": 2338,
    "start_time": "2022-03-29T17:17:14.659Z"
   },
   {
    "duration": 1943,
    "start_time": "2022-03-29T17:17:17.001Z"
   },
   {
    "duration": 1855,
    "start_time": "2022-03-29T17:17:18.946Z"
   },
   {
    "duration": 406,
    "start_time": "2022-03-29T17:17:20.803Z"
   },
   {
    "duration": 6,
    "start_time": "2022-03-29T17:17:21.211Z"
   },
   {
    "duration": 539,
    "start_time": "2022-03-29T17:17:21.218Z"
   },
   {
    "duration": 5,
    "start_time": "2022-03-29T17:17:21.759Z"
   },
   {
    "duration": 15,
    "start_time": "2022-03-29T17:17:21.765Z"
   },
   {
    "duration": 18,
    "start_time": "2022-03-29T17:17:21.783Z"
   },
   {
    "duration": 6,
    "start_time": "2022-03-29T17:17:21.803Z"
   },
   {
    "duration": 7,
    "start_time": "2022-03-29T17:17:21.810Z"
   },
   {
    "duration": 25,
    "start_time": "2022-03-29T17:17:21.819Z"
   },
   {
    "duration": 2,
    "start_time": "2022-03-29T17:17:21.847Z"
   },
   {
    "duration": 564,
    "start_time": "2022-03-29T17:17:21.851Z"
   },
   {
    "duration": 6,
    "start_time": "2022-03-29T17:17:22.418Z"
   },
   {
    "duration": 10,
    "start_time": "2022-03-29T17:17:22.425Z"
   },
   {
    "duration": 7,
    "start_time": "2022-03-29T17:17:22.437Z"
   },
   {
    "duration": 17,
    "start_time": "2022-03-29T17:17:22.446Z"
   },
   {
    "duration": 10,
    "start_time": "2022-03-29T17:17:22.465Z"
   },
   {
    "duration": 5,
    "start_time": "2022-03-29T17:17:22.501Z"
   },
   {
    "duration": 2,
    "start_time": "2022-03-29T17:17:22.512Z"
   },
   {
    "duration": 23,
    "start_time": "2022-03-29T17:17:22.516Z"
   },
   {
    "duration": 8,
    "start_time": "2022-03-29T17:17:22.541Z"
   },
   {
    "duration": 9,
    "start_time": "2022-03-29T17:17:22.551Z"
   },
   {
    "duration": 1345,
    "start_time": "2022-03-29T17:17:22.562Z"
   },
   {
    "duration": 5005,
    "start_time": "2022-03-29T17:17:23.913Z"
   },
   {
    "duration": 1465,
    "start_time": "2022-03-29T17:17:28.920Z"
   },
   {
    "duration": 28928,
    "start_time": "2022-03-29T17:17:30.387Z"
   },
   {
    "duration": 5713,
    "start_time": "2022-03-29T17:17:59.317Z"
   },
   {
    "duration": 5,
    "start_time": "2022-03-29T17:18:05.033Z"
   },
   {
    "duration": 17,
    "start_time": "2022-03-29T17:18:05.040Z"
   },
   {
    "duration": 6,
    "start_time": "2022-03-29T17:18:05.059Z"
   },
   {
    "duration": 34,
    "start_time": "2022-03-29T17:18:05.067Z"
   },
   {
    "duration": 8,
    "start_time": "2022-03-29T17:18:05.103Z"
   },
   {
    "duration": 97,
    "start_time": "2022-03-29T17:18:05.114Z"
   },
   {
    "duration": 93,
    "start_time": "2022-03-29T17:18:05.213Z"
   },
   {
    "duration": 10,
    "start_time": "2022-03-29T17:18:05.308Z"
   },
   {
    "duration": 9,
    "start_time": "2022-03-29T17:18:05.320Z"
   },
   {
    "duration": 11,
    "start_time": "2022-03-29T17:18:05.331Z"
   },
   {
    "duration": 13,
    "start_time": "2022-03-29T17:18:05.344Z"
   },
   {
    "duration": 19,
    "start_time": "2022-03-29T17:18:05.359Z"
   },
   {
    "duration": 5,
    "start_time": "2022-03-29T17:20:26.266Z"
   },
   {
    "duration": 279,
    "start_time": "2022-03-29T17:20:26.273Z"
   },
   {
    "duration": 18,
    "start_time": "2022-03-29T17:20:26.554Z"
   },
   {
    "duration": 233,
    "start_time": "2022-03-29T17:20:26.575Z"
   },
   {
    "duration": 81,
    "start_time": "2022-03-29T17:20:26.809Z"
   },
   {
    "duration": 20,
    "start_time": "2022-03-29T17:20:26.892Z"
   },
   {
    "duration": 131,
    "start_time": "2022-03-29T17:20:26.914Z"
   },
   {
    "duration": 343,
    "start_time": "2022-03-29T17:20:27.048Z"
   },
   {
    "duration": 24,
    "start_time": "2022-03-29T17:20:27.393Z"
   },
   {
    "duration": 245,
    "start_time": "2022-03-29T17:20:27.421Z"
   },
   {
    "duration": 5,
    "start_time": "2022-03-29T17:20:27.668Z"
   },
   {
    "duration": 8,
    "start_time": "2022-03-29T17:20:27.674Z"
   },
   {
    "duration": 19,
    "start_time": "2022-03-29T17:20:27.684Z"
   },
   {
    "duration": 9,
    "start_time": "2022-03-29T17:20:27.705Z"
   },
   {
    "duration": 6,
    "start_time": "2022-03-29T17:20:27.716Z"
   },
   {
    "duration": 26,
    "start_time": "2022-03-29T17:20:27.724Z"
   },
   {
    "duration": 55,
    "start_time": "2022-03-29T17:20:27.751Z"
   },
   {
    "duration": 24,
    "start_time": "2022-03-29T17:20:27.808Z"
   },
   {
    "duration": 20,
    "start_time": "2022-03-29T17:20:27.834Z"
   },
   {
    "duration": 6,
    "start_time": "2022-03-29T17:20:27.856Z"
   },
   {
    "duration": 2294,
    "start_time": "2022-03-29T17:20:27.864Z"
   },
   {
    "duration": 1974,
    "start_time": "2022-03-29T17:20:30.160Z"
   },
   {
    "duration": 1900,
    "start_time": "2022-03-29T17:20:32.137Z"
   },
   {
    "duration": 416,
    "start_time": "2022-03-29T17:20:34.039Z"
   },
   {
    "duration": 6,
    "start_time": "2022-03-29T17:20:34.456Z"
   },
   {
    "duration": 558,
    "start_time": "2022-03-29T17:20:34.464Z"
   },
   {
    "duration": 5,
    "start_time": "2022-03-29T17:20:35.024Z"
   },
   {
    "duration": 5,
    "start_time": "2022-03-29T17:20:35.034Z"
   },
   {
    "duration": 7,
    "start_time": "2022-03-29T17:20:35.041Z"
   },
   {
    "duration": 6,
    "start_time": "2022-03-29T17:20:35.050Z"
   },
   {
    "duration": 6,
    "start_time": "2022-03-29T17:20:35.058Z"
   },
   {
    "duration": 50,
    "start_time": "2022-03-29T17:20:35.065Z"
   },
   {
    "duration": 6,
    "start_time": "2022-03-29T17:20:35.117Z"
   },
   {
    "duration": 519,
    "start_time": "2022-03-29T17:20:35.125Z"
   },
   {
    "duration": 6,
    "start_time": "2022-03-29T17:20:35.646Z"
   },
   {
    "duration": 11,
    "start_time": "2022-03-29T17:20:35.653Z"
   },
   {
    "duration": 9,
    "start_time": "2022-03-29T17:20:35.667Z"
   },
   {
    "duration": 31,
    "start_time": "2022-03-29T17:20:35.678Z"
   },
   {
    "duration": 6,
    "start_time": "2022-03-29T17:20:35.712Z"
   },
   {
    "duration": 7,
    "start_time": "2022-03-29T17:20:35.719Z"
   },
   {
    "duration": 11,
    "start_time": "2022-03-29T17:20:35.727Z"
   },
   {
    "duration": 21,
    "start_time": "2022-03-29T17:20:35.740Z"
   },
   {
    "duration": 12,
    "start_time": "2022-03-29T17:20:35.763Z"
   },
   {
    "duration": 9,
    "start_time": "2022-03-29T17:20:35.777Z"
   },
   {
    "duration": 1616,
    "start_time": "2022-03-29T17:20:35.788Z"
   },
   {
    "duration": 5047,
    "start_time": "2022-03-29T17:20:37.406Z"
   },
   {
    "duration": 1685,
    "start_time": "2022-03-29T17:20:42.455Z"
   },
   {
    "duration": 29719,
    "start_time": "2022-03-29T17:20:44.142Z"
   },
   {
    "duration": 6106,
    "start_time": "2022-03-29T17:21:13.862Z"
   },
   {
    "duration": 5,
    "start_time": "2022-03-29T17:21:19.971Z"
   },
   {
    "duration": 32,
    "start_time": "2022-03-29T17:21:19.978Z"
   },
   {
    "duration": 8,
    "start_time": "2022-03-29T17:21:20.012Z"
   },
   {
    "duration": 6,
    "start_time": "2022-03-29T17:21:20.021Z"
   },
   {
    "duration": 17,
    "start_time": "2022-03-29T17:21:20.028Z"
   },
   {
    "duration": 156,
    "start_time": "2022-03-29T17:21:20.049Z"
   },
   {
    "duration": 7,
    "start_time": "2022-03-29T17:21:20.207Z"
   },
   {
    "duration": 7,
    "start_time": "2022-03-29T17:21:20.216Z"
   },
   {
    "duration": 9,
    "start_time": "2022-03-29T17:21:20.225Z"
   },
   {
    "duration": 8,
    "start_time": "2022-03-29T17:21:20.236Z"
   },
   {
    "duration": 10,
    "start_time": "2022-03-29T17:21:20.246Z"
   },
   {
    "duration": 43,
    "start_time": "2022-03-29T17:21:20.258Z"
   },
   {
    "duration": 6,
    "start_time": "2022-03-29T17:22:53.501Z"
   },
   {
    "duration": 322,
    "start_time": "2022-03-29T17:22:53.510Z"
   },
   {
    "duration": 19,
    "start_time": "2022-03-29T17:22:53.834Z"
   },
   {
    "duration": 237,
    "start_time": "2022-03-29T17:22:53.856Z"
   },
   {
    "duration": 131,
    "start_time": "2022-03-29T17:22:54.100Z"
   },
   {
    "duration": 22,
    "start_time": "2022-03-29T17:22:54.233Z"
   },
   {
    "duration": 216,
    "start_time": "2022-03-29T17:22:54.258Z"
   },
   {
    "duration": 548,
    "start_time": "2022-03-29T17:22:54.476Z"
   },
   {
    "duration": 29,
    "start_time": "2022-03-29T17:22:55.026Z"
   },
   {
    "duration": 349,
    "start_time": "2022-03-29T17:22:55.059Z"
   },
   {
    "duration": 4,
    "start_time": "2022-03-29T17:22:55.410Z"
   },
   {
    "duration": 7,
    "start_time": "2022-03-29T17:22:55.416Z"
   },
   {
    "duration": 10,
    "start_time": "2022-03-29T17:22:55.424Z"
   },
   {
    "duration": 9,
    "start_time": "2022-03-29T17:22:55.436Z"
   },
   {
    "duration": 7,
    "start_time": "2022-03-29T17:22:55.446Z"
   },
   {
    "duration": 54,
    "start_time": "2022-03-29T17:22:55.455Z"
   },
   {
    "duration": 17,
    "start_time": "2022-03-29T17:22:55.510Z"
   },
   {
    "duration": 24,
    "start_time": "2022-03-29T17:22:55.528Z"
   },
   {
    "duration": 49,
    "start_time": "2022-03-29T17:22:55.554Z"
   },
   {
    "duration": 5,
    "start_time": "2022-03-29T17:22:55.605Z"
   },
   {
    "duration": 2475,
    "start_time": "2022-03-29T17:22:55.612Z"
   },
   {
    "duration": 1979,
    "start_time": "2022-03-29T17:22:58.089Z"
   },
   {
    "duration": 2027,
    "start_time": "2022-03-29T17:23:00.070Z"
   },
   {
    "duration": 402,
    "start_time": "2022-03-29T17:23:02.102Z"
   },
   {
    "duration": 6,
    "start_time": "2022-03-29T17:23:02.506Z"
   },
   {
    "duration": 417,
    "start_time": "2022-03-29T17:23:02.513Z"
   },
   {
    "duration": 5,
    "start_time": "2022-03-29T17:23:02.932Z"
   },
   {
    "duration": 9,
    "start_time": "2022-03-29T17:23:02.942Z"
   },
   {
    "duration": 10,
    "start_time": "2022-03-29T17:23:02.954Z"
   },
   {
    "duration": 15,
    "start_time": "2022-03-29T17:23:02.966Z"
   },
   {
    "duration": 17,
    "start_time": "2022-03-29T17:23:02.984Z"
   },
   {
    "duration": 30,
    "start_time": "2022-03-29T17:23:03.003Z"
   },
   {
    "duration": 7,
    "start_time": "2022-03-29T17:23:03.035Z"
   },
   {
    "duration": 698,
    "start_time": "2022-03-29T17:23:03.044Z"
   },
   {
    "duration": 7,
    "start_time": "2022-03-29T17:23:03.744Z"
   },
   {
    "duration": 11,
    "start_time": "2022-03-29T17:23:03.753Z"
   },
   {
    "duration": 9,
    "start_time": "2022-03-29T17:23:03.767Z"
   },
   {
    "duration": 38,
    "start_time": "2022-03-29T17:23:03.779Z"
   },
   {
    "duration": 6,
    "start_time": "2022-03-29T17:23:03.820Z"
   },
   {
    "duration": 17,
    "start_time": "2022-03-29T17:23:03.829Z"
   },
   {
    "duration": 13,
    "start_time": "2022-03-29T17:23:03.848Z"
   },
   {
    "duration": 13,
    "start_time": "2022-03-29T17:23:03.863Z"
   },
   {
    "duration": 26,
    "start_time": "2022-03-29T17:23:03.878Z"
   },
   {
    "duration": 16,
    "start_time": "2022-03-29T17:23:03.907Z"
   },
   {
    "duration": 1584,
    "start_time": "2022-03-29T17:23:03.926Z"
   },
   {
    "duration": 5179,
    "start_time": "2022-03-29T17:23:05.602Z"
   },
   {
    "duration": 1518,
    "start_time": "2022-03-29T17:23:10.784Z"
   },
   {
    "duration": 29157,
    "start_time": "2022-03-29T17:23:12.304Z"
   },
   {
    "duration": 5768,
    "start_time": "2022-03-29T17:23:41.464Z"
   },
   {
    "duration": 4,
    "start_time": "2022-03-29T17:23:47.234Z"
   },
   {
    "duration": 18,
    "start_time": "2022-03-29T17:23:47.240Z"
   },
   {
    "duration": 5,
    "start_time": "2022-03-29T17:23:47.260Z"
   },
   {
    "duration": 6,
    "start_time": "2022-03-29T17:23:47.267Z"
   },
   {
    "duration": 28,
    "start_time": "2022-03-29T17:23:47.275Z"
   },
   {
    "duration": 9,
    "start_time": "2022-03-29T17:23:47.305Z"
   },
   {
    "duration": 98,
    "start_time": "2022-03-29T17:23:47.316Z"
   },
   {
    "duration": 90,
    "start_time": "2022-03-29T17:23:47.416Z"
   },
   {
    "duration": 9,
    "start_time": "2022-03-29T17:23:47.507Z"
   },
   {
    "duration": 8,
    "start_time": "2022-03-29T17:23:47.518Z"
   },
   {
    "duration": 9,
    "start_time": "2022-03-29T17:23:47.527Z"
   },
   {
    "duration": 9,
    "start_time": "2022-03-29T17:23:47.537Z"
   },
   {
    "duration": 16,
    "start_time": "2022-03-29T17:27:05.027Z"
   },
   {
    "duration": 8,
    "start_time": "2022-03-29T17:27:14.578Z"
   },
   {
    "duration": 4,
    "start_time": "2022-03-29T17:27:15.428Z"
   },
   {
    "duration": 6,
    "start_time": "2022-03-29T17:27:43.256Z"
   },
   {
    "duration": 310,
    "start_time": "2022-03-29T17:27:43.266Z"
   },
   {
    "duration": 27,
    "start_time": "2022-03-29T17:27:43.579Z"
   },
   {
    "duration": 238,
    "start_time": "2022-03-29T17:27:43.608Z"
   },
   {
    "duration": 94,
    "start_time": "2022-03-29T17:27:43.848Z"
   },
   {
    "duration": 15,
    "start_time": "2022-03-29T17:27:43.944Z"
   },
   {
    "duration": 141,
    "start_time": "2022-03-29T17:27:43.961Z"
   },
   {
    "duration": 359,
    "start_time": "2022-03-29T17:27:44.104Z"
   },
   {
    "duration": 20,
    "start_time": "2022-03-29T17:27:44.465Z"
   },
   {
    "duration": 260,
    "start_time": "2022-03-29T17:27:44.504Z"
   },
   {
    "duration": 4,
    "start_time": "2022-03-29T17:27:44.766Z"
   },
   {
    "duration": 6,
    "start_time": "2022-03-29T17:27:44.772Z"
   },
   {
    "duration": 24,
    "start_time": "2022-03-29T17:27:44.780Z"
   },
   {
    "duration": 9,
    "start_time": "2022-03-29T17:27:44.806Z"
   },
   {
    "duration": 8,
    "start_time": "2022-03-29T17:27:44.816Z"
   },
   {
    "duration": 28,
    "start_time": "2022-03-29T17:27:44.826Z"
   },
   {
    "duration": 50,
    "start_time": "2022-03-29T17:27:44.856Z"
   },
   {
    "duration": 23,
    "start_time": "2022-03-29T17:27:44.908Z"
   },
   {
    "duration": 21,
    "start_time": "2022-03-29T17:27:44.933Z"
   },
   {
    "duration": 5,
    "start_time": "2022-03-29T17:27:44.956Z"
   },
   {
    "duration": 2333,
    "start_time": "2022-03-29T17:27:44.963Z"
   },
   {
    "duration": 1812,
    "start_time": "2022-03-29T17:27:47.301Z"
   },
   {
    "duration": 2110,
    "start_time": "2022-03-29T17:27:49.115Z"
   },
   {
    "duration": 427,
    "start_time": "2022-03-29T17:27:51.227Z"
   },
   {
    "duration": 5,
    "start_time": "2022-03-29T17:27:51.657Z"
   },
   {
    "duration": 522,
    "start_time": "2022-03-29T17:27:51.664Z"
   },
   {
    "duration": 15,
    "start_time": "2022-03-29T17:27:52.188Z"
   },
   {
    "duration": 9,
    "start_time": "2022-03-29T17:27:52.208Z"
   },
   {
    "duration": 10,
    "start_time": "2022-03-29T17:27:52.219Z"
   },
   {
    "duration": 10,
    "start_time": "2022-03-29T17:27:52.231Z"
   },
   {
    "duration": 7,
    "start_time": "2022-03-29T17:27:52.243Z"
   },
   {
    "duration": 25,
    "start_time": "2022-03-29T17:27:52.252Z"
   },
   {
    "duration": 23,
    "start_time": "2022-03-29T17:27:52.278Z"
   },
   {
    "duration": 708,
    "start_time": "2022-03-29T17:27:52.304Z"
   },
   {
    "duration": 5,
    "start_time": "2022-03-29T17:27:53.014Z"
   },
   {
    "duration": 8,
    "start_time": "2022-03-29T17:27:53.021Z"
   },
   {
    "duration": 6,
    "start_time": "2022-03-29T17:27:53.031Z"
   },
   {
    "duration": 17,
    "start_time": "2022-03-29T17:27:53.039Z"
   },
   {
    "duration": 5,
    "start_time": "2022-03-29T17:27:53.058Z"
   },
   {
    "duration": 38,
    "start_time": "2022-03-29T17:27:53.065Z"
   },
   {
    "duration": 6,
    "start_time": "2022-03-29T17:27:53.105Z"
   },
   {
    "duration": 11,
    "start_time": "2022-03-29T17:27:53.113Z"
   },
   {
    "duration": 5,
    "start_time": "2022-03-29T17:27:53.126Z"
   },
   {
    "duration": 9,
    "start_time": "2022-03-29T17:27:53.133Z"
   },
   {
    "duration": 1364,
    "start_time": "2022-03-29T17:27:53.145Z"
   },
   {
    "duration": 6447,
    "start_time": "2022-03-29T17:27:54.511Z"
   },
   {
    "duration": 1592,
    "start_time": "2022-03-29T17:28:00.961Z"
   },
   {
    "duration": 28980,
    "start_time": "2022-03-29T17:28:02.555Z"
   },
   {
    "duration": 5787,
    "start_time": "2022-03-29T17:28:31.537Z"
   },
   {
    "duration": 6,
    "start_time": "2022-03-29T17:28:37.326Z"
   },
   {
    "duration": 34,
    "start_time": "2022-03-29T17:28:37.334Z"
   },
   {
    "duration": 10,
    "start_time": "2022-03-29T17:28:37.370Z"
   },
   {
    "duration": 4,
    "start_time": "2022-03-29T17:28:37.382Z"
   },
   {
    "duration": 5,
    "start_time": "2022-03-29T17:28:37.402Z"
   },
   {
    "duration": 93,
    "start_time": "2022-03-29T17:28:37.409Z"
   },
   {
    "duration": 97,
    "start_time": "2022-03-29T17:28:37.505Z"
   },
   {
    "duration": 6,
    "start_time": "2022-03-29T17:28:37.605Z"
   },
   {
    "duration": 10,
    "start_time": "2022-03-29T17:28:37.613Z"
   },
   {
    "duration": 11,
    "start_time": "2022-03-29T17:28:37.624Z"
   },
   {
    "duration": 7,
    "start_time": "2022-03-29T17:28:37.637Z"
   },
   {
    "duration": 9,
    "start_time": "2022-03-29T17:28:37.646Z"
   },
   {
    "duration": 45,
    "start_time": "2022-03-29T17:28:37.657Z"
   },
   {
    "duration": 9,
    "start_time": "2022-03-29T17:29:54.294Z"
   },
   {
    "duration": 5,
    "start_time": "2022-03-29T17:32:36.082Z"
   },
   {
    "duration": 312,
    "start_time": "2022-03-29T17:32:36.089Z"
   },
   {
    "duration": 21,
    "start_time": "2022-03-29T17:32:36.403Z"
   },
   {
    "duration": 240,
    "start_time": "2022-03-29T17:32:36.427Z"
   },
   {
    "duration": 88,
    "start_time": "2022-03-29T17:32:36.669Z"
   },
   {
    "duration": 14,
    "start_time": "2022-03-29T17:32:36.758Z"
   },
   {
    "duration": 142,
    "start_time": "2022-03-29T17:32:36.774Z"
   },
   {
    "duration": 347,
    "start_time": "2022-03-29T17:32:36.918Z"
   },
   {
    "duration": 20,
    "start_time": "2022-03-29T17:32:37.267Z"
   },
   {
    "duration": 268,
    "start_time": "2022-03-29T17:32:37.304Z"
   },
   {
    "duration": 5,
    "start_time": "2022-03-29T17:32:37.575Z"
   },
   {
    "duration": 4,
    "start_time": "2022-03-29T17:32:37.582Z"
   },
   {
    "duration": 6,
    "start_time": "2022-03-29T17:32:37.602Z"
   },
   {
    "duration": 10,
    "start_time": "2022-03-29T17:32:37.610Z"
   },
   {
    "duration": 5,
    "start_time": "2022-03-29T17:32:37.622Z"
   },
   {
    "duration": 26,
    "start_time": "2022-03-29T17:32:37.629Z"
   },
   {
    "duration": 57,
    "start_time": "2022-03-29T17:32:37.657Z"
   },
   {
    "duration": 24,
    "start_time": "2022-03-29T17:32:37.716Z"
   },
   {
    "duration": 20,
    "start_time": "2022-03-29T17:32:37.742Z"
   },
   {
    "duration": 37,
    "start_time": "2022-03-29T17:32:37.764Z"
   },
   {
    "duration": 2754,
    "start_time": "2022-03-29T17:32:37.803Z"
   },
   {
    "duration": 2148,
    "start_time": "2022-03-29T17:32:40.559Z"
   },
   {
    "duration": 2542,
    "start_time": "2022-03-29T17:32:42.709Z"
   },
   {
    "duration": 420,
    "start_time": "2022-03-29T17:32:45.253Z"
   },
   {
    "duration": 5,
    "start_time": "2022-03-29T17:32:45.675Z"
   },
   {
    "duration": 408,
    "start_time": "2022-03-29T17:32:45.682Z"
   },
   {
    "duration": 12,
    "start_time": "2022-03-29T17:32:46.092Z"
   },
   {
    "duration": 5,
    "start_time": "2022-03-29T17:32:46.109Z"
   },
   {
    "duration": 6,
    "start_time": "2022-03-29T17:32:46.116Z"
   },
   {
    "duration": 7,
    "start_time": "2022-03-29T17:32:46.123Z"
   },
   {
    "duration": 24,
    "start_time": "2022-03-29T17:32:46.131Z"
   },
   {
    "duration": 676,
    "start_time": "2022-03-29T17:32:46.157Z"
   },
   {
    "duration": 7,
    "start_time": "2022-03-29T17:32:46.835Z"
   },
   {
    "duration": 10,
    "start_time": "2022-03-29T17:32:46.843Z"
   },
   {
    "duration": 6,
    "start_time": "2022-03-29T17:32:46.855Z"
   },
   {
    "duration": 42,
    "start_time": "2022-03-29T17:32:46.863Z"
   },
   {
    "duration": 7,
    "start_time": "2022-03-29T17:32:46.907Z"
   },
   {
    "duration": 6,
    "start_time": "2022-03-29T17:32:46.916Z"
   },
   {
    "duration": 11,
    "start_time": "2022-03-29T17:32:46.925Z"
   },
   {
    "duration": 12,
    "start_time": "2022-03-29T17:32:46.938Z"
   },
   {
    "duration": 5,
    "start_time": "2022-03-29T17:32:46.953Z"
   },
   {
    "duration": 7,
    "start_time": "2022-03-29T17:32:46.960Z"
   },
   {
    "duration": 1335,
    "start_time": "2022-03-29T17:32:46.969Z"
   },
   {
    "duration": 5354,
    "start_time": "2022-03-29T17:32:48.306Z"
   },
   {
    "duration": 1600,
    "start_time": "2022-03-29T17:32:53.662Z"
   },
   {
    "duration": 31539,
    "start_time": "2022-03-29T17:32:55.264Z"
   },
   {
    "duration": 6055,
    "start_time": "2022-03-29T17:33:26.805Z"
   },
   {
    "duration": 4,
    "start_time": "2022-03-29T17:33:32.862Z"
   },
   {
    "duration": 18,
    "start_time": "2022-03-29T17:33:32.868Z"
   },
   {
    "duration": 10,
    "start_time": "2022-03-29T17:33:32.902Z"
   },
   {
    "duration": 4,
    "start_time": "2022-03-29T17:33:32.914Z"
   },
   {
    "duration": 13,
    "start_time": "2022-03-29T17:33:32.920Z"
   },
   {
    "duration": 9,
    "start_time": "2022-03-29T17:33:32.935Z"
   },
   {
    "duration": 64,
    "start_time": "2022-03-29T17:33:32.947Z"
   },
   {
    "duration": 10,
    "start_time": "2022-03-29T17:33:33.102Z"
   },
   {
    "duration": 11,
    "start_time": "2022-03-29T17:33:33.114Z"
   },
   {
    "duration": 7,
    "start_time": "2022-03-29T17:33:33.127Z"
   },
   {
    "duration": 6,
    "start_time": "2022-03-29T17:33:33.136Z"
   },
   {
    "duration": 11,
    "start_time": "2022-03-29T17:33:33.143Z"
   },
   {
    "duration": 9,
    "start_time": "2022-03-29T17:33:33.155Z"
   },
   {
    "duration": 129,
    "start_time": "2022-03-29T17:39:42.178Z"
   },
   {
    "duration": 124,
    "start_time": "2022-03-29T17:40:05.524Z"
   },
   {
    "duration": 4,
    "start_time": "2022-03-29T17:40:23.598Z"
   },
   {
    "duration": 323,
    "start_time": "2022-03-29T17:40:23.605Z"
   },
   {
    "duration": 18,
    "start_time": "2022-03-29T17:40:23.930Z"
   },
   {
    "duration": 242,
    "start_time": "2022-03-29T17:40:23.950Z"
   },
   {
    "duration": 88,
    "start_time": "2022-03-29T17:40:24.194Z"
   },
   {
    "duration": 26,
    "start_time": "2022-03-29T17:40:24.284Z"
   },
   {
    "duration": 131,
    "start_time": "2022-03-29T17:40:24.312Z"
   },
   {
    "duration": 357,
    "start_time": "2022-03-29T17:40:24.445Z"
   },
   {
    "duration": 18,
    "start_time": "2022-03-29T17:40:24.804Z"
   },
   {
    "duration": 250,
    "start_time": "2022-03-29T17:40:24.825Z"
   },
   {
    "duration": 4,
    "start_time": "2022-03-29T17:40:25.078Z"
   },
   {
    "duration": 17,
    "start_time": "2022-03-29T17:40:25.084Z"
   },
   {
    "duration": 7,
    "start_time": "2022-03-29T17:40:25.103Z"
   },
   {
    "duration": 10,
    "start_time": "2022-03-29T17:40:25.112Z"
   },
   {
    "duration": 5,
    "start_time": "2022-03-29T17:40:25.124Z"
   },
   {
    "duration": 29,
    "start_time": "2022-03-29T17:40:25.131Z"
   },
   {
    "duration": 48,
    "start_time": "2022-03-29T17:40:25.161Z"
   },
   {
    "duration": 26,
    "start_time": "2022-03-29T17:40:25.211Z"
   },
   {
    "duration": 20,
    "start_time": "2022-03-29T17:40:25.239Z"
   },
   {
    "duration": 5,
    "start_time": "2022-03-29T17:40:25.261Z"
   },
   {
    "duration": 2161,
    "start_time": "2022-03-29T17:40:25.268Z"
   },
   {
    "duration": 1964,
    "start_time": "2022-03-29T17:40:27.431Z"
   },
   {
    "duration": 1934,
    "start_time": "2022-03-29T17:40:29.397Z"
   },
   {
    "duration": 407,
    "start_time": "2022-03-29T17:40:31.333Z"
   },
   {
    "duration": 6,
    "start_time": "2022-03-29T17:40:31.742Z"
   },
   {
    "duration": 422,
    "start_time": "2022-03-29T17:40:31.750Z"
   },
   {
    "duration": 6,
    "start_time": "2022-03-29T17:40:32.174Z"
   },
   {
    "duration": 6,
    "start_time": "2022-03-29T17:40:32.200Z"
   },
   {
    "duration": 8,
    "start_time": "2022-03-29T17:40:32.208Z"
   },
   {
    "duration": 11,
    "start_time": "2022-03-29T17:40:32.218Z"
   },
   {
    "duration": 25,
    "start_time": "2022-03-29T17:40:32.231Z"
   },
   {
    "duration": 500,
    "start_time": "2022-03-29T17:40:32.258Z"
   },
   {
    "duration": 6,
    "start_time": "2022-03-29T17:40:32.760Z"
   },
   {
    "duration": 13,
    "start_time": "2022-03-29T17:40:32.768Z"
   },
   {
    "duration": 20,
    "start_time": "2022-03-29T17:40:32.784Z"
   },
   {
    "duration": 15,
    "start_time": "2022-03-29T17:40:32.806Z"
   },
   {
    "duration": 7,
    "start_time": "2022-03-29T17:40:32.823Z"
   },
   {
    "duration": 15,
    "start_time": "2022-03-29T17:40:32.832Z"
   },
   {
    "duration": 9,
    "start_time": "2022-03-29T17:40:32.849Z"
   },
   {
    "duration": 13,
    "start_time": "2022-03-29T17:40:32.860Z"
   },
   {
    "duration": 6,
    "start_time": "2022-03-29T17:40:32.875Z"
   },
   {
    "duration": 23,
    "start_time": "2022-03-29T17:40:32.883Z"
   },
   {
    "duration": 1303,
    "start_time": "2022-03-29T17:40:32.907Z"
   },
   {
    "duration": 5309,
    "start_time": "2022-03-29T17:40:34.303Z"
   },
   {
    "duration": 1662,
    "start_time": "2022-03-29T17:40:39.614Z"
   },
   {
    "duration": 31125,
    "start_time": "2022-03-29T17:40:41.278Z"
   },
   {
    "duration": 5868,
    "start_time": "2022-03-29T17:41:12.405Z"
   },
   {
    "duration": 4,
    "start_time": "2022-03-29T17:41:18.276Z"
   },
   {
    "duration": 30,
    "start_time": "2022-03-29T17:41:18.282Z"
   },
   {
    "duration": 9,
    "start_time": "2022-03-29T17:41:18.314Z"
   },
   {
    "duration": 5,
    "start_time": "2022-03-29T17:41:18.325Z"
   },
   {
    "duration": 12,
    "start_time": "2022-03-29T17:41:18.331Z"
   },
   {
    "duration": 10,
    "start_time": "2022-03-29T17:41:18.345Z"
   },
   {
    "duration": 8,
    "start_time": "2022-03-29T17:41:18.402Z"
   },
   {
    "duration": 9,
    "start_time": "2022-03-29T17:41:18.501Z"
   },
   {
    "duration": 8,
    "start_time": "2022-03-29T17:41:18.512Z"
   },
   {
    "duration": 8,
    "start_time": "2022-03-29T17:41:18.521Z"
   },
   {
    "duration": 6,
    "start_time": "2022-03-29T17:41:18.531Z"
   },
   {
    "duration": 7,
    "start_time": "2022-03-29T17:41:18.539Z"
   },
   {
    "duration": 9,
    "start_time": "2022-03-29T17:41:18.548Z"
   }
  ],
  "kernelspec": {
   "display_name": "Python 3 (ipykernel)",
   "language": "python",
   "name": "python3"
  },
  "language_info": {
   "codemirror_mode": {
    "name": "ipython",
    "version": 3
   },
   "file_extension": ".py",
   "mimetype": "text/x-python",
   "name": "python",
   "nbconvert_exporter": "python",
   "pygments_lexer": "ipython3",
   "version": "3.9.5"
  },
  "toc": {
   "base_numbering": 1,
   "nav_menu": {},
   "number_sections": true,
   "sideBar": true,
   "skip_h1_title": true,
   "title_cell": "Содержание",
   "title_sidebar": "Contents",
   "toc_cell": true,
   "toc_position": {
    "height": "calc(100% - 180px)",
    "left": "10px",
    "top": "150px",
    "width": "368.391px"
   },
   "toc_section_display": true,
   "toc_window_display": true
  }
 },
 "nbformat": 4,
 "nbformat_minor": 2
}
